{
 "cells": [
  {
   "cell_type": "markdown",
   "metadata": {
    "application/vnd.databricks.v1+cell": {
     "cellMetadata": {},
     "inputWidgets": {},
     "nuid": "f47006fa-bed4-42e3-b9ec-340124a314cc",
     "showTitle": false,
     "title": ""
    }
   },
   "source": [
    "## Git - extra tips\n",
    "This is just a short document where you can find a few extre tips on how to work with Git.\n",
    "\n",
    "### 1. CodeCommit\n",
    "What you see in your instance is just your local repository. Sometimes, you might be interested in seeing what is in remote repository. For example, you have commited to your branch submission of your artificial use case and you would like to make sure that it safely arrived to the remote repository.\n",
    "\n",
    "You can head over to AWS Management Console and here find a product called CodeCommit. It is nicely intuitive and you could examine our remote repository through various branches or commits.\n",
    "\n",
    "### 2. Reseting Git\n",
    "\n",
    "Situation is as follows:\n",
    "You have been working on notebooks during a virtual classrooms, maybe also started to work on use case and for some reason would like to have the newest materials from master on your own branch. \n",
    "\n",
    "Solution:\n",
    "\n",
    "- Take everything which you have in your work folder to the root, so simply outside of work folder. \n",
    "- Switch to master “git checkout master”\n",
    "- Fetch any recent change in remote “git fetch --all”\n",
    "- Reset any changes in the local repository. Careful, this literally deletes everything inside the work folder, that is why all the notebooks and any material that the student worked on needs to be outside of work. “git reset --hard origin/master”\n",
    "- Now you should see a fresh pull from master inside work.\n",
    "- Switch to your original branch “git checkout student-original-branch”\n",
    "- Bring the stuff from root back to the work folder and organize it as wished. Commit and push\n",
    "\n",
    "This way you basically trick git into thinking that your local repository became empty and forced it load everything fresh from master. Afterwards, "
   ]
  }
 ],
 "metadata": {
  "application/vnd.databricks.v1+notebook": {
   "dashboards": [],
   "environmentMetadata": null,
   "language": "python",
   "notebookMetadata": {},
   "notebookName": "git-extra-tips",
   "widgets": {}
  }
 },
 "nbformat": 4,
 "nbformat_minor": 0
}
