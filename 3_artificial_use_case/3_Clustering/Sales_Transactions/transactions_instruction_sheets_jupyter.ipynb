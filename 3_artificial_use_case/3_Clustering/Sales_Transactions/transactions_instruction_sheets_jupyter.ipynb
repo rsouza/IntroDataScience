{
 "cells": [
  {
   "cell_type": "markdown",
   "metadata": {
    "application/vnd.databricks.v1+cell": {
     "cellMetadata": {},
     "inputWidgets": {},
     "nuid": "b2f053cc-df23-4e97-9139-3940f3942b4b",
     "showTitle": false,
     "title": ""
    }
   },
   "source": [
    "# Clustering Task Instruction\n",
    "\n",
    "In this task, we will work on some clustering problems. The [dataset](https://www.kaggle.com/datasets/crawford/weekly-sales-transactions) we will be working on is a 52-week of sales transaction report. The **ultimate goal** of this task is to find similar time series in the sales transaction data."
   ]
  },
  {
   "cell_type": "markdown",
   "metadata": {
    "application/vnd.databricks.v1+cell": {
     "cellMetadata": {},
     "inputWidgets": {},
     "nuid": "728f193d-ede6-4c11-a76f-9f2f2b6cd197",
     "showTitle": false,
     "title": ""
    }
   },
   "source": [
    "## 1. Dataset Information\n",
    "We have only one csv file prepared for you. There are 53 attributes with 811 entries (or rows) in the file.\n",
    "The first column is Product_Code, then we have the rest of 52 columns corresponding to 52 weeks of our sales transactions. The normalised values are also provided."
   ]
  },
  {
   "cell_type": "markdown",
   "metadata": {
    "application/vnd.databricks.v1+cell": {
     "cellMetadata": {},
     "inputWidgets": {},
     "nuid": "562686f0-9c87-4ba1-8831-6d76812ba53d",
     "showTitle": false,
     "title": ""
    }
   },
   "source": [
    "## 2. Importing the Dataset\n",
    "A dataset can be imported directly from a `.zip` file.\n",
    "To import a dataset, you will need to specify the file where is dataset is located.\n",
    "The relative path below is correct for the location of this instruction file.\n",
    "````python\n",
    "import pandas as pd\n",
    "import zipfile\n",
    "\n",
    "zf = zipfile.ZipFile('Data/sales_transactions_dataset_weekly.zip') \n",
    "df = pd.read_csv(zf.open('sales_transactions_dataset_weekly.csv'))\n",
    "````\n",
    "This is specific to our repository."
   ]
  },
  {
   "cell_type": "markdown",
   "metadata": {
    "application/vnd.databricks.v1+cell": {
     "cellMetadata": {},
     "inputWidgets": {},
     "nuid": "70c4bdcc-ec53-43de-b328-7c15a75b2773",
     "showTitle": false,
     "title": ""
    }
   },
   "source": [
    "## 3. Task Instruction\n",
    "The steps below are served as a guidance to solve this clustering problem. They are by no means a must or the only way to solve this partcular dataset. Feel free to use what you have learned in the previous program and to be creative. Try to find out your own approach to this problem.\n",
    "\n",
    "**Step 1: Data loading & preprocessing**\n",
    "- load the data into Python Notebook and convert it to the appropriate format (dataframe, numpy.array, list, etc.)\n",
    "- observe & explore the dataset\n",
    "- check for null values\n",
    "\n",
    "**Step 2: Data modelling**\n",
    "- standardize the data to normal distribution \n",
    "- pick one data modelling approach respectively the Python modelling package that you would like to use\n",
    "- fit the training dataset to the model and train the model\n",
    "- output the model \n",
    "\n",
    "**Step 3: Result extration & interpretation**\n",
    "- make your conclusions and interpretation on the model and final results\n",
    "- evaluate the performance of your model and algorithm using different KPIs \n",
    "\n",
    "**Note!** Important criteria for evaluating your use case are well-documented cells, a good structure of the notebook with headers which are depicting various parts of it, and short comments on each part with reflections and insights that you gained."
   ]
  },
  {
   "cell_type": "markdown",
   "metadata": {
    "application/vnd.databricks.v1+cell": {
     "cellMetadata": {},
     "inputWidgets": {},
     "nuid": "967ebee4-3637-4e59-8e25-8333d9866e0b",
     "showTitle": false,
     "title": ""
    }
   },
   "source": [
    "## 4. Additional Resources:\n",
    "   \n",
    "**Packages that might be useful for you:**\n",
    "- pandas\n",
    "- numpy\n",
    "- sklearn\n",
    "- sklearn.cluster\n",
    "- matplotlib \n",
    "\n",
    "**Useful links:**\n",
    "- k-means clustering: https://en.wikipedia.org/wiki/K-means_clustering\n",
    "- hierarchical clustering: https://en.wikipedia.org/wiki/Hierarchical_clustering & https://towardsdatascience.com/understanding-the-concept-of-hierarchical-clustering-technique-c6e8243758ec\n",
    "- the elbow method: https://en.wikipedia.org/wiki/Elbow_method_(clustering)#:~:text=In%20cluster%20analysis%2C%20the%20elbow,number%20of%20clusters%20to%20use.\n",
    "\n",
    "   "
   ]
  },
  {
   "cell_type": "markdown",
   "metadata": {
    "application/vnd.databricks.v1+cell": {
     "cellMetadata": {},
     "inputWidgets": {},
     "nuid": "d4b906aa-ca18-4a28-a3bf-207ac5a6833d",
     "showTitle": false,
     "title": ""
    }
   },
   "source": [
    "**Dataset citation:**  \n",
    "[[Tan et al., 2014] Tan, S.C., Lau, J.P.S. (2014). Time Series Clustering: A Superior Alternative for Market Basket Analysis. In: Herawan, T., Deris, M., Abawajy, J. (eds) Proceedings of the First International Conference on Advanced Data and Information Engineering (DaEng-2013). Lecture Notes in Electrical Engineering, vol 285. Springer, Singapore.](https://link.springer.com/chapter/10.1007/978-981-4585-18-7_28)"
   ]
  }
 ],
 "metadata": {
  "application/vnd.databricks.v1+notebook": {
   "dashboards": [],
   "language": "python",
   "notebookMetadata": {},
   "notebookName": "transactions_instruction_sheets_jupyter",
   "widgets": {}
  },
  "language_info": {
   "name": "python"
  }
 },
 "nbformat": 4,
 "nbformat_minor": 0
}
