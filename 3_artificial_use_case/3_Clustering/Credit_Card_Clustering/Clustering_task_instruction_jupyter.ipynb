{
 "cells": [
  {
   "cell_type": "markdown",
   "metadata": {
    "application/vnd.databricks.v1+cell": {
     "cellMetadata": {},
     "inputWidgets": {},
     "nuid": "ef806964-235e-4e14-9c10-6d4928658c63",
     "showTitle": false,
     "title": ""
    }
   },
   "source": [
    "# Clustering Task Instruction\n",
    "\n",
    "In this task, we will work on some clustering problems. The dataset we will be working on is a 52-week of sales transaction report. The **ultimate goal** of this task is to find similar time series in the sales transaction data."
   ]
  },
  {
   "cell_type": "markdown",
   "metadata": {
    "application/vnd.databricks.v1+cell": {
     "cellMetadata": {},
     "inputWidgets": {},
     "nuid": "3aee7666-5e11-4e09-92a0-bf0e583126d9",
     "showTitle": false,
     "title": ""
    }
   },
   "source": [
    "## 1. Dataset Information\n",
    "The variable description is taken directly from the [dataset source](https://www.kaggle.com/datasets/arjunbhasin2013/ccdata).\n",
    "The dataset summarizes the usage behavior of about 9000 active credit card holders during a timeframe of 6 months.\n",
    "The file is at a customer level with 18 behavioral variables:\n",
    "\n",
    "- `CUST_ID`: Identification of Credit Card holder (Categorical)\n",
    "- `BALANCE`: Balance amount left in their account to make purchases (\n",
    "- `BALANCE_FREQUENCY`: How frequently the Balance is updated, score between 0 and 1 (1 = frequently updated, 0 = not frequently updated)\n",
    "- `PURCHASES`: Amount of purchases made from account\n",
    "- `ONEOFF_PURCHASES`: Maximum purchase amount done in one-go\n",
    "- `INSTALLMENTS_PURCHASES`: Amount of purchase done in installment\n",
    "- `CASH_ADVANCE`: Cash in advance given by the user\n",
    "- `PURCHASES_FREQUENCY`: How frequently the Purchases are being made, score between 0 and 1 (1 = frequently purchased, 0 = not frequently purchased)\n",
    "- `ONEOFFPURCHASESFREQUENCY`: How frequently Purchases are happening in one-go (1 = frequently purchased, 0 = not frequently purchased)\n",
    "- `PURCHASESINSTALLMENTSFREQUENCY`: How frequently purchases in installments are being done (1 = frequently done, 0 = not frequently done)\n",
    "- `CASHADVANCEFREQUENCY`: How frequently the cash in advance being paid\n",
    "- `CASHADVANCETRX`: Number of Transactions made with \"Cash in Advanced\"\n",
    "- `PURCHASES_TRX`: Numbe of purchase transactions made\n",
    "- `CREDIT_LIMIT`: Limit of Credit Card for user\n",
    "- `PAYMENTS`: Amount of Payment done by user\n",
    "- `MINIMUM_PAYMENTS`: Minimum amount of payments made by user\n",
    "- `PRCFULLPAYMENT`: Percent of full payment paid by user\n",
    "- `TENURE`: Tenure of credit card service for user"
   ]
  },
  {
   "cell_type": "markdown",
   "metadata": {
    "application/vnd.databricks.v1+cell": {
     "cellMetadata": {},
     "inputWidgets": {},
     "nuid": "4d4cc13f-d7b7-41d0-9a0a-e8aeffcf2f0a",
     "showTitle": false,
     "title": ""
    }
   },
   "source": [
    "## 2. Importing the Dataset\n",
    "A dataset can be imported directly from a `.zip` file.\n",
    "To import a dataset, you will need to specify the file where is dataset is located.\n",
    "The relative path below is correct for the location of this instruction file.\n",
    "````python\n",
    "import pandas as pd\n",
    "import zipfile\n",
    "\n",
    "zf = zipfile.ZipFile('Data/CC_GENERAL.zip') \n",
    "df = pd.read_csv(zf.open('CC_GENERAL.csv'))\n",
    "````\n",
    "This is specific to our repository."
   ]
  },
  {
   "cell_type": "markdown",
   "metadata": {
    "application/vnd.databricks.v1+cell": {
     "cellMetadata": {},
     "inputWidgets": {},
     "nuid": "f86c5f45-7730-448e-91c4-67915f7a0e26",
     "showTitle": false,
     "title": ""
    }
   },
   "source": [
    "## 3. Task Instruction\n",
    "The steps below are served as a guidance to solve this clustering problem. They are by no means a must or the only way to solve this partcular dataset. Feel free to use what you have learned in the previous program and to be creative. Try to find out your own approach to this problem.\n",
    "\n",
    "**Step 1: Data loading & preprocessing**\n",
    "- load the data into Python Notebook and convert it to the appropriate format (dataframe, numpy.array, list, etc.)\n",
    "- observe & explore the dataset\n",
    "- check for null values\n",
    "\n",
    "**Step 2: Data modelling**\n",
    "- standardize the data to normal distribution \n",
    "- pick one data modelling approach respectively the Python modelling package that you would like to use\n",
    "- fit the training dataset to the model and train the model\n",
    "- output the model \n",
    "\n",
    "**Step 3: Result extration & interpretation**\n",
    "- make your conclusions and interpretation on the model and final results\n",
    "- evaluate the performance of your model and algorithm using different KPIs \n",
    "\n",
    "**Note!** Important criteria for evaluating your use case are well-documented cells, a good structure of the notebook with headers which are depicting various parts of it, and short comments on each part with reflections and insights that you gained."
   ]
  },
  {
   "cell_type": "markdown",
   "metadata": {
    "application/vnd.databricks.v1+cell": {
     "cellMetadata": {},
     "inputWidgets": {},
     "nuid": "d0e68cc0-15f6-4ab5-af72-ecd1865bb9e8",
     "showTitle": false,
     "title": ""
    }
   },
   "source": [
    "## 4. Additional Resources:\n",
    "   \n",
    "**Packages that might be useful for you:**\n",
    "- pandas\n",
    "- numpy\n",
    "- sklearn\n",
    "- sklearn.cluster\n",
    "- matplotlib \n",
    "\n",
    "**Useful links:**\n",
    "- k-means clustering: https://en.wikipedia.org/wiki/K-means_clustering\n",
    "- hierarchical clustering: https://en.wikipedia.org/wiki/Hierarchical_clustering & https://towardsdatascience.com/understanding-the-concept-of-hierarchical-clustering-technique-c6e8243758ec\n",
    "- the elbow method: https://en.wikipedia.org/wiki/Elbow_method_(clustering)#:~:text=In%20cluster%20analysis%2C%20the%20elbow,number%20of%20clusters%20to%20use.\n",
    "\n",
    "   "
   ]
  },
  {
   "cell_type": "markdown",
   "metadata": {
    "application/vnd.databricks.v1+cell": {
     "cellMetadata": {},
     "inputWidgets": {},
     "nuid": "8c2a3738-d92b-452f-af65-aaf29654d82c",
     "showTitle": false,
     "title": ""
    }
   },
   "source": [
    "**Dataset citation:**\n",
    "https://www.kaggle.com/datasets/arjunbhasin2013/ccdata"
   ]
  }
 ],
 "metadata": {
  "application/vnd.databricks.v1+notebook": {
   "dashboards": [],
   "language": "python",
   "notebookMetadata": {
    "pythonIndentUnit": 4
   },
   "notebookName": "Clustering_task_instruction_jupyter",
   "widgets": {}
  }
 },
 "nbformat": 4,
 "nbformat_minor": 0
}
