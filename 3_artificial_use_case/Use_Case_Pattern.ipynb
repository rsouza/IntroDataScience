{
 "cells": [
  {
   "cell_type": "markdown",
   "metadata": {
    "application/vnd.databricks.v1+cell": {
     "cellMetadata": {},
     "inputWidgets": {},
     "nuid": "c818683f-40d4-4d92-9e6e-6d8cd5fd246a",
     "showTitle": false,
     "title": ""
    }
   },
   "source": [
    "*This is the pattern of your use-case with the main structure. Feel free to extend it, add sections and subsections.*\n",
    "\n",
    "Please name your notebook **'Surname_Task_Dataset'**, where \n",
    "\n",
    "* Surname is your last name\n",
    "* Task is one of the three task types (**Classification**, **Regression** or **Clustering**)\n",
    "* Dataset is the name of the dataset used (Classification: **Bank_Marketing, Company_Bankruptcy**; Regression: **Diamond_Prices, Happiness_Report**; Clustering: **Credit_Card, Sales_Transactions**)\n",
    "\n",
    "For example: Mayer_Regression_Happiness_Report.py"
   ]
  },
  {
   "cell_type": "markdown",
   "metadata": {
    "application/vnd.databricks.v1+cell": {
     "cellMetadata": {},
     "inputWidgets": {},
     "nuid": "81637625-7005-4227-9f09-f69d34c5c079",
     "showTitle": false,
     "title": ""
    }
   },
   "source": [
    "# 1. Data Loading & Preprocessing"
   ]
  },
  {
   "cell_type": "markdown",
   "metadata": {
    "application/vnd.databricks.v1+cell": {
     "cellMetadata": {},
     "inputWidgets": {},
     "nuid": "91f7d2ec-6d1b-4904-94ef-e420ddf6679e",
     "showTitle": false,
     "title": ""
    }
   },
   "source": [
    "Using the knowledge and skills acquired in the first part of Module A (Data Preprocessing), take the first step of the data analysis process."
   ]
  },
  {
   "cell_type": "markdown",
   "metadata": {
    "application/vnd.databricks.v1+cell": {
     "cellMetadata": {},
     "inputWidgets": {},
     "nuid": "f41418ec-58f0-40aa-8955-3b28bc1f62d8",
     "showTitle": false,
     "title": ""
    }
   },
   "source": [
    "## 1.1 Import necessary libraries"
   ]
  },
  {
   "cell_type": "code",
   "execution_count": 0,
   "metadata": {
    "application/vnd.databricks.v1+cell": {
     "cellMetadata": {},
     "inputWidgets": {},
     "nuid": "321cc80e-61e7-4d29-ab9d-b8e7f8aa63e5",
     "showTitle": false,
     "title": ""
    }
   },
   "outputs": [],
   "source": [
    "# Your code here"
   ]
  },
  {
   "cell_type": "markdown",
   "metadata": {
    "application/vnd.databricks.v1+cell": {
     "cellMetadata": {},
     "inputWidgets": {},
     "nuid": "bb3e39b0-36cb-4889-8f51-1e749832df7a",
     "showTitle": false,
     "title": ""
    }
   },
   "source": [
    "## 1.2 Load the dataset"
   ]
  },
  {
   "cell_type": "code",
   "execution_count": 0,
   "metadata": {
    "application/vnd.databricks.v1+cell": {
     "cellMetadata": {},
     "inputWidgets": {},
     "nuid": "15c314bf-2ecb-4181-b7c7-9da9bc6fbde2",
     "showTitle": false,
     "title": ""
    }
   },
   "outputs": [],
   "source": [
    "# Your code here"
   ]
  },
  {
   "cell_type": "markdown",
   "metadata": {
    "application/vnd.databricks.v1+cell": {
     "cellMetadata": {},
     "inputWidgets": {},
     "nuid": "d660ae51-6bf0-40ec-9d86-0e1201490e9f",
     "showTitle": false,
     "title": ""
    }
   },
   "source": [
    "## 1.3 Explore the dataset"
   ]
  },
  {
   "cell_type": "markdown",
   "metadata": {
    "application/vnd.databricks.v1+cell": {
     "cellMetadata": {},
     "inputWidgets": {},
     "nuid": "d06f9b57-a4af-4f34-8da7-8861ffc3aa1e",
     "showTitle": false,
     "title": ""
    }
   },
   "source": [
    "In this section you will take a first look at the data, check the columns, data types and basic statistics."
   ]
  },
  {
   "cell_type": "code",
   "execution_count": 0,
   "metadata": {
    "application/vnd.databricks.v1+cell": {
     "cellMetadata": {},
     "inputWidgets": {},
     "nuid": "02c0788d-d084-4294-bbcb-24e4c28d77a3",
     "showTitle": false,
     "title": ""
    }
   },
   "outputs": [],
   "source": [
    "# Your code here"
   ]
  },
  {
   "cell_type": "markdown",
   "metadata": {
    "application/vnd.databricks.v1+cell": {
     "cellMetadata": {},
     "inputWidgets": {},
     "nuid": "2d65a627-87f7-4f5c-8693-cf3b737c8ce6",
     "showTitle": false,
     "title": ""
    }
   },
   "source": [
    "## 1.4 Preprocessing"
   ]
  },
  {
   "cell_type": "markdown",
   "metadata": {
    "application/vnd.databricks.v1+cell": {
     "cellMetadata": {},
     "inputWidgets": {},
     "nuid": "724bb5fc-045f-4c3b-8bce-2fabf9672889",
     "showTitle": false,
     "title": ""
    }
   },
   "source": [
    "In this section, you will preprocess the dataset. You can rename columns, work with missing values, duplicate rows, incorrect values, use feature scaling (if needed) etc."
   ]
  },
  {
   "cell_type": "code",
   "execution_count": 0,
   "metadata": {
    "application/vnd.databricks.v1+cell": {
     "cellMetadata": {},
     "inputWidgets": {},
     "nuid": "6700bfb5-d6ee-4992-96b3-aa876434bbca",
     "showTitle": false,
     "title": ""
    }
   },
   "outputs": [],
   "source": [
    "# Your code here"
   ]
  },
  {
   "cell_type": "markdown",
   "metadata": {
    "application/vnd.databricks.v1+cell": {
     "cellMetadata": {},
     "inputWidgets": {},
     "nuid": "c39f59bd-2d70-46f4-a422-205660e5409d",
     "showTitle": false,
     "title": ""
    }
   },
   "source": [
    "Write a short comment at the end of this section where you reflect on what you learned about the data."
   ]
  },
  {
   "cell_type": "markdown",
   "metadata": {
    "application/vnd.databricks.v1+cell": {
     "cellMetadata": {},
     "inputWidgets": {},
     "nuid": "648bbc4e-8289-49e4-bc90-7a1a2858f951",
     "showTitle": false,
     "title": ""
    }
   },
   "source": [
    "# 2. Data Visualisation & Exploration"
   ]
  },
  {
   "cell_type": "markdown",
   "metadata": {
    "application/vnd.databricks.v1+cell": {
     "cellMetadata": {},
     "inputWidgets": {},
     "nuid": "0f0c0b34-eab9-419b-939e-e36d6f7591d7",
     "showTitle": false,
     "title": ""
    }
   },
   "source": [
    "Using the knowledge gained in the second part of module A of our course (Data Visualization), complete the second stage of the data analysis process."
   ]
  },
  {
   "cell_type": "markdown",
   "metadata": {
    "application/vnd.databricks.v1+cell": {
     "cellMetadata": {},
     "inputWidgets": {},
     "nuid": "29ba895d-7979-4c87-9341-1abac108b39c",
     "showTitle": false,
     "title": ""
    }
   },
   "source": [
    "## 2.1 Univariate analysis"
   ]
  },
  {
   "cell_type": "markdown",
   "metadata": {
    "application/vnd.databricks.v1+cell": {
     "cellMetadata": {},
     "inputWidgets": {},
     "nuid": "2b464b94-af91-4d48-b954-08442d80d1a8",
     "showTitle": false,
     "title": ""
    }
   },
   "source": [
    "In this section, you will create univariate plots for numeric and categorical features."
   ]
  },
  {
   "cell_type": "code",
   "execution_count": 0,
   "metadata": {
    "application/vnd.databricks.v1+cell": {
     "cellMetadata": {},
     "inputWidgets": {},
     "nuid": "0580bb8c-5fd1-4aa4-b762-d1c1e583062c",
     "showTitle": false,
     "title": ""
    }
   },
   "outputs": [],
   "source": [
    "# Your code here"
   ]
  },
  {
   "cell_type": "markdown",
   "metadata": {
    "application/vnd.databricks.v1+cell": {
     "cellMetadata": {},
     "inputWidgets": {},
     "nuid": "7086f673-5746-45f2-a243-13d05308ad08",
     "showTitle": false,
     "title": ""
    }
   },
   "source": [
    "## 2.2 Bivariate & multivariate analysis"
   ]
  },
  {
   "cell_type": "markdown",
   "metadata": {
    "application/vnd.databricks.v1+cell": {
     "cellMetadata": {},
     "inputWidgets": {},
     "nuid": "8d604f01-7184-435f-bd63-4d8e9df733c4",
     "showTitle": false,
     "title": ""
    }
   },
   "source": [
    "In this section, you will create bivariate and multivariate plots."
   ]
  },
  {
   "cell_type": "code",
   "execution_count": 0,
   "metadata": {
    "application/vnd.databricks.v1+cell": {
     "cellMetadata": {},
     "inputWidgets": {},
     "nuid": "ad950631-dd79-45f4-8428-b93d6b47343d",
     "showTitle": false,
     "title": ""
    }
   },
   "outputs": [],
   "source": [
    "# Your code here"
   ]
  },
  {
   "cell_type": "markdown",
   "metadata": {
    "application/vnd.databricks.v1+cell": {
     "cellMetadata": {},
     "inputWidgets": {},
     "nuid": "f2ce752c-476f-499a-8231-bbe0c22e8a15",
     "showTitle": false,
     "title": ""
    }
   },
   "source": [
    "At the end of this section, write what insights you gained from the visualizations and how these visualizations contributed to the data analysis process."
   ]
  },
  {
   "cell_type": "markdown",
   "metadata": {
    "application/vnd.databricks.v1+cell": {
     "cellMetadata": {},
     "inputWidgets": {},
     "nuid": "082df644-e3a1-48ea-9e5d-7a74fbb3fdcd",
     "showTitle": false,
     "title": ""
    }
   },
   "source": [
    "# 3. Data modelling"
   ]
  },
  {
   "cell_type": "markdown",
   "metadata": {
    "application/vnd.databricks.v1+cell": {
     "cellMetadata": {},
     "inputWidgets": {},
     "nuid": "19bca432-e362-4f79-9488-7df1d7ae81ae",
     "showTitle": false,
     "title": ""
    }
   },
   "source": [
    "## 3.1 Baseline model"
   ]
  },
  {
   "cell_type": "markdown",
   "metadata": {
    "application/vnd.databricks.v1+cell": {
     "cellMetadata": {},
     "inputWidgets": {},
     "nuid": "948f5dca-a07f-4f99-91b0-3fad4bf9caa6",
     "showTitle": false,
     "title": ""
    }
   },
   "source": [
    "In the first part of Module C (Supervised learning & Unsupervised learning), we discussed the importance of using a baseline model. Use DummyClassifier and evaluate the results to see how good your baseline model is."
   ]
  },
  {
   "cell_type": "code",
   "execution_count": 0,
   "metadata": {
    "application/vnd.databricks.v1+cell": {
     "cellMetadata": {},
     "inputWidgets": {},
     "nuid": "543106d1-a457-4f34-9176-51be8ee4eefa",
     "showTitle": false,
     "title": ""
    }
   },
   "outputs": [],
   "source": [
    "# Your code here"
   ]
  },
  {
   "cell_type": "markdown",
   "metadata": {
    "application/vnd.databricks.v1+cell": {
     "cellMetadata": {},
     "inputWidgets": {},
     "nuid": "dbde3504-f5b8-4d44-9b03-0536d636ba00",
     "showTitle": false,
     "title": ""
    }
   },
   "source": [
    "## 3.2 Learning models"
   ]
  },
  {
   "cell_type": "markdown",
   "metadata": {
    "application/vnd.databricks.v1+cell": {
     "cellMetadata": {},
     "inputWidgets": {},
     "nuid": "a17785b9-b9ec-43d0-998d-568b4d14ed57",
     "showTitle": false,
     "title": ""
    }
   },
   "source": [
    "Try out other machine learning models (for example, decision tree, logistic\n",
    "regression, random forest etc.). For this section you may need to recap the second part of Module B (Machine Learning) and the first part of Module C (Supervised learning & Unsupervised learning)."
   ]
  },
  {
   "cell_type": "code",
   "execution_count": 0,
   "metadata": {
    "application/vnd.databricks.v1+cell": {
     "cellMetadata": {},
     "inputWidgets": {},
     "nuid": "10b6a25e-cd0c-4fb0-a990-9c9c93bcaddf",
     "showTitle": false,
     "title": ""
    }
   },
   "outputs": [],
   "source": [
    "# Your code here"
   ]
  },
  {
   "cell_type": "markdown",
   "metadata": {
    "application/vnd.databricks.v1+cell": {
     "cellMetadata": {},
     "inputWidgets": {},
     "nuid": "aa3e4163-6e23-4e5c-bd46-0396ca221267",
     "showTitle": false,
     "title": ""
    }
   },
   "source": [
    "## 3.3 [OPTIONAL] Ensemble models"
   ]
  },
  {
   "cell_type": "markdown",
   "metadata": {
    "application/vnd.databricks.v1+cell": {
     "cellMetadata": {},
     "inputWidgets": {},
     "nuid": "d2171523-cfab-4383-8a24-fca8cd0985cc",
     "showTitle": false,
     "title": ""
    }
   },
   "source": [
    "In the second part of module B (Machine Learning), we studied ensemble models and their advantages over simple models. In this section, you can experiment with different ensemble techniques and see how your results improve."
   ]
  },
  {
   "cell_type": "code",
   "execution_count": 0,
   "metadata": {
    "application/vnd.databricks.v1+cell": {
     "cellMetadata": {},
     "inputWidgets": {},
     "nuid": "172a304e-528f-49ff-aa2c-f2a90d7c91f7",
     "showTitle": false,
     "title": ""
    }
   },
   "outputs": [],
   "source": [
    "# Your code here"
   ]
  },
  {
   "cell_type": "markdown",
   "metadata": {
    "application/vnd.databricks.v1+cell": {
     "cellMetadata": {},
     "inputWidgets": {},
     "nuid": "fbc8ef19-abd8-4577-b075-4cfcbaf38615",
     "showTitle": false,
     "title": ""
    }
   },
   "source": [
    "## 3.4 [OPTIONAL] Pipelines"
   ]
  },
  {
   "cell_type": "markdown",
   "metadata": {
    "application/vnd.databricks.v1+cell": {
     "cellMetadata": {},
     "inputWidgets": {},
     "nuid": "934c5aaf-482c-48fd-abb7-986410bb6d23",
     "showTitle": false,
     "title": ""
    }
   },
   "source": [
    "In this section, you can try to create a composite estimator, which we discussed in the first part of module C (Supervised learning & Unsupervised learning)."
   ]
  },
  {
   "cell_type": "code",
   "execution_count": 0,
   "metadata": {
    "application/vnd.databricks.v1+cell": {
     "cellMetadata": {},
     "inputWidgets": {},
     "nuid": "8b60d12e-9acf-4bdd-bff8-e6f4fa4b23db",
     "showTitle": false,
     "title": ""
    }
   },
   "outputs": [],
   "source": [
    "# Your code here"
   ]
  },
  {
   "cell_type": "markdown",
   "metadata": {
    "application/vnd.databricks.v1+cell": {
     "cellMetadata": {},
     "inputWidgets": {},
     "nuid": "4bc9ecae-0627-45bf-b6ec-0ffed728b8ca",
     "showTitle": false,
     "title": ""
    }
   },
   "source": [
    "# 4. [OPTIONAL] Advanced modelling"
   ]
  },
  {
   "cell_type": "markdown",
   "metadata": {
    "application/vnd.databricks.v1+cell": {
     "cellMetadata": {},
     "inputWidgets": {},
     "nuid": "b85613e2-0dee-4a3b-99a0-bb4df17ed3f4",
     "showTitle": false,
     "title": ""
    }
   },
   "source": [
    "In the first part of Module C (Supervised learning & Unsupervised learning), we studied more advanced tools such as hyperparameter optimization, AutoML, and others. In this section, you can try using these tools on your dataset."
   ]
  },
  {
   "cell_type": "markdown",
   "metadata": {
    "application/vnd.databricks.v1+cell": {
     "cellMetadata": {},
     "inputWidgets": {},
     "nuid": "05b8b1c3-d9f6-48ee-9186-24b95f768c06",
     "showTitle": false,
     "title": ""
    }
   },
   "source": [
    "## 4.1 Hyperparameter optimization"
   ]
  },
  {
   "cell_type": "code",
   "execution_count": 0,
   "metadata": {
    "application/vnd.databricks.v1+cell": {
     "cellMetadata": {},
     "inputWidgets": {},
     "nuid": "0e0f966e-40fa-4f2b-be99-5816986b6928",
     "showTitle": false,
     "title": ""
    }
   },
   "outputs": [],
   "source": [
    "# Your code here"
   ]
  },
  {
   "cell_type": "markdown",
   "metadata": {
    "application/vnd.databricks.v1+cell": {
     "cellMetadata": {},
     "inputWidgets": {},
     "nuid": "fdd9af76-d9d4-4050-9ed0-830b3fa7b2cb",
     "showTitle": false,
     "title": ""
    }
   },
   "source": [
    "## 4.2 AutoML"
   ]
  },
  {
   "cell_type": "code",
   "execution_count": 0,
   "metadata": {
    "application/vnd.databricks.v1+cell": {
     "cellMetadata": {},
     "inputWidgets": {},
     "nuid": "c3968f07-c027-483e-9abd-1c7288ad2664",
     "showTitle": false,
     "title": ""
    }
   },
   "outputs": [],
   "source": [
    "# Your code here"
   ]
  },
  {
   "cell_type": "markdown",
   "metadata": {
    "application/vnd.databricks.v1+cell": {
     "cellMetadata": {},
     "inputWidgets": {},
     "nuid": "2a7d8026-b529-4779-8ca3-72ddfdf3a226",
     "showTitle": false,
     "title": ""
    }
   },
   "source": [
    "At the end of this section, describe how the advanced tools you learned in our course impacted your results."
   ]
  },
  {
   "cell_type": "markdown",
   "metadata": {
    "application/vnd.databricks.v1+cell": {
     "cellMetadata": {},
     "inputWidgets": {},
     "nuid": "435c439b-9844-4c06-b105-97b9b714a4be",
     "showTitle": false,
     "title": ""
    }
   },
   "source": [
    "# 5. Result extration & interpretation"
   ]
  },
  {
   "cell_type": "code",
   "execution_count": 0,
   "metadata": {
    "application/vnd.databricks.v1+cell": {
     "cellMetadata": {},
     "inputWidgets": {},
     "nuid": "bcad4334-2006-4818-bfc0-dff646344bf5",
     "showTitle": false,
     "title": ""
    }
   },
   "outputs": [],
   "source": [
    "# Your code here"
   ]
  },
  {
   "cell_type": "markdown",
   "metadata": {
    "application/vnd.databricks.v1+cell": {
     "cellMetadata": {},
     "inputWidgets": {},
     "nuid": "bf9711fe-ecec-4f29-8e78-59e46c7423c5",
     "showTitle": false,
     "title": ""
    }
   },
   "source": [
    "**Write the conclusions you came to as a result of data analysis. You can base it on the following questions:**\n",
    "\n",
    "* Which model turned out to be the best? \n",
    "* What metrics did you use to evaluate your models and why? \n",
    "* What tools have you found most useful? \n",
    "* What difficulties have you encountered?  \n",
    "* What else could be added and improved in your project?"
   ]
  },
  {
   "cell_type": "markdown",
   "metadata": {
    "application/vnd.databricks.v1+cell": {
     "cellMetadata": {},
     "inputWidgets": {},
     "nuid": "772f1640-fd46-4469-b5ee-e0095cf33f2d",
     "showTitle": false,
     "title": ""
    }
   },
   "source": [
    "If you encounter difficulties while working on a use case and need help, contact our team:\n",
    "\n",
    "* [Renato](mailto:renato.rocha-souza@rbinternational.com)\n",
    "* [Mariia](mailto:mariia.khokhlova@rbinternational.com)\n",
    "* [Julian](mailto:julian.fluer@rbinternational.com)"
   ]
  }
 ],
 "metadata": {
  "application/vnd.databricks.v1+notebook": {
   "dashboards": [],
   "environmentMetadata": null,
   "language": "python",
   "notebookMetadata": {
    "pythonIndentUnit": 2
   },
   "notebookName": "Use_Case_Pattern",
   "widgets": {}
  }
 },
 "nbformat": 4,
 "nbformat_minor": 0
}
