{
 "cells": [
  {
   "cell_type": "markdown",
   "metadata": {
    "application/vnd.databricks.v1+cell": {
     "cellMetadata": {},
     "inputWidgets": {},
     "nuid": "7c95c1f5-0a2c-42d5-8e1b-372ace8f4d2a",
     "showTitle": false,
     "title": ""
    }
   },
   "source": [
    "# Classification Task Instruction\n",
    "In this task, you will get a sense of using Python to solve a classification problem.\n",
    "The [dataset](https://archive.ics.uci.edu/dataset/572/taiwanese+bankruptcy+prediction) that we will be working with is from the Taiwanese Strock Exchange about the bankruptcy of various companies.   \n",
    "````\n",
    " Goal: to predict, if a company is bankrupt (denoted in **variable y**) or not.\n",
    "````\n",
    "\n",
    "Remember that this is an artifical use case which is supposed to serve a **Contributor level** purposes. Thereafter, you should practice skills such as **Data Preprocessing, Data Visualisation, Preparing Data for ML** and only after you receive feedback on your initial work it is recommended to try **to fit some baseline Machine Learning Model**."
   ]
  },
  {
   "cell_type": "markdown",
   "metadata": {
    "application/vnd.databricks.v1+cell": {
     "cellMetadata": {},
     "inputWidgets": {},
     "nuid": "900e1e03-d035-4899-865c-c6e15bcae818",
     "showTitle": false,
     "title": ""
    }
   },
   "source": [
    "## 1. Dataset Information\n",
    "\n",
    "Inside **Data** folder there is a `.zip` file containing your dataset.\n",
    "\n",
    "There are 95 input variables:\n",
    "- Headers have meaningfull names\n",
    "- Most are numeric variable\n",
    "- A few are binary variables encoded with 0 and 1\n",
    "\n",
    "Output variable (desired target):\n",
    "- `Bankrupt?` indicates wether the company is bankrupt or not(binary: 0, 1)\n"
   ]
  },
  {
   "cell_type": "markdown",
   "metadata": {
    "application/vnd.databricks.v1+cell": {
     "cellMetadata": {},
     "inputWidgets": {},
     "nuid": "930fb9d5-838e-48f8-bd3a-ce771093629f",
     "showTitle": false,
     "title": ""
    }
   },
   "source": [
    "## 2. Importing the Dataset\n",
    "A dataset can be imported directly from a `.zip` file.\n",
    "To import a dataset, you will need to specify the file where is dataset is located.\n",
    "The relative path below is correct for the location of this instruction file.\n",
    "````python\n",
    "import pandas as pd\n",
    "import zipfile\n",
    "\n",
    "zf = zipfile.ZipFile('Data/Company_Bankruptcy.zip') \n",
    "df = pd.read_csv(zf.open('Company_Bankruptcy.csv'))\n",
    "````\n",
    "This is specific to our repository."
   ]
  },
  {
   "cell_type": "markdown",
   "metadata": {
    "application/vnd.databricks.v1+cell": {
     "cellMetadata": {},
     "inputWidgets": {},
     "nuid": "7de8f0d1-a841-4022-89e3-e591d8d7b394",
     "showTitle": false,
     "title": ""
    }
   },
   "source": [
    "## 3. Task Instruction\n",
    "The steps below are served as a **guide** to solve this problem. They are by no means a must or the only way to solve this partcular dataset. Feel free to use what you have learned in the previous classrooms and to be creative. Try to find out your own approach to this problem.\n",
    "\n",
    "**Step 1: Data Loading & Preprocessing**\n",
    "- load the dataset into your Python Notebook\n",
    "- convert the dataset to the desired format that you want to work with (dataframe, numpy.array, list, etc.)\n",
    "- explore the dataset\n",
    "- observe the variables carefully, and try to understand each variable and its business value\n",
    "- don't forget the special treatment to null values\n",
    "\n",
    "\n",
    "**Step 2: Data Visualisation & Exploration**\n",
    "- employ various visualisation skills that you acquired inside and outside the classroom\n",
    "- with the visualisation tools, understand what is happening in the dataset\n",
    "\n",
    "\n",
    "**Step 3: Data modelling**\n",
    "- separate variables & labels\n",
    "- split dataset into training & testing dataset\n",
    "- pick one data modelling approach respectively the Python modelling package that you would like to use\n",
    "- fit the training dataset to the model and train the model\n",
    "- output the model \n",
    "- make prediction on testing dataset\n",
    "\n",
    "\n",
    "**OPTIONAL: Step 4: Fine tune the model or use more advanced modelling approaches**\n",
    "- map the prediction of the testing dataset against real numbers from your dataset and compare the result\n",
    "- make adjustments on your model for a better result (but make sure don't overfit the model)\n",
    "\n",
    "\n",
    "**Step 5: Result extration & interpretation**\n",
    "- make your conclusions and interpretation on the model and final results\n",
    "- evaluate the performance of your model and algorithm using different KPIs\n",
    "\n",
    "**Note!** Important criteria for evaluating your use case are well-documented cells, a good structure of the notebook with headers which are depicting various parts of it, and short comments on each part with reflections and insights that you gained."
   ]
  },
  {
   "cell_type": "markdown",
   "metadata": {
    "application/vnd.databricks.v1+cell": {
     "cellMetadata": {},
     "inputWidgets": {},
     "nuid": "f6ab71b7-562b-456c-a591-03613d26b774",
     "showTitle": false,
     "title": ""
    }
   },
   "source": [
    "## 4. Additional Resources\n",
    "- you can take a look at one of the use cases that AA tribe had done in the past and get a sense of how the modelling approach feels like: general description of the modelling approach: <https://wiki.rbinternational.corp/confluence/display/AAT/Modelling+approach+RBBG>    \n",
    "    - random forest approach: <https://wiki.rbinternational.corp/confluence/display/AAT/Random+Forest+Modelling+Approach>\n",
    "    - gradient boosting approach:  <https://wiki.rbinternational.corp/confluence/display/AAT/Gradient+Boosting+Modelling+Approach>\n",
    "- some of the modelling methods that you can go over:\n",
    "    - random forest : https://www.youtube.com/watch?v=J4Wdy0Wc_xQ\n",
    "        - for random forest, please first understand [decision trees](https://en.wikipedia.org/wiki/Decision_tree#:~:text=A%20decision%20tree%20is%20a,only%20contains%20conditional%20control%20statements.) completely\n",
    "    - gradient boosting: https://www.youtube.com/watch?v=3CC4N4z3GJc\n",
    "    - support vector machine: https://towardsdatascience.com/support-vector-machine-introduction-to-machine-learning-algorithms-934a444fca47\n",
    "\n",
    "**Packages that might be useful for you:**\n",
    "- pandas: https://pandas.pydata.org/pandas-docs/stable/reference/index.html\n",
    "- numpy: https://numpy.org/doc/\n",
    "- scikit-learn: https://scikit-learn.org/stable/\n",
    "- sklearn.linear_model: https://scikit-learn.org/stable/modules/generated/sklearn.linear_model.LinearRegression.html\n",
    "- sklearn.datasets: https://scikit-learn.org/stable/modules/classes.html#module-sklearn.datasets\n",
    "- sklearn.ensemble: https://scikit-learn.org/stable/modules/generated/sklearn.ensemble.RandomForestClassifier.html\n",
    "- sklearn.preprocessing: https://scikit-learn.org/stable/modules/generated/sklearn.preprocessing.OneHotEncoder.html\n",
    "- sklearn.dummy: https://scikit-learn.org/stable/modules/generated/sklearn.dummy.DummyClassifier.html\n",
    "- sklearn.metrics: https://scikit-learn.org/stable/modules/generated/sklearn.metrics.confusion_matrix.html\n",
    "\n",
    "\n",
    "**Useful links:**\n",
    "- Die Pipeline: https://wiki.rbinternational.com/confluence/display/AAT/MGF+-+Die+Pipeline\n",
    "- Importing data with read_csv: https://pandas.pydata.org/pandas-docs/stable/reference/api/pandas.read_csv.html\n",
    "- subsetting dataset in pandas: https://pandas.pydata.org/docs/getting_started/intro_tutorials/03_subset_data.html\n",
    "- column transformers with mixed types: https://scikit-learn.org/stable/auto_examples/compose/plot_column_transformer_mixed_types.html\n",
    "- feature scaling for machine learning: https://www.analyticsvidhya.com/blog/2020/04/feature-scaling-machine-learning-normalization-standardization/\n",
    "- what is ont-hot encoding: https://www.geeksforgeeks.org/ml-one-hot-encoding-of-datasets-in-python/\n",
    "- xgboost model with python: https://machinelearningmastery.com/develop-first-xgboost-model-python-scikit-learn/\n",
    "- random forest classifier: https://www.datacamp.com/community/tutorials/random-forests-classifier-python"
   ]
  },
  {
   "cell_type": "markdown",
   "metadata": {
    "application/vnd.databricks.v1+cell": {
     "cellMetadata": {},
     "inputWidgets": {},
     "nuid": "97a0f587-fd01-42b0-9898-3f3423468f00",
     "showTitle": false,
     "title": ""
    }
   },
   "source": [
    "**Dataset citation:**\n",
    "[[Liang et al., 2016] Liang, D., Lu, C.-C., Tsai, C.-F., and Shih, G.-A. (2016) Financial Ratios and Corporate Governance Indicators in Bankruptcy Prediction: A Comprehensive Study. European Journal of Operational Research, vol. 252, no. 2, pp. 561-572.](https://archive.ics.uci.edu/ml/datasets/Bank+Marketing)"
   ]
  }
 ],
 "metadata": {
  "application/vnd.databricks.v1+notebook": {
   "dashboards": [],
   "language": "python",
   "notebookMetadata": {},
   "notebookName": "classification_task_instruction_jupyter",
   "widgets": {}
  }
 },
 "nbformat": 4,
 "nbformat_minor": 0
}
