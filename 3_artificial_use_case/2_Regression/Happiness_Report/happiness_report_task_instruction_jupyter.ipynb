{
 "cells": [
  {
   "cell_type": "markdown",
   "metadata": {
    "application/vnd.databricks.v1+cell": {
     "cellMetadata": {},
     "inputWidgets": {},
     "nuid": "d809eff2-6f24-4d19-839c-434fb07449be",
     "showTitle": false,
     "title": ""
    }
   },
   "source": [
    "# Regression Notebook\n",
    "\n",
    "In this task, we will work on some multivariable regression problems. The dataset we will be working on is a world happiness report from years `2015` to `2022`. It is a survey of the state of global happiness based on local economic production, social welfares, and etc.\n",
    "\n",
    "Remember that this is an artifical use case which is supposed to serve a **Contributor level** purposes. Thereafter, you should practice skills such as **Data Preprocessing, Data Visualisation, Preparing Data for ML** and only after you receive feedback on your initial work it is recommended to try **to fit some baseline Machine Learning Model**.\n",
    "\n",
    "Some insipirations that we can get out of this dataset: \n",
    "- imagine that you want to create a complete new country with the goal of having the happiest citizens, which factors or some variables that you might want to pay attention the most?\n",
    "- imagine that you are the president of your country, how can you improve the happiness level of your country? What are some of the factors that you might want to look out for?\n",
    "\n",
    "````\n",
    "Goal: to find out which couple factors contribute the most to the happiness score that we have. Show a strong correlation between the factors that you can come up with.\n",
    "````\n",
    "    \n",
    "One thing to keep in mind is that the result that you get at the end is highly subjective. Try to have a good correlation score, be creative, and be ready to explain the reasoning behind your work."
   ]
  },
  {
   "cell_type": "markdown",
   "metadata": {
    "application/vnd.databricks.v1+cell": {
     "cellMetadata": {},
     "inputWidgets": {},
     "nuid": "78789b97-1e32-44b9-ba64-d1ab31a52125",
     "showTitle": false,
     "title": ""
    }
   },
   "source": [
    "## 1. Dataset Information\n",
    "We have 8 different files inside the ``Datasets`` folder prepared for you: `2015.csv`, `2016.csv`, ..., `2022.csv`. The name of the file corresponds to the year of which this report is describing.\n",
    "    \n",
    "Below is an explanation of our variables from the dataset:\n",
    "\n",
    "### Country's profile:\n",
    "- `country` the respective country\n",
    "- `region` the region that the country belongs to\n",
    "- `happiness rank` the ranking of this country based on its happiness score\n",
    "- `happiness score` the happiness score\n",
    "\n",
    "### Independent variables contributing to happiness score:\n",
    " - `economy gdp per capita` the monetary value of all finished goods and services made within a country during a specific period. \n",
    " - `family` the national average of the binary responses (either 0 or 1) to the Gallup World Poll (GWP) question “If you were in trouble, do you have relatives or friends you can count on to help you whenever you need them, or not?”\n",
    " - `health life expectancy` the expected number of remaining years of life spent in good health from a particular age, typically birth\n",
    " - `freedom` freedom to make life choices, the national average of binary responses to the GWP question “Are you satisfied or dissatisfied with your freedom to choose what you do with your life?”\n",
    " - `trust government corruption` people's perception of corruption\n",
    " - `generosity`  the residual of regressing the national average of GWP responses to the question “Have you donated money to a charity in the past month?” on GDP per capita <br>\n",
    " Explanations are taken from: [world happiness report](https://worldhappiness.report/ed/2019/changing-world-happiness/)\n",
    "\n",
    "### Other attributes:\n",
    "- `dystopia` dystopia is an imaginary country that has the world’s least-happy people. The dystopia happiness score (1.85) i.e. the score of a hypothetical country that has a lower rank than the lowest ranking country on the report, plus the residual value of each country (a number that is left over from the normalization of the variables which cannot be explained)"
   ]
  },
  {
   "cell_type": "markdown",
   "metadata": {
    "application/vnd.databricks.v1+cell": {
     "cellMetadata": {},
     "inputWidgets": {},
     "nuid": "9e65b1f1-d696-4bc8-b4bb-bf3813cb3853",
     "showTitle": false,
     "title": ""
    }
   },
   "source": [
    "## 2. Importing The Dataset\n",
    "To import a dataset, you will need to specify the **relative** path of the csv-file, for example:\n",
    "````python\n",
    "'Datasets/2015.csv'\n",
    "````\n",
    "This is specific to our repository."
   ]
  },
  {
   "cell_type": "markdown",
   "metadata": {
    "application/vnd.databricks.v1+cell": {
     "cellMetadata": {},
     "inputWidgets": {},
     "nuid": "34823b8b-046c-4a1b-910e-79da58d0c16d",
     "showTitle": false,
     "title": ""
    }
   },
   "source": [
    "## 3. Task: Regression\n",
    "The steps below are served as a **guide** to solve this problem. They are by no means a must or the only way to solve this partcular dataset. Feel free to use what you have learned in the previous classrooms and to be creative. Try to find out your own approach to this problem.\n",
    "\n",
    "\n",
    "**Step 1: Data Loading & Describing**\n",
    "- load the dataset into your Python Notebook\n",
    "- convert the dataset to the desired format that you want to work with (dataframe, numpy.array, list, etc.)\n",
    "- explore the dataset\n",
    "- observe the variables carefully, and try to understand each variable and its meaning\n",
    "\n",
    "**Step 2: Data Visualisation & Exploration**\n",
    "- employ various visualization techniques to understand the data even more thoroughly\n",
    "- `bonus: ` ex. correlation between happiness score & GDP\n",
    "    \n",
    "**Step 3: Data Preprocessing**\n",
    "- harmonize the column names in all 5 files\n",
    "- merge all 8 files into one big dataframe (or numpy.array, list, no restrictions here)\n",
    "- speical treatment to null values \n",
    "\n",
    "**Step 4: Data Modelling**\n",
    "- separate variables & labels\n",
    "- split dataset into training & testing dataset\n",
    "- pick one data modelling approach respectively the Python modelling package that you would like to use\n",
    "- fit the training dataset to the model and train the model\n",
    "- output the model \n",
    "- make prediction on testing dataset\n",
    "\n",
    "**Step 5: OPTIONAL Fine Tuning the Model For a Better Result**\n",
    "- map the prediction of the testing dataset against real numbers from your dataset and compare the result\n",
    "- make adjustments on your model for a better result (but make sure don't overfit the model)\n",
    "    \n",
    "**Step 6: Result Extration & Interpretation**\n",
    "- make your conclusions and interpretation on the model and final results\n",
    "- evaluate the performance of your model and algorithm using different KPIs <br>\n",
    "- `bonus: ` use more visualization techniques to demonstrate the correlation between one or more variables to the happiness score\n",
    "- `bonus: ` as well as the difference between your prediction and the actual score\n",
    "\n",
    "**Note!** Important criteria for evaluating your use case are well-documented cells, a good structure of the notebook with headers which are depicting various parts of it, and short comments on each part with reflections and insights that you gained."
   ]
  },
  {
   "cell_type": "markdown",
   "metadata": {
    "application/vnd.databricks.v1+cell": {
     "cellMetadata": {},
     "inputWidgets": {},
     "nuid": "5d6dbe30-56f3-41da-90e6-cb4c602a3f3d",
     "showTitle": false,
     "title": ""
    }
   },
   "source": [
    "## 4. Additional Resources: \n",
    "\n",
    "**Packages that might be useful for you:**\n",
    "- pandas: https://pandas.pydata.org/pandas-docs/stable/reference/index.html\n",
    "- numpy: https://numpy.org/doc/\n",
    "- scikit-learn: https://scikit-learn.org/stable/\n",
    "- plotly: https://plotly.com/python-api-reference/\n",
    "- lightGBM: https://lightgbm.readthedocs.io/en/latest/\n",
    "- seaborn: https://seaborn.pydata.org/api.html\n",
    "\n",
    "**Useful Links:**\n",
    "- Die Pipeline: https://wiki.rbinternational.com/confluence/display/AAT/MGF+-+Die+Pipeline\n",
    "- Scikit homepage: https://scikit-learn.org/stable/\n",
    "- https://scikit-learn.org/\n",
    "- https://seaborn.pydata.org/\n",
    "- https://plotly.com/python/\n",
    "- https://matplotlib.org/\n",
    "- https://medium.com/pursuitnotes/multiple-linear-regression-model-in-7-steps-with-python-c6f40c0a527\n",
    "- https://medium.com/analytics-vidhya/a-beginners-guide-to-linear-regression-in-python-with-scikit-learn-6b0fe70b32d7"
   ]
  },
  {
   "cell_type": "markdown",
   "metadata": {
    "application/vnd.databricks.v1+cell": {
     "cellMetadata": {},
     "inputWidgets": {},
     "nuid": "82aa0a23-a52b-4772-b196-31efc70cee27",
     "showTitle": false,
     "title": ""
    }
   },
   "source": [
    "Dataset citation: <https://worldhappiness.report/ed/2020/social-environments-for-world-happiness/>"
   ]
  }
 ],
 "metadata": {
  "application/vnd.databricks.v1+notebook": {
   "dashboards": [],
   "language": "python",
   "notebookMetadata": {},
   "notebookName": "happiness_report_task_instruction_jupyter",
   "widgets": {}
  }
 },
 "nbformat": 4,
 "nbformat_minor": 0
}
