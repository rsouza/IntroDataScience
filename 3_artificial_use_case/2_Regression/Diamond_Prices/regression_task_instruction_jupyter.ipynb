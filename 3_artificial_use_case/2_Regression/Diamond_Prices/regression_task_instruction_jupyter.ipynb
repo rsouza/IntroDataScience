{
 "cells": [
  {
   "cell_type": "markdown",
   "metadata": {
    "application/vnd.databricks.v1+cell": {
     "cellMetadata": {},
     "inputWidgets": {},
     "nuid": "30621d01-2f9a-4466-9875-de62e5b52abb",
     "showTitle": false,
     "title": ""
    }
   },
   "source": [
    "# Regression Notebook\n",
    "\n",
    "In this task, we will work on some multivariable regression problems.\n",
    "The dataset we will be working on is a record of Diamond sales prices.\n",
    "\n",
    "Remember that this is an artifical use case which is supposed to serve a **Contributor level** purposes. Thereafter, you should practice skills such as **Data Preprocessing, Data Visualisation, Preparing Data for ML** and only after you receive feedback on your initial work it is recommended to try **to fit some baseline Machine Learning Model**.\n",
    "\n",
    "````\n",
    "Goal: to find out which couple factors contribute the most to the price of a diamond. Show a strong correlation between the factors that you can come up with.\n",
    "````\n",
    "    \n",
    "One thing to keep in mind is that the result that you get at the end is highly subjective. Try to have a good correlation score, be creative, and be ready to explain the reasoning behind your work."
   ]
  },
  {
   "cell_type": "markdown",
   "metadata": {
    "application/vnd.databricks.v1+cell": {
     "cellMetadata": {},
     "inputWidgets": {},
     "nuid": "99afe0a7-80f6-470d-b87d-4dacc382a401",
     "showTitle": false,
     "title": ""
    }
   },
   "source": [
    "## 1. Dataset Information\n",
    "We have one `.csv` file inside the ``Data`` folder prepared for you.\n",
    "    \n",
    "Below is an explanation of our variables from the dataset taken directly from the [dataset source](https://www.kaggle.com/datasets/shivam2503/diamonds):\n",
    "\n",
    "### Diamonds's attributes:\n",
    "- `carat` weight of the diamond (0.2-5.01)\n",
    "- `cut` quality of the cut (Fair, Good, Very Good, Premium, Ideal)\n",
    "- `color` diamond colour, from J (worst) to D (best)\n",
    "- `clarity` a measurement of how clear the diamond is (I1 (worst), SI2, SI1, VS2, VS1, VVS2, VVS1, IF (best))\n",
    "- `x` length in mm (0-10.74)\n",
    "- `y` width in mm (0-58.9)\n",
    "- `z` depth in mm (0-31.8)\n",
    "- `depth` total depth percentage = z / mean(x, y) = 2 * z / (x + y) (43-79)\n",
    "- `table` width of top of diamond relative to widest point (43-95)\n",
    "\n",
    "### Output variable (desired target):\n",
    "- `price` price in US dollars ($326-$18,823)"
   ]
  },
  {
   "cell_type": "markdown",
   "metadata": {
    "application/vnd.databricks.v1+cell": {
     "cellMetadata": {},
     "inputWidgets": {},
     "nuid": "d19b3fbf-ccfd-4fb7-9615-7745e25bfa55",
     "showTitle": false,
     "title": ""
    }
   },
   "source": [
    "## 2. Importing the Dataset\n",
    "A dataset can be imported directly from a `.zip` file.\n",
    "To import a dataset, you will need to specify the file where is dataset is located.\n",
    "The relative path below is correct for the location of this instruction file.\n",
    "````python\n",
    "import pandas as pd\n",
    "import zipfile\n",
    "\n",
    "zf = zipfile.ZipFile('Data/diamonds.zip') \n",
    "df = pd.read_csv(zf.open('diamonds.csv'))\n",
    "````\n",
    "This is specific to our repository."
   ]
  },
  {
   "cell_type": "markdown",
   "metadata": {
    "application/vnd.databricks.v1+cell": {
     "cellMetadata": {},
     "inputWidgets": {},
     "nuid": "567c94da-d7f3-4431-8140-3c4db50d3240",
     "showTitle": false,
     "title": ""
    }
   },
   "source": [
    "## 3. Task: Regression\n",
    "The steps below are served as a **guide** to solve this problem. They are by no means a must or the only way to solve this partcular dataset. Feel free to use what you have learned in the previous classrooms and to be creative. Try to find out your own approach to this problem.\n",
    "\n",
    "\n",
    "**Step 1: Data Loading & Describing**\n",
    "- load the dataset into your Python Notebook\n",
    "- convert the dataset to the desired format that you want to work with (dataframe, numpy.array, list, etc.)\n",
    "- explore the dataset\n",
    "- observe the variables carefully, and try to understand each variable and its meaning\n",
    "\n",
    "**Step 2: Data Visualisation & Exploration**\n",
    "- employ various visualization techniques to understand the data even more thorough\n",
    "- with the visualization tools, understand what is happening in the dataset\n",
    "\n",
    "**Step 3: Data Modelling**\n",
    "- separate variables & labels\n",
    "- split dataset into training & testing dataset\n",
    "- pick one data modelling approach respectively the Python modelling package that you would like to use\n",
    "- fit the training dataset to the model and train the model\n",
    "- output the model \n",
    "- make prediction on testing dataset\n",
    "\n",
    "**Step 4: OPTIONAL Fine Tuning the Model For a Better Result**\n",
    "- map the prediction of the testing dataset against real numbers from your dataset and compare the result\n",
    "- make adjustments on your model for a better result (but make sure don't overfit the model)\n",
    "    \n",
    "**Step 5: Result Extration & Interpretation**\n",
    "- make your conclusions and interpretation on the model and final results\n",
    "- evaluate the performance of your model and algorithm using different KPIs <br>\n",
    "- `bonus: ` use more visualization techniques to demonstrate the correlation between one or more variables to the happiness score\n",
    "- `bonus: ` as well as the difference between your prediction and the actual score\n",
    "\n",
    "**Note!** Important criteria for evaluating your use case are well-documented cells, a good structure of the notebook with headers which are depicting various parts of it, and short comments on each part with reflections and insights that you gained."
   ]
  },
  {
   "cell_type": "markdown",
   "metadata": {
    "application/vnd.databricks.v1+cell": {
     "cellMetadata": {},
     "inputWidgets": {},
     "nuid": "5c2f1478-30db-4c5f-9e1c-e093f1e34bca",
     "showTitle": false,
     "title": ""
    }
   },
   "source": [
    "## 4. Additional Resources: \n",
    "\n",
    "**Packages that might be useful for you:**\n",
    "- pandas: https://pandas.pydata.org/pandas-docs/stable/reference/index.html\n",
    "- numpy: https://numpy.org/doc/\n",
    "- scikit-learn: https://scikit-learn.org/stable/\n",
    "- plotly: https://plotly.com/python-api-reference/\n",
    "- lightGBM: https://lightgbm.readthedocs.io/en/latest/\n",
    "- seaborn: https://seaborn.pydata.org/api.html\n",
    "\n",
    "**Useful Links:**\n",
    "- Die Pipeline: https://wiki.rbinternational.com/confluence/display/AAT/MGF+-+Die+Pipeline\n",
    "- Scikit homepage: https://scikit-learn.org/stable/\n",
    "- https://scikit-learn.org/\n",
    "- https://seaborn.pydata.org/\n",
    "- https://plotly.com/python/\n",
    "- https://matplotlib.org/\n",
    "- https://medium.com/pursuitnotes/multiple-linear-regression-model-in-7-steps-with-python-c6f40c0a527\n",
    "- https://towardsdatascience.com/a-beginners-guide-to-linear-regression-in-python-with-scikit-learn-83a8f7ae2b4f"
   ]
  },
  {
   "cell_type": "markdown",
   "metadata": {
    "application/vnd.databricks.v1+cell": {
     "cellMetadata": {},
     "inputWidgets": {},
     "nuid": "53f02ca8-505e-456d-959c-59864d776233",
     "showTitle": false,
     "title": ""
    }
   },
   "source": [
    "Dataset citation: https://www.kaggle.com/datasets/shivam2503/diamonds/code"
   ]
  }
 ],
 "metadata": {
  "application/vnd.databricks.v1+notebook": {
   "dashboards": [],
   "language": "python",
   "notebookMetadata": {},
   "notebookName": "regression_task_instruction_jupyter",
   "widgets": {}
  }
 },
 "nbformat": 4,
 "nbformat_minor": 0
}
