{
 "cells": [
  {
   "cell_type": "markdown",
   "metadata": {
    "application/vnd.databricks.v1+cell": {
     "cellMetadata": {},
     "inputWidgets": {},
     "nuid": "e45025f2-ce75-463f-8e6a-330879261cdf",
     "showTitle": false,
     "title": ""
    }
   },
   "source": [
    "# Logistic regression"
   ]
  },
  {
   "cell_type": "code",
   "execution_count": 0,
   "metadata": {
    "application/vnd.databricks.v1+cell": {
     "cellMetadata": {
      "byteLimit": 2048000,
      "rowLimit": 10000
     },
     "inputWidgets": {},
     "nuid": "3f550692-b1b5-40b3-8619-86a5c74a2eff",
     "showTitle": false,
     "title": ""
    }
   },
   "outputs": [],
   "source": [
    "# Importing all the necessary libraries\n",
    "import pandas as pd\n",
    "import numpy as np\n",
    "from sklearn import datasets\n",
    "from sklearn.linear_model import LogisticRegression\n",
    "from sklearn.model_selection import train_test_split\n",
    "from sklearn.preprocessing import StandardScaler\n",
    "from sklearn import metrics # to calculate accuracy measure and confusion matrix\n",
    "import seaborn as sns\n",
    "import matplotlib.pyplot as plt \n",
    "import random\n",
    "plt.rcParams[\"figure.figsize\"] = (15,6)"
   ]
  },
  {
   "cell_type": "markdown",
   "metadata": {
    "application/vnd.databricks.v1+cell": {
     "cellMetadata": {},
     "inputWidgets": {},
     "nuid": "a12a9fd4-7238-4ee2-ac87-89d3828be930",
     "showTitle": false,
     "title": ""
    }
   },
   "source": [
    "# Binary regression"
   ]
  },
  {
   "cell_type": "markdown",
   "metadata": {
    "application/vnd.databricks.v1+cell": {
     "cellMetadata": {},
     "inputWidgets": {},
     "nuid": "92c13c07-d34d-4ee5-a5a4-44f80475f5a7",
     "showTitle": false,
     "title": ""
    }
   },
   "source": [
    "## Load dataset for binary regression"
   ]
  },
  {
   "cell_type": "code",
   "execution_count": 0,
   "metadata": {
    "application/vnd.databricks.v1+cell": {
     "cellMetadata": {
      "byteLimit": 2048000,
      "rowLimit": 10000
     },
     "inputWidgets": {},
     "nuid": "78c7a7a0-3604-4855-8ca5-b22749c724ee",
     "showTitle": false,
     "title": ""
    }
   },
   "outputs": [],
   "source": [
    "X, y = datasets.load_breast_cancer(return_X_y=True, as_frame=True)\n",
    "print(datasets.load_breast_cancer().DESCR)"
   ]
  },
  {
   "cell_type": "markdown",
   "metadata": {
    "application/vnd.databricks.v1+cell": {
     "cellMetadata": {},
     "inputWidgets": {},
     "nuid": "102015c9-9da1-4579-b1ec-6ae9819f58fe",
     "showTitle": false,
     "title": ""
    }
   },
   "source": [
    "## Make the data imbalanced\n",
    "\n",
    "For the purpose of this exercise we will make the data imbalanced by removing 80% of the cases where `y==1`."
   ]
  },
  {
   "cell_type": "code",
   "execution_count": 0,
   "metadata": {
    "application/vnd.databricks.v1+cell": {
     "cellMetadata": {
      "byteLimit": 2048000,
      "rowLimit": 10000
     },
     "inputWidgets": {},
     "nuid": "d221d3c3-50f8-4cde-b5f5-5e905effee26",
     "showTitle": false,
     "title": ""
    }
   },
   "outputs": [],
   "source": [
    "data = pd.concat([X,y], axis=1) # join X and y\n",
    "data_neg = data.loc[data.target==0,:] # select only rows with negative target \n",
    "data_pos = data.loc[data.target==1,:].sample(frac=0.07, random_state=42) # select 7% of rows with positive target\n",
    "\n",
    "data_imb = pd.concat([data_neg, data_pos]) # concatenate 7% of positive cases and all negative ones to have imbalanced data\n",
    "X_imb = data_imb.drop(columns=['target'])\n",
    "y_imb = data_imb.target\n",
    "\n",
    "sns.countplot(x=y_imb)\n",
    "plt.title('frequency of the target variable')\n",
    "plt.xlabel('target value')"
   ]
  },
  {
   "cell_type": "markdown",
   "metadata": {
    "application/vnd.databricks.v1+cell": {
     "cellMetadata": {},
     "inputWidgets": {},
     "nuid": "fbb8ed1e-2ba5-4699-a304-b9638cfd320a",
     "showTitle": false,
     "title": ""
    }
   },
   "source": [
    "Split into train and test sets."
   ]
  },
  {
   "cell_type": "code",
   "execution_count": 0,
   "metadata": {
    "application/vnd.databricks.v1+cell": {
     "cellMetadata": {
      "byteLimit": 2048000,
      "rowLimit": 10000
     },
     "inputWidgets": {},
     "nuid": "ad5e37bb-d8e9-4b86-88b3-2f0f41c03c32",
     "showTitle": false,
     "title": ""
    }
   },
   "outputs": [],
   "source": [
    "#Task 1:\n",
    "\n",
    "X_train , X_test , y_train , y_test = ... # random_state=42"
   ]
  },
  {
   "cell_type": "markdown",
   "metadata": {
    "application/vnd.databricks.v1+cell": {
     "cellMetadata": {},
     "inputWidgets": {},
     "nuid": "920232ec-e33e-4fed-9611-ace1a993526e",
     "showTitle": false,
     "title": ""
    }
   },
   "source": [
    "### Exercise\n",
    "\n",
    "Fit the default\n",
    "[`LogisticRegression()`](https://scikit-learn.org/stable/modules/generated/sklearn.linear_model.LogisticRegression.html)\n",
    "to `X_train` and `y_train`."
   ]
  },
  {
   "cell_type": "code",
   "execution_count": 0,
   "metadata": {
    "application/vnd.databricks.v1+cell": {
     "cellMetadata": {
      "byteLimit": 2048000,
      "rowLimit": 10000
     },
     "inputWidgets": {},
     "nuid": "0ccd9e21-eb80-411c-9c0d-477430ee3132",
     "showTitle": false,
     "title": ""
    }
   },
   "outputs": [],
   "source": [
    "#Task 2:\n"
   ]
  },
  {
   "cell_type": "markdown",
   "metadata": {
    "application/vnd.databricks.v1+cell": {
     "cellMetadata": {},
     "inputWidgets": {},
     "nuid": "024482d8-6e2e-47f3-be63-d2f32d0a2c12",
     "showTitle": false,
     "title": ""
    }
   },
   "source": [
    "The model failed to converge due to low number of iterations of the optimization solver. There are multiple solvers that can be chosen as a hyperparameter of the model. These also depend on the strategy that is chosen for regularization and for the multiclass problem. A description of which solver suits which problem is in the documentation. We have 3 options now:\n",
    "\n",
    "- Increase the number of iterations until the default solver converges.\n",
    "- Select a different optimization algorithm with a hyperparameter solver.\n",
    "- Scale the input data which usually helps optimization algorithms to converge. However, if you do not use regularization, the scaling is not required for a logistic regression. It only helps with convergence.\n",
    "\n",
    "### Exercise\n",
    "We will go with the last option. \n",
    "\n",
    "- Scale the data with a\n",
    "[`StandardScaler()`](https://scikit-learn.org/stable/modules/generated/sklearn.preprocessing.StandardScaler.html).\n",
    "- Fit and transform `X_train` and save it to `X_train_scaled`.\n",
    "- Transform `X_test` and save it to `X_test_scaled`."
   ]
  },
  {
   "cell_type": "code",
   "execution_count": 0,
   "metadata": {
    "application/vnd.databricks.v1+cell": {
     "cellMetadata": {
      "byteLimit": 2048000,
      "rowLimit": 10000
     },
     "inputWidgets": {},
     "nuid": "49165ec6-feda-4014-b541-484451cc82be",
     "showTitle": false,
     "title": ""
    }
   },
   "outputs": [],
   "source": [
    "#Task 3:\n",
    "\n",
    "scaler = ...\n",
    "X_train_scaled = ...\n",
    "X_test_scaled = ..."
   ]
  },
  {
   "cell_type": "markdown",
   "metadata": {
    "application/vnd.databricks.v1+cell": {
     "cellMetadata": {},
     "inputWidgets": {},
     "nuid": "5cf9eb98-459a-42e4-9264-01e59d62463e",
     "showTitle": false,
     "title": ""
    }
   },
   "source": [
    "### Exercise\n",
    "\n",
    "- Fit the logistic regression to the scaled data.\n",
    "- Predict on `X_train_scaled` and save the values to `y_hat`.\n",
    "- What are the values that are returned from the\n",
    "[`predict()`](https://scikit-learn.org/stable/modules/generated/sklearn.linear_model.LogisticRegression.html#sklearn.linear_model.LogisticRegression.predict)\n",
    "method?"
   ]
  },
  {
   "cell_type": "code",
   "execution_count": 0,
   "metadata": {
    "application/vnd.databricks.v1+cell": {
     "cellMetadata": {
      "byteLimit": 2048000,
      "rowLimit": 10000
     },
     "inputWidgets": {},
     "nuid": "f4d3f553-3336-4866-9598-3fd77f4a0c01",
     "showTitle": false,
     "title": ""
    }
   },
   "outputs": [],
   "source": [
    "#Task 4:\n"
   ]
  },
  {
   "cell_type": "markdown",
   "metadata": {
    "application/vnd.databricks.v1+cell": {
     "cellMetadata": {},
     "inputWidgets": {},
     "nuid": "ffe595ad-14bf-4c3a-9226-2d7d2f9c09a2",
     "showTitle": false,
     "title": ""
    }
   },
   "source": [
    "### Exercise\n",
    "\n",
    "Print different metrics from\n",
    "[`sklearn.metrics`](https://scikit-learn.org/stable/modules/classes.html#sklearn-metrics-metrics)\n",
    "for the predictions on the train set:\n",
    " - accuracy\n",
    " - confusion matrix\n",
    " - classification report"
   ]
  },
  {
   "cell_type": "code",
   "execution_count": 0,
   "metadata": {
    "application/vnd.databricks.v1+cell": {
     "cellMetadata": {
      "byteLimit": 2048000,
      "rowLimit": 10000
     },
     "inputWidgets": {},
     "nuid": "b09de9d3-ff5e-4fba-a05c-3a437166f0b4",
     "showTitle": false,
     "title": ""
    }
   },
   "outputs": [],
   "source": [
    "#Task 5:\n",
    "\n",
    "print(f'accuracy {metrics....(...,..)}')\n",
    "print(f'confusion matrix\\n {metrics....(..., ...)}')\n",
    "print(f'classification report\\n {metrics....(..., ...)}')"
   ]
  },
  {
   "cell_type": "markdown",
   "metadata": {
    "application/vnd.databricks.v1+cell": {
     "cellMetadata": {},
     "inputWidgets": {},
     "nuid": "ed6f7df0-065a-43aa-b883-443892db2886",
     "showTitle": false,
     "title": ""
    }
   },
   "source": [
    "__WARNING__: You should never optimize for the results of the test set.\n",
    "The test set should be always set aside and you should evaluate only once you have decided on the final model.\n",
    "You will learn later in the course how to treat such situations in the lecture about hyperparameter tuning.\n",
    "\n",
    "You can see from the confusion matrix that there are only 19 cases of the positive class in the train set while 2 of them were classified incorrectly and 17 correctly.\n",
    "We would rather want to predict correctly all those cases where `target = 1`.\n",
    "It is not a big deal if we tell the patient that she/he has a cancer while actually there is no cancer.\n",
    "The bigger problem is if we predict that the patient does not have a cancer while she/he actually has it.\n",
    "We can achieve this by changing the value of the threshold which by default is 50%. We should therefore lower the threshold for the probability.\n",
    "\n",
    "After calling\n",
    "[`.predict()`](https://scikit-learn.org/stable/modules/classes.html#sklearn-metrics-metrics)\n",
    "on your model it returned the predicted classes.\n",
    "Instead of predicting classes directly you can return probabilites for each instance using the\n",
    "[`predict_proba()`](https://scikit-learn.org/stable/modules/generated/sklearn.linear_model.LogisticRegression.html#sklearn.linear_model.LogisticRegression.predict_proba)\n",
    "method of the logistic regression model.\n",
    "One row is one observation.\n",
    "The first column is the probability that the instance belongs to the first class and the second column tells you about the probability of the instance belonging to the second class.\n",
    "Sum of the first and second column for each instance is equal to 1.\n",
    "You can find out which class is the first and which class is the second using the `classes_` attribute of the model. \n",
    "\n",
    "### Exercise\n",
    "\n",
    "- Return the classes with the `classes_` attribute.\n",
    "- Return the probabilites of `X_train_scaled` with the\n",
    "[`predict_proba()`](https://scikit-learn.org/stable/modules/generated/sklearn.linear_model.LogisticRegression.html#sklearn.linear_model.LogisticRegression.predict_proba)\n",
    "method.\n",
    "- Save the probabilities of the positive class in the variable `probs_train`."
   ]
  },
  {
   "cell_type": "code",
   "execution_count": 0,
   "metadata": {
    "application/vnd.databricks.v1+cell": {
     "cellMetadata": {
      "byteLimit": 2048000,
      "rowLimit": 10000
     },
     "inputWidgets": {},
     "nuid": "30bea6e8-d3a8-446d-b455-72c006d254e4",
     "showTitle": false,
     "title": ""
    }
   },
   "outputs": [],
   "source": [
    "#Task 6:\n"
   ]
  },
  {
   "cell_type": "markdown",
   "metadata": {
    "application/vnd.databricks.v1+cell": {
     "cellMetadata": {},
     "inputWidgets": {},
     "nuid": "38960de5-7c83-43e4-b1a9-e4cd14385178",
     "showTitle": false,
     "title": ""
    }
   },
   "source": [
    "### Exercise \n",
    "\n",
    "Set the value of the threshold to 20% and use the probabilities saved in the variable `probs_train`: If the value of the probability is greater than the threshold then the prediction should be equal to 1. \n",
    "Hint: numpy arrays of boolean values can be converted to 0/1 with\n",
    "[`np.ndarray.astype(int)`](https://numpy.org/doc/1.21/reference/generated/numpy.ndarray.astype.html).\n",
    "Return a confusion matrix using\n",
    "[`.confusion_matrix()`](https://scikit-learn.org/stable/modules/generated/sklearn.metrics.confusion_matrix.html)\n",
    "as well as a classification report using\n",
    "[`.classification_report()`](https://scikit-learn.org/stable/modules/generated/sklearn.metrics.classification_report.html)\n",
    "for the train set."
   ]
  },
  {
   "cell_type": "code",
   "execution_count": 0,
   "metadata": {
    "application/vnd.databricks.v1+cell": {
     "cellMetadata": {
      "byteLimit": 2048000,
      "rowLimit": 10000
     },
     "inputWidgets": {},
     "nuid": "6f36c02b-2d40-4b01-b514-c765c82b9422",
     "showTitle": false,
     "title": ""
    }
   },
   "outputs": [],
   "source": [
    "#Task 7:\n"
   ]
  },
  {
   "cell_type": "markdown",
   "metadata": {
    "application/vnd.databricks.v1+cell": {
     "cellMetadata": {},
     "inputWidgets": {},
     "nuid": "de26cc38-1138-48d4-9ff8-1fbe5eb23034",
     "showTitle": false,
     "title": ""
    }
   },
   "source": [
    "It seems now that all the positive cases are classified correctly thanks to the change of the prediction threshold. Let's check the performance on the test data.\n",
    "\n",
    "### Exercise\n",
    "\n",
    "- Save the probabilities of the positive class from the model on the `X_test_scaled` dataset in the variable `probs_test`.\n",
    "- Convert the probabilities into predictions with a threshold 20% as above.\n",
    "- Return a confusion matrix using\n",
    "[`.confusion_matrix()`](https://scikit-learn.org/stable/modules/generated/sklearn.metrics.confusion_matrix.html)\n",
    "as well as a classification report using\n",
    "[`.classification_report()`](https://scikit-learn.org/stable/modules/generated/sklearn.metrics.classification_report.html)\n",
    "for the test set."
   ]
  },
  {
   "cell_type": "code",
   "execution_count": 0,
   "metadata": {
    "application/vnd.databricks.v1+cell": {
     "cellMetadata": {
      "byteLimit": 2048000,
      "rowLimit": 10000
     },
     "inputWidgets": {},
     "nuid": "506ca4c7-31e5-498e-9d30-2240a5727e11",
     "showTitle": false,
     "title": ""
    }
   },
   "outputs": [],
   "source": [
    "#Task 8:\n"
   ]
  },
  {
   "cell_type": "markdown",
   "metadata": {
    "application/vnd.databricks.v1+cell": {
     "cellMetadata": {},
     "inputWidgets": {},
     "nuid": "4247c7b9-bf1d-4906-9881-7f91ccc6bcb0",
     "showTitle": false,
     "title": ""
    }
   },
   "source": [
    "Great. The model classifies all the 6 positive cases correctly on the test set. There are 2 cases when the patient did not have a cancer but the model predicted a cancer. \n",
    "What we were trying to optimize here is the **recall for a positive class** as we want to catch as many positive cases as possible. You can see the values of recall for the class 1 as a function of the threshold on the chart below."
   ]
  },
  {
   "cell_type": "code",
   "execution_count": 0,
   "metadata": {
    "application/vnd.databricks.v1+cell": {
     "cellMetadata": {
      "byteLimit": 2048000,
      "rowLimit": 10000
     },
     "inputWidgets": {},
     "nuid": "ebfcc1d5-0c38-440f-8f5a-695a9f51727c",
     "showTitle": false,
     "title": ""
    }
   },
   "outputs": [],
   "source": [
    "recalls = []\n",
    "for threshold in np.linspace(0,1,100):\n",
    "    preds_train = (probs_train>=threshold).astype(int)\n",
    "    recalls.append(metrics.classification_report(y_train, preds_train, output_dict=True,zero_division=1)['1']['recall'])\n",
    "plt.xlabel('threshold')\n",
    "plt.ylabel('recall for class 1')\n",
    "plt.title(\"A search for optimal threshold\")\n",
    "plt.plot(np.linspace(0,1,100), recalls)\n",
    "plt.show()"
   ]
  },
  {
   "cell_type": "markdown",
   "metadata": {
    "application/vnd.databricks.v1+cell": {
     "cellMetadata": {},
     "inputWidgets": {},
     "nuid": "41d54092-badb-44cb-8b63-79129d39d8c7",
     "showTitle": false,
     "title": ""
    }
   },
   "source": [
    "We can return the parameters of the fitted model. This is convenient for automatic retraining of the model where you can extract the parameters of the best model and also set the parameters of the model with `set_params(**params)`."
   ]
  },
  {
   "cell_type": "code",
   "execution_count": 0,
   "metadata": {
    "application/vnd.databricks.v1+cell": {
     "cellMetadata": {
      "byteLimit": 2048000,
      "rowLimit": 10000
     },
     "inputWidgets": {},
     "nuid": "c7369453-5231-4774-b760-e67c27430818",
     "showTitle": false,
     "title": ""
    }
   },
   "outputs": [],
   "source": [
    "lr.get_params()"
   ]
  },
  {
   "cell_type": "markdown",
   "metadata": {
    "application/vnd.databricks.v1+cell": {
     "cellMetadata": {},
     "inputWidgets": {},
     "nuid": "df48c231-cc90-4bb5-a87e-96d10abc6031",
     "showTitle": false,
     "title": ""
    }
   },
   "source": [
    "## Regularization\n",
    "\n",
    "Similarly to linear regression you can apply any of the l1, l2 and elastic net regularization techniques. Here the strength of the regularization is defined by the parameter C which is the inverse of alpha. This means that the smaller the C the stronger the regularization. The default value for C is 1.\n",
    "\n",
    "Different regularization techniques work only with certain solvers, e.g. for the L1 penalty we have to use either liblinear or saga solver, L2 can be handled with newton-cg, lbfgs and sag solvers, elasticnet works only with saga solver. For elasticnet you can adjust the parameter `l1_ratio`.\n",
    "\n",
    "### Exercise\n",
    "\n",
    "- Fit the logistic regression on `X_train_scaled` with a regularization of your choice through the parameter `penalty`.\n",
    "- Change the solver if needed, see documentation.\n",
    "- Try different values of C to see the effect on results. Try also stronger values such as 0.1, 0.01, ...\n",
    "- Predict on `X_test_scaled` and return a classification report."
   ]
  },
  {
   "cell_type": "code",
   "execution_count": 0,
   "metadata": {
    "application/vnd.databricks.v1+cell": {
     "cellMetadata": {
      "byteLimit": 2048000,
      "rowLimit": 10000
     },
     "inputWidgets": {},
     "nuid": "7b78495b-a7f1-460c-9abc-1ccd7e60d3c9",
     "showTitle": false,
     "title": ""
    }
   },
   "outputs": [],
   "source": [
    "#Task 9:\n"
   ]
  },
  {
   "cell_type": "code",
   "execution_count": 0,
   "metadata": {
    "application/vnd.databricks.v1+cell": {
     "cellMetadata": {
      "byteLimit": 2048000,
      "rowLimit": 10000
     },
     "inputWidgets": {},
     "nuid": "47a8acbf-3483-4329-ae21-7632f859dd01",
     "showTitle": false,
     "title": ""
    }
   },
   "outputs": [],
   "source": [
    "print(f'coefficients of the logistic regression:\\n {lr.coef_}')"
   ]
  },
  {
   "cell_type": "markdown",
   "metadata": {
    "application/vnd.databricks.v1+cell": {
     "cellMetadata": {},
     "inputWidgets": {},
     "nuid": "28f025a8-03c9-4d01-ad0f-49b2c0eebe07",
     "showTitle": false,
     "title": ""
    }
   },
   "source": [
    "If you fitted, for example, LogisticRegression(penalty='l1', C = 0.1, solver='liblinear') you would see that many of the coefficients are equal to 0. This behavior of l1 is expected not only for linear but also for logistic regression."
   ]
  },
  {
   "cell_type": "markdown",
   "metadata": {
    "application/vnd.databricks.v1+cell": {
     "cellMetadata": {},
     "inputWidgets": {},
     "nuid": "1fe1f36d-3c67-4afb-aafd-f3a55057b662",
     "showTitle": false,
     "title": ""
    }
   },
   "source": [
    "# Multinomial Logistic Regression"
   ]
  },
  {
   "cell_type": "markdown",
   "metadata": {
    "application/vnd.databricks.v1+cell": {
     "cellMetadata": {},
     "inputWidgets": {},
     "nuid": "f04adce6-4eb1-4f26-a283-e10190bc6de3",
     "showTitle": false,
     "title": ""
    }
   },
   "source": [
    "## Load data\n",
    "\n",
    "Here we will use here a dataset of handwritten numbers in a low resolution of 8x8 pixels. One picture is 64 values of pixels. There are 10 classes. You can see a few examples of these obserations in the picture below. We also perform the usual train test split and a scaling of features to help the optimizers converge."
   ]
  },
  {
   "cell_type": "code",
   "execution_count": 0,
   "metadata": {
    "application/vnd.databricks.v1+cell": {
     "cellMetadata": {
      "byteLimit": 2048000,
      "rowLimit": 10000
     },
     "inputWidgets": {},
     "nuid": "85886545-93fb-40c3-9d48-babdadea8627",
     "showTitle": false,
     "title": ""
    }
   },
   "outputs": [],
   "source": [
    "data = datasets.load_digits()\n",
    "X, y = data.data, data.target\n",
    "X_train , X_test , y_train , y_test = train_test_split(X, y, random_state=42)\n",
    "\n",
    "scaler = StandardScaler()\n",
    "X_train_scaled = scaler.fit_transform(X_train)\n",
    "X_test_scaled = scaler.transform(X_test)\n",
    "\n",
    "for i in range(10):\n",
    "    plt.subplot(2,5,i+1)\n",
    "    num = random.randint(0, len(data))\n",
    "    plt.imshow(data.images[num], cmap=plt.cm.gray, vmax=16, interpolation='nearest')"
   ]
  },
  {
   "cell_type": "code",
   "execution_count": 0,
   "metadata": {
    "application/vnd.databricks.v1+cell": {
     "cellMetadata": {
      "byteLimit": 2048000,
      "rowLimit": 10000
     },
     "inputWidgets": {},
     "nuid": "3ba0b553-1e80-42c6-bc70-d43099f26c0f",
     "showTitle": false,
     "title": ""
    }
   },
   "outputs": [],
   "source": [
    "print(data.DESCR)"
   ]
  },
  {
   "cell_type": "markdown",
   "metadata": {
    "application/vnd.databricks.v1+cell": {
     "cellMetadata": {},
     "inputWidgets": {},
     "nuid": "14811cd2-5f1f-4b5f-9b31-f3c02e9f09bc",
     "showTitle": false,
     "title": ""
    }
   },
   "source": [
    "### Exercise\n",
    "\n",
    "- Fit a default logistic regression on `X_train_scaled` and `y_train`.\n",
    "- Predict and print the classification report on `X_test_scaled`."
   ]
  },
  {
   "cell_type": "code",
   "execution_count": 0,
   "metadata": {
    "application/vnd.databricks.v1+cell": {
     "cellMetadata": {
      "byteLimit": 2048000,
      "rowLimit": 10000
     },
     "inputWidgets": {},
     "nuid": "e12c6cd0-4bf5-402e-9e92-28214d41bf1f",
     "showTitle": false,
     "title": ""
    }
   },
   "outputs": [],
   "source": [
    "#Task 10:\n"
   ]
  },
  {
   "cell_type": "markdown",
   "metadata": {
    "application/vnd.databricks.v1+cell": {
     "cellMetadata": {},
     "inputWidgets": {},
     "nuid": "439dfb61-9676-480e-aa7b-7ac6dff0062b",
     "showTitle": false,
     "title": ""
    }
   },
   "source": [
    "You can see that in the classification report there is 1 row per class with all the statistics.\n",
    "\n",
    "If you return probabilites with the\n",
    "[`predict_proba()`](https://scikit-learn.org/stable/modules/generated/sklearn.linear_model.LogisticRegression.html#sklearn.linear_model.LogisticRegression.predict_proba)\n",
    "method you will see that it has 1 column per class. It is a generalization of the binary case. The sum of all the probabilities per row is equal to 1."
   ]
  },
  {
   "cell_type": "code",
   "execution_count": 0,
   "metadata": {
    "application/vnd.databricks.v1+cell": {
     "cellMetadata": {
      "byteLimit": 2048000,
      "rowLimit": 10000
     },
     "inputWidgets": {},
     "nuid": "b310fa74-dad9-42ec-9d40-1cc35f804de1",
     "showTitle": false,
     "title": ""
    }
   },
   "outputs": [],
   "source": [
    "probs = lr.predict_proba(X_test_scaled)\n",
    "print(f'predict_proba shape: {probs.shape}')"
   ]
  },
  {
   "cell_type": "markdown",
   "metadata": {
    "application/vnd.databricks.v1+cell": {
     "cellMetadata": {},
     "inputWidgets": {},
     "nuid": "c060b608-98ff-4efe-b8a9-522fd8a6646b",
     "showTitle": false,
     "title": ""
    }
   },
   "source": [
    "Logistic regression can handle multinomial regression without any special setting. There is however a parameter that lets you choose the strategy for the multinomial problem which then is either _one vs rest_ or _softmax regression_. The choice of the strategy is also dependent on the selected solver. I.e. if `solver = 'liblinear'` then a softmax regression is not possible. In this case and if the problem is binary, the default strategy for `multi_class` is one vs rest. Otherwise it is softmax.\n",
    "\n",
    "### Exercise\n",
    "- Fit a logistic regression to `X_train_scaled` and `y_train`. Use the parameter `multi_class` with the value 'ovr' which is the one vs rest strategy.\n",
    "- Return the probabilities."
   ]
  },
  {
   "cell_type": "code",
   "execution_count": 0,
   "metadata": {
    "application/vnd.databricks.v1+cell": {
     "cellMetadata": {
      "byteLimit": 2048000,
      "rowLimit": 10000
     },
     "inputWidgets": {},
     "nuid": "68105388-7e4a-43f9-8b3e-470b3ecddfdb",
     "showTitle": false,
     "title": ""
    }
   },
   "outputs": [],
   "source": [
    "#Task 11:\n",
    "\n",
    "...\n",
    "...\n",
    "...\n",
    "probs = ...\n",
    "print(f'predict_proba shape: {probs.shape}')\n",
    "np.sum(probs,axis=1)"
   ]
  },
  {
   "cell_type": "markdown",
   "metadata": {
    "application/vnd.databricks.v1+cell": {
     "cellMetadata": {},
     "inputWidgets": {},
     "nuid": "d2ab3c7a-fa01-491b-ad8d-97af4ace00dc",
     "showTitle": false,
     "title": ""
    }
   },
   "source": [
    "------------------------------------------------------------------------------------------------------------\n",
    "Material adapted for RBI internal purposes with full permissions from original authors."
   ]
  }
 ],
 "metadata": {
  "application/vnd.databricks.v1+notebook": {
   "dashboards": [],
   "environmentMetadata": null,
   "language": "python",
   "notebookMetadata": {
    "pythonIndentUnit": 4
   },
   "notebookName": "3_Logistic_Regression_Exercise_jupyter",
   "widgets": {}
  }
 },
 "nbformat": 4,
 "nbformat_minor": 0
}
