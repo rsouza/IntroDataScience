{
 "cells": [
  {
   "cell_type": "code",
   "execution_count": 0,
   "metadata": {
    "application/vnd.databricks.v1+cell": {
     "cellMetadata": {
      "byteLimit": 2048000,
      "rowLimit": 10000
     },
     "inputWidgets": {},
     "nuid": "0c6f2fe9-0a7e-46de-bce7-995a8575c678",
     "showTitle": false,
     "title": ""
    }
   },
   "outputs": [],
   "source": [
    "import numpy as np\n",
    "import matplotlib.pyplot as plt\n",
    "import pandas as pd\n",
    "import seaborn as sns\n",
    "plt.rcParams[\"figure.figsize\"] = (15,4) # the charts will have a size of width = 15, height = 4\n",
    "\n",
    "\n",
    "from sklearn.metrics import mean_squared_error, mean_absolute_error\n",
    "from sklearn.linear_model import LinearRegression\n",
    "from sklearn.preprocessing import StandardScaler, PolynomialFeatures\n",
    "from sklearn.model_selection import train_test_split\n",
    "from sklearn import datasets\n",
    "\n",
    "#%matplotlib inline"
   ]
  },
  {
   "cell_type": "markdown",
   "metadata": {
    "application/vnd.databricks.v1+cell": {
     "cellMetadata": {},
     "inputWidgets": {},
     "nuid": "53118768-2635-4ade-810c-f3735d8ede3e",
     "showTitle": false,
     "title": ""
    }
   },
   "source": [
    "# Linear regression with 1 feature\n",
    "## Generate a dataset for Linear Regression\n",
    "For this lesson we will create an artificial dataset using the\n",
    "[`sklearn.datasets`](https://scikit-learn.org/stable/modules/classes.html#module-sklearn.datasets)\n",
    "module of sklearn. \n",
    "\n",
    "- With the\n",
    "[`make_regression()`](https://scikit-learn.org/stable/modules/generated/sklearn.datasets.make_regression.html) \n",
    "function of\n",
    "[`datasets`](https://scikit-learn.org/stable/modules/classes.html#module-sklearn.datasets)\n",
    "we can generate a synthetical dataset for a regression problem.\n",
    "- Here we generate 100 observations with 1 explanatory variable and a standard deviation for the gaussian noise of 40.\n",
    "- If you want to read the documentation you can always **run the function name with a questionmark before the name** like in the cell below. This will open the documentation directly in jupyter notebok. You can also read the documentation on the internet, e.g. https://scikit-learn.org/stable/modules/generated/sklearn.datasets.make_regression.html"
   ]
  },
  {
   "cell_type": "code",
   "execution_count": 0,
   "metadata": {
    "application/vnd.databricks.v1+cell": {
     "cellMetadata": {
      "byteLimit": 2048000,
      "rowLimit": 10000
     },
     "inputWidgets": {},
     "nuid": "10cfd189-fb5a-4ea0-86eb-34ef8d9f6586",
     "showTitle": false,
     "title": ""
    }
   },
   "outputs": [],
   "source": [
    "?datasets.make_regression"
   ]
  },
  {
   "cell_type": "code",
   "execution_count": 0,
   "metadata": {
    "application/vnd.databricks.v1+cell": {
     "cellMetadata": {
      "byteLimit": 2048000,
      "rowLimit": 10000
     },
     "inputWidgets": {},
     "nuid": "cde4b6cd-2aac-4a84-8e89-eeff1ae6eaf4",
     "showTitle": false,
     "title": ""
    }
   },
   "outputs": [],
   "source": [
    "x, y, coeff = datasets.make_regression(n_samples = 100, \n",
    "                                       n_features = 1,\n",
    "                                       noise = 40,\n",
    "                                       coef = True,\n",
    "                                       bias = 50,\n",
    "                                       random_state = 42)\n",
    "\n",
    "# Funny Note\n",
    "# if you have read Hitchiker's Guide to the Galaxy then\n",
    "# you know that 42 is the universal answer to life, the universe and everything\n",
    "# https://www.quora.com/Why-do-we-choose-random-state-as-42-very-often-during-training-a-machine-learning-model"
   ]
  },
  {
   "cell_type": "markdown",
   "metadata": {
    "application/vnd.databricks.v1+cell": {
     "cellMetadata": {},
     "inputWidgets": {},
     "nuid": "b4508878-40aa-409d-833b-86d34c542ff5",
     "showTitle": false,
     "title": ""
    }
   },
   "source": [
    "We can plot x against y to see what the data look like."
   ]
  },
  {
   "cell_type": "code",
   "execution_count": 0,
   "metadata": {
    "application/vnd.databricks.v1+cell": {
     "cellMetadata": {
      "byteLimit": 2048000,
      "rowLimit": 10000
     },
     "inputWidgets": {},
     "nuid": "fb86d809-abed-4138-b14c-cad076e1e9a6",
     "showTitle": false,
     "title": ""
    }
   },
   "outputs": [],
   "source": [
    "#plt.figure(figsize=(15,4))\n",
    "plt.scatter(x,y)\n",
    "plt.title('Data')\n",
    "plt.show()"
   ]
  },
  {
   "cell_type": "markdown",
   "metadata": {
    "application/vnd.databricks.v1+cell": {
     "cellMetadata": {},
     "inputWidgets": {},
     "nuid": "8f1f1fe6-d447-414c-aa9c-61e7a6b94a7b",
     "showTitle": false,
     "title": ""
    }
   },
   "source": [
    "Run the user defined function below which plots the observations and a line, and calculates the RMSE. You will use this function in the exercises!\n",
    "It takes as inputs x and y, the intercept value and a coefficient value."
   ]
  },
  {
   "cell_type": "code",
   "execution_count": 0,
   "metadata": {
    "application/vnd.databricks.v1+cell": {
     "cellMetadata": {
      "byteLimit": 2048000,
      "rowLimit": 10000
     },
     "inputWidgets": {},
     "nuid": "4fb36660-2108-4203-a6a5-32eb85fa07f8",
     "showTitle": false,
     "title": ""
    }
   },
   "outputs": [],
   "source": [
    "def plot_regression(x, y, bias, coeff):\n",
    "    \"\"\"\n",
    "    The function plots a scatterpot of x, y and a line with bias and coefficient. It also calculates the RMSE.\n",
    "    ---------------\n",
    "    params:\n",
    "    - x: points on the x-axis\n",
    "    - y: points on the y-axis\n",
    "    - bias: intercept of the line\n",
    "    - coeff: slope of the line\n",
    "     \"\"\"\n",
    "    y_hat = bias + x * coeff # predictions of x can be calculated easily \n",
    "                             # by multiplying the features with coefficients\n",
    "    print(f'MSE2 : {round(mean_squared_error(y,y_hat),1)}') \n",
    "    print(f'RMSE2 : {round(mean_squared_error(y,y_hat,squared=False),1)}')\n",
    "\n",
    "    # chart\n",
    "    fig, ax = plt.subplots()\n",
    "\n",
    "    ax.set_title('Observations with regression line')\n",
    "    ax.scatter(x,y) # scatter\n",
    "    ax.axline((0, bias), slope=coeff, ls='--', c='r') # line"
   ]
  },
  {
   "cell_type": "markdown",
   "metadata": {
    "application/vnd.databricks.v1+cell": {
     "cellMetadata": {},
     "inputWidgets": {},
     "nuid": "91f6c025-812d-437c-993a-84713faf8e8d",
     "showTitle": false,
     "title": ""
    }
   },
   "source": [
    "### Exercise \n",
    "We want to fit a model that looks like this: \n",
    "$$\\widehat{y} = \\beta_0 + \\beta_1 x_1 ,$$ \n",
    "where \\\\(\\beta_0\\\\) is a bias term and \\\\(\\beta_1\\\\) is the slope of the line.\n",
    "\n",
    "Use our user-defined function `plot_regression()` and try different values of bias and coeff of the regression line. Observe the change in the values of the cost function and the behavior of the line with the change of the parameters. \n",
    "- What does a line look like if the coeff is positive, negative or zero?\n",
    "- What is the influence of the bias term on the line?\n",
    "- Can you guess a suitable set of parameters? \n",
    "- What are the units of the MSE and RMSE in relation to dependent variable y? Which one is more intuitive to use for interpretation?"
   ]
  },
  {
   "cell_type": "code",
   "execution_count": 0,
   "metadata": {
    "application/vnd.databricks.v1+cell": {
     "cellMetadata": {
      "byteLimit": 2048000,
      "rowLimit": 10000
     },
     "inputWidgets": {},
     "nuid": "61c6eb37-06e8-4f08-81df-32bc45d5f5ff",
     "showTitle": false,
     "title": ""
    }
   },
   "outputs": [],
   "source": [
    "# Task 1: Try different values of bias and coeffs\n",
    "\n",
    "# plot_regression(x, y, bias=..., coeff=...)\n",
    "plot_regression(x,y,10,10)"
   ]
  },
  {
   "cell_type": "markdown",
   "metadata": {
    "application/vnd.databricks.v1+cell": {
     "cellMetadata": {},
     "inputWidgets": {},
     "nuid": "8d78d12b-115b-4983-8e7f-141e0bbd910c",
     "showTitle": false,
     "title": ""
    }
   },
   "source": [
    "## Normal Equation\n",
    "\n",
    "The function `normal_eq()`  computes \\\\(\\widehat{\\beta}= (X^T X)^{-1} X^T y \\\\). It takes as input X and y and returns optimal values for the bias (intercept) term and the coefficient (slope)."
   ]
  },
  {
   "cell_type": "code",
   "execution_count": 0,
   "metadata": {
    "application/vnd.databricks.v1+cell": {
     "cellMetadata": {
      "byteLimit": 2048000,
      "rowLimit": 10000
     },
     "inputWidgets": {},
     "nuid": "c36012eb-8f5e-4ca4-84a7-19e2566015e1",
     "showTitle": false,
     "title": ""
    }
   },
   "outputs": [],
   "source": [
    "def normal_eq(x,y): \n",
    "    \"\"\"\n",
    "    The function analytically computes the optimal set of coefficients given x and y. \n",
    "    A vector of ones is appended as the first vector of matrix x to take into account the bias term. \n",
    "    ---------------\n",
    "    params:\n",
    "    - x: input features matrix\n",
    "    - y: target variable\n",
    "    returns: \n",
    "    - beta_hat: optimal set of coefficients for linear regression\n",
    "    \"\"\"\n",
    "    X = np.c_[np.ones(len(x)),x]\n",
    "    beta_hat = np.linalg.inv(X.T.dot(X)).dot(X.T).dot(y)\n",
    "    print(f\"Optimal set of coefficients: {beta_hat}\")\n",
    "    return(beta_hat)"
   ]
  },
  {
   "cell_type": "markdown",
   "metadata": {
    "application/vnd.databricks.v1+cell": {
     "cellMetadata": {},
     "inputWidgets": {},
     "nuid": "049b7745-bc1a-44c1-a83e-7f9386ac4afb",
     "showTitle": false,
     "title": ""
    }
   },
   "source": [
    "### Exercise\n",
    "\n",
    "- Use our user-defined function `normal_eq()` on the input features x and the output vector y.\n",
    "- Use the returned values of the bias and coef in the `plot_regression` function.\n",
    "\n",
    "Was your guess for the bias and coeff value from the previous exercise close enough?"
   ]
  },
  {
   "cell_type": "code",
   "execution_count": 0,
   "metadata": {
    "application/vnd.databricks.v1+cell": {
     "cellMetadata": {
      "byteLimit": 2048000,
      "rowLimit": 10000
     },
     "inputWidgets": {},
     "nuid": "45058c32-8a2b-4e24-8560-b4320ab4b8ef",
     "showTitle": false,
     "title": ""
    }
   },
   "outputs": [],
   "source": [
    "# Task 2: use normal_eq() and find coeffs\n",
    "\n",
    "#..., ... = normal_eq(x, y) \n",
    "#plot_regression(..., ..., ..., ...)\n",
    "\n",
    "bias, coeff = normal_eq(x, y) \n",
    "plot_regression(x, y, bias, coeff)"
   ]
  },
  {
   "cell_type": "markdown",
   "metadata": {
    "application/vnd.databricks.v1+cell": {
     "cellMetadata": {},
     "inputWidgets": {},
     "nuid": "11544b6b-7a85-414c-aa0c-09fcf8ae0079",
     "showTitle": false,
     "title": ""
    }
   },
   "source": [
    "## Sklearn Linear Regression\n",
    "\n",
    "Here we explore the linear regression from scikit learn for the first time. Help yourself with [examples from the documentation](https://scikit-learn.org/stable/modules/generated/sklearn.linear_model.LinearRegression.html) if needed: \n",
    "\n",
    "### Exercise\n",
    "- Use\n",
    "[`LinearRegression()`](https://scikit-learn.org/stable/modules/generated/sklearn.linear_model.LinearRegression.html)\n",
    "from\n",
    "[`sklearn.linear_model`](https://scikit-learn.org/stable/modules/classes.html#module-sklearn.linear_model)\n",
    "to fit the linear regression model on x, y.\n",
    "Look at the examples section in the documentation if you need help.\n",
    "- Return the coefficients for slope and intercept of the regression line.\n",
    "You can find them in the attributes section of the documentation.\n",
    "Store the values in the variables `lr_coef` and `lr_intercept`.\n",
    "Are these values the same as the ones from the normal equation?"
   ]
  },
  {
   "cell_type": "code",
   "execution_count": 0,
   "metadata": {
    "application/vnd.databricks.v1+cell": {
     "cellMetadata": {
      "byteLimit": 2048000,
      "rowLimit": 10000
     },
     "inputWidgets": {},
     "nuid": "9fc26a12-5384-421b-ab03-d1c0ec7ce235",
     "showTitle": false,
     "title": ""
    }
   },
   "outputs": [],
   "source": [
    "# Task 3: implement linear regression\n",
    "\n",
    "#lr = ...\n",
    "#lr.fit(..., ...)\n",
    "#lr_coef, lr_intercept = lr...., lr....\n",
    "\n",
    "lr = LinearRegression()\n",
    "lr.fit(x,y)\n",
    "lr_coef, lr_intercept = lr.coef_, lr.intercept_\n",
    "print(f'Slope: {lr_coef}\\nBias: {lr_intercept}')"
   ]
  },
  {
   "cell_type": "markdown",
   "metadata": {
    "application/vnd.databricks.v1+cell": {
     "cellMetadata": {},
     "inputWidgets": {},
     "nuid": "573031b1-cf24-4710-b8bd-e785e7c362d1",
     "showTitle": false,
     "title": ""
    }
   },
   "source": [
    "- Next, predict the value of the new observation. If needed use the [documentation](https://scikit-learn.org/stable/modules/generated/sklearn.linear_model.LinearRegression.html) for some examples."
   ]
  },
  {
   "cell_type": "code",
   "execution_count": 0,
   "metadata": {
    "application/vnd.databricks.v1+cell": {
     "cellMetadata": {
      "byteLimit": 2048000,
      "rowLimit": 10000
     },
     "inputWidgets": {},
     "nuid": "90ea874c-e79a-4a21-86ab-b3dd8719e176",
     "showTitle": false,
     "title": ""
    }
   },
   "outputs": [],
   "source": [
    "# Task 4: predict the value of new observations\n",
    "x_new = [[1.5], [0]]\n",
    "lr.predict(x_new)"
   ]
  },
  {
   "cell_type": "markdown",
   "metadata": {
    "application/vnd.databricks.v1+cell": {
     "cellMetadata": {},
     "inputWidgets": {},
     "nuid": "0b2a5e4b-ea2c-47fa-b2ff-79e5dcfa045c",
     "showTitle": false,
     "title": ""
    }
   },
   "source": [
    "- Lastly, return the score of the model on x and y. You can read more about the score in the [documentation](https://scikit-learn.org/stable/modules/generated/sklearn.linear_model.LinearRegression.html#sklearn.linear_model.LinearRegression.score). The best value is 1. Usually it is between 0 and 1 but it can be also negative. The score is the [R-squared metric](https://en.wikipedia.org/wiki/Coefficient_of_determination) that can be used for the evaluation of the model."
   ]
  },
  {
   "cell_type": "code",
   "execution_count": 0,
   "metadata": {
    "application/vnd.databricks.v1+cell": {
     "cellMetadata": {
      "byteLimit": 2048000,
      "rowLimit": 10000
     },
     "inputWidgets": {},
     "nuid": "9dba8add-95ca-453a-b54e-7d444c31feac",
     "showTitle": false,
     "title": ""
    }
   },
   "outputs": [],
   "source": [
    "# Task 5: predict the value of new observations\n",
    "#lr.score(..., ...)\n",
    "\n",
    "lr.score(x,y)"
   ]
  },
  {
   "cell_type": "markdown",
   "metadata": {
    "application/vnd.databricks.v1+cell": {
     "cellMetadata": {},
     "inputWidgets": {},
     "nuid": "0f7f63b8-e6b8-4ce2-9d88-96720e3e4634",
     "showTitle": false,
     "title": ""
    }
   },
   "source": [
    "## Outliers\n",
    "\n",
    "We will now add outliers to our dataset and save them under the names x2 and y2."
   ]
  },
  {
   "cell_type": "code",
   "execution_count": 0,
   "metadata": {
    "application/vnd.databricks.v1+cell": {
     "cellMetadata": {
      "byteLimit": 2048000,
      "rowLimit": 10000
     },
     "inputWidgets": {},
     "nuid": "d08f47c9-cc0f-4062-975c-1d36ad9fedb7",
     "showTitle": false,
     "title": ""
    }
   },
   "outputs": [],
   "source": [
    "x2 = np.append(x,[np.min(x)-0.1, np.min(x), np.min(x)-0.15]).reshape([-1,1])\n",
    "y2 = np.append(y, [-400,-300,-350]).reshape([-1,1])"
   ]
  },
  {
   "cell_type": "markdown",
   "metadata": {
    "application/vnd.databricks.v1+cell": {
     "cellMetadata": {},
     "inputWidgets": {},
     "nuid": "4fe846f6-9dbc-4c88-91e0-156c98534877",
     "showTitle": false,
     "title": ""
    }
   },
   "source": [
    "### Exercise\n",
    "\n",
    "Fit the linear regression to x2, y2 and store the bias in the variable `lr_outlier_intercept` and the slope in the variable `lr_outlier_coef`."
   ]
  },
  {
   "cell_type": "code",
   "execution_count": 0,
   "metadata": {
    "application/vnd.databricks.v1+cell": {
     "cellMetadata": {
      "byteLimit": 2048000,
      "rowLimit": 10000
     },
     "inputWidgets": {},
     "nuid": "8df7eca9-616d-4591-9b00-6ad88f86d7c9",
     "showTitle": false,
     "title": ""
    }
   },
   "outputs": [],
   "source": [
    "# Task 6: Fit linear regression\n",
    "\n",
    "lr_outlier = LinearRegression()\n",
    "lr_outlier.fit(x2,y2)\n",
    "lr_outlier_coef, lr_outlier_intercept = lr_outlier.coef_, lr_outlier.intercept_"
   ]
  },
  {
   "cell_type": "markdown",
   "metadata": {
    "application/vnd.databricks.v1+cell": {
     "cellMetadata": {},
     "inputWidgets": {},
     "nuid": "5f15ddd8-04ca-4361-85c7-bb9ebcd67a29",
     "showTitle": false,
     "title": ""
    }
   },
   "source": [
    "You can observe on the chart how outliers influence the regression line. Outlier treatment should be one of the first steps done before fitting a linear regression model, otherwise the results can be biased."
   ]
  },
  {
   "cell_type": "code",
   "execution_count": 0,
   "metadata": {
    "application/vnd.databricks.v1+cell": {
     "cellMetadata": {
      "byteLimit": 2048000,
      "rowLimit": 10000
     },
     "inputWidgets": {},
     "nuid": "49f9273d-1865-488c-a3ab-469d55170026",
     "showTitle": false,
     "title": ""
    }
   },
   "outputs": [],
   "source": [
    "lr_intercept"
   ]
  },
  {
   "cell_type": "code",
   "execution_count": 0,
   "metadata": {
    "application/vnd.databricks.v1+cell": {
     "cellMetadata": {
      "byteLimit": 2048000,
      "rowLimit": 10000
     },
     "inputWidgets": {},
     "nuid": "bff0e8c8-93d3-4ffb-a91d-37cf9c132216",
     "showTitle": false,
     "title": ""
    }
   },
   "outputs": [],
   "source": [
    "fig, ax = plt.subplots()\n",
    "\n",
    "ax.scatter(x2, y2)\n",
    "ax.axline((0, lr_intercept), slope=lr_coef, ls='--', c=\"r\", label='original regression line')\n",
    "ax.axline((0, lr_outlier_intercept[0]), slope=lr_outlier_coef, ls='--', c='b', label='regression line with outliers')\n",
    "\n",
    "ax.legend();"
   ]
  },
  {
   "cell_type": "markdown",
   "metadata": {
    "application/vnd.databricks.v1+cell": {
     "cellMetadata": {},
     "inputWidgets": {},
     "nuid": "cdef1d21-9225-4604-b5fb-7d4b83c40aee",
     "showTitle": false,
     "title": ""
    }
   },
   "source": [
    "# Multiple Linear Regression"
   ]
  },
  {
   "cell_type": "markdown",
   "metadata": {
    "application/vnd.databricks.v1+cell": {
     "cellMetadata": {},
     "inputWidgets": {},
     "nuid": "b45031e9-d2c2-44f5-bfa6-3d14f5556dbf",
     "showTitle": false,
     "title": ""
    }
   },
   "source": [
    "## Load Dataset\n",
    "\n",
    "Load sklearn's inbuilt dataset for regression. If you want you can read the description of the dataset [here](http://lib.stat.cmu.edu/datasets/boston). It has 13 attributes that can be used for predicting house prices. "
   ]
  },
  {
   "cell_type": "code",
   "execution_count": 0,
   "metadata": {
    "application/vnd.databricks.v1+cell": {
     "cellMetadata": {
      "byteLimit": 2048000,
      "rowLimit": 10000
     },
     "inputWidgets": {},
     "nuid": "77bb1a58-e9b4-4952-b490-727ef6c955b3",
     "showTitle": false,
     "title": ""
    }
   },
   "outputs": [],
   "source": [
    "raw_df = pd.read_csv('../../../Data/Boston.csv')\n",
    "\n",
    "y = pd.DataFrame(raw_df['target'])\n",
    "x = pd.DataFrame(raw_df.iloc[:,1:-1])"
   ]
  },
  {
   "cell_type": "markdown",
   "metadata": {
    "application/vnd.databricks.v1+cell": {
     "cellMetadata": {},
     "inputWidgets": {},
     "nuid": "6e6e5309-8c51-43ad-bae2-0ee2fbd188f4",
     "showTitle": false,
     "title": ""
    }
   },
   "source": [
    "## Train Test Split\n",
    "\n",
    "### Exercise \n",
    "Use the function [`train_test_split()`](https://scikit-learn.org/stable/modules/generated/sklearn.model_selection.train_test_split.html) to split the training data into training and testing datasets."
   ]
  },
  {
   "cell_type": "code",
   "execution_count": 0,
   "metadata": {
    "application/vnd.databricks.v1+cell": {
     "cellMetadata": {
      "byteLimit": 2048000,
      "rowLimit": 10000
     },
     "inputWidgets": {},
     "nuid": "c81b8137-1f95-4633-8781-6a339044d8af",
     "showTitle": false,
     "title": ""
    }
   },
   "outputs": [],
   "source": [
    "# Task 7: use function train_test_split() to split the training data into training and testing dataset\n",
    "\n",
    "X_train, X_test, y_train, y_test = train_test_split(x, y, random_state=42)"
   ]
  },
  {
   "cell_type": "markdown",
   "metadata": {
    "application/vnd.databricks.v1+cell": {
     "cellMetadata": {},
     "inputWidgets": {},
     "nuid": "e49a4274-3dfd-43cd-97b7-252dafe6f8aa",
     "showTitle": false,
     "title": ""
    }
   },
   "source": [
    "## Fit the Model\n",
    "### Exercise\n",
    "- Instantiate the linear regression model.\n",
    "- Fit the model to the training data.\n",
    "- Print the value of the intercept of the model.\n",
    "- Return the values of the coefficients and save them under the variable `model_coef`."
   ]
  },
  {
   "cell_type": "code",
   "execution_count": 0,
   "metadata": {
    "application/vnd.databricks.v1+cell": {
     "cellMetadata": {
      "byteLimit": 2048000,
      "rowLimit": 10000
     },
     "inputWidgets": {},
     "nuid": "67187940-9523-4328-abe5-0d8b62271c56",
     "showTitle": false,
     "title": ""
    }
   },
   "outputs": [],
   "source": [
    "# Task 8: instantiate the model\n",
    "model = LinearRegression()\n",
    "\n",
    "# Task 9: fit the model to x, y\n",
    "model.fit(X_train, y_train)\n",
    "print(f\"intercept: {model.intercept_}\")\n",
    "model_coef = model.coef_"
   ]
  },
  {
   "cell_type": "markdown",
   "metadata": {
    "application/vnd.databricks.v1+cell": {
     "cellMetadata": {},
     "inputWidgets": {},
     "nuid": "9d08592b-a7c0-48f5-ba0d-a193cb712fe2",
     "showTitle": false,
     "title": ""
    }
   },
   "source": [
    "We can interpret whether the given feature influences the prediction negatively or positively based on the sign of the coefficient. Also, if all the other variables are unchanged we can see how this single variable affects the output by changing it by 1 unit."
   ]
  },
  {
   "cell_type": "code",
   "execution_count": 0,
   "metadata": {
    "application/vnd.databricks.v1+cell": {
     "cellMetadata": {
      "byteLimit": 2048000,
      "rowLimit": 10000
     },
     "inputWidgets": {},
     "nuid": "3fc5884f-cb09-42c3-aebe-87083aeec5d4",
     "showTitle": false,
     "title": ""
    }
   },
   "outputs": [],
   "source": [
    "df_coefs = pd.DataFrame(model_coef, index = [\"Coefficient\"], columns=X_train.columns)\n",
    "display(df_coefs)\n",
    "print(f'''For example, if you have an observation where LSTAT is equal to 50 and another one that has a value \n",
    "of LSTAT 51 and all other variables are the same, or if the variable LSTAT is changed for the investigated observation \n",
    "with other variables unchanged the effect on the target would be {np.round(df_coefs['LSTAT'][0],5)}''')"
   ]
  },
  {
   "cell_type": "markdown",
   "metadata": {
    "application/vnd.databricks.v1+cell": {
     "cellMetadata": {},
     "inputWidgets": {},
     "nuid": "f11640cd-6273-4953-9c3f-2d175c58602a",
     "showTitle": false,
     "title": ""
    }
   },
   "source": [
    "## Prediction / Model Evaluation\n",
    "### Exercise\n",
    "\n",
    "Predict on `X_test` and store the values in `y_hat`."
   ]
  },
  {
   "cell_type": "code",
   "execution_count": 0,
   "metadata": {
    "application/vnd.databricks.v1+cell": {
     "cellMetadata": {
      "byteLimit": 2048000,
      "rowLimit": 10000
     },
     "inputWidgets": {},
     "nuid": "3b2e52b2-cd0d-4c8d-918b-bcfce5639d27",
     "showTitle": false,
     "title": ""
    }
   },
   "outputs": [],
   "source": [
    "# Task 10: predict on X_test and store the values into y_hat\n",
    "\n",
    "y_hat = model.predict(X_test)"
   ]
  },
  {
   "cell_type": "markdown",
   "metadata": {
    "application/vnd.databricks.v1+cell": {
     "cellMetadata": {},
     "inputWidgets": {},
     "nuid": "bbe64a2a-5469-4614-9735-1bfbb594ad08",
     "showTitle": false,
     "title": ""
    }
   },
   "source": [
    "Below is the plot of predictions against real values. Most of the data points lie around a diagonal line. This means that the predictions seem to be in line with the actual values, e.g. if the real value was 20, the prediction is also almost 20."
   ]
  },
  {
   "cell_type": "code",
   "execution_count": 0,
   "metadata": {
    "application/vnd.databricks.v1+cell": {
     "cellMetadata": {
      "byteLimit": 2048000,
      "rowLimit": 10000
     },
     "inputWidgets": {},
     "nuid": "c274200e-77fa-4ded-b592-6958ccd32529",
     "showTitle": false,
     "title": ""
    }
   },
   "outputs": [],
   "source": [
    "fig, ax = plt.subplots()\n",
    "\n",
    "ax.scatter(y_hat, y_test)\n",
    "ax.axline((0,0), slope = 1, c=\"b\", lw=0.5)\n",
    "ax.set_xlabel(\"predictions\")\n",
    "ax.set_ylabel(\"true test values\")\n",
    "\n",
    "# Create square plot\n",
    "lims = ax.axis(\"square\")\n",
    "min_lim = min(lims[::2])\n",
    "max_lim = max(lims[1::2])\n",
    "ax.set_xlim(min_lim, max_lim)\n",
    "ax.set_ylim(min_lim, max_lim);"
   ]
  },
  {
   "cell_type": "markdown",
   "metadata": {
    "application/vnd.databricks.v1+cell": {
     "cellMetadata": {},
     "inputWidgets": {},
     "nuid": "cba92fa3-6017-4b6d-8db1-f6b4b14f50af",
     "showTitle": false,
     "title": ""
    }
   },
   "source": [
    "### Exercise\n",
    "\n",
    "Let's have a look at some metrics. Compute and save the following metrics on the test set:\n",
    "\n",
    "- [MSE](https://en.wikipedia.org/wiki/Mean_squared_error)\n",
    "(Mean squared error):\n",
    "[`mean_squared_error`](https://scikit-learn.org/stable/modules/generated/sklearn.metrics.mean_squared_error.html)\n",
    "from \n",
    "[`sklearn.metrics`](https://scikit-learn.org/stable/modules/classes.html#sklearn-metrics-metrics)\n",
    "(see ?mean_squared_error)\n",
    "- [RMSE](https://en.wikipedia.org/wiki/Root-mean-square_deviation)\n",
    "(Root mean squared error):\n",
    "    - for\n",
    "    [`scikit-learn`](https://scikit-learn.org/stable/index.html)\n",
    "    version 1.4 and newer:\n",
    "    [`root_mean_squared_error`](https://scikit-learn.org/stable/modules/generated/sklearn.metrics.root_mean_squared_error.html)\n",
    "    from\n",
    "    [`sklearn.metrics`](https://scikit-learn.org/stable/modules/classes.html#sklearn-metrics-metrics)\n",
    "    - for older versions of\n",
    "    [`scikit-learn`](https://scikit-learn.org/stable/index.html):\n",
    "    [`mean_squared_error`](https://scikit-learn.org/stable/modules/generated/sklearn.metrics.mean_squared_error.html)\n",
    "    from\n",
    "    [`sklearn.metrics`](https://scikit-learn.org/stable/modules/classes.html#sklearn-metrics-metrics)\n",
    "    with the parameter `squared` set to `False`\n",
    "- [MAE](https://en.wikipedia.org/wiki/Mean_absolute_error)\n",
    "(Mean absolute error):\n",
    "[`mean_absolute_error`]()\n",
    "from\n",
    "[`sklearn.metrics`](https://scikit-learn.org/stable/modules/classes.html#sklearn-metrics-metrics)\n",
    "(see ?mean_absolute_error)\n",
    "- [R2](https://en.wikipedia.org/wiki/Coefficient_of_determination)\n",
    "(score): this is a method of\n",
    "[`LinearRegression()`]()"
   ]
  },
  {
   "cell_type": "code",
   "execution_count": 0,
   "metadata": {
    "application/vnd.databricks.v1+cell": {
     "cellMetadata": {
      "byteLimit": 2048000,
      "rowLimit": 10000
     },
     "inputWidgets": {},
     "nuid": "ebb510e1-617e-4198-b7d4-d30e64dc026d",
     "showTitle": false,
     "title": ""
    }
   },
   "outputs": [],
   "source": [
    "# Task 11: Compute and save the metrics on the test set\n",
    "\n",
    "mse = mean_squared_error(y_test, y_hat)\n",
    "rmse = mean_squared_error(y_test, y_hat, squared=False)\n",
    "mae = mean_absolute_error(y_test, y_hat)\n",
    "r2 = model.score(X_test, y_test) # the same as r2_score(y_test, y_hat)\n",
    "\n",
    "print(f\"MSE: {np.round(mse, 1)}\")\n",
    "print(f\"RMSE: {np.round(rmse, 1)}\")\n",
    "print(f\"MAE: {np.round(mae, 1)}\")\n",
    "print(f\"R2: {np.round(r2, 1)}\") "
   ]
  },
  {
   "cell_type": "code",
   "execution_count": 0,
   "metadata": {
    "application/vnd.databricks.v1+cell": {
     "cellMetadata": {
      "byteLimit": 2048000,
      "rowLimit": 10000
     },
     "inputWidgets": {},
     "nuid": "0b58960e-5c23-4a3b-8e0e-49aa3b3fffb6",
     "showTitle": false,
     "title": ""
    }
   },
   "outputs": [],
   "source": [
    "# Check Scikit Learn version number\n",
    "import sklearn\n",
    "print(f\"The currently used version of Scikit-Learn is {sklearn.__version__}.\")"
   ]
  },
  {
   "cell_type": "markdown",
   "metadata": {
    "application/vnd.databricks.v1+cell": {
     "cellMetadata": {},
     "inputWidgets": {},
     "nuid": "614cf511-f0b8-40a6-9407-ffc4bf2efed6",
     "showTitle": false,
     "title": ""
    }
   },
   "source": [
    "## Scaling\n",
    "\n",
    "### Exercise\n",
    "If features are not scaled appropriately, the intercept tells you what the expected value for the target variable would be if all the variables were equal to 0. This might be unrealistic for many features such as weight, size of the house, distance to the sea, etc. \n",
    "When features are scaled correctly, the intercept can be interpreted as the expected value of a target variable when all the features are equal to their averages.\n",
    "\n",
    "For the next exercise you will scale your features using \n",
    "[`StandardScaler()`](https://scikit-learn.org/stable/modules/generated/sklearn.preprocessing.StandardScaler.html).\n",
    "- Instantiate\n",
    "[`StandardScaler()`](https://scikit-learn.org/stable/modules/generated/sklearn.preprocessing.StandardScaler.html)\n",
    "from\n",
    "[`sklearn.preprocessing`](https://scikit-learn.org/stable/modules/classes.html#module-sklearn.preprocessing).\n",
    "- Fit the scaler to `X_train` and transform it. Save the transformed values into `X_train_scaled`.\n",
    "- Transform the `X_test` data with the fitted scaler and save the transformed values into `X_test_scaled`."
   ]
  },
  {
   "cell_type": "code",
   "execution_count": 0,
   "metadata": {
    "application/vnd.databricks.v1+cell": {
     "cellMetadata": {
      "byteLimit": 2048000,
      "rowLimit": 10000
     },
     "inputWidgets": {},
     "nuid": "f5ae423d-12f3-493c-ab4c-0fda81b39d6b",
     "showTitle": false,
     "title": ""
    }
   },
   "outputs": [],
   "source": [
    "# Task 12: Scaling\n",
    "\n",
    "scaler = StandardScaler()\n",
    "X_train_scaled = scaler.fit_transform(X_train)\n",
    "X_test_scaled = scaler.transform(X_test)"
   ]
  },
  {
   "cell_type": "markdown",
   "metadata": {
    "application/vnd.databricks.v1+cell": {
     "cellMetadata": {},
     "inputWidgets": {},
     "nuid": "e7f0e1b0-0605-41b4-826e-7d114b8ce4b9",
     "showTitle": false,
     "title": ""
    }
   },
   "source": [
    "If you scaled properly you will see in the boxplot chart on the right that the distribution of the variables are concentrated around zero and that the variance is similar for all the variables."
   ]
  },
  {
   "cell_type": "code",
   "execution_count": 0,
   "metadata": {
    "application/vnd.databricks.v1+cell": {
     "cellMetadata": {
      "byteLimit": 2048000,
      "rowLimit": 10000
     },
     "inputWidgets": {},
     "nuid": "370eab9e-ab1c-4783-afc4-cfe236b9589b",
     "showTitle": false,
     "title": ""
    }
   },
   "outputs": [],
   "source": [
    "plt.subplot(1,2,1)\n",
    "plt.title('Boxplots for original features')\n",
    "sns.boxplot(data=X_train)\n",
    "plt.subplot(1,2,2)\n",
    "plt.title('Boxplots for scaled features')\n",
    "sns.boxplot(data=X_train_scaled);"
   ]
  },
  {
   "cell_type": "markdown",
   "metadata": {
    "application/vnd.databricks.v1+cell": {
     "cellMetadata": {},
     "inputWidgets": {},
     "nuid": "d3b456e9-8fa7-4813-a020-7cb2b12918ad",
     "showTitle": false,
     "title": ""
    }
   },
   "source": [
    "### Exercise\n",
    "\n",
    "- Fit a linear regression model to `X_train_scaled`, `y_train`.\n",
    "- Return the value for the intercept.\n",
    "- Return the values for the coefficients and save them to the variable `model_coef`."
   ]
  },
  {
   "cell_type": "code",
   "execution_count": 0,
   "metadata": {
    "application/vnd.databricks.v1+cell": {
     "cellMetadata": {
      "byteLimit": 2048000,
      "rowLimit": 10000
     },
     "inputWidgets": {},
     "nuid": "33123d97-40a4-4203-8831-2287c3aa973a",
     "showTitle": false,
     "title": ""
    }
   },
   "outputs": [],
   "source": [
    "# Task 13: Fit a linear regression, return values and save them to the variable model_coef\n",
    "\n",
    "model = LinearRegression()\n",
    "model.fit(X_train_scaled, y_train)\n",
    "print(f\"intercept: {model.intercept_}\")\n",
    "model_coef = model.coef_"
   ]
  },
  {
   "cell_type": "code",
   "execution_count": 0,
   "metadata": {
    "application/vnd.databricks.v1+cell": {
     "cellMetadata": {
      "byteLimit": 2048000,
      "rowLimit": 10000
     },
     "inputWidgets": {},
     "nuid": "4f18cdb1-a484-4ee9-8259-89b404496dae",
     "showTitle": false,
     "title": ""
    }
   },
   "outputs": [],
   "source": [
    "df_coefs = pd.DataFrame(model.coef_.T, index = X_train.columns, columns=[\"Coefficient\"]) \\\n",
    "            .sort_values(\"Coefficient\") \\\n",
    "            .T\n",
    "display(df_coefs)"
   ]
  },
  {
   "cell_type": "markdown",
   "metadata": {
    "application/vnd.databricks.v1+cell": {
     "cellMetadata": {},
     "inputWidgets": {},
     "nuid": "a4bf5791-10c6-4a72-b028-bdeb40290cd9",
     "showTitle": false,
     "title": ""
    }
   },
   "source": [
    "After applying\n",
    "[`StandardScaler()`](https://scikit-learn.org/stable/modules/generated/sklearn.preprocessing.StandardScaler.html)\n",
    "it is easier to compare coefficients with each other as the features all have the same scale.\n",
    "In our example the positive effect of the 'RM' variable on the output is a little bit smaller than the negative effect of the 'LSTAT' variable.\n",
    "In that vein, we can order the coefficients by their absolute magnitudes to understand the influence of the variables on the result. \n",
    "\n",
    "We could then try to fit the model with the variables that have the highest coefficient values in absolute terms.\n",
    "\n",
    "**Note**: One advantage of not scaling the features in a linear regression model is the\n",
    "[interpretability of the model](https://en.wikipedia.org/wiki/Linear_regression#Interpretation).\n",
    "For instance, consider a linear regression model fitted without feature scaling.\n",
    "In this case, each coefficient directly represents the change in the dependent variable for a one-unit increase in the corresponding feature, assuming all other features remain constant.\n",
    "This straightforward interpretation can simplify the explanation of the model’s behavior."
   ]
  },
  {
   "cell_type": "markdown",
   "metadata": {
    "application/vnd.databricks.v1+cell": {
     "cellMetadata": {},
     "inputWidgets": {},
     "nuid": "af55d2c3-360c-4b29-89ed-4075fa5ca8b1",
     "showTitle": false,
     "title": ""
    }
   },
   "source": [
    "### Exercise \n",
    "\n",
    "- Predict with the fitted model on `X_test_scaled`.\n",
    "- Calculate MSE, RMSE, MASE and R2. Did it change compared to the unscaled version of linear regression?"
   ]
  },
  {
   "cell_type": "code",
   "execution_count": 0,
   "metadata": {
    "application/vnd.databricks.v1+cell": {
     "cellMetadata": {
      "byteLimit": 2048000,
      "rowLimit": 10000
     },
     "inputWidgets": {},
     "nuid": "76c59833-b1eb-4305-aa57-d1eef75215aa",
     "showTitle": false,
     "title": ""
    }
   },
   "outputs": [],
   "source": [
    "# Task 14\n",
    "\n",
    "y_hat = model.predict(X_test_scaled)\n",
    "print(f\"MSE: {np.round(mean_squared_error(y_test, y_hat),1)}\")\n",
    "print(f\"RMSE: {np.round(mean_squared_error(y_test, y_hat, squared=False),1)}\")\n",
    "print(f\"MAE: {np.round(mean_absolute_error(y_test, y_hat),1)}\")\n",
    "print(f\"R2: {np.round(model.score(X_test_scaled, y_test),1)}\") # the same as r2_score(y_test, y_hat)"
   ]
  },
  {
   "cell_type": "markdown",
   "metadata": {
    "application/vnd.databricks.v1+cell": {
     "cellMetadata": {},
     "inputWidgets": {},
     "nuid": "b15ee5b3-5ba3-4b37-b16a-bd437ae4687e",
     "showTitle": false,
     "title": ""
    }
   },
   "source": [
    "The scaling **does not have an effect on the performance of the model**. It only helps with interpretability of the coefficients and changes the meaning of the intercept. "
   ]
  },
  {
   "cell_type": "markdown",
   "metadata": {
    "application/vnd.databricks.v1+cell": {
     "cellMetadata": {},
     "inputWidgets": {},
     "nuid": "0fd9264c-f4c1-4bcc-955c-2250ee95ff29",
     "showTitle": false,
     "title": ""
    }
   },
   "source": [
    "## Result Analysis\n",
    "Now that we have fitted a model on the standardized features and calculated the different scores, we need to analyse these results.\n",
    "\n",
    "### Residuals\n",
    "### Exercise\n",
    "- Calculate residuals by deducting `y_test` from `y_hat`."
   ]
  },
  {
   "cell_type": "code",
   "execution_count": 0,
   "metadata": {
    "application/vnd.databricks.v1+cell": {
     "cellMetadata": {
      "byteLimit": 2048000,
      "rowLimit": 10000
     },
     "inputWidgets": {},
     "nuid": "60e8e96e-7a52-4396-9d40-8a10a77ff99e",
     "showTitle": false,
     "title": ""
    }
   },
   "outputs": [],
   "source": [
    "# Task 15: Calculate residuals by deducting y_test from y_hat\n",
    "\n",
    "residuals = y_hat - y_test"
   ]
  },
  {
   "cell_type": "markdown",
   "metadata": {
    "application/vnd.databricks.v1+cell": {
     "cellMetadata": {},
     "inputWidgets": {},
     "nuid": "65359299-79cd-4d56-866c-a9ff4b8fd9a4",
     "showTitle": false,
     "title": ""
    }
   },
   "source": [
    "One of the assumptions of a linear regression is that the **residuals are normally distributed**. \n",
    "\n",
    "From the histogram below it seems that the residuals are almost normally distributed. \n",
    "If this is actually the case can be tested with e.g. the\n",
    "[Kolmogorov-Smironov test](https://en.wikipedia.org/wiki/Kolmogorov%E2%80%93Smirnov_test)\n",
    "or the\n",
    "[Shapiro-Wilk test](https://en.wikipedia.org/wiki/Shapiro%E2%80%93Wilk_test).\n",
    "It is also possible to draw a quantile-quantile plot.\n",
    "We could investigate outliers to check if they impact the residuals. "
   ]
  },
  {
   "cell_type": "code",
   "execution_count": 0,
   "metadata": {
    "application/vnd.databricks.v1+cell": {
     "cellMetadata": {
      "byteLimit": 2048000,
      "rowLimit": 10000
     },
     "inputWidgets": {},
     "nuid": "ca22a44c-3136-429f-a31c-d4aef832d380",
     "showTitle": false,
     "title": ""
    }
   },
   "outputs": [],
   "source": [
    "plt.subplot(1,2,1)\n",
    "plt.scatter(y_test, residuals)\n",
    "plt.ylabel(\"residuals\")\n",
    "plt.xlabel(\"y_test\")\n",
    "plt.title(\"Residuals against true values\")\n",
    "\n",
    "plt.subplot(1,2,2)\n",
    "plt.hist(residuals)\n",
    "plt.xlabel(\"residuals\")\n",
    "plt.ylabel(\"frequency\")\n",
    "plt.title(\"Residuals histogram\")\n",
    "plt.show();"
   ]
  },
  {
   "cell_type": "markdown",
   "metadata": {
    "application/vnd.databricks.v1+cell": {
     "cellMetadata": {},
     "inputWidgets": {},
     "nuid": "e1d31471-09bf-4583-b928-2694ca5cb2f4",
     "showTitle": false,
     "title": ""
    }
   },
   "source": [
    "### Exercise – The Dependent Variable\n",
    "\n",
    "The lower long tail on the histogram might be also due to the distribution of the dependent variable y. When doing exploratory data analysis we should look only at the train set so that we do not detect patterns from the test set. The test set is set aside and is used only for evaluation.\n",
    "\n",
    "- Create a boxplot of `y_train`.\n",
    "- Plot a histogram of `y_train`."
   ]
  },
  {
   "cell_type": "code",
   "execution_count": 0,
   "metadata": {
    "application/vnd.databricks.v1+cell": {
     "cellMetadata": {
      "byteLimit": 2048000,
      "rowLimit": 10000
     },
     "inputWidgets": {},
     "nuid": "27a93416-1e42-46bf-b422-78a3d46b8910",
     "showTitle": false,
     "title": ""
    }
   },
   "outputs": [],
   "source": [
    "# Task 16 - create a boxplot\n",
    "plt.title('y_train boxplot')\n",
    "plt.boxplot(y_train);"
   ]
  },
  {
   "cell_type": "markdown",
   "metadata": {
    "application/vnd.databricks.v1+cell": {
     "cellMetadata": {},
     "inputWidgets": {},
     "nuid": "8fc848f6-b576-475e-a3fb-2dca2243af55",
     "showTitle": false,
     "title": ""
    }
   },
   "source": [
    "It seems that there are some outliers on the upper part. This is expected as there can be some very expensive houses.  "
   ]
  },
  {
   "cell_type": "code",
   "execution_count": 0,
   "metadata": {
    "application/vnd.databricks.v1+cell": {
     "cellMetadata": {
      "byteLimit": 2048000,
      "rowLimit": 10000
     },
     "inputWidgets": {},
     "nuid": "b295bdb7-10b1-459a-9392-de718489814f",
     "showTitle": false,
     "title": ""
    }
   },
   "outputs": [],
   "source": [
    "# Task 17 - create a histogram\n",
    "plt.title('y_train histogram')\n",
    "plt.hist(y_train);"
   ]
  },
  {
   "cell_type": "markdown",
   "metadata": {
    "application/vnd.databricks.v1+cell": {
     "cellMetadata": {},
     "inputWidgets": {},
     "nuid": "122bc5c7-f890-41cc-ab14-038ec4ecc91d",
     "showTitle": false,
     "title": ""
    }
   },
   "source": [
    "The distribution of the target variable seems to be rather bimodal. Linear regression does not perform the best for such distributions. However, if we did not take into consideration the outliers, the distribution would be closer to a normal distribution. However, are they really outliers? \n",
    "So the question is if we should **transform the dependent variable**. We could also consider creating two separate linear models, one for the usual values and one for the values on the upper end. "
   ]
  },
  {
   "cell_type": "markdown",
   "metadata": {
    "application/vnd.databricks.v1+cell": {
     "cellMetadata": {},
     "inputWidgets": {},
     "nuid": "3783cfdc-665a-48c4-8edd-8e3801877dc9",
     "showTitle": false,
     "title": ""
    }
   },
   "source": [
    "### Exercise – Outliers\n",
    "\n",
    "Might the skewness of the residuals be due to the outliers in the explanatory features?\n",
    "\n",
    "- Draw a boxplot for `X_train`. You can use for example a boxplot from the seaborn library."
   ]
  },
  {
   "cell_type": "code",
   "execution_count": 0,
   "metadata": {
    "application/vnd.databricks.v1+cell": {
     "cellMetadata": {
      "byteLimit": 2048000,
      "rowLimit": 10000
     },
     "inputWidgets": {},
     "nuid": "79e42a2a-dcec-4618-9bf1-da6400b1a970",
     "showTitle": false,
     "title": ""
    }
   },
   "outputs": [],
   "source": [
    "# Task 18\n",
    "\n",
    "sns.boxplot(data=X_train);"
   ]
  },
  {
   "cell_type": "markdown",
   "metadata": {
    "application/vnd.databricks.v1+cell": {
     "cellMetadata": {},
     "inputWidgets": {},
     "nuid": "8dc6dc38-4a5e-491f-83f1-5b669f92d3c7",
     "showTitle": false,
     "title": ""
    }
   },
   "source": [
    "There seem to be quite some outliers, e.g. in CRIM, ZN and PTRATIO B. These outliers should be treated."
   ]
  },
  {
   "cell_type": "markdown",
   "metadata": {
    "application/vnd.databricks.v1+cell": {
     "cellMetadata": {},
     "inputWidgets": {},
     "nuid": "13b77697-beb9-4a85-8905-76b7fb81793e",
     "showTitle": false,
     "title": ""
    }
   },
   "source": [
    "### Exercise – Multicollinearity\n",
    "\n",
    "Correlated features might cause the model to be quite unstable. \n",
    "\n",
    "- Calculate the correlations between all the variables with the\n",
    "[`corr()`](https://pandas.pydata.org/pandas-docs/stable/reference/api/pandas.DataFrame.corr.html)\n",
    "method called on `X_train`. Save the output into variable `corr`."
   ]
  },
  {
   "cell_type": "code",
   "execution_count": 0,
   "metadata": {
    "application/vnd.databricks.v1+cell": {
     "cellMetadata": {
      "byteLimit": 2048000,
      "rowLimit": 10000
     },
     "inputWidgets": {},
     "nuid": "25c0492a-5230-4e29-81e8-2d4de116d584",
     "showTitle": false,
     "title": ""
    }
   },
   "outputs": [],
   "source": [
    "# Task 19\n",
    "\n",
    "corr = X_train.corr()\n",
    "corr"
   ]
  },
  {
   "cell_type": "markdown",
   "metadata": {
    "application/vnd.databricks.v1+cell": {
     "cellMetadata": {},
     "inputWidgets": {},
     "nuid": "c5b98beb-0193-46e1-bf42-f5f2f07e3d89",
     "showTitle": false,
     "title": ""
    }
   },
   "source": [
    "Below you can see correlations of the variables between each other on the left chart. Right chart shows absolute values of correlations. "
   ]
  },
  {
   "cell_type": "code",
   "execution_count": 0,
   "metadata": {
    "application/vnd.databricks.v1+cell": {
     "cellMetadata": {
      "byteLimit": 2048000,
      "rowLimit": 10000
     },
     "inputWidgets": {},
     "nuid": "02771a24-bda9-40f0-9fc6-98995ac9d4f5",
     "showTitle": false,
     "title": ""
    }
   },
   "outputs": [],
   "source": [
    "# charts for correlation\n",
    "plt.subplot(1,2,1)\n",
    "plt.title('Correlations')\n",
    "mask = np.triu(np.ones_like(corr, dtype=bool))\n",
    "sns.heatmap(corr, mask = mask, annot=True, cmap='Reds');\n",
    "\n",
    "plt.title('Absolute value of correlations')\n",
    "plt.subplot(1,2,2)\n",
    "corr_abs = corr.abs()\n",
    "sns.heatmap(corr_abs, mask = mask, annot=True, cmap='Reds');"
   ]
  },
  {
   "cell_type": "markdown",
   "metadata": {
    "application/vnd.databricks.v1+cell": {
     "cellMetadata": {},
     "inputWidgets": {},
     "nuid": "a24d345d-ec49-41bf-ad91-37146ced2cc4",
     "showTitle": false,
     "title": ""
    }
   },
   "source": [
    "There is a strong correlation between some features, e.g. TAX and RAD, DIS and NOX, DIS and INUDS, DIS and AGE, LSTAT and RM. **Highly correlated features in linear models can cause instability of the model**. Thus it should be tested how the models perform if we remove such features. Usually one of the features with a correlation higher than some threshold is removed from the feature set. "
   ]
  },
  {
   "cell_type": "markdown",
   "metadata": {
    "application/vnd.databricks.v1+cell": {
     "cellMetadata": {},
     "inputWidgets": {},
     "nuid": "b916d4be-d5f2-4147-bd2f-41d85133aca3",
     "showTitle": false,
     "title": ""
    }
   },
   "source": [
    "### Linearity – Exercise\n",
    "\n",
    "Since we work with a linear model, there should be a linear relationship between X and y. Let's do some simple checks. \n",
    "\n",
    "- Compute the correlation between `X_train` and `y_train`. Hint: you can [concatenate](https://pandas.pydata.org/pandas-docs/stable/reference/api/pandas.concat.html) `X_train` and `y_train` first on `axis=1` and calculate the correlation on the concatenated data frame."
   ]
  },
  {
   "cell_type": "code",
   "execution_count": 0,
   "metadata": {
    "application/vnd.databricks.v1+cell": {
     "cellMetadata": {
      "byteLimit": 2048000,
      "rowLimit": 10000
     },
     "inputWidgets": {},
     "nuid": "78f09344-f8f2-46b8-83c6-d667ee4bd330",
     "showTitle": false,
     "title": ""
    }
   },
   "outputs": [],
   "source": [
    "# Task 20\n",
    "\n",
    "data_train = pd.concat([X_train,y_train], axis=1)\n",
    "data_train.corr()['target'].sort_values(ascending=False)"
   ]
  },
  {
   "cell_type": "markdown",
   "metadata": {
    "application/vnd.databricks.v1+cell": {
     "cellMetadata": {},
     "inputWidgets": {},
     "nuid": "25f60f00-b770-4154-90f6-04ec345ba168",
     "showTitle": false,
     "title": ""
    }
   },
   "source": [
    "### Exercise\n",
    "\n",
    "There is a strong negative correlation between the target variable and the 'LSTAT' feature, as well as a strong positive correlation between the target variable and the 'RM' feature. \n",
    "\n",
    "- Draw a scatter plot showing the dependency between X and y not only for the two most correlated features 'LSTAT' and 'RM' but also for the other features to investigate if there is any pattern."
   ]
  },
  {
   "cell_type": "code",
   "execution_count": 0,
   "metadata": {
    "application/vnd.databricks.v1+cell": {
     "cellMetadata": {
      "byteLimit": 2048000,
      "rowLimit": 10000
     },
     "inputWidgets": {},
     "nuid": "97357868-7d59-42b2-b965-70daec18d368",
     "showTitle": false,
     "title": ""
    }
   },
   "outputs": [],
   "source": [
    "# Task 21\n",
    "\n",
    "data_train = pd.concat([X_train,y_train], axis=1)\n",
    "corr_target = data_train.corr()['target'].abs().sort_values(ascending=False)\n",
    "\n",
    "sns.pairplot(data_train, y_vars = 'target', x_vars=corr_target.index[1:5], height = 10);\n",
    "sns.pairplot(data_train, y_vars = 'target', x_vars=corr_target.index[5:10], height = 10);\n",
    "sns.pairplot(data_train, y_vars = 'target', x_vars=corr_target.index[10:14], height = 10);"
   ]
  },
  {
   "cell_type": "markdown",
   "metadata": {
    "application/vnd.databricks.v1+cell": {
     "cellMetadata": {},
     "inputWidgets": {},
     "nuid": "d00e3c58-3332-4011-83b0-3622a11552e6",
     "showTitle": false,
     "title": ""
    }
   },
   "source": [
    "We already know that there is a strong correlation between the target and the variable 'LSTAT' but the relationship seems to be rather non-linear. We can transform the variable 'LSTAT' for example with a negative logarithm or x-squared function to get a linear relationship between the modified variable and y. \n",
    "\n",
    "The relationship with the second highest correlated feature 'RM' seems to be linear."
   ]
  },
  {
   "cell_type": "markdown",
   "metadata": {
    "application/vnd.databricks.v1+cell": {
     "cellMetadata": {},
     "inputWidgets": {},
     "nuid": "34ebab00-dc05-406d-9615-9ff1b4e5a441",
     "showTitle": false,
     "title": ""
    }
   },
   "source": [
    "## Model only with the 2 strongest variables \n",
    "### Exercise\n",
    "- Fit the model only with the features 'LSTAT' and 'RM'.\n",
    "- Predict and return the RMSE."
   ]
  },
  {
   "cell_type": "code",
   "execution_count": 0,
   "metadata": {
    "application/vnd.databricks.v1+cell": {
     "cellMetadata": {
      "byteLimit": 2048000,
      "rowLimit": 10000
     },
     "inputWidgets": {},
     "nuid": "d675b04d-1190-4e08-812c-1d811194dc31",
     "showTitle": false,
     "title": ""
    }
   },
   "outputs": [],
   "source": [
    "# Task 22\n",
    "\n",
    "model = LinearRegression()\n",
    "model.fit(X_train[['LSTAT', 'RM']], y_train)\n",
    "y_hat = model.predict(X_test[['LSTAT', 'RM']])\n",
    "rmse = mean_squared_error(y_test, y_hat, squared=False)\n",
    "print(f\"RMSE: {np.round(rmse,1)}\")"
   ]
  },
  {
   "cell_type": "markdown",
   "metadata": {
    "application/vnd.databricks.v1+cell": {
     "cellMetadata": {},
     "inputWidgets": {},
     "nuid": "bacec915-ff1a-45b5-aa89-8c754e9ef178",
     "showTitle": false,
     "title": ""
    }
   },
   "source": [
    "This model has a slightly worse performance than the original model with an RMSE of around 4.7. However, interpretaion of the model with 2 variables is easier and usually the generalization of the simpler model is also better. "
   ]
  },
  {
   "cell_type": "markdown",
   "metadata": {
    "application/vnd.databricks.v1+cell": {
     "cellMetadata": {},
     "inputWidgets": {},
     "nuid": "56cba641-a24f-4173-9513-a0c8379ad2b9",
     "showTitle": false,
     "title": ""
    }
   },
   "source": [
    "## 2nd degree polynomial features\n",
    "\n",
    "We have seen in the scatter plots that there likely is a non-linear relationship between 'LSTAT' and the target variable.\n",
    "It makes sense to test the model with the 2 variables as above but also\n",
    "[adding polynomial features](https://scikit-learn.org/stable/modules/generated/sklearn.preprocessing.PolynomialFeatures.html)\n",
    "of the 2nd degree and an interaction term between the two variables.\n",
    "Run the cell below to see the performance of such a model."
   ]
  },
  {
   "cell_type": "code",
   "execution_count": 0,
   "metadata": {
    "application/vnd.databricks.v1+cell": {
     "cellMetadata": {
      "byteLimit": 2048000,
      "rowLimit": 10000
     },
     "inputWidgets": {},
     "nuid": "e43ccb77-78c6-4221-8976-7ec2f56e65b7",
     "showTitle": false,
     "title": ""
    }
   },
   "outputs": [],
   "source": [
    "poly = PolynomialFeatures(2)\n",
    "x_train_poly = poly.fit_transform(X_train[['LSTAT', 'RM']])\n",
    "x_test_poly = poly.transform(X_test[['LSTAT', 'RM']])\n",
    "  \n",
    "model_poly = LinearRegression(fit_intercept=False)\n",
    "model_poly.fit(x_train_poly, y_train)\n",
    "    \n",
    "y_hat = model_poly.predict(x_test_poly)\n",
    "print(f\"RMSE: {mean_squared_error(y_test, y_hat, squared=False)}\")\n",
    "# depending on the version of sklearn, this will cause an error\n",
    "# in that case, replace \"get_feature_names_out\" with \"get_feature_names\"\n",
    "pd.DataFrame(model_poly.coef_, index = [\"Coefficient\"], columns = poly.get_feature_names_out())"
   ]
  },
  {
   "cell_type": "markdown",
   "metadata": {
    "application/vnd.databricks.v1+cell": {
     "cellMetadata": {},
     "inputWidgets": {},
     "nuid": "97002320-31d7-4c05-8c7d-3150b32d3acc",
     "showTitle": false,
     "title": ""
    }
   },
   "source": [
    "This model has so far the best performance."
   ]
  },
  {
   "cell_type": "markdown",
   "metadata": {
    "application/vnd.databricks.v1+cell": {
     "cellMetadata": {},
     "inputWidgets": {},
     "nuid": "6757eeac-0718-4fae-ad3f-41a2ee105251",
     "showTitle": false,
     "title": ""
    }
   },
   "source": [
    "## Next steps to consider\n",
    "How can we improve our current model even further?\n",
    "\n",
    "- Treatment of the y variable - Should we use two different models? Should we transform y?\n",
    "- Outliers need to be treated.\n",
    "- Feature selection methods.\n",
    "- Removal of correlated features.\n",
    "- Feature engineering.\n",
    "- ..."
   ]
  },
  {
   "cell_type": "markdown",
   "metadata": {
    "application/vnd.databricks.v1+cell": {
     "cellMetadata": {},
     "inputWidgets": {},
     "nuid": "44c54cbe-0f98-4d87-b5d2-2aa22851c4a9",
     "showTitle": false,
     "title": ""
    }
   },
   "source": [
    "------------------------------------------------------------------------------------------------------------\n",
    "Material adapted for RBI internal purposes with full permissions from original authors. [Source](https://github.com/zatkopatrik/authentic-data-science)"
   ]
  }
 ],
 "metadata": {
  "application/vnd.databricks.v1+notebook": {
   "dashboards": [],
   "language": "python",
   "notebookMetadata": {
    "pythonIndentUnit": 4
   },
   "notebookName": "[Answer]1_Linear_Regression_Exercise_jupyter",
   "widgets": {}
  }
 },
 "nbformat": 4,
 "nbformat_minor": 0
}
