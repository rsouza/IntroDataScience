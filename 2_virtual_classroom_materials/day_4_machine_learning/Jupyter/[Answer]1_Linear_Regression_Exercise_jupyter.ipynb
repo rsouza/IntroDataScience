{
 "cells": [
  {
   "cell_type": "code",
   "execution_count": 0,
   "metadata": {
    "application/vnd.databricks.v1+cell": {
     "cellMetadata": {
      "byteLimit": 2048000,
      "rowLimit": 10000
     },
     "inputWidgets": {},
     "nuid": "deb9e2a5-eebf-4fd8-b282-4157b8f771ec",
     "showTitle": false,
     "title": ""
    }
   },
   "outputs": [],
   "source": [
    "import numpy as np\n",
    "import matplotlib.pyplot as plt\n",
    "import pandas as pd\n",
    "import seaborn as sns\n",
    "plt.rcParams[\"figure.figsize\"] = (15,4) # the charts will have a size of width = 15, height = 4\n",
    "\n",
    "\n",
    "from sklearn.metrics import mean_squared_error, mean_absolute_error\n",
    "from sklearn.linear_model import LinearRegression\n",
    "from sklearn.preprocessing import StandardScaler, PolynomialFeatures\n",
    "from sklearn.model_selection import train_test_split\n",
    "from sklearn import datasets\n",
    "\n",
    "#%matplotlib inline"
   ]
  },
  {
   "cell_type": "markdown",
   "metadata": {
    "application/vnd.databricks.v1+cell": {
     "cellMetadata": {
      "byteLimit": 2048000,
      "rowLimit": 10000
     },
     "inputWidgets": {},
     "nuid": "ad4ecd48-f99d-4d8c-a98a-7efc3ccf03a0",
     "showTitle": false,
     "title": ""
    }
   },
   "source": [
    "# Linear regression with 1 feature"
   ]
  },
  {
   "cell_type": "markdown",
   "metadata": {
    "application/vnd.databricks.v1+cell": {
     "cellMetadata": {
      "byteLimit": 2048000,
      "rowLimit": 10000
     },
     "inputWidgets": {},
     "nuid": "feedd7cf-4553-4f8e-bf17-25ecd31fbf49",
     "showTitle": false,
     "title": ""
    }
   },
   "source": [
    "## Generate a dataset for Linear Regression\n",
    "For this lesson we will create an artificial dataset using the `sklearn.datasets` module of sklearn."
   ]
  },
  {
   "cell_type": "markdown",
   "metadata": {
    "application/vnd.databricks.v1+cell": {
     "cellMetadata": {
      "byteLimit": 2048000,
      "rowLimit": 10000
     },
     "inputWidgets": {},
     "nuid": "612a3c1f-8711-4655-b34f-92dbd361a295",
     "showTitle": false,
     "title": ""
    }
   },
   "source": [
    "- With the `make_regression()` function of `datasets` we can generate a synthetical dataset for a regression problem.\n",
    "- Here we generate 100 observations with 1 explanatory variable and a standard deviation for the gaussian noise of 40.\n",
    "- If you want to read the documentation you can always **run the function name with a questionmark before the name** like in the cell below. This will open the documentation directly in jupyter notebok. You can also read the documentation on the 'internet, e.g. https://scikit-learn.org/stable/modules/generated/sklearn.datasets.make_regression.html"
   ]
  },
  {
   "cell_type": "code",
   "execution_count": 0,
   "metadata": {
    "application/vnd.databricks.v1+cell": {
     "cellMetadata": {
      "byteLimit": 2048000,
      "rowLimit": 10000
     },
     "inputWidgets": {},
     "nuid": "0887a7b4-9a47-4dd7-a028-245636324130",
     "showTitle": false,
     "title": ""
    }
   },
   "outputs": [],
   "source": [
    "?datasets.make_regression "
   ]
  },
  {
   "cell_type": "code",
   "execution_count": 0,
   "metadata": {
    "application/vnd.databricks.v1+cell": {
     "cellMetadata": {
      "byteLimit": 2048000,
      "rowLimit": 10000
     },
     "inputWidgets": {},
     "nuid": "0f4a1b22-1faa-4216-aa45-2bce6654e28a",
     "showTitle": false,
     "title": ""
    }
   },
   "outputs": [],
   "source": [
    "x, y, coeff = datasets.make_regression(n_samples = 100, \n",
    "                                       n_features = 1,\n",
    "                                       noise = 40,\n",
    "                                       coef = True,\n",
    "                                       bias = 50,\n",
    "                                       random_state = 42)\n",
    "\n",
    "# Funny Note\n",
    "# if you have read Hitchiker's Guide to the Galaxy then\n",
    "# you know that 42 is the universal answer to life, the universe and everything\n",
    "# https://www.quora.com/Why-do-we-choose-random-state-as-42-very-often-during-training-a-machine-learning-model"
   ]
  },
  {
   "cell_type": "markdown",
   "metadata": {
    "application/vnd.databricks.v1+cell": {
     "cellMetadata": {
      "byteLimit": 2048000,
      "rowLimit": 10000
     },
     "inputWidgets": {},
     "nuid": "3ecea8d9-14de-42e0-99e6-99939083fd67",
     "showTitle": false,
     "title": ""
    }
   },
   "source": [
    "We can plot x against y to see what the data look like."
   ]
  },
  {
   "cell_type": "code",
   "execution_count": 0,
   "metadata": {
    "application/vnd.databricks.v1+cell": {
     "cellMetadata": {
      "byteLimit": 2048000,
      "rowLimit": 10000
     },
     "inputWidgets": {},
     "nuid": "390bda06-364f-42fd-8806-84d9d4ab979a",
     "showTitle": false,
     "title": ""
    }
   },
   "outputs": [],
   "source": [
    "#plt.figure(figsize=(15,4))\n",
    "plt.scatter(x,y)\n",
    "plt.title('Data')\n",
    "plt.show()"
   ]
  },
  {
   "cell_type": "markdown",
   "metadata": {
    "application/vnd.databricks.v1+cell": {
     "cellMetadata": {
      "byteLimit": 2048000,
      "rowLimit": 10000
     },
     "inputWidgets": {},
     "nuid": "beca1087-2086-4d6f-b4e1-a8725f03847e",
     "showTitle": false,
     "title": ""
    }
   },
   "source": [
    "Run the user defined function below which plots the observations and a line, and calculates the RMSE. You will use this function in the exercises!\n",
    "It takes as inputs x and y, the intercept value and a coefficient value."
   ]
  },
  {
   "cell_type": "code",
   "execution_count": 0,
   "metadata": {
    "application/vnd.databricks.v1+cell": {
     "cellMetadata": {
      "byteLimit": 2048000,
      "rowLimit": 10000
     },
     "inputWidgets": {},
     "nuid": "7f0d5f82-9acb-48e0-9dd8-c7d877b492be",
     "showTitle": false,
     "title": ""
    }
   },
   "outputs": [],
   "source": [
    "def plot_regression(x, y, bias, coeff):\n",
    "    \"\"\"\n",
    "    The function plots a scatterpot of x, y and a line with bias and coefficient. It also calculates the RMSE.\n",
    "    ---------------\n",
    "    params:\n",
    "    - x: points on the x-axis\n",
    "    - y: points on the y-axis\n",
    "    - bias: intercept of the line\n",
    "    - coeff: slope of the line\n",
    "     \"\"\"\n",
    "    y_hat = bias + x * coeff # predictions of x can be calculated easily \n",
    "                             # by multiplying the features with coefficients\n",
    "    print(f'MSE2 : {round(mean_squared_error(y,y_hat),1)}') \n",
    "    print(f'RMSE2 : {round(mean_squared_error(y,y_hat,squared=False),1)}')\n",
    "\n",
    "    # chart\n",
    "    plt.title('Observations with a line')\n",
    "    plt.scatter(x,y) # scatter\n",
    "    plt.plot(x, y_hat, 'r--') # line"
   ]
  },
  {
   "cell_type": "markdown",
   "metadata": {
    "application/vnd.databricks.v1+cell": {
     "cellMetadata": {
      "byteLimit": 2048000,
      "rowLimit": 10000
     },
     "inputWidgets": {},
     "nuid": "ab070036-651b-4f71-b7ca-0160842b0f8f",
     "showTitle": false,
     "title": ""
    }
   },
   "source": [
    "### Exercise \n",
    "We want to fit a model that looks like this: \n",
    "$$\\widehat{y} = \\beta_0 + \\beta_1 x_1 ,$$ \n",
    "where \\\\(\\beta_0\\\\) is a bias term and \\\\(\\beta_1\\\\) is the slope of the line.\n",
    "\n",
    "Use our user-defined function `plot_regression()` and try different values of bias and coeff of the regression line. Observe the change in the values of the cost function and the behavior of the line with the change of the parameters. \n",
    "- What does a line look like if the coeff is positive, negative or zero?\n",
    "- What is the influence of the bias term on the line?\n",
    "- Can you guess a suitable set of parameters? \n",
    "- What are the units of the MSE and RMSE in relation to dependent variable y? Which one is more intuitive to use for interpretation?"
   ]
  },
  {
   "cell_type": "code",
   "execution_count": 0,
   "metadata": {
    "application/vnd.databricks.v1+cell": {
     "cellMetadata": {
      "byteLimit": 2048000,
      "rowLimit": 10000
     },
     "inputWidgets": {},
     "nuid": "fd0da99a-ed8a-45b8-8f82-c5dd215bb4f1",
     "showTitle": false,
     "title": ""
    }
   },
   "outputs": [],
   "source": [
    "# Task: Try different values of bias and coeffs\n",
    "\n",
    "# plot_regression(x, y, bias=..., coeff=...)\n",
    "plot_regression(x,y,10,10)"
   ]
  },
  {
   "cell_type": "markdown",
   "metadata": {
    "application/vnd.databricks.v1+cell": {
     "cellMetadata": {
      "byteLimit": 2048000,
      "rowLimit": 10000
     },
     "inputWidgets": {},
     "nuid": "4774ad8f-72c0-4cc8-9b18-966a36b85d46",
     "showTitle": false,
     "title": ""
    }
   },
   "source": [
    "## Normal Equation\n",
    "\n",
    "The function `normal_eq()`  computes \\\\(\\widehat{\\beta}= (X^T X)^{-1} X^T y \\\\). It takes as input X and y and returns optimal values for the bias (intercept) term and the coefficient (slope)."
   ]
  },
  {
   "cell_type": "code",
   "execution_count": 0,
   "metadata": {
    "application/vnd.databricks.v1+cell": {
     "cellMetadata": {
      "byteLimit": 2048000,
      "rowLimit": 10000
     },
     "inputWidgets": {},
     "nuid": "0fc6dd16-a7f2-4ba4-954c-c2f19666dbc0",
     "showTitle": false,
     "title": ""
    }
   },
   "outputs": [],
   "source": [
    "def normal_eq(x,y): \n",
    "    \"\"\"\n",
    "    The function analytically computes the optimal set of coefficients given x and y. \n",
    "    A vector of ones is appended as the first vector of matrix x to take into account the bias term. \n",
    "    ---------------\n",
    "    params:\n",
    "    - x: input features matrix\n",
    "    - y: target variable\n",
    "    returns: \n",
    "    - beta_hat: optimal set of coefficients for linear regression\n",
    "    \"\"\"\n",
    "    X = np.c_[np.ones(len(x)),x]\n",
    "    beta_hat = np.linalg.inv(X.T.dot(X)).dot(X.T).dot(y)\n",
    "    print(f\"Optimal set of coefficients: {beta_hat}\")\n",
    "    return(beta_hat)"
   ]
  },
  {
   "cell_type": "markdown",
   "metadata": {
    "application/vnd.databricks.v1+cell": {
     "cellMetadata": {
      "byteLimit": 2048000,
      "rowLimit": 10000
     },
     "inputWidgets": {},
     "nuid": "c9f0e5cc-a518-4289-bc1c-9e0a799c801d",
     "showTitle": false,
     "title": ""
    }
   },
   "source": [
    "### Exercise\n",
    "\n",
    "- Use our user-defined function `normal_eq()` on the input features x and the output vector y.\n",
    "- Use the returned values of the bias and coef in the `plot_regression` function.\n",
    "\n",
    "Was your guess for the bias and coeff value from the previous exercise close enough?"
   ]
  },
  {
   "cell_type": "code",
   "execution_count": 0,
   "metadata": {
    "application/vnd.databricks.v1+cell": {
     "cellMetadata": {
      "byteLimit": 2048000,
      "rowLimit": 10000
     },
     "inputWidgets": {},
     "nuid": "0b66910c-bfb8-4c24-b924-ef9696325b00",
     "showTitle": false,
     "title": ""
    }
   },
   "outputs": [],
   "source": [
    "# Task: use normal_eq() and find coeffs\n",
    "\n",
    "#..., ... = normal_eq(x, y) \n",
    "#plot_regression(..., ..., ..., ...)\n",
    "\n",
    "bias, coeff = normal_eq(x, y) \n",
    "plot_regression(x, y, bias, coeff)"
   ]
  },
  {
   "cell_type": "markdown",
   "metadata": {
    "application/vnd.databricks.v1+cell": {
     "cellMetadata": {
      "byteLimit": 2048000,
      "rowLimit": 10000
     },
     "inputWidgets": {},
     "nuid": "a1b45f2c-d2db-4c26-a899-1f66a8de35f0",
     "showTitle": false,
     "title": ""
    }
   },
   "source": [
    "## Sklearn Linear Regression\n",
    "\n",
    "Here we explore the linear regression from scikit learn for the first time. Help yourself with [examples from the documentation](https://scikit-learn.org/stable/modules/generated/sklearn.linear_model.LinearRegression.html) if needed: \n",
    "\n",
    "### Exercise\n",
    "- Use `LinearRegression()` from `sklearn.linear_model` to fit the linear regression model on x, y. Look at the examples section in the documentation if you need help.\n",
    "- Return the coefficients for slope and intercept of the regression line. You can find them in the attributes section of the documentation. Store the values in the variables `lr_coef` and `lr_intercept`.\n",
    "Are these values the same as the ones from the normal equation?"
   ]
  },
  {
   "cell_type": "code",
   "execution_count": 0,
   "metadata": {
    "application/vnd.databricks.v1+cell": {
     "cellMetadata": {
      "byteLimit": 2048000,
      "rowLimit": 10000
     },
     "inputWidgets": {},
     "nuid": "3ae569d3-35eb-46ea-b9b9-c2ee16061a75",
     "showTitle": false,
     "title": ""
    }
   },
   "outputs": [],
   "source": [
    "# Task: implement linear regression\n",
    "\n",
    "#lr = ...\n",
    "#lr.fit(..., ...)\n",
    "#lr_coef, lr_intercept = lr...., lr....\n",
    "\n",
    "lr = LinearRegression()\n",
    "lr.fit(x,y)\n",
    "lr_coef, lr_intercept = lr.coef_, lr.intercept_\n",
    "print(f'Slope: {lr_coef}\\nBias: {lr_intercept}')"
   ]
  },
  {
   "cell_type": "markdown",
   "metadata": {
    "application/vnd.databricks.v1+cell": {
     "cellMetadata": {
      "byteLimit": 2048000,
      "rowLimit": 10000
     },
     "inputWidgets": {},
     "nuid": "ec106c6e-29a1-4403-aa73-c5e8410f299a",
     "showTitle": false,
     "title": ""
    }
   },
   "source": [
    "- Next, predict the value of the new observation. If needed use the documentation for some examples."
   ]
  },
  {
   "cell_type": "code",
   "execution_count": 0,
   "metadata": {
    "application/vnd.databricks.v1+cell": {
     "cellMetadata": {
      "byteLimit": 2048000,
      "rowLimit": 10000
     },
     "inputWidgets": {},
     "nuid": "57d5187e-bb82-4d95-b346-77b7ea34d4a3",
     "showTitle": false,
     "title": ""
    }
   },
   "outputs": [],
   "source": [
    "# Task: predict the value of new observations\n",
    "x_new = [[1.5], [0]]\n",
    "lr.predict(x_new)"
   ]
  },
  {
   "cell_type": "markdown",
   "metadata": {
    "application/vnd.databricks.v1+cell": {
     "cellMetadata": {
      "byteLimit": 2048000,
      "rowLimit": 10000
     },
     "inputWidgets": {},
     "nuid": "7b5ec257-1530-4309-8a58-93f708512f45",
     "showTitle": false,
     "title": ""
    }
   },
   "source": [
    "- Lastly, return the score of the model on x and y. You can read more about the score in the documentation. The best value is 1. Usually it is between 0 and 1 but it can be also negative. The score is the R-squared metric that can be used for the evaluation of the model."
   ]
  },
  {
   "cell_type": "code",
   "execution_count": 0,
   "metadata": {
    "application/vnd.databricks.v1+cell": {
     "cellMetadata": {
      "byteLimit": 2048000,
      "rowLimit": 10000
     },
     "inputWidgets": {},
     "nuid": "49c20c57-3857-4eaf-93eb-ed314d50f625",
     "showTitle": false,
     "title": ""
    }
   },
   "outputs": [],
   "source": [
    "# Task: predict the value of new observations\n",
    "#lr.score(..., ...)\n",
    "\n",
    "lr.score(x,y)"
   ]
  },
  {
   "cell_type": "markdown",
   "metadata": {
    "application/vnd.databricks.v1+cell": {
     "cellMetadata": {
      "byteLimit": 2048000,
      "rowLimit": 10000
     },
     "inputWidgets": {},
     "nuid": "783c0c45-609b-4ef6-b5ab-1dc3af64c5e2",
     "showTitle": false,
     "title": ""
    }
   },
   "source": [
    "## Outliers\n",
    "\n",
    "We will now add outliers to our dataset and save them under the names x2 and y2."
   ]
  },
  {
   "cell_type": "code",
   "execution_count": 0,
   "metadata": {
    "application/vnd.databricks.v1+cell": {
     "cellMetadata": {
      "byteLimit": 2048000,
      "rowLimit": 10000
     },
     "inputWidgets": {},
     "nuid": "868c635c-0813-4e48-a638-012459a6418a",
     "showTitle": false,
     "title": ""
    }
   },
   "outputs": [],
   "source": [
    "x2 = np.append(x,[np.min(x)-0.1, np.min(x), np.min(x)-0.15]).reshape([-1,1])\n",
    "y2 = np.append(y, [-400,-300,-350]).reshape([-1,1])"
   ]
  },
  {
   "cell_type": "markdown",
   "metadata": {
    "application/vnd.databricks.v1+cell": {
     "cellMetadata": {
      "byteLimit": 2048000,
      "rowLimit": 10000
     },
     "inputWidgets": {},
     "nuid": "834ed483-6c6a-4a9e-a371-ae0b40b002fd",
     "showTitle": false,
     "title": ""
    }
   },
   "source": [
    "### Exercise\n",
    "\n",
    "Fit the linear regression to x2, y2 and store the bias in the variable `lr_outlier_intercept` and the slope in the variable `lr_outlier_coef`."
   ]
  },
  {
   "cell_type": "code",
   "execution_count": 0,
   "metadata": {
    "application/vnd.databricks.v1+cell": {
     "cellMetadata": {
      "byteLimit": 2048000,
      "rowLimit": 10000
     },
     "inputWidgets": {},
     "nuid": "6a36bbce-6fec-4022-997d-f9590b4577ca",
     "showTitle": false,
     "title": ""
    }
   },
   "outputs": [],
   "source": [
    "# Task: Fit linear regression\n",
    "\n",
    "lr_outlier = LinearRegression()\n",
    "lr_outlier.fit(x2,y2)\n",
    "lr_outlier_coef, lr_outlier_intercept = lr_outlier.coef_, lr_outlier.intercept_"
   ]
  },
  {
   "cell_type": "markdown",
   "metadata": {
    "application/vnd.databricks.v1+cell": {
     "cellMetadata": {
      "byteLimit": 2048000,
      "rowLimit": 10000
     },
     "inputWidgets": {},
     "nuid": "726f6763-5427-4b9e-a758-a52c9522b833",
     "showTitle": false,
     "title": ""
    }
   },
   "source": [
    "You can observe on the chart how outliers influence the regression line. Outlier treatment should be one of the first steps done before fitting a linear regression model, otherwise the results can be biased."
   ]
  },
  {
   "cell_type": "code",
   "execution_count": 0,
   "metadata": {
    "application/vnd.databricks.v1+cell": {
     "cellMetadata": {
      "byteLimit": 2048000,
      "rowLimit": 10000
     },
     "inputWidgets": {},
     "nuid": "a6834510-cc5d-414a-8060-a79e807debd7",
     "showTitle": false,
     "title": ""
    }
   },
   "outputs": [],
   "source": [
    "plt.scatter(x2,y2)\n",
    "axes = plt.gca()\n",
    "x_vals2 = np.array(axes.get_xlim())\n",
    "y_vals = lr_intercept + lr_coef * x_vals2\n",
    "y_vals2 = lr_outlier_intercept.reshape([1,]) + lr_outlier_coef.reshape([1,]) * x_vals2\n",
    "plt.plot(x_vals2, y_vals, 'r--', label='original regression line')\n",
    "plt.plot(x_vals2, y_vals2, 'b--', label='regression line with outliers')\n",
    "plt.legend()\n",
    "plt.show()"
   ]
  },
  {
   "cell_type": "markdown",
   "metadata": {
    "application/vnd.databricks.v1+cell": {
     "cellMetadata": {
      "byteLimit": 2048000,
      "rowLimit": 10000
     },
     "inputWidgets": {},
     "nuid": "1b445f31-3005-4e4b-85ea-81b44ef00fb8",
     "showTitle": false,
     "title": ""
    }
   },
   "source": [
    "# Multiple Linear Regression"
   ]
  },
  {
   "cell_type": "markdown",
   "metadata": {
    "application/vnd.databricks.v1+cell": {
     "cellMetadata": {
      "byteLimit": 2048000,
      "rowLimit": 10000
     },
     "inputWidgets": {},
     "nuid": "7100e3a2-7e6e-49dd-af6f-7c1ff6c86661",
     "showTitle": false,
     "title": ""
    }
   },
   "source": [
    "## Load Dataset\n",
    "\n",
    "Load sklearn's inbuilt dataset for regression. If you want you can read the description of the dataset [here](http://lib.stat.cmu.edu/datasets/boston). It has 13 attributes that can be used for predicting house prices."
   ]
  },
  {
   "cell_type": "code",
   "execution_count": 0,
   "metadata": {
    "application/vnd.databricks.v1+cell": {
     "cellMetadata": {
      "byteLimit": 2048000,
      "rowLimit": 10000
     },
     "inputWidgets": {},
     "nuid": "fd16a47b-4b45-4f55-9fa6-2ff8df1afa90",
     "showTitle": false,
     "title": ""
    }
   },
   "outputs": [],
   "source": [
    "raw_df = pd.read_csv('../../../Data/Boston.csv')\n",
    "\n",
    "y = pd.DataFrame(raw_df['target'])\n",
    "x = pd.DataFrame(raw_df.iloc[:,1:-1])"
   ]
  },
  {
   "cell_type": "markdown",
   "metadata": {
    "application/vnd.databricks.v1+cell": {
     "cellMetadata": {
      "byteLimit": 2048000,
      "rowLimit": 10000
     },
     "inputWidgets": {},
     "nuid": "1c504b3a-9066-497a-86ae-0e154eb5b3dd",
     "showTitle": false,
     "title": ""
    }
   },
   "source": [
    "## Train Test Split\n",
    "\n",
    "### Exercise \n",
    "Use the function `train_test_split()` to split the training data into training and testing datasets."
   ]
  },
  {
   "cell_type": "code",
   "execution_count": 0,
   "metadata": {
    "application/vnd.databricks.v1+cell": {
     "cellMetadata": {
      "byteLimit": 2048000,
      "rowLimit": 10000
     },
     "inputWidgets": {},
     "nuid": "1fc47593-d80f-45a5-9b2d-59caa9a1227a",
     "showTitle": false,
     "title": ""
    }
   },
   "outputs": [],
   "source": [
    "# Task: use function train_test_split() to split the training data into training and testing dataset\n",
    "\n",
    "X_train, X_test, y_train, y_test = train_test_split(x, y, random_state=42)"
   ]
  },
  {
   "cell_type": "markdown",
   "metadata": {
    "application/vnd.databricks.v1+cell": {
     "cellMetadata": {
      "byteLimit": 2048000,
      "rowLimit": 10000
     },
     "inputWidgets": {},
     "nuid": "db4d819a-a21f-4b06-81de-183c89451c5d",
     "showTitle": false,
     "title": ""
    }
   },
   "source": [
    "## Fit the Model\n",
    "### Exercise\n",
    "- Instantiate the linear regression model.\n",
    "- Fit the model to the training data.\n",
    "- Print the value of the intercept of the model.\n",
    "- Return the values of the coefficients and save them under the variable `model_coef`."
   ]
  },
  {
   "cell_type": "code",
   "execution_count": 0,
   "metadata": {
    "application/vnd.databricks.v1+cell": {
     "cellMetadata": {
      "byteLimit": 2048000,
      "rowLimit": 10000
     },
     "inputWidgets": {},
     "nuid": "682d1751-2a88-451f-8847-eae3675956a6",
     "showTitle": false,
     "title": ""
    }
   },
   "outputs": [],
   "source": [
    "# Task: instantiate the model\n",
    "model = LinearRegression()\n",
    "\n",
    "# Task: fit the model to x, y\n",
    "model.fit(X_train, y_train)\n",
    "print(f\"intercept: {model.intercept_}\")\n",
    "model_coef = model.coef_"
   ]
  },
  {
   "cell_type": "markdown",
   "metadata": {
    "application/vnd.databricks.v1+cell": {
     "cellMetadata": {
      "byteLimit": 2048000,
      "rowLimit": 10000
     },
     "inputWidgets": {},
     "nuid": "31e3789e-dbbf-46e4-8613-33398b8cbc0e",
     "showTitle": false,
     "title": ""
    }
   },
   "source": [
    "We can interpret whether the given feature influences the prediction negatively or positively based on the sign of the coefficient. Also, if all the other variables are unchanged we can see how this single variable affects the output by changing it by 1 unit."
   ]
  },
  {
   "cell_type": "code",
   "execution_count": 0,
   "metadata": {
    "application/vnd.databricks.v1+cell": {
     "cellMetadata": {
      "byteLimit": 2048000,
      "rowLimit": 10000
     },
     "inputWidgets": {},
     "nuid": "c7374bf1-20f2-4553-b561-a354c18bb711",
     "showTitle": false,
     "title": ""
    }
   },
   "outputs": [],
   "source": [
    "df_coefs = pd.DataFrame(model_coef, index = [\"Coefficient\"], columns=X_train.columns)\n",
    "display(df_coefs)\n",
    "print(f'''For example, if you have an observation where LSTAT is equal to 50 and another one that has a value \n",
    "of LSTAT 51 and all other variables are the same, or if the variable LSTAT is changed for the investigated observation \n",
    "with other variables unchanged the effect on the target would be {np.round(df_coefs['LSTAT'][0],5)}''')"
   ]
  },
  {
   "cell_type": "markdown",
   "metadata": {
    "application/vnd.databricks.v1+cell": {
     "cellMetadata": {
      "byteLimit": 2048000,
      "rowLimit": 10000
     },
     "inputWidgets": {},
     "nuid": "ab707e52-caf8-446f-91f0-0b5eecb9cddc",
     "showTitle": false,
     "title": ""
    }
   },
   "source": [
    "## Prediction / Model Evaluation\n",
    "### Exercise\n",
    "\n",
    "Predict on `X_test` and store the values in `y_hat`."
   ]
  },
  {
   "cell_type": "code",
   "execution_count": 0,
   "metadata": {
    "application/vnd.databricks.v1+cell": {
     "cellMetadata": {
      "byteLimit": 2048000,
      "rowLimit": 10000
     },
     "inputWidgets": {},
     "nuid": "2782b6c1-0847-4691-ad6b-af41fad61046",
     "showTitle": false,
     "title": ""
    }
   },
   "outputs": [],
   "source": [
    "# Task: predict on X_test and store the values into y_hat\n",
    "\n",
    "y_hat = model.predict(X_test)"
   ]
  },
  {
   "cell_type": "markdown",
   "metadata": {
    "application/vnd.databricks.v1+cell": {
     "cellMetadata": {
      "byteLimit": 2048000,
      "rowLimit": 10000
     },
     "inputWidgets": {},
     "nuid": "58238f7c-b627-4816-9365-868d1819703c",
     "showTitle": false,
     "title": ""
    }
   },
   "source": [
    "Below is the plot of predictions against real values. Most of the data points lie around a diagonal line. This means that the predictions seem to be in line with the actual values, e.g. if the real value was 20, the prediction is also almost 20."
   ]
  },
  {
   "cell_type": "code",
   "execution_count": 0,
   "metadata": {
    "application/vnd.databricks.v1+cell": {
     "cellMetadata": {
      "byteLimit": 2048000,
      "rowLimit": 10000
     },
     "inputWidgets": {},
     "nuid": "bfd2a1eb-c7fe-4cfe-9a7e-9cdc74cf4dd0",
     "showTitle": false,
     "title": ""
    }
   },
   "outputs": [],
   "source": [
    "plt.scatter(y_hat, y_test)\n",
    "plt.plot([0,50],[0,50],c='b')\n",
    "plt.xlabel(\"predictions\")\n",
    "plt.ylabel(\"true test values\")\n",
    "plt.show();"
   ]
  },
  {
   "cell_type": "markdown",
   "metadata": {
    "application/vnd.databricks.v1+cell": {
     "cellMetadata": {
      "byteLimit": 2048000,
      "rowLimit": 10000
     },
     "inputWidgets": {},
     "nuid": "94e7ed48-f611-457f-9162-bef5ade5f5f4",
     "showTitle": false,
     "title": ""
    }
   },
   "source": [
    "### Exercise\n",
    "\n",
    "Let's have a look at some metrics. Compute and save the following metrics on the test set:\n",
    "\n",
    "- MSE -  `mean_squared_error` from `sklearn.metrics` (see ?mean_squared_error)\n",
    "- RMSE - `mean_squared_error`  from `sklearn.metrics` with the parameter `squared` set to `False`\n",
    "- MAE (Mean absolute error) - `mean_absolute_error`  from `sklearn.metrics` (see ?mean_absolute_error)\n",
    "- R2 (score) - this is an attribute of `LinearRegression()`"
   ]
  },
  {
   "cell_type": "code",
   "execution_count": 0,
   "metadata": {
    "application/vnd.databricks.v1+cell": {
     "cellMetadata": {
      "byteLimit": 2048000,
      "rowLimit": 10000
     },
     "inputWidgets": {},
     "nuid": "ef14d291-4e4e-4e22-ac61-b16d6c03aca1",
     "showTitle": false,
     "title": ""
    }
   },
   "outputs": [],
   "source": [
    "# Task: Compute and save the metrics on the test set\n",
    "\n",
    "mse = mean_squared_error(y_test, y_hat)\n",
    "rmse = mean_squared_error(y_test, y_hat, squared=False)\n",
    "mae = mean_absolute_error(y_test, y_hat)\n",
    "r2 = model.score(X_test, y_test) # the same as r2_score(y_test, y_hat)\n",
    "\n",
    "print(f\"MSE: {np.round(mse, 1)}\")\n",
    "print(f\"RMSE: {np.round(rmse, 1)}\")\n",
    "print(f\"MAE: {np.round(mae, 1)}\")\n",
    "print(f\"R2: {np.round(r2, 1)}\") "
   ]
  },
  {
   "cell_type": "markdown",
   "metadata": {
    "application/vnd.databricks.v1+cell": {
     "cellMetadata": {
      "byteLimit": 2048000,
      "rowLimit": 10000
     },
     "inputWidgets": {},
     "nuid": "e49e5e47-107f-4bc4-91d7-91e5e6880f12",
     "showTitle": false,
     "title": ""
    }
   },
   "source": [
    "## Scaling\n",
    "\n",
    "### Exercise\n",
    "If features are not scaled appropriately, the intercept tells you what the expected value for the target variable would be if all the variables were equal to 0. This might be unrealistic for many features such as weight, size of the house, distance to the sea, etc. \n",
    "When features are scaled correctly, the intercept can be interpreted as the expected value of a target variable when all the features are equal to their averages.\n",
    "\n",
    "For the next exercise you will scale your features using `StandardScaler()`.\n",
    "- Instantiate `StandardScaler()` from `sklearn.preprocessing`.\n",
    "- Fit the scaler to `X_train` and transform it. Save the transformed values into `X_train_scaled`.\n",
    "- Transform the `X_test` data with the fitted scaler and save the transformed values into `X_test_scaled`."
   ]
  },
  {
   "cell_type": "code",
   "execution_count": 0,
   "metadata": {
    "application/vnd.databricks.v1+cell": {
     "cellMetadata": {
      "byteLimit": 2048000,
      "rowLimit": 10000
     },
     "inputWidgets": {},
     "nuid": "ef1308eb-d434-4488-af7d-dac64b792f74",
     "showTitle": false,
     "title": ""
    }
   },
   "outputs": [],
   "source": [
    "# Task: Scaling\n",
    "\n",
    "scaler = StandardScaler()\n",
    "X_train_scaled = scaler.fit_transform(X_train)\n",
    "X_test_scaled = scaler.transform(X_test)"
   ]
  },
  {
   "cell_type": "markdown",
   "metadata": {
    "application/vnd.databricks.v1+cell": {
     "cellMetadata": {
      "byteLimit": 2048000,
      "rowLimit": 10000
     },
     "inputWidgets": {},
     "nuid": "c7f862ce-4bb9-43bb-81c6-bc3998aa9875",
     "showTitle": false,
     "title": ""
    }
   },
   "source": [
    "If you scaled properly you will see in the boxplot chart on the right that the distribution of the variables are concentrated around zero and that the variance is similar for all the variables."
   ]
  },
  {
   "cell_type": "code",
   "execution_count": 0,
   "metadata": {
    "application/vnd.databricks.v1+cell": {
     "cellMetadata": {
      "byteLimit": 2048000,
      "rowLimit": 10000
     },
     "inputWidgets": {},
     "nuid": "aa626c86-50ff-4ce6-8355-7a283f764cd2",
     "showTitle": false,
     "title": ""
    }
   },
   "outputs": [],
   "source": [
    "plt.subplot(1,2,1)\n",
    "plt.title('Boxplots for original features')\n",
    "sns.boxplot(data=X_train)\n",
    "plt.subplot(1,2,2)\n",
    "plt.title('Boxplots for scaled features')\n",
    "sns.boxplot(data=X_train_scaled);"
   ]
  },
  {
   "cell_type": "markdown",
   "metadata": {
    "application/vnd.databricks.v1+cell": {
     "cellMetadata": {
      "byteLimit": 2048000,
      "rowLimit": 10000
     },
     "inputWidgets": {},
     "nuid": "dc6c7541-8aff-4467-b270-be9f2692867b",
     "showTitle": false,
     "title": ""
    }
   },
   "source": [
    "### Exercise\n",
    "\n",
    "- Fit a linear regression model to `X_train_scaled`, `y_train`.\n",
    "- Return the value for the intercept.\n",
    "- Return the values for the coefficients and save them to the variable `model_coef`."
   ]
  },
  {
   "cell_type": "code",
   "execution_count": 0,
   "metadata": {
    "application/vnd.databricks.v1+cell": {
     "cellMetadata": {
      "byteLimit": 2048000,
      "rowLimit": 10000
     },
     "inputWidgets": {},
     "nuid": "03b79936-01a9-489a-a342-aaa18a65325f",
     "showTitle": false,
     "title": ""
    }
   },
   "outputs": [],
   "source": [
    "# Task: Fit a linear regression, return values and save them to the variable model_coef\n",
    "\n",
    "model = LinearRegression()\n",
    "model.fit(X_train_scaled, y_train)\n",
    "print(f\"intercept: {model.intercept_}\")\n",
    "model_coef = model.coef_"
   ]
  },
  {
   "cell_type": "code",
   "execution_count": 0,
   "metadata": {
    "application/vnd.databricks.v1+cell": {
     "cellMetadata": {
      "byteLimit": 2048000,
      "rowLimit": 10000
     },
     "inputWidgets": {},
     "nuid": "bc56bb03-2df3-4eea-9be7-024c82dbe7fc",
     "showTitle": false,
     "title": ""
    }
   },
   "outputs": [],
   "source": [
    "df_coefs = pd.DataFrame(model.coef_.T, index = X_train.columns, columns=[\"Coefficient\"]) \\\n",
    "            .sort_values(\"Coefficient\") \\\n",
    "            .T\n",
    "display(df_coefs)"
   ]
  },
  {
   "cell_type": "markdown",
   "metadata": {
    "application/vnd.databricks.v1+cell": {
     "cellMetadata": {
      "byteLimit": 2048000,
      "rowLimit": 10000
     },
     "inputWidgets": {},
     "nuid": "62a00412-101d-4e00-bed5-446fcf73f580",
     "showTitle": false,
     "title": ""
    }
   },
   "source": [
    "After applying `StandardScaler()` it is easier to compare coefficients with each other as the features all have the same scale. In our example the positive effect of the 'RM' variable on the output is a little bit smaller than the negative effect of the 'LSTAT' variable. In that vein, we can order the coefficients by their absolute magnitudes to understand the influence of the variables on the result. \n",
    "\n",
    "We could then try to fit the model with the variables that have the highest coefficient values in absolute terms."
   ]
  },
  {
   "cell_type": "markdown",
   "metadata": {
    "application/vnd.databricks.v1+cell": {
     "cellMetadata": {
      "byteLimit": 2048000,
      "rowLimit": 10000
     },
     "inputWidgets": {},
     "nuid": "fbcd0671-3b17-41c9-bf59-f4d6406d1ebd",
     "showTitle": false,
     "title": ""
    }
   },
   "source": [
    "### Exercise \n",
    "\n",
    "- Predict with the fitted model on `X_test_scaled`.\n",
    "- Calculate MSE, RMSE, MASE and R2. Did it change compared to the unscaled version of linear regression?"
   ]
  },
  {
   "cell_type": "code",
   "execution_count": 0,
   "metadata": {
    "application/vnd.databricks.v1+cell": {
     "cellMetadata": {
      "byteLimit": 2048000,
      "rowLimit": 10000
     },
     "inputWidgets": {},
     "nuid": "b5811d48-f3a7-44d5-995a-2f61ecb084f9",
     "showTitle": false,
     "title": ""
    }
   },
   "outputs": [],
   "source": [
    "# Task\n",
    "\n",
    "y_hat = model.predict(X_test_scaled)\n",
    "print(f\"MSE: {np.round(mean_squared_error(y_test, y_hat),1)}\")\n",
    "print(f\"RMSE: {np.round(mean_squared_error(y_test, y_hat, squared=False),1)}\")\n",
    "print(f\"MAE: {np.round(mean_absolute_error(y_test, y_hat),1)}\")\n",
    "print(f\"R2: {np.round(model.score(X_test_scaled, y_test),1)}\") # the same as r2_score(y_test, y_hat)"
   ]
  },
  {
   "cell_type": "markdown",
   "metadata": {
    "application/vnd.databricks.v1+cell": {
     "cellMetadata": {
      "byteLimit": 2048000,
      "rowLimit": 10000
     },
     "inputWidgets": {},
     "nuid": "f9257b79-69bc-4fe4-8e6f-c97630ecb795",
     "showTitle": false,
     "title": ""
    }
   },
   "source": [
    "The scaling **does not have an effect on the performance of the model**. It only helps with interpretability of the coefficients and changes the meaning of the intercept."
   ]
  },
  {
   "cell_type": "markdown",
   "metadata": {
    "application/vnd.databricks.v1+cell": {
     "cellMetadata": {
      "byteLimit": 2048000,
      "rowLimit": 10000
     },
     "inputWidgets": {},
     "nuid": "f7a37b0d-3c84-46c3-b43d-e4db709b21d2",
     "showTitle": false,
     "title": ""
    }
   },
   "source": [
    "## Result Analysis\n",
    "Now that we have fitted a model on the standardized features and calculated the different scores, we need to analyse these results.\n",
    "\n",
    "### Residuals\n",
    "### Exercise\n",
    "- Calculate residuals by deducting `y_test` from `y_hat`."
   ]
  },
  {
   "cell_type": "code",
   "execution_count": 0,
   "metadata": {
    "application/vnd.databricks.v1+cell": {
     "cellMetadata": {
      "byteLimit": 2048000,
      "rowLimit": 10000
     },
     "inputWidgets": {},
     "nuid": "be3460ef-1c9e-40a9-9aa8-0aba5f9c7638",
     "showTitle": false,
     "title": ""
    }
   },
   "outputs": [],
   "source": [
    "# Task: Calculate residuals by deducting y_test from y_hat\n",
    "\n",
    "residuals = y_hat - y_test"
   ]
  },
  {
   "cell_type": "markdown",
   "metadata": {
    "application/vnd.databricks.v1+cell": {
     "cellMetadata": {
      "byteLimit": 2048000,
      "rowLimit": 10000
     },
     "inputWidgets": {},
     "nuid": "28bd6952-1981-4520-90c6-72ca7eb3b3ee",
     "showTitle": false,
     "title": ""
    }
   },
   "source": [
    "One of the assumptions of a linear regression is that the **residuals are normally distributed**. \n",
    "\n",
    "From the histogram below it seems that the residuals are almost normally distributed. If this is actually the case can be tested with e.g. the Kolmogorov-Smironov test or the Shapiro-Wilk test. It is also possible to draw a quantile-quantile plot. We could investigate outliers to check if they impact the residuals."
   ]
  },
  {
   "cell_type": "code",
   "execution_count": 0,
   "metadata": {
    "application/vnd.databricks.v1+cell": {
     "cellMetadata": {
      "byteLimit": 2048000,
      "rowLimit": 10000
     },
     "inputWidgets": {},
     "nuid": "afe9c6f0-c038-4a74-85ed-538d2c8fde01",
     "showTitle": false,
     "title": ""
    }
   },
   "outputs": [],
   "source": [
    "plt.subplot(1,2,1)\n",
    "plt.scatter(y_test, residuals)\n",
    "plt.ylabel(\"residuals\")\n",
    "plt.xlabel(\"y_test\")\n",
    "plt.title(\"Residuals against true values\")\n",
    "\n",
    "plt.subplot(1,2,2)\n",
    "plt.hist(residuals)\n",
    "plt.xlabel(\"residuals\")\n",
    "plt.ylabel(\"frequency\")\n",
    "plt.title(\"Residuals histogram\")\n",
    "plt.show();"
   ]
  },
  {
   "cell_type": "markdown",
   "metadata": {
    "application/vnd.databricks.v1+cell": {
     "cellMetadata": {
      "byteLimit": 2048000,
      "rowLimit": 10000
     },
     "inputWidgets": {},
     "nuid": "e440a3e1-665a-40ff-8441-1de5c9001121",
     "showTitle": false,
     "title": ""
    }
   },
   "source": [
    "### Exercise – The Dependent Variable\n",
    "\n",
    "The lower long tail on the histogram might be also due to the distribution of the dependent variable y. When doing exploratory data analysis we should look only at the train set so that we do not detect patterns from the test set. The test set is set aside and is used only for evaluation.\n",
    "\n",
    "- Create a boxplot of `y_train`.\n",
    "- Plot a histogram of `y_train`."
   ]
  },
  {
   "cell_type": "code",
   "execution_count": 0,
   "metadata": {
    "application/vnd.databricks.v1+cell": {
     "cellMetadata": {
      "byteLimit": 2048000,
      "rowLimit": 10000
     },
     "inputWidgets": {},
     "nuid": "1f105dc2-c433-4990-b976-697b56e59868",
     "showTitle": false,
     "title": ""
    }
   },
   "outputs": [],
   "source": [
    "# Task - create a boxplot\n",
    "plt.title('y_train boxplot')\n",
    "plt.boxplot(y_train);"
   ]
  },
  {
   "cell_type": "markdown",
   "metadata": {
    "application/vnd.databricks.v1+cell": {
     "cellMetadata": {
      "byteLimit": 2048000,
      "rowLimit": 10000
     },
     "inputWidgets": {},
     "nuid": "bf88812b-9a7b-4d03-b42a-7f38ed617dcd",
     "showTitle": false,
     "title": ""
    }
   },
   "source": [
    "It seems that there are some outliers on the upper part. This is expected as there can be some very expensive houses."
   ]
  },
  {
   "cell_type": "code",
   "execution_count": 0,
   "metadata": {
    "application/vnd.databricks.v1+cell": {
     "cellMetadata": {
      "byteLimit": 2048000,
      "rowLimit": 10000
     },
     "inputWidgets": {},
     "nuid": "90f44b34-5f64-4ded-bf00-a72696f6cfb4",
     "showTitle": false,
     "title": ""
    }
   },
   "outputs": [],
   "source": [
    "# Task - create a histogram\n",
    "plt.title('y_train histogram')\n",
    "plt.hist(y_train);"
   ]
  },
  {
   "cell_type": "markdown",
   "metadata": {
    "application/vnd.databricks.v1+cell": {
     "cellMetadata": {
      "byteLimit": 2048000,
      "rowLimit": 10000
     },
     "inputWidgets": {},
     "nuid": "0ab98ff4-61d5-4785-866f-860ff46afa36",
     "showTitle": false,
     "title": ""
    }
   },
   "source": [
    "The distribution of the target variable seems to be rather bimodal. Linear regression does not perform the best for such distributions. However, if we did not take into consideration the outliers, the distribution would be closer to a normal distribution. However, are they really outliers? \n",
    "So the question is if we should **transform the dependent variable**. We could also consider creating two separate linear models, one for the usual values and one for the values on the upper end."
   ]
  },
  {
   "cell_type": "markdown",
   "metadata": {
    "application/vnd.databricks.v1+cell": {
     "cellMetadata": {
      "byteLimit": 2048000,
      "rowLimit": 10000
     },
     "inputWidgets": {},
     "nuid": "5c44617e-58a8-4517-999b-362b8db9d570",
     "showTitle": false,
     "title": ""
    }
   },
   "source": [
    "### Exercise – Outliers\n",
    "\n",
    "Might the skewness of the residuals be due to the outliers in the explanatory features?\n",
    "\n",
    "- Draw a boxplot for `X_train`. You can use for example a boxplot from the seaborn library."
   ]
  },
  {
   "cell_type": "code",
   "execution_count": 0,
   "metadata": {
    "application/vnd.databricks.v1+cell": {
     "cellMetadata": {
      "byteLimit": 2048000,
      "rowLimit": 10000
     },
     "inputWidgets": {},
     "nuid": "60426f21-175b-44a1-b5df-d85568a20840",
     "showTitle": false,
     "title": ""
    }
   },
   "outputs": [],
   "source": [
    "# Task\n",
    "\n",
    "sns.boxplot(data=X_train);"
   ]
  },
  {
   "cell_type": "markdown",
   "metadata": {
    "application/vnd.databricks.v1+cell": {
     "cellMetadata": {
      "byteLimit": 2048000,
      "rowLimit": 10000
     },
     "inputWidgets": {},
     "nuid": "efba0c9a-bd69-4638-bccc-2077eb47ca4a",
     "showTitle": false,
     "title": ""
    }
   },
   "source": [
    "There seem to be quite some outliers, e.g. in CRIM, ZN and PTRATIO B. These outliers should be treated."
   ]
  },
  {
   "cell_type": "markdown",
   "metadata": {
    "application/vnd.databricks.v1+cell": {
     "cellMetadata": {
      "byteLimit": 2048000,
      "rowLimit": 10000
     },
     "inputWidgets": {},
     "nuid": "6e7b8fe2-e893-4ef6-a4bc-c590dde38df7",
     "showTitle": false,
     "title": ""
    }
   },
   "source": [
    "### Exercise – Multicollinearity\n",
    "\n",
    "Correlated features might cause the model to be quite unstable. \n",
    "\n",
    "- Calculate the correlations between all the variables with the `corr()` method called on `X_train`. Save the output into variable `corr`."
   ]
  },
  {
   "cell_type": "code",
   "execution_count": 0,
   "metadata": {
    "application/vnd.databricks.v1+cell": {
     "cellMetadata": {
      "byteLimit": 2048000,
      "rowLimit": 10000
     },
     "inputWidgets": {},
     "nuid": "979418f0-6027-49cb-a425-5a4a998efb8e",
     "showTitle": false,
     "title": ""
    }
   },
   "outputs": [],
   "source": [
    "# Task\n",
    "\n",
    "corr = X_train.corr()\n",
    "corr"
   ]
  },
  {
   "cell_type": "markdown",
   "metadata": {
    "application/vnd.databricks.v1+cell": {
     "cellMetadata": {
      "byteLimit": 2048000,
      "rowLimit": 10000
     },
     "inputWidgets": {},
     "nuid": "ccccbbc8-3de9-48bd-b924-27e9c0faafdf",
     "showTitle": false,
     "title": ""
    }
   },
   "source": [
    "Below you can see correlations of the variables between each other on the left chart. Right chart shows absolute values of correlations."
   ]
  },
  {
   "cell_type": "code",
   "execution_count": 0,
   "metadata": {
    "application/vnd.databricks.v1+cell": {
     "cellMetadata": {
      "byteLimit": 2048000,
      "rowLimit": 10000
     },
     "inputWidgets": {},
     "nuid": "8fef6b07-d65f-40ba-93d8-88fc1a9cc8f5",
     "showTitle": false,
     "title": ""
    }
   },
   "outputs": [],
   "source": [
    "# charts for correlation\n",
    "plt.subplot(1,2,1)\n",
    "plt.title('Correlations')\n",
    "mask = np.triu(np.ones_like(corr, dtype=bool))\n",
    "sns.heatmap(corr, mask = mask, annot=True, cmap='Reds');\n",
    "\n",
    "plt.title('Absolute value of correlations')\n",
    "plt.subplot(1,2,2)\n",
    "corr_abs = corr.abs()\n",
    "sns.heatmap(corr_abs, mask = mask, annot=True, cmap='Reds');"
   ]
  },
  {
   "cell_type": "markdown",
   "metadata": {
    "application/vnd.databricks.v1+cell": {
     "cellMetadata": {
      "byteLimit": 2048000,
      "rowLimit": 10000
     },
     "inputWidgets": {},
     "nuid": "ac2f06f4-2364-4f04-9c32-762a5aba4048",
     "showTitle": false,
     "title": ""
    }
   },
   "source": [
    "There is a strong correlation between some features, e.g. TAX and RAD, DIS and NOX, DIS and INUDS, DIS and AGE, LSTAT and RM. **Highly correlated features in linear models can cause instability of the model**. Thus it should be tested how the models perform if we remove such features. Usually one of the features with a correlation higher than some threshold is removed from the feature set."
   ]
  },
  {
   "cell_type": "markdown",
   "metadata": {
    "application/vnd.databricks.v1+cell": {
     "cellMetadata": {
      "byteLimit": 2048000,
      "rowLimit": 10000
     },
     "inputWidgets": {},
     "nuid": "3438e9c4-8457-4e34-80d4-da1982ad1331",
     "showTitle": false,
     "title": ""
    }
   },
   "source": [
    "### Linearity – Exercise\n",
    "\n",
    "Since we work with a linear model, there should be a linear relationship between X and y. Let's do some simple checks. \n",
    "\n",
    "- Compute the correlation between `X_train` and `y_train`. Hint: you can concatenate `X_train` and `y_train` first on `axis=1` and calculate the correlation on the concatenated data frame."
   ]
  },
  {
   "cell_type": "code",
   "execution_count": 0,
   "metadata": {
    "application/vnd.databricks.v1+cell": {
     "cellMetadata": {
      "byteLimit": 2048000,
      "rowLimit": 10000
     },
     "inputWidgets": {},
     "nuid": "7d99edcf-ab58-4c2b-b83d-d116f58f40c4",
     "showTitle": false,
     "title": ""
    }
   },
   "outputs": [],
   "source": [
    "# Task\n",
    "\n",
    "data_train = pd.concat([X_train,y_train], axis=1)\n",
    "data_train.corr()['target'].sort_values(ascending=False)"
   ]
  },
  {
   "cell_type": "markdown",
   "metadata": {
    "application/vnd.databricks.v1+cell": {
     "cellMetadata": {
      "byteLimit": 2048000,
      "rowLimit": 10000
     },
     "inputWidgets": {},
     "nuid": "e1e07857-552b-4793-b887-35d3cafbc0ac",
     "showTitle": false,
     "title": ""
    }
   },
   "source": [
    "### Exercise\n",
    "\n",
    "There is a strong negative correlation between the target variable and the 'LSTAT' feature, as well as a strong positive correlation between the target variable and the 'RM' feature. \n",
    "\n",
    "- Draw a scatter plot showing the dependency between X and y not only for the two most correlated features 'LSTAT' and 'RM' but also for the other features to investigate if there is any pattern."
   ]
  },
  {
   "cell_type": "code",
   "execution_count": 0,
   "metadata": {
    "application/vnd.databricks.v1+cell": {
     "cellMetadata": {
      "byteLimit": 2048000,
      "rowLimit": 10000
     },
     "inputWidgets": {},
     "nuid": "59e0027d-13ef-46ae-ba72-befcba747e0c",
     "showTitle": false,
     "title": ""
    }
   },
   "outputs": [],
   "source": [
    "# Task\n",
    "\n",
    "data_train = pd.concat([X_train,y_train], axis=1)\n",
    "corr_target = data_train.corr()['target'].abs().sort_values(ascending=False)\n",
    "\n",
    "sns.pairplot(data_train, y_vars = 'target', x_vars=corr_target.index[1:5], height = 10);\n",
    "sns.pairplot(data_train, y_vars = 'target', x_vars=corr_target.index[5:10], height = 10);\n",
    "sns.pairplot(data_train, y_vars = 'target', x_vars=corr_target.index[10:14], height = 10);"
   ]
  },
  {
   "cell_type": "markdown",
   "metadata": {
    "application/vnd.databricks.v1+cell": {
     "cellMetadata": {
      "byteLimit": 2048000,
      "rowLimit": 10000
     },
     "inputWidgets": {},
     "nuid": "b9737457-4f7a-4d68-b9a9-b8659e4e9620",
     "showTitle": false,
     "title": ""
    }
   },
   "source": [
    "We already know that there is a strong correlation between the target and the variable 'LSTAT' but the relationship seems to be rather non-linear. We can transform the variable 'LSTAT' for example with a negative logarithm or x-squared function to get a linear relationship between the modified variable and y. \n",
    "\n",
    "The relationship with the second highest correlated feature 'RM' seems to be linear."
   ]
  },
  {
   "cell_type": "markdown",
   "metadata": {
    "application/vnd.databricks.v1+cell": {
     "cellMetadata": {
      "byteLimit": 2048000,
      "rowLimit": 10000
     },
     "inputWidgets": {},
     "nuid": "95f7743e-b7cf-4e6f-9239-628207daadc0",
     "showTitle": false,
     "title": ""
    }
   },
   "source": [
    "## Model only with the 2 strongest variables \n",
    "### Exercise\n",
    "- Fit the model only with the features 'LSTAT' and 'RM'.\n",
    "- Predict and return the RMSE."
   ]
  },
  {
   "cell_type": "code",
   "execution_count": 0,
   "metadata": {
    "application/vnd.databricks.v1+cell": {
     "cellMetadata": {
      "byteLimit": 2048000,
      "rowLimit": 10000
     },
     "inputWidgets": {},
     "nuid": "fad3ae69-4e4b-40d1-aedc-5680dd82a153",
     "showTitle": false,
     "title": ""
    }
   },
   "outputs": [],
   "source": [
    "# Task\n",
    "\n",
    "model = LinearRegression()\n",
    "model.fit(X_train[['LSTAT', 'RM']], y_train)\n",
    "y_hat = model.predict(X_test[['LSTAT', 'RM']])\n",
    "rmse = mean_squared_error(y_test, y_hat, squared=False)\n",
    "print(f\"RMSE: {np.round(rmse,1)}\")"
   ]
  },
  {
   "cell_type": "markdown",
   "metadata": {
    "application/vnd.databricks.v1+cell": {
     "cellMetadata": {
      "byteLimit": 2048000,
      "rowLimit": 10000
     },
     "inputWidgets": {},
     "nuid": "7b7607b1-ea32-481e-9815-f8d78d5eae16",
     "showTitle": false,
     "title": ""
    }
   },
   "source": [
    "This model has a slightly worse performance than the original model with an RMSE of around 4.7. However, interpretaion of the model with 2 variables is easier and usually the generalization of the simpler model is also better."
   ]
  },
  {
   "cell_type": "markdown",
   "metadata": {
    "application/vnd.databricks.v1+cell": {
     "cellMetadata": {
      "byteLimit": 2048000,
      "rowLimit": 10000
     },
     "inputWidgets": {},
     "nuid": "d567c065-be03-494e-b3c7-310096ad7ef2",
     "showTitle": false,
     "title": ""
    }
   },
   "source": [
    "## 2nd degree polynomial features\n",
    "\n",
    "We have seen in the scatter plots that there likely is a non-linear relationship between 'LSTAT' and the target variable. It makes sense to test the model with the 2 variables as above but also adding polynomial features of the 2nd degree and an interaction term between the two variables. Run the cell below to see the performance of such a model."
   ]
  },
  {
   "cell_type": "code",
   "execution_count": 0,
   "metadata": {
    "application/vnd.databricks.v1+cell": {
     "cellMetadata": {
      "byteLimit": 2048000,
      "rowLimit": 10000
     },
     "inputWidgets": {},
     "nuid": "08378fbb-e739-447e-b2e0-f3463d3db96d",
     "showTitle": false,
     "title": ""
    }
   },
   "outputs": [],
   "source": [
    "poly = PolynomialFeatures(2)\n",
    "x_train_poly = poly.fit_transform(X_train[['LSTAT', 'RM']])\n",
    "x_test_poly = poly.transform(X_test[['LSTAT', 'RM']])\n",
    "  \n",
    "model_poly = LinearRegression(fit_intercept=False)\n",
    "model_poly.fit(x_train_poly, y_train)\n",
    "    \n",
    "y_hat = model_poly.predict(x_test_poly)\n",
    "print(f\"RMSE: {mean_squared_error(y_test, y_hat, squared=False)}\")\n",
    "# depending on the version of sklearn, this will cause an error\n",
    "# in that case, replace \"get_feature_names_out\" with \"get_feature_names\"\n",
    "pd.DataFrame(model_poly.coef_, index = [\"Coefficient\"], columns = poly.get_feature_names_out())"
   ]
  },
  {
   "cell_type": "markdown",
   "metadata": {
    "application/vnd.databricks.v1+cell": {
     "cellMetadata": {
      "byteLimit": 2048000,
      "rowLimit": 10000
     },
     "inputWidgets": {},
     "nuid": "be4eb0b9-8d9d-45d6-b3c5-16dca18e9374",
     "showTitle": false,
     "title": ""
    }
   },
   "source": [
    "This model has so far the best performance."
   ]
  },
  {
   "cell_type": "markdown",
   "metadata": {
    "application/vnd.databricks.v1+cell": {
     "cellMetadata": {
      "byteLimit": 2048000,
      "rowLimit": 10000
     },
     "inputWidgets": {},
     "nuid": "706343ce-3322-490d-938a-e074f44277ce",
     "showTitle": false,
     "title": ""
    }
   },
   "source": [
    "## Next steps to consider\n",
    "How can we improve our current model even further?\n",
    "\n",
    "- Treatment of the y variable - Should we use two different models? Should we transform y?\n",
    "- Outliers need to be treated.\n",
    "- Feature selection methods.\n",
    "- Removal of correlated features.\n",
    "- Feature engineering.\n",
    "- ..."
   ]
  },
  {
   "cell_type": "markdown",
   "metadata": {
    "application/vnd.databricks.v1+cell": {
     "cellMetadata": {
      "byteLimit": 2048000,
      "rowLimit": 10000
     },
     "inputWidgets": {},
     "nuid": "a0313d79-b5de-47d8-9b78-f5f6dd0b84d1",
     "showTitle": false,
     "title": ""
    }
   },
   "source": [
    "------------------------------------------------------------------------------------------------------------\n",
    "Material adapted for RBI internal purposes with full permissions from original authors. [Source](https://github.com/zatkopatrik/authentic-data-science)"
   ]
  }
 ],
 "metadata": {
  "application/vnd.databricks.v1+notebook": {
   "dashboards": [],
   "language": "python",
   "notebookMetadata": {
    "pythonIndentUnit": 2
   },
   "notebookName": "[Answer]1_Linear_Regression_Exercise_jupyter",
   "widgets": {}
  }
 },
 "nbformat": 4,
 "nbformat_minor": 0
}
