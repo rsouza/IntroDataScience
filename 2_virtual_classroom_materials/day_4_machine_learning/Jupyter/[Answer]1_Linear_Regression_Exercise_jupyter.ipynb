{
 "cells": [
  {
   "cell_type": "code",
   "execution_count": 0,
   "metadata": {
    "application/vnd.databricks.v1+cell": {
     "cellMetadata": {
      "byteLimit": 2048000,
      "rowLimit": 10000
     },
     "inputWidgets": {},
     "nuid": "a216ffd7-13ad-4cf4-9890-f8d85400b06b",
     "showTitle": false,
     "title": ""
    }
   },
   "outputs": [],
   "source": [
    "import numpy as np\n",
    "import matplotlib.pyplot as plt\n",
    "import pandas as pd\n",
    "import seaborn as sns\n",
    "plt.rcParams[\"figure.figsize\"] = (15,4) # the charts will have a size of width = 15, height = 4\n",
    "\n",
    "\n",
    "from sklearn.metrics import mean_squared_error, mean_absolute_error, root_mean_squared_error\n",
    "from sklearn.linear_model import LinearRegression\n",
    "from sklearn.preprocessing import StandardScaler, PolynomialFeatures\n",
    "from sklearn.model_selection import train_test_split\n",
    "from sklearn import datasets\n",
    "\n",
    "#%matplotlib inline"
   ]
  },
  {
   "cell_type": "markdown",
   "metadata": {
    "application/vnd.databricks.v1+cell": {
     "cellMetadata": {},
     "inputWidgets": {},
     "nuid": "3356f507-b626-4eec-9163-b066ce21821d",
     "showTitle": false,
     "title": ""
    }
   },
   "source": [
    "# Linear regression with 1 feature\n",
    "## Generate a dataset for Linear Regression\n",
    "For this lesson we will create an artificial dataset using the\n",
    "[`sklearn.datasets`](https://scikit-learn.org/stable/modules/classes.html#module-sklearn.datasets)\n",
    "module of sklearn. \n",
    "\n",
    "- With the\n",
    "[`make_regression()`](https://scikit-learn.org/stable/modules/generated/sklearn.datasets.make_regression.html) \n",
    "function of\n",
    "[`datasets`](https://scikit-learn.org/stable/modules/classes.html#module-sklearn.datasets)\n",
    "we can generate a synthetical dataset for a regression problem.\n",
    "- Here we generate 100 observations with 1 explanatory variable and a standard deviation for the gaussian noise of 40.\n",
    "- If you want to read the documentation you can always **run the function name with a questionmark before the name** like in the cell below. This will open the documentation directly in jupyter notebok. You can also read the documentation on the internet, e.g. https://scikit-learn.org/stable/modules/generated/sklearn.datasets.make_regression.html"
   ]
  },
  {
   "cell_type": "code",
   "execution_count": 0,
   "metadata": {
    "application/vnd.databricks.v1+cell": {
     "cellMetadata": {
      "byteLimit": 2048000,
      "rowLimit": 10000
     },
     "inputWidgets": {},
     "nuid": "a8ab48a3-1e31-474c-b458-0f1c0370d7af",
     "showTitle": false,
     "title": ""
    }
   },
   "outputs": [],
   "source": [
    "?datasets.make_regression"
   ]
  },
  {
   "cell_type": "code",
   "execution_count": 0,
   "metadata": {
    "application/vnd.databricks.v1+cell": {
     "cellMetadata": {
      "byteLimit": 2048000,
      "rowLimit": 10000
     },
     "inputWidgets": {},
     "nuid": "a3a31802-028b-4902-85c0-09a985830024",
     "showTitle": false,
     "title": ""
    }
   },
   "outputs": [],
   "source": [
    "x, y, coeff = datasets.make_regression(n_samples = 100, \n",
    "                                       n_features = 1,\n",
    "                                       noise = 40,\n",
    "                                       coef = True,\n",
    "                                       bias = 50,\n",
    "                                       random_state = 42)\n",
    "\n",
    "# Funny Note\n",
    "# if you have read Hitchiker's Guide to the Galaxy then\n",
    "# you know that 42 is the universal answer to life, the universe and everything\n",
    "# https://www.quora.com/Why-do-we-choose-random-state-as-42-very-often-during-training-a-machine-learning-model"
   ]
  },
  {
   "cell_type": "markdown",
   "metadata": {
    "application/vnd.databricks.v1+cell": {
     "cellMetadata": {},
     "inputWidgets": {},
     "nuid": "6b267a4b-9748-4a16-96ae-d9ae3a035c8d",
     "showTitle": false,
     "title": ""
    }
   },
   "source": [
    "We can plot x against y to see what the data look like."
   ]
  },
  {
   "cell_type": "code",
   "execution_count": 0,
   "metadata": {
    "application/vnd.databricks.v1+cell": {
     "cellMetadata": {
      "byteLimit": 2048000,
      "rowLimit": 10000
     },
     "inputWidgets": {},
     "nuid": "2674bbae-648b-480f-8121-e86424c73e33",
     "showTitle": false,
     "title": ""
    }
   },
   "outputs": [],
   "source": [
    "#plt.figure(figsize=(15,4))\n",
    "plt.scatter(x,y)\n",
    "plt.title('Data')\n",
    "plt.show()"
   ]
  },
  {
   "cell_type": "markdown",
   "metadata": {
    "application/vnd.databricks.v1+cell": {
     "cellMetadata": {},
     "inputWidgets": {},
     "nuid": "d44a1f37-82e8-4291-8694-0c911f2485d9",
     "showTitle": false,
     "title": ""
    }
   },
   "source": [
    "Run the user defined function below which plots the observations and a line, and calculates the RMSE. You will use this function in the exercises!\n",
    "It takes as inputs x and y, the intercept value and a coefficient value."
   ]
  },
  {
   "cell_type": "code",
   "execution_count": 0,
   "metadata": {
    "application/vnd.databricks.v1+cell": {
     "cellMetadata": {
      "byteLimit": 2048000,
      "rowLimit": 10000
     },
     "inputWidgets": {},
     "nuid": "3ed04208-924d-4e64-adac-21fcedadf040",
     "showTitle": false,
     "title": ""
    }
   },
   "outputs": [],
   "source": [
    "def plot_regression(x, y, bias, coeff):\n",
    "    \"\"\"\n",
    "    The function plots a scatterpot of x, y and a line with bias and coefficient. It also calculates the RMSE.\n",
    "    ---------------\n",
    "    params:\n",
    "    - x: points on the x-axis\n",
    "    - y: points on the y-axis\n",
    "    - bias: intercept of the line\n",
    "    - coeff: slope of the line\n",
    "     \"\"\"\n",
    "    y_hat = bias + x * coeff # predictions of x can be calculated easily \n",
    "                             # by multiplying the features with coefficients\n",
    "    print(f'MSE2 : {round(mean_squared_error(y,y_hat),1)}') \n",
    "    print(f'RMSE2 : {round(root_mean_squared_error(y,y_hat),1)}')\n",
    "\n",
    "    # chart\n",
    "    fig, ax = plt.subplots()\n",
    "\n",
    "    ax.set_title('Observations with regression line')\n",
    "    ax.scatter(x,y) # scatter\n",
    "    ax.axline((0, bias), slope=coeff, ls='--', c='r') # line"
   ]
  },
  {
   "cell_type": "markdown",
   "metadata": {
    "application/vnd.databricks.v1+cell": {
     "cellMetadata": {},
     "inputWidgets": {},
     "nuid": "d7eaaaf2-389e-4302-a745-f4887a1ca54d",
     "showTitle": false,
     "title": ""
    }
   },
   "source": [
    "### Exercise \n",
    "We want to fit a model that looks like this: \n",
    "$$\\widehat{y} = \\beta_0 + \\beta_1 x_1 ,$$ \n",
    "where \\\\(\\beta_0\\\\) is a bias term and \\\\(\\beta_1\\\\) is the slope of the line.\n",
    "\n",
    "Use our user-defined function `plot_regression()` and try different values of bias and coeff of the regression line. Observe the change in the values of the cost function and the behavior of the line with the change of the parameters. \n",
    "- What does a line look like if the coeff is positive, negative or zero?\n",
    "- What is the influence of the bias term on the line?\n",
    "- Can you guess a suitable set of parameters? \n",
    "- What are the units of the MSE and RMSE in relation to dependent variable y? Which one is more intuitive to use for interpretation?"
   ]
  },
  {
   "cell_type": "code",
   "execution_count": 0,
   "metadata": {
    "application/vnd.databricks.v1+cell": {
     "cellMetadata": {
      "byteLimit": 2048000,
      "rowLimit": 10000
     },
     "inputWidgets": {},
     "nuid": "406f0953-44e8-43c8-992c-773593439c16",
     "showTitle": false,
     "title": ""
    }
   },
   "outputs": [],
   "source": [
    "# Task 1: Try different values of bias and coeffs\n",
    "\n",
    "# plot_regression(x, y, bias=..., coeff=...)\n",
    "plot_regression(x,y,10,10)"
   ]
  },
  {
   "cell_type": "markdown",
   "metadata": {
    "application/vnd.databricks.v1+cell": {
     "cellMetadata": {},
     "inputWidgets": {},
     "nuid": "34a34fa7-7a4c-4098-b111-ccc261e638a9",
     "showTitle": false,
     "title": ""
    }
   },
   "source": [
    "## Normal Equation\n",
    "\n",
    "The function `normal_eq()`  computes \\\\(\\widehat{\\beta}= (X^T X)^{-1} X^T y \\\\). It takes as input X and y and returns optimal values for the bias (intercept) term and the coefficient (slope)."
   ]
  },
  {
   "cell_type": "code",
   "execution_count": 0,
   "metadata": {
    "application/vnd.databricks.v1+cell": {
     "cellMetadata": {
      "byteLimit": 2048000,
      "rowLimit": 10000
     },
     "inputWidgets": {},
     "nuid": "b4f1c86e-311b-4f10-bb20-3e20c8dd1309",
     "showTitle": false,
     "title": ""
    }
   },
   "outputs": [],
   "source": [
    "def normal_eq(x,y): \n",
    "    \"\"\"\n",
    "    The function analytically computes the optimal set of coefficients given x and y. \n",
    "    A vector of ones is appended as the first vector of matrix x to take into account the bias term. \n",
    "    ---------------\n",
    "    params:\n",
    "    - x: input features matrix\n",
    "    - y: target variable\n",
    "    returns: \n",
    "    - beta_hat: optimal set of coefficients for linear regression\n",
    "    \"\"\"\n",
    "    X = np.c_[np.ones(len(x)),x]\n",
    "    beta_hat = np.linalg.inv(X.T.dot(X)).dot(X.T).dot(y)\n",
    "    print(f\"Optimal set of coefficients: {beta_hat}\")\n",
    "    return(beta_hat)"
   ]
  },
  {
   "cell_type": "markdown",
   "metadata": {
    "application/vnd.databricks.v1+cell": {
     "cellMetadata": {},
     "inputWidgets": {},
     "nuid": "fb97145c-b82e-4c65-9fb2-1126ad29cfdd",
     "showTitle": false,
     "title": ""
    }
   },
   "source": [
    "### Exercise\n",
    "\n",
    "- Use our user-defined function `normal_eq()` on the input features x and the output vector y.\n",
    "- Use the returned values of the bias and coef in the `plot_regression` function.\n",
    "\n",
    "Was your guess for the bias and coeff value from the previous exercise close enough?"
   ]
  },
  {
   "cell_type": "code",
   "execution_count": 0,
   "metadata": {
    "application/vnd.databricks.v1+cell": {
     "cellMetadata": {
      "byteLimit": 2048000,
      "rowLimit": 10000
     },
     "inputWidgets": {},
     "nuid": "f2a373de-2d22-4198-bf18-bd2847025d83",
     "showTitle": false,
     "title": ""
    }
   },
   "outputs": [],
   "source": [
    "# Task 2: use normal_eq() and find coeffs\n",
    "\n",
    "#..., ... = normal_eq(x, y) \n",
    "#plot_regression(..., ..., ..., ...)\n",
    "\n",
    "bias, coeff = normal_eq(x, y) \n",
    "plot_regression(x, y, bias, coeff)"
   ]
  },
  {
   "cell_type": "markdown",
   "metadata": {
    "application/vnd.databricks.v1+cell": {
     "cellMetadata": {},
     "inputWidgets": {},
     "nuid": "464df2df-e2ec-4e7d-941b-e618973838be",
     "showTitle": false,
     "title": ""
    }
   },
   "source": [
    "## Sklearn Linear Regression\n",
    "\n",
    "Here we explore the linear regression from scikit learn for the first time. Help yourself with [examples from the documentation](https://scikit-learn.org/stable/modules/generated/sklearn.linear_model.LinearRegression.html) if needed: \n",
    "\n",
    "### Exercise\n",
    "- Use\n",
    "[`LinearRegression()`](https://scikit-learn.org/stable/modules/generated/sklearn.linear_model.LinearRegression.html)\n",
    "from\n",
    "[`sklearn.linear_model`](https://scikit-learn.org/stable/modules/classes.html#module-sklearn.linear_model)\n",
    "to fit the linear regression model on x, y.\n",
    "Look at the examples section in the documentation if you need help.\n",
    "- Return the coefficients for slope and intercept of the regression line.\n",
    "You can find them in the attributes section of the documentation.\n",
    "Store the values in the variables `lr_coef` and `lr_intercept`.\n",
    "Are these values the same as the ones from the normal equation?"
   ]
  },
  {
   "cell_type": "code",
   "execution_count": 0,
   "metadata": {
    "application/vnd.databricks.v1+cell": {
     "cellMetadata": {
      "byteLimit": 2048000,
      "rowLimit": 10000
     },
     "inputWidgets": {},
     "nuid": "5833e171-b4f2-48ad-9034-1c54f4459ef1",
     "showTitle": false,
     "title": ""
    }
   },
   "outputs": [],
   "source": [
    "# Task 3: implement linear regression\n",
    "\n",
    "#lr = ...\n",
    "#lr.fit(..., ...)\n",
    "#lr_coef, lr_intercept = lr...., lr....\n",
    "\n",
    "lr = LinearRegression()\n",
    "lr.fit(x,y)\n",
    "lr_coef, lr_intercept = lr.coef_, lr.intercept_\n",
    "print(f'Slope: {lr_coef}\\nBias: {lr_intercept}')"
   ]
  },
  {
   "cell_type": "markdown",
   "metadata": {
    "application/vnd.databricks.v1+cell": {
     "cellMetadata": {},
     "inputWidgets": {},
     "nuid": "457e2547-4c4f-422a-93f7-24bd167a308f",
     "showTitle": false,
     "title": ""
    }
   },
   "source": [
    "- Next, predict the value of the new observation. If needed use the [documentation](https://scikit-learn.org/stable/modules/generated/sklearn.linear_model.LinearRegression.html) for some examples."
   ]
  },
  {
   "cell_type": "code",
   "execution_count": 0,
   "metadata": {
    "application/vnd.databricks.v1+cell": {
     "cellMetadata": {
      "byteLimit": 2048000,
      "rowLimit": 10000
     },
     "inputWidgets": {},
     "nuid": "33e734da-c1d7-4bf3-91b2-d676c4595c79",
     "showTitle": false,
     "title": ""
    }
   },
   "outputs": [],
   "source": [
    "# Task 4: predict the value of new observations\n",
    "x_new = [[1.5], [0]]\n",
    "lr.predict(x_new)"
   ]
  },
  {
   "cell_type": "markdown",
   "metadata": {
    "application/vnd.databricks.v1+cell": {
     "cellMetadata": {},
     "inputWidgets": {},
     "nuid": "df47569d-8cda-42e6-b25e-e4f7bf5bc8b0",
     "showTitle": false,
     "title": ""
    }
   },
   "source": [
    "- Lastly, return the score of the model on x and y. You can read more about the score in the [documentation](https://scikit-learn.org/stable/modules/generated/sklearn.linear_model.LinearRegression.html#sklearn.linear_model.LinearRegression.score). The best value is 1. Usually it is between 0 and 1 but it can be also negative. The score is the [R-squared metric](https://en.wikipedia.org/wiki/Coefficient_of_determination) that can be used for the evaluation of the model."
   ]
  },
  {
   "cell_type": "code",
   "execution_count": 0,
   "metadata": {
    "application/vnd.databricks.v1+cell": {
     "cellMetadata": {
      "byteLimit": 2048000,
      "rowLimit": 10000
     },
     "inputWidgets": {},
     "nuid": "b5b6a55d-23ab-48a5-8b31-886850e93556",
     "showTitle": false,
     "title": ""
    }
   },
   "outputs": [],
   "source": [
    "# Task 5: predict the value of new observations\n",
    "#lr.score(..., ...)\n",
    "\n",
    "lr.score(x,y)"
   ]
  },
  {
   "cell_type": "markdown",
   "metadata": {
    "application/vnd.databricks.v1+cell": {
     "cellMetadata": {},
     "inputWidgets": {},
     "nuid": "bdc4b58b-fd8f-4e3d-8571-294548e69288",
     "showTitle": false,
     "title": ""
    }
   },
   "source": [
    "## Outliers\n",
    "\n",
    "We will now add outliers to our dataset and save them under the names x2 and y2."
   ]
  },
  {
   "cell_type": "code",
   "execution_count": 0,
   "metadata": {
    "application/vnd.databricks.v1+cell": {
     "cellMetadata": {
      "byteLimit": 2048000,
      "rowLimit": 10000
     },
     "inputWidgets": {},
     "nuid": "e3fab631-9d4a-4328-80d6-422f91ecfb15",
     "showTitle": false,
     "title": ""
    }
   },
   "outputs": [],
   "source": [
    "x2 = np.append(x,[np.min(x)-0.1, np.min(x), np.min(x)-0.15]).reshape([-1,1])\n",
    "y2 = np.append(y, [-400,-300,-350]).reshape([-1,1])"
   ]
  },
  {
   "cell_type": "markdown",
   "metadata": {
    "application/vnd.databricks.v1+cell": {
     "cellMetadata": {},
     "inputWidgets": {},
     "nuid": "3a0ba57d-f9dc-445c-a166-f47854e08e52",
     "showTitle": false,
     "title": ""
    }
   },
   "source": [
    "### Exercise\n",
    "\n",
    "Fit the linear regression to x2, y2 and store the bias in the variable `lr_outlier_intercept` and the slope in the variable `lr_outlier_coef`."
   ]
  },
  {
   "cell_type": "code",
   "execution_count": 0,
   "metadata": {
    "application/vnd.databricks.v1+cell": {
     "cellMetadata": {
      "byteLimit": 2048000,
      "rowLimit": 10000
     },
     "inputWidgets": {},
     "nuid": "ece39a9b-d016-4df4-aac9-acc43e1dcfa3",
     "showTitle": false,
     "title": ""
    }
   },
   "outputs": [],
   "source": [
    "# Task 6: Fit linear regression\n",
    "\n",
    "lr_outlier = LinearRegression()\n",
    "lr_outlier.fit(x2,y2)\n",
    "lr_outlier_coef, lr_outlier_intercept = lr_outlier.coef_, lr_outlier.intercept_"
   ]
  },
  {
   "cell_type": "markdown",
   "metadata": {
    "application/vnd.databricks.v1+cell": {
     "cellMetadata": {},
     "inputWidgets": {},
     "nuid": "d94a407c-b8c9-4708-b64b-ea5d975d8baf",
     "showTitle": false,
     "title": ""
    }
   },
   "source": [
    "You can observe on the chart how outliers influence the regression line. Outlier treatment should be one of the first steps done before fitting a linear regression model, otherwise the results can be biased."
   ]
  },
  {
   "cell_type": "code",
   "execution_count": 0,
   "metadata": {
    "application/vnd.databricks.v1+cell": {
     "cellMetadata": {
      "byteLimit": 2048000,
      "rowLimit": 10000
     },
     "inputWidgets": {},
     "nuid": "dd95d03b-9462-497d-8692-483b1f001c96",
     "showTitle": false,
     "title": ""
    }
   },
   "outputs": [],
   "source": [
    "lr_intercept"
   ]
  },
  {
   "cell_type": "code",
   "execution_count": 0,
   "metadata": {
    "application/vnd.databricks.v1+cell": {
     "cellMetadata": {
      "byteLimit": 2048000,
      "rowLimit": 10000
     },
     "inputWidgets": {},
     "nuid": "254a7fae-bd7b-4e7e-9298-bac52def8e00",
     "showTitle": false,
     "title": ""
    }
   },
   "outputs": [],
   "source": [
    "fig, ax = plt.subplots()\n",
    "\n",
    "ax.scatter(x2, y2)\n",
    "ax.axline((0, lr_intercept), slope=lr_coef, ls='--', c=\"r\", label='original regression line')\n",
    "ax.axline((0, lr_outlier_intercept[0]), slope=lr_outlier_coef, ls='--', c='b', label='regression line with outliers')\n",
    "\n",
    "ax.legend();"
   ]
  },
  {
   "cell_type": "markdown",
   "metadata": {
    "application/vnd.databricks.v1+cell": {
     "cellMetadata": {},
     "inputWidgets": {},
     "nuid": "38a28e92-c1cf-4aa4-8c93-5f8c343513fe",
     "showTitle": false,
     "title": ""
    }
   },
   "source": [
    "# Multiple Linear Regression"
   ]
  },
  {
   "cell_type": "markdown",
   "metadata": {
    "application/vnd.databricks.v1+cell": {
     "cellMetadata": {},
     "inputWidgets": {},
     "nuid": "d287203d-46e1-421d-bd6d-020dfe449044",
     "showTitle": false,
     "title": ""
    }
   },
   "source": [
    "## Load Dataset\n",
    "\n",
    "Load sklearn's inbuilt dataset for regression. If you want you can read the description of the dataset [here](http://lib.stat.cmu.edu/datasets/boston). It has 13 attributes that can be used for predicting house prices. "
   ]
  },
  {
   "cell_type": "code",
   "execution_count": 0,
   "metadata": {
    "application/vnd.databricks.v1+cell": {
     "cellMetadata": {
      "byteLimit": 2048000,
      "rowLimit": 10000
     },
     "inputWidgets": {},
     "nuid": "0762eb24-c3d4-4423-af09-faaf765c6544",
     "showTitle": false,
     "title": ""
    }
   },
   "outputs": [],
   "source": [
    "raw_df = pd.read_csv('../../../Data/Boston.csv')\n",
    "\n",
    "y = pd.DataFrame(raw_df['target'])\n",
    "x = pd.DataFrame(raw_df.iloc[:,1:-1])"
   ]
  },
  {
   "cell_type": "markdown",
   "metadata": {
    "application/vnd.databricks.v1+cell": {
     "cellMetadata": {},
     "inputWidgets": {},
     "nuid": "4f3b3515-ca21-4d87-8ee4-15ed9515b89d",
     "showTitle": false,
     "title": ""
    }
   },
   "source": [
    "## Train Test Split\n",
    "\n",
    "### Exercise \n",
    "Use the function [`train_test_split()`](https://scikit-learn.org/stable/modules/generated/sklearn.model_selection.train_test_split.html) to split the training data into training and testing datasets."
   ]
  },
  {
   "cell_type": "code",
   "execution_count": 0,
   "metadata": {
    "application/vnd.databricks.v1+cell": {
     "cellMetadata": {
      "byteLimit": 2048000,
      "rowLimit": 10000
     },
     "inputWidgets": {},
     "nuid": "19f061a7-b363-4776-ae33-a0dc657fae4e",
     "showTitle": false,
     "title": ""
    }
   },
   "outputs": [],
   "source": [
    "# Task 7: use function train_test_split() to split the training data into training and testing dataset\n",
    "\n",
    "X_train, X_test, y_train, y_test = train_test_split(x, y, random_state=42)"
   ]
  },
  {
   "cell_type": "markdown",
   "metadata": {
    "application/vnd.databricks.v1+cell": {
     "cellMetadata": {},
     "inputWidgets": {},
     "nuid": "7b1bcc0b-088f-47bd-bbdb-d98c446e10a6",
     "showTitle": false,
     "title": ""
    }
   },
   "source": [
    "## Fit the Model\n",
    "### Exercise\n",
    "- Instantiate the linear regression model.\n",
    "- Fit the model to the training data.\n",
    "- Print the value of the intercept of the model.\n",
    "- Return the values of the coefficients and save them under the variable `model_coef`."
   ]
  },
  {
   "cell_type": "code",
   "execution_count": 0,
   "metadata": {
    "application/vnd.databricks.v1+cell": {
     "cellMetadata": {
      "byteLimit": 2048000,
      "rowLimit": 10000
     },
     "inputWidgets": {},
     "nuid": "67145238-c62e-4686-9f72-3b53bb835a53",
     "showTitle": false,
     "title": ""
    }
   },
   "outputs": [],
   "source": [
    "# Task 8: instantiate the model\n",
    "model = LinearRegression()\n",
    "\n",
    "# Task 9: fit the model to x, y\n",
    "model.fit(X_train, y_train)\n",
    "print(f\"intercept: {model.intercept_}\")\n",
    "model_coef = model.coef_"
   ]
  },
  {
   "cell_type": "markdown",
   "metadata": {
    "application/vnd.databricks.v1+cell": {
     "cellMetadata": {},
     "inputWidgets": {},
     "nuid": "cf6c439f-667b-495d-9713-c4824c976b5c",
     "showTitle": false,
     "title": ""
    }
   },
   "source": [
    "We can interpret whether the given feature influences the prediction negatively or positively based on the sign of the coefficient. Also, if all the other variables are unchanged we can see how this single variable affects the output by changing it by 1 unit."
   ]
  },
  {
   "cell_type": "code",
   "execution_count": 0,
   "metadata": {
    "application/vnd.databricks.v1+cell": {
     "cellMetadata": {
      "byteLimit": 2048000,
      "rowLimit": 10000
     },
     "inputWidgets": {},
     "nuid": "4d2e1463-1834-417c-b9ae-f51c85dd8dd3",
     "showTitle": false,
     "title": ""
    }
   },
   "outputs": [],
   "source": [
    "df_coefs = pd.DataFrame(model_coef, index = [\"Coefficient\"], columns=X_train.columns)\n",
    "display(df_coefs)\n",
    "print(f'''For example, if you have an observation where LSTAT is equal to 50 and another one that has a value \n",
    "of LSTAT 51 and all other variables are the same, or if the variable LSTAT is changed for the investigated observation \n",
    "with other variables unchanged the effect on the target would be {np.round(df_coefs['LSTAT']['Coefficient'],5)}''')"
   ]
  },
  {
   "cell_type": "markdown",
   "metadata": {
    "application/vnd.databricks.v1+cell": {
     "cellMetadata": {},
     "inputWidgets": {},
     "nuid": "9ee97cf1-e671-4c3a-b2fc-ee551cbe1058",
     "showTitle": false,
     "title": ""
    }
   },
   "source": [
    "## Prediction / Model Evaluation\n",
    "### Exercise\n",
    "\n",
    "Predict on `X_test` and store the values in `y_hat`."
   ]
  },
  {
   "cell_type": "code",
   "execution_count": 0,
   "metadata": {
    "application/vnd.databricks.v1+cell": {
     "cellMetadata": {
      "byteLimit": 2048000,
      "rowLimit": 10000
     },
     "inputWidgets": {},
     "nuid": "9f93866e-1430-4a4c-93b1-5acb384d9169",
     "showTitle": false,
     "title": ""
    }
   },
   "outputs": [],
   "source": [
    "# Task 10: predict on X_test and store the values into y_hat\n",
    "\n",
    "y_hat = model.predict(X_test)"
   ]
  },
  {
   "cell_type": "markdown",
   "metadata": {
    "application/vnd.databricks.v1+cell": {
     "cellMetadata": {},
     "inputWidgets": {},
     "nuid": "652edcb7-1726-4663-b697-34e8d8f4fca9",
     "showTitle": false,
     "title": ""
    }
   },
   "source": [
    "Below is the plot of predictions against real values. Most of the data points lie around a diagonal line. This means that the predictions seem to be in line with the actual values, e.g. if the real value was 20, the prediction is also almost 20."
   ]
  },
  {
   "cell_type": "code",
   "execution_count": 0,
   "metadata": {
    "application/vnd.databricks.v1+cell": {
     "cellMetadata": {
      "byteLimit": 2048000,
      "rowLimit": 10000
     },
     "inputWidgets": {},
     "nuid": "d1631ba9-7f57-4f9a-a8fd-d144874439de",
     "showTitle": false,
     "title": ""
    }
   },
   "outputs": [],
   "source": [
    "fig, ax = plt.subplots()\n",
    "\n",
    "ax.scatter(y_hat, y_test)\n",
    "ax.axline((0,0), slope = 1, c=\"b\", lw=0.5)\n",
    "ax.set_xlabel(\"predictions\")\n",
    "ax.set_ylabel(\"true test values\")\n",
    "\n",
    "# Create square plot\n",
    "lims = ax.axis(\"square\")\n",
    "min_lim = min(lims[::2])\n",
    "max_lim = max(lims[1::2])\n",
    "ax.set_xlim(min_lim, max_lim)\n",
    "ax.set_ylim(min_lim, max_lim);"
   ]
  },
  {
   "cell_type": "markdown",
   "metadata": {
    "application/vnd.databricks.v1+cell": {
     "cellMetadata": {},
     "inputWidgets": {},
     "nuid": "7a450d5d-f30c-431b-8535-4e1c386a6f90",
     "showTitle": false,
     "title": ""
    }
   },
   "source": [
    "### Exercise\n",
    "\n",
    "Let's have a look at some metrics. Compute and save the following metrics on the test set:\n",
    "\n",
    "- [MSE](https://en.wikipedia.org/wiki/Mean_squared_error)\n",
    "(Mean squared error):\n",
    "[`mean_squared_error`](https://scikit-learn.org/stable/modules/generated/sklearn.metrics.mean_squared_error.html)\n",
    "from \n",
    "[`sklearn.metrics`](https://scikit-learn.org/stable/modules/classes.html#sklearn-metrics-metrics)\n",
    "(see ?mean_squared_error)\n",
    "- [RMSE](https://en.wikipedia.org/wiki/Root-mean-square_deviation)\n",
    "(Root mean squared error):\n",
    "    - for\n",
    "    [`scikit-learn`](https://scikit-learn.org/stable/index.html)\n",
    "    version 1.4 and newer:\n",
    "    [`root_mean_squared_error`](https://scikit-learn.org/stable/modules/generated/sklearn.metrics.root_mean_squared_error.html)\n",
    "    from\n",
    "    [`sklearn.metrics`](https://scikit-learn.org/stable/modules/classes.html#sklearn-metrics-metrics)\n",
    "    - for older versions of\n",
    "    [`scikit-learn`](https://scikit-learn.org/stable/index.html):\n",
    "    [`mean_squared_error`](https://scikit-learn.org/stable/modules/generated/sklearn.metrics.mean_squared_error.html)\n",
    "    from\n",
    "    [`sklearn.metrics`](https://scikit-learn.org/stable/modules/classes.html#sklearn-metrics-metrics)\n",
    "    with the parameter `squared` set to `False`\n",
    "- [MAE](https://en.wikipedia.org/wiki/Mean_absolute_error)\n",
    "(Mean absolute error):\n",
    "[`mean_absolute_error`]()\n",
    "from\n",
    "[`sklearn.metrics`](https://scikit-learn.org/stable/modules/classes.html#sklearn-metrics-metrics)\n",
    "(see ?mean_absolute_error)\n",
    "- [R2](https://en.wikipedia.org/wiki/Coefficient_of_determination)\n",
    "(score): this is a method of\n",
    "[`LinearRegression()`]()"
   ]
  },
  {
   "cell_type": "code",
   "execution_count": 0,
   "metadata": {
    "application/vnd.databricks.v1+cell": {
     "cellMetadata": {
      "byteLimit": 2048000,
      "rowLimit": 10000
     },
     "inputWidgets": {},
     "nuid": "c09df48f-c916-4298-a0e6-4a32af940a13",
     "showTitle": false,
     "title": ""
    }
   },
   "outputs": [],
   "source": [
    "# Task 11: Compute and save the metrics on the test set\n",
    "\n",
    "mse = mean_squared_error(y_test, y_hat)\n",
    "rmse = root_mean_squared_error(y_test, y_hat)\n",
    "mae = mean_absolute_error(y_test, y_hat)\n",
    "r2 = model.score(X_test, y_test) # the same as r2_score(y_test, y_hat)\n",
    "\n",
    "print(f\"MSE: {np.round(mse, 1)}\")\n",
    "print(f\"RMSE: {np.round(rmse, 1)}\")\n",
    "print(f\"MAE: {np.round(mae, 1)}\")\n",
    "print(f\"R2: {np.round(r2, 1)}\") "
   ]
  },
  {
   "cell_type": "code",
   "execution_count": 0,
   "metadata": {
    "application/vnd.databricks.v1+cell": {
     "cellMetadata": {
      "byteLimit": 2048000,
      "rowLimit": 10000
     },
     "inputWidgets": {},
     "nuid": "0fc0c0e2-c80b-4867-8d49-4381dd42d358",
     "showTitle": false,
     "title": ""
    }
   },
   "outputs": [],
   "source": [
    "# Check Scikit Learn version number\n",
    "import sklearn\n",
    "print(f\"The currently used version of Scikit-Learn is {sklearn.__version__}.\")"
   ]
  },
  {
   "cell_type": "markdown",
   "metadata": {
    "application/vnd.databricks.v1+cell": {
     "cellMetadata": {},
     "inputWidgets": {},
     "nuid": "f7dbe9ce-0fb3-4224-b612-e7152cc65d74",
     "showTitle": false,
     "title": ""
    }
   },
   "source": [
    "## Scaling\n",
    "\n",
    "### Exercise\n",
    "If features are not scaled appropriately, the intercept tells you what the expected value for the target variable would be if all the variables were equal to 0. This might be unrealistic for many features such as weight, size of the house, distance to the sea, etc. \n",
    "When features are scaled correctly, the intercept can be interpreted as the expected value of a target variable when all the features are equal to their averages.\n",
    "\n",
    "For the next exercise you will scale your features using \n",
    "[`StandardScaler()`](https://scikit-learn.org/stable/modules/generated/sklearn.preprocessing.StandardScaler.html).\n",
    "- Instantiate\n",
    "[`StandardScaler()`](https://scikit-learn.org/stable/modules/generated/sklearn.preprocessing.StandardScaler.html)\n",
    "from\n",
    "[`sklearn.preprocessing`](https://scikit-learn.org/stable/modules/classes.html#module-sklearn.preprocessing).\n",
    "- Fit the scaler to `X_train` and transform it. Save the transformed values into `X_train_scaled`.\n",
    "- Transform the `X_test` data with the fitted scaler and save the transformed values into `X_test_scaled`."
   ]
  },
  {
   "cell_type": "code",
   "execution_count": 0,
   "metadata": {
    "application/vnd.databricks.v1+cell": {
     "cellMetadata": {
      "byteLimit": 2048000,
      "rowLimit": 10000
     },
     "inputWidgets": {},
     "nuid": "0e3b23ef-6ac8-497a-a29b-9b5efbdf9292",
     "showTitle": false,
     "title": ""
    }
   },
   "outputs": [],
   "source": [
    "# Task 12: Scaling\n",
    "\n",
    "scaler = StandardScaler()\n",
    "X_train_scaled = scaler.fit_transform(X_train)\n",
    "X_test_scaled = scaler.transform(X_test)"
   ]
  },
  {
   "cell_type": "markdown",
   "metadata": {
    "application/vnd.databricks.v1+cell": {
     "cellMetadata": {},
     "inputWidgets": {},
     "nuid": "18d95f4b-be91-4d7f-bb11-554ca9cb15f8",
     "showTitle": false,
     "title": ""
    }
   },
   "source": [
    "If you scaled properly you will see in the boxplot chart on the right that the distribution of the variables are concentrated around zero and that the variance is similar for all the variables."
   ]
  },
  {
   "cell_type": "code",
   "execution_count": 0,
   "metadata": {
    "application/vnd.databricks.v1+cell": {
     "cellMetadata": {
      "byteLimit": 2048000,
      "rowLimit": 10000
     },
     "inputWidgets": {},
     "nuid": "35d62e99-92f4-4aae-92d5-9942927f1d8e",
     "showTitle": false,
     "title": ""
    }
   },
   "outputs": [],
   "source": [
    "plt.subplot(1,2,1)\n",
    "plt.title('Boxplots for original features')\n",
    "sns.boxplot(data=X_train)\n",
    "plt.subplot(1,2,2)\n",
    "plt.title('Boxplots for scaled features')\n",
    "sns.boxplot(data=X_train_scaled);"
   ]
  },
  {
   "cell_type": "markdown",
   "metadata": {
    "application/vnd.databricks.v1+cell": {
     "cellMetadata": {},
     "inputWidgets": {},
     "nuid": "0d83527e-e1d3-422c-8824-be497c22ccc5",
     "showTitle": false,
     "title": ""
    }
   },
   "source": [
    "### Exercise\n",
    "\n",
    "- Fit a linear regression model to `X_train_scaled`, `y_train`.\n",
    "- Return the value for the intercept.\n",
    "- Return the values for the coefficients and save them to the variable `model_coef`."
   ]
  },
  {
   "cell_type": "code",
   "execution_count": 0,
   "metadata": {
    "application/vnd.databricks.v1+cell": {
     "cellMetadata": {
      "byteLimit": 2048000,
      "rowLimit": 10000
     },
     "inputWidgets": {},
     "nuid": "2cf5947d-1293-4dcf-8977-c85bcc975d87",
     "showTitle": false,
     "title": ""
    }
   },
   "outputs": [],
   "source": [
    "# Task 13: Fit a linear regression, return values and save them to the variable model_coef\n",
    "\n",
    "model = LinearRegression()\n",
    "model.fit(X_train_scaled, y_train)\n",
    "print(f\"intercept: {model.intercept_}\")\n",
    "model_coef = model.coef_"
   ]
  },
  {
   "cell_type": "code",
   "execution_count": 0,
   "metadata": {
    "application/vnd.databricks.v1+cell": {
     "cellMetadata": {
      "byteLimit": 2048000,
      "rowLimit": 10000
     },
     "inputWidgets": {},
     "nuid": "477438fe-3364-4b2f-b2f6-d81f88b59ba2",
     "showTitle": false,
     "title": ""
    }
   },
   "outputs": [],
   "source": [
    "df_coefs = pd.DataFrame(model.coef_.T, index = X_train.columns, columns=[\"Coefficient\"]) \\\n",
    "            .sort_values(\"Coefficient\") \\\n",
    "            .T\n",
    "display(df_coefs)"
   ]
  },
  {
   "cell_type": "markdown",
   "metadata": {
    "application/vnd.databricks.v1+cell": {
     "cellMetadata": {},
     "inputWidgets": {},
     "nuid": "1597f8e6-76bc-4ac3-8886-8c6b437eb883",
     "showTitle": false,
     "title": ""
    }
   },
   "source": [
    "After applying\n",
    "[`StandardScaler()`](https://scikit-learn.org/stable/modules/generated/sklearn.preprocessing.StandardScaler.html)\n",
    "it is easier to compare coefficients with each other as the features all have the same scale.\n",
    "In our example the positive effect of the 'RM' variable on the output is a little bit smaller than the negative effect of the 'LSTAT' variable.\n",
    "In that vein, we can order the coefficients by their absolute magnitudes to understand the influence of the variables on the result. \n",
    "\n",
    "We could then try to fit the model with the variables that have the highest coefficient values in absolute terms.\n",
    "\n",
    "**Note**: One advantage of not scaling the features in a linear regression model is the\n",
    "[interpretability of the model](https://en.wikipedia.org/wiki/Linear_regression#Interpretation).\n",
    "For instance, consider a linear regression model fitted without feature scaling.\n",
    "In this case, each coefficient directly represents the change in the dependent variable for a one-unit increase in the corresponding feature, assuming all other features remain constant.\n",
    "This straightforward interpretation can simplify the explanation of the model’s behavior."
   ]
  },
  {
   "cell_type": "markdown",
   "metadata": {
    "application/vnd.databricks.v1+cell": {
     "cellMetadata": {},
     "inputWidgets": {},
     "nuid": "5ad93cf7-652e-4170-af3c-b9507fdf8431",
     "showTitle": false,
     "title": ""
    }
   },
   "source": [
    "### Exercise \n",
    "\n",
    "- Predict with the fitted model on `X_test_scaled`.\n",
    "- Calculate MSE, RMSE, MASE and R2. Did it change compared to the unscaled version of linear regression?"
   ]
  },
  {
   "cell_type": "code",
   "execution_count": 0,
   "metadata": {
    "application/vnd.databricks.v1+cell": {
     "cellMetadata": {
      "byteLimit": 2048000,
      "rowLimit": 10000
     },
     "inputWidgets": {},
     "nuid": "7d62952d-5f62-489c-a16c-e64f43ae7781",
     "showTitle": false,
     "title": ""
    }
   },
   "outputs": [],
   "source": [
    "# Task 14\n",
    "\n",
    "y_hat = model.predict(X_test_scaled)\n",
    "print(f\"MSE: {np.round(mean_squared_error(y_test, y_hat),1)}\")\n",
    "print(f\"RMSE: {np.round(root_mean_squared_error(y_test, y_hat),1)}\")\n",
    "print(f\"MAE: {np.round(mean_absolute_error(y_test, y_hat),1)}\")\n",
    "print(f\"R2: {np.round(model.score(X_test_scaled, y_test),1)}\") # the same as r2_score(y_test, y_hat)"
   ]
  },
  {
   "cell_type": "markdown",
   "metadata": {
    "application/vnd.databricks.v1+cell": {
     "cellMetadata": {},
     "inputWidgets": {},
     "nuid": "ec6e7bc2-8996-4c89-95d9-6f11bfded29c",
     "showTitle": false,
     "title": ""
    }
   },
   "source": [
    "The scaling **does not have an effect on the performance of the model**. It only helps with interpretability of the coefficients and changes the meaning of the intercept. "
   ]
  },
  {
   "cell_type": "markdown",
   "metadata": {
    "application/vnd.databricks.v1+cell": {
     "cellMetadata": {},
     "inputWidgets": {},
     "nuid": "d8d51588-5b15-4345-9fc6-c5770939ebb5",
     "showTitle": false,
     "title": ""
    }
   },
   "source": [
    "## Result Analysis\n",
    "Now that we have fitted a model on the standardized features and calculated the different scores, we need to analyse these results.\n",
    "\n",
    "### Residuals\n",
    "### Exercise\n",
    "- Calculate residuals by deducting `y_test` from `y_hat`."
   ]
  },
  {
   "cell_type": "code",
   "execution_count": 0,
   "metadata": {
    "application/vnd.databricks.v1+cell": {
     "cellMetadata": {
      "byteLimit": 2048000,
      "rowLimit": 10000
     },
     "inputWidgets": {},
     "nuid": "09e6f33b-6fc6-42bf-ba0c-ba71bc90519f",
     "showTitle": false,
     "title": ""
    }
   },
   "outputs": [],
   "source": [
    "# Task 15: Calculate residuals by deducting y_test from y_hat\n",
    "\n",
    "residuals = y_hat - y_test"
   ]
  },
  {
   "cell_type": "markdown",
   "metadata": {
    "application/vnd.databricks.v1+cell": {
     "cellMetadata": {},
     "inputWidgets": {},
     "nuid": "eaf09d39-77a8-4401-8275-b81af453d25e",
     "showTitle": false,
     "title": ""
    }
   },
   "source": [
    "One of the assumptions of a linear regression is that the **residuals are normally distributed**. \n",
    "\n",
    "From the histogram below it seems that the residuals are almost normally distributed. \n",
    "If this is actually the case can be tested with e.g. the\n",
    "[Kolmogorov-Smironov test](https://en.wikipedia.org/wiki/Kolmogorov%E2%80%93Smirnov_test)\n",
    "or the\n",
    "[Shapiro-Wilk test](https://en.wikipedia.org/wiki/Shapiro%E2%80%93Wilk_test).\n",
    "It is also possible to draw a quantile-quantile plot.\n",
    "We could investigate outliers to check if they impact the residuals. "
   ]
  },
  {
   "cell_type": "code",
   "execution_count": 0,
   "metadata": {
    "application/vnd.databricks.v1+cell": {
     "cellMetadata": {
      "byteLimit": 2048000,
      "rowLimit": 10000
     },
     "inputWidgets": {},
     "nuid": "65f63645-755e-40aa-a291-dced98e7ca0c",
     "showTitle": false,
     "title": ""
    }
   },
   "outputs": [],
   "source": [
    "plt.subplot(1,2,1)\n",
    "plt.scatter(y_test, residuals)\n",
    "plt.ylabel(\"residuals\")\n",
    "plt.xlabel(\"y_test\")\n",
    "plt.title(\"Residuals against true values\")\n",
    "\n",
    "plt.subplot(1,2,2)\n",
    "plt.hist(residuals)\n",
    "plt.xlabel(\"residuals\")\n",
    "plt.ylabel(\"frequency\")\n",
    "plt.title(\"Residuals histogram\")\n",
    "plt.show();"
   ]
  },
  {
   "cell_type": "markdown",
   "metadata": {
    "application/vnd.databricks.v1+cell": {
     "cellMetadata": {},
     "inputWidgets": {},
     "nuid": "7e424df7-856f-4521-a47d-bebacb06e70b",
     "showTitle": false,
     "title": ""
    }
   },
   "source": [
    "### Exercise – The Dependent Variable\n",
    "\n",
    "The lower long tail on the histogram might be also due to the distribution of the dependent variable y. When doing exploratory data analysis we should look only at the train set so that we do not detect patterns from the test set. The test set is set aside and is used only for evaluation.\n",
    "\n",
    "- Create a boxplot of `y_train`.\n",
    "- Plot a histogram of `y_train`."
   ]
  },
  {
   "cell_type": "code",
   "execution_count": 0,
   "metadata": {
    "application/vnd.databricks.v1+cell": {
     "cellMetadata": {
      "byteLimit": 2048000,
      "rowLimit": 10000
     },
     "inputWidgets": {},
     "nuid": "0b101c08-01ac-4afb-b5ce-27e87443e0a1",
     "showTitle": false,
     "title": ""
    }
   },
   "outputs": [],
   "source": [
    "# Task 16 - create a boxplot\n",
    "plt.title('y_train boxplot')\n",
    "plt.boxplot(y_train);"
   ]
  },
  {
   "cell_type": "markdown",
   "metadata": {
    "application/vnd.databricks.v1+cell": {
     "cellMetadata": {},
     "inputWidgets": {},
     "nuid": "30c92e77-438a-45fa-a400-4045514ab5cc",
     "showTitle": false,
     "title": ""
    }
   },
   "source": [
    "It seems that there are some outliers on the upper part. This is expected as there can be some very expensive houses.  "
   ]
  },
  {
   "cell_type": "code",
   "execution_count": 0,
   "metadata": {
    "application/vnd.databricks.v1+cell": {
     "cellMetadata": {
      "byteLimit": 2048000,
      "rowLimit": 10000
     },
     "inputWidgets": {},
     "nuid": "7fa636db-b287-4426-9f02-674e9223fb66",
     "showTitle": false,
     "title": ""
    }
   },
   "outputs": [],
   "source": [
    "# Task 17 - create a histogram\n",
    "plt.title('y_train histogram')\n",
    "plt.hist(y_train);"
   ]
  },
  {
   "cell_type": "markdown",
   "metadata": {
    "application/vnd.databricks.v1+cell": {
     "cellMetadata": {},
     "inputWidgets": {},
     "nuid": "9dde987e-4580-493a-b0a4-61c6b1ce24ee",
     "showTitle": false,
     "title": ""
    }
   },
   "source": [
    "The distribution of the target variable seems to be rather bimodal. Linear regression does not perform the best for such distributions. However, if we did not take into consideration the outliers, the distribution would be closer to a normal distribution. However, are they really outliers? \n",
    "So the question is if we should **transform the dependent variable**. We could also consider creating two separate linear models, one for the usual values and one for the values on the upper end. "
   ]
  },
  {
   "cell_type": "markdown",
   "metadata": {
    "application/vnd.databricks.v1+cell": {
     "cellMetadata": {},
     "inputWidgets": {},
     "nuid": "e7665de1-4c57-47ee-8c71-c6e3fab2044f",
     "showTitle": false,
     "title": ""
    }
   },
   "source": [
    "### Exercise – Outliers\n",
    "\n",
    "Might the skewness of the residuals be due to the outliers in the explanatory features?\n",
    "\n",
    "- Draw a boxplot for `X_train`. You can use for example a boxplot from the seaborn library."
   ]
  },
  {
   "cell_type": "code",
   "execution_count": 0,
   "metadata": {
    "application/vnd.databricks.v1+cell": {
     "cellMetadata": {
      "byteLimit": 2048000,
      "rowLimit": 10000
     },
     "inputWidgets": {},
     "nuid": "47452dab-4102-429a-a46d-648d25c20a4d",
     "showTitle": false,
     "title": ""
    }
   },
   "outputs": [],
   "source": [
    "# Task 18\n",
    "\n",
    "sns.boxplot(data=X_train);"
   ]
  },
  {
   "cell_type": "markdown",
   "metadata": {
    "application/vnd.databricks.v1+cell": {
     "cellMetadata": {},
     "inputWidgets": {},
     "nuid": "6d5c8c75-4f0f-4ce7-a751-c55aac705784",
     "showTitle": false,
     "title": ""
    }
   },
   "source": [
    "There seem to be quite some outliers, e.g. in CRIM, ZN and PTRATIO B. These outliers should be treated."
   ]
  },
  {
   "cell_type": "markdown",
   "metadata": {
    "application/vnd.databricks.v1+cell": {
     "cellMetadata": {},
     "inputWidgets": {},
     "nuid": "c8a10ce0-841f-4686-9ed3-3da2fa95d3c9",
     "showTitle": false,
     "title": ""
    }
   },
   "source": [
    "### Exercise – Multicollinearity\n",
    "\n",
    "Correlated features might cause the model to be quite unstable. \n",
    "\n",
    "- Calculate the correlations between all the variables with the\n",
    "[`corr()`](https://pandas.pydata.org/pandas-docs/stable/reference/api/pandas.DataFrame.corr.html)\n",
    "method called on `X_train`. Save the output into variable `corr`."
   ]
  },
  {
   "cell_type": "code",
   "execution_count": 0,
   "metadata": {
    "application/vnd.databricks.v1+cell": {
     "cellMetadata": {
      "byteLimit": 2048000,
      "rowLimit": 10000
     },
     "inputWidgets": {},
     "nuid": "267c4e8a-3422-412f-8a61-e4332e05a6f0",
     "showTitle": false,
     "title": ""
    }
   },
   "outputs": [],
   "source": [
    "# Task 19\n",
    "\n",
    "corr = X_train.corr()\n",
    "corr"
   ]
  },
  {
   "cell_type": "markdown",
   "metadata": {
    "application/vnd.databricks.v1+cell": {
     "cellMetadata": {},
     "inputWidgets": {},
     "nuid": "9a86e35f-7ea4-408b-9a7a-ac6da4933e5b",
     "showTitle": false,
     "title": ""
    }
   },
   "source": [
    "Below you can see correlations of the variables between each other on the left chart. Right chart shows absolute values of correlations. "
   ]
  },
  {
   "cell_type": "code",
   "execution_count": 0,
   "metadata": {
    "application/vnd.databricks.v1+cell": {
     "cellMetadata": {
      "byteLimit": 2048000,
      "rowLimit": 10000
     },
     "inputWidgets": {},
     "nuid": "134242af-0be0-472b-bf02-f9df2f5d4d24",
     "showTitle": false,
     "title": ""
    }
   },
   "outputs": [],
   "source": [
    "# charts for correlation\n",
    "plt.subplot(1,2,1)\n",
    "plt.title('Correlations')\n",
    "mask = np.triu(np.ones_like(corr, dtype=bool))\n",
    "sns.heatmap(corr, mask = mask, annot=True, cmap='Reds');\n",
    "\n",
    "plt.title('Absolute value of correlations')\n",
    "plt.subplot(1,2,2)\n",
    "corr_abs = corr.abs()\n",
    "sns.heatmap(corr_abs, mask = mask, annot=True, cmap='Reds');"
   ]
  },
  {
   "cell_type": "markdown",
   "metadata": {
    "application/vnd.databricks.v1+cell": {
     "cellMetadata": {},
     "inputWidgets": {},
     "nuid": "481037c9-a773-4dfd-9c03-6059c0ffe84d",
     "showTitle": false,
     "title": ""
    }
   },
   "source": [
    "There is a strong correlation between some features, e.g. TAX and RAD, DIS and NOX, DIS and INUDS, DIS and AGE, LSTAT and RM. **Highly correlated features in linear models can cause instability of the model**. Thus it should be tested how the models perform if we remove such features. Usually one of the features with a correlation higher than some threshold is removed from the feature set. "
   ]
  },
  {
   "cell_type": "markdown",
   "metadata": {
    "application/vnd.databricks.v1+cell": {
     "cellMetadata": {},
     "inputWidgets": {},
     "nuid": "48ed982f-3508-43ae-bf4d-f15302eb0d06",
     "showTitle": false,
     "title": ""
    }
   },
   "source": [
    "### Linearity – Exercise\n",
    "\n",
    "Since we work with a linear model, there should be a linear relationship between X and y. Let's do some simple checks. \n",
    "\n",
    "- Compute the correlation between `X_train` and `y_train`. Hint: you can [concatenate](https://pandas.pydata.org/pandas-docs/stable/reference/api/pandas.concat.html) `X_train` and `y_train` first on `axis=1` and calculate the correlation on the concatenated data frame."
   ]
  },
  {
   "cell_type": "code",
   "execution_count": 0,
   "metadata": {
    "application/vnd.databricks.v1+cell": {
     "cellMetadata": {
      "byteLimit": 2048000,
      "rowLimit": 10000
     },
     "inputWidgets": {},
     "nuid": "0416e8f1-cc8e-4635-acdd-e3b9b27178eb",
     "showTitle": false,
     "title": ""
    }
   },
   "outputs": [],
   "source": [
    "# Task 20\n",
    "\n",
    "data_train = pd.concat([X_train,y_train], axis=1)\n",
    "data_train.corr()['target'].sort_values(ascending=False)"
   ]
  },
  {
   "cell_type": "markdown",
   "metadata": {
    "application/vnd.databricks.v1+cell": {
     "cellMetadata": {},
     "inputWidgets": {},
     "nuid": "8725df77-42bb-4b28-9b2f-4bfe4d6b41b4",
     "showTitle": false,
     "title": ""
    }
   },
   "source": [
    "### Exercise\n",
    "\n",
    "There is a strong negative correlation between the target variable and the 'LSTAT' feature, as well as a strong positive correlation between the target variable and the 'RM' feature. \n",
    "\n",
    "- Draw a scatter plot showing the dependency between X and y not only for the two most correlated features 'LSTAT' and 'RM' but also for the other features to investigate if there is any pattern."
   ]
  },
  {
   "cell_type": "code",
   "execution_count": 0,
   "metadata": {
    "application/vnd.databricks.v1+cell": {
     "cellMetadata": {
      "byteLimit": 2048000,
      "rowLimit": 10000
     },
     "inputWidgets": {},
     "nuid": "379707ec-a7ed-4958-a8d8-4698aa5b67fc",
     "showTitle": false,
     "title": ""
    }
   },
   "outputs": [],
   "source": [
    "# Task 21\n",
    "\n",
    "data_train = pd.concat([X_train,y_train], axis=1)\n",
    "corr_target = data_train.corr()['target'].abs().sort_values(ascending=False)\n",
    "\n",
    "sns.pairplot(data_train, y_vars = 'target', x_vars=corr_target.index[1:5], height = 10);\n",
    "sns.pairplot(data_train, y_vars = 'target', x_vars=corr_target.index[5:10], height = 10);\n",
    "sns.pairplot(data_train, y_vars = 'target', x_vars=corr_target.index[10:14], height = 10);"
   ]
  },
  {
   "cell_type": "markdown",
   "metadata": {
    "application/vnd.databricks.v1+cell": {
     "cellMetadata": {},
     "inputWidgets": {},
     "nuid": "4fbf4529-aad8-4fd1-8c52-d58189649f3c",
     "showTitle": false,
     "title": ""
    }
   },
   "source": [
    "We already know that there is a strong correlation between the target and the variable 'LSTAT' but the relationship seems to be rather non-linear. We can transform the variable 'LSTAT' for example with a negative logarithm or x-squared function to get a linear relationship between the modified variable and y. \n",
    "\n",
    "The relationship with the second highest correlated feature 'RM' seems to be linear."
   ]
  },
  {
   "cell_type": "markdown",
   "metadata": {
    "application/vnd.databricks.v1+cell": {
     "cellMetadata": {},
     "inputWidgets": {},
     "nuid": "4287e81e-a40f-42c3-9393-e133e3f7ffb7",
     "showTitle": false,
     "title": ""
    }
   },
   "source": [
    "## Model only with the 2 strongest variables \n",
    "### Exercise\n",
    "- Fit the model only with the features 'LSTAT' and 'RM'.\n",
    "- Predict and return the RMSE."
   ]
  },
  {
   "cell_type": "code",
   "execution_count": 0,
   "metadata": {
    "application/vnd.databricks.v1+cell": {
     "cellMetadata": {
      "byteLimit": 2048000,
      "rowLimit": 10000
     },
     "inputWidgets": {},
     "nuid": "557e114d-9829-4eac-8019-ab53719ecac0",
     "showTitle": false,
     "title": ""
    }
   },
   "outputs": [],
   "source": [
    "# Task 22\n",
    "\n",
    "model = LinearRegression()\n",
    "model.fit(X_train[['LSTAT', 'RM']], y_train)\n",
    "y_hat = model.predict(X_test[['LSTAT', 'RM']])\n",
    "rmse = root_mean_squared_error(y_test, y_hat)\n",
    "print(f\"RMSE: {np.round(rmse,1)}\")"
   ]
  },
  {
   "cell_type": "markdown",
   "metadata": {
    "application/vnd.databricks.v1+cell": {
     "cellMetadata": {},
     "inputWidgets": {},
     "nuid": "a10cda37-8f92-4147-9982-ded1cc395645",
     "showTitle": false,
     "title": ""
    }
   },
   "source": [
    "This model has a slightly worse performance than the original model with an RMSE of around 4.7. However, interpretaion of the model with 2 variables is easier and usually the generalization of the simpler model is also better. "
   ]
  },
  {
   "cell_type": "markdown",
   "metadata": {
    "application/vnd.databricks.v1+cell": {
     "cellMetadata": {},
     "inputWidgets": {},
     "nuid": "19d5c620-72f3-45e6-8f83-b2026ad41657",
     "showTitle": false,
     "title": ""
    }
   },
   "source": [
    "## 2nd degree polynomial features\n",
    "\n",
    "We have seen in the scatter plots that there likely is a non-linear relationship between 'LSTAT' and the target variable.\n",
    "It makes sense to test the model with the 2 variables as above but also\n",
    "[adding polynomial features](https://scikit-learn.org/stable/modules/generated/sklearn.preprocessing.PolynomialFeatures.html)\n",
    "of the 2nd degree and an interaction term between the two variables.\n",
    "Run the cell below to see the performance of such a model."
   ]
  },
  {
   "cell_type": "code",
   "execution_count": 0,
   "metadata": {
    "application/vnd.databricks.v1+cell": {
     "cellMetadata": {
      "byteLimit": 2048000,
      "rowLimit": 10000
     },
     "inputWidgets": {},
     "nuid": "5fe5e5b3-7916-41b7-a41c-655bb0d93fd2",
     "showTitle": false,
     "title": ""
    }
   },
   "outputs": [],
   "source": [
    "poly = PolynomialFeatures(2)\n",
    "x_train_poly = poly.fit_transform(X_train[['LSTAT', 'RM']])\n",
    "x_test_poly = poly.transform(X_test[['LSTAT', 'RM']])\n",
    "  \n",
    "model_poly = LinearRegression(fit_intercept=False)\n",
    "model_poly.fit(x_train_poly, y_train)\n",
    "    \n",
    "y_hat = model_poly.predict(x_test_poly)\n",
    "print(f\"RMSE: {root_mean_squared_error(y_test, y_hat)}\")\n",
    "# depending on the version of sklearn, this will cause an error\n",
    "# in that case, replace \"get_feature_names_out\" with \"get_feature_names\"\n",
    "pd.DataFrame(model_poly.coef_, index = [\"Coefficient\"], columns = poly.get_feature_names_out())"
   ]
  },
  {
   "cell_type": "markdown",
   "metadata": {
    "application/vnd.databricks.v1+cell": {
     "cellMetadata": {},
     "inputWidgets": {},
     "nuid": "8ba8cb83-5d13-4ef8-844c-aea6c9cc7b84",
     "showTitle": false,
     "title": ""
    }
   },
   "source": [
    "This model has so far the best performance."
   ]
  },
  {
   "cell_type": "markdown",
   "metadata": {
    "application/vnd.databricks.v1+cell": {
     "cellMetadata": {},
     "inputWidgets": {},
     "nuid": "b5f40c77-6f4f-41a8-83f2-94a0fb4f36d5",
     "showTitle": false,
     "title": ""
    }
   },
   "source": [
    "## Next steps to consider\n",
    "How can we improve our current model even further?\n",
    "\n",
    "- Treatment of the y variable - Should we use two different models? Should we transform y?\n",
    "- Outliers need to be treated.\n",
    "- Feature selection methods.\n",
    "- Removal of correlated features.\n",
    "- Feature engineering.\n",
    "- ..."
   ]
  },
  {
   "cell_type": "markdown",
   "metadata": {
    "application/vnd.databricks.v1+cell": {
     "cellMetadata": {},
     "inputWidgets": {},
     "nuid": "0754ef83-8539-4213-88d5-3fc35eb525cd",
     "showTitle": false,
     "title": ""
    }
   },
   "source": [
    "------------------------------------------------------------------------------------------------------------\n",
    "Material adapted for RBI internal purposes with full permissions from original authors."
   ]
  }
 ],
 "metadata": {
  "application/vnd.databricks.v1+notebook": {
   "dashboards": [],
   "environmentMetadata": null,
   "language": "python",
   "notebookMetadata": {
    "pythonIndentUnit": 4
   },
   "notebookName": "[Answer]1_Linear_Regression_Exercise_jupyter",
   "widgets": {}
  }
 },
 "nbformat": 4,
 "nbformat_minor": 0
}
