{
 "cells": [
  {
   "cell_type": "code",
   "execution_count": 0,
   "metadata": {
    "application/vnd.databricks.v1+cell": {
     "cellMetadata": {
      "byteLimit": 2048000,
      "rowLimit": 10000
     },
     "inputWidgets": {},
     "nuid": "0217a05d-46b4-415a-962d-ad10b6eeacc9",
     "showTitle": false,
     "title": ""
    }
   },
   "outputs": [],
   "source": [
    "import numpy as np\n",
    "import matplotlib.pyplot as plt\n",
    "import pandas as pd\n",
    "import seaborn as sns\n",
    "plt.rcParams[\"figure.figsize\"] = (15,4) # the charts will have a size of width = 15, height = 4\n",
    "\n",
    "\n",
    "from sklearn.metrics import mean_squared_error, mean_absolute_error\n",
    "from sklearn.linear_model import LinearRegression\n",
    "from sklearn.preprocessing import StandardScaler, PolynomialFeatures\n",
    "from sklearn.model_selection import train_test_split\n",
    "from sklearn import datasets\n",
    "\n",
    "#%matplotlib inline"
   ]
  },
  {
   "cell_type": "markdown",
   "metadata": {
    "application/vnd.databricks.v1+cell": {
     "cellMetadata": {},
     "inputWidgets": {},
     "nuid": "7bb4355f-acd5-4da0-8ff1-3379bc1e910b",
     "showTitle": false,
     "title": ""
    }
   },
   "source": [
    "# Linear regression with 1 feature\n",
    "## Generate a dataset for Linear Regression\n",
    "For this lesson we will create an artificial dataset using the\n",
    "[`sklearn.datasets`](https://scikit-learn.org/stable/modules/classes.html#module-sklearn.datasets)\n",
    "module of sklearn. \n",
    "\n",
    "- With the\n",
    "[`make_regression()`](https://scikit-learn.org/stable/modules/generated/sklearn.datasets.make_regression.html) \n",
    "function of\n",
    "[`datasets`](https://scikit-learn.org/stable/modules/classes.html#module-sklearn.datasets)\n",
    "we can generate a synthetical dataset for a regression problem.\n",
    "- Here we generate 100 observations with 1 explanatory variable and a standard deviation for the gaussian noise of 40.\n",
    "- If you want to read the documentation you can always **run the function name with a questionmark before the name** like in the cell below. This will open the documentation directly in jupyter notebok. You can also read the documentation on the internet, e.g. https://scikit-learn.org/stable/modules/generated/sklearn.datasets.make_regression.html"
   ]
  },
  {
   "cell_type": "code",
   "execution_count": 0,
   "metadata": {
    "application/vnd.databricks.v1+cell": {
     "cellMetadata": {
      "byteLimit": 2048000,
      "rowLimit": 10000
     },
     "inputWidgets": {},
     "nuid": "2ec94602-e446-40af-9120-112a1a670a33",
     "showTitle": false,
     "title": ""
    }
   },
   "outputs": [],
   "source": [
    "?datasets.make_regression"
   ]
  },
  {
   "cell_type": "code",
   "execution_count": 0,
   "metadata": {
    "application/vnd.databricks.v1+cell": {
     "cellMetadata": {
      "byteLimit": 2048000,
      "rowLimit": 10000
     },
     "inputWidgets": {},
     "nuid": "cc6c864c-6834-4773-8e38-2630050aceed",
     "showTitle": false,
     "title": ""
    }
   },
   "outputs": [],
   "source": [
    "x, y, coeff = datasets.make_regression(n_samples = 100, \n",
    "                                       n_features = 1,\n",
    "                                       noise = 40,\n",
    "                                       coef = True,\n",
    "                                       bias = 50,\n",
    "                                       random_state = 42)\n",
    "\n",
    "# Funny Note\n",
    "# if you have read Hitchiker's Guide to the Galaxy then\n",
    "# you know that 42 is the universal answer to life, the universe and everything\n",
    "# https://www.quora.com/Why-do-we-choose-random-state-as-42-very-often-during-training-a-machine-learning-model"
   ]
  },
  {
   "cell_type": "markdown",
   "metadata": {
    "application/vnd.databricks.v1+cell": {
     "cellMetadata": {},
     "inputWidgets": {},
     "nuid": "e2275436-62c2-429d-9305-879a16df238f",
     "showTitle": false,
     "title": ""
    }
   },
   "source": [
    "We can plot x against y to see what the data look like."
   ]
  },
  {
   "cell_type": "code",
   "execution_count": 0,
   "metadata": {
    "application/vnd.databricks.v1+cell": {
     "cellMetadata": {
      "byteLimit": 2048000,
      "rowLimit": 10000
     },
     "inputWidgets": {},
     "nuid": "5f879f3a-c848-4f81-8326-0dd798be7f57",
     "showTitle": false,
     "title": ""
    }
   },
   "outputs": [],
   "source": [
    "#plt.figure(figsize=(15,4))\n",
    "plt.scatter(x,y)\n",
    "plt.title('Data')\n",
    "plt.show()"
   ]
  },
  {
   "cell_type": "markdown",
   "metadata": {
    "application/vnd.databricks.v1+cell": {
     "cellMetadata": {},
     "inputWidgets": {},
     "nuid": "24d192b3-90b9-4230-b7da-1b532550034f",
     "showTitle": false,
     "title": ""
    }
   },
   "source": [
    "Run the user defined function below which plots the observations and a line, and calculates the RMSE. You will use this function in the exercises!\n",
    "It takes as inputs x and y, the intercept value and a coefficient value."
   ]
  },
  {
   "cell_type": "code",
   "execution_count": 0,
   "metadata": {
    "application/vnd.databricks.v1+cell": {
     "cellMetadata": {},
     "inputWidgets": {},
     "nuid": "627812cd-93b6-43f1-b1bd-f2cc088d016f",
     "showTitle": false,
     "title": ""
    }
   },
   "outputs": [],
   "source": [
    "def plot_regression(x, y, bias, coeff):\n",
    "    \"\"\"\n",
    "    The function plots a scatterpot of x, y and a line with bias and coefficient. It also calculates the RMSE.\n",
    "    ---------------\n",
    "    params:\n",
    "    - x: points on the x-axis\n",
    "    - y: points on the y-axis\n",
    "    - bias: intercept of the line\n",
    "    - coeff: slope of the line\n",
    "     \"\"\"\n",
    "    y_hat = bias + x * coeff # predictions of x can be calculated easily \n",
    "                             # by multiplying the features with coefficients\n",
    "    print(f'MSE2 : {round(mean_squared_error(y,y_hat),1)}') \n",
    "    print(f'RMSE2 : {round(mean_squared_error(y,y_hat,squared=False),1)}')\n",
    "\n",
    "    # chart\n",
    "    fig, ax = plt.subplots()\n",
    "\n",
    "    ax.set_title('Observations with regression line')\n",
    "    ax.scatter(x,y) # scatter\n",
    "    ax.axline((0, bias), slope=coeff, ls='--', c='r') # line"
   ]
  },
  {
   "cell_type": "markdown",
   "metadata": {
    "application/vnd.databricks.v1+cell": {
     "cellMetadata": {},
     "inputWidgets": {},
     "nuid": "de5e2520-a79d-4724-883d-1aba9954e996",
     "showTitle": false,
     "title": ""
    }
   },
   "source": [
    "### Exercise \n",
    "We want to fit a model that looks like this: \n",
    "$$\\widehat{y} = \\beta_0 + \\beta_1 x_1 ,$$ \n",
    "where \\\\(\\beta_0\\\\) is a bias term and \\\\(\\beta_1\\\\) is the slope of the line.\n",
    "\n",
    "Use our user-defined function `plot_regression()` and try different values of bias and coeff of the regression line. Observe the change in the values of the cost function and the behavior of the line with the change of the parameters. \n",
    "- What does a line look like if the coeff is positive, negative or zero?\n",
    "- What is the influence of the bias term on the line?\n",
    "- Can you guess a suitable set of parameters? \n",
    "- What are the units of the MSE and RMSE in relation to dependent variable y? Which one is more intuitive to use for interpretation?"
   ]
  },
  {
   "cell_type": "code",
   "execution_count": 0,
   "metadata": {
    "application/vnd.databricks.v1+cell": {
     "cellMetadata": {},
     "inputWidgets": {},
     "nuid": "af8461d1-4418-4536-bb88-41bf680a6b06",
     "showTitle": false,
     "title": ""
    }
   },
   "outputs": [],
   "source": [
    "# Task 1: Try different values of bias and coeffs\n",
    "\n",
    "# plot_regression(x, y, bias=..., coeff=...)"
   ]
  },
  {
   "cell_type": "markdown",
   "metadata": {
    "application/vnd.databricks.v1+cell": {
     "cellMetadata": {},
     "inputWidgets": {},
     "nuid": "2f1c1e93-ba41-42f0-8bb4-4006ffa84248",
     "showTitle": false,
     "title": ""
    }
   },
   "source": [
    "## Normal Equation\n",
    "\n",
    "The function `normal_eq()`  computes \\\\(\\widehat{\\beta}= (X^T X)^{-1} X^T y \\\\). It takes as input X and y and returns optimal values for the bias (intercept) term and the coefficient (slope)."
   ]
  },
  {
   "cell_type": "code",
   "execution_count": 0,
   "metadata": {
    "application/vnd.databricks.v1+cell": {
     "cellMetadata": {},
     "inputWidgets": {},
     "nuid": "f2cd497e-16be-4fbb-b3be-4677242cb27f",
     "showTitle": false,
     "title": ""
    }
   },
   "outputs": [],
   "source": [
    "def normal_eq(x,y): \n",
    "    \"\"\"\n",
    "    The function analytically computes the optimal set of coefficients given x and y. \n",
    "    A vector of ones is appended as the first vector of matrix x to take into account the bias term. \n",
    "    ---------------\n",
    "    params:\n",
    "    - x: input features matrix\n",
    "    - y: target variable\n",
    "    returns: \n",
    "    - beta_hat: optimal set of coefficients for linear regression\n",
    "    \"\"\"\n",
    "    X = np.c_[np.ones(len(x)),x]\n",
    "    beta_hat = np.linalg.inv(X.T.dot(X)).dot(X.T).dot(y)\n",
    "    print(f\"Optimal set of coefficients: {beta_hat}\")\n",
    "    return(beta_hat)"
   ]
  },
  {
   "cell_type": "markdown",
   "metadata": {
    "application/vnd.databricks.v1+cell": {
     "cellMetadata": {},
     "inputWidgets": {},
     "nuid": "1ebe957a-3f82-4d94-b2c9-3454ae23eb03",
     "showTitle": false,
     "title": ""
    }
   },
   "source": [
    "### Exercise\n",
    "\n",
    "- Use our user-defined function `normal_eq()` on the input features x and the output vector y.\n",
    "- Use the returned values of the bias and coef in the `plot_regression()` function.\n",
    "\n",
    "Was your guess for the bias and coeff value from the previous exercise close enough?"
   ]
  },
  {
   "cell_type": "code",
   "execution_count": 0,
   "metadata": {
    "application/vnd.databricks.v1+cell": {
     "cellMetadata": {},
     "inputWidgets": {},
     "nuid": "d84752d6-48a0-4449-919b-a8b8c2eeb0bc",
     "showTitle": false,
     "title": ""
    }
   },
   "outputs": [],
   "source": [
    "# Task 2: use normal_eq() and find coeffs\n",
    "\n",
    "#..., ... = normal_eq(x, y) \n",
    "#plot_regression(..., ..., ..., ...)"
   ]
  },
  {
   "cell_type": "markdown",
   "metadata": {
    "application/vnd.databricks.v1+cell": {
     "cellMetadata": {},
     "inputWidgets": {},
     "nuid": "1e78a91e-22f2-4a74-bb35-7116a74fc424",
     "showTitle": false,
     "title": ""
    }
   },
   "source": [
    "## Sklearn Linear Regression\n",
    "\n",
    "Here we explore the linear regression from scikit learn for the first time. Help yourself with [examples from the documentation](https://scikit-learn.org/stable/modules/generated/sklearn.linear_model.LinearRegression.html) if needed: \n",
    "\n",
    "### Exercise\n",
    "- Use\n",
    "[`LinearRegression()`](https://scikit-learn.org/stable/modules/generated/sklearn.linear_model.LinearRegression.html)\n",
    "from\n",
    "[`sklearn.linear_model`](https://scikit-learn.org/stable/modules/classes.html#module-sklearn.linear_model)\n",
    "to fit the linear regression model on x, y.\n",
    "Look at the examples section in the documentation if you need help.\n",
    "- Return the coefficients for slope and intercept of the regression line.\n",
    "You can find them in the attributes section of the documentation.\n",
    "Store the values in the variables `lr_coef` and `lr_intercept`.\n",
    "Are these values the same as the ones from the normal equation?"
   ]
  },
  {
   "cell_type": "code",
   "execution_count": 0,
   "metadata": {
    "application/vnd.databricks.v1+cell": {
     "cellMetadata": {},
     "inputWidgets": {},
     "nuid": "427836c6-6f6c-4cf9-88e8-d6c15aecad71",
     "showTitle": false,
     "title": ""
    }
   },
   "outputs": [],
   "source": [
    "# Task 3: implement linear regression\n",
    "\n",
    "lr = ...\n",
    "lr.fit(..., ...)\n",
    "lr_coef, lr_intercept = lr...., lr....\n",
    "print(f'Slope: {lr_coef}\\nBias: {lr_intercept}')"
   ]
  },
  {
   "cell_type": "markdown",
   "metadata": {
    "application/vnd.databricks.v1+cell": {
     "cellMetadata": {},
     "inputWidgets": {},
     "nuid": "4ddb5885-12d1-4df9-a887-e03792d32a36",
     "showTitle": false,
     "title": ""
    }
   },
   "source": [
    "- Next, predict the value of the new observation. If needed use the [documentation](https://scikit-learn.org/stable/modules/generated/sklearn.linear_model.LinearRegression.html) for some examples."
   ]
  },
  {
   "cell_type": "code",
   "execution_count": 0,
   "metadata": {
    "application/vnd.databricks.v1+cell": {
     "cellMetadata": {},
     "inputWidgets": {},
     "nuid": "e10f6c7e-7d93-405c-80e5-0f9b3d91c515",
     "showTitle": false,
     "title": ""
    }
   },
   "outputs": [],
   "source": [
    "# Task 4: predict the value of new observations\n",
    "\n",
    "x_new = [[1.5], [0]]\n",
    "lr.predict(...)"
   ]
  },
  {
   "cell_type": "markdown",
   "metadata": {
    "application/vnd.databricks.v1+cell": {
     "cellMetadata": {},
     "inputWidgets": {},
     "nuid": "b5ba9ff8-5fec-4fbd-9bf5-cc247661c1ef",
     "showTitle": false,
     "title": ""
    }
   },
   "source": [
    "- Lastly, return the score of the model on x and y. You can read more about the score in the [documentation](https://scikit-learn.org/stable/modules/generated/sklearn.linear_model.LinearRegression.html#sklearn.linear_model.LinearRegression.score). The best value is 1. Usually it is between 0 and 1 but it can be also negative. The score is the [R-squared metric](https://en.wikipedia.org/wiki/Coefficient_of_determination) that can be used for the evaluation of the model."
   ]
  },
  {
   "cell_type": "code",
   "execution_count": 0,
   "metadata": {
    "application/vnd.databricks.v1+cell": {
     "cellMetadata": {
      "byteLimit": 2048000,
      "rowLimit": 10000
     },
     "inputWidgets": {},
     "nuid": "21b4ac21-ebc7-4233-801c-9fc25ba36377",
     "showTitle": false,
     "title": ""
    }
   },
   "outputs": [],
   "source": [
    "# Task 5: return the score\n"
   ]
  },
  {
   "cell_type": "markdown",
   "metadata": {
    "application/vnd.databricks.v1+cell": {
     "cellMetadata": {},
     "inputWidgets": {},
     "nuid": "dc7cf294-f6a1-4403-afb7-2e1501c87f11",
     "showTitle": false,
     "title": ""
    }
   },
   "source": [
    "## Outliers\n",
    "\n",
    "We will now add outliers to our dataset and save them under the names x2 and y2."
   ]
  },
  {
   "cell_type": "code",
   "execution_count": 0,
   "metadata": {
    "application/vnd.databricks.v1+cell": {
     "cellMetadata": {},
     "inputWidgets": {},
     "nuid": "916f13be-ef9f-4dbf-a5a6-b780f379ca67",
     "showTitle": false,
     "title": ""
    }
   },
   "outputs": [],
   "source": [
    "x2 = np.append(x,[np.min(x)-0.1, np.min(x), np.min(x)-0.15]).reshape([-1,1])\n",
    "y2 = np.append(y, [-400,-300,-350]).reshape([-1,1])"
   ]
  },
  {
   "cell_type": "markdown",
   "metadata": {
    "application/vnd.databricks.v1+cell": {
     "cellMetadata": {},
     "inputWidgets": {},
     "nuid": "088ef1ae-7dcf-4e95-9f32-b564dc09c505",
     "showTitle": false,
     "title": ""
    }
   },
   "source": [
    "### Exercise\n",
    "\n",
    "Fit the linear regression to x2, y2 and store the bias in the variable `lr_outlier_intercept` and the slope in the variable `lr_outlier_coef`."
   ]
  },
  {
   "cell_type": "code",
   "execution_count": 0,
   "metadata": {
    "application/vnd.databricks.v1+cell": {
     "cellMetadata": {},
     "inputWidgets": {},
     "nuid": "6af39e0f-d28b-4cd4-9844-00f0a418d7fa",
     "showTitle": false,
     "title": ""
    }
   },
   "outputs": [],
   "source": [
    "# Task 6: Fit linear regression\n"
   ]
  },
  {
   "cell_type": "markdown",
   "metadata": {
    "application/vnd.databricks.v1+cell": {
     "cellMetadata": {},
     "inputWidgets": {},
     "nuid": "bc18ad36-6efe-41f2-bed8-266a5b284db6",
     "showTitle": false,
     "title": ""
    }
   },
   "source": [
    "You can observe on the chart how outliers influence the regression line. Outlier treatment should be one of the first steps done before fitting a linear regression model, otherwise the results can be biased."
   ]
  },
  {
   "cell_type": "code",
   "execution_count": 0,
   "metadata": {
    "application/vnd.databricks.v1+cell": {
     "cellMetadata": {},
     "inputWidgets": {},
     "nuid": "a08d4e46-e946-4ea3-aba3-9d092a1b8600",
     "showTitle": false,
     "title": ""
    }
   },
   "outputs": [],
   "source": [
    "fig, ax = plt.subplots()\n",
    "\n",
    "ax.scatter(x2, y2)\n",
    "ax.axline((0, lr_intercept), slope=lr_coef, ls='--', c=\"r\", label='original regression line')\n",
    "ax.axline((0, lr_outlier_intercept[0]), slope=lr_outlier_coef, ls='--', c='b', label='regression line with outliers')\n",
    "\n",
    "ax.legend();"
   ]
  },
  {
   "cell_type": "markdown",
   "metadata": {
    "application/vnd.databricks.v1+cell": {
     "cellMetadata": {},
     "inputWidgets": {},
     "nuid": "87e4a2fa-a6d6-4307-af8e-da0d8b0595f4",
     "showTitle": false,
     "title": ""
    }
   },
   "source": [
    "# Multiple Linear Regression"
   ]
  },
  {
   "cell_type": "markdown",
   "metadata": {
    "application/vnd.databricks.v1+cell": {
     "cellMetadata": {},
     "inputWidgets": {},
     "nuid": "41e39b94-d2b4-440e-8cf7-b2419043e440",
     "showTitle": false,
     "title": ""
    }
   },
   "source": [
    "## Load Dataset\n",
    "\n",
    "Load sklearn's inbuilt dataset for regression. If you want you can read the description of the dataset [here](http://lib.stat.cmu.edu/datasets/boston). It has 13 attributes that can be used for predicting house prices. "
   ]
  },
  {
   "cell_type": "code",
   "execution_count": 0,
   "metadata": {
    "application/vnd.databricks.v1+cell": {
     "cellMetadata": {},
     "inputWidgets": {},
     "nuid": "da6dd18a-1e7e-4d9e-8cb9-90ab991350e9",
     "showTitle": false,
     "title": ""
    }
   },
   "outputs": [],
   "source": [
    "raw_df = pd.read_csv('../../../Data/Boston.csv')\n",
    "\n",
    "y = pd.DataFrame(raw_df['target'])\n",
    "x = pd.DataFrame(raw_df.iloc[:,1:-1])"
   ]
  },
  {
   "cell_type": "markdown",
   "metadata": {
    "application/vnd.databricks.v1+cell": {
     "cellMetadata": {},
     "inputWidgets": {},
     "nuid": "f305b706-5cca-48ae-b1d8-0fcc4c1cc8f6",
     "showTitle": false,
     "title": ""
    }
   },
   "source": [
    "## Train Test Split\n",
    "\n",
    "### Exercise \n",
    "Use the function [`train_test_split()`](https://scikit-learn.org/stable/modules/generated/sklearn.model_selection.train_test_split.html) to split the training data into training and testing datasets."
   ]
  },
  {
   "cell_type": "code",
   "execution_count": 0,
   "metadata": {
    "application/vnd.databricks.v1+cell": {
     "cellMetadata": {},
     "inputWidgets": {},
     "nuid": "6533eaf7-6544-4813-a16c-8ebba0404068",
     "showTitle": false,
     "title": ""
    }
   },
   "outputs": [],
   "source": [
    "# Task 7: use function train_test_split() to split the training data into training and testing dataset\n",
    "\n",
    "X_train, X_test, y_train, y_test = train_test_split(..., ..., random_state=42)"
   ]
  },
  {
   "cell_type": "markdown",
   "metadata": {
    "application/vnd.databricks.v1+cell": {
     "cellMetadata": {},
     "inputWidgets": {},
     "nuid": "6dc7cd88-add5-41b2-8384-315ce3c44edc",
     "showTitle": false,
     "title": ""
    }
   },
   "source": [
    "## Fit the Model\n",
    "### Exercise\n",
    "- Instantiate the linear regression model.\n",
    "- Fit the model to the training data.\n",
    "- Print the value of the intercept of the model.\n",
    "- Return the values of the coefficients and save them under the variable `model_coef`."
   ]
  },
  {
   "cell_type": "code",
   "execution_count": 0,
   "metadata": {
    "application/vnd.databricks.v1+cell": {
     "cellMetadata": {},
     "inputWidgets": {},
     "nuid": "c5b855d9-bd16-4b4e-9715-206c06167a6b",
     "showTitle": false,
     "title": ""
    }
   },
   "outputs": [],
   "source": [
    "# Task 8: instantiate the model\n",
    "\n",
    "\n",
    "# Task 9: fit the model to x, y\n",
    "\n",
    "\n",
    "print(f\"intercept: {...}\")\n"
   ]
  },
  {
   "cell_type": "markdown",
   "metadata": {
    "application/vnd.databricks.v1+cell": {
     "cellMetadata": {},
     "inputWidgets": {},
     "nuid": "b06ddd73-d1b9-4c4a-9691-3bcdf136a2b9",
     "showTitle": false,
     "title": ""
    }
   },
   "source": [
    "We can interpret whether the given feature influences the prediction negatively or positively based on the sign of the coefficient. Also, if all the other variables are unchanged we can see how this single variable affects the output by changing it by 1 unit."
   ]
  },
  {
   "cell_type": "code",
   "execution_count": 0,
   "metadata": {
    "application/vnd.databricks.v1+cell": {
     "cellMetadata": {},
     "inputWidgets": {},
     "nuid": "0ea98ef5-9c0e-4763-9496-9ec43f8687b7",
     "showTitle": false,
     "title": ""
    }
   },
   "outputs": [],
   "source": [
    "df_coefs = pd.DataFrame(model_coef, index = [\"Coefficient\"], columns=X_train.columns)\n",
    "display(df_coefs)\n",
    "print(f'''For example, if you have an observation where LSTAT is equal to 50 and another one that has a value \n",
    "of LSTAT 51 and all other variables are the same, or if the variable LSTAT is changed for the investigated observation \n",
    "with other variables unchanged the effect on the target would be {np.round(df_coefs['LSTAT'][0],5)}''')"
   ]
  },
  {
   "cell_type": "markdown",
   "metadata": {
    "application/vnd.databricks.v1+cell": {
     "cellMetadata": {},
     "inputWidgets": {},
     "nuid": "b2161dbf-034f-43e4-ba6b-e7fdb9725a1e",
     "showTitle": false,
     "title": ""
    }
   },
   "source": [
    "## Prediction / Model Evaluation\n",
    "### Exercise\n",
    "\n",
    "Predict on `X_test` and store the values in `y_hat`."
   ]
  },
  {
   "cell_type": "code",
   "execution_count": 0,
   "metadata": {
    "application/vnd.databricks.v1+cell": {
     "cellMetadata": {},
     "inputWidgets": {},
     "nuid": "b0813732-a827-4d57-8b5e-6b9274e46e99",
     "showTitle": false,
     "title": ""
    }
   },
   "outputs": [],
   "source": [
    "# Task 10: predict on X_test and store the values into y_hat\n"
   ]
  },
  {
   "cell_type": "markdown",
   "metadata": {
    "application/vnd.databricks.v1+cell": {
     "cellMetadata": {},
     "inputWidgets": {},
     "nuid": "2a299373-3b27-4f85-a68b-734def4a15e6",
     "showTitle": false,
     "title": ""
    }
   },
   "source": [
    "Below is the plot of predictions against real values. Most of the data points lie around a diagonal line. This means that the predictions seem to be in line with the actual values, e.g. if the real value was 20, the prediction is also almost 20."
   ]
  },
  {
   "cell_type": "code",
   "execution_count": 0,
   "metadata": {
    "application/vnd.databricks.v1+cell": {
     "cellMetadata": {},
     "inputWidgets": {},
     "nuid": "80985aba-78a8-4295-b12c-d94dc126e162",
     "showTitle": false,
     "title": ""
    }
   },
   "outputs": [],
   "source": [
    "fig, ax = plt.subplots()\n",
    "\n",
    "ax.scatter(y_hat, y_test)\n",
    "ax.axline((0,0), slope = 1, c=\"b\", lw=0.5)\n",
    "ax.set_xlabel(\"predictions\")\n",
    "ax.set_ylabel(\"true test values\")\n",
    "\n",
    "# Create square plot\n",
    "lims = ax.axis(\"square\")\n",
    "min_lim = min(lims[::2])\n",
    "max_lim = max(lims[1::2])\n",
    "ax.set_xlim(min_lim, max_lim)\n",
    "ax.set_ylim(min_lim, max_lim);"
   ]
  },
  {
   "cell_type": "markdown",
   "metadata": {
    "application/vnd.databricks.v1+cell": {
     "cellMetadata": {},
     "inputWidgets": {},
     "nuid": "3c2f7ef8-e8b8-45e0-9403-ea2dd18c934f",
     "showTitle": false,
     "title": ""
    }
   },
   "source": [
    "### Exercise\n",
    "\n",
    "Let's have a look at some metrics. Compute and save the following metrics on the test set:\n",
    "\n",
    "- [MSE](https://en.wikipedia.org/wiki/Mean_squared_error)\n",
    "(Mean squared error):\n",
    "[`mean_squared_error`](https://scikit-learn.org/stable/modules/generated/sklearn.metrics.mean_squared_error.html)\n",
    "from \n",
    "[`sklearn.metrics`](https://scikit-learn.org/stable/modules/classes.html#sklearn-metrics-metrics)\n",
    "(see ?mean_squared_error)\n",
    "- [RMSE](https://en.wikipedia.org/wiki/Root-mean-square_deviation)\n",
    "(Root mean squared error):\n",
    "    - for\n",
    "    [`scikit-learn`](https://scikit-learn.org/stable/index.html)\n",
    "    version 1.4 and newer:\n",
    "    [`root_mean_squared_error`](https://scikit-learn.org/stable/modules/generated/sklearn.metrics.root_mean_squared_error.html)\n",
    "    from\n",
    "    [`sklearn.metrics`](https://scikit-learn.org/stable/modules/classes.html#sklearn-metrics-metrics)\n",
    "    - for older versions of\n",
    "    [`scikit-learn`](https://scikit-learn.org/stable/index.html):\n",
    "    [`mean_squared_error`](https://scikit-learn.org/stable/modules/generated/sklearn.metrics.mean_squared_error.html)\n",
    "    from\n",
    "    [`sklearn.metrics`](https://scikit-learn.org/stable/modules/classes.html#sklearn-metrics-metrics)\n",
    "    with the parameter `squared` set to `False`\n",
    "- [MAE](https://en.wikipedia.org/wiki/Mean_absolute_error)\n",
    "(Mean absolute error):\n",
    "[`mean_absolute_error`]()\n",
    "from\n",
    "[`sklearn.metrics`](https://scikit-learn.org/stable/modules/classes.html#sklearn-metrics-metrics)\n",
    "(see ?mean_absolute_error)\n",
    "- [R2](https://en.wikipedia.org/wiki/Coefficient_of_determination)\n",
    "(score): this is a method of\n",
    "[`LinearRegression()`]()"
   ]
  },
  {
   "cell_type": "code",
   "execution_count": 0,
   "metadata": {
    "application/vnd.databricks.v1+cell": {
     "cellMetadata": {
      "byteLimit": 2048000,
      "rowLimit": 10000
     },
     "inputWidgets": {},
     "nuid": "faae66b4-966b-4084-9341-c33775e759b5",
     "showTitle": false,
     "title": ""
    }
   },
   "outputs": [],
   "source": [
    "# Check Scikit Learn version number\n",
    "import sklearn\n",
    "print(f\"The currently used version of Scikit-Learn is {sklearn.__version__}.\")"
   ]
  },
  {
   "cell_type": "code",
   "execution_count": 0,
   "metadata": {
    "application/vnd.databricks.v1+cell": {
     "cellMetadata": {},
     "inputWidgets": {},
     "nuid": "d7a02136-44c2-4247-8b1a-3112512a6b10",
     "showTitle": false,
     "title": ""
    }
   },
   "outputs": [],
   "source": [
    "# Task 11: Compute and save the metrics on the test set\n",
    "\n",
    "mse = mean_squared_error(y_test, y_hat)\n",
    "# rmse = root_mean_squared_error(..., ...)\n",
    "rmse = mean_squared_error(..., ..., ...)\n",
    "mae = ...(..., ...)\n",
    "r2 = model.score(..., ...) # the same as r2_score(y_test, y_hat)\n",
    "\n",
    "print(f\"MSE: {np.round(mse, 1)}\")\n",
    "print(f\"RMSE: {np.round(rmse, 1)}\")\n",
    "print(f\"MAE: {np.round(mae, 1)}\")\n",
    "print(f\"R2: {np.round(r2, 1)}\") "
   ]
  },
  {
   "cell_type": "markdown",
   "metadata": {
    "application/vnd.databricks.v1+cell": {
     "cellMetadata": {},
     "inputWidgets": {},
     "nuid": "03d60d32-dc7f-4fdb-8f60-40a79d42145e",
     "showTitle": false,
     "title": ""
    }
   },
   "source": [
    "## Scaling\n",
    "\n",
    "### Exercise\n",
    "If features are not scaled appropriately, the intercept tells you what the expected value for the target variable would be if all the variables were equal to 0. This might be unrealistic for many features such as weight, size of the house, distance to the sea, etc. \n",
    "When features are scaled correctly, the intercept can be interpreted as the expected value of a target variable when all the features are equal to their averages.\n",
    "\n",
    "For the next exercise you will scale your features using \n",
    "[`StandardScaler()`](https://scikit-learn.org/stable/modules/generated/sklearn.preprocessing.StandardScaler.html).\n",
    "- Instantiate\n",
    "[`StandardScaler()`](https://scikit-learn.org/stable/modules/generated/sklearn.preprocessing.StandardScaler.html)\n",
    "from\n",
    "[`sklearn.preprocessing`](https://scikit-learn.org/stable/modules/classes.html#module-sklearn.preprocessing).\n",
    "- Fit the scaler to `X_train` and transform it. Save the transformed values into `X_train_scaled`.\n",
    "- Transform the `X_test` data with the fitted scaler and save the transformed values into `X_test_scaled`."
   ]
  },
  {
   "cell_type": "code",
   "execution_count": 0,
   "metadata": {
    "application/vnd.databricks.v1+cell": {
     "cellMetadata": {},
     "inputWidgets": {},
     "nuid": "123039dc-5a9e-46f9-a3f1-6ba8dd6b809c",
     "showTitle": false,
     "title": ""
    }
   },
   "outputs": [],
   "source": [
    "# Task 12: Scaling\n",
    "\n",
    "scaler = ...\n",
    "X_train_scaled = scaler.fit_transform(...)\n",
    "X_test_scaled = scaler.transform(...)"
   ]
  },
  {
   "cell_type": "markdown",
   "metadata": {
    "application/vnd.databricks.v1+cell": {
     "cellMetadata": {},
     "inputWidgets": {},
     "nuid": "38ab55a8-d09b-4786-aed0-1269aa914eb2",
     "showTitle": false,
     "title": ""
    }
   },
   "source": [
    "If you scaled properly you will see in the boxplot chart on the right that the distribution of the variables are concentrated around zero and that the variance is similar for all the variables."
   ]
  },
  {
   "cell_type": "code",
   "execution_count": 0,
   "metadata": {
    "application/vnd.databricks.v1+cell": {
     "cellMetadata": {},
     "inputWidgets": {},
     "nuid": "a51b3a12-bd09-447f-99d4-b42858e417fa",
     "showTitle": false,
     "title": ""
    }
   },
   "outputs": [],
   "source": [
    "plt.subplot(1,2,1)\n",
    "plt.title('Boxplots for original features')\n",
    "sns.boxplot(data=X_train)\n",
    "plt.subplot(1,2,2)\n",
    "plt.title('Boxplots for scaled features')\n",
    "sns.boxplot(data=X_train_scaled);"
   ]
  },
  {
   "cell_type": "markdown",
   "metadata": {
    "application/vnd.databricks.v1+cell": {
     "cellMetadata": {},
     "inputWidgets": {},
     "nuid": "c42ff5be-c9ea-4a08-9a9c-40b164946e18",
     "showTitle": false,
     "title": ""
    }
   },
   "source": [
    "### Exercise\n",
    "\n",
    "- Fit a linear regression model to `X_train_scaled`, `y_train`.\n",
    "- Return the value for the intercept.\n",
    "- Return the values for the coefficients and save them to the variable `model_coef`."
   ]
  },
  {
   "cell_type": "code",
   "execution_count": 0,
   "metadata": {
    "application/vnd.databricks.v1+cell": {
     "cellMetadata": {},
     "inputWidgets": {},
     "nuid": "b430806a-fe5e-4ed3-8cbe-4f14d22dd8a7",
     "showTitle": false,
     "title": ""
    }
   },
   "outputs": [],
   "source": [
    "# Task 13: Fit a linear regression, return values and save them to the variable model_coef\n",
    "\n",
    "...\n",
    "...\n",
    "print(f\"intercept: {...}\")\n",
    "..."
   ]
  },
  {
   "cell_type": "code",
   "execution_count": 0,
   "metadata": {
    "application/vnd.databricks.v1+cell": {
     "cellMetadata": {},
     "inputWidgets": {},
     "nuid": "e64891f3-274e-49ec-9c4a-70e408bb59b2",
     "showTitle": false,
     "title": ""
    }
   },
   "outputs": [],
   "source": [
    "df_coefs = pd.DataFrame(model.coef_.T, index = X_train.columns, columns=[\"Coefficient\"]) \\\n",
    "            .sort_values(\"Coefficient\") \\\n",
    "            .T\n",
    "display(df_coefs)"
   ]
  },
  {
   "cell_type": "markdown",
   "metadata": {
    "application/vnd.databricks.v1+cell": {
     "cellMetadata": {},
     "inputWidgets": {},
     "nuid": "f3de0326-ed09-4315-944b-c1c5a91b39ac",
     "showTitle": false,
     "title": ""
    }
   },
   "source": [
    "After applying\n",
    "[`StandardScaler()`](https://scikit-learn.org/stable/modules/generated/sklearn.preprocessing.StandardScaler.html)\n",
    "it is easier to compare coefficients with each other as the features all have the same scale.\n",
    "In our example the positive effect of the 'RM' variable on the output is a little bit smaller than the negative effect of the 'LSTAT' variable.\n",
    "In that vein, we can order the coefficients by their absolute magnitudes to understand the influence of the variables on the result. \n",
    "\n",
    "We could then try to fit the model with the variables that have the highest coefficient values in absolute terms.\n",
    "\n",
    "**Note**: One advantage of not scaling the features in a linear regression model is the\n",
    "[interpretability of the model](https://en.wikipedia.org/wiki/Linear_regression#Interpretation).\n",
    "For instance, consider a linear regression model fitted without feature scaling.\n",
    "In this case, each coefficient directly represents the change in the dependent variable for a one-unit increase in the corresponding feature, assuming all other features remain constant.\n",
    "This straightforward interpretation can simplify the explanation of the model’s behavior."
   ]
  },
  {
   "cell_type": "markdown",
   "metadata": {
    "application/vnd.databricks.v1+cell": {
     "cellMetadata": {},
     "inputWidgets": {},
     "nuid": "9c41a7a5-24ae-4ee3-bb43-b7ccb10c5de0",
     "showTitle": false,
     "title": ""
    }
   },
   "source": [
    "### Exercise \n",
    "\n",
    "- Predict with the fitted model on `X_test_scaled`.\n",
    "- Calculate MSE, RMSE, MASE and R2. Did it change compared to the unscaled version of linear regression?"
   ]
  },
  {
   "cell_type": "code",
   "execution_count": 0,
   "metadata": {
    "application/vnd.databricks.v1+cell": {
     "cellMetadata": {},
     "inputWidgets": {},
     "nuid": "d5242a66-d826-4816-9f91-49be802c1a6a",
     "showTitle": false,
     "title": ""
    }
   },
   "outputs": [],
   "source": [
    "# Task 14\n",
    "\n",
    "...\n",
    "mse = ...\n",
    "rmse = ...\n",
    "mae = ...\n",
    "r2_score = ...\n",
    "\n",
    "print(f\"MSE: {np.round(mse,1)}\")\n",
    "print(f\"RMSE: {np.round(rmse,1)}\")\n",
    "print(f\"MAE: {np.round(mae,1)}\")\n",
    "print(f\"R2: {np.round(r2_score,1)}\") # the same as r2_score(y_test, y_hat)"
   ]
  },
  {
   "cell_type": "markdown",
   "metadata": {
    "application/vnd.databricks.v1+cell": {
     "cellMetadata": {},
     "inputWidgets": {},
     "nuid": "ecdeeaa5-e06e-4162-8948-2030b8394af5",
     "showTitle": false,
     "title": ""
    }
   },
   "source": [
    "The scaling **does not have an effect on the performance of the model**. It only helps with interpretability of the coefficients and changes the meaning of the intercept. "
   ]
  },
  {
   "cell_type": "markdown",
   "metadata": {
    "application/vnd.databricks.v1+cell": {
     "cellMetadata": {},
     "inputWidgets": {},
     "nuid": "44b893cb-a330-4c5f-afac-a36024943ace",
     "showTitle": false,
     "title": ""
    }
   },
   "source": [
    "## Result Analysis\n",
    "Now that we have fitted a model on the standardized features and calculated the different scores, we need to analyse these results.\n",
    "\n",
    "### Residuals\n",
    "### Exercise\n",
    "- Calculate residuals by deducting `y_test` from `y_hat`."
   ]
  },
  {
   "cell_type": "code",
   "execution_count": 0,
   "metadata": {
    "application/vnd.databricks.v1+cell": {
     "cellMetadata": {},
     "inputWidgets": {},
     "nuid": "b4d64271-c10e-47c7-9bd5-937d5ef1df5d",
     "showTitle": false,
     "title": ""
    }
   },
   "outputs": [],
   "source": [
    "# Task 15: Calculate residuals by deducting y_test from y_hat\n",
    "\n",
    "residuals = ..."
   ]
  },
  {
   "cell_type": "markdown",
   "metadata": {
    "application/vnd.databricks.v1+cell": {
     "cellMetadata": {},
     "inputWidgets": {},
     "nuid": "bf2a7a95-fbb9-4ed9-906b-ff099943071f",
     "showTitle": false,
     "title": ""
    }
   },
   "source": [
    "One of the assumptions of a linear regression is that the **residuals are normally distributed**. \n",
    "\n",
    "From the histogram below it seems that the residuals are almost normally distributed. \n",
    "If this is actually the case can be tested with e.g. the\n",
    "[Kolmogorov-Smironov test](https://en.wikipedia.org/wiki/Kolmogorov%E2%80%93Smirnov_test)\n",
    "or the\n",
    "[Shapiro-Wilk test](https://en.wikipedia.org/wiki/Shapiro%E2%80%93Wilk_test).\n",
    "It is also possible to draw a quantile-quantile plot.\n",
    "We could investigate outliers to check if they impact the residuals. "
   ]
  },
  {
   "cell_type": "code",
   "execution_count": 0,
   "metadata": {
    "application/vnd.databricks.v1+cell": {
     "cellMetadata": {
      "byteLimit": 2048000,
      "rowLimit": 10000
     },
     "inputWidgets": {},
     "nuid": "1c3eae64-1c6f-41f2-b8a1-17c3e0e84e58",
     "showTitle": false,
     "title": ""
    }
   },
   "outputs": [],
   "source": [
    "plt.subplot(1,2,1)\n",
    "plt.scatter(y_test, residuals)\n",
    "plt.ylabel(\"residuals\")\n",
    "plt.xlabel(\"y_test\")\n",
    "plt.title(\"Residuals against true values\")\n",
    "\n",
    "plt.subplot(1,2,2)\n",
    "plt.hist(residuals)\n",
    "plt.xlabel(\"residuals\")\n",
    "plt.ylabel(\"frequency\")\n",
    "plt.title(\"Residuals histogram\")\n",
    "plt.show();"
   ]
  },
  {
   "cell_type": "markdown",
   "metadata": {
    "application/vnd.databricks.v1+cell": {
     "cellMetadata": {},
     "inputWidgets": {},
     "nuid": "682af51b-583e-4ffc-b5a1-c40cba70c1c0",
     "showTitle": false,
     "title": ""
    }
   },
   "source": [
    "### Exercise – The Dependent Variable\n",
    "\n",
    "The lower long tail on the histogram might be also due to the distribution of the dependent variable y. When doing exploratory data analysis we should look only at the train set so that we do not detect patterns from the test set. The test set is set aside and is used only for evaluation.\n",
    "\n",
    "- Create a boxplot of `y_train`.\n",
    "- Plot a histogram of `y_train`."
   ]
  },
  {
   "cell_type": "code",
   "execution_count": 0,
   "metadata": {
    "application/vnd.databricks.v1+cell": {
     "cellMetadata": {},
     "inputWidgets": {},
     "nuid": "6f3b7c8e-442b-4cd7-9dfb-7c99ac1ef127",
     "showTitle": false,
     "title": ""
    }
   },
   "outputs": [],
   "source": [
    "# Task 16 - create a boxplot\n"
   ]
  },
  {
   "cell_type": "markdown",
   "metadata": {
    "application/vnd.databricks.v1+cell": {
     "cellMetadata": {},
     "inputWidgets": {},
     "nuid": "c7d6a85f-d1ee-45dc-8e63-499d97fc93e0",
     "showTitle": false,
     "title": ""
    }
   },
   "source": [
    "It seems that there are some outliers on the upper part. This is expected as there can be some very expensive houses.  "
   ]
  },
  {
   "cell_type": "code",
   "execution_count": 0,
   "metadata": {
    "application/vnd.databricks.v1+cell": {
     "cellMetadata": {},
     "inputWidgets": {},
     "nuid": "97526064-6069-4a85-852f-e01fabbb8152",
     "showTitle": false,
     "title": ""
    }
   },
   "outputs": [],
   "source": [
    "# Task 17 - create a histogram\n"
   ]
  },
  {
   "cell_type": "markdown",
   "metadata": {
    "application/vnd.databricks.v1+cell": {
     "cellMetadata": {},
     "inputWidgets": {},
     "nuid": "ac21a7c9-6419-4ea8-92da-4313fa7a6f6b",
     "showTitle": false,
     "title": ""
    }
   },
   "source": [
    "The distribution of the target variable seems to be rather bimodal. Linear regression does not perform the best for such distributions. However, if we did not take into consideration the outliers, the distribution would be closer to a normal distribution. However, are they really outliers? \n",
    "So the question is if we should **transform the dependent variable**. We could also consider creating two separate linear models, one for the usual values and one for the values on the upper end. "
   ]
  },
  {
   "cell_type": "markdown",
   "metadata": {
    "application/vnd.databricks.v1+cell": {
     "cellMetadata": {},
     "inputWidgets": {},
     "nuid": "682881b7-a0d0-4e03-bee1-78f72f7834ce",
     "showTitle": false,
     "title": ""
    }
   },
   "source": [
    "### Exercise – Outliers\n",
    "\n",
    "Might the skewness of the residuals be due to the outliers in the explanatory features?\n",
    "\n",
    "- Draw a boxplot for `X_train`. You can use for example a boxplot from the seaborn library."
   ]
  },
  {
   "cell_type": "code",
   "execution_count": 0,
   "metadata": {
    "application/vnd.databricks.v1+cell": {
     "cellMetadata": {},
     "inputWidgets": {},
     "nuid": "c0e41d6a-4fb6-4982-ac70-a2423a3e42d1",
     "showTitle": false,
     "title": ""
    }
   },
   "outputs": [],
   "source": [
    "# Task 18\n"
   ]
  },
  {
   "cell_type": "markdown",
   "metadata": {
    "application/vnd.databricks.v1+cell": {
     "cellMetadata": {},
     "inputWidgets": {},
     "nuid": "cca1d998-a7b9-4bd0-ab91-201a9d5ac2c1",
     "showTitle": false,
     "title": ""
    }
   },
   "source": [
    "There seem to be quite some outliers, e.g. in CRIM, ZN and PTRATIO B. These outliers should be treated."
   ]
  },
  {
   "cell_type": "markdown",
   "metadata": {
    "application/vnd.databricks.v1+cell": {
     "cellMetadata": {},
     "inputWidgets": {},
     "nuid": "35e3c1f7-6675-41d5-aee8-479efd783514",
     "showTitle": false,
     "title": ""
    }
   },
   "source": [
    "### Exercise – Multicollinearity\n",
    "\n",
    "Correlated features might cause the model to be quite unstable. \n",
    "\n",
    "- Calculate the correlations between all the variables with the\n",
    "[`corr()`](https://pandas.pydata.org/pandas-docs/stable/reference/api/pandas.DataFrame.corr.html)\n",
    "method called on `X_train`. Save the output into variable `corr`."
   ]
  },
  {
   "cell_type": "code",
   "execution_count": 0,
   "metadata": {
    "application/vnd.databricks.v1+cell": {
     "cellMetadata": {},
     "inputWidgets": {},
     "nuid": "87477a67-28dd-444f-ae00-3571fb22f8f5",
     "showTitle": false,
     "title": ""
    }
   },
   "outputs": [],
   "source": [
    "# Task 19\n"
   ]
  },
  {
   "cell_type": "markdown",
   "metadata": {
    "application/vnd.databricks.v1+cell": {
     "cellMetadata": {},
     "inputWidgets": {},
     "nuid": "d6e41eff-a620-48be-92c7-5b241e513c12",
     "showTitle": false,
     "title": ""
    }
   },
   "source": [
    "Below you can see correlations of the variables between each other on the left chart. Right chart shows absolute values of correlations. "
   ]
  },
  {
   "cell_type": "code",
   "execution_count": 0,
   "metadata": {
    "application/vnd.databricks.v1+cell": {
     "cellMetadata": {},
     "inputWidgets": {},
     "nuid": "da0fc922-b5cf-4981-99a1-15d4d9ad3823",
     "showTitle": false,
     "title": ""
    }
   },
   "outputs": [],
   "source": [
    "# charts for correlation\n",
    "plt.subplot(1,2,1)\n",
    "plt.title('Correlations')\n",
    "mask = np.triu(np.ones_like(corr, dtype=bool))\n",
    "sns.heatmap(corr, mask = mask, annot=True, cmap='Reds');\n",
    "\n",
    "plt.title('Absolute value of correlations')\n",
    "plt.subplot(1,2,2)\n",
    "corr_abs = corr.abs()\n",
    "sns.heatmap(corr_abs, mask = mask, annot=True, cmap='Reds');"
   ]
  },
  {
   "cell_type": "markdown",
   "metadata": {
    "application/vnd.databricks.v1+cell": {
     "cellMetadata": {},
     "inputWidgets": {},
     "nuid": "18379448-cd65-4e6c-b284-51e1d06f9dc5",
     "showTitle": false,
     "title": ""
    }
   },
   "source": [
    "There is a strong correlation between some features, e.g. TAX and RAD, DIS and NOX, DIS and INUDS, DIS and AGE, LSTAT and RM. **Highly correlated features in linear models can cause instability of the model**. Thus it should be tested how the models perform if we remove such features. Usually one of the features with a correlation higher than some threshold is removed from the feature set. "
   ]
  },
  {
   "cell_type": "markdown",
   "metadata": {
    "application/vnd.databricks.v1+cell": {
     "cellMetadata": {},
     "inputWidgets": {},
     "nuid": "f5f98a63-3b0a-4e38-bf6f-524bbf9f9cb6",
     "showTitle": false,
     "title": ""
    }
   },
   "source": [
    "### Linearity – Exercise\n",
    "\n",
    "Since we work with a linear model, there should be a linear relationship between X and y. Let's do some simple checks. \n",
    "\n",
    "- Compute the correlation between `X_train` and `y_train`. Hint: you can [concatenate](https://pandas.pydata.org/pandas-docs/stable/reference/api/pandas.concat.html) `X_train` and `y_train` first on `axis=1` and calculate the correlation on the concatenated data frame."
   ]
  },
  {
   "cell_type": "code",
   "execution_count": 0,
   "metadata": {
    "application/vnd.databricks.v1+cell": {
     "cellMetadata": {},
     "inputWidgets": {},
     "nuid": "84c580f9-bd0d-41a8-862d-f4f9d064ba84",
     "showTitle": false,
     "title": ""
    }
   },
   "outputs": [],
   "source": [
    "# Task 20\n"
   ]
  },
  {
   "cell_type": "markdown",
   "metadata": {
    "application/vnd.databricks.v1+cell": {
     "cellMetadata": {},
     "inputWidgets": {},
     "nuid": "a1ce67e1-f960-412c-b823-5ff59669792d",
     "showTitle": false,
     "title": ""
    }
   },
   "source": [
    "### Exercise\n",
    "\n",
    "There is a strong negative correlation between the target variable and the 'LSTAT' feature, as well as a strong positive correlation between the target variable and the 'RM' feature. \n",
    "\n",
    "- Draw a scatter plot showing the dependency between X and y not only for the two most correlated features 'LSTAT' and 'RM' but also for the other features to investigate if there is any pattern."
   ]
  },
  {
   "cell_type": "code",
   "execution_count": 0,
   "metadata": {
    "application/vnd.databricks.v1+cell": {
     "cellMetadata": {},
     "inputWidgets": {},
     "nuid": "cee735e8-ca79-4266-8827-bd8bdee80cc9",
     "showTitle": false,
     "title": ""
    }
   },
   "outputs": [],
   "source": [
    "# Task 21\n"
   ]
  },
  {
   "cell_type": "markdown",
   "metadata": {
    "application/vnd.databricks.v1+cell": {
     "cellMetadata": {},
     "inputWidgets": {},
     "nuid": "34d09d6e-099f-4947-b525-c8aa8a326dd0",
     "showTitle": false,
     "title": ""
    }
   },
   "source": [
    "We already know that there is a strong correlation between the target and the variable 'LSTAT' but the relationship seems to be rather non-linear. We can transform the variable 'LSTAT' for example with a negative logarithm or x-squared function to get a linear relationship between the modified variable and y. \n",
    "\n",
    "The relationship with the second highest correlated feature 'RM' seems to be linear."
   ]
  },
  {
   "cell_type": "markdown",
   "metadata": {
    "application/vnd.databricks.v1+cell": {
     "cellMetadata": {},
     "inputWidgets": {},
     "nuid": "b1983794-43b0-4e9d-b55b-5daf00e920b1",
     "showTitle": false,
     "title": ""
    }
   },
   "source": [
    "## Model only with the 2 strongest variables \n",
    "### Exercise\n",
    "- Fit the model only with the features 'LSTAT' and 'RM'.\n",
    "- Predict and return the RMSE."
   ]
  },
  {
   "cell_type": "code",
   "execution_count": 0,
   "metadata": {
    "application/vnd.databricks.v1+cell": {
     "cellMetadata": {},
     "inputWidgets": {},
     "nuid": "539fde72-b7ce-4065-8d26-958f84db8d79",
     "showTitle": false,
     "title": ""
    }
   },
   "outputs": [],
   "source": [
    "# Task 22\n",
    "\n",
    "...\n",
    "rmse = \n",
    "print(f\"RMSE: {np.round(rmse,1)}\")"
   ]
  },
  {
   "cell_type": "markdown",
   "metadata": {
    "application/vnd.databricks.v1+cell": {
     "cellMetadata": {},
     "inputWidgets": {},
     "nuid": "8f109d81-d4f3-404b-ba9a-0b1e1296d2ce",
     "showTitle": false,
     "title": ""
    }
   },
   "source": [
    "This model has a slightly worse performance than the original model with an RMSE of around 4.7. However, interpretaion of the model with 2 variables is easier and usually the generalization of the simpler model is also better. "
   ]
  },
  {
   "cell_type": "markdown",
   "metadata": {
    "application/vnd.databricks.v1+cell": {
     "cellMetadata": {},
     "inputWidgets": {},
     "nuid": "bf942674-a040-4fec-bf0e-23713b1fe3e0",
     "showTitle": false,
     "title": ""
    }
   },
   "source": [
    "## 2nd degree polynomial features\n",
    "\n",
    "We have seen in the scatter plots that there likely is a non-linear relationship between 'LSTAT' and the target variable.\n",
    "It makes sense to test the model with the 2 variables as above but also\n",
    "[adding polynomial features](https://scikit-learn.org/stable/modules/generated/sklearn.preprocessing.PolynomialFeatures.html)\n",
    "of the 2nd degree and an interaction term between the two variables.\n",
    "Run the cell below to see the performance of such a model."
   ]
  },
  {
   "cell_type": "code",
   "execution_count": 0,
   "metadata": {
    "application/vnd.databricks.v1+cell": {
     "cellMetadata": {},
     "inputWidgets": {},
     "nuid": "4f4aa302-d376-40f3-bf20-6c487647abae",
     "showTitle": false,
     "title": ""
    }
   },
   "outputs": [],
   "source": [
    "poly = PolynomialFeatures(2)\n",
    "x_train_poly = poly.fit_transform(X_train[['LSTAT', 'RM']])\n",
    "x_test_poly = poly.transform(X_test[['LSTAT', 'RM']])\n",
    "  \n",
    "model_poly = LinearRegression(fit_intercept=False)\n",
    "model_poly.fit(x_train_poly, y_train)\n",
    "    \n",
    "y_hat = model_poly.predict(x_test_poly)\n",
    "print(f\"RMSE: {mean_squared_error(y_test, y_hat, squared=False)}\")\n",
    "# depending on the version of sklearn, this will cause an error\n",
    "# in that case, replace \"get_feature_names_out\" with \"get_feature_names\"\n",
    "pd.DataFrame(model_poly.coef_, index = [\"Coefficient\"], columns = poly.get_feature_names_out())"
   ]
  },
  {
   "cell_type": "markdown",
   "metadata": {
    "application/vnd.databricks.v1+cell": {
     "cellMetadata": {},
     "inputWidgets": {},
     "nuid": "b66f0f3f-ba72-49b1-9bc5-11851311aac6",
     "showTitle": false,
     "title": ""
    }
   },
   "source": [
    "This model has so far the best performance."
   ]
  },
  {
   "cell_type": "markdown",
   "metadata": {
    "application/vnd.databricks.v1+cell": {
     "cellMetadata": {},
     "inputWidgets": {},
     "nuid": "ee4434fc-9640-473f-badc-69777e77a608",
     "showTitle": false,
     "title": ""
    }
   },
   "source": [
    "## Next steps to consider\n",
    "How can we improve our current model even further?\n",
    "\n",
    "- Treatment of the y variable - Should we use two different models? Should we transform y?\n",
    "- Outliers need to be treated.\n",
    "- Feature selection methods.\n",
    "- Removal of correlated features.\n",
    "- Feature engineering.\n",
    "- ..."
   ]
  },
  {
   "cell_type": "markdown",
   "metadata": {
    "application/vnd.databricks.v1+cell": {
     "cellMetadata": {},
     "inputWidgets": {},
     "nuid": "ff46f351-1f2c-4f79-bfde-80d8acbff232",
     "showTitle": false,
     "title": ""
    }
   },
   "source": [
    "Material adapted for RBI internal purposes with full permissions from original authors. [Source](https://github.com/zatkopatrik/authentic-data-science)"
   ]
  }
 ],
 "metadata": {
  "application/vnd.databricks.v1+notebook": {
   "dashboards": [],
   "language": "python",
   "notebookMetadata": {
    "pythonIndentUnit": 4
   },
   "notebookName": "1_Linear_Regression_Exercise_jupyter",
   "widgets": {}
  }
 },
 "nbformat": 4,
 "nbformat_minor": 0
}
