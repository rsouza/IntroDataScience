{
 "cells": [
  {
   "cell_type": "markdown",
   "metadata": {
    "application/vnd.databricks.v1+cell": {
     "cellMetadata": {},
     "inputWidgets": {},
     "nuid": "47632812-4f61-4a95-ad3a-5fd7c2197d9a",
     "showTitle": false,
     "title": ""
    }
   },
   "source": [
    "# Regularized Linear Models"
   ]
  },
  {
   "cell_type": "code",
   "execution_count": 0,
   "metadata": {
    "application/vnd.databricks.v1+cell": {
     "cellMetadata": {
      "byteLimit": 2048000,
      "rowLimit": 10000
     },
     "inputWidgets": {},
     "nuid": "cfce4768-ff04-4eb9-993f-be8aaae3254d",
     "showTitle": false,
     "title": ""
    }
   },
   "outputs": [],
   "source": [
    "from sklearn import datasets\n",
    "import pandas as pd\n",
    "from sklearn.model_selection import train_test_split\n",
    "from sklearn.preprocessing import  PolynomialFeatures, StandardScaler\n",
    "from sklearn.linear_model import LinearRegression, Ridge, Lasso, ElasticNet\n",
    "from sklearn.metrics import mean_squared_error\n",
    "import numpy as np\n",
    "import matplotlib.pyplot as plt\n",
    "import seaborn as sns\n",
    "\n",
    "plt.rcParams[\"figure.figsize\"] = (20,15)\n",
    "sns.set_theme(style=\"whitegrid\")"
   ]
  },
  {
   "cell_type": "markdown",
   "metadata": {
    "application/vnd.databricks.v1+cell": {
     "cellMetadata": {},
     "inputWidgets": {},
     "nuid": "9af69dd5-fae7-4c0c-946b-2db0b1603c1d",
     "showTitle": false,
     "title": ""
    }
   },
   "source": [
    "## Load data\n",
    "\n",
    "We load the [Boston housing data](http://lib.stat.cmu.edu/datasets/boston) and split it into train and test data. \n",
    "As in the last notebook, we generate [polynomial features](https://scikit-learn.org/stable/modules/generated/sklearn.preprocessing.PolynomialFeatures.html)\n",
    "of the second degree.\n",
    "We will work further with `X_train_poly`, `y_train`, `X_test_poly` and `y_test`. \n",
    "Run the cell below.\n",
    "\n",
    "### Ethical considerations\n",
    "\n",
    "The dataset, which we are using in this exercise, has an ethical problem.\n",
    "A thorough discussion of the issues can be found in [this article](https://medium.com/@docintangible/racist-data-destruction-113e3eff54a8).  \n",
    "The key take aways are, that there is a attribute called 'B' in the data.\n",
    "The\n",
    "[original authors](https://www.researchgate.net/publication/4974606_Hedonic_housing_prices_and_the_demand_for_clean_air)\n",
    "of the dataset engineered this feature assuming that racial self-segregation has a positive impact on house prices.\n",
    "Such an attribute furthers systemic racism and must not be used outside of educational purposes.\n"
   ]
  },
  {
   "cell_type": "code",
   "execution_count": 0,
   "metadata": {
    "application/vnd.databricks.v1+cell": {
     "cellMetadata": {
      "byteLimit": 2048000,
      "rowLimit": 10000
     },
     "inputWidgets": {},
     "nuid": "a24ab89b-6fd9-4c6e-9504-0fb83025d022",
     "showTitle": false,
     "title": ""
    }
   },
   "outputs": [],
   "source": [
    "# The data set is originally downloaded from  \"http://lib.stat.cmu.edu/datasets/boston\".\n",
    "\n",
    "raw_df = pd.read_csv('../../../Data/Boston.csv')\n",
    "\n",
    "y = raw_df['target']\n",
    "X = pd.DataFrame(raw_df.iloc[:,1:-1])\n",
    "\n",
    "X_train, X_test, y_train, y_test = train_test_split(X, y, random_state=42)\n",
    "\n",
    "poly = PolynomialFeatures(2, include_bias=False)\n",
    "X_train_poly = poly.fit_transform(X_train)\n",
    "X_test_poly = poly.transform(X_test)\n",
    "# depending on the version of sklearn, this will cause an error\n",
    "# in that case, replace \"get_feature_names_out\" with \"get_feature_names\"\n",
    "poly_names = poly.get_feature_names_out()"
   ]
  },
  {
   "cell_type": "markdown",
   "metadata": {
    "application/vnd.databricks.v1+cell": {
     "cellMetadata": {},
     "inputWidgets": {},
     "nuid": "f269766c-6821-4255-a754-0118be5f7d5f",
     "showTitle": false,
     "title": ""
    }
   },
   "source": [
    "### Exercise\n",
    "\n",
    "How many features are there in total?"
   ]
  },
  {
   "cell_type": "code",
   "execution_count": 0,
   "metadata": {
    "application/vnd.databricks.v1+cell": {
     "cellMetadata": {
      "byteLimit": 2048000,
      "rowLimit": 10000
     },
     "inputWidgets": {},
     "nuid": "6183724f-b547-4f09-a7d4-7276f47054e5",
     "showTitle": false,
     "title": ""
    }
   },
   "outputs": [],
   "source": [
    "# Task 1\n"
   ]
  },
  {
   "cell_type": "markdown",
   "metadata": {
    "application/vnd.databricks.v1+cell": {
     "cellMetadata": {},
     "inputWidgets": {},
     "nuid": "0d4b9aad-70f8-4ae9-af71-e827271ed9ff",
     "showTitle": false,
     "title": ""
    }
   },
   "source": [
    "We will further use the user-defined function `plot_coef` that takes as input coefficients as output of the fitted model. It plots the coefficient values and calculates average."
   ]
  },
  {
   "cell_type": "code",
   "execution_count": 0,
   "metadata": {
    "application/vnd.databricks.v1+cell": {
     "cellMetadata": {
      "byteLimit": 2048000,
      "rowLimit": 10000
     },
     "inputWidgets": {},
     "nuid": "94834931-1b06-42a8-964c-38109422c10a",
     "showTitle": false,
     "title": ""
    }
   },
   "outputs": [],
   "source": [
    "def plot_coef(lr_coef, names=[], ordered=True, hide_zero=False, figsize=(12,20)):\n",
    "    \"\"\"\n",
    "    The function plots coefficients' values from the linear model.\n",
    "    --------\n",
    "    params:\n",
    "        lr_coef: coefficients as they are returned from the classifier's attributes\n",
    "        names: names for the coefficients, if left empty x0, x1, ... will be used\n",
    "        ordered: order the coefficients according to their value\n",
    "        hide_zero: hide all coefficients which are equal to 0\n",
    "        figsize: tuple spcifying the size of the plot\n",
    "    \"\"\"\n",
    "    if len(names) < 1:\n",
    "        names = [f\"x{i}\" for i in range(len(lr_coef))]\n",
    "\n",
    "    named_coef = pd.DataFrame({\"attr\": names, \"coef\": lr_coef})\n",
    "    \n",
    "    if hide_zero:\n",
    "        named_coef = named_coef[named_coef[\"coef\"] != 0]\n",
    "\n",
    "    if ordered:\n",
    "        named_coef.sort_values(by=\"coef\", ascending=True, inplace=True)\n",
    "\n",
    "    fig, ax = plt.subplots(figsize=figsize)\n",
    "\n",
    "    ax.axvline(x=0, c=\"orange\", ls=\"--\")\n",
    "    ax.scatter(x=\"coef\", y=\"attr\", data=named_coef)\n",
    "    ax.margins(y=0.01)\n",
    "    ax.set_title(\"Coefficients' values\")"
   ]
  },
  {
   "cell_type": "markdown",
   "metadata": {
    "application/vnd.databricks.v1+cell": {
     "cellMetadata": {},
     "inputWidgets": {},
     "nuid": "dc69b841-6240-42c8-bad8-c1691a4c7077",
     "showTitle": false,
     "title": ""
    }
   },
   "source": [
    "## Fit linear regression without regularization\n",
    "\n",
    "### Exercise\n",
    "\n",
    "- Instantiate a [linear regression](https://scikit-learn.org/stable/modules/generated/sklearn.linear_model.LinearRegression.html) under the variable `lr`.\n",
    "- Fit `lr` to `X_train_poly`, `y_train `.\n",
    "- Predict with `lr` on `X_train_poly` and store the results to `y_hat_train`.\n",
    "- Predict with `lr` on `X_test_poly` and store the results to `y_hat_test`.\n",
    "- Return the RMSE for `y_hat_train` as well as for `y_hat_test`. \n",
    "\n",
    "How do you interpret the difference in performance of the model on train and on test dataset? Can you tell if the model overfits/underfits?"
   ]
  },
  {
   "cell_type": "code",
   "execution_count": 0,
   "metadata": {
    "application/vnd.databricks.v1+cell": {
     "cellMetadata": {
      "byteLimit": 2048000,
      "rowLimit": 10000
     },
     "inputWidgets": {},
     "nuid": "333075a2-5a61-4065-a226-2ea2bbe6eec8",
     "showTitle": false,
     "title": ""
    }
   },
   "outputs": [],
   "source": [
    "# Task 2\n",
    "\n",
    "lr = ...\n",
    "...\n",
    "\n",
    "y_hat_train = ...\n",
    "y_hat_test = ...\n",
    "\n",
    "print(f\"RMSE train: {mean_squared_error(..., ..., squared=False)}\")\n",
    "print(f\"RMSE test: {mean_squared_error(..., ..., squared=False)}\")"
   ]
  },
  {
   "cell_type": "markdown",
   "metadata": {
    "application/vnd.databricks.v1+cell": {
     "cellMetadata": {},
     "inputWidgets": {},
     "nuid": "29f8fff3-a75c-4243-98ee-a775d11c81dc",
     "showTitle": false,
     "title": ""
    }
   },
   "source": [
    "The RMSE is almost twice as big for the test set than for the train set. This suggests overfitting and a poor generalization power of the model.\n",
    "\n",
    "We use the function `plot_coef` on the coefficients of the fitted model to see the values of the coefficients."
   ]
  },
  {
   "cell_type": "code",
   "execution_count": 0,
   "metadata": {
    "application/vnd.databricks.v1+cell": {
     "cellMetadata": {
      "byteLimit": 2048000,
      "rowLimit": 10000
     },
     "inputWidgets": {},
     "nuid": "8456908c-b891-4c4d-ae26-2af7c3df0695",
     "showTitle": false,
     "title": ""
    }
   },
   "outputs": [],
   "source": [
    "plot_coef(lr.coef_, poly_names)"
   ]
  },
  {
   "cell_type": "markdown",
   "metadata": {
    "application/vnd.databricks.v1+cell": {
     "cellMetadata": {},
     "inputWidgets": {},
     "nuid": "83fd7b22-e61c-4ce5-8f94-e73e3d517486",
     "showTitle": false,
     "title": ""
    }
   },
   "source": [
    "The error values on train and test suggest that we deal here with overfitting of the model on the given set of polynomial features. \n",
    "We should therefore use **regularization**. \n",
    "\n",
    "## Standardization\n",
    "\n",
    "Before fitting any regularized model, the scaling of the features is crucial.\n",
    "Otherwise the regularization would not be fair to features of different scales.\n",
    "Regularized linear models assume that the inputs to the model have a zero mean and a variance in the same magnitude.\n",
    "[`StandarScaler()`](https://scikit-learn.org/stable/modules/generated/sklearn.preprocessing.StandardScaler.html)\n",
    "deducts the mean and divides by the standard deviation. \n",
    "\n",
    "### Exercise\n",
    "\n",
    "- Instantiate\n",
    "[`StandardScaler()`](https://scikit-learn.org/stable/modules/generated/sklearn.preprocessing.StandardScaler.html)\n",
    "under the name `scaler`.\n",
    "- Apply the `fit_transform` method with the input `X_train_poly` to `scaler` and store the result into `X_train_scaled`.\n",
    "- Once the scaler is fit to `X_train_poly` you can directly transform `X_test_poly` and store it in the variable `X_test_scaled`. You never want to fit on a test sample, because that way information from the test data might leak. Test data serves only for evaluation."
   ]
  },
  {
   "cell_type": "code",
   "execution_count": 0,
   "metadata": {
    "application/vnd.databricks.v1+cell": {
     "cellMetadata": {
      "byteLimit": 2048000,
      "rowLimit": 10000
     },
     "inputWidgets": {},
     "nuid": "55429b93-f1e0-4a29-bbad-64151ad9eb66",
     "showTitle": false,
     "title": ""
    }
   },
   "outputs": [],
   "source": [
    "# Task 3\n",
    "\n",
    "scaler = ...\n",
    "X_train_scaled = ...\n",
    "X_test_scaled = ..."
   ]
  },
  {
   "cell_type": "markdown",
   "metadata": {
    "application/vnd.databricks.v1+cell": {
     "cellMetadata": {},
     "inputWidgets": {},
     "nuid": "ab21a93d-9e33-4499-ace8-4aa02c36867a",
     "showTitle": false,
     "title": ""
    }
   },
   "source": [
    "If you applied the standardization correctly you should see on the bottom chart the distributions of all the features concentrated around zero with similar ranges of deviation."
   ]
  },
  {
   "cell_type": "code",
   "execution_count": 0,
   "metadata": {
    "application/vnd.databricks.v1+cell": {
     "cellMetadata": {
      "byteLimit": 2048000,
      "rowLimit": 10000
     },
     "inputWidgets": {},
     "nuid": "f72b3c13-73ac-42ee-98fc-035005bdbcda",
     "showTitle": false,
     "title": ""
    }
   },
   "outputs": [],
   "source": [
    "fig, axs = plt.subplots(1, 2, sharey=True, figsize=(12, 20))\n",
    "\n",
    "axs[0].boxplot(X_train_poly, vert=False, labels=poly_names)\n",
    "axs[0].set_title('Original polynomial features')\n",
    "\n",
    "axs[1].boxplot(X_train_scaled, vert=False, labels=poly_names)\n",
    "axs[1].set_title('Scaled features')\n",
    "\n",
    "plt.tight_layout()\n",
    "plt.show()"
   ]
  },
  {
   "cell_type": "markdown",
   "metadata": {
    "application/vnd.databricks.v1+cell": {
     "cellMetadata": {},
     "inputWidgets": {},
     "nuid": "96688213-dc65-41d7-aa5a-d0aefd89f9f8",
     "showTitle": false,
     "title": ""
    }
   },
   "source": [
    "## Lasso\n",
    "Documentation: https://scikit-learn.org/stable/modules/generated/sklearn.linear_model.Lasso.html\n",
    "\n",
    "### Exercise\n",
    "- Instantiate a Lasso regression under the name `lr_l`.\n",
    "- Fit the model to `X_train_scaled` and `y_train`.\n",
    "- Predict on `X_train_scaled` and `X_test_scaled` and store the predictions in `y_hat_train` and `y_hat_test`, respectively.\n",
    "\n",
    "Did the overfit change?"
   ]
  },
  {
   "cell_type": "code",
   "execution_count": 0,
   "metadata": {
    "application/vnd.databricks.v1+cell": {
     "cellMetadata": {
      "byteLimit": 2048000,
      "rowLimit": 10000
     },
     "inputWidgets": {},
     "nuid": "e0f5472b-a683-4a87-9323-67a3ae49e5ea",
     "showTitle": false,
     "title": ""
    }
   },
   "outputs": [],
   "source": [
    "# Task 4\n",
    "\n",
    "\n",
    "from sklearn.linear_model import Lasso\n",
    "\n",
    "lr_l = ...\n",
    "...\n",
    "\n",
    "y_hat_train = ...\n",
    "y_hat_test = ...\n",
    "\n",
    "print(f\"RMSE train: {mean_squared_error(..., ..., squared=False)}\")\n",
    "print(f\"RMSE test: {mean_squared_error..., ..., squared=False)}\")"
   ]
  },
  {
   "cell_type": "markdown",
   "metadata": {
    "application/vnd.databricks.v1+cell": {
     "cellMetadata": {},
     "inputWidgets": {},
     "nuid": "60166dd5-112e-4049-bea1-fd9e553d980f",
     "showTitle": false,
     "title": ""
    }
   },
   "source": [
    "The performance seems to be comparable on train and test dataset. Hence, the model's generalization power is better now.\n",
    "\n",
    "### Exercise\n",
    "\n",
    "Use `plot_coef()` on the coefficients of the lasso model."
   ]
  },
  {
   "cell_type": "code",
   "execution_count": 0,
   "metadata": {
    "application/vnd.databricks.v1+cell": {
     "cellMetadata": {
      "byteLimit": 2048000,
      "rowLimit": 10000
     },
     "inputWidgets": {},
     "nuid": "6ef55f54-b7c6-49a5-8f64-54914c2b1f06",
     "showTitle": false,
     "title": ""
    }
   },
   "outputs": [],
   "source": [
    "# Task 5\n",
    "\n"
   ]
  },
  {
   "cell_type": "markdown",
   "metadata": {
    "application/vnd.databricks.v1+cell": {
     "cellMetadata": {},
     "inputWidgets": {},
     "nuid": "8546179c-8769-4c22-b4cc-68fa2b11cfd4",
     "showTitle": false,
     "title": ""
    }
   },
   "source": [
    "The average value of the coefficients is much smaller now. Also, many of the coefficients are equal to 0."
   ]
  },
  {
   "cell_type": "code",
   "execution_count": 0,
   "metadata": {
    "application/vnd.databricks.v1+cell": {
     "cellMetadata": {
      "byteLimit": 2048000,
      "rowLimit": 10000
     },
     "inputWidgets": {},
     "nuid": "c284d816-f60e-416b-a575-8ac64d4460ca",
     "showTitle": false,
     "title": ""
    }
   },
   "outputs": [],
   "source": [
    "print(f'After applying Lasso on polynomial scaled features we remain with {np.sum(lr_l.coef_!=0)} variables.')\n",
    "print('\\nThe selected variables are:\\n- ', end=\"\")\n",
    "print(\"\\n- \".join(poly_names[lr_l.coef_ != 0]))"
   ]
  },
  {
   "cell_type": "markdown",
   "metadata": {
    "application/vnd.databricks.v1+cell": {
     "cellMetadata": {},
     "inputWidgets": {},
     "nuid": "3c0e1fdb-a133-4aea-a386-edc850476cd9",
     "showTitle": false,
     "title": ""
    }
   },
   "source": [
    "### Exercise\n",
    "\n",
    "- Take the subset of `X_train_scaled` with only those variables that have a non-zero coefficient and store it in the variable `X_train_lasso`\n",
    "- Do the same selection on `X_test_scaled` and save it to `X_test_lasso`.\n",
    "- How many variables are remaining? Check it with the cell above."
   ]
  },
  {
   "cell_type": "code",
   "execution_count": 0,
   "metadata": {
    "application/vnd.databricks.v1+cell": {
     "cellMetadata": {
      "byteLimit": 2048000,
      "rowLimit": 10000
     },
     "inputWidgets": {},
     "nuid": "e54bfed0-f62f-4323-b9ff-20f64a3e614d",
     "showTitle": false,
     "title": ""
    }
   },
   "outputs": [],
   "source": [
    "# Task 6\n",
    "\n",
    "X_train_lasso = ...\n",
    "X_test_lasso = ...\n",
    "..."
   ]
  },
  {
   "cell_type": "markdown",
   "metadata": {
    "application/vnd.databricks.v1+cell": {
     "cellMetadata": {},
     "inputWidgets": {},
     "nuid": "22572236-d732-4381-833a-4ff185cc3225",
     "showTitle": false,
     "title": ""
    }
   },
   "source": [
    "## Ridge\n",
    "https://scikit-learn.org/stable/modules/generated/sklearn.linear_model.Ridge.html\n",
    "\n",
    "We have effectively performed a feature selection with Lasso. Now we will compare it to Ridge regression.\n",
    "\n",
    "Let's try different values for the strength of the optimization, alpha. By default it is equal to 1 and it must be a positive value. Larger values specify stronger regularization. Alpha can be set also in Lasso and Elastic Net.\n",
    "\n",
    "### Exercise\n",
    "- Fit the ridge regression to `X_train_scaled` and `y_train` with the values of alpha being 0.001, 0.01, 0.1, 1, 10 and 100 to see the effect of the regularization strength.\n",
    "- Return the RMSE for `X_train_scaled` and `X_test_scaled` for each of the alpha options.\n",
    "- Visulaize both RMSE curves.\n",
    "Are you able to find the ranges where the model is over- or underfitted?"
   ]
  },
  {
   "cell_type": "code",
   "execution_count": 0,
   "metadata": {
    "application/vnd.databricks.v1+cell": {
     "cellMetadata": {
      "byteLimit": 2048000,
      "rowLimit": 10000
     },
     "inputWidgets": {},
     "nuid": "41730b2e-dad9-4ab5-8bd0-bc186454a958",
     "showTitle": false,
     "title": ""
    }
   },
   "outputs": [],
   "source": [
    "# Task 7\n",
    "\n",
    "rmses = pd.DataFrame(columns=[\"alpha\", \"train\", \"test\"])\n",
    "alphas = [10**i for i in range(-3, 3)]\n",
    "\n",
    "for alpha in alphas:    \n",
    "    lr_r = ...\n",
    "    ...\n",
    "\n",
    "    y_hat_train = ...\n",
    "    y_hat_test = ...\n",
    "\n",
    "    rmse_train = mean_squared_error(..., ..., squared=False)\n",
    "    rmse_test = mean_squared_error(..., ..., squared=False)\n",
    "    rmses = pd.concat([rmses, pd.DataFrame([{\"alpha\": alpha, \"train\": rmse_train, \"test\": rmse_test}])], axis=0, ignore_index=True)\n",
    "\n",
    "fig, ax = plt.subplots(figsize=(12, 4))\n",
    "ax.plot(\"alpha\", \"train\", data=rmses, label=\"RMSE for train set\", c=\"b\", ls=\"--\")\n",
    "ax.plot(\"alpha\", \"test\", data=rmses, label=\"RMSE for test set\", c=\"r\")\n",
    "\n",
    "ax.set_xscale(\"log\")\n",
    "ax.legend()\n",
    "ax.set_xlabel(r\"$\\alpha$\")\n",
    "ax.set_ylabel(\"RMSE\")\n",
    "\n",
    "plt.show();"
   ]
  },
  {
   "cell_type": "markdown",
   "metadata": {
    "application/vnd.databricks.v1+cell": {
     "cellMetadata": {},
     "inputWidgets": {},
     "nuid": "41757cab-8b69-415f-beff-2c36f89e7e20",
     "showTitle": false,
     "title": ""
    }
   },
   "source": [
    "In the above plot, we can observe a clear trend in the training data: as the regularization parameter \\\\(\\alpha\\\\) increases, the Root Mean Square Error (RMSE) also increases monotonically. \n",
    "This is expected, as a higher \\\\(\\alpha\\\\) imposes more restriction on the coefficients, leading to a simpler model.  \n",
    "The more intriguing effect is seen when we look at the RMSE on the test data. \n",
    "As anticipated, the RMSE is high for large \\\\(\\alpha\\\\) values, a phenomenon known as underfitting.\n",
    "However, as α decreases, the RMSE starts to rise again.\n",
    "This is because the coefficients are not sufficiently constrained, leading to an overly complex model, a situation referred to as overfitting.\n",
    "\n",
    "**Note:** It’s crucial not to use your test data when optimizing the hyperparameter.\n",
    "If you aim to optimize the hyperparameter, consider using cross-validation or alternative metrics such as Akaike Information Criterion (AIC) or Bayesian Information Criterion (BIC).\n",
    "These metrics penalize complex models and enable you to make an informed decision based solely on your training data.\n",
    "\n",
    "All of these observations also hold for Lasso Regression."
   ]
  },
  {
   "cell_type": "markdown",
   "metadata": {
    "application/vnd.databricks.v1+cell": {
     "cellMetadata": {},
     "inputWidgets": {},
     "nuid": "f3737986-209d-4f8a-95e8-583ef517a1ea",
     "showTitle": false,
     "title": ""
    }
   },
   "source": [
    "### Exercise\n",
    "- Fit the model with a high value of \\\\(\\alpha=100\\\\).\n",
    "- Check how many coefficients equal 0 and plot their valuse using `plot_coef`."
   ]
  },
  {
   "cell_type": "code",
   "execution_count": 0,
   "metadata": {
    "application/vnd.databricks.v1+cell": {
     "cellMetadata": {
      "byteLimit": 2048000,
      "rowLimit": 10000
     },
     "inputWidgets": {},
     "nuid": "c3afec4b-d6c5-416f-be33-744994152105",
     "showTitle": false,
     "title": ""
    }
   },
   "outputs": [],
   "source": [
    "# Task 8\n",
    "\n",
    "lr_r_high = Ridge(...).fit(..., ...)\n",
    "print(f\"There are {(lr_r_high.coef_ == 0).sum()} coefficients equal to 0 for this model.\")\n",
    "\n",
    "..."
   ]
  },
  {
   "cell_type": "markdown",
   "metadata": {
    "application/vnd.databricks.v1+cell": {
     "cellMetadata": {},
     "inputWidgets": {},
     "nuid": "b7540ac9-9573-49d7-a01b-1b766b882204",
     "showTitle": false,
     "title": ""
    }
   },
   "source": [
    "Even for a highly penalized Ridge regression model, all the coefficients are non zero."
   ]
  },
  {
   "cell_type": "markdown",
   "metadata": {
    "application/vnd.databricks.v1+cell": {
     "cellMetadata": {},
     "inputWidgets": {},
     "nuid": "e12812cc-fc3e-4d89-a2fc-700e791d2c22",
     "showTitle": false,
     "title": ""
    }
   },
   "source": [
    "## Elastic Net\n",
    "[Elastic Net](https://scikit-learn.org/stable/modules/generated/sklearn.linear_model.ElasticNet.html)\n",
    "is a combination of Lasso and Ridge which is defined by a parameter `l1_ratio`.\n",
    "If it is equal to 1 the model is equivalent to Lasso, if it is 0 then it is as if we had a Ridge regression.\n",
    "The regularization strength alpha can be defined just as in Ridge or Lasso. \n",
    "\n",
    "You can enforce the values of the parameters to be positive with the parameter `positive = True`.\n",
    "Such an option is also available for Lasso. \n",
    "\n",
    "For all the variations of the linear regression you can enforce it to fit the model without an intercept.\n",
    "This can be done by setting the parameter `fit_intercept=False`.\n",
    "If `False` the data is assumed to be already centered.\n",
    "\n",
    "There is an option to scale data by the norm of each feature.\n",
    "If normalization is applied to fitting of the model it is automatically also applied to the `predict()`.\n",
    "We can use this method instead of standard scaling done at the beginning. \n",
    "\n",
    "### Exercise\n",
    "\n",
    "Experiment with the parameters of `ElasticNet()`.\n",
    "Fit the model to `X_train_scaled` and `y_train` with different set of options, e.g.\n",
    "- `positive=False`\n",
    "- `l1_ratio = 0`, `0.5`, `1`\n",
    "- `alpha = 0.001`, `0.01`, `0.1`, `1`, `10`, `100` \n",
    "\n",
    "Plot the coefficients with `plot_coef` to see the effect on the options.\n",
    "Return the RMSE on train and test set."
   ]
  },
  {
   "cell_type": "code",
   "execution_count": 0,
   "metadata": {
    "application/vnd.databricks.v1+cell": {
     "cellMetadata": {
      "byteLimit": 2048000,
      "rowLimit": 10000
     },
     "inputWidgets": {},
     "nuid": "269541ff-8cf6-42ba-9d16-c0a6c15bd6f7",
     "showTitle": false,
     "title": ""
    }
   },
   "outputs": [],
   "source": [
    "# Task 9\n",
    "\n"
   ]
  },
  {
   "cell_type": "markdown",
   "metadata": {
    "application/vnd.databricks.v1+cell": {
     "cellMetadata": {},
     "inputWidgets": {},
     "nuid": "6e60d0e8-7ab4-4449-a9fd-cdb77ebb156f",
     "showTitle": false,
     "title": ""
    }
   },
   "source": [
    "Material adapted for RBI internal purposes with full permissions from original authors."
   ]
  }
 ],
 "metadata": {
  "application/vnd.databricks.v1+notebook": {
   "dashboards": [],
   "environmentMetadata": null,
   "language": "python",
   "notebookMetadata": {
    "pythonIndentUnit": 4
   },
   "notebookName": "2_Regularized_Linear_Models_Exercise_jupyter",
   "widgets": {}
  }
 },
 "nbformat": 4,
 "nbformat_minor": 0
}
