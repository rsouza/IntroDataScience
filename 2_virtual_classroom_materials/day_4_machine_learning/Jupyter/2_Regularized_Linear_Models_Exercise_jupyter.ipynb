{
 "cells": [
  {
   "cell_type": "markdown",
   "metadata": {
    "application/vnd.databricks.v1+cell": {
     "cellMetadata": {
      "byteLimit": 2048000,
      "rowLimit": 10000
     },
     "inputWidgets": {},
     "nuid": "ef32b104-0134-4856-b4b9-9cbbb4b31258",
     "showTitle": false,
     "title": ""
    }
   },
   "source": [
    "# Regularized Linear Models"
   ]
  },
  {
   "cell_type": "code",
   "execution_count": 0,
   "metadata": {
    "application/vnd.databricks.v1+cell": {
     "cellMetadata": {
      "byteLimit": 2048000,
      "rowLimit": 10000
     },
     "inputWidgets": {},
     "nuid": "3c6478a1-f07a-4804-bf32-363e0485c27e",
     "showTitle": false,
     "title": ""
    }
   },
   "outputs": [],
   "source": [
    "from sklearn import datasets\n",
    "import pandas as pd\n",
    "from sklearn.model_selection import train_test_split\n",
    "from sklearn.preprocessing import  PolynomialFeatures, StandardScaler\n",
    "from sklearn.linear_model import LinearRegression, Ridge, Lasso, ElasticNet\n",
    "from sklearn.metrics import mean_squared_error\n",
    "import numpy as np\n",
    "import matplotlib.pyplot as plt\n",
    "\n",
    "plt.rcParams[\"figure.figsize\"] = (20,15)"
   ]
  },
  {
   "cell_type": "markdown",
   "metadata": {
    "application/vnd.databricks.v1+cell": {
     "cellMetadata": {
      "byteLimit": 2048000,
      "rowLimit": 10000
     },
     "inputWidgets": {},
     "nuid": "3611516e-79b5-473e-8eae-01d7fb43621e",
     "showTitle": false,
     "title": ""
    }
   },
   "source": [
    "## Load data\n",
    "\n",
    "We load the Boston data from `sklearn.datasets` and split it into train and test data. As in the last notebook, we generate polynomial features of the second degree. We will work further with `x_train_poly`, `y_train`, `x_test_poly` and `y_test`. \n",
    "Run the cell below."
   ]
  },
  {
   "cell_type": "code",
   "execution_count": 0,
   "metadata": {
    "application/vnd.databricks.v1+cell": {
     "cellMetadata": {
      "byteLimit": 2048000,
      "rowLimit": 10000
     },
     "inputWidgets": {},
     "nuid": "afc3dbdd-4ee0-4139-9ae4-e26fe33634e5",
     "showTitle": false,
     "title": ""
    }
   },
   "outputs": [],
   "source": [
    "# The data set is originally downloaded from  \"http://lib.stat.cmu.edu/datasets/boston\".\n",
    "\n",
    "raw_df = pd.read_csv('../../../Data/Boston.csv')\n",
    "\n",
    "y = pd.DataFrame(raw_df['target'])\n",
    "x = pd.DataFrame(raw_df.iloc[:,1:-1])\n",
    "\n",
    "X_train, X_test, y_train, y_test = train_test_split(x, y, random_state=42)\n",
    "\n",
    "poly = PolynomialFeatures(2)\n",
    "x_train_poly = poly.fit_transform(X_train)\n",
    "x_test_poly = poly.transform(X_test)\n",
    "# depending on the version of sklearn, this will cause an error\n",
    "# in that case, replace \"get_feature_names_out\" with \"get_feature_names\"\n",
    "poly_names = poly.get_feature_names_out()\n",
    "\n",
    "names_dict = {'x0': X_train.columns[0],\n",
    "             'x1': X_train.columns[1],\n",
    "             'x2': X_train.columns[2],\n",
    "             'x3': X_train.columns[3],\n",
    "             'x4': X_train.columns[4],\n",
    "             'x5': X_train.columns[5],\n",
    "             'x6': X_train.columns[6],\n",
    "             'x7': X_train.columns[7],\n",
    "             'x8': X_train.columns[8],\n",
    "             'x9': X_train.columns[9],\n",
    "             'x10': X_train.columns[10],\n",
    "             'x11': X_train.columns[11],\n",
    "             'x12': X_train.columns[12]\n",
    "            }"
   ]
  },
  {
   "cell_type": "markdown",
   "metadata": {
    "application/vnd.databricks.v1+cell": {
     "cellMetadata": {
      "byteLimit": 2048000,
      "rowLimit": 10000
     },
     "inputWidgets": {},
     "nuid": "36180678-60e3-4994-8adc-0064d5fc9e97",
     "showTitle": false,
     "title": ""
    }
   },
   "source": [
    "### Exercise\n",
    "\n",
    "How many features are there in total?"
   ]
  },
  {
   "cell_type": "code",
   "execution_count": 0,
   "metadata": {
    "application/vnd.databricks.v1+cell": {
     "cellMetadata": {
      "byteLimit": 2048000,
      "rowLimit": 10000
     },
     "inputWidgets": {},
     "nuid": "d44d13e8-a67e-499d-9deb-5bf97959811f",
     "showTitle": false,
     "title": ""
    }
   },
   "outputs": [],
   "source": [
    "# Task\n"
   ]
  },
  {
   "cell_type": "markdown",
   "metadata": {
    "application/vnd.databricks.v1+cell": {
     "cellMetadata": {
      "byteLimit": 2048000,
      "rowLimit": 10000
     },
     "inputWidgets": {},
     "nuid": "04291f60-b8cc-4fc0-8581-daba2c9c2c7b",
     "showTitle": false,
     "title": ""
    }
   },
   "source": [
    "We will further use the user-defined function `plot_coef` that takes as input coefficients as output of the fitted model. It plots the coefficient values and calculates average."
   ]
  },
  {
   "cell_type": "code",
   "execution_count": 0,
   "metadata": {
    "application/vnd.databricks.v1+cell": {
     "cellMetadata": {
      "byteLimit": 2048000,
      "rowLimit": 10000
     },
     "inputWidgets": {},
     "nuid": "a438ab9c-e673-4101-8376-9efecff3f8fd",
     "showTitle": false,
     "title": ""
    }
   },
   "outputs": [],
   "source": [
    "def plot_coef(lr_coef):\n",
    "    '''\n",
    "    The function plots coefficients' values from the linear model.\n",
    "    --------\n",
    "    params:\n",
    "        lr_coef: coefficients as they are returned from the classifier's attributes\n",
    "    '''\n",
    "    lr_coef = lr_coef.reshape(-1,1)\n",
    "    print(f'AVG coef value: {np.mean(lr_coef)}')\n",
    "    plt.plot(lr_coef)\n",
    "    plt.title(\"Coefficients' values\")\n",
    "    plt.show()"
   ]
  },
  {
   "cell_type": "markdown",
   "metadata": {
    "application/vnd.databricks.v1+cell": {
     "cellMetadata": {
      "byteLimit": 2048000,
      "rowLimit": 10000
     },
     "inputWidgets": {},
     "nuid": "4ee8891a-2520-482d-b693-2d5499e8e1be",
     "showTitle": false,
     "title": ""
    }
   },
   "source": [
    "## Fit linear regression without regularization\n",
    "\n",
    "### Exercise\n",
    "\n",
    "- Instantiate alinear regression under the variable `lr`.\n",
    "- Fit `lr` to `x_train_poly`, `y_train `.\n",
    "- Predict with `lr` on `x_train_poly` and store the results to `y_hat_train`.\n",
    "- Predict with `lr` on `x_test_poly` and store the results to `y_hat_test`.\n",
    "- Return the RMSE for `y_hat_train` as well as for `y_hat_test`. \n",
    "\n",
    "How do you interpret the difference in performance of the model on train and on test dataset? Can you tell if the model overfits/underfits?"
   ]
  },
  {
   "cell_type": "code",
   "execution_count": 0,
   "metadata": {
    "application/vnd.databricks.v1+cell": {
     "cellMetadata": {
      "byteLimit": 2048000,
      "rowLimit": 10000
     },
     "inputWidgets": {},
     "nuid": "b7ec2d59-2f91-41cc-b213-1a81e9300f21",
     "showTitle": false,
     "title": ""
    }
   },
   "outputs": [],
   "source": [
    "# Task\n",
    "\n",
    "lr = ...\n",
    "...\n",
    "\n",
    "y_hat_train = ...\n",
    "y_hat_test = ...\n",
    "\n",
    "rmse_train = ...\n",
    "rmse_test = ...\n",
    "print(f\"RMSE train: {rmse_train}\")\n",
    "print(f\"RMSE test: {rmse_test}\")"
   ]
  },
  {
   "cell_type": "markdown",
   "metadata": {
    "application/vnd.databricks.v1+cell": {
     "cellMetadata": {
      "byteLimit": 2048000,
      "rowLimit": 10000
     },
     "inputWidgets": {},
     "nuid": "52d1eb1e-f9ae-4bed-b97a-87fe189df56c",
     "showTitle": false,
     "title": ""
    }
   },
   "source": [
    "The RMSE is almost twice as big for the test set than for the train set. This suggests overfitting and a poor generalization power of the model.\n",
    "\n",
    "We use the function `plot_coef` on the coefficients of the fitted model to see the values of the coefficients and the average value of the coefficients."
   ]
  },
  {
   "cell_type": "code",
   "execution_count": 0,
   "metadata": {
    "application/vnd.databricks.v1+cell": {
     "cellMetadata": {
      "byteLimit": 2048000,
      "rowLimit": 10000
     },
     "inputWidgets": {},
     "nuid": "c26366e6-dd02-4990-b25e-e9f885e7ede1",
     "showTitle": false,
     "title": ""
    }
   },
   "outputs": [],
   "source": [
    "plot_coef(lr.coef_)"
   ]
  },
  {
   "cell_type": "markdown",
   "metadata": {
    "application/vnd.databricks.v1+cell": {
     "cellMetadata": {
      "byteLimit": 2048000,
      "rowLimit": 10000
     },
     "inputWidgets": {},
     "nuid": "a6b37f37-2354-49c3-8186-9f88a40bb005",
     "showTitle": false,
     "title": ""
    }
   },
   "source": [
    "The coefficients in combination with the error values on train and test suggest that we deal here with overfitting of the model on the given set of polynomial features. We should therefore use **regularization**. \n",
    "\n",
    "## Standardization\n",
    "\n",
    "Before fitting any regularized model, the scaling of the features is crucial. Otherwise the regularization would not be fair to features of different scales. Regularized linear models assume that the inputs to the model have a zero mean and a variance in the same magnitude. `StandarScaler()` deducts the mean and divides by the standard deviation. \n",
    "\n",
    "### Exercise\n",
    "\n",
    "- Instantiate `StandardScaler()` under the name `scaler`.\n",
    "- Apply the `fit_transform` method with the input `x_train_poly` to `scaler` and store the result into `x_train_scaled`.\n",
    "- Once the scaler is fit to `x_train_poly` you can directly transform `x_test_poly` and store it in the variable `X_test_scaled`. You never want to fit on a test sample, because that way information from the test data might leak. Test data serves only for evaluation."
   ]
  },
  {
   "cell_type": "code",
   "execution_count": 0,
   "metadata": {
    "application/vnd.databricks.v1+cell": {
     "cellMetadata": {
      "byteLimit": 2048000,
      "rowLimit": 10000
     },
     "inputWidgets": {},
     "nuid": "c7ec5df9-1728-4d7b-86a6-74ff41439643",
     "showTitle": false,
     "title": ""
    }
   },
   "outputs": [],
   "source": [
    "# Task\n",
    "\n",
    "\n",
    "scaler = ...\n",
    "X_train_scaled = ...\n",
    "X_test_scaled = ..."
   ]
  },
  {
   "cell_type": "markdown",
   "metadata": {
    "application/vnd.databricks.v1+cell": {
     "cellMetadata": {
      "byteLimit": 2048000,
      "rowLimit": 10000
     },
     "inputWidgets": {},
     "nuid": "308d173c-cd87-4bd8-a01a-ae7d38ac108b",
     "showTitle": false,
     "title": ""
    }
   },
   "source": [
    "If you applied the standardization correctly you should see on the bottom chart the distributions of all the features concentrated around zero with similar ranges of deviation."
   ]
  },
  {
   "cell_type": "code",
   "execution_count": 0,
   "metadata": {
    "application/vnd.databricks.v1+cell": {
     "cellMetadata": {
      "byteLimit": 2048000,
      "rowLimit": 10000
     },
     "inputWidgets": {},
     "nuid": "8ac47330-c364-4def-a52d-5fc9592a882f",
     "showTitle": false,
     "title": ""
    }
   },
   "outputs": [],
   "source": [
    "plt.figure(figsize=(10,12))\n",
    "plt.subplot(2,1,1)\n",
    "plt.title('Original polynomial features')\n",
    "plt.boxplot(x_train_poly)\n",
    "\n",
    "plt.subplot(2,1,2)\n",
    "plt.title('Scaled features')\n",
    "plt.boxplot(X_train_scaled)\n",
    "\n",
    "plt.show()"
   ]
  },
  {
   "cell_type": "markdown",
   "metadata": {
    "application/vnd.databricks.v1+cell": {
     "cellMetadata": {
      "byteLimit": 2048000,
      "rowLimit": 10000
     },
     "inputWidgets": {},
     "nuid": "05880065-f0ac-4782-bc21-a6a8513d80d4",
     "showTitle": false,
     "title": ""
    }
   },
   "source": [
    "# Lasso\n",
    "Documentation: https://scikit-learn.org/stable/modules/generated/sklearn.linear_model.Lasso.html\n",
    "\n",
    "### Exercise\n",
    "- Instantiate a Lasso regression under the name `lr_l`.\n",
    "- Fit the model to `X_train_scaled` and `y_train`.\n",
    "- Predict on `X_train_scaled` and `X_test_scaled` and store the predictions in `y_hat_train` and `y_hat_test`, respectively.\n",
    "\n",
    "Did the overfit change?"
   ]
  },
  {
   "cell_type": "code",
   "execution_count": 0,
   "metadata": {
    "application/vnd.databricks.v1+cell": {
     "cellMetadata": {
      "byteLimit": 2048000,
      "rowLimit": 10000
     },
     "inputWidgets": {},
     "nuid": "1a8455ea-92e9-4d5a-b559-a603dba3fa59",
     "showTitle": false,
     "title": ""
    }
   },
   "outputs": [],
   "source": [
    "# Task\n",
    "\n",
    "\n",
    "from sklearn.linear_model import Lasso\n",
    "\n",
    "lr_l = ...\n",
    "...\n",
    "\n",
    "y_hat_train = ...\n",
    "y_hat_test = ...\n",
    "\n",
    "rmse_train = \n",
    "rmse_test = \n",
    "print(f\"RMSE train: {rmse_train}\")\n",
    "print(f\"RMSE test: {rmse_test}\")"
   ]
  },
  {
   "cell_type": "markdown",
   "metadata": {
    "application/vnd.databricks.v1+cell": {
     "cellMetadata": {
      "byteLimit": 2048000,
      "rowLimit": 10000
     },
     "inputWidgets": {},
     "nuid": "f58f2088-67c6-4389-8a80-6f3be70042b1",
     "showTitle": false,
     "title": ""
    }
   },
   "source": [
    "The performance seems to be comparable on train and test dataset. Hence, the model's generalization power is better now.\n",
    "\n",
    "### Exercise\n",
    "\n",
    "Use `plot_coef()` on the coefficients of the lasso model."
   ]
  },
  {
   "cell_type": "code",
   "execution_count": 0,
   "metadata": {
    "application/vnd.databricks.v1+cell": {
     "cellMetadata": {
      "byteLimit": 2048000,
      "rowLimit": 10000
     },
     "inputWidgets": {},
     "nuid": "ca762590-c957-4eaf-9362-3568d39c25e8",
     "showTitle": false,
     "title": ""
    }
   },
   "outputs": [],
   "source": [
    "# Task\n"
   ]
  },
  {
   "cell_type": "markdown",
   "metadata": {
    "application/vnd.databricks.v1+cell": {
     "cellMetadata": {
      "byteLimit": 2048000,
      "rowLimit": 10000
     },
     "inputWidgets": {},
     "nuid": "2d78663b-93e1-4cd1-b84e-b1d803037d1a",
     "showTitle": false,
     "title": ""
    }
   },
   "source": [
    "The average value of the coefficients is much smaller now. Also, many of the coefficients are equal to 0."
   ]
  },
  {
   "cell_type": "code",
   "execution_count": 0,
   "metadata": {
    "application/vnd.databricks.v1+cell": {
     "cellMetadata": {
      "byteLimit": 2048000,
      "rowLimit": 10000
     },
     "inputWidgets": {},
     "nuid": "c28182de-df6b-4579-ae37-60daba15a042",
     "showTitle": false,
     "title": ""
    }
   },
   "outputs": [],
   "source": [
    "print(f'After applying Lasso on polynomial scaled features we remain with {np.sum(lr_l.coef_!=0)} variables.')\n",
    "print('\\nThe selected variables are:\\n')\n",
    "[print(val) for val in pd.DataFrame(poly_names)[lr_l.coef_!=0].values];\n",
    "print('\\nmapping from polynomial names to original feature names: ')\n",
    "display(names_dict)"
   ]
  },
  {
   "cell_type": "markdown",
   "metadata": {
    "application/vnd.databricks.v1+cell": {
     "cellMetadata": {
      "byteLimit": 2048000,
      "rowLimit": 10000
     },
     "inputWidgets": {},
     "nuid": "1704784b-fafe-418a-b66a-db6ee6443a3c",
     "showTitle": false,
     "title": ""
    }
   },
   "source": [
    "### Exercise\n",
    "\n",
    "- Take the subset of `X_train_scaled` with only those variables that have a non-zero coefficient and store it in the variable `x_train_lasso`\n",
    "- Do the same selection on `X_test_scaled` and save it to `x_test_lasso`.\n",
    "- How many variables are remaining? Check it with the cell above."
   ]
  },
  {
   "cell_type": "code",
   "execution_count": 0,
   "metadata": {
    "application/vnd.databricks.v1+cell": {
     "cellMetadata": {
      "byteLimit": 2048000,
      "rowLimit": 10000
     },
     "inputWidgets": {},
     "nuid": "648ff3f2-a3b3-4e4e-a598-36613b39696a",
     "showTitle": false,
     "title": ""
    }
   },
   "outputs": [],
   "source": [
    "# Task\n",
    "\n",
    "x_train_lasso = ...\n",
    "x_test_lasso = ...\n",
    "..."
   ]
  },
  {
   "cell_type": "markdown",
   "metadata": {
    "application/vnd.databricks.v1+cell": {
     "cellMetadata": {
      "byteLimit": 2048000,
      "rowLimit": 10000
     },
     "inputWidgets": {},
     "nuid": "a649b03b-89ce-496c-937c-bf746b3d4192",
     "showTitle": false,
     "title": ""
    }
   },
   "source": [
    "## Ridge"
   ]
  },
  {
   "cell_type": "markdown",
   "metadata": {
    "application/vnd.databricks.v1+cell": {
     "cellMetadata": {
      "byteLimit": 2048000,
      "rowLimit": 10000
     },
     "inputWidgets": {},
     "nuid": "d37c6589-d212-481d-9fbf-9275d2d065f0",
     "showTitle": false,
     "title": ""
    }
   },
   "source": [
    "https://scikit-learn.org/stable/modules/generated/sklearn.linear_model.Ridge.html\n",
    "\n",
    "We have effectively performed a feature selection with Lasso. Now we will build on it and use only the selected features in `x_train_lasso` and `x_test_lasso`. \n",
    "\n",
    "Let's try different values for the strength of the optimization, alpha. By default it is equal to 1 and it must be a positive value. Larger values specify stronger regularization. Alpha can be set also in Lasso and Elastic Net.\n",
    "\n",
    "### Exercise\n",
    "- Fit the ridge regression to `x_train_lasso` and `y_train` with the values of alpha being 0.001, 0.01, 0.1, 1, 10 and 100 to see the effect of the regularization strength.\n",
    "- Return the RMSE for `x_train_lasso` for each of the alpha options.\n",
    "- Select the parameter alpha for which the model has the best RMSE."
   ]
  },
  {
   "cell_type": "code",
   "execution_count": 0,
   "metadata": {
    "application/vnd.databricks.v1+cell": {
     "cellMetadata": {
      "byteLimit": 2048000,
      "rowLimit": 10000
     },
     "inputWidgets": {},
     "nuid": "91b30900-9b74-4939-b554-17889b327052",
     "showTitle": false,
     "title": ""
    }
   },
   "outputs": [],
   "source": [
    "# Task\n",
    "\n",
    "rmses = []\n",
    "alphas = [0.001, 0.01, 0.1, 1, 10, 100]\n",
    "\n",
    "for alpha in alphas:    \n",
    "    ...\n",
    "    ...\n",
    "    ...\n",
    "    ...\n",
    "\n",
    "..."
   ]
  },
  {
   "cell_type": "markdown",
   "metadata": {
    "application/vnd.databricks.v1+cell": {
     "cellMetadata": {
      "byteLimit": 2048000,
      "rowLimit": 10000
     },
     "inputWidgets": {},
     "nuid": "66396beb-0b34-4765-959b-1e187f408eaf",
     "showTitle": false,
     "title": ""
    }
   },
   "source": [
    "### Exercise\n",
    "- Fit the model with the best performance on train data.\n",
    "- Calculate the RMSE on `x_test_lasso` for the best model."
   ]
  },
  {
   "cell_type": "code",
   "execution_count": 0,
   "metadata": {
    "application/vnd.databricks.v1+cell": {
     "cellMetadata": {
      "byteLimit": 2048000,
      "rowLimit": 10000
     },
     "inputWidgets": {},
     "nuid": "4765a48c-1890-4572-8aca-b5237e58d0b6",
     "showTitle": false,
     "title": ""
    }
   },
   "outputs": [],
   "source": [
    "# Task\n",
    "\n",
    "...\n",
    "\n",
    "rmse_test = ...\n",
    "print(f\"RMSE test: {np.round(rmse_test,2)}\")"
   ]
  },
  {
   "cell_type": "markdown",
   "metadata": {
    "application/vnd.databricks.v1+cell": {
     "cellMetadata": {
      "byteLimit": 2048000,
      "rowLimit": 10000
     },
     "inputWidgets": {},
     "nuid": "9cde4995-d4f9-4bf1-83e4-51fb4d07cea8",
     "showTitle": false,
     "title": ""
    }
   },
   "source": [
    "The RMSEs on the train and the test set are similar!\n",
    "\n",
    "### Exercise\n",
    "Use the function `plot_coef` on the coefficients from the best model to see the coefficients values with their average."
   ]
  },
  {
   "cell_type": "code",
   "execution_count": 0,
   "metadata": {
    "application/vnd.databricks.v1+cell": {
     "cellMetadata": {
      "byteLimit": 2048000,
      "rowLimit": 10000
     },
     "inputWidgets": {},
     "nuid": "ed082e2a-146e-4792-9758-330dc599807d",
     "showTitle": false,
     "title": ""
    }
   },
   "outputs": [],
   "source": [
    "# Task\n"
   ]
  },
  {
   "cell_type": "markdown",
   "metadata": {
    "application/vnd.databricks.v1+cell": {
     "cellMetadata": {
      "byteLimit": 2048000,
      "rowLimit": 10000
     },
     "inputWidgets": {},
     "nuid": "62e26205-ec77-406c-8b58-129136578f4b",
     "showTitle": false,
     "title": ""
    }
   },
   "source": [
    "# Elastic Net"
   ]
  },
  {
   "cell_type": "markdown",
   "metadata": {
    "application/vnd.databricks.v1+cell": {
     "cellMetadata": {
      "byteLimit": 2048000,
      "rowLimit": 10000
     },
     "inputWidgets": {},
     "nuid": "c2a97535-d28c-4ce8-94c5-4f899ba14637",
     "showTitle": false,
     "title": ""
    }
   },
   "source": [
    "Elastic Net is a combination of Lasso and Ridge which is defined by a parameter `l1_ratio`. If it is equal to 1 the model is equivalent to Lasso, if it is 0 then it is as if we had a Ridge regression. The regularization strength alpha can be defined just as in Ridge or Lasso. \n",
    "\n",
    "You can enforce the values of the parameters to be positive with the parameter `positive = True`. Such an option is also available for Lasso. \n",
    "\n",
    "For all the variations of the linear regression you can enforce it to fit the model without an intercept. This can be done by setting the parameter `fit_intercept=False`.\n",
    "\n",
    "There is an option to scale data by the norm of each feature. If normalization is applied to fitting of the model it is automatically also applied to the `predict()`. We can use this method instead of standard scaling done at the beginning. \n",
    "\n",
    "\n",
    "### Exercise\n",
    "\n",
    "Experiment with the parameters of `ElasticNet()`. Fit the model to `x_train_lasso` and `y_train` with different set of options, e.g.\n",
    "- `positive=True`\n",
    "- `fit_intercept=False`\n",
    "- `l1_ratio = 0`, `0.5`, `1`\n",
    "- `alpha = 0.001`, `0.01`, `0.1`, `1`, `10`, `100`\n",
    "- `normalize=True`    \n",
    "\n",
    "Plot the coefficients with `plot_coef` to see the effect on the coefficients.\n",
    "Return the RMSE on train and test set."
   ]
  },
  {
   "cell_type": "code",
   "execution_count": 0,
   "metadata": {
    "application/vnd.databricks.v1+cell": {
     "cellMetadata": {
      "byteLimit": 2048000,
      "rowLimit": 10000
     },
     "inputWidgets": {},
     "nuid": "210f0c14-dc3d-4b80-a586-86f7a549deb6",
     "showTitle": false,
     "title": ""
    }
   },
   "outputs": [],
   "source": [
    "# Task\n",
    "\n",
    "...\n",
    "\n",
    "rmse_train = ...\n",
    "rmse_test = ...\n",
    "\n",
    "print(f\"RMSE train: {rmse_train}\")\n",
    "print(f\"RMSE test: {rmse_test}\")"
   ]
  },
  {
   "cell_type": "markdown",
   "metadata": {
    "application/vnd.databricks.v1+cell": {
     "cellMetadata": {
      "byteLimit": 2048000,
      "rowLimit": 10000
     },
     "inputWidgets": {},
     "nuid": "df7cfa5a-f68c-4236-af55-8171e26f7de3",
     "showTitle": false,
     "title": ""
    }
   },
   "source": [
    "------------------------------------------------------------------------------------------------------------\n",
    "Material adapted for RBI internal purposes with full permissions from original authors. [Source](https://github.com/zatkopatrik/authentic-data-science)"
   ]
  }
 ],
 "metadata": {
  "application/vnd.databricks.v1+notebook": {
   "dashboards": [],
   "language": "python",
   "notebookMetadata": {
    "pythonIndentUnit": 2
   },
   "notebookName": "2_Regularized_Linear_Models_Exercise_jupyter",
   "widgets": {}
  }
 },
 "nbformat": 4,
 "nbformat_minor": 0
}
