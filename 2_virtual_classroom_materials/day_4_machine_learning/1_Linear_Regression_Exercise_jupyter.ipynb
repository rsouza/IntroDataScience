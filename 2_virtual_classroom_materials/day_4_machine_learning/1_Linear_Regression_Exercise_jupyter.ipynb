{
 "cells": [
  {
   "cell_type": "code",
   "execution_count": 0,
   "metadata": {
    "application/vnd.databricks.v1+cell": {
     "cellMetadata": {
      "byteLimit": 2048000,
      "rowLimit": 10000
     },
     "inputWidgets": {},
     "nuid": "f0436ddc-d128-408f-8b25-f9712ee67f69",
     "showTitle": false,
     "title": ""
    }
   },
   "outputs": [],
   "source": [
    "import numpy as np\n",
    "import matplotlib.pyplot as plt\n",
    "import pandas as pd\n",
    "import seaborn as sns\n",
    "plt.rcParams[\"figure.figsize\"] = (15,4) # the charts will have a size of width = 15, height = 4\n",
    "\n",
    "\n",
    "from sklearn.metrics import mean_squared_error, mean_absolute_error\n",
    "from sklearn.linear_model import LinearRegression\n",
    "from sklearn.preprocessing import StandardScaler, PolynomialFeatures\n",
    "from sklearn.model_selection import train_test_split\n",
    "from sklearn import datasets\n",
    "\n",
    "#%matplotlib inline"
   ]
  },
  {
   "cell_type": "markdown",
   "metadata": {
    "application/vnd.databricks.v1+cell": {
     "cellMetadata": {
      "byteLimit": 2048000,
      "rowLimit": 10000
     },
     "inputWidgets": {},
     "nuid": "a50ca552-c2cf-407a-93a1-35b20b68ca00",
     "showTitle": false,
     "title": ""
    }
   },
   "source": [
    "# Linear regression with 1 feature\n",
    "## Generate a dataset for Linear Regression\n",
    "For this lesson we will create an artificial dataset using the\n",
    "[`sklearn.datasets`](https://scikit-learn.org/stable/modules/classes.html#module-sklearn.datasets)\n",
    "module of sklearn. \n",
    "\n",
    "- With the\n",
    "[`make_regression()`](https://scikit-learn.org/stable/modules/generated/sklearn.datasets.make_regression.html) \n",
    "function of\n",
    "[`datasets`](https://scikit-learn.org/stable/modules/classes.html#module-sklearn.datasets)\n",
    "we can generate a synthetical dataset for a regression problem.\n",
    "- Here we generate 100 observations with 1 explanatory variable and a standard deviation for the gaussian noise of 40.\n",
    "- If you want to read the documentation you can always **run the function name with a questionmark before the name** like in the cell below. This will open the documentation directly in jupyter notebok. You can also read the documentation on the internet, e.g. https://scikit-learn.org/stable/modules/generated/sklearn.datasets.make_regression.html"
   ]
  },
  {
   "cell_type": "code",
   "execution_count": 0,
   "metadata": {
    "application/vnd.databricks.v1+cell": {
     "cellMetadata": {
      "byteLimit": 2048000,
      "rowLimit": 10000
     },
     "inputWidgets": {},
     "nuid": "6f32c900-5770-46b8-b1fb-00e443285b09",
     "showTitle": false,
     "title": ""
    }
   },
   "outputs": [],
   "source": [
    "?datasets.make_regression"
   ]
  },
  {
   "cell_type": "code",
   "execution_count": 0,
   "metadata": {
    "application/vnd.databricks.v1+cell": {
     "cellMetadata": {
      "byteLimit": 2048000,
      "rowLimit": 10000
     },
     "inputWidgets": {},
     "nuid": "5af6d529-8027-436a-a27b-c769c6c10e78",
     "showTitle": false,
     "title": ""
    }
   },
   "outputs": [],
   "source": [
    "x, y, coeff = datasets.make_regression(n_samples = 100, \n",
    "                                       n_features = 1,\n",
    "                                       noise = 40,\n",
    "                                       coef = True,\n",
    "                                       bias = 50,\n",
    "                                       random_state = 42)\n",
    "\n",
    "# Funny Note\n",
    "# if you have read Hitchiker's Guide to the Galaxy then\n",
    "# you know that 42 is the universal answer to life, the universe and everything\n",
    "# https://www.quora.com/Why-do-we-choose-random-state-as-42-very-often-during-training-a-machine-learning-model"
   ]
  },
  {
   "cell_type": "markdown",
   "metadata": {
    "application/vnd.databricks.v1+cell": {
     "cellMetadata": {
      "byteLimit": 2048000,
      "rowLimit": 10000
     },
     "inputWidgets": {},
     "nuid": "2c3286ea-e880-4eaa-904f-678caf69bebd",
     "showTitle": false,
     "title": ""
    }
   },
   "source": [
    "We can plot x against y to see what the data look like."
   ]
  },
  {
   "cell_type": "code",
   "execution_count": 0,
   "metadata": {
    "application/vnd.databricks.v1+cell": {
     "cellMetadata": {
      "byteLimit": 2048000,
      "rowLimit": 10000
     },
     "inputWidgets": {},
     "nuid": "f3f30ffd-69cc-4c61-93ab-492d6909594d",
     "showTitle": false,
     "title": ""
    }
   },
   "outputs": [],
   "source": [
    "#plt.figure(figsize=(15,4))\n",
    "plt.scatter(x,y)\n",
    "plt.title('Data')\n",
    "plt.show()"
   ]
  },
  {
   "cell_type": "markdown",
   "metadata": {
    "application/vnd.databricks.v1+cell": {
     "cellMetadata": {
      "byteLimit": 2048000,
      "rowLimit": 10000
     },
     "inputWidgets": {},
     "nuid": "5421e2b0-a458-41a7-a1be-8cb1cc0f9699",
     "showTitle": false,
     "title": ""
    }
   },
   "source": [
    "Run the user defined function below which plots the observations and a line, and calculates the RMSE. You will use this function in the exercises!\n",
    "It takes as inputs x and y, the intercept value and a coefficient value."
   ]
  },
  {
   "cell_type": "code",
   "execution_count": 0,
   "metadata": {
    "application/vnd.databricks.v1+cell": {
     "cellMetadata": {
      "byteLimit": 2048000,
      "rowLimit": 10000
     },
     "inputWidgets": {},
     "nuid": "e9f8d7ff-edcd-427a-840d-6de2f6bb4489",
     "showTitle": false,
     "title": ""
    }
   },
   "outputs": [],
   "source": [
    "def plot_regression(x, y, bias, coeff):\n",
    "    \"\"\"\n",
    "    The function plots a scatterpot of x, y and a line with bias and coefficient. It also calculates the RMSE.\n",
    "    ---------------\n",
    "    params:\n",
    "    - x: points on the x-axis\n",
    "    - y: points on the y-axis\n",
    "    - bias: intercept of the line\n",
    "    - coeff: slope of the line\n",
    "     \"\"\"\n",
    "    y_hat = bias + x * coeff # predictions of x can be calculated easily \n",
    "                             # by multiplying the features with coefficients\n",
    "    print(f'MSE2 : {round(mean_squared_error(y,y_hat),1)}') \n",
    "    print(f'RMSE2 : {round(np.sqrt(mean_squared_error(y,y_hat),1))}')\n",
    "\n",
    "    # chart\n",
    "    fig, ax = plt.subplots()\n",
    "\n",
    "    ax.set_title('Observations with regression line')\n",
    "    ax.scatter(x,y) # scatter\n",
    "    ax.axline((0, bias), slope=coeff, ls='--', c='r') # line"
   ]
  },
  {
   "cell_type": "markdown",
   "metadata": {
    "application/vnd.databricks.v1+cell": {
     "cellMetadata": {},
     "inputWidgets": {},
     "nuid": "4d5d7902-6d49-4190-a0e4-c722303cc8b8",
     "showTitle": false,
     "title": ""
    }
   },
   "source": [
    "### Exercise \n",
    "We want to fit a model that looks like this: \n",
    "$$\\widehat{y} = \\beta_0 + \\beta_1 x_1 ,$$ \n",
    "where \\\\(\\beta_0\\\\) is a bias term and \\\\(\\beta_1\\\\) is the slope of the line.\n",
    "\n",
    "Use our user-defined function `plot_regression()` and try different values of bias and coeff of the regression line. Observe the change in the values of the cost function and the behavior of the line with the change of the parameters. \n",
    "- What does a line look like if the coeff is positive, negative or zero?\n",
    "- What is the influence of the bias term on the line?\n",
    "- Can you guess a suitable set of parameters? \n",
    "- What are the units of the MSE and RMSE in relation to dependent variable y? Which one is more intuitive to use for interpretation?"
   ]
  },
  {
   "cell_type": "code",
   "execution_count": 0,
   "metadata": {
    "application/vnd.databricks.v1+cell": {
     "cellMetadata": {
      "byteLimit": 2048000,
      "rowLimit": 10000
     },
     "inputWidgets": {},
     "nuid": "670ac233-abd2-4532-af80-901b48be098a",
     "showTitle": false,
     "title": ""
    }
   },
   "outputs": [],
   "source": [
    "# Task 1: Try different values of bias and coeffs\n",
    "\n",
    "# plot_regression(x, y, bias=..., coeff=...)"
   ]
  },
  {
   "cell_type": "markdown",
   "metadata": {
    "application/vnd.databricks.v1+cell": {
     "cellMetadata": {},
     "inputWidgets": {},
     "nuid": "43b7a7f1-f8c5-4256-8352-c5300a1b40ac",
     "showTitle": false,
     "title": ""
    }
   },
   "source": [
    "## Normal Equation\n",
    "\n",
    "The function `normal_eq()`  computes \\\\(\\widehat{\\beta}= (X^T X)^{-1} X^T y \\\\). It takes as input X and y and returns optimal values for the bias (intercept) term and the coefficient (slope)."
   ]
  },
  {
   "cell_type": "code",
   "execution_count": 0,
   "metadata": {
    "application/vnd.databricks.v1+cell": {
     "cellMetadata": {
      "byteLimit": 2048000,
      "rowLimit": 10000
     },
     "inputWidgets": {},
     "nuid": "21375d3a-c69b-481b-8ba5-3950f86c2ebd",
     "showTitle": false,
     "title": ""
    }
   },
   "outputs": [],
   "source": [
    "def normal_eq(x,y): \n",
    "    \"\"\"\n",
    "    The function analytically computes the optimal set of coefficients given x and y. \n",
    "    A vector of ones is appended as the first vector of matrix x to take into account the bias term. \n",
    "    ---------------\n",
    "    params:\n",
    "    - x: input features matrix\n",
    "    - y: target variable\n",
    "    returns: \n",
    "    - beta_hat: optimal set of coefficients for linear regression\n",
    "    \"\"\"\n",
    "    X = np.c_[np.ones(len(x)),x]\n",
    "    beta_hat = np.linalg.inv(X.T.dot(X)).dot(X.T).dot(y)\n",
    "    print(f\"Optimal set of coefficients: {beta_hat}\")\n",
    "    return(beta_hat)"
   ]
  },
  {
   "cell_type": "markdown",
   "metadata": {
    "application/vnd.databricks.v1+cell": {
     "cellMetadata": {},
     "inputWidgets": {},
     "nuid": "ae190256-5e16-4d64-a4dd-bc2142bcd3d0",
     "showTitle": false,
     "title": ""
    }
   },
   "source": [
    "### Exercise\n",
    "\n",
    "- Use our user-defined function `normal_eq()` on the input features x and the output vector y.\n",
    "- Use the returned values of the bias and coef in the `plot_regression()` function.\n",
    "\n",
    "Was your guess for the bias and coeff value from the previous exercise close enough?"
   ]
  },
  {
   "cell_type": "code",
   "execution_count": 0,
   "metadata": {
    "application/vnd.databricks.v1+cell": {
     "cellMetadata": {
      "byteLimit": 2048000,
      "rowLimit": 10000
     },
     "inputWidgets": {},
     "nuid": "bf1e2b2b-b726-4355-a50e-50816d2c9f4c",
     "showTitle": false,
     "title": ""
    }
   },
   "outputs": [],
   "source": [
    "# Task 2: use normal_eq() and find coeffs\n",
    "\n",
    "#..., ... = normal_eq(x, y) \n",
    "#plot_regression(..., ..., ..., ...)"
   ]
  },
  {
   "cell_type": "markdown",
   "metadata": {
    "application/vnd.databricks.v1+cell": {
     "cellMetadata": {},
     "inputWidgets": {},
     "nuid": "4b22a23d-3bdf-4956-a9e9-392454371abf",
     "showTitle": false,
     "title": ""
    }
   },
   "source": [
    "## Sklearn Linear Regression\n",
    "\n",
    "Here we explore the linear regression from scikit learn for the first time. Help yourself with [examples from the documentation](https://scikit-learn.org/stable/modules/generated/sklearn.linear_model.LinearRegression.html) if needed: \n",
    "\n",
    "### Exercise\n",
    "- Use\n",
    "[`LinearRegression()`](https://scikit-learn.org/stable/modules/generated/sklearn.linear_model.LinearRegression.html)\n",
    "from\n",
    "[`sklearn.linear_model`](https://scikit-learn.org/stable/modules/classes.html#module-sklearn.linear_model)\n",
    "to fit the linear regression model on x, y.\n",
    "Look at the examples section in the documentation if you need help.\n",
    "- Return the coefficients for slope and intercept of the regression line.\n",
    "You can find them in the attributes section of the documentation.\n",
    "Store the values in the variables `lr_coef` and `lr_intercept`.\n",
    "Are these values the same as the ones from the normal equation?"
   ]
  },
  {
   "cell_type": "code",
   "execution_count": 0,
   "metadata": {
    "application/vnd.databricks.v1+cell": {
     "cellMetadata": {
      "byteLimit": 2048000,
      "rowLimit": 10000
     },
     "inputWidgets": {},
     "nuid": "d22250dc-bc40-4270-b43b-5a84819df83b",
     "showTitle": false,
     "title": ""
    }
   },
   "outputs": [],
   "source": [
    "# Task 3: implement linear regression\n",
    "\n",
    "lr = ...\n",
    "lr.fit(..., ...)\n",
    "lr_coef, lr_intercept = lr...., lr....\n",
    "print(f'Slope: {lr_coef}\\nBias: {lr_intercept}')"
   ]
  },
  {
   "cell_type": "markdown",
   "metadata": {
    "application/vnd.databricks.v1+cell": {
     "cellMetadata": {},
     "inputWidgets": {},
     "nuid": "ac0d1e70-c99c-4ba3-b36b-0629b70449a7",
     "showTitle": false,
     "title": ""
    }
   },
   "source": [
    "- Next, predict the value of the new observation. If needed use the [documentation](https://scikit-learn.org/stable/modules/generated/sklearn.linear_model.LinearRegression.html) for some examples."
   ]
  },
  {
   "cell_type": "code",
   "execution_count": 0,
   "metadata": {
    "application/vnd.databricks.v1+cell": {
     "cellMetadata": {
      "byteLimit": 2048000,
      "rowLimit": 10000
     },
     "inputWidgets": {},
     "nuid": "cdbf8309-3f06-4f25-8be2-f6fc9ae62e6f",
     "showTitle": false,
     "title": ""
    }
   },
   "outputs": [],
   "source": [
    "# Task 4: predict the value of new observations\n",
    "\n",
    "x_new = [[1.5], [0]]\n",
    "lr.predict(...)"
   ]
  },
  {
   "cell_type": "markdown",
   "metadata": {
    "application/vnd.databricks.v1+cell": {
     "cellMetadata": {},
     "inputWidgets": {},
     "nuid": "30f03914-9268-4886-b5c0-4384a4b26ad0",
     "showTitle": false,
     "title": ""
    }
   },
   "source": [
    "- Lastly, return the score of the model on x and y. You can read more about the score in the [documentation](https://scikit-learn.org/stable/modules/generated/sklearn.linear_model.LinearRegression.html#sklearn.linear_model.LinearRegression.score). The best value is 1. Usually it is between 0 and 1 but it can be also negative. The score is the [R-squared metric](https://en.wikipedia.org/wiki/Coefficient_of_determination) that can be used for the evaluation of the model."
   ]
  },
  {
   "cell_type": "code",
   "execution_count": 0,
   "metadata": {
    "application/vnd.databricks.v1+cell": {
     "cellMetadata": {
      "byteLimit": 2048000,
      "rowLimit": 10000
     },
     "inputWidgets": {},
     "nuid": "51d25dd7-dbf8-427e-ba9b-89106623bd0b",
     "showTitle": false,
     "title": ""
    }
   },
   "outputs": [],
   "source": [
    "# Task 5: return the score\n"
   ]
  },
  {
   "cell_type": "markdown",
   "metadata": {
    "application/vnd.databricks.v1+cell": {
     "cellMetadata": {},
     "inputWidgets": {},
     "nuid": "e636152f-fcf5-4a55-bd45-2a38318fe42f",
     "showTitle": false,
     "title": ""
    }
   },
   "source": [
    "## Outliers\n",
    "\n",
    "We will now add outliers to our dataset and save them under the names x2 and y2."
   ]
  },
  {
   "cell_type": "code",
   "execution_count": 0,
   "metadata": {
    "application/vnd.databricks.v1+cell": {
     "cellMetadata": {
      "byteLimit": 2048000,
      "rowLimit": 10000
     },
     "inputWidgets": {},
     "nuid": "0a13c1dc-da7a-4284-a200-c5cb455e4348",
     "showTitle": false,
     "title": ""
    }
   },
   "outputs": [],
   "source": [
    "x2 = np.append(x,[np.min(x)-0.1, np.min(x), np.min(x)-0.15]).reshape([-1,1])\n",
    "y2 = np.append(y, [-400,-300,-350]).reshape([-1,1])"
   ]
  },
  {
   "cell_type": "markdown",
   "metadata": {
    "application/vnd.databricks.v1+cell": {
     "cellMetadata": {},
     "inputWidgets": {},
     "nuid": "6d8ed5e9-cea8-4994-8f9a-2f2cf0ecc003",
     "showTitle": false,
     "title": ""
    }
   },
   "source": [
    "### Exercise\n",
    "\n",
    "Fit the linear regression to x2, y2 and store the bias in the variable `lr_outlier_intercept` and the slope in the variable `lr_outlier_coef`."
   ]
  },
  {
   "cell_type": "code",
   "execution_count": 0,
   "metadata": {
    "application/vnd.databricks.v1+cell": {
     "cellMetadata": {
      "byteLimit": 2048000,
      "rowLimit": 10000
     },
     "inputWidgets": {},
     "nuid": "322f67a5-8a14-4fd4-815d-549d6c103f7a",
     "showTitle": false,
     "title": ""
    }
   },
   "outputs": [],
   "source": [
    "# Task 6: Fit linear regression\n"
   ]
  },
  {
   "cell_type": "markdown",
   "metadata": {
    "application/vnd.databricks.v1+cell": {
     "cellMetadata": {},
     "inputWidgets": {},
     "nuid": "0848351e-d496-431b-9432-eaae82524d36",
     "showTitle": false,
     "title": ""
    }
   },
   "source": [
    "You can observe on the chart how outliers influence the regression line. Outlier treatment should be one of the first steps done before fitting a linear regression model, otherwise the results can be biased."
   ]
  },
  {
   "cell_type": "code",
   "execution_count": 0,
   "metadata": {
    "application/vnd.databricks.v1+cell": {
     "cellMetadata": {
      "byteLimit": 2048000,
      "rowLimit": 10000
     },
     "inputWidgets": {},
     "nuid": "4deb7c43-618f-4c71-aeee-35629301d37e",
     "showTitle": false,
     "title": ""
    }
   },
   "outputs": [],
   "source": [
    "fig, ax = plt.subplots()\n",
    "\n",
    "ax.scatter(x2, y2)\n",
    "ax.axline((0, lr_intercept), slope=lr_coef, ls='--', c=\"r\", label='original regression line')\n",
    "ax.axline((0, lr_outlier_intercept[0]), slope=lr_outlier_coef, ls='--', c='b', label='regression line with outliers')\n",
    "\n",
    "ax.legend();"
   ]
  },
  {
   "cell_type": "markdown",
   "metadata": {
    "application/vnd.databricks.v1+cell": {
     "cellMetadata": {},
     "inputWidgets": {},
     "nuid": "35ff7695-8da7-45c4-93ae-4cd21132692d",
     "showTitle": false,
     "title": ""
    }
   },
   "source": [
    "# Multiple Linear Regression"
   ]
  },
  {
   "cell_type": "markdown",
   "metadata": {
    "application/vnd.databricks.v1+cell": {
     "cellMetadata": {},
     "inputWidgets": {},
     "nuid": "92bfcb5d-5ab5-45c7-87e8-577910dccf67",
     "showTitle": false,
     "title": ""
    }
   },
   "source": [
    "## Load Dataset\n",
    "\n",
    "Load sklearn's inbuilt dataset for regression. If you want you can read the description of the dataset [here](http://lib.stat.cmu.edu/datasets/boston). It has 13 attributes that can be used for predicting house prices. "
   ]
  },
  {
   "cell_type": "code",
   "execution_count": 0,
   "metadata": {
    "application/vnd.databricks.v1+cell": {
     "cellMetadata": {
      "byteLimit": 2048000,
      "rowLimit": 10000
     },
     "inputWidgets": {},
     "nuid": "07c8ec87-94b9-440f-95f3-7b0c53f9a9ca",
     "showTitle": false,
     "title": ""
    }
   },
   "outputs": [],
   "source": [
    "raw_df = pd.read_csv('../../Data/Boston.csv')\n",
    "\n",
    "y = pd.DataFrame(raw_df['target'])\n",
    "x = pd.DataFrame(raw_df.iloc[:,1:-1])"
   ]
  },
  {
   "cell_type": "markdown",
   "metadata": {
    "application/vnd.databricks.v1+cell": {
     "cellMetadata": {},
     "inputWidgets": {},
     "nuid": "728fdaf3-0605-4caa-8813-6340951e29f1",
     "showTitle": false,
     "title": ""
    }
   },
   "source": [
    "## Train Test Split\n",
    "\n",
    "### Exercise \n",
    "Use the function [`train_test_split()`](https://scikit-learn.org/stable/modules/generated/sklearn.model_selection.train_test_split.html) to split the training data into training and testing datasets."
   ]
  },
  {
   "cell_type": "code",
   "execution_count": 0,
   "metadata": {
    "application/vnd.databricks.v1+cell": {
     "cellMetadata": {
      "byteLimit": 2048000,
      "rowLimit": 10000
     },
     "inputWidgets": {},
     "nuid": "9a706c93-8750-4630-837b-32855ca6f871",
     "showTitle": false,
     "title": ""
    }
   },
   "outputs": [],
   "source": [
    "# Task 7: use function train_test_split() to split the training data into training and testing dataset\n",
    "\n",
    "X_train, X_test, y_train, y_test = train_test_split(..., ..., random_state=42)"
   ]
  },
  {
   "cell_type": "markdown",
   "metadata": {
    "application/vnd.databricks.v1+cell": {
     "cellMetadata": {},
     "inputWidgets": {},
     "nuid": "8f1cc0a5-b001-4e7a-8e36-996f9be20120",
     "showTitle": false,
     "title": ""
    }
   },
   "source": [
    "## Fit the Model\n",
    "### Exercise\n",
    "- Instantiate the linear regression model.\n",
    "- Fit the model to the training data.\n",
    "- Print the value of the intercept of the model.\n",
    "- Return the values of the coefficients and save them under the variable `model_coef`."
   ]
  },
  {
   "cell_type": "code",
   "execution_count": 0,
   "metadata": {
    "application/vnd.databricks.v1+cell": {
     "cellMetadata": {
      "byteLimit": 2048000,
      "rowLimit": 10000
     },
     "inputWidgets": {},
     "nuid": "ee05347b-8059-4882-a43c-3c0d9ee17e48",
     "showTitle": false,
     "title": ""
    }
   },
   "outputs": [],
   "source": [
    "# Task 8: instantiate the model\n",
    "\n",
    "\n",
    "# Task 9: fit the model to x, y\n",
    "\n",
    "\n",
    "print(f\"intercept: {...}\")\n"
   ]
  },
  {
   "cell_type": "markdown",
   "metadata": {
    "application/vnd.databricks.v1+cell": {
     "cellMetadata": {},
     "inputWidgets": {},
     "nuid": "9635d036-8ae8-4b0c-8219-8277aeb96ee2",
     "showTitle": false,
     "title": ""
    }
   },
   "source": [
    "We can interpret whether the given feature influences the prediction negatively or positively based on the sign of the coefficient. Also, if all the other variables are unchanged we can see how this single variable affects the output by changing it by 1 unit."
   ]
  },
  {
   "cell_type": "code",
   "execution_count": 0,
   "metadata": {
    "application/vnd.databricks.v1+cell": {
     "cellMetadata": {
      "byteLimit": 2048000,
      "rowLimit": 10000
     },
     "inputWidgets": {},
     "nuid": "f5ed3cbd-7d20-46ac-a27a-eca828e5defa",
     "showTitle": false,
     "title": ""
    }
   },
   "outputs": [],
   "source": [
    "df_coefs = pd.DataFrame(model_coef, index = [\"Coefficient\"], columns=X_train.columns)\n",
    "display(df_coefs)\n",
    "print(f'''For example, if you have an observation where LSTAT is equal to 50 and another one that has a value \n",
    "of LSTAT 51 and all other variables are the same, or if the variable LSTAT is changed for the investigated observation \n",
    "with other variables unchanged the effect on the target would be {np.round(df_coefs['LSTAT']['Coefficient'],5)}''')"
   ]
  },
  {
   "cell_type": "markdown",
   "metadata": {
    "application/vnd.databricks.v1+cell": {
     "cellMetadata": {},
     "inputWidgets": {},
     "nuid": "ab3bf284-ad7e-4fe4-8c35-edc80af15f73",
     "showTitle": false,
     "title": ""
    }
   },
   "source": [
    "## Prediction / Model Evaluation\n",
    "### Exercise\n",
    "\n",
    "Predict on `X_test` and store the values in `y_hat`."
   ]
  },
  {
   "cell_type": "code",
   "execution_count": 0,
   "metadata": {
    "application/vnd.databricks.v1+cell": {
     "cellMetadata": {
      "byteLimit": 2048000,
      "rowLimit": 10000
     },
     "inputWidgets": {},
     "nuid": "2156f295-6fc3-41de-8183-43dffdbc09e5",
     "showTitle": false,
     "title": ""
    }
   },
   "outputs": [],
   "source": [
    "# Task 10: predict on X_test and store the values into y_hat\n"
   ]
  },
  {
   "cell_type": "markdown",
   "metadata": {
    "application/vnd.databricks.v1+cell": {
     "cellMetadata": {},
     "inputWidgets": {},
     "nuid": "d0ed862b-e7b4-49ec-ad36-b181b6290c05",
     "showTitle": false,
     "title": ""
    }
   },
   "source": [
    "Below is the plot of predictions against real values. Most of the data points lie around a diagonal line. This means that the predictions seem to be in line with the actual values, e.g. if the real value was 20, the prediction is also almost 20."
   ]
  },
  {
   "cell_type": "code",
   "execution_count": 0,
   "metadata": {
    "application/vnd.databricks.v1+cell": {
     "cellMetadata": {
      "byteLimit": 2048000,
      "rowLimit": 10000
     },
     "inputWidgets": {},
     "nuid": "38f15810-1c3d-4f88-b52a-dacbc4304599",
     "showTitle": false,
     "title": ""
    }
   },
   "outputs": [],
   "source": [
    "fig, ax = plt.subplots()\n",
    "\n",
    "ax.scatter(y_hat, y_test)\n",
    "ax.axline((0,0), slope = 1, c=\"b\", lw=0.5)\n",
    "ax.set_xlabel(\"predictions\")\n",
    "ax.set_ylabel(\"true test values\")\n",
    "\n",
    "# Create square plot\n",
    "lims = ax.axis(\"square\")\n",
    "min_lim = min(lims[::2])\n",
    "max_lim = max(lims[1::2])\n",
    "ax.set_xlim(min_lim, max_lim)\n",
    "ax.set_ylim(min_lim, max_lim);"
   ]
  },
  {
   "cell_type": "markdown",
   "metadata": {
    "application/vnd.databricks.v1+cell": {
     "cellMetadata": {},
     "inputWidgets": {},
     "nuid": "69fad723-000e-4e57-bb37-9ce49e18d952",
     "showTitle": false,
     "title": ""
    }
   },
   "source": [
    "### Exercise\n",
    "\n",
    "Let's have a look at some metrics. Compute and save the following metrics on the test set:\n",
    "\n",
    "- [MSE](https://en.wikipedia.org/wiki/Mean_squared_error)\n",
    "(Mean squared error):\n",
    "[`mean_squared_error`](https://scikit-learn.org/stable/modules/generated/sklearn.metrics.mean_squared_error.html)\n",
    "from \n",
    "[`sklearn.metrics`](https://scikit-learn.org/stable/modules/classes.html#sklearn-metrics-metrics)\n",
    "(see ?mean_squared_error)\n",
    "- [RMSE](https://en.wikipedia.org/wiki/Root-mean-square_deviation)\n",
    "(Root mean squared error):\n",
    "    - for\n",
    "    [`scikit-learn`](https://scikit-learn.org/stable/index.html)\n",
    "    version 1.4 and newer:\n",
    "    [`root_mean_squared_error`](https://scikit-learn.org/stable/modules/generated/sklearn.metrics.root_mean_squared_error.html)\n",
    "    from\n",
    "    [`sklearn.metrics`](https://scikit-learn.org/stable/modules/classes.html#sklearn-metrics-metrics)\n",
    "    - for older versions of\n",
    "    [`scikit-learn`](https://scikit-learn.org/stable/index.html):\n",
    "    [`mean_squared_error`](https://scikit-learn.org/stable/modules/generated/sklearn.metrics.mean_squared_error.html)\n",
    "    from\n",
    "    [`sklearn.metrics`](https://scikit-learn.org/stable/modules/classes.html#sklearn-metrics-metrics)\n",
    "    with the parameter `squared` set to `False`\n",
    "- [MAE](https://en.wikipedia.org/wiki/Mean_absolute_error)\n",
    "(Mean absolute error):\n",
    "[`mean_absolute_error`]()\n",
    "from\n",
    "[`sklearn.metrics`](https://scikit-learn.org/stable/modules/classes.html#sklearn-metrics-metrics)\n",
    "(see ?mean_absolute_error)\n",
    "- [R2](https://en.wikipedia.org/wiki/Coefficient_of_determination)\n",
    "(score): this is a method of\n",
    "[`LinearRegression()`]()"
   ]
  },
  {
   "cell_type": "code",
   "execution_count": 0,
   "metadata": {
    "application/vnd.databricks.v1+cell": {
     "cellMetadata": {
      "byteLimit": 2048000,
      "rowLimit": 10000
     },
     "inputWidgets": {},
     "nuid": "858dd56b-9668-484d-a115-ec9cd8d91f3e",
     "showTitle": false,
     "title": ""
    }
   },
   "outputs": [],
   "source": [
    "# Check Scikit Learn version number\n",
    "import sklearn\n",
    "print(f\"The currently used version of Scikit-Learn is {sklearn.__version__}.\")"
   ]
  },
  {
   "cell_type": "code",
   "execution_count": 0,
   "metadata": {
    "application/vnd.databricks.v1+cell": {
     "cellMetadata": {
      "byteLimit": 2048000,
      "rowLimit": 10000
     },
     "inputWidgets": {},
     "nuid": "4171b544-2f2c-4760-8ec0-b3059f042fd8",
     "showTitle": false,
     "title": ""
    }
   },
   "outputs": [],
   "source": [
    "# Task 11: Compute and save the metrics on the test set\n",
    "\n",
    "mse = mean_squared_error(y_test, y_hat)\n",
    "rmse = np.sqrt(mean_squared_error(..., ...))\n",
    "# rmse = mean_squared_error(..., ..., ...)\n",
    "mae = ...(..., ...)\n",
    "r2 = model.score(..., ...) # the same as r2_score(y_test, y_hat)\n",
    "\n",
    "print(f\"MSE: {np.round(mse, 1)}\")\n",
    "print(f\"RMSE: {np.round(rmse, 1)}\")\n",
    "print(f\"MAE: {np.round(mae, 1)}\")\n",
    "print(f\"R2: {np.round(r2, 1)}\") "
   ]
  },
  {
   "cell_type": "markdown",
   "metadata": {
    "application/vnd.databricks.v1+cell": {
     "cellMetadata": {},
     "inputWidgets": {},
     "nuid": "acd99c00-efef-4bcc-aea8-6e8d485f3435",
     "showTitle": false,
     "title": ""
    }
   },
   "source": [
    "## Scaling\n",
    "\n",
    "### Exercise\n",
    "If features are not scaled appropriately, the intercept tells you what the expected value for the target variable would be if all the variables were equal to 0. This might be unrealistic for many features such as weight, size of the house, distance to the sea, etc. \n",
    "When features are scaled correctly, the intercept can be interpreted as the expected value of a target variable when all the features are equal to their averages.\n",
    "\n",
    "For the next exercise you will scale your features using \n",
    "[`StandardScaler()`](https://scikit-learn.org/stable/modules/generated/sklearn.preprocessing.StandardScaler.html).\n",
    "- Instantiate\n",
    "[`StandardScaler()`](https://scikit-learn.org/stable/modules/generated/sklearn.preprocessing.StandardScaler.html)\n",
    "from\n",
    "[`sklearn.preprocessing`](https://scikit-learn.org/stable/modules/classes.html#module-sklearn.preprocessing).\n",
    "- Fit the scaler to `X_train` and transform it. Save the transformed values into `X_train_scaled`.\n",
    "- Transform the `X_test` data with the fitted scaler and save the transformed values into `X_test_scaled`."
   ]
  },
  {
   "cell_type": "code",
   "execution_count": 0,
   "metadata": {
    "application/vnd.databricks.v1+cell": {
     "cellMetadata": {
      "byteLimit": 2048000,
      "rowLimit": 10000
     },
     "inputWidgets": {},
     "nuid": "68c65955-f0da-4b43-ab16-1aeef7add674",
     "showTitle": false,
     "title": ""
    }
   },
   "outputs": [],
   "source": [
    "# Task 12: Scaling\n",
    "\n",
    "scaler = ...\n",
    "X_train_scaled = scaler.fit_transform(...)\n",
    "X_test_scaled = scaler.transform(...)"
   ]
  },
  {
   "cell_type": "markdown",
   "metadata": {
    "application/vnd.databricks.v1+cell": {
     "cellMetadata": {},
     "inputWidgets": {},
     "nuid": "e0eb3f74-7abf-415a-bd8f-037678fae4ed",
     "showTitle": false,
     "title": ""
    }
   },
   "source": [
    "If you scaled properly you will see in the boxplot chart on the right that the distribution of the variables are concentrated around zero and that the variance is similar for all the variables."
   ]
  },
  {
   "cell_type": "code",
   "execution_count": 0,
   "metadata": {
    "application/vnd.databricks.v1+cell": {
     "cellMetadata": {
      "byteLimit": 2048000,
      "rowLimit": 10000
     },
     "inputWidgets": {},
     "nuid": "eb2aa9f9-5f17-42ff-b8b0-e672737994ad",
     "showTitle": false,
     "title": ""
    }
   },
   "outputs": [],
   "source": [
    "plt.subplot(1,2,1)\n",
    "plt.title('Boxplots for original features')\n",
    "sns.boxplot(data=X_train)\n",
    "plt.subplot(1,2,2)\n",
    "plt.title('Boxplots for scaled features')\n",
    "sns.boxplot(data=X_train_scaled);"
   ]
  },
  {
   "cell_type": "markdown",
   "metadata": {
    "application/vnd.databricks.v1+cell": {
     "cellMetadata": {},
     "inputWidgets": {},
     "nuid": "041dc1ec-fd93-4075-839a-08afea168129",
     "showTitle": false,
     "title": ""
    }
   },
   "source": [
    "### Exercise\n",
    "\n",
    "- Fit a linear regression model to `X_train_scaled`, `y_train`.\n",
    "- Return the value for the intercept.\n",
    "- Return the values for the coefficients and save them to the variable `model_coef`."
   ]
  },
  {
   "cell_type": "code",
   "execution_count": 0,
   "metadata": {
    "application/vnd.databricks.v1+cell": {
     "cellMetadata": {
      "byteLimit": 2048000,
      "rowLimit": 10000
     },
     "inputWidgets": {},
     "nuid": "86338545-73fa-4d2d-aa2f-a7be435db18b",
     "showTitle": false,
     "title": ""
    }
   },
   "outputs": [],
   "source": [
    "# Task 13: Fit a linear regression, return values and save them to the variable model_coef\n",
    "\n",
    "...\n",
    "...\n",
    "print(f\"intercept: {...}\")\n",
    "..."
   ]
  },
  {
   "cell_type": "code",
   "execution_count": 0,
   "metadata": {
    "application/vnd.databricks.v1+cell": {
     "cellMetadata": {
      "byteLimit": 2048000,
      "rowLimit": 10000
     },
     "inputWidgets": {},
     "nuid": "d4d713e2-fd36-407d-9143-60f3a5da2be7",
     "showTitle": false,
     "title": ""
    }
   },
   "outputs": [],
   "source": [
    "df_coefs = pd.DataFrame(model.coef_.T, index = X_train.columns, columns=[\"Coefficient\"]) \\\n",
    "            .sort_values(\"Coefficient\") \\\n",
    "            .T\n",
    "display(df_coefs)"
   ]
  },
  {
   "cell_type": "markdown",
   "metadata": {
    "application/vnd.databricks.v1+cell": {
     "cellMetadata": {},
     "inputWidgets": {},
     "nuid": "036c8e8c-3d16-409f-9d17-3920e70ddcd8",
     "showTitle": false,
     "title": ""
    }
   },
   "source": [
    "After applying\n",
    "[`StandardScaler()`](https://scikit-learn.org/stable/modules/generated/sklearn.preprocessing.StandardScaler.html)\n",
    "it is easier to compare coefficients with each other as the features all have the same scale.\n",
    "In our example the positive effect of the 'RM' variable on the output is a little bit smaller than the negative effect of the 'LSTAT' variable.\n",
    "In that vein, we can order the coefficients by their absolute magnitudes to understand the influence of the variables on the result. \n",
    "\n",
    "We could then try to fit the model with the variables that have the highest coefficient values in absolute terms.\n",
    "\n",
    "**Note**: One advantage of not scaling the features in a linear regression model is the\n",
    "[interpretability of the model](https://en.wikipedia.org/wiki/Linear_regression#Interpretation).\n",
    "For instance, consider a linear regression model fitted without feature scaling.\n",
    "In this case, each coefficient directly represents the change in the dependent variable for a one-unit increase in the corresponding feature, assuming all other features remain constant.\n",
    "This straightforward interpretation can simplify the explanation of the model’s behavior."
   ]
  },
  {
   "cell_type": "markdown",
   "metadata": {
    "application/vnd.databricks.v1+cell": {
     "cellMetadata": {},
     "inputWidgets": {},
     "nuid": "c99ef905-7148-4962-8281-a6afc3fb511d",
     "showTitle": false,
     "title": ""
    }
   },
   "source": [
    "### Exercise \n",
    "\n",
    "- Predict with the fitted model on `X_test_scaled`.\n",
    "- Calculate MSE, RMSE, MASE and R2. Did it change compared to the unscaled version of linear regression?"
   ]
  },
  {
   "cell_type": "code",
   "execution_count": 0,
   "metadata": {
    "application/vnd.databricks.v1+cell": {
     "cellMetadata": {
      "byteLimit": 2048000,
      "rowLimit": 10000
     },
     "inputWidgets": {},
     "nuid": "7fe36d60-ae14-415f-b5a7-7997629c4157",
     "showTitle": false,
     "title": ""
    }
   },
   "outputs": [],
   "source": [
    "# Task 14\n",
    "\n",
    "...\n",
    "mse = ...\n",
    "rmse = ...\n",
    "mae = ...\n",
    "r2_score = ...\n",
    "\n",
    "print(f\"MSE: {np.round(mse,1)}\")\n",
    "print(f\"RMSE: {np.round(rmse,1)}\")\n",
    "print(f\"MAE: {np.round(mae,1)}\")\n",
    "print(f\"R2: {np.round(r2_score,1)}\") # the same as r2_score(y_test, y_hat)"
   ]
  },
  {
   "cell_type": "markdown",
   "metadata": {
    "application/vnd.databricks.v1+cell": {
     "cellMetadata": {},
     "inputWidgets": {},
     "nuid": "b2aeefbf-a307-4f64-88a2-73fe9ee6796a",
     "showTitle": false,
     "title": ""
    }
   },
   "source": [
    "The scaling **does not have an effect on the performance of the model**. It only helps with interpretability of the coefficients and changes the meaning of the intercept. "
   ]
  },
  {
   "cell_type": "markdown",
   "metadata": {
    "application/vnd.databricks.v1+cell": {
     "cellMetadata": {},
     "inputWidgets": {},
     "nuid": "cc438182-d463-484d-a040-ab363c09c53e",
     "showTitle": false,
     "title": ""
    }
   },
   "source": [
    "## Result Analysis\n",
    "Now that we have fitted a model on the standardized features and calculated the different scores, we need to analyse these results.\n",
    "\n",
    "### Residuals\n",
    "### Exercise\n",
    "- Calculate residuals by deducting `y_test` from `y_hat`."
   ]
  },
  {
   "cell_type": "code",
   "execution_count": 0,
   "metadata": {
    "application/vnd.databricks.v1+cell": {
     "cellMetadata": {
      "byteLimit": 2048000,
      "rowLimit": 10000
     },
     "inputWidgets": {},
     "nuid": "4d1c3b11-de5e-4ce4-933c-840e7bd8e5e6",
     "showTitle": false,
     "title": ""
    }
   },
   "outputs": [],
   "source": [
    "# Task 15: Calculate residuals by deducting y_test from y_hat\n",
    "\n",
    "residuals = ..."
   ]
  },
  {
   "cell_type": "markdown",
   "metadata": {
    "application/vnd.databricks.v1+cell": {
     "cellMetadata": {},
     "inputWidgets": {},
     "nuid": "f3f228e5-2c79-4d1f-a453-7c6fbc6a4b04",
     "showTitle": false,
     "title": ""
    }
   },
   "source": [
    "One of the assumptions of a linear regression is that the **residuals are normally distributed**. \n",
    "\n",
    "From the histogram below it seems that the residuals are almost normally distributed. \n",
    "If this is actually the case can be tested with e.g. the\n",
    "[Kolmogorov-Smironov test](https://en.wikipedia.org/wiki/Kolmogorov%E2%80%93Smirnov_test)\n",
    "or the\n",
    "[Shapiro-Wilk test](https://en.wikipedia.org/wiki/Shapiro%E2%80%93Wilk_test).\n",
    "It is also possible to draw a quantile-quantile plot.\n",
    "We could investigate outliers to check if they impact the residuals. "
   ]
  },
  {
   "cell_type": "code",
   "execution_count": 0,
   "metadata": {
    "application/vnd.databricks.v1+cell": {
     "cellMetadata": {
      "byteLimit": 2048000,
      "rowLimit": 10000
     },
     "inputWidgets": {},
     "nuid": "6bec8c63-89bf-449e-8d2f-b40f3288914a",
     "showTitle": false,
     "title": ""
    }
   },
   "outputs": [],
   "source": [
    "plt.subplot(1,2,1)\n",
    "plt.scatter(y_test, residuals)\n",
    "plt.ylabel(\"residuals\")\n",
    "plt.xlabel(\"y_test\")\n",
    "plt.title(\"Residuals against true values\")\n",
    "\n",
    "plt.subplot(1,2,2)\n",
    "plt.hist(residuals)\n",
    "plt.xlabel(\"residuals\")\n",
    "plt.ylabel(\"frequency\")\n",
    "plt.title(\"Residuals histogram\")\n",
    "plt.show();"
   ]
  },
  {
   "cell_type": "markdown",
   "metadata": {
    "application/vnd.databricks.v1+cell": {
     "cellMetadata": {},
     "inputWidgets": {},
     "nuid": "0e4104e5-d99d-4ed1-a2b0-7f4071921aeb",
     "showTitle": false,
     "title": ""
    }
   },
   "source": [
    "### Exercise – The Dependent Variable\n",
    "\n",
    "The lower long tail on the histogram might be also due to the distribution of the dependent variable y. When doing exploratory data analysis we should look only at the train set so that we do not detect patterns from the test set. The test set is set aside and is used only for evaluation.\n",
    "\n",
    "- Create a boxplot of `y_train`.\n",
    "- Plot a histogram of `y_train`."
   ]
  },
  {
   "cell_type": "code",
   "execution_count": 0,
   "metadata": {
    "application/vnd.databricks.v1+cell": {
     "cellMetadata": {
      "byteLimit": 2048000,
      "rowLimit": 10000
     },
     "inputWidgets": {},
     "nuid": "361a08a0-4fea-4655-9165-06f3fa244c9b",
     "showTitle": false,
     "title": ""
    }
   },
   "outputs": [],
   "source": [
    "# Task 16 - create a boxplot\n"
   ]
  },
  {
   "cell_type": "markdown",
   "metadata": {
    "application/vnd.databricks.v1+cell": {
     "cellMetadata": {},
     "inputWidgets": {},
     "nuid": "4f497190-0654-46ae-99e8-b1b5fea51331",
     "showTitle": false,
     "title": ""
    }
   },
   "source": [
    "It seems that there are some outliers on the upper part. This is expected as there can be some very expensive houses.  "
   ]
  },
  {
   "cell_type": "code",
   "execution_count": 0,
   "metadata": {
    "application/vnd.databricks.v1+cell": {
     "cellMetadata": {
      "byteLimit": 2048000,
      "rowLimit": 10000
     },
     "inputWidgets": {},
     "nuid": "bd136e58-496a-43ed-9fed-fce9e5e1ba38",
     "showTitle": false,
     "title": ""
    }
   },
   "outputs": [],
   "source": [
    "# Task 17 - create a histogram\n"
   ]
  },
  {
   "cell_type": "markdown",
   "metadata": {
    "application/vnd.databricks.v1+cell": {
     "cellMetadata": {},
     "inputWidgets": {},
     "nuid": "fbeb33f7-5104-4a98-90af-3d6caa7b4dcf",
     "showTitle": false,
     "title": ""
    }
   },
   "source": [
    "The distribution of the target variable seems to be rather bimodal. Linear regression does not perform the best for such distributions. However, if we did not take into consideration the outliers, the distribution would be closer to a normal distribution. However, are they really outliers? \n",
    "So the question is if we should **transform the dependent variable**. We could also consider creating two separate linear models, one for the usual values and one for the values on the upper end. "
   ]
  },
  {
   "cell_type": "markdown",
   "metadata": {
    "application/vnd.databricks.v1+cell": {
     "cellMetadata": {},
     "inputWidgets": {},
     "nuid": "538f4bd3-25e2-4774-884b-09ede018b81b",
     "showTitle": false,
     "title": ""
    }
   },
   "source": [
    "### Exercise – Outliers\n",
    "\n",
    "Might the skewness of the residuals be due to the outliers in the explanatory features?\n",
    "\n",
    "- Draw a boxplot for `X_train`. You can use for example a boxplot from the seaborn library."
   ]
  },
  {
   "cell_type": "code",
   "execution_count": 0,
   "metadata": {
    "application/vnd.databricks.v1+cell": {
     "cellMetadata": {
      "byteLimit": 2048000,
      "rowLimit": 10000
     },
     "inputWidgets": {},
     "nuid": "f2a47725-49dc-4dda-ac22-f60181c7c823",
     "showTitle": false,
     "title": ""
    }
   },
   "outputs": [],
   "source": [
    "# Task 18\n"
   ]
  },
  {
   "cell_type": "markdown",
   "metadata": {
    "application/vnd.databricks.v1+cell": {
     "cellMetadata": {},
     "inputWidgets": {},
     "nuid": "2a5abd64-6cf3-4fe0-b17f-1582d206e14c",
     "showTitle": false,
     "title": ""
    }
   },
   "source": [
    "There seem to be quite some outliers, e.g. in CRIM, ZN and PTRATIO B. These outliers should be treated."
   ]
  },
  {
   "cell_type": "markdown",
   "metadata": {
    "application/vnd.databricks.v1+cell": {
     "cellMetadata": {},
     "inputWidgets": {},
     "nuid": "c2805dc2-0471-469b-bbcf-c5bd530d27bd",
     "showTitle": false,
     "title": ""
    }
   },
   "source": [
    "### Exercise – Multicollinearity\n",
    "\n",
    "Correlated features might cause the model to be quite unstable. \n",
    "\n",
    "- Calculate the correlations between all the variables with the\n",
    "[`corr()`](https://pandas.pydata.org/pandas-docs/stable/reference/api/pandas.DataFrame.corr.html)\n",
    "method called on `X_train`. Save the output into variable `corr`."
   ]
  },
  {
   "cell_type": "code",
   "execution_count": 0,
   "metadata": {
    "application/vnd.databricks.v1+cell": {
     "cellMetadata": {
      "byteLimit": 2048000,
      "rowLimit": 10000
     },
     "inputWidgets": {},
     "nuid": "4bfbbff3-6cc4-4fc4-b484-61adf3c2aa0c",
     "showTitle": false,
     "title": ""
    }
   },
   "outputs": [],
   "source": [
    "# Task 19\n"
   ]
  },
  {
   "cell_type": "markdown",
   "metadata": {
    "application/vnd.databricks.v1+cell": {
     "cellMetadata": {},
     "inputWidgets": {},
     "nuid": "10c1450e-f265-4399-be08-28b72719b87b",
     "showTitle": false,
     "title": ""
    }
   },
   "source": [
    "Below you can see correlations of the variables between each other on the left chart. Right chart shows absolute values of correlations. "
   ]
  },
  {
   "cell_type": "code",
   "execution_count": 0,
   "metadata": {
    "application/vnd.databricks.v1+cell": {
     "cellMetadata": {
      "byteLimit": 2048000,
      "rowLimit": 10000
     },
     "inputWidgets": {},
     "nuid": "92be9cfc-1ce3-466d-afe5-9fc0576ad976",
     "showTitle": false,
     "title": ""
    }
   },
   "outputs": [],
   "source": [
    "# charts for correlation\n",
    "plt.subplot(1,2,1)\n",
    "plt.title('Correlations')\n",
    "mask = np.triu(np.ones_like(corr, dtype=bool))\n",
    "sns.heatmap(corr, mask = mask, annot=True, cmap='Reds');\n",
    "\n",
    "plt.title('Absolute value of correlations')\n",
    "plt.subplot(1,2,2)\n",
    "corr_abs = corr.abs()\n",
    "sns.heatmap(corr_abs, mask = mask, annot=True, cmap='Reds');"
   ]
  },
  {
   "cell_type": "markdown",
   "metadata": {
    "application/vnd.databricks.v1+cell": {
     "cellMetadata": {},
     "inputWidgets": {},
     "nuid": "200a70d2-6532-4d06-8fb4-bf352ce5b1d1",
     "showTitle": false,
     "title": ""
    }
   },
   "source": [
    "There is a strong correlation between some features, e.g. TAX and RAD, DIS and NOX, DIS and INUDS, DIS and AGE, LSTAT and RM. **Highly correlated features in linear models can cause instability of the model**. Thus it should be tested how the models perform if we remove such features. Usually one of the features with a correlation higher than some threshold is removed from the feature set. "
   ]
  },
  {
   "cell_type": "markdown",
   "metadata": {
    "application/vnd.databricks.v1+cell": {
     "cellMetadata": {},
     "inputWidgets": {},
     "nuid": "e3d937c1-71e5-4387-a52a-0139a77cb9d9",
     "showTitle": false,
     "title": ""
    }
   },
   "source": [
    "### Linearity – Exercise\n",
    "\n",
    "Since we work with a linear model, there should be a linear relationship between X and y. Let's do some simple checks. \n",
    "\n",
    "- Compute the correlation between `X_train` and `y_train`. Hint: you can [concatenate](https://pandas.pydata.org/pandas-docs/stable/reference/api/pandas.concat.html) `X_train` and `y_train` first on `axis=1` and calculate the correlation on the concatenated data frame."
   ]
  },
  {
   "cell_type": "code",
   "execution_count": 0,
   "metadata": {
    "application/vnd.databricks.v1+cell": {
     "cellMetadata": {
      "byteLimit": 2048000,
      "rowLimit": 10000
     },
     "inputWidgets": {},
     "nuid": "4988a4c7-a6cc-4efc-ab05-95fee1c98b88",
     "showTitle": false,
     "title": ""
    }
   },
   "outputs": [],
   "source": [
    "# Task 20\n"
   ]
  },
  {
   "cell_type": "markdown",
   "metadata": {
    "application/vnd.databricks.v1+cell": {
     "cellMetadata": {},
     "inputWidgets": {},
     "nuid": "83afaeb4-0c65-4eb5-86a7-36fbdd04bc86",
     "showTitle": false,
     "title": ""
    }
   },
   "source": [
    "### Exercise\n",
    "\n",
    "There is a strong negative correlation between the target variable and the 'LSTAT' feature, as well as a strong positive correlation between the target variable and the 'RM' feature. \n",
    "\n",
    "- Draw a scatter plot showing the dependency between X and y not only for the two most correlated features 'LSTAT' and 'RM' but also for the other features to investigate if there is any pattern."
   ]
  },
  {
   "cell_type": "code",
   "execution_count": 0,
   "metadata": {
    "application/vnd.databricks.v1+cell": {
     "cellMetadata": {
      "byteLimit": 2048000,
      "rowLimit": 10000
     },
     "inputWidgets": {},
     "nuid": "c84ad8b0-9759-4fee-810f-632a195f5f92",
     "showTitle": false,
     "title": ""
    }
   },
   "outputs": [],
   "source": [
    "# Task 21\n"
   ]
  },
  {
   "cell_type": "markdown",
   "metadata": {
    "application/vnd.databricks.v1+cell": {
     "cellMetadata": {},
     "inputWidgets": {},
     "nuid": "5b53945c-15ba-4aaf-a2b7-7a7c8dd8f6ed",
     "showTitle": false,
     "title": ""
    }
   },
   "source": [
    "We already know that there is a strong correlation between the target and the variable 'LSTAT' but the relationship seems to be rather non-linear. We can transform the variable 'LSTAT' for example with a negative logarithm or x-squared function to get a linear relationship between the modified variable and y. \n",
    "\n",
    "The relationship with the second highest correlated feature 'RM' seems to be linear."
   ]
  },
  {
   "cell_type": "markdown",
   "metadata": {
    "application/vnd.databricks.v1+cell": {
     "cellMetadata": {},
     "inputWidgets": {},
     "nuid": "40a9c72f-b113-41c4-99b6-9533055067e7",
     "showTitle": false,
     "title": ""
    }
   },
   "source": [
    "## Model only with the 2 strongest variables \n",
    "### Exercise\n",
    "- Fit the model only with the features 'LSTAT' and 'RM'.\n",
    "- Predict and return the RMSE."
   ]
  },
  {
   "cell_type": "code",
   "execution_count": 0,
   "metadata": {
    "application/vnd.databricks.v1+cell": {
     "cellMetadata": {
      "byteLimit": 2048000,
      "rowLimit": 10000
     },
     "inputWidgets": {},
     "nuid": "51f92371-6ad6-4a09-afee-3caece77fcfe",
     "showTitle": false,
     "title": ""
    }
   },
   "outputs": [],
   "source": [
    "# Task 22\n",
    "\n",
    "...\n",
    "rmse = \n",
    "print(f\"RMSE: {np.round(rmse,1)}\")"
   ]
  },
  {
   "cell_type": "markdown",
   "metadata": {
    "application/vnd.databricks.v1+cell": {
     "cellMetadata": {},
     "inputWidgets": {},
     "nuid": "9d4297bb-0b25-4d1c-b71e-f850da3a365d",
     "showTitle": false,
     "title": ""
    }
   },
   "source": [
    "This model has a slightly worse performance than the original model with an RMSE of around 4.7. However, interpretaion of the model with 2 variables is easier and usually the generalization of the simpler model is also better. "
   ]
  },
  {
   "cell_type": "markdown",
   "metadata": {
    "application/vnd.databricks.v1+cell": {
     "cellMetadata": {},
     "inputWidgets": {},
     "nuid": "0e94bea6-90c9-4186-9cb4-87e88c4cf5f7",
     "showTitle": false,
     "title": ""
    }
   },
   "source": [
    "## 2nd degree polynomial features\n",
    "\n",
    "We have seen in the scatter plots that there likely is a non-linear relationship between 'LSTAT' and the target variable.\n",
    "It makes sense to test the model with the 2 variables as above but also\n",
    "[adding polynomial features](https://scikit-learn.org/stable/modules/generated/sklearn.preprocessing.PolynomialFeatures.html)\n",
    "of the 2nd degree and an interaction term between the two variables.\n",
    "Run the cell below to see the performance of such a model."
   ]
  },
  {
   "cell_type": "code",
   "execution_count": 0,
   "metadata": {
    "application/vnd.databricks.v1+cell": {
     "cellMetadata": {
      "byteLimit": 2048000,
      "rowLimit": 10000
     },
     "inputWidgets": {},
     "nuid": "1492fdc7-43fb-494a-9f5d-cbd0cf424465",
     "showTitle": false,
     "title": ""
    }
   },
   "outputs": [],
   "source": [
    "poly = PolynomialFeatures(2)\n",
    "x_train_poly = poly.fit_transform(X_train[['LSTAT', 'RM']])\n",
    "x_test_poly = poly.transform(X_test[['LSTAT', 'RM']])\n",
    "  \n",
    "model_poly = LinearRegression(fit_intercept=False)\n",
    "model_poly.fit(x_train_poly, y_train)\n",
    "    \n",
    "y_hat = model_poly.predict(x_test_poly)\n",
    "print(f\"RMSE: {np.sqrt(mean_squared_error(y_test, y_hat))}\")\n",
    "# depending on the version of sklearn, this will cause an error\n",
    "# in that case, replace \"get_feature_names_out\" with \"get_feature_names\"\n",
    "pd.DataFrame(model_poly.coef_, index = [\"Coefficient\"], columns = poly.get_feature_names_out())"
   ]
  },
  {
   "cell_type": "markdown",
   "metadata": {
    "application/vnd.databricks.v1+cell": {
     "cellMetadata": {},
     "inputWidgets": {},
     "nuid": "86f9f033-c85b-4b9f-bdf1-c2a467fdbe61",
     "showTitle": false,
     "title": ""
    }
   },
   "source": [
    "This model has so far the best performance."
   ]
  },
  {
   "cell_type": "markdown",
   "metadata": {
    "application/vnd.databricks.v1+cell": {
     "cellMetadata": {},
     "inputWidgets": {},
     "nuid": "a4196c62-4cfc-49c6-90be-af4e8ef3e820",
     "showTitle": false,
     "title": ""
    }
   },
   "source": [
    "## Next steps to consider\n",
    "How can we improve our current model even further?\n",
    "\n",
    "- Treatment of the y variable - Should we use two different models? Should we transform y?\n",
    "- Outliers need to be treated.\n",
    "- Feature selection methods.\n",
    "- Removal of correlated features.\n",
    "- Feature engineering.\n",
    "- ..."
   ]
  },
  {
   "cell_type": "markdown",
   "metadata": {
    "application/vnd.databricks.v1+cell": {
     "cellMetadata": {},
     "inputWidgets": {},
     "nuid": "af9918b6-49b0-4b89-8db4-e108afb503e0",
     "showTitle": false,
     "title": ""
    }
   },
   "source": [
    "Material adapted for RBI internal purposes with full permissions from original authors."
   ]
  }
 ],
 "metadata": {
  "application/vnd.databricks.v1+notebook": {
   "dashboards": [],
   "environmentMetadata": null,
   "language": "python",
   "notebookMetadata": {
    "pythonIndentUnit": 4
   },
   "notebookName": "1_Linear_Regression_Exercise_jupyter",
   "widgets": {}
  }
 },
 "nbformat": 4,
 "nbformat_minor": 0
}
