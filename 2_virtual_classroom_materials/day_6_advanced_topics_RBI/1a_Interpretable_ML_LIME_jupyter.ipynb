{
 "cells": [
  {
   "cell_type": "markdown",
   "metadata": {
    "application/vnd.databricks.v1+cell": {
     "cellMetadata": {},
     "inputWidgets": {},
     "nuid": "a01919c3-5fdf-4c9c-a204-fb2a81575df0",
     "showTitle": false,
     "title": ""
    }
   },
   "source": [
    "# Explaining your Machine Learning model using [LIME](https://ema.drwhy.ai/LIME.html)  \n",
    "[Github](https://github.com/marcotcr/lime)  \n",
    "\n",
    "\n",
    "### [Why should you trust your model?](https://towardsdatascience.com/decrypting-your-machine-learning-model-using-lime-5adc035109b5)\n",
    "\n",
    "Shapley values are most suitable for models with a small or moderate number of explanatory variables. For models with a very large number of explanatory variables, sparse explanations with a small number of variables offer a useful alternative. The most popular example of such sparse explainers is the Local Interpretable Model-agnostic Explanations (LIME) method and its modifications."
   ]
  },
  {
   "cell_type": "markdown",
   "metadata": {
    "application/vnd.databricks.v1+cell": {
     "cellMetadata": {},
     "inputWidgets": {},
     "nuid": "f5eb3606-cd26-463e-888c-f3b1399a30f8",
     "showTitle": false,
     "title": ""
    }
   },
   "source": [
    "## 1 - [Intuition behind LIME](https://www.kaggle.com/code/prashant111/explain-your-model-predictions-with-lime/notebook)   \n",
    "\n",
    "![](https://miro.medium.com/max/1165/1*k-rxjnvUDTwk8Jfg6IYBkQ.png)\n",
    "\n",
    "The intuition behind LIME is very simple. First, forget the training data and imagine we have only the black box model where we supply the input data. The black box model generate the predictions for the model. We can enquire the box as many times as we like. Our objective is to understand why the machine learning model made a certain prediction.\n",
    "\n",
    "Now, LIME comes into play. LIME tests what happens to the predictions when we provide variations in the data which is being fed into the machine learning model.\n",
    "\n",
    "LIME generates a new dataset consisting of permuted samples and the corresponding predictions of the black box model. On this new dataset LIME then trains an interpretable model. It is weighted by the proximity of the sampled instances to the instance of interest. The learned model should be a good approximation of the machine learning model predictions locally, but it does not have to be a good global approximation. This kind of accuracy is also called **local fidelity**. There is no dependency on the type of original model for LIME to provide explanations (model agnostic).\n",
    "\n",
    "![https://towardsdatascience.com/decrypting-your-machine-learning-model-using-lime-5adc035109b5](https://miro.medium.com/max/720/1*vE3PUuhG6RRgK1J9oxg0nA.webp)\n",
    "\n",
    "What does LIME offer for model interpretability?\n",
    "1. A consistent model agnostic explainer – LIME.  \n",
    "2. A method to select a representative set with explanations – SP-LIME – to make sure the model behaves consistently while replicating human logic. This representative set would provide an intuitive global understanding of the model.  "
   ]
  },
  {
   "cell_type": "code",
   "execution_count": 0,
   "metadata": {
    "application/vnd.databricks.v1+cell": {
     "cellMetadata": {
      "byteLimit": 2048000,
      "rowLimit": 10000
     },
     "inputWidgets": {},
     "nuid": "657e305f-2f2b-475b-bf58-745bd6cd1baf",
     "showTitle": false,
     "title": ""
    }
   },
   "outputs": [],
   "source": [
    "!pip install -U -q lime\n",
    "!pip install -U lightgbm"
   ]
  },
  {
   "cell_type": "code",
   "execution_count": 0,
   "metadata": {
    "application/vnd.databricks.v1+cell": {
     "cellMetadata": {
      "byteLimit": 2048000,
      "rowLimit": 10000
     },
     "inputWidgets": {},
     "nuid": "2ec9d323-71fc-4718-8ba4-0c4bf8e2a428",
     "showTitle": false,
     "title": ""
    }
   },
   "outputs": [],
   "source": [
    "import lime\n",
    "import lime.lime_tabular\n",
    "\n",
    "import pandas as pd\n",
    "import numpy as np\n",
    "import seaborn as sns\n",
    "import lightgbm as lgb\n",
    "\n",
    "from sklearn.preprocessing import LabelEncoder\n",
    "from sklearn.model_selection import train_test_split"
   ]
  },
  {
   "cell_type": "code",
   "execution_count": 0,
   "metadata": {
    "application/vnd.databricks.v1+cell": {
     "cellMetadata": {
      "byteLimit": 2048000,
      "rowLimit": 10000
     },
     "inputWidgets": {},
     "nuid": "ae107aed-42fa-40b1-948b-814a5c07e59e",
     "showTitle": false,
     "title": ""
    }
   },
   "outputs": [],
   "source": [
    "import mlflow\n",
    "mlflow.autolog(disable=True)"
   ]
  },
  {
   "cell_type": "markdown",
   "metadata": {
    "application/vnd.databricks.v1+cell": {
     "cellMetadata": {},
     "inputWidgets": {},
     "nuid": "298d290a-243a-44ab-b06f-5c8c380b4229",
     "showTitle": false,
     "title": ""
    }
   },
   "source": [
    "## 2 - Data Preprocessing and fitting a LightGBM model\n",
    "\n",
    "We are going to use the Titanic data set. At this point you should be fairly familiar with it. Most of the preprocessing should not contain any new material and you can focus on the sections using LIME. "
   ]
  },
  {
   "cell_type": "code",
   "execution_count": 0,
   "metadata": {
    "application/vnd.databricks.v1+cell": {
     "cellMetadata": {
      "byteLimit": 2048000,
      "rowLimit": 10000
     },
     "inputWidgets": {},
     "nuid": "1dffe1e0-721c-43b4-9574-fc62fd923653",
     "showTitle": false,
     "title": ""
    }
   },
   "outputs": [],
   "source": [
    "# reading the titanic data\n",
    "df_titanic = pd.read_csv(\"../../Data/data_titanic/train.csv\")\n",
    "\n",
    "df_titanic.head()"
   ]
  },
  {
   "cell_type": "code",
   "execution_count": 0,
   "metadata": {
    "application/vnd.databricks.v1+cell": {
     "cellMetadata": {
      "byteLimit": 2048000,
      "rowLimit": 10000
     },
     "inputWidgets": {},
     "nuid": "ec62b696-3a48-44a9-968c-2944bf3af8ff",
     "showTitle": false,
     "title": ""
    }
   },
   "outputs": [],
   "source": [
    "cols = df_titanic.columns \n",
    "colours = ['darkblue', 'red'] \n",
    "sns.heatmap(df_titanic[cols].isnull(), cmap=sns.color_palette(colours))"
   ]
  },
  {
   "cell_type": "code",
   "execution_count": 0,
   "metadata": {
    "application/vnd.databricks.v1+cell": {
     "cellMetadata": {
      "byteLimit": 2048000,
      "rowLimit": 10000
     },
     "inputWidgets": {},
     "nuid": "d0b2bd58-7af2-416c-8ae3-b85a997cd078",
     "showTitle": false,
     "title": ""
    }
   },
   "outputs": [],
   "source": [
    "pct_list = []\n",
    "for col in df_titanic.columns:\n",
    "    pct_missing = np.mean(df_titanic[col].isnull())\n",
    "    if round(pct_missing*100) >0:\n",
    "        pct_list.append([col, round(pct_missing*100)])\n",
    "    print('{} - {}%'.format(col, round(pct_missing*100)))"
   ]
  },
  {
   "cell_type": "markdown",
   "metadata": {
    "application/vnd.databricks.v1+cell": {
     "cellMetadata": {},
     "inputWidgets": {},
     "nuid": "a161a99e-c868-472f-b489-86f3756a3073",
     "showTitle": false,
     "title": ""
    }
   },
   "source": [
    "The feature “Cabin” is missing 77% of the data. So we are going to remove that feature. \n",
    "\n",
    "Age, however, is missing 20% of the data. Age should be an important variable in this application since it must have affected the probability of survival (e.g. older people or children might have been given the priority). Usually, we would just fill the missing values with the mean of the other’s people’s age. However, in this specific dataset, people were from different classes so it’s not a good idea to treat all of them as one group. The dataset has a feature “Name” the name has the title of the people (e.g. “Mr”, “Miss”…etc). That title should be a great indication of the age. Also, we should keep in mind that at that time of the incidence (in 1912) the socioeconomic status affected the people’s title regardless on age (e.g. younger people who are rich could get titles that usual poor people at the same age wouldn’t). So we are going to group people by their title and Pclass and then we will assign the mean of the age of each group to the missing age in each group."
   ]
  },
  {
   "cell_type": "code",
   "execution_count": 0,
   "metadata": {
    "application/vnd.databricks.v1+cell": {
     "cellMetadata": {
      "byteLimit": 2048000,
      "rowLimit": 10000
     },
     "inputWidgets": {},
     "nuid": "2cf3a6c8-d3d7-4fc3-9de7-4a7183bed95b",
     "showTitle": false,
     "title": ""
    }
   },
   "outputs": [],
   "source": [
    "# extracting the title from the name:\n",
    "Title = []\n",
    "for name in  df_titanic.Name:\n",
    "    Title.append(name.split(\",\")[1].split(\".\")[0])\n",
    "    \n",
    "df_titanic[\"Title\"] = Title"
   ]
  },
  {
   "cell_type": "code",
   "execution_count": 0,
   "metadata": {
    "application/vnd.databricks.v1+cell": {
     "cellMetadata": {
      "byteLimit": 2048000,
      "rowLimit": 10000
     },
     "inputWidgets": {},
     "nuid": "16da7341-901e-41d7-93a7-147144adde9f",
     "showTitle": false,
     "title": ""
    }
   },
   "outputs": [],
   "source": [
    "#grouping people with pclass and title\n",
    "df_titanic.groupby([\"Pclass\", 'Title'])['Age'].agg(['mean']).round(0)\n",
    "\n",
    "# adding the mean of the age of each group to the missing values\n",
    "df_titanic[\"Age\"] = df_titanic.groupby([\"Title\", \"Pclass\"])[\"Age\"].transform(lambda x: x.fillna(x.mean()))"
   ]
  },
  {
   "cell_type": "markdown",
   "metadata": {
    "application/vnd.databricks.v1+cell": {
     "cellMetadata": {},
     "inputWidgets": {},
     "nuid": "044db544-1868-42db-b314-7ac998cdf36a",
     "showTitle": false,
     "title": ""
    }
   },
   "source": [
    "Now, we can also delete the unneeded features like the name (after extracting the title from it), the ticket ID, the passenger ID."
   ]
  },
  {
   "cell_type": "code",
   "execution_count": 0,
   "metadata": {
    "application/vnd.databricks.v1+cell": {
     "cellMetadata": {
      "byteLimit": 2048000,
      "rowLimit": 10000
     },
     "inputWidgets": {},
     "nuid": "953c4ef7-6944-4211-a21d-0a851ea6c598",
     "showTitle": false,
     "title": ""
    }
   },
   "outputs": [],
   "source": [
    "df_titanic.drop(columns = [\"Name\", \"PassengerId\", \"Ticket\", \"Cabin\", \"Title\"], inplace=True)"
   ]
  },
  {
   "cell_type": "markdown",
   "metadata": {
    "application/vnd.databricks.v1+cell": {
     "cellMetadata": {},
     "inputWidgets": {},
     "nuid": "98d182ae-2ed9-42a8-bdf6-76f783788e3b",
     "showTitle": false,
     "title": ""
    }
   },
   "source": [
    "As a final step, we will encode the categorical features into numerical:"
   ]
  },
  {
   "cell_type": "code",
   "execution_count": 0,
   "metadata": {
    "application/vnd.databricks.v1+cell": {
     "cellMetadata": {
      "byteLimit": 2048000,
      "rowLimit": 10000
     },
     "inputWidgets": {},
     "nuid": "40dae297-9cdd-47bf-b5a9-9883d9ba5851",
     "showTitle": false,
     "title": ""
    }
   },
   "outputs": [],
   "source": [
    "df_titanic.Sex = pd.Categorical(df_titanic.Sex)\n",
    "df_titanic.Embarked = pd.Categorical(df_titanic.Embarked)\n",
    "df_titanic[\"Sex\"] = df_titanic.Sex.cat.codes\n",
    "df_titanic[\"Embarked\"] = df_titanic.Embarked.cat.codes"
   ]
  },
  {
   "cell_type": "markdown",
   "metadata": {
    "application/vnd.databricks.v1+cell": {
     "cellMetadata": {},
     "inputWidgets": {},
     "nuid": "8400cf37-eabb-450d-9c6e-aa41d2508819",
     "showTitle": false,
     "title": ""
    }
   },
   "source": [
    "**Using train test split to create validation set**"
   ]
  },
  {
   "cell_type": "code",
   "execution_count": 0,
   "metadata": {
    "application/vnd.databricks.v1+cell": {
     "cellMetadata": {
      "byteLimit": 2048000,
      "rowLimit": 10000
     },
     "inputWidgets": {},
     "nuid": "f4ca8bbf-3de4-4a85-be62-ad7e6a81b67d",
     "showTitle": false,
     "title": ""
    }
   },
   "outputs": [],
   "source": [
    "df_titanic.head()"
   ]
  },
  {
   "cell_type": "code",
   "execution_count": 0,
   "metadata": {
    "application/vnd.databricks.v1+cell": {
     "cellMetadata": {
      "byteLimit": 2048000,
      "rowLimit": 10000
     },
     "inputWidgets": {},
     "nuid": "485ac320-7302-4767-99a6-fea39e90e302",
     "showTitle": false,
     "title": ""
    }
   },
   "outputs": [],
   "source": [
    "feat = [\"Pclass\", \"Sex\", \"SibSp\", \"Parch\", \"Fare\", \"Embarked\"]\n",
    "\n",
    "X_train, X_test, y_train, y_test = train_test_split(\n",
    "    df_titanic[feat], df_titanic[[\"Survived\"]], test_size=0.3\n",
    ")"
   ]
  },
  {
   "cell_type": "code",
   "execution_count": 0,
   "metadata": {
    "application/vnd.databricks.v1+cell": {
     "cellMetadata": {
      "byteLimit": 2048000,
      "rowLimit": 10000
     },
     "inputWidgets": {},
     "nuid": "534b2fc3-e479-4736-a87a-d4a08b3115b2",
     "showTitle": false,
     "title": ""
    }
   },
   "outputs": [],
   "source": [
    "# specify your configurations as a dict\n",
    "lgb_params = {\n",
    "    \"task\": \"train\",\n",
    "    \"data_sample_strategy\": \"goss\",\n",
    "    \"objective\": \"binary\",\n",
    "    \"metric\": \"binary_logloss\",\n",
    "    \"metric\": {\"l2\", \"auc\"},\n",
    "    \"num_leaves\": 5,\n",
    "    \"learning_rate\": 0.1,\n",
    "    \"feature_fraction\": 0.8,\n",
    "    \"bagging_fraction\": 0.8,\n",
    "    \"verbose\": 0,\n",
    "    \"num_iteration\": 100,\n",
    "    \"num_threads\": 7,\n",
    "    \"max_depth\": 12,\n",
    "    \"alpha\": 0.5,\n",
    "}\n",
    "\n",
    "\n",
    "# def lgb_model(X_train,y_train,X_test,y_test,lgb_params):\n",
    "# create dataset for lightgbm\n",
    "lgb_train = lgb.Dataset(X_train, y_train)\n",
    "lgb_eval = lgb.Dataset(X_test, y_test)\n",
    "\n",
    "\n",
    "# training the lightgbm model\n",
    "model = lgb.train(\n",
    "    lgb_params,\n",
    "    lgb_train,\n",
    "    num_boost_round=20,\n",
    "    valid_sets=lgb_eval,\n",
    "    callbacks=[\n",
    "        lgb.early_stopping(stopping_rounds=5),\n",
    "    ],\n",
    ")"
   ]
  },
  {
   "cell_type": "markdown",
   "metadata": {
    "application/vnd.databricks.v1+cell": {
     "cellMetadata": {},
     "inputWidgets": {},
     "nuid": "f4e6f199-d0c2-4897-a86d-89f2443af026",
     "showTitle": false,
     "title": ""
    }
   },
   "source": [
    "\n",
    "## 3 - Model agnostic explainer (_LIME_).\n",
    "**LIME requires class probabilities in case of classification example.**   \n",
    "LightGBM directly returns probability for class 1 by default, so we will use it as a model here for simplicity.  "
   ]
  },
  {
   "cell_type": "code",
   "execution_count": 0,
   "metadata": {
    "application/vnd.databricks.v1+cell": {
     "cellMetadata": {
      "byteLimit": 2048000,
      "rowLimit": 10000
     },
     "inputWidgets": {},
     "nuid": "d221ddd6-f91a-445c-af1e-5bed66339dff",
     "showTitle": false,
     "title": ""
    }
   },
   "outputs": [],
   "source": [
    "model.feature_name()"
   ]
  },
  {
   "cell_type": "code",
   "execution_count": 0,
   "metadata": {
    "application/vnd.databricks.v1+cell": {
     "cellMetadata": {
      "byteLimit": 2048000,
      "rowLimit": 10000
     },
     "inputWidgets": {},
     "nuid": "5953ae34-3922-451f-bb67-7b6753dbc353",
     "showTitle": false,
     "title": ""
    }
   },
   "outputs": [],
   "source": [
    "def prob(data):\n",
    "    return np.array(list(zip(1-model.predict(data),model.predict(data))))\n",
    "    \n",
    "explainer = lime.lime_tabular.LimeTabularExplainer(df_titanic[model.feature_name()].astype(int).values,\n",
    "                                                   mode='classification',\n",
    "                                                   training_labels=df_titanic['Survived'],\n",
    "                                                   feature_names=model.feature_name())"
   ]
  },
  {
   "cell_type": "markdown",
   "metadata": {
    "application/vnd.databricks.v1+cell": {
     "cellMetadata": {},
     "inputWidgets": {},
     "nuid": "5fb5f364-22aa-4624-9353-57313a53cc2c",
     "showTitle": false,
     "title": ""
    }
   },
   "source": [
    "### 3.1 - Asking for explanation for LIME model\n",
    "\n",
    "There are three parts to the explanation :\n",
    "\n",
    "+ Left most section displays prediction probabilities.\n",
    "+ The middle section returns the 5 most important features. For the binary classification task, it would be in 2 colors. orange/blue. Attributes in orange support class 1 and those in blue support class 0. `Sex_le` ≤0 supports class 1. \n",
    "+ Float point numbers on the horizontal bars represent the relative importance of these features.\n",
    "+ The color-coding is consistent across sections. It contains the actual values of the top 5 variables."
   ]
  },
  {
   "cell_type": "code",
   "execution_count": 0,
   "metadata": {
    "application/vnd.databricks.v1+cell": {
     "cellMetadata": {
      "byteLimit": 2048000,
      "rowLimit": 10000
     },
     "inputWidgets": {},
     "nuid": "e4456083-77d3-41cf-a16b-470a97a405e5",
     "showTitle": false,
     "title": ""
    }
   },
   "outputs": [],
   "source": [
    "i = 1\n",
    "exp = explainer.explain_instance(df_titanic.loc[i,feat].astype(int).values, prob, num_features=5)\n",
    "exp.show_in_notebook(show_table=True)"
   ]
  },
  {
   "cell_type": "code",
   "execution_count": 0,
   "metadata": {
    "application/vnd.databricks.v1+cell": {
     "cellMetadata": {
      "byteLimit": 2048000,
      "rowLimit": 10000
     },
     "inputWidgets": {},
     "nuid": "0714265f-3db9-47db-afa2-0f54387b9bb5",
     "showTitle": false,
     "title": ""
    }
   },
   "outputs": [],
   "source": [
    "i = 6\n",
    "exp = explainer.explain_instance(df_titanic.loc[i,feat].astype(int).values, prob, num_features=5)\n",
    "exp.show_in_notebook(show_table=True)"
   ]
  },
  {
   "cell_type": "markdown",
   "metadata": {
    "application/vnd.databricks.v1+cell": {
     "cellMetadata": {},
     "inputWidgets": {},
     "nuid": "203d79e3-57f1-4daa-aa6c-0ba9762857f2",
     "showTitle": false,
     "title": ""
    }
   },
   "source": [
    "## 2 - Submodular pick (*SP-LIME*) for explaining models\n",
    "\n",
    "LIME aims to attribute a model’s prediction to human-understandable features. In order to do this, we need to run the explanation model on a diverse but representative set of instances to return a nonredundant explanation set that is a global representation of the model.  \n",
    "\n",
    "**Note:** Running `SubmodularPick` can take some time, so you might want to run the cells below and return at a later point. "
   ]
  },
  {
   "cell_type": "code",
   "execution_count": 0,
   "metadata": {
    "application/vnd.databricks.v1+cell": {
     "cellMetadata": {
      "byteLimit": 2048000,
      "rowLimit": 10000
     },
     "inputWidgets": {},
     "nuid": "a2d912c5-cb4c-4dad-82a8-983d0015a90e",
     "showTitle": false,
     "title": ""
    }
   },
   "outputs": [],
   "source": [
    "import warnings\n",
    "warnings.filterwarnings(\"ignore\")"
   ]
  },
  {
   "cell_type": "code",
   "execution_count": 0,
   "metadata": {
    "application/vnd.databricks.v1+cell": {
     "cellMetadata": {
      "byteLimit": 2048000,
      "rowLimit": 10000
     },
     "inputWidgets": {},
     "nuid": "57b2bfaa-faa9-4a6f-81b5-cc6bcde16a09",
     "showTitle": false,
     "title": ""
    }
   },
   "outputs": [],
   "source": [
    "from lime import submodular_pick\n",
    "\n",
    "# Remember to convert the dataframe to matrix values\n",
    "# SP-LIME returns explanations on a sample set to provide a non redundant global decision boundary of original model\n",
    "sp_obj = submodular_pick.SubmodularPick(explainer, \n",
    "                                        df_titanic[model.feature_name()].values, \n",
    "                                        prob, \n",
    "                                        num_features=3,\n",
    "                                        num_exps_desired=5)\n",
    "\n",
    "for exp in sp_obj.sp_explanations:\n",
    "    exp.show_in_notebook()"
   ]
  }
 ],
 "metadata": {
  "application/vnd.databricks.v1+notebook": {
   "dashboards": [],
   "environmentMetadata": null,
   "language": "python",
   "notebookMetadata": {
    "pythonIndentUnit": 4
   },
   "notebookName": "1a_Interpretable_ML_LIME_jupyter",
   "widgets": {}
  }
 },
 "nbformat": 4,
 "nbformat_minor": 0
}
