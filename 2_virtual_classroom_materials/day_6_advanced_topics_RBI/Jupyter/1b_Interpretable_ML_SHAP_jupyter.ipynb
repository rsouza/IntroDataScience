{
 "cells": [
  {
   "cell_type": "markdown",
   "metadata": {
    "application/vnd.databricks.v1+cell": {
     "cellMetadata": {
      "byteLimit": 2048000,
      "rowLimit": 10000
     },
     "inputWidgets": {},
     "nuid": "dbcf40a3-9104-4fa4-81cc-593f9dbd678c",
     "showTitle": false,
     "title": ""
    }
   },
   "source": [
    "# Explaining Machine Learning models using [SHAP](https://ema.drwhy.ai/shapley.html)  \n",
    "\n",
    "SHAP is a great model interpretation tool. Even though it’s a sophisticated model, it’s intuitive to understand.  \n",
    "SHAP’s goal is to provide a visualization of the effect of each feature on the outcome variable.   \n",
    "\n",
    "To do that\n",
    "1. **SHAP builds a model that uses all the features except the one of interest** and see **how the model would perform without that feature**. \n",
    "2. Then, it would build the model again and do the prediction with the feature. \n",
    "3. The effect of the feature would then be the difference between the two values. \n",
    "\n",
    "The order at which features are passed to the model affects the output (especially in the tree-based models in which the model follows a schematic approach ordered by the features). So, SHAP computes all the possible permutation at which the different features can be passed to the model. This seems to have a huge computational cost but SHAP has optimized algorithms that make it faster for specific machine learning models.\n",
    "\n",
    "This notebook is partially based on this [blog post](https://towardsdatascience.com/using-model-interpretation-with-shap-to-understand-what-happened-in-the-titanic-1dd42ef41888)."
   ]
  },
  {
   "cell_type": "code",
   "execution_count": 0,
   "metadata": {
    "application/vnd.databricks.v1+cell": {
     "cellMetadata": {
      "byteLimit": 2048000,
      "rowLimit": 10000
     },
     "inputWidgets": {},
     "nuid": "3abbe94d-6a64-4272-961a-22c19a654dd1",
     "showTitle": false,
     "title": ""
    }
   },
   "outputs": [],
   "source": [
    "!pip install -U -q shap"
   ]
  },
  {
   "cell_type": "code",
   "execution_count": 0,
   "metadata": {
    "application/vnd.databricks.v1+cell": {
     "cellMetadata": {
      "byteLimit": 2048000,
      "rowLimit": 10000
     },
     "inputWidgets": {},
     "nuid": "ff48b893-12fd-4ecd-bc48-fa7d37962a95",
     "showTitle": false,
     "title": ""
    }
   },
   "outputs": [],
   "source": [
    "import pandas as pd\n",
    "import numpy as np\n",
    "import seaborn as sns\n",
    "\n",
    "from sklearn.preprocessing import LabelEncoder\n",
    "from sklearn.model_selection import train_test_split"
   ]
  },
  {
   "cell_type": "code",
   "execution_count": 0,
   "metadata": {
    "application/vnd.databricks.v1+cell": {
     "cellMetadata": {
      "byteLimit": 2048000,
      "rowLimit": 10000
     },
     "inputWidgets": {},
     "nuid": "bfe9c2e1-6f4d-4712-a2ae-9701abc27756",
     "showTitle": false,
     "title": ""
    }
   },
   "outputs": [],
   "source": [
    "import mlflow\n",
    "mlflow.autolog(disable=True)"
   ]
  },
  {
   "cell_type": "markdown",
   "metadata": {
    "application/vnd.databricks.v1+cell": {
     "cellMetadata": {
      "byteLimit": 2048000,
      "rowLimit": 10000
     },
     "inputWidgets": {},
     "nuid": "b283b05e-b217-4f73-b92c-b58daf46855f",
     "showTitle": false,
     "title": ""
    }
   },
   "source": [
    "## 1 - Data Preprocessing\n",
    "\n",
    "We are going to use the Titanic data set. At this point you should be fairly familiar with it. Most of the preprocessing should not contain any new material and you can focus on the sections using SHAP."
   ]
  },
  {
   "cell_type": "code",
   "execution_count": 0,
   "metadata": {
    "application/vnd.databricks.v1+cell": {
     "cellMetadata": {
      "byteLimit": 2048000,
      "rowLimit": 10000
     },
     "inputWidgets": {},
     "nuid": "cfe0eb8a-a0c5-4878-967f-9ba0433dc36a",
     "showTitle": false,
     "title": ""
    }
   },
   "outputs": [],
   "source": [
    "# reading the titanic data\n",
    "df_titanic = pd.read_csv(\"../../../Data/data_titanic/train.csv\")\n",
    "\n",
    "df_titanic.head()"
   ]
  },
  {
   "cell_type": "code",
   "execution_count": 0,
   "metadata": {
    "application/vnd.databricks.v1+cell": {
     "cellMetadata": {
      "byteLimit": 2048000,
      "rowLimit": 10000
     },
     "inputWidgets": {},
     "nuid": "8a615a05-758d-41d0-aae9-a78375867bc1",
     "showTitle": false,
     "title": ""
    }
   },
   "outputs": [],
   "source": [
    "cols = df_titanic.columns \n",
    "colours = ['darkblue', 'red'] \n",
    "sns.heatmap(df_titanic[cols].isnull(), cmap=sns.color_palette(colours))"
   ]
  },
  {
   "cell_type": "code",
   "execution_count": 0,
   "metadata": {
    "application/vnd.databricks.v1+cell": {
     "cellMetadata": {
      "byteLimit": 2048000,
      "rowLimit": 10000
     },
     "inputWidgets": {},
     "nuid": "be2218e6-db87-4f86-828b-bfea93d9b7dd",
     "showTitle": false,
     "title": ""
    }
   },
   "outputs": [],
   "source": [
    "pct_list = []\n",
    "for col in df_titanic.columns:\n",
    "    pct_missing = np.mean(df_titanic[col].isnull())\n",
    "    if round(pct_missing*100) >0:\n",
    "        pct_list.append([col, round(pct_missing*100)])\n",
    "    print('{} - {}%'.format(col, round(pct_missing*100)))"
   ]
  },
  {
   "cell_type": "markdown",
   "metadata": {
    "application/vnd.databricks.v1+cell": {
     "cellMetadata": {
      "byteLimit": 2048000,
      "rowLimit": 10000
     },
     "inputWidgets": {},
     "nuid": "d0176bf4-0acc-4f34-918c-baf653823a5b",
     "showTitle": false,
     "title": ""
    }
   },
   "source": [
    "The feature “Cabin” is missing 77% of the data. So we are going to remove that feature. \n",
    "\n",
    "Age, however, is missing 20% of the data. Age should be an important variable in this application since it must have affected the probability of survival (e.g. older people or children might have been given the priority). Usually, we would just fill the missing values with the mean of the other’s people’s age. However, in this specific dataset, people were from different classes so it’s not a good idea to treat all of them as one group. The dataset has a feature “Name” the name has the title of the people (e.g. “Mr”, “Miss”…etc). That title should be a great indication of the age. Also, we should keep in mind that at that time of the incidence (in 1912) the socioeconomic status affected the people’s title regardless on age (e.g. younger people who are rich could get titles that usual poor people at the same age wouldn’t). So we are going to group people by their title and Pclass and then we will assign the mean of the age of each group to the missing age in each group."
   ]
  },
  {
   "cell_type": "code",
   "execution_count": 0,
   "metadata": {
    "application/vnd.databricks.v1+cell": {
     "cellMetadata": {
      "byteLimit": 2048000,
      "rowLimit": 10000
     },
     "inputWidgets": {},
     "nuid": "aa4ff488-380c-42f9-b916-fda35d5f12d1",
     "showTitle": false,
     "title": ""
    }
   },
   "outputs": [],
   "source": [
    "# extracting the title from the name:\n",
    "Title = []\n",
    "for name in  df_titanic.Name:\n",
    "    Title.append(name.split(\",\")[1].split(\".\")[0])\n",
    "    \n",
    "df_titanic[\"Title\"] = Title"
   ]
  },
  {
   "cell_type": "code",
   "execution_count": 0,
   "metadata": {
    "application/vnd.databricks.v1+cell": {
     "cellMetadata": {
      "byteLimit": 2048000,
      "rowLimit": 10000
     },
     "inputWidgets": {},
     "nuid": "f3797368-a984-448b-a189-b46a3498c5b3",
     "showTitle": false,
     "title": ""
    }
   },
   "outputs": [],
   "source": [
    "#grouping people with pclass and title\n",
    "df_titanic.groupby([\"Pclass\", 'Title'])['Age'].agg(['mean']).round(0)\n",
    "\n",
    "# adding the mean of the age of each group to the missing values\n",
    "df_titanic[\"Age\"] = df_titanic.groupby([\"Title\", \"Pclass\"])[\"Age\"].transform(lambda x: x.fillna(x.mean()))"
   ]
  },
  {
   "cell_type": "markdown",
   "metadata": {
    "application/vnd.databricks.v1+cell": {
     "cellMetadata": {
      "byteLimit": 2048000,
      "rowLimit": 10000
     },
     "inputWidgets": {},
     "nuid": "f2f6bef1-5bfa-4586-9757-c473615f7a1e",
     "showTitle": false,
     "title": ""
    }
   },
   "source": [
    "Now, we can also delete the unneeded features like the name (after extracting the title from it), the ticket ID, the passenger ID."
   ]
  },
  {
   "cell_type": "code",
   "execution_count": 0,
   "metadata": {
    "application/vnd.databricks.v1+cell": {
     "cellMetadata": {
      "byteLimit": 2048000,
      "rowLimit": 10000
     },
     "inputWidgets": {},
     "nuid": "d0347145-e5d8-4b11-ad95-23975ece8067",
     "showTitle": false,
     "title": ""
    }
   },
   "outputs": [],
   "source": [
    "df_titanic.drop(columns = [\"Name\", \"PassengerId\", \"Ticket\", \"Cabin\", \"Title\"], inplace=True)"
   ]
  },
  {
   "cell_type": "markdown",
   "metadata": {
    "application/vnd.databricks.v1+cell": {
     "cellMetadata": {
      "byteLimit": 2048000,
      "rowLimit": 10000
     },
     "inputWidgets": {},
     "nuid": "828aa92b-e0af-4ea2-a990-7eb5c95d26e7",
     "showTitle": false,
     "title": ""
    }
   },
   "source": [
    "As a final step, we will encode the categorical features into numerical:"
   ]
  },
  {
   "cell_type": "code",
   "execution_count": 0,
   "metadata": {
    "application/vnd.databricks.v1+cell": {
     "cellMetadata": {
      "byteLimit": 2048000,
      "rowLimit": 10000
     },
     "inputWidgets": {},
     "nuid": "af50482a-4a96-4cda-81b4-daf7641094fa",
     "showTitle": false,
     "title": ""
    }
   },
   "outputs": [],
   "source": [
    "df_titanic.Sex = pd.Categorical(df_titanic.Sex)\n",
    "df_titanic.Embarked = pd.Categorical(df_titanic.Embarked)\n",
    "df_titanic[\"Sex\"] = df_titanic.Sex.cat.codes\n",
    "df_titanic[\"Embarked\"] = df_titanic.Embarked.cat.codes"
   ]
  },
  {
   "cell_type": "markdown",
   "metadata": {
    "application/vnd.databricks.v1+cell": {
     "cellMetadata": {
      "byteLimit": 2048000,
      "rowLimit": 10000
     },
     "inputWidgets": {},
     "nuid": "61a753a3-f628-46cf-bb7b-22a5905a3d67",
     "showTitle": false,
     "title": ""
    }
   },
   "source": [
    "We will drop the “Survival” outcome variable from the data set."
   ]
  },
  {
   "cell_type": "code",
   "execution_count": 0,
   "metadata": {
    "application/vnd.databricks.v1+cell": {
     "cellMetadata": {
      "byteLimit": 2048000,
      "rowLimit": 10000
     },
     "inputWidgets": {},
     "nuid": "b6cf9b00-3d8b-4683-b676-00562762c8dd",
     "showTitle": false,
     "title": ""
    }
   },
   "outputs": [],
   "source": [
    "target = df_titanic.Survived.values\n",
    "df_titanic.drop(columns =[\"Survived\"], inplace=True)"
   ]
  },
  {
   "cell_type": "markdown",
   "metadata": {
    "application/vnd.databricks.v1+cell": {
     "cellMetadata": {
      "byteLimit": 2048000,
      "rowLimit": 10000
     },
     "inputWidgets": {},
     "nuid": "9d3b0806-e266-4c2d-9eb5-5365c33c8d89",
     "showTitle": false,
     "title": ""
    }
   },
   "source": [
    "## 2 - Building a Linear Model\n",
    "Finally, we are going to build the model. We will go with a simple logistic regression model since the goal here is to see how the features affect the outcome and not to obtain a high score in prediction."
   ]
  },
  {
   "cell_type": "markdown",
   "metadata": {
    "application/vnd.databricks.v1+cell": {
     "cellMetadata": {
      "byteLimit": 2048000,
      "rowLimit": 10000
     },
     "inputWidgets": {},
     "nuid": "d9e67232-2878-4ab4-abb7-5093f51ae650",
     "showTitle": false,
     "title": ""
    }
   },
   "source": [
    "**Using train test split to create validation set**"
   ]
  },
  {
   "cell_type": "code",
   "execution_count": 0,
   "metadata": {
    "application/vnd.databricks.v1+cell": {
     "cellMetadata": {
      "byteLimit": 2048000,
      "rowLimit": 10000
     },
     "inputWidgets": {},
     "nuid": "6c8b4999-393c-4a92-a711-b66a0ea71545",
     "showTitle": false,
     "title": ""
    }
   },
   "outputs": [],
   "source": [
    "X_train, X_test, y_train, y_test = train_test_split(df_titanic, target, test_size=0.3)"
   ]
  },
  {
   "cell_type": "code",
   "execution_count": 0,
   "metadata": {
    "application/vnd.databricks.v1+cell": {
     "cellMetadata": {
      "byteLimit": 2048000,
      "rowLimit": 10000
     },
     "inputWidgets": {},
     "nuid": "2382dd0c-6a42-409d-a833-9dbe76cef169",
     "showTitle": false,
     "title": ""
    }
   },
   "outputs": [],
   "source": [
    "from sklearn.linear_model import LogisticRegression"
   ]
  },
  {
   "cell_type": "code",
   "execution_count": 0,
   "metadata": {
    "application/vnd.databricks.v1+cell": {
     "cellMetadata": {
      "byteLimit": 2048000,
      "rowLimit": 10000
     },
     "inputWidgets": {},
     "nuid": "efc15938-2a1e-421f-bd9e-cbbfe56b5e48",
     "showTitle": false,
     "title": ""
    }
   },
   "outputs": [],
   "source": [
    "LR = LogisticRegression(max_iter=1000)\n",
    "LR.fit(X_train, y_train)\n",
    "LR.score(X_test, y_test)"
   ]
  },
  {
   "cell_type": "markdown",
   "metadata": {
    "application/vnd.databricks.v1+cell": {
     "cellMetadata": {
      "byteLimit": 2048000,
      "rowLimit": 10000
     },
     "inputWidgets": {},
     "nuid": "1a77300b-fe0b-480e-84e9-26d58a1d14dc",
     "showTitle": false,
     "title": ""
    }
   },
   "source": [
    "## 3 - Using SHAP"
   ]
  },
  {
   "cell_type": "code",
   "execution_count": 0,
   "metadata": {
    "application/vnd.databricks.v1+cell": {
     "cellMetadata": {
      "byteLimit": 2048000,
      "rowLimit": 10000
     },
     "inputWidgets": {},
     "nuid": "3ec466e1-1dc3-4aaa-8040-62543df00ac9",
     "showTitle": false,
     "title": ""
    }
   },
   "outputs": [],
   "source": [
    "import shap"
   ]
  },
  {
   "cell_type": "code",
   "execution_count": 0,
   "metadata": {
    "application/vnd.databricks.v1+cell": {
     "cellMetadata": {
      "byteLimit": 2048000,
      "rowLimit": 10000
     },
     "inputWidgets": {},
     "nuid": "18346d3e-ae51-4912-9458-9d66caa00dd3",
     "showTitle": false,
     "title": ""
    }
   },
   "outputs": [],
   "source": [
    "explainer = shap.LinearExplainer(LR, X_train, feature_perturbation=\"interventional\")\n",
    "shap_values = explainer.shap_values(X_test)\n",
    "\n",
    "shap.summary_plot(shap_values, X_test, plot_size=[12,8])\n",
    "shap.summary_plot(shap_values, X_train, plot_type=\"bar\", plot_size=[12,8])"
   ]
  },
  {
   "cell_type": "markdown",
   "metadata": {
    "application/vnd.databricks.v1+cell": {
     "cellMetadata": {
      "byteLimit": 2048000,
      "rowLimit": 10000
     },
     "inputWidgets": {},
     "nuid": "ffb2436c-0122-45ca-871a-e1bb2cc5d7fc",
     "showTitle": false,
     "title": ""
    }
   },
   "source": [
    "+ \"Pclass\" has a significant effect on the survival rate of the passengers. It’s the second most significant feature after “Sex”. \n",
    "+ We see from the plot above that low values (blue) for \"Pclass\" which correspond to a class of 1 (richer people) have a positive effect on people’s survival while higher values (red), which correspond to the third class, have a negative effect on the survival rate. \n",
    "+ We can also see that “sex” is the most important feature with an indication that being a “female” (blue) had a positive impact on the survival rate. \n",
    "+ The feature “Age” also shows that lower values (blue) had a positive impact on survival."
   ]
  },
  {
   "cell_type": "markdown",
   "metadata": {
    "application/vnd.databricks.v1+cell": {
     "cellMetadata": {
      "byteLimit": 2048000,
      "rowLimit": 10000
     },
     "inputWidgets": {},
     "nuid": "056b4b57-d579-4410-8dbf-65d09842a88e",
     "showTitle": false,
     "title": ""
    }
   },
   "source": [
    "Let’s take a look at the variable \"Fare\" which is how much each person paid for their ticket. This variable should be a continuous description of people’s wealth:"
   ]
  },
  {
   "cell_type": "code",
   "execution_count": 0,
   "metadata": {
    "application/vnd.databricks.v1+cell": {
     "cellMetadata": {
      "byteLimit": 2048000,
      "rowLimit": 10000
     },
     "inputWidgets": {},
     "nuid": "94a52824-f58f-4cde-837b-c1adfd068887",
     "showTitle": false,
     "title": ""
    }
   },
   "outputs": [],
   "source": [
    "shap.dependence_plot(\"Fare\", shap_values, X_test)"
   ]
  },
  {
   "cell_type": "markdown",
   "metadata": {
    "application/vnd.databricks.v1+cell": {
     "cellMetadata": {
      "byteLimit": 2048000,
      "rowLimit": 10000
     },
     "inputWidgets": {},
     "nuid": "329c1222-ebe1-4f11-845c-2ae91b543d8f",
     "showTitle": false,
     "title": ""
    }
   },
   "source": [
    "We see that there is a linear relationship between how much people paid and their chance of survival. The richer they were the more likely they survived.  \n",
    "Finally, let’s take a look at a few passengers more closely:"
   ]
  },
  {
   "cell_type": "code",
   "execution_count": 0,
   "metadata": {
    "application/vnd.databricks.v1+cell": {
     "cellMetadata": {
      "byteLimit": 2048000,
      "rowLimit": 10000
     },
     "inputWidgets": {},
     "nuid": "5705f133-e0a6-493c-b077-c1c8ac2e87c0",
     "showTitle": false,
     "title": ""
    }
   },
   "outputs": [],
   "source": [
    "idx = 1\n",
    "print(X_test.iloc[idx,:])\n",
    "print(y_test[idx])"
   ]
  },
  {
   "cell_type": "code",
   "execution_count": 0,
   "metadata": {
    "application/vnd.databricks.v1+cell": {
     "cellMetadata": {
      "byteLimit": 2048000,
      "rowLimit": 10000
     },
     "inputWidgets": {},
     "nuid": "acad9957-e16d-43d4-9310-d026669f9ba1",
     "showTitle": false,
     "title": ""
    }
   },
   "outputs": [],
   "source": [
    "shap_display = shap.force_plot(explainer.expected_value, \n",
    "                               shap_values[idx], \n",
    "                               X_test.iloc[idx,:], \n",
    "                               #link=\"logit\", \n",
    "                               matplotlib=True)\n",
    "display(shap_display)"
   ]
  },
  {
   "cell_type": "markdown",
   "metadata": {
    "application/vnd.databricks.v1+cell": {
     "cellMetadata": {
      "byteLimit": 2048000,
      "rowLimit": 10000
     },
     "inputWidgets": {},
     "nuid": "501a55ef-4d41-450c-a87b-7459c71c14f1",
     "showTitle": false,
     "title": ""
    }
   },
   "source": [
    "That’s a plot of a passenger who didn’t survive. \n",
    "+ The plot shows that his “Sex” (being male) and his “class” (being in the third class) were decreasing his survival rate. \n",
    "+ The plot also shows that the number of siblings (“SibSp) being 0 increased his chance slightly. Maybe people who were alone in the ship without family were able to run faster without distraction.\n",
    "\n",
    "Let’s take a look at someone who survived:"
   ]
  },
  {
   "cell_type": "code",
   "execution_count": 0,
   "metadata": {
    "application/vnd.databricks.v1+cell": {
     "cellMetadata": {
      "byteLimit": 2048000,
      "rowLimit": 10000
     },
     "inputWidgets": {},
     "nuid": "ab489e4b-927f-47ea-995c-883c32a52044",
     "showTitle": false,
     "title": ""
    }
   },
   "outputs": [],
   "source": [
    "idx = 4\n",
    "print(X_test.iloc[idx,:])\n",
    "print(y_test[idx])"
   ]
  },
  {
   "cell_type": "code",
   "execution_count": 0,
   "metadata": {
    "application/vnd.databricks.v1+cell": {
     "cellMetadata": {
      "byteLimit": 2048000,
      "rowLimit": 10000
     },
     "inputWidgets": {},
     "nuid": "9097c75a-423a-4b38-849e-646fd9ef4211",
     "showTitle": false,
     "title": ""
    }
   },
   "outputs": [],
   "source": [
    "shap_display = shap.force_plot(explainer.expected_value, \n",
    "                               shap_values[idx], \n",
    "                               X_test.iloc[idx], \n",
    "                               #link=\"logit\", \n",
    "                               matplotlib=True)\n",
    "display(shap_display)"
   ]
  },
  {
   "cell_type": "markdown",
   "metadata": {
    "application/vnd.databricks.v1+cell": {
     "cellMetadata": {
      "byteLimit": 2048000,
      "rowLimit": 10000
     },
     "inputWidgets": {},
     "nuid": "0a46ba26-4001-4c9e-97b8-6d22ead17bc4",
     "showTitle": false,
     "title": ""
    }
   },
   "source": [
    "As expected, this person is female in class 1 who paid a high fare. This gave her a higher chance of survival. Also, the fact that she was a bit old (for the standard of time) decreased her chance a little bit."
   ]
  },
  {
   "cell_type": "markdown",
   "metadata": {
    "application/vnd.databricks.v1+cell": {
     "cellMetadata": {
      "byteLimit": 2048000,
      "rowLimit": 10000
     },
     "inputWidgets": {},
     "nuid": "a7250afd-06df-4279-a520-e2e021b779ce",
     "showTitle": false,
     "title": ""
    }
   },
   "source": [
    "## 4 - Conclusion\n",
    "The model interpretation allow us to try to explain what happened at the titanic.  \n",
    "When the ship started to sink, rich people had the priority to leave the ship. Those with a fewer number of siblings were faster since they didn’t have to look for their family. When they found out that the lifeboats number was limited, they decided to prioritize children and women. So the priority was as the following: rich women and children, rich men, then everyone else. It’s very interesting how such insights can be fully extracted from a dataset."
   ]
  }
 ],
 "metadata": {
  "application/vnd.databricks.v1+notebook": {
   "dashboards": [],
   "language": "python",
   "notebookMetadata": {
    "pythonIndentUnit": 2
   },
   "notebookName": "1b_Interpretable_ML_SHAP_jupyter",
   "widgets": {}
  },
  "language_info": {
   "name": "python"
  }
 },
 "nbformat": 4,
 "nbformat_minor": 0
}
