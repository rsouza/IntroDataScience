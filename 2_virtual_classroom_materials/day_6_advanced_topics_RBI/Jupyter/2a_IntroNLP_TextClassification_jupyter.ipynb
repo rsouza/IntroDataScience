{
 "cells": [
  {
   "cell_type": "markdown",
   "metadata": {
    "application/vnd.databricks.v1+cell": {
     "cellMetadata": {
      "byteLimit": 2048000,
      "rowLimit": 10000
     },
     "inputWidgets": {},
     "nuid": "c40d0ba2-407a-4895-bf59-cf9c35d6e3d4",
     "showTitle": false,
     "title": ""
    }
   },
   "source": [
    "## Introduction to Natural Language Processing tasks"
   ]
  },
  {
   "cell_type": "code",
   "execution_count": 0,
   "metadata": {
    "application/vnd.databricks.v1+cell": {
     "cellMetadata": {
      "byteLimit": 2048000,
      "rowLimit": 10000
     },
     "inputWidgets": {},
     "nuid": "78b8dafb-ad3c-4e7f-a62a-e3462fde867f",
     "showTitle": false,
     "title": ""
    }
   },
   "outputs": [],
   "source": [
    "!pip install -U eli5"
   ]
  },
  {
   "cell_type": "code",
   "execution_count": 0,
   "metadata": {
    "application/vnd.databricks.v1+cell": {
     "cellMetadata": {
      "byteLimit": 2048000,
      "rowLimit": 10000
     },
     "inputWidgets": {},
     "nuid": "a61131ea-a10a-4a3e-8e47-db8dde8bce33",
     "showTitle": false,
     "title": ""
    }
   },
   "outputs": [],
   "source": [
    "import re\n",
    "import os\n",
    "import numpy as np\n",
    "import matplotlib.pyplot as plt\n",
    "import seaborn as sn\n",
    "import pandas as pd\n",
    "%matplotlib inline\n",
    "\n",
    "from sklearn.feature_extraction.text import CountVectorizer\n",
    "from sklearn.feature_extraction.text import TfidfTransformer\n",
    "\n",
    "from sklearn.pipeline import Pipeline\n",
    "from sklearn.datasets import fetch_20newsgroups\n",
    "\n",
    "from sklearn.naive_bayes import MultinomialNB\n",
    "from sklearn.linear_model import LogisticRegression\n",
    "from sklearn.svm import LinearSVC\n",
    "\n",
    "from sklearn.model_selection import GridSearchCV\n",
    "from sklearn.metrics import classification_report, confusion_matrix\n",
    "\n",
    "import eli5"
   ]
  },
  {
   "cell_type": "markdown",
   "metadata": {
    "application/vnd.databricks.v1+cell": {
     "cellMetadata": {
      "byteLimit": 2048000,
      "rowLimit": 10000
     },
     "inputWidgets": {},
     "nuid": "eac76bb6-b2c1-4db0-b5ea-1628df586978",
     "showTitle": false,
     "title": ""
    }
   },
   "source": [
    "### Text Classification\n",
    "#### \"Traditional\" Text Classification with Scikit-learn\n",
    "In this notebook, we're going to experiment with a few \"traditional\" approaches to text classification. These approaches pre-date the deep learning revolution in Natural Language Processing, but are often quick and effective ways of training a text classifier.\n",
    "\n",
    "#### Data\n",
    "We are going to work with the **20 Newsgroups data set**, a classic collection of text documents that is often used as a benchmark for text classification models. The set contains texts about various topics, ranging from computer hardward to religion. Some of the topics are closely related to each other (such as \"IBM PC hardware\" and \"Mac hardware\"), while others are very different (such as \"religion\" or \"hockey\"). The 20 Newsgroups comes shipped with the Scikit-learn machine learning library, our main tool for this exercise. It has been split into training set of 11,314 texts and a test set of 7,532 texts."
   ]
  },
  {
   "cell_type": "code",
   "execution_count": 0,
   "metadata": {
    "application/vnd.databricks.v1+cell": {
     "cellMetadata": {
      "byteLimit": 2048000,
      "rowLimit": 10000
     },
     "inputWidgets": {},
     "nuid": "52591816-e977-407a-a607-00a4b4bf3095",
     "showTitle": false,
     "title": ""
    }
   },
   "outputs": [],
   "source": [
    "train_data = fetch_20newsgroups(subset='train', shuffle=True, random_state=42)\n",
    "test_data = fetch_20newsgroups(subset='test')\n",
    "\n",
    "print(\"Training texts:\", len(train_data.data))\n",
    "print(\"Test texts:\", len(test_data.data))"
   ]
  },
  {
   "cell_type": "code",
   "execution_count": 0,
   "metadata": {
    "application/vnd.databricks.v1+cell": {
     "cellMetadata": {
      "byteLimit": 2048000,
      "rowLimit": 10000
     },
     "inputWidgets": {},
     "nuid": "c5166f6e-10e7-442f-b3c3-1bd7565e7b77",
     "showTitle": false,
     "title": ""
    }
   },
   "outputs": [],
   "source": [
    "train_data.target_names"
   ]
  },
  {
   "cell_type": "code",
   "execution_count": 0,
   "metadata": {
    "application/vnd.databricks.v1+cell": {
     "cellMetadata": {
      "byteLimit": 2048000,
      "rowLimit": 10000
     },
     "inputWidgets": {},
     "nuid": "173f2280-ada4-450c-bd55-2bd9acb342cb",
     "showTitle": false,
     "title": ""
    }
   },
   "outputs": [],
   "source": [
    "text_num = 10\n",
    "print(f\"The topic is {train_data.target_names[train_data.target[text_num]]}\")\n",
    "print()\n",
    "print(train_data.data[text_num])"
   ]
  },
  {
   "cell_type": "markdown",
   "metadata": {
    "application/vnd.databricks.v1+cell": {
     "cellMetadata": {
      "byteLimit": 2048000,
      "rowLimit": 10000
     },
     "inputWidgets": {},
     "nuid": "b2d8915c-6233-485d-8c26-62ac3f75c412",
     "showTitle": false,
     "title": ""
    }
   },
   "source": [
    "#### Preprocessing  \n",
    "\n",
    "The first step in the development of any NLP model is text preprocessing. This means we're going to transform our texts from word sequences to feature vectors. These feature vectors each contain the values of' a large number of features.  \n",
    "\n",
    "In this experiment, we're going to work with so-called **\"bag-of-word\"** approaches. Bag-of-word methods treat every text as an unordered collection of words (or optionally, _ngrams_), and the raw feature vectors simply tell us how often each word (or ngram) occurs in a text. In Scikit-learn, we can construct these raw feature vectors with `CountVectorizer`, which tokenizes a text and counts the number of times any given text contains every token in the corpus.  \n",
    "\n",
    "However, these raw counts are not very informative yet. This is because the raw feature vectors of most texts in the same language will be very similar. For example, most texts in English contain many instances of relatively uninformative words, such as a, the or be. Instead, what we're interested in are words like computer or hardware: words that occur often in one text, but not very often in the corpus as a whole. Therefore we're going to weight all features by their **tf-idf score**, which counts the number of times every token appears in a text and divides it by (the logarithm of) the percentage of corpus documents that contain that token. This weighting is performed by Scikit-learn's `TfidfTransformer`.  \n",
    "\n",
    "To obtain the weighted feature vectors, we combine the `CountVectorizer` and `TfidfTransformer` in a Pipeline, and fit this pipeline on the training data. We then transform both the training texts and the test texts to a collection of such weighted feature vectors. Scikit-learn also has a `TfidfVectorizer`, which achieves the same result as our pipeline."
   ]
  },
  {
   "cell_type": "code",
   "execution_count": 0,
   "metadata": {
    "application/vnd.databricks.v1+cell": {
     "cellMetadata": {
      "byteLimit": 2048000,
      "rowLimit": 10000
     },
     "inputWidgets": {},
     "nuid": "fbcda568-ed6a-4f3f-91a2-ba85efb8e887",
     "showTitle": false,
     "title": ""
    }
   },
   "outputs": [],
   "source": [
    "def clean_and_tokenize_text(news_data):\n",
    "    \"\"\"Cleans some issues with the text data\n",
    "    Args:\n",
    "        news_data: list of text strings\n",
    "    Returns:\n",
    "        For each text string, an array of tokenized words are returned in a list\n",
    "    \"\"\"\n",
    "    cleaned_text = []\n",
    "    for text in news_data:\n",
    "        x = re.sub('[^\\w]|_', ' ', text)  # only keep numbers and letters and spaces\n",
    "        x = x.lower()\n",
    "        x = re.sub(r'[^\\x00-\\x7f]',r'', x)  # remove non ascii texts\n",
    "        tokens = [y for y in x.split(' ') if y] # remove empty words\n",
    "        tokens = ['[number]' if x.isdigit() else x for x in tokens]\n",
    "        tokens =  ' '.join(tokens)\n",
    "        # As an exercise, try stemming each token using python's nltk package.\n",
    "        cleaned_text.append(tokens)\n",
    "    return cleaned_text\n",
    "\n",
    "train = clean_and_tokenize_text(train_data.data)\n",
    "test = clean_and_tokenize_text(test_data.data)"
   ]
  },
  {
   "cell_type": "code",
   "execution_count": 0,
   "metadata": {
    "application/vnd.databricks.v1+cell": {
     "cellMetadata": {
      "byteLimit": 2048000,
      "rowLimit": 10000
     },
     "inputWidgets": {},
     "nuid": "2b6ba1bb-0175-4e0a-98fb-6e8f04d95b83",
     "showTitle": false,
     "title": ""
    }
   },
   "outputs": [],
   "source": [
    "preprocessing = Pipeline([\n",
    "    ('vect', CountVectorizer()),\n",
    "    ('tfidf', TfidfTransformer())\n",
    "])\n",
    "  \n",
    "print(\"Preprocessing training data...\")\n",
    "#train_preprocessed = preprocessing.fit_transform(train_data.data)\n",
    "train_preprocessed = preprocessing.fit_transform(train)\n",
    "\n",
    "print(\"Preprocessing test data...\")\n",
    "#test_preprocessed = preprocessing.transform(test_data.data)\n",
    "test_preprocessed = preprocessing.transform(test)"
   ]
  },
  {
   "cell_type": "markdown",
   "metadata": {
    "application/vnd.databricks.v1+cell": {
     "cellMetadata": {
      "byteLimit": 2048000,
      "rowLimit": 10000
     },
     "inputWidgets": {},
     "nuid": "3b23c61d-432e-4f8b-b502-6a54722ebb91",
     "showTitle": false,
     "title": ""
    }
   },
   "source": [
    "#### Training\n",
    "\n",
    "Next, we train a text classifier on the preprocessed training data. We're going to experiment with three classic text classification models: Naive Bayes, Support Vector Machines and Logistic Regression. \n",
    "\n",
    "[Naive Bayes classifiers](https://en.wikipedia.org/wiki/Naive_Bayes_classifier) are extremely simple classifiers that assume all features are independent of each other. They just learn how frequent all classes are and how frequently each feature occurs in a class. To classify a new text, they simply multiply the probabilities for every feature \\\\(x_i\\\\) given each class \\\\(C\\\\) and pick the class that gives the highest probability: \n",
    "\n",
    "$$ \\hat y = argmax_k \\, [ \\, p(C_k) \\prod_{i=1}^n p(x_i \\mid C_k)\\, ]  $$\n",
    "\n",
    "Naive Bayes Classifiers are very quick to train, but usually fall behind in terms of performance.\n",
    "\n",
    "[Support Vector Machines](https://en.wikipedia.org/wiki/Support_vector_machine) are much more advanced than Naive Bayes classifiers. They try to find the hyperplane in the feature space that best separates the data from the different classes. They do so by picking the hyperplane that maximizes the distance to the nearest data point on each side. When the classes are not linearly separable, SVMs map the data into a higher-dimensional space where a linear separation can hopefully be found. SVMs often achieve very good performance in text classification tasks.\n",
    "\n",
    "[Logistic Regression models](https://en.wikipedia.org/wiki/Logistic_regression), finally, model the log-odds \\\\(l\\\\), or \\\\(\\log[p\\,/\\,(1-p)]\\\\), of a class as a linear model and estimate the parameters \\\\(\\beta\\\\) of the model during training: \n",
    "\n",
    "\\\\(l = \\beta_0 + \\sum_{i=1}^n \\beta_i x_i\\\\)\n",
    "\n",
    "Like SVMs, they often achieve great performance in text classification.\n",
    "\n",
    "##### Simple training\n",
    "We train our three classifiers in Scikit-learn with the fit method, giving it the preprocessed training text and the correct classes for each text as parameters."
   ]
  },
  {
   "cell_type": "code",
   "execution_count": 0,
   "metadata": {
    "application/vnd.databricks.v1+cell": {
     "cellMetadata": {
      "byteLimit": 2048000,
      "rowLimit": 10000
     },
     "inputWidgets": {},
     "nuid": "4b3ba938-c4ed-41b9-b7a3-f21fdcec5516",
     "showTitle": false,
     "title": ""
    }
   },
   "outputs": [],
   "source": [
    "nb_classifier = MultinomialNB()\n",
    "svm_classifier = LinearSVC()\n",
    "lr_classifier = LogisticRegression(multi_class=\"ovr\")\n",
    "\n",
    "print(\"Training Naive Bayes classifier...\")\n",
    "nb_classifier.fit(train_preprocessed, train_data.target)\n",
    "\n",
    "print(\"Training SVM classifier...\")\n",
    "svm_classifier.fit(train_preprocessed, train_data.target)\n",
    "\n",
    "print(\"Training Logistic Regression classifier...\")\n",
    "lr_classifier.fit(train_preprocessed, train_data.target)"
   ]
  },
  {
   "cell_type": "markdown",
   "metadata": {
    "application/vnd.databricks.v1+cell": {
     "cellMetadata": {
      "byteLimit": 2048000,
      "rowLimit": 10000
     },
     "inputWidgets": {},
     "nuid": "b87f27ed-e582-41d1-bfcf-4c12e0651020",
     "showTitle": false,
     "title": ""
    }
   },
   "source": [
    "Let's find out how well each classifier performs. To find out we have each classifier `predict` the label for all texts in our preprocessed test set."
   ]
  },
  {
   "cell_type": "code",
   "execution_count": 0,
   "metadata": {
    "application/vnd.databricks.v1+cell": {
     "cellMetadata": {
      "byteLimit": 2048000,
      "rowLimit": 10000
     },
     "inputWidgets": {},
     "nuid": "ce413b4d-81ed-4d39-9a3e-906e05ec9108",
     "showTitle": false,
     "title": ""
    }
   },
   "outputs": [],
   "source": [
    "nb_predictions = nb_classifier.predict(test_preprocessed)\n",
    "lr_predictions = lr_classifier.predict(test_preprocessed)\n",
    "svm_predictions = svm_classifier.predict(test_preprocessed)"
   ]
  },
  {
   "cell_type": "markdown",
   "metadata": {
    "application/vnd.databricks.v1+cell": {
     "cellMetadata": {
      "byteLimit": 2048000,
      "rowLimit": 10000
     },
     "inputWidgets": {},
     "nuid": "bccac38f-87ac-4350-bc4b-6c1f802bba02",
     "showTitle": false,
     "title": ""
    }
   },
   "source": [
    "Now we can compute the accuracy of each model: the proportion of test texts for which the predicted label is the same as the target label. The Naive Bayes classifier assigned the correct label in 77.4% of the cases, the logistic regression model achieves an accuracy of 82.8%, and the Support Vector Machine got the label right 85.3% of the time."
   ]
  },
  {
   "cell_type": "code",
   "execution_count": 0,
   "metadata": {
    "application/vnd.databricks.v1+cell": {
     "cellMetadata": {
      "byteLimit": 2048000,
      "rowLimit": 10000
     },
     "inputWidgets": {},
     "nuid": "9b83e257-8fcf-462b-8a3e-a394eac81f56",
     "showTitle": false,
     "title": ""
    }
   },
   "outputs": [],
   "source": [
    "print(\"NB Accuracy:\", np.mean(nb_predictions == test_data.target))\n",
    "print(\"LR Accuracy:\", np.mean(lr_predictions == test_data.target))\n",
    "print(\"SVM Accuracy:\", np.mean(svm_predictions == test_data.target))"
   ]
  },
  {
   "cell_type": "markdown",
   "metadata": {
    "application/vnd.databricks.v1+cell": {
     "cellMetadata": {
      "byteLimit": 2048000,
      "rowLimit": 10000
     },
     "inputWidgets": {},
     "nuid": "9e859ff9-0264-4bbd-a801-b4ea0503f391",
     "showTitle": false,
     "title": ""
    }
   },
   "source": [
    "#### Grid search\n",
    "\n",
    "Still, it's a bit too early to announce the winner. It's very likely we haven't yet got the most from our classifiers. When we trained them above, we just used the default values for most hyperparameters. However, these hyperparameter values can have a big impact on accuracy. Therefore we want to explore the parameter space a bit more and find out what hyperparameter values give the best results. We do this with a so-called grid search. In a grid search we define a grid of hyperparameter values that we want to explore. Scikit-learn then steps to this grid to find the best combination. It does this with **n-fold cross-validation**: for each parameter combination in the grid, it fits a predefined number of models (**n**, the `cv` parameter in `GridSearchCV`. It splits up the training data in **n folds**, fits a model on all but one of these folds, and tests it on the held-out fold. When it has done this **n** times, it computes the average performance, and moves on. It performs the full hyperparameter grid in this way and keeps the model with the best average performance over the folds.\n",
    "\n",
    "In this example, we'll experiment with the **C hyperparameter**. C controls the degree of regularization in support vector machines and logistic regression. Regularization combats overfitting by imposing a penalty on large parameter values in the model. The lower the C value, the more regularization is applied."
   ]
  },
  {
   "cell_type": "code",
   "execution_count": 0,
   "metadata": {
    "application/vnd.databricks.v1+cell": {
     "cellMetadata": {
      "byteLimit": 2048000,
      "rowLimit": 10000
     },
     "inputWidgets": {},
     "nuid": "631338eb-3296-432e-ad90-4a699d6c1cc7",
     "showTitle": false,
     "title": ""
    }
   },
   "outputs": [],
   "source": [
    "parameters = {'C': np.logspace(0, 3, 10)}\n",
    "parameters = {'C': [0.1, 1, 10, 100, 1000]}\n",
    "\n",
    "print(\"Grid search for SVM\")\n",
    "svm_best = GridSearchCV(svm_classifier, parameters, cv=3, verbose=1, n_jobs=-1)\n",
    "svm_best.fit(train_preprocessed, train_data.target)\n",
    "\n",
    "print(\"Grid search for logistic regression\")\n",
    "lr_best = GridSearchCV(lr_classifier, parameters, cv=3, verbose=1, n_jobs=-1)\n",
    "lr_best.fit(train_preprocessed, train_data.target)"
   ]
  },
  {
   "cell_type": "markdown",
   "metadata": {
    "application/vnd.databricks.v1+cell": {
     "cellMetadata": {
      "byteLimit": 2048000,
      "rowLimit": 10000
     },
     "inputWidgets": {},
     "nuid": "e5fda5a5-a6de-4337-8aea-94a12af67c6e",
     "showTitle": false,
     "title": ""
    }
   },
   "source": [
    "When the grid search has been completed, we can find out what hyperparameter values led to the best-performing model."
   ]
  },
  {
   "cell_type": "code",
   "execution_count": 0,
   "metadata": {
    "application/vnd.databricks.v1+cell": {
     "cellMetadata": {
      "byteLimit": 2048000,
      "rowLimit": 10000
     },
     "inputWidgets": {},
     "nuid": "6ea6bffd-9920-4f19-8164-23a7d519b20c",
     "showTitle": false,
     "title": ""
    }
   },
   "outputs": [],
   "source": [
    "print(\"Best LR parameters:\")\n",
    "print(lr_best.best_params_)\n",
    "\n",
    "print(\"Best SVM Parameters\")\n",
    "print(svm_best.best_params_)"
   ]
  },
  {
   "cell_type": "markdown",
   "metadata": {
    "application/vnd.databricks.v1+cell": {
     "cellMetadata": {
      "byteLimit": 2048000,
      "rowLimit": 10000
     },
     "inputWidgets": {},
     "nuid": "a21657d0-f28d-4d09-b7dd-3c1ad5e5cda5",
     "showTitle": false,
     "title": ""
    }
   },
   "source": [
    "Let's see if these best models now perform any better on our test data. For the SVM, the default setting seems to have worked best: our other values didn't lead to a higher accuracy. For logistic regression, however, the default  𝐶  value was clearly not the most optimal one. When we increase  𝐶  to  1000 , the logistic regression model performs almost as well as the SVM."
   ]
  },
  {
   "cell_type": "code",
   "execution_count": 0,
   "metadata": {
    "application/vnd.databricks.v1+cell": {
     "cellMetadata": {
      "byteLimit": 2048000,
      "rowLimit": 10000
     },
     "inputWidgets": {},
     "nuid": "fac13e99-b452-429c-be6f-3cddf80b4e04",
     "showTitle": false,
     "title": ""
    }
   },
   "outputs": [],
   "source": [
    "best_lr_predictions = lr_best.predict(test_preprocessed)\n",
    "best_svm_predictions = svm_best.predict(test_preprocessed)\n",
    "\n",
    "print(\"Best LR Accuracy:\", np.mean(best_lr_predictions == test_data.target))\n",
    "print(\"Best SVM Accuracy:\", np.mean(best_svm_predictions == test_data.target))"
   ]
  },
  {
   "cell_type": "markdown",
   "metadata": {
    "application/vnd.databricks.v1+cell": {
     "cellMetadata": {
      "byteLimit": 2048000,
      "rowLimit": 10000
     },
     "inputWidgets": {},
     "nuid": "e22394b4-62d2-41e2-a583-b7c80874cf8b",
     "showTitle": false,
     "title": ""
    }
   },
   "source": [
    "### Extensive evaluation\n",
    "\n",
    "#### Detailed scores\n",
    "\n",
    "So far we've only looked at the accuracy of our models: the proportion of test examples for which their prediction is correct. This is fine as a first evaluation, but it doesn't give us much insight in what mistakes the models make and why. We'll therefore perform a much more extensive evaluation in three steps. Let's start by computing the precision, recall and F-score of the best SVM for the individual classes:\n",
    "\n",
    "- Precision \\\\(P\\\\) is the number of times the classifier predicted a class correctly, divided by the total number of times it predicted this class. \n",
    "- Recall is the proportion of documents with a given class that were labelled correctly by the classifier. \n",
    "- The F1-score is the harmonic mean between precision and recall: \\\\( 2PR/(P+R) \\\\)\n",
    "\n",
    "The classification report below shows, for example, that the sports classes were quite easy to predict, while the computer and some of the politics classes proved much more difficult."
   ]
  },
  {
   "cell_type": "code",
   "execution_count": 0,
   "metadata": {
    "application/vnd.databricks.v1+cell": {
     "cellMetadata": {
      "byteLimit": 2048000,
      "rowLimit": 10000
     },
     "inputWidgets": {},
     "nuid": "a28cf0c5-84d3-4890-95b2-9160afa456af",
     "showTitle": false,
     "title": ""
    }
   },
   "outputs": [],
   "source": [
    "print(classification_report(test_data.target, best_svm_predictions, target_names=test_data.target_names))"
   ]
  },
  {
   "cell_type": "markdown",
   "metadata": {
    "application/vnd.databricks.v1+cell": {
     "cellMetadata": {
      "byteLimit": 2048000,
      "rowLimit": 10000
     },
     "inputWidgets": {},
     "nuid": "a08f6cce-bedc-4390-a235-df86d7216864",
     "showTitle": false,
     "title": ""
    }
   },
   "source": [
    "#### Confusion matrix  \n",
    "\n",
    "Second, we're going to visualize our results in even more detail, using a so-called confusion matrix. A confusion matrix helps us better understand the errors our classifier makes. Its rows display the actual labels, its columns show the predictions of our classifier. This means all correct predictions will lie on the diagonal, where the actual label and the predicted label are the same. The predictions elsewhere in the matrix help us understand what classes are often mixed up by our classifier. Our confusion matrix shows, for example, that 91 documents with the label talk.politics.misc incorrectly received the label talk.politics.guns. Similarly, our classifier sometimes fails to tell apart the two religion classes, and gets quite mixed up in the computer topics in the top left corner."
   ]
  },
  {
   "cell_type": "code",
   "execution_count": 0,
   "metadata": {
    "application/vnd.databricks.v1+cell": {
     "cellMetadata": {
      "byteLimit": 2048000,
      "rowLimit": 10000
     },
     "inputWidgets": {},
     "nuid": "b3f3bccc-bd57-4c8c-bb04-8d65774efc37",
     "showTitle": false,
     "title": ""
    }
   },
   "outputs": [],
   "source": [
    "conf_matrix = confusion_matrix(test_data.target, best_svm_predictions)\n",
    "conf_matrix_df = pd.DataFrame(conf_matrix, index=test_data.target_names, columns=test_data.target_names)\n",
    "\n",
    "plt.figure(figsize=(15, 10))\n",
    "sn.heatmap(conf_matrix_df, annot=True, vmin=0, vmax=conf_matrix.max(), fmt='d', cmap=\"YlGnBu\")\n",
    "plt.yticks(rotation=0)\n",
    "plt.xticks(rotation=90)"
   ]
  },
  {
   "cell_type": "markdown",
   "metadata": {
    "application/vnd.databricks.v1+cell": {
     "cellMetadata": {
      "byteLimit": 2048000,
      "rowLimit": 10000
     },
     "inputWidgets": {},
     "nuid": "85a108ad-d4ef-4a06-b264-89c548a9281a",
     "showTitle": false,
     "title": ""
    }
   },
   "source": [
    "#### Explainability\n",
    "\n",
    "Finally, we'd like to perform a more qualitative evaluation of our model by taking a look at the features to which it assigns the highest weight for each of the classes. This will help us understand if the model indeed captures the phenomena we'd like it to capture. A great Python library to do this is `eli5`, which works together seamlessly with `scikit-learn`. Its function `explain_weights` takes a trained model, a list of feature names and target names, and prints out the features that have the highest positive values for each of the targets. The results convince us that our SVM indeed models the correct information: it sees a strong link between the \"atheism\" class and words such as _atheism_ and _atheists_, between \"computer graphics\" and words such as _3d_ and _image_, and so on."
   ]
  },
  {
   "cell_type": "code",
   "execution_count": 0,
   "metadata": {
    "application/vnd.databricks.v1+cell": {
     "cellMetadata": {
      "byteLimit": 2048000,
      "rowLimit": 10000
     },
     "inputWidgets": {},
     "nuid": "ab2c2d45-081e-40c0-aa12-3b9072c5300b",
     "showTitle": false,
     "title": ""
    }
   },
   "outputs": [],
   "source": [
    "# Use .get_feature_names_out for newer versions of sklearn\n",
    "# Use .get_feature_names for older versions of sklearn\n",
    "eli5.explain_weights(svm_best.best_estimator_, \n",
    "                     feature_names = preprocessing.named_steps[\"vect\"].get_feature_names_out(),\n",
    "                     target_names = train_data.target_names\n",
    "                    )"
   ]
  },
  {
   "cell_type": "markdown",
   "metadata": {
    "application/vnd.databricks.v1+cell": {
     "cellMetadata": {
      "byteLimit": 2048000,
      "rowLimit": 10000
     },
     "inputWidgets": {},
     "nuid": "a293d4d3-fad8-483a-a9d7-1b1537318fe0",
     "showTitle": false,
     "title": ""
    }
   },
   "source": [
    "#### Conclusion  \n",
    "\n",
    "This notebook has demonstrated how you can quickly train a text classifier. Although the types of models we've looked at predate the deep learning revolution in NLP, they're often a quick and effective way of training a first classifier for your text classification problem. Not only can they provide a good baseline and help you understand your data and problem better. In some cases, you may find they are quite hard to beat even with state-of-the-art deep learning models."
   ]
  }
 ],
 "metadata": {
  "application/vnd.databricks.v1+notebook": {
   "dashboards": [],
   "language": "python",
   "notebookMetadata": {
    "pythonIndentUnit": 2
   },
   "notebookName": "2a_IntroNLP_TextClassification_jupyter",
   "widgets": {}
  },
  "kernelspec": {
   "display_name": "Python 3",
   "language": "python",
   "name": "python3"
  },
  "language_info": {
   "codemirror_mode": {
    "name": "ipython",
    "version": 3
   },
   "file_extension": ".py",
   "mimetype": "text/x-python",
   "name": "python",
   "nbconvert_exporter": "python",
   "pygments_lexer": "ipython3",
   "version": "3.10.7"
  }
 },
 "nbformat": 4,
 "nbformat_minor": 0
}
