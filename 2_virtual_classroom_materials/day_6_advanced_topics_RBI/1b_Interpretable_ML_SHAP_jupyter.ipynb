{
 "cells": [
  {
   "cell_type": "markdown",
   "metadata": {
    "application/vnd.databricks.v1+cell": {
     "cellMetadata": {},
     "inputWidgets": {},
     "nuid": "82ace49d-f25e-40a3-865d-77b9d0ae2ea1",
     "showTitle": false,
     "title": ""
    }
   },
   "source": [
    "# Explaining Machine Learning models using [SHAP](https://ema.drwhy.ai/shapley.html)  \n",
    "\n",
    "SHAP is a great model interpretation tool. Even though it’s a sophisticated model, it’s intuitive to understand.  \n",
    "SHAP’s goal is to provide a visualization of the effect of each feature on the outcome variable.   \n",
    "\n",
    "To do that\n",
    "1. **SHAP builds a model that uses all the features except the one of interest** and see **how the model would perform without that feature**. \n",
    "2. Then, it would build the model again and do the prediction with the feature. \n",
    "3. The effect of the feature would then be the difference between the two values. \n",
    "\n",
    "The order at which features are passed to the model affects the output (especially in the tree-based models in which the model follows a schematic approach ordered by the features). So, SHAP computes all the possible permutation at which the different features can be passed to the model. This seems to have a huge computational cost but SHAP has optimized algorithms that make it faster for specific machine learning models.\n",
    "\n",
    "This notebook is partially based on this [blog post](https://towardsdatascience.com/using-model-interpretation-with-shap-to-understand-what-happened-in-the-titanic-1dd42ef41888)."
   ]
  },
  {
   "cell_type": "code",
   "execution_count": 0,
   "metadata": {
    "application/vnd.databricks.v1+cell": {
     "cellMetadata": {
      "byteLimit": 2048000,
      "rowLimit": 10000
     },
     "inputWidgets": {},
     "nuid": "f857a956-2ebf-4be3-82ec-f4fcd5b37e7a",
     "showTitle": false,
     "title": ""
    }
   },
   "outputs": [],
   "source": [
    "!pip install -qU shap numba"
   ]
  },
  {
   "cell_type": "code",
   "execution_count": 0,
   "metadata": {
    "application/vnd.databricks.v1+cell": {
     "cellMetadata": {
      "byteLimit": 2048000,
      "rowLimit": 10000
     },
     "inputWidgets": {},
     "nuid": "03808c2f-dbbd-4bd4-9177-1062b7f04792",
     "showTitle": false,
     "title": ""
    }
   },
   "outputs": [],
   "source": [
    "import pandas as pd\n",
    "import numpy as np\n",
    "import seaborn as sns\n",
    "\n",
    "from sklearn.preprocessing import LabelEncoder\n",
    "from sklearn.model_selection import train_test_split"
   ]
  },
  {
   "cell_type": "code",
   "execution_count": 0,
   "metadata": {
    "application/vnd.databricks.v1+cell": {
     "cellMetadata": {
      "byteLimit": 2048000,
      "rowLimit": 10000
     },
     "inputWidgets": {},
     "nuid": "e587a5ed-29e6-4739-b7ac-e2510fc31543",
     "showTitle": false,
     "title": ""
    }
   },
   "outputs": [],
   "source": [
    "import mlflow\n",
    "mlflow.autolog(disable=True)"
   ]
  },
  {
   "cell_type": "markdown",
   "metadata": {
    "application/vnd.databricks.v1+cell": {
     "cellMetadata": {},
     "inputWidgets": {},
     "nuid": "a0aeb216-f43b-4838-b71e-13bc5e0d7820",
     "showTitle": false,
     "title": ""
    }
   },
   "source": [
    "## 1 - Data Preprocessing\n",
    "\n",
    "We are going to use the Titanic data set. At this point you should be fairly familiar with it. Most of the preprocessing should not contain any new material and you can focus on the sections using SHAP. "
   ]
  },
  {
   "cell_type": "code",
   "execution_count": 0,
   "metadata": {
    "application/vnd.databricks.v1+cell": {
     "cellMetadata": {
      "byteLimit": 2048000,
      "rowLimit": 10000
     },
     "inputWidgets": {},
     "nuid": "b0aabc79-00f5-4f03-b1ba-ac7549a555c6",
     "showTitle": false,
     "title": ""
    }
   },
   "outputs": [],
   "source": [
    "# reading the titanic data\n",
    "df_titanic = pd.read_csv(\"../../Data/data_titanic/train.csv\")\n",
    "\n",
    "df_titanic.head()"
   ]
  },
  {
   "cell_type": "code",
   "execution_count": 0,
   "metadata": {
    "application/vnd.databricks.v1+cell": {
     "cellMetadata": {
      "byteLimit": 2048000,
      "rowLimit": 10000
     },
     "inputWidgets": {},
     "nuid": "1d34d4c0-fd94-43e1-a689-f9c9e1fac0d1",
     "showTitle": false,
     "title": ""
    }
   },
   "outputs": [],
   "source": [
    "cols = df_titanic.columns \n",
    "colours = ['darkblue', 'red'] \n",
    "sns.heatmap(df_titanic[cols].isnull(), cmap=sns.color_palette(colours))"
   ]
  },
  {
   "cell_type": "code",
   "execution_count": 0,
   "metadata": {
    "application/vnd.databricks.v1+cell": {
     "cellMetadata": {
      "byteLimit": 2048000,
      "rowLimit": 10000
     },
     "inputWidgets": {},
     "nuid": "2767930f-2eac-41a7-849f-e9d9e492af2d",
     "showTitle": false,
     "title": ""
    }
   },
   "outputs": [],
   "source": [
    "pct_list = []\n",
    "for col in df_titanic.columns:\n",
    "    pct_missing = np.mean(df_titanic[col].isnull())\n",
    "    if round(pct_missing*100) >0:\n",
    "        pct_list.append([col, round(pct_missing*100)])\n",
    "    print('{} - {}%'.format(col, round(pct_missing*100)))"
   ]
  },
  {
   "cell_type": "markdown",
   "metadata": {
    "application/vnd.databricks.v1+cell": {
     "cellMetadata": {},
     "inputWidgets": {},
     "nuid": "0f1a0b2d-c147-4036-bbbd-2354b0c8fec5",
     "showTitle": false,
     "title": ""
    }
   },
   "source": [
    "The feature “Cabin” is missing 77% of the data. So we are going to remove that feature. \n",
    "\n",
    "Age, however, is missing 20% of the data. Age should be an important variable in this application since it must have affected the probability of survival (e.g. older people or children might have been given the priority). Usually, we would just fill the missing values with the mean of the other’s people’s age. However, in this specific dataset, people were from different classes so it’s not a good idea to treat all of them as one group. The dataset has a feature “Name” the name has the title of the people (e.g. “Mr”, “Miss”…etc). That title should be a great indication of the age. Also, we should keep in mind that at that time of the incidence (in 1912) the socioeconomic status affected the people’s title regardless on age (e.g. younger people who are rich could get titles that usual poor people at the same age wouldn’t). So we are going to group people by their title and Pclass and then we will assign the mean of the age of each group to the missing age in each group."
   ]
  },
  {
   "cell_type": "code",
   "execution_count": 0,
   "metadata": {
    "application/vnd.databricks.v1+cell": {
     "cellMetadata": {
      "byteLimit": 2048000,
      "rowLimit": 10000
     },
     "inputWidgets": {},
     "nuid": "4e3c34d1-9971-4ce1-bd47-6c6e0180a0b0",
     "showTitle": false,
     "title": ""
    }
   },
   "outputs": [],
   "source": [
    "# extracting the title from the name:\n",
    "Title = []\n",
    "for name in  df_titanic.Name:\n",
    "    Title.append(name.split(\",\")[1].split(\".\")[0])\n",
    "    \n",
    "df_titanic[\"Title\"] = Title"
   ]
  },
  {
   "cell_type": "code",
   "execution_count": 0,
   "metadata": {
    "application/vnd.databricks.v1+cell": {
     "cellMetadata": {
      "byteLimit": 2048000,
      "rowLimit": 10000
     },
     "inputWidgets": {},
     "nuid": "d29a6554-5063-4eb5-bc2b-cab9f2e6c326",
     "showTitle": false,
     "title": ""
    }
   },
   "outputs": [],
   "source": [
    "#grouping people with pclass and title\n",
    "df_titanic.groupby([\"Pclass\", 'Title'])['Age'].agg(['mean']).round(0)\n",
    "\n",
    "# adding the mean of the age of each group to the missing values\n",
    "df_titanic[\"Age\"] = df_titanic.groupby([\"Title\", \"Pclass\"])[\"Age\"].transform(lambda x: x.fillna(x.mean()))"
   ]
  },
  {
   "cell_type": "markdown",
   "metadata": {
    "application/vnd.databricks.v1+cell": {
     "cellMetadata": {},
     "inputWidgets": {},
     "nuid": "e282bfe2-2821-432f-8483-d3ca22c064be",
     "showTitle": false,
     "title": ""
    }
   },
   "source": [
    "Now, we can also delete the unneeded features like the name (after extracting the title from it), the ticket ID, the passenger ID."
   ]
  },
  {
   "cell_type": "code",
   "execution_count": 0,
   "metadata": {
    "application/vnd.databricks.v1+cell": {
     "cellMetadata": {
      "byteLimit": 2048000,
      "rowLimit": 10000
     },
     "inputWidgets": {},
     "nuid": "f5027e44-cd64-42df-94fa-0cbf29def499",
     "showTitle": false,
     "title": ""
    }
   },
   "outputs": [],
   "source": [
    "df_titanic.drop(columns = [\"Name\", \"PassengerId\", \"Ticket\", \"Cabin\", \"Title\"], inplace=True)"
   ]
  },
  {
   "cell_type": "markdown",
   "metadata": {
    "application/vnd.databricks.v1+cell": {
     "cellMetadata": {},
     "inputWidgets": {},
     "nuid": "21517e75-a4cf-43dd-960e-ab1ab106bcd8",
     "showTitle": false,
     "title": ""
    }
   },
   "source": [
    "As a final step, we will encode the categorical features into numerical:"
   ]
  },
  {
   "cell_type": "code",
   "execution_count": 0,
   "metadata": {
    "application/vnd.databricks.v1+cell": {
     "cellMetadata": {
      "byteLimit": 2048000,
      "rowLimit": 10000
     },
     "inputWidgets": {},
     "nuid": "1e46c2d2-f7a3-4dd8-95e7-9857894c5215",
     "showTitle": false,
     "title": ""
    }
   },
   "outputs": [],
   "source": [
    "df_titanic.Sex = pd.Categorical(df_titanic.Sex)\n",
    "df_titanic.Embarked = pd.Categorical(df_titanic.Embarked)\n",
    "df_titanic[\"Sex\"] = df_titanic.Sex.cat.codes\n",
    "df_titanic[\"Embarked\"] = df_titanic.Embarked.cat.codes"
   ]
  },
  {
   "cell_type": "markdown",
   "metadata": {
    "application/vnd.databricks.v1+cell": {
     "cellMetadata": {},
     "inputWidgets": {},
     "nuid": "fb6e9b75-8ca4-43cb-8307-5e58a6c0c063",
     "showTitle": false,
     "title": ""
    }
   },
   "source": [
    "We will drop the “Survival” outcome variable from the data set."
   ]
  },
  {
   "cell_type": "code",
   "execution_count": 0,
   "metadata": {
    "application/vnd.databricks.v1+cell": {
     "cellMetadata": {
      "byteLimit": 2048000,
      "rowLimit": 10000
     },
     "inputWidgets": {},
     "nuid": "7bf70ccc-eac2-41b9-ad1e-0b5dd016d036",
     "showTitle": false,
     "title": ""
    }
   },
   "outputs": [],
   "source": [
    "target = df_titanic.Survived.values\n",
    "df_titanic.drop(columns =[\"Survived\"], inplace=True)"
   ]
  },
  {
   "cell_type": "markdown",
   "metadata": {
    "application/vnd.databricks.v1+cell": {
     "cellMetadata": {},
     "inputWidgets": {},
     "nuid": "91932997-7d56-4761-8569-cedf0e40d9b3",
     "showTitle": false,
     "title": ""
    }
   },
   "source": [
    "## 2 - Building a Linear Model\n",
    "Finally, we are going to build the model. We will go with a simple logistic regression model since the goal here is to see how the features affect the outcome and not to obtain a high score in prediction."
   ]
  },
  {
   "cell_type": "markdown",
   "metadata": {
    "application/vnd.databricks.v1+cell": {
     "cellMetadata": {},
     "inputWidgets": {},
     "nuid": "5691eb2b-18b2-4d07-b1b0-a65b3b4df842",
     "showTitle": false,
     "title": ""
    }
   },
   "source": [
    "**Using train test split to create validation set**"
   ]
  },
  {
   "cell_type": "code",
   "execution_count": 0,
   "metadata": {
    "application/vnd.databricks.v1+cell": {
     "cellMetadata": {
      "byteLimit": 2048000,
      "rowLimit": 10000
     },
     "inputWidgets": {},
     "nuid": "97576160-3d6c-4ffb-94ce-8092a1919b04",
     "showTitle": false,
     "title": ""
    }
   },
   "outputs": [],
   "source": [
    "X_train, X_test, y_train, y_test = train_test_split(df_titanic, target, test_size=0.3, random_state=42)"
   ]
  },
  {
   "cell_type": "code",
   "execution_count": 0,
   "metadata": {
    "application/vnd.databricks.v1+cell": {
     "cellMetadata": {
      "byteLimit": 2048000,
      "rowLimit": 10000
     },
     "inputWidgets": {},
     "nuid": "17448a61-6000-453b-9306-3db1010613a4",
     "showTitle": false,
     "title": ""
    }
   },
   "outputs": [],
   "source": [
    "from sklearn.linear_model import LogisticRegression"
   ]
  },
  {
   "cell_type": "code",
   "execution_count": 0,
   "metadata": {
    "application/vnd.databricks.v1+cell": {
     "cellMetadata": {
      "byteLimit": 2048000,
      "rowLimit": 10000
     },
     "inputWidgets": {},
     "nuid": "101cb0cb-dcfc-4b3a-ad2f-39bac43ee458",
     "showTitle": false,
     "title": ""
    }
   },
   "outputs": [],
   "source": [
    "LR = LogisticRegression(max_iter=1000)\n",
    "LR.fit(X_train, y_train)\n",
    "LR.score(X_test, y_test)"
   ]
  },
  {
   "cell_type": "markdown",
   "metadata": {
    "application/vnd.databricks.v1+cell": {
     "cellMetadata": {},
     "inputWidgets": {},
     "nuid": "adf7e5f6-dcca-49f7-8559-29a8d03127b8",
     "showTitle": false,
     "title": ""
    }
   },
   "source": [
    "## 3 - Using SHAP"
   ]
  },
  {
   "cell_type": "code",
   "execution_count": 0,
   "metadata": {
    "application/vnd.databricks.v1+cell": {
     "cellMetadata": {
      "byteLimit": 2048000,
      "rowLimit": 10000
     },
     "inputWidgets": {},
     "nuid": "246e8a47-da54-4dcd-a64f-79abcaad1c3b",
     "showTitle": false,
     "title": ""
    }
   },
   "outputs": [],
   "source": [
    "import shap"
   ]
  },
  {
   "cell_type": "code",
   "execution_count": 0,
   "metadata": {
    "application/vnd.databricks.v1+cell": {
     "cellMetadata": {
      "byteLimit": 2048000,
      "rowLimit": 10000
     },
     "inputWidgets": {},
     "nuid": "63067162-a9dc-4532-94db-d6de831e3d93",
     "showTitle": false,
     "title": ""
    }
   },
   "outputs": [],
   "source": [
    "explainer = shap.LinearExplainer(LR, X_train)\n",
    "shap_values = explainer.shap_values(X_test)\n",
    "\n",
    "shap.summary_plot(shap_values, X_test, plot_size=[12,8])\n",
    "shap.summary_plot(shap_values, X_train, plot_type=\"bar\", plot_size=[12,8])"
   ]
  },
  {
   "cell_type": "markdown",
   "metadata": {
    "application/vnd.databricks.v1+cell": {
     "cellMetadata": {},
     "inputWidgets": {},
     "nuid": "6e126fc1-eec0-41d8-afed-0f6e195e3ef9",
     "showTitle": false,
     "title": ""
    }
   },
   "source": [
    "+ \"Pclass\" has a significant effect on the survival rate of the passengers. It’s the second most significant feature after “Sex”. \n",
    "+ We see from the plot above that low values (blue) for \"Pclass\" which correspond to a class of 1 (richer people) have a positive effect on people’s survival while higher values (red), which correspond to the third class, have a negative effect on the survival rate. \n",
    "+ We can also see that “sex” is the most important feature with an indication that being a “female” (blue) had a positive impact on the survival rate. \n",
    "+ The feature “Age” also shows that lower values (blue) had a positive impact on survival."
   ]
  },
  {
   "cell_type": "markdown",
   "metadata": {
    "application/vnd.databricks.v1+cell": {
     "cellMetadata": {},
     "inputWidgets": {},
     "nuid": "ae9d9c45-9def-4be4-b62c-94ba5dccd6e1",
     "showTitle": false,
     "title": ""
    }
   },
   "source": [
    "Let’s take a look at the variable \"Fare\" which is how much each person paid for their ticket. This variable should be a continuous description of people’s wealth:"
   ]
  },
  {
   "cell_type": "code",
   "execution_count": 0,
   "metadata": {
    "application/vnd.databricks.v1+cell": {
     "cellMetadata": {
      "byteLimit": 2048000,
      "rowLimit": 10000
     },
     "inputWidgets": {},
     "nuid": "2a7c76f6-ae30-474c-905f-4f389e6ed475",
     "showTitle": false,
     "title": ""
    }
   },
   "outputs": [],
   "source": [
    "shap.dependence_plot(\"Fare\", shap_values, X_test)"
   ]
  },
  {
   "cell_type": "markdown",
   "metadata": {
    "application/vnd.databricks.v1+cell": {
     "cellMetadata": {},
     "inputWidgets": {},
     "nuid": "1de8c504-fa0d-4ed1-9c13-4a9e3e62254d",
     "showTitle": false,
     "title": ""
    }
   },
   "source": [
    "We see that there is a linear relationship between how much people paid and their chance of survival. The richer they were the more likely they survived.  \n",
    "Finally, let’s take a look at a few passengers more closely:"
   ]
  },
  {
   "cell_type": "code",
   "execution_count": 0,
   "metadata": {
    "application/vnd.databricks.v1+cell": {
     "cellMetadata": {
      "byteLimit": 2048000,
      "rowLimit": 10000
     },
     "inputWidgets": {},
     "nuid": "3c94140a-2de1-4470-8f60-75accdadc09f",
     "showTitle": false,
     "title": ""
    }
   },
   "outputs": [],
   "source": [
    "idx = 0\n",
    "print(X_test.iloc[idx,:])\n",
    "print(y_test[idx])"
   ]
  },
  {
   "cell_type": "code",
   "execution_count": 0,
   "metadata": {
    "application/vnd.databricks.v1+cell": {
     "cellMetadata": {
      "byteLimit": 2048000,
      "rowLimit": 10000
     },
     "inputWidgets": {},
     "nuid": "890120e2-ef0c-4a4c-91ee-95dfbbf7bc3f",
     "showTitle": false,
     "title": ""
    }
   },
   "outputs": [],
   "source": [
    "shap_display = shap.force_plot(explainer.expected_value, \n",
    "                               shap_values[idx], \n",
    "                               X_test.iloc[idx,:], \n",
    "                               #link=\"logit\", \n",
    "                               matplotlib=True)\n",
    "display(shap_display)"
   ]
  },
  {
   "cell_type": "markdown",
   "metadata": {
    "application/vnd.databricks.v1+cell": {
     "cellMetadata": {},
     "inputWidgets": {},
     "nuid": "82cfad39-f445-40a6-ba5a-1950f0e365c0",
     "showTitle": false,
     "title": ""
    }
   },
   "source": [
    "That’s a plot of a passenger who didn’t survive.  \n",
    "This person is male and travelling in 3rd class which decreases his survival chances.\n",
    "The low fare he paid for his ticket and the fact that he was travelling with a sibling is also an indicator for a low rate of survival.  \n",
    "On there are two attributes which increase the chances of survival.\n",
    "First he embarked from the first stop and more importantly he was quite young.\n",
    "\n",
    "Let’s take a look at someone who survived:"
   ]
  },
  {
   "cell_type": "code",
   "execution_count": 0,
   "metadata": {
    "application/vnd.databricks.v1+cell": {
     "cellMetadata": {
      "byteLimit": 2048000,
      "rowLimit": 10000
     },
     "inputWidgets": {},
     "nuid": "82f9520c-b34f-4649-b526-a58954e0ec5c",
     "showTitle": false,
     "title": ""
    }
   },
   "outputs": [],
   "source": [
    "idx = 5\n",
    "print(X_test.iloc[idx,:])\n",
    "print(y_test[idx])"
   ]
  },
  {
   "cell_type": "code",
   "execution_count": 0,
   "metadata": {
    "application/vnd.databricks.v1+cell": {
     "cellMetadata": {
      "byteLimit": 2048000,
      "rowLimit": 10000
     },
     "inputWidgets": {},
     "nuid": "f9f33f43-76ea-4e97-aac9-87f56e702710",
     "showTitle": false,
     "title": ""
    }
   },
   "outputs": [],
   "source": [
    "shap_display = shap.force_plot(explainer.expected_value, \n",
    "                               shap_values[idx], \n",
    "                               X_test.iloc[idx], \n",
    "                               #link=\"logit\", \n",
    "                               matplotlib=True)\n",
    "display(shap_display)"
   ]
  },
  {
   "cell_type": "markdown",
   "metadata": {
    "application/vnd.databricks.v1+cell": {
     "cellMetadata": {},
     "inputWidgets": {},
     "nuid": "d3cee8b5-1490-41a8-a03f-4d9386a873f8",
     "showTitle": false,
     "title": ""
    }
   },
   "source": [
    "As expected, this person is female in class 1 who paid a high fare. This gave her a higher chance of survival. The fact that she embarked in the second stop decreased her chance a little bit."
   ]
  },
  {
   "cell_type": "markdown",
   "metadata": {
    "application/vnd.databricks.v1+cell": {
     "cellMetadata": {},
     "inputWidgets": {},
     "nuid": "a15b4b66-3a93-4cf2-aa15-c07befb819b5",
     "showTitle": false,
     "title": ""
    }
   },
   "source": [
    "## 4 - Conclusion\n",
    "The model interpretation allow us to try to explain what happened at the titanic.  \n",
    "When the ship started to sink, rich people had the priority to leave the ship. Those with a fewer number of siblings were faster since they didn’t have to look for their family. When they found out that the lifeboats number was limited, they decided to prioritize children and women. So the priority was as the following: rich women and children, rich men, then everyone else. It’s very interesting how such insights can be fully extracted from a dataset."
   ]
  }
 ],
 "metadata": {
  "application/vnd.databricks.v1+notebook": {
   "dashboards": [],
   "environmentMetadata": null,
   "language": "python",
   "notebookMetadata": {
    "pythonIndentUnit": 4
   },
   "notebookName": "1b_Interpretable_ML_SHAP_jupyter",
   "widgets": {}
  }
 },
 "nbformat": 4,
 "nbformat_minor": 0
}
