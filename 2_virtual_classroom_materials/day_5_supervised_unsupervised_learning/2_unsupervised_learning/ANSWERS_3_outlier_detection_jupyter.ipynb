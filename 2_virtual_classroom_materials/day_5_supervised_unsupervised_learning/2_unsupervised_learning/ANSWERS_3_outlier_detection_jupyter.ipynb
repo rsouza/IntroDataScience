{
 "cells": [
  {
   "cell_type": "markdown",
   "metadata": {
    "application/vnd.databricks.v1+cell": {
     "cellMetadata": {},
     "inputWidgets": {},
     "nuid": "173376ad-6daa-41ae-94dd-9f360e8c30ce",
     "showTitle": false,
     "title": ""
    }
   },
   "source": [
    "## One-class SVM \n",
    "\n",
    "One-class SVM (one-class support vector machines) is an unsupervised algorithm that learns a decision function for novelty detection: classifying new data as similar or different to the training set. It basically means that this algorithm is trained only on the 'normal' data. It learns the boundaries of these normal points and is therefore able to classify any points that lie outside the boundary as outliers.\n",
    "\n",
    "You can take a look at the parameters of the model down below. For more information regarding the model, please check out the [OneClassSVM documentation](\n",
    "https://scikit-learn.org/stable/modules/generated/sklearn.svm.OneClassSVM.html#sklearn.svm.OneClassSVM\n",
    ")."
   ]
  },
  {
   "cell_type": "markdown",
   "metadata": {
    "application/vnd.databricks.v1+cell": {
     "cellMetadata": {},
     "inputWidgets": {},
     "nuid": "3ff8b63b-cf39-404e-9d49-9b07226ba303",
     "showTitle": false,
     "title": ""
    }
   },
   "source": [
    "class sklearn.svm.OneClassSVM(*, kernel='rbf', degree=3, gamma='scale', coef0=0.0, tol=0.001, nu=0.5, shrinking=True, cache_size=200, verbose=False, max_iter=-1"
   ]
  },
  {
   "cell_type": "markdown",
   "metadata": {
    "application/vnd.databricks.v1+cell": {
     "cellMetadata": {},
     "inputWidgets": {},
     "nuid": "2daf4f0b-e84d-4801-86b6-8f404bcf956b",
     "showTitle": false,
     "title": ""
    }
   },
   "source": [
    "#### Explanation of important parameters:\n",
    "\n",
    "- `kernel`: specifies the kernel type to be used in the algorithm.\n",
    "- `nu`: the proportion of outliers you expect to observe .\n",
    "- `gamma`: determines the smoothing of the contour lines."
   ]
  },
  {
   "cell_type": "markdown",
   "metadata": {
    "application/vnd.databricks.v1+cell": {
     "cellMetadata": {},
     "inputWidgets": {},
     "nuid": "4e85eeb8-2de4-4e06-aa63-def72cd13cd1",
     "showTitle": false,
     "title": ""
    }
   },
   "source": [
    "### One-class SVM Exercises\n",
    "\n",
    "First we will import `OneClassSVM` from `sklearn.svm`, `make_blobs`, `numpy`, and `matplotlib.pyplot`."
   ]
  },
  {
   "cell_type": "code",
   "execution_count": 0,
   "metadata": {
    "application/vnd.databricks.v1+cell": {
     "cellMetadata": {},
     "inputWidgets": {},
     "nuid": "b39a2f5a-5a64-4b6b-bfbb-686152b96d3e",
     "showTitle": false,
     "title": ""
    }
   },
   "outputs": [],
   "source": [
    "from sklearn.svm import OneClassSVM\n",
    "from sklearn.datasets import make_blobs\n",
    "import numpy as np  # You will use np.quantile, np.where and np.random\n",
    "import matplotlib.pyplot as plt"
   ]
  },
  {
   "cell_type": "markdown",
   "metadata": {
    "application/vnd.databricks.v1+cell": {
     "cellMetadata": {},
     "inputWidgets": {},
     "nuid": "24a5f671-d2f0-48ef-8955-5e67eb83e358",
     "showTitle": false,
     "title": ""
    }
   },
   "source": [
    "We have created a random sample data set below by using the `make_blobs()` function."
   ]
  },
  {
   "cell_type": "code",
   "execution_count": 0,
   "metadata": {
    "application/vnd.databricks.v1+cell": {
     "cellMetadata": {},
     "inputWidgets": {},
     "nuid": "0866622b-71a5-4bcb-8a48-28e85d587377",
     "showTitle": false,
     "title": ""
    }
   },
   "outputs": [],
   "source": [
    "np.random.seed(13)\n",
    "x, _ = make_blobs(n_samples=200, centers=1, cluster_std=.3, center_box=(8, 8))\n",
    "\n",
    "plt.scatter(x[:,0], x[:,1])\n",
    "plt.show()\n"
   ]
  },
  {
   "cell_type": "markdown",
   "metadata": {
    "application/vnd.databricks.v1+cell": {
     "cellMetadata": {},
     "inputWidgets": {},
     "nuid": "9dc4546c-6cdf-4ba5-8e80-b4e781cf2acc",
     "showTitle": false,
     "title": ""
    }
   },
   "source": [
    "**TO DO:** We will use the rbf kernel type ([`radial basis function`](https://en.wikipedia.org/wiki/Radial_basis_function_kernel)) for our model. Instantiate a new `OneClassSVM` model as `svm` with kernel type 'rbf', a gamma value of 0.001 and a nu value of 0.03."
   ]
  },
  {
   "cell_type": "code",
   "execution_count": 0,
   "metadata": {
    "application/vnd.databricks.v1+cell": {
     "cellMetadata": {},
     "inputWidgets": {},
     "nuid": "c0de7db2-1b5b-42c6-b2d0-990b54d8e136",
     "showTitle": false,
     "title": ""
    }
   },
   "outputs": [],
   "source": [
    "# Task\n",
    "\n",
    "svm = OneClassSVM(kernel='rbf', gamma=0.001, nu=0.03)\n",
    "print(svm)"
   ]
  },
  {
   "cell_type": "markdown",
   "metadata": {
    "application/vnd.databricks.v1+cell": {
     "cellMetadata": {},
     "inputWidgets": {},
     "nuid": "79483ed3-52f5-45d9-bd12-a7224064fe22",
     "showTitle": false,
     "title": ""
    }
   },
   "source": [
    "**TO DO:** Fit the model with the data set `x` that we created at the beginning and get the prediction data by using the `fit()` and `predict()` methods."
   ]
  },
  {
   "cell_type": "code",
   "execution_count": 0,
   "metadata": {
    "application/vnd.databricks.v1+cell": {
     "cellMetadata": {},
     "inputWidgets": {},
     "nuid": "fbd4be01-fdbf-427d-9616-019fc9b82577",
     "showTitle": false,
     "title": ""
    }
   },
   "outputs": [],
   "source": [
    "# Task\n",
    "\n",
    "svm.fit(x)\n",
    "pred = svm.predict(x)"
   ]
  },
  {
   "cell_type": "markdown",
   "metadata": {
    "application/vnd.databricks.v1+cell": {
     "cellMetadata": {},
     "inputWidgets": {},
     "nuid": "d91a0292-d321-41df-b047-cfb922dd09ac",
     "showTitle": false,
     "title": ""
    }
   },
   "source": [
    "**TO DO:** If everything has been done correctly before, you can now extract the negative outputs (where the prediction of the data is equal to -1) as the outliers.\n",
    "Save these in these in the variable `values`."
   ]
  },
  {
   "cell_type": "code",
   "execution_count": 0,
   "metadata": {
    "application/vnd.databricks.v1+cell": {
     "cellMetadata": {},
     "inputWidgets": {},
     "nuid": "b198ac37-3373-43b3-b3bc-1d3393fe3064",
     "showTitle": false,
     "title": ""
    }
   },
   "outputs": [],
   "source": [
    "# Task\n",
    "\n",
    "anom_index = np.where(pred == -1)\n",
    "values = x[anom_index]"
   ]
  },
  {
   "cell_type": "markdown",
   "metadata": {
    "application/vnd.databricks.v1+cell": {
     "cellMetadata": {},
     "inputWidgets": {},
     "nuid": "d8d9568d-5f3a-4081-9c8e-4baba71b927f",
     "showTitle": false,
     "title": ""
    }
   },
   "source": [
    "Now we will visualize what we have done by using `plt`."
   ]
  },
  {
   "cell_type": "code",
   "execution_count": 0,
   "metadata": {
    "application/vnd.databricks.v1+cell": {
     "cellMetadata": {},
     "inputWidgets": {},
     "nuid": "6285d8a4-b764-40ab-8e24-04f86af1bda4",
     "showTitle": false,
     "title": ""
    }
   },
   "outputs": [],
   "source": [
    "plt.scatter(x[:,0], x[:,1])\n",
    "plt.scatter(values[:,0], values[:,1], color='r')\n",
    "plt.show()"
   ]
  },
  {
   "cell_type": "markdown",
   "metadata": {
    "application/vnd.databricks.v1+cell": {
     "cellMetadata": {},
     "inputWidgets": {},
     "nuid": "1b087544-edf4-4deb-8cd3-6c783bfc1e2c",
     "showTitle": false,
     "title": ""
    }
   },
   "source": [
    "## Local Outlier Factor\n",
    "\n",
    "The Local Outlier Factor (LOF) algorithm is an unsupervised anomaly detection method which computes the local density deviation of a given data point with respect to its neighbors. It considers as outliers the samples that have a substantially lower density than their neighbors. Note that when LOF is used for outlier detection it has no `predict`, `decision_function` and `score_samples` methods. \n",
    "\n",
    "LOF is a score that describes how likely a certain data point is to be an outlier/anomaly.\n",
    "\n",
    "- When LOF is around 1 it is most likely that the data point is normal.\n",
    "- When LOF scores higher than 1 it is most likely that the data point is an outlier.\n",
    "\n",
    "In general, the LOF of a point tells us the density of this point compared to the density of its neighbors. If the density of a point is much smaller than the densities of its neighbors (LOF ≫1), the point is far from dense areas and, hence, an outlier.\n",
    "\n",
    "#### Explanation of important parameters\n",
    "- `n_neighbors`: the number of neighbors considered\n",
    "    - It should be greater than the minimum number of samples a cluster has to contain, so that other samples can be local outliers relative to this cluster.\n",
    "    - It should be smaller than the maximum number of close-by samples that can potentially be local outliers. \n",
    "    - In practice, such information is generally not available, and taking `n_neighbors=20` appears to work well in general.\n",
    "- `contamination`: the amount of contamination of the data set, i.e. the proportion of outliers in the data set. When fitting, this is used to define the threshold on the scores of the samples.\n",
    "\n",
    "#### Explanation of attributes\n",
    "- `negative_outlier_factor_`: the opposite of LOF for the training samples. The higher, the more normal. Inliers tend to have a LOF score close to 1 (`negative_outlier_factor_` close to -1), while outliers tend to have a larger LOF score. The local outlier factor (LOF) of a sample captures its supposed 'degree of abnormality'. It is the average of the ratio of the local reachability density of a sample and those of its k-nearest neighbors.\n",
    "- `n_neighbors_`: the actual number of neighbors used for k-neighbors queries.\n",
    "- `offset_`: the offset used to obtain binary labels from the raw scores. Observations having a `negative_outlier_factor` smaller than `offset_` are detected as **abnormal**. \n",
    "\n",
    "See more information here: [LocalOutlierFactor Documentation](https://scikit-learn.org/stable/auto_examples/neighbors/plot_lof_outlier_detection.html#:~:text=The%20Local%20Outlier%20Factor%20)"
   ]
  },
  {
   "cell_type": "markdown",
   "metadata": {
    "application/vnd.databricks.v1+cell": {
     "cellMetadata": {},
     "inputWidgets": {},
     "nuid": "de9cc1b8-2cef-4815-8b11-647dba590a16",
     "showTitle": false,
     "title": ""
    }
   },
   "source": [
    "### Local outlier factor exercises"
   ]
  },
  {
   "cell_type": "markdown",
   "metadata": {
    "application/vnd.databricks.v1+cell": {
     "cellMetadata": {},
     "inputWidgets": {},
     "nuid": "a9cdea3c-5891-4b8b-a0a2-9e3c087421bd",
     "showTitle": false,
     "title": ""
    }
   },
   "source": [
    "Firstly, we will important all necessary packages."
   ]
  },
  {
   "cell_type": "code",
   "execution_count": 0,
   "metadata": {
    "application/vnd.databricks.v1+cell": {
     "cellMetadata": {},
     "inputWidgets": {},
     "nuid": "63cd4f2d-56fc-49c9-bd04-b3e7d0cf51cc",
     "showTitle": false,
     "title": ""
    }
   },
   "outputs": [],
   "source": [
    "from sklearn.neighbors import LocalOutlierFactor\n",
    "from sklearn.datasets import make_blobs"
   ]
  },
  {
   "cell_type": "markdown",
   "metadata": {
    "application/vnd.databricks.v1+cell": {
     "cellMetadata": {},
     "inputWidgets": {},
     "nuid": "604f4019-aaaf-4fcc-a5ce-86bea2ce5bd9",
     "showTitle": false,
     "title": ""
    }
   },
   "source": [
    "We have created a random sample dataset below again by using the `make_blobs()` function."
   ]
  },
  {
   "cell_type": "code",
   "execution_count": 0,
   "metadata": {
    "application/vnd.databricks.v1+cell": {
     "cellMetadata": {},
     "inputWidgets": {},
     "nuid": "0c03c3ec-9651-4443-b721-352662f81d2e",
     "showTitle": false,
     "title": ""
    }
   },
   "outputs": [],
   "source": [
    "np.random.seed(1)\n",
    "x, _ = make_blobs(n_samples=200, centers=1, cluster_std=.3, center_box=(10,10))"
   ]
  },
  {
   "cell_type": "markdown",
   "metadata": {
    "application/vnd.databricks.v1+cell": {
     "cellMetadata": {},
     "inputWidgets": {},
     "nuid": "7ff9d01d-bd5d-4ddd-90c5-304ed240d5ca",
     "showTitle": false,
     "title": ""
    }
   },
   "source": [
    "**TO DO:** Visualize the dataset in a plot."
   ]
  },
  {
   "cell_type": "code",
   "execution_count": 0,
   "metadata": {
    "application/vnd.databricks.v1+cell": {
     "cellMetadata": {},
     "inputWidgets": {},
     "nuid": "774e9564-b6f3-4701-9dc3-59fd31e7e750",
     "showTitle": false,
     "title": ""
    }
   },
   "outputs": [],
   "source": [
    "plt.scatter(x[:,0], x[:,1])\n",
    "plt.show()"
   ]
  },
  {
   "cell_type": "markdown",
   "metadata": {
    "application/vnd.databricks.v1+cell": {
     "cellMetadata": {},
     "inputWidgets": {},
     "nuid": "b32c680e-4c36-44d1-8042-4b7daaba8fa6",
     "showTitle": false,
     "title": ""
    }
   },
   "source": [
    "**TO DO:** Construct a `LocalOutlierFactor` model with `n_neighbors` set to 20 and `contamination` set to 0.03."
   ]
  },
  {
   "cell_type": "code",
   "execution_count": 0,
   "metadata": {
    "application/vnd.databricks.v1+cell": {
     "cellMetadata": {},
     "inputWidgets": {},
     "nuid": "c0f08be8-49bb-4a94-8303-4660571b332b",
     "showTitle": false,
     "title": ""
    }
   },
   "outputs": [],
   "source": [
    "# Task\n",
    "\n",
    "model = LocalOutlierFactor(n_neighbors=20, contamination=.03)"
   ]
  },
  {
   "cell_type": "markdown",
   "metadata": {
    "application/vnd.databricks.v1+cell": {
     "cellMetadata": {},
     "inputWidgets": {},
     "nuid": "344d64ee-0cfd-4db2-adfd-88409b835e7c",
     "showTitle": false,
     "title": ""
    }
   },
   "source": [
    "**TO DO:** Fit the dataset which we generated in the beginning to the model and make prediction using the `fit_predict()` method."
   ]
  },
  {
   "cell_type": "code",
   "execution_count": 0,
   "metadata": {
    "application/vnd.databricks.v1+cell": {
     "cellMetadata": {},
     "inputWidgets": {},
     "nuid": "5c8dfde9-52c1-4335-bb63-508749bba49d",
     "showTitle": false,
     "title": ""
    }
   },
   "outputs": [],
   "source": [
    "# Task\n",
    "\n",
    "y_pred = model.fit_predict(x)"
   ]
  },
  {
   "cell_type": "markdown",
   "metadata": {
    "application/vnd.databricks.v1+cell": {
     "cellMetadata": {},
     "inputWidgets": {},
     "nuid": "0be2f842-508d-47dd-8dac-fd565cf4cb45",
     "showTitle": false,
     "title": ""
    }
   },
   "source": [
    "**TO DO:** Output the `negative_outlier_factor_` from the model."
   ]
  },
  {
   "cell_type": "code",
   "execution_count": 0,
   "metadata": {
    "application/vnd.databricks.v1+cell": {
     "cellMetadata": {},
     "inputWidgets": {},
     "nuid": "46ce4def-ec5c-4ea5-8e79-e347cfaf0299",
     "showTitle": false,
     "title": ""
    }
   },
   "outputs": [],
   "source": [
    "# Task\n",
    "\n",
    "lof = model.negative_outlier_factor_\n",
    "\n",
    "print(lof)"
   ]
  },
  {
   "cell_type": "markdown",
   "metadata": {
    "application/vnd.databricks.v1+cell": {
     "cellMetadata": {},
     "inputWidgets": {},
     "nuid": "a1f883e5-c248-4fdf-bf96-c4a9385b58d7",
     "showTitle": false,
     "title": ""
    }
   },
   "source": [
    "**TO DO**: Assign the attribute `offset_` from the model to a variable called `threshold`."
   ]
  },
  {
   "cell_type": "code",
   "execution_count": 0,
   "metadata": {
    "application/vnd.databricks.v1+cell": {
     "cellMetadata": {},
     "inputWidgets": {},
     "nuid": "9e12ffc8-7f6a-42d2-80b7-9d6c80386bab",
     "showTitle": false,
     "title": ""
    }
   },
   "outputs": [],
   "source": [
    "threshold = np.quantile(lof, .03)\n",
    "print(threshold)"
   ]
  },
  {
   "cell_type": "markdown",
   "metadata": {
    "application/vnd.databricks.v1+cell": {
     "cellMetadata": {},
     "inputWidgets": {},
     "nuid": "c2802808-9205-4c7d-be6e-955835d8d8f0",
     "showTitle": false,
     "title": ""
    }
   },
   "source": [
    "There are two ways that we can learn about outliers.\n",
    "1. Using the `fit_predict()` method and extracting negative outputs as the outliers.\n",
    "2. Obtaining the threshold value and extract the anomalies by comparing the values of the elements with the threshold value."
   ]
  },
  {
   "cell_type": "markdown",
   "metadata": {
    "application/vnd.databricks.v1+cell": {
     "cellMetadata": {},
     "inputWidgets": {},
     "nuid": "047a6c1c-5f9d-4ace-ba1d-1812a9aa7730",
     "showTitle": false,
     "title": ""
    }
   },
   "source": [
    "#### Mehod 1\n",
    "**TO DO:** Extract the negative outputs as the outliers and save them in the variable `values_1`."
   ]
  },
  {
   "cell_type": "code",
   "execution_count": 0,
   "metadata": {
    "application/vnd.databricks.v1+cell": {
     "cellMetadata": {},
     "inputWidgets": {},
     "nuid": "068d1e09-7145-4ac0-91ec-2fcede0d56f5",
     "showTitle": false,
     "title": ""
    }
   },
   "outputs": [],
   "source": [
    "# Task\n",
    "\n",
    "lofs_index = np.where(y_pred==-1)\n",
    "values_1 = x[lofs_index]\n",
    "\n",
    "values_1"
   ]
  },
  {
   "cell_type": "code",
   "execution_count": 0,
   "metadata": {
    "application/vnd.databricks.v1+cell": {
     "cellMetadata": {},
     "inputWidgets": {},
     "nuid": "f10d95ea-135b-4e60-bd69-e08cbe2fa428",
     "showTitle": false,
     "title": ""
    }
   },
   "outputs": [],
   "source": [
    "plt.scatter(x[:,0], x[:,1])\n",
    "plt.scatter(values_1[:,0],values_1[:,1], color='r')\n",
    "plt.title (\"Method 1\")\n",
    "plt.show()"
   ]
  },
  {
   "cell_type": "markdown",
   "metadata": {
    "application/vnd.databricks.v1+cell": {
     "cellMetadata": {},
     "inputWidgets": {},
     "nuid": "ea6a8263-694f-41a1-b1b9-a2e38eecd83f",
     "showTitle": false,
     "title": ""
    }
   },
   "source": [
    "#### Method 2\n",
    "**TO DO:** Extract the anomalies by comparing with the threshold value and save them in the variable `values_2`.    \n",
    "When the threshold value is bigger or equal to the local outlier factor score, this is regarded as an outlier."
   ]
  },
  {
   "cell_type": "code",
   "execution_count": 0,
   "metadata": {
    "application/vnd.databricks.v1+cell": {
     "cellMetadata": {},
     "inputWidgets": {},
     "nuid": "49a16a26-9d14-4257-bbb9-98c351ccc575",
     "showTitle": false,
     "title": ""
    }
   },
   "outputs": [],
   "source": [
    "# Task\n",
    "\n",
    "index = np.where(lof<=threshold)\n",
    "values_2 = x[index]"
   ]
  },
  {
   "cell_type": "markdown",
   "metadata": {
    "application/vnd.databricks.v1+cell": {
     "cellMetadata": {},
     "inputWidgets": {},
     "nuid": "de25bade-d02a-4845-8e04-bc56d8bbf427",
     "showTitle": false,
     "title": ""
    }
   },
   "source": [
    "If everything has been done correctly before, we can visualize the outliers in the plot below."
   ]
  },
  {
   "cell_type": "code",
   "execution_count": 0,
   "metadata": {
    "application/vnd.databricks.v1+cell": {
     "cellMetadata": {},
     "inputWidgets": {},
     "nuid": "ac687ac3-9c61-474d-9f82-6d892820a943",
     "showTitle": false,
     "title": ""
    }
   },
   "outputs": [],
   "source": [
    "plt.scatter(x[:,0], x[:,1])\n",
    "plt.scatter(values_2[:,0],values_2[:,1], color='r')\n",
    "plt.title (\"Method 2\")\n",
    "plt.show()"
   ]
  },
  {
   "cell_type": "markdown",
   "metadata": {
    "application/vnd.databricks.v1+cell": {
     "cellMetadata": {},
     "inputWidgets": {},
     "nuid": "2103bb10-dbd0-49b9-8e69-b33e0ccbe690",
     "showTitle": false,
     "title": ""
    }
   },
   "source": [
    "Some material adapted for RBI internal purposes with full permissions from original authors. [Source](https://github.com/zatkopatrik/authentic-data-science)"
   ]
  }
 ],
 "metadata": {
  "application/vnd.databricks.v1+notebook": {
   "dashboards": [],
   "language": "python",
   "notebookMetadata": {},
   "notebookName": "3_outlier_detection_answer",
   "notebookOrigID": 706562957545729,
   "widgets": {}
  }
 },
 "nbformat": 4,
 "nbformat_minor": 0
}
