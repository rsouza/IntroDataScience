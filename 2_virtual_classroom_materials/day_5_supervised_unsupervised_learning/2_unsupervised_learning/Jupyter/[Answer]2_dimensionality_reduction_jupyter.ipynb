{
 "cells": [
  {
   "cell_type": "code",
   "execution_count": 0,
   "metadata": {
    "application/vnd.databricks.v1+cell": {
     "cellMetadata": {
      "byteLimit": 2048000,
      "rowLimit": 10000
     },
     "inputWidgets": {},
     "nuid": "c24ce349-7651-4720-b5ec-b8288f96dd70",
     "showTitle": false,
     "title": ""
    }
   },
   "outputs": [],
   "source": [
    "pip install \"threadpoolctl>=3.1.0\""
   ]
  },
  {
   "cell_type": "code",
   "execution_count": 0,
   "metadata": {
    "application/vnd.databricks.v1+cell": {
     "cellMetadata": {
      "byteLimit": 2048000,
      "rowLimit": 10000
     },
     "inputWidgets": {},
     "nuid": "0f6be959-246a-4ff9-b2f7-c192d0f0442c",
     "showTitle": false,
     "title": ""
    }
   },
   "outputs": [],
   "source": [
    "dbutils.library.restartPython()"
   ]
  },
  {
   "cell_type": "markdown",
   "metadata": {
    "application/vnd.databricks.v1+cell": {
     "cellMetadata": {},
     "inputWidgets": {},
     "nuid": "e398aa3d-9c3a-49ae-a71c-bb77589c16b1",
     "showTitle": false,
     "title": ""
    }
   },
   "source": [
    "# Dimensionality reduction"
   ]
  },
  {
   "cell_type": "code",
   "execution_count": 0,
   "metadata": {
    "application/vnd.databricks.v1+cell": {
     "cellMetadata": {
      "byteLimit": 2048000,
      "rowLimit": 10000
     },
     "inputWidgets": {},
     "nuid": "6a138b6f-f6c7-42b1-abe3-0349b7954d21",
     "showTitle": false,
     "title": ""
    }
   },
   "outputs": [],
   "source": [
    "import matplotlib.pyplot as plt\n",
    "import numpy as np\n",
    "import pandas as pd\n",
    "from sklearn.preprocessing import StandardScaler\n",
    "import random\n",
    "from sklearn import datasets"
   ]
  },
  {
   "cell_type": "markdown",
   "metadata": {
    "application/vnd.databricks.v1+cell": {
     "cellMetadata": {},
     "inputWidgets": {},
     "nuid": "8d786e3a-9ded-4649-9f33-a518ad354911",
     "showTitle": false,
     "title": ""
    }
   },
   "source": [
    "## PCA\n",
    "\n",
    "[Principal component analysis](https://en.wikipedia.org/wiki/Principal_component_analysis)\n",
    "is an unsupervised learning method that tries to detect the directions in which the vector formed by the data varies most.\n",
    "\n",
    "First we import the [data of grayscale digits](https://scikit-learn.org/stable/modules/generated/sklearn.datasets.load_digits.html)."
   ]
  },
  {
   "cell_type": "code",
   "execution_count": 0,
   "metadata": {
    "application/vnd.databricks.v1+cell": {
     "cellMetadata": {
      "byteLimit": 2048000,
      "rowLimit": 10000
     },
     "inputWidgets": {},
     "nuid": "27bf9b0e-75ed-49fa-b8be-67f28fc567f0",
     "showTitle": false,
     "title": ""
    }
   },
   "outputs": [],
   "source": [
    "digits = datasets.load_digits()\n",
    "x_digits, y_digits = digits.data, digits.target"
   ]
  },
  {
   "cell_type": "markdown",
   "metadata": {
    "application/vnd.databricks.v1+cell": {
     "cellMetadata": {},
     "inputWidgets": {},
     "nuid": "0254c657-ca1d-4245-8237-6e5a822dcc81",
     "showTitle": false,
     "title": ""
    }
   },
   "source": [
    "Let's start by visualizing our data. Fetch the first 10 numbers."
   ]
  },
  {
   "cell_type": "code",
   "execution_count": 0,
   "metadata": {
    "application/vnd.databricks.v1+cell": {
     "cellMetadata": {
      "byteLimit": 2048000,
      "rowLimit": 10000
     },
     "inputWidgets": {},
     "nuid": "a07066a2-72af-4f5b-b05d-513c37d7424b",
     "showTitle": false,
     "title": ""
    }
   },
   "outputs": [],
   "source": [
    "_, axes = plt.subplots(nrows=1, ncols=10, figsize=(16, 5))\n",
    "for ax, image, label in zip(axes, digits.images, digits.target):\n",
    "    ax.set_axis_off()\n",
    "    ax.imshow(image, cmap=plt.cm.gray_r, interpolation='nearest')\n",
    "    ax.set_title('Training: %i' % label)"
   ]
  },
  {
   "cell_type": "markdown",
   "metadata": {
    "application/vnd.databricks.v1+cell": {
     "cellMetadata": {},
     "inputWidgets": {},
     "nuid": "f67b20b2-0cbf-48cf-9b57-ec91ac43cf65",
     "showTitle": false,
     "title": ""
    }
   },
   "source": [
    "__TO DO__: Return the shape of `x_digits`."
   ]
  },
  {
   "cell_type": "code",
   "execution_count": 0,
   "metadata": {
    "application/vnd.databricks.v1+cell": {
     "cellMetadata": {
      "byteLimit": 2048000,
      "rowLimit": 10000
     },
     "inputWidgets": {},
     "nuid": "48a835a4-2042-4acb-b95e-0fe8f8378481",
     "showTitle": false,
     "title": ""
    }
   },
   "outputs": [],
   "source": [
    "# Task\n",
    "x_digits.shape"
   ]
  },
  {
   "cell_type": "markdown",
   "metadata": {
    "application/vnd.databricks.v1+cell": {
     "cellMetadata": {},
     "inputWidgets": {},
     "nuid": "63e6b20c-fbd8-426c-81b1-73a344d6fc62",
     "showTitle": false,
     "title": ""
    }
   },
   "source": [
    "There are 1797 numbers represented by 8 x 8 matrices, each entry encoding the color intensity of a pixel. These matrices are flattened to a vector of 64 values."
   ]
  },
  {
   "cell_type": "markdown",
   "metadata": {
    "application/vnd.databricks.v1+cell": {
     "cellMetadata": {},
     "inputWidgets": {},
     "nuid": "11a5610e-277c-4b49-887f-62e1a1e1c1a8",
     "showTitle": false,
     "title": ""
    }
   },
   "source": [
    "Our data has 64 dimensions, but we are going to reduce it to only 2. We will see that, even with just 2 dimensions, the digits are already separating into clusters.\n",
    "\n",
    "__TO DO__: \n",
    "- Import\n",
    "[`PCA`](https://scikit-learn.org/stable/modules/generated/sklearn.decomposition.PCA.html)\n",
    "from the `scikit-learns.decomposition` module.\n",
    "- [`fit_transform`](https://scikit-learn.org/stable/modules/generated/sklearn.decomposition.PCA.html#sklearn.decomposition.PCA.fit_transform)\n",
    "a\n",
    "[`PCA()`](https://scikit-learn.org/stable/modules/generated/sklearn.decomposition.PCA.html)-model \n",
    "with `n_components = 2` on `x_digits` and assign the result to the variable `x_reduced`."
   ]
  },
  {
   "cell_type": "code",
   "execution_count": 0,
   "metadata": {
    "application/vnd.databricks.v1+cell": {
     "cellMetadata": {
      "byteLimit": 2048000,
      "rowLimit": 10000
     },
     "inputWidgets": {},
     "nuid": "fe5262b9-bce4-4400-8439-ef4bbc2d3881",
     "showTitle": false,
     "title": ""
    }
   },
   "outputs": [],
   "source": [
    "# Task\n",
    "\n",
    "from sklearn.decomposition import PCA\n",
    "pca = PCA(n_components=2)\n",
    "x_reduced = pca.fit_transform(x_digits)"
   ]
  },
  {
   "cell_type": "markdown",
   "metadata": {
    "application/vnd.databricks.v1+cell": {
     "cellMetadata": {},
     "inputWidgets": {},
     "nuid": "fe6a479b-28d6-4424-bf11-e841d83aebf4",
     "showTitle": false,
     "title": ""
    }
   },
   "source": [
    "If we plot the reduced 2D feature space we see that similar numbers are close to each other."
   ]
  },
  {
   "cell_type": "code",
   "execution_count": 0,
   "metadata": {
    "application/vnd.databricks.v1+cell": {
     "cellMetadata": {
      "byteLimit": 2048000,
      "rowLimit": 10000
     },
     "inputWidgets": {},
     "nuid": "36c5bce6-24eb-43f5-8aed-3aa120a49aca",
     "showTitle": false,
     "title": ""
    }
   },
   "outputs": [],
   "source": [
    "fig, ax = plt.subplots(figsize=(12,8))\n",
    "scatter = ax.scatter(x_reduced[:, 0], x_reduced[:, 1], c=y_digits, edgecolor=\"none\", alpha=0.7, s=40, cmap=plt.get_cmap('nipy_spectral', 10))\n",
    "legend = ax.legend(*scatter.legend_elements(), title=\"digits\")\n",
    "plt.title('MNIST. PCA projection');"
   ]
  },
  {
   "cell_type": "markdown",
   "metadata": {
    "application/vnd.databricks.v1+cell": {
     "cellMetadata": {},
     "inputWidgets": {},
     "nuid": "3295d9b8-05e1-4d5d-9ad8-537af06eed73",
     "showTitle": false,
     "title": ""
    }
   },
   "source": [
    "In practice, we would choose the number of principal components such that we can explain e.g. 90% of the initial data dispersion (via the `explained_variance_ratio_`). \n",
    "\n",
    "__TO DO__: \n",
    "- Return the explained variance ratio with\n",
    "[`PCA()`](https://scikit-learn.org/stable/modules/generated/sklearn.decomposition.PCA.html)'s\n",
    "attribute `explained_variance_ratio_`.  \n",
    "Each value returns the percentage of variance explained by each of the selected components. \n",
    "- How much variance did we explain with the first two components?\n",
    "\n",
    "https://scikit-learn.org/stable/modules/generated/sklearn.decomposition.PCA.html"
   ]
  },
  {
   "cell_type": "code",
   "execution_count": 0,
   "metadata": {
    "application/vnd.databricks.v1+cell": {
     "cellMetadata": {
      "byteLimit": 2048000,
      "rowLimit": 10000
     },
     "inputWidgets": {},
     "nuid": "e93e8d18-0a91-45e8-903e-4c205179bb90",
     "showTitle": false,
     "title": ""
    }
   },
   "outputs": [],
   "source": [
    "# Task\n",
    "\n",
    "print(pca.explained_variance_ratio_)\n",
    "print(np.sum(pca.explained_variance_ratio_))"
   ]
  },
  {
   "cell_type": "markdown",
   "metadata": {
    "application/vnd.databricks.v1+cell": {
     "cellMetadata": {},
     "inputWidgets": {},
     "nuid": "7187e9a2-acb1-438c-b65c-4dad4302b1e9",
     "showTitle": false,
     "title": ""
    }
   },
   "source": [
    "The length of the returned array is equal to `n_components`. If the `n_components` parameter is not set, then all components are stored and the sum of the ratios will be equal to 1.0."
   ]
  },
  {
   "cell_type": "markdown",
   "metadata": {
    "application/vnd.databricks.v1+cell": {
     "cellMetadata": {},
     "inputWidgets": {},
     "nuid": "a275ddb3-2ef1-445b-8443-af4fb9c8ac69",
     "showTitle": false,
     "title": ""
    }
   },
   "source": [
    "In order to get explain 90% of the variance we would have to retain 20 principal components. Run the code below to see."
   ]
  },
  {
   "cell_type": "code",
   "execution_count": 0,
   "metadata": {
    "application/vnd.databricks.v1+cell": {
     "cellMetadata": {
      "byteLimit": 2048000,
      "rowLimit": 10000
     },
     "inputWidgets": {},
     "nuid": "e36a0a8f-b74d-4b15-9475-600ae3330516",
     "showTitle": false,
     "title": ""
    }
   },
   "outputs": [],
   "source": [
    "pca = PCA().fit(x_digits)\n",
    "\n",
    "plt.figure(figsize=(10,7))\n",
    "plt.plot(np.cumsum(pca.explained_variance_ratio_), color='k', lw=2)\n",
    "plt.xlabel('Number of components')\n",
    "plt.ylabel('Total explained variance')\n",
    "plt.xlim(0, x_digits.shape[1])\n",
    "plt.yticks(np.arange(0, 1.1, 0.1), labels =[f\"{p}%\" for p in np.arange(0,110, 10)])\n",
    "min_variance = 0.9\n",
    "min_components = np.min(np.where(np.cumsum(pca.explained_variance_ratio_) > min_variance))\n",
    "print(min_components)\n",
    "plt.axvline(min_components, c='b')\n",
    "plt.axhline(min_variance, c='r')\n",
    "plt.show()"
   ]
  },
  {
   "cell_type": "markdown",
   "metadata": {
    "application/vnd.databricks.v1+cell": {
     "cellMetadata": {},
     "inputWidgets": {},
     "nuid": "0d5cd6e2-975f-4fbc-a4fd-f62699816537",
     "showTitle": false,
     "title": ""
    }
   },
   "source": [
    "__Scaling__\n",
    "\n",
    "In the [MNIST](https://scikit-learn.org/stable/modules/generated/sklearn.datasets.load_digits.html) dataset all features have the same scale out of the box. Thus the [`PCA`](https://scikit-learn.org/stable/modules/generated/sklearn.decomposition.PCA.html) algorithm is not impacted by different scales. \n",
    "\n",
    "While many algorithms (such as SVM, K-nearest neighbors, and logistic regression) require features to be normalized, Principle Component Analysis (PCA) especially is a prime example of when normalization is important. In PCA we are interested in the components that maximize the variance. If one component (e.g. human height) varies less than another (e.g. weight) because of their respective scales (meters vs. kilos), PCA might determine that the direction of maximal variance more closely corresponds to the 'weight' axis if those features are not scaled. As a change in height of one meter can be considered to be much more important than a change in weight of one kilogram, this is clearly incorrect.\n",
    "\n",
    "\n",
    "Import the wine data set. "
   ]
  },
  {
   "cell_type": "code",
   "execution_count": 0,
   "metadata": {
    "application/vnd.databricks.v1+cell": {
     "cellMetadata": {
      "byteLimit": 2048000,
      "rowLimit": 10000
     },
     "inputWidgets": {},
     "nuid": "8c480504-9868-4160-8c0c-d75655b45b48",
     "showTitle": false,
     "title": ""
    }
   },
   "outputs": [],
   "source": [
    "from sklearn.datasets import load_wine\n",
    "\n",
    "wine = load_wine()\n",
    "x_wine = wine.data\n",
    "y_wine = wine.target\n",
    "cols_wine = wine.feature_names\n",
    "df_wine = pd.DataFrame(x_wine, columns = cols_wine)"
   ]
  },
  {
   "cell_type": "markdown",
   "metadata": {
    "application/vnd.databricks.v1+cell": {
     "cellMetadata": {},
     "inputWidgets": {},
     "nuid": "59db2ed0-319a-4013-b903-5ba7c66fcd73",
     "showTitle": false,
     "title": ""
    }
   },
   "source": [
    "__TO DO__: Use the [`describe()`](https://pandas.pydata.org/pandas-docs/stable/reference/api/pandas.DataFrame.describe.html) method on `df_wine` to see standard deviations, quartiles and other descriptive statistics of the columns."
   ]
  },
  {
   "cell_type": "code",
   "execution_count": 0,
   "metadata": {
    "application/vnd.databricks.v1+cell": {
     "cellMetadata": {
      "byteLimit": 2048000,
      "rowLimit": 10000
     },
     "inputWidgets": {},
     "nuid": "f0cbbf15-ec31-4270-9b31-d41380a8aeb9",
     "showTitle": false,
     "title": ""
    }
   },
   "outputs": [],
   "source": [
    "# Task\n",
    "\n",
    "df_wine.describe()"
   ]
  },
  {
   "cell_type": "markdown",
   "metadata": {
    "application/vnd.databricks.v1+cell": {
     "cellMetadata": {},
     "inputWidgets": {},
     "nuid": "b0210d27-2951-4f7d-8c63-19cac2f23818",
     "showTitle": false,
     "title": ""
    }
   },
   "source": [
    "Note that the scales of the features are different. E.g. `proline` is in the magnitude of hundreds, magnesium in tens and others are even smaller."
   ]
  },
  {
   "cell_type": "markdown",
   "metadata": {
    "application/vnd.databricks.v1+cell": {
     "cellMetadata": {},
     "inputWidgets": {},
     "nuid": "0a7348ea-318a-4a31-9f53-e86eeafa4bcb",
     "showTitle": false,
     "title": ""
    }
   },
   "source": [
    "__TO DO__: \n",
    "- [`fit_tranform`](https://scikit-learn.org/stable/modules/generated/sklearn.decomposition.PCA.html#sklearn.decomposition.PCA.fit_transform) the PCA with 2 components on `x_wine`.\n",
    "- Return the reduced data set with 2 features and assign it to the variable `x_reduced`.\n",
    "- Print the components of the PCA using the `components_` attribute."
   ]
  },
  {
   "cell_type": "code",
   "execution_count": 0,
   "metadata": {
    "application/vnd.databricks.v1+cell": {
     "cellMetadata": {
      "byteLimit": 2048000,
      "rowLimit": 10000
     },
     "inputWidgets": {},
     "nuid": "0f2153a8-4f59-410e-898d-2ba5e3675d38",
     "showTitle": false,
     "title": ""
    }
   },
   "outputs": [],
   "source": [
    "# Task\n",
    "\n",
    "pca_unscaled = PCA(n_components=2)\n",
    "x_reduced = pca_unscaled.fit_transform(x_wine)\n",
    "pca_unscaled.components_"
   ]
  },
  {
   "cell_type": "markdown",
   "metadata": {
    "application/vnd.databricks.v1+cell": {
     "cellMetadata": {},
     "inputWidgets": {},
     "nuid": "678bb8cc-d23a-4120-9b69-80247b89cfa9",
     "showTitle": false,
     "title": ""
    }
   },
   "source": [
    "__TO DO__: \n",
    "- Use\n",
    "[`StandardScaler()`](https://scikit-learn.org/stable/modules/generated/sklearn.preprocessing.StandardScaler.html)\n",
    "to scale\n",
    "([`fit_transform`](https://scikit-learn.org/stable/modules/generated/sklearn.preprocessing.StandardScaler.html#sklearn.preprocessing.StandardScaler.fit_transform))\n",
    "the `x_wine` and store it in the `x_wine_scaled` variable.\n",
    "- [`fit_transform`](https://scikit-learn.org/stable/modules/generated/sklearn.decomposition.PCA.html#sklearn.decomposition.PCA.fit_transform) the PCA with 2 components on the scaled data.\n",
    "- Return the reduced data set with 2 features and assign it to the variable `x_reduced_scaled`.\n",
    "- Print the components of the PCA using the `components_` attribute."
   ]
  },
  {
   "cell_type": "code",
   "execution_count": 0,
   "metadata": {
    "application/vnd.databricks.v1+cell": {
     "cellMetadata": {
      "byteLimit": 2048000,
      "rowLimit": 10000
     },
     "inputWidgets": {},
     "nuid": "11501f49-ef80-4658-a752-32f043f9ddd2",
     "showTitle": false,
     "title": ""
    }
   },
   "outputs": [],
   "source": [
    "# Task\n",
    "\n",
    "x_wine_scaled = StandardScaler().fit_transform(x_wine)\n",
    "pca_scaled = PCA(n_components=2)\n",
    "x_reduced_scaled = pca_scaled.fit_transform(x_wine_scaled)\n",
    "print(pca_scaled.components_)"
   ]
  },
  {
   "cell_type": "markdown",
   "metadata": {
    "application/vnd.databricks.v1+cell": {
     "cellMetadata": {},
     "inputWidgets": {},
     "nuid": "0194e1d8-60c3-4563-af87-6a41411a61c7",
     "showTitle": false,
     "title": ""
    }
   },
   "source": [
    "Observe how above the last value of the components in the unscaled case was 2 magnitudes larger than the other values of the components. In the scaled case the components have similar weights. You can see the results of the two PCAs in the chart below."
   ]
  },
  {
   "cell_type": "code",
   "execution_count": 0,
   "metadata": {
    "application/vnd.databricks.v1+cell": {
     "cellMetadata": {
      "byteLimit": 2048000,
      "rowLimit": 10000
     },
     "inputWidgets": {},
     "nuid": "95512ff7-b007-4e60-8301-3172e6ab33da",
     "showTitle": false,
     "title": ""
    }
   },
   "outputs": [],
   "source": [
    "fig, (ax1, ax2) = plt.subplots(ncols=2, figsize=(15, 6))\n",
    "\n",
    "scatter1 = ax1.scatter(\n",
    "    x_reduced[:, 0], x_reduced[:, 1], c=y_wine, edgecolor=\"none\", alpha=0.7, s=40\n",
    ")\n",
    "legend1 = ax1.legend(*scatter1.legend_elements(), title=\"wines\")\n",
    "ax1.set_title(\"wine PCA projection (unscaled)\")\n",
    "\n",
    "scatter2 = ax2.scatter(\n",
    "    x_reduced_scaled[:, 0],\n",
    "    x_reduced_scaled[:, 1],\n",
    "    c=y_wine,\n",
    "    edgecolor=\"none\",\n",
    "    alpha=0.7,\n",
    "    s=40,\n",
    ")\n",
    "legend2 = ax2.legend(*scatter2.legend_elements(), title=\"wines\")\n",
    "ax2.set_title(\"wine PCA projection (scaled)\");"
   ]
  },
  {
   "cell_type": "markdown",
   "metadata": {
    "application/vnd.databricks.v1+cell": {
     "cellMetadata": {},
     "inputWidgets": {},
     "nuid": "8969c640-3a17-48b5-8311-b9f2fcd8ef06",
     "showTitle": false,
     "title": ""
    }
   },
   "source": [
    "To summerize:   \n",
    "Scaling helped us to visualize similar results close to each other. As a consequence scaling improves the performance of classifiers after dimensionality reduction."
   ]
  },
  {
   "cell_type": "code",
   "execution_count": 0,
   "metadata": {
    "application/vnd.databricks.v1+cell": {
     "cellMetadata": {
      "byteLimit": 2048000,
      "rowLimit": 10000
     },
     "inputWidgets": {},
     "nuid": "26dbd488-e869-4a0d-8f81-f8c7682e3849",
     "showTitle": false,
     "title": ""
    }
   },
   "outputs": [],
   "source": [
    "from sklearn.ensemble import RandomForestClassifier\n",
    "from sklearn.pipeline import make_pipeline\n",
    "from sklearn.model_selection import train_test_split\n",
    "from sklearn.metrics import accuracy_score"
   ]
  },
  {
   "cell_type": "markdown",
   "metadata": {
    "application/vnd.databricks.v1+cell": {
     "cellMetadata": {},
     "inputWidgets": {},
     "nuid": "2f1c89a4-ac5f-4e0e-8db3-4fe69bb185c7",
     "showTitle": false,
     "title": ""
    }
   },
   "source": [
    "# Optional part\n",
    "__TO DO__: Use the\n",
    "[`train_test_split()`](https://scikit-learn.org/stable/modules/generated/sklearn.model_selection.train_test_split.html)\n",
    "function to split the `x_wine`, `y_wine` data into `x_train`, `x_test`, `y_train`, `y_test`."
   ]
  },
  {
   "cell_type": "code",
   "execution_count": 0,
   "metadata": {
    "application/vnd.databricks.v1+cell": {
     "cellMetadata": {
      "byteLimit": 2048000,
      "rowLimit": 10000
     },
     "inputWidgets": {},
     "nuid": "a8ce2a67-0a0c-4587-a50f-caa5dcee5991",
     "showTitle": false,
     "title": ""
    }
   },
   "outputs": [],
   "source": [
    "# Task\n",
    "\n",
    "x_train, x_test, y_train, y_test = train_test_split(x_wine, y_wine, random_state=42)"
   ]
  },
  {
   "cell_type": "markdown",
   "metadata": {
    "application/vnd.databricks.v1+cell": {
     "cellMetadata": {},
     "inputWidgets": {},
     "nuid": "51b0a0f1-15a3-4b1f-8b79-e8a221cc5c0d",
     "showTitle": false,
     "title": ""
    }
   },
   "source": [
    "Here we will make use of\n",
    "[`make_pipeline`](https://scikit-learn.org/stable/modules/generated/sklearn.pipeline.make_pipeline.html)\n",
    "which constructs a pipeline from the given estimators.\n",
    "First we will apply a PCA with 2 components to reduce the dimensionality of the training data `x_train` and then apply\n",
    "[`RandomForestClassifier()`](https://scikit-learn.org/stable/modules/generated/sklearn.ensemble.RandomForestClassifier.html)\n",
    "with default parameters.\n",
    "We initialize a PCA and a RF in the pipeline and fit it to the training data."
   ]
  },
  {
   "cell_type": "code",
   "execution_count": 0,
   "metadata": {
    "application/vnd.databricks.v1+cell": {
     "cellMetadata": {
      "byteLimit": 2048000,
      "rowLimit": 10000
     },
     "inputWidgets": {},
     "nuid": "7c24e43e-c7ae-46c2-8d0f-5740865cab68",
     "showTitle": false,
     "title": ""
    }
   },
   "outputs": [],
   "source": [
    "clf_unscaled = make_pipeline(PCA(2), RandomForestClassifier()) \n",
    "clf_unscaled.fit(x_train, y_train)"
   ]
  },
  {
   "cell_type": "markdown",
   "metadata": {
    "application/vnd.databricks.v1+cell": {
     "cellMetadata": {},
     "inputWidgets": {},
     "nuid": "046e564a-755c-4e87-9494-8f39276c666f",
     "showTitle": false,
     "title": ""
    }
   },
   "source": [
    "Now we will predict the classes with the pipeline on a test dataset x_test and evaluate by comparing the predictions to true values from y_test"
   ]
  },
  {
   "cell_type": "code",
   "execution_count": 0,
   "metadata": {
    "application/vnd.databricks.v1+cell": {
     "cellMetadata": {
      "byteLimit": 2048000,
      "rowLimit": 10000
     },
     "inputWidgets": {},
     "nuid": "0f6004e2-991a-4a7d-8f86-4e8d4e554383",
     "showTitle": false,
     "title": ""
    }
   },
   "outputs": [],
   "source": [
    "pred_test_unscaled = clf_unscaled.predict(x_test)\n",
    "accuracy_score(y_test, pred_test_unscaled)"
   ]
  },
  {
   "cell_type": "markdown",
   "metadata": {
    "application/vnd.databricks.v1+cell": {
     "cellMetadata": {},
     "inputWidgets": {},
     "nuid": "2519d08e-514f-43bb-bd6c-7d7ab447a9aa",
     "showTitle": false,
     "title": ""
    }
   },
   "source": [
    "__TO DO__:  Repeat the same steps as in the previous two cells.\n",
    "- Create a new pipeline but now include the additional estimator\n",
    "[`StandardScaler()`](https://scikit-learn.org/stable/modules/generated/sklearn.preprocessing.StandardScaler.html)\n",
    "at the beginning of the pipeline.   \n",
    "Assign the pipeline to the variable `clf_scaled`.   \n",
    "In the example above you had 2 estimators (\n",
    "[`PCA(2)`](https://scikit-learn.org/stable/modules/generated/sklearn.decomposition.PCA.html)\n",
    "and\n",
    "[`RandomForestClassifier()`](https://scikit-learn.org/stable/modules/generated/sklearn.ensemble.RandomForestClassifier.html)\n",
    ").\n",
    "Now you will have 3 estimators. \n",
    "- Fit the pipeline to the training data `x_train` and `y_train`.\n",
    "- Use the\n",
    "[`predict()`](https://scikit-learn.org/stable/modules/generated/sklearn.pipeline.Pipeline.html#sklearn.pipeline.Pipeline.predict)\n",
    "method of `clf_scaled` on the test data `x_test` and store the predictions to a variable `pred_test_scaled`.\n",
    "- Print the accuracy of the `pred_test_scaled` as compared to `y_test`."
   ]
  },
  {
   "cell_type": "code",
   "execution_count": 0,
   "metadata": {
    "application/vnd.databricks.v1+cell": {
     "cellMetadata": {
      "byteLimit": 2048000,
      "rowLimit": 10000
     },
     "inputWidgets": {},
     "nuid": "2607d01a-8ed3-45b9-a50e-27877cb0e6ef",
     "showTitle": false,
     "title": ""
    }
   },
   "outputs": [],
   "source": [
    "# Task\n",
    "\n",
    "clf_scaled = make_pipeline(StandardScaler(), PCA(2), RandomForestClassifier())\n",
    "clf_scaled.fit(x_train, y_train)\n",
    "pred_test_scaled = clf_scaled.predict(x_test)\n",
    "accuracy_score(y_test, pred_test_scaled)"
   ]
  },
  {
   "cell_type": "markdown",
   "metadata": {
    "application/vnd.databricks.v1+cell": {
     "cellMetadata": {},
     "inputWidgets": {},
     "nuid": "21b92ea7-5bca-46bf-a16f-98fa5594157c",
     "showTitle": false,
     "title": ""
    }
   },
   "source": [
    "You can see that scaling improved the accuracy of the model significantly."
   ]
  },
  {
   "cell_type": "markdown",
   "metadata": {
    "application/vnd.databricks.v1+cell": {
     "cellMetadata": {},
     "inputWidgets": {},
     "nuid": "c9fee367-a4ce-4479-89d8-71d4a2407db2",
     "showTitle": false,
     "title": ""
    }
   },
   "source": [
    "## t-SNE\n",
    "\n",
    "[t-SNE](https://scikit-learn.org/stable/modules/manifold.html#t-sne)\n",
    "(t-distributed stochastic neighbor embedding) is another dimensionality reduction method that works well for visualizing high-dimensional data.   \n",
    "With t-SNE you can get **different results with different initializations**.   \n",
    "If the number of features is high then t-SNE can get quite slow. \n",
    "\n",
    "Here we select 2000 random samples from the MNIST digits dataset and still t-SNE takes much more time to complete than PCA."
   ]
  },
  {
   "cell_type": "code",
   "execution_count": 0,
   "metadata": {
    "application/vnd.databricks.v1+cell": {
     "cellMetadata": {
      "byteLimit": 2048000,
      "rowLimit": 10000
     },
     "inputWidgets": {},
     "nuid": "cdde7e52-42c3-4361-9ba4-91fd1ebe6f84",
     "showTitle": false,
     "title": ""
    }
   },
   "outputs": [],
   "source": [
    "from sklearn.manifold import TSNE\n",
    "from datetime import datetime as dt"
   ]
  },
  {
   "cell_type": "markdown",
   "metadata": {
    "application/vnd.databricks.v1+cell": {
     "cellMetadata": {},
     "inputWidgets": {},
     "nuid": "41443496-9f01-4d44-8dc2-82729142257b",
     "showTitle": false,
     "title": ""
    }
   },
   "source": [
    "__TO DO__: \n",
    "Use\n",
    "[`TSNE()`](https://scikit-learn.org/stable/modules/generated/sklearn.manifold.TSNE.html)\n",
    "with `n_components = 2, init=\"random\", learning_rate=\"auto\"` and then apply `fit_transform` to the random 2000 examples from the MNIST data set which are stored in `x_digits`.\n",
    "Store the result in the variable `x_embedded`.\n",
    "\n",
    "*Hint*: Since we set the parameter for initialisation to `\"random\"` you can observe different results by rerunning the task and visualization. By default PCA would be used to get the initial state."
   ]
  },
  {
   "cell_type": "code",
   "execution_count": 0,
   "metadata": {
    "application/vnd.databricks.v1+cell": {
     "cellMetadata": {
      "byteLimit": 2048000,
      "rowLimit": 10000
     },
     "inputWidgets": {},
     "nuid": "a8831b87-acc1-4d56-9897-f76684783faa",
     "showTitle": false,
     "title": ""
    }
   },
   "outputs": [],
   "source": [
    "# Task\n",
    "\n",
    "t1 = dt.now()\n",
    "x_embedded = TSNE(n_components=2, init=\"random\", learning_rate=\"auto\").fit_transform(x_digits)"
   ]
  },
  {
   "cell_type": "code",
   "execution_count": 0,
   "metadata": {
    "application/vnd.databricks.v1+cell": {
     "cellMetadata": {
      "byteLimit": 2048000,
      "rowLimit": 10000
     },
     "inputWidgets": {},
     "nuid": "4b9e6264-6a84-4bb6-9c18-640bf7896da6",
     "showTitle": false,
     "title": ""
    }
   },
   "outputs": [],
   "source": [
    "fig, ax = plt.subplots(figsize=(10, 7))\n",
    "scatter = ax.scatter(\n",
    "    x_embedded[:, 0],\n",
    "    x_embedded[:, 1],\n",
    "    c=y_digits,\n",
    "    edgecolor=\"none\",\n",
    "    alpha=0.7,\n",
    "    s=40,\n",
    "    cmap=plt.cm.get_cmap(\"nipy_spectral\", 10),\n",
    ")\n",
    "legend = ax.legend(*scatter.legend_elements(), title=\"digits\")\n",
    "plt.title(\"MNIST. TSNE projection\")\n",
    "print(f\"Timerun: {dt.now()-t1}\")"
   ]
  },
  {
   "cell_type": "markdown",
   "metadata": {
    "application/vnd.databricks.v1+cell": {
     "cellMetadata": {},
     "inputWidgets": {},
     "nuid": "318bd64c-03a2-4787-a81d-c0f09ce93ba3",
     "showTitle": false,
     "title": ""
    }
   },
   "source": [
    "With t-SNE, the picture looks better since PCA has a linear constraint while t-SNE does not. Details of the algorithm are for further reading. \n",
    "\n",
    "https://scikit-learn.org/stable/modules/generated/sklearn.manifold.TSNE.html"
   ]
  },
  {
   "cell_type": "markdown",
   "metadata": {
    "application/vnd.databricks.v1+cell": {
     "cellMetadata": {},
     "inputWidgets": {},
     "nuid": "dcd43cd7-935e-4f2a-81e1-7f667ceddba2",
     "showTitle": false,
     "title": ""
    }
   },
   "source": [
    "## Autoencoders"
   ]
  },
  {
   "cell_type": "code",
   "execution_count": 0,
   "metadata": {
    "application/vnd.databricks.v1+cell": {
     "cellMetadata": {
      "byteLimit": 2048000,
      "rowLimit": 10000
     },
     "inputWidgets": {},
     "nuid": "71a6e87b-67b0-4b90-9bba-8e2b86d832e9",
     "showTitle": false,
     "title": ""
    }
   },
   "outputs": [],
   "source": [
    "import os\n",
    "import matplotlib.pyplot as plt\n",
    "import numpy as np\n",
    "import pandas as pd\n",
    "import random\n",
    "import tensorflow as tf\n",
    "from pathlib import Path\n",
    "import zipfile\n",
    "\n",
    "mnist_path = Path(os.getcwd()).parents[3] / \"Data\" / \"mnist.zip\"\n",
    "print(mnist_path)"
   ]
  },
  {
   "cell_type": "code",
   "execution_count": 0,
   "metadata": {
    "application/vnd.databricks.v1+cell": {
     "cellMetadata": {
      "byteLimit": 2048000,
      "rowLimit": 10000
     },
     "inputWidgets": {},
     "nuid": "febfb202-8452-4980-88df-30da678f3680",
     "showTitle": false,
     "title": ""
    }
   },
   "outputs": [],
   "source": [
    "with zipfile.ZipFile(mnist_path, \"r\") as zfile:\n",
    "    mnist = np.load(zfile.open('mnist.npz'))\n",
    "    x_digits = mnist.get(\"x_train\")\n",
    "    x_test = mnist.get(\"x_test\")\n",
    "    y_digits = mnist.get(\"y_train\")\n",
    "    y_test = mnist.get(\"y_test\")"
   ]
  },
  {
   "cell_type": "markdown",
   "metadata": {
    "application/vnd.databricks.v1+cell": {
     "cellMetadata": {},
     "inputWidgets": {},
     "nuid": "ce46a5fc-6302-41dc-ae71-d18b9dddb1ce",
     "showTitle": false,
     "title": ""
    }
   },
   "source": [
    "If you have problems with RAM memory uncomment and run the three lines of code below.\n",
    "They will select only a subset of the data."
   ]
  },
  {
   "cell_type": "code",
   "execution_count": 0,
   "metadata": {
    "application/vnd.databricks.v1+cell": {
     "cellMetadata": {
      "byteLimit": 2048000,
      "rowLimit": 10000
     },
     "inputWidgets": {},
     "nuid": "2787c608-20c6-44d2-80aa-9b8e35d46704",
     "showTitle": false,
     "title": ""
    }
   },
   "outputs": [],
   "source": [
    "#idxs_ = random.sample(range(x_digits.shape[0]), 10000)\n",
    "#x_digits = x_digits[idxs_]\n",
    "#y_digits = y_digits[idxs_]"
   ]
  },
  {
   "cell_type": "markdown",
   "metadata": {
    "application/vnd.databricks.v1+cell": {
     "cellMetadata": {},
     "inputWidgets": {},
     "nuid": "ba5f109a-ce81-4355-aec0-f271b8f6a42d",
     "showTitle": false,
     "title": ""
    }
   },
   "source": [
    "Let's start by visualizing our data. Fetch the first 10 numbers."
   ]
  },
  {
   "cell_type": "code",
   "execution_count": 0,
   "metadata": {
    "application/vnd.databricks.v1+cell": {
     "cellMetadata": {
      "byteLimit": 2048000,
      "rowLimit": 10000
     },
     "inputWidgets": {},
     "nuid": "963fcfe2-cabf-4ccc-bcba-69424f1f5543",
     "showTitle": false,
     "title": ""
    }
   },
   "outputs": [],
   "source": [
    "plt.figure(figsize=(16, 6))\n",
    "for i in range(10):\n",
    "    plt.subplot(2, 5, i + 1)\n",
    "    plt.imshow(x_digits[i,:].reshape([28,28]), cmap='gray');"
   ]
  },
  {
   "cell_type": "markdown",
   "metadata": {
    "application/vnd.databricks.v1+cell": {
     "cellMetadata": {},
     "inputWidgets": {},
     "nuid": "b39ff41b-2a0b-4617-8363-c78f65889d8c",
     "showTitle": false,
     "title": ""
    }
   },
   "source": [
    "__TO DO__: Return the shape of `x_digits`."
   ]
  },
  {
   "cell_type": "code",
   "execution_count": 0,
   "metadata": {
    "application/vnd.databricks.v1+cell": {
     "cellMetadata": {
      "byteLimit": 2048000,
      "rowLimit": 10000
     },
     "inputWidgets": {},
     "nuid": "5dd44a72-2957-4b88-8677-d94da645191a",
     "showTitle": false,
     "title": ""
    }
   },
   "outputs": [],
   "source": [
    "# Task\n",
    "\n",
    "x_digits.shape"
   ]
  },
  {
   "cell_type": "markdown",
   "metadata": {
    "application/vnd.databricks.v1+cell": {
     "cellMetadata": {},
     "inputWidgets": {},
     "nuid": "18b86174-3754-4151-9563-a680e1a7385a",
     "showTitle": false,
     "title": ""
    }
   },
   "source": [
    "There are 60.000 numbers represented by 28 x 28 matrices with each entry encoding the color intensity for a pixel. We need to flatten every matrix into a vector of 28 x 28 = 784 numbers. We will use the numpy\n",
    "[`.reshape()`](https://numpy.org/doc/stable/reference/generated/numpy.reshape.html)\n",
    "method which gives a new shape to an array without changing its data."
   ]
  },
  {
   "cell_type": "code",
   "execution_count": 0,
   "metadata": {
    "application/vnd.databricks.v1+cell": {
     "cellMetadata": {
      "byteLimit": 2048000,
      "rowLimit": 10000
     },
     "inputWidgets": {},
     "nuid": "cf149068-7fda-4c2f-99c9-9fb74bd60207",
     "showTitle": false,
     "title": ""
    }
   },
   "outputs": [],
   "source": [
    "x_digits_flat = x_digits.reshape(x_digits.shape[0], x_digits.shape[1]*x_digits.shape[2]) # reshaping matrices into vectors\n",
    "x_digits_flat.shape"
   ]
  },
  {
   "cell_type": "markdown",
   "metadata": {
    "application/vnd.databricks.v1+cell": {
     "cellMetadata": {},
     "inputWidgets": {},
     "nuid": "e200d886-2913-4824-a6a6-424a655ddb4f",
     "showTitle": false,
     "title": ""
    }
   },
   "source": [
    "Next we compile the encoder-decoder architecture stacked sequentially (autoencoder) using [Keras](https://www.tensorflow.org/guide/keras).\n",
    "If it is not installed you will have to install keras either with pip or conda.   \n",
    "Just execute the code and read the comments. \n",
    "Learning Keras is out of scope of this lecture."
   ]
  },
  {
   "cell_type": "code",
   "execution_count": 0,
   "metadata": {
    "application/vnd.databricks.v1+cell": {
     "cellMetadata": {
      "byteLimit": 2048000,
      "rowLimit": 10000
     },
     "inputWidgets": {},
     "nuid": "c9610385-fd4a-474d-9867-819270b1a6f1",
     "showTitle": false,
     "title": ""
    }
   },
   "outputs": [],
   "source": [
    "from tensorflow.keras.models import Sequential\n",
    "from tensorflow.keras.layers import Dense,Flatten,Reshape\n",
    "from tensorflow.keras.optimizers import SGD, Adam\n",
    "import seaborn as sns\n",
    "\n",
    "X_train = x_digits/255.0 # digits matrices are scaled to values between 0 and 1\n",
    " \n",
    "### Encoder\n",
    "encoder = Sequential()\n",
    "encoder.add(Flatten(input_shape=[28,28]))   # flatten the input matrices into vectors of 28x28\n",
    "encoder.add(Dense(400,activation=\"relu\"))   # add a dense layer with 400 neurons and relu activation\n",
    "encoder.add(Dense(200,activation=\"relu\"))\n",
    "encoder.add(Dense(100,activation=\"relu\"))\n",
    "encoder.add(Dense(50,activation=\"relu\"))\n",
    "encoder.add(Dense(2,activation=\"relu\"))     # add a dense layer with 2 neurons and relu activation\n",
    " \n",
    "### Decoder\n",
    "decoder = Sequential()\n",
    "decoder.add(Dense(50,input_shape=[2],activation='sigmoid'))  # decoder will start with an input of dimension 2 from an encoder\n",
    "decoder.add(Dense(100,activation='sigmoid'))\n",
    "decoder.add(Dense(200,activation='sigmoid'))\n",
    "decoder.add(Dense(400,activation='sigmoid'))\n",
    "decoder.add(Dense(28 * 28, activation=\"sigmoid\"))\n",
    "decoder.add(Reshape([28, 28]))           # reshape the output from a flat vector to matrix of 28x28 \n",
    " \n",
    "### Autoencoder\n",
    "autoencoder = Sequential([encoder,decoder]) # stack encoder and decoder sequentially\n",
    "autoencoder.compile(loss=\"mse\", optimizer='Adam') # compile the model"
   ]
  },
  {
   "cell_type": "markdown",
   "metadata": {
    "application/vnd.databricks.v1+cell": {
     "cellMetadata": {},
     "inputWidgets": {},
     "nuid": "679fc10c-785a-4044-a703-fdbb07985add",
     "showTitle": false,
     "title": ""
    }
   },
   "source": [
    "__TO DO__:\n",
    "[Fit the compiled autoencoder model](https://www.tensorflow.org/api_docs/python/tf/keras/Sequential#fit)\n",
    "as you are used from Scikit-learn. As`x` use `X_train` and as `y` use `X_train` again and specify number of epochs with the parameter `epochs=5`."
   ]
  },
  {
   "cell_type": "code",
   "execution_count": 0,
   "metadata": {
    "application/vnd.databricks.v1+cell": {
     "cellMetadata": {
      "byteLimit": 2048000,
      "rowLimit": 10000
     },
     "inputWidgets": {},
     "nuid": "cafaf446-d1d2-4dbd-8a68-a844fa8bd297",
     "showTitle": false,
     "title": ""
    }
   },
   "outputs": [],
   "source": [
    "# Task\n",
    "\n",
    "autoencoder.fit(X_train,X_train,epochs=5)"
   ]
  },
  {
   "cell_type": "markdown",
   "metadata": {
    "application/vnd.databricks.v1+cell": {
     "cellMetadata": {},
     "inputWidgets": {},
     "nuid": "3d98da9b-e0c1-4214-addf-167729b77e31",
     "showTitle": false,
     "title": ""
    }
   },
   "source": [
    "__TO DO__: Use the\n",
    "[`predict()`](https://www.tensorflow.org/api_docs/python/tf/keras/Sequential#predict)\n",
    "method of the encoder on `X_train` and assign the result to `x_reduced`."
   ]
  },
  {
   "cell_type": "code",
   "execution_count": 0,
   "metadata": {
    "application/vnd.databricks.v1+cell": {
     "cellMetadata": {
      "byteLimit": 2048000,
      "rowLimit": 10000
     },
     "inputWidgets": {},
     "nuid": "7658b9de-b4ff-49f5-93bd-2f9b501ea70e",
     "showTitle": false,
     "title": ""
    }
   },
   "outputs": [],
   "source": [
    "# Task\n",
    "\n",
    "x_reduced = encoder.predict(X_train) "
   ]
  },
  {
   "cell_type": "code",
   "execution_count": 0,
   "metadata": {
    "application/vnd.databricks.v1+cell": {
     "cellMetadata": {
      "byteLimit": 2048000,
      "rowLimit": 10000
     },
     "inputWidgets": {},
     "nuid": "61f19e61-73c2-4683-ac3d-4cc67ec67adf",
     "showTitle": false,
     "title": ""
    }
   },
   "outputs": [],
   "source": [
    "fig, ax = plt.subplots(figsize=(12, 8))\n",
    "scatter = ax.scatter(x_reduced[:, 0], x_reduced[:, 1], c=y_digits, \n",
    "            edgecolor='none', alpha=0.7, s=40,\n",
    "            cmap=plt.cm.get_cmap('nipy_spectral', 10))\n",
    "legend = ax.legend(*scatter.legend_elements(), title=\"digits\")\n",
    "plt.title('Encoder PCA projection (5 epochs)');"
   ]
  },
  {
   "cell_type": "markdown",
   "metadata": {
    "application/vnd.databricks.v1+cell": {
     "cellMetadata": {},
     "inputWidgets": {},
     "nuid": "c3c330a6-7a21-4424-b01f-d406cf33dda4",
     "showTitle": false,
     "title": ""
    }
   },
   "source": [
    "After training with 5 epochs the result does not look very promising. However, if you let the model learn for 50 epochs you should get a result similar to the one shown in the image below."
   ]
  },
  {
   "cell_type": "code",
   "execution_count": 0,
   "metadata": {
    "application/vnd.databricks.v1+cell": {
     "cellMetadata": {
      "byteLimit": 2048000,
      "rowLimit": 10000
     },
     "inputWidgets": {},
     "nuid": "0f164aff-839e-419f-a225-b87ddb950adc",
     "showTitle": false,
     "title": ""
    }
   },
   "outputs": [],
   "source": [
    "autoencoder.fit(X_train,X_train,epochs=50)"
   ]
  },
  {
   "cell_type": "code",
   "execution_count": 0,
   "metadata": {
    "application/vnd.databricks.v1+cell": {
     "cellMetadata": {
      "byteLimit": 2048000,
      "rowLimit": 10000
     },
     "inputWidgets": {},
     "nuid": "eff3cbf1-1441-40a2-a9cf-2b45d574c03f",
     "showTitle": false,
     "title": ""
    }
   },
   "outputs": [],
   "source": [
    "x_reduced = encoder.predict(X_train)"
   ]
  },
  {
   "cell_type": "code",
   "execution_count": 0,
   "metadata": {
    "application/vnd.databricks.v1+cell": {
     "cellMetadata": {
      "byteLimit": 2048000,
      "rowLimit": 10000
     },
     "inputWidgets": {},
     "nuid": "af3e75ac-b304-4da8-8daf-2763bd5afe59",
     "showTitle": false,
     "title": ""
    }
   },
   "outputs": [],
   "source": [
    "fig, ax = plt.subplots(figsize=(12, 8))\n",
    "scatter = ax.scatter(x_reduced[:, 0], x_reduced[:, 1], c=y_digits, \n",
    "            edgecolor='none', alpha=0.7, s=40,\n",
    "            cmap=plt.cm.get_cmap('nipy_spectral', 10))\n",
    "legend = ax.legend(*scatter.legend_elements(), title=\"digits\")\n",
    "plt.title('Encoder PCA projection (50 epochs)');"
   ]
  },
  {
   "cell_type": "markdown",
   "metadata": {
    "application/vnd.databricks.v1+cell": {
     "cellMetadata": {},
     "inputWidgets": {},
     "nuid": "a50313a0-0048-4a73-b2eb-b5b6cd87b635",
     "showTitle": false,
     "title": ""
    }
   },
   "source": [
    "Some material adapted for RBI internal purposes with full permissions from original authors."
   ]
  }
 ],
 "metadata": {
  "application/vnd.databricks.v1+notebook": {
   "dashboards": [],
   "environmentMetadata": null,
   "language": "python",
   "notebookMetadata": {
    "pythonIndentUnit": 4
   },
   "notebookName": "[Answer]2_dimensionality_reduction_jupyter",
   "widgets": {}
  }
 },
 "nbformat": 4,
 "nbformat_minor": 0
}
