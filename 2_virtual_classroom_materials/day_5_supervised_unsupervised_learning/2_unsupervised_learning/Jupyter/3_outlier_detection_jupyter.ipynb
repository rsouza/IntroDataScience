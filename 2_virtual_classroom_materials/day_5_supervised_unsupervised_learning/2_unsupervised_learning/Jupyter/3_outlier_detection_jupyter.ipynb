{
 "cells": [
  {
   "cell_type": "markdown",
   "metadata": {
    "application/vnd.databricks.v1+cell": {
     "cellMetadata": {},
     "inputWidgets": {},
     "nuid": "52a1cd9b-ac89-4a64-8b2f-38e446c149c4",
     "showTitle": false,
     "title": ""
    }
   },
   "source": [
    "## One-class SVM \n",
    "\n",
    "One-class SVM (one-class support vector machines) is an unsupervised algorithm that learns a decision function for novelty detection: classifying new data as similar or different to the training set. It basically means that this algorithm is trained only on the 'normal' data. It learns the boundaries of these normal points and is therefore able to classify any points that lie outside the boundary as outliers.\n",
    "\n",
    "You can take a look at the parameters of the model down below. For more information regarding the model, please check out the\n",
    "[OneClassSVM documentation](https://scikit-learn.org/stable/modules/generated/sklearn.svm.OneClassSVM.html#sklearn.svm.OneClassSVM).\n",
    "\n",
    "```class sklearn.svm.OneClassSVM(*, kernel='rbf', degree=3, gamma='scale', coef0=0.0, tol=0.001, nu=0.5, shrinking=True, cache_size=200, verbose=False, max_iter=-1)```\n",
    "\n",
    "#### Explanation of important parameters:\n",
    "\n",
    "- `kernel`: specifies the kernel type to be used in the algorithm.\n",
    "- `nu`: the proportion of outliers you expect to observe .\n",
    "- `gamma`: determines the smoothing of the contour lines."
   ]
  },
  {
   "cell_type": "markdown",
   "metadata": {
    "application/vnd.databricks.v1+cell": {
     "cellMetadata": {},
     "inputWidgets": {},
     "nuid": "d96a8892-560f-4a1e-ac6f-b2dbc680f273",
     "showTitle": false,
     "title": ""
    }
   },
   "source": [
    "### One-class SVM Exercises\n",
    "\n",
    "First we will import\n",
    "[`OneClassSVM`](https://scikit-learn.org/stable/modules/generated/sklearn.svm.OneClassSVM.html)\n",
    "from\n",
    "[`sklearn.svm`](https://scikit-learn.org/stable/modules/classes.html#module-sklearn.svm),\n",
    "[`make_blobs`](https://scikit-learn.org/stable/modules/generated/sklearn.datasets.make_blobs.html#sklearn.datasets.make_blobs),\n",
    "`numpy`, and `matplotlib.pyplot`."
   ]
  },
  {
   "cell_type": "code",
   "execution_count": 0,
   "metadata": {
    "application/vnd.databricks.v1+cell": {
     "cellMetadata": {},
     "inputWidgets": {},
     "nuid": "591e553f-965e-46d8-8bfe-030525dd73de",
     "showTitle": false,
     "title": ""
    }
   },
   "outputs": [],
   "source": [
    "from sklearn.svm import OneClassSVM\n",
    "from sklearn.datasets import make_blobs\n",
    "import numpy as np  # You will use np.quantile, np.where and np.random\n",
    "import matplotlib.pyplot as plt"
   ]
  },
  {
   "cell_type": "markdown",
   "metadata": {
    "application/vnd.databricks.v1+cell": {
     "cellMetadata": {},
     "inputWidgets": {},
     "nuid": "69f0664e-c447-42a9-859d-13b01aa07b11",
     "showTitle": false,
     "title": ""
    }
   },
   "source": [
    "We have created a random sample data set below by using the\n",
    "[`make_blobs()`](https://scikit-learn.org/stable/modules/generated/sklearn.datasets.make_blobs.html#sklearn.datasets.make_blobs)\n",
    "function."
   ]
  },
  {
   "cell_type": "code",
   "execution_count": 0,
   "metadata": {
    "application/vnd.databricks.v1+cell": {
     "cellMetadata": {},
     "inputWidgets": {},
     "nuid": "615a8326-6c15-4119-b454-ebfd10cd06b2",
     "showTitle": false,
     "title": ""
    }
   },
   "outputs": [],
   "source": [
    "np.random.seed(13)\n",
    "x, _ = make_blobs(n_samples=200, centers=1, cluster_std=.3, center_box=(8, 8))\n",
    "\n",
    "plt.scatter(x[:,0], x[:,1])\n",
    "plt.show()\n"
   ]
  },
  {
   "cell_type": "markdown",
   "metadata": {
    "application/vnd.databricks.v1+cell": {
     "cellMetadata": {},
     "inputWidgets": {},
     "nuid": "30d8cffd-58ae-4ea9-b722-6e15658ac536",
     "showTitle": false,
     "title": ""
    }
   },
   "source": [
    "**TO DO:** We will use the rbf kernel type ([`radial basis function`](https://en.wikipedia.org/wiki/Radial_basis_function_kernel)) for our model. Instantiate a new `OneClassSVM` model as `svm` with kernel type 'rbf', a gamma value of 0.001 and a nu value of 0.03."
   ]
  },
  {
   "cell_type": "code",
   "execution_count": 0,
   "metadata": {
    "application/vnd.databricks.v1+cell": {
     "cellMetadata": {},
     "inputWidgets": {},
     "nuid": "a3d6b8fd-1138-4354-87a6-51fbaa803478",
     "showTitle": false,
     "title": ""
    }
   },
   "outputs": [],
   "source": [
    "# Task"
   ]
  },
  {
   "cell_type": "markdown",
   "metadata": {
    "application/vnd.databricks.v1+cell": {
     "cellMetadata": {},
     "inputWidgets": {},
     "nuid": "ace7ccb2-de44-4688-b3b7-f88d09243be9",
     "showTitle": false,
     "title": ""
    }
   },
   "source": [
    "**TO DO:** Fit the model with the data set `x` that we created at the beginning and get the prediction data by using the\n",
    "[`fit()`](https://scikit-learn.org/stable/modules/generated/sklearn.svm.OneClassSVM.html#sklearn.svm.OneClassSVM.fit)\n",
    "and\n",
    "[`predict()`](https://scikit-learn.org/stable/modules/generated/sklearn.svm.OneClassSVM.html#sklearn.svm.OneClassSVM.predict)\n",
    "methods."
   ]
  },
  {
   "cell_type": "code",
   "execution_count": 0,
   "metadata": {
    "application/vnd.databricks.v1+cell": {
     "cellMetadata": {},
     "inputWidgets": {},
     "nuid": "88fa20eb-ebc1-45f3-bbd4-3d44a48a2985",
     "showTitle": false,
     "title": ""
    }
   },
   "outputs": [],
   "source": [
    "# Task"
   ]
  },
  {
   "cell_type": "markdown",
   "metadata": {
    "application/vnd.databricks.v1+cell": {
     "cellMetadata": {},
     "inputWidgets": {},
     "nuid": "3de20f90-bd3f-4e08-b020-ceb933e41790",
     "showTitle": false,
     "title": ""
    }
   },
   "source": [
    "**TO DO:** If everything has been done correctly before, you can now extract the negative outputs (where the prediction of the data is equal to -1) as the outliers.\n",
    "Save these in these in the variable `values`. "
   ]
  },
  {
   "cell_type": "code",
   "execution_count": 0,
   "metadata": {
    "application/vnd.databricks.v1+cell": {
     "cellMetadata": {},
     "inputWidgets": {},
     "nuid": "20d5598b-8e49-4356-aa15-6ac2685cc1df",
     "showTitle": false,
     "title": ""
    }
   },
   "outputs": [],
   "source": [
    "# Task"
   ]
  },
  {
   "cell_type": "markdown",
   "metadata": {
    "application/vnd.databricks.v1+cell": {
     "cellMetadata": {},
     "inputWidgets": {},
     "nuid": "55a82653-4b1c-4af5-9d77-f277acb7979b",
     "showTitle": false,
     "title": ""
    }
   },
   "source": [
    "Now we will visualize what we have done by using `plt`."
   ]
  },
  {
   "cell_type": "code",
   "execution_count": 0,
   "metadata": {
    "application/vnd.databricks.v1+cell": {
     "cellMetadata": {},
     "inputWidgets": {},
     "nuid": "ffc34b42-1c8b-454c-81a7-3f82fb6822d9",
     "showTitle": false,
     "title": ""
    }
   },
   "outputs": [],
   "source": [
    "plt.scatter(x[:,0], x[:,1])\n",
    "plt.scatter(values[:,0], values[:,1], color='r')\n",
    "plt.show()"
   ]
  },
  {
   "cell_type": "markdown",
   "metadata": {
    "application/vnd.databricks.v1+cell": {
     "cellMetadata": {},
     "inputWidgets": {},
     "nuid": "ac9759e5-9e07-4665-9a5c-37548ed5a837",
     "showTitle": false,
     "title": ""
    }
   },
   "source": [
    "## Local Outlier Factor\n",
    "\n",
    "[The Local Outlier Factor (LOF) algorithm](https://en.wikipedia.org/wiki/Local_outlier_factor)\n",
    "is an unsupervised anomaly detection method which computes the local density deviation of a given data point with respect to its neighbors. It considers as outliers the samples that have a substantially lower density than their neighbors. Note that when LOF is used for outlier detection it has no `predict`, `decision_function` and `score_samples` methods. \n",
    "\n",
    "LOF is a score that describes how likely a certain data point is to be an outlier/anomaly.\n",
    "\n",
    "- When LOF is around 1 it is most likely that the data point is normal.\n",
    "- When LOF scores higher than 1 it is most likely that the data point is an outlier.\n",
    "\n",
    "In general, the LOF of a point tells us the density of this point compared to the density of its neighbors. If the density of a point is much smaller than the densities of its neighbors (LOF ≫1), the point is far from dense areas and, hence, an outlier.\n",
    "\n",
    "#### Explanation of important parameters\n",
    "- `n_neighbors`: the number of neighbors considered\n",
    "    - It should be greater than the minimum number of samples a cluster has to contain, so that other samples can be local outliers relative to this cluster.\n",
    "    - It should be smaller than the maximum number of close-by samples that can potentially be local outliers. \n",
    "    - In practice, such information is generally not available, and taking `n_neighbors=20` appears to work well in general.\n",
    "- `contamination`: the amount of contamination of the data set, i.e. the proportion of outliers in the data set. When fitting, this is used to define the threshold on the scores of the samples.\n",
    "\n",
    "#### Explanation of attributes\n",
    "- `negative_outlier_factor_`: the opposite of LOF for the training samples. The higher, the more normal. Inliers tend to have a LOF score close to 1 (`negative_outlier_factor_` close to -1), while outliers tend to have a larger LOF score. The local outlier factor (LOF) of a sample captures its supposed 'degree of abnormality'. It is the average of the ratio of the local reachability density of a sample and those of its k-nearest neighbors.\n",
    "- `n_neighbors_`: the actual number of neighbors used for k-neighbors queries.\n",
    "- `offset_`: the offset used to obtain binary labels from the raw scores. Observations having a `negative_outlier_factor` smaller than `offset_` are detected as **abnormal**. \n",
    "\n",
    "See more information here: [LocalOutlierFactor Documentation](https://scikit-learn.org/stable/auto_examples/neighbors/plot_lof_outlier_detection.html#:~:text=The%20Local%20Outlier%20Factor%20)"
   ]
  },
  {
   "cell_type": "markdown",
   "metadata": {
    "application/vnd.databricks.v1+cell": {
     "cellMetadata": {},
     "inputWidgets": {},
     "nuid": "cc21dc89-c364-4d65-809e-cf13971f0530",
     "showTitle": false,
     "title": ""
    }
   },
   "source": [
    "### Local outlier factor exercises\n",
    "Firstly, we will important all necessary packages."
   ]
  },
  {
   "cell_type": "code",
   "execution_count": 0,
   "metadata": {
    "application/vnd.databricks.v1+cell": {
     "cellMetadata": {},
     "inputWidgets": {},
     "nuid": "0141b0f0-9c81-41c2-acb5-f07caa78d9f0",
     "showTitle": false,
     "title": ""
    }
   },
   "outputs": [],
   "source": [
    "from sklearn.neighbors import LocalOutlierFactor\n",
    "from sklearn.datasets import make_blobs"
   ]
  },
  {
   "cell_type": "markdown",
   "metadata": {
    "application/vnd.databricks.v1+cell": {
     "cellMetadata": {},
     "inputWidgets": {},
     "nuid": "a7d13bff-b881-4908-ad9c-9fe2ad7d4083",
     "showTitle": false,
     "title": ""
    }
   },
   "source": [
    "We have created a random sample dataset below again by using the\n",
    "[`make_blobs()`](https://scikit-learn.org/stable/modules/generated/sklearn.datasets.make_blobs.html#sklearn.datasets.make_blobs)\n",
    "function."
   ]
  },
  {
   "cell_type": "code",
   "execution_count": 0,
   "metadata": {
    "application/vnd.databricks.v1+cell": {
     "cellMetadata": {},
     "inputWidgets": {},
     "nuid": "89e0dffe-814c-47a0-8282-76daa61ee23a",
     "showTitle": false,
     "title": ""
    }
   },
   "outputs": [],
   "source": [
    "np.random.seed(1)\n",
    "x, _ = make_blobs(n_samples=200, centers=1, cluster_std=.3, center_box=(10,10))"
   ]
  },
  {
   "cell_type": "markdown",
   "metadata": {
    "application/vnd.databricks.v1+cell": {
     "cellMetadata": {},
     "inputWidgets": {},
     "nuid": "cbe77b9d-9768-4569-8ee2-14248f59ad07",
     "showTitle": false,
     "title": ""
    }
   },
   "source": [
    "**TO DO:** Visualize the dataset in a plot."
   ]
  },
  {
   "cell_type": "code",
   "execution_count": 0,
   "metadata": {
    "application/vnd.databricks.v1+cell": {
     "cellMetadata": {},
     "inputWidgets": {},
     "nuid": "07484333-8659-480c-a3ee-da87fedebe03",
     "showTitle": false,
     "title": ""
    }
   },
   "outputs": [],
   "source": [
    "plt.scatter(x[:,0], x[:,1])\n",
    "plt.show()"
   ]
  },
  {
   "cell_type": "markdown",
   "metadata": {
    "application/vnd.databricks.v1+cell": {
     "cellMetadata": {},
     "inputWidgets": {},
     "nuid": "5b25d178-770c-4a4f-99d6-d7b6ab947e9a",
     "showTitle": false,
     "title": ""
    }
   },
   "source": [
    "**TO DO:** Construct a\n",
    "[`LocalOutlierFactor`](https://scikit-learn.org/stable/modules/generated/sklearn.neighbors.LocalOutlierFactor.html)\n",
    "model with `n_neighbors` set to 20 and `contamination` set to 0.03."
   ]
  },
  {
   "cell_type": "code",
   "execution_count": 0,
   "metadata": {
    "application/vnd.databricks.v1+cell": {
     "cellMetadata": {},
     "inputWidgets": {},
     "nuid": "444d790a-fb4c-4447-a454-91197ad0e29c",
     "showTitle": false,
     "title": ""
    }
   },
   "outputs": [],
   "source": [
    "# Task"
   ]
  },
  {
   "cell_type": "markdown",
   "metadata": {
    "application/vnd.databricks.v1+cell": {
     "cellMetadata": {},
     "inputWidgets": {},
     "nuid": "9302b0a1-c6d3-4c53-b103-34b542822058",
     "showTitle": false,
     "title": ""
    }
   },
   "source": [
    "**TO DO:** Fit the dataset which we generated in the beginning to the model and make prediction using the\n",
    "[`fit_predict()`](https://scikit-learn.org/stable/modules/generated/sklearn.neighbors.LocalOutlierFactor.html#sklearn.neighbors.LocalOutlierFactor.fit_predict)\n",
    "method."
   ]
  },
  {
   "cell_type": "code",
   "execution_count": 0,
   "metadata": {
    "application/vnd.databricks.v1+cell": {
     "cellMetadata": {},
     "inputWidgets": {},
     "nuid": "ef8ead70-cc78-4c97-8933-0fb006d64a93",
     "showTitle": false,
     "title": ""
    }
   },
   "outputs": [],
   "source": [
    "# Task"
   ]
  },
  {
   "cell_type": "markdown",
   "metadata": {
    "application/vnd.databricks.v1+cell": {
     "cellMetadata": {},
     "inputWidgets": {},
     "nuid": "d680b6c2-e6a6-4766-8a9e-a6b328451944",
     "showTitle": false,
     "title": ""
    }
   },
   "source": [
    "**TO DO:** Output the `negative_outlier_factor_` from the model."
   ]
  },
  {
   "cell_type": "code",
   "execution_count": 0,
   "metadata": {
    "application/vnd.databricks.v1+cell": {
     "cellMetadata": {},
     "inputWidgets": {},
     "nuid": "c0c6f0b9-df5a-4c6c-a44b-dd1c49421e3c",
     "showTitle": false,
     "title": ""
    }
   },
   "outputs": [],
   "source": [
    "# Task"
   ]
  },
  {
   "cell_type": "markdown",
   "metadata": {
    "application/vnd.databricks.v1+cell": {
     "cellMetadata": {},
     "inputWidgets": {},
     "nuid": "c20ca9bf-aec3-4aad-b8b1-73ea29a1f701",
     "showTitle": false,
     "title": ""
    }
   },
   "source": [
    "**TO DO**: Assign the attribute `offset_` from the model to a variable called `threshold`."
   ]
  },
  {
   "cell_type": "code",
   "execution_count": 0,
   "metadata": {
    "application/vnd.databricks.v1+cell": {
     "cellMetadata": {},
     "inputWidgets": {},
     "nuid": "91320712-fe0b-4822-8955-283de66c9c8a",
     "showTitle": false,
     "title": ""
    }
   },
   "outputs": [],
   "source": [
    "threshold = np.quantile(lof, .03)\n",
    "print(threshold)"
   ]
  },
  {
   "cell_type": "markdown",
   "metadata": {
    "application/vnd.databricks.v1+cell": {
     "cellMetadata": {},
     "inputWidgets": {},
     "nuid": "c6e08a3b-450a-4497-9268-a147aa49a170",
     "showTitle": false,
     "title": ""
    }
   },
   "source": [
    "There are two ways that we can learn about outliers.\n",
    "1. Using the\n",
    "[`fit_predict()`](https://scikit-learn.org/stable/modules/generated/sklearn.neighbors.LocalOutlierFactor.html#sklearn.neighbors.LocalOutlierFactor.fit_predict)\n",
    "method and extracting negative outputs as the outliers.\n",
    "2. Obtaining the threshold value and extract the anomalies by comparing the values of the elements with the threshold value."
   ]
  },
  {
   "cell_type": "markdown",
   "metadata": {
    "application/vnd.databricks.v1+cell": {
     "cellMetadata": {},
     "inputWidgets": {},
     "nuid": "517580a5-373b-4cfc-ad4e-cc343695afb6",
     "showTitle": false,
     "title": ""
    }
   },
   "source": [
    "#### Mehod 1\n",
    "**TO DO:** Extract the negative outputs as the outliers and save them in the variable `values_1`."
   ]
  },
  {
   "cell_type": "code",
   "execution_count": 0,
   "metadata": {
    "application/vnd.databricks.v1+cell": {
     "cellMetadata": {},
     "inputWidgets": {},
     "nuid": "6913a589-fff8-46fe-a3f9-3d52916ab210",
     "showTitle": false,
     "title": ""
    }
   },
   "outputs": [],
   "source": [
    "# Task"
   ]
  },
  {
   "cell_type": "code",
   "execution_count": 0,
   "metadata": {
    "application/vnd.databricks.v1+cell": {
     "cellMetadata": {},
     "inputWidgets": {},
     "nuid": "e8618552-7277-4194-b0ba-e5a6fbb44df7",
     "showTitle": false,
     "title": ""
    }
   },
   "outputs": [],
   "source": [
    "plt.scatter(x[:,0], x[:,1])\n",
    "plt.scatter(values_1[:,0],values_1[:,1], color='r')\n",
    "plt.title (\"Method 1\")\n",
    "plt.show()"
   ]
  },
  {
   "cell_type": "markdown",
   "metadata": {
    "application/vnd.databricks.v1+cell": {
     "cellMetadata": {},
     "inputWidgets": {},
     "nuid": "2cc96962-6c6d-4652-99b5-eb7421260cbb",
     "showTitle": false,
     "title": ""
    }
   },
   "source": [
    "#### Method 2\n",
    "**TO DO:** Extract the anomalies by comparing with the threshold value and save them in the variable `values_2`.    \n",
    "When the threshold value is bigger or equal to the local outlier factor score, this is regarded as an outlier. "
   ]
  },
  {
   "cell_type": "code",
   "execution_count": 0,
   "metadata": {
    "application/vnd.databricks.v1+cell": {
     "cellMetadata": {},
     "inputWidgets": {},
     "nuid": "ba9fd0ab-15e3-4d42-bd35-9054ab8a2ef8",
     "showTitle": false,
     "title": ""
    }
   },
   "outputs": [],
   "source": [
    "# Task"
   ]
  },
  {
   "cell_type": "markdown",
   "metadata": {
    "application/vnd.databricks.v1+cell": {
     "cellMetadata": {},
     "inputWidgets": {},
     "nuid": "e5eee346-0bb6-435b-9d5e-ec8c9861595e",
     "showTitle": false,
     "title": ""
    }
   },
   "source": [
    "If everything has been done correctly before, we can visualize the outliers in the plot below."
   ]
  },
  {
   "cell_type": "code",
   "execution_count": 0,
   "metadata": {
    "application/vnd.databricks.v1+cell": {
     "cellMetadata": {},
     "inputWidgets": {},
     "nuid": "2ce0bfdc-4256-4c81-b9fd-2ff26c157e03",
     "showTitle": false,
     "title": ""
    }
   },
   "outputs": [],
   "source": [
    "plt.scatter(x[:,0], x[:,1])\n",
    "plt.scatter(values_2[:,0],values_2[:,1], color='r')\n",
    "plt.title (\"Method 2\")\n",
    "plt.show()"
   ]
  },
  {
   "cell_type": "markdown",
   "metadata": {
    "application/vnd.databricks.v1+cell": {
     "cellMetadata": {},
     "inputWidgets": {},
     "nuid": "4544e8b0-a0ff-4ca8-93ed-ae787bbef2b4",
     "showTitle": false,
     "title": ""
    }
   },
   "source": [
    "Some material adapted for RBI internal purposes with full permissions from original authors."
   ]
  }
 ],
 "metadata": {
  "application/vnd.databricks.v1+notebook": {
   "dashboards": [],
   "environmentMetadata": null,
   "language": "python",
   "notebookMetadata": {
    "pythonIndentUnit": 4
   },
   "notebookName": "3_outlier_detection_jupyter",
   "widgets": {}
  }
 },
 "nbformat": 4,
 "nbformat_minor": 0
}
