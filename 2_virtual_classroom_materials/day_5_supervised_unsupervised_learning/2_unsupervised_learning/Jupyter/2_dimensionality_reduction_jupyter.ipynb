{
 "cells": [
  {
   "cell_type": "code",
   "execution_count": 0,
   "metadata": {
    "application/vnd.databricks.v1+cell": {
     "cellMetadata": {
      "byteLimit": 2048000,
      "rowLimit": 10000
     },
     "inputWidgets": {},
     "nuid": "cd3cf0f6-be82-464c-8a5a-065504b55a97",
     "showTitle": false,
     "title": ""
    }
   },
   "outputs": [],
   "source": [
    "!pip install \"threadpoolctl>=3.1.0\""
   ]
  },
  {
   "cell_type": "code",
   "execution_count": 0,
   "metadata": {
    "application/vnd.databricks.v1+cell": {
     "cellMetadata": {
      "byteLimit": 2048000,
      "rowLimit": 10000
     },
     "inputWidgets": {},
     "nuid": "6de0e157-78c9-4ad0-8e72-069840d5b29b",
     "showTitle": false,
     "title": ""
    }
   },
   "outputs": [],
   "source": [
    "dbutils.library.restartPython()"
   ]
  },
  {
   "cell_type": "markdown",
   "metadata": {
    "application/vnd.databricks.v1+cell": {
     "cellMetadata": {
      "byteLimit": 2048000,
      "rowLimit": 10000
     },
     "inputWidgets": {},
     "nuid": "d3730c6c-fc4c-4f5a-81b8-c14f39faa2ba",
     "showTitle": false,
     "title": ""
    }
   },
   "source": [
    "# Dimensionality reduction"
   ]
  },
  {
   "cell_type": "code",
   "execution_count": 0,
   "metadata": {
    "application/vnd.databricks.v1+cell": {
     "cellMetadata": {
      "byteLimit": 2048000,
      "rowLimit": 10000
     },
     "inputWidgets": {},
     "nuid": "179b84ac-baca-4f4c-8ec8-cea24c327699",
     "showTitle": false,
     "title": ""
    }
   },
   "outputs": [],
   "source": [
    "import matplotlib.pyplot as plt\n",
    "import numpy as np\n",
    "import pandas as pd\n",
    "from sklearn.preprocessing import StandardScaler\n",
    "import random\n",
    "from sklearn import datasets"
   ]
  },
  {
   "cell_type": "markdown",
   "metadata": {
    "application/vnd.databricks.v1+cell": {
     "cellMetadata": {
      "byteLimit": 2048000,
      "rowLimit": 10000
     },
     "inputWidgets": {},
     "nuid": "804e6950-61f2-428c-95ac-e5163ca8b928",
     "showTitle": false,
     "title": ""
    }
   },
   "source": [
    "## PCA\n",
    "\n",
    "[Principal component analysis](https://en.wikipedia.org/wiki/Principal_component_analysis)\n",
    "is an unsupervised learning method that tries to detect the directions in which the vector formed by the data varies most.\n",
    "\n",
    "First we import the [data of grayscale digits](https://scikit-learn.org/stable/modules/generated/sklearn.datasets.load_digits.html)."
   ]
  },
  {
   "cell_type": "code",
   "execution_count": 0,
   "metadata": {
    "application/vnd.databricks.v1+cell": {
     "cellMetadata": {
      "byteLimit": 2048000,
      "rowLimit": 10000
     },
     "inputWidgets": {},
     "nuid": "306c66d8-def9-40b0-9966-b37fa0c1c455",
     "showTitle": false,
     "title": ""
    }
   },
   "outputs": [],
   "source": [
    "digits = datasets.load_digits()\n",
    "x_digits, y_digits = digits.data, digits.target"
   ]
  },
  {
   "cell_type": "markdown",
   "metadata": {
    "application/vnd.databricks.v1+cell": {
     "cellMetadata": {
      "byteLimit": 2048000,
      "rowLimit": 10000
     },
     "inputWidgets": {},
     "nuid": "f9fbd7e5-58c2-499b-8f8f-df6141668716",
     "showTitle": false,
     "title": ""
    }
   },
   "source": [
    "Let's start by visualizing our data. Fetch the first 10 numbers."
   ]
  },
  {
   "cell_type": "code",
   "execution_count": 0,
   "metadata": {
    "application/vnd.databricks.v1+cell": {
     "cellMetadata": {
      "byteLimit": 2048000,
      "rowLimit": 10000
     },
     "inputWidgets": {},
     "nuid": "afaceb50-6617-44b0-b59c-87b04c355624",
     "showTitle": false,
     "title": ""
    }
   },
   "outputs": [],
   "source": [
    "_, axes = plt.subplots(nrows=1, ncols=10, figsize=(16, 5))\n",
    "for ax, image, label in zip(axes, digits.images, digits.target):\n",
    "    ax.set_axis_off()\n",
    "    ax.imshow(image, cmap=plt.cm.gray_r, interpolation=\"nearest\")\n",
    "    ax.set_title(\"Training: %i\" % label)"
   ]
  },
  {
   "cell_type": "markdown",
   "metadata": {
    "application/vnd.databricks.v1+cell": {
     "cellMetadata": {
      "byteLimit": 2048000,
      "rowLimit": 10000
     },
     "inputWidgets": {},
     "nuid": "093aec34-94ac-4608-95e2-cb4dae2655f2",
     "showTitle": false,
     "title": ""
    }
   },
   "source": [
    "__TO DO__: Return the shape of `x_digits`."
   ]
  },
  {
   "cell_type": "code",
   "execution_count": 0,
   "metadata": {
    "application/vnd.databricks.v1+cell": {
     "cellMetadata": {
      "byteLimit": 2048000,
      "rowLimit": 10000
     },
     "inputWidgets": {},
     "nuid": "f665a4e1-e1e3-4249-b2ec-5147cb389580",
     "showTitle": false,
     "title": ""
    }
   },
   "outputs": [],
   "source": [
    "# Task"
   ]
  },
  {
   "cell_type": "markdown",
   "metadata": {
    "application/vnd.databricks.v1+cell": {
     "cellMetadata": {
      "byteLimit": 2048000,
      "rowLimit": 10000
     },
     "inputWidgets": {},
     "nuid": "a8581942-5904-424c-bbb9-15cc11f778d9",
     "showTitle": false,
     "title": ""
    }
   },
   "source": [
    "There are 1797 numbers represented by 8 x 8 matrices, each entry encoding the color intensity of a pixel. These matrices are flattened to a vector of 64 values."
   ]
  },
  {
   "cell_type": "markdown",
   "metadata": {
    "application/vnd.databricks.v1+cell": {
     "cellMetadata": {
      "byteLimit": 2048000,
      "rowLimit": 10000
     },
     "inputWidgets": {},
     "nuid": "f0d1fd77-b8ba-4080-93a6-5d71ef3cdb8d",
     "showTitle": false,
     "title": ""
    }
   },
   "source": [
    "Our data has 64 dimensions, but we are going to reduce it to only 2. We will see that, even with just 2 dimensions, the digits are already separating into clusters.\n",
    "\n",
    "__TO DO__: \n",
    "- Import\n",
    "[`PCA`](https://scikit-learn.org/stable/modules/generated/sklearn.decomposition.PCA.html)\n",
    "from the `scikit-learns.decomposition` module.\n",
    "- [`fit_transform`](https://scikit-learn.org/stable/modules/generated/sklearn.decomposition.PCA.html#sklearn.decomposition.PCA.fit_transform)\n",
    "a\n",
    "[`PCA()`](https://scikit-learn.org/stable/modules/generated/sklearn.decomposition.PCA.html)-model \n",
    "with `n_components = 2` on `x_digits` and assign the result to the variable `x_reduced`."
   ]
  },
  {
   "cell_type": "code",
   "execution_count": 0,
   "metadata": {
    "application/vnd.databricks.v1+cell": {
     "cellMetadata": {
      "byteLimit": 2048000,
      "rowLimit": 10000
     },
     "inputWidgets": {},
     "nuid": "4895d65a-c54a-46a1-b1b7-37c9b2bb27d6",
     "showTitle": false,
     "title": ""
    }
   },
   "outputs": [],
   "source": [
    "# Task"
   ]
  },
  {
   "cell_type": "markdown",
   "metadata": {
    "application/vnd.databricks.v1+cell": {
     "cellMetadata": {
      "byteLimit": 2048000,
      "rowLimit": 10000
     },
     "inputWidgets": {},
     "nuid": "2ababd7c-1999-42ca-900b-f42234e3f41d",
     "showTitle": false,
     "title": ""
    }
   },
   "source": [
    "If we plot the reduced 2D feature space we see that similar numbers are close to each other."
   ]
  },
  {
   "cell_type": "code",
   "execution_count": 0,
   "metadata": {
    "application/vnd.databricks.v1+cell": {
     "cellMetadata": {
      "byteLimit": 2048000,
      "rowLimit": 10000
     },
     "inputWidgets": {},
     "nuid": "87c3b77a-9574-4228-8027-d5dc87a9ac3b",
     "showTitle": false,
     "title": ""
    }
   },
   "outputs": [],
   "source": [
    "plt.figure(figsize=(12, 8))\n",
    "plt.scatter(\n",
    "    x_reduced[:, 0],\n",
    "    x_reduced[:, 1],\n",
    "    c=y_digits,\n",
    "    edgecolor=\"none\",\n",
    "    alpha=0.7,\n",
    "    s=40,\n",
    "    cmap=plt.colormaps[\"nipy_spectral\"],\n",
    ")\n",
    "plt.colorbar()\n",
    "plt.title(\"MNIST. PCA projection\");"
   ]
  },
  {
   "cell_type": "markdown",
   "metadata": {
    "application/vnd.databricks.v1+cell": {
     "cellMetadata": {
      "byteLimit": 2048000,
      "rowLimit": 10000
     },
     "inputWidgets": {},
     "nuid": "b4815793-d040-4396-94ee-b5e24ce30cff",
     "showTitle": false,
     "title": ""
    }
   },
   "source": [
    "In practice, we would choose the number of principal components such that we can explain e.g. 90% of the initial data dispersion (via the `explained_variance_ratio_`). \n",
    "\n",
    "__TO DO__: \n",
    "- Return the explained variance ratio with\n",
    "[`PCA()`](https://scikit-learn.org/stable/modules/generated/sklearn.decomposition.PCA.html)'s\n",
    "attribute `explained_variance_ratio_`.  \n",
    "Each value returns the percentage of variance explained by each of the selected components. \n",
    "- How much variance did we explain with the first two components?\n",
    "\n",
    "https://scikit-learn.org/stable/modules/generated/sklearn.decomposition.PCA.html"
   ]
  },
  {
   "cell_type": "code",
   "execution_count": 0,
   "metadata": {
    "application/vnd.databricks.v1+cell": {
     "cellMetadata": {
      "byteLimit": 2048000,
      "rowLimit": 10000
     },
     "inputWidgets": {},
     "nuid": "e2e2d63a-84c7-4de4-99fc-b6150a0638a8",
     "showTitle": false,
     "title": ""
    }
   },
   "outputs": [],
   "source": [
    "# Task"
   ]
  },
  {
   "cell_type": "markdown",
   "metadata": {
    "application/vnd.databricks.v1+cell": {
     "cellMetadata": {
      "byteLimit": 2048000,
      "rowLimit": 10000
     },
     "inputWidgets": {},
     "nuid": "8f9df2f0-b058-4d49-983d-aa862899d2e2",
     "showTitle": false,
     "title": ""
    }
   },
   "source": [
    "The length of the returned array is equal to `n_components`. If the `n_components` parameter is not set, then all components are stored and the sum of the ratios will be equal to 1.0."
   ]
  },
  {
   "cell_type": "markdown",
   "metadata": {
    "application/vnd.databricks.v1+cell": {
     "cellMetadata": {
      "byteLimit": 2048000,
      "rowLimit": 10000
     },
     "inputWidgets": {},
     "nuid": "a2815641-551d-490e-9157-98f327c2254d",
     "showTitle": false,
     "title": ""
    }
   },
   "source": [
    "In order to get explain 90% of the variance we would have to retain 20 principal components. Run the code below to see."
   ]
  },
  {
   "cell_type": "code",
   "execution_count": 0,
   "metadata": {
    "application/vnd.databricks.v1+cell": {
     "cellMetadata": {
      "byteLimit": 2048000,
      "rowLimit": 10000
     },
     "inputWidgets": {},
     "nuid": "82b8d2c2-a2a3-47c4-894e-cc717934afe7",
     "showTitle": false,
     "title": ""
    }
   },
   "outputs": [],
   "source": [
    "pca = PCA().fit(x_digits)\n",
    "\n",
    "plt.figure(figsize=(10, 7))\n",
    "plt.plot(np.cumsum(pca.explained_variance_ratio_), color=\"k\", lw=2)\n",
    "plt.xlabel(\"Number of components\")\n",
    "plt.ylabel(\"Total explained variance\")\n",
    "plt.xlim(0, x_digits.shape[1])\n",
    "plt.yticks(np.arange(0, 1.1, 0.1))\n",
    "min_variance = 0.9\n",
    "min_components = np.min(\n",
    "    np.where(np.cumsum(pca.explained_variance_ratio_) > min_variance)\n",
    ")\n",
    "print(min_components)\n",
    "plt.axvline(min_components, c=\"b\")\n",
    "plt.axhline(min_variance, c=\"r\")\n",
    "plt.show()"
   ]
  },
  {
   "cell_type": "markdown",
   "metadata": {
    "application/vnd.databricks.v1+cell": {
     "cellMetadata": {
      "byteLimit": 2048000,
      "rowLimit": 10000
     },
     "inputWidgets": {},
     "nuid": "0987d83d-ceb7-40a2-98a3-2fcbad8077dd",
     "showTitle": false,
     "title": ""
    }
   },
   "source": [
    "__Scaling__\n",
    "\n",
    "In the [MNIST](https://scikit-learn.org/stable/modules/generated/sklearn.datasets.load_digits.html) dataset all features have the same scale out of the box. Thus the [`PCA`](https://scikit-learn.org/stable/modules/generated/sklearn.decomposition.PCA.html) algorithm is not impacted by different scales. \n",
    "\n",
    "While many algorithms (such as SVM, K-nearest neighbors, and logistic regression) require features to be normalized, Principle Component Analysis (PCA) especially is a prime example of when normalization is important. In PCA we are interested in the components that maximize the variance. If one component (e.g. human height) varies less than another (e.g. weight) because of their respective scales (meters vs. kilos), PCA might determine that the direction of maximal variance more closely corresponds to the 'weight' axis if those features are not scaled. As a change in height of one meter can be considered to be much more important than a change in weight of one kilogram, this is clearly incorrect.\n",
    "\n",
    "\n",
    "Import the wine data set. "
   ]
  },
  {
   "cell_type": "code",
   "execution_count": 0,
   "metadata": {
    "application/vnd.databricks.v1+cell": {
     "cellMetadata": {
      "byteLimit": 2048000,
      "rowLimit": 10000
     },
     "inputWidgets": {},
     "nuid": "65f92489-52dd-4b77-95d7-4919197e718b",
     "showTitle": false,
     "title": ""
    }
   },
   "outputs": [],
   "source": [
    "from sklearn.datasets import load_wine\n",
    "\n",
    "wine = load_wine()\n",
    "x_wine = wine.data\n",
    "y_wine = wine.target\n",
    "cols_wine = wine.feature_names\n",
    "df_wine = pd.DataFrame(x_wine, columns=cols_wine)"
   ]
  },
  {
   "cell_type": "markdown",
   "metadata": {
    "application/vnd.databricks.v1+cell": {
     "cellMetadata": {
      "byteLimit": 2048000,
      "rowLimit": 10000
     },
     "inputWidgets": {},
     "nuid": "e8064a2c-e347-495e-9ef5-6c2caa8eea13",
     "showTitle": false,
     "title": ""
    }
   },
   "source": [
    "__TO DO__: Use the [`describe()`](https://pandas.pydata.org/pandas-docs/stable/reference/api/pandas.DataFrame.describe.html) method on `df_wine` to see standard deviations, quartiles and other descriptive statistics of the columns."
   ]
  },
  {
   "cell_type": "code",
   "execution_count": 0,
   "metadata": {
    "application/vnd.databricks.v1+cell": {
     "cellMetadata": {
      "byteLimit": 2048000,
      "rowLimit": 10000
     },
     "inputWidgets": {},
     "nuid": "04de1d9f-40cd-480b-a457-a72b91d51314",
     "showTitle": false,
     "title": ""
    }
   },
   "outputs": [],
   "source": [
    "# Task"
   ]
  },
  {
   "cell_type": "markdown",
   "metadata": {
    "application/vnd.databricks.v1+cell": {
     "cellMetadata": {
      "byteLimit": 2048000,
      "rowLimit": 10000
     },
     "inputWidgets": {},
     "nuid": "71b75966-029d-446e-87c5-5c0c2d87e5e7",
     "showTitle": false,
     "title": ""
    }
   },
   "source": [
    "Note that the scales of the features are different. E.g. `proline` is in the magnitude of hundreds, magnesium in tens and others are even smaller."
   ]
  },
  {
   "cell_type": "markdown",
   "metadata": {
    "application/vnd.databricks.v1+cell": {
     "cellMetadata": {
      "byteLimit": 2048000,
      "rowLimit": 10000
     },
     "inputWidgets": {},
     "nuid": "e2138020-ea1b-45e4-aa11-1e29d0fa9d1e",
     "showTitle": false,
     "title": ""
    }
   },
   "source": [
    "__TO DO__: \n",
    "- [`fit_tranform`](https://scikit-learn.org/stable/modules/generated/sklearn.decomposition.PCA.html#sklearn.decomposition.PCA.fit_transform) the PCA with 2 components on `x_wine`.\n",
    "- Return the reduced data set with 2 features and assign it to the variable `x_reduced`.\n",
    "- Print the components of the PCA using the `components_` attribute."
   ]
  },
  {
   "cell_type": "code",
   "execution_count": 0,
   "metadata": {
    "application/vnd.databricks.v1+cell": {
     "cellMetadata": {
      "byteLimit": 2048000,
      "rowLimit": 10000
     },
     "inputWidgets": {},
     "nuid": "69706253-01e3-4935-b469-c9119815c208",
     "showTitle": false,
     "title": ""
    }
   },
   "outputs": [],
   "source": [
    "# Task"
   ]
  },
  {
   "cell_type": "markdown",
   "metadata": {
    "application/vnd.databricks.v1+cell": {
     "cellMetadata": {
      "byteLimit": 2048000,
      "rowLimit": 10000
     },
     "inputWidgets": {},
     "nuid": "e1663bec-6af4-461b-ace6-20f9b7cac301",
     "showTitle": false,
     "title": ""
    }
   },
   "source": [
    "__TO DO__: \n",
    "- Use\n",
    "[`StandardScaler()`](https://scikit-learn.org/stable/modules/generated/sklearn.preprocessing.StandardScaler.html)\n",
    "to scale\n",
    "([`fit_transform`](https://scikit-learn.org/stable/modules/generated/sklearn.preprocessing.StandardScaler.html#sklearn.preprocessing.StandardScaler.fit_transform))\n",
    "the `x_wine` and store it in the `x_wine_scaled` variable.\n",
    "- [`fit_transform`](https://scikit-learn.org/stable/modules/generated/sklearn.decomposition.PCA.html#sklearn.decomposition.PCA.fit_transform) the PCA with 2 components on the scaled data.\n",
    "- Return the reduced data set with 2 features and assign it to the variable `x_reduced_scaled`.\n",
    "- Print the components of the PCA using the `components_` attribute."
   ]
  },
  {
   "cell_type": "code",
   "execution_count": 0,
   "metadata": {
    "application/vnd.databricks.v1+cell": {
     "cellMetadata": {
      "byteLimit": 2048000,
      "rowLimit": 10000
     },
     "inputWidgets": {},
     "nuid": "a57ad7c1-b457-4d9c-a0cd-cbabb68e319c",
     "showTitle": false,
     "title": ""
    }
   },
   "outputs": [],
   "source": [
    "# Task"
   ]
  },
  {
   "cell_type": "markdown",
   "metadata": {
    "application/vnd.databricks.v1+cell": {
     "cellMetadata": {
      "byteLimit": 2048000,
      "rowLimit": 10000
     },
     "inputWidgets": {},
     "nuid": "b30c98f0-6fe8-41f4-a4c5-6825f2a656b9",
     "showTitle": false,
     "title": ""
    }
   },
   "source": [
    "Observe how above the last value of the components in the unscaled case was 2 magnitudes larger than the other values of the components. In the scaled case the components have similar weights. You can see the results of the two PCAs in the chart below."
   ]
  },
  {
   "cell_type": "code",
   "execution_count": 0,
   "metadata": {
    "application/vnd.databricks.v1+cell": {
     "cellMetadata": {
      "byteLimit": 2048000,
      "rowLimit": 10000
     },
     "inputWidgets": {},
     "nuid": "3d7b08d8-9223-4665-97da-4494b600640c",
     "showTitle": false,
     "title": ""
    }
   },
   "outputs": [],
   "source": [
    "fig, (ax1, ax2) = plt.subplots(ncols=2, figsize=(15, 6))\n",
    "\n",
    "ax1.scatter(\n",
    "    x_reduced[:, 0], x_reduced[:, 1], c=y_wine, edgecolor=\"none\", alpha=0.7, s=40\n",
    ")\n",
    "ax1.set_title(\"wine PCA projection (unscaled)\")\n",
    "\n",
    "ax2.scatter(\n",
    "    x_reduced_scaled[:, 0],\n",
    "    x_reduced_scaled[:, 1],\n",
    "    c=y_wine,\n",
    "    edgecolor=\"none\",\n",
    "    alpha=0.7,\n",
    "    s=40,\n",
    ")\n",
    "ax2.set_title(\"wine PCA projection (scaled)\");"
   ]
  },
  {
   "cell_type": "markdown",
   "metadata": {
    "application/vnd.databricks.v1+cell": {
     "cellMetadata": {
      "byteLimit": 2048000,
      "rowLimit": 10000
     },
     "inputWidgets": {},
     "nuid": "58f021fc-720b-463f-9508-1fa2a63beeba",
     "showTitle": false,
     "title": ""
    }
   },
   "source": [
    "To summerize:   \n",
    "Scaling helped us to visualize similar results close to each other. As a consequence scaling improves the performance of classifiers after dimensionality reduction."
   ]
  },
  {
   "cell_type": "code",
   "execution_count": 0,
   "metadata": {
    "application/vnd.databricks.v1+cell": {
     "cellMetadata": {
      "byteLimit": 2048000,
      "rowLimit": 10000
     },
     "inputWidgets": {},
     "nuid": "90785840-4b37-4e33-933d-a314bdc67395",
     "showTitle": false,
     "title": ""
    }
   },
   "outputs": [],
   "source": [
    "from sklearn.ensemble import RandomForestClassifier\n",
    "from sklearn.pipeline import make_pipeline\n",
    "from sklearn.model_selection import train_test_split\n",
    "from sklearn.metrics import accuracy_score"
   ]
  },
  {
   "cell_type": "markdown",
   "metadata": {
    "application/vnd.databricks.v1+cell": {
     "cellMetadata": {
      "byteLimit": 2048000,
      "rowLimit": 10000
     },
     "inputWidgets": {},
     "nuid": "b4b6bccc-d556-4ade-8161-e710a6bac5e9",
     "showTitle": false,
     "title": ""
    }
   },
   "source": [
    "# Optional part\n",
    "__TO DO__: Use the\n",
    "[`train_test_split()`](https://scikit-learn.org/stable/modules/generated/sklearn.model_selection.train_test_split.html)\n",
    "function to split the `x_wine`, `y_wine` data into `x_train`, `x_test`, `y_train`, `y_test`."
   ]
  },
  {
   "cell_type": "code",
   "execution_count": 0,
   "metadata": {
    "application/vnd.databricks.v1+cell": {
     "cellMetadata": {
      "byteLimit": 2048000,
      "rowLimit": 10000
     },
     "inputWidgets": {},
     "nuid": "83a5bf4c-940f-4df6-8098-5a6d8fb9d6cb",
     "showTitle": false,
     "title": ""
    }
   },
   "outputs": [],
   "source": [
    "# Task"
   ]
  },
  {
   "cell_type": "markdown",
   "metadata": {
    "application/vnd.databricks.v1+cell": {
     "cellMetadata": {
      "byteLimit": 2048000,
      "rowLimit": 10000
     },
     "inputWidgets": {},
     "nuid": "07633920-075f-4f23-8d95-cfa7688ee06f",
     "showTitle": false,
     "title": ""
    }
   },
   "source": [
    "Here we will make use of\n",
    "[`make_pipeline`](https://scikit-learn.org/stable/modules/generated/sklearn.pipeline.make_pipeline.html)\n",
    "which constructs a pipeline from the given estimators.\n",
    "First we will apply a PCA with 2 components to reduce the dimensionality of the training data `x_train` and then apply\n",
    "[`RandomForestClassifier()`](https://scikit-learn.org/stable/modules/generated/sklearn.ensemble.RandomForestClassifier.html)\n",
    "with default parameters.\n",
    "We initialize a PCA and a RF in the pipeline and fit it to the training data."
   ]
  },
  {
   "cell_type": "code",
   "execution_count": 0,
   "metadata": {
    "application/vnd.databricks.v1+cell": {
     "cellMetadata": {
      "byteLimit": 2048000,
      "rowLimit": 10000
     },
     "inputWidgets": {},
     "nuid": "a1114773-b061-4005-8430-60c6d8d7b1c3",
     "showTitle": false,
     "title": ""
    }
   },
   "outputs": [],
   "source": [
    "clf_unscaled = make_pipeline(PCA(2), RandomForestClassifier())\n",
    "clf_unscaled.fit(x_train, y_train)"
   ]
  },
  {
   "cell_type": "markdown",
   "metadata": {
    "application/vnd.databricks.v1+cell": {
     "cellMetadata": {
      "byteLimit": 2048000,
      "rowLimit": 10000
     },
     "inputWidgets": {},
     "nuid": "5d5b1f7d-f46b-469b-b449-14b830f003a6",
     "showTitle": false,
     "title": ""
    }
   },
   "source": [
    "Now we will predict the classes with the pipeline on a test dataset x_test and evaluate by comparing the predictions to true values from y_test"
   ]
  },
  {
   "cell_type": "code",
   "execution_count": 0,
   "metadata": {
    "application/vnd.databricks.v1+cell": {
     "cellMetadata": {
      "byteLimit": 2048000,
      "rowLimit": 10000
     },
     "inputWidgets": {},
     "nuid": "a2086498-6e73-4ec0-9d46-c9948a10a222",
     "showTitle": false,
     "title": ""
    }
   },
   "outputs": [],
   "source": [
    "pred_test_unscaled = clf_unscaled.predict(x_test)\n",
    "accuracy_score(y_test, pred_test_unscaled)"
   ]
  },
  {
   "cell_type": "markdown",
   "metadata": {
    "application/vnd.databricks.v1+cell": {
     "cellMetadata": {
      "byteLimit": 2048000,
      "rowLimit": 10000
     },
     "inputWidgets": {},
     "nuid": "039ee363-ed36-4d53-962b-f472d79ae441",
     "showTitle": false,
     "title": ""
    }
   },
   "source": [
    "__TO DO__:  Repeat the same steps as in the previous two cells.\n",
    "- Create a new pipeline but now include the additional estimator\n",
    "[`StandardScaler()`](https://scikit-learn.org/stable/modules/generated/sklearn.preprocessing.StandardScaler.html)\n",
    "at the beginning of the pipeline.   \n",
    "Assign the pipeline to the variable `clf_scaled`.   \n",
    "In the example above you had 2 estimators (\n",
    "[`PCA(2)`](https://scikit-learn.org/stable/modules/generated/sklearn.decomposition.PCA.html)\n",
    "and\n",
    "[`RandomForestClassifier()`](https://scikit-learn.org/stable/modules/generated/sklearn.ensemble.RandomForestClassifier.html)\n",
    ").\n",
    "Now you will have 3 estimators. \n",
    "- Fit the pipeline to the training data `x_train` and `y_train`.\n",
    "- Use the\n",
    "[`predict()`](https://scikit-learn.org/stable/modules/generated/sklearn.pipeline.Pipeline.html#sklearn.pipeline.Pipeline.predict)\n",
    "method of `clf_scaled` on the test data `x_test` and store the predictions to a variable `pred_test_scaled`.\n",
    "- Print the accuracy of the `pred_test_scaled` as compared to `y_test`."
   ]
  },
  {
   "cell_type": "code",
   "execution_count": 0,
   "metadata": {
    "application/vnd.databricks.v1+cell": {
     "cellMetadata": {
      "byteLimit": 2048000,
      "rowLimit": 10000
     },
     "inputWidgets": {},
     "nuid": "fc0904ec-001a-437a-9ec1-4313bba5feb0",
     "showTitle": false,
     "title": ""
    }
   },
   "outputs": [],
   "source": [
    "# Task"
   ]
  },
  {
   "cell_type": "markdown",
   "metadata": {
    "application/vnd.databricks.v1+cell": {
     "cellMetadata": {
      "byteLimit": 2048000,
      "rowLimit": 10000
     },
     "inputWidgets": {},
     "nuid": "53a5b44b-8056-4398-832c-406a890bb95d",
     "showTitle": false,
     "title": ""
    }
   },
   "source": [
    "You can see that scaling improved the accuracy of the model significantly."
   ]
  },
  {
   "cell_type": "markdown",
   "metadata": {
    "application/vnd.databricks.v1+cell": {
     "cellMetadata": {
      "byteLimit": 2048000,
      "rowLimit": 10000
     },
     "inputWidgets": {},
     "nuid": "3cad5767-4748-4aff-82bf-9cf799b83152",
     "showTitle": false,
     "title": ""
    }
   },
   "source": [
    "## t-SNE\n",
    "\n",
    "[t-SNE](https://scikit-learn.org/stable/modules/manifold.html#t-sne)\n",
    "(t-distributed stochastic neighbor embedding) is another dimensionality reduction method that works well for visualizing high-dimensional data.   \n",
    "With t-SNE you can get **different results with different initializations**.   \n",
    "If the number of features is high then t-SNE can get quite slow. \n",
    "\n",
    "Here we select 2000 random samples from the MNIST digits dataset and still t-SNE takes much more time to complete than PCA."
   ]
  },
  {
   "cell_type": "code",
   "execution_count": 0,
   "metadata": {
    "application/vnd.databricks.v1+cell": {
     "cellMetadata": {
      "byteLimit": 2048000,
      "rowLimit": 10000
     },
     "inputWidgets": {},
     "nuid": "fa913f5d-89da-4c9d-a883-bbac704656b8",
     "showTitle": false,
     "title": ""
    }
   },
   "outputs": [],
   "source": [
    "from sklearn.manifold import TSNE\n",
    "from datetime import datetime as dt"
   ]
  },
  {
   "cell_type": "markdown",
   "metadata": {
    "application/vnd.databricks.v1+cell": {
     "cellMetadata": {
      "byteLimit": 2048000,
      "rowLimit": 10000
     },
     "inputWidgets": {},
     "nuid": "2e38e79e-7fca-4297-83b7-e1c7e764cc73",
     "showTitle": false,
     "title": ""
    }
   },
   "source": [
    "__TO DO__: \n",
    "Use\n",
    "[`TSNE()`](https://scikit-learn.org/stable/modules/generated/sklearn.manifold.TSNE.html)\n",
    "with `n_components = 2, init=\"random\", learning_rate=\"auto\"` and then apply `fit_transform` to the random 2000 examples from the MNIST data set which are stored in `x_digits`.\n",
    "Store the result in the variable `x_embedded`.\n",
    "\n",
    "*Hint*: Since we set the parameter for initialisation to `\"random\"` you can observe different results by rerunning the task and visualization. By default PCA would be used to get the initial state."
   ]
  },
  {
   "cell_type": "code",
   "execution_count": 0,
   "metadata": {
    "application/vnd.databricks.v1+cell": {
     "cellMetadata": {
      "byteLimit": 2048000,
      "rowLimit": 10000
     },
     "inputWidgets": {},
     "nuid": "f395373f-ead5-4636-be57-0eccc67f6571",
     "showTitle": false,
     "title": ""
    }
   },
   "outputs": [],
   "source": [
    "# Task\n",
    "\n",
    "t1 = dt.now()\n",
    "# Your code starts here"
   ]
  },
  {
   "cell_type": "code",
   "execution_count": 0,
   "metadata": {
    "application/vnd.databricks.v1+cell": {
     "cellMetadata": {
      "byteLimit": 2048000,
      "rowLimit": 10000
     },
     "inputWidgets": {},
     "nuid": "b8d227c5-9777-4cdd-98de-c714f3fccf4f",
     "showTitle": false,
     "title": ""
    }
   },
   "outputs": [],
   "source": [
    "plt.figure(figsize=(10, 7))\n",
    "plt.scatter(\n",
    "    x_embedded[:, 0],\n",
    "    x_embedded[:, 1],\n",
    "    c=y_digits,\n",
    "    edgecolor=\"none\",\n",
    "    alpha=0.7,\n",
    "    s=40,\n",
    "    cmap=plt.colormaps[\"nipy_spectral\"],\n",
    ")\n",
    "plt.colorbar()\n",
    "plt.title(\"MNIST. TSNE projection\")\n",
    "print(f\"Timerun: {dt.now()-t1}\")"
   ]
  },
  {
   "cell_type": "markdown",
   "metadata": {
    "application/vnd.databricks.v1+cell": {
     "cellMetadata": {
      "byteLimit": 2048000,
      "rowLimit": 10000
     },
     "inputWidgets": {},
     "nuid": "d5bf25f8-3990-4a38-91db-e17cd4874fda",
     "showTitle": false,
     "title": ""
    }
   },
   "source": [
    "With t-SNE, the picture looks better since PCA has a linear constraint while t-SNE does not. Details of the algorithm are for further reading. \n",
    "\n",
    "https://scikit-learn.org/stable/modules/generated/sklearn.manifold.TSNE.html"
   ]
  },
  {
   "cell_type": "markdown",
   "metadata": {
    "application/vnd.databricks.v1+cell": {
     "cellMetadata": {
      "byteLimit": 2048000,
      "rowLimit": 10000
     },
     "inputWidgets": {},
     "nuid": "0e55b5c9-9f8a-4e9e-942a-2573679c88eb",
     "showTitle": false,
     "title": ""
    }
   },
   "source": [
    "## Autoencoders"
   ]
  },
  {
   "cell_type": "code",
   "execution_count": 0,
   "metadata": {
    "application/vnd.databricks.v1+cell": {
     "cellMetadata": {
      "byteLimit": 2048000,
      "rowLimit": 10000
     },
     "inputWidgets": {},
     "nuid": "b9c9efa4-532b-49c1-bce1-a4b57bc1595a",
     "showTitle": false,
     "title": ""
    }
   },
   "outputs": [],
   "source": [
    "import os\n",
    "import matplotlib.pyplot as plt\n",
    "import numpy as np\n",
    "import pandas as pd\n",
    "import random\n",
    "import tensorflow as tf\n",
    "from pathlib import Path\n",
    "import zipfile\n",
    "\n",
    "mnist_path = Path(os.getcwd()).parents[3] / \"Data\" / \"mnist.zip\"\n",
    "print(mnist_path)"
   ]
  },
  {
   "cell_type": "code",
   "execution_count": 0,
   "metadata": {
    "application/vnd.databricks.v1+cell": {
     "cellMetadata": {
      "byteLimit": 2048000,
      "rowLimit": 10000
     },
     "inputWidgets": {},
     "nuid": "4c8afe51-b398-4fcb-833c-acd317906110",
     "showTitle": false,
     "title": ""
    }
   },
   "outputs": [],
   "source": [
    "with zipfile.ZipFile(mnist_path, \"r\") as zfile:\n",
    "    mnist = np.load(zfile.open(\"mnist.npz\"))\n",
    "    x_digits = mnist.get(\"x_train\")\n",
    "    x_test = mnist.get(\"x_test\")\n",
    "    y_digits = mnist.get(\"y_train\")\n",
    "    y_test = mnist.get(\"y_test\")"
   ]
  },
  {
   "cell_type": "markdown",
   "metadata": {
    "application/vnd.databricks.v1+cell": {
     "cellMetadata": {
      "byteLimit": 2048000,
      "rowLimit": 10000
     },
     "inputWidgets": {},
     "nuid": "4fe2cbad-ffe8-4a88-b2cb-03aaacf81eee",
     "showTitle": false,
     "title": ""
    }
   },
   "source": [
    "If you have problems with RAM memory uncomment and run the three lines of code below.\n",
    "They will select only a subset of the data."
   ]
  },
  {
   "cell_type": "code",
   "execution_count": 0,
   "metadata": {
    "application/vnd.databricks.v1+cell": {
     "cellMetadata": {
      "byteLimit": 2048000,
      "rowLimit": 10000
     },
     "inputWidgets": {},
     "nuid": "41f683ba-fb88-4950-8656-b37b48eac39a",
     "showTitle": false,
     "title": ""
    }
   },
   "outputs": [],
   "source": [
    "# idxs_ = random.sample(range(x_digits.shape[0]), 10000)\n",
    "# x_digits = x_digits[idxs_]\n",
    "# y_digits = y_digits[idxs_]"
   ]
  },
  {
   "cell_type": "markdown",
   "metadata": {
    "application/vnd.databricks.v1+cell": {
     "cellMetadata": {
      "byteLimit": 2048000,
      "rowLimit": 10000
     },
     "inputWidgets": {},
     "nuid": "3c4c99ae-e783-4feb-bedd-f256a2616edf",
     "showTitle": false,
     "title": ""
    }
   },
   "source": [
    "Let's start by visualizing our data. Fetch the first 10 numbers."
   ]
  },
  {
   "cell_type": "code",
   "execution_count": 0,
   "metadata": {
    "application/vnd.databricks.v1+cell": {
     "cellMetadata": {
      "byteLimit": 2048000,
      "rowLimit": 10000
     },
     "inputWidgets": {},
     "nuid": "c65b8fff-4901-4ccf-a4a2-a893b0c656f4",
     "showTitle": false,
     "title": ""
    }
   },
   "outputs": [],
   "source": [
    "plt.figure(figsize=(16, 6))\n",
    "for i in range(10):\n",
    "    plt.subplot(2, 5, i + 1)\n",
    "    plt.imshow(x_digits[i, :].reshape([28, 28]), cmap=\"gray\");"
   ]
  },
  {
   "cell_type": "markdown",
   "metadata": {
    "application/vnd.databricks.v1+cell": {
     "cellMetadata": {
      "byteLimit": 2048000,
      "rowLimit": 10000
     },
     "inputWidgets": {},
     "nuid": "fdae0a06-1a18-4ad9-8353-c96720aed181",
     "showTitle": false,
     "title": ""
    }
   },
   "source": [
    "__TO DO__: Return the shape of `x_digits`."
   ]
  },
  {
   "cell_type": "code",
   "execution_count": 0,
   "metadata": {
    "application/vnd.databricks.v1+cell": {
     "cellMetadata": {
      "byteLimit": 2048000,
      "rowLimit": 10000
     },
     "inputWidgets": {},
     "nuid": "0e455e6a-d294-464f-80d2-1f20fc138ce3",
     "showTitle": false,
     "title": ""
    }
   },
   "outputs": [],
   "source": [
    "# Task"
   ]
  },
  {
   "cell_type": "markdown",
   "metadata": {
    "application/vnd.databricks.v1+cell": {
     "cellMetadata": {
      "byteLimit": 2048000,
      "rowLimit": 10000
     },
     "inputWidgets": {},
     "nuid": "07b52f8d-36f0-4ac6-92bc-a3065962a225",
     "showTitle": false,
     "title": ""
    }
   },
   "source": [
    "There are 60.000 numbers represented by 28 x 28 matrices with each entry encoding the color intensity for a pixel. We need to flatten every matrix into a vector of 28 x 28 = 784 numbers. We will use the numpy\n",
    "[`.reshape()`](https://numpy.org/doc/stable/reference/generated/numpy.reshape.html)\n",
    "method which gives a new shape to an array without changing its data."
   ]
  },
  {
   "cell_type": "code",
   "execution_count": 0,
   "metadata": {
    "application/vnd.databricks.v1+cell": {
     "cellMetadata": {
      "byteLimit": 2048000,
      "rowLimit": 10000
     },
     "inputWidgets": {},
     "nuid": "64f0922e-59e7-4413-bf83-cbadba8c8d53",
     "showTitle": false,
     "title": ""
    }
   },
   "outputs": [],
   "source": [
    "x_digits_flat = x_digits.reshape(\n",
    "    x_digits.shape[0], x_digits.shape[1] * x_digits.shape[2]\n",
    ")  # reshaping matrices into vectors\n",
    "x_digits_flat.shape"
   ]
  },
  {
   "cell_type": "markdown",
   "metadata": {
    "application/vnd.databricks.v1+cell": {
     "cellMetadata": {
      "byteLimit": 2048000,
      "rowLimit": 10000
     },
     "inputWidgets": {},
     "nuid": "8928db43-f514-41cc-aabe-054263568de1",
     "showTitle": false,
     "title": ""
    }
   },
   "source": [
    "Next we compile the encoder-decoder architecture stacked sequentially (autoencoder) using keras. If it is not installed you will have to install keras either with pip or conda.   \n",
    "Just execute the code and read the comments. \n",
    "Learning keras is out of scope of this lecture."
   ]
  },
  {
   "cell_type": "code",
   "execution_count": 0,
   "metadata": {
    "application/vnd.databricks.v1+cell": {
     "cellMetadata": {
      "byteLimit": 2048000,
      "rowLimit": 10000
     },
     "inputWidgets": {},
     "nuid": "285840b5-6639-4926-8d49-adc45d70535e",
     "showTitle": false,
     "title": ""
    }
   },
   "outputs": [],
   "source": [
    "from tensorflow.keras.models import Sequential\n",
    "from tensorflow.keras.layers import Dense, Flatten, Reshape\n",
    "from tensorflow.keras.optimizers import SGD, Adam\n",
    "import seaborn as sns\n",
    "\n",
    "X_train = x_digits / 255.0  # digits matrices are scaled to values between 0 and 1\n",
    "\n",
    "### Encoder\n",
    "encoder = Sequential()\n",
    "encoder.add(\n",
    "    Flatten(input_shape=[28, 28])\n",
    ")  # flatten the input matrices into vectors of 28x28\n",
    "encoder.add(\n",
    "    Dense(400, activation=\"relu\")\n",
    ")  # add a dense layer with 400 neurons and relu activation\n",
    "encoder.add(Dense(200, activation=\"relu\"))\n",
    "encoder.add(Dense(100, activation=\"relu\"))\n",
    "encoder.add(Dense(50, activation=\"relu\"))\n",
    "encoder.add(\n",
    "    Dense(2, activation=\"relu\")\n",
    ")  # add a dense layer with 2 neurons and relu activation\n",
    "\n",
    "### Decoder\n",
    "decoder = Sequential()\n",
    "decoder.add(\n",
    "    Dense(50, input_shape=[2], activation=\"sigmoid\")\n",
    ")  # decoder will start with an input of dimension 2 from an encoder\n",
    "decoder.add(Dense(100, activation=\"sigmoid\"))\n",
    "decoder.add(Dense(200, activation=\"sigmoid\"))\n",
    "decoder.add(Dense(400, activation=\"sigmoid\"))\n",
    "decoder.add(Dense(28 * 28, activation=\"sigmoid\"))\n",
    "decoder.add(\n",
    "    Reshape([28, 28])\n",
    ")  # reshape the output from a flat vector to matrix of 28x28\n",
    "\n",
    "### Autoencoder\n",
    "autoencoder = Sequential([encoder, decoder])  # stack encoder and decoder sequentially\n",
    "autoencoder.compile(loss=\"mse\", optimizer=\"Adam\")  # compile the model"
   ]
  },
  {
   "cell_type": "markdown",
   "metadata": {
    "application/vnd.databricks.v1+cell": {
     "cellMetadata": {
      "byteLimit": 2048000,
      "rowLimit": 10000
     },
     "inputWidgets": {},
     "nuid": "7cbcc4f2-f31c-4ae6-b7cc-352178feff40",
     "showTitle": false,
     "title": ""
    }
   },
   "source": [
    "__TO DO__:\n",
    "[Fit the compiled autoencoder model](https://www.tensorflow.org/api_docs/python/tf/keras/Sequential#fit)\n",
    "as you are used from Scikit-learn. As`x` use `X_train` and as `y` use `X_train` again and specify number of epochs with the parameter `epochs=5`."
   ]
  },
  {
   "cell_type": "code",
   "execution_count": 0,
   "metadata": {
    "application/vnd.databricks.v1+cell": {
     "cellMetadata": {
      "byteLimit": 2048000,
      "rowLimit": 10000
     },
     "inputWidgets": {},
     "nuid": "5ee613cc-eadd-44eb-8629-456671e2733b",
     "showTitle": false,
     "title": ""
    }
   },
   "outputs": [],
   "source": [
    "# Task"
   ]
  },
  {
   "cell_type": "markdown",
   "metadata": {
    "application/vnd.databricks.v1+cell": {
     "cellMetadata": {
      "byteLimit": 2048000,
      "rowLimit": 10000
     },
     "inputWidgets": {},
     "nuid": "6a556664-6c68-4b36-abff-ecce2192d7d0",
     "showTitle": false,
     "title": ""
    }
   },
   "source": [
    "__TO DO__: Use the\n",
    "[`predict()`](https://www.tensorflow.org/api_docs/python/tf/keras/Sequential#predict)\n",
    "method of the encoder on `X_train` and assign the result to `x_reduced`."
   ]
  },
  {
   "cell_type": "code",
   "execution_count": 0,
   "metadata": {
    "application/vnd.databricks.v1+cell": {
     "cellMetadata": {
      "byteLimit": 2048000,
      "rowLimit": 10000
     },
     "inputWidgets": {},
     "nuid": "bad047c3-8f43-46b5-8957-1cc09df3ddb9",
     "showTitle": false,
     "title": ""
    }
   },
   "outputs": [],
   "source": [
    "# Task"
   ]
  },
  {
   "cell_type": "code",
   "execution_count": 0,
   "metadata": {
    "application/vnd.databricks.v1+cell": {
     "cellMetadata": {
      "byteLimit": 2048000,
      "rowLimit": 10000
     },
     "inputWidgets": {},
     "nuid": "ad7d61fe-5b08-47a4-aa2e-b79e0a18c892",
     "showTitle": false,
     "title": ""
    }
   },
   "outputs": [],
   "source": [
    "plt.scatter(\n",
    "    x_reduced[:, 0],\n",
    "    x_reduced[:, 1],\n",
    "    c=y_digits,\n",
    "    edgecolor=\"none\",\n",
    "    alpha=0.7,\n",
    "    s=40,\n",
    "    cmap=plt.colormaps[\"nipy_spectral\"],\n",
    ")\n",
    "plt.colorbar()\n",
    "plt.title(\"Encoder PCA projection\");"
   ]
  },
  {
   "cell_type": "markdown",
   "metadata": {
    "application/vnd.databricks.v1+cell": {
     "cellMetadata": {
      "byteLimit": 2048000,
      "rowLimit": 10000
     },
     "inputWidgets": {},
     "nuid": "dea3c36f-7f4a-4eef-9723-582b3c57a162",
     "showTitle": false,
     "title": ""
    }
   },
   "source": [
    "After training with 5 epochs the result does not look very promising. However, if you let the model learn for 50 epochs you should get a result similar to the one shown in the image below."
   ]
  },
  {
   "cell_type": "code",
   "execution_count": 0,
   "metadata": {
    "application/vnd.databricks.v1+cell": {
     "cellMetadata": {
      "byteLimit": 2048000,
      "rowLimit": 10000
     },
     "inputWidgets": {},
     "nuid": "b80a7b25-22b3-436a-b038-0f47f5134092",
     "showTitle": false,
     "title": ""
    }
   },
   "outputs": [],
   "source": [
    "autoencoder.fit(X_train, X_train, epochs=50)"
   ]
  },
  {
   "cell_type": "code",
   "execution_count": 0,
   "metadata": {
    "application/vnd.databricks.v1+cell": {
     "cellMetadata": {
      "byteLimit": 2048000,
      "rowLimit": 10000
     },
     "inputWidgets": {},
     "nuid": "f1408cdc-46bb-460c-91c7-840daa587f45",
     "showTitle": false,
     "title": ""
    }
   },
   "outputs": [],
   "source": [
    "x_reduced = encoder.predict(X_train)"
   ]
  },
  {
   "cell_type": "code",
   "execution_count": 0,
   "metadata": {
    "application/vnd.databricks.v1+cell": {
     "cellMetadata": {
      "byteLimit": 2048000,
      "rowLimit": 10000
     },
     "inputWidgets": {},
     "nuid": "8887371d-ea75-4465-aed4-524541580648",
     "showTitle": false,
     "title": ""
    }
   },
   "outputs": [],
   "source": [
    "plt.figure(figsize=(12, 12))\n",
    "plt.scatter(\n",
    "    x_reduced[:, 0],\n",
    "    x_reduced[:, 1],\n",
    "    c=y_digits,\n",
    "    edgecolor=\"none\",\n",
    "    alpha=0.7,\n",
    "    s=40,\n",
    "    cmap=plt.colormaps[\"nipy_spectral\"],\n",
    ")\n",
    "plt.colorbar()\n",
    "plt.title(\"Encoder PCA projection\");"
   ]
  },
  {
   "cell_type": "markdown",
   "metadata": {
    "application/vnd.databricks.v1+cell": {
     "cellMetadata": {
      "byteLimit": 2048000,
      "rowLimit": 10000
     },
     "inputWidgets": {},
     "nuid": "54822c26-d353-4b64-9319-b425a10a190e",
     "showTitle": false,
     "title": ""
    }
   },
   "source": [
    "Some material adapted for RBI internal purposes with full permissions from original authors."
   ]
  }
 ],
 "metadata": {
  "application/vnd.databricks.v1+notebook": {
   "dashboards": [],
   "environmentMetadata": null,
   "language": "python",
   "notebookMetadata": {
    "pythonIndentUnit": 4
   },
   "notebookName": "2_dimensionality_reduction_jupyter",
   "widgets": {}
  }
 },
 "nbformat": 4,
 "nbformat_minor": 0
}
