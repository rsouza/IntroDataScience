{
 "cells": [
  {
   "cell_type": "markdown",
   "metadata": {
    "application/vnd.databricks.v1+cell": {
     "cellMetadata": {},
     "inputWidgets": {},
     "nuid": "7c0d0d23-4ab0-40b5-88fb-6297645375f1",
     "showTitle": false,
     "title": ""
    }
   },
   "source": [
    "## One-class SVM \n",
    "\n",
    "One-class SVM (one-class support vector machines) is an unsupervised algorithm that learns a decision function for novelty detection: classifying new data as similar or different to the training set. It basically means that this algorithm is trained only on the 'normal' data. It learns the boundaries of these normal points and is therefore able to classify any points that lie outside the boundary as outliers.\n",
    "\n",
    "You can take a look at the parameters of the model down below. For more information regarding the model, please check out the\n",
    "[OneClassSVM documentation](https://scikit-learn.org/stable/modules/generated/sklearn.svm.OneClassSVM.html#sklearn.svm.OneClassSVM).\n",
    "\n",
    "```class sklearn.svm.OneClassSVM(*, kernel='rbf', degree=3, gamma='scale', coef0=0.0, tol=0.001, nu=0.5, shrinking=True, cache_size=200, verbose=False, max_iter=-1)```\n",
    "\n",
    "#### Explanation of important parameters:\n",
    "\n",
    "- `kernel`: specifies the kernel type to be used in the algorithm.\n",
    "- `nu`: the proportion of outliers you expect to observe .\n",
    "- `gamma`: determines the smoothing of the contour lines."
   ]
  },
  {
   "cell_type": "markdown",
   "metadata": {
    "application/vnd.databricks.v1+cell": {
     "cellMetadata": {},
     "inputWidgets": {},
     "nuid": "63f447fa-a920-49c2-b3a5-4f98efd4d031",
     "showTitle": false,
     "title": ""
    }
   },
   "source": [
    "### One-class SVM Exercises\n",
    "\n",
    "First we will import\n",
    "[`OneClassSVM`](https://scikit-learn.org/stable/modules/generated/sklearn.svm.OneClassSVM.html)\n",
    "from\n",
    "[`sklearn.svm`](https://scikit-learn.org/stable/modules/classes.html#module-sklearn.svm),\n",
    "[`make_blobs`](https://scikit-learn.org/stable/modules/generated/sklearn.datasets.make_blobs.html#sklearn.datasets.make_blobs),\n",
    "`numpy`, and `matplotlib.pyplot`."
   ]
  },
  {
   "cell_type": "code",
   "execution_count": 0,
   "metadata": {
    "application/vnd.databricks.v1+cell": {
     "cellMetadata": {
      "byteLimit": 2048000,
      "rowLimit": 10000
     },
     "inputWidgets": {},
     "nuid": "3ef98bc6-07dc-4346-b435-4835dabd63fe",
     "showTitle": false,
     "title": ""
    }
   },
   "outputs": [],
   "source": [
    "from sklearn.svm import OneClassSVM\n",
    "from sklearn.datasets import make_blobs\n",
    "import numpy as np  # You will use np.quantile, np.where and np.random\n",
    "import matplotlib.pyplot as plt"
   ]
  },
  {
   "cell_type": "markdown",
   "metadata": {
    "application/vnd.databricks.v1+cell": {
     "cellMetadata": {},
     "inputWidgets": {},
     "nuid": "068a791d-51c4-48b0-a77c-7b4412fc0fd2",
     "showTitle": false,
     "title": ""
    }
   },
   "source": [
    "We have created a random sample data set below by using the\n",
    "[`make_blobs()`](https://scikit-learn.org/stable/modules/generated/sklearn.datasets.make_blobs.html#sklearn.datasets.make_blobs)\n",
    "function."
   ]
  },
  {
   "cell_type": "code",
   "execution_count": 0,
   "metadata": {
    "application/vnd.databricks.v1+cell": {
     "cellMetadata": {
      "byteLimit": 2048000,
      "rowLimit": 10000
     },
     "inputWidgets": {},
     "nuid": "d14dbb52-ede6-44cf-8513-00204ab1c7a6",
     "showTitle": false,
     "title": ""
    }
   },
   "outputs": [],
   "source": [
    "np.random.seed(13)\n",
    "x, _ = make_blobs(n_samples=200, centers=1, cluster_std=.3, center_box=(8, 8))\n",
    "\n",
    "plt.scatter(x[:,0], x[:,1])\n",
    "plt.show()\n"
   ]
  },
  {
   "cell_type": "markdown",
   "metadata": {
    "application/vnd.databricks.v1+cell": {
     "cellMetadata": {},
     "inputWidgets": {},
     "nuid": "e4d596e2-7e40-4ad7-b153-14a791f9e65e",
     "showTitle": false,
     "title": ""
    }
   },
   "source": [
    "**TO DO:** We will use the rbf kernel type ([`radial basis function`](https://en.wikipedia.org/wiki/Radial_basis_function_kernel)) for our model.\n",
    "Instantiate a new\n",
    "[`OneClassSVM`](https://scikit-learn.org/stable/modules/generated/sklearn.svm.OneClassSVM.html)\n",
    "model as `svm` with kernel type 'rbf', a gamma value of 0.001 and a nu value of 0.03."
   ]
  },
  {
   "cell_type": "code",
   "execution_count": 0,
   "metadata": {
    "application/vnd.databricks.v1+cell": {
     "cellMetadata": {
      "byteLimit": 2048000,
      "rowLimit": 10000
     },
     "inputWidgets": {},
     "nuid": "ceaddf46-8ab4-41bf-8a11-d93e9462c16c",
     "showTitle": false,
     "title": ""
    }
   },
   "outputs": [],
   "source": [
    "# Task\n",
    "\n",
    "svm = OneClassSVM(kernel='rbf', gamma=0.001, nu=0.03)\n",
    "print(svm)"
   ]
  },
  {
   "cell_type": "markdown",
   "metadata": {
    "application/vnd.databricks.v1+cell": {
     "cellMetadata": {},
     "inputWidgets": {},
     "nuid": "dd322e6c-2257-424d-84da-40f3d26bb470",
     "showTitle": false,
     "title": ""
    }
   },
   "source": [
    "**TO DO:** Fit the model with the data set `x` that we created at the beginning and get the prediction data by using the\n",
    "[`fit()`](https://scikit-learn.org/stable/modules/generated/sklearn.svm.OneClassSVM.html#sklearn.svm.OneClassSVM.fit)\n",
    "and\n",
    "[`predict()`](https://scikit-learn.org/stable/modules/generated/sklearn.svm.OneClassSVM.html#sklearn.svm.OneClassSVM.predict)\n",
    "methods."
   ]
  },
  {
   "cell_type": "code",
   "execution_count": 0,
   "metadata": {
    "application/vnd.databricks.v1+cell": {
     "cellMetadata": {
      "byteLimit": 2048000,
      "rowLimit": 10000
     },
     "inputWidgets": {},
     "nuid": "876b8e97-e882-4cdd-bb6c-f2e65ef915fd",
     "showTitle": false,
     "title": ""
    }
   },
   "outputs": [],
   "source": [
    "# Task\n",
    "\n",
    "svm.fit(x)\n",
    "pred = svm.predict(x)"
   ]
  },
  {
   "cell_type": "markdown",
   "metadata": {
    "application/vnd.databricks.v1+cell": {
     "cellMetadata": {},
     "inputWidgets": {},
     "nuid": "c9169b69-0ed3-456a-9b8a-5a06e6456e4a",
     "showTitle": false,
     "title": ""
    }
   },
   "source": [
    "**TO DO:** If everything has been done correctly before, you can now extract the negative outputs (where the prediction of the data is equal to -1) as the outliers.\n",
    "Save these in these in the variable `values`. "
   ]
  },
  {
   "cell_type": "code",
   "execution_count": 0,
   "metadata": {
    "application/vnd.databricks.v1+cell": {
     "cellMetadata": {
      "byteLimit": 2048000,
      "rowLimit": 10000
     },
     "inputWidgets": {},
     "nuid": "4e435147-5530-4834-a1e2-76e842169e86",
     "showTitle": false,
     "title": ""
    }
   },
   "outputs": [],
   "source": [
    "# Task\n",
    "\n",
    "anom_index = np.where(pred == -1)\n",
    "values = x[anom_index]"
   ]
  },
  {
   "cell_type": "markdown",
   "metadata": {
    "application/vnd.databricks.v1+cell": {
     "cellMetadata": {},
     "inputWidgets": {},
     "nuid": "fd7d1662-c944-4e78-a16e-b54cd7cdf44d",
     "showTitle": false,
     "title": ""
    }
   },
   "source": [
    "Now we will visualize what we have done by using `plt`."
   ]
  },
  {
   "cell_type": "code",
   "execution_count": 0,
   "metadata": {
    "application/vnd.databricks.v1+cell": {
     "cellMetadata": {
      "byteLimit": 2048000,
      "rowLimit": 10000
     },
     "inputWidgets": {},
     "nuid": "4189e3f8-d9ad-47aa-a441-604ecfd2d6bc",
     "showTitle": false,
     "title": ""
    }
   },
   "outputs": [],
   "source": [
    "plt.scatter(x[:,0], x[:,1])\n",
    "plt.scatter(values[:,0], values[:,1], color='r')\n",
    "plt.show()"
   ]
  },
  {
   "cell_type": "markdown",
   "metadata": {
    "application/vnd.databricks.v1+cell": {
     "cellMetadata": {},
     "inputWidgets": {},
     "nuid": "0e07c80e-001e-4536-9406-55e14f47c99a",
     "showTitle": false,
     "title": ""
    }
   },
   "source": [
    "## Local Outlier Factor\n",
    "\n",
    "[The Local Outlier Factor (LOF) algorithm](https://en.wikipedia.org/wiki/Local_outlier_factor)\n",
    "is an unsupervised anomaly detection method which computes the local density deviation of a given data point with respect to its neighbors. It considers as outliers the samples that have a substantially lower density than their neighbors. Note that when LOF is used for outlier detection it has no `predict`, `decision_function` and `score_samples` methods. \n",
    "\n",
    "LOF is a score that describes how likely a certain data point is to be an outlier/anomaly.\n",
    "\n",
    "- When LOF is around 1 it is most likely that the data point is normal.\n",
    "- When LOF scores higher than 1 it is most likely that the data point is an outlier.\n",
    "\n",
    "In general, the LOF of a point tells us the density of this point compared to the density of its neighbors. If the density of a point is much smaller than the densities of its neighbors (LOF ≫1), the point is far from dense areas and, hence, an outlier.\n",
    "\n",
    "#### Explanation of important parameters\n",
    "- `n_neighbors`: the number of neighbors considered\n",
    "    - It should be greater than the minimum number of samples a cluster has to contain, so that other samples can be local outliers relative to this cluster.\n",
    "    - It should be smaller than the maximum number of close-by samples that can potentially be local outliers. \n",
    "    - In practice, such information is generally not available, and taking `n_neighbors=20` appears to work well in general.\n",
    "- `contamination`: the amount of contamination of the data set, i.e. the proportion of outliers in the data set. When fitting, this is used to define the threshold on the scores of the samples.\n",
    "\n",
    "#### Explanation of attributes\n",
    "- `negative_outlier_factor_`: the opposite of LOF for the training samples. The higher, the more normal. Inliers tend to have a LOF score close to 1 (`negative_outlier_factor_` close to -1), while outliers tend to have a larger LOF score. The local outlier factor (LOF) of a sample captures its supposed 'degree of abnormality'. It is the average of the ratio of the local reachability density of a sample and those of its k-nearest neighbors.\n",
    "- `n_neighbors_`: the actual number of neighbors used for k-neighbors queries.\n",
    "- `offset_`: the offset used to obtain binary labels from the raw scores. Observations having a `negative_outlier_factor` smaller than `offset_` are detected as **abnormal**. \n",
    "\n",
    "See more information here: [LocalOutlierFactor Documentation](https://scikit-learn.org/stable/auto_examples/neighbors/plot_lof_outlier_detection.html#:~:text=The%20Local%20Outlier%20Factor%20)"
   ]
  },
  {
   "cell_type": "markdown",
   "metadata": {
    "application/vnd.databricks.v1+cell": {
     "cellMetadata": {},
     "inputWidgets": {},
     "nuid": "fe73152e-eb76-4483-a0d2-169289f45964",
     "showTitle": false,
     "title": ""
    }
   },
   "source": [
    "### Local outlier factor exercises\n",
    "Firstly, we will important all necessary packages."
   ]
  },
  {
   "cell_type": "code",
   "execution_count": 0,
   "metadata": {
    "application/vnd.databricks.v1+cell": {
     "cellMetadata": {
      "byteLimit": 2048000,
      "rowLimit": 10000
     },
     "inputWidgets": {},
     "nuid": "e1ac43bc-5f0d-4297-8cc5-ce3cb3bb6256",
     "showTitle": false,
     "title": ""
    }
   },
   "outputs": [],
   "source": [
    "from sklearn.neighbors import LocalOutlierFactor\n",
    "from sklearn.datasets import make_blobs"
   ]
  },
  {
   "cell_type": "markdown",
   "metadata": {
    "application/vnd.databricks.v1+cell": {
     "cellMetadata": {},
     "inputWidgets": {},
     "nuid": "e390af92-974c-4f91-93fa-7b1f20b0a5ea",
     "showTitle": false,
     "title": ""
    }
   },
   "source": [
    "We have created a random sample dataset below again by using the\n",
    "[`make_blobs()`](https://scikit-learn.org/stable/modules/generated/sklearn.datasets.make_blobs.html#sklearn.datasets.make_blobs)\n",
    "function."
   ]
  },
  {
   "cell_type": "code",
   "execution_count": 0,
   "metadata": {
    "application/vnd.databricks.v1+cell": {
     "cellMetadata": {
      "byteLimit": 2048000,
      "rowLimit": 10000
     },
     "inputWidgets": {},
     "nuid": "4ac084ef-2451-4d28-9aa7-bf36da3d2f1b",
     "showTitle": false,
     "title": ""
    }
   },
   "outputs": [],
   "source": [
    "np.random.seed(1)\n",
    "x, _ = make_blobs(n_samples=200, centers=1, cluster_std=.3, center_box=(10,10))"
   ]
  },
  {
   "cell_type": "markdown",
   "metadata": {
    "application/vnd.databricks.v1+cell": {
     "cellMetadata": {},
     "inputWidgets": {},
     "nuid": "232878b5-3faf-4abe-a231-7b6654f2f4f8",
     "showTitle": false,
     "title": ""
    }
   },
   "source": [
    "**TO DO:** Visualize the dataset in a plot."
   ]
  },
  {
   "cell_type": "code",
   "execution_count": 0,
   "metadata": {
    "application/vnd.databricks.v1+cell": {
     "cellMetadata": {
      "byteLimit": 2048000,
      "rowLimit": 10000
     },
     "inputWidgets": {},
     "nuid": "da331bda-e67f-42fd-aad9-9da66e1f384e",
     "showTitle": false,
     "title": ""
    }
   },
   "outputs": [],
   "source": [
    "plt.scatter(x[:,0], x[:,1])\n",
    "plt.show()"
   ]
  },
  {
   "cell_type": "markdown",
   "metadata": {
    "application/vnd.databricks.v1+cell": {
     "cellMetadata": {},
     "inputWidgets": {},
     "nuid": "00d926c5-40c9-4994-ae3d-2add1dc274fc",
     "showTitle": false,
     "title": ""
    }
   },
   "source": [
    "**TO DO:** Construct a\n",
    "[`LocalOutlierFactor`](https://scikit-learn.org/stable/modules/generated/sklearn.neighbors.LocalOutlierFactor.html)\n",
    "model with `n_neighbors` set to 20 and `contamination` set to 0.03."
   ]
  },
  {
   "cell_type": "code",
   "execution_count": 0,
   "metadata": {
    "application/vnd.databricks.v1+cell": {
     "cellMetadata": {
      "byteLimit": 2048000,
      "rowLimit": 10000
     },
     "inputWidgets": {},
     "nuid": "0475c293-bf95-40a3-8e5d-426592811194",
     "showTitle": false,
     "title": ""
    }
   },
   "outputs": [],
   "source": [
    "# Task\n",
    "\n",
    "model = LocalOutlierFactor(n_neighbors=20, contamination=.03)"
   ]
  },
  {
   "cell_type": "markdown",
   "metadata": {
    "application/vnd.databricks.v1+cell": {
     "cellMetadata": {},
     "inputWidgets": {},
     "nuid": "b009f4c1-3a00-46ce-83d0-e05f8bae58e4",
     "showTitle": false,
     "title": ""
    }
   },
   "source": [
    "**TO DO:** Fit the dataset which we generated in the beginning to the model and make prediction using the\n",
    "[`fit_predict()`](https://scikit-learn.org/stable/modules/generated/sklearn.neighbors.LocalOutlierFactor.html#sklearn.neighbors.LocalOutlierFactor.fit_predict)\n",
    "method."
   ]
  },
  {
   "cell_type": "code",
   "execution_count": 0,
   "metadata": {
    "application/vnd.databricks.v1+cell": {
     "cellMetadata": {
      "byteLimit": 2048000,
      "rowLimit": 10000
     },
     "inputWidgets": {},
     "nuid": "b2d9cb49-8078-4d13-b51a-202ddc9fdc66",
     "showTitle": false,
     "title": ""
    }
   },
   "outputs": [],
   "source": [
    "# Task\n",
    "\n",
    "y_pred = model.fit_predict(x)"
   ]
  },
  {
   "cell_type": "markdown",
   "metadata": {
    "application/vnd.databricks.v1+cell": {
     "cellMetadata": {},
     "inputWidgets": {},
     "nuid": "a24851d4-aa75-49c8-8d0e-fbf94d7bc858",
     "showTitle": false,
     "title": ""
    }
   },
   "source": [
    "**TO DO:** Output the `negative_outlier_factor_` from the model."
   ]
  },
  {
   "cell_type": "code",
   "execution_count": 0,
   "metadata": {
    "application/vnd.databricks.v1+cell": {
     "cellMetadata": {
      "byteLimit": 2048000,
      "rowLimit": 10000
     },
     "inputWidgets": {},
     "nuid": "4ff791f2-25f6-4b65-912a-8055305dc0e8",
     "showTitle": false,
     "title": ""
    }
   },
   "outputs": [],
   "source": [
    "# Task\n",
    "\n",
    "lof = model.negative_outlier_factor_\n",
    "\n",
    "print(lof)"
   ]
  },
  {
   "cell_type": "markdown",
   "metadata": {
    "application/vnd.databricks.v1+cell": {
     "cellMetadata": {},
     "inputWidgets": {},
     "nuid": "e97ee3c8-d6fa-4df5-912c-56e49091f5ec",
     "showTitle": false,
     "title": ""
    }
   },
   "source": [
    "**TO DO**: Assign the attribute `offset_` from the model to a variable called `threshold`."
   ]
  },
  {
   "cell_type": "code",
   "execution_count": 0,
   "metadata": {
    "application/vnd.databricks.v1+cell": {
     "cellMetadata": {
      "byteLimit": 2048000,
      "rowLimit": 10000
     },
     "inputWidgets": {},
     "nuid": "9a07f38b-c0d7-41c4-a71c-4781d9bf2447",
     "showTitle": false,
     "title": ""
    }
   },
   "outputs": [],
   "source": [
    "threshold = np.quantile(lof, .03)\n",
    "print(threshold)"
   ]
  },
  {
   "cell_type": "markdown",
   "metadata": {
    "application/vnd.databricks.v1+cell": {
     "cellMetadata": {},
     "inputWidgets": {},
     "nuid": "27262ed8-8a01-4489-a2e8-26c35e58a6ab",
     "showTitle": false,
     "title": ""
    }
   },
   "source": [
    "There are two ways that we can learn about outliers.\n",
    "1. Using the\n",
    "[`fit_predict()`](https://scikit-learn.org/stable/modules/generated/sklearn.neighbors.LocalOutlierFactor.html#sklearn.neighbors.LocalOutlierFactor.fit_predict)\n",
    "method and extracting negative outputs as the outliers.\n",
    "2. Obtaining the threshold value and extract the anomalies by comparing the values of the elements with the threshold value."
   ]
  },
  {
   "cell_type": "markdown",
   "metadata": {
    "application/vnd.databricks.v1+cell": {
     "cellMetadata": {},
     "inputWidgets": {},
     "nuid": "5ab81156-6a30-4774-b7cf-08b5c525b69e",
     "showTitle": false,
     "title": ""
    }
   },
   "source": [
    "#### Mehod 1\n",
    "**TO DO:** Extract the negative outputs as the outliers and save them in the variable `values_1`."
   ]
  },
  {
   "cell_type": "code",
   "execution_count": 0,
   "metadata": {
    "application/vnd.databricks.v1+cell": {
     "cellMetadata": {
      "byteLimit": 2048000,
      "rowLimit": 10000
     },
     "inputWidgets": {},
     "nuid": "44ab155c-d97e-42da-8b4e-ef2132c91bd3",
     "showTitle": false,
     "title": ""
    }
   },
   "outputs": [],
   "source": [
    "# Task\n",
    "\n",
    "lofs_index = np.where(y_pred==-1)\n",
    "values_1 = x[lofs_index]\n",
    "\n",
    "values_1"
   ]
  },
  {
   "cell_type": "code",
   "execution_count": 0,
   "metadata": {
    "application/vnd.databricks.v1+cell": {
     "cellMetadata": {
      "byteLimit": 2048000,
      "rowLimit": 10000
     },
     "inputWidgets": {},
     "nuid": "3a722153-6f10-4b1c-a519-af17204e83ca",
     "showTitle": false,
     "title": ""
    }
   },
   "outputs": [],
   "source": [
    "plt.scatter(x[:,0], x[:,1])\n",
    "plt.scatter(values_1[:,0],values_1[:,1], color='r')\n",
    "plt.title (\"Method 1\")\n",
    "plt.show()"
   ]
  },
  {
   "cell_type": "markdown",
   "metadata": {
    "application/vnd.databricks.v1+cell": {
     "cellMetadata": {},
     "inputWidgets": {},
     "nuid": "8b2b1b6d-65e0-4017-82aa-e87045671acc",
     "showTitle": false,
     "title": ""
    }
   },
   "source": [
    "#### Method 2\n",
    "**TO DO:** Extract the anomalies by comparing with the threshold value and save them in the variable `values_2`.    \n",
    "When the threshold value is bigger or equal to the local outlier factor score, this is regarded as an outlier. "
   ]
  },
  {
   "cell_type": "code",
   "execution_count": 0,
   "metadata": {
    "application/vnd.databricks.v1+cell": {
     "cellMetadata": {
      "byteLimit": 2048000,
      "rowLimit": 10000
     },
     "inputWidgets": {},
     "nuid": "1f48a23f-95ef-4ed5-83b8-901067c147f1",
     "showTitle": false,
     "title": ""
    }
   },
   "outputs": [],
   "source": [
    "# Task\n",
    "\n",
    "index = np.where(lof<=threshold)\n",
    "values_2 = x[index]"
   ]
  },
  {
   "cell_type": "markdown",
   "metadata": {
    "application/vnd.databricks.v1+cell": {
     "cellMetadata": {},
     "inputWidgets": {},
     "nuid": "1ee1f42f-074d-4188-95ea-4228d0498443",
     "showTitle": false,
     "title": ""
    }
   },
   "source": [
    "If everything has been done correctly before, we can visualize the outliers in the plot below."
   ]
  },
  {
   "cell_type": "code",
   "execution_count": 0,
   "metadata": {
    "application/vnd.databricks.v1+cell": {
     "cellMetadata": {
      "byteLimit": 2048000,
      "rowLimit": 10000
     },
     "inputWidgets": {},
     "nuid": "b2fa2827-0062-415e-acf2-fe97615b65c5",
     "showTitle": false,
     "title": ""
    }
   },
   "outputs": [],
   "source": [
    "plt.scatter(x[:,0], x[:,1])\n",
    "plt.scatter(values_2[:,0],values_2[:,1], color='r')\n",
    "plt.title (\"Method 2\")\n",
    "plt.show()"
   ]
  },
  {
   "cell_type": "markdown",
   "metadata": {
    "application/vnd.databricks.v1+cell": {
     "cellMetadata": {},
     "inputWidgets": {},
     "nuid": "25cf6d58-198b-42f2-acf6-71f6f27bd823",
     "showTitle": false,
     "title": ""
    }
   },
   "source": [
    "Some material adapted for RBI internal purposes with full permissions from original authors."
   ]
  }
 ],
 "metadata": {
  "application/vnd.databricks.v1+notebook": {
   "dashboards": [],
   "environmentMetadata": null,
   "language": "python",
   "notebookMetadata": {
    "pythonIndentUnit": 4
   },
   "notebookName": "[Answer]3_outlier_detection_jupyter",
   "widgets": {}
  }
 },
 "nbformat": 4,
 "nbformat_minor": 0
}
