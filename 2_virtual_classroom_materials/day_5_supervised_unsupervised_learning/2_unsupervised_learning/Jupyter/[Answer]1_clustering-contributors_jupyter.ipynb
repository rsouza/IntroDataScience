{
 "cells": [
  {
   "cell_type": "code",
   "execution_count": 0,
   "metadata": {
    "application/vnd.databricks.v1+cell": {
     "cellMetadata": {
      "byteLimit": 2048000,
      "rowLimit": 10000
     },
     "inputWidgets": {},
     "nuid": "bb280856-6bc9-4762-baf1-ecbae2b6d5af",
     "showTitle": false,
     "title": ""
    }
   },
   "outputs": [],
   "source": [
    "pip install \"threadpoolctl>=3.1.0\""
   ]
  },
  {
   "cell_type": "code",
   "execution_count": 0,
   "metadata": {
    "application/vnd.databricks.v1+cell": {
     "cellMetadata": {
      "byteLimit": 2048000,
      "rowLimit": 10000
     },
     "inputWidgets": {},
     "nuid": "07c63064-18a4-41ff-995f-d5c81321b4e5",
     "showTitle": false,
     "title": ""
    }
   },
   "outputs": [],
   "source": [
    "dbutils.library.restartPython()"
   ]
  },
  {
   "cell_type": "code",
   "execution_count": 0,
   "metadata": {
    "application/vnd.databricks.v1+cell": {
     "cellMetadata": {
      "byteLimit": 2048000,
      "rowLimit": 10000
     },
     "inputWidgets": {},
     "nuid": "334451b6-3771-432f-86fb-83990015e90e",
     "showTitle": false,
     "title": ""
    }
   },
   "outputs": [],
   "source": [
    "import matplotlib.pyplot as plt\n",
    "import numpy as np\n",
    "import pandas as pd"
   ]
  },
  {
   "cell_type": "markdown",
   "metadata": {
    "application/vnd.databricks.v1+cell": {
     "cellMetadata": {},
     "inputWidgets": {},
     "nuid": "304f012a-fc0d-4dc7-a348-1b1163f2a726",
     "showTitle": false,
     "title": ""
    }
   },
   "source": [
    "# Clustering"
   ]
  },
  {
   "cell_type": "markdown",
   "metadata": {
    "application/vnd.databricks.v1+cell": {
     "cellMetadata": {},
     "inputWidgets": {},
     "nuid": "13e41cd7-bde1-4521-985b-cba1374edca4",
     "showTitle": false,
     "title": ""
    }
   },
   "source": [
    "## K-means\n",
    "The scikit-learn library has an implementation of the[ _k-means algorithm_](https://en.wikipedia.org/wiki/K-means_clustering). Let’s apply it to a set of randomly generated blobs whose labels we throw away. \n",
    "\n",
    "The [`make_blobs()`](https://scikit-learn.org/stable/modules/generated/sklearn.datasets.make_blobs.html) function generates a data set for clustering. You can read more about how this works in the [documention](https://scikit-learn.org/stable/modules/generated/sklearn.datasets.make_blobs.html).\n",
    "\n",
    "__TO DO__: Find out how many instances with how many features were generated."
   ]
  },
  {
   "cell_type": "code",
   "execution_count": 0,
   "metadata": {
    "application/vnd.databricks.v1+cell": {
     "cellMetadata": {
      "byteLimit": 2048000,
      "rowLimit": 10000
     },
     "inputWidgets": {},
     "nuid": "d3f61e42-065a-4ca7-9040-19d0d275a85e",
     "showTitle": false,
     "title": ""
    }
   },
   "outputs": [],
   "source": [
    "# Task\n",
    "from sklearn.datasets import make_blobs\n",
    "X,y = make_blobs(random_state=42) \n",
    "# Your code starts here\n",
    "print(X.shape)"
   ]
  },
  {
   "cell_type": "markdown",
   "metadata": {
    "application/vnd.databricks.v1+cell": {
     "cellMetadata": {},
     "inputWidgets": {},
     "nuid": "c7603618-2375-444e-9ed2-03c0fe345852",
     "showTitle": false,
     "title": ""
    }
   },
   "source": [
    "Plot the points X with a scatter plot"
   ]
  },
  {
   "cell_type": "code",
   "execution_count": 0,
   "metadata": {
    "application/vnd.databricks.v1+cell": {
     "cellMetadata": {
      "byteLimit": 2048000,
      "rowLimit": 10000
     },
     "inputWidgets": {},
     "nuid": "ef6cd999-1429-40e9-afdb-39d09016c335",
     "showTitle": false,
     "title": ""
    }
   },
   "outputs": [],
   "source": [
    "plt.scatter(X[:,0],X[:,1]);"
   ]
  },
  {
   "cell_type": "markdown",
   "metadata": {
    "application/vnd.databricks.v1+cell": {
     "cellMetadata": {},
     "inputWidgets": {},
     "nuid": "745cfceb-162a-4f7a-88a5-c6970c075ba4",
     "showTitle": false,
     "title": ""
    }
   },
   "source": [
    "In this toy example you can guess the number of clusters by eye. Let's see if the k-means algorithm can recover these clusters as well. \n",
    "\n",
    "__TO DO__: Import [`KMeans`](https://scikit-learn.org/stable/modules/generated/sklearn.cluster.KMeans.html) and create an instance of the k-means model by giving it 3 as a hyperparameter for the number of clusters. Fit the model to your dataset X.    \n",
    "Notice that we do not feed the labels y into the model! "
   ]
  },
  {
   "cell_type": "code",
   "execution_count": 0,
   "metadata": {
    "application/vnd.databricks.v1+cell": {
     "cellMetadata": {
      "byteLimit": 2048000,
      "rowLimit": 10000
     },
     "inputWidgets": {},
     "nuid": "b1949eeb-8a35-4bc1-85c1-647c8f8592b4",
     "showTitle": false,
     "title": ""
    }
   },
   "outputs": [],
   "source": [
    "# Task\n",
    "from sklearn.cluster import KMeans\n",
    "model = KMeans(n_clusters = 3)\n",
    "model.fit(X)"
   ]
  },
  {
   "cell_type": "markdown",
   "metadata": {
    "application/vnd.databricks.v1+cell": {
     "cellMetadata": {},
     "inputWidgets": {},
     "nuid": "77b86b10-43e8-4e74-bb67-85958aa41da7",
     "showTitle": false,
     "title": ""
    }
   },
   "source": [
    "__TO DO__: Assign the centroids to the variable `centroids` and print it. For this use the KMeans model's attribute `cluster_centers_`. \n",
    "\n",
    "- The centroids are important because they are what enables KMeans to assign new, previously unseen points to the existing clusters!"
   ]
  },
  {
   "cell_type": "code",
   "execution_count": 0,
   "metadata": {
    "application/vnd.databricks.v1+cell": {
     "cellMetadata": {
      "byteLimit": 2048000,
      "rowLimit": 10000
     },
     "inputWidgets": {},
     "nuid": "144b2337-ce04-4c9c-82a7-effbde2faade",
     "showTitle": false,
     "title": ""
    }
   },
   "outputs": [],
   "source": [
    "# Task\n",
    "centroids = model.cluster_centers_\n",
    "print(centroids)"
   ]
  },
  {
   "cell_type": "markdown",
   "metadata": {
    "application/vnd.databricks.v1+cell": {
     "cellMetadata": {},
     "inputWidgets": {},
     "nuid": "486ea9b0-abbf-4623-bf8c-ffb87269eaae",
     "showTitle": false,
     "title": ""
    }
   },
   "source": [
    "__TO DO__: Assign the predicted class labels to the variable `labels` and print it. For this use the KMeans model's attribute `labels_`."
   ]
  },
  {
   "cell_type": "code",
   "execution_count": 0,
   "metadata": {
    "application/vnd.databricks.v1+cell": {
     "cellMetadata": {
      "byteLimit": 2048000,
      "rowLimit": 10000
     },
     "inputWidgets": {},
     "nuid": "52ed3160-bbb1-437f-a6e3-fc9b016f6e8c",
     "showTitle": false,
     "title": ""
    }
   },
   "outputs": [],
   "source": [
    "# Task\n",
    "labels = model.labels_\n",
    "print(labels)"
   ]
  },
  {
   "cell_type": "markdown",
   "metadata": {
    "application/vnd.databricks.v1+cell": {
     "cellMetadata": {},
     "inputWidgets": {},
     "nuid": "33fa6e9e-c94b-4b97-bbed-6215f2193a9e",
     "showTitle": false,
     "title": ""
    }
   },
   "source": [
    "Plot the points X with a scatter plot with colors equal to labels. The centroids are plotted with a red dot."
   ]
  },
  {
   "cell_type": "code",
   "execution_count": 0,
   "metadata": {
    "application/vnd.databricks.v1+cell": {
     "cellMetadata": {
      "byteLimit": 2048000,
      "rowLimit": 10000
     },
     "inputWidgets": {},
     "nuid": "6a6d8f54-aa67-454d-a458-90dcc457a79e",
     "showTitle": false,
     "title": ""
    }
   },
   "outputs": [],
   "source": [
    "plt.scatter(X[:,0],X[:,1], c=labels);\n",
    "plt.scatter(centroids[:,0], centroids[:,1], s=100, color=\"red\"); # Show the centres"
   ]
  },
  {
   "cell_type": "markdown",
   "metadata": {
    "application/vnd.databricks.v1+cell": {
     "cellMetadata": {},
     "inputWidgets": {},
     "nuid": "e319b4c8-627b-4ace-bb25-915e015972a8",
     "showTitle": false,
     "title": ""
    }
   },
   "source": [
    "__TO DO__: Return KMeans' performance measure _inertia_  using the attribute `inertia_`.\n",
    "\n",
    "- inertia = Sum of squared distances of samples to their closest cluster center. The lower the inertia the better."
   ]
  },
  {
   "cell_type": "code",
   "execution_count": 0,
   "metadata": {
    "application/vnd.databricks.v1+cell": {
     "cellMetadata": {
      "byteLimit": 2048000,
      "rowLimit": 10000
     },
     "inputWidgets": {},
     "nuid": "ae92ddf0-ad08-47e5-b2ff-89d1cdde3dd2",
     "showTitle": false,
     "title": ""
    }
   },
   "outputs": [],
   "source": [
    "# Task\n",
    "model.inertia_"
   ]
  },
  {
   "cell_type": "markdown",
   "metadata": {
    "application/vnd.databricks.v1+cell": {
     "cellMetadata": {},
     "inputWidgets": {},
     "nuid": "b4bb9c37-61ad-4ccd-ac98-af825a90b182",
     "showTitle": false,
     "title": ""
    }
   },
   "source": [
    "Next, we select the number of clusters where inertia stops decreasing significatly. (This is only a rule of thumb.)"
   ]
  },
  {
   "cell_type": "code",
   "execution_count": 0,
   "metadata": {
    "application/vnd.databricks.v1+cell": {
     "cellMetadata": {
      "byteLimit": 2048000,
      "rowLimit": 10000
     },
     "inputWidgets": {},
     "nuid": "4cd7e16a-14ce-4611-b5df-4990487557f8",
     "showTitle": false,
     "title": ""
    }
   },
   "outputs": [],
   "source": [
    "inertia = []\n",
    "for k in range(1, 15):\n",
    "    km = KMeans(n_clusters=k, random_state=42).fit(X)\n",
    "    inertia.append(km.inertia_)\n",
    "    \n",
    "plt.plot(range(1, 15), inertia, marker='s');\n",
    "plt.title('The Elbow Method')\n",
    "plt.xlabel('Number of clusters')\n",
    "plt.ylabel('$J(C_k)$');"
   ]
  },
  {
   "cell_type": "markdown",
   "metadata": {
    "application/vnd.databricks.v1+cell": {
     "cellMetadata": {},
     "inputWidgets": {},
     "nuid": "1b236c29-1dc7-4112-8e3f-c9526f9eaa25",
     "showTitle": false,
     "title": ""
    }
   },
   "source": [
    "__TO DO__: Use the [`.predict()`](https://scikit-learn.org/stable/modules/generated/sklearn.cluster.KMeans.html#sklearn.cluster.KMeans.predict) method of the model to predict the cluster labels of `new_points`. Assign them to a new variable named `new_labels`.    \n",
    "Notice that KMeans can assign previously unseen points to the clusters it has already found!"
   ]
  },
  {
   "cell_type": "code",
   "execution_count": 0,
   "metadata": {
    "application/vnd.databricks.v1+cell": {
     "cellMetadata": {
      "byteLimit": 2048000,
      "rowLimit": 10000
     },
     "inputWidgets": {},
     "nuid": "c9fb5155-8285-43ed-a78f-2be8ded21b02",
     "showTitle": false,
     "title": ""
    }
   },
   "outputs": [],
   "source": [
    "# Task\n",
    "new_points = np.array([[-4, 5], [-6, -2.5], [4, -2.5], [0, 10]])\n",
    "# Your code starts here\n",
    "new_labels = np.array(model.predict(new_points))\n",
    "print(new_labels)\n",
    "\n",
    "plt.scatter(X[:,0],X[:,1], c=labels)\n",
    "plt.scatter(new_points[:,0], new_points[:,1], c=new_labels, marker = 'X', s = 300);"
   ]
  },
  {
   "cell_type": "markdown",
   "metadata": {
    "application/vnd.databricks.v1+cell": {
     "cellMetadata": {},
     "inputWidgets": {},
     "nuid": "003e6360-7d44-4c0d-a476-2107d7171346",
     "showTitle": false,
     "title": ""
    }
   },
   "source": [
    "### Scaling numerical variables\n",
    "\n",
    "Read the data set below."
   ]
  },
  {
   "cell_type": "code",
   "execution_count": 0,
   "metadata": {
    "application/vnd.databricks.v1+cell": {
     "cellMetadata": {
      "byteLimit": 2048000,
      "rowLimit": 10000
     },
     "inputWidgets": {},
     "nuid": "b8752033-0014-45cd-9b33-655a520835d4",
     "showTitle": false,
     "title": ""
    }
   },
   "outputs": [],
   "source": [
    "# https://www.kaggle.com/vjchoudhary7/customer-segmentation-tutorial-in-python\n",
    "customers = pd.read_csv('../../../../Data/Mall_Customers.csv')\n",
    "customers.set_index('CustomerID', inplace = True)\n",
    "customers['Annual Income (k$)'] = customers['Annual Income (k$)']*1000\n",
    "customers.columns = ['gender', 'age', 'annual_income_$', 'spending_score']\n",
    "display(customers.head(5))\n",
    "print(customers.shape)"
   ]
  },
  {
   "cell_type": "markdown",
   "metadata": {
    "application/vnd.databricks.v1+cell": {
     "cellMetadata": {},
     "inputWidgets": {},
     "nuid": "ecd732c7-5546-4e46-aa54-8200d1a73bb7",
     "showTitle": false,
     "title": ""
    }
   },
   "source": [
    "The 'annual_income_$' has a very different scale compared to the other two numerical features. \n",
    "\n",
    "For distance based methods scaling is important if the original features have very different scales. In this example we will scale all numerical features with [`StandardScaler()`](https://scikit-learn.org/stable/modules/generated/sklearn.preprocessing.StandardScaler.html). It standardizes features by shifting the mean to zero and scaling everything to a unit variance."
   ]
  },
  {
   "cell_type": "code",
   "execution_count": 0,
   "metadata": {
    "application/vnd.databricks.v1+cell": {
     "cellMetadata": {
      "byteLimit": 2048000,
      "rowLimit": 10000
     },
     "inputWidgets": {},
     "nuid": "a230f838-dfb1-4a3e-8887-f34a171f2a4d",
     "showTitle": false,
     "title": ""
    }
   },
   "outputs": [],
   "source": [
    "from sklearn.preprocessing import StandardScaler\n",
    "\n",
    "scaler = StandardScaler()\n",
    "num_cols = customers.select_dtypes(exclude='object').columns # get numerical columns\n",
    "customers_scaled = customers.copy()\n",
    "customers_scaled[num_cols] = scaler.fit_transform(customers_scaled[num_cols]) # apply scaler to numerical columns\n",
    "customers_scaled.head()"
   ]
  },
  {
   "cell_type": "code",
   "execution_count": 0,
   "metadata": {
    "application/vnd.databricks.v1+cell": {
     "cellMetadata": {
      "byteLimit": 2048000,
      "rowLimit": 10000
     },
     "inputWidgets": {},
     "nuid": "94229a0b-a5ff-4c18-8657-392f92abc143",
     "showTitle": false,
     "title": ""
    }
   },
   "outputs": [],
   "source": [
    "customers.info()"
   ]
  },
  {
   "cell_type": "markdown",
   "metadata": {
    "application/vnd.databricks.v1+cell": {
     "cellMetadata": {},
     "inputWidgets": {},
     "nuid": "68eb9da3-2fc3-4b29-8dae-5419e87fbe9d",
     "showTitle": false,
     "title": ""
    }
   },
   "source": [
    "__TO DO__: Fit the KMeans model to the customers dataset.    \n",
    "**Note:** You will get an **error**. Don't worry, this one is on purpose. Proceed with the next cell after the error."
   ]
  },
  {
   "cell_type": "code",
   "execution_count": 0,
   "metadata": {
    "application/vnd.databricks.v1+cell": {
     "cellMetadata": {
      "byteLimit": 2048000,
      "rowLimit": 10000
     },
     "inputWidgets": {},
     "nuid": "b9099dd0-f7af-4959-9dba-a24d50ad03a2",
     "showTitle": false,
     "title": ""
    }
   },
   "outputs": [],
   "source": [
    "# Task\n",
    "KMeans(n_clusters=2, random_state=42).fit(customers)"
   ]
  },
  {
   "cell_type": "markdown",
   "metadata": {
    "application/vnd.databricks.v1+cell": {
     "cellMetadata": {},
     "inputWidgets": {},
     "nuid": "d40c6cd1-a0ee-4751-bc07-c91acd01c65c",
     "showTitle": false,
     "title": ""
    }
   },
   "source": [
    "What is the problem here?\n",
    "We have to transform non-numerical columns to numerical ones as it is not possible to calculate a distance between non-numerical features.\n",
    "\n",
    "To this end we will use the\n",
    "[`OneHotEncoder()`](https://scikit-learn.org/stable/modules/generated/sklearn.preprocessing.OneHotEncoder.html)\n",
    "from scikit-learn.\n",
    "Since we only want to transform the `gender` column the\n",
    "[`OneHotEncoder()`](https://scikit-learn.org/stable/modules/generated/sklearn.preprocessing.OneHotEncoder.html)\n",
    "will be used with\n",
    "[`ColumnTransformer()`](https://scikit-learn.org/stable/modules/generated/sklearn.compose.ColumnTransformer.html).\n",
    "To illustrate the possibilities of the\n",
    "[`ColumnTransformer()`](https://scikit-learn.org/stable/modules/generated/sklearn.compose.ColumnTransformer.html)\n",
    "we will also include the\n",
    "[`StandardScaler()`](https://scikit-learn.org/stable/modules/generated/sklearn.preprocessing.StandardScaler.html)."
   ]
  },
  {
   "cell_type": "code",
   "execution_count": 0,
   "metadata": {
    "application/vnd.databricks.v1+cell": {
     "cellMetadata": {
      "byteLimit": 2048000,
      "rowLimit": 10000
     },
     "inputWidgets": {},
     "nuid": "3b25f91a-7f9a-4f92-bda8-167d7611a278",
     "showTitle": false,
     "title": ""
    }
   },
   "outputs": [],
   "source": [
    "from sklearn.preprocessing import OneHotEncoder\n",
    "from sklearn.compose import ColumnTransformer\n",
    "\n",
    "cat_cols = [\"gender\"]\n",
    "\n",
    "column_transformer = ColumnTransformer(\n",
    "    [\n",
    "        (\"categorical\", OneHotEncoder(drop=\"first\"), cat_cols),\n",
    "        (\"numerical\", StandardScaler(), num_cols),\n",
    "    ],\n",
    "    remainder=\"passthrough\",\n",
    ")\n",
    "\n",
    "customers = column_transformer.fit_transform(customers)"
   ]
  },
  {
   "cell_type": "markdown",
   "metadata": {
    "application/vnd.databricks.v1+cell": {
     "cellMetadata": {},
     "inputWidgets": {},
     "nuid": "1fd76be5-9877-4c75-95ea-3c09bd8b206b",
     "showTitle": false,
     "title": ""
    }
   },
   "source": [
    "__TO DO__: Again, try to fit the KMeans model to the customers data. Now there should not be an error."
   ]
  },
  {
   "cell_type": "code",
   "execution_count": 0,
   "metadata": {
    "application/vnd.databricks.v1+cell": {
     "cellMetadata": {
      "byteLimit": 2048000,
      "rowLimit": 10000
     },
     "inputWidgets": {},
     "nuid": "9af8a95f-dd01-4acb-97f0-7f9c524b55fe",
     "showTitle": false,
     "title": ""
    }
   },
   "outputs": [],
   "source": [
    "# Task\n",
    "KMeans().fit(customers).labels_"
   ]
  },
  {
   "cell_type": "markdown",
   "metadata": {
    "application/vnd.databricks.v1+cell": {
     "cellMetadata": {},
     "inputWidgets": {},
     "nuid": "baa2aceb-7c5c-4c29-91d6-5bb725f7e7ef",
     "showTitle": false,
     "title": ""
    }
   },
   "source": [
    "## DBSCAN  \n",
    "#### This part is voluntary. Do it if you have managed to finish the first part before the time limit.  \n",
    "\n",
    "[DBSCAN: Density-Based Spatial Clustering of Applications with Noise](https://en.wikipedia.org/wiki/DBSCAN). This algorithm finds core samples of high density and expands clusters from them. It is good for data which contains clusters of similar density."
   ]
  },
  {
   "cell_type": "code",
   "execution_count": 0,
   "metadata": {
    "application/vnd.databricks.v1+cell": {
     "cellMetadata": {
      "byteLimit": 2048000,
      "rowLimit": 10000
     },
     "inputWidgets": {},
     "nuid": "30f7a809-5387-4a7f-8e17-796bc5e4659a",
     "showTitle": false,
     "title": ""
    }
   },
   "outputs": [],
   "source": [
    "from sklearn.cluster import DBSCAN\n",
    "from sklearn import datasets\n",
    "import matplotlib.pyplot as plt\n",
    "from sklearn.cluster import KMeans\n",
    "import numpy as np\n",
    "import pandas as pd"
   ]
  },
  {
   "cell_type": "markdown",
   "metadata": {
    "application/vnd.databricks.v1+cell": {
     "cellMetadata": {},
     "inputWidgets": {},
     "nuid": "19ed0e15-8801-40c9-a73b-6d91d412c081",
     "showTitle": false,
     "title": ""
    }
   },
   "source": [
    "Import the dataset and plot it. Clearly there should be two clusters:"
   ]
  },
  {
   "cell_type": "code",
   "execution_count": 0,
   "metadata": {
    "application/vnd.databricks.v1+cell": {
     "cellMetadata": {
      "byteLimit": 2048000,
      "rowLimit": 10000
     },
     "inputWidgets": {},
     "nuid": "d5b34218-f3db-4a4e-9e2e-da9cff9f083e",
     "showTitle": false,
     "title": ""
    }
   },
   "outputs": [],
   "source": [
    "x_moons, y_moons = datasets.make_moons(n_samples=1000, noise=0.05,random_state=42)\n",
    "plt.scatter(x_moons[:, 0], x_moons[:, 1], c=y_moons);"
   ]
  },
  {
   "cell_type": "markdown",
   "metadata": {
    "application/vnd.databricks.v1+cell": {
     "cellMetadata": {},
     "inputWidgets": {},
     "nuid": "5dd81528-22a2-486d-832e-21604796596e",
     "showTitle": false,
     "title": ""
    }
   },
   "source": [
    "KMeans fails to find appropriate clusters in this example as it searches for **convex shapes**. Take a look at the plot below."
   ]
  },
  {
   "cell_type": "code",
   "execution_count": 0,
   "metadata": {
    "application/vnd.databricks.v1+cell": {
     "cellMetadata": {
      "byteLimit": 2048000,
      "rowLimit": 10000
     },
     "inputWidgets": {},
     "nuid": "cbc6882b-a295-4e9d-bbe0-9781fb39bedd",
     "showTitle": false,
     "title": ""
    }
   },
   "outputs": [],
   "source": [
    "kmeans_labels = KMeans(2).fit(x_moons).labels_\n",
    "plt.scatter(x_moons[:, 0], x_moons[:, 1], c=kmeans_labels);"
   ]
  },
  {
   "cell_type": "markdown",
   "metadata": {
    "application/vnd.databricks.v1+cell": {
     "cellMetadata": {},
     "inputWidgets": {},
     "nuid": "94d138d8-fc92-4cbe-a2b8-ed198782fd10",
     "showTitle": false,
     "title": ""
    }
   },
   "source": [
    "__TO DO__: Initiate [`DBSCAN()`](https://scikit-learn.org/stable/modules/generated/sklearn.cluster.DBSCAN.html)  with `eps=0.05` and` min_samples=5` and assign it to the variable `dbscan`. Then fit the model to `x_moons`."
   ]
  },
  {
   "cell_type": "code",
   "execution_count": 0,
   "metadata": {
    "application/vnd.databricks.v1+cell": {
     "cellMetadata": {
      "byteLimit": 2048000,
      "rowLimit": 10000
     },
     "inputWidgets": {},
     "nuid": "30be5aff-4758-4d52-aa6f-6060a0a2baec",
     "showTitle": false,
     "title": ""
    }
   },
   "outputs": [],
   "source": [
    "# Task\n",
    "dbscan = DBSCAN(eps=0.05, min_samples=5)\n",
    "dbscan.fit(x_moons)"
   ]
  },
  {
   "cell_type": "markdown",
   "metadata": {
    "application/vnd.databricks.v1+cell": {
     "cellMetadata": {},
     "inputWidgets": {},
     "nuid": "ff1396aa-9edb-40f8-95bb-6143320131bd",
     "showTitle": false,
     "title": ""
    }
   },
   "source": [
    "__TO DO__: Return the labels of `dbscan` with the attribute `labels_`. Assign the labels to the variable `dbscan_labels`."
   ]
  },
  {
   "cell_type": "code",
   "execution_count": 0,
   "metadata": {
    "application/vnd.databricks.v1+cell": {
     "cellMetadata": {
      "byteLimit": 2048000,
      "rowLimit": 10000
     },
     "inputWidgets": {},
     "nuid": "19a07b19-83fa-4281-85d7-c3c81650b9cd",
     "showTitle": false,
     "title": ""
    }
   },
   "outputs": [],
   "source": [
    "# Task\n",
    "dbscan_labels = dbscan.labels_\n",
    "dbscan_labels"
   ]
  },
  {
   "cell_type": "markdown",
   "metadata": {
    "application/vnd.databricks.v1+cell": {
     "cellMetadata": {},
     "inputWidgets": {},
     "nuid": "efbad1f9-a4ff-4fca-8761-c1621d1bdb10",
     "showTitle": false,
     "title": ""
    }
   },
   "source": [
    "Notice that there are labels with value -1. This -1 denotes outliers."
   ]
  },
  {
   "cell_type": "code",
   "execution_count": 0,
   "metadata": {
    "application/vnd.databricks.v1+cell": {
     "cellMetadata": {
      "byteLimit": 2048000,
      "rowLimit": 10000
     },
     "inputWidgets": {},
     "nuid": "da35dccf-7365-428c-8f72-d84680005fd5",
     "showTitle": false,
     "title": ""
    }
   },
   "outputs": [],
   "source": [
    "unique, counts = np.unique(dbscan_labels, return_counts=True)\n",
    "display(pd.DataFrame(np.asarray((unique, counts)).T, columns = ['labels', 'frequency']))"
   ]
  },
  {
   "cell_type": "markdown",
   "metadata": {
    "application/vnd.databricks.v1+cell": {
     "cellMetadata": {},
     "inputWidgets": {},
     "nuid": "3a4cd33e-7c8b-4794-9a6a-f955281d4fe7",
     "showTitle": false,
     "title": ""
    }
   },
   "source": [
    "The clusters and outliers on a plot"
   ]
  },
  {
   "cell_type": "code",
   "execution_count": 0,
   "metadata": {
    "application/vnd.databricks.v1+cell": {
     "cellMetadata": {
      "byteLimit": 2048000,
      "rowLimit": 10000
     },
     "inputWidgets": {},
     "nuid": "1884bb28-b89e-495b-a61b-bee78be84108",
     "showTitle": false,
     "title": ""
    }
   },
   "outputs": [],
   "source": [
    "plt.scatter(x_moons[:, 0], x_moons[:, 1], c=dbscan_labels, alpha=0.7);"
   ]
  },
  {
   "cell_type": "markdown",
   "metadata": {
    "application/vnd.databricks.v1+cell": {
     "cellMetadata": {},
     "inputWidgets": {},
     "nuid": "4ab48938-77c0-4a30-a918-8e0f5af57918",
     "showTitle": false,
     "title": ""
    }
   },
   "source": [
    "__TO DO__: The indices of the core instances are available through the `core_sample_indices_` attribute. Assign them to the `comps_idx` variable."
   ]
  },
  {
   "cell_type": "code",
   "execution_count": 0,
   "metadata": {
    "application/vnd.databricks.v1+cell": {
     "cellMetadata": {
      "byteLimit": 2048000,
      "rowLimit": 10000
     },
     "inputWidgets": {},
     "nuid": "afbe02c9-0a67-4a9f-a7de-cf27123fdb2e",
     "showTitle": false,
     "title": ""
    }
   },
   "outputs": [],
   "source": [
    "# Task\n",
    "comps_idx = dbscan.core_sample_indices_"
   ]
  },
  {
   "cell_type": "markdown",
   "metadata": {
    "application/vnd.databricks.v1+cell": {
     "cellMetadata": {},
     "inputWidgets": {},
     "nuid": "1423b07c-c4c3-4d39-bf42-f6c0ad323645",
     "showTitle": false,
     "title": ""
    }
   },
   "source": [
    "The core instances are stored in the `components_` attribute. Below we create a mask for indices which are core instances."
   ]
  },
  {
   "cell_type": "code",
   "execution_count": 0,
   "metadata": {
    "application/vnd.databricks.v1+cell": {
     "cellMetadata": {
      "byteLimit": 2048000,
      "rowLimit": 10000
     },
     "inputWidgets": {},
     "nuid": "7cfe16f5-dda7-4a24-a9b8-a1f92f0de256",
     "showTitle": false,
     "title": ""
    }
   },
   "outputs": [],
   "source": [
    "print(dbscan.components_)\n",
    "\n",
    "comps_idx_boolean = np.array([(i in comps_idx) for i in range(len(x_moons))]) # this creates a boolean mask for core instances "
   ]
  },
  {
   "cell_type": "code",
   "execution_count": 0,
   "metadata": {
    "application/vnd.databricks.v1+cell": {
     "cellMetadata": {
      "byteLimit": 2048000,
      "rowLimit": 10000
     },
     "inputWidgets": {},
     "nuid": "369c26d2-53b3-419c-911b-b003e605d274",
     "showTitle": false,
     "title": ""
    }
   },
   "outputs": [],
   "source": [
    "plt.scatter(x_moons[comps_idx_boolean, 0], x_moons[comps_idx_boolean, 1], c='r', alpha=0.3, label='core')\n",
    "plt.scatter(x_moons[~comps_idx_boolean, 0], x_moons[~comps_idx_boolean, 1], c='b', alpha=0.6, linewidths = 0.1, label='outliers')\n",
    "plt.legend()\n",
    "plt.title('Core vs non-core instances');"
   ]
  },
  {
   "cell_type": "markdown",
   "metadata": {
    "application/vnd.databricks.v1+cell": {
     "cellMetadata": {},
     "inputWidgets": {},
     "nuid": "e6abb4cd-9ace-406f-b125-1e42e30ceca7",
     "showTitle": false,
     "title": ""
    }
   },
   "source": [
    "The [`DBSCAN()`](https://scikit-learn.org/stable/modules/generated/sklearn.cluster.DBSCAN.html) clustering did not return the expected results. Let's try different `eps` and `min_samples` hyperparameters. \n",
    "\n",
    "__TO DO__: Instantiate and fit [`DBSCAN()`](https://scikit-learn.org/stable/modules/generated/sklearn.cluster.DBSCAN.html) again with `eps=0.2` and `min_samples=5`. Plot the resulting clusters."
   ]
  },
  {
   "cell_type": "code",
   "execution_count": 0,
   "metadata": {
    "application/vnd.databricks.v1+cell": {
     "cellMetadata": {
      "byteLimit": 2048000,
      "rowLimit": 10000
     },
     "inputWidgets": {},
     "nuid": "60fde688-026b-4ef1-8132-52bb85c174cf",
     "showTitle": false,
     "title": ""
    }
   },
   "outputs": [],
   "source": [
    "# Task\n",
    "dbscan = DBSCAN(eps=0.2, min_samples=5)\n",
    "dbscan.fit(x_moons)\n",
    "dbscan_labels = dbscan.labels_\n",
    "plt.scatter(x_moons[:, 0], x_moons[:, 1], c=dbscan_labels, alpha=0.7);"
   ]
  },
  {
   "cell_type": "markdown",
   "metadata": {
    "application/vnd.databricks.v1+cell": {
     "cellMetadata": {},
     "inputWidgets": {},
     "nuid": "651f3ba7-c135-469e-9ef9-5da4b069fb1a",
     "showTitle": false,
     "title": ""
    }
   },
   "source": [
    "**Notice that DBSCAN class does not have a `.predict()` method**, although it has a `fit_predict()` method. This is because DBSCAN cannot predict a cluster for a new instance!"
   ]
  },
  {
   "cell_type": "code",
   "execution_count": 0,
   "metadata": {
    "application/vnd.databricks.v1+cell": {
     "cellMetadata": {
      "byteLimit": 2048000,
      "rowLimit": 10000
     },
     "inputWidgets": {},
     "nuid": "b2f76523-d4f1-408b-9838-d32970a11522",
     "showTitle": false,
     "title": ""
    }
   },
   "outputs": [],
   "source": [
    "dbscan.predict(x_moons)"
   ]
  },
  {
   "cell_type": "markdown",
   "metadata": {
    "application/vnd.databricks.v1+cell": {
     "cellMetadata": {},
     "inputWidgets": {},
     "nuid": "462d259b-8a00-467c-b19c-0e28137d394f",
     "showTitle": false,
     "title": ""
    }
   },
   "source": [
    "Some material adapted for RBI internal purposes with full permissions from original authors."
   ]
  }
 ],
 "metadata": {
  "application/vnd.databricks.v1+notebook": {
   "dashboards": [],
   "environmentMetadata": null,
   "language": "python",
   "notebookMetadata": {
    "pythonIndentUnit": 4
   },
   "notebookName": "[Answer]1_clustering-contributors_jupyter",
   "widgets": {}
  }
 },
 "nbformat": 4,
 "nbformat_minor": 0
}
