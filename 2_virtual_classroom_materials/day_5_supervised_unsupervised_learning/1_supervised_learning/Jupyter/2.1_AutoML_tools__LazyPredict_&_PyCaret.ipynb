{
 "cells": [
  {
   "cell_type": "markdown",
   "metadata": {
    "application/vnd.databricks.v1+cell": {
     "cellMetadata": {
      "byteLimit": 2048000,
      "rowLimit": 10000
     },
     "inputWidgets": {},
     "nuid": "1516dc98-e014-4bc6-b832-db82ba7b6c3a",
     "showTitle": false,
     "title": ""
    }
   },
   "source": [
    "# AutoML tools: LazyPredict & PyCaret"
   ]
  },
  {
   "cell_type": "markdown",
   "metadata": {
    "application/vnd.databricks.v1+cell": {
     "cellMetadata": {
      "byteLimit": 2048000,
      "rowLimit": 10000
     },
     "inputWidgets": {},
     "nuid": "e08ea183-67a6-415e-bcd0-1abc52fd0fbf",
     "showTitle": false,
     "title": ""
    }
   },
   "source": [
    "In this notebook, we will explore two powerful AutoML libraries: **LazyPredict** and **PyCaret**. These libraries provide user-friendly interfaces for automating various steps in the machine learning workflow, making it easier for both beginners and experienced data scientists to build and evaluate machine learning models. \n",
    "\n",
    "We will be using these tools for regression (Boston dataset) and classification (Titanic dataset) problems. We will compare their features and limitations. \n",
    "\n",
    "First, we install AutoML libraries."
   ]
  },
  {
   "cell_type": "code",
   "execution_count": 0,
   "metadata": {
    "application/vnd.databricks.v1+cell": {
     "cellMetadata": {
      "byteLimit": 2048000,
      "rowLimit": 10000
     },
     "inputWidgets": {},
     "nuid": "c71d677c-eb09-4174-befb-daef05d95d6e",
     "showTitle": false,
     "title": ""
    }
   },
   "outputs": [
    {
     "output_type": "stream",
     "name": "stdout",
     "output_type": "stream",
     "text": [
      "Python interpreter will be restarted.\nPython interpreter will be restarted.\n"
     ]
    }
   ],
   "source": [
    "pip install -q pycaret lazypredict"
   ]
  },
  {
   "cell_type": "markdown",
   "metadata": {
    "application/vnd.databricks.v1+cell": {
     "cellMetadata": {
      "byteLimit": 2048000,
      "rowLimit": 10000
     },
     "inputWidgets": {},
     "nuid": "82114827-b237-424a-88dd-32c50d8a6778",
     "showTitle": false,
     "title": ""
    }
   },
   "source": [
    "Then we load the Boston dataset using Pandas."
   ]
  },
  {
   "cell_type": "code",
   "execution_count": 0,
   "metadata": {
    "application/vnd.databricks.v1+cell": {
     "cellMetadata": {
      "byteLimit": 2048000,
      "rowLimit": 10000
     },
     "inputWidgets": {},
     "nuid": "737ea26d-9662-4647-9c19-68409ecb07fa",
     "showTitle": false,
     "title": ""
    }
   },
   "outputs": [
    {
     "output_type": "display_data",
     "data": {
      "application/vnd.databricks.v1+bamboolib_hint": "{\"pd.DataFrames\": [], \"version\": \"0.0.1\"}",
      "text/plain": []
     },
     "metadata": {},
     "output_type": "display_data"
    }
   ],
   "source": [
    "import pandas as pd\n",
    "\n",
    "boston_df = pd.read_csv('../../Data/Boston.csv')"
   ]
  },
  {
   "cell_type": "markdown",
   "metadata": {
    "application/vnd.databricks.v1+cell": {
     "cellMetadata": {
      "byteLimit": 2048000,
      "rowLimit": 10000
     },
     "inputWidgets": {},
     "nuid": "f5bf4b9d-df15-4bad-89b7-d41bf15e8deb",
     "showTitle": false,
     "title": ""
    }
   },
   "source": [
    "Before using AutoML tools, let's take a quick look at our dataset and its structure:"
   ]
  },
  {
   "cell_type": "code",
   "execution_count": 0,
   "metadata": {
    "application/vnd.databricks.v1+cell": {
     "cellMetadata": {
      "byteLimit": 2048000,
      "rowLimit": 10000
     },
     "inputWidgets": {},
     "nuid": "bae50738-be08-49e0-bec6-995106f70862",
     "showTitle": false,
     "title": ""
    }
   },
   "outputs": [
    {
     "output_type": "display_data",
     "data": {
      "text/html": [
       "<div>\n",
       "<style scoped>\n",
       "    .dataframe tbody tr th:only-of-type {\n",
       "        vertical-align: middle;\n",
       "    }\n",
       "\n",
       "    .dataframe tbody tr th {\n",
       "        vertical-align: top;\n",
       "    }\n",
       "\n",
       "    .dataframe thead th {\n",
       "        text-align: right;\n",
       "    }\n",
       "</style>\n",
       "<table border=\"1\" class=\"dataframe\">\n",
       "  <thead>\n",
       "    <tr style=\"text-align: right;\">\n",
       "      <th></th>\n",
       "      <th>Unnamed: 0</th>\n",
       "      <th>CRIM</th>\n",
       "      <th>ZN</th>\n",
       "      <th>INDUS</th>\n",
       "      <th>CHAS</th>\n",
       "      <th>NOX</th>\n",
       "      <th>RM</th>\n",
       "      <th>AGE</th>\n",
       "      <th>DIS</th>\n",
       "      <th>RAD</th>\n",
       "      <th>TAX</th>\n",
       "      <th>PTRATIO</th>\n",
       "      <th>B</th>\n",
       "      <th>LSTAT</th>\n",
       "      <th>target</th>\n",
       "    </tr>\n",
       "  </thead>\n",
       "  <tbody>\n",
       "    <tr>\n",
       "      <th>0</th>\n",
       "      <td>0</td>\n",
       "      <td>0.00632</td>\n",
       "      <td>18.0</td>\n",
       "      <td>2.31</td>\n",
       "      <td>0.0</td>\n",
       "      <td>0.538</td>\n",
       "      <td>6.575</td>\n",
       "      <td>65.2</td>\n",
       "      <td>4.0900</td>\n",
       "      <td>1.0</td>\n",
       "      <td>296.0</td>\n",
       "      <td>15.3</td>\n",
       "      <td>396.90</td>\n",
       "      <td>4.98</td>\n",
       "      <td>24.0</td>\n",
       "    </tr>\n",
       "    <tr>\n",
       "      <th>1</th>\n",
       "      <td>1</td>\n",
       "      <td>0.02731</td>\n",
       "      <td>0.0</td>\n",
       "      <td>7.07</td>\n",
       "      <td>0.0</td>\n",
       "      <td>0.469</td>\n",
       "      <td>6.421</td>\n",
       "      <td>78.9</td>\n",
       "      <td>4.9671</td>\n",
       "      <td>2.0</td>\n",
       "      <td>242.0</td>\n",
       "      <td>17.8</td>\n",
       "      <td>396.90</td>\n",
       "      <td>9.14</td>\n",
       "      <td>21.6</td>\n",
       "    </tr>\n",
       "    <tr>\n",
       "      <th>2</th>\n",
       "      <td>2</td>\n",
       "      <td>0.02729</td>\n",
       "      <td>0.0</td>\n",
       "      <td>7.07</td>\n",
       "      <td>0.0</td>\n",
       "      <td>0.469</td>\n",
       "      <td>7.185</td>\n",
       "      <td>61.1</td>\n",
       "      <td>4.9671</td>\n",
       "      <td>2.0</td>\n",
       "      <td>242.0</td>\n",
       "      <td>17.8</td>\n",
       "      <td>392.83</td>\n",
       "      <td>4.03</td>\n",
       "      <td>34.7</td>\n",
       "    </tr>\n",
       "    <tr>\n",
       "      <th>3</th>\n",
       "      <td>3</td>\n",
       "      <td>0.03237</td>\n",
       "      <td>0.0</td>\n",
       "      <td>2.18</td>\n",
       "      <td>0.0</td>\n",
       "      <td>0.458</td>\n",
       "      <td>6.998</td>\n",
       "      <td>45.8</td>\n",
       "      <td>6.0622</td>\n",
       "      <td>3.0</td>\n",
       "      <td>222.0</td>\n",
       "      <td>18.7</td>\n",
       "      <td>394.63</td>\n",
       "      <td>2.94</td>\n",
       "      <td>33.4</td>\n",
       "    </tr>\n",
       "    <tr>\n",
       "      <th>4</th>\n",
       "      <td>4</td>\n",
       "      <td>0.06905</td>\n",
       "      <td>0.0</td>\n",
       "      <td>2.18</td>\n",
       "      <td>0.0</td>\n",
       "      <td>0.458</td>\n",
       "      <td>7.147</td>\n",
       "      <td>54.2</td>\n",
       "      <td>6.0622</td>\n",
       "      <td>3.0</td>\n",
       "      <td>222.0</td>\n",
       "      <td>18.7</td>\n",
       "      <td>396.90</td>\n",
       "      <td>5.33</td>\n",
       "      <td>36.2</td>\n",
       "    </tr>\n",
       "  </tbody>\n",
       "</table>\n",
       "</div>"
      ]
     },
     "metadata": {
      "application/vnd.databricks.v1+output": {
       "addedWidgets": {},
       "arguments": {},
       "data": "<div>\n<style scoped>\n    .dataframe tbody tr th:only-of-type {\n        vertical-align: middle;\n    }\n\n    .dataframe tbody tr th {\n        vertical-align: top;\n    }\n\n    .dataframe thead th {\n        text-align: right;\n    }\n</style>\n<table border=\"1\" class=\"dataframe\">\n  <thead>\n    <tr style=\"text-align: right;\">\n      <th></th>\n      <th>Unnamed: 0</th>\n      <th>CRIM</th>\n      <th>ZN</th>\n      <th>INDUS</th>\n      <th>CHAS</th>\n      <th>NOX</th>\n      <th>RM</th>\n      <th>AGE</th>\n      <th>DIS</th>\n      <th>RAD</th>\n      <th>TAX</th>\n      <th>PTRATIO</th>\n      <th>B</th>\n      <th>LSTAT</th>\n      <th>target</th>\n    </tr>\n  </thead>\n  <tbody>\n    <tr>\n      <th>0</th>\n      <td>0</td>\n      <td>0.00632</td>\n      <td>18.0</td>\n      <td>2.31</td>\n      <td>0.0</td>\n      <td>0.538</td>\n      <td>6.575</td>\n      <td>65.2</td>\n      <td>4.0900</td>\n      <td>1.0</td>\n      <td>296.0</td>\n      <td>15.3</td>\n      <td>396.90</td>\n      <td>4.98</td>\n      <td>24.0</td>\n    </tr>\n    <tr>\n      <th>1</th>\n      <td>1</td>\n      <td>0.02731</td>\n      <td>0.0</td>\n      <td>7.07</td>\n      <td>0.0</td>\n      <td>0.469</td>\n      <td>6.421</td>\n      <td>78.9</td>\n      <td>4.9671</td>\n      <td>2.0</td>\n      <td>242.0</td>\n      <td>17.8</td>\n      <td>396.90</td>\n      <td>9.14</td>\n      <td>21.6</td>\n    </tr>\n    <tr>\n      <th>2</th>\n      <td>2</td>\n      <td>0.02729</td>\n      <td>0.0</td>\n      <td>7.07</td>\n      <td>0.0</td>\n      <td>0.469</td>\n      <td>7.185</td>\n      <td>61.1</td>\n      <td>4.9671</td>\n      <td>2.0</td>\n      <td>242.0</td>\n      <td>17.8</td>\n      <td>392.83</td>\n      <td>4.03</td>\n      <td>34.7</td>\n    </tr>\n    <tr>\n      <th>3</th>\n      <td>3</td>\n      <td>0.03237</td>\n      <td>0.0</td>\n      <td>2.18</td>\n      <td>0.0</td>\n      <td>0.458</td>\n      <td>6.998</td>\n      <td>45.8</td>\n      <td>6.0622</td>\n      <td>3.0</td>\n      <td>222.0</td>\n      <td>18.7</td>\n      <td>394.63</td>\n      <td>2.94</td>\n      <td>33.4</td>\n    </tr>\n    <tr>\n      <th>4</th>\n      <td>4</td>\n      <td>0.06905</td>\n      <td>0.0</td>\n      <td>2.18</td>\n      <td>0.0</td>\n      <td>0.458</td>\n      <td>7.147</td>\n      <td>54.2</td>\n      <td>6.0622</td>\n      <td>3.0</td>\n      <td>222.0</td>\n      <td>18.7</td>\n      <td>396.90</td>\n      <td>5.33</td>\n      <td>36.2</td>\n    </tr>\n  </tbody>\n</table>\n</div>",
       "datasetInfos": [],
       "metadata": {},
       "removedWidgets": [],
       "textData": null,
       "type": "htmlSandbox"
      }
     },
     "output_type": "display_data"
    }
   ],
   "source": [
    "boston_df.head()"
   ]
  },
  {
   "cell_type": "code",
   "execution_count": 0,
   "metadata": {
    "application/vnd.databricks.v1+cell": {
     "cellMetadata": {
      "byteLimit": 2048000,
      "rowLimit": 10000
     },
     "inputWidgets": {},
     "nuid": "d7d9fed7-4aa0-418c-8e57-03dca0035c81",
     "showTitle": false,
     "title": ""
    }
   },
   "outputs": [
    {
     "output_type": "display_data",
     "data": {
      "text/html": [
       "<div>\n",
       "<style scoped>\n",
       "    .dataframe tbody tr th:only-of-type {\n",
       "        vertical-align: middle;\n",
       "    }\n",
       "\n",
       "    .dataframe tbody tr th {\n",
       "        vertical-align: top;\n",
       "    }\n",
       "\n",
       "    .dataframe thead th {\n",
       "        text-align: right;\n",
       "    }\n",
       "</style>\n",
       "<table border=\"1\" class=\"dataframe\">\n",
       "  <thead>\n",
       "    <tr style=\"text-align: right;\">\n",
       "      <th></th>\n",
       "      <th>Unnamed: 0</th>\n",
       "      <th>CRIM</th>\n",
       "      <th>ZN</th>\n",
       "      <th>INDUS</th>\n",
       "      <th>CHAS</th>\n",
       "      <th>NOX</th>\n",
       "      <th>RM</th>\n",
       "      <th>AGE</th>\n",
       "      <th>DIS</th>\n",
       "      <th>RAD</th>\n",
       "      <th>TAX</th>\n",
       "      <th>PTRATIO</th>\n",
       "      <th>B</th>\n",
       "      <th>LSTAT</th>\n",
       "      <th>target</th>\n",
       "    </tr>\n",
       "  </thead>\n",
       "  <tbody>\n",
       "    <tr>\n",
       "      <th>count</th>\n",
       "      <td>506.000000</td>\n",
       "      <td>506.000000</td>\n",
       "      <td>506.000000</td>\n",
       "      <td>506.000000</td>\n",
       "      <td>506.000000</td>\n",
       "      <td>506.000000</td>\n",
       "      <td>506.000000</td>\n",
       "      <td>506.000000</td>\n",
       "      <td>506.000000</td>\n",
       "      <td>506.000000</td>\n",
       "      <td>506.000000</td>\n",
       "      <td>506.000000</td>\n",
       "      <td>506.000000</td>\n",
       "      <td>506.000000</td>\n",
       "      <td>506.000000</td>\n",
       "    </tr>\n",
       "    <tr>\n",
       "      <th>mean</th>\n",
       "      <td>252.500000</td>\n",
       "      <td>3.613524</td>\n",
       "      <td>11.363636</td>\n",
       "      <td>11.136779</td>\n",
       "      <td>0.069170</td>\n",
       "      <td>0.554695</td>\n",
       "      <td>6.284634</td>\n",
       "      <td>68.574901</td>\n",
       "      <td>3.795043</td>\n",
       "      <td>9.549407</td>\n",
       "      <td>408.237154</td>\n",
       "      <td>18.455534</td>\n",
       "      <td>356.674032</td>\n",
       "      <td>12.653063</td>\n",
       "      <td>22.532806</td>\n",
       "    </tr>\n",
       "    <tr>\n",
       "      <th>std</th>\n",
       "      <td>146.213884</td>\n",
       "      <td>8.601545</td>\n",
       "      <td>23.322453</td>\n",
       "      <td>6.860353</td>\n",
       "      <td>0.253994</td>\n",
       "      <td>0.115878</td>\n",
       "      <td>0.702617</td>\n",
       "      <td>28.148861</td>\n",
       "      <td>2.105710</td>\n",
       "      <td>8.707259</td>\n",
       "      <td>168.537116</td>\n",
       "      <td>2.164946</td>\n",
       "      <td>91.294864</td>\n",
       "      <td>7.141062</td>\n",
       "      <td>9.197104</td>\n",
       "    </tr>\n",
       "    <tr>\n",
       "      <th>min</th>\n",
       "      <td>0.000000</td>\n",
       "      <td>0.006320</td>\n",
       "      <td>0.000000</td>\n",
       "      <td>0.460000</td>\n",
       "      <td>0.000000</td>\n",
       "      <td>0.385000</td>\n",
       "      <td>3.561000</td>\n",
       "      <td>2.900000</td>\n",
       "      <td>1.129600</td>\n",
       "      <td>1.000000</td>\n",
       "      <td>187.000000</td>\n",
       "      <td>12.600000</td>\n",
       "      <td>0.320000</td>\n",
       "      <td>1.730000</td>\n",
       "      <td>5.000000</td>\n",
       "    </tr>\n",
       "    <tr>\n",
       "      <th>25%</th>\n",
       "      <td>126.250000</td>\n",
       "      <td>0.082045</td>\n",
       "      <td>0.000000</td>\n",
       "      <td>5.190000</td>\n",
       "      <td>0.000000</td>\n",
       "      <td>0.449000</td>\n",
       "      <td>5.885500</td>\n",
       "      <td>45.025000</td>\n",
       "      <td>2.100175</td>\n",
       "      <td>4.000000</td>\n",
       "      <td>279.000000</td>\n",
       "      <td>17.400000</td>\n",
       "      <td>375.377500</td>\n",
       "      <td>6.950000</td>\n",
       "      <td>17.025000</td>\n",
       "    </tr>\n",
       "    <tr>\n",
       "      <th>50%</th>\n",
       "      <td>252.500000</td>\n",
       "      <td>0.256510</td>\n",
       "      <td>0.000000</td>\n",
       "      <td>9.690000</td>\n",
       "      <td>0.000000</td>\n",
       "      <td>0.538000</td>\n",
       "      <td>6.208500</td>\n",
       "      <td>77.500000</td>\n",
       "      <td>3.207450</td>\n",
       "      <td>5.000000</td>\n",
       "      <td>330.000000</td>\n",
       "      <td>19.050000</td>\n",
       "      <td>391.440000</td>\n",
       "      <td>11.360000</td>\n",
       "      <td>21.200000</td>\n",
       "    </tr>\n",
       "    <tr>\n",
       "      <th>75%</th>\n",
       "      <td>378.750000</td>\n",
       "      <td>3.677083</td>\n",
       "      <td>12.500000</td>\n",
       "      <td>18.100000</td>\n",
       "      <td>0.000000</td>\n",
       "      <td>0.624000</td>\n",
       "      <td>6.623500</td>\n",
       "      <td>94.075000</td>\n",
       "      <td>5.188425</td>\n",
       "      <td>24.000000</td>\n",
       "      <td>666.000000</td>\n",
       "      <td>20.200000</td>\n",
       "      <td>396.225000</td>\n",
       "      <td>16.955000</td>\n",
       "      <td>25.000000</td>\n",
       "    </tr>\n",
       "    <tr>\n",
       "      <th>max</th>\n",
       "      <td>505.000000</td>\n",
       "      <td>88.976200</td>\n",
       "      <td>100.000000</td>\n",
       "      <td>27.740000</td>\n",
       "      <td>1.000000</td>\n",
       "      <td>0.871000</td>\n",
       "      <td>8.780000</td>\n",
       "      <td>100.000000</td>\n",
       "      <td>12.126500</td>\n",
       "      <td>24.000000</td>\n",
       "      <td>711.000000</td>\n",
       "      <td>22.000000</td>\n",
       "      <td>396.900000</td>\n",
       "      <td>37.970000</td>\n",
       "      <td>50.000000</td>\n",
       "    </tr>\n",
       "  </tbody>\n",
       "</table>\n",
       "</div>"
      ]
     },
     "metadata": {
      "application/vnd.databricks.v1+output": {
       "addedWidgets": {},
       "arguments": {},
       "data": "<div>\n<style scoped>\n    .dataframe tbody tr th:only-of-type {\n        vertical-align: middle;\n    }\n\n    .dataframe tbody tr th {\n        vertical-align: top;\n    }\n\n    .dataframe thead th {\n        text-align: right;\n    }\n</style>\n<table border=\"1\" class=\"dataframe\">\n  <thead>\n    <tr style=\"text-align: right;\">\n      <th></th>\n      <th>Unnamed: 0</th>\n      <th>CRIM</th>\n      <th>ZN</th>\n      <th>INDUS</th>\n      <th>CHAS</th>\n      <th>NOX</th>\n      <th>RM</th>\n      <th>AGE</th>\n      <th>DIS</th>\n      <th>RAD</th>\n      <th>TAX</th>\n      <th>PTRATIO</th>\n      <th>B</th>\n      <th>LSTAT</th>\n      <th>target</th>\n    </tr>\n  </thead>\n  <tbody>\n    <tr>\n      <th>count</th>\n      <td>506.000000</td>\n      <td>506.000000</td>\n      <td>506.000000</td>\n      <td>506.000000</td>\n      <td>506.000000</td>\n      <td>506.000000</td>\n      <td>506.000000</td>\n      <td>506.000000</td>\n      <td>506.000000</td>\n      <td>506.000000</td>\n      <td>506.000000</td>\n      <td>506.000000</td>\n      <td>506.000000</td>\n      <td>506.000000</td>\n      <td>506.000000</td>\n    </tr>\n    <tr>\n      <th>mean</th>\n      <td>252.500000</td>\n      <td>3.613524</td>\n      <td>11.363636</td>\n      <td>11.136779</td>\n      <td>0.069170</td>\n      <td>0.554695</td>\n      <td>6.284634</td>\n      <td>68.574901</td>\n      <td>3.795043</td>\n      <td>9.549407</td>\n      <td>408.237154</td>\n      <td>18.455534</td>\n      <td>356.674032</td>\n      <td>12.653063</td>\n      <td>22.532806</td>\n    </tr>\n    <tr>\n      <th>std</th>\n      <td>146.213884</td>\n      <td>8.601545</td>\n      <td>23.322453</td>\n      <td>6.860353</td>\n      <td>0.253994</td>\n      <td>0.115878</td>\n      <td>0.702617</td>\n      <td>28.148861</td>\n      <td>2.105710</td>\n      <td>8.707259</td>\n      <td>168.537116</td>\n      <td>2.164946</td>\n      <td>91.294864</td>\n      <td>7.141062</td>\n      <td>9.197104</td>\n    </tr>\n    <tr>\n      <th>min</th>\n      <td>0.000000</td>\n      <td>0.006320</td>\n      <td>0.000000</td>\n      <td>0.460000</td>\n      <td>0.000000</td>\n      <td>0.385000</td>\n      <td>3.561000</td>\n      <td>2.900000</td>\n      <td>1.129600</td>\n      <td>1.000000</td>\n      <td>187.000000</td>\n      <td>12.600000</td>\n      <td>0.320000</td>\n      <td>1.730000</td>\n      <td>5.000000</td>\n    </tr>\n    <tr>\n      <th>25%</th>\n      <td>126.250000</td>\n      <td>0.082045</td>\n      <td>0.000000</td>\n      <td>5.190000</td>\n      <td>0.000000</td>\n      <td>0.449000</td>\n      <td>5.885500</td>\n      <td>45.025000</td>\n      <td>2.100175</td>\n      <td>4.000000</td>\n      <td>279.000000</td>\n      <td>17.400000</td>\n      <td>375.377500</td>\n      <td>6.950000</td>\n      <td>17.025000</td>\n    </tr>\n    <tr>\n      <th>50%</th>\n      <td>252.500000</td>\n      <td>0.256510</td>\n      <td>0.000000</td>\n      <td>9.690000</td>\n      <td>0.000000</td>\n      <td>0.538000</td>\n      <td>6.208500</td>\n      <td>77.500000</td>\n      <td>3.207450</td>\n      <td>5.000000</td>\n      <td>330.000000</td>\n      <td>19.050000</td>\n      <td>391.440000</td>\n      <td>11.360000</td>\n      <td>21.200000</td>\n    </tr>\n    <tr>\n      <th>75%</th>\n      <td>378.750000</td>\n      <td>3.677083</td>\n      <td>12.500000</td>\n      <td>18.100000</td>\n      <td>0.000000</td>\n      <td>0.624000</td>\n      <td>6.623500</td>\n      <td>94.075000</td>\n      <td>5.188425</td>\n      <td>24.000000</td>\n      <td>666.000000</td>\n      <td>20.200000</td>\n      <td>396.225000</td>\n      <td>16.955000</td>\n      <td>25.000000</td>\n    </tr>\n    <tr>\n      <th>max</th>\n      <td>505.000000</td>\n      <td>88.976200</td>\n      <td>100.000000</td>\n      <td>27.740000</td>\n      <td>1.000000</td>\n      <td>0.871000</td>\n      <td>8.780000</td>\n      <td>100.000000</td>\n      <td>12.126500</td>\n      <td>24.000000</td>\n      <td>711.000000</td>\n      <td>22.000000</td>\n      <td>396.900000</td>\n      <td>37.970000</td>\n      <td>50.000000</td>\n    </tr>\n  </tbody>\n</table>\n</div>",
       "datasetInfos": [],
       "metadata": {},
       "removedWidgets": [],
       "textData": null,
       "type": "htmlSandbox"
      }
     },
     "output_type": "display_data"
    }
   ],
   "source": [
    "boston_df.describe()"
   ]
  },
  {
   "cell_type": "code",
   "execution_count": 0,
   "metadata": {
    "application/vnd.databricks.v1+cell": {
     "cellMetadata": {
      "byteLimit": 2048000,
      "rowLimit": 10000
     },
     "inputWidgets": {},
     "nuid": "bf4dd865-4553-4a33-a4f5-647a6df614cd",
     "showTitle": false,
     "title": ""
    }
   },
   "outputs": [],
   "source": [
    "from sklearn.model_selection import train_test_split\n",
    "\n",
    "X = boston_df.iloc[:, 1:14]\n",
    "y = boston_df.iloc[:, -1]\n",
    "X_train, X_test, y_train, y_test = train_test_split(X, y, test_size = 0.2, random_state = 0)"
   ]
  },
  {
   "cell_type": "markdown",
   "metadata": {
    "application/vnd.databricks.v1+cell": {
     "cellMetadata": {
      "byteLimit": 2048000,
      "rowLimit": 10000
     },
     "inputWidgets": {},
     "nuid": "e34f776e-4a26-4d92-a156-9fd2fc9123c3",
     "showTitle": false,
     "title": ""
    }
   },
   "source": [
    "## Regression with LazyPredict"
   ]
  },
  {
   "cell_type": "markdown",
   "metadata": {
    "application/vnd.databricks.v1+cell": {
     "cellMetadata": {
      "byteLimit": 2048000,
      "rowLimit": 10000
     },
     "inputWidgets": {},
     "nuid": "1437a146-5eba-40d6-b230-3e309b580baa",
     "showTitle": false,
     "title": ""
    }
   },
   "source": [
    "LazyPredict is an open-source Python library which applies various machine learning models on a dataset and compares their performances. It supports regression and classification problems. \n",
    "\n",
    "LazyPredict is a very simple tool **without hyperparameter tuning**.\n",
    "\n",
    "Let's try it out!"
   ]
  },
  {
   "cell_type": "code",
   "execution_count": 0,
   "metadata": {
    "application/vnd.databricks.v1+cell": {
     "cellMetadata": {
      "byteLimit": 2048000,
      "rowLimit": 10000
     },
     "inputWidgets": {},
     "nuid": "5e8fd859-84d4-4c45-8a47-605b9b1cd1ae",
     "showTitle": false,
     "title": ""
    }
   },
   "outputs": [
    {
     "output_type": "stream",
     "name": "stderr",
     "output_type": "stream",
     "text": [
      "\r  0%|          | 0/42 [00:00<?, ?it/s]\r  2%|▏         | 1/42 [00:07<04:57,  7.25s/it]\r  5%|▍         | 2/42 [00:12<03:51,  5.78s/it]\r  7%|▋         | 3/42 [00:16<03:16,  5.03s/it]\r 10%|▉         | 4/42 [00:20<03:05,  4.88s/it]\r 12%|█▏        | 5/42 [00:25<03:02,  4.94s/it]\r 14%|█▍        | 6/42 [00:31<03:11,  5.31s/it]\r 17%|█▋        | 7/42 [00:36<02:52,  4.94s/it]\r 19%|█▉        | 8/42 [00:40<02:38,  4.67s/it]\r 21%|██▏       | 9/42 [00:44<02:30,  4.55s/it]\r 24%|██▍       | 10/42 [00:48<02:19,  4.35s/it]\r 26%|██▌       | 11/42 [00:52<02:15,  4.39s/it]\r 29%|██▊       | 12/42 [00:56<02:08,  4.29s/it]\r 31%|███       | 13/42 [01:01<02:04,  4.29s/it]\r 33%|███▎      | 14/42 [01:04<01:55,  4.12s/it]\r 36%|███▌      | 15/42 [01:09<01:54,  4.23s/it]\r 38%|███▊      | 16/42 [01:13<01:48,  4.19s/it]\r 40%|████      | 17/42 [01:17<01:42,  4.10s/it]\r 43%|████▎     | 18/42 [01:21<01:37,  4.06s/it]\r 45%|████▌     | 19/42 [01:25<01:33,  4.07s/it]\r 48%|████▊     | 20/42 [01:29<01:28,  4.01s/it]\r 50%|█████     | 21/42 [01:33<01:23,  3.98s/it]\r 52%|█████▏    | 22/42 [01:37<01:18,  3.93s/it]\r 55%|█████▍    | 23/42 [01:41<01:15,  3.95s/it]\r 57%|█████▋    | 24/42 [01:45<01:13,  4.06s/it]\r 60%|█████▉    | 25/42 [01:49<01:09,  4.08s/it]\r 62%|██████▏   | 26/42 [01:54<01:08,  4.27s/it]\r 64%|██████▍   | 27/42 [01:58<01:02,  4.17s/it]\r 67%|██████▋   | 28/42 [02:02<00:57,  4.13s/it]\r 69%|██████▉   | 29/42 [02:05<00:52,  4.04s/it]\r 71%|███████▏  | 30/42 [02:09<00:47,  3.98s/it]\r 74%|███████▍  | 31/42 [02:13<00:43,  3.92s/it]\r 76%|███████▌  | 32/42 [02:21<00:49,  4.99s/it]\r 79%|███████▊  | 33/42 [02:25<00:42,  4.67s/it]\r 81%|████████  | 34/42 [02:30<00:38,  4.78s/it]\r 83%|████████▎ | 35/42 [02:34<00:31,  4.54s/it]\r 86%|████████▌ | 36/42 [02:38<00:26,  4.39s/it]\r 88%|████████▊ | 37/42 [02:42<00:21,  4.26s/it]\r 90%|█████████ | 38/42 [02:45<00:16,  4.16s/it]\r 93%|█████████▎| 39/42 [02:49<00:12,  4.05s/it]\r 95%|█████████▌| 40/42 [02:53<00:07,  3.97s/it]\r 98%|█████████▊| 41/42 [02:58<00:04,  4.17s/it]\r100%|██████████| 42/42 [03:03<00:00,  4.42s/it]\r100%|██████████| 42/42 [03:03<00:00,  4.36s/it]\n"
     ]
    }
   ],
   "source": [
    "from lazypredict.Supervised import LazyRegressor\n",
    "\n",
    "reg = LazyRegressor()\n",
    "models, predictions = reg.fit(X_train, X_test, y_train, y_test)"
   ]
  },
  {
   "cell_type": "code",
   "execution_count": 0,
   "metadata": {
    "application/vnd.databricks.v1+cell": {
     "cellMetadata": {
      "byteLimit": 2048000,
      "rowLimit": 10000
     },
     "inputWidgets": {},
     "nuid": "2a559d6e-0a7d-41d5-a82f-1fa164ec0261",
     "showTitle": false,
     "title": ""
    }
   },
   "outputs": [
    {
     "output_type": "display_data",
     "data": {
      "text/html": [
       "<div>\n",
       "<style scoped>\n",
       "    .dataframe tbody tr th:only-of-type {\n",
       "        vertical-align: middle;\n",
       "    }\n",
       "\n",
       "    .dataframe tbody tr th {\n",
       "        vertical-align: top;\n",
       "    }\n",
       "\n",
       "    .dataframe thead th {\n",
       "        text-align: right;\n",
       "    }\n",
       "</style>\n",
       "<table border=\"1\" class=\"dataframe\">\n",
       "  <thead>\n",
       "    <tr style=\"text-align: right;\">\n",
       "      <th></th>\n",
       "      <th>Adjusted R-Squared</th>\n",
       "      <th>R-Squared</th>\n",
       "      <th>RMSE</th>\n",
       "      <th>Time Taken</th>\n",
       "    </tr>\n",
       "    <tr>\n",
       "      <th>Model</th>\n",
       "      <th></th>\n",
       "      <th></th>\n",
       "      <th></th>\n",
       "      <th></th>\n",
       "    </tr>\n",
       "  </thead>\n",
       "  <tbody>\n",
       "    <tr>\n",
       "      <th>GradientBoostingRegressor</th>\n",
       "      <td>0.76</td>\n",
       "      <td>0.79</td>\n",
       "      <td>4.12</td>\n",
       "      <td>4.08</td>\n",
       "    </tr>\n",
       "    <tr>\n",
       "      <th>BaggingRegressor</th>\n",
       "      <td>0.72</td>\n",
       "      <td>0.75</td>\n",
       "      <td>4.48</td>\n",
       "      <td>4.75</td>\n",
       "    </tr>\n",
       "    <tr>\n",
       "      <th>RandomForestRegressor</th>\n",
       "      <td>0.71</td>\n",
       "      <td>0.74</td>\n",
       "      <td>4.56</td>\n",
       "      <td>5.05</td>\n",
       "    </tr>\n",
       "    <tr>\n",
       "      <th>XGBRegressor</th>\n",
       "      <td>0.70</td>\n",
       "      <td>0.74</td>\n",
       "      <td>4.62</td>\n",
       "      <td>4.62</td>\n",
       "    </tr>\n",
       "    <tr>\n",
       "      <th>ExtraTreesRegressor</th>\n",
       "      <td>0.68</td>\n",
       "      <td>0.73</td>\n",
       "      <td>4.73</td>\n",
       "      <td>4.28</td>\n",
       "    </tr>\n",
       "    <tr>\n",
       "      <th>HistGradientBoostingRegressor</th>\n",
       "      <td>0.66</td>\n",
       "      <td>0.70</td>\n",
       "      <td>4.94</td>\n",
       "      <td>4.29</td>\n",
       "    </tr>\n",
       "    <tr>\n",
       "      <th>LGBMRegressor</th>\n",
       "      <td>0.65</td>\n",
       "      <td>0.70</td>\n",
       "      <td>4.95</td>\n",
       "      <td>5.00</td>\n",
       "    </tr>\n",
       "    <tr>\n",
       "      <th>AdaBoostRegressor</th>\n",
       "      <td>0.63</td>\n",
       "      <td>0.68</td>\n",
       "      <td>5.11</td>\n",
       "      <td>7.25</td>\n",
       "    </tr>\n",
       "    <tr>\n",
       "      <th>PoissonRegressor</th>\n",
       "      <td>0.57</td>\n",
       "      <td>0.63</td>\n",
       "      <td>5.52</td>\n",
       "      <td>3.78</td>\n",
       "    </tr>\n",
       "    <tr>\n",
       "      <th>LinearRegression</th>\n",
       "      <td>0.53</td>\n",
       "      <td>0.59</td>\n",
       "      <td>5.78</td>\n",
       "      <td>4.31</td>\n",
       "    </tr>\n",
       "    <tr>\n",
       "      <th>TransformedTargetRegressor</th>\n",
       "      <td>0.53</td>\n",
       "      <td>0.59</td>\n",
       "      <td>5.78</td>\n",
       "      <td>3.81</td>\n",
       "    </tr>\n",
       "    <tr>\n",
       "      <th>Lars</th>\n",
       "      <td>0.53</td>\n",
       "      <td>0.59</td>\n",
       "      <td>5.78</td>\n",
       "      <td>3.89</td>\n",
       "    </tr>\n",
       "    <tr>\n",
       "      <th>LassoLarsIC</th>\n",
       "      <td>0.53</td>\n",
       "      <td>0.59</td>\n",
       "      <td>5.79</td>\n",
       "      <td>4.01</td>\n",
       "    </tr>\n",
       "    <tr>\n",
       "      <th>DecisionTreeRegressor</th>\n",
       "      <td>0.53</td>\n",
       "      <td>0.59</td>\n",
       "      <td>5.79</td>\n",
       "      <td>4.65</td>\n",
       "    </tr>\n",
       "    <tr>\n",
       "      <th>Ridge</th>\n",
       "      <td>0.53</td>\n",
       "      <td>0.59</td>\n",
       "      <td>5.79</td>\n",
       "      <td>3.98</td>\n",
       "    </tr>\n",
       "    <tr>\n",
       "      <th>LarsCV</th>\n",
       "      <td>0.53</td>\n",
       "      <td>0.59</td>\n",
       "      <td>5.79</td>\n",
       "      <td>3.95</td>\n",
       "    </tr>\n",
       "    <tr>\n",
       "      <th>LassoLarsCV</th>\n",
       "      <td>0.52</td>\n",
       "      <td>0.59</td>\n",
       "      <td>5.81</td>\n",
       "      <td>3.82</td>\n",
       "    </tr>\n",
       "    <tr>\n",
       "      <th>LassoCV</th>\n",
       "      <td>0.52</td>\n",
       "      <td>0.59</td>\n",
       "      <td>5.81</td>\n",
       "      <td>3.87</td>\n",
       "    </tr>\n",
       "    <tr>\n",
       "      <th>ElasticNetCV</th>\n",
       "      <td>0.52</td>\n",
       "      <td>0.58</td>\n",
       "      <td>5.82</td>\n",
       "      <td>4.17</td>\n",
       "    </tr>\n",
       "    <tr>\n",
       "      <th>BayesianRidge</th>\n",
       "      <td>0.52</td>\n",
       "      <td>0.58</td>\n",
       "      <td>5.83</td>\n",
       "      <td>4.14</td>\n",
       "    </tr>\n",
       "    <tr>\n",
       "      <th>RidgeCV</th>\n",
       "      <td>0.52</td>\n",
       "      <td>0.58</td>\n",
       "      <td>5.85</td>\n",
       "      <td>4.02</td>\n",
       "    </tr>\n",
       "    <tr>\n",
       "      <th>SGDRegressor</th>\n",
       "      <td>0.51</td>\n",
       "      <td>0.57</td>\n",
       "      <td>5.89</td>\n",
       "      <td>3.96</td>\n",
       "    </tr>\n",
       "    <tr>\n",
       "      <th>KNeighborsRegressor</th>\n",
       "      <td>0.50</td>\n",
       "      <td>0.56</td>\n",
       "      <td>5.97</td>\n",
       "      <td>4.46</td>\n",
       "    </tr>\n",
       "    <tr>\n",
       "      <th>ExtraTreeRegressor</th>\n",
       "      <td>0.46</td>\n",
       "      <td>0.53</td>\n",
       "      <td>6.17</td>\n",
       "      <td>4.10</td>\n",
       "    </tr>\n",
       "    <tr>\n",
       "      <th>HuberRegressor</th>\n",
       "      <td>0.46</td>\n",
       "      <td>0.53</td>\n",
       "      <td>6.21</td>\n",
       "      <td>3.73</td>\n",
       "    </tr>\n",
       "    <tr>\n",
       "      <th>LinearSVR</th>\n",
       "      <td>0.45</td>\n",
       "      <td>0.52</td>\n",
       "      <td>6.27</td>\n",
       "      <td>4.11</td>\n",
       "    </tr>\n",
       "    <tr>\n",
       "      <th>Lasso</th>\n",
       "      <td>0.43</td>\n",
       "      <td>0.51</td>\n",
       "      <td>6.34</td>\n",
       "      <td>4.11</td>\n",
       "    </tr>\n",
       "    <tr>\n",
       "      <th>SVR</th>\n",
       "      <td>0.42</td>\n",
       "      <td>0.50</td>\n",
       "      <td>6.41</td>\n",
       "      <td>3.92</td>\n",
       "    </tr>\n",
       "    <tr>\n",
       "      <th>OrthogonalMatchingPursuitCV</th>\n",
       "      <td>0.41</td>\n",
       "      <td>0.49</td>\n",
       "      <td>6.46</td>\n",
       "      <td>3.82</td>\n",
       "    </tr>\n",
       "    <tr>\n",
       "      <th>NuSVR</th>\n",
       "      <td>0.41</td>\n",
       "      <td>0.49</td>\n",
       "      <td>6.47</td>\n",
       "      <td>3.94</td>\n",
       "    </tr>\n",
       "    <tr>\n",
       "      <th>ElasticNet</th>\n",
       "      <td>0.40</td>\n",
       "      <td>0.47</td>\n",
       "      <td>6.55</td>\n",
       "      <td>6.04</td>\n",
       "    </tr>\n",
       "    <tr>\n",
       "      <th>MLPRegressor</th>\n",
       "      <td>0.39</td>\n",
       "      <td>0.47</td>\n",
       "      <td>6.60</td>\n",
       "      <td>4.72</td>\n",
       "    </tr>\n",
       "    <tr>\n",
       "      <th>GammaRegressor</th>\n",
       "      <td>0.37</td>\n",
       "      <td>0.45</td>\n",
       "      <td>6.71</td>\n",
       "      <td>3.91</td>\n",
       "    </tr>\n",
       "    <tr>\n",
       "      <th>TweedieRegressor</th>\n",
       "      <td>0.36</td>\n",
       "      <td>0.45</td>\n",
       "      <td>6.72</td>\n",
       "      <td>3.78</td>\n",
       "    </tr>\n",
       "    <tr>\n",
       "      <th>OrthogonalMatchingPursuit</th>\n",
       "      <td>0.35</td>\n",
       "      <td>0.43</td>\n",
       "      <td>6.81</td>\n",
       "      <td>4.02</td>\n",
       "    </tr>\n",
       "    <tr>\n",
       "      <th>RANSACRegressor</th>\n",
       "      <td>0.35</td>\n",
       "      <td>0.43</td>\n",
       "      <td>6.81</td>\n",
       "      <td>3.91</td>\n",
       "    </tr>\n",
       "    <tr>\n",
       "      <th>PassiveAggressiveRegressor</th>\n",
       "      <td>0.23</td>\n",
       "      <td>0.33</td>\n",
       "      <td>7.38</td>\n",
       "      <td>3.85</td>\n",
       "    </tr>\n",
       "    <tr>\n",
       "      <th>GaussianProcessRegressor</th>\n",
       "      <td>0.02</td>\n",
       "      <td>0.15</td>\n",
       "      <td>8.33</td>\n",
       "      <td>4.46</td>\n",
       "    </tr>\n",
       "    <tr>\n",
       "      <th>DummyRegressor</th>\n",
       "      <td>-0.15</td>\n",
       "      <td>-0.00</td>\n",
       "      <td>9.03</td>\n",
       "      <td>5.04</td>\n",
       "    </tr>\n",
       "    <tr>\n",
       "      <th>LassoLars</th>\n",
       "      <td>-0.15</td>\n",
       "      <td>-0.00</td>\n",
       "      <td>9.03</td>\n",
       "      <td>3.90</td>\n",
       "    </tr>\n",
       "    <tr>\n",
       "      <th>QuantileRegressor</th>\n",
       "      <td>-0.16</td>\n",
       "      <td>-0.01</td>\n",
       "      <td>9.06</td>\n",
       "      <td>7.49</td>\n",
       "    </tr>\n",
       "    <tr>\n",
       "      <th>KernelRidge</th>\n",
       "      <td>-6.84</td>\n",
       "      <td>-5.83</td>\n",
       "      <td>23.59</td>\n",
       "      <td>4.09</td>\n",
       "    </tr>\n",
       "  </tbody>\n",
       "</table>\n",
       "</div>"
      ]
     },
     "metadata": {
      "application/vnd.databricks.v1+output": {
       "addedWidgets": {},
       "arguments": {},
       "data": "<div>\n<style scoped>\n    .dataframe tbody tr th:only-of-type {\n        vertical-align: middle;\n    }\n\n    .dataframe tbody tr th {\n        vertical-align: top;\n    }\n\n    .dataframe thead th {\n        text-align: right;\n    }\n</style>\n<table border=\"1\" class=\"dataframe\">\n  <thead>\n    <tr style=\"text-align: right;\">\n      <th></th>\n      <th>Adjusted R-Squared</th>\n      <th>R-Squared</th>\n      <th>RMSE</th>\n      <th>Time Taken</th>\n    </tr>\n    <tr>\n      <th>Model</th>\n      <th></th>\n      <th></th>\n      <th></th>\n      <th></th>\n    </tr>\n  </thead>\n  <tbody>\n    <tr>\n      <th>GradientBoostingRegressor</th>\n      <td>0.76</td>\n      <td>0.79</td>\n      <td>4.12</td>\n      <td>4.08</td>\n    </tr>\n    <tr>\n      <th>BaggingRegressor</th>\n      <td>0.72</td>\n      <td>0.75</td>\n      <td>4.48</td>\n      <td>4.75</td>\n    </tr>\n    <tr>\n      <th>RandomForestRegressor</th>\n      <td>0.71</td>\n      <td>0.74</td>\n      <td>4.56</td>\n      <td>5.05</td>\n    </tr>\n    <tr>\n      <th>XGBRegressor</th>\n      <td>0.70</td>\n      <td>0.74</td>\n      <td>4.62</td>\n      <td>4.62</td>\n    </tr>\n    <tr>\n      <th>ExtraTreesRegressor</th>\n      <td>0.68</td>\n      <td>0.73</td>\n      <td>4.73</td>\n      <td>4.28</td>\n    </tr>\n    <tr>\n      <th>HistGradientBoostingRegressor</th>\n      <td>0.66</td>\n      <td>0.70</td>\n      <td>4.94</td>\n      <td>4.29</td>\n    </tr>\n    <tr>\n      <th>LGBMRegressor</th>\n      <td>0.65</td>\n      <td>0.70</td>\n      <td>4.95</td>\n      <td>5.00</td>\n    </tr>\n    <tr>\n      <th>AdaBoostRegressor</th>\n      <td>0.63</td>\n      <td>0.68</td>\n      <td>5.11</td>\n      <td>7.25</td>\n    </tr>\n    <tr>\n      <th>PoissonRegressor</th>\n      <td>0.57</td>\n      <td>0.63</td>\n      <td>5.52</td>\n      <td>3.78</td>\n    </tr>\n    <tr>\n      <th>LinearRegression</th>\n      <td>0.53</td>\n      <td>0.59</td>\n      <td>5.78</td>\n      <td>4.31</td>\n    </tr>\n    <tr>\n      <th>TransformedTargetRegressor</th>\n      <td>0.53</td>\n      <td>0.59</td>\n      <td>5.78</td>\n      <td>3.81</td>\n    </tr>\n    <tr>\n      <th>Lars</th>\n      <td>0.53</td>\n      <td>0.59</td>\n      <td>5.78</td>\n      <td>3.89</td>\n    </tr>\n    <tr>\n      <th>LassoLarsIC</th>\n      <td>0.53</td>\n      <td>0.59</td>\n      <td>5.79</td>\n      <td>4.01</td>\n    </tr>\n    <tr>\n      <th>DecisionTreeRegressor</th>\n      <td>0.53</td>\n      <td>0.59</td>\n      <td>5.79</td>\n      <td>4.65</td>\n    </tr>\n    <tr>\n      <th>Ridge</th>\n      <td>0.53</td>\n      <td>0.59</td>\n      <td>5.79</td>\n      <td>3.98</td>\n    </tr>\n    <tr>\n      <th>LarsCV</th>\n      <td>0.53</td>\n      <td>0.59</td>\n      <td>5.79</td>\n      <td>3.95</td>\n    </tr>\n    <tr>\n      <th>LassoLarsCV</th>\n      <td>0.52</td>\n      <td>0.59</td>\n      <td>5.81</td>\n      <td>3.82</td>\n    </tr>\n    <tr>\n      <th>LassoCV</th>\n      <td>0.52</td>\n      <td>0.59</td>\n      <td>5.81</td>\n      <td>3.87</td>\n    </tr>\n    <tr>\n      <th>ElasticNetCV</th>\n      <td>0.52</td>\n      <td>0.58</td>\n      <td>5.82</td>\n      <td>4.17</td>\n    </tr>\n    <tr>\n      <th>BayesianRidge</th>\n      <td>0.52</td>\n      <td>0.58</td>\n      <td>5.83</td>\n      <td>4.14</td>\n    </tr>\n    <tr>\n      <th>RidgeCV</th>\n      <td>0.52</td>\n      <td>0.58</td>\n      <td>5.85</td>\n      <td>4.02</td>\n    </tr>\n    <tr>\n      <th>SGDRegressor</th>\n      <td>0.51</td>\n      <td>0.57</td>\n      <td>5.89</td>\n      <td>3.96</td>\n    </tr>\n    <tr>\n      <th>KNeighborsRegressor</th>\n      <td>0.50</td>\n      <td>0.56</td>\n      <td>5.97</td>\n      <td>4.46</td>\n    </tr>\n    <tr>\n      <th>ExtraTreeRegressor</th>\n      <td>0.46</td>\n      <td>0.53</td>\n      <td>6.17</td>\n      <td>4.10</td>\n    </tr>\n    <tr>\n      <th>HuberRegressor</th>\n      <td>0.46</td>\n      <td>0.53</td>\n      <td>6.21</td>\n      <td>3.73</td>\n    </tr>\n    <tr>\n      <th>LinearSVR</th>\n      <td>0.45</td>\n      <td>0.52</td>\n      <td>6.27</td>\n      <td>4.11</td>\n    </tr>\n    <tr>\n      <th>Lasso</th>\n      <td>0.43</td>\n      <td>0.51</td>\n      <td>6.34</td>\n      <td>4.11</td>\n    </tr>\n    <tr>\n      <th>SVR</th>\n      <td>0.42</td>\n      <td>0.50</td>\n      <td>6.41</td>\n      <td>3.92</td>\n    </tr>\n    <tr>\n      <th>OrthogonalMatchingPursuitCV</th>\n      <td>0.41</td>\n      <td>0.49</td>\n      <td>6.46</td>\n      <td>3.82</td>\n    </tr>\n    <tr>\n      <th>NuSVR</th>\n      <td>0.41</td>\n      <td>0.49</td>\n      <td>6.47</td>\n      <td>3.94</td>\n    </tr>\n    <tr>\n      <th>ElasticNet</th>\n      <td>0.40</td>\n      <td>0.47</td>\n      <td>6.55</td>\n      <td>6.04</td>\n    </tr>\n    <tr>\n      <th>MLPRegressor</th>\n      <td>0.39</td>\n      <td>0.47</td>\n      <td>6.60</td>\n      <td>4.72</td>\n    </tr>\n    <tr>\n      <th>GammaRegressor</th>\n      <td>0.37</td>\n      <td>0.45</td>\n      <td>6.71</td>\n      <td>3.91</td>\n    </tr>\n    <tr>\n      <th>TweedieRegressor</th>\n      <td>0.36</td>\n      <td>0.45</td>\n      <td>6.72</td>\n      <td>3.78</td>\n    </tr>\n    <tr>\n      <th>OrthogonalMatchingPursuit</th>\n      <td>0.35</td>\n      <td>0.43</td>\n      <td>6.81</td>\n      <td>4.02</td>\n    </tr>\n    <tr>\n      <th>RANSACRegressor</th>\n      <td>0.35</td>\n      <td>0.43</td>\n      <td>6.81</td>\n      <td>3.91</td>\n    </tr>\n    <tr>\n      <th>PassiveAggressiveRegressor</th>\n      <td>0.23</td>\n      <td>0.33</td>\n      <td>7.38</td>\n      <td>3.85</td>\n    </tr>\n    <tr>\n      <th>GaussianProcessRegressor</th>\n      <td>0.02</td>\n      <td>0.15</td>\n      <td>8.33</td>\n      <td>4.46</td>\n    </tr>\n    <tr>\n      <th>DummyRegressor</th>\n      <td>-0.15</td>\n      <td>-0.00</td>\n      <td>9.03</td>\n      <td>5.04</td>\n    </tr>\n    <tr>\n      <th>LassoLars</th>\n      <td>-0.15</td>\n      <td>-0.00</td>\n      <td>9.03</td>\n      <td>3.90</td>\n    </tr>\n    <tr>\n      <th>QuantileRegressor</th>\n      <td>-0.16</td>\n      <td>-0.01</td>\n      <td>9.06</td>\n      <td>7.49</td>\n    </tr>\n    <tr>\n      <th>KernelRidge</th>\n      <td>-6.84</td>\n      <td>-5.83</td>\n      <td>23.59</td>\n      <td>4.09</td>\n    </tr>\n  </tbody>\n</table>\n</div>",
       "datasetInfos": [],
       "metadata": {},
       "removedWidgets": [],
       "textData": null,
       "type": "htmlSandbox"
      }
     },
     "output_type": "display_data"
    }
   ],
   "source": [
    "models"
   ]
  },
  {
   "cell_type": "markdown",
   "metadata": {
    "application/vnd.databricks.v1+cell": {
     "cellMetadata": {
      "byteLimit": 2048000,
      "rowLimit": 10000
     },
     "inputWidgets": {},
     "nuid": "8710cef2-6c73-44de-a387-c310c9ee4930",
     "showTitle": false,
     "title": ""
    }
   },
   "source": [
    "You can also pass to LazyRegressor() additional optional parameters such as the **verbose** flag, which controls the level of output produced during training, and the **custom_metric** parameter, which allows you to specify a custom metric to use for evaluating the model. See example below:"
   ]
  },
  {
   "cell_type": "code",
   "execution_count": 0,
   "metadata": {
    "application/vnd.databricks.v1+cell": {
     "cellMetadata": {
      "byteLimit": 2048000,
      "rowLimit": 10000
     },
     "inputWidgets": {},
     "nuid": "989f67c4-03d4-48fe-8735-7a2052dca581",
     "showTitle": false,
     "title": ""
    }
   },
   "outputs": [
    {
     "output_type": "stream",
     "name": "stderr",
     "output_type": "stream",
     "text": [
      "\r  0%|          | 0/42 [00:00<?, ?it/s]\r  2%|▏         | 1/42 [00:04<03:20,  4.90s/it]\r  5%|▍         | 2/42 [00:09<02:58,  4.47s/it]\r  7%|▋         | 3/42 [00:13<02:48,  4.32s/it]\r 10%|▉         | 4/42 [00:17<02:47,  4.41s/it]\r 12%|█▏        | 5/42 [00:21<02:39,  4.31s/it]\r 14%|█▍        | 6/42 [00:26<02:34,  4.30s/it]\r 17%|█▋        | 7/42 [00:30<02:27,  4.21s/it]\r 19%|█▉        | 8/42 [00:34<02:21,  4.15s/it]\r 21%|██▏       | 9/42 [00:38<02:20,  4.27s/it]\r 24%|██▍       | 10/42 [00:42<02:12,  4.14s/it]\r 26%|██▌       | 11/42 [00:47<02:16,  4.41s/it]\r 29%|██▊       | 12/42 [00:52<02:16,  4.54s/it]\r 31%|███       | 13/42 [00:56<02:08,  4.41s/it]\r 33%|███▎      | 14/42 [01:00<01:59,  4.27s/it]\r 36%|███▌      | 15/42 [01:05<02:01,  4.50s/it]\r 38%|███▊      | 16/42 [01:11<02:08,  4.93s/it]\r 40%|████      | 17/42 [01:17<02:13,  5.33s/it]\r 43%|████▎     | 18/42 [01:23<02:11,  5.49s/it]\r 45%|████▌     | 19/42 [01:30<02:13,  5.82s/it]\r 48%|████▊     | 20/42 [01:36<02:10,  5.91s/it]\r 50%|█████     | 21/42 [01:42<02:05,  5.96s/it]\r 52%|█████▏    | 22/42 [01:48<02:02,  6.12s/it]\r 55%|█████▍    | 23/42 [01:55<01:58,  6.23s/it]\r 57%|█████▋    | 24/42 [02:01<01:50,  6.14s/it]\r 60%|█████▉    | 25/42 [02:07<01:43,  6.07s/it]\r 62%|██████▏   | 26/42 [02:15<01:46,  6.66s/it]\r 64%|██████▍   | 27/42 [02:21<01:37,  6.53s/it]\r 67%|██████▋   | 28/42 [02:27<01:29,  6.42s/it]\r 69%|██████▉   | 29/42 [02:33<01:21,  6.26s/it]\r 71%|███████▏  | 30/42 [02:39<01:15,  6.31s/it]\r 74%|███████▍  | 31/42 [02:47<01:11,  6.54s/it]\r 76%|███████▌  | 32/42 [03:00<01:26,  8.68s/it]\r 79%|███████▊  | 33/42 [03:08<01:15,  8.35s/it]\r 81%|████████  | 34/42 [03:15<01:05,  8.14s/it]\r 83%|████████▎ | 35/42 [03:22<00:54,  7.75s/it]\r 86%|████████▌ | 36/42 [03:29<00:44,  7.43s/it]\r 88%|████████▊ | 37/42 [03:35<00:34,  6.99s/it]\r 90%|█████████ | 38/42 [03:41<00:27,  6.79s/it]\r 93%|█████████▎| 39/42 [03:48<00:19,  6.66s/it]\r 95%|█████████▌| 40/42 [03:54<00:12,  6.47s/it]\r 98%|█████████▊| 41/42 [04:01<00:06,  6.87s/it]\r100%|██████████| 42/42 [04:10<00:00,  7.51s/it]\r100%|██████████| 42/42 [04:10<00:00,  5.97s/it]\n"
     ]
    }
   ],
   "source": [
    "from sklearn.metrics import mean_absolute_error\n",
    "\n",
    "reg = LazyRegressor(verbose=0, predictions=True, custom_metric = mean_absolute_error)\n",
    "models, predictions = reg.fit(X_train, X_test, y_train, y_test)"
   ]
  },
  {
   "cell_type": "code",
   "execution_count": 0,
   "metadata": {
    "application/vnd.databricks.v1+cell": {
     "cellMetadata": {
      "byteLimit": 2048000,
      "rowLimit": 10000
     },
     "inputWidgets": {},
     "nuid": "801ec532-3d2e-4a9a-9279-9654d7b281c5",
     "showTitle": false,
     "title": ""
    }
   },
   "outputs": [
    {
     "output_type": "display_data",
     "data": {
      "text/html": [
       "<div>\n",
       "<style scoped>\n",
       "    .dataframe tbody tr th:only-of-type {\n",
       "        vertical-align: middle;\n",
       "    }\n",
       "\n",
       "    .dataframe tbody tr th {\n",
       "        vertical-align: top;\n",
       "    }\n",
       "\n",
       "    .dataframe thead th {\n",
       "        text-align: right;\n",
       "    }\n",
       "</style>\n",
       "<table border=\"1\" class=\"dataframe\">\n",
       "  <thead>\n",
       "    <tr style=\"text-align: right;\">\n",
       "      <th></th>\n",
       "      <th>Adjusted R-Squared</th>\n",
       "      <th>R-Squared</th>\n",
       "      <th>RMSE</th>\n",
       "      <th>Time Taken</th>\n",
       "      <th>mean_absolute_error</th>\n",
       "    </tr>\n",
       "    <tr>\n",
       "      <th>Model</th>\n",
       "      <th></th>\n",
       "      <th></th>\n",
       "      <th></th>\n",
       "      <th></th>\n",
       "      <th></th>\n",
       "    </tr>\n",
       "  </thead>\n",
       "  <tbody>\n",
       "    <tr>\n",
       "      <th>GradientBoostingRegressor</th>\n",
       "      <td>0.76</td>\n",
       "      <td>0.79</td>\n",
       "      <td>4.12</td>\n",
       "      <td>4.64</td>\n",
       "      <td>2.66</td>\n",
       "    </tr>\n",
       "    <tr>\n",
       "      <th>BaggingRegressor</th>\n",
       "      <td>0.72</td>\n",
       "      <td>0.75</td>\n",
       "      <td>4.48</td>\n",
       "      <td>3.99</td>\n",
       "      <td>2.81</td>\n",
       "    </tr>\n",
       "    <tr>\n",
       "      <th>RandomForestRegressor</th>\n",
       "      <td>0.71</td>\n",
       "      <td>0.74</td>\n",
       "      <td>4.56</td>\n",
       "      <td>7.38</td>\n",
       "      <td>2.73</td>\n",
       "    </tr>\n",
       "    <tr>\n",
       "      <th>XGBRegressor</th>\n",
       "      <td>0.70</td>\n",
       "      <td>0.74</td>\n",
       "      <td>4.62</td>\n",
       "      <td>7.55</td>\n",
       "      <td>2.80</td>\n",
       "    </tr>\n",
       "    <tr>\n",
       "      <th>ExtraTreesRegressor</th>\n",
       "      <td>0.68</td>\n",
       "      <td>0.73</td>\n",
       "      <td>4.73</td>\n",
       "      <td>4.33</td>\n",
       "      <td>2.74</td>\n",
       "    </tr>\n",
       "    <tr>\n",
       "      <th>HistGradientBoostingRegressor</th>\n",
       "      <td>0.66</td>\n",
       "      <td>0.70</td>\n",
       "      <td>4.94</td>\n",
       "      <td>3.97</td>\n",
       "      <td>2.83</td>\n",
       "    </tr>\n",
       "    <tr>\n",
       "      <th>LGBMRegressor</th>\n",
       "      <td>0.65</td>\n",
       "      <td>0.70</td>\n",
       "      <td>4.95</td>\n",
       "      <td>8.74</td>\n",
       "      <td>2.86</td>\n",
       "    </tr>\n",
       "    <tr>\n",
       "      <th>AdaBoostRegressor</th>\n",
       "      <td>0.63</td>\n",
       "      <td>0.68</td>\n",
       "      <td>5.11</td>\n",
       "      <td>4.66</td>\n",
       "      <td>3.26</td>\n",
       "    </tr>\n",
       "    <tr>\n",
       "      <th>PoissonRegressor</th>\n",
       "      <td>0.57</td>\n",
       "      <td>0.63</td>\n",
       "      <td>5.52</td>\n",
       "      <td>6.88</td>\n",
       "      <td>3.42</td>\n",
       "    </tr>\n",
       "    <tr>\n",
       "      <th>LinearRegression</th>\n",
       "      <td>0.53</td>\n",
       "      <td>0.59</td>\n",
       "      <td>5.78</td>\n",
       "      <td>5.76</td>\n",
       "      <td>3.84</td>\n",
       "    </tr>\n",
       "    <tr>\n",
       "      <th>TransformedTargetRegressor</th>\n",
       "      <td>0.53</td>\n",
       "      <td>0.59</td>\n",
       "      <td>5.78</td>\n",
       "      <td>6.12</td>\n",
       "      <td>3.84</td>\n",
       "    </tr>\n",
       "    <tr>\n",
       "      <th>Lars</th>\n",
       "      <td>0.53</td>\n",
       "      <td>0.59</td>\n",
       "      <td>5.78</td>\n",
       "      <td>6.05</td>\n",
       "      <td>3.84</td>\n",
       "    </tr>\n",
       "    <tr>\n",
       "      <th>LassoLarsIC</th>\n",
       "      <td>0.53</td>\n",
       "      <td>0.59</td>\n",
       "      <td>5.79</td>\n",
       "      <td>6.29</td>\n",
       "      <td>3.84</td>\n",
       "    </tr>\n",
       "    <tr>\n",
       "      <th>DecisionTreeRegressor</th>\n",
       "      <td>0.53</td>\n",
       "      <td>0.59</td>\n",
       "      <td>5.79</td>\n",
       "      <td>4.35</td>\n",
       "      <td>3.58</td>\n",
       "    </tr>\n",
       "    <tr>\n",
       "      <th>Ridge</th>\n",
       "      <td>0.53</td>\n",
       "      <td>0.59</td>\n",
       "      <td>5.79</td>\n",
       "      <td>6.59</td>\n",
       "      <td>3.84</td>\n",
       "    </tr>\n",
       "    <tr>\n",
       "      <th>LarsCV</th>\n",
       "      <td>0.53</td>\n",
       "      <td>0.59</td>\n",
       "      <td>5.79</td>\n",
       "      <td>5.66</td>\n",
       "      <td>3.84</td>\n",
       "    </tr>\n",
       "    <tr>\n",
       "      <th>LassoLarsCV</th>\n",
       "      <td>0.52</td>\n",
       "      <td>0.59</td>\n",
       "      <td>5.81</td>\n",
       "      <td>6.20</td>\n",
       "      <td>3.84</td>\n",
       "    </tr>\n",
       "    <tr>\n",
       "      <th>LassoCV</th>\n",
       "      <td>0.52</td>\n",
       "      <td>0.59</td>\n",
       "      <td>5.81</td>\n",
       "      <td>5.97</td>\n",
       "      <td>3.84</td>\n",
       "    </tr>\n",
       "    <tr>\n",
       "      <th>ElasticNetCV</th>\n",
       "      <td>0.52</td>\n",
       "      <td>0.58</td>\n",
       "      <td>5.82</td>\n",
       "      <td>3.86</td>\n",
       "      <td>3.85</td>\n",
       "    </tr>\n",
       "    <tr>\n",
       "      <th>BayesianRidge</th>\n",
       "      <td>0.52</td>\n",
       "      <td>0.58</td>\n",
       "      <td>5.83</td>\n",
       "      <td>3.97</td>\n",
       "      <td>3.85</td>\n",
       "    </tr>\n",
       "    <tr>\n",
       "      <th>RidgeCV</th>\n",
       "      <td>0.52</td>\n",
       "      <td>0.58</td>\n",
       "      <td>5.85</td>\n",
       "      <td>6.45</td>\n",
       "      <td>3.86</td>\n",
       "    </tr>\n",
       "    <tr>\n",
       "      <th>SGDRegressor</th>\n",
       "      <td>0.51</td>\n",
       "      <td>0.57</td>\n",
       "      <td>5.89</td>\n",
       "      <td>5.74</td>\n",
       "      <td>3.89</td>\n",
       "    </tr>\n",
       "    <tr>\n",
       "      <th>KNeighborsRegressor</th>\n",
       "      <td>0.50</td>\n",
       "      <td>0.56</td>\n",
       "      <td>5.97</td>\n",
       "      <td>4.85</td>\n",
       "      <td>3.52</td>\n",
       "    </tr>\n",
       "    <tr>\n",
       "      <th>ExtraTreeRegressor</th>\n",
       "      <td>0.46</td>\n",
       "      <td>0.53</td>\n",
       "      <td>6.17</td>\n",
       "      <td>3.80</td>\n",
       "      <td>3.85</td>\n",
       "    </tr>\n",
       "    <tr>\n",
       "      <th>HuberRegressor</th>\n",
       "      <td>0.46</td>\n",
       "      <td>0.53</td>\n",
       "      <td>6.21</td>\n",
       "      <td>3.71</td>\n",
       "      <td>3.77</td>\n",
       "    </tr>\n",
       "    <tr>\n",
       "      <th>LinearSVR</th>\n",
       "      <td>0.45</td>\n",
       "      <td>0.52</td>\n",
       "      <td>6.27</td>\n",
       "      <td>5.64</td>\n",
       "      <td>3.75</td>\n",
       "    </tr>\n",
       "    <tr>\n",
       "      <th>Lasso</th>\n",
       "      <td>0.43</td>\n",
       "      <td>0.51</td>\n",
       "      <td>6.34</td>\n",
       "      <td>6.39</td>\n",
       "      <td>4.29</td>\n",
       "    </tr>\n",
       "    <tr>\n",
       "      <th>SVR</th>\n",
       "      <td>0.42</td>\n",
       "      <td>0.50</td>\n",
       "      <td>6.41</td>\n",
       "      <td>6.17</td>\n",
       "      <td>3.61</td>\n",
       "    </tr>\n",
       "    <tr>\n",
       "      <th>OrthogonalMatchingPursuitCV</th>\n",
       "      <td>0.41</td>\n",
       "      <td>0.49</td>\n",
       "      <td>6.46</td>\n",
       "      <td>5.63</td>\n",
       "      <td>4.40</td>\n",
       "    </tr>\n",
       "    <tr>\n",
       "      <th>NuSVR</th>\n",
       "      <td>0.41</td>\n",
       "      <td>0.49</td>\n",
       "      <td>6.47</td>\n",
       "      <td>6.03</td>\n",
       "      <td>3.71</td>\n",
       "    </tr>\n",
       "    <tr>\n",
       "      <th>ElasticNet</th>\n",
       "      <td>0.40</td>\n",
       "      <td>0.47</td>\n",
       "      <td>6.55</td>\n",
       "      <td>4.11</td>\n",
       "      <td>4.35</td>\n",
       "    </tr>\n",
       "    <tr>\n",
       "      <th>MLPRegressor</th>\n",
       "      <td>0.39</td>\n",
       "      <td>0.47</td>\n",
       "      <td>6.60</td>\n",
       "      <td>7.88</td>\n",
       "      <td>4.64</td>\n",
       "    </tr>\n",
       "    <tr>\n",
       "      <th>GammaRegressor</th>\n",
       "      <td>0.37</td>\n",
       "      <td>0.45</td>\n",
       "      <td>6.71</td>\n",
       "      <td>3.65</td>\n",
       "      <td>4.21</td>\n",
       "    </tr>\n",
       "    <tr>\n",
       "      <th>TweedieRegressor</th>\n",
       "      <td>0.36</td>\n",
       "      <td>0.45</td>\n",
       "      <td>6.72</td>\n",
       "      <td>5.79</td>\n",
       "      <td>4.46</td>\n",
       "    </tr>\n",
       "    <tr>\n",
       "      <th>OrthogonalMatchingPursuit</th>\n",
       "      <td>0.35</td>\n",
       "      <td>0.43</td>\n",
       "      <td>6.81</td>\n",
       "      <td>5.99</td>\n",
       "      <td>4.86</td>\n",
       "    </tr>\n",
       "    <tr>\n",
       "      <th>RANSACRegressor</th>\n",
       "      <td>0.35</td>\n",
       "      <td>0.43</td>\n",
       "      <td>6.81</td>\n",
       "      <td>7.36</td>\n",
       "      <td>3.97</td>\n",
       "    </tr>\n",
       "    <tr>\n",
       "      <th>PassiveAggressiveRegressor</th>\n",
       "      <td>0.23</td>\n",
       "      <td>0.33</td>\n",
       "      <td>7.38</td>\n",
       "      <td>6.19</td>\n",
       "      <td>5.87</td>\n",
       "    </tr>\n",
       "    <tr>\n",
       "      <th>GaussianProcessRegressor</th>\n",
       "      <td>0.02</td>\n",
       "      <td>0.15</td>\n",
       "      <td>8.33</td>\n",
       "      <td>4.83</td>\n",
       "      <td>4.85</td>\n",
       "    </tr>\n",
       "    <tr>\n",
       "      <th>DummyRegressor</th>\n",
       "      <td>-0.15</td>\n",
       "      <td>-0.00</td>\n",
       "      <td>9.03</td>\n",
       "      <td>3.96</td>\n",
       "      <td>6.25</td>\n",
       "    </tr>\n",
       "    <tr>\n",
       "      <th>LassoLars</th>\n",
       "      <td>-0.15</td>\n",
       "      <td>-0.00</td>\n",
       "      <td>9.03</td>\n",
       "      <td>5.87</td>\n",
       "      <td>6.25</td>\n",
       "    </tr>\n",
       "    <tr>\n",
       "      <th>QuantileRegressor</th>\n",
       "      <td>-0.16</td>\n",
       "      <td>-0.01</td>\n",
       "      <td>9.06</td>\n",
       "      <td>13.45</td>\n",
       "      <td>6.04</td>\n",
       "    </tr>\n",
       "    <tr>\n",
       "      <th>KernelRidge</th>\n",
       "      <td>-6.84</td>\n",
       "      <td>-5.83</td>\n",
       "      <td>23.59</td>\n",
       "      <td>5.74</td>\n",
       "      <td>22.87</td>\n",
       "    </tr>\n",
       "  </tbody>\n",
       "</table>\n",
       "</div>"
      ]
     },
     "metadata": {
      "application/vnd.databricks.v1+output": {
       "addedWidgets": {},
       "arguments": {},
       "data": "<div>\n<style scoped>\n    .dataframe tbody tr th:only-of-type {\n        vertical-align: middle;\n    }\n\n    .dataframe tbody tr th {\n        vertical-align: top;\n    }\n\n    .dataframe thead th {\n        text-align: right;\n    }\n</style>\n<table border=\"1\" class=\"dataframe\">\n  <thead>\n    <tr style=\"text-align: right;\">\n      <th></th>\n      <th>Adjusted R-Squared</th>\n      <th>R-Squared</th>\n      <th>RMSE</th>\n      <th>Time Taken</th>\n      <th>mean_absolute_error</th>\n    </tr>\n    <tr>\n      <th>Model</th>\n      <th></th>\n      <th></th>\n      <th></th>\n      <th></th>\n      <th></th>\n    </tr>\n  </thead>\n  <tbody>\n    <tr>\n      <th>GradientBoostingRegressor</th>\n      <td>0.76</td>\n      <td>0.79</td>\n      <td>4.12</td>\n      <td>4.64</td>\n      <td>2.66</td>\n    </tr>\n    <tr>\n      <th>BaggingRegressor</th>\n      <td>0.72</td>\n      <td>0.75</td>\n      <td>4.48</td>\n      <td>3.99</td>\n      <td>2.81</td>\n    </tr>\n    <tr>\n      <th>RandomForestRegressor</th>\n      <td>0.71</td>\n      <td>0.74</td>\n      <td>4.56</td>\n      <td>7.38</td>\n      <td>2.73</td>\n    </tr>\n    <tr>\n      <th>XGBRegressor</th>\n      <td>0.70</td>\n      <td>0.74</td>\n      <td>4.62</td>\n      <td>7.55</td>\n      <td>2.80</td>\n    </tr>\n    <tr>\n      <th>ExtraTreesRegressor</th>\n      <td>0.68</td>\n      <td>0.73</td>\n      <td>4.73</td>\n      <td>4.33</td>\n      <td>2.74</td>\n    </tr>\n    <tr>\n      <th>HistGradientBoostingRegressor</th>\n      <td>0.66</td>\n      <td>0.70</td>\n      <td>4.94</td>\n      <td>3.97</td>\n      <td>2.83</td>\n    </tr>\n    <tr>\n      <th>LGBMRegressor</th>\n      <td>0.65</td>\n      <td>0.70</td>\n      <td>4.95</td>\n      <td>8.74</td>\n      <td>2.86</td>\n    </tr>\n    <tr>\n      <th>AdaBoostRegressor</th>\n      <td>0.63</td>\n      <td>0.68</td>\n      <td>5.11</td>\n      <td>4.66</td>\n      <td>3.26</td>\n    </tr>\n    <tr>\n      <th>PoissonRegressor</th>\n      <td>0.57</td>\n      <td>0.63</td>\n      <td>5.52</td>\n      <td>6.88</td>\n      <td>3.42</td>\n    </tr>\n    <tr>\n      <th>LinearRegression</th>\n      <td>0.53</td>\n      <td>0.59</td>\n      <td>5.78</td>\n      <td>5.76</td>\n      <td>3.84</td>\n    </tr>\n    <tr>\n      <th>TransformedTargetRegressor</th>\n      <td>0.53</td>\n      <td>0.59</td>\n      <td>5.78</td>\n      <td>6.12</td>\n      <td>3.84</td>\n    </tr>\n    <tr>\n      <th>Lars</th>\n      <td>0.53</td>\n      <td>0.59</td>\n      <td>5.78</td>\n      <td>6.05</td>\n      <td>3.84</td>\n    </tr>\n    <tr>\n      <th>LassoLarsIC</th>\n      <td>0.53</td>\n      <td>0.59</td>\n      <td>5.79</td>\n      <td>6.29</td>\n      <td>3.84</td>\n    </tr>\n    <tr>\n      <th>DecisionTreeRegressor</th>\n      <td>0.53</td>\n      <td>0.59</td>\n      <td>5.79</td>\n      <td>4.35</td>\n      <td>3.58</td>\n    </tr>\n    <tr>\n      <th>Ridge</th>\n      <td>0.53</td>\n      <td>0.59</td>\n      <td>5.79</td>\n      <td>6.59</td>\n      <td>3.84</td>\n    </tr>\n    <tr>\n      <th>LarsCV</th>\n      <td>0.53</td>\n      <td>0.59</td>\n      <td>5.79</td>\n      <td>5.66</td>\n      <td>3.84</td>\n    </tr>\n    <tr>\n      <th>LassoLarsCV</th>\n      <td>0.52</td>\n      <td>0.59</td>\n      <td>5.81</td>\n      <td>6.20</td>\n      <td>3.84</td>\n    </tr>\n    <tr>\n      <th>LassoCV</th>\n      <td>0.52</td>\n      <td>0.59</td>\n      <td>5.81</td>\n      <td>5.97</td>\n      <td>3.84</td>\n    </tr>\n    <tr>\n      <th>ElasticNetCV</th>\n      <td>0.52</td>\n      <td>0.58</td>\n      <td>5.82</td>\n      <td>3.86</td>\n      <td>3.85</td>\n    </tr>\n    <tr>\n      <th>BayesianRidge</th>\n      <td>0.52</td>\n      <td>0.58</td>\n      <td>5.83</td>\n      <td>3.97</td>\n      <td>3.85</td>\n    </tr>\n    <tr>\n      <th>RidgeCV</th>\n      <td>0.52</td>\n      <td>0.58</td>\n      <td>5.85</td>\n      <td>6.45</td>\n      <td>3.86</td>\n    </tr>\n    <tr>\n      <th>SGDRegressor</th>\n      <td>0.51</td>\n      <td>0.57</td>\n      <td>5.89</td>\n      <td>5.74</td>\n      <td>3.89</td>\n    </tr>\n    <tr>\n      <th>KNeighborsRegressor</th>\n      <td>0.50</td>\n      <td>0.56</td>\n      <td>5.97</td>\n      <td>4.85</td>\n      <td>3.52</td>\n    </tr>\n    <tr>\n      <th>ExtraTreeRegressor</th>\n      <td>0.46</td>\n      <td>0.53</td>\n      <td>6.17</td>\n      <td>3.80</td>\n      <td>3.85</td>\n    </tr>\n    <tr>\n      <th>HuberRegressor</th>\n      <td>0.46</td>\n      <td>0.53</td>\n      <td>6.21</td>\n      <td>3.71</td>\n      <td>3.77</td>\n    </tr>\n    <tr>\n      <th>LinearSVR</th>\n      <td>0.45</td>\n      <td>0.52</td>\n      <td>6.27</td>\n      <td>5.64</td>\n      <td>3.75</td>\n    </tr>\n    <tr>\n      <th>Lasso</th>\n      <td>0.43</td>\n      <td>0.51</td>\n      <td>6.34</td>\n      <td>6.39</td>\n      <td>4.29</td>\n    </tr>\n    <tr>\n      <th>SVR</th>\n      <td>0.42</td>\n      <td>0.50</td>\n      <td>6.41</td>\n      <td>6.17</td>\n      <td>3.61</td>\n    </tr>\n    <tr>\n      <th>OrthogonalMatchingPursuitCV</th>\n      <td>0.41</td>\n      <td>0.49</td>\n      <td>6.46</td>\n      <td>5.63</td>\n      <td>4.40</td>\n    </tr>\n    <tr>\n      <th>NuSVR</th>\n      <td>0.41</td>\n      <td>0.49</td>\n      <td>6.47</td>\n      <td>6.03</td>\n      <td>3.71</td>\n    </tr>\n    <tr>\n      <th>ElasticNet</th>\n      <td>0.40</td>\n      <td>0.47</td>\n      <td>6.55</td>\n      <td>4.11</td>\n      <td>4.35</td>\n    </tr>\n    <tr>\n      <th>MLPRegressor</th>\n      <td>0.39</td>\n      <td>0.47</td>\n      <td>6.60</td>\n      <td>7.88</td>\n      <td>4.64</td>\n    </tr>\n    <tr>\n      <th>GammaRegressor</th>\n      <td>0.37</td>\n      <td>0.45</td>\n      <td>6.71</td>\n      <td>3.65</td>\n      <td>4.21</td>\n    </tr>\n    <tr>\n      <th>TweedieRegressor</th>\n      <td>0.36</td>\n      <td>0.45</td>\n      <td>6.72</td>\n      <td>5.79</td>\n      <td>4.46</td>\n    </tr>\n    <tr>\n      <th>OrthogonalMatchingPursuit</th>\n      <td>0.35</td>\n      <td>0.43</td>\n      <td>6.81</td>\n      <td>5.99</td>\n      <td>4.86</td>\n    </tr>\n    <tr>\n      <th>RANSACRegressor</th>\n      <td>0.35</td>\n      <td>0.43</td>\n      <td>6.81</td>\n      <td>7.36</td>\n      <td>3.97</td>\n    </tr>\n    <tr>\n      <th>PassiveAggressiveRegressor</th>\n      <td>0.23</td>\n      <td>0.33</td>\n      <td>7.38</td>\n      <td>6.19</td>\n      <td>5.87</td>\n    </tr>\n    <tr>\n      <th>GaussianProcessRegressor</th>\n      <td>0.02</td>\n      <td>0.15</td>\n      <td>8.33</td>\n      <td>4.83</td>\n      <td>4.85</td>\n    </tr>\n    <tr>\n      <th>DummyRegressor</th>\n      <td>-0.15</td>\n      <td>-0.00</td>\n      <td>9.03</td>\n      <td>3.96</td>\n      <td>6.25</td>\n    </tr>\n    <tr>\n      <th>LassoLars</th>\n      <td>-0.15</td>\n      <td>-0.00</td>\n      <td>9.03</td>\n      <td>5.87</td>\n      <td>6.25</td>\n    </tr>\n    <tr>\n      <th>QuantileRegressor</th>\n      <td>-0.16</td>\n      <td>-0.01</td>\n      <td>9.06</td>\n      <td>13.45</td>\n      <td>6.04</td>\n    </tr>\n    <tr>\n      <th>KernelRidge</th>\n      <td>-6.84</td>\n      <td>-5.83</td>\n      <td>23.59</td>\n      <td>5.74</td>\n      <td>22.87</td>\n    </tr>\n  </tbody>\n</table>\n</div>",
       "datasetInfos": [],
       "metadata": {},
       "removedWidgets": [],
       "textData": null,
       "type": "htmlSandbox"
      }
     },
     "output_type": "display_data"
    }
   ],
   "source": [
    "models"
   ]
  },
  {
   "cell_type": "markdown",
   "metadata": {
    "application/vnd.databricks.v1+cell": {
     "cellMetadata": {},
     "inputWidgets": {},
     "nuid": "651d677d-3ef6-42f6-b886-0d3e7043bb69",
     "showTitle": false,
     "title": ""
    }
   },
   "source": [
    "Now we can see our custom metric in the last column."
   ]
  },
  {
   "cell_type": "markdown",
   "metadata": {
    "application/vnd.databricks.v1+cell": {
     "cellMetadata": {
      "byteLimit": 2048000,
      "rowLimit": 10000
     },
     "inputWidgets": {},
     "nuid": "6a8387f8-964e-4d7c-9fab-c907edcd4f6e",
     "showTitle": false,
     "title": ""
    }
   },
   "source": [
    "We got top-5 models: \n",
    "* Gradient Boosting Regressor\n",
    "* Bagging Regressor\n",
    "* Random Forest Regressor\n",
    "* XGB Regressor \n",
    "* Extra Trees Regressor. \n",
    "\n",
    "LazyPredict provides an easy way to see which models work better, so we can focus on them, tune hyperparameters etc.\n",
    "\n",
    "The disadvantage is that LazyPredict doesn't give an opportunity to export the best model."
   ]
  },
  {
   "cell_type": "markdown",
   "metadata": {
    "application/vnd.databricks.v1+cell": {
     "cellMetadata": {
      "byteLimit": 2048000,
      "rowLimit": 10000
     },
     "inputWidgets": {},
     "nuid": "0a5fd28a-c589-485f-bab6-2fc3c9c42b46",
     "showTitle": false,
     "title": ""
    }
   },
   "source": [
    "## Regression with PyCaret"
   ]
  },
  {
   "cell_type": "markdown",
   "metadata": {
    "application/vnd.databricks.v1+cell": {
     "cellMetadata": {
      "byteLimit": 2048000,
      "rowLimit": 10000
     },
     "inputWidgets": {},
     "nuid": "a3459647-9a4a-443e-b76e-deb83e864b53",
     "showTitle": false,
     "title": ""
    }
   },
   "source": [
    "PyCaret is an open-source, low-code machine learning Python library, Python wrapper around machine learning libraries and frameworks, such as scikit-learn, XGBoost, LightGBM, CatBoost, and a few more. It was inspired by the emerging role of citizen data scientists, individuals who are not necessarily trained in data science or analytics but have the skills and tools to work with data and extract insights.\n",
    "\n",
    "PyCaret supports regression, classification and clustering problems, speeds up experiments and is integrated with BI.\n",
    "\n",
    "In this part of the notebook we will explore some of the key features of PyCaret."
   ]
  },
  {
   "cell_type": "markdown",
   "metadata": {
    "application/vnd.databricks.v1+cell": {
     "cellMetadata": {
      "byteLimit": 2048000,
      "rowLimit": 10000
     },
     "inputWidgets": {},
     "nuid": "2b256cda-1697-4d66-a804-f9c4a1783a26",
     "showTitle": false,
     "title": ""
    }
   },
   "source": [
    "Let's import regression module and setup an experiment. \n",
    "\n",
    "Note: PyCaret can automatically handle common preprocessing tasks, such as handling missing values, feature scaling, and categorical encoding, so we don't need to worry about it."
   ]
  },
  {
   "cell_type": "code",
   "execution_count": 0,
   "metadata": {
    "application/vnd.databricks.v1+cell": {
     "cellMetadata": {
      "byteLimit": 2048000,
      "rowLimit": 10000
     },
     "inputWidgets": {},
     "nuid": "2e06afde-5ee0-446a-9ab0-0a77f4833caf",
     "showTitle": false,
     "title": ""
    }
   },
   "outputs": [
    {
     "output_type": "display_data",
     "data": {
      "text/html": [
       "<div>\n",
       "<style scoped>\n",
       "    .dataframe tbody tr th:only-of-type {\n",
       "        vertical-align: middle;\n",
       "    }\n",
       "\n",
       "    .dataframe tbody tr th {\n",
       "        vertical-align: top;\n",
       "    }\n",
       "\n",
       "    .dataframe thead th {\n",
       "        text-align: right;\n",
       "    }\n",
       "</style>\n",
       "<table border=\"1\" class=\"dataframe\">\n",
       "  <thead>\n",
       "    <tr style=\"text-align: right;\">\n",
       "      <th></th>\n",
       "      <th>Description</th>\n",
       "      <th>Value</th>\n",
       "    </tr>\n",
       "  </thead>\n",
       "  <tbody>\n",
       "    <tr>\n",
       "      <th>0</th>\n",
       "      <td>Session id</td>\n",
       "      <td>7542</td>\n",
       "    </tr>\n",
       "    <tr>\n",
       "      <th>1</th>\n",
       "      <td>Target</td>\n",
       "      <td>target</td>\n",
       "    </tr>\n",
       "    <tr>\n",
       "      <th>2</th>\n",
       "      <td>Target type</td>\n",
       "      <td>Regression</td>\n",
       "    </tr>\n",
       "    <tr>\n",
       "      <th>3</th>\n",
       "      <td>Original data shape</td>\n",
       "      <td>(506, 15)</td>\n",
       "    </tr>\n",
       "    <tr>\n",
       "      <th>4</th>\n",
       "      <td>Transformed data shape</td>\n",
       "      <td>(506, 15)</td>\n",
       "    </tr>\n",
       "    <tr>\n",
       "      <th>5</th>\n",
       "      <td>Transformed train set shape</td>\n",
       "      <td>(354, 15)</td>\n",
       "    </tr>\n",
       "    <tr>\n",
       "      <th>6</th>\n",
       "      <td>Transformed test set shape</td>\n",
       "      <td>(152, 15)</td>\n",
       "    </tr>\n",
       "    <tr>\n",
       "      <th>7</th>\n",
       "      <td>Numeric features</td>\n",
       "      <td>14</td>\n",
       "    </tr>\n",
       "    <tr>\n",
       "      <th>8</th>\n",
       "      <td>Preprocess</td>\n",
       "      <td>True</td>\n",
       "    </tr>\n",
       "    <tr>\n",
       "      <th>9</th>\n",
       "      <td>Imputation type</td>\n",
       "      <td>simple</td>\n",
       "    </tr>\n",
       "    <tr>\n",
       "      <th>10</th>\n",
       "      <td>Numeric imputation</td>\n",
       "      <td>mean</td>\n",
       "    </tr>\n",
       "    <tr>\n",
       "      <th>11</th>\n",
       "      <td>Categorical imputation</td>\n",
       "      <td>mode</td>\n",
       "    </tr>\n",
       "    <tr>\n",
       "      <th>12</th>\n",
       "      <td>Fold Generator</td>\n",
       "      <td>KFold</td>\n",
       "    </tr>\n",
       "    <tr>\n",
       "      <th>13</th>\n",
       "      <td>Fold Number</td>\n",
       "      <td>10</td>\n",
       "    </tr>\n",
       "    <tr>\n",
       "      <th>14</th>\n",
       "      <td>CPU Jobs</td>\n",
       "      <td>-1</td>\n",
       "    </tr>\n",
       "    <tr>\n",
       "      <th>15</th>\n",
       "      <td>Use GPU</td>\n",
       "      <td>False</td>\n",
       "    </tr>\n",
       "    <tr>\n",
       "      <th>16</th>\n",
       "      <td>Log Experiment</td>\n",
       "      <td>False</td>\n",
       "    </tr>\n",
       "    <tr>\n",
       "      <th>17</th>\n",
       "      <td>Experiment Name</td>\n",
       "      <td>reg-default-name</td>\n",
       "    </tr>\n",
       "    <tr>\n",
       "      <th>18</th>\n",
       "      <td>USI</td>\n",
       "      <td>ea94</td>\n",
       "    </tr>\n",
       "  </tbody>\n",
       "</table>\n",
       "</div>"
      ]
     },
     "metadata": {
      "application/vnd.databricks.v1+output": {
       "addedWidgets": {},
       "arguments": {},
       "data": "<div>\n<style scoped>\n    .dataframe tbody tr th:only-of-type {\n        vertical-align: middle;\n    }\n\n    .dataframe tbody tr th {\n        vertical-align: top;\n    }\n\n    .dataframe thead th {\n        text-align: right;\n    }\n</style>\n<table border=\"1\" class=\"dataframe\">\n  <thead>\n    <tr style=\"text-align: right;\">\n      <th></th>\n      <th>Description</th>\n      <th>Value</th>\n    </tr>\n  </thead>\n  <tbody>\n    <tr>\n      <th>0</th>\n      <td>Session id</td>\n      <td>7542</td>\n    </tr>\n    <tr>\n      <th>1</th>\n      <td>Target</td>\n      <td>target</td>\n    </tr>\n    <tr>\n      <th>2</th>\n      <td>Target type</td>\n      <td>Regression</td>\n    </tr>\n    <tr>\n      <th>3</th>\n      <td>Original data shape</td>\n      <td>(506, 15)</td>\n    </tr>\n    <tr>\n      <th>4</th>\n      <td>Transformed data shape</td>\n      <td>(506, 15)</td>\n    </tr>\n    <tr>\n      <th>5</th>\n      <td>Transformed train set shape</td>\n      <td>(354, 15)</td>\n    </tr>\n    <tr>\n      <th>6</th>\n      <td>Transformed test set shape</td>\n      <td>(152, 15)</td>\n    </tr>\n    <tr>\n      <th>7</th>\n      <td>Numeric features</td>\n      <td>14</td>\n    </tr>\n    <tr>\n      <th>8</th>\n      <td>Preprocess</td>\n      <td>True</td>\n    </tr>\n    <tr>\n      <th>9</th>\n      <td>Imputation type</td>\n      <td>simple</td>\n    </tr>\n    <tr>\n      <th>10</th>\n      <td>Numeric imputation</td>\n      <td>mean</td>\n    </tr>\n    <tr>\n      <th>11</th>\n      <td>Categorical imputation</td>\n      <td>mode</td>\n    </tr>\n    <tr>\n      <th>12</th>\n      <td>Fold Generator</td>\n      <td>KFold</td>\n    </tr>\n    <tr>\n      <th>13</th>\n      <td>Fold Number</td>\n      <td>10</td>\n    </tr>\n    <tr>\n      <th>14</th>\n      <td>CPU Jobs</td>\n      <td>-1</td>\n    </tr>\n    <tr>\n      <th>15</th>\n      <td>Use GPU</td>\n      <td>False</td>\n    </tr>\n    <tr>\n      <th>16</th>\n      <td>Log Experiment</td>\n      <td>False</td>\n    </tr>\n    <tr>\n      <th>17</th>\n      <td>Experiment Name</td>\n      <td>reg-default-name</td>\n    </tr>\n    <tr>\n      <th>18</th>\n      <td>USI</td>\n      <td>ea94</td>\n    </tr>\n  </tbody>\n</table>\n</div>",
       "datasetInfos": [],
       "metadata": {},
       "removedWidgets": [],
       "textData": null,
       "type": "htmlSandbox"
      }
     },
     "output_type": "display_data"
    }
   ],
   "source": [
    "from pycaret.regression import *\n",
    " \n",
    "s = setup(boston_df, target = 'target')"
   ]
  },
  {
   "cell_type": "markdown",
   "metadata": {
    "application/vnd.databricks.v1+cell": {
     "cellMetadata": {
      "byteLimit": 2048000,
      "rowLimit": 10000
     },
     "inputWidgets": {},
     "nuid": "7e9473b5-963c-4857-aba2-f7e140cd432d",
     "showTitle": false,
     "title": ""
    }
   },
   "source": [
    "Now that the data is preprocessed, we can use compare_models() function, which trains and evaluates the performance of all the estimators."
   ]
  },
  {
   "cell_type": "code",
   "execution_count": 0,
   "metadata": {
    "application/vnd.databricks.v1+cell": {
     "cellMetadata": {
      "byteLimit": 2048000,
      "rowLimit": 10000
     },
     "inputWidgets": {},
     "nuid": "6ed9fecb-f88f-4c1a-b8dc-bbc1c421238f",
     "showTitle": false,
     "title": ""
    }
   },
   "outputs": [
    {
     "output_type": "display_data",
     "data": {
      "text/html": [
       "<div>\n",
       "<style scoped>\n",
       "    .dataframe tbody tr th:only-of-type {\n",
       "        vertical-align: middle;\n",
       "    }\n",
       "\n",
       "    .dataframe tbody tr th {\n",
       "        vertical-align: top;\n",
       "    }\n",
       "\n",
       "    .dataframe thead th {\n",
       "        text-align: right;\n",
       "    }\n",
       "</style>\n",
       "<table border=\"1\" class=\"dataframe\">\n",
       "  <thead>\n",
       "    <tr style=\"text-align: right;\">\n",
       "      <th></th>\n",
       "      <th>Model</th>\n",
       "      <th>MAE</th>\n",
       "      <th>MSE</th>\n",
       "      <th>RMSE</th>\n",
       "      <th>R2</th>\n",
       "      <th>RMSLE</th>\n",
       "      <th>MAPE</th>\n",
       "      <th>TT (Sec)</th>\n",
       "    </tr>\n",
       "  </thead>\n",
       "  <tbody>\n",
       "    <tr>\n",
       "      <th>et</th>\n",
       "      <td>Extra Trees Regressor</td>\n",
       "      <td>1.99</td>\n",
       "      <td>8.71</td>\n",
       "      <td>2.84</td>\n",
       "      <td>0.90</td>\n",
       "      <td>0.13</td>\n",
       "      <td>0.10</td>\n",
       "      <td>0.44</td>\n",
       "    </tr>\n",
       "    <tr>\n",
       "      <th>gbr</th>\n",
       "      <td>Gradient Boosting Regressor</td>\n",
       "      <td>2.08</td>\n",
       "      <td>9.18</td>\n",
       "      <td>2.94</td>\n",
       "      <td>0.90</td>\n",
       "      <td>0.14</td>\n",
       "      <td>0.11</td>\n",
       "      <td>0.35</td>\n",
       "    </tr>\n",
       "    <tr>\n",
       "      <th>xgboost</th>\n",
       "      <td>Extreme Gradient Boosting</td>\n",
       "      <td>2.15</td>\n",
       "      <td>9.29</td>\n",
       "      <td>2.99</td>\n",
       "      <td>0.89</td>\n",
       "      <td>0.14</td>\n",
       "      <td>0.11</td>\n",
       "      <td>0.33</td>\n",
       "    </tr>\n",
       "    <tr>\n",
       "      <th>lightgbm</th>\n",
       "      <td>Light Gradient Boosting Machine</td>\n",
       "      <td>2.25</td>\n",
       "      <td>10.73</td>\n",
       "      <td>3.18</td>\n",
       "      <td>0.88</td>\n",
       "      <td>0.15</td>\n",
       "      <td>0.11</td>\n",
       "      <td>0.21</td>\n",
       "    </tr>\n",
       "    <tr>\n",
       "      <th>rf</th>\n",
       "      <td>Random Forest Regressor</td>\n",
       "      <td>2.23</td>\n",
       "      <td>11.14</td>\n",
       "      <td>3.21</td>\n",
       "      <td>0.88</td>\n",
       "      <td>0.14</td>\n",
       "      <td>0.11</td>\n",
       "      <td>0.52</td>\n",
       "    </tr>\n",
       "    <tr>\n",
       "      <th>ada</th>\n",
       "      <td>AdaBoost Regressor</td>\n",
       "      <td>2.76</td>\n",
       "      <td>13.79</td>\n",
       "      <td>3.63</td>\n",
       "      <td>0.84</td>\n",
       "      <td>0.17</td>\n",
       "      <td>0.15</td>\n",
       "      <td>0.34</td>\n",
       "    </tr>\n",
       "    <tr>\n",
       "      <th>dt</th>\n",
       "      <td>Decision Tree Regressor</td>\n",
       "      <td>2.94</td>\n",
       "      <td>23.05</td>\n",
       "      <td>4.54</td>\n",
       "      <td>0.75</td>\n",
       "      <td>0.18</td>\n",
       "      <td>0.14</td>\n",
       "      <td>0.15</td>\n",
       "    </tr>\n",
       "    <tr>\n",
       "      <th>ridge</th>\n",
       "      <td>Ridge Regression</td>\n",
       "      <td>3.67</td>\n",
       "      <td>26.85</td>\n",
       "      <td>5.14</td>\n",
       "      <td>0.68</td>\n",
       "      <td>0.29</td>\n",
       "      <td>0.19</td>\n",
       "      <td>0.15</td>\n",
       "    </tr>\n",
       "    <tr>\n",
       "      <th>lar</th>\n",
       "      <td>Least Angle Regression</td>\n",
       "      <td>3.69</td>\n",
       "      <td>26.76</td>\n",
       "      <td>5.13</td>\n",
       "      <td>0.68</td>\n",
       "      <td>0.29</td>\n",
       "      <td>0.19</td>\n",
       "      <td>0.17</td>\n",
       "    </tr>\n",
       "    <tr>\n",
       "      <th>lr</th>\n",
       "      <td>Linear Regression</td>\n",
       "      <td>3.69</td>\n",
       "      <td>26.76</td>\n",
       "      <td>5.13</td>\n",
       "      <td>0.68</td>\n",
       "      <td>0.29</td>\n",
       "      <td>0.19</td>\n",
       "      <td>0.76</td>\n",
       "    </tr>\n",
       "    <tr>\n",
       "      <th>br</th>\n",
       "      <td>Bayesian Ridge</td>\n",
       "      <td>3.74</td>\n",
       "      <td>27.57</td>\n",
       "      <td>5.19</td>\n",
       "      <td>0.68</td>\n",
       "      <td>0.29</td>\n",
       "      <td>0.19</td>\n",
       "      <td>0.16</td>\n",
       "    </tr>\n",
       "    <tr>\n",
       "      <th>en</th>\n",
       "      <td>Elastic Net</td>\n",
       "      <td>3.97</td>\n",
       "      <td>31.13</td>\n",
       "      <td>5.49</td>\n",
       "      <td>0.65</td>\n",
       "      <td>0.29</td>\n",
       "      <td>0.19</td>\n",
       "      <td>0.15</td>\n",
       "    </tr>\n",
       "    <tr>\n",
       "      <th>lasso</th>\n",
       "      <td>Lasso Regression</td>\n",
       "      <td>3.98</td>\n",
       "      <td>31.42</td>\n",
       "      <td>5.52</td>\n",
       "      <td>0.65</td>\n",
       "      <td>0.29</td>\n",
       "      <td>0.20</td>\n",
       "      <td>0.17</td>\n",
       "    </tr>\n",
       "    <tr>\n",
       "      <th>huber</th>\n",
       "      <td>Huber Regressor</td>\n",
       "      <td>4.06</td>\n",
       "      <td>34.77</td>\n",
       "      <td>5.83</td>\n",
       "      <td>0.59</td>\n",
       "      <td>0.30</td>\n",
       "      <td>0.20</td>\n",
       "      <td>0.20</td>\n",
       "    </tr>\n",
       "    <tr>\n",
       "      <th>knn</th>\n",
       "      <td>K Neighbors Regressor</td>\n",
       "      <td>4.44</td>\n",
       "      <td>38.33</td>\n",
       "      <td>6.14</td>\n",
       "      <td>0.55</td>\n",
       "      <td>0.24</td>\n",
       "      <td>0.20</td>\n",
       "      <td>0.19</td>\n",
       "    </tr>\n",
       "    <tr>\n",
       "      <th>omp</th>\n",
       "      <td>Orthogonal Matching Pursuit</td>\n",
       "      <td>4.88</td>\n",
       "      <td>43.54</td>\n",
       "      <td>6.52</td>\n",
       "      <td>0.50</td>\n",
       "      <td>0.33</td>\n",
       "      <td>0.23</td>\n",
       "      <td>0.15</td>\n",
       "    </tr>\n",
       "    <tr>\n",
       "      <th>llar</th>\n",
       "      <td>Lasso Least Angle Regression</td>\n",
       "      <td>6.95</td>\n",
       "      <td>92.47</td>\n",
       "      <td>9.49</td>\n",
       "      <td>-0.03</td>\n",
       "      <td>0.40</td>\n",
       "      <td>0.38</td>\n",
       "      <td>0.16</td>\n",
       "    </tr>\n",
       "    <tr>\n",
       "      <th>dummy</th>\n",
       "      <td>Dummy Regressor</td>\n",
       "      <td>6.95</td>\n",
       "      <td>92.47</td>\n",
       "      <td>9.49</td>\n",
       "      <td>-0.03</td>\n",
       "      <td>0.40</td>\n",
       "      <td>0.38</td>\n",
       "      <td>0.25</td>\n",
       "    </tr>\n",
       "    <tr>\n",
       "      <th>par</th>\n",
       "      <td>Passive Aggressive Regressor</td>\n",
       "      <td>10.29</td>\n",
       "      <td>167.29</td>\n",
       "      <td>12.65</td>\n",
       "      <td>-1.24</td>\n",
       "      <td>0.51</td>\n",
       "      <td>0.54</td>\n",
       "      <td>0.15</td>\n",
       "    </tr>\n",
       "  </tbody>\n",
       "</table>\n",
       "</div>"
      ]
     },
     "metadata": {
      "application/vnd.databricks.v1+output": {
       "addedWidgets": {},
       "arguments": {},
       "data": "<div>\n<style scoped>\n    .dataframe tbody tr th:only-of-type {\n        vertical-align: middle;\n    }\n\n    .dataframe tbody tr th {\n        vertical-align: top;\n    }\n\n    .dataframe thead th {\n        text-align: right;\n    }\n</style>\n<table border=\"1\" class=\"dataframe\">\n  <thead>\n    <tr style=\"text-align: right;\">\n      <th></th>\n      <th>Model</th>\n      <th>MAE</th>\n      <th>MSE</th>\n      <th>RMSE</th>\n      <th>R2</th>\n      <th>RMSLE</th>\n      <th>MAPE</th>\n      <th>TT (Sec)</th>\n    </tr>\n  </thead>\n  <tbody>\n    <tr>\n      <th>et</th>\n      <td>Extra Trees Regressor</td>\n      <td>1.99</td>\n      <td>8.71</td>\n      <td>2.84</td>\n      <td>0.90</td>\n      <td>0.13</td>\n      <td>0.10</td>\n      <td>0.44</td>\n    </tr>\n    <tr>\n      <th>gbr</th>\n      <td>Gradient Boosting Regressor</td>\n      <td>2.08</td>\n      <td>9.18</td>\n      <td>2.94</td>\n      <td>0.90</td>\n      <td>0.14</td>\n      <td>0.11</td>\n      <td>0.35</td>\n    </tr>\n    <tr>\n      <th>xgboost</th>\n      <td>Extreme Gradient Boosting</td>\n      <td>2.15</td>\n      <td>9.29</td>\n      <td>2.99</td>\n      <td>0.89</td>\n      <td>0.14</td>\n      <td>0.11</td>\n      <td>0.33</td>\n    </tr>\n    <tr>\n      <th>lightgbm</th>\n      <td>Light Gradient Boosting Machine</td>\n      <td>2.25</td>\n      <td>10.73</td>\n      <td>3.18</td>\n      <td>0.88</td>\n      <td>0.15</td>\n      <td>0.11</td>\n      <td>0.21</td>\n    </tr>\n    <tr>\n      <th>rf</th>\n      <td>Random Forest Regressor</td>\n      <td>2.23</td>\n      <td>11.14</td>\n      <td>3.21</td>\n      <td>0.88</td>\n      <td>0.14</td>\n      <td>0.11</td>\n      <td>0.52</td>\n    </tr>\n    <tr>\n      <th>ada</th>\n      <td>AdaBoost Regressor</td>\n      <td>2.76</td>\n      <td>13.79</td>\n      <td>3.63</td>\n      <td>0.84</td>\n      <td>0.17</td>\n      <td>0.15</td>\n      <td>0.34</td>\n    </tr>\n    <tr>\n      <th>dt</th>\n      <td>Decision Tree Regressor</td>\n      <td>2.94</td>\n      <td>23.05</td>\n      <td>4.54</td>\n      <td>0.75</td>\n      <td>0.18</td>\n      <td>0.14</td>\n      <td>0.15</td>\n    </tr>\n    <tr>\n      <th>ridge</th>\n      <td>Ridge Regression</td>\n      <td>3.67</td>\n      <td>26.85</td>\n      <td>5.14</td>\n      <td>0.68</td>\n      <td>0.29</td>\n      <td>0.19</td>\n      <td>0.15</td>\n    </tr>\n    <tr>\n      <th>lar</th>\n      <td>Least Angle Regression</td>\n      <td>3.69</td>\n      <td>26.76</td>\n      <td>5.13</td>\n      <td>0.68</td>\n      <td>0.29</td>\n      <td>0.19</td>\n      <td>0.17</td>\n    </tr>\n    <tr>\n      <th>lr</th>\n      <td>Linear Regression</td>\n      <td>3.69</td>\n      <td>26.76</td>\n      <td>5.13</td>\n      <td>0.68</td>\n      <td>0.29</td>\n      <td>0.19</td>\n      <td>0.76</td>\n    </tr>\n    <tr>\n      <th>br</th>\n      <td>Bayesian Ridge</td>\n      <td>3.74</td>\n      <td>27.57</td>\n      <td>5.19</td>\n      <td>0.68</td>\n      <td>0.29</td>\n      <td>0.19</td>\n      <td>0.16</td>\n    </tr>\n    <tr>\n      <th>en</th>\n      <td>Elastic Net</td>\n      <td>3.97</td>\n      <td>31.13</td>\n      <td>5.49</td>\n      <td>0.65</td>\n      <td>0.29</td>\n      <td>0.19</td>\n      <td>0.15</td>\n    </tr>\n    <tr>\n      <th>lasso</th>\n      <td>Lasso Regression</td>\n      <td>3.98</td>\n      <td>31.42</td>\n      <td>5.52</td>\n      <td>0.65</td>\n      <td>0.29</td>\n      <td>0.20</td>\n      <td>0.17</td>\n    </tr>\n    <tr>\n      <th>huber</th>\n      <td>Huber Regressor</td>\n      <td>4.06</td>\n      <td>34.77</td>\n      <td>5.83</td>\n      <td>0.59</td>\n      <td>0.30</td>\n      <td>0.20</td>\n      <td>0.20</td>\n    </tr>\n    <tr>\n      <th>knn</th>\n      <td>K Neighbors Regressor</td>\n      <td>4.44</td>\n      <td>38.33</td>\n      <td>6.14</td>\n      <td>0.55</td>\n      <td>0.24</td>\n      <td>0.20</td>\n      <td>0.19</td>\n    </tr>\n    <tr>\n      <th>omp</th>\n      <td>Orthogonal Matching Pursuit</td>\n      <td>4.88</td>\n      <td>43.54</td>\n      <td>6.52</td>\n      <td>0.50</td>\n      <td>0.33</td>\n      <td>0.23</td>\n      <td>0.15</td>\n    </tr>\n    <tr>\n      <th>llar</th>\n      <td>Lasso Least Angle Regression</td>\n      <td>6.95</td>\n      <td>92.47</td>\n      <td>9.49</td>\n      <td>-0.03</td>\n      <td>0.40</td>\n      <td>0.38</td>\n      <td>0.16</td>\n    </tr>\n    <tr>\n      <th>dummy</th>\n      <td>Dummy Regressor</td>\n      <td>6.95</td>\n      <td>92.47</td>\n      <td>9.49</td>\n      <td>-0.03</td>\n      <td>0.40</td>\n      <td>0.38</td>\n      <td>0.25</td>\n    </tr>\n    <tr>\n      <th>par</th>\n      <td>Passive Aggressive Regressor</td>\n      <td>10.29</td>\n      <td>167.29</td>\n      <td>12.65</td>\n      <td>-1.24</td>\n      <td>0.51</td>\n      <td>0.54</td>\n      <td>0.15</td>\n    </tr>\n  </tbody>\n</table>\n</div>",
       "datasetInfos": [],
       "metadata": {},
       "removedWidgets": [],
       "textData": null,
       "type": "htmlSandbox"
      }
     },
     "output_type": "display_data"
    },
    {
     "output_type": "stream",
     "name": "stderr",
     "output_type": "stream",
     "text": [
      "\rProcessing:   0%|          | 0/81 [00:00<?, ?it/s]\rProcessing:   6%|▌         | 5/81 [00:07<01:55,  1.52s/it]\rProcessing:   7%|▋         | 6/81 [00:07<01:31,  1.22s/it]\rProcessing:   9%|▊         | 7/81 [00:07<01:12,  1.03it/s]\rProcessing:  11%|█         | 9/81 [00:09<01:06,  1.08it/s]\rProcessing:  12%|█▏        | 10/81 [00:09<00:53,  1.32it/s]\rProcessing:  14%|█▎        | 11/81 [00:10<00:43,  1.62it/s]\rProcessing:  16%|█▌        | 13/81 [00:11<00:45,  1.50it/s]\rProcessing:  17%|█▋        | 14/81 [00:11<00:37,  1.81it/s]\rProcessing:  19%|█▊        | 15/81 [00:11<00:30,  2.16it/s]\rProcessing:  21%|██        | 17/81 [00:13<00:37,  1.73it/s]\rProcessing:  22%|██▏       | 18/81 [00:13<00:30,  2.06it/s]\rProcessing:  23%|██▎       | 19/81 [00:13<00:25,  2.43it/s]\rProcessing:  26%|██▌       | 21/81 [00:15<00:35,  1.71it/s]\rProcessing:  27%|██▋       | 22/81 [00:15<00:29,  2.01it/s]\rProcessing:  28%|██▊       | 23/81 [00:15<00:24,  2.37it/s]\rProcessing:  31%|███       | 25/81 [00:17<00:32,  1.74it/s]\rProcessing:  32%|███▏      | 26/81 [00:17<00:26,  2.04it/s]\rProcessing:  33%|███▎      | 27/81 [00:17<00:22,  2.40it/s]\rProcessing:  36%|███▌      | 29/81 [00:19<00:28,  1.82it/s]\rProcessing:  37%|███▋      | 30/81 [00:19<00:23,  2.17it/s]\rProcessing:  38%|███▊      | 31/81 [00:19<00:19,  2.54it/s]\rProcessing:  41%|████      | 33/81 [00:21<00:27,  1.76it/s]\rProcessing:  42%|████▏     | 34/81 [00:21<00:22,  2.07it/s]\rProcessing:  43%|████▎     | 35/81 [00:21<00:18,  2.44it/s]\rProcessing:  46%|████▌     | 37/81 [00:23<00:24,  1.83it/s]\rProcessing:  47%|████▋     | 38/81 [00:23<00:19,  2.16it/s]\rProcessing:  48%|████▊     | 39/81 [00:23<00:16,  2.53it/s]\rProcessing:  51%|█████     | 41/81 [00:25<00:25,  1.55it/s]\rProcessing:  52%|█████▏    | 42/81 [00:25<00:21,  1.84it/s]\rProcessing:  53%|█████▎    | 43/81 [00:25<00:17,  2.18it/s]\rProcessing:  56%|█████▌    | 45/81 [00:27<00:23,  1.52it/s]\rProcessing:  57%|█████▋    | 46/81 [00:27<00:19,  1.81it/s]\rProcessing:  58%|█████▊    | 47/81 [00:28<00:15,  2.16it/s]\rProcessing:  60%|██████    | 49/81 [00:29<00:18,  1.73it/s]\rProcessing:  62%|██████▏   | 50/81 [00:29<00:14,  2.07it/s]\rProcessing:  63%|██████▎   | 51/81 [00:29<00:12,  2.45it/s]\rProcessing:  65%|██████▌   | 53/81 [00:35<00:36,  1.32s/it]\rProcessing:  67%|██████▋   | 54/81 [00:35<00:28,  1.06s/it]\rProcessing:  68%|██████▊   | 55/81 [00:35<00:22,  1.18it/s]\rProcessing:  70%|███████   | 57/81 [00:39<00:33,  1.41s/it]\rProcessing:  72%|███████▏  | 58/81 [00:40<00:26,  1.13s/it]\rProcessing:  73%|███████▎  | 59/81 [00:40<00:19,  1.11it/s]\rProcessing:  75%|███████▌  | 61/81 [00:43<00:24,  1.24s/it]\rProcessing:  77%|███████▋  | 62/81 [00:43<00:18,  1.00it/s]\rProcessing:  78%|███████▊  | 63/81 [00:44<00:14,  1.25it/s]\rProcessing:  80%|████████  | 65/81 [00:47<00:18,  1.18s/it]\rProcessing:  81%|████████▏ | 66/81 [00:47<00:14,  1.05it/s]\rProcessing:  83%|████████▎ | 67/81 [00:47<00:10,  1.30it/s]\rProcessing:  85%|████████▌ | 69/81 [00:51<00:13,  1.13s/it]\rProcessing:  86%|████████▋ | 70/81 [00:51<00:10,  1.10it/s]\rProcessing:  88%|████████▊ | 71/81 [00:51<00:07,  1.37it/s]\rProcessing:  90%|█████████ | 73/81 [00:53<00:06,  1.16it/s]\rProcessing:  91%|█████████▏| 74/81 [00:53<00:04,  1.42it/s]\rProcessing:  93%|█████████▎| 75/81 [00:54<00:03,  1.72it/s]\rProcessing:  95%|█████████▌| 77/81 [00:56<00:03,  1.17it/s]\rProcessing:  96%|█████████▋| 78/81 [00:56<00:02,  1.42it/s]\rProcessing:  98%|█████████▊| 79/81 [00:56<00:01,  1.73it/s]\rProcessing: 100%|██████████| 81/81 [01:06<00:00,  2.40s/it]\r                                                           \r"
     ]
    }
   ],
   "source": [
    "best = compare_models()"
   ]
  },
  {
   "cell_type": "markdown",
   "metadata": {
    "application/vnd.databricks.v1+cell": {
     "cellMetadata": {
      "byteLimit": 2048000,
      "rowLimit": 10000
     },
     "inputWidgets": {},
     "nuid": "66fb22b8-397c-4c11-a9fb-25acb8de99fe",
     "showTitle": false,
     "title": ""
    }
   },
   "source": [
    "With PyCaret we got very similar list of best regressors."
   ]
  },
  {
   "cell_type": "markdown",
   "metadata": {
    "application/vnd.databricks.v1+cell": {
     "cellMetadata": {},
     "inputWidgets": {},
     "nuid": "7705e4dd-e06f-4b40-8a52-c053a7940be4",
     "showTitle": false,
     "title": ""
    }
   },
   "source": [
    "####Optimization\n",
    "\n",
    "PyCaret makes it easy to tune hyperparameters of the selected model using the tune_model() function. \n",
    "\n",
    "You can increase the number of iterations (n_iter parameter) depending on how much time and resouces you have. By default, it is set to 10.\n",
    "\n",
    "You can also choose which metric to optimize for (optimize parameter). By default, it is set to R2 for regression problem."
   ]
  },
  {
   "cell_type": "code",
   "execution_count": 0,
   "metadata": {
    "application/vnd.databricks.v1+cell": {
     "cellMetadata": {
      "byteLimit": 2048000,
      "rowLimit": 10000
     },
     "inputWidgets": {},
     "nuid": "11d8b65d-d30f-4885-93d3-b66b16498f7d",
     "showTitle": false,
     "title": ""
    }
   },
   "outputs": [
    {
     "output_type": "display_data",
     "data": {
      "text/html": [
       "<div>\n",
       "<style scoped>\n",
       "    .dataframe tbody tr th:only-of-type {\n",
       "        vertical-align: middle;\n",
       "    }\n",
       "\n",
       "    .dataframe tbody tr th {\n",
       "        vertical-align: top;\n",
       "    }\n",
       "\n",
       "    .dataframe thead th {\n",
       "        text-align: right;\n",
       "    }\n",
       "</style>\n",
       "<table border=\"1\" class=\"dataframe\">\n",
       "  <thead>\n",
       "    <tr style=\"text-align: right;\">\n",
       "      <th></th>\n",
       "      <th>MAE</th>\n",
       "      <th>MSE</th>\n",
       "      <th>RMSE</th>\n",
       "      <th>R2</th>\n",
       "      <th>RMSLE</th>\n",
       "      <th>MAPE</th>\n",
       "    </tr>\n",
       "    <tr>\n",
       "      <th>Fold</th>\n",
       "      <th></th>\n",
       "      <th></th>\n",
       "      <th></th>\n",
       "      <th></th>\n",
       "      <th></th>\n",
       "      <th></th>\n",
       "    </tr>\n",
       "  </thead>\n",
       "  <tbody>\n",
       "    <tr>\n",
       "      <th>0</th>\n",
       "      <td>2.49</td>\n",
       "      <td>9.43</td>\n",
       "      <td>3.07</td>\n",
       "      <td>0.89</td>\n",
       "      <td>0.17</td>\n",
       "      <td>0.15</td>\n",
       "    </tr>\n",
       "    <tr>\n",
       "      <th>1</th>\n",
       "      <td>2.91</td>\n",
       "      <td>20.05</td>\n",
       "      <td>4.48</td>\n",
       "      <td>0.81</td>\n",
       "      <td>0.15</td>\n",
       "      <td>0.12</td>\n",
       "    </tr>\n",
       "    <tr>\n",
       "      <th>2</th>\n",
       "      <td>3.59</td>\n",
       "      <td>36.88</td>\n",
       "      <td>6.07</td>\n",
       "      <td>0.75</td>\n",
       "      <td>0.25</td>\n",
       "      <td>0.19</td>\n",
       "    </tr>\n",
       "    <tr>\n",
       "      <th>3</th>\n",
       "      <td>2.30</td>\n",
       "      <td>9.29</td>\n",
       "      <td>3.05</td>\n",
       "      <td>0.90</td>\n",
       "      <td>0.11</td>\n",
       "      <td>0.10</td>\n",
       "    </tr>\n",
       "    <tr>\n",
       "      <th>4</th>\n",
       "      <td>1.87</td>\n",
       "      <td>5.63</td>\n",
       "      <td>2.37</td>\n",
       "      <td>0.88</td>\n",
       "      <td>0.12</td>\n",
       "      <td>0.10</td>\n",
       "    </tr>\n",
       "    <tr>\n",
       "      <th>5</th>\n",
       "      <td>2.12</td>\n",
       "      <td>9.34</td>\n",
       "      <td>3.06</td>\n",
       "      <td>0.87</td>\n",
       "      <td>0.17</td>\n",
       "      <td>0.13</td>\n",
       "    </tr>\n",
       "    <tr>\n",
       "      <th>6</th>\n",
       "      <td>2.34</td>\n",
       "      <td>13.22</td>\n",
       "      <td>3.64</td>\n",
       "      <td>0.90</td>\n",
       "      <td>0.12</td>\n",
       "      <td>0.09</td>\n",
       "    </tr>\n",
       "    <tr>\n",
       "      <th>7</th>\n",
       "      <td>2.22</td>\n",
       "      <td>11.31</td>\n",
       "      <td>3.36</td>\n",
       "      <td>0.87</td>\n",
       "      <td>0.13</td>\n",
       "      <td>0.10</td>\n",
       "    </tr>\n",
       "    <tr>\n",
       "      <th>8</th>\n",
       "      <td>2.75</td>\n",
       "      <td>13.99</td>\n",
       "      <td>3.74</td>\n",
       "      <td>0.82</td>\n",
       "      <td>0.19</td>\n",
       "      <td>0.15</td>\n",
       "    </tr>\n",
       "    <tr>\n",
       "      <th>9</th>\n",
       "      <td>2.24</td>\n",
       "      <td>7.92</td>\n",
       "      <td>2.81</td>\n",
       "      <td>0.85</td>\n",
       "      <td>0.14</td>\n",
       "      <td>0.12</td>\n",
       "    </tr>\n",
       "    <tr>\n",
       "      <th>Mean</th>\n",
       "      <td>2.48</td>\n",
       "      <td>13.71</td>\n",
       "      <td>3.57</td>\n",
       "      <td>0.85</td>\n",
       "      <td>0.16</td>\n",
       "      <td>0.13</td>\n",
       "    </tr>\n",
       "    <tr>\n",
       "      <th>Std</th>\n",
       "      <td>0.46</td>\n",
       "      <td>8.60</td>\n",
       "      <td>1.00</td>\n",
       "      <td>0.05</td>\n",
       "      <td>0.04</td>\n",
       "      <td>0.03</td>\n",
       "    </tr>\n",
       "  </tbody>\n",
       "</table>\n",
       "</div>"
      ]
     },
     "metadata": {
      "application/vnd.databricks.v1+output": {
       "addedWidgets": {},
       "arguments": {},
       "data": "<div>\n<style scoped>\n    .dataframe tbody tr th:only-of-type {\n        vertical-align: middle;\n    }\n\n    .dataframe tbody tr th {\n        vertical-align: top;\n    }\n\n    .dataframe thead th {\n        text-align: right;\n    }\n</style>\n<table border=\"1\" class=\"dataframe\">\n  <thead>\n    <tr style=\"text-align: right;\">\n      <th></th>\n      <th>MAE</th>\n      <th>MSE</th>\n      <th>RMSE</th>\n      <th>R2</th>\n      <th>RMSLE</th>\n      <th>MAPE</th>\n    </tr>\n    <tr>\n      <th>Fold</th>\n      <th></th>\n      <th></th>\n      <th></th>\n      <th></th>\n      <th></th>\n      <th></th>\n    </tr>\n  </thead>\n  <tbody>\n    <tr>\n      <th>0</th>\n      <td>2.49</td>\n      <td>9.43</td>\n      <td>3.07</td>\n      <td>0.89</td>\n      <td>0.17</td>\n      <td>0.15</td>\n    </tr>\n    <tr>\n      <th>1</th>\n      <td>2.91</td>\n      <td>20.05</td>\n      <td>4.48</td>\n      <td>0.81</td>\n      <td>0.15</td>\n      <td>0.12</td>\n    </tr>\n    <tr>\n      <th>2</th>\n      <td>3.59</td>\n      <td>36.88</td>\n      <td>6.07</td>\n      <td>0.75</td>\n      <td>0.25</td>\n      <td>0.19</td>\n    </tr>\n    <tr>\n      <th>3</th>\n      <td>2.30</td>\n      <td>9.29</td>\n      <td>3.05</td>\n      <td>0.90</td>\n      <td>0.11</td>\n      <td>0.10</td>\n    </tr>\n    <tr>\n      <th>4</th>\n      <td>1.87</td>\n      <td>5.63</td>\n      <td>2.37</td>\n      <td>0.88</td>\n      <td>0.12</td>\n      <td>0.10</td>\n    </tr>\n    <tr>\n      <th>5</th>\n      <td>2.12</td>\n      <td>9.34</td>\n      <td>3.06</td>\n      <td>0.87</td>\n      <td>0.17</td>\n      <td>0.13</td>\n    </tr>\n    <tr>\n      <th>6</th>\n      <td>2.34</td>\n      <td>13.22</td>\n      <td>3.64</td>\n      <td>0.90</td>\n      <td>0.12</td>\n      <td>0.09</td>\n    </tr>\n    <tr>\n      <th>7</th>\n      <td>2.22</td>\n      <td>11.31</td>\n      <td>3.36</td>\n      <td>0.87</td>\n      <td>0.13</td>\n      <td>0.10</td>\n    </tr>\n    <tr>\n      <th>8</th>\n      <td>2.75</td>\n      <td>13.99</td>\n      <td>3.74</td>\n      <td>0.82</td>\n      <td>0.19</td>\n      <td>0.15</td>\n    </tr>\n    <tr>\n      <th>9</th>\n      <td>2.24</td>\n      <td>7.92</td>\n      <td>2.81</td>\n      <td>0.85</td>\n      <td>0.14</td>\n      <td>0.12</td>\n    </tr>\n    <tr>\n      <th>Mean</th>\n      <td>2.48</td>\n      <td>13.71</td>\n      <td>3.57</td>\n      <td>0.85</td>\n      <td>0.16</td>\n      <td>0.13</td>\n    </tr>\n    <tr>\n      <th>Std</th>\n      <td>0.46</td>\n      <td>8.60</td>\n      <td>1.00</td>\n      <td>0.05</td>\n      <td>0.04</td>\n      <td>0.03</td>\n    </tr>\n  </tbody>\n</table>\n</div>",
       "datasetInfos": [],
       "metadata": {},
       "removedWidgets": [],
       "textData": null,
       "type": "htmlSandbox"
      }
     },
     "output_type": "display_data"
    },
    {
     "output_type": "stream",
     "name": "stderr",
     "output_type": "stream",
     "text": [
      "\rProcessing:   0%|          | 0/7 [00:00<?, ?it/s]"
     ]
    },
    {
     "output_type": "stream",
     "name": "stdout",
     "output_type": "stream",
     "text": [
      "Fitting 10 folds for each of 10 candidates, totalling 100 fits\n"
     ]
    },
    {
     "output_type": "stream",
     "name": "stderr",
     "output_type": "stream",
     "text": [
      "\rProcessing:  43%|████▎     | 3/7 [01:31<02:02, 30.58s/it]\rProcessing:  86%|████████▌ | 6/7 [01:35<00:13, 13.27s/it]\rProcessing: 100%|██████████| 7/7 [01:44<00:00, 12.32s/it]\r                                                         \r"
     ]
    },
    {
     "output_type": "stream",
     "name": "stdout",
     "output_type": "stream",
     "text": [
      "Original model was better than the tuned model, hence it will be returned. NOTE: The display metrics are for the tuned model (not the original one).\n"
     ]
    }
   ],
   "source": [
    "tuned_model = tune_model(best, n_iter = 10, optimize='MAE')"
   ]
  },
  {
   "cell_type": "markdown",
   "metadata": {
    "application/vnd.databricks.v1+cell": {
     "cellMetadata": {},
     "inputWidgets": {},
     "nuid": "6b846ddc-61f8-4ed5-84d9-289d82172c2e",
     "showTitle": false,
     "title": ""
    }
   },
   "source": [
    "More advanced features: \n",
    "- you can customize the search space (define the search space and pass it to custom_grid parameter)\n",
    "- you can change the search algorithm. By default, RandomGridSearch is used, but you can change it by setting search_library and search_algorithm parameters\n",
    "- you can get access to the tuner object. Normally, tune_model only returns the best model. The sample code below shows how it can be done:"
   ]
  },
  {
   "cell_type": "code",
   "execution_count": 0,
   "metadata": {
    "application/vnd.databricks.v1+cell": {
     "cellMetadata": {},
     "inputWidgets": {},
     "nuid": "3c97c025-06aa-4b9c-aa64-c9f963436573",
     "showTitle": false,
     "title": ""
    }
   },
   "outputs": [],
   "source": [
    "#tuned_model, tuner = tune_model(dt, return_tuner=True)\n",
    "#print(tuner)"
   ]
  },
  {
   "cell_type": "markdown",
   "metadata": {
    "application/vnd.databricks.v1+cell": {
     "cellMetadata": {},
     "inputWidgets": {},
     "nuid": "93f6d15b-e890-45b6-9958-be0d541c608b",
     "showTitle": false,
     "title": ""
    }
   },
   "source": [
    "We can look how hyperparameters have changed:"
   ]
  },
  {
   "cell_type": "code",
   "execution_count": 0,
   "metadata": {
    "application/vnd.databricks.v1+cell": {
     "cellMetadata": {
      "byteLimit": 2048000,
      "rowLimit": 10000
     },
     "inputWidgets": {},
     "nuid": "331e2067-ccdc-4708-b6d7-1b139047148e",
     "showTitle": false,
     "title": ""
    }
   },
   "outputs": [
    {
     "output_type": "stream",
     "name": "stdout",
     "output_type": "stream",
     "text": [
      "ExtraTreesRegressor(n_jobs=-1, random_state=7542)\nExtraTreesRegressor(n_jobs=-1, random_state=7542)\n"
     ]
    }
   ],
   "source": [
    "# default model\n",
    "print(best)\n",
    "\n",
    "# tuned model\n",
    "print(tuned_model)"
   ]
  },
  {
   "cell_type": "markdown",
   "metadata": {
    "application/vnd.databricks.v1+cell": {
     "cellMetadata": {},
     "inputWidgets": {},
     "nuid": "5372e20e-ff85-4532-86e0-72d2fd65fa73",
     "showTitle": false,
     "title": ""
    }
   },
   "source": [
    "Sometimes tune_model doesn't improve the default model or even gives worse result. If we play around in the notebook where we can choose the best option manually, it's fine. But if we run a python script where we first create models and then tune them, and use the tuned model after, it can be a problem. \n",
    "\n",
    "To solve this, we can set **choose_better** parameter to True, so the best model (default or tuned) will be chosen automatically:"
   ]
  },
  {
   "cell_type": "code",
   "execution_count": 0,
   "metadata": {
    "application/vnd.databricks.v1+cell": {
     "cellMetadata": {},
     "inputWidgets": {},
     "nuid": "d7376188-4a09-49e7-a922-c5cdcc2adc40",
     "showTitle": false,
     "title": ""
    }
   },
   "outputs": [],
   "source": [
    "#tuned_model = tune_model(best, n_iter = 10, optimize='MAE', choose_better=True)"
   ]
  },
  {
   "cell_type": "markdown",
   "metadata": {
    "application/vnd.databricks.v1+cell": {
     "cellMetadata": {
      "byteLimit": 2048000,
      "rowLimit": 10000
     },
     "inputWidgets": {},
     "nuid": "8eceaa12-4708-49dc-ac2d-5bf0bf69199f",
     "showTitle": false,
     "title": ""
    }
   },
   "source": [
    "####Analysis\n",
    "Note that we can easily see the hyperparameters of the model and the whole pipeline, in contrast to LazyPredict library. We also have many other various visualizations provided by the evaluate_model() function."
   ]
  },
  {
   "cell_type": "code",
   "execution_count": 0,
   "metadata": {
    "application/vnd.databricks.v1+cell": {
     "cellMetadata": {
      "byteLimit": 2048000,
      "rowLimit": 10000
     },
     "inputWidgets": {},
     "nuid": "8df3a58e-7766-4fd1-908e-da5d361ec11e",
     "showTitle": false,
     "title": ""
    }
   },
   "outputs": [
    {
     "output_type": "display_data",
     "data": {
      "application/vnd.jupyter.widget-view+json": {
       "model_id": "8242363e107641d0a508182b087f5111",
       "version_major": 2,
       "version_minor": 0
      },
      "text/plain": [
       "interactive(children=(ToggleButtons(description='Plot Type:', icons=('',), options=(('Pipeline Plot', 'pipelin…"
      ]
     },
     "metadata": {},
     "output_type": "display_data"
    }
   ],
   "source": [
    "evaluate_model(best)"
   ]
  },
  {
   "cell_type": "code",
   "execution_count": 0,
   "metadata": {
    "application/vnd.databricks.v1+cell": {
     "cellMetadata": {
      "byteLimit": 2048000,
      "rowLimit": 10000
     },
     "inputWidgets": {},
     "nuid": "cb6fdad9-f195-44b1-98a4-889c7764baae",
     "showTitle": false,
     "title": ""
    }
   },
   "outputs": [
    {
     "output_type": "display_data",
     "data": {
      "image/png": "[encoded data removed]"
     },
     "metadata": {
      "application/vnd.databricks.v1+output": {
       "addedWidgets": {},
       "arguments": {},
       "data": "data:image/png;base64,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\n",
       "datasetInfos": [],
       "metadata": {},
       "removedWidgets": [],
       "type": "image"
      }
     },
     "output_type": "display_data"
    }
   ],
   "source": [
    "interpret_model(best)"
   ]
  },
  {
   "cell_type": "markdown",
   "metadata": {
    "application/vnd.databricks.v1+cell": {
     "cellMetadata": {},
     "inputWidgets": {},
     "nuid": "8417612d-f766-4ab1-81ca-0305cdadd397",
     "showTitle": false,
     "title": ""
    }
   },
   "source": [
    "*There are many other analyzing tools implemented in PyCaret such as morris sensitivity analysis, reason plot, dashboard etc. You can read more here: https://pycaret.gitbook.io/docs/get-started/functions/analyze.*"
   ]
  },
  {
   "cell_type": "markdown",
   "metadata": {
    "application/vnd.databricks.v1+cell": {
     "cellMetadata": {},
     "inputWidgets": {},
     "nuid": "838ffe24-8ee6-4188-bd0b-0cc24997c638",
     "showTitle": false,
     "title": ""
    }
   },
   "source": [
    "####Deployment\n",
    "Let us demonstrate some useful functions:\n",
    "\n",
    "- predict_model()\n",
    "\n",
    "You can pass to the parameter **data** some new, unseen dataset. In the example below we didn't specify this parameter, so the predictions are made for the holdout set:"
   ]
  },
  {
   "cell_type": "code",
   "execution_count": 0,
   "metadata": {
    "application/vnd.databricks.v1+cell": {
     "cellMetadata": {
      "byteLimit": 2048000,
      "rowLimit": 10000
     },
     "inputWidgets": {},
     "nuid": "90532d87-57db-4cb7-8de3-2c948d75b2df",
     "showTitle": false,
     "title": ""
    }
   },
   "outputs": [
    {
     "output_type": "display_data",
     "data": {
      "text/html": [
       "<div>\n",
       "<style scoped>\n",
       "    .dataframe tbody tr th:only-of-type {\n",
       "        vertical-align: middle;\n",
       "    }\n",
       "\n",
       "    .dataframe tbody tr th {\n",
       "        vertical-align: top;\n",
       "    }\n",
       "\n",
       "    .dataframe thead th {\n",
       "        text-align: right;\n",
       "    }\n",
       "</style>\n",
       "<table border=\"1\" class=\"dataframe\">\n",
       "  <thead>\n",
       "    <tr style=\"text-align: right;\">\n",
       "      <th></th>\n",
       "      <th>Model</th>\n",
       "      <th>MAE</th>\n",
       "      <th>MSE</th>\n",
       "      <th>RMSE</th>\n",
       "      <th>R2</th>\n",
       "      <th>RMSLE</th>\n",
       "      <th>MAPE</th>\n",
       "    </tr>\n",
       "  </thead>\n",
       "  <tbody>\n",
       "    <tr>\n",
       "      <th>0</th>\n",
       "      <td>Extra Trees Regressor</td>\n",
       "      <td>2.14</td>\n",
       "      <td>10.47</td>\n",
       "      <td>3.24</td>\n",
       "      <td>0.84</td>\n",
       "      <td>0.14</td>\n",
       "      <td>0.11</td>\n",
       "    </tr>\n",
       "  </tbody>\n",
       "</table>\n",
       "</div>"
      ]
     },
     "metadata": {
      "application/vnd.databricks.v1+output": {
       "addedWidgets": {},
       "arguments": {},
       "data": "<div>\n<style scoped>\n    .dataframe tbody tr th:only-of-type {\n        vertical-align: middle;\n    }\n\n    .dataframe tbody tr th {\n        vertical-align: top;\n    }\n\n    .dataframe thead th {\n        text-align: right;\n    }\n</style>\n<table border=\"1\" class=\"dataframe\">\n  <thead>\n    <tr style=\"text-align: right;\">\n      <th></th>\n      <th>Model</th>\n      <th>MAE</th>\n      <th>MSE</th>\n      <th>RMSE</th>\n      <th>R2</th>\n      <th>RMSLE</th>\n      <th>MAPE</th>\n    </tr>\n  </thead>\n  <tbody>\n    <tr>\n      <th>0</th>\n      <td>Extra Trees Regressor</td>\n      <td>2.14</td>\n      <td>10.47</td>\n      <td>3.24</td>\n      <td>0.84</td>\n      <td>0.14</td>\n      <td>0.11</td>\n    </tr>\n  </tbody>\n</table>\n</div>",
       "datasetInfos": [],
       "metadata": {},
       "removedWidgets": [],
       "textData": null,
       "type": "htmlSandbox"
      }
     },
     "output_type": "display_data"
    },
    {
     "output_type": "display_data",
     "data": {
      "text/html": [
       "<div>\n",
       "<style scoped>\n",
       "    .dataframe tbody tr th:only-of-type {\n",
       "        vertical-align: middle;\n",
       "    }\n",
       "\n",
       "    .dataframe tbody tr th {\n",
       "        vertical-align: top;\n",
       "    }\n",
       "\n",
       "    .dataframe thead th {\n",
       "        text-align: right;\n",
       "    }\n",
       "</style>\n",
       "<table border=\"1\" class=\"dataframe\">\n",
       "  <thead>\n",
       "    <tr style=\"text-align: right;\">\n",
       "      <th></th>\n",
       "      <th>Unnamed: 0</th>\n",
       "      <th>CRIM</th>\n",
       "      <th>ZN</th>\n",
       "      <th>INDUS</th>\n",
       "      <th>CHAS</th>\n",
       "      <th>NOX</th>\n",
       "      <th>RM</th>\n",
       "      <th>AGE</th>\n",
       "      <th>DIS</th>\n",
       "      <th>RAD</th>\n",
       "      <th>TAX</th>\n",
       "      <th>PTRATIO</th>\n",
       "      <th>B</th>\n",
       "      <th>LSTAT</th>\n",
       "      <th>target</th>\n",
       "      <th>prediction_label</th>\n",
       "    </tr>\n",
       "  </thead>\n",
       "  <tbody>\n",
       "    <tr>\n",
       "      <th>205</th>\n",
       "      <td>205</td>\n",
       "      <td>0.14</td>\n",
       "      <td>0.00</td>\n",
       "      <td>10.59</td>\n",
       "      <td>0.00</td>\n",
       "      <td>0.49</td>\n",
       "      <td>5.89</td>\n",
       "      <td>22.30</td>\n",
       "      <td>3.95</td>\n",
       "      <td>4.00</td>\n",
       "      <td>277.00</td>\n",
       "      <td>18.60</td>\n",
       "      <td>396.90</td>\n",
       "      <td>10.87</td>\n",
       "      <td>22.60</td>\n",
       "      <td>22.36</td>\n",
       "    </tr>\n",
       "    <tr>\n",
       "      <th>212</th>\n",
       "      <td>212</td>\n",
       "      <td>0.22</td>\n",
       "      <td>0.00</td>\n",
       "      <td>10.59</td>\n",
       "      <td>1.00</td>\n",
       "      <td>0.49</td>\n",
       "      <td>5.81</td>\n",
       "      <td>53.80</td>\n",
       "      <td>3.65</td>\n",
       "      <td>4.00</td>\n",
       "      <td>277.00</td>\n",
       "      <td>18.60</td>\n",
       "      <td>390.94</td>\n",
       "      <td>16.03</td>\n",
       "      <td>22.40</td>\n",
       "      <td>22.75</td>\n",
       "    </tr>\n",
       "    <tr>\n",
       "      <th>366</th>\n",
       "      <td>366</td>\n",
       "      <td>3.70</td>\n",
       "      <td>0.00</td>\n",
       "      <td>18.10</td>\n",
       "      <td>0.00</td>\n",
       "      <td>0.72</td>\n",
       "      <td>4.96</td>\n",
       "      <td>91.40</td>\n",
       "      <td>1.75</td>\n",
       "      <td>24.00</td>\n",
       "      <td>666.00</td>\n",
       "      <td>20.20</td>\n",
       "      <td>316.03</td>\n",
       "      <td>14.00</td>\n",
       "      <td>21.90</td>\n",
       "      <td>19.34</td>\n",
       "    </tr>\n",
       "    <tr>\n",
       "      <th>302</th>\n",
       "      <td>302</td>\n",
       "      <td>0.09</td>\n",
       "      <td>34.00</td>\n",
       "      <td>6.09</td>\n",
       "      <td>0.00</td>\n",
       "      <td>0.43</td>\n",
       "      <td>6.49</td>\n",
       "      <td>18.40</td>\n",
       "      <td>5.49</td>\n",
       "      <td>7.00</td>\n",
       "      <td>329.00</td>\n",
       "      <td>16.10</td>\n",
       "      <td>383.61</td>\n",
       "      <td>8.67</td>\n",
       "      <td>26.40</td>\n",
       "      <td>24.17</td>\n",
       "    </tr>\n",
       "    <tr>\n",
       "      <th>406</th>\n",
       "      <td>406</td>\n",
       "      <td>20.72</td>\n",
       "      <td>0.00</td>\n",
       "      <td>18.10</td>\n",
       "      <td>0.00</td>\n",
       "      <td>0.66</td>\n",
       "      <td>4.14</td>\n",
       "      <td>100.00</td>\n",
       "      <td>1.18</td>\n",
       "      <td>24.00</td>\n",
       "      <td>666.00</td>\n",
       "      <td>20.20</td>\n",
       "      <td>370.22</td>\n",
       "      <td>23.34</td>\n",
       "      <td>11.90</td>\n",
       "      <td>12.31</td>\n",
       "    </tr>\n",
       "    <tr>\n",
       "      <th>...</th>\n",
       "      <td>...</td>\n",
       "      <td>...</td>\n",
       "      <td>...</td>\n",
       "      <td>...</td>\n",
       "      <td>...</td>\n",
       "      <td>...</td>\n",
       "      <td>...</td>\n",
       "      <td>...</td>\n",
       "      <td>...</td>\n",
       "      <td>...</td>\n",
       "      <td>...</td>\n",
       "      <td>...</td>\n",
       "      <td>...</td>\n",
       "      <td>...</td>\n",
       "      <td>...</td>\n",
       "      <td>...</td>\n",
       "    </tr>\n",
       "    <tr>\n",
       "      <th>58</th>\n",
       "      <td>58</td>\n",
       "      <td>0.15</td>\n",
       "      <td>25.00</td>\n",
       "      <td>5.13</td>\n",
       "      <td>0.00</td>\n",
       "      <td>0.45</td>\n",
       "      <td>6.14</td>\n",
       "      <td>29.20</td>\n",
       "      <td>7.81</td>\n",
       "      <td>8.00</td>\n",
       "      <td>284.00</td>\n",
       "      <td>19.70</td>\n",
       "      <td>390.68</td>\n",
       "      <td>6.86</td>\n",
       "      <td>23.30</td>\n",
       "      <td>22.98</td>\n",
       "    </tr>\n",
       "    <tr>\n",
       "      <th>357</th>\n",
       "      <td>357</td>\n",
       "      <td>3.85</td>\n",
       "      <td>0.00</td>\n",
       "      <td>18.10</td>\n",
       "      <td>1.00</td>\n",
       "      <td>0.77</td>\n",
       "      <td>6.39</td>\n",
       "      <td>91.00</td>\n",
       "      <td>2.51</td>\n",
       "      <td>24.00</td>\n",
       "      <td>666.00</td>\n",
       "      <td>20.20</td>\n",
       "      <td>391.34</td>\n",
       "      <td>13.27</td>\n",
       "      <td>21.70</td>\n",
       "      <td>21.08</td>\n",
       "    </tr>\n",
       "    <tr>\n",
       "      <th>39</th>\n",
       "      <td>39</td>\n",
       "      <td>0.03</td>\n",
       "      <td>75.00</td>\n",
       "      <td>2.95</td>\n",
       "      <td>0.00</td>\n",
       "      <td>0.43</td>\n",
       "      <td>6.59</td>\n",
       "      <td>21.80</td>\n",
       "      <td>5.40</td>\n",
       "      <td>3.00</td>\n",
       "      <td>252.00</td>\n",
       "      <td>18.30</td>\n",
       "      <td>395.63</td>\n",
       "      <td>4.32</td>\n",
       "      <td>30.80</td>\n",
       "      <td>27.67</td>\n",
       "    </tr>\n",
       "    <tr>\n",
       "      <th>10</th>\n",
       "      <td>10</td>\n",
       "      <td>0.22</td>\n",
       "      <td>12.50</td>\n",
       "      <td>7.87</td>\n",
       "      <td>0.00</td>\n",
       "      <td>0.52</td>\n",
       "      <td>6.38</td>\n",
       "      <td>94.30</td>\n",
       "      <td>6.35</td>\n",
       "      <td>5.00</td>\n",
       "      <td>311.00</td>\n",
       "      <td>15.20</td>\n",
       "      <td>392.52</td>\n",
       "      <td>20.45</td>\n",
       "      <td>15.00</td>\n",
       "      <td>18.79</td>\n",
       "    </tr>\n",
       "    <tr>\n",
       "      <th>67</th>\n",
       "      <td>67</td>\n",
       "      <td>0.06</td>\n",
       "      <td>12.50</td>\n",
       "      <td>6.07</td>\n",
       "      <td>0.00</td>\n",
       "      <td>0.41</td>\n",
       "      <td>5.88</td>\n",
       "      <td>21.40</td>\n",
       "      <td>6.50</td>\n",
       "      <td>4.00</td>\n",
       "      <td>345.00</td>\n",
       "      <td>18.90</td>\n",
       "      <td>396.21</td>\n",
       "      <td>8.10</td>\n",
       "      <td>22.00</td>\n",
       "      <td>21.10</td>\n",
       "    </tr>\n",
       "  </tbody>\n",
       "</table>\n",
       "<p>152 rows × 16 columns</p>\n",
       "</div>"
      ]
     },
     "metadata": {
      "application/vnd.databricks.v1+output": {
       "addedWidgets": {},
       "arguments": {},
       "data": "<div>\n<style scoped>\n    .dataframe tbody tr th:only-of-type {\n        vertical-align: middle;\n    }\n\n    .dataframe tbody tr th {\n        vertical-align: top;\n    }\n\n    .dataframe thead th {\n        text-align: right;\n    }\n</style>\n<table border=\"1\" class=\"dataframe\">\n  <thead>\n    <tr style=\"text-align: right;\">\n      <th></th>\n      <th>Unnamed: 0</th>\n      <th>CRIM</th>\n      <th>ZN</th>\n      <th>INDUS</th>\n      <th>CHAS</th>\n      <th>NOX</th>\n      <th>RM</th>\n      <th>AGE</th>\n      <th>DIS</th>\n      <th>RAD</th>\n      <th>TAX</th>\n      <th>PTRATIO</th>\n      <th>B</th>\n      <th>LSTAT</th>\n      <th>target</th>\n      <th>prediction_label</th>\n    </tr>\n  </thead>\n  <tbody>\n    <tr>\n      <th>205</th>\n      <td>205</td>\n      <td>0.14</td>\n      <td>0.00</td>\n      <td>10.59</td>\n      <td>0.00</td>\n      <td>0.49</td>\n      <td>5.89</td>\n      <td>22.30</td>\n      <td>3.95</td>\n      <td>4.00</td>\n      <td>277.00</td>\n      <td>18.60</td>\n      <td>396.90</td>\n      <td>10.87</td>\n      <td>22.60</td>\n      <td>22.36</td>\n    </tr>\n    <tr>\n      <th>212</th>\n      <td>212</td>\n      <td>0.22</td>\n      <td>0.00</td>\n      <td>10.59</td>\n      <td>1.00</td>\n      <td>0.49</td>\n      <td>5.81</td>\n      <td>53.80</td>\n      <td>3.65</td>\n      <td>4.00</td>\n      <td>277.00</td>\n      <td>18.60</td>\n      <td>390.94</td>\n      <td>16.03</td>\n      <td>22.40</td>\n      <td>22.75</td>\n    </tr>\n    <tr>\n      <th>366</th>\n      <td>366</td>\n      <td>3.70</td>\n      <td>0.00</td>\n      <td>18.10</td>\n      <td>0.00</td>\n      <td>0.72</td>\n      <td>4.96</td>\n      <td>91.40</td>\n      <td>1.75</td>\n      <td>24.00</td>\n      <td>666.00</td>\n      <td>20.20</td>\n      <td>316.03</td>\n      <td>14.00</td>\n      <td>21.90</td>\n      <td>19.34</td>\n    </tr>\n    <tr>\n      <th>302</th>\n      <td>302</td>\n      <td>0.09</td>\n      <td>34.00</td>\n      <td>6.09</td>\n      <td>0.00</td>\n      <td>0.43</td>\n      <td>6.49</td>\n      <td>18.40</td>\n      <td>5.49</td>\n      <td>7.00</td>\n      <td>329.00</td>\n      <td>16.10</td>\n      <td>383.61</td>\n      <td>8.67</td>\n      <td>26.40</td>\n      <td>24.17</td>\n    </tr>\n    <tr>\n      <th>406</th>\n      <td>406</td>\n      <td>20.72</td>\n      <td>0.00</td>\n      <td>18.10</td>\n      <td>0.00</td>\n      <td>0.66</td>\n      <td>4.14</td>\n      <td>100.00</td>\n      <td>1.18</td>\n      <td>24.00</td>\n      <td>666.00</td>\n      <td>20.20</td>\n      <td>370.22</td>\n      <td>23.34</td>\n      <td>11.90</td>\n      <td>12.31</td>\n    </tr>\n    <tr>\n      <th>...</th>\n      <td>...</td>\n      <td>...</td>\n      <td>...</td>\n      <td>...</td>\n      <td>...</td>\n      <td>...</td>\n      <td>...</td>\n      <td>...</td>\n      <td>...</td>\n      <td>...</td>\n      <td>...</td>\n      <td>...</td>\n      <td>...</td>\n      <td>...</td>\n      <td>...</td>\n      <td>...</td>\n    </tr>\n    <tr>\n      <th>58</th>\n      <td>58</td>\n      <td>0.15</td>\n      <td>25.00</td>\n      <td>5.13</td>\n      <td>0.00</td>\n      <td>0.45</td>\n      <td>6.14</td>\n      <td>29.20</td>\n      <td>7.81</td>\n      <td>8.00</td>\n      <td>284.00</td>\n      <td>19.70</td>\n      <td>390.68</td>\n      <td>6.86</td>\n      <td>23.30</td>\n      <td>22.98</td>\n    </tr>\n    <tr>\n      <th>357</th>\n      <td>357</td>\n      <td>3.85</td>\n      <td>0.00</td>\n      <td>18.10</td>\n      <td>1.00</td>\n      <td>0.77</td>\n      <td>6.39</td>\n      <td>91.00</td>\n      <td>2.51</td>\n      <td>24.00</td>\n      <td>666.00</td>\n      <td>20.20</td>\n      <td>391.34</td>\n      <td>13.27</td>\n      <td>21.70</td>\n      <td>21.08</td>\n    </tr>\n    <tr>\n      <th>39</th>\n      <td>39</td>\n      <td>0.03</td>\n      <td>75.00</td>\n      <td>2.95</td>\n      <td>0.00</td>\n      <td>0.43</td>\n      <td>6.59</td>\n      <td>21.80</td>\n      <td>5.40</td>\n      <td>3.00</td>\n      <td>252.00</td>\n      <td>18.30</td>\n      <td>395.63</td>\n      <td>4.32</td>\n      <td>30.80</td>\n      <td>27.67</td>\n    </tr>\n    <tr>\n      <th>10</th>\n      <td>10</td>\n      <td>0.22</td>\n      <td>12.50</td>\n      <td>7.87</td>\n      <td>0.00</td>\n      <td>0.52</td>\n      <td>6.38</td>\n      <td>94.30</td>\n      <td>6.35</td>\n      <td>5.00</td>\n      <td>311.00</td>\n      <td>15.20</td>\n      <td>392.52</td>\n      <td>20.45</td>\n      <td>15.00</td>\n      <td>18.79</td>\n    </tr>\n    <tr>\n      <th>67</th>\n      <td>67</td>\n      <td>0.06</td>\n      <td>12.50</td>\n      <td>6.07</td>\n      <td>0.00</td>\n      <td>0.41</td>\n      <td>5.88</td>\n      <td>21.40</td>\n      <td>6.50</td>\n      <td>4.00</td>\n      <td>345.00</td>\n      <td>18.90</td>\n      <td>396.21</td>\n      <td>8.10</td>\n      <td>22.00</td>\n      <td>21.10</td>\n    </tr>\n  </tbody>\n</table>\n<p>152 rows × 16 columns</p>\n</div>",
       "datasetInfos": [],
       "metadata": {},
       "removedWidgets": [],
       "textData": null,
       "type": "htmlSandbox"
      }
     },
     "output_type": "display_data"
    }
   ],
   "source": [
    "predict_model(tuned_model)"
   ]
  },
  {
   "cell_type": "markdown",
   "metadata": {
    "application/vnd.databricks.v1+cell": {
     "cellMetadata": {},
     "inputWidgets": {},
     "nuid": "4c8e13a0-a1e4-4de9-b81c-1e49904e02c6",
     "showTitle": false,
     "title": ""
    }
   },
   "source": [
    "- finalize_model()\n",
    "\n",
    "Refits on the entire dataset including the hold-out set."
   ]
  },
  {
   "cell_type": "code",
   "execution_count": 0,
   "metadata": {
    "application/vnd.databricks.v1+cell": {
     "cellMetadata": {
      "byteLimit": 2048000,
      "rowLimit": 10000
     },
     "inputWidgets": {},
     "nuid": "208ca9d1-6aec-4cab-8343-5a5af96272dc",
     "showTitle": false,
     "title": ""
    }
   },
   "outputs": [
    {
     "output_type": "stream",
     "name": "stdout",
     "output_type": "stream",
     "text": [
      "Out[19]: Pipeline(memory=FastMemory(location=/tmp/joblib),\n         steps=[('numerical_imputer',\n                 TransformerWrapper(include=['Unnamed: 0', 'CRIM', 'ZN',\n                                             'INDUS', 'CHAS', 'NOX', 'RM',\n                                             'AGE', 'DIS', 'RAD', 'TAX',\n                                             'PTRATIO', 'B', 'LSTAT'],\n                                    transformer=SimpleImputer())),\n                ('categorical_imputer',\n                 TransformerWrapper(include=[],\n                                    transformer=SimpleImputer(strategy='most_frequent'))),\n                ('clean_column_names',\n                 TransformerWrapper(transformer=CleanColumnNames())),\n                ('actual_estimator',\n                 ExtraTreesRegressor(n_jobs=-1, random_state=7542))])"
     ]
    }
   ],
   "source": [
    "finalize_model(tuned_model)"
   ]
  },
  {
   "cell_type": "markdown",
   "metadata": {
    "application/vnd.databricks.v1+cell": {
     "cellMetadata": {},
     "inputWidgets": {},
     "nuid": "bacc2ef5-8522-4da5-9fb5-57a4bdd9e725",
     "showTitle": false,
     "title": ""
    }
   },
   "source": [
    "- save_model()\n",
    "\n",
    "Saves the model as a file in the working directory"
   ]
  },
  {
   "cell_type": "code",
   "execution_count": 0,
   "metadata": {
    "application/vnd.databricks.v1+cell": {
     "cellMetadata": {
      "byteLimit": 2048000,
      "rowLimit": 10000
     },
     "inputWidgets": {},
     "nuid": "9119028e-8983-4052-a73d-6b4d309f704f",
     "showTitle": false,
     "title": ""
    }
   },
   "outputs": [
    {
     "output_type": "stream",
     "name": "stdout",
     "output_type": "stream",
     "text": [
      "Transformation Pipeline and Model Successfully Saved\nOut[20]: (Pipeline(memory=FastMemory(location=/tmp/joblib),\n          steps=[('numerical_imputer',\n                  TransformerWrapper(include=['Unnamed: 0', 'CRIM', 'ZN',\n                                              'INDUS', 'CHAS', 'NOX', 'RM',\n                                              'AGE', 'DIS', 'RAD', 'TAX',\n                                              'PTRATIO', 'B', 'LSTAT'],\n                                     transformer=SimpleImputer())),\n                 ('categorical_imputer',\n                  TransformerWrapper(include=[],\n                                     transformer=SimpleImputer(strategy='most_frequent'))),\n                 ('clean_column_names',\n                  TransformerWrapper(transformer=CleanColumnNames())),\n                 ('trained_model',\n                  ExtraTreesRegressor(n_jobs=-1, random_state=7542))]),\n 'my_best_model.pkl')"
     ]
    }
   ],
   "source": [
    "save_model(tuned_model, 'my_best_model')"
   ]
  },
  {
   "cell_type": "markdown",
   "metadata": {
    "application/vnd.databricks.v1+cell": {
     "cellMetadata": {},
     "inputWidgets": {},
     "nuid": "d946254c-f22e-4037-bde1-e95a927b4d9b",
     "showTitle": false,
     "title": ""
    }
   },
   "source": [
    "- load_model()\n",
    "\n",
    "Loads a previosly saved model"
   ]
  },
  {
   "cell_type": "code",
   "execution_count": 0,
   "metadata": {
    "application/vnd.databricks.v1+cell": {
     "cellMetadata": {
      "byteLimit": 2048000,
      "rowLimit": 10000
     },
     "inputWidgets": {},
     "nuid": "ddefa376-0810-456d-9bb9-3b3a3041649b",
     "showTitle": false,
     "title": ""
    }
   },
   "outputs": [
    {
     "output_type": "stream",
     "name": "stdout",
     "output_type": "stream",
     "text": [
      "Transformation Pipeline and Model Successfully Loaded\nOut[21]: Pipeline(memory=FastMemory(location=/tmp/joblib),\n         steps=[('numerical_imputer',\n                 TransformerWrapper(include=['Unnamed: 0', 'CRIM', 'ZN',\n                                             'INDUS', 'CHAS', 'NOX', 'RM',\n                                             'AGE', 'DIS', 'RAD', 'TAX',\n                                             'PTRATIO', 'B', 'LSTAT'],\n                                    transformer=SimpleImputer())),\n                ('categorical_imputer',\n                 TransformerWrapper(include=[],\n                                    transformer=SimpleImputer(strategy='most_frequent'))),\n                ('clean_column_names',\n                 TransformerWrapper(transformer=CleanColumnNames())),\n                ('trained_model',\n                 ExtraTreesRegressor(n_jobs=-1, random_state=7542))])"
     ]
    }
   ],
   "source": [
    "load_model('my_best_model')"
   ]
  },
  {
   "cell_type": "markdown",
   "metadata": {
    "application/vnd.databricks.v1+cell": {
     "cellMetadata": {},
     "inputWidgets": {},
     "nuid": "31c0ebff-57cc-4bc3-9af9-f78292fad112",
     "showTitle": false,
     "title": ""
    }
   },
   "source": [
    "##Your turn!"
   ]
  },
  {
   "cell_type": "markdown",
   "metadata": {
    "application/vnd.databricks.v1+cell": {
     "cellMetadata": {},
     "inputWidgets": {},
     "nuid": "7b888000-8608-4b85-88bd-5942c5f239bd",
     "showTitle": false,
     "title": ""
    }
   },
   "source": [
    "Now, it's time to take your newly acquired knowledge and skills to the next level by trying these powerful AutoML libraries for classification problem."
   ]
  },
  {
   "cell_type": "code",
   "execution_count": 0,
   "metadata": {
    "application/vnd.databricks.v1+cell": {
     "cellMetadata": {},
     "inputWidgets": {},
     "nuid": "9665e106-7301-4b30-a1f4-5941f3dd6075",
     "showTitle": false,
     "title": ""
    }
   },
   "outputs": [],
   "source": [
    "# Task: Import titanic.csv dataset\n",
    "\n",
    "titanic_df = ..."
   ]
  },
  {
   "cell_type": "code",
   "execution_count": 0,
   "metadata": {
    "application/vnd.databricks.v1+cell": {
     "cellMetadata": {},
     "inputWidgets": {},
     "nuid": "02bb7847-0b91-4066-8a1b-4ee71dcaf6dc",
     "showTitle": false,
     "title": ""
    }
   },
   "outputs": [],
   "source": [
    "X = titanic_df[['Sex', 'Embarked', 'Pclass', 'Age', 'Survived']]\n",
    "y = titanic_df[['Survived']]"
   ]
  },
  {
   "cell_type": "code",
   "execution_count": 0,
   "metadata": {
    "application/vnd.databricks.v1+cell": {
     "cellMetadata": {},
     "inputWidgets": {},
     "nuid": "a4f23a57-bd36-4120-b47d-037ffa9ebbab",
     "showTitle": false,
     "title": ""
    }
   },
   "outputs": [],
   "source": [
    "# Task: split the dataset into train and test sets\n",
    "\n",
    "..."
   ]
  },
  {
   "cell_type": "markdown",
   "metadata": {
    "application/vnd.databricks.v1+cell": {
     "cellMetadata": {},
     "inputWidgets": {},
     "nuid": "6a02505d-f6bd-4737-bca1-9c529c84933d",
     "showTitle": false,
     "title": ""
    }
   },
   "source": [
    "## Classification with LazyPredict"
   ]
  },
  {
   "cell_type": "markdown",
   "metadata": {
    "application/vnd.databricks.v1+cell": {
     "cellMetadata": {},
     "inputWidgets": {},
     "nuid": "b154f467-2c5a-478a-8f34-b1c0e1fdd64d",
     "showTitle": false,
     "title": ""
    }
   },
   "source": [
    "*Previously, we used LazyPredict for a regression problem. Now, since you have a classification task, it's recommended to go through the documentation to address the following task: https://lazypredict.readthedocs.io/en/latest/usage.html#classification.*"
   ]
  },
  {
   "cell_type": "code",
   "execution_count": 0,
   "metadata": {
    "application/vnd.databricks.v1+cell": {
     "cellMetadata": {},
     "inputWidgets": {},
     "nuid": "4ab14524-6d06-4a60-967c-643feb0ac27d",
     "showTitle": false,
     "title": ""
    }
   },
   "outputs": [],
   "source": [
    "# Task: compare different classification models on titanic dataset with LazyClassifier\n",
    "\n",
    "# Your code here...\n",
    "\n",
    "# Think how would you interpret the results"
   ]
  },
  {
   "cell_type": "markdown",
   "metadata": {
    "application/vnd.databricks.v1+cell": {
     "cellMetadata": {},
     "inputWidgets": {},
     "nuid": "8e6fef6c-9848-4d40-8c69-a6955c87a2f4",
     "showTitle": false,
     "title": ""
    }
   },
   "source": [
    "## Classification with PyCaret"
   ]
  },
  {
   "cell_type": "markdown",
   "metadata": {
    "application/vnd.databricks.v1+cell": {
     "cellMetadata": {},
     "inputWidgets": {},
     "nuid": "e918ec05-1358-4f0d-990a-9ccc76330190",
     "showTitle": false,
     "title": ""
    }
   },
   "source": [
    "*For this new challenge, we encourage you to consult the PyCaret library's documentation to effectively handle the following task: https://pycaret.gitbook.io/docs/get-started/quickstart#classification.*"
   ]
  },
  {
   "cell_type": "code",
   "execution_count": 0,
   "metadata": {
    "application/vnd.databricks.v1+cell": {
     "cellMetadata": {},
     "inputWidgets": {},
     "nuid": "aa96f871-175e-4977-833f-01044730a9b8",
     "showTitle": false,
     "title": ""
    }
   },
   "outputs": [],
   "source": [
    "# Task: Initialize the environment\n",
    "\n",
    "..."
   ]
  },
  {
   "cell_type": "code",
   "execution_count": 0,
   "metadata": {
    "application/vnd.databricks.v1+cell": {
     "cellMetadata": {},
     "inputWidgets": {},
     "nuid": "0ef29878-2c71-4b98-b047-c801f2d7755c",
     "showTitle": false,
     "title": ""
    }
   },
   "outputs": [],
   "source": [
    "# Task: Compare models\n",
    "\n",
    "..."
   ]
  },
  {
   "cell_type": "code",
   "execution_count": 0,
   "metadata": {
    "application/vnd.databricks.v1+cell": {
     "cellMetadata": {},
     "inputWidgets": {},
     "nuid": "29557240-28aa-4ac8-a5d0-6990344a2b11",
     "showTitle": false,
     "title": ""
    }
   },
   "outputs": [],
   "source": [
    "# Task: Optimize the best default model. Set parameters in such a way that the function will return the most efficient model among the default and tuned models.\n",
    "\n",
    "..."
   ]
  },
  {
   "cell_type": "code",
   "execution_count": 0,
   "metadata": {
    "application/vnd.databricks.v1+cell": {
     "cellMetadata": {},
     "inputWidgets": {},
     "nuid": "608e4a63-b6e1-43cd-9e24-4f17a63c0949",
     "showTitle": false,
     "title": ""
    }
   },
   "outputs": [],
   "source": [
    "# Task: plot confusion matrix\n",
    "\n",
    "...\n",
    "\n",
    "# What does the confusion matrix tell us? "
   ]
  },
  {
   "cell_type": "code",
   "execution_count": 0,
   "metadata": {
    "application/vnd.databricks.v1+cell": {
     "cellMetadata": {
      "byteLimit": 2048000,
      "rowLimit": 10000
     },
     "inputWidgets": {},
     "nuid": "3006eec2-654f-42d5-bfa2-3377d425a998",
     "showTitle": false,
     "title": ""
    }
   },
   "outputs": [],
   "source": [
    "# Task: get visualization of the pipeline. Hint: use evaluate_model()\n",
    "\n",
    "...\n",
    "\n",
    "# What is the most important feature? \n",
    "# Task: Let's take a look at survival rate by sex. Hint: use seaborn barplot() function. Don't forget to import seaborn!\n",
    "\n",
    "...\n",
    "\n",
    "# What conclusion can we make?"
   ]
  },
  {
   "cell_type": "code",
   "execution_count": 0,
   "metadata": {
    "application/vnd.databricks.v1+cell": {
     "cellMetadata": {},
     "inputWidgets": {},
     "nuid": "cbd881dd-762f-404b-930f-fab5859be5fe",
     "showTitle": false,
     "title": ""
    }
   },
   "outputs": [],
   "source": [
    "# Task: save the model as 'my_best_classifier'\n",
    "\n",
    "..."
   ]
  },
  {
   "cell_type": "markdown",
   "metadata": {
    "application/vnd.databricks.v1+cell": {
     "cellMetadata": {},
     "inputWidgets": {},
     "nuid": "465ac197-c72b-4272-bc5e-69bc3780bb5a",
     "showTitle": false,
     "title": ""
    }
   },
   "source": [
    "Congratulations! You've completed the study notebook on automating machine learning workflows with PyCaret and LazyPredict. By automating repetitive tasks, these libraries enable us to iterate faster, experiment with various algorithms, and gain valuable insights from our data more efficiently.\n",
    "\n",
    "While we explored a wide range of capabilities offered by these libraries, it's essential to note that we haven't covered every single function and feature they provide. As you continue your journey in machine learning, we encourage you to dive deeper into the documentation of both libraries to discover their full range of capabilities.\n",
    "\n",
    "**Documentation:**\n",
    "\n",
    "- LazyPredict: https://lazypredict.readthedocs.io/en/latest/\n",
    "\n",
    "- PyCaret: https://pycaret.gitbook.io/docs/get-started/functions"
   ]
  }
 ],
 "metadata": {
  "application/vnd.databricks.v1+notebook": {
   "dashboards": [],
   "language": "python",
   "notebookMetadata": {
    "pythonIndentUnit": 2
   },
   "notebookName": "2.1_AutoML_tools:_LazyPredict_&_PyCaret",
   "widgets": {}
  }
 },
 "nbformat": 4,
 "nbformat_minor": 0
}
