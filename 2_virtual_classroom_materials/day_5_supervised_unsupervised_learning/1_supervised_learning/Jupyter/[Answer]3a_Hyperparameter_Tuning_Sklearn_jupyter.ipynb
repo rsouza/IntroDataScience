{
 "cells": [
  {
   "cell_type": "markdown",
   "metadata": {
    "application/vnd.databricks.v1+cell": {
     "cellMetadata": {},
     "inputWidgets": {},
     "nuid": "208b4f27-bdf0-4b75-a117-bcb5b5d2cc38",
     "showTitle": false,
     "title": ""
    }
   },
   "source": [
    "# Supervised Learning Workflow"
   ]
  },
  {
   "cell_type": "code",
   "execution_count": 0,
   "metadata": {
    "application/vnd.databricks.v1+cell": {
     "cellMetadata": {
      "byteLimit": 2048000,
      "rowLimit": 10000
     },
     "inputWidgets": {},
     "nuid": "d1e12ca5-f8a5-45f9-aaea-d1700f981b33",
     "showTitle": false,
     "title": ""
    }
   },
   "outputs": [],
   "source": [
    "import numpy as np\n",
    "import pandas as pd\n",
    "from sklearn import metrics\n",
    "from sklearn import preprocessing\n",
    "from sklearn.model_selection import train_test_split\n",
    "from sklearn.compose import ColumnTransformer\n",
    "from sklearn.pipeline import Pipeline\n",
    "from sklearn.tree import DecisionTreeClassifier\n",
    "from sklearn.ensemble import RandomForestClassifier\n",
    "\n",
    "\n",
    "train = pd.read_csv(\"../../../../Data/data_titanic/train.csv\")\n",
    "train.Pclass = train.Pclass.astype(float)  # to avoid DataConversionWarning"
   ]
  },
  {
   "cell_type": "code",
   "execution_count": 0,
   "metadata": {
    "application/vnd.databricks.v1+cell": {
     "cellMetadata": {
      "byteLimit": 2048000,
      "rowLimit": 10000
     },
     "inputWidgets": {},
     "nuid": "20037f78-3657-4f74-b348-eebb50f56e0f",
     "showTitle": false,
     "title": ""
    }
   },
   "outputs": [],
   "source": [
    "train = train.dropna(axis=0)\n",
    "X_train, X_test, y_train, y_test = train_test_split(\n",
    "    train[[\"Pclass\", \"Age\", \"Sex\", \"Embarked\"]],\n",
    "    train[\"Survived\"],\n",
    "    test_size=0.2,\n",
    "    random_state=42,\n",
    ")"
   ]
  },
  {
   "cell_type": "markdown",
   "metadata": {
    "application/vnd.databricks.v1+cell": {
     "cellMetadata": {},
     "inputWidgets": {},
     "nuid": "ed938bee-7555-492f-9475-586a686a353a",
     "showTitle": false,
     "title": ""
    }
   },
   "source": [
    "## Part 3: Tree-based Models & Hyperparameter Tuning\n",
    "In the previous notebook we constructed our first pipeline:\n",
    "```\n",
    "entire_pipeline = Pipeline([('feature_engineering', feature_engineering), ('dummy', DummyClassifier(strategy=\"most_frequent\"))])\n",
    "```\n",
    "Hold your constructed pipeline firmly! The only thing that we need to do now is to replace [`DummyClassifier`](https://scikit-learn.org/stable/modules/generated/sklearn.dummy.DummyClassifier.html) with a proper learning model.   \n",
    "We can start with a decision tree."
   ]
  },
  {
   "cell_type": "code",
   "execution_count": 0,
   "metadata": {
    "application/vnd.databricks.v1+cell": {
     "cellMetadata": {
      "byteLimit": 2048000,
      "rowLimit": 10000
     },
     "inputWidgets": {},
     "nuid": "3935487f-c8dd-4bfe-afaa-b6c26cbbe90e",
     "showTitle": false,
     "title": ""
    }
   },
   "outputs": [],
   "source": [
    "feature_engineering = ColumnTransformer(\n",
    "    [\n",
    "        (\"numerical_scaler\", preprocessing.MinMaxScaler(), [\"Pclass\", \"Age\"]),\n",
    "        (\"ohe\", preprocessing.OneHotEncoder(sparse=False), [\"Sex\", \"Embarked\"]),\n",
    "    ],\n",
    "    remainder=\"passthrough\",\n",
    ")"
   ]
  },
  {
   "cell_type": "markdown",
   "metadata": {
    "application/vnd.databricks.v1+cell": {
     "cellMetadata": {},
     "inputWidgets": {},
     "nuid": "4d83a3c9-291b-472b-9f53-c9cecbdc4c16",
     "showTitle": false,
     "title": ""
    }
   },
   "source": [
    "### Fitting a Learning Model – Decision Tree"
   ]
  },
  {
   "cell_type": "code",
   "execution_count": 0,
   "metadata": {
    "application/vnd.databricks.v1+cell": {
     "cellMetadata": {
      "byteLimit": 2048000,
      "rowLimit": 10000
     },
     "inputWidgets": {},
     "nuid": "01d2889f-f2b9-4877-83c3-423a057790a9",
     "showTitle": false,
     "title": ""
    }
   },
   "outputs": [],
   "source": [
    "# TASK 1A: Reuse your composite and instead of a dummy, fit a decision tree with default parameters.\n",
    "# Store the result as dt_pipeline.\n",
    "\n",
    "dt_pipeline = Pipeline([('feature_engineering', feature_engineering), ('decision_tree', DecisionTreeClassifier())])\n",
    "\n",
    "# Train the pipeline\n",
    "dt_pipeline.fit(X = X_train, y = y_train)"
   ]
  },
  {
   "cell_type": "code",
   "execution_count": 0,
   "metadata": {
    "application/vnd.databricks.v1+cell": {
     "cellMetadata": {
      "byteLimit": 2048000,
      "rowLimit": 10000
     },
     "inputWidgets": {},
     "nuid": "2a20f9c6-6b61-43f2-bf03-7e761dc53420",
     "showTitle": false,
     "title": ""
    }
   },
   "outputs": [],
   "source": [
    "# TASK 1B: Let the pipeline predict for the training set. \n",
    "# Store the result as y_pred_TRAIN_DT.\n",
    "# Also, display accuracy.\n",
    "\n",
    "y_pred_TRAIN_DT = dt_pipeline.predict(X_train)\n",
    "print(metrics.accuracy_score(y_train, y_pred_TRAIN_DT))"
   ]
  },
  {
   "cell_type": "code",
   "execution_count": 0,
   "metadata": {
    "application/vnd.databricks.v1+cell": {
     "cellMetadata": {
      "byteLimit": 2048000,
      "rowLimit": 10000
     },
     "inputWidgets": {},
     "nuid": "11084b02-39be-421b-9d52-7189b163b941",
     "showTitle": false,
     "title": ""
    }
   },
   "outputs": [],
   "source": [
    "# TASK 1C: Let the pipeline predict for the holdout set. \n",
    "# Store the result as y_pred_HOLDOUT_DT.\n",
    "# Also, display accuracy.\n",
    "\n",
    "y_pred_HOLDOUT_DT = dt_pipeline.predict(X_test)\n",
    "print(metrics.accuracy_score(y_test, y_pred_HOLDOUT_DT))"
   ]
  },
  {
   "cell_type": "markdown",
   "metadata": {
    "application/vnd.databricks.v1+cell": {
     "cellMetadata": {},
     "inputWidgets": {},
     "nuid": "81d5756a-c1bf-4ccc-b910-d17b9d733ae6",
     "showTitle": false,
     "title": ""
    }
   },
   "source": [
    "Looking at the accuracy on training and holdout set, what can you infer about over model? Will it generalize well?"
   ]
  },
  {
   "cell_type": "code",
   "execution_count": 0,
   "metadata": {
    "application/vnd.databricks.v1+cell": {
     "cellMetadata": {
      "byteLimit": 2048000,
      "rowLimit": 10000
     },
     "inputWidgets": {},
     "nuid": "b3bd5979-e4cb-4727-84a4-2aec65350dc7",
     "showTitle": false,
     "title": ""
    }
   },
   "outputs": [],
   "source": [
    "# OPTIONAL TASK 2: Do the same steps with RandomForest with default parameters. \n",
    "# Does the RandomForest display similar results as decision tree? If not, why?\n",
    "\n",
    "# Reuse your composite and fit a random forest with default parameters.\n",
    "# Store the result as rf_pipeline.\n",
    "rf_pipeline = Pipeline([('feature_engineering', feature_engineering), ('random_forest', RandomForestClassifier())])\n",
    "\n",
    "# Train the pipeline\n",
    "rf_pipeline.fit(X = X_train, y = y_train)\n",
    "\n",
    "#Predict and show accuracy TRAIN\n",
    "y_pred_TRAIN_RF = rf_pipeline.predict(X_train)\n",
    "print(metrics.accuracy_score(y_train, y_pred_TRAIN_RF))\n",
    "\n",
    "#Predict and show accuracy HOLDOUT\n",
    "y_pred_HOLDOUT_RF = rf_pipeline.predict(X_test)\n",
    "print(metrics.accuracy_score(y_test, y_pred_HOLDOUT_RF))"
   ]
  },
  {
   "cell_type": "markdown",
   "metadata": {
    "application/vnd.databricks.v1+cell": {
     "cellMetadata": {},
     "inputWidgets": {},
     "nuid": "a9ff07ea-bb1f-4f2c-b78a-fd5a72f6bf5b",
     "showTitle": false,
     "title": ""
    }
   },
   "source": [
    "### Tuning Hyperparameters of our Decision Tree\n",
    "Time to improve the performance of our learning model by finding its optimal set of hyperparameters.  \n",
    "We start by examining **which hyperparameters are available** in our decision tree pipeline."
   ]
  },
  {
   "cell_type": "code",
   "execution_count": 0,
   "metadata": {
    "application/vnd.databricks.v1+cell": {
     "cellMetadata": {
      "byteLimit": 2048000,
      "rowLimit": 10000
     },
     "inputWidgets": {},
     "nuid": "5bbaa18c-3abc-4bc1-83a5-8250bc1922a5",
     "showTitle": false,
     "title": ""
    }
   },
   "outputs": [],
   "source": [
    "dt_pipeline.get_params()"
   ]
  },
  {
   "cell_type": "markdown",
   "metadata": {
    "application/vnd.databricks.v1+cell": {
     "cellMetadata": {},
     "inputWidgets": {},
     "nuid": "e4ad188e-d978-4a21-bf42-aced90e2a063",
     "showTitle": false,
     "title": ""
    }
   },
   "source": [
    "We would like to tune `max_depth` and `min_samples_split`.  \n",
    "Notice that to access them, we also need to navigate within the composite and call them as **`decision_tree`**`__max_depth`.  "
   ]
  },
  {
   "cell_type": "code",
   "execution_count": 0,
   "metadata": {
    "application/vnd.databricks.v1+cell": {
     "cellMetadata": {
      "byteLimit": 2048000,
      "rowLimit": 10000
     },
     "inputWidgets": {},
     "nuid": "efe844eb-4463-48e1-b92f-312273c32dc6",
     "showTitle": false,
     "title": ""
    }
   },
   "outputs": [],
   "source": [
    "# TASK 3: Define a grid through which we should search. \n",
    "# Tune parameters: max_depth and min_samples_split.\n",
    "# The values which you pick as parameters are up to you. You can think about them intuitively.\n",
    "\n",
    "param_grid = {'decision_tree__max_depth':[3, 4, 5, 6, 7, 8, 9], \n",
    "              'decision_tree__min_samples_split':[ 2, 3, 4, 5, 6, 7, 8, 9, 10, 15, 20, 25]}"
   ]
  },
  {
   "cell_type": "code",
   "execution_count": 0,
   "metadata": {
    "application/vnd.databricks.v1+cell": {
     "cellMetadata": {
      "byteLimit": 2048000,
      "rowLimit": 10000
     },
     "inputWidgets": {},
     "nuid": "35a714e7-dc29-497e-9839-3aaa153e3f1a",
     "showTitle": false,
     "title": ""
    }
   },
   "outputs": [],
   "source": [
    "from sklearn import tree\n",
    "from sklearn.model_selection import GridSearchCV\n",
    "\n",
    "# Model\n",
    "dt_pipeline\n",
    "\n",
    "# Searching strategy, providing grid\n",
    "tuning = GridSearchCV(dt_pipeline, param_grid)\n",
    "\n",
    "# Train\n",
    "tuning.fit(X_train, y_train)"
   ]
  },
  {
   "cell_type": "code",
   "execution_count": 0,
   "metadata": {
    "application/vnd.databricks.v1+cell": {
     "cellMetadata": {
      "byteLimit": 2048000,
      "rowLimit": 10000
     },
     "inputWidgets": {},
     "nuid": "91dba2a6-96d5-4cd0-b496-d2b7ab5af059",
     "showTitle": false,
     "title": ""
    }
   },
   "outputs": [],
   "source": [
    "# Let's get the best parameters\n",
    "best_par = tuning.best_params_\n",
    "print(best_par)"
   ]
  },
  {
   "cell_type": "markdown",
   "metadata": {
    "application/vnd.databricks.v1+cell": {
     "cellMetadata": {},
     "inputWidgets": {},
     "nuid": "a22403c6-44f2-41cf-8fef-2c9b3e02483e",
     "showTitle": false,
     "title": ""
    }
   },
   "source": [
    "If you want to have a more detailed look at the result from the grid search you can use the `cv_results_` attribute.\n",
    "The dict is easily transformed to a pandas DataFrame."
   ]
  },
  {
   "cell_type": "code",
   "execution_count": 0,
   "metadata": {
    "application/vnd.databricks.v1+cell": {
     "cellMetadata": {
      "byteLimit": 2048000,
      "rowLimit": 10000
     },
     "inputWidgets": {},
     "nuid": "6133549c-ea02-4444-b008-5fa26c1967c3",
     "showTitle": false,
     "title": ""
    }
   },
   "outputs": [],
   "source": [
    "# Let's check out the full Grid Search results\n",
    "# We sort the dataframe according to the rank and have a look at the top 10 models\n",
    "gs_result = pd.DataFrame(tuning.cv_results_)\n",
    "gs_result.sort_values(\"rank_test_score\").head(10)"
   ]
  },
  {
   "cell_type": "code",
   "execution_count": 0,
   "metadata": {
    "application/vnd.databricks.v1+cell": {
     "cellMetadata": {
      "byteLimit": 2048000,
      "rowLimit": 10000
     },
     "inputWidgets": {},
     "nuid": "778d5e4e-aedf-430c-af13-71e4db519b18",
     "showTitle": false,
     "title": ""
    }
   },
   "outputs": [],
   "source": [
    "# TASK 4A: Use the best setting of the two hyperparameters and fit a optimized decision tree.\n",
    "# Hint: Reuse the pipeline and when declaring it, specify the params.\n",
    "# Store it as dt_pipeline_tuned.\n",
    "\n",
    "dt_pipeline_tuned = Pipeline(\n",
    "    [\n",
    "        (\"feature_engineering\", feature_engineering),\n",
    "        (\n",
    "            \"decision_tree\",\n",
    "            DecisionTreeClassifier(\n",
    "                max_depth=best_par[\"decision_tree__max_depth\"],\n",
    "                min_samples_split=best_par[\"decision_tree__min_samples_split\"],\n",
    "            ),\n",
    "        ),\n",
    "    ]\n",
    ")\n",
    "\n",
    "# Train\n",
    "dt_pipeline_tuned.fit(X_train, y_train)"
   ]
  },
  {
   "cell_type": "code",
   "execution_count": 0,
   "metadata": {
    "application/vnd.databricks.v1+cell": {
     "cellMetadata": {
      "byteLimit": 2048000,
      "rowLimit": 10000
     },
     "inputWidgets": {},
     "nuid": "5b67dddf-75ad-406a-9166-5a09b2f9e793",
     "showTitle": false,
     "title": ""
    }
   },
   "outputs": [],
   "source": [
    "# TASK 4B: Display accuracy on the training set of the optimized decision tree.\n",
    "\n",
    "print(metrics.accuracy_score(y_train, dt_pipeline_tuned.predict(X_train)))"
   ]
  },
  {
   "cell_type": "code",
   "execution_count": 0,
   "metadata": {
    "application/vnd.databricks.v1+cell": {
     "cellMetadata": {
      "byteLimit": 2048000,
      "rowLimit": 10000
     },
     "inputWidgets": {},
     "nuid": "c418d636-ed4d-4ca3-86bc-2bf99905ebc2",
     "showTitle": false,
     "title": ""
    }
   },
   "outputs": [],
   "source": [
    "# TASK 4C: Display accuracy on the holdout set of the optimized decision tree.\n",
    "print(metrics.accuracy_score(y_test, dt_pipeline_tuned.predict(X_test)))"
   ]
  },
  {
   "cell_type": "markdown",
   "metadata": {
    "application/vnd.databricks.v1+cell": {
     "cellMetadata": {},
     "inputWidgets": {},
     "nuid": "50bb8bf9-9db2-4d71-b56c-0cc8fe41f431",
     "showTitle": false,
     "title": ""
    }
   },
   "source": [
    "Does the optimized decision tree perform better then the one with default parameters?\n",
    "\n",
    "The best model can also be retrieved directly from the result of the grid search, if the parameter `refit=True` is used.\n",
    "By default the value of this parameter is `True` so instead of manually retraining we could eiter use the attribute `best_estimator_` to retrieve the model or make predictions by using the \n",
    "[`predict()`](https://scikit-learn.org/stable/modules/generated/sklearn.model_selection.GridSearchCV.html#sklearn.model_selection.GridSearchCV.predict)\n",
    "straight away."
   ]
  },
  {
   "cell_type": "code",
   "execution_count": 0,
   "metadata": {
    "application/vnd.databricks.v1+cell": {
     "cellMetadata": {
      "byteLimit": 2048000,
      "rowLimit": 10000
     },
     "inputWidgets": {},
     "nuid": "5c416ae5-59af-427f-acd4-5a6600788628",
     "showTitle": false,
     "title": ""
    }
   },
   "outputs": [],
   "source": [
    "# retrieve the best model from the Grid Search object\n",
    "dt_tuning = tuning.best_estimator_\n",
    "print(metrics.accuracy_score(y_test, dt_tuning.predict(X_test)))\n",
    "\n",
    "# directly predict using the Grid Search object\n",
    "print(metrics.accuracy_score(y_test, tuning.predict(X_test)))"
   ]
  },
  {
   "cell_type": "markdown",
   "metadata": {
    "application/vnd.databricks.v1+cell": {
     "cellMetadata": {},
     "inputWidgets": {},
     "nuid": "4a8867ab-1a6c-4853-b251-6532980a73a7",
     "showTitle": false,
     "title": ""
    }
   },
   "source": [
    "### Optional Advanced TASK: Tuning Random Forest\n",
    "When you are tuning a more complex model, it is good practice to search available literature on which hyperparameters should be tuned. Below I have predefined some. You can play around with the grid, for example expand or narrow it. Keep in mind that as our feature set is extremely limited, its hard for hyperparameter tuning to arrive at something meaningful."
   ]
  },
  {
   "cell_type": "code",
   "execution_count": 0,
   "metadata": {
    "application/vnd.databricks.v1+cell": {
     "cellMetadata": {
      "byteLimit": 2048000,
      "rowLimit": 10000
     },
     "inputWidgets": {},
     "nuid": "142e1b69-b8d9-49a6-bbcb-557591d30cf7",
     "showTitle": false,
     "title": ""
    }
   },
   "outputs": [],
   "source": [
    "# OPTIONAL TASK 5\n",
    "from sklearn.ensemble import RandomForestClassifier\n",
    "from sklearn.model_selection import GridSearchCV\n",
    "\n",
    "# Define a pipeline\n",
    "rf_pipeline = Pipeline([('feature_engineering', feature_engineering), ('random_forest', RandomForestClassifier())])\n",
    "\n",
    "# Create the parameter grid based on the results of random search \n",
    "param_grid_rf = {\n",
    "    'random_forest__bootstrap': [True, False],\n",
    "    'random_forest__max_depth': [3, 5, 10, 15],\n",
    "    'random_forest__max_features': [2, 3],\n",
    "    'random_forest__min_samples_leaf': [3, 4, 5],\n",
    "    'random_forest__min_samples_split': [5, 8, 10, 12],\n",
    "    'random_forest__n_estimators': [5, 10, 15, 20, 25]\n",
    "}\n",
    "# Create a based model\n",
    "rf = RandomForestClassifier()\n",
    "# Instantiate the grid search model\n",
    "grid_search = GridSearchCV(estimator = rf_pipeline, \n",
    "                           param_grid = param_grid_rf, \n",
    "                           cv = 3, \n",
    "                           n_jobs = -1, \n",
    "                           verbose = 2)\n",
    "\n",
    "# Searching strategy, providing grid\n",
    "tuning_rf = GridSearchCV(rf_pipeline, param_grid_rf)\n",
    "\n",
    "# Train\n",
    "tuning_rf.fit(X_train, y_train)\n",
    "\n",
    "# Cross-validated score (more robust than holdout set most likely)\n",
    "print(tuning_rf.best_score_)\n",
    "print(tuning_rf.best_params_)"
   ]
  },
  {
   "cell_type": "markdown",
   "metadata": {
    "application/vnd.databricks.v1+cell": {
     "cellMetadata": {},
     "inputWidgets": {},
     "nuid": "b4cffde5-419f-432e-b550-f926ad0792ab",
     "showTitle": false,
     "title": ""
    }
   },
   "source": [
    "### Optional Advanced TASK: Check Kaggle competitions and join one of them!  \n",
    "https://www.kaggle.com/"
   ]
  }
 ],
 "metadata": {
  "application/vnd.databricks.v1+notebook": {
   "dashboards": [],
   "language": "python",
   "notebookMetadata": {
    "pythonIndentUnit": 4
   },
   "notebookName": "[Answer]3a_Hyperparameter_Tuning_SKlearn_jupyter",
   "widgets": {}
  }
 },
 "nbformat": 4,
 "nbformat_minor": 0
}
