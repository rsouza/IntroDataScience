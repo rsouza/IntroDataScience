{
 "cells": [
  {
   "cell_type": "markdown",
   "metadata": {
    "application/vnd.databricks.v1+cell": {
     "cellMetadata": {
      "byteLimit": 2048000,
      "rowLimit": 10000
     },
     "inputWidgets": {},
     "nuid": "078e693d-1b61-4acf-acb5-8238c8a48292",
     "showTitle": false,
     "title": ""
    }
   },
   "source": [
    "# Model Evaluation: Classification"
   ]
  },
  {
   "cell_type": "markdown",
   "metadata": {
    "application/vnd.databricks.v1+cell": {
     "cellMetadata": {
      "byteLimit": 2048000,
      "rowLimit": 10000
     },
     "inputWidgets": {},
     "nuid": "6f1cad03-c91a-48e4-a81e-0d7248dfb1f9",
     "showTitle": false,
     "title": ""
    }
   },
   "source": [
    "Evaluating the performance of classification models is a critical aspect of building effective predictive models. In this notebook we are going to explore various metrics for binary classification tasks:\n",
    "\n",
    "* **Accuracy**\n",
    "\n",
    "* **F1 score**\n",
    "\n",
    "* **ROC AUC**\n",
    "\n",
    "* **PR AUC**\n",
    "\n",
    "\n",
    "Which of these metrics is better? When and how should we use them? What are they good for?"
   ]
  },
  {
   "cell_type": "markdown",
   "metadata": {
    "application/vnd.databricks.v1+cell": {
     "cellMetadata": {
      "byteLimit": 2048000,
      "rowLimit": 10000
     },
     "inputWidgets": {},
     "nuid": "594509f4-7175-4a74-8a76-beff7b6fadf3",
     "showTitle": false,
     "title": ""
    }
   },
   "source": [
    "## Accuracy\n",
    "\n",
    "Accuracy measures the proportion of correctly predicted instances among the total instances in a dataset. In other words, accuracy tells you how well the model's predictions match the actual outcomes.\n",
    "\n",
    "**Accuracy = (Number of Correct Predictions)/(Total Number of Predictions)**\n",
    "\n",
    "\n",
    "When does it make sense to use it?\n",
    "* You should not use accuracy on imbalanced datasets. In situations where the classes are imbalanced, meaning one class has significantly more instances than the others, accuracy can be misleading. A model might achieve high accuracy by simply predicting the majority class all the time.\n",
    "* You can use it when every class is equally important to you and errors are equally costly. In some applications, the cost of making a particular type of error might be much higher than the others. For instance, in medical diagnosis, a false negative (saying a person is healthy when they are not) can be more critical than a false positive. Accuracy doesn't take into account the severity of different types of errors."
   ]
  },
  {
   "cell_type": "markdown",
   "metadata": {
    "application/vnd.databricks.v1+cell": {
     "cellMetadata": {
      "byteLimit": 2048000,
      "rowLimit": 10000
     },
     "inputWidgets": {},
     "nuid": "288bb2b5-7a44-415b-9686-addd2347fa96",
     "showTitle": false,
     "title": ""
    }
   },
   "source": [
    "## F1 Score\n",
    "\n",
    "The F1 score is the **harmonic mean of precision and recall**. \n",
    "\n",
    "Precision is the ratio of true positive predictions to the total predicted positives.\n",
    "\n",
    "**Precision = tp/(tp+fp)**\n",
    "\n",
    "Recall is the ratio of true positive predictions to the total actual positives.\n",
    "\n",
    "**Recall = tp/(tp+fn)**\n",
    "\n",
    "The formula for calculatng the F1 score is:\n",
    "\n",
    "**F1 = 2 x (Precision x Recall)/(Precision + Recall)**\n",
    "\n",
    "When does it make sense to use it?\n",
    "* When the positive class is more important for you.\n",
    "* In scenarios where the costs of different types of errors (false positives and false negatives) are not equal, the F1 score provides a balanced assessment of the trade-off between precision and recall. For instance, in medical diagnoses, a false negative (missing a disease) could be more severe than a false positive (wrongly diagnosing a healthy patient).\n",
    "* In fraud detection or anomaly detection, the class of interest (fraudulent cases or anomalies) is often the minority class. The F1 score is better suited to evaluate the model's performance in correctly identifying these rare occurrences.\n",
    "* In tasks like sentiment analysis, where the classes might not be perfectly balanced, the F1 score helps assess the model's performance when dealing with different levels of sentiment expressions."
   ]
  },
  {
   "cell_type": "markdown",
   "metadata": {
    "application/vnd.databricks.v1+cell": {
     "cellMetadata": {
      "byteLimit": 2048000,
      "rowLimit": 10000
     },
     "inputWidgets": {},
     "nuid": "8f520601-2b98-4d70-ba2d-381e76cb85cb",
     "showTitle": false,
     "title": ""
    }
   },
   "source": [
    "## ROC AUC Score\n",
    "\n",
    "\n",
    "The Receiver Operating Characteristic (ROC) curve and the Area Under the ROC Curve (ROC AUC) are popular evaluation metrics used in binary classification tasks. The ROC AUC score is particularly useful for assessing a model's ability to discriminate between positive and negative classes across different probability thresholds. \n",
    "\n",
    "The ROC AUC score measures the area under the ROC curve. The ROC curve is a graphical representation that illustrates the trade-off between:\n",
    "\n",
    "* true positive rate (TPR, recall)\n",
    "\n",
    "* false positive rate (FPR)\n",
    "\n",
    "**FPR = FP/(FP + TN)**\n",
    "\n",
    "as the classification threshold changes.\n",
    "\n",
    "AUC is the probability that the model ranks a random positive example more highly than a random negative example. \n",
    "\n",
    "*More about ROC AUC: https://developers.google.com/machine-learning/crash-course/classification/roc-and-auc*\n",
    "\n",
    "When does it make sense to use it?\n",
    "* You should not use it with heavily imbalanced dataset. False positive rate for highly imbalanced datasets is pulled down due to a large number of true negatives.\n",
    "* You should use it when you ultimately care about ranking predictions and not necessarily about outputting well-calibrated probabilities"
   ]
  },
  {
   "cell_type": "markdown",
   "metadata": {
    "application/vnd.databricks.v1+cell": {
     "cellMetadata": {
      "byteLimit": 2048000,
      "rowLimit": 10000
     },
     "inputWidgets": {},
     "nuid": "e4547fdc-2008-4356-996c-9ce0f18f59de",
     "showTitle": false,
     "title": ""
    }
   },
   "source": [
    "## PR AUC Score\n",
    "\n",
    "Precision-recall curve combines precision (PPV) and Recall (TPR) in a single visualization. The higher on y-axis your curve is the better your model performance. The higher the recall, the lower the precision. The PR AUC score measures the area under this curve. It quantifies the balance between precision and recall across various thresholds and provides a single value that ranges between 0 and 1. \n",
    "\n",
    "When does it make sense to use it?\n",
    "* The PR AUC score is especially relevant for imbalanced datasets, where the positive class (minority class) is significantly outnumbered by the negative class. \n",
    "* When the positive class is of particular interest, such as detecting rare diseases, fraud cases, anomalies, or relevant search results, the PR AUC score becomes essential. It emphasizes the model's ability to accurately identify positive instances while keeping false positives low.\n",
    "* When you want to choose the threshold that fits the business problem."
   ]
  },
  {
   "cell_type": "markdown",
   "metadata": {
    "application/vnd.databricks.v1+cell": {
     "cellMetadata": {
      "byteLimit": 2048000,
      "rowLimit": 10000
     },
     "inputWidgets": {},
     "nuid": "aad56c4f-de03-4814-a718-ffc9dea8202d",
     "showTitle": false,
     "title": ""
    }
   },
   "source": [
    "## Example: Fraud Detection"
   ]
  },
  {
   "cell_type": "markdown",
   "metadata": {
    "application/vnd.databricks.v1+cell": {
     "cellMetadata": {
      "byteLimit": 2048000,
      "rowLimit": 10000
     },
     "inputWidgets": {},
     "nuid": "291c02e9-ebb1-4c76-ab83-cc328a816a5e",
     "showTitle": false,
     "title": ""
    }
   },
   "source": [
    "We will work with a dataset https://www.kaggle.com/competitions/ieee-fraud-detection/data to detect fraudulent transactions. The dataset was transformed (https://github.com/neptune-ai/blog-binary-classification-metrics), so that it has 43 features, 66000 observations and the fraction of the positive class is 0.09."
   ]
  },
  {
   "cell_type": "code",
   "execution_count": 0,
   "metadata": {
    "application/vnd.databricks.v1+cell": {
     "cellMetadata": {
      "byteLimit": 2048000,
      "rowLimit": 10000
     },
     "inputWidgets": {},
     "nuid": "f85eced8-60ef-4e38-aba0-4c69c100b0d3",
     "showTitle": false,
     "title": ""
    }
   },
   "outputs": [],
   "source": [
    "# Import all necessary libraries\n",
    "import pandas as pd\n",
    "import lightgbm\n",
    "from sklearn.metrics import accuracy_score, f1_score, roc_auc_score, average_precision_score, confusion_matrix, roc_curve, precision_recall_curve"
   ]
  },
  {
   "cell_type": "code",
   "execution_count": 0,
   "metadata": {
    "application/vnd.databricks.v1+cell": {
     "cellMetadata": {
      "byteLimit": 2048000,
      "rowLimit": 10000
     },
     "inputWidgets": {},
     "nuid": "ab441ccf-e9cb-4346-b2aa-013972dcfa0b",
     "showTitle": false,
     "title": ""
    }
   },
   "outputs": [],
   "source": [
    "train = pd.read_csv('../../../../Data/fraud_train.csv')\n",
    "test = pd.read_csv('../../../../Data/fraud_test.csv')"
   ]
  },
  {
   "cell_type": "markdown",
   "metadata": {
    "application/vnd.databricks.v1+cell": {
     "cellMetadata": {
      "byteLimit": 2048000,
      "rowLimit": 10000
     },
     "inputWidgets": {},
     "nuid": "289d181c-f0ef-4017-80a2-387ebb1bbe4a",
     "showTitle": false,
     "title": ""
    }
   },
   "source": [
    "### Brief exploration"
   ]
  },
  {
   "cell_type": "markdown",
   "metadata": {
    "application/vnd.databricks.v1+cell": {
     "cellMetadata": {
      "byteLimit": 2048000,
      "rowLimit": 10000
     },
     "inputWidgets": {},
     "nuid": "7aad693c-f85c-42ff-aeac-3b22e16a6317",
     "showTitle": false,
     "title": ""
    }
   },
   "source": [
    "Let's take a look at our dataset."
   ]
  },
  {
   "cell_type": "code",
   "execution_count": 0,
   "metadata": {
    "application/vnd.databricks.v1+cell": {
     "cellMetadata": {
      "byteLimit": 2048000,
      "rowLimit": 10000
     },
     "inputWidgets": {},
     "nuid": "c99bb3b3-0a15-435c-bcf1-547cbdb4781c",
     "showTitle": false,
     "title": ""
    }
   },
   "outputs": [],
   "source": [
    "train.head()"
   ]
  },
  {
   "cell_type": "markdown",
   "metadata": {
    "application/vnd.databricks.v1+cell": {
     "cellMetadata": {
      "byteLimit": 2048000,
      "rowLimit": 10000
     },
     "inputWidgets": {},
     "nuid": "ecb50e56-4384-443f-8f10-7f5eea12ef5a",
     "showTitle": false,
     "title": ""
    }
   },
   "source": [
    "Now we will check if our dataset is balanced."
   ]
  },
  {
   "cell_type": "code",
   "execution_count": 0,
   "metadata": {
    "application/vnd.databricks.v1+cell": {
     "cellMetadata": {
      "byteLimit": 2048000,
      "rowLimit": 10000
     },
     "inputWidgets": {},
     "nuid": "6ebfde60-6a24-4717-9c16-3331a76777f6",
     "showTitle": false,
     "title": ""
    }
   },
   "outputs": [],
   "source": [
    "class_counts = train['isFraud'].value_counts()\n",
    "class_counts"
   ]
  },
  {
   "cell_type": "markdown",
   "metadata": {
    "application/vnd.databricks.v1+cell": {
     "cellMetadata": {
      "byteLimit": 2048000,
      "rowLimit": 10000
     },
     "inputWidgets": {},
     "nuid": "591d392c-a930-4308-b9bb-a86738651e2e",
     "showTitle": false,
     "title": ""
    }
   },
   "source": [
    "We can see that our data is **imbalanced**: fraudulent transactions (class = 1) account for one tenth of non-fraudulent transactions (class = 0)."
   ]
  },
  {
   "cell_type": "code",
   "execution_count": 0,
   "metadata": {
    "application/vnd.databricks.v1+cell": {
     "cellMetadata": {
      "byteLimit": 2048000,
      "rowLimit": 10000
     },
     "inputWidgets": {},
     "nuid": "c7c69e15-e978-4dad-9008-4337f6d1fdcb",
     "showTitle": false,
     "title": ""
    }
   },
   "outputs": [],
   "source": [
    "train.shape"
   ]
  },
  {
   "cell_type": "code",
   "execution_count": 0,
   "metadata": {
    "application/vnd.databricks.v1+cell": {
     "cellMetadata": {
      "byteLimit": 2048000,
      "rowLimit": 10000
     },
     "inputWidgets": {},
     "nuid": "2968d6bf-c088-4e1e-8382-0cb1401a3925",
     "showTitle": false,
     "title": ""
    }
   },
   "outputs": [],
   "source": [
    "test.shape"
   ]
  },
  {
   "cell_type": "code",
   "execution_count": 0,
   "metadata": {
    "application/vnd.databricks.v1+cell": {
     "cellMetadata": {
      "byteLimit": 2048000,
      "rowLimit": 10000
     },
     "inputWidgets": {},
     "nuid": "1676c49a-9863-49c2-98f6-37742b2a52ae",
     "showTitle": false,
     "title": ""
    }
   },
   "outputs": [],
   "source": [
    "feature_names = [col for col in train.columns if col not in ['isFraud']]\n",
    "\n",
    "# Split dataset\n",
    "X_train, y_train = train[feature_names], train['isFraud']\n",
    "X_test, y_test = test[feature_names], test['isFraud']"
   ]
  },
  {
   "cell_type": "code",
   "execution_count": 0,
   "metadata": {
    "application/vnd.databricks.v1+cell": {
     "cellMetadata": {
      "byteLimit": 2048000,
      "rowLimit": 10000
     },
     "inputWidgets": {},
     "nuid": "54d3fed5-9fb5-4c6c-886c-2e28e5b43e5c",
     "showTitle": false,
     "title": ""
    }
   },
   "outputs": [],
   "source": [
    "# Create a list of different hyperparameters\n",
    "parameters = [\n",
    "  {\n",
    "    'learning_rate': 0.1,\n",
    "    'n_estimators': 10\n",
    "  },\n",
    "  {\n",
    "    'learning_rate': 0.1,\n",
    "    'n_estimators': 100\n",
    "  },\n",
    "  {\n",
    "    'learning_rate': 0.1,\n",
    "    'n_estimators': 300\n",
    "  },\n",
    "  {\n",
    "    'learning_rate': 0.1,\n",
    "    'n_estimators': 600\n",
    "  },\n",
    "  {\n",
    "    'learning_rate': 0.1,\n",
    "    'n_estimators': 1500\n",
    "  },\n",
    "  {\n",
    "    'learning_rate': 0.05,\n",
    "    'n_estimators': 1500\n",
    "  },\n",
    "  {\n",
    "    'learning_rate': 0.05,\n",
    "    'n_estimators': 3000\n",
    "  }\n",
    "]"
   ]
  },
  {
   "cell_type": "code",
   "execution_count": 0,
   "metadata": {
    "application/vnd.databricks.v1+cell": {
     "cellMetadata": {
      "byteLimit": 2048000,
      "rowLimit": 10000
     },
     "inputWidgets": {},
     "nuid": "089e428d-e352-403e-9111-260c61a487b1",
     "showTitle": false,
     "title": ""
    }
   },
   "outputs": [],
   "source": [
    "results = []\n",
    "id = 0\n",
    "\n",
    "# Create models for different hyperparameters\n",
    "for config in parameters:\n",
    "  model = lightgbm.LGBMClassifier(random_state = 42, learning_rate = config['learning_rate'], n_estimators = config['n_estimators'])\n",
    "  model.fit(X_train, y_train)\n",
    "  y_pred = model.predict(X_test)\n",
    "  y_prob = model.predict_proba(X_test)[:, 1]\n",
    "\n",
    "  accuracy = accuracy_score(y_test, y_pred)\n",
    "  f1 = f1_score(y_test, y_pred)\n",
    "  roc_auc = roc_auc_score(y_test, y_prob)\n",
    "  pr_auc = average_precision_score(y_test, y_prob)\n",
    "  \n",
    "  # Store results\n",
    "  result = {\n",
    "      'ID': id,\n",
    "      'Learning rate': config['learning_rate'],\n",
    "      'N_estimators': config['n_estimators'],\n",
    "      'Accuracy': accuracy,\n",
    "      'F1 Score': f1,\n",
    "      'ROC AUC': roc_auc,\n",
    "      'PR AUC': pr_auc,\n",
    "  }\n",
    "  results.append(result)\n",
    "  id += 1\n"
   ]
  },
  {
   "cell_type": "markdown",
   "metadata": {
    "application/vnd.databricks.v1+cell": {
     "cellMetadata": {
      "byteLimit": 2048000,
      "rowLimit": 10000
     },
     "inputWidgets": {},
     "nuid": "2ccaba52-b1fa-490f-ac1b-8d0844ba38aa",
     "showTitle": false,
     "title": ""
    }
   },
   "source": [
    "Let us take a look at the results and make conclusions."
   ]
  },
  {
   "cell_type": "code",
   "execution_count": 0,
   "metadata": {
    "application/vnd.databricks.v1+cell": {
     "cellMetadata": {
      "byteLimit": 2048000,
      "rowLimit": 10000
     },
     "inputWidgets": {},
     "nuid": "9c5933f7-17a9-4230-aba4-b3401858ee7c",
     "showTitle": false,
     "title": ""
    }
   },
   "outputs": [],
   "source": [
    "for result in results:\n",
    "  print(result)"
   ]
  },
  {
   "cell_type": "code",
   "execution_count": 0,
   "metadata": {
    "application/vnd.databricks.v1+cell": {
     "cellMetadata": {
      "byteLimit": 2048000,
      "rowLimit": 10000
     },
     "inputWidgets": {},
     "nuid": "c2041428-8d25-44c5-a107-6d01d0f320c5",
     "showTitle": false,
     "title": ""
    }
   },
   "outputs": [],
   "source": [
    "# Sort experiments by accuracy\n",
    "sorted(results, key=lambda x: x.get(\"Accuracy\"))"
   ]
  },
  {
   "cell_type": "markdown",
   "metadata": {
    "application/vnd.databricks.v1+cell": {
     "cellMetadata": {
      "byteLimit": 2048000,
      "rowLimit": 10000
     },
     "inputWidgets": {},
     "nuid": "d14b21ad-6e5e-4db9-9e27-ab5f601926c4",
     "showTitle": false,
     "title": ""
    }
   },
   "source": [
    "We can see that our models always have high accuracy score (>90%). The worst model has the accuracy of 0.93. But remember that we have an imbalanced dataset. It means that even if all transactions will be classified as non-fraudulent, we will get an accuracy of 0.9. **You should always take an imbalance into consideration when looking at accuracy!**"
   ]
  },
  {
   "cell_type": "code",
   "execution_count": 0,
   "metadata": {
    "application/vnd.databricks.v1+cell": {
     "cellMetadata": {
      "byteLimit": 2048000,
      "rowLimit": 10000
     },
     "inputWidgets": {},
     "nuid": "b483e9c3-23f6-4092-a4da-a8f5dd796dfb",
     "showTitle": false,
     "title": ""
    }
   },
   "outputs": [],
   "source": [
    "sorted(results, key=lambda x: x.get(\"F1 Score\"))"
   ]
  },
  {
   "cell_type": "markdown",
   "metadata": {
    "application/vnd.databricks.v1+cell": {
     "cellMetadata": {
      "byteLimit": 2048000,
      "rowLimit": 10000
     },
     "inputWidgets": {},
     "nuid": "0a43c221-adeb-49af-b378-1242e46cf96a",
     "showTitle": false,
     "title": ""
    }
   },
   "source": [
    "With the imbalance we have, even the worst model has very high accuracy and the improvements as we go to the end of the table are not as clear on accuracy as they are on F1 score. Hence, between accuracy and F1 Score one should choose **F1 Score** for this dataset."
   ]
  },
  {
   "cell_type": "markdown",
   "metadata": {
    "application/vnd.databricks.v1+cell": {
     "cellMetadata": {
      "byteLimit": 2048000,
      "rowLimit": 10000
     },
     "inputWidgets": {},
     "nuid": "0889d1f0-38be-4668-b8fe-546d0e986fef",
     "showTitle": false,
     "title": ""
    }
   },
   "source": [
    "As a next step we will compare ROC AUC and PR AUC."
   ]
  },
  {
   "cell_type": "code",
   "execution_count": 0,
   "metadata": {
    "application/vnd.databricks.v1+cell": {
     "cellMetadata": {
      "byteLimit": 2048000,
      "rowLimit": 10000
     },
     "inputWidgets": {},
     "nuid": "f5ea2fb1-8bc6-41e1-8cf0-c10c1766f0e6",
     "showTitle": false,
     "title": ""
    }
   },
   "outputs": [],
   "source": [
    "sorted(results, key=lambda x: x.get(\"ROC AUC\"))"
   ]
  },
  {
   "cell_type": "code",
   "execution_count": 0,
   "metadata": {
    "application/vnd.databricks.v1+cell": {
     "cellMetadata": {
      "byteLimit": 2048000,
      "rowLimit": 10000
     },
     "inputWidgets": {},
     "nuid": "38d448c2-7ddd-4d97-83e4-f637d2580cb8",
     "showTitle": false,
     "title": ""
    }
   },
   "outputs": [],
   "source": [
    "sorted(results, key=lambda x: x.get(\"PR AUC\"))"
   ]
  },
  {
   "cell_type": "markdown",
   "metadata": {
    "application/vnd.databricks.v1+cell": {
     "cellMetadata": {
      "byteLimit": 2048000,
      "rowLimit": 10000
     },
     "inputWidgets": {},
     "nuid": "e2a1caab-b99c-4b65-aae1-dff6a2647e27",
     "showTitle": false,
     "title": ""
    }
   },
   "source": [
    "ROC AUC and PR AUC both assess the performance of classification models based on prediction scores rather than fixed class assignments. However, they differ in the metrics they focus on. ROC AUC examines the True Positive Rate (TPR) and False Positive Rate (FPR), whereas PR AUC considers the Positive Predictive Value (PPV) and TPR.\n",
    "\n",
    "If your primary concern is the positive class, PR AUC is often a superior choice. It is more sensitive to improvements in the positive class, making it particularly valuable in scenarios with highly imbalanced datasets. For instance, in cases like fraud detection, where the positive class (i.e., instances of fraud) is rare compared to the negative class, PR AUC provides a more informative evaluation of model performance.\n",
    "\n",
    "In our case we can see, that although ROC AUC and PR AUC rank models in the same way, the improvements calculated in **PR AUC** are larger and clearer. We get from 0.69 to 0.87 when at the same time ROC AUC goes from 0.92 to 0.96."
   ]
  },
  {
   "cell_type": "markdown",
   "metadata": {
    "application/vnd.databricks.v1+cell": {
     "cellMetadata": {
      "byteLimit": 2048000,
      "rowLimit": 10000
     },
     "inputWidgets": {},
     "nuid": "c45c8d75-29f5-49d6-bb57-f7db7bcb68b8",
     "showTitle": false,
     "title": ""
    }
   },
   "source": [
    "Now we should decide between F1 Score and PR AUC.\n",
    "\n",
    "One significant distinction between the F1 score and ROC AUC is that the F1 score operates on predicted classes, while ROC AUC relies on predicted scores. Consequently, when using the F1 score, you must select a threshold for class assignment, a decision that can substantially impact model performance.\n",
    "\n",
    "If your objective is to rank predictions, without the need for well-calibrated probabilities, and your dataset maintains a reasonable balance between classes, then ROC AUC is a good choice.\n",
    "\n",
    "However, in scenarios characterized by a heavily imbalanced dataset, or when your primary concern centers on the positive class, considering the F1 score or Precision-Recall curve with PR AUC is advisable. Additionally, using F1 may be advantageous because this metric is more straightforward to interpret and convey to business stakeholders."
   ]
  },
  {
   "cell_type": "markdown",
   "metadata": {
    "application/vnd.databricks.v1+cell": {
     "cellMetadata": {
      "byteLimit": 2048000,
      "rowLimit": 10000
     },
     "inputWidgets": {},
     "nuid": "b75b8bea-456e-4644-9663-85d64d74fa63",
     "showTitle": false,
     "title": ""
    }
   },
   "source": [
    "*This notebook is based on the article: https://neptune.ai/blog/f1-score-accuracy-roc-auc-pr-auc.*"
   ]
  }
 ],
 "metadata": {
  "application/vnd.databricks.v1+notebook": {
   "dashboards": [],
   "language": "python",
   "notebookMetadata": {
    "pythonIndentUnit": 2
   },
   "notebookName": "4_Model_Evaluation",
   "widgets": {}
  }
 },
 "nbformat": 4,
 "nbformat_minor": 0
}
