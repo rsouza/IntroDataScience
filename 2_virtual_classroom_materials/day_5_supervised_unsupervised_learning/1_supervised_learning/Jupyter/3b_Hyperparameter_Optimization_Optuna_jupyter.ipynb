{
 "cells": [
  {
   "cell_type": "markdown",
   "metadata": {
    "application/vnd.databricks.v1+cell": {
     "cellMetadata": {},
     "inputWidgets": {},
     "nuid": "1b69dee9-0f7f-4081-bf24-647456a4490f",
     "showTitle": false,
     "title": ""
    }
   },
   "source": [
    "# AutoML tools: Hyperparameter Optimization with Optuna"
   ]
  },
  {
   "cell_type": "markdown",
   "metadata": {
    "application/vnd.databricks.v1+cell": {
     "cellMetadata": {},
     "inputWidgets": {},
     "nuid": "14dbc4c7-7fa8-41da-94d7-5684d73e3dd4",
     "showTitle": false,
     "title": ""
    }
   },
   "source": [
    "In this notebook we will be using [Optuna](https://optuna.readthedocs.io/en/stable/index.html) for **hyperparameter optimization** in machine learning. \n",
    "Hyperparameter optimization is a critical step in improving the performance of machine learning models.\n",
    "[Optuna](https://optuna.readthedocs.io/en/stable/index.html)\n",
    "provides an efficient and automated way to search for the best hyperparameters.\n",
    "\n",
    "Before we dive into the specifics of [Optuna](https://optuna.readthedocs.io/en/stable/index.html), \n",
    "let's take a moment to understand what **hyperparameters** are. \n",
    "Hyperparameters are the parameters of a machine learning model that are **not learned** from the data during training. They are **set prior** to training and can have a significant influence on a model's performance and generalization ability.\n",
    "Examples of hyperparameters include the learning rate of an optimizer, the number of hidden layers in a neural network, and the regularization strength in a regression model.\n",
    "\n",
    "Selecting appropriate hyperparameters is a crucial aspect of developing effective machine learning models. Poorly chosen hyperparameters can lead to bad performance, including overfitting or underfitting."
   ]
  },
  {
   "cell_type": "markdown",
   "metadata": {
    "application/vnd.databricks.v1+cell": {
     "cellMetadata": {},
     "inputWidgets": {},
     "nuid": "19b71c9c-cab0-43f0-a4bc-1c2daf3d48c3",
     "showTitle": false,
     "title": ""
    }
   },
   "source": [
    "Let's explore [Optuna](https://optuna.readthedocs.io/en/stable/index.html) in greater detail to better understand its features and functionalities."
   ]
  },
  {
   "cell_type": "code",
   "execution_count": 0,
   "metadata": {
    "application/vnd.databricks.v1+cell": {
     "cellMetadata": {},
     "inputWidgets": {},
     "nuid": "f65d7481-c06f-44c9-a1c3-21d14b2cb707",
     "showTitle": false,
     "title": ""
    }
   },
   "outputs": [],
   "source": [
    "pip install -q optuna"
   ]
  },
  {
   "cell_type": "code",
   "execution_count": 0,
   "metadata": {
    "application/vnd.databricks.v1+cell": {
     "cellMetadata": {},
     "inputWidgets": {},
     "nuid": "b5ac9cfa-a15f-4a24-acdf-15a605d26e08",
     "showTitle": false,
     "title": ""
    }
   },
   "outputs": [],
   "source": [
    "dbutils.library.restartPython()"
   ]
  },
  {
   "cell_type": "code",
   "execution_count": 0,
   "metadata": {
    "application/vnd.databricks.v1+cell": {
     "cellMetadata": {},
     "inputWidgets": {},
     "nuid": "c300c4f2-1cd0-4345-9cd8-8e7812c71889",
     "showTitle": false,
     "title": ""
    }
   },
   "outputs": [],
   "source": [
    "import pandas as pd\n",
    "from sklearn.model_selection import train_test_split\n",
    "import optuna"
   ]
  },
  {
   "cell_type": "code",
   "execution_count": 0,
   "metadata": {
    "application/vnd.databricks.v1+cell": {
     "cellMetadata": {},
     "inputWidgets": {},
     "nuid": "ba20e0f1-8af3-407e-81f7-16e75fc3550f",
     "showTitle": false,
     "title": ""
    }
   },
   "outputs": [],
   "source": [
    "data = pd.read_csv('../../../../Data/Boston.csv')\n",
    "\n",
    "X = data.iloc[:, 1:14]\n",
    "y = data.iloc[:, -1]\n",
    "X_train, X_test, y_train, y_test = train_test_split(X, y, test_size = 0.2, random_state = 0)"
   ]
  },
  {
   "cell_type": "markdown",
   "metadata": {
    "application/vnd.databricks.v1+cell": {
     "cellMetadata": {},
     "inputWidgets": {},
     "nuid": "95042287-5c31-4ae2-9518-b7567642f166",
     "showTitle": false,
     "title": ""
    }
   },
   "source": [
    "## Create a baseline\n",
    "\n",
    "For this regression task we will optimize the hyperparameters of a [GradientBoostingRegressor](https://scikit-learn.org/stable/modules/generated/sklearn.ensemble.GradientBoostingRegressor.html).\n",
    "The performance of the models will be compared by the [**\\\\(r^2\\\\)-score**](https://en.wikipedia.org/wiki/Coefficient_of_determination).\n",
    "\n",
    "Let's start out by fitting a\n",
    "[GradientBoostingRegressor](https://scikit-learn.org/stable/modules/generated/sklearn.ensemble.GradientBoostingRegressor.html)\n",
    "with default parameters."
   ]
  },
  {
   "cell_type": "code",
   "execution_count": 0,
   "metadata": {
    "application/vnd.databricks.v1+cell": {
     "cellMetadata": {
      "byteLimit": 2048000,
      "rowLimit": 10000
     },
     "inputWidgets": {},
     "nuid": "daeb7b90-a580-43ef-a900-e9f76a596f4c",
     "showTitle": false,
     "title": ""
    }
   },
   "outputs": [],
   "source": [
    "from sklearn.ensemble import GradientBoostingRegressor\n",
    "from sklearn.metrics import r2_score\n",
    "\n",
    "baseline_regressor = GradientBoostingRegressor(random_state=0)\n",
    "\n",
    "baseline_regressor.fit(X_train, y_train)\n",
    "baseline_r2 = baseline_regressor.score(X_test, y_test)\n",
    "\n",
    "print(f\"The baseline r2-score is {baseline_r2:.3f}\")"
   ]
  },
  {
   "cell_type": "markdown",
   "metadata": {
    "application/vnd.databricks.v1+cell": {
     "cellMetadata": {},
     "inputWidgets": {},
     "nuid": "5bdc403d-2aca-4dbb-8560-d51a4649816a",
     "showTitle": false,
     "title": ""
    }
   },
   "source": [
    "We find that on the test set the \\\\(r^2\\\\)-score for a\n",
    "[GradientBoostingRegressor](https://scikit-learn.org/stable/modules/generated/sklearn.ensemble.GradientBoostingRegressor.html)\n",
    "without any hyperparameter tuning is about 0.79.\n",
    "In the following sections we will improve this score by optimizing the model with\n",
    "[Optuna](https://optuna.readthedocs.io/en/stable/index.html)."
   ]
  },
  {
   "cell_type": "markdown",
   "metadata": {
    "application/vnd.databricks.v1+cell": {
     "cellMetadata": {},
     "inputWidgets": {},
     "nuid": "58d02593-11f3-4f2b-ae3c-993b30fff31d",
     "showTitle": false,
     "title": ""
    }
   },
   "source": [
    "## Define the objective function\n",
    "We start with **defining objective function**. The objective function is a crucial component of hyperparameter optimization. It defines the metric you want to optimize (e.g., accuracy, loss). This function takes hyperparameters as input, builds and trains a model, and evaluates its performance on a validation set.\n",
    "\n",
    "Let's take a look at GradientBoostingRegressor documentation: https://scikit-learn.org/stable/modules/generated/sklearn.ensemble.GradientBoostingRegressor.html.\n",
    "\n",
    "As we can see, GradientBoostingRegressor has many parameters. Which of them should we optimize?\n",
    "\n",
    "The overall parameters can be divided into 3 categories:\n",
    "\n",
    "- **Tree-Specific Parameters** min_samples_split, min_samples_leaf, max_leaf_nodes etc.\n",
    "- **Boosting Parameters**: learning_rate, n_estimators, subsample\n",
    "- **Miscellaneous Parameters**: loss, random_state etc.\n",
    "\n",
    "We will tune only first two types of parameters. *Let's follow the general approach for parameter tuning, explained in this article: https://luminousdata.wordpress.com/2017/07/27/complete-guide-to-parameter-tuning-in-gradient-boosting-gbm-in-python/.*\n",
    "\n",
    "First, we take a default **learning rate** (0.1). Now we should determine the **optimum number of trees** (n_estimators) for this learning rate."
   ]
  },
  {
   "cell_type": "code",
   "execution_count": 0,
   "metadata": {
    "application/vnd.databricks.v1+cell": {
     "cellMetadata": {},
     "inputWidgets": {},
     "nuid": "4192640e-d44e-4390-bf9e-dd524f3fda30",
     "showTitle": false,
     "title": ""
    }
   },
   "outputs": [],
   "source": [
    "from sklearn.ensemble import GradientBoostingRegressor\n",
    "from sklearn.metrics import r2_score\n",
    "\n",
    "# Objective function\n",
    "def objective_1(trial):\n",
    "\n",
    "  # Define hyperparameters to optimize\n",
    "  # Suggest the number of trees in range [10, 300]\n",
    "  n_estimators = trial.suggest_int('n_estimators', 10, 300)\n",
    "\n",
    "  model = GradientBoostingRegressor(\n",
    "        n_estimators = n_estimators,\n",
    "        random_state = 42\n",
    "    )\n",
    "\n",
    "  # Train the model\n",
    "  model.fit(X_train, y_train)\n",
    "\n",
    "  # Make predictions on the test set\n",
    "  y_pred = model.predict(X_test)\n",
    "\n",
    "  # Calculate r2\n",
    "  r2 = r2_score(y_test, y_pred)\n",
    "  return r2"
   ]
  },
  {
   "cell_type": "markdown",
   "metadata": {
    "application/vnd.databricks.v1+cell": {
     "cellMetadata": {},
     "inputWidgets": {},
     "nuid": "0dccfcb6-1422-4812-bd1a-f2d7b6f9ff8c",
     "showTitle": false,
     "title": ""
    }
   },
   "source": [
    "## Create and run the study"
   ]
  },
  {
   "cell_type": "code",
   "execution_count": 0,
   "metadata": {
    "application/vnd.databricks.v1+cell": {
     "cellMetadata": {},
     "inputWidgets": {},
     "nuid": "bd559c7a-4d6c-4f13-87c8-1495e4e30d5e",
     "showTitle": false,
     "title": ""
    }
   },
   "outputs": [],
   "source": [
    "# Create a new study (set of trials)\n",
    "study = optuna.create_study(direction='maximize')\n",
    "\n",
    "# Optimize an objective function\n",
    "study.optimize(objective_1, n_trials=50)\n",
    "\n",
    "# Print the results\n",
    "print('Study #1')\n",
    "# Attribute 'trials' returns the list of all trials\n",
    "print('Number of finished trials:', len(study.trials))\n",
    "# Attribute 'best_trial' returns the best trial in the study\n",
    "print('Best trial:')\n",
    "trial = study.best_trial\n",
    "# 'value' returns the r2-score of the best trial in the study\n",
    "print('Value:', trial.value)\n",
    "print('Params:')\n",
    "for key, value in trial.params.items():\n",
    "    print(f'    {key}: {value}')\n",
    "print(\"\\n\")"
   ]
  },
  {
   "cell_type": "markdown",
   "metadata": {
    "application/vnd.databricks.v1+cell": {
     "cellMetadata": {},
     "inputWidgets": {},
     "nuid": "2bc8b166-697a-49e6-9d8b-b691405702b7",
     "showTitle": false,
     "title": ""
    }
   },
   "source": [
    "Our study showed **the optimum number of trees**.\n",
    "\n",
    "Now we will use this number of trees in our model and tune tree-specific parameters. We should choose the order of tuning variables wisely, i.e. start with the ones that have a bigger effect on the outcome. For example, we need to focus on variables max_depth and min_samples_split first, as they have a strong impact.\n",
    "\n",
    "Let's tune **max_depth** and **min_samples_split**."
   ]
  },
  {
   "cell_type": "code",
   "execution_count": 0,
   "metadata": {
    "application/vnd.databricks.v1+cell": {
     "cellMetadata": {},
     "inputWidgets": {},
     "nuid": "c2f86127-4f3b-46ed-9056-63c326fbcf0f",
     "showTitle": false,
     "title": ""
    }
   },
   "outputs": [],
   "source": [
    "def objective_2(trial):\n",
    "\n",
    "  # Define hyperparameters to optimize\n",
    "  max_depth = trial.suggest_int('max_depth', 2, 32, log=True)\n",
    "  min_samples_split = trial.suggest_float('min_samples_split', 0.1, 1)\n",
    "\n",
    "  model = GradientBoostingRegressor(\n",
    "        n_estimators = 178,\n",
    "        max_depth = max_depth,\n",
    "        min_samples_split = min_samples_split,\n",
    "        random_state = 42\n",
    "    )\n",
    "\n",
    "  # Train the model\n",
    "  model.fit(X_train, y_train)\n",
    "\n",
    "  # Make predictions on the test set\n",
    "  y_pred = model.predict(X_test)\n",
    "\n",
    "  # Calculate accuracy\n",
    "  r2 = r2_score(y_test, y_pred)\n",
    "  return r2\n",
    "\n",
    "study = optuna.create_study(direction='maximize')\n",
    "\n",
    "study.optimize(objective_2, n_trials=100)\n",
    "\n",
    "print('Study #2')\n",
    "print('Number of finished trials:', len(study.trials))\n",
    "print('Best trial:')\n",
    "trial = study.best_trial\n",
    "print('Value:', trial.value)\n",
    "print('Params:')\n",
    "for key, value in trial.params.items():\n",
    "    print(f'    {key}: {value}')\n",
    "print(\"\\n\")"
   ]
  },
  {
   "cell_type": "markdown",
   "metadata": {
    "application/vnd.databricks.v1+cell": {
     "cellMetadata": {},
     "inputWidgets": {},
     "nuid": "8a22f87a-dc21-4124-b33e-3bc4bd5fc372",
     "showTitle": false,
     "title": ""
    }
   },
   "source": [
    "We got the best values for max_depth and min_samples_split. At this point, we can notice that there is a big impovement in r2-score compared to the untuned model.\n",
    "\n",
    "Now, let's keep max_depth in our model and tune **min_samples_split** and **min_samples_leaf** together."
   ]
  },
  {
   "cell_type": "code",
   "execution_count": 0,
   "metadata": {
    "application/vnd.databricks.v1+cell": {
     "cellMetadata": {},
     "inputWidgets": {},
     "nuid": "fde37388-8c26-458a-88a2-7842f01413c5",
     "showTitle": false,
     "title": ""
    }
   },
   "outputs": [],
   "source": [
    "def objective_3(trial):\n",
    "\n",
    "  # Define hyperparameters to optimize\n",
    "  min_samples_leaf = trial.suggest_int('min_samples_leaf', 1, 71, step=10)\n",
    "  min_samples_split = trial.suggest_float('min_samples_split', 0.1, 1)\n",
    "\n",
    "  model = GradientBoostingRegressor(\n",
    "        n_estimators=178,\n",
    "        max_depth=24,\n",
    "        min_samples_split=min_samples_split,\n",
    "        min_samples_leaf=min_samples_leaf,\n",
    "        random_state=42\n",
    "    )\n",
    "\n",
    "  # Train the model\n",
    "  model.fit(X_train, y_train)\n",
    "\n",
    "  # Make predictions on the test set\n",
    "  y_pred = model.predict(X_test)\n",
    "\n",
    "  # Calculate accuracy\n",
    "  r2 = r2_score(y_test, y_pred)\n",
    "  return r2\n",
    "\n",
    "study = optuna.create_study(direction='maximize')\n",
    "\n",
    "study.optimize(objective_3, n_trials=50)\n",
    "\n",
    "print('Study #3')\n",
    "print('Number of finished trials:', len(study.trials))\n",
    "print('Best trial:')\n",
    "trial = study.best_trial\n",
    "print('Value:', trial.value)\n",
    "print('Params:')\n",
    "for key, value in trial.params.items():\n",
    "    print(f'    {key}: {value}')\n",
    "print(\"\\n\")"
   ]
  },
  {
   "cell_type": "markdown",
   "metadata": {
    "application/vnd.databricks.v1+cell": {
     "cellMetadata": {},
     "inputWidgets": {},
     "nuid": "4b543831-6100-4400-bb7e-55c97d0814c0",
     "showTitle": false,
     "title": ""
    }
   },
   "source": [
    "We have the last tree-specific parameter we need to tune - **max_features**. We will try values from 1 to 13 in steps of 2."
   ]
  },
  {
   "cell_type": "code",
   "execution_count": 0,
   "metadata": {
    "application/vnd.databricks.v1+cell": {
     "cellMetadata": {},
     "inputWidgets": {},
     "nuid": "add8ef61-b2cb-4d94-bd01-1e2e51e8bc08",
     "showTitle": false,
     "title": ""
    }
   },
   "outputs": [],
   "source": [
    "def objective_4(trial):\n",
    "\n",
    "  # Define hyperparameters to optimize\n",
    "  max_features = trial.suggest_int('max_features', 1, 13, 2)\n",
    "\n",
    "  model = GradientBoostingRegressor(\n",
    "        n_estimators=178,\n",
    "        max_depth=24,\n",
    "        min_samples_split=0.31220765553286495,\n",
    "        min_samples_leaf=1,\n",
    "        max_features = max_features,\n",
    "        random_state=42\n",
    "    )\n",
    "\n",
    "  # Train the model\n",
    "  model.fit(X_train, y_train)\n",
    "\n",
    "  # Make predictions on the test set\n",
    "  y_pred = model.predict(X_test)\n",
    "\n",
    "  # Calculate accuracy\n",
    "  r2 = r2_score(y_test, y_pred)\n",
    "  return r2\n",
    "\n",
    "study = optuna.create_study(direction='maximize')\n",
    "\n",
    "study.optimize(objective_4, n_trials=50)\n",
    "\n",
    "print('Study #4')\n",
    "print('Number of finished trials:', len(study.trials))\n",
    "print('Best trial:')\n",
    "trial = study.best_trial\n",
    "print('Value:', trial.value)\n",
    "print('Params:')\n",
    "for key, value in trial.params.items():\n",
    "    print(f'    {key}: {value}')\n",
    "print(\"\\n\")"
   ]
  },
  {
   "cell_type": "markdown",
   "metadata": {
    "application/vnd.databricks.v1+cell": {
     "cellMetadata": {},
     "inputWidgets": {},
     "nuid": "4b702ffb-b09b-4797-9ec2-be6141319517",
     "showTitle": false,
     "title": ""
    }
   },
   "source": [
    "Now we will tune boosting parameter **subsample**."
   ]
  },
  {
   "cell_type": "code",
   "execution_count": 0,
   "metadata": {
    "application/vnd.databricks.v1+cell": {
     "cellMetadata": {},
     "inputWidgets": {},
     "nuid": "b7a271df-e745-440b-82e0-c4ac42657103",
     "showTitle": false,
     "title": ""
    }
   },
   "outputs": [],
   "source": [
    "def objective_5(trial):\n",
    "  # Define hyperparameters to optimize\n",
    "  subsample = trial.suggest_float('subsample', 0.6, 1, step=0.05)\n",
    "\n",
    "  model = GradientBoostingRegressor(\n",
    "        n_estimators=178,\n",
    "        max_depth=24,\n",
    "        min_samples_split=0.31220765553286495,\n",
    "        min_samples_leaf=1,\n",
    "        max_features = 11,\n",
    "        subsample=subsample,\n",
    "        random_state=42\n",
    "    )\n",
    "\n",
    "    # Train the model\n",
    "  model.fit(X_train, y_train)\n",
    "\n",
    "    # Make predictions on the test set\n",
    "  y_pred = model.predict(X_test)\n",
    "\n",
    "    # Calculate accuracy\n",
    "  r2 = r2_score(y_test, y_pred)\n",
    "  return r2\n",
    "\n",
    "study = optuna.create_study(direction='maximize')\n",
    "\n",
    "study.optimize(objective_5, n_trials=50)\n",
    "\n",
    "print('Study #5')\n",
    "print('Number of finished trials:', len(study.trials))\n",
    "print('Best trial:')\n",
    "trial = study.best_trial\n",
    "print('Value:', trial.value)\n",
    "print('Params:')\n",
    "for key, value in trial.params.items():\n",
    "    print(f'    {key}: {value}')\n",
    "print(\"\\n\")"
   ]
  },
  {
   "cell_type": "markdown",
   "metadata": {
    "application/vnd.databricks.v1+cell": {
     "cellMetadata": {},
     "inputWidgets": {},
     "nuid": "c45f1f99-491a-4609-b124-6b706ba4baeb",
     "showTitle": false,
     "title": ""
    }
   },
   "source": [
    "It can be seen, that default value of subsample is optimal.\n",
    "\n",
    "Now we will create a final model with all the parameters we tuned."
   ]
  },
  {
   "cell_type": "code",
   "execution_count": 0,
   "metadata": {
    "application/vnd.databricks.v1+cell": {
     "cellMetadata": {},
     "inputWidgets": {},
     "nuid": "0af1b833-4fc7-4705-a867-54f30a2d3690",
     "showTitle": false,
     "title": ""
    }
   },
   "outputs": [],
   "source": [
    "final_model = GradientBoostingRegressor(\n",
    "    n_estimators=178,\n",
    "    max_depth=24,\n",
    "    min_samples_split=0.31220765553286495,\n",
    "    min_samples_leaf=1,\n",
    "    max_features=11,\n",
    "    subsample=1,\n",
    "    random_state=42\n",
    ")\n",
    "\n",
    "final_model.fit(X_train, y_train)\n",
    "final_predictions = final_model.predict(X_test)\n",
    "final_score = r2_score(y_test, final_predictions)\n",
    "print('Trained and evaluated the final model using the best hyperparameters.\\n')\n",
    "print('Final model score:', final_score)"
   ]
  },
  {
   "cell_type": "markdown",
   "metadata": {
    "application/vnd.databricks.v1+cell": {
     "cellMetadata": {},
     "inputWidgets": {},
     "nuid": "8a4a7c53-a1cd-4c7c-8d14-6e09c35b5cd0",
     "showTitle": false,
     "title": ""
    }
   },
   "source": [
    "Perfect! Using the Optuna library, we tuned the hyperparameters of the model and got an improvement in the r2-score."
   ]
  },
  {
   "cell_type": "markdown",
   "metadata": {
    "application/vnd.databricks.v1+cell": {
     "cellMetadata": {},
     "inputWidgets": {},
     "nuid": "8d86e51e-3933-4c34-801b-0eb1303a278e",
     "showTitle": false,
     "title": ""
    }
   },
   "source": [
    "## Your turn!\n",
    "Now it's your turn to put what you've learned about the Optuna library into practice! You will try to optimize the model hyperparameters for a classification problem.\n",
    "\n",
    "In the code chunk below we load the data for this task.\n",
    "The goal is to predict if a patient is obese.\n",
    "There are 4 classes  in the target variable."
   ]
  },
  {
   "cell_type": "code",
   "execution_count": 0,
   "metadata": {
    "application/vnd.databricks.v1+cell": {
     "cellMetadata": {},
     "inputWidgets": {},
     "nuid": "31867e86-9f77-4c51-a0ed-01c7d9fb3c08",
     "showTitle": false,
     "title": ""
    }
   },
   "outputs": [],
   "source": [
    "from sklearn.preprocessing import OneHotEncoder\n",
    "\n",
    "# Import obesity_data.csv dataset\n",
    "obesity_df = pd.read_csv(\"../../../../Data/obesity_data.csv\")\n",
    "\n",
    "X = obesity_df.iloc[:,:16]\n",
    "y = obesity_df[['NObeyesdad']]\n",
    "\n",
    "# Encode the categorical variables\n",
    "obesity_preprocessing = OneHotEncoder(drop=\"if_binary\")\n",
    "\n",
    "X = obesity_preprocessing.fit_transform(X)"
   ]
  },
  {
   "cell_type": "code",
   "execution_count": 0,
   "metadata": {
    "application/vnd.databricks.v1+cell": {
     "cellMetadata": {},
     "inputWidgets": {},
     "nuid": "e576877e-78a2-4794-afe1-10a26e684663",
     "showTitle": false,
     "title": ""
    }
   },
   "outputs": [],
   "source": [
    "# Task: split the dataset into train and test sets\n",
    "\n",
    "..."
   ]
  },
  {
   "cell_type": "code",
   "execution_count": 0,
   "metadata": {
    "application/vnd.databricks.v1+cell": {
     "cellMetadata": {},
     "inputWidgets": {},
     "nuid": "9a62ebec-5bea-4870-a4bc-a5ccbe55ec81",
     "showTitle": false,
     "title": ""
    }
   },
   "outputs": [],
   "source": [
    "# Choose one of the best untuned model based on lazypredict results (see notebook AutoML tools: LazyPredict & PyCaret)\n",
    "# Find documentation for this model and check which hyperparameters you can tune\n",
    "\n",
    "# Define objective function\n",
    "def objective(trial):\n",
    "  ...\n",
    "# Note: use classification score function!\n",
    "\n",
    "# create a new study\n",
    "study = ...\n",
    "\n",
    "# optimize an objective function\n",
    "...\n",
    "\n",
    "# print the results\n",
    "..."
   ]
  },
  {
   "cell_type": "markdown",
   "metadata": {
    "application/vnd.databricks.v1+cell": {
     "cellMetadata": {},
     "inputWidgets": {},
     "nuid": "085648c9-b8dd-4470-9b3b-f84b5d4d1ee2",
     "showTitle": false,
     "title": ""
    }
   },
   "source": [
    "Congratulations! :) You finished the notebook about hyperparameter optimization with Optuna.\n",
    "\n",
    "This notebook has provided an introduction to the Optuna library and its significance in automating hyperparameter tuning for machine learning models. By utilizing its functionalities, we efficiently tuned the hyperparameters for a regression and classification problems.\n",
    "\n",
    "We encourage you to explore the Optuna documentation further.\n",
    "\n",
    "**Documentation:**\n",
    "\n",
    "https://optuna.readthedocs.io/en/stable/reference/index.html.\n",
    "\n",
    "Keep up the excellent work!"
   ]
  }
 ],
 "metadata": {
  "application/vnd.databricks.v1+notebook": {
   "dashboards": [],
   "language": "python",
   "notebookMetadata": {
    "pythonIndentUnit": 4
   },
   "notebookName": "3b_Hyperparameter_Optimization_Optuna_jupyter",
   "widgets": {}
  }
 },
 "nbformat": 4,
 "nbformat_minor": 0
}
