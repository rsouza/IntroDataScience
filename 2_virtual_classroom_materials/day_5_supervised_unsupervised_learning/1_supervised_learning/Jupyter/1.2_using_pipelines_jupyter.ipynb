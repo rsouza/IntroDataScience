{
 "cells": [
  {
   "cell_type": "markdown",
   "metadata": {
    "application/vnd.databricks.v1+cell": {
     "cellMetadata": {},
     "inputWidgets": {},
     "nuid": "644642dd-865d-4b99-a5e7-631ef7bde8fc",
     "showTitle": false,
     "title": ""
    }
   },
   "source": [
    "# Nice Pipeline\n",
    "\n",
    "In this notebook we present a nice example of a pipeline which we can use for training purposes. At first glance it looks messy and hard to read.  \n",
    "But if you take a moment to really understand it you will notice the beauty of it!"
   ]
  },
  {
   "cell_type": "code",
   "execution_count": 0,
   "metadata": {
    "application/vnd.databricks.v1+cell": {
     "cellMetadata": {},
     "inputWidgets": {},
     "nuid": "90dff839-d1c8-4cae-8e75-193d758e41c2",
     "showTitle": false,
     "title": ""
    }
   },
   "outputs": [],
   "source": [
    "from sklearn.pipeline import Pipeline\n",
    "from sklearn.pipeline import FeatureUnion\n",
    "from sklearn.compose import ColumnTransformer"
   ]
  },
  {
   "cell_type": "markdown",
   "metadata": {
    "application/vnd.databricks.v1+cell": {
     "cellMetadata": {},
     "inputWidgets": {},
     "nuid": "76c06df8-9bc8-4de9-9330-8463f0f671fb",
     "showTitle": false,
     "title": ""
    }
   },
   "source": [
    "We need to import some transformers which are going to be inside of the pipeline.  \n",
    "**This is not operational code, just an example of longer pipelines.**"
   ]
  },
  {
   "cell_type": "code",
   "execution_count": 0,
   "metadata": {
    "application/vnd.databricks.v1+cell": {
     "cellMetadata": {},
     "inputWidgets": {},
     "nuid": "c40302b6-46b4-4b0e-9981-f1682e6c3d28",
     "showTitle": false,
     "title": ""
    }
   },
   "outputs": [],
   "source": [
    "#Preprocessing\n",
    "from sklearn.preprocessing import OneHotEncoder\n",
    "from sklearn.feature_extraction.text import TfidfVectorizer\n",
    "\n",
    "#Dimensionality reduction\n",
    "from sklearn.decomposition import NMF\n",
    "\n",
    "#Imputation\n",
    "from sklearn.impute import SimpleImputer\n",
    "\n",
    "#Modeling\n",
    "from sklearn.ensemble import RandomForestClassifier\n",
    "\n",
    "#Other\n",
    "import numpy as np"
   ]
  },
  {
   "cell_type": "markdown",
   "metadata": {
    "application/vnd.databricks.v1+cell": {
     "cellMetadata": {},
     "inputWidgets": {},
     "nuid": "199ecf10-083c-47bd-9993-8b8972876fd4",
     "showTitle": false,
     "title": ""
    }
   },
   "source": [
    "The pipeline below will be a bit overwelming at first. Because of this we recommend the following steps to ease comprehension:\n",
    "\n",
    "## Step 1: Take a quick glance\n",
    "Please take a quick look at the pipeline below and come back here.\n",
    "\n",
    "## Step 2: Slow walkthrough\n",
    "Get a **high level view** of the pipeline:\n",
    "- Look at the top. There is a `FeatureUnion` object, which is a wrapper for the entire feature engineering process.\n",
    "- Look at the bottom. There is a `RandomForestClassifier` object, which is our predictive model.\n",
    "\n",
    "Now we can go deeper into the `FeatureUnion` object we have instantiated, which is where the **feature engineering** is happening.\n",
    "- `FeatureUntion` splits into three parts, depending on which features we are attempting to process:\n",
    "    - On top we have numerical features.\n",
    "    - In the middle we have categorical features.\n",
    "    - At the bottom we have textual features.\n",
    "- Now zoom out again and realize that this is wrapped under `FeatureUnion`, which means that **these features will be transformed in a parallel way and appended next to each other**.\n",
    "\n",
    "## Step 3: Zooming in\n",
    "Only now let's **zoom into one part of our feature engineering**, for example into `numerical_features`, on the top:\n",
    "- Inside of it, we right away use `ColumnTransformer` as we want to specify for which columns certain transformation will be applied to based on name or by type.\n",
    "- Now we can already apply the transformers. But remember that `ColumnTransformer` by default drops all untransformed columns, which would mean that if we want to apply some transformations sequentially we would not be able to.\n",
    "\n",
    "## Step 4: Indentation\n",
    "Finally, **get used to the indentation** (the whitespacing). Your code editor helps with this. Get used to this by clicking just behind the last visible character on the line where you are. For example go behing the last bracket on the line of `SimpleImputer`. Now if you hit Enter, it will land where a code should continue on the next line it you still want to stay within the element, which is a `Pipeline` object."
   ]
  },
  {
   "cell_type": "markdown",
   "metadata": {
    "application/vnd.databricks.v1+cell": {
     "cellMetadata": {},
     "inputWidgets": {},
     "nuid": "cc30ae5d-77da-406b-aabc-b9a760dd917a",
     "showTitle": false,
     "title": ""
    }
   },
   "source": [
    "Source 1: https://www.codementor.io/@bruce3557/beautiful-machine-learning-pipeline-with-scikit-learn-uiqapbxuj   \n",
    "Source 2: http://zacstewart.com/2014/08/05/pipelines-of-featureunions-of-pipelines.html"
   ]
  },
  {
   "cell_type": "code",
   "execution_count": 0,
   "metadata": {
    "application/vnd.databricks.v1+cell": {
     "cellMetadata": {},
     "inputWidgets": {},
     "nuid": "5c0f892a-2333-43b4-ba52-f163d2c83a73",
     "showTitle": false,
     "title": ""
    }
   },
   "outputs": [],
   "source": [
    "model_pipeline = Pipeline(steps=[\n",
    "    (\"features\", FeatureUnion([\n",
    "        (\"numerical_features\",\n",
    "         ColumnTransformer([\n",
    "             (\"numerical\",\n",
    "              Pipeline(steps=[(\n",
    "                  \"impute_stage\",\n",
    "                  SimpleImputer(missing_values=np.nan, strategy=\"median\")\n",
    "              )]),\n",
    "              [\"feature_1\"]\n",
    "             )\n",
    "         ])\n",
    "        ), \n",
    "        (\"categorical_features\",\n",
    "            ColumnTransformer([\n",
    "                (\"country_encoding\",\n",
    "                 Pipeline(steps=[\n",
    "                     (\"ohe\", OneHotEncoder(handle_unknown=\"ignore\")),\n",
    "                     (\"reduction\", NMF(n_components=8)),\n",
    "                 ]),\n",
    "                 [\"country\"],\n",
    "                ),\n",
    "            ])\n",
    "        ), \n",
    "        (\"text_features\",\n",
    "         ColumnTransformer([\n",
    "             (\"title_vec\",\n",
    "              Pipeline(steps=[\n",
    "                  (\"tfidf\", TfidfVectorizer()),\n",
    "                  (\"reduction\", NMF(n_components=50)),\n",
    "              ]),\n",
    "              \"title\"\n",
    "             )\n",
    "         ])\n",
    "        )\n",
    "    ])\n",
    "    ),\n",
    "    (\"classifiers\", RandomForestClassifier())\n",
    "])"
   ]
  },
  {
   "cell_type": "markdown",
   "metadata": {
    "application/vnd.databricks.v1+cell": {
     "cellMetadata": {},
     "inputWidgets": {},
     "nuid": "60898fb4-7ded-40ef-926b-3a2dd93cfb7e",
     "showTitle": false,
     "title": ""
    }
   },
   "source": [
    "Now that we have created a pipeline and know how it is structured, we can work with easily:"
   ]
  },
  {
   "cell_type": "code",
   "execution_count": 0,
   "metadata": {
    "application/vnd.databricks.v1+cell": {
     "cellMetadata": {},
     "inputWidgets": {},
     "nuid": "587c462e-e751-43e7-b2b2-16a154530adf",
     "showTitle": false,
     "title": ""
    }
   },
   "outputs": [],
   "source": [
    "model_pipeline.fit(train_data, train_labels.values)\n",
    "predictions = model_pipeline.predict(predict_data)"
   ]
  },
  {
   "cell_type": "markdown",
   "metadata": {
    "application/vnd.databricks.v1+cell": {
     "cellMetadata": {},
     "inputWidgets": {},
     "nuid": "7f660c4e-3c8f-4d83-9ef8-b2a50568158d",
     "showTitle": false,
     "title": ""
    }
   },
   "source": [
    "# 3. How to write that?\n",
    "Alright, we are now slightly more comfortable with understanding how pipelines work. But how do we write them ourselves?   \n",
    "The answer is: **from the outside inwards**. \n",
    "\n",
    "Let's walk through an example. Of course you can write things differently.    \n",
    "At first, lay out a simple structure which separates your feature engineering (inside of `FeatureUnion`) and your predictive model:"
   ]
  },
  {
   "cell_type": "code",
   "execution_count": 0,
   "metadata": {
    "application/vnd.databricks.v1+cell": {
     "cellMetadata": {},
     "inputWidgets": {},
     "nuid": "becb48de-22ce-4966-817c-6470cc6b8ffb",
     "showTitle": false,
     "title": ""
    }
   },
   "outputs": [],
   "source": [
    "# model_pipeline = Pipeline(steps=[\n",
    "#     (\"features\", FeatureUnion([#all feature engineering goes here])),\n",
    "#     (\"classifiers\", RandomForestClassifier())\n",
    "# ])"
   ]
  },
  {
   "cell_type": "markdown",
   "metadata": {
    "application/vnd.databricks.v1+cell": {
     "cellMetadata": {},
     "inputWidgets": {},
     "nuid": "468800fb-c1c8-49e7-b724-23fcd88b51dc",
     "showTitle": false,
     "title": ""
    }
   },
   "source": [
    "Secondly, depending on your features, split the feature engineering into various parts:"
   ]
  },
  {
   "cell_type": "code",
   "execution_count": 0,
   "metadata": {
    "application/vnd.databricks.v1+cell": {
     "cellMetadata": {},
     "inputWidgets": {},
     "nuid": "339023b1-0cfa-41ab-aa78-a8e71f9674d4",
     "showTitle": false,
     "title": ""
    }
   },
   "outputs": [],
   "source": [
    "model_pipeline = Pipeline(steps=[\n",
    "    (\"features\", FeatureUnion([(\"numerical_features\", #numerical transformations), \n",
    "                               (\"categorical_features\", #categorical transformations), \n",
    "                               (\"text_features\", #textual transformations)\n",
    "                              ])\n",
    "    ),\n",
    "    (\"classifiers\", RandomForestClassifier())\n",
    "])"
   ]
  },
  {
   "cell_type": "markdown",
   "metadata": {
    "application/vnd.databricks.v1+cell": {
     "cellMetadata": {},
     "inputWidgets": {},
     "nuid": "c2f25016-39d9-496c-8c89-4603676bc3f9",
     "showTitle": false,
     "title": ""
    }
   },
   "source": [
    "Now you want to insert a `ColumnTransformer` as the transformations will be applied only to specific columns."
   ]
  },
  {
   "cell_type": "code",
   "execution_count": 0,
   "metadata": {
    "application/vnd.databricks.v1+cell": {
     "cellMetadata": {},
     "inputWidgets": {},
     "nuid": "d16edcfb-f2a8-47af-bae4-ce3291b724f4",
     "showTitle": false,
     "title": ""
    }
   },
   "outputs": [],
   "source": [
    "model_pipeline = Pipeline(steps=[\n",
    "    (\"features\", FeatureUnion([(\"numerical_features\", ColumnTransformer([#numerical transformations])),\n",
    "                               (\"categorical_features\", ColumnTransformer([#categorical transformations])),\n",
    "                               (\"text_features\", ColumnTransformer([#textual transformations]))\n",
    "                              ])\n",
    "    ),\n",
    "    (\"classifiers\", RandomForestClassifier())\n",
    "])"
   ]
  },
  {
   "cell_type": "markdown",
   "metadata": {
    "application/vnd.databricks.v1+cell": {
     "cellMetadata": {},
     "inputWidgets": {},
     "nuid": "0ecbbc1d-74aa-4a32-8afa-f5ce8eee8be1",
     "showTitle": false,
     "title": ""
    }
   },
   "source": [
    "You can put a `Pipeline` inside of the feature engineering, for example, in case you have transformers which need to be applied sequentially (such as numeric scaling and feature selection).  \n",
    "\n",
    "At this point you can start inserting your individual transformations from before into the pipeline."
   ]
  },
  {
   "cell_type": "markdown",
   "metadata": {
    "application/vnd.databricks.v1+cell": {
     "cellMetadata": {},
     "inputWidgets": {},
     "nuid": "b99fe2d7-f1db-493f-8730-cb70dcc9bd30",
     "showTitle": false,
     "title": ""
    }
   },
   "source": [
    "# 4. Reflect\n",
    "Continue with this point only once you went through the pipeline above.  \n",
    "\n",
    "Usually we think that nicely written code costs significantly more effort than code scraped together in whichever way. Now that we went through the composite estimators properly, you know that it might be even simpler in many cases, not to mention more robust.  \n",
    "\n",
    "At this point, you are hopefully able to tell apart two things:  \n",
    "- Data preprocessing and wrangling.\n",
    "- Data preparation for ML (Feature Engineering)  \n",
    "\n",
    "Always try to separate these things in your use case (code). That is why we present these topics separatedely. It will be of tremendous help in the long run to write code in this way."
   ]
  },
  {
   "cell_type": "markdown",
   "metadata": {
    "application/vnd.databricks.v1+cell": {
     "cellMetadata": {},
     "inputWidgets": {},
     "nuid": "81c25814-bf0f-4a33-b211-cfc75bab0cb7",
     "showTitle": false,
     "title": ""
    }
   },
   "source": [
    "# 5. Working Example  \n",
    "[Source](https://scikit-learn.org/stable/auto_examples/compose/plot_column_transformer_mixed_types.html)"
   ]
  },
  {
   "cell_type": "code",
   "execution_count": 0,
   "metadata": {
    "application/vnd.databricks.v1+cell": {
     "cellMetadata": {},
     "inputWidgets": {},
     "nuid": "b52832f1-a8ee-4405-ae34-7a87420992a8",
     "showTitle": false,
     "title": ""
    }
   },
   "outputs": [],
   "source": [
    "import numpy as np\n",
    "import pandas as pd\n",
    "from sklearn.compose import ColumnTransformer\n",
    "from sklearn.datasets import fetch_openml\n",
    "from sklearn.pipeline import Pipeline\n",
    "from sklearn.impute import SimpleImputer\n",
    "from sklearn.preprocessing import StandardScaler, OneHotEncoder\n",
    "from sklearn.linear_model import LogisticRegression\n",
    "from sklearn.model_selection import train_test_split, GridSearchCV"
   ]
  },
  {
   "cell_type": "code",
   "execution_count": 0,
   "metadata": {
    "application/vnd.databricks.v1+cell": {
     "cellMetadata": {},
     "inputWidgets": {},
     "nuid": "7a6d67d0-496a-45e6-ad4e-3df53ee9dbd2",
     "showTitle": false,
     "title": ""
    }
   },
   "outputs": [],
   "source": [
    "train = pd.read_csv(\"../../Data/data_titanic/train.csv\")\n",
    "train.head()"
   ]
  },
  {
   "cell_type": "markdown",
   "metadata": {
    "application/vnd.databricks.v1+cell": {
     "cellMetadata": {},
     "inputWidgets": {},
     "nuid": "7ca4bb33-171c-4790-81f8-0503c693f703",
     "showTitle": false,
     "title": ""
    }
   },
   "source": [
    "We will use ``ColumnTransformer`` where we select the columns by their names.   \n",
    "We will then train our classifier with the following features:\n",
    "\n",
    "**Numeric Features**\n",
    "\n",
    "* 'Age': float;\n",
    "* 'Fare': float.\n",
    "\n",
    "**Categorical Features**\n",
    "\n",
    "* 'Embarked': categories encoded as strings: ``{'C', 'S', 'Q'}``;\n",
    "* 'Sex': categories encoded as strings: ``{'female', 'male'}``;\n",
    "* 'Pclass': ordinal integers: ``{1, 2, 3}``.\n",
    "\n",
    "We first create the preprocessing pipelines for both numeric and categorical data.\n",
    "Note that 'Pclass' could either be treated as a categorical or a numeric\n",
    "feature."
   ]
  },
  {
   "cell_type": "code",
   "execution_count": 0,
   "metadata": {
    "application/vnd.databricks.v1+cell": {
     "cellMetadata": {},
     "inputWidgets": {},
     "nuid": "6bab8e0e-504e-4d02-9bbc-073c7a15f9c2",
     "showTitle": false,
     "title": ""
    }
   },
   "outputs": [],
   "source": [
    "X = train.drop('Survived', axis=1)\n",
    "y = train['Survived']"
   ]
  },
  {
   "cell_type": "code",
   "execution_count": 0,
   "metadata": {
    "application/vnd.databricks.v1+cell": {
     "cellMetadata": {},
     "inputWidgets": {},
     "nuid": "e20f9107-41d1-4e58-8fef-e62de734402e",
     "showTitle": false,
     "title": ""
    }
   },
   "outputs": [],
   "source": [
    "numeric_features = [\"Age\", \"Fare\"]\n",
    "numeric_transformer = Pipeline(steps=[(\"imputer\", SimpleImputer(strategy=\"median\")), \n",
    "                                      (\"scaler\", StandardScaler())]\n",
    "                              )\n",
    "\n",
    "categorical_features = [\"Embarked\", \"Sex\", \"Pclass\"]\n",
    "categorical_transformer = OneHotEncoder(handle_unknown=\"ignore\")\n",
    "\n",
    "preprocessor = ColumnTransformer(transformers=[(\"num\", numeric_transformer, numeric_features),\n",
    "                                               (\"cat\", categorical_transformer, categorical_features),\n",
    "                                              ]\n",
    "                                )"
   ]
  },
  {
   "cell_type": "markdown",
   "metadata": {
    "application/vnd.databricks.v1+cell": {
     "cellMetadata": {},
     "inputWidgets": {},
     "nuid": "6070ef72-9bc1-428b-b870-c0733736cccb",
     "showTitle": false,
     "title": ""
    }
   },
   "source": [
    "Append a classifier, in this case a logistic regression, to preprocessing pipeline to arrive at a full prediction pipeline."
   ]
  },
  {
   "cell_type": "code",
   "execution_count": 0,
   "metadata": {
    "application/vnd.databricks.v1+cell": {
     "cellMetadata": {},
     "inputWidgets": {},
     "nuid": "3c402a63-57ff-4c0f-a340-27b939c53ef5",
     "showTitle": false,
     "title": ""
    }
   },
   "outputs": [],
   "source": [
    "clf = Pipeline(steps=[(\"preprocessor\", preprocessor), \n",
    "                      (\"classifier\", LogisticRegression())])\n",
    "\n",
    "X_train, X_test, y_train, y_test = train_test_split(X, y, test_size=0.2, random_state=0)\n",
    "clf.fit(X_train, y_train)\n",
    "\n",
    "print(\"model score: %.3f\" % clf.score(X_test, y_test))"
   ]
  },
  {
   "cell_type": "code",
   "execution_count": 0,
   "metadata": {
    "application/vnd.databricks.v1+cell": {
     "cellMetadata": {},
     "inputWidgets": {},
     "nuid": "56a7fa39-120a-4ea9-97e3-67f1250210fe",
     "showTitle": false,
     "title": ""
    }
   },
   "outputs": [],
   "source": [
    "clf"
   ]
  },
  {
   "cell_type": "markdown",
   "metadata": {
    "application/vnd.databricks.v1+cell": {
     "cellMetadata": {},
     "inputWidgets": {},
     "nuid": "5d36b06b-e95b-4c8f-b642-3a6a89c4e301",
     "showTitle": false,
     "title": ""
    }
   },
   "source": [
    "**We can also select columns by data types when using `ColumnTransformer`.**   \n",
    "When dealing with a cleaned dataset, the preprocessing can be automatic by\n",
    "using the data types of the column to decide whether to treat a column as a numerical or categorical feature.\n",
    "\n",
    "The function `sklearn.compose.make_column_selector` gives this possibility.\n",
    "\n",
    "In practice, you will have to handle the column data type yourself.\n",
    "If you want some columns to be considered as `category`, you will have to convert them into categorical columns. If you are using pandas, you can refer to their documentation regarding [Categorical data](https://pandas.pydata.org/pandas-docs/stable/user_guide/categorical.html).</p>\n",
    "\n",
    "\n",
    "+ First, we will transform the object columns into categorical.  \n",
    "+ Then we will only select a subset of columns to simplify our example."
   ]
  },
  {
   "cell_type": "code",
   "execution_count": 0,
   "metadata": {
    "application/vnd.databricks.v1+cell": {
     "cellMetadata": {},
     "inputWidgets": {},
     "nuid": "145d4c28-d27c-4657-8b8f-94c8b38c5fa2",
     "showTitle": false,
     "title": ""
    }
   },
   "outputs": [],
   "source": [
    "X[\"Embarked\"] = X[\"Embarked\"].astype(\"category\")\n",
    "X[\"Sex\"] = X[\"Sex\"].astype(\"category\")"
   ]
  },
  {
   "cell_type": "code",
   "execution_count": 0,
   "metadata": {
    "application/vnd.databricks.v1+cell": {
     "cellMetadata": {},
     "inputWidgets": {},
     "nuid": "871d07cc-c398-487e-921d-118e02e2277f",
     "showTitle": false,
     "title": ""
    }
   },
   "outputs": [],
   "source": [
    "X_train, X_test, y_train, y_test = train_test_split(X, y, test_size=0.2, random_state=0)\n",
    "subset_feature = [\"Embarked\", \"Sex\", \"Pclass\", \"Age\", \"Fare\"]\n",
    "X_train, X_test = X_train[subset_feature], X_test[subset_feature]"
   ]
  },
  {
   "cell_type": "code",
   "execution_count": 0,
   "metadata": {
    "application/vnd.databricks.v1+cell": {
     "cellMetadata": {},
     "inputWidgets": {},
     "nuid": "56c95de5-1342-4078-886a-3445d6427e36",
     "showTitle": false,
     "title": ""
    }
   },
   "outputs": [],
   "source": [
    "X_train.info()"
   ]
  },
  {
   "cell_type": "markdown",
   "metadata": {
    "application/vnd.databricks.v1+cell": {
     "cellMetadata": {},
     "inputWidgets": {},
     "nuid": "6ab04c03-eb3b-4a0c-904a-647da0791b74",
     "showTitle": false,
     "title": ""
    }
   },
   "source": [
    "We can observe that the 'Embarked' and 'Sex' columns were tagged as `category` columns.  \n",
    "Therefore, we can use this information to dispatch the categorical columns to the ``categorical_transformer`` and the remaining columns to the ``numerical_transformer``."
   ]
  },
  {
   "cell_type": "code",
   "execution_count": 0,
   "metadata": {
    "application/vnd.databricks.v1+cell": {
     "cellMetadata": {},
     "inputWidgets": {},
     "nuid": "444a90de-f2db-4f88-86b8-3956e14d9a10",
     "showTitle": false,
     "title": ""
    }
   },
   "outputs": [],
   "source": [
    "from sklearn.compose import make_column_selector as selector\n",
    "\n",
    "preprocessor = ColumnTransformer(\n",
    "    transformers=[\n",
    "        (\"num\", numeric_transformer, selector(dtype_exclude=\"category\")),\n",
    "        (\"cat\", categorical_transformer, selector(dtype_include=\"category\")),\n",
    "    ]\n",
    ")\n",
    "clf = Pipeline(\n",
    "    steps=[(\"preprocessor\", preprocessor), (\"classifier\", LogisticRegression())]\n",
    ")\n",
    "\n",
    "\n",
    "clf.fit(X_train, y_train)\n",
    "print(\"model score: %.3f\" % clf.score(X_test, y_test))\n",
    "clf"
   ]
  },
  {
   "cell_type": "markdown",
   "metadata": {
    "application/vnd.databricks.v1+cell": {
     "cellMetadata": {},
     "inputWidgets": {},
     "nuid": "6cc176d6-9b93-4776-95b2-36a914a64786",
     "showTitle": false,
     "title": ""
    }
   },
   "source": [
    "The resulting score is not exactly the same as the one from the previous pipeline because the dtype-based selector treats the 'Pclass' column as a numeric feature instead of a categorical feature:"
   ]
  },
  {
   "cell_type": "code",
   "execution_count": 0,
   "metadata": {
    "application/vnd.databricks.v1+cell": {
     "cellMetadata": {},
     "inputWidgets": {},
     "nuid": "26aa1ed5-0f2c-46ff-ab49-7d062785d61d",
     "showTitle": false,
     "title": ""
    }
   },
   "outputs": [],
   "source": [
    "selector(dtype_exclude=\"category\")(X_train)"
   ]
  },
  {
   "cell_type": "code",
   "execution_count": 0,
   "metadata": {
    "application/vnd.databricks.v1+cell": {
     "cellMetadata": {},
     "inputWidgets": {},
     "nuid": "95ee7fc5-d4b5-4f4e-8f75-205db6391e7a",
     "showTitle": false,
     "title": ""
    }
   },
   "outputs": [],
   "source": [
    "selector(dtype_include=\"category\")(X_train)"
   ]
  },
  {
   "cell_type": "markdown",
   "metadata": {
    "application/vnd.databricks.v1+cell": {
     "cellMetadata": {},
     "inputWidgets": {},
     "nuid": "b668f9b3-0e35-4a41-8d66-a17f623abcb3",
     "showTitle": false,
     "title": ""
    }
   },
   "source": [
    "**Using the prediction pipeline in a grid search**   \n",
    "\n",
    "A grid search can also be performed on the different preprocessing steps which make up the ``ColumnTransformer`` object. So you can optimize the classifier's hyperparameters as part of the pipeline.  \n",
    "We will search for both the imputer strategy of the numeric preprocessing and the regularization parameter of the logistic regression using\n",
    "`sklearn.model_selection.GridSearchCV`."
   ]
  },
  {
   "cell_type": "code",
   "execution_count": 0,
   "metadata": {
    "application/vnd.databricks.v1+cell": {
     "cellMetadata": {},
     "inputWidgets": {},
     "nuid": "d5fea82a-a5bd-46d2-8b50-a90035588de8",
     "showTitle": false,
     "title": ""
    }
   },
   "outputs": [],
   "source": [
    "param_grid = {\"preprocessor__num__imputer__strategy\": [\"mean\", \"median\"],\n",
    "              \"classifier__C\": [0.1, 1.0, 10, 100],\n",
    "             }\n",
    "\n",
    "grid_search = GridSearchCV(clf, param_grid, cv=10)\n",
    "grid_search"
   ]
  },
  {
   "cell_type": "markdown",
   "metadata": {
    "application/vnd.databricks.v1+cell": {
     "cellMetadata": {},
     "inputWidgets": {},
     "nuid": "fb6ae918-533a-4669-bb00-1d4f5d93007f",
     "showTitle": false,
     "title": ""
    }
   },
   "source": [
    "Calling `fit` triggers the cross-validated search for the best hyper-parameters combination:"
   ]
  },
  {
   "cell_type": "code",
   "execution_count": 0,
   "metadata": {
    "application/vnd.databricks.v1+cell": {
     "cellMetadata": {},
     "inputWidgets": {},
     "nuid": "c1bcc72e-b4e7-48ec-9eef-7ef8b2eb3b6c",
     "showTitle": false,
     "title": ""
    }
   },
   "outputs": [],
   "source": [
    "grid_search.fit(X_train, y_train)\n",
    "\n",
    "print(\"Best params:\")\n",
    "print(grid_search.best_params_)"
   ]
  },
  {
   "cell_type": "markdown",
   "metadata": {
    "application/vnd.databricks.v1+cell": {
     "cellMetadata": {},
     "inputWidgets": {},
     "nuid": "a169b774-6ace-4848-9f81-bceb5a2b80b0",
     "showTitle": false,
     "title": ""
    }
   },
   "source": [
    "The internal cross-validation score obtained by those parameters is:"
   ]
  },
  {
   "cell_type": "code",
   "execution_count": 0,
   "metadata": {
    "application/vnd.databricks.v1+cell": {
     "cellMetadata": {},
     "inputWidgets": {},
     "nuid": "f44b0481-ae60-437a-8cdf-8d979d3e26ec",
     "showTitle": false,
     "title": ""
    }
   },
   "outputs": [],
   "source": [
    "print(f\"Internal CV score: {grid_search.best_score_:.3f}\")"
   ]
  },
  {
   "cell_type": "markdown",
   "metadata": {
    "application/vnd.databricks.v1+cell": {
     "cellMetadata": {},
     "inputWidgets": {},
     "nuid": "e7645e79-02c2-404c-a246-1da049dfb60a",
     "showTitle": false,
     "title": ""
    }
   },
   "source": [
    "We can also extract the top grid search results as a pandas dataframe:"
   ]
  },
  {
   "cell_type": "code",
   "execution_count": 0,
   "metadata": {
    "application/vnd.databricks.v1+cell": {
     "cellMetadata": {},
     "inputWidgets": {},
     "nuid": "835e79cb-e415-4f62-a182-c0610131d665",
     "showTitle": false,
     "title": ""
    }
   },
   "outputs": [],
   "source": [
    "cv_results = pd.DataFrame(grid_search.cv_results_)\n",
    "cv_results = cv_results.sort_values(\"mean_test_score\", ascending=False)\n",
    "cv_results[[\"mean_test_score\",\n",
    "            \"std_test_score\",\n",
    "            \"param_preprocessor__num__imputer__strategy\",\n",
    "            \"param_classifier__C\",\n",
    "           ]].head(5)"
   ]
  },
  {
   "cell_type": "markdown",
   "metadata": {
    "application/vnd.databricks.v1+cell": {
     "cellMetadata": {},
     "inputWidgets": {},
     "nuid": "499f2019-0eab-48fe-b4f7-f7b2ee0c56c5",
     "showTitle": false,
     "title": ""
    }
   },
   "source": [
    "The best hyper-parameters have to be used to re-fit the final model on the full training set.  \n",
    "We can evaluate that final model on held out test data that was not used for hyperparameter tuning."
   ]
  },
  {
   "cell_type": "code",
   "execution_count": 0,
   "metadata": {
    "application/vnd.databricks.v1+cell": {
     "cellMetadata": {},
     "inputWidgets": {},
     "nuid": "7933c1fc-2d79-472a-b21f-76c5d20cf4a6",
     "showTitle": false,
     "title": ""
    }
   },
   "outputs": [],
   "source": [
    "print(f\"best logistic regression from grid search: {grid_search.score(X_test, y_test):.3f}\")"
   ]
  }
 ],
 "metadata": {
  "application/vnd.databricks.v1+notebook": {
   "dashboards": [],
   "language": "python",
   "notebookMetadata": {
    "pythonIndentUnit": 2
   },
   "notebookName": "1.2_using_pipelines_jupyter",
   "widgets": {}
  },
  "language_info": {
   "name": "python"
  }
 },
 "nbformat": 4,
 "nbformat_minor": 0
}
