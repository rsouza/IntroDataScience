{
 "cells": [
  {
   "cell_type": "markdown",
   "metadata": {
    "application/vnd.databricks.v1+cell": {
     "cellMetadata": {
      "byteLimit": 2048000,
      "rowLimit": 10000
     },
     "inputWidgets": {},
     "nuid": "8e71731a-65ad-4d4d-afdc-174049daed79",
     "showTitle": false,
     "title": ""
    },
    "id": "feQCPxrbtKvH"
   },
   "source": [
    "# AutoML tools: Hyperparameter Optimization with Optuna"
   ]
  },
  {
   "cell_type": "markdown",
   "metadata": {
    "application/vnd.databricks.v1+cell": {
     "cellMetadata": {
      "byteLimit": 2048000,
      "rowLimit": 10000
     },
     "inputWidgets": {},
     "nuid": "5c3d41f2-dbd6-44fe-8ca0-09fa67b434bf",
     "showTitle": false,
     "title": ""
    },
    "id": "7tpgN5s7tKvK"
   },
   "source": [
    "In this notebook we will be using Optuna for **hyperparameter optimization** in machine learning. Hyperparameter optimization is a critical step in improving the performance of machine learning models. Optuna provides an efficient and automated way to search for the best hyperparameters.\n",
    "\n",
    "Before we dive into the specifics of Optuna, let's take a moment to understand what **hyperparameters** are. Hyperparameters are the parameters of a machine learning model that are **not learned** from the data during training. They are **set prior** to training and can have a significant influence on a model's performance and generalization ability. Examples of hyperparameters include the learning rate of an optimizer, the number of hidden layers in a neural network, and the regularization strength in a regression model.\n",
    "\n",
    "Selecting appropriate hyperparameters is a crucial aspect of developing effective machine learning models. Poorly chosen hyperparameters can lead to bad performance, including overfitting or underfitting."
   ]
  },
  {
   "cell_type": "markdown",
   "metadata": {
    "application/vnd.databricks.v1+cell": {
     "cellMetadata": {
      "byteLimit": 2048000,
      "rowLimit": 10000
     },
     "inputWidgets": {},
     "nuid": "c73833b6-e821-4928-95e3-a0fcf9c54529",
     "showTitle": false,
     "title": ""
    },
    "id": "AQUEqBPLtKvK"
   },
   "source": [
    "Let's explore Optuna in greater detail to better understand its features and functionalities."
   ]
  },
  {
   "cell_type": "code",
   "execution_count": 0,
   "metadata": {
    "application/vnd.databricks.v1+cell": {
     "cellMetadata": {
      "byteLimit": 2048000,
      "rowLimit": 10000
     },
     "inputWidgets": {},
     "nuid": "e54d125b-6c1e-424d-a45c-5e57cc63e228",
     "showTitle": false,
     "title": ""
    },
    "colab": {
     "base_uri": "https://localhost:8080/"
    },
    "id": "_5goLuoItKvL",
    "outputId": "1dab20ca-8cd3-4999-ee5b-cf16eb6ddb98"
   },
   "outputs": [
    {
     "output_type": "stream",
     "name": "stdout",
     "output_type": "stream",
     "text": [
      "Python interpreter will be restarted.\nPython interpreter will be restarted.\n"
     ]
    }
   ],
   "source": [
    "pip install -q optuna"
   ]
  },
  {
   "cell_type": "code",
   "execution_count": 0,
   "metadata": {
    "application/vnd.databricks.v1+cell": {
     "cellMetadata": {
      "byteLimit": 2048000,
      "rowLimit": 10000
     },
     "inputWidgets": {},
     "nuid": "6b1afee7-f744-4d56-b8a4-ca97b6052895",
     "showTitle": false,
     "title": ""
    },
    "id": "RhwQ_Dt_tKvM"
   },
   "outputs": [
    {
     "output_type": "display_data",
     "data": {
      "application/vnd.databricks.v1+bamboolib_hint": "{\"pd.DataFrames\": [], \"version\": \"0.0.1\"}",
      "text/plain": []
     },
     "metadata": {},
     "output_type": "display_data"
    }
   ],
   "source": [
    "import pandas as pd\n",
    "from sklearn.model_selection import train_test_split\n",
    "import optuna"
   ]
  },
  {
   "cell_type": "code",
   "execution_count": 0,
   "metadata": {
    "application/vnd.databricks.v1+cell": {
     "cellMetadata": {
      "byteLimit": 2048000,
      "rowLimit": 10000
     },
     "inputWidgets": {},
     "nuid": "29f99825-995e-4e37-afd1-cfa0b0d8bca5",
     "showTitle": false,
     "title": ""
    },
    "id": "ndFylVf9tKvN"
   },
   "outputs": [],
   "source": [
    "data = pd.read_csv('../../Data/Boston.csv')\n",
    "\n",
    "X = data.iloc[:, 1:14]\n",
    "y = data.iloc[:, -1]\n",
    "X_train, X_test, y_train, y_test = train_test_split(X, y, test_size = 0.2, random_state = 0)"
   ]
  },
  {
   "cell_type": "markdown",
   "metadata": {
    "application/vnd.databricks.v1+cell": {
     "cellMetadata": {
      "byteLimit": 2048000,
      "rowLimit": 10000
     },
     "inputWidgets": {},
     "nuid": "32b24294-96fd-4cc7-bc94-39cd2b67228b",
     "showTitle": false,
     "title": ""
    },
    "id": "9BKy44zutKvN"
   },
   "source": [
    "#### Define the objective function"
   ]
  },
  {
   "cell_type": "markdown",
   "metadata": {
    "application/vnd.databricks.v1+cell": {
     "cellMetadata": {
      "byteLimit": 2048000,
      "rowLimit": 10000
     },
     "inputWidgets": {},
     "nuid": "ee351a55-8725-4f48-b7f5-34fc33e56eba",
     "showTitle": false,
     "title": ""
    },
    "id": "bbl_8rfTtKvN"
   },
   "source": [
    "As we found out before, according to LazyRegressor, the best performing model without hyperparameter tuning is GradientBoostingRegressor with **0.79 r2-score** (see notebook 'AutoML tools: LazyPredict & PyCaret'). Let's optimize this model with Optuna.\n",
    "\n",
    "We start with **defining objective function**. The objective function is a crucial component of hyperparameter optimization. It defines the metric you want to optimize (e.g., accuracy, loss). This function takes hyperparameters as input, builds and trains a model, and evaluates its performance on a validation set.\n",
    "\n",
    "Let's take a look at GradientBoostingRegressor documentation: https://scikit-learn.org/stable/modules/generated/sklearn.ensemble.GradientBoostingRegressor.html.\n",
    "\n",
    "As we can see, GradientBoostingRegressor has many parameters. Which of them should we optimize?\n",
    "\n",
    "The overall parameters can be divided into 3 categories:\n",
    "\n",
    "- **Tree-Specific Parameters** min_samples_split, min_samples_leaf, max_leaf_nodes etc.\n",
    "- **Boosting Parameters**: learning_rate, n_estimators, subsample\n",
    "- **Miscellaneous Parameters**: loss, random_state etc.\n",
    "\n",
    "We will tune only first two types of parameters. *Let's follow the general approach for parameter tuning, explained in this article: https://luminousdata.wordpress.com/2017/07/27/complete-guide-to-parameter-tuning-in-gradient-boosting-gbm-in-python/.*\n",
    "\n",
    "First, we take a default **learning rate** (0.1). Now we should determine the **optimum number of trees** (n_estimators) for this learning rate."
   ]
  },
  {
   "cell_type": "code",
   "execution_count": 0,
   "metadata": {
    "application/vnd.databricks.v1+cell": {
     "cellMetadata": {
      "byteLimit": 2048000,
      "rowLimit": 10000
     },
     "inputWidgets": {},
     "nuid": "6be2208b-919d-4b14-89ca-3f908279900e",
     "showTitle": false,
     "title": ""
    },
    "id": "8iO1GTMftKvO"
   },
   "outputs": [],
   "source": [
    "from sklearn.ensemble import GradientBoostingRegressor\n",
    "from sklearn.metrics import r2_score\n",
    "\n",
    "# Objective function\n",
    "def objective_1(trial):\n",
    "\n",
    "  # Define hyperparameters to optimize\n",
    "  # Suggest the number of trees in range [10, 300]\n",
    "  n_estimators = trial.suggest_int('n_estimators', 10, 300)\n",
    "\n",
    "  model = GradientBoostingRegressor(\n",
    "        n_estimators = n_estimators,\n",
    "        random_state = 42\n",
    "    )\n",
    "\n",
    "  # Train the model\n",
    "  model.fit(X_train, y_train)\n",
    "\n",
    "  # Make predictions on the test set\n",
    "  y_pred = model.predict(X_test)\n",
    "\n",
    "  # Calculate r2\n",
    "  r2 = r2_score(y_test, y_pred)\n",
    "  return r2"
   ]
  },
  {
   "cell_type": "markdown",
   "metadata": {
    "application/vnd.databricks.v1+cell": {
     "cellMetadata": {
      "byteLimit": 2048000,
      "rowLimit": 10000
     },
     "inputWidgets": {},
     "nuid": "f556b56c-71e9-47c2-a4cb-0d544fbcd93c",
     "showTitle": false,
     "title": ""
    },
    "id": "HdFyB00lBHqn"
   },
   "source": [
    "#### Create and run the study"
   ]
  },
  {
   "cell_type": "code",
   "execution_count": 0,
   "metadata": {
    "application/vnd.databricks.v1+cell": {
     "cellMetadata": {
      "byteLimit": 2048000,
      "rowLimit": 10000
     },
     "inputWidgets": {},
     "nuid": "4c0442cf-3d2a-4cc2-973b-775851909ea5",
     "showTitle": false,
     "title": ""
    },
    "colab": {
     "base_uri": "https://localhost:8080/"
    },
    "id": "HvluEFbwA62M",
    "outputId": "5925f212-7b32-4130-d917-dcba1201b243"
   },
   "outputs": [
    {
     "output_type": "stream",
     "name": "stderr",
     "output_type": "stream",
     "text": [
      "[I 2023-08-23 11:47:46,240] A new study created in memory with name: no-name-8fd9faec-5e27-4141-9b81-164fc11bc8d7\n[I 2023-08-23 11:48:02,022] Trial 0 finished with value: 0.8003995993911465 and parameters: {'n_estimators': 201}. Best is trial 0 with value: 0.8003995993911465.\n[I 2023-08-23 11:48:11,950] Trial 1 finished with value: 0.7950426318200838 and parameters: {'n_estimators': 109}. Best is trial 0 with value: 0.8003995993911465.\n[I 2023-08-23 11:48:20,805] Trial 2 finished with value: 0.7695193068351005 and parameters: {'n_estimators': 42}. Best is trial 0 with value: 0.8003995993911465.\n[I 2023-08-23 11:48:30,300] Trial 3 finished with value: 0.7950507406790485 and parameters: {'n_estimators': 110}. Best is trial 0 with value: 0.8003995993911465.\n[I 2023-08-23 11:48:39,814] Trial 4 finished with value: 0.7507099617049262 and parameters: {'n_estimators': 23}. Best is trial 0 with value: 0.8003995993911465.\n[I 2023-08-23 11:48:49,656] Trial 5 finished with value: 0.7488471229127329 and parameters: {'n_estimators': 21}. Best is trial 0 with value: 0.8003995993911465.\n[I 2023-08-23 11:48:59,885] Trial 6 finished with value: 0.7982961162457646 and parameters: {'n_estimators': 136}. Best is trial 0 with value: 0.8003995993911465.\n[I 2023-08-23 11:49:09,595] Trial 7 finished with value: 0.8000756810831067 and parameters: {'n_estimators': 173}. Best is trial 0 with value: 0.8003995993911465.\n[I 2023-08-23 11:49:18,675] Trial 8 finished with value: 0.7708927277743954 and parameters: {'n_estimators': 45}. Best is trial 0 with value: 0.8003995993911465.\n[I 2023-08-23 11:49:28,080] Trial 9 finished with value: 0.8008881922455585 and parameters: {'n_estimators': 189}. Best is trial 9 with value: 0.8008881922455585.\n[I 2023-08-23 11:49:38,087] Trial 10 finished with value: 0.7984197984872282 and parameters: {'n_estimators': 288}. Best is trial 9 with value: 0.8008881922455585.\n[I 2023-08-23 11:49:47,390] Trial 11 finished with value: 0.7998949605565997 and parameters: {'n_estimators': 229}. Best is trial 9 with value: 0.8008881922455585.\n[I 2023-08-23 11:49:57,154] Trial 12 finished with value: 0.7999378401217435 and parameters: {'n_estimators': 200}. Best is trial 9 with value: 0.8008881922455585.\n[I 2023-08-23 11:50:06,396] Trial 13 finished with value: 0.7996676023753966 and parameters: {'n_estimators': 244}. Best is trial 9 with value: 0.8008881922455585.\n[I 2023-08-23 11:50:15,799] Trial 14 finished with value: 0.8008813423793162 and parameters: {'n_estimators': 181}. Best is trial 9 with value: 0.8008881922455585.\n[I 2023-08-23 11:50:24,640] Trial 15 finished with value: 0.7993237353262026 and parameters: {'n_estimators': 154}. Best is trial 9 with value: 0.8008881922455585.\n[I 2023-08-23 11:50:33,724] Trial 16 finished with value: 0.7989190589913547 and parameters: {'n_estimators': 275}. Best is trial 9 with value: 0.8008881922455585.\n[I 2023-08-23 11:50:42,455] Trial 17 finished with value: 0.7886574049596836 and parameters: {'n_estimators': 88}. Best is trial 9 with value: 0.8008881922455585.\n[I 2023-08-23 11:50:51,119] Trial 18 finished with value: 0.8008881922455585 and parameters: {'n_estimators': 189}. Best is trial 9 with value: 0.8008881922455585.\n[I 2023-08-23 11:51:01,081] Trial 19 finished with value: 0.7996330769088023 and parameters: {'n_estimators': 254}. Best is trial 9 with value: 0.8008881922455585.\n[I 2023-08-23 11:51:10,300] Trial 20 finished with value: 0.7997510213761616 and parameters: {'n_estimators': 221}. Best is trial 9 with value: 0.8008881922455585.\n[I 2023-08-23 11:51:19,613] Trial 21 finished with value: 0.8007250852965162 and parameters: {'n_estimators': 179}. Best is trial 9 with value: 0.8008881922455585.\n[I 2023-08-23 11:51:28,679] Trial 22 finished with value: 0.7981851691343905 and parameters: {'n_estimators': 146}. Best is trial 9 with value: 0.8008881922455585.\n[I 2023-08-23 11:51:37,522] Trial 23 finished with value: 0.8007308975553529 and parameters: {'n_estimators': 188}. Best is trial 9 with value: 0.8008881922455585.\n[I 2023-08-23 11:51:46,619] Trial 24 finished with value: 0.7998212148741982 and parameters: {'n_estimators': 215}. Best is trial 9 with value: 0.8008881922455585.\n[I 2023-08-23 11:51:55,433] Trial 25 finished with value: 0.7994669167881188 and parameters: {'n_estimators': 162}. Best is trial 9 with value: 0.8008881922455585.\n[I 2023-08-23 11:52:04,497] Trial 26 finished with value: 0.7987892342506491 and parameters: {'n_estimators': 138}. Best is trial 9 with value: 0.8008881922455585.\n[I 2023-08-23 11:52:13,618] Trial 27 finished with value: 0.799637092956871 and parameters: {'n_estimators': 253}. Best is trial 9 with value: 0.8008881922455585.\n[I 2023-08-23 11:52:22,490] Trial 28 finished with value: 0.795383978252604 and parameters: {'n_estimators': 117}. Best is trial 9 with value: 0.8008881922455585.\n[I 2023-08-23 11:52:31,452] Trial 29 finished with value: 0.8004137937941347 and parameters: {'n_estimators': 199}. Best is trial 9 with value: 0.8008881922455585.\n[I 2023-08-23 11:52:40,277] Trial 30 finished with value: 0.7870413763537887 and parameters: {'n_estimators': 74}. Best is trial 9 with value: 0.8008881922455585.\n[I 2023-08-23 11:52:49,106] Trial 31 finished with value: 0.8007308975553529 and parameters: {'n_estimators': 188}. Best is trial 9 with value: 0.8008881922455585.\n[I 2023-08-23 11:52:58,295] Trial 32 finished with value: 0.799745589360346 and parameters: {'n_estimators': 171}. Best is trial 9 with value: 0.8008881922455585.\n[I 2023-08-23 11:53:07,720] Trial 33 finished with value: 0.800731023193587 and parameters: {'n_estimators': 209}. Best is trial 9 with value: 0.8008881922455585.\n[I 2023-08-23 11:53:17,075] Trial 34 finished with value: 0.7994948476060664 and parameters: {'n_estimators': 211}. Best is trial 9 with value: 0.8008881922455585.\n[I 2023-08-23 11:53:26,496] Trial 35 finished with value: 0.7995495906588241 and parameters: {'n_estimators': 238}. Best is trial 9 with value: 0.8008881922455585.\n[I 2023-08-23 11:53:35,465] Trial 36 finished with value: 0.7999378401217435 and parameters: {'n_estimators': 200}. Best is trial 9 with value: 0.8008881922455585.\n[I 2023-08-23 11:53:44,887] Trial 37 finished with value: 0.7999065363012117 and parameters: {'n_estimators': 263}. Best is trial 9 with value: 0.8008881922455585.\n[I 2023-08-23 11:53:53,958] Trial 38 finished with value: 0.7968978399565909 and parameters: {'n_estimators': 124}. Best is trial 9 with value: 0.8008881922455585.\n[I 2023-08-23 11:54:02,938] Trial 39 finished with value: 0.7996082093921892 and parameters: {'n_estimators': 166}. Best is trial 9 with value: 0.8008881922455585.\n[I 2023-08-23 11:54:12,691] Trial 40 finished with value: 0.8003603807917539 and parameters: {'n_estimators': 183}. Best is trial 9 with value: 0.8008881922455585.\n[I 2023-08-23 11:54:22,140] Trial 41 finished with value: 0.7995245871415002 and parameters: {'n_estimators': 227}. Best is trial 9 with value: 0.8008881922455585.\n[I 2023-08-23 11:54:32,038] Trial 42 finished with value: 0.8005967504258139 and parameters: {'n_estimators': 197}. Best is trial 9 with value: 0.8008881922455585.\n[I 2023-08-23 11:54:41,461] Trial 43 finished with value: 0.8005658224909881 and parameters: {'n_estimators': 185}. Best is trial 9 with value: 0.8008881922455585.\n[I 2023-08-23 11:54:50,289] Trial 44 finished with value: 0.7994948476060664 and parameters: {'n_estimators': 211}. Best is trial 9 with value: 0.8008881922455585.\n[I 2023-08-23 11:54:59,764] Trial 45 finished with value: 0.7997037754920853 and parameters: {'n_estimators': 157}. Best is trial 9 with value: 0.8008881922455585.\n[I 2023-08-23 11:55:09,301] Trial 46 finished with value: 0.7978866186951316 and parameters: {'n_estimators': 300}. Best is trial 9 with value: 0.8008881922455585.\n[I 2023-08-23 11:55:18,519] Trial 47 finished with value: 0.7995495906588241 and parameters: {'n_estimators': 238}. Best is trial 9 with value: 0.8008881922455585.\n[I 2023-08-23 11:55:27,566] Trial 48 finished with value: 0.800709451720801 and parameters: {'n_estimators': 191}. Best is trial 9 with value: 0.8008881922455585.\n[I 2023-08-23 11:55:36,418] Trial 49 finished with value: 0.7999403586749012 and parameters: {'n_estimators': 175}. Best is trial 9 with value: 0.8008881922455585.\n"
     ]
    },
    {
     "output_type": "stream",
     "name": "stdout",
     "output_type": "stream",
     "text": [
      "Study #1\nNumber of finished trials: 50\nBest trial:\nValue: 0.8008881922455585\nParams:\n    n_estimators: 189\n\n\n"
     ]
    }
   ],
   "source": [
    "# Create a new study (set of trials)\n",
    "study = optuna.create_study(direction='maximize')\n",
    "\n",
    "# Optimize an objective function\n",
    "study.optimize(objective_1, n_trials=50)\n",
    "\n",
    "# Print the results\n",
    "print('Study #1')\n",
    "# Attribute 'trials' returns the list of all trials\n",
    "print('Number of finished trials:', len(study.trials))\n",
    "# Attribute 'best_trial' returns the best trial in the study\n",
    "print('Best trial:')\n",
    "trial = study.best_trial\n",
    "# 'value' returns the r2-score of the best trial in the study\n",
    "print('Value:', trial.value)\n",
    "print('Params:')\n",
    "for key, value in trial.params.items():\n",
    "    print(f'    {key}: {value}')\n",
    "print(\"\\n\")"
   ]
  },
  {
   "cell_type": "markdown",
   "metadata": {
    "application/vnd.databricks.v1+cell": {
     "cellMetadata": {
      "byteLimit": 2048000,
      "rowLimit": 10000
     },
     "inputWidgets": {},
     "nuid": "c8e3686d-33a7-4264-9e35-8916808c5989",
     "showTitle": false,
     "title": ""
    },
    "id": "pOl4ncRLtKvO"
   },
   "source": [
    "Our study showed **the optimum number of trees**.\n",
    "\n",
    "Now we will use this number of trees in our model and tune tree-specific parameters. We should choose the order of tuning variables wisely, i.e. start with the ones that have a bigger effect on the outcome. For example, we need to focus on variables max_depth and min_samples_split first, as they have a strong impact.\n",
    "\n",
    "Let's tune **max_depth** and **min_samples_split**."
   ]
  },
  {
   "cell_type": "code",
   "execution_count": 0,
   "metadata": {
    "application/vnd.databricks.v1+cell": {
     "cellMetadata": {
      "byteLimit": 2048000,
      "rowLimit": 10000
     },
     "inputWidgets": {},
     "nuid": "e0481eda-79b9-4a8e-acb4-9def0856a58c",
     "showTitle": false,
     "title": ""
    },
    "colab": {
     "base_uri": "https://localhost:8080/"
    },
    "id": "YUN8FAn0tKvO",
    "outputId": "01d5d629-6034-4c75-ff39-c42fd29a1677"
   },
   "outputs": [
    {
     "output_type": "stream",
     "name": "stderr",
     "output_type": "stream",
     "text": [
      "[I 2023-08-23 11:55:36,595] A new study created in memory with name: no-name-6745870b-0f07-4a50-916b-eed85342e27b\n[I 2023-08-23 11:55:45,607] Trial 0 finished with value: 0.7304096886753353 and parameters: {'max_depth': 4, 'min_samples_split': 0.9442376261210743}. Best is trial 0 with value: 0.7304096886753353.\n[I 2023-08-23 11:55:54,443] Trial 1 finished with value: 0.831903178739239 and parameters: {'max_depth': 11, 'min_samples_split': 0.11847084474561576}. Best is trial 1 with value: 0.831903178739239.\n[I 2023-08-23 11:56:03,211] Trial 2 finished with value: 0.7267917489718398 and parameters: {'max_depth': 2, 'min_samples_split': 0.24356963878346233}. Best is trial 1 with value: 0.831903178739239.\n[I 2023-08-23 11:56:12,393] Trial 3 finished with value: 0.7016448920331522 and parameters: {'max_depth': 11, 'min_samples_split': 0.8210066605375843}. Best is trial 1 with value: 0.831903178739239.\n[I 2023-08-23 11:56:21,707] Trial 4 finished with value: 0.7297976468108636 and parameters: {'max_depth': 5, 'min_samples_split': 0.8845361196897953}. Best is trial 1 with value: 0.831903178739239.\n[I 2023-08-23 11:56:30,764] Trial 5 finished with value: 0.746116371217467 and parameters: {'max_depth': 2, 'min_samples_split': 0.15901941007662443}. Best is trial 1 with value: 0.831903178739239.\n[I 2023-08-23 11:56:39,609] Trial 6 finished with value: 0.7209006462315184 and parameters: {'max_depth': 30, 'min_samples_split': 0.7588997736268829}. Best is trial 1 with value: 0.831903178739239.\n[I 2023-08-23 11:56:48,473] Trial 7 finished with value: 0.8084275282892396 and parameters: {'max_depth': 3, 'min_samples_split': 0.1606385719458256}. Best is trial 1 with value: 0.831903178739239.\n[I 2023-08-23 11:56:58,310] Trial 8 finished with value: 0.8328890956555568 and parameters: {'max_depth': 8, 'min_samples_split': 0.27358585316905093}. Best is trial 8 with value: 0.8328890956555568.\n[I 2023-08-23 11:57:08,104] Trial 9 finished with value: 0.8182725481568727 and parameters: {'max_depth': 19, 'min_samples_split': 0.24056811399479783}. Best is trial 8 with value: 0.8328890956555568.\n[I 2023-08-23 11:57:18,017] Trial 10 finished with value: 0.8184487430329344 and parameters: {'max_depth': 7, 'min_samples_split': 0.44313341183543153}. Best is trial 8 with value: 0.8328890956555568.\n[I 2023-08-23 11:57:27,829] Trial 11 finished with value: 0.832381815159169 and parameters: {'max_depth': 10, 'min_samples_split': 0.3668791519767275}. Best is trial 8 with value: 0.8328890956555568.\n[I 2023-08-23 11:57:37,143] Trial 12 finished with value: 0.8279294270212836 and parameters: {'max_depth': 8, 'min_samples_split': 0.38722768643746197}. Best is trial 8 with value: 0.8328890956555568.\n[I 2023-08-23 11:57:46,237] Trial 13 finished with value: 0.7593804493405105 and parameters: {'max_depth': 11, 'min_samples_split': 0.5789380628865266}. Best is trial 8 with value: 0.8328890956555568.\n[I 2023-08-23 11:57:54,963] Trial 14 finished with value: 0.8336181162419196 and parameters: {'max_depth': 5, 'min_samples_split': 0.34965399414622966}. Best is trial 14 with value: 0.8336181162419196.\n[I 2023-08-23 11:58:04,395] Trial 15 finished with value: 0.805803904776135 and parameters: {'max_depth': 5, 'min_samples_split': 0.5356613239849137}. Best is trial 14 with value: 0.8336181162419196.\n[I 2023-08-23 11:58:13,623] Trial 16 finished with value: 0.8301837734488929 and parameters: {'max_depth': 3, 'min_samples_split': 0.29818322577930095}. Best is trial 14 with value: 0.8336181162419196.\n[I 2023-08-23 11:58:23,082] Trial 17 finished with value: 0.8318298418689306 and parameters: {'max_depth': 6, 'min_samples_split': 0.4793136323657515}. Best is trial 14 with value: 0.8336181162419196.\n[I 2023-08-23 11:58:33,097] Trial 18 finished with value: 0.8316036061454294 and parameters: {'max_depth': 4, 'min_samples_split': 0.31298662896593843}. Best is trial 14 with value: 0.8336181162419196.\n[I 2023-08-23 11:58:42,720] Trial 19 finished with value: 0.7779029661577751 and parameters: {'max_depth': 8, 'min_samples_split': 0.5686000150640862}. Best is trial 14 with value: 0.8336181162419196.\n[I 2023-08-23 11:58:52,241] Trial 20 finished with value: 0.8358714610597122 and parameters: {'max_depth': 15, 'min_samples_split': 0.23346490844569223}. Best is trial 20 with value: 0.8358714610597122.\n[I 2023-08-23 11:59:02,031] Trial 21 finished with value: 0.8369179919102916 and parameters: {'max_depth': 17, 'min_samples_split': 0.23960407455892696}. Best is trial 21 with value: 0.8369179919102916.\n[I 2023-08-23 11:59:11,638] Trial 22 finished with value: 0.8301068723601757 and parameters: {'max_depth': 16, 'min_samples_split': 0.20016053539963796}. Best is trial 21 with value: 0.8369179919102916.\n[I 2023-08-23 11:59:20,842] Trial 23 finished with value: 0.8391389784829861 and parameters: {'max_depth': 17, 'min_samples_split': 0.33718801619228134}. Best is trial 23 with value: 0.8391389784829861.\n[I 2023-08-23 11:59:30,012] Trial 24 finished with value: 0.826600126582865 and parameters: {'max_depth': 18, 'min_samples_split': 0.2107828515515318}. Best is trial 23 with value: 0.8391389784829861.\n[I 2023-08-23 11:59:39,008] Trial 25 finished with value: 0.8235901179257822 and parameters: {'max_depth': 25, 'min_samples_split': 0.27869242954363943}. Best is trial 23 with value: 0.8391389784829861.\n[I 2023-08-23 11:59:47,921] Trial 26 finished with value: 0.8350555857179945 and parameters: {'max_depth': 14, 'min_samples_split': 0.14005537485790343}. Best is trial 23 with value: 0.8391389784829861.\n[I 2023-08-23 11:59:57,711] Trial 27 finished with value: 0.8367908136329849 and parameters: {'max_depth': 23, 'min_samples_split': 0.12144236823460051}. Best is trial 23 with value: 0.8391389784829861.\n[I 2023-08-23 12:00:13,895] Trial 28 finished with value: 0.8327497526460939 and parameters: {'max_depth': 26, 'min_samples_split': 0.10775132402772539}. Best is trial 23 with value: 0.8391389784829861.\n[I 2023-08-23 12:00:24,697] Trial 29 finished with value: 0.8266094807555963 and parameters: {'max_depth': 21, 'min_samples_split': 0.1875555975276005}. Best is trial 23 with value: 0.8391389784829861.\n[I 2023-08-23 12:00:35,402] Trial 30 finished with value: 0.841025295343687 and parameters: {'max_depth': 31, 'min_samples_split': 0.11793338475571913}. Best is trial 30 with value: 0.841025295343687.\n[I 2023-08-23 12:00:45,552] Trial 31 finished with value: 0.8399156997369115 and parameters: {'max_depth': 23, 'min_samples_split': 0.10443681028111106}. Best is trial 30 with value: 0.841025295343687.\n[I 2023-08-23 12:00:55,398] Trial 32 finished with value: 0.8321445441558057 and parameters: {'max_depth': 32, 'min_samples_split': 0.10468000690713421}. Best is trial 30 with value: 0.841025295343687.\n[I 2023-08-23 12:01:05,081] Trial 33 finished with value: 0.8279640808403111 and parameters: {'max_depth': 22, 'min_samples_split': 0.18680550957645442}. Best is trial 30 with value: 0.841025295343687.\n[I 2023-08-23 12:01:15,358] Trial 34 finished with value: 0.8199269125142378 and parameters: {'max_depth': 28, 'min_samples_split': 0.2325494292649708}. Best is trial 30 with value: 0.841025295343687.\n[I 2023-08-23 12:01:25,134] Trial 35 finished with value: 0.837709759994126 and parameters: {'max_depth': 31, 'min_samples_split': 0.103499779114089}. Best is trial 30 with value: 0.841025295343687.\n[I 2023-08-23 12:01:35,145] Trial 36 finished with value: 0.8219413775398118 and parameters: {'max_depth': 26, 'min_samples_split': 0.1545536588879023}. Best is trial 30 with value: 0.841025295343687.\n[I 2023-08-23 12:01:45,354] Trial 37 finished with value: 0.8308056792586725 and parameters: {'max_depth': 32, 'min_samples_split': 0.1578234253963655}. Best is trial 30 with value: 0.841025295343687.\n[I 2023-08-23 12:01:55,769] Trial 38 finished with value: 0.8295524514848073 and parameters: {'max_depth': 21, 'min_samples_split': 0.10750787223579544}. Best is trial 30 with value: 0.841025295343687.\n[I 2023-08-23 12:02:05,691] Trial 39 finished with value: 0.8309778460247224 and parameters: {'max_depth': 28, 'min_samples_split': 0.18365140202268215}. Best is trial 30 with value: 0.841025295343687.\n[I 2023-08-23 12:02:15,654] Trial 40 finished with value: 0.8275656446715606 and parameters: {'max_depth': 32, 'min_samples_split': 0.2789749608665868}. Best is trial 30 with value: 0.841025295343687.\n[I 2023-08-23 12:02:25,171] Trial 41 finished with value: 0.839642412395624 and parameters: {'max_depth': 18, 'min_samples_split': 0.10388267419930874}. Best is trial 30 with value: 0.841025295343687.\n[I 2023-08-23 12:02:34,659] Trial 42 finished with value: 0.8272609302069683 and parameters: {'max_depth': 24, 'min_samples_split': 0.14849351751405157}. Best is trial 30 with value: 0.841025295343687.\n[I 2023-08-23 12:02:44,868] Trial 43 finished with value: 0.8368015912142898 and parameters: {'max_depth': 19, 'min_samples_split': 0.1005846461459086}. Best is trial 30 with value: 0.841025295343687.\n[I 2023-08-23 12:02:54,320] Trial 44 finished with value: 0.8307407751343793 and parameters: {'max_depth': 28, 'min_samples_split': 0.19140085697990117}. Best is trial 30 with value: 0.841025295343687.\n[I 2023-08-23 12:03:05,421] Trial 45 finished with value: 0.8249386556647481 and parameters: {'max_depth': 13, 'min_samples_split': 0.1451726746903088}. Best is trial 30 with value: 0.841025295343687.\n[I 2023-08-23 12:03:14,600] Trial 46 finished with value: 0.8389482767719496 and parameters: {'max_depth': 20, 'min_samples_split': 0.24816266281875643}. Best is trial 30 with value: 0.841025295343687.\n[I 2023-08-23 12:03:23,811] Trial 47 finished with value: 0.8110712370245711 and parameters: {'max_depth': 20, 'min_samples_split': 0.2591521980969552}. Best is trial 30 with value: 0.841025295343687.\n[I 2023-08-23 12:03:33,363] Trial 48 finished with value: 0.8287514111770824 and parameters: {'max_depth': 17, 'min_samples_split': 0.21863096147304648}. Best is trial 30 with value: 0.841025295343687.\n[I 2023-08-23 12:03:42,518] Trial 49 finished with value: 0.8324696351966019 and parameters: {'max_depth': 13, 'min_samples_split': 0.31942232288885963}. Best is trial 30 with value: 0.841025295343687.\n[I 2023-08-23 12:03:51,461] Trial 50 finished with value: 0.8274785358647194 and parameters: {'max_depth': 23, 'min_samples_split': 0.1720705776645707}. Best is trial 30 with value: 0.841025295343687.\n[I 2023-08-23 12:04:01,308] Trial 51 finished with value: 0.838875196164872 and parameters: {'max_depth': 19, 'min_samples_split': 0.13204684520425616}. Best is trial 30 with value: 0.841025295343687.\n[I 2023-08-23 12:04:11,334] Trial 52 finished with value: 0.8163606226578054 and parameters: {'max_depth': 19, 'min_samples_split': 0.14226370843347502}. Best is trial 30 with value: 0.841025295343687.\n[I 2023-08-23 12:04:20,501] Trial 53 finished with value: 0.8223361311020522 and parameters: {'max_depth': 16, 'min_samples_split': 0.21913436263859964}. Best is trial 30 with value: 0.841025295343687.\n[I 2023-08-23 12:04:29,512] Trial 54 finished with value: 0.8372823100170823 and parameters: {'max_depth': 21, 'min_samples_split': 0.2498776892545802}. Best is trial 30 with value: 0.841025295343687.\n[I 2023-08-23 12:04:38,307] Trial 55 finished with value: 0.82106576679873 and parameters: {'max_depth': 25, 'min_samples_split': 0.16839671568713105}. Best is trial 30 with value: 0.841025295343687.\n[I 2023-08-23 12:04:47,288] Trial 56 finished with value: 0.8285847886418573 and parameters: {'max_depth': 19, 'min_samples_split': 0.1372902073923701}. Best is trial 30 with value: 0.841025295343687.\n[I 2023-08-23 12:04:56,336] Trial 57 finished with value: 0.8230108390119091 and parameters: {'max_depth': 14, 'min_samples_split': 0.20551841655467928}. Best is trial 30 with value: 0.841025295343687.\n[I 2023-08-23 12:05:06,014] Trial 58 finished with value: 0.8332274387569935 and parameters: {'max_depth': 18, 'min_samples_split': 0.32682771111726105}. Best is trial 30 with value: 0.841025295343687.\n[I 2023-08-23 12:05:16,014] Trial 59 finished with value: 0.8294314057055505 and parameters: {'max_depth': 23, 'min_samples_split': 0.39360206512722706}. Best is trial 30 with value: 0.841025295343687.\n[I 2023-08-23 12:05:24,829] Trial 60 finished with value: 0.8215205041743724 and parameters: {'max_depth': 12, 'min_samples_split': 0.27904504132641206}. Best is trial 30 with value: 0.841025295343687.\n[I 2023-08-23 12:05:34,675] Trial 61 finished with value: 0.8257674236730627 and parameters: {'max_depth': 29, 'min_samples_split': 0.1269188342273741}. Best is trial 30 with value: 0.841025295343687.\n[I 2023-08-23 12:05:44,317] Trial 62 finished with value: 0.831484077608438 and parameters: {'max_depth': 26, 'min_samples_split': 0.10063634240789009}. Best is trial 30 with value: 0.841025295343687.\n[I 2023-08-23 12:05:53,648] Trial 63 finished with value: 0.827195660147398 and parameters: {'max_depth': 16, 'min_samples_split': 0.16811408481081136}. Best is trial 30 with value: 0.841025295343687.\n[I 2023-08-23 12:06:10,979] Trial 64 finished with value: 0.8429037145739456 and parameters: {'max_depth': 21, 'min_samples_split': 0.13252650444515288}. Best is trial 64 with value: 0.8429037145739456.\n[I 2023-08-23 12:06:21,835] Trial 65 finished with value: 0.8065985386681158 and parameters: {'max_depth': 21, 'min_samples_split': 0.21346652310331793}. Best is trial 64 with value: 0.8429037145739456.\n[I 2023-08-23 12:06:32,041] Trial 66 finished with value: 0.8258773669062239 and parameters: {'max_depth': 15, 'min_samples_split': 0.13115892090271689}. Best is trial 64 with value: 0.8429037145739456.\n[I 2023-08-23 12:06:42,624] Trial 67 finished with value: 0.8297545223372081 and parameters: {'max_depth': 18, 'min_samples_split': 0.252231337027254}. Best is trial 64 with value: 0.8429037145739456.\n[I 2023-08-23 12:06:52,548] Trial 68 finished with value: 0.8362185793940977 and parameters: {'max_depth': 23, 'min_samples_split': 0.18670480369038733}. Best is trial 64 with value: 0.8429037145739456.\n[I 2023-08-23 12:07:03,168] Trial 69 finished with value: 0.8462853202470999 and parameters: {'max_depth': 20, 'min_samples_split': 0.1313271874690831}. Best is trial 69 with value: 0.8462853202470999.\n[I 2023-08-23 12:07:13,199] Trial 70 finished with value: 0.8297439592177029 and parameters: {'max_depth': 25, 'min_samples_split': 0.16081822343682128}. Best is trial 69 with value: 0.8462853202470999.\n[I 2023-08-23 12:07:23,382] Trial 71 finished with value: 0.8331653933689299 and parameters: {'max_depth': 20, 'min_samples_split': 0.1304793494502654}. Best is trial 69 with value: 0.8462853202470999.\n[I 2023-08-23 12:07:32,399] Trial 72 finished with value: 0.8256166589726393 and parameters: {'max_depth': 17, 'min_samples_split': 0.1286377574705584}. Best is trial 69 with value: 0.8462853202470999.\n[I 2023-08-23 12:07:41,714] Trial 73 finished with value: 0.8353162383691708 and parameters: {'max_depth': 27, 'min_samples_split': 0.20590514258046944}. Best is trial 69 with value: 0.8462853202470999.\n[I 2023-08-23 12:07:50,998] Trial 74 finished with value: 0.8121383423086552 and parameters: {'max_depth': 29, 'min_samples_split': 0.17471219873279556}. Best is trial 69 with value: 0.8462853202470999.\n[I 2023-08-23 12:08:00,331] Trial 75 finished with value: 0.8170282989306837 and parameters: {'max_depth': 23, 'min_samples_split': 0.22603326513465324}. Best is trial 69 with value: 0.8462853202470999.\n[I 2023-08-23 12:08:09,716] Trial 76 finished with value: 0.8275855446456297 and parameters: {'max_depth': 22, 'min_samples_split': 0.12057287984440808}. Best is trial 69 with value: 0.8462853202470999.\n[I 2023-08-23 12:08:19,164] Trial 77 finished with value: 0.8206294145822336 and parameters: {'max_depth': 20, 'min_samples_split': 0.15435518773340504}. Best is trial 69 with value: 0.8462853202470999.\n[I 2023-08-23 12:08:29,005] Trial 78 finished with value: 0.8339685915203646 and parameters: {'max_depth': 25, 'min_samples_split': 0.19075709986807537}. Best is trial 69 with value: 0.8462853202470999.\n[I 2023-08-23 12:08:38,307] Trial 79 finished with value: 0.8272277378618053 and parameters: {'max_depth': 30, 'min_samples_split': 0.10064805749992783}. Best is trial 69 with value: 0.8462853202470999.\n[I 2023-08-23 12:08:47,544] Trial 80 finished with value: 0.8246498774895452 and parameters: {'max_depth': 27, 'min_samples_split': 0.2913457305513783}. Best is trial 69 with value: 0.8462853202470999.\n[I 2023-08-23 12:08:57,425] Trial 81 finished with value: 0.841025295343687 and parameters: {'max_depth': 31, 'min_samples_split': 0.11693388797541422}. Best is trial 69 with value: 0.8462853202470999.\n[I 2023-08-23 12:09:07,262] Trial 82 finished with value: 0.8323266083601013 and parameters: {'max_depth': 32, 'min_samples_split': 0.1288567875281436}. Best is trial 69 with value: 0.8462853202470999.\n[I 2023-08-23 12:09:17,313] Trial 83 finished with value: 0.8231942332497915 and parameters: {'max_depth': 24, 'min_samples_split': 0.15448296418492402}. Best is trial 69 with value: 0.8462853202470999.\n[I 2023-08-23 12:09:26,577] Trial 84 finished with value: 0.8393324207966768 and parameters: {'max_depth': 28, 'min_samples_split': 0.2381232293614582}. Best is trial 69 with value: 0.8462853202470999.\n[I 2023-08-23 12:09:36,090] Trial 85 finished with value: 0.800229545619485 and parameters: {'max_depth': 30, 'min_samples_split': 0.2572846465743273}. Best is trial 69 with value: 0.8462853202470999.\n[I 2023-08-23 12:09:45,518] Trial 86 finished with value: 0.8213098600419471 and parameters: {'max_depth': 28, 'min_samples_split': 0.23483953229075372}. Best is trial 69 with value: 0.8462853202470999.\n[I 2023-08-23 12:09:54,595] Trial 87 finished with value: 0.8287832075013747 and parameters: {'max_depth': 26, 'min_samples_split': 0.1845949647749267}. Best is trial 69 with value: 0.8462853202470999.\n[I 2023-08-23 12:10:04,178] Trial 88 finished with value: 0.8151575752836135 and parameters: {'max_depth': 29, 'min_samples_split': 0.1689852738240511}. Best is trial 69 with value: 0.8462853202470999.\n[I 2023-08-23 12:10:13,534] Trial 89 finished with value: 0.8183593787334382 and parameters: {'max_depth': 21, 'min_samples_split': 0.20498528611396194}. Best is trial 69 with value: 0.8462853202470999.\n[I 2023-08-23 12:10:23,535] Trial 90 finished with value: 0.8294487965093333 and parameters: {'max_depth': 24, 'min_samples_split': 0.11883616209696143}. Best is trial 69 with value: 0.8462853202470999.\n[I 2023-08-23 12:10:33,204] Trial 91 finished with value: 0.8406323951136554 and parameters: {'max_depth': 18, 'min_samples_split': 0.14923151197586199}. Best is trial 69 with value: 0.8462853202470999.\n[I 2023-08-23 12:10:42,567] Trial 92 finished with value: 0.8270282576862076 and parameters: {'max_depth': 22, 'min_samples_split': 0.14634961433027943}. Best is trial 69 with value: 0.8462853202470999.\n[I 2023-08-23 12:10:51,933] Trial 93 finished with value: 0.8248776520639562 and parameters: {'max_depth': 31, 'min_samples_split': 0.1195623113076983}. Best is trial 69 with value: 0.8462853202470999.\n[I 2023-08-23 12:11:01,750] Trial 94 finished with value: 0.8252060390088978 and parameters: {'max_depth': 18, 'min_samples_split': 0.152202102037803}. Best is trial 69 with value: 0.8462853202470999.\n[I 2023-08-23 12:11:11,188] Trial 95 finished with value: 0.8199493619394261 and parameters: {'max_depth': 26, 'min_samples_split': 0.23212823440334374}. Best is trial 69 with value: 0.8462853202470999.\n[I 2023-08-23 12:11:21,446] Trial 96 finished with value: 0.8371269073773999 and parameters: {'max_depth': 27, 'min_samples_split': 0.10181781175805128}. Best is trial 69 with value: 0.8462853202470999.\n[I 2023-08-23 12:11:31,660] Trial 97 finished with value: 0.8334573381266773 and parameters: {'max_depth': 20, 'min_samples_split': 0.17633700858068257}. Best is trial 69 with value: 0.8462853202470999.\n[I 2023-08-23 12:11:41,110] Trial 98 finished with value: 0.8206272479587039 and parameters: {'max_depth': 22, 'min_samples_split': 0.20443025104393742}. Best is trial 69 with value: 0.8462853202470999.\n[I 2023-08-23 12:11:50,801] Trial 99 finished with value: 0.8231942332497915 and parameters: {'max_depth': 24, 'min_samples_split': 0.15382289436913474}. Best is trial 69 with value: 0.8462853202470999.\n"
     ]
    },
    {
     "output_type": "stream",
     "name": "stdout",
     "output_type": "stream",
     "text": [
      "Study #2\nNumber of finished trials: 100\nBest trial:\nValue: 0.8462853202470999\nParams:\n    max_depth: 20\n    min_samples_split: 0.1313271874690831\n\n\n"
     ]
    }
   ],
   "source": [
    "def objective_2(trial):\n",
    "\n",
    "  # Define hyperparameters to optimize\n",
    "  max_depth = trial.suggest_int('max_depth', 2, 32, log=True)\n",
    "  min_samples_split = trial.suggest_float('min_samples_split', 0.1, 1)\n",
    "\n",
    "  model = GradientBoostingRegressor(\n",
    "        n_estimators = 178,\n",
    "        max_depth = max_depth,\n",
    "        min_samples_split = min_samples_split,\n",
    "        random_state = 42\n",
    "    )\n",
    "\n",
    "  # Train the model\n",
    "  model.fit(X_train, y_train)\n",
    "\n",
    "  # Make predictions on the test set\n",
    "  y_pred = model.predict(X_test)\n",
    "\n",
    "  # Calculate accuracy\n",
    "  r2 = r2_score(y_test, y_pred)\n",
    "  return r2\n",
    "\n",
    "study = optuna.create_study(direction='maximize')\n",
    "\n",
    "study.optimize(objective_2, n_trials=100)\n",
    "\n",
    "print('Study #2')\n",
    "print('Number of finished trials:', len(study.trials))\n",
    "print('Best trial:')\n",
    "trial = study.best_trial\n",
    "print('Value:', trial.value)\n",
    "print('Params:')\n",
    "for key, value in trial.params.items():\n",
    "    print(f'    {key}: {value}')\n",
    "print(\"\\n\")"
   ]
  },
  {
   "cell_type": "markdown",
   "metadata": {
    "application/vnd.databricks.v1+cell": {
     "cellMetadata": {
      "byteLimit": 2048000,
      "rowLimit": 10000
     },
     "inputWidgets": {},
     "nuid": "a2e84cc2-d90d-475e-8d1a-90b03ad6bd1d",
     "showTitle": false,
     "title": ""
    },
    "id": "jtL9Wmy1tKvO"
   },
   "source": [
    "We got the best values for max_depth and min_samples_split. At this point, we can notice that there is a big impovement in r2-score compared to the untuned model.\n",
    "\n",
    "Now, let's keep max_depth in our model and tune **min_samples_split** and **min_samples_leaf** together."
   ]
  },
  {
   "cell_type": "code",
   "execution_count": 0,
   "metadata": {
    "application/vnd.databricks.v1+cell": {
     "cellMetadata": {
      "byteLimit": 2048000,
      "rowLimit": 10000
     },
     "inputWidgets": {},
     "nuid": "1bebbcaa-2b20-4788-90d3-e1cc004ef0e3",
     "showTitle": false,
     "title": ""
    },
    "colab": {
     "base_uri": "https://localhost:8080/"
    },
    "id": "RvVIzyr61WTW",
    "outputId": "ee0d241c-17e3-44c1-c7ed-f7f8c95ba38f"
   },
   "outputs": [
    {
     "output_type": "stream",
     "name": "stderr",
     "output_type": "stream",
     "text": [
      "[I 2023-08-23 12:11:50,958] A new study created in memory with name: no-name-a88006d9-23f7-457e-b5a3-dbdffef56370\n/local_disk0/.ephemeral_nfs/envs/pythonEnv-b1166253-892e-4c4b-921c-96ee1149e8b1/lib/python3.9/site-packages/optuna/distributions.py:700: UserWarning: The distribution is specified by [1, 70] and step=10, but the range is not divisible by `step`. It will be replaced by [1, 61].\n  warnings.warn(\n[I 2023-08-23 12:12:00,572] Trial 0 finished with value: 0.724142190764552 and parameters: {'min_samples_leaf': 1, 'min_samples_split': 0.9632831884501147}. Best is trial 0 with value: 0.724142190764552.\n/local_disk0/.ephemeral_nfs/envs/pythonEnv-b1166253-892e-4c4b-921c-96ee1149e8b1/lib/python3.9/site-packages/optuna/distributions.py:700: UserWarning: The distribution is specified by [1, 70] and step=10, but the range is not divisible by `step`. It will be replaced by [1, 61].\n  warnings.warn(\n[I 2023-08-23 12:12:10,259] Trial 1 finished with value: 0.8179874345355909 and parameters: {'min_samples_leaf': 1, 'min_samples_split': 0.22745569637225194}. Best is trial 1 with value: 0.8179874345355909.\n/local_disk0/.ephemeral_nfs/envs/pythonEnv-b1166253-892e-4c4b-921c-96ee1149e8b1/lib/python3.9/site-packages/optuna/distributions.py:700: UserWarning: The distribution is specified by [1, 70] and step=10, but the range is not divisible by `step`. It will be replaced by [1, 61].\n  warnings.warn(\n[I 2023-08-23 12:12:19,696] Trial 2 finished with value: 0.607112121014506 and parameters: {'min_samples_leaf': 51, 'min_samples_split': 0.7074774187047405}. Best is trial 1 with value: 0.8179874345355909.\n/local_disk0/.ephemeral_nfs/envs/pythonEnv-b1166253-892e-4c4b-921c-96ee1149e8b1/lib/python3.9/site-packages/optuna/distributions.py:700: UserWarning: The distribution is specified by [1, 70] and step=10, but the range is not divisible by `step`. It will be replaced by [1, 61].\n  warnings.warn(\n[I 2023-08-23 12:12:28,852] Trial 3 finished with value: 0.6760410124931437 and parameters: {'min_samples_leaf': 21, 'min_samples_split': 0.8665010636574427}. Best is trial 1 with value: 0.8179874345355909.\n/local_disk0/.ephemeral_nfs/envs/pythonEnv-b1166253-892e-4c4b-921c-96ee1149e8b1/lib/python3.9/site-packages/optuna/distributions.py:700: UserWarning: The distribution is specified by [1, 70] and step=10, but the range is not divisible by `step`. It will be replaced by [1, 61].\n  warnings.warn(\n[I 2023-08-23 12:12:37,734] Trial 4 finished with value: 0.7199103142174282 and parameters: {'min_samples_leaf': 1, 'min_samples_split': 0.8671209453809535}. Best is trial 1 with value: 0.8179874345355909.\n/local_disk0/.ephemeral_nfs/envs/pythonEnv-b1166253-892e-4c4b-921c-96ee1149e8b1/lib/python3.9/site-packages/optuna/distributions.py:700: UserWarning: The distribution is specified by [1, 70] and step=10, but the range is not divisible by `step`. It will be replaced by [1, 61].\n  warnings.warn(\n[I 2023-08-23 12:12:46,722] Trial 5 finished with value: 0.726551517300887 and parameters: {'min_samples_leaf': 1, 'min_samples_split': 0.918361306466994}. Best is trial 1 with value: 0.8179874345355909.\n/local_disk0/.ephemeral_nfs/envs/pythonEnv-b1166253-892e-4c4b-921c-96ee1149e8b1/lib/python3.9/site-packages/optuna/distributions.py:700: UserWarning: The distribution is specified by [1, 70] and step=10, but the range is not divisible by `step`. It will be replaced by [1, 61].\n  warnings.warn(\n[I 2023-08-23 12:12:55,599] Trial 6 finished with value: 0.7303287876822837 and parameters: {'min_samples_leaf': 1, 'min_samples_split': 0.6572660074723975}. Best is trial 1 with value: 0.8179874345355909.\n/local_disk0/.ephemeral_nfs/envs/pythonEnv-b1166253-892e-4c4b-921c-96ee1149e8b1/lib/python3.9/site-packages/optuna/distributions.py:700: UserWarning: The distribution is specified by [1, 70] and step=10, but the range is not divisible by `step`. It will be replaced by [1, 61].\n  warnings.warn(\n[I 2023-08-23 12:13:04,516] Trial 7 finished with value: 0.6579362883572212 and parameters: {'min_samples_leaf': 31, 'min_samples_split': 0.6728536344002357}. Best is trial 1 with value: 0.8179874345355909.\n/local_disk0/.ephemeral_nfs/envs/pythonEnv-b1166253-892e-4c4b-921c-96ee1149e8b1/lib/python3.9/site-packages/optuna/distributions.py:700: UserWarning: The distribution is specified by [1, 70] and step=10, but the range is not divisible by `step`. It will be replaced by [1, 61].\n  warnings.warn(\n[I 2023-08-23 12:13:13,429] Trial 8 finished with value: 0.7177956522422555 and parameters: {'min_samples_leaf': 11, 'min_samples_split': 0.7560597150121319}. Best is trial 1 with value: 0.8179874345355909.\n/local_disk0/.ephemeral_nfs/envs/pythonEnv-b1166253-892e-4c4b-921c-96ee1149e8b1/lib/python3.9/site-packages/optuna/distributions.py:700: UserWarning: The distribution is specified by [1, 70] and step=10, but the range is not divisible by `step`. It will be replaced by [1, 61].\n  warnings.warn(\n[I 2023-08-23 12:13:22,381] Trial 9 finished with value: 0.7104637369917076 and parameters: {'min_samples_leaf': 1, 'min_samples_split': 0.7697293790719967}. Best is trial 1 with value: 0.8179874345355909.\n/local_disk0/.ephemeral_nfs/envs/pythonEnv-b1166253-892e-4c4b-921c-96ee1149e8b1/lib/python3.9/site-packages/optuna/distributions.py:700: UserWarning: The distribution is specified by [1, 70] and step=10, but the range is not divisible by `step`. It will be replaced by [1, 61].\n  warnings.warn(\n[I 2023-08-23 12:13:31,468] Trial 10 finished with value: 0.6410575821613835 and parameters: {'min_samples_leaf': 61, 'min_samples_split': 0.17530510233237262}. Best is trial 1 with value: 0.8179874345355909.\n/local_disk0/.ephemeral_nfs/envs/pythonEnv-b1166253-892e-4c4b-921c-96ee1149e8b1/lib/python3.9/site-packages/optuna/distributions.py:700: UserWarning: The distribution is specified by [1, 70] and step=10, but the range is not divisible by `step`. It will be replaced by [1, 61].\n  warnings.warn(\n[I 2023-08-23 12:13:40,782] Trial 11 finished with value: 0.6860447786060637 and parameters: {'min_samples_leaf': 21, 'min_samples_split': 0.43869267765170816}. Best is trial 1 with value: 0.8179874345355909.\n/local_disk0/.ephemeral_nfs/envs/pythonEnv-b1166253-892e-4c4b-921c-96ee1149e8b1/lib/python3.9/site-packages/optuna/distributions.py:700: UserWarning: The distribution is specified by [1, 70] and step=10, but the range is not divisible by `step`. It will be replaced by [1, 61].\n  warnings.warn(\n[I 2023-08-23 12:13:50,490] Trial 12 finished with value: 0.6920039342435033 and parameters: {'min_samples_leaf': 21, 'min_samples_split': 0.43289854259680394}. Best is trial 1 with value: 0.8179874345355909.\n/local_disk0/.ephemeral_nfs/envs/pythonEnv-b1166253-892e-4c4b-921c-96ee1149e8b1/lib/python3.9/site-packages/optuna/distributions.py:700: UserWarning: The distribution is specified by [1, 70] and step=10, but the range is not divisible by `step`. It will be replaced by [1, 61].\n  warnings.warn(\n[I 2023-08-23 12:13:59,725] Trial 13 finished with value: 0.7092682415835352 and parameters: {'min_samples_leaf': 41, 'min_samples_split': 0.1417535235304888}. Best is trial 1 with value: 0.8179874345355909.\n/local_disk0/.ephemeral_nfs/envs/pythonEnv-b1166253-892e-4c4b-921c-96ee1149e8b1/lib/python3.9/site-packages/optuna/distributions.py:700: UserWarning: The distribution is specified by [1, 70] and step=10, but the range is not divisible by `step`. It will be replaced by [1, 61].\n  warnings.warn(\n[I 2023-08-23 12:14:08,605] Trial 14 finished with value: 0.7481097685924898 and parameters: {'min_samples_leaf': 11, 'min_samples_split': 0.5351733646427247}. Best is trial 1 with value: 0.8179874345355909.\n/local_disk0/.ephemeral_nfs/envs/pythonEnv-b1166253-892e-4c4b-921c-96ee1149e8b1/lib/python3.9/site-packages/optuna/distributions.py:700: UserWarning: The distribution is specified by [1, 70] and step=10, but the range is not divisible by `step`. It will be replaced by [1, 61].\n  warnings.warn(\n[I 2023-08-23 12:14:17,978] Trial 15 finished with value: 0.7355463522461407 and parameters: {'min_samples_leaf': 11, 'min_samples_split': 0.27195610383842733}. Best is trial 1 with value: 0.8179874345355909.\n/local_disk0/.ephemeral_nfs/envs/pythonEnv-b1166253-892e-4c4b-921c-96ee1149e8b1/lib/python3.9/site-packages/optuna/distributions.py:700: UserWarning: The distribution is specified by [1, 70] and step=10, but the range is not divisible by `step`. It will be replaced by [1, 61].\n  warnings.warn(\n[I 2023-08-23 12:14:27,237] Trial 16 finished with value: 0.732460429375032 and parameters: {'min_samples_leaf': 11, 'min_samples_split': 0.5384548419372239}. Best is trial 1 with value: 0.8179874345355909.\n/local_disk0/.ephemeral_nfs/envs/pythonEnv-b1166253-892e-4c4b-921c-96ee1149e8b1/lib/python3.9/site-packages/optuna/distributions.py:700: UserWarning: The distribution is specified by [1, 70] and step=10, but the range is not divisible by `step`. It will be replaced by [1, 61].\n  warnings.warn(\n[I 2023-08-23 12:14:36,031] Trial 17 finished with value: 0.7137064377866005 and parameters: {'min_samples_leaf': 31, 'min_samples_split': 0.3404890811831211}. Best is trial 1 with value: 0.8179874345355909.\n/local_disk0/.ephemeral_nfs/envs/pythonEnv-b1166253-892e-4c4b-921c-96ee1149e8b1/lib/python3.9/site-packages/optuna/distributions.py:700: UserWarning: The distribution is specified by [1, 70] and step=10, but the range is not divisible by `step`. It will be replaced by [1, 61].\n  warnings.warn(\n[I 2023-08-23 12:14:45,630] Trial 18 finished with value: 0.7222171063075997 and parameters: {'min_samples_leaf': 11, 'min_samples_split': 0.10165833782875741}. Best is trial 1 with value: 0.8179874345355909.\n/local_disk0/.ephemeral_nfs/envs/pythonEnv-b1166253-892e-4c4b-921c-96ee1149e8b1/lib/python3.9/site-packages/optuna/distributions.py:700: UserWarning: The distribution is specified by [1, 70] and step=10, but the range is not divisible by `step`. It will be replaced by [1, 61].\n  warnings.warn(\n[I 2023-08-23 12:14:55,250] Trial 19 finished with value: 0.7170939187861405 and parameters: {'min_samples_leaf': 21, 'min_samples_split': 0.2480578842895887}. Best is trial 1 with value: 0.8179874345355909.\n/local_disk0/.ephemeral_nfs/envs/pythonEnv-b1166253-892e-4c4b-921c-96ee1149e8b1/lib/python3.9/site-packages/optuna/distributions.py:700: UserWarning: The distribution is specified by [1, 70] and step=10, but the range is not divisible by `step`. It will be replaced by [1, 61].\n  warnings.warn(\n[I 2023-08-23 12:15:06,995] Trial 20 finished with value: 0.6743776661787904 and parameters: {'min_samples_leaf': 31, 'min_samples_split': 0.5500721837492184}. Best is trial 1 with value: 0.8179874345355909.\n/local_disk0/.ephemeral_nfs/envs/pythonEnv-b1166253-892e-4c4b-921c-96ee1149e8b1/lib/python3.9/site-packages/optuna/distributions.py:700: UserWarning: The distribution is specified by [1, 70] and step=10, but the range is not divisible by `step`. It will be replaced by [1, 61].\n  warnings.warn(\n[I 2023-08-23 12:15:17,529] Trial 21 finished with value: 0.736197696372996 and parameters: {'min_samples_leaf': 11, 'min_samples_split': 0.2733705325344137}. Best is trial 1 with value: 0.8179874345355909.\n/local_disk0/.ephemeral_nfs/envs/pythonEnv-b1166253-892e-4c4b-921c-96ee1149e8b1/lib/python3.9/site-packages/optuna/distributions.py:700: UserWarning: The distribution is specified by [1, 70] and step=10, but the range is not divisible by `step`. It will be replaced by [1, 61].\n  warnings.warn(\n[I 2023-08-23 12:15:26,811] Trial 22 finished with value: 0.7579263485299694 and parameters: {'min_samples_leaf': 11, 'min_samples_split': 0.21983829156163776}. Best is trial 1 with value: 0.8179874345355909.\n/local_disk0/.ephemeral_nfs/envs/pythonEnv-b1166253-892e-4c4b-921c-96ee1149e8b1/lib/python3.9/site-packages/optuna/distributions.py:700: UserWarning: The distribution is specified by [1, 70] and step=10, but the range is not divisible by `step`. It will be replaced by [1, 61].\n  warnings.warn(\n[I 2023-08-23 12:15:36,482] Trial 23 finished with value: 0.7431674514899299 and parameters: {'min_samples_leaf': 11, 'min_samples_split': 0.2033699980326366}. Best is trial 1 with value: 0.8179874345355909.\n/local_disk0/.ephemeral_nfs/envs/pythonEnv-b1166253-892e-4c4b-921c-96ee1149e8b1/lib/python3.9/site-packages/optuna/distributions.py:700: UserWarning: The distribution is specified by [1, 70] and step=10, but the range is not divisible by `step`. It will be replaced by [1, 61].\n  warnings.warn(\n[I 2023-08-23 12:15:45,555] Trial 24 finished with value: 0.6876070515038903 and parameters: {'min_samples_leaf': 41, 'min_samples_split': 0.341729128098399}. Best is trial 1 with value: 0.8179874345355909.\n/local_disk0/.ephemeral_nfs/envs/pythonEnv-b1166253-892e-4c4b-921c-96ee1149e8b1/lib/python3.9/site-packages/optuna/distributions.py:700: UserWarning: The distribution is specified by [1, 70] and step=10, but the range is not divisible by `step`. It will be replaced by [1, 61].\n  warnings.warn(\n[I 2023-08-23 12:15:54,569] Trial 25 finished with value: 0.7156908686001701 and parameters: {'min_samples_leaf': 21, 'min_samples_split': 0.1348245086607059}. Best is trial 1 with value: 0.8179874345355909.\n/local_disk0/.ephemeral_nfs/envs/pythonEnv-b1166253-892e-4c4b-921c-96ee1149e8b1/lib/python3.9/site-packages/optuna/distributions.py:700: UserWarning: The distribution is specified by [1, 70] and step=10, but the range is not divisible by `step`. It will be replaced by [1, 61].\n  warnings.warn(\n[I 2023-08-23 12:16:04,182] Trial 26 finished with value: 0.8235811402350655 and parameters: {'min_samples_leaf': 1, 'min_samples_split': 0.2202169610686399}. Best is trial 26 with value: 0.8235811402350655.\n/local_disk0/.ephemeral_nfs/envs/pythonEnv-b1166253-892e-4c4b-921c-96ee1149e8b1/lib/python3.9/site-packages/optuna/distributions.py:700: UserWarning: The distribution is specified by [1, 70] and step=10, but the range is not divisible by `step`. It will be replaced by [1, 61].\n  warnings.warn(\n[I 2023-08-23 12:16:14,187] Trial 27 finished with value: 0.8312790528941509 and parameters: {'min_samples_leaf': 1, 'min_samples_split': 0.1912947083843036}. Best is trial 27 with value: 0.8312790528941509.\n/local_disk0/.ephemeral_nfs/envs/pythonEnv-b1166253-892e-4c4b-921c-96ee1149e8b1/lib/python3.9/site-packages/optuna/distributions.py:700: UserWarning: The distribution is specified by [1, 70] and step=10, but the range is not divisible by `step`. It will be replaced by [1, 61].\n  warnings.warn(\n[I 2023-08-23 12:16:23,662] Trial 28 finished with value: 0.8287366743844855 and parameters: {'min_samples_leaf': 1, 'min_samples_split': 0.1879614044527302}. Best is trial 27 with value: 0.8312790528941509.\n/local_disk0/.ephemeral_nfs/envs/pythonEnv-b1166253-892e-4c4b-921c-96ee1149e8b1/lib/python3.9/site-packages/optuna/distributions.py:700: UserWarning: The distribution is specified by [1, 70] and step=10, but the range is not divisible by `step`. It will be replaced by [1, 61].\n  warnings.warn(\n[I 2023-08-23 12:16:33,384] Trial 29 finished with value: 0.8212305838403376 and parameters: {'min_samples_leaf': 1, 'min_samples_split': 0.10939816841173833}. Best is trial 27 with value: 0.8312790528941509.\n/local_disk0/.ephemeral_nfs/envs/pythonEnv-b1166253-892e-4c4b-921c-96ee1149e8b1/lib/python3.9/site-packages/optuna/distributions.py:700: UserWarning: The distribution is specified by [1, 70] and step=10, but the range is not divisible by `step`. It will be replaced by [1, 61].\n  warnings.warn(\n[I 2023-08-23 12:16:43,092] Trial 30 finished with value: 0.8231942332497915 and parameters: {'min_samples_leaf': 1, 'min_samples_split': 0.15384209295105897}. Best is trial 27 with value: 0.8312790528941509.\n/local_disk0/.ephemeral_nfs/envs/pythonEnv-b1166253-892e-4c4b-921c-96ee1149e8b1/lib/python3.9/site-packages/optuna/distributions.py:700: UserWarning: The distribution is specified by [1, 70] and step=10, but the range is not divisible by `step`. It will be replaced by [1, 61].\n  warnings.warn(\n[I 2023-08-23 12:16:52,319] Trial 31 finished with value: 0.823809088955712 and parameters: {'min_samples_leaf': 1, 'min_samples_split': 0.16768370349661268}. Best is trial 27 with value: 0.8312790528941509.\n/local_disk0/.ephemeral_nfs/envs/pythonEnv-b1166253-892e-4c4b-921c-96ee1149e8b1/lib/python3.9/site-packages/optuna/distributions.py:700: UserWarning: The distribution is specified by [1, 70] and step=10, but the range is not divisible by `step`. It will be replaced by [1, 61].\n  warnings.warn(\n[I 2023-08-23 12:17:02,007] Trial 32 finished with value: 0.8360678839206319 and parameters: {'min_samples_leaf': 1, 'min_samples_split': 0.1823375506631041}. Best is trial 32 with value: 0.8360678839206319.\n/local_disk0/.ephemeral_nfs/envs/pythonEnv-b1166253-892e-4c4b-921c-96ee1149e8b1/lib/python3.9/site-packages/optuna/distributions.py:700: UserWarning: The distribution is specified by [1, 70] and step=10, but the range is not divisible by `step`. It will be replaced by [1, 61].\n  warnings.warn(\n[I 2023-08-23 12:17:11,901] Trial 33 finished with value: 0.8287366743844855 and parameters: {'min_samples_leaf': 1, 'min_samples_split': 0.18680791576147}. Best is trial 32 with value: 0.8360678839206319.\n/local_disk0/.ephemeral_nfs/envs/pythonEnv-b1166253-892e-4c4b-921c-96ee1149e8b1/lib/python3.9/site-packages/optuna/distributions.py:700: UserWarning: The distribution is specified by [1, 70] and step=10, but the range is not divisible by `step`. It will be replaced by [1, 61].\n  warnings.warn(\n[I 2023-08-23 12:17:21,199] Trial 34 finished with value: 0.8385814169174926 and parameters: {'min_samples_leaf': 1, 'min_samples_split': 0.30172241240452874}. Best is trial 34 with value: 0.8385814169174926.\n/local_disk0/.ephemeral_nfs/envs/pythonEnv-b1166253-892e-4c4b-921c-96ee1149e8b1/lib/python3.9/site-packages/optuna/distributions.py:700: UserWarning: The distribution is specified by [1, 70] and step=10, but the range is not divisible by `step`. It will be replaced by [1, 61].\n  warnings.warn(\n[I 2023-08-23 12:17:30,782] Trial 35 finished with value: 0.834360102832922 and parameters: {'min_samples_leaf': 1, 'min_samples_split': 0.30460818351087854}. Best is trial 34 with value: 0.8385814169174926.\n/local_disk0/.ephemeral_nfs/envs/pythonEnv-b1166253-892e-4c4b-921c-96ee1149e8b1/lib/python3.9/site-packages/optuna/distributions.py:700: UserWarning: The distribution is specified by [1, 70] and step=10, but the range is not divisible by `step`. It will be replaced by [1, 61].\n  warnings.warn(\n[I 2023-08-23 12:17:40,327] Trial 36 finished with value: 0.8385814169174926 and parameters: {'min_samples_leaf': 1, 'min_samples_split': 0.2998503253954694}. Best is trial 34 with value: 0.8385814169174926.\n/local_disk0/.ephemeral_nfs/envs/pythonEnv-b1166253-892e-4c4b-921c-96ee1149e8b1/lib/python3.9/site-packages/optuna/distributions.py:700: UserWarning: The distribution is specified by [1, 70] and step=10, but the range is not divisible by `step`. It will be replaced by [1, 61].\n  warnings.warn(\n[I 2023-08-23 12:17:49,489] Trial 37 finished with value: 0.7326028567879268 and parameters: {'min_samples_leaf': 11, 'min_samples_split': 0.305669389985719}. Best is trial 34 with value: 0.8385814169174926.\n/local_disk0/.ephemeral_nfs/envs/pythonEnv-b1166253-892e-4c4b-921c-96ee1149e8b1/lib/python3.9/site-packages/optuna/distributions.py:700: UserWarning: The distribution is specified by [1, 70] and step=10, but the range is not divisible by `step`. It will be replaced by [1, 61].\n  warnings.warn(\n[I 2023-08-23 12:17:58,979] Trial 38 finished with value: 0.8385814169174926 and parameters: {'min_samples_leaf': 1, 'min_samples_split': 0.30120196911208913}. Best is trial 34 with value: 0.8385814169174926.\n/local_disk0/.ephemeral_nfs/envs/pythonEnv-b1166253-892e-4c4b-921c-96ee1149e8b1/lib/python3.9/site-packages/optuna/distributions.py:700: UserWarning: The distribution is specified by [1, 70] and step=10, but the range is not divisible by `step`. It will be replaced by [1, 61].\n  warnings.warn(\n[I 2023-08-23 12:18:08,058] Trial 39 finished with value: 0.6083841527534777 and parameters: {'min_samples_leaf': 61, 'min_samples_split': 0.3801083604594811}. Best is trial 34 with value: 0.8385814169174926.\n/local_disk0/.ephemeral_nfs/envs/pythonEnv-b1166253-892e-4c4b-921c-96ee1149e8b1/lib/python3.9/site-packages/optuna/distributions.py:700: UserWarning: The distribution is specified by [1, 70] and step=10, but the range is not divisible by `step`. It will be replaced by [1, 61].\n  warnings.warn(\n[I 2023-08-23 12:18:17,259] Trial 40 finished with value: 0.6797113570866118 and parameters: {'min_samples_leaf': 51, 'min_samples_split': 0.2564657514199783}. Best is trial 34 with value: 0.8385814169174926.\n/local_disk0/.ephemeral_nfs/envs/pythonEnv-b1166253-892e-4c4b-921c-96ee1149e8b1/lib/python3.9/site-packages/optuna/distributions.py:700: UserWarning: The distribution is specified by [1, 70] and step=10, but the range is not divisible by `step`. It will be replaced by [1, 61].\n  warnings.warn(\n[I 2023-08-23 12:18:26,700] Trial 41 finished with value: 0.8462114170415743 and parameters: {'min_samples_leaf': 1, 'min_samples_split': 0.286991444225391}. Best is trial 41 with value: 0.8462114170415743.\n/local_disk0/.ephemeral_nfs/envs/pythonEnv-b1166253-892e-4c4b-921c-96ee1149e8b1/lib/python3.9/site-packages/optuna/distributions.py:700: UserWarning: The distribution is specified by [1, 70] and step=10, but the range is not divisible by `step`. It will be replaced by [1, 61].\n  warnings.warn(\n[I 2023-08-23 12:18:36,097] Trial 42 finished with value: 0.8343927988770492 and parameters: {'min_samples_leaf': 1, 'min_samples_split': 0.29862240351841607}. Best is trial 41 with value: 0.8462114170415743.\n/local_disk0/.ephemeral_nfs/envs/pythonEnv-b1166253-892e-4c4b-921c-96ee1149e8b1/lib/python3.9/site-packages/optuna/distributions.py:700: UserWarning: The distribution is specified by [1, 70] and step=10, but the range is not divisible by `step`. It will be replaced by [1, 61].\n  warnings.warn(\n[I 2023-08-23 12:18:45,997] Trial 43 finished with value: 0.8338790083140045 and parameters: {'min_samples_leaf': 1, 'min_samples_split': 0.2376018299588344}. Best is trial 41 with value: 0.8462114170415743.\n/local_disk0/.ephemeral_nfs/envs/pythonEnv-b1166253-892e-4c4b-921c-96ee1149e8b1/lib/python3.9/site-packages/optuna/distributions.py:700: UserWarning: The distribution is specified by [1, 70] and step=10, but the range is not divisible by `step`. It will be replaced by [1, 61].\n  warnings.warn(\n[I 2023-08-23 12:18:55,241] Trial 44 finished with value: 0.8291162454030934 and parameters: {'min_samples_leaf': 1, 'min_samples_split': 0.35561858330842155}. Best is trial 41 with value: 0.8462114170415743.\n/local_disk0/.ephemeral_nfs/envs/pythonEnv-b1166253-892e-4c4b-921c-96ee1149e8b1/lib/python3.9/site-packages/optuna/distributions.py:700: UserWarning: The distribution is specified by [1, 70] and step=10, but the range is not divisible by `step`. It will be replaced by [1, 61].\n  warnings.warn(\n[I 2023-08-23 12:19:05,078] Trial 45 finished with value: 0.7220242991104369 and parameters: {'min_samples_leaf': 11, 'min_samples_split': 0.40045876628394567}. Best is trial 41 with value: 0.8462114170415743.\n/local_disk0/.ephemeral_nfs/envs/pythonEnv-b1166253-892e-4c4b-921c-96ee1149e8b1/lib/python3.9/site-packages/optuna/distributions.py:700: UserWarning: The distribution is specified by [1, 70] and step=10, but the range is not divisible by `step`. It will be replaced by [1, 61].\n  warnings.warn(\n[I 2023-08-23 12:19:14,458] Trial 46 finished with value: 0.7112518064848539 and parameters: {'min_samples_leaf': 21, 'min_samples_split': 0.3153123570147287}. Best is trial 41 with value: 0.8462114170415743.\n/local_disk0/.ephemeral_nfs/envs/pythonEnv-b1166253-892e-4c4b-921c-96ee1149e8b1/lib/python3.9/site-packages/optuna/distributions.py:700: UserWarning: The distribution is specified by [1, 70] and step=10, but the range is not divisible by `step`. It will be replaced by [1, 61].\n  warnings.warn(\n[I 2023-08-23 12:19:23,434] Trial 47 finished with value: 0.815916677839656 and parameters: {'min_samples_leaf': 1, 'min_samples_split': 0.26125556399127003}. Best is trial 41 with value: 0.8462114170415743.\n/local_disk0/.ephemeral_nfs/envs/pythonEnv-b1166253-892e-4c4b-921c-96ee1149e8b1/lib/python3.9/site-packages/optuna/distributions.py:700: UserWarning: The distribution is specified by [1, 70] and step=10, but the range is not divisible by `step`. It will be replaced by [1, 61].\n  warnings.warn(\n[I 2023-08-23 12:19:32,400] Trial 48 finished with value: 0.733847646489311 and parameters: {'min_samples_leaf': 11, 'min_samples_split': 0.40114221335839123}. Best is trial 41 with value: 0.8462114170415743.\n/local_disk0/.ephemeral_nfs/envs/pythonEnv-b1166253-892e-4c4b-921c-96ee1149e8b1/lib/python3.9/site-packages/optuna/distributions.py:700: UserWarning: The distribution is specified by [1, 70] and step=10, but the range is not divisible by `step`. It will be replaced by [1, 61].\n  warnings.warn(\n[I 2023-08-23 12:19:41,653] Trial 49 finished with value: 0.8324371716908678 and parameters: {'min_samples_leaf': 1, 'min_samples_split': 0.22162937192968712}. Best is trial 41 with value: 0.8462114170415743.\n"
     ]
    },
    {
     "output_type": "stream",
     "name": "stdout",
     "output_type": "stream",
     "text": [
      "Study #3\nNumber of finished trials: 50\nBest trial:\nValue: 0.8462114170415743\nParams:\n    min_samples_leaf: 1\n    min_samples_split: 0.286991444225391\n\n\n"
     ]
    }
   ],
   "source": [
    "def objective_3(trial):\n",
    "\n",
    "  # Define hyperparameters to optimize\n",
    "  min_samples_leaf = trial.suggest_int('min_samples_leaf', 1, 70, 10)\n",
    "  min_samples_split = trial.suggest_float('min_samples_split', 0.1, 1)\n",
    "\n",
    "  model = GradientBoostingRegressor(\n",
    "        n_estimators=178,\n",
    "        max_depth=24,\n",
    "        min_samples_split=min_samples_split,\n",
    "        min_samples_leaf=min_samples_leaf,\n",
    "        random_state=42\n",
    "    )\n",
    "\n",
    "  # Train the model\n",
    "  model.fit(X_train, y_train)\n",
    "\n",
    "  # Make predictions on the test set\n",
    "  y_pred = model.predict(X_test)\n",
    "\n",
    "  # Calculate accuracy\n",
    "  r2 = r2_score(y_test, y_pred)\n",
    "  return r2\n",
    "\n",
    "study = optuna.create_study(direction='maximize')\n",
    "\n",
    "study.optimize(objective_3, n_trials=50)\n",
    "\n",
    "print('Study #3')\n",
    "print('Number of finished trials:', len(study.trials))\n",
    "print('Best trial:')\n",
    "trial = study.best_trial\n",
    "print('Value:', trial.value)\n",
    "print('Params:')\n",
    "for key, value in trial.params.items():\n",
    "    print(f'    {key}: {value}')\n",
    "print(\"\\n\")"
   ]
  },
  {
   "cell_type": "markdown",
   "metadata": {
    "application/vnd.databricks.v1+cell": {
     "cellMetadata": {
      "byteLimit": 2048000,
      "rowLimit": 10000
     },
     "inputWidgets": {},
     "nuid": "bc3d2c35-a712-4c77-86c1-f34eb90231ae",
     "showTitle": false,
     "title": ""
    },
    "id": "MObxIvQl2qdX"
   },
   "source": [
    "We have the last tree-specific parameter we need to tune - **max_features**. We will try values from 1 to 13 in steps of 2."
   ]
  },
  {
   "cell_type": "code",
   "execution_count": 0,
   "metadata": {
    "application/vnd.databricks.v1+cell": {
     "cellMetadata": {
      "byteLimit": 2048000,
      "rowLimit": 10000
     },
     "inputWidgets": {},
     "nuid": "8d1a035f-7d28-4c47-931a-ed233feac1db",
     "showTitle": false,
     "title": ""
    },
    "colab": {
     "base_uri": "https://localhost:8080/"
    },
    "id": "D-fG36J6tKvP",
    "outputId": "d3d8b711-8915-4ea5-8757-1dd9b3d8208f"
   },
   "outputs": [
    {
     "output_type": "stream",
     "name": "stderr",
     "output_type": "stream",
     "text": [
      "[I 2023-08-23 12:19:41,748] A new study created in memory with name: no-name-f20f0290-2235-489b-8de8-d6d2433b05e8\n[I 2023-08-23 12:19:50,516] Trial 0 finished with value: 0.7050458824913537 and parameters: {'max_features': 1}. Best is trial 0 with value: 0.7050458824913537.\n[I 2023-08-23 12:19:59,317] Trial 1 finished with value: 0.7089990497383067 and parameters: {'max_features': 3}. Best is trial 1 with value: 0.7089990497383067.\n[I 2023-08-23 12:20:08,624] Trial 2 finished with value: 0.7692184356104415 and parameters: {'max_features': 5}. Best is trial 2 with value: 0.7692184356104415.\n[I 2023-08-23 12:20:17,870] Trial 3 finished with value: 0.7050458824913537 and parameters: {'max_features': 1}. Best is trial 2 with value: 0.7692184356104415.\n[I 2023-08-23 12:20:27,037] Trial 4 finished with value: 0.7692184356104415 and parameters: {'max_features': 5}. Best is trial 2 with value: 0.7692184356104415.\n[I 2023-08-23 12:20:36,572] Trial 5 finished with value: 0.8504990113714167 and parameters: {'max_features': 11}. Best is trial 5 with value: 0.8504990113714167.\n[I 2023-08-23 12:20:45,840] Trial 6 finished with value: 0.7692184356104415 and parameters: {'max_features': 5}. Best is trial 5 with value: 0.8504990113714167.\n[I 2023-08-23 12:20:54,845] Trial 7 finished with value: 0.7050458824913537 and parameters: {'max_features': 1}. Best is trial 5 with value: 0.8504990113714167.\n[I 2023-08-23 12:21:04,654] Trial 8 finished with value: 0.844823040041792 and parameters: {'max_features': 13}. Best is trial 5 with value: 0.8504990113714167.\n[I 2023-08-23 12:21:14,334] Trial 9 finished with value: 0.844823040041792 and parameters: {'max_features': 13}. Best is trial 5 with value: 0.8504990113714167.\n[I 2023-08-23 12:21:23,652] Trial 10 finished with value: 0.7954872773203068 and parameters: {'max_features': 9}. Best is trial 5 with value: 0.8504990113714167.\n[I 2023-08-23 12:21:33,090] Trial 11 finished with value: 0.844823040041792 and parameters: {'max_features': 13}. Best is trial 5 with value: 0.8504990113714167.\n[I 2023-08-23 12:21:42,521] Trial 12 finished with value: 0.8504990113714167 and parameters: {'max_features': 11}. Best is trial 5 with value: 0.8504990113714167.\n[I 2023-08-23 12:21:51,680] Trial 13 finished with value: 0.7954872773203068 and parameters: {'max_features': 9}. Best is trial 5 with value: 0.8504990113714167.\n[I 2023-08-23 12:22:00,958] Trial 14 finished with value: 0.7954872773203068 and parameters: {'max_features': 9}. Best is trial 5 with value: 0.8504990113714167.\n[I 2023-08-23 12:22:10,294] Trial 15 finished with value: 0.8504990113714167 and parameters: {'max_features': 11}. Best is trial 5 with value: 0.8504990113714167.\n[I 2023-08-23 12:22:19,929] Trial 16 finished with value: 0.8504990113714167 and parameters: {'max_features': 11}. Best is trial 5 with value: 0.8504990113714167.\n[I 2023-08-23 12:22:29,518] Trial 17 finished with value: 0.8504990113714167 and parameters: {'max_features': 11}. Best is trial 5 with value: 0.8504990113714167.\n[I 2023-08-23 12:22:38,462] Trial 18 finished with value: 0.731795137543307 and parameters: {'max_features': 7}. Best is trial 5 with value: 0.8504990113714167.\n[I 2023-08-23 12:22:47,710] Trial 19 finished with value: 0.731795137543307 and parameters: {'max_features': 7}. Best is trial 5 with value: 0.8504990113714167.\n[I 2023-08-23 12:22:57,104] Trial 20 finished with value: 0.8504990113714167 and parameters: {'max_features': 11}. Best is trial 5 with value: 0.8504990113714167.\n[I 2023-08-23 12:23:06,501] Trial 21 finished with value: 0.8504990113714167 and parameters: {'max_features': 11}. Best is trial 5 with value: 0.8504990113714167.\n[I 2023-08-23 12:23:16,065] Trial 22 finished with value: 0.7954872773203068 and parameters: {'max_features': 9}. Best is trial 5 with value: 0.8504990113714167.\n[I 2023-08-23 12:23:25,919] Trial 23 finished with value: 0.8504990113714167 and parameters: {'max_features': 11}. Best is trial 5 with value: 0.8504990113714167.\n[I 2023-08-23 12:23:35,817] Trial 24 finished with value: 0.844823040041792 and parameters: {'max_features': 13}. Best is trial 5 with value: 0.8504990113714167.\n[I 2023-08-23 12:23:45,521] Trial 25 finished with value: 0.7954872773203068 and parameters: {'max_features': 9}. Best is trial 5 with value: 0.8504990113714167.\n[I 2023-08-23 12:23:54,435] Trial 26 finished with value: 0.8504990113714167 and parameters: {'max_features': 11}. Best is trial 5 with value: 0.8504990113714167.\n[I 2023-08-23 12:24:03,259] Trial 27 finished with value: 0.844823040041792 and parameters: {'max_features': 13}. Best is trial 5 with value: 0.8504990113714167.\n[I 2023-08-23 12:24:12,228] Trial 28 finished with value: 0.731795137543307 and parameters: {'max_features': 7}. Best is trial 5 with value: 0.8504990113714167.\n[I 2023-08-23 12:24:21,169] Trial 29 finished with value: 0.7954872773203068 and parameters: {'max_features': 9}. Best is trial 5 with value: 0.8504990113714167.\n[I 2023-08-23 12:24:30,193] Trial 30 finished with value: 0.8504990113714167 and parameters: {'max_features': 11}. Best is trial 5 with value: 0.8504990113714167.\n[I 2023-08-23 12:24:38,854] Trial 31 finished with value: 0.8504990113714167 and parameters: {'max_features': 11}. Best is trial 5 with value: 0.8504990113714167.\n[I 2023-08-23 12:24:48,002] Trial 32 finished with value: 0.8504990113714167 and parameters: {'max_features': 11}. Best is trial 5 with value: 0.8504990113714167.\n[I 2023-08-23 12:24:56,972] Trial 33 finished with value: 0.844823040041792 and parameters: {'max_features': 13}. Best is trial 5 with value: 0.8504990113714167.\n[I 2023-08-23 12:25:06,052] Trial 34 finished with value: 0.7954872773203068 and parameters: {'max_features': 9}. Best is trial 5 with value: 0.8504990113714167.\n[I 2023-08-23 12:25:15,147] Trial 35 finished with value: 0.8504990113714167 and parameters: {'max_features': 11}. Best is trial 5 with value: 0.8504990113714167.\n[I 2023-08-23 12:25:23,705] Trial 36 finished with value: 0.7089990497383067 and parameters: {'max_features': 3}. Best is trial 5 with value: 0.8504990113714167.\n[I 2023-08-23 12:25:32,903] Trial 37 finished with value: 0.844823040041792 and parameters: {'max_features': 13}. Best is trial 5 with value: 0.8504990113714167.\n[I 2023-08-23 12:25:41,772] Trial 38 finished with value: 0.8504990113714167 and parameters: {'max_features': 11}. Best is trial 5 with value: 0.8504990113714167.\n[I 2023-08-23 12:25:50,687] Trial 39 finished with value: 0.7692184356104415 and parameters: {'max_features': 5}. Best is trial 5 with value: 0.8504990113714167.\n[I 2023-08-23 12:25:59,911] Trial 40 finished with value: 0.7954872773203068 and parameters: {'max_features': 9}. Best is trial 5 with value: 0.8504990113714167.\n[I 2023-08-23 12:26:09,279] Trial 41 finished with value: 0.8504990113714167 and parameters: {'max_features': 11}. Best is trial 5 with value: 0.8504990113714167.\n[I 2023-08-23 12:26:18,721] Trial 42 finished with value: 0.844823040041792 and parameters: {'max_features': 13}. Best is trial 5 with value: 0.8504990113714167.\n[I 2023-08-23 12:26:27,855] Trial 43 finished with value: 0.8504990113714167 and parameters: {'max_features': 11}. Best is trial 5 with value: 0.8504990113714167.\n[I 2023-08-23 12:26:36,605] Trial 44 finished with value: 0.844823040041792 and parameters: {'max_features': 13}. Best is trial 5 with value: 0.8504990113714167.\n[I 2023-08-23 12:26:45,767] Trial 45 finished with value: 0.7954872773203068 and parameters: {'max_features': 9}. Best is trial 5 with value: 0.8504990113714167.\n[I 2023-08-23 12:26:54,320] Trial 46 finished with value: 0.8504990113714167 and parameters: {'max_features': 11}. Best is trial 5 with value: 0.8504990113714167.\n[I 2023-08-23 12:27:03,304] Trial 47 finished with value: 0.731795137543307 and parameters: {'max_features': 7}. Best is trial 5 with value: 0.8504990113714167.\n[I 2023-08-23 12:27:12,538] Trial 48 finished with value: 0.8504990113714167 and parameters: {'max_features': 11}. Best is trial 5 with value: 0.8504990113714167.\n[I 2023-08-23 12:27:21,504] Trial 49 finished with value: 0.7954872773203068 and parameters: {'max_features': 9}. Best is trial 5 with value: 0.8504990113714167.\n"
     ]
    },
    {
     "output_type": "stream",
     "name": "stdout",
     "output_type": "stream",
     "text": [
      "Study #4\nNumber of finished trials: 50\nBest trial:\nValue: 0.8504990113714167\nParams:\n    max_features: 11\n\n\n"
     ]
    }
   ],
   "source": [
    "def objective_4(trial):\n",
    "\n",
    "  # Define hyperparameters to optimize\n",
    "  max_features = trial.suggest_int('max_features', 1, 13, 2)\n",
    "\n",
    "  model = GradientBoostingRegressor(\n",
    "        n_estimators=178,\n",
    "        max_depth=24,\n",
    "        min_samples_split=0.31220765553286495,\n",
    "        min_samples_leaf=1,\n",
    "        max_features = max_features,\n",
    "        random_state=42\n",
    "    )\n",
    "\n",
    "  # Train the model\n",
    "  model.fit(X_train, y_train)\n",
    "\n",
    "  # Make predictions on the test set\n",
    "  y_pred = model.predict(X_test)\n",
    "\n",
    "  # Calculate accuracy\n",
    "  r2 = r2_score(y_test, y_pred)\n",
    "  return r2\n",
    "\n",
    "study = optuna.create_study(direction='maximize')\n",
    "\n",
    "study.optimize(objective_4, n_trials=50)\n",
    "\n",
    "print('Study #4')\n",
    "print('Number of finished trials:', len(study.trials))\n",
    "print('Best trial:')\n",
    "trial = study.best_trial\n",
    "print('Value:', trial.value)\n",
    "print('Params:')\n",
    "for key, value in trial.params.items():\n",
    "    print(f'    {key}: {value}')\n",
    "print(\"\\n\")"
   ]
  },
  {
   "cell_type": "markdown",
   "metadata": {
    "application/vnd.databricks.v1+cell": {
     "cellMetadata": {
      "byteLimit": 2048000,
      "rowLimit": 10000
     },
     "inputWidgets": {},
     "nuid": "60f7537b-b4e8-4809-8caf-b6122685c672",
     "showTitle": false,
     "title": ""
    },
    "id": "oUKYTaaaD1nT"
   },
   "source": [
    "Now we will tune boosting parameter **subsample**."
   ]
  },
  {
   "cell_type": "code",
   "execution_count": 0,
   "metadata": {
    "application/vnd.databricks.v1+cell": {
     "cellMetadata": {
      "byteLimit": 2048000,
      "rowLimit": 10000
     },
     "inputWidgets": {},
     "nuid": "8b73da89-64f4-421f-985b-661deb2ad241",
     "showTitle": false,
     "title": ""
    },
    "colab": {
     "base_uri": "https://localhost:8080/"
    },
    "id": "UAqga1yltKvP",
    "outputId": "9ca9e0fc-2237-4e7a-8225-98ee7e7c2338"
   },
   "outputs": [
    {
     "output_type": "stream",
     "name": "stderr",
     "output_type": "stream",
     "text": [
      "[I 2023-08-23 12:27:21,632] A new study created in memory with name: no-name-4f4086be-a4a6-4164-8f5b-232aa4165101\n[I 2023-08-23 12:27:30,889] Trial 0 finished with value: 0.8075411367714808 and parameters: {'subsample': 0.85}. Best is trial 0 with value: 0.8075411367714808.\n[I 2023-08-23 12:27:39,396] Trial 1 finished with value: 0.7748563040063576 and parameters: {'subsample': 0.8}. Best is trial 0 with value: 0.8075411367714808.\n[I 2023-08-23 12:27:48,173] Trial 2 finished with value: 0.8096222068375332 and parameters: {'subsample': 0.9}. Best is trial 2 with value: 0.8096222068375332.\n[I 2023-08-23 12:27:56,780] Trial 3 finished with value: 0.7597690635120866 and parameters: {'subsample': 0.7}. Best is trial 2 with value: 0.8096222068375332.\n[I 2023-08-23 12:28:05,702] Trial 4 finished with value: 0.7661907966616728 and parameters: {'subsample': 0.75}. Best is trial 2 with value: 0.8096222068375332.\n[I 2023-08-23 12:28:14,837] Trial 5 finished with value: 0.7407362662069623 and parameters: {'subsample': 0.65}. Best is trial 2 with value: 0.8096222068375332.\n[I 2023-08-23 12:28:23,248] Trial 6 finished with value: 0.7597690635120866 and parameters: {'subsample': 0.7}. Best is trial 2 with value: 0.8096222068375332.\n[I 2023-08-23 12:28:32,424] Trial 7 finished with value: 0.7407362662069623 and parameters: {'subsample': 0.65}. Best is trial 2 with value: 0.8096222068375332.\n[I 2023-08-23 12:28:41,124] Trial 8 finished with value: 0.7577460523102466 and parameters: {'subsample': 0.6}. Best is trial 2 with value: 0.8096222068375332.\n[I 2023-08-23 12:28:49,701] Trial 9 finished with value: 0.7577460523102466 and parameters: {'subsample': 0.6}. Best is trial 2 with value: 0.8096222068375332.\n[I 2023-08-23 12:28:58,401] Trial 10 finished with value: 0.832262150367306 and parameters: {'subsample': 0.95}. Best is trial 10 with value: 0.832262150367306.\n[I 2023-08-23 12:29:07,872] Trial 11 finished with value: 0.8504990113714167 and parameters: {'subsample': 1.0}. Best is trial 11 with value: 0.8504990113714167.\n[I 2023-08-23 12:29:17,597] Trial 12 finished with value: 0.8504990113714167 and parameters: {'subsample': 1.0}. Best is trial 11 with value: 0.8504990113714167.\n[I 2023-08-23 12:29:26,724] Trial 13 finished with value: 0.8504990113714167 and parameters: {'subsample': 1.0}. Best is trial 11 with value: 0.8504990113714167.\n[I 2023-08-23 12:29:36,117] Trial 14 finished with value: 0.8504990113714167 and parameters: {'subsample': 1.0}. Best is trial 11 with value: 0.8504990113714167.\n[I 2023-08-23 12:29:45,175] Trial 15 finished with value: 0.8096222068375332 and parameters: {'subsample': 0.9}. Best is trial 11 with value: 0.8504990113714167.\n[I 2023-08-23 12:29:54,188] Trial 16 finished with value: 0.832262150367306 and parameters: {'subsample': 0.95}. Best is trial 11 with value: 0.8504990113714167.\n[I 2023-08-23 12:30:04,031] Trial 17 finished with value: 0.8504990113714167 and parameters: {'subsample': 1.0}. Best is trial 11 with value: 0.8504990113714167.\n[I 2023-08-23 12:30:14,386] Trial 18 finished with value: 0.8096222068375332 and parameters: {'subsample': 0.9}. Best is trial 11 with value: 0.8504990113714167.\n[I 2023-08-23 12:30:23,877] Trial 19 finished with value: 0.832262150367306 and parameters: {'subsample': 0.95}. Best is trial 11 with value: 0.8504990113714167.\n[I 2023-08-23 12:30:33,127] Trial 20 finished with value: 0.8075411367714808 and parameters: {'subsample': 0.85}. Best is trial 11 with value: 0.8504990113714167.\n[I 2023-08-23 12:30:42,477] Trial 21 finished with value: 0.8504990113714167 and parameters: {'subsample': 1.0}. Best is trial 11 with value: 0.8504990113714167.\n[I 2023-08-23 12:30:51,646] Trial 22 finished with value: 0.8504990113714167 and parameters: {'subsample': 1.0}. Best is trial 11 with value: 0.8504990113714167.\n[I 2023-08-23 12:31:00,948] Trial 23 finished with value: 0.832262150367306 and parameters: {'subsample': 0.95}. Best is trial 11 with value: 0.8504990113714167.\n[I 2023-08-23 12:31:10,237] Trial 24 finished with value: 0.8504990113714167 and parameters: {'subsample': 1.0}. Best is trial 11 with value: 0.8504990113714167.\n[I 2023-08-23 12:31:20,103] Trial 25 finished with value: 0.8075411367714808 and parameters: {'subsample': 0.85}. Best is trial 11 with value: 0.8504990113714167.\n[I 2023-08-23 12:31:29,933] Trial 26 finished with value: 0.832262150367306 and parameters: {'subsample': 0.95}. Best is trial 11 with value: 0.8504990113714167.\n[I 2023-08-23 12:31:38,849] Trial 27 finished with value: 0.8096222068375332 and parameters: {'subsample': 0.9}. Best is trial 11 with value: 0.8504990113714167.\n[I 2023-08-23 12:31:47,886] Trial 28 finished with value: 0.8504990113714167 and parameters: {'subsample': 1.0}. Best is trial 11 with value: 0.8504990113714167.\n[I 2023-08-23 12:31:56,780] Trial 29 finished with value: 0.7748563040063576 and parameters: {'subsample': 0.8}. Best is trial 11 with value: 0.8504990113714167.\n[I 2023-08-23 12:32:06,033] Trial 30 finished with value: 0.832262150367306 and parameters: {'subsample': 0.95}. Best is trial 11 with value: 0.8504990113714167.\n[I 2023-08-23 12:32:15,739] Trial 31 finished with value: 0.8504990113714167 and parameters: {'subsample': 1.0}. Best is trial 11 with value: 0.8504990113714167.\n[I 2023-08-23 12:32:24,953] Trial 32 finished with value: 0.8504990113714167 and parameters: {'subsample': 1.0}. Best is trial 11 with value: 0.8504990113714167.\n[I 2023-08-23 12:32:34,730] Trial 33 finished with value: 0.8096222068375332 and parameters: {'subsample': 0.9}. Best is trial 11 with value: 0.8504990113714167.\n[I 2023-08-23 12:32:44,189] Trial 34 finished with value: 0.832262150367306 and parameters: {'subsample': 0.95}. Best is trial 11 with value: 0.8504990113714167.\n[I 2023-08-23 12:32:53,105] Trial 35 finished with value: 0.8504990113714167 and parameters: {'subsample': 1.0}. Best is trial 11 with value: 0.8504990113714167.\n[I 2023-08-23 12:33:02,173] Trial 36 finished with value: 0.8075411367714808 and parameters: {'subsample': 0.85}. Best is trial 11 with value: 0.8504990113714167.\n[I 2023-08-23 12:33:11,665] Trial 37 finished with value: 0.832262150367306 and parameters: {'subsample': 0.95}. Best is trial 11 with value: 0.8504990113714167.\n[I 2023-08-23 12:33:21,013] Trial 38 finished with value: 0.7748563040063576 and parameters: {'subsample': 0.8}. Best is trial 11 with value: 0.8504990113714167.\n[I 2023-08-23 12:33:30,701] Trial 39 finished with value: 0.8504990113714167 and parameters: {'subsample': 1.0}. Best is trial 11 with value: 0.8504990113714167.\n[I 2023-08-23 12:33:39,550] Trial 40 finished with value: 0.7661907966616728 and parameters: {'subsample': 0.75}. Best is trial 11 with value: 0.8504990113714167.\n[I 2023-08-23 12:33:48,324] Trial 41 finished with value: 0.8504990113714167 and parameters: {'subsample': 1.0}. Best is trial 11 with value: 0.8504990113714167.\n[I 2023-08-23 12:33:57,019] Trial 42 finished with value: 0.8504990113714167 and parameters: {'subsample': 1.0}. Best is trial 11 with value: 0.8504990113714167.\n[I 2023-08-23 12:34:06,051] Trial 43 finished with value: 0.832262150367306 and parameters: {'subsample': 0.95}. Best is trial 11 with value: 0.8504990113714167.\n[I 2023-08-23 12:34:15,203] Trial 44 finished with value: 0.8504990113714167 and parameters: {'subsample': 1.0}. Best is trial 11 with value: 0.8504990113714167.\n[I 2023-08-23 12:34:24,228] Trial 45 finished with value: 0.832262150367306 and parameters: {'subsample': 0.95}. Best is trial 11 with value: 0.8504990113714167.\n[I 2023-08-23 12:34:33,218] Trial 46 finished with value: 0.8096222068375332 and parameters: {'subsample': 0.9}. Best is trial 11 with value: 0.8504990113714167.\n[I 2023-08-23 12:34:42,814] Trial 47 finished with value: 0.8504990113714167 and parameters: {'subsample': 1.0}. Best is trial 11 with value: 0.8504990113714167.\n[I 2023-08-23 12:34:51,432] Trial 48 finished with value: 0.8096222068375332 and parameters: {'subsample': 0.9}. Best is trial 11 with value: 0.8504990113714167.\n[I 2023-08-23 12:35:01,033] Trial 49 finished with value: 0.832262150367306 and parameters: {'subsample': 0.95}. Best is trial 11 with value: 0.8504990113714167.\n"
     ]
    },
    {
     "output_type": "stream",
     "name": "stdout",
     "output_type": "stream",
     "text": [
      "Study #5\nNumber of finished trials: 50\nBest trial:\nValue: 0.8504990113714167\nParams:\n    subsample: 1.0\n\n\n"
     ]
    }
   ],
   "source": [
    "def objective_5(trial):\n",
    "  # Define hyperparameters to optimize\n",
    "  subsample = trial.suggest_float('subsample', 0.6, 1, step=0.05)\n",
    "\n",
    "  model = GradientBoostingRegressor(\n",
    "        n_estimators=178,\n",
    "        max_depth=24,\n",
    "        min_samples_split=0.31220765553286495,\n",
    "        min_samples_leaf=1,\n",
    "        max_features = 11,\n",
    "        subsample=subsample,\n",
    "        random_state=42\n",
    "    )\n",
    "\n",
    "    # Train the model\n",
    "  model.fit(X_train, y_train)\n",
    "\n",
    "    # Make predictions on the test set\n",
    "  y_pred = model.predict(X_test)\n",
    "\n",
    "    # Calculate accuracy\n",
    "  r2 = r2_score(y_test, y_pred)\n",
    "  return r2\n",
    "\n",
    "study = optuna.create_study(direction='maximize')\n",
    "\n",
    "study.optimize(objective_5, n_trials=50)\n",
    "\n",
    "print('Study #5')\n",
    "print('Number of finished trials:', len(study.trials))\n",
    "print('Best trial:')\n",
    "trial = study.best_trial\n",
    "print('Value:', trial.value)\n",
    "print('Params:')\n",
    "for key, value in trial.params.items():\n",
    "    print(f'    {key}: {value}')\n",
    "print(\"\\n\")"
   ]
  },
  {
   "cell_type": "markdown",
   "metadata": {
    "application/vnd.databricks.v1+cell": {
     "cellMetadata": {
      "byteLimit": 2048000,
      "rowLimit": 10000
     },
     "inputWidgets": {},
     "nuid": "4036e559-910f-456b-ae10-0272b8a11e86",
     "showTitle": false,
     "title": ""
    },
    "id": "13tVoK2iEgj9"
   },
   "source": [
    "It can be seen, that default value of subsample is optimal.\n",
    "\n",
    "Now we will create a final model with all the parameters we tuned."
   ]
  },
  {
   "cell_type": "code",
   "execution_count": 0,
   "metadata": {
    "application/vnd.databricks.v1+cell": {
     "cellMetadata": {
      "byteLimit": 2048000,
      "rowLimit": 10000
     },
     "inputWidgets": {},
     "nuid": "a0956f79-211a-4149-af53-ccd0d1279c3d",
     "showTitle": false,
     "title": ""
    },
    "colab": {
     "base_uri": "https://localhost:8080/"
    },
    "id": "1soinvpstKvP",
    "outputId": "46b58072-b90a-4d63-c858-4c7fc9ad8a4a"
   },
   "outputs": [
    {
     "output_type": "stream",
     "name": "stdout",
     "output_type": "stream",
     "text": [
      "Trained and evaluated the final model using the best hyperparameters.\n\nFinal model score: 0.8504990113714167\n"
     ]
    }
   ],
   "source": [
    "final_model = GradientBoostingRegressor(\n",
    "    n_estimators=178,\n",
    "    max_depth=24,\n",
    "    min_samples_split=0.31220765553286495,\n",
    "    min_samples_leaf=1,\n",
    "    max_features=11,\n",
    "    subsample=1,\n",
    "    random_state=42\n",
    ")\n",
    "\n",
    "final_model.fit(X_train, y_train)\n",
    "final_predictions = final_model.predict(X_test)\n",
    "final_score = r2_score(y_test, final_predictions)\n",
    "print('Trained and evaluated the final model using the best hyperparameters.\\n')\n",
    "print('Final model score:', final_score)"
   ]
  },
  {
   "cell_type": "markdown",
   "metadata": {
    "application/vnd.databricks.v1+cell": {
     "cellMetadata": {
      "byteLimit": 2048000,
      "rowLimit": 10000
     },
     "inputWidgets": {},
     "nuid": "9dce1279-2062-4651-8e76-1aa049bd628e",
     "showTitle": false,
     "title": ""
    },
    "id": "4uKo84NAE4wU"
   },
   "source": [
    "Perfect! Using the Optuna library, we tuned the hyperparameters of the model and got an improvement in the r2-score."
   ]
  },
  {
   "cell_type": "markdown",
   "metadata": {
    "application/vnd.databricks.v1+cell": {
     "cellMetadata": {
      "byteLimit": 2048000,
      "rowLimit": 10000
     },
     "inputWidgets": {},
     "nuid": "3540ab88-8d20-413b-82bf-7a0b6e443dec",
     "showTitle": false,
     "title": ""
    },
    "id": "UtKMWiVjFvph"
   },
   "source": [
    "## Your turn!"
   ]
  },
  {
   "cell_type": "markdown",
   "metadata": {
    "application/vnd.databricks.v1+cell": {
     "cellMetadata": {
      "byteLimit": 2048000,
      "rowLimit": 10000
     },
     "inputWidgets": {},
     "nuid": "2d983029-3c9f-4970-bf1e-315fc3f0faf7",
     "showTitle": false,
     "title": ""
    },
    "id": "M3_icy0ZFyv1"
   },
   "source": [
    "Now it's your turn to put what you've learned about the Optuna library into practice! You will try to optimize the model hyperparameters for a classification problem. Select one of the best untuned models based on the results of LazyPredict, create an objective function and run the study. Good luck!"
   ]
  },
  {
   "cell_type": "code",
   "execution_count": 0,
   "metadata": {
    "application/vnd.databricks.v1+cell": {
     "cellMetadata": {
      "byteLimit": 2048000,
      "rowLimit": 10000
     },
     "inputWidgets": {},
     "nuid": "a27dde39-dfbb-4148-af8a-1541773d4107",
     "showTitle": false,
     "title": ""
    },
    "id": "biRWBSFNHV4d"
   },
   "outputs": [],
   "source": [
    "# Task: Import titanic.csv dataset\n",
    "\n",
    "titanic_df = ..."
   ]
  },
  {
   "cell_type": "code",
   "execution_count": 0,
   "metadata": {
    "application/vnd.databricks.v1+cell": {
     "cellMetadata": {},
     "inputWidgets": {},
     "nuid": "cbfeb1fa-6712-46eb-abd0-2092ebf8bfc9",
     "showTitle": false,
     "title": ""
    }
   },
   "outputs": [],
   "source": [
    "X = titanic_df[['Sex', 'Embarked', 'Pclass', 'Age', 'Survived']]\n",
    "y = titanic_df[['Survived']]"
   ]
  },
  {
   "cell_type": "code",
   "execution_count": 0,
   "metadata": {
    "application/vnd.databricks.v1+cell": {
     "cellMetadata": {
      "byteLimit": 2048000,
      "rowLimit": 10000
     },
     "inputWidgets": {},
     "nuid": "30c07bf1-6cee-4dc6-8a76-35d9fb0faa6b",
     "showTitle": false,
     "title": ""
    },
    "id": "f_-dJEpxIE9a"
   },
   "outputs": [
    {
     "output_type": "display_data",
     "data": {
      "text/plain": [
       ""
      ]
     },
     "metadata": {
      "application/vnd.databricks.v1+output": {
       "arguments": {},
       "data": "",
       "errorSummary": "Command skipped",
       "errorTraceType": "ansi",
       "metadata": {},
       "type": "ipynbError"
      }
     },
     "output_type": "display_data"
    }
   ],
   "source": [
    "# Task: split the dataset into train and test sets\n",
    "\n",
    "..."
   ]
  },
  {
   "cell_type": "code",
   "execution_count": 0,
   "metadata": {
    "application/vnd.databricks.v1+cell": {
     "cellMetadata": {
      "byteLimit": 2048000,
      "rowLimit": 10000
     },
     "inputWidgets": {},
     "nuid": "cd1c79ad-6154-4554-9758-61dcd76d60a9",
     "showTitle": false,
     "title": ""
    },
    "id": "IWl5fCAKIUY-"
   },
   "outputs": [
    {
     "output_type": "display_data",
     "data": {
      "text/plain": [
       ""
      ]
     },
     "metadata": {
      "application/vnd.databricks.v1+output": {
       "arguments": {},
       "data": "",
       "errorSummary": "Command skipped",
       "errorTraceType": "ansi",
       "metadata": {},
       "type": "ipynbError"
      }
     },
     "output_type": "display_data"
    }
   ],
   "source": [
    "# Choose one of the best untuned model based on lazypredict results (see notebook AutoML tools: LazyPredict & PyCaret)\n",
    "# Find documentation for this model and check which hyperparameters you can tune\n",
    "\n",
    "# Define objective function\n",
    "def objective(trial):\n",
    "  ...\n",
    "# Note: use classification score function!\n",
    "\n",
    "# create a new study\n",
    "study = ...\n",
    "\n",
    "# optimize an objective function\n",
    "...\n",
    "\n",
    "# print the results\n",
    "..."
   ]
  },
  {
   "cell_type": "markdown",
   "metadata": {
    "application/vnd.databricks.v1+cell": {
     "cellMetadata": {
      "byteLimit": 2048000,
      "rowLimit": 10000
     },
     "inputWidgets": {},
     "nuid": "4231a756-87fc-4393-84f8-4c7b2d016376",
     "showTitle": false,
     "title": ""
    },
    "id": "h1H0Vlg6IT73"
   },
   "source": [
    "Congratulations! :) You finished the notebook about hyperparameter optimization with Optuna.\n",
    "\n",
    "This notebook has provided an introduction to the Optuna library and its significance in automating hyperparameter tuning for machine learning models. By utilizing its functionalities, we efficiently tuned the hyperparameters for a regression and classification problems.\n",
    "\n",
    "We encourage you to explore the Optuna documentation further.\n",
    "\n",
    "**Documentation:**\n",
    "\n",
    "https://optuna.readthedocs.io/en/stable/reference/index.html.\n",
    "\n",
    "Keep up the excellent work!"
   ]
  }
 ],
 "metadata": {
  "application/vnd.databricks.v1+notebook": {
   "dashboards": [],
   "language": "python",
   "notebookMetadata": {
    "pythonIndentUnit": 2
   },
   "notebookName": "2.2_AutoML_tools:_Hyperparameter_Optimization_with_Optuna",
   "widgets": {}
  },
  "colab": {
   "provenance": []
  },
  "kernelspec": {
   "display_name": "Python 3",
   "name": "python3"
  },
  "language_info": {
   "name": "python"
  }
 },
 "nbformat": 4,
 "nbformat_minor": 0
}
