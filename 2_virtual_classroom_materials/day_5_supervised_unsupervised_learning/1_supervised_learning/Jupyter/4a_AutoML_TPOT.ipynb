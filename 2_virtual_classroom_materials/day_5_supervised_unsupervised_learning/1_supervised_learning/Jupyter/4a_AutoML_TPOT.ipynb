{
 "cells": [
  {
   "cell_type": "markdown",
   "metadata": {
    "application/vnd.databricks.v1+cell": {
     "cellMetadata": {},
     "inputWidgets": {},
     "nuid": "96dd6b28-a6be-47dd-aa36-e619bb3f440e",
     "showTitle": false,
     "title": ""
    },
    "id": "lX5YG_atbPvY"
   },
   "source": [
    "# AutoML tools: TPOT"
   ]
  },
  {
   "cell_type": "markdown",
   "metadata": {
    "application/vnd.databricks.v1+cell": {
     "cellMetadata": {},
     "inputWidgets": {},
     "nuid": "ec32f92f-325a-4fdf-b94a-dbf9be44c888",
     "showTitle": false,
     "title": ""
    },
    "id": "_UdnSqIsR-Zs"
   },
   "source": [
    "In this notebook, we will explore how to use **TPOT** to automatically optimize machine learning pipelines.\n",
    "\n",
    "TPOT, which stands for **Tree-based Pipeline Optimization Tool**, is an open-source AutoML library in Python. It utilizes **genetic programming** to automate the process of feature engineering, model selection, and hyperparameter tuning. TPOT generates and evaluates a population of pipelines, evolving them over generations to identify the most effective combination of data preprocessing steps and machine learning models.\n",
    "\n",
    "Before we preceed, let's install TPOT library."
   ]
  },
  {
   "cell_type": "code",
   "execution_count": 0,
   "metadata": {
    "application/vnd.databricks.v1+cell": {
     "cellMetadata": {
      "byteLimit": 2048000,
      "rowLimit": 10000
     },
     "inputWidgets": {},
     "nuid": "8bb9057b-1e3a-47ba-892f-6a666811211e",
     "showTitle": false,
     "title": ""
    },
    "colab": {
     "base_uri": "https://localhost:8080/"
    },
    "id": "G0M62LTzRofl",
    "outputId": "010cb117-02d4-4c18-85b6-73f3650b2841"
   },
   "outputs": [],
   "source": [
    "!pip install -q tpot"
   ]
  },
  {
   "cell_type": "markdown",
   "metadata": {
    "application/vnd.databricks.v1+cell": {
     "cellMetadata": {},
     "inputWidgets": {},
     "nuid": "700a951e-8a77-4517-a6de-71320b4876c6",
     "showTitle": false,
     "title": ""
    },
    "id": "xsdqJCEbUUdE"
   },
   "source": [
    "Let's start by importing the necessary libraries and loading the Boston dataset for regression."
   ]
  },
  {
   "cell_type": "code",
   "execution_count": 0,
   "metadata": {
    "application/vnd.databricks.v1+cell": {
     "cellMetadata": {
      "byteLimit": 2048000,
      "rowLimit": 10000
     },
     "inputWidgets": {},
     "nuid": "251de24e-2929-47d1-9c9a-8ac4b912a8c7",
     "showTitle": false,
     "title": ""
    },
    "id": "cCKP5kSvUTh4"
   },
   "outputs": [],
   "source": [
    "import numpy as np\n",
    "import pandas as pd\n",
    "import tpot\n",
    "from tpot import TPOTRegressor, TPOTClassifier\n",
    "from sklearn.model_selection import train_test_split"
   ]
  },
  {
   "cell_type": "markdown",
   "metadata": {
    "application/vnd.databricks.v1+cell": {
     "cellMetadata": {},
     "inputWidgets": {},
     "nuid": "d1913663-87c3-4b2b-9322-0768c7bd3d44",
     "showTitle": false,
     "title": ""
    },
    "id": "ysEcECzNWKzU"
   },
   "source": [
    "## Regression with TPOT"
   ]
  },
  {
   "cell_type": "code",
   "execution_count": 0,
   "metadata": {
    "application/vnd.databricks.v1+cell": {
     "cellMetadata": {
      "byteLimit": 2048000,
      "rowLimit": 10000
     },
     "inputWidgets": {},
     "nuid": "9c7ba0bb-2804-4974-bffc-d625fcb4e233",
     "showTitle": false,
     "title": ""
    },
    "id": "it3h3JMNUyNc"
   },
   "outputs": [],
   "source": [
    "# Load Boston dataset\n",
    "boston_df = pd.read_csv(\"../../Data/Boston.csv\")\n",
    "\n",
    "X = boston_df.iloc[:, 1:14]\n",
    "y = boston_df.iloc[:, -1]\n",
    "\n",
    "# Split the Boston data into training and testing sets\n",
    "X_train, X_test, y_train, y_test = train_test_split(X, y, test_size=0.2, random_state=0)"
   ]
  },
  {
   "cell_type": "markdown",
   "metadata": {
    "application/vnd.databricks.v1+cell": {
     "cellMetadata": {},
     "inputWidgets": {},
     "nuid": "2bd5b4c0-2e2c-47a0-819f-b14ee6397582",
     "showTitle": false,
     "title": ""
    },
    "id": "dhOIwtwwWOF-"
   },
   "source": [
    "The TPOTRegressor performs an intelligent search over machine learning pipelines that can contain supervised regression models, preprocessors, feature selection techniques, and any other estimator or transformer that follows the scikit-learn API. The TPOTRegressor will also search over the hyperparameters of all objects in the pipeline.\n",
    "\n",
    "TPOT Regressor provides various parameters to control the optimization process, including:\n",
    "\n",
    "* generations: The number of generations (iterations) for the genetic\n",
    "optimization process.\n",
    "* population_size: The number of pipelines to maintain in each generation.\n",
    "* max_time_mins: The maximum time (in minutes) that TPOT should run for optimization.\n",
    "* scoring: The performance metric used to evaluate the pipelines (e.g., 'neg_mean_squared_error', 'r2', etc.).\n",
    "* cv: The number of cross-validation folds to use during pipeline evaluation.\n",
    "* verbosity: The level of verbosity for output during optimization (higher values provide more details).\n",
    "\n",
    "Now, let's create an instance of TPOTRegressor and let it search for the best regression pipeline on the Boston dataset:"
   ]
  },
  {
   "cell_type": "code",
   "execution_count": 0,
   "metadata": {
    "application/vnd.databricks.v1+cell": {
     "cellMetadata": {
      "byteLimit": 2048000,
      "rowLimit": 10000
     },
     "inputWidgets": {},
     "nuid": "c806694b-ecf8-4e1f-9b0f-b62578e330e8",
     "showTitle": false,
     "title": ""
    },
    "colab": {
     "base_uri": "https://localhost:8080/",
     "height": 303,
     "referenced_widgets": [
      "911394f071ad45ee9b9f70c529b96f30",
      "9e04503a01af4d0f9be405eeeb8eaaec",
      "7a5ce44ab6e2478d8adce62bd9e6c113",
      "46a5fe36b493445eb1a8f730a59239b4",
      "e2ed850bdbb64d4fa3d8848d0b7fb431",
      "05280afe7f7b4386a3970e6870365ddb",
      "302f0e5b11f24b90b37777ae2fbd3242",
      "7e074be096b14c8abd777f7d3ed41d05",
      "09bd68865b0e44948c6ac54d75f1cdef",
      "edfc681360e242d2bf3b3e38442af613",
      "b8ed4ac0c85f4fe7b370638648472752"
     ]
    },
    "id": "A0taV6g5WPZb",
    "outputId": "393d3d52-2832-4945-e834-94c11da91510"
   },
   "outputs": [],
   "source": [
    "# Create a TPOTRegressor instance\n",
    "tpot_reg = TPOTRegressor(generations=5, population_size=50, verbosity=2, random_state=42)\n",
    "\n",
    "# Fit TPOT on the training data for regression\n",
    "tpot_reg.fit(X_train, y_train)"
   ]
  },
  {
   "cell_type": "code",
   "execution_count": 0,
   "metadata": {
    "application/vnd.databricks.v1+cell": {
     "cellMetadata": {
      "byteLimit": 2048000,
      "rowLimit": 10000
     },
     "inputWidgets": {},
     "nuid": "a414a007-f68b-435c-928b-8927333ab3b9",
     "showTitle": false,
     "title": ""
    },
    "colab": {
     "base_uri": "https://localhost:8080/"
    },
    "id": "adlnupm9YAqs",
    "outputId": "9120cccf-a1cd-459a-b2fc-a1198865446d"
   },
   "outputs": [],
   "source": [
    "# Evaluate the best regression pipeline on the test set\n",
    "best_pipeline_reg = tpot_reg.fitted_pipeline_\n",
    "test_score_reg = best_pipeline_reg.score(X_test, y_test)\n",
    "print(f'Test Set R^2 Score (Regression): {test_score_reg:.3f}')"
   ]
  },
  {
   "cell_type": "markdown",
   "metadata": {
    "application/vnd.databricks.v1+cell": {
     "cellMetadata": {},
     "inputWidgets": {},
     "nuid": "20f5d298-fe7f-4da8-a967-fdc405122d29",
     "showTitle": false,
     "title": ""
    },
    "id": "zZ4pFLiyanA4"
   },
   "source": [
    "## Classification with TPOT"
   ]
  },
  {
   "cell_type": "markdown",
   "metadata": {
    "application/vnd.databricks.v1+cell": {
     "cellMetadata": {},
     "inputWidgets": {},
     "nuid": "f4fc0635-bbbe-4bdb-b64c-1b5bfc60629a",
     "showTitle": false,
     "title": ""
    },
    "id": "cFJqfAB6biTa"
   },
   "source": [
    "*You may use the documentation as a guide:*\n",
    "\n",
    "*http://epistasislab.github.io/tpot/api/*"
   ]
  },
  {
   "cell_type": "code",
   "execution_count": 0,
   "metadata": {
    "application/vnd.databricks.v1+cell": {
     "cellMetadata": {
      "byteLimit": 2048000,
      "rowLimit": 10000
     },
     "inputWidgets": {},
     "nuid": "6bb32f04-f5c6-4e49-951f-c07edb6a6942",
     "showTitle": false,
     "title": ""
    },
    "id": "8asPOgpUaqjf"
   },
   "outputs": [],
   "source": [
    "# Task: Import titanic.csv dataset\n",
    "\n",
    "titanic_df = ..."
   ]
  },
  {
   "cell_type": "code",
   "execution_count": 0,
   "metadata": {
    "application/vnd.databricks.v1+cell": {
     "cellMetadata": {},
     "inputWidgets": {},
     "nuid": "94f65208-8f50-4990-91ec-e9a42e8e7adb",
     "showTitle": false,
     "title": ""
    }
   },
   "outputs": [],
   "source": [
    "X = titanic_df[['Sex', 'Embarked', 'Pclass', 'Age', 'Survived']]\n",
    "y = titanic_df[['Survived']]"
   ]
  },
  {
   "cell_type": "code",
   "execution_count": 0,
   "metadata": {
    "application/vnd.databricks.v1+cell": {
     "cellMetadata": {
      "byteLimit": 2048000,
      "rowLimit": 10000
     },
     "inputWidgets": {},
     "nuid": "4a4043c9-e284-47d5-86dd-511f74ff796e",
     "showTitle": false,
     "title": ""
    },
    "id": "CTr0k3nta0Du"
   },
   "outputs": [],
   "source": [
    "# Task: split the dataset into train and test sets\n",
    "\n",
    "..."
   ]
  },
  {
   "cell_type": "code",
   "execution_count": 0,
   "metadata": {
    "application/vnd.databricks.v1+cell": {
     "cellMetadata": {
      "byteLimit": 2048000,
      "rowLimit": 10000
     },
     "inputWidgets": {},
     "nuid": "4a5036ae-586e-4600-a98f-4a4680a53119",
     "showTitle": false,
     "title": ""
    },
    "id": "8KEulpUPa2uS"
   },
   "outputs": [],
   "source": [
    "# Task: Create a TPOTClassifier instance\n",
    "...\n",
    "\n",
    "# Task: Fit TPOT on the training data for classification\n",
    "..."
   ]
  },
  {
   "cell_type": "code",
   "execution_count": 0,
   "metadata": {
    "application/vnd.databricks.v1+cell": {
     "cellMetadata": {
      "byteLimit": 2048000,
      "rowLimit": 10000
     },
     "inputWidgets": {},
     "nuid": "3793e66a-1998-4598-9025-91374db4a287",
     "showTitle": false,
     "title": ""
    },
    "id": "AOb7Xx-KbDw0"
   },
   "outputs": [],
   "source": [
    "# Task: Evaluate the best classification pipeline on the test set\n",
    "..."
   ]
  },
  {
   "cell_type": "markdown",
   "metadata": {
    "application/vnd.databricks.v1+cell": {
     "cellMetadata": {},
     "inputWidgets": {},
     "nuid": "8e6175f5-d91d-4b39-8fe1-06ee889a6446",
     "showTitle": false,
     "title": ""
    },
    "id": "Ehv6MWDsYdfj"
   },
   "source": [
    "In this notebook, we used TPOT, a powerful AutoML library, to automate the process of optimizing machine learning pipelines for both regression and classification tasks. We applied TPOT on two different datasets: the Boston dataset for regression and the Titanic dataset for classification.\n",
    "\n",
    "Using TPOT, we significantly reduced the manual effort of hyperparameter tuning and pipeline construction while achieving competitive performance in both tasks. TPOT is a valuable tool for automating the machine learning workflow and is worth exploring further for various datasets and tasks.\n",
    "\n",
    "We highly recommend delving deeper into the documentation of TPOT to gain a comprehensive understanding of its functionalities and capabilities.\n",
    "\n",
    "**Documentation:**\n",
    "\n",
    "http://epistasislab.github.io/tpot/\n",
    "\n",
    "\n",
    "\n",
    "Happy automating!"
   ]
  }
 ],
 "metadata": {
  "application/vnd.databricks.v1+notebook": {
   "dashboards": [],
   "language": "python",
   "notebookMetadata": {
    "pythonIndentUnit": 2
   },
   "notebookName": "2b_AutoML_tools_TPOT",
   "widgets": {}
  },
  "colab": {
   "provenance": []
  },
  "kernelspec": {
   "display_name": "Python 3",
   "name": "python3"
  },
  "language_info": {
   "name": "python"
  },
  "widgets": {
   "application/vnd.jupyter.widget-state+json": {
    "05280afe7f7b4386a3970e6870365ddb": {
     "model_module": "@jupyter-widgets/base",
     "model_module_version": "1.2.0",
     "model_name": "LayoutModel",
     "state": {
      "_model_module": "@jupyter-widgets/base",
      "_model_module_version": "1.2.0",
      "_model_name": "LayoutModel",
      "_view_count": null,
      "_view_module": "@jupyter-widgets/base",
      "_view_module_version": "1.2.0",
      "_view_name": "LayoutView",
      "align_content": null,
      "align_items": null,
      "align_self": null,
      "border": null,
      "bottom": null,
      "display": null,
      "flex": null,
      "flex_flow": null,
      "grid_area": null,
      "grid_auto_columns": null,
      "grid_auto_flow": null,
      "grid_auto_rows": null,
      "grid_column": null,
      "grid_gap": null,
      "grid_row": null,
      "grid_template_areas": null,
      "grid_template_columns": null,
      "grid_template_rows": null,
      "height": null,
      "justify_content": null,
      "justify_items": null,
      "left": null,
      "margin": null,
      "max_height": null,
      "max_width": null,
      "min_height": null,
      "min_width": null,
      "object_fit": null,
      "object_position": null,
      "order": null,
      "overflow": null,
      "overflow_x": null,
      "overflow_y": null,
      "padding": null,
      "right": null,
      "top": null,
      "visibility": null,
      "width": null
     }
    },
    "09bd68865b0e44948c6ac54d75f1cdef": {
     "model_module": "@jupyter-widgets/controls",
     "model_module_version": "1.5.0",
     "model_name": "ProgressStyleModel",
     "state": {
      "_model_module": "@jupyter-widgets/controls",
      "_model_module_version": "1.5.0",
      "_model_name": "ProgressStyleModel",
      "_view_count": null,
      "_view_module": "@jupyter-widgets/base",
      "_view_module_version": "1.2.0",
      "_view_name": "StyleView",
      "bar_color": null,
      "description_width": ""
     }
    },
    "302f0e5b11f24b90b37777ae2fbd3242": {
     "model_module": "@jupyter-widgets/controls",
     "model_module_version": "1.5.0",
     "model_name": "DescriptionStyleModel",
     "state": {
      "_model_module": "@jupyter-widgets/controls",
      "_model_module_version": "1.5.0",
      "_model_name": "DescriptionStyleModel",
      "_view_count": null,
      "_view_module": "@jupyter-widgets/base",
      "_view_module_version": "1.2.0",
      "_view_name": "StyleView",
      "description_width": ""
     }
    },
    "46a5fe36b493445eb1a8f730a59239b4": {
     "model_module": "@jupyter-widgets/controls",
     "model_module_version": "1.5.0",
     "model_name": "HTMLModel",
     "state": {
      "_dom_classes": [],
      "_model_module": "@jupyter-widgets/controls",
      "_model_module_version": "1.5.0",
      "_model_name": "HTMLModel",
      "_view_count": null,
      "_view_module": "@jupyter-widgets/controls",
      "_view_module_version": "1.5.0",
      "_view_name": "HTMLView",
      "description": "",
      "description_tooltip": null,
      "layout": "IPY_MODEL_edfc681360e242d2bf3b3e38442af613",
      "placeholder": "​",
      "style": "IPY_MODEL_b8ed4ac0c85f4fe7b370638648472752",
      "value": " 300/300 [05:49&lt;00:00,  1.23s/pipeline]"
     }
    },
    "7a5ce44ab6e2478d8adce62bd9e6c113": {
     "model_module": "@jupyter-widgets/controls",
     "model_module_version": "1.5.0",
     "model_name": "FloatProgressModel",
     "state": {
      "_dom_classes": [],
      "_model_module": "@jupyter-widgets/controls",
      "_model_module_version": "1.5.0",
      "_model_name": "FloatProgressModel",
      "_view_count": null,
      "_view_module": "@jupyter-widgets/controls",
      "_view_module_version": "1.5.0",
      "_view_name": "ProgressView",
      "bar_style": "",
      "description": "",
      "description_tooltip": null,
      "layout": "IPY_MODEL_7e074be096b14c8abd777f7d3ed41d05",
      "max": 300,
      "min": 0,
      "orientation": "horizontal",
      "style": "IPY_MODEL_09bd68865b0e44948c6ac54d75f1cdef",
      "value": 300
     }
    },
    "7e074be096b14c8abd777f7d3ed41d05": {
     "model_module": "@jupyter-widgets/base",
     "model_module_version": "1.2.0",
     "model_name": "LayoutModel",
     "state": {
      "_model_module": "@jupyter-widgets/base",
      "_model_module_version": "1.2.0",
      "_model_name": "LayoutModel",
      "_view_count": null,
      "_view_module": "@jupyter-widgets/base",
      "_view_module_version": "1.2.0",
      "_view_name": "LayoutView",
      "align_content": null,
      "align_items": null,
      "align_self": null,
      "border": null,
      "bottom": null,
      "display": null,
      "flex": null,
      "flex_flow": null,
      "grid_area": null,
      "grid_auto_columns": null,
      "grid_auto_flow": null,
      "grid_auto_rows": null,
      "grid_column": null,
      "grid_gap": null,
      "grid_row": null,
      "grid_template_areas": null,
      "grid_template_columns": null,
      "grid_template_rows": null,
      "height": null,
      "justify_content": null,
      "justify_items": null,
      "left": null,
      "margin": null,
      "max_height": null,
      "max_width": null,
      "min_height": null,
      "min_width": null,
      "object_fit": null,
      "object_position": null,
      "order": null,
      "overflow": null,
      "overflow_x": null,
      "overflow_y": null,
      "padding": null,
      "right": null,
      "top": null,
      "visibility": null,
      "width": null
     }
    },
    "911394f071ad45ee9b9f70c529b96f30": {
     "model_module": "@jupyter-widgets/controls",
     "model_module_version": "1.5.0",
     "model_name": "HBoxModel",
     "state": {
      "_dom_classes": [],
      "_model_module": "@jupyter-widgets/controls",
      "_model_module_version": "1.5.0",
      "_model_name": "HBoxModel",
      "_view_count": null,
      "_view_module": "@jupyter-widgets/controls",
      "_view_module_version": "1.5.0",
      "_view_name": "HBoxView",
      "box_style": "",
      "children": [
       "IPY_MODEL_9e04503a01af4d0f9be405eeeb8eaaec",
       "IPY_MODEL_7a5ce44ab6e2478d8adce62bd9e6c113",
       "IPY_MODEL_46a5fe36b493445eb1a8f730a59239b4"
      ],
      "layout": "IPY_MODEL_e2ed850bdbb64d4fa3d8848d0b7fb431"
     }
    },
    "9e04503a01af4d0f9be405eeeb8eaaec": {
     "model_module": "@jupyter-widgets/controls",
     "model_module_version": "1.5.0",
     "model_name": "HTMLModel",
     "state": {
      "_dom_classes": [],
      "_model_module": "@jupyter-widgets/controls",
      "_model_module_version": "1.5.0",
      "_model_name": "HTMLModel",
      "_view_count": null,
      "_view_module": "@jupyter-widgets/controls",
      "_view_module_version": "1.5.0",
      "_view_name": "HTMLView",
      "description": "",
      "description_tooltip": null,
      "layout": "IPY_MODEL_05280afe7f7b4386a3970e6870365ddb",
      "placeholder": "​",
      "style": "IPY_MODEL_302f0e5b11f24b90b37777ae2fbd3242",
      "value": "Optimization Progress: 100%"
     }
    },
    "b8ed4ac0c85f4fe7b370638648472752": {
     "model_module": "@jupyter-widgets/controls",
     "model_module_version": "1.5.0",
     "model_name": "DescriptionStyleModel",
     "state": {
      "_model_module": "@jupyter-widgets/controls",
      "_model_module_version": "1.5.0",
      "_model_name": "DescriptionStyleModel",
      "_view_count": null,
      "_view_module": "@jupyter-widgets/base",
      "_view_module_version": "1.2.0",
      "_view_name": "StyleView",
      "description_width": ""
     }
    },
    "e2ed850bdbb64d4fa3d8848d0b7fb431": {
     "model_module": "@jupyter-widgets/base",
     "model_module_version": "1.2.0",
     "model_name": "LayoutModel",
     "state": {
      "_model_module": "@jupyter-widgets/base",
      "_model_module_version": "1.2.0",
      "_model_name": "LayoutModel",
      "_view_count": null,
      "_view_module": "@jupyter-widgets/base",
      "_view_module_version": "1.2.0",
      "_view_name": "LayoutView",
      "align_content": null,
      "align_items": null,
      "align_self": null,
      "border": null,
      "bottom": null,
      "display": null,
      "flex": null,
      "flex_flow": null,
      "grid_area": null,
      "grid_auto_columns": null,
      "grid_auto_flow": null,
      "grid_auto_rows": null,
      "grid_column": null,
      "grid_gap": null,
      "grid_row": null,
      "grid_template_areas": null,
      "grid_template_columns": null,
      "grid_template_rows": null,
      "height": null,
      "justify_content": null,
      "justify_items": null,
      "left": null,
      "margin": null,
      "max_height": null,
      "max_width": null,
      "min_height": null,
      "min_width": null,
      "object_fit": null,
      "object_position": null,
      "order": null,
      "overflow": null,
      "overflow_x": null,
      "overflow_y": null,
      "padding": null,
      "right": null,
      "top": null,
      "visibility": "hidden",
      "width": null
     }
    },
    "edfc681360e242d2bf3b3e38442af613": {
     "model_module": "@jupyter-widgets/base",
     "model_module_version": "1.2.0",
     "model_name": "LayoutModel",
     "state": {
      "_model_module": "@jupyter-widgets/base",
      "_model_module_version": "1.2.0",
      "_model_name": "LayoutModel",
      "_view_count": null,
      "_view_module": "@jupyter-widgets/base",
      "_view_module_version": "1.2.0",
      "_view_name": "LayoutView",
      "align_content": null,
      "align_items": null,
      "align_self": null,
      "border": null,
      "bottom": null,
      "display": null,
      "flex": null,
      "flex_flow": null,
      "grid_area": null,
      "grid_auto_columns": null,
      "grid_auto_flow": null,
      "grid_auto_rows": null,
      "grid_column": null,
      "grid_gap": null,
      "grid_row": null,
      "grid_template_areas": null,
      "grid_template_columns": null,
      "grid_template_rows": null,
      "height": null,
      "justify_content": null,
      "justify_items": null,
      "left": null,
      "margin": null,
      "max_height": null,
      "max_width": null,
      "min_height": null,
      "min_width": null,
      "object_fit": null,
      "object_position": null,
      "order": null,
      "overflow": null,
      "overflow_x": null,
      "overflow_y": null,
      "padding": null,
      "right": null,
      "top": null,
      "visibility": null,
      "width": null
     }
    }
   }
  }
 },
 "nbformat": 4,
 "nbformat_minor": 0
}
