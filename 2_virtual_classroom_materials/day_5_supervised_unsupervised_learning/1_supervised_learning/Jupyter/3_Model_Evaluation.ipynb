{
 "cells": [
  {
   "cell_type": "markdown",
   "metadata": {
    "application/vnd.databricks.v1+cell": {
     "cellMetadata": {},
     "inputWidgets": {},
     "nuid": "078e693d-1b61-4acf-acb5-8238c8a48292",
     "showTitle": false,
     "title": ""
    }
   },
   "source": [
    "# Model Evaluation: Classification"
   ]
  },
  {
   "cell_type": "markdown",
   "metadata": {
    "application/vnd.databricks.v1+cell": {
     "cellMetadata": {
      "byteLimit": 2048000,
      "rowLimit": 10000
     },
     "inputWidgets": {},
     "nuid": "6f1cad03-c91a-48e4-a81e-0d7248dfb1f9",
     "showTitle": false,
     "title": ""
    }
   },
   "source": [
    "Evaluating the performance of classification models is a critical aspect of building effective predictive models. In this notebook we are going to explore various metrics for binary classification tasks:\n",
    "\n",
    "* **Accuracy**\n",
    "\n",
    "* **F1 score**\n",
    "\n",
    "* **ROC AUC**\n",
    "\n",
    "* **PR AUC**\n",
    "\n",
    "\n",
    "Which of these metrics is better? When and how should we use them? What are they good for?"
   ]
  },
  {
   "cell_type": "markdown",
   "metadata": {
    "application/vnd.databricks.v1+cell": {
     "cellMetadata": {
      "byteLimit": 2048000,
      "rowLimit": 10000
     },
     "inputWidgets": {},
     "nuid": "594509f4-7175-4a74-8a76-beff7b6fadf3",
     "showTitle": false,
     "title": ""
    }
   },
   "source": [
    "## Accuracy\n",
    "\n",
    "Accuracy measures the proportion of correctly predicted instances among the total instances in a dataset. In other words, accuracy tells you how well the model's predictions match the actual outcomes.\n",
    "\n",
    "**Accuracy = (Number of Correct Predictions)/(Total Number of Predictions)**\n",
    "\n",
    "\n",
    "When does it make sense to use it?\n",
    "* You should not use accuracy on imbalanced datasets. In situations where the classes are imbalanced, meaning one class has significantly more instances than the others, accuracy can be misleading. A model might achieve high accuracy by simply predicting the majority class all the time.\n",
    "* You can use it when every class is equally important to you and errors are equally costly. In some applications, the cost of making a particular type of error might be much higher than the others. For instance, in medical diagnosis, a false negative (saying a person is healthy when they are not) can be more critical than a false positive. Accuracy doesn't take into account the severity of different types of errors."
   ]
  },
  {
   "cell_type": "markdown",
   "metadata": {
    "application/vnd.databricks.v1+cell": {
     "cellMetadata": {
      "byteLimit": 2048000,
      "rowLimit": 10000
     },
     "inputWidgets": {},
     "nuid": "288bb2b5-7a44-415b-9686-addd2347fa96",
     "showTitle": false,
     "title": ""
    }
   },
   "source": [
    "## F1 Score\n",
    "\n",
    "The F1 score is the **harmonic mean of precision and recall**. \n",
    "\n",
    "Precision is the ratio of true positive predictions to the total predicted positives.\n",
    "\n",
    "**Precision = tp/(tp+fp)**\n",
    "\n",
    "Recall is the ratio of true positive predictions to the total actual positives.\n",
    "\n",
    "**Recall = tp/(tp+fn)**\n",
    "\n",
    "The formula for calculatng the F1 score is:\n",
    "\n",
    "**F1 = 2 x (Precision x Recall)/(Precision + Recall)**\n",
    "\n",
    "When does it make sense to use it?\n",
    "* When the positive class is more important for you.\n",
    "* In scenarios where the costs of different types of errors (false positives and false negatives) are not equal, the F1 score provides a balanced assessment of the trade-off between precision and recall. For instance, in medical diagnoses, a false negative (missing a disease) could be more severe than a false positive (wrongly diagnosing a healthy patient).\n",
    "* In fraud detection or anomaly detection, the class of interest (fraudulent cases or anomalies) is often the minority class. The F1 score is better suited to evaluate the model's performance in correctly identifying these rare occurrences.\n",
    "* In tasks like sentiment analysis, where the classes might not be perfectly balanced, the F1 score helps assess the model's performance when dealing with different levels of sentiment expressions."
   ]
  },
  {
   "cell_type": "markdown",
   "metadata": {
    "application/vnd.databricks.v1+cell": {
     "cellMetadata": {
      "byteLimit": 2048000,
      "rowLimit": 10000
     },
     "inputWidgets": {},
     "nuid": "8f520601-2b98-4d70-ba2d-381e76cb85cb",
     "showTitle": false,
     "title": ""
    }
   },
   "source": [
    "## ROC AUC Score\n",
    "\n",
    "\n",
    "The Receiver Operating Characteristic (ROC) curve and the Area Under the ROC Curve (ROC AUC) are popular evaluation metrics used in binary classification tasks. The ROC AUC score is particularly useful for assessing a model's ability to discriminate between positive and negative classes across different probability thresholds. \n",
    "\n",
    "The ROC AUC score measures the area under the ROC curve. The ROC curve is a graphical representation that illustrates the trade-off between:\n",
    "\n",
    "* true positive rate (TPR, recall)\n",
    "\n",
    "* false positive rate (FPR)\n",
    "\n",
    "**FPR = FP/(FP + TN)**\n",
    "\n",
    "as the classification threshold changes.\n",
    "\n",
    "AUC is the probability that the model ranks a random positive example more highly than a random negative example. \n",
    "\n",
    "*More about ROC AUC: https://developers.google.com/machine-learning/crash-course/classification/roc-and-auc*\n",
    "\n",
    "When does it make sense to use it?\n",
    "* You should not use it with heavily imbalanced dataset. False positive rate for highly imbalanced datasets is pulled down due to a large number of true negatives.\n",
    "* You should use it when you ultimately care about ranking predictions and not necessarily about outputting well-calibrated probabilities"
   ]
  },
  {
   "cell_type": "markdown",
   "metadata": {
    "application/vnd.databricks.v1+cell": {
     "cellMetadata": {
      "byteLimit": 2048000,
      "rowLimit": 10000
     },
     "inputWidgets": {},
     "nuid": "e4547fdc-2008-4356-996c-9ce0f18f59de",
     "showTitle": false,
     "title": ""
    }
   },
   "source": [
    "## PR AUC Score\n",
    "\n",
    "Precision-recall curve combines precision (PPV) and Recall (TPR) in a single visualization. The higher on y-axis your curve is the better your model performance. The higher the recall, the lower the precision. The PR AUC score measures the area under this curve. It quantifies the balance between precision and recall across various thresholds and provides a single value that ranges between 0 and 1. \n",
    "\n",
    "When does it make sense to use it?\n",
    "* The PR AUC score is especially relevant for imbalanced datasets, where the positive class (minority class) is significantly outnumbered by the negative class. \n",
    "* When the positive class is of particular interest, such as detecting rare diseases, fraud cases, anomalies, or relevant search results, the PR AUC score becomes essential. It emphasizes the model's ability to accurately identify positive instances while keeping false positives low.\n",
    "* When you want to choose the threshold that fits the business problem."
   ]
  },
  {
   "cell_type": "markdown",
   "metadata": {
    "application/vnd.databricks.v1+cell": {
     "cellMetadata": {},
     "inputWidgets": {},
     "nuid": "aad56c4f-de03-4814-a718-ffc9dea8202d",
     "showTitle": false,
     "title": ""
    }
   },
   "source": [
    "## Example: Fraud Detection"
   ]
  },
  {
   "cell_type": "markdown",
   "metadata": {
    "application/vnd.databricks.v1+cell": {
     "cellMetadata": {
      "byteLimit": 2048000,
      "rowLimit": 10000
     },
     "inputWidgets": {},
     "nuid": "291c02e9-ebb1-4c76-ab83-cc328a816a5e",
     "showTitle": false,
     "title": ""
    }
   },
   "source": [
    "We will work with a dataset https://www.kaggle.com/competitions/ieee-fraud-detection/data to detect fraudulent transactions. The dataset was transformed (https://github.com/neptune-ai/blog-binary-classification-metrics), so that it has 43 features, 66000 observations and the fraction of the positive class is 0.09."
   ]
  },
  {
   "cell_type": "code",
   "execution_count": 0,
   "metadata": {
    "application/vnd.databricks.v1+cell": {
     "cellMetadata": {
      "byteLimit": 2048000,
      "rowLimit": 10000
     },
     "inputWidgets": {},
     "nuid": "f85eced8-60ef-4e38-aba0-4c69c100b0d3",
     "showTitle": false,
     "title": ""
    }
   },
   "outputs": [
    {
     "output_type": "display_data",
     "data": {
      "application/vnd.databricks.v1+bamboolib_hint": "{\"pd.DataFrames\": [], \"version\": \"0.0.1\"}",
      "text/plain": []
     },
     "metadata": {},
     "output_type": "display_data"
    }
   ],
   "source": [
    "# Import all necessary libraries\n",
    "import pandas as pd\n",
    "import lightgbm\n",
    "from sklearn.metrics import accuracy_score, f1_score, roc_auc_score, average_precision_score, confusion_matrix, roc_curve, precision_recall_curve"
   ]
  },
  {
   "cell_type": "code",
   "execution_count": 0,
   "metadata": {
    "application/vnd.databricks.v1+cell": {
     "cellMetadata": {
      "byteLimit": 2048000,
      "rowLimit": 10000
     },
     "inputWidgets": {},
     "nuid": "ab441ccf-e9cb-4346-b2aa-013972dcfa0b",
     "showTitle": false,
     "title": ""
    }
   },
   "outputs": [],
   "source": [
    "train = pd.read_csv('Data/fraud_train.csv')\n",
    "test = pd.read_csv('Data/fraud_test.csv')"
   ]
  },
  {
   "cell_type": "markdown",
   "metadata": {
    "application/vnd.databricks.v1+cell": {
     "cellMetadata": {
      "byteLimit": 2048000,
      "rowLimit": 10000
     },
     "inputWidgets": {},
     "nuid": "289d181c-f0ef-4017-80a2-387ebb1bbe4a",
     "showTitle": false,
     "title": ""
    }
   },
   "source": [
    "### Brief exploration"
   ]
  },
  {
   "cell_type": "markdown",
   "metadata": {
    "application/vnd.databricks.v1+cell": {
     "cellMetadata": {
      "byteLimit": 2048000,
      "rowLimit": 10000
     },
     "inputWidgets": {},
     "nuid": "7aad693c-f85c-42ff-aeac-3b22e16a6317",
     "showTitle": false,
     "title": ""
    }
   },
   "source": [
    "Let's take a look at our dataset."
   ]
  },
  {
   "cell_type": "code",
   "execution_count": 0,
   "metadata": {
    "application/vnd.databricks.v1+cell": {
     "cellMetadata": {
      "byteLimit": 2048000,
      "rowLimit": 10000
     },
     "inputWidgets": {},
     "nuid": "c99bb3b3-0a15-435c-bcf1-547cbdb4781c",
     "showTitle": false,
     "title": ""
    }
   },
   "outputs": [
    {
     "output_type": "display_data",
     "data": {
      "text/html": [
       "<div>\n",
       "<style scoped>\n",
       "    .dataframe tbody tr th:only-of-type {\n",
       "        vertical-align: middle;\n",
       "    }\n",
       "\n",
       "    .dataframe tbody tr th {\n",
       "        vertical-align: top;\n",
       "    }\n",
       "\n",
       "    .dataframe thead th {\n",
       "        text-align: right;\n",
       "    }\n",
       "</style>\n",
       "<table border=\"1\" class=\"dataframe\">\n",
       "  <thead>\n",
       "    <tr style=\"text-align: right;\">\n",
       "      <th></th>\n",
       "      <th>isFraud</th>\n",
       "      <th>TransactionAmt</th>\n",
       "      <th>ProductCD</th>\n",
       "      <th>card1</th>\n",
       "      <th>card2</th>\n",
       "      <th>card3</th>\n",
       "      <th>card4</th>\n",
       "      <th>card5</th>\n",
       "      <th>card6</th>\n",
       "      <th>addr1</th>\n",
       "      <th>addr2</th>\n",
       "      <th>dist1</th>\n",
       "      <th>dist2</th>\n",
       "      <th>P_emaildomain</th>\n",
       "      <th>R_emaildomain</th>\n",
       "      <th>C1</th>\n",
       "      <th>C2</th>\n",
       "      <th>C3</th>\n",
       "      <th>C4</th>\n",
       "      <th>C5</th>\n",
       "      <th>C6</th>\n",
       "      <th>C7</th>\n",
       "      <th>C8</th>\n",
       "      <th>C9</th>\n",
       "      <th>C10</th>\n",
       "      <th>C11</th>\n",
       "      <th>C12</th>\n",
       "      <th>C13</th>\n",
       "      <th>C14</th>\n",
       "      <th>D1</th>\n",
       "      <th>D2</th>\n",
       "      <th>D3</th>\n",
       "      <th>D4</th>\n",
       "      <th>D5</th>\n",
       "      <th>D6</th>\n",
       "      <th>D7</th>\n",
       "      <th>D8</th>\n",
       "      <th>D9</th>\n",
       "      <th>D10</th>\n",
       "      <th>D11</th>\n",
       "      <th>D12</th>\n",
       "      <th>D13</th>\n",
       "      <th>D14</th>\n",
       "      <th>D15</th>\n",
       "    </tr>\n",
       "  </thead>\n",
       "  <tbody>\n",
       "    <tr>\n",
       "      <th>0</th>\n",
       "      <td>0</td>\n",
       "      <td>499.950</td>\n",
       "      <td>1.0</td>\n",
       "      <td>445.0</td>\n",
       "      <td>109.0</td>\n",
       "      <td>1.0</td>\n",
       "      <td>1.0</td>\n",
       "      <td>1.0</td>\n",
       "      <td>2.0</td>\n",
       "      <td>20.0</td>\n",
       "      <td>1.0</td>\n",
       "      <td>NaN</td>\n",
       "      <td>NaN</td>\n",
       "      <td>4.0</td>\n",
       "      <td>NaN</td>\n",
       "      <td>1.0</td>\n",
       "      <td>1.0</td>\n",
       "      <td>0.0</td>\n",
       "      <td>0.0</td>\n",
       "      <td>1.0</td>\n",
       "      <td>1.0</td>\n",
       "      <td>0.0</td>\n",
       "      <td>0.0</td>\n",
       "      <td>0.0</td>\n",
       "      <td>0.0</td>\n",
       "      <td>1.0</td>\n",
       "      <td>0.0</td>\n",
       "      <td>1.0</td>\n",
       "      <td>1.0</td>\n",
       "      <td>0.0</td>\n",
       "      <td>NaN</td>\n",
       "      <td>NaN</td>\n",
       "      <td>0.0</td>\n",
       "      <td>NaN</td>\n",
       "      <td>NaN</td>\n",
       "      <td>NaN</td>\n",
       "      <td>NaN</td>\n",
       "      <td>NaN</td>\n",
       "      <td>0.0</td>\n",
       "      <td>NaN</td>\n",
       "      <td>NaN</td>\n",
       "      <td>NaN</td>\n",
       "      <td>NaN</td>\n",
       "      <td>0.0</td>\n",
       "    </tr>\n",
       "    <tr>\n",
       "      <th>1</th>\n",
       "      <td>0</td>\n",
       "      <td>50.000</td>\n",
       "      <td>3.0</td>\n",
       "      <td>3017.0</td>\n",
       "      <td>23.0</td>\n",
       "      <td>1.0</td>\n",
       "      <td>1.0</td>\n",
       "      <td>1.0</td>\n",
       "      <td>2.0</td>\n",
       "      <td>3.0</td>\n",
       "      <td>1.0</td>\n",
       "      <td>NaN</td>\n",
       "      <td>NaN</td>\n",
       "      <td>5.0</td>\n",
       "      <td>6.0</td>\n",
       "      <td>1.0</td>\n",
       "      <td>1.0</td>\n",
       "      <td>0.0</td>\n",
       "      <td>1.0</td>\n",
       "      <td>0.0</td>\n",
       "      <td>1.0</td>\n",
       "      <td>0.0</td>\n",
       "      <td>1.0</td>\n",
       "      <td>0.0</td>\n",
       "      <td>1.0</td>\n",
       "      <td>1.0</td>\n",
       "      <td>0.0</td>\n",
       "      <td>1.0</td>\n",
       "      <td>1.0</td>\n",
       "      <td>0.0</td>\n",
       "      <td>NaN</td>\n",
       "      <td>NaN</td>\n",
       "      <td>NaN</td>\n",
       "      <td>NaN</td>\n",
       "      <td>NaN</td>\n",
       "      <td>NaN</td>\n",
       "      <td>509.541656</td>\n",
       "      <td>0.541666</td>\n",
       "      <td>NaN</td>\n",
       "      <td>NaN</td>\n",
       "      <td>NaN</td>\n",
       "      <td>NaN</td>\n",
       "      <td>663.0</td>\n",
       "      <td>NaN</td>\n",
       "    </tr>\n",
       "    <tr>\n",
       "      <th>2</th>\n",
       "      <td>0</td>\n",
       "      <td>49.000</td>\n",
       "      <td>1.0</td>\n",
       "      <td>2111.0</td>\n",
       "      <td>187.0</td>\n",
       "      <td>1.0</td>\n",
       "      <td>1.0</td>\n",
       "      <td>1.0</td>\n",
       "      <td>2.0</td>\n",
       "      <td>61.0</td>\n",
       "      <td>1.0</td>\n",
       "      <td>3.0</td>\n",
       "      <td>NaN</td>\n",
       "      <td>NaN</td>\n",
       "      <td>NaN</td>\n",
       "      <td>1.0</td>\n",
       "      <td>2.0</td>\n",
       "      <td>0.0</td>\n",
       "      <td>0.0</td>\n",
       "      <td>0.0</td>\n",
       "      <td>0.0</td>\n",
       "      <td>0.0</td>\n",
       "      <td>0.0</td>\n",
       "      <td>1.0</td>\n",
       "      <td>0.0</td>\n",
       "      <td>1.0</td>\n",
       "      <td>0.0</td>\n",
       "      <td>0.0</td>\n",
       "      <td>0.0</td>\n",
       "      <td>22.0</td>\n",
       "      <td>NaN</td>\n",
       "      <td>21.0</td>\n",
       "      <td>NaN</td>\n",
       "      <td>NaN</td>\n",
       "      <td>NaN</td>\n",
       "      <td>NaN</td>\n",
       "      <td>NaN</td>\n",
       "      <td>NaN</td>\n",
       "      <td>0.0</td>\n",
       "      <td>21.0</td>\n",
       "      <td>NaN</td>\n",
       "      <td>NaN</td>\n",
       "      <td>NaN</td>\n",
       "      <td>21.0</td>\n",
       "    </tr>\n",
       "    <tr>\n",
       "      <th>3</th>\n",
       "      <td>1</td>\n",
       "      <td>39.000</td>\n",
       "      <td>1.0</td>\n",
       "      <td>14.0</td>\n",
       "      <td>13.0</td>\n",
       "      <td>1.0</td>\n",
       "      <td>1.0</td>\n",
       "      <td>1.0</td>\n",
       "      <td>2.0</td>\n",
       "      <td>16.0</td>\n",
       "      <td>1.0</td>\n",
       "      <td>NaN</td>\n",
       "      <td>NaN</td>\n",
       "      <td>4.0</td>\n",
       "      <td>NaN</td>\n",
       "      <td>1.0</td>\n",
       "      <td>2.0</td>\n",
       "      <td>0.0</td>\n",
       "      <td>0.0</td>\n",
       "      <td>0.0</td>\n",
       "      <td>2.0</td>\n",
       "      <td>0.0</td>\n",
       "      <td>0.0</td>\n",
       "      <td>1.0</td>\n",
       "      <td>0.0</td>\n",
       "      <td>1.0</td>\n",
       "      <td>0.0</td>\n",
       "      <td>2.0</td>\n",
       "      <td>1.0</td>\n",
       "      <td>0.0</td>\n",
       "      <td>0.0</td>\n",
       "      <td>0.0</td>\n",
       "      <td>1.0</td>\n",
       "      <td>0.0</td>\n",
       "      <td>NaN</td>\n",
       "      <td>NaN</td>\n",
       "      <td>NaN</td>\n",
       "      <td>NaN</td>\n",
       "      <td>1.0</td>\n",
       "      <td>NaN</td>\n",
       "      <td>NaN</td>\n",
       "      <td>NaN</td>\n",
       "      <td>NaN</td>\n",
       "      <td>1.0</td>\n",
       "    </tr>\n",
       "    <tr>\n",
       "      <th>4</th>\n",
       "      <td>0</td>\n",
       "      <td>50.488</td>\n",
       "      <td>2.0</td>\n",
       "      <td>49.0</td>\n",
       "      <td>5.0</td>\n",
       "      <td>2.0</td>\n",
       "      <td>2.0</td>\n",
       "      <td>5.0</td>\n",
       "      <td>1.0</td>\n",
       "      <td>NaN</td>\n",
       "      <td>NaN</td>\n",
       "      <td>NaN</td>\n",
       "      <td>7.0</td>\n",
       "      <td>7.0</td>\n",
       "      <td>5.0</td>\n",
       "      <td>1.0</td>\n",
       "      <td>1.0</td>\n",
       "      <td>0.0</td>\n",
       "      <td>1.0</td>\n",
       "      <td>0.0</td>\n",
       "      <td>1.0</td>\n",
       "      <td>1.0</td>\n",
       "      <td>1.0</td>\n",
       "      <td>0.0</td>\n",
       "      <td>1.0</td>\n",
       "      <td>1.0</td>\n",
       "      <td>1.0</td>\n",
       "      <td>0.0</td>\n",
       "      <td>0.0</td>\n",
       "      <td>0.0</td>\n",
       "      <td>NaN</td>\n",
       "      <td>NaN</td>\n",
       "      <td>0.0</td>\n",
       "      <td>NaN</td>\n",
       "      <td>0.0</td>\n",
       "      <td>NaN</td>\n",
       "      <td>1.125000</td>\n",
       "      <td>0.125000</td>\n",
       "      <td>0.0</td>\n",
       "      <td>NaN</td>\n",
       "      <td>0.0</td>\n",
       "      <td>0.0</td>\n",
       "      <td>0.0</td>\n",
       "      <td>0.0</td>\n",
       "    </tr>\n",
       "  </tbody>\n",
       "</table>\n",
       "</div>"
      ]
     },
     "metadata": {
      "application/vnd.databricks.v1+output": {
       "addedWidgets": {},
       "arguments": {},
       "data": "<div>\n<style scoped>\n    .dataframe tbody tr th:only-of-type {\n        vertical-align: middle;\n    }\n\n    .dataframe tbody tr th {\n        vertical-align: top;\n    }\n\n    .dataframe thead th {\n        text-align: right;\n    }\n</style>\n<table border=\"1\" class=\"dataframe\">\n  <thead>\n    <tr style=\"text-align: right;\">\n      <th></th>\n      <th>isFraud</th>\n      <th>TransactionAmt</th>\n      <th>ProductCD</th>\n      <th>card1</th>\n      <th>card2</th>\n      <th>card3</th>\n      <th>card4</th>\n      <th>card5</th>\n      <th>card6</th>\n      <th>addr1</th>\n      <th>addr2</th>\n      <th>dist1</th>\n      <th>dist2</th>\n      <th>P_emaildomain</th>\n      <th>R_emaildomain</th>\n      <th>C1</th>\n      <th>C2</th>\n      <th>C3</th>\n      <th>C4</th>\n      <th>C5</th>\n      <th>C6</th>\n      <th>C7</th>\n      <th>C8</th>\n      <th>C9</th>\n      <th>C10</th>\n      <th>C11</th>\n      <th>C12</th>\n      <th>C13</th>\n      <th>C14</th>\n      <th>D1</th>\n      <th>D2</th>\n      <th>D3</th>\n      <th>D4</th>\n      <th>D5</th>\n      <th>D6</th>\n      <th>D7</th>\n      <th>D8</th>\n      <th>D9</th>\n      <th>D10</th>\n      <th>D11</th>\n      <th>D12</th>\n      <th>D13</th>\n      <th>D14</th>\n      <th>D15</th>\n    </tr>\n  </thead>\n  <tbody>\n    <tr>\n      <th>0</th>\n      <td>0</td>\n      <td>499.950</td>\n      <td>1.0</td>\n      <td>445.0</td>\n      <td>109.0</td>\n      <td>1.0</td>\n      <td>1.0</td>\n      <td>1.0</td>\n      <td>2.0</td>\n      <td>20.0</td>\n      <td>1.0</td>\n      <td>NaN</td>\n      <td>NaN</td>\n      <td>4.0</td>\n      <td>NaN</td>\n      <td>1.0</td>\n      <td>1.0</td>\n      <td>0.0</td>\n      <td>0.0</td>\n      <td>1.0</td>\n      <td>1.0</td>\n      <td>0.0</td>\n      <td>0.0</td>\n      <td>0.0</td>\n      <td>0.0</td>\n      <td>1.0</td>\n      <td>0.0</td>\n      <td>1.0</td>\n      <td>1.0</td>\n      <td>0.0</td>\n      <td>NaN</td>\n      <td>NaN</td>\n      <td>0.0</td>\n      <td>NaN</td>\n      <td>NaN</td>\n      <td>NaN</td>\n      <td>NaN</td>\n      <td>NaN</td>\n      <td>0.0</td>\n      <td>NaN</td>\n      <td>NaN</td>\n      <td>NaN</td>\n      <td>NaN</td>\n      <td>0.0</td>\n    </tr>\n    <tr>\n      <th>1</th>\n      <td>0</td>\n      <td>50.000</td>\n      <td>3.0</td>\n      <td>3017.0</td>\n      <td>23.0</td>\n      <td>1.0</td>\n      <td>1.0</td>\n      <td>1.0</td>\n      <td>2.0</td>\n      <td>3.0</td>\n      <td>1.0</td>\n      <td>NaN</td>\n      <td>NaN</td>\n      <td>5.0</td>\n      <td>6.0</td>\n      <td>1.0</td>\n      <td>1.0</td>\n      <td>0.0</td>\n      <td>1.0</td>\n      <td>0.0</td>\n      <td>1.0</td>\n      <td>0.0</td>\n      <td>1.0</td>\n      <td>0.0</td>\n      <td>1.0</td>\n      <td>1.0</td>\n      <td>0.0</td>\n      <td>1.0</td>\n      <td>1.0</td>\n      <td>0.0</td>\n      <td>NaN</td>\n      <td>NaN</td>\n      <td>NaN</td>\n      <td>NaN</td>\n      <td>NaN</td>\n      <td>NaN</td>\n      <td>509.541656</td>\n      <td>0.541666</td>\n      <td>NaN</td>\n      <td>NaN</td>\n      <td>NaN</td>\n      <td>NaN</td>\n      <td>663.0</td>\n      <td>NaN</td>\n    </tr>\n    <tr>\n      <th>2</th>\n      <td>0</td>\n      <td>49.000</td>\n      <td>1.0</td>\n      <td>2111.0</td>\n      <td>187.0</td>\n      <td>1.0</td>\n      <td>1.0</td>\n      <td>1.0</td>\n      <td>2.0</td>\n      <td>61.0</td>\n      <td>1.0</td>\n      <td>3.0</td>\n      <td>NaN</td>\n      <td>NaN</td>\n      <td>NaN</td>\n      <td>1.0</td>\n      <td>2.0</td>\n      <td>0.0</td>\n      <td>0.0</td>\n      <td>0.0</td>\n      <td>0.0</td>\n      <td>0.0</td>\n      <td>0.0</td>\n      <td>1.0</td>\n      <td>0.0</td>\n      <td>1.0</td>\n      <td>0.0</td>\n      <td>0.0</td>\n      <td>0.0</td>\n      <td>22.0</td>\n      <td>NaN</td>\n      <td>21.0</td>\n      <td>NaN</td>\n      <td>NaN</td>\n      <td>NaN</td>\n      <td>NaN</td>\n      <td>NaN</td>\n      <td>NaN</td>\n      <td>0.0</td>\n      <td>21.0</td>\n      <td>NaN</td>\n      <td>NaN</td>\n      <td>NaN</td>\n      <td>21.0</td>\n    </tr>\n    <tr>\n      <th>3</th>\n      <td>1</td>\n      <td>39.000</td>\n      <td>1.0</td>\n      <td>14.0</td>\n      <td>13.0</td>\n      <td>1.0</td>\n      <td>1.0</td>\n      <td>1.0</td>\n      <td>2.0</td>\n      <td>16.0</td>\n      <td>1.0</td>\n      <td>NaN</td>\n      <td>NaN</td>\n      <td>4.0</td>\n      <td>NaN</td>\n      <td>1.0</td>\n      <td>2.0</td>\n      <td>0.0</td>\n      <td>0.0</td>\n      <td>0.0</td>\n      <td>2.0</td>\n      <td>0.0</td>\n      <td>0.0</td>\n      <td>1.0</td>\n      <td>0.0</td>\n      <td>1.0</td>\n      <td>0.0</td>\n      <td>2.0</td>\n      <td>1.0</td>\n      <td>0.0</td>\n      <td>0.0</td>\n      <td>0.0</td>\n      <td>1.0</td>\n      <td>0.0</td>\n      <td>NaN</td>\n      <td>NaN</td>\n      <td>NaN</td>\n      <td>NaN</td>\n      <td>1.0</td>\n      <td>NaN</td>\n      <td>NaN</td>\n      <td>NaN</td>\n      <td>NaN</td>\n      <td>1.0</td>\n    </tr>\n    <tr>\n      <th>4</th>\n      <td>0</td>\n      <td>50.488</td>\n      <td>2.0</td>\n      <td>49.0</td>\n      <td>5.0</td>\n      <td>2.0</td>\n      <td>2.0</td>\n      <td>5.0</td>\n      <td>1.0</td>\n      <td>NaN</td>\n      <td>NaN</td>\n      <td>NaN</td>\n      <td>7.0</td>\n      <td>7.0</td>\n      <td>5.0</td>\n      <td>1.0</td>\n      <td>1.0</td>\n      <td>0.0</td>\n      <td>1.0</td>\n      <td>0.0</td>\n      <td>1.0</td>\n      <td>1.0</td>\n      <td>1.0</td>\n      <td>0.0</td>\n      <td>1.0</td>\n      <td>1.0</td>\n      <td>1.0</td>\n      <td>0.0</td>\n      <td>0.0</td>\n      <td>0.0</td>\n      <td>NaN</td>\n      <td>NaN</td>\n      <td>0.0</td>\n      <td>NaN</td>\n      <td>0.0</td>\n      <td>NaN</td>\n      <td>1.125000</td>\n      <td>0.125000</td>\n      <td>0.0</td>\n      <td>NaN</td>\n      <td>0.0</td>\n      <td>0.0</td>\n      <td>0.0</td>\n      <td>0.0</td>\n    </tr>\n  </tbody>\n</table>\n</div>",
       "datasetInfos": [],
       "metadata": {},
       "removedWidgets": [],
       "textData": null,
       "type": "htmlSandbox"
      }
     },
     "output_type": "display_data"
    }
   ],
   "source": [
    "train.head()"
   ]
  },
  {
   "cell_type": "markdown",
   "metadata": {
    "application/vnd.databricks.v1+cell": {
     "cellMetadata": {
      "byteLimit": 2048000,
      "rowLimit": 10000
     },
     "inputWidgets": {},
     "nuid": "ecb50e56-4384-443f-8f10-7f5eea12ef5a",
     "showTitle": false,
     "title": ""
    }
   },
   "source": [
    "Now we will check if our dataset is balanced."
   ]
  },
  {
   "cell_type": "code",
   "execution_count": 0,
   "metadata": {
    "application/vnd.databricks.v1+cell": {
     "cellMetadata": {
      "byteLimit": 2048000,
      "rowLimit": 10000
     },
     "inputWidgets": {},
     "nuid": "6ebfde60-6a24-4717-9c16-3331a76777f6",
     "showTitle": false,
     "title": ""
    }
   },
   "outputs": [
    {
     "output_type": "stream",
     "name": "stdout",
     "output_type": "stream",
     "text": [
      "Out[4]: 0    48000\n1     4819\nName: isFraud, dtype: int64"
     ]
    }
   ],
   "source": [
    "class_counts = train['isFraud'].value_counts()\n",
    "class_counts"
   ]
  },
  {
   "cell_type": "markdown",
   "metadata": {
    "application/vnd.databricks.v1+cell": {
     "cellMetadata": {
      "byteLimit": 2048000,
      "rowLimit": 10000
     },
     "inputWidgets": {},
     "nuid": "591d392c-a930-4308-b9bb-a86738651e2e",
     "showTitle": false,
     "title": ""
    }
   },
   "source": [
    "We can see that our data is **imbalanced**: fraudulent transactions (class = 1) account for one tenth of non-fraudulent transactions (class = 0)."
   ]
  },
  {
   "cell_type": "code",
   "execution_count": 0,
   "metadata": {
    "application/vnd.databricks.v1+cell": {
     "cellMetadata": {
      "byteLimit": 2048000,
      "rowLimit": 10000
     },
     "inputWidgets": {},
     "nuid": "c7c69e15-e978-4dad-9008-4337f6d1fdcb",
     "showTitle": false,
     "title": ""
    }
   },
   "outputs": [
    {
     "output_type": "stream",
     "name": "stdout",
     "output_type": "stream",
     "text": [
      "Out[5]: (52819, 44)"
     ]
    }
   ],
   "source": [
    "train.shape"
   ]
  },
  {
   "cell_type": "code",
   "execution_count": 0,
   "metadata": {
    "application/vnd.databricks.v1+cell": {
     "cellMetadata": {
      "byteLimit": 2048000,
      "rowLimit": 10000
     },
     "inputWidgets": {},
     "nuid": "2968d6bf-c088-4e1e-8382-0cb1401a3925",
     "showTitle": false,
     "title": ""
    }
   },
   "outputs": [
    {
     "output_type": "stream",
     "name": "stdout",
     "output_type": "stream",
     "text": [
      "Out[6]: (13205, 44)"
     ]
    }
   ],
   "source": [
    "test.shape"
   ]
  },
  {
   "cell_type": "code",
   "execution_count": 0,
   "metadata": {
    "application/vnd.databricks.v1+cell": {
     "cellMetadata": {
      "byteLimit": 2048000,
      "rowLimit": 10000
     },
     "inputWidgets": {},
     "nuid": "1676c49a-9863-49c2-98f6-37742b2a52ae",
     "showTitle": false,
     "title": ""
    }
   },
   "outputs": [],
   "source": [
    "feature_names = [col for col in train.columns if col not in ['isFraud']]\n",
    "\n",
    "# Split dataset\n",
    "X_train, y_train = train[feature_names], train['isFraud']\n",
    "X_test, y_test = test[feature_names], test['isFraud']"
   ]
  },
  {
   "cell_type": "code",
   "execution_count": 0,
   "metadata": {
    "application/vnd.databricks.v1+cell": {
     "cellMetadata": {
      "byteLimit": 2048000,
      "rowLimit": 10000
     },
     "inputWidgets": {},
     "nuid": "54d3fed5-9fb5-4c6c-886c-2e28e5b43e5c",
     "showTitle": false,
     "title": ""
    }
   },
   "outputs": [],
   "source": [
    "# Create a list of different hyperparameters\n",
    "parameters = [\n",
    "  {\n",
    "    'learning_rate': 0.1,\n",
    "    'n_estimators': 10\n",
    "  },\n",
    "  {\n",
    "    'learning_rate': 0.1,\n",
    "    'n_estimators': 100\n",
    "  },\n",
    "  {\n",
    "    'learning_rate': 0.1,\n",
    "    'n_estimators': 300\n",
    "  },\n",
    "  {\n",
    "    'learning_rate': 0.1,\n",
    "    'n_estimators': 600\n",
    "  },\n",
    "  {\n",
    "    'learning_rate': 0.1,\n",
    "    'n_estimators': 1500\n",
    "  },\n",
    "  {\n",
    "    'learning_rate': 0.05,\n",
    "    'n_estimators': 1500\n",
    "  },\n",
    "  {\n",
    "    'learning_rate': 0.05,\n",
    "    'n_estimators': 3000\n",
    "  }\n",
    "]"
   ]
  },
  {
   "cell_type": "code",
   "execution_count": 0,
   "metadata": {
    "application/vnd.databricks.v1+cell": {
     "cellMetadata": {
      "byteLimit": 2048000,
      "rowLimit": 10000
     },
     "inputWidgets": {},
     "nuid": "089e428d-e352-403e-9111-260c61a487b1",
     "showTitle": false,
     "title": ""
    }
   },
   "outputs": [],
   "source": [
    "results = []\n",
    "id = 0\n",
    "\n",
    "# Create models for different hyperparameters\n",
    "for config in parameters:\n",
    "  model = lightgbm.LGBMClassifier(random_state = 42, learning_rate = config['learning_rate'], n_estimators = config['n_estimators'])\n",
    "  model.fit(X_train, y_train)\n",
    "  y_pred = model.predict(X_test)\n",
    "  y_prob = model.predict_proba(X_test)[:, 1]\n",
    "\n",
    "  accuracy = accuracy_score(y_test, y_pred)\n",
    "  f1 = f1_score(y_test, y_pred)\n",
    "  roc_auc = roc_auc_score(y_test, y_prob)\n",
    "  pr_auc = average_precision_score(y_test, y_prob)\n",
    "  \n",
    "  # Store results\n",
    "  result = {\n",
    "      'ID': id,\n",
    "      'Learning rate': config['learning_rate'],\n",
    "      'N_estimators': config['n_estimators'],\n",
    "      'Accuracy': accuracy,\n",
    "      'F1 Score': f1,\n",
    "      'ROC AUC': roc_auc,\n",
    "      'PR AUC': pr_auc,\n",
    "  }\n",
    "  results.append(result)\n",
    "  id += 1\n"
   ]
  },
  {
   "cell_type": "markdown",
   "metadata": {
    "application/vnd.databricks.v1+cell": {
     "cellMetadata": {
      "byteLimit": 2048000,
      "rowLimit": 10000
     },
     "inputWidgets": {},
     "nuid": "2ccaba52-b1fa-490f-ac1b-8d0844ba38aa",
     "showTitle": false,
     "title": ""
    }
   },
   "source": [
    "Let us take a look at the results and make conclusions."
   ]
  },
  {
   "cell_type": "code",
   "execution_count": 0,
   "metadata": {
    "application/vnd.databricks.v1+cell": {
     "cellMetadata": {
      "byteLimit": 2048000,
      "rowLimit": 10000
     },
     "inputWidgets": {},
     "nuid": "9c5933f7-17a9-4230-aba4-b3401858ee7c",
     "showTitle": false,
     "title": ""
    }
   },
   "outputs": [
    {
     "output_type": "stream",
     "name": "stdout",
     "output_type": "stream",
     "text": [
      "{'ID': 0, 'Learning rate': 0.1, 'N_estimators': 10, 'Accuracy': 0.9335100340780007, 'F1 Score': 0.4464060529634301, 'ROC AUC': 0.920529011065007, 'PR AUC': 0.6949494765998947}\n{'ID': 1, 'Learning rate': 0.1, 'N_estimators': 100, 'Accuracy': 0.9555471412343809, 'F1 Score': 0.7075236671649228, 'ROC AUC': 0.9520283886583679, 'PR AUC': 0.8084743589475454}\n{'ID': 2, 'Learning rate': 0.1, 'N_estimators': 300, 'Accuracy': 0.9622112836046952, 'F1 Score': 0.7613582018173123, 'ROC AUC': 0.9618587828492393, 'PR AUC': 0.8506368625800016}\n{'ID': 3, 'Learning rate': 0.1, 'N_estimators': 600, 'Accuracy': 0.9663006436955699, 'F1 Score': 0.7889995258416312, 'ROC AUC': 0.9646623098201936, 'PR AUC': 0.867279588756122}\n{'ID': 4, 'Learning rate': 0.1, 'N_estimators': 1500, 'Accuracy': 0.9684967815221507, 'F1 Score': 0.8054256314312441, 'ROC AUC': 0.9655978561549101, 'PR AUC': 0.8755243328214812}\n{'ID': 5, 'Learning rate': 0.05, 'N_estimators': 1500, 'Accuracy': 0.9672851192730026, 'F1 Score': 0.7969924812030076, 'ROC AUC': 0.9642780082987552, 'PR AUC': 0.8668093262236566}\n{'ID': 6, 'Learning rate': 0.05, 'N_estimators': 3000, 'Accuracy': 0.9694812570995834, 'F1 Score': 0.8119458702753151, 'ROC AUC': 0.9650587136929459, 'PR AUC': 0.8739324709766347}\n"
     ]
    }
   ],
   "source": [
    "for result in results:\n",
    "  print(result)"
   ]
  },
  {
   "cell_type": "code",
   "execution_count": 0,
   "metadata": {
    "application/vnd.databricks.v1+cell": {
     "cellMetadata": {
      "byteLimit": 2048000,
      "rowLimit": 10000
     },
     "inputWidgets": {},
     "nuid": "c2041428-8d25-44c5-a107-6d01d0f320c5",
     "showTitle": false,
     "title": ""
    }
   },
   "outputs": [
    {
     "output_type": "stream",
     "name": "stdout",
     "output_type": "stream",
     "text": [
      "Out[11]: [{'ID': 0,\n  'Learning rate': 0.1,\n  'N_estimators': 10,\n  'Accuracy': 0.9335100340780007,\n  'F1 Score': 0.4464060529634301,\n  'ROC AUC': 0.920529011065007,\n  'PR AUC': 0.6949494765998947},\n {'ID': 1,\n  'Learning rate': 0.1,\n  'N_estimators': 100,\n  'Accuracy': 0.9555471412343809,\n  'F1 Score': 0.7075236671649228,\n  'ROC AUC': 0.9520283886583679,\n  'PR AUC': 0.8084743589475454},\n {'ID': 2,\n  'Learning rate': 0.1,\n  'N_estimators': 300,\n  'Accuracy': 0.9622112836046952,\n  'F1 Score': 0.7613582018173123,\n  'ROC AUC': 0.9618587828492393,\n  'PR AUC': 0.8506368625800016},\n {'ID': 3,\n  'Learning rate': 0.1,\n  'N_estimators': 600,\n  'Accuracy': 0.9663006436955699,\n  'F1 Score': 0.7889995258416312,\n  'ROC AUC': 0.9646623098201936,\n  'PR AUC': 0.867279588756122},\n {'ID': 5,\n  'Learning rate': 0.05,\n  'N_estimators': 1500,\n  'Accuracy': 0.9672851192730026,\n  'F1 Score': 0.7969924812030076,\n  'ROC AUC': 0.9642780082987552,\n  'PR AUC': 0.8668093262236566},\n {'ID': 4,\n  'Learning rate': 0.1,\n  'N_estimators': 1500,\n  'Accuracy': 0.9684967815221507,\n  'F1 Score': 0.8054256314312441,\n  'ROC AUC': 0.9655978561549101,\n  'PR AUC': 0.8755243328214812},\n {'ID': 6,\n  'Learning rate': 0.05,\n  'N_estimators': 3000,\n  'Accuracy': 0.9694812570995834,\n  'F1 Score': 0.8119458702753151,\n  'ROC AUC': 0.9650587136929459,\n  'PR AUC': 0.8739324709766347}]"
     ]
    }
   ],
   "source": [
    "# Sort experiments by accuracy\n",
    "sorted(results, key=lambda x: x.get(\"Accuracy\"))"
   ]
  },
  {
   "cell_type": "markdown",
   "metadata": {
    "application/vnd.databricks.v1+cell": {
     "cellMetadata": {
      "byteLimit": 2048000,
      "rowLimit": 10000
     },
     "inputWidgets": {},
     "nuid": "d14b21ad-6e5e-4db9-9e27-ab5f601926c4",
     "showTitle": false,
     "title": ""
    }
   },
   "source": [
    "We can see that our models always have high accuracy score (>90%). The worst model has the accuracy of 0.93. But remember that we have an imbalanced dataset. It means that even if all transactions will be classified as non-fraudulent, we will get an accuracy of 0.9. **You should always take an imbalance into consideration when looking at accuracy!**"
   ]
  },
  {
   "cell_type": "code",
   "execution_count": 0,
   "metadata": {
    "application/vnd.databricks.v1+cell": {
     "cellMetadata": {
      "byteLimit": 2048000,
      "rowLimit": 10000
     },
     "inputWidgets": {},
     "nuid": "b483e9c3-23f6-4092-a4da-a8f5dd796dfb",
     "showTitle": false,
     "title": ""
    }
   },
   "outputs": [
    {
     "output_type": "stream",
     "name": "stdout",
     "output_type": "stream",
     "text": [
      "Out[12]: [{'ID': 0,\n  'Learning rate': 0.1,\n  'N_estimators': 10,\n  'Accuracy': 0.9335100340780007,\n  'F1 Score': 0.4464060529634301,\n  'ROC AUC': 0.920529011065007,\n  'PR AUC': 0.6949494765998947},\n {'ID': 1,\n  'Learning rate': 0.1,\n  'N_estimators': 100,\n  'Accuracy': 0.9555471412343809,\n  'F1 Score': 0.7075236671649228,\n  'ROC AUC': 0.9520283886583679,\n  'PR AUC': 0.8084743589475454},\n {'ID': 2,\n  'Learning rate': 0.1,\n  'N_estimators': 300,\n  'Accuracy': 0.9622112836046952,\n  'F1 Score': 0.7613582018173123,\n  'ROC AUC': 0.9618587828492393,\n  'PR AUC': 0.8506368625800016},\n {'ID': 3,\n  'Learning rate': 0.1,\n  'N_estimators': 600,\n  'Accuracy': 0.9663006436955699,\n  'F1 Score': 0.7889995258416312,\n  'ROC AUC': 0.9646623098201936,\n  'PR AUC': 0.867279588756122},\n {'ID': 5,\n  'Learning rate': 0.05,\n  'N_estimators': 1500,\n  'Accuracy': 0.9672851192730026,\n  'F1 Score': 0.7969924812030076,\n  'ROC AUC': 0.9642780082987552,\n  'PR AUC': 0.8668093262236566},\n {'ID': 4,\n  'Learning rate': 0.1,\n  'N_estimators': 1500,\n  'Accuracy': 0.9684967815221507,\n  'F1 Score': 0.8054256314312441,\n  'ROC AUC': 0.9655978561549101,\n  'PR AUC': 0.8755243328214812},\n {'ID': 6,\n  'Learning rate': 0.05,\n  'N_estimators': 3000,\n  'Accuracy': 0.9694812570995834,\n  'F1 Score': 0.8119458702753151,\n  'ROC AUC': 0.9650587136929459,\n  'PR AUC': 0.8739324709766347}]"
     ]
    }
   ],
   "source": [
    "sorted(results, key=lambda x: x.get(\"F1 Score\"))"
   ]
  },
  {
   "cell_type": "markdown",
   "metadata": {
    "application/vnd.databricks.v1+cell": {
     "cellMetadata": {
      "byteLimit": 2048000,
      "rowLimit": 10000
     },
     "inputWidgets": {},
     "nuid": "0a43c221-adeb-49af-b378-1242e46cf96a",
     "showTitle": false,
     "title": ""
    }
   },
   "source": [
    "With the imbalance we have, even the worst model has very high accuracy and the improvements as we go to the end of the table are not as clear on accuracy as they are on F1 score. Hence, between accuracy and F1 Score one should choose **F1 Score** for this dataset."
   ]
  },
  {
   "cell_type": "markdown",
   "metadata": {
    "application/vnd.databricks.v1+cell": {
     "cellMetadata": {
      "byteLimit": 2048000,
      "rowLimit": 10000
     },
     "inputWidgets": {},
     "nuid": "0889d1f0-38be-4668-b8fe-546d0e986fef",
     "showTitle": false,
     "title": ""
    }
   },
   "source": [
    "As a next step we will compare ROC AUC and PR AUC."
   ]
  },
  {
   "cell_type": "code",
   "execution_count": 0,
   "metadata": {
    "application/vnd.databricks.v1+cell": {
     "cellMetadata": {
      "byteLimit": 2048000,
      "rowLimit": 10000
     },
     "inputWidgets": {},
     "nuid": "f5ea2fb1-8bc6-41e1-8cf0-c10c1766f0e6",
     "showTitle": false,
     "title": ""
    }
   },
   "outputs": [
    {
     "output_type": "stream",
     "name": "stdout",
     "output_type": "stream",
     "text": [
      "Out[13]: [{'ID': 0,\n  'Learning rate': 0.1,\n  'N_estimators': 10,\n  'Accuracy': 0.9335100340780007,\n  'F1 Score': 0.4464060529634301,\n  'ROC AUC': 0.920529011065007,\n  'PR AUC': 0.6949494765998947},\n {'ID': 1,\n  'Learning rate': 0.1,\n  'N_estimators': 100,\n  'Accuracy': 0.9555471412343809,\n  'F1 Score': 0.7075236671649228,\n  'ROC AUC': 0.9520283886583679,\n  'PR AUC': 0.8084743589475454},\n {'ID': 2,\n  'Learning rate': 0.1,\n  'N_estimators': 300,\n  'Accuracy': 0.9622112836046952,\n  'F1 Score': 0.7613582018173123,\n  'ROC AUC': 0.9618587828492393,\n  'PR AUC': 0.8506368625800016},\n {'ID': 5,\n  'Learning rate': 0.05,\n  'N_estimators': 1500,\n  'Accuracy': 0.9672851192730026,\n  'F1 Score': 0.7969924812030076,\n  'ROC AUC': 0.9642780082987552,\n  'PR AUC': 0.8668093262236566},\n {'ID': 3,\n  'Learning rate': 0.1,\n  'N_estimators': 600,\n  'Accuracy': 0.9663006436955699,\n  'F1 Score': 0.7889995258416312,\n  'ROC AUC': 0.9646623098201936,\n  'PR AUC': 0.867279588756122},\n {'ID': 6,\n  'Learning rate': 0.05,\n  'N_estimators': 3000,\n  'Accuracy': 0.9694812570995834,\n  'F1 Score': 0.8119458702753151,\n  'ROC AUC': 0.9650587136929459,\n  'PR AUC': 0.8739324709766347},\n {'ID': 4,\n  'Learning rate': 0.1,\n  'N_estimators': 1500,\n  'Accuracy': 0.9684967815221507,\n  'F1 Score': 0.8054256314312441,\n  'ROC AUC': 0.9655978561549101,\n  'PR AUC': 0.8755243328214812}]"
     ]
    }
   ],
   "source": [
    "sorted(results, key=lambda x: x.get(\"ROC AUC\"))"
   ]
  },
  {
   "cell_type": "code",
   "execution_count": 0,
   "metadata": {
    "application/vnd.databricks.v1+cell": {
     "cellMetadata": {
      "byteLimit": 2048000,
      "rowLimit": 10000
     },
     "inputWidgets": {},
     "nuid": "38d448c2-7ddd-4d97-83e4-f637d2580cb8",
     "showTitle": false,
     "title": ""
    }
   },
   "outputs": [
    {
     "output_type": "stream",
     "name": "stdout",
     "output_type": "stream",
     "text": [
      "Out[14]: [{'ID': 0,\n  'Learning rate': 0.1,\n  'N_estimators': 10,\n  'Accuracy': 0.9335100340780007,\n  'F1 Score': 0.4464060529634301,\n  'ROC AUC': 0.920529011065007,\n  'PR AUC': 0.6949494765998947},\n {'ID': 1,\n  'Learning rate': 0.1,\n  'N_estimators': 100,\n  'Accuracy': 0.9555471412343809,\n  'F1 Score': 0.7075236671649228,\n  'ROC AUC': 0.9520283886583679,\n  'PR AUC': 0.8084743589475454},\n {'ID': 2,\n  'Learning rate': 0.1,\n  'N_estimators': 300,\n  'Accuracy': 0.9622112836046952,\n  'F1 Score': 0.7613582018173123,\n  'ROC AUC': 0.9618587828492393,\n  'PR AUC': 0.8506368625800016},\n {'ID': 5,\n  'Learning rate': 0.05,\n  'N_estimators': 1500,\n  'Accuracy': 0.9672851192730026,\n  'F1 Score': 0.7969924812030076,\n  'ROC AUC': 0.9642780082987552,\n  'PR AUC': 0.8668093262236566},\n {'ID': 3,\n  'Learning rate': 0.1,\n  'N_estimators': 600,\n  'Accuracy': 0.9663006436955699,\n  'F1 Score': 0.7889995258416312,\n  'ROC AUC': 0.9646623098201936,\n  'PR AUC': 0.867279588756122},\n {'ID': 6,\n  'Learning rate': 0.05,\n  'N_estimators': 3000,\n  'Accuracy': 0.9694812570995834,\n  'F1 Score': 0.8119458702753151,\n  'ROC AUC': 0.9650587136929459,\n  'PR AUC': 0.8739324709766347},\n {'ID': 4,\n  'Learning rate': 0.1,\n  'N_estimators': 1500,\n  'Accuracy': 0.9684967815221507,\n  'F1 Score': 0.8054256314312441,\n  'ROC AUC': 0.9655978561549101,\n  'PR AUC': 0.8755243328214812}]"
     ]
    }
   ],
   "source": [
    "sorted(results, key=lambda x: x.get(\"PR AUC\"))"
   ]
  },
  {
   "cell_type": "markdown",
   "metadata": {
    "application/vnd.databricks.v1+cell": {
     "cellMetadata": {
      "byteLimit": 2048000,
      "rowLimit": 10000
     },
     "inputWidgets": {},
     "nuid": "e2a1caab-b99c-4b65-aae1-dff6a2647e27",
     "showTitle": false,
     "title": ""
    }
   },
   "source": [
    "ROC AUC and PR AUC both assess the performance of classification models based on prediction scores rather than fixed class assignments. However, they differ in the metrics they focus on. ROC AUC examines the True Positive Rate (TPR) and False Positive Rate (FPR), whereas PR AUC considers the Positive Predictive Value (PPV) and TPR.\n",
    "\n",
    "If your primary concern is the positive class, PR AUC is often a superior choice. It is more sensitive to improvements in the positive class, making it particularly valuable in scenarios with highly imbalanced datasets. For instance, in cases like fraud detection, where the positive class (i.e., instances of fraud) is rare compared to the negative class, PR AUC provides a more informative evaluation of model performance.\n",
    "\n",
    "In our case we can see, that although ROC AUC and PR AUC rank models in the same way, the improvements calculated in **PR AUC** are larger and clearer. We get from 0.69 to 0.87 when at the same time ROC AUC goes from 0.92 to 0.96."
   ]
  },
  {
   "cell_type": "markdown",
   "metadata": {
    "application/vnd.databricks.v1+cell": {
     "cellMetadata": {
      "byteLimit": 2048000,
      "rowLimit": 10000
     },
     "inputWidgets": {},
     "nuid": "c45c8d75-29f5-49d6-bb57-f7db7bcb68b8",
     "showTitle": false,
     "title": ""
    }
   },
   "source": [
    "Now we should decide between F1 Score and PR AUC.\n",
    "\n",
    "One significant distinction between the F1 score and ROC AUC is that the F1 score operates on predicted classes, while ROC AUC relies on predicted scores. Consequently, when using the F1 score, you must select a threshold for class assignment, a decision that can substantially impact model performance.\n",
    "\n",
    "If your objective is to rank predictions, without the need for well-calibrated probabilities, and your dataset maintains a reasonable balance between classes, then ROC AUC is a good choice.\n",
    "\n",
    "However, in scenarios characterized by a heavily imbalanced dataset, or when your primary concern centers on the positive class, considering the F1 score or Precision-Recall curve with PR AUC is advisable. Additionally, using F1 may be advantageous because this metric is more straightforward to interpret and convey to business stakeholders."
   ]
  },
  {
   "cell_type": "markdown",
   "metadata": {
    "application/vnd.databricks.v1+cell": {
     "cellMetadata": {
      "byteLimit": 2048000,
      "rowLimit": 10000
     },
     "inputWidgets": {},
     "nuid": "b75b8bea-456e-4644-9663-85d64d74fa63",
     "showTitle": false,
     "title": ""
    }
   },
   "source": [
    "*This notebook is based on the article: https://neptune.ai/blog/f1-score-accuracy-roc-auc-pr-auc.*"
   ]
  }
 ],
 "metadata": {
  "application/vnd.databricks.v1+notebook": {
   "dashboards": [],
   "language": "python",
   "notebookMetadata": {
    "pythonIndentUnit": 2
   },
   "notebookName": "Metrics",
   "widgets": {}
  }
 },
 "nbformat": 4,
 "nbformat_minor": 0
}
