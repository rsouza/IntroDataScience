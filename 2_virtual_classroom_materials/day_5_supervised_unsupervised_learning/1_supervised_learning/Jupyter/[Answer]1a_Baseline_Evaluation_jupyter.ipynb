{
 "cells": [
  {
   "cell_type": "markdown",
   "metadata": {
    "application/vnd.databricks.v1+cell": {
     "cellMetadata": {},
     "inputWidgets": {},
     "nuid": "cbc67853-5174-4ae9-aec2-074cb93e78d3",
     "showTitle": false,
     "title": ""
    }
   },
   "source": [
    "# Supervised Learning Workflow"
   ]
  },
  {
   "cell_type": "markdown",
   "metadata": {
    "application/vnd.databricks.v1+cell": {
     "cellMetadata": {},
     "inputWidgets": {},
     "nuid": "ec8233f9-d505-4152-99dc-05ae9e4a0bd9",
     "showTitle": false,
     "title": ""
    }
   },
   "source": [
    "## Baseline Model & Model Evaluation"
   ]
  },
  {
   "cell_type": "code",
   "execution_count": 0,
   "metadata": {
    "application/vnd.databricks.v1+cell": {
     "cellMetadata": {
      "byteLimit": 2048000,
      "rowLimit": 10000
     },
     "inputWidgets": {},
     "nuid": "2a8ad45c-fbfb-4823-b2ed-96a18970d12a",
     "showTitle": false,
     "title": ""
    }
   },
   "outputs": [],
   "source": [
    "import pandas as pd\n",
    "import numpy as np\n",
    "from sklearn import preprocessing\n",
    "from sklearn import metrics\n",
    "from sklearn.model_selection import train_test_split\n",
    "from sklearn.dummy import DummyClassifier\n",
    "\n",
    "train = pd.read_csv(\"../../../../Data/data_titanic/train.csv\")\n",
    "train.Pclass = train.Pclass.astype(float) # to avoid DataConversionWarning"
   ]
  },
  {
   "cell_type": "code",
   "execution_count": 0,
   "metadata": {
    "application/vnd.databricks.v1+cell": {
     "cellMetadata": {
      "byteLimit": 2048000,
      "rowLimit": 10000
     },
     "inputWidgets": {},
     "nuid": "08a16c21-f5b0-4c6f-92a1-14a173a82021",
     "showTitle": false,
     "title": ""
    }
   },
   "outputs": [],
   "source": [
    "train.head()"
   ]
  },
  {
   "cell_type": "markdown",
   "metadata": {
    "application/vnd.databricks.v1+cell": {
     "cellMetadata": {
      "byteLimit": 2048000,
      "rowLimit": 10000
     },
     "inputWidgets": {},
     "nuid": "8eae4280-8560-453c-b39b-22dc0d7194c7",
     "showTitle": false,
     "title": ""
    }
   },
   "source": [
    "## Brief Exploration"
   ]
  },
  {
   "cell_type": "code",
   "execution_count": 0,
   "metadata": {
    "application/vnd.databricks.v1+cell": {
     "cellMetadata": {
      "byteLimit": 2048000,
      "rowLimit": 10000
     },
     "inputWidgets": {},
     "nuid": "29101691-c733-42aa-8432-d38c884faf86",
     "showTitle": false,
     "title": ""
    }
   },
   "outputs": [],
   "source": [
    "# Categorical features\n",
    "train.describe(include = object)"
   ]
  },
  {
   "cell_type": "code",
   "execution_count": 0,
   "metadata": {
    "application/vnd.databricks.v1+cell": {
     "cellMetadata": {
      "byteLimit": 2048000,
      "rowLimit": 10000
     },
     "inputWidgets": {},
     "nuid": "adfba8bf-f97b-4321-b99d-3ed56bb2307b",
     "showTitle": false,
     "title": ""
    }
   },
   "outputs": [],
   "source": [
    "# Numerical features\n",
    "train.describe()"
   ]
  },
  {
   "cell_type": "markdown",
   "metadata": {
    "application/vnd.databricks.v1+cell": {
     "cellMetadata": {
      "byteLimit": 2048000,
      "rowLimit": 10000
     },
     "inputWidgets": {},
     "nuid": "49cac904-1aeb-45c8-94f2-49ef6611b9ed",
     "showTitle": false,
     "title": ""
    }
   },
   "source": [
    "Let's work only with the following features for simplicity:   \n",
    "\n",
    "**Categorical**   \n",
    "- Sex\n",
    "- Embarked\n",
    "\n",
    "**Numerical**  \n",
    "- Survived: *our target feature* (0 = No, 1 = Yes)\n",
    "- Pclass: Ticket class (1 = 1st, 2 = 2nd, 3 = 3rd)\n",
    "- Age: Age in years\n",
    " \n",
    "More detailed info: https://www.kaggle.com/c/titanic"
   ]
  },
  {
   "cell_type": "code",
   "execution_count": 0,
   "metadata": {
    "application/vnd.databricks.v1+cell": {
     "cellMetadata": {
      "byteLimit": 2048000,
      "rowLimit": 10000
     },
     "inputWidgets": {},
     "nuid": "37bcba25-7bf5-44fb-8f46-30cdc78c6ed5",
     "showTitle": false,
     "title": ""
    }
   },
   "outputs": [],
   "source": [
    "# Let's keep only the desired columns\n",
    "train = train[['Sex','Embarked','Pclass', 'Age','Survived']]\n",
    "train.shape"
   ]
  },
  {
   "cell_type": "code",
   "execution_count": 0,
   "metadata": {
    "application/vnd.databricks.v1+cell": {
     "cellMetadata": {
      "byteLimit": 2048000,
      "rowLimit": 10000
     },
     "inputWidgets": {},
     "nuid": "d9fc02a5-cbf0-4a3d-a8ca-fa91e72cbd3c",
     "showTitle": false,
     "title": ""
    }
   },
   "outputs": [],
   "source": [
    "# Check for missing values\n",
    "train.isna().sum()"
   ]
  },
  {
   "cell_type": "markdown",
   "metadata": {
    "application/vnd.databricks.v1+cell": {
     "cellMetadata": {
      "byteLimit": 2048000,
      "rowLimit": 10000
     },
     "inputWidgets": {},
     "nuid": "fb1728e4-2328-4004-bbf6-b68352484587",
     "showTitle": false,
     "title": ""
    }
   },
   "source": [
    "For simplicity, we drop any row containing missing values."
   ]
  },
  {
   "cell_type": "code",
   "execution_count": 0,
   "metadata": {
    "application/vnd.databricks.v1+cell": {
     "cellMetadata": {
      "byteLimit": 2048000,
      "rowLimit": 10000
     },
     "inputWidgets": {},
     "nuid": "3e5ef396-2dd6-4570-b470-f554f5e5aed7",
     "showTitle": false,
     "title": ""
    }
   },
   "outputs": [],
   "source": [
    "train = train.dropna(axis=0)\n",
    "train.head()"
   ]
  },
  {
   "cell_type": "markdown",
   "metadata": {
    "application/vnd.databricks.v1+cell": {
     "cellMetadata": {
      "byteLimit": 2048000,
      "rowLimit": 10000
     },
     "inputWidgets": {},
     "nuid": "5666487d-b3b5-4078-927b-b7831ae13191",
     "showTitle": false,
     "title": ""
    }
   },
   "source": [
    "## Feature Engineering\n",
    "With our current knowledge, we can try to individually implement various transformers from Scikit Learn. Let's not forget to create a holdout set!"
   ]
  },
  {
   "cell_type": "code",
   "execution_count": 0,
   "metadata": {
    "application/vnd.databricks.v1+cell": {
     "cellMetadata": {
      "byteLimit": 2048000,
      "rowLimit": 10000
     },
     "inputWidgets": {},
     "nuid": "ea8c24c4-c9b3-4bbd-a7b4-06e59c2e5da6",
     "showTitle": false,
     "title": ""
    }
   },
   "outputs": [],
   "source": [
    "X_train, X_test, y_train, y_test = train_test_split(train[['Pclass', 'Age', 'Sex', 'Embarked']],\n",
    "                                                    train['Survived'], \n",
    "                                                    test_size=0.2, \n",
    "                                                    random_state=42)"
   ]
  },
  {
   "cell_type": "markdown",
   "metadata": {
    "application/vnd.databricks.v1+cell": {
     "cellMetadata": {
      "byteLimit": 2048000,
      "rowLimit": 10000
     },
     "inputWidgets": {},
     "nuid": "d08393f9-f1bb-4771-a950-f897640925ca",
     "showTitle": false,
     "title": ""
    }
   },
   "source": [
    "### Numerical Features\n",
    "The only numerical features we have are 'Pclass' and 'Age'.  \n",
    "Let's scale these two features using `MinMaxScaler()`."
   ]
  },
  {
   "cell_type": "code",
   "execution_count": 0,
   "metadata": {
    "application/vnd.databricks.v1+cell": {
     "cellMetadata": {
      "byteLimit": 2048000,
      "rowLimit": 10000
     },
     "inputWidgets": {},
     "nuid": "a160e6e1-30d6-453c-9160-eebdbbdd1ffd",
     "showTitle": false,
     "title": ""
    }
   },
   "outputs": [],
   "source": [
    "scaler = preprocessing.MinMaxScaler()\n",
    "scaler.fit(X_train[['Pclass', 'Age']])\n",
    "X_train_transformed_numerical = scaler.transform(X_train[['Pclass', 'Age']])\n",
    "X_test_transformed_numerical = scaler.transform(X_test[['Pclass', 'Age']])\n",
    "\n",
    "print(X_train_transformed_numerical.shape)\n",
    "print(X_test_transformed_numerical.shape)"
   ]
  },
  {
   "cell_type": "markdown",
   "metadata": {
    "application/vnd.databricks.v1+cell": {
     "cellMetadata": {
      "byteLimit": 2048000,
      "rowLimit": 10000
     },
     "inputWidgets": {},
     "nuid": "caa0f119-8f16-46fc-abee-727ff76b6fa6",
     "showTitle": false,
     "title": ""
    }
   },
   "source": [
    "### Categorical Features\n",
    "The categorical features we have are 'Sex' and 'Embarked'.   \n",
    "We can simply one-hot encode these using `OneHotEncoder()`."
   ]
  },
  {
   "cell_type": "code",
   "execution_count": 0,
   "metadata": {
    "application/vnd.databricks.v1+cell": {
     "cellMetadata": {
      "byteLimit": 2048000,
      "rowLimit": 10000
     },
     "inputWidgets": {},
     "nuid": "e35b3e48-5f24-4beb-a2c9-e569356c559d",
     "showTitle": false,
     "title": ""
    }
   },
   "outputs": [],
   "source": [
    "encoder = preprocessing.OneHotEncoder(sparse=False)\n",
    "encoder.fit(X_train[['Sex', 'Embarked']])\n",
    "X_train_transformed_categorical = encoder.transform(X_train[['Sex', 'Embarked']])\n",
    "X_test_transformed_categorical = encoder.transform(X_test[['Sex', 'Embarked']])\n",
    "\n",
    "print(X_train_transformed_categorical.shape)\n",
    "print(X_test_transformed_categorical.shape)"
   ]
  },
  {
   "cell_type": "markdown",
   "metadata": {
    "application/vnd.databricks.v1+cell": {
     "cellMetadata": {
      "byteLimit": 2048000,
      "rowLimit": 10000
     },
     "inputWidgets": {},
     "nuid": "082ba351-921e-4680-921e-6546b8519557",
     "showTitle": false,
     "title": ""
    }
   },
   "source": [
    "## Exercises\n",
    "It's time for our first exercise! \n",
    "Before, let's concatenate the transformed numerical and categorical features into a single dataframe."
   ]
  },
  {
   "cell_type": "code",
   "execution_count": 0,
   "metadata": {
    "application/vnd.databricks.v1+cell": {
     "cellMetadata": {
      "byteLimit": 2048000,
      "rowLimit": 10000
     },
     "inputWidgets": {},
     "nuid": "01eb5f6a-953f-4341-b7e3-95d3e67be0bb",
     "showTitle": false,
     "title": ""
    }
   },
   "outputs": [],
   "source": [
    "X_train_transformed = np.concatenate((X_train_transformed_numerical, X_train_transformed_categorical), axis = 1)\n",
    "X_test_transformed = np.concatenate((X_test_transformed_numerical, X_test_transformed_categorical), axis = 1)\n",
    "\n",
    "print(X_train_transformed.shape)\n",
    "print(X_test_transformed.shape)"
   ]
  },
  {
   "cell_type": "code",
   "execution_count": 0,
   "metadata": {
    "application/vnd.databricks.v1+cell": {
     "cellMetadata": {
      "byteLimit": 2048000,
      "rowLimit": 10000
     },
     "inputWidgets": {},
     "nuid": "dee438b7-48f4-415a-8bdf-d0cc86d70d31",
     "showTitle": false,
     "title": ""
    }
   },
   "outputs": [],
   "source": [
    "# TASK 1A: Fit DummyClassifier to the transformed training set.  \n",
    "# Then, let the model predict for train (X_train_transformed) and holdout set (X_test_transformed).\n",
    "# Store the prediction as y_pred_TRAIN_DUMMY (training set) and as y_pred_HOLDOUT_DUMMY (holdout set).\n",
    "\n",
    "dummy_clf = DummyClassifier(strategy=\"most_frequent\")\n",
    "dummy_clf.fit(X_train_transformed, y_train)\n",
    "\n",
    "y_pred_TRAIN_DUMMY = dummy_clf.predict(X_train_transformed)\n",
    "y_pred_HOLDOUT_DUMMY = dummy_clf.predict(X_test_transformed)"
   ]
  },
  {
   "cell_type": "code",
   "execution_count": 0,
   "metadata": {
    "application/vnd.databricks.v1+cell": {
     "cellMetadata": {
      "byteLimit": 2048000,
      "rowLimit": 10000
     },
     "inputWidgets": {},
     "nuid": "069f44bd-2b80-48e1-a9d5-fa19c3db733f",
     "showTitle": false,
     "title": ""
    }
   },
   "outputs": [],
   "source": [
    "# OPTIONAL TASK 1B: Think about a simple heuristic that can be used as a baseline. \n",
    "# One possibility is to use gender and for example predict that every men or every woman has survived.\n",
    "# You can store the result as y_pred_TRAIN_HEURISTIC and as y_pred_HOLDOUT_HEURISTIC.\n",
    "\n",
    "y_pred_TRAIN_HEURISTIC =   np.array([1 if idx==0 else 0 for idx in X_train_transformed[:,3]])\n",
    "y_pred_HOLDOUT_HEURISTIC = np.array([1 if idx==0 else 0 for idx in X_test_transformed[:,3]])"
   ]
  },
  {
   "cell_type": "markdown",
   "metadata": {
    "application/vnd.databricks.v1+cell": {
     "cellMetadata": {
      "byteLimit": 2048000,
      "rowLimit": 10000
     },
     "inputWidgets": {},
     "nuid": "af4aea6d-ae8e-483e-a2ac-ca9084b6e048",
     "showTitle": false,
     "title": ""
    }
   },
   "source": [
    "Great! We have our first prediction! It is time to evaluate how good our model is using the [*sklearn.metrics* module.](   \n",
    "https://scikit-learn.org/stable/modules/classes.html#sklearn-metrics-metrics)"
   ]
  },
  {
   "cell_type": "code",
   "execution_count": 0,
   "metadata": {
    "application/vnd.databricks.v1+cell": {
     "cellMetadata": {
      "byteLimit": 2048000,
      "rowLimit": 10000
     },
     "inputWidgets": {},
     "nuid": "5f6aef50-d753-44cb-9f71-473cd6c8caae",
     "showTitle": false,
     "title": ""
    }
   },
   "outputs": [],
   "source": [
    "#TASK 2A: Display ACCURACY on TRAIN set.\n",
    "print(metrics.accuracy_score(y_train, y_pred_TRAIN_DUMMY))\n",
    "print(metrics.accuracy_score(y_train,y_pred_TRAIN_HEURISTIC))  #Optional Task 1\n",
    "print()\n",
    "\n",
    "#TASK 2B: Display ACCURACY on HOLDOUT set.\n",
    "print(metrics.accuracy_score(y_test, y_pred_HOLDOUT_DUMMY))\n",
    "print(metrics.accuracy_score(y_test, y_pred_HOLDOUT_HEURISTIC))  #Optional Task 1\n",
    "\n",
    "#OPTIONAL TASK 2C: Can you think of a better measure than accuracy based on the domain problem? If yes, use it the same way."
   ]
  },
  {
   "cell_type": "markdown",
   "metadata": {
    "application/vnd.databricks.v1+cell": {
     "cellMetadata": {
      "byteLimit": 2048000,
      "rowLimit": 10000
     },
     "inputWidgets": {},
     "nuid": "8bd8ad1f-6597-4550-9254-4f6000e5fdf5",
     "showTitle": false,
     "title": ""
    }
   },
   "source": [
    "Great! Now we would also like to see the confusion matrix as it is always a good idea to visually confirm the quality of our predictions."
   ]
  },
  {
   "cell_type": "code",
   "execution_count": 0,
   "metadata": {
    "application/vnd.databricks.v1+cell": {
     "cellMetadata": {
      "byteLimit": 2048000,
      "rowLimit": 10000
     },
     "inputWidgets": {},
     "nuid": "baacaa1e-62b3-432f-8f99-2fdbef546b79",
     "showTitle": false,
     "title": ""
    }
   },
   "outputs": [],
   "source": [
    "#TASK 3: Display a CONFUSION MATRIX on HOLDOUT set. Hint: do not use plot_confusion_matrix but confusion_matrix only.\n",
    "metrics.confusion_matrix(y_test, y_pred_HOLDOUT_DUMMY)"
   ]
  },
  {
   "cell_type": "code",
   "execution_count": 0,
   "metadata": {
    "application/vnd.databricks.v1+cell": {
     "cellMetadata": {
      "byteLimit": 2048000,
      "rowLimit": 10000
     },
     "inputWidgets": {},
     "nuid": "0d4581e4-4aba-4e70-bcf5-b6a2986b3239",
     "showTitle": false,
     "title": ""
    }
   },
   "outputs": [],
   "source": [
    "metrics.confusion_matrix(y_test, y_pred_HOLDOUT_HEURISTIC)"
   ]
  }
 ],
 "metadata": {
  "application/vnd.databricks.v1+notebook": {
   "dashboards": [],
   "language": "python",
   "notebookMetadata": {
    "pythonIndentUnit": 2
   },
   "notebookName": "[Answer]1a_sup_learning_workflow_jupyter",
   "widgets": {}
  }
 },
 "nbformat": 4,
 "nbformat_minor": 0
}
