{
 "cells": [
  {
   "cell_type": "markdown",
   "metadata": {
    "application/vnd.databricks.v1+cell": {
     "cellMetadata": {},
     "inputWidgets": {},
     "nuid": "e7306428-49da-42e1-9c81-7662cdb731b8",
     "showTitle": false,
     "title": ""
    }
   },
   "source": [
    "# AutoML tools: LazyPredict"
   ]
  },
  {
   "cell_type": "markdown",
   "metadata": {
    "application/vnd.databricks.v1+cell": {
     "cellMetadata": {},
     "inputWidgets": {},
     "nuid": "ce6170b9-328a-481b-b50e-dd0d40b1c462",
     "showTitle": false,
     "title": ""
    }
   },
   "source": [
    "In this notebook, we will explore a simple AutoML library:\n",
    "[**LazyPredict**](https://lazypredict.readthedocs.io/en/latest/).\n",
    "\n",
    "We will be using these tools for regression (Boston dataset) and classification (Titanic dataset) problems. We will explore their features and limitations. \n",
    "\n",
    "First, we install the\n",
    "[**LazyPredict**](https://lazypredict.readthedocs.io/en/latest/)\n",
    "library.\n",
    "\n",
    "As of June 2024 there is an issue with the LazyPredict library.\n",
    "It still relies on an older version (< 1.2) of scikit-learn.\n",
    "One easy fix is to downgrade scikit-learn to version 1.1.3."
   ]
  },
  {
   "cell_type": "code",
   "execution_count": 0,
   "metadata": {
    "application/vnd.databricks.v1+cell": {
     "cellMetadata": {},
     "inputWidgets": {},
     "nuid": "8dd16dd9-a9bd-45ea-85ab-675ddea527c9",
     "showTitle": false,
     "title": ""
    }
   },
   "outputs": [],
   "source": [
    "!pip install -q lazypredict"
   ]
  },
  {
   "cell_type": "code",
   "execution_count": 0,
   "metadata": {
    "application/vnd.databricks.v1+cell": {
     "cellMetadata": {
      "byteLimit": 2048000,
      "rowLimit": 10000
     },
     "inputWidgets": {},
     "nuid": "2b741a1f-167a-4b06-bb1c-8f66b84c959a",
     "showTitle": false,
     "title": ""
    }
   },
   "outputs": [],
   "source": [
    "!pip install --force-reinstall -v scikit-learn==1.1.3"
   ]
  },
  {
   "cell_type": "code",
   "execution_count": 0,
   "metadata": {
    "application/vnd.databricks.v1+cell": {
     "cellMetadata": {
      "byteLimit": 2048000,
      "rowLimit": 10000
     },
     "inputWidgets": {},
     "nuid": "37d80f17-dd6d-4269-804f-23857aefc3b1",
     "showTitle": false,
     "title": ""
    }
   },
   "outputs": [],
   "source": [
    "# You only need to run this cell after installing the optuna package on Databricks\n",
    "dbutils.library.restartPython()"
   ]
  },
  {
   "cell_type": "markdown",
   "metadata": {
    "application/vnd.databricks.v1+cell": {
     "cellMetadata": {},
     "inputWidgets": {},
     "nuid": "c94bc278-4c46-458d-838e-23227f21e3d0",
     "showTitle": false,
     "title": ""
    }
   },
   "source": [
    "Then we load the Boston dataset using Pandas."
   ]
  },
  {
   "cell_type": "code",
   "execution_count": 0,
   "metadata": {
    "application/vnd.databricks.v1+cell": {
     "cellMetadata": {
      "byteLimit": 2048000,
      "rowLimit": 10000
     },
     "inputWidgets": {},
     "nuid": "fee1863e-3899-4dc7-af03-172f9003ff14",
     "showTitle": false,
     "title": ""
    }
   },
   "outputs": [],
   "source": [
    "import pandas as pd\n",
    "\n",
    "boston_df = pd.read_csv('../../../Data/Boston.csv')"
   ]
  },
  {
   "cell_type": "markdown",
   "metadata": {
    "application/vnd.databricks.v1+cell": {
     "cellMetadata": {},
     "inputWidgets": {},
     "nuid": "28268bfb-aa58-4707-b1f4-e16570126cd8",
     "showTitle": false,
     "title": ""
    }
   },
   "source": [
    "Before using AutoML tools, let's take a quick look at our dataset and its structure:"
   ]
  },
  {
   "cell_type": "code",
   "execution_count": 0,
   "metadata": {
    "application/vnd.databricks.v1+cell": {
     "cellMetadata": {
      "byteLimit": 2048000,
      "rowLimit": 10000
     },
     "inputWidgets": {},
     "nuid": "43c98b6e-3138-4dd4-bf9b-4ab896257652",
     "showTitle": false,
     "title": ""
    }
   },
   "outputs": [],
   "source": [
    "boston_df.head()"
   ]
  },
  {
   "cell_type": "code",
   "execution_count": 0,
   "metadata": {
    "application/vnd.databricks.v1+cell": {
     "cellMetadata": {
      "byteLimit": 2048000,
      "rowLimit": 10000
     },
     "inputWidgets": {},
     "nuid": "7babd426-4247-49ee-9ea3-13161f0288f2",
     "showTitle": false,
     "title": ""
    }
   },
   "outputs": [],
   "source": [
    "boston_df.describe()"
   ]
  },
  {
   "cell_type": "code",
   "execution_count": 0,
   "metadata": {
    "application/vnd.databricks.v1+cell": {
     "cellMetadata": {
      "byteLimit": 2048000,
      "rowLimit": 10000
     },
     "inputWidgets": {},
     "nuid": "0ebe82e2-a010-491d-a199-15f4343c509f",
     "showTitle": false,
     "title": ""
    }
   },
   "outputs": [],
   "source": [
    "from sklearn.model_selection import train_test_split\n",
    "\n",
    "X = boston_df.iloc[:, 1:14]\n",
    "y = boston_df.iloc[:, -1]\n",
    "X_train, X_test, y_train, y_test = train_test_split(X, y, test_size = 0.2, random_state = 0)"
   ]
  },
  {
   "cell_type": "markdown",
   "metadata": {
    "application/vnd.databricks.v1+cell": {
     "cellMetadata": {},
     "inputWidgets": {},
     "nuid": "4d1f963e-b300-4815-86db-94a62bd4338a",
     "showTitle": false,
     "title": ""
    }
   },
   "source": [
    "## Regression with LazyPredict"
   ]
  },
  {
   "cell_type": "markdown",
   "metadata": {
    "application/vnd.databricks.v1+cell": {
     "cellMetadata": {},
     "inputWidgets": {},
     "nuid": "3782a36d-c04c-4d56-aa14-cea4da8eeb27",
     "showTitle": false,
     "title": ""
    }
   },
   "source": [
    "[LazyPredict](https://lazypredict.readthedocs.io/en/latest/)\n",
    "is an open-source Python library which applies various machine learning models on a dataset and compares their performances.\n",
    "It supports regression as well as classification problems. \n",
    "\n",
    "This library is a simple tool **without hyperparameter tuning**, but it can provide valueable insight, which type of algorithm works well for a given problem and is worth exploring further.\n",
    "\n",
    "Let's try it out!"
   ]
  },
  {
   "cell_type": "code",
   "execution_count": 0,
   "metadata": {
    "application/vnd.databricks.v1+cell": {
     "cellMetadata": {
      "byteLimit": 2048000,
      "rowLimit": 10000
     },
     "inputWidgets": {},
     "nuid": "5b18ba97-659c-45e9-a175-682b4ec1dd57",
     "showTitle": false,
     "title": ""
    }
   },
   "outputs": [],
   "source": [
    "from lazypredict.Supervised import LazyRegressor\n",
    "\n",
    "reg = LazyRegressor(predictions=True)\n",
    "models, predictions = reg.fit(X_train, X_test, y_train, y_test)"
   ]
  },
  {
   "cell_type": "code",
   "execution_count": 0,
   "metadata": {
    "application/vnd.databricks.v1+cell": {
     "cellMetadata": {
      "byteLimit": 2048000,
      "rowLimit": 10000
     },
     "inputWidgets": {},
     "nuid": "5e5edb06-9182-4596-ac25-e8d1e6d9f7fc",
     "showTitle": false,
     "title": ""
    }
   },
   "outputs": [],
   "source": [
    "models"
   ]
  },
  {
   "cell_type": "code",
   "execution_count": 0,
   "metadata": {
    "application/vnd.databricks.v1+cell": {
     "cellMetadata": {
      "byteLimit": 2048000,
      "rowLimit": 10000
     },
     "inputWidgets": {},
     "nuid": "3e02c1bc-c35c-48f0-80c4-448b860dbca3",
     "showTitle": false,
     "title": ""
    }
   },
   "outputs": [],
   "source": [
    "predictions"
   ]
  },
  {
   "cell_type": "markdown",
   "metadata": {
    "application/vnd.databricks.v1+cell": {
     "cellMetadata": {},
     "inputWidgets": {},
     "nuid": "636e3d3c-75d6-4f41-aec1-7f19fc0c274e",
     "showTitle": false,
     "title": ""
    }
   },
   "source": [
    "You can also pass to LazyRegressor() additional optional parameters such as the **verbose** flag, which controls the level of output produced during training, and the **custom_metric** parameter, which allows you to specify a custom metric to use for evaluating the model. See example below:"
   ]
  },
  {
   "cell_type": "code",
   "execution_count": 0,
   "metadata": {
    "application/vnd.databricks.v1+cell": {
     "cellMetadata": {
      "byteLimit": 2048000,
      "rowLimit": 10000
     },
     "inputWidgets": {},
     "nuid": "756a09fa-9252-48d9-9ad1-443d32601e5a",
     "showTitle": false,
     "title": ""
    }
   },
   "outputs": [],
   "source": [
    "from sklearn.metrics import mean_absolute_error\n",
    "\n",
    "reg = LazyRegressor(verbose=0, predictions=True, custom_metric = mean_absolute_error)\n",
    "models, predictions = reg.fit(X_train, X_test, y_train, y_test)"
   ]
  },
  {
   "cell_type": "code",
   "execution_count": 0,
   "metadata": {
    "application/vnd.databricks.v1+cell": {
     "cellMetadata": {
      "byteLimit": 2048000,
      "rowLimit": 10000
     },
     "inputWidgets": {},
     "nuid": "a1b6f23d-558b-4eb8-a99d-c4dcc4520277",
     "showTitle": false,
     "title": ""
    }
   },
   "outputs": [],
   "source": [
    "models"
   ]
  },
  {
   "cell_type": "markdown",
   "metadata": {
    "application/vnd.databricks.v1+cell": {
     "cellMetadata": {},
     "inputWidgets": {},
     "nuid": "41c23217-0df1-4b88-b1b5-30730f6c7640",
     "showTitle": false,
     "title": ""
    }
   },
   "source": [
    "Now we can see our custom metric in the last column."
   ]
  },
  {
   "cell_type": "markdown",
   "metadata": {
    "application/vnd.databricks.v1+cell": {
     "cellMetadata": {},
     "inputWidgets": {},
     "nuid": "efeb8d4b-2ec4-4b30-921b-ca9eea527135",
     "showTitle": false,
     "title": ""
    }
   },
   "source": [
    "We got top-5 models: \n",
    "* [Gradient Boosting Regressor](https://scikit-learn.org/stable/modules/generated/sklearn.ensemble.GradientBoostingRegressor.html)\n",
    "* [Bagging Regressor](https://scikit-learn.org/stable/modules/generated/sklearn.ensemble.BaggingRegressor.html)\n",
    "* [Random Forest Regressor](https://scikit-learn.org/stable/modules/generated/sklearn.ensemble.RandomForestRegressor.html)\n",
    "* [XGB Regressor](https://xgboost.readthedocs.io/en/stable/python/python_api.html#module-xgboost.sklearn)\n",
    "* [Extra Trees Regressor](https://scikit-learn.org/stable/modules/generated/sklearn.ensemble.ExtraTreesRegressor.html). \n",
    "\n",
    "LazyPredict provides an easy way to see which models work better, so we can focus on them, tune hyperparameters etc.\n",
    "\n",
    "The disadvantage is that LazyPredict doesn't give an opportunity to export the best model."
   ]
  },
  {
   "cell_type": "markdown",
   "metadata": {
    "application/vnd.databricks.v1+cell": {
     "cellMetadata": {},
     "inputWidgets": {},
     "nuid": "fb8d73d7-c0ab-4aad-842f-8e4678a41a06",
     "showTitle": false,
     "title": ""
    }
   },
   "source": [
    "##Your turn!"
   ]
  },
  {
   "cell_type": "markdown",
   "metadata": {
    "application/vnd.databricks.v1+cell": {
     "cellMetadata": {},
     "inputWidgets": {},
     "nuid": "8bf85a1b-bff8-4d33-b466-406dc5bac323",
     "showTitle": false,
     "title": ""
    }
   },
   "source": [
    "Now, it's time to take your newly acquired knowledge and skills to the next level by trying the LazyPredict library for classification problem."
   ]
  },
  {
   "cell_type": "code",
   "execution_count": 0,
   "metadata": {
    "application/vnd.databricks.v1+cell": {
     "cellMetadata": {
      "byteLimit": 2048000,
      "rowLimit": 10000
     },
     "inputWidgets": {},
     "nuid": "1735e61a-167f-44c5-990e-b6a031e093b9",
     "showTitle": false,
     "title": ""
    }
   },
   "outputs": [],
   "source": [
    "# Task: Import titanic.csv dataset\n",
    "\n",
    "titanic_df = pd.read_csv('../../../Data/titanic.csv')"
   ]
  },
  {
   "cell_type": "code",
   "execution_count": 0,
   "metadata": {
    "application/vnd.databricks.v1+cell": {
     "cellMetadata": {
      "byteLimit": 2048000,
      "rowLimit": 10000
     },
     "inputWidgets": {},
     "nuid": "3c10c0fd-6b60-4cf1-bd95-bd658335c720",
     "showTitle": false,
     "title": ""
    }
   },
   "outputs": [],
   "source": [
    "X = titanic_df[['Sex', 'Embarked', 'Pclass', 'Age', 'Survived']]\n",
    "y = titanic_df[['Survived']]"
   ]
  },
  {
   "cell_type": "code",
   "execution_count": 0,
   "metadata": {
    "application/vnd.databricks.v1+cell": {
     "cellMetadata": {
      "byteLimit": 2048000,
      "rowLimit": 10000
     },
     "inputWidgets": {},
     "nuid": "0640bca0-eb93-4728-a5d0-17fc500acfdb",
     "showTitle": false,
     "title": ""
    }
   },
   "outputs": [],
   "source": [
    "X"
   ]
  },
  {
   "cell_type": "code",
   "execution_count": 0,
   "metadata": {
    "application/vnd.databricks.v1+cell": {
     "cellMetadata": {
      "byteLimit": 2048000,
      "rowLimit": 10000
     },
     "inputWidgets": {},
     "nuid": "90f7ddff-5c2d-4aa3-94d1-bd2b4fe25ec7",
     "showTitle": false,
     "title": ""
    }
   },
   "outputs": [],
   "source": [
    "y"
   ]
  },
  {
   "cell_type": "code",
   "execution_count": 0,
   "metadata": {
    "application/vnd.databricks.v1+cell": {
     "cellMetadata": {
      "byteLimit": 2048000,
      "rowLimit": 10000
     },
     "inputWidgets": {},
     "nuid": "6e274177-df43-4dd9-9c26-77348c1e6cbe",
     "showTitle": false,
     "title": ""
    }
   },
   "outputs": [],
   "source": [
    "# Task: split the dataset into train and test sets\n",
    "\n",
    "X_train, X_test, y_train, y_test = train_test_split(X, y, test_size = 0.2, random_state = 0)"
   ]
  },
  {
   "cell_type": "markdown",
   "metadata": {
    "application/vnd.databricks.v1+cell": {
     "cellMetadata": {},
     "inputWidgets": {},
     "nuid": "a10b84c8-86a3-4113-a372-4b6bcbe72621",
     "showTitle": false,
     "title": ""
    }
   },
   "source": [
    "## Classification with LazyPredict"
   ]
  },
  {
   "cell_type": "markdown",
   "metadata": {
    "application/vnd.databricks.v1+cell": {
     "cellMetadata": {},
     "inputWidgets": {},
     "nuid": "3697a702-7717-4fa5-8a23-d23e775cdcbe",
     "showTitle": false,
     "title": ""
    }
   },
   "source": [
    "*Previously, we used LazyPredict for a regression problem. Now, since you have a classification task, it's recommended to go through the documentation to address the following task: https://lazypredict.readthedocs.io/en/latest/usage.html#classification.*"
   ]
  },
  {
   "cell_type": "code",
   "execution_count": 0,
   "metadata": {
    "application/vnd.databricks.v1+cell": {
     "cellMetadata": {
      "byteLimit": 2048000,
      "rowLimit": 10000
     },
     "inputWidgets": {},
     "nuid": "e5141f57-5496-49be-9ca8-b72fcd692a59",
     "showTitle": false,
     "title": ""
    }
   },
   "outputs": [],
   "source": [
    "# Task: compare different classification models on titanic dataset with LazyClassifier\n",
    "\n",
    "# Your code here...\n",
    "from lazypredict.Supervised import LazyClassifier\n",
    "\n",
    "clf = LazyClassifier()\n",
    "models, predictions = clf.fit(X_train, X_test, y_train, y_test)\n",
    "models\n",
    "\n",
    "\n",
    "# Think how would you interpret the results"
   ]
  },
  {
   "cell_type": "markdown",
   "metadata": {
    "application/vnd.databricks.v1+cell": {
     "cellMetadata": {},
     "inputWidgets": {},
     "nuid": "d5f0ff74-9ddd-448f-8a54-7f49870308ba",
     "showTitle": false,
     "title": ""
    }
   },
   "source": [
    "Congratulations! You've completed the study notebook on automating machine learning workflows with and LazyPredict. \n",
    "By automating repetitive tasks, this library enables us to iterate faster, experiment with various algorithms, and gain valuable insights from our data more efficiently.\n",
    "\n",
    "As you continue your journey in machine learning and keep on using this library, we encourage you to dive deeper into the documentation and Github page.\n",
    "\n",
    "**Resources:**\n",
    "- Documentation: https://lazypredict.readthedocs.io/en/latest/\n",
    "- Github: https://github.com/shankarpandala/lazypredict"
   ]
  }
 ],
 "metadata": {
  "application/vnd.databricks.v1+notebook": {
   "dashboards": [],
   "environmentMetadata": null,
   "language": "python",
   "notebookMetadata": {
    "pythonIndentUnit": 4
   },
   "notebookName": "[Answer]4b_AutoML_LazyPredict_jupyter",
   "widgets": {}
  }
 },
 "nbformat": 4,
 "nbformat_minor": 0
}
