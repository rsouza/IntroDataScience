{
 "cells": [
  {
   "cell_type": "code",
   "execution_count": 0,
   "metadata": {
    "application/vnd.databricks.v1+cell": {
     "cellMetadata": {},
     "inputWidgets": {},
     "nuid": "31190886-f4c8-49da-8994-92b91ad01b43",
     "showTitle": false,
     "title": ""
    }
   },
   "outputs": [],
   "source": [
    "import pandas as pd\n",
    "\n",
    "train = pd.read_csv(\"data_titanic/train.csv\")\n",
    "train.Pclass = train.Pclass.astype(float) # to avoid DataConversionWarning"
   ]
  },
  {
   "cell_type": "code",
   "execution_count": 0,
   "metadata": {
    "application/vnd.databricks.v1+cell": {
     "cellMetadata": {},
     "inputWidgets": {},
     "nuid": "529acd71-8fa3-4c24-a79d-aa05f3743630",
     "showTitle": false,
     "title": ""
    }
   },
   "outputs": [],
   "source": [
    "train.head()"
   ]
  },
  {
   "cell_type": "markdown",
   "metadata": {
    "application/vnd.databricks.v1+cell": {
     "cellMetadata": {},
     "inputWidgets": {},
     "nuid": "cfa47233-7008-4a65-b374-196248ef15ce",
     "showTitle": false,
     "title": ""
    }
   },
   "source": [
    "## Brief Exploration"
   ]
  },
  {
   "cell_type": "code",
   "execution_count": 0,
   "metadata": {
    "application/vnd.databricks.v1+cell": {
     "cellMetadata": {},
     "inputWidgets": {},
     "nuid": "7bea8d24-1a85-4169-a201-be6ddc3dd770",
     "showTitle": false,
     "title": ""
    }
   },
   "outputs": [],
   "source": [
    "# Categorical features\n",
    "train.describe(include = object)"
   ]
  },
  {
   "cell_type": "code",
   "execution_count": 0,
   "metadata": {
    "application/vnd.databricks.v1+cell": {
     "cellMetadata": {},
     "inputWidgets": {},
     "nuid": "c430aec3-e65c-4d74-aab0-a6f19f355fd2",
     "showTitle": false,
     "title": ""
    }
   },
   "outputs": [],
   "source": [
    "# Numerical features\n",
    "train.describe()"
   ]
  },
  {
   "cell_type": "markdown",
   "metadata": {
    "application/vnd.databricks.v1+cell": {
     "cellMetadata": {},
     "inputWidgets": {},
     "nuid": "241c3096-414f-46aa-970e-f5b49c40e83d",
     "showTitle": false,
     "title": ""
    }
   },
   "source": [
    "Let's work only with the following features for simplicity:   \n",
    "\n",
    "**Categorical**   \n",
    "- Sex\n",
    "- Embarked\n",
    "\n",
    "**Numerical**  \n",
    "- Survived: *our target feature* (0 = No, 1 = Yes)\n",
    "- Pclass: Ticket class (1 = 1st, 2 = 2nd, 3 = 3rd)\n",
    "- Age: Age in years\n",
    " \n",
    "More detailed info: https://www.kaggle.com/c/titanic"
   ]
  },
  {
   "cell_type": "code",
   "execution_count": 0,
   "metadata": {
    "application/vnd.databricks.v1+cell": {
     "cellMetadata": {},
     "inputWidgets": {},
     "nuid": "fe3c3fe4-466d-4fdb-88fd-221a09802584",
     "showTitle": false,
     "title": ""
    }
   },
   "outputs": [],
   "source": [
    "# Let's keep only the desired columns\n",
    "train = train[['Sex','Embarked','Pclass', 'Age','Survived']]"
   ]
  },
  {
   "cell_type": "code",
   "execution_count": 0,
   "metadata": {
    "application/vnd.databricks.v1+cell": {
     "cellMetadata": {},
     "inputWidgets": {},
     "nuid": "1af0b0a7-9f48-4554-af4c-3fa068390948",
     "showTitle": false,
     "title": ""
    }
   },
   "outputs": [],
   "source": [
    "train.shape"
   ]
  },
  {
   "cell_type": "code",
   "execution_count": 0,
   "metadata": {
    "application/vnd.databricks.v1+cell": {
     "cellMetadata": {},
     "inputWidgets": {},
     "nuid": "45394fc3-6d2d-4077-bebf-70808102b5b3",
     "showTitle": false,
     "title": ""
    }
   },
   "outputs": [],
   "source": [
    "# Check for missing values\n",
    "train.isna().sum()"
   ]
  },
  {
   "cell_type": "markdown",
   "metadata": {
    "application/vnd.databricks.v1+cell": {
     "cellMetadata": {},
     "inputWidgets": {},
     "nuid": "7012a3fb-9b08-490b-86d1-7c23b6cf7338",
     "showTitle": false,
     "title": ""
    }
   },
   "source": [
    "For simplicity, we drop any row containing missing values. \n",
    "\n",
    "**Note**   \n",
    "If you later want to experiment with composite transformers, comment out this cell and include also missing value imputation."
   ]
  },
  {
   "cell_type": "code",
   "execution_count": 0,
   "metadata": {
    "application/vnd.databricks.v1+cell": {
     "cellMetadata": {},
     "inputWidgets": {},
     "nuid": "1a788121-2878-4205-92c7-0a0de6a92c04",
     "showTitle": false,
     "title": ""
    }
   },
   "outputs": [],
   "source": [
    "train = train.dropna(axis=0)\n",
    "train.head()"
   ]
  },
  {
   "cell_type": "markdown",
   "metadata": {
    "application/vnd.databricks.v1+cell": {
     "cellMetadata": {},
     "inputWidgets": {},
     "nuid": "88cc845c-b100-495b-8c6d-b279f8cfdbc6",
     "showTitle": false,
     "title": ""
    }
   },
   "source": [
    "## Feature Engineering\n",
    "With our current knowledge, we can try to individually implement various transformers from Scikit Learn. Let's not forget to create a holdout set!"
   ]
  },
  {
   "cell_type": "code",
   "execution_count": 0,
   "metadata": {
    "application/vnd.databricks.v1+cell": {
     "cellMetadata": {},
     "inputWidgets": {},
     "nuid": "1981febe-6d47-4107-8201-b6971e5bc3eb",
     "showTitle": false,
     "title": ""
    }
   },
   "outputs": [],
   "source": [
    "import numpy as np\n",
    "from sklearn import preprocessing\n",
    "from sklearn.model_selection import train_test_split\n",
    "\n",
    "X_train, X_test, y_train, y_test = train_test_split(train[['Pclass', 'Age', 'Sex', 'Embarked']],\n",
    "                                                    train['Survived'], \n",
    "                                                    test_size=0.2, \n",
    "                                                    random_state=42)"
   ]
  },
  {
   "cell_type": "markdown",
   "metadata": {
    "application/vnd.databricks.v1+cell": {
     "cellMetadata": {},
     "inputWidgets": {},
     "nuid": "7836bf48-6cd7-40f5-9a53-4fb06e0095ff",
     "showTitle": false,
     "title": ""
    }
   },
   "source": [
    "### Numerical Features\n",
    "The only numerical features we have are 'Pclass' and 'Age'.  \n",
    "Let's scale these two features using `MinMaxScaler()`."
   ]
  },
  {
   "cell_type": "code",
   "execution_count": 0,
   "metadata": {
    "application/vnd.databricks.v1+cell": {
     "cellMetadata": {},
     "inputWidgets": {},
     "nuid": "c6c5e15d-286a-416c-a53a-ba78a1cc4164",
     "showTitle": false,
     "title": ""
    }
   },
   "outputs": [],
   "source": [
    "scaler = preprocessing.MinMaxScaler()\n",
    "scaler.fit(X_train[['Pclass', 'Age']])\n",
    "X_train_transformed_numerical = scaler.transform(X_train[['Pclass', 'Age']])\n",
    "X_test_transformed_numerical = scaler.transform(X_test[['Pclass', 'Age']])\n",
    "\n",
    "print(X_train_transformed_numerical.shape)\n",
    "print(X_test_transformed_numerical.shape)"
   ]
  },
  {
   "cell_type": "markdown",
   "metadata": {
    "application/vnd.databricks.v1+cell": {
     "cellMetadata": {},
     "inputWidgets": {},
     "nuid": "a5dd41d6-3282-47ab-ba1e-5b780dd0cdea",
     "showTitle": false,
     "title": ""
    }
   },
   "source": [
    "### Categorical Features\n",
    "The categorical features we have are 'Sex' and 'Embarked'.   \n",
    "We can simply one-hot encode these using `OneHotEncoder()`."
   ]
  },
  {
   "cell_type": "code",
   "execution_count": 0,
   "metadata": {
    "application/vnd.databricks.v1+cell": {
     "cellMetadata": {},
     "inputWidgets": {},
     "nuid": "9bb41de4-7db5-42ca-9661-fc6027369ca8",
     "showTitle": false,
     "title": ""
    }
   },
   "outputs": [],
   "source": [
    "encoder = preprocessing.OneHotEncoder(sparse=False)\n",
    "encoder.fit(X_train[['Sex', 'Embarked']])\n",
    "X_train_transformed_categorical = encoder.transform(X_train[['Sex', 'Embarked']])\n",
    "X_test_transformed_categorical = encoder.transform(X_test[['Sex', 'Embarked']])\n",
    "\n",
    "print(X_train_transformed_categorical.shape)\n",
    "print(X_test_transformed_categorical.shape)"
   ]
  },
  {
   "cell_type": "markdown",
   "metadata": {
    "application/vnd.databricks.v1+cell": {
     "cellMetadata": {},
     "inputWidgets": {},
     "nuid": "25b533dc-67be-48fa-9bde-83b81d5358e3",
     "showTitle": false,
     "title": ""
    }
   },
   "source": [
    "## HANDS-ON 1: Baseline Model & Model Evaluation\n",
    "It's time for our first exercise! \n",
    "Before, let's concatenate the transformed numerical and categorical features into a single dataframe."
   ]
  },
  {
   "cell_type": "code",
   "execution_count": 0,
   "metadata": {
    "application/vnd.databricks.v1+cell": {
     "cellMetadata": {},
     "inputWidgets": {},
     "nuid": "85869c30-9d9e-481e-9f35-cc9afc19dd1f",
     "showTitle": false,
     "title": ""
    }
   },
   "outputs": [],
   "source": [
    "X_train_transformed = np.concatenate((X_train_transformed_numerical,X_train_transformed_categorical), axis = 1)\n",
    "X_test_transformed = np.concatenate((X_test_transformed_numerical,X_test_transformed_categorical), axis = 1)\n",
    "\n",
    "print(X_train_transformed.shape)\n",
    "print(X_test_transformed.shape)"
   ]
  },
  {
   "cell_type": "code",
   "execution_count": 0,
   "metadata": {
    "application/vnd.databricks.v1+cell": {
     "cellMetadata": {},
     "inputWidgets": {},
     "nuid": "2d49cb0b-134d-43ce-9723-3f115a2d4703",
     "showTitle": false,
     "title": ""
    }
   },
   "outputs": [],
   "source": [
    "# TASK 1: Fit sklearn.DummyClassifier to the transformed training set.  \n",
    "# Then, let the model predict for train (X_train_transformed) and holdout set (X_test_transformed).\n",
    "# Store the prediction as y_pred_TRAIN_DUMMY (training set) and as y_pred_HOLDOUT_DUMMY (holdout set).\n",
    "\n",
    "from sklearn.dummy import DummyClassifier\n"
   ]
  },
  {
   "cell_type": "code",
   "execution_count": 0,
   "metadata": {
    "application/vnd.databricks.v1+cell": {
     "cellMetadata": {},
     "inputWidgets": {},
     "nuid": "9e903d7d-0137-40a9-b128-60dcdee078f8",
     "showTitle": false,
     "title": ""
    }
   },
   "outputs": [],
   "source": [
    "# OPTIONAL TASK 1: Think about a simple heuristic that can be used as a baseline. \n",
    "# One possibility is to use gender and for example predict that every men or every woman has survived.\n",
    "# You can store the result as y_pred_TRAIN_HEURISTIC and as y_pred_HOLDOUT_HEURISTIC.\n"
   ]
  },
  {
   "cell_type": "markdown",
   "metadata": {
    "application/vnd.databricks.v1+cell": {
     "cellMetadata": {},
     "inputWidgets": {},
     "nuid": "c685a753-b1a5-48f0-8f9d-3e177804bfc5",
     "showTitle": false,
     "title": ""
    }
   },
   "source": [
    "Great! We have our first prediction! It is time to evaluate how good our model is using the [*sklearn.metrics* module.](   \n",
    "https://scikit-learn.org/stable/modules/classes.html#sklearn-metrics-metrics)"
   ]
  },
  {
   "cell_type": "code",
   "execution_count": 0,
   "metadata": {
    "application/vnd.databricks.v1+cell": {
     "cellMetadata": {},
     "inputWidgets": {},
     "nuid": "0e3d9cae-bf2b-4d44-a77d-3560f1cc5a2a",
     "showTitle": false,
     "title": ""
    }
   },
   "outputs": [],
   "source": [
    "from sklearn import metrics\n",
    "\n",
    "#TASK 2A: Display ACCURACY on TRAIN set.\n",
    "\n",
    "#TASK 2B: Display ACCURACY on HOLDOUT set.\n",
    "\n",
    "#OPTIONAL TASK 2C: Can you think of a better measure than accuracy based on the domain problem? If yes, use it the same way."
   ]
  },
  {
   "cell_type": "markdown",
   "metadata": {
    "application/vnd.databricks.v1+cell": {
     "cellMetadata": {},
     "inputWidgets": {},
     "nuid": "db36da67-d91e-4615-8ea8-149a62e52e2c",
     "showTitle": false,
     "title": ""
    }
   },
   "source": [
    "Great! Now we would also like to see the confusion matrix as it is always a good idea to visually confirm the quality of our predictions."
   ]
  },
  {
   "cell_type": "code",
   "execution_count": 0,
   "metadata": {
    "application/vnd.databricks.v1+cell": {
     "cellMetadata": {},
     "inputWidgets": {},
     "nuid": "1b1a7df4-6033-4b91-b7dd-bd6d41080076",
     "showTitle": false,
     "title": ""
    }
   },
   "outputs": [],
   "source": [
    "#TASK 3: Display a CONFUSION MATRIX on HOLDOUT set. Hint: do not use plot_confusion_matrix but confusion_matrix only.\n"
   ]
  },
  {
   "cell_type": "markdown",
   "metadata": {
    "application/vnd.databricks.v1+cell": {
     "cellMetadata": {},
     "inputWidgets": {},
     "nuid": "364c391f-cb54-4020-a5dc-222deafcba92",
     "showTitle": false,
     "title": ""
    }
   },
   "source": [
    "## HANDS-ON 2: Composite Estimators\n",
    "Let's nicely wrap our feature engineering and model fitting into a nice composite estimator. We will be very simplistic and only use two steps. \n",
    "They will not nest into each other at once."
   ]
  },
  {
   "cell_type": "markdown",
   "metadata": {
    "application/vnd.databricks.v1+cell": {
     "cellMetadata": {},
     "inputWidgets": {},
     "nuid": "5284c2be-e76d-4a70-83d1-ebf647a8f392",
     "showTitle": false,
     "title": ""
    }
   },
   "source": [
    "### Feature Engineering wrapped into ColumnTransformer\n",
    "The two feature transformations can be easily wrapped up into a single `ColumnTransformer()` object. This will ensure that our Feature Engineering is a bit **more robust and nicely encapsulated**. Section 6.1.4 [here](https://scikit-learn.org/stable/modules/compose.html#columntransformer-for-heterogeneous-data) showcases the exact application that we intend to create."
   ]
  },
  {
   "cell_type": "code",
   "execution_count": 0,
   "metadata": {
    "application/vnd.databricks.v1+cell": {
     "cellMetadata": {},
     "inputWidgets": {},
     "nuid": "4f3166b4-e868-4dec-9de3-4003ae8477e9",
     "showTitle": false,
     "title": ""
    }
   },
   "outputs": [],
   "source": [
    "# TASK 3: Wrap MinMaxScaler and OneHotEncoder into a single ColumnTransformer. \n",
    "# The transformers should be applied to the respective numerical or categorical columns only.\n",
    "# Store the resulting composite as feature_engineering\n",
    "# Hint: Use the argument remainder='passthrough'\n",
    "\n",
    "from sklearn.compose import ColumnTransformer\n"
   ]
  },
  {
   "cell_type": "markdown",
   "metadata": {
    "application/vnd.databricks.v1+cell": {
     "cellMetadata": {},
     "inputWidgets": {},
     "nuid": "bc252dd9-4dfc-4471-9455-3b2c74b3c4d2",
     "showTitle": false,
     "title": ""
    }
   },
   "source": [
    "### Predictive Model Wrapped into Pipeline\n",
    "Let's now wrap the feature engineering and the model into a single Pipeline Composite estimator. Here is some pseudocode for this:\n",
    "``` \n",
    "entire_pipeline = feature_engineering -> model  \n",
    "``` \n",
    "\n",
    "Both components are already available. From the step above we can directly reuse the object `feature_engineering`. As model, we just call a new `DummyClassifier`, just as we did before."
   ]
  },
  {
   "cell_type": "code",
   "execution_count": 0,
   "metadata": {
    "application/vnd.databricks.v1+cell": {
     "cellMetadata": {},
     "inputWidgets": {},
     "nuid": "df354c1c-3db2-4569-b291-dae010f64e75",
     "showTitle": false,
     "title": ""
    }
   },
   "outputs": [],
   "source": [
    "# TASK 4: Wrap the feature engineering and the predictive model (dummy) into a single Pipeline composite estimator. \n",
    "# Store the result as entire_pipeline.\n",
    "from sklearn.pipeline import Pipeline\n"
   ]
  },
  {
   "cell_type": "code",
   "execution_count": 0,
   "metadata": {
    "application/vnd.databricks.v1+cell": {
     "cellMetadata": {},
     "inputWidgets": {},
     "nuid": "7ed6213e-9e9c-407b-a681-3ba01ed085f0",
     "showTitle": false,
     "title": ""
    }
   },
   "outputs": [],
   "source": [
    "# TASK: Uncomment the line and try to train the pipeline.\n",
    "# Notice that we are using untransformed data again (X_train) as the pipeline contains all necessary transformers.\n",
    "\n",
    "# entire_pipeline.fit(X = X_train, y = y_train)"
   ]
  },
  {
   "cell_type": "code",
   "execution_count": 0,
   "metadata": {
    "application/vnd.databricks.v1+cell": {
     "cellMetadata": {},
     "inputWidgets": {},
     "nuid": "f4b99717-4193-4adc-8094-54acb7542057",
     "showTitle": false,
     "title": ""
    }
   },
   "outputs": [],
   "source": [
    "# Predict for training data\n",
    "y_pred_TRAIN_DUMMY = entire_pipeline.predict(X_train)\n",
    "\n",
    "# Predict for holdout data\n",
    "y_pred_HOLDOUT_DUMMY = entire_pipeline.predict(X_test)\n",
    "\n",
    "# Results should be the same as before\n",
    "print(metrics.accuracy_score(y_train, y_pred_TRAIN_DUMMY))\n",
    "\n",
    "# Display accuracy on holdout set.\n",
    "print(metrics.accuracy_score(y_test, y_pred_HOLDOUT_DUMMY))"
   ]
  },
  {
   "cell_type": "markdown",
   "metadata": {
    "application/vnd.databricks.v1+cell": {
     "cellMetadata": {},
     "inputWidgets": {},
     "nuid": "85a0b615-7a3a-4387-91bf-3c0efd2290fa",
     "showTitle": false,
     "title": ""
    }
   },
   "source": [
    "**OPTIONAL TASK**   \n",
    "The notebook 'nice_pipeline' was made to exemplify some examples of more complex pipelines. Feel free to scroll through it and learn what the process of preparing a complex composite looks like. You can then come back here and try to implement various components. For example, if I would not drop rows with missing values at the beginning of this notebook, constructing a composite would get a bit trickier."
   ]
  },
  {
   "cell_type": "markdown",
   "metadata": {
    "application/vnd.databricks.v1+cell": {
     "cellMetadata": {},
     "inputWidgets": {},
     "nuid": "c7fcf8f7-3eb5-463e-bfcb-fe108916aeb3",
     "showTitle": false,
     "title": ""
    }
   },
   "source": [
    "## HANDS-ON 3: Tree-based Models & Hyperparameter Tuning\n",
    "Hold your constructed pipeline firmly! The only thing that we need to do now is to replace `DummyClassifier` with a proper learning model.   \n",
    "We can start with a decision tree."
   ]
  },
  {
   "cell_type": "markdown",
   "metadata": {
    "application/vnd.databricks.v1+cell": {
     "cellMetadata": {},
     "inputWidgets": {},
     "nuid": "d3022a12-5080-4f94-be7f-5c6018a8e35e",
     "showTitle": false,
     "title": ""
    }
   },
   "source": [
    "### Fitting a Learning Model – Decision Tree"
   ]
  },
  {
   "cell_type": "code",
   "execution_count": 0,
   "metadata": {
    "application/vnd.databricks.v1+cell": {
     "cellMetadata": {},
     "inputWidgets": {},
     "nuid": "4c9f0440-d8a8-411b-adea-483347f87bd7",
     "showTitle": false,
     "title": ""
    }
   },
   "outputs": [],
   "source": [
    "# TASK 5: Reuse your composite and instead of a dummy, fit a decision tree with default parameters.\n",
    "# Store the result as dt_pipeline.\n",
    "from sklearn.tree import DecisionTreeClassifier\n",
    "\n",
    "# Train the pipeline\n",
    "# dt_pipeline.fit(X = X_train, y = y_train)"
   ]
  },
  {
   "cell_type": "code",
   "execution_count": 0,
   "metadata": {
    "application/vnd.databricks.v1+cell": {
     "cellMetadata": {},
     "inputWidgets": {},
     "nuid": "757a7140-1415-40f4-acdf-69f5fb414141",
     "showTitle": false,
     "title": ""
    }
   },
   "outputs": [],
   "source": [
    "# TASK 5B: Let the pipeline predict for the training set. \n",
    "# Store the result as y_pred_TRAIN_DT.\n",
    "# Also, display accuracy.\n"
   ]
  },
  {
   "cell_type": "code",
   "execution_count": 0,
   "metadata": {
    "application/vnd.databricks.v1+cell": {
     "cellMetadata": {},
     "inputWidgets": {},
     "nuid": "9d0fe0cb-acfd-4aa7-824d-58ac6de72629",
     "showTitle": false,
     "title": ""
    }
   },
   "outputs": [],
   "source": [
    "# TASK 5C: Let the pipeline predict for the holdout set. \n",
    "# Store the result as y_pred_HOLDOUT_DT.\n",
    "# Also, display accuracy.\n"
   ]
  },
  {
   "cell_type": "markdown",
   "metadata": {
    "application/vnd.databricks.v1+cell": {
     "cellMetadata": {},
     "inputWidgets": {},
     "nuid": "53a4eec3-6523-4b82-b353-9321338ade3d",
     "showTitle": false,
     "title": ""
    }
   },
   "source": [
    "Looking at the accuracy on training and holdout set, what can you infer about over model? Will it generalize well?"
   ]
  },
  {
   "cell_type": "code",
   "execution_count": 0,
   "metadata": {
    "application/vnd.databricks.v1+cell": {
     "cellMetadata": {},
     "inputWidgets": {},
     "nuid": "cdc7a4af-c241-4381-885c-700688533bd9",
     "showTitle": false,
     "title": ""
    }
   },
   "outputs": [],
   "source": [
    "# OPTIONAL TASK 6: Do the same steps with RandomForest with default parameters. \n",
    "# Does the RandomForest display similar results as decision tree? If not, why?\n",
    "from sklearn.ensemble import RandomForestClassifier\n"
   ]
  },
  {
   "cell_type": "markdown",
   "metadata": {
    "application/vnd.databricks.v1+cell": {
     "cellMetadata": {},
     "inputWidgets": {},
     "nuid": "6b8da83f-496e-479c-9310-2eb8a45b6245",
     "showTitle": false,
     "title": ""
    }
   },
   "source": [
    "### Tuning Hyperparameters of our Decision Tree\n",
    "Time to improve the performance of our learning model by finding its optimal set of hyperparameters.  \n",
    "We start by examining **which hyperparameters are available** in our decision tree pipeline."
   ]
  },
  {
   "cell_type": "code",
   "execution_count": 0,
   "metadata": {
    "application/vnd.databricks.v1+cell": {
     "cellMetadata": {},
     "inputWidgets": {},
     "nuid": "1d098ad5-3e10-4478-abd6-18f875a8614f",
     "showTitle": false,
     "title": ""
    }
   },
   "outputs": [],
   "source": [
    "dt_pipeline.get_params()"
   ]
  },
  {
   "cell_type": "markdown",
   "metadata": {
    "application/vnd.databricks.v1+cell": {
     "cellMetadata": {},
     "inputWidgets": {},
     "nuid": "9521fd24-fc1b-4074-9bd7-8426dc23b952",
     "showTitle": false,
     "title": ""
    }
   },
   "source": [
    "We would like to tune `max_depth` and `min_samples_split`.  \n",
    "Notice that to access them, we also need to navigate within the composite and call them as **`decision_tree`**`__max_depth`."
   ]
  },
  {
   "cell_type": "code",
   "execution_count": 0,
   "metadata": {
    "application/vnd.databricks.v1+cell": {
     "cellMetadata": {},
     "inputWidgets": {},
     "nuid": "95d17d95-ca2f-4d8e-87ae-217ded493802",
     "showTitle": false,
     "title": ""
    }
   },
   "outputs": [],
   "source": [
    "# TASK 7: Define a grid through which we should search. \n",
    "# Tune parameters: max_depth and min_samples_split.\n",
    "# The values which you pick as parameters are up to you. You can think about them intuitively.\n"
   ]
  },
  {
   "cell_type": "code",
   "execution_count": 0,
   "metadata": {
    "application/vnd.databricks.v1+cell": {
     "cellMetadata": {},
     "inputWidgets": {},
     "nuid": "16983dc9-330b-4aa3-a458-e0647d84cd38",
     "showTitle": false,
     "title": ""
    }
   },
   "outputs": [],
   "source": [
    "from sklearn import tree\n",
    "from sklearn.model_selection import GridSearchCV\n",
    "\n",
    "# Model\n",
    "dt_pipeline\n",
    "\n",
    "# Searching strategy, providing grid\n",
    "tuning = GridSearchCV(dt_pipeline, param_grid)\n",
    "\n",
    "# Train\n",
    "tuning.fit(X_train, y_train)"
   ]
  },
  {
   "cell_type": "code",
   "execution_count": 0,
   "metadata": {
    "application/vnd.databricks.v1+cell": {
     "cellMetadata": {},
     "inputWidgets": {},
     "nuid": "ff9c692f-c423-4a0f-8950-f467ee09294c",
     "showTitle": false,
     "title": ""
    }
   },
   "outputs": [],
   "source": [
    "# Let's get the best parameters\n",
    "tuning.best_params_"
   ]
  },
  {
   "cell_type": "code",
   "execution_count": 0,
   "metadata": {
    "application/vnd.databricks.v1+cell": {
     "cellMetadata": {},
     "inputWidgets": {},
     "nuid": "e4fb5726-3670-4c5e-bbcf-7b6f2d862edc",
     "showTitle": false,
     "title": ""
    }
   },
   "outputs": [],
   "source": [
    "# TASK 8: Use the best setting of the two hyperparameters and fit a optimized decision tree. \n",
    "# Hint: Reuse the pipeline and when declaring it, specify the params.\n",
    "# Store it as dt_pipeline_tuned.\n",
    "\n",
    "... \n",
    "\n",
    "# Train\n",
    "dt_pipeline_tuned.fit(X_train, y_train)"
   ]
  },
  {
   "cell_type": "code",
   "execution_count": 0,
   "metadata": {
    "application/vnd.databricks.v1+cell": {
     "cellMetadata": {},
     "inputWidgets": {},
     "nuid": "75834a13-c821-4a68-9dde-d59d2ee92867",
     "showTitle": false,
     "title": ""
    }
   },
   "outputs": [],
   "source": [
    "# TASK 8B: Display accuracy on the training set of the optimized decision tree.\n"
   ]
  },
  {
   "cell_type": "code",
   "execution_count": 0,
   "metadata": {
    "application/vnd.databricks.v1+cell": {
     "cellMetadata": {},
     "inputWidgets": {},
     "nuid": "bbdef103-404b-468e-afc7-ade2402577c5",
     "showTitle": false,
     "title": ""
    }
   },
   "outputs": [],
   "source": [
    "# TASK 8C: Display accuracy on the holdout set of the optimized decision tree.\n"
   ]
  },
  {
   "cell_type": "markdown",
   "metadata": {
    "application/vnd.databricks.v1+cell": {
     "cellMetadata": {},
     "inputWidgets": {},
     "nuid": "adb8402c-a9e2-4ee3-b4ef-099cc4be70ce",
     "showTitle": false,
     "title": ""
    }
   },
   "source": [
    "Does the optimized decision tree perform better then the one with default parameters?"
   ]
  },
  {
   "cell_type": "markdown",
   "metadata": {
    "application/vnd.databricks.v1+cell": {
     "cellMetadata": {},
     "inputWidgets": {},
     "nuid": "0bbd375b-9d52-41b8-9daa-85d2c6029f8c",
     "showTitle": false,
     "title": ""
    }
   },
   "source": [
    "### Optional Advanced TASK: Tuning Random Forest\n",
    "When you are tuning a more complex model, it is good practice to search available literature on which hyperparameters should be tuned. Below I have predefined some. You can play around with the grid, for example expand or narrow it. Keep in mind that as our feature set is extremely limited, its hard for hyperparameter tuning to arrive at something meaningful."
   ]
  },
  {
   "cell_type": "code",
   "execution_count": 0,
   "metadata": {
    "application/vnd.databricks.v1+cell": {
     "cellMetadata": {},
     "inputWidgets": {},
     "nuid": "aae0a23f-0878-4c08-b8ac-01bfb87c488d",
     "showTitle": false,
     "title": ""
    }
   },
   "outputs": [],
   "source": [
    "# OPTIONAL TASK 9\n",
    "from sklearn.ensemble import RandomForestClassifier\n",
    "from sklearn.model_selection import GridSearchCV\n",
    "\n",
    "# Define a pipeline\n",
    "rf_pipeline = Pipeline([('feature_engineering', feature_engineering), ('random_forest', RandomForestClassifier())])\n",
    "\n",
    "# Create the parameter grid based on the results of random search \n",
    "param_grid_rf = {\n",
    "    'random_forest__bootstrap': [True, False],\n",
    "    'random_forest__max_depth': [3, 5, 10, 15],\n",
    "    'random_forest__max_features': [2, 3],\n",
    "    'random_forest__min_samples_leaf': [3, 4, 5],\n",
    "    'random_forest__min_samples_split': [5, 8, 10, 12],\n",
    "    'random_forest__n_estimators': [5, 10, 15, 20, 25]\n",
    "}\n",
    "# Create a based model\n",
    "rf = RandomForestClassifier()\n",
    "# Instantiate the grid search model\n",
    "grid_search = GridSearchCV(estimator = rf_pipeline, \n",
    "                           param_grid = param_grid_rf, \n",
    "                           cv = 3, \n",
    "                           n_jobs = -1, \n",
    "                           verbose = 2)\n",
    "\n",
    "# Searching strategy, providing grid\n",
    "tuning_rf = GridSearchCV(rf_pipeline, param_grid_rf)\n",
    "\n",
    "# Train\n",
    "tuning_rf.fit(X_train, y_train)\n",
    "\n",
    "# Cross-validated score (more robust than holdout set most likely)\n",
    "print(tuning_rf.best_score_)\n",
    "print(tuning_rf.best_params_)"
   ]
  },
  {
   "cell_type": "markdown",
   "metadata": {
    "application/vnd.databricks.v1+cell": {
     "cellMetadata": {},
     "inputWidgets": {},
     "nuid": "7ecc06a5-c0d9-4469-b2e9-911123b3988d",
     "showTitle": false,
     "title": ""
    }
   },
   "source": [
    "### Optional Advanced TASK: Check Kaggle competitions and join one of them!  \n",
    "https://www.kaggle.com/"
   ]
  },
  {
   "cell_type": "code",
   "execution_count": 0,
   "metadata": {
    "application/vnd.databricks.v1+cell": {
     "cellMetadata": {},
     "inputWidgets": {},
     "nuid": "4be8ad1a-2e6e-4ca5-9fc9-1ff2d4897abe",
     "showTitle": false,
     "title": ""
    }
   },
   "outputs": [],
   "source": []
  }
 ],
 "metadata": {
  "application/vnd.databricks.v1+notebook": {
   "dashboards": [],
   "language": "python",
   "notebookMetadata": {},
   "notebookName": "2_sup_learning_workflow",
   "notebookOrigID": 706562957545805,
   "widgets": {}
  }
 },
 "nbformat": 4,
 "nbformat_minor": 0
}
