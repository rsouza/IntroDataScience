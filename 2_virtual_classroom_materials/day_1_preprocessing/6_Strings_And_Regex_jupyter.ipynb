{
 "cells": [
  {
   "cell_type": "markdown",
   "metadata": {
    "application/vnd.databricks.v1+cell": {
     "cellMetadata": {},
     "inputWidgets": {},
     "nuid": "e6179477-82e4-4458-981a-11b93774d80e",
     "showTitle": false,
     "title": ""
    }
   },
   "source": [
    "# 1. String Manipulation Methods (READ-AND-PLAY)"
   ]
  },
  {
   "cell_type": "code",
   "execution_count": 0,
   "metadata": {
    "application/vnd.databricks.v1+cell": {
     "cellMetadata": {
      "byteLimit": 2048000,
      "rowLimit": 10000
     },
     "inputWidgets": {},
     "nuid": "60cad2d8-66ec-417d-9469-f2f0faf794ff",
     "showTitle": false,
     "title": ""
    }
   },
   "outputs": [],
   "source": [
    "# Run this code\n",
    "import pandas as pd\n",
    "import warnings\n",
    "warnings.filterwarnings('ignore')\n",
    "from IPython.display import Image"
   ]
  },
  {
   "cell_type": "code",
   "execution_count": 0,
   "metadata": {
    "application/vnd.databricks.v1+cell": {
     "cellMetadata": {
      "byteLimit": 2048000,
      "rowLimit": 10000
     },
     "inputWidgets": {},
     "nuid": "690f5584-2808-4872-9b6f-f0a4c4d5d8bd",
     "showTitle": false,
     "title": ""
    }
   },
   "outputs": [],
   "source": [
    "# Run this code\n",
    "string = '    pen,pineapple,apple, pen   '\n",
    "print(string)"
   ]
  },
  {
   "cell_type": "markdown",
   "metadata": {
    "application/vnd.databricks.v1+cell": {
     "cellMetadata": {},
     "inputWidgets": {},
     "nuid": "c20aff52-8c66-45a7-b468-e2618b6c2414",
     "showTitle": false,
     "title": ""
    }
   },
   "source": [
    "[`split()`](https://docs.python.org/3/library/stdtypes.html#str.split) method \n",
    "\n",
    "- This method splits a string into a list where each word is a list item.\n",
    "- We need to specify the `separator` to use when splitting the string.\n",
    "- We can specifiy how many splits to do by setting the `maxsplit` parameter."
   ]
  },
  {
   "cell_type": "code",
   "execution_count": 0,
   "metadata": {
    "application/vnd.databricks.v1+cell": {
     "cellMetadata": {
      "byteLimit": 2048000,
      "rowLimit": 10000
     },
     "inputWidgets": {},
     "nuid": "ee54e366-e8c7-439a-a16e-253bcbfa4d84",
     "showTitle": false,
     "title": ""
    }
   },
   "outputs": [],
   "source": [
    "# Split the string using separator ','\n",
    "string.split(',')"
   ]
  },
  {
   "cell_type": "code",
   "execution_count": 0,
   "metadata": {
    "application/vnd.databricks.v1+cell": {
     "cellMetadata": {
      "byteLimit": 2048000,
      "rowLimit": 10000
     },
     "inputWidgets": {},
     "nuid": "831d276b-3f5f-41ce-9678-1838e49cfb55",
     "showTitle": false,
     "title": ""
    }
   },
   "outputs": [],
   "source": [
    "# Run this code\n",
    "string_2 = 'summer#autumn   #spring  # winter'\n",
    "print(string_2)"
   ]
  },
  {
   "cell_type": "code",
   "execution_count": 0,
   "metadata": {
    "application/vnd.databricks.v1+cell": {
     "cellMetadata": {
      "byteLimit": 2048000,
      "rowLimit": 10000
     },
     "inputWidgets": {},
     "nuid": "7db82fe4-6f91-4751-a38b-3439b1224a84",
     "showTitle": false,
     "title": ""
    }
   },
   "outputs": [],
   "source": [
    "# Split the string using separator '#'\n",
    "string_2.split('#')"
   ]
  },
  {
   "cell_type": "code",
   "execution_count": 0,
   "metadata": {
    "application/vnd.databricks.v1+cell": {
     "cellMetadata": {
      "byteLimit": 2048000,
      "rowLimit": 10000
     },
     "inputWidgets": {},
     "nuid": "ead20224-7c03-44ea-a790-1270b7955cc9",
     "showTitle": false,
     "title": ""
    }
   },
   "outputs": [],
   "source": [
    "# Split string_2 and set the maxsplit parameter to 2 (this should return a list with 3 elements)\n",
    "x = string_2.split('#', 2)\n",
    "print(x)"
   ]
  },
  {
   "cell_type": "markdown",
   "metadata": {
    "application/vnd.databricks.v1+cell": {
     "cellMetadata": {},
     "inputWidgets": {},
     "nuid": "6cb2203b-2cea-4e2f-b518-b2f5b29072b8",
     "showTitle": false,
     "title": ""
    }
   },
   "source": [
    "[`strip()`](https://docs.python.org/3/library/stdtypes.html#str.strip) method\n",
    "\n",
    "- It removes whitespaces at the beginning and at the end of the string."
   ]
  },
  {
   "cell_type": "code",
   "execution_count": 0,
   "metadata": {
    "application/vnd.databricks.v1+cell": {
     "cellMetadata": {
      "byteLimit": 2048000,
      "rowLimit": 10000
     },
     "inputWidgets": {},
     "nuid": "ec45f1be-8d3d-4b0f-bba1-175d0329152a",
     "showTitle": false,
     "title": ""
    }
   },
   "outputs": [],
   "source": [
    "# Remove whitespaces in the variable our_string\n",
    "our_string = '     There is a lot of space at the beginning and at the end of this sentence, let`s remove it.       '\n",
    "our_result = our_string.strip()\n",
    "print(our_result)"
   ]
  },
  {
   "cell_type": "markdown",
   "metadata": {
    "application/vnd.databricks.v1+cell": {
     "cellMetadata": {},
     "inputWidgets": {},
     "nuid": "6815304e-2301-49ae-8184-296957256bdf",
     "showTitle": false,
     "title": ""
    }
   },
   "source": [
    "[`join()`](https://docs.python.org/3/library/stdtypes.html#str.join) method\n",
    "\n",
    "- This method takes all items in an iterable and joins them into one string."
   ]
  },
  {
   "cell_type": "code",
   "execution_count": 0,
   "metadata": {
    "application/vnd.databricks.v1+cell": {
     "cellMetadata": {
      "byteLimit": 2048000,
      "rowLimit": 10000
     },
     "inputWidgets": {},
     "nuid": "b95a9980-1bc9-42b9-ae3f-4f85b9701dfa",
     "showTitle": false,
     "title": ""
    }
   },
   "outputs": [],
   "source": [
    "# Run this code\n",
    "my_list = ['Please', 'join', 'these', 'items.']\n",
    "'_'.join(my_list)"
   ]
  },
  {
   "cell_type": "code",
   "execution_count": 0,
   "metadata": {
    "application/vnd.databricks.v1+cell": {
     "cellMetadata": {
      "byteLimit": 2048000,
      "rowLimit": 10000
     },
     "inputWidgets": {},
     "nuid": "7e09bcf3-c9b2-483e-a77b-a67bc5aa2f03",
     "showTitle": false,
     "title": ""
    }
   },
   "outputs": [],
   "source": [
    "# Run this code\n",
    "my_tuple = ('We','are', 'joining', 'again.')\n",
    "'-'.join(my_tuple)"
   ]
  },
  {
   "cell_type": "markdown",
   "metadata": {
    "application/vnd.databricks.v1+cell": {
     "cellMetadata": {},
     "inputWidgets": {},
     "nuid": "983b5dbe-49f9-410d-9a0d-380394029be8",
     "showTitle": false,
     "title": ""
    }
   },
   "source": [
    "In the case of a dictionary, [`join()`](https://docs.python.org/3/library/stdtypes.html#str.join) tries to join keys of the dictionary, not values."
   ]
  },
  {
   "cell_type": "code",
   "execution_count": 0,
   "metadata": {
    "application/vnd.databricks.v1+cell": {
     "cellMetadata": {
      "byteLimit": 2048000,
      "rowLimit": 10000
     },
     "inputWidgets": {},
     "nuid": "ddaeec1f-b1eb-40f6-a089-fb708db3a1ad",
     "showTitle": false,
     "title": ""
    }
   },
   "outputs": [],
   "source": [
    "# Run this code\n",
    "my_dictionary = {'Key_1':'1',\n",
    "                 'Key_2':'2'}\n",
    "'#'.join(my_dictionary)"
   ]
  },
  {
   "cell_type": "markdown",
   "metadata": {
    "application/vnd.databricks.v1+cell": {
     "cellMetadata": {},
     "inputWidgets": {},
     "nuid": "5cb225c0-d9c6-4e30-87ef-e3edc0a20043",
     "showTitle": false,
     "title": ""
    }
   },
   "source": [
    "[`index()`](https://docs.python.org/3/library/stdtypes.html#str.index) method\n",
    "\n",
    "- It returns the position of the first character in a substring if the substring is found in the string.\n",
    "- It raises a `ValueError` if nothing is found."
   ]
  },
  {
   "cell_type": "code",
   "execution_count": 0,
   "metadata": {
    "application/vnd.databricks.v1+cell": {
     "cellMetadata": {
      "byteLimit": 2048000,
      "rowLimit": 10000
     },
     "inputWidgets": {},
     "nuid": "3e469c0a-9e67-4770-b265-50e4158ffda6",
     "showTitle": false,
     "title": ""
    }
   },
   "outputs": [],
   "source": [
    "# Run this code\n",
    "string_3 = 'That is my string'"
   ]
  },
  {
   "cell_type": "code",
   "execution_count": 0,
   "metadata": {
    "application/vnd.databricks.v1+cell": {
     "cellMetadata": {
      "byteLimit": 2048000,
      "rowLimit": 10000
     },
     "inputWidgets": {},
     "nuid": "e9b01fa1-da23-45bf-be4f-8c4b062431ab",
     "showTitle": false,
     "title": ""
    }
   },
   "outputs": [],
   "source": [
    "# Find the position of 'm' using `index()`\n",
    "string_3.index('m')"
   ]
  },
  {
   "cell_type": "markdown",
   "metadata": {
    "application/vnd.databricks.v1+cell": {
     "cellMetadata": {},
     "inputWidgets": {},
     "nuid": "7f31c4ff-2583-4625-b985-6960928efd66",
     "showTitle": false,
     "title": ""
    }
   },
   "source": [
    "[`replace()`](https://docs.python.org/3/library/stdtypes.html#str.replace) method\n",
    "\n",
    "- This method replaces occurences of a substring with another string.\n",
    "- It is commonly used to remove characters by passing an empty string."
   ]
  },
  {
   "cell_type": "code",
   "execution_count": 0,
   "metadata": {
    "application/vnd.databricks.v1+cell": {
     "cellMetadata": {
      "byteLimit": 2048000,
      "rowLimit": 10000
     },
     "inputWidgets": {},
     "nuid": "4aadfe00-dc44-421e-b79c-58b21c304a84",
     "showTitle": false,
     "title": ""
    }
   },
   "outputs": [],
   "source": [
    "# Replacing string in string_3\n",
    "string_3.replace('is','was')"
   ]
  },
  {
   "cell_type": "code",
   "execution_count": 0,
   "metadata": {
    "application/vnd.databricks.v1+cell": {
     "cellMetadata": {
      "byteLimit": 2048000,
      "rowLimit": 10000
     },
     "inputWidgets": {},
     "nuid": "ac7e6003-6bb5-42e4-bf10-493ab46685ba",
     "showTitle": false,
     "title": ""
    }
   },
   "outputs": [],
   "source": [
    "# Run this code\n",
    "string_4 = 'Why is here a semicolon; ?'"
   ]
  },
  {
   "cell_type": "code",
   "execution_count": 0,
   "metadata": {
    "application/vnd.databricks.v1+cell": {
     "cellMetadata": {
      "byteLimit": 2048000,
      "rowLimit": 10000
     },
     "inputWidgets": {},
     "nuid": "ffe33e96-8072-4dd9-b968-a0c3a8e5705a",
     "showTitle": false,
     "title": ""
    }
   },
   "outputs": [],
   "source": [
    "# Replacing character\n",
    "string_4.replace(';','')"
   ]
  },
  {
   "cell_type": "code",
   "execution_count": 0,
   "metadata": {
    "application/vnd.databricks.v1+cell": {
     "cellMetadata": {
      "byteLimit": 2048000,
      "rowLimit": 10000
     },
     "inputWidgets": {},
     "nuid": "e01db59a-15a8-4fd2-b898-9e1f14b52bb4",
     "showTitle": false,
     "title": ""
    }
   },
   "outputs": [],
   "source": [
    "# Run this code\n",
    "string_5 = 'Banana, avocado, pineapple, artichoke'"
   ]
  },
  {
   "cell_type": "code",
   "execution_count": 0,
   "metadata": {
    "application/vnd.databricks.v1+cell": {
     "cellMetadata": {
      "byteLimit": 2048000,
      "rowLimit": 10000
     },
     "inputWidgets": {},
     "nuid": "c9fe6410-b341-41f0-801e-dde0e1de1525",
     "showTitle": false,
     "title": ""
    }
   },
   "outputs": [],
   "source": [
    "# TASK 1 >>>> Use .replace() method to replace 'a' with 'A' in string_5 and store it in variable result_1"
   ]
  },
  {
   "cell_type": "markdown",
   "metadata": {
    "application/vnd.databricks.v1+cell": {
     "cellMetadata": {},
     "inputWidgets": {},
     "nuid": "8e139c8d-2873-4108-9d76-55f9ab98a210",
     "showTitle": false,
     "title": ""
    }
   },
   "source": [
    "[`upper()`](https://docs.python.org/3/library/stdtypes.html#str.upper) method\n",
    "\n",
    "- This method converts all lowercase characters in a string into uppercase characters and returns it.\n",
    "\n",
    "[`lower()`](https://docs.python.org/3/library/stdtypes.html#str.lower) method\n",
    "- This method converts all upercase characters in a string into lowercase characters and returns it."
   ]
  },
  {
   "cell_type": "code",
   "execution_count": 0,
   "metadata": {
    "application/vnd.databricks.v1+cell": {
     "cellMetadata": {
      "byteLimit": 2048000,
      "rowLimit": 10000
     },
     "inputWidgets": {},
     "nuid": "1726b775-5ad5-42a5-a575-a6ae3e89e5a0",
     "showTitle": false,
     "title": ""
    }
   },
   "outputs": [],
   "source": [
    "# Run this code\n",
    "string_to_upper = \"Make this uppercase\"\n",
    "print(string_to_upper.upper())"
   ]
  },
  {
   "cell_type": "code",
   "execution_count": 0,
   "metadata": {
    "application/vnd.databricks.v1+cell": {
     "cellMetadata": {
      "byteLimit": 2048000,
      "rowLimit": 10000
     },
     "inputWidgets": {},
     "nuid": "aea65fe8-bab3-4526-ad3d-674eff45018a",
     "showTitle": false,
     "title": ""
    }
   },
   "outputs": [],
   "source": [
    "# Run this code\n",
    "string_to_lower = 'THIS SHOULD BE ALL LOWERCASE'\n",
    "print(string_to_lower.lower())"
   ]
  },
  {
   "cell_type": "markdown",
   "metadata": {
    "application/vnd.databricks.v1+cell": {
     "cellMetadata": {},
     "inputWidgets": {},
     "nuid": "786e6304-05c2-4f0f-8510-e1ac2162ab3b",
     "showTitle": false,
     "title": ""
    }
   },
   "source": [
    "[`find()`](https://docs.python.org/3/library/stdtypes.html#str.lower) method\n",
    "- This method is similar to [`index()`](https://docs.python.org/3/library/stdtypes.html#str.index).\n",
    "- If the substring is found, this method returns the index of first occurrence of the substring.\n",
    "- If the substring is not found, -1 is returned.\n",
    "- This function is **case sensitive**."
   ]
  },
  {
   "cell_type": "code",
   "execution_count": 0,
   "metadata": {
    "application/vnd.databricks.v1+cell": {
     "cellMetadata": {
      "byteLimit": 2048000,
      "rowLimit": 10000
     },
     "inputWidgets": {},
     "nuid": "58412537-1959-492c-aac3-e840b65edf62",
     "showTitle": false,
     "title": ""
    }
   },
   "outputs": [],
   "source": [
    "# Run this code\n",
    "quote = \"Data Science is cool\"\n",
    "\n",
    "print(\"The quote is: \" + quote)\n",
    "\n",
    "# first occurance of 'Data Science'\n",
    "result = quote.find('Data Science')\n",
    "print(\"Substring 'Data Science':\", result)\n",
    "\n",
    "# what happens when we neglect the case sensitivity \n",
    "result = quote.find('data science')\n",
    "print(\"Substring 'data science':\", result)"
   ]
  },
  {
   "cell_type": "code",
   "execution_count": 0,
   "metadata": {
    "application/vnd.databricks.v1+cell": {
     "cellMetadata": {
      "byteLimit": 2048000,
      "rowLimit": 10000
     },
     "inputWidgets": {},
     "nuid": "5270791b-2c78-4136-b3f4-402ef2eac260",
     "showTitle": false,
     "title": ""
    }
   },
   "outputs": [],
   "source": [
    "# find returns -1 if substring not found\n",
    "result = quote.find('RBI')\n",
    "print(\"Substring 'RBI':\", result)\n",
    "\n",
    "# How to use find()\n",
    "if (quote.find('is') != -1):\n",
    "    print(\"Substring is found\")\n",
    "else:\n",
    "    print(\"Substring is not found\")"
   ]
  },
  {
   "cell_type": "markdown",
   "metadata": {
    "application/vnd.databricks.v1+cell": {
     "cellMetadata": {},
     "inputWidgets": {},
     "nuid": "692f4679-e093-4374-afc7-c90061767049",
     "showTitle": false,
     "title": ""
    }
   },
   "source": [
    "If you go to the [Documentation of `find()`](https://python-reference.readthedocs.io/en/latest/docs/str/find.html), you will see that [`find()`](https://docs.python.org/3/library/stdtypes.html#str.lower) can accept three parameters. One is compulsory, and the others are optional. \n",
    "\n",
    "The general syntax looks like this:\n",
    "````\n",
    "string.find(value, start, end)\n",
    "````\n",
    "\n",
    "|Parameter|Characteristics|Description|Default|\n",
    "|---------|-----|------------- |-----|\n",
    "|sub| Required|The string that you are searching for| (no default)|\n",
    "|start|Optional|Specify the start position|Default is 0, corresponds to beginning of the string|\n",
    "|end|Optional|Specify the end position|Default is the end of the string|"
   ]
  },
  {
   "cell_type": "code",
   "execution_count": 0,
   "metadata": {
    "application/vnd.databricks.v1+cell": {
     "cellMetadata": {
      "byteLimit": 2048000,
      "rowLimit": 10000
     },
     "inputWidgets": {},
     "nuid": "e09b2a99-c097-4f7a-9362-4afd124d2428",
     "showTitle": false,
     "title": ""
    }
   },
   "outputs": [],
   "source": [
    "# Run this code\n",
    "quote = \"Data Science is so cool, I love Data Science!\"\n",
    "\n",
    "print(\"The new quote is:\" + quote)\n",
    "\n",
    "# Where in the text is the first occurrence of the substring \"Data\" when you only want to search between position 10 and 40?\n",
    "result = quote.find(\"Data\",10,40)\n",
    "\n",
    "print(\"Substring 'Data' from position 10 to 40: \", result)"
   ]
  },
  {
   "cell_type": "markdown",
   "metadata": {
    "application/vnd.databricks.v1+cell": {
     "cellMetadata": {},
     "inputWidgets": {},
     "nuid": "51fa1021-dab2-4b8e-b3a6-7d73a76ce7d0",
     "showTitle": false,
     "title": ""
    }
   },
   "source": [
    "# 2. Project: Cleaning Column Names"
   ]
  },
  {
   "cell_type": "code",
   "execution_count": 0,
   "metadata": {
    "application/vnd.databricks.v1+cell": {
     "cellMetadata": {
      "byteLimit": 2048000,
      "rowLimit": 10000
     },
     "inputWidgets": {},
     "nuid": "79552732-b171-4f52-a1ad-b63e8c413802",
     "showTitle": false,
     "title": ""
    }
   },
   "outputs": [],
   "source": [
    "# Import Pandas library\n",
    "import pandas as pd\n",
    "data = pd.read_csv('../../Data/avocado.csv')"
   ]
  },
  {
   "cell_type": "markdown",
   "metadata": {
    "application/vnd.databricks.v1+cell": {
     "cellMetadata": {},
     "inputWidgets": {},
     "nuid": "09fdcc48-8ba4-4302-9e07-868ca2f4109e",
     "showTitle": false,
     "title": ""
    }
   },
   "source": [
    "If we take a look at the column names, we notice that they need some cleaning, such as removing the whitespaces. Some systems and data pipelines can have issues with these."
   ]
  },
  {
   "cell_type": "code",
   "execution_count": 0,
   "metadata": {
    "application/vnd.databricks.v1+cell": {
     "cellMetadata": {
      "byteLimit": 2048000,
      "rowLimit": 10000
     },
     "inputWidgets": {},
     "nuid": "7e05840e-55a7-4013-9711-9901b8609dd9",
     "showTitle": false,
     "title": ""
    }
   },
   "outputs": [],
   "source": [
    "# Run this code\n",
    "data_2015 = data[data['year'] == 2015]\n",
    "data_2015.columns"
   ]
  },
  {
   "cell_type": "markdown",
   "metadata": {
    "application/vnd.databricks.v1+cell": {
     "cellMetadata": {},
     "inputWidgets": {},
     "nuid": "982524ef-923f-4345-84fe-15f8a13afc81",
     "showTitle": false,
     "title": ""
    }
   },
   "source": [
    "Let's use a lambda function and three of the methods which we have just learned - strip, lower and replace."
   ]
  },
  {
   "cell_type": "code",
   "execution_count": 0,
   "metadata": {
    "application/vnd.databricks.v1+cell": {
     "cellMetadata": {
      "byteLimit": 2048000,
      "rowLimit": 10000
     },
     "inputWidgets": {},
     "nuid": "7c275c59-faa9-4785-848e-b3753237cb00",
     "showTitle": false,
     "title": ""
    }
   },
   "outputs": [],
   "source": [
    "# Run this code\n",
    "data_2015.rename(columns = lambda x: x.strip().lower().replace(' ','_'), inplace = True)"
   ]
  },
  {
   "cell_type": "code",
   "execution_count": 0,
   "metadata": {
    "application/vnd.databricks.v1+cell": {
     "cellMetadata": {
      "byteLimit": 2048000,
      "rowLimit": 10000
     },
     "inputWidgets": {},
     "nuid": "57d97aaa-163d-4133-9ee3-35c82b832451",
     "showTitle": false,
     "title": ""
    }
   },
   "outputs": [],
   "source": [
    "# Run this code\n",
    "data_2015.head()"
   ]
  },
  {
   "cell_type": "markdown",
   "metadata": {
    "application/vnd.databricks.v1+cell": {
     "cellMetadata": {},
     "inputWidgets": {},
     "nuid": "6f11f3e1-6d08-4b07-bba6-f3599c7b06c9",
     "showTitle": false,
     "title": ""
    }
   },
   "source": [
    "One column is still ugly. It would not be worth it to attempt and write a specific function for it. We address it manually via a dictionary."
   ]
  },
  {
   "cell_type": "code",
   "execution_count": 0,
   "metadata": {
    "application/vnd.databricks.v1+cell": {
     "cellMetadata": {
      "byteLimit": 2048000,
      "rowLimit": 10000
     },
     "inputWidgets": {},
     "nuid": "dab322fa-c9e8-4075-87b2-b2c4bc4b4a02",
     "showTitle": false,
     "title": ""
    }
   },
   "outputs": [],
   "source": [
    "# BONUS TASK - Hints: use .rename() method and specify columns through dictionary, i.e. 'column_name_to_clean':'new_column_name'\n",
    "#                   specify inplace = True"
   ]
  },
  {
   "cell_type": "markdown",
   "metadata": {
    "application/vnd.databricks.v1+cell": {
     "cellMetadata": {},
     "inputWidgets": {},
     "nuid": "115f1b15-6d5f-47fb-9a51-7baac225dfb6",
     "showTitle": false,
     "title": ""
    }
   },
   "source": [
    "# 3. Cleaning Text Column (READ-ONLY)\n",
    "\n",
    "Imagine we have 2 possible categories of avocado (A and B) in the same row for the same day separated with '/'. \n",
    "It would be an issue for us if we'd like to explore and visualize data based on the avocado's category. \n",
    "\n",
    "We can use [`str.split()`](https://docs.python.org/3/library/stdtypes.html#str.split) method to resolve this issue in few steps."
   ]
  },
  {
   "cell_type": "code",
   "execution_count": 0,
   "metadata": {
    "application/vnd.databricks.v1+cell": {
     "cellMetadata": {
      "byteLimit": 2048000,
      "rowLimit": 10000
     },
     "inputWidgets": {},
     "nuid": "c09afb65-1c6d-48b7-8ff7-dd769180ac12",
     "showTitle": false,
     "title": ""
    }
   },
   "outputs": [],
   "source": [
    "# Run this code - don't bother what it does for now\n",
    "\n",
    "data_avo = {'day':'Monday', 'category':'A/B', 'type':'organic'}\n",
    "monday_data = pd.DataFrame(data_avo, range(10))"
   ]
  },
  {
   "cell_type": "markdown",
   "metadata": {
    "application/vnd.databricks.v1+cell": {
     "cellMetadata": {},
     "inputWidgets": {},
     "nuid": "da97e802-edcb-4f0c-bdc0-544f0f0540f1",
     "showTitle": false,
     "title": ""
    }
   },
   "source": [
    "Let's now examine the special altered dataset which we created. You will notice that in the 'category' column. we have A and B symbols. These represent avocado types, which means that in **every row we have stored 2 observations**. That is not good and we need to split each row into 2 separate rows."
   ]
  },
  {
   "cell_type": "code",
   "execution_count": 0,
   "metadata": {
    "application/vnd.databricks.v1+cell": {
     "cellMetadata": {
      "byteLimit": 2048000,
      "rowLimit": 10000
     },
     "inputWidgets": {},
     "nuid": "a1e8531b-0306-4d5c-bd70-bbd98773fcc0",
     "showTitle": false,
     "title": ""
    }
   },
   "outputs": [],
   "source": [
    "# Run this code\n",
    "monday_data"
   ]
  },
  {
   "cell_type": "markdown",
   "metadata": {
    "application/vnd.databricks.v1+cell": {
     "cellMetadata": {},
     "inputWidgets": {},
     "nuid": "262c6888-247d-4a80-b633-936eeb1e91fe",
     "showTitle": false,
     "title": ""
    }
   },
   "source": [
    "At first, we use [`split()`](https://docs.python.org/3/library/stdtypes.html#str.split) the method to create a list of two objects from the original element in the column."
   ]
  },
  {
   "cell_type": "code",
   "execution_count": 0,
   "metadata": {
    "application/vnd.databricks.v1+cell": {
     "cellMetadata": {
      "byteLimit": 2048000,
      "rowLimit": 10000
     },
     "inputWidgets": {},
     "nuid": "ab2a0850-00de-4621-bffa-b7899165bdf5",
     "showTitle": false,
     "title": ""
    }
   },
   "outputs": [],
   "source": [
    "# Firstly, split the 'category' column with separator '/'\n",
    "\n",
    "monday_data['category'] = monday_data['category'].str.split('/')\n",
    "monday_data"
   ]
  },
  {
   "cell_type": "markdown",
   "metadata": {
    "application/vnd.databricks.v1+cell": {
     "cellMetadata": {},
     "inputWidgets": {},
     "nuid": "59b2482e-f3e9-4dea-b199-4564205f7691",
     "showTitle": false,
     "title": ""
    }
   },
   "source": [
    "As the next steps:\n",
    "\n",
    "- next we use [`apply()`](https://pandas.pydata.org/pandas-docs/stable/reference/api/pandas.DataFrame.apply.html) function on `monday_data` that return Series: use lambda function `lambda x:` to create new Series - we also need to specify `axis = 1` which returns a new column for avocado's type\n",
    "- after the [`apply()`](https://pandas.pydata.org/pandas-docs/stable/reference/api/pandas.DataFrame.apply.html) part add [`stack()`](https://pandas.pydata.org/pandas-docs/stable/reference/api/pandas.DataFrame.stack.html) - to stack avocado's category"
   ]
  },
  {
   "cell_type": "code",
   "execution_count": 0,
   "metadata": {
    "application/vnd.databricks.v1+cell": {
     "cellMetadata": {
      "byteLimit": 2048000,
      "rowLimit": 10000
     },
     "inputWidgets": {},
     "nuid": "a11c0b6e-4bff-45a7-8961-c1bcbfdac38d",
     "showTitle": false,
     "title": ""
    }
   },
   "outputs": [],
   "source": [
    "# Run this code\n",
    "\n",
    "series_2 = monday_data.apply(lambda x: pd.Series(x['category']), axis = 1).stack()"
   ]
  },
  {
   "cell_type": "markdown",
   "metadata": {
    "application/vnd.databricks.v1+cell": {
     "cellMetadata": {},
     "inputWidgets": {},
     "nuid": "a6415357-6f6e-404a-a067-fb35bf453cca",
     "showTitle": false,
     "title": ""
    }
   },
   "source": [
    "As you can see below, **categories are now separated into new rows**: 10 observation for Monday. However there is also new level (another index) for A and B that we don't need anymore."
   ]
  },
  {
   "cell_type": "code",
   "execution_count": 0,
   "metadata": {
    "application/vnd.databricks.v1+cell": {
     "cellMetadata": {
      "byteLimit": 2048000,
      "rowLimit": 10000
     },
     "inputWidgets": {},
     "nuid": "f0314533-62a7-459c-8680-3e1bf3bc1d02",
     "showTitle": false,
     "title": ""
    }
   },
   "outputs": [],
   "source": [
    "# Run this code\n",
    "series_2"
   ]
  },
  {
   "cell_type": "markdown",
   "metadata": {
    "application/vnd.databricks.v1+cell": {
     "cellMetadata": {},
     "inputWidgets": {},
     "nuid": "2e2581b8-4688-4fb1-a93d-7bb23b601fa4",
     "showTitle": false,
     "title": ""
    }
   },
   "source": [
    "We can remove this index using [`reset_index()`](https://pandas.pydata.org/pandas-docs/stable/reference/api/pandas.DataFrame.reset_index.html): \n",
    "- use `drop = True`\n",
    "- set `level = 1`"
   ]
  },
  {
   "cell_type": "code",
   "execution_count": 0,
   "metadata": {
    "application/vnd.databricks.v1+cell": {
     "cellMetadata": {
      "byteLimit": 2048000,
      "rowLimit": 10000
     },
     "inputWidgets": {},
     "nuid": "acb8d60a-54ea-42df-8958-a9b0b555c7a2",
     "showTitle": false,
     "title": ""
    }
   },
   "outputs": [],
   "source": [
    "# Run this code\n",
    "series_2 = monday_data.apply(lambda x: pd.Series(x['category']), axis = 1).stack().reset_index(level = 1, drop = True)"
   ]
  },
  {
   "cell_type": "markdown",
   "metadata": {
    "application/vnd.databricks.v1+cell": {
     "cellMetadata": {},
     "inputWidgets": {},
     "nuid": "1b49aa3b-bcc9-4dee-8c1c-8e221dc68c3f",
     "showTitle": false,
     "title": ""
    }
   },
   "source": [
    "- give the Series (it will be a new column) a name 'avocado_category'"
   ]
  },
  {
   "cell_type": "code",
   "execution_count": 0,
   "metadata": {
    "application/vnd.databricks.v1+cell": {
     "cellMetadata": {
      "byteLimit": 2048000,
      "rowLimit": 10000
     },
     "inputWidgets": {},
     "nuid": "b5e74ae5-9ab9-4f64-95bf-e8e27cc737cd",
     "showTitle": false,
     "title": ""
    }
   },
   "outputs": [],
   "source": [
    "# Run this code\n",
    "series_2.name = 'avocado_category' "
   ]
  },
  {
   "cell_type": "markdown",
   "metadata": {
    "application/vnd.databricks.v1+cell": {
     "cellMetadata": {},
     "inputWidgets": {},
     "nuid": "ff5c99b4-c513-4cfb-929b-cec4a9203672",
     "showTitle": false,
     "title": ""
    }
   },
   "source": [
    "- drop the column 'category' from `new_data` (this is the column that contain A/B), set axis = 1\n",
    "- join `series_2` where we have separated categories"
   ]
  },
  {
   "cell_type": "code",
   "execution_count": 0,
   "metadata": {
    "application/vnd.databricks.v1+cell": {
     "cellMetadata": {
      "byteLimit": 2048000,
      "rowLimit": 10000
     },
     "inputWidgets": {},
     "nuid": "a8eafc7e-c590-4f0e-bc45-f4d384f3fb29",
     "showTitle": false,
     "title": ""
    }
   },
   "outputs": [],
   "source": [
    "# Run this code\n",
    "new_data = monday_data.drop('category', axis = 1).join(series_2)"
   ]
  },
  {
   "cell_type": "code",
   "execution_count": 0,
   "metadata": {
    "application/vnd.databricks.v1+cell": {
     "cellMetadata": {
      "byteLimit": 2048000,
      "rowLimit": 10000
     },
     "inputWidgets": {},
     "nuid": "934b2cc7-fffe-4141-a6e0-639d915d85e8",
     "showTitle": false,
     "title": ""
    }
   },
   "outputs": [],
   "source": [
    "# Run this code\n",
    "new_data"
   ]
  },
  {
   "cell_type": "markdown",
   "metadata": {
    "application/vnd.databricks.v1+cell": {
     "cellMetadata": {},
     "inputWidgets": {},
     "nuid": "63292aab-976d-43e0-b176-73aaa1167058",
     "showTitle": false,
     "title": ""
    }
   },
   "source": [
    "If the procedure above seem extensive to you, you are right.\n",
    "The [``.explode()``](https://pandas.pydata.org/pandas-docs/stable/reference/api/pandas.DataFrame.explode.html) \n",
    "method transforms each element of a list to a row."
   ]
  },
  {
   "cell_type": "code",
   "execution_count": 0,
   "metadata": {
    "application/vnd.databricks.v1+cell": {
     "cellMetadata": {
      "byteLimit": 2048000,
      "rowLimit": 10000
     },
     "inputWidgets": {},
     "nuid": "9a18d0d3-0237-429b-aa6b-430e9932867d",
     "showTitle": false,
     "title": ""
    }
   },
   "outputs": [],
   "source": [
    "# run this code\n",
    "data_avo = {\"day\": \"Monday\", \"category\": \"A/B\", \"type\": \"organic\"}\n",
    "monday_data = pd.DataFrame(data_avo, range(10))\n",
    "\n",
    "monday_data"
   ]
  },
  {
   "cell_type": "code",
   "execution_count": 0,
   "metadata": {
    "application/vnd.databricks.v1+cell": {
     "cellMetadata": {
      "byteLimit": 2048000,
      "rowLimit": 10000
     },
     "inputWidgets": {},
     "nuid": "4cd3d7d9-4318-46e8-b4ec-c5a0ad666e1d",
     "showTitle": false,
     "title": ""
    }
   },
   "outputs": [],
   "source": [
    "monday_data[\"category\"] = monday_data[\"category\"].str.split(\"/\")\n",
    "monday_data.explode(\"category\")"
   ]
  },
  {
   "cell_type": "markdown",
   "metadata": {
    "application/vnd.databricks.v1+cell": {
     "cellMetadata": {},
     "inputWidgets": {},
     "nuid": "ba3ac4c0-45f7-4ab9-8268-89dbbc01a332",
     "showTitle": false,
     "title": ""
    }
   },
   "source": [
    "# 4. Project: Cleaning Text Column"
   ]
  },
  {
   "cell_type": "code",
   "execution_count": 0,
   "metadata": {
    "application/vnd.databricks.v1+cell": {
     "cellMetadata": {
      "byteLimit": 2048000,
      "rowLimit": 10000
     },
     "inputWidgets": {},
     "nuid": "3cf60c6b-0cda-4d0b-91e4-560be2cf2741",
     "showTitle": false,
     "title": ""
    }
   },
   "outputs": [],
   "source": [
    "# Run the code\n",
    "import numpy as np\n",
    "data_1 = pd.read_csv('../../Data/movie_metadata.csv')\n",
    "movie_data = data_1.iloc[:,np.r_[1:3, 8:13]]"
   ]
  },
  {
   "cell_type": "code",
   "execution_count": 0,
   "metadata": {
    "application/vnd.databricks.v1+cell": {
     "cellMetadata": {
      "byteLimit": 2048000,
      "rowLimit": 10000
     },
     "inputWidgets": {},
     "nuid": "535954b1-e56a-417f-80e0-37084d06a25a",
     "showTitle": false,
     "title": ""
    }
   },
   "outputs": [],
   "source": [
    "# Display first 5 rows of movie_data and look at the genres column\n",
    "movie_data.head()"
   ]
  },
  {
   "cell_type": "markdown",
   "metadata": {
    "application/vnd.databricks.v1+cell": {
     "cellMetadata": {},
     "inputWidgets": {},
     "nuid": "239f1ded-8fb9-4daa-a593-cebd949808b1",
     "showTitle": false,
     "title": ""
    }
   },
   "source": [
    "Now we use the same way to split genres of movies, the only difference is the separator '|'."
   ]
  },
  {
   "cell_type": "code",
   "execution_count": 0,
   "metadata": {
    "application/vnd.databricks.v1+cell": {
     "cellMetadata": {
      "byteLimit": 2048000,
      "rowLimit": 10000
     },
     "inputWidgets": {},
     "nuid": "41f95514-2f2b-4009-bdeb-2b6c2249d525",
     "showTitle": false,
     "title": ""
    }
   },
   "outputs": [],
   "source": [
    "# TASK 2.1 >>>> Split the 'genres' column with seperator '|'\n",
    "#               Assign the result to the 'genres' column\n"
   ]
  },
  {
   "cell_type": "code",
   "execution_count": 0,
   "metadata": {
    "application/vnd.databricks.v1+cell": {
     "cellMetadata": {
      "byteLimit": 2048000,
      "rowLimit": 10000
     },
     "inputWidgets": {},
     "nuid": "935d6f33-a884-4e18-a498-d98fee8c8d33",
     "showTitle": false,
     "title": ""
    }
   },
   "outputs": [],
   "source": [
    "# Create a new Series for genres using a lambda function and apply it to movie_data\n",
    "\n",
    "series_genres = movie_data.apply(lambda x: pd.Series(x['genres']), axis = 1).stack().reset_index(level = 1,drop = True)"
   ]
  },
  {
   "cell_type": "code",
   "execution_count": 0,
   "metadata": {
    "application/vnd.databricks.v1+cell": {
     "cellMetadata": {
      "byteLimit": 2048000,
      "rowLimit": 10000
     },
     "inputWidgets": {},
     "nuid": "ac6eb4f9-5f2f-4189-a81c-31536c86b2df",
     "showTitle": false,
     "title": ""
    }
   },
   "outputs": [],
   "source": [
    "# Print the new Series\n",
    "\n",
    "print(series_genres)"
   ]
  },
  {
   "cell_type": "code",
   "execution_count": 0,
   "metadata": {
    "application/vnd.databricks.v1+cell": {
     "cellMetadata": {
      "byteLimit": 2048000,
      "rowLimit": 10000
     },
     "inputWidgets": {},
     "nuid": "f72f2cff-85ef-466e-8d02-42f099586a77",
     "showTitle": false,
     "title": ""
    }
   },
   "outputs": [],
   "source": [
    "# Give the Series (new column) the name 'genres'\n",
    "series_genres.name = 'genres'"
   ]
  },
  {
   "cell_type": "markdown",
   "metadata": {
    "application/vnd.databricks.v1+cell": {
     "cellMetadata": {},
     "inputWidgets": {},
     "nuid": "e662d318-02a3-43ee-8946-503e4262a01d",
     "showTitle": false,
     "title": ""
    }
   },
   "source": [
    "Now let's practice both ways of expanding the list items to seperate rows."
   ]
  },
  {
   "cell_type": "code",
   "execution_count": 0,
   "metadata": {
    "application/vnd.databricks.v1+cell": {
     "cellMetadata": {
      "byteLimit": 2048000,
      "rowLimit": 10000
     },
     "inputWidgets": {},
     "nuid": "835e673b-51d3-46f6-9799-3c4ae44df304",
     "showTitle": false,
     "title": ""
    }
   },
   "outputs": [],
   "source": [
    "# create copies to practice both ways\n",
    "movie_join = movie_data.copy()\n",
    "movie_explode = movie_data.copy()"
   ]
  },
  {
   "cell_type": "code",
   "execution_count": 0,
   "metadata": {
    "application/vnd.databricks.v1+cell": {
     "cellMetadata": {
      "byteLimit": 2048000,
      "rowLimit": 10000
     },
     "inputWidgets": {},
     "nuid": "96c3c7f9-f385-4663-a654-97fb402c1933",
     "showTitle": false,
     "title": ""
    }
   },
   "outputs": [],
   "source": [
    "# TASK 2.2 >>>> Drop the old column 'genres' from movie_join on axis = 1\n",
    "#               Join to the new Series 'series_genres'. \n",
    "#               Assign it to movie_join.\n",
    "\n"
   ]
  },
  {
   "cell_type": "code",
   "execution_count": 0,
   "metadata": {
    "application/vnd.databricks.v1+cell": {
     "cellMetadata": {
      "byteLimit": 2048000,
      "rowLimit": 10000
     },
     "inputWidgets": {},
     "nuid": "a7ded882-4d6b-48d0-a48a-ad05cb444a4b",
     "showTitle": false,
     "title": ""
    }
   },
   "outputs": [],
   "source": [
    "# Run this code\n",
    "movie_join.head()"
   ]
  },
  {
   "cell_type": "code",
   "execution_count": 0,
   "metadata": {
    "application/vnd.databricks.v1+cell": {
     "cellMetadata": {
      "byteLimit": 2048000,
      "rowLimit": 10000
     },
     "inputWidgets": {},
     "nuid": "44565277-0bac-4ccd-972f-c35e4f54f538",
     "showTitle": false,
     "title": ""
    }
   },
   "outputs": [],
   "source": [
    "# TASK 2.3 >>>> Use the explode method on movie_explode for the 'genres' column.\n",
    "#               Assign it to movie_explode.\n"
   ]
  },
  {
   "cell_type": "code",
   "execution_count": 0,
   "metadata": {
    "application/vnd.databricks.v1+cell": {
     "cellMetadata": {
      "byteLimit": 2048000,
      "rowLimit": 10000
     },
     "inputWidgets": {},
     "nuid": "74e2876a-6322-48fc-a69d-a3a29a2bdb93",
     "showTitle": false,
     "title": ""
    }
   },
   "outputs": [],
   "source": [
    "# Run this code\n",
    "movie_explode.head()"
   ]
  },
  {
   "cell_type": "markdown",
   "metadata": {
    "application/vnd.databricks.v1+cell": {
     "cellMetadata": {},
     "inputWidgets": {},
     "nuid": "235bc7aa-59cd-46f1-a45a-1efd9aa057aa",
     "showTitle": false,
     "title": ""
    }
   },
   "source": [
    "# 5. Regular expressions\n",
    "\n",
    "- provide a flexible way to serach or match string patterns in text\n",
    "- a single expression, commonly called a **regex**, is a string formed according to the regular expression language\n",
    "- using built-in module `re` we can apply regular expressions to strings\n",
    "\n",
    "Run the following cell showing example of regular expression for validating an email \\\\(^{1}\\\\)."
   ]
  },
  {
   "cell_type": "code",
   "execution_count": 0,
   "metadata": {
    "application/vnd.databricks.v1+cell": {
     "cellMetadata": {
      "byteLimit": 2048000,
      "rowLimit": 10000
     },
     "inputWidgets": {},
     "nuid": "e7e6db4c-a330-4f54-94cb-e3b538ace6e2",
     "showTitle": false,
     "title": ""
    }
   },
   "outputs": [],
   "source": [
    "# Run this code\n",
    "Image('../../Images/regex.PNG')"
   ]
  },
  {
   "cell_type": "code",
   "execution_count": 0,
   "metadata": {
    "application/vnd.databricks.v1+cell": {
     "cellMetadata": {
      "byteLimit": 2048000,
      "rowLimit": 10000
     },
     "inputWidgets": {},
     "nuid": "2fb5473f-9cc4-4206-8022-29e31c8a515a",
     "showTitle": false,
     "title": ""
    }
   },
   "outputs": [],
   "source": [
    "# Import re module\n",
    "import re"
   ]
  },
  {
   "cell_type": "markdown",
   "metadata": {
    "application/vnd.databricks.v1+cell": {
     "cellMetadata": {},
     "inputWidgets": {},
     "nuid": "6fb69c97-12b1-4f83-bed9-c5006ab93517",
     "showTitle": false,
     "title": ""
    }
   },
   "source": [
    "Regex Methods\n",
    "\n",
    "There is a set of methods that allows us to search a string for a match such as:\n",
    "\n",
    "- [`findall`](https://docs.python.org/3/library/re.html#re.findall): returns a list that contain all matches\n",
    "- [`match`](https://docs.python.org/3/library/re.html#re.match): if zero or more characters at the beginning of string match this regular expression, return a corresponding match object\n",
    "- [`search`](https://docs.python.org/3/library/re.html#re.search): scan through string looking for the first location where regular expression produces a match and return a corresponding match object\n",
    "- [`split`](https://docs.python.org/3/library/re.html#re.split): breaks string into pieces at each occurence of pattern"
   ]
  },
  {
   "cell_type": "code",
   "execution_count": 0,
   "metadata": {
    "application/vnd.databricks.v1+cell": {
     "cellMetadata": {
      "byteLimit": 2048000,
      "rowLimit": 10000
     },
     "inputWidgets": {},
     "nuid": "2e25e55f-69fa-443e-8d2f-8bff2b3586c3",
     "showTitle": false,
     "title": ""
    }
   },
   "outputs": [],
   "source": [
    "# Split string called 'sentence' by whitespaces \n",
    "sentence = 'This  sentence contains     whitespace'"
   ]
  },
  {
   "cell_type": "markdown",
   "metadata": {
    "application/vnd.databricks.v1+cell": {
     "cellMetadata": {},
     "inputWidgets": {},
     "nuid": "61fbde4f-7e94-4df1-bc35-0cfc64c3b7f6",
     "showTitle": false,
     "title": ""
    }
   },
   "source": [
    "To split this string we need to call [`re.split()`](https://docs.python.org/3/library/re.html#re.split). \n",
    "\n",
    "Within this method we specify regex `'\\s+'` describing one or more whitespace character and string to split (in our case 'sentence').\n",
    "\n",
    "Firstly, the regex is compiled and then the [`split`](https://docs.python.org/3/library/re.html#re.split) function is called on the passed string."
   ]
  },
  {
   "cell_type": "code",
   "execution_count": 0,
   "metadata": {
    "application/vnd.databricks.v1+cell": {
     "cellMetadata": {
      "byteLimit": 2048000,
      "rowLimit": 10000
     },
     "inputWidgets": {},
     "nuid": "437f9c77-fc29-427c-96ba-3dc05ab368ca",
     "showTitle": false,
     "title": ""
    }
   },
   "outputs": [],
   "source": [
    "# Run this code\n",
    "re.split('\\s+', sentence)"
   ]
  },
  {
   "cell_type": "markdown",
   "metadata": {
    "application/vnd.databricks.v1+cell": {
     "cellMetadata": {},
     "inputWidgets": {},
     "nuid": "2de9e615-564a-4cc7-9d4e-5903ab474aaf",
     "showTitle": false,
     "title": ""
    }
   },
   "source": [
    "With [`re.compile()`](https://docs.python.org/3/library/re.html#re.compile) we can combine a regular expression pattern into pattern objects which can be used for pattern matching\n",
    "- this approach is recommended if you intend to apply the same expression to many strings"
   ]
  },
  {
   "cell_type": "code",
   "execution_count": 0,
   "metadata": {
    "application/vnd.databricks.v1+cell": {
     "cellMetadata": {
      "byteLimit": 2048000,
      "rowLimit": 10000
     },
     "inputWidgets": {},
     "nuid": "60b45868-1124-4814-8c63-4cedd9b6260a",
     "showTitle": false,
     "title": ""
    }
   },
   "outputs": [],
   "source": [
    "# Run this code\n",
    "our_regex = re.compile('\\s+')"
   ]
  },
  {
   "cell_type": "code",
   "execution_count": 0,
   "metadata": {
    "application/vnd.databricks.v1+cell": {
     "cellMetadata": {
      "byteLimit": 2048000,
      "rowLimit": 10000
     },
     "inputWidgets": {},
     "nuid": "ccfd3551-e98d-4abb-8963-45bae4494e3e",
     "showTitle": false,
     "title": ""
    }
   },
   "outputs": [],
   "source": [
    "# Split string 'sentence' using regex object 'our_regex'\n",
    "our_regex.split(sentence)"
   ]
  },
  {
   "cell_type": "code",
   "execution_count": 0,
   "metadata": {
    "application/vnd.databricks.v1+cell": {
     "cellMetadata": {
      "byteLimit": 2048000,
      "rowLimit": 10000
     },
     "inputWidgets": {},
     "nuid": "2a3a86ba-fecf-4c1b-a4b7-f2fa0cec295d",
     "showTitle": false,
     "title": ""
    }
   },
   "outputs": [],
   "source": [
    "# Get the list of all patterns that match regex using findall() method\n",
    "our_regex.findall(sentence)"
   ]
  },
  {
   "cell_type": "code",
   "execution_count": 0,
   "metadata": {
    "application/vnd.databricks.v1+cell": {
     "cellMetadata": {
      "byteLimit": 2048000,
      "rowLimit": 10000
     },
     "inputWidgets": {},
     "nuid": "184d322f-b39b-44a4-822d-59c61a8d723a",
     "showTitle": false,
     "title": ""
    }
   },
   "outputs": [],
   "source": [
    "# Create regex object that match pattern contain 'e'\n",
    "another_regex = re.compile('e')"
   ]
  },
  {
   "cell_type": "code",
   "execution_count": 0,
   "metadata": {
    "application/vnd.databricks.v1+cell": {
     "cellMetadata": {
      "byteLimit": 2048000,
      "rowLimit": 10000
     },
     "inputWidgets": {},
     "nuid": "40b6354f-e35f-466e-97fd-35de9c82369a",
     "showTitle": false,
     "title": ""
    }
   },
   "outputs": [],
   "source": [
    "# Run the code\n",
    "sentence_2 = 'Learning RegEx is fun'"
   ]
  },
  {
   "cell_type": "code",
   "execution_count": 0,
   "metadata": {
    "application/vnd.databricks.v1+cell": {
     "cellMetadata": {
      "byteLimit": 2048000,
      "rowLimit": 10000
     },
     "inputWidgets": {},
     "nuid": "0aecf93b-94b4-48ff-b05d-3be412ad2c39",
     "showTitle": false,
     "title": ""
    }
   },
   "outputs": [],
   "source": [
    "# Return the list that contain all matches in string 'sentence_2'\n",
    "another_regex.findall(sentence_2)"
   ]
  },
  {
   "cell_type": "markdown",
   "metadata": {
    "application/vnd.databricks.v1+cell": {
     "cellMetadata": {},
     "inputWidgets": {},
     "nuid": "6838a3b1-bfbd-458a-8bd1-e117b22c3670",
     "showTitle": false,
     "title": ""
    }
   },
   "source": [
    "As you can see, the regex object performed case-sensitive matching and matched lowercase letters only. \n",
    "\n",
    "We can also define a case insensitive regex object during the pattern compile using `flags = re.IGNORECASE`"
   ]
  },
  {
   "cell_type": "code",
   "execution_count": 0,
   "metadata": {
    "application/vnd.databricks.v1+cell": {
     "cellMetadata": {
      "byteLimit": 2048000,
      "rowLimit": 10000
     },
     "inputWidgets": {},
     "nuid": "ce0f72ca-9b95-4a11-9e86-c868cbf384f3",
     "showTitle": false,
     "title": ""
    }
   },
   "outputs": [],
   "source": [
    "# Create regex object that is not case sensitive using re.IGNORECASE\n",
    "regex_sensitive = re.compile('e', flags = re.IGNORECASE)"
   ]
  },
  {
   "cell_type": "code",
   "execution_count": 0,
   "metadata": {
    "application/vnd.databricks.v1+cell": {
     "cellMetadata": {
      "byteLimit": 2048000,
      "rowLimit": 10000
     },
     "inputWidgets": {},
     "nuid": "08c53ce9-a6e9-4ed3-aac3-eaba0dc14139",
     "showTitle": false,
     "title": ""
    }
   },
   "outputs": [],
   "source": [
    "# Run this code\n",
    "regex_sensitive.findall(sentence_2)"
   ]
  },
  {
   "cell_type": "code",
   "execution_count": 0,
   "metadata": {
    "application/vnd.databricks.v1+cell": {
     "cellMetadata": {
      "byteLimit": 2048000,
      "rowLimit": 10000
     },
     "inputWidgets": {},
     "nuid": "395631eb-ee7a-4aa6-b9d8-a78715ae7394",
     "showTitle": false,
     "title": ""
    }
   },
   "outputs": [],
   "source": [
    "text = 'Regex, Regex pattern, Expressions'\n",
    "\n",
    "# Create a regex object with the matche pattern 's'\n",
    "pattern = re.compile('s')"
   ]
  },
  {
   "cell_type": "code",
   "execution_count": 0,
   "metadata": {
    "application/vnd.databricks.v1+cell": {
     "cellMetadata": {
      "byteLimit": 2048000,
      "rowLimit": 10000
     },
     "inputWidgets": {},
     "nuid": "09231e6b-116c-4ee8-a1de-be1790c3ec92",
     "showTitle": false,
     "title": ""
    }
   },
   "outputs": [],
   "source": [
    "# Check for a match anywhere in the string using .search()\n",
    "\n",
    "pattern.search(text)"
   ]
  },
  {
   "cell_type": "markdown",
   "metadata": {
    "application/vnd.databricks.v1+cell": {
     "cellMetadata": {},
     "inputWidgets": {},
     "nuid": "27ce92bb-9464-406f-a98b-56af60b04262",
     "showTitle": false,
     "title": ""
    }
   },
   "source": [
    "As you can see [`search`](https://docs.python.org/3/library/re.html#re.search) returns only the start and end position of the pattern."
   ]
  },
  {
   "cell_type": "code",
   "execution_count": 0,
   "metadata": {
    "application/vnd.databricks.v1+cell": {
     "cellMetadata": {
      "byteLimit": 2048000,
      "rowLimit": 10000
     },
     "inputWidgets": {},
     "nuid": "74a2b6b5-68cd-4220-bb2d-ac0ff7797011",
     "showTitle": false,
     "title": ""
    }
   },
   "outputs": [],
   "source": [
    "# Check for a match only at the beginning of the string using .match()\n",
    "\n",
    "pattern.match(text)"
   ]
  },
  {
   "cell_type": "code",
   "execution_count": 0,
   "metadata": {
    "application/vnd.databricks.v1+cell": {
     "cellMetadata": {
      "byteLimit": 2048000,
      "rowLimit": 10000
     },
     "inputWidgets": {},
     "nuid": "014a9087-28f3-42b7-90a8-08381ed05b4d",
     "showTitle": false,
     "title": ""
    }
   },
   "outputs": [],
   "source": [
    "# Run this line of code\n",
    "\n",
    "email = 'Email addresses of our two new employees are first.example@gmail.com and second_example@gmail.com'"
   ]
  },
  {
   "cell_type": "code",
   "execution_count": 0,
   "metadata": {
    "application/vnd.databricks.v1+cell": {
     "cellMetadata": {
      "byteLimit": 2048000,
      "rowLimit": 10000
     },
     "inputWidgets": {},
     "nuid": "ace890af-fa39-448c-8e82-6b23ee2fd868",
     "showTitle": false,
     "title": ""
    }
   },
   "outputs": [],
   "source": [
    "# Write a regex to match email addresses\n",
    "\n",
    "email_pattern = r'[a-zA-Z0-9_.+-]+@[a-zA-Z0-9-]+\\.[a-zA-Z0-9-.]+'"
   ]
  },
  {
   "cell_type": "code",
   "execution_count": 0,
   "metadata": {
    "application/vnd.databricks.v1+cell": {
     "cellMetadata": {
      "byteLimit": 2048000,
      "rowLimit": 10000
     },
     "inputWidgets": {},
     "nuid": "c2d90e8b-7c3b-4c24-925a-253d556efe09",
     "showTitle": false,
     "title": ""
    }
   },
   "outputs": [],
   "source": [
    "# Create a regex object that matches email addresses and make it case-insensitive\n",
    "\n",
    "rege = re.compile(email_pattern, flags = re.IGNORECASE)"
   ]
  },
  {
   "cell_type": "code",
   "execution_count": 0,
   "metadata": {
    "application/vnd.databricks.v1+cell": {
     "cellMetadata": {
      "byteLimit": 2048000,
      "rowLimit": 10000
     },
     "inputWidgets": {},
     "nuid": "d0c8d1c4-0757-4d02-a574-8ccd5438169c",
     "showTitle": false,
     "title": ""
    }
   },
   "outputs": [],
   "source": [
    "# Get list of email addresses from 'email' string\n",
    "\n",
    "rege.findall(email)"
   ]
  },
  {
   "cell_type": "code",
   "execution_count": 0,
   "metadata": {
    "application/vnd.databricks.v1+cell": {
     "cellMetadata": {
      "byteLimit": 2048000,
      "rowLimit": 10000
     },
     "inputWidgets": {},
     "nuid": "50ed3e52-c4c8-41ce-85f1-f51862780697",
     "showTitle": false,
     "title": ""
    }
   },
   "outputs": [],
   "source": [
    "# Search for the position of the first email address in the string 'email'\n",
    "\n",
    "rege.search(email)"
   ]
  },
  {
   "cell_type": "code",
   "execution_count": 0,
   "metadata": {
    "application/vnd.databricks.v1+cell": {
     "cellMetadata": {
      "byteLimit": 2048000,
      "rowLimit": 10000
     },
     "inputWidgets": {},
     "nuid": "1076ce6f-6bc8-4f1b-9995-dfd96fc019c3",
     "showTitle": false,
     "title": ""
    }
   },
   "outputs": [],
   "source": [
    "text = \"The average price of the avocados was $1.35 last year, hopefully, this year the price don't exceed $1.50 for a piece!\""
   ]
  },
  {
   "cell_type": "code",
   "execution_count": 0,
   "metadata": {
    "application/vnd.databricks.v1+cell": {
     "cellMetadata": {
      "byteLimit": 2048000,
      "rowLimit": 10000
     },
     "inputWidgets": {},
     "nuid": "acfd78b0-7c44-4bef-957b-1dbeccd559f8",
     "showTitle": false,
     "title": ""
    }
   },
   "outputs": [],
   "source": [
    "# TASK 3 >>>> Google for Regex patterns to match decimal numbers and assign it to the variable decimal_number"
   ]
  },
  {
   "cell_type": "code",
   "execution_count": 0,
   "metadata": {
    "application/vnd.databricks.v1+cell": {
     "cellMetadata": {
      "byteLimit": 2048000,
      "rowLimit": 10000
     },
     "inputWidgets": {},
     "nuid": "47253787-da80-40d1-a9b9-a7bbbd602132",
     "showTitle": false,
     "title": ""
    }
   },
   "outputs": [],
   "source": [
    "# Regex object that match decimal number - won't work if TASK 3 is not completed\n",
    "\n",
    "pattern_dec = re.compile(decimal_number)"
   ]
  },
  {
   "cell_type": "code",
   "execution_count": 0,
   "metadata": {
    "application/vnd.databricks.v1+cell": {
     "cellMetadata": {
      "byteLimit": 2048000,
      "rowLimit": 10000
     },
     "inputWidgets": {},
     "nuid": "3049c796-3a2d-42ae-9e66-23113cb98568",
     "showTitle": false,
     "title": ""
    }
   },
   "outputs": [],
   "source": [
    "# Run this code - won't work if TASK 3 is not completed\n",
    "\n",
    "pattern_dec.findall(text)"
   ]
  },
  {
   "cell_type": "markdown",
   "metadata": {
    "application/vnd.databricks.v1+cell": {
     "cellMetadata": {},
     "inputWidgets": {},
     "nuid": "87b3b831-9c87-4fe6-91c9-b8ad1f7a1e5b",
     "showTitle": false,
     "title": ""
    }
   },
   "source": [
    "You can find many Regular Expressions Cheat Sheets on the web, like [this one](https://cheatography.com/mutanclan/cheat-sheets/python-regular-expression-regex/)."
   ]
  },
  {
   "cell_type": "markdown",
   "metadata": {
    "application/vnd.databricks.v1+cell": {
     "cellMetadata": {},
     "inputWidgets": {},
     "nuid": "d9be7422-5dfd-41b3-9864-ca7ee3cbbc01",
     "showTitle": false,
     "title": ""
    }
   },
   "source": [
    "**Hint**\n",
    "\n",
    "If we want to find some pattern (decimal numbers for example) within the string of a Series, we can also use the pandas function [`str.contains`](https://pandas.pydata.org/pandas-docs/stable/reference/api/pandas.Series.str.contains.html). For more information check the [pandas documentation](https://pandas.pydata.org/pandas-docs/stable/reference/api/pandas.Series.str.contains.html)."
   ]
  },
  {
   "cell_type": "markdown",
   "metadata": {
    "application/vnd.databricks.v1+cell": {
     "cellMetadata": {},
     "inputWidgets": {},
     "nuid": "28eb2520-f1c0-48a4-9715-af29d66da693",
     "showTitle": false,
     "title": ""
    }
   },
   "source": [
    "# Appendix\n",
    "\n",
    "Data Source 1: https://www.kaggle.com/neuromusic/avocado-prices\n",
    "\n",
    "License: Database: Open Database, Contents: © Original Authors\n",
    "\n",
    "\n",
    "Data source 2: https://www.kaggle.com/orgesleka/imdbmovies\n",
    "\n",
    "License: CC0: Public Domain\n",
    "\n",
    "# References\n",
    "\n",
    "\\\\(^{1}\\\\) BreatheCode. 2017. Regex Tutorial. [ONLINE] Available at: https://content.breatheco.de/en/lesson/regex-tutorial-regular-expression-examples. [Accessed 14 September 2020].\n",
    "\n",
    "pandas. pandas.Series.str.contains. [ONLINE] Available at: https://pandas.pydata.org/pandas-docs/stable/reference/api/pandas.Series.str.contains.html. [Accessed 14 September 2020].\n",
    "\n",
    "Material adapted for RBI internal purposes with full permissions from original authors."
   ]
  }
 ],
 "metadata": {
  "application/vnd.databricks.v1+notebook": {
   "dashboards": [],
   "environmentMetadata": null,
   "language": "python",
   "notebookMetadata": {
    "pythonIndentUnit": 2
   },
   "notebookName": "6_Strings_And_Regex_jupyter",
   "widgets": {}
  },
  "language_info": {
   "name": "python"
  }
 },
 "nbformat": 4,
 "nbformat_minor": 0
}
