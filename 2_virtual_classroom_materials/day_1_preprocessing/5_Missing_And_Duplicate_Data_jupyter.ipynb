{
 "cells": [
  {
   "cell_type": "markdown",
   "metadata": {
    "application/vnd.databricks.v1+cell": {
     "cellMetadata": {},
     "inputWidgets": {},
     "nuid": "95c6eea9-b659-4fad-a211-fd1c3a70c2ec",
     "showTitle": false,
     "title": ""
    }
   },
   "source": [
    "# 1. Missing values\n",
    "\n",
    "In the real world, data is rarely clean and homogenous and can have missing values for several reasons: data was lost or corrupted during the transmission from the database, human error, programming error. Whether the missing data will be removed, replaced or filled depends on the type of missing data.\n",
    "\n",
    "Pandas uses the floating point value\n",
    "[`NaN`](https://numpy.org/doc/stable/reference/constants.html#numpy.NaN)\n",
    "(Not a Number) to represent missing data in both numeric as well as in non-numeric datatypes. \n",
    "The built-in Python\n",
    "[`None`](https://docs.python.org/3/library/constants.html#None)\n",
    "value is also treated as NaN in object arrays.\n",
    "\n",
    "There are several functions for detecting, removing, replacing and imputing null values in a Pandas DataFrame."
   ]
  },
  {
   "cell_type": "code",
   "execution_count": 0,
   "metadata": {
    "application/vnd.databricks.v1+cell": {
     "cellMetadata": {
      "byteLimit": 2048000,
      "rowLimit": 10000
     },
     "inputWidgets": {},
     "nuid": "44e4da72-bf57-4be6-9feb-192bcdbd6697",
     "showTitle": false,
     "title": ""
    }
   },
   "outputs": [],
   "source": [
    "# Run this code\n",
    "import pandas as pd\n",
    "import numpy as np\n",
    "import matplotlib.pyplot as plt"
   ]
  },
  {
   "cell_type": "markdown",
   "metadata": {
    "application/vnd.databricks.v1+cell": {
     "cellMetadata": {},
     "inputWidgets": {},
     "nuid": "a22d5425-cadf-4036-a950-c11fa78b78ff",
     "showTitle": false,
     "title": ""
    }
   },
   "source": [
    "Let's look at what the missing data looks like in the DataFrame."
   ]
  },
  {
   "cell_type": "code",
   "execution_count": 0,
   "metadata": {
    "application/vnd.databricks.v1+cell": {
     "cellMetadata": {
      "byteLimit": 2048000,
      "rowLimit": 10000
     },
     "inputWidgets": {},
     "nuid": "f361a9ea-89c3-4272-815d-b05f7f7f2c7c",
     "showTitle": false,
     "title": ""
    }
   },
   "outputs": [],
   "source": [
    "# Run this code\n",
    "our_series = pd.Series([25, 2.5, 150, np.nan, 1.5, \"Python\", 147])\n",
    "print(our_series)"
   ]
  },
  {
   "cell_type": "markdown",
   "metadata": {
    "application/vnd.databricks.v1+cell": {
     "cellMetadata": {},
     "inputWidgets": {},
     "nuid": "4e0bae8e-afaa-4b8d-b0f2-fb8c9dc34fad",
     "showTitle": false,
     "title": ""
    }
   },
   "source": [
    "# 2. Detecting missing data"
   ]
  },
  {
   "cell_type": "code",
   "execution_count": 0,
   "metadata": {
    "application/vnd.databricks.v1+cell": {
     "cellMetadata": {
      "byteLimit": 2048000,
      "rowLimit": 10000
     },
     "inputWidgets": {},
     "nuid": "ed46e1a3-2647-4edf-8b57-be6a6b4cc0f4",
     "showTitle": false,
     "title": ""
    }
   },
   "outputs": [],
   "source": [
    "# Load the Titanic dataset\n",
    "data = pd.read_csv(\"../../Data/titanic.csv\")\n",
    "data.head(10)"
   ]
  },
  {
   "cell_type": "markdown",
   "metadata": {
    "application/vnd.databricks.v1+cell": {
     "cellMetadata": {},
     "inputWidgets": {},
     "nuid": "d0023710-9166-4733-b07a-464cd6a42bb0",
     "showTitle": false,
     "title": ""
    }
   },
   "source": [
    "[`isnull().values.any()`](https://pandas.pydata.org/pandas-docs/stable/reference/api/pandas.DataFrame.isnull.html)\n",
    "\n",
    "- it is used if we only want to know if there are any missing values in the dataset"
   ]
  },
  {
   "cell_type": "code",
   "execution_count": 0,
   "metadata": {
    "application/vnd.databricks.v1+cell": {
     "cellMetadata": {
      "byteLimit": 2048000,
      "rowLimit": 10000
     },
     "inputWidgets": {},
     "nuid": "b7e220d5-98c9-4e83-8cc3-d87b05f58c74",
     "showTitle": false,
     "title": ""
    }
   },
   "outputs": [],
   "source": [
    "# Check whether there are any missing values\n",
    "data.isnull().values.any()"
   ]
  },
  {
   "cell_type": "markdown",
   "metadata": {
    "application/vnd.databricks.v1+cell": {
     "cellMetadata": {},
     "inputWidgets": {},
     "nuid": "c3b5a061-3945-4ac2-a379-25228e4283e1",
     "showTitle": false,
     "title": ""
    }
   },
   "source": [
    "[`isnull()`](https://pandas.pydata.org/pandas-docs/stable/reference/api/pandas.DataFrame.isnull.html)\n",
    "- it is used to detect missing values for an array-like object\n",
    "- returns a boolean same-sized object indicating if the values are missing\n",
    "- it is an alias of [`isna()`](https://pandas.pydata.org/pandas-docs/stable/reference/api/pandas.DataFrame.isna.html)"
   ]
  },
  {
   "cell_type": "code",
   "execution_count": 0,
   "metadata": {
    "application/vnd.databricks.v1+cell": {
     "cellMetadata": {
      "byteLimit": 2048000,
      "rowLimit": 10000
     },
     "inputWidgets": {},
     "nuid": "6d8ce98d-cdab-4f64-9960-5833c3ea1d3a",
     "showTitle": false,
     "title": ""
    }
   },
   "outputs": [],
   "source": [
    "# Apply isnull() on the dataset 'data'\n",
    "data.isnull()"
   ]
  },
  {
   "cell_type": "markdown",
   "metadata": {
    "application/vnd.databricks.v1+cell": {
     "cellMetadata": {},
     "inputWidgets": {},
     "nuid": "df58da7a-1990-40be-9149-c4483b90ae39",
     "showTitle": false,
     "title": ""
    }
   },
   "source": [
    "[`notnull()`](https://pandas.pydata.org/pandas-docs/stable/reference/api/pandas.DataFrame.notnull.html)\n",
    "\n",
    "- it is used to detect existing (non-missing) values\n",
    "- it is an alias of [`notna()`](https://pandas.pydata.org/pandas-docs/stable/reference/api/pandas.DataFrame.notna.html)"
   ]
  },
  {
   "cell_type": "code",
   "execution_count": 0,
   "metadata": {
    "application/vnd.databricks.v1+cell": {
     "cellMetadata": {
      "byteLimit": 2048000,
      "rowLimit": 10000
     },
     "inputWidgets": {},
     "nuid": "d2f4e58f-d02d-4ab4-99fc-1be503cedd2b",
     "showTitle": false,
     "title": ""
    }
   },
   "outputs": [],
   "source": [
    "# TASK 1 >>>> Check non-missing values in the dataset using .notnull()"
   ]
  },
  {
   "cell_type": "markdown",
   "metadata": {
    "application/vnd.databricks.v1+cell": {
     "cellMetadata": {},
     "inputWidgets": {},
     "nuid": "f26a0656-ae5b-478d-b5a3-447bb42aae65",
     "showTitle": false,
     "title": ""
    }
   },
   "source": [
    "[`isnull().sum()`](https://pandas.pydata.org/pandas-docs/stable/reference/api/pandas.DataFrame.isnull.html)\n",
    "\n",
    "- we can use function chaining to check the total number of missing values for each column in the DataFrame"
   ]
  },
  {
   "cell_type": "code",
   "execution_count": 0,
   "metadata": {
    "application/vnd.databricks.v1+cell": {
     "cellMetadata": {
      "byteLimit": 2048000,
      "rowLimit": 10000
     },
     "inputWidgets": {},
     "nuid": "5b9ed0d7-d0c3-49f8-8f9e-f179fdc42395",
     "showTitle": false,
     "title": ""
    }
   },
   "outputs": [],
   "source": [
    "# Count the total number of missing values in the column using .sum()\n",
    "data.isnull().sum()"
   ]
  },
  {
   "cell_type": "markdown",
   "metadata": {
    "application/vnd.databricks.v1+cell": {
     "cellMetadata": {},
     "inputWidgets": {},
     "nuid": "7e31209d-9b84-4e28-a20a-bc89084725e5",
     "showTitle": false,
     "title": ""
    }
   },
   "source": [
    "As we can see, there are 177 missing values in the column 'Age', then 687 missing values in the column 'Cabin' and 2 missing values in the 'Embarked' column."
   ]
  },
  {
   "cell_type": "markdown",
   "metadata": {
    "application/vnd.databricks.v1+cell": {
     "cellMetadata": {},
     "inputWidgets": {},
     "nuid": "76f5ad56-2622-42fb-aa62-b297b2890824",
     "showTitle": false,
     "title": ""
    }
   },
   "source": [
    "# 3. Basic visualization of missing data"
   ]
  },
  {
   "cell_type": "code",
   "execution_count": 0,
   "metadata": {
    "application/vnd.databricks.v1+cell": {
     "cellMetadata": {
      "byteLimit": 2048000,
      "rowLimit": 10000
     },
     "inputWidgets": {},
     "nuid": "437f20e5-233b-4675-bf7b-436fa1301606",
     "showTitle": false,
     "title": ""
    }
   },
   "outputs": [],
   "source": [
    "# Run this code\n",
    "plt.style.use(\"default\")\n",
    "missing_values = data.isnull().sum() / len(data) * 100\n",
    "plt.xticks(np.arange(len(missing_values)), missing_values.index, rotation=\"vertical\")\n",
    "plt.ylabel(\"Percentage of missing values\")\n",
    "ax = plt.bar(np.arange(len(missing_values)), missing_values, color=\"skyblue\");"
   ]
  },
  {
   "cell_type": "markdown",
   "metadata": {
    "application/vnd.databricks.v1+cell": {
     "cellMetadata": {},
     "inputWidgets": {},
     "nuid": "7c7470f7-face-4693-90ab-4a388d78424b",
     "showTitle": false,
     "title": ""
    }
   },
   "source": [
    "# 4. Removing missing data\n",
    "\n",
    "In some cases, it is appropriate to just drop the rows with missing data, in other cases replacing missing data would be a better options. \n",
    "\n",
    "[`dropna()`](https://pandas.pydata.org/pandas-docs/stable/reference/api/pandas.DataFrame.dropna.html) method\n",
    "\n",
    "- to remove rows or columns from the DataFrame which contain missing values\n",
    "- by default drops any row that contain a missing value\n",
    "\n",
    "Arguments:\n",
    "\n",
    "`axis = 0` to drop rows\n",
    "\n",
    "`axis = 1` to drop columns\n",
    "\n",
    "`how = 'all'` to drop if all the values are missing\n",
    "\n",
    "`how = 'any'` to drop if any missing value is present\n",
    "\n",
    "`tresh = ` treshold for missing values\n",
    "\n",
    "`subset = ['column']` to remove rows in which values are missing or selected column or columns\n",
    "\n",
    "**If we want to make changes in the original dataset** (for example remove a particular column), we have to specify `inplace = True` within the method. Otherwise the copy of the dataset will be returned and the change will not be performed in the original dataset."
   ]
  },
  {
   "cell_type": "code",
   "execution_count": 0,
   "metadata": {
    "application/vnd.databricks.v1+cell": {
     "cellMetadata": {
      "byteLimit": 2048000,
      "rowLimit": 10000
     },
     "inputWidgets": {},
     "nuid": "da7802bd-1730-4a1a-a239-7b9818d78a87",
     "showTitle": false,
     "title": ""
    }
   },
   "outputs": [],
   "source": [
    "# Print rows with missing data in the column 'Embarked'\n",
    "\n",
    "missing_embarked = data[data.Embarked.isnull()]\n",
    "print(missing_embarked)"
   ]
  },
  {
   "cell_type": "code",
   "execution_count": 0,
   "metadata": {
    "application/vnd.databricks.v1+cell": {
     "cellMetadata": {
      "byteLimit": 2048000,
      "rowLimit": 10000
     },
     "inputWidgets": {},
     "nuid": "797676eb-85d0-4c57-97c7-e15c169fc176",
     "showTitle": false,
     "title": ""
    }
   },
   "outputs": [],
   "source": [
    "# Drop missing values in the column 'Embarked'\n",
    "# Specify this column using subset\n",
    "# Set inplace = True\n",
    "\n",
    "data.dropna(subset=[\"Embarked\"], inplace=True)"
   ]
  },
  {
   "cell_type": "code",
   "execution_count": 0,
   "metadata": {
    "application/vnd.databricks.v1+cell": {
     "cellMetadata": {
      "byteLimit": 2048000,
      "rowLimit": 10000
     },
     "inputWidgets": {},
     "nuid": "1b36d750-a902-45f5-93f4-dbdd35d11a51",
     "showTitle": false,
     "title": ""
    }
   },
   "outputs": [],
   "source": [
    "# Check whether the rows with missing values have been removed\n",
    "data.Embarked.isna().sum()"
   ]
  },
  {
   "cell_type": "code",
   "execution_count": 0,
   "metadata": {
    "application/vnd.databricks.v1+cell": {
     "cellMetadata": {
      "byteLimit": 2048000,
      "rowLimit": 10000
     },
     "inputWidgets": {},
     "nuid": "4bbfdf83-94f2-42ac-a2ff-d95248d8c5f1",
     "showTitle": false,
     "title": ""
    }
   },
   "outputs": [],
   "source": [
    "# Make a copy of the DataFrame\n",
    "data_copy = data.copy()"
   ]
  },
  {
   "cell_type": "code",
   "execution_count": 0,
   "metadata": {
    "application/vnd.databricks.v1+cell": {
     "cellMetadata": {
      "byteLimit": 2048000,
      "rowLimit": 10000
     },
     "inputWidgets": {},
     "nuid": "944b15ed-70d9-474b-81df-8ec569dead86",
     "showTitle": false,
     "title": ""
    }
   },
   "outputs": [],
   "source": [
    "# Drop those rows that contain any missing values\n",
    "# Set inplace = True\n",
    "\n",
    "data_copy.dropna(how=\"any\", inplace=True)"
   ]
  },
  {
   "cell_type": "code",
   "execution_count": 0,
   "metadata": {
    "application/vnd.databricks.v1+cell": {
     "cellMetadata": {
      "byteLimit": 2048000,
      "rowLimit": 10000
     },
     "inputWidgets": {},
     "nuid": "b02fbd93-7b81-4379-aeda-c67622a57110",
     "showTitle": false,
     "title": ""
    }
   },
   "outputs": [],
   "source": [
    "data_copy"
   ]
  },
  {
   "cell_type": "code",
   "execution_count": 0,
   "metadata": {
    "application/vnd.databricks.v1+cell": {
     "cellMetadata": {
      "byteLimit": 2048000,
      "rowLimit": 10000
     },
     "inputWidgets": {},
     "nuid": "2a35fc18-03e1-493d-b81b-f40f5a09db58",
     "showTitle": false,
     "title": ""
    }
   },
   "outputs": [],
   "source": [
    "# Check whether the rows have been removed correctly\n",
    "\n",
    "data_copy.isna().sum()"
   ]
  },
  {
   "cell_type": "code",
   "execution_count": 0,
   "metadata": {
    "application/vnd.databricks.v1+cell": {
     "cellMetadata": {
      "byteLimit": 2048000,
      "rowLimit": 10000
     },
     "inputWidgets": {},
     "nuid": "199eb808-cf5b-40d7-b7e6-33c64761eaa7",
     "showTitle": false,
     "title": ""
    }
   },
   "outputs": [],
   "source": [
    "# Run this code\n",
    "dict = {\n",
    "    \"product\": [\"apple\", np.nan, \"cucumber\", \"bread\", \"milk\", \"butter\", \"sugar\"],\n",
    "    \"product_code\": [154, 153, 225, np.nan, 56, 15, np.nan],\n",
    "    \"price\": [0.89, 1.50, 0.65, 1.20, 0.85, np.nan, 1.20],\n",
    "    \"expiration_date\": [np.nan, np.nan, np.nan, np.nan, np.nan, np.nan, np.nan],\n",
    "}\n",
    "\n",
    "df = pd.DataFrame(dict, columns=[\"product\", \"product_code\", \"price\", \"expiration_date\"])\n",
    "print(df)"
   ]
  },
  {
   "cell_type": "code",
   "execution_count": 0,
   "metadata": {
    "application/vnd.databricks.v1+cell": {
     "cellMetadata": {
      "byteLimit": 2048000,
      "rowLimit": 10000
     },
     "inputWidgets": {},
     "nuid": "4e1b7703-d991-450c-8659-a475e2837fa6",
     "showTitle": false,
     "title": ""
    }
   },
   "outputs": [],
   "source": [
    "# Drop the last column that contain only missing values\n",
    "# Set inplace = True\n",
    "\n",
    "df.dropna(how=\"all\", axis=1, inplace=True)"
   ]
  },
  {
   "cell_type": "code",
   "execution_count": 0,
   "metadata": {
    "application/vnd.databricks.v1+cell": {
     "cellMetadata": {
      "byteLimit": 2048000,
      "rowLimit": 10000
     },
     "inputWidgets": {},
     "nuid": "1d4e4609-7fc5-4bca-89f4-0dec299243b0",
     "showTitle": false,
     "title": ""
    }
   },
   "outputs": [],
   "source": [
    "# Display the DataFrame to check the change\n",
    "\n",
    "df"
   ]
  },
  {
   "cell_type": "code",
   "execution_count": 0,
   "metadata": {
    "application/vnd.databricks.v1+cell": {
     "cellMetadata": {
      "byteLimit": 2048000,
      "rowLimit": 10000
     },
     "inputWidgets": {},
     "nuid": "00216434-9818-4378-88f5-59c7b7b44041",
     "showTitle": false,
     "title": ""
    }
   },
   "outputs": [],
   "source": [
    "# Run this code\n",
    "\n",
    "df_copy = df.copy()\n",
    "print(df_copy)"
   ]
  },
  {
   "cell_type": "code",
   "execution_count": 0,
   "metadata": {
    "application/vnd.databricks.v1+cell": {
     "cellMetadata": {
      "byteLimit": 2048000,
      "rowLimit": 10000
     },
     "inputWidgets": {},
     "nuid": "3a0e699f-8205-4841-8efb-6c89ed7ebaab",
     "showTitle": false,
     "title": ""
    }
   },
   "outputs": [],
   "source": [
    "# TASK 2 >>>> Drop rows from df_copy that contain any missing values\n",
    "#             Set inplace = True"
   ]
  },
  {
   "cell_type": "markdown",
   "metadata": {
    "application/vnd.databricks.v1+cell": {
     "cellMetadata": {},
     "inputWidgets": {},
     "nuid": "de64a69f-7e63-4893-b58b-4e6b72d6078e",
     "showTitle": false,
     "title": ""
    }
   },
   "source": [
    "# 5. Filling in missing data\n",
    "\n",
    "[`fillna()`](https://pandas.pydata.org/pandas-docs/stable/reference/api/pandas.DataFrame.fillna.html) method\n",
    "\n",
    "- this method fill in missing data (can be used on a particular column as well)\n",
    "\n",
    "Arguments:\n",
    "- `value`: we can specify **value** (any number or summary statistics such as mean or median)\n",
    "  - if we want to fill only certain columns or use different values for different values, use a dictionary with the respective column/row index as key\n",
    "- `limit`: for ffill and bfill - maximum number of consecutive periods to fill\n",
    "- `axis`: axis to fill on, default axis = 0 \n",
    "- `inplace`: boolean and if `True` the original data frame is modified. Otherwise a copy is returned"
   ]
  },
  {
   "cell_type": "code",
   "execution_count": 0,
   "metadata": {
    "application/vnd.databricks.v1+cell": {
     "cellMetadata": {},
     "inputWidgets": {},
     "nuid": "403fd230-7beb-45de-9583-f71282f58098",
     "showTitle": false,
     "title": ""
    }
   },
   "outputs": [],
   "source": [
    "# Fill in missing values in the 'price' column with the value 0\n",
    "# Set inplace = True\n",
    "\n",
    "df.fillna({\"price\": 0}, inplace=True)\n",
    "print(df)"
   ]
  },
  {
   "cell_type": "code",
   "execution_count": 0,
   "metadata": {
    "application/vnd.databricks.v1+cell": {
     "cellMetadata": {
      "byteLimit": 2048000,
      "rowLimit": 10000
     },
     "inputWidgets": {},
     "nuid": "a4d370d1-2bfd-404b-939f-76169f11e6b7",
     "showTitle": false,
     "title": ""
    }
   },
   "outputs": [],
   "source": [
    "# Run this code\n",
    "dictionary = {\n",
    "    \"column_a\": [15, 16, 82, 25],\n",
    "    \"column_b\": [np.nan, np.nan, 54, 8],\n",
    "    \"column_c\": [np.nan, 15, 15, 25],\n",
    "    \"column_d\": [85, 90, np.nan, np.nan],\n",
    "}\n",
    "\n",
    "dataframe_1 = pd.DataFrame(dictionary)\n",
    "print(dataframe_1)"
   ]
  },
  {
   "cell_type": "code",
   "execution_count": 0,
   "metadata": {
    "application/vnd.databricks.v1+cell": {
     "cellMetadata": {
      "byteLimit": 2048000,
      "rowLimit": 10000
     },
     "inputWidgets": {},
     "nuid": "9b18ddc8-8205-4b50-a8cf-12baf258a20c",
     "showTitle": false,
     "title": ""
    }
   },
   "outputs": [],
   "source": [
    "# TASK 3 >>>> Fill in the missing values in column 'column_c' of dataframe_1 with the value 10\n",
    "#             Fill in the missing values in column 'column_d' of dataframe_1 with the value 0\n",
    "#             Set inplace = True"
   ]
  },
  {
   "cell_type": "markdown",
   "metadata": {
    "application/vnd.databricks.v1+cell": {
     "cellMetadata": {},
     "inputWidgets": {},
     "nuid": "7e3e445e-da5e-400e-ad07-d05566ed3cc0",
     "showTitle": false,
     "title": ""
    }
   },
   "source": [
    "# 6. More Complex Methods\n",
    "\n",
    "We will go through the theory of these more complex methods later as they relate to Machine Learning."
   ]
  },
  {
   "cell_type": "code",
   "execution_count": 0,
   "metadata": {
    "application/vnd.databricks.v1+cell": {
     "cellMetadata": {
      "byteLimit": 2048000,
      "rowLimit": 10000
     },
     "inputWidgets": {},
     "nuid": "37b8fe6d-f6e7-4ed0-bc47-524572348906",
     "showTitle": false,
     "title": ""
    }
   },
   "outputs": [],
   "source": [
    "# Run this code\n",
    "dict = {\n",
    "    \"column_1\": [15, 16, 82, 25],\n",
    "    \"column_2\": [np.nan, np.nan, 54, 8],\n",
    "    \"column_3\": [np.nan, 15, 15, 25],\n",
    "    \"column_4\": [85, 90, np.nan, np.nan],\n",
    "}\n",
    "\n",
    "our_df = pd.DataFrame(dict)\n",
    "print(our_df)"
   ]
  },
  {
   "cell_type": "markdown",
   "metadata": {
    "application/vnd.databricks.v1+cell": {
     "cellMetadata": {},
     "inputWidgets": {},
     "nuid": "1df3d4f7-1f44-4697-968a-a977c1f48d52",
     "showTitle": false,
     "title": ""
    }
   },
   "source": [
    "[`bfill()`](https://pandas.pydata.org/pandas-docs/stable/reference/api/pandas.DataFrame.bfill.html) and [`ffill()`](https://pandas.pydata.org/pandas-docs/stable/reference/api/pandas.DataFrame.ffill.html) methods\n",
    "- Fill NA/NaN values by using the next/last valid observation to fill the gap.\n",
    "\n",
    "Arguments:\n",
    "- `axis`: Axis along which to fill missing values.\n",
    "- `inplace`: If True, fill in-place.\n",
    "- `limit`: If method is specified, this is the maximum number of consecutive NaN values to forward/backward fill. \n",
    "In other words, if there is a gap with more than this number of consecutive NaNs, it will only be partially filled. \n",
    "If method is not specified, this is the maximum number of entries along the entire axis where NaNs will be filled.\n",
    "- `limit_area`: If limit is specified, consecutive NaNs will be filled with this restriction.\n",
    "  - None: No fill restriction.\n",
    "  - `inside`: Only fill NaNs surrounded by valid values (interpolate).\n",
    "  - `outside`: Only fill NaNs outside valid values (extrapolate)."
   ]
  },
  {
   "cell_type": "code",
   "execution_count": 0,
   "metadata": {
    "application/vnd.databricks.v1+cell": {
     "cellMetadata": {},
     "inputWidgets": {},
     "nuid": "0ddc4a11-2430-4a0f-a174-7e8e96d48dbf",
     "showTitle": false,
     "title": ""
    }
   },
   "outputs": [],
   "source": [
    "# Fill in missing values using the bfill method which stands for 'backward fill'\n",
    "# Set inplace = True\n",
    "\n",
    "our_df.bfill(axis=0, inplace=True)\n",
    "print(our_df)"
   ]
  },
  {
   "cell_type": "code",
   "execution_count": 0,
   "metadata": {
    "application/vnd.databricks.v1+cell": {
     "cellMetadata": {
      "byteLimit": 2048000,
      "rowLimit": 10000
     },
     "inputWidgets": {},
     "nuid": "9eb2b757-563a-4931-a910-832cb6c3422a",
     "showTitle": false,
     "title": ""
    }
   },
   "outputs": [],
   "source": [
    "data_copy = data.copy()\n",
    "data_copy"
   ]
  },
  {
   "cell_type": "code",
   "execution_count": 0,
   "metadata": {
    "application/vnd.databricks.v1+cell": {
     "cellMetadata": {},
     "inputWidgets": {},
     "nuid": "8b523e57-ef62-4e54-996d-f9334b5bb560",
     "showTitle": false,
     "title": ""
    }
   },
   "outputs": [],
   "source": [
    "# Fill in missing data of the column 'Age' in the DataFrame data with the average age\n",
    "# Set inplace = True\n",
    "\n",
    "average_age = int(data_copy.Age.mean())\n",
    "data_copy.fillna({\"Age\": average_age}, inplace=True)"
   ]
  },
  {
   "cell_type": "code",
   "execution_count": 0,
   "metadata": {
    "application/vnd.databricks.v1+cell": {
     "cellMetadata": {
      "byteLimit": 2048000,
      "rowLimit": 10000
     },
     "inputWidgets": {},
     "nuid": "1198d8f4-b29d-4fa2-aec8-f8721af0e6e5",
     "showTitle": false,
     "title": ""
    }
   },
   "outputs": [],
   "source": [
    "data_copy"
   ]
  },
  {
   "cell_type": "code",
   "execution_count": 0,
   "metadata": {
    "application/vnd.databricks.v1+cell": {
     "cellMetadata": {
      "byteLimit": 2048000,
      "rowLimit": 10000
     },
     "inputWidgets": {},
     "nuid": "909d4c6d-e395-496d-91c9-6c9700ceab4e",
     "showTitle": false,
     "title": ""
    }
   },
   "outputs": [],
   "source": [
    "# Check whether missing values have been removed from the column 'Age'\n",
    "\n",
    "data_copy.Age.isnull().sum()"
   ]
  },
  {
   "cell_type": "markdown",
   "metadata": {
    "application/vnd.databricks.v1+cell": {
     "cellMetadata": {},
     "inputWidgets": {},
     "nuid": "98f64a2d-f0ac-4922-9f4d-eee8eb816183",
     "showTitle": false,
     "title": ""
    }
   },
   "source": [
    "# 7. Duplicate data\n",
    "\n",
    "Duplicate rows in a dataframe can be detected by using the\n",
    "[``duplicated()``](https://pandas.pydata.org/pandas-docs/stable/reference/api/pandas.DataFrame.duplicated.html)\n",
    "method.\n",
    "A method to conveniently remove the duplicates is\n",
    "[``drop_duplicates()``](https://pandas.pydata.org/pandas-docs/stable/reference/api/pandas.DataFrame.drop_duplicates.html)."
   ]
  },
  {
   "cell_type": "code",
   "execution_count": 0,
   "metadata": {
    "application/vnd.databricks.v1+cell": {
     "cellMetadata": {
      "byteLimit": 2048000,
      "rowLimit": 10000
     },
     "inputWidgets": {},
     "nuid": "cf3880e1-4e53-4493-8643-ea8bbd5c4da5",
     "showTitle": false,
     "title": ""
    }
   },
   "outputs": [],
   "source": [
    "# Run this code\n",
    "actors = [\n",
    "    (\"Michone\", 30, \"USA\"),\n",
    "    (\"Bob\", 28, \"New York\"),\n",
    "    (\"Rick\", 30, \"New York\"),\n",
    "    (\"Carol\", 40, \"Paris\"),\n",
    "    (\"Daryl\", 35, \"London\"),\n",
    "    (\"Daryl\", 35, \"London\"),\n",
    "    (\"Michone\", 45, \"London\"),\n",
    "    (\"Morgan\", 38, \"Sweden\"),\n",
    "]\n",
    "df_2 = pd.DataFrame(actors, columns=[\"first_name\", \"age\", \"city\"])"
   ]
  },
  {
   "cell_type": "code",
   "execution_count": 0,
   "metadata": {
    "application/vnd.databricks.v1+cell": {
     "cellMetadata": {
      "byteLimit": 2048000,
      "rowLimit": 10000
     },
     "inputWidgets": {},
     "nuid": "54ca08c4-0263-434a-a953-e58b13909fbc",
     "showTitle": false,
     "title": ""
    }
   },
   "outputs": [],
   "source": [
    "# Find duplicated values using .duplicated() method\n",
    "\n",
    "df_2.duplicated().sum()"
   ]
  },
  {
   "cell_type": "code",
   "execution_count": 0,
   "metadata": {
    "application/vnd.databricks.v1+cell": {
     "cellMetadata": {
      "byteLimit": 2048000,
      "rowLimit": 10000
     },
     "inputWidgets": {},
     "nuid": "f67e69f9-1839-4eb2-886c-32b1e66939e4",
     "showTitle": false,
     "title": ""
    }
   },
   "outputs": [],
   "source": [
    "# Remove duplicate rows\n",
    "# Set inplace = True\n",
    "\n",
    "df_2.drop_duplicates(inplace=True)\n",
    "print(df_2)"
   ]
  },
  {
   "cell_type": "markdown",
   "metadata": {
    "application/vnd.databricks.v1+cell": {
     "cellMetadata": {},
     "inputWidgets": {},
     "nuid": "c173916f-22e1-488c-bd2f-76613cbec047",
     "showTitle": false,
     "title": ""
    }
   },
   "source": [
    "# Appendix\n",
    "\n",
    "Data source: https://www.kaggle.com/hesh97/titanicdataset-traincsv\n",
    "\n",
    "License: CC0: Public Domain\n",
    "\n",
    "# References\n",
    "\n",
    "Material adapted for RBI internal purposes with full permissions from original authors."
   ]
  }
 ],
 "metadata": {
  "application/vnd.databricks.v1+notebook": {
   "dashboards": [],
   "environmentMetadata": null,
   "language": "python",
   "notebookMetadata": {
    "pythonIndentUnit": 2
   },
   "notebookName": "5_Missing_And_Duplicate_Data_jupyter",
   "widgets": {}
  }
 },
 "nbformat": 4,
 "nbformat_minor": 0
}
