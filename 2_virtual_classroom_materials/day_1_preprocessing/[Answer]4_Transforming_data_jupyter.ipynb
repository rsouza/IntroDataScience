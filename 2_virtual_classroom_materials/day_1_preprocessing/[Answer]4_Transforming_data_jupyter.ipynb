{
 "cells": [
  {
   "cell_type": "markdown",
   "metadata": {
    "application/vnd.databricks.v1+cell": {
     "cellMetadata": {},
     "inputWidgets": {},
     "nuid": "06bef70c-8e53-482b-9a1e-c27d2cc7257c",
     "showTitle": false,
     "title": ""
    }
   },
   "source": [
    "# Transforming the data"
   ]
  },
  {
   "cell_type": "code",
   "execution_count": 0,
   "metadata": {
    "application/vnd.databricks.v1+cell": {
     "cellMetadata": {
      "byteLimit": 2048000,
      "rowLimit": 10000
     },
     "inputWidgets": {},
     "nuid": "823d7215-545d-41a3-b1a9-890a8f36b408",
     "showTitle": false,
     "title": ""
    }
   },
   "outputs": [],
   "source": [
    "# importing essential packages\n",
    "import pandas as pd\n",
    "import numpy as np\n",
    "import math"
   ]
  },
  {
   "cell_type": "markdown",
   "metadata": {
    "application/vnd.databricks.v1+cell": {
     "cellMetadata": {},
     "inputWidgets": {},
     "nuid": "9a30c8ec-40b5-489d-9399-7812e5a631ff",
     "showTitle": false,
     "title": ""
    }
   },
   "source": [
    "# 1. [`.map()`](https://pandas.pydata.org/pandas-docs/stable/reference/api/pandas.Series.map.html) method\n",
    "\n",
    "- in Pandas the [`.map()`](https://pandas.pydata.org/pandas-docs/stable/reference/api/pandas.Series.map.html) method is a great tool to have when it comes to processing & transforming a Series\n",
    "- it is a convenient way to perform _element-wise_ transformations and other data cleaning-related operations\n",
    "- this method on Series takes a function object or an input mapping as argument\n",
    "- any function that takes a single argument and returns a value can be used with [`.map()`](https://pandas.pydata.org/pandas-docs/stable/reference/api/pandas.Series.map.html)"
   ]
  },
  {
   "cell_type": "markdown",
   "metadata": {
    "application/vnd.databricks.v1+cell": {
     "cellMetadata": {},
     "inputWidgets": {},
     "nuid": "f0c08439-a766-4385-b084-ad4bf92aed71",
     "showTitle": false,
     "title": ""
    }
   },
   "source": [
    "### Example 1.1 - Example using For Loops"
   ]
  },
  {
   "cell_type": "code",
   "execution_count": 0,
   "metadata": {
    "application/vnd.databricks.v1+cell": {
     "cellMetadata": {
      "byteLimit": 2048000,
      "rowLimit": 10000
     },
     "inputWidgets": {},
     "nuid": "6624f3a7-4b98-439c-9bac-1c2f5e085b68",
     "showTitle": false,
     "title": ""
    }
   },
   "outputs": [],
   "source": [
    "# Run this code\n",
    "our_list = ['This', 'is', 'the', 'first', 'example']"
   ]
  },
  {
   "cell_type": "code",
   "execution_count": 0,
   "metadata": {
    "application/vnd.databricks.v1+cell": {
     "cellMetadata": {
      "byteLimit": 2048000,
      "rowLimit": 10000
     },
     "inputWidgets": {},
     "nuid": "ced4d5a9-dbf1-4a37-bc02-c5ac7466103a",
     "showTitle": false,
     "title": ""
    }
   },
   "outputs": [],
   "source": [
    "#Step 1: intialize an empty list \"result_loop\" that will store our results later\n",
    "#Step 2: get the length of each variable in the list \"our_list\"\n",
    "#Step 3: append the result to the list \"result_loop\"\n",
    "#Step 4: print the result\n",
    "\n",
    "result_loop = []\n",
    "\n",
    "for word in our_list:\n",
    "    result_loop.append(len(word))\n",
    "\n",
    "print(result_loop)"
   ]
  },
  {
   "cell_type": "markdown",
   "metadata": {
    "application/vnd.databricks.v1+cell": {
     "cellMetadata": {},
     "inputWidgets": {},
     "nuid": "939370d3-83d7-4133-9015-4d52f92686b2",
     "showTitle": false,
     "title": ""
    }
   },
   "source": [
    "### Example 1.2 - Example using [`.map()`](https://pandas.pydata.org/pandas-docs/stable/reference/api/pandas.Series.map.html) method"
   ]
  },
  {
   "cell_type": "code",
   "execution_count": 0,
   "metadata": {
    "application/vnd.databricks.v1+cell": {
     "cellMetadata": {
      "byteLimit": 2048000,
      "rowLimit": 10000
     },
     "inputWidgets": {},
     "nuid": "89065269-b87b-47b5-b729-445283dfa140",
     "showTitle": false,
     "title": ""
    }
   },
   "outputs": [],
   "source": [
    "# Run this code\n",
    "our_list = ['This', 'is', 'the', 'first', 'example']"
   ]
  },
  {
   "cell_type": "code",
   "execution_count": 0,
   "metadata": {
    "application/vnd.databricks.v1+cell": {
     "cellMetadata": {
      "byteLimit": 2048000,
      "rowLimit": 10000
     },
     "inputWidgets": {},
     "nuid": "0b310da7-8318-49e0-aad1-4f74aaf1b5b6",
     "showTitle": false,
     "title": ""
    }
   },
   "outputs": [],
   "source": [
    "# Step 1: Use the .map() method to get the length of the words in our_list\n",
    "# Step 2: Pass the list() function to create a list of resulting values\n",
    "# Step 3: Assign the result to the variable name \"result\" to print it to the screen\n",
    "\n",
    "result_map = list(map(len, our_list))\n",
    "print(result_map)"
   ]
  },
  {
   "cell_type": "markdown",
   "metadata": {
    "application/vnd.databricks.v1+cell": {
     "cellMetadata": {},
     "inputWidgets": {},
     "nuid": "63e61898-7deb-43ec-b2b7-9fe9a90e8699",
     "showTitle": false,
     "title": ""
    }
   },
   "source": [
    "In the above example the [`.map()`](https://pandas.pydata.org/pandas-docs/stable/reference/api/pandas.Series.map.html) method iterates over `our_list`, applies the function on each element and returns the length of the strings as a new list."
   ]
  },
  {
   "cell_type": "markdown",
   "metadata": {
    "application/vnd.databricks.v1+cell": {
     "cellMetadata": {},
     "inputWidgets": {},
     "nuid": "c8db42e1-7342-4648-94b8-bf99c05aaad7",
     "showTitle": false,
     "title": ""
    }
   },
   "source": [
    "Which one do you think is neater and shorter?\n",
    "\n",
    "```python\n",
    "result_loop = []\n",
    "\n",
    "for word in our_list:\n",
    "  result_loops.append(len(word))\n",
    "\n",
    "print(result_loop)\n",
    "```\n",
    "vs. \n",
    "\n",
    "```python\n",
    "result_map = list(map(len, our_list))\n",
    "print(result_map)\n",
    "```\n",
    "\n",
    "In the programming world, it is cleaner and much more concise and sophisticated to use ``map()`` instead of for-loops. On top of that, with `map()` you can guarantee that the original sequence won't be acccidentally mutated or changed, since `map()` always returns a sequence of the results and leads to fewer errors in code. \n",
    "\n",
    "Feel free to check out [this](https://stackoverflow.com/questions/1975250/when-should-i-use-a-map-instead-of-a-for-loop#:~:text=4%20Answers&text=map%20is%20useful%20when%20you,loop%20and%20constructing%20a%20list.) on stackoverflow, where the advantages of using map over for-loops are discussed."
   ]
  },
  {
   "cell_type": "markdown",
   "metadata": {
    "application/vnd.databricks.v1+cell": {
     "cellMetadata": {},
     "inputWidgets": {},
     "nuid": "64e212d7-f425-40aa-b4af-aa667f1fd002",
     "showTitle": false,
     "title": ""
    }
   },
   "source": [
    "## Example 1.3 - Using [`.map()`](https://pandas.pydata.org/pandas-docs/stable/reference/api/pandas.Series.map.html) with a dictionary\n",
    "\n",
    "For a Pandas Series the [`.map()`](https://pandas.pydata.org/pandas-docs/stable/reference/api/pandas.Series.map.html) method can also be used with a dictionary instead of a function.\n",
    "This is especially usefull if each value is simply replaced by another.  \n"
   ]
  },
  {
   "cell_type": "code",
   "execution_count": 0,
   "metadata": {
    "application/vnd.databricks.v1+cell": {
     "cellMetadata": {
      "byteLimit": 2048000,
      "rowLimit": 10000
     },
     "inputWidgets": {},
     "nuid": "ea1b56d1-7f83-46d4-aee1-a6541918f1e4",
     "showTitle": false,
     "title": ""
    }
   },
   "outputs": [],
   "source": [
    "# run this code\n",
    "animal_series = pd.Series([\"wolf\", \"iguana\", \"shark\", \"capybara\"])"
   ]
  },
  {
   "cell_type": "code",
   "execution_count": 0,
   "metadata": {
    "application/vnd.databricks.v1+cell": {
     "cellMetadata": {
      "byteLimit": 2048000,
      "rowLimit": 10000
     },
     "inputWidgets": {},
     "nuid": "570b321b-28e5-45ed-9563-edca820d701f",
     "showTitle": false,
     "title": ""
    }
   },
   "outputs": [],
   "source": [
    "# Step 1: Create a dictionary mapping the values from the Series to the desired replacement values.\n",
    "# Step 2: Use the .map() method to replace the values in animal_series\n",
    "# Step 3: Assign the result to the variable name \"class_series\" to print it to the screen\n",
    "\n",
    "class_dict = {\"wolf\": \"mammal\", \"capybara\": \"mammal\", \"iguana\": \"reptile\", \"shark\": \"fish\"}\n",
    "\n",
    "class_series = animal_series.map(class_dict)\n",
    "class_series"
   ]
  },
  {
   "cell_type": "markdown",
   "metadata": {
    "application/vnd.databricks.v1+cell": {
     "cellMetadata": {},
     "inputWidgets": {},
     "nuid": "d66e755d-dbeb-42c6-8531-91ed71388ce2",
     "showTitle": false,
     "title": ""
    }
   },
   "source": [
    "## Bulit-in [``map()``](https://docs.python.org/3/library/functions.html#map) function\n",
    "\n",
    "In addition to the Pandas Series method there is also a build in [``map()``](https://docs.python.org/3/library/functions.html#map) function.\n",
    "This funciton works on any iterable object in Python (e.g. list, tuple, dictionary, set, or Series).\n",
    "\n",
    "- it returns an iterator (don't worry about this concept for now)\n",
    "- the resulting values (an iterator) can be passed to the [`list()`](https://docs.python.org/3/library/functions.html#func-list) function or [`set()`](https://docs.python.org/3/library/functions.html#func-set) function to create a list or a set\n",
    "\n",
    "Example code:\n",
    "\n",
    "`map(function, iterable)`\n",
    "\n",
    "To extract the result we can use for example: <break> \n",
    "\n",
    "`list(map(function, iterable))`\n",
    "\n",
    "or \n",
    "\n",
    "`set(map(function, iterable))`"
   ]
  },
  {
   "cell_type": "markdown",
   "metadata": {
    "application/vnd.databricks.v1+cell": {
     "cellMetadata": {},
     "inputWidgets": {},
     "nuid": "6fe401e3-d4e3-4faa-ab97-db4cde170223",
     "showTitle": false,
     "title": ""
    }
   },
   "source": [
    "## Example 1.4 - Using built-in [``map()``](https://docs.python.org/3/library/functions.html#map) function"
   ]
  },
  {
   "cell_type": "code",
   "execution_count": 0,
   "metadata": {
    "application/vnd.databricks.v1+cell": {
     "cellMetadata": {
      "byteLimit": 2048000,
      "rowLimit": 10000
     },
     "inputWidgets": {},
     "nuid": "ee351b9b-69f4-47f2-a574-fcdfe09a38bf",
     "showTitle": false,
     "title": ""
    }
   },
   "outputs": [],
   "source": [
    "# run this code\n",
    "our_list = ['This', 'is', 'the', 'first', 'example']"
   ]
  },
  {
   "cell_type": "code",
   "execution_count": 0,
   "metadata": {
    "application/vnd.databricks.v1+cell": {
     "cellMetadata": {
      "byteLimit": 2048000,
      "rowLimit": 10000
     },
     "inputWidgets": {},
     "nuid": "31f1b1e6-7c0b-4f46-8c7c-839b51d59ed8",
     "showTitle": false,
     "title": ""
    }
   },
   "outputs": [],
   "source": [
    "# Step 1: Use the .map() method to get the length of the words in our_list\n",
    "# Step 2: Assign the result to the variable name \"result_map\" to print it to the screen\n",
    "\n",
    "result_map = list(map(len, our_list))\n",
    "result_map"
   ]
  },
  {
   "cell_type": "markdown",
   "metadata": {
    "application/vnd.databricks.v1+cell": {
     "cellMetadata": {},
     "inputWidgets": {},
     "nuid": "652ae855-67d2-42cb-93ef-1f9aee542d41",
     "showTitle": false,
     "title": ""
    }
   },
   "source": [
    "Feel free to check out [this](https://stackoverflow.com/questions/1975250/when-should-i-use-a-map-instead-of-a-for-loop#:~:text=4%20Answers&text=map%20is%20useful%20when%20you,loop%20and%20constructing%20a%20list.) on stackoverflow, where the advantages of using map over for-loops are discussed."
   ]
  },
  {
   "cell_type": "markdown",
   "metadata": {
    "application/vnd.databricks.v1+cell": {
     "cellMetadata": {},
     "inputWidgets": {},
     "nuid": "f6da9d31-6ca6-4a9e-beb2-320747283670",
     "showTitle": false,
     "title": ""
    }
   },
   "source": [
    "### Task 1\n",
    "Now, let's create a function `triple` and a Pandas Series `numbers` which will be our iterable."
   ]
  },
  {
   "cell_type": "code",
   "execution_count": 0,
   "metadata": {
    "application/vnd.databricks.v1+cell": {
     "cellMetadata": {
      "byteLimit": 2048000,
      "rowLimit": 10000
     },
     "inputWidgets": {},
     "nuid": "508aa8db-dc5f-4c27-8d58-2ae10a1bc919",
     "showTitle": false,
     "title": ""
    }
   },
   "outputs": [],
   "source": [
    "# Run this code \n",
    "def triple(x):\n",
    "    return x * 3"
   ]
  },
  {
   "cell_type": "code",
   "execution_count": 0,
   "metadata": {
    "application/vnd.databricks.v1+cell": {
     "cellMetadata": {
      "byteLimit": 2048000,
      "rowLimit": 10000
     },
     "inputWidgets": {},
     "nuid": "46b7ac74-0d5c-407d-bf04-0d44d0c2bff9",
     "showTitle": false,
     "title": ""
    }
   },
   "outputs": [],
   "source": [
    "# Run this code\n",
    "numbers = pd.Series([15, 4, 8, 45, 36, 7])"
   ]
  },
  {
   "cell_type": "code",
   "execution_count": 0,
   "metadata": {
    "application/vnd.databricks.v1+cell": {
     "cellMetadata": {
      "byteLimit": 2048000,
      "rowLimit": 10000
     },
     "inputWidgets": {},
     "nuid": "fee88977-479b-48ca-b5ae-3f0ddea164cc",
     "showTitle": false,
     "title": ""
    }
   },
   "outputs": [],
   "source": [
    "# TASK 1 >>>> Apply the .map() method with the function triple on our Pandas Series 'numbers' and store it in the variable result_2 \n",
    "#             Print result_2 (the result should be the numbers multiply by 3)\n",
    "#             Think about the three different steps performed in Example 1\n",
    "\n",
    "### Start your code below ###\n",
    "\n",
    "result_2 = numbers.map(triple)\n",
    "print(result_2)"
   ]
  },
  {
   "cell_type": "markdown",
   "metadata": {
    "application/vnd.databricks.v1+cell": {
     "cellMetadata": {},
     "inputWidgets": {},
     "nuid": "b4a41d9e-437a-4568-b794-2aeda0676dff",
     "showTitle": false,
     "title": ""
    }
   },
   "source": [
    "# 2. [``filter()``](https://docs.python.org/3/library/functions.html#filter) function\n",
    "\n",
    "- similar to the built-in [`map()`](https://docs.python.org/3/library/functions.html#map) function, but instead of any function, [`filter()`](https://docs.python.org/3/library/functions.html#filter) takes a Boolean-valued function (a function that returns True or False based on the input data) instead of any built-in functions and a sequence of iterables (list, tuple, dictionary, set, or Series) as arugments\n",
    "- returns the items of the intput data which the Boolean-valued function returns `True`\n",
    "- the Boolean-valued function can be used-defined function"
   ]
  },
  {
   "cell_type": "markdown",
   "metadata": {
    "application/vnd.databricks.v1+cell": {
     "cellMetadata": {},
     "inputWidgets": {},
     "nuid": "b048ef6a-7e26-47b6-a7e2-53121a8a5317",
     "showTitle": false,
     "title": ""
    }
   },
   "source": [
    "Imagine there is a list with positive and negative numbers"
   ]
  },
  {
   "cell_type": "code",
   "execution_count": 0,
   "metadata": {
    "application/vnd.databricks.v1+cell": {
     "cellMetadata": {
      "byteLimit": 2048000,
      "rowLimit": 10000
     },
     "inputWidgets": {},
     "nuid": "7a61d9ef-606c-41ab-bf3a-bd4ed3d4dfc6",
     "showTitle": false,
     "title": ""
    }
   },
   "outputs": [],
   "source": [
    "# Run this code\n",
    "list_mixed = [-1,0,2,24,-42,-5,30,99]"
   ]
  },
  {
   "cell_type": "code",
   "execution_count": 0,
   "metadata": {
    "application/vnd.databricks.v1+cell": {
     "cellMetadata": {
      "byteLimit": 2048000,
      "rowLimit": 10000
     },
     "inputWidgets": {},
     "nuid": "8bb34367-c87d-4e47-b19d-0991ea3d237e",
     "showTitle": false,
     "title": ""
    }
   },
   "outputs": [],
   "source": [
    "# Run this code\n",
    "def criteria(x): \n",
    "    return x >= 0"
   ]
  },
  {
   "cell_type": "markdown",
   "metadata": {
    "application/vnd.databricks.v1+cell": {
     "cellMetadata": {},
     "inputWidgets": {},
     "nuid": "1a750602-7e7f-487a-8bd4-5f8e09a861fc",
     "showTitle": false,
     "title": ""
    }
   },
   "source": [
    "With the help of filter and our own user-defined function we can filter out the negative values and be left with only positive values."
   ]
  },
  {
   "cell_type": "code",
   "execution_count": 0,
   "metadata": {
    "application/vnd.databricks.v1+cell": {
     "cellMetadata": {
      "byteLimit": 2048000,
      "rowLimit": 10000
     },
     "inputWidgets": {},
     "nuid": "94d9d18f-2f5a-4958-889d-07ae1b10749a",
     "showTitle": false,
     "title": ""
    }
   },
   "outputs": [],
   "source": [
    "list_positive = list(filter(criteria, list_mixed))\n",
    "print(list_positive)"
   ]
  },
  {
   "cell_type": "markdown",
   "metadata": {
    "application/vnd.databricks.v1+cell": {
     "cellMetadata": {},
     "inputWidgets": {},
     "nuid": "b672b017-72f7-4d48-a951-8bde8f011fe7",
     "showTitle": false,
     "title": ""
    }
   },
   "source": [
    "Did you know we can combine the [`map()`](https://docs.python.org/3/library/functions.html#map) and [`filter()`](https://docs.python.org/3/library/functions.html#filter) functions? Since [`filter()`](https://docs.python.org/3/library/functions.html#filter) returns a selected iterable based on certain criteria, the output of [`filter()`](https://docs.python.org/3/library/functions.html#filter) can be our input for the [`map()`](https://docs.python.org/3/library/functions.html#map) method.\n",
    "\n",
    "In order to avoid a negative number as an argument for [`math.sqrt()`](https://docs.python.org/3/library/math.html#math.sqrt) which will result in a `ValueError`, we want to filter out the negative numbers before we apply the [`math.sqrt()`](https://docs.python.org/3/library/math.html#math.sqrt) method."
   ]
  },
  {
   "cell_type": "markdown",
   "metadata": {
    "application/vnd.databricks.v1+cell": {
     "cellMetadata": {},
     "inputWidgets": {},
     "nuid": "df580e6a-a2c1-470e-856d-fc35fa02f9fb",
     "showTitle": false,
     "title": ""
    }
   },
   "source": [
    "Did you know we can combine the [`map()`](https://docs.python.org/3/library/functions.html#map) and [`filter()`](https://docs.python.org/3/library/functions.html#filter) functions? Since [`filter()`](https://docs.python.org/3/library/functions.html#filter) returns a selected iterable based on certain criteria, the output of [`filter()`](https://docs.python.org/3/library/functions.html#filter) can be our input for the [`map()`](https://docs.python.org/3/library/functions.html#map) method.\n",
    "\n",
    "In order to avoid a negative number as an argument for [`math.sqrt()`](https://docs.python.org/3/library/math.html#math.sqrt) which will result in a `ValueError`, we want to filter out the negative numbers before we apply the [`math.sqrt()`](https://docs.python.org/3/library/math.html#math.sqrt) method."
   ]
  },
  {
   "cell_type": "code",
   "execution_count": 0,
   "metadata": {
    "application/vnd.databricks.v1+cell": {
     "cellMetadata": {
      "byteLimit": 2048000,
      "rowLimit": 10000
     },
     "inputWidgets": {},
     "nuid": "b243e16d-74f9-4f10-b7e2-2fb803ad5cde",
     "showTitle": false,
     "title": ""
    }
   },
   "outputs": [],
   "source": [
    "list_sqrt = list(map(math.sqrt, filter(criteria, list_mixed)))\n",
    "print(list_sqrt)"
   ]
  },
  {
   "cell_type": "markdown",
   "metadata": {
    "application/vnd.databricks.v1+cell": {
     "cellMetadata": {},
     "inputWidgets": {},
     "nuid": "c391c9e6-e738-4f98-959e-e8bbf3edec51",
     "showTitle": false,
     "title": ""
    }
   },
   "source": [
    "### Optional: Task 2"
   ]
  },
  {
   "cell_type": "code",
   "execution_count": 0,
   "metadata": {
    "application/vnd.databricks.v1+cell": {
     "cellMetadata": {
      "byteLimit": 2048000,
      "rowLimit": 10000
     },
     "inputWidgets": {},
     "nuid": "44257406-32e6-46d0-81ae-58f10c94b99b",
     "showTitle": false,
     "title": ""
    }
   },
   "outputs": [],
   "source": [
    "# TASK 2 >>>> With the help of .map() and .filter(),\n",
    "#             round up any number that is bigger than 5 from the list \"list_sqrt\" to the next whole digit.\n",
    "#             To round up the number, you can use round().\n",
    "#             Don't forget to write your user-defined function as your criteria to filter out the \"not desirable\" numbers\n",
    "\n",
    "### Start your code below ###"
   ]
  },
  {
   "cell_type": "markdown",
   "metadata": {
    "application/vnd.databricks.v1+cell": {
     "cellMetadata": {},
     "inputWidgets": {},
     "nuid": "4187d4f3-a074-4681-9620-6162f9c9bb9b",
     "showTitle": false,
     "title": ""
    }
   },
   "source": [
    "# 3. [`.apply()`](https://pandas.pydata.org/pandas-docs/stable/reference/api/pandas.DataFrame.apply.html) method\n",
    "\n",
    "- this method applies a function along an axis of the DataFrame \\\\(^{1}\\\\) or a Series\n",
    "- it also works elementwise but is suited to more complex functions and operations\n",
    "- it accepts user-defined functions which apply a transformation/aggregation on a DataFrame (or Series) as well\n",
    "\n",
    "You can find a nice comparison of [`.map()`](https://pandas.pydata.org/pandas-docs/stable/reference/api/pandas.DataFrame.map.html) and [`.apply()`](https://pandas.pydata.org/pandas-docs/stable/reference/api/pandas.DataFrame.apply.html) methods and when to use them in [this article on stackoverflow](https://stackoverflow.com/questions/19798153/difference-between-map-applymap-and-apply-methods-in-pandas)."
   ]
  },
  {
   "cell_type": "markdown",
   "metadata": {
    "application/vnd.databricks.v1+cell": {
     "cellMetadata": {},
     "inputWidgets": {},
     "nuid": "e3b60b1c-1f91-4c99-8159-f2b8fa66d712",
     "showTitle": false,
     "title": ""
    }
   },
   "source": [
    "### Example 3.1"
   ]
  },
  {
   "cell_type": "code",
   "execution_count": 0,
   "metadata": {
    "application/vnd.databricks.v1+cell": {
     "cellMetadata": {
      "byteLimit": 2048000,
      "rowLimit": 10000
     },
     "inputWidgets": {},
     "nuid": "990225fa-894a-4460-ac83-36f4874febfa",
     "showTitle": false,
     "title": ""
    }
   },
   "outputs": [],
   "source": [
    "# Run this code\n",
    "students = [(1, 'Robert', 30, 'Slovakia', 26),\n",
    "           (2, 'Jana', 29, 'Sweden' , 27),\n",
    "           (3, 'Martin', 31, 'Sweden', 26),\n",
    "           (4, 'Kristina', 26,'Germany' , 30),\n",
    "           (5, 'Peter', 33, 'Austria' , 22),\n",
    "           (6, 'Nikola', 25, 'USA', 23),\n",
    "           (7, 'Renato', 35, 'Brazil', 26)]\n",
    "\n",
    "students_1 = pd.DataFrame(students, columns= ['student_id', 'first_name', 'age', 'country', 'score'])\n",
    "print(students_1)"
   ]
  },
  {
   "cell_type": "code",
   "execution_count": 0,
   "metadata": {
    "application/vnd.databricks.v1+cell": {
     "cellMetadata": {
      "byteLimit": 2048000,
      "rowLimit": 10000
     },
     "inputWidgets": {},
     "nuid": "16c28c51-d57b-435d-b05c-ffa722e5fb3e",
     "showTitle": false,
     "title": ""
    }
   },
   "outputs": [],
   "source": [
    "# Run this code to create a regular function\n",
    "\n",
    "def score_func(x): \n",
    "    if x < 25: \n",
    "        return \"Retake\" \n",
    "    else: \n",
    "        return \"Pass\""
   ]
  },
  {
   "cell_type": "code",
   "execution_count": 0,
   "metadata": {
    "application/vnd.databricks.v1+cell": {
     "cellMetadata": {
      "byteLimit": 2048000,
      "rowLimit": 10000
     },
     "inputWidgets": {},
     "nuid": "45c32f3c-9907-4e7b-bdb3-2560ae95dd8e",
     "showTitle": false,
     "title": ""
    }
   },
   "outputs": [],
   "source": [
    "# Use .apply() along with score_func that \n",
    "students_1['result'] = students_1.score.apply(score_func)\n",
    "print(students_1)"
   ]
  },
  {
   "cell_type": "markdown",
   "metadata": {
    "application/vnd.databricks.v1+cell": {
     "cellMetadata": {},
     "inputWidgets": {},
     "nuid": "0c393b4a-cd8d-4b97-8003-ea6ccfeb4a35",
     "showTitle": false,
     "title": ""
    }
   },
   "source": [
    "But in comparison to the [`.map()`](https://pandas.pydata.org/pandas-docs/stable/reference/api/pandas.DataFrame.map.html) method, [`.apply()`](https://pandas.pydata.org/pandas-docs/stable/reference/api/pandas.DataFrame.apply.html) is capable of more complicated operations.\n",
    "\n",
    "## Example 3.2 - Applying a function with positional arguments\n",
    "\n",
    "If we define a function with an additional positional argument we can still use [`.apply()`](https://pandas.pydata.org/pandas-docs/stable/reference/api/pandas.DataFrame.apply.html).\n",
    "See if you can figure out the code below."
   ]
  },
  {
   "cell_type": "code",
   "execution_count": 0,
   "metadata": {
    "application/vnd.databricks.v1+cell": {
     "cellMetadata": {
      "byteLimit": 2048000,
      "rowLimit": 10000
     },
     "inputWidgets": {},
     "nuid": "f7c31c96-8b61-4733-b4e1-85ddceb74991",
     "showTitle": false,
     "title": ""
    }
   },
   "outputs": [],
   "source": [
    "def score_func(x, threshhold):\n",
    "    if x < threshhold:\n",
    "        return \"Retake\"\n",
    "    else:\n",
    "        return \"Pass\""
   ]
  },
  {
   "cell_type": "code",
   "execution_count": 0,
   "metadata": {
    "application/vnd.databricks.v1+cell": {
     "cellMetadata": {
      "byteLimit": 2048000,
      "rowLimit": 10000
     },
     "inputWidgets": {},
     "nuid": "7670da7c-d44c-4fec-8341-0f8fab184319",
     "showTitle": false,
     "title": ""
    }
   },
   "outputs": [],
   "source": [
    "# Use .apply() along with score_func \n",
    "students_1['result'] = students_1.score.apply(score_func, args=(28,))\n",
    "print(students_1)"
   ]
  },
  {
   "cell_type": "markdown",
   "metadata": {
    "application/vnd.databricks.v1+cell": {
     "cellMetadata": {},
     "inputWidgets": {},
     "nuid": "e0dbb3e6-baac-47ae-a642-7ef57ad2c0c5",
     "showTitle": false,
     "title": ""
    }
   },
   "source": [
    "## Example 3.3 - Using reducing functions and changing the axis\n",
    "\n",
    "In this example we are not applying the function elementwise but rather we are applying a reducing function.\n",
    "We will also show how we can summarize either by column or by row.  \n",
    "First let's create a new dataframe containing some fictional test results."
   ]
  },
  {
   "cell_type": "code",
   "execution_count": 0,
   "metadata": {
    "application/vnd.databricks.v1+cell": {
     "cellMetadata": {
      "byteLimit": 2048000,
      "rowLimit": 10000
     },
     "inputWidgets": {},
     "nuid": "651a2cfb-7511-449e-a31e-90951e08d83c",
     "showTitle": false,
     "title": ""
    }
   },
   "outputs": [],
   "source": [
    "# run this code\n",
    "\n",
    "tests = pd.DataFrame(\n",
    "    {\n",
    "        \"1. Test\": [87, 97, 98, 81, 98, 66, 94],\n",
    "        \"2. Test\": [66, 76, 73, 79, 55, 98, 84],\n",
    "        \"3. Test\": [53, 72, 68, 52, 79, 55, 99],\n",
    "    }\n",
    ")\n",
    "tests.index = [\"Robert\", \"Jana\", \"Martin\", \"Kristina\", \"Peter\", \"Nikola\", \"Renato\"]\n",
    "tests"
   ]
  },
  {
   "cell_type": "markdown",
   "metadata": {
    "application/vnd.databricks.v1+cell": {
     "cellMetadata": {},
     "inputWidgets": {},
     "nuid": "5cf94064-6b1b-4feb-b679-993570c69975",
     "showTitle": false,
     "title": ""
    }
   },
   "source": [
    "If we are working with a Pandas DataFrame by default a funciton is applied to each column.\n",
    "Let's say we want to know the average score for each test."
   ]
  },
  {
   "cell_type": "code",
   "execution_count": 0,
   "metadata": {
    "application/vnd.databricks.v1+cell": {
     "cellMetadata": {
      "byteLimit": 2048000,
      "rowLimit": 10000
     },
     "inputWidgets": {},
     "nuid": "23c5d8e4-bfca-4a11-a1f6-f5708b0607da",
     "showTitle": false,
     "title": ""
    }
   },
   "outputs": [],
   "source": [
    "# use apply with a reduce function, the result is a series\n",
    "avg_score = tests.apply(np.mean)\n",
    "avg_score"
   ]
  },
  {
   "cell_type": "markdown",
   "metadata": {
    "application/vnd.databricks.v1+cell": {
     "cellMetadata": {},
     "inputWidgets": {},
     "nuid": "0bd25ba3-2a19-4d8f-b242-6b26c6cc733f",
     "showTitle": false,
     "title": ""
    }
   },
   "source": [
    "Now we want to find the maximum score each student has achieved. \n",
    "In order to achieve this we will use the ``axis`` argument.\n",
    "\n",
    "- 0 or 'index': apply function to each column (default)\n",
    "- 1 or 'columns': apply function to each row."
   ]
  },
  {
   "cell_type": "code",
   "execution_count": 0,
   "metadata": {
    "application/vnd.databricks.v1+cell": {
     "cellMetadata": {
      "byteLimit": 2048000,
      "rowLimit": 10000
     },
     "inputWidgets": {},
     "nuid": "b88802f3-7e56-42b5-9d7c-9b861f3318ff",
     "showTitle": false,
     "title": ""
    }
   },
   "outputs": [],
   "source": [
    "tests.apply(np.max, axis = 1)"
   ]
  },
  {
   "cell_type": "markdown",
   "metadata": {
    "application/vnd.databricks.v1+cell": {
     "cellMetadata": {},
     "inputWidgets": {},
     "nuid": "7c17e3c0-e4fb-446d-b293-82c2d3d860ad",
     "showTitle": false,
     "title": ""
    }
   },
   "source": [
    "The results above could also be achieved using the [``.agg()``](https://pandas.pydata.org/pandas-docs/stable/reference/api/pandas.DataFrame.agg.html) method introduced in an earlier notebook.\n",
    "However [`.apply()`](https://pandas.pydata.org/pandas-docs/stable/reference/api/pandas.DataFrame.apply.html) offers more flexibility."
   ]
  },
  {
   "cell_type": "markdown",
   "metadata": {
    "application/vnd.databricks.v1+cell": {
     "cellMetadata": {},
     "inputWidgets": {},
     "nuid": "edf2c1d5-e4b1-43fb-9ac2-2d4ee26f48ce",
     "showTitle": false,
     "title": ""
    }
   },
   "source": [
    "### Example 4.0\n",
    "\n",
    "As we already know, regular functions are created using the `def` keyword. These type of functions can have any number of arguments and expressions."
   ]
  },
  {
   "cell_type": "code",
   "execution_count": 0,
   "metadata": {
    "application/vnd.databricks.v1+cell": {
     "cellMetadata": {
      "byteLimit": 2048000,
      "rowLimit": 10000
     },
     "inputWidgets": {},
     "nuid": "b2b3ebab-947f-4a59-8ba1-162985ad050f",
     "showTitle": false,
     "title": ""
    }
   },
   "outputs": [],
   "source": [
    "# Example of regular function\n",
    "def multi_add(x):\n",
    "    return x * 2 + 5"
   ]
  },
  {
   "cell_type": "code",
   "execution_count": 0,
   "metadata": {
    "application/vnd.databricks.v1+cell": {
     "cellMetadata": {
      "byteLimit": 2048000,
      "rowLimit": 10000
     },
     "inputWidgets": {},
     "nuid": "250fed13-0a9a-4eb3-a29a-59a200b70524",
     "showTitle": false,
     "title": ""
    }
   },
   "outputs": [],
   "source": [
    "result_1 = multi_add(5)\n",
    "print(result_1)"
   ]
  },
  {
   "cell_type": "markdown",
   "metadata": {
    "application/vnd.databricks.v1+cell": {
     "cellMetadata": {},
     "inputWidgets": {},
     "nuid": "09eb5575-d6c3-443a-8deb-a2c66c6ddfd5",
     "showTitle": false,
     "title": ""
    }
   },
   "source": [
    "# 4. Lambda Function\n",
    "- an anonymous function (it means it can be defined without a name)\n",
    "- the `def` keyword is not necessary with a lambda function\n",
    "- lambda functions can have any number of parameters, but the function body can only **contain one expression** (that means multiple statements are not allowed in the body of a lambda function) = it is used for *_one-line expressions_*\n",
    "- it returns a function object which can be assigned to variable\n",
    "\n",
    "General syntax: `lambda x: x`\n",
    "\n",
    "\n",
    "\n",
    "\n",
    "### Example 4.1"
   ]
  },
  {
   "cell_type": "code",
   "execution_count": 0,
   "metadata": {
    "application/vnd.databricks.v1+cell": {
     "cellMetadata": {
      "byteLimit": 2048000,
      "rowLimit": 10000
     },
     "inputWidgets": {},
     "nuid": "7bfb6c2e-0340-4256-a46a-4d2b2e606f20",
     "showTitle": false,
     "title": ""
    }
   },
   "outputs": [],
   "source": [
    "our_lambda = lambda x: x * 2 + 5\n",
    "print(our_lambda(5))"
   ]
  },
  {
   "cell_type": "markdown",
   "metadata": {
    "application/vnd.databricks.v1+cell": {
     "cellMetadata": {},
     "inputWidgets": {},
     "nuid": "5a370f7e-1aa9-48de-b11c-06235f2b3d80",
     "showTitle": false,
     "title": ""
    }
   },
   "source": [
    "This simple lambda function takes an input `x` (in our case number 5), multiplies it by `2` and adds `5`. <br>\n",
    "\n",
    "Lambda functions are commonly used along [`.apply()`](https://pandas.pydata.org/pandas-docs/stable/reference/api/pandas.DataFrame.apply.html) method and can be really useful. <br>\n",
    "\n",
    "### Example 4.2\n",
    "\n",
    "Imagine that the scores of students above have not been correctly recorded and we need to multiply them by 10. \n",
    "\n",
    "Use a lambda function along with [`.apply()`](https://pandas.pydata.org/pandas-docs/stable/reference/api/pandas.DataFrame.apply.html) and assign it to the specific column of the dataset ('score'). "
   ]
  },
  {
   "cell_type": "code",
   "execution_count": 0,
   "metadata": {
    "application/vnd.databricks.v1+cell": {
     "cellMetadata": {
      "byteLimit": 2048000,
      "rowLimit": 10000
     },
     "inputWidgets": {},
     "nuid": "22c16488-1682-435a-be3b-3b2f0a08dc89",
     "showTitle": false,
     "title": ""
    }
   },
   "outputs": [],
   "source": [
    "students_1.score = students_1.score.apply(lambda x: x * 10)\n",
    "print(students_1)"
   ]
  },
  {
   "cell_type": "markdown",
   "metadata": {
    "application/vnd.databricks.v1+cell": {
     "cellMetadata": {},
     "inputWidgets": {},
     "nuid": "5e4a479c-2141-4b29-b606-9a64b697e630",
     "showTitle": false,
     "title": ""
    }
   },
   "source": [
    "### Task 3"
   ]
  },
  {
   "cell_type": "code",
   "execution_count": 0,
   "metadata": {
    "application/vnd.databricks.v1+cell": {
     "cellMetadata": {
      "byteLimit": 2048000,
      "rowLimit": 10000
     },
     "inputWidgets": {},
     "nuid": "673c8673-5c2c-47b6-9d4d-a9d0851cce41",
     "showTitle": false,
     "title": ""
    }
   },
   "outputs": [],
   "source": [
    "# TASK 3 >>>> Use the .apply() method on column 'country' along with lambda to make words uppercase \n",
    "#             Do not forget assign it to this column\n",
    "\n",
    "### Start your code below ###\n",
    "\n",
    "students_1['country'] = students_1['country'].apply(lambda x: x.upper())\n",
    "print(students_1)"
   ]
  },
  {
   "cell_type": "markdown",
   "metadata": {
    "application/vnd.databricks.v1+cell": {
     "cellMetadata": {},
     "inputWidgets": {},
     "nuid": "1c18aa35-fd9e-4de5-981a-67c6bcbe719d",
     "showTitle": false,
     "title": ""
    }
   },
   "source": [
    "We can use lambda functions to simplify Example 3.1 like this:"
   ]
  },
  {
   "cell_type": "code",
   "execution_count": 0,
   "metadata": {
    "application/vnd.databricks.v1+cell": {
     "cellMetadata": {
      "byteLimit": 2048000,
      "rowLimit": 10000
     },
     "inputWidgets": {},
     "nuid": "53f7fa6c-f829-40ee-8307-cd767ac239a7",
     "showTitle": false,
     "title": ""
    }
   },
   "outputs": [],
   "source": [
    "# Run this code\n",
    "students = [(1, 'Robert', 30, 'Slovakia', 26),\n",
    "           (2, 'Jana', 29, 'Sweden' , 27),\n",
    "           (3, 'Martin', 31, 'Sweden', 26),\n",
    "           (4, 'Kristina', 26,'Germany' , 30),\n",
    "           (5, 'Peter', 33, 'Austria' , 22),\n",
    "           (6, 'Nikola', 25, 'USA', 23),\n",
    "           (7, 'Renato', 35, 'Brazil', 26)]\n",
    "\n",
    "students_1 = pd.DataFrame(students, columns= ['student_id', 'first_name', 'age', 'country', 'score'])"
   ]
  },
  {
   "cell_type": "code",
   "execution_count": 0,
   "metadata": {
    "application/vnd.databricks.v1+cell": {
     "cellMetadata": {
      "byteLimit": 2048000,
      "rowLimit": 10000
     },
     "inputWidgets": {},
     "nuid": "bb7e87f7-c77c-4b56-9312-bce57f804d4e",
     "showTitle": false,
     "title": ""
    }
   },
   "outputs": [],
   "source": [
    "# A Lambda function is used instead of the custom defined function \"score_func\"\n",
    "\n",
    "students_1['result'] = students_1.score.apply(lambda x: \"Pass\" if (x > 25) else \"Retake\")\n",
    "print(students_1)"
   ]
  },
  {
   "cell_type": "markdown",
   "metadata": {
    "application/vnd.databricks.v1+cell": {
     "cellMetadata": {},
     "inputWidgets": {},
     "nuid": "070cc34c-019c-41b0-83dc-d980a2ba8823",
     "showTitle": false,
     "title": ""
    }
   },
   "source": [
    "# References\n",
    "\n",
    "\\\\(^{1}\\\\) pandas. pandas.DataFrame.apply. [ONLINE] Available at: https://pandas.pydata.org/pandas-docs/stable/reference/api/pandas.DataFrame.apply.html#pandas-dataframe-apply. [Accessed 14 September 2020].\n",
    "\n",
    "Stackoverflow. Difference between map, applymap and apply methods in Pandas. [ONLINE] Available at: https://stackoverflow.com/questions/19798153/difference-between-map-applymap-and-apply-methods-in-pandas. [Accessed 14 September 2020].\n",
    "\n",
    "Material adapted for RBI internal purposes with full permissions from original authors."
   ]
  }
 ],
 "metadata": {
  "application/vnd.databricks.v1+notebook": {
   "dashboards": [],
   "environmentMetadata": null,
   "language": "python",
   "notebookMetadata": {
    "pythonIndentUnit": 2
   },
   "notebookName": "[Answer]4_Transforming_data_jupyter",
   "widgets": {}
  }
 },
 "nbformat": 4,
 "nbformat_minor": 0
}
