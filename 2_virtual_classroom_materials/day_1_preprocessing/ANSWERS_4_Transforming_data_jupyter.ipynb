{
 "cells": [
  {
   "cell_type": "markdown",
   "metadata": {
    "application/vnd.databricks.v1+cell": {
     "cellMetadata": {},
     "inputWidgets": {},
     "nuid": "5cd4a0fc-5239-4946-926a-8939b6ad0132",
     "showTitle": false,
     "title": ""
    }
   },
   "source": [
    "# Transforming the data"
   ]
  },
  {
   "cell_type": "code",
   "execution_count": 0,
   "metadata": {
    "application/vnd.databricks.v1+cell": {
     "cellMetadata": {},
     "inputWidgets": {},
     "nuid": "369bc682-5858-420f-87d5-dce0a2d7bc9a",
     "showTitle": false,
     "title": ""
    }
   },
   "outputs": [],
   "source": [
    "# importing essential packages\n",
    "import pandas as pd\n",
    "import math"
   ]
  },
  {
   "cell_type": "markdown",
   "metadata": {
    "application/vnd.databricks.v1+cell": {
     "cellMetadata": {},
     "inputWidgets": {},
     "nuid": "4518fc12-48db-48a9-8644-a1ca0d595c04",
     "showTitle": false,
     "title": ""
    }
   },
   "source": [
    "# 1. `.map()` method\n",
    "\n",
    "- `.map()` method is a great tool to have when it comes to processing & transforming iterables of numeric values\n",
    "- it is a convenient way to perform _element-wise_ transformations and other data cleaning-related operations\n",
    "- this method on Series takes a function object and a sequence of iterables (list, tuple, dictionary, set, or Series) as arguments\n",
    "- any built-in functions that take an argument and returns a value can be used with `.map()`\n",
    "- it returns an iterator (don't worry about this concept for now)\n",
    "- the resulting values (an iterator) can be passed to the `list()` function or `set()` function to create a list or a set\n",
    "\n",
    "Example code:\n",
    "\n",
    "`map(function, iterable)`\n",
    "\n",
    "To extract the result we can use for example: <break> \n",
    "\n",
    "`list(map(function, iterable))`\n",
    "\n",
    "or \n",
    "\n",
    "`set(map(function, iterable))`"
   ]
  },
  {
   "cell_type": "markdown",
   "metadata": {
    "application/vnd.databricks.v1+cell": {
     "cellMetadata": {},
     "inputWidgets": {},
     "nuid": "05865f24-17a2-4d3e-9cfe-b432ee00bd8f",
     "showTitle": false,
     "title": ""
    }
   },
   "source": [
    "### Example 1.1 - Example using For Loops"
   ]
  },
  {
   "cell_type": "code",
   "execution_count": 0,
   "metadata": {
    "application/vnd.databricks.v1+cell": {
     "cellMetadata": {},
     "inputWidgets": {},
     "nuid": "85762c79-89de-40b8-82a8-ed9a39c050e5",
     "showTitle": false,
     "title": ""
    }
   },
   "outputs": [],
   "source": [
    "# Run this code\n",
    "our_list = ['This', 'is', 'the', 'first', 'example']"
   ]
  },
  {
   "cell_type": "code",
   "execution_count": 0,
   "metadata": {
    "application/vnd.databricks.v1+cell": {
     "cellMetadata": {},
     "inputWidgets": {},
     "nuid": "adadf150-d955-4316-a424-53f8db9242f0",
     "showTitle": false,
     "title": ""
    }
   },
   "outputs": [],
   "source": [
    "#Step 1: intialize an empty list \"result_loop\" that will store our results later\n",
    "#Step 2: get the length of each variable in the list \"our_list\"\n",
    "#Step 3: append the result to the list \"result_loop\"\n",
    "#Step 4: print the result\n",
    "\n",
    "result_loop = []\n",
    "\n",
    "for word in our_list:\n",
    "    result_loop.append(len(word))\n",
    "\n",
    "print(result_loop)"
   ]
  },
  {
   "cell_type": "markdown",
   "metadata": {
    "application/vnd.databricks.v1+cell": {
     "cellMetadata": {},
     "inputWidgets": {},
     "nuid": "1ad6d004-a949-44b5-8f8c-81243fc06d9d",
     "showTitle": false,
     "title": ""
    }
   },
   "source": [
    "### Example 1.2 - Example using .map() function"
   ]
  },
  {
   "cell_type": "code",
   "execution_count": 0,
   "metadata": {
    "application/vnd.databricks.v1+cell": {
     "cellMetadata": {},
     "inputWidgets": {},
     "nuid": "573878f0-b7be-4ad7-ab84-4dc6e1ac80e4",
     "showTitle": false,
     "title": ""
    }
   },
   "outputs": [],
   "source": [
    "# Run this code\n",
    "our_list = ['This', 'is', 'the', 'first', 'example']"
   ]
  },
  {
   "cell_type": "code",
   "execution_count": 0,
   "metadata": {
    "application/vnd.databricks.v1+cell": {
     "cellMetadata": {},
     "inputWidgets": {},
     "nuid": "72c2adea-766a-43f0-bc22-1afa41735f26",
     "showTitle": false,
     "title": ""
    }
   },
   "outputs": [],
   "source": [
    "# Step 1: Use the .map() method to get the length of the words in our_list\n",
    "# Step 2: Pass the list() function to create a list of resulting values\n",
    "# Step 3: Assign the result to the variable name \"result\" to print it to the screen\n",
    "\n",
    "result_map = list(map(len, our_list))\n",
    "print(result_map)"
   ]
  },
  {
   "cell_type": "markdown",
   "metadata": {
    "application/vnd.databricks.v1+cell": {
     "cellMetadata": {},
     "inputWidgets": {},
     "nuid": "0840a3b9-d0f8-47b3-afd2-f04fcc28b0b8",
     "showTitle": false,
     "title": ""
    }
   },
   "source": [
    "In the above example the `.map()` method iterates over `our_list`, applies the function on each element and returns the length of the strings as a new list."
   ]
  },
  {
   "cell_type": "markdown",
   "metadata": {
    "application/vnd.databricks.v1+cell": {
     "cellMetadata": {},
     "inputWidgets": {},
     "nuid": "3a03efcc-0a5b-42f4-a61c-2bde1422c46d",
     "showTitle": false,
     "title": ""
    }
   },
   "source": [
    "Which one do you think is neater and shorter?\n",
    "\n",
    "```python\n",
    "result_loop = []\n",
    "\n",
    "for word in our_list:\n",
    "  result_loops.append(len(word))\n",
    "\n",
    "print(result_loop)\n",
    "```\n",
    "vs. \n",
    "\n",
    "```python\n",
    "result_map = list(map(len, our_list))\n",
    "print(result_map)\n",
    "```\n",
    "\n",
    "In the programming world, it is cleaner and much more concise and sophisticated to use ``map()`` instead of for-loops. On top of that, with `map()` you can guarantee that the original sequence won't be acccidentally mutated or changed, since `map()` always returns a sequence of the results and leads to fewer errors in code. \n",
    "\n",
    "Feel free to check out [this](https://stackoverflow.com/questions/1975250/when-should-i-use-a-map-instead-of-a-for-loop#:~:text=4%20Answers&text=map%20is%20useful%20when%20you,loop%20and%20constructing%20a%20list.) on stackoverflow, where the advantages of using map over for-loops are discussed."
   ]
  },
  {
   "cell_type": "markdown",
   "metadata": {
    "application/vnd.databricks.v1+cell": {
     "cellMetadata": {},
     "inputWidgets": {},
     "nuid": "b54b641e-c666-4187-b158-2ff7ae87df1a",
     "showTitle": false,
     "title": ""
    }
   },
   "source": [
    "### Task 1\n",
    "Now, let's create a function `triple` and a Pandas Series `numbers` which will be our iterable."
   ]
  },
  {
   "cell_type": "code",
   "execution_count": 0,
   "metadata": {
    "application/vnd.databricks.v1+cell": {
     "cellMetadata": {},
     "inputWidgets": {},
     "nuid": "c6f3bb17-db8d-40d0-be43-5e617580aeb8",
     "showTitle": false,
     "title": ""
    }
   },
   "outputs": [],
   "source": [
    "# Run this code \n",
    "def triple(x):\n",
    "    return x * 3"
   ]
  },
  {
   "cell_type": "code",
   "execution_count": 0,
   "metadata": {
    "application/vnd.databricks.v1+cell": {
     "cellMetadata": {},
     "inputWidgets": {},
     "nuid": "65a5d4a2-36e9-48a5-a03f-4cfa62147f35",
     "showTitle": false,
     "title": ""
    }
   },
   "outputs": [],
   "source": [
    "# Run this code\n",
    "numbers = pd.Series([15, 4, 8, 45, 36, 7])"
   ]
  },
  {
   "cell_type": "code",
   "execution_count": 0,
   "metadata": {
    "application/vnd.databricks.v1+cell": {
     "cellMetadata": {},
     "inputWidgets": {},
     "nuid": "56009af8-7101-4b98-8f11-0ba9d7c6563e",
     "showTitle": false,
     "title": ""
    }
   },
   "outputs": [],
   "source": [
    "# TASK 1 >>>> Apply the .map() method with the function triple on our Pandas Series 'numbers' and store it in the variable result_2 \n",
    "#             Print result_2 (the result should be the numbers multiply by 3)\n",
    "#             Think about the three different steps performed in Example 1\n",
    "\n",
    "### Start your code below ###\n",
    "\n",
    "result_2 = numbers.map(triple)\n",
    "print(result_2)"
   ]
  },
  {
   "cell_type": "markdown",
   "metadata": {
    "application/vnd.databricks.v1+cell": {
     "cellMetadata": {},
     "inputWidgets": {},
     "nuid": "a4dd4666-57d0-46f2-8853-d2f230361857",
     "showTitle": false,
     "title": ""
    }
   },
   "source": [
    "# 2. .filter() method\n",
    "\n",
    "- similar to `.map()`, but instead of any function, `.filter()` takes a Boolean-valued function (a function that returns True or False based on the input data) instead of any built-in functions and a sequence of iterables (list, tuple, dictionary, set, or Series) as arugments\n",
    "- returns the items of the intput data which the Boolean-valued function returns `True`\n",
    "- the Boolean-valued function can be used-defined function"
   ]
  },
  {
   "cell_type": "markdown",
   "metadata": {
    "application/vnd.databricks.v1+cell": {
     "cellMetadata": {},
     "inputWidgets": {},
     "nuid": "977a9475-54b2-4d05-a45a-9f553d99c988",
     "showTitle": false,
     "title": ""
    }
   },
   "source": [
    "Imagine there is a list with positive and negative numbers"
   ]
  },
  {
   "cell_type": "code",
   "execution_count": 0,
   "metadata": {
    "application/vnd.databricks.v1+cell": {
     "cellMetadata": {},
     "inputWidgets": {},
     "nuid": "65a8a2c9-4615-4f41-bf22-8865dfa749e8",
     "showTitle": false,
     "title": ""
    }
   },
   "outputs": [],
   "source": [
    "# Run this code\n",
    "list_mixed = [-1,0,2,24,-42,-5,30,99]"
   ]
  },
  {
   "cell_type": "code",
   "execution_count": 0,
   "metadata": {
    "application/vnd.databricks.v1+cell": {
     "cellMetadata": {},
     "inputWidgets": {},
     "nuid": "2fa5df94-9471-4288-8653-187b632765e1",
     "showTitle": false,
     "title": ""
    }
   },
   "outputs": [],
   "source": [
    "# Run this code\n",
    "def criteria(x): \n",
    "    return x >= 0"
   ]
  },
  {
   "cell_type": "markdown",
   "metadata": {
    "application/vnd.databricks.v1+cell": {
     "cellMetadata": {},
     "inputWidgets": {},
     "nuid": "1c1fed82-d200-42bb-b357-e5b669df5163",
     "showTitle": false,
     "title": ""
    }
   },
   "source": [
    "With the help of filter and our own user-defined function we can filter out the negative values and be left with only positive values."
   ]
  },
  {
   "cell_type": "code",
   "execution_count": 0,
   "metadata": {
    "application/vnd.databricks.v1+cell": {
     "cellMetadata": {},
     "inputWidgets": {},
     "nuid": "1dd3fdf3-8b6e-4f68-8630-a85967b330b5",
     "showTitle": false,
     "title": ""
    }
   },
   "outputs": [],
   "source": [
    "list_positive = list(filter(criteria, list_mixed))\n",
    "print(list_positive)"
   ]
  },
  {
   "cell_type": "markdown",
   "metadata": {
    "application/vnd.databricks.v1+cell": {
     "cellMetadata": {},
     "inputWidgets": {},
     "nuid": "16e05c09-2a95-41f0-8272-49742ad74968",
     "showTitle": false,
     "title": ""
    }
   },
   "source": [
    "# 3. `.apply()` method\n",
    "\n",
    "- this method applies a function along an axis of the DataFrame \\\\(^{1}\\\\) \n",
    "- it also works elementwise but is suited to more complex functions and operations\n",
    "- it accepts user-defined functions which apply a transformation/aggregation on a DataFrame (or Series) as well\n",
    "\n",
    "You can find a nice comparison of `.map()` and `.apply()` methods and when to use them in [this article on stackoverflow](https://stackoverflow.com/questions/19798153/difference-between-map-applymap-and-apply-methods-in-pandas)."
   ]
  },
  {
   "cell_type": "markdown",
   "metadata": {
    "application/vnd.databricks.v1+cell": {
     "cellMetadata": {},
     "inputWidgets": {},
     "nuid": "ec9f3faa-dcea-436e-aed7-38af9fe43f09",
     "showTitle": false,
     "title": ""
    }
   },
   "source": [
    "### Example 3.1"
   ]
  },
  {
   "cell_type": "code",
   "execution_count": 0,
   "metadata": {
    "application/vnd.databricks.v1+cell": {
     "cellMetadata": {},
     "inputWidgets": {},
     "nuid": "6de44290-2da7-4bdb-8b17-8c54eaf333fc",
     "showTitle": false,
     "title": ""
    }
   },
   "outputs": [],
   "source": [
    "# Run this code\n",
    "students = [(1, 'Robert', 30, 'Slovakia', 26),\n",
    "           (2, 'Jana', 29, 'Sweden' , 27),\n",
    "           (3, 'Martin', 31, 'Sweden', 26),\n",
    "           (4, 'Kristina', 26,'Germany' , 30),\n",
    "           (5, 'Peter', 33, 'Austria' , 22),\n",
    "           (6, 'Nikola', 25, 'USA', 23),\n",
    "           (7, 'Renato', 35, 'Brazil', 26)]\n",
    "\n",
    "students_1 = pd.DataFrame(students, columns= ['student_id', 'first_name', 'age', 'country', 'score'])\n",
    "print(students_1)"
   ]
  },
  {
   "cell_type": "code",
   "execution_count": 0,
   "metadata": {
    "application/vnd.databricks.v1+cell": {
     "cellMetadata": {},
     "inputWidgets": {},
     "nuid": "acb30104-c23d-4b99-9297-a9cf404eb6a0",
     "showTitle": false,
     "title": ""
    }
   },
   "outputs": [],
   "source": [
    "# Run this code to create a regular function\n",
    "\n",
    "def score_func(x): \n",
    "    if x < 25: \n",
    "        return \"Retake\" \n",
    "    else: \n",
    "        return \"Pass\""
   ]
  },
  {
   "cell_type": "code",
   "execution_count": 0,
   "metadata": {
    "application/vnd.databricks.v1+cell": {
     "cellMetadata": {},
     "inputWidgets": {},
     "nuid": "8f9ecf58-d8bb-4449-a04b-37ca5148ae26",
     "showTitle": false,
     "title": ""
    }
   },
   "outputs": [],
   "source": [
    "# Use .apply() along with score_func that \n",
    "students_1['result'] = students_1.score.apply(score_func)\n",
    "print(students_1)"
   ]
  },
  {
   "cell_type": "markdown",
   "metadata": {
    "application/vnd.databricks.v1+cell": {
     "cellMetadata": {},
     "inputWidgets": {},
     "nuid": "c6b2b8a7-8bf6-467d-98f4-16583e73b721",
     "showTitle": false,
     "title": ""
    }
   },
   "source": [
    "### Example 4.0\n",
    "\n",
    "As we already know, regular functions are created using the `def` keyword. These type of functions can have any number of arguments and expressions."
   ]
  },
  {
   "cell_type": "code",
   "execution_count": 0,
   "metadata": {
    "application/vnd.databricks.v1+cell": {
     "cellMetadata": {},
     "inputWidgets": {},
     "nuid": "f65a5b21-523b-440c-8236-e3b1500e9379",
     "showTitle": false,
     "title": ""
    }
   },
   "outputs": [],
   "source": [
    "# Example of regular function\n",
    "def multi_add(x):\n",
    "    return x * 2 + 5"
   ]
  },
  {
   "cell_type": "code",
   "execution_count": 0,
   "metadata": {
    "application/vnd.databricks.v1+cell": {
     "cellMetadata": {},
     "inputWidgets": {},
     "nuid": "207abf06-6809-458c-ba1e-88c59ca6d2ef",
     "showTitle": false,
     "title": ""
    }
   },
   "outputs": [],
   "source": [
    "result_1 = multi_add(5)\n",
    "print(result_1)"
   ]
  },
  {
   "cell_type": "markdown",
   "metadata": {
    "application/vnd.databricks.v1+cell": {
     "cellMetadata": {},
     "inputWidgets": {},
     "nuid": "818c38f0-f171-4b9a-b625-a3559dccf270",
     "showTitle": false,
     "title": ""
    }
   },
   "source": [
    "# 4. Lambda Function\n",
    "- an anonymous function (it means it can be defined without a name)\n",
    "- the `def` keyword is not necessary with a lambda function\n",
    "- lambda functions can have any number of parameters, but the function body can only **contain one expression** (that means multiple statements are not allowed in the body of a lambda function) = it is used for *_one-line expressions_*\n",
    "- it returns a function object which can be assigned to variable\n",
    "\n",
    "General syntax: `lambda x: x`\n",
    "\n",
    "\n",
    "\n",
    "\n",
    "### Example 4.1"
   ]
  },
  {
   "cell_type": "code",
   "execution_count": 0,
   "metadata": {
    "application/vnd.databricks.v1+cell": {
     "cellMetadata": {},
     "inputWidgets": {},
     "nuid": "28d23142-2ee7-4178-bc4b-34f3acb1db02",
     "showTitle": false,
     "title": ""
    }
   },
   "outputs": [],
   "source": [
    "our_lambda = lambda x: x * 2 + 5\n",
    "print(our_lambda(5))"
   ]
  },
  {
   "cell_type": "markdown",
   "metadata": {
    "application/vnd.databricks.v1+cell": {
     "cellMetadata": {},
     "inputWidgets": {},
     "nuid": "94989d6f-1fa6-441f-b162-446038fd45c0",
     "showTitle": false,
     "title": ""
    }
   },
   "source": [
    "This simple lambda function takes an input `x` (in our case number 5), multiplies it by `2` and adds `5`. <br>\n",
    "\n",
    "Lambda functions are commonly used along `.apply()` method and can be really useful. <br>\n",
    "\n",
    "### Example 4.2\n",
    "\n",
    "Imagine that the scores of students above have not been correctly recorded and we need to multiply them by 10. \n",
    "\n",
    "Use a lambda function along with `apply()` and assign it to the specific column of the dataset ('score')."
   ]
  },
  {
   "cell_type": "code",
   "execution_count": 0,
   "metadata": {
    "application/vnd.databricks.v1+cell": {
     "cellMetadata": {},
     "inputWidgets": {},
     "nuid": "e11f253b-ea79-428e-84e4-03163476668a",
     "showTitle": false,
     "title": ""
    }
   },
   "outputs": [],
   "source": [
    "students_1.score = students_1.score.apply(lambda x: x * 10)\n",
    "print(students_1)"
   ]
  },
  {
   "cell_type": "markdown",
   "metadata": {
    "application/vnd.databricks.v1+cell": {
     "cellMetadata": {},
     "inputWidgets": {},
     "nuid": "f4bf64d7-e8b6-4edf-bba1-40da72373f6c",
     "showTitle": false,
     "title": ""
    }
   },
   "source": [
    "### Task 2"
   ]
  },
  {
   "cell_type": "code",
   "execution_count": 0,
   "metadata": {
    "application/vnd.databricks.v1+cell": {
     "cellMetadata": {},
     "inputWidgets": {},
     "nuid": "2bafb45e-9d31-425f-b935-4a817663f594",
     "showTitle": false,
     "title": ""
    }
   },
   "outputs": [],
   "source": [
    "# TASK 2 >>>> Use the .apply() method on column 'country' along with lambda to make words uppercase \n",
    "#             Do not forget assign it to this column\n",
    "\n",
    "### Start your code below ###\n",
    "\n",
    "students_1['country'] = students_1['country'].apply(lambda x: x.upper())\n",
    "print(students_1)"
   ]
  },
  {
   "cell_type": "markdown",
   "metadata": {
    "application/vnd.databricks.v1+cell": {
     "cellMetadata": {},
     "inputWidgets": {},
     "nuid": "25f49bbd-16f7-4810-9e55-c7bcb71a99ce",
     "showTitle": false,
     "title": ""
    }
   },
   "source": [
    "We can use lambda functions to simplify Example 3.1 like this:"
   ]
  },
  {
   "cell_type": "code",
   "execution_count": 0,
   "metadata": {
    "application/vnd.databricks.v1+cell": {
     "cellMetadata": {},
     "inputWidgets": {},
     "nuid": "b749c0c4-39ad-4b63-bcbf-328e753da286",
     "showTitle": false,
     "title": ""
    }
   },
   "outputs": [],
   "source": [
    "# Run this code\n",
    "students = [(1, 'Robert', 30, 'Slovakia', 26),\n",
    "           (2, 'Jana', 29, 'Sweden' , 27),\n",
    "           (3, 'Martin', 31, 'Sweden', 26),\n",
    "           (4, 'Kristina', 26,'Germany' , 30),\n",
    "           (5, 'Peter', 33, 'Austria' , 22),\n",
    "           (6, 'Nikola', 25, 'USA', 23),\n",
    "           (7, 'Renato', 35, 'Brazil', 26)]\n",
    "\n",
    "students_1 = pd.DataFrame(students, columns= ['student_id', 'first_name', 'age', 'country', 'score'])"
   ]
  },
  {
   "cell_type": "code",
   "execution_count": 0,
   "metadata": {
    "application/vnd.databricks.v1+cell": {
     "cellMetadata": {},
     "inputWidgets": {},
     "nuid": "68e6646d-d955-4bdb-934b-69885cb41867",
     "showTitle": false,
     "title": ""
    }
   },
   "outputs": [],
   "source": [
    "# A Lambda function is used instead of the custom defined function \"score_func\"\n",
    "\n",
    "students_1['result'] = students_1.score.apply(lambda x: \"Pass\" if (x > 25) else \"Retake\")\n",
    "print(students_1)"
   ]
  },
  {
   "cell_type": "markdown",
   "metadata": {
    "application/vnd.databricks.v1+cell": {
     "cellMetadata": {},
     "inputWidgets": {},
     "nuid": "f2e3b1d2-87eb-4592-a257-986a0fe060e5",
     "showTitle": false,
     "title": ""
    }
   },
   "source": [
    "Did you know we can combine the `.map()` and `.filter()` methods? Since `.filter()` returns a selected iterable based on certain criteria, the output of `.filter()` can be our input for the `.map()` method.\n",
    "\n",
    "In order to avoid a negative number as an argument for `math.sqrt()` which will result in a `ValueError`, we want to filter out the negative numbers before we apply the `math.sqrt()` method."
   ]
  },
  {
   "cell_type": "code",
   "execution_count": 0,
   "metadata": {
    "application/vnd.databricks.v1+cell": {
     "cellMetadata": {},
     "inputWidgets": {},
     "nuid": "622ac092-c098-4fcb-9718-4e85b9e58ee9",
     "showTitle": false,
     "title": ""
    }
   },
   "outputs": [],
   "source": [
    "# Run this code\n",
    "list_mixed = [-1,0,2,24,-42,-5,30,99]"
   ]
  },
  {
   "cell_type": "code",
   "execution_count": 0,
   "metadata": {
    "application/vnd.databricks.v1+cell": {
     "cellMetadata": {},
     "inputWidgets": {},
     "nuid": "d0879f80-379d-48f3-a814-d9f7cc576dac",
     "showTitle": false,
     "title": ""
    }
   },
   "outputs": [],
   "source": [
    "# Run this code\n",
    "def criteria(x): \n",
    "    return x >= 0"
   ]
  },
  {
   "cell_type": "code",
   "execution_count": 0,
   "metadata": {
    "application/vnd.databricks.v1+cell": {
     "cellMetadata": {},
     "inputWidgets": {},
     "nuid": "3cbe7d0c-f6c3-4c75-b655-552de904282f",
     "showTitle": false,
     "title": ""
    }
   },
   "outputs": [],
   "source": [
    "list_sqrt = list(map(math.sqrt, filter(criteria, list_mixed)))\n",
    "print(list_sqrt)"
   ]
  },
  {
   "cell_type": "markdown",
   "metadata": {
    "application/vnd.databricks.v1+cell": {
     "cellMetadata": {},
     "inputWidgets": {},
     "nuid": "5950bb13-31a0-47cd-8444-2334275b4079",
     "showTitle": false,
     "title": ""
    }
   },
   "source": [
    "### Optional: Task 3"
   ]
  },
  {
   "cell_type": "code",
   "execution_count": 0,
   "metadata": {
    "application/vnd.databricks.v1+cell": {
     "cellMetadata": {},
     "inputWidgets": {},
     "nuid": "9805ce70-7b96-4ad4-8c7f-2e820a4b958e",
     "showTitle": false,
     "title": ""
    }
   },
   "outputs": [],
   "source": [
    "# TASK 3 >>>> With the help of .map() and .filter(),\n",
    "#             round up any number that is bigger than 5 from the list \"list_sqrt\" to the next whole digit.\n",
    "#             To round up the number, you can use round().\n",
    "#             Don't forget to write your user-defined function as your criteria to filter out the \"not desirable\" numbers\n",
    "\n",
    "### Start your code below ###\n",
    "\n",
    "def criteria(x): \n",
    "    return x >= 5\n",
    "\n",
    "list_round = list(map(round, filter(criteria, list_sqrt)))\n",
    "print(list_round)"
   ]
  },
  {
   "cell_type": "markdown",
   "metadata": {
    "application/vnd.databricks.v1+cell": {
     "cellMetadata": {},
     "inputWidgets": {},
     "nuid": "a0dde672-741a-47db-a984-4484962cde85",
     "showTitle": false,
     "title": ""
    }
   },
   "source": [
    "# References\n",
    "\n",
    "\\\\(^{1}\\\\) pandas. pandas.DataFrame.apply. [ONLINE] Available at: https://pandas.pydata.org/pandas-docs/stable/reference/api/pandas.DataFrame.apply.html#pandas-dataframe-apply. [Accessed 14 September 2020].\n",
    "\n",
    "Stackoverflow. Difference between map, applymap and apply methods in Pandas. [ONLINE] Available at: https://stackoverflow.com/questions/19798153/difference-between-map-applymap-and-apply-methods-in-pandas. [Accessed 14 September 2020].\n",
    "\n",
    "Material adapted for RBI internal purposes with full permissions from original authors. Source: https://github.com/zatkopatrik/authentic-data-science"
   ]
  }
 ],
 "metadata": {
  "application/vnd.databricks.v1+notebook": {
   "dashboards": [],
   "language": "python",
   "notebookMetadata": {},
   "notebookName": "4_Transforming_data_answers",
   "notebookOrigID": 706562957544276,
   "widgets": {}
  }
 },
 "nbformat": 4,
 "nbformat_minor": 0
}
