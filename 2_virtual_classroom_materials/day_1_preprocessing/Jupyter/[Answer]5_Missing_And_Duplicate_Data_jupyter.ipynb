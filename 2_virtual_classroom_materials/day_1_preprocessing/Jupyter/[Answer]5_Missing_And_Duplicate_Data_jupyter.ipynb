{
 "cells": [
  {
   "cell_type": "markdown",
   "metadata": {
    "application/vnd.databricks.v1+cell": {
     "cellMetadata": {
      "byteLimit": 2048000,
      "rowLimit": 10000
     },
     "inputWidgets": {},
     "nuid": "1463c0fe-6196-4a1b-8a48-e26cc32b8b3c",
     "showTitle": false,
     "title": ""
    }
   },
   "source": [
    "# 1. Missing values\n",
    "\n",
    "In the real world, data is rarely clean and homogenous and can have missing values for several reasons: data was lost or corrupted during the transmission from the database, human error, programming error. Whether the missing data will be removed, replaced or filled depends on the type of missing data.\n",
    "\n",
    "Pandas uses the floating point value\n",
    "[`NaN`](https://numpy.org/doc/stable/reference/constants.html#numpy.NaN)\n",
    "(Not a Number) to represent missing data in both numeric as well as in non-numeric datatypes. \n",
    "The built-in Python\n",
    "[`None`](https://docs.python.org/3/library/constants.html#None)\n",
    "value is also treated as NaN in object arrays.\n",
    "\n",
    "There are several functions for detecting, removing, replacing and imputing null values in a Pandas DataFrame."
   ]
  },
  {
   "cell_type": "code",
   "execution_count": 0,
   "metadata": {
    "application/vnd.databricks.v1+cell": {
     "cellMetadata": {
      "byteLimit": 2048000,
      "rowLimit": 10000
     },
     "inputWidgets": {},
     "nuid": "530cba7c-b202-4b37-8e72-bb38e68f7ee2",
     "showTitle": false,
     "title": ""
    }
   },
   "outputs": [],
   "source": [
    "# Run this code\n",
    "import pandas as pd\n",
    "import numpy as np\n",
    "import matplotlib.pyplot as plt"
   ]
  },
  {
   "cell_type": "markdown",
   "metadata": {
    "application/vnd.databricks.v1+cell": {
     "cellMetadata": {
      "byteLimit": 2048000,
      "rowLimit": 10000
     },
     "inputWidgets": {},
     "nuid": "d515f4f9-8345-4254-a7ad-d11659df039d",
     "showTitle": false,
     "title": ""
    }
   },
   "source": [
    "Let's look at what the missing data looks like in the DataFrame."
   ]
  },
  {
   "cell_type": "code",
   "execution_count": 0,
   "metadata": {
    "application/vnd.databricks.v1+cell": {
     "cellMetadata": {
      "byteLimit": 2048000,
      "rowLimit": 10000
     },
     "inputWidgets": {},
     "nuid": "13b12b5c-2d88-4bab-9ecf-5f920e8cde81",
     "showTitle": false,
     "title": ""
    }
   },
   "outputs": [],
   "source": [
    "# Run this code\n",
    "our_series = pd.Series([25, 2.5, 150, np.nan, 1.5, 'Python', 147])\n",
    "print(our_series)"
   ]
  },
  {
   "cell_type": "markdown",
   "metadata": {
    "application/vnd.databricks.v1+cell": {
     "cellMetadata": {
      "byteLimit": 2048000,
      "rowLimit": 10000
     },
     "inputWidgets": {},
     "nuid": "72278140-882f-45b4-9a40-934a0b97bbd2",
     "showTitle": false,
     "title": ""
    }
   },
   "source": [
    "# 2. Detecting missing data"
   ]
  },
  {
   "cell_type": "code",
   "execution_count": 0,
   "metadata": {
    "application/vnd.databricks.v1+cell": {
     "cellMetadata": {
      "byteLimit": 2048000,
      "rowLimit": 10000
     },
     "inputWidgets": {},
     "nuid": "eeb44e35-6c49-40bb-9f39-8ea2905b0dcb",
     "showTitle": false,
     "title": ""
    }
   },
   "outputs": [],
   "source": [
    "# Load the Titanic dataset\n",
    "data = pd.read_csv('../../../Data/titanic.csv')\n",
    "data.head(10)"
   ]
  },
  {
   "cell_type": "markdown",
   "metadata": {
    "application/vnd.databricks.v1+cell": {
     "cellMetadata": {
      "byteLimit": 2048000,
      "rowLimit": 10000
     },
     "inputWidgets": {},
     "nuid": "bfc74f9f-18b5-44bd-b7fa-672c1569f393",
     "showTitle": false,
     "title": ""
    }
   },
   "source": [
    "[`isnull().values.any()`](https://pandas.pydata.org/pandas-docs/stable/reference/api/pandas.DataFrame.isnull.html)\n",
    "\n",
    "- it is used if we only want to know if there are any missing values in the dataset"
   ]
  },
  {
   "cell_type": "code",
   "execution_count": 0,
   "metadata": {
    "application/vnd.databricks.v1+cell": {
     "cellMetadata": {
      "byteLimit": 2048000,
      "rowLimit": 10000
     },
     "inputWidgets": {},
     "nuid": "6c464306-8196-4918-9587-fc12cf6090dd",
     "showTitle": false,
     "title": ""
    }
   },
   "outputs": [],
   "source": [
    "# Check whether there are any missing values\n",
    "data.isnull().values.any()"
   ]
  },
  {
   "cell_type": "markdown",
   "metadata": {
    "application/vnd.databricks.v1+cell": {
     "cellMetadata": {
      "byteLimit": 2048000,
      "rowLimit": 10000
     },
     "inputWidgets": {},
     "nuid": "c94af4a6-796d-4000-aef5-8ea7019bb6df",
     "showTitle": false,
     "title": ""
    }
   },
   "source": [
    "[`isnull()`](https://pandas.pydata.org/pandas-docs/stable/reference/api/pandas.DataFrame.isnull.html)\n",
    "- it is used to detect missing values for an array-like object\n",
    "- returns a boolean same-sized object indicating if the values are missing\n",
    "- it is an alias of [`isna()`](https://pandas.pydata.org/pandas-docs/stable/reference/api/pandas.DataFrame.isna.html)"
   ]
  },
  {
   "cell_type": "code",
   "execution_count": 0,
   "metadata": {
    "application/vnd.databricks.v1+cell": {
     "cellMetadata": {
      "byteLimit": 2048000,
      "rowLimit": 10000
     },
     "inputWidgets": {},
     "nuid": "5712799e-5484-4d7a-9837-caa7d304e9b6",
     "showTitle": false,
     "title": ""
    }
   },
   "outputs": [],
   "source": [
    "# Apply isnull() on the dataset 'data'\n",
    "data.isnull()"
   ]
  },
  {
   "cell_type": "markdown",
   "metadata": {
    "application/vnd.databricks.v1+cell": {
     "cellMetadata": {
      "byteLimit": 2048000,
      "rowLimit": 10000
     },
     "inputWidgets": {},
     "nuid": "3a70a1ab-d2cb-4465-add2-8ff487af3d0f",
     "showTitle": false,
     "title": ""
    }
   },
   "source": [
    "[`notnull()`](https://pandas.pydata.org/pandas-docs/stable/reference/api/pandas.DataFrame.notnull.html)\n",
    "\n",
    "- it is used to detect existing (non-missing) values\n",
    "- it is an alias of [`notna()`](https://pandas.pydata.org/pandas-docs/stable/reference/api/pandas.DataFrame.notna.html)"
   ]
  },
  {
   "cell_type": "code",
   "execution_count": 0,
   "metadata": {
    "application/vnd.databricks.v1+cell": {
     "cellMetadata": {
      "byteLimit": 2048000,
      "rowLimit": 10000
     },
     "inputWidgets": {},
     "nuid": "7bb98226-9cb9-4f52-ad2e-fd325c4c9f3c",
     "showTitle": false,
     "title": ""
    }
   },
   "outputs": [],
   "source": [
    "# TASK 1 >>>> Check non-missing values in the dataset using .notnull()\n",
    "\n",
    "data.notnull()"
   ]
  },
  {
   "cell_type": "markdown",
   "metadata": {
    "application/vnd.databricks.v1+cell": {
     "cellMetadata": {
      "byteLimit": 2048000,
      "rowLimit": 10000
     },
     "inputWidgets": {},
     "nuid": "afa4cd11-2670-468d-a5ab-fa47b4cd4e78",
     "showTitle": false,
     "title": ""
    }
   },
   "source": [
    "[`isnull().sum()`](https://pandas.pydata.org/pandas-docs/stable/reference/api/pandas.DataFrame.isnull.html)\n",
    "\n",
    "- we can use function chaining to check the total number of missing values for each column in the DataFrame"
   ]
  },
  {
   "cell_type": "code",
   "execution_count": 0,
   "metadata": {
    "application/vnd.databricks.v1+cell": {
     "cellMetadata": {
      "byteLimit": 2048000,
      "rowLimit": 10000
     },
     "inputWidgets": {},
     "nuid": "b4aacf8b-39b5-4fed-8cc6-d6d6a826d273",
     "showTitle": false,
     "title": ""
    }
   },
   "outputs": [],
   "source": [
    "# Count the total number of missing values in the column using .sum()\n",
    "data.isnull().sum()"
   ]
  },
  {
   "cell_type": "markdown",
   "metadata": {
    "application/vnd.databricks.v1+cell": {
     "cellMetadata": {
      "byteLimit": 2048000,
      "rowLimit": 10000
     },
     "inputWidgets": {},
     "nuid": "48efd362-0583-48fb-8607-cdbfbc8c5ef2",
     "showTitle": false,
     "title": ""
    }
   },
   "source": [
    "As we can see, there are 177 missing values in the column 'Age', then 687 missing values in the column 'Cabin' and 2 missing values in the 'Embarked' column."
   ]
  },
  {
   "cell_type": "markdown",
   "metadata": {
    "application/vnd.databricks.v1+cell": {
     "cellMetadata": {
      "byteLimit": 2048000,
      "rowLimit": 10000
     },
     "inputWidgets": {},
     "nuid": "84fa9b83-a596-4fd1-b8e8-30aa35f61aa2",
     "showTitle": false,
     "title": ""
    }
   },
   "source": [
    "# 3. Basic visualization of missing data"
   ]
  },
  {
   "cell_type": "code",
   "execution_count": 0,
   "metadata": {
    "application/vnd.databricks.v1+cell": {
     "cellMetadata": {
      "byteLimit": 2048000,
      "rowLimit": 10000
     },
     "inputWidgets": {},
     "nuid": "5c7d9979-7bdf-4118-8f12-876a37bc8932",
     "showTitle": false,
     "title": ""
    }
   },
   "outputs": [],
   "source": [
    "# Run this code\n",
    "plt.style.use('default')\n",
    "missing_values = data.isnull().sum() / len(data) * 100\n",
    "plt.xticks(np.arange(len(missing_values)), missing_values.index,rotation='vertical')\n",
    "plt.ylabel('Percentage of missing values')\n",
    "ax = plt.bar(np.arange(len(missing_values)), missing_values, color = 'skyblue');"
   ]
  },
  {
   "cell_type": "markdown",
   "metadata": {
    "application/vnd.databricks.v1+cell": {
     "cellMetadata": {
      "byteLimit": 2048000,
      "rowLimit": 10000
     },
     "inputWidgets": {},
     "nuid": "855f9b94-54f4-4223-98be-253d2340eb9a",
     "showTitle": false,
     "title": ""
    }
   },
   "source": [
    "# 4. Removing missing data\n",
    "\n",
    "In some cases, it is appropriate to just drop the rows with missing data, in other cases replacing missing data would be a better options. \n",
    "\n",
    "[`dropna()`](https://pandas.pydata.org/pandas-docs/stable/reference/api/pandas.DataFrame.dropna.html) method\n",
    "\n",
    "- to remove rows or columns from the DataFrame which contain missing values\n",
    "- by default drops any row that contain a missing value\n",
    "\n",
    "Arguments:\n",
    "\n",
    "`axis = 0` to drop rows\n",
    "\n",
    "`axis = 1` to drop columns\n",
    "\n",
    "`how = 'all'` to drop if all the values are missing\n",
    "\n",
    "`how = 'any'` to drop if any missing value is present\n",
    "\n",
    "`tresh = ` treshold for missing values\n",
    "\n",
    "`subset = ['column']` to remove rows in which values are missing or selected column or columns\n",
    "\n",
    "**If we want to make changes in the original dataset** (for example remove a particular column), we have to specify `inplace = True` within the method. Otherwise the copy of the dataset will be returned and the change will not be performed in the original dataset."
   ]
  },
  {
   "cell_type": "code",
   "execution_count": 0,
   "metadata": {
    "application/vnd.databricks.v1+cell": {
     "cellMetadata": {
      "byteLimit": 2048000,
      "rowLimit": 10000
     },
     "inputWidgets": {},
     "nuid": "fc0cc988-026b-44cb-994e-2ae046863545",
     "showTitle": false,
     "title": ""
    }
   },
   "outputs": [],
   "source": [
    "# Print rows with missing data in the column 'Embarked'\n",
    "\n",
    "missing_embarked = data[data.Embarked.isnull()]\n",
    "print(missing_embarked)"
   ]
  },
  {
   "cell_type": "code",
   "execution_count": 0,
   "metadata": {
    "application/vnd.databricks.v1+cell": {
     "cellMetadata": {
      "byteLimit": 2048000,
      "rowLimit": 10000
     },
     "inputWidgets": {},
     "nuid": "448ab77b-4123-4889-bf15-14537a85a852",
     "showTitle": false,
     "title": ""
    }
   },
   "outputs": [],
   "source": [
    "# Drop missing values in the column 'Embarked' \n",
    "# Specify this column using subset\n",
    "# Set inplace = True\n",
    "\n",
    "data.dropna(subset = ['Embarked'], inplace = True)"
   ]
  },
  {
   "cell_type": "code",
   "execution_count": 0,
   "metadata": {
    "application/vnd.databricks.v1+cell": {
     "cellMetadata": {
      "byteLimit": 2048000,
      "rowLimit": 10000
     },
     "inputWidgets": {},
     "nuid": "65bcc1e9-153b-46f6-b3d0-5b26eb40b517",
     "showTitle": false,
     "title": ""
    }
   },
   "outputs": [],
   "source": [
    "# Check whether the rows with missing values have been removed\n",
    "data.Embarked.isna().sum()"
   ]
  },
  {
   "cell_type": "code",
   "execution_count": 0,
   "metadata": {
    "application/vnd.databricks.v1+cell": {
     "cellMetadata": {
      "byteLimit": 2048000,
      "rowLimit": 10000
     },
     "inputWidgets": {},
     "nuid": "06b5afc1-73a2-4134-8f12-1a01e0ae1e55",
     "showTitle": false,
     "title": ""
    }
   },
   "outputs": [],
   "source": [
    "# Make a copy of the DataFrame\n",
    "data_copy = data.copy()"
   ]
  },
  {
   "cell_type": "code",
   "execution_count": 0,
   "metadata": {
    "application/vnd.databricks.v1+cell": {
     "cellMetadata": {
      "byteLimit": 2048000,
      "rowLimit": 10000
     },
     "inputWidgets": {},
     "nuid": "6fa4c17d-1180-4ab4-bcbb-185d0c892dbe",
     "showTitle": false,
     "title": ""
    }
   },
   "outputs": [],
   "source": [
    "# Drop those rows that contain any missing values\n",
    "# Set inplace = True\n",
    "\n",
    "data_copy.dropna(how = 'any', inplace = True)"
   ]
  },
  {
   "cell_type": "code",
   "execution_count": 0,
   "metadata": {
    "application/vnd.databricks.v1+cell": {
     "cellMetadata": {
      "byteLimit": 2048000,
      "rowLimit": 10000
     },
     "inputWidgets": {},
     "nuid": "332e08a5-65b0-48b6-84ce-21e1f4d86417",
     "showTitle": false,
     "title": ""
    }
   },
   "outputs": [],
   "source": [
    "data_copy"
   ]
  },
  {
   "cell_type": "code",
   "execution_count": 0,
   "metadata": {
    "application/vnd.databricks.v1+cell": {
     "cellMetadata": {
      "byteLimit": 2048000,
      "rowLimit": 10000
     },
     "inputWidgets": {},
     "nuid": "ef86abce-7fe9-4bcc-b77b-4832788d4d22",
     "showTitle": false,
     "title": ""
    }
   },
   "outputs": [],
   "source": [
    "# Check whether the rows have been removed correctly\n",
    "\n",
    "data_copy.isna().sum()"
   ]
  },
  {
   "cell_type": "code",
   "execution_count": 0,
   "metadata": {
    "application/vnd.databricks.v1+cell": {
     "cellMetadata": {
      "byteLimit": 2048000,
      "rowLimit": 10000
     },
     "inputWidgets": {},
     "nuid": "73c4b57c-b26b-48c3-af64-d1ecc0f506d6",
     "showTitle": false,
     "title": ""
    }
   },
   "outputs": [],
   "source": [
    "# Run this code\n",
    "dict = {'product': ['apple', np.nan,'cucumber','bread','milk', 'butter', 'sugar'],\n",
    "        'product_code': [154,153,225,np.nan,56,15, np.nan],\n",
    "        'price': [0.89, 1.50, 0.65, 1.20, 0.85, np.nan, 1.20],\n",
    "        'expiration_date': [np.nan, np.nan, np.nan, np.nan, np.nan, np.nan, np.nan]\n",
    "        }\n",
    "\n",
    "df = pd.DataFrame (dict, columns = ['product','product_code','price','expiration_date'])\n",
    "print(df)"
   ]
  },
  {
   "cell_type": "code",
   "execution_count": 0,
   "metadata": {
    "application/vnd.databricks.v1+cell": {
     "cellMetadata": {
      "byteLimit": 2048000,
      "rowLimit": 10000
     },
     "inputWidgets": {},
     "nuid": "79fe20bc-a86d-469c-a871-aa5d5be0ecb5",
     "showTitle": false,
     "title": ""
    }
   },
   "outputs": [],
   "source": [
    "# Drop the last column that contain only missing values\n",
    "# Set inplace = True\n",
    "\n",
    "df.dropna(how = 'all', axis = 1, inplace = True)"
   ]
  },
  {
   "cell_type": "code",
   "execution_count": 0,
   "metadata": {
    "application/vnd.databricks.v1+cell": {
     "cellMetadata": {
      "byteLimit": 2048000,
      "rowLimit": 10000
     },
     "inputWidgets": {},
     "nuid": "c1dca22c-8391-4d8c-98b5-9af8d15e2be6",
     "showTitle": false,
     "title": ""
    }
   },
   "outputs": [],
   "source": [
    "# Display the DataFrame to check the change\n",
    "\n",
    "df"
   ]
  },
  {
   "cell_type": "code",
   "execution_count": 0,
   "metadata": {
    "application/vnd.databricks.v1+cell": {
     "cellMetadata": {
      "byteLimit": 2048000,
      "rowLimit": 10000
     },
     "inputWidgets": {},
     "nuid": "fe7f1f11-0463-471e-8521-3c7b25df8668",
     "showTitle": false,
     "title": ""
    }
   },
   "outputs": [],
   "source": [
    "# Run this code\n",
    "\n",
    "df_copy = df.copy()\n",
    "print(df_copy)"
   ]
  },
  {
   "cell_type": "code",
   "execution_count": 0,
   "metadata": {
    "application/vnd.databricks.v1+cell": {
     "cellMetadata": {
      "byteLimit": 2048000,
      "rowLimit": 10000
     },
     "inputWidgets": {},
     "nuid": "fe68836a-f352-4cdb-aca3-eaf421ca230c",
     "showTitle": false,
     "title": ""
    }
   },
   "outputs": [],
   "source": [
    "# TASK 2 >>>> Drop rows from df_copy that contain any missing values \n",
    "#             Set inplace = True\n",
    "\n",
    "df_copy.dropna(how = 'any',inplace = True)\n",
    "print(df_copy)"
   ]
  },
  {
   "cell_type": "markdown",
   "metadata": {
    "application/vnd.databricks.v1+cell": {
     "cellMetadata": {
      "byteLimit": 2048000,
      "rowLimit": 10000
     },
     "inputWidgets": {},
     "nuid": "ae77e994-d495-4fbb-8afa-7a73cd8d49b3",
     "showTitle": false,
     "title": ""
    }
   },
   "source": [
    "# 5. Filling in missing data\n",
    "\n",
    "[`fillna()`](https://pandas.pydata.org/pandas-docs/stable/reference/api/pandas.DataFrame.fillna.html) method\n",
    "\n",
    "- this method fill in missing data (can be used on a particular column as well)\n",
    "\n",
    "Arguments:\n",
    "\n",
    "- we can specify **value** (any number or summary statistics such as mean or median) \n",
    "\n",
    "- we can use **interpolation method**: \n",
    "\n",
    "`ffill` : uses previous valid values to fill gap\n",
    "\n",
    "`bfill` : uses next valid value to fill gap\n",
    "\n",
    "`limit` : for ffill and bfill - maximum number of consecutive periods to fill\n",
    "\n",
    "`axis` : axis to fill on, default axis = 0 \n",
    "\n",
    "`inplace = True`"
   ]
  },
  {
   "cell_type": "code",
   "execution_count": 0,
   "metadata": {
    "application/vnd.databricks.v1+cell": {
     "cellMetadata": {
      "byteLimit": 2048000,
      "rowLimit": 10000
     },
     "inputWidgets": {},
     "nuid": "b2857034-6009-4c0f-adee-31b49e4c9f57",
     "showTitle": false,
     "title": ""
    }
   },
   "outputs": [],
   "source": [
    "# Fill in missing values in the 'price' column with the value 0\n",
    "# Set inplace = True\n",
    "\n",
    "df.price.fillna(0, inplace = True)\n",
    "print(df)"
   ]
  },
  {
   "cell_type": "code",
   "execution_count": 0,
   "metadata": {
    "application/vnd.databricks.v1+cell": {
     "cellMetadata": {
      "byteLimit": 2048000,
      "rowLimit": 10000
     },
     "inputWidgets": {},
     "nuid": "5e3a2f87-efe9-4f35-bdf0-e497258a0db7",
     "showTitle": false,
     "title": ""
    }
   },
   "outputs": [],
   "source": [
    "# Run this code\n",
    "dictionary = {'column_a': [15, 16, 82, 25],\n",
    "              'column_b': [np.nan, np.nan, 54, 8],\n",
    "              'column_c': [np.nan, 15, 15, 25],\n",
    "              'column_d': [85, 90, np.nan, np.nan]\n",
    "        }\n",
    "\n",
    "dataframe_1 = pd.DataFrame (dictionary, columns = ['column_a','column_b','column_c','column_d'])\n",
    "print(dataframe_1)"
   ]
  },
  {
   "cell_type": "code",
   "execution_count": 0,
   "metadata": {
    "application/vnd.databricks.v1+cell": {
     "cellMetadata": {
      "byteLimit": 2048000,
      "rowLimit": 10000
     },
     "inputWidgets": {},
     "nuid": "119f7bd9-c5a3-452c-a732-800850fc8f0c",
     "showTitle": false,
     "title": ""
    }
   },
   "outputs": [],
   "source": [
    "# TASK 3 >>>> Fill in missing the values in column 'column_c' of dataframe_1 with the value 10 \n",
    "#             Set inplace = True\n",
    "\n",
    "dataframe_1.column_c.fillna(10, inplace = True)\n",
    "print(dataframe_1)"
   ]
  },
  {
   "cell_type": "markdown",
   "metadata": {
    "application/vnd.databricks.v1+cell": {
     "cellMetadata": {
      "byteLimit": 2048000,
      "rowLimit": 10000
     },
     "inputWidgets": {},
     "nuid": "4a282e80-c989-4850-8a3c-9a179c102b46",
     "showTitle": false,
     "title": ""
    }
   },
   "source": [
    "# 6. More Complex Methods\n",
    "\n",
    "We will go through the theory of these more complex methods later as they relate to Machine Learning."
   ]
  },
  {
   "cell_type": "code",
   "execution_count": 0,
   "metadata": {
    "application/vnd.databricks.v1+cell": {
     "cellMetadata": {
      "byteLimit": 2048000,
      "rowLimit": 10000
     },
     "inputWidgets": {},
     "nuid": "90ee0707-d683-4ad4-addb-8ee4c339a88b",
     "showTitle": false,
     "title": ""
    }
   },
   "outputs": [],
   "source": [
    "# Run this code\n",
    "dict = {'column_1': [15, 16, 82, 25],\n",
    "        'column_2': [np.nan, np.nan, 54, 8],\n",
    "        'column_3': [np.nan, 15, 15, 25],\n",
    "        'column_4': [85, 90, np.nan, np.nan]\n",
    "        }\n",
    "\n",
    "our_df = pd.DataFrame (dict, columns = ['column_1','column_2','column_3','column_4'])\n",
    "print(our_df)"
   ]
  },
  {
   "cell_type": "code",
   "execution_count": 0,
   "metadata": {
    "application/vnd.databricks.v1+cell": {
     "cellMetadata": {
      "byteLimit": 2048000,
      "rowLimit": 10000
     },
     "inputWidgets": {},
     "nuid": "f05864a2-3501-463f-b80a-909697800df9",
     "showTitle": false,
     "title": ""
    }
   },
   "outputs": [],
   "source": [
    "# Fill in missing values using 'method = bfill' which stands for 'backward fill'\n",
    "# Set inplace = True\n",
    "\n",
    "our_df.fillna(axis = 0, method = 'bfill', inplace = True)\n",
    "print(our_df)"
   ]
  },
  {
   "cell_type": "markdown",
   "metadata": {
    "application/vnd.databricks.v1+cell": {
     "cellMetadata": {
      "byteLimit": 2048000,
      "rowLimit": 10000
     },
     "inputWidgets": {},
     "nuid": "62d2a565-a1f1-488f-aa45-11747754b4a4",
     "showTitle": false,
     "title": ""
    }
   },
   "source": [
    "The second option is `method = 'ffill'` which stand for forward fill."
   ]
  },
  {
   "cell_type": "code",
   "execution_count": 0,
   "metadata": {
    "application/vnd.databricks.v1+cell": {
     "cellMetadata": {
      "byteLimit": 2048000,
      "rowLimit": 10000
     },
     "inputWidgets": {},
     "nuid": "f5d0899d-ab82-40bb-9584-d4d511be5296",
     "showTitle": false,
     "title": ""
    }
   },
   "outputs": [],
   "source": [
    "data_copy = data.copy()\n",
    "data_copy"
   ]
  },
  {
   "cell_type": "code",
   "execution_count": 0,
   "metadata": {
    "application/vnd.databricks.v1+cell": {
     "cellMetadata": {
      "byteLimit": 2048000,
      "rowLimit": 10000
     },
     "inputWidgets": {},
     "nuid": "5af9004b-d6b6-4b29-ab1d-91ac25786f0b",
     "showTitle": false,
     "title": ""
    }
   },
   "outputs": [],
   "source": [
    "# Fill in missing data of the column 'Age' in the DataFrame data with the average age\n",
    "# Set inplace = True\n",
    "\n",
    "average_age = int(data_copy.Age.mean())\n",
    "data_copy.Age.fillna(average_age, inplace = True)"
   ]
  },
  {
   "cell_type": "code",
   "execution_count": 0,
   "metadata": {
    "application/vnd.databricks.v1+cell": {
     "cellMetadata": {
      "byteLimit": 2048000,
      "rowLimit": 10000
     },
     "inputWidgets": {},
     "nuid": "458dc126-0a40-4232-8cce-7326c62be6eb",
     "showTitle": false,
     "title": ""
    }
   },
   "outputs": [],
   "source": [
    "data_copy"
   ]
  },
  {
   "cell_type": "code",
   "execution_count": 0,
   "metadata": {
    "application/vnd.databricks.v1+cell": {
     "cellMetadata": {
      "byteLimit": 2048000,
      "rowLimit": 10000
     },
     "inputWidgets": {},
     "nuid": "e3ba1ac4-c5a2-4250-bdc2-5289d5adeea1",
     "showTitle": false,
     "title": ""
    }
   },
   "outputs": [],
   "source": [
    "# Check whether missing values have been removed from the column 'Age'\n",
    "\n",
    "data_copy.Age.isnull().sum()"
   ]
  },
  {
   "cell_type": "markdown",
   "metadata": {
    "application/vnd.databricks.v1+cell": {
     "cellMetadata": {
      "byteLimit": 2048000,
      "rowLimit": 10000
     },
     "inputWidgets": {},
     "nuid": "eb5999a1-e00c-448c-a6fb-eb042120d2db",
     "showTitle": false,
     "title": ""
    }
   },
   "source": [
    "# 7. Duplicate data\n",
    "\n",
    "Duplicate rows in a dataframe can be detected by using the\n",
    "[``duplicated()``](https://pandas.pydata.org/pandas-docs/stable/reference/api/pandas.DataFrame.duplicated.html)\n",
    "method.\n",
    "A method to conveniently remove the duplicates is\n",
    "[``drop_duplicates()``](https://pandas.pydata.org/pandas-docs/stable/reference/api/pandas.DataFrame.drop_duplicates.html)."
   ]
  },
  {
   "cell_type": "code",
   "execution_count": 0,
   "metadata": {
    "application/vnd.databricks.v1+cell": {
     "cellMetadata": {
      "byteLimit": 2048000,
      "rowLimit": 10000
     },
     "inputWidgets": {},
     "nuid": "cb5392c7-479a-42a7-ac6d-a826e9517977",
     "showTitle": false,
     "title": ""
    }
   },
   "outputs": [],
   "source": [
    "# Run this code\n",
    "actors = [('Michone', 30, 'USA'),\n",
    "            ('Bob', 28, 'New York'),\n",
    "            ('Rick', 30, 'New York'),\n",
    "            ('Carol', 40, 'Paris'),\n",
    "            ('Daryl', 35, 'London'),\n",
    "            ('Daryl', 35, 'London'),\n",
    "            ('Michone', 45, 'London'),\n",
    "            ('Morgan', 38, 'Sweden')\n",
    "            ]\n",
    "df_2 = pd.DataFrame(actors, columns=['first_name', 'age', 'city'])"
   ]
  },
  {
   "cell_type": "code",
   "execution_count": 0,
   "metadata": {
    "application/vnd.databricks.v1+cell": {
     "cellMetadata": {
      "byteLimit": 2048000,
      "rowLimit": 10000
     },
     "inputWidgets": {},
     "nuid": "97e254ad-9947-4d9b-9f27-40a623897866",
     "showTitle": false,
     "title": ""
    }
   },
   "outputs": [],
   "source": [
    "# Find duplicated values using .duplicated() method\n",
    "\n",
    "df_2.duplicated().sum()"
   ]
  },
  {
   "cell_type": "code",
   "execution_count": 0,
   "metadata": {
    "application/vnd.databricks.v1+cell": {
     "cellMetadata": {
      "byteLimit": 2048000,
      "rowLimit": 10000
     },
     "inputWidgets": {},
     "nuid": "9e9cb615-7767-4581-975c-646b28b058b7",
     "showTitle": false,
     "title": ""
    }
   },
   "outputs": [],
   "source": [
    "# Remove duplicate rows\n",
    "# Set inplace = True\n",
    "\n",
    "df_2.drop_duplicates(inplace=True)\n",
    "print(df_2)"
   ]
  },
  {
   "cell_type": "markdown",
   "metadata": {
    "application/vnd.databricks.v1+cell": {
     "cellMetadata": {
      "byteLimit": 2048000,
      "rowLimit": 10000
     },
     "inputWidgets": {},
     "nuid": "681624d2-b5db-4245-a8c2-d77fc0c264d8",
     "showTitle": false,
     "title": ""
    }
   },
   "source": [
    "# Appendix\n",
    "\n",
    "Data source: https://www.kaggle.com/hesh97/titanicdataset-traincsv\n",
    "\n",
    "License: CC0: Public Domain\n",
    "\n",
    "# References\n",
    "\n",
    "Material adapted for RBI internal purposes with full permissions from original authors."
   ]
  }
 ],
 "metadata": {
  "application/vnd.databricks.v1+notebook": {
   "dashboards": [],
   "language": "python",
   "notebookMetadata": {
    "pythonIndentUnit": 2
   },
   "notebookName": "[Answer]5_Missing_And_Duplicate_Data_jupyter",
   "widgets": {}
  }
 },
 "nbformat": 4,
 "nbformat_minor": 0
}
