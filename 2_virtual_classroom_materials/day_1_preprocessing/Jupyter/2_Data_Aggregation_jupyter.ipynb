{
 "cells": [
  {
   "cell_type": "markdown",
   "metadata": {
    "application/vnd.databricks.v1+cell": {
     "cellMetadata": {
      "byteLimit": 2048000,
      "rowLimit": 10000
     },
     "inputWidgets": {},
     "nuid": "bece1d39-5ce6-47cd-86d8-4d662c56227f",
     "showTitle": false,
     "title": ""
    }
   },
   "source": [
    "# 0. Importing data (DO NOT ALTER)"
   ]
  },
  {
   "cell_type": "code",
   "execution_count": 0,
   "metadata": {
    "application/vnd.databricks.v1+cell": {
     "cellMetadata": {
      "byteLimit": 2048000,
      "rowLimit": 10000
     },
     "inputWidgets": {},
     "nuid": "06e3e698-3c0f-4387-ae8e-b4213f4177be",
     "showTitle": false,
     "title": ""
    }
   },
   "outputs": [],
   "source": [
    "import pandas as pd\n",
    "import numpy as np"
   ]
  },
  {
   "cell_type": "code",
   "execution_count": 0,
   "metadata": {
    "application/vnd.databricks.v1+cell": {
     "cellMetadata": {
      "byteLimit": 2048000,
      "rowLimit": 10000
     },
     "inputWidgets": {},
     "nuid": "9b70716f-7fee-4aa4-93f5-f2f09e522935",
     "showTitle": false,
     "title": ""
    }
   },
   "outputs": [],
   "source": [
    "# Load the dataset\n",
    "data = pd.read_csv('../../../Data/avocado.csv')"
   ]
  },
  {
   "cell_type": "code",
   "execution_count": 0,
   "metadata": {
    "application/vnd.databricks.v1+cell": {
     "cellMetadata": {
      "byteLimit": 2048000,
      "rowLimit": 10000
     },
     "inputWidgets": {},
     "nuid": "13860855-fb2c-408a-88aa-1137761c5836",
     "showTitle": false,
     "title": ""
    }
   },
   "outputs": [],
   "source": [
    "# Preview the data\n",
    "data"
   ]
  },
  {
   "cell_type": "markdown",
   "metadata": {
    "application/vnd.databricks.v1+cell": {
     "cellMetadata": {
      "byteLimit": 2048000,
      "rowLimit": 10000
     },
     "inputWidgets": {},
     "nuid": "f4d211b0-0bc4-464b-8e96-55d73abd1d6c",
     "showTitle": false,
     "title": ""
    }
   },
   "source": [
    "# 1. 1-D aggregations on Pandas Series\n",
    "\n",
    "Let's recall computing aggregations such as `sum()`, `mean()`, `median()`, `max()` and `min()` using Pandas Series."
   ]
  },
  {
   "cell_type": "code",
   "execution_count": 0,
   "metadata": {
    "application/vnd.databricks.v1+cell": {
     "cellMetadata": {
      "byteLimit": 2048000,
      "rowLimit": 10000
     },
     "inputWidgets": {},
     "nuid": "3bb4edfb-37e4-4afd-8b88-418fa812ffd1",
     "showTitle": false,
     "title": ""
    }
   },
   "outputs": [],
   "source": [
    "# Create Pandas Series using values: [8.45, 3.15, 1.25, 10.55, 2.40]\n",
    "\n",
    "our_series = pd.Series([8.45, 3.15, 1.25, 10.55, 2.40])"
   ]
  },
  {
   "cell_type": "code",
   "execution_count": 0,
   "metadata": {
    "application/vnd.databricks.v1+cell": {
     "cellMetadata": {
      "byteLimit": 2048000,
      "rowLimit": 10000
     },
     "inputWidgets": {},
     "nuid": "642e7144-b245-4235-9903-7dfe199be798",
     "showTitle": false,
     "title": ""
    }
   },
   "outputs": [],
   "source": [
    "# TASK 1 >>>> Print computing aggregations \n",
    "print(f'The rounded count of the values is: {our_series.sum().round()}')\n",
    "\n",
    "# Fill in the empy brackets {} (returns error if not filled)\n",
    "print(f'The average value is: {}')\n",
    "print(f'The median value is: {}')\n",
    "print(f'The maximum value is: {}')\n",
    "print(f'The minimum value is: {}')"
   ]
  },
  {
   "cell_type": "markdown",
   "metadata": {
    "application/vnd.databricks.v1+cell": {
     "cellMetadata": {
      "byteLimit": 2048000,
      "rowLimit": 10000
     },
     "inputWidgets": {},
     "nuid": "5ed6f373-e461-48ea-b591-1a977855d350",
     "showTitle": false,
     "title": ""
    }
   },
   "source": [
    "# 2. 2-D aggregations on Pandas DataFrame\n",
    "\n",
    "To understand the true power of `groupby()` we can take a look at what is going on under the hood.  \n",
    "Let's say we want to compute the average price of avocados based on their type: conventional and organic. \n",
    "\n",
    "Firstly, we have to split our dataset into 2 different groups based on the type:"
   ]
  },
  {
   "cell_type": "code",
   "execution_count": 0,
   "metadata": {
    "application/vnd.databricks.v1+cell": {
     "cellMetadata": {
      "byteLimit": 2048000,
      "rowLimit": 10000
     },
     "inputWidgets": {},
     "nuid": "5b5487ea-a093-49e6-9d5c-571c932fa98b",
     "showTitle": false,
     "title": ""
    }
   },
   "outputs": [],
   "source": [
    "# Filter only those records that are organic type and assign it to variable filter_o\n",
    "filter_o = data['type'] == 'organic'"
   ]
  },
  {
   "cell_type": "code",
   "execution_count": 0,
   "metadata": {
    "application/vnd.databricks.v1+cell": {
     "cellMetadata": {
      "byteLimit": 2048000,
      "rowLimit": 10000
     },
     "inputWidgets": {},
     "nuid": "ffc41e50-8113-4421-8fbf-afc3e15a60ca",
     "showTitle": false,
     "title": ""
    }
   },
   "outputs": [],
   "source": [
    "# Use .loc[] on data to access all columns based on our condition filter_o and assign it to the variable data_organic\n",
    "data_organic = data.loc[filter_o]\n",
    "data_organic"
   ]
  },
  {
   "cell_type": "markdown",
   "metadata": {
    "application/vnd.databricks.v1+cell": {
     "cellMetadata": {
      "byteLimit": 2048000,
      "rowLimit": 10000
     },
     "inputWidgets": {},
     "nuid": "e65fc22b-bf6c-425f-ade2-62693dbdf717",
     "showTitle": false,
     "title": ""
    }
   },
   "source": [
    "See that only organic type remain."
   ]
  },
  {
   "cell_type": "code",
   "execution_count": 0,
   "metadata": {
    "application/vnd.databricks.v1+cell": {
     "cellMetadata": {
      "byteLimit": 2048000,
      "rowLimit": 10000
     },
     "inputWidgets": {},
     "nuid": "348b2f92-429d-404f-8b5b-d5b9b85710bf",
     "showTitle": false,
     "title": ""
    }
   },
   "outputs": [],
   "source": [
    "# TASK 2.1 >>>> Filter only those records that are of type conventional and assign it to the variable filter_c"
   ]
  },
  {
   "cell_type": "code",
   "execution_count": 0,
   "metadata": {
    "application/vnd.databricks.v1+cell": {
     "cellMetadata": {
      "byteLimit": 2048000,
      "rowLimit": 10000
     },
     "inputWidgets": {},
     "nuid": "db2f8be7-da4c-4590-b53a-86e090d9bf02",
     "showTitle": false,
     "title": ""
    }
   },
   "outputs": [],
   "source": [
    "# TASK 2.2 >>>> Use .loc[] on data to access all columns based on our condition filter_c and assign it to the variable data_conventional"
   ]
  },
  {
   "cell_type": "markdown",
   "metadata": {
    "application/vnd.databricks.v1+cell": {
     "cellMetadata": {
      "byteLimit": 2048000,
      "rowLimit": 10000
     },
     "inputWidgets": {},
     "nuid": "c8e7c187-b718-4216-956b-60f975d881b1",
     "showTitle": false,
     "title": ""
    }
   },
   "source": [
    "Now compute the average price for both types of avocados using the `.mean()` method applied to the column `AveragePrice`."
   ]
  },
  {
   "cell_type": "code",
   "execution_count": 0,
   "metadata": {
    "application/vnd.databricks.v1+cell": {
     "cellMetadata": {
      "byteLimit": 2048000,
      "rowLimit": 10000
     },
     "inputWidgets": {},
     "nuid": "c11b07f1-7057-406b-a2dd-cfb5dbdfbbdb",
     "showTitle": false,
     "title": ""
    }
   },
   "outputs": [],
   "source": [
    "# Compute the average price for filtered organic avocados and assign it to the variable avg_organic\n",
    "avg_organic = data_organic['AveragePrice'].mean()"
   ]
  },
  {
   "cell_type": "code",
   "execution_count": 0,
   "metadata": {
    "application/vnd.databricks.v1+cell": {
     "cellMetadata": {
      "byteLimit": 2048000,
      "rowLimit": 10000
     },
     "inputWidgets": {},
     "nuid": "2a28fb60-eb54-4f50-bd7a-49ed39c45328",
     "showTitle": false,
     "title": ""
    }
   },
   "outputs": [],
   "source": [
    "# TASK 3 >>>> Compute the average price for filtered conventional avocados and assign it to the variable avg_conventional"
   ]
  },
  {
   "cell_type": "code",
   "execution_count": 0,
   "metadata": {
    "application/vnd.databricks.v1+cell": {
     "cellMetadata": {
      "byteLimit": 2048000,
      "rowLimit": 10000
     },
     "inputWidgets": {},
     "nuid": "e458b90d-4347-4f8e-b6f5-45840d850c8e",
     "showTitle": false,
     "title": ""
    }
   },
   "outputs": [],
   "source": [
    "# Print the outputs and the type of the outputs\n",
    "print(avg_organic, avg_conventional)\n",
    "print('\\n')\n",
    "print(type(avg_organic), type(avg_conventional))"
   ]
  },
  {
   "cell_type": "markdown",
   "metadata": {
    "application/vnd.databricks.v1+cell": {
     "cellMetadata": {
      "byteLimit": 2048000,
      "rowLimit": 10000
     },
     "inputWidgets": {},
     "nuid": "4feb110a-adf8-497e-93ff-b3b73f328b64",
     "showTitle": false,
     "title": ""
    }
   },
   "source": [
    "Lastly, combine these results into data structure using `Pandas`  `.DataFrame()`. Create a dictionary, where the first key name will be 'Type' and its values 'organic', 'conventional'. The second key name will be 'Average_price' and its values will be our created `avg_organic` and `avg_conventional`, respectively."
   ]
  },
  {
   "cell_type": "code",
   "execution_count": 0,
   "metadata": {
    "application/vnd.databricks.v1+cell": {
     "cellMetadata": {
      "byteLimit": 2048000,
      "rowLimit": 10000
     },
     "inputWidgets": {},
     "nuid": "b825b03f-c204-41d7-bfce-a9784160014a",
     "showTitle": false,
     "title": ""
    }
   },
   "outputs": [],
   "source": [
    "# Combine these results into a new DataFrame\n",
    "data_output = pd.DataFrame({'Type':['organic','conventional'], \n",
    "                            'Average_price':[avg_organic, avg_conventional]})"
   ]
  },
  {
   "cell_type": "code",
   "execution_count": 0,
   "metadata": {
    "application/vnd.databricks.v1+cell": {
     "cellMetadata": {
      "byteLimit": 2048000,
      "rowLimit": 10000
     },
     "inputWidgets": {},
     "nuid": "213167f9-7e9f-4950-98e2-422574c1c6f1",
     "showTitle": false,
     "title": ""
    }
   },
   "outputs": [],
   "source": [
    "# Print the resulting DataFrame\n",
    "print('\\nResult dataframe :\\n',data_output)"
   ]
  },
  {
   "cell_type": "markdown",
   "metadata": {
    "application/vnd.databricks.v1+cell": {
     "cellMetadata": {
      "byteLimit": 2048000,
      "rowLimit": 10000
     },
     "inputWidgets": {},
     "nuid": "5a5a63fe-d45a-4939-9420-7a5d333ed586",
     "showTitle": false,
     "title": ""
    }
   },
   "source": [
    "However, we can use `groupby()` to achieve the same result with only 1 line of the code!"
   ]
  },
  {
   "cell_type": "markdown",
   "metadata": {
    "application/vnd.databricks.v1+cell": {
     "cellMetadata": {
      "byteLimit": 2048000,
      "rowLimit": 10000
     },
     "inputWidgets": {},
     "nuid": "3506e281-b786-4eb1-895c-ac9efa54830e",
     "showTitle": false,
     "title": ""
    }
   },
   "source": [
    "# 3. 2-D aggregations on Pandas DataFrame (KEY LEARNING)"
   ]
  },
  {
   "cell_type": "markdown",
   "metadata": {
    "application/vnd.databricks.v1+cell": {
     "cellMetadata": {
      "byteLimit": 2048000,
      "rowLimit": 10000
     },
     "inputWidgets": {},
     "nuid": "ae2118b7-bf5c-4148-9490-54e0832f1503",
     "showTitle": false,
     "title": ""
    }
   },
   "source": [
    "`groupby()` function allows us to quickly and efficiently split the data into separate groups to perform computations. When we pass the desired column or columns within `groupby()`, it will return _DataFrameGroupBy object_. We can think of it as a special view on our DataFrame. No computation will be done until we specify functions such as `mean()`, `sum()` etc."
   ]
  },
  {
   "cell_type": "code",
   "execution_count": 0,
   "metadata": {
    "application/vnd.databricks.v1+cell": {
     "cellMetadata": {
      "byteLimit": 2048000,
      "rowLimit": 10000
     },
     "inputWidgets": {},
     "nuid": "f6cecca7-156a-4c3e-820e-dc454ed2681d",
     "showTitle": false,
     "title": ""
    }
   },
   "outputs": [],
   "source": [
    "# Group the data based on the column 'year'\n",
    "data.groupby('year')"
   ]
  },
  {
   "cell_type": "markdown",
   "metadata": {
    "application/vnd.databricks.v1+cell": {
     "cellMetadata": {
      "byteLimit": 2048000,
      "rowLimit": 10000
     },
     "inputWidgets": {},
     "nuid": "519498ff-1b18-49da-ab9d-5c82d3652349",
     "showTitle": false,
     "title": ""
    }
   },
   "source": [
    "Now we compute the average price for organic and conventional avocados again but we'll make use of `groupby()`."
   ]
  },
  {
   "cell_type": "code",
   "execution_count": 0,
   "metadata": {
    "application/vnd.databricks.v1+cell": {
     "cellMetadata": {
      "byteLimit": 2048000,
      "rowLimit": 10000
     },
     "inputWidgets": {},
     "nuid": "fd40debc-836f-47f8-8242-db21130046e3",
     "showTitle": false,
     "title": ""
    }
   },
   "outputs": [],
   "source": [
    "# Group the data based on Avocado type\n",
    "# Compute the average price using .mean()\n",
    "\n",
    "by_type_total = data.groupby('type')['AveragePrice'].mean()\n",
    "print(by_type_total)"
   ]
  },
  {
   "cell_type": "code",
   "execution_count": 0,
   "metadata": {
    "application/vnd.databricks.v1+cell": {
     "cellMetadata": {
      "byteLimit": 2048000,
      "rowLimit": 10000
     },
     "inputWidgets": {},
     "nuid": "99548174-25a7-4452-a8ec-3974b719a04a",
     "showTitle": false,
     "title": ""
    }
   },
   "outputs": [],
   "source": [
    "# Group the data based on columns 'type' and 'region' passed into the list and compute the average price\n",
    "\n",
    "by_type_year = data.groupby(['type','year'])['AveragePrice'].mean()\n",
    "print(by_type_year)"
   ]
  },
  {
   "cell_type": "code",
   "execution_count": 0,
   "metadata": {
    "application/vnd.databricks.v1+cell": {
     "cellMetadata": {
      "byteLimit": 2048000,
      "rowLimit": 10000
     },
     "inputWidgets": {},
     "nuid": "d594b74e-ec11-4f00-a4a0-14ebfb50ad11",
     "showTitle": false,
     "title": ""
    }
   },
   "outputs": [],
   "source": [
    "# TASK 4 >>>> Group the data based on columns 'type', 'year' and 'region' passed into the list\n",
    "# and compute how many kg of Large Hass Avocados have been sold in total. \n",
    "# Assign the result to the variable by_year."
   ]
  },
  {
   "cell_type": "markdown",
   "metadata": {
    "application/vnd.databricks.v1+cell": {
     "cellMetadata": {
      "byteLimit": 2048000,
      "rowLimit": 10000
     },
     "inputWidgets": {},
     "nuid": "7630694e-8e2d-4e0a-9e0d-90ab1009913d",
     "showTitle": false,
     "title": ""
    }
   },
   "source": [
    "When we are using the `.groupby()`, the resulting object will be slightly different from a standard Pandas dataframe. You can see it in the print statement and how \"type\" and \"year\" are nicely printed. \n",
    "\n",
    "If we would like to work with the resulting object further, we should reset its row index by using `reset_index()` and convert it into a regular dataframe."
   ]
  },
  {
   "cell_type": "code",
   "execution_count": 0,
   "metadata": {
    "application/vnd.databricks.v1+cell": {
     "cellMetadata": {
      "byteLimit": 2048000,
      "rowLimit": 10000
     },
     "inputWidgets": {},
     "nuid": "bf360b60-c0c7-4f8b-8ca6-522af7a0fe75",
     "showTitle": false,
     "title": ""
    }
   },
   "outputs": [],
   "source": [
    "# Reset the index using .reset_index() method and create a DataFrame\n",
    "our_df = pd.DataFrame(by_year).reset_index()\n",
    "print(our_df)"
   ]
  },
  {
   "cell_type": "markdown",
   "metadata": {
    "application/vnd.databricks.v1+cell": {
     "cellMetadata": {
      "byteLimit": 2048000,
      "rowLimit": 10000
     },
     "inputWidgets": {},
     "nuid": "d59f70a2-8674-4813-a451-acb798f6538f",
     "showTitle": false,
     "title": ""
    }
   },
   "source": [
    "# 4. Aggregate function (ADVANCED)\n",
    "\n",
    "![](https://keytodatascience.com/wp-content/uploads/2020/04/image-1.png)\n",
    "\n",
    "[image source](https://keytodatascience.com/groupby-pandas-python/)"
   ]
  },
  {
   "cell_type": "markdown",
   "metadata": {
    "application/vnd.databricks.v1+cell": {
     "cellMetadata": {
      "byteLimit": 2048000,
      "rowLimit": 10000
     },
     "inputWidgets": {},
     "nuid": "3b8cdc51-8270-4d70-9bcb-c0aa915ae441",
     "showTitle": false,
     "title": ""
    }
   },
   "source": [
    "The aggregation method `agg()`.\n",
    "\n",
    "- it is an alias for aggregate\n",
    "- it is used to pass a function or list of functions to be applied on a series or even each element of a series separately\n",
    "\n",
    "This can be done by passing the columns and functions within a dictionary like this:\n",
    "\n",
    "`our_dataset.agg({'First_column' : ['max', 'min'], 'Second_column' : ['mean', 'median']})`"
   ]
  },
  {
   "cell_type": "code",
   "execution_count": 0,
   "metadata": {
    "application/vnd.databricks.v1+cell": {
     "cellMetadata": {
      "byteLimit": 2048000,
      "rowLimit": 10000
     },
     "inputWidgets": {},
     "nuid": "fa5b2b89-f0b6-492f-b816-2bd8ca63ee17",
     "showTitle": false,
     "title": ""
    }
   },
   "outputs": [],
   "source": [
    "# Compute maximum and minimum values for column 'Total Volume' and minimum and mean values for column 'Small Bags' using .agg()\n",
    "data.agg({'Total Volume' : ['max', 'min'], 'Small Bags' : ['min', 'mean']})"
   ]
  },
  {
   "cell_type": "markdown",
   "metadata": {
    "application/vnd.databricks.v1+cell": {
     "cellMetadata": {
      "byteLimit": 2048000,
      "rowLimit": 10000
     },
     "inputWidgets": {},
     "nuid": "cca1808c-7c5c-414a-83ba-7169f37fdfbe",
     "showTitle": false,
     "title": ""
    }
   },
   "source": [
    "We can pass `.agg()` also to our grouped object and compute statistics for selected column."
   ]
  },
  {
   "cell_type": "code",
   "execution_count": 0,
   "metadata": {
    "application/vnd.databricks.v1+cell": {
     "cellMetadata": {
      "byteLimit": 2048000,
      "rowLimit": 10000
     },
     "inputWidgets": {},
     "nuid": "9a8685b0-32d3-4234-af1a-e2a8e17445e8",
     "showTitle": false,
     "title": ""
    }
   },
   "outputs": [],
   "source": [
    "# Group the data based on the two columns 'region' and 'type'\n",
    "# Compute aggregations 'min','max' and 'mean' for 'AveragePrice'\n",
    "grouped = data.groupby(['region','type']).agg({'AveragePrice':['min','max','mean']})"
   ]
  },
  {
   "cell_type": "code",
   "execution_count": 0,
   "metadata": {
    "application/vnd.databricks.v1+cell": {
     "cellMetadata": {
      "byteLimit": 2048000,
      "rowLimit": 10000
     },
     "inputWidgets": {},
     "nuid": "440e9c57-f900-41d6-a548-ec6c05d18ed6",
     "showTitle": false,
     "title": ""
    }
   },
   "outputs": [],
   "source": [
    "grouped"
   ]
  },
  {
   "cell_type": "markdown",
   "metadata": {
    "application/vnd.databricks.v1+cell": {
     "cellMetadata": {
      "byteLimit": 2048000,
      "rowLimit": 10000
     },
     "inputWidgets": {},
     "nuid": "88ebbc0c-471b-4139-b46a-45e6faa9f7f0",
     "showTitle": false,
     "title": ""
    }
   },
   "source": [
    "- within `agg()` we can have our custom function along with computing aggregation"
   ]
  },
  {
   "cell_type": "code",
   "execution_count": 0,
   "metadata": {
    "application/vnd.databricks.v1+cell": {
     "cellMetadata": {
      "byteLimit": 2048000,
      "rowLimit": 10000
     },
     "inputWidgets": {},
     "nuid": "59c4a771-0336-4bea-a272-ce1e9c919df3",
     "showTitle": false,
     "title": ""
    }
   },
   "outputs": [],
   "source": [
    "# Write a function to compute 95th percentile on desired column using .quantile(0.95)\n",
    "def percentile_95(column):\n",
    "    return column.quantile(0.95)"
   ]
  },
  {
   "cell_type": "code",
   "execution_count": 0,
   "metadata": {
    "application/vnd.databricks.v1+cell": {
     "cellMetadata": {
      "byteLimit": 2048000,
      "rowLimit": 10000
     },
     "inputWidgets": {},
     "nuid": "f830c570-209a-49cf-a16a-6d716e4529d8",
     "showTitle": false,
     "title": ""
    }
   },
   "outputs": [],
   "source": [
    "# TASK 5 - HARD >>>> Get 95th percentile and mean values for columns: 'Small Bags','Large Bags','XLarge Bags' from DataFrame data, using .agg()"
   ]
  },
  {
   "cell_type": "markdown",
   "metadata": {
    "application/vnd.databricks.v1+cell": {
     "cellMetadata": {
      "byteLimit": 2048000,
      "rowLimit": 10000
     },
     "inputWidgets": {},
     "nuid": "69da9d05-3bef-4a5a-9630-b8873bad9880",
     "showTitle": false,
     "title": ""
    }
   },
   "source": [
    "# 5. Bonus Task (HARD)\n",
    "\n",
    "`groupby()` can be useful when we want to look at the proportion of avocado's type. We would like to see what percentages of conventional and organic avocados have been sold. For example: 97 % and 3%.\n",
    "\n",
    "To reach this result:\n",
    "- Group the data by 'type' and obtain sums on the 'Total Volume' column, assign result to `volume_by_type`\n",
    "- Divide `volume_by_type` by the sum of all avocados. Assign the result to the variable `proportion`.\n",
    "- Print the proportion and optionally multiply it by 100 to obtain a figure in percentage"
   ]
  },
  {
   "cell_type": "code",
   "execution_count": 0,
   "metadata": {
    "application/vnd.databricks.v1+cell": {
     "cellMetadata": {
      "byteLimit": 2048000,
      "rowLimit": 10000
     },
     "inputWidgets": {},
     "nuid": "d9cdc0e1-fd3a-4e78-80a0-c7bd41b8cdef",
     "showTitle": false,
     "title": ""
    }
   },
   "outputs": [],
   "source": [
    "# TASK 6.1 >>>> Group data based on their types and compute count of the Total Volume "
   ]
  },
  {
   "cell_type": "code",
   "execution_count": 0,
   "metadata": {
    "application/vnd.databricks.v1+cell": {
     "cellMetadata": {
      "byteLimit": 2048000,
      "rowLimit": 10000
     },
     "inputWidgets": {},
     "nuid": "dba99054-50e8-4ae7-906a-b72f4ecc2e02",
     "showTitle": false,
     "title": ""
    }
   },
   "outputs": [],
   "source": [
    "# TASK 6.2 >>>> Compute the proportion of the avocado's type"
   ]
  },
  {
   "cell_type": "code",
   "execution_count": 0,
   "metadata": {
    "application/vnd.databricks.v1+cell": {
     "cellMetadata": {
      "byteLimit": 2048000,
      "rowLimit": 10000
     },
     "inputWidgets": {},
     "nuid": "749d9993-4b26-453a-b941-56f0e01e3cbb",
     "showTitle": false,
     "title": ""
    }
   },
   "outputs": [],
   "source": [
    "# TASK 6.3 >>>> Print the output multiply by 100"
   ]
  },
  {
   "cell_type": "markdown",
   "metadata": {
    "application/vnd.databricks.v1+cell": {
     "cellMetadata": {
      "byteLimit": 2048000,
      "rowLimit": 10000
     },
     "inputWidgets": {},
     "nuid": "555d2f4f-d3e3-4515-aa32-b04bf926463a",
     "showTitle": false,
     "title": ""
    }
   },
   "source": [
    "# 6. Appendix\n",
    "\n",
    "Data Source: https://www.kaggle.com/neuromusic/avocado-prices\n",
    "\n",
    "License: Database: Open Database, Contents: © Original Authors\n",
    "\n",
    "Material adapted for RBI internal purposes with full permissions from original authors. Source: https://github.com/zatkopatrik/authentic-data-science"
   ]
  }
 ],
 "metadata": {
  "application/vnd.databricks.v1+notebook": {
   "dashboards": [],
   "language": "python",
   "notebookMetadata": {
    "pythonIndentUnit": 2
   },
   "notebookName": "2_Data_Aggregation_jupyter",
   "widgets": {}
  }
 },
 "nbformat": 4,
 "nbformat_minor": 0
}
