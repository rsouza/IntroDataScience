{
 "cells": [
  {
   "cell_type": "markdown",
   "metadata": {
    "application/vnd.databricks.v1+cell": {
     "cellMetadata": {},
     "inputWidgets": {},
     "nuid": "485c859a-b75b-48c8-a509-a6b5afeddcf1",
     "showTitle": false,
     "title": ""
    }
   },
   "source": [
    "# 1. Must-do Exploration\n",
    "In this section we will be exploring the data on cars used for testing fuel economy\\\\(^{1}\\\\) (car models are from year 2010)."
   ]
  },
  {
   "cell_type": "code",
   "execution_count": 0,
   "metadata": {
    "application/vnd.databricks.v1+cell": {
     "cellMetadata": {},
     "inputWidgets": {},
     "nuid": "e523ba1c-3a00-448d-a277-39a9fd9418e6",
     "showTitle": false,
     "title": ""
    }
   },
   "outputs": [],
   "source": [
    "# TASK 1 >>>\n",
    "# import pandas as pd\n",
    "# import numpy as np\n",
    "# Load the dataset 'fuel_economy_data_2010.csv' in the data folder using pd.read_csv('...', index_col = 0) and store it in a variable called \"data\""
   ]
  },
  {
   "cell_type": "code",
   "execution_count": 0,
   "metadata": {
    "application/vnd.databricks.v1+cell": {
     "cellMetadata": {},
     "inputWidgets": {},
     "nuid": "9eb6a3ab-335a-40fd-b136-0f575f56888f",
     "showTitle": false,
     "title": ""
    }
   },
   "outputs": [],
   "source": [
    "# TASK 2 >>> Display the first five rows of the DataFrame using .head() method"
   ]
  },
  {
   "cell_type": "code",
   "execution_count": 0,
   "metadata": {
    "application/vnd.databricks.v1+cell": {
     "cellMetadata": {},
     "inputWidgets": {},
     "nuid": "88268f4a-f573-497b-9bfc-694c80ba5bd4",
     "showTitle": false,
     "title": ""
    }
   },
   "outputs": [],
   "source": [
    "# TASK 3 >>> Display the last five rows of the DataFrame using .tail() method"
   ]
  },
  {
   "cell_type": "code",
   "execution_count": 0,
   "metadata": {
    "application/vnd.databricks.v1+cell": {
     "cellMetadata": {},
     "inputWidgets": {},
     "nuid": "e7d67290-1061-4675-ad2f-4817785375fd",
     "showTitle": false,
     "title": ""
    }
   },
   "outputs": [],
   "source": [
    "# Display 15 random elements from the dataset using .sample() method (by setting parameter n = 15)\n",
    "data.sample(n=15)"
   ]
  },
  {
   "cell_type": "code",
   "execution_count": 0,
   "metadata": {
    "application/vnd.databricks.v1+cell": {
     "cellMetadata": {},
     "inputWidgets": {},
     "nuid": "f88b63ad-66bf-4066-9898-c1563582f834",
     "showTitle": false,
     "title": ""
    }
   },
   "outputs": [],
   "source": [
    "# Display 5 random elements from the column 'Test Veh Displacement (L)' using .sample(n = 5)\n",
    "data['Test Veh Displacement (L)'].sample(n = 5)"
   ]
  },
  {
   "cell_type": "code",
   "execution_count": 0,
   "metadata": {
    "application/vnd.databricks.v1+cell": {
     "cellMetadata": {},
     "inputWidgets": {},
     "nuid": "a16ce951-cb2b-49ba-b398-a32c33712ae6",
     "showTitle": false,
     "title": ""
    }
   },
   "outputs": [],
   "source": [
    "# TASK 4 >>> Display the shape of the dataset using attribute .shape"
   ]
  },
  {
   "cell_type": "code",
   "execution_count": 0,
   "metadata": {
    "application/vnd.databricks.v1+cell": {
     "cellMetadata": {},
     "inputWidgets": {},
     "nuid": "c6db214c-bbd8-4652-b237-e08f16f6fe0f",
     "showTitle": false,
     "title": ""
    }
   },
   "outputs": [],
   "source": [
    "# Display the short summary of the dataframe using .info() method by setting argument verbose = False\n",
    "data.info(verbose = False)"
   ]
  },
  {
   "cell_type": "code",
   "execution_count": 0,
   "metadata": {
    "application/vnd.databricks.v1+cell": {
     "cellMetadata": {},
     "inputWidgets": {},
     "nuid": "40fa5281-8e6c-4449-8dab-07af6bbb02dc",
     "showTitle": false,
     "title": ""
    }
   },
   "outputs": [],
   "source": [
    "# TASK 5 >>> Display a basic summary of the DataFrame using .info() method"
   ]
  },
  {
   "cell_type": "code",
   "execution_count": 0,
   "metadata": {
    "application/vnd.databricks.v1+cell": {
     "cellMetadata": {},
     "inputWidgets": {},
     "nuid": "f35f60e3-c2f0-47eb-9f31-660b9e542abd",
     "showTitle": false,
     "title": ""
    }
   },
   "outputs": [],
   "source": [
    "# TASK 6 >>> Display columns in the dataframe using .columns attribute"
   ]
  },
  {
   "cell_type": "code",
   "execution_count": 0,
   "metadata": {
    "application/vnd.databricks.v1+cell": {
     "cellMetadata": {},
     "inputWidgets": {},
     "nuid": "89b0a69c-e03c-4fbe-b74a-a88cf08f989b",
     "showTitle": false,
     "title": ""
    }
   },
   "outputs": [],
   "source": [
    "# TASK 7 >>> Display data types of the variables using .dtypes attribute"
   ]
  },
  {
   "cell_type": "markdown",
   "metadata": {
    "application/vnd.databricks.v1+cell": {
     "cellMetadata": {},
     "inputWidgets": {},
     "nuid": "b9dff04f-34ba-4b9a-ae53-000ede6aac6b",
     "showTitle": false,
     "title": ""
    }
   },
   "source": [
    "# 2. Exploring columns"
   ]
  },
  {
   "cell_type": "code",
   "execution_count": 0,
   "metadata": {
    "application/vnd.databricks.v1+cell": {
     "cellMetadata": {},
     "inputWidgets": {},
     "nuid": "9dfafa60-f025-4407-ad56-9eb053afd0c8",
     "showTitle": false,
     "title": ""
    }
   },
   "outputs": [],
   "source": [
    "# Display a subset of the dataframe's columns based on the column's data types, using .select_dtypes() method \n",
    "# Set parameter include=['float64','int64']\n",
    "data.select_dtypes(include=['float64', 'int64'])"
   ]
  },
  {
   "cell_type": "code",
   "execution_count": 0,
   "metadata": {
    "application/vnd.databricks.v1+cell": {
     "cellMetadata": {},
     "inputWidgets": {},
     "nuid": "8a9319d1-922a-42a3-8893-ec64d4e41058",
     "showTitle": false,
     "title": ""
    }
   },
   "outputs": [],
   "source": [
    "# TASK 8 >>> Display descriptive statistics using .describe() method"
   ]
  },
  {
   "cell_type": "code",
   "execution_count": 0,
   "metadata": {
    "application/vnd.databricks.v1+cell": {
     "cellMetadata": {},
     "inputWidgets": {},
     "nuid": "05adc2d6-c4e6-4cf1-9aed-e8b87a6fbe6f",
     "showTitle": false,
     "title": ""
    }
   },
   "outputs": [],
   "source": [
    "# Display summary statistics of all columns of the dataframe regardless of data type by setting argument include = 'all'\n",
    "data.describe(include = 'all')"
   ]
  },
  {
   "cell_type": "code",
   "execution_count": 0,
   "metadata": {
    "application/vnd.databricks.v1+cell": {
     "cellMetadata": {},
     "inputWidgets": {},
     "nuid": "c38eea9b-f362-4f76-836d-cf7ddcdd24d4",
     "showTitle": false,
     "title": ""
    }
   },
   "outputs": [],
   "source": [
    "# Display summary statistics of string columns only by setting argument include=[object]\n",
    "data.describe(include = [object])"
   ]
  },
  {
   "cell_type": "markdown",
   "metadata": {
    "application/vnd.databricks.v1+cell": {
     "cellMetadata": {},
     "inputWidgets": {},
     "nuid": "71ad9f80-79ea-41df-8bb6-f64247a5f51a",
     "showTitle": false,
     "title": ""
    }
   },
   "source": [
    "# 3. Exploring particular column"
   ]
  },
  {
   "cell_type": "code",
   "execution_count": 0,
   "metadata": {
    "application/vnd.databricks.v1+cell": {
     "cellMetadata": {},
     "inputWidgets": {},
     "nuid": "88faf04c-065f-40fa-8f80-62bfb580c13e",
     "showTitle": false,
     "title": ""
    }
   },
   "outputs": [],
   "source": [
    "# Display counts of unique values of the column 'Tested Transmission Type' using .value_counts() method\n",
    "data['Tested Transmission Type'].value_counts()"
   ]
  },
  {
   "cell_type": "code",
   "execution_count": 0,
   "metadata": {
    "application/vnd.databricks.v1+cell": {
     "cellMetadata": {},
     "inputWidgets": {},
     "nuid": "8cd98008-7b0d-4650-86d9-65a02b914670",
     "showTitle": false,
     "title": ""
    }
   },
   "outputs": [],
   "source": [
    "# Display relative frequencies of the unique values of the column 'Tested Transmission Type' by setting argument normalize = True\n",
    "data['Tested Transmission Type'].value_counts(normalize = True)"
   ]
  },
  {
   "cell_type": "markdown",
   "metadata": {
    "application/vnd.databricks.v1+cell": {
     "cellMetadata": {},
     "inputWidgets": {},
     "nuid": "23e4c4e3-f281-44a3-b46b-5a7a59b30bac",
     "showTitle": false,
     "title": ""
    }
   },
   "source": [
    "# 4. Using boxplot"
   ]
  },
  {
   "cell_type": "code",
   "execution_count": 0,
   "metadata": {
    "application/vnd.databricks.v1+cell": {
     "cellMetadata": {},
     "inputWidgets": {},
     "nuid": "8903b0f1-c749-4721-a03f-e8c5049748d1",
     "showTitle": false,
     "title": ""
    }
   },
   "outputs": [],
   "source": [
    "# Import seaborn as sns and matplotlib.pyplot as plt\n",
    "import seaborn as sns\n",
    "import matplotlib.pyplot as plt\n",
    "\n",
    "# Set the size of the figure\n",
    "plt.figure(figsize = (9,10))\n",
    "\n",
    "# Create a boxplot to show the distribution of datapoints of the column 'Rated Horsepower'\n",
    "sns.boxplot(data['Rated Horsepower'], orient = 'v', linewidth = 2, color ='skyblue');"
   ]
  },
  {
   "cell_type": "code",
   "execution_count": 0,
   "metadata": {
    "application/vnd.databricks.v1+cell": {
     "cellMetadata": {},
     "inputWidgets": {},
     "nuid": "ad316609-dc87-45fe-8739-c71c77d7cbb6",
     "showTitle": false,
     "title": ""
    }
   },
   "outputs": [],
   "source": [
    "# Set the size of the figure\n",
    "plt.figure(figsize = (9,10))\n",
    "\n",
    "# TASK 9 >>> Create a boxplot to show the distribution of datapoints of the column 'Test Veh Displacement (L)' that describes engine displacement"
   ]
  },
  {
   "cell_type": "markdown",
   "metadata": {
    "application/vnd.databricks.v1+cell": {
     "cellMetadata": {},
     "inputWidgets": {},
     "nuid": "a569f232-778f-4167-8bf4-2274f5afba48",
     "showTitle": false,
     "title": ""
    }
   },
   "source": [
    "\\\\(^{1}\\\\) Data Source: https://www.epa.gov/compliance-and-fuel-economy-data/data-cars-used-testing-fuel-economy  \n",
    "Material adapted for RBI internal purposes with full permissions from original authors."
   ]
  }
 ],
 "metadata": {
  "application/vnd.databricks.v1+notebook": {
   "dashboards": [],
   "language": "python",
   "notebookMetadata": {
    "pythonIndentUnit": 4
   },
   "notebookName": "1_First_look_at_the_data_jupyter",
   "widgets": {}
  },
  "language_info": {
   "name": "python"
  }
 },
 "nbformat": 4,
 "nbformat_minor": 0
}
