{
 "cells": [
  {
   "cell_type": "markdown",
   "metadata": {
    "application/vnd.databricks.v1+cell": {
     "cellMetadata": {
      "byteLimit": 2048000,
      "rowLimit": 10000
     },
     "inputWidgets": {},
     "nuid": "bd9660d8-0e50-4ddd-876d-eaf083c867f8",
     "showTitle": false,
     "title": ""
    }
   },
   "source": [
    "# 0. Importing data (DO NOT ALTER)"
   ]
  },
  {
   "cell_type": "code",
   "execution_count": 0,
   "metadata": {
    "application/vnd.databricks.v1+cell": {
     "cellMetadata": {
      "byteLimit": 2048000,
      "rowLimit": 10000
     },
     "inputWidgets": {},
     "nuid": "5aef773b-8060-441c-8a77-3fcd633cfe65",
     "showTitle": false,
     "title": ""
    }
   },
   "outputs": [],
   "source": [
    "# Import pandas as pd\n",
    "# Import numpy as np\n",
    "import pandas as pd\n",
    "import numpy as np"
   ]
  },
  {
   "cell_type": "code",
   "execution_count": 0,
   "metadata": {
    "application/vnd.databricks.v1+cell": {
     "cellMetadata": {
      "byteLimit": 2048000,
      "rowLimit": 10000
     },
     "inputWidgets": {},
     "nuid": "bb23b433-830e-442e-81e8-9e1332a7b199",
     "showTitle": false,
     "title": ""
    }
   },
   "outputs": [],
   "source": [
    "# Load the dataset\n",
    "data = pd.read_csv('../../../Data/avocado.csv')"
   ]
  },
  {
   "cell_type": "code",
   "execution_count": 0,
   "metadata": {
    "application/vnd.databricks.v1+cell": {
     "cellMetadata": {
      "byteLimit": 2048000,
      "rowLimit": 10000
     },
     "inputWidgets": {},
     "nuid": "db8332d1-3c4d-4fec-9fe6-097113baa8e7",
     "showTitle": false,
     "title": ""
    }
   },
   "outputs": [],
   "source": [
    "# Preview the data\n",
    "data"
   ]
  },
  {
   "cell_type": "markdown",
   "metadata": {
    "application/vnd.databricks.v1+cell": {
     "cellMetadata": {
      "byteLimit": 2048000,
      "rowLimit": 10000
     },
     "inputWidgets": {},
     "nuid": "790a3a82-f0c0-47f7-829c-d2eb1ed3bb29",
     "showTitle": false,
     "title": ""
    }
   },
   "source": [
    "# 1. 1-D aggregations on Pandas Series\n",
    "\n",
    "Let's recall computing aggregations such as `sum()`, `mean()`, `median()`, `max()` and `min()` using Pandas Series."
   ]
  },
  {
   "cell_type": "code",
   "execution_count": 0,
   "metadata": {
    "application/vnd.databricks.v1+cell": {
     "cellMetadata": {
      "byteLimit": 2048000,
      "rowLimit": 10000
     },
     "inputWidgets": {},
     "nuid": "0790c31b-dd4e-48eb-819a-5f48c82a77c0",
     "showTitle": false,
     "title": ""
    }
   },
   "outputs": [],
   "source": [
    "# Create Pandas Series using values: [8.45, 3.15, 1.25, 10.55, 2.40]\n",
    "\n",
    "our_series = pd.Series([8.45, 3.15, 1.25, 10.55, 2.40])"
   ]
  },
  {
   "cell_type": "code",
   "execution_count": 0,
   "metadata": {
    "application/vnd.databricks.v1+cell": {
     "cellMetadata": {
      "byteLimit": 2048000,
      "rowLimit": 10000
     },
     "inputWidgets": {},
     "nuid": "a9168bb8-1b7c-482a-b2bd-7b781a7083f3",
     "showTitle": false,
     "title": ""
    }
   },
   "outputs": [],
   "source": [
    "# TASK 1 >>>> Print computing aggregations (returns error if not filled)\n",
    "\n",
    "print(f'The rounded count of the values is: {our_series.sum().round()}')\n",
    "print(f'The average value is: {our_series.mean()}')\n",
    "print(f'The median value is: {our_series.median()}')\n",
    "print(f'The maximum value is: {our_series.max()}')\n",
    "print(f'The minimum value is: {our_series.min()}')"
   ]
  },
  {
   "cell_type": "markdown",
   "metadata": {
    "application/vnd.databricks.v1+cell": {
     "cellMetadata": {
      "byteLimit": 2048000,
      "rowLimit": 10000
     },
     "inputWidgets": {},
     "nuid": "1f520afb-2b3b-4d25-a66d-14b7ba837726",
     "showTitle": false,
     "title": ""
    }
   },
   "source": [
    "# 2. 2-D aggregations on Pandas DataFrame\n",
    "\n",
    "To understand the true power of `groupby()` we can take a look at what is going on under the hood.  \n",
    "Let's say we want to compute the average price of avocados based on their type: conventional and organic. \n",
    "\n",
    "Firstly, we have to split our dataset into 2 different groups based on the type:"
   ]
  },
  {
   "cell_type": "code",
   "execution_count": 0,
   "metadata": {
    "application/vnd.databricks.v1+cell": {
     "cellMetadata": {
      "byteLimit": 2048000,
      "rowLimit": 10000
     },
     "inputWidgets": {},
     "nuid": "297d93f6-6ad6-4b78-8400-370ce7e40d63",
     "showTitle": false,
     "title": ""
    }
   },
   "outputs": [],
   "source": [
    "# Filter only those records that are organic type and assign it to variable filter_o\n",
    "filter_o = data['type'] == 'organic'"
   ]
  },
  {
   "cell_type": "code",
   "execution_count": 0,
   "metadata": {
    "application/vnd.databricks.v1+cell": {
     "cellMetadata": {
      "byteLimit": 2048000,
      "rowLimit": 10000
     },
     "inputWidgets": {},
     "nuid": "76ac896f-bc27-4e34-946b-e402d958d658",
     "showTitle": false,
     "title": ""
    }
   },
   "outputs": [],
   "source": [
    "# Use .loc[] on data to access all columns based on our condition filter_o and assign it to the variable data_organic\n",
    "data_organic = data.loc[filter_o]\n",
    "data_organic"
   ]
  },
  {
   "cell_type": "markdown",
   "metadata": {
    "application/vnd.databricks.v1+cell": {
     "cellMetadata": {
      "byteLimit": 2048000,
      "rowLimit": 10000
     },
     "inputWidgets": {},
     "nuid": "5b7e441b-af51-498f-a343-1591ee3a60aa",
     "showTitle": false,
     "title": ""
    }
   },
   "source": [
    "See that only organic type remain."
   ]
  },
  {
   "cell_type": "code",
   "execution_count": 0,
   "metadata": {
    "application/vnd.databricks.v1+cell": {
     "cellMetadata": {
      "byteLimit": 2048000,
      "rowLimit": 10000
     },
     "inputWidgets": {},
     "nuid": "2bd2b88c-ef9c-4a3d-9798-69265fe266c1",
     "showTitle": false,
     "title": ""
    }
   },
   "outputs": [],
   "source": [
    "# TASK 2 >>>> Filter only those records that are of type conventional and assign it to the variable filter_c\n",
    "filter_c = data['type'] == 'conventional'"
   ]
  },
  {
   "cell_type": "code",
   "execution_count": 0,
   "metadata": {
    "application/vnd.databricks.v1+cell": {
     "cellMetadata": {
      "byteLimit": 2048000,
      "rowLimit": 10000
     },
     "inputWidgets": {},
     "nuid": "45719090-7f72-438b-8abf-863be2188ba9",
     "showTitle": false,
     "title": ""
    }
   },
   "outputs": [],
   "source": [
    "# TASK 2 >>>> Use .loc[] on data to access all columns based on our condition filter_c and assign it to the variable data_conventional\n",
    "data_conventional = data.loc[filter_c]\n",
    "data_conventional"
   ]
  },
  {
   "cell_type": "markdown",
   "metadata": {
    "application/vnd.databricks.v1+cell": {
     "cellMetadata": {
      "byteLimit": 2048000,
      "rowLimit": 10000
     },
     "inputWidgets": {},
     "nuid": "f43c8741-92fe-4a29-9f3a-6ab39070e8ac",
     "showTitle": false,
     "title": ""
    }
   },
   "source": [
    "Now compute the average price for both types of avocados using the `.mean()` method applied to the column `AveragePrice`."
   ]
  },
  {
   "cell_type": "code",
   "execution_count": 0,
   "metadata": {
    "application/vnd.databricks.v1+cell": {
     "cellMetadata": {
      "byteLimit": 2048000,
      "rowLimit": 10000
     },
     "inputWidgets": {},
     "nuid": "24f75474-923d-4f64-9da6-6ffa6b0ecb9f",
     "showTitle": false,
     "title": ""
    }
   },
   "outputs": [],
   "source": [
    "# Compute the average price for filtered organic avocados and assign it to the variable avg_organic\n",
    "avg_organic = data_organic['AveragePrice'].mean()"
   ]
  },
  {
   "cell_type": "code",
   "execution_count": 0,
   "metadata": {
    "application/vnd.databricks.v1+cell": {
     "cellMetadata": {
      "byteLimit": 2048000,
      "rowLimit": 10000
     },
     "inputWidgets": {},
     "nuid": "3cbc6260-bea6-4c78-a668-2df1995eba12",
     "showTitle": false,
     "title": ""
    }
   },
   "outputs": [],
   "source": [
    "# TASK 3 >>>> Compute the average price for filtered conventional avocados and assign it to the variable avg_conventional\n",
    "avg_conventional = data_conventional['AveragePrice'].mean()"
   ]
  },
  {
   "cell_type": "code",
   "execution_count": 0,
   "metadata": {
    "application/vnd.databricks.v1+cell": {
     "cellMetadata": {
      "byteLimit": 2048000,
      "rowLimit": 10000
     },
     "inputWidgets": {},
     "nuid": "67827948-4928-4b0b-97a3-eb81a5c693f2",
     "showTitle": false,
     "title": ""
    }
   },
   "outputs": [],
   "source": [
    "# Print the outputs and the type of the outputs\n",
    "print(avg_organic, avg_conventional)\n",
    "print('\\n')\n",
    "print(type(avg_organic), type(avg_conventional))"
   ]
  },
  {
   "cell_type": "markdown",
   "metadata": {
    "application/vnd.databricks.v1+cell": {
     "cellMetadata": {
      "byteLimit": 2048000,
      "rowLimit": 10000
     },
     "inputWidgets": {},
     "nuid": "fc29f92a-f4d4-4933-a79d-8f8f42ad52f4",
     "showTitle": false,
     "title": ""
    }
   },
   "source": [
    "Lastly, combine these results into data structure using `Pandas`  `.DataFrame()`. Create a dictionary, where the first key name will be 'Type' and its values 'organic', 'conventional'. The second key name will be 'Average_price' and its values will be our created `avg_organic` and `avg_conventional`, respectively."
   ]
  },
  {
   "cell_type": "code",
   "execution_count": 0,
   "metadata": {
    "application/vnd.databricks.v1+cell": {
     "cellMetadata": {
      "byteLimit": 2048000,
      "rowLimit": 10000
     },
     "inputWidgets": {},
     "nuid": "6d6a2f15-e099-450c-9783-d9d3578a6b67",
     "showTitle": false,
     "title": ""
    }
   },
   "outputs": [],
   "source": [
    "# Combine these results into a new DataFrame\n",
    "data_output = pd.DataFrame({'Type':['organic','conventional'], \n",
    "                            'Average_price':[avg_organic, avg_conventional]})"
   ]
  },
  {
   "cell_type": "code",
   "execution_count": 0,
   "metadata": {
    "application/vnd.databricks.v1+cell": {
     "cellMetadata": {
      "byteLimit": 2048000,
      "rowLimit": 10000
     },
     "inputWidgets": {},
     "nuid": "986e5ede-1254-4c80-959d-4b0f57b67876",
     "showTitle": false,
     "title": ""
    }
   },
   "outputs": [],
   "source": [
    "# Print the resulting DataFrame\n",
    "print('\\nResult dataframe :\\n',data_output)"
   ]
  },
  {
   "cell_type": "markdown",
   "metadata": {
    "application/vnd.databricks.v1+cell": {
     "cellMetadata": {
      "byteLimit": 2048000,
      "rowLimit": 10000
     },
     "inputWidgets": {},
     "nuid": "68d84905-429c-4406-b2ed-c3e10e1d344f",
     "showTitle": false,
     "title": ""
    }
   },
   "source": [
    "However, we can use `groupby()` to achieve the same result with only 1 line of the code!"
   ]
  },
  {
   "cell_type": "markdown",
   "metadata": {
    "application/vnd.databricks.v1+cell": {
     "cellMetadata": {
      "byteLimit": 2048000,
      "rowLimit": 10000
     },
     "inputWidgets": {},
     "nuid": "65114002-bd3c-466a-bada-5da8fca8bbf6",
     "showTitle": false,
     "title": ""
    }
   },
   "source": [
    "# 3. 2-D aggregations on Pandas DataFrame (KEY LEARNING)"
   ]
  },
  {
   "cell_type": "markdown",
   "metadata": {
    "application/vnd.databricks.v1+cell": {
     "cellMetadata": {
      "byteLimit": 2048000,
      "rowLimit": 10000
     },
     "inputWidgets": {},
     "nuid": "9606aeea-0a4c-41ea-b3e6-a7a194967191",
     "showTitle": false,
     "title": ""
    }
   },
   "source": [
    "`groupby()` function allows us to quickly and efficiently split the data into separate groups to perform computations. When we pass the desired column or columns within `groupby()`, it will return _DataFrameGroupBy object_. We can think of it as a special view on our DataFrame. No computation will be done until we specify functions such as `mean()`, `sum()` etc."
   ]
  },
  {
   "cell_type": "code",
   "execution_count": 0,
   "metadata": {
    "application/vnd.databricks.v1+cell": {
     "cellMetadata": {
      "byteLimit": 2048000,
      "rowLimit": 10000
     },
     "inputWidgets": {},
     "nuid": "47ed13fe-a72f-465a-b8d2-2d9b1c86061a",
     "showTitle": false,
     "title": ""
    }
   },
   "outputs": [],
   "source": [
    "# Group the data based on the column 'year'\n",
    "data.groupby('year')"
   ]
  },
  {
   "cell_type": "markdown",
   "metadata": {
    "application/vnd.databricks.v1+cell": {
     "cellMetadata": {
      "byteLimit": 2048000,
      "rowLimit": 10000
     },
     "inputWidgets": {},
     "nuid": "5f96da7e-378a-4ddd-8ba8-60c4e2f9638e",
     "showTitle": false,
     "title": ""
    }
   },
   "source": [
    "Now we compute the average price for organic and conventional avocados again but we'll make use of `groupby()`."
   ]
  },
  {
   "cell_type": "code",
   "execution_count": 0,
   "metadata": {
    "application/vnd.databricks.v1+cell": {
     "cellMetadata": {
      "byteLimit": 2048000,
      "rowLimit": 10000
     },
     "inputWidgets": {},
     "nuid": "84cb7ede-1342-4332-b58b-b281e2bfa43e",
     "showTitle": false,
     "title": ""
    }
   },
   "outputs": [],
   "source": [
    "# Group the data based on Avocado type\n",
    "# Compute the average price using .mean()\n",
    "\n",
    "by_type_total = data.groupby('type')['AveragePrice'].mean()\n",
    "print(by_type_total)"
   ]
  },
  {
   "cell_type": "code",
   "execution_count": 0,
   "metadata": {
    "application/vnd.databricks.v1+cell": {
     "cellMetadata": {
      "byteLimit": 2048000,
      "rowLimit": 10000
     },
     "inputWidgets": {},
     "nuid": "f1137c91-d879-49ba-ac46-55e409787e21",
     "showTitle": false,
     "title": ""
    }
   },
   "outputs": [],
   "source": [
    "# Group the data based on columns 'type' and 'region' passed into the list and compute the average price\n",
    "\n",
    "by_type_year = data.groupby(['type','year'])['AveragePrice'].mean()\n",
    "print(by_type_year)"
   ]
  },
  {
   "cell_type": "code",
   "execution_count": 0,
   "metadata": {
    "application/vnd.databricks.v1+cell": {
     "cellMetadata": {
      "byteLimit": 2048000,
      "rowLimit": 10000
     },
     "inputWidgets": {},
     "nuid": "666e0f10-e6a3-4fbb-947d-e85d6625b660",
     "showTitle": false,
     "title": ""
    }
   },
   "outputs": [],
   "source": [
    "# TASK 4 >>>> Group the data based on columns 'type', 'year' and 'region' passed into the list\n",
    "# and compute how many kg of Large Hass Avocados have been sold in total. \n",
    "# Assign the result to the variable by_year.\n",
    "\n",
    "by_year = data.groupby(['type','year', 'region'])['Large Hass Avocado'].sum()\n",
    "print(by_year)"
   ]
  },
  {
   "cell_type": "markdown",
   "metadata": {
    "application/vnd.databricks.v1+cell": {
     "cellMetadata": {
      "byteLimit": 2048000,
      "rowLimit": 10000
     },
     "inputWidgets": {},
     "nuid": "bb41f6ee-f5e8-4288-9721-1f8e2ca55a10",
     "showTitle": false,
     "title": ""
    }
   },
   "source": [
    "When we are using the `.groupby()`, the resulting object will be slightly different from a standard Pandas dataframe. You can see it in the print statement and how \"type\" and \"year\" are nicely printed. \n",
    "\n",
    "If we would like to work with the resulting object further, we should reset its row index by using `reset_index()` and convert it into a regular dataframe."
   ]
  },
  {
   "cell_type": "code",
   "execution_count": 0,
   "metadata": {
    "application/vnd.databricks.v1+cell": {
     "cellMetadata": {
      "byteLimit": 2048000,
      "rowLimit": 10000
     },
     "inputWidgets": {},
     "nuid": "3c50d14a-1abd-4430-84d9-64cc0e598007",
     "showTitle": false,
     "title": ""
    }
   },
   "outputs": [],
   "source": [
    "# Reset the index using .reset_index() method and create a DataFrame\n",
    "our_df = pd.DataFrame(by_year).reset_index()\n",
    "print(our_df)"
   ]
  },
  {
   "cell_type": "markdown",
   "metadata": {
    "application/vnd.databricks.v1+cell": {
     "cellMetadata": {
      "byteLimit": 2048000,
      "rowLimit": 10000
     },
     "inputWidgets": {},
     "nuid": "de648756-9df8-48ca-a891-466e8903e481",
     "showTitle": false,
     "title": ""
    }
   },
   "source": [
    "# 4. Aggregate function (ADVANCED)\n",
    "\n",
    "![](https://keytodatascience.com/wp-content/uploads/2020/04/image-1.png)\n",
    "\n",
    "[image source](https://keytodatascience.com/groupby-pandas-python/)"
   ]
  },
  {
   "cell_type": "markdown",
   "metadata": {
    "application/vnd.databricks.v1+cell": {
     "cellMetadata": {
      "byteLimit": 2048000,
      "rowLimit": 10000
     },
     "inputWidgets": {},
     "nuid": "877bd420-169f-4103-beda-e3d73e0d5915",
     "showTitle": false,
     "title": ""
    }
   },
   "source": [
    "The aggregation method `agg()`.\n",
    "\n",
    "- it is an alias for aggregate\n",
    "- it is used to pass a function or list of functions to be applied on a series or even each element of a series separately\n",
    "\n",
    "This can be done by passing the columns and functions within a dictionary like this:\n",
    "\n",
    "`our_dataset.agg({'First_column' : ['max', 'min'], 'Second_column' : ['mean', 'median']})`"
   ]
  },
  {
   "cell_type": "code",
   "execution_count": 0,
   "metadata": {
    "application/vnd.databricks.v1+cell": {
     "cellMetadata": {
      "byteLimit": 2048000,
      "rowLimit": 10000
     },
     "inputWidgets": {},
     "nuid": "f507ff6e-4779-4b1b-adf8-24fd4f7185c0",
     "showTitle": false,
     "title": ""
    }
   },
   "outputs": [],
   "source": [
    "# Compute maximum and minimum values for column 'Total Volume' and minimum and mean values for column 'Small Bags' using .agg()\n",
    "data.agg({'Total Volume' : ['max', 'min'], 'Small Bags' : ['min', 'mean']})"
   ]
  },
  {
   "cell_type": "markdown",
   "metadata": {
    "application/vnd.databricks.v1+cell": {
     "cellMetadata": {
      "byteLimit": 2048000,
      "rowLimit": 10000
     },
     "inputWidgets": {},
     "nuid": "cabd8af2-3b1e-4075-8cb8-4d520e6de762",
     "showTitle": false,
     "title": ""
    }
   },
   "source": [
    "We can pass `.agg()` also to our grouped object and compute statistics for selected column."
   ]
  },
  {
   "cell_type": "code",
   "execution_count": 0,
   "metadata": {
    "application/vnd.databricks.v1+cell": {
     "cellMetadata": {
      "byteLimit": 2048000,
      "rowLimit": 10000
     },
     "inputWidgets": {},
     "nuid": "97a29275-dc73-4ef6-ad9a-28300a8ee17e",
     "showTitle": false,
     "title": ""
    }
   },
   "outputs": [],
   "source": [
    "# Group the data based on the two columns 'region' and 'type'\n",
    "# Compute aggregations 'min','max' and 'mean' for 'AveragePrice'\n",
    "grouped = data.groupby(['region','type']).agg({'AveragePrice':['min','max','mean']})"
   ]
  },
  {
   "cell_type": "code",
   "execution_count": 0,
   "metadata": {
    "application/vnd.databricks.v1+cell": {
     "cellMetadata": {
      "byteLimit": 2048000,
      "rowLimit": 10000
     },
     "inputWidgets": {},
     "nuid": "b8f10054-b849-4273-8a66-4bdfcce4ca60",
     "showTitle": false,
     "title": ""
    }
   },
   "outputs": [],
   "source": [
    "grouped"
   ]
  },
  {
   "cell_type": "markdown",
   "metadata": {
    "application/vnd.databricks.v1+cell": {
     "cellMetadata": {
      "byteLimit": 2048000,
      "rowLimit": 10000
     },
     "inputWidgets": {},
     "nuid": "75a10e7b-51a5-458f-90e8-fa1ed67e6981",
     "showTitle": false,
     "title": ""
    }
   },
   "source": [
    "- within `agg()` we can have our custom function along with computing aggregation"
   ]
  },
  {
   "cell_type": "code",
   "execution_count": 0,
   "metadata": {
    "application/vnd.databricks.v1+cell": {
     "cellMetadata": {
      "byteLimit": 2048000,
      "rowLimit": 10000
     },
     "inputWidgets": {},
     "nuid": "bf2fe238-a262-415e-bde0-0a29f2d3c773",
     "showTitle": false,
     "title": ""
    }
   },
   "outputs": [],
   "source": [
    "# Write a function to compute 95th percentile on desired column using .quantile(0.95)\n",
    "def percentile_95(column):\n",
    "    return column.quantile(0.95)"
   ]
  },
  {
   "cell_type": "code",
   "execution_count": 0,
   "metadata": {
    "application/vnd.databricks.v1+cell": {
     "cellMetadata": {
      "byteLimit": 2048000,
      "rowLimit": 10000
     },
     "inputWidgets": {},
     "nuid": "1edef011-6347-4284-a642-56979c2a6b08",
     "showTitle": false,
     "title": ""
    }
   },
   "outputs": [],
   "source": [
    "# TASK 5 - HARD >>>> Get 95th percentile and mean values for columns: 'Small Bags','Large Bags','XLarge Bags' from DataFrame data, using .agg()\n",
    "\n",
    "data[['Small Bags','Large Bags','XLarge Bags']].agg([percentile_95, 'mean'])"
   ]
  },
  {
   "cell_type": "markdown",
   "metadata": {
    "application/vnd.databricks.v1+cell": {
     "cellMetadata": {
      "byteLimit": 2048000,
      "rowLimit": 10000
     },
     "inputWidgets": {},
     "nuid": "85de7ed7-4a8a-49fa-9bd3-bcafe29ba968",
     "showTitle": false,
     "title": ""
    }
   },
   "source": [
    "# 5. Bonus Task (HARD)\n",
    "\n",
    "`groupby()` can be useful when we want to look at the proportion of avocado's type. We would like to see what percentages of conventional and organic avocados have been sold. For example: 97 % and 3%.\n",
    "\n",
    "To reach this result:\n",
    "- Group the data by 'type' and obtain sums on the 'Total Volume' column, assign result to `volume_by_type`\n",
    "- Divide `volume_by_type` by the sum of all avocados. Assign the result to the variable `proportion`.\n",
    "- Print the proportion and optionally multiply it by 100 to obtain a figure in percentage"
   ]
  },
  {
   "cell_type": "code",
   "execution_count": 0,
   "metadata": {
    "application/vnd.databricks.v1+cell": {
     "cellMetadata": {
      "byteLimit": 2048000,
      "rowLimit": 10000
     },
     "inputWidgets": {},
     "nuid": "fc564c51-2037-4c8e-9f80-3324c59b6bc7",
     "showTitle": false,
     "title": ""
    }
   },
   "outputs": [],
   "source": [
    "# TASK 6 >>>> Group data based on their types and compute count of the Total Volume \n",
    "\n",
    "volume_by_type = data.groupby('type')['Total Volume'].sum()"
   ]
  },
  {
   "cell_type": "code",
   "execution_count": 0,
   "metadata": {
    "application/vnd.databricks.v1+cell": {
     "cellMetadata": {
      "byteLimit": 2048000,
      "rowLimit": 10000
     },
     "inputWidgets": {},
     "nuid": "cf47b404-ce86-4c33-9687-4b026f226f2c",
     "showTitle": false,
     "title": ""
    }
   },
   "outputs": [],
   "source": [
    "# TASK 6 >>>> Compute the proportion of the avocado's type\n",
    "\n",
    "proportion = volume_by_type / sum(volume_by_type)"
   ]
  },
  {
   "cell_type": "code",
   "execution_count": 0,
   "metadata": {
    "application/vnd.databricks.v1+cell": {
     "cellMetadata": {
      "byteLimit": 2048000,
      "rowLimit": 10000
     },
     "inputWidgets": {},
     "nuid": "ce08d90a-556d-4334-8fb8-9b1f2b012c65",
     "showTitle": false,
     "title": ""
    }
   },
   "outputs": [],
   "source": [
    "# TASK 6 >>>> Print the output multiply by 100\n",
    "\n",
    "print(proportion*100)"
   ]
  },
  {
   "cell_type": "markdown",
   "metadata": {
    "application/vnd.databricks.v1+cell": {
     "cellMetadata": {
      "byteLimit": 2048000,
      "rowLimit": 10000
     },
     "inputWidgets": {},
     "nuid": "8fef3b3e-0797-49f3-982b-cbab36c8bc1b",
     "showTitle": false,
     "title": ""
    }
   },
   "source": [
    "# 6. Appendix\n",
    "\n",
    "Data Source: https://www.kaggle.com/neuromusic/avocado-prices\n",
    "\n",
    "License: Database: Open Database, Contents: © Original Authors\n",
    "\n",
    "Material adapted for RBI internal purposes with full permissions from original authors. Source: https://github.com/zatkopatrik/authentic-data-science"
   ]
  }
 ],
 "metadata": {
  "application/vnd.databricks.v1+notebook": {
   "dashboards": [],
   "language": "python",
   "notebookMetadata": {
    "pythonIndentUnit": 2
   },
   "notebookName": "[Answer]2_Data_Aggregation_jupyter",
   "widgets": {}
  }
 },
 "nbformat": 4,
 "nbformat_minor": 0
}
