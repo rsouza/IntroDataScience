{
 "cells": [
  {
   "cell_type": "markdown",
   "metadata": {
    "application/vnd.databricks.v1+cell": {
     "cellMetadata": {},
     "inputWidgets": {},
     "nuid": "cdffc7e9-b296-4c14-998c-6be90b4e55df",
     "showTitle": false,
     "title": ""
    }
   },
   "source": [
    "# 1. Database-style DataFrame Merges\n",
    "\n",
    "Merge operations combine DataFrames on common columns or indices."
   ]
  },
  {
   "cell_type": "code",
   "execution_count": 3,
   "metadata": {
    "application/vnd.databricks.v1+cell": {
     "cellMetadata": {},
     "inputWidgets": {},
     "nuid": "0d63b6b6-d22d-430d-9072-e9cc5cb4c7c9",
     "showTitle": false,
     "title": ""
    }
   },
   "outputs": [],
   "source": [
    "# Import pandas as pd\n",
    "import pandas as pd\n",
    "from IPython.display import Image\n",
    "import warnings\n",
    "warnings.filterwarnings('ignore')"
   ]
  },
  {
   "cell_type": "code",
   "execution_count": 4,
   "metadata": {
    "application/vnd.databricks.v1+cell": {
     "cellMetadata": {},
     "inputWidgets": {},
     "nuid": "fb3c7b65-184e-45a8-9236-7a7de0c6b59a",
     "showTitle": false,
     "title": ""
    }
   },
   "outputs": [
    {
     "name": "stdout",
     "output_type": "stream",
     "text": [
      "  key  values_1\n",
      "0   A         0\n",
      "1   B         1\n",
      "2   C         2\n",
      "3   B         3\n",
      "4   E         4\n",
      "5   F         5\n",
      "6   A         6\n",
      "7   H         7\n",
      "8   A         8\n",
      "9   J         9\n"
     ]
    }
   ],
   "source": [
    "# Run this code\n",
    "data_1 = pd.DataFrame({'key':['A','B','C','B','E','F','A','H','A','J'],\n",
    "                      'values_1': range(10)})\n",
    "print(data_1)"
   ]
  },
  {
   "cell_type": "code",
   "execution_count": 5,
   "metadata": {
    "application/vnd.databricks.v1+cell": {
     "cellMetadata": {},
     "inputWidgets": {},
     "nuid": "43181ac3-7a56-440a-9295-0f4263ab1e0b",
     "showTitle": false,
     "title": ""
    }
   },
   "outputs": [
    {
     "name": "stdout",
     "output_type": "stream",
     "text": [
      "  key  values_2\n",
      "0   A         0\n",
      "1   B         1\n",
      "2   C         2\n"
     ]
    }
   ],
   "source": [
    "# Run this code\n",
    "data_2 = pd.DataFrame({'key':['A','B','C'],\n",
    "                       'values_2':range(3)})\n",
    "print(data_2)"
   ]
  },
  {
   "cell_type": "markdown",
   "metadata": {
    "application/vnd.databricks.v1+cell": {
     "cellMetadata": {},
     "inputWidgets": {},
     "nuid": "930dc463-44a8-4e04-84ff-bb1e4846915c",
     "showTitle": false,
     "title": ""
    }
   },
   "source": [
    "Our first DataFrame `data_1` has multiple rows with keys 'A' and 'B', whereas DataFrame `data_2` has only 1 row for each value in the `key` column. This is an example of `many-to-one` \\\\(^{1}\\\\) merge situation.\n",
    "\n",
    "By merging these 2 dataframes we obtain following result:"
   ]
  },
  {
   "cell_type": "code",
   "execution_count": 6,
   "metadata": {
    "application/vnd.databricks.v1+cell": {
     "cellMetadata": {},
     "inputWidgets": {},
     "nuid": "ed638d88-d12d-4062-9e02-5b10ac341308",
     "showTitle": false,
     "title": ""
    }
   },
   "outputs": [
    {
     "data": {
      "text/html": [
       "<div>\n",
       "<style scoped>\n",
       "    .dataframe tbody tr th:only-of-type {\n",
       "        vertical-align: middle;\n",
       "    }\n",
       "\n",
       "    .dataframe tbody tr th {\n",
       "        vertical-align: top;\n",
       "    }\n",
       "\n",
       "    .dataframe thead th {\n",
       "        text-align: right;\n",
       "    }\n",
       "</style>\n",
       "<table border=\"1\" class=\"dataframe\">\n",
       "  <thead>\n",
       "    <tr style=\"text-align: right;\">\n",
       "      <th></th>\n",
       "      <th>key</th>\n",
       "      <th>values_1</th>\n",
       "      <th>values_2</th>\n",
       "    </tr>\n",
       "  </thead>\n",
       "  <tbody>\n",
       "    <tr>\n",
       "      <th>0</th>\n",
       "      <td>A</td>\n",
       "      <td>0</td>\n",
       "      <td>0</td>\n",
       "    </tr>\n",
       "    <tr>\n",
       "      <th>1</th>\n",
       "      <td>A</td>\n",
       "      <td>6</td>\n",
       "      <td>0</td>\n",
       "    </tr>\n",
       "    <tr>\n",
       "      <th>2</th>\n",
       "      <td>A</td>\n",
       "      <td>8</td>\n",
       "      <td>0</td>\n",
       "    </tr>\n",
       "    <tr>\n",
       "      <th>3</th>\n",
       "      <td>B</td>\n",
       "      <td>1</td>\n",
       "      <td>1</td>\n",
       "    </tr>\n",
       "    <tr>\n",
       "      <th>4</th>\n",
       "      <td>B</td>\n",
       "      <td>3</td>\n",
       "      <td>1</td>\n",
       "    </tr>\n",
       "    <tr>\n",
       "      <th>5</th>\n",
       "      <td>C</td>\n",
       "      <td>2</td>\n",
       "      <td>2</td>\n",
       "    </tr>\n",
       "  </tbody>\n",
       "</table>\n",
       "</div>"
      ],
      "text/plain": [
       "  key  values_1  values_2\n",
       "0   A         0         0\n",
       "1   A         6         0\n",
       "2   A         8         0\n",
       "3   B         1         1\n",
       "4   B         3         1\n",
       "5   C         2         2"
      ]
     },
     "execution_count": 6,
     "metadata": {},
     "output_type": "execute_result"
    }
   ],
   "source": [
    "# Merge data_1 and data_2\n",
    "pd.merge(data_1, data_2)"
   ]
  },
  {
   "cell_type": "markdown",
   "metadata": {
    "application/vnd.databricks.v1+cell": {
     "cellMetadata": {},
     "inputWidgets": {},
     "nuid": "8188b52f-4583-4481-bc87-7f995f3ab24b",
     "showTitle": false,
     "title": ""
    }
   },
   "source": [
    "Our DataFrames have the same column `key ` and in this case `.merge()` uses the overlapping column named as `keys` to join on. However it is a good practice to specify explicitly the `key` column like this:"
   ]
  },
  {
   "cell_type": "code",
   "execution_count": 7,
   "metadata": {
    "application/vnd.databricks.v1+cell": {
     "cellMetadata": {},
     "inputWidgets": {},
     "nuid": "0e6f2d70-ccb8-43ce-acd1-26ef91a312f6",
     "showTitle": false,
     "title": ""
    }
   },
   "outputs": [
    {
     "data": {
      "text/html": [
       "<div>\n",
       "<style scoped>\n",
       "    .dataframe tbody tr th:only-of-type {\n",
       "        vertical-align: middle;\n",
       "    }\n",
       "\n",
       "    .dataframe tbody tr th {\n",
       "        vertical-align: top;\n",
       "    }\n",
       "\n",
       "    .dataframe thead th {\n",
       "        text-align: right;\n",
       "    }\n",
       "</style>\n",
       "<table border=\"1\" class=\"dataframe\">\n",
       "  <thead>\n",
       "    <tr style=\"text-align: right;\">\n",
       "      <th></th>\n",
       "      <th>key</th>\n",
       "      <th>values_1</th>\n",
       "      <th>values_2</th>\n",
       "    </tr>\n",
       "  </thead>\n",
       "  <tbody>\n",
       "    <tr>\n",
       "      <th>0</th>\n",
       "      <td>A</td>\n",
       "      <td>0</td>\n",
       "      <td>0</td>\n",
       "    </tr>\n",
       "    <tr>\n",
       "      <th>1</th>\n",
       "      <td>A</td>\n",
       "      <td>6</td>\n",
       "      <td>0</td>\n",
       "    </tr>\n",
       "    <tr>\n",
       "      <th>2</th>\n",
       "      <td>A</td>\n",
       "      <td>8</td>\n",
       "      <td>0</td>\n",
       "    </tr>\n",
       "    <tr>\n",
       "      <th>3</th>\n",
       "      <td>B</td>\n",
       "      <td>1</td>\n",
       "      <td>1</td>\n",
       "    </tr>\n",
       "    <tr>\n",
       "      <th>4</th>\n",
       "      <td>B</td>\n",
       "      <td>3</td>\n",
       "      <td>1</td>\n",
       "    </tr>\n",
       "    <tr>\n",
       "      <th>5</th>\n",
       "      <td>C</td>\n",
       "      <td>2</td>\n",
       "      <td>2</td>\n",
       "    </tr>\n",
       "  </tbody>\n",
       "</table>\n",
       "</div>"
      ],
      "text/plain": [
       "  key  values_1  values_2\n",
       "0   A         0         0\n",
       "1   A         6         0\n",
       "2   A         8         0\n",
       "3   B         1         1\n",
       "4   B         3         1\n",
       "5   C         2         2"
      ]
     },
     "execution_count": 7,
     "metadata": {},
     "output_type": "execute_result"
    }
   ],
   "source": [
    "# Merge data_1 and data_2, specify key column\n",
    "pd.merge(data_1, data_2, on = 'key')"
   ]
  },
  {
   "cell_type": "markdown",
   "metadata": {
    "application/vnd.databricks.v1+cell": {
     "cellMetadata": {},
     "inputWidgets": {},
     "nuid": "b4d532b2-99e9-4849-b07d-633ed382b41f",
     "showTitle": false,
     "title": ""
    }
   },
   "source": [
    "As you can notice 'E', 'F', 'H', 'J'  and associated data are missing from the result. It is because `merge()` acts with 'inner' merge (join) by default. However, we can explicitly specify it using `how = 'inner'`\n",
    "\n",
    "**inner join** (or inner merge) keeps only those values that have a common key in both DataFrames, in our case 'A', 'B' and 'C'. \n",
    "\n",
    "\n",
    "Other possible options are:\n",
    " \n",
    "- **left join** (left outer join)\n",
    "\n",
    "We specify `how = 'left'`: it keeps each row from the left DataFrame and only those from the right DataFrame that match. Non-matching values are replaced with NaNs.\n",
    "\n",
    "\n",
    "- **right join** (right outer join)\n",
    "\n",
    "We specify `how = 'right'`: it is the opposite of left join. Non-matching values are filled with NaNs as well.\n",
    "\n",
    "- **outer** (full outer join)\n",
    "\n",
    "We specify `how = 'outer'`: it takes the union of the keys and applies both left and right join\n",
    "\n",
    "Run the following code to see these merging strategies \\\\(^{2}\\\\)."
   ]
  },
  {
   "cell_type": "code",
   "execution_count": 8,
   "metadata": {
    "application/vnd.databricks.v1+cell": {
     "cellMetadata": {},
     "inputWidgets": {},
     "nuid": "3796de67-a04f-4f63-9b23-9595a29bc4a3",
     "showTitle": false,
     "title": ""
    }
   },
   "outputs": [
    {
     "data": {
      "image/png": "[encoded data removed]",
      "text/plain": [
       "<IPython.core.display.Image object>"
      ]
     },
     "execution_count": 8,
     "metadata": {},
     "output_type": "execute_result"
    }
   ],
   "source": [
    "# Run this to print merging strategies\n",
    "Image(filename='./Images/merging.png')"
   ]
  },
  {
   "cell_type": "code",
   "execution_count": 9,
   "metadata": {
    "application/vnd.databricks.v1+cell": {
     "cellMetadata": {},
     "inputWidgets": {},
     "nuid": "6151311b-d3fa-4e91-aa3c-7558b2654b1c",
     "showTitle": false,
     "title": ""
    }
   },
   "outputs": [
    {
     "data": {
      "text/html": [
       "<div>\n",
       "<style scoped>\n",
       "    .dataframe tbody tr th:only-of-type {\n",
       "        vertical-align: middle;\n",
       "    }\n",
       "\n",
       "    .dataframe tbody tr th {\n",
       "        vertical-align: top;\n",
       "    }\n",
       "\n",
       "    .dataframe thead th {\n",
       "        text-align: right;\n",
       "    }\n",
       "</style>\n",
       "<table border=\"1\" class=\"dataframe\">\n",
       "  <thead>\n",
       "    <tr style=\"text-align: right;\">\n",
       "      <th></th>\n",
       "      <th>key</th>\n",
       "      <th>values_1</th>\n",
       "      <th>values_2</th>\n",
       "    </tr>\n",
       "  </thead>\n",
       "  <tbody>\n",
       "    <tr>\n",
       "      <th>0</th>\n",
       "      <td>A</td>\n",
       "      <td>0</td>\n",
       "      <td>0.0</td>\n",
       "    </tr>\n",
       "    <tr>\n",
       "      <th>1</th>\n",
       "      <td>B</td>\n",
       "      <td>1</td>\n",
       "      <td>1.0</td>\n",
       "    </tr>\n",
       "    <tr>\n",
       "      <th>2</th>\n",
       "      <td>C</td>\n",
       "      <td>2</td>\n",
       "      <td>2.0</td>\n",
       "    </tr>\n",
       "    <tr>\n",
       "      <th>3</th>\n",
       "      <td>B</td>\n",
       "      <td>3</td>\n",
       "      <td>1.0</td>\n",
       "    </tr>\n",
       "    <tr>\n",
       "      <th>4</th>\n",
       "      <td>E</td>\n",
       "      <td>4</td>\n",
       "      <td>NaN</td>\n",
       "    </tr>\n",
       "    <tr>\n",
       "      <th>5</th>\n",
       "      <td>F</td>\n",
       "      <td>5</td>\n",
       "      <td>NaN</td>\n",
       "    </tr>\n",
       "    <tr>\n",
       "      <th>6</th>\n",
       "      <td>A</td>\n",
       "      <td>6</td>\n",
       "      <td>0.0</td>\n",
       "    </tr>\n",
       "    <tr>\n",
       "      <th>7</th>\n",
       "      <td>H</td>\n",
       "      <td>7</td>\n",
       "      <td>NaN</td>\n",
       "    </tr>\n",
       "    <tr>\n",
       "      <th>8</th>\n",
       "      <td>A</td>\n",
       "      <td>8</td>\n",
       "      <td>0.0</td>\n",
       "    </tr>\n",
       "    <tr>\n",
       "      <th>9</th>\n",
       "      <td>J</td>\n",
       "      <td>9</td>\n",
       "      <td>NaN</td>\n",
       "    </tr>\n",
       "  </tbody>\n",
       "</table>\n",
       "</div>"
      ],
      "text/plain": [
       "  key  values_1  values_2\n",
       "0   A         0       0.0\n",
       "1   B         1       1.0\n",
       "2   C         2       2.0\n",
       "3   B         3       1.0\n",
       "4   E         4       NaN\n",
       "5   F         5       NaN\n",
       "6   A         6       0.0\n",
       "7   H         7       NaN\n",
       "8   A         8       0.0\n",
       "9   J         9       NaN"
      ]
     },
     "execution_count": 9,
     "metadata": {},
     "output_type": "execute_result"
    }
   ],
   "source": [
    "# Merge the DataFrames data_1 and data_2 with left join\n",
    "pd.merge(data_1, data_2, on = 'key', how = 'left')"
   ]
  },
  {
   "cell_type": "code",
   "execution_count": 10,
   "metadata": {
    "application/vnd.databricks.v1+cell": {
     "cellMetadata": {},
     "inputWidgets": {},
     "nuid": "b5edbe00-c5d1-40d0-9a62-69c5998553d0",
     "showTitle": false,
     "title": ""
    }
   },
   "outputs": [],
   "source": [
    "# TASK 1 >>>> Merge the dataframes data_1 and data_2 on 'key', specify right join"
   ]
  },
  {
   "cell_type": "code",
   "execution_count": 11,
   "metadata": {
    "application/vnd.databricks.v1+cell": {
     "cellMetadata": {},
     "inputWidgets": {},
     "nuid": "6a30d8dd-79ee-4c39-a79c-2dd33cfac873",
     "showTitle": false,
     "title": ""
    }
   },
   "outputs": [],
   "source": [
    "# TASK 2 >>>> Merge the dataframes data_1 and data_2 on 'key', specify full outer join"
   ]
  },
  {
   "cell_type": "markdown",
   "metadata": {
    "application/vnd.databricks.v1+cell": {
     "cellMetadata": {},
     "inputWidgets": {},
     "nuid": "5c820caa-6565-4c48-94d3-5e6b940f18f9",
     "showTitle": false,
     "title": ""
    }
   },
   "source": [
    "If the key column names are different in each DataFrame object, we can specify them separately.\n",
    "\n",
    "- for the left DataFrame: `left_on`\n",
    "- for the right DataFrame: `right_on`"
   ]
  },
  {
   "cell_type": "code",
   "execution_count": 12,
   "metadata": {
    "application/vnd.databricks.v1+cell": {
     "cellMetadata": {},
     "inputWidgets": {},
     "nuid": "a1f00984-ba26-4245-b61c-e47d1ba790e0",
     "showTitle": false,
     "title": ""
    }
   },
   "outputs": [
    {
     "name": "stdout",
     "output_type": "stream",
     "text": [
      "  key_left  values\n",
      "0        E       0\n",
      "1        F       1\n",
      "2        G       2\n",
      "3        H       3\n",
      "4        I       4\n",
      "5        J       5\n"
     ]
    }
   ],
   "source": [
    "# Run this code\n",
    "data_3 = pd.DataFrame({'key_left': ['E','F','G','H','I','J'],\n",
    "                       'values': range(6)})\n",
    "print(data_3)"
   ]
  },
  {
   "cell_type": "code",
   "execution_count": 13,
   "metadata": {
    "application/vnd.databricks.v1+cell": {
     "cellMetadata": {},
     "inputWidgets": {},
     "nuid": "1433ae8d-4b71-4d89-8691-323e3e799dab",
     "showTitle": false,
     "title": ""
    }
   },
   "outputs": [
    {
     "name": "stdout",
     "output_type": "stream",
     "text": [
      "  key_right  values_2\n",
      "0         D         0\n",
      "1         E         1\n",
      "2         F         2\n",
      "3         G         3\n"
     ]
    }
   ],
   "source": [
    "# Run this code\n",
    "data_4 = pd.DataFrame({'key_right': ['D','E','F','G'],\n",
    "                       'values_2': range(4)})\n",
    "print(data_4)"
   ]
  },
  {
   "cell_type": "code",
   "execution_count": 14,
   "metadata": {
    "application/vnd.databricks.v1+cell": {
     "cellMetadata": {},
     "inputWidgets": {},
     "nuid": "2f38b287-cc0c-40c1-ae6c-68b219199205",
     "showTitle": false,
     "title": ""
    }
   },
   "outputs": [
    {
     "data": {
      "text/html": [
       "<div>\n",
       "<style scoped>\n",
       "    .dataframe tbody tr th:only-of-type {\n",
       "        vertical-align: middle;\n",
       "    }\n",
       "\n",
       "    .dataframe tbody tr th {\n",
       "        vertical-align: top;\n",
       "    }\n",
       "\n",
       "    .dataframe thead th {\n",
       "        text-align: right;\n",
       "    }\n",
       "</style>\n",
       "<table border=\"1\" class=\"dataframe\">\n",
       "  <thead>\n",
       "    <tr style=\"text-align: right;\">\n",
       "      <th></th>\n",
       "      <th>key_left</th>\n",
       "      <th>values</th>\n",
       "      <th>key_right</th>\n",
       "      <th>values_2</th>\n",
       "    </tr>\n",
       "  </thead>\n",
       "  <tbody>\n",
       "    <tr>\n",
       "      <th>0</th>\n",
       "      <td>E</td>\n",
       "      <td>0</td>\n",
       "      <td>E</td>\n",
       "      <td>1</td>\n",
       "    </tr>\n",
       "    <tr>\n",
       "      <th>1</th>\n",
       "      <td>F</td>\n",
       "      <td>1</td>\n",
       "      <td>F</td>\n",
       "      <td>2</td>\n",
       "    </tr>\n",
       "    <tr>\n",
       "      <th>2</th>\n",
       "      <td>G</td>\n",
       "      <td>2</td>\n",
       "      <td>G</td>\n",
       "      <td>3</td>\n",
       "    </tr>\n",
       "  </tbody>\n",
       "</table>\n",
       "</div>"
      ],
      "text/plain": [
       "  key_left  values key_right  values_2\n",
       "0        E       0         E         1\n",
       "1        F       1         F         2\n",
       "2        G       2         G         3"
      ]
     },
     "execution_count": 14,
     "metadata": {},
     "output_type": "execute_result"
    }
   ],
   "source": [
    "# Merge the DataFrames data_3 and data_4, specify left and right keys to join on\n",
    "# Specify inner join \n",
    "pd.merge(data_3, data_4, left_on= 'key_left', right_on= 'key_right', how = 'inner')"
   ]
  },
  {
   "cell_type": "code",
   "execution_count": 15,
   "metadata": {
    "application/vnd.databricks.v1+cell": {
     "cellMetadata": {},
     "inputWidgets": {},
     "nuid": "6ebafda2-d8f0-4d9a-b33d-4990a8d0e42e",
     "showTitle": false,
     "title": ""
    }
   },
   "outputs": [
    {
     "name": "stdout",
     "output_type": "stream",
     "text": [
      "      key  values\n",
      "0     red       0\n",
      "1   black       1\n",
      "2  yellow       2\n",
      "3   green       3\n",
      "4   black       4\n",
      "5    pink       5\n",
      "6   white       6\n",
      "7   black       7\n"
     ]
    }
   ],
   "source": [
    "# Run this code\n",
    "df_1 = pd.DataFrame({'key': ['red','black','yellow','green','black','pink','white','black'],\n",
    "                     'values': range(8)})\n",
    "print(df_1)"
   ]
  },
  {
   "cell_type": "code",
   "execution_count": 16,
   "metadata": {
    "application/vnd.databricks.v1+cell": {
     "cellMetadata": {},
     "inputWidgets": {},
     "nuid": "d59df656-ee7c-4d23-a79b-841a7f27816e",
     "showTitle": false,
     "title": ""
    }
   },
   "outputs": [
    {
     "name": "stdout",
     "output_type": "stream",
     "text": [
      "      key  values\n",
      "0   white       0\n",
      "1    pink       1\n",
      "2    gray       2\n",
      "3  yellow       3\n",
      "4   black       4\n",
      "5   black       5\n",
      "6   black       6\n"
     ]
    }
   ],
   "source": [
    "# Run this code\n",
    "df_2 = pd.DataFrame({'key': ['white','pink','gray','yellow','black','black','black'],\n",
    "                     'values': range(7)})\n",
    "print(df_2)"
   ]
  },
  {
   "cell_type": "code",
   "execution_count": 17,
   "metadata": {
    "application/vnd.databricks.v1+cell": {
     "cellMetadata": {},
     "inputWidgets": {},
     "nuid": "1cde3ff6-e923-4702-ba76-a91635925119",
     "showTitle": false,
     "title": ""
    }
   },
   "outputs": [
    {
     "data": {
      "text/html": [
       "<div>\n",
       "<style scoped>\n",
       "    .dataframe tbody tr th:only-of-type {\n",
       "        vertical-align: middle;\n",
       "    }\n",
       "\n",
       "    .dataframe tbody tr th {\n",
       "        vertical-align: top;\n",
       "    }\n",
       "\n",
       "    .dataframe thead th {\n",
       "        text-align: right;\n",
       "    }\n",
       "</style>\n",
       "<table border=\"1\" class=\"dataframe\">\n",
       "  <thead>\n",
       "    <tr style=\"text-align: right;\">\n",
       "      <th></th>\n",
       "      <th>key</th>\n",
       "      <th>values_x</th>\n",
       "      <th>values_y</th>\n",
       "    </tr>\n",
       "  </thead>\n",
       "  <tbody>\n",
       "    <tr>\n",
       "      <th>0</th>\n",
       "      <td>red</td>\n",
       "      <td>0</td>\n",
       "      <td>NaN</td>\n",
       "    </tr>\n",
       "    <tr>\n",
       "      <th>1</th>\n",
       "      <td>black</td>\n",
       "      <td>1</td>\n",
       "      <td>4.0</td>\n",
       "    </tr>\n",
       "    <tr>\n",
       "      <th>2</th>\n",
       "      <td>black</td>\n",
       "      <td>1</td>\n",
       "      <td>5.0</td>\n",
       "    </tr>\n",
       "    <tr>\n",
       "      <th>3</th>\n",
       "      <td>black</td>\n",
       "      <td>1</td>\n",
       "      <td>6.0</td>\n",
       "    </tr>\n",
       "    <tr>\n",
       "      <th>4</th>\n",
       "      <td>yellow</td>\n",
       "      <td>2</td>\n",
       "      <td>3.0</td>\n",
       "    </tr>\n",
       "    <tr>\n",
       "      <th>5</th>\n",
       "      <td>green</td>\n",
       "      <td>3</td>\n",
       "      <td>NaN</td>\n",
       "    </tr>\n",
       "    <tr>\n",
       "      <th>6</th>\n",
       "      <td>black</td>\n",
       "      <td>4</td>\n",
       "      <td>4.0</td>\n",
       "    </tr>\n",
       "    <tr>\n",
       "      <th>7</th>\n",
       "      <td>black</td>\n",
       "      <td>4</td>\n",
       "      <td>5.0</td>\n",
       "    </tr>\n",
       "    <tr>\n",
       "      <th>8</th>\n",
       "      <td>black</td>\n",
       "      <td>4</td>\n",
       "      <td>6.0</td>\n",
       "    </tr>\n",
       "    <tr>\n",
       "      <th>9</th>\n",
       "      <td>pink</td>\n",
       "      <td>5</td>\n",
       "      <td>1.0</td>\n",
       "    </tr>\n",
       "    <tr>\n",
       "      <th>10</th>\n",
       "      <td>white</td>\n",
       "      <td>6</td>\n",
       "      <td>0.0</td>\n",
       "    </tr>\n",
       "    <tr>\n",
       "      <th>11</th>\n",
       "      <td>black</td>\n",
       "      <td>7</td>\n",
       "      <td>4.0</td>\n",
       "    </tr>\n",
       "    <tr>\n",
       "      <th>12</th>\n",
       "      <td>black</td>\n",
       "      <td>7</td>\n",
       "      <td>5.0</td>\n",
       "    </tr>\n",
       "    <tr>\n",
       "      <th>13</th>\n",
       "      <td>black</td>\n",
       "      <td>7</td>\n",
       "      <td>6.0</td>\n",
       "    </tr>\n",
       "  </tbody>\n",
       "</table>\n",
       "</div>"
      ],
      "text/plain": [
       "       key  values_x  values_y\n",
       "0      red         0       NaN\n",
       "1    black         1       4.0\n",
       "2    black         1       5.0\n",
       "3    black         1       6.0\n",
       "4   yellow         2       3.0\n",
       "5    green         3       NaN\n",
       "6    black         4       4.0\n",
       "7    black         4       5.0\n",
       "8    black         4       6.0\n",
       "9     pink         5       1.0\n",
       "10   white         6       0.0\n",
       "11   black         7       4.0\n",
       "12   black         7       5.0\n",
       "13   black         7       6.0"
      ]
     },
     "execution_count": 17,
     "metadata": {},
     "output_type": "execute_result"
    }
   ],
   "source": [
    "# Merge df_1 and df_2 on 'key', specify left join\n",
    "pd.merge(df_1, df_2, on = 'key', how = 'left')"
   ]
  },
  {
   "cell_type": "markdown",
   "metadata": {
    "application/vnd.databricks.v1+cell": {
     "cellMetadata": {},
     "inputWidgets": {},
     "nuid": "43e28521-4054-4e7a-a224-e50f4282b294",
     "showTitle": false,
     "title": ""
    }
   },
   "source": [
    "This is _many-to-many_ \\\\(^{1}\\\\) join situation which creates **Cartesian product** of the rows. In the result we can see we have 9 'black' rows. It is because there are 3 'black' rows in the left DataFrame `df_1` and 3 'black' rows in the right DataFrame `df_2`, so in the result we have every combination of rows where the key is equal to 'black'.\n",
    "\n",
    "As you can see `merge()` automatically renames the columns as 'values_x' and 'values_y' to distinguish where the values belong to. We can explicitly specify these column's names with the 'suffixes' option. We only need to pass the desired names into the list like this: `suffixes=['_from_df1', '_from_df2']`."
   ]
  },
  {
   "cell_type": "code",
   "execution_count": 18,
   "metadata": {
    "application/vnd.databricks.v1+cell": {
     "cellMetadata": {},
     "inputWidgets": {},
     "nuid": "aa9756e2-afec-4039-a80c-cc22db5504f9",
     "showTitle": false,
     "title": ""
    }
   },
   "outputs": [
    {
     "data": {
      "text/html": [
       "<div>\n",
       "<style scoped>\n",
       "    .dataframe tbody tr th:only-of-type {\n",
       "        vertical-align: middle;\n",
       "    }\n",
       "\n",
       "    .dataframe tbody tr th {\n",
       "        vertical-align: top;\n",
       "    }\n",
       "\n",
       "    .dataframe thead th {\n",
       "        text-align: right;\n",
       "    }\n",
       "</style>\n",
       "<table border=\"1\" class=\"dataframe\">\n",
       "  <thead>\n",
       "    <tr style=\"text-align: right;\">\n",
       "      <th></th>\n",
       "      <th>key</th>\n",
       "      <th>values_from_df1</th>\n",
       "      <th>values_from_df2</th>\n",
       "    </tr>\n",
       "  </thead>\n",
       "  <tbody>\n",
       "    <tr>\n",
       "      <th>0</th>\n",
       "      <td>red</td>\n",
       "      <td>0</td>\n",
       "      <td>NaN</td>\n",
       "    </tr>\n",
       "    <tr>\n",
       "      <th>1</th>\n",
       "      <td>black</td>\n",
       "      <td>1</td>\n",
       "      <td>4.0</td>\n",
       "    </tr>\n",
       "    <tr>\n",
       "      <th>2</th>\n",
       "      <td>black</td>\n",
       "      <td>1</td>\n",
       "      <td>5.0</td>\n",
       "    </tr>\n",
       "    <tr>\n",
       "      <th>3</th>\n",
       "      <td>black</td>\n",
       "      <td>1</td>\n",
       "      <td>6.0</td>\n",
       "    </tr>\n",
       "    <tr>\n",
       "      <th>4</th>\n",
       "      <td>yellow</td>\n",
       "      <td>2</td>\n",
       "      <td>3.0</td>\n",
       "    </tr>\n",
       "    <tr>\n",
       "      <th>5</th>\n",
       "      <td>green</td>\n",
       "      <td>3</td>\n",
       "      <td>NaN</td>\n",
       "    </tr>\n",
       "    <tr>\n",
       "      <th>6</th>\n",
       "      <td>black</td>\n",
       "      <td>4</td>\n",
       "      <td>4.0</td>\n",
       "    </tr>\n",
       "    <tr>\n",
       "      <th>7</th>\n",
       "      <td>black</td>\n",
       "      <td>4</td>\n",
       "      <td>5.0</td>\n",
       "    </tr>\n",
       "    <tr>\n",
       "      <th>8</th>\n",
       "      <td>black</td>\n",
       "      <td>4</td>\n",
       "      <td>6.0</td>\n",
       "    </tr>\n",
       "    <tr>\n",
       "      <th>9</th>\n",
       "      <td>pink</td>\n",
       "      <td>5</td>\n",
       "      <td>1.0</td>\n",
       "    </tr>\n",
       "    <tr>\n",
       "      <th>10</th>\n",
       "      <td>white</td>\n",
       "      <td>6</td>\n",
       "      <td>0.0</td>\n",
       "    </tr>\n",
       "    <tr>\n",
       "      <th>11</th>\n",
       "      <td>black</td>\n",
       "      <td>7</td>\n",
       "      <td>4.0</td>\n",
       "    </tr>\n",
       "    <tr>\n",
       "      <th>12</th>\n",
       "      <td>black</td>\n",
       "      <td>7</td>\n",
       "      <td>5.0</td>\n",
       "    </tr>\n",
       "    <tr>\n",
       "      <th>13</th>\n",
       "      <td>black</td>\n",
       "      <td>7</td>\n",
       "      <td>6.0</td>\n",
       "    </tr>\n",
       "  </tbody>\n",
       "</table>\n",
       "</div>"
      ],
      "text/plain": [
       "       key  values_from_df1  values_from_df2\n",
       "0      red                0              NaN\n",
       "1    black                1              4.0\n",
       "2    black                1              5.0\n",
       "3    black                1              6.0\n",
       "4   yellow                2              3.0\n",
       "5    green                3              NaN\n",
       "6    black                4              4.0\n",
       "7    black                4              5.0\n",
       "8    black                4              6.0\n",
       "9     pink                5              1.0\n",
       "10   white                6              0.0\n",
       "11   black                7              4.0\n",
       "12   black                7              5.0\n",
       "13   black                7              6.0"
      ]
     },
     "execution_count": 18,
     "metadata": {},
     "output_type": "execute_result"
    }
   ],
   "source": [
    "# Merge df_1 and df_2 on 'key', specify left join\n",
    "# Set parameter suffixes=[]\n",
    "pd.merge(df_1, df_2, on = 'key', how = 'left', suffixes=['_from_df1', '_from_df2'])"
   ]
  },
  {
   "cell_type": "markdown",
   "metadata": {
    "application/vnd.databricks.v1+cell": {
     "cellMetadata": {},
     "inputWidgets": {},
     "nuid": "3a60b4c7-a989-402c-87d5-dd099541cf22",
     "showTitle": false,
     "title": ""
    }
   },
   "source": [
    "- if we want to merge with multiple keys we have to pass a list of columns names:"
   ]
  },
  {
   "cell_type": "code",
   "execution_count": 19,
   "metadata": {
    "application/vnd.databricks.v1+cell": {
     "cellMetadata": {},
     "inputWidgets": {},
     "nuid": "b48d7126-2fed-4495-ab95-84ba0b9847fb",
     "showTitle": false,
     "title": ""
    }
   },
   "outputs": [
    {
     "name": "stdout",
     "output_type": "stream",
     "text": [
      "        key_1  key_2  values_1\n",
      "0       apple    yes         0\n",
      "1      banana  maybe         1\n",
      "2     coconut  maybe         2\n",
      "3   pineapple    yes         3\n",
      "4  strawberry     no         4\n"
     ]
    }
   ],
   "source": [
    "# Run this code\n",
    "df_3 = pd.DataFrame({'key_1':['apple','banana','coconut','pineapple','strawberry'],\n",
    "                     'key_2':['yes','maybe','maybe','yes','no'],\n",
    "                     'values_1': range(5)})\n",
    "print(df_3)"
   ]
  },
  {
   "cell_type": "code",
   "execution_count": 20,
   "metadata": {
    "application/vnd.databricks.v1+cell": {
     "cellMetadata": {},
     "inputWidgets": {},
     "nuid": "9082d516-8c9b-498b-96e9-0e920704e3bf",
     "showTitle": false,
     "title": ""
    }
   },
   "outputs": [
    {
     "name": "stdout",
     "output_type": "stream",
     "text": [
      "        key_1  key_2  values_1\n",
      "0       apple     no         0\n",
      "1      banana  maybe         1\n",
      "2     coconut    yes         2\n",
      "3  strawberry     no         3\n",
      "4  strawberry     no         4\n"
     ]
    }
   ],
   "source": [
    "# Run this code\n",
    "df_4 = pd.DataFrame({'key_1':['apple','banana','coconut','strawberry','strawberry'],\n",
    "                     'key_2':['no','maybe','yes','no','no'],\n",
    "                     'values_1': range(5)})\n",
    "print(df_4)"
   ]
  },
  {
   "cell_type": "code",
   "execution_count": 21,
   "metadata": {
    "application/vnd.databricks.v1+cell": {
     "cellMetadata": {},
     "inputWidgets": {},
     "nuid": "135ec40a-0dd2-4005-8bbb-f8928628f80e",
     "showTitle": false,
     "title": ""
    }
   },
   "outputs": [
    {
     "data": {
      "text/html": [
       "<div>\n",
       "<style scoped>\n",
       "    .dataframe tbody tr th:only-of-type {\n",
       "        vertical-align: middle;\n",
       "    }\n",
       "\n",
       "    .dataframe tbody tr th {\n",
       "        vertical-align: top;\n",
       "    }\n",
       "\n",
       "    .dataframe thead th {\n",
       "        text-align: right;\n",
       "    }\n",
       "</style>\n",
       "<table border=\"1\" class=\"dataframe\">\n",
       "  <thead>\n",
       "    <tr style=\"text-align: right;\">\n",
       "      <th></th>\n",
       "      <th>key_1</th>\n",
       "      <th>key_2</th>\n",
       "      <th>values_1_x</th>\n",
       "      <th>values_1_y</th>\n",
       "    </tr>\n",
       "  </thead>\n",
       "  <tbody>\n",
       "    <tr>\n",
       "      <th>0</th>\n",
       "      <td>banana</td>\n",
       "      <td>maybe</td>\n",
       "      <td>1</td>\n",
       "      <td>1</td>\n",
       "    </tr>\n",
       "    <tr>\n",
       "      <th>1</th>\n",
       "      <td>strawberry</td>\n",
       "      <td>no</td>\n",
       "      <td>4</td>\n",
       "      <td>3</td>\n",
       "    </tr>\n",
       "    <tr>\n",
       "      <th>2</th>\n",
       "      <td>strawberry</td>\n",
       "      <td>no</td>\n",
       "      <td>4</td>\n",
       "      <td>4</td>\n",
       "    </tr>\n",
       "  </tbody>\n",
       "</table>\n",
       "</div>"
      ],
      "text/plain": [
       "        key_1  key_2  values_1_x  values_1_y\n",
       "0      banana  maybe           1           1\n",
       "1  strawberry     no           4           3\n",
       "2  strawberry     no           4           4"
      ]
     },
     "execution_count": 21,
     "metadata": {},
     "output_type": "execute_result"
    }
   ],
   "source": [
    "# Merge DataFrames df_3 and df_4 on column keys 'key_1' and 'key_2' passed within the list and specify inner join\n",
    "pd.merge(df_3, df_4, on = ['key_1', 'key_2'], how = 'inner')"
   ]
  },
  {
   "cell_type": "markdown",
   "metadata": {
    "application/vnd.databricks.v1+cell": {
     "cellMetadata": {},
     "inputWidgets": {},
     "nuid": "a94c32d4-d431-4f30-b478-7edc5749bb4f",
     "showTitle": false,
     "title": ""
    }
   },
   "source": [
    "# 2. Advanced and Alternative Methods (READ-AND-PLAY)\n",
    "If you are familiar and fine with using the merge method, you should be good to go. You might however stumble also upon some alternative, sometimes more complex methods, for doing similar things. Let's read through those."
   ]
  },
  {
   "cell_type": "markdown",
   "metadata": {
    "application/vnd.databricks.v1+cell": {
     "cellMetadata": {},
     "inputWidgets": {},
     "nuid": "dbcebb44-7688-4a50-a150-4e4b2b5ccbe2",
     "showTitle": false,
     "title": ""
    }
   },
   "source": [
    "## 2.1 Merging DataFrames on the Index\n",
    "\n",
    "Our key(s) columns for merging can be found in a DataFrame as an index. In this case we can use the parameters `left_index = True` or `right_index = True` (or both) to indicate that the index should be used as the merge key.\n",
    "\n",
    "- `left_index` : bool (default False)\n",
    "   - if True will choose index from left DataFrame as join key\n",
    "- `right_index` : bool (default False)\n",
    "   - if True will choose index from right DataFrame as join key"
   ]
  },
  {
   "cell_type": "code",
   "execution_count": 22,
   "metadata": {
    "application/vnd.databricks.v1+cell": {
     "cellMetadata": {},
     "inputWidgets": {},
     "nuid": "599d5021-79ab-4be6-ab87-33feb02a7740",
     "showTitle": false,
     "title": ""
    }
   },
   "outputs": [
    {
     "name": "stdout",
     "output_type": "stream",
     "text": [
      "           first_name  age      city  score\n",
      "student_id                                 \n",
      "1              Robert   30  Slovakia     26\n",
      "2                Jana   29    Sweden     27\n",
      "3              Martin   31    Sweden     26\n",
      "4            Kristina   26   Germany     30\n",
      "5               Peter   33   Austria     22\n",
      "6              Nikola   25       USA     23\n",
      "7              Renato   35    Brazil     26\n"
     ]
    }
   ],
   "source": [
    "# Run this code\n",
    "students = [(1, 'Robert', 30, 'Slovakia', 26),\n",
    "           (2, 'Jana', 29, 'Sweden' , 27),\n",
    "           (3, 'Martin', 31, 'Sweden', 26),\n",
    "           (4, 'Kristina', 26,'Germany' , 30),\n",
    "           (5, 'Peter', 33, 'Austria' , 22),\n",
    "           (6, 'Nikola', 25, 'USA', 23),\n",
    "           (7, 'Renato', 35, 'Brazil', 26)]\n",
    "\n",
    "students_1 = pd.DataFrame(students, columns= ['student_id', 'first_name', 'age', 'city', 'score'])\n",
    "students_1.set_index('student_id', inplace = True)\n",
    "print(students_1)"
   ]
  },
  {
   "cell_type": "code",
   "execution_count": 23,
   "metadata": {
    "application/vnd.databricks.v1+cell": {
     "cellMetadata": {},
     "inputWidgets": {},
     "nuid": "c02370d7-8c4e-4b23-8e81-2596f6de4fc8",
     "showTitle": false,
     "title": ""
    }
   },
   "outputs": [
    {
     "name": "stdout",
     "output_type": "stream",
     "text": [
      "                 study_program  grade\n",
      "student_id                           \n",
      "1                 Data Science      3\n",
      "2                 Data Analyst      1\n",
      "3                 Microbiology      4\n",
      "4                  Art History      2\n",
      "5                    Chemistry      5\n",
      "6                    Economics      4\n",
      "7           Digital Humanities      2\n"
     ]
    }
   ],
   "source": [
    "# Run this code\n",
    "programs = [(1, 'Data Science', 3),\n",
    "            (2, 'Data Analyst', 1),\n",
    "            (3, 'Microbiology', 4),\n",
    "            (4, 'Art History', 2),\n",
    "            (5, 'Chemistry', 5),\n",
    "            (6, 'Economics', 4),\n",
    "            (7, 'Digital Humanities', 2)]\n",
    "\n",
    "programs_1 = pd.DataFrame(programs, columns= ['student_id', 'study_program', 'grade'])\n",
    "programs_1.set_index('student_id', inplace = True)\n",
    "print(programs_1)"
   ]
  },
  {
   "cell_type": "markdown",
   "metadata": {
    "application/vnd.databricks.v1+cell": {
     "cellMetadata": {},
     "inputWidgets": {},
     "nuid": "bfa3cbb7-a059-4823-be66-37e986aa0e5b",
     "showTitle": false,
     "title": ""
    }
   },
   "source": [
    "As you can see, DataFrames `students_1` and `programs` share the same column 'student_id' that is set as an index."
   ]
  },
  {
   "cell_type": "code",
   "execution_count": 24,
   "metadata": {
    "application/vnd.databricks.v1+cell": {
     "cellMetadata": {},
     "inputWidgets": {},
     "nuid": "12315e0d-9d01-433d-9c57-a532cdc28793",
     "showTitle": false,
     "title": ""
    }
   },
   "outputs": [
    {
     "name": "stdout",
     "output_type": "stream",
     "text": [
      "           first_name  age      city  score       study_program  grade\n",
      "student_id                                                            \n",
      "1              Robert   30  Slovakia     26        Data Science      3\n",
      "2                Jana   29    Sweden     27        Data Analyst      1\n",
      "3              Martin   31    Sweden     26        Microbiology      4\n",
      "4            Kristina   26   Germany     30         Art History      2\n",
      "5               Peter   33   Austria     22           Chemistry      5\n",
      "6              Nikola   25       USA     23           Economics      4\n",
      "7              Renato   35    Brazil     26  Digital Humanities      2\n"
     ]
    }
   ],
   "source": [
    "# Merge students_1 and programs on 'student_id' by passing `left_index = True` and `right_index = True`\n",
    "\n",
    "merged_df = pd.merge(students_1, programs_1, how = 'inner', left_index = True, right_index = True)\n",
    "print(merged_df)"
   ]
  },
  {
   "cell_type": "markdown",
   "metadata": {
    "application/vnd.databricks.v1+cell": {
     "cellMetadata": {},
     "inputWidgets": {},
     "nuid": "0cd9fa3a-d3bc-4671-a406-eb7a4d2491b7",
     "showTitle": false,
     "title": ""
    }
   },
   "source": [
    "## 2.2 Pandas `.join()`"
   ]
  },
  {
   "cell_type": "markdown",
   "metadata": {
    "application/vnd.databricks.v1+cell": {
     "cellMetadata": {},
     "inputWidgets": {},
     "nuid": "2bb49751-0152-4b6d-937d-71d5cc1195a4",
     "showTitle": false,
     "title": ""
    }
   },
   "source": [
    "- it is an object method function - it means that it enables us to specify only 1 DataFrame to be joined to the DataFrame from which you call `.join()` on\n",
    "- by default it performs left join\n",
    "- by default it **joins on indices**"
   ]
  },
  {
   "cell_type": "code",
   "execution_count": 25,
   "metadata": {
    "application/vnd.databricks.v1+cell": {
     "cellMetadata": {},
     "inputWidgets": {},
     "nuid": "3aba919d-97e4-4791-842c-39fcd096d03f",
     "showTitle": false,
     "title": ""
    }
   },
   "outputs": [
    {
     "name": "stdout",
     "output_type": "stream",
     "text": [
      "           first_name  age      city  score       study_program  grade\n",
      "student_id                                                            \n",
      "1              Robert   30  Slovakia     26        Data Science      3\n",
      "2                Jana   29    Sweden     27        Data Analyst      1\n",
      "3              Martin   31    Sweden     26        Microbiology      4\n",
      "4            Kristina   26   Germany     30         Art History      2\n",
      "5               Peter   33   Austria     22           Chemistry      5\n",
      "6              Nikola   25       USA     23           Economics      4\n",
      "7              Renato   35    Brazil     26  Digital Humanities      2\n"
     ]
    }
   ],
   "source": [
    "# Join students_1 and programs_1 \n",
    "joined_df = students_1.join(programs_1)\n",
    "print(joined_df)"
   ]
  },
  {
   "cell_type": "code",
   "execution_count": 26,
   "metadata": {
    "application/vnd.databricks.v1+cell": {
     "cellMetadata": {},
     "inputWidgets": {},
     "nuid": "0bcb4c37-0510-45de-9a4e-d0f76c72c2b0",
     "showTitle": false,
     "title": ""
    }
   },
   "outputs": [],
   "source": [
    "# Run this code, please\n",
    "programs_1.reset_index(inplace = True)\n",
    "students_1.reset_index(inplace = True)"
   ]
  },
  {
   "cell_type": "markdown",
   "metadata": {
    "application/vnd.databricks.v1+cell": {
     "cellMetadata": {},
     "inputWidgets": {},
     "nuid": "0128713d-dc9c-4dbe-ad4c-0c92e6e2f4d3",
     "showTitle": false,
     "title": ""
    }
   },
   "source": [
    "If we want to join DataFrames that have overlapping column keys, we need to specify the parameters `lsuffix` and `rsuffix`."
   ]
  },
  {
   "cell_type": "code",
   "execution_count": 27,
   "metadata": {
    "application/vnd.databricks.v1+cell": {
     "cellMetadata": {},
     "inputWidgets": {},
     "nuid": "95d0f856-e784-4e2b-b84e-258171a6fe5b",
     "showTitle": false,
     "title": ""
    }
   },
   "outputs": [
    {
     "name": "stdout",
     "output_type": "stream",
     "text": [
      "   student_id_left first_name  age      city  score  student_id_right   \n",
      "0                1     Robert   30  Slovakia     26                 1  \\\n",
      "1                2       Jana   29    Sweden     27                 2   \n",
      "2                3     Martin   31    Sweden     26                 3   \n",
      "3                4   Kristina   26   Germany     30                 4   \n",
      "4                5      Peter   33   Austria     22                 5   \n",
      "5                6     Nikola   25       USA     23                 6   \n",
      "6                7     Renato   35    Brazil     26                 7   \n",
      "\n",
      "        study_program  grade  \n",
      "0        Data Science      3  \n",
      "1        Data Analyst      1  \n",
      "2        Microbiology      4  \n",
      "3         Art History      2  \n",
      "4           Chemistry      5  \n",
      "5           Economics      4  \n",
      "6  Digital Humanities      2  \n"
     ]
    }
   ],
   "source": [
    "# Join students_1 and programs_1\n",
    "# Specify suffixes for both DataFrames\n",
    "joined_df = students_1.join(programs_1, lsuffix = '_left', rsuffix = '_right')\n",
    "print(joined_df)"
   ]
  },
  {
   "cell_type": "markdown",
   "metadata": {
    "application/vnd.databricks.v1+cell": {
     "cellMetadata": {},
     "inputWidgets": {},
     "nuid": "63d4df82-8c08-45f9-8453-01cb498010b2",
     "showTitle": false,
     "title": ""
    }
   },
   "source": [
    "# 2.3 Pandas `.concat()`\n",
    "\n",
    "-concatenate function combines DataFrames across rows or columns \n",
    "- by default performs outer join, but we can specify inner join by setting `join = 'inner'`\n",
    "\n",
    "- by default works along `axis = 0` (rows)\n",
    "\n",
    "`pd.concat([df1, df2])`\n",
    "\n",
    "- we can pass `axis = 1` to concatenate along columns \n",
    "\n",
    "`pd.concat([df1, df2], axis = 1)`"
   ]
  },
  {
   "cell_type": "code",
   "execution_count": 28,
   "metadata": {
    "application/vnd.databricks.v1+cell": {
     "cellMetadata": {},
     "inputWidgets": {},
     "nuid": "45a17f30-e0e0-408f-82b6-9e7dce521b3c",
     "showTitle": false,
     "title": ""
    }
   },
   "outputs": [
    {
     "name": "stdout",
     "output_type": "stream",
     "text": [
      "   student_id first_name   age      city  score       study_program  grade\n",
      "0           1     Robert  30.0  Slovakia   26.0                 NaN    NaN\n",
      "1           2       Jana  29.0    Sweden   27.0                 NaN    NaN\n",
      "2           3     Martin  31.0    Sweden   26.0                 NaN    NaN\n",
      "3           4   Kristina  26.0   Germany   30.0                 NaN    NaN\n",
      "4           5      Peter  33.0   Austria   22.0                 NaN    NaN\n",
      "5           6     Nikola  25.0       USA   23.0                 NaN    NaN\n",
      "6           7     Renato  35.0    Brazil   26.0                 NaN    NaN\n",
      "0           1        NaN   NaN       NaN    NaN        Data Science    3.0\n",
      "1           2        NaN   NaN       NaN    NaN        Data Analyst    1.0\n",
      "2           3        NaN   NaN       NaN    NaN        Microbiology    4.0\n",
      "3           4        NaN   NaN       NaN    NaN         Art History    2.0\n",
      "4           5        NaN   NaN       NaN    NaN           Chemistry    5.0\n",
      "5           6        NaN   NaN       NaN    NaN           Economics    4.0\n",
      "6           7        NaN   NaN       NaN    NaN  Digital Humanities    2.0\n"
     ]
    }
   ],
   "source": [
    "# Concatenate students_1 and programs_11 along the rows\n",
    "concat_by_rows = pd.concat([students_1, programs_1])\n",
    "print(concat_by_rows)"
   ]
  },
  {
   "cell_type": "markdown",
   "metadata": {
    "application/vnd.databricks.v1+cell": {
     "cellMetadata": {},
     "inputWidgets": {},
     "nuid": "653c1064-0ec8-48bd-aed8-fb53a9f252df",
     "showTitle": false,
     "title": ""
    }
   },
   "source": [
    "Column names in DataFrames `students_1` and `programs_1` are not the same. As we can see in the exapmle above, by default, those columns have been also added on the result and NaN values have been filled in.\n",
    "\n",
    "We can also create a hierarchical index on the concatenation axis, when we use argument `keys = ['key1','key2','key3','key_n'...]`."
   ]
  },
  {
   "cell_type": "code",
   "execution_count": 29,
   "metadata": {
    "application/vnd.databricks.v1+cell": {
     "cellMetadata": {},
     "inputWidgets": {},
     "nuid": "8e3849c8-443d-43d4-8679-d515d58c2604",
     "showTitle": false,
     "title": ""
    }
   },
   "outputs": [
    {
     "name": "stdout",
     "output_type": "stream",
     "text": [
      "                 student_id       study_program  grade first_name   age   \n",
      "student_id    0           1        Data Science    3.0        NaN   NaN  \\\n",
      "              1           2        Data Analyst    1.0        NaN   NaN   \n",
      "              2           3        Microbiology    4.0        NaN   NaN   \n",
      "              3           4         Art History    2.0        NaN   NaN   \n",
      "              4           5           Chemistry    5.0        NaN   NaN   \n",
      "              5           6           Economics    4.0        NaN   NaN   \n",
      "              6           7  Digital Humanities    2.0        NaN   NaN   \n",
      "study_program 0           1                 NaN    NaN     Robert  30.0   \n",
      "              1           2                 NaN    NaN       Jana  29.0   \n",
      "              2           3                 NaN    NaN     Martin  31.0   \n",
      "              3           4                 NaN    NaN   Kristina  26.0   \n",
      "              4           5                 NaN    NaN      Peter  33.0   \n",
      "              5           6                 NaN    NaN     Nikola  25.0   \n",
      "              6           7                 NaN    NaN     Renato  35.0   \n",
      "\n",
      "                     city  score  \n",
      "student_id    0       NaN    NaN  \n",
      "              1       NaN    NaN  \n",
      "              2       NaN    NaN  \n",
      "              3       NaN    NaN  \n",
      "              4       NaN    NaN  \n",
      "              5       NaN    NaN  \n",
      "              6       NaN    NaN  \n",
      "study_program 0  Slovakia   26.0  \n",
      "              1    Sweden   27.0  \n",
      "              2    Sweden   26.0  \n",
      "              3   Germany   30.0  \n",
      "              4   Austria   22.0  \n",
      "              5       USA   23.0  \n",
      "              6    Brazil   26.0  \n"
     ]
    }
   ],
   "source": [
    "# Concatenate the DataFrames programs_1 and students_1 along the rows\n",
    "# Set keys argument on columns 'student_id' and 'study_program'\n",
    "conc = pd.concat([programs_1, students_1], keys = ['student_id','study_program'] )\n",
    "print(conc)"
   ]
  },
  {
   "cell_type": "code",
   "execution_count": 30,
   "metadata": {
    "application/vnd.databricks.v1+cell": {
     "cellMetadata": {},
     "inputWidgets": {},
     "nuid": "23b1d47d-3ad7-44c9-9ad0-517c5ac2da35",
     "showTitle": false,
     "title": ""
    }
   },
   "outputs": [
    {
     "name": "stdout",
     "output_type": "stream",
     "text": [
      "        key_1  key_2  values_1\n",
      "0       apple    yes         0\n",
      "1      banana  maybe         1\n",
      "2     coconut  maybe         2\n",
      "3   pineapple    yes         3\n",
      "4  strawberry     no         4\n",
      "0       apple     no         0\n",
      "1      banana  maybe         1\n",
      "2     coconut    yes         2\n",
      "3  strawberry     no         3\n",
      "4  strawberry     no         4\n"
     ]
    }
   ],
   "source": [
    "# Concatenate df_3 and df_4 along the rows\n",
    "concat_df = pd.concat([df_3, df_4])\n",
    "print(concat_df)"
   ]
  },
  {
   "cell_type": "markdown",
   "metadata": {
    "application/vnd.databricks.v1+cell": {
     "cellMetadata": {},
     "inputWidgets": {},
     "nuid": "c10f0716-4896-4cb4-a12a-082404a745c6",
     "showTitle": false,
     "title": ""
    }
   },
   "source": [
    "DataFrames `df_3` and `df_4` have the same column names 'key_1' and 'key_2'. Therefore the indices are repeating when tha DataFrames are stacked. If you want to have 0-based index, you'll need to set parameter `ignore_index = True` within `.concat()` function."
   ]
  },
  {
   "cell_type": "code",
   "execution_count": 31,
   "metadata": {
    "application/vnd.databricks.v1+cell": {
     "cellMetadata": {},
     "inputWidgets": {},
     "nuid": "76e309ee-c2ac-4563-ba9f-ec8b973f5c1c",
     "showTitle": false,
     "title": ""
    }
   },
   "outputs": [
    {
     "name": "stdout",
     "output_type": "stream",
     "text": [
      "        key_1  key_2  values_1\n",
      "0       apple    yes         0\n",
      "1      banana  maybe         1\n",
      "2     coconut  maybe         2\n",
      "3   pineapple    yes         3\n",
      "4  strawberry     no         4\n",
      "5       apple     no         0\n",
      "6      banana  maybe         1\n",
      "7     coconut    yes         2\n",
      "8  strawberry     no         3\n",
      "9  strawberry     no         4\n"
     ]
    }
   ],
   "source": [
    "# Concatenate df_3 and df_4 along the rows\n",
    "# Set the parameter `ignore_index = True`\n",
    "concat_df_2 = pd.concat([df_3, df_4], ignore_index = True)\n",
    "print(concat_df_2)"
   ]
  },
  {
   "cell_type": "code",
   "execution_count": 32,
   "metadata": {
    "application/vnd.databricks.v1+cell": {
     "cellMetadata": {},
     "inputWidgets": {},
     "nuid": "83facbce-17f9-4b8b-a792-783bf4679a90",
     "showTitle": false,
     "title": ""
    }
   },
   "outputs": [
    {
     "name": "stdout",
     "output_type": "stream",
     "text": [
      "   student_id first_name  age      city  score  student_id   \n",
      "0           1     Robert   30  Slovakia     26           1  \\\n",
      "1           2       Jana   29    Sweden     27           2   \n",
      "2           3     Martin   31    Sweden     26           3   \n",
      "3           4   Kristina   26   Germany     30           4   \n",
      "4           5      Peter   33   Austria     22           5   \n",
      "5           6     Nikola   25       USA     23           6   \n",
      "6           7     Renato   35    Brazil     26           7   \n",
      "\n",
      "        study_program  grade  \n",
      "0        Data Science      3  \n",
      "1        Data Analyst      1  \n",
      "2        Microbiology      4  \n",
      "3         Art History      2  \n",
      "4           Chemistry      5  \n",
      "5           Economics      4  \n",
      "6  Digital Humanities      2  \n"
     ]
    }
   ],
   "source": [
    "# Concatenate students_1 and programs_11 along the columns\n",
    "concat_by_columns = pd.concat([students_1, programs_1], axis = 1)\n",
    "print(concat_by_columns)"
   ]
  },
  {
   "cell_type": "markdown",
   "metadata": {
    "application/vnd.databricks.v1+cell": {
     "cellMetadata": {},
     "inputWidgets": {},
     "nuid": "c21fe3e3-fcef-41ea-8c37-7560f7bd170c",
     "showTitle": false,
     "title": ""
    }
   },
   "source": [
    "# 3. References\n",
    "\n",
    "\\\\(^{1}\\\\) Wes Mckinney (2013). Python for Data Analysis. (First ed.). California: O'Reilly Media, Inc.\n",
    "\n",
    "\\\\(^{2}\\\\) Medium. Merging DataFrames with pandas. [ONLINE] Available at: https://medium.com/swlh/merging-dataframes-with-pandas-pd-merge-7764c7e2d46d. [Accessed 14 September 2020].\n",
    "\n",
    "Material adapted for RBI internal purposes with full permissions from original authors. Source: https://github.com/zatkopatrik/authentic-data-science"
   ]
  }
 ],
 "metadata": {
  "application/vnd.databricks.v1+notebook": {
   "dashboards": [],
   "language": "python",
   "notebookMetadata": {},
   "notebookName": "3_Data_Merging",
   "notebookOrigID": 706562957543975,
   "widgets": {}
  },
  "kernelspec": {
   "display_name": "Python 3",
   "language": "python",
   "name": "python3"
  },
  "language_info": {
   "codemirror_mode": {
    "name": "ipython",
    "version": 3
   },
   "file_extension": ".py",
   "mimetype": "text/x-python",
   "name": "python",
   "nbconvert_exporter": "python",
   "pygments_lexer": "ipython3",
   "version": "3.10.7"
  }
 },
 "nbformat": 4,
 "nbformat_minor": 0
}
