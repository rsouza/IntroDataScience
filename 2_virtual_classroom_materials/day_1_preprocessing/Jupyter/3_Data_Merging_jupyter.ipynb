{
 "cells": [
  {
   "cell_type": "markdown",
   "metadata": {
    "application/vnd.databricks.v1+cell": {
     "cellMetadata": {},
     "inputWidgets": {},
     "nuid": "cdffc7e9-b296-4c14-998c-6be90b4e55df",
     "showTitle": false,
     "title": ""
    }
   },
   "source": [
    "# 1. Database-style DataFrame Merges\n",
    "\n",
    "Merge operations combine DataFrames on common columns or indices."
   ]
  },
  {
   "cell_type": "code",
   "execution_count": 0,
   "metadata": {
    "application/vnd.databricks.v1+cell": {
     "cellMetadata": {
      "byteLimit": 2048000,
      "rowLimit": 10000
     },
     "inputWidgets": {},
     "nuid": "0d63b6b6-d22d-430d-9072-e9cc5cb4c7c9",
     "showTitle": false,
     "title": ""
    }
   },
   "outputs": [],
   "source": [
    "# Import pandas as pd\n",
    "import pandas as pd\n",
    "from IPython.display import Image\n",
    "import warnings\n",
    "warnings.filterwarnings('ignore')"
   ]
  },
  {
   "cell_type": "code",
   "execution_count": 0,
   "metadata": {
    "application/vnd.databricks.v1+cell": {
     "cellMetadata": {
      "byteLimit": 2048000,
      "rowLimit": 10000
     },
     "inputWidgets": {},
     "nuid": "fb3c7b65-184e-45a8-9236-7a7de0c6b59a",
     "showTitle": false,
     "title": ""
    }
   },
   "outputs": [],
   "source": [
    "# Run this code\n",
    "data_1 = pd.DataFrame({'key':['A','B','C','B','E','F','A','H','A','J'],\n",
    "                      'values_1': range(10)})\n",
    "print(data_1)"
   ]
  },
  {
   "cell_type": "code",
   "execution_count": 0,
   "metadata": {
    "application/vnd.databricks.v1+cell": {
     "cellMetadata": {
      "byteLimit": 2048000,
      "rowLimit": 10000
     },
     "inputWidgets": {},
     "nuid": "43181ac3-7a56-440a-9295-0f4263ab1e0b",
     "showTitle": false,
     "title": ""
    }
   },
   "outputs": [],
   "source": [
    "# Run this code\n",
    "data_2 = pd.DataFrame({'key':['A','B','C'],\n",
    "                       'values_2':range(3)})\n",
    "print(data_2)"
   ]
  },
  {
   "cell_type": "markdown",
   "metadata": {
    "application/vnd.databricks.v1+cell": {
     "cellMetadata": {},
     "inputWidgets": {},
     "nuid": "930dc463-44a8-4e04-84ff-bb1e4846915c",
     "showTitle": false,
     "title": ""
    }
   },
   "source": [
    "Our first DataFrame `data_1` has multiple rows with keys 'A' and 'B', whereas DataFrame `data_2` has only 1 row for each value in the `key` column. This is an example of `many-to-one` \\\\(^{1}\\\\) merge situation.\n",
    "\n",
    "By merging these 2 dataframes we obtain following result:"
   ]
  },
  {
   "cell_type": "code",
   "execution_count": 0,
   "metadata": {
    "application/vnd.databricks.v1+cell": {
     "cellMetadata": {
      "byteLimit": 2048000,
      "rowLimit": 10000
     },
     "inputWidgets": {},
     "nuid": "ed638d88-d12d-4062-9e02-5b10ac341308",
     "showTitle": false,
     "title": ""
    }
   },
   "outputs": [],
   "source": [
    "# Merge data_1 and data_2\n",
    "pd.merge(data_1, data_2)"
   ]
  },
  {
   "cell_type": "markdown",
   "metadata": {
    "application/vnd.databricks.v1+cell": {
     "cellMetadata": {},
     "inputWidgets": {},
     "nuid": "8188b52f-4583-4481-bc87-7f995f3ab24b",
     "showTitle": false,
     "title": ""
    }
   },
   "source": [
    "Our DataFrames have the same column `key ` and in this case\n",
    "[`.merge()`](https://pandas.pydata.org/pandas-docs/stable/reference/api/pandas.merge.html)\n",
    "uses the overlapping column named as `keys` to join on. However it is a good practice to specify explicitly the `key` column like this:"
   ]
  },
  {
   "cell_type": "code",
   "execution_count": 0,
   "metadata": {
    "application/vnd.databricks.v1+cell": {
     "cellMetadata": {
      "byteLimit": 2048000,
      "rowLimit": 10000
     },
     "inputWidgets": {},
     "nuid": "0e6f2d70-ccb8-43ce-acd1-26ef91a312f6",
     "showTitle": false,
     "title": ""
    }
   },
   "outputs": [],
   "source": [
    "# Merge data_1 and data_2, specify key column\n",
    "pd.merge(data_1, data_2, on = 'key')"
   ]
  },
  {
   "cell_type": "markdown",
   "metadata": {
    "application/vnd.databricks.v1+cell": {
     "cellMetadata": {},
     "inputWidgets": {},
     "nuid": "b4d532b2-99e9-4849-b07d-633ed382b41f",
     "showTitle": false,
     "title": ""
    }
   },
   "source": [
    "As you can notice 'E', 'F', 'H', 'J'  and associated data are missing from the result. It is because\n",
    "[`merge()`](https://pandas.pydata.org/pandas-docs/stable/reference/api/pandas.merge.html)\n",
    "acts with 'inner' merge (join) by default. However, we can explicitly specify it using `how = 'inner'`\n",
    "\n",
    "**inner join** (or inner merge) keeps only those values that have a common key in both DataFrames, in our case 'A', 'B' and 'C'. \n",
    "\n",
    "\n",
    "Other possible options are:\n",
    " \n",
    "- **left join** (left outer join)\n",
    "\n",
    "We specify `how = 'left'`: it keeps each row from the left DataFrame and only those from the right DataFrame that match. Non-matching values are replaced with NaNs.\n",
    "\n",
    "\n",
    "- **right join** (right outer join)\n",
    "\n",
    "We specify `how = 'right'`: it is the opposite of left join. Non-matching values are filled with NaNs as well.\n",
    "\n",
    "- **outer** (full outer join)\n",
    "\n",
    "We specify `how = 'outer'`: it takes the union of the keys and applies both left and right join\n",
    "\n",
    "Run the following code to see these merging strategies \\\\(^{2}\\\\)."
   ]
  },
  {
   "cell_type": "code",
   "execution_count": 0,
   "metadata": {
    "application/vnd.databricks.v1+cell": {
     "cellMetadata": {
      "byteLimit": 2048000,
      "rowLimit": 10000
     },
     "inputWidgets": {},
     "nuid": "3796de67-a04f-4f63-9b23-9595a29bc4a3",
     "showTitle": false,
     "title": ""
    }
   },
   "outputs": [],
   "source": [
    "# Run this to print merging strategies\n",
    "Image(filename='../../../Images/merging.png')"
   ]
  },
  {
   "cell_type": "code",
   "execution_count": 0,
   "metadata": {
    "application/vnd.databricks.v1+cell": {
     "cellMetadata": {
      "byteLimit": 2048000,
      "rowLimit": 10000
     },
     "inputWidgets": {},
     "nuid": "6151311b-d3fa-4e91-aa3c-7558b2654b1c",
     "showTitle": false,
     "title": ""
    }
   },
   "outputs": [],
   "source": [
    "# Merge the DataFrames data_1 and data_2 with left join\n",
    "pd.merge(data_1, data_2, on = 'key', how = 'left')"
   ]
  },
  {
   "cell_type": "code",
   "execution_count": 0,
   "metadata": {
    "application/vnd.databricks.v1+cell": {
     "cellMetadata": {
      "byteLimit": 2048000,
      "rowLimit": 10000
     },
     "inputWidgets": {},
     "nuid": "b5edbe00-c5d1-40d0-9a62-69c5998553d0",
     "showTitle": false,
     "title": ""
    }
   },
   "outputs": [],
   "source": [
    "# TASK 1 >>>> Merge the dataframes data_1 and data_2 on 'key', specify right join"
   ]
  },
  {
   "cell_type": "code",
   "execution_count": 0,
   "metadata": {
    "application/vnd.databricks.v1+cell": {
     "cellMetadata": {
      "byteLimit": 2048000,
      "rowLimit": 10000
     },
     "inputWidgets": {},
     "nuid": "6a30d8dd-79ee-4c39-a79c-2dd33cfac873",
     "showTitle": false,
     "title": ""
    }
   },
   "outputs": [],
   "source": [
    "# TASK 2 >>>> Merge the dataframes data_1 and data_2 on 'key', specify full outer join"
   ]
  },
  {
   "cell_type": "markdown",
   "metadata": {
    "application/vnd.databricks.v1+cell": {
     "cellMetadata": {},
     "inputWidgets": {},
     "nuid": "5c820caa-6565-4c48-94d3-5e6b940f18f9",
     "showTitle": false,
     "title": ""
    }
   },
   "source": [
    "If the key column names are different in each DataFrame object, we can specify them separately.\n",
    "\n",
    "- for the left DataFrame: `left_on`\n",
    "- for the right DataFrame: `right_on`"
   ]
  },
  {
   "cell_type": "code",
   "execution_count": 0,
   "metadata": {
    "application/vnd.databricks.v1+cell": {
     "cellMetadata": {
      "byteLimit": 2048000,
      "rowLimit": 10000
     },
     "inputWidgets": {},
     "nuid": "a1f00984-ba26-4245-b61c-e47d1ba790e0",
     "showTitle": false,
     "title": ""
    }
   },
   "outputs": [],
   "source": [
    "# Run this code\n",
    "data_3 = pd.DataFrame({'key_left': ['E','F','G','H','I','J'],\n",
    "                       'values': range(6)})\n",
    "print(data_3)"
   ]
  },
  {
   "cell_type": "code",
   "execution_count": 0,
   "metadata": {
    "application/vnd.databricks.v1+cell": {
     "cellMetadata": {
      "byteLimit": 2048000,
      "rowLimit": 10000
     },
     "inputWidgets": {},
     "nuid": "1433ae8d-4b71-4d89-8691-323e3e799dab",
     "showTitle": false,
     "title": ""
    }
   },
   "outputs": [],
   "source": [
    "# Run this code\n",
    "data_4 = pd.DataFrame({'key_right': ['D','E','F','G'],\n",
    "                       'values_2': range(4)})\n",
    "print(data_4)"
   ]
  },
  {
   "cell_type": "code",
   "execution_count": 0,
   "metadata": {
    "application/vnd.databricks.v1+cell": {
     "cellMetadata": {
      "byteLimit": 2048000,
      "rowLimit": 10000
     },
     "inputWidgets": {},
     "nuid": "2f38b287-cc0c-40c1-ae6c-68b219199205",
     "showTitle": false,
     "title": ""
    }
   },
   "outputs": [],
   "source": [
    "# Merge the DataFrames data_3 and data_4, specify left and right keys to join on\n",
    "# Specify inner join \n",
    "pd.merge(data_3, data_4, left_on= 'key_left', right_on= 'key_right', how = 'inner')"
   ]
  },
  {
   "cell_type": "code",
   "execution_count": 0,
   "metadata": {
    "application/vnd.databricks.v1+cell": {
     "cellMetadata": {
      "byteLimit": 2048000,
      "rowLimit": 10000
     },
     "inputWidgets": {},
     "nuid": "6ebafda2-d8f0-4d9a-b33d-4990a8d0e42e",
     "showTitle": false,
     "title": ""
    }
   },
   "outputs": [],
   "source": [
    "# Run this code\n",
    "df_1 = pd.DataFrame({'key': ['red','black','yellow','green','black','pink','white','black'],\n",
    "                     'values': range(8)})\n",
    "print(df_1)"
   ]
  },
  {
   "cell_type": "code",
   "execution_count": 0,
   "metadata": {
    "application/vnd.databricks.v1+cell": {
     "cellMetadata": {
      "byteLimit": 2048000,
      "rowLimit": 10000
     },
     "inputWidgets": {},
     "nuid": "d59df656-ee7c-4d23-a79b-841a7f27816e",
     "showTitle": false,
     "title": ""
    }
   },
   "outputs": [],
   "source": [
    "# Run this code\n",
    "df_2 = pd.DataFrame({'key': ['white','pink','gray','yellow','black','black','black'],\n",
    "                     'values': range(7)})\n",
    "print(df_2)"
   ]
  },
  {
   "cell_type": "code",
   "execution_count": 0,
   "metadata": {
    "application/vnd.databricks.v1+cell": {
     "cellMetadata": {
      "byteLimit": 2048000,
      "rowLimit": 10000
     },
     "inputWidgets": {},
     "nuid": "1cde3ff6-e923-4702-ba76-a91635925119",
     "showTitle": false,
     "title": ""
    }
   },
   "outputs": [],
   "source": [
    "# Merge df_1 and df_2 on 'key', specify left join\n",
    "pd.merge(df_1, df_2, on = 'key', how = 'left')"
   ]
  },
  {
   "cell_type": "markdown",
   "metadata": {
    "application/vnd.databricks.v1+cell": {
     "cellMetadata": {},
     "inputWidgets": {},
     "nuid": "43e28521-4054-4e7a-a224-e50f4282b294",
     "showTitle": false,
     "title": ""
    }
   },
   "source": [
    "This is _many-to-many_ \\\\(^{1}\\\\) join situation which creates **Cartesian product** of the rows. In the result we can see we have 9 'black' rows. It is because there are 3 'black' rows in the left DataFrame `df_1` and 3 'black' rows in the right DataFrame `df_2`, so in the result we have every combination of rows where the key is equal to 'black'.\n",
    "\n",
    "As you can see\n",
    "[`merge()`](https://pandas.pydata.org/pandas-docs/stable/reference/api/pandas.merge.html)\n",
    "automatically renames the columns as 'values_x' and 'values_y' to distinguish where the values belong to. We can explicitly specify these column's names with the 'suffixes' option. We only need to pass the desired names into the list like this: `suffixes=['_from_df1', '_from_df2']`."
   ]
  },
  {
   "cell_type": "code",
   "execution_count": 0,
   "metadata": {
    "application/vnd.databricks.v1+cell": {
     "cellMetadata": {
      "byteLimit": 2048000,
      "rowLimit": 10000
     },
     "inputWidgets": {},
     "nuid": "aa9756e2-afec-4039-a80c-cc22db5504f9",
     "showTitle": false,
     "title": ""
    }
   },
   "outputs": [],
   "source": [
    "# Merge df_1 and df_2 on 'key', specify left join\n",
    "# Set parameter suffixes=[]\n",
    "pd.merge(df_1, df_2, on = 'key', how = 'left', suffixes=['_from_df1', '_from_df2'])"
   ]
  },
  {
   "cell_type": "markdown",
   "metadata": {
    "application/vnd.databricks.v1+cell": {
     "cellMetadata": {},
     "inputWidgets": {},
     "nuid": "3a60b4c7-a989-402c-87d5-dd099541cf22",
     "showTitle": false,
     "title": ""
    }
   },
   "source": [
    "- if we want to merge with multiple keys we have to pass a list of columns names:"
   ]
  },
  {
   "cell_type": "code",
   "execution_count": 0,
   "metadata": {
    "application/vnd.databricks.v1+cell": {
     "cellMetadata": {
      "byteLimit": 2048000,
      "rowLimit": 10000
     },
     "inputWidgets": {},
     "nuid": "b48d7126-2fed-4495-ab95-84ba0b9847fb",
     "showTitle": false,
     "title": ""
    }
   },
   "outputs": [],
   "source": [
    "# Run this code\n",
    "df_3 = pd.DataFrame({'key_1':['apple','banana','coconut','pineapple','strawberry'],\n",
    "                     'key_2':['yes','maybe','maybe','yes','no'],\n",
    "                     'values_1': range(5)})\n",
    "print(df_3)"
   ]
  },
  {
   "cell_type": "code",
   "execution_count": 0,
   "metadata": {
    "application/vnd.databricks.v1+cell": {
     "cellMetadata": {
      "byteLimit": 2048000,
      "rowLimit": 10000
     },
     "inputWidgets": {},
     "nuid": "9082d516-8c9b-498b-96e9-0e920704e3bf",
     "showTitle": false,
     "title": ""
    }
   },
   "outputs": [],
   "source": [
    "# Run this code\n",
    "df_4 = pd.DataFrame({'key_1':['apple','banana','coconut','strawberry','strawberry'],\n",
    "                     'key_2':['no','maybe','yes','no','no'],\n",
    "                     'values_1': range(5)})\n",
    "print(df_4)"
   ]
  },
  {
   "cell_type": "code",
   "execution_count": 0,
   "metadata": {
    "application/vnd.databricks.v1+cell": {
     "cellMetadata": {
      "byteLimit": 2048000,
      "rowLimit": 10000
     },
     "inputWidgets": {},
     "nuid": "135ec40a-0dd2-4005-8bbb-f8928628f80e",
     "showTitle": false,
     "title": ""
    }
   },
   "outputs": [],
   "source": [
    "# Merge DataFrames df_3 and df_4 on column keys 'key_1' and 'key_2' passed within the list and specify inner join\n",
    "pd.merge(df_3, df_4, on = ['key_1', 'key_2'], how = 'inner')"
   ]
  },
  {
   "cell_type": "markdown",
   "metadata": {
    "application/vnd.databricks.v1+cell": {
     "cellMetadata": {},
     "inputWidgets": {},
     "nuid": "a94c32d4-d431-4f30-b478-7edc5749bb4f",
     "showTitle": false,
     "title": ""
    }
   },
   "source": [
    "# 2. Advanced and Alternative Methods (READ-AND-PLAY)\n",
    "If you are familiar and fine with using the merge method, you should be good to go. You might however stumble also upon some alternative, sometimes more complex methods, for doing similar things. Let's read through those."
   ]
  },
  {
   "cell_type": "markdown",
   "metadata": {
    "application/vnd.databricks.v1+cell": {
     "cellMetadata": {},
     "inputWidgets": {},
     "nuid": "dbcebb44-7688-4a50-a150-4e4b2b5ccbe2",
     "showTitle": false,
     "title": ""
    }
   },
   "source": [
    "## 2.1 Merging DataFrames on the Index\n",
    "\n",
    "Our key(s) columns for merging can be found in a DataFrame as an index. In this case we can use the parameters `left_index = True` or `right_index = True` (or both) to indicate that the index should be used as the merge key.\n",
    "\n",
    "- `left_index` : bool (default False)\n",
    "   - if True will choose index from left DataFrame as join key\n",
    "- `right_index` : bool (default False)\n",
    "   - if True will choose index from right DataFrame as join key"
   ]
  },
  {
   "cell_type": "code",
   "execution_count": 0,
   "metadata": {
    "application/vnd.databricks.v1+cell": {
     "cellMetadata": {
      "byteLimit": 2048000,
      "rowLimit": 10000
     },
     "inputWidgets": {},
     "nuid": "599d5021-79ab-4be6-ab87-33feb02a7740",
     "showTitle": false,
     "title": ""
    }
   },
   "outputs": [],
   "source": [
    "# Run this code\n",
    "students = [(1, 'Robert', 30, 'Slovakia', 26),\n",
    "           (2, 'Jana', 29, 'Sweden' , 27),\n",
    "           (3, 'Martin', 31, 'Sweden', 26),\n",
    "           (4, 'Kristina', 26,'Germany' , 30),\n",
    "           (5, 'Peter', 33, 'Austria' , 22),\n",
    "           (6, 'Nikola', 25, 'USA', 23),\n",
    "           (7, 'Renato', 35, 'Brazil', 26)]\n",
    "\n",
    "students_1 = pd.DataFrame(students, columns= ['student_id', 'first_name', 'age', 'city', 'score'])\n",
    "students_1.set_index('student_id', inplace = True)\n",
    "print(students_1)"
   ]
  },
  {
   "cell_type": "code",
   "execution_count": 0,
   "metadata": {
    "application/vnd.databricks.v1+cell": {
     "cellMetadata": {
      "byteLimit": 2048000,
      "rowLimit": 10000
     },
     "inputWidgets": {},
     "nuid": "c02370d7-8c4e-4b23-8e81-2596f6de4fc8",
     "showTitle": false,
     "title": ""
    }
   },
   "outputs": [],
   "source": [
    "# Run this code\n",
    "programs = [(1, 'Data Science', 3),\n",
    "            (2, 'Data Analyst', 1),\n",
    "            (3, 'Microbiology', 4),\n",
    "            (4, 'Art History', 2),\n",
    "            (5, 'Chemistry', 5),\n",
    "            (6, 'Economics', 4),\n",
    "            (7, 'Digital Humanities', 2)]\n",
    "\n",
    "programs_1 = pd.DataFrame(programs, columns= ['student_id', 'study_program', 'grade'])\n",
    "programs_1.set_index('student_id', inplace = True)\n",
    "print(programs_1)"
   ]
  },
  {
   "cell_type": "markdown",
   "metadata": {
    "application/vnd.databricks.v1+cell": {
     "cellMetadata": {},
     "inputWidgets": {},
     "nuid": "bfa3cbb7-a059-4823-be66-37e986aa0e5b",
     "showTitle": false,
     "title": ""
    }
   },
   "source": [
    "As you can see, DataFrames `students_1` and `programs` share the same column 'student_id' that is set as an index."
   ]
  },
  {
   "cell_type": "code",
   "execution_count": 0,
   "metadata": {
    "application/vnd.databricks.v1+cell": {
     "cellMetadata": {
      "byteLimit": 2048000,
      "rowLimit": 10000
     },
     "inputWidgets": {},
     "nuid": "12315e0d-9d01-433d-9c57-a532cdc28793",
     "showTitle": false,
     "title": ""
    }
   },
   "outputs": [],
   "source": [
    "# Merge students_1 and programs on 'student_id' by passing `left_index = True` and `right_index = True`\n",
    "\n",
    "merged_df = pd.merge(students_1, programs_1, how = 'inner', left_index = True, right_index = True)\n",
    "print(merged_df)"
   ]
  },
  {
   "cell_type": "markdown",
   "metadata": {
    "application/vnd.databricks.v1+cell": {
     "cellMetadata": {},
     "inputWidgets": {},
     "nuid": "0cd9fa3a-d3bc-4671-a406-eb7a4d2491b7",
     "showTitle": false,
     "title": ""
    }
   },
   "source": [
    "## 2.2 Pandas `.join()`\n",
    "\n",
    "- it is an object method function - it means that it enables us to specify only 1 DataFrame to be joined to the DataFrame from which you call\n",
    "[`.join()`](https://pandas.pydata.org/pandas-docs/stable/reference/api/pandas.DataFrame.join.html)\n",
    "on\n",
    "- by default it performs left join\n",
    "- by default it **joins on indices**"
   ]
  },
  {
   "cell_type": "code",
   "execution_count": 0,
   "metadata": {
    "application/vnd.databricks.v1+cell": {
     "cellMetadata": {
      "byteLimit": 2048000,
      "rowLimit": 10000
     },
     "inputWidgets": {},
     "nuid": "3aba919d-97e4-4791-842c-39fcd096d03f",
     "showTitle": false,
     "title": ""
    }
   },
   "outputs": [],
   "source": [
    "# Join students_1 and programs_1 \n",
    "joined_df = students_1.join(programs_1)\n",
    "print(joined_df)"
   ]
  },
  {
   "cell_type": "code",
   "execution_count": 0,
   "metadata": {
    "application/vnd.databricks.v1+cell": {
     "cellMetadata": {
      "byteLimit": 2048000,
      "rowLimit": 10000
     },
     "inputWidgets": {},
     "nuid": "0bcb4c37-0510-45de-9a4e-d0f76c72c2b0",
     "showTitle": false,
     "title": ""
    }
   },
   "outputs": [],
   "source": [
    "# Run this code, please\n",
    "programs_1.reset_index(inplace = True)\n",
    "students_1.reset_index(inplace = True)"
   ]
  },
  {
   "cell_type": "markdown",
   "metadata": {
    "application/vnd.databricks.v1+cell": {
     "cellMetadata": {},
     "inputWidgets": {},
     "nuid": "0128713d-dc9c-4dbe-ad4c-0c92e6e2f4d3",
     "showTitle": false,
     "title": ""
    }
   },
   "source": [
    "If we want to join DataFrames that have overlapping column keys, we need to specify the parameters `lsuffix` and `rsuffix`."
   ]
  },
  {
   "cell_type": "code",
   "execution_count": 0,
   "metadata": {
    "application/vnd.databricks.v1+cell": {
     "cellMetadata": {
      "byteLimit": 2048000,
      "rowLimit": 10000
     },
     "inputWidgets": {},
     "nuid": "95d0f856-e784-4e2b-b84e-258171a6fe5b",
     "showTitle": false,
     "title": ""
    }
   },
   "outputs": [],
   "source": [
    "# Join students_1 and programs_1\n",
    "# Specify suffixes for both DataFrames\n",
    "joined_df = students_1.join(programs_1, lsuffix = '_left', rsuffix = '_right')\n",
    "print(joined_df)"
   ]
  },
  {
   "cell_type": "markdown",
   "metadata": {
    "application/vnd.databricks.v1+cell": {
     "cellMetadata": {},
     "inputWidgets": {},
     "nuid": "63d4df82-8c08-45f9-8453-01cb498010b2",
     "showTitle": false,
     "title": ""
    }
   },
   "source": [
    "# 2.3 Pandas `.concat()`\n",
    "\n",
    "-concatenate function combines DataFrames across rows or columns \n",
    "- by default performs outer join, but we can specify inner join by setting `join = 'inner'`\n",
    "- by default works along `axis = 0` (rows)  \n",
    "[`pd.concat([df1, df2])`](https://pandas.pydata.org/pandas-docs/stable/reference/api/pandas.concat.html)\n",
    "- we can pass `axis = 1` to concatenate along columns   \n",
    "[`pd.concat([df1, df2], axis = 1)`](https://pandas.pydata.org/pandas-docs/stable/reference/api/pandas.concat.html)"
   ]
  },
  {
   "cell_type": "code",
   "execution_count": 0,
   "metadata": {
    "application/vnd.databricks.v1+cell": {
     "cellMetadata": {
      "byteLimit": 2048000,
      "rowLimit": 10000
     },
     "inputWidgets": {},
     "nuid": "45a17f30-e0e0-408f-82b6-9e7dce521b3c",
     "showTitle": false,
     "title": ""
    }
   },
   "outputs": [],
   "source": [
    "# Concatenate students_1 and programs_11 along the rows\n",
    "concat_by_rows = pd.concat([students_1, programs_1])\n",
    "print(concat_by_rows)"
   ]
  },
  {
   "cell_type": "markdown",
   "metadata": {
    "application/vnd.databricks.v1+cell": {
     "cellMetadata": {},
     "inputWidgets": {},
     "nuid": "653c1064-0ec8-48bd-aed8-fb53a9f252df",
     "showTitle": false,
     "title": ""
    }
   },
   "source": [
    "Column names in DataFrames `students_1` and `programs_1` are not the same. As we can see in the exapmle above, by default, those columns have been also added on the result and NaN values have been filled in.\n",
    "\n",
    "We can also create a hierarchical index on the concatenation axis, when we use argument `keys = ['key1','key2','key3','key_n'...]`."
   ]
  },
  {
   "cell_type": "code",
   "execution_count": 0,
   "metadata": {
    "application/vnd.databricks.v1+cell": {
     "cellMetadata": {
      "byteLimit": 2048000,
      "rowLimit": 10000
     },
     "inputWidgets": {},
     "nuid": "8e3849c8-443d-43d4-8679-d515d58c2604",
     "showTitle": false,
     "title": ""
    }
   },
   "outputs": [],
   "source": [
    "# Concatenate the DataFrames programs_1 and students_1 along the rows\n",
    "# Set keys argument on columns 'student_id' and 'study_program'\n",
    "conc = pd.concat([programs_1, students_1], keys = ['student_id','study_program'] )\n",
    "print(conc)"
   ]
  },
  {
   "cell_type": "code",
   "execution_count": 0,
   "metadata": {
    "application/vnd.databricks.v1+cell": {
     "cellMetadata": {
      "byteLimit": 2048000,
      "rowLimit": 10000
     },
     "inputWidgets": {},
     "nuid": "23b1d47d-3ad7-44c9-9ad0-517c5ac2da35",
     "showTitle": false,
     "title": ""
    }
   },
   "outputs": [],
   "source": [
    "# Concatenate df_3 and df_4 along the rows\n",
    "concat_df = pd.concat([df_3, df_4])\n",
    "print(concat_df)"
   ]
  },
  {
   "cell_type": "markdown",
   "metadata": {
    "application/vnd.databricks.v1+cell": {
     "cellMetadata": {},
     "inputWidgets": {},
     "nuid": "c10f0716-4896-4cb4-a12a-082404a745c6",
     "showTitle": false,
     "title": ""
    }
   },
   "source": [
    "DataFrames `df_3` and `df_4` have the same column names 'key_1' and 'key_2'. Therefore the indices are repeating when tha DataFrames are stacked. If you want to have 0-based index, you'll need to set parameter `ignore_index = True` within\n",
    "[`.concat()`](https://pandas.pydata.org/pandas-docs/stable/reference/api/pandas.concat.html)\n",
    "function."
   ]
  },
  {
   "cell_type": "code",
   "execution_count": 0,
   "metadata": {
    "application/vnd.databricks.v1+cell": {
     "cellMetadata": {
      "byteLimit": 2048000,
      "rowLimit": 10000
     },
     "inputWidgets": {},
     "nuid": "76e309ee-c2ac-4563-ba9f-ec8b973f5c1c",
     "showTitle": false,
     "title": ""
    }
   },
   "outputs": [],
   "source": [
    "# Concatenate df_3 and df_4 along the rows\n",
    "# Set the parameter `ignore_index = True`\n",
    "concat_df_2 = pd.concat([df_3, df_4], ignore_index = True)\n",
    "print(concat_df_2)"
   ]
  },
  {
   "cell_type": "code",
   "execution_count": 0,
   "metadata": {
    "application/vnd.databricks.v1+cell": {
     "cellMetadata": {
      "byteLimit": 2048000,
      "rowLimit": 10000
     },
     "inputWidgets": {},
     "nuid": "83facbce-17f9-4b8b-a792-783bf4679a90",
     "showTitle": false,
     "title": ""
    }
   },
   "outputs": [],
   "source": [
    "# Concatenate students_1 and programs_11 along the columns\n",
    "concat_by_columns = pd.concat([students_1, programs_1], axis = 1)\n",
    "print(concat_by_columns)"
   ]
  },
  {
   "cell_type": "markdown",
   "metadata": {
    "application/vnd.databricks.v1+cell": {
     "cellMetadata": {},
     "inputWidgets": {},
     "nuid": "c21fe3e3-fcef-41ea-8c37-7560f7bd170c",
     "showTitle": false,
     "title": ""
    }
   },
   "source": [
    "# 3. References\n",
    "\n",
    "\\\\(^{1}\\\\) Wes Mckinney (2013). Python for Data Analysis. (First ed.). California: O'Reilly Media, Inc.\n",
    "\n",
    "\\\\(^{2}\\\\) Medium. Merging DataFrames with pandas. [ONLINE] Available at: https://medium.com/swlh/merging-dataframes-with-pandas-pd-merge-7764c7e2d46d. [Accessed 14 September 2020].\n",
    "\n",
    "Material adapted for RBI internal purposes with full permissions from original authors. Source: https://github.com/zatkopatrik/authentic-data-science"
   ]
  }
 ],
 "metadata": {
  "application/vnd.databricks.v1+notebook": {
   "dashboards": [],
   "language": "python",
   "notebookMetadata": {
    "pythonIndentUnit": 2
   },
   "notebookName": "3_Data_Merging_jupyter",
   "widgets": {}
  },
  "kernelspec": {
   "display_name": "Python 3",
   "language": "python",
   "name": "python3"
  },
  "language_info": {
   "codemirror_mode": {
    "name": "ipython",
    "version": 3
   },
   "file_extension": ".py",
   "mimetype": "text/x-python",
   "name": "python",
   "nbconvert_exporter": "python",
   "pygments_lexer": "ipython3",
   "version": "3.10.7"
  }
 },
 "nbformat": 4,
 "nbformat_minor": 0
}
