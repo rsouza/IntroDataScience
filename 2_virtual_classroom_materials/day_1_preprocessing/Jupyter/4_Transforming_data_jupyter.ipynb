{
 "cells": [
  {
   "cell_type": "markdown",
   "metadata": {
    "application/vnd.databricks.v1+cell": {
     "cellMetadata": {},
     "inputWidgets": {},
     "nuid": "78c53007-630d-4e0f-8731-1222f0b8b0b1",
     "showTitle": false,
     "title": ""
    }
   },
   "source": [
    "# Transforming the data"
   ]
  },
  {
   "cell_type": "code",
   "execution_count": 0,
   "metadata": {
    "application/vnd.databricks.v1+cell": {
     "cellMetadata": {
      "byteLimit": 2048000,
      "rowLimit": 10000
     },
     "inputWidgets": {},
     "nuid": "7c57a198-3c43-49c9-9a07-eec51f92eba7",
     "showTitle": false,
     "title": ""
    }
   },
   "outputs": [],
   "source": [
    "# importing essential packages\n",
    "import pandas as pd\n",
    "import numpy as np\n",
    "import math"
   ]
  },
  {
   "cell_type": "markdown",
   "metadata": {
    "application/vnd.databricks.v1+cell": {
     "cellMetadata": {},
     "inputWidgets": {},
     "nuid": "e4e16d6a-93a9-4aa1-a43a-d9ae5a3fbea2",
     "showTitle": false,
     "title": ""
    }
   },
   "source": [
    "# 1. [`.map()`](https://pandas.pydata.org/pandas-docs/stable/reference/api/pandas.Series.map.html) method\n",
    "\n",
    "- in Pandas the [`.map()`](https://pandas.pydata.org/pandas-docs/stable/reference/api/pandas.Series.map.html) method is a great tool to have when it comes to processing & transforming a Series\n",
    "- it is a convenient way to perform _element-wise_ transformations and other data cleaning-related operations\n",
    "- this method on Series takes a function object or an input mapping as argument\n",
    "- any function that takes a single argument and returns a value can be used with [`.map()`](https://pandas.pydata.org/pandas-docs/stable/reference/api/pandas.Series.map.html)"
   ]
  },
  {
   "cell_type": "markdown",
   "metadata": {
    "application/vnd.databricks.v1+cell": {
     "cellMetadata": {},
     "inputWidgets": {},
     "nuid": "c43f20eb-5573-401a-a5d0-f8476e1880b1",
     "showTitle": false,
     "title": ""
    }
   },
   "source": [
    "### Example 1.1 - Example using For Loops"
   ]
  },
  {
   "cell_type": "code",
   "execution_count": 0,
   "metadata": {
    "application/vnd.databricks.v1+cell": {
     "cellMetadata": {
      "byteLimit": 2048000,
      "rowLimit": 10000
     },
     "inputWidgets": {},
     "nuid": "79b4504f-00d9-4132-888a-a85234bb055e",
     "showTitle": false,
     "title": ""
    }
   },
   "outputs": [],
   "source": [
    "# Run this code\n",
    "our_series = pd.Series(['This', 'is', 'the', 'first', 'example'])"
   ]
  },
  {
   "cell_type": "code",
   "execution_count": 0,
   "metadata": {
    "application/vnd.databricks.v1+cell": {
     "cellMetadata": {
      "byteLimit": 2048000,
      "rowLimit": 10000
     },
     "inputWidgets": {},
     "nuid": "18df101c-d581-4118-a8b3-8329f662ec2d",
     "showTitle": false,
     "title": ""
    }
   },
   "outputs": [],
   "source": [
    "#Step 1: intialize an empty list \"result_loop\" that will store our results later\n",
    "#Step 2: get the length of each variable in the list \"our_list\"\n",
    "#Step 3: append the result to the list \"result_loop\"\n",
    "#Step 4: Convert to a Pandas Series and print the result\n",
    "\n",
    "result_loop = []\n",
    "\n",
    "for word in our_series:\n",
    "    result_loop.append(len(word))\n",
    "\n",
    "result_loop = pd.Series(result_loop)\n",
    "\n",
    "print(result_loop)"
   ]
  },
  {
   "cell_type": "markdown",
   "metadata": {
    "application/vnd.databricks.v1+cell": {
     "cellMetadata": {},
     "inputWidgets": {},
     "nuid": "5cf0ecc5-0b6e-484e-bdcb-f3d456fe4193",
     "showTitle": false,
     "title": ""
    }
   },
   "source": [
    "### Example 1.2 - Example using [`.map()`](https://pandas.pydata.org/pandas-docs/stable/reference/api/pandas.Series.map.html) method"
   ]
  },
  {
   "cell_type": "code",
   "execution_count": 0,
   "metadata": {
    "application/vnd.databricks.v1+cell": {
     "cellMetadata": {
      "byteLimit": 2048000,
      "rowLimit": 10000
     },
     "inputWidgets": {},
     "nuid": "1fefb9a0-323d-47b5-b553-37e4c9eb5010",
     "showTitle": false,
     "title": ""
    }
   },
   "outputs": [],
   "source": [
    "# Run this code\n",
    "our_series = ['This', 'is', 'the', 'first', 'example']"
   ]
  },
  {
   "cell_type": "code",
   "execution_count": 0,
   "metadata": {
    "application/vnd.databricks.v1+cell": {
     "cellMetadata": {
      "byteLimit": 2048000,
      "rowLimit": 10000
     },
     "inputWidgets": {},
     "nuid": "6099023a-99fa-40a9-984a-d07b1de23944",
     "showTitle": false,
     "title": ""
    }
   },
   "outputs": [],
   "source": [
    "# Step 1: Use the .map() method to get the length of the words in our_list\n",
    "# Step 2: Assign the result to the variable name \"result_map\" to print it to the screen\n",
    "\n",
    "result_map = our_series.map(len)\n",
    "print(result_map)"
   ]
  },
  {
   "cell_type": "markdown",
   "metadata": {
    "application/vnd.databricks.v1+cell": {
     "cellMetadata": {},
     "inputWidgets": {},
     "nuid": "013c243f-7ef9-4829-8a0f-d562800d4ad2",
     "showTitle": false,
     "title": ""
    }
   },
   "source": [
    "In the above example the [`.map()`](https://pandas.pydata.org/pandas-docs/stable/reference/api/pandas.Series.map.html) method iterates over `our_list`, applies the function on each element and returns the length of the strings as a new list."
   ]
  },
  {
   "cell_type": "markdown",
   "metadata": {
    "application/vnd.databricks.v1+cell": {
     "cellMetadata": {},
     "inputWidgets": {},
     "nuid": "fcd6f0ff-bc3b-4ffd-a7d7-cdddd421b181",
     "showTitle": false,
     "title": ""
    }
   },
   "source": [
    "Which one do you think is neater and shorter?\n",
    "\n",
    "```python\n",
    "result_loop = []\n",
    "\n",
    "for word in our_series:\n",
    "    result_loop.append(len(word))\n",
    "\n",
    "result_loop = pd.Series(result_loop)\n",
    "\n",
    "print(result_loop)\n",
    "```\n",
    "vs. \n",
    "\n",
    "```python\n",
    "result_map = our_series.map(len)\n",
    "print(result_map)\n",
    "```\n",
    "\n",
    "In the programming world, it is cleaner and much more concise and sophisticated to use [`.map()`](https://pandas.pydata.org/pandas-docs/stable/reference/api/pandas.Series.map.html) instead of for-loops. On top of that, with [`.map()`](https://pandas.pydata.org/pandas-docs/stable/reference/api/pandas.Series.map.html) you can guarantee that the original sequence won't be acccidentally mutated or changed, since [`.map()`](https://pandas.pydata.org/pandas-docs/stable/reference/api/pandas.Series.map.html) always returns a sequence of the results and leads to fewer errors in code. "
   ]
  },
  {
   "cell_type": "markdown",
   "metadata": {
    "application/vnd.databricks.v1+cell": {
     "cellMetadata": {},
     "inputWidgets": {},
     "nuid": "0ea62499-4925-4b68-8b2c-62fbab4f0e0b",
     "showTitle": false,
     "title": ""
    }
   },
   "source": [
    "## Example 1.3 - Using [`.map()`](https://pandas.pydata.org/pandas-docs/stable/reference/api/pandas.Series.map.html) with a dictionary\n",
    "\n",
    "For a Pandas Series the [`.map()`](https://pandas.pydata.org/pandas-docs/stable/reference/api/pandas.Series.map.html) method can also be used with a dictionary instead of a function.\n",
    "This is especially usefull if each value is simply replaced by another.  \n"
   ]
  },
  {
   "cell_type": "code",
   "execution_count": 0,
   "metadata": {
    "application/vnd.databricks.v1+cell": {
     "cellMetadata": {
      "byteLimit": 2048000,
      "rowLimit": 10000
     },
     "inputWidgets": {},
     "nuid": "6a28cb36-6318-474f-90c2-a3ab0f9911b0",
     "showTitle": false,
     "title": ""
    }
   },
   "outputs": [],
   "source": [
    "# run this code\n",
    "animal_series = pd.Series([\"wolf\", \"iguana\", \"shark\", \"capybara\"])"
   ]
  },
  {
   "cell_type": "code",
   "execution_count": 0,
   "metadata": {
    "application/vnd.databricks.v1+cell": {
     "cellMetadata": {
      "byteLimit": 2048000,
      "rowLimit": 10000
     },
     "inputWidgets": {},
     "nuid": "0ab15057-d784-4e13-8f99-5a6dfb113d17",
     "showTitle": false,
     "title": ""
    }
   },
   "outputs": [],
   "source": [
    "# Step 1: Create a dictionary mapping the values from the Series to the desired replacement values.\n",
    "# Step 2: Use the .map() method to replace the values in animal_series\n",
    "# Step 3: Assign the result to the variable name \"class_series\" to print it to the screen\n",
    "\n",
    "class_dict = {\"wolf\": \"mammal\", \"capybara\": \"mammal\", \"iguana\": \"reptile\", \"shark\": \"fish\"}\n",
    "\n",
    "class_series = animal_series.map(class_dict)\n",
    "class_series"
   ]
  },
  {
   "cell_type": "markdown",
   "metadata": {
    "application/vnd.databricks.v1+cell": {
     "cellMetadata": {},
     "inputWidgets": {},
     "nuid": "3735b7c0-b676-4611-b90a-7a473403e3e1",
     "showTitle": false,
     "title": ""
    }
   },
   "source": [
    "## Bulit-in [``map()``](https://docs.python.org/3/library/functions.html#map) function\n",
    "\n",
    "In addition to the Pandas Series method there is also a build in [``map()``](https://docs.python.org/3/library/functions.html#map) function.\n",
    "This funciton works on any iterable object in Python (e.g. list, tuple, dictionary, set, or Series).\n",
    "\n",
    "- it returns an iterator (don't worry about this concept for now)\n",
    "- the resulting values (an iterator) can be passed to the [`list()`](https://docs.python.org/3/library/functions.html#func-list) function or [`set()`](https://docs.python.org/3/library/functions.html#func-set) function to create a list or a set\n",
    "\n",
    "Example code:\n",
    "\n",
    "`map(function, iterable)`\n",
    "\n",
    "To extract the result we can use for example: <break> \n",
    "\n",
    "`list(map(function, iterable))`\n",
    "\n",
    "or \n",
    "\n",
    "`set(map(function, iterable))`"
   ]
  },
  {
   "cell_type": "markdown",
   "metadata": {
    "application/vnd.databricks.v1+cell": {
     "cellMetadata": {},
     "inputWidgets": {},
     "nuid": "d3e92b88-3709-45e2-9efc-e70ea2cf564a",
     "showTitle": false,
     "title": ""
    }
   },
   "source": [
    "## Example 1.4 - Using built-in [``map()``](https://docs.python.org/3/library/functions.html#map) function"
   ]
  },
  {
   "cell_type": "code",
   "execution_count": 0,
   "metadata": {
    "application/vnd.databricks.v1+cell": {
     "cellMetadata": {
      "byteLimit": 2048000,
      "rowLimit": 10000
     },
     "inputWidgets": {},
     "nuid": "8aedac8a-eed2-44a9-900e-91f489c2736d",
     "showTitle": false,
     "title": ""
    }
   },
   "outputs": [],
   "source": [
    "# run this code\n",
    "our_list = ['This', 'is', 'the', 'first', 'example']"
   ]
  },
  {
   "cell_type": "code",
   "execution_count": 0,
   "metadata": {
    "application/vnd.databricks.v1+cell": {
     "cellMetadata": {
      "byteLimit": 2048000,
      "rowLimit": 10000
     },
     "inputWidgets": {},
     "nuid": "44d56f1e-4797-46cb-9242-d57cf4ad8e8e",
     "showTitle": false,
     "title": ""
    }
   },
   "outputs": [],
   "source": [
    "# Step 1: Use the .map() method to get the length of the words in our_list\n",
    "# Step 2: Assign the result to the variable name \"result_map\" to print it to the screen\n",
    "\n",
    "result_map = list(map(len, our_list))\n",
    "result_map"
   ]
  },
  {
   "cell_type": "markdown",
   "metadata": {
    "application/vnd.databricks.v1+cell": {
     "cellMetadata": {},
     "inputWidgets": {},
     "nuid": "368b1e6e-e56b-46e7-a355-b0b7b475f955",
     "showTitle": false,
     "title": ""
    }
   },
   "source": [
    "Feel free to check out [this](https://stackoverflow.com/questions/1975250/when-should-i-use-a-map-instead-of-a-for-loop#:~:text=4%20Answers&text=map%20is%20useful%20when%20you,loop%20and%20constructing%20a%20list.) on stackoverflow, where the advantages of using map over for-loops are discussed."
   ]
  },
  {
   "cell_type": "markdown",
   "metadata": {
    "application/vnd.databricks.v1+cell": {
     "cellMetadata": {},
     "inputWidgets": {},
     "nuid": "9a01062c-bf50-4b98-b75c-a4702f06dbbe",
     "showTitle": false,
     "title": ""
    }
   },
   "source": [
    "### Task 1\n",
    "Now, let's create a function `triple` and a Pandas Series `numbers` which will be our iterable."
   ]
  },
  {
   "cell_type": "code",
   "execution_count": 0,
   "metadata": {
    "application/vnd.databricks.v1+cell": {
     "cellMetadata": {
      "byteLimit": 2048000,
      "rowLimit": 10000
     },
     "inputWidgets": {},
     "nuid": "7edfa971-8435-494c-978a-2251797373d8",
     "showTitle": false,
     "title": ""
    }
   },
   "outputs": [],
   "source": [
    "# Run this code \n",
    "def triple(x):\n",
    "    return x * 3"
   ]
  },
  {
   "cell_type": "code",
   "execution_count": 0,
   "metadata": {
    "application/vnd.databricks.v1+cell": {
     "cellMetadata": {
      "byteLimit": 2048000,
      "rowLimit": 10000
     },
     "inputWidgets": {},
     "nuid": "b035138b-f39d-46e9-be32-50fe5c2c9e15",
     "showTitle": false,
     "title": ""
    }
   },
   "outputs": [],
   "source": [
    "# Run this code\n",
    "numbers = pd.Series([15, 4, 8, 45, 36, 7])"
   ]
  },
  {
   "cell_type": "code",
   "execution_count": 0,
   "metadata": {
    "application/vnd.databricks.v1+cell": {
     "cellMetadata": {
      "byteLimit": 2048000,
      "rowLimit": 10000
     },
     "inputWidgets": {},
     "nuid": "b07e559b-107c-4adb-8c63-6f5a22fc7564",
     "showTitle": false,
     "title": ""
    }
   },
   "outputs": [],
   "source": [
    "# TASK 1 >>>> Apply the .map() method with the function triple on our Pandas Series 'numbers' and store it in the variable result_2 \n",
    "#             Print result_2 (the result should be the numbers multiply by 3)\n",
    "#             Think about the three different steps performed in Example 1\n",
    "\n",
    "### Start your code below ###\n"
   ]
  },
  {
   "cell_type": "markdown",
   "metadata": {
    "application/vnd.databricks.v1+cell": {
     "cellMetadata": {},
     "inputWidgets": {},
     "nuid": "fcf56324-789e-4001-9197-a8bf06d947ad",
     "showTitle": false,
     "title": ""
    }
   },
   "source": [
    "# 2. [``filter()``](https://docs.python.org/3/library/functions.html#filter) function\n",
    "\n",
    "- similar to the built-in [`map()`](https://docs.python.org/3/library/functions.html#map) function, but instead of any function, [`filter()`](https://docs.python.org/3/library/functions.html#filter) takes a Boolean-valued function (a function that returns True or False based on the input data) instead of any built-in functions and a sequence of iterables (list, tuple, dictionary, set, or Series) as arugments\n",
    "- returns the items of the intput data which the Boolean-valued function returns `True`\n",
    "- the Boolean-valued function can be used-defined function"
   ]
  },
  {
   "cell_type": "markdown",
   "metadata": {
    "application/vnd.databricks.v1+cell": {
     "cellMetadata": {},
     "inputWidgets": {},
     "nuid": "610fbfdc-393c-4b48-8cf6-fb19bbce2b98",
     "showTitle": false,
     "title": ""
    }
   },
   "source": [
    "Imagine there is a list with positive and negative numbers"
   ]
  },
  {
   "cell_type": "code",
   "execution_count": 0,
   "metadata": {
    "application/vnd.databricks.v1+cell": {
     "cellMetadata": {
      "byteLimit": 2048000,
      "rowLimit": 10000
     },
     "inputWidgets": {},
     "nuid": "26c9307f-3b1f-4205-a638-0f35b6dcec7c",
     "showTitle": false,
     "title": ""
    }
   },
   "outputs": [],
   "source": [
    "# Run this code\n",
    "list_mixed = [-1,0,2,24,-42,-5,30,99]"
   ]
  },
  {
   "cell_type": "code",
   "execution_count": 0,
   "metadata": {
    "application/vnd.databricks.v1+cell": {
     "cellMetadata": {
      "byteLimit": 2048000,
      "rowLimit": 10000
     },
     "inputWidgets": {},
     "nuid": "cb0e460e-741c-48d8-830f-696dfdd86bf5",
     "showTitle": false,
     "title": ""
    }
   },
   "outputs": [],
   "source": [
    "# Run this code\n",
    "def criteria(x): \n",
    "    return x >= 0"
   ]
  },
  {
   "cell_type": "markdown",
   "metadata": {
    "application/vnd.databricks.v1+cell": {
     "cellMetadata": {},
     "inputWidgets": {},
     "nuid": "79ee786e-7f20-4e8a-bbe9-56b8fa7f60b6",
     "showTitle": false,
     "title": ""
    }
   },
   "source": [
    "With the help of filter and our own user-defined function we can filter out the negative values and be left with only positive values."
   ]
  },
  {
   "cell_type": "code",
   "execution_count": 0,
   "metadata": {
    "application/vnd.databricks.v1+cell": {
     "cellMetadata": {
      "byteLimit": 2048000,
      "rowLimit": 10000
     },
     "inputWidgets": {},
     "nuid": "b3bacc74-a5d3-49a2-ba82-e0aa383a95a5",
     "showTitle": false,
     "title": ""
    }
   },
   "outputs": [],
   "source": [
    "list_positive = list(filter(criteria, list_mixed))\n",
    "print(list_positive)"
   ]
  },
  {
   "cell_type": "markdown",
   "metadata": {
    "application/vnd.databricks.v1+cell": {
     "cellMetadata": {},
     "inputWidgets": {},
     "nuid": "bde6025e-18d7-415c-bfa5-a74007c910ad",
     "showTitle": false,
     "title": ""
    }
   },
   "source": [
    "Did you know we can combine the [`map()`](https://docs.python.org/3/library/functions.html#map) and [`filter()`](https://docs.python.org/3/library/functions.html#filter) functions? Since [`filter()`](https://docs.python.org/3/library/functions.html#filter) returns a selected iterable based on certain criteria, the output of [`filter()`](https://docs.python.org/3/library/functions.html#filter) can be our input for the [`map()`](https://docs.python.org/3/library/functions.html#map) method.\n",
    "\n",
    "In order to avoid a negative number as an argument for [`math.sqrt()`](https://docs.python.org/3/library/math.html#math.sqrt) which will result in a `ValueError`, we want to filter out the negative numbers before we apply the [`math.sqrt()`](https://docs.python.org/3/library/math.html#math.sqrt) method."
   ]
  },
  {
   "cell_type": "code",
   "execution_count": 0,
   "metadata": {
    "application/vnd.databricks.v1+cell": {
     "cellMetadata": {
      "byteLimit": 2048000,
      "rowLimit": 10000
     },
     "inputWidgets": {},
     "nuid": "d1756eaf-6439-4e3c-848b-83db1b75a59a",
     "showTitle": false,
     "title": ""
    }
   },
   "outputs": [],
   "source": [
    "list_sqrt = list(map(math.sqrt, filter(criteria, list_mixed)))\n",
    "print(list_sqrt)"
   ]
  },
  {
   "cell_type": "markdown",
   "metadata": {
    "application/vnd.databricks.v1+cell": {
     "cellMetadata": {},
     "inputWidgets": {},
     "nuid": "7a6a1ace-f7a0-4cf5-a9a9-2f5725babd95",
     "showTitle": false,
     "title": ""
    }
   },
   "source": [
    "### Optional: Task 2"
   ]
  },
  {
   "cell_type": "code",
   "execution_count": 0,
   "metadata": {
    "application/vnd.databricks.v1+cell": {
     "cellMetadata": {
      "byteLimit": 2048000,
      "rowLimit": 10000
     },
     "inputWidgets": {},
     "nuid": "8426d480-2885-408a-a526-bf48dc5d4357",
     "showTitle": false,
     "title": ""
    }
   },
   "outputs": [],
   "source": [
    "# TASK 2 >>>> With the help of .map() and .filter(),\n",
    "#             round up any number that is bigger than 5 from the list \"list_sqrt\" to the next whole digit.\n",
    "#             To round up the number, you can use round().\n",
    "#             Don't forget to write your user-defined function as your criteria to filter out the \"not desirable\" numbers\n",
    "\n",
    "### Start your code below ###"
   ]
  },
  {
   "cell_type": "markdown",
   "metadata": {
    "application/vnd.databricks.v1+cell": {
     "cellMetadata": {},
     "inputWidgets": {},
     "nuid": "baade3da-a2a9-49dc-928b-38e375df30f0",
     "showTitle": false,
     "title": ""
    }
   },
   "source": [
    "# 3. [`.apply()`](https://pandas.pydata.org/pandas-docs/stable/reference/api/pandas.DataFrame.apply.html) method\n",
    "\n",
    "- this method applies a function along an axis of the DataFrame \\\\(^{1}\\\\) or a Series\n",
    "- it also works elementwise but is suited to more complex functions and operations\n",
    "- it accepts user-defined functions which apply a transformation/aggregation on a DataFrame (or Series) as well\n",
    "\n",
    "You can find a nice comparison of [`.map()`](https://pandas.pydata.org/pandas-docs/stable/reference/api/pandas.DataFrame.map.html) and [`.apply()`](https://pandas.pydata.org/pandas-docs/stable/reference/api/pandas.DataFrame.apply.html) methods and when to use them in [this article on stackoverflow](https://stackoverflow.com/questions/19798153/difference-between-map-applymap-and-apply-methods-in-pandas)."
   ]
  },
  {
   "cell_type": "markdown",
   "metadata": {
    "application/vnd.databricks.v1+cell": {
     "cellMetadata": {},
     "inputWidgets": {},
     "nuid": "2f3b8b0a-295f-41d0-973a-edf6c9288691",
     "showTitle": false,
     "title": ""
    }
   },
   "source": [
    "### Example 3.1"
   ]
  },
  {
   "cell_type": "code",
   "execution_count": 0,
   "metadata": {
    "application/vnd.databricks.v1+cell": {
     "cellMetadata": {
      "byteLimit": 2048000,
      "rowLimit": 10000
     },
     "inputWidgets": {},
     "nuid": "77bfb27a-6d02-4f85-8a58-50f57de471e6",
     "showTitle": false,
     "title": ""
    }
   },
   "outputs": [],
   "source": [
    "# Run this code\n",
    "students = [(1, 'Robert', 30, 'Slovakia', 26),\n",
    "           (2, 'Jana', 29, 'Sweden' , 27),\n",
    "           (3, 'Martin', 31, 'Sweden', 26),\n",
    "           (4, 'Kristina', 26,'Germany' , 30),\n",
    "           (5, 'Peter', 33, 'Austria' , 22),\n",
    "           (6, 'Nikola', 25, 'USA', 23),\n",
    "           (7, 'Renato', 35, 'Brazil', 26)]\n",
    "\n",
    "students_1 = pd.DataFrame(students, columns= ['student_id', 'first_name', 'age', 'country', 'score'])\n",
    "print(students_1)"
   ]
  },
  {
   "cell_type": "code",
   "execution_count": 0,
   "metadata": {
    "application/vnd.databricks.v1+cell": {
     "cellMetadata": {
      "byteLimit": 2048000,
      "rowLimit": 10000
     },
     "inputWidgets": {},
     "nuid": "84ac28b3-005d-48f4-a209-2b6bfd32d15d",
     "showTitle": false,
     "title": ""
    }
   },
   "outputs": [],
   "source": [
    "# Run this code to create a regular function\n",
    "\n",
    "def score_func(x): \n",
    "    if x < 25: \n",
    "        return \"Retake\" \n",
    "    else: \n",
    "        return \"Pass\""
   ]
  },
  {
   "cell_type": "code",
   "execution_count": 0,
   "metadata": {
    "application/vnd.databricks.v1+cell": {
     "cellMetadata": {
      "byteLimit": 2048000,
      "rowLimit": 10000
     },
     "inputWidgets": {},
     "nuid": "ae25da64-7b92-4fc7-9255-65bbe94fc8ff",
     "showTitle": false,
     "title": ""
    }
   },
   "outputs": [],
   "source": [
    "# Use .apply() along with score_func  \n",
    "students_1['result'] = students_1.score.apply(score_func)\n",
    "print(students_1)"
   ]
  },
  {
   "cell_type": "markdown",
   "metadata": {
    "application/vnd.databricks.v1+cell": {
     "cellMetadata": {},
     "inputWidgets": {},
     "nuid": "47fcc765-1da0-4793-a6a1-35d0ff2509a2",
     "showTitle": false,
     "title": ""
    }
   },
   "source": [
    "But in comparison to the [`.map()`](https://pandas.pydata.org/pandas-docs/stable/reference/api/pandas.DataFrame.map.html) method, [`.apply()`](https://pandas.pydata.org/pandas-docs/stable/reference/api/pandas.DataFrame.apply.html) is capable of more complicated operations.\n",
    "\n",
    "## Example 3.2 - Applying a function with positional arguments\n",
    "\n",
    "If we define a function with an additional positional argument we can still use [`.apply()`](https://pandas.pydata.org/pandas-docs/stable/reference/api/pandas.DataFrame.apply.html).\n",
    "See if you can figure out the code below."
   ]
  },
  {
   "cell_type": "code",
   "execution_count": 0,
   "metadata": {
    "application/vnd.databricks.v1+cell": {
     "cellMetadata": {
      "byteLimit": 2048000,
      "rowLimit": 10000
     },
     "inputWidgets": {},
     "nuid": "cd39b03e-a11f-4094-8934-d3866439a402",
     "showTitle": false,
     "title": ""
    }
   },
   "outputs": [],
   "source": [
    "def score_func(x, threshhold):\n",
    "    if x < threshhold:\n",
    "        return \"Retake\"\n",
    "    else:\n",
    "        return \"Pass\""
   ]
  },
  {
   "cell_type": "code",
   "execution_count": 0,
   "metadata": {
    "application/vnd.databricks.v1+cell": {
     "cellMetadata": {
      "byteLimit": 2048000,
      "rowLimit": 10000
     },
     "inputWidgets": {},
     "nuid": "885ec102-5850-4d0e-8ac1-507549a15886",
     "showTitle": false,
     "title": ""
    }
   },
   "outputs": [],
   "source": [
    "# Use .apply() along with score_func \n",
    "students_1['result'] = students_1.score.apply(score_func, args=(28,))\n",
    "print(students_1)"
   ]
  },
  {
   "cell_type": "markdown",
   "metadata": {
    "application/vnd.databricks.v1+cell": {
     "cellMetadata": {},
     "inputWidgets": {},
     "nuid": "e6ec0917-6504-4137-aa69-d3e11722f932",
     "showTitle": false,
     "title": ""
    }
   },
   "source": [
    "## Example 3.3 - Using reducing functions and changing the axis\n",
    "\n",
    "In this example we are not applying the function elementwise but rather we are applying a reducing function.\n",
    "We will also show how we can summarize either by column or by row.  \n",
    "First let's create a new dataframe containing some fictional test results."
   ]
  },
  {
   "cell_type": "code",
   "execution_count": 0,
   "metadata": {
    "application/vnd.databricks.v1+cell": {
     "cellMetadata": {
      "byteLimit": 2048000,
      "rowLimit": 10000
     },
     "inputWidgets": {},
     "nuid": "c4a5c692-4123-4458-81b3-07f1c323ae29",
     "showTitle": false,
     "title": ""
    }
   },
   "outputs": [],
   "source": [
    "# run this code\n",
    "\n",
    "tests = pd.DataFrame(\n",
    "    {\n",
    "        \"1. Test\": [87, 97, 98, 81, 98, 66, 94],\n",
    "        \"2. Test\": [66, 76, 73, 79, 55, 98, 84],\n",
    "        \"3. Test\": [53, 72, 68, 52, 79, 55, 99],\n",
    "    }\n",
    ")\n",
    "tests.index = [\"Robert\", \"Jana\", \"Martin\", \"Kristina\", \"Peter\", \"Nikola\", \"Renato\"]\n",
    "tests"
   ]
  },
  {
   "cell_type": "markdown",
   "metadata": {
    "application/vnd.databricks.v1+cell": {
     "cellMetadata": {},
     "inputWidgets": {},
     "nuid": "e9711261-ba7d-4b5d-b9c3-35408c08bf95",
     "showTitle": false,
     "title": ""
    }
   },
   "source": [
    "If we are working with a Pandas DataFrame by default a funciton is applied to each column.\n",
    "Let's say we want to know the average score for each test."
   ]
  },
  {
   "cell_type": "code",
   "execution_count": 0,
   "metadata": {
    "application/vnd.databricks.v1+cell": {
     "cellMetadata": {
      "byteLimit": 2048000,
      "rowLimit": 10000
     },
     "inputWidgets": {},
     "nuid": "6445f096-1617-4b0a-a985-8fb5b87923d5",
     "showTitle": false,
     "title": ""
    }
   },
   "outputs": [],
   "source": [
    "# use apply with a reduce function, the result is a series\n",
    "avg_score = tests.apply(np.mean)\n",
    "avg_score"
   ]
  },
  {
   "cell_type": "markdown",
   "metadata": {
    "application/vnd.databricks.v1+cell": {
     "cellMetadata": {},
     "inputWidgets": {},
     "nuid": "a4670001-5fb7-4d5b-bdfa-0901f34aae80",
     "showTitle": false,
     "title": ""
    }
   },
   "source": [
    "Now we want to find the maximum score each student has achieved. \n",
    "In order to achieve this we will use the ``axis`` argument.\n",
    "\n",
    "- 0 or 'index': apply function to each column (default)\n",
    "- 1 or 'columns': apply function to each row."
   ]
  },
  {
   "cell_type": "code",
   "execution_count": 0,
   "metadata": {
    "application/vnd.databricks.v1+cell": {
     "cellMetadata": {
      "byteLimit": 2048000,
      "rowLimit": 10000
     },
     "inputWidgets": {},
     "nuid": "ae195ad0-66d3-49e8-b07d-00915a7ae3dd",
     "showTitle": false,
     "title": ""
    }
   },
   "outputs": [],
   "source": [
    "tests.apply(np.max, axis = 1)"
   ]
  },
  {
   "cell_type": "markdown",
   "metadata": {
    "application/vnd.databricks.v1+cell": {
     "cellMetadata": {},
     "inputWidgets": {},
     "nuid": "d031f0ef-7dba-4910-899b-bebb6caa32ec",
     "showTitle": false,
     "title": ""
    }
   },
   "source": [
    "The results above could also be achieved using the [``.agg()``](https://pandas.pydata.org/pandas-docs/stable/reference/api/pandas.DataFrame.agg.html) method introduced in an earlier notebook.\n",
    "However [`.apply()`](https://pandas.pydata.org/pandas-docs/stable/reference/api/pandas.DataFrame.apply.html) offers more flexibility."
   ]
  },
  {
   "cell_type": "markdown",
   "metadata": {
    "application/vnd.databricks.v1+cell": {
     "cellMetadata": {},
     "inputWidgets": {},
     "nuid": "0539b78c-fee2-41ea-a6d5-9e3b275db8d9",
     "showTitle": false,
     "title": ""
    }
   },
   "source": [
    "### Example 4.0\n",
    "\n",
    "As we already know, regular functions are created using the `def` keyword. These type of functions can have any number of arguments and expressions."
   ]
  },
  {
   "cell_type": "code",
   "execution_count": 0,
   "metadata": {
    "application/vnd.databricks.v1+cell": {
     "cellMetadata": {
      "byteLimit": 2048000,
      "rowLimit": 10000
     },
     "inputWidgets": {},
     "nuid": "a09133ea-f7cf-4645-863c-aec23efd638f",
     "showTitle": false,
     "title": ""
    }
   },
   "outputs": [],
   "source": [
    "# Example of regular function\n",
    "def multi_add(x):\n",
    "    return x * 2 + 5"
   ]
  },
  {
   "cell_type": "code",
   "execution_count": 0,
   "metadata": {
    "application/vnd.databricks.v1+cell": {
     "cellMetadata": {
      "byteLimit": 2048000,
      "rowLimit": 10000
     },
     "inputWidgets": {},
     "nuid": "a9b613c7-f83c-4d03-a65f-4855e44974c9",
     "showTitle": false,
     "title": ""
    }
   },
   "outputs": [],
   "source": [
    "result_1 = multi_add(5)\n",
    "print(result_1)"
   ]
  },
  {
   "cell_type": "markdown",
   "metadata": {
    "application/vnd.databricks.v1+cell": {
     "cellMetadata": {},
     "inputWidgets": {},
     "nuid": "11f7bad8-556e-4730-9932-0834eaa2e3dc",
     "showTitle": false,
     "title": ""
    }
   },
   "source": [
    "# 4. Lambda Function\n",
    "- an anonymous function (it means it can be defined without a name)\n",
    "- the `def` keyword is not necessary with a lambda function\n",
    "- lambda functions can have any number of parameters, but the function body can only **contain one expression** (that means multiple statements are not allowed in the body of a lambda function) = it is used for *_one-line expressions_*\n",
    "- it returns a function object which can be assigned to variable\n",
    "\n",
    "General syntax: `lambda x: x`\n",
    "\n",
    "\n",
    "\n",
    "\n",
    "### Example 4.1"
   ]
  },
  {
   "cell_type": "code",
   "execution_count": 0,
   "metadata": {
    "application/vnd.databricks.v1+cell": {
     "cellMetadata": {
      "byteLimit": 2048000,
      "rowLimit": 10000
     },
     "inputWidgets": {},
     "nuid": "6357bd23-0093-4539-8af8-b3356a8bf0cb",
     "showTitle": false,
     "title": ""
    }
   },
   "outputs": [],
   "source": [
    "our_lambda = lambda x: x * 2 + 5\n",
    "print(our_lambda(5))"
   ]
  },
  {
   "cell_type": "markdown",
   "metadata": {
    "application/vnd.databricks.v1+cell": {
     "cellMetadata": {},
     "inputWidgets": {},
     "nuid": "22e6959d-dcc0-4dd9-95eb-b7017e632394",
     "showTitle": false,
     "title": ""
    }
   },
   "source": [
    "This simple lambda function takes an input `x` (in our case number 5), multiplies it by `2` and adds `5`. <br>\n",
    "\n",
    "Lambda functions are commonly used along [`.apply()`](https://pandas.pydata.org/pandas-docs/stable/reference/api/pandas.DataFrame.apply.html) method and can be really useful. <br>\n",
    "\n",
    "### Example 4.2\n",
    "\n",
    "Imagine that the scores of students above have not been correctly recorded and we need to multiply them by 10. \n",
    "\n",
    "Use a lambda function along with [`.apply()`](https://pandas.pydata.org/pandas-docs/stable/reference/api/pandas.DataFrame.apply.html) and assign it to the specific column of the dataset ('score'). "
   ]
  },
  {
   "cell_type": "code",
   "execution_count": 0,
   "metadata": {
    "application/vnd.databricks.v1+cell": {
     "cellMetadata": {
      "byteLimit": 2048000,
      "rowLimit": 10000
     },
     "inputWidgets": {},
     "nuid": "ab387a12-35c0-48fc-ac0f-cdae1c71bf8d",
     "showTitle": false,
     "title": ""
    }
   },
   "outputs": [],
   "source": [
    "students_1.score = students_1.score.apply(lambda x: x * 10)\n",
    "print(students_1)"
   ]
  },
  {
   "cell_type": "markdown",
   "metadata": {
    "application/vnd.databricks.v1+cell": {
     "cellMetadata": {},
     "inputWidgets": {},
     "nuid": "3ba95bbc-88cd-46a6-b623-77618cc2ea53",
     "showTitle": false,
     "title": ""
    }
   },
   "source": [
    "### Task 3"
   ]
  },
  {
   "cell_type": "code",
   "execution_count": 0,
   "metadata": {
    "application/vnd.databricks.v1+cell": {
     "cellMetadata": {
      "byteLimit": 2048000,
      "rowLimit": 10000
     },
     "inputWidgets": {},
     "nuid": "d0f6b0b4-bf50-4165-baf5-2c531ddaa97a",
     "showTitle": false,
     "title": ""
    }
   },
   "outputs": [],
   "source": [
    "# TASK 3 >>>> Use the .apply() method on column 'country' along with lambda to make words uppercase \n",
    "#             Do not forget assign it to this column\n",
    "\n",
    "### Start your code below ###"
   ]
  },
  {
   "cell_type": "markdown",
   "metadata": {
    "application/vnd.databricks.v1+cell": {
     "cellMetadata": {},
     "inputWidgets": {},
     "nuid": "f483c166-a196-41be-9804-cdaab794b4c1",
     "showTitle": false,
     "title": ""
    }
   },
   "source": [
    "We can use lambda functions to simplify Example 3.1 like this:"
   ]
  },
  {
   "cell_type": "code",
   "execution_count": 0,
   "metadata": {
    "application/vnd.databricks.v1+cell": {
     "cellMetadata": {
      "byteLimit": 2048000,
      "rowLimit": 10000
     },
     "inputWidgets": {},
     "nuid": "aadd05a4-a8c7-4bad-8540-8b277184c477",
     "showTitle": false,
     "title": ""
    }
   },
   "outputs": [],
   "source": [
    "# Run this code\n",
    "students = [(1, 'Robert', 30, 'Slovakia', 26),\n",
    "           (2, 'Jana', 29, 'Sweden' , 27),\n",
    "           (3, 'Martin', 31, 'Sweden', 26),\n",
    "           (4, 'Kristina', 26,'Germany' , 30),\n",
    "           (5, 'Peter', 33, 'Austria' , 22),\n",
    "           (6, 'Nikola', 25, 'USA', 23),\n",
    "           (7, 'Renato', 35, 'Brazil', 26)]\n",
    "\n",
    "students_1 = pd.DataFrame(students, columns= ['student_id', 'first_name', 'age', 'country', 'score'])"
   ]
  },
  {
   "cell_type": "code",
   "execution_count": 0,
   "metadata": {
    "application/vnd.databricks.v1+cell": {
     "cellMetadata": {
      "byteLimit": 2048000,
      "rowLimit": 10000
     },
     "inputWidgets": {},
     "nuid": "9cbc329c-6598-41f6-ab4a-2bca95cc8a46",
     "showTitle": false,
     "title": ""
    }
   },
   "outputs": [],
   "source": [
    "# A Lambda function is used instead of the custom defined function \"score_func\"\n",
    "\n",
    "students_1['result'] = students_1.score.apply(lambda x: \"Pass\" if (x > 25) else \"Retake\")\n",
    "print(students_1)"
   ]
  },
  {
   "cell_type": "markdown",
   "metadata": {
    "application/vnd.databricks.v1+cell": {
     "cellMetadata": {},
     "inputWidgets": {},
     "nuid": "bdb66864-e36a-4525-bfd7-9585032547b7",
     "showTitle": false,
     "title": ""
    }
   },
   "source": [
    "# References\n",
    "\n",
    "\\\\(^{1}\\\\) pandas. pandas.DataFrame.apply. [ONLINE] Available at: https://pandas.pydata.org/pandas-docs/stable/reference/api/pandas.DataFrame.apply.html#pandas-dataframe-apply. [Accessed 14 September 2020].\n",
    "\n",
    "Stackoverflow. Difference between map, applymap and apply methods in Pandas. [ONLINE] Available at: https://stackoverflow.com/questions/19798153/difference-between-map-applymap-and-apply-methods-in-pandas. [Accessed 14 September 2020].\n",
    "\n",
    "Material adapted for RBI internal purposes with full permissions from original authors."
   ]
  }
 ],
 "metadata": {
  "application/vnd.databricks.v1+notebook": {
   "dashboards": [],
   "language": "python",
   "notebookMetadata": {
    "pythonIndentUnit": 4
   },
   "notebookName": "4_Transforming_data_jupyter",
   "widgets": {}
  }
 },
 "nbformat": 4,
 "nbformat_minor": 0
}
