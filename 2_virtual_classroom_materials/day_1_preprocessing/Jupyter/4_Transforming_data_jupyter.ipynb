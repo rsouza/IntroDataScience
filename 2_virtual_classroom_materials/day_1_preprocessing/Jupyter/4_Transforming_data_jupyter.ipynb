{
 "cells": [
  {
   "cell_type": "markdown",
   "metadata": {
    "application/vnd.databricks.v1+cell": {
     "cellMetadata": {
      "byteLimit": 2048000,
      "rowLimit": 10000
     },
     "inputWidgets": {},
     "nuid": "cb935c6f-8ca7-4449-b28f-da79c2ecdbc3",
     "showTitle": false,
     "title": ""
    }
   },
   "source": [
    "# Transforming the data"
   ]
  },
  {
   "cell_type": "code",
   "execution_count": 0,
   "metadata": {
    "application/vnd.databricks.v1+cell": {
     "cellMetadata": {
      "byteLimit": 2048000,
      "rowLimit": 10000
     },
     "inputWidgets": {},
     "nuid": "0acf03b5-7a41-4c4b-8bbb-ae5fea1eebb1",
     "showTitle": false,
     "title": ""
    }
   },
   "outputs": [],
   "source": [
    "# importing essential packages\n",
    "import pandas as pd\n",
    "import math"
   ]
  },
  {
   "cell_type": "markdown",
   "metadata": {
    "application/vnd.databricks.v1+cell": {
     "cellMetadata": {
      "byteLimit": 2048000,
      "rowLimit": 10000
     },
     "inputWidgets": {},
     "nuid": "fcc8edfc-52fd-480b-8981-9b1875f7eecb",
     "showTitle": false,
     "title": ""
    }
   },
   "source": [
    "# 1. `.map()` method\n",
    "\n",
    "- `.map()` method is a great tool to have when it comes to processing & transforming iterables of numeric values\n",
    "- it is a convenient way to perform _element-wise_ transformations and other data cleaning-related operations\n",
    "- this method on Series takes a function object and a sequence of iterables (list, tuple, dictionary, set, or Series) as arguments\n",
    "- any built-in functions that take an argument and returns a value can be used with `.map()`\n",
    "- it returns an iterator (don't worry about this concept for now)\n",
    "- the resulting values (an iterator) can be passed to the `list()` function or `set()` function to create a list or a set\n",
    "\n",
    "Example code:\n",
    "\n",
    "`map(function, iterable)`\n",
    "\n",
    "To extract the result we can use for example: <break> \n",
    "\n",
    "`list(map(function, iterable))`\n",
    "\n",
    "or \n",
    "\n",
    "`set(map(function, iterable))`"
   ]
  },
  {
   "cell_type": "markdown",
   "metadata": {
    "application/vnd.databricks.v1+cell": {
     "cellMetadata": {
      "byteLimit": 2048000,
      "rowLimit": 10000
     },
     "inputWidgets": {},
     "nuid": "2159142f-cf64-4573-a065-df0e0f2691a1",
     "showTitle": false,
     "title": ""
    }
   },
   "source": [
    "### Example 1.1 - Example using For Loops"
   ]
  },
  {
   "cell_type": "code",
   "execution_count": 0,
   "metadata": {
    "application/vnd.databricks.v1+cell": {
     "cellMetadata": {
      "byteLimit": 2048000,
      "rowLimit": 10000
     },
     "inputWidgets": {},
     "nuid": "d42a992e-f2f1-4751-bad9-075672195a10",
     "showTitle": false,
     "title": ""
    }
   },
   "outputs": [],
   "source": [
    "# Run this code\n",
    "our_list = ['This', 'is', 'the', 'first', 'example']"
   ]
  },
  {
   "cell_type": "code",
   "execution_count": 0,
   "metadata": {
    "application/vnd.databricks.v1+cell": {
     "cellMetadata": {
      "byteLimit": 2048000,
      "rowLimit": 10000
     },
     "inputWidgets": {},
     "nuid": "421aa0e3-e852-452d-929a-f2b03cacdf3f",
     "showTitle": false,
     "title": ""
    }
   },
   "outputs": [],
   "source": [
    "#Step 1: intialize an empty list \"result_loop\" that will store our results later\n",
    "#Step 2: get the length of each variable in the list \"our_list\"\n",
    "#Step 3: append the result to the list \"result_loop\"\n",
    "#Step 4: print the result\n",
    "\n",
    "result_loop = []\n",
    "\n",
    "for word in our_list:\n",
    "    result_loop.append(len(word))\n",
    "\n",
    "print(result_loop)"
   ]
  },
  {
   "cell_type": "markdown",
   "metadata": {
    "application/vnd.databricks.v1+cell": {
     "cellMetadata": {
      "byteLimit": 2048000,
      "rowLimit": 10000
     },
     "inputWidgets": {},
     "nuid": "3c8b4c54-144f-4f07-8c92-1c6d6aac1312",
     "showTitle": false,
     "title": ""
    }
   },
   "source": [
    "### Example 1.2 - Example using .map() function"
   ]
  },
  {
   "cell_type": "code",
   "execution_count": 0,
   "metadata": {
    "application/vnd.databricks.v1+cell": {
     "cellMetadata": {
      "byteLimit": 2048000,
      "rowLimit": 10000
     },
     "inputWidgets": {},
     "nuid": "45887468-2646-4d3b-a592-b4ea921e50d6",
     "showTitle": false,
     "title": ""
    }
   },
   "outputs": [],
   "source": [
    "# Run this code\n",
    "our_list = ['This', 'is', 'the', 'first', 'example']"
   ]
  },
  {
   "cell_type": "code",
   "execution_count": 0,
   "metadata": {
    "application/vnd.databricks.v1+cell": {
     "cellMetadata": {
      "byteLimit": 2048000,
      "rowLimit": 10000
     },
     "inputWidgets": {},
     "nuid": "935f9fd5-5e20-46e8-b14c-b01cd7c88db8",
     "showTitle": false,
     "title": ""
    }
   },
   "outputs": [],
   "source": [
    "# Step 1: Use the .map() method to get the length of the words in our_list\n",
    "# Step 2: Pass the list() function to create a list of resulting values\n",
    "# Step 3: Assign the result to the variable name \"result\" to print it to the screen\n",
    "\n",
    "result_map = list(map(len, our_list))\n",
    "print(result_map)"
   ]
  },
  {
   "cell_type": "markdown",
   "metadata": {
    "application/vnd.databricks.v1+cell": {
     "cellMetadata": {
      "byteLimit": 2048000,
      "rowLimit": 10000
     },
     "inputWidgets": {},
     "nuid": "5b4c3e71-2cc1-4ec5-87d9-6c551b982bb4",
     "showTitle": false,
     "title": ""
    }
   },
   "source": [
    "In the above example the `.map()` method iterates over `our_list`, applies the function on each element and returns the length of the strings as a new list."
   ]
  },
  {
   "cell_type": "markdown",
   "metadata": {
    "application/vnd.databricks.v1+cell": {
     "cellMetadata": {
      "byteLimit": 2048000,
      "rowLimit": 10000
     },
     "inputWidgets": {},
     "nuid": "e35127c8-c0d4-400f-b25f-8c191966222b",
     "showTitle": false,
     "title": ""
    }
   },
   "source": [
    "Which one do you think is neater and shorter?\n",
    "\n",
    "```python\n",
    "result_loop = []\n",
    "\n",
    "for word in our_list:\n",
    "  result_loops.append(len(word))\n",
    "\n",
    "print(result_loop)\n",
    "```\n",
    "vs. \n",
    "\n",
    "```python\n",
    "result_map = list(map(len, our_list))\n",
    "print(result_map)\n",
    "```\n",
    "\n",
    "In the programming world, it is cleaner and much more concise and sophisticated to use ``map()`` instead of for-loops. On top of that, with `map()` you can guarantee that the original sequence won't be acccidentally mutated or changed, since `map()` always returns a sequence of the results and leads to fewer errors in code. \n",
    "\n",
    "Feel free to check out [this](https://stackoverflow.com/questions/1975250/when-should-i-use-a-map-instead-of-a-for-loop#:~:text=4%20Answers&text=map%20is%20useful%20when%20you,loop%20and%20constructing%20a%20list.) on stackoverflow, where the advantages of using map over for-loops are discussed."
   ]
  },
  {
   "cell_type": "markdown",
   "metadata": {
    "application/vnd.databricks.v1+cell": {
     "cellMetadata": {
      "byteLimit": 2048000,
      "rowLimit": 10000
     },
     "inputWidgets": {},
     "nuid": "5c874b95-a2a7-4208-ab90-b37b4534ff23",
     "showTitle": false,
     "title": ""
    }
   },
   "source": [
    "### Task 1\n",
    "Now, let's create a function `triple` and a Pandas Series `numbers` which will be our iterable."
   ]
  },
  {
   "cell_type": "code",
   "execution_count": 0,
   "metadata": {
    "application/vnd.databricks.v1+cell": {
     "cellMetadata": {
      "byteLimit": 2048000,
      "rowLimit": 10000
     },
     "inputWidgets": {},
     "nuid": "91926229-a243-44d7-a7a9-c3713fdedebc",
     "showTitle": false,
     "title": ""
    }
   },
   "outputs": [],
   "source": [
    "# Run this code \n",
    "def triple(x):\n",
    "    return x * 3"
   ]
  },
  {
   "cell_type": "code",
   "execution_count": 0,
   "metadata": {
    "application/vnd.databricks.v1+cell": {
     "cellMetadata": {
      "byteLimit": 2048000,
      "rowLimit": 10000
     },
     "inputWidgets": {},
     "nuid": "9dd265d4-c310-405a-94e1-59566403bc33",
     "showTitle": false,
     "title": ""
    }
   },
   "outputs": [],
   "source": [
    "# Run this code\n",
    "numbers = pd.Series([15, 4, 8, 45, 36, 7])"
   ]
  },
  {
   "cell_type": "code",
   "execution_count": 0,
   "metadata": {
    "application/vnd.databricks.v1+cell": {
     "cellMetadata": {
      "byteLimit": 2048000,
      "rowLimit": 10000
     },
     "inputWidgets": {},
     "nuid": "1409f4b1-83fb-4866-8059-28153ea95bb2",
     "showTitle": false,
     "title": ""
    }
   },
   "outputs": [],
   "source": [
    "# TASK 1 >>>> Apply the .map() method with the function triple on our Pandas Series 'numbers' and store it in the variable result_2 \n",
    "#             Print result_2 (the result should be the numbers multiply by 3)\n",
    "#             Think about the three different steps performed in Example 1\n",
    "\n",
    "### Start your code below ###"
   ]
  },
  {
   "cell_type": "markdown",
   "metadata": {
    "application/vnd.databricks.v1+cell": {
     "cellMetadata": {
      "byteLimit": 2048000,
      "rowLimit": 10000
     },
     "inputWidgets": {},
     "nuid": "4767ddf8-6369-4135-b26d-62f0be1ffed4",
     "showTitle": false,
     "title": ""
    }
   },
   "source": [
    "# 2. .filter() method\n",
    "\n",
    "- similar to `.map()`, but instead of any function, `.filter()` takes a Boolean-valued function (a function that returns True or False based on the input data) instead of any built-in functions and a sequence of iterables (list, tuple, dictionary, set, or Series) as arugments\n",
    "- returns the items of the intput data which the Boolean-valued function returns `True`\n",
    "- the Boolean-valued function can be used-defined function"
   ]
  },
  {
   "cell_type": "markdown",
   "metadata": {
    "application/vnd.databricks.v1+cell": {
     "cellMetadata": {
      "byteLimit": 2048000,
      "rowLimit": 10000
     },
     "inputWidgets": {},
     "nuid": "d5880d2b-260f-4e9c-8fc4-dfbdac6e05c4",
     "showTitle": false,
     "title": ""
    }
   },
   "source": [
    "Imagine there is a list with positive and negative numbers"
   ]
  },
  {
   "cell_type": "code",
   "execution_count": 0,
   "metadata": {
    "application/vnd.databricks.v1+cell": {
     "cellMetadata": {
      "byteLimit": 2048000,
      "rowLimit": 10000
     },
     "inputWidgets": {},
     "nuid": "462f94b2-d320-4177-9194-8ff3e0d23531",
     "showTitle": false,
     "title": ""
    }
   },
   "outputs": [],
   "source": [
    "# Run this code\n",
    "list_mixed = [-1,0,2,24,-42,-5,30,99]"
   ]
  },
  {
   "cell_type": "code",
   "execution_count": 0,
   "metadata": {
    "application/vnd.databricks.v1+cell": {
     "cellMetadata": {
      "byteLimit": 2048000,
      "rowLimit": 10000
     },
     "inputWidgets": {},
     "nuid": "168bc39d-738e-4e96-a5b2-f8c5bfd4e730",
     "showTitle": false,
     "title": ""
    }
   },
   "outputs": [],
   "source": [
    "# Run this code\n",
    "def criteria(x): \n",
    "    return x >= 0"
   ]
  },
  {
   "cell_type": "markdown",
   "metadata": {
    "application/vnd.databricks.v1+cell": {
     "cellMetadata": {
      "byteLimit": 2048000,
      "rowLimit": 10000
     },
     "inputWidgets": {},
     "nuid": "fbaa88f7-bff5-4e2b-beb3-18844659e75c",
     "showTitle": false,
     "title": ""
    }
   },
   "source": [
    "With the help of filter and our own user-defined function we can filter out the negative values and be left with only positive values."
   ]
  },
  {
   "cell_type": "code",
   "execution_count": 0,
   "metadata": {
    "application/vnd.databricks.v1+cell": {
     "cellMetadata": {
      "byteLimit": 2048000,
      "rowLimit": 10000
     },
     "inputWidgets": {},
     "nuid": "ed5f673d-1dce-4671-b60c-a0a2989a13f7",
     "showTitle": false,
     "title": ""
    }
   },
   "outputs": [],
   "source": [
    "list_positive = list(filter(criteria, list_mixed))\n",
    "print(list_positive)"
   ]
  },
  {
   "cell_type": "markdown",
   "metadata": {
    "application/vnd.databricks.v1+cell": {
     "cellMetadata": {
      "byteLimit": 2048000,
      "rowLimit": 10000
     },
     "inputWidgets": {},
     "nuid": "72c25254-f8be-4a50-827f-bd470c11581c",
     "showTitle": false,
     "title": ""
    }
   },
   "source": [
    "# 3. `.apply()` method\n",
    "\n",
    "- this method applies a function along an axis of the DataFrame \\\\(^{1}\\\\) \n",
    "- it also works elementwise but is suited to more complex functions and operations\n",
    "- it accepts user-defined functions which apply a transformation/aggregation on a DataFrame (or Series) as well\n",
    "\n",
    "You can find a nice comparison of `.map()` and `.apply()` methods and when to use them in [this article on stackoverflow](https://stackoverflow.com/questions/19798153/difference-between-map-applymap-and-apply-methods-in-pandas)."
   ]
  },
  {
   "cell_type": "markdown",
   "metadata": {
    "application/vnd.databricks.v1+cell": {
     "cellMetadata": {
      "byteLimit": 2048000,
      "rowLimit": 10000
     },
     "inputWidgets": {},
     "nuid": "29e14f6f-cf3f-44c7-81ae-94c5ea585a23",
     "showTitle": false,
     "title": ""
    }
   },
   "source": [
    "### Example 3.1"
   ]
  },
  {
   "cell_type": "code",
   "execution_count": 0,
   "metadata": {
    "application/vnd.databricks.v1+cell": {
     "cellMetadata": {
      "byteLimit": 2048000,
      "rowLimit": 10000
     },
     "inputWidgets": {},
     "nuid": "a55b070e-c9cf-4a15-96d9-814f3f6fa8fd",
     "showTitle": false,
     "title": ""
    }
   },
   "outputs": [],
   "source": [
    "# Run this code\n",
    "students = [(1, 'Robert', 30, 'Slovakia', 26),\n",
    "           (2, 'Jana', 29, 'Sweden' , 27),\n",
    "           (3, 'Martin', 31, 'Sweden', 26),\n",
    "           (4, 'Kristina', 26,'Germany' , 30),\n",
    "           (5, 'Peter', 33, 'Austria' , 22),\n",
    "           (6, 'Nikola', 25, 'USA', 23),\n",
    "           (7, 'Renato', 35, 'Brazil', 26)]\n",
    "\n",
    "students_1 = pd.DataFrame(students, columns= ['student_id', 'first_name', 'age', 'country', 'score'])\n",
    "print(students_1)"
   ]
  },
  {
   "cell_type": "code",
   "execution_count": 0,
   "metadata": {
    "application/vnd.databricks.v1+cell": {
     "cellMetadata": {
      "byteLimit": 2048000,
      "rowLimit": 10000
     },
     "inputWidgets": {},
     "nuid": "2bb19af5-4eb1-4c67-8965-ba599665d196",
     "showTitle": false,
     "title": ""
    }
   },
   "outputs": [],
   "source": [
    "# Run this code to create a regular function\n",
    "\n",
    "def score_func(x): \n",
    "    if x < 25: \n",
    "        return \"Retake\" \n",
    "    else: \n",
    "        return \"Pass\""
   ]
  },
  {
   "cell_type": "code",
   "execution_count": 0,
   "metadata": {
    "application/vnd.databricks.v1+cell": {
     "cellMetadata": {
      "byteLimit": 2048000,
      "rowLimit": 10000
     },
     "inputWidgets": {},
     "nuid": "16c8cc6f-8a95-452a-82da-d43e1e49f7b4",
     "showTitle": false,
     "title": ""
    }
   },
   "outputs": [],
   "source": [
    "# Use .apply() along with score_func that \n",
    "students_1['result'] = students_1.score.apply(score_func)\n",
    "print(students_1)"
   ]
  },
  {
   "cell_type": "markdown",
   "metadata": {
    "application/vnd.databricks.v1+cell": {
     "cellMetadata": {
      "byteLimit": 2048000,
      "rowLimit": 10000
     },
     "inputWidgets": {},
     "nuid": "af8cd1d5-3b6d-478c-8384-0d4af3128b1f",
     "showTitle": false,
     "title": ""
    }
   },
   "source": [
    "### Example 4.0\n",
    "\n",
    "As we already know, regular functions are created using the `def` keyword. These type of functions can have any number of arguments and expressions."
   ]
  },
  {
   "cell_type": "code",
   "execution_count": 0,
   "metadata": {
    "application/vnd.databricks.v1+cell": {
     "cellMetadata": {
      "byteLimit": 2048000,
      "rowLimit": 10000
     },
     "inputWidgets": {},
     "nuid": "5c0505b0-8117-4b0c-a5c6-b3477d4a4117",
     "showTitle": false,
     "title": ""
    }
   },
   "outputs": [],
   "source": [
    "# Example of regular function\n",
    "def multi_add(x):\n",
    "    return x * 2 + 5"
   ]
  },
  {
   "cell_type": "code",
   "execution_count": 0,
   "metadata": {
    "application/vnd.databricks.v1+cell": {
     "cellMetadata": {
      "byteLimit": 2048000,
      "rowLimit": 10000
     },
     "inputWidgets": {},
     "nuid": "9a7a3ee8-49b2-4cbe-b5c9-907235cf4346",
     "showTitle": false,
     "title": ""
    }
   },
   "outputs": [],
   "source": [
    "result_1 = multi_add(5)\n",
    "print(result_1)"
   ]
  },
  {
   "cell_type": "markdown",
   "metadata": {
    "application/vnd.databricks.v1+cell": {
     "cellMetadata": {
      "byteLimit": 2048000,
      "rowLimit": 10000
     },
     "inputWidgets": {},
     "nuid": "db3802cd-8fb1-489d-9854-2d1114af98bf",
     "showTitle": false,
     "title": ""
    }
   },
   "source": [
    "# 4. Lambda Function\n",
    "- an anonymous function (it means it can be defined without a name)\n",
    "- the `def` keyword is not necessary with a lambda function\n",
    "- lambda functions can have any number of parameters, but the function body can only **contain one expression** (that means multiple statements are not allowed in the body of a lambda function) = it is used for *_one-line expressions_*\n",
    "- it returns a function object which can be assigned to variable\n",
    "\n",
    "General syntax: `lambda x: x`\n",
    "\n",
    "\n",
    "\n",
    "\n",
    "### Example 4.1"
   ]
  },
  {
   "cell_type": "code",
   "execution_count": 0,
   "metadata": {
    "application/vnd.databricks.v1+cell": {
     "cellMetadata": {
      "byteLimit": 2048000,
      "rowLimit": 10000
     },
     "inputWidgets": {},
     "nuid": "0ccb7142-3bc2-4043-b262-06d8357fe0fc",
     "showTitle": false,
     "title": ""
    }
   },
   "outputs": [],
   "source": [
    "our_lambda = lambda x: x * 2 + 5\n",
    "print(our_lambda(5))"
   ]
  },
  {
   "cell_type": "markdown",
   "metadata": {
    "application/vnd.databricks.v1+cell": {
     "cellMetadata": {
      "byteLimit": 2048000,
      "rowLimit": 10000
     },
     "inputWidgets": {},
     "nuid": "9790d4b3-b397-44ec-899d-5d6d26deb9d8",
     "showTitle": false,
     "title": ""
    }
   },
   "source": [
    "This simple lambda function takes an input `x` (in our case number 5), multiplies it by `2` and adds `5`. <br>\n",
    "\n",
    "Lambda functions are commonly used along `.apply()` method and can be really useful. <br>\n",
    "\n",
    "### Example 4.2\n",
    "\n",
    "Imagine that the scores of students above have not been correctly recorded and we need to multiply them by 10. \n",
    "\n",
    "Use a lambda function along with `apply()` and assign it to the specific column of the dataset ('score')."
   ]
  },
  {
   "cell_type": "code",
   "execution_count": 0,
   "metadata": {
    "application/vnd.databricks.v1+cell": {
     "cellMetadata": {
      "byteLimit": 2048000,
      "rowLimit": 10000
     },
     "inputWidgets": {},
     "nuid": "a3f2b402-0cf6-43ad-bf06-3a249da48ec0",
     "showTitle": false,
     "title": ""
    }
   },
   "outputs": [],
   "source": [
    "students_1.score = students_1.score.apply(lambda x: x * 10)\n",
    "print(students_1)"
   ]
  },
  {
   "cell_type": "markdown",
   "metadata": {
    "application/vnd.databricks.v1+cell": {
     "cellMetadata": {
      "byteLimit": 2048000,
      "rowLimit": 10000
     },
     "inputWidgets": {},
     "nuid": "70163506-cc78-4b8f-acb2-23aa6e6d2aa2",
     "showTitle": false,
     "title": ""
    }
   },
   "source": [
    "### Task 2"
   ]
  },
  {
   "cell_type": "code",
   "execution_count": 0,
   "metadata": {
    "application/vnd.databricks.v1+cell": {
     "cellMetadata": {
      "byteLimit": 2048000,
      "rowLimit": 10000
     },
     "inputWidgets": {},
     "nuid": "d8a5c6f8-5d6e-4067-a8ab-033232b7d12d",
     "showTitle": false,
     "title": ""
    }
   },
   "outputs": [],
   "source": [
    "# TASK 2 >>>> Use the .apply() method on column 'country' along with lambda to make words uppercase \n",
    "#             Do not forget assign it to this column\n",
    "\n",
    "### Start your code below ###"
   ]
  },
  {
   "cell_type": "markdown",
   "metadata": {
    "application/vnd.databricks.v1+cell": {
     "cellMetadata": {
      "byteLimit": 2048000,
      "rowLimit": 10000
     },
     "inputWidgets": {},
     "nuid": "afa9d416-8900-45a6-bcce-9596db1fd554",
     "showTitle": false,
     "title": ""
    }
   },
   "source": [
    "We can use lambda functions to simplify Example 3.1 like this:"
   ]
  },
  {
   "cell_type": "code",
   "execution_count": 0,
   "metadata": {
    "application/vnd.databricks.v1+cell": {
     "cellMetadata": {
      "byteLimit": 2048000,
      "rowLimit": 10000
     },
     "inputWidgets": {},
     "nuid": "35dd1378-2665-41a2-863e-c9abb5579729",
     "showTitle": false,
     "title": ""
    }
   },
   "outputs": [],
   "source": [
    "# Run this code\n",
    "students = [(1, 'Robert', 30, 'Slovakia', 26),\n",
    "           (2, 'Jana', 29, 'Sweden' , 27),\n",
    "           (3, 'Martin', 31, 'Sweden', 26),\n",
    "           (4, 'Kristina', 26,'Germany' , 30),\n",
    "           (5, 'Peter', 33, 'Austria' , 22),\n",
    "           (6, 'Nikola', 25, 'USA', 23),\n",
    "           (7, 'Renato', 35, 'Brazil', 26)]\n",
    "\n",
    "students_1 = pd.DataFrame(students, columns= ['student_id', 'first_name', 'age', 'country', 'score'])"
   ]
  },
  {
   "cell_type": "code",
   "execution_count": 0,
   "metadata": {
    "application/vnd.databricks.v1+cell": {
     "cellMetadata": {
      "byteLimit": 2048000,
      "rowLimit": 10000
     },
     "inputWidgets": {},
     "nuid": "eaefeb68-b6df-4ec7-a5ac-0d1ee34ca830",
     "showTitle": false,
     "title": ""
    }
   },
   "outputs": [],
   "source": [
    "# A Lambda function is used instead of the custom defined function \"score_func\"\n",
    "\n",
    "students_1['result'] = students_1.score.apply(lambda x: \"Pass\" if (x > 25) else \"Retake\")\n",
    "print(students_1)"
   ]
  },
  {
   "cell_type": "markdown",
   "metadata": {
    "application/vnd.databricks.v1+cell": {
     "cellMetadata": {
      "byteLimit": 2048000,
      "rowLimit": 10000
     },
     "inputWidgets": {},
     "nuid": "d98b9dec-6ca4-4559-9b17-cefdc38a4b7e",
     "showTitle": false,
     "title": ""
    }
   },
   "source": [
    "Did you know we can combine the `.map()` and `.filter()` methods? Since `.filter()` returns a selected iterable based on certain criteria, the output of `.filter()` can be our input for the `.map()` method.\n",
    "\n",
    "In order to avoid a negative number as an argument for `math.sqrt()` which will result in a `ValueError`, we want to filter out the negative numbers before we apply the `math.sqrt()` method."
   ]
  },
  {
   "cell_type": "code",
   "execution_count": 0,
   "metadata": {
    "application/vnd.databricks.v1+cell": {
     "cellMetadata": {
      "byteLimit": 2048000,
      "rowLimit": 10000
     },
     "inputWidgets": {},
     "nuid": "008c9450-60a9-49c2-8d9b-e1c872520174",
     "showTitle": false,
     "title": ""
    }
   },
   "outputs": [],
   "source": [
    "# Run this code\n",
    "list_mixed = [-1,0,2,24,-42,-5,30,99]"
   ]
  },
  {
   "cell_type": "code",
   "execution_count": 0,
   "metadata": {
    "application/vnd.databricks.v1+cell": {
     "cellMetadata": {
      "byteLimit": 2048000,
      "rowLimit": 10000
     },
     "inputWidgets": {},
     "nuid": "fc140d98-537f-4378-ae66-5af5d6badcd9",
     "showTitle": false,
     "title": ""
    }
   },
   "outputs": [],
   "source": [
    "# Run this code\n",
    "def criteria(x): \n",
    "    return x >= 0"
   ]
  },
  {
   "cell_type": "code",
   "execution_count": 0,
   "metadata": {
    "application/vnd.databricks.v1+cell": {
     "cellMetadata": {
      "byteLimit": 2048000,
      "rowLimit": 10000
     },
     "inputWidgets": {},
     "nuid": "02f0b84a-0fa4-488a-9ff4-0c4f01fbe233",
     "showTitle": false,
     "title": ""
    }
   },
   "outputs": [],
   "source": [
    "list_sqrt = list(map(math.sqrt, filter(criteria, list_mixed)))\n",
    "print(list_sqrt)"
   ]
  },
  {
   "cell_type": "markdown",
   "metadata": {
    "application/vnd.databricks.v1+cell": {
     "cellMetadata": {
      "byteLimit": 2048000,
      "rowLimit": 10000
     },
     "inputWidgets": {},
     "nuid": "158a12ff-2a3a-4c99-b87e-a990f4967455",
     "showTitle": false,
     "title": ""
    }
   },
   "source": [
    "### Optional: Task 3"
   ]
  },
  {
   "cell_type": "code",
   "execution_count": 0,
   "metadata": {
    "application/vnd.databricks.v1+cell": {
     "cellMetadata": {
      "byteLimit": 2048000,
      "rowLimit": 10000
     },
     "inputWidgets": {},
     "nuid": "42322d8c-c841-461d-9804-3046d174118e",
     "showTitle": false,
     "title": ""
    }
   },
   "outputs": [],
   "source": [
    "# TASK 3 >>>> With the help of .map() and .filter(),\n",
    "#             round up any number that is bigger than 5 from the list \"list_sqrt\" to the next whole digit.\n",
    "#             To round up the number, you can use round().\n",
    "#             Don't forget to write your user-defined function as your criteria to filter out the \"not desirable\" numbers\n",
    "\n",
    "### Start your code below ###"
   ]
  },
  {
   "cell_type": "markdown",
   "metadata": {
    "application/vnd.databricks.v1+cell": {
     "cellMetadata": {
      "byteLimit": 2048000,
      "rowLimit": 10000
     },
     "inputWidgets": {},
     "nuid": "54e0a823-471d-4bed-bed3-cb346269331b",
     "showTitle": false,
     "title": ""
    }
   },
   "source": [
    "# References\n",
    "\n",
    "\\\\(^{1}\\\\) pandas. pandas.DataFrame.apply. [ONLINE] Available at: https://pandas.pydata.org/pandas-docs/stable/reference/api/pandas.DataFrame.apply.html#pandas-dataframe-apply. [Accessed 14 September 2020].\n",
    "\n",
    "Stackoverflow. Difference between map, applymap and apply methods in Pandas. [ONLINE] Available at: https://stackoverflow.com/questions/19798153/difference-between-map-applymap-and-apply-methods-in-pandas. [Accessed 14 September 2020].\n",
    "\n",
    "Material adapted for RBI internal purposes with full permissions from original authors. Source: https://github.com/zatkopatrik/authentic-data-science"
   ]
  }
 ],
 "metadata": {
  "application/vnd.databricks.v1+notebook": {
   "dashboards": [],
   "language": "python",
   "notebookMetadata": {
    "pythonIndentUnit": 2
   },
   "notebookName": "4_Transforming_data_jupyter",
   "widgets": {}
  }
 },
 "nbformat": 4,
 "nbformat_minor": 0
}
