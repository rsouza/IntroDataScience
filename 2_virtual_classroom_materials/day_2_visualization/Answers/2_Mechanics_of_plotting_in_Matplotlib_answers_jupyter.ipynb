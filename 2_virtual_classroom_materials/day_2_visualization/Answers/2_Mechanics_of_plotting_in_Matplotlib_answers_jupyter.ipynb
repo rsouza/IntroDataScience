{
 "cells": [
  {
   "cell_type": "markdown",
   "metadata": {
    "application/vnd.databricks.v1+cell": {
     "cellMetadata": {},
     "inputWidgets": {},
     "nuid": "6a8e0fef-e1e6-463d-afc3-79ecfca3edc7",
     "showTitle": false,
     "title": ""
    }
   },
   "source": [
    "# Mechanics of plotting in Matplotlib"
   ]
  },
  {
   "cell_type": "markdown",
   "metadata": {
    "application/vnd.databricks.v1+cell": {
     "cellMetadata": {},
     "inputWidgets": {},
     "nuid": "9a8ea977-2255-43fe-b022-5566825ae4ff",
     "showTitle": false,
     "title": ""
    }
   },
   "source": [
    "Now that we have worked with Pandas visualisation we will start getting to know Matplotlib, the library underlying the Pandas plotting tools. \n",
    "For this we will import the `matplotlib` package along with `pyplot` module and give it the alias `plt` which is the naming convention for this module. [Here](https://matplotlib.org/3.3.3/api/_as_gen/matplotlib.pyplot.html#module-matplotlib.pyplot) you can see all of the functions available in this module. But don't worry, you are not supposed to memorize all of them."
   ]
  },
  {
   "cell_type": "code",
   "execution_count": 0,
   "metadata": {
    "application/vnd.databricks.v1+cell": {
     "cellMetadata": {
      "byteLimit": 2048000,
      "rowLimit": 10000
     },
     "inputWidgets": {},
     "nuid": "8e51eed3-9ccd-4bf6-9df7-1f9c141358a9",
     "showTitle": false,
     "title": ""
    }
   },
   "outputs": [],
   "source": [
    "# Import Matplotlib package and pyplot module\n",
    "import matplotlib.pyplot as plt\n",
    "\n",
    "# Import Pandas and Numpy libraries\n",
    "import pandas as pd\n",
    "import numpy as np"
   ]
  },
  {
   "cell_type": "markdown",
   "metadata": {
    "application/vnd.databricks.v1+cell": {
     "cellMetadata": {},
     "inputWidgets": {},
     "nuid": "f20c055f-de60-43b1-90e3-692d7752d8f7",
     "showTitle": false,
     "title": ""
    }
   },
   "source": [
    "# 1. Style sheets\n",
    "\n",
    "Matplotlib offer several types of style sheets you can use. [Here is a showcase](https://matplotlib.org/stable/gallery/style_sheets/style_sheets_reference.html) of various style sheets applied to some common plots. It is also possible to create your own custom style for which you can define attributes such as the size of labels or markers, etc. To return all available style sheets, run the code below. Feel free to explore them."
   ]
  },
  {
   "cell_type": "code",
   "execution_count": 0,
   "metadata": {
    "application/vnd.databricks.v1+cell": {
     "cellMetadata": {
      "byteLimit": 2048000,
      "rowLimit": 10000
     },
     "inputWidgets": {},
     "nuid": "a9cf3100-4124-4b96-b183-95af04b7f056",
     "showTitle": false,
     "title": ""
    }
   },
   "outputs": [],
   "source": [
    "# Available style sheets\n",
    "print(plt.style.available)"
   ]
  },
  {
   "cell_type": "code",
   "execution_count": 0,
   "metadata": {
    "application/vnd.databricks.v1+cell": {
     "cellMetadata": {
      "byteLimit": 2048000,
      "rowLimit": 10000
     },
     "inputWidgets": {},
     "nuid": "b4451edf-80b5-47fe-95fc-967a5de00b48",
     "showTitle": false,
     "title": ""
    }
   },
   "outputs": [],
   "source": [
    "# Setting a style \n",
    "plt.style.use('default')"
   ]
  },
  {
   "cell_type": "markdown",
   "metadata": {
    "application/vnd.databricks.v1+cell": {
     "cellMetadata": {},
     "inputWidgets": {},
     "nuid": "9f796eb6-cf9d-4b3c-a759-f93c3e0f7fe3",
     "showTitle": false,
     "title": ""
    }
   },
   "source": [
    "# 2. Figure object and creating subplots\n",
    "\n",
    "Matplotlib draw data on a Figure object. Any such Figure object can contain 1 or more Axes."
   ]
  },
  {
   "cell_type": "code",
   "execution_count": 0,
   "metadata": {
    "application/vnd.databricks.v1+cell": {
     "cellMetadata": {
      "byteLimit": 2048000,
      "rowLimit": 10000
     },
     "inputWidgets": {},
     "nuid": "49f14ca2-ae42-44db-8fc2-b99047ac3a0c",
     "showTitle": false,
     "title": ""
    }
   },
   "outputs": [],
   "source": [
    "# Create a Figure object\n",
    "fig = plt.figure()"
   ]
  },
  {
   "cell_type": "markdown",
   "metadata": {
    "application/vnd.databricks.v1+cell": {
     "cellMetadata": {},
     "inputWidgets": {},
     "nuid": "9f06de38-ed4f-43e5-9668-49ded39faffa",
     "showTitle": false,
     "title": ""
    }
   },
   "source": [
    "For creating a new Figure object we can use `plt.figure()` which accepts several parameters. We see that the created Figure object is of size 432x288 which represents the width and height in inches (6.4x4.8 by default). We can change the size of the figure using the `figsize` parameter where we define the desired size in the form of a tuple."
   ]
  },
  {
   "cell_type": "code",
   "execution_count": 0,
   "metadata": {
    "application/vnd.databricks.v1+cell": {
     "cellMetadata": {
      "byteLimit": 2048000,
      "rowLimit": 10000
     },
     "inputWidgets": {},
     "nuid": "cfbee993-26aa-4580-ab96-8b7345de984d",
     "showTitle": false,
     "title": ""
    }
   },
   "outputs": [],
   "source": [
    "fig = plt.figure(figsize=(20,15))"
   ]
  },
  {
   "cell_type": "markdown",
   "metadata": {
    "application/vnd.databricks.v1+cell": {
     "cellMetadata": {},
     "inputWidgets": {},
     "nuid": "cce5302f-9562-4dee-a85e-bbf675a38023",
     "showTitle": false,
     "title": ""
    }
   },
   "source": [
    "The size of the Figure object has changed to 1440x1080. Notice that our figure does not contain any axes so far. To generate a single Axes object or multiple subplots we can use `plt.subplots()`."
   ]
  },
  {
   "cell_type": "code",
   "execution_count": 0,
   "metadata": {
    "application/vnd.databricks.v1+cell": {
     "cellMetadata": {
      "byteLimit": 2048000,
      "rowLimit": 10000
     },
     "inputWidgets": {},
     "nuid": "7ce30f87-d71e-4cb1-a2c6-40b3becfe033",
     "showTitle": false,
     "title": ""
    }
   },
   "outputs": [],
   "source": [
    "# Create a single Figure object and Axes object (subplot)\n",
    "fig, ax = plt.subplots()\n",
    "type(ax)"
   ]
  },
  {
   "cell_type": "markdown",
   "metadata": {
    "application/vnd.databricks.v1+cell": {
     "cellMetadata": {},
     "inputWidgets": {},
     "nuid": "b8f55d89-58da-412c-a47b-b288a2d61f84",
     "showTitle": false,
     "title": ""
    }
   },
   "source": [
    "We have created a Figure object within wich there is an Axes object labeled as AxesSubplot. Now that we have created an Axes object you can see the change of the figure size."
   ]
  },
  {
   "cell_type": "code",
   "execution_count": 0,
   "metadata": {
    "application/vnd.databricks.v1+cell": {
     "cellMetadata": {
      "byteLimit": 2048000,
      "rowLimit": 10000
     },
     "inputWidgets": {},
     "nuid": "1976c882-2208-400a-846a-1e887ce02772",
     "showTitle": false,
     "title": ""
    }
   },
   "outputs": [],
   "source": [
    "# Customize the Figure object size\n",
    "fig, ax = plt.subplots(figsize=(10,10))"
   ]
  },
  {
   "cell_type": "markdown",
   "metadata": {
    "application/vnd.databricks.v1+cell": {
     "cellMetadata": {},
     "inputWidgets": {},
     "nuid": "c8c19dbd-63e0-4d6d-8a2f-113029c2806d",
     "showTitle": false,
     "title": ""
    }
   },
   "source": [
    "To generate a set of multiple subplots we define the particular number of rows and columns. For example, if we would like to have 6 subplots while 3 of them should be in one row we would write it like you can see below:"
   ]
  },
  {
   "cell_type": "code",
   "execution_count": 0,
   "metadata": {
    "application/vnd.databricks.v1+cell": {
     "cellMetadata": {
      "byteLimit": 2048000,
      "rowLimit": 10000
     },
     "inputWidgets": {},
     "nuid": "93d9a345-58d4-431d-9b18-567799f11ca2",
     "showTitle": false,
     "title": ""
    }
   },
   "outputs": [],
   "source": [
    "# Create 6 subplots\n",
    "fig, ax = plt.subplots(2,3)"
   ]
  },
  {
   "cell_type": "markdown",
   "metadata": {
    "application/vnd.databricks.v1+cell": {
     "cellMetadata": {},
     "inputWidgets": {},
     "nuid": "ae94fe26-504e-4937-a327-5f27e9c6cddb",
     "showTitle": false,
     "title": ""
    }
   },
   "source": [
    "Our subplots are now overlapping. But we can easily adjust spacing between the Figure edge and subplots' edges using `plt.tight_layout()`."
   ]
  },
  {
   "cell_type": "code",
   "execution_count": 0,
   "metadata": {
    "application/vnd.databricks.v1+cell": {
     "cellMetadata": {
      "byteLimit": 2048000,
      "rowLimit": 10000
     },
     "inputWidgets": {},
     "nuid": "7d6356d1-57f2-4004-ba12-1893efd3e7e9",
     "showTitle": false,
     "title": ""
    }
   },
   "outputs": [],
   "source": [
    "fig, ax = plt.subplots(2,3)\n",
    "plt.tight_layout()"
   ]
  },
  {
   "cell_type": "markdown",
   "metadata": {
    "application/vnd.databricks.v1+cell": {
     "cellMetadata": {},
     "inputWidgets": {},
     "nuid": "195d0bd8-bf2a-422e-ac80-194500a76c20",
     "showTitle": false,
     "title": ""
    }
   },
   "source": [
    "`plt.tight_layout()` can take parameters such `h_pad` and `w_pad` to customize spacing between edges of adjacent subplots."
   ]
  },
  {
   "cell_type": "code",
   "execution_count": 0,
   "metadata": {
    "application/vnd.databricks.v1+cell": {
     "cellMetadata": {
      "byteLimit": 2048000,
      "rowLimit": 10000
     },
     "inputWidgets": {},
     "nuid": "f1d55b59-3429-4fad-887a-916f67cbfc54",
     "showTitle": false,
     "title": ""
    }
   },
   "outputs": [],
   "source": [
    "fig, ax = plt.subplots(2,3)\n",
    "plt.tight_layout(h_pad = 0.7, w_pad = 3)"
   ]
  },
  {
   "cell_type": "markdown",
   "metadata": {
    "application/vnd.databricks.v1+cell": {
     "cellMetadata": {},
     "inputWidgets": {},
     "nuid": "37b7a44a-5db3-4cfe-852f-f76f9dd65075",
     "showTitle": false,
     "title": ""
    }
   },
   "source": [
    "# 3. Two faces of Matplotlib\n",
    "\n",
    "1. **MATLAB-style interface**\n",
    "At the beginning, Matplotlib was originally created in Python as an alternative to MATLAB. Since the plotting style of MATLAB is within the pyplot (plt) interface, some of its syntax is reflected also in Matplotlib.  \n",
    "\n",
    "\n",
    "2. **Object Oriented interface**  \n",
    "This plotting approach is more convenient when you would like to have more control over your plots. You create a grid of subplots and are able to access a certain Axes object to draw a plot. \n",
    "\n",
    "Let's demonstrate the main characteristics of these two interfaces."
   ]
  },
  {
   "cell_type": "markdown",
   "metadata": {
    "application/vnd.databricks.v1+cell": {
     "cellMetadata": {},
     "inputWidgets": {},
     "nuid": "684c3b2a-990f-4f04-8896-16553b882a42",
     "showTitle": false,
     "title": ""
    }
   },
   "source": [
    "## 3.1 Line plot\n",
    "\n",
    "Let's create a Figure object and 3 subplots of line plot using a generic `.plot()` function in MATLAB-style interface."
   ]
  },
  {
   "cell_type": "markdown",
   "metadata": {
    "application/vnd.databricks.v1+cell": {
     "cellMetadata": {},
     "inputWidgets": {},
     "nuid": "4b261825-800e-4311-a328-fc2cffeae009",
     "showTitle": false,
     "title": ""
    }
   },
   "source": [
    "Using `plt.subplot()` we create 3 subplots where the following is specified:\n",
    "\n",
    "- **number of rows**\n",
    "\n",
    "- **number of columns**\n",
    "\n",
    "- **index:**  \n",
    "this is the position of subplot in the grid    \n",
    "index starts always at 1 in the left upper corner (red line plot in our example below), and increases to the right"
   ]
  },
  {
   "cell_type": "code",
   "execution_count": 0,
   "metadata": {
    "application/vnd.databricks.v1+cell": {
     "cellMetadata": {
      "byteLimit": 2048000,
      "rowLimit": 10000
     },
     "inputWidgets": {},
     "nuid": "c35078f8-7e63-48be-b560-918aa955fe22",
     "showTitle": false,
     "title": ""
    }
   },
   "outputs": [],
   "source": [
    "# Example data for plotting\n",
    "data = np.arange(0.0, 50, 0.01)\n",
    "# Sine\n",
    "s = np.sin(data)\n",
    "# Cosine\n",
    "c = np.cos(data)\n",
    "# Example data for plotting\n",
    "tg = np.arange(0.0, 1.5, 0.01)\n",
    "# Tangent\n",
    "t = np.tan(tg)\n",
    "\n",
    "# Create a Figure object\n",
    "plt.figure(figsize = (15,9))\n",
    "\n",
    "# Create a first subplot\n",
    "plt.subplot(2,2,1)               # 2 rows, 2 columns, the first subplot is active\n",
    "plt.plot(data,s,                 # Calling plot function on the first subplot\n",
    "         color = 'red')            \n",
    "plt.title('The first subplot')   # A title of a subplot\n",
    "\n",
    "# Create a second subplot\n",
    "plt.subplot(2,2,2)               # 2 rows, 2 columns, the second subplot is active\n",
    "plt.plot(data,c,                 # calling plot function on the second subplot\n",
    "         color = 'yellow')                  \n",
    "plt.title('The second subplot')\n",
    "\n",
    "# Create a third subplot\n",
    "plt.subplot(2,2,3)               # 2 rows, 2 columns, the third subplot is active\n",
    "plt.plot(tg,t,                   # calling plot function on the third subplot\n",
    "        'green',    \n",
    "         alpha = 0.5)                 \n",
    "plt.title('The third subplot')\n",
    "plt.suptitle('Subplots');        # A title of the whole Figure object"
   ]
  },
  {
   "cell_type": "markdown",
   "metadata": {
    "application/vnd.databricks.v1+cell": {
     "cellMetadata": {},
     "inputWidgets": {},
     "nuid": "1f2ad10f-9307-415c-9ca5-6efa7991be65",
     "showTitle": false,
     "title": ""
    }
   },
   "source": [
    "By specifying for example `plt.subplot(2,2,1)` we activate the first subplot. After activating a certain subplot, all functions we call will be applied only to this Axes object. Thus this process is \"stateful\". It means that Matplotlib keeps track of the active Axes (and Figure object)."
   ]
  },
  {
   "cell_type": "markdown",
   "metadata": {
    "application/vnd.databricks.v1+cell": {
     "cellMetadata": {},
     "inputWidgets": {},
     "nuid": "326b2177-736d-41f4-94c5-9fc7446467dc",
     "showTitle": false,
     "title": ""
    }
   },
   "source": [
    "Now let's recreate a Figure using the Object-oriented interface of Matplotlib. With this approach you do not need to worry about which Axis is active right now. Plotting functions are applied explicitly to the Axes object you select. \n",
    "\n",
    "If you have a Subplot grid consisting of 2 subplots you can access the specific axis by indexing according its position. In this case indexing starts at zero."
   ]
  },
  {
   "cell_type": "code",
   "execution_count": 0,
   "metadata": {
    "application/vnd.databricks.v1+cell": {
     "cellMetadata": {
      "byteLimit": 2048000,
      "rowLimit": 10000
     },
     "inputWidgets": {},
     "nuid": "fed1264a-dbd0-4d9d-b051-9f88b8999f0f",
     "showTitle": false,
     "title": ""
    }
   },
   "outputs": [],
   "source": [
    "# Create a Figure and a grid of subplots\n",
    "fig1, ax = plt.subplots(1,2)\n",
    "\n",
    "# The first subplot is accessible by ax[0]\n",
    "ax[0].plot(data, s, color = 'red')\n",
    "\n",
    "# The second subplot is accessible by ax[1]\n",
    "ax[1].plot(data, c, color = 'yellow')\n",
    "\n",
    "# Removing x-axis tick labels (in a case it´s appropriate)\n",
    "ax[1].set_xticks([])  \n",
    "\n",
    "# Adjust the padding between subplots\n",
    "plt.tight_layout()"
   ]
  },
  {
   "cell_type": "code",
   "execution_count": 0,
   "metadata": {
    "application/vnd.databricks.v1+cell": {
     "cellMetadata": {
      "byteLimit": 2048000,
      "rowLimit": 10000
     },
     "inputWidgets": {},
     "nuid": "1eabfca1-4dc7-411c-9787-dc4b30b7d51a",
     "showTitle": false,
     "title": ""
    }
   },
   "outputs": [],
   "source": [
    "# Create a Figure object and 3 subplots\n",
    "fig, ax = plt.subplots(2,2, figsize = (15,9))\n",
    "\n",
    "# The first red plot is placed in the first row and the first column\n",
    "ax[0,0].plot(data, s, color = 'red')\n",
    "\n",
    "# Then we move to the right to the yellow plot - first row and second column\n",
    "ax[0,1].plot(data, c, color = 'yellow')\n",
    "\n",
    "# Then the green plot in the down left corner - the second row and the first column\n",
    "ax[1,0].plot(tg, t, color = 'green');\n",
    "\n",
    "# At position row 2 and column 2 the subplot is empty"
   ]
  },
  {
   "cell_type": "markdown",
   "metadata": {
    "application/vnd.databricks.v1+cell": {
     "cellMetadata": {},
     "inputWidgets": {},
     "nuid": "33717a0c-9f09-4d87-b9c2-88008d2e5f3b",
     "showTitle": false,
     "title": ""
    }
   },
   "source": [
    "The output of `plt.subplots(2,2)` is 2-dimensional array, thus the location of Axes objects are specified by their respective rows and columns."
   ]
  },
  {
   "cell_type": "markdown",
   "metadata": {
    "application/vnd.databricks.v1+cell": {
     "cellMetadata": {},
     "inputWidgets": {},
     "nuid": "0f3ebe6a-703c-433a-9096-b9635a6ed5fb",
     "showTitle": false,
     "title": ""
    }
   },
   "source": [
    "It's up to you which plotting approach you choose for creating plots. But the general recommendation is as follows: Use MATLAB-like plotting style only when you are creating simple plots. For advanced Figures with more than 1 subplot or other added components, use the object oriented plotting approach which gives you ultimate control over you axes."
   ]
  },
  {
   "cell_type": "markdown",
   "metadata": {
    "application/vnd.databricks.v1+cell": {
     "cellMetadata": {},
     "inputWidgets": {},
     "nuid": "3a7a22a2-5352-45af-bbe4-540bde7c6afe",
     "showTitle": false,
     "title": ""
    }
   },
   "source": [
    "### 3.1.1 Line plot customization\n",
    "\n",
    "Let's plot the newly created x variable against the y variable. Firstly, we create a Figure object and an Axes object using `plt.subplots()`. Then you can call the `.plot()` function right onto the Axes object to generate a line plot, where we specify particular properties to our line such as labels, annotations, specified size, etc.  \n",
    "\n",
    "___\n",
    "We want our line to be a **light green 'dashdotted' line containing red point markers with white color in the middle pointing to each of the data points**. \n",
    "\n",
    "Phew! That's a lot of conditions. However, with Matplotlib you can customize every object within the Axes.\n",
    "Additionally, we would like to give a name to our graph and have a labeled axis to make the graph more readable and understandable for the audience. You might want to additionally set a vertical or horizontal line to depict some value or range of values. \n",
    "\n",
    "But keep in mind, there is a beauty in simplicity."
   ]
  },
  {
   "cell_type": "code",
   "execution_count": 0,
   "metadata": {
    "application/vnd.databricks.v1+cell": {
     "cellMetadata": {
      "byteLimit": 2048000,
      "rowLimit": 10000
     },
     "inputWidgets": {},
     "nuid": "f672d64f-68f2-40fa-8a41-36b1b75298c7",
     "showTitle": false,
     "title": ""
    }
   },
   "outputs": [],
   "source": [
    "# Set the random seed to generate exactly the same output as in this notebook\n",
    "# Generate a sequence of random numbers\n",
    "x_var = list(range(15))\n",
    "np.random.seed(42)\n",
    "y = np.random.randint(low = 5, high = 50, size = 15)\n",
    "\n",
    "# Examine the output\n",
    "print(y)"
   ]
  },
  {
   "cell_type": "code",
   "execution_count": 0,
   "metadata": {
    "application/vnd.databricks.v1+cell": {
     "cellMetadata": {
      "byteLimit": 2048000,
      "rowLimit": 10000
     },
     "inputWidgets": {},
     "nuid": "947e7a6e-0509-46d2-a400-100628ba33ac",
     "showTitle": false,
     "title": ""
    }
   },
   "outputs": [],
   "source": [
    "# Create a Figure and Axes objects with defined size\n",
    "fig, ax = plt.subplots(figsize = (12,9))   \n",
    "\n",
    "# Plot x against y using plot() function\n",
    "ax.plot(x_var,y, color = 'green', linestyle = '-.', linewidth = 2,# Plot x vs. y, set a color, style and wodth of a line\n",
    "        alpha = 0.6, marker = '.', markeredgewidth = 7,           # Set a transparency of colors, marker type and its width\n",
    "        markeredgecolor='red', markerfacecolor = 'white')         # Set a color of a marker and white color within a marker                                     \n",
    "                                                                  \n",
    "ax.set_title('The sequence of numbers', fontsize = 16);           # Set a title of graph and a fontsize\n",
    "ax.set_xlabel('The values of x', fontsize = 12)                   # Set x-axis label and a fontsize\n",
    "ax.set_ylabel('The values of y', fontsize = 12)                   # Set y-axis label and a fontsize\n",
    "\n",
    "ax.axhline(y = 40, linewidth = 2, alpha = 0.5, color = 'black');  # Set horizontal line emphasises a value of y-axis\n",
    "ax.legend(['our line','threshold'], loc = 4)                      # Set the labels of line in the legend and its location \n",
    "\n",
    "# TASK 1 >>> Observe the frequency of ticks, then uncomment these 2 lines to see the difference\n",
    "#        >>> Find the explanation of x and y ticks in the text below the line plot\n",
    "plt.xticks(np.arange(start = 0, stop = len(x_var), step = 1))\n",
    "plt.yticks(np.arange(start = 0, stop = max(y), step = 2));"
   ]
  },
  {
   "cell_type": "markdown",
   "metadata": {
    "application/vnd.databricks.v1+cell": {
     "cellMetadata": {},
     "inputWidgets": {},
     "nuid": "40c21f15-3974-4e14-a8ae-0590b6c60613",
     "showTitle": false,
     "title": ""
    }
   },
   "source": [
    "The frequency of ticks are generated by Matplotlib in the way that is the most suitable given the data. We can see that ticks on the x-axis start at 0 and end at 14 while the values are increasing by 2. The y-axis ranges from 15 to 45 by steps of 5. \n",
    "If we would like to customize the frequency of ticks we can use `plt.xticks` and `plt.yticks` to do so. Take a closer look at the original ticks and then uncomment those two rows in the previous cell to see the difference. The new positions of ticks are set using Numpy's `arange()` function where we define the start and end of the interval and the desired spacing between the values. In case of the x-axis, the tick's stopping point is defined as the length of the variable x and values increase set by 1. The last tick on the y-axis is defined as the maximum value of the variable y plus 2 additional numbers. \n",
    "Try to change these values for yourself to see how the position of ticks will adjust."
   ]
  },
  {
   "cell_type": "markdown",
   "metadata": {
    "application/vnd.databricks.v1+cell": {
     "cellMetadata": {},
     "inputWidgets": {},
     "nuid": "fc4823f8-6af6-41a3-99b9-1eae72ac02b9",
     "showTitle": false,
     "title": ""
    }
   },
   "source": [
    "## 3.2 Histogram\n",
    "\n",
    "To create a histogram of a variable we can use the `hist()` function where a set of parameters can be specified. See the [documentation](https://matplotlib.org/3.3.3/api/_as_gen/matplotlib.pyplot.hist.html). \n",
    "\n",
    "We use `plt.subplots()` to create a Figure object and a grid of subplots (Axes objects), where we define 1 row and 2 columns so that our subplots will be created side-by-side. After that, we will have access to each of the Axes objects by their indices and can create plots."
   ]
  },
  {
   "cell_type": "code",
   "execution_count": 0,
   "metadata": {
    "application/vnd.databricks.v1+cell": {
     "cellMetadata": {
      "byteLimit": 2048000,
      "rowLimit": 10000
     },
     "inputWidgets": {},
     "nuid": "b7f5fc26-38ce-4458-832b-4d00eea85b0c",
     "showTitle": false,
     "title": ""
    }
   },
   "outputs": [],
   "source": [
    "# For demonstration, we create random sample from a normal distribution using Numpy\n",
    "np.random.seed(42)\n",
    "x_var2 = np.random.normal(size = 150)"
   ]
  },
  {
   "cell_type": "code",
   "execution_count": 0,
   "metadata": {
    "application/vnd.databricks.v1+cell": {
     "cellMetadata": {
      "byteLimit": 2048000,
      "rowLimit": 10000
     },
     "inputWidgets": {},
     "nuid": "38940920-16e2-4d79-9434-c07c23bd3ddd",
     "showTitle": false,
     "title": ""
    }
   },
   "outputs": [],
   "source": [
    "# Create a figure object and a subplot grid\n",
    "fig, ax = plt.subplots(1,2, figsize = (13,9))\n",
    "\n",
    "# Create a histogram in the first subplot\n",
    "# Note that index starts at zero\n",
    "ax[0].hist(x_var2, bins = 15, color = 'red',  histtype = 'step')\n",
    "ax[0].set_xlabel('Values')\n",
    "ax[0].set_ylabel('Count')\n",
    "ax[0].set_title('The distribution of data points')\n",
    "\n",
    "# Creare a density histogram in the second subplot\n",
    "ax[1].hist(x_var2, bins = 10, density = True)\n",
    "ax[1].set_xlabel('Values')\n",
    "ax[1].set_ylabel('Density')\n",
    "ax[1].set_title('The density of data points')\n",
    "\n",
    "# Adjust the padding between the edges of subplots\n",
    "plt.tight_layout(pad = 6)\n",
    "\n",
    "# Add a title to a Figure\n",
    "# Adjust the position of a title using coordinates of a Figure\n",
    "# Adjust the fontsize\n",
    "fig.suptitle('Histograms of x_var', x = 0.5, y = 0.97, fontsize = 20);"
   ]
  },
  {
   "cell_type": "markdown",
   "metadata": {
    "application/vnd.databricks.v1+cell": {
     "cellMetadata": {},
     "inputWidgets": {},
     "nuid": "c95ce8f0-0b61-4049-a720-f174a4831053",
     "showTitle": false,
     "title": ""
    }
   },
   "source": [
    "Now it's time for a little practice with subplots and customization of plots. Your task is to create a figure with 4 subplots, but actually create only 2 plots: a histogram and a line plot. The remaining two subplots should be left empty. To get this done, use an object-oriented plotting approach to have a full control over the placement of plots."
   ]
  },
  {
   "cell_type": "code",
   "execution_count": 0,
   "metadata": {
    "application/vnd.databricks.v1+cell": {
     "cellMetadata": {
      "byteLimit": 2048000,
      "rowLimit": 10000
     },
     "inputWidgets": {},
     "nuid": "c5c0ec44-c31f-4162-8b01-c7c266c8f5ac",
     "showTitle": false,
     "title": ""
    }
   },
   "outputs": [],
   "source": [
    "# TASK 2 >>> Now it's the time for a little practice with subplots\n",
    "#        >>> Firstly create a Figure object with 4 subplots while only in 2 subplots the graph will be drawn\n",
    "#        >>> Histogram:\n",
    "#            Create a horizontal histogram of x_var2 variable that should be placed in the left upper corner\n",
    "#            Set the number of bins to 14, set the color to 'slateblue', set the transparency to .7\n",
    "#            Set x-axis label: 'Values'\n",
    "#            Set y-axis label: 'Count'\n",
    "#            Set a title: 'A histogram'\n",
    "#        >>> Line plot:\n",
    "#            Create a line plot of x_var that should be placed in the right down corner\n",
    "#            Set the color to be 'dodgerblue', set 'dotted' style of the line and add marker '*'\n",
    "#            Set x-axis label: 'Count'\n",
    "#            Set y-axis label: 'Values'\n",
    "#            Set a title: 'A line plot'\n",
    "\n",
    "fig, ax = plt.subplots(2,2, figsize = (18,12))\n",
    "\n",
    "ax[0,0].hist(x_var2, color = 'slateblue', alpha = .7, bins = 14)\n",
    "ax[0,0].set_title('A histogram')\n",
    "ax[0,0].set_xlabel('Values')\n",
    "ax[0,0].set_ylabel('Count')\n",
    "\n",
    "ax[1,1].plot(x_var2, color = 'dodgerblue', linestyle = 'dotted', marker = '*')\n",
    "ax[1,1].set_title('A line plot')\n",
    "ax[1,1].set_title('A line plot')\n",
    "ax[1,1].set_xlabel('Count')\n",
    "ax[1,1].set_ylabel('Values');"
   ]
  },
  {
   "cell_type": "markdown",
   "metadata": {
    "application/vnd.databricks.v1+cell": {
     "cellMetadata": {},
     "inputWidgets": {},
     "nuid": "3367abde-1849-4a83-9b0b-6a9c55653548",
     "showTitle": false,
     "title": ""
    }
   },
   "source": [
    "## 3.3. Boxplot\n",
    "\n",
    "You can create a boxplot using the `plt.boxplot()` plotting function. See the documentation [here](https://matplotlib.org/stable/api/_as_gen/matplotlib.pyplot.boxplot.html). There are several options for customizing the output, for example customizing elements of a boxplot."
   ]
  },
  {
   "cell_type": "code",
   "execution_count": 0,
   "metadata": {
    "application/vnd.databricks.v1+cell": {
     "cellMetadata": {
      "byteLimit": 2048000,
      "rowLimit": 10000
     },
     "inputWidgets": {},
     "nuid": "d7087071-fa18-485e-b0e8-3a58d1c8ca0d",
     "showTitle": false,
     "title": ""
    }
   },
   "outputs": [],
   "source": [
    "# Create a Figure\n",
    "fig, ax = plt.subplots(figsize = (13,9))\n",
    "# Create a boxplot of x_var variable\n",
    "box_properties = dict(color = 'orange', linestyle = '--')           # Properties of a box\n",
    "wh_properties = dict(linestyle = '-.',linewidth = 1.5)              # Properties of whiskers\n",
    "median_line = dict(color = 'red', linewidth = 2)                    # Properties of median value\n",
    "mean_line = dict(color = 'green', linewidth = 3, linestyle = '-.')  # Properties of mean value\n",
    "ax.boxplot(x_var2,\n",
    "           showmeans = True,                 # Show the mean\n",
    "           meanline = True,                  # Displaying the mean as line within a box\n",
    "           meanprops = mean_line,            # Properties of mean line\n",
    "           boxprops = box_properties,        # Properties of a box\n",
    "           whiskerprops = wh_properties,     # Properties of whiskers\n",
    "           medianprops =  median_line);      # Properties of a median line"
   ]
  },
  {
   "cell_type": "markdown",
   "metadata": {
    "application/vnd.databricks.v1+cell": {
     "cellMetadata": {},
     "inputWidgets": {},
     "nuid": "c85e108f-ef63-4f8f-a063-9ed3e5d4b311",
     "showTitle": false,
     "title": ""
    }
   },
   "source": [
    "## 3.4 Barplot\n",
    "\n",
    "To visualize and compare categorical features you can create a bar plot. The quantity of data points belonging to particular category will be drawn in the form of a bar. Matplotlib's `bar` function take several parameter such as:\n",
    "- x: the coordinates of the bars\n",
    "- height: the height of the bars, in other words, the amount of data points \n",
    "\n",
    "Other parameters include the bar's width or the alignemnt of the bars. Please refer to the documentation [here](https://matplotlib.org/3.1.1/api/_as_gen/matplotlib.pyplot.bar.html).\n",
    "\n",
    "-----\n",
    "Now we'll create a barplot which depicts the top speed of different animals and compares them to Usain Bolt's top speed at the World Championships in 2009, which is 44.72 km/h. \n",
    "\n",
    "There are limitless options regarding adding and customizing things such as annotations, arrows or colors of your plots. All of these options are well-documented in Matplotlib's documentation."
   ]
  },
  {
   "cell_type": "code",
   "execution_count": 0,
   "metadata": {
    "application/vnd.databricks.v1+cell": {
     "cellMetadata": {
      "byteLimit": 2048000,
      "rowLimit": 10000
     },
     "inputWidgets": {},
     "nuid": "dd27ec9c-9caf-45fa-9f58-8276e8895c51",
     "showTitle": false,
     "title": ""
    }
   },
   "outputs": [],
   "source": [
    "animals = ['Horse','Pig','Cheetah','Coyote','Ostrich','Black Mamba']    \n",
    "top_speed = [88,17.7,120,69,70,32.2]                            "
   ]
  },
  {
   "cell_type": "code",
   "execution_count": 0,
   "metadata": {
    "application/vnd.databricks.v1+cell": {
     "cellMetadata": {
      "byteLimit": 2048000,
      "rowLimit": 10000
     },
     "inputWidgets": {},
     "nuid": "f819447f-1a2a-4c48-b7cc-73adbed36159",
     "showTitle": false,
     "title": ""
    }
   },
   "outputs": [],
   "source": [
    "# Create a Figure object \n",
    "fig,ax = plt.subplots(figsize = (9,7))\n",
    "\n",
    "# Inspect how the width of bars can change depending on the width parameter\n",
    "ax.bar(animals, top_speed, width = 0.5)\n",
    "# Eventually, add 'align = 'edge'' parameter to the above line of code to see how the alignment of the bars will change\n",
    "#ax.bar(x_position, top_speed, width = 0.9, align = 'edge')\n",
    "\n",
    "# Setting x-axis labels \n",
    "plt.xticks(animals)\n",
    "# Setting x -axis labels rotation\n",
    "plt.xticks(rotation = 45)\n",
    "# Setting title of the plot, x-axis and y-axis labels\n",
    "plt.title('Comparing top speed', fontsize = 16)\n",
    "plt.xlabel('Animals')\n",
    "plt.ylabel('Top speed (km/h)')\n",
    "\n",
    "# Adding horizontal line to depict the top speed of Usain Bolt along with an arrow pointing to that line\n",
    "ax.axhline(y = 44.72, linewidth = 2, alpha = 0.7, color = 'red')\n",
    "ax.annotate('Usain Bolt \\n 44.72 km/h', xy = (4.9,45), xytext=(4.9,57), ha = 'center', fontsize = 14,\n",
    "           arrowprops = dict(arrowstyle = '->', color = 'red'))\n",
    "\n",
    "# Removing top and left spines\n",
    "ax.spines['top'].set(visible = False)         \n",
    "ax.spines['right'].set(visible = False);"
   ]
  },
  {
   "cell_type": "markdown",
   "metadata": {
    "application/vnd.databricks.v1+cell": {
     "cellMetadata": {},
     "inputWidgets": {},
     "nuid": "490712dc-93c2-4cea-9440-2aaba56f1a80",
     "showTitle": false,
     "title": ""
    }
   },
   "source": [
    "## Scatterplot\n",
    "\n",
    "Using a scatterplot we can visualize a relationship between variables. The simple example below shows a relationship between the x and y variables created using Matplotlib's `scatter()` function."
   ]
  },
  {
   "cell_type": "code",
   "execution_count": 0,
   "metadata": {
    "application/vnd.databricks.v1+cell": {
     "cellMetadata": {
      "byteLimit": 2048000,
      "rowLimit": 10000
     },
     "inputWidgets": {},
     "nuid": "c8a07acf-102a-4e2d-a4d5-55719894f5e2",
     "showTitle": false,
     "title": ""
    }
   },
   "outputs": [],
   "source": [
    "# Sample data\n",
    "x_sample = [5,10,15,20,25,30,35,30] \n",
    "y_sample = [34, 40,56,68,77,80,93,150]"
   ]
  },
  {
   "cell_type": "code",
   "execution_count": 0,
   "metadata": {
    "application/vnd.databricks.v1+cell": {
     "cellMetadata": {
      "byteLimit": 2048000,
      "rowLimit": 10000
     },
     "inputWidgets": {},
     "nuid": "58f327fe-d7ec-41be-856f-1c4b3b37bdd4",
     "showTitle": false,
     "title": ""
    }
   },
   "outputs": [],
   "source": [
    "# A scatterplot\n",
    "fig,ax = plt.subplots(figsize = (9,7))\n",
    "plt.scatter(x_sample,y_sample)\n",
    "plt.xlabel('X values', fontsize = 13)\n",
    "plt.ylabel('Y values', fontsize = 13);"
   ]
  },
  {
   "cell_type": "markdown",
   "metadata": {
    "application/vnd.databricks.v1+cell": {
     "cellMetadata": {},
     "inputWidgets": {},
     "nuid": "4debd3ed-a04f-43f1-8e02-b37aea29ff74",
     "showTitle": false,
     "title": ""
    }
   },
   "source": [
    "# Tasks\n",
    "Let's load the real estate evaluation dataset that consists of 7 attributes.\n",
    "\n",
    "**Attributes:**\n",
    "\n",
    "- X1 transaction date\n",
    "- X2 house age\n",
    "- X3 distance to the nearest MRT station\n",
    "- X4 number of convenience stores\n",
    "- X5 latitude\n",
    "- X6 longitude\n",
    "- Y house price of unit area"
   ]
  },
  {
   "cell_type": "code",
   "execution_count": 0,
   "metadata": {
    "application/vnd.databricks.v1+cell": {
     "cellMetadata": {
      "byteLimit": 2048000,
      "rowLimit": 10000
     },
     "inputWidgets": {},
     "nuid": "a3cda0cf-84ec-432a-880e-825d48e9d65a",
     "showTitle": false,
     "title": ""
    }
   },
   "outputs": [],
   "source": [
    "# Load the data\n",
    "houses = pd.read_csv('../Data/real_estate_valuation_data.csv', sep=\";\")"
   ]
  },
  {
   "cell_type": "code",
   "execution_count": 0,
   "metadata": {
    "application/vnd.databricks.v1+cell": {
     "cellMetadata": {
      "byteLimit": 2048000,
      "rowLimit": 10000
     },
     "inputWidgets": {},
     "nuid": "fae60fb0-ecbe-4e4f-b7d2-c68cf1b45a8e",
     "showTitle": false,
     "title": ""
    }
   },
   "outputs": [],
   "source": [
    "# Take a look at the first five rows\n",
    "houses"
   ]
  },
  {
   "cell_type": "code",
   "execution_count": 0,
   "metadata": {
    "application/vnd.databricks.v1+cell": {
     "cellMetadata": {
      "byteLimit": 2048000,
      "rowLimit": 10000
     },
     "inputWidgets": {},
     "nuid": "32e54fc6-34f2-45dc-870c-87ea5b48b832",
     "showTitle": false,
     "title": ""
    }
   },
   "outputs": [],
   "source": [
    "# Renaming columns\n",
    "houses.rename(columns = {'X1 transaction date':'transaction_date','X2 house age':'age','X3 distance to the nearest MRT station':\n",
    "                        'distance_to_metro','X4 number of convenience stores':'n_convenience_stores',\n",
    "                        'Y house price of unit area':'price_unit_area'}, inplace = True)"
   ]
  },
  {
   "cell_type": "code",
   "execution_count": 0,
   "metadata": {
    "application/vnd.databricks.v1+cell": {
     "cellMetadata": {
      "byteLimit": 2048000,
      "rowLimit": 10000
     },
     "inputWidgets": {},
     "nuid": "8759c35c-ea1b-48e5-91a6-9df1fb9d14ea",
     "showTitle": false,
     "title": ""
    }
   },
   "outputs": [],
   "source": [
    "# Convert dtype to float for columns with continuous parameters\n",
    "float_columns = ['transaction_date', 'age', 'distance_to_metro', 'X5 latitude', 'X6 longitude', 'price_unit_area']\n",
    "for column in float_columns:\n",
    "    houses[column] = houses[column].str.replace(\",\",\".\").astype(float)"
   ]
  },
  {
   "cell_type": "code",
   "execution_count": 0,
   "metadata": {
    "application/vnd.databricks.v1+cell": {
     "cellMetadata": {
      "byteLimit": 2048000,
      "rowLimit": 10000
     },
     "inputWidgets": {},
     "nuid": "8c756312-e54e-4d7f-94a0-4108a1d0dc84",
     "showTitle": false,
     "title": ""
    }
   },
   "outputs": [],
   "source": [
    "# TASK 3 >>> Create a boxplot of the 'age' feature\n",
    "#        >>> Create a figure and set the size to (13,9)\n",
    "#        >>> Call the boxplot() function on ax \n",
    "#        >>> Specify the properties for:\n",
    "#             mean: green line with style '--' and size 3,\n",
    "#             median: red line with the size 2,\n",
    "#             whiskers: orange whiskers with line style '-.'\n",
    "#             box: a gray box with line style '--'\n",
    "#        >>> Disable x-tick labels\n",
    "#        >>> Add x-axis label: 'Age' and y-axis label: 'Distribution'\n",
    "#        >>> Add a title: 'The boxplot of Age' and set font size 17\n",
    "\n",
    "fig, ax = plt.subplots(figsize = (13,9))\n",
    "ax.boxplot(houses['age'], \n",
    "           meanline = True, \n",
    "           showmeans = True,\n",
    "           boxprops = dict(color = 'gray', linestyle = '--'),\n",
    "           whiskerprops = dict(color = 'orange', linestyle = '-.'),\n",
    "           medianprops = dict(color = 'red', linewidth = 2),\n",
    "           meanprops = dict(color = 'green',linestyle ='--',linewidth = 3))\n",
    "ax.set_xticks([])\n",
    "ax.set_xlabel('Age', fontsize = 12)\n",
    "ax.set_ylabel('Distribution', fontsize = 12)\n",
    "plt.title('The boxplot of Age', fontsize = 17);"
   ]
  },
  {
   "cell_type": "code",
   "execution_count": 0,
   "metadata": {
    "application/vnd.databricks.v1+cell": {
     "cellMetadata": {
      "byteLimit": 2048000,
      "rowLimit": 10000
     },
     "inputWidgets": {},
     "nuid": "3438961b-a3d5-4701-8300-84115effafd4",
     "showTitle": false,
     "title": ""
    }
   },
   "outputs": [],
   "source": [
    "# TASK 4 >>> Create a boxplot and a histogram of the 'price_unit_area' feature\n",
    "#        >>> Firstly, create a figure and set the size to (13,9)\n",
    "#        >>> For creating these plots use MATLAB-style plotting using plt.subplot()\n",
    "#        >>> The first subplot will be a boxplot:\n",
    "#            Set y-axis label:'Price of a unit area (NT$)'\n",
    "#            Disable x-tick labels\n",
    "#        >>> The second subplot will be a histogram:\n",
    "#            Set the number of bins to 15\n",
    "#            Set x-axis label: 'Price of a unit area (NT$)'\n",
    "#        >>> Set a title for the whole Figure: 'House price of a unit area' and fontsize: 16\n",
    "\n",
    "plt.figure(figsize = (13,9))\n",
    "plt.subplot(1,2,1)\n",
    "plt.boxplot(houses['price_unit_area'])\n",
    "plt.ylabel('Price of a unit area (NT$)')\n",
    "plt.xticks([])\n",
    "plt.subplot(1,2,2)\n",
    "plt.hist(houses['price_unit_area'], bins = 15)\n",
    "plt.xlabel('Price of unit area (NT$)')\n",
    "plt.suptitle('House price of a unit area', fontsize = 16);"
   ]
  },
  {
   "cell_type": "code",
   "execution_count": 0,
   "metadata": {
    "application/vnd.databricks.v1+cell": {
     "cellMetadata": {
      "byteLimit": 2048000,
      "rowLimit": 10000
     },
     "inputWidgets": {},
     "nuid": "8d18b203-d9cd-4e17-a88f-5cdb0ec9f2b7",
     "showTitle": false,
     "title": ""
    }
   },
   "outputs": [],
   "source": [
    "# TASK 5 >>> Create a scatterplot of 'n_convenience_stores' and 'price_unit_area' to see their relationship\n",
    "#        >>> Create a figure and set the size to (13,9)\n",
    "#        >>> Call scatter() function on ax, specify features and set the color to 'indianred'\n",
    "#        >>> Remove top, right and left spines from plot\n",
    "#        >>> Set x-axis lalel: 'Number of convenience stores' \n",
    "#        >>> Set y-axis label: 'Price of unit area (NT$)'\n",
    "\n",
    "fig, ax = plt.subplots(figsize =(13,9))\n",
    "ax.scatter(houses['n_convenience_stores'], houses['price_unit_area'], color = 'indianred')\n",
    "ax.spines['top'].set(visible = False)\n",
    "ax.spines['right'].set(visible = False)\n",
    "ax.spines['left'].set(visible = False)\n",
    "plt.xlabel('Number of convenience stores')\n",
    "plt.ylabel('Price of unit area (NT$)');"
   ]
  },
  {
   "cell_type": "code",
   "execution_count": 0,
   "metadata": {
    "application/vnd.databricks.v1+cell": {
     "cellMetadata": {
      "byteLimit": 2048000,
      "rowLimit": 10000
     },
     "inputWidgets": {},
     "nuid": "ddba615e-68c4-48a8-b863-82289a5f2403",
     "showTitle": false,
     "title": ""
    }
   },
   "outputs": [],
   "source": [
    "# TASK 6 >>> Create a scatterplot of 'distance_to_metro' and 'price_unit_area' to see a relationship between them\n",
    "#        >>> Create a Figure and set the size to (13,9) \n",
    "#        >>> Using plt.scatter() create a scatterplot of the features\n",
    "#        >>> Remove top and left spines\n",
    "#        >>> Set x-axis label: 'Distance to the nearest metro station'\n",
    "#        >>> Set y-axis label: 'Price of unit area (NT$)'\n",
    "\n",
    "fig, ax = plt.subplots(figsize =(13,9))\n",
    "plt.scatter(houses['distance_to_metro'], houses['price_unit_area'])\n",
    "ax.set_xlabel('Distance to the nearest metro station')\n",
    "ax.set_ylabel('Price of unit area (NT$)')\n",
    "ax.spines['top'].set(visible = False)         \n",
    "ax.spines['right'].set(visible = False);"
   ]
  },
  {
   "cell_type": "markdown",
   "metadata": {
    "application/vnd.databricks.v1+cell": {
     "cellMetadata": {},
     "inputWidgets": {},
     "nuid": "0562d354-91f6-49c7-b824-707ee33b8981",
     "showTitle": false,
     "title": ""
    }
   },
   "source": [
    "## Citation request: \n",
    "Yeh, I. C., & Hsu, T. K. (2018). Building real estate valuation models with comparative approach through case-based reasoning. Applied Soft Computing, 65, 260-271.  \n",
    "\n",
    "Material adapted for RBI internal purposes with full permissions from original authors. [Source](https://github.com/zatkopatrik/authentic-data-science)"
   ]
  }
 ],
 "metadata": {
  "application/vnd.databricks.v1+notebook": {
   "dashboards": [],
   "language": "python",
   "notebookMetadata": {
    "pythonIndentUnit": 4
   },
   "notebookName": "2_Mechanics_of_plotting_in_Matplotlib_answers_jupyter",
   "notebookOrigID": 302834361984386,
   "widgets": {}
  }
 },
 "nbformat": 4,
 "nbformat_minor": 0
}
