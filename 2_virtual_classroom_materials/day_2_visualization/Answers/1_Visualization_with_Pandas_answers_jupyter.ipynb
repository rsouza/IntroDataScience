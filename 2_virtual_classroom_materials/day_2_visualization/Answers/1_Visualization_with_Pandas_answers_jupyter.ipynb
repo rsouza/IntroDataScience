{
 "cells": [
  {
   "cell_type": "markdown",
   "metadata": {
    "application/vnd.databricks.v1+cell": {
     "cellMetadata": {},
     "inputWidgets": {},
     "nuid": "53999655-140d-417c-b8e2-afc7f81fa774",
     "showTitle": false,
     "title": ""
    }
   },
   "source": [
    "# Visualizations with Pandas"
   ]
  },
  {
   "cell_type": "markdown",
   "metadata": {
    "application/vnd.databricks.v1+cell": {
     "cellMetadata": {},
     "inputWidgets": {},
     "nuid": "3d892a65-7fa3-498b-b04f-d7c0a2ce857d",
     "showTitle": false,
     "title": ""
    }
   },
   "source": [
    "# 1. Introduction\n",
    "\n",
    "The Pandas library will probably be your first option to create visual insights to better understand your data.\n",
    "The main advantage is that you can visualize the data using simple and straightforward methods. Behind the scenes of plotting with Pandas is another library - Matplotlib. But don't worry now about Matplotlib as we will cover it in a later lesson. When we call some Pandas' plotting function, Matplotlib acts as an engine. Therefore we can use a higher level of code to gain similar good-looking plots as in Matplotlib."
   ]
  },
  {
   "cell_type": "markdown",
   "metadata": {
    "application/vnd.databricks.v1+cell": {
     "cellMetadata": {},
     "inputWidgets": {},
     "nuid": "4ec6bf27-35c1-4bc0-bf23-ad27f8fd3d00",
     "showTitle": false,
     "title": ""
    }
   },
   "source": [
    "# 2. Dataset\n",
    "\n",
    "We will be working with an occupancy detection dataset which can be found [here](https://archive.ics.uci.edu/ml/datasets/Occupancy+Detection+#). \n",
    "\n",
    "This dataset is intended to solve binary classification problems according to attributes which could indicate whether a person is present in the room or not.\n",
    "\n",
    "Let's import the Pandas library and load the data."
   ]
  },
  {
   "cell_type": "code",
   "execution_count": 0,
   "metadata": {
    "application/vnd.databricks.v1+cell": {
     "cellMetadata": {},
     "inputWidgets": {},
     "nuid": "3c8c5b8f-9363-4005-be3f-a7a1ff73d96e",
     "showTitle": false,
     "title": ""
    }
   },
   "outputs": [],
   "source": [
    "# Import Pandas and Numpy libraries\n",
    "import pandas as pd\n",
    "import numpy as np\n",
    "\n",
    "# For now, we use Matplotlib only to set the size of plots\n",
    "import matplotlib.pyplot as plt\n",
    "\n",
    "# rcParams allow us to set the size global to the whole notebook \n",
    "plt.rcParams['figure.figsize'] = [10,6]\n",
    "# In some plots, we define the size within the plotting function"
   ]
  },
  {
   "cell_type": "code",
   "execution_count": 0,
   "metadata": {
    "application/vnd.databricks.v1+cell": {
     "cellMetadata": {},
     "inputWidgets": {},
     "nuid": "0e795e05-e563-4d69-81c3-601279584330",
     "showTitle": false,
     "title": ""
    }
   },
   "outputs": [],
   "source": [
    "# Load the data\n",
    "data = pd.read_csv('../Data/room_occupancy.txt')"
   ]
  },
  {
   "cell_type": "code",
   "execution_count": 0,
   "metadata": {
    "application/vnd.databricks.v1+cell": {
     "cellMetadata": {},
     "inputWidgets": {},
     "nuid": "44317eec-4d0a-4e54-a732-d00749ab2e4c",
     "showTitle": false,
     "title": ""
    }
   },
   "outputs": [],
   "source": [
    "# Take a look at the first 10 rows\n",
    "data.head(10)"
   ]
  },
  {
   "cell_type": "code",
   "execution_count": 0,
   "metadata": {
    "application/vnd.databricks.v1+cell": {
     "cellMetadata": {},
     "inputWidgets": {},
     "nuid": "8d130673-5132-4b28-92f4-3329525872cc",
     "showTitle": false,
     "title": ""
    }
   },
   "outputs": [],
   "source": [
    "# Print number of rows and columns\n",
    "data.shape"
   ]
  },
  {
   "cell_type": "markdown",
   "metadata": {
    "application/vnd.databricks.v1+cell": {
     "cellMetadata": {},
     "inputWidgets": {},
     "nuid": "3c6a5523-5ca9-497a-a6f7-ed0b43210996",
     "showTitle": false,
     "title": ""
    }
   },
   "source": [
    "## 2.1 Attributes explanation\n",
    "\n",
    "Firstly, let's examine what variables we are dealing with.\n",
    "\n",
    "- date: the specific day and time when the values were recorded \n",
    "- Temperature: measured in Celsius\n",
    "- Humidity: relative humidity - a present state of absolute humidity relative to a\n",
    "    maximum humidity given the same temperature expressed as a percentage\n",
    "- Light: measured in Lux\n",
    "- CO2: in ppm (parts per million)\n",
    "- HumidityRatio: derived quantity from temperature and relative humidity, expressed in kilograms of water vapor per kilogram of dry air  \n",
    "- Occupancy: the presence of a person in the room. The occupancy of the room was obtained from pictures that were taken every minute for a period of 8 days (1 if a person is present, 0 otherwise)"
   ]
  },
  {
   "cell_type": "markdown",
   "metadata": {
    "application/vnd.databricks.v1+cell": {
     "cellMetadata": {},
     "inputWidgets": {},
     "nuid": "fdeca6ec-8c84-41cc-81c9-9ca84616acbf",
     "showTitle": false,
     "title": ""
    }
   },
   "source": [
    "### 2.1.2 Exploring the data\n",
    "Let's look at the variables data type using `.dtypes` attribute."
   ]
  },
  {
   "cell_type": "code",
   "execution_count": 0,
   "metadata": {
    "application/vnd.databricks.v1+cell": {
     "cellMetadata": {},
     "inputWidgets": {},
     "nuid": "e71f6f34-6e54-4bb9-88bf-e75088490b7b",
     "showTitle": false,
     "title": ""
    }
   },
   "outputs": [],
   "source": [
    "# Check variables data type\n",
    "data.dtypes"
   ]
  },
  {
   "cell_type": "markdown",
   "metadata": {
    "application/vnd.databricks.v1+cell": {
     "cellMetadata": {},
     "inputWidgets": {},
     "nuid": "180af2c7-c1c6-4c2c-a384-f42e48912088",
     "showTitle": false,
     "title": ""
    }
   },
   "source": [
    "There are 6 numerical variables in the dataset. Almost all of the variables have been correctly interpreted according to their datatypes, except for the 'date' column, which Python recognized as an object. Convert this object datatype to the datetime datatype using Pandas."
   ]
  },
  {
   "cell_type": "code",
   "execution_count": 0,
   "metadata": {
    "application/vnd.databricks.v1+cell": {
     "cellMetadata": {},
     "inputWidgets": {},
     "nuid": "00e50d7a-9414-460c-abce-c556f5924c65",
     "showTitle": false,
     "title": ""
    }
   },
   "outputs": [],
   "source": [
    "# Convert date variable using Pandas to_datetime method\n",
    "data['date'] = pd.to_datetime(data['date'])"
   ]
  },
  {
   "cell_type": "markdown",
   "metadata": {
    "application/vnd.databricks.v1+cell": {
     "cellMetadata": {},
     "inputWidgets": {},
     "nuid": "dfbe6961-4fc5-408c-8103-1497f21c44ed",
     "showTitle": false,
     "title": ""
    }
   },
   "source": [
    "Let's check whether there are some missing values that we need to be aware of."
   ]
  },
  {
   "cell_type": "code",
   "execution_count": 0,
   "metadata": {
    "application/vnd.databricks.v1+cell": {
     "cellMetadata": {},
     "inputWidgets": {},
     "nuid": "391af4ed-e116-4fcc-933d-7dd4be5a97e6",
     "showTitle": false,
     "title": ""
    }
   },
   "outputs": [],
   "source": [
    "# Explore descriptive statistics\n",
    "data.describe()"
   ]
  },
  {
   "cell_type": "code",
   "execution_count": 0,
   "metadata": {
    "application/vnd.databricks.v1+cell": {
     "cellMetadata": {},
     "inputWidgets": {},
     "nuid": "e2630523-ca2e-4ec4-80b6-68ae432166f2",
     "showTitle": false,
     "title": ""
    }
   },
   "outputs": [],
   "source": [
    "# Check missing values\n",
    "data.isnull().sum()"
   ]
  },
  {
   "cell_type": "markdown",
   "metadata": {
    "application/vnd.databricks.v1+cell": {
     "cellMetadata": {},
     "inputWidgets": {},
     "nuid": "8fc8e4da-3cc0-42cc-af2b-427dd5f121b1",
     "showTitle": false,
     "title": ""
    }
   },
   "source": [
    "# 3. Plot method\n",
    "\n",
    "The `.plot()` function\n",
    "\n",
    "This plotting function is simply a wrapper around `Matplotlibs` plot function that create a **lineplot** by default. A lineplot plots each data point of a DataFrame and then draws a straight, continuous line connecting these values.\n",
    "\n",
    "---\n",
    "\n",
    "If you call `.plot()` right onto the DataFrame, all of the features will be plotted. This approach is sometimes not quite good as you can see below. There are several variables with similar low values, thus they are overlapping."
   ]
  },
  {
   "cell_type": "code",
   "execution_count": 0,
   "metadata": {
    "application/vnd.databricks.v1+cell": {
     "cellMetadata": {},
     "inputWidgets": {},
     "nuid": "0951f590-5491-4a2b-af5f-5246736d5d95",
     "showTitle": false,
     "title": ""
    }
   },
   "outputs": [],
   "source": [
    "# Create a lineplot of the DataFrame\n",
    "data.plot()"
   ]
  },
  {
   "cell_type": "markdown",
   "metadata": {
    "application/vnd.databricks.v1+cell": {
     "cellMetadata": {},
     "inputWidgets": {},
     "nuid": "13b1e05f-618f-4352-b477-a66f7b28ce1e",
     "showTitle": false,
     "title": ""
    }
   },
   "source": [
    "Let´s create a violet line plot of variable 'Temperature'. You can select desired variable by indexing the DataFrame with square brackets."
   ]
  },
  {
   "cell_type": "code",
   "execution_count": 0,
   "metadata": {
    "application/vnd.databricks.v1+cell": {
     "cellMetadata": {},
     "inputWidgets": {},
     "nuid": "7145e91e-6cf5-4e82-81a4-173cce348349",
     "showTitle": false,
     "title": ""
    }
   },
   "outputs": [],
   "source": [
    "# Create a line plot of Temperature variable \n",
    "data['Temperature'].plot(color = 'violet')"
   ]
  },
  {
   "cell_type": "markdown",
   "metadata": {
    "application/vnd.databricks.v1+cell": {
     "cellMetadata": {},
     "inputWidgets": {},
     "nuid": "d6e5ee18-6684-46fa-ba11-54466aa7d5ad",
     "showTitle": false,
     "title": ""
    }
   },
   "source": [
    "Now only 'Temperature' is plotted with its respective values.\n",
    "\n",
    "You can see that the `plot()` function returns an ```<AxesSubplot:>``` object. But what does this mean? \n",
    "\n",
    "For now, remember that each graph is actually represented as a _Figure object_ that serves as the base. Onto this base there is an Axes object in which the x-axis and y-axis are created. In the latter section, we will discuss more details about Figures and Axes. \n",
    "To avoid displaying this label, you can put a semicolon at the end of the line.\n",
    "\n",
    "---\n",
    "It is also possible to plot multiple columns by passing a **list** of respective variables, separated by a comma within square brackets and then call `.plot()`. Pandas sets the colors of lines automatically so that you will be able to distinguish the features. You can manually specify the colors of the lines by using the `color` parameter. Chosen colors need to be passed in a dictionary.  See the following example:\n",
    "\n",
    "``` data[['variable_1', 'variable_2']].plot(color = {'variable_1':'yellow', 'variable_2': 'black'})```\n",
    "\n",
    "Also the legend is placed by default. \n",
    "\n",
    "**Try it yourself in the following task.**"
   ]
  },
  {
   "cell_type": "code",
   "execution_count": 0,
   "metadata": {
    "application/vnd.databricks.v1+cell": {
     "cellMetadata": {},
     "inputWidgets": {},
     "nuid": "11229aad-3b94-45c3-940c-4ff26c4a290b",
     "showTitle": false,
     "title": ""
    }
   },
   "outputs": [],
   "source": [
    "# TASK 1 >>> Create a lineplot of variables 'Temperature' and 'Humidity'\n",
    "#        >>> Set the color of Temperature to green and Humidity to be blue\n",
    "#        >>> In the created plot, observe how humidity and temperature have been decreasing and increasing\n",
    "\n",
    "data[['Temperature','Humidity']].plot(color = {'Temperature':'green', 'Humidity':'blue'});"
   ]
  },
  {
   "cell_type": "markdown",
   "metadata": {
    "application/vnd.databricks.v1+cell": {
     "cellMetadata": {},
     "inputWidgets": {},
     "nuid": "c61d6930-9ef6-4ab4-a369-7d736f4d6cff",
     "showTitle": false,
     "title": ""
    }
   },
   "source": [
    "## 3.1 Customizing parameters of a line plot"
   ]
  },
  {
   "cell_type": "markdown",
   "metadata": {
    "application/vnd.databricks.v1+cell": {
     "cellMetadata": {},
     "inputWidgets": {},
     "nuid": "f12ea68a-ded7-40f7-8fc9-188ec8cb7c37",
     "showTitle": false,
     "title": ""
    }
   },
   "source": [
    "It is possible to plot one column against another one as we see in the example below. We specify the 'date' feature on the x-axis and 'CO2' feature on the y-axis.\n",
    "Within the `.plot()` method you can set several parameters such as title, axis labels, size of plot, etc. For more information about parameter settings take a look at [the documentation](https://pandas.pydata.org/pandas-docs/stable/reference/api/pandas.DataFrame.plot.html)."
   ]
  },
  {
   "cell_type": "code",
   "execution_count": 0,
   "metadata": {
    "application/vnd.databricks.v1+cell": {
     "cellMetadata": {},
     "inputWidgets": {},
     "nuid": "0e859aba-664c-452c-a505-f45ae817fcf6",
     "showTitle": false,
     "title": ""
    }
   },
   "outputs": [],
   "source": [
    "# A lineplot of amount of CO2 per date\n",
    "\n",
    "data.plot(x = 'date', y = 'CO2',             # Specifying variabes on the axis\n",
    "          figsize = (15,8),                  # Setting a Figure object size as a tuple\n",
    "          fontsize = 9,                      # Setting ticks font size \n",
    "          color = 'skyblue',                 # Setting a color\n",
    "          title = 'Amount of CO2 over time', # Setting a title of a plot \n",
    "          xlabel = 'Date',                   # Customizing x-axis label (variable name by default)\n",
    "          ylabel = 'CO2 (in ppm)');          # Customizing y-axis label (no label by default)"
   ]
  },
  {
   "cell_type": "markdown",
   "metadata": {
    "application/vnd.databricks.v1+cell": {
     "cellMetadata": {},
     "inputWidgets": {},
     "nuid": "d900cb99-e8dc-4c2a-9405-b57b6535e465",
     "showTitle": false,
     "title": ""
    }
   },
   "source": [
    "The line plot is showing a trend of CO2 amount over a period of time from 12.02.2015 (Thursday) till 18.02.2015 (Wednesday). The graph displays how the amount of CO2 has decreased during the weekend (14.02.2015 - 15.02.2015)."
   ]
  },
  {
   "cell_type": "markdown",
   "metadata": {
    "application/vnd.databricks.v1+cell": {
     "cellMetadata": {},
     "inputWidgets": {},
     "nuid": "6395ec5d-2bb4-49c3-927c-25a53782880a",
     "showTitle": false,
     "title": ""
    }
   },
   "source": [
    "## 3.2 Plotting approaches and plot kinds\n",
    "\n",
    "Before we proceed with the other kinds of plots, there is an important thing to mention:\n",
    "\n",
    "**There are different ways to plot your data**. To not to get confused later on, let's clarify them a little bit. \n",
    "\n",
    "In the preceding examples, we use the default `plot()` function that creates **a line plot by default**. \n",
    "\n",
    "**First approach:**\n",
    "- select a specific plot style by using the `kind `parameter.\n",
    "\n",
    "Overall, there are 10 plot styles you can specify as an argument provided as a string:\n",
    "\n",
    "- `hist`    - histogram  \n",
    "- `box`     - boxplot  \n",
    "- `bar`     - vertical barplot  \n",
    "- `barh`    - horizontal barplot  \n",
    "- `scatter` - scatterplot  \n",
    "- `pie`     - pie plot  \n",
    "- `kde`     - density plot  \n",
    "- `density` - density plot  \n",
    "- `area`    - area plot  \n",
    "- `hexbin`  - hexagonal bin plot  \n",
    "\n",
    "**Second approach:**\n",
    "\n",
    "- all of these plots can be created using the corresponding plotting functions:\n",
    "\n",
    "- `DataFrame.plot.line`\n",
    "- `DataFrame.plot.hist`\n",
    "- `DataFrame.plot.box`\n",
    "- `DataFrame.plot.bar`\n",
    "- `DataFrame.plot.barh`\n",
    "- `DataFrame.plot.scatter`\n",
    "- `DataFrame.plot.pie`\n",
    "- `DataFrame.plot.kde`\n",
    "- `DataFrame.plot.density`\n",
    "- `DataFrame.plot.area`\n",
    "- `DataFrame.plot.hexbin`\n",
    "\n",
    "For a histogram and a boxplot there are aditionally two plotting functions: `DataFrame.hist()` and `DataFrame.boxplot()`.\n",
    "\n",
    "It is up to you which of the two approaches you will decide to stick with."
   ]
  },
  {
   "cell_type": "markdown",
   "metadata": {
    "application/vnd.databricks.v1+cell": {
     "cellMetadata": {},
     "inputWidgets": {},
     "nuid": "6d23d8cc-0729-4ba7-9ff4-b6e391de1994",
     "showTitle": false,
     "title": ""
    }
   },
   "source": [
    "### 3.2.1 Histogram"
   ]
  },
  {
   "cell_type": "markdown",
   "metadata": {
    "application/vnd.databricks.v1+cell": {
     "cellMetadata": {},
     "inputWidgets": {},
     "nuid": "c71ba2e1-ec2c-45ac-8cea-47738ee4654a",
     "showTitle": false,
     "title": ""
    }
   },
   "source": [
    "A histogram is a handy plot to get a picture of the spread of data points. It creates so-called bins that you can think of as particular ranges of values. Each data point falls into the respective bin according to its value and then the number of data points in each bin are counted. \n",
    "\n",
    "Look at some statistics computed on the feature 'HumidityRatio'. We know the lowest and the highest ratio, the average value, and that 50% of values are under 30.0045, etc. But it´s hard to imagine how the distribution of 9752 observations looks like based these summary statistics."
   ]
  },
  {
   "cell_type": "code",
   "execution_count": 0,
   "metadata": {
    "application/vnd.databricks.v1+cell": {
     "cellMetadata": {},
     "inputWidgets": {},
     "nuid": "7b4ec7d0-49cf-47f3-a3e4-b8c5cdd4f8ed",
     "showTitle": false,
     "title": ""
    }
   },
   "outputs": [],
   "source": [
    "# Take a look at the descriptive statistics using .describe()\n",
    "data.HumidityRatio.describe()"
   ]
  },
  {
   "cell_type": "markdown",
   "metadata": {
    "application/vnd.databricks.v1+cell": {
     "cellMetadata": {},
     "inputWidgets": {},
     "nuid": "fde56841-f8cc-4048-8c67-06d0ffe452f6",
     "showTitle": false,
     "title": ""
    }
   },
   "source": [
    "Let's create a histogram of the variable 'HumidityRatio'. You can use the `.plot()` method and specify `kind = \"hist\"` within this method. Again, we select desired column by indexing the DataFrame. In this case, Pandas does not create an x-axis label. Since the `plot` function returns `matplotlib.axes.AxesSubplot`object, we have access to Matplotlib capabilities and can specify labels.\n",
    "\n",
    "`plt.xlabel` for the x-axis  \n",
    "`plt.ylabel` for the y-axis"
   ]
  },
  {
   "cell_type": "code",
   "execution_count": 0,
   "metadata": {
    "application/vnd.databricks.v1+cell": {
     "cellMetadata": {},
     "inputWidgets": {},
     "nuid": "d7b2be39-4626-4019-9e69-474d12c33d1a",
     "showTitle": false,
     "title": ""
    }
   },
   "outputs": [],
   "source": [
    "# The Humidity ratio\n",
    "data['HumidityRatio'].plot(kind ='hist',\n",
    "                      figsize = (11,8),\n",
    "                      color = '#ff7f0e',\n",
    "                      alpha = .5,                            # Setting the transparency of a color                \n",
    "                      title = 'Humidity ratio distribution')\n",
    "\n",
    "plt.xlabel('Humidity Ratio');                                # Creating x-axis label"
   ]
  },
  {
   "cell_type": "markdown",
   "metadata": {
    "application/vnd.databricks.v1+cell": {
     "cellMetadata": {},
     "inputWidgets": {},
     "nuid": "21cd7601-bf2c-4ec6-8412-98686ff1f8d4",
     "showTitle": false,
     "title": ""
    }
   },
   "source": [
    "Now we can see all of the 9752 data points plotted in one graph. In the resulting graph, we can see how the values are spread across a range from about 0.003 to 0.005. Most data points lie in the range of values 0.0043 to 0.0047."
   ]
  },
  {
   "cell_type": "markdown",
   "metadata": {
    "application/vnd.databricks.v1+cell": {
     "cellMetadata": {},
     "inputWidgets": {},
     "nuid": "d04be166-59b2-4152-bc10-a721f189f463",
     "showTitle": false,
     "title": ""
    }
   },
   "source": [
    "Be default, this method separates all of the records into 10 bins. To verify whether our resulting graph accurately reflects the underlying data we should have some fun and try to use different numbers of bins. Using different numbers of bins will change the visual appearance of the histogram."
   ]
  },
  {
   "cell_type": "code",
   "execution_count": 0,
   "metadata": {
    "application/vnd.databricks.v1+cell": {
     "cellMetadata": {},
     "inputWidgets": {},
     "nuid": "bf160941-6aff-4c4e-b1f2-ad868c484a4f",
     "showTitle": false,
     "title": ""
    }
   },
   "outputs": [],
   "source": [
    "# TASK 2 >>> Create a histogram of 'Humidity' in the same way as above\n",
    "#        >>> Try yourself to change the number of bins and observe the output \n",
    "#        >>> Play around and change the size of the plot and the transparency to see the differences\n",
    "#        >>> Set the x-axis label to 'Relative Humidity (%)'\n",
    "#        >>> Change the default y-axis label (Frequency) to 'Number of occurences'\n",
    "\n",
    "data['Humidity'].plot(kind ='hist',\n",
    "                      figsize = (11,8),\n",
    "                      bins = 15,\n",
    "                      color = '#ff7f0e',\n",
    "                      alpha = .5,\n",
    "                      title = 'Humidity distribution')\n",
    "plt.xlabel('Relative Humidity (%)')\n",
    "plt.ylabel('Number of occurences');"
   ]
  },
  {
   "cell_type": "markdown",
   "metadata": {
    "application/vnd.databricks.v1+cell": {
     "cellMetadata": {},
     "inputWidgets": {},
     "nuid": "b973df46-b213-42a2-8152-a3bb2d659a4a",
     "showTitle": false,
     "title": ""
    }
   },
   "source": [
    "By applying `.hist()` to the DataFrame, we are able to create a histogram of the selected column or columns. It is also posibble to visualize a distribution of all the features of the dataset."
   ]
  },
  {
   "cell_type": "code",
   "execution_count": 0,
   "metadata": {
    "application/vnd.databricks.v1+cell": {
     "cellMetadata": {},
     "inputWidgets": {},
     "nuid": "b4d6ffba-628f-4f51-827c-4bed8d6f83b0",
     "showTitle": false,
     "title": ""
    }
   },
   "outputs": [],
   "source": [
    "# The data distribution of the whole DataFrame\n",
    "\n",
    "data.hist(layout=(2,4), grid = False)                    # Setting layout of 2 rows and 4 column and disabling the grid\n",
    "plt.suptitle('The distribution of variables');           # Adding a suptitle using Matplotlib"
   ]
  },
  {
   "cell_type": "markdown",
   "metadata": {
    "application/vnd.databricks.v1+cell": {
     "cellMetadata": {},
     "inputWidgets": {},
     "nuid": "a92e154b-cd23-401e-bc10-fe3a8d7f8041",
     "showTitle": false,
     "title": ""
    }
   },
   "source": [
    "### 3.2.2 Boxplot (box-and-whisker plot)\n",
    "\n",
    "Another approach to visualize the distribution of the data is using boxplots. Moreover, the resulting plot will include a [five-number summary](https://en.wikipedia.org/wiki/Five-number_summary): the smallest data point value, the first quartile (1Q), the median (Q2), the third quartile (Q3) and the largest data point value. Boxplots can reveal to us whether there are some possible outliers in the DataFrame and whether the data distribution is skewed or rather symmetrical.\n",
    "\n",
    "In order to draw a boxplot you can use the `.plot()` method and specifying the `kind` keyword argument as 'box'. If we want to customize things such as color, width or style of the line, we can use the `boxprops`,`whiskerprops`,`medianprops` and `capprops` parameters."
   ]
  },
  {
   "cell_type": "code",
   "execution_count": 0,
   "metadata": {
    "application/vnd.databricks.v1+cell": {
     "cellMetadata": {},
     "inputWidgets": {},
     "nuid": "9438ed25-2edd-45ad-bf58-7ac7ec6eec5b",
     "showTitle": false,
     "title": ""
    }
   },
   "outputs": [],
   "source": [
    "# A boxplot of relative humidity\n",
    "\n",
    "data['HumidityRatio'].plot(kind = 'box', \n",
    "                           figsize = (9,5),\n",
    "                           boxprops = dict(linewidth = 1.5, color = 'green',linestyle = '-.'),# Customizing the box\n",
    "                           whiskerprops = dict(linewidth = 1.5, color = 'pink'),              # Customizing the whiskers\n",
    "                           medianprops = dict(linewidth = 1.5, color = 'red'),                # Customizing median line\n",
    "                           capprops = dict(linewidth = 1.5, color = 'darkblue'),              # Customizing caps on the whiskers\n",
    "                           title = 'Boxplot of Humidity ratio');"
   ]
  },
  {
   "cell_type": "markdown",
   "metadata": {
    "application/vnd.databricks.v1+cell": {
     "cellMetadata": {},
     "inputWidgets": {},
     "nuid": "38e36e9a-6039-465e-8f49-a70c949ad65f",
     "showTitle": false,
     "title": ""
    }
   },
   "source": [
    "This boxplot illustrates how the values of the humidity ratio are spread out. Based on the shape it seems that the distribution is rather symetrical and also that there are no extreme values, e.g. outliers. The actual box represent 50% of records along with the median value that is displayed as a red line. You can return actual values (of quartiles/percentiles) using the `quantile` method."
   ]
  },
  {
   "cell_type": "code",
   "execution_count": 0,
   "metadata": {
    "application/vnd.databricks.v1+cell": {
     "cellMetadata": {},
     "inputWidgets": {},
     "nuid": "b670ed6f-2150-4fe0-a058-6259afd980b6",
     "showTitle": false,
     "title": ""
    }
   },
   "outputs": [],
   "source": [
    "# Compute 25th percentile, median value and 75th percentile of HumidityRatio variable\n",
    "perc_25, median, perc_75 = data.HumidityRatio.quantile([.25,.5,.75])"
   ]
  },
  {
   "cell_type": "code",
   "execution_count": 0,
   "metadata": {
    "application/vnd.databricks.v1+cell": {
     "cellMetadata": {},
     "inputWidgets": {},
     "nuid": "b32856a8-aa61-4752-bc92-65c123bcf1a5",
     "showTitle": false,
     "title": ""
    }
   },
   "outputs": [],
   "source": [
    "# Print the output\n",
    "perc_25, median, perc_75"
   ]
  },
  {
   "cell_type": "markdown",
   "metadata": {
    "application/vnd.databricks.v1+cell": {
     "cellMetadata": {},
     "inputWidgets": {},
     "nuid": "7dc9fecf-1620-4294-b261-506a9afd4ae9",
     "showTitle": false,
     "title": ""
    }
   },
   "source": [
    "The alternative is to use Pandas' built-in method `DataFrame.boxplot()`. Since the boxplots are really usefull when comparing two or more groups, we'll look at the amount of carbon dioxide according to a person's presence. Selecting groups you'd like to compare can be done using `by` parameter with the respective variable. We'll adjust the figure size and rename the x-tick labels.\n",
    "\n",
    "The axis grid lines are displayed by default. You can disable showing these lines by setting the parameter `grid = False`."
   ]
  },
  {
   "cell_type": "code",
   "execution_count": 0,
   "metadata": {
    "application/vnd.databricks.v1+cell": {
     "cellMetadata": {},
     "inputWidgets": {},
     "nuid": "1403f48f-4c0f-4395-8d91-ee7905d4c20f",
     "showTitle": false,
     "title": ""
    }
   },
   "outputs": [],
   "source": [
    "# A boxplot of CO2 by occupancy of the room\n",
    "\n",
    "data.boxplot(figsize = (10,8),\n",
    "             column = 'CO2', \n",
    "             by = 'Occupancy')\n",
    "\n",
    "# Setting the x-tick labels using Matplotlib\n",
    "plt.xticks([1,2], ['Not occupied room','Occupied room']);"
   ]
  },
  {
   "cell_type": "markdown",
   "metadata": {
    "application/vnd.databricks.v1+cell": {
     "cellMetadata": {},
     "inputWidgets": {},
     "nuid": "c9e36459-1937-425d-9c97-be41a0285b89",
     "showTitle": false,
     "title": ""
    }
   },
   "source": [
    "Comparing the distribution of two groups can helps us to better understand the data. From the boxplots you can immediately see the difference in amounts of CO2. When the room is occupied, the amount of carbon dioxide is higher, while 50% of data points have values in the range of about 620 up to slightly above 1000 ppm. Also the median values are completely different. When the room is empty, the amount of carbon dioxide is substantially lower, although plot indicates a lot of outliers."
   ]
  },
  {
   "cell_type": "markdown",
   "metadata": {
    "application/vnd.databricks.v1+cell": {
     "cellMetadata": {},
     "inputWidgets": {},
     "nuid": "cc9418bd-99a8-45c4-9ff1-de6b7f3bc997",
     "showTitle": false,
     "title": ""
    }
   },
   "source": [
    "### 3.2.3 Bar plot\n",
    "\n",
    "Bar plots are useful when we want to compare categorical data based on their values. Each category will be plotted on the x-axis and the height of the bars will represent the corresponding values. \n",
    "\n",
    "Let's create a simple DataFrame of students and theirs exam scores for illustration."
   ]
  },
  {
   "cell_type": "code",
   "execution_count": 0,
   "metadata": {
    "application/vnd.databricks.v1+cell": {
     "cellMetadata": {},
     "inputWidgets": {},
     "nuid": "45890195-bddf-43b6-af65-ffa06f9174df",
     "showTitle": false,
     "title": ""
    }
   },
   "outputs": [],
   "source": [
    "# Example data\n",
    "\n",
    "sample_data = pd.DataFrame({'Student': ['Thomas','Margaret','Lisa','John','Elis','Sally','Marc','Angela','Sebastian'],\n",
    "                            'Score': [78,50,68,83,99,98,65,90,85],\n",
    "                            'Class': ['A','B','B','B','A','A','A','B','A']})\n",
    "sample_data"
   ]
  },
  {
   "cell_type": "code",
   "execution_count": 0,
   "metadata": {
    "application/vnd.databricks.v1+cell": {
     "cellMetadata": {},
     "inputWidgets": {},
     "nuid": "84b0a106-27f6-4069-bdef-48c42a811770",
     "showTitle": false,
     "title": ""
    }
   },
   "outputs": [],
   "source": [
    "# A vertical barplot of students by their score\n",
    "\n",
    "sample_data.sort_values(by = 'Score', ascending = False).plot(x = 'Student', \n",
    "                                                              y = 'Score',\n",
    "                                                              kind = 'bar', \n",
    "                                                              rot = 45,\n",
    "                                                              color = ['mediumseagreen','lightgreen','sandybrown',\n",
    "                                                                      'lightcoral','wheat','lightsteelblue',\n",
    "                                                                      'slategrey','teal','black'],\n",
    "                                                              legend = False)\n",
    "plt.ylabel('Count');"
   ]
  },
  {
   "cell_type": "markdown",
   "metadata": {
    "application/vnd.databricks.v1+cell": {
     "cellMetadata": {},
     "inputWidgets": {},
     "nuid": "e3546ac3-74bb-43ef-b4a5-659d47c95940",
     "showTitle": false,
     "title": ""
    }
   },
   "source": [
    "For creating a bar plot, we sort the values by score in a descending fashion to display student's score. If your categories have longer labels, it's appropriate to set rotation `rot` in order to avoid overlapping. You can explicitly set color of each bar either through specifying the color names or the hexadecimal color codes to the `color` parameter.\n",
    "\n",
    "See this [link](https://seaborn.pydata.org/tutorial/color_palettes.html) from Seaborn where the general principles of using color in plots are described. \n",
    "___\n",
    "\n",
    "You can also choose one of the built-in colormaps provided by Matplotlib. Colormaps can be accessed through `plt.cm` (`cm` stands for colormap). After that, specify a chosen colormap by its name. A reversed version of each available colormap can be done by appending `_r`to a colormap's name. Using Numpy's `arange()` function we specify an interval of colors we want to select."
   ]
  },
  {
   "cell_type": "code",
   "execution_count": 0,
   "metadata": {
    "application/vnd.databricks.v1+cell": {
     "cellMetadata": {},
     "inputWidgets": {},
     "nuid": "b1334f72-b435-4d82-8e56-718bf0884305",
     "showTitle": false,
     "title": ""
    }
   },
   "outputs": [],
   "source": [
    "# TASK 3 >>> Reuse the code above and create a horizontal barplot (kind = 'barh') of students score\n",
    "#        >>> Set the colormaps with code: plt.cm.Set3_r(np.arange(len(sample_data)))\n",
    "#        >>> Disable a legend\n",
    "#        >>> Set x-axis label to 'Count'\n",
    "\n",
    "sample_data.sort_values(by = 'Score').plot(x = 'Student', \n",
    "                                           y = 'Score',\n",
    "                                           kind = 'barh', \n",
    "                                           color = plt.cm.Set3_r(np.arange(len(sample_data))),\n",
    "                                           legend = False)\n",
    "plt.xlabel('Count');"
   ]
  },
  {
   "cell_type": "markdown",
   "metadata": {
    "application/vnd.databricks.v1+cell": {
     "cellMetadata": {},
     "inputWidgets": {},
     "nuid": "52bf79b3-0792-42b5-88f2-5c33311ea95e",
     "showTitle": false,
     "title": ""
    }
   },
   "source": [
    "To visualize the count of students based which class they are in, we count the number of occurences and plot it."
   ]
  },
  {
   "cell_type": "code",
   "execution_count": 0,
   "metadata": {
    "application/vnd.databricks.v1+cell": {
     "cellMetadata": {},
     "inputWidgets": {},
     "nuid": "af387dea-fb2a-4348-93f5-56bffef5ec17",
     "showTitle": false,
     "title": ""
    }
   },
   "outputs": [],
   "source": [
    "sample_data.Class.value_counts().plot(kind = 'bar', rot = 0)\n",
    "plt.xlabel('Class')\n",
    "plt.ylabel('Count');"
   ]
  },
  {
   "cell_type": "markdown",
   "metadata": {
    "application/vnd.databricks.v1+cell": {
     "cellMetadata": {},
     "inputWidgets": {},
     "nuid": "d764a353-4696-4457-974f-7b02e9ed9190",
     "showTitle": false,
     "title": ""
    }
   },
   "source": [
    "# 4. Practice time\n",
    "\n",
    "For the further visualizations we'll use data related to habits of individuals in terms of eating habits, transportation and devices they use and attributes of physical condition. This dataset can be found [here](https://archive.ics.uci.edu/ml/datasets/Estimation+of+obesity+levels+based+on+eating+habits+and+physical+condition+#)."
   ]
  },
  {
   "cell_type": "code",
   "execution_count": 0,
   "metadata": {
    "application/vnd.databricks.v1+cell": {
     "cellMetadata": {},
     "inputWidgets": {},
     "nuid": "cf2e4179-2193-45f5-b1da-b9df1bf4de86",
     "showTitle": false,
     "title": ""
    }
   },
   "outputs": [],
   "source": [
    "# Read the data\n",
    "data_ob = pd.read_csv('../Data/obesity_data.csv')"
   ]
  },
  {
   "cell_type": "code",
   "execution_count": 0,
   "metadata": {
    "application/vnd.databricks.v1+cell": {
     "cellMetadata": {},
     "inputWidgets": {},
     "nuid": "0dcfc334-5b31-4ea3-87d0-4cdb896b9720",
     "showTitle": false,
     "title": ""
    }
   },
   "outputs": [],
   "source": [
    "# Take a look at the data\n",
    "data_ob"
   ]
  },
  {
   "cell_type": "markdown",
   "metadata": {
    "application/vnd.databricks.v1+cell": {
     "cellMetadata": {},
     "inputWidgets": {},
     "nuid": "9b767080-5f67-4e3e-8253-3c3309451ad9",
     "showTitle": false,
     "title": ""
    }
   },
   "source": [
    "## 4.1 Attributes explanation\n",
    "\n",
    "The first 5 features contain some basic information about individuals along with the information about the presence of overweightedness in a family.\n",
    "\n",
    "- Gender: the gender\n",
    "- Age: the age\n",
    "- Height: the height \n",
    "- Weight: the weight \n",
    "- family_history_with_overweight: family member who is/was overweight\n",
    "\n",
    "Columns related to eating habits:\n",
    "\n",
    "- FAVC: whether an individual consumes high caloric food frequently\n",
    "- FCVC: how frequently vegetables are used in main meals\n",
    "- NCP: the number of main meals per day\n",
    "- CAEC: consuming any food between main meals\n",
    "- SMOKE: smoking\n",
    "- CH2O: consumption of water per day\n",
    "\n",
    "Columns related to physical condition:\n",
    "- SCC: caloriy intake tracking\n",
    "- FAF: physical activity frequency\n",
    "- TUE: usage of technological devices per day\n",
    "- CALC: alcohol consumption\n",
    "- MTRANS: type of transportation\n",
    "\n",
    "The last feature 'NObeyesdad' was created using the equation for the BMI (Body Mass Index) for each individual. Resulting values were compared with the data provided by the WHO (World Health Organization) and the Mexican Normativity. \n",
    "\n",
    "Resulting labels:\n",
    "\n",
    "-Underweight (< 18.5)   \n",
    "-Normal (18.5 - 24.9)   \n",
    "-Overweight (25 - 29.9)  \n",
    "-Obesity I (30 - 34.9)  \n",
    "-Obesity II (35 - 39)  \n",
    "-Obesity III (> 40)"
   ]
  },
  {
   "cell_type": "markdown",
   "metadata": {
    "application/vnd.databricks.v1+cell": {
     "cellMetadata": {},
     "inputWidgets": {},
     "nuid": "cd78d73f-7e36-44be-adb5-3f992580a8e0",
     "showTitle": false,
     "title": ""
    }
   },
   "source": [
    "### 4.1.1 Exploring the data"
   ]
  },
  {
   "cell_type": "code",
   "execution_count": 0,
   "metadata": {
    "application/vnd.databricks.v1+cell": {
     "cellMetadata": {},
     "inputWidgets": {},
     "nuid": "a6816cdb-42f1-4135-bec7-584967a50984",
     "showTitle": false,
     "title": ""
    }
   },
   "outputs": [],
   "source": [
    "# Check the column's data type\n",
    "data_ob.dtypes"
   ]
  },
  {
   "cell_type": "code",
   "execution_count": 0,
   "metadata": {
    "application/vnd.databricks.v1+cell": {
     "cellMetadata": {},
     "inputWidgets": {},
     "nuid": "00359934-ea55-46ff-a815-bd1b74319ca2",
     "showTitle": false,
     "title": ""
    }
   },
   "outputs": [],
   "source": [
    "# Explore descriptive statistics\n",
    "data_ob.describe()"
   ]
  },
  {
   "cell_type": "code",
   "execution_count": 0,
   "metadata": {
    "application/vnd.databricks.v1+cell": {
     "cellMetadata": {},
     "inputWidgets": {},
     "nuid": "087e7917-f5b1-4d68-ad34-1e740b65c2e2",
     "showTitle": false,
     "title": ""
    }
   },
   "outputs": [],
   "source": [
    "# Check missing values\n",
    "data_ob.isnull().sum()"
   ]
  },
  {
   "cell_type": "code",
   "execution_count": 0,
   "metadata": {
    "application/vnd.databricks.v1+cell": {
     "cellMetadata": {},
     "inputWidgets": {},
     "nuid": "1ed4436e-1398-4040-9894-b9a28344851c",
     "showTitle": false,
     "title": ""
    }
   },
   "outputs": [],
   "source": [
    "# Count the number of duplicated rows\n",
    "data_ob.duplicated().sum()"
   ]
  },
  {
   "cell_type": "code",
   "execution_count": 0,
   "metadata": {
    "application/vnd.databricks.v1+cell": {
     "cellMetadata": {},
     "inputWidgets": {},
     "nuid": "8e50c128-b31f-41fd-b46a-8a40060711a5",
     "showTitle": false,
     "title": ""
    }
   },
   "outputs": [],
   "source": [
    "# Remove duplicated rows\n",
    "data_ob.drop_duplicates(inplace = True)"
   ]
  },
  {
   "cell_type": "code",
   "execution_count": 0,
   "metadata": {
    "application/vnd.databricks.v1+cell": {
     "cellMetadata": {},
     "inputWidgets": {},
     "nuid": "2ed63a1c-6cfa-4c05-aadc-eea90279d87b",
     "showTitle": false,
     "title": ""
    }
   },
   "outputs": [],
   "source": [
    "# TASK 4 >>> Create a boxplot of the 'Age' feature\n",
    "#        >>> Set the size of the plot to (10,8)\n",
    "\n",
    "data_ob.boxplot(column = 'Age',\n",
    "                figsize = (10,8));"
   ]
  },
  {
   "cell_type": "markdown",
   "metadata": {
    "application/vnd.databricks.v1+cell": {
     "cellMetadata": {},
     "inputWidgets": {},
     "nuid": "ba038865-6f4b-4e69-b057-11aa2a2d6cca",
     "showTitle": false,
     "title": ""
    }
   },
   "source": [
    "> What can you say about the distribution of ages? How old is the majority of people ? Is the distribution symmetrical or are there people who are older compared to the majority?"
   ]
  },
  {
   "cell_type": "code",
   "execution_count": 0,
   "metadata": {
    "application/vnd.databricks.v1+cell": {
     "cellMetadata": {},
     "inputWidgets": {},
     "nuid": "eb0366f6-bba0-4bbd-b3e0-3602b8ce071e",
     "showTitle": false,
     "title": ""
    }
   },
   "outputs": [],
   "source": [
    "# TASK 5 >>> Visualize the distribution of the 'Weight' feature using a histogram\n",
    "#        >>> Disable the grid lines\n",
    "#        >>> Set different numbers of bins\n",
    "\n",
    "data_ob.Weight.hist(bins = 15, \n",
    "                    grid = False);"
   ]
  },
  {
   "cell_type": "markdown",
   "metadata": {
    "application/vnd.databricks.v1+cell": {
     "cellMetadata": {},
     "inputWidgets": {},
     "nuid": "0188c969-a670-4179-8e6a-c98fd22d7f0c",
     "showTitle": false,
     "title": ""
    }
   },
   "source": [
    "> Based on the histogram, what is the most common weight? Does this distribution look symmetrical, or rather bimodal? Could a different number of bins reflect the data better?"
   ]
  },
  {
   "cell_type": "code",
   "execution_count": 0,
   "metadata": {
    "application/vnd.databricks.v1+cell": {
     "cellMetadata": {},
     "inputWidgets": {},
     "nuid": "28f79176-9c1f-4fbe-9dd0-2c016cc367a7",
     "showTitle": false,
     "title": ""
    }
   },
   "outputs": [],
   "source": [
    "# TASK 6 >>> Create a normalized barplot of 'Gender' \n",
    "#        >>> Specify the parameter normalize = True to get percentages instead of counts\n",
    "#        >>> Assign different colors to male and female (male to 'salmon', female to 'skyblue')\n",
    "#        >>> Add title: 'Proportion of gender'\n",
    "#                x-axis label: 'Gender' \n",
    "#                y-axis label: 'The percentage'\n",
    "\n",
    "data_ob.Gender.value_counts(normalize = True).plot(kind = 'bar', \n",
    "                                                   color = ['salmon','skyblue'], \n",
    "                                                   title = 'Proportion of gender')\n",
    "plt.xlabel('Gender')\n",
    "plt.ylabel('The percentage');"
   ]
  },
  {
   "cell_type": "code",
   "execution_count": 0,
   "metadata": {
    "application/vnd.databricks.v1+cell": {
     "cellMetadata": {},
     "inputWidgets": {},
     "nuid": "9991fb0b-a824-4e2e-b45b-281f4126f9a7",
     "showTitle": false,
     "title": ""
    }
   },
   "outputs": [],
   "source": [
    "# TASK 7 >>> Create boxplots of 'Age' split by gender\n",
    "\n",
    "data_ob.boxplot(column = 'Age', \n",
    "                by = 'Gender');"
   ]
  },
  {
   "cell_type": "markdown",
   "metadata": {
    "application/vnd.databricks.v1+cell": {
     "cellMetadata": {},
     "inputWidgets": {},
     "nuid": "0728b117-358b-449f-94e4-89e3d7600381",
     "showTitle": false,
     "title": ""
    }
   },
   "source": [
    "> Compare the ranges of values for male and female: Is the distribution similar or is there some difference? Do you see any outliers?"
   ]
  },
  {
   "cell_type": "code",
   "execution_count": 0,
   "metadata": {
    "application/vnd.databricks.v1+cell": {
     "cellMetadata": {},
     "inputWidgets": {},
     "nuid": "5117789a-90e8-4e8e-9e1e-2884e3107300",
     "showTitle": false,
     "title": ""
    }
   },
   "outputs": [],
   "source": [
    "# TASK 8 >>> Find out how many people frequently eat high caloric meals ('FAVC')\n",
    "#        >>> Set rotation of x-ticks to 0 degrees\n",
    "\n",
    "data_ob.FAVC.value_counts().plot(kind = 'bar', \n",
    "                                 rot = 0);"
   ]
  },
  {
   "cell_type": "markdown",
   "metadata": {
    "application/vnd.databricks.v1+cell": {
     "cellMetadata": {},
     "inputWidgets": {},
     "nuid": "be283ecd-1bdd-46c2-8a28-ec7d5c13c8f0",
     "showTitle": false,
     "title": ""
    }
   },
   "source": [
    "The question we might ask regarding obesity levels could be: 'Which individuals are more likely to be obese based on their age?' or 'Are younger adults overweight?'.\n",
    "\n",
    "Firstly, let's look how many levels are there. We call the `.value_counts()` method on the 'Nobeyesdad' column and sort categories based on the obesity level."
   ]
  },
  {
   "cell_type": "code",
   "execution_count": 0,
   "metadata": {
    "application/vnd.databricks.v1+cell": {
     "cellMetadata": {},
     "inputWidgets": {},
     "nuid": "1af7cded-7217-4809-8f17-a2da56b99a26",
     "showTitle": false,
     "title": ""
    }
   },
   "outputs": [],
   "source": [
    "# Counting values of the obesity levels\n",
    "data_ob.NObeyesdad.value_counts()"
   ]
  },
  {
   "cell_type": "markdown",
   "metadata": {
    "application/vnd.databricks.v1+cell": {
     "cellMetadata": {},
     "inputWidgets": {},
     "nuid": "acb26a29-8a6e-4010-87d0-56c150760068",
     "showTitle": false,
     "title": ""
    }
   },
   "source": [
    "Firstly, we define the order of obesity levels in a list and assign it to the variable `obesity_levels`."
   ]
  },
  {
   "cell_type": "code",
   "execution_count": 0,
   "metadata": {
    "application/vnd.databricks.v1+cell": {
     "cellMetadata": {},
     "inputWidgets": {},
     "nuid": "3b0ab258-bcc9-44bf-bc57-a729f2f0ded1",
     "showTitle": false,
     "title": ""
    }
   },
   "outputs": [],
   "source": [
    "# Ordered categories\n",
    "obesity_levels = ['Insufficient_Weight','Normal_Weight', 'Overweight_Level_I', 'Overweight_Level_II',\n",
    "                  'Obesity_Type_I', 'Obesity_Type_II', 'Obesity_Type_III']"
   ]
  },
  {
   "cell_type": "markdown",
   "metadata": {
    "application/vnd.databricks.v1+cell": {
     "cellMetadata": {},
     "inputWidgets": {},
     "nuid": "1c945982-785a-41a8-8efb-9709a22e28db",
     "showTitle": false,
     "title": ""
    }
   },
   "source": [
    "Then we create a CategoricalDtype `ob_levels` where we specify categories and orderness."
   ]
  },
  {
   "cell_type": "code",
   "execution_count": 0,
   "metadata": {
    "application/vnd.databricks.v1+cell": {
     "cellMetadata": {},
     "inputWidgets": {},
     "nuid": "ba6b211a-faaa-4d17-a338-38dbf0a2557f",
     "showTitle": false,
     "title": ""
    }
   },
   "outputs": [],
   "source": [
    "# Creating CategoricalDtype \n",
    "ob_level = pd.api.types.CategoricalDtype(ordered = True, categories = obesity_levels)"
   ]
  },
  {
   "cell_type": "markdown",
   "metadata": {
    "application/vnd.databricks.v1+cell": {
     "cellMetadata": {},
     "inputWidgets": {},
     "nuid": "c6289f69-2283-4ed7-8c28-1ad6948bc714",
     "showTitle": false,
     "title": ""
    }
   },
   "source": [
    "The last step is to convert the original data type of the 'NObeyesdad' feature to CategoricalDtype."
   ]
  },
  {
   "cell_type": "code",
   "execution_count": 0,
   "metadata": {
    "application/vnd.databricks.v1+cell": {
     "cellMetadata": {},
     "inputWidgets": {},
     "nuid": "3fc65bd4-ba1e-4987-a20b-478153e11d20",
     "showTitle": false,
     "title": ""
    }
   },
   "outputs": [],
   "source": [
    "# Converting 'NObeyesdad' to created categoricalDtype\n",
    "data_ob.NObeyesdad = data_ob.NObeyesdad.astype(ob_level)"
   ]
  },
  {
   "cell_type": "markdown",
   "metadata": {
    "application/vnd.databricks.v1+cell": {
     "cellMetadata": {},
     "inputWidgets": {},
     "nuid": "1204103b-035e-4fd1-a84b-34a7aaaaa010",
     "showTitle": false,
     "title": ""
    }
   },
   "source": [
    "We can plot obesity levels to see how these vary according to the age of individuals. To avoid overlapping label names of these categories, you can set the rotation of labels to 45 degrees with the `rot` parameter. Also, disabling grid lines can help visualization to be more comprehensible."
   ]
  },
  {
   "cell_type": "code",
   "execution_count": 0,
   "metadata": {
    "application/vnd.databricks.v1+cell": {
     "cellMetadata": {},
     "inputWidgets": {},
     "nuid": "d0d6d092-a7fa-4627-a05e-e93ef122b34e",
     "showTitle": false,
     "title": ""
    }
   },
   "outputs": [],
   "source": [
    "# TASK 9 >>> Create a boxplot of the column 'Age' grouped by 'NObeyesdad'\n",
    "#        >>> Set the figure size to (10,8)\n",
    "#        >>> Set the labels on x-axis to 45 using the rot parameter\n",
    "#        >>> Disable the grid lines\n",
    "\n",
    "data_ob.boxplot(figsize = (10,8),\n",
    "                column = 'Age', \n",
    "                by = 'NObeyesdad',\n",
    "                rot = 45, \n",
    "                grid = False);"
   ]
  },
  {
   "cell_type": "markdown",
   "metadata": {
    "application/vnd.databricks.v1+cell": {
     "cellMetadata": {},
     "inputWidgets": {},
     "nuid": "c82eb139-74cc-4987-9bb3-3f660e22cf4f",
     "showTitle": false,
     "title": ""
    }
   },
   "source": [
    "> Looking at the created plot, can you see some pattern? At what ages do people tend to suffer from some kind of obesity level?"
   ]
  },
  {
   "cell_type": "code",
   "execution_count": 0,
   "metadata": {
    "application/vnd.databricks.v1+cell": {
     "cellMetadata": {},
     "inputWidgets": {},
     "nuid": "fc987859-9342-456a-be06-ee36c08704a1",
     "showTitle": false,
     "title": ""
    }
   },
   "outputs": [],
   "source": [
    "# TASK 10 >>> Create a bar plot of 'the MTRANS' feature to find out how many people use a certain kind of transportation\n",
    "#         >>> Set the labels on the x-axis to 45 using rot parameter\n",
    "#         >>> Set the color to 'skyblue'\n",
    "#         >>> What is the most popular kind of transportation? \n",
    "\n",
    "data_ob.MTRANS.value_counts().plot(kind='bar', \n",
    "                                   rot = 45, \n",
    "                                   color = 'skyblue');"
   ]
  },
  {
   "cell_type": "markdown",
   "metadata": {
    "application/vnd.databricks.v1+cell": {
     "cellMetadata": {},
     "inputWidgets": {},
     "nuid": "cd62a74f-fdb8-4692-ac43-49f79b87ffce",
     "showTitle": false,
     "title": ""
    }
   },
   "source": [
    "Let's filter only those individuals who use an automobile for transportation or who walk. Then we will look at their weight."
   ]
  },
  {
   "cell_type": "code",
   "execution_count": 0,
   "metadata": {
    "application/vnd.databricks.v1+cell": {
     "cellMetadata": {},
     "inputWidgets": {},
     "nuid": "6537ce71-be72-4ba7-a4b0-8eab1eead02b",
     "showTitle": false,
     "title": ""
    }
   },
   "outputs": [],
   "source": [
    "# Filter only those rows where transportation kind is 'Automobile' and 'Walking'\n",
    "# DataFrame.query will be explained more in a later notebook, so don't worry about it now\n",
    "subset_transport = data_ob.query('MTRANS in [\"Automobile\",\"Walking\"]')"
   ]
  },
  {
   "cell_type": "code",
   "execution_count": 0,
   "metadata": {
    "application/vnd.databricks.v1+cell": {
     "cellMetadata": {},
     "inputWidgets": {},
     "nuid": "c09a0ee0-cfb8-41c5-849a-09ba0c5b1267",
     "showTitle": false,
     "title": ""
    }
   },
   "outputs": [],
   "source": [
    "# TASK 11 >>> Create a boxplot of the newly created subset_transport DataFrame\n",
    "#         >>> Set the figure size to (10,8)\n",
    "#         >>> Set 'Weight' as the column parameter and 'MTRANS' as the by parameter\n",
    "#         >>> Set the labels on the x-axis to 45 using the rot parameter\n",
    "#         >>> Disable the grid lines\n",
    "\n",
    "subset_transport.boxplot(figsize = (10,8),\n",
    "                         column = 'Weight', \n",
    "                         by = 'MTRANS',\n",
    "                         rot = 45, \n",
    "                         grid = False);"
   ]
  },
  {
   "cell_type": "markdown",
   "metadata": {
    "application/vnd.databricks.v1+cell": {
     "cellMetadata": {},
     "inputWidgets": {},
     "nuid": "cf1d8c1d-0b49-4a67-80cf-b3c14202b42c",
     "showTitle": false,
     "title": ""
    }
   },
   "source": [
    "> What can you say about the distribution of these two groups of people? Which group has a lower weight overall? Looking at the boxplots, I think this is a motivation for all of us to consider the type of transportation next time we need to go somewhere :)"
   ]
  },
  {
   "cell_type": "markdown",
   "metadata": {
    "application/vnd.databricks.v1+cell": {
     "cellMetadata": {},
     "inputWidgets": {},
     "nuid": "8fe345fe-7cff-4645-a94a-b33ce1ae6668",
     "showTitle": false,
     "title": ""
    }
   },
   "source": [
    "### Citation request:\n",
    "Accurate occupancy detection of an office room from light, temperature, humidity and CO2 measurements using statistical learning models. Luis M. Candanedo, Véronique Feldheim. Energy and Buildings. Volume 112, 15 January 2016, Pages 28-39.\n",
    "\n",
    "Palechor, F. M., & de la Hoz Manotas, A. (2019). Dataset for estimation of obesity levels based on eating habits and physical condition in individuals from Colombia, Peru and Mexico. Data in Brief, 104344.\n",
    "\n",
    "Material adapted for RBI internal purposes with full permissions from original authors. [Source](https://github.com/zatkopatrik/authentic-data-science)"
   ]
  }
 ],
 "metadata": {
  "application/vnd.databricks.v1+notebook": {
   "dashboards": [],
   "language": "python",
   "notebookMetadata": {},
   "notebookName": "1_Visualization_with_Pandas_answers",
   "notebookOrigID": 706562957542566,
   "widgets": {}
  }
 },
 "nbformat": 4,
 "nbformat_minor": 0
}
