{
 "cells": [
  {
   "cell_type": "markdown",
   "metadata": {
    "application/vnd.databricks.v1+cell": {
     "cellMetadata": {},
     "inputWidgets": {},
     "nuid": "7c0a85a4-19c7-49b5-968e-0d38396dcb90",
     "showTitle": false,
     "title": ""
    }
   },
   "source": [
    "# Task #1 - A Quick introduction to visualization for Data Exploration in Python "
   ]
  },
  {
   "cell_type": "markdown",
   "metadata": {
    "application/vnd.databricks.v1+cell": {
     "cellMetadata": {},
     "inputWidgets": {},
     "nuid": "fe53fced-8826-47fd-b654-ce02ee4e6394",
     "showTitle": false,
     "title": ""
    }
   },
   "source": [
    "In Data-Science, it is important to know-your-data.\n",
    "\n",
    "The **first step** that you should **always** do is to **look at your data**."
   ]
  },
  {
   "cell_type": "markdown",
   "metadata": {
    "application/vnd.databricks.v1+cell": {
     "cellMetadata": {},
     "inputWidgets": {},
     "nuid": "fb130527-c378-4525-a789-c6d16db34f41",
     "showTitle": false,
     "title": ""
    }
   },
   "source": [
    "#### Group Work\n",
    "Programming in a group?! How is it done? \n",
    "\n",
    "Data-Science is a collaborative task. As such, there are many options. For example:\n",
    "- One of you would share her/his screen and in a 2-minutes rotation, each dictates what to code. After 2 minutes, the next one must continue where the previous stopped.\n",
    "- One is sharing the screen, and you all discuss together how to approach the task.\n",
    "- Each codes their own solution, but after every step and sub-task, you compare your approaches and results.\n",
    "- Or... come up with the method that fits you best! \n",
    "\n",
    "Remember that we are here to learn from each other."
   ]
  },
  {
   "cell_type": "markdown",
   "metadata": {
    "application/vnd.databricks.v1+cell": {
     "cellMetadata": {},
     "inputWidgets": {},
     "nuid": "63ee73ab-2951-467b-8e12-5c5678664763",
     "showTitle": false,
     "title": ""
    }
   },
   "source": [
    "#### First look at the data\n",
    "We can look at the data by calculating its statistics, examining and comparing different samples in random, and of course - by visualizing the data.  \n",
    "Data Visualization can reveal patterns that wouldn't be discovered otherwise."
   ]
  },
  {
   "cell_type": "code",
   "execution_count": 0,
   "metadata": {
    "application/vnd.databricks.v1+cell": {
     "cellMetadata": {},
     "inputWidgets": {},
     "nuid": "8ccb4381-ade7-4c54-a9a4-49bd2d674865",
     "showTitle": false,
     "title": ""
    }
   },
   "outputs": [],
   "source": [
    "# installing pandas, matplotlib and seaborn - if you don't have them already\n",
    "%pip install pandas matplotlib seaborn -q"
   ]
  },
  {
   "cell_type": "code",
   "execution_count": 0,
   "metadata": {
    "application/vnd.databricks.v1+cell": {
     "cellMetadata": {
      "byteLimit": 2048000,
      "rowLimit": 10000
     },
     "inputWidgets": {},
     "nuid": "fb35a7e0-135d-4032-a08b-9e0aedce5f69",
     "showTitle": false,
     "title": ""
    }
   },
   "outputs": [],
   "source": [
    "# Import the necessary libraries\n",
    "\n",
    "import pandas as pd\n",
    "import numpy as np\n",
    "import matplotlib.pyplot as plt\n",
    "import seaborn as sns\n"
   ]
  },
  {
   "cell_type": "markdown",
   "metadata": {
    "application/vnd.databricks.v1+cell": {
     "cellMetadata": {},
     "inputWidgets": {},
     "nuid": "d87d98fc-d9f9-4ada-9815-02800cb14f1d",
     "showTitle": false,
     "title": ""
    }
   },
   "source": [
    "We load here a dataset - `room_occupancy` - into the variable `df_room_occupancy`, which contains for every point in time different properties that were measured in a room, together with a target variable - `Occupancy` - that determines if someone was in the room."
   ]
  },
  {
   "cell_type": "code",
   "execution_count": 0,
   "metadata": {
    "application/vnd.databricks.v1+cell": {
     "cellMetadata": {
      "byteLimit": 2048000,
      "rowLimit": 10000
     },
     "inputWidgets": {},
     "nuid": "9cc0aebe-3c82-4bb5-ae26-a5558f74961a",
     "showTitle": false,
     "title": ""
    }
   },
   "outputs": [],
   "source": [
    "df_room_occupancy = pd.read_csv('../../Data/room_occupancy.csv')\n",
    "\n",
    "# show the columns and their types\n",
    "df_room_occupancy.dtypes"
   ]
  },
  {
   "cell_type": "markdown",
   "metadata": {
    "application/vnd.databricks.v1+cell": {
     "cellMetadata": {},
     "inputWidgets": {},
     "nuid": "5da1afb7-0639-4506-8ee2-b6f45d53ec1b",
     "showTitle": false,
     "title": ""
    }
   },
   "source": [
    "Here is a short explanation of the dataset variables:\n",
    "\n",
    "- ``date``: the specific day and time when the values were recorded \n",
    "- ``Temperature``: measured in Celsius\n",
    "- ``Humidity``: relative humidity - a present state of absolute humidity relative to a\n",
    "maximum humidity given the same temperature expressed as a percentage\n",
    "- ``Light``: measured in Lux\n",
    "- ``CO2``: in ppm (parts per million)\n",
    "- ``HumidityRatio``: derived quantity from temperature and relative humidity, expressed in kilograms of water vapor per kilogram of dry air  \n",
    "- ``Occupancy``: the presence of a person in the room. \n",
    "The occupancy of the room was obtained from pictures that were taken every minute for a period of 8 days (1 if a person is present, 0 otherwise)"
   ]
  },
  {
   "cell_type": "code",
   "execution_count": 0,
   "metadata": {
    "application/vnd.databricks.v1+cell": {
     "cellMetadata": {},
     "inputWidgets": {},
     "nuid": "fa0833ea-6e3f-4537-a747-4c6e3f0c2721",
     "showTitle": false,
     "title": ""
    }
   },
   "outputs": [],
   "source": [
    "########## YOUR TURN ##########\n",
    "# Explore the dataset:\n",
    "# - Take a look at the first few rows of the dataset\n",
    "# - Display the summary statistics of the dataset\n",
    "# - Perform other exploratory tasks (checking for missing values, duplicates, etc.)\n",
    "\n",
    "\n",
    "\n",
    "\n",
    "\n",
    "\n",
    "\n",
    "\n",
    "\n",
    "\n",
    "\n",
    "################################"
   ]
  },
  {
   "cell_type": "markdown",
   "metadata": {
    "application/vnd.databricks.v1+cell": {
     "cellMetadata": {},
     "inputWidgets": {},
     "nuid": "ecc00b4d-1196-454b-a10f-9059bee81343",
     "showTitle": false,
     "title": ""
    }
   },
   "source": [
    "#### Visualizations and Plots in Pandas"
   ]
  },
  {
   "cell_type": "markdown",
   "metadata": {
    "application/vnd.databricks.v1+cell": {
     "cellMetadata": {},
     "inputWidgets": {},
     "nuid": "edf9b714-a154-40cf-84f7-92d3ac016466",
     "showTitle": false,
     "title": ""
    }
   },
   "source": [
    "[Pandas](https://pandas.pydata.org/pandas-docs/stable/reference/api/pandas.DataFrame.plot.html) offers several basic plots.  \n",
    "\n",
    "While there are several ways to invoke these plots with pandas, we recommend using one the *`<object>`*`.`**`plot`**`.`*`<plot_type>`* method:  \n",
    "  - [`DataFrame.plot.line`](https://pandas.pydata.org/pandas-docs/stable/reference/api/pandas.DataFrame.plot.line.html)\n",
    "  - [`DataFrame.plot.hist`](https://pandas.pydata.org/pandas-docs/stable/reference/api/pandas.DataFrame.plot.hist.html)\n",
    "  - [`DataFrame.plot.box`](https://pandas.pydata.org/pandas-docs/stable/reference/api/pandas.DataFrame.plot.box.html)\n",
    "  - [`DataFrame.plot.bar`](https://pandas.pydata.org/pandas-docs/stable/reference/api/pandas.DataFrame.plot.bar.html)\n",
    "  - [`DataFrame.plot.barh`](https://pandas.pydata.org/pandas-docs/stable/reference/api/pandas.DataFrame.plot.barh.html)\n",
    "  - [`DataFrame.plot.scatter`](https://pandas.pydata.org/pandas-docs/stable/reference/api/pandas.DataFrame.plot.scatter.html)\n",
    "  - [`DataFrame.plot.pie`](https://pandas.pydata.org/pandas-docs/stable/reference/api/pandas.DataFrame.plot.pie.html)\n",
    "  - [`DataFrame.plot.kde`](https://pandas.pydata.org/pandas-docs/stable/reference/api/pandas.DataFrame.plot.kde.ht)\n",
    "  - [`DataFrame.plot.density`](https://pandas.pydata.org/pandas-docs/stable/reference/api/pandas.DataFrame.plot.density.html)\n",
    "  - [`DataFrame.plot.area`](https://pandas.pydata.org/pandas-docs/stable/reference/api/pandas.DataFrame.plot.area.html)\n",
    "  - [`DataFrame.plot.hexbin`](https://pandas.pydata.org/pandas-docs/stable/reference/api/pandas.DataFrame.plot.hexbin.html)\n",
    "\n",
    "Additionally, to create a histogram (`hist`) or a boxplot (`box`) there are two more plotting functions, directly from the dataframe itself, without the `.plot.*` prefix: \n",
    "- [`DataFrame.hist()`](https://pandas.pydata.org/pandas-docs/stable/reference/api/pandas.DataFrame.hist.html) and  \n",
    "- [`DataFrame.boxplot()`](https://pandas.pydata.org/pandas-docs/stable/reference/api/pandas.DataFrame.boxplot.html)\n",
    "\n",
    "Lastly, `scatter_matrix` creates a matrix of scatter plot and a histogram/kde to quickly explore the dataset:\n",
    "\n",
    "```python\n",
    "from pandas.plotting import scatter_matrix\n",
    "scatter_matrix(df_room_occupancy, alpha=0.2, figsize=(6, 6), diagonal=\"hist\");\n",
    "```\n",
    "\n",
    "Let's see them all in action:"
   ]
  },
  {
   "cell_type": "markdown",
   "metadata": {
    "application/vnd.databricks.v1+cell": {
     "cellMetadata": {},
     "inputWidgets": {},
     "nuid": "d5059d2b-6d6e-47c6-be30-4be319b413d7",
     "showTitle": false,
     "title": ""
    }
   },
   "source": [
    "#####  *`<object>`*`.`**`plot`**`.`*`<plot_type>`*"
   ]
  },
  {
   "cell_type": "code",
   "execution_count": 0,
   "metadata": {
    "application/vnd.databricks.v1+cell": {
     "cellMetadata": {},
     "inputWidgets": {},
     "nuid": "ccefea81-da6f-4fa6-ab51-fe9965a5a957",
     "showTitle": false,
     "title": ""
    }
   },
   "outputs": [],
   "source": [
    "# Directly plot the histogram of the dataframe level, for all the fields in one plot:\n",
    "df_room_occupancy.plot.hist();"
   ]
  },
  {
   "cell_type": "markdown",
   "metadata": {
    "application/vnd.databricks.v1+cell": {
     "cellMetadata": {},
     "inputWidgets": {},
     "nuid": "c25cd7ef-57f1-46e2-a0d0-be1c690f472f",
     "showTitle": false,
     "title": ""
    }
   },
   "source": [
    "This method of *`<object>`*.`plot.`*`<plot_type>`* can operate either on the whole data framework object, or on a single column (also called a data **series**):"
   ]
  },
  {
   "cell_type": "code",
   "execution_count": 0,
   "metadata": {
    "application/vnd.databricks.v1+cell": {
     "cellMetadata": {},
     "inputWidgets": {},
     "nuid": "344a8e42-ca23-4b1a-bf5b-4bed624186ab",
     "showTitle": false,
     "title": ""
    }
   },
   "outputs": [],
   "source": [
    "# Directly plot the histogram of a specific column:\n",
    "df_room_occupancy[\"CO2\"].plot.hist();"
   ]
  },
  {
   "cell_type": "markdown",
   "metadata": {
    "application/vnd.databricks.v1+cell": {
     "cellMetadata": {},
     "inputWidgets": {},
     "nuid": "73c5c78a-070b-43b4-aefa-dc48e8570035",
     "showTitle": false,
     "title": ""
    }
   },
   "source": [
    "##### DataFrame.hist()"
   ]
  },
  {
   "cell_type": "code",
   "execution_count": 0,
   "metadata": {
    "application/vnd.databricks.v1+cell": {
     "cellMetadata": {},
     "inputWidgets": {},
     "nuid": "051eda2a-5d02-4b55-88a3-78554976481c",
     "showTitle": false,
     "title": ""
    }
   },
   "outputs": [],
   "source": [
    "# When plotting directly the data frame (without .plot.hist()), it will plot all each columns in a separate plot:\n",
    "df_room_occupancy.hist();"
   ]
  },
  {
   "cell_type": "code",
   "execution_count": 0,
   "metadata": {
    "application/vnd.databricks.v1+cell": {
     "cellMetadata": {},
     "inputWidgets": {},
     "nuid": "cc0f3a6d-d295-4620-bdba-d63e180d9837",
     "showTitle": false,
     "title": ""
    }
   },
   "outputs": [],
   "source": [
    "field = \"Temperature\"\n",
    "df_room_occupancy[field].plot.hist();"
   ]
  },
  {
   "cell_type": "code",
   "execution_count": 0,
   "metadata": {
    "application/vnd.databricks.v1+cell": {
     "cellMetadata": {},
     "inputWidgets": {},
     "nuid": "178675d3-8768-4eb1-9daf-2923f8695cfc",
     "showTitle": false,
     "title": ""
    }
   },
   "outputs": [],
   "source": [
    "# Jupyter tip: you can use the double question mark to see the source code of a function, and learn about its parameters\n",
    "df_room_occupancy.plot.hist??"
   ]
  },
  {
   "cell_type": "code",
   "execution_count": 0,
   "metadata": {
    "application/vnd.databricks.v1+cell": {
     "cellMetadata": {},
     "inputWidgets": {},
     "nuid": "5b92681a-598e-4850-8a0d-45b5c72911ae",
     "showTitle": false,
     "title": ""
    }
   },
   "outputs": [],
   "source": [
    "########## YOUR TURN ##########\n",
    "# Plot the histogram of the \"Light\" column in the dataset, using 50 bins, and a figure size of 10x10\n",
    "# Bonus for advanced: plot the histogram of the \"Light\" column, grouped by the \"Occupancy\" column\n",
    "\n",
    "\n",
    "\n",
    "################################"
   ]
  },
  {
   "cell_type": "markdown",
   "metadata": {
    "application/vnd.databricks.v1+cell": {
     "cellMetadata": {},
     "inputWidgets": {},
     "nuid": "ce73bc47-766c-4a9e-9107-d03353a5f2a1",
     "showTitle": false,
     "title": ""
    }
   },
   "source": [
    "The [Scatter Matrix](https://pandas.pydata.org/pandas-docs/stable/reference/api/pandas.plotting.scatter_matrix.html) allows us to have a quick view of the numerical values dataset:"
   ]
  },
  {
   "cell_type": "code",
   "execution_count": 0,
   "metadata": {
    "application/vnd.databricks.v1+cell": {
     "cellMetadata": {},
     "inputWidgets": {},
     "nuid": "32c2a5d2-2cc1-42b0-9534-c2fd3a946397",
     "showTitle": false,
     "title": ""
    }
   },
   "outputs": [],
   "source": [
    "from pandas.plotting import scatter_matrix\n",
    "\n",
    "scatter_matrix(\n",
    "    df_room_occupancy,                                      # The dataframe to explore \n",
    "    alpha=0.2,                                              # The transparency of the scatter points\n",
    "    figsize=(10, 10),                                       # The size of the figure\n",
    "    diagonal=\"hist\",                                        # The type of plot for the diagonal subplots\n",
    "    hist_kwds={\"bins\": 50, \"color\": \"green\", \"alpha\": 0.5}  # Additional parameters for the histogram plots (in a dictionary format)\n",
    "    );"
   ]
  },
  {
   "cell_type": "markdown",
   "metadata": {
    "application/vnd.databricks.v1+cell": {
     "cellMetadata": {},
     "inputWidgets": {},
     "nuid": "bdeb652f-d189-46d2-804b-84733a364e95",
     "showTitle": false,
     "title": ""
    }
   },
   "source": [
    "#### Seaborn"
   ]
  },
  {
   "cell_type": "markdown",
   "metadata": {
    "application/vnd.databricks.v1+cell": {
     "cellMetadata": {},
     "inputWidgets": {},
     "nuid": "824f8429-e78b-46df-a6ad-e730c8057297",
     "showTitle": false,
     "title": ""
    }
   },
   "source": [
    "With [Seaborn](https://seaborn.pydata.org/), reaching a good visualization is easier.\n",
    "\n",
    "Seaborn supports a larger variety of charts for different purposes, such as [visualizing data distribution](https://seaborn.pydata.org/tutorial/distributions.html), [exploring the categorical data](https://seaborn.pydata.org/tutorial/categorical.html), and also [relations between the different variables and columns](https://seaborn.pydata.org/tutorial/relational.html).\n",
    "\n",
    "It can even be combined and mixed with other charts. Here's an example of a simple histogram, done with [Matplotlib's hist](https://matplotlib.org/stable/api/_as_gen/matplotlib.pyplot.hist.html) method, and with seaborn we can add to that same chart also a marginal [distributions plot - rugplot](https://seaborn.pydata.org/generated/seaborn.rugplot.html)."
   ]
  },
  {
   "cell_type": "code",
   "execution_count": 0,
   "metadata": {
    "application/vnd.databricks.v1+cell": {
     "cellMetadata": {},
     "inputWidgets": {},
     "nuid": "a896a821-342b-4f06-9d37-ef9ce552f3b9",
     "showTitle": false,
     "title": ""
    }
   },
   "outputs": [],
   "source": [
    "field = \"Temperature\"\n",
    "plt.hist(data=df_room_occupancy, x=field, alpha=0.3)\n",
    "sns.rugplot(data=df_room_occupancy, x=field, hue=\"Occupancy\");"
   ]
  },
  {
   "cell_type": "markdown",
   "metadata": {
    "application/vnd.databricks.v1+cell": {
     "cellMetadata": {},
     "inputWidgets": {},
     "nuid": "74a8ce39-0892-4089-b731-b80a17b46371",
     "showTitle": false,
     "title": ""
    }
   },
   "source": [
    "Here's another example of the same histogram, this time, combined with a [Kernel Density Estimate (KDE)](https://towardsdatascience.com/kernel-density-estimation-explained-step-by-step-7cc5b5bc4517) plot.  \n",
    "in this example we even divided the data by the target - `Occupancy` - to compare the Temperature differences between the two groups:"
   ]
  },
  {
   "cell_type": "code",
   "execution_count": 0,
   "metadata": {
    "application/vnd.databricks.v1+cell": {
     "cellMetadata": {},
     "inputWidgets": {},
     "nuid": "0734e9a9-37c9-4bd2-aea0-9906e89e5de1",
     "showTitle": false,
     "title": ""
    }
   },
   "outputs": [],
   "source": [
    "sns.histplot(data=df_room_occupancy, x=field, kde=True, hue='Occupancy');"
   ]
  },
  {
   "cell_type": "markdown",
   "metadata": {
    "application/vnd.databricks.v1+cell": {
     "cellMetadata": {},
     "inputWidgets": {},
     "nuid": "d0d0e2da-d9bb-40c5-a00f-fc95cf09439c",
     "showTitle": false,
     "title": ""
    }
   },
   "source": [
    "Seaborn offers also a [`violin plot`](https://en.wikipedia.org/wiki/Violin_plot) to visualize the variable density.  \n",
    "This is done using the method [`sns.violinplot()`](https://seaborn.pydata.org/generated/seaborn.violinplot.html)."
   ]
  },
  {
   "cell_type": "code",
   "execution_count": 0,
   "metadata": {
    "application/vnd.databricks.v1+cell": {
     "cellMetadata": {},
     "inputWidgets": {},
     "nuid": "7080aece-d113-409c-a747-aac0456a11e7",
     "showTitle": false,
     "title": ""
    }
   },
   "outputs": [],
   "source": [
    "sns.violinplot(data=df_room_occupancy, x=field, hue='Occupancy');"
   ]
  },
  {
   "cell_type": "markdown",
   "metadata": {
    "application/vnd.databricks.v1+cell": {
     "cellMetadata": {},
     "inputWidgets": {},
     "nuid": "c509f474-ee82-42f9-a37d-8b7c7a0bbfda",
     "showTitle": false,
     "title": ""
    }
   },
   "source": [
    "Here's a broader view of the charts Seaborn offers:"
   ]
  },
  {
   "cell_type": "markdown",
   "metadata": {
    "application/vnd.databricks.v1+cell": {
     "cellMetadata": {},
     "inputWidgets": {},
     "nuid": "fac62fb6-76cf-43fe-a30d-805ad5615503",
     "showTitle": false,
     "title": ""
    }
   },
   "source": [
    "![image.png](https://seaborn.pydata.org/_images/function_overview_8_0.png)"
   ]
  },
  {
   "cell_type": "markdown",
   "metadata": {
    "application/vnd.databricks.v1+cell": {
     "cellMetadata": {},
     "inputWidgets": {},
     "nuid": "50781e62-d0d0-4674-93ae-3928d2b68bc0",
     "showTitle": false,
     "title": ""
    }
   },
   "source": [
    "Moving from Univariate (exploring a single variable) to Bivariate (exploring 2 variables), Seaborn offers two excellent plotting functions: `joinplot` and `pairplot`:\n",
    "\n",
    "```python\n",
    "sns.pairplot(data=df_room_occupancy, hue=\"Occupancy\")\n",
    "```\n",
    "and\n",
    "```python\n",
    "sns.jointplot(data=df_room_occupancy, x=\"Temperature\", y=\"CO2\", hue=\"Occupancy\")\n",
    "```\n"
   ]
  },
  {
   "cell_type": "markdown",
   "metadata": {
    "application/vnd.databricks.v1+cell": {
     "cellMetadata": {},
     "inputWidgets": {},
     "nuid": "4c036de0-6eef-41ec-a667-142509d47312",
     "showTitle": false,
     "title": ""
    }
   },
   "source": [
    "![image.png](https://seaborn.pydata.org/_images/function_overview_36_0.png)\n",
    "![image.png](https://seaborn.pydata.org/_images/function_overview_38_0.png)"
   ]
  },
  {
   "cell_type": "code",
   "execution_count": 0,
   "metadata": {
    "application/vnd.databricks.v1+cell": {
     "cellMetadata": {},
     "inputWidgets": {},
     "nuid": "9e2b9839-a1ef-4980-9935-aec5184cb444",
     "showTitle": false,
     "title": ""
    }
   },
   "outputs": [],
   "source": [
    "######### Your Turn #########\n",
    "# Explore the dataset in various ways by plotting its data.\n",
    "#\n",
    "# Discuss together as a group:\n",
    "# - Which visualizations are the most informative?\n",
    "# - Consider a task of Occupancy Prediction: What do you see in the data? What can you infer from the data? \n",
    "\n",
    "\n",
    "\n",
    "\n",
    "\n",
    "\n",
    "\n",
    "\n",
    "\n",
    "################################"
   ]
  },
  {
   "cell_type": "markdown",
   "metadata": {
    "application/vnd.databricks.v1+cell": {
     "cellMetadata": {},
     "inputWidgets": {},
     "nuid": "35358422-8670-4715-857e-0499bb58ec98",
     "showTitle": false,
     "title": ""
    }
   },
   "source": [
    "For additional reading and inspiration, check [this reource](https://towardsdatascience.com/how-to-perform-exploratory-data-analysis-with-seaborn-97e3413e841d) out."
   ]
  }
 ],
 "metadata": {
  "application/vnd.databricks.v1+notebook": {
   "dashboards": [],
   "environmentMetadata": null,
   "language": "python",
   "notebookMetadata": {
    "pythonIndentUnit": 2
   },
   "notebookName": "7.1_ST_Quick_Introduction_VDE",
   "widgets": {}
  },
  "kernelspec": {
   "display_name": "contribute-data-science-apex-LpLk_sPV-py3.10",
   "language": "python",
   "name": "python3"
  },
  "language_info": {
   "codemirror_mode": {
    "name": "ipython",
    "version": 3
   },
   "file_extension": ".py",
   "mimetype": "text/x-python",
   "name": "python",
   "nbconvert_exporter": "python",
   "pygments_lexer": "ipython3",
   "version": "3.10.14"
  }
 },
 "nbformat": 4,
 "nbformat_minor": 0
}
