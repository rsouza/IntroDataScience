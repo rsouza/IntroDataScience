{
 "cells": [
  {
   "cell_type": "markdown",
   "metadata": {
    "application/vnd.databricks.v1+cell": {
     "cellMetadata": {},
     "inputWidgets": {},
     "nuid": "f1cdce2f-b1d5-43b9-ab56-3659453f9ae0",
     "showTitle": false,
     "title": ""
    }
   },
   "source": [
    "# Storytelling with Data"
   ]
  },
  {
   "cell_type": "markdown",
   "metadata": {
    "application/vnd.databricks.v1+cell": {
     "cellMetadata": {},
     "inputWidgets": {},
     "nuid": "f1216f75-0264-415e-b173-b52b22406bed",
     "showTitle": false,
     "title": ""
    }
   },
   "source": [
    "Storytelling is an important skill to communicate your analysis findings.  \n",
    "Often you will not be able to talk to your audience, and your charts would have to talk for you.  \n",
    "\n",
    "To get inspiration and excellent tutorials, we recommend [python-graph-gallery](https://python-graph-gallery.com/) Project.  \n",
    "It contains **hundreds** of excellent charts and graphs, together with their python code - for reproducibility and learning.  \n",
    "\n",
    "You can add arrows [add arrows](https://python-graph-gallery.com/drawarrow/) with the [DrawArrow Package](https://github.com/JosephBARBIERDARNAL/drawarrow); or [add text and captions](https://python-graph-gallery.com/advanced-custom-annotations-matplotlib/) with [flexitext](https://github.com/tomicapretto/flexitext) or [highlight_text](https://github.com/znstrider/highlight_text) packages. \n",
    "\n",
    "Here's a short example of the power of Storytelling with Data:"
   ]
  },
  {
   "cell_type": "code",
   "execution_count": 0,
   "metadata": {
    "application/vnd.databricks.v1+cell": {
     "cellMetadata": {
      "byteLimit": 2048000,
      "rowLimit": 10000
     },
     "inputWidgets": {},
     "nuid": "72f2f50b-2b7f-4a98-afcd-386c982b7190",
     "showTitle": false,
     "title": ""
    }
   },
   "outputs": [],
   "source": [
    "%pip install -q pandas matplotlib numpy pyfonts drawarrow highlight_text\n",
    "dbutils.library.restartPython()"
   ]
  },
  {
   "cell_type": "markdown",
   "metadata": {
    "application/vnd.databricks.v1+cell": {
     "cellMetadata": {},
     "inputWidgets": {},
     "nuid": "1a2136b1-4d8c-46c7-a46d-7a8ba06d70c4",
     "showTitle": false,
     "title": ""
    }
   },
   "source": [
    "We load the packages - including the font, arrow drawing and annotation ones:"
   ]
  },
  {
   "cell_type": "code",
   "execution_count": 0,
   "metadata": {
    "application/vnd.databricks.v1+cell": {
     "cellMetadata": {
      "byteLimit": 2048000,
      "rowLimit": 10000
     },
     "inputWidgets": {},
     "nuid": "c4a1bf2c-3fc9-49f5-95cb-008c5e464e2d",
     "showTitle": false,
     "title": ""
    }
   },
   "outputs": [],
   "source": [
    "import pandas as pd\n",
    "import numpy as np\n",
    "import matplotlib.pyplot as plt\n",
    "from pyfonts import load_font\n",
    "from drawarrow import ax_arrow\n",
    "from highlight_text import fig_text, ax_text\n",
    "import matplotlib.font_manager as fm\n"
   ]
  },
  {
   "cell_type": "markdown",
   "metadata": {
    "application/vnd.databricks.v1+cell": {
     "cellMetadata": {},
     "inputWidgets": {},
     "nuid": "0cda80d3-5985-4c8f-bdc4-946c4e70ccb8",
     "showTitle": false,
     "title": ""
    }
   },
   "source": [
    "Some data for this chart:"
   ]
  },
  {
   "cell_type": "code",
   "execution_count": 0,
   "metadata": {
    "application/vnd.databricks.v1+cell": {
     "cellMetadata": {
      "byteLimit": 2048000,
      "rowLimit": 10000
     },
     "inputWidgets": {},
     "nuid": "9f863e0a-1727-4b6c-8ec3-d8d43442c2b3",
     "showTitle": false,
     "title": ""
    }
   },
   "outputs": [],
   "source": [
    "url = \"../../Data/japan_pop.csv\"\n",
    "df = pd.read_csv(url)\n",
    "df.head()"
   ]
  },
  {
   "cell_type": "code",
   "execution_count": 0,
   "metadata": {
    "application/vnd.databricks.v1+cell": {
     "cellMetadata": {
      "byteLimit": 2048000,
      "rowLimit": 10000
     },
     "inputWidgets": {},
     "nuid": "b330b083-7028-4e8c-999c-071a0fd1fb1c",
     "showTitle": false,
     "title": ""
    }
   },
   "outputs": [],
   "source": [
    "# style parameters\n",
    "prop = fm.FontProperties(\n",
    "   fname='/usr/share/fonts/truetype/groovygh.ttf'\n",
    ")\n",
    "font = fm.FontProperties(\n",
    "   fname='../../Data/Fonts/LibreBaskervilleRegular.otf'\n",
    ")\n",
    "boldfont = fm.FontProperties(\n",
    "   fname='../../Data/Fonts/LibreBaskervilleBold.otf'\n",
    ")\n",
    "digit_font = fm.FontProperties(fname='../../Data/Fonts/LatoBold.ttf')\n",
    "arrow_props = dict(color='black', tail_width=0.05, linewidth=0.5, head_width=3, head_length=5, radius=0.2)\n",
    "\n",
    "fig, ax = plt.subplots(dpi=300, figsize=(10,7))\n",
    "ax.set_axis_off()\n",
    "\n",
    "# before\n",
    "color = '#335c67'\n",
    "year_index = df[df['flag']].date.values[0]\n",
    "before_df = df[df['date']<=year_index]\n",
    "ax.plot(before_df['date'], before_df['pop_var'], color=color)\n",
    "ax.fill_between(before_df['date'], before_df['pop_var'], alpha=0.3, color=color)\n",
    "max_year = df[df['pop_var']==df['pop_var'].max()].date.values[0]\n",
    "max_value = df[df['pop_var']==df['pop_var'].max()].pop_var.values[0]\n",
    "ax.scatter(x=max_year, y=max_value, color=color, s=20)\n",
    "# ax.text(x=max_year-7, y=max_value, s=f'+{max_value:.0f}', font=digit_font, size=8, color=color)\n",
    "ax.text(x=max_year-7, y=max_value, s=f'+{max_value:.0f}', size=8, color=color)\n",
    "\n",
    "# after\n",
    "color = '#9e2a2b'\n",
    "after_df = df[df['date']>=year_index]\n",
    "ax.plot(after_df['date'], after_df['pop_var'], color=color)\n",
    "ax.fill_between(after_df['date'], after_df['pop_var'], alpha=0.3, color=color)\n",
    "min_year = df[df['pop_var']==df['pop_var'].min()].date.values[0]\n",
    "min_value = df[df['pop_var']==df['pop_var'].min()].pop_var.values[0]\n",
    "ax.scatter(x=min_year, y=min_value, color=color, s=20)\n",
    "# ax.text(x=min_year-5, y=min_value-70000, s=f'{min_value:.0f}', font=digit_font, size=8, color=color)\n",
    "ax.text(x=min_year-5, y=min_value-70000, s=f'{min_value:.0f}', size=8, color=color)\n",
    "\n",
    "ax.plot([1952, 2024], [0,0], color='black', linewidth=0.6)\n",
    "year_range = range(1960, 2021, 10)\n",
    "for year in year_range:\n",
    "#    ax.text(x=year+1, y=40000, s=f'{year}', font=boldfont, size=8, ha='center')\n",
    "   ax.text(x=year+1, y=40000, s=f'{year}', size=8, ha='center')\n",
    "\n",
    "s = \"Japan's population is\\nin <dramatic decline>.\"\n",
    "# fig_text(x=0.45, y=0.8, s=s, font=font, highlight_textprops=[{'font':boldfont}], fontsize=25, ha='left', va='top')\n",
    "fig_text(x=0.45, y=0.8, s=s, fontsize=25, ha='left', va='top')\n",
    "\n",
    "\n",
    "s = \"Population variation per year between 1952 and 2024\"\n",
    "# fig_text(x=0.45, y=0.68, s=s, font=font, fontsize=9.8, ha='left', va='top', alpha=0.5)\n",
    "fig_text(x=0.45, y=0.68, s=s, fontsize=9.8, ha='left', va='top', alpha=0.5)\n",
    "\n",
    "s = \"<Graph>: barbierjoseph.com\\n<Data>: macrotrends.net\"\n",
    "# ax_text(x=1952, y=-30000, s=s, font=font, fontsize=6, ha='left', highlight_textprops=[{'font':boldfont}]*2)\n",
    "ax_text(x=1952, y=-30000, s=s, fontsize=6, ha='left')\n",
    "\n",
    "s = \"2010 is the first year to record\\na <fall> in the population\"\n",
    "# ax_text(x=1978, y=-210000, s=s, font=font, fontsize=8, ha='left', highlight_textprops=[{'font':boldfont}])\n",
    "ax_text(x=1978, y=-210000, s=s, fontsize=8, ha='left')\n",
    "ax_arrow(tail_position=(1995, -300000), head_position=(2009, -50000), ax=ax, **arrow_props)\n",
    "\n",
    "plt.savefig('../../web-area-chart-with-different-colors-for-positive-and-negative-values.png', dpi=300, bbox_inches='tight')\n",
    "plt.show()"
   ]
  },
  {
   "cell_type": "markdown",
   "metadata": {
    "application/vnd.databricks.v1+cell": {
     "cellMetadata": {},
     "inputWidgets": {},
     "nuid": "b6023372-7722-43df-a905-ecf4dd0e87e0",
     "showTitle": false,
     "title": ""
    }
   },
   "source": [
    "Outstandingly beautiful, isn't it?"
   ]
  },
  {
   "cell_type": "markdown",
   "metadata": {
    "application/vnd.databricks.v1+cell": {
     "cellMetadata": {},
     "inputWidgets": {},
     "nuid": "c80aaa58-d5ac-4d5b-8c4e-f02c75c8aee5",
     "showTitle": false,
     "title": ""
    }
   },
   "source": [
    "## Now you :)"
   ]
  },
  {
   "cell_type": "code",
   "execution_count": 0,
   "metadata": {
    "application/vnd.databricks.v1+cell": {
     "cellMetadata": {
      "byteLimit": 2048000,
      "rowLimit": 10000
     },
     "inputWidgets": {},
     "nuid": "41ead0c7-8157-4b76-a570-61c39a2bf27e",
     "showTitle": false,
     "title": ""
    }
   },
   "outputs": [],
   "source": [
    "############################################ Your Turn ####################################################\n",
    "\n",
    "movie_2_week_gross = pd.read_csv(\"../../Data/Movie Gross First 2 Weeks.csv\")\n",
    "movie_2_week_gross.head()"
   ]
  },
  {
   "cell_type": "markdown",
   "metadata": {
    "application/vnd.databricks.v1+cell": {
     "cellMetadata": {},
     "inputWidgets": {},
     "nuid": "605ef723-8696-4b18-96d9-d92642d4625e",
     "showTitle": false,
     "title": ""
    }
   },
   "source": [
    "This table holds the daily profit of 3 historically important movies: **Avengers: Endgame**, **Deadpool & Wolverine**, and naturally, **Guardians of the Galaxy Vol. 3**.  \n",
    "The data is curtesy of [https://www.boxofficemojo.com](https://www.boxofficemojo.com/), but please don't tell them we took it.\n",
    "\n",
    "Some important columns here are:\n",
    "- Date - the date in hand\n",
    "- Movie - the movie name\n",
    "- DOW - Day of Week\n",
    "- Daily Gross in USD - Daily eraning for the movie on that specific date\n",
    "- Day - Number of days in release\n",
    "- Number of Theaters - In how many theaters was the movie played\n",
    "\n",
    "And you can safely ignore the rest."
   ]
  },
  {
   "cell_type": "markdown",
   "metadata": {
    "application/vnd.databricks.v1+cell": {
     "cellMetadata": {},
     "inputWidgets": {},
     "nuid": "eb5e5d10-1ffa-4a0d-988b-5e5fdbe2c35b",
     "showTitle": false,
     "title": ""
    }
   },
   "source": [
    "#### Your task\n",
    "1. Explore the data, clean it, and make it ready for visualization.\n",
    "2. Tell a visual story with this data.  \n",
    "Write out a setup, a conflict, and a resolution and then sketch how you could present each part of the story.\n",
    "3. Be proud and share your results with your peers!\n",
    "\n",
    "(You can also work in groups of 2-3 people on this task)"
   ]
  }
 ],
 "metadata": {
  "application/vnd.databricks.v1+notebook": {
   "dashboards": [],
   "environmentMetadata": null,
   "language": "python",
   "notebookMetadata": {
    "pythonIndentUnit": 2
   },
   "notebookName": "7.3_ST_Storytelling",
   "widgets": {}
  },
  "kernelspec": {
   "display_name": "contribute-data-science-apex-LpLk_sPV-py3.10",
   "language": "python",
   "name": "python3"
  },
  "language_info": {
   "codemirror_mode": {
    "name": "ipython",
    "version": 3
   },
   "file_extension": ".py",
   "mimetype": "text/x-python",
   "name": "python",
   "nbconvert_exporter": "python",
   "pygments_lexer": "ipython3",
   "version": "3.10.14"
  }
 },
 "nbformat": 4,
 "nbformat_minor": 0
}
