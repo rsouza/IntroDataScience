{
 "cells": [
  {
   "cell_type": "markdown",
   "metadata": {
    "application/vnd.databricks.v1+cell": {
     "cellMetadata": {},
     "inputWidgets": {},
     "nuid": "886178c2-72c0-4e6f-ab27-1d2b6fd5d78f",
     "showTitle": false,
     "title": ""
    }
   },
   "source": [
    "# Univariate Analysis with Seaborn\n",
    "\n",
    "You are presumably wondering: \"Yeah, Matplotlib is great, it allows me to customize everything I want. But is there any other visualization library which is able to conjure up a good-looking graph with less code? \n",
    "\n",
    "In fact, there are many visualization libraries for Python. We will explore [**Seaborn**](https://seaborn.pydata.org/index.html), which is built on top of the Matplotlib.\n",
    "\n",
    "The strength of Seaborn is the ability to create attractive, aesthetically pleasing plots integrating [**Pandas DataFrame**s](https://pandas.pydata.org/pandas-docs/stable/reference/api/pandas.DataFrame.html) functionalities. So far, in order to create plots we always needed to 'extract' a Series of the DataFrame and then we were able to apply some plotting function. Seaborn, on the other hand, operates on the whole dataset, intelligently using labels of the `DataFrame` and internally performing the necessary steps. Seaborn makes creating visualizations very easy and intuitive by using high-level functions."
   ]
  },
  {
   "cell_type": "markdown",
   "metadata": {
    "application/vnd.databricks.v1+cell": {
     "cellMetadata": {},
     "inputWidgets": {},
     "nuid": "f4354068-f787-48b7-a381-891bff4e4511",
     "showTitle": false,
     "title": ""
    }
   },
   "source": [
    "### [Figure-level vs. axes-level functions](https://seaborn.pydata.org/tutorial/function_overview.html)  \n",
    "\n",
    "There is a cross-cutting classification of seaborn functions as “axes-level” or “figure-level”. \n",
    "+ [**Axes-level**](https://seaborn.pydata.org/tutorial/function_overview.html#axes-level-functions-make-self-contained-plots) functions plot data onto a single matplotlib.pyplot.Axes object, which is the return value of the function.\n",
    "+ [**Figure-level**](https://seaborn.pydata.org/tutorial/function_overview.html#figure-level-functions-own-their-figure) functions interface with matplotlib through a seaborn object, usually a FacetGrid, that manages the figure. Each module has a single figure-level function, which offers a unitary interface to its various axes-level functions."
   ]
  },
  {
   "cell_type": "markdown",
   "metadata": {
    "application/vnd.databricks.v1+cell": {
     "cellMetadata": {},
     "inputWidgets": {},
     "nuid": "4ad5a4a1-dd1b-4b58-ae4d-52671ec8f02a",
     "showTitle": false,
     "title": ""
    }
   },
   "source": [
    "# 1. Importing Seaborn library and loading the data\n",
    "\n",
    "Firstly, we import the Seaborn library and give it conventional alias `sns`. The abbreviation is derived from Samuel Norman \"Sam\" Seaborn, a fictional character portrayed by Rob Lowe in the television serial drama _The West Wing_."
   ]
  },
  {
   "cell_type": "code",
   "execution_count": 0,
   "metadata": {
    "application/vnd.databricks.v1+cell": {
     "cellMetadata": {
      "byteLimit": 2048000,
      "rowLimit": 10000
     },
     "inputWidgets": {},
     "nuid": "c10ab89e-0827-4e9c-87d5-e60453be8781",
     "showTitle": false,
     "title": ""
    }
   },
   "outputs": [],
   "source": [
    "# Importing Seaborn library\n",
    "import pandas as pd\n",
    "import seaborn as sns\n",
    "import matplotlib.pyplot as plt"
   ]
  },
  {
   "cell_type": "markdown",
   "metadata": {
    "application/vnd.databricks.v1+cell": {
     "cellMetadata": {},
     "inputWidgets": {},
     "nuid": "e7fc6c0d-30d9-4c04-adcd-2152e87a19ca",
     "showTitle": false,
     "title": ""
    }
   },
   "source": [
    "There are 18 example datasets provided by Seaborn. After completing this notebook, you can choose a few of them that seem interesting to you and and try to apply your gained knowledge about visualization using Seaborn. \n",
    "\n",
    "To get a list of available datasets you can use [`get_dataset_names()`](https://seaborn.pydata.org/generated/seaborn.get_dataset_names.html) function."
   ]
  },
  {
   "cell_type": "code",
   "execution_count": 0,
   "metadata": {
    "application/vnd.databricks.v1+cell": {
     "cellMetadata": {
      "byteLimit": 2048000,
      "rowLimit": 10000
     },
     "inputWidgets": {},
     "nuid": "d48920d5-20e9-482a-89d7-171828ec9975",
     "showTitle": false,
     "title": ""
    }
   },
   "outputs": [],
   "source": [
    "# Print available example datasets\n",
    "# This is blocked by security.\n",
    "# sns.get_dataset_names()"
   ]
  },
  {
   "cell_type": "markdown",
   "metadata": {
    "application/vnd.databricks.v1+cell": {
     "cellMetadata": {},
     "inputWidgets": {},
     "nuid": "dcb24b77-8a50-48a9-aaee-c102fad5f557",
     "showTitle": false,
     "title": ""
    }
   },
   "source": [
    "## 1.1 Setting the theme\n",
    "\n",
    "Firstly, we discuss how you can control the **aesthetic of a figure** in other words, choose the **theme** based on your needs and preferences. It always depends on whether you are exploring the data for yourself or you want to communicate your insights to an audience. During your exploratory part, your visualizations do not need to be perfect and polished as long as they serve the purpose of revealing necessary and useful insight. \n",
    "\n",
    "But if your visualization will be presented to others, it is appropriate to take care of the plot's appearance in order to make it appealing and catching the attention. This is true also in the case of a theme. \n",
    "\n",
    "There are [5 predefined themes](https://seaborn.pydata.org/tutorial/aesthetics.html#seaborn-figure-styles) ('darkgrid' is by default):\n",
    "\n",
    "- `darkgrid`\n",
    "- `whitegrid`\n",
    "- `dark`\n",
    "- `white`\n",
    "- `ticks`\n",
    "\n",
    "To set a specific theme use\n",
    "[`set_style('ticks')`](https://seaborn.pydata.org/generated/seaborn.set_style.html)\n",
    "with the chosen theme as the argument. Take a look at the documentation [here](https://seaborn.pydata.org/tutorial/aesthetics.html) for more information."
   ]
  },
  {
   "cell_type": "code",
   "execution_count": 0,
   "metadata": {
    "application/vnd.databricks.v1+cell": {
     "cellMetadata": {},
     "inputWidgets": {},
     "nuid": "4b6c5fa6-9068-4143-b1e8-5dcd24ffb86a",
     "showTitle": false,
     "title": ""
    }
   },
   "outputs": [],
   "source": [
    "# Setting style\n",
    "sns.set_style('whitegrid')"
   ]
  },
  {
   "cell_type": "markdown",
   "metadata": {
    "application/vnd.databricks.v1+cell": {
     "cellMetadata": {},
     "inputWidgets": {},
     "nuid": "72ea28bf-1a46-4a2a-86f7-8aa70de48d41",
     "showTitle": false,
     "title": ""
    }
   },
   "source": [
    "# 2. Loading dataset\n",
    "\n",
    "We will go with the 'penguins' dataset that can be loaded using\n",
    "[`load_dataset()`](https://seaborn.pydata.org/generated/seaborn.load_dataset.html#seaborn-load-dataset)\n",
    "function which returns a Pandas DataFrame.\n",
    "\n",
    "This dataset consists of 7 attributes and 344 observations about penguins from islands in the Palmer Archipelago in Antarctica.\n",
    "\n",
    "**Attributes explanation**\n",
    "- `species`: species of a penguin (Adelie, Gentoo and Chinstrap)\n",
    "- `island`: the name of an island (Biscoe, Dream, Torgersen)\n",
    "- `bill_length_mm`: the length of the bill (in mm)\n",
    "- `bill_depth_mm`: the depth of the bill (in mm)\n",
    "- `flipper_length_mm`: the length of the flipper (in mm)\n",
    "- `body_mass_g`: body mass (in grams)\n",
    "- `sex`: the sex of a penguin"
   ]
  },
  {
   "cell_type": "code",
   "execution_count": 0,
   "metadata": {
    "application/vnd.databricks.v1+cell": {
     "cellMetadata": {},
     "inputWidgets": {},
     "nuid": "e70382f7-0e5b-4ab2-9251-9fbedc3b23ce",
     "showTitle": false,
     "title": ""
    }
   },
   "outputs": [],
   "source": [
    "# Load the example dataset\n",
    "# This is blocked by security.\n",
    "# penguins = sns.load_dataset(\"penguins\")\n",
    "\n",
    "# Load the example dataset from .csv file\n",
    "penguins = pd.read_csv('../../Data/penguins.csv')"
   ]
  },
  {
   "cell_type": "code",
   "execution_count": 0,
   "metadata": {
    "application/vnd.databricks.v1+cell": {
     "cellMetadata": {
      "byteLimit": 2048000,
      "rowLimit": 10000
     },
     "inputWidgets": {},
     "nuid": "79f079d8-89c7-4793-9b9b-ad72f5a811e3",
     "showTitle": false,
     "title": ""
    }
   },
   "outputs": [],
   "source": [
    "# Take a look at the first 5 rows\n",
    "penguins.head()"
   ]
  },
  {
   "cell_type": "code",
   "execution_count": 0,
   "metadata": {
    "application/vnd.databricks.v1+cell": {
     "cellMetadata": {
      "byteLimit": 2048000,
      "rowLimit": 10000
     },
     "inputWidgets": {},
     "nuid": "e694a218-1b75-4c70-a142-d7530b1535d4",
     "showTitle": false,
     "title": ""
    }
   },
   "outputs": [],
   "source": [
    "# Explore statistics information about the data\n",
    "penguins.describe()"
   ]
  },
  {
   "cell_type": "code",
   "execution_count": 0,
   "metadata": {
    "application/vnd.databricks.v1+cell": {
     "cellMetadata": {
      "byteLimit": 2048000,
      "rowLimit": 10000
     },
     "inputWidgets": {},
     "nuid": "b5f2e20a-b06c-41a3-a8c2-5650b0484255",
     "showTitle": false,
     "title": ""
    }
   },
   "outputs": [],
   "source": [
    "# Explore whether there are some missing values\n",
    "penguins.isnull().sum()"
   ]
  },
  {
   "cell_type": "code",
   "execution_count": 0,
   "metadata": {
    "application/vnd.databricks.v1+cell": {
     "cellMetadata": {
      "byteLimit": 2048000,
      "rowLimit": 10000
     },
     "inputWidgets": {},
     "nuid": "da79c087-a8fb-44e2-852b-24fd4d004ae8",
     "showTitle": false,
     "title": ""
    }
   },
   "outputs": [],
   "source": [
    "# Dropping missing values\n",
    "penguins.dropna(inplace = True)"
   ]
  },
  {
   "cell_type": "code",
   "execution_count": 0,
   "metadata": {
    "application/vnd.databricks.v1+cell": {
     "cellMetadata": {
      "byteLimit": 2048000,
      "rowLimit": 10000
     },
     "inputWidgets": {},
     "nuid": "a9b557d2-5363-41a3-b164-134b968d2d3b",
     "showTitle": false,
     "title": ""
    }
   },
   "outputs": [],
   "source": [
    "# Checking for duplicated data\n",
    "penguins.duplicated().sum()"
   ]
  },
  {
   "cell_type": "markdown",
   "metadata": {
    "application/vnd.databricks.v1+cell": {
     "cellMetadata": {},
     "inputWidgets": {},
     "nuid": "2fd0476d-ab2c-439a-b848-7df1d5781dda",
     "showTitle": false,
     "title": ""
    }
   },
   "source": [
    "# 3. Numerical variables"
   ]
  },
  {
   "cell_type": "markdown",
   "metadata": {
    "application/vnd.databricks.v1+cell": {
     "cellMetadata": {},
     "inputWidgets": {},
     "nuid": "76882f08-8169-485e-a4f4-c8c303d84d46",
     "showTitle": false,
     "title": ""
    }
   },
   "source": [
    "## 3.1 Histogram\n",
    "\n",
    "We'll look at the distribution of our data using the\n",
    "[`displot()`](https://seaborn.pydata.org/generated/seaborn.displot.html)\n",
    "function where we specify parameters such as `data` and `x` that define a position on the x-axis.\n",
    "[`displot()`](https://seaborn.pydata.org/generated/seaborn.displot.html)\n",
    "is a Figure-level method and the size of the output can be changed using the parameters `height` and `aspect`. \n",
    "In case of Axes-level functions, the size can be controlled with `plt.figure(figsize = (Width, height in inches))`. \n",
    "You can find all necessary information in [Seaborn's documentation](https://seaborn.pydata.org/generated/seaborn.displot.html).\n",
    "\n",
    "This function uses the same underlying code as\n",
    "[`histplot()`](https://seaborn.pydata.org/generated/seaborn.histplot.html)\n",
    "function. \n",
    "Moreover it provides different approaches for visualizing the distribution. \n",
    "The histogram will be drawn by default. \n",
    "But we can choose a particular approach with the `kind` parameter:  \n",
    "\n",
    "`kind = 'hist'`   \n",
    "`kind = 'kde'`  \n",
    "`kind = 'ecdf'`  \n",
    "\n",
    "All of these approaches to visualize distributions have their very own function in the _distribution module_ and belong to the _distribution plots category_.\n",
    "We'll discuss all approaches later on. \n",
    "\n",
    "Now let's see how we can display the distribution of the length of penguins' bills. \n",
    "Seaborn's function\n",
    "[`displot()`](https://seaborn.pydata.org/generated/seaborn.displot.html)\n",
    "returns a Seaborn's FacetGrid object.\n",
    "Assign the resulting object to the `ax` variable to be able add things such as title or axes labels.\n",
    "\n",
    "Another way is to use\n",
    "[`plt.title()`](https://matplotlib.org/stable/api/_as_gen/matplotlib.pyplot.title.html), \n",
    "[`plt.xlabel()`](https://matplotlib.org/stable/api/_as_gen/matplotlib.pyplot.xlabel.html)\n",
    "and\n",
    "[`plt.ylabel()`](https://matplotlib.org/stable/api/_as_gen/matplotlib.pyplot.ylabel.html)."
   ]
  },
  {
   "cell_type": "code",
   "execution_count": 0,
   "metadata": {
    "application/vnd.databricks.v1+cell": {
     "cellMetadata": {
      "byteLimit": 2048000,
      "rowLimit": 10000
     },
     "inputWidgets": {},
     "nuid": "1ac1b077-56b1-49ff-966e-647abc9dcb28",
     "showTitle": false,
     "title": ""
    }
   },
   "outputs": [],
   "source": [
    "# Create a histogram of 'bill_length_mm'\n",
    "ax = sns.displot(data = penguins, \n",
    "                 x = 'bill_length_mm',\n",
    "                 height = 6.5,\n",
    "                 aspect = 1.3);\n",
    "\n",
    "# Setting a title\n",
    "ax.set(title = 'The distribution of bill length');"
   ]
  },
  {
   "cell_type": "markdown",
   "metadata": {
    "application/vnd.databricks.v1+cell": {
     "cellMetadata": {},
     "inputWidgets": {},
     "nuid": "8c41142c-f452-4f16-8c7a-132ce55e332c",
     "showTitle": false,
     "title": ""
    }
   },
   "source": [
    "As you can see, Seaborn automatically annotates labels according to defined parameters. We can see from the plot that the most common bill length is about 45 mm. There are very few penguins that have bill length less than 10 mm. \n",
    "\n",
    "As we have already learned, it is always appropriate to experiment and try different numbers of bins as well as change the size of bins. By default, `displot()` and `histplot()` plotting functions determine the size of the bins based on the number of observations and the variance. \n",
    "\n",
    "If you want to zoom in into the particular area of a histogram, you can do so by limiting the axis using Matplotlib's\n",
    "[`xlim`](https://matplotlib.org/stable/api/_as_gen/matplotlib.pyplot.xlim.html) (alteratively [`ylim`](https://matplotlib.org/stable/api/_as_gen/matplotlib.pyplot.ylim.html)). \n",
    "\n",
    "The options are:\n",
    "\n",
    "- [`plt.xlim(left, right)`](https://matplotlib.org/stable/api/_as_gen/matplotlib.pyplot.xlim.html) - setting values for the left and the right limit\n",
    "- [`plt.xlim(left)`](https://matplotlib.org/stable/api/_as_gen/matplotlib.pyplot.xlim.html) - setting a value only for left limit\n",
    "- [`plt.xlim(right)`](https://matplotlib.org/stable/api/_as_gen/matplotlib.pyplot.xlim.html) - setting a value only for right limit"
   ]
  },
  {
   "cell_type": "code",
   "execution_count": 0,
   "metadata": {
    "application/vnd.databricks.v1+cell": {
     "cellMetadata": {
      "byteLimit": 2048000,
      "rowLimit": 10000
     },
     "inputWidgets": {},
     "nuid": "97abea88-44d8-46c3-a0ef-be57cdf1bf6b",
     "showTitle": false,
     "title": ""
    }
   },
   "outputs": [],
   "source": [
    "# A displot of 'bill_length_mm' with specified axis limits from value 53 to 60\n",
    "sns.displot(data = penguins, \n",
    "            x = 'bill_length_mm')\n",
    "\n",
    "# Setting the right and left limit\n",
    "plt.xlim(53,60);"
   ]
  },
  {
   "cell_type": "markdown",
   "metadata": {
    "application/vnd.databricks.v1+cell": {
     "cellMetadata": {},
     "inputWidgets": {},
     "nuid": "a375910a-426d-4838-b3e8-b30b23953c7d",
     "showTitle": false,
     "title": ""
    }
   },
   "source": [
    "Changing the size of the bins can be acomplished with the `binwidth` parameter. If we set `binwidth = 2`, each bin will coumpound observations in the range of 2 millimeters:"
   ]
  },
  {
   "cell_type": "code",
   "execution_count": 0,
   "metadata": {
    "application/vnd.databricks.v1+cell": {
     "cellMetadata": {
      "byteLimit": 2048000,
      "rowLimit": 10000
     },
     "inputWidgets": {},
     "nuid": "f039e835-fe22-4e0d-bd76-6e8a4f6fb0d1",
     "showTitle": false,
     "title": ""
    }
   },
   "outputs": [],
   "source": [
    "# Histogram with specified binwidth\n",
    "sns.displot(data = penguins, \n",
    "            x = 'bill_length_mm', \n",
    "            binwidth = 2,\n",
    "            height = 6.5,\n",
    "            aspect = 1.3);\n",
    "# Change the size of the bins yourself and observe the output"
   ]
  },
  {
   "cell_type": "markdown",
   "metadata": {
    "application/vnd.databricks.v1+cell": {
     "cellMetadata": {},
     "inputWidgets": {},
     "nuid": "2e308b89-bb65-4754-abe6-e00b94700977",
     "showTitle": false,
     "title": ""
    }
   },
   "source": [
    "Alternatively, we can control the number of bins. There is no right answer to the question of what number of bins you should set. \n",
    "\n",
    "It always depends on the data and our aim is to choose the most appropriate one that describes the data the best. If we didn't alter the number of bins during the exploration, we might miss important patterns. \n",
    "\n",
    "You can assign the number of bins to the `bins` parameter."
   ]
  },
  {
   "cell_type": "code",
   "execution_count": 0,
   "metadata": {
    "application/vnd.databricks.v1+cell": {
     "cellMetadata": {
      "byteLimit": 2048000,
      "rowLimit": 10000
     },
     "inputWidgets": {},
     "nuid": "d4591b78-ae9c-4c6a-b0fb-f622b0881cca",
     "showTitle": false,
     "title": ""
    }
   },
   "outputs": [],
   "source": [
    "# Histogram with specified number of bins\n",
    "sns.displot(data = penguins, \n",
    "            x = 'bill_length_mm', \n",
    "            bins = 30,\n",
    "            height = 6.5,\n",
    "            aspect = 1.3);\n",
    "# Again, replace the number of bins and observe the output"
   ]
  },
  {
   "cell_type": "markdown",
   "metadata": {
    "application/vnd.databricks.v1+cell": {
     "cellMetadata": {},
     "inputWidgets": {},
     "nuid": "4dfa6274-7c89-4240-a34b-8112550ee074",
     "showTitle": false,
     "title": ""
    }
   },
   "source": [
    "In the above histogram, we can see that the number of bins is too big, since the gap appeared after value 55. Try change this number yourself and observe the output."
   ]
  },
  {
   "cell_type": "code",
   "execution_count": 0,
   "metadata": {
    "application/vnd.databricks.v1+cell": {
     "cellMetadata": {
      "byteLimit": 2048000,
      "rowLimit": 10000
     },
     "inputWidgets": {},
     "nuid": "7dfb7c71-1c2f-4583-a2cb-30006a31b09d",
     "showTitle": false,
     "title": ""
    }
   },
   "outputs": [],
   "source": [
    "# TASK 1 >>> Create a histogram showing the distribution of penguins's body mass ('body_mass_g' variable)\n",
    "#        >>> Just define data and a variable and let Seaborn create the default plot\n",
    "#        >>> Set parameters: height = 6.5, aspect = 1.3\n",
    "\n",
    "sns.displot(data = penguins, \n",
    "            x = 'body_mass_g',\n",
    "            height = 6.5,\n",
    "            aspect = 1.3);"
   ]
  },
  {
   "cell_type": "markdown",
   "metadata": {
    "application/vnd.databricks.v1+cell": {
     "cellMetadata": {},
     "inputWidgets": {},
     "nuid": "b6bd237b-2555-41af-9121-124ad1d1748f",
     "showTitle": false,
     "title": ""
    }
   },
   "source": [
    ">What can you say about the distribution of body mass? Does the default bins correctly captured pattern in data? What is the most common weight of penguins?"
   ]
  },
  {
   "cell_type": "markdown",
   "metadata": {
    "application/vnd.databricks.v1+cell": {
     "cellMetadata": {},
     "inputWidgets": {},
     "nuid": "94bf31f2-ed46-4659-8570-1cb8ac82a78a",
     "showTitle": false,
     "title": ""
    }
   },
   "source": [
    "## 3.2 Plotting the distribution using KDE plot\n",
    "\n",
    "KDE abbreviation stands for [Kernel Density Estimate](https://en.wikipedia.org/wiki/Kernel_density_estimation) and using this approach we can create distribution using continuous probability density curve. KDE is calculated using a specific formula which you do not need to worry about. There are however mathematical and statistical reasons why sometimes it might be more appropriate to show a KDE."
   ]
  },
  {
   "cell_type": "code",
   "execution_count": 0,
   "metadata": {
    "application/vnd.databricks.v1+cell": {
     "cellMetadata": {
      "byteLimit": 2048000,
      "rowLimit": 10000
     },
     "inputWidgets": {},
     "nuid": "da5b769d-e397-4ef1-a289-60cd9b58d31c",
     "showTitle": false,
     "title": ""
    }
   },
   "outputs": [],
   "source": [
    "# The distribution using kernel density estimation\n",
    "\n",
    "sns.displot(data = penguins, \n",
    "            x = 'bill_depth_mm', \n",
    "            bins = 20,\n",
    "            kde = True,\n",
    "            height = 6.5,\n",
    "            aspect = 1.3);"
   ]
  },
  {
   "cell_type": "markdown",
   "metadata": {
    "application/vnd.databricks.v1+cell": {
     "cellMetadata": {},
     "inputWidgets": {},
     "nuid": "caf76e54-39bb-42c2-bd0a-56c1698d7d55",
     "showTitle": false,
     "title": ""
    }
   },
   "source": [
    "## 3.3 Boxplot\n",
    "\n",
    "Now we'll look at the distribution of penguins' body mass using boxplot. \n",
    "\n",
    "Seaborn's\n",
    "[`boxplot()`](https://seaborn.pydata.org/generated/seaborn.boxplot.html)\n",
    "function takes several parameters. \n",
    "Refer to the documentation [here](https://seaborn.pydata.org/generated/seaborn.boxplot.html) to learn more. \n",
    "\n",
    "Below you can see what the default boxplot looks like. We passed our dataset to the `data` parameter and the 'body_mass_g' feature as the input of the x parameter."
   ]
  },
  {
   "cell_type": "code",
   "execution_count": 0,
   "metadata": {
    "application/vnd.databricks.v1+cell": {
     "cellMetadata": {
      "byteLimit": 2048000,
      "rowLimit": 10000
     },
     "inputWidgets": {},
     "nuid": "d780f8b7-db47-4166-a4df-b64d9d3f4b6b",
     "showTitle": false,
     "title": ""
    }
   },
   "outputs": [],
   "source": [
    "# Boxplot of 'body_mass_g' variable\n",
    "\n",
    "plt.figure(figsize=(13,9))\n",
    "sns.boxplot(data = penguins, \n",
    "            x = 'body_mass_g');"
   ]
  },
  {
   "cell_type": "markdown",
   "metadata": {
    "application/vnd.databricks.v1+cell": {
     "cellMetadata": {},
     "inputWidgets": {},
     "nuid": "88610278-9b9e-4379-8713-2dad340c0eba",
     "showTitle": false,
     "title": ""
    }
   },
   "source": [
    "### 3.3.1 Customizing boxplots\n",
    "\n",
    "If you want to further customize a boxplot, you can do so with Matplotlib's help.\n",
    "\n",
    "Since Seaborn's boxplot is fancier version of Matplotlib's boxplot, you can again use the same parameters to control boxplot's appearance. For example, changing the style of box (`boxprops`), whiskers (`whiskerprops`), emphasizing median value (`medianprops`) or outliers (`flierprops`) if present. \n",
    "\n",
    "You can specify and pass these properties within a dictionary and then insert it into the boxplot plotting function. These `props` dictionaries refer to the class [`Line2D`](https://matplotlib.org/stable/api/_as_gen/matplotlib.lines.Line2D.html#matplotlib.lines.Line2D) and you can further customize those parameters  present in this class."
   ]
  },
  {
   "cell_type": "code",
   "execution_count": 0,
   "metadata": {
    "application/vnd.databricks.v1+cell": {
     "cellMetadata": {
      "byteLimit": 2048000,
      "rowLimit": 10000
     },
     "inputWidgets": {},
     "nuid": "a73ccdb1-ffea-454f-9e7b-ffb14ae2c2cd",
     "showTitle": false,
     "title": ""
    }
   },
   "outputs": [],
   "source": [
    "# Small customizations of boxplot\n",
    "\n",
    "plt.figure(figsize=(13,9))\n",
    "sns.boxplot(data = penguins, \n",
    "            y = 'body_mass_g',\n",
    "            color = 'cadetblue',\n",
    "            width = 0.2,\n",
    "            linewidth = 3,\n",
    "            medianprops={'color':'white'});"
   ]
  },
  {
   "cell_type": "markdown",
   "metadata": {
    "application/vnd.databricks.v1+cell": {
     "cellMetadata": {},
     "inputWidgets": {},
     "nuid": "15e504c4-8c06-44e4-96ec-5971fe4b3ccc",
     "showTitle": false,
     "title": ""
    }
   },
   "source": [
    "In our example we customize the color, the width of the boxplot and the width of the lines. Changing the color of the line presenting the median value can be useful in order to emphasize it."
   ]
  },
  {
   "cell_type": "code",
   "execution_count": 0,
   "metadata": {
    "application/vnd.databricks.v1+cell": {
     "cellMetadata": {
      "byteLimit": 2048000,
      "rowLimit": 10000
     },
     "inputWidgets": {},
     "nuid": "c0e4a4c0-6143-4d2a-920c-04b50e0e8c03",
     "showTitle": false,
     "title": ""
    }
   },
   "outputs": [],
   "source": [
    "# Some advanced customizations\n",
    "plt.figure(figsize=(13,9))\n",
    "\n",
    "box_cust = dict(color = '#834177',                # customizing properties of the box \n",
    "                alpha = 0.5, \n",
    "                linestyle = 'dashed', \n",
    "                linewidth = 6)\n",
    "\n",
    "whisker_cust = dict(color = '#000184',            # customizing properties of whiskers\n",
    "                    alpha = 0.9,                  # the transparency\n",
    "                    linestyle = 'dotted',         # the style of the line\n",
    "                    linewidth = 3,                # the width of the line\n",
    "                    dash_capstyle = 'projecting') # setting the cap style for dashed line\n",
    "\n",
    "median_cust = dict(color = '#ff7f0e',\n",
    "                  alpha = 0.9,\n",
    "                  linestyle = 'dashdot',\n",
    "                  linewidth = 5)\n",
    "\n",
    "ax = sns.boxplot(data = penguins, \n",
    "                y = 'flipper_length_mm',\n",
    "                width = 0.2,\n",
    "                linewidth = 3,\n",
    "                boxprops = box_cust,\n",
    "                whiskerprops = whisker_cust,\n",
    "                medianprops = median_cust,\n",
    "                notch = True);                    # noteched boxplot (notch represent the confidence interval around median) "
   ]
  },
  {
   "cell_type": "code",
   "execution_count": 0,
   "metadata": {
    "application/vnd.databricks.v1+cell": {
     "cellMetadata": {
      "byteLimit": 2048000,
      "rowLimit": 10000
     },
     "inputWidgets": {},
     "nuid": "11075d08-ca6f-41a9-ac18-22c89d6366d5",
     "showTitle": false,
     "title": ""
    }
   },
   "outputs": [],
   "source": [
    "# TASK 2 >>> Create a boxplot of the 'bill_length_mm' feature\n",
    "#        >>> Create a figure and set its size to (13,9)\n",
    "#        >>> Set color as hexadecimal code: '#98D8D8',\n",
    "#        >>> Set width of a box to 0.3\n",
    "#        >>> Set width of a line to 1\n",
    "#        >>> Change a color of median line to be yellow and line width: 3 \n",
    "#            (you can specify medianprops properties within boxplot() function or outside this function)\n",
    "\n",
    "plt.figure(figsize=(13,9))\n",
    "sns.boxplot(data = penguins, \n",
    "            y = 'bill_length_mm', \n",
    "            color = '#98D8D8', \n",
    "            width = 0.3, \n",
    "            linewidth = 1, \n",
    "            medianprops={'color':'yellow','linewidth':3});"
   ]
  },
  {
   "cell_type": "markdown",
   "metadata": {
    "application/vnd.databricks.v1+cell": {
     "cellMetadata": {},
     "inputWidgets": {},
     "nuid": "e09a4475-5794-48e0-85eb-937bbf5f013c",
     "showTitle": false,
     "title": ""
    }
   },
   "source": [
    "## 3.4 Swarmplot\n",
    "\n",
    "The [`swarmplot()`](https://seaborn.pydata.org/generated/seaborn.swarmplot.html)\n",
    "plotting function is useful if we want to better see the distribution of the values. \n",
    "In this case, each data point will be drawn and adjusted to avoid overlapping of values.\n",
    "You can, of course, create a swarmplot on its own, but it's nice to see drawn values on the top of distribution created with boxplot. \n",
    "\n",
    "There is one disadvantage of the swarmplot: if you have dataset with large number of observations, let's say in thousands, there will be a huge overlap of data points. \n",
    "We can, however, take a random sample of only a few percent of points to be able to utilize the swarmplot. \n",
    "In such case, do not forget to mention next to your visual that the swarmplot displays only a subsample of data. \n",
    "In the case of the penguins dataset, swarmplot is a good choice of plotting method and we can nicely see the drawn observations."
   ]
  },
  {
   "cell_type": "code",
   "execution_count": 0,
   "metadata": {
    "application/vnd.databricks.v1+cell": {
     "cellMetadata": {
      "byteLimit": 2048000,
      "rowLimit": 10000
     },
     "inputWidgets": {},
     "nuid": "f261f749-aa9a-4bfb-b6ec-c88bf6d3755e",
     "showTitle": false,
     "title": ""
    }
   },
   "outputs": [],
   "source": [
    "# Distribution of data displayed with boxplot and swarmplot\n",
    "\n",
    "plt.figure(figsize=(13,9))\n",
    "sns.boxplot(data = penguins,\n",
    "            y = 'body_mass_g',\n",
    "            color = 'skyblue',\n",
    "            width = 0.2,\n",
    "            linewidth = 1)\n",
    "sns.swarmplot(data = penguins, \n",
    "              y = 'body_mass_g',\n",
    "              color = 'white',\n",
    "              edgecolor = 'violet',    # the color of line around data point\n",
    "              linewidth = 1);          # The width of line that frame data point"
   ]
  },
  {
   "cell_type": "code",
   "execution_count": 0,
   "metadata": {
    "application/vnd.databricks.v1+cell": {
     "cellMetadata": {
      "byteLimit": 2048000,
      "rowLimit": 10000
     },
     "inputWidgets": {},
     "nuid": "974c1b53-3c08-43f7-afea-736fc2b85fcf",
     "showTitle": false,
     "title": ""
    }
   },
   "outputs": [],
   "source": [
    "# TASK 3 >>> Create a swarmplot of the 'bill_depth_mm' feature\n",
    "#        >>> Create a figure and set its size to (13,9)\n",
    "#        >>> Set the color of the data points to 'coral'\n",
    "\n",
    "plt.figure(figsize=(13,9))\n",
    "sns.swarmplot(data = penguins, \n",
    "              y = 'bill_depth_mm', \n",
    "              color = 'coral');"
   ]
  },
  {
   "cell_type": "markdown",
   "metadata": {
    "application/vnd.databricks.v1+cell": {
     "cellMetadata": {},
     "inputWidgets": {},
     "nuid": "0e4bccdd-760e-4f03-b937-cba8b06e1b98",
     "showTitle": false,
     "title": ""
    }
   },
   "source": [
    "> Could you exactly say where the majority of data points lie based on the drawn data points? Sometimes, judging the distribution's shape from swarmplot can be tricky. To be sure, it's better to create a swarmplot in conjunction with a boxplot."
   ]
  },
  {
   "cell_type": "code",
   "execution_count": 0,
   "metadata": {
    "application/vnd.databricks.v1+cell": {
     "cellMetadata": {
      "byteLimit": 2048000,
      "rowLimit": 10000
     },
     "inputWidgets": {},
     "nuid": "eefc101b-f3fc-4b3a-b0f5-d3476e6f9918",
     "showTitle": false,
     "title": ""
    }
   },
   "outputs": [],
   "source": [
    "# TASK 4 >>> Create a boxplot of the 'bill_depth_mm' feature\n",
    "#        >>> Create a figure and set its size to (13,9)\n",
    "#        >>> Set the width of boxplot to 0.2, the width of the line to 3 and the color to 'white'\n",
    "#        >>> Plot a swarmplot right after the boxplot (just copy and paste the line of code you created in TASK 3\n",
    "\n",
    "plt.figure(figsize=(13,9))\n",
    "sns.boxplot(data = penguins, \n",
    "            y = 'bill_depth_mm', \n",
    "            width = 0.2, \n",
    "            color = 'white', \n",
    "            linewidth = 3)\n",
    "sns.swarmplot(data = penguins, \n",
    "              y = 'bill_depth_mm', \n",
    "              color = 'coral');"
   ]
  },
  {
   "cell_type": "markdown",
   "metadata": {
    "application/vnd.databricks.v1+cell": {
     "cellMetadata": {},
     "inputWidgets": {},
     "nuid": "625c4bd4-f21a-4e1e-befd-a31b9c296fbf",
     "showTitle": false,
     "title": ""
    }
   },
   "source": [
    "## 3.5 Stripplot\n",
    "\n",
    "[Stripplots](https://seaborn.pydata.org/generated/seaborn.stripplot.html) are very similar to swarmplots since they also show all of the data. \n",
    "There is the same disadvantage of the data overlapping, but you can add some random noise (jitter) among values. \n",
    "Sometimes it's hard to tell what the distribution of the data is without additional representation of the underlying distribution (for instance, created with a boxplot). \n",
    "\n",
    "You can change the amount of jitter using the `jitter` parameter where you have 2 options:\n",
    "- set `jitter = True` for a good default amount of jitter\n",
    "- specify amount of jitter \n",
    "\n",
    "Stripplots can be useful for indicating outliers in the data, too."
   ]
  },
  {
   "cell_type": "code",
   "execution_count": 0,
   "metadata": {
    "application/vnd.databricks.v1+cell": {
     "cellMetadata": {
      "byteLimit": 2048000,
      "rowLimit": 10000
     },
     "inputWidgets": {},
     "nuid": "7234a32e-6d22-4e58-830e-033b077d1ffd",
     "showTitle": false,
     "title": ""
    }
   },
   "outputs": [],
   "source": [
    "# Stripplot of the 'body_mass_g' feature\n",
    "\n",
    "plt.figure(figsize=(13,9))\n",
    "sns.stripplot(data = penguins, \n",
    "              x = 'body_mass_g', \n",
    "              color = 'green', \n",
    "              jitter = 0.2, \n",
    "              size = 6);"
   ]
  },
  {
   "cell_type": "markdown",
   "metadata": {
    "application/vnd.databricks.v1+cell": {
     "cellMetadata": {},
     "inputWidgets": {},
     "nuid": "7bb47b39-2894-49fe-8fa8-25596c7b9a75",
     "showTitle": false,
     "title": ""
    }
   },
   "source": [
    "Since we do not have so many observations, we can better estimate the distribution of the data because the data poins do not overlap. Here, we can take into consideration the density of the data points which can gives us a good approximation of the shape. There are more data points in the range of 3200-3800 grams compared to the rest of data points. After that, the data points become more sparse. Based on that, we would say that the distribution seems to be right-skewed. In most cases, it would not be appropriate to assume the distribution only from the stripplot because it can be misleading. Therefore, always visualize the data using several plotting approaches."
   ]
  },
  {
   "cell_type": "markdown",
   "metadata": {
    "application/vnd.databricks.v1+cell": {
     "cellMetadata": {},
     "inputWidgets": {},
     "nuid": "8140e106-fb8c-429a-a5d3-cc38ab76f363",
     "showTitle": false,
     "title": ""
    }
   },
   "source": [
    "# 4. Categorical variables"
   ]
  },
  {
   "cell_type": "markdown",
   "metadata": {
    "application/vnd.databricks.v1+cell": {
     "cellMetadata": {},
     "inputWidgets": {},
     "nuid": "a4b35dcb-2b4a-489e-aa01-3bad0b0cf6f4",
     "showTitle": false,
     "title": ""
    }
   },
   "source": [
    "## 4.1 Catplot\n",
    "\n",
    "To create a visualization of a categorical variable you can use the\n",
    "[`catplot()`](https://seaborn.pydata.org/generated/seaborn.catplot.html)\n",
    "plotting function. \n",
    "This is a Figure-level interface which allows you to specify a certain plot type such as boxplot using the `kind` parameter. \n",
    "\n",
    "For example, if you want to visualize the number of occurences of observations based on the specific category the code would be:"
   ]
  },
  {
   "cell_type": "code",
   "execution_count": 0,
   "metadata": {
    "application/vnd.databricks.v1+cell": {
     "cellMetadata": {
      "byteLimit": 2048000,
      "rowLimit": 10000
     },
     "inputWidgets": {},
     "nuid": "f40b59d4-dd51-469d-95e7-1e54c7a26f6f",
     "showTitle": false,
     "title": ""
    }
   },
   "outputs": [],
   "source": [
    "# The count of penguins based on the island\n",
    "\n",
    "sns.catplot(data = penguins,\n",
    "           x = 'island',\n",
    "           kind = 'count',\n",
    "           height = 6.5,\n",
    "           aspect = 1.3);"
   ]
  },
  {
   "cell_type": "markdown",
   "metadata": {
    "application/vnd.databricks.v1+cell": {
     "cellMetadata": {},
     "inputWidgets": {},
     "nuid": "ef297c37-cc17-479f-8bb5-b0ce86a32e49",
     "showTitle": false,
     "title": ""
    }
   },
   "source": [
    "This is the default output of a countplot. The visual appearance of a countplot is similar to a histogram, the values are placed within the respective bars."
   ]
  },
  {
   "cell_type": "markdown",
   "metadata": {
    "application/vnd.databricks.v1+cell": {
     "cellMetadata": {},
     "inputWidgets": {},
     "nuid": "5c39cad1-7590-4792-a499-947a99b3f35b",
     "showTitle": false,
     "title": ""
    }
   },
   "source": [
    "## 4.2 Countplot\n",
    "\n",
    "Alternatively, we can use the Axis-level ploting function [`sns.countplot()`](https://seaborn.pydata.org/generated/seaborn.countplot.html)."
   ]
  },
  {
   "cell_type": "code",
   "execution_count": 0,
   "metadata": {
    "application/vnd.databricks.v1+cell": {
     "cellMetadata": {
      "byteLimit": 2048000,
      "rowLimit": 10000
     },
     "inputWidgets": {},
     "nuid": "bcccff3e-ffe0-400e-90be-a7cd3c233d1e",
     "showTitle": false,
     "title": ""
    }
   },
   "outputs": [],
   "source": [
    "# Create a countplot of the 'island' feature\n",
    "\n",
    "plt.figure(figsize = (13,9))\n",
    "ax = sns.countplot(data = penguins, \n",
    "                   x = 'island',\n",
    "                   order = penguins.island.value_counts().index, # Order categories by their value counts\n",
    "                   palette = 'Paired')\n",
    "ax.set(title = 'Count of penguins based on the island', \n",
    "       xlabel = 'The island',\n",
    "       ylabel = 'Count');"
   ]
  },
  {
   "cell_type": "markdown",
   "metadata": {
    "application/vnd.databricks.v1+cell": {
     "cellMetadata": {},
     "inputWidgets": {},
     "nuid": "715b8055-e75c-42dc-b0e1-633376fc55e5",
     "showTitle": false,
     "title": ""
    }
   },
   "source": [
    "Here we order the categories based on their values in descending order. Another way to change the order based on your preference is to define categories in the list:\n",
    "```\n",
    "order = ['Biscoe','Dream','Torgersen']\n",
    "```\n",
    "\n",
    "All of customizations we did are applicable also with `catplot()`."
   ]
  },
  {
   "cell_type": "code",
   "execution_count": 0,
   "metadata": {
    "application/vnd.databricks.v1+cell": {
     "cellMetadata": {
      "byteLimit": 2048000,
      "rowLimit": 10000
     },
     "inputWidgets": {},
     "nuid": "1c5d8bf2-fe32-413d-9b76-25498c7e285b",
     "showTitle": false,
     "title": ""
    }
   },
   "outputs": [],
   "source": [
    "# TASK 5 >>> Display the count of penguins with respect to the species\n",
    "#        >>> Use the catplot() plotting function\n",
    "#        >>> Order the species in the following way: Chinstrap, Adelie, Gentoo\n",
    "#        >>> Set the saturation of colors to 0.3\n",
    "#        >>> Change the size of the figure:\n",
    "#            parameter: height = 6.5\n",
    "#            parameter: aspect = 1.3\n",
    "#        >>> Set the title to 'Count of penguins based on species'\n",
    "\n",
    "sns.catplot(data = penguins,\n",
    "           x = 'species',\n",
    "           kind = 'count',\n",
    "           order = ['Chinstrap','Adelie','Gentoo'],\n",
    "           palette = 'Set2',\n",
    "           saturation = 0.3,\n",
    "           height = 6.5,\n",
    "           aspect = 1.3)\n",
    "plt.title('Count of penguins based on species');"
   ]
  },
  {
   "cell_type": "markdown",
   "metadata": {
    "application/vnd.databricks.v1+cell": {
     "cellMetadata": {},
     "inputWidgets": {},
     "nuid": "3b9edf5c-cb50-43bf-b252-e0e6d96e5300",
     "showTitle": false,
     "title": ""
    }
   },
   "source": [
    "# 5. Tasks\n",
    "\n",
    "Now it's your turn to create some visualization of the Bank Marketing dataset. The data is related to a marketing campaign of a Portuguese banking institution that was performed via phone communication with clients of the bank. Let's look at attributes and do some preprocessing. \n",
    "\n",
    "**Attributes explanation:**\n",
    "\n",
    "Bank client data:\n",
    "- `age`\n",
    "- `job` : type of job\n",
    "- `marital` : marital status\n",
    "- `education`\n",
    "- `default`: has credit in default?\n",
    "- `housing`: has housing loan?\n",
    "- `loan`: has personal loan?\n",
    "\n",
    "Related with the last contact of the current campaign:\n",
    "- `contact`: contact communication type\n",
    "- `month`: last contact month of year\n",
    "- `day_of_week`: last contact day of the week\n",
    "- `duration`: last contact duration, in seconds (numeric). Important note: this attribute highly affects the output target (e.g., if duration=0 then y='no'). Yet, the duration is not known before a call is performed. Also, after the end of the call y is obviously known. Thus, this input should only be included for benchmark purposes and should be discarded if the intention is to have a realistic predictive model.\n",
    "\n",
    "Other attributes:\n",
    "- `campaign`: number of contacts performed during this campaign and for this client\n",
    "- `pdays`: number of days that passed by after the client was last contacted from a previous campaign (999 means client was not previously contacted)\n",
    "- `previous`: number of contacts performed before this campaign and for this client\n",
    "- `poutcome`: outcome of the previous marketing campaign\n",
    "\n",
    "Social and economic context attributes\n",
    "- `emp.var.rate`: employment variation rate - quarterly indicator\n",
    "- `cons.price.idx`: consumer price index - monthly indicator\n",
    "- `cons.conf.idx`: consumer confidence index - monthly indicator\n",
    "- `euribor3m`: euribor 3 month rate - daily indicator\n",
    "it is calculated by eliminating the highest 15% and the lowest 15% of the interest rates submitted and calculating the arithmetic mean of the remaining values\n",
    "- `nr.employed`: number of employees - quarterly indicator\n",
    "\n",
    "Target variable:\n",
    "- `y`: has the client subscribed to a term deposit?"
   ]
  },
  {
   "cell_type": "markdown",
   "metadata": {
    "application/vnd.databricks.v1+cell": {
     "cellMetadata": {},
     "inputWidgets": {},
     "nuid": "18088404-d542-44df-8119-dcc1c13cc6cf",
     "showTitle": false,
     "title": ""
    }
   },
   "source": [
    "## 5.1 Loading data, preprocessing"
   ]
  },
  {
   "cell_type": "code",
   "execution_count": 0,
   "metadata": {
    "application/vnd.databricks.v1+cell": {
     "cellMetadata": {
      "byteLimit": 2048000,
      "rowLimit": 10000
     },
     "inputWidgets": {},
     "nuid": "4712b3e5-35b6-4883-b599-7408ab5df1c2",
     "showTitle": false,
     "title": ""
    }
   },
   "outputs": [],
   "source": [
    "# Load the data \n",
    "data = pd.read_csv('../../Data/bank_data.csv',sep = ';')\n",
    "data.head()"
   ]
  },
  {
   "cell_type": "code",
   "execution_count": 0,
   "metadata": {
    "application/vnd.databricks.v1+cell": {
     "cellMetadata": {
      "byteLimit": 2048000,
      "rowLimit": 10000
     },
     "inputWidgets": {},
     "nuid": "fcfdc525-24f9-4a11-8e21-5749c2a1b5b7",
     "showTitle": false,
     "title": ""
    }
   },
   "outputs": [],
   "source": [
    "# Let's rename some of variables\n",
    "data.rename(columns = {'marital':'marital_status','default':'default_credit','housing':'house_loan',\n",
    "                      'contact':'contact_type','duration':'contact_duration','campaign':'number_of_contacts',\n",
    "                      'pdays':'days_passed','previous':'number_previous_contact','poutcome':'previous_campaign_outcome',\n",
    "                      'emp.var.rate':'emp_variation_rate','cons.price.idx':'cpi','cons.conf.idx':\n",
    "                      'cci','euribor3m':'euribor_rate','nr.employed':'no_employees','y':'target'},\n",
    "           inplace = True)"
   ]
  },
  {
   "cell_type": "code",
   "execution_count": 0,
   "metadata": {
    "application/vnd.databricks.v1+cell": {
     "cellMetadata": {
      "byteLimit": 2048000,
      "rowLimit": 10000
     },
     "inputWidgets": {},
     "nuid": "740d1322-657f-481b-9f53-7d2c6de79f7a",
     "showTitle": false,
     "title": ""
    }
   },
   "outputs": [],
   "source": [
    "# Examine summary statistics\n",
    "data.describe()"
   ]
  },
  {
   "cell_type": "code",
   "execution_count": 0,
   "metadata": {
    "application/vnd.databricks.v1+cell": {
     "cellMetadata": {
      "byteLimit": 2048000,
      "rowLimit": 10000
     },
     "inputWidgets": {},
     "nuid": "1ed2f4ee-1907-4da4-b4d8-9119e97f4517",
     "showTitle": false,
     "title": ""
    }
   },
   "outputs": [],
   "source": [
    "# Check for missing values\n",
    "data.isnull().sum()"
   ]
  },
  {
   "cell_type": "code",
   "execution_count": 0,
   "metadata": {
    "application/vnd.databricks.v1+cell": {
     "cellMetadata": {
      "byteLimit": 2048000,
      "rowLimit": 10000
     },
     "inputWidgets": {},
     "nuid": "b88eedc3-9198-4ac0-8cee-96adca9810f6",
     "showTitle": false,
     "title": ""
    }
   },
   "outputs": [],
   "source": [
    "# Check for duplicated data\n",
    "duplicated_rows = data[data.duplicated()]\n",
    "duplicated_rows"
   ]
  },
  {
   "cell_type": "markdown",
   "metadata": {
    "application/vnd.databricks.v1+cell": {
     "cellMetadata": {},
     "inputWidgets": {},
     "nuid": "2810082a-6c02-42c8-ad8c-6de6a3c1e1dc",
     "showTitle": false,
     "title": ""
    }
   },
   "source": [
    "There are 12 duplicated rows in the dataset that need to be removed."
   ]
  },
  {
   "cell_type": "code",
   "execution_count": 0,
   "metadata": {
    "application/vnd.databricks.v1+cell": {
     "cellMetadata": {
      "byteLimit": 2048000,
      "rowLimit": 10000
     },
     "inputWidgets": {},
     "nuid": "7a7215cc-9616-45da-989c-0bdfaecc24e9",
     "showTitle": false,
     "title": ""
    }
   },
   "outputs": [],
   "source": [
    "# Remove duplicated rows\n",
    "\n",
    "data.drop_duplicates(inplace = True)"
   ]
  },
  {
   "cell_type": "code",
   "execution_count": 0,
   "metadata": {
    "application/vnd.databricks.v1+cell": {
     "cellMetadata": {
      "byteLimit": 2048000,
      "rowLimit": 10000
     },
     "inputWidgets": {},
     "nuid": "8df15bc4-896d-4758-befd-68ff92188797",
     "showTitle": false,
     "title": ""
    }
   },
   "outputs": [],
   "source": [
    "# Examine data types of variables\n",
    "\n",
    "data.dtypes"
   ]
  },
  {
   "cell_type": "markdown",
   "metadata": {
    "application/vnd.databricks.v1+cell": {
     "cellMetadata": {},
     "inputWidgets": {},
     "nuid": "1c0941ce-affa-408e-ab45-caf04ab59344",
     "showTitle": false,
     "title": ""
    }
   },
   "source": [
    "It seems that the data type of the numerical features has been correctly recognized by Python. All non-numerical features have the _object_ data type, so let's  convert them to categories."
   ]
  },
  {
   "cell_type": "code",
   "execution_count": 0,
   "metadata": {
    "application/vnd.databricks.v1+cell": {
     "cellMetadata": {
      "byteLimit": 2048000,
      "rowLimit": 10000
     },
     "inputWidgets": {},
     "nuid": "ddf3b03d-f427-4b09-ba57-82bf78a5fac2",
     "showTitle": false,
     "title": ""
    }
   },
   "outputs": [],
   "source": [
    "# Select all variables that need to be converted\n",
    "\n",
    "to_category = ['job','marital_status','education','default_credit','house_loan', \n",
    "               'loan','contact_type','month','day_of_week', 'previous_campaign_outcome']"
   ]
  },
  {
   "cell_type": "code",
   "execution_count": 0,
   "metadata": {
    "application/vnd.databricks.v1+cell": {
     "cellMetadata": {
      "byteLimit": 2048000,
      "rowLimit": 10000
     },
     "inputWidgets": {},
     "nuid": "a33dd5ae-e72d-4b7f-8339-d06e3a96912a",
     "showTitle": false,
     "title": ""
    }
   },
   "outputs": [],
   "source": [
    "# Convert them to the category data type\n",
    "\n",
    "for col in to_category:\n",
    "    data[col] = data[col].astype('category')"
   ]
  },
  {
   "cell_type": "markdown",
   "metadata": {
    "application/vnd.databricks.v1+cell": {
     "cellMetadata": {},
     "inputWidgets": {},
     "nuid": "8663af61-921d-4e27-aa18-ef02d39c7903",
     "showTitle": false,
     "title": ""
    }
   },
   "source": [
    "Days and months are recorded as their abbreviations. Let's map them to their full name."
   ]
  },
  {
   "cell_type": "code",
   "execution_count": 0,
   "metadata": {
    "application/vnd.databricks.v1+cell": {
     "cellMetadata": {
      "byteLimit": 2048000,
      "rowLimit": 10000
     },
     "inputWidgets": {},
     "nuid": "76c44589-6ed2-4050-a1b9-0e7025428b92",
     "showTitle": false,
     "title": ""
    }
   },
   "outputs": [],
   "source": [
    "# Create a dictionary with original values and corresponding new values for days\n",
    "\n",
    "mapping_days = {'mon':'Monday','tue':'Tuesday','wed':'Wednesday','thu':'Thursday','fri':'Friday'}"
   ]
  },
  {
   "cell_type": "code",
   "execution_count": 0,
   "metadata": {
    "application/vnd.databricks.v1+cell": {
     "cellMetadata": {
      "byteLimit": 2048000,
      "rowLimit": 10000
     },
     "inputWidgets": {},
     "nuid": "fb734cc4-c1d6-4a5d-bcdf-75b47aff73ca",
     "showTitle": false,
     "title": ""
    }
   },
   "outputs": [],
   "source": [
    "# Map the new values to the column 'day_of_week'\n",
    "\n",
    "data.day_of_week = data.day_of_week.map(mapping_days)"
   ]
  },
  {
   "cell_type": "code",
   "execution_count": 0,
   "metadata": {
    "application/vnd.databricks.v1+cell": {
     "cellMetadata": {
      "byteLimit": 2048000,
      "rowLimit": 10000
     },
     "inputWidgets": {},
     "nuid": "fae5c6c5-255d-448d-99a9-a690b683dccc",
     "showTitle": false,
     "title": ""
    }
   },
   "outputs": [],
   "source": [
    "# Create a dictionary with the original values and the corresponding new values for the months\n",
    "\n",
    "mapping_months = {'mar':'March', 'apr':'April','may':'May','jun':'Jun','jul':'Jul','aug':'August',\n",
    "                  'sep':'September','oct':'October','nov':'November','dec':'December'}"
   ]
  },
  {
   "cell_type": "code",
   "execution_count": 0,
   "metadata": {
    "application/vnd.databricks.v1+cell": {
     "cellMetadata": {
      "byteLimit": 2048000,
      "rowLimit": 10000
     },
     "inputWidgets": {},
     "nuid": "0ae33a78-683e-4d10-864b-45dbaf8c16f3",
     "showTitle": false,
     "title": ""
    }
   },
   "outputs": [],
   "source": [
    "# Map the new values to the column 'month'\n",
    "data.month = data.month.map(mapping_months)"
   ]
  },
  {
   "cell_type": "markdown",
   "metadata": {
    "application/vnd.databricks.v1+cell": {
     "cellMetadata": {},
     "inputWidgets": {},
     "nuid": "85dcd3ba-f9ea-4f4c-a259-270d0c67f971",
     "showTitle": false,
     "title": ""
    }
   },
   "source": [
    "## 5.2 Numerical variables\n",
    "\n",
    "Let's start with the numerical features and explore the distribution of the data points."
   ]
  },
  {
   "cell_type": "code",
   "execution_count": 0,
   "metadata": {
    "application/vnd.databricks.v1+cell": {
     "cellMetadata": {
      "byteLimit": 2048000,
      "rowLimit": 10000
     },
     "inputWidgets": {},
     "nuid": "d18936a6-d087-4b30-8984-25501e07210b",
     "showTitle": false,
     "title": ""
    }
   },
   "outputs": [],
   "source": [
    "# TASK 6 >>> Create a histogram of 'age' variable\n",
    "#        >>> Set parameters: height = 6.5, aspect = 1.3\n",
    "#        >>> Set the number of bins to 25\n",
    "#        >>> Set the title: 'Age distribution'\n",
    "\n",
    "sns.displot(data = data,\n",
    "            x = 'age', \n",
    "            bins = 25,\n",
    "            height = 6.5,\n",
    "            aspect = 1.3)\n",
    "plt.title('Age distribution');"
   ]
  },
  {
   "cell_type": "code",
   "execution_count": 0,
   "metadata": {
    "application/vnd.databricks.v1+cell": {
     "cellMetadata": {
      "byteLimit": 2048000,
      "rowLimit": 10000
     },
     "inputWidgets": {},
     "nuid": "4486ec21-815f-442e-b13d-1612452371a7",
     "showTitle": false,
     "title": ""
    }
   },
   "outputs": [],
   "source": [
    "# TASK 7 >>> Create a boxplot of the 'age' feature\n",
    "#        >>> Set a the figure size to (13,9)\n",
    "#        >>> Assign variable 'age' to the y parameter\n",
    "#        >>> Set the width of the boxplot to 0.3\n",
    "\n",
    "plt.figure(figsize = (13,9))\n",
    "sns.boxplot(data = data, \n",
    "            y = 'age', \n",
    "            width = 0.3);"
   ]
  },
  {
   "cell_type": "markdown",
   "metadata": {
    "application/vnd.databricks.v1+cell": {
     "cellMetadata": {},
     "inputWidgets": {},
     "nuid": "bb6c12ce-0ade-48f6-98a1-3bfadbb737cd",
     "showTitle": false,
     "title": ""
    }
   },
   "source": [
    "The values of the feature `contact_duration` are recorded in seconds. Run the line below to convert them to minutes."
   ]
  },
  {
   "cell_type": "code",
   "execution_count": 0,
   "metadata": {
    "application/vnd.databricks.v1+cell": {
     "cellMetadata": {
      "byteLimit": 2048000,
      "rowLimit": 10000
     },
     "inputWidgets": {},
     "nuid": "edac9c68-191c-4e64-b5b6-1fe91fb19399",
     "showTitle": false,
     "title": ""
    }
   },
   "outputs": [],
   "source": [
    "# Converting seconds to minutes\n",
    "data.contact_duration = data.contact_duration.apply(lambda x: x / 60)"
   ]
  },
  {
   "cell_type": "code",
   "execution_count": 0,
   "metadata": {
    "application/vnd.databricks.v1+cell": {
     "cellMetadata": {
      "byteLimit": 2048000,
      "rowLimit": 10000
     },
     "inputWidgets": {},
     "nuid": "d45e673a-67d3-4c43-a429-341fe713edc1",
     "showTitle": false,
     "title": ""
    }
   },
   "outputs": [],
   "source": [
    "# TASK 8 >>> Create a histogram of 'contact_duration'\n",
    "#        >>> Set the width of the bins to 0.5, so every bin contains a call duration of 50 seconds\n",
    "\n",
    "sns.displot(data = data, \n",
    "            x = 'contact_duration', \n",
    "            binwidth = 0.5);"
   ]
  },
  {
   "cell_type": "markdown",
   "metadata": {
    "application/vnd.databricks.v1+cell": {
     "cellMetadata": {},
     "inputWidgets": {},
     "nuid": "4c541a1b-26fa-4385-9cca-5b5441052a2c",
     "showTitle": false,
     "title": ""
    }
   },
   "source": [
    "There are some records where no call was performed, so the corresponding values are of value 0. \n",
    "Let's take a look at the rows with no recorded duration. We will drop them since they do not provide us with any useful information."
   ]
  },
  {
   "cell_type": "code",
   "execution_count": 0,
   "metadata": {
    "application/vnd.databricks.v1+cell": {
     "cellMetadata": {
      "byteLimit": 2048000,
      "rowLimit": 10000
     },
     "inputWidgets": {},
     "nuid": "12e91c75-81dd-4c4b-9394-8590cfbf2743",
     "showTitle": false,
     "title": ""
    }
   },
   "outputs": [],
   "source": [
    "# Print only those rows where 'contact_duration' is 0\n",
    "data[data['contact_duration'] == 0]"
   ]
  },
  {
   "cell_type": "code",
   "execution_count": 0,
   "metadata": {
    "application/vnd.databricks.v1+cell": {
     "cellMetadata": {
      "byteLimit": 2048000,
      "rowLimit": 10000
     },
     "inputWidgets": {},
     "nuid": "42d513c4-2ed8-423d-943b-e2b785ae7329",
     "showTitle": false,
     "title": ""
    }
   },
   "outputs": [],
   "source": [
    "# Get the index of rows that should be dropped\n",
    "index_rows_to_drop = data[data['contact_duration'] == 0].index"
   ]
  },
  {
   "cell_type": "code",
   "execution_count": 0,
   "metadata": {
    "application/vnd.databricks.v1+cell": {
     "cellMetadata": {
      "byteLimit": 2048000,
      "rowLimit": 10000
     },
     "inputWidgets": {},
     "nuid": "1c6c336f-9232-472e-89b3-0b55b8ee0416",
     "showTitle": false,
     "title": ""
    }
   },
   "outputs": [],
   "source": [
    "# Drop these rows from the dataframe\n",
    "data.drop(index_rows_to_drop, inplace = True)"
   ]
  },
  {
   "cell_type": "code",
   "execution_count": 0,
   "metadata": {
    "application/vnd.databricks.v1+cell": {
     "cellMetadata": {
      "byteLimit": 2048000,
      "rowLimit": 10000
     },
     "inputWidgets": {},
     "nuid": "04f661e7-73a2-44db-8761-c68aca91c1d0",
     "showTitle": false,
     "title": ""
    }
   },
   "outputs": [],
   "source": [
    "# TASK 9 >>> Recreate a histogram of 'contact_duration'\n",
    "#        >>> Set parameters: height = 6.5, aspect = 1.3\n",
    "#        >>> Zoom in and set the x-axis limit from 0.5 to 25 minutes\n",
    "#        >>> Set the title: 'Call duration up to 25 min'\n",
    "\n",
    "sns.displot(data = data, \n",
    "            x = 'contact_duration',\n",
    "            height = 6.5, \n",
    "            aspect = 1.3)\n",
    "plt.xlim(0.5,25)\n",
    "plt.title('Call duration up to 25 min');"
   ]
  },
  {
   "cell_type": "markdown",
   "metadata": {
    "application/vnd.databricks.v1+cell": {
     "cellMetadata": {},
     "inputWidgets": {},
     "nuid": "6ab7b032-980f-4c83-b8ed-15e31b1ba0a7",
     "showTitle": false,
     "title": ""
    }
   },
   "source": [
    "We already saw that the distribution of data points can be visualized using a stripplot. When we plotted some feature of the penguins dataset, we could nicely observe each data point in the figure and there was minimal overlap of values. Now we create a stripplot of the 'contact_duration' feature from the Bank marketing dataset to see how a stripplot looks like when you have thousands of records available."
   ]
  },
  {
   "cell_type": "code",
   "execution_count": 0,
   "metadata": {
    "application/vnd.databricks.v1+cell": {
     "cellMetadata": {
      "byteLimit": 2048000,
      "rowLimit": 10000
     },
     "inputWidgets": {},
     "nuid": "26bd828e-3f5c-41de-beed-99ee6322a937",
     "showTitle": false,
     "title": ""
    }
   },
   "outputs": [],
   "source": [
    "# TASK 10 >>> Create a stripplot of the 'contact_duration' feature\n",
    "#         >>> Set a Figure size: (13,9)\n",
    "\n",
    "plt.figure(figsize = (13,9))\n",
    "sns.stripplot(data = data, \n",
    "              x = 'contact_duration');"
   ]
  },
  {
   "cell_type": "markdown",
   "metadata": {
    "application/vnd.databricks.v1+cell": {
     "cellMetadata": {},
     "inputWidgets": {},
     "nuid": "f653c0b4-5f7d-4681-b56c-97d2572f4d59",
     "showTitle": false,
     "title": ""
    }
   },
   "source": [
    "## 5.3 Categorical variables"
   ]
  },
  {
   "cell_type": "code",
   "execution_count": 0,
   "metadata": {
    "application/vnd.databricks.v1+cell": {
     "cellMetadata": {
      "byteLimit": 2048000,
      "rowLimit": 10000
     },
     "inputWidgets": {},
     "nuid": "f34ca023-322a-4112-a1ad-2b8a2e6dad56",
     "showTitle": false,
     "title": ""
    }
   },
   "outputs": [],
   "source": [
    "# TASK 11 >>> Create a countplot of the 'job' feature to see the client's job and corresponding counts\n",
    "#         >>> Set a the figure size to (13,9)\n",
    "#         >>> Order the counts by the most common job\n",
    "#         >>> Set the rotation of x-axis tick labels to 45 degrees using Matplotlib's xticks()\n",
    "#         >>> Set the color palette to 'Set3'\n",
    "\n",
    "plt.figure(figsize = (13,9))\n",
    "sns.countplot(data = data, \n",
    "              x = 'job', \n",
    "              order = data.job.value_counts(ascending = False).index, \n",
    "              palette = 'Set3')\n",
    "plt.xticks(rotation = 45);"
   ]
  },
  {
   "cell_type": "markdown",
   "metadata": {
    "application/vnd.databricks.v1+cell": {
     "cellMetadata": {},
     "inputWidgets": {},
     "nuid": "4f8671be-24e7-4f4c-959d-dd4b3606797b",
     "showTitle": false,
     "title": ""
    }
   },
   "source": [
    "Now we'll look at how many calls have been performed during the respective months. We are missing January in the dataset for some reason, but don't worry about it. To correctly visualize the months of the year we need to specify their order."
   ]
  },
  {
   "cell_type": "code",
   "execution_count": 0,
   "metadata": {
    "application/vnd.databricks.v1+cell": {
     "cellMetadata": {
      "byteLimit": 2048000,
      "rowLimit": 10000
     },
     "inputWidgets": {},
     "nuid": "687dd1d5-6fee-4adc-9d4d-f6c34a3abada",
     "showTitle": false,
     "title": ""
    }
   },
   "outputs": [],
   "source": [
    "# Unique categories\n",
    "month_order = ['February','March','April','May','Jun','Jul','August','September','October','November','December']"
   ]
  },
  {
   "cell_type": "code",
   "execution_count": 0,
   "metadata": {
    "application/vnd.databricks.v1+cell": {
     "cellMetadata": {
      "byteLimit": 2048000,
      "rowLimit": 10000
     },
     "inputWidgets": {},
     "nuid": "60f6d618-26e3-4c3d-ae1f-259af4c7238c",
     "showTitle": false,
     "title": ""
    }
   },
   "outputs": [],
   "source": [
    "# Creating CategoricalDtype\n",
    "order_cat = pd.api.types.CategoricalDtype(categories = month_order, ordered = True)"
   ]
  },
  {
   "cell_type": "code",
   "execution_count": 0,
   "metadata": {
    "application/vnd.databricks.v1+cell": {
     "cellMetadata": {
      "byteLimit": 2048000,
      "rowLimit": 10000
     },
     "inputWidgets": {},
     "nuid": "84614764-da9f-43bd-b1d8-d02c8fcd99fa",
     "showTitle": false,
     "title": ""
    }
   },
   "outputs": [],
   "source": [
    "# Change data type of month variable as order_cat data type\n",
    "data.month = data.month.astype(order_cat)"
   ]
  },
  {
   "cell_type": "code",
   "execution_count": 0,
   "metadata": {
    "application/vnd.databricks.v1+cell": {
     "cellMetadata": {
      "byteLimit": 2048000,
      "rowLimit": 10000
     },
     "inputWidgets": {},
     "nuid": "8d697ae6-f1a8-4782-95fe-3f39e3f68fc3",
     "showTitle": false,
     "title": ""
    }
   },
   "outputs": [],
   "source": [
    "# TASK 12 >>> Create a countplot of 'month' variable to see how many calls have been performed through the months\n",
    "#         >>> Set the figure size to (13,9)\n",
    "#         >>> Set the color palette to 'Pastel1'\n",
    "#         >>> Set the rotation of x-axis tick labels to 45 degrees using Matplotlib's xticks()\n",
    "\n",
    "plt.figure(figsize = (13,9))\n",
    "sns.countplot(data = data, \n",
    "              x = 'month', \n",
    "              # order = data.month.value_counts(ascending = False).index, \n",
    "              palette = 'Pastel1')\n",
    "plt.xticks(rotation = 45);"
   ]
  },
  {
   "cell_type": "markdown",
   "metadata": {
    "application/vnd.databricks.v1+cell": {
     "cellMetadata": {},
     "inputWidgets": {},
     "nuid": "cf0efc3c-bb98-4a70-8a26-95b7d6c3feb7",
     "showTitle": false,
     "title": ""
    }
   },
   "source": [
    "## Citation request:\n",
    "\n",
    "[Moro et al., 2014] S. Moro, P. Cortez and P. Rita. A Data-Driven Approach to Predict the Success of Bank Telemarketing. Decision Support Systems, Elsevier, 62:22-31, June 2014\n",
    "\n",
    "Material adapted for RBI internal purposes with full permissions from original authors."
   ]
  }
 ],
 "metadata": {
  "application/vnd.databricks.v1+notebook": {
   "dashboards": [],
   "environmentMetadata": null,
   "language": "python",
   "notebookMetadata": {
    "pythonIndentUnit": 2
   },
   "notebookName": "[Answer]3_Univariate_Analysis_with_Seaborn_jupyter",
   "widgets": {}
  }
 },
 "nbformat": 4,
 "nbformat_minor": 0
}
