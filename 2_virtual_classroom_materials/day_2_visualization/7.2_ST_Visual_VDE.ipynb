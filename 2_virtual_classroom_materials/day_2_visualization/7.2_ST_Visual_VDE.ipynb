{
 "cells": [
  {
   "cell_type": "markdown",
   "metadata": {
    "application/vnd.databricks.v1+cell": {
     "cellMetadata": {},
     "inputWidgets": {},
     "nuid": "dda149fe-a922-496f-b60a-52777f618724",
     "showTitle": false,
     "title": ""
    }
   },
   "source": [
    "# Task #2 - Practice visualization for Data Exploration in Python "
   ]
  },
  {
   "cell_type": "markdown",
   "metadata": {
    "application/vnd.databricks.v1+cell": {
     "cellMetadata": {},
     "inputWidgets": {},
     "nuid": "3a1fa641-8ed8-4dc4-b201-d1cdb49676fa",
     "showTitle": false,
     "title": ""
    }
   },
   "source": [
    "#### Practice\n",
    "\n",
    "Explore the following `bmi_data_df` dataset.  \n",
    "It captures the relationship between BMI data, gender and the daily steps the person did.\n",
    "\n",
    "Which insights did you find?"
   ]
  },
  {
   "cell_type": "code",
   "execution_count": 0,
   "metadata": {
    "application/vnd.databricks.v1+cell": {
     "cellMetadata": {},
     "inputWidgets": {},
     "nuid": "5c6b3807-b23a-4aea-8cba-e1f122f0d1f6",
     "showTitle": false,
     "title": ""
    }
   },
   "outputs": [],
   "source": [
    "# Import the necessary libraries\n",
    "\n",
    "import pandas as pd\n",
    "import numpy as np\n",
    "import matplotlib.pyplot as plt\n",
    "import seaborn as sns\n"
   ]
  },
  {
   "cell_type": "code",
   "execution_count": 0,
   "metadata": {
    "application/vnd.databricks.v1+cell": {
     "cellMetadata": {},
     "inputWidgets": {},
     "nuid": "d5231aaa-5e12-40f1-8d5a-9ab00af676e4",
     "showTitle": false,
     "title": ""
    }
   },
   "outputs": [],
   "source": [
    "bmi_data_df = pd.read_csv('../../Data/bmi_data_male_vs_female.csv', sep=';')"
   ]
  },
  {
   "cell_type": "code",
   "execution_count": 0,
   "metadata": {
    "application/vnd.databricks.v1+cell": {
     "cellMetadata": {},
     "inputWidgets": {},
     "nuid": "cd6979ad-051c-4a46-8a9e-c8f3694d6bad",
     "showTitle": false,
     "title": ""
    }
   },
   "outputs": [],
   "source": [
    "###### YOUR CODE HERE ######\n"
   ]
  },
  {
   "cell_type": "markdown",
   "metadata": {
    "application/vnd.databricks.v1+cell": {
     "cellMetadata": {},
     "inputWidgets": {},
     "nuid": "cb8228ef-6678-4e08-9851-5c171f5bef40",
     "showTitle": false,
     "title": ""
    }
   },
   "source": [
    "### Group Task - Teach Back\n",
    "\n",
    "Now it's your turn to be the teachers.  \n",
    "Prepare a short presentation with the title:  \n",
    "> 5 things you probably don't do when exploring data (but you really should!)\n",
    "\n",
    "Prepare to present it back to us!"
   ]
  },
  {
   "cell_type": "markdown",
   "metadata": {
    "application/vnd.databricks.v1+cell": {
     "cellMetadata": {},
     "inputWidgets": {},
     "nuid": "98c1d637-bba0-4dc5-b97a-599fa4b1fa38",
     "showTitle": false,
     "title": ""
    }
   },
   "source": []
  }
 ],
 "metadata": {
  "application/vnd.databricks.v1+notebook": {
   "dashboards": [],
   "environmentMetadata": null,
   "language": "python",
   "notebookMetadata": {
    "pythonIndentUnit": 2
   },
   "notebookName": "7.2_ST_Visual_VDE",
   "widgets": {}
  },
  "language_info": {
   "name": "python"
  }
 },
 "nbformat": 4,
 "nbformat_minor": 0
}
