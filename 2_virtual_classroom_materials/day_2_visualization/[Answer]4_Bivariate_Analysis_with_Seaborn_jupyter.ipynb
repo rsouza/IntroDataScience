{
 "cells": [
  {
   "cell_type": "markdown",
   "metadata": {
    "application/vnd.databricks.v1+cell": {
     "cellMetadata": {},
     "inputWidgets": {},
     "nuid": "21a38d4c-8ad6-49d5-ab69-f42d910f577d",
     "showTitle": false,
     "title": ""
    }
   },
   "source": [
    "# Bivariate Analysis with Seaborn\n",
    "\n",
    "Firstly, we import the necessary libraries and load the [penguins dataset](https://github.com/allisonhorst/palmerpenguins) as 'penguins'."
   ]
  },
  {
   "cell_type": "code",
   "execution_count": 0,
   "metadata": {
    "application/vnd.databricks.v1+cell": {
     "cellMetadata": {
      "byteLimit": 2048000,
      "rowLimit": 10000
     },
     "inputWidgets": {},
     "nuid": "78a8faec-1100-4ef0-91d0-d205d59f91a6",
     "showTitle": false,
     "title": ""
    }
   },
   "outputs": [],
   "source": [
    "# Import libraries\n",
    "import pandas as pd\n",
    "import matplotlib.pyplot as plt\n",
    "import seaborn as sns"
   ]
  },
  {
   "cell_type": "code",
   "execution_count": 0,
   "metadata": {
    "application/vnd.databricks.v1+cell": {
     "cellMetadata": {
      "byteLimit": 2048000,
      "rowLimit": 10000
     },
     "inputWidgets": {},
     "nuid": "c257b6e9-ff7c-47d6-abce-dee5bf9040cf",
     "showTitle": false,
     "title": ""
    }
   },
   "outputs": [],
   "source": [
    "# Load the data\n",
    "penguins = pd.read_csv('../../Data/penguins.csv')"
   ]
  },
  {
   "cell_type": "code",
   "execution_count": 0,
   "metadata": {
    "application/vnd.databricks.v1+cell": {
     "cellMetadata": {
      "byteLimit": 2048000,
      "rowLimit": 10000
     },
     "inputWidgets": {},
     "nuid": "86c16a47-866f-4ac8-9828-48947b8c96ba",
     "showTitle": false,
     "title": ""
    }
   },
   "outputs": [],
   "source": [
    "# Take a look at the first 5 rows\n",
    "penguins.head()"
   ]
  },
  {
   "cell_type": "code",
   "execution_count": 0,
   "metadata": {
    "application/vnd.databricks.v1+cell": {
     "cellMetadata": {
      "byteLimit": 2048000,
      "rowLimit": 10000
     },
     "inputWidgets": {},
     "nuid": "17f62ae0-0e52-42fc-b0e2-91ed33b4b399",
     "showTitle": false,
     "title": ""
    }
   },
   "outputs": [],
   "source": [
    "# Drop missing values\n",
    "penguins.dropna(inplace = True)"
   ]
  },
  {
   "cell_type": "markdown",
   "metadata": {
    "application/vnd.databricks.v1+cell": {
     "cellMetadata": {},
     "inputWidgets": {},
     "nuid": "fee192fe-8ae8-4071-8a71-b5974e73247d",
     "showTitle": false,
     "title": ""
    }
   },
   "source": [
    "# 1. Categorical variables\n",
    "\n",
    "If you want to visualize data involving categorical variables, you can choose between 2 different plotting approaches as we already saw in the preceding notebook: \n",
    "\n",
    "a) The [`catplot()`](https://seaborn.pydata.org/generated/seaborn.catplot.html) plotting function \n",
    "\n",
    "- this is a Figure-level interface that allows you to plot categories\n",
    "- by calling this function, a [`stripplot`](https://seaborn.pydata.org/generated/seaborn.stripplot.html#seaborn.stripplot) will be drawn by default\n",
    "  \n",
    "Important note: specifying data\n",
    "\n",
    "- data you want to visualize must be passed in a long-form DataFrame \n",
    "- categorical and numerical variables must be passed as strings to the `x` and `y` parameters in the following way:   \n",
    "  ```sns.catplot(data = dataset, x = 'categorical_variable', y = 'numerical_variable')```\n",
    "- In comparison, the code below won't work:  \n",
    "  ```sns.catplot(x = data['categorical_variable'], y = data['numerical_variable'])```\n",
    "\n",
    "The [`catplot()`](https://seaborn.pydata.org/generated/seaborn.catplot.html)\n",
    "functions provides us with access to other Axes-level plotting functions which you can select by passing the respective plot kind to the `kind` parameter:\n",
    "\n",
    "- `box`\n",
    "- `swarm`\n",
    "- `strip`\n",
    "- `violin`\n",
    "- `barplot`\n",
    "- etc. \n",
    "  \n",
    "\n",
    "b) Axes-level plotting functions\n",
    "- [`sns.boxplot()`](https://seaborn.pydata.org/generated/seaborn.boxplot.html)\n",
    "- [`sns.swarmplot()`](https://seaborn.pydata.org/generated/seaborn.swarmplot.html)\n",
    "- [`sns.stripplot()`](https://seaborn.pydata.org/generated/seaborn.stripplot.html)\n",
    "- [`sns.violinplot()`](https://seaborn.pydata.org/generated/seaborn.violinplot.html)\n",
    "- [`sns.countplot()`](https://seaborn.pydata.org/generated/seaborn.countplot.html)\n",
    "- [`sns.barplot()`](https://seaborn.pydata.org/generated/seaborn.barplot.html)\n",
    "- etc."
   ]
  },
  {
   "cell_type": "markdown",
   "metadata": {
    "application/vnd.databricks.v1+cell": {
     "cellMetadata": {},
     "inputWidgets": {},
     "nuid": "16a96ac0-d339-4730-9446-f3224a5a0ee6",
     "showTitle": false,
     "title": ""
    }
   },
   "source": [
    "## 1.1 Categorical vs. Numerical feature\n",
    "\n",
    "One thing you could be interested in is to find out how the distribution of a numerical feature varies across different categories. For this purpose you can use a plotting functions such\n",
    "[`sns.boxplot()`](https://seaborn.pydata.org/generated/seaborn.boxplot.html),\n",
    "[`sns.violinplot()`](https://seaborn.pydata.org/generated/seaborn.violinplot.html),\n",
    "[`sns.boxenplot()`](https://seaborn.pydata.org/generated/seaborn.boxenplot.html)."
   ]
  },
  {
   "cell_type": "markdown",
   "metadata": {
    "application/vnd.databricks.v1+cell": {
     "cellMetadata": {},
     "inputWidgets": {},
     "nuid": "c304401d-b466-47e9-a62c-05cab098dd32",
     "showTitle": false,
     "title": ""
    }
   },
   "source": [
    "### 1.1.1 Boxplot\n",
    "\n",
    "Inside the function for creating the boxplots we specify the dataset and the feature names. The categorical variable 'species' will be plotted on the x-axis and the respective values of 'body_mass_g' on the y-axis."
   ]
  },
  {
   "cell_type": "code",
   "execution_count": 0,
   "metadata": {
    "application/vnd.databricks.v1+cell": {
     "cellMetadata": {
      "byteLimit": 2048000,
      "rowLimit": 10000
     },
     "inputWidgets": {},
     "nuid": "c1d9cd2b-f182-407f-a662-196b9c7aa552",
     "showTitle": false,
     "title": ""
    }
   },
   "outputs": [],
   "source": [
    "# Boxplots of body mass of penguins based on the species\n",
    "plt.figure(figsize = (13,9))\n",
    "sns.boxplot(data = penguins, \n",
    "            x = 'species', \n",
    "            y = 'body_mass_g', \n",
    "            palette = 'Set3');"
   ]
  },
  {
   "cell_type": "markdown",
   "metadata": {
    "application/vnd.databricks.v1+cell": {
     "cellMetadata": {},
     "inputWidgets": {},
     "nuid": "d5a4400d-057b-4f7c-ad94-2f4755e6d2c6",
     "showTitle": false,
     "title": ""
    }
   },
   "source": [
    "Visualization of the distribution reveals us interesting differences and similarities among species. For Adelie and Chinstrap, the majority of penguins weigh up to approximately 4000 grams, although the Chinstrap weight range is smaller than that of Adelie penguins. These two species have also the same median value of 3700 grams (we also verified median values in the code cell below). In case of Chinstrap penguins some outliers are present which can indicate that some penguins weight significantly less or more compared to the rest of observations. Gentoo penguins are overall heavier, while the vast majority of penguins weigh about 4700-5500 grams. This species also has the highest range of recorded values."
   ]
  },
  {
   "cell_type": "code",
   "execution_count": 0,
   "metadata": {
    "application/vnd.databricks.v1+cell": {
     "cellMetadata": {
      "byteLimit": 2048000,
      "rowLimit": 10000
     },
     "inputWidgets": {},
     "nuid": "b6575fc2-2704-462f-b0bf-2cc91051dc28",
     "showTitle": false,
     "title": ""
    }
   },
   "outputs": [],
   "source": [
    "# Median values of Adelie and Chinstrap species\n",
    "print('Adelie body mass-median value: ', penguins[penguins.species == 'Adelie'].body_mass_g.median(),\n",
    "      '\\n'\n",
    "      'Chinstrap body mass-median value: ', penguins[penguins.species == 'Chinstrap'].body_mass_g.median())"
   ]
  },
  {
   "cell_type": "code",
   "execution_count": 0,
   "metadata": {
    "application/vnd.databricks.v1+cell": {
     "cellMetadata": {
      "byteLimit": 2048000,
      "rowLimit": 10000
     },
     "inputWidgets": {},
     "nuid": "2d9240de-6974-44fd-9d7c-21ca95632bbf",
     "showTitle": false,
     "title": ""
    }
   },
   "outputs": [],
   "source": [
    "# Boxplots of the bill length based on the species\n",
    "plt.figure(figsize = (13,9))\n",
    "sns.boxplot(data = penguins, \n",
    "            x = 'species', \n",
    "            y = 'bill_length_mm');"
   ]
  },
  {
   "cell_type": "markdown",
   "metadata": {
    "application/vnd.databricks.v1+cell": {
     "cellMetadata": {},
     "inputWidgets": {},
     "nuid": "c014ccb0-dc5f-4ff2-8a0a-d4cbe80446fa",
     "showTitle": false,
     "title": ""
    }
   },
   "source": [
    "From the boxplots we can say that the Adelie species is characterised by the shortest bills, while most penguins have a bill which is about 37-41 millimeter long. The bill length of the Chinstrap and Gentoo species starts at about 41 mm. If we do not take into account the outlier of the Gentoo species, this species does have shorter bills compared to Chinstrap penguins."
   ]
  },
  {
   "cell_type": "code",
   "execution_count": 0,
   "metadata": {
    "application/vnd.databricks.v1+cell": {
     "cellMetadata": {
      "byteLimit": 2048000,
      "rowLimit": 10000
     },
     "inputWidgets": {},
     "nuid": "21ae3891-566e-4197-a55e-78caa54f699c",
     "showTitle": false,
     "title": ""
    }
   },
   "outputs": [],
   "source": [
    "# TASK 1 >>> Create boxplots of the depth of the bills based on species\n",
    "#        >>> Set a the figure size to (13,9)\n",
    "#        >>> Set the title to 'Distribution of bill's depth based on species'\n",
    "\n",
    "plt.figure(figsize = (13,9))\n",
    "sns.boxplot(data = penguins, \n",
    "            x = 'species', \n",
    "            y = 'bill_depth_mm')\n",
    "plt.title(\"Distribution of bill's depth based on species\");"
   ]
  },
  {
   "cell_type": "markdown",
   "metadata": {
    "application/vnd.databricks.v1+cell": {
     "cellMetadata": {},
     "inputWidgets": {},
     "nuid": "c4534959-ca12-458a-9f7c-7e2e76ad91ff",
     "showTitle": false,
     "title": ""
    }
   },
   "source": [
    "> What can you say about those 3 species in term of the bill depth? How does the distribution differ ? What about the range of values? What species has the smallest bill depth range?"
   ]
  },
  {
   "cell_type": "markdown",
   "metadata": {
    "application/vnd.databricks.v1+cell": {
     "cellMetadata": {},
     "inputWidgets": {},
     "nuid": "35d57cc9-c72b-4dd2-9f20-218610e45081",
     "showTitle": false,
     "title": ""
    }
   },
   "source": [
    "### 1.1.2 Swarmplot\n",
    "\n",
    "We can also take a closer look at the three islands where the penguins live. Since our dataset does not comprise too many observations, the data points are nicely plotted."
   ]
  },
  {
   "cell_type": "code",
   "execution_count": 0,
   "metadata": {
    "application/vnd.databricks.v1+cell": {
     "cellMetadata": {
      "byteLimit": 2048000,
      "rowLimit": 10000
     },
     "inputWidgets": {},
     "nuid": "6ac45746-0b2b-4ce1-9bea-8a66ce275cd0",
     "showTitle": false,
     "title": ""
    }
   },
   "outputs": [],
   "source": [
    "# Swarmplot of the flipper length based on islands\n",
    "\n",
    "plt.figure(figsize = (13,9))\n",
    "ax = sns.swarmplot(data = penguins, \n",
    "              x = 'island', \n",
    "              y = 'flipper_length_mm')\n",
    "ax.set(title = 'Distribution of the flipper length', # Accessing Axes object and setting title and labels using .set()\n",
    "       xlabel = 'The island',\n",
    "       ylabel = 'The flipper length (mm)');"
   ]
  },
  {
   "cell_type": "markdown",
   "metadata": {
    "application/vnd.databricks.v1+cell": {
     "cellMetadata": {},
     "inputWidgets": {},
     "nuid": "c3aa68dc-a709-4652-bbdd-1b67bf3b0183",
     "showTitle": false,
     "title": ""
    }
   },
   "source": [
    "Now we see the distribution of the penguins' flipper length on the three islands, but this plot does not provide us any specific and useful information. We can say only, for example, there are penguins with either really short flippers or vast majority of penguins have long flippers about 215 milimeters on Biscoe island. \n",
    "\n",
    "Let's explore what species are actually present on the particular islands."
   ]
  },
  {
   "cell_type": "code",
   "execution_count": 0,
   "metadata": {
    "application/vnd.databricks.v1+cell": {
     "cellMetadata": {
      "byteLimit": 2048000,
      "rowLimit": 10000
     },
     "inputWidgets": {},
     "nuid": "81baecd0-d759-4953-a2c4-5fc13b6a60e6",
     "showTitle": false,
     "title": ""
    }
   },
   "outputs": [],
   "source": [
    "# Group data based on island and count penguins\n",
    "\n",
    "penguins.groupby('island')['species'].value_counts()"
   ]
  },
  {
   "cell_type": "markdown",
   "metadata": {
    "application/vnd.databricks.v1+cell": {
     "cellMetadata": {},
     "inputWidgets": {},
     "nuid": "cff2542e-fc6c-464c-a88f-f7b1993280c5",
     "showTitle": false,
     "title": ""
    }
   },
   "source": [
    "Interestingly, Adelie species inhabit all three islands. Gentoo penguins are present only in Biscoe island and Chinstrap's home is Dream island. Let's filter the dataset only for Gentoo and Chinstrap penguins.\n",
    "\n",
    "The filtering approach is up to you. You can create a subset of a DataFrame with specific rows based on a condition using indexing like in this example:   \n",
    "```subset = data['weight'] == 85```\n",
    "\n",
    "This operation checks for whether the row contains the value 85 and returns only those rows where this condition is fulfilled.\n",
    "\n",
    "Another option is to use\n",
    "[`query`](https://pandas.pydata.org/pandas-docs/stable/reference/api/pandas.DataFrame.query.html)\n",
    "which we apply onto the DataFrame. We specify that we want to filter only those rows where Gentoo and Chinstrap penguins are present as species. Since we filter for more than one condition, these species must by passed as a list. We use the `in` keyword which checks whether a species is present in the list.\n",
    "\n",
    "\n",
    "Choose the approach which best suits you. Here we included both of them for you to compare the code syntax."
   ]
  },
  {
   "cell_type": "code",
   "execution_count": 0,
   "metadata": {
    "application/vnd.databricks.v1+cell": {
     "cellMetadata": {
      "byteLimit": 2048000,
      "rowLimit": 10000
     },
     "inputWidgets": {},
     "nuid": "f996fe89-d8af-4862-a96d-e3d9d3e8d047",
     "showTitle": false,
     "title": ""
    }
   },
   "outputs": [],
   "source": [
    "# Filtering only Gentoo and Chinstrap species using Pandas query\n",
    "\n",
    "penguins_filter = penguins.query('species in [\"Gentoo\",\"Chinstrap\"]')"
   ]
  },
  {
   "cell_type": "code",
   "execution_count": 0,
   "metadata": {
    "application/vnd.databricks.v1+cell": {
     "cellMetadata": {
      "byteLimit": 2048000,
      "rowLimit": 10000
     },
     "inputWidgets": {},
     "nuid": "9f7fb442-13b5-4cfc-963f-ac6ce5b0a2bc",
     "showTitle": false,
     "title": ""
    }
   },
   "outputs": [],
   "source": [
    "# Filtering only Gentoo and Chinstrap species using indexing\n",
    "\n",
    "penguins_fil = penguins[penguins['species'].isin([\"Gentoo\",\"Chinstrap\"])]"
   ]
  },
  {
   "cell_type": "code",
   "execution_count": 0,
   "metadata": {
    "application/vnd.databricks.v1+cell": {
     "cellMetadata": {
      "byteLimit": 2048000,
      "rowLimit": 10000
     },
     "inputWidgets": {},
     "nuid": "2a2be7ae-8ac3-4fe7-8297-ca9ec16e8c16",
     "showTitle": false,
     "title": ""
    }
   },
   "outputs": [],
   "source": [
    "# The new DataFrame penguins_filter will be returned as an output\n",
    "\n",
    "penguins_filter.head()"
   ]
  },
  {
   "cell_type": "code",
   "execution_count": 0,
   "metadata": {
    "application/vnd.databricks.v1+cell": {
     "cellMetadata": {
      "byteLimit": 2048000,
      "rowLimit": 10000
     },
     "inputWidgets": {},
     "nuid": "06f42b05-e56e-4f3d-8e4c-4d515c00688d",
     "showTitle": false,
     "title": ""
    }
   },
   "outputs": [],
   "source": [
    "# TASK 2 >>> Create a swarmplot using the created penguins_filter subset\n",
    "#        >>> Set the figure size to (13,9)\n",
    "#        >>> Visualize the flipper length based on the Chinstrap and Gentoo species\n",
    "#        >>> Set the title to 'Distribution of Chinstrap and Gentoo species'using plt.title()\n",
    "\n",
    "plt.figure(figsize=(13,9))\n",
    "sns.swarmplot(data = penguins_filter, \n",
    "              x = 'species', \n",
    "              y = 'flipper_length_mm')\n",
    "plt.title('Distribution of Chinstrap and Gentoo species');"
   ]
  },
  {
   "cell_type": "markdown",
   "metadata": {
    "application/vnd.databricks.v1+cell": {
     "cellMetadata": {},
     "inputWidgets": {},
     "nuid": "56942a00-0854-48f8-b373-fd2f53b36999",
     "showTitle": false,
     "title": ""
    }
   },
   "source": [
    "### 1.1.3 Stripplot\n",
    "\n",
    "As you already learned how to create a stripplot, try the following exercise of visualizing Adelie species flipper length distribution based on the category  'sex'."
   ]
  },
  {
   "cell_type": "code",
   "execution_count": 0,
   "metadata": {
    "application/vnd.databricks.v1+cell": {
     "cellMetadata": {
      "byteLimit": 2048000,
      "rowLimit": 10000
     },
     "inputWidgets": {},
     "nuid": "6f583d78-8c55-4108-a1c5-234c3a52f794",
     "showTitle": false,
     "title": ""
    }
   },
   "outputs": [],
   "source": [
    "# Filter only for the Adelie species and save it as adelie_filter\n",
    "adelie_filter = penguins.query('species == \"Adelie\"')"
   ]
  },
  {
   "cell_type": "code",
   "execution_count": 0,
   "metadata": {
    "application/vnd.databricks.v1+cell": {
     "cellMetadata": {
      "byteLimit": 2048000,
      "rowLimit": 10000
     },
     "inputWidgets": {},
     "nuid": "13089b93-e2c0-41f7-b601-c69153955054",
     "showTitle": false,
     "title": ""
    }
   },
   "outputs": [],
   "source": [
    "# TASK 3 >>> Visualize Adelie's flipper length distribution using swarmplot based on 'sex'\n",
    "#        >>> Set the figure size to (13,9)\n",
    "#        >>> Store the output of the stripplot to the ax variable\n",
    "#        >>> Set the following using ax.set(): \n",
    "#            title: 'The flipper length based on the sex'\n",
    "#            x-axis label: 'The sex'\n",
    "#            y-axis label: 'The flipper length (mm)'\n",
    "\n",
    "plt.figure(figsize=(13,9))\n",
    "ax = sns.stripplot(data = adelie_filter, \n",
    "                   x = 'sex', \n",
    "                   y = 'flipper_length_mm')\n",
    "\n",
    "ax.set(title = 'The flipper length based on the sex',\n",
    "       xlabel = 'The sex',\n",
    "       ylabel = 'The flipper length (mm)');"
   ]
  },
  {
   "cell_type": "markdown",
   "metadata": {
    "application/vnd.databricks.v1+cell": {
     "cellMetadata": {},
     "inputWidgets": {},
     "nuid": "74d0efce-26be-4282-acbb-d665ca0d77d3",
     "showTitle": false,
     "title": ""
    }
   },
   "source": [
    "### 1.1.4 Violinplot\n",
    "\n",
    "Categories can be nicely compared using a violinplot which shows statistics from a boxplot and the shape of the distribution that comes from a density plot. A violinplot is a good choice for plotting the distribution when visualizing a large number of observations is not sufficient due to data points overlapping."
   ]
  },
  {
   "cell_type": "code",
   "execution_count": 0,
   "metadata": {
    "application/vnd.databricks.v1+cell": {
     "cellMetadata": {
      "byteLimit": 2048000,
      "rowLimit": 10000
     },
     "inputWidgets": {},
     "nuid": "1256249b-f400-445a-b32f-4cb34a954f96",
     "showTitle": false,
     "title": ""
    }
   },
   "outputs": [],
   "source": [
    "# A violinplot of the 'body_mass_g' feature\n",
    "\n",
    "plt.figure(figsize = (13,9))\n",
    "sns.violinplot(data = penguins, \n",
    "               x = 'sex', \n",
    "               y = 'body_mass_g');"
   ]
  },
  {
   "cell_type": "markdown",
   "metadata": {
    "application/vnd.databricks.v1+cell": {
     "cellMetadata": {},
     "inputWidgets": {},
     "nuid": "605aafd1-a3de-468b-afe5-ab9af0c76df4",
     "showTitle": false,
     "title": ""
    }
   },
   "source": [
    "A violinplot consists of boxplot that is displayed in the middle. The thick black bar represents the majority of values (IQR) and the white dot is the median value. Thin black lines represent the rest of data points. There shape of distribution is displayed on each side. \n",
    "The interpretation of a violinplot is similar to that of a swarmplot. Wider parts represent higher frequency of observations, while thinner parts denote less observations. You can notice that most male penguings have a weight of about 4000 grams and are generally heavier than females.\n",
    "\n",
    "---\n",
    "\n",
    "Please, see the [documentation](https://seaborn.pydata.org/generated/seaborn.violinplot.html) for specifying other parameters."
   ]
  },
  {
   "cell_type": "code",
   "execution_count": 0,
   "metadata": {
    "application/vnd.databricks.v1+cell": {
     "cellMetadata": {
      "byteLimit": 2048000,
      "rowLimit": 10000
     },
     "inputWidgets": {},
     "nuid": "9fd81e4f-5ade-4efe-a3d1-63ae8117fe3a",
     "showTitle": false,
     "title": ""
    }
   },
   "outputs": [],
   "source": [
    "# A violin plot of 'body_mass_g' variable based on 'species'\n",
    "\n",
    "color = {'Adelie':'powderblue','Chinstrap':'thistle','Gentoo':'bisque'}\n",
    "plt.figure(figsize = (13,9))\n",
    "ax = sns.violinplot(data = penguins, \n",
    "                    x = 'body_mass_g', \n",
    "                    y = 'species',\n",
    "                    inner = 'quartile',\n",
    "                    linewidth = 1.4,\n",
    "                    palette = color);"
   ]
  },
  {
   "cell_type": "markdown",
   "metadata": {
    "application/vnd.databricks.v1+cell": {
     "cellMetadata": {},
     "inputWidgets": {},
     "nuid": "8bc5c6de-7246-46b2-908b-17752643b278",
     "showTitle": false,
     "title": ""
    }
   },
   "source": [
    "### 1.1.5 Displot\n",
    "\n",
    "We can also compare the spread of the values using a histogram."
   ]
  },
  {
   "cell_type": "code",
   "execution_count": 0,
   "metadata": {
    "application/vnd.databricks.v1+cell": {
     "cellMetadata": {
      "byteLimit": 2048000,
      "rowLimit": 10000
     },
     "inputWidgets": {},
     "nuid": "164ce340-2e35-4b12-82b4-38d55bca2a4d",
     "showTitle": false,
     "title": ""
    }
   },
   "outputs": [],
   "source": [
    "# A displot of 'body_mass_g' feature based on 'species'\n",
    "\n",
    "sns.displot(data = penguins, \n",
    "            x='body_mass_g', \n",
    "            hue = 'species', \n",
    "            kind = 'kde',\n",
    "            height = 6, \n",
    "            aspect = 1.3);"
   ]
  },
  {
   "cell_type": "markdown",
   "metadata": {
    "application/vnd.databricks.v1+cell": {
     "cellMetadata": {},
     "inputWidgets": {},
     "nuid": "e09282f8-aff1-4be8-a54b-d3a6e92f2a9c",
     "showTitle": false,
     "title": ""
    }
   },
   "source": [
    "## 1.2 Categorical vs. categorical feature\n",
    "\n",
    "With a countplot we are able to count the number of observations in each catogory and then compared how these values vary across categories. \n",
    "\n",
    "Let's visualize how many female and male penguins are present in each species."
   ]
  },
  {
   "cell_type": "code",
   "execution_count": 0,
   "metadata": {
    "application/vnd.databricks.v1+cell": {
     "cellMetadata": {
      "byteLimit": 2048000,
      "rowLimit": 10000
     },
     "inputWidgets": {},
     "nuid": "07b63625-0ccd-4e1e-adcc-6f091a74733e",
     "showTitle": false,
     "title": ""
    }
   },
   "outputs": [],
   "source": [
    "# A countplot of male and females penguins based on species\n",
    "plt.figure(figsize = (13,9))\n",
    "bars = sns.countplot(data = penguins, x = 'species', hue = 'sex', palette = 'Set3')\n",
    "\n",
    "# Annotation for bars and example customizations\n",
    "for b in bars.patches:                               \n",
    "    bars.annotate('{:.0f}'.format(b.get_height()),  # Showing the count and string formatting to no decimal place\n",
    "                 (b.get_x() + 0.2, b.get_height()), # A tuple of the left coordinate of the bar, adding some float to center it \n",
    "                                                    # and getting the height of the bar - to change the placement of numbers,\n",
    "                                                    # substract some number from b.get_height() to see the change \n",
    "                  ha='center',                      # Setting horizontal alignment of text\n",
    "                  va='bottom',                      # Setting vertical alingment of text\n",
    "                  color= 'black',                   \n",
    "                  fontsize = 10)\n",
    "sns.despine(top = True, left = True)                # Removing spines from plot\n",
    "bars.set(ylabel = '', yticks = [])                  # Removing y-axis labels and y-axis ticks         \n",
    "bars.set_xlabel('Species', fontsize = 13);      "
   ]
  },
  {
   "cell_type": "markdown",
   "metadata": {
    "application/vnd.databricks.v1+cell": {
     "cellMetadata": {},
     "inputWidgets": {},
     "nuid": "534f4868-643e-41a0-a8cf-770b91721ca6",
     "showTitle": false,
     "title": ""
    }
   },
   "source": [
    "# 2. Numerical vs. numerical feature\n",
    "\n",
    "During bivariate analysis of two numerical variables we attempt to determine any relationship between them."
   ]
  },
  {
   "cell_type": "markdown",
   "metadata": {
    "application/vnd.databricks.v1+cell": {
     "cellMetadata": {},
     "inputWidgets": {},
     "nuid": "139ebcb3-0528-42d7-ab4f-70510698dda5",
     "showTitle": false,
     "title": ""
    }
   },
   "source": [
    "## 2.1 Relplot\n",
    "\n",
    "Seaborn's\n",
    "[`replot()`](https://seaborn.pydata.org/generated/seaborn.relplot.html)\n",
    "plotting function creates a relational plot. The output of this function is a FacetGrid object which allows to extend the existing plot in several ways, for instance adding another subplot or adding a subset of the data to visually display various categories. These options will be discussed in the last notebook about Multivariate analysis.\n",
    "\n",
    "It is also possible to choose the method of visualizing statistical relationship using `kind` parameter:\n",
    "- [`kind = 'scatter'`](https://seaborn.pydata.org/generated/seaborn.scatterplot.html#seaborn.scatterplot) - by default\n",
    "- [`kind = 'line`](https://seaborn.pydata.org/generated/seaborn.lineplot.html) \n",
    "\n",
    "For now let's focus on creating a default relational plot comparing 2 numerical variables at once. We specify input dataset to `data` parameter and assign numerical variables as strings to `x` and `y`."
   ]
  },
  {
   "cell_type": "code",
   "execution_count": 0,
   "metadata": {
    "application/vnd.databricks.v1+cell": {
     "cellMetadata": {
      "byteLimit": 2048000,
      "rowLimit": 10000
     },
     "inputWidgets": {},
     "nuid": "0c1a67fc-1d28-49c1-be33-82dd5d3943a8",
     "showTitle": false,
     "title": ""
    }
   },
   "outputs": [],
   "source": [
    "# Relationship between body mass and the flipper length\n",
    "\n",
    "rel = sns.relplot(data = penguins, \n",
    "                  x = 'body_mass_g', \n",
    "                  y = 'flipper_length_mm',\n",
    "                  color = 'grey',\n",
    "                  height = 6, \n",
    "                  aspect = 1.3)\n",
    "rel.set(xlabel = 'Body mass (g)', \n",
    "        ylabel = 'Flipper length (mm)');"
   ]
  },
  {
   "cell_type": "markdown",
   "metadata": {
    "application/vnd.databricks.v1+cell": {
     "cellMetadata": {},
     "inputWidgets": {},
     "nuid": "52646ccf-d5c4-4a5f-917d-e2c8e54cf251",
     "showTitle": false,
     "title": ""
    }
   },
   "source": [
    "The above plot shows the relationship between penguin's body mass and the flipper length. We can see that these two characteristics are strongly related with each other. The clear pattern indicates that with increasing body mass also the flipper length increases."
   ]
  },
  {
   "cell_type": "code",
   "execution_count": 0,
   "metadata": {
    "application/vnd.databricks.v1+cell": {
     "cellMetadata": {
      "byteLimit": 2048000,
      "rowLimit": 10000
     },
     "inputWidgets": {},
     "nuid": "69fe955f-d16d-4ac4-a637-9dea3b26aaf5",
     "showTitle": false,
     "title": ""
    }
   },
   "outputs": [],
   "source": [
    "# Relationship between body mass and bill length \n",
    "\n",
    "rel = sns.relplot(data = penguins, \n",
    "                  x = 'body_mass_g', \n",
    "                  y = 'bill_length_mm', \n",
    "                  color = 'cadetblue',\n",
    "                  height = 6, \n",
    "                  aspect = 1.3)\n",
    "rel.set(xlabel = 'Body mass (g)', \n",
    "        ylabel = 'The bill depth (mm)');"
   ]
  },
  {
   "cell_type": "markdown",
   "metadata": {
    "application/vnd.databricks.v1+cell": {
     "cellMetadata": {},
     "inputWidgets": {},
     "nuid": "f94fc9f2-15b6-4c07-a903-abe9bb40a578",
     "showTitle": false,
     "title": ""
    }
   },
   "source": [
    "Again, we can observe some kind of relationship between body mass and bill length. You can notice that penguins that weight about 3500 grams tend to have either a short bill (roughly about 35-40 mm), or a longer bill (above 45 mm). After a weight of about 4500 grams, the relationship becomes somewhat stronger and with increasing body mass, the bill length is longer. At this point we would need to take a closer look at the relationship by implementing some kind of visual semantic to gain more information from the data."
   ]
  },
  {
   "cell_type": "code",
   "execution_count": 0,
   "metadata": {
    "application/vnd.databricks.v1+cell": {
     "cellMetadata": {
      "byteLimit": 2048000,
      "rowLimit": 10000
     },
     "inputWidgets": {},
     "nuid": "9d0ecce0-a303-4ecd-92a6-1660f3353502",
     "showTitle": false,
     "title": ""
    }
   },
   "outputs": [],
   "source": [
    "# TASK 4 >>> Create a relplot to visualize the relationship between the 'bill_length_mm' and the 'bill_depth_mm' features\n",
    "#        >>> Set parameters: height = 6, aspect = 1.3\n",
    "#        >>> Set x-axis: 'The bill length (mm)'\n",
    "#        >>> Set y-axis label: 'The bill depth (mm)'\n",
    "\n",
    "sns.relplot(data = penguins, \n",
    "            x = 'bill_length_mm', \n",
    "            y = 'bill_depth_mm',\n",
    "            height = 6, \n",
    "            aspect = 1.3)\n",
    "plt.xlabel('The bill length (mm)')\n",
    "plt.ylabel('The bill depth (mm)');"
   ]
  },
  {
   "cell_type": "markdown",
   "metadata": {
    "application/vnd.databricks.v1+cell": {
     "cellMetadata": {},
     "inputWidgets": {},
     "nuid": "c0f3d2f8-f9df-4cc9-9d2a-b0ff4ae44f71",
     "showTitle": false,
     "title": ""
    }
   },
   "source": [
    "> What can you say about this relationship ?\n",
    "Does the bill length relate to the bill depth? \n",
    "Is there some indication about a strong relationship or do you barely see any patterns ?"
   ]
  },
  {
   "cell_type": "markdown",
   "metadata": {
    "application/vnd.databricks.v1+cell": {
     "cellMetadata": {},
     "inputWidgets": {},
     "nuid": "3b4e27e2-b369-4500-9f89-04dcdc581841",
     "showTitle": false,
     "title": ""
    }
   },
   "source": [
    "## 2.2 Scatterplot\n",
    "\n",
    "Another option to create a relational plot is using axes-level function [`scatterplot()`](https://seaborn.pydata.org/generated/seaborn.scatterplot.html#seaborn.scatterplot)."
   ]
  },
  {
   "cell_type": "code",
   "execution_count": 0,
   "metadata": {
    "application/vnd.databricks.v1+cell": {
     "cellMetadata": {
      "byteLimit": 2048000,
      "rowLimit": 10000
     },
     "inputWidgets": {},
     "nuid": "63c02e22-2a0d-46f8-9714-13041d3e688b",
     "showTitle": false,
     "title": ""
    }
   },
   "outputs": [],
   "source": [
    "# Relationship between 'body_mass_g' and 'flipper_length_mm'\n",
    "plt.figure(figsize = (13,9))\n",
    "sns.scatterplot(data = penguins, \n",
    "                x = 'body_mass_g', \n",
    "                y = 'flipper_length_mm', \n",
    "                color = 'lightcoral');"
   ]
  },
  {
   "cell_type": "markdown",
   "metadata": {
    "application/vnd.databricks.v1+cell": {
     "cellMetadata": {},
     "inputWidgets": {},
     "nuid": "b463c4cc-0d61-4f03-a647-1fcaa8b692db",
     "showTitle": false,
     "title": ""
    }
   },
   "source": [
    "We can see a strong positive relationship between the body mass and the flipper length."
   ]
  },
  {
   "cell_type": "markdown",
   "metadata": {
    "application/vnd.databricks.v1+cell": {
     "cellMetadata": {},
     "inputWidgets": {},
     "nuid": "f868b81b-5779-46f0-bdc4-521a4fd92b0c",
     "showTitle": false,
     "title": ""
    }
   },
   "source": [
    "## 2.3 Visualizing trends"
   ]
  },
  {
   "cell_type": "markdown",
   "metadata": {
    "application/vnd.databricks.v1+cell": {
     "cellMetadata": {},
     "inputWidgets": {},
     "nuid": "6f86b38e-b067-45c3-94c6-d9a32545bf55",
     "showTitle": false,
     "title": ""
    }
   },
   "source": [
    "### 2.3.1 Regplot\n",
    "\n",
    "The Axes-level function \n",
    "[`regplot()`](https://seaborn.pydata.org/generated/seaborn.regplot.html)\n",
    "creates a scatterplot and a line of best fit with a default 95% confidence interval which is drawn using translucent bands around the fit line. \n",
    "A similar plotting function is \n",
    "[`lmplot()`](https://seaborn.pydata.org/generated/seaborn.lmplot.html) \n",
    "which makes use of regplot and FacetGrid object so that you can compare several categories in a single figure."
   ]
  },
  {
   "cell_type": "code",
   "execution_count": 0,
   "metadata": {
    "application/vnd.databricks.v1+cell": {
     "cellMetadata": {
      "byteLimit": 2048000,
      "rowLimit": 10000
     },
     "inputWidgets": {},
     "nuid": "020f90de-ee26-4b6d-b3c5-35f07714c7b9",
     "showTitle": false,
     "title": ""
    }
   },
   "outputs": [],
   "source": [
    "# A regplot of the 'body_mass' and the 'flipper_length_mm' variables\n",
    "\n",
    "plt.figure(figsize = (13,9))\n",
    "sns.regplot(data = penguins, \n",
    "            x = 'body_mass_g', \n",
    "            y = 'bill_length_mm',\n",
    "            color = 'indigo',\n",
    "            ci = 99);           # Setting the size of the confidence interval for the estimate"
   ]
  },
  {
   "cell_type": "markdown",
   "metadata": {
    "application/vnd.databricks.v1+cell": {
     "cellMetadata": {},
     "inputWidgets": {},
     "nuid": "d93e1d2a-c5d8-4f37-96ba-8811cd03c681",
     "showTitle": false,
     "title": ""
    }
   },
   "source": [
    "# 3. Heatmap\n",
    "\n",
    "Often we want to compute correlation coefficients to see the strength and the direction of the relationship. \n",
    "This can be done using Pandas's\n",
    "[`corr()`](https://pandas.pydata.org/pandas-docs/stable/reference/api/pandas.DataFrame.corr.html)\n",
    "function which can take input data and compute the pairwise correlation coefficients of variables.\n",
    "\n",
    "Types of correlation that can be specified as an argument to `method` parameter:\n",
    "- [`pearson`](https://en.wikipedia.org/wiki/Pearson_correlation_coefficient) - by default\n",
    "- [`kendall`](https://en.wikipedia.org/wiki/Kendall_rank_correlation_coefficient)\n",
    "- [`spearman`](https://en.wikipedia.org/wiki/Spearman%27s_rank_correlation_coefficient)\n",
    "\n",
    "Correlation matrix can be visualized using a heatmap where correlation coefficients are represented as colors. Values of correlation coefficients can take a range from -1 (a strong negative relationship) to 1 (a strong positive relationship). Since the coefficients take either high or low values, we should select a specific color palette called [_diverging_](https://seaborn.pydata.org/tutorial/color_palettes.html#custom-diverging-palettes)."
   ]
  },
  {
   "cell_type": "code",
   "execution_count": 0,
   "metadata": {
    "application/vnd.databricks.v1+cell": {
     "cellMetadata": {
      "byteLimit": 2048000,
      "rowLimit": 10000
     },
     "inputWidgets": {},
     "nuid": "9b581e54-3eb8-49a9-885f-2f6a14cb103d",
     "showTitle": false,
     "title": ""
    }
   },
   "outputs": [],
   "source": [
    "# Computing correlation coefficients\n",
    "corr = penguins.corr(numeric_only=True)"
   ]
  },
  {
   "cell_type": "code",
   "execution_count": 0,
   "metadata": {
    "application/vnd.databricks.v1+cell": {
     "cellMetadata": {
      "byteLimit": 2048000,
      "rowLimit": 10000
     },
     "inputWidgets": {},
     "nuid": "dd0bf116-0269-4f22-83c1-f9bc02454c21",
     "showTitle": false,
     "title": ""
    }
   },
   "outputs": [],
   "source": [
    "# A heatmap of penguins dataset\n",
    "\n",
    "fig, ax = plt.subplots(figsize = (13,9))\n",
    "sns.heatmap(corr, \n",
    "            annot = True,                 # Correlation coeficients will be displayed in each cell\n",
    "            annot_kws = {'fontsize':14},  # Setting a fontsize\n",
    "            cmap = 'vlag',                # Setting a color map\n",
    "            vmin = -1, vmax = 1);         # Setting min and max for color map "
   ]
  },
  {
   "cell_type": "markdown",
   "metadata": {
    "application/vnd.databricks.v1+cell": {
     "cellMetadata": {},
     "inputWidgets": {},
     "nuid": "3cafff23-3a36-4805-8a33-fc703ce69d59",
     "showTitle": false,
     "title": ""
    }
   },
   "source": [
    "# 4. Practice time\n",
    "\n",
    "Let's continue exploring the \"Bank marketing\" dataset as in the previous notebook."
   ]
  },
  {
   "cell_type": "markdown",
   "metadata": {
    "application/vnd.databricks.v1+cell": {
     "cellMetadata": {},
     "inputWidgets": {},
     "nuid": "3ed427a1-7572-42c5-995c-c13316c80d61",
     "showTitle": false,
     "title": ""
    }
   },
   "source": [
    "## 4.1 Loading data, preprocessing"
   ]
  },
  {
   "cell_type": "code",
   "execution_count": 0,
   "metadata": {
    "application/vnd.databricks.v1+cell": {
     "cellMetadata": {
      "byteLimit": 2048000,
      "rowLimit": 10000
     },
     "inputWidgets": {},
     "nuid": "d251d9a6-bac4-48f8-ae57-c7d84be77a02",
     "showTitle": false,
     "title": ""
    }
   },
   "outputs": [],
   "source": [
    "# Load the data \n",
    "\n",
    "data = pd.read_csv('../../Data/bank_data.csv',sep = ';')\n",
    "# Let's rename some of variables\n",
    "data.rename(columns = {'marital':'marital_status','default':'default_credit','housing':'house_loan',\n",
    "                      'contact':'contact_type','duration':'contact_duration','campaign':'number_of_contacts',\n",
    "                      'pdays':'days_passed','previous':'number_previous_contact','poutcome':'previous_campaign_outcome',\n",
    "                      'emp.var.rate':'emp_variation_rate','cons.price.idx':'cpi','cons.conf.idx':\n",
    "                      'cci','euribor3m':'euribor_rate','nr.employed':'no_employees','y':'target'},\n",
    "           inplace = True)"
   ]
  },
  {
   "cell_type": "code",
   "execution_count": 0,
   "metadata": {
    "application/vnd.databricks.v1+cell": {
     "cellMetadata": {
      "byteLimit": 2048000,
      "rowLimit": 10000
     },
     "inputWidgets": {},
     "nuid": "8083b05e-e757-4a62-8878-fbbc00d9bd51",
     "showTitle": false,
     "title": ""
    }
   },
   "outputs": [],
   "source": [
    "# Remove duplicated rows\n",
    "\n",
    "data.drop_duplicates(inplace = True)"
   ]
  },
  {
   "cell_type": "code",
   "execution_count": 0,
   "metadata": {
    "application/vnd.databricks.v1+cell": {
     "cellMetadata": {
      "byteLimit": 2048000,
      "rowLimit": 10000
     },
     "inputWidgets": {},
     "nuid": "1b15f867-8c98-4f6d-a4f4-a002278343fc",
     "showTitle": false,
     "title": ""
    }
   },
   "outputs": [],
   "source": [
    "# Select all variables that need to be converted\n",
    "\n",
    "to_category = ['job','marital_status','education','default_credit','house_loan', \n",
    "               'loan','contact_type','month','day_of_week', 'previous_campaign_outcome']"
   ]
  },
  {
   "cell_type": "code",
   "execution_count": 0,
   "metadata": {
    "application/vnd.databricks.v1+cell": {
     "cellMetadata": {
      "byteLimit": 2048000,
      "rowLimit": 10000
     },
     "inputWidgets": {},
     "nuid": "0785bc97-ff43-41df-b630-18f7df85cc7b",
     "showTitle": false,
     "title": ""
    }
   },
   "outputs": [],
   "source": [
    "# Convert them to the category data type\n",
    "\n",
    "for col in to_category:\n",
    "    data[col] = data[col].astype('category')"
   ]
  },
  {
   "cell_type": "code",
   "execution_count": 0,
   "metadata": {
    "application/vnd.databricks.v1+cell": {
     "cellMetadata": {
      "byteLimit": 2048000,
      "rowLimit": 10000
     },
     "inputWidgets": {},
     "nuid": "49d1a19a-802b-4ad3-b1b6-8be241c8be30",
     "showTitle": false,
     "title": ""
    }
   },
   "outputs": [],
   "source": [
    "# Create a dictionary with original values and corresponding new values for days\n",
    "\n",
    "mapping_days = {'mon':'Monday','tue':'Tuesday','wed':'Wednesday','thu':'Thursday','fri':'Friday'}\n",
    "\n",
    "# Map new values to column 'day_of_week'\n",
    "data.day_of_week = data.day_of_week.map(mapping_days)"
   ]
  },
  {
   "cell_type": "code",
   "execution_count": 0,
   "metadata": {
    "application/vnd.databricks.v1+cell": {
     "cellMetadata": {
      "byteLimit": 2048000,
      "rowLimit": 10000
     },
     "inputWidgets": {},
     "nuid": "bfd8ff00-b8b3-4930-9a27-bd3b4f83a663",
     "showTitle": false,
     "title": ""
    }
   },
   "outputs": [],
   "source": [
    "# Create a dictionary with original values and corresponding new values for months\n",
    "\n",
    "mapping_months = {'mar':'March', 'apr':'April','may':'May','jun':'Jun','jul':'Jul','aug':'August',\n",
    "                  'sep':'September','oct':'October','nov':'November','dec':'December'}\n",
    "\n",
    "# Map new values to column 'month'\n",
    "data.month = data.month.map(mapping_months)"
   ]
  },
  {
   "cell_type": "code",
   "execution_count": 0,
   "metadata": {
    "application/vnd.databricks.v1+cell": {
     "cellMetadata": {
      "byteLimit": 2048000,
      "rowLimit": 10000
     },
     "inputWidgets": {},
     "nuid": "301a8a7c-e0c7-4271-8e19-5459f295b5de",
     "showTitle": false,
     "title": ""
    }
   },
   "outputs": [],
   "source": [
    "# Converting seconds to minutes\n",
    "\n",
    "data.contact_duration = data.contact_duration.apply(lambda x: x / 60)"
   ]
  },
  {
   "cell_type": "code",
   "execution_count": 0,
   "metadata": {
    "application/vnd.databricks.v1+cell": {
     "cellMetadata": {
      "byteLimit": 2048000,
      "rowLimit": 10000
     },
     "inputWidgets": {},
     "nuid": "f0781bd7-4280-46fc-9e5e-2c315ded553f",
     "showTitle": false,
     "title": ""
    }
   },
   "outputs": [],
   "source": [
    "# Inspect the data\n",
    "data"
   ]
  },
  {
   "cell_type": "code",
   "execution_count": 0,
   "metadata": {
    "application/vnd.databricks.v1+cell": {
     "cellMetadata": {
      "byteLimit": 2048000,
      "rowLimit": 10000
     },
     "inputWidgets": {},
     "nuid": "c82f1fee-d384-4f50-add4-a40c60f64690",
     "showTitle": false,
     "title": ""
    }
   },
   "outputs": [],
   "source": [
    "# TASK 5 >>> Create a Figure object and set size to (13,9)\n",
    "#        >>> Create a heatmap of data with written correlations coefficients\n",
    "#        >>> Set color palette: 'RdGy'\n",
    "\n",
    "plt.figure(figsize = (13,9))\n",
    "data_corr = data.corr(numeric_only=True)\n",
    "sns.heatmap(data_corr,\n",
    "            cmap = 'RdGy',\n",
    "            annot = True);"
   ]
  },
  {
   "cell_type": "code",
   "execution_count": 0,
   "metadata": {
    "application/vnd.databricks.v1+cell": {
     "cellMetadata": {
      "byteLimit": 2048000,
      "rowLimit": 10000
     },
     "inputWidgets": {},
     "nuid": "31dd40fd-2595-4f23-b129-f91895fda4b2",
     "showTitle": false,
     "title": ""
    }
   },
   "outputs": [],
   "source": [
    "# TASK 6 >>> Create a histogram of 'contact_duration' based on the 'target' feature\n",
    "#        >>> Set parameter: multiple = 'stack'\n",
    "#        >>> Set parameters: height = 7, aspect = 1.3\n",
    "\n",
    "sns.displot(data = data, \n",
    "            x='contact_duration', \n",
    "            hue = 'target', \n",
    "            multiple=\"stack\",\n",
    "            height = 7, \n",
    "            aspect = 1.3);"
   ]
  },
  {
   "cell_type": "code",
   "execution_count": 0,
   "metadata": {
    "application/vnd.databricks.v1+cell": {
     "cellMetadata": {
      "byteLimit": 2048000,
      "rowLimit": 10000
     },
     "inputWidgets": {},
     "nuid": "db43a835-9477-4c23-91aa-677838282bc8",
     "showTitle": false,
     "title": ""
    }
   },
   "outputs": [],
   "source": [
    "# TASK 7 >>> Create a boxplot of 'age' feature based on 'target'\n",
    "#        >>> Set the figure size to (13,9)\n",
    "\n",
    "plt.figure(figsize = (13,9))\n",
    "sns.boxplot(data = data, \n",
    "            x = 'target', \n",
    "            y = 'age');"
   ]
  },
  {
   "cell_type": "code",
   "execution_count": 0,
   "metadata": {
    "application/vnd.databricks.v1+cell": {
     "cellMetadata": {
      "byteLimit": 2048000,
      "rowLimit": 10000
     },
     "inputWidgets": {},
     "nuid": "883f997e-ccff-4db0-9b9b-b20d2e68813b",
     "showTitle": false,
     "title": ""
    }
   },
   "outputs": [],
   "source": [
    "# TASK 8 >>> Create a countplot using the Figure-level function catplot() \n",
    "#        >>> Visualize 'target' variable based on a client's job\n",
    "#        >>> Specify parameters: height = 6 and aspect = 1.3\n",
    "#        >>> Set the rotation of x-axis tick labels to 50 degrees\n",
    "\n",
    "sns.catplot(data = data, \n",
    "            x = 'job', \n",
    "            hue = 'target',\n",
    "            kind = 'count',\n",
    "            height = 6, \n",
    "            aspect = 1.3)\n",
    "plt.xticks(rotation = 50);"
   ]
  },
  {
   "cell_type": "code",
   "execution_count": 0,
   "metadata": {
    "application/vnd.databricks.v1+cell": {
     "cellMetadata": {
      "byteLimit": 2048000,
      "rowLimit": 10000
     },
     "inputWidgets": {},
     "nuid": "973817c2-aa46-4e49-af71-9fff23adff94",
     "showTitle": false,
     "title": ""
    }
   },
   "outputs": [],
   "source": [
    "# TASK 9 >>> Create a countplot of 'marital_status' based on 'target' using a Figure-level function catplot() \n",
    "#        >>> Specify parameters: height = 6 and aspect = 1.3\n",
    "\n",
    "sns.catplot(data = data, \n",
    "            x = 'marital_status', \n",
    "            hue = 'target',\n",
    "            kind = 'count',\n",
    "            height = 6, \n",
    "            aspect = 1.3);"
   ]
  },
  {
   "cell_type": "markdown",
   "metadata": {
    "application/vnd.databricks.v1+cell": {
     "cellMetadata": {},
     "inputWidgets": {},
     "nuid": "94c8517c-ff58-4ba0-af77-82e8931799c3",
     "showTitle": false,
     "title": ""
    }
   },
   "source": [
    "## Citation request:\n",
    "\n",
    "[Moro et al., 2014] S. Moro, P. Cortez and P. Rita. A Data-Driven Approach to Predict the Success of Bank Telemarketing. Decision Support Systems, Elsevier, 62:22-31, June 2014  \n",
    "\n",
    "Material adapted for RBI internal purposes with full permissions from original authors."
   ]
  }
 ],
 "metadata": {
  "application/vnd.databricks.v1+notebook": {
   "dashboards": [],
   "environmentMetadata": null,
   "language": "python",
   "notebookMetadata": {
    "pythonIndentUnit": 2
   },
   "notebookName": "[Answer]4_Bivariate_Analysis_with_Seaborn_jupyter",
   "widgets": {}
  },
  "kernelspec": {
   "display_name": "Python 3",
   "language": "python",
   "name": "python3"
  },
  "language_info": {
   "codemirror_mode": {
    "name": "ipython",
    "version": 3
   },
   "file_extension": ".py",
   "mimetype": "text/x-python",
   "name": "python",
   "nbconvert_exporter": "python",
   "pygments_lexer": "ipython3",
   "version": "3.10.7"
  }
 },
 "nbformat": 4,
 "nbformat_minor": 0
}
