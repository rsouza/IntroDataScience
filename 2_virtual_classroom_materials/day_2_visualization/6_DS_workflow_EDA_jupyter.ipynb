{
 "cells": [
  {
   "cell_type": "markdown",
   "metadata": {
    "application/vnd.databricks.v1+cell": {
     "cellMetadata": {},
     "inputWidgets": {},
     "nuid": "94b42f65-99cb-4789-8255-8f2f7132c139",
     "showTitle": false,
     "title": ""
    }
   },
   "source": [
    "# Data Science workflow  \n",
    "\n",
    "In this sequence of notebooks we will exemplify the inner steps in the Data Science workflow.  \n",
    "We are not going to discuss the business requirements and deployment strategies, but just the phases below:\n",
    "\n",
    "### I - Exploratory Data Analysis (this notebook)  \n",
    "##### II - Feature Engineering and Selection \n",
    "##### III - Modeling  \n",
    "##### IV - Evaluation  \n",
    "\n",
    "This notebook will cover the Exploratory Data Analysis (EDA)"
   ]
  },
  {
   "cell_type": "markdown",
   "metadata": {
    "application/vnd.databricks.v1+cell": {
     "cellMetadata": {},
     "inputWidgets": {},
     "nuid": "6d763479-7d19-4ebe-a8d7-152749144f12",
     "showTitle": false,
     "title": ""
    }
   },
   "source": [
    "## I - Exploratory Data Analysis  \n",
    "\n",
    "Exploratory Data Analysis is a set of techniques developed by John Wilder Tukey in 1970. The philosophy behind this approach was to examine the data before building a model.  \n",
    "John Tukey encouraged statisticians to explore the data, and possibly formulate hypotheses that could lead to new data collection and experiments.  \n",
    "\n",
    "Today data scientists and analysts spend most of their time in Data Wrangling and Exploratory Data Analysis also known as EDA. But what is this EDA and why is it so important? \n",
    "Exploratory Data Analysis (EDA) is a step in the data science workflow, where a number of techniques are used to better understand the dataset being used.\n",
    "\n",
    "‘Understanding the dataset’ can refer to a number of things including but not limited to…\n",
    "\n",
    "+ Get maximum insights from a data set\n",
    "+ Uncover underlying structure\n",
    "+ Extracting important variables and leaving behind useless variables\n",
    "+ Identifying outliers, anomalies, missing values, or human error\n",
    "+ Understanding the relationship(s), or lack thereof, between variables\n",
    "+ Testing underlying assumptions\n",
    "+ Ultimately, maximizing your insights in a dataset and minimizing potential error that may occur later in the process"
   ]
  },
  {
   "cell_type": "markdown",
   "metadata": {
    "application/vnd.databricks.v1+cell": {
     "cellMetadata": {},
     "inputWidgets": {},
     "nuid": "5bc8d5c0-cf29-4b74-9fd4-69afc02c97ae",
     "showTitle": false,
     "title": ""
    }
   },
   "source": [
    "##### Let's see how exploratory data analysis is regarded in CRISP-DM and CRISP-ML:"
   ]
  },
  {
   "cell_type": "markdown",
   "metadata": {
    "application/vnd.databricks.v1+cell": {
     "cellMetadata": {},
     "inputWidgets": {},
     "nuid": "f6268616-fecd-4f54-ad40-7fa4cf8b3081",
     "showTitle": false,
     "title": ""
    }
   },
   "source": [
    "## CRISP-DM\n",
    "\n",
    "The CRoss Industry Standard Process for Data Mining ([CRISP-DM](https://www.datascience-pm.com/crisp-dm-2/)) is a process model that serves as the base for a data science process.  \n",
    "It has six sequential phases:\n",
    "\n",
    "+ Business understanding – What does the business need?\n",
    "+ Data understanding – What data do we have / need? Is it clean?\n",
    "+ Data preparation – How do we organize the data for modeling?\n",
    "+ Modeling – What modeling techniques should we apply?\n",
    "+ Evaluation – Which model best meets the business objectives?\n",
    "+ Deployment – How do stakeholders access the results?\n",
    "\n",
    "\n",
    "![CRISP-DM Process](https://miro.medium.com/max/736/1*0-mnwXXLlMB_bEQwp-706Q.png)"
   ]
  },
  {
   "cell_type": "markdown",
   "metadata": {
    "application/vnd.databricks.v1+cell": {
     "cellMetadata": {},
     "inputWidgets": {},
     "nuid": "4b8de22f-0d64-45b2-b0d6-105e1179ef33",
     "showTitle": false,
     "title": ""
    }
   },
   "source": [
    "The machine learning community is still trying to establish a standard process model for machine learning development. As a result, many machine learning and data science projects are still not well organized. Results are not reproducible.  \n",
    "In general, such projects are conducted in an ad-hoc manner. To guide ML practitioners through the development life cycle, the Cross-Industry Standard Process for the development of Machine Learning applications with Quality assurance methodology ([CRISP-ML(Q)](https://ml-ops.org/content/crisp-ml)) was recently proposed.  \n",
    "\n",
    "There is a particular order of the individual stages. Still, machine learning workflows are fundamentally iterative and exploratory so that depending on the results from the later phases we might re-examine earlier steps."
   ]
  },
  {
   "cell_type": "markdown",
   "metadata": {
    "application/vnd.databricks.v1+cell": {
     "cellMetadata": {},
     "inputWidgets": {},
     "nuid": "317c36b4-88aa-4bfb-b8a1-3eb7c94e64cf",
     "showTitle": false,
     "title": ""
    }
   },
   "source": [
    "## CRISP-ML\n",
    "\n",
    "![CRISP-ML Process](https://ml-ops.org/img/crisp-ml-process.jpg)  \n",
    "[Source](https://ml-ops.org/content/crisp-ml)"
   ]
  },
  {
   "cell_type": "markdown",
   "metadata": {
    "application/vnd.databricks.v1+cell": {
     "cellMetadata": {},
     "inputWidgets": {},
     "nuid": "a8eb4fdd-6262-4693-8130-b64fc28ee81b",
     "showTitle": false,
     "title": ""
    }
   },
   "source": [
    "If we explode the EDA phase in each of the previous frameworks, we would have something like this:\n",
    "\n",
    "![EDA](https://www.researchgate.net/publication/329930775/figure/fig3/AS:873046667710469@1585161954284/The-fundamental-steps-of-the-exploratory-data-analysis-process_W640.jpg)  \n",
    "[Source](https://www.researchgate.net/publication/329930775_A_comprehensive_review_of_tools_for_exploratory_analysis_of_tabular_industrial_datasets)"
   ]
  },
  {
   "cell_type": "markdown",
   "metadata": {
    "application/vnd.databricks.v1+cell": {
     "cellMetadata": {},
     "inputWidgets": {},
     "nuid": "b17d5a4b-adca-407b-a92c-0c8b8e45412c",
     "showTitle": false,
     "title": ""
    }
   },
   "source": [
    "### Starting the EDA"
   ]
  },
  {
   "cell_type": "markdown",
   "metadata": {
    "application/vnd.databricks.v1+cell": {
     "cellMetadata": {},
     "inputWidgets": {},
     "nuid": "54895edc-5a0c-463a-b465-2dbe3ceb80c6",
     "showTitle": false,
     "title": ""
    }
   },
   "source": [
    "### 1. Import libraries"
   ]
  },
  {
   "cell_type": "code",
   "execution_count": 0,
   "metadata": {
    "application/vnd.databricks.v1+cell": {
     "cellMetadata": {},
     "inputWidgets": {},
     "nuid": "104c1798-9a55-4896-884c-d37be2fbf1e1",
     "showTitle": false,
     "title": ""
    }
   },
   "outputs": [],
   "source": [
    "!pip install missingno"
   ]
  },
  {
   "cell_type": "code",
   "execution_count": 0,
   "metadata": {
    "application/vnd.databricks.v1+cell": {
     "cellMetadata": {},
     "inputWidgets": {},
     "nuid": "33e803bf-6e8e-4466-af44-bcfda39280b1",
     "showTitle": false,
     "title": ""
    }
   },
   "outputs": [],
   "source": [
    "import numpy as np\n",
    "import matplotlib.pyplot as plt\n",
    "import seaborn as sns #https://towardsdatascience.com/a-major-seaborn-plotting-tip-i-wish-i-had-learned-earlier-d8209ad0a20e\n",
    "import pandas as pd"
   ]
  },
  {
   "cell_type": "markdown",
   "metadata": {
    "application/vnd.databricks.v1+cell": {
     "cellMetadata": {},
     "inputWidgets": {},
     "nuid": "4f452fe5-4fb1-43b8-825c-336d3d55fc7a",
     "showTitle": false,
     "title": ""
    }
   },
   "source": [
    "### 2. Load Dataset and distinguish attributes"
   ]
  },
  {
   "cell_type": "markdown",
   "metadata": {
    "application/vnd.databricks.v1+cell": {
     "cellMetadata": {},
     "inputWidgets": {},
     "nuid": "d35f34dc-044f-4775-b04e-0216c43d8efe",
     "showTitle": false,
     "title": ""
    }
   },
   "source": [
    "##### 2.1 - Visually inspecting the dataset"
   ]
  },
  {
   "cell_type": "code",
   "execution_count": 0,
   "metadata": {
    "application/vnd.databricks.v1+cell": {
     "cellMetadata": {},
     "inputWidgets": {},
     "nuid": "5dfd9af4-02be-47be-88a1-6cd453d2af5c",
     "showTitle": false,
     "title": ""
    }
   },
   "outputs": [],
   "source": [
    "df = pd.read_csv('../../Data/Automobile_data.csv')\n",
    "df.head()"
   ]
  },
  {
   "cell_type": "markdown",
   "metadata": {
    "application/vnd.databricks.v1+cell": {
     "cellMetadata": {},
     "inputWidgets": {},
     "nuid": "071592de-2a38-44c8-bb9f-e934440a11c2",
     "showTitle": false,
     "title": ""
    }
   },
   "source": [
    "##### 2.2 - Checking columns and data types"
   ]
  },
  {
   "cell_type": "code",
   "execution_count": 0,
   "metadata": {
    "application/vnd.databricks.v1+cell": {
     "cellMetadata": {},
     "inputWidgets": {},
     "nuid": "5395c519-3e42-4d1b-991b-9d53cde25e94",
     "showTitle": false,
     "title": ""
    }
   },
   "outputs": [],
   "source": [
    "# df.columns\n",
    "df.info(verbose=True, show_counts=True)"
   ]
  },
  {
   "cell_type": "markdown",
   "metadata": {
    "application/vnd.databricks.v1+cell": {
     "cellMetadata": {},
     "inputWidgets": {},
     "nuid": "83a89c90-9326-452d-b822-d39c467b3bdf",
     "showTitle": false,
     "title": ""
    }
   },
   "source": [
    "##### 2.3 - Checking basic statistics - first insight on distributions"
   ]
  },
  {
   "cell_type": "code",
   "execution_count": 0,
   "metadata": {
    "application/vnd.databricks.v1+cell": {
     "cellMetadata": {},
     "inputWidgets": {},
     "nuid": "a41e479f-bba1-408c-9cec-0062d7548a1f",
     "showTitle": false,
     "title": ""
    }
   },
   "outputs": [],
   "source": [
    "df.describe()"
   ]
  },
  {
   "cell_type": "markdown",
   "metadata": {
    "application/vnd.databricks.v1+cell": {
     "cellMetadata": {},
     "inputWidgets": {},
     "nuid": "9fcba343-efd4-48c1-8220-e87ccc821483",
     "showTitle": false,
     "title": ""
    }
   },
   "source": [
    "##### At this moment, you look for columns that shall be transformed/converted later in the workflow."
   ]
  },
  {
   "cell_type": "code",
   "execution_count": 0,
   "metadata": {
    "application/vnd.databricks.v1+cell": {
     "cellMetadata": {},
     "inputWidgets": {},
     "nuid": "b237224a-62e2-420e-9d35-b6f849f5a519",
     "showTitle": false,
     "title": ""
    }
   },
   "outputs": [],
   "source": [
    "print(df.select_dtypes(include='number').columns)\n",
    "print(df.select_dtypes(include='object').columns)\n",
    "print(df.select_dtypes(include='category').columns)"
   ]
  },
  {
   "cell_type": "markdown",
   "metadata": {
    "application/vnd.databricks.v1+cell": {
     "cellMetadata": {},
     "inputWidgets": {},
     "nuid": "cddd2106-8267-41c5-b50e-a9603fc964c5",
     "showTitle": false,
     "title": ""
    }
   },
   "source": [
    "### 3. Check for missing values"
   ]
  },
  {
   "cell_type": "code",
   "execution_count": 0,
   "metadata": {
    "application/vnd.databricks.v1+cell": {
     "cellMetadata": {},
     "inputWidgets": {},
     "nuid": "7fd03129-77dc-40bb-aabb-00df500a3c4c",
     "showTitle": false,
     "title": ""
    }
   },
   "outputs": [],
   "source": [
    "df.isnull().sum()"
   ]
  },
  {
   "cell_type": "markdown",
   "metadata": {
    "application/vnd.databricks.v1+cell": {
     "cellMetadata": {},
     "inputWidgets": {},
     "nuid": "b1de0d48-86ca-4261-9694-c4b9aa4688ba",
     "showTitle": false,
     "title": ""
    }
   },
   "source": [
    "It seems there are no missing values, but that may be misleading. Let's explore a bit more:"
   ]
  },
  {
   "cell_type": "code",
   "execution_count": 0,
   "metadata": {
    "application/vnd.databricks.v1+cell": {
     "cellMetadata": {},
     "inputWidgets": {},
     "nuid": "0a866475-707e-40de-8a95-f603d7ae29fc",
     "showTitle": false,
     "title": ""
    }
   },
   "outputs": [],
   "source": [
    "#Checking for wrong entries like symbols -,?,#,*,etc.\n",
    "for col in df.columns:\n",
    "    print('{} : {}'.format(col, df[col].unique()))"
   ]
  },
  {
   "cell_type": "markdown",
   "metadata": {
    "application/vnd.databricks.v1+cell": {
     "cellMetadata": {},
     "inputWidgets": {},
     "nuid": "564debdf-bbb8-44c4-bdd9-1b8ef0845584",
     "showTitle": false,
     "title": ""
    }
   },
   "source": [
    "There are null values in our dataset in form of ‘?’. Pandas is not recognizing them so we will replace them with [`np.nan`](https://numpy.org/doc/stable/reference/constants.html#numpy.nan)."
   ]
  },
  {
   "cell_type": "code",
   "execution_count": 0,
   "metadata": {
    "application/vnd.databricks.v1+cell": {
     "cellMetadata": {},
     "inputWidgets": {},
     "nuid": "d15ea678-0af1-4e28-a2a7-15f621a16e2b",
     "showTitle": false,
     "title": ""
    }
   },
   "outputs": [],
   "source": [
    "#for col in df.columns:\n",
    "#    df[col].replace({'?': np.nan},inplace=True)\n",
    "\n",
    "df.replace({'?': np.nan},inplace=True)    # works better and faster in this specific case, avoiding the loop.\n",
    "\n",
    "df.info()"
   ]
  },
  {
   "cell_type": "code",
   "execution_count": 0,
   "metadata": {
    "application/vnd.databricks.v1+cell": {
     "cellMetadata": {},
     "inputWidgets": {},
     "nuid": "70a2ae0c-bac1-400e-b235-7913f36bbe7c",
     "showTitle": false,
     "title": ""
    }
   },
   "outputs": [],
   "source": [
    "df.isnull().sum()"
   ]
  },
  {
   "cell_type": "markdown",
   "metadata": {
    "application/vnd.databricks.v1+cell": {
     "cellMetadata": {},
     "inputWidgets": {},
     "nuid": "07cc0081-e425-4b48-b26c-4422be0b36a4",
     "showTitle": false,
     "title": ""
    }
   },
   "source": [
    "#### 3.1 Visualizing the missing values  \n",
    "Now the missing values are identified in the dataframe.\n",
    "With the help of [`heatmap`](https://seaborn.pydata.org/generated/seaborn.heatmap.html), we can see the amount of data that is missing from the attribute.\n",
    "With this we can make decisions whether to drop these missing values or to replace them.\n",
    "Usually dropping the missing values is not advisable but sometimes it may be helpful."
   ]
  },
  {
   "cell_type": "code",
   "execution_count": 0,
   "metadata": {
    "application/vnd.databricks.v1+cell": {
     "cellMetadata": {},
     "inputWidgets": {},
     "nuid": "72a74405-7e97-457d-a4fb-89236367db4a",
     "showTitle": false,
     "title": ""
    }
   },
   "outputs": [],
   "source": [
    "plt.figure(figsize=(12,10))\n",
    "sns.heatmap(df.isnull(),cbar=False,cmap='viridis')"
   ]
  },
  {
   "cell_type": "markdown",
   "metadata": {
    "application/vnd.databricks.v1+cell": {
     "cellMetadata": {},
     "inputWidgets": {},
     "nuid": "3fa7f028-e6fe-4c87-8086-338c5c0da3a4",
     "showTitle": false,
     "title": ""
    }
   },
   "source": [
    "Now observe that there are many missing values in 'normalized_losses' while other columns have fewer missing values. We can’t drop the 'normalized_losses' column as it may be important for our prediction.  \n",
    "We can also use the [**missingno**](https://github.com/ResidentMario/missingno) libray for a better evaluation of the missing values. First we can check the quantity and how they distribute among the rows:"
   ]
  },
  {
   "cell_type": "code",
   "execution_count": 0,
   "metadata": {
    "application/vnd.databricks.v1+cell": {
     "cellMetadata": {},
     "inputWidgets": {},
     "nuid": "27af569e-d28e-4fca-95fc-5212046c32e3",
     "showTitle": false,
     "title": ""
    }
   },
   "outputs": [],
   "source": [
    "import missingno as msno"
   ]
  },
  {
   "cell_type": "code",
   "execution_count": 0,
   "metadata": {
    "application/vnd.databricks.v1+cell": {
     "cellMetadata": {},
     "inputWidgets": {},
     "nuid": "ab134d09-4148-41d5-8096-16aee4108c72",
     "showTitle": false,
     "title": ""
    }
   },
   "outputs": [],
   "source": [
    "msno.bar(df)"
   ]
  },
  {
   "cell_type": "code",
   "execution_count": 0,
   "metadata": {
    "application/vnd.databricks.v1+cell": {
     "cellMetadata": {},
     "inputWidgets": {},
     "nuid": "c21fc787-9318-4d50-99be-a057b33b62b4",
     "showTitle": false,
     "title": ""
    }
   },
   "outputs": [],
   "source": [
    "msno.matrix(df)"
   ]
  },
  {
   "cell_type": "markdown",
   "metadata": {
    "application/vnd.databricks.v1+cell": {
     "cellMetadata": {},
     "inputWidgets": {},
     "nuid": "c7bd72b3-bd95-4235-a5a6-14ee13e3847a",
     "showTitle": false,
     "title": ""
    }
   },
   "source": [
    "The missingno [correlation heatmap](https://github.com/ResidentMario/missingno?tab=readme-ov-file#heatmap) measures nullity correlation: how strongly the presence or absence of one variable affects the presence of another"
   ]
  },
  {
   "cell_type": "code",
   "execution_count": 0,
   "metadata": {
    "application/vnd.databricks.v1+cell": {
     "cellMetadata": {},
     "inputWidgets": {},
     "nuid": "9d432ccc-2bd8-4999-a502-9dc33a493897",
     "showTitle": false,
     "title": ""
    }
   },
   "outputs": [],
   "source": [
    "msno.heatmap(df)"
   ]
  },
  {
   "cell_type": "markdown",
   "metadata": {
    "application/vnd.databricks.v1+cell": {
     "cellMetadata": {},
     "inputWidgets": {},
     "nuid": "71a2352e-d041-4951-b965-dd643e0c9484",
     "showTitle": false,
     "title": ""
    }
   },
   "source": [
    "The [dendrogram](https://github.com/ResidentMario/missingno?tab=readme-ov-file#dendrogram) allows you to more fully correlate variable completion, revealing trends deeper than the pairwise ones visible in the correlation heatmap."
   ]
  },
  {
   "cell_type": "code",
   "execution_count": 0,
   "metadata": {
    "application/vnd.databricks.v1+cell": {
     "cellMetadata": {},
     "inputWidgets": {},
     "nuid": "b67245ba-8344-4130-a811-e2dfe9f96a66",
     "showTitle": false,
     "title": ""
    }
   },
   "outputs": [],
   "source": [
    "msno.dendrogram(df)"
   ]
  },
  {
   "cell_type": "markdown",
   "metadata": {
    "application/vnd.databricks.v1+cell": {
     "cellMetadata": {},
     "inputWidgets": {},
     "nuid": "7e96f0b6-5e69-497f-a8d4-7761ed37b63f",
     "showTitle": false,
     "title": ""
    }
   },
   "source": [
    "#### 3.2. Replacing the missing values\n",
    "We will be replacing these missing values with mean because the number of missing values is not great (we could have used the median too).  \n",
    "Later, in the data preparation phase, we will learn other imputation techniques."
   ]
  },
  {
   "cell_type": "code",
   "execution_count": 0,
   "metadata": {
    "application/vnd.databricks.v1+cell": {
     "cellMetadata": {},
     "inputWidgets": {},
     "nuid": "342891b4-1356-4291-bcad-48f5b98fea53",
     "showTitle": false,
     "title": ""
    }
   },
   "outputs": [],
   "source": [
    "df.select_dtypes(include='number').head()"
   ]
  },
  {
   "cell_type": "code",
   "execution_count": 0,
   "metadata": {
    "application/vnd.databricks.v1+cell": {
     "cellMetadata": {},
     "inputWidgets": {},
     "nuid": "571c3ff4-859f-4b72-bd7e-cab9396fa88d",
     "showTitle": false,
     "title": ""
    }
   },
   "outputs": [],
   "source": [
    "df.select_dtypes(include='object').head()"
   ]
  },
  {
   "cell_type": "markdown",
   "metadata": {
    "application/vnd.databricks.v1+cell": {
     "cellMetadata": {},
     "inputWidgets": {},
     "nuid": "cdcd3b53-78c8-4fba-9c1d-8d76b5c02398",
     "showTitle": false,
     "title": ""
    }
   },
   "source": [
    "Now let's transform the mistaken datatypes for numeric values and fill with the mean, using the strategy we have chosen."
   ]
  },
  {
   "cell_type": "code",
   "execution_count": 0,
   "metadata": {
    "application/vnd.databricks.v1+cell": {
     "cellMetadata": {},
     "inputWidgets": {},
     "nuid": "97852b2b-137b-49bd-8e89-584af09a4a87",
     "showTitle": false,
     "title": ""
    }
   },
   "outputs": [],
   "source": [
    "num_col = ['normalized-losses', 'bore',  'stroke', 'horsepower', 'peak-rpm','price']\n",
    "for col in num_col:\n",
    "    df[col] = pd.to_numeric(df[col])\n",
    "    df[col].fillna(df[col].mean(), inplace=True)\n",
    "df.head()"
   ]
  },
  {
   "cell_type": "markdown",
   "metadata": {
    "application/vnd.databricks.v1+cell": {
     "cellMetadata": {},
     "inputWidgets": {},
     "nuid": "19e3b6f6-1322-4f5b-87b0-c8ab690d731e",
     "showTitle": false,
     "title": ""
    }
   },
   "source": [
    "### 4. Checking Data Distributions\n",
    "\n",
    "This is the most important step in EDA. \n",
    "- This step will decide how much insight you can get.\n",
    "- Checking the distributions is fundamental for feature selection and the modeling phase\n",
    "- This step varies from person to person in terms of their questioning ability. \n",
    "\n",
    "Let's check the univariate and bivariate distributions and correlation between different variables, this will give us a roadmap on how to proceed further."
   ]
  },
  {
   "cell_type": "markdown",
   "metadata": {
    "application/vnd.databricks.v1+cell": {
     "cellMetadata": {},
     "inputWidgets": {},
     "nuid": "430bfa3b-1cfa-45ce-a455-71a296f10177",
     "showTitle": false,
     "title": ""
    }
   },
   "source": [
    "#### 4.1 Univariate Analysis  \n",
    "\n",
    "The goal here is to check the distribution of numeric and categorical variables (more about this later in the course)  \n",
    "We can quickly check the distributions of every numeric column:"
   ]
  },
  {
   "cell_type": "code",
   "execution_count": 0,
   "metadata": {
    "application/vnd.databricks.v1+cell": {
     "cellMetadata": {},
     "inputWidgets": {},
     "nuid": "59cd2926-ae26-45e4-b08d-ddc9fd8cf0d6",
     "showTitle": false,
     "title": ""
    }
   },
   "outputs": [],
   "source": [
    "numeric_cols = df.select_dtypes(include='number').columns\n",
    "numeric_cols"
   ]
  },
  {
   "cell_type": "code",
   "execution_count": 0,
   "metadata": {
    "application/vnd.databricks.v1+cell": {
     "cellMetadata": {},
     "inputWidgets": {},
     "nuid": "affcc165-da74-4581-8bfc-e34f6bd11733",
     "showTitle": false,
     "title": ""
    }
   },
   "outputs": [],
   "source": [
    "for col in numeric_cols:\n",
    "    plt.figure(figsize=(18,5))\n",
    "    plt.subplot(1,2,1)\n",
    "    #sns.distplot(df[col])\n",
    "    sns.histplot(df[col], kde=True)\n",
    "    plt.subplot(1,2,2)\n",
    "    sns.boxplot(x=col, data=df)\n",
    "    plt.show()"
   ]
  },
  {
   "cell_type": "markdown",
   "metadata": {
    "application/vnd.databricks.v1+cell": {
     "cellMetadata": {},
     "inputWidgets": {},
     "nuid": "05154570-2a33-4236-879c-df4d7dc0fe62",
     "showTitle": false,
     "title": ""
    }
   },
   "source": [
    "##### 4.1.1 - Analizing distributions on numerical variables - Spotting outliers\n",
    "\n",
    "![Outliers](https://sphweb.bumc.bu.edu/otlt/MPH-Modules/PH717-QuantCore/PH717-Module6-RandomError/Normal%20Distribution%20deviations.png)"
   ]
  },
  {
   "cell_type": "markdown",
   "metadata": {
    "application/vnd.databricks.v1+cell": {
     "cellMetadata": {},
     "inputWidgets": {},
     "nuid": "5af4fba3-4297-4035-8c25-c8ea378116c1",
     "showTitle": false,
     "title": ""
    }
   },
   "source": [
    "Assuming the data would follow a normal distribution, we can choose some of the graphs to examine the data in more detail:"
   ]
  },
  {
   "cell_type": "code",
   "execution_count": 0,
   "metadata": {
    "application/vnd.databricks.v1+cell": {
     "cellMetadata": {},
     "inputWidgets": {},
     "nuid": "fb8b6aa0-2596-4e36-89cd-e460cb3c5aa2",
     "showTitle": false,
     "title": ""
    }
   },
   "outputs": [],
   "source": [
    "#set the style we wish to use for our plots\n",
    "sns.set_style(\"darkgrid\")\n",
    "\n",
    "#plot the distribution of the DataFrame \"Price\" column\n",
    "plt.figure(figsize=(8,12))\n",
    "#sns.histplot(df['price'])\n",
    "sns.displot(df['peak-rpm'], kde=True, bins=50, height=8, aspect=2)  "
   ]
  },
  {
   "cell_type": "code",
   "execution_count": 0,
   "metadata": {
    "application/vnd.databricks.v1+cell": {
     "cellMetadata": {},
     "inputWidgets": {},
     "nuid": "8ce7ccf6-1efe-4db4-ad90-c31ccd156acc",
     "showTitle": false,
     "title": ""
    }
   },
   "outputs": [],
   "source": [
    "fig, ax = plt.subplots(figsize=(16,8))\n",
    "sns.boxplot(x=\"peak-rpm\", data=df, ax=ax)"
   ]
  },
  {
   "cell_type": "markdown",
   "metadata": {
    "application/vnd.databricks.v1+cell": {
     "cellMetadata": {},
     "inputWidgets": {},
     "nuid": "947fe0c4-837d-4dcf-9561-dcfb01444b64",
     "showTitle": false,
     "title": ""
    }
   },
   "source": [
    "We will not treat outliers during Exploratory Data Analysis, but we will get back to them in the Data Preparation phase."
   ]
  },
  {
   "cell_type": "markdown",
   "metadata": {
    "application/vnd.databricks.v1+cell": {
     "cellMetadata": {},
     "inputWidgets": {},
     "nuid": "bc6f31e7-5e14-4821-9c91-f74255fe0195",
     "showTitle": false,
     "title": ""
    }
   },
   "source": [
    "##### 4.1.2 - Analizing distributions on categorical variables"
   ]
  },
  {
   "cell_type": "markdown",
   "metadata": {
    "application/vnd.databricks.v1+cell": {
     "cellMetadata": {},
     "inputWidgets": {},
     "nuid": "8a17b775-a582-4802-9a89-9405682e81c8",
     "showTitle": false,
     "title": ""
    }
   },
   "source": [
    "Although it is not one of the recommended plots, we can always use the pie plots in special situations:"
   ]
  },
  {
   "cell_type": "code",
   "execution_count": 0,
   "metadata": {
    "application/vnd.databricks.v1+cell": {
     "cellMetadata": {},
     "inputWidgets": {},
     "nuid": "ca31c3a7-c2a7-483f-82a7-5e6e21259955",
     "showTitle": false,
     "title": ""
    }
   },
   "outputs": [],
   "source": [
    "fig, ax = plt.subplots(figsize=(8,8))\n",
    "plt.pie(df[\"body-style\"].value_counts(sort=False), labels=df[\"body-style\"].unique())\n",
    "plt.show()"
   ]
  },
  {
   "cell_type": "markdown",
   "metadata": {
    "application/vnd.databricks.v1+cell": {
     "cellMetadata": {},
     "inputWidgets": {},
     "nuid": "8184dc89-5fa6-4e8c-b0f2-c07c78286392",
     "showTitle": false,
     "title": ""
    }
   },
   "source": [
    "[Barplots](https://pandas.pydata.org/pandas-docs/stable/reference/api/pandas.Series.plot.bar.html) with frequencies can be created in Matplotlib."
   ]
  },
  {
   "cell_type": "code",
   "execution_count": 0,
   "metadata": {
    "application/vnd.databricks.v1+cell": {
     "cellMetadata": {},
     "inputWidgets": {},
     "nuid": "ec622626-9640-42ac-8a2b-d62fc1139cb9",
     "showTitle": false,
     "title": ""
    }
   },
   "outputs": [],
   "source": [
    "df[\"body-style\"].value_counts().plot(kind=\"bar\", figsize=(10,6))"
   ]
  },
  {
   "cell_type": "markdown",
   "metadata": {
    "application/vnd.databricks.v1+cell": {
     "cellMetadata": {},
     "inputWidgets": {},
     "nuid": "f1ff54ea-ee85-47a1-8a85-75a19ed7df3e",
     "showTitle": false,
     "title": ""
    }
   },
   "source": [
    "There is no need to separately calculate the count when using the [`sns.countplot()`](https://seaborn.pydata.org/generated/seaborn.countplot.html) function"
   ]
  },
  {
   "cell_type": "code",
   "execution_count": 0,
   "metadata": {
    "application/vnd.databricks.v1+cell": {
     "cellMetadata": {},
     "inputWidgets": {},
     "nuid": "0096112c-56e7-498b-b9f5-ba4befe9feff",
     "showTitle": false,
     "title": ""
    }
   },
   "outputs": [],
   "source": [
    "fig, ax = plt.subplots(figsize=(12,8))\n",
    "#sns.countplot(df[\"body-style\"], ax=ax)\n",
    "sns.countplot(df, x=\"body-style\")"
   ]
  },
  {
   "cell_type": "markdown",
   "metadata": {
    "application/vnd.databricks.v1+cell": {
     "cellMetadata": {},
     "inputWidgets": {},
     "nuid": "7897ae21-4590-40c4-8b09-87271553b14c",
     "showTitle": false,
     "title": ""
    }
   },
   "source": [
    "#### 4.2 Bivariate Analysis  \n",
    "\n",
    "Now we want to check the relationships between pais of variables. We can start by drawing a [pairplot](https://seaborn.pydata.org/generated/seaborn.pairplot.html) and a correlation plot."
   ]
  },
  {
   "cell_type": "code",
   "execution_count": 0,
   "metadata": {
    "application/vnd.databricks.v1+cell": {
     "cellMetadata": {},
     "inputWidgets": {},
     "nuid": "51532622-79bd-43e9-aa4e-534b41331eaa",
     "showTitle": false,
     "title": ""
    }
   },
   "outputs": [],
   "source": [
    "plt.figure(figsize=(10,10))\n",
    "sns.pairplot(df.select_dtypes(include='number'))"
   ]
  },
  {
   "cell_type": "markdown",
   "metadata": {
    "application/vnd.databricks.v1+cell": {
     "cellMetadata": {},
     "inputWidgets": {},
     "nuid": "ecfb6cf6-e9d0-4f24-8aba-ea32d537ea8b",
     "showTitle": false,
     "title": ""
    }
   },
   "source": [
    "The pairplot can help us gaining quick insights on the correlations of variables, but can get cluttered if we have many features.  \n",
    "We can also try the [heatmap](https://seaborn.pydata.org/generated/seaborn.heatmap.html) of correlations:"
   ]
  },
  {
   "cell_type": "code",
   "execution_count": 0,
   "metadata": {
    "application/vnd.databricks.v1+cell": {
     "cellMetadata": {},
     "inputWidgets": {},
     "nuid": "69562301-7e05-42f9-bd6e-bc1ab664ff6a",
     "showTitle": false,
     "title": ""
    }
   },
   "outputs": [],
   "source": [
    "plt.figure(figsize=(12,12))\n",
    "sns.heatmap(df.corr(), cbar=True, annot=True, cmap='vlag', vmin = -1, vmax = 1)"
   ]
  },
  {
   "cell_type": "markdown",
   "metadata": {
    "application/vnd.databricks.v1+cell": {
     "cellMetadata": {},
     "inputWidgets": {},
     "nuid": "c4ec3f9a-186c-4c5c-9584-07a165a3f06e",
     "showTitle": false,
     "title": ""
    }
   },
   "source": [
    "##### Positive Correlation  \n",
    "+ 'Price' – 'wheel-base', 'length', 'width', 'curb_weight', 'engine-size', 'bore', 'horsepower'  \n",
    "+ 'wheel-base' – 'length', 'width', 'height', 'curb_weight', 'engine-size', 'price'  \n",
    "+ 'horsepower' – 'length', 'width', 'curb-weight', 'engine-size', 'bore', 'price'  \n",
    "+ 'Highway mpg' – 'city-mpg'  \n",
    "\n",
    "##### Negative Correlation  \n",
    "+ 'Price' – 'highway-mpg', 'city-mpg'  \n",
    "+ 'highway-mpg' – 'wheel base', 'length', 'width', 'curb-weight', 'engine-size', 'bore', 'horsepower', 'price'  \n",
    "+ 'city' – 'wheel base', 'length', 'width', 'curb-weight', 'engine-size', 'bore', 'horsepower', 'price'  \n",
    "\n",
    "This heatmap has given us great insights into the data.  \n",
    "Now let us apply domain knowledge and ask the questions which will affect the price of the automobile."
   ]
  },
  {
   "cell_type": "markdown",
   "metadata": {
    "application/vnd.databricks.v1+cell": {
     "cellMetadata": {},
     "inputWidgets": {},
     "nuid": "508590a5-938c-4515-9889-3af10047cf88",
     "showTitle": false,
     "title": ""
    }
   },
   "source": [
    "##### 4.2.1 - Checking some columns in more detail  \n",
    "We can draw a vertical boxplot grouped by a categorical variable:"
   ]
  },
  {
   "cell_type": "code",
   "execution_count": 0,
   "metadata": {
    "application/vnd.databricks.v1+cell": {
     "cellMetadata": {},
     "inputWidgets": {},
     "nuid": "42d00384-d11a-4ece-b0db-ddca9d89910e",
     "showTitle": false,
     "title": ""
    }
   },
   "outputs": [],
   "source": [
    "fig, ax = plt.subplots(figsize=(16,8))\n",
    "sns.boxplot(x=\"fuel-type\", y=\"horsepower\", data=df, ax=ax)"
   ]
  },
  {
   "cell_type": "markdown",
   "metadata": {
    "application/vnd.databricks.v1+cell": {
     "cellMetadata": {},
     "inputWidgets": {},
     "nuid": "16754351-2c83-4179-9ed7-6eb061d7597a",
     "showTitle": false,
     "title": ""
    }
   },
   "source": [
    "And even add a third component:  \n",
    "https://seaborn.pydata.org/tutorial/categorical.html"
   ]
  },
  {
   "cell_type": "code",
   "execution_count": 0,
   "metadata": {
    "application/vnd.databricks.v1+cell": {
     "cellMetadata": {},
     "inputWidgets": {},
     "nuid": "9ac4aefd-080b-4ca5-85a8-ee0ffaa9948f",
     "showTitle": false,
     "title": ""
    }
   },
   "outputs": [],
   "source": [
    "#sns.catplot(x=\"fuel-type\", y=\"horsepower\", hue=\"num-of-doors\", kind=\"box\", data=df, height=8, aspect=2)\n",
    "sns.catplot(x=\"fuel-type\", y=\"horsepower\", hue=\"num-of-doors\", kind=\"violin\", inner=\"stick\", split=True, palette=\"pastel\", data=df, height=8, aspect=2)"
   ]
  },
  {
   "cell_type": "markdown",
   "metadata": {
    "application/vnd.databricks.v1+cell": {
     "cellMetadata": {},
     "inputWidgets": {},
     "nuid": "2b60a255-45d0-4c72-8f0c-2f9c60a5b9de",
     "showTitle": false,
     "title": ""
    }
   },
   "source": [
    "### 5. Asking questions based on the analysis"
   ]
  },
  {
   "cell_type": "markdown",
   "metadata": {
    "application/vnd.databricks.v1+cell": {
     "cellMetadata": {},
     "inputWidgets": {},
     "nuid": "0d81bdd5-3b26-4678-8d67-86d5a23b9b4a",
     "showTitle": false,
     "title": ""
    }
   },
   "source": [
    "Try to ask questions related to independent variables and the target variable.  \n",
    "Example questions related to this dataset could be:  \n",
    "\n",
    "+ How does 'fuel-type' affect the price of the car?   \n",
    "+ How does the 'horsepower' affect the price?  \n",
    "+ What is the relationship between 'engine-size' and 'price'?  \n",
    "+ How does 'highway-mpg' affects 'price'?  \n",
    "+ What is the relation between no. of doors and 'price'?"
   ]
  },
  {
   "cell_type": "markdown",
   "metadata": {
    "application/vnd.databricks.v1+cell": {
     "cellMetadata": {},
     "inputWidgets": {},
     "nuid": "b410f5fb-6c43-455f-89f5-1bddcf9744b3",
     "showTitle": false,
     "title": ""
    }
   },
   "source": [
    "#### 5.1 How does 'fuel_type' will affect the price?  \n",
    "\n",
    "Let's compare categorical data with numerical data. We are going to use a catplot from Seaborn, but there are other options for categorical variables:  \n",
    "https://seaborn.pydata.org/tutorial/categorical.html"
   ]
  },
  {
   "cell_type": "code",
   "execution_count": 0,
   "metadata": {
    "application/vnd.databricks.v1+cell": {
     "cellMetadata": {},
     "inputWidgets": {},
     "nuid": "a9a99d11-ec9e-4fb0-9432-f5d8daf06700",
     "showTitle": false,
     "title": ""
    }
   },
   "outputs": [],
   "source": [
    "plt.figure(figsize=(12,10))\n",
    "#https://seaborn.pydata.org/generated/seaborn.catplot.html#seaborn.catplot\n",
    "sns.catplot(x='fuel-type',y='price', data=df, height=8)\n",
    "plt.xlabel('Fuel Type')\n",
    "plt.ylabel('Price')"
   ]
  },
  {
   "cell_type": "markdown",
   "metadata": {
    "application/vnd.databricks.v1+cell": {
     "cellMetadata": {},
     "inputWidgets": {},
     "nuid": "55491f8e-2929-4b69-9a13-6881c0d27051",
     "showTitle": false,
     "title": ""
    }
   },
   "source": [
    "#### 5.2 How does the horsepower affect the price?  \n",
    "\n",
    "Matplotlib and Seaborn have very nice graphs to visualize numerical relationships:  \n",
    "https://seaborn.pydata.org/tutorial/relational.html  \n",
    "https://matplotlib.org/stable/gallery/index.html"
   ]
  },
  {
   "cell_type": "code",
   "execution_count": 0,
   "metadata": {
    "application/vnd.databricks.v1+cell": {
     "cellMetadata": {},
     "inputWidgets": {},
     "nuid": "d6b1bb77-df98-40d3-8195-dc3c67520d27",
     "showTitle": false,
     "title": ""
    }
   },
   "outputs": [],
   "source": [
    "plt.figure(figsize=(12,10))\n",
    "#https://matplotlib.org/stable/api/_as_gen/matplotlib.pyplot.scatter.html  \n",
    "plt.scatter(x='horsepower',y='price', data=df)\n",
    "plt.xlabel('Horsepower')\n",
    "plt.ylabel('Price')"
   ]
  },
  {
   "cell_type": "code",
   "execution_count": 0,
   "metadata": {
    "application/vnd.databricks.v1+cell": {
     "cellMetadata": {},
     "inputWidgets": {},
     "nuid": "9980cd45-c50d-4184-8638-77a9efc0075a",
     "showTitle": false,
     "title": ""
    }
   },
   "outputs": [],
   "source": [
    "#https://seaborn.pydata.org/generated/seaborn.jointplot.html\n",
    "\n",
    "sns.jointplot(x='horsepower',y='price', data=df)\n",
    "sns.jointplot(x='horsepower',y='price', data=df, kind='hex')"
   ]
  },
  {
   "cell_type": "markdown",
   "metadata": {
    "application/vnd.databricks.v1+cell": {
     "cellMetadata": {},
     "inputWidgets": {},
     "nuid": "d873606c-29d4-4d8b-8e1f-aa4642028428",
     "showTitle": false,
     "title": ""
    }
   },
   "source": [
    "We can see that most of the horsepower values lie between 50-150 with a price mostly between 5000-25000. There are outliers as well (between 200-300).  \n",
    "Let’s see a count between 50-100 i.e univariate analysis of horsepower."
   ]
  },
  {
   "cell_type": "code",
   "execution_count": 0,
   "metadata": {
    "application/vnd.databricks.v1+cell": {
     "cellMetadata": {},
     "inputWidgets": {},
     "nuid": "b5283706-2592-4776-b83f-480c8d108f7d",
     "showTitle": false,
     "title": ""
    }
   },
   "outputs": [],
   "source": [
    "plt.figure(figsize=(12,10))\n",
    "#https://seaborn.pydata.org/generated/seaborn.histplot.html\n",
    "sns.histplot(df.horsepower,bins=10)"
   ]
  },
  {
   "cell_type": "markdown",
   "metadata": {
    "application/vnd.databricks.v1+cell": {
     "cellMetadata": {},
     "inputWidgets": {},
     "nuid": "b0221707-6ad5-4eb3-acd4-ac4b2d291f7c",
     "showTitle": false,
     "title": ""
    }
   },
   "source": [
    "The average count between 50-100 is 50 and it is positively skewed."
   ]
  },
  {
   "cell_type": "markdown",
   "metadata": {
    "application/vnd.databricks.v1+cell": {
     "cellMetadata": {},
     "inputWidgets": {},
     "nuid": "13331b61-5838-4f1e-8acd-390a4dc7161b",
     "showTitle": false,
     "title": ""
    }
   },
   "source": [
    "#### 5.3 What is the relation between engine-size and price?"
   ]
  },
  {
   "cell_type": "code",
   "execution_count": 0,
   "metadata": {
    "application/vnd.databricks.v1+cell": {
     "cellMetadata": {},
     "inputWidgets": {},
     "nuid": "6f589d87-141f-4763-86fc-85b5e98a4361",
     "showTitle": false,
     "title": ""
    }
   },
   "outputs": [],
   "source": [
    "plt.figure(figsize=(12,10))\n",
    "#https://matplotlib.org/stable/api/_as_gen/matplotlib.pyplot.scatter.html  \n",
    "plt.scatter(x='engine-size',y='price',data=df)\n",
    "plt.xlabel('Engine size')\n",
    "plt.ylabel('Price')"
   ]
  },
  {
   "cell_type": "code",
   "execution_count": 0,
   "metadata": {
    "application/vnd.databricks.v1+cell": {
     "cellMetadata": {},
     "inputWidgets": {},
     "nuid": "ce376cd9-7a95-4455-8d83-b2e01c77e627",
     "showTitle": false,
     "title": ""
    }
   },
   "outputs": [],
   "source": [
    "sns.jointplot(x='engine-size',y='price', data=df, kind='reg')\n",
    "sns.jointplot(x='engine-size',y='price', data=df, kind='kde')"
   ]
  },
  {
   "cell_type": "markdown",
   "metadata": {
    "application/vnd.databricks.v1+cell": {
     "cellMetadata": {},
     "inputWidgets": {},
     "nuid": "98eb384a-ea42-42b1-ac82-0d9c2886cc14",
     "showTitle": false,
     "title": ""
    }
   },
   "source": [
    "We can observe that the pattern is similar to horsepower vs price."
   ]
  },
  {
   "cell_type": "markdown",
   "metadata": {
    "application/vnd.databricks.v1+cell": {
     "cellMetadata": {},
     "inputWidgets": {},
     "nuid": "bc863cd1-aad8-4921-9797-687025ad47f8",
     "showTitle": false,
     "title": ""
    }
   },
   "source": [
    "#### 5.4 How does highway_mpg affects price?"
   ]
  },
  {
   "cell_type": "code",
   "execution_count": 0,
   "metadata": {
    "application/vnd.databricks.v1+cell": {
     "cellMetadata": {},
     "inputWidgets": {},
     "nuid": "8a4ac855-fb67-4aae-8c28-a91c3c8f9802",
     "showTitle": false,
     "title": ""
    }
   },
   "outputs": [],
   "source": [
    "plt.figure(figsize=(12,10))\n",
    "#https://matplotlib.org/stable/api/_as_gen/matplotlib.pyplot.scatter.html  \n",
    "plt.scatter(x='highway-mpg',y='price',data=df)\n",
    "plt.xlabel('Higway mpg')\n",
    "plt.ylabel('Price')"
   ]
  },
  {
   "cell_type": "markdown",
   "metadata": {
    "application/vnd.databricks.v1+cell": {
     "cellMetadata": {},
     "inputWidgets": {},
     "nuid": "8d8c2c9d-c71b-48f5-9c01-97cacc7770b6",
     "showTitle": false,
     "title": ""
    }
   },
   "source": [
    "We can see price decreases with an increase in 'higway-mpg'."
   ]
  },
  {
   "cell_type": "markdown",
   "metadata": {
    "application/vnd.databricks.v1+cell": {
     "cellMetadata": {},
     "inputWidgets": {},
     "nuid": "19f14ab1-50e1-4f74-86f0-c7a2042b1440",
     "showTitle": false,
     "title": ""
    }
   },
   "source": [
    "#### 5.5 What is the relation between no. of doors and price?  \n",
    "\n",
    "Let us first check the number of doors."
   ]
  },
  {
   "cell_type": "code",
   "execution_count": 0,
   "metadata": {
    "application/vnd.databricks.v1+cell": {
     "cellMetadata": {},
     "inputWidgets": {},
     "nuid": "6446705c-2fa1-448f-a0df-59cea10475f5",
     "showTitle": false,
     "title": ""
    }
   },
   "outputs": [],
   "source": [
    "# Unique values in num_of_doors\n",
    "df[\"num-of-doors\"].value_counts().plot(kind=\"bar\", figsize=(10,6))"
   ]
  },
  {
   "cell_type": "code",
   "execution_count": 0,
   "metadata": {
    "application/vnd.databricks.v1+cell": {
     "cellMetadata": {},
     "inputWidgets": {},
     "nuid": "c1c97ecd-3975-486b-9a43-316c4acbcc8d",
     "showTitle": false,
     "title": ""
    }
   },
   "outputs": [],
   "source": [
    "plt.figure(figsize=(12,8))\n",
    "#https://seaborn.pydata.org/generated/seaborn.boxplot.html\n",
    "sns.boxplot(x='price', y='num-of-doors',data=df)"
   ]
  },
  {
   "cell_type": "markdown",
   "metadata": {
    "application/vnd.databricks.v1+cell": {
     "cellMetadata": {},
     "inputWidgets": {},
     "nuid": "d9d36b0e-eb2d-4bd2-bd00-ccc657cf0b1e",
     "showTitle": false,
     "title": ""
    }
   },
   "source": [
    "With this boxplot we can conclude that the average price of a vehicle with two doors is 10000,  and the average price of a vehicle with four doors is close to 12000.  \n",
    "With this plot, we have gained enough insights fromthe  data and our data is ready to build a model."
   ]
  },
  {
   "cell_type": "markdown",
   "metadata": {
    "application/vnd.databricks.v1+cell": {
     "cellMetadata": {},
     "inputWidgets": {},
     "nuid": "d2ac33ae-893d-42ac-9f66-c098cbcd0a73",
     "showTitle": false,
     "title": ""
    }
   },
   "source": [
    "##### There are ways to explore relationships between more than two variables; although it can get a bit more complicated to interpret."
   ]
  },
  {
   "cell_type": "code",
   "execution_count": 0,
   "metadata": {
    "application/vnd.databricks.v1+cell": {
     "cellMetadata": {},
     "inputWidgets": {},
     "nuid": "7600127e-b423-4197-906b-5caa39aa2d15",
     "showTitle": false,
     "title": ""
    }
   },
   "outputs": [],
   "source": [
    "# Create a pivot table for car manufactures and fuel with horsepower rate as values\n",
    "grouped = pd.pivot_table(data=df,index='make',columns='fuel-type',values='horsepower',aggfunc='mean')\n",
    "\n",
    "# Create a heatmap to visualize manufactures, fuel type and horse power\n",
    "plt.figure(figsize=[12,10])\n",
    "sns.heatmap(grouped, annot=True, cmap='coolwarm', center=0.117)\n",
    "\n",
    "plt.title(\"Horse Power per Manufacturer\")\n",
    "plt.show()"
   ]
  },
  {
   "cell_type": "markdown",
   "metadata": {
    "application/vnd.databricks.v1+cell": {
     "cellMetadata": {},
     "inputWidgets": {},
     "nuid": "6a905e6d-bc53-4651-8f05-95963dc4e97e",
     "showTitle": false,
     "title": ""
    }
   },
   "source": [
    "## II - Feature Engineering and Selection"
   ]
  },
  {
   "cell_type": "markdown",
   "metadata": {
    "application/vnd.databricks.v1+cell": {
     "cellMetadata": {},
     "inputWidgets": {},
     "nuid": "f369f12e-816a-45a2-8906-14c89d9c312b",
     "showTitle": false,
     "title": ""
    }
   },
   "source": [
    "This will be developed in the next modules"
   ]
  },
  {
   "cell_type": "markdown",
   "metadata": {
    "application/vnd.databricks.v1+cell": {
     "cellMetadata": {},
     "inputWidgets": {},
     "nuid": "e8af19b0-b21c-4a6b-8b21-29f763c48e3f",
     "showTitle": false,
     "title": ""
    }
   },
   "source": [
    "## III - Modeling"
   ]
  },
  {
   "cell_type": "markdown",
   "metadata": {
    "application/vnd.databricks.v1+cell": {
     "cellMetadata": {},
     "inputWidgets": {},
     "nuid": "2499c58e-7dc7-4c1b-b981-6e8436269710",
     "showTitle": false,
     "title": ""
    }
   },
   "source": [
    "This will be developed in the next modules"
   ]
  },
  {
   "cell_type": "markdown",
   "metadata": {
    "application/vnd.databricks.v1+cell": {
     "cellMetadata": {},
     "inputWidgets": {},
     "nuid": "e6bfd1ed-57ec-4175-b204-a8186082960b",
     "showTitle": false,
     "title": ""
    }
   },
   "source": [
    "## IV - Evaluation"
   ]
  },
  {
   "cell_type": "markdown",
   "metadata": {
    "application/vnd.databricks.v1+cell": {
     "cellMetadata": {},
     "inputWidgets": {},
     "nuid": "12a7edf0-3c15-4419-a4bc-9220b44a8456",
     "showTitle": false,
     "title": ""
    }
   },
   "source": [
    "This will be developed in the next modules"
   ]
  },
  {
   "cell_type": "markdown",
   "metadata": {
    "application/vnd.databricks.v1+cell": {
     "cellMetadata": {},
     "inputWidgets": {},
     "nuid": "9183c579-a719-49f1-9f84-8ca42088c4ac",
     "showTitle": false,
     "title": ""
    }
   },
   "source": [
    "# Your Turn!"
   ]
  },
  {
   "cell_type": "markdown",
   "metadata": {
    "application/vnd.databricks.v1+cell": {
     "cellMetadata": {},
     "inputWidgets": {},
     "nuid": "f4cfd14c-43d8-4613-bdd6-ec05f825b06d",
     "showTitle": false,
     "title": ""
    }
   },
   "source": [
    "#### Open the datasets available for the use cases and start the EDA.  \n",
    "#### You will be able to make a better decision on which one to use and how to exploit them."
   ]
  },
  {
   "cell_type": "code",
   "execution_count": 0,
   "metadata": {
    "application/vnd.databricks.v1+cell": {
     "cellMetadata": {
      "byteLimit": 2048000,
      "rowLimit": 10000
     },
     "inputWidgets": {},
     "nuid": "01083176-5beb-419c-8f99-0fae99c74fb9",
     "showTitle": false,
     "title": ""
    }
   },
   "outputs": [],
   "source": [
    "import pandas as pd"
   ]
  },
  {
   "cell_type": "code",
   "execution_count": 0,
   "metadata": {
    "application/vnd.databricks.v1+cell": {
     "cellMetadata": {
      "byteLimit": 2048000,
      "rowLimit": 10000
     },
     "inputWidgets": {},
     "nuid": "c45d0b3b-f62e-42ef-b961-2276d58077ba",
     "showTitle": false,
     "title": ""
    }
   },
   "outputs": [],
   "source": [
    "bank_df = pd.read_csv(\"../../3_artificial_use_case/1_Classification/Bank_Marketing/Bank_Dataset/bank-additional-full.zip\", sep=\";\")\n",
    "bank_df.head()"
   ]
  },
  {
   "cell_type": "code",
   "execution_count": 0,
   "metadata": {
    "application/vnd.databricks.v1+cell": {
     "cellMetadata": {
      "byteLimit": 2048000,
      "rowLimit": 10000
     },
     "inputWidgets": {},
     "nuid": "e67e3149-dca4-4c98-9241-2617d13532c0",
     "showTitle": false,
     "title": ""
    }
   },
   "outputs": [],
   "source": [
    "happiness_df = pd.read_csv(\"../../3_artificial_use_case/2_Regression/Happiness_Report/Datasets/2015.csv\")\n",
    "happiness_df.head()"
   ]
  },
  {
   "cell_type": "code",
   "execution_count": 0,
   "metadata": {
    "application/vnd.databricks.v1+cell": {
     "cellMetadata": {},
     "inputWidgets": {},
     "nuid": "0f4f073a-2a93-4d07-9876-df4b15f7e533",
     "showTitle": false,
     "title": ""
    }
   },
   "outputs": [],
   "source": [
    "# Your EDA..."
   ]
  },
  {
   "cell_type": "markdown",
   "metadata": {
    "application/vnd.databricks.v1+cell": {
     "cellMetadata": {},
     "inputWidgets": {},
     "nuid": "41ed16a7-6090-4b15-a9e9-acbc54028938",
     "showTitle": false,
     "title": ""
    }
   },
   "source": [
    "# AutoEDA"
   ]
  },
  {
   "cell_type": "markdown",
   "metadata": {
    "application/vnd.databricks.v1+cell": {
     "cellMetadata": {},
     "inputWidgets": {},
     "nuid": "c749c3c3-085c-4a8d-b45f-293e5e25c17a",
     "showTitle": false,
     "title": ""
    }
   },
   "source": [
    "Now we will introduce Automated Exploratory Data Analysis (AutoEDA). AutoEDA refers to the automated process of performing exploratory data analysis on a dataset without the need for manual intervention. One popular AutoEDA tool is [**Pandas Profiling**](https://docs.profiling.ydata.ai/latest/).\n",
    "\n",
    "Pandas Profiling is an open-source library that generates detailed reports with descriptive statistics and visualizations for a given dataset. It offers a convenient way to quickly understand the structure and characteristics of the data, including:\n",
    "\n",
    "* Summary statistics such as mean, median, mode, standard deviation, etc.\n",
    "* Distribution of numerical and categorical variables.\n",
    "* Correlation between variables.\n",
    "* Missing values and their distribution.\n",
    "* Interactive visualizations for data exploration.\n",
    "\n",
    "\n",
    "Let's explore how to use Pandas Profiling for AutoEDA."
   ]
  },
  {
   "cell_type": "code",
   "execution_count": 0,
   "metadata": {
    "application/vnd.databricks.v1+cell": {
     "cellMetadata": {},
     "inputWidgets": {},
     "nuid": "4ddfdc91-09c1-4a8a-8002-d9dee928f095",
     "showTitle": false,
     "title": ""
    }
   },
   "outputs": [],
   "source": [
    "#Import library\n",
    "from ydata_profiling import ProfileReport\n",
    "\n",
    "#Load the dataset we used in the first part of the notebook\n",
    "df_auto = pd.read_csv('../../Data/Automobile_data.csv')\n",
    "\n",
    "#Generate the standart profiling report\n",
    "profile = ProfileReport(df_auto, title=\"Profiling Report\")"
   ]
  },
  {
   "cell_type": "code",
   "execution_count": 0,
   "metadata": {
    "application/vnd.databricks.v1+cell": {
     "cellMetadata": {},
     "inputWidgets": {},
     "nuid": "63ba7778-a420-4fd6-b1b9-4ee50554e8e2",
     "showTitle": false,
     "title": ""
    }
   },
   "outputs": [],
   "source": [
    "profile"
   ]
  },
  {
   "cell_type": "markdown",
   "metadata": {
    "application/vnd.databricks.v1+cell": {
     "cellMetadata": {},
     "inputWidgets": {},
     "nuid": "09cbb762-bab4-4a5d-b1d9-2dc25085e24d",
     "showTitle": false,
     "title": ""
    }
   },
   "source": [
    "The **'Overview'** tab provides overall dataset statistics. \n",
    "\n",
    "The **'Alerts'** tab provides alerts related to the data quality checks, such as duplicate rows detection, constant and highly correlated variables identification, and low variance variables detection.\n",
    "\n",
    "*For our dataset, what are most of the alerts about?*\n",
    "\n",
    "The **'Reproduction'** tab indicates the analysis start and end times, along with the analysis duration, including the software version utilized.\n",
    "\n",
    "In the section **'Variables'** you can choose the feature to get information on it. \n",
    "\n",
    "*Using this widget, identify how many distinct values 'engine-type' contains.*\n",
    "\n",
    "In the next section **'Interactions'** you can choose two variables to see their scatterplot.\n",
    "\n",
    "**'Correlation'** section provides a heatmap for all features and a correlation table. The darkest blue color means 100% positive correlation. \n",
    "\n",
    "*What features are highly correlated?*\n",
    "\n",
    "Profiling report contain information on **missing values**. The generated visualization shows that we have no missing values. However, before we found out that missing values in our dataset are represented as question mark symbols. That's the point where we should be careful when using AutoEDA.\n"
   ]
  },
  {
   "cell_type": "markdown",
   "metadata": {
    "application/vnd.databricks.v1+cell": {
     "cellMetadata": {},
     "inputWidgets": {},
     "nuid": "507f7dde-cc8d-48ed-af56-e099911b3201",
     "showTitle": false,
     "title": ""
    }
   },
   "source": [
    "Try out Pandas Profiling with one of the use case datasets (`bank_df` or `happiness_df`)!"
   ]
  },
  {
   "cell_type": "code",
   "execution_count": 0,
   "metadata": {
    "application/vnd.databricks.v1+cell": {
     "cellMetadata": {},
     "inputWidgets": {},
     "nuid": "08db8c66-d5fc-4798-bfa0-485617796a0a",
     "showTitle": false,
     "title": ""
    }
   },
   "outputs": [],
   "source": [
    "# Write your code here:\n",
    "# ..."
   ]
  },
  {
   "cell_type": "markdown",
   "metadata": {
    "application/vnd.databricks.v1+cell": {
     "cellMetadata": {},
     "inputWidgets": {},
     "nuid": "1cad632e-c3ae-4c71-b527-2edbc4a24fbc",
     "showTitle": false,
     "title": ""
    }
   },
   "source": [
    "As was demonstrated, Pandas Profiling simplifies the exploratory data analysis process by providing comprehensive insights and visualizations automatically. It is a valuable tool for understanding the characteristics and structure of a dataset, enabling data scientists and analysts to make informed decisions during the data analysis workflow."
   ]
  }
 ],
 "metadata": {
  "application/vnd.databricks.v1+notebook": {
   "dashboards": [],
   "environmentMetadata": null,
   "language": "python",
   "notebookMetadata": {
    "pythonIndentUnit": 2
   },
   "notebookName": "6_DS_workflow_EDA_jupyter",
   "widgets": {}
  },
  "kernelspec": {
   "display_name": "contribute-data-science-apex-LpLk_sPV-py3.10",
   "language": "python",
   "name": "python3"
  },
  "language_info": {
   "codemirror_mode": {
    "name": "ipython",
    "version": 3
   },
   "file_extension": ".py",
   "mimetype": "text/x-python",
   "name": "python",
   "nbconvert_exporter": "python",
   "pygments_lexer": "ipython3",
   "version": "3.10.14"
  }
 },
 "nbformat": 4,
 "nbformat_minor": 0
}
