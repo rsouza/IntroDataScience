{
 "cells": [
  {
   "cell_type": "markdown",
   "metadata": {
    "application/vnd.databricks.v1+cell": {
     "cellMetadata": {
      "byteLimit": 2048000,
      "rowLimit": 10000
     },
     "inputWidgets": {},
     "nuid": "e5d63651-6ad5-44ec-95fe-6f5cef3f2a21",
     "showTitle": false,
     "title": ""
    }
   },
   "source": [
    "# Multivariate Analysis with Seaborn\n",
    "\n",
    "Multivariate visualizations are an expansion of bivariate analysis, where we add another variable (or variables). Often, adding the third variable helps us to find some important pattern or information that we couldn't have observed before."
   ]
  },
  {
   "cell_type": "code",
   "execution_count": 0,
   "metadata": {
    "application/vnd.databricks.v1+cell": {
     "cellMetadata": {
      "byteLimit": 2048000,
      "rowLimit": 10000
     },
     "inputWidgets": {},
     "nuid": "4e707921-df52-4811-9923-02b5be0852da",
     "showTitle": false,
     "title": ""
    }
   },
   "outputs": [],
   "source": [
    "import pandas as pd\n",
    "import seaborn as sns\n",
    "import matplotlib.pyplot as plt"
   ]
  },
  {
   "cell_type": "code",
   "execution_count": 0,
   "metadata": {
    "application/vnd.databricks.v1+cell": {
     "cellMetadata": {
      "byteLimit": 2048000,
      "rowLimit": 10000
     },
     "inputWidgets": {},
     "nuid": "d506da74-c3d3-4b92-9bef-0058a06e6de0",
     "showTitle": false,
     "title": ""
    }
   },
   "outputs": [],
   "source": [
    "# Load the data\n",
    "penguins = pd.read_csv('../../../Data/penguins.csv')\n",
    "penguins.dropna(inplace = True)"
   ]
  },
  {
   "cell_type": "code",
   "execution_count": 0,
   "metadata": {
    "application/vnd.databricks.v1+cell": {
     "cellMetadata": {
      "byteLimit": 2048000,
      "rowLimit": 10000
     },
     "inputWidgets": {},
     "nuid": "660fc49b-8606-47ee-b423-faeb3366b051",
     "showTitle": false,
     "title": ""
    }
   },
   "outputs": [],
   "source": [
    "# Take a look at first 5 rows\n",
    "penguins.head()"
   ]
  },
  {
   "cell_type": "markdown",
   "metadata": {
    "application/vnd.databricks.v1+cell": {
     "cellMetadata": {
      "byteLimit": 2048000,
      "rowLimit": 10000
     },
     "inputWidgets": {},
     "nuid": "dddaefae-9cc7-49df-aae8-ced702d23a93",
     "showTitle": false,
     "title": ""
    }
   },
   "source": [
    "# Mapping the third variable to encoding\n",
    "\n",
    "There are 3 ways how to map the third variable to create a visual semantic:\n",
    "\n",
    "- **encoding with color**\n",
    "- **encoding with the size**\n",
    "- **encoding with the shape**\n",
    "\n",
    "Again, choosing appropriate encoding depends on the question we ask, input data or purpose of visualizations. Let's look at some examples."
   ]
  },
  {
   "cell_type": "markdown",
   "metadata": {
    "application/vnd.databricks.v1+cell": {
     "cellMetadata": {
      "byteLimit": 2048000,
      "rowLimit": 10000
     },
     "inputWidgets": {},
     "nuid": "2940c5b6-5bd4-45e0-8c8a-b6139a4ce606",
     "showTitle": false,
     "title": ""
    }
   },
   "source": [
    "# 1. Visualizing the distribution"
   ]
  },
  {
   "cell_type": "markdown",
   "metadata": {
    "application/vnd.databricks.v1+cell": {
     "cellMetadata": {
      "byteLimit": 2048000,
      "rowLimit": 10000
     },
     "inputWidgets": {},
     "nuid": "bd98e7ec-5151-4b14-84c9-43a30dd807d2",
     "showTitle": false,
     "title": ""
    }
   },
   "source": [
    "## 1.1 Boxplot\n",
    "\n",
    "As we mentioned in the Bivariate analysis notebook, boxplots are great when becomes to comparing several groups. Let's say we want to see the distribution of penguins body mass based on the island. We are also interested whether there are some differences in the ranges of the values between females and males. As before, we plot the first categorical variable 'island', then numerical variable 'body_mass_g' and pass the third groupiny variable 'sex' to `hue` parameter.\n",
    "\n",
    "Here, the third variable is mapped with **color encoding** that produces different colors and visually help determines levels of a subset."
   ]
  },
  {
   "cell_type": "code",
   "execution_count": 0,
   "metadata": {
    "application/vnd.databricks.v1+cell": {
     "cellMetadata": {
      "byteLimit": 2048000,
      "rowLimit": 10000
     },
     "inputWidgets": {},
     "nuid": "a50ff82d-b7a6-49b2-a980-1f124b8715de",
     "showTitle": false,
     "title": ""
    }
   },
   "outputs": [],
   "source": [
    "# Boxplots of body mass based on the island and the gender\n",
    "\n",
    "plt.subplots(figsize = (13,9))\n",
    "sns.boxplot(data = penguins, \n",
    "            x = 'island', \n",
    "            y = 'body_mass_g', \n",
    "            hue = 'sex', \n",
    "            palette = 'Set3',\n",
    "            linewidth = 0.6)\n",
    "plt.xlabel('The island', fontsize = 14, labelpad = 20)     # Setting the title, fontsize and adjusting the spacing\n",
    "plt.ylabel('Body mass (g)', fontsize = 14)\n",
    "plt.title('The distribution of body mass', fontsize = 20);"
   ]
  },
  {
   "cell_type": "markdown",
   "metadata": {
    "application/vnd.databricks.v1+cell": {
     "cellMetadata": {
      "byteLimit": 2048000,
      "rowLimit": 10000
     },
     "inputWidgets": {},
     "nuid": "27fe1a5a-67f2-400e-957b-d4377931560b",
     "showTitle": false,
     "title": ""
    }
   },
   "source": [
    "## 1.2 Stripplots\n",
    "\n",
    "A stripplot is another kind of categorical scatterplot that can be useful when comparing different groups. Again, the categories of the third variable are distinguished using **different colors**."
   ]
  },
  {
   "cell_type": "code",
   "execution_count": 0,
   "metadata": {
    "application/vnd.databricks.v1+cell": {
     "cellMetadata": {
      "byteLimit": 2048000,
      "rowLimit": 10000
     },
     "inputWidgets": {},
     "nuid": "75893870-f08f-401a-8639-34f24248ad72",
     "showTitle": false,
     "title": ""
    }
   },
   "outputs": [],
   "source": [
    "# Stripplots\n",
    "\n",
    "plt.subplots(figsize = (13,9))\n",
    "sns.stripplot(data = penguins, \n",
    "              x = 'species', \n",
    "              y = 'flipper_length_mm', \n",
    "              hue ='sex')\n",
    "plt.xlabel('Species', fontsize = 14, labelpad = 20)     \n",
    "plt.ylabel('The flipper length (mm)', fontsize = 14)\n",
    "plt.title('The distribution of the flipper length', \n",
    "          fontsize = 20)\n",
    "plt.legend(loc = 4, prop = {'size': 13});           # Adjusting the legend's position and the size"
   ]
  },
  {
   "cell_type": "markdown",
   "metadata": {
    "application/vnd.databricks.v1+cell": {
     "cellMetadata": {
      "byteLimit": 2048000,
      "rowLimit": 10000
     },
     "inputWidgets": {},
     "nuid": "a83458df-1027-4fa8-801b-0b91a4b57cca",
     "showTitle": false,
     "title": ""
    }
   },
   "source": [
    "In the above plot we can observe the flipper length distribution based on species and the gender of penguins. We can immediately see some differences and similarities between species thanks to adding a third variable.\n",
    "\n",
    "---\n",
    "## 1.3 Relplot\n",
    "\n",
    "When we want to see a possible relationship between variables we can choose between three encoding approaches and decide which kind is the most suitable. In the below example we can see how body mass and the flipper length relate based on penguins's species."
   ]
  },
  {
   "cell_type": "code",
   "execution_count": 0,
   "metadata": {
    "application/vnd.databricks.v1+cell": {
     "cellMetadata": {
      "byteLimit": 2048000,
      "rowLimit": 10000
     },
     "inputWidgets": {},
     "nuid": "24df839a-a5f6-4563-ade3-4cedfd49d790",
     "showTitle": false,
     "title": ""
    }
   },
   "outputs": [],
   "source": [
    "# A scatterplot of body mass and the flipper length based on species\n",
    "\n",
    "sns.relplot(data = penguins, \n",
    "            x = 'body_mass_g', \n",
    "            y = 'flipper_length_mm', \n",
    "            hue = 'species',\n",
    "            palette = 'Dark2',\n",
    "            height = 7,\n",
    "            aspect = 1.5,)\n",
    "plt.xlabel('Body mass (g)', fontsize = 14, labelpad = 20)     \n",
    "plt.ylabel('The flipper length (mm)', fontsize = 14)\n",
    "plt.title('The relationship of body mass and the flipper length', fontsize = 20);"
   ]
  },
  {
   "cell_type": "markdown",
   "metadata": {
    "application/vnd.databricks.v1+cell": {
     "cellMetadata": {
      "byteLimit": 2048000,
      "rowLimit": 10000
     },
     "inputWidgets": {},
     "nuid": "e87341be-84f6-41ba-aeef-bcecf43d05f5",
     "showTitle": false,
     "title": ""
    }
   },
   "source": [
    "## 1.4 Scatterplot\n",
    "\n",
    "In some cases, encoding with the third variable with **the size** can emphasize important aspects we found during exploratory data analysis. The graph below shows that the Gentoo species' penguin has the highest body mass and the longest flippers."
   ]
  },
  {
   "cell_type": "code",
   "execution_count": 0,
   "metadata": {
    "application/vnd.databricks.v1+cell": {
     "cellMetadata": {
      "byteLimit": 2048000,
      "rowLimit": 10000
     },
     "inputWidgets": {},
     "nuid": "84c5d19c-8ec4-4cb4-b461-419ddda397d5",
     "showTitle": false,
     "title": ""
    }
   },
   "outputs": [],
   "source": [
    "# A scatterplot \n",
    "\n",
    "fig, ax = plt.subplots(figsize = (13,9))\n",
    "sns.scatterplot(data = penguins, \n",
    "                x = 'body_mass_g', \n",
    "                y = 'flipper_length_mm', \n",
    "                size = 'species',\n",
    "                color = 'green')\n",
    "plt.xlabel('Body mass (g)', fontsize = 14, labelpad = 20)     \n",
    "plt.ylabel('The flipper length (mm)', fontsize = 14)\n",
    "plt.title('The relationship of body mass and the flipper length', fontsize = 20);"
   ]
  },
  {
   "cell_type": "markdown",
   "metadata": {
    "application/vnd.databricks.v1+cell": {
     "cellMetadata": {
      "byteLimit": 2048000,
      "rowLimit": 10000
     },
     "inputWidgets": {},
     "nuid": "f9207514-1e77-4921-b9dc-513991cc8e82",
     "showTitle": false,
     "title": ""
    }
   },
   "source": [
    "## 1.5 Lmplot\n",
    "\n",
    "Sometimes, we want to emphasize different categories of subset more sophisticatedly. In that case, we can choose specific  **markers** for each category."
   ]
  },
  {
   "cell_type": "code",
   "execution_count": 0,
   "metadata": {
    "application/vnd.databricks.v1+cell": {
     "cellMetadata": {
      "byteLimit": 2048000,
      "rowLimit": 10000
     },
     "inputWidgets": {},
     "nuid": "309ab0b3-ddfe-4327-bcbe-3e7382a4f8a4",
     "showTitle": false,
     "title": ""
    }
   },
   "outputs": [],
   "source": [
    "# A lmplot\n",
    "\n",
    "sns.lmplot(data = penguins, \n",
    "           x = 'bill_length_mm', \n",
    "           y = 'body_mass_g', \n",
    "           hue = 'species', \n",
    "           markers = ['+','8','*'],\n",
    "           palette = 'Dark2',\n",
    "           height = 7,\n",
    "           aspect = 1.3)\n",
    "plt.xlabel('The bill length (mm)', fontsize = 14, labelpad = 20)     \n",
    "plt.ylabel('The body mass (g)', fontsize = 14)\n",
    "plt.title('The relationship of body mass and the bill length', fontsize = 20);"
   ]
  },
  {
   "cell_type": "markdown",
   "metadata": {
    "application/vnd.databricks.v1+cell": {
     "cellMetadata": {
      "byteLimit": 2048000,
      "rowLimit": 10000
     },
     "inputWidgets": {},
     "nuid": "407ff455-e2c0-47a0-a43e-57bd86e00357",
     "showTitle": false,
     "title": ""
    }
   },
   "source": [
    "# 2.  FacetGrid\n",
    "\n",
    "Sometimes we want to display a relationship or a distribution not in a single Axes, but create a separate subplots. This can be done using a FacetGrid object, where we specify 3 dimensions:\n",
    "- row \n",
    "- col\n",
    "- hue - plotting different subset\n",
    "\n",
    "Let's say we want to look at the distribution of penguins species, so we assign 'species' to `col` parameter."
   ]
  },
  {
   "cell_type": "code",
   "execution_count": 0,
   "metadata": {
    "application/vnd.databricks.v1+cell": {
     "cellMetadata": {
      "byteLimit": 2048000,
      "rowLimit": 10000
     },
     "inputWidgets": {},
     "nuid": "090aee9f-6593-4abb-8cde-7ae5606164cf",
     "showTitle": false,
     "title": ""
    }
   },
   "outputs": [],
   "source": [
    "# Initializing a FacetGrid object\n",
    "g = sns.FacetGrid(penguins, col = 'species')"
   ]
  },
  {
   "cell_type": "markdown",
   "metadata": {
    "application/vnd.databricks.v1+cell": {
     "cellMetadata": {
      "byteLimit": 2048000,
      "rowLimit": 10000
     },
     "inputWidgets": {},
     "nuid": "06c58dad-5883-45b2-bf45-869bb9d16895",
     "showTitle": false,
     "title": ""
    }
   },
   "source": [
    "When we initialized FacetGrid object, a Figure and Axes will be returned. To create some plot we apply `.map()` on a FacetGrid, where we specify plotting function and variables we want to plot."
   ]
  },
  {
   "cell_type": "code",
   "execution_count": 0,
   "metadata": {
    "application/vnd.databricks.v1+cell": {
     "cellMetadata": {
      "byteLimit": 2048000,
      "rowLimit": 10000
     },
     "inputWidgets": {},
     "nuid": "28585339-ed02-4a42-b4f5-9958d12dda55",
     "showTitle": false,
     "title": ""
    }
   },
   "outputs": [],
   "source": [
    "# Initializing a FacetGrid object and col parameter\n",
    "\n",
    "g = sns.FacetGrid(penguins, \n",
    "                  col = 'species',\n",
    "                  height = 4,\n",
    "                  aspect = 1)\n",
    "# Mapping plotting function and defining a variable\n",
    "g.map(sns.histplot, 'body_mass_g');"
   ]
  },
  {
   "cell_type": "markdown",
   "metadata": {
    "application/vnd.databricks.v1+cell": {
     "cellMetadata": {
      "byteLimit": 2048000,
      "rowLimit": 10000
     },
     "inputWidgets": {},
     "nuid": "5b2583f3-4559-4dc5-b9e4-24eae4c61a3b",
     "showTitle": false,
     "title": ""
    }
   },
   "source": [
    "Let's add the third variable using `row` parameter. We want to see the distribution of body mass also based on species gender."
   ]
  },
  {
   "cell_type": "code",
   "execution_count": 0,
   "metadata": {
    "application/vnd.databricks.v1+cell": {
     "cellMetadata": {
      "byteLimit": 2048000,
      "rowLimit": 10000
     },
     "inputWidgets": {},
     "nuid": "72ed0dcc-3423-45e2-9402-d13b4a1670fb",
     "showTitle": false,
     "title": ""
    }
   },
   "outputs": [],
   "source": [
    "# Initializing a FacetGrid object and col and row parameters\n",
    "\n",
    "g = sns.FacetGrid(penguins, \n",
    "                  col = 'species', \n",
    "                  row = 'sex')\n",
    "# Mapping plotting function and defining variable\n",
    "g.map(sns.histplot, 'body_mass_g', color = 'paleturquoise');"
   ]
  },
  {
   "cell_type": "markdown",
   "metadata": {
    "application/vnd.databricks.v1+cell": {
     "cellMetadata": {
      "byteLimit": 2048000,
      "rowLimit": 10000
     },
     "inputWidgets": {},
     "nuid": "14478245-6dc3-450e-a1d6-24e1e66840a2",
     "showTitle": false,
     "title": ""
    }
   },
   "source": [
    "To visualize a relationship between 2 numerical variables we just add the names of the particular features. Let's visualize a relationship between body mass and the flipper length based on species. We also add the 'sex' variable encoded using color."
   ]
  },
  {
   "cell_type": "code",
   "execution_count": 0,
   "metadata": {
    "application/vnd.databricks.v1+cell": {
     "cellMetadata": {
      "byteLimit": 2048000,
      "rowLimit": 10000
     },
     "inputWidgets": {},
     "nuid": "81220f1c-f01a-4763-8702-03ed2aa5a578",
     "showTitle": false,
     "title": ""
    }
   },
   "outputs": [],
   "source": [
    "# Initializing a FacetGrid object and col parameter\n",
    "\n",
    "g = sns.FacetGrid(data = penguins, \n",
    "                  col = 'species', \n",
    "                  hue = 'sex',\n",
    "                  height = 4,\n",
    "                  aspect = 1, \n",
    "                  palette = 'Accent')\n",
    "# Mapping plotting function and defining variable\n",
    "g.map(sns.scatterplot, 'body_mass_g', 'flipper_length_mm')\n",
    "# Setting x.axis and y-axis labels\n",
    "g.set_axis_labels('Body mass (g)', 'The flipper length (mm)')\n",
    "# Displaying the legend\n",
    "g.add_legend();"
   ]
  },
  {
   "cell_type": "markdown",
   "metadata": {
    "application/vnd.databricks.v1+cell": {
     "cellMetadata": {
      "byteLimit": 2048000,
      "rowLimit": 10000
     },
     "inputWidgets": {},
     "nuid": "9e3d4b8f-13b5-43a6-8fd6-23d328082867",
     "showTitle": false,
     "title": ""
    }
   },
   "source": [
    "# 3. PairGrid\n",
    "\n",
    "Pairwise relationships of variables can be visualized using PairGrid. The initialization of a PairGrid results in a subplot grid with multiple Axes. Then we can call Axes-level plotting functions to draw plots in the upper and lower triangles and the marginal distribution of variables can be drawn along the diagonal. Creation of a PairGrid and a FacetGrid is similar, but the main difference is that using a FacetGrid you are allowed to use only one specific plotting function that is applied on each subplot. \n",
    "\n",
    "## 3.1 Customizations of a PairGrid\n",
    "\n",
    "You can customize a PairGrid output in several ways, all of which are described in the [documentation](https://seaborn.pydata.org/generated/seaborn.PairGrid.html#seaborn.PairGrid).\n",
    "\n",
    "Since the upper and lower triangles have mirrored plots you can specify different plotting functions using `map_upper()` or `map.lower()`. \n",
    "There are also possibilities to encode the third variable in plots other than through color.  \n",
    "\n",
    "Similar result can be accomplished using a high-level interface `pairplot()`. However, if you want to have more control of subplot grid, use a PairGrid."
   ]
  },
  {
   "cell_type": "code",
   "execution_count": 0,
   "metadata": {
    "application/vnd.databricks.v1+cell": {
     "cellMetadata": {
      "byteLimit": 2048000,
      "rowLimit": 10000
     },
     "inputWidgets": {},
     "nuid": "5a7074b7-d9aa-449b-8edf-f89a81245600",
     "showTitle": false,
     "title": ""
    }
   },
   "outputs": [],
   "source": [
    "# Defining colors for categories\n",
    "palette = ['cornflowerblue','lightgreen','gold']\n",
    "\n",
    "# Setting a palette\n",
    "sns.set_palette(sns.color_palette(palette))"
   ]
  },
  {
   "cell_type": "code",
   "execution_count": 0,
   "metadata": {
    "application/vnd.databricks.v1+cell": {
     "cellMetadata": {
      "byteLimit": 2048000,
      "rowLimit": 10000
     },
     "inputWidgets": {},
     "nuid": "2a51d9bd-b48b-4451-9de0-26801b7ad545",
     "showTitle": false,
     "title": ""
    }
   },
   "outputs": [],
   "source": [
    "# Initializing a PairGrid object\n",
    "g_grid = sns.PairGrid(penguins, hue = 'species')\n",
    "\n",
    "# Plotting univariate plot on diagonal subplots\n",
    "g_grid.map_diag(sns.kdeplot, fill = True)\n",
    "\n",
    "# Plotting relational plot on the off-diagonal subplots\n",
    "g_grid.map_offdiag(sns.scatterplot)\n",
    "g_grid.add_legend();"
   ]
  },
  {
   "cell_type": "markdown",
   "metadata": {
    "application/vnd.databricks.v1+cell": {
     "cellMetadata": {
      "byteLimit": 2048000,
      "rowLimit": 10000
     },
     "inputWidgets": {},
     "nuid": "347632c2-8864-4a61-a826-d322cee79611",
     "showTitle": false,
     "title": ""
    }
   },
   "source": [
    "# Task for you"
   ]
  },
  {
   "cell_type": "code",
   "execution_count": 0,
   "metadata": {
    "application/vnd.databricks.v1+cell": {
     "cellMetadata": {
      "byteLimit": 2048000,
      "rowLimit": 10000
     },
     "inputWidgets": {},
     "nuid": "762c67db-91cb-4f28-82e5-4a4f5626ed22",
     "showTitle": false,
     "title": ""
    }
   },
   "outputs": [],
   "source": [
    "# TASK >>> How do the bill length and bill depth relate to each other based on penguin species ? \n",
    "\n",
    "sns.relplot(data = penguins, x = 'bill_length_mm', y = 'bill_depth_mm', hue = 'species'); # One possible answer"
   ]
  },
  {
   "cell_type": "markdown",
   "metadata": {
    "application/vnd.databricks.v1+cell": {
     "cellMetadata": {
      "byteLimit": 2048000,
      "rowLimit": 10000
     },
     "inputWidgets": {},
     "nuid": "c57f1d18-aa00-49e4-bb1f-46c6125ea20c",
     "showTitle": false,
     "title": ""
    }
   },
   "source": [
    "Some material adapted for RBI internal purposes with full permissions from original authors. [Source](https://github.com/zatkopatrik/authentic-data-science)"
   ]
  }
 ],
 "metadata": {
  "application/vnd.databricks.v1+notebook": {
   "dashboards": [],
   "language": "python",
   "notebookMetadata": {
    "pythonIndentUnit": 4
   },
   "notebookName": "[Answer]5_Multivariate_visualizations_with_Seaborn_jupyter",
   "widgets": {}
  }
 },
 "nbformat": 4,
 "nbformat_minor": 0
}
