{
 "cells": [
  {
   "cell_type": "markdown",
   "metadata": {
    "application/vnd.databricks.v1+cell": {
     "cellMetadata": {},
     "inputWidgets": {},
     "nuid": "4035e63a-b4ea-44b3-8337-208dfbe92c10",
     "showTitle": false,
     "title": ""
    }
   },
   "source": [
    "# Data Science workflow  \n",
    "\n",
    "In this sequence of notebooks we will exemplify the inner steps in the Data Science workflow.  \n",
    "We are not going to discuss the business requirements and deployment strategies, but just the phases below:\n",
    "\n",
    "### I - Exploratory Data Analysis (this notebook)  \n",
    "##### II - Feature Engineering and Selection \n",
    "##### III - Modeling  \n",
    "##### IV - Evaluation  \n",
    "\n",
    "This notebook will cover the Exploratory Data Analysis (EDA)"
   ]
  },
  {
   "cell_type": "markdown",
   "metadata": {
    "application/vnd.databricks.v1+cell": {
     "cellMetadata": {},
     "inputWidgets": {},
     "nuid": "c91a30ab-f79e-49d4-8b0e-5ab27bbdbeb7",
     "showTitle": false,
     "title": ""
    }
   },
   "source": [
    "## I - Exploratory Data Analysis  \n",
    "\n",
    "Exploratory Data Analysis is a set of techniques developed by John Wilder Tukey in 1970. The philosophy behind this approach was to examine the data before building a model.  \n",
    "John Tukey encouraged statisticians to explore the data, and possibly formulate hypotheses that could lead to new data collection and experiments.  \n",
    "\n",
    "Today data scientists and analysts spend most of their time in Data Wrangling and Exploratory Data Analysis also known as EDA. But what is this EDA and why is it so important? \n",
    "Exploratory Data Analysis (EDA) is a step in the data science workflow, where a number of techniques are used to better understand the dataset being used.\n",
    "\n",
    "‘Understanding the dataset’ can refer to a number of things including but not limited to…\n",
    "\n",
    "+ Get maximum insights from a data set\n",
    "+ Uncover underlying structure\n",
    "+ Extracting important variables and leaving behind useless variables\n",
    "+ Identifying outliers, anomalies, missing values, or human error\n",
    "+ Understanding the relationship(s), or lack thereof, between variables\n",
    "+ Testing underlying assumptions\n",
    "+ Ultimately, maximizing your insights in a dataset and minimizing potential error that may occur later in the process"
   ]
  },
  {
   "cell_type": "markdown",
   "metadata": {
    "application/vnd.databricks.v1+cell": {
     "cellMetadata": {},
     "inputWidgets": {},
     "nuid": "96d407bf-a37d-452c-ac7e-33d126a95d6e",
     "showTitle": false,
     "title": ""
    }
   },
   "source": [
    "##### Let's see how exploratory data analysis is regarded in CRISP-DM and CRISP-ML:"
   ]
  },
  {
   "cell_type": "markdown",
   "metadata": {
    "application/vnd.databricks.v1+cell": {
     "cellMetadata": {},
     "inputWidgets": {},
     "nuid": "2687ef7f-2325-48e8-915d-6f576336558b",
     "showTitle": false,
     "title": ""
    }
   },
   "source": [
    "## CRISP-DM\n",
    "\n",
    "The CRoss Industry Standard Process for Data Mining ([CRISP-DM](https://www.datascience-pm.com/crisp-dm-2/)) is a process model that serves as the base for a data science process.  \n",
    "It has six sequential phases:\n",
    "\n",
    "+ Business understanding – What does the business need?\n",
    "+ Data understanding – What data do we have / need? Is it clean?\n",
    "+ Data preparation – How do we organize the data for modeling?\n",
    "+ Modeling – What modeling techniques should we apply?\n",
    "+ Evaluation – Which model best meets the business objectives?\n",
    "+ Deployment – How do stakeholders access the results?\n",
    "\n",
    "\n",
    "![CRISP-DM Process](https://miro.medium.com/max/736/1*0-mnwXXLlMB_bEQwp-706Q.png)"
   ]
  },
  {
   "cell_type": "markdown",
   "metadata": {
    "application/vnd.databricks.v1+cell": {
     "cellMetadata": {},
     "inputWidgets": {},
     "nuid": "9357fa05-e2f8-4890-971b-7f7b30d8020c",
     "showTitle": false,
     "title": ""
    }
   },
   "source": [
    "The machine learning community is still trying to establish a standard process model for machine learning development. As a result, many machine learning and data science projects are still not well organized. Results are not reproducible.  \n",
    "In general, such projects are conducted in an ad-hoc manner. To guide ML practitioners through the development life cycle, the Cross-Industry Standard Process for the development of Machine Learning applications with Quality assurance methodology ([CRISP-ML(Q)](https://ml-ops.org/content/crisp-ml)) was recently proposed.  \n",
    "\n",
    "There is a particular order of the individual stages. Still, machine learning workflows are fundamentally iterative and exploratory so that depending on the results from the later phases we might re-examine earlier steps."
   ]
  },
  {
   "cell_type": "markdown",
   "metadata": {
    "application/vnd.databricks.v1+cell": {
     "cellMetadata": {},
     "inputWidgets": {},
     "nuid": "44077b66-94fa-46d7-922a-1dccaf95985f",
     "showTitle": false,
     "title": ""
    }
   },
   "source": [
    "## CRISP-ML\n",
    "\n",
    "![CRISP-ML Process](https://ml-ops.org/img/crisp-ml-process.jpg)  \n",
    "[Source](https://ml-ops.org/content/crisp-ml)"
   ]
  },
  {
   "cell_type": "markdown",
   "metadata": {
    "application/vnd.databricks.v1+cell": {
     "cellMetadata": {},
     "inputWidgets": {},
     "nuid": "21748fa5-9017-4976-9319-acff30f417ef",
     "showTitle": false,
     "title": ""
    }
   },
   "source": [
    "If we explode the EDA phase in each of the previous frameworks, we would have something like this:\n",
    "\n",
    "![EDA](https://www.researchgate.net/publication/329930775/figure/fig3/AS:873046667710469@1585161954284/The-fundamental-steps-of-the-exploratory-data-analysis-process_W640.jpg)  \n",
    "[Source](https://www.researchgate.net/publication/329930775_A_comprehensive_review_of_tools_for_exploratory_analysis_of_tabular_industrial_datasets)"
   ]
  },
  {
   "cell_type": "markdown",
   "metadata": {
    "application/vnd.databricks.v1+cell": {
     "cellMetadata": {},
     "inputWidgets": {},
     "nuid": "7d1efc45-8fb1-416d-816d-82e2262d39b3",
     "showTitle": false,
     "title": ""
    }
   },
   "source": [
    "### Starting the EDA"
   ]
  },
  {
   "cell_type": "markdown",
   "metadata": {
    "application/vnd.databricks.v1+cell": {
     "cellMetadata": {},
     "inputWidgets": {},
     "nuid": "76125627-addf-4e4b-b6f2-554a05d442f7",
     "showTitle": false,
     "title": ""
    }
   },
   "source": [
    "### 1. Import libraries"
   ]
  },
  {
   "cell_type": "code",
   "execution_count": 0,
   "metadata": {
    "application/vnd.databricks.v1+cell": {
     "cellMetadata": {
      "byteLimit": 2048000,
      "rowLimit": 10000
     },
     "inputWidgets": {},
     "nuid": "3120b79e-9960-4b8c-9fef-f4a49994d513",
     "showTitle": false,
     "title": ""
    }
   },
   "outputs": [],
   "source": [
    "import numpy as np\n",
    "import matplotlib.pyplot as plt\n",
    "import seaborn as sns #https://towardsdatascience.com/a-major-seaborn-plotting-tip-i-wish-i-had-learned-earlier-d8209ad0a20e\n",
    "import pandas as pd"
   ]
  },
  {
   "cell_type": "markdown",
   "metadata": {
    "application/vnd.databricks.v1+cell": {
     "cellMetadata": {},
     "inputWidgets": {},
     "nuid": "5af42688-a031-48bf-9ee4-55070b16de8e",
     "showTitle": false,
     "title": ""
    }
   },
   "source": [
    "### 2. Load Dataset and distinguish attributes"
   ]
  },
  {
   "cell_type": "markdown",
   "metadata": {
    "application/vnd.databricks.v1+cell": {
     "cellMetadata": {},
     "inputWidgets": {},
     "nuid": "e0d4bbfe-eb90-4013-aed4-b507d03775e0",
     "showTitle": false,
     "title": ""
    }
   },
   "source": [
    "##### 2.1 - Visually inspecting the dataset"
   ]
  },
  {
   "cell_type": "code",
   "execution_count": 0,
   "metadata": {
    "application/vnd.databricks.v1+cell": {
     "cellMetadata": {
      "byteLimit": 2048000,
      "rowLimit": 10000
     },
     "inputWidgets": {},
     "nuid": "09a681dd-82ec-4af7-8d0b-de1e9f7f00af",
     "showTitle": false,
     "title": ""
    }
   },
   "outputs": [],
   "source": [
    "df = pd.read_csv('Data/Automobile_data.csv')\n",
    "df.head()"
   ]
  },
  {
   "cell_type": "markdown",
   "metadata": {
    "application/vnd.databricks.v1+cell": {
     "cellMetadata": {},
     "inputWidgets": {},
     "nuid": "781885b3-4310-4cd7-a42b-48b598639dfc",
     "showTitle": false,
     "title": ""
    }
   },
   "source": [
    "##### 2.2 - Checking columns and data types"
   ]
  },
  {
   "cell_type": "code",
   "execution_count": 0,
   "metadata": {
    "application/vnd.databricks.v1+cell": {
     "cellMetadata": {
      "byteLimit": 2048000,
      "rowLimit": 10000
     },
     "inputWidgets": {},
     "nuid": "f1bf1fa0-fe4c-41a2-9aee-c4939d0a4a84",
     "showTitle": false,
     "title": ""
    }
   },
   "outputs": [],
   "source": [
    "# df.columns\n",
    "df.info(verbose=True, show_counts=True)"
   ]
  },
  {
   "cell_type": "markdown",
   "metadata": {
    "application/vnd.databricks.v1+cell": {
     "cellMetadata": {},
     "inputWidgets": {},
     "nuid": "490de6e1-25a9-4500-834a-5ac51c2ea919",
     "showTitle": false,
     "title": ""
    }
   },
   "source": [
    "##### 2.3 - Checking basic statistics - first insight on distributions"
   ]
  },
  {
   "cell_type": "code",
   "execution_count": 0,
   "metadata": {
    "application/vnd.databricks.v1+cell": {
     "cellMetadata": {
      "byteLimit": 2048000,
      "rowLimit": 10000
     },
     "inputWidgets": {},
     "nuid": "38f7d1c5-5fb3-451c-a54b-ddd175780dd4",
     "showTitle": false,
     "title": ""
    }
   },
   "outputs": [],
   "source": [
    "df.describe()"
   ]
  },
  {
   "cell_type": "markdown",
   "metadata": {
    "application/vnd.databricks.v1+cell": {
     "cellMetadata": {},
     "inputWidgets": {},
     "nuid": "4451f954-98ca-441b-84ed-4db4bc9acb5d",
     "showTitle": false,
     "title": ""
    }
   },
   "source": [
    "##### At this moment, you look for columns that shall be transformed/converted later in the workflow."
   ]
  },
  {
   "cell_type": "code",
   "execution_count": 0,
   "metadata": {
    "application/vnd.databricks.v1+cell": {
     "cellMetadata": {
      "byteLimit": 2048000,
      "rowLimit": 10000
     },
     "inputWidgets": {},
     "nuid": "91ee46e6-bef8-467c-a73a-fab0ccb8b330",
     "showTitle": false,
     "title": ""
    }
   },
   "outputs": [],
   "source": [
    "print(df.select_dtypes(include='number').columns)\n",
    "print(df.select_dtypes(include='object').columns)\n",
    "print(df.select_dtypes(include='category').columns)"
   ]
  },
  {
   "cell_type": "markdown",
   "metadata": {
    "application/vnd.databricks.v1+cell": {
     "cellMetadata": {},
     "inputWidgets": {},
     "nuid": "4d4521d3-0805-4947-b14d-5e1188856880",
     "showTitle": false,
     "title": ""
    }
   },
   "source": [
    "### 3. Check for missing values"
   ]
  },
  {
   "cell_type": "code",
   "execution_count": 0,
   "metadata": {
    "application/vnd.databricks.v1+cell": {
     "cellMetadata": {
      "byteLimit": 2048000,
      "rowLimit": 10000
     },
     "inputWidgets": {},
     "nuid": "6f829a30-e5ae-45c7-80c4-f3582cabad6b",
     "showTitle": false,
     "title": ""
    }
   },
   "outputs": [],
   "source": [
    "df.isnull().sum()"
   ]
  },
  {
   "cell_type": "markdown",
   "metadata": {
    "application/vnd.databricks.v1+cell": {
     "cellMetadata": {},
     "inputWidgets": {},
     "nuid": "a260a0c8-3f45-4d39-96d9-39aecc41c89f",
     "showTitle": false,
     "title": ""
    }
   },
   "source": [
    "It seems there are no missing values, but that may be misleading. Let's explore a bit more:"
   ]
  },
  {
   "cell_type": "code",
   "execution_count": 0,
   "metadata": {
    "application/vnd.databricks.v1+cell": {
     "cellMetadata": {
      "byteLimit": 2048000,
      "rowLimit": 10000
     },
     "inputWidgets": {},
     "nuid": "24d1252d-474f-4866-ae83-54d866131630",
     "showTitle": false,
     "title": ""
    }
   },
   "outputs": [],
   "source": [
    "#Checking for wrong entries like symbols -,?,#,*,etc.\n",
    "for col in df.columns:\n",
    "    print('{} : {}'.format(col, df[col].unique()))"
   ]
  },
  {
   "cell_type": "markdown",
   "metadata": {
    "application/vnd.databricks.v1+cell": {
     "cellMetadata": {},
     "inputWidgets": {},
     "nuid": "784f1e8f-3428-493c-b2e7-1c064acbfd44",
     "showTitle": false,
     "title": ""
    }
   },
   "source": [
    "There are null values in our dataset in form of ‘?’. Pandas is not recognizing them so we will replace them with `np.nan`."
   ]
  },
  {
   "cell_type": "code",
   "execution_count": 0,
   "metadata": {
    "application/vnd.databricks.v1+cell": {
     "cellMetadata": {
      "byteLimit": 2048000,
      "rowLimit": 10000
     },
     "inputWidgets": {},
     "nuid": "d3089174-ab2b-4c1b-b626-ebe1c0629b1d",
     "showTitle": false,
     "title": ""
    }
   },
   "outputs": [],
   "source": [
    "for col in df.columns:\n",
    "    df[col].replace({'?': np.nan},inplace=True)\n",
    "    \n",
    "df.info()"
   ]
  },
  {
   "cell_type": "code",
   "execution_count": 0,
   "metadata": {
    "application/vnd.databricks.v1+cell": {
     "cellMetadata": {
      "byteLimit": 2048000,
      "rowLimit": 10000
     },
     "inputWidgets": {},
     "nuid": "212aeb75-4935-48c9-91a3-ee105b7f61db",
     "showTitle": false,
     "title": ""
    }
   },
   "outputs": [],
   "source": [
    "df.isnull().sum()"
   ]
  },
  {
   "cell_type": "markdown",
   "metadata": {
    "application/vnd.databricks.v1+cell": {
     "cellMetadata": {},
     "inputWidgets": {},
     "nuid": "01e3a3c6-5340-4614-9572-58d31b9269c1",
     "showTitle": false,
     "title": ""
    }
   },
   "source": [
    "#### 3.1 Visualizing the missing values  \n",
    "Now the missing values are identified in the dataframe. With the help of `heatmap`, we can see the amount of data that is missing from the attribute. With this we can make decisions whether to drop these missing values or to replace them. Usually dropping the missing values is not advisable but sometimes it may be helpful."
   ]
  },
  {
   "cell_type": "code",
   "execution_count": 0,
   "metadata": {
    "application/vnd.databricks.v1+cell": {
     "cellMetadata": {
      "byteLimit": 2048000,
      "rowLimit": 10000
     },
     "inputWidgets": {},
     "nuid": "b332d64f-dfe3-4ea5-b990-cdb95cb11d81",
     "showTitle": false,
     "title": ""
    }
   },
   "outputs": [],
   "source": [
    "plt.figure(figsize=(12,10))\n",
    "sns.heatmap(df.isnull(),cbar=False,cmap='viridis')"
   ]
  },
  {
   "cell_type": "markdown",
   "metadata": {
    "application/vnd.databricks.v1+cell": {
     "cellMetadata": {},
     "inputWidgets": {},
     "nuid": "5aa05545-4d47-45db-a37d-fe2b67c7388c",
     "showTitle": false,
     "title": ""
    }
   },
   "source": [
    "Now observe that there are many missing values in 'normalized_losses' while other columns have fewer missing values. We can’t drop the 'normalized_losses' column as it may be important for our prediction.  \n",
    "We can also use the **missingno** libray for a better evaluation of the missing values. First we can check the quantity and how they distribute among the rows:"
   ]
  },
  {
   "cell_type": "code",
   "execution_count": 0,
   "metadata": {
    "application/vnd.databricks.v1+cell": {
     "cellMetadata": {
      "byteLimit": 2048000,
      "rowLimit": 10000
     },
     "inputWidgets": {},
     "nuid": "546252a5-010a-46bb-9276-24a3baaff9c8",
     "showTitle": false,
     "title": ""
    }
   },
   "outputs": [],
   "source": [
    "#!pip install missingno"
   ]
  },
  {
   "cell_type": "code",
   "execution_count": 0,
   "metadata": {
    "application/vnd.databricks.v1+cell": {
     "cellMetadata": {
      "byteLimit": 2048000,
      "rowLimit": 10000
     },
     "inputWidgets": {},
     "nuid": "b0039d62-26ac-4094-ae9c-7363ce224c1a",
     "showTitle": false,
     "title": ""
    }
   },
   "outputs": [],
   "source": [
    "import missingno as msno"
   ]
  },
  {
   "cell_type": "code",
   "execution_count": 0,
   "metadata": {
    "application/vnd.databricks.v1+cell": {
     "cellMetadata": {
      "byteLimit": 2048000,
      "rowLimit": 10000
     },
     "inputWidgets": {},
     "nuid": "008fd044-cbff-4091-8019-ea43a73f1efb",
     "showTitle": false,
     "title": ""
    }
   },
   "outputs": [],
   "source": [
    "msno.bar(df)"
   ]
  },
  {
   "cell_type": "code",
   "execution_count": 0,
   "metadata": {
    "application/vnd.databricks.v1+cell": {
     "cellMetadata": {
      "byteLimit": 2048000,
      "rowLimit": 10000
     },
     "inputWidgets": {},
     "nuid": "14605a88-4b6a-44fe-801f-367798cf1bcf",
     "showTitle": false,
     "title": ""
    }
   },
   "outputs": [],
   "source": [
    "msno.matrix(df)"
   ]
  },
  {
   "cell_type": "markdown",
   "metadata": {
    "application/vnd.databricks.v1+cell": {
     "cellMetadata": {},
     "inputWidgets": {},
     "nuid": "61865142-53aa-467a-a8cf-46e8cf0bb542",
     "showTitle": false,
     "title": ""
    }
   },
   "source": [
    "The missingno correlation heatmap measures nullity correlation: how strongly the presence or absence of one variable affects the presence of another"
   ]
  },
  {
   "cell_type": "code",
   "execution_count": 0,
   "metadata": {
    "application/vnd.databricks.v1+cell": {
     "cellMetadata": {
      "byteLimit": 2048000,
      "rowLimit": 10000
     },
     "inputWidgets": {},
     "nuid": "36df8da4-187d-463f-9131-d606834d7ce0",
     "showTitle": false,
     "title": ""
    }
   },
   "outputs": [],
   "source": [
    "msno.heatmap(df)"
   ]
  },
  {
   "cell_type": "markdown",
   "metadata": {
    "application/vnd.databricks.v1+cell": {
     "cellMetadata": {},
     "inputWidgets": {},
     "nuid": "8ed194bb-3fb6-42a2-b12c-478d70510d93",
     "showTitle": false,
     "title": ""
    }
   },
   "source": [
    "The dendrogram allows you to more fully correlate variable completion, revealing trends deeper than the pairwise ones visible in the correlation heatmap."
   ]
  },
  {
   "cell_type": "code",
   "execution_count": 0,
   "metadata": {
    "application/vnd.databricks.v1+cell": {
     "cellMetadata": {
      "byteLimit": 2048000,
      "rowLimit": 10000
     },
     "inputWidgets": {},
     "nuid": "204143db-4368-456f-bf37-18ea0f58d078",
     "showTitle": false,
     "title": ""
    }
   },
   "outputs": [],
   "source": [
    "msno.dendrogram(df)"
   ]
  },
  {
   "cell_type": "markdown",
   "metadata": {
    "application/vnd.databricks.v1+cell": {
     "cellMetadata": {},
     "inputWidgets": {},
     "nuid": "303bb5a0-6fac-4b1a-a081-79521a96b17c",
     "showTitle": false,
     "title": ""
    }
   },
   "source": [
    "#### 3.2. Replacing the missing values\n",
    "We will be replacing these missing values with mean because the number of missing values is not great (we could have used the median too).  \n",
    "Later, in the data preparation phase, we will learn other imputation techniques."
   ]
  },
  {
   "cell_type": "code",
   "execution_count": 0,
   "metadata": {
    "application/vnd.databricks.v1+cell": {
     "cellMetadata": {
      "byteLimit": 2048000,
      "rowLimit": 10000
     },
     "inputWidgets": {},
     "nuid": "4a37e64d-2f14-42ff-929e-a67865dd7239",
     "showTitle": false,
     "title": ""
    }
   },
   "outputs": [],
   "source": [
    "df.select_dtypes(include='number').head()"
   ]
  },
  {
   "cell_type": "code",
   "execution_count": 0,
   "metadata": {
    "application/vnd.databricks.v1+cell": {
     "cellMetadata": {
      "byteLimit": 2048000,
      "rowLimit": 10000
     },
     "inputWidgets": {},
     "nuid": "74912969-b3f4-44c3-9738-b2630d2188ad",
     "showTitle": false,
     "title": ""
    }
   },
   "outputs": [],
   "source": [
    "df.select_dtypes(include='object').head()"
   ]
  },
  {
   "cell_type": "markdown",
   "metadata": {
    "application/vnd.databricks.v1+cell": {
     "cellMetadata": {},
     "inputWidgets": {},
     "nuid": "a6bfd77b-b9e1-4d05-8e0c-270944405c15",
     "showTitle": false,
     "title": ""
    }
   },
   "source": [
    "Now let's transform the mistaken datatypes for numeric values and fill with the mean, using the strategy we have chosen."
   ]
  },
  {
   "cell_type": "code",
   "execution_count": 0,
   "metadata": {
    "application/vnd.databricks.v1+cell": {
     "cellMetadata": {
      "byteLimit": 2048000,
      "rowLimit": 10000
     },
     "inputWidgets": {},
     "nuid": "13d542e5-f35a-4fb3-9aca-07cbac2c5ea2",
     "showTitle": false,
     "title": ""
    }
   },
   "outputs": [],
   "source": [
    "num_col = ['normalized-losses', 'bore',  'stroke', 'horsepower', 'peak-rpm','price']\n",
    "for col in num_col:\n",
    "    df[col] = pd.to_numeric(df[col])\n",
    "    df[col].fillna(df[col].mean(), inplace=True)\n",
    "df.head()"
   ]
  },
  {
   "cell_type": "markdown",
   "metadata": {
    "application/vnd.databricks.v1+cell": {
     "cellMetadata": {},
     "inputWidgets": {},
     "nuid": "05e4eefd-827b-4550-9b97-3fe7a55b2b07",
     "showTitle": false,
     "title": ""
    }
   },
   "source": [
    "### 4. Checking Data Distributions\n",
    "\n",
    "This is the most important step in EDA. \n",
    "- This step will decide how much insight you can get.\n",
    "- Checking the distributions is fundamental for feature selection and the modeling phase\n",
    "- This step varies from person to person in terms of their questioning ability. \n",
    "\n",
    "Let's check the univariate and bivariate distributions and correlation between different variables, this will give us a roadmap on how to proceed further."
   ]
  },
  {
   "cell_type": "markdown",
   "metadata": {
    "application/vnd.databricks.v1+cell": {
     "cellMetadata": {},
     "inputWidgets": {},
     "nuid": "5b1a1eab-7ba4-40db-8ee5-b488a117033c",
     "showTitle": false,
     "title": ""
    }
   },
   "source": [
    "#### 4.1 Univariate Analysis  \n",
    "\n",
    "The goal here is to check the distribution of numeric and categorical variables (more about this later in the course)  \n",
    "We can quickly check the distributions of every numeric column:"
   ]
  },
  {
   "cell_type": "code",
   "execution_count": 0,
   "metadata": {
    "application/vnd.databricks.v1+cell": {
     "cellMetadata": {
      "byteLimit": 2048000,
      "rowLimit": 10000
     },
     "inputWidgets": {},
     "nuid": "6bdb2f05-8adf-47c1-9bc3-b951db3c33ee",
     "showTitle": false,
     "title": ""
    }
   },
   "outputs": [],
   "source": [
    "numeric_cols = df.select_dtypes(include='number').columns\n",
    "numeric_cols"
   ]
  },
  {
   "cell_type": "code",
   "execution_count": 0,
   "metadata": {
    "application/vnd.databricks.v1+cell": {
     "cellMetadata": {
      "byteLimit": 2048000,
      "rowLimit": 10000
     },
     "inputWidgets": {},
     "nuid": "8bf12b3f-8ebf-4822-a119-eaa9d13dbc80",
     "showTitle": false,
     "title": ""
    }
   },
   "outputs": [],
   "source": [
    "for col in numeric_cols:\n",
    "    plt.figure(figsize=(18,5))\n",
    "    plt.subplot(1,2,1)\n",
    "    #sns.distplot(df[col])\n",
    "    sns.histplot(df[col], kde=True)\n",
    "    plt.subplot(1,2,2)\n",
    "    sns.boxplot(x=col, data=df)\n",
    "    plt.show()"
   ]
  },
  {
   "cell_type": "markdown",
   "metadata": {
    "application/vnd.databricks.v1+cell": {
     "cellMetadata": {},
     "inputWidgets": {},
     "nuid": "bcc9e6f9-51c3-4766-abdf-a95e455fc586",
     "showTitle": false,
     "title": ""
    }
   },
   "source": [
    "##### 4.1.1 - Analizing distributions on numerical variables - Spotting outliers\n",
    "\n",
    "![Outliers](https://sphweb.bumc.bu.edu/otlt/MPH-Modules/PH717-QuantCore/PH717-Module6-RandomError/Normal%20Distribution%20deviations.png)"
   ]
  },
  {
   "cell_type": "markdown",
   "metadata": {
    "application/vnd.databricks.v1+cell": {
     "cellMetadata": {},
     "inputWidgets": {},
     "nuid": "3dea9c08-30a0-49b8-b124-d72c412b9f89",
     "showTitle": false,
     "title": ""
    }
   },
   "source": [
    "Assuming the data would follow a normal distribution, we can choose some of the graphs to examine the data in more detail:"
   ]
  },
  {
   "cell_type": "code",
   "execution_count": 0,
   "metadata": {
    "application/vnd.databricks.v1+cell": {
     "cellMetadata": {
      "byteLimit": 2048000,
      "rowLimit": 10000
     },
     "inputWidgets": {},
     "nuid": "f4413a27-c818-445b-97fe-dc8e835b474c",
     "showTitle": false,
     "title": ""
    }
   },
   "outputs": [],
   "source": [
    "#set the style we wish to use for our plots\n",
    "sns.set_style(\"darkgrid\")\n",
    "\n",
    "#plot the distribution of the DataFrame \"Price\" column\n",
    "plt.figure(figsize=(8,12))\n",
    "#sns.histplot(df['price'])\n",
    "sns.displot(df['peak-rpm'], kde=True, bins=50, height=8, aspect=2)  "
   ]
  },
  {
   "cell_type": "code",
   "execution_count": 0,
   "metadata": {
    "application/vnd.databricks.v1+cell": {
     "cellMetadata": {
      "byteLimit": 2048000,
      "rowLimit": 10000
     },
     "inputWidgets": {},
     "nuid": "096cb3d5-207d-478d-bc66-de8224d67878",
     "showTitle": false,
     "title": ""
    }
   },
   "outputs": [],
   "source": [
    "fig, ax = plt.subplots(figsize=(16,8))\n",
    "sns.boxplot(x=\"peak-rpm\", data=df, ax=ax)"
   ]
  },
  {
   "cell_type": "markdown",
   "metadata": {
    "application/vnd.databricks.v1+cell": {
     "cellMetadata": {},
     "inputWidgets": {},
     "nuid": "58c4476c-fccd-4514-a640-b3497fc688d4",
     "showTitle": false,
     "title": ""
    }
   },
   "source": [
    "We will not treat outliers during Exploratory Data Analysis, but we will get back to them in the Data Preparation phase."
   ]
  },
  {
   "cell_type": "markdown",
   "metadata": {
    "application/vnd.databricks.v1+cell": {
     "cellMetadata": {},
     "inputWidgets": {},
     "nuid": "8a289763-f740-4fc9-94c8-92038ac3b24a",
     "showTitle": false,
     "title": ""
    }
   },
   "source": [
    "##### 4.1.2 - Analizing distributions on categorical variables"
   ]
  },
  {
   "cell_type": "markdown",
   "metadata": {
    "application/vnd.databricks.v1+cell": {
     "cellMetadata": {},
     "inputWidgets": {},
     "nuid": "34432417-e15d-4c45-b061-928f8bf029cd",
     "showTitle": false,
     "title": ""
    }
   },
   "source": [
    "Although it is not one of the recommended plots, we can always use the pie plots in special situations:"
   ]
  },
  {
   "cell_type": "code",
   "execution_count": 0,
   "metadata": {
    "application/vnd.databricks.v1+cell": {
     "cellMetadata": {
      "byteLimit": 2048000,
      "rowLimit": 10000
     },
     "inputWidgets": {},
     "nuid": "dd9fd336-4a98-4d3b-a058-700f59ef0d22",
     "showTitle": false,
     "title": ""
    }
   },
   "outputs": [],
   "source": [
    "fig, ax = plt.subplots(figsize=(8,8))\n",
    "plt.pie(df[\"body-style\"].value_counts(sort=False), labels=df[\"body-style\"].unique())\n",
    "plt.show()"
   ]
  },
  {
   "cell_type": "markdown",
   "metadata": {
    "application/vnd.databricks.v1+cell": {
     "cellMetadata": {},
     "inputWidgets": {},
     "nuid": "dad2acbb-950f-4dbf-bbb3-f523a13422de",
     "showTitle": false,
     "title": ""
    }
   },
   "source": [
    "Barplots with frequencies can be created in Matplotlib."
   ]
  },
  {
   "cell_type": "code",
   "execution_count": 0,
   "metadata": {
    "application/vnd.databricks.v1+cell": {
     "cellMetadata": {
      "byteLimit": 2048000,
      "rowLimit": 10000
     },
     "inputWidgets": {},
     "nuid": "bc38ba94-bd98-450b-ba15-3d17207d8d40",
     "showTitle": false,
     "title": ""
    }
   },
   "outputs": [],
   "source": [
    "df[\"body-style\"].value_counts().plot(kind=\"bar\", figsize=(10,6))"
   ]
  },
  {
   "cell_type": "markdown",
   "metadata": {
    "application/vnd.databricks.v1+cell": {
     "cellMetadata": {},
     "inputWidgets": {},
     "nuid": "1ae74732-6d9a-4c64-b4d9-cbdbd33cc283",
     "showTitle": false,
     "title": ""
    }
   },
   "source": [
    "There is no need to separately calculate the count when using the `sns.countplot()` function"
   ]
  },
  {
   "cell_type": "code",
   "execution_count": 0,
   "metadata": {
    "application/vnd.databricks.v1+cell": {
     "cellMetadata": {
      "byteLimit": 2048000,
      "rowLimit": 10000
     },
     "inputWidgets": {},
     "nuid": "0857fe15-f059-43c5-bde7-47b2d0a715cc",
     "showTitle": false,
     "title": ""
    }
   },
   "outputs": [],
   "source": [
    "fig, ax = plt.subplots(figsize=(12,8))\n",
    "sns.countplot(df[\"body-style\"], ax=ax) "
   ]
  },
  {
   "cell_type": "markdown",
   "metadata": {
    "application/vnd.databricks.v1+cell": {
     "cellMetadata": {},
     "inputWidgets": {},
     "nuid": "20bb7db2-9f67-4c76-85c3-366f9e01691b",
     "showTitle": false,
     "title": ""
    }
   },
   "source": [
    "#### 4.2 Bivariate Analysis  \n",
    "\n",
    "Now we want to check the relationships between pais of variables. We can start by drawing a pairplot and a correlation plot."
   ]
  },
  {
   "cell_type": "code",
   "execution_count": 0,
   "metadata": {
    "application/vnd.databricks.v1+cell": {
     "cellMetadata": {
      "byteLimit": 2048000,
      "rowLimit": 10000
     },
     "inputWidgets": {},
     "nuid": "9ecdb883-f68c-47e0-b067-b681ebfb34a6",
     "showTitle": false,
     "title": ""
    }
   },
   "outputs": [],
   "source": [
    "plt.figure(figsize=(10,10))\n",
    "sns.pairplot(df.select_dtypes(include='number'))"
   ]
  },
  {
   "cell_type": "markdown",
   "metadata": {
    "application/vnd.databricks.v1+cell": {
     "cellMetadata": {},
     "inputWidgets": {},
     "nuid": "830152b8-80fd-4b0b-a7ae-f2fa94a40413",
     "showTitle": false,
     "title": ""
    }
   },
   "source": [
    "The pairplot can help us gaining quick insights on the correlations of variables, but can get cluttered if we have many features.  \n",
    "We can also try the heatmap of correlations:"
   ]
  },
  {
   "cell_type": "code",
   "execution_count": 0,
   "metadata": {
    "application/vnd.databricks.v1+cell": {
     "cellMetadata": {
      "byteLimit": 2048000,
      "rowLimit": 10000
     },
     "inputWidgets": {},
     "nuid": "eed7b585-1ac3-4857-b2ff-f0b0fdbfc02b",
     "showTitle": false,
     "title": ""
    }
   },
   "outputs": [],
   "source": [
    "plt.figure(figsize=(12,12))\n",
    "sns.heatmap(df.corr(), cbar=True, annot=True, cmap='Blues')"
   ]
  },
  {
   "cell_type": "markdown",
   "metadata": {
    "application/vnd.databricks.v1+cell": {
     "cellMetadata": {},
     "inputWidgets": {},
     "nuid": "6d19856f-affd-493f-9afd-b699b8f07d14",
     "showTitle": false,
     "title": ""
    }
   },
   "source": [
    "##### Positive Correlation  \n",
    "+ 'Price' – 'wheel-base', 'length', 'width', 'curb_weight', 'engine-size', 'bore', 'horsepower'  \n",
    "+ 'wheel-base' – 'length', 'width', 'height', 'curb_weight', 'engine-size', 'price'  \n",
    "+ 'horsepower' – 'length', 'width', 'curb-weight', 'engine-size', 'bore', 'price'  \n",
    "+ 'Highway mpg' – 'city-mpg'  \n",
    "\n",
    "##### Negative Correlation  \n",
    "+ 'Price' – 'highway-mpg', 'city-mpg'  \n",
    "+ 'highway-mpg' – 'wheel base', 'length', 'width', 'curb-weight', 'engine-size', 'bore', 'horsepower', 'price'  \n",
    "+ 'city' – 'wheel base', 'length', 'width', 'curb-weight', 'engine-size', 'bore', 'horsepower', 'price'  \n",
    "\n",
    "This heatmap has given us great insights into the data.  \n",
    "Now let us apply domain knowledge and ask the questions which will affect the price of the automobile."
   ]
  },
  {
   "cell_type": "markdown",
   "metadata": {
    "application/vnd.databricks.v1+cell": {
     "cellMetadata": {},
     "inputWidgets": {},
     "nuid": "b7e32e2d-0723-4607-ae89-b87c0c7a5571",
     "showTitle": false,
     "title": ""
    }
   },
   "source": [
    "##### 4.2.1 - Checking some columns in more detail  \n",
    "We can draw a vertical boxplot grouped by a categorical variable:"
   ]
  },
  {
   "cell_type": "code",
   "execution_count": 0,
   "metadata": {
    "application/vnd.databricks.v1+cell": {
     "cellMetadata": {
      "byteLimit": 2048000,
      "rowLimit": 10000
     },
     "inputWidgets": {},
     "nuid": "e7940fb0-bb80-4c3a-966d-2937f2f05d62",
     "showTitle": false,
     "title": ""
    }
   },
   "outputs": [],
   "source": [
    "fig, ax = plt.subplots(figsize=(16,8))\n",
    "sns.boxplot(x=\"fuel-type\", y=\"horsepower\", data=df, ax=ax)"
   ]
  },
  {
   "cell_type": "markdown",
   "metadata": {
    "application/vnd.databricks.v1+cell": {
     "cellMetadata": {},
     "inputWidgets": {},
     "nuid": "617ebf38-29f0-457f-aa38-e0f5cf93606a",
     "showTitle": false,
     "title": ""
    }
   },
   "source": [
    "And even add a third component:  \n",
    "https://seaborn.pydata.org/tutorial/categorical.html"
   ]
  },
  {
   "cell_type": "code",
   "execution_count": 0,
   "metadata": {
    "application/vnd.databricks.v1+cell": {
     "cellMetadata": {
      "byteLimit": 2048000,
      "rowLimit": 10000
     },
     "inputWidgets": {},
     "nuid": "8520406e-e30b-4204-bd6c-785840409202",
     "showTitle": false,
     "title": ""
    }
   },
   "outputs": [],
   "source": [
    "#sns.catplot(x=\"fuel-type\", y=\"horsepower\", hue=\"num-of-doors\", kind=\"box\", data=df, height=8, aspect=2)\n",
    "sns.catplot(x=\"fuel-type\", y=\"horsepower\", hue=\"num-of-doors\", kind=\"violin\", inner=\"stick\", split=True, palette=\"pastel\", data=df, height=8, aspect=2)"
   ]
  },
  {
   "cell_type": "markdown",
   "metadata": {
    "application/vnd.databricks.v1+cell": {
     "cellMetadata": {},
     "inputWidgets": {},
     "nuid": "2a98f2c2-29bc-4592-89b7-e2e4c7cdfaf9",
     "showTitle": false,
     "title": ""
    }
   },
   "source": [
    "### 5. Asking questions based on the analysis"
   ]
  },
  {
   "cell_type": "markdown",
   "metadata": {
    "application/vnd.databricks.v1+cell": {
     "cellMetadata": {},
     "inputWidgets": {},
     "nuid": "ff90369e-3f98-4b02-8c7a-cb1fae52901a",
     "showTitle": false,
     "title": ""
    }
   },
   "source": [
    "Try to ask questions related to independent variables and the target variable.  \n",
    "Example questions related to this dataset could be:  \n",
    "\n",
    "+ How does 'fuel-type' affect the price of the car?   \n",
    "+ How does the 'horsepower' affect the price?  \n",
    "+ What is the relationship between 'engine-size' and 'price'?  \n",
    "+ How does 'highway-mpg' affects 'price'?  \n",
    "+ What is the relation between no. of doors and 'price'?"
   ]
  },
  {
   "cell_type": "markdown",
   "metadata": {
    "application/vnd.databricks.v1+cell": {
     "cellMetadata": {},
     "inputWidgets": {},
     "nuid": "dc6abc10-c403-4ff8-8f65-8bb0c21a42e2",
     "showTitle": false,
     "title": ""
    }
   },
   "source": [
    "#### 5.1 How does 'fuel_type' will affect the price?  \n",
    "\n",
    "Let's compare categorical data with numerical data. We are going to use a catplot from Seaborn, but there are other options for categorical variables:  \n",
    "https://seaborn.pydata.org/tutorial/categorical.html"
   ]
  },
  {
   "cell_type": "code",
   "execution_count": 0,
   "metadata": {
    "application/vnd.databricks.v1+cell": {
     "cellMetadata": {
      "byteLimit": 2048000,
      "rowLimit": 10000
     },
     "inputWidgets": {},
     "nuid": "ba6a0131-e75a-4b16-acb0-ed59d504a0c7",
     "showTitle": false,
     "title": ""
    }
   },
   "outputs": [],
   "source": [
    "plt.figure(figsize=(12,10))\n",
    "#https://seaborn.pydata.org/generated/seaborn.catplot.html#seaborn.catplot\n",
    "sns.catplot(x='fuel-type',y='price', data=df, height=8)\n",
    "plt.xlabel('Fuel Type')\n",
    "plt.ylabel('Price')"
   ]
  },
  {
   "cell_type": "markdown",
   "metadata": {
    "application/vnd.databricks.v1+cell": {
     "cellMetadata": {},
     "inputWidgets": {},
     "nuid": "dbaa5ba7-7204-4227-9cd9-b4d358c83d06",
     "showTitle": false,
     "title": ""
    }
   },
   "source": [
    "#### 5.2 How does the horsepower affect the price?  \n",
    "\n",
    "Matplotlib and Seaborn have very nice graphs to visualize numerical relationships:  \n",
    "https://seaborn.pydata.org/tutorial/relational.html  \n",
    "https://matplotlib.org/stable/gallery/index.html"
   ]
  },
  {
   "cell_type": "code",
   "execution_count": 0,
   "metadata": {
    "application/vnd.databricks.v1+cell": {
     "cellMetadata": {
      "byteLimit": 2048000,
      "rowLimit": 10000
     },
     "inputWidgets": {},
     "nuid": "fd3d600e-2b09-4ade-ae82-39e64dda1474",
     "showTitle": false,
     "title": ""
    }
   },
   "outputs": [],
   "source": [
    "plt.figure(figsize=(12,10))\n",
    "#https://matplotlib.org/stable/api/_as_gen/matplotlib.pyplot.scatter.html  \n",
    "plt.scatter(x='horsepower',y='price', data=df)\n",
    "plt.xlabel('Horsepower')\n",
    "plt.ylabel('Price')"
   ]
  },
  {
   "cell_type": "code",
   "execution_count": 0,
   "metadata": {
    "application/vnd.databricks.v1+cell": {
     "cellMetadata": {
      "byteLimit": 2048000,
      "rowLimit": 10000
     },
     "inputWidgets": {},
     "nuid": "ac9736eb-a73c-4680-9fe9-080b80ea8f4d",
     "showTitle": false,
     "title": ""
    }
   },
   "outputs": [],
   "source": [
    "#https://seaborn.pydata.org/generated/seaborn.jointplot.html\n",
    "\n",
    "sns.jointplot(x='horsepower',y='price', data=df)\n",
    "sns.jointplot(x='horsepower',y='price', data=df, kind='hex')"
   ]
  },
  {
   "cell_type": "markdown",
   "metadata": {
    "application/vnd.databricks.v1+cell": {
     "cellMetadata": {},
     "inputWidgets": {},
     "nuid": "d3c16dfb-99b0-4984-8aa7-476a2e3a6672",
     "showTitle": false,
     "title": ""
    }
   },
   "source": [
    "We can see that most of the horsepower values lie between 50-150 with a price mostly between 5000-25000. There are outliers as well (between 200-300).  \n",
    "Let’s see a count between 50-100 i.e univariate analysis of horsepower."
   ]
  },
  {
   "cell_type": "code",
   "execution_count": 0,
   "metadata": {
    "application/vnd.databricks.v1+cell": {
     "cellMetadata": {
      "byteLimit": 2048000,
      "rowLimit": 10000
     },
     "inputWidgets": {},
     "nuid": "99f45bc7-0684-48fc-b3cd-10bc99fc2e4d",
     "showTitle": false,
     "title": ""
    }
   },
   "outputs": [],
   "source": [
    "plt.figure(figsize=(12,10))\n",
    "#https://seaborn.pydata.org/generated/seaborn.histplot.html\n",
    "sns.histplot(df.horsepower,bins=10)"
   ]
  },
  {
   "cell_type": "markdown",
   "metadata": {
    "application/vnd.databricks.v1+cell": {
     "cellMetadata": {},
     "inputWidgets": {},
     "nuid": "f598e8b5-de90-4ac5-9067-8729569a4943",
     "showTitle": false,
     "title": ""
    }
   },
   "source": [
    "The average count between 50-100 is 50 and it is positively skewed."
   ]
  },
  {
   "cell_type": "markdown",
   "metadata": {
    "application/vnd.databricks.v1+cell": {
     "cellMetadata": {},
     "inputWidgets": {},
     "nuid": "0beb6427-b876-4461-ba30-9aeb28706ec4",
     "showTitle": false,
     "title": ""
    }
   },
   "source": [
    "#### 5.3 What is the relation between engine-size and price?"
   ]
  },
  {
   "cell_type": "code",
   "execution_count": 0,
   "metadata": {
    "application/vnd.databricks.v1+cell": {
     "cellMetadata": {
      "byteLimit": 2048000,
      "rowLimit": 10000
     },
     "inputWidgets": {},
     "nuid": "b97e17ce-1a65-460b-9653-6e2e459be60f",
     "showTitle": false,
     "title": ""
    }
   },
   "outputs": [],
   "source": [
    "plt.figure(figsize=(12,10))\n",
    "#https://matplotlib.org/stable/api/_as_gen/matplotlib.pyplot.scatter.html  \n",
    "plt.scatter(x='engine-size',y='price',data=df)\n",
    "plt.xlabel('Engine size')\n",
    "plt.ylabel('Price')"
   ]
  },
  {
   "cell_type": "code",
   "execution_count": 0,
   "metadata": {
    "application/vnd.databricks.v1+cell": {
     "cellMetadata": {
      "byteLimit": 2048000,
      "rowLimit": 10000
     },
     "inputWidgets": {},
     "nuid": "9a50085d-c316-4408-b137-2f04e85abdc9",
     "showTitle": false,
     "title": ""
    }
   },
   "outputs": [],
   "source": [
    "sns.jointplot(x='engine-size',y='price', data=df, kind='reg')\n",
    "sns.jointplot(x='engine-size',y='price', data=df, kind='kde')"
   ]
  },
  {
   "cell_type": "markdown",
   "metadata": {
    "application/vnd.databricks.v1+cell": {
     "cellMetadata": {},
     "inputWidgets": {},
     "nuid": "3c123c5e-567e-41d8-a6c8-971004c291f5",
     "showTitle": false,
     "title": ""
    }
   },
   "source": [
    "We can observe that the pattern is similar to horsepower vs price."
   ]
  },
  {
   "cell_type": "markdown",
   "metadata": {
    "application/vnd.databricks.v1+cell": {
     "cellMetadata": {},
     "inputWidgets": {},
     "nuid": "26580f2b-1065-4179-9bd4-3a0c4e469f79",
     "showTitle": false,
     "title": ""
    }
   },
   "source": [
    "#### 5.4 How does highway_mpg affects price?"
   ]
  },
  {
   "cell_type": "code",
   "execution_count": 0,
   "metadata": {
    "application/vnd.databricks.v1+cell": {
     "cellMetadata": {
      "byteLimit": 2048000,
      "rowLimit": 10000
     },
     "inputWidgets": {},
     "nuid": "10ba7f5d-3d12-4ccd-b49b-3e959a236d40",
     "showTitle": false,
     "title": ""
    }
   },
   "outputs": [],
   "source": [
    "plt.figure(figsize=(12,10))\n",
    "#https://matplotlib.org/stable/api/_as_gen/matplotlib.pyplot.scatter.html  \n",
    "plt.scatter(x='highway-mpg',y='price',data=df)\n",
    "plt.xlabel('Higway mpg')\n",
    "plt.ylabel('Price')"
   ]
  },
  {
   "cell_type": "markdown",
   "metadata": {
    "application/vnd.databricks.v1+cell": {
     "cellMetadata": {},
     "inputWidgets": {},
     "nuid": "dc2955b7-19aa-4bc3-b38c-e7a84e3fe7a8",
     "showTitle": false,
     "title": ""
    }
   },
   "source": [
    "We can see price decreases with an increase in 'higway-mpg'."
   ]
  },
  {
   "cell_type": "markdown",
   "metadata": {
    "application/vnd.databricks.v1+cell": {
     "cellMetadata": {},
     "inputWidgets": {},
     "nuid": "ea32c19c-761e-4594-a768-cda5f8c5972a",
     "showTitle": false,
     "title": ""
    }
   },
   "source": [
    "#### 5.5 What is the relation between no. of doors and price?  \n",
    "\n",
    "Let us first check the number of doors."
   ]
  },
  {
   "cell_type": "code",
   "execution_count": 0,
   "metadata": {
    "application/vnd.databricks.v1+cell": {
     "cellMetadata": {
      "byteLimit": 2048000,
      "rowLimit": 10000
     },
     "inputWidgets": {},
     "nuid": "a2e9c7b3-2738-4cfb-9d77-93cffcf8bd00",
     "showTitle": false,
     "title": ""
    }
   },
   "outputs": [],
   "source": [
    "# Unique values in num_of_doors\n",
    "df[\"num-of-doors\"].value_counts().plot(kind=\"bar\", figsize=(10,6))"
   ]
  },
  {
   "cell_type": "code",
   "execution_count": 0,
   "metadata": {
    "application/vnd.databricks.v1+cell": {
     "cellMetadata": {
      "byteLimit": 2048000,
      "rowLimit": 10000
     },
     "inputWidgets": {},
     "nuid": "8423ba9d-5a11-4d1f-bf01-116a5f00dad7",
     "showTitle": false,
     "title": ""
    }
   },
   "outputs": [],
   "source": [
    "plt.figure(figsize=(12,8))\n",
    "#https://seaborn.pydata.org/generated/seaborn.boxplot.html\n",
    "sns.boxplot(x='price', y='num-of-doors',data=df)"
   ]
  },
  {
   "cell_type": "markdown",
   "metadata": {
    "application/vnd.databricks.v1+cell": {
     "cellMetadata": {},
     "inputWidgets": {},
     "nuid": "ce26ed1a-9577-4671-bb00-a7213f492eab",
     "showTitle": false,
     "title": ""
    }
   },
   "source": [
    "With this boxplot we can conclude that the average price of a vehicle with two doors is 10000,  and the average price of a vehicle with four doors is close to 12000.  \n",
    "With this plot, we have gained enough insights fromthe  data and our data is ready to build a model."
   ]
  },
  {
   "cell_type": "markdown",
   "metadata": {
    "application/vnd.databricks.v1+cell": {
     "cellMetadata": {},
     "inputWidgets": {},
     "nuid": "2cea87f2-dc78-4ac8-8385-ace06c0c9d71",
     "showTitle": false,
     "title": ""
    }
   },
   "source": [
    "##### There are ways to explore relationships between more than two variables; although it can get a bit more complicated to interpret."
   ]
  },
  {
   "cell_type": "code",
   "execution_count": 0,
   "metadata": {
    "application/vnd.databricks.v1+cell": {
     "cellMetadata": {
      "byteLimit": 2048000,
      "rowLimit": 10000
     },
     "inputWidgets": {},
     "nuid": "0c590979-1167-403c-8ee0-35788c631a61",
     "showTitle": false,
     "title": ""
    }
   },
   "outputs": [],
   "source": [
    "# Create a pivot table for car manufactures and fuel with horsepower rate as values\n",
    "grouped = pd.pivot_table(data=df,index='make',columns='fuel-type',values='horsepower',aggfunc='mean')\n",
    "\n",
    "# Create a heatmap to visualize manufactures, fuel type and horse power\n",
    "plt.figure(figsize=[12,10])\n",
    "sns.heatmap(grouped, annot=True, cmap='coolwarm', center=0.117)\n",
    "\n",
    "plt.title(\"Horse Power per Manufacturer\")\n",
    "plt.show()"
   ]
  },
  {
   "cell_type": "markdown",
   "metadata": {
    "application/vnd.databricks.v1+cell": {
     "cellMetadata": {},
     "inputWidgets": {},
     "nuid": "1055312d-0d8a-4f31-ab6e-380ea26161ac",
     "showTitle": false,
     "title": ""
    }
   },
   "source": [
    "## II - Feature Engineering and Selection"
   ]
  },
  {
   "cell_type": "markdown",
   "metadata": {
    "application/vnd.databricks.v1+cell": {
     "cellMetadata": {},
     "inputWidgets": {},
     "nuid": "e0ef0ad4-92b2-4308-a528-71a0ca39a3cc",
     "showTitle": false,
     "title": ""
    }
   },
   "source": [
    "This will be developed in the next modules"
   ]
  },
  {
   "cell_type": "markdown",
   "metadata": {
    "application/vnd.databricks.v1+cell": {
     "cellMetadata": {},
     "inputWidgets": {},
     "nuid": "81bb7870-2528-49b2-8f6e-63e91ec60ae3",
     "showTitle": false,
     "title": ""
    }
   },
   "source": [
    "## III - Modeling"
   ]
  },
  {
   "cell_type": "markdown",
   "metadata": {
    "application/vnd.databricks.v1+cell": {
     "cellMetadata": {},
     "inputWidgets": {},
     "nuid": "5968ca6a-a366-4776-a9df-637a43bb6fca",
     "showTitle": false,
     "title": ""
    }
   },
   "source": [
    "This will be developed in the next modules"
   ]
  },
  {
   "cell_type": "markdown",
   "metadata": {
    "application/vnd.databricks.v1+cell": {
     "cellMetadata": {},
     "inputWidgets": {},
     "nuid": "e6d9420f-107c-4b93-bd8f-f94e122dec76",
     "showTitle": false,
     "title": ""
    }
   },
   "source": [
    "## IV - Evaluation"
   ]
  },
  {
   "cell_type": "markdown",
   "metadata": {
    "application/vnd.databricks.v1+cell": {
     "cellMetadata": {},
     "inputWidgets": {},
     "nuid": "6d8b5525-e9a3-4784-b5b5-ac8a64b0605b",
     "showTitle": false,
     "title": ""
    }
   },
   "source": [
    "This will be developed in the next modules"
   ]
  },
  {
   "cell_type": "markdown",
   "metadata": {
    "application/vnd.databricks.v1+cell": {
     "cellMetadata": {},
     "inputWidgets": {},
     "nuid": "a54eb2c2-761d-4a91-91f0-bbf77b1460bf",
     "showTitle": false,
     "title": ""
    }
   },
   "source": [
    "# Your Turn!"
   ]
  },
  {
   "cell_type": "markdown",
   "metadata": {
    "application/vnd.databricks.v1+cell": {
     "cellMetadata": {},
     "inputWidgets": {},
     "nuid": "71da4727-3c01-4d84-8c07-3a7063ad5995",
     "showTitle": false,
     "title": ""
    }
   },
   "source": [
    "#### Open the datasets available for the use cases and start the EDA.  \n",
    "#### You will be able to make a better decision on which one to use and how to exploit them."
   ]
  },
  {
   "cell_type": "code",
   "execution_count": 0,
   "metadata": {
    "application/vnd.databricks.v1+cell": {
     "cellMetadata": {
      "byteLimit": 2048000,
      "rowLimit": 10000
     },
     "inputWidgets": {},
     "nuid": "c9196e10-fde1-461d-8701-f5ff3f9b6825",
     "showTitle": false,
     "title": ""
    }
   },
   "outputs": [],
   "source": [
    "df = pd.read_csv(\"../../3_artificial_use_case/1_Classification_RECOMMENDED/Bank_Dataset/bank-additional-full.csv\", sep=\";\")\n",
    "df.head()"
   ]
  },
  {
   "cell_type": "code",
   "execution_count": 0,
   "metadata": {
    "application/vnd.databricks.v1+cell": {
     "cellMetadata": {
      "byteLimit": 2048000,
      "rowLimit": 10000
     },
     "inputWidgets": {},
     "nuid": "710b743c-1d87-4091-8429-8b6bd4c8aa8c",
     "showTitle": false,
     "title": ""
    }
   },
   "outputs": [],
   "source": [
    "df = pd.read_csv(\"../../3_artificial_use_case/2_Regression_RECOMMENDED/Datasets/2015.csv\")\n",
    "df.head()"
   ]
  }
 ],
 "metadata": {
  "application/vnd.databricks.v1+notebook": {
   "dashboards": [],
   "language": "python",
   "notebookMetadata": {
    "pythonIndentUnit": 4
   },
   "notebookName": "6_DS_workflow_EDA_jupyter",
   "notebookOrigID": 302834361983197,
   "widgets": {}
  }
 },
 "nbformat": 4,
 "nbformat_minor": 0
}
