{
 "cells": [
  {
   "cell_type": "markdown",
   "metadata": {
    "application/vnd.databricks.v1+cell": {
     "cellMetadata": {},
     "inputWidgets": {},
     "nuid": "bed17d2e-320d-45d6-a7a8-5cbbb0fb72c9",
     "showTitle": false,
     "title": ""
    }
   },
   "source": [
    "# Bivariate Analysis with Seaborn\n",
    "\n",
    "Firstly, we import the necessary libraries and load the penguins dataset as 'penguins'."
   ]
  },
  {
   "cell_type": "code",
   "execution_count": null,
   "metadata": {
    "application/vnd.databricks.v1+cell": {
     "cellMetadata": {
      "byteLimit": 2048000,
      "rowLimit": 10000
     },
     "inputWidgets": {},
     "nuid": "7d6718fd-1d74-4e7d-a8d1-438d010418b3",
     "showTitle": false,
     "title": ""
    }
   },
   "outputs": [],
   "source": [
    "# Import libraries\n",
    "import pandas as pd\n",
    "import matplotlib.pyplot as plt\n",
    "import seaborn as sns"
   ]
  },
  {
   "cell_type": "code",
   "execution_count": null,
   "metadata": {
    "application/vnd.databricks.v1+cell": {
     "cellMetadata": {
      "byteLimit": 2048000,
      "rowLimit": 10000
     },
     "inputWidgets": {},
     "nuid": "db97f01e-1f1f-417b-9177-c975eb2e97f7",
     "showTitle": false,
     "title": ""
    }
   },
   "outputs": [],
   "source": [
    "# Load the data\n",
    "penguins = pd.read_csv('Data/penguins.csv')"
   ]
  },
  {
   "cell_type": "code",
   "execution_count": null,
   "metadata": {
    "application/vnd.databricks.v1+cell": {
     "cellMetadata": {
      "byteLimit": 2048000,
      "rowLimit": 10000
     },
     "inputWidgets": {},
     "nuid": "fb17cf5e-03b5-4b23-8d48-1e340a58cd1a",
     "showTitle": false,
     "title": ""
    }
   },
   "outputs": [],
   "source": [
    "# Take a look at the first 5 rows\n",
    "penguins.head()"
   ]
  },
  {
   "cell_type": "code",
   "execution_count": null,
   "metadata": {
    "application/vnd.databricks.v1+cell": {
     "cellMetadata": {
      "byteLimit": 2048000,
      "rowLimit": 10000
     },
     "inputWidgets": {},
     "nuid": "946e4d16-cc94-4c7c-b6a2-5ef88b0f4ef5",
     "showTitle": false,
     "title": ""
    }
   },
   "outputs": [],
   "source": [
    "# Drop missing values\n",
    "penguins.dropna(inplace = True)"
   ]
  },
  {
   "cell_type": "markdown",
   "metadata": {
    "application/vnd.databricks.v1+cell": {
     "cellMetadata": {},
     "inputWidgets": {},
     "nuid": "a26c1691-2846-48e7-bb93-6bece9d88b94",
     "showTitle": false,
     "title": ""
    }
   },
   "source": [
    "# 1. Categorical variables\n",
    "\n",
    "If you want to visualize data involving categorical variables, you can choose between 2 different plotting approaches as we already saw in the preceding notebook: \n",
    "\n",
    "a) The `catplot()` plotting function \n",
    "\n",
    "- this is a Figure-level interface that allows you to plot categories\n",
    "- by calling this function, `a stripplot` will be drawn by default\n",
    "  \n",
    "Important note: specifying data\n",
    "\n",
    "- data you want to visualize must be passed in a long-form DataFrame \n",
    "- categorical and numerical variables must be passed as strings to the `x` and `y` parameters in the following way:   \n",
    "  ```sns.catplot(data = dataset, x = 'categorical_variable', y = 'numerical_variable')```\n",
    "  \n",
    "\n",
    "- In comparison, the code below won't work:  \n",
    "  ```sns.catplot(x = data['categorical_variable'], y = data['numerical_variable'])```\n",
    "  \n",
    "The `catplot()` functions provides us with access to other Axes-level plotting functions which you can select by passing the respective plot kind to the `kind` parameter:\n",
    "\n",
    "- \"box\", \"swarm\", \"strip\", \"violin\", \"barplot\", etc. \n",
    "  \n",
    "\n",
    "b) Axes-level plotting functions\n",
    "- `sns.boxplot()`\n",
    "- `sns.swarmplot()`\n",
    "- `sns.stripplot()`\n",
    "- `sns.violinplot()`\n",
    "- `sns.countplot()`\n",
    "- `sns.barplot()`, etc."
   ]
  },
  {
   "cell_type": "markdown",
   "metadata": {
    "application/vnd.databricks.v1+cell": {
     "cellMetadata": {},
     "inputWidgets": {},
     "nuid": "a4f0a77f-1138-4bbc-8795-ac7b6b61c9e7",
     "showTitle": false,
     "title": ""
    }
   },
   "source": [
    "## 1.1 Categorical vs. Numerical feature\n",
    "\n",
    "One thing you could be interested in is to find out how the distribution of a numerical feature varies across different categories. For this purpose you can use a plotting functions such `sns.boxplot()`, `sns.violinplot()`, `sns.boxenplot()`."
   ]
  },
  {
   "cell_type": "markdown",
   "metadata": {
    "application/vnd.databricks.v1+cell": {
     "cellMetadata": {},
     "inputWidgets": {},
     "nuid": "2941bf73-f2bf-4bca-939d-e01e6d31bae6",
     "showTitle": false,
     "title": ""
    }
   },
   "source": [
    "### 1.1.1 Boxplot\n",
    "\n",
    "Inside the function for creating the boxplots we specify the dataset and the feature names. The categorical variable 'species' will be plotted on the x-axis and the respective values of 'body_mass_g' on the y-axis."
   ]
  },
  {
   "cell_type": "code",
   "execution_count": null,
   "metadata": {
    "application/vnd.databricks.v1+cell": {
     "cellMetadata": {
      "byteLimit": 2048000,
      "rowLimit": 10000
     },
     "inputWidgets": {},
     "nuid": "ed614bec-0076-41da-b656-360509293696",
     "showTitle": false,
     "title": ""
    }
   },
   "outputs": [],
   "source": [
    "# Boxplots of body mass of penguins based on the species\n",
    "plt.figure(figsize = (13,9))\n",
    "sns.boxplot(data = penguins, \n",
    "            x = 'species', \n",
    "            y = 'body_mass_g', \n",
    "            palette = 'Set3');"
   ]
  },
  {
   "cell_type": "markdown",
   "metadata": {
    "application/vnd.databricks.v1+cell": {
     "cellMetadata": {},
     "inputWidgets": {},
     "nuid": "d6aff19d-0327-467c-a5b8-dd55eca1e4d4",
     "showTitle": false,
     "title": ""
    }
   },
   "source": [
    "Visualization of the distribution reveals us interesting differences and similarities among species. For Adelie and Chinstrap, the majority of penguins weigh up to approximately 4000 grams, although the Chinstrap weight range is smaller than that of Adelie penguins. These two species have also the same median value of 3700 grams (we also verified median values in the code cell below). In case of Chinstrap penguins some outliers are present which can indicate that some penguins weight significantly less or more compared to the rest of observations. Gentoo penguins are overall heavier, while the vast majority of penguins weigh about 4700-5500 grams. This species also has the highest range of recorded values."
   ]
  },
  {
   "cell_type": "code",
   "execution_count": null,
   "metadata": {
    "application/vnd.databricks.v1+cell": {
     "cellMetadata": {
      "byteLimit": 2048000,
      "rowLimit": 10000
     },
     "inputWidgets": {},
     "nuid": "2cbc3f02-b2cd-4e54-8858-44d4f38c4bd4",
     "showTitle": false,
     "title": ""
    }
   },
   "outputs": [],
   "source": [
    "# Median values of Adelie and Chinstrap species\n",
    "print('Adelie body mass-median value: ', penguins[penguins.species == 'Adelie'].body_mass_g.median(),\n",
    "      '\\n'\n",
    "      'Chinstrap body mass-median value: ', penguins[penguins.species == 'Chinstrap'].body_mass_g.median())"
   ]
  },
  {
   "cell_type": "code",
   "execution_count": null,
   "metadata": {
    "application/vnd.databricks.v1+cell": {
     "cellMetadata": {
      "byteLimit": 2048000,
      "rowLimit": 10000
     },
     "inputWidgets": {},
     "nuid": "0768c1e3-98c8-47ed-a52f-7dd903ca98ec",
     "showTitle": false,
     "title": ""
    }
   },
   "outputs": [],
   "source": [
    "# Boxplots of the bill length based on the species\n",
    "plt.figure(figsize = (13,9))\n",
    "sns.boxplot(data = penguins, \n",
    "            x = 'species', \n",
    "            y = 'bill_length_mm');"
   ]
  },
  {
   "cell_type": "markdown",
   "metadata": {
    "application/vnd.databricks.v1+cell": {
     "cellMetadata": {},
     "inputWidgets": {},
     "nuid": "b819a288-666e-4f94-853b-413c9608158d",
     "showTitle": false,
     "title": ""
    }
   },
   "source": [
    "From the boxplots we can say that the Adelie species is characterised by the shortest bills, while most penguins have a bill which is about 37-41 millimeter long. The bill length of the Chinstrap and Gentoo species starts at about 41 mm. If we do not take into account the outlier of the Gentoo species, this species does have shorter bills compared to Chinstrap penguins."
   ]
  },
  {
   "cell_type": "code",
   "execution_count": null,
   "metadata": {
    "application/vnd.databricks.v1+cell": {
     "cellMetadata": {
      "byteLimit": 2048000,
      "rowLimit": 10000
     },
     "inputWidgets": {},
     "nuid": "b667c72d-f1e2-4f10-b2ab-a16027efcf9a",
     "showTitle": false,
     "title": ""
    }
   },
   "outputs": [],
   "source": [
    "# TASK 1 >>> Create boxplots of the depth of the bills based on species\n",
    "#        >>> Set a the figure size to (13,9)\n",
    "#        >>> Set the title to 'Distribution of bill's depth based on species'"
   ]
  },
  {
   "cell_type": "markdown",
   "metadata": {
    "application/vnd.databricks.v1+cell": {
     "cellMetadata": {},
     "inputWidgets": {},
     "nuid": "b6de275d-59a7-4318-b484-5ec9676de4aa",
     "showTitle": false,
     "title": ""
    }
   },
   "source": [
    "> What can you say about those 3 species in term of the bill depth? How does the distribution differ ? What about the range of values? What species has the smallest bill depth range?"
   ]
  },
  {
   "cell_type": "markdown",
   "metadata": {
    "application/vnd.databricks.v1+cell": {
     "cellMetadata": {},
     "inputWidgets": {},
     "nuid": "f86ff9dd-7270-4035-b538-bc0ff14126d1",
     "showTitle": false,
     "title": ""
    }
   },
   "source": [
    "### 1.1.2 Swarmplot\n",
    "\n",
    "We can also take a closer look at the three islands where the penguins live. Since our dataset does not comprise too many observations, the data points are nicely plotted."
   ]
  },
  {
   "cell_type": "code",
   "execution_count": null,
   "metadata": {
    "application/vnd.databricks.v1+cell": {
     "cellMetadata": {
      "byteLimit": 2048000,
      "rowLimit": 10000
     },
     "inputWidgets": {},
     "nuid": "1610f524-6813-423a-b84d-c912214994f4",
     "showTitle": false,
     "title": ""
    }
   },
   "outputs": [],
   "source": [
    "# Swarmplot of the flipper length based on islands\n",
    "\n",
    "plt.figure(figsize = (13,9))\n",
    "ax = sns.swarmplot(data = penguins, \n",
    "              x = 'island', \n",
    "              y = 'flipper_length_mm')\n",
    "ax.set(title = 'Distribution of the flipper length', # Accessing Axes object and setting title and labels using .set()\n",
    "       xlabel = 'The island',\n",
    "       ylabel = 'The flipper length (mm)');"
   ]
  },
  {
   "cell_type": "markdown",
   "metadata": {
    "application/vnd.databricks.v1+cell": {
     "cellMetadata": {},
     "inputWidgets": {},
     "nuid": "6c5f3e70-42e7-4a8a-a878-903d29aed631",
     "showTitle": false,
     "title": ""
    }
   },
   "source": [
    "Now we see the distribution of the penguins' flipper length on the three islands, but this plot does not provide us any specific and useful information. We can say only, for example, there are penguins with either really short flippers or vast majority of penguins have long flippers about 215 milimeters on Biscoe island. \n",
    "\n",
    "Let's explore what species are actually present on the particular islands."
   ]
  },
  {
   "cell_type": "code",
   "execution_count": null,
   "metadata": {
    "application/vnd.databricks.v1+cell": {
     "cellMetadata": {
      "byteLimit": 2048000,
      "rowLimit": 10000
     },
     "inputWidgets": {},
     "nuid": "d517230e-2dcb-45d9-88d6-88856590b906",
     "showTitle": false,
     "title": ""
    }
   },
   "outputs": [],
   "source": [
    "# Group data based on island and count penguins\n",
    "\n",
    "penguins.groupby('island')['species'].value_counts()"
   ]
  },
  {
   "cell_type": "markdown",
   "metadata": {
    "application/vnd.databricks.v1+cell": {
     "cellMetadata": {},
     "inputWidgets": {},
     "nuid": "cd95fa81-6f53-4811-853c-9950c1daa389",
     "showTitle": false,
     "title": ""
    }
   },
   "source": [
    "Interestingly, Adelie species inhabit all three islands. Gentoo penguins are present only in Biscoe island and Chinstrap's home is Dream island. Let's filter the dataset only for Gentoo and Chinstrap penguins.\n",
    "\n",
    "The filtering approach is up to you. You can create a subset of a DataFrame with specific rows based on a condition using indexing like in this example:   \n",
    "```subset = data['weight'] == 85```\n",
    "\n",
    "This operation checks for whether the row contains the value 85 and returns only those rows where this condition is fulfilled.\n",
    "\n",
    "Another option is to use `query` which we apply onto the DataFrame. We specify that we want to filter only those rows where Gentoo and Chinstrap penguins are present as species. Since we filter for more than one condition, these species must by passed as a list. We use the `in` keyword which checks whether a species is present in the list.\n",
    "\n",
    "\n",
    "Choose the approach which best suits you. Here we included both of them for you to compare the code syntax."
   ]
  },
  {
   "cell_type": "code",
   "execution_count": null,
   "metadata": {
    "application/vnd.databricks.v1+cell": {
     "cellMetadata": {
      "byteLimit": 2048000,
      "rowLimit": 10000
     },
     "inputWidgets": {},
     "nuid": "077180fc-0da2-4c3b-963f-796accab774e",
     "showTitle": false,
     "title": ""
    }
   },
   "outputs": [],
   "source": [
    "# Filtering only Gentoo and Chinstrap species using Pandas query\n",
    "\n",
    "penguins_filter = penguins.query('species in [\"Gentoo\",\"Chinstrap\"]')"
   ]
  },
  {
   "cell_type": "code",
   "execution_count": null,
   "metadata": {
    "application/vnd.databricks.v1+cell": {
     "cellMetadata": {
      "byteLimit": 2048000,
      "rowLimit": 10000
     },
     "inputWidgets": {},
     "nuid": "e03457f5-7289-433a-b773-2ee1e9e43780",
     "showTitle": false,
     "title": ""
    }
   },
   "outputs": [],
   "source": [
    "# Filtering only Gentoo and Chinstrap species using indexing\n",
    "\n",
    "penguins_fil = penguins[penguins['species'].isin([\"Gentoo\",\"Chinstrap\"])]"
   ]
  },
  {
   "cell_type": "code",
   "execution_count": null,
   "metadata": {
    "application/vnd.databricks.v1+cell": {
     "cellMetadata": {
      "byteLimit": 2048000,
      "rowLimit": 10000
     },
     "inputWidgets": {},
     "nuid": "15f382a9-d9e7-475f-bcc0-501c71b8e496",
     "showTitle": false,
     "title": ""
    }
   },
   "outputs": [],
   "source": [
    "# The new DataFrame penguins_filter will be returned as an output\n",
    "\n",
    "penguins_filter.head()"
   ]
  },
  {
   "cell_type": "code",
   "execution_count": null,
   "metadata": {
    "application/vnd.databricks.v1+cell": {
     "cellMetadata": {
      "byteLimit": 2048000,
      "rowLimit": 10000
     },
     "inputWidgets": {},
     "nuid": "c79866a1-68dd-42b0-9608-219107550a59",
     "showTitle": false,
     "title": ""
    }
   },
   "outputs": [],
   "source": [
    "# TASK 2 >>> Create a swarmplot using the created penguins_filter subset\n",
    "#        >>> Set the figure size to (13,9)\n",
    "#        >>> Visualize the flipper length based on the Chinstrap and Gentoo species\n",
    "#        >>> Set the title to 'Distribution of Chinstrap and Gentoo species'using plt.title()"
   ]
  },
  {
   "cell_type": "markdown",
   "metadata": {
    "application/vnd.databricks.v1+cell": {
     "cellMetadata": {},
     "inputWidgets": {},
     "nuid": "b05623b2-aa23-411e-b2d9-37e823f3ea70",
     "showTitle": false,
     "title": ""
    }
   },
   "source": [
    "### 1.1.3 Stripplot\n",
    "\n",
    "As you already learned how to create a stripplot, try the following exercise of visualizing Adelie species flipper length distribution based on the category  'sex'."
   ]
  },
  {
   "cell_type": "code",
   "execution_count": null,
   "metadata": {
    "application/vnd.databricks.v1+cell": {
     "cellMetadata": {
      "byteLimit": 2048000,
      "rowLimit": 10000
     },
     "inputWidgets": {},
     "nuid": "68428085-3358-4421-bfbe-dc1460039c04",
     "showTitle": false,
     "title": ""
    }
   },
   "outputs": [],
   "source": [
    "# Filter only for the Adelie species and save it as adelie_filter\n",
    "adelie_filter = penguins.query('species == \"Adelie\"')"
   ]
  },
  {
   "cell_type": "code",
   "execution_count": null,
   "metadata": {
    "application/vnd.databricks.v1+cell": {
     "cellMetadata": {
      "byteLimit": 2048000,
      "rowLimit": 10000
     },
     "inputWidgets": {},
     "nuid": "f15905ea-9498-4526-98d5-5a57048c4b30",
     "showTitle": false,
     "title": ""
    }
   },
   "outputs": [],
   "source": [
    "# TASK 3 >>> Visualize Adelie's flipper length distribution using swarmplot based on 'sex'\n",
    "#        >>> Set the figure size to (13,9)\n",
    "#        >>> Store the output of the stripplot to the ax variable\n",
    "#        >>> Set the following using ax.set(): \n",
    "#            title: 'The flipper length based on the sex'\n",
    "#            x-axis label: 'The sex'\n",
    "#            y-axis label: 'The flipper length (mm)'"
   ]
  },
  {
   "cell_type": "markdown",
   "metadata": {
    "application/vnd.databricks.v1+cell": {
     "cellMetadata": {},
     "inputWidgets": {},
     "nuid": "2f44ceec-c981-4525-b974-9ff845eb1b78",
     "showTitle": false,
     "title": ""
    }
   },
   "source": [
    "### 1.1.4 Violinplot\n",
    "\n",
    "Categories can be nicely compared using a violinplot which shows statistics from a boxplot and the shape of the distribution that comes from a density plot. A violinplot is a good choice for plotting the distribution when visualizing a large number of observations is not sufficient due to data points overlapping."
   ]
  },
  {
   "cell_type": "code",
   "execution_count": null,
   "metadata": {
    "application/vnd.databricks.v1+cell": {
     "cellMetadata": {
      "byteLimit": 2048000,
      "rowLimit": 10000
     },
     "inputWidgets": {},
     "nuid": "c1ca5227-7744-42ad-bf6a-6f0adb3c61f6",
     "showTitle": false,
     "title": ""
    }
   },
   "outputs": [],
   "source": [
    "# A violinplot of the 'body_mass_g' feature\n",
    "\n",
    "plt.figure(figsize = (13,9))\n",
    "sns.violinplot(data = penguins, \n",
    "               x = 'sex', \n",
    "               y = 'body_mass_g');"
   ]
  },
  {
   "cell_type": "markdown",
   "metadata": {
    "application/vnd.databricks.v1+cell": {
     "cellMetadata": {},
     "inputWidgets": {},
     "nuid": "e45b600b-7765-4973-b604-6ce07a9c96b7",
     "showTitle": false,
     "title": ""
    }
   },
   "source": [
    "A violinplot consists of boxplot that is displayed in the middle. The thick black bar represents the majority of values (IQR) and the white dot is the median value. Thin black lines represent the rest of data points. There shape of distribution is displayed on each side. \n",
    "The interpretation of a violinplot is similar to that of a swarmplot. Wider parts represent higher frequency of observations, while thinner parts denote less observations. You can notice that most male penguings have a weight of about 4000 grams and are generally heavier than females.\n",
    "\n",
    "---\n",
    "\n",
    "Please, see the [documentation](https://seaborn.pydata.org/generated/seaborn.violinplot.html) for specifying other parameters."
   ]
  },
  {
   "cell_type": "code",
   "execution_count": null,
   "metadata": {
    "application/vnd.databricks.v1+cell": {
     "cellMetadata": {
      "byteLimit": 2048000,
      "rowLimit": 10000
     },
     "inputWidgets": {},
     "nuid": "2901e6f0-9bd2-47ba-be21-e9270ea64d18",
     "showTitle": false,
     "title": ""
    }
   },
   "outputs": [],
   "source": [
    "# A violin plot of 'body_mass_g' variable based on 'species'\n",
    "\n",
    "color = {'Adelie':'powderblue','Chinstrap':'thistle','Gentoo':'bisque'}\n",
    "plt.figure(figsize = (13,9))\n",
    "ax = sns.violinplot(data = penguins, \n",
    "                    x = 'body_mass_g', \n",
    "                    y = 'species',\n",
    "                    inner = 'quartile',\n",
    "                    linewidth = 1.4,\n",
    "                    palette = color);"
   ]
  },
  {
   "cell_type": "markdown",
   "metadata": {
    "application/vnd.databricks.v1+cell": {
     "cellMetadata": {},
     "inputWidgets": {},
     "nuid": "6a896377-f4d6-44e3-aae8-1657a09bc628",
     "showTitle": false,
     "title": ""
    }
   },
   "source": [
    "### 1.1.5 Displot\n",
    "\n",
    "We can also compare the spread of the values using a histogram."
   ]
  },
  {
   "cell_type": "code",
   "execution_count": null,
   "metadata": {
    "application/vnd.databricks.v1+cell": {
     "cellMetadata": {
      "byteLimit": 2048000,
      "rowLimit": 10000
     },
     "inputWidgets": {},
     "nuid": "03c28616-350e-4f92-8b23-9585b6620eba",
     "showTitle": false,
     "title": ""
    }
   },
   "outputs": [],
   "source": [
    "# A displot of 'body_mass_g' feature based on 'species'\n",
    "\n",
    "sns.displot(data = penguins, \n",
    "            x='body_mass_g', \n",
    "            hue = 'species', \n",
    "            kind = 'kde',\n",
    "            height = 6, \n",
    "            aspect = 1.3);"
   ]
  },
  {
   "cell_type": "markdown",
   "metadata": {
    "application/vnd.databricks.v1+cell": {
     "cellMetadata": {},
     "inputWidgets": {},
     "nuid": "9ebde373-e73e-48b8-828c-d22383bfd3b3",
     "showTitle": false,
     "title": ""
    }
   },
   "source": [
    "## 1.2 Categorical vs. categorical feature\n",
    "\n",
    "With a countplot we are able to count the number of observations in each catogory and then compared how these values vary across categories. \n",
    "\n",
    "Let's visualize how many female and male penguins are present in each species."
   ]
  },
  {
   "cell_type": "code",
   "execution_count": null,
   "metadata": {
    "application/vnd.databricks.v1+cell": {
     "cellMetadata": {
      "byteLimit": 2048000,
      "rowLimit": 10000
     },
     "inputWidgets": {},
     "nuid": "5f0ae9fa-de89-4072-a4f6-67a00e65966a",
     "showTitle": false,
     "title": ""
    }
   },
   "outputs": [],
   "source": [
    "# A countplot of male and females penguins based on species\n",
    "plt.figure(figsize = (13,9))\n",
    "bars = sns.countplot(data = penguins, x = 'species', hue = 'sex', palette = 'Set3')\n",
    "\n",
    "# Annotation for bars and example customizations\n",
    "for b in bars.patches:                               \n",
    "    bars.annotate('{:.0f}'.format(b.get_height()),  # Showing the count and string formatting to no decimal place\n",
    "                 (b.get_x() + 0.2, b.get_height()), # A tuple of the left coordinate of the bar, adding some float to center it \n",
    "                                                    # and getting the height of the bar - to change the placement of numbers,\n",
    "                                                    # substract some number from b.get_height() to see the change \n",
    "                  ha='center',                      # Setting horizontal alignment of text\n",
    "                  va='bottom',                      # Setting vertical alingment of text\n",
    "                  color= 'black',                   \n",
    "                  fontsize = 10)\n",
    "sns.despine(top = True, left = True)                # Removing spines from plot\n",
    "bars.set(ylabel = '', yticks = [])                  # Removing y-axis labels and y-axis ticks         \n",
    "bars.set_xlabel('Species', fontsize = 13);      "
   ]
  },
  {
   "cell_type": "markdown",
   "metadata": {
    "application/vnd.databricks.v1+cell": {
     "cellMetadata": {},
     "inputWidgets": {},
     "nuid": "c868d483-b17a-4de9-b387-44033525dcad",
     "showTitle": false,
     "title": ""
    }
   },
   "source": [
    "# 2. Numerical vs. numerical feature\n",
    "\n",
    "During bivariate analysis of two numerical variables we attempt to determine any relationship between them."
   ]
  },
  {
   "cell_type": "markdown",
   "metadata": {
    "application/vnd.databricks.v1+cell": {
     "cellMetadata": {},
     "inputWidgets": {},
     "nuid": "c6ecd8f3-6658-410a-b545-46066e7539a2",
     "showTitle": false,
     "title": ""
    }
   },
   "source": [
    "## 2.1 Relplot\n",
    "\n",
    "Seaborn's `replot()` plotting function creates a relational plot. The output of this function is a FacetGrid object which allows to extend the existing plot in several ways, for instance adding another subplot or adding a subset of the data to visually display various categories. These options will be discussed in the last notebook about Multivariate analysis.\n",
    "\n",
    "It is also possible to choose the method of visualizing statistical relationship using `kind` parameter:\n",
    "- `kind = 'scatter'` - by default\n",
    "- `kind = 'line` \n",
    "\n",
    "For now let's focus on creating a default relational plot comparing 2 numerical variables at once. We specify input dataset to `data` parameter and assign numerical variables as strings to `x` and `y`."
   ]
  },
  {
   "cell_type": "code",
   "execution_count": null,
   "metadata": {
    "application/vnd.databricks.v1+cell": {
     "cellMetadata": {
      "byteLimit": 2048000,
      "rowLimit": 10000
     },
     "inputWidgets": {},
     "nuid": "1ebcc7fc-7686-4b9c-a5f5-ea5ee3f95d42",
     "showTitle": false,
     "title": ""
    }
   },
   "outputs": [],
   "source": [
    "# Relationship between body mass and the flipper length\n",
    "\n",
    "rel = sns.relplot(data = penguins, \n",
    "                  x = 'body_mass_g', \n",
    "                  y = 'flipper_length_mm',\n",
    "                  color = 'grey',\n",
    "                  height = 6, \n",
    "                  aspect = 1.3)\n",
    "rel.set(xlabel = 'Body mass (g)', \n",
    "        ylabel = 'Flipper length (mm)');"
   ]
  },
  {
   "cell_type": "markdown",
   "metadata": {
    "application/vnd.databricks.v1+cell": {
     "cellMetadata": {},
     "inputWidgets": {},
     "nuid": "c81946f7-6a71-4cf0-94ec-ae64fbe3d5a2",
     "showTitle": false,
     "title": ""
    }
   },
   "source": [
    "The above plot shows the relationship between penguin's body mass and the flipper length. We can see that these two characteristics are strongly related with each other. The clear pattern indicates that with increasing body mass also the flipper length increases."
   ]
  },
  {
   "cell_type": "code",
   "execution_count": null,
   "metadata": {
    "application/vnd.databricks.v1+cell": {
     "cellMetadata": {
      "byteLimit": 2048000,
      "rowLimit": 10000
     },
     "inputWidgets": {},
     "nuid": "7557c394-2884-4a77-8d05-03902902decc",
     "showTitle": false,
     "title": ""
    }
   },
   "outputs": [],
   "source": [
    "# Relationship between body mass and bill length \n",
    "\n",
    "rel = sns.relplot(data = penguins, \n",
    "                  x = 'body_mass_g', \n",
    "                  y = 'bill_length_mm', \n",
    "                  color = 'cadetblue',\n",
    "                  height = 6, \n",
    "                  aspect = 1.3)\n",
    "rel.set(xlabel = 'Body mass (g)', \n",
    "        ylabel = 'The bill depth (mm)');"
   ]
  },
  {
   "cell_type": "markdown",
   "metadata": {
    "application/vnd.databricks.v1+cell": {
     "cellMetadata": {},
     "inputWidgets": {},
     "nuid": "0bdbffa3-0a34-4da5-8962-bb5e0f49a25e",
     "showTitle": false,
     "title": ""
    }
   },
   "source": [
    "Again, we can observe some kind of relationship between body mass and bill length. You can notice that penguins that weight about 3500 grams tend to have either a short bill (roughly about 35-40 mm), or a longer bill (above 45 mm). After a weight of about 4500 grams, the relationship becomes somewhat stronger and with increasing body mass, the bill length is longer. At this point we would need to take a closer look at the relationship by implementing some kind of visual semantic to gain more information from the data."
   ]
  },
  {
   "cell_type": "code",
   "execution_count": null,
   "metadata": {
    "application/vnd.databricks.v1+cell": {
     "cellMetadata": {
      "byteLimit": 2048000,
      "rowLimit": 10000
     },
     "inputWidgets": {},
     "nuid": "d4fda30a-d49a-4f51-9b6b-8e3524405420",
     "showTitle": false,
     "title": ""
    }
   },
   "outputs": [],
   "source": [
    "# TASK 4 >>> Create a relplot to visualize the relationship between the 'bill_length_mm' and the 'bill_depth_mm' features\n",
    "#        >>> Set parameters: height = 6, aspect = 1.3\n",
    "#        >>> Set x-axis: 'The bill length (mm)'\n",
    "#        >>> Set y-axis label: 'The bill depth (mm)'"
   ]
  },
  {
   "cell_type": "markdown",
   "metadata": {
    "application/vnd.databricks.v1+cell": {
     "cellMetadata": {},
     "inputWidgets": {},
     "nuid": "ee065caa-4700-441c-b990-d3b234ac896f",
     "showTitle": false,
     "title": ""
    }
   },
   "source": [
    "> What can you say about this relationship ?\n",
    "Does the bill length relate to the bill depth? \n",
    "Is there some indication about a strong relationship or do you barely see any patterns ?"
   ]
  },
  {
   "cell_type": "markdown",
   "metadata": {
    "application/vnd.databricks.v1+cell": {
     "cellMetadata": {},
     "inputWidgets": {},
     "nuid": "313456bf-ea80-45b9-b94d-2967b5254705",
     "showTitle": false,
     "title": ""
    }
   },
   "source": [
    "## 2.2 Scatterplot\n",
    "\n",
    "Another option to create a relational plot is using axes-level function `scatterplot()`."
   ]
  },
  {
   "cell_type": "code",
   "execution_count": null,
   "metadata": {
    "application/vnd.databricks.v1+cell": {
     "cellMetadata": {
      "byteLimit": 2048000,
      "rowLimit": 10000
     },
     "inputWidgets": {},
     "nuid": "47e142bb-3d66-4440-859f-2515d6572c30",
     "showTitle": false,
     "title": ""
    }
   },
   "outputs": [],
   "source": [
    "# Relationship between 'body_mass_g' and 'flipper_length_mm'\n",
    "plt.figure(figsize = (13,9))\n",
    "sns.scatterplot(data = penguins, \n",
    "                x = 'body_mass_g', \n",
    "                y = 'flipper_length_mm', \n",
    "                color = 'lightcoral');"
   ]
  },
  {
   "cell_type": "markdown",
   "metadata": {
    "application/vnd.databricks.v1+cell": {
     "cellMetadata": {},
     "inputWidgets": {},
     "nuid": "26c4f349-df1a-493f-8da9-7dabe79ab798",
     "showTitle": false,
     "title": ""
    }
   },
   "source": [
    "We can see a strong positive relationship between the body mass and the flipper length."
   ]
  },
  {
   "cell_type": "markdown",
   "metadata": {
    "application/vnd.databricks.v1+cell": {
     "cellMetadata": {},
     "inputWidgets": {},
     "nuid": "59d65e4c-2b14-4755-8a20-c37a9f5021ad",
     "showTitle": false,
     "title": ""
    }
   },
   "source": [
    "## 2.3 Visualizing trends"
   ]
  },
  {
   "cell_type": "markdown",
   "metadata": {
    "application/vnd.databricks.v1+cell": {
     "cellMetadata": {},
     "inputWidgets": {},
     "nuid": "e604b8a4-e2ac-4127-ad15-726371f40485",
     "showTitle": false,
     "title": ""
    }
   },
   "source": [
    "### 2.3.1 Regplot\n",
    "\n",
    "The Axes-level function`regplot()` creates a scatterplot and a line of best fit with a default 95% confidence interval which is drawn using translucent bands around the fit line. A similar plotting function is `lmplot()` which makes use of regplot and FacetGrid object so that you can compare several categories in a single figure."
   ]
  },
  {
   "cell_type": "code",
   "execution_count": null,
   "metadata": {
    "application/vnd.databricks.v1+cell": {
     "cellMetadata": {
      "byteLimit": 2048000,
      "rowLimit": 10000
     },
     "inputWidgets": {},
     "nuid": "50d963a8-7047-48d8-9912-27c7ec821507",
     "showTitle": false,
     "title": ""
    }
   },
   "outputs": [],
   "source": [
    "# A regplot of the 'body_mass' and the 'flipper_length_mm' variables\n",
    "\n",
    "plt.figure(figsize = (13,9))\n",
    "sns.regplot(data = penguins, \n",
    "            x = 'body_mass_g', \n",
    "            y = 'bill_length_mm',\n",
    "            color = 'indigo',\n",
    "            ci = 99);           # Setting the size of the confidence interval for the estimate"
   ]
  },
  {
   "cell_type": "markdown",
   "metadata": {
    "application/vnd.databricks.v1+cell": {
     "cellMetadata": {},
     "inputWidgets": {},
     "nuid": "50edd4b6-82f9-484c-9252-26637b5ce3d4",
     "showTitle": false,
     "title": ""
    }
   },
   "source": [
    "# 3. Heatmap\n",
    "\n",
    "Often we want to compute correlation coefficients to see the strength and the direction of the relationship. This can be done using Pandas's `corr()` function which can take input data and compute the pairwise correlation coefficients of variables.\n",
    "\n",
    "Types of correlation that can be specified as an argument to `method` parameter:\n",
    "- pearson\n",
    "- kendall\n",
    "- spearman\n",
    "\n",
    "Correlation matrix can be visualized using a heatmap where correlation coefficients are represented as colors. Values of correlation coefficients can take a range from -1 (a strong negative relationship) to 1 (a strong positive relationship). Since the coefficients take either high or low values, we should select a specific color palette called _diverging_."
   ]
  },
  {
   "cell_type": "code",
   "execution_count": null,
   "metadata": {
    "application/vnd.databricks.v1+cell": {
     "cellMetadata": {
      "byteLimit": 2048000,
      "rowLimit": 10000
     },
     "inputWidgets": {},
     "nuid": "735723a8-1140-423b-baf2-7d6e119d6f53",
     "showTitle": false,
     "title": ""
    }
   },
   "outputs": [],
   "source": [
    "# Computing correlation coefficients\n",
    "corr = penguins.corr(numeric_only=True)"
   ]
  },
  {
   "cell_type": "code",
   "execution_count": null,
   "metadata": {
    "application/vnd.databricks.v1+cell": {
     "cellMetadata": {
      "byteLimit": 2048000,
      "rowLimit": 10000
     },
     "inputWidgets": {},
     "nuid": "5ff2aea0-de2b-415a-a246-92fe9ed5ed6d",
     "showTitle": false,
     "title": ""
    }
   },
   "outputs": [],
   "source": [
    "# A heatmap of penguins dataset\n",
    "\n",
    "fig, ax = plt.subplots(figsize = (13,9))\n",
    "sns.heatmap(corr, \n",
    "            annot = True,                 # Correlation coeficients will be displayed in each cell\n",
    "            annot_kws = {'fontsize':14},  # Setting a fontsize\n",
    "            cmap = 'Blues');              # Setting a color map"
   ]
  },
  {
   "cell_type": "markdown",
   "metadata": {
    "application/vnd.databricks.v1+cell": {
     "cellMetadata": {},
     "inputWidgets": {},
     "nuid": "047c30fe-180d-487a-98d8-4a5ea085cdfc",
     "showTitle": false,
     "title": ""
    }
   },
   "source": [
    "# 4. Practice time\n",
    "\n",
    "Let's continue exploring the \"Bank marketing\" dataset as in the previous notebook."
   ]
  },
  {
   "cell_type": "markdown",
   "metadata": {
    "application/vnd.databricks.v1+cell": {
     "cellMetadata": {},
     "inputWidgets": {},
     "nuid": "18f88a67-f3a7-4926-bf7b-3eac39fb40d1",
     "showTitle": false,
     "title": ""
    }
   },
   "source": [
    "## 4.1 Loading data, preprocessing"
   ]
  },
  {
   "cell_type": "code",
   "execution_count": null,
   "metadata": {
    "application/vnd.databricks.v1+cell": {
     "cellMetadata": {
      "byteLimit": 2048000,
      "rowLimit": 10000
     },
     "inputWidgets": {},
     "nuid": "783970ab-2593-48dd-9936-07d233334fd7",
     "showTitle": false,
     "title": ""
    }
   },
   "outputs": [],
   "source": [
    "# Load the data \n",
    "\n",
    "data = pd.read_csv('Data/bank_data.csv',sep = ';')\n",
    "# Let's rename some of variables\n",
    "data.rename(columns = {'marital':'marital_status','default':'default_credit','housing':'house_loan',\n",
    "                      'contact':'contact_type','duration':'contact_duration','campaign':'number_of_contacts',\n",
    "                      'pdays':'days_passed','previous':'number_previous_contact','poutcome':'previous_campaign_outcome',\n",
    "                      'emp.var.rate':'emp_variation_rate','cons.price.idx':'cpi','cons.conf.idx':\n",
    "                      'cci','euribor3m':'euribor_rate','nr.employed':'no_employees','y':'target'},\n",
    "           inplace = True)"
   ]
  },
  {
   "cell_type": "code",
   "execution_count": null,
   "metadata": {
    "application/vnd.databricks.v1+cell": {
     "cellMetadata": {
      "byteLimit": 2048000,
      "rowLimit": 10000
     },
     "inputWidgets": {},
     "nuid": "5db90cc2-15cd-4418-9a2f-bbcb1dacb9ee",
     "showTitle": false,
     "title": ""
    }
   },
   "outputs": [],
   "source": [
    "# Remove duplicated rows\n",
    "\n",
    "data.drop_duplicates(inplace = True)"
   ]
  },
  {
   "cell_type": "code",
   "execution_count": null,
   "metadata": {
    "application/vnd.databricks.v1+cell": {
     "cellMetadata": {
      "byteLimit": 2048000,
      "rowLimit": 10000
     },
     "inputWidgets": {},
     "nuid": "d8756429-fe5e-4103-b93d-2b0a26eba287",
     "showTitle": false,
     "title": ""
    }
   },
   "outputs": [],
   "source": [
    "# Select all variables that need to be converted\n",
    "\n",
    "to_category = ['job','marital_status','education','default_credit','house_loan', \n",
    "               'loan','contact_type','month','day_of_week', 'previous_campaign_outcome']"
   ]
  },
  {
   "cell_type": "code",
   "execution_count": null,
   "metadata": {
    "application/vnd.databricks.v1+cell": {
     "cellMetadata": {
      "byteLimit": 2048000,
      "rowLimit": 10000
     },
     "inputWidgets": {},
     "nuid": "f6b045b9-e4a4-4ef5-9295-44ea45e9ebe0",
     "showTitle": false,
     "title": ""
    }
   },
   "outputs": [],
   "source": [
    "# Convert them to the category data type\n",
    "\n",
    "for col in to_category:\n",
    "    data[col] = data[col].astype('category')"
   ]
  },
  {
   "cell_type": "code",
   "execution_count": null,
   "metadata": {
    "application/vnd.databricks.v1+cell": {
     "cellMetadata": {
      "byteLimit": 2048000,
      "rowLimit": 10000
     },
     "inputWidgets": {},
     "nuid": "123a56f9-97b5-4ca1-bc68-515a8dcb3fc6",
     "showTitle": false,
     "title": ""
    }
   },
   "outputs": [],
   "source": [
    "# Create a dictionary with original values and corresponding new values for days\n",
    "\n",
    "mapping_days = {'mon':'Monday','tue':'Tuesday','wed':'Wednesday','thu':'Thursday','fri':'Friday'}\n",
    "\n",
    "# Map new values to column 'day_of_week'\n",
    "data.day_of_week = data.day_of_week.map(mapping_days)"
   ]
  },
  {
   "cell_type": "code",
   "execution_count": null,
   "metadata": {
    "application/vnd.databricks.v1+cell": {
     "cellMetadata": {
      "byteLimit": 2048000,
      "rowLimit": 10000
     },
     "inputWidgets": {},
     "nuid": "c5336342-8ace-4b54-b8cf-a1aaff21c1eb",
     "showTitle": false,
     "title": ""
    }
   },
   "outputs": [],
   "source": [
    "# Create a dictionary with original values and corresponding new values for months\n",
    "\n",
    "mapping_months = {'mar':'March', 'apr':'April','may':'May','jun':'Jun','jul':'Jul','aug':'August',\n",
    "                  'sep':'September','oct':'October','nov':'November','dec':'December'}\n",
    "\n",
    "# Map new values to column 'month'\n",
    "data.month = data.month.map(mapping_months)"
   ]
  },
  {
   "cell_type": "code",
   "execution_count": null,
   "metadata": {
    "application/vnd.databricks.v1+cell": {
     "cellMetadata": {
      "byteLimit": 2048000,
      "rowLimit": 10000
     },
     "inputWidgets": {},
     "nuid": "c0cfda65-6d38-43f9-a77e-29864623ae02",
     "showTitle": false,
     "title": ""
    }
   },
   "outputs": [],
   "source": [
    "# Converting seconds to minutes\n",
    "\n",
    "data.contact_duration = data.contact_duration.apply(lambda x: x / 60)"
   ]
  },
  {
   "cell_type": "code",
   "execution_count": null,
   "metadata": {
    "application/vnd.databricks.v1+cell": {
     "cellMetadata": {
      "byteLimit": 2048000,
      "rowLimit": 10000
     },
     "inputWidgets": {},
     "nuid": "f238cce0-1529-4f1c-99e1-dcd22c00b3e3",
     "showTitle": false,
     "title": ""
    }
   },
   "outputs": [],
   "source": [
    "# Inspect the data\n",
    "data"
   ]
  },
  {
   "cell_type": "code",
   "execution_count": null,
   "metadata": {
    "application/vnd.databricks.v1+cell": {
     "cellMetadata": {
      "byteLimit": 2048000,
      "rowLimit": 10000
     },
     "inputWidgets": {},
     "nuid": "eeb52e5e-784a-4df7-824e-aca2da5d70c1",
     "showTitle": false,
     "title": ""
    }
   },
   "outputs": [],
   "source": [
    "# TASK 5 >>> Create a Figure object and set size to (13,9)\n",
    "#        >>> Create a heatmap of data with written correlations coefficients\n",
    "#        >>> Set color palette: 'RdGy'"
   ]
  },
  {
   "cell_type": "code",
   "execution_count": null,
   "metadata": {
    "application/vnd.databricks.v1+cell": {
     "cellMetadata": {
      "byteLimit": 2048000,
      "rowLimit": 10000
     },
     "inputWidgets": {},
     "nuid": "2a30bf10-3eb6-4807-8940-c3f4655960ae",
     "showTitle": false,
     "title": ""
    }
   },
   "outputs": [],
   "source": [
    "# TASK 6 >>> Create a histogram of 'contact_duration' based on the 'target' feature\n",
    "#        >>> Set parameter: multiple = 'stack'\n",
    "#        >>> Set parameters: height = 7, aspect = 1.3"
   ]
  },
  {
   "cell_type": "code",
   "execution_count": null,
   "metadata": {
    "application/vnd.databricks.v1+cell": {
     "cellMetadata": {
      "byteLimit": 2048000,
      "rowLimit": 10000
     },
     "inputWidgets": {},
     "nuid": "a15a41da-0d99-461a-924c-e44b45ef7c81",
     "showTitle": false,
     "title": ""
    }
   },
   "outputs": [],
   "source": [
    "# TASK 7 >>> Create a boxplot of 'age' feature based on 'target'\n",
    "#        >>> Set the figure size to (13,9)"
   ]
  },
  {
   "cell_type": "code",
   "execution_count": null,
   "metadata": {
    "application/vnd.databricks.v1+cell": {
     "cellMetadata": {
      "byteLimit": 2048000,
      "rowLimit": 10000
     },
     "inputWidgets": {},
     "nuid": "6bf6e257-702f-4914-b5ee-6472613237fb",
     "showTitle": false,
     "title": ""
    }
   },
   "outputs": [],
   "source": [
    "# TASK 8 >>> Create a countplot using the Figure-level function catplot() \n",
    "#        >>> Visualize 'target' variable based on a client's job\n",
    "#        >>> Specify parameters: height = 6 and aspect = 1.3\n",
    "#        >>> Set the rotation of x-axis tick labels to 50 degrees"
   ]
  },
  {
   "cell_type": "code",
   "execution_count": null,
   "metadata": {
    "application/vnd.databricks.v1+cell": {
     "cellMetadata": {
      "byteLimit": 2048000,
      "rowLimit": 10000
     },
     "inputWidgets": {},
     "nuid": "42043beb-b33d-4b8d-9758-6bf111adc133",
     "showTitle": false,
     "title": ""
    }
   },
   "outputs": [],
   "source": [
    "# TASK 9 >>> Create a countplot of 'marital_status' based on 'target' using a Figure-level function catplot() \n",
    "#        >>> Specify parameters: height = 6 and aspect = 1.3"
   ]
  },
  {
   "cell_type": "markdown",
   "metadata": {
    "application/vnd.databricks.v1+cell": {
     "cellMetadata": {},
     "inputWidgets": {},
     "nuid": "745a286d-576c-4db8-93de-7ff1a7f0728c",
     "showTitle": false,
     "title": ""
    }
   },
   "source": [
    "## Citation request:\n",
    "\n",
    "[Moro et al., 2014] S. Moro, P. Cortez and P. Rita. A Data-Driven Approach to Predict the Success of Bank Telemarketing. Decision Support Systems, Elsevier, 62:22-31, June 2014  \n",
    "\n",
    "Material adapted for RBI internal purposes with full permissions from original authors. [Source](https://github.com/zatkopatrik/authentic-data-science)"
   ]
  }
 ],
 "metadata": {
  "application/vnd.databricks.v1+notebook": {
   "dashboards": [],
   "language": "python",
   "notebookMetadata": {
    "pythonIndentUnit": 4
   },
   "notebookName": "4_Bivariate_Analysis_with_Seaborn_jupyter",
   "notebookOrigID": 302834361985353,
   "widgets": {}
  },
  "language_info": {
   "name": "python"
  }
 },
 "nbformat": 4,
 "nbformat_minor": 0
}
