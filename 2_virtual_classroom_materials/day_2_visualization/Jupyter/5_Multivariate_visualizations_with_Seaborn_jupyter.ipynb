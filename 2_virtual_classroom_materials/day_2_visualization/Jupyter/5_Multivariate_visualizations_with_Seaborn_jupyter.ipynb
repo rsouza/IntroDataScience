{
 "cells": [
  {
   "cell_type": "markdown",
   "metadata": {
    "application/vnd.databricks.v1+cell": {
     "cellMetadata": {},
     "inputWidgets": {},
     "nuid": "af544bc2-7cb8-443b-afb3-2a1243822fb0",
     "showTitle": false,
     "title": ""
    }
   },
   "source": [
    "# Multivariate Analysis with Seaborn\n",
    "\n",
    "Multivariate visualizations are an expansion of bivariate analysis, where we add another variable (or variables). Often, adding the third variable helps us to find some important pattern or information that we couldn't have observed before."
   ]
  },
  {
   "cell_type": "code",
   "execution_count": 0,
   "metadata": {
    "application/vnd.databricks.v1+cell": {
     "cellMetadata": {
      "byteLimit": 2048000,
      "rowLimit": 10000
     },
     "inputWidgets": {},
     "nuid": "93d941cd-d90f-4be0-ab37-e4b3219abc0b",
     "showTitle": false,
     "title": ""
    }
   },
   "outputs": [],
   "source": [
    "import pandas as pd\n",
    "import seaborn as sns\n",
    "import matplotlib.pyplot as plt"
   ]
  },
  {
   "cell_type": "code",
   "execution_count": 0,
   "metadata": {
    "application/vnd.databricks.v1+cell": {
     "cellMetadata": {
      "byteLimit": 2048000,
      "rowLimit": 10000
     },
     "inputWidgets": {},
     "nuid": "394c6a57-ed94-4cd7-b80a-e0203c92b927",
     "showTitle": false,
     "title": ""
    }
   },
   "outputs": [],
   "source": [
    "# Load the data\n",
    "penguins = pd.read_csv('../../../Data/penguins.csv')\n",
    "penguins.dropna(inplace = True)"
   ]
  },
  {
   "cell_type": "code",
   "execution_count": 0,
   "metadata": {
    "application/vnd.databricks.v1+cell": {
     "cellMetadata": {
      "byteLimit": 2048000,
      "rowLimit": 10000
     },
     "inputWidgets": {},
     "nuid": "ccab0897-524d-41fe-b49b-d9b2322989e8",
     "showTitle": false,
     "title": ""
    }
   },
   "outputs": [],
   "source": [
    "# Take a look at first 5 rows\n",
    "penguins.head()"
   ]
  },
  {
   "cell_type": "markdown",
   "metadata": {
    "application/vnd.databricks.v1+cell": {
     "cellMetadata": {},
     "inputWidgets": {},
     "nuid": "42fd78f4-efe1-47ca-be3a-04b7705fe730",
     "showTitle": false,
     "title": ""
    }
   },
   "source": [
    "# Mapping the third variable to encoding\n",
    "\n",
    "There are 3 ways how to map the third variable to create a visual semantic:\n",
    "\n",
    "- **encoding with color**\n",
    "- **encoding with the size**\n",
    "- **encoding with the shape**\n",
    "\n",
    "Again, choosing appropriate encoding depends on the question we ask, input data or purpose of visualizations. Let's look at some examples."
   ]
  },
  {
   "cell_type": "markdown",
   "metadata": {
    "application/vnd.databricks.v1+cell": {
     "cellMetadata": {},
     "inputWidgets": {},
     "nuid": "b023d283-2a0f-47be-be99-2a8c6be6d79d",
     "showTitle": false,
     "title": ""
    }
   },
   "source": [
    "# 1. Visualizing the distribution"
   ]
  },
  {
   "cell_type": "markdown",
   "metadata": {
    "application/vnd.databricks.v1+cell": {
     "cellMetadata": {},
     "inputWidgets": {},
     "nuid": "3d255098-73d2-4fa4-aa1f-3a56501d6a79",
     "showTitle": false,
     "title": ""
    }
   },
   "source": [
    "## 1.1 Boxplot\n",
    "\n",
    "As we mentioned in the Bivariate analysis notebook, [boxplots](https://seaborn.pydata.org/generated/seaborn.boxplot.html) are great when becomes to comparing several groups. Let's say we want to see the distribution of penguins body mass based on the island. We are also interested whether there are some differences in the ranges of the values between females and males. As before, we plot the first categorical variable 'island', then numerical variable 'body_mass_g' and pass the third groupiny variable 'sex' to `hue` parameter.\n",
    "\n",
    "Here, the third variable is mapped with **color encoding** that produces different colors and visually help determines levels of a subset."
   ]
  },
  {
   "cell_type": "code",
   "execution_count": 0,
   "metadata": {
    "application/vnd.databricks.v1+cell": {
     "cellMetadata": {
      "byteLimit": 2048000,
      "rowLimit": 10000
     },
     "inputWidgets": {},
     "nuid": "284b535f-20f0-47ee-bd61-d8eda413129a",
     "showTitle": false,
     "title": ""
    }
   },
   "outputs": [],
   "source": [
    "# Boxplots of body mass based on the island and the gender\n",
    "\n",
    "plt.subplots(figsize = (13,9))\n",
    "sns.boxplot(data = penguins, \n",
    "            x = 'island', \n",
    "            y = 'body_mass_g', \n",
    "            hue = 'sex', \n",
    "            palette = 'Set3',\n",
    "            linewidth = 0.6)\n",
    "plt.xlabel('The island', fontsize = 14, labelpad = 20)     # Setting the title, fontsize and adjusting the spacing\n",
    "plt.ylabel('Body mass (g)', fontsize = 14)\n",
    "plt.title('The distribution of body mass', fontsize = 20);"
   ]
  },
  {
   "cell_type": "markdown",
   "metadata": {
    "application/vnd.databricks.v1+cell": {
     "cellMetadata": {},
     "inputWidgets": {},
     "nuid": "fa45a6ac-efac-4284-a6f9-d8e369d32e91",
     "showTitle": false,
     "title": ""
    }
   },
   "source": [
    "## 1.2 Stripplots\n",
    "\n",
    "A [stripplot](https://seaborn.pydata.org/generated/seaborn.stripplot.html) is another kind of categorical scatterplot that can be useful when comparing different groups. Again, the categories of the third variable are distinguished using **different colors**."
   ]
  },
  {
   "cell_type": "code",
   "execution_count": 0,
   "metadata": {
    "application/vnd.databricks.v1+cell": {
     "cellMetadata": {
      "byteLimit": 2048000,
      "rowLimit": 10000
     },
     "inputWidgets": {},
     "nuid": "8f8e75d9-af16-4312-b054-61a20259faa0",
     "showTitle": false,
     "title": ""
    }
   },
   "outputs": [],
   "source": [
    "# Stripplots\n",
    "\n",
    "plt.subplots(figsize = (13,9))\n",
    "sns.stripplot(data = penguins, \n",
    "              x = 'species', \n",
    "              y = 'flipper_length_mm', \n",
    "              hue ='sex')\n",
    "plt.xlabel('Species', fontsize = 14, labelpad = 20)     \n",
    "plt.ylabel('The flipper length (mm)', fontsize = 14)\n",
    "plt.title('The distribution of the flipper length', \n",
    "          fontsize = 20)\n",
    "plt.legend(loc = 4, prop = {'size': 13});           # Adjusting the legend's position and the size"
   ]
  },
  {
   "cell_type": "markdown",
   "metadata": {
    "application/vnd.databricks.v1+cell": {
     "cellMetadata": {},
     "inputWidgets": {},
     "nuid": "9a84b645-37de-4155-93aa-8268de9dc2b4",
     "showTitle": false,
     "title": ""
    }
   },
   "source": [
    "In the above plot we can observe the flipper length distribution based on species and the gender of penguins. We can immediately see some differences and similarities between species thanks to adding a third variable.\n",
    "\n",
    "---\n",
    "## 1.3 [Relplot](https://seaborn.pydata.org/generated/seaborn.relplot.html)\n",
    "\n",
    "When we want to see a possible relationship between variables we can choose between three encoding approaches and decide which kind is the most suitable. In the below example we can see how body mass and the flipper length relate based on penguins's species."
   ]
  },
  {
   "cell_type": "code",
   "execution_count": 0,
   "metadata": {
    "application/vnd.databricks.v1+cell": {
     "cellMetadata": {
      "byteLimit": 2048000,
      "rowLimit": 10000
     },
     "inputWidgets": {},
     "nuid": "129923c7-b657-4909-b263-2fead68e1c66",
     "showTitle": false,
     "title": ""
    }
   },
   "outputs": [],
   "source": [
    "# A scatterplot of body mass and the flipper length based on species\n",
    "\n",
    "sns.relplot(data = penguins, \n",
    "            x = 'body_mass_g', \n",
    "            y = 'flipper_length_mm', \n",
    "            hue = 'species',\n",
    "            palette = 'Dark2',\n",
    "            height = 7,\n",
    "            aspect = 1.5,)\n",
    "plt.xlabel('Body mass (g)', fontsize = 14, labelpad = 20)     \n",
    "plt.ylabel('The flipper length (mm)', fontsize = 14)\n",
    "plt.title('The relationship of body mass and the flipper length', fontsize = 20);"
   ]
  },
  {
   "cell_type": "markdown",
   "metadata": {
    "application/vnd.databricks.v1+cell": {
     "cellMetadata": {},
     "inputWidgets": {},
     "nuid": "9afae02d-5a03-40c6-82ec-08f8fb3bfb47",
     "showTitle": false,
     "title": ""
    }
   },
   "source": [
    "## 1.4 [Scatterplot](https://seaborn.pydata.org/generated/seaborn.scatterplot.html)\n",
    "\n",
    "In some cases, encoding with the third variable with **the size** can emphasize important aspects we found during exploratory data analysis. The graph below shows that the Gentoo species' penguin has the highest body mass and the longest flippers."
   ]
  },
  {
   "cell_type": "code",
   "execution_count": 0,
   "metadata": {
    "application/vnd.databricks.v1+cell": {
     "cellMetadata": {
      "byteLimit": 2048000,
      "rowLimit": 10000
     },
     "inputWidgets": {},
     "nuid": "3508c056-6355-41db-9843-1b53e0cb78c9",
     "showTitle": false,
     "title": ""
    }
   },
   "outputs": [],
   "source": [
    "# A scatterplot \n",
    "\n",
    "fig, ax = plt.subplots(figsize = (13,9))\n",
    "sns.scatterplot(data = penguins, \n",
    "                x = 'body_mass_g', \n",
    "                y = 'flipper_length_mm', \n",
    "                size = 'species',\n",
    "                color = 'green')\n",
    "plt.xlabel('Body mass (g)', fontsize = 14, labelpad = 20)     \n",
    "plt.ylabel('The flipper length (mm)', fontsize = 14)\n",
    "plt.title('The relationship of body mass and the flipper length', fontsize = 20);"
   ]
  },
  {
   "cell_type": "markdown",
   "metadata": {
    "application/vnd.databricks.v1+cell": {
     "cellMetadata": {},
     "inputWidgets": {},
     "nuid": "de40a611-0767-4a6b-9129-f7c4ded2255d",
     "showTitle": false,
     "title": ""
    }
   },
   "source": [
    "## 1.5 [Lmplot](https://seaborn.pydata.org/generated/seaborn.lmplot.html)\n",
    "\n",
    "Sometimes, we want to emphasize different categories of subset more sophisticatedly. In that case, we can choose specific  **markers** for each category."
   ]
  },
  {
   "cell_type": "code",
   "execution_count": 0,
   "metadata": {
    "application/vnd.databricks.v1+cell": {
     "cellMetadata": {
      "byteLimit": 2048000,
      "rowLimit": 10000
     },
     "inputWidgets": {},
     "nuid": "b3362aad-78b4-44f8-8f20-c85a9b46356a",
     "showTitle": false,
     "title": ""
    }
   },
   "outputs": [],
   "source": [
    "# A lmplot\n",
    "\n",
    "sns.lmplot(data = penguins, \n",
    "           x = 'bill_length_mm', \n",
    "           y = 'body_mass_g', \n",
    "           hue = 'species', \n",
    "           markers = ['+','8','*'],\n",
    "           palette = 'Dark2',\n",
    "           height = 7,\n",
    "           aspect = 1.3)\n",
    "plt.xlabel('The bill length (mm)', fontsize = 14, labelpad = 20)     \n",
    "plt.ylabel('The body mass (g)', fontsize = 14)\n",
    "plt.title('The relationship of body mass and the bill length', fontsize = 20);"
   ]
  },
  {
   "cell_type": "markdown",
   "metadata": {
    "application/vnd.databricks.v1+cell": {
     "cellMetadata": {},
     "inputWidgets": {},
     "nuid": "2884ab51-d400-4e25-b13d-8e2f7e125582",
     "showTitle": false,
     "title": ""
    }
   },
   "source": [
    "# 2.  FacetGrid\n",
    "\n",
    "Sometimes we want to display a relationship or a distribution not in a single Axes, but create a separate subplots. This can be done using a [FacetGrid](https://seaborn.pydata.org/generated/seaborn.FacetGrid.html) object, where we specify 3 dimensions:\n",
    "- `row` \n",
    "- `col`\n",
    "- `hue` - plotting different subset\n",
    "\n",
    "Let's say we want to look at the distribution of penguins species, so we assign 'species' to `col` parameter."
   ]
  },
  {
   "cell_type": "code",
   "execution_count": 0,
   "metadata": {
    "application/vnd.databricks.v1+cell": {
     "cellMetadata": {
      "byteLimit": 2048000,
      "rowLimit": 10000
     },
     "inputWidgets": {},
     "nuid": "86a5598f-689b-4237-b942-1be23cb81232",
     "showTitle": false,
     "title": ""
    }
   },
   "outputs": [],
   "source": [
    "# Initializing a FacetGrid object\n",
    "g = sns.FacetGrid(penguins, col = 'species')"
   ]
  },
  {
   "cell_type": "markdown",
   "metadata": {
    "application/vnd.databricks.v1+cell": {
     "cellMetadata": {},
     "inputWidgets": {},
     "nuid": "171ac1eb-d746-454c-9dec-4b3b6c60ae16",
     "showTitle": false,
     "title": ""
    }
   },
   "source": [
    "When we initialized FacetGrid object, a Figure and Axes will be returned. \n",
    "To create some plot we apply [`.map()`](https://seaborn.pydata.org/generated/seaborn.FacetGrid.map.html) on a FacetGrid, where we specify plotting function and variables we want to plot."
   ]
  },
  {
   "cell_type": "code",
   "execution_count": 0,
   "metadata": {
    "application/vnd.databricks.v1+cell": {
     "cellMetadata": {
      "byteLimit": 2048000,
      "rowLimit": 10000
     },
     "inputWidgets": {},
     "nuid": "7b5bf77d-0592-4868-9b85-b546652fea01",
     "showTitle": false,
     "title": ""
    }
   },
   "outputs": [],
   "source": [
    "# Initializing a FacetGrid object and col parameter\n",
    "\n",
    "g = sns.FacetGrid(penguins, \n",
    "                  col = 'species',\n",
    "                  height = 4,\n",
    "                  aspect = 1)\n",
    "# Mapping plotting function and defining a variable\n",
    "g.map(sns.histplot, 'body_mass_g');"
   ]
  },
  {
   "cell_type": "markdown",
   "metadata": {
    "application/vnd.databricks.v1+cell": {
     "cellMetadata": {},
     "inputWidgets": {},
     "nuid": "5d43b6d9-b0d6-48a5-9558-567e48536ff8",
     "showTitle": false,
     "title": ""
    }
   },
   "source": [
    "Let's add the third variable using `row` parameter. We want to see the distribution of body mass also based on species gender."
   ]
  },
  {
   "cell_type": "code",
   "execution_count": 0,
   "metadata": {
    "application/vnd.databricks.v1+cell": {
     "cellMetadata": {
      "byteLimit": 2048000,
      "rowLimit": 10000
     },
     "inputWidgets": {},
     "nuid": "233e9c17-3548-4fae-9508-8c2d7f0f3e7a",
     "showTitle": false,
     "title": ""
    }
   },
   "outputs": [],
   "source": [
    "# Initializing a FacetGrid object and col and row parameters\n",
    "\n",
    "g = sns.FacetGrid(penguins, \n",
    "                  col = 'species', \n",
    "                  row = 'sex')\n",
    "# Mapping plotting function and defining variable\n",
    "g.map(sns.histplot, 'body_mass_g', color = 'paleturquoise');"
   ]
  },
  {
   "cell_type": "markdown",
   "metadata": {
    "application/vnd.databricks.v1+cell": {
     "cellMetadata": {},
     "inputWidgets": {},
     "nuid": "e6c348d0-a03b-401b-8aec-748086eb3c5e",
     "showTitle": false,
     "title": ""
    }
   },
   "source": [
    "To visualize a relationship between 2 numerical variables we just add the names of the particular features. Let's visualize a relationship between body mass and the flipper length based on species. We also add the 'sex' variable encoded using color."
   ]
  },
  {
   "cell_type": "code",
   "execution_count": 0,
   "metadata": {
    "application/vnd.databricks.v1+cell": {
     "cellMetadata": {
      "byteLimit": 2048000,
      "rowLimit": 10000
     },
     "inputWidgets": {},
     "nuid": "e2b5d75c-b2f0-49a0-8032-574c629a541a",
     "showTitle": false,
     "title": ""
    }
   },
   "outputs": [],
   "source": [
    "# Initializing a FacetGrid object and col parameter\n",
    "\n",
    "g = sns.FacetGrid(data = penguins, \n",
    "                  col = 'species', \n",
    "                  hue = 'sex',\n",
    "                  height = 4,\n",
    "                  aspect = 1, \n",
    "                  palette = 'Accent')\n",
    "# Mapping plotting function and defining variable\n",
    "g.map(sns.scatterplot, 'body_mass_g', 'flipper_length_mm')\n",
    "# Setting x.axis and y-axis labels\n",
    "g.set_axis_labels('Body mass (g)', 'The flipper length (mm)')\n",
    "# Displaying the legend\n",
    "g.add_legend();"
   ]
  },
  {
   "cell_type": "markdown",
   "metadata": {
    "application/vnd.databricks.v1+cell": {
     "cellMetadata": {},
     "inputWidgets": {},
     "nuid": "469c1085-20e8-40f5-aa94-3657e3df6b36",
     "showTitle": false,
     "title": ""
    }
   },
   "source": [
    "# 3. PairGrid\n",
    "\n",
    "Pairwise relationships of variables can be visualized using PairGrid. The initialization of a PairGrid results in a subplot grid with multiple Axes. Then we can call Axes-level plotting functions to draw plots in the upper and lower triangles and the marginal distribution of variables can be drawn along the diagonal. Creation of a PairGrid and a FacetGrid is similar, but the main difference is that using a FacetGrid you are allowed to use only one specific plotting function that is applied on each subplot. \n",
    "\n",
    "## 3.1 Customizations of a PairGrid\n",
    "\n",
    "You can customize a PairGrid output in several ways, all of which are described in the [documentation](https://seaborn.pydata.org/generated/seaborn.PairGrid.html#seaborn.PairGrid).\n",
    "\n",
    "Since the upper and lower triangles have mirrored plots you can specify different plotting functions using \n",
    "[`map_upper()`](https://seaborn.pydata.org/generated/seaborn.PairGrid.map_upper.html) or \n",
    "[`map_lower()`](https://seaborn.pydata.org/generated/seaborn.PairGrid.map_lower.html). \n",
    "There are also possibilities to encode the third variable in plots other than through color.  \n",
    "\n",
    "Similar result can be accomplished using a high-level interface \n",
    "[`pairplot()`](https://seaborn.pydata.org/generated/seaborn.pairplot.html). \n",
    "However, if you want to have more control of subplot grid, use a PairGrid."
   ]
  },
  {
   "cell_type": "code",
   "execution_count": 0,
   "metadata": {
    "application/vnd.databricks.v1+cell": {
     "cellMetadata": {
      "byteLimit": 2048000,
      "rowLimit": 10000
     },
     "inputWidgets": {},
     "nuid": "a599439e-e366-4bd5-82ee-8c3bb3d6c321",
     "showTitle": false,
     "title": ""
    }
   },
   "outputs": [],
   "source": [
    "# Defining colors for categories\n",
    "palette = ['cornflowerblue','lightgreen','gold']\n",
    "\n",
    "# Setting a palette\n",
    "sns.set_palette(sns.color_palette(palette))"
   ]
  },
  {
   "cell_type": "code",
   "execution_count": 0,
   "metadata": {
    "application/vnd.databricks.v1+cell": {
     "cellMetadata": {
      "byteLimit": 2048000,
      "rowLimit": 10000
     },
     "inputWidgets": {},
     "nuid": "45f3bd37-fb93-4d6f-800a-578d8e1520b9",
     "showTitle": false,
     "title": ""
    }
   },
   "outputs": [],
   "source": [
    "# Initializing a PairGrid object\n",
    "g_grid = sns.PairGrid(penguins, hue = 'species')\n",
    "\n",
    "# Plotting univariate plot on diagonal subplots\n",
    "g_grid.map_diag(sns.kdeplot, fill = True)\n",
    "\n",
    "# Plotting relational plot on the off-diagonal subplots\n",
    "g_grid.map_offdiag(sns.scatterplot)\n",
    "g_grid.add_legend();"
   ]
  },
  {
   "cell_type": "markdown",
   "metadata": {
    "application/vnd.databricks.v1+cell": {
     "cellMetadata": {},
     "inputWidgets": {},
     "nuid": "5b9e5eb2-0c61-4f17-a96e-d451d30de857",
     "showTitle": false,
     "title": ""
    }
   },
   "source": [
    "# Task for you"
   ]
  },
  {
   "cell_type": "code",
   "execution_count": 0,
   "metadata": {
    "application/vnd.databricks.v1+cell": {
     "cellMetadata": {
      "byteLimit": 2048000,
      "rowLimit": 10000
     },
     "inputWidgets": {},
     "nuid": "b33005ac-fef4-45eb-ad48-ae107f1002d6",
     "showTitle": false,
     "title": ""
    }
   },
   "outputs": [],
   "source": [
    "# TASK >>> How do the bill length and bill depth relate to each other based on penguin species ? "
   ]
  },
  {
   "cell_type": "markdown",
   "metadata": {
    "application/vnd.databricks.v1+cell": {
     "cellMetadata": {},
     "inputWidgets": {},
     "nuid": "dca0c2c2-96b1-4788-b974-c8357de830d6",
     "showTitle": false,
     "title": ""
    }
   },
   "source": [
    "Some material adapted for RBI internal purposes with full permissions from original authors. [Source](https://github.com/zatkopatrik/authentic-data-science)"
   ]
  }
 ],
 "metadata": {
  "application/vnd.databricks.v1+notebook": {
   "dashboards": [],
   "language": "python",
   "notebookMetadata": {
    "pythonIndentUnit": 4
   },
   "notebookName": "5_Multivariate_visualizations_with_Seaborn_jupyter",
   "widgets": {}
  }
 },
 "nbformat": 4,
 "nbformat_minor": 0
}
