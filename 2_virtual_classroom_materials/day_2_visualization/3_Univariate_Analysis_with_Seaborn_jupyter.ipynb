{
 "cells": [
  {
   "cell_type": "markdown",
   "metadata": {
    "application/vnd.databricks.v1+cell": {
     "cellMetadata": {
      "byteLimit": 2048000,
      "rowLimit": 10000
     },
     "inputWidgets": {},
     "nuid": "71640502-603f-407a-ad08-5a75efd08437",
     "showTitle": false,
     "title": ""
    }
   },
   "source": [
    "# Univariate Analysis with Seaborn\n",
    "\n",
    "You are presumably wondering: \"Yeah, Matplotlib is great, it allows me to customize everything I want. But is there any other visualization library which is able to conjure up a good-looking graph with less code? \n",
    "\n",
    "In fact, there are many visualization libraries for Python. We will explore **Seaborn**, which is built on top of the Matplotlib.\n",
    "\n",
    "The strength of Seaborn is the ability to create attractive, aesthetically pleasing plots integrating **Pandas DataFrame**s functionalities. So far, in order to create plots we always needed to 'extract' a Series of the DataFrame and then we were able to apply some plotting function. Seaborn, on the other hand, operates on the whole dataset, intelligently using labels of the `DataFrame` and internally performing the necessary steps. Seaborn makes creating visualizations very easy and intuitive by using high-level functions."
   ]
  },
  {
   "cell_type": "markdown",
   "metadata": {
    "application/vnd.databricks.v1+cell": {
     "cellMetadata": {
      "byteLimit": 2048000,
      "rowLimit": 10000
     },
     "inputWidgets": {},
     "nuid": "c07244b5-3e78-4a58-b3fe-db59bec9965f",
     "showTitle": false,
     "title": ""
    }
   },
   "source": [
    "### [Figure-level vs. axes-level functions](https://seaborn.pydata.org/tutorial/function_overview.html)  \n",
    "\n",
    "There is a cross-cutting classification of seaborn functions as “axes-level” or “figure-level”. \n",
    "+ **Axes-level** functions plot data onto a single matplotlib.pyplot.Axes object, which is the return value of the function.\n",
    "+ **Figure-level** functions interface with matplotlib through a seaborn object, usually a FacetGrid, that manages the figure. Each module has a single figure-level function, which offers a unitary interface to its various axes-level functions."
   ]
  },
  {
   "cell_type": "markdown",
   "metadata": {
    "application/vnd.databricks.v1+cell": {
     "cellMetadata": {
      "byteLimit": 2048000,
      "rowLimit": 10000
     },
     "inputWidgets": {},
     "nuid": "30cc1faf-0ddd-4476-9d2a-5e3b24bd1e75",
     "showTitle": false,
     "title": ""
    }
   },
   "source": [
    "# 1. Importing Seaborn library and loading the data\n",
    "\n",
    "Firstly, we import the Seaborn library and give it conventional alias `sns`. The abbreviation is derived from Samuel Norman \"Sam\" Seaborn, a fictional character portrayed by Rob Lowe in the television serial drama _The West Wing_."
   ]
  },
  {
   "cell_type": "code",
   "execution_count": 0,
   "metadata": {
    "application/vnd.databricks.v1+cell": {
     "cellMetadata": {
      "byteLimit": 2048000,
      "rowLimit": 10000
     },
     "inputWidgets": {},
     "nuid": "2b3fdbe7-7445-4070-b432-a06ddc6988b2",
     "showTitle": false,
     "title": ""
    }
   },
   "outputs": [
    {
     "output_type": "display_data",
     "data": {
      "application/vnd.databricks.v1+bamboolib_hint": "{\"pd.DataFrames\": [], \"version\": \"0.0.1\"}",
      "text/plain": []
     },
     "metadata": {},
     "output_type": "display_data"
    }
   ],
   "source": [
    "# Importing Seaborn library\n",
    "import pandas as pd\n",
    "import seaborn as sns\n",
    "import matplotlib.pyplot as plt"
   ]
  },
  {
   "cell_type": "markdown",
   "metadata": {
    "application/vnd.databricks.v1+cell": {
     "cellMetadata": {
      "byteLimit": 2048000,
      "rowLimit": 10000
     },
     "inputWidgets": {},
     "nuid": "995221ed-e625-46a6-a31a-03d7350e8a8d",
     "showTitle": false,
     "title": ""
    }
   },
   "source": [
    "There are 18 example datasets provided by Seaborn. After completing this notebook, you can choose a few of them that seem interesting to you and and try to apply your gained knowledge about visualization using Seaborn. \n",
    "\n",
    "To get a list of available datasets you can use `get_dataset_names()` function."
   ]
  },
  {
   "cell_type": "code",
   "execution_count": 0,
   "metadata": {
    "application/vnd.databricks.v1+cell": {
     "cellMetadata": {
      "byteLimit": 2048000,
      "rowLimit": 10000
     },
     "inputWidgets": {},
     "nuid": "88f1bbf9-28f6-42f1-9f5c-b177caf139a8",
     "showTitle": false,
     "title": ""
    }
   },
   "outputs": [],
   "source": [
    "# Print available example datasets\n",
    "# This is blocked by security.\n",
    "# sns.get_dataset_names()"
   ]
  },
  {
   "cell_type": "markdown",
   "metadata": {
    "application/vnd.databricks.v1+cell": {
     "cellMetadata": {
      "byteLimit": 2048000,
      "rowLimit": 10000
     },
     "inputWidgets": {},
     "nuid": "775fc6ff-217a-4035-9293-d5a5c1f201c3",
     "showTitle": false,
     "title": ""
    }
   },
   "source": [
    "## 1.1 Setting the theme\n",
    "\n",
    "Firstly, we discuss how you can control the **aesthetic of a figure** in other words, choose the **theme** based on your needs and preferences. It always depends on whether you are exploring the data for yourself or you want to communicate your insights to an audience. During your exploratory part, your visualizations do not need to be perfect and polished as long as they serve the purpose of revealing necessary and useful insight. \n",
    "\n",
    "But if your visualization will be presented to others, it is appropriate to take care of the plot's appearance in order to make it appealing and catching the attention. This is true also in the case of a theme. \n",
    "\n",
    "There are 5 predefined themes ('darkgrid' is by default):\n",
    "\n",
    "- darkgrid\n",
    "- whitegrid\n",
    "- dark\n",
    "- white\n",
    "- ticks\n",
    "\n",
    "To set a specific theme use `set_style('ticks')` with the chosen theme as the argument. Take a look at the documentation [here](https://seaborn.pydata.org/tutorial/aesthetics.html) for more information."
   ]
  },
  {
   "cell_type": "code",
   "execution_count": 0,
   "metadata": {
    "application/vnd.databricks.v1+cell": {
     "cellMetadata": {
      "byteLimit": 2048000,
      "rowLimit": 10000
     },
     "inputWidgets": {},
     "nuid": "4f7e2f0c-c6ed-4b4e-bfb6-9276e35d8a79",
     "showTitle": false,
     "title": ""
    }
   },
   "outputs": [],
   "source": [
    "# Setting style\n",
    "sns.set_style('dark')"
   ]
  },
  {
   "cell_type": "markdown",
   "metadata": {
    "application/vnd.databricks.v1+cell": {
     "cellMetadata": {
      "byteLimit": 2048000,
      "rowLimit": 10000
     },
     "inputWidgets": {},
     "nuid": "dffca276-f250-496e-a43d-adb74bc20c68",
     "showTitle": false,
     "title": ""
    }
   },
   "source": [
    "# 2. Loading dataset\n",
    "\n",
    "We will go with the 'penguins' dataset that can be loaded using `load_dataset()` function which returns a Pandas DataFrame.\n",
    "\n",
    "This dataset consists of 7 attributes and 344 observations about penguins from islands in the Palmer Archipelago in Antarctica.\n",
    "\n",
    "**Attributes explanation**\n",
    "- species: species of a penguin (Adelie, Gentoo and Chinstrap)\n",
    "- island: the name of an island (Biscoe, Dream, Torgersen)\n",
    "- bill_length_mm: the length of the bill (in mm)\n",
    "- bill_depth_mm: the depth of the bill (in mm)\n",
    "- flipper_length_mm: the length of the flipper (in mm)\n",
    "- body_mass_g: body mass (in grams)\n",
    "- sex: the sex of a penguin"
   ]
  },
  {
   "cell_type": "code",
   "execution_count": 0,
   "metadata": {
    "application/vnd.databricks.v1+cell": {
     "cellMetadata": {
      "byteLimit": 2048000,
      "rowLimit": 10000
     },
     "inputWidgets": {},
     "nuid": "45d89c93-8c23-4d0d-a41d-c239313ecd5d",
     "showTitle": false,
     "title": ""
    }
   },
   "outputs": [],
   "source": [
    "# Load the data\n",
    "penguins = pd.read_csv('Data/penguins.csv')"
   ]
  },
  {
   "cell_type": "code",
   "execution_count": 0,
   "metadata": {
    "application/vnd.databricks.v1+cell": {
     "cellMetadata": {
      "byteLimit": 2048000,
      "rowLimit": 10000
     },
     "inputWidgets": {},
     "nuid": "47b37213-ea5f-4b32-8c85-1c2e7846244e",
     "showTitle": false,
     "title": ""
    }
   },
   "outputs": [
    {
     "output_type": "display_data",
     "data": {
      "text/html": [
       "<div>\n",
       "<style scoped>\n",
       "    .dataframe tbody tr th:only-of-type {\n",
       "        vertical-align: middle;\n",
       "    }\n",
       "\n",
       "    .dataframe tbody tr th {\n",
       "        vertical-align: top;\n",
       "    }\n",
       "\n",
       "    .dataframe thead th {\n",
       "        text-align: right;\n",
       "    }\n",
       "</style>\n",
       "<table border=\"1\" class=\"dataframe\">\n",
       "  <thead>\n",
       "    <tr style=\"text-align: right;\">\n",
       "      <th></th>\n",
       "      <th>species</th>\n",
       "      <th>island</th>\n",
       "      <th>bill_length_mm</th>\n",
       "      <th>bill_depth_mm</th>\n",
       "      <th>flipper_length_mm</th>\n",
       "      <th>body_mass_g</th>\n",
       "      <th>sex</th>\n",
       "    </tr>\n",
       "  </thead>\n",
       "  <tbody>\n",
       "    <tr>\n",
       "      <th>0</th>\n",
       "      <td>Adelie</td>\n",
       "      <td>Torgersen</td>\n",
       "      <td>39.1</td>\n",
       "      <td>18.7</td>\n",
       "      <td>181.0</td>\n",
       "      <td>3750.0</td>\n",
       "      <td>MALE</td>\n",
       "    </tr>\n",
       "    <tr>\n",
       "      <th>1</th>\n",
       "      <td>Adelie</td>\n",
       "      <td>Torgersen</td>\n",
       "      <td>39.5</td>\n",
       "      <td>17.4</td>\n",
       "      <td>186.0</td>\n",
       "      <td>3800.0</td>\n",
       "      <td>FEMALE</td>\n",
       "    </tr>\n",
       "    <tr>\n",
       "      <th>2</th>\n",
       "      <td>Adelie</td>\n",
       "      <td>Torgersen</td>\n",
       "      <td>40.3</td>\n",
       "      <td>18.0</td>\n",
       "      <td>195.0</td>\n",
       "      <td>3250.0</td>\n",
       "      <td>FEMALE</td>\n",
       "    </tr>\n",
       "    <tr>\n",
       "      <th>3</th>\n",
       "      <td>Adelie</td>\n",
       "      <td>Torgersen</td>\n",
       "      <td>NaN</td>\n",
       "      <td>NaN</td>\n",
       "      <td>NaN</td>\n",
       "      <td>NaN</td>\n",
       "      <td>NaN</td>\n",
       "    </tr>\n",
       "    <tr>\n",
       "      <th>4</th>\n",
       "      <td>Adelie</td>\n",
       "      <td>Torgersen</td>\n",
       "      <td>36.7</td>\n",
       "      <td>19.3</td>\n",
       "      <td>193.0</td>\n",
       "      <td>3450.0</td>\n",
       "      <td>FEMALE</td>\n",
       "    </tr>\n",
       "  </tbody>\n",
       "</table>\n",
       "</div>"
      ]
     },
     "metadata": {
      "application/vnd.databricks.v1+output": {
       "addedWidgets": {},
       "arguments": {},
       "data": "<div>\n<style scoped>\n    .dataframe tbody tr th:only-of-type {\n        vertical-align: middle;\n    }\n\n    .dataframe tbody tr th {\n        vertical-align: top;\n    }\n\n    .dataframe thead th {\n        text-align: right;\n    }\n</style>\n<table border=\"1\" class=\"dataframe\">\n  <thead>\n    <tr style=\"text-align: right;\">\n      <th></th>\n      <th>species</th>\n      <th>island</th>\n      <th>bill_length_mm</th>\n      <th>bill_depth_mm</th>\n      <th>flipper_length_mm</th>\n      <th>body_mass_g</th>\n      <th>sex</th>\n    </tr>\n  </thead>\n  <tbody>\n    <tr>\n      <th>0</th>\n      <td>Adelie</td>\n      <td>Torgersen</td>\n      <td>39.1</td>\n      <td>18.7</td>\n      <td>181.0</td>\n      <td>3750.0</td>\n      <td>MALE</td>\n    </tr>\n    <tr>\n      <th>1</th>\n      <td>Adelie</td>\n      <td>Torgersen</td>\n      <td>39.5</td>\n      <td>17.4</td>\n      <td>186.0</td>\n      <td>3800.0</td>\n      <td>FEMALE</td>\n    </tr>\n    <tr>\n      <th>2</th>\n      <td>Adelie</td>\n      <td>Torgersen</td>\n      <td>40.3</td>\n      <td>18.0</td>\n      <td>195.0</td>\n      <td>3250.0</td>\n      <td>FEMALE</td>\n    </tr>\n    <tr>\n      <th>3</th>\n      <td>Adelie</td>\n      <td>Torgersen</td>\n      <td>NaN</td>\n      <td>NaN</td>\n      <td>NaN</td>\n      <td>NaN</td>\n      <td>NaN</td>\n    </tr>\n    <tr>\n      <th>4</th>\n      <td>Adelie</td>\n      <td>Torgersen</td>\n      <td>36.7</td>\n      <td>19.3</td>\n      <td>193.0</td>\n      <td>3450.0</td>\n      <td>FEMALE</td>\n    </tr>\n  </tbody>\n</table>\n</div>",
       "datasetInfos": [],
       "metadata": {},
       "removedWidgets": [],
       "textData": null,
       "type": "htmlSandbox"
      }
     },
     "output_type": "display_data"
    }
   ],
   "source": [
    "# Take a look at the first 5 rows\n",
    "penguins.head()"
   ]
  },
  {
   "cell_type": "code",
   "execution_count": 0,
   "metadata": {
    "application/vnd.databricks.v1+cell": {
     "cellMetadata": {
      "byteLimit": 2048000,
      "rowLimit": 10000
     },
     "inputWidgets": {},
     "nuid": "9b8c7d3a-f976-4736-aea9-db230e53bc86",
     "showTitle": false,
     "title": ""
    }
   },
   "outputs": [
    {
     "output_type": "display_data",
     "data": {
      "text/html": [
       "<div>\n",
       "<style scoped>\n",
       "    .dataframe tbody tr th:only-of-type {\n",
       "        vertical-align: middle;\n",
       "    }\n",
       "\n",
       "    .dataframe tbody tr th {\n",
       "        vertical-align: top;\n",
       "    }\n",
       "\n",
       "    .dataframe thead th {\n",
       "        text-align: right;\n",
       "    }\n",
       "</style>\n",
       "<table border=\"1\" class=\"dataframe\">\n",
       "  <thead>\n",
       "    <tr style=\"text-align: right;\">\n",
       "      <th></th>\n",
       "      <th>bill_length_mm</th>\n",
       "      <th>bill_depth_mm</th>\n",
       "      <th>flipper_length_mm</th>\n",
       "      <th>body_mass_g</th>\n",
       "    </tr>\n",
       "  </thead>\n",
       "  <tbody>\n",
       "    <tr>\n",
       "      <th>count</th>\n",
       "      <td>342.000000</td>\n",
       "      <td>342.000000</td>\n",
       "      <td>342.000000</td>\n",
       "      <td>342.000000</td>\n",
       "    </tr>\n",
       "    <tr>\n",
       "      <th>mean</th>\n",
       "      <td>43.921930</td>\n",
       "      <td>17.151170</td>\n",
       "      <td>200.915205</td>\n",
       "      <td>4201.754386</td>\n",
       "    </tr>\n",
       "    <tr>\n",
       "      <th>std</th>\n",
       "      <td>5.459584</td>\n",
       "      <td>1.974793</td>\n",
       "      <td>14.061714</td>\n",
       "      <td>801.954536</td>\n",
       "    </tr>\n",
       "    <tr>\n",
       "      <th>min</th>\n",
       "      <td>32.100000</td>\n",
       "      <td>13.100000</td>\n",
       "      <td>172.000000</td>\n",
       "      <td>2700.000000</td>\n",
       "    </tr>\n",
       "    <tr>\n",
       "      <th>25%</th>\n",
       "      <td>39.225000</td>\n",
       "      <td>15.600000</td>\n",
       "      <td>190.000000</td>\n",
       "      <td>3550.000000</td>\n",
       "    </tr>\n",
       "    <tr>\n",
       "      <th>50%</th>\n",
       "      <td>44.450000</td>\n",
       "      <td>17.300000</td>\n",
       "      <td>197.000000</td>\n",
       "      <td>4050.000000</td>\n",
       "    </tr>\n",
       "    <tr>\n",
       "      <th>75%</th>\n",
       "      <td>48.500000</td>\n",
       "      <td>18.700000</td>\n",
       "      <td>213.000000</td>\n",
       "      <td>4750.000000</td>\n",
       "    </tr>\n",
       "    <tr>\n",
       "      <th>max</th>\n",
       "      <td>59.600000</td>\n",
       "      <td>21.500000</td>\n",
       "      <td>231.000000</td>\n",
       "      <td>6300.000000</td>\n",
       "    </tr>\n",
       "  </tbody>\n",
       "</table>\n",
       "</div>"
      ]
     },
     "metadata": {
      "application/vnd.databricks.v1+output": {
       "addedWidgets": {},
       "arguments": {},
       "data": "<div>\n<style scoped>\n    .dataframe tbody tr th:only-of-type {\n        vertical-align: middle;\n    }\n\n    .dataframe tbody tr th {\n        vertical-align: top;\n    }\n\n    .dataframe thead th {\n        text-align: right;\n    }\n</style>\n<table border=\"1\" class=\"dataframe\">\n  <thead>\n    <tr style=\"text-align: right;\">\n      <th></th>\n      <th>bill_length_mm</th>\n      <th>bill_depth_mm</th>\n      <th>flipper_length_mm</th>\n      <th>body_mass_g</th>\n    </tr>\n  </thead>\n  <tbody>\n    <tr>\n      <th>count</th>\n      <td>342.000000</td>\n      <td>342.000000</td>\n      <td>342.000000</td>\n      <td>342.000000</td>\n    </tr>\n    <tr>\n      <th>mean</th>\n      <td>43.921930</td>\n      <td>17.151170</td>\n      <td>200.915205</td>\n      <td>4201.754386</td>\n    </tr>\n    <tr>\n      <th>std</th>\n      <td>5.459584</td>\n      <td>1.974793</td>\n      <td>14.061714</td>\n      <td>801.954536</td>\n    </tr>\n    <tr>\n      <th>min</th>\n      <td>32.100000</td>\n      <td>13.100000</td>\n      <td>172.000000</td>\n      <td>2700.000000</td>\n    </tr>\n    <tr>\n      <th>25%</th>\n      <td>39.225000</td>\n      <td>15.600000</td>\n      <td>190.000000</td>\n      <td>3550.000000</td>\n    </tr>\n    <tr>\n      <th>50%</th>\n      <td>44.450000</td>\n      <td>17.300000</td>\n      <td>197.000000</td>\n      <td>4050.000000</td>\n    </tr>\n    <tr>\n      <th>75%</th>\n      <td>48.500000</td>\n      <td>18.700000</td>\n      <td>213.000000</td>\n      <td>4750.000000</td>\n    </tr>\n    <tr>\n      <th>max</th>\n      <td>59.600000</td>\n      <td>21.500000</td>\n      <td>231.000000</td>\n      <td>6300.000000</td>\n    </tr>\n  </tbody>\n</table>\n</div>",
       "datasetInfos": [],
       "metadata": {},
       "removedWidgets": [],
       "textData": null,
       "type": "htmlSandbox"
      }
     },
     "output_type": "display_data"
    }
   ],
   "source": [
    "# Explore statistics information about the data\n",
    "penguins.describe()"
   ]
  },
  {
   "cell_type": "code",
   "execution_count": 0,
   "metadata": {
    "application/vnd.databricks.v1+cell": {
     "cellMetadata": {
      "byteLimit": 2048000,
      "rowLimit": 10000
     },
     "inputWidgets": {},
     "nuid": "cd196461-d133-4e42-8307-25a315a1272b",
     "showTitle": false,
     "title": ""
    }
   },
   "outputs": [
    {
     "output_type": "stream",
     "name": "stdout",
     "output_type": "stream",
     "text": [
      "Out[7]: species               0\nisland                0\nbill_length_mm        2\nbill_depth_mm         2\nflipper_length_mm     2\nbody_mass_g           2\nsex                  11\ndtype: int64"
     ]
    }
   ],
   "source": [
    "# Explore whether there are some missing values\n",
    "penguins.isnull().sum()"
   ]
  },
  {
   "cell_type": "code",
   "execution_count": 0,
   "metadata": {
    "application/vnd.databricks.v1+cell": {
     "cellMetadata": {
      "byteLimit": 2048000,
      "rowLimit": 10000
     },
     "inputWidgets": {},
     "nuid": "83f13083-5595-42fc-a85e-2b6f6d3009bc",
     "showTitle": false,
     "title": ""
    }
   },
   "outputs": [],
   "source": [
    "# Dropping missing values\n",
    "penguins.dropna(inplace = True)"
   ]
  },
  {
   "cell_type": "code",
   "execution_count": 0,
   "metadata": {
    "application/vnd.databricks.v1+cell": {
     "cellMetadata": {
      "byteLimit": 2048000,
      "rowLimit": 10000
     },
     "inputWidgets": {},
     "nuid": "2996dcbb-c8dd-401d-820c-8d5dd12458b1",
     "showTitle": false,
     "title": ""
    }
   },
   "outputs": [
    {
     "output_type": "stream",
     "name": "stdout",
     "output_type": "stream",
     "text": [
      "Out[9]: 0"
     ]
    }
   ],
   "source": [
    "# Checking for duplicated data\n",
    "penguins.duplicated().sum()"
   ]
  },
  {
   "cell_type": "markdown",
   "metadata": {
    "application/vnd.databricks.v1+cell": {
     "cellMetadata": {
      "byteLimit": 2048000,
      "rowLimit": 10000
     },
     "inputWidgets": {},
     "nuid": "60897a78-9de0-4f2e-95f2-62bf25673b5f",
     "showTitle": false,
     "title": ""
    }
   },
   "source": [
    "# 3. Numerical variables"
   ]
  },
  {
   "cell_type": "markdown",
   "metadata": {
    "application/vnd.databricks.v1+cell": {
     "cellMetadata": {
      "byteLimit": 2048000,
      "rowLimit": 10000
     },
     "inputWidgets": {},
     "nuid": "799ed26b-da14-49a1-b40d-81c467576af3",
     "showTitle": false,
     "title": ""
    }
   },
   "source": [
    "## 3.1 Histogram\n",
    "\n",
    "We'll look at the distribution of our data using the `displot()` function where we specify parameters such as `data` and `x` that define a position on the x-axis. `displot()` is a Figure-level method and the size of the output can be changed using the parameters `height` and `aspect`. In case of Axes-level functions, the size can be controlled with `plt.figure(figsize = (Width, height in inches))`. You can find all necessary information in Seaborn's documentation.\n",
    "\n",
    "This function uses the same underlying code as `histplot()` function. Moreover it provides different approaches for visualizing the distribution. The histogram will be drawn by default. But we can choose a particular approach with the `kind` parameter:  \n",
    "`kind = 'hist'`   \n",
    "`kind = 'kde'`  \n",
    "`kind = 'ecdf'`  \n",
    "\n",
    "All of these approaches to visualize distributions have their very own function in the _distribution module_ and belong to the _distribution plots category_. We'll discuss all approaches later on. \n",
    "\n",
    "Now let's see how we can display the distribution of the length of penguins' bills. Seaborn's function `displot()` returns a Matplotlib's FacetGrid object. Assign the resulting object to the `ax` variable to be able add things such as title or axes labels.\n",
    "\n",
    "Another way is to use `plt.title()`, `plt.xlabel()` and `plt.ylabel()`."
   ]
  },
  {
   "cell_type": "code",
   "execution_count": 0,
   "metadata": {
    "application/vnd.databricks.v1+cell": {
     "cellMetadata": {
      "byteLimit": 2048000,
      "rowLimit": 10000
     },
     "inputWidgets": {},
     "nuid": "7d287031-a155-4b47-ae86-f1ffcc228f32",
     "showTitle": false,
     "title": ""
    }
   },
   "outputs": [
    {
     "output_type": "display_data",
     "data": {
      "image/png": "[encoded data removed]"
     },
     "metadata": {
      "application/vnd.databricks.v1+output": {
       "addedWidgets": {},
       "arguments": {},
       "data": "data:image/png;base64,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\n",
       "datasetInfos": [],
       "metadata": {},
       "removedWidgets": [],
       "type": "image"
      }
     },
     "output_type": "display_data"
    }
   ],
   "source": [
    "# Create a histogram of 'bill_length_mm'\n",
    "ax = sns.displot(data = penguins, \n",
    "                 x = 'bill_length_mm',\n",
    "                 height = 6.5,\n",
    "                 aspect = 1.3);\n",
    "\n",
    "# Setting a title\n",
    "ax.set(title = 'The distribution of bill length');"
   ]
  },
  {
   "cell_type": "markdown",
   "metadata": {
    "application/vnd.databricks.v1+cell": {
     "cellMetadata": {
      "byteLimit": 2048000,
      "rowLimit": 10000
     },
     "inputWidgets": {},
     "nuid": "dd39ec2b-d615-4a47-9b38-5d24a44a13ff",
     "showTitle": false,
     "title": ""
    }
   },
   "source": [
    "As you can see, Seaborn automatically annotates labels according to defined parameters. We can see from the plot that the most common bill length is about 45 mm. There are very few penguins that have bill length less than 10 mm. \n",
    "\n",
    "As we have already learned, it is always appropriate to experiment and try different numbers of bins as well as change the size of bins. By default, `displot()` and `histplot()` plotting functions determine the size of the bins based on the number of observations and the variance. \n",
    "\n",
    "If you want to zoom in into the particular area of a histogram, you can do so by limiting the axis using Matplotlib's `xlim` (alteratively `ylim`). The options are:\n",
    "\n",
    "- `plt.xlim(left, right)` - setting values for the left and the right limit\n",
    "- `plt.xlim(left)` - setting a value only for left limit\n",
    "- `plt.xlim(right)` - setting a value only for right limit"
   ]
  },
  {
   "cell_type": "code",
   "execution_count": 0,
   "metadata": {
    "application/vnd.databricks.v1+cell": {
     "cellMetadata": {
      "byteLimit": 2048000,
      "rowLimit": 10000
     },
     "inputWidgets": {},
     "nuid": "b0d1ee73-e0ab-4aa4-9740-5d1ac71aeb2d",
     "showTitle": false,
     "title": ""
    }
   },
   "outputs": [
    {
     "output_type": "display_data",
     "data": {
      "image/png": "[encoded data removed]"
     },
     "metadata": {
      "application/vnd.databricks.v1+output": {
       "addedWidgets": {},
       "arguments": {},
       "data": "data:image/png;base64,iVBORw0KGgoAAAANSUhEUgAAAWcAAAFgCAYAAABnvbg1AAAAOXRFWHRTb2Z0d2FyZQBNYXRwbG90bGliIHZlcnNpb24zLjQuMywgaHR0cHM6Ly9tYXRwbG90bGliLm9yZy/MnkTPAAAACXBIWXMAAAsTAAALEwEAmpwYAAAahklEQVR4nO3de3BU9cHG8Wc3MVYDARM3SUlj5SY6EWjrrfECJRgMBWQJpMXLDKQ4tB1aBCyUgGDBGoThkgpONaVacNACMWysCAKhlr5cRaHYAUop4JAILCzmAtEkuznvH6lbkSQE8Oz+Fr6fmc4km+zZx5T5spy9xGFZliUAgFGc4R4AADgfcQYAAxFnADAQcQYAAxFnADBQdLgHtEZdnV+VlZ+FewYAXBKXq+1FXyci7jk7HI5wTwCAkIqIOAPA1YY4A4CBiDMAGIg4A4CBiDMAGIg4A4CBiDMAGIg4A4CBiDMAGIg4A4CBbI1zVVWVxo4dq6ysLPXv31+7du1SRUWFcnNz1a9fP+Xm5qqystLOCQAQkWyN83PPPacHHnhAa9euVUlJiTp37qzCwkKlp6dr3bp1Sk9PV2FhoZ0TACAi2Rbn6upqvf/++xo2bJgkKSYmRnFxcSotLZXb7ZYkud1ubdiwwa4JABCxbHvL0LKyMsXHxysvL0/79+9XWlqapk6dKp/Pp8TEREmSy+WSz+ezawIARCzb7jn7/X7t3btXjzzyiDwej6677rrzTmE4HA7eDhQAmmBbnJOTk5WcnKyePXtKkrKysrR3714lJCTI6/VKkrxer+Lj4+2aAAARy7Y4u1wuJScn69ChQ5KkrVu3qnPnzsrIyJDH45EkeTwe9e3b164JABCxHJZlWXYdfN++fZo6darq6+uVmpqqWbNmqaGhQePGjdOxY8fUoUMHFRQUqH379i0ep74+oIqKGrtmAoCtLuXXVNka568LcQYQya7Y3yEIAFcb4gwABiLOAGAg4gwABiLOAGAg4gwABiLOAGAg4gwABiLOAGAg4gwABiLOAGAg4gwABiLOAGAg4gwABiLOAGAg4gwABiLOAGAg4gwABiLOAGAg4gwABiLOAGAg4gwABiLOAGAg4gwABiLOAGAg4gwABiLOAGAg4gwABiLOAGAg4gwABiLOAGAg4gwABiLOAGAg4gwABiLOAGAg4gwABiLOAGAg4gwABiLOAGCgaDsPnpGRodjYWDmdTkVFRam4uFgVFRUaP368ysvLlZKSooKCArVr187OGQAQcWy/57xkyRKVlJSouLhYklRYWKj09HStW7dO6enpKiwstHsCAESckJ/WKC0tldvtliS53W5t2LAh1BMAwHi2x3nUqFHKzs7W8uXLJUk+n0+JiYmSJJfLJZ/PZ/cEAIg4tp5zfuONN5SUlCSfz6fc3Fx16tTpnK87HA45HA47JwBARLL1nnNSUpIkKSEhQZmZmdqzZ48SEhLk9XolSV6vV/Hx8XZOAICIZFuca2pqdObMmeDHmzdvVteuXZWRkSGPxyNJ8ng86tu3r10TACBi2XZaw+fzacyYMZKkQCCggQMHqlevXurevbvGjRunoqIidejQQQUFBXZNAICI5bAsywr3iAuprw+ooqIm3DMA4JK4XG0v+jq8QhAADEScAcBAxBkADEScAcBAxBkADEScAcBAxBkADEScAcBAxBkADEScAcBAxBkADEScAcBAxBkADEScAcBAxBkADEScAcBAxBkADEScAcBAxBkADEScAcBAxBkADEScAcBAxBkADEScAcBAxBkADEScAcBAxBkADEScAcBAxBkADEScAcBAxBkADEScAcBAxBkADEScAcBAxBkADEScAcBAxBkADEScAcBAxBkADEScAcBAtsc5EAjI7Xbrpz/9qSTp6NGjysnJUWZmpsaNG6e6ujq7JwBAxLE9zkuXLlXnzp2Dn8+dO1cjR47U+vXrFRcXp6KiIrsnAEDEsTXOx48f13vvvadhw4ZJkizL0rZt2/TQQw9JkoYMGaLS0lI7JwBARLI1zvn5+Zo4caKczsab+fTTTxUXF6fo6GhJUnJysk6cOGHnBACISLbF+a9//avi4+N1++2323UTAHDFirbrwB9++KE2btyoTZs2qba2VmfOnNFzzz2nqqoq+f1+RUdH6/jx40pKSrJrAgBELNvuOT/11FPatGmTNm7cqPnz5+v73/++5s2bp3vuuUfvvvuuJGnVqlXKyMiwawIARKyQP8954sSJevXVV5WZmamKigrl5OSEegIAGM9hWZYV7hEXUl8fUEVFTbhnAMAlcbnaXvR1eIUgABiIOAOAgYgzABiIOAOAgYgzABiIOAOAgYgzABiIOAOAgYgzABiIOAOAgYgzABiIOAOAgYgzABiIOAOAgYgzABiIOAOAgYgzABiIOAOAgYgzABiIOAOAgYgzABiIOAOAgYgzABioVXH+4IMPWnUZAODr0ao4//a3v23VZQCAr0d0S1/ctWuXdu3apdOnT+vVV18NXn7mzBkFAgHbxwHA1arFONfX16umpkaBQEBnz54NXt6mTRu98MILto8DgKuVw7Is60LfVF5erpSUlFDsaVJ9fUAVFTVhu30AuBwuV9uLvk6L95y/UFdXp2nTpqm8vFx+vz94+dKlSy/6BgEAF9aqOD/55JMaPny4cnJy5HTy7DsAsFur4hwdHa1HH33U7i0AgP9q1d3gPn36aNmyZfJ6vaqoqAj+DwBgj1Y9IJiRkXH+FR0OlZaW2jLqq3hAEEAku5QHBFsV53AjzgAimW3P1vB4PE1e7na7L/oGAQAX1qo4f/TRR8GPa2trtXXrVqWlpRFnALBJq+I8bdq0cz6vqqrS+PHjbRkEALjEtwy97rrrVFZW9nVvAQD8V6vuOf/sZz8LftzQ0KD//Oc/6t+/v22jAOBq16pna+zYsSP4cVRUlFJSUpScnGzrsC/j2RoAIpltz9a4++67derUqeADgzfffPMFr1NbW6vHHntMdXV1CgQCeuihhzR27FgdPXpUEyZMUEVFhdLS0jRnzhzFxMRc9HAAuJK16pzzO++8o5ycHK1du1Zr1qwJftySmJgYLVmyRG+99ZY8Ho/+/ve/a/fu3Zo7d65Gjhyp9evXKy4uTkVFRV/LfwgAXEladc/5pZdeUlFRkRISEiRJp0+f1siRI5WVldXsdRwOh2JjYyVJfr9ffr9fDodD27Zt07x58yRJQ4YM0aJFi3jfDgD4ilbdc7YsKxhmSWrfvr1a88LCQCCgwYMH695779W9996r1NRUxcXFKTq68e+E5ORknThx4hKnA8CVq1X3nO+//36NGjVKAwYMkNR4mqNXr14XvF5UVJRKSkpUVVWlMWPG6NChQ5e3FgCuEi3G+eOPP9apU6f061//WuvWrQv+xu3vfOc7evjhh1t9I3Fxcbrnnnu0e/duVVVVye/3Kzo6WsePH1dSUtLl/RcAwBWoxdMa+fn5atOmjSSpX79+ysvLU15enjIzM5Wfn9/igU+fPq2qqipJ0ueff64tW7aoc+fOuueee/Tuu+9KklatWtXkO94BwNWuxXvOp06dUrdu3c67vFu3biovL2/xwF6vV5MnT1YgEJBlWcrKylKfPn3UpUsXjR8/XgUFBbrtttuUk5Nzef8FAHAFajHO1dXVzX7t888/b/HAt956a5PvZpeamsrT5wDgAlo8rXH77bdrxYoV512+cuVKpaWl2TYKAK52Lb58+9SpU/rFL36ha665Jhjjf/7zn6qvr9eiRYvkcrlCMpKXbwOIZLb9JpRt27bp3//+tySpS5cuSk9Pv/h1l4E4A4hk/JoqADDQpcT5kt7PGQBgL+IMAAYizgBgIOIMAAYizgBgIOIMAAYizgBgIOIMAAYizgBgIOIMAAYizgBgIOIMAAYizgBgIOIMAAYizgBgIOIMAAYizgBgIOIMAAYizgBgIOIMAAYizgBgIOIMAAYizgBgIOIMAAYizgBgIOIMAAYizgBgIOIMAAYizgBgIOIMAAYizgBgIOIMAAYizgBgIOIMAAYizgBgoGi7Dnzs2DFNmjRJPp9PDodDP/rRjzRixAhVVFRo/PjxKi8vV0pKigoKCtSuXTu7ZgBARHJYlmXZcWCv16uTJ08qLS1NZ86c0dChQ/Xiiy+quLhY7du31+jRo1VYWKjKykpNnDixxWPV1wdUUVFjx0wAsJ3L1fair2PbaY3ExESlpaVJktq0aaNOnTrpxIkTKi0tldvtliS53W5t2LDBrgkAELFCcs65rKxM+/btU8+ePeXz+ZSYmChJcrlc8vl8oZgAABHF9jifPXtWY8eO1ZQpU9SmTZtzvuZwOORwOOyeAAARx9Y419fXa+zYsRo0aJD69esnSUpISJDX65XUeF46Pj7ezgkAEJFsi7NlWZo6dao6deqk3Nzc4OUZGRnyeDySJI/Ho759+9o1AQAilm3P1ti5c6cee+wx3XLLLXI6G/8OmDBhgnr06KFx48bp2LFj6tChgwoKCtS+ffsWj8WzNQBEskt5toZtcf46EWcAkcyop9IBAC4dcQYAAxFnADAQcQYAAxFnADAQcQYAAxFnADAQcQYAAxFnADAQcQYAAxFnADAQcQYAAxFnADAQcQYAAxFnADAQcQYAAxFnADAQcQYAAxFnADAQcQYAAxFnADAQcQYAAxFnADAQcQYAAxFnADAQcQYAAxFnADAQcQYAAxFnADAQcQYAAxFnADAQcQYAAxFnADAQcQYAAxFnADAQcQYAAxFnADAQcQYAAxFnADAQcQYAA9kW57y8PKWnp2vgwIHByyoqKpSbm6t+/fopNzdXlZWVdt08AEQ02+KcnZ2txYsXn3NZYWGh0tPTtW7dOqWnp6uwsNCumweAiGZbnO+66y61a9funMtKS0vldrslSW63Wxs2bLDr5gEgokWH8sZ8Pp8SExMlSS6XSz6fr1XXu+aaKLlcbe2cFnE+r/OruvKzcM8AYJOQxvnLHA6HHA5Hq773oLdav175D5sXRZY3x9yv6nCPAGCbkD5bIyEhQV6vV5Lk9XoVHx8fypsHgIgR0jhnZGTI4/FIkjwej/r27RvKmweAiGFbnCdMmKDhw4fr8OHD6tWrl1auXKnRo0dr8+bN6tevn7Zs2aLRo0fbdfMAENFsO+c8f/78Ji9fsmSJXTcJAFcMXiEIAAYizgBgIOIMAAYizgBgIOIMAAYizgBgIOIMAAYizgBgIOIMAAYizgBgIOIMAAYizgBgIOIMAAYizgBgIOIMAAYizgBgIOIMAAYizgBgIOIMAAYizgBgIOIMAAYizgBgIOIMAAYizgBgIOIMAAYizgBgIOIMAAYizgBgoOhwD8ClqfM3yOVqG+4ZuAif1/lVXflZuGcgQhDnCBUT7dTQF/8v3DNwEd4cc7+qwz0CEYPTGgBgIOIMAAYizgBgIM45AyHCg7iRJ5wP4hJnIER4EDfyhPNBXE5rAICBiDMAGIg4A4CBiDMAGIg4A4CBwhLnTZs26aGHHlJmZqYKCwvDMQEAjBbyOAcCAc2cOVOLFy/W6tWr9fbbb+vgwYOhngEARgt5nPfs2aNvf/vbSk1NVUxMjAYMGKDS0tJQzwAAo4X8RSgnTpxQcnJy8POkpCTt2bOnxet0SWyrN8fcb/e0iMPPJPLw/1nkCderOnlAEAAMFPI4JyUl6fjx48HPT5w4oaSkpFDPAACjhTzO3bt315EjR3T06FHV1dVp9erVysjICPUMADBayM85R0dHa/r06XriiScUCAQ0dOhQde3aNdQzAMBoDsuyrHCPAACciwcEAcBAxBkADGTcm+1nZGQoNjZWTqdTUVFRKi4uVkFBgUpLS+V0OpWQkKBZs2YZ8wyPpvZ+4ZVXXtHs2bO1detWxcfHh3Flo6a2Lly4UCtWrAjumzBhgnr37h3mpY2a+9m+9tprWrZsmaKiotS7d29NmjQpzEub3jpu3DgdPnxYklRdXa22bduqpKQkzEsbNbV33759euaZZ1RbW6uoqCj95je/UY8ePcI9tcmt+/fv1zPPPKOamhqlpKRo7ty5atOmTbinSpKqqqr09NNP68CBA3I4HMrPz1fHjh01fvx4lZeXKyUlRQUFBWrXrl3LB7IM06dPH8vn851zWXV1dfDjJUuWWNOmTQv1rGY1tdeyLOuTTz6xfvKTn1g/+MEPmvx6ODS19YUXXrAWL14cpkUta2rv1q1brREjRli1tbWWZVnWqVOnwjHtPM39OfjCrFmzrIULF4ZwUcua2pubm2u99957lmVZ1nvvvWc9/vjj4Zh2nqa2ZmdnW9u3b7csy7JWrlxpLViwIAzLmjZp0iRrxYoVlmVZVm1trVVZWWnNnj3bevnlly3LsqyXX37ZmjNnzgWPExGnNb78N+Jnn30mh8MRxjWtM2vWLE2cODEitkaSN954Q6NHj1ZMTIwkKSEhIcyLLsyyLK1Zs0YDBw4M95QWORwOnT17VlLjPf3ExMQwL2rekSNHdNddd0mS7rvvPq1bty7MixpVV1fr/fff17BhwyRJMTExiouLU2lpqdxutyTJ7XZrw4YNFzyWkXEeNWqUsrOztXz58uBlCxYsUO/evfWXv/xFTz75ZBjXne+rezds2KDExETdeuutYV52vqZ+tsuWLdOgQYOUl5enysrKMK4731f3HjlyRDt37lROTo4ef/zxC770P5Sa+tlK0s6dO5WQkKCbb745PMOa8dW9U6ZM0Zw5c9S7d2/Nnj1bEyZMCPPC//nq1q5duwbfk2ft2rU6duxYOOcFlZWVKT4+Xnl5eXK73Zo6dapqamrk8/mCf9m5XC75fL4LH8zOu/eX4vjx45ZlNf5zddCgQdaOHTvO+fpLL71k/e53vwvHtCY1tXfYsGFWVVWVZVkX/uduKDW19eTJk5bf77cCgYA1f/58a/LkyWFe+T9N7R0wYIA1c+ZMq6GhwfrHP/5h9enTx2poaAjz0pb/3E6fPt364x//GK5pTWpq77PPPmutXbvWsizLWr16tTVixIgwLvyfprYePHjQys3NtYYMGWItXLjQuvvuu8O8stGePXus2267zdq9e7dlWZb17LPPWgsWLLDuuOOOc77vzjvvvOCxjLvn/MUDfQkJCcrMzDzvntGgQYOM+SeMdP7eHTt2qKysTIMHD1ZGRoaOHz+u7OxsnTx5MsxLm/7Z3njjjYqKipLT6VROTo4++uijMK/8n6b2JiUlKTMzUw6HQz169JDT6dSnn34a5qXN/7n1+/1av369fvjDH4Zz3nma2rtq1Sr169dPktS/f39j/lXS1NbOnTvrlVdeUXFxsQYMGKDU1NQwr2yUnJys5ORk9ezZU5KUlZWlvXv3KiEhQV6vV5Lk9Xpb9QQBo+JcU1OjM2fOBD/evHmzunbtqiNHjgS/p7S0VJ06dQrTwnM1tbd79+7aunWrNm7cqI0bNyo5OVnFxcVyuVzGbe3atWvwD4zUeDrGlFdrNrf3wQcf1Pbt2yVJhw8fVn19vW644YZwTm12qyRt2bJFnTp1OuedGMOtub2JiYnasWOHJGnbtm1GnIZpbusXpwUaGhr0+9//XsOHDw/nzCCXy6Xk5GQdOnRIkrR161Z17txZGRkZ8ng8kiSPx6O+ffte8FhGPZXO5/NpzJgxkhrflH/gwIHq1auXfvnLX+rw4cNyOBxKSUnRjBkzwry0UXN7TdTc1okTJ2r//v2SpJSUFM2cOTOcM4Oa21tXV6cpU6Zo4MCBuuaaa/T888+H/UHXlv4cvPPOOxowYEA4552nub3XX3+98vPz5ff7de211xrxZ6G5rUuWLNHrr78uScrMzNTQoUPDOfMc06ZN069+9SvV19crNTVVs2bNUkNDg8aNG6eioiJ16NBBBQUFFzwOL98GAAMZdVoDANCIOAOAgYgzABiIOAOAgYgzABiIOAOAgYgzQqqsrKzJNwCaOnWqDh48KKnxLSJPnz4tSfrud7970ce6XNu3b9eHH34Y/Hzy5Mlau3bt1347QEuMehEKrl7PPfdcuCcE7dixQ9dff72+973vhXsKrmLEGSHn9/v11FNPae/everatatmz56t0aNHa9KkSerevfslHTMQCGju3LnasWOH6urq9Nhjj2n48OHavn27Fi1apBtuuEEHDhxQWlqa5s6dK4fDob/97W+aNWtWMMRHjx7VtGnT9Oc//1lOp1NvvfWWpk2bJqnxneX+9Kc/6eTJk5o4caKysrKa3LF9+3YtXLhQbdu21YEDB9S/f3/dcsstWrp0qWpra/Xiiy/qpptu0uTJk3Xttddq37598vl8ys/Pl8fj0e7du9WzZ089//zzl/zzxZWB0xoIucOHD+vRRx/VmjVrFBsbG3wZ7uUoKipS27Zt9eabb+rNN9/UihUrdPToUUnS3r17NWXKFL3zzjsqKyvTBx98oNraWk2fPl1/+MMfVFxcHDyN8q1vfUvDhw/XyJEjVVJSojvvvFNS45vVvP7663r55Zc1b968Frfs379fM2bM0Jo1a1RSUqIjR46oqKhIw4YN02uvvRb8vqqqKi1fvlx5eXn6+c9/rpEjR2r16tU6cOCA9u3bd9k/E0Q24oyQ++Y3v6k77rhDkvTwww/rgw8+uOxjbt68WSUlJRo8eLBycnJUUVGhjz/+WJLUo0cPJScny+l06tZbb1V5ebkOHTqk1NTU4LuZXej9Lx588EE5nU516dJFp06davF7u3fvrsTERMXExOimm27SfffdJ0m65ZZbVF5eHvy+Pn36yOFwqFu3brrxxhvVrVu34G18+ftwdeK0BkLuq29U9HW8cZFlWXr66af1wAMPnHP59u3bg781RZKioqIUCAQu+vhfPsbFfK/T6Qx+7nQ6z7ntLy53OBznXcfv91/0RlxZuOeMkPvkk0+0a9cuSdLbb78dvBd9Oe6//3698cYbqq+vl9R46qSmpqbZ7+/YsaOOHj2qsrIySY3vHveF2NjY4K9rAsKFOCPkOnbsqGXLlql///6qqqrSI488ctnHzMnJUZcuXZSdna2BAwdq+vTpLd5D/sY3vqFnnnlGTzzxhLKzsxUbGxv8XZV9+vTR+vXrNXjwYO3cufOytwGXgrcMxVXr7Nmzio2NlWVZmjFjhm6++WaNHDky3LMASZxzxlVs5cqVWrVqlerr63Xbbbfpxz/+cbgnAUHcc4bx/vWvf2nSpEnnXBYTE6OVK1eGaZGZm3BlIc4AYCAeEAQAAxFnADAQcQYAAxFnADDQ/wOpMEPUij+IEAAAAABJRU5ErkJggg==\n",
       "datasetInfos": [],
       "metadata": {},
       "removedWidgets": [],
       "type": "image"
      }
     },
     "output_type": "display_data"
    }
   ],
   "source": [
    "# A displot of 'bill_length_mm' with specified axis limits from value 53 to 60\n",
    "sns.displot(data = penguins, \n",
    "            x = 'bill_length_mm')\n",
    "\n",
    "# Setting the right and left limit\n",
    "plt.xlim(53,60);"
   ]
  },
  {
   "cell_type": "markdown",
   "metadata": {
    "application/vnd.databricks.v1+cell": {
     "cellMetadata": {
      "byteLimit": 2048000,
      "rowLimit": 10000
     },
     "inputWidgets": {},
     "nuid": "5068aab6-1c1e-4e7f-a182-4d96634339c5",
     "showTitle": false,
     "title": ""
    }
   },
   "source": [
    "Changing the size of the bins can be acomplished with the `binwidth` parameter. If we set `binwidth = 2`, each bin will coumpound observations in the range of 2 millimeters:"
   ]
  },
  {
   "cell_type": "code",
   "execution_count": 0,
   "metadata": {
    "application/vnd.databricks.v1+cell": {
     "cellMetadata": {
      "byteLimit": 2048000,
      "rowLimit": 10000
     },
     "inputWidgets": {},
     "nuid": "2232a451-907c-41d0-a75c-62decf89dbcc",
     "showTitle": false,
     "title": ""
    }
   },
   "outputs": [
    {
     "output_type": "display_data",
     "data": {
      "image/png": "[encoded data removed]"
     },
     "metadata": {
      "application/vnd.databricks.v1+output": {
       "addedWidgets": {},
       "arguments": {},
       "data": "data:image/png;base64,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\n",
       "datasetInfos": [],
       "metadata": {},
       "removedWidgets": [],
       "type": "image"
      }
     },
     "output_type": "display_data"
    }
   ],
   "source": [
    "# Histogram with specified binwidth\n",
    "sns.displot(data = penguins, \n",
    "            x = 'bill_length_mm', \n",
    "            binwidth = 2,\n",
    "            height = 6.5,\n",
    "            aspect = 1.3);\n",
    "# Change the size of the bins yourself and observe the output"
   ]
  },
  {
   "cell_type": "markdown",
   "metadata": {
    "application/vnd.databricks.v1+cell": {
     "cellMetadata": {
      "byteLimit": 2048000,
      "rowLimit": 10000
     },
     "inputWidgets": {},
     "nuid": "634aa14e-41ee-4afe-aa6a-22642032af09",
     "showTitle": false,
     "title": ""
    }
   },
   "source": [
    "Alternatively, we can control the number of bins. There is no right answer to the question of what number of bins you should set. \n",
    "\n",
    "It always depends on the data and our aim is to choose the most appropriate one that describes the data the best. If we didn't alter the number of bins during the exploration, we might miss important patterns. \n",
    "\n",
    "You can assign the number of bins to the `bins` parameter."
   ]
  },
  {
   "cell_type": "code",
   "execution_count": 0,
   "metadata": {
    "application/vnd.databricks.v1+cell": {
     "cellMetadata": {
      "byteLimit": 2048000,
      "rowLimit": 10000
     },
     "inputWidgets": {},
     "nuid": "33a4464b-182f-491b-9d56-3d226d17ac13",
     "showTitle": false,
     "title": ""
    }
   },
   "outputs": [
    {
     "output_type": "display_data",
     "data": {
      "image/png": "[encoded data removed]"
     },
     "metadata": {
      "application/vnd.databricks.v1+output": {
       "addedWidgets": {},
       "arguments": {},
       "data": "data:image/png;base64,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\n",
       "datasetInfos": [],
       "metadata": {},
       "removedWidgets": [],
       "type": "image"
      }
     },
     "output_type": "display_data"
    }
   ],
   "source": [
    "# Histogram with specified number of bins\n",
    "sns.displot(data = penguins, \n",
    "            x = 'bill_length_mm', \n",
    "            bins = 30,\n",
    "            height = 6.5,\n",
    "            aspect = 1.3);\n",
    "# Again, replace the number of bins and observe the output"
   ]
  },
  {
   "cell_type": "markdown",
   "metadata": {
    "application/vnd.databricks.v1+cell": {
     "cellMetadata": {
      "byteLimit": 2048000,
      "rowLimit": 10000
     },
     "inputWidgets": {},
     "nuid": "ed9876da-18cb-45c2-aeb4-648509cc1dcf",
     "showTitle": false,
     "title": ""
    }
   },
   "source": [
    "In the above histogram, we can see that the number of bins is too big, since the gap appeared after value 55. Try change this number yourself and observe the output."
   ]
  },
  {
   "cell_type": "code",
   "execution_count": 0,
   "metadata": {
    "application/vnd.databricks.v1+cell": {
     "cellMetadata": {
      "byteLimit": 2048000,
      "rowLimit": 10000
     },
     "inputWidgets": {},
     "nuid": "6c966cd2-89e7-42a4-865d-330c86bebb6c",
     "showTitle": false,
     "title": ""
    }
   },
   "outputs": [],
   "source": [
    "# TASK 1 >>> Create a histogram showing the distribution of penguins's body mass ('body_mass_g' variable)\n",
    "#        >>> Just define data and a variable and let Seaborn create the default plot\n",
    "#        >>> Set parameters: height = 6.5, aspect = 1.3"
   ]
  },
  {
   "cell_type": "markdown",
   "metadata": {
    "application/vnd.databricks.v1+cell": {
     "cellMetadata": {
      "byteLimit": 2048000,
      "rowLimit": 10000
     },
     "inputWidgets": {},
     "nuid": "ce1b4725-9a1d-4fe6-bd95-415ca19d1843",
     "showTitle": false,
     "title": ""
    }
   },
   "source": [
    ">What can you say about the distribution of body mass? Does the default bins correctly captured pattern in data? What is the most common weight of penguins?"
   ]
  },
  {
   "cell_type": "markdown",
   "metadata": {
    "application/vnd.databricks.v1+cell": {
     "cellMetadata": {
      "byteLimit": 2048000,
      "rowLimit": 10000
     },
     "inputWidgets": {},
     "nuid": "2750fb25-dc29-4c17-9f59-11a724c2d721",
     "showTitle": false,
     "title": ""
    }
   },
   "source": [
    "## 3.2 Plotting the distribution using KDE plot\n",
    "\n",
    "KDE abbreviation stands for Kernel Density Estimate and using this approach we can create distribution using continuous probability density curve. KDE is calculated using a specific formula which you do not need to worry about. There are however mathematical and statistical reasons why sometimes it might be more appropriate to show a KDE."
   ]
  },
  {
   "cell_type": "code",
   "execution_count": 0,
   "metadata": {
    "application/vnd.databricks.v1+cell": {
     "cellMetadata": {
      "byteLimit": 2048000,
      "rowLimit": 10000
     },
     "inputWidgets": {},
     "nuid": "1f291f7c-fdf2-464e-8de0-0999e8e8dad9",
     "showTitle": false,
     "title": ""
    }
   },
   "outputs": [
    {
     "output_type": "display_data",
     "data": {
      "image/png": "[encoded data removed]"
     },
     "metadata": {
      "application/vnd.databricks.v1+output": {
       "addedWidgets": {},
       "arguments": {},
       "data": "data:image/png;base64,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\n",
       "datasetInfos": [],
       "metadata": {},
       "removedWidgets": [],
       "type": "image"
      }
     },
     "output_type": "display_data"
    }
   ],
   "source": [
    "# The distribution using kernel density estimation\n",
    "\n",
    "sns.displot(data = penguins, \n",
    "            x = 'bill_depth_mm', \n",
    "            bins = 20,\n",
    "            kde = True,\n",
    "            height = 6.5,\n",
    "            aspect = 1.3);"
   ]
  },
  {
   "cell_type": "markdown",
   "metadata": {
    "application/vnd.databricks.v1+cell": {
     "cellMetadata": {
      "byteLimit": 2048000,
      "rowLimit": 10000
     },
     "inputWidgets": {},
     "nuid": "a53cdc87-096c-4544-8033-2e639a0843da",
     "showTitle": false,
     "title": ""
    }
   },
   "source": [
    "## 3.4 Boxplot\n",
    "\n",
    "Now we'll look at the distribution of penguins' body mass using boxplot. \n",
    "\n",
    "Seaborn's `boxplot()` function takes several parameters. Refer to the documentation [here](https://seaborn.pydata.org/generated/seaborn.boxplot.html) to learn more. \n",
    "\n",
    "Below you can see what the default boxplot looks like. We passed our dataset to the `data` parameter and the 'body_mass_g' feature as the input of the x parameter."
   ]
  },
  {
   "cell_type": "code",
   "execution_count": 0,
   "metadata": {
    "application/vnd.databricks.v1+cell": {
     "cellMetadata": {
      "byteLimit": 2048000,
      "rowLimit": 10000
     },
     "inputWidgets": {},
     "nuid": "30b83f15-fb35-4d13-ad58-971b517e0063",
     "showTitle": false,
     "title": ""
    }
   },
   "outputs": [
    {
     "output_type": "display_data",
     "data": {
      "image/png": "[encoded data removed]"
     },
     "metadata": {
      "application/vnd.databricks.v1+output": {
       "addedWidgets": {},
       "arguments": {},
       "data": "data:image/png;base64,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\n",
       "datasetInfos": [],
       "metadata": {},
       "removedWidgets": [],
       "type": "image"
      }
     },
     "output_type": "display_data"
    }
   ],
   "source": [
    "# Boxplot of 'body_mass_g' variable\n",
    "\n",
    "plt.figure(figsize=(13,9))\n",
    "sns.boxplot(data = penguins, \n",
    "            x = 'body_mass_g');"
   ]
  },
  {
   "cell_type": "markdown",
   "metadata": {
    "application/vnd.databricks.v1+cell": {
     "cellMetadata": {
      "byteLimit": 2048000,
      "rowLimit": 10000
     },
     "inputWidgets": {},
     "nuid": "46deb018-9f29-4370-950f-f4a84c0ec7d2",
     "showTitle": false,
     "title": ""
    }
   },
   "source": [
    "### 3.4.1 Customizing boxplots\n",
    "\n",
    "If you want to further customize a boxplot, you can do so with Matplotlib's help.\n",
    "\n",
    "Since Seaborn's boxplot is fancier version of Matplotlib's boxplot, you can again use the same parameters to control boxplot's appearance. For example, changing the style of box (`boxprops`), whiskers (`whiskerprops`), emphasizing median value (`medianprops`) or outliers (`flierprops`) if present. \n",
    "\n",
    "You can specify and pass these properties within a dictionary and then insert it into the boxplot plotting function. These `props` dictionaries refer to the class [`Line2D`](https://matplotlib.org/stable/api/_as_gen/matplotlib.lines.Line2D.html#matplotlib.lines.Line2D) and you can further customize those parameters  present in this class."
   ]
  },
  {
   "cell_type": "code",
   "execution_count": 0,
   "metadata": {
    "application/vnd.databricks.v1+cell": {
     "cellMetadata": {
      "byteLimit": 2048000,
      "rowLimit": 10000
     },
     "inputWidgets": {},
     "nuid": "b03e51dd-a001-4128-830c-ab0c9382891e",
     "showTitle": false,
     "title": ""
    }
   },
   "outputs": [
    {
     "output_type": "display_data",
     "data": {
      "image/png": "[encoded data removed]"
     },
     "metadata": {
      "application/vnd.databricks.v1+output": {
       "addedWidgets": {},
       "arguments": {},
       "data": "data:image/png;base64,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\n",
       "datasetInfos": [],
       "metadata": {},
       "removedWidgets": [],
       "type": "image"
      }
     },
     "output_type": "display_data"
    }
   ],
   "source": [
    "# Small customizations of boxplot\n",
    "\n",
    "plt.figure(figsize=(13,9))\n",
    "sns.boxplot(data = penguins, \n",
    "            y = 'body_mass_g',\n",
    "            color = 'cadetblue',\n",
    "            width = 0.2,\n",
    "            linewidth = 3,\n",
    "            medianprops={'color':'white'});"
   ]
  },
  {
   "cell_type": "markdown",
   "metadata": {
    "application/vnd.databricks.v1+cell": {
     "cellMetadata": {
      "byteLimit": 2048000,
      "rowLimit": 10000
     },
     "inputWidgets": {},
     "nuid": "82fac97f-8d6f-407a-a501-e2a96049d898",
     "showTitle": false,
     "title": ""
    }
   },
   "source": [
    "In our example we customize the color, the width of the boxplot and the width of the lines. Changing the color of the line presenting the median value can be useful in order to emphasize it."
   ]
  },
  {
   "cell_type": "code",
   "execution_count": 0,
   "metadata": {
    "application/vnd.databricks.v1+cell": {
     "cellMetadata": {
      "byteLimit": 2048000,
      "rowLimit": 10000
     },
     "inputWidgets": {},
     "nuid": "095bbc1a-ffe2-48aa-85d7-bb2ef5925c61",
     "showTitle": false,
     "title": ""
    }
   },
   "outputs": [
    {
     "output_type": "display_data",
     "data": {
      "image/png": "[encoded data removed]"
     },
     "metadata": {
      "application/vnd.databricks.v1+output": {
       "addedWidgets": {},
       "arguments": {},
       "data": "data:image/png;base64,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\n",
       "datasetInfos": [],
       "metadata": {},
       "removedWidgets": [],
       "type": "image"
      }
     },
     "output_type": "display_data"
    }
   ],
   "source": [
    "# Some advanced customizations\n",
    "plt.figure(figsize=(13,9))\n",
    "\n",
    "box_cust = dict(color = '#834177',                # customizing properties of the box \n",
    "                alpha = 0.5, \n",
    "                linestyle = 'dashed', \n",
    "                linewidth = 6)\n",
    "\n",
    "whisker_cust = dict(color = '#000184',            # customizing properties of whiskers\n",
    "                    alpha = 0.9,                  # the transparency\n",
    "                    linestyle = 'dotted',         # the style of the line\n",
    "                    linewidth = 3,                # the width of the line\n",
    "                    dash_capstyle = 'projecting') # setting the cap style for dashed line\n",
    "\n",
    "median_cust = dict(color = '#ff7f0e',\n",
    "                  alpha = 0.9,\n",
    "                  linestyle = 'dashdot',\n",
    "                  linewidth = 5)\n",
    "\n",
    "ax = sns.boxplot(data = penguins, \n",
    "                y = 'flipper_length_mm',\n",
    "                width = 0.2,\n",
    "                linewidth = 3,\n",
    "                boxprops = box_cust,\n",
    "                whiskerprops = whisker_cust,\n",
    "                medianprops = median_cust,\n",
    "                notch = True);                    # noteched boxplot (notch represent the confidence interval around median) "
   ]
  },
  {
   "cell_type": "code",
   "execution_count": 0,
   "metadata": {
    "application/vnd.databricks.v1+cell": {
     "cellMetadata": {
      "byteLimit": 2048000,
      "rowLimit": 10000
     },
     "inputWidgets": {},
     "nuid": "7515e9b3-9d21-4447-a12f-0e28af693ff6",
     "showTitle": false,
     "title": ""
    }
   },
   "outputs": [],
   "source": [
    "# TASK 2 >>> Create a boxplot of the 'bill_length_mm' feature\n",
    "#        >>> Create a figure and set its size to (13,9)\n",
    "#        >>> Set color as hexadecimal code: '#98D8D8',\n",
    "#        >>> Set width of a box to 0.3\n",
    "#        >>> Set width of a line to 1\n",
    "#        >>> Change a color of median line to be yellow and line width: 3 \n",
    "#            (you can specify medianprops properties within boxplot() function or outside this function)"
   ]
  },
  {
   "cell_type": "markdown",
   "metadata": {
    "application/vnd.databricks.v1+cell": {
     "cellMetadata": {
      "byteLimit": 2048000,
      "rowLimit": 10000
     },
     "inputWidgets": {},
     "nuid": "2215f831-ed62-4d7d-9e11-69bdf1162963",
     "showTitle": false,
     "title": ""
    }
   },
   "source": [
    "## 3.5 Swarmplot\n",
    "\n",
    "The `swarmplot()` plotting function is useful if we want to better see the distribution of the values. In this case, each data point will be drawn and adjusted to avoid overlapping of values. You can, of course, create a swarmplot on its own, but it's nice to see drawn values on the top of distribution created with boxplot. \n",
    "\n",
    "There is one disadvantage of the swarmplot: if you have dataset with large number of observations, let's say in thousands, there will be a huge overlap of data points. We can, however, take a random sample of only a few percent of points to be able to utilize the swarmplot. In such case, do not forget to mention next to your visual that the swarmplot displays only a subsample of data. In the case of the penguins dataset, swarmplot is a good choice of plotting method and we can nicely see the drawn observations."
   ]
  },
  {
   "cell_type": "code",
   "execution_count": 0,
   "metadata": {
    "application/vnd.databricks.v1+cell": {
     "cellMetadata": {
      "byteLimit": 2048000,
      "rowLimit": 10000
     },
     "inputWidgets": {},
     "nuid": "2fc3b7f0-52f8-46ea-96a3-037a56b8b90e",
     "showTitle": false,
     "title": ""
    }
   },
   "outputs": [
    {
     "output_type": "display_data",
     "data": {
      "image/png": "[encoded data removed]"
     },
     "metadata": {
      "application/vnd.databricks.v1+output": {
       "addedWidgets": {},
       "arguments": {},
       "data": "data:image/png;base64,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\n",
       "datasetInfos": [],
       "metadata": {},
       "removedWidgets": [],
       "type": "image"
      }
     },
     "output_type": "display_data"
    }
   ],
   "source": [
    "# Distribution of data displayed with boxplot and swarmplot\n",
    "\n",
    "plt.figure(figsize=(13,9))\n",
    "sns.boxplot(data = penguins,\n",
    "            y = 'body_mass_g',\n",
    "            color = 'skyblue',\n",
    "            width = 0.2,\n",
    "            linewidth = 1)\n",
    "sns.swarmplot(data = penguins, \n",
    "              y = 'body_mass_g',\n",
    "              color = 'white',\n",
    "              edgecolor = 'violet',    # the color of line around data point\n",
    "              linewidth = 1);          # The width of line that frame data point"
   ]
  },
  {
   "cell_type": "code",
   "execution_count": 0,
   "metadata": {
    "application/vnd.databricks.v1+cell": {
     "cellMetadata": {
      "byteLimit": 2048000,
      "rowLimit": 10000
     },
     "inputWidgets": {},
     "nuid": "5bef3f83-2277-43c2-aa62-56f55e3d54d8",
     "showTitle": false,
     "title": ""
    }
   },
   "outputs": [],
   "source": [
    "# TASK 3 >>> Create a swarmplot of the 'bill_depth_mm' feature\n",
    "#        >>> Create a figure and set its size to (13,9)\n",
    "#        >>> Set the color of the data points to 'coral'"
   ]
  },
  {
   "cell_type": "markdown",
   "metadata": {
    "application/vnd.databricks.v1+cell": {
     "cellMetadata": {
      "byteLimit": 2048000,
      "rowLimit": 10000
     },
     "inputWidgets": {},
     "nuid": "bdc7ce09-ad23-44ed-8b81-c1ebf86dd3b6",
     "showTitle": false,
     "title": ""
    }
   },
   "source": [
    "> Could you exactly say where the majority of data points lie based on the drawn data points? Sometimes, judging the distribution's shape from swarmplot can be tricky. To be sure, it's better to create a swarmplot in conjunction with a boxplot."
   ]
  },
  {
   "cell_type": "code",
   "execution_count": 0,
   "metadata": {
    "application/vnd.databricks.v1+cell": {
     "cellMetadata": {
      "byteLimit": 2048000,
      "rowLimit": 10000
     },
     "inputWidgets": {},
     "nuid": "5eae45b5-b416-47f8-bf8f-1dfebf98f334",
     "showTitle": false,
     "title": ""
    }
   },
   "outputs": [],
   "source": [
    "# TASK 4 >>> Create a boxplot of the 'bill_depth_mm' feature\n",
    "#        >>> Create a figure and set its size to (13,9)\n",
    "#        >>> Set the width of boxplot to 0.2, the width of the line to 3 and the color to 'white'\n",
    "#        >>> Plot a swarmplot right after the boxplot (just copy and paste the line of code you created in TASK 3"
   ]
  },
  {
   "cell_type": "markdown",
   "metadata": {
    "application/vnd.databricks.v1+cell": {
     "cellMetadata": {
      "byteLimit": 2048000,
      "rowLimit": 10000
     },
     "inputWidgets": {},
     "nuid": "1e690513-ca59-41c9-990a-adb65d76eca1",
     "showTitle": false,
     "title": ""
    }
   },
   "source": [
    "## 3.6 Stripplot\n",
    "\n",
    "Stripplots are very similar to swarmplots since they also show all of the data. There is the same disadvantage of the data overlapping, but you can add some random noise (jitter) among values. Sometimes it's hard to tell what the distribution of the data is without additional representation of the underlying distribution (for instance, created with a boxplot). \n",
    "\n",
    "You can change the amount of jitter using the `jitter` parameter where you have 2 options:\n",
    "- set `jitter = True` for a good default amount of jitter\n",
    "- specify amount of jitter \n",
    "\n",
    "Stripplots can be useful for indicating outliers in the data, too."
   ]
  },
  {
   "cell_type": "code",
   "execution_count": 0,
   "metadata": {
    "application/vnd.databricks.v1+cell": {
     "cellMetadata": {
      "byteLimit": 2048000,
      "rowLimit": 10000
     },
     "inputWidgets": {},
     "nuid": "206532c0-8565-465f-8ba2-3af92314218b",
     "showTitle": false,
     "title": ""
    }
   },
   "outputs": [
    {
     "output_type": "display_data",
     "data": {
      "image/png": "[encoded data removed]"
     },
     "metadata": {
      "application/vnd.databricks.v1+output": {
       "addedWidgets": {},
       "arguments": {},
       "data": "data:image/png;base64,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\n",
       "datasetInfos": [],
       "metadata": {},
       "removedWidgets": [],
       "type": "image"
      }
     },
     "output_type": "display_data"
    }
   ],
   "source": [
    "# Stripplot of the 'body_mass_g' feature\n",
    "\n",
    "plt.figure(figsize=(13,9))\n",
    "sns.stripplot(data = penguins, \n",
    "              x = 'body_mass_g', \n",
    "              color = 'green', \n",
    "              jitter = 0.2, \n",
    "              size = 6);"
   ]
  },
  {
   "cell_type": "markdown",
   "metadata": {
    "application/vnd.databricks.v1+cell": {
     "cellMetadata": {
      "byteLimit": 2048000,
      "rowLimit": 10000
     },
     "inputWidgets": {},
     "nuid": "1947f453-b2b7-4254-950f-a41ba600837e",
     "showTitle": false,
     "title": ""
    }
   },
   "source": [
    "Since we do not have so many observations, we can better estimate the distribution of the data because the data poins do not overlap. Here, we can take into consideration the density of the data points which can gives us a good approximation of the shape. There are more data points in the range of 3200-3800 grams compared to the rest of data points. After that, the data points become more sparse. Based on that, we would say that the distribution seems to be right-skewed. In most cases, it would not be appropriate to assume the distribution only from the stripplot because it can be misleading. Therefore, always visualize the data using several plotting approaches."
   ]
  },
  {
   "cell_type": "markdown",
   "metadata": {
    "application/vnd.databricks.v1+cell": {
     "cellMetadata": {
      "byteLimit": 2048000,
      "rowLimit": 10000
     },
     "inputWidgets": {},
     "nuid": "4fd807cd-4a16-40d7-82ff-f67e4d9c6557",
     "showTitle": false,
     "title": ""
    }
   },
   "source": [
    "# 4. Categorical variables"
   ]
  },
  {
   "cell_type": "markdown",
   "metadata": {
    "application/vnd.databricks.v1+cell": {
     "cellMetadata": {
      "byteLimit": 2048000,
      "rowLimit": 10000
     },
     "inputWidgets": {},
     "nuid": "feea78fc-fecf-4c46-a059-57debcd90875",
     "showTitle": false,
     "title": ""
    }
   },
   "source": [
    "## 4.1 Catplot\n",
    "\n",
    "To create a visualization of a categorical variable you can use the `catplot()` plotting function. This is a Figure-level interface which allows you to specify a certain plot type such as boxplot using the `kind` parameter. \n",
    "\n",
    "For example, if you want to visualize the number of occurences of observations based on the specific category the code would be:"
   ]
  },
  {
   "cell_type": "code",
   "execution_count": 0,
   "metadata": {
    "application/vnd.databricks.v1+cell": {
     "cellMetadata": {
      "byteLimit": 2048000,
      "rowLimit": 10000
     },
     "inputWidgets": {},
     "nuid": "2992a0a4-399b-41aa-acc0-7d2f6e0d754b",
     "showTitle": false,
     "title": ""
    }
   },
   "outputs": [
    {
     "output_type": "display_data",
     "data": {
      "image/png": "[encoded data removed]"
     },
     "metadata": {
      "application/vnd.databricks.v1+output": {
       "addedWidgets": {},
       "arguments": {},
       "data": "data:image/png;base64,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\n",
       "datasetInfos": [],
       "metadata": {},
       "removedWidgets": [],
       "type": "image"
      }
     },
     "output_type": "display_data"
    }
   ],
   "source": [
    "# The count of penguins based on the island\n",
    "\n",
    "sns.catplot(data = penguins,\n",
    "           x = 'island',\n",
    "           kind = 'count',\n",
    "           height = 6.5,\n",
    "           aspect = 1.3);"
   ]
  },
  {
   "cell_type": "markdown",
   "metadata": {
    "application/vnd.databricks.v1+cell": {
     "cellMetadata": {
      "byteLimit": 2048000,
      "rowLimit": 10000
     },
     "inputWidgets": {},
     "nuid": "b67122e4-dae0-454b-af7d-55237d36dcf2",
     "showTitle": false,
     "title": ""
    }
   },
   "source": [
    "This is the default output of a countplot. The visual appearance of a countplot is similar to a histogram, the values are placed within the respective bars."
   ]
  },
  {
   "cell_type": "markdown",
   "metadata": {
    "application/vnd.databricks.v1+cell": {
     "cellMetadata": {
      "byteLimit": 2048000,
      "rowLimit": 10000
     },
     "inputWidgets": {},
     "nuid": "171c8e4f-9944-47fe-8603-a5f3b0500de5",
     "showTitle": false,
     "title": ""
    }
   },
   "source": [
    "## 4.2 Countplot\n",
    "\n",
    "Alternatively, we can use the Axis-level ploting function `sns.countplot()`."
   ]
  },
  {
   "cell_type": "code",
   "execution_count": 0,
   "metadata": {
    "application/vnd.databricks.v1+cell": {
     "cellMetadata": {
      "byteLimit": 2048000,
      "rowLimit": 10000
     },
     "inputWidgets": {},
     "nuid": "dc81882c-0cc6-4a04-882f-df952c9290f5",
     "showTitle": false,
     "title": ""
    }
   },
   "outputs": [
    {
     "output_type": "display_data",
     "data": {
      "image/png": "[encoded data removed]"
     },
     "metadata": {
      "application/vnd.databricks.v1+output": {
       "addedWidgets": {},
       "arguments": {},
       "data": "data:image/png;base64,iVBORw0KGgoAAAANSUhEUgAAAwsAAAImCAYAAAAc4xbmAAAAOXRFWHRTb2Z0d2FyZQBNYXRwbG90bGliIHZlcnNpb24zLjQuMywgaHR0cHM6Ly9tYXRwbG90bGliLm9yZy/MnkTPAAAACXBIWXMAAAsTAAALEwEAmpwYAAAzx0lEQVR4nO3de5xVBb3///fAgIqAisIQxik1L6QpKIgcUY8gCKICGmlpKuZBzTt5ww6meEstJUlLvt7imHa8YooXFPNy8lbmzzxppSYKKENyEQSBmWH9/rDmAbqk8TIzqM/n4+Hjway991qfvfbsh/OatdaeiqIoigAAALxHi+YeAAAAWDOJBQAAoJRYAAAASokFAACglFgAAABKiQUAAKCUWAD4hN1///3Zbbfd0qNHjzz//PPNPU6DvP766+nRo0fq6uo+0fX269cvjz322Ce6zg/r29/+dm6++eZm2faWW26ZV1999WOvp6Gvz2233ZZvfvObH3t7ZU4//fRceumljbJuYM0lFoA11p133pn99tsvPXr0SN++fXPEEUfk97//faNv9+P+gHfhhRdm7NixeeaZZ/LVr371E5ys8XTp0iXPPPNMWrZs2dyjfGo1ZpR4fYDmUtncAwCUufbaazNx4sScffbZ6du3b1q1apVHH30006ZNS8+ePZt7vNV6/fXXs/nmmzf3GADwsTmyAKxxFi1alMsuuyxnnnlmBg4cmDZt2qRVq1bp169fTjvttCTJ8uXLc95556Vv377p27dvzjvvvCxfvjxJ+akYKx8tOP3003P22Wdn1KhR6dGjR0aMGJHXXnstSXLQQQclSYYOHZoePXrk7rvvft98K1asyBVXXJHdd989ffr0yamnnppFixZl+fLl9aeKDB06NHvssUfp89tyyy0zadKk9O/fP717986FF16YFStW1N9+yy23ZPDgwenVq1e+853vZNasWas89sYbb8zAgQPTs2fPnH322SmKIklSV1eXH/7wh+ndu3f69euX66+/PltuuWVqa2uTvP+UoAkTJuTkk09OksycOXOV+37729/O+PHjc+CBB6ZHjx45/PDDM2/evCTJsmXLcvLJJ6d3797p2bNn9t9//7z55psf+Ho+99xz2WuvvdKrV6+MGTMmy5YtS5K89dZbOfLII7PTTjulV69eOfLIIzN79uz6x912223p379/evTokX79+uXXv/51g/bRb3/72wwaNCg77LBDxo0bV79/yqzu++jJJ5/MrrvummuuuSZ9+vRJ3759c+utt5au59JLL83vf//7jBs3Lj169Mi4cePqb3vsscdKX69/9TxW9t7XZ3X7ZmXnnntudtttt2y//fbZb7/9VjkyN2HChJxwwgk59dRT06NHjwwZMiTPPfdc/e3PP/98hg8fnh49euTEE0+sf92Az5kCYA3z8MMPF926dStqamo+8D7jx48vRowYUbz55pvF3LlziwMOOKC49NJLi6IoiltvvbU48MADV7n/FltsUUyfPr0oiqI47bTTih133LF49tlni5qammL06NHFiSeeWHrfMjfffHOxxx57FK+99lrx9ttvF8ccc0xx8sknN/jxW2yxRXHwwQcX8+fPL2bNmlUMHDiwuOmmm4qiKIr777+/2GOPPYqXXnqpqKmpKS6//PLigAMOWOWxo0aNKt56661i1qxZRe/evYuHH364KIqiuOGGG4rBgwcXb7zxRrFgwYLi0EMPLbbYYov6/bj77rsXv/3tb+vXddlllxXf+973iqIoihkzZqxy34MPPrjo379/8be//a145513ioMPPri4+OKLi6IoihtvvLE48sgjiyVLlhS1tbXFc889VyxatKj0ue6+++7FkCFDitdff72YP39+ccABBxSXXHJJURRFMW/evOLee+8tlixZUixatKg47rjjiqOPProoiqJYvHhx0aNHj+Lll18uiqIoqquri7/+9a//ch/NnTu36N69e3HPPfcUy5cvL6699tqiW7du9fv3vVb3ffTEE08U3bp1K8aPH18sX768eOihh4ptt922WLBgQem6Dj744PdtZ3Wv1796rVe28uuzun3z3u/9yZMnF/PmzStqamqKq6++uvj3f//3YunSpUVRvPv6b7PNNsVDDz1U1NbWFj/60Y+KESNGFEVRFMuWLSv+4z/+o7j22muL5cuXF/fcc0/x1a9+tf61Az4/HFkA1jgLFizIBhtskMrKDz5T8s4778wxxxyTDTfcMB06dMgxxxzzgb9dLbPHHntk2223TWVlZfbdd9+88MILDX7snXfemcMOOyxdu3bNuuuum9GjR+fuu++u/61vQ/znf/5n1l9//XTp0iWHHHJI7rrrriTJr371q4waNSqbbbZZKisrc9RRR+WFF15Y5TfO//mf/5n27dunS5cu6d27d/785z8nSe65554ccsgh6dy5c9Zbb72MGjWqwfOU2W+//bLJJptk7bXXzqBBg+r3UWVlZRYsWJBXX301LVu2zDbbbJO2bdt+4HoOOuigfOELX8j666+fo48+OlOmTEmSbLDBBtlzzz2zzjrrpG3btjn66KPzu9/9rv5xLVq0yIsvvpilS5emU6dO9ad2rW4fPfLII9l8880zaNCgtGrVKoceemg22mijD5ztX30fVVZW5phjjkmrVq2y2267pU2bNnnllVc+1H78oNerIa/1B/mgffNeQ4cOrX8vHX744Vm+fPkq8++www7Zbbfd0rJlywwdOrR+tmeffTY1NTU59NBD06pVqwwaNChf+9rXPtTzBj4bxAKwxll//fUzf/781f7wPWfOnHTp0qX+6y5dumTOnDkN3sbKP0CuvfbaWbJkSYMfO2fOnGy88cb1X2+88capra3N3LlzG7yOL3zhC6s8/p+zv/766zn//PPTs2fP9OzZMzvuuGOKokh1dXX9/Tt27Fj/73XWWSeLFy+un2vl9Xbu3LnB85R573b+uY+GDh2avn37ZvTo0enbt28uuuii1NTUNOi5rvw6vfPOOznzzDOz++67Z/vtt89BBx2UhQsXpq6uLm3atMmll16aX/3qV+nbt29GjRqVl19+Ocnq99GcOXNWed4VFRWrbP+9/tX30frrr79KtK68Hxrqg16vhrzWZVa3b97r6quvzuDBg7PDDjukZ8+eWbRoUebPn19/+3vfB8uWLUttbW3mzJmTqqqqVFRU1N++8n4CPj9c4AyscXr06JHWrVvngQceyKBBg0rv06lTp1UuJH7jjTfSqVOnJO/+QLZ06dL6+/7973//ROfr1KnTKr/9ff3111NZWZkNN9ywwet444036md//fXX62f/whe+kKOOOir77rvvh56rY8eOq5zzv/K/k3f3yzvvvFP/9UfdL61atcqxxx6bY489NjNnzsyoUaOyySabZMSIEaX3f+ONN+r/vfJzveaaa/LKK6/kpptuSseOHfPCCy9k2LBh9ef077LLLtlll12ydOnSjB8/PmPHjs0NN9yw2n306quvrvK8i6JYZfvvtbrvo8b2cV7rD9o3K/v973+fq666Ktddd10233zztGjRIr169VrtNRz/1LFjx1RXV6coivpgeP3119O1a9cPPSvw6ebIArDGadeuXY4//viMGzcuDzzwQN55553U1NTk4YcfzkUXXZQkGTJkSH72s59l3rx5mTdvXi6//PLss88+SZKtttoqL774Yl544YUsW7YsEyZM+FDb32ijjTJjxowPvH3vvffOL37xi8yYMSOLFy/OpZdemsGDB6/2tKn3uvrqq/PWW2/ljTfeyKRJk7LXXnslSQ488MBMnDgxL774YpJ3L/a+5557GrTOwYMHZ9KkSamurs7ChQvz//7f/1vl9q222ip33313ampq8txzz+W+++5r8Lwre+KJJ/KXv/wldXV1adu2bSorK9OixQf/7+SGG27I7Nmzs2DBgvz85z+vf66LFy/OWmutlfbt22fBggX56U9/Wv+YN998Mw888ECWLFmS1q1bp02bNvXbWN0+2m233fLiiy9m6tSpqa2tzaRJk1Z78fXqvo8+rH/1ffNeH/W1Xt2+WdnixYvTsmXLdOjQIbW1tfnpT3+at99+u0Gzde/ePZWVlZk0aVJqamoyderUVS5+Bj4/HFkA1kiHH354Ntpoo1xxxRU5+eSTs+6662brrbfOUUcdlST57ne/m8WLF9f/VnbQoEH57ne/myTZZJNNcswxx+Swww7L2muvndGjR+d//ud/GrztY489NqeffnqWLl2acePG1f9w+0/7779/qqurc/DBB2fZsmXp27dvxo4d+6GeX//+/bPffvvl7bffzvDhw/P1r389STJgwIAsXrw4o0ePzqxZs9KuXbv8+7//ewYPHvwv1/mNb3wj06dPz7777pt11103hxxySJ566qn6z+Y/8cQTM3r06Oy4447p1atX9tlnnyxYsOBDzZ28+8PqD37wg1RXV6dNmzbZa6+9MnTo0A+8/957753DDz88c+bMSf/+/XP00UcnSQ499NCcfPLJ2WmnndKpU6eMHDkyDzzwQJJ3P3Hquuuuy2mnnZaKiop069YtZ5111r/cRx06dMhPfvKTnHfeeRkzZkyGDh2a7bff/gNnW9330Yd1yCGH5PTTT8+NN96YoUOH5r/+679We/+P+lqvbt+srG/fvtlll12y5557pk2bNjn00ENXe0rWylq3bp0JEyZk7NixGT9+fHbbbbcMGDCgQY8FPlsqioYcjwTgE7Pllltm6tSp+dKXvtSo23n44Ydz1lln5Te/+U2jbgeAzy6nIQF8RixdujQPP/xwamtrU11dncsvv/wD/9YDADSEWAD4jCiKIpdddll69eqVYcOGZbPNNssJJ5zQ3GMB8CnmNCQAAKCUIwsAAEApsQAAAJT6VH906ooVK1JX5ywqAAD4OFq1alm6/FMdC3V1RRYsWNLcYwAAwKdax47tSpc7DQkAACglFgAAgFJiAQAAKCUWAACAUmIBAAAoJRYAAIBSYgEAACglFgAAgFJiAQAAKCUWAACAUmIBAAAoJRYAAIBSYgEAACglFgAAgFJiAQAAKCUWAACAUmIBAAAoJRYAAIBSYgEAACglFgAAgFJiAQAAKFXZ3AOsydbfoE1aVbZs7jGgWdXU1mXB/CXNPQYA0AzEwmq0qmyZ259+qbnHgGY1fIevNPcIAEAzcRoSAABQSiwAAAClxAIAAFCq0WJhzJgx6dOnT/bee+9Vlv/3f/93Bg0alCFDhuSiiy6qX37llVdmwIAB2XPPPfPoo4821lgAAEADNdoFzvvtt18OPvjgnHbaafXLnnjiiUybNi2//vWv07p168ydOzdJ8tJLL2XKlCmZMmVKqqurM3LkyNx3331p2dInEQEAQHNptCMLvXr1ynrrrbfKshtvvDGjRo1K69atkyQbbrhhkmTatGkZMmRIWrduna5du+ZLX/pS/vjHPzbWaAAAQAM06TUL06dPz+9///uMGDEiBx98cH0QVFdXp3PnzvX3q6qqSnV1dVOOBgAAvEeT/p2Furq6vPXWW7npppvy3HPP5cQTT8y0adOacgQAAKCBmvTIQlVVVQYMGJCKiopsu+22adGiRebPn5+qqqrMnj27/n7V1dWpqqpqytEAAID3aNJY2GOPPfLkk08mSV555ZXU1NRkgw02SL9+/TJlypQsX748M2bMyPTp07Pttts25WgAAMB7NNppSKNHj85TTz2V+fPnZ9ddd81xxx2X/fffP2eccUb23nvvtGrVKj/84Q9TUVGRzTffPIMHD85ee+2Vli1b5swzz/RJSAAA0MwqiqIomnuIj6qmpi4LFixptPV37Ngutz/9UqOtHz4Nhu/wlfz974uaewwAoBF17NiudLm/4AwAAJQSCwAAQCmxAAAAlBILAABAKbEAAACUEgsAAEApsQAAAJQSCwAAQCmxAAAAlBILAABAKbEAAACUEgsAAEApsQAAAJQSCwAAQCmxAAAAlBILAABAKbEAAACUEgsAAEApsQAAAJQSCwAAQCmxAAAAlBILAABAKbEAAACUEgsAAEApsQAAAJQSCwAAQCmxAAAAlBILAABAKbEAAACUEgsAAEApsQAAAJQSCwAAQCmxAAAAlBILAABAKbEAAACUEgsAAEApsQAAAJQSCwAAQCmxAAAAlBILAABAKbEAAACUEgsAAEApsQAAAJQSCwAAQCmxAAAAlBILAABAKbEAAACUEgsAAECpRouFMWPGpE+fPtl7773fd9s111yTLbfcMvPmzUuSFEWRc889NwMGDMg+++yTP/3pT401FgAA0ECNFgv77bdfrrrqqvctf+ONN/Lb3/42Xbp0qV/2yCOPZPr06Zk6dWrOOeecnHXWWY01FgAA0ECNFgu9evXKeuut977lF1xwQU455ZRUVFTUL5s2bVqGDRuWioqKdO/ePQsXLsycOXMaazQAAKABmvSahQceeCCdOnXKVltttcry6urqdO7cuf7rzp07p7q6uilHAwAA3qOyqTb0zjvv5Morr8w111zTVJsEAAA+hiaLhddeey0zZ87M0KFDkySzZ8/Ofvvtl5tvvjlVVVWZPXt2/X1nz56dqqqqphoNAAAo0WSxsOWWW+bxxx+v/7pfv3655ZZb0qFDh/Tr1y/XX399hgwZkmeffTbt2rVLp06dmmo0AACgRKPFwujRo/PUU09l/vz52XXXXXPcccdlxIgRpffdbbfd8vDDD2fAgAFZZ511cv755zfWWAAAQANVFEVRNPcQH1VNTV0WLFjSaOvv2LFdbn/6pUZbP3waDN/hK/n73xc19xgAQCPq2LFd6XJ/wRkAACglFgAAgFJiAQAAKCUWAACAUmIBAAAoJRYAAIBSYgEAACglFgAAgFJiAQAAKCUWAACAUmIBAAAoJRYAAIBSYgEAACglFgAAgFJiAQAAKCUWAACAUmIBAAAoJRYAAIBSYgEAACglFgAAgFJiAQAAKCUWAACAUmIBAAAoJRYAAIBSYgEAACglFgAAgFJiAQAAKCUWAACAUmIBAAAoJRYAAIBSYgEAACglFgAAgFJiAQAAKCUWAACAUmIBAAAoJRYAAIBSYgEAACglFgAAgFJiAQAAKCUWAACAUmIBAAAoJRYAAIBSYgEAAChV2dwDADSmtu3XzjprtWruMaBZvbOsJm8vXNrcYwCfQmIB+ExbZ61W2eGUSc09BjSrpy8+JG9HLAAfntOQAACAUmIBAAAoJRYAAIBSjRYLY8aMSZ8+fbL33nvXL7vwwgszaNCg7LPPPjnmmGOycOHC+tuuvPLKDBgwIHvuuWceffTRxhoLAABooEaLhf322y9XXXXVKst23nnn3HXXXbnzzjvz5S9/OVdeeWWS5KWXXsqUKVMyZcqUXHXVVTn77LNTV1fXWKMBAAAN0Gix0KtXr6y33nqrLOvbt28qK9/9AKbu3btn9uzZSZJp06ZlyJAhad26dbp27ZovfelL+eMf/9hYowEAAA3QbNcs3Hrrrdl1112TJNXV1encuXP9bVVVVamurm6u0QAAgDRTLPzsZz9Ly5Yts++++zbH5gEAgAZo8j/Kdtttt+Whhx7Kddddl4qKiiTvHkn45ylJybtHGqqqqpp6NAAAYCVNemThkUceyVVXXZWf/exnWWeddeqX9+vXL1OmTMny5cszY8aMTJ8+Pdtuu21TjgYAALxHox1ZGD16dJ566qnMnz8/u+66a4477rhMnDgxy5cvz8iRI5Mk2223XcaNG5fNN988gwcPzl577ZWWLVvmzDPPTMuWLRtrNAAAoAEqiqIomnuIj6qmpi4LFixptPV37Ngutz/9UqOtHz4Nhu/wlfz974uae4yPrGPHdtnhlEnNPQY0q6cvPuRT/T4GGl/Hju1Kl/sLzgAAQCmxAAAAlBILAABAKbEAAACUEgsAAEApsQAAAJQSCwAAQCmxAAAAlBILAABAKbEAAACUEgsAAEApsQAAAJQSCwAAQCmxAAAAlBILAABAKbEAAACUEgsAAEApsQAAAJQSCwAAQCmxAAAAlBILAABAKbEAAACUEgsAAEApsQAAAJQSCwAAQCmxAAAAlBILAABAKbEAAACUEgsAAEApsQAAAJQSCwAAQCmxAAAAlBILAABAKbEAAACUEgsAAEApsQAAAJQSCwAAQCmxAAAAlBILAABAKbEAAACUEgsAAEApsQAAAJQSCwAAQCmxAAAAlBILAABAKbEAAACUEgsAAEApsQAAAJQSCwAAQKlGi4UxY8akT58+2XvvveuXLViwICNHjszAgQMzcuTIvPXWW0mSoihy7rnnZsCAAdlnn33ypz/9qbHGAgAAGqjRYmG//fbLVVddtcqyiRMnpk+fPpk6dWr69OmTiRMnJkkeeeSRTJ8+PVOnTs0555yTs846q7HGAgAAGqjRYqFXr15Zb731Vlk2bdq0DBs2LEkybNiwPPDAA6ssr6ioSPfu3bNw4cLMmTOnsUYDAAAaoEmvWZg7d246deqUJOnYsWPmzp2bJKmurk7nzp3r79e5c+dUV1c35WgAAMB7NNsFzhUVFamoqGiuzQMAAP9Ck8bChhtuWH960Zw5c9KhQ4ckSVVVVWbPnl1/v9mzZ6eqqqopRwMAAN6jSWOhX79+mTx5cpJk8uTJ6d+//yrLi6LI//f//X9p165d/elKAABA86hsrBWPHj06Tz31VObPn59dd901xx13XEaNGpUTTzwxt9xyS7p06ZLx48cnSXbbbbc8/PDDGTBgQNZZZ52cf/75jTUWAADQQI0WC5dccknp8l/84hfvW1ZRUZEf/OAHjTUKAADwEfgLzgAAQCmxAAAAlBILAABAKbEAAACUEgsAAEApsQAAAJQSCwAAQCmxAAAAlBILAABAKbEAAACUEgsAAEApsQAAAJQSCwAAQCmxAAAAlBILAABAKbEAAACUEgsAAEApsQAAAJQSCwAAQCmxAAAAlBILAABAKbEAAACUEgsAAECpBsXC008/3aBlAADAZ0eDYuHcc89t0DIAAOCzo3J1Nz7zzDN55plnMm/evFx77bX1y99+++3U1dU1+nAAAEDzWW0s1NTUZMmSJamrq8vixYvrl7dt2zaXXXZZow8HAAA0n9XGwo477pgdd9wxw4cPz8Ybb9xUMwEAAGuA1cbCPy1fvjxjx47NrFmzUltbW7980qRJjTYYAADQvBoUCyeccEIOPPDAjBgxIi1a+LRVAAD4PGhQLFRWVuZb3/pWY88CAACsQRp0mGD33XfPL3/5y8yZMycLFiyo/w8AAPjsatCRhdtvvz1JcvXVV9cvq6ioyLRp0xpnKgAAoNk1KBYefPDBxp4DAABYwzQoFiZPnly6fNiwYZ/gKAAAwJqkQbHw3HPP1f972bJlefzxx7P11luLBQAA+AxrUCyMHTt2la8XLlyYk046qVEGAgAA1gwf6Y8mrLPOOpk5c+YnPQsAALAGadCRhaOOOqr+3ytWrMjLL7+cwYMHN9pQAABA82tQLBx++OH1/27ZsmU23njjdO7cudGGAgAAml+DTkPacccds+mmm2bx4sVZuHBhWrVq1dhzAQAAzaxBsXD33XdnxIgRuffee3PPPffU/xsAAPjsatBpSD//+c9zyy23ZMMNN0ySzJs3L4cddlgGDRrUqMMBAADNp0FHFoqiqA+FJFl//fVTFEWjDQUAADS/Bh1Z6Nu3b77zne9kyJAhSd49LWnXXXdt1MEAAIDmtdpYePXVV/Pmm2/mtNNOy9SpU/P0008nSbp375599923SQYEAACax2pPQzr//PPTtm3bJMnAgQMzZsyYjBkzJgMGDMj555/fJAMCAADNY7Wx8Oabb2bLLbd83/Itt9wys2bNarShAACA5rfa05AWLVr0gbctXbr0I2/0uuuuy80335yKiopsscUWueCCCzJnzpyMHj06CxYsyNZbb52LLroorVu3/sjbAAAAPp7VHlnYZpttctNNN71v+c0335ytt976I22wuro6kyZNyq233pq77rordXV1mTJlSn70ox/lsMMOy/3335/27dvnlltu+UjrBwAAPhmrPbJwxhln5Nhjj82dd95ZHwf/93//l5qamvz0pz/9yButq6vL0qVLU1lZmaVLl6Zjx4554okn8uMf/zhJMnz48Pz0pz/Nt771rY+8DQAA4ONZbSxstNFG+dWvfpUnnngiL774YpJkt912S58+fT7yBquqqnL44Ydn9913z1prrZWdd945W2+9ddq3b5/KynfH6dy5c6qrqz/yNgAAgI+vQX9nYaeddspOO+30iWzwrbfeyrRp0zJt2rS0a9cuJ5xwQh599NFPZN0AAMAnp0Gx8El67LHH8sUvfjEdOnRI8u5Hsv7hD3/IwoULU1tbm8rKysyePTtVVVVNPRoAALCS1V7g3Bi6dOmSZ599Nu+8806Kosjjjz+er3zlK+ndu3fuu+++JMntt9+efv36NfVoAADASpr8yMJ2222XPffcM8OHD09lZWW6deuWAw44IP/xH/+Rk046KePHj0+3bt0yYsSIph4NAABYSZPHQpIcf/zxOf7441dZ1rVrVx+XCgAAa5AmPw0JAAD4dBALAABAKbEAAACUEgsAAEApsQAAAJQSCwAAQCmxAAAAlBILAABAKbEAAACUEgsAAEApsQAAAJQSCwAAQCmxAAAAlBILAABAKbEAAACUEgsAAEApsQAAAJQSCwAAQCmxAAAAlBILAABAKbEAAACUEgsAAEApsQAAAJQSCwAAQCmxAAAAlBILAABAKbEAAACUEgsAAEApsQAAAJQSCwAAQCmxAAAAlBILAABAKbEAAACUEgsAAEApsQAAAJQSCwAAQCmxAAAAlBILAABAKbEAAACUEgsAAEApsQAAAJQSCwAAQCmxAAAAlBILAABAKbEAAACUEgsAAEApsQAAAJQSCwAAQKlmiYWFCxfm+OOPz6BBgzJ48OA888wzWbBgQUaOHJmBAwdm5MiReeutt5pjNAAA4B+aJRbOO++87LLLLrn33ntzxx13ZLPNNsvEiRPTp0+fTJ06NX369MnEiRObYzQAAOAfmjwWFi1alN/97nf5+te/niRp3bp12rdvn2nTpmXYsGFJkmHDhuWBBx5o6tEAAICVVDb1BmfOnJkOHTpkzJgx+fOf/5ytt9463//+9zN37tx06tQpSdKxY8fMnTu3qUcDAABW0uRHFmpra/P888/nm9/8ZiZPnpx11lnnfaccVVRUpKKioqlHAwAAVtLksdC5c+d07tw52223XZJk0KBBef7557Phhhtmzpw5SZI5c+akQ4cOTT0aAACwkiaPhY4dO6Zz587529/+liR5/PHHs9lmm6Vfv36ZPHlykmTy5Mnp379/U48GAACspMmvWUiSsWPH5uSTT05NTU26du2aCy64ICtWrMiJJ56YW265JV26dMn48eObYzQAAOAfmiUWunXrlttuu+19y3/xi180wzQAAEAZf8EZAAAoJRYAAIBSYgEAACglFgAAgFJiAQAAKCUWAACAUmIBAAAoJRYAAIBSYgEAACglFgAAgFJiAQAAKCUWAACAUmIBAAAoJRYAAIBSYgEAACglFgAAgFJiAQAAKCUWAACAUmIBAAAoJRYAAIBSYgEAACglFgAAgFJiAQAAKCUWAACAUmIBAAAoJRYAAIBSYgEAACglFgAAgFJiAQAAKCUWAACAUmIBAAAoVdncAwAArM76G6ydVpWtmnsMaDY1tTVZMH9ps2xbLAAAa7RWla1y15+uaO4xoNnsvfV3kzRPLDgNCQAAKCUWAACAUmIBAAAoJRYAAIBSYgEAACglFgAAgFJiAQAAKCUWAACAUmIBAAAoJRYAAIBSYgEAACglFgAAgFJiAQAAKCUWAACAUmIBAAAo1WyxUFdXl2HDhuXII49MksyYMSMjRozIgAEDcuKJJ2b58uXNNRoAAJBmjIVJkyZls802q//6Rz/6UQ477LDcf//9ad++fW655ZbmGg0AAEgzxcLs2bPz0EMP5etf/3qSpCiKPPHEE9lzzz2TJMOHD8+0adOaYzQAAOAfmiUWzj///Jxyyilp0eLdzc+fPz/t27dPZWVlkqRz586prq5ujtEAAIB/aPJY+M1vfpMOHTpkm222aepNAwAAH0JlU2/wD3/4Qx588ME88sgjWbZsWd5+++2cd955WbhwYWpra1NZWZnZs2enqqqqqUcDAABW0uRHFr73ve/lkUceyYMPPphLLrkkO+20U3784x+nd+/eue+++5Ikt99+e/r169fUowEAACtZY/7OwimnnJJrr702AwYMyIIFCzJixIjmHgkAAD7Xmvw0pJX17t07vXv3TpJ07drVx6UCAMAaZI05sgAAAKxZxAIAAFBKLAAAAKXEAgAAUEosAAAApcQCAABQSiwAAAClxAIAAFBKLAAAAKXEAgAAUEosAAAApcQCAABQSiwAAAClxAIAAFBKLAAAAKXEAgAAUEosAAAApcQCAABQSiwAAAClxAIAAFBKLAAAAKXEAgAAUEosAAAApcQCAABQSiwAAAClxAIAAFBKLAAAAKXEAgAAUEosAAAApcQCAABQSiwAAAClxAIAAFBKLAAAAKXEAgAAUEosAAAApcQCAABQSiwAAAClxAIAAFBKLAAAAKXEAgAAUEosAAAApcQCAABQSiwAAAClxAIAAFBKLAAAAKXEAgAAUEosAAAApcQCAABQqrKpN/jGG2/k1FNPzdy5c1NRUZFvfOMbOfTQQ7NgwYKcdNJJmTVrVjbeeOOMHz8+6623XlOPBwAA/EOTH1lo2bJlTj/99Nx99935n//5n9xwww156aWXMnHixPTp0ydTp05Nnz59MnHixKYeDQAAWEmTx0KnTp2y9dZbJ0natm2bTTfdNNXV1Zk2bVqGDRuWJBk2bFgeeOCBph4NAABYSbNeszBz5sy88MIL2W677TJ37tx06tQpSdKxY8fMnTu3OUcDAIDPvWaLhcWLF+f444/PGWeckbZt265yW0VFRSoqKpppMgAAIGmmWKipqcnxxx+fffbZJwMHDkySbLjhhpkzZ06SZM6cOenQoUNzjAYAAPxDk8dCURT5/ve/n0033TQjR46sX96vX79Mnjw5STJ58uT079+/qUcDAABW0uQfnfr000/njjvuyBZbbJGhQ4cmSUaPHp1Ro0blxBNPzC233JIuXbpk/PjxTT0aAACwkiaPhZ49e+Yvf/lL6W2/+MUvmngaAADgg/gLzgAAQCmxAAAAlBILAABAKbEAAACUEgsAAEApsQAAAJQSCwAAQCmxAAAAlBILAABAKbEAAACUEgsAAEApsQAAAJQSCwAAQCmxAAAAlBILAABAKbEAAACUEgsAAEApsQAAAJQSCwAAQCmxAAAAlBILAABAKbEAAACUEgsAAEApsQAAAJQSCwAAQCmxAAAAlBILAABAKbEAAACUEgsAAEApsQAAAJQSCwAAQCmxAAAAlBILAABAKbEAAACUEgsAAEApsQAAAJQSCwAAQCmxAAAAlBILAABAKbEAAACUEgsAAEApsQAAAJQSCwAAQCmxAAAAlBILAABAKbEAAACUEgsAAEApsQAAAJRa42LhkUceyZ577pkBAwZk4sSJzT0OAAB8bq1RsVBXV5dx48blqquuypQpU3LXXXflpZdeau6xAADgc2mNioU//vGP+dKXvpSuXbumdevWGTJkSKZNm9bcYwEAwOfSGhUL1dXV6dy5c/3XVVVVqa6ubsaJAADg86uyuQf4OFq1apmOHds16jaG7/CVRl0/fBo09vussT198SHNPQI0u0/7+3jvrb/b3CNAs2qu9/AadWShqqoqs2fPrv+6uro6VVVVzTgRAAB8fq1RsfC1r30t06dPz4wZM7J8+fJMmTIl/fr1a+6xAADgc2mNOg2psrIyZ555Zo444ojU1dVl//33z+abb97cYwEAwOdSRVEURXMPAQAArHnWqNOQAACANYdYAAAASq1R1yzw2dStW7dsscUWKYoiLVu2zNixY7P99tunuro65513Xi677LLmHhFYjX++h2tra9OyZcsMGzYshx12WFq08PsmWBPMnz8/hx12WJLkzTffTIsWLdKhQ4ckyc0335zWrVs343R82rlmgUbXo0ePPPPMM0mSRx99NFdeeWWuv/76Zp4KaKiV38Nz587N9773vWy//fY5/vjjV7lfbW1tKiv9Dgqa04QJE9KmTZt85zvf+Zf3raurS8uWLT/ytrznPx+8wjSpt99+O+3bt0+SzJw5M0cddVTuuuuuvPjiixkzZkxqamqyYsWKTJgwIV/+8pczefLkXH311amoqMiWW26Ziy++ODNnzswZZ5yR+fPnp0OHDrngggvSpUuXzJs3Lz/4wQ/y+uuvJ0nOOOOM7LDDDs35dOEzZ8MNN8w555yTr3/96znuuONy++23Z+rUqVmyZElWrFiRiRMn5pxzzsmLL76Y2traHHvssdljjz0yc+bMnHrqqXnnnXeSpP4I45NPPpkJEyakXbt2+etf/5rBgwdniy22yKRJk7Js2bJcfvnl+bd/+7dmftbw6fP444/nwgsvTF1dXbbZZpucffbZad26dfr165fBgwfnscceyxFHHJG2bdvmggsuSJs2bbL99ttnxowZufLKK7NkyZLS9/Jtt922ynv+kksuyUknnZS33347dXV1Oeuss9KzZ8/87//+byZMmJDly5ena9euueCCC7LuuuumX79+GTZsWH7zm9+ktrY248ePz2abbdbcu4vVKaCRbbXVVsW+++5b7LnnnsX2229fPPfcc0VRFMWMGTOKIUOGFEVRFOPGjSvuuOOOoiiKYtmyZcU777xT/PWvfy0GDhxYzJ07tyiKopg/f35RFEVx5JFHFrfddltRFEVx8803F0cffXRRFEUxevTo4ne/+11RFEUxa9asYtCgQU32HOGzrHv37u9btsMOOxR///vfi1tvvbXYZZdd6t+fP/7xj4vJkycXRVEUb731VjFw4MBi8eLFxZIlS4qlS5cWRVEUr7zySjF8+PCiKIriiSeeKHbYYYeiurq6WLZsWdG3b9/iJz/5SVEURXHdddcV5557bhM8Q/jsuOyyy4rLL7+82HXXXYu//e1vRVEUxSmnnFJce+21RVEUxe67715MnDixKIqiWLp0abHrrrsWr732WlEURXHSSScVo0aNKorig9/L733PX3311cUVV1xRFEVR1NbWFosWLSrmzp1bfOtb3yoWL15cFEVRXHnllcWECRPqtz9p0qSiKIri+uuvL84444xG3iN8XI4s0OjWXnvt3HHHHUmSZ555JqeddlruuuuuVe7TvXv3/PznP8/s2bMzcODAfPnLX84TTzyRQYMG1Z93uf7669evY8KECUmSoUOH5uKLL06SPPbYY3nppZfq1/n2229n8eLFWXfddRv7KcLn2s4771z//vzf//3fPPjgg7nmmmuSJMuWLcsbb7yRTp06Zdy4cfnzn/+cFi1aZPr06fWP/9rXvpZOnTolSf7t3/4tO++8c5Jkiy22yJNPPtmkzwU+C1asWJEvfvGL2WSTTZIkw4cPzy9/+cv66xr22muvJMnf/va3dO3aNV27dk2SDBkyJDfddFOSD34vJ6u+57/2ta/ljDPOSG1tbfbYY49069Ytv/nNb/LSSy/lm9/8ZpKkpqYm3bt3r59v4MCBSZJtttkm999/f+PtCD4RYoEm1aNHj8yfPz/z5s1bZfk+++yT7bbbLg899FBGjRqVs88++0Ove8WKFbnpppuy1lprfVLjAiVmzJiRli1bZsMNN0ySrLPOOqvcftlll2XTTTddZdmECROy0UYb5Y477siKFSuy7bbb1t+28sWXLVq0qP+6RYsWqaura6ynAZ9b733PfpCy9/Kzzz67yuN79eqV66+/Pg8//HBOP/30jBw5Mu3bt8/OO++cSy65pHS9rVq1SuI9/mnhoyxoUi+//HLq6urqfyPxTzNmzEjXrl1zyCGHpH///vnLX/6SnXbaKffee2/mz5+fJFmwYEGSd4NjypQpSZI777wzPXv2TJL07ds3//3f/12/zhdeeKHxnxB8zvzz2qCDDjooFRUV77u9b9++uf7661P847Mznn/++STJokWL0rFjx7Ro0SJ33HGHHxCgEbVo0SKzZs3Kq6++miS544470qtXr/fdb5NNNsmMGTMyc+bMJMndd99df9sHvZffa9asWdloo43yjW98IyNGjMif/vSndO/ePX/4wx/qt79kyZK88sorn+hzpOk4skCjW7p0aYYOHZokKYoiF1544fs+feGee+7JHXfckcrKymy00UY58sgjs/766+eoo47Kt7/97bRo0SJf/epX88Mf/jBjx47NmDFjcvXVV9df4Jwk3//+9zNu3Ljss88+qaurS8+ePTNu3Lgmf77wWfPP9/A/Pzp16NChGTlyZOl9v/vd7+b888/PvvvuW38qxJVXXplvfetbOe644zJ58uTssssuadOmTRM/C/j8WGuttXLBBRfkhBNOqL/A+Z+nBK1s7bXXzg9+8IMcccQRadOmTbbZZpv62z7ovfxeTz31VK6++upUVlamTZs2ufDCC+v/3zx69OgsX748SXLiiSfWnxbFp4uPTgUA+Jz657V9RVHk7LPPzpe//OX6axsgcWQBAOBz6+abb87tt9+empqadOvWLQcccEBzj8QaxpEFAACglAucAQCAUmIBAAAoJRYAAIBSLnAG+JyaP39+/aeevPnmm2nRokU6dOiQWbNmpVOnTqt85vqHMW3atLz88ssZNWpU6e1PPvlkrrnmmtKPYfywbrvttvzf//1fzjzzzI+9LgDeTywAfE5tsMEGueOOO5K8+xeW27Rpk+985zuZOXNmjjrqqI+83v79+6d///6f1JgANCOxAMD71NXV5b/+67/yzDPPpKqqKldccUXWXnvtvPbaazn77LMzf/78rL322jnnnHOy2WabrfLYlX/bf8899+Tyyy9PixYt0q5du/zyl79c5b5//OMfc95552XZsmVZe+21c/7552fTTTfNbbfdlgcffDDvvPNOZsyYkT322COnnnpqkuTWW2/NxIkT065du2y11VZp3bp1k+0XgM8b1ywA8D6vvvpqDjrooEyZMiXt2rXLfffdlyQZO3Zsxo4dm9tuuy2nnXZazj777NWu54orrsjVV1+dX//61/nZz372vts33XTT/PKXv8zkyZNz/PHH59JLL62/7YUXXsj48eNz55135p577skbb7yROXPmZMKECbnxxhtzww035KWXXvpknzgAq3BkAYD3+eIXv5hu3bolSbbeeuvMmjUrixcvzjPPPJMTTjih/n7Lly9f7Xp69OiR008/PYMHD86AAQPed/uiRYty2mmn5dVXX01FRUVqamrqb+vTp0/atWuXJNlss80ya9asLFiwIDvuuGM6dOiQJNlrr70yffr0j/t0AfgAYgGA91n51J6WLVtm2bJlKYoi7du3r7/OoSHGjRuXZ599Ng899FD233//3Hrrravc/pOf/CS9e/fO5ZdfnpkzZ+aQQw75wBnq6uo+xjMC4KNwGhIADdK2bdt88YtfzD333JMkKYoif/7zn1f7mNdeey3bbbddTjjhhGywwQaZPXv2KrcvWrQoVVVVSZLbb7/9X86w7bbb5ne/+13mz5+fmpqa3HvvvR/x2QDQEGIBgAa7+OKLc8stt2TffffNkCFD8sADD6z2/hdddFH22Wef7L333unRo0e22mqrVW4/4ogjcskll2TYsGGpra39l9vv1KlTjj322Bx44IH55je/+b6LqwH4ZFUURVE09xAAAMCax5EFAACglFgAAABKiQUAAKCUWAAAAEqJBQAAoJRYAAAASokFAACglFgAAABK/f+F+QEyKNzhoAAAAABJRU5ErkJggg==\n",
       "datasetInfos": [],
       "metadata": {},
       "removedWidgets": [],
       "type": "image"
      }
     },
     "output_type": "display_data"
    }
   ],
   "source": [
    "# Create a countplot of the 'island' feature\n",
    "\n",
    "plt.figure(figsize = (13,9))\n",
    "ax = sns.countplot(data = penguins, \n",
    "                   x = 'island',\n",
    "                   order = penguins.island.value_counts().index, # Order categories by their value counts\n",
    "                   palette = 'Paired')\n",
    "ax.set(title = 'Count of penguins based on the island', \n",
    "       xlabel = 'The island',\n",
    "       ylabel = 'Count');"
   ]
  },
  {
   "cell_type": "markdown",
   "metadata": {
    "application/vnd.databricks.v1+cell": {
     "cellMetadata": {
      "byteLimit": 2048000,
      "rowLimit": 10000
     },
     "inputWidgets": {},
     "nuid": "bab18727-a0e4-4939-bffb-f210991286bc",
     "showTitle": false,
     "title": ""
    }
   },
   "source": [
    "Here we order the categories based on their values in descending order. Another way to change the order based on your preference is to define categories in the list:\n",
    "```\n",
    "order = ['Biscoe','Dream','Torgersen']\n",
    "```\n",
    "\n",
    "All of customizations we did are applicable also with `catplot()`."
   ]
  },
  {
   "cell_type": "code",
   "execution_count": 0,
   "metadata": {
    "application/vnd.databricks.v1+cell": {
     "cellMetadata": {
      "byteLimit": 2048000,
      "rowLimit": 10000
     },
     "inputWidgets": {},
     "nuid": "6943b1a2-1ee2-454b-b005-7aedc5c13733",
     "showTitle": false,
     "title": ""
    }
   },
   "outputs": [],
   "source": [
    "# TASK 5 >>> Display the count of penguins with respect to the species\n",
    "#        >>> Use the catplot() plotting function\n",
    "#        >>> Order the species in the following way: Chinstrap, Adelie, Gentoo\n",
    "#        >>> Set the saturation of colors to 0.3\n",
    "#        >>> Change the size of the figure:\n",
    "#            parameter: height = 6.5\n",
    "#            parameter: aspect = 1.3\n",
    "#        >>> Set the title to 'Count of penguins based on species'"
   ]
  },
  {
   "cell_type": "markdown",
   "metadata": {
    "application/vnd.databricks.v1+cell": {
     "cellMetadata": {
      "byteLimit": 2048000,
      "rowLimit": 10000
     },
     "inputWidgets": {},
     "nuid": "28087cbb-61e0-4436-81a5-a6ba36cabb1e",
     "showTitle": false,
     "title": ""
    }
   },
   "source": [
    "# 5. Tasks\n",
    "\n",
    "Now it's your turn to create some visualization of the Bank Marketing dataset. The data is related to a marketing campaign of a Portuguese banking institution that was performed via phone communication with clients of the bank. Let's look at attributes and do some preprocessing. \n",
    "\n",
    "**Attributes explanation:**\n",
    "\n",
    "Bank client data:\n",
    "- age\n",
    "- job : type of job\n",
    "- marital : marital status\n",
    "- education\n",
    "- default: has credit in default?\n",
    "- housing: has housing loan?\n",
    "- loan: has personal loan?\n",
    "\n",
    "Related with the last contact of the current campaign:\n",
    "- contact: contact communication type\n",
    "- month: last contact month of year\n",
    "- day_of_week: last contact day of the week\n",
    "- duration: last contact duration, in seconds (numeric). Important note: this attribute highly affects the output target (e.g., if duration=0 then y='no'). Yet, the duration is not known before a call is performed. Also, after the end of the call y is obviously known. Thus, this input should only be included for benchmark purposes and should be discarded if the intention is to have a realistic predictive model.\n",
    "\n",
    "Other attributes:\n",
    "- campaign: number of contacts performed during this campaign and for this client\n",
    "- pdays: number of days that passed by after the client was last contacted from a previous campaign (999 means client was not previously contacted)\n",
    "- previous: number of contacts performed before this campaign and for this client\n",
    "- poutcome: outcome of the previous marketing campaign\n",
    "\n",
    "Social and economic context attributes\n",
    "- emp.var.rate: employment variation rate - quarterly indicator\n",
    "- cons.price.idx: consumer price index - monthly indicator\n",
    "- cons.conf.idx: consumer confidence index - monthly indicator\n",
    "- euribor3m: euribor 3 month rate - daily indicator\n",
    "it is calculated by eliminating the highest 15% and the lowest 15% of the interest rates submitted and calculating the arithmetic mean of the remaining values\n",
    "- nr.employed: number of employees - quarterly indicator\n",
    "\n",
    "Target variable:\n",
    "- y - has the client subscribed to a term deposit?"
   ]
  },
  {
   "cell_type": "markdown",
   "metadata": {
    "application/vnd.databricks.v1+cell": {
     "cellMetadata": {
      "byteLimit": 2048000,
      "rowLimit": 10000
     },
     "inputWidgets": {},
     "nuid": "7f6a20e1-0c40-48df-a6d7-309355de3104",
     "showTitle": false,
     "title": ""
    }
   },
   "source": [
    "## 5.1 Loading data, preprocessing"
   ]
  },
  {
   "cell_type": "code",
   "execution_count": 0,
   "metadata": {
    "application/vnd.databricks.v1+cell": {
     "cellMetadata": {
      "byteLimit": 2048000,
      "rowLimit": 10000
     },
     "inputWidgets": {},
     "nuid": "97c8dd6b-3c6f-445f-9854-f7b44b6f7ccf",
     "showTitle": false,
     "title": ""
    }
   },
   "outputs": [
    {
     "output_type": "display_data",
     "data": {
      "text/html": [
       "<div>\n",
       "<style scoped>\n",
       "    .dataframe tbody tr th:only-of-type {\n",
       "        vertical-align: middle;\n",
       "    }\n",
       "\n",
       "    .dataframe tbody tr th {\n",
       "        vertical-align: top;\n",
       "    }\n",
       "\n",
       "    .dataframe thead th {\n",
       "        text-align: right;\n",
       "    }\n",
       "</style>\n",
       "<table border=\"1\" class=\"dataframe\">\n",
       "  <thead>\n",
       "    <tr style=\"text-align: right;\">\n",
       "      <th></th>\n",
       "      <th>age</th>\n",
       "      <th>job</th>\n",
       "      <th>marital</th>\n",
       "      <th>education</th>\n",
       "      <th>default</th>\n",
       "      <th>housing</th>\n",
       "      <th>loan</th>\n",
       "      <th>contact</th>\n",
       "      <th>month</th>\n",
       "      <th>day_of_week</th>\n",
       "      <th>duration</th>\n",
       "      <th>campaign</th>\n",
       "      <th>pdays</th>\n",
       "      <th>previous</th>\n",
       "      <th>poutcome</th>\n",
       "      <th>emp.var.rate</th>\n",
       "      <th>cons.price.idx</th>\n",
       "      <th>cons.conf.idx</th>\n",
       "      <th>euribor3m</th>\n",
       "      <th>nr.employed</th>\n",
       "      <th>y</th>\n",
       "    </tr>\n",
       "  </thead>\n",
       "  <tbody>\n",
       "    <tr>\n",
       "      <th>0</th>\n",
       "      <td>56</td>\n",
       "      <td>housemaid</td>\n",
       "      <td>married</td>\n",
       "      <td>basic.4y</td>\n",
       "      <td>no</td>\n",
       "      <td>no</td>\n",
       "      <td>no</td>\n",
       "      <td>telephone</td>\n",
       "      <td>may</td>\n",
       "      <td>mon</td>\n",
       "      <td>261</td>\n",
       "      <td>1</td>\n",
       "      <td>999</td>\n",
       "      <td>0</td>\n",
       "      <td>nonexistent</td>\n",
       "      <td>1.1</td>\n",
       "      <td>93.994</td>\n",
       "      <td>-36.4</td>\n",
       "      <td>4.857</td>\n",
       "      <td>5191.0</td>\n",
       "      <td>no</td>\n",
       "    </tr>\n",
       "    <tr>\n",
       "      <th>1</th>\n",
       "      <td>57</td>\n",
       "      <td>services</td>\n",
       "      <td>married</td>\n",
       "      <td>high.school</td>\n",
       "      <td>unknown</td>\n",
       "      <td>no</td>\n",
       "      <td>no</td>\n",
       "      <td>telephone</td>\n",
       "      <td>may</td>\n",
       "      <td>mon</td>\n",
       "      <td>149</td>\n",
       "      <td>1</td>\n",
       "      <td>999</td>\n",
       "      <td>0</td>\n",
       "      <td>nonexistent</td>\n",
       "      <td>1.1</td>\n",
       "      <td>93.994</td>\n",
       "      <td>-36.4</td>\n",
       "      <td>4.857</td>\n",
       "      <td>5191.0</td>\n",
       "      <td>no</td>\n",
       "    </tr>\n",
       "    <tr>\n",
       "      <th>2</th>\n",
       "      <td>37</td>\n",
       "      <td>services</td>\n",
       "      <td>married</td>\n",
       "      <td>high.school</td>\n",
       "      <td>no</td>\n",
       "      <td>yes</td>\n",
       "      <td>no</td>\n",
       "      <td>telephone</td>\n",
       "      <td>may</td>\n",
       "      <td>mon</td>\n",
       "      <td>226</td>\n",
       "      <td>1</td>\n",
       "      <td>999</td>\n",
       "      <td>0</td>\n",
       "      <td>nonexistent</td>\n",
       "      <td>1.1</td>\n",
       "      <td>93.994</td>\n",
       "      <td>-36.4</td>\n",
       "      <td>4.857</td>\n",
       "      <td>5191.0</td>\n",
       "      <td>no</td>\n",
       "    </tr>\n",
       "    <tr>\n",
       "      <th>3</th>\n",
       "      <td>40</td>\n",
       "      <td>admin.</td>\n",
       "      <td>married</td>\n",
       "      <td>basic.6y</td>\n",
       "      <td>no</td>\n",
       "      <td>no</td>\n",
       "      <td>no</td>\n",
       "      <td>telephone</td>\n",
       "      <td>may</td>\n",
       "      <td>mon</td>\n",
       "      <td>151</td>\n",
       "      <td>1</td>\n",
       "      <td>999</td>\n",
       "      <td>0</td>\n",
       "      <td>nonexistent</td>\n",
       "      <td>1.1</td>\n",
       "      <td>93.994</td>\n",
       "      <td>-36.4</td>\n",
       "      <td>4.857</td>\n",
       "      <td>5191.0</td>\n",
       "      <td>no</td>\n",
       "    </tr>\n",
       "    <tr>\n",
       "      <th>4</th>\n",
       "      <td>56</td>\n",
       "      <td>services</td>\n",
       "      <td>married</td>\n",
       "      <td>high.school</td>\n",
       "      <td>no</td>\n",
       "      <td>no</td>\n",
       "      <td>yes</td>\n",
       "      <td>telephone</td>\n",
       "      <td>may</td>\n",
       "      <td>mon</td>\n",
       "      <td>307</td>\n",
       "      <td>1</td>\n",
       "      <td>999</td>\n",
       "      <td>0</td>\n",
       "      <td>nonexistent</td>\n",
       "      <td>1.1</td>\n",
       "      <td>93.994</td>\n",
       "      <td>-36.4</td>\n",
       "      <td>4.857</td>\n",
       "      <td>5191.0</td>\n",
       "      <td>no</td>\n",
       "    </tr>\n",
       "  </tbody>\n",
       "</table>\n",
       "</div>"
      ]
     },
     "metadata": {
      "application/vnd.databricks.v1+output": {
       "addedWidgets": {},
       "arguments": {},
       "data": "<div>\n<style scoped>\n    .dataframe tbody tr th:only-of-type {\n        vertical-align: middle;\n    }\n\n    .dataframe tbody tr th {\n        vertical-align: top;\n    }\n\n    .dataframe thead th {\n        text-align: right;\n    }\n</style>\n<table border=\"1\" class=\"dataframe\">\n  <thead>\n    <tr style=\"text-align: right;\">\n      <th></th>\n      <th>age</th>\n      <th>job</th>\n      <th>marital</th>\n      <th>education</th>\n      <th>default</th>\n      <th>housing</th>\n      <th>loan</th>\n      <th>contact</th>\n      <th>month</th>\n      <th>day_of_week</th>\n      <th>duration</th>\n      <th>campaign</th>\n      <th>pdays</th>\n      <th>previous</th>\n      <th>poutcome</th>\n      <th>emp.var.rate</th>\n      <th>cons.price.idx</th>\n      <th>cons.conf.idx</th>\n      <th>euribor3m</th>\n      <th>nr.employed</th>\n      <th>y</th>\n    </tr>\n  </thead>\n  <tbody>\n    <tr>\n      <th>0</th>\n      <td>56</td>\n      <td>housemaid</td>\n      <td>married</td>\n      <td>basic.4y</td>\n      <td>no</td>\n      <td>no</td>\n      <td>no</td>\n      <td>telephone</td>\n      <td>may</td>\n      <td>mon</td>\n      <td>261</td>\n      <td>1</td>\n      <td>999</td>\n      <td>0</td>\n      <td>nonexistent</td>\n      <td>1.1</td>\n      <td>93.994</td>\n      <td>-36.4</td>\n      <td>4.857</td>\n      <td>5191.0</td>\n      <td>no</td>\n    </tr>\n    <tr>\n      <th>1</th>\n      <td>57</td>\n      <td>services</td>\n      <td>married</td>\n      <td>high.school</td>\n      <td>unknown</td>\n      <td>no</td>\n      <td>no</td>\n      <td>telephone</td>\n      <td>may</td>\n      <td>mon</td>\n      <td>149</td>\n      <td>1</td>\n      <td>999</td>\n      <td>0</td>\n      <td>nonexistent</td>\n      <td>1.1</td>\n      <td>93.994</td>\n      <td>-36.4</td>\n      <td>4.857</td>\n      <td>5191.0</td>\n      <td>no</td>\n    </tr>\n    <tr>\n      <th>2</th>\n      <td>37</td>\n      <td>services</td>\n      <td>married</td>\n      <td>high.school</td>\n      <td>no</td>\n      <td>yes</td>\n      <td>no</td>\n      <td>telephone</td>\n      <td>may</td>\n      <td>mon</td>\n      <td>226</td>\n      <td>1</td>\n      <td>999</td>\n      <td>0</td>\n      <td>nonexistent</td>\n      <td>1.1</td>\n      <td>93.994</td>\n      <td>-36.4</td>\n      <td>4.857</td>\n      <td>5191.0</td>\n      <td>no</td>\n    </tr>\n    <tr>\n      <th>3</th>\n      <td>40</td>\n      <td>admin.</td>\n      <td>married</td>\n      <td>basic.6y</td>\n      <td>no</td>\n      <td>no</td>\n      <td>no</td>\n      <td>telephone</td>\n      <td>may</td>\n      <td>mon</td>\n      <td>151</td>\n      <td>1</td>\n      <td>999</td>\n      <td>0</td>\n      <td>nonexistent</td>\n      <td>1.1</td>\n      <td>93.994</td>\n      <td>-36.4</td>\n      <td>4.857</td>\n      <td>5191.0</td>\n      <td>no</td>\n    </tr>\n    <tr>\n      <th>4</th>\n      <td>56</td>\n      <td>services</td>\n      <td>married</td>\n      <td>high.school</td>\n      <td>no</td>\n      <td>no</td>\n      <td>yes</td>\n      <td>telephone</td>\n      <td>may</td>\n      <td>mon</td>\n      <td>307</td>\n      <td>1</td>\n      <td>999</td>\n      <td>0</td>\n      <td>nonexistent</td>\n      <td>1.1</td>\n      <td>93.994</td>\n      <td>-36.4</td>\n      <td>4.857</td>\n      <td>5191.0</td>\n      <td>no</td>\n    </tr>\n  </tbody>\n</table>\n</div>",
       "datasetInfos": [],
       "metadata": {},
       "removedWidgets": [],
       "textData": null,
       "type": "htmlSandbox"
      }
     },
     "output_type": "display_data"
    }
   ],
   "source": [
    "# Load the data \n",
    "data = pd.read_csv('Data/bank_data.csv',sep = ';')\n",
    "data.head()"
   ]
  },
  {
   "cell_type": "code",
   "execution_count": 0,
   "metadata": {
    "application/vnd.databricks.v1+cell": {
     "cellMetadata": {
      "byteLimit": 2048000,
      "rowLimit": 10000
     },
     "inputWidgets": {},
     "nuid": "b0c1d46c-3799-4857-89b2-501e50485067",
     "showTitle": false,
     "title": ""
    }
   },
   "outputs": [],
   "source": [
    "# Let's rename some of variables\n",
    "data.rename(columns = {'marital':'marital_status','default':'default_credit','housing':'house_loan',\n",
    "                      'contact':'contact_type','duration':'contact_duration','campaign':'number_of_contacts',\n",
    "                      'pdays':'days_passed','previous':'number_previous_contact','poutcome':'previous_campaign_outcome',\n",
    "                      'emp.var.rate':'emp_variation_rate','cons.price.idx':'cpi','cons.conf.idx':\n",
    "                      'cci','euribor3m':'euribor_rate','nr.employed':'no_employees','y':'target'},\n",
    "           inplace = True)"
   ]
  },
  {
   "cell_type": "code",
   "execution_count": 0,
   "metadata": {
    "application/vnd.databricks.v1+cell": {
     "cellMetadata": {
      "byteLimit": 2048000,
      "rowLimit": 10000
     },
     "inputWidgets": {},
     "nuid": "f3701ce5-08d0-41a4-8b4d-16f13d324e93",
     "showTitle": false,
     "title": ""
    }
   },
   "outputs": [
    {
     "output_type": "display_data",
     "data": {
      "text/html": [
       "<div>\n",
       "<style scoped>\n",
       "    .dataframe tbody tr th:only-of-type {\n",
       "        vertical-align: middle;\n",
       "    }\n",
       "\n",
       "    .dataframe tbody tr th {\n",
       "        vertical-align: top;\n",
       "    }\n",
       "\n",
       "    .dataframe thead th {\n",
       "        text-align: right;\n",
       "    }\n",
       "</style>\n",
       "<table border=\"1\" class=\"dataframe\">\n",
       "  <thead>\n",
       "    <tr style=\"text-align: right;\">\n",
       "      <th></th>\n",
       "      <th>age</th>\n",
       "      <th>contact_duration</th>\n",
       "      <th>number_of_contacts</th>\n",
       "      <th>days_passed</th>\n",
       "      <th>number_previous_contact</th>\n",
       "      <th>emp_variation_rate</th>\n",
       "      <th>cpi</th>\n",
       "      <th>cci</th>\n",
       "      <th>euribor_rate</th>\n",
       "      <th>no_employees</th>\n",
       "    </tr>\n",
       "  </thead>\n",
       "  <tbody>\n",
       "    <tr>\n",
       "      <th>count</th>\n",
       "      <td>41188.00000</td>\n",
       "      <td>41188.000000</td>\n",
       "      <td>41188.000000</td>\n",
       "      <td>41188.000000</td>\n",
       "      <td>41188.000000</td>\n",
       "      <td>41188.000000</td>\n",
       "      <td>41188.000000</td>\n",
       "      <td>41188.000000</td>\n",
       "      <td>41188.000000</td>\n",
       "      <td>41188.000000</td>\n",
       "    </tr>\n",
       "    <tr>\n",
       "      <th>mean</th>\n",
       "      <td>40.02406</td>\n",
       "      <td>258.285010</td>\n",
       "      <td>2.567593</td>\n",
       "      <td>962.475454</td>\n",
       "      <td>0.172963</td>\n",
       "      <td>0.081886</td>\n",
       "      <td>93.575664</td>\n",
       "      <td>-40.502600</td>\n",
       "      <td>3.621291</td>\n",
       "      <td>5167.035911</td>\n",
       "    </tr>\n",
       "    <tr>\n",
       "      <th>std</th>\n",
       "      <td>10.42125</td>\n",
       "      <td>259.279249</td>\n",
       "      <td>2.770014</td>\n",
       "      <td>186.910907</td>\n",
       "      <td>0.494901</td>\n",
       "      <td>1.570960</td>\n",
       "      <td>0.578840</td>\n",
       "      <td>4.628198</td>\n",
       "      <td>1.734447</td>\n",
       "      <td>72.251528</td>\n",
       "    </tr>\n",
       "    <tr>\n",
       "      <th>min</th>\n",
       "      <td>17.00000</td>\n",
       "      <td>0.000000</td>\n",
       "      <td>1.000000</td>\n",
       "      <td>0.000000</td>\n",
       "      <td>0.000000</td>\n",
       "      <td>-3.400000</td>\n",
       "      <td>92.201000</td>\n",
       "      <td>-50.800000</td>\n",
       "      <td>0.634000</td>\n",
       "      <td>4963.600000</td>\n",
       "    </tr>\n",
       "    <tr>\n",
       "      <th>25%</th>\n",
       "      <td>32.00000</td>\n",
       "      <td>102.000000</td>\n",
       "      <td>1.000000</td>\n",
       "      <td>999.000000</td>\n",
       "      <td>0.000000</td>\n",
       "      <td>-1.800000</td>\n",
       "      <td>93.075000</td>\n",
       "      <td>-42.700000</td>\n",
       "      <td>1.344000</td>\n",
       "      <td>5099.100000</td>\n",
       "    </tr>\n",
       "    <tr>\n",
       "      <th>50%</th>\n",
       "      <td>38.00000</td>\n",
       "      <td>180.000000</td>\n",
       "      <td>2.000000</td>\n",
       "      <td>999.000000</td>\n",
       "      <td>0.000000</td>\n",
       "      <td>1.100000</td>\n",
       "      <td>93.749000</td>\n",
       "      <td>-41.800000</td>\n",
       "      <td>4.857000</td>\n",
       "      <td>5191.000000</td>\n",
       "    </tr>\n",
       "    <tr>\n",
       "      <th>75%</th>\n",
       "      <td>47.00000</td>\n",
       "      <td>319.000000</td>\n",
       "      <td>3.000000</td>\n",
       "      <td>999.000000</td>\n",
       "      <td>0.000000</td>\n",
       "      <td>1.400000</td>\n",
       "      <td>93.994000</td>\n",
       "      <td>-36.400000</td>\n",
       "      <td>4.961000</td>\n",
       "      <td>5228.100000</td>\n",
       "    </tr>\n",
       "    <tr>\n",
       "      <th>max</th>\n",
       "      <td>98.00000</td>\n",
       "      <td>4918.000000</td>\n",
       "      <td>56.000000</td>\n",
       "      <td>999.000000</td>\n",
       "      <td>7.000000</td>\n",
       "      <td>1.400000</td>\n",
       "      <td>94.767000</td>\n",
       "      <td>-26.900000</td>\n",
       "      <td>5.045000</td>\n",
       "      <td>5228.100000</td>\n",
       "    </tr>\n",
       "  </tbody>\n",
       "</table>\n",
       "</div>"
      ]
     },
     "metadata": {
      "application/vnd.databricks.v1+output": {
       "addedWidgets": {},
       "arguments": {},
       "data": "<div>\n<style scoped>\n    .dataframe tbody tr th:only-of-type {\n        vertical-align: middle;\n    }\n\n    .dataframe tbody tr th {\n        vertical-align: top;\n    }\n\n    .dataframe thead th {\n        text-align: right;\n    }\n</style>\n<table border=\"1\" class=\"dataframe\">\n  <thead>\n    <tr style=\"text-align: right;\">\n      <th></th>\n      <th>age</th>\n      <th>contact_duration</th>\n      <th>number_of_contacts</th>\n      <th>days_passed</th>\n      <th>number_previous_contact</th>\n      <th>emp_variation_rate</th>\n      <th>cpi</th>\n      <th>cci</th>\n      <th>euribor_rate</th>\n      <th>no_employees</th>\n    </tr>\n  </thead>\n  <tbody>\n    <tr>\n      <th>count</th>\n      <td>41188.00000</td>\n      <td>41188.000000</td>\n      <td>41188.000000</td>\n      <td>41188.000000</td>\n      <td>41188.000000</td>\n      <td>41188.000000</td>\n      <td>41188.000000</td>\n      <td>41188.000000</td>\n      <td>41188.000000</td>\n      <td>41188.000000</td>\n    </tr>\n    <tr>\n      <th>mean</th>\n      <td>40.02406</td>\n      <td>258.285010</td>\n      <td>2.567593</td>\n      <td>962.475454</td>\n      <td>0.172963</td>\n      <td>0.081886</td>\n      <td>93.575664</td>\n      <td>-40.502600</td>\n      <td>3.621291</td>\n      <td>5167.035911</td>\n    </tr>\n    <tr>\n      <th>std</th>\n      <td>10.42125</td>\n      <td>259.279249</td>\n      <td>2.770014</td>\n      <td>186.910907</td>\n      <td>0.494901</td>\n      <td>1.570960</td>\n      <td>0.578840</td>\n      <td>4.628198</td>\n      <td>1.734447</td>\n      <td>72.251528</td>\n    </tr>\n    <tr>\n      <th>min</th>\n      <td>17.00000</td>\n      <td>0.000000</td>\n      <td>1.000000</td>\n      <td>0.000000</td>\n      <td>0.000000</td>\n      <td>-3.400000</td>\n      <td>92.201000</td>\n      <td>-50.800000</td>\n      <td>0.634000</td>\n      <td>4963.600000</td>\n    </tr>\n    <tr>\n      <th>25%</th>\n      <td>32.00000</td>\n      <td>102.000000</td>\n      <td>1.000000</td>\n      <td>999.000000</td>\n      <td>0.000000</td>\n      <td>-1.800000</td>\n      <td>93.075000</td>\n      <td>-42.700000</td>\n      <td>1.344000</td>\n      <td>5099.100000</td>\n    </tr>\n    <tr>\n      <th>50%</th>\n      <td>38.00000</td>\n      <td>180.000000</td>\n      <td>2.000000</td>\n      <td>999.000000</td>\n      <td>0.000000</td>\n      <td>1.100000</td>\n      <td>93.749000</td>\n      <td>-41.800000</td>\n      <td>4.857000</td>\n      <td>5191.000000</td>\n    </tr>\n    <tr>\n      <th>75%</th>\n      <td>47.00000</td>\n      <td>319.000000</td>\n      <td>3.000000</td>\n      <td>999.000000</td>\n      <td>0.000000</td>\n      <td>1.400000</td>\n      <td>93.994000</td>\n      <td>-36.400000</td>\n      <td>4.961000</td>\n      <td>5228.100000</td>\n    </tr>\n    <tr>\n      <th>max</th>\n      <td>98.00000</td>\n      <td>4918.000000</td>\n      <td>56.000000</td>\n      <td>999.000000</td>\n      <td>7.000000</td>\n      <td>1.400000</td>\n      <td>94.767000</td>\n      <td>-26.900000</td>\n      <td>5.045000</td>\n      <td>5228.100000</td>\n    </tr>\n  </tbody>\n</table>\n</div>",
       "datasetInfos": [],
       "metadata": {},
       "removedWidgets": [],
       "textData": null,
       "type": "htmlSandbox"
      }
     },
     "output_type": "display_data"
    }
   ],
   "source": [
    "# Examine summary statistics\n",
    "data.describe()"
   ]
  },
  {
   "cell_type": "code",
   "execution_count": 0,
   "metadata": {
    "application/vnd.databricks.v1+cell": {
     "cellMetadata": {
      "byteLimit": 2048000,
      "rowLimit": 10000
     },
     "inputWidgets": {},
     "nuid": "39069292-7bd5-4681-ba21-0d3ad2a333f2",
     "showTitle": false,
     "title": ""
    }
   },
   "outputs": [
    {
     "output_type": "stream",
     "name": "stdout",
     "output_type": "stream",
     "text": [
      "Out[30]: age                          0\njob                          0\nmarital_status               0\neducation                    0\ndefault_credit               0\nhouse_loan                   0\nloan                         0\ncontact_type                 0\nmonth                        0\nday_of_week                  0\ncontact_duration             0\nnumber_of_contacts           0\ndays_passed                  0\nnumber_previous_contact      0\nprevious_campaign_outcome    0\nemp_variation_rate           0\ncpi                          0\ncci                          0\neuribor_rate                 0\nno_employees                 0\ntarget                       0\ndtype: int64"
     ]
    }
   ],
   "source": [
    "# Check for missing values\n",
    "data.isnull().sum()"
   ]
  },
  {
   "cell_type": "code",
   "execution_count": 0,
   "metadata": {
    "application/vnd.databricks.v1+cell": {
     "cellMetadata": {
      "byteLimit": 2048000,
      "rowLimit": 10000
     },
     "inputWidgets": {},
     "nuid": "d5085180-8249-448b-9c8e-892d7337420d",
     "showTitle": false,
     "title": ""
    }
   },
   "outputs": [
    {
     "output_type": "display_data",
     "data": {
      "text/html": [
       "<div>\n",
       "<style scoped>\n",
       "    .dataframe tbody tr th:only-of-type {\n",
       "        vertical-align: middle;\n",
       "    }\n",
       "\n",
       "    .dataframe tbody tr th {\n",
       "        vertical-align: top;\n",
       "    }\n",
       "\n",
       "    .dataframe thead th {\n",
       "        text-align: right;\n",
       "    }\n",
       "</style>\n",
       "<table border=\"1\" class=\"dataframe\">\n",
       "  <thead>\n",
       "    <tr style=\"text-align: right;\">\n",
       "      <th></th>\n",
       "      <th>age</th>\n",
       "      <th>job</th>\n",
       "      <th>marital_status</th>\n",
       "      <th>education</th>\n",
       "      <th>default_credit</th>\n",
       "      <th>house_loan</th>\n",
       "      <th>loan</th>\n",
       "      <th>contact_type</th>\n",
       "      <th>month</th>\n",
       "      <th>day_of_week</th>\n",
       "      <th>contact_duration</th>\n",
       "      <th>number_of_contacts</th>\n",
       "      <th>days_passed</th>\n",
       "      <th>number_previous_contact</th>\n",
       "      <th>previous_campaign_outcome</th>\n",
       "      <th>emp_variation_rate</th>\n",
       "      <th>cpi</th>\n",
       "      <th>cci</th>\n",
       "      <th>euribor_rate</th>\n",
       "      <th>no_employees</th>\n",
       "      <th>target</th>\n",
       "    </tr>\n",
       "  </thead>\n",
       "  <tbody>\n",
       "    <tr>\n",
       "      <th>1266</th>\n",
       "      <td>39</td>\n",
       "      <td>blue-collar</td>\n",
       "      <td>married</td>\n",
       "      <td>basic.6y</td>\n",
       "      <td>no</td>\n",
       "      <td>no</td>\n",
       "      <td>no</td>\n",
       "      <td>telephone</td>\n",
       "      <td>may</td>\n",
       "      <td>thu</td>\n",
       "      <td>124</td>\n",
       "      <td>1</td>\n",
       "      <td>999</td>\n",
       "      <td>0</td>\n",
       "      <td>nonexistent</td>\n",
       "      <td>1.1</td>\n",
       "      <td>93.994</td>\n",
       "      <td>-36.4</td>\n",
       "      <td>4.855</td>\n",
       "      <td>5191.0</td>\n",
       "      <td>no</td>\n",
       "    </tr>\n",
       "    <tr>\n",
       "      <th>12261</th>\n",
       "      <td>36</td>\n",
       "      <td>retired</td>\n",
       "      <td>married</td>\n",
       "      <td>unknown</td>\n",
       "      <td>no</td>\n",
       "      <td>no</td>\n",
       "      <td>no</td>\n",
       "      <td>telephone</td>\n",
       "      <td>jul</td>\n",
       "      <td>thu</td>\n",
       "      <td>88</td>\n",
       "      <td>1</td>\n",
       "      <td>999</td>\n",
       "      <td>0</td>\n",
       "      <td>nonexistent</td>\n",
       "      <td>1.4</td>\n",
       "      <td>93.918</td>\n",
       "      <td>-42.7</td>\n",
       "      <td>4.966</td>\n",
       "      <td>5228.1</td>\n",
       "      <td>no</td>\n",
       "    </tr>\n",
       "    <tr>\n",
       "      <th>14234</th>\n",
       "      <td>27</td>\n",
       "      <td>technician</td>\n",
       "      <td>single</td>\n",
       "      <td>professional.course</td>\n",
       "      <td>no</td>\n",
       "      <td>no</td>\n",
       "      <td>no</td>\n",
       "      <td>cellular</td>\n",
       "      <td>jul</td>\n",
       "      <td>mon</td>\n",
       "      <td>331</td>\n",
       "      <td>2</td>\n",
       "      <td>999</td>\n",
       "      <td>0</td>\n",
       "      <td>nonexistent</td>\n",
       "      <td>1.4</td>\n",
       "      <td>93.918</td>\n",
       "      <td>-42.7</td>\n",
       "      <td>4.962</td>\n",
       "      <td>5228.1</td>\n",
       "      <td>no</td>\n",
       "    </tr>\n",
       "    <tr>\n",
       "      <th>16956</th>\n",
       "      <td>47</td>\n",
       "      <td>technician</td>\n",
       "      <td>divorced</td>\n",
       "      <td>high.school</td>\n",
       "      <td>no</td>\n",
       "      <td>yes</td>\n",
       "      <td>no</td>\n",
       "      <td>cellular</td>\n",
       "      <td>jul</td>\n",
       "      <td>thu</td>\n",
       "      <td>43</td>\n",
       "      <td>3</td>\n",
       "      <td>999</td>\n",
       "      <td>0</td>\n",
       "      <td>nonexistent</td>\n",
       "      <td>1.4</td>\n",
       "      <td>93.918</td>\n",
       "      <td>-42.7</td>\n",
       "      <td>4.962</td>\n",
       "      <td>5228.1</td>\n",
       "      <td>no</td>\n",
       "    </tr>\n",
       "    <tr>\n",
       "      <th>18465</th>\n",
       "      <td>32</td>\n",
       "      <td>technician</td>\n",
       "      <td>single</td>\n",
       "      <td>professional.course</td>\n",
       "      <td>no</td>\n",
       "      <td>yes</td>\n",
       "      <td>no</td>\n",
       "      <td>cellular</td>\n",
       "      <td>jul</td>\n",
       "      <td>thu</td>\n",
       "      <td>128</td>\n",
       "      <td>1</td>\n",
       "      <td>999</td>\n",
       "      <td>0</td>\n",
       "      <td>nonexistent</td>\n",
       "      <td>1.4</td>\n",
       "      <td>93.918</td>\n",
       "      <td>-42.7</td>\n",
       "      <td>4.968</td>\n",
       "      <td>5228.1</td>\n",
       "      <td>no</td>\n",
       "    </tr>\n",
       "    <tr>\n",
       "      <th>20216</th>\n",
       "      <td>55</td>\n",
       "      <td>services</td>\n",
       "      <td>married</td>\n",
       "      <td>high.school</td>\n",
       "      <td>unknown</td>\n",
       "      <td>no</td>\n",
       "      <td>no</td>\n",
       "      <td>cellular</td>\n",
       "      <td>aug</td>\n",
       "      <td>mon</td>\n",
       "      <td>33</td>\n",
       "      <td>1</td>\n",
       "      <td>999</td>\n",
       "      <td>0</td>\n",
       "      <td>nonexistent</td>\n",
       "      <td>1.4</td>\n",
       "      <td>93.444</td>\n",
       "      <td>-36.1</td>\n",
       "      <td>4.965</td>\n",
       "      <td>5228.1</td>\n",
       "      <td>no</td>\n",
       "    </tr>\n",
       "    <tr>\n",
       "      <th>20534</th>\n",
       "      <td>41</td>\n",
       "      <td>technician</td>\n",
       "      <td>married</td>\n",
       "      <td>professional.course</td>\n",
       "      <td>no</td>\n",
       "      <td>yes</td>\n",
       "      <td>no</td>\n",
       "      <td>cellular</td>\n",
       "      <td>aug</td>\n",
       "      <td>tue</td>\n",
       "      <td>127</td>\n",
       "      <td>1</td>\n",
       "      <td>999</td>\n",
       "      <td>0</td>\n",
       "      <td>nonexistent</td>\n",
       "      <td>1.4</td>\n",
       "      <td>93.444</td>\n",
       "      <td>-36.1</td>\n",
       "      <td>4.966</td>\n",
       "      <td>5228.1</td>\n",
       "      <td>no</td>\n",
       "    </tr>\n",
       "    <tr>\n",
       "      <th>25217</th>\n",
       "      <td>39</td>\n",
       "      <td>admin.</td>\n",
       "      <td>married</td>\n",
       "      <td>university.degree</td>\n",
       "      <td>no</td>\n",
       "      <td>no</td>\n",
       "      <td>no</td>\n",
       "      <td>cellular</td>\n",
       "      <td>nov</td>\n",
       "      <td>tue</td>\n",
       "      <td>123</td>\n",
       "      <td>2</td>\n",
       "      <td>999</td>\n",
       "      <td>0</td>\n",
       "      <td>nonexistent</td>\n",
       "      <td>-0.1</td>\n",
       "      <td>93.200</td>\n",
       "      <td>-42.0</td>\n",
       "      <td>4.153</td>\n",
       "      <td>5195.8</td>\n",
       "      <td>no</td>\n",
       "    </tr>\n",
       "    <tr>\n",
       "      <th>28477</th>\n",
       "      <td>24</td>\n",
       "      <td>services</td>\n",
       "      <td>single</td>\n",
       "      <td>high.school</td>\n",
       "      <td>no</td>\n",
       "      <td>yes</td>\n",
       "      <td>no</td>\n",
       "      <td>cellular</td>\n",
       "      <td>apr</td>\n",
       "      <td>tue</td>\n",
       "      <td>114</td>\n",
       "      <td>1</td>\n",
       "      <td>999</td>\n",
       "      <td>0</td>\n",
       "      <td>nonexistent</td>\n",
       "      <td>-1.8</td>\n",
       "      <td>93.075</td>\n",
       "      <td>-47.1</td>\n",
       "      <td>1.423</td>\n",
       "      <td>5099.1</td>\n",
       "      <td>no</td>\n",
       "    </tr>\n",
       "    <tr>\n",
       "      <th>32516</th>\n",
       "      <td>35</td>\n",
       "      <td>admin.</td>\n",
       "      <td>married</td>\n",
       "      <td>university.degree</td>\n",
       "      <td>no</td>\n",
       "      <td>yes</td>\n",
       "      <td>no</td>\n",
       "      <td>cellular</td>\n",
       "      <td>may</td>\n",
       "      <td>fri</td>\n",
       "      <td>348</td>\n",
       "      <td>4</td>\n",
       "      <td>999</td>\n",
       "      <td>0</td>\n",
       "      <td>nonexistent</td>\n",
       "      <td>-1.8</td>\n",
       "      <td>92.893</td>\n",
       "      <td>-46.2</td>\n",
       "      <td>1.313</td>\n",
       "      <td>5099.1</td>\n",
       "      <td>no</td>\n",
       "    </tr>\n",
       "    <tr>\n",
       "      <th>36951</th>\n",
       "      <td>45</td>\n",
       "      <td>admin.</td>\n",
       "      <td>married</td>\n",
       "      <td>university.degree</td>\n",
       "      <td>no</td>\n",
       "      <td>no</td>\n",
       "      <td>no</td>\n",
       "      <td>cellular</td>\n",
       "      <td>jul</td>\n",
       "      <td>thu</td>\n",
       "      <td>252</td>\n",
       "      <td>1</td>\n",
       "      <td>999</td>\n",
       "      <td>0</td>\n",
       "      <td>nonexistent</td>\n",
       "      <td>-2.9</td>\n",
       "      <td>92.469</td>\n",
       "      <td>-33.6</td>\n",
       "      <td>1.072</td>\n",
       "      <td>5076.2</td>\n",
       "      <td>yes</td>\n",
       "    </tr>\n",
       "    <tr>\n",
       "      <th>38281</th>\n",
       "      <td>71</td>\n",
       "      <td>retired</td>\n",
       "      <td>single</td>\n",
       "      <td>university.degree</td>\n",
       "      <td>no</td>\n",
       "      <td>no</td>\n",
       "      <td>no</td>\n",
       "      <td>telephone</td>\n",
       "      <td>oct</td>\n",
       "      <td>tue</td>\n",
       "      <td>120</td>\n",
       "      <td>1</td>\n",
       "      <td>999</td>\n",
       "      <td>0</td>\n",
       "      <td>nonexistent</td>\n",
       "      <td>-3.4</td>\n",
       "      <td>92.431</td>\n",
       "      <td>-26.9</td>\n",
       "      <td>0.742</td>\n",
       "      <td>5017.5</td>\n",
       "      <td>no</td>\n",
       "    </tr>\n",
       "  </tbody>\n",
       "</table>\n",
       "</div>"
      ]
     },
     "metadata": {
      "application/vnd.databricks.v1+output": {
       "addedWidgets": {},
       "arguments": {},
       "data": "<div>\n<style scoped>\n    .dataframe tbody tr th:only-of-type {\n        vertical-align: middle;\n    }\n\n    .dataframe tbody tr th {\n        vertical-align: top;\n    }\n\n    .dataframe thead th {\n        text-align: right;\n    }\n</style>\n<table border=\"1\" class=\"dataframe\">\n  <thead>\n    <tr style=\"text-align: right;\">\n      <th></th>\n      <th>age</th>\n      <th>job</th>\n      <th>marital_status</th>\n      <th>education</th>\n      <th>default_credit</th>\n      <th>house_loan</th>\n      <th>loan</th>\n      <th>contact_type</th>\n      <th>month</th>\n      <th>day_of_week</th>\n      <th>contact_duration</th>\n      <th>number_of_contacts</th>\n      <th>days_passed</th>\n      <th>number_previous_contact</th>\n      <th>previous_campaign_outcome</th>\n      <th>emp_variation_rate</th>\n      <th>cpi</th>\n      <th>cci</th>\n      <th>euribor_rate</th>\n      <th>no_employees</th>\n      <th>target</th>\n    </tr>\n  </thead>\n  <tbody>\n    <tr>\n      <th>1266</th>\n      <td>39</td>\n      <td>blue-collar</td>\n      <td>married</td>\n      <td>basic.6y</td>\n      <td>no</td>\n      <td>no</td>\n      <td>no</td>\n      <td>telephone</td>\n      <td>may</td>\n      <td>thu</td>\n      <td>124</td>\n      <td>1</td>\n      <td>999</td>\n      <td>0</td>\n      <td>nonexistent</td>\n      <td>1.1</td>\n      <td>93.994</td>\n      <td>-36.4</td>\n      <td>4.855</td>\n      <td>5191.0</td>\n      <td>no</td>\n    </tr>\n    <tr>\n      <th>12261</th>\n      <td>36</td>\n      <td>retired</td>\n      <td>married</td>\n      <td>unknown</td>\n      <td>no</td>\n      <td>no</td>\n      <td>no</td>\n      <td>telephone</td>\n      <td>jul</td>\n      <td>thu</td>\n      <td>88</td>\n      <td>1</td>\n      <td>999</td>\n      <td>0</td>\n      <td>nonexistent</td>\n      <td>1.4</td>\n      <td>93.918</td>\n      <td>-42.7</td>\n      <td>4.966</td>\n      <td>5228.1</td>\n      <td>no</td>\n    </tr>\n    <tr>\n      <th>14234</th>\n      <td>27</td>\n      <td>technician</td>\n      <td>single</td>\n      <td>professional.course</td>\n      <td>no</td>\n      <td>no</td>\n      <td>no</td>\n      <td>cellular</td>\n      <td>jul</td>\n      <td>mon</td>\n      <td>331</td>\n      <td>2</td>\n      <td>999</td>\n      <td>0</td>\n      <td>nonexistent</td>\n      <td>1.4</td>\n      <td>93.918</td>\n      <td>-42.7</td>\n      <td>4.962</td>\n      <td>5228.1</td>\n      <td>no</td>\n    </tr>\n    <tr>\n      <th>16956</th>\n      <td>47</td>\n      <td>technician</td>\n      <td>divorced</td>\n      <td>high.school</td>\n      <td>no</td>\n      <td>yes</td>\n      <td>no</td>\n      <td>cellular</td>\n      <td>jul</td>\n      <td>thu</td>\n      <td>43</td>\n      <td>3</td>\n      <td>999</td>\n      <td>0</td>\n      <td>nonexistent</td>\n      <td>1.4</td>\n      <td>93.918</td>\n      <td>-42.7</td>\n      <td>4.962</td>\n      <td>5228.1</td>\n      <td>no</td>\n    </tr>\n    <tr>\n      <th>18465</th>\n      <td>32</td>\n      <td>technician</td>\n      <td>single</td>\n      <td>professional.course</td>\n      <td>no</td>\n      <td>yes</td>\n      <td>no</td>\n      <td>cellular</td>\n      <td>jul</td>\n      <td>thu</td>\n      <td>128</td>\n      <td>1</td>\n      <td>999</td>\n      <td>0</td>\n      <td>nonexistent</td>\n      <td>1.4</td>\n      <td>93.918</td>\n      <td>-42.7</td>\n      <td>4.968</td>\n      <td>5228.1</td>\n      <td>no</td>\n    </tr>\n    <tr>\n      <th>20216</th>\n      <td>55</td>\n      <td>services</td>\n      <td>married</td>\n      <td>high.school</td>\n      <td>unknown</td>\n      <td>no</td>\n      <td>no</td>\n      <td>cellular</td>\n      <td>aug</td>\n      <td>mon</td>\n      <td>33</td>\n      <td>1</td>\n      <td>999</td>\n      <td>0</td>\n      <td>nonexistent</td>\n      <td>1.4</td>\n      <td>93.444</td>\n      <td>-36.1</td>\n      <td>4.965</td>\n      <td>5228.1</td>\n      <td>no</td>\n    </tr>\n    <tr>\n      <th>20534</th>\n      <td>41</td>\n      <td>technician</td>\n      <td>married</td>\n      <td>professional.course</td>\n      <td>no</td>\n      <td>yes</td>\n      <td>no</td>\n      <td>cellular</td>\n      <td>aug</td>\n      <td>tue</td>\n      <td>127</td>\n      <td>1</td>\n      <td>999</td>\n      <td>0</td>\n      <td>nonexistent</td>\n      <td>1.4</td>\n      <td>93.444</td>\n      <td>-36.1</td>\n      <td>4.966</td>\n      <td>5228.1</td>\n      <td>no</td>\n    </tr>\n    <tr>\n      <th>25217</th>\n      <td>39</td>\n      <td>admin.</td>\n      <td>married</td>\n      <td>university.degree</td>\n      <td>no</td>\n      <td>no</td>\n      <td>no</td>\n      <td>cellular</td>\n      <td>nov</td>\n      <td>tue</td>\n      <td>123</td>\n      <td>2</td>\n      <td>999</td>\n      <td>0</td>\n      <td>nonexistent</td>\n      <td>-0.1</td>\n      <td>93.200</td>\n      <td>-42.0</td>\n      <td>4.153</td>\n      <td>5195.8</td>\n      <td>no</td>\n    </tr>\n    <tr>\n      <th>28477</th>\n      <td>24</td>\n      <td>services</td>\n      <td>single</td>\n      <td>high.school</td>\n      <td>no</td>\n      <td>yes</td>\n      <td>no</td>\n      <td>cellular</td>\n      <td>apr</td>\n      <td>tue</td>\n      <td>114</td>\n      <td>1</td>\n      <td>999</td>\n      <td>0</td>\n      <td>nonexistent</td>\n      <td>-1.8</td>\n      <td>93.075</td>\n      <td>-47.1</td>\n      <td>1.423</td>\n      <td>5099.1</td>\n      <td>no</td>\n    </tr>\n    <tr>\n      <th>32516</th>\n      <td>35</td>\n      <td>admin.</td>\n      <td>married</td>\n      <td>university.degree</td>\n      <td>no</td>\n      <td>yes</td>\n      <td>no</td>\n      <td>cellular</td>\n      <td>may</td>\n      <td>fri</td>\n      <td>348</td>\n      <td>4</td>\n      <td>999</td>\n      <td>0</td>\n      <td>nonexistent</td>\n      <td>-1.8</td>\n      <td>92.893</td>\n      <td>-46.2</td>\n      <td>1.313</td>\n      <td>5099.1</td>\n      <td>no</td>\n    </tr>\n    <tr>\n      <th>36951</th>\n      <td>45</td>\n      <td>admin.</td>\n      <td>married</td>\n      <td>university.degree</td>\n      <td>no</td>\n      <td>no</td>\n      <td>no</td>\n      <td>cellular</td>\n      <td>jul</td>\n      <td>thu</td>\n      <td>252</td>\n      <td>1</td>\n      <td>999</td>\n      <td>0</td>\n      <td>nonexistent</td>\n      <td>-2.9</td>\n      <td>92.469</td>\n      <td>-33.6</td>\n      <td>1.072</td>\n      <td>5076.2</td>\n      <td>yes</td>\n    </tr>\n    <tr>\n      <th>38281</th>\n      <td>71</td>\n      <td>retired</td>\n      <td>single</td>\n      <td>university.degree</td>\n      <td>no</td>\n      <td>no</td>\n      <td>no</td>\n      <td>telephone</td>\n      <td>oct</td>\n      <td>tue</td>\n      <td>120</td>\n      <td>1</td>\n      <td>999</td>\n      <td>0</td>\n      <td>nonexistent</td>\n      <td>-3.4</td>\n      <td>92.431</td>\n      <td>-26.9</td>\n      <td>0.742</td>\n      <td>5017.5</td>\n      <td>no</td>\n    </tr>\n  </tbody>\n</table>\n</div>",
       "datasetInfos": [],
       "metadata": {},
       "removedWidgets": [],
       "textData": null,
       "type": "htmlSandbox"
      }
     },
     "output_type": "display_data"
    }
   ],
   "source": [
    "# Check for duplicated data\n",
    "duplicated_rows = data[data.duplicated()]\n",
    "duplicated_rows"
   ]
  },
  {
   "cell_type": "markdown",
   "metadata": {
    "application/vnd.databricks.v1+cell": {
     "cellMetadata": {
      "byteLimit": 2048000,
      "rowLimit": 10000
     },
     "inputWidgets": {},
     "nuid": "9a40220d-33b8-40db-a8ee-f5d4dd3117c4",
     "showTitle": false,
     "title": ""
    }
   },
   "source": [
    "There are 12 duplicated rows in the dataset that need to be removed."
   ]
  },
  {
   "cell_type": "code",
   "execution_count": 0,
   "metadata": {
    "application/vnd.databricks.v1+cell": {
     "cellMetadata": {
      "byteLimit": 2048000,
      "rowLimit": 10000
     },
     "inputWidgets": {},
     "nuid": "0fbe8353-7606-4328-983c-5de84502226a",
     "showTitle": false,
     "title": ""
    }
   },
   "outputs": [],
   "source": [
    "# Remove duplicated rows\n",
    "\n",
    "data.drop_duplicates(inplace = True)"
   ]
  },
  {
   "cell_type": "code",
   "execution_count": 0,
   "metadata": {
    "application/vnd.databricks.v1+cell": {
     "cellMetadata": {
      "byteLimit": 2048000,
      "rowLimit": 10000
     },
     "inputWidgets": {},
     "nuid": "1a763b89-525b-4ad8-a9f1-2a687f96d8a3",
     "showTitle": false,
     "title": ""
    }
   },
   "outputs": [
    {
     "output_type": "stream",
     "name": "stdout",
     "output_type": "stream",
     "text": [
      "Out[33]: age                            int64\njob                           object\nmarital_status                object\neducation                     object\ndefault_credit                object\nhouse_loan                    object\nloan                          object\ncontact_type                  object\nmonth                         object\nday_of_week                   object\ncontact_duration               int64\nnumber_of_contacts             int64\ndays_passed                    int64\nnumber_previous_contact        int64\nprevious_campaign_outcome     object\nemp_variation_rate           float64\ncpi                          float64\ncci                          float64\neuribor_rate                 float64\nno_employees                 float64\ntarget                        object\ndtype: object"
     ]
    }
   ],
   "source": [
    "# Examine data types of variables\n",
    "\n",
    "data.dtypes"
   ]
  },
  {
   "cell_type": "markdown",
   "metadata": {
    "application/vnd.databricks.v1+cell": {
     "cellMetadata": {
      "byteLimit": 2048000,
      "rowLimit": 10000
     },
     "inputWidgets": {},
     "nuid": "87070db9-47cd-4ed1-a1a2-66ab1c19d4fc",
     "showTitle": false,
     "title": ""
    }
   },
   "source": [
    "It seems that the data type of the numerical features has been correctly recognized by Python. All non-numerical features have the _object_ data type, so let's  convert them to categories."
   ]
  },
  {
   "cell_type": "code",
   "execution_count": 0,
   "metadata": {
    "application/vnd.databricks.v1+cell": {
     "cellMetadata": {
      "byteLimit": 2048000,
      "rowLimit": 10000
     },
     "inputWidgets": {},
     "nuid": "efc12326-b72d-4e78-8a5c-41b96e86bf11",
     "showTitle": false,
     "title": ""
    }
   },
   "outputs": [],
   "source": [
    "# Select all variables that need to be converted\n",
    "\n",
    "to_category = ['job','marital_status','education','default_credit','house_loan', \n",
    "               'loan','contact_type','month','day_of_week', 'previous_campaign_outcome']"
   ]
  },
  {
   "cell_type": "code",
   "execution_count": 0,
   "metadata": {
    "application/vnd.databricks.v1+cell": {
     "cellMetadata": {
      "byteLimit": 2048000,
      "rowLimit": 10000
     },
     "inputWidgets": {},
     "nuid": "b07512ff-04ce-439f-9429-ad24203fb8f9",
     "showTitle": false,
     "title": ""
    }
   },
   "outputs": [],
   "source": [
    "# Convert them to the category data type\n",
    "\n",
    "for col in to_category:\n",
    "    data[col] = data[col].astype('category')"
   ]
  },
  {
   "cell_type": "markdown",
   "metadata": {
    "application/vnd.databricks.v1+cell": {
     "cellMetadata": {
      "byteLimit": 2048000,
      "rowLimit": 10000
     },
     "inputWidgets": {},
     "nuid": "768860f9-d402-4ba9-8e9a-809303ecabc2",
     "showTitle": false,
     "title": ""
    }
   },
   "source": [
    "Days and months are recorded as their abbreviations. Let's map them to their full name."
   ]
  },
  {
   "cell_type": "code",
   "execution_count": 0,
   "metadata": {
    "application/vnd.databricks.v1+cell": {
     "cellMetadata": {
      "byteLimit": 2048000,
      "rowLimit": 10000
     },
     "inputWidgets": {},
     "nuid": "4c70a1a8-53dc-4d8e-b2f5-7a420ea06031",
     "showTitle": false,
     "title": ""
    }
   },
   "outputs": [],
   "source": [
    "# Create a dictionary with original values and corresponding new values for days\n",
    "\n",
    "mapping_days = {'mon':'Monday','tue':'Tuesday','wed':'Wednesday','thu':'Thursday','fri':'Friday'}"
   ]
  },
  {
   "cell_type": "code",
   "execution_count": 0,
   "metadata": {
    "application/vnd.databricks.v1+cell": {
     "cellMetadata": {
      "byteLimit": 2048000,
      "rowLimit": 10000
     },
     "inputWidgets": {},
     "nuid": "f1e3d80c-984a-44c1-9455-92a4e1226698",
     "showTitle": false,
     "title": ""
    }
   },
   "outputs": [],
   "source": [
    "# Map the new values to the column 'day_of_week'\n",
    "\n",
    "data.day_of_week = data.day_of_week.map(mapping_days)"
   ]
  },
  {
   "cell_type": "code",
   "execution_count": 0,
   "metadata": {
    "application/vnd.databricks.v1+cell": {
     "cellMetadata": {
      "byteLimit": 2048000,
      "rowLimit": 10000
     },
     "inputWidgets": {},
     "nuid": "44afd9f9-f8c9-4ea0-80e5-fd6ab07dbd8a",
     "showTitle": false,
     "title": ""
    }
   },
   "outputs": [],
   "source": [
    "# Create a dictionary with the original values and the corresponding new values for the months\n",
    "\n",
    "mapping_months = {'mar':'March', 'apr':'April','may':'May','jun':'Jun','jul':'Jul','aug':'August',\n",
    "                  'sep':'September','oct':'October','nov':'November','dec':'December'}"
   ]
  },
  {
   "cell_type": "code",
   "execution_count": 0,
   "metadata": {
    "application/vnd.databricks.v1+cell": {
     "cellMetadata": {
      "byteLimit": 2048000,
      "rowLimit": 10000
     },
     "inputWidgets": {},
     "nuid": "16c4c09f-82c3-486d-b938-bd53c289dd87",
     "showTitle": false,
     "title": ""
    }
   },
   "outputs": [],
   "source": [
    "# Map the new values to the column 'month'\n",
    "data.month = data.month.map(mapping_months)"
   ]
  },
  {
   "cell_type": "markdown",
   "metadata": {
    "application/vnd.databricks.v1+cell": {
     "cellMetadata": {
      "byteLimit": 2048000,
      "rowLimit": 10000
     },
     "inputWidgets": {},
     "nuid": "deb48112-e801-48ea-bed0-0eaadf5c989a",
     "showTitle": false,
     "title": ""
    }
   },
   "source": [
    "## 5.2 Numerical variables\n",
    "\n",
    "Let's start with the numerical features and explore the distribution of the data points."
   ]
  },
  {
   "cell_type": "code",
   "execution_count": 0,
   "metadata": {
    "application/vnd.databricks.v1+cell": {
     "cellMetadata": {
      "byteLimit": 2048000,
      "rowLimit": 10000
     },
     "inputWidgets": {},
     "nuid": "c4e79be8-56a4-416c-9897-eb5c1f289d39",
     "showTitle": false,
     "title": ""
    }
   },
   "outputs": [],
   "source": [
    "# TASK 6 >>> Create a histogram of 'age' variable\n",
    "#        >>> Set parameters: height = 6.5, aspect = 1.3\n",
    "#        >>> Set the number of bins to 25\n",
    "#        >>> Set the title: 'Age distribution'"
   ]
  },
  {
   "cell_type": "code",
   "execution_count": 0,
   "metadata": {
    "application/vnd.databricks.v1+cell": {
     "cellMetadata": {
      "byteLimit": 2048000,
      "rowLimit": 10000
     },
     "inputWidgets": {},
     "nuid": "adfeeae4-90ff-4508-a2ed-b85f3a972646",
     "showTitle": false,
     "title": ""
    }
   },
   "outputs": [],
   "source": [
    "# TASK 7 >>> Create a boxplot of the 'age' feature\n",
    "#        >>> Set a the figure size to (13,9)\n",
    "#        >>> Assign variable 'age' to the y parameter\n",
    "#        >>> Set the width of the boxplot to 0.3"
   ]
  },
  {
   "cell_type": "markdown",
   "metadata": {
    "application/vnd.databricks.v1+cell": {
     "cellMetadata": {
      "byteLimit": 2048000,
      "rowLimit": 10000
     },
     "inputWidgets": {},
     "nuid": "e27bb59f-c040-406b-b31c-5bbb78c06854",
     "showTitle": false,
     "title": ""
    }
   },
   "source": [
    "The values of the feature 'contact_duration' are recorded in seconds. Run the line below to convert them to minutes."
   ]
  },
  {
   "cell_type": "code",
   "execution_count": 0,
   "metadata": {
    "application/vnd.databricks.v1+cell": {
     "cellMetadata": {
      "byteLimit": 2048000,
      "rowLimit": 10000
     },
     "inputWidgets": {},
     "nuid": "0b2c1ce4-4543-4e90-9a1b-2515a5464ca1",
     "showTitle": false,
     "title": ""
    }
   },
   "outputs": [],
   "source": [
    "# Converting seconds to minutes\n",
    "data.contact_duration = data.contact_duration.apply(lambda x: x / 60)"
   ]
  },
  {
   "cell_type": "code",
   "execution_count": 0,
   "metadata": {
    "application/vnd.databricks.v1+cell": {
     "cellMetadata": {
      "byteLimit": 2048000,
      "rowLimit": 10000
     },
     "inputWidgets": {},
     "nuid": "50fe32f4-6920-4853-b42a-cb93bd54a8e1",
     "showTitle": false,
     "title": ""
    }
   },
   "outputs": [],
   "source": [
    "# TASK 8 >>> Create a histogram of 'contact_duration'\n",
    "#        >>> Set the width of the bins to 0.5, so every bin contains a call duration of 50 seconds"
   ]
  },
  {
   "cell_type": "markdown",
   "metadata": {
    "application/vnd.databricks.v1+cell": {
     "cellMetadata": {
      "byteLimit": 2048000,
      "rowLimit": 10000
     },
     "inputWidgets": {},
     "nuid": "c75843c9-0089-4512-9135-5c564509d410",
     "showTitle": false,
     "title": ""
    }
   },
   "source": [
    "There are some records where no call was performed, so the corresponding values are of value 0. \n",
    "Let's take a look at the rows with no recorded duration. We will drop them since they do not provide us with any useful information."
   ]
  },
  {
   "cell_type": "code",
   "execution_count": 0,
   "metadata": {
    "application/vnd.databricks.v1+cell": {
     "cellMetadata": {
      "byteLimit": 2048000,
      "rowLimit": 10000
     },
     "inputWidgets": {},
     "nuid": "76827d7e-2773-4bdf-9714-d1d4b72965eb",
     "showTitle": false,
     "title": ""
    }
   },
   "outputs": [
    {
     "output_type": "display_data",
     "data": {
      "text/html": [
       "<div>\n",
       "<style scoped>\n",
       "    .dataframe tbody tr th:only-of-type {\n",
       "        vertical-align: middle;\n",
       "    }\n",
       "\n",
       "    .dataframe tbody tr th {\n",
       "        vertical-align: top;\n",
       "    }\n",
       "\n",
       "    .dataframe thead th {\n",
       "        text-align: right;\n",
       "    }\n",
       "</style>\n",
       "<table border=\"1\" class=\"dataframe\">\n",
       "  <thead>\n",
       "    <tr style=\"text-align: right;\">\n",
       "      <th></th>\n",
       "      <th>age</th>\n",
       "      <th>job</th>\n",
       "      <th>marital_status</th>\n",
       "      <th>education</th>\n",
       "      <th>default_credit</th>\n",
       "      <th>house_loan</th>\n",
       "      <th>loan</th>\n",
       "      <th>contact_type</th>\n",
       "      <th>month</th>\n",
       "      <th>day_of_week</th>\n",
       "      <th>contact_duration</th>\n",
       "      <th>number_of_contacts</th>\n",
       "      <th>days_passed</th>\n",
       "      <th>number_previous_contact</th>\n",
       "      <th>previous_campaign_outcome</th>\n",
       "      <th>emp_variation_rate</th>\n",
       "      <th>cpi</th>\n",
       "      <th>cci</th>\n",
       "      <th>euribor_rate</th>\n",
       "      <th>no_employees</th>\n",
       "      <th>target</th>\n",
       "    </tr>\n",
       "  </thead>\n",
       "  <tbody>\n",
       "    <tr>\n",
       "      <th>6251</th>\n",
       "      <td>39</td>\n",
       "      <td>admin.</td>\n",
       "      <td>married</td>\n",
       "      <td>high.school</td>\n",
       "      <td>no</td>\n",
       "      <td>yes</td>\n",
       "      <td>no</td>\n",
       "      <td>telephone</td>\n",
       "      <td>May</td>\n",
       "      <td>Tuesday</td>\n",
       "      <td>0.0</td>\n",
       "      <td>4</td>\n",
       "      <td>999</td>\n",
       "      <td>0</td>\n",
       "      <td>nonexistent</td>\n",
       "      <td>1.1</td>\n",
       "      <td>93.994</td>\n",
       "      <td>-36.4</td>\n",
       "      <td>4.857</td>\n",
       "      <td>5191.0</td>\n",
       "      <td>no</td>\n",
       "    </tr>\n",
       "    <tr>\n",
       "      <th>23031</th>\n",
       "      <td>59</td>\n",
       "      <td>management</td>\n",
       "      <td>married</td>\n",
       "      <td>university.degree</td>\n",
       "      <td>no</td>\n",
       "      <td>yes</td>\n",
       "      <td>no</td>\n",
       "      <td>cellular</td>\n",
       "      <td>August</td>\n",
       "      <td>Tuesday</td>\n",
       "      <td>0.0</td>\n",
       "      <td>10</td>\n",
       "      <td>999</td>\n",
       "      <td>0</td>\n",
       "      <td>nonexistent</td>\n",
       "      <td>1.4</td>\n",
       "      <td>93.444</td>\n",
       "      <td>-36.1</td>\n",
       "      <td>4.965</td>\n",
       "      <td>5228.1</td>\n",
       "      <td>no</td>\n",
       "    </tr>\n",
       "    <tr>\n",
       "      <th>28063</th>\n",
       "      <td>53</td>\n",
       "      <td>blue-collar</td>\n",
       "      <td>divorced</td>\n",
       "      <td>high.school</td>\n",
       "      <td>no</td>\n",
       "      <td>yes</td>\n",
       "      <td>no</td>\n",
       "      <td>cellular</td>\n",
       "      <td>April</td>\n",
       "      <td>Friday</td>\n",
       "      <td>0.0</td>\n",
       "      <td>3</td>\n",
       "      <td>999</td>\n",
       "      <td>0</td>\n",
       "      <td>nonexistent</td>\n",
       "      <td>-1.8</td>\n",
       "      <td>93.075</td>\n",
       "      <td>-47.1</td>\n",
       "      <td>1.479</td>\n",
       "      <td>5099.1</td>\n",
       "      <td>no</td>\n",
       "    </tr>\n",
       "    <tr>\n",
       "      <th>33015</th>\n",
       "      <td>31</td>\n",
       "      <td>blue-collar</td>\n",
       "      <td>married</td>\n",
       "      <td>basic.9y</td>\n",
       "      <td>no</td>\n",
       "      <td>no</td>\n",
       "      <td>no</td>\n",
       "      <td>cellular</td>\n",
       "      <td>May</td>\n",
       "      <td>Monday</td>\n",
       "      <td>0.0</td>\n",
       "      <td>2</td>\n",
       "      <td>999</td>\n",
       "      <td>0</td>\n",
       "      <td>nonexistent</td>\n",
       "      <td>-1.8</td>\n",
       "      <td>92.893</td>\n",
       "      <td>-46.2</td>\n",
       "      <td>1.299</td>\n",
       "      <td>5099.1</td>\n",
       "      <td>no</td>\n",
       "    </tr>\n",
       "  </tbody>\n",
       "</table>\n",
       "</div>"
      ]
     },
     "metadata": {
      "application/vnd.databricks.v1+output": {
       "addedWidgets": {},
       "arguments": {},
       "data": "<div>\n<style scoped>\n    .dataframe tbody tr th:only-of-type {\n        vertical-align: middle;\n    }\n\n    .dataframe tbody tr th {\n        vertical-align: top;\n    }\n\n    .dataframe thead th {\n        text-align: right;\n    }\n</style>\n<table border=\"1\" class=\"dataframe\">\n  <thead>\n    <tr style=\"text-align: right;\">\n      <th></th>\n      <th>age</th>\n      <th>job</th>\n      <th>marital_status</th>\n      <th>education</th>\n      <th>default_credit</th>\n      <th>house_loan</th>\n      <th>loan</th>\n      <th>contact_type</th>\n      <th>month</th>\n      <th>day_of_week</th>\n      <th>contact_duration</th>\n      <th>number_of_contacts</th>\n      <th>days_passed</th>\n      <th>number_previous_contact</th>\n      <th>previous_campaign_outcome</th>\n      <th>emp_variation_rate</th>\n      <th>cpi</th>\n      <th>cci</th>\n      <th>euribor_rate</th>\n      <th>no_employees</th>\n      <th>target</th>\n    </tr>\n  </thead>\n  <tbody>\n    <tr>\n      <th>6251</th>\n      <td>39</td>\n      <td>admin.</td>\n      <td>married</td>\n      <td>high.school</td>\n      <td>no</td>\n      <td>yes</td>\n      <td>no</td>\n      <td>telephone</td>\n      <td>May</td>\n      <td>Tuesday</td>\n      <td>0.0</td>\n      <td>4</td>\n      <td>999</td>\n      <td>0</td>\n      <td>nonexistent</td>\n      <td>1.1</td>\n      <td>93.994</td>\n      <td>-36.4</td>\n      <td>4.857</td>\n      <td>5191.0</td>\n      <td>no</td>\n    </tr>\n    <tr>\n      <th>23031</th>\n      <td>59</td>\n      <td>management</td>\n      <td>married</td>\n      <td>university.degree</td>\n      <td>no</td>\n      <td>yes</td>\n      <td>no</td>\n      <td>cellular</td>\n      <td>August</td>\n      <td>Tuesday</td>\n      <td>0.0</td>\n      <td>10</td>\n      <td>999</td>\n      <td>0</td>\n      <td>nonexistent</td>\n      <td>1.4</td>\n      <td>93.444</td>\n      <td>-36.1</td>\n      <td>4.965</td>\n      <td>5228.1</td>\n      <td>no</td>\n    </tr>\n    <tr>\n      <th>28063</th>\n      <td>53</td>\n      <td>blue-collar</td>\n      <td>divorced</td>\n      <td>high.school</td>\n      <td>no</td>\n      <td>yes</td>\n      <td>no</td>\n      <td>cellular</td>\n      <td>April</td>\n      <td>Friday</td>\n      <td>0.0</td>\n      <td>3</td>\n      <td>999</td>\n      <td>0</td>\n      <td>nonexistent</td>\n      <td>-1.8</td>\n      <td>93.075</td>\n      <td>-47.1</td>\n      <td>1.479</td>\n      <td>5099.1</td>\n      <td>no</td>\n    </tr>\n    <tr>\n      <th>33015</th>\n      <td>31</td>\n      <td>blue-collar</td>\n      <td>married</td>\n      <td>basic.9y</td>\n      <td>no</td>\n      <td>no</td>\n      <td>no</td>\n      <td>cellular</td>\n      <td>May</td>\n      <td>Monday</td>\n      <td>0.0</td>\n      <td>2</td>\n      <td>999</td>\n      <td>0</td>\n      <td>nonexistent</td>\n      <td>-1.8</td>\n      <td>92.893</td>\n      <td>-46.2</td>\n      <td>1.299</td>\n      <td>5099.1</td>\n      <td>no</td>\n    </tr>\n  </tbody>\n</table>\n</div>",
       "datasetInfos": [],
       "metadata": {},
       "removedWidgets": [],
       "textData": null,
       "type": "htmlSandbox"
      }
     },
     "output_type": "display_data"
    }
   ],
   "source": [
    "# Print only those rows where 'contact_duration' is 0\n",
    "data[data['contact_duration'] == 0]"
   ]
  },
  {
   "cell_type": "code",
   "execution_count": 0,
   "metadata": {
    "application/vnd.databricks.v1+cell": {
     "cellMetadata": {
      "byteLimit": 2048000,
      "rowLimit": 10000
     },
     "inputWidgets": {},
     "nuid": "75683a4a-78b5-47f6-9a6e-51ac7773f804",
     "showTitle": false,
     "title": ""
    }
   },
   "outputs": [],
   "source": [
    "# Get the index of rows that should be dropped\n",
    "index_rows_to_drop = data[data['contact_duration'] == 0].index"
   ]
  },
  {
   "cell_type": "code",
   "execution_count": 0,
   "metadata": {
    "application/vnd.databricks.v1+cell": {
     "cellMetadata": {
      "byteLimit": 2048000,
      "rowLimit": 10000
     },
     "inputWidgets": {},
     "nuid": "a26e6e98-deb7-4ffe-8a96-de6ac56b5cbc",
     "showTitle": false,
     "title": ""
    }
   },
   "outputs": [],
   "source": [
    "# Drop these rows from the dataframe\n",
    "data.drop(index_rows_to_drop, inplace = True)"
   ]
  },
  {
   "cell_type": "code",
   "execution_count": 0,
   "metadata": {
    "application/vnd.databricks.v1+cell": {
     "cellMetadata": {
      "byteLimit": 2048000,
      "rowLimit": 10000
     },
     "inputWidgets": {},
     "nuid": "6ba7c8a2-83d6-4ea5-b471-50ad0da79e7e",
     "showTitle": false,
     "title": ""
    }
   },
   "outputs": [],
   "source": [
    "# TASK 9 >>> Recreate a histogram of 'contact_duration'\n",
    "#        >>> Set parameters: height = 6.5, aspect = 1.3\n",
    "#        >>> Zoom in and set the x-axis limit from 0.5 to 25 minutes\n",
    "#        >>> Set the title: 'Call duration up to 25 min'"
   ]
  },
  {
   "cell_type": "markdown",
   "metadata": {
    "application/vnd.databricks.v1+cell": {
     "cellMetadata": {
      "byteLimit": 2048000,
      "rowLimit": 10000
     },
     "inputWidgets": {},
     "nuid": "3fe8cc0d-4962-45db-a792-7eccc2ae18c3",
     "showTitle": false,
     "title": ""
    }
   },
   "source": [
    "We already saw that the distribution of data points can be visualized using a stripplot. When we plotted some feature of the penguins dataset, we could nicely observe each data point in the figure and there was minimal overlap of values. Now we create a stripplot of the 'contact_duration' feature from the Bank marketing dataset to see how a stripplot looks like when you have thousands of records available."
   ]
  },
  {
   "cell_type": "code",
   "execution_count": 0,
   "metadata": {
    "application/vnd.databricks.v1+cell": {
     "cellMetadata": {
      "byteLimit": 2048000,
      "rowLimit": 10000
     },
     "inputWidgets": {},
     "nuid": "3e9484b4-ba32-421c-8c48-10e332e5e2c9",
     "showTitle": false,
     "title": ""
    }
   },
   "outputs": [],
   "source": [
    "# TASK 10 >>> Create a stripplot of the 'contact_duration' feature\n",
    "#         >>> Set a Figure size: (13,9)"
   ]
  },
  {
   "cell_type": "markdown",
   "metadata": {
    "application/vnd.databricks.v1+cell": {
     "cellMetadata": {
      "byteLimit": 2048000,
      "rowLimit": 10000
     },
     "inputWidgets": {},
     "nuid": "529188b7-5e00-44e0-b41c-f8b74510839c",
     "showTitle": false,
     "title": ""
    }
   },
   "source": [
    "## 5.3 Categorical variables"
   ]
  },
  {
   "cell_type": "code",
   "execution_count": 0,
   "metadata": {
    "application/vnd.databricks.v1+cell": {
     "cellMetadata": {
      "byteLimit": 2048000,
      "rowLimit": 10000
     },
     "inputWidgets": {},
     "nuid": "cb175f94-20d3-4a1f-9886-5c514591e77f",
     "showTitle": false,
     "title": ""
    }
   },
   "outputs": [],
   "source": [
    "# TASK 11 >>> Create a countplot of the 'job' feature to see the client's job and corresponding counts\n",
    "#         >>> Set a the figure size to (13,9)\n",
    "#         >>> Order the counts by the most common job\n",
    "#         >>> Set the rotation of x-axis tick labels to 45 degrees using Matplotlib's xticks()\n",
    "#         >>> Set the color palette to 'Set3'"
   ]
  },
  {
   "cell_type": "markdown",
   "metadata": {
    "application/vnd.databricks.v1+cell": {
     "cellMetadata": {
      "byteLimit": 2048000,
      "rowLimit": 10000
     },
     "inputWidgets": {},
     "nuid": "c5afcc0c-6f52-4c37-9627-2aac26646dc2",
     "showTitle": false,
     "title": ""
    }
   },
   "source": [
    "Now we'll look at how many calls have been performed during the respective months. We are missing January in the dataset for some reason, but don't worry about it. To correctly visualize the months of the year we need to specify their order."
   ]
  },
  {
   "cell_type": "code",
   "execution_count": 0,
   "metadata": {
    "application/vnd.databricks.v1+cell": {
     "cellMetadata": {
      "byteLimit": 2048000,
      "rowLimit": 10000
     },
     "inputWidgets": {},
     "nuid": "0368025f-b1eb-4e6c-94fe-5498e8e69f42",
     "showTitle": false,
     "title": ""
    }
   },
   "outputs": [],
   "source": [
    "# Unique categories\n",
    "month_order = ['February','March','April','May','Jun','Jul','August','September','October','November','December']"
   ]
  },
  {
   "cell_type": "code",
   "execution_count": 0,
   "metadata": {
    "application/vnd.databricks.v1+cell": {
     "cellMetadata": {
      "byteLimit": 2048000,
      "rowLimit": 10000
     },
     "inputWidgets": {},
     "nuid": "146c2c6f-ae6c-4a60-8911-373f8936bf64",
     "showTitle": false,
     "title": ""
    }
   },
   "outputs": [],
   "source": [
    "# Creating CategoricalDtype\n",
    "order_cat = pd.api.types.CategoricalDtype(categories = month_order, ordered = True)"
   ]
  },
  {
   "cell_type": "code",
   "execution_count": 0,
   "metadata": {
    "application/vnd.databricks.v1+cell": {
     "cellMetadata": {
      "byteLimit": 2048000,
      "rowLimit": 10000
     },
     "inputWidgets": {},
     "nuid": "26e2841c-a9a5-43d1-9655-fdedc60345cb",
     "showTitle": false,
     "title": ""
    }
   },
   "outputs": [],
   "source": [
    "# Change data type of month variable as order_cat data type\n",
    "data.month = data.month.astype(order_cat)"
   ]
  },
  {
   "cell_type": "code",
   "execution_count": 0,
   "metadata": {
    "application/vnd.databricks.v1+cell": {
     "cellMetadata": {
      "byteLimit": 2048000,
      "rowLimit": 10000
     },
     "inputWidgets": {},
     "nuid": "51fb1b74-9964-4349-85b9-d1d0fc5f24ac",
     "showTitle": false,
     "title": ""
    }
   },
   "outputs": [],
   "source": [
    "# TASK 12 >>> Create a countplot of 'month' variable to see how many calls have been performed through the months\n",
    "#         >>> Set the figure size to (13,9)\n",
    "#         >>> Set the color palette to 'Pastel1'\n",
    "#         >>> Set the rotation of x-axis tick labels to 45 degrees using Matplotlib's xticks()"
   ]
  },
  {
   "cell_type": "markdown",
   "metadata": {
    "application/vnd.databricks.v1+cell": {
     "cellMetadata": {
      "byteLimit": 2048000,
      "rowLimit": 10000
     },
     "inputWidgets": {},
     "nuid": "271d6e1d-a2db-42bc-9aff-2bd5eeb68b3e",
     "showTitle": false,
     "title": ""
    }
   },
   "source": [
    "## Citation request:\n",
    "\n",
    "[Moro et al., 2014] S. Moro, P. Cortez and P. Rita. A Data-Driven Approach to Predict the Success of Bank Telemarketing. Decision Support Systems, Elsevier, 62:22-31, June 2014\n",
    "\n",
    "Material adapted for RBI internal purposes with full permissions from original authors. [Source](https://github.com/zatkopatrik/authentic-data-science)"
   ]
  }
 ],
 "metadata": {
  "application/vnd.databricks.v1+notebook": {
   "dashboards": [],
   "language": "python",
   "notebookMetadata": {
    "pythonIndentUnit": 4
   },
   "notebookName": "3_Univariate_Analysis_with_Seaborn",
   "notebookOrigID": 706562957546670,
   "widgets": {}
  }
 },
 "nbformat": 4,
 "nbformat_minor": 0
}
