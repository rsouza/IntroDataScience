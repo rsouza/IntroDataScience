{
 "cells": [
  {
   "cell_type": "markdown",
   "metadata": {
    "application/vnd.databricks.v1+cell": {
     "cellMetadata": {},
     "inputWidgets": {},
     "nuid": "fa3266a0-7871-4b2d-80fa-edd5505961aa",
     "showTitle": false,
     "title": ""
    }
   },
   "source": [
    "# Mechanics of plotting in Matplotlib\n",
    "\n",
    "Now that we have worked with Pandas visualisation we will start getting to know\n",
    "[Matplotlib](https://matplotlib.org/), the library underlying the Pandas plotting tools. \n",
    "For this we will import the `matplotlib` package along with `pyplot` module and give it the alias `plt` which is the naming convention for this module. \n",
    "[Here](https://matplotlib.org/stable/api/pyplot_summary.html) you can see all of the functions available in this module. But don't worry, you are not supposed to memorize all of them."
   ]
  },
  {
   "cell_type": "code",
   "execution_count": 0,
   "metadata": {
    "application/vnd.databricks.v1+cell": {
     "cellMetadata": {
      "byteLimit": 2048000,
      "rowLimit": 10000
     },
     "inputWidgets": {},
     "nuid": "ac7b386c-3855-4070-ad9c-32a2c277ca9d",
     "showTitle": false,
     "title": ""
    }
   },
   "outputs": [],
   "source": [
    "# Import Matplotlib package and pyplot module\n",
    "import matplotlib.pyplot as plt\n",
    "\n",
    "# Import Pandas and Numpy libraries\n",
    "import pandas as pd\n",
    "import numpy as np"
   ]
  },
  {
   "cell_type": "markdown",
   "metadata": {
    "application/vnd.databricks.v1+cell": {
     "cellMetadata": {},
     "inputWidgets": {},
     "nuid": "9251e76c-12b1-49d9-b3f8-5f80de99253b",
     "showTitle": false,
     "title": ""
    }
   },
   "source": [
    "# 1. Style sheets\n",
    "\n",
    "Matplotlib offer several types of style sheets you can use. [Here is a showcase](https://matplotlib.org/stable/gallery/style_sheets/style_sheets_reference.html) of various style sheets applied to some common plots. It is also possible to create your own custom style for which you can define attributes such as the size of labels or markers, etc. To return all available style sheets, run the code below. Feel free to explore them."
   ]
  },
  {
   "cell_type": "code",
   "execution_count": 0,
   "metadata": {
    "application/vnd.databricks.v1+cell": {
     "cellMetadata": {
      "byteLimit": 2048000,
      "rowLimit": 10000
     },
     "inputWidgets": {},
     "nuid": "1f02d883-1651-4f65-a7ca-23cb5aa855d6",
     "showTitle": false,
     "title": ""
    }
   },
   "outputs": [],
   "source": [
    "# Available style sheets\n",
    "print(plt.style.available)"
   ]
  },
  {
   "cell_type": "code",
   "execution_count": 0,
   "metadata": {
    "application/vnd.databricks.v1+cell": {
     "cellMetadata": {
      "byteLimit": 2048000,
      "rowLimit": 10000
     },
     "inputWidgets": {},
     "nuid": "43e3e091-47ce-4176-a487-30635122057b",
     "showTitle": false,
     "title": ""
    }
   },
   "outputs": [],
   "source": [
    "# Setting a style \n",
    "plt.style.use('default')"
   ]
  },
  {
   "cell_type": "markdown",
   "metadata": {
    "application/vnd.databricks.v1+cell": {
     "cellMetadata": {},
     "inputWidgets": {},
     "nuid": "cafc8389-29a7-4c6c-9518-6d43afa06b44",
     "showTitle": false,
     "title": ""
    }
   },
   "source": [
    "# 2. Figure object and creating subplots\n",
    "\n",
    "Matplotlib draw data on a\n",
    "[Figure object](https://matplotlib.org/stable/api/figure_api.html). \n",
    "Any such Figure object can contain 1 or more Axes."
   ]
  },
  {
   "cell_type": "code",
   "execution_count": 0,
   "metadata": {
    "application/vnd.databricks.v1+cell": {
     "cellMetadata": {
      "byteLimit": 2048000,
      "rowLimit": 10000
     },
     "inputWidgets": {},
     "nuid": "9b3b37c6-d315-4c98-ac08-30358b6edaf7",
     "showTitle": false,
     "title": ""
    }
   },
   "outputs": [],
   "source": [
    "# Create a Figure object\n",
    "fig = plt.figure()"
   ]
  },
  {
   "cell_type": "markdown",
   "metadata": {
    "application/vnd.databricks.v1+cell": {
     "cellMetadata": {},
     "inputWidgets": {},
     "nuid": "9a8d5992-d87f-40d7-88c9-f3b9b080d52f",
     "showTitle": false,
     "title": ""
    }
   },
   "source": [
    "For creating a new Figure object we can use\n",
    "[`plt.figure()`](https://matplotlib.org/stable/api/_as_gen/matplotlib.pyplot.figure.html) \n",
    "which accepts several parameters. \n",
    "We see that the created Figure object is of size 432x288 which represents the width and height in inches (6.4x4.8 by default). \n",
    "We can change the size of the figure using the `figsize` parameter where we define the desired size in the form of a tuple."
   ]
  },
  {
   "cell_type": "code",
   "execution_count": 0,
   "metadata": {
    "application/vnd.databricks.v1+cell": {
     "cellMetadata": {
      "byteLimit": 2048000,
      "rowLimit": 10000
     },
     "inputWidgets": {},
     "nuid": "5911a5fc-fde7-4432-8e8a-4d09f529c025",
     "showTitle": false,
     "title": ""
    }
   },
   "outputs": [],
   "source": [
    "fig = plt.figure(figsize=(20,15))"
   ]
  },
  {
   "cell_type": "markdown",
   "metadata": {
    "application/vnd.databricks.v1+cell": {
     "cellMetadata": {},
     "inputWidgets": {},
     "nuid": "d8de341f-96c9-46f5-8bc1-a67b2961f870",
     "showTitle": false,
     "title": ""
    }
   },
   "source": [
    "The size of the Figure object has changed to 1440x1080. Notice that our figure does not contain any axes so far. To generate a single Axes object or multiple subplots we can use \n",
    "[`plt.subplots()`](https://matplotlib.org/stable/api/_as_gen/matplotlib.pyplot.subplots.html)."
   ]
  },
  {
   "cell_type": "code",
   "execution_count": 0,
   "metadata": {
    "application/vnd.databricks.v1+cell": {
     "cellMetadata": {
      "byteLimit": 2048000,
      "rowLimit": 10000
     },
     "inputWidgets": {},
     "nuid": "1132c520-34af-4150-872e-c5edf09d687e",
     "showTitle": false,
     "title": ""
    }
   },
   "outputs": [],
   "source": [
    "# Create a single Figure object and Axes object (subplot)\n",
    "fig, ax = plt.subplots()\n",
    "type(ax)"
   ]
  },
  {
   "cell_type": "markdown",
   "metadata": {
    "application/vnd.databricks.v1+cell": {
     "cellMetadata": {},
     "inputWidgets": {},
     "nuid": "ad112ca4-59d3-4404-8507-9e2d58748dc3",
     "showTitle": false,
     "title": ""
    }
   },
   "source": [
    "We have created a\n",
    "[Figure object](https://matplotlib.org/stable/api/figure_api.html)\n",
    "within which there is an\n",
    "[Axes object](https://matplotlib.org/stable/api/_as_gen/matplotlib.axes.Axes.html)\n",
    "labeled as AxesSubplot. \n",
    "Now that we have created an Axes object you can see the change of the figure size."
   ]
  },
  {
   "cell_type": "code",
   "execution_count": 0,
   "metadata": {
    "application/vnd.databricks.v1+cell": {
     "cellMetadata": {
      "byteLimit": 2048000,
      "rowLimit": 10000
     },
     "inputWidgets": {},
     "nuid": "dd3c2044-b06b-495a-8f8e-cdbe3f0d1255",
     "showTitle": false,
     "title": ""
    }
   },
   "outputs": [],
   "source": [
    "# Customize the Figure object size\n",
    "fig, ax = plt.subplots(figsize=(10,10))"
   ]
  },
  {
   "cell_type": "markdown",
   "metadata": {
    "application/vnd.databricks.v1+cell": {
     "cellMetadata": {},
     "inputWidgets": {},
     "nuid": "5cdbc3e9-2e6e-4a2a-9bdc-c60d73227e33",
     "showTitle": false,
     "title": ""
    }
   },
   "source": [
    "To generate a set of multiple subplots we define the particular number of rows and columns. For example, if we would like to have 6 subplots while 3 of them should be in one row we would write it like you can see below:"
   ]
  },
  {
   "cell_type": "code",
   "execution_count": 0,
   "metadata": {
    "application/vnd.databricks.v1+cell": {
     "cellMetadata": {
      "byteLimit": 2048000,
      "rowLimit": 10000
     },
     "inputWidgets": {},
     "nuid": "5d61f8da-fc71-400a-a30c-4ade581d4420",
     "showTitle": false,
     "title": ""
    }
   },
   "outputs": [],
   "source": [
    "# Create 6 subplots\n",
    "fig, ax = plt.subplots(2,3)"
   ]
  },
  {
   "cell_type": "markdown",
   "metadata": {
    "application/vnd.databricks.v1+cell": {
     "cellMetadata": {},
     "inputWidgets": {},
     "nuid": "faf9c9ba-08d9-4388-85da-b8a21edc498a",
     "showTitle": false,
     "title": ""
    }
   },
   "source": [
    "Our subplots are now overlapping. \n",
    "But we can easily adjust spacing between the Figure edge and subplots' edges using\n",
    "[`plt.tight_layout()`](https://matplotlib.org/stable/api/_as_gen/matplotlib.pyplot.tight_layout.html)."
   ]
  },
  {
   "cell_type": "code",
   "execution_count": 0,
   "metadata": {
    "application/vnd.databricks.v1+cell": {
     "cellMetadata": {
      "byteLimit": 2048000,
      "rowLimit": 10000
     },
     "inputWidgets": {},
     "nuid": "b681b807-268a-4216-afda-1ff012bb9f75",
     "showTitle": false,
     "title": ""
    }
   },
   "outputs": [],
   "source": [
    "fig, ax = plt.subplots(2,3)\n",
    "plt.tight_layout()"
   ]
  },
  {
   "cell_type": "markdown",
   "metadata": {
    "application/vnd.databricks.v1+cell": {
     "cellMetadata": {},
     "inputWidgets": {},
     "nuid": "f03e50c1-38c4-4d5d-a64b-184634126f5a",
     "showTitle": false,
     "title": ""
    }
   },
   "source": [
    "[`plt.tight_layout()`](https://matplotlib.org/stable/api/_as_gen/matplotlib.pyplot.tight_layout.html)\n",
    "can take parameters such `h_pad` and `w_pad` to customize spacing between edges of adjacent subplots."
   ]
  },
  {
   "cell_type": "code",
   "execution_count": 0,
   "metadata": {
    "application/vnd.databricks.v1+cell": {
     "cellMetadata": {
      "byteLimit": 2048000,
      "rowLimit": 10000
     },
     "inputWidgets": {},
     "nuid": "adce4eaa-81ec-4734-923e-4874667e54d4",
     "showTitle": false,
     "title": ""
    }
   },
   "outputs": [],
   "source": [
    "fig, ax = plt.subplots(2,3)\n",
    "plt.tight_layout(h_pad = 0.7, w_pad = 3)"
   ]
  },
  {
   "cell_type": "markdown",
   "metadata": {
    "application/vnd.databricks.v1+cell": {
     "cellMetadata": {},
     "inputWidgets": {},
     "nuid": "0c8961db-215a-43af-b70f-28b2010f23e7",
     "showTitle": false,
     "title": ""
    }
   },
   "source": [
    "# 3. Two faces of Matplotlib\n",
    "\n",
    "1. [**MATLAB-style interface**](https://matplotlib.org/stable/users/explain/figure/api_interfaces.html#the-implicit-pyplot-interface)\n",
    "At the beginning, Matplotlib was originally created in Python as an alternative to MATLAB. Since the plotting style of MATLAB is within the pyplot (plt) interface, some of its syntax is reflected also in Matplotlib.  \n",
    "\n",
    "\n",
    "2. [**Object Oriented interface**](https://matplotlib.org/stable/users/explain/figure/api_interfaces.html#the-explicit-axes-interface)  \n",
    "This plotting approach is more convenient when you would like to have more control over your plots. You create a grid of subplots and are able to access a certain Axes object to draw a plot. \n",
    "\n",
    "Let's demonstrate the main characteristics of these two interfaces."
   ]
  },
  {
   "cell_type": "markdown",
   "metadata": {
    "application/vnd.databricks.v1+cell": {
     "cellMetadata": {},
     "inputWidgets": {},
     "nuid": "5d75c3ce-5c28-4472-aa9a-37f24e99a718",
     "showTitle": false,
     "title": ""
    }
   },
   "source": [
    "## 3.1 Line plot\n",
    "\n",
    "Let's create a Figure object and 3 subplots of line plot using a generic\n",
    "[`.plot()`](https://matplotlib.org/stable/api/_as_gen/matplotlib.pyplot.plot.html) \n",
    "function in MATLAB-style interface."
   ]
  },
  {
   "cell_type": "markdown",
   "metadata": {
    "application/vnd.databricks.v1+cell": {
     "cellMetadata": {},
     "inputWidgets": {},
     "nuid": "be26c665-e18c-49fb-8f5b-8dbe2e4508c3",
     "showTitle": false,
     "title": ""
    }
   },
   "source": [
    "Using\n",
    "[`plt.subplot()`](https://matplotlib.org/stable/api/_as_gen/matplotlib.pyplot.subplot.html) we create 3 subplots where the following is specified:\n",
    "\n",
    "- **number of rows**\n",
    "- **number of columns**\n",
    "- **index:**\n",
    "  - this is the position of subplot in the grid    \n",
    "  - index starts always at 1 in the left upper corner (red line plot in our example below), and increases to the right"
   ]
  },
  {
   "cell_type": "code",
   "execution_count": 0,
   "metadata": {
    "application/vnd.databricks.v1+cell": {
     "cellMetadata": {
      "byteLimit": 2048000,
      "rowLimit": 10000
     },
     "inputWidgets": {},
     "nuid": "8d831192-4a96-4273-a2ed-427cbcc8dbd3",
     "showTitle": false,
     "title": ""
    }
   },
   "outputs": [],
   "source": [
    "# Example data for plotting\n",
    "data = np.arange(0.0, 50, 0.01)\n",
    "# Sine\n",
    "s = np.sin(data)\n",
    "# Cosine\n",
    "c = np.cos(data)\n",
    "# Example data for plotting\n",
    "tg = np.arange(0.0, 1.5, 0.01)\n",
    "# Tangent\n",
    "t = np.tan(tg)\n",
    "\n",
    "# Create a Figure object\n",
    "plt.figure(figsize = (15,9))\n",
    "\n",
    "# Create a first subplot\n",
    "plt.subplot(2,2,1)               # 2 rows, 2 columns, the first subplot is active\n",
    "plt.plot(data,s,                 # Calling plot function on the first subplot\n",
    "         color = 'red')            \n",
    "plt.title('The first subplot')   # A title of a subplot\n",
    "\n",
    "# Create a second subplot\n",
    "plt.subplot(2,2,2)               # 2 rows, 2 columns, the second subplot is active\n",
    "plt.plot(data,c,                 # calling plot function on the second subplot\n",
    "         color = 'yellow')                  \n",
    "plt.title('The second subplot')\n",
    "\n",
    "# Create a third subplot\n",
    "plt.subplot(2,2,3)               # 2 rows, 2 columns, the third subplot is active\n",
    "plt.plot(tg,t,                   # calling plot function on the third subplot\n",
    "        'green',    \n",
    "         alpha = 0.5)                 \n",
    "plt.title('The third subplot')\n",
    "plt.suptitle('Subplots');        # A title of the whole Figure object"
   ]
  },
  {
   "cell_type": "markdown",
   "metadata": {
    "application/vnd.databricks.v1+cell": {
     "cellMetadata": {},
     "inputWidgets": {},
     "nuid": "062ecda6-c086-4194-8b09-8f8fe4100d8e",
     "showTitle": false,
     "title": ""
    }
   },
   "source": [
    "By specifying for example \n",
    "[`plt.subplot(2,2,1)`](https://matplotlib.org/stable/api/_as_gen/matplotlib.pyplot.subplot.html)\n",
    "we activate the first subplot.\n",
    "After activating a certain subplot, all functions we call will be applied only to this Axes object. \n",
    "Thus this process is \"stateful\". It means that Matplotlib keeps track of the active Axes (and Figure object)."
   ]
  },
  {
   "cell_type": "markdown",
   "metadata": {
    "application/vnd.databricks.v1+cell": {
     "cellMetadata": {},
     "inputWidgets": {},
     "nuid": "0a0c0c76-019c-48c0-b949-7e616d313898",
     "showTitle": false,
     "title": ""
    }
   },
   "source": [
    "Now let's recreate a Figure using the Object-oriented interface of Matplotlib. With this approach you do not need to worry about which Axis is active right now. Plotting functions are applied explicitly to the Axes object you select. \n",
    "\n",
    "If you have a Subplot grid consisting of 2 subplots you can access the specific axis by indexing according its position. In this case indexing starts at zero."
   ]
  },
  {
   "cell_type": "code",
   "execution_count": 0,
   "metadata": {
    "application/vnd.databricks.v1+cell": {
     "cellMetadata": {
      "byteLimit": 2048000,
      "rowLimit": 10000
     },
     "inputWidgets": {},
     "nuid": "1852577c-b5fc-4489-ad6e-581f82d59b70",
     "showTitle": false,
     "title": ""
    }
   },
   "outputs": [],
   "source": [
    "# Create a Figure and a grid of subplots\n",
    "fig1, ax = plt.subplots(1,2)\n",
    "\n",
    "# The first subplot is accessible by ax[0]\n",
    "ax[0].plot(data, s, color = 'red')\n",
    "\n",
    "# The second subplot is accessible by ax[1]\n",
    "ax[1].plot(data, c, color = 'yellow')\n",
    "\n",
    "# Removing x-axis tick labels (in a case it´s appropriate)\n",
    "ax[1].set_xticks([])  \n",
    "\n",
    "# Adjust the padding between subplots\n",
    "plt.tight_layout()"
   ]
  },
  {
   "cell_type": "code",
   "execution_count": 0,
   "metadata": {
    "application/vnd.databricks.v1+cell": {
     "cellMetadata": {
      "byteLimit": 2048000,
      "rowLimit": 10000
     },
     "inputWidgets": {},
     "nuid": "f73b0fb9-6c29-4476-970e-c4e51fc52392",
     "showTitle": false,
     "title": ""
    }
   },
   "outputs": [],
   "source": [
    "# Create a Figure object and 3 subplots\n",
    "fig, ax = plt.subplots(2,2, figsize = (15,9))\n",
    "\n",
    "# The first red plot is placed in the first row and the first column\n",
    "ax[0,0].plot(data, s, color = 'red')\n",
    "\n",
    "# Then we move to the right to the yellow plot - first row and second column\n",
    "ax[0,1].plot(data, c, color = 'yellow')\n",
    "\n",
    "# Then the green plot in the down left corner - the second row and the first column\n",
    "ax[1,0].plot(tg, t, color = 'green');\n",
    "\n",
    "# At position row 2 and column 2 the subplot is empty"
   ]
  },
  {
   "cell_type": "markdown",
   "metadata": {
    "application/vnd.databricks.v1+cell": {
     "cellMetadata": {},
     "inputWidgets": {},
     "nuid": "80ee7421-ad33-4265-85cf-82467afa9c2f",
     "showTitle": false,
     "title": ""
    }
   },
   "source": [
    "The output of\n",
    "[`plt.subplots(2,2)`](https://matplotlib.org/stable/api/_as_gen/matplotlib.pyplot.subplots.html)\n",
    "is 2-dimensional array, thus the location of Axes objects are specified by their respective rows and columns."
   ]
  },
  {
   "cell_type": "markdown",
   "metadata": {
    "application/vnd.databricks.v1+cell": {
     "cellMetadata": {},
     "inputWidgets": {},
     "nuid": "6e35038a-d8e1-4680-a844-4b0f3d7935da",
     "showTitle": false,
     "title": ""
    }
   },
   "source": [
    "It's up to you which plotting approach you choose for creating plots. But the general recommendation is as follows: Use MATLAB-like plotting style only when you are creating simple plots. For advanced Figures with more than 1 subplot or other added components, use the object oriented plotting approach which gives you ultimate control over you axes."
   ]
  },
  {
   "cell_type": "markdown",
   "metadata": {
    "application/vnd.databricks.v1+cell": {
     "cellMetadata": {},
     "inputWidgets": {},
     "nuid": "f2a536ec-6356-4195-80e9-1f1adcbbfb06",
     "showTitle": false,
     "title": ""
    }
   },
   "source": [
    "### 3.1.1 Line plot customization\n",
    "\n",
    "Let's plot the newly created x variable against the y variable. \n",
    "Firstly, we create a Figure object and an Axes object using\n",
    "[`plt.subplots()`](https://matplotlib.org/stable/api/_as_gen/matplotlib.pyplot.subplots.html). \n",
    "Then you can call the [`.plot()`](https://matplotlib.org/stable/api/_as_gen/matplotlib.axes.Axes.plot.html) function right onto the Axes object to generate a line plot, where we specify particular properties to our line such as labels, annotations, specified size, etc.  \n",
    "\n",
    "___\n",
    "We want our line to be a **light green 'dashdotted' line containing red point markers with white color in the middle pointing to each of the data points**. \n",
    "\n",
    "Phew! That's a lot of conditions. However, with Matplotlib you can customize every object within the Axes.\n",
    "Additionally, we would like to give a name to our graph and have a labeled axis to make the graph more readable and understandable for the audience. You might want to additionally set a vertical or horizontal line to depict some value or range of values. \n",
    "\n",
    "But keep in mind, there is a beauty in simplicity."
   ]
  },
  {
   "cell_type": "code",
   "execution_count": 0,
   "metadata": {
    "application/vnd.databricks.v1+cell": {
     "cellMetadata": {
      "byteLimit": 2048000,
      "rowLimit": 10000
     },
     "inputWidgets": {},
     "nuid": "d6e60ebd-752a-441d-a855-c0e6f4b0090a",
     "showTitle": false,
     "title": ""
    }
   },
   "outputs": [],
   "source": [
    "# Set the random seed to generate exactly the same output as in this notebook\n",
    "# Generate a sequence of random numbers\n",
    "x_var = list(range(15))\n",
    "np.random.seed(42)\n",
    "y = np.random.randint(low = 5, high = 50, size = 15)\n",
    "\n",
    "# Examine the output\n",
    "print(y)"
   ]
  },
  {
   "cell_type": "code",
   "execution_count": 0,
   "metadata": {
    "application/vnd.databricks.v1+cell": {
     "cellMetadata": {
      "byteLimit": 2048000,
      "rowLimit": 10000
     },
     "inputWidgets": {},
     "nuid": "3bf0c3af-eb6f-485a-a828-b2ef3767d9da",
     "showTitle": false,
     "title": ""
    }
   },
   "outputs": [],
   "source": [
    "# Create a Figure and Axes objects with defined size\n",
    "fig, ax = plt.subplots(figsize = (12,9))   \n",
    "\n",
    "# Plot x against y using plot() function\n",
    "ax.plot(x_var,y, color = 'green', linestyle = '-.', linewidth = 2,# Plot x vs. y, set a color, style and wodth of a line\n",
    "        alpha = 0.6, marker = '.', markeredgewidth = 7,           # Set a transparency of colors, marker type and its width\n",
    "        markeredgecolor='red', markerfacecolor = 'white')         # Set a color of a marker and white color within a marker                                     \n",
    "                                                                  \n",
    "ax.set_title('The sequence of numbers', fontsize = 16);           # Set a title of graph and a fontsize\n",
    "ax.set_xlabel('The values of x', fontsize = 12)                   # Set x-axis label and a fontsize\n",
    "ax.set_ylabel('The values of y', fontsize = 12)                   # Set y-axis label and a fontsize\n",
    "\n",
    "ax.axhline(y = 40, linewidth = 2, alpha = 0.5, color = 'black');  # Set horizontal line emphasises a value of y-axis\n",
    "ax.legend(['our line','threshold'], loc = 4)                      # Set the labels of line in the legend and its location \n",
    "\n",
    "# TASK 1 >>> Observe the frequency of ticks, then uncomment these 2 lines to see the difference\n",
    "#        >>> Find the explanation of x and y ticks in the text below the line plot\n",
    "# plt.xticks(np.arange(start = 0, stop = len(x_var), step = 1))\n",
    "# plt.yticks(np.arange(start = 0, stop = max(y), step = 2));"
   ]
  },
  {
   "cell_type": "markdown",
   "metadata": {
    "application/vnd.databricks.v1+cell": {
     "cellMetadata": {},
     "inputWidgets": {},
     "nuid": "e900994c-1383-4ca1-afb2-b517ece0c958",
     "showTitle": false,
     "title": ""
    }
   },
   "source": [
    "The frequency of ticks are generated by Matplotlib in the way that is the most suitable given the data. \n",
    "We can see that ticks on the x-axis start at 0 and end at 14 while the values are increasing by 2. \n",
    "The y-axis ranges from 15 to 45 by steps of 5. \n",
    "If we would like to customize the frequency of ticks we can use\n",
    "[`plt.xticks`](https://matplotlib.org/stable/api/_as_gen/matplotlib.pyplot.xticks.html) \n",
    "and\n",
    "[`plt.yticks`](https://matplotlib.org/stable/api/_as_gen/matplotlib.pyplot.yticks.html) \n",
    "to do so. \n",
    "Take a closer look at the original ticks and then uncomment those two rows in the previous cell to see the difference. \n",
    "The new positions of ticks are set using Numpy's\n",
    "[`arange()`](https://numpy.org/doc/stable/reference/generated/numpy.arange.html)\n",
    "function where we define the start and end of the interval and the desired spacing between the values.\n",
    "In case of the x-axis, the tick's stopping point is defined as the length of the variable x and values increase set by 1.\n",
    "The last tick on the y-axis is defined as the maximum value of the variable y plus 2 additional numbers. \n",
    "Try to change these values for yourself to see how the position of ticks will adjust."
   ]
  },
  {
   "cell_type": "markdown",
   "metadata": {
    "application/vnd.databricks.v1+cell": {
     "cellMetadata": {},
     "inputWidgets": {},
     "nuid": "f73d14cf-0b6c-40db-9a85-24c5ca785e01",
     "showTitle": false,
     "title": ""
    }
   },
   "source": [
    "## 3.2 Histogram\n",
    "\n",
    "To create a histogram of a variable we can use the \n",
    "[`hist()`](https://matplotlib.org/stable/api/_as_gen/matplotlib.axes.Axes.hist.html) function where a set of parameters can be specified. \n",
    "See the [documentation](https://matplotlib.org/stable/api/_as_gen/matplotlib.axes.Axes.hist.html). \n",
    "\n",
    "We use \n",
    "[`plt.subplots()`](https://matplotlib.org/stable/api/_as_gen/matplotlib.pyplot.subplots.html) to create a Figure object and a grid of subplots (Axes objects), where we define 1 row and 2 columns so that our subplots will be created side-by-side. After that, we will have access to each of the Axes objects by their indices and can create plots."
   ]
  },
  {
   "cell_type": "code",
   "execution_count": 0,
   "metadata": {
    "application/vnd.databricks.v1+cell": {
     "cellMetadata": {
      "byteLimit": 2048000,
      "rowLimit": 10000
     },
     "inputWidgets": {},
     "nuid": "4c385db6-bdd9-4d51-90c4-a359a44ce2aa",
     "showTitle": false,
     "title": ""
    }
   },
   "outputs": [],
   "source": [
    "# For demonstration, we create random sample from a normal distribution using Numpy\n",
    "np.random.seed(42)\n",
    "x_var2 = np.random.normal(size = 150)"
   ]
  },
  {
   "cell_type": "code",
   "execution_count": 0,
   "metadata": {
    "application/vnd.databricks.v1+cell": {
     "cellMetadata": {
      "byteLimit": 2048000,
      "rowLimit": 10000
     },
     "inputWidgets": {},
     "nuid": "fbaec48d-aabd-4928-ac99-b14973cb9cfb",
     "showTitle": false,
     "title": ""
    }
   },
   "outputs": [],
   "source": [
    "# Create a figure object and a subplot grid\n",
    "fig, ax = plt.subplots(1,2, figsize = (13,9))\n",
    "\n",
    "# Create a histogram in the first subplot\n",
    "# Note that index starts at zero\n",
    "ax[0].hist(x_var2, bins = 15, color = 'red',  histtype = 'step')\n",
    "ax[0].set_xlabel('Values')\n",
    "ax[0].set_ylabel('Count')\n",
    "ax[0].set_title('The distribution of data points')\n",
    "\n",
    "# Creare a density histogram in the second subplot\n",
    "ax[1].hist(x_var2, bins = 10, density = True)\n",
    "ax[1].set_xlabel('Values')\n",
    "ax[1].set_ylabel('Density')\n",
    "ax[1].set_title('The density of data points')\n",
    "\n",
    "# Adjust the padding between the edges of subplots\n",
    "plt.tight_layout(pad = 6)\n",
    "\n",
    "# Add a title to a Figure\n",
    "# Adjust the position of a title using coordinates of a Figure\n",
    "# Adjust the fontsize\n",
    "fig.suptitle('Histograms of x_var', x = 0.5, y = 0.97, fontsize = 20);"
   ]
  },
  {
   "cell_type": "markdown",
   "metadata": {
    "application/vnd.databricks.v1+cell": {
     "cellMetadata": {},
     "inputWidgets": {},
     "nuid": "5721678f-07a6-4e36-b487-1042c7322eb9",
     "showTitle": false,
     "title": ""
    }
   },
   "source": [
    "Now it's time for a little practice with subplots and customization of plots. Your task is to create a figure with 4 subplots, but actually create only 2 plots: a histogram and a line plot. The remaining two subplots should be left empty. To get this done, use an object-oriented plotting approach to have a full control over the placement of plots."
   ]
  },
  {
   "cell_type": "code",
   "execution_count": 0,
   "metadata": {
    "application/vnd.databricks.v1+cell": {
     "cellMetadata": {
      "byteLimit": 2048000,
      "rowLimit": 10000
     },
     "inputWidgets": {},
     "nuid": "1bb746c3-428d-4d94-81ac-eb007d35c081",
     "showTitle": false,
     "title": ""
    }
   },
   "outputs": [],
   "source": [
    "# TASK 2 >>> Now it's the time for a little practice with subplots\n",
    "#        >>> Firstly create a Figure object with 4 subplots while only in 2 subplots the graph will be drawn\n",
    "#        >>> Histogram:\n",
    "#            Create a horizontal histogram of x_var2 variable that should be placed in the left upper corner\n",
    "#            Set the number of bins to 14, set the color to 'slateblue', set the transparency to .7\n",
    "#            Set x-axis label: 'Values'\n",
    "#            Set y-axis label: 'Count'\n",
    "#            Set a title: 'A histogram'\n",
    "#        >>> Line plot:\n",
    "#            Create a line plot of x_var that should be placed in the right down corner\n",
    "#            Set the color to be 'dodgerblue', set 'dotted' style of the line and add marker '*'\n",
    "#            Set x-axis label: 'Count'\n",
    "#            Set y-axis label: 'Values'\n",
    "#            Set a title: 'A line plot'"
   ]
  },
  {
   "cell_type": "markdown",
   "metadata": {
    "application/vnd.databricks.v1+cell": {
     "cellMetadata": {},
     "inputWidgets": {},
     "nuid": "d2d8a6e6-d0bf-42d5-a7b7-7917739643d8",
     "showTitle": false,
     "title": ""
    }
   },
   "source": [
    "## 3.3. Boxplot\n",
    "\n",
    "You can create a boxplot using the \n",
    "[`boxplot()`](https://matplotlib.org/stable/api/_as_gen/matplotlib.axes.Axes.boxplot.html)\n",
    "plotting function. \n",
    "See the documentation [here](https://matplotlib.org/stable/api/_as_gen/matplotlib.axes.Axes.boxplot.html). \n",
    "There are several options for customizing the output, for example customizing elements of a boxplot."
   ]
  },
  {
   "cell_type": "code",
   "execution_count": 0,
   "metadata": {
    "application/vnd.databricks.v1+cell": {
     "cellMetadata": {
      "byteLimit": 2048000,
      "rowLimit": 10000
     },
     "inputWidgets": {},
     "nuid": "8680accc-7027-4b78-ade8-3cd070f747b6",
     "showTitle": false,
     "title": ""
    }
   },
   "outputs": [],
   "source": [
    "# Create a Figure\n",
    "fig, ax = plt.subplots(figsize = (13,9))\n",
    "# Create a boxplot of x_var variable\n",
    "box_properties = dict(color = 'orange', linestyle = '--')           # Properties of a box\n",
    "wh_properties = dict(linestyle = '-.',linewidth = 1.5)              # Properties of whiskers\n",
    "median_line = dict(color = 'red', linewidth = 2)                    # Properties of median value\n",
    "mean_line = dict(color = 'green', linewidth = 3, linestyle = '-.')  # Properties of mean value\n",
    "ax.boxplot(x_var2,\n",
    "           showmeans = True,                 # Show the mean\n",
    "           meanline = True,                  # Displaying the mean as line within a box\n",
    "           meanprops = mean_line,            # Properties of mean line\n",
    "           boxprops = box_properties,        # Properties of a box\n",
    "           whiskerprops = wh_properties,     # Properties of whiskers\n",
    "           medianprops =  median_line);      # Properties of a median line"
   ]
  },
  {
   "cell_type": "markdown",
   "metadata": {
    "application/vnd.databricks.v1+cell": {
     "cellMetadata": {},
     "inputWidgets": {},
     "nuid": "93459f81-9836-49da-b671-983df10bc02c",
     "showTitle": false,
     "title": ""
    }
   },
   "source": [
    "## 3.4 Barplot\n",
    "\n",
    "To visualize and compare categorical features you can create a bar plot. \n",
    "The quantity of data points belonging to particular category will be drawn in the form of a bar. \n",
    "Matplotlib's [`bar`](https://matplotlib.org/stable/api/_as_gen/matplotlib.axes.Axes.bar.html) function take several parameter such as:\n",
    "- `x`: the coordinates of the bars\n",
    "- `height`: the height of the bars, in other words, the amount of data points \n",
    "\n",
    "Other parameters include the bar's width or the alignemnt of the bars. \n",
    "Please refer to the documentation [here](https://matplotlib.org/stable/api/_as_gen/matplotlib.axes.Axes.bar.html).\n",
    "\n",
    "-----\n",
    "Now we'll create a barplot which depicts the top speed of different animals and compares them to Usain Bolt's top speed at the World Championships in 2009, which is 44.72 km/h. \n",
    "\n",
    "There are limitless options regarding adding and customizing things such as annotations, arrows or colors of your plots. All of these options are well-documented in Matplotlib's documentation."
   ]
  },
  {
   "cell_type": "code",
   "execution_count": 0,
   "metadata": {
    "application/vnd.databricks.v1+cell": {
     "cellMetadata": {
      "byteLimit": 2048000,
      "rowLimit": 10000
     },
     "inputWidgets": {},
     "nuid": "34934faa-595d-497d-8142-1b3b54402a46",
     "showTitle": false,
     "title": ""
    }
   },
   "outputs": [],
   "source": [
    "animals = ['Horse','Pig','Cheetah','Coyote','Ostrich','Black Mamba']    \n",
    "top_speed = [88,17.7,120,69,70,32.2]                            "
   ]
  },
  {
   "cell_type": "code",
   "execution_count": 0,
   "metadata": {
    "application/vnd.databricks.v1+cell": {
     "cellMetadata": {
      "byteLimit": 2048000,
      "rowLimit": 10000
     },
     "inputWidgets": {},
     "nuid": "dc0cceb4-b324-424c-8b32-4d3333cf1ccf",
     "showTitle": false,
     "title": ""
    }
   },
   "outputs": [],
   "source": [
    "# Create a Figure object \n",
    "fig,ax = plt.subplots(figsize = (9,7))\n",
    "\n",
    "# Inspect how the width of bars can change depending on the width parameter\n",
    "ax.bar(animals, top_speed, width = 0.5)\n",
    "# Eventually, add 'align = 'edge'' parameter to the above line of code to see how the alignment of the bars will change\n",
    "#ax.bar(x_position, top_speed, width = 0.9, align = 'edge')\n",
    "\n",
    "# Setting x-axis labels \n",
    "plt.xticks(animals)\n",
    "# Setting x -axis labels rotation\n",
    "plt.xticks(rotation = 45)\n",
    "# Setting title of the plot, x-axis and y-axis labels\n",
    "plt.title('Comparing top speed', fontsize = 16)\n",
    "plt.xlabel('Animals')\n",
    "plt.ylabel('Top speed (km/h)')\n",
    "\n",
    "# Adding horizontal line to depict the top speed of Usain Bolt along with an arrow pointing to that line\n",
    "ax.axhline(y = 44.72, linewidth = 2, alpha = 0.7, color = 'red')\n",
    "ax.annotate('Usain Bolt \\n 44.72 km/h', xy = (4.9,45), xytext=(4.9,57), ha = 'center', fontsize = 14,\n",
    "           arrowprops = dict(arrowstyle = '->', color = 'red'))\n",
    "\n",
    "# Removing top and left spines\n",
    "ax.spines['top'].set(visible = False)         \n",
    "ax.spines['right'].set(visible = False);"
   ]
  },
  {
   "cell_type": "markdown",
   "metadata": {
    "application/vnd.databricks.v1+cell": {
     "cellMetadata": {},
     "inputWidgets": {},
     "nuid": "62f3e433-058d-41e7-b9e7-868f9b261c5c",
     "showTitle": false,
     "title": ""
    }
   },
   "source": [
    "## 3.5 Scatterplot\n",
    "\n",
    "Using a scatterplot we can visualize a relationship between variables. \n",
    "The simple example below shows a relationship between the x and y variables created using Matplotlib's \n",
    "[`scatter()`](https://matplotlib.org/stable/api/_as_gen/matplotlib.axes.Axes.scatter.html) function."
   ]
  },
  {
   "cell_type": "code",
   "execution_count": 0,
   "metadata": {
    "application/vnd.databricks.v1+cell": {
     "cellMetadata": {
      "byteLimit": 2048000,
      "rowLimit": 10000
     },
     "inputWidgets": {},
     "nuid": "37bc73d4-36a5-4cbc-9812-7c741e21e9d7",
     "showTitle": false,
     "title": ""
    }
   },
   "outputs": [],
   "source": [
    "# Sample data\n",
    "x_sample = [5,10,15,20,25,30,35,30] \n",
    "y_sample = [34, 40,56,68,77,80,93,150]"
   ]
  },
  {
   "cell_type": "code",
   "execution_count": 0,
   "metadata": {
    "application/vnd.databricks.v1+cell": {
     "cellMetadata": {
      "byteLimit": 2048000,
      "rowLimit": 10000
     },
     "inputWidgets": {},
     "nuid": "bad0f707-1a5c-4d17-b927-534a4254d60b",
     "showTitle": false,
     "title": ""
    }
   },
   "outputs": [],
   "source": [
    "# A scatterplot\n",
    "fig,ax = plt.subplots(figsize = (9,7))\n",
    "plt.scatter(x_sample,y_sample)\n",
    "plt.xlabel('X values', fontsize = 13)\n",
    "plt.ylabel('Y values', fontsize = 13);"
   ]
  },
  {
   "cell_type": "markdown",
   "metadata": {
    "application/vnd.databricks.v1+cell": {
     "cellMetadata": {},
     "inputWidgets": {},
     "nuid": "633024d1-dcbf-4fe1-99b1-587e9116f426",
     "showTitle": false,
     "title": ""
    }
   },
   "source": [
    "# 4. Tasks\n",
    "Let's load the real estate evaluation dataset that consists of 7 attributes.\n",
    "\n",
    "**Attributes:**\n",
    "\n",
    "- `X1` transaction date\n",
    "- `X2` house age\n",
    "- `X3` distance to the nearest MRT station\n",
    "- `X4` number of convenience stores\n",
    "- `X5` latitude\n",
    "- `X6` longitude\n",
    "- `Y` house price of unit area"
   ]
  },
  {
   "cell_type": "code",
   "execution_count": 0,
   "metadata": {
    "application/vnd.databricks.v1+cell": {
     "cellMetadata": {
      "byteLimit": 2048000,
      "rowLimit": 10000
     },
     "inputWidgets": {},
     "nuid": "ca5fc3ad-d457-4c81-ad04-28a45e61b344",
     "showTitle": false,
     "title": ""
    }
   },
   "outputs": [],
   "source": [
    "# Load the data\n",
    "houses = pd.read_csv('../../Data/real_estate_valuation_data.csv', sep=\";\")"
   ]
  },
  {
   "cell_type": "code",
   "execution_count": 0,
   "metadata": {
    "application/vnd.databricks.v1+cell": {
     "cellMetadata": {
      "byteLimit": 2048000,
      "rowLimit": 10000
     },
     "inputWidgets": {},
     "nuid": "ff32a92f-8f3f-4910-bb13-5f27a0df8859",
     "showTitle": false,
     "title": ""
    }
   },
   "outputs": [],
   "source": [
    "# Take a look at the first five rows\n",
    "houses.head()"
   ]
  },
  {
   "cell_type": "code",
   "execution_count": 0,
   "metadata": {
    "application/vnd.databricks.v1+cell": {
     "cellMetadata": {
      "byteLimit": 2048000,
      "rowLimit": 10000
     },
     "inputWidgets": {},
     "nuid": "56651cbe-b453-410b-a0f2-ec9468275725",
     "showTitle": false,
     "title": ""
    }
   },
   "outputs": [],
   "source": [
    "# Renaming columns\n",
    "houses.rename(columns = {'X1 transaction date':'transaction_date','X2 house age':'age','X3 distance to the nearest MRT station':\n",
    "                        'distance_to_metro','X4 number of convenience stores':'n_convenience_stores',\n",
    "                        'Y house price of unit area':'price_unit_area'}, inplace = True)"
   ]
  },
  {
   "cell_type": "code",
   "execution_count": 0,
   "metadata": {
    "application/vnd.databricks.v1+cell": {
     "cellMetadata": {},
     "inputWidgets": {},
     "nuid": "1092b871-e98c-43f5-8400-6db6860827b0",
     "showTitle": false,
     "title": ""
    }
   },
   "outputs": [],
   "source": [
    "# Convert dtype to float for columns with continuous parameters\n",
    "float_columns = ['transaction_date', 'age', 'distance_to_metro', 'X5 latitude', 'X6 longitude', 'price_unit_area']\n",
    "for column in float_columns:\n",
    "    houses[column] = houses[column].str.replace(\",\",\".\").astype(float)"
   ]
  },
  {
   "cell_type": "code",
   "execution_count": 0,
   "metadata": {
    "application/vnd.databricks.v1+cell": {
     "cellMetadata": {
      "byteLimit": 2048000,
      "rowLimit": 10000
     },
     "inputWidgets": {},
     "nuid": "b1fa4019-f99d-4360-95e6-53776f9fa239",
     "showTitle": false,
     "title": ""
    }
   },
   "outputs": [],
   "source": [
    "# TASK 3 >>> Create a boxplot of the 'age' feature\n",
    "#        >>> Create a figure and set the size to (13,9)\n",
    "#        >>> Call the boxplot() function on ax \n",
    "#        >>> Specify the properties for:\n",
    "#             mean: green line with style '--' and size 3,\n",
    "#             median: red line with the size 2,\n",
    "#             whiskers: orange whiskers with line style '-.'\n",
    "#             box: a gray box with line style '--'\n",
    "#        >>> Disable x-tick labels\n",
    "#        >>> Add x-axis label: 'Age' and y-axis label: 'Distribution'\n",
    "#        >>> Add a title: 'The boxplot of Age' and set font size 17"
   ]
  },
  {
   "cell_type": "code",
   "execution_count": 0,
   "metadata": {
    "application/vnd.databricks.v1+cell": {
     "cellMetadata": {
      "byteLimit": 2048000,
      "rowLimit": 10000
     },
     "inputWidgets": {},
     "nuid": "e8055aec-3f72-4121-a831-acc3e9ef321c",
     "showTitle": false,
     "title": ""
    }
   },
   "outputs": [],
   "source": [
    "# TASK 4 >>> Create a boxplot and a histogram of the 'price_unit_area' feature\n",
    "#        >>> Firstly, create a figure and set the size to (13,9)\n",
    "#        >>> For creating these plots use MATLAB-style plotting using plt.subplot()\n",
    "#        >>> The first subplot will be a boxplot:\n",
    "#            Set y-axis label:'Price of a unit area (NT$)'\n",
    "#            Disable x-tick labels\n",
    "#        >>> The second subplot will be a histogram:\n",
    "#            Set the number of bins to 15\n",
    "#            Set x-axis label: 'Price of a unit area (NT$)'\n",
    "#        >>> Set a title for the whole Figure: 'House price of a unit area' and fontsize: 16"
   ]
  },
  {
   "cell_type": "code",
   "execution_count": 0,
   "metadata": {
    "application/vnd.databricks.v1+cell": {
     "cellMetadata": {
      "byteLimit": 2048000,
      "rowLimit": 10000
     },
     "inputWidgets": {},
     "nuid": "f2c835b3-1720-4e96-9b95-8940b1eb24a0",
     "showTitle": false,
     "title": ""
    }
   },
   "outputs": [],
   "source": [
    "# TASK 5 >>> Create a scatterplot of 'n_convenience_stores' and 'price_unit_area' to see their relationship\n",
    "#        >>> Create a figure and set the size to (13,9)\n",
    "#        >>> Call scatter() function on ax, specify features and set the color to 'indianred'\n",
    "#        >>> Remove top, right and left spines from plot\n",
    "#        >>> Set x-axis lalel: 'Number of convenience stores' \n",
    "#        >>> Set y-axis label: 'Price of unit area (NT$)'"
   ]
  },
  {
   "cell_type": "code",
   "execution_count": 0,
   "metadata": {
    "application/vnd.databricks.v1+cell": {
     "cellMetadata": {
      "byteLimit": 2048000,
      "rowLimit": 10000
     },
     "inputWidgets": {},
     "nuid": "274b133d-7db8-4845-a6d9-5ac86a74f5d1",
     "showTitle": false,
     "title": ""
    }
   },
   "outputs": [],
   "source": [
    "# TASK 6 >>> Create a scatterplot of 'distance_to_metro' and 'price_unit_area' to see a relationship between them\n",
    "#        >>> Create a Figure and set the size to (13,9) \n",
    "#        >>> Using plt.scatter() create a scatterplot of the features\n",
    "#        >>> Remove top and left spines\n",
    "#        >>> Set x-axis label: 'Distance to the nearest metro station'\n",
    "#        >>> Set y-axis label: 'Price of unit area (NT$)'"
   ]
  },
  {
   "cell_type": "markdown",
   "metadata": {
    "application/vnd.databricks.v1+cell": {
     "cellMetadata": {},
     "inputWidgets": {},
     "nuid": "e695b4ab-5063-45cc-9b14-9408cd17beda",
     "showTitle": false,
     "title": ""
    }
   },
   "source": [
    "## Citation request: \n",
    "Yeh, I. C., & Hsu, T. K. (2018). Building real estate valuation models with comparative approach through case-based reasoning. Applied Soft Computing, 65, 260-271.  \n",
    "\n",
    "Material adapted for RBI internal purposes with full permissions from original authors."
   ]
  }
 ],
 "metadata": {
  "application/vnd.databricks.v1+notebook": {
   "dashboards": [],
   "environmentMetadata": null,
   "language": "python",
   "notebookMetadata": {
    "pythonIndentUnit": 2
   },
   "notebookName": "2_Mechanics_of_plotting_in_Matplotlib_jupyter",
   "widgets": {}
  },
  "kernelspec": {
   "display_name": "contribute-data-science-apex-LpLk_sPV-py3.10",
   "language": "python",
   "name": "python3"
  },
  "language_info": {
   "codemirror_mode": {
    "name": "ipython",
    "version": 3
   },
   "file_extension": ".py",
   "mimetype": "text/x-python",
   "name": "python",
   "nbconvert_exporter": "python",
   "pygments_lexer": "ipython3",
   "version": "3.10.14"
  }
 },
 "nbformat": 4,
 "nbformat_minor": 0
}
