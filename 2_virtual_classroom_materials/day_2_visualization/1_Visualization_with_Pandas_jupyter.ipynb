{
 "cells": [
  {
   "cell_type": "markdown",
   "metadata": {
    "application/vnd.databricks.v1+cell": {
     "cellMetadata": {},
     "inputWidgets": {},
     "nuid": "57e62135-c5a3-4d15-b689-f4b2f85600d0",
     "showTitle": false,
     "title": ""
    }
   },
   "source": [
    "# Visualizations with Pandas"
   ]
  },
  {
   "cell_type": "markdown",
   "metadata": {
    "application/vnd.databricks.v1+cell": {
     "cellMetadata": {},
     "inputWidgets": {},
     "nuid": "6ce575dc-7037-4baa-83f2-0fa5f8618caf",
     "showTitle": false,
     "title": ""
    }
   },
   "source": [
    "# 1. Introduction\n",
    "\n",
    "The Pandas library will probably be your first option to create visual insights to better understand your data.\n",
    "The main advantage is that you can visualize the data using simple and straightforward methods. Behind the scenes of plotting with Pandas is another library - Matplotlib. But don't worry now about Matplotlib as we will cover it in a later lesson. When we call some Pandas' plotting function, Matplotlib acts as an engine. Therefore we can use a higher level of code to gain similar good-looking plots as in Matplotlib."
   ]
  },
  {
   "cell_type": "markdown",
   "metadata": {
    "application/vnd.databricks.v1+cell": {
     "cellMetadata": {},
     "inputWidgets": {},
     "nuid": "e7ed6f26-6807-434e-a5b7-586c6d55e344",
     "showTitle": false,
     "title": ""
    }
   },
   "source": [
    "# 2. Dataset\n",
    "\n",
    "We will be working with an occupancy detection dataset which can be found [here](https://archive.ics.uci.edu/ml/datasets/Occupancy+Detection+#). \n",
    "\n",
    "This dataset is intended to solve binary classification problems according to attributes which could indicate whether a person is present in the room or not.\n",
    "\n",
    "Let's import the Pandas library and load the data."
   ]
  },
  {
   "cell_type": "code",
   "execution_count": 0,
   "metadata": {
    "application/vnd.databricks.v1+cell": {
     "cellMetadata": {
      "byteLimit": 2048000,
      "rowLimit": 10000
     },
     "inputWidgets": {},
     "nuid": "282c1963-35fe-4040-8d6d-2fe886fd9dde",
     "showTitle": false,
     "title": ""
    }
   },
   "outputs": [
    {
     "output_type": "display_data",
     "data": {
      "application/vnd.databricks.v1+bamboolib_hint": "{\"pd.DataFrames\": [], \"version\": \"0.0.1\"}",
      "text/plain": []
     },
     "metadata": {},
     "output_type": "display_data"
    }
   ],
   "source": [
    "# Import Pandas and Numpy libraries\n",
    "import pandas as pd\n",
    "import numpy as np\n",
    "\n",
    "# For now, we use Matplotlib only to set the size of plots\n",
    "import matplotlib.pyplot as plt\n",
    "\n",
    "# rcParams allow us to set the size global to the whole notebook \n",
    "plt.rcParams['figure.figsize'] = [10,6]\n",
    "# In some plots, we define the size within the plotting function"
   ]
  },
  {
   "cell_type": "code",
   "execution_count": 0,
   "metadata": {
    "application/vnd.databricks.v1+cell": {
     "cellMetadata": {
      "byteLimit": 2048000,
      "rowLimit": 10000
     },
     "inputWidgets": {},
     "nuid": "ad1a9a67-ef79-4d17-b96c-4b6029578ddc",
     "showTitle": false,
     "title": ""
    }
   },
   "outputs": [],
   "source": [
    "# Load the data\n",
    "data = pd.read_csv('Data/room_occupancy.txt')"
   ]
  },
  {
   "cell_type": "code",
   "execution_count": 0,
   "metadata": {
    "application/vnd.databricks.v1+cell": {
     "cellMetadata": {
      "byteLimit": 2048000,
      "rowLimit": 10000
     },
     "inputWidgets": {},
     "nuid": "9d11234c-efb3-4594-ae6c-ceabfd15d006",
     "showTitle": false,
     "title": ""
    }
   },
   "outputs": [
    {
     "output_type": "display_data",
     "data": {
      "text/html": [
       "<div>\n",
       "<style scoped>\n",
       "    .dataframe tbody tr th:only-of-type {\n",
       "        vertical-align: middle;\n",
       "    }\n",
       "\n",
       "    .dataframe tbody tr th {\n",
       "        vertical-align: top;\n",
       "    }\n",
       "\n",
       "    .dataframe thead th {\n",
       "        text-align: right;\n",
       "    }\n",
       "</style>\n",
       "<table border=\"1\" class=\"dataframe\">\n",
       "  <thead>\n",
       "    <tr style=\"text-align: right;\">\n",
       "      <th></th>\n",
       "      <th>date</th>\n",
       "      <th>Temperature</th>\n",
       "      <th>Humidity</th>\n",
       "      <th>Light</th>\n",
       "      <th>CO2</th>\n",
       "      <th>HumidityRatio</th>\n",
       "      <th>Occupancy</th>\n",
       "    </tr>\n",
       "  </thead>\n",
       "  <tbody>\n",
       "    <tr>\n",
       "      <th>1</th>\n",
       "      <td>2015-02-11 14:48:00</td>\n",
       "      <td>21.7600</td>\n",
       "      <td>31.133333</td>\n",
       "      <td>437.333333</td>\n",
       "      <td>1029.666667</td>\n",
       "      <td>0.005021</td>\n",
       "      <td>1</td>\n",
       "    </tr>\n",
       "    <tr>\n",
       "      <th>2</th>\n",
       "      <td>2015-02-11 14:49:00</td>\n",
       "      <td>21.7900</td>\n",
       "      <td>31.000000</td>\n",
       "      <td>437.333333</td>\n",
       "      <td>1000.000000</td>\n",
       "      <td>0.005009</td>\n",
       "      <td>1</td>\n",
       "    </tr>\n",
       "    <tr>\n",
       "      <th>3</th>\n",
       "      <td>2015-02-11 14:50:00</td>\n",
       "      <td>21.7675</td>\n",
       "      <td>31.122500</td>\n",
       "      <td>434.000000</td>\n",
       "      <td>1003.750000</td>\n",
       "      <td>0.005022</td>\n",
       "      <td>1</td>\n",
       "    </tr>\n",
       "    <tr>\n",
       "      <th>4</th>\n",
       "      <td>2015-02-11 14:51:00</td>\n",
       "      <td>21.7675</td>\n",
       "      <td>31.122500</td>\n",
       "      <td>439.000000</td>\n",
       "      <td>1009.500000</td>\n",
       "      <td>0.005022</td>\n",
       "      <td>1</td>\n",
       "    </tr>\n",
       "    <tr>\n",
       "      <th>5</th>\n",
       "      <td>2015-02-11 14:51:59</td>\n",
       "      <td>21.7900</td>\n",
       "      <td>31.133333</td>\n",
       "      <td>437.333333</td>\n",
       "      <td>1005.666667</td>\n",
       "      <td>0.005030</td>\n",
       "      <td>1</td>\n",
       "    </tr>\n",
       "    <tr>\n",
       "      <th>6</th>\n",
       "      <td>2015-02-11 14:53:00</td>\n",
       "      <td>21.7600</td>\n",
       "      <td>31.260000</td>\n",
       "      <td>437.333333</td>\n",
       "      <td>1014.333333</td>\n",
       "      <td>0.005042</td>\n",
       "      <td>1</td>\n",
       "    </tr>\n",
       "    <tr>\n",
       "      <th>7</th>\n",
       "      <td>2015-02-11 14:54:00</td>\n",
       "      <td>21.7900</td>\n",
       "      <td>31.197500</td>\n",
       "      <td>434.000000</td>\n",
       "      <td>1018.500000</td>\n",
       "      <td>0.005041</td>\n",
       "      <td>1</td>\n",
       "    </tr>\n",
       "    <tr>\n",
       "      <th>8</th>\n",
       "      <td>2015-02-11 14:55:00</td>\n",
       "      <td>21.7900</td>\n",
       "      <td>31.393333</td>\n",
       "      <td>437.333333</td>\n",
       "      <td>1018.666667</td>\n",
       "      <td>0.005073</td>\n",
       "      <td>1</td>\n",
       "    </tr>\n",
       "    <tr>\n",
       "      <th>9</th>\n",
       "      <td>2015-02-11 14:55:59</td>\n",
       "      <td>21.7900</td>\n",
       "      <td>31.317500</td>\n",
       "      <td>434.000000</td>\n",
       "      <td>1022.000000</td>\n",
       "      <td>0.005060</td>\n",
       "      <td>1</td>\n",
       "    </tr>\n",
       "    <tr>\n",
       "      <th>10</th>\n",
       "      <td>2015-02-11 14:57:00</td>\n",
       "      <td>21.7900</td>\n",
       "      <td>31.463333</td>\n",
       "      <td>437.333333</td>\n",
       "      <td>1027.333333</td>\n",
       "      <td>0.005084</td>\n",
       "      <td>1</td>\n",
       "    </tr>\n",
       "  </tbody>\n",
       "</table>\n",
       "</div>"
      ]
     },
     "metadata": {
      "application/vnd.databricks.v1+output": {
       "addedWidgets": {},
       "arguments": {},
       "data": "<div>\n<style scoped>\n    .dataframe tbody tr th:only-of-type {\n        vertical-align: middle;\n    }\n\n    .dataframe tbody tr th {\n        vertical-align: top;\n    }\n\n    .dataframe thead th {\n        text-align: right;\n    }\n</style>\n<table border=\"1\" class=\"dataframe\">\n  <thead>\n    <tr style=\"text-align: right;\">\n      <th></th>\n      <th>date</th>\n      <th>Temperature</th>\n      <th>Humidity</th>\n      <th>Light</th>\n      <th>CO2</th>\n      <th>HumidityRatio</th>\n      <th>Occupancy</th>\n    </tr>\n  </thead>\n  <tbody>\n    <tr>\n      <th>1</th>\n      <td>2015-02-11 14:48:00</td>\n      <td>21.7600</td>\n      <td>31.133333</td>\n      <td>437.333333</td>\n      <td>1029.666667</td>\n      <td>0.005021</td>\n      <td>1</td>\n    </tr>\n    <tr>\n      <th>2</th>\n      <td>2015-02-11 14:49:00</td>\n      <td>21.7900</td>\n      <td>31.000000</td>\n      <td>437.333333</td>\n      <td>1000.000000</td>\n      <td>0.005009</td>\n      <td>1</td>\n    </tr>\n    <tr>\n      <th>3</th>\n      <td>2015-02-11 14:50:00</td>\n      <td>21.7675</td>\n      <td>31.122500</td>\n      <td>434.000000</td>\n      <td>1003.750000</td>\n      <td>0.005022</td>\n      <td>1</td>\n    </tr>\n    <tr>\n      <th>4</th>\n      <td>2015-02-11 14:51:00</td>\n      <td>21.7675</td>\n      <td>31.122500</td>\n      <td>439.000000</td>\n      <td>1009.500000</td>\n      <td>0.005022</td>\n      <td>1</td>\n    </tr>\n    <tr>\n      <th>5</th>\n      <td>2015-02-11 14:51:59</td>\n      <td>21.7900</td>\n      <td>31.133333</td>\n      <td>437.333333</td>\n      <td>1005.666667</td>\n      <td>0.005030</td>\n      <td>1</td>\n    </tr>\n    <tr>\n      <th>6</th>\n      <td>2015-02-11 14:53:00</td>\n      <td>21.7600</td>\n      <td>31.260000</td>\n      <td>437.333333</td>\n      <td>1014.333333</td>\n      <td>0.005042</td>\n      <td>1</td>\n    </tr>\n    <tr>\n      <th>7</th>\n      <td>2015-02-11 14:54:00</td>\n      <td>21.7900</td>\n      <td>31.197500</td>\n      <td>434.000000</td>\n      <td>1018.500000</td>\n      <td>0.005041</td>\n      <td>1</td>\n    </tr>\n    <tr>\n      <th>8</th>\n      <td>2015-02-11 14:55:00</td>\n      <td>21.7900</td>\n      <td>31.393333</td>\n      <td>437.333333</td>\n      <td>1018.666667</td>\n      <td>0.005073</td>\n      <td>1</td>\n    </tr>\n    <tr>\n      <th>9</th>\n      <td>2015-02-11 14:55:59</td>\n      <td>21.7900</td>\n      <td>31.317500</td>\n      <td>434.000000</td>\n      <td>1022.000000</td>\n      <td>0.005060</td>\n      <td>1</td>\n    </tr>\n    <tr>\n      <th>10</th>\n      <td>2015-02-11 14:57:00</td>\n      <td>21.7900</td>\n      <td>31.463333</td>\n      <td>437.333333</td>\n      <td>1027.333333</td>\n      <td>0.005084</td>\n      <td>1</td>\n    </tr>\n  </tbody>\n</table>\n</div>",
       "datasetInfos": [],
       "metadata": {},
       "removedWidgets": [],
       "textData": null,
       "type": "htmlSandbox"
      }
     },
     "output_type": "display_data"
    }
   ],
   "source": [
    "# Take a look at the first 10 rows\n",
    "data.head(10)"
   ]
  },
  {
   "cell_type": "code",
   "execution_count": 0,
   "metadata": {
    "application/vnd.databricks.v1+cell": {
     "cellMetadata": {
      "byteLimit": 2048000,
      "rowLimit": 10000
     },
     "inputWidgets": {},
     "nuid": "75d8c5e7-d489-4961-9a67-a44165910bca",
     "showTitle": false,
     "title": ""
    }
   },
   "outputs": [
    {
     "output_type": "stream",
     "name": "stdout",
     "output_type": "stream",
     "text": [
      "Out[9]: (9752, 7)"
     ]
    }
   ],
   "source": [
    "# Print number of rows and columns\n",
    "data.shape"
   ]
  },
  {
   "cell_type": "markdown",
   "metadata": {
    "application/vnd.databricks.v1+cell": {
     "cellMetadata": {},
     "inputWidgets": {},
     "nuid": "f3c09551-a6c9-4c8e-acdf-4828fb0b8b5e",
     "showTitle": false,
     "title": ""
    }
   },
   "source": [
    "## 2.1 Attributes explanation\n",
    "\n",
    "Firstly, let's examine what variables we are dealing with.\n",
    "\n",
    "- date: the specific day and time when the values were recorded \n",
    "- Temperature: measured in Celsius\n",
    "- Humidity: relative humidity - a present state of absolute humidity relative to a\n",
    "    maximum humidity given the same temperature expressed as a percentage\n",
    "- Light: measured in Lux\n",
    "- CO2: in ppm (parts per million)\n",
    "- HumidityRatio: derived quantity from temperature and relative humidity, expressed in kilograms of water vapor per kilogram of dry air  \n",
    "- Occupancy: the presence of a person in the room. The occupancy of the room was obtained from pictures that were taken every minute for a period of 8 days (1 if a person is present, 0 otherwise)"
   ]
  },
  {
   "cell_type": "markdown",
   "metadata": {
    "application/vnd.databricks.v1+cell": {
     "cellMetadata": {},
     "inputWidgets": {},
     "nuid": "57f5502f-cad8-4a07-b176-1e8b23eebb71",
     "showTitle": false,
     "title": ""
    }
   },
   "source": [
    "### 2.1.2 Exploring the data\n",
    "Let's look at the variables data type using `.dtypes` attribute."
   ]
  },
  {
   "cell_type": "code",
   "execution_count": 0,
   "metadata": {
    "application/vnd.databricks.v1+cell": {
     "cellMetadata": {
      "byteLimit": 2048000,
      "rowLimit": 10000
     },
     "inputWidgets": {},
     "nuid": "54b4804c-a01a-42c7-93be-b9a52956590c",
     "showTitle": false,
     "title": ""
    }
   },
   "outputs": [
    {
     "output_type": "stream",
     "name": "stdout",
     "output_type": "stream",
     "text": [
      "Out[10]: date              object\nTemperature      float64\nHumidity         float64\nLight            float64\nCO2              float64\nHumidityRatio    float64\nOccupancy          int64\ndtype: object"
     ]
    }
   ],
   "source": [
    "# Check variables data type\n",
    "data.dtypes"
   ]
  },
  {
   "cell_type": "markdown",
   "metadata": {
    "application/vnd.databricks.v1+cell": {
     "cellMetadata": {},
     "inputWidgets": {},
     "nuid": "c7686dc2-8166-40d4-8c48-2240bd7ef42b",
     "showTitle": false,
     "title": ""
    }
   },
   "source": [
    "There are 6 numerical variables in the dataset. Almost all of the variables have been correctly interpreted according to their datatypes, except for the 'date' column, which Python recognized as an object. Convert this object datatype to the datetime datatype using Pandas."
   ]
  },
  {
   "cell_type": "code",
   "execution_count": 0,
   "metadata": {
    "application/vnd.databricks.v1+cell": {
     "cellMetadata": {
      "byteLimit": 2048000,
      "rowLimit": 10000
     },
     "inputWidgets": {},
     "nuid": "c338d5db-ddc1-4f4d-acb4-dda52f2083a9",
     "showTitle": false,
     "title": ""
    }
   },
   "outputs": [],
   "source": [
    "# Convert date variable using Pandas to_datetime method\n",
    "data['date'] = pd.to_datetime(data['date'])"
   ]
  },
  {
   "cell_type": "markdown",
   "metadata": {
    "application/vnd.databricks.v1+cell": {
     "cellMetadata": {},
     "inputWidgets": {},
     "nuid": "f7cb3788-b116-4e55-8abd-76dee6e74022",
     "showTitle": false,
     "title": ""
    }
   },
   "source": [
    "Let's check whether there are some missing values that we need to be aware of."
   ]
  },
  {
   "cell_type": "code",
   "execution_count": 0,
   "metadata": {
    "application/vnd.databricks.v1+cell": {
     "cellMetadata": {
      "byteLimit": 2048000,
      "rowLimit": 10000
     },
     "inputWidgets": {},
     "nuid": "56b17c08-8eec-4546-9920-f562a2ba8580",
     "showTitle": false,
     "title": ""
    }
   },
   "outputs": [
    {
     "output_type": "display_data",
     "data": {
      "text/html": [
       "<div>\n",
       "<style scoped>\n",
       "    .dataframe tbody tr th:only-of-type {\n",
       "        vertical-align: middle;\n",
       "    }\n",
       "\n",
       "    .dataframe tbody tr th {\n",
       "        vertical-align: top;\n",
       "    }\n",
       "\n",
       "    .dataframe thead th {\n",
       "        text-align: right;\n",
       "    }\n",
       "</style>\n",
       "<table border=\"1\" class=\"dataframe\">\n",
       "  <thead>\n",
       "    <tr style=\"text-align: right;\">\n",
       "      <th></th>\n",
       "      <th>Temperature</th>\n",
       "      <th>Humidity</th>\n",
       "      <th>Light</th>\n",
       "      <th>CO2</th>\n",
       "      <th>HumidityRatio</th>\n",
       "      <th>Occupancy</th>\n",
       "    </tr>\n",
       "  </thead>\n",
       "  <tbody>\n",
       "    <tr>\n",
       "      <th>count</th>\n",
       "      <td>9752.000000</td>\n",
       "      <td>9752.000000</td>\n",
       "      <td>9752.000000</td>\n",
       "      <td>9752.000000</td>\n",
       "      <td>9752.000000</td>\n",
       "      <td>9752.000000</td>\n",
       "    </tr>\n",
       "    <tr>\n",
       "      <th>mean</th>\n",
       "      <td>21.001768</td>\n",
       "      <td>29.891910</td>\n",
       "      <td>123.067930</td>\n",
       "      <td>753.224832</td>\n",
       "      <td>0.004589</td>\n",
       "      <td>0.210111</td>\n",
       "    </tr>\n",
       "    <tr>\n",
       "      <th>std</th>\n",
       "      <td>1.020693</td>\n",
       "      <td>3.952844</td>\n",
       "      <td>208.221275</td>\n",
       "      <td>297.096114</td>\n",
       "      <td>0.000531</td>\n",
       "      <td>0.407408</td>\n",
       "    </tr>\n",
       "    <tr>\n",
       "      <th>min</th>\n",
       "      <td>19.500000</td>\n",
       "      <td>21.865000</td>\n",
       "      <td>0.000000</td>\n",
       "      <td>484.666667</td>\n",
       "      <td>0.003275</td>\n",
       "      <td>0.000000</td>\n",
       "    </tr>\n",
       "    <tr>\n",
       "      <th>25%</th>\n",
       "      <td>20.290000</td>\n",
       "      <td>26.642083</td>\n",
       "      <td>0.000000</td>\n",
       "      <td>542.312500</td>\n",
       "      <td>0.004196</td>\n",
       "      <td>0.000000</td>\n",
       "    </tr>\n",
       "    <tr>\n",
       "      <th>50%</th>\n",
       "      <td>20.790000</td>\n",
       "      <td>30.200000</td>\n",
       "      <td>0.000000</td>\n",
       "      <td>639.000000</td>\n",
       "      <td>0.004593</td>\n",
       "      <td>0.000000</td>\n",
       "    </tr>\n",
       "    <tr>\n",
       "      <th>75%</th>\n",
       "      <td>21.533333</td>\n",
       "      <td>32.700000</td>\n",
       "      <td>208.250000</td>\n",
       "      <td>831.125000</td>\n",
       "      <td>0.004998</td>\n",
       "      <td>0.000000</td>\n",
       "    </tr>\n",
       "    <tr>\n",
       "      <th>max</th>\n",
       "      <td>24.390000</td>\n",
       "      <td>39.500000</td>\n",
       "      <td>1581.000000</td>\n",
       "      <td>2076.500000</td>\n",
       "      <td>0.005769</td>\n",
       "      <td>1.000000</td>\n",
       "    </tr>\n",
       "  </tbody>\n",
       "</table>\n",
       "</div>"
      ]
     },
     "metadata": {
      "application/vnd.databricks.v1+output": {
       "addedWidgets": {},
       "arguments": {},
       "data": "<div>\n<style scoped>\n    .dataframe tbody tr th:only-of-type {\n        vertical-align: middle;\n    }\n\n    .dataframe tbody tr th {\n        vertical-align: top;\n    }\n\n    .dataframe thead th {\n        text-align: right;\n    }\n</style>\n<table border=\"1\" class=\"dataframe\">\n  <thead>\n    <tr style=\"text-align: right;\">\n      <th></th>\n      <th>Temperature</th>\n      <th>Humidity</th>\n      <th>Light</th>\n      <th>CO2</th>\n      <th>HumidityRatio</th>\n      <th>Occupancy</th>\n    </tr>\n  </thead>\n  <tbody>\n    <tr>\n      <th>count</th>\n      <td>9752.000000</td>\n      <td>9752.000000</td>\n      <td>9752.000000</td>\n      <td>9752.000000</td>\n      <td>9752.000000</td>\n      <td>9752.000000</td>\n    </tr>\n    <tr>\n      <th>mean</th>\n      <td>21.001768</td>\n      <td>29.891910</td>\n      <td>123.067930</td>\n      <td>753.224832</td>\n      <td>0.004589</td>\n      <td>0.210111</td>\n    </tr>\n    <tr>\n      <th>std</th>\n      <td>1.020693</td>\n      <td>3.952844</td>\n      <td>208.221275</td>\n      <td>297.096114</td>\n      <td>0.000531</td>\n      <td>0.407408</td>\n    </tr>\n    <tr>\n      <th>min</th>\n      <td>19.500000</td>\n      <td>21.865000</td>\n      <td>0.000000</td>\n      <td>484.666667</td>\n      <td>0.003275</td>\n      <td>0.000000</td>\n    </tr>\n    <tr>\n      <th>25%</th>\n      <td>20.290000</td>\n      <td>26.642083</td>\n      <td>0.000000</td>\n      <td>542.312500</td>\n      <td>0.004196</td>\n      <td>0.000000</td>\n    </tr>\n    <tr>\n      <th>50%</th>\n      <td>20.790000</td>\n      <td>30.200000</td>\n      <td>0.000000</td>\n      <td>639.000000</td>\n      <td>0.004593</td>\n      <td>0.000000</td>\n    </tr>\n    <tr>\n      <th>75%</th>\n      <td>21.533333</td>\n      <td>32.700000</td>\n      <td>208.250000</td>\n      <td>831.125000</td>\n      <td>0.004998</td>\n      <td>0.000000</td>\n    </tr>\n    <tr>\n      <th>max</th>\n      <td>24.390000</td>\n      <td>39.500000</td>\n      <td>1581.000000</td>\n      <td>2076.500000</td>\n      <td>0.005769</td>\n      <td>1.000000</td>\n    </tr>\n  </tbody>\n</table>\n</div>",
       "datasetInfos": [],
       "metadata": {},
       "removedWidgets": [],
       "textData": null,
       "type": "htmlSandbox"
      }
     },
     "output_type": "display_data"
    }
   ],
   "source": [
    "# Explore descriptive statistics\n",
    "data.describe()"
   ]
  },
  {
   "cell_type": "code",
   "execution_count": 0,
   "metadata": {
    "application/vnd.databricks.v1+cell": {
     "cellMetadata": {
      "byteLimit": 2048000,
      "rowLimit": 10000
     },
     "inputWidgets": {},
     "nuid": "c334f5b6-269b-49b5-a26e-888bdcdb9abf",
     "showTitle": false,
     "title": ""
    }
   },
   "outputs": [
    {
     "output_type": "stream",
     "name": "stdout",
     "output_type": "stream",
     "text": [
      "Out[13]: date             0\nTemperature      0\nHumidity         0\nLight            0\nCO2              0\nHumidityRatio    0\nOccupancy        0\ndtype: int64"
     ]
    }
   ],
   "source": [
    "# Check missing values\n",
    "data.isnull().sum()"
   ]
  },
  {
   "cell_type": "markdown",
   "metadata": {
    "application/vnd.databricks.v1+cell": {
     "cellMetadata": {},
     "inputWidgets": {},
     "nuid": "dd64760a-0deb-44ad-972f-aaa3ac35687c",
     "showTitle": false,
     "title": ""
    }
   },
   "source": [
    "# 3. Plot method\n",
    "\n",
    "The `.plot()` function\n",
    "\n",
    "This plotting function is simply a wrapper around `Matplotlibs` plot function that create a **lineplot** by default. A lineplot plots each data point of a DataFrame and then draws a straight, continuous line connecting these values.\n",
    "\n",
    "---\n",
    "\n",
    "If you call `.plot()` right onto the DataFrame, all of the features will be plotted. This approach is sometimes not quite good as you can see below. There are several variables with similar low values, thus they are overlapping."
   ]
  },
  {
   "cell_type": "code",
   "execution_count": 0,
   "metadata": {
    "application/vnd.databricks.v1+cell": {
     "cellMetadata": {
      "byteLimit": 2048000,
      "rowLimit": 10000
     },
     "inputWidgets": {},
     "nuid": "218fa2aa-ae1b-41a4-bfd9-1a12976aefba",
     "showTitle": false,
     "title": ""
    }
   },
   "outputs": [
    {
     "output_type": "stream",
     "name": "stdout",
     "output_type": "stream",
     "text": [
      "Out[14]: <AxesSubplot:>"
     ]
    },
    {
     "output_type": "display_data",
     "data": {
      "image/png": "[encoded data removed]"
     },
     "metadata": {
      "application/vnd.databricks.v1+output": {
       "addedWidgets": {},
       "arguments": {},
       "data": "data:image/png;base64,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\n",
       "datasetInfos": [],
       "metadata": {},
       "removedWidgets": [],
       "type": "image"
      }
     },
     "output_type": "display_data"
    }
   ],
   "source": [
    "# Create a lineplot of the DataFrame\n",
    "data.plot()"
   ]
  },
  {
   "cell_type": "markdown",
   "metadata": {
    "application/vnd.databricks.v1+cell": {
     "cellMetadata": {},
     "inputWidgets": {},
     "nuid": "c867a090-f01d-4fb4-94e2-a62721d3cef4",
     "showTitle": false,
     "title": ""
    }
   },
   "source": [
    "Let´s create a violet line plot of variable 'Temperature'. You can select desired variable by indexing the DataFrame with square brackets."
   ]
  },
  {
   "cell_type": "code",
   "execution_count": 0,
   "metadata": {
    "application/vnd.databricks.v1+cell": {
     "cellMetadata": {
      "byteLimit": 2048000,
      "rowLimit": 10000
     },
     "inputWidgets": {},
     "nuid": "8659ab48-3829-4607-8489-18e7aa15ae4b",
     "showTitle": false,
     "title": ""
    }
   },
   "outputs": [
    {
     "output_type": "stream",
     "name": "stdout",
     "output_type": "stream",
     "text": [
      "Out[15]: <AxesSubplot:>"
     ]
    },
    {
     "output_type": "display_data",
     "data": {
      "image/png": "[encoded data removed]"
     },
     "metadata": {
      "application/vnd.databricks.v1+output": {
       "addedWidgets": {},
       "arguments": {},
       "data": "data:image/png;base64,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\n",
       "datasetInfos": [],
       "metadata": {},
       "removedWidgets": [],
       "type": "image"
      }
     },
     "output_type": "display_data"
    }
   ],
   "source": [
    "# Create a line plot of Temperature variable \n",
    "data['Temperature'].plot(color = 'violet')"
   ]
  },
  {
   "cell_type": "markdown",
   "metadata": {
    "application/vnd.databricks.v1+cell": {
     "cellMetadata": {},
     "inputWidgets": {},
     "nuid": "35a88f4c-64ca-4f9c-9e6f-2987308830e2",
     "showTitle": false,
     "title": ""
    }
   },
   "source": [
    "Now only 'Temperature' is plotted with its respective values.\n",
    "\n",
    "You can see that the `plot()` function returns an ```<AxesSubplot:>``` object. But what does this mean? \n",
    "\n",
    "For now, remember that each graph is actually represented as a _Figure object_ that serves as the base. Onto this base there is an Axes object in which the x-axis and y-axis are created. In the latter section, we will discuss more details about Figures and Axes. \n",
    "To avoid displaying this label, you can put a semicolon at the end of the line.\n",
    "\n",
    "---\n",
    "It is also possible to plot multiple columns by passing a **list** of respective variables, separated by a comma within square brackets and then call `.plot()`. Pandas sets the colors of lines automatically so that you will be able to distinguish the features. You can manually specify the colors of the lines by using the `color` parameter. Chosen colors need to be passed in a dictionary.  See the following example:\n",
    "\n",
    "``` data[['variable_1', 'variable_2']].plot(color = {'variable_1':'yellow', 'variable_2': 'black'})```\n",
    "\n",
    "Also the legend is placed by default. \n",
    "\n",
    "**Try it yourself in the following task.**"
   ]
  },
  {
   "cell_type": "code",
   "execution_count": 0,
   "metadata": {
    "application/vnd.databricks.v1+cell": {
     "cellMetadata": {
      "byteLimit": 2048000,
      "rowLimit": 10000
     },
     "inputWidgets": {},
     "nuid": "04a01015-37ec-4535-a0cd-ebdf904fbac3",
     "showTitle": false,
     "title": ""
    }
   },
   "outputs": [],
   "source": [
    "# TASK 1 >>> Create a lineplot of variables 'Temperature' and 'Humidity'\n",
    "#        >>> Set the color of Temperature to green and Humidity to be blue\n",
    "#        >>> In the created plot, observe how humidity and temperature have been decreasing and increasing"
   ]
  },
  {
   "cell_type": "markdown",
   "metadata": {
    "application/vnd.databricks.v1+cell": {
     "cellMetadata": {},
     "inputWidgets": {},
     "nuid": "6ed34e80-72cb-4bc2-8897-bf629ec12003",
     "showTitle": false,
     "title": ""
    }
   },
   "source": [
    "## 3.1 Customizing parameters of a line plot"
   ]
  },
  {
   "cell_type": "markdown",
   "metadata": {
    "application/vnd.databricks.v1+cell": {
     "cellMetadata": {},
     "inputWidgets": {},
     "nuid": "da540be1-f9f0-42cf-99e2-09e23098a16e",
     "showTitle": false,
     "title": ""
    }
   },
   "source": [
    "It is possible to plot one column against another one as we see in the example below. We specify the 'date' feature on the x-axis and 'CO2' feature on the y-axis.\n",
    "Within the `.plot()` method you can set several parameters such as title, axis labels, size of plot, etc. For more information about parameter settings take a look at [the documentation](https://pandas.pydata.org/pandas-docs/stable/reference/api/pandas.DataFrame.plot.html)."
   ]
  },
  {
   "cell_type": "code",
   "execution_count": 0,
   "metadata": {
    "application/vnd.databricks.v1+cell": {
     "cellMetadata": {
      "byteLimit": 2048000,
      "rowLimit": 10000
     },
     "inputWidgets": {},
     "nuid": "95799d11-dab6-4ae1-a919-ca70ebef69a8",
     "showTitle": false,
     "title": ""
    }
   },
   "outputs": [
    {
     "output_type": "display_data",
     "data": {
      "image/png": "[encoded data removed]"
     },
     "metadata": {
      "application/vnd.databricks.v1+output": {
       "addedWidgets": {},
       "arguments": {},
       "data": "data:image/png;base64,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\n",
       "datasetInfos": [],
       "metadata": {},
       "removedWidgets": [],
       "type": "image"
      }
     },
     "output_type": "display_data"
    }
   ],
   "source": [
    "# A lineplot of amount of CO2 per date\n",
    "\n",
    "data.plot(x = 'date', y = 'CO2',             # Specifying variabes on the axis\n",
    "          figsize = (15,8),                  # Setting a Figure object size as a tuple\n",
    "          fontsize = 9,                      # Setting ticks font size \n",
    "          color = 'skyblue',                 # Setting a color\n",
    "          title = 'Amount of CO2 over time', # Setting a title of a plot \n",
    "          xlabel = 'Date',                   # Customizing x-axis label (variable name by default)\n",
    "          ylabel = 'CO2 (in ppm)');          # Customizing y-axis label (no label by default)"
   ]
  },
  {
   "cell_type": "markdown",
   "metadata": {
    "application/vnd.databricks.v1+cell": {
     "cellMetadata": {},
     "inputWidgets": {},
     "nuid": "dc1a6b71-d7c4-40a3-a77a-6b898650bbc6",
     "showTitle": false,
     "title": ""
    }
   },
   "source": [
    "The line plot is showing a trend of CO2 amount over a period of time from 12.02.2015 (Thursday) till 18.02.2015 (Wednesday). The graph displays how the amount of CO2 has decreased during the weekend (14.02.2015 - 15.02.2015)."
   ]
  },
  {
   "cell_type": "markdown",
   "metadata": {
    "application/vnd.databricks.v1+cell": {
     "cellMetadata": {},
     "inputWidgets": {},
     "nuid": "d32706f9-9fb9-4f62-9cd3-ad5dea9212a1",
     "showTitle": false,
     "title": ""
    }
   },
   "source": [
    "## 3.2 Plotting approaches and plot kinds\n",
    "\n",
    "Before we proceed with the other kinds of plots, there is an important thing to mention:\n",
    "\n",
    "**There are different ways to plot your data**. To not to get confused later on, let's clarify them a little bit. \n",
    "\n",
    "In the preceding examples, we use the default `plot()` function that creates **a line plot by default**. \n",
    "\n",
    "**First approach:**\n",
    "- select a specific plot style by using the `kind `parameter.\n",
    "\n",
    "Overall, there are 10 plot styles you can specify as an argument provided as a string:\n",
    "\n",
    "- `hist`    - histogram  \n",
    "- `box`     - boxplot  \n",
    "- `bar`     - vertical barplot  \n",
    "- `barh`    - horizontal barplot  \n",
    "- `scatter` - scatterplot  \n",
    "- `pie`     - pie plot  \n",
    "- `kde`     - density plot  \n",
    "- `density` - density plot  \n",
    "- `area`    - area plot  \n",
    "- `hexbin`  - hexagonal bin plot  \n",
    "\n",
    "**Second approach:**\n",
    "\n",
    "- all of these plots can be created using the corresponding plotting functions:\n",
    "\n",
    "- `DataFrame.plot.line`\n",
    "- `DataFrame.plot.hist`\n",
    "- `DataFrame.plot.box`\n",
    "- `DataFrame.plot.bar`\n",
    "- `DataFrame.plot.barh`\n",
    "- `DataFrame.plot.scatter`\n",
    "- `DataFrame.plot.pie`\n",
    "- `DataFrame.plot.kde`\n",
    "- `DataFrame.plot.density`\n",
    "- `DataFrame.plot.area`\n",
    "- `DataFrame.plot.hexbin`\n",
    "\n",
    "For a histogram and a boxplot there are aditionally two plotting functions: `DataFrame.hist()` and `DataFrame.boxplot()`.\n",
    "\n",
    "It is up to you which of the two approaches you will decide to stick with."
   ]
  },
  {
   "cell_type": "markdown",
   "metadata": {
    "application/vnd.databricks.v1+cell": {
     "cellMetadata": {},
     "inputWidgets": {},
     "nuid": "22f2268d-60b8-4088-8446-a4117fedc12f",
     "showTitle": false,
     "title": ""
    }
   },
   "source": [
    "### 3.2.1 Histogram"
   ]
  },
  {
   "cell_type": "markdown",
   "metadata": {
    "application/vnd.databricks.v1+cell": {
     "cellMetadata": {},
     "inputWidgets": {},
     "nuid": "d0667507-77c0-4661-94aa-c12e3cfd391a",
     "showTitle": false,
     "title": ""
    }
   },
   "source": [
    "A histogram is a handy plot to get a picture of the spread of data points. It creates so-called bins that you can think of as particular ranges of values. Each data point falls into the respective bin according to its value and then the number of data points in each bin are counted. \n",
    "\n",
    "Look at some statistics computed on the feature 'HumidityRatio'. We know the lowest and the highest ratio, the average value, and that 50% of values are under 30.0045, etc. But it´s hard to imagine how the distribution of 9752 observations looks like based these summary statistics."
   ]
  },
  {
   "cell_type": "code",
   "execution_count": 0,
   "metadata": {
    "application/vnd.databricks.v1+cell": {
     "cellMetadata": {
      "byteLimit": 2048000,
      "rowLimit": 10000
     },
     "inputWidgets": {},
     "nuid": "69bb2692-bfa6-4663-9bdf-0120b121e76d",
     "showTitle": false,
     "title": ""
    }
   },
   "outputs": [
    {
     "output_type": "stream",
     "name": "stdout",
     "output_type": "stream",
     "text": [
      "Out[18]: count    9752.000000\nmean        0.004589\nstd         0.000531\nmin         0.003275\n25%         0.004196\n50%         0.004593\n75%         0.004998\nmax         0.005769\nName: HumidityRatio, dtype: float64"
     ]
    }
   ],
   "source": [
    "# Take a look at the descriptive statistics using .describe()\n",
    "data.HumidityRatio.describe()"
   ]
  },
  {
   "cell_type": "markdown",
   "metadata": {
    "application/vnd.databricks.v1+cell": {
     "cellMetadata": {},
     "inputWidgets": {},
     "nuid": "4fe38624-d632-4b29-97bf-94388f8524cb",
     "showTitle": false,
     "title": ""
    }
   },
   "source": [
    "Let's create a histogram of the variable 'HumidityRatio'. You can use the `.plot()` method and specify `kind = \"hist\"` within this method. Again, we select desired column by indexing the DataFrame. In this case, Pandas does not create an x-axis label. Since the `plot` function returns `matplotlib.axes.AxesSubplot`object, we have access to Matplotlib capabilities and can specify labels.\n",
    "\n",
    "`plt.xlabel` for the x-axis  \n",
    "`plt.ylabel` for the y-axis"
   ]
  },
  {
   "cell_type": "code",
   "execution_count": 0,
   "metadata": {
    "application/vnd.databricks.v1+cell": {
     "cellMetadata": {
      "byteLimit": 2048000,
      "rowLimit": 10000
     },
     "inputWidgets": {},
     "nuid": "fc9c7a59-5ec8-43f0-9e47-7bf9bf27543d",
     "showTitle": false,
     "title": ""
    }
   },
   "outputs": [
    {
     "output_type": "display_data",
     "data": {
      "image/png": "[encoded data removed]"
     },
     "metadata": {
      "application/vnd.databricks.v1+output": {
       "addedWidgets": {},
       "arguments": {},
       "data": "data:image/png;base64,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\n",
       "datasetInfos": [],
       "metadata": {},
       "removedWidgets": [],
       "type": "image"
      }
     },
     "output_type": "display_data"
    }
   ],
   "source": [
    "# The Humidity ratio\n",
    "data['HumidityRatio'].plot(kind ='hist',\n",
    "                      figsize = (11,8),\n",
    "                      color = '#ff7f0e',\n",
    "                      alpha = .5,                            # Setting the transparency of a color                \n",
    "                      title = 'Humidity ratio distribution')\n",
    "\n",
    "plt.xlabel('Humidity Ratio');                                # Creating x-axis label"
   ]
  },
  {
   "cell_type": "markdown",
   "metadata": {
    "application/vnd.databricks.v1+cell": {
     "cellMetadata": {},
     "inputWidgets": {},
     "nuid": "64014211-e600-4cb1-9254-1c5540c26c1a",
     "showTitle": false,
     "title": ""
    }
   },
   "source": [
    "Now we can see all of the 9752 data points plotted in one graph. In the resulting graph, we can see how the values are spread across a range from about 0.003 to 0.005. Most data points lie in the range of values 0.0043 to 0.0047."
   ]
  },
  {
   "cell_type": "markdown",
   "metadata": {
    "application/vnd.databricks.v1+cell": {
     "cellMetadata": {},
     "inputWidgets": {},
     "nuid": "24e212d9-ae4d-4c10-aee7-2948780a60e7",
     "showTitle": false,
     "title": ""
    }
   },
   "source": [
    "Be default, this method separates all of the records into 10 bins. To verify whether our resulting graph accurately reflects the underlying data we should have some fun and try to use different numbers of bins. Using different numbers of bins will change the visual appearance of the histogram."
   ]
  },
  {
   "cell_type": "code",
   "execution_count": 0,
   "metadata": {
    "application/vnd.databricks.v1+cell": {
     "cellMetadata": {
      "byteLimit": 2048000,
      "rowLimit": 10000
     },
     "inputWidgets": {},
     "nuid": "9f3e3e00-281f-4a43-a0e7-722d4c81765e",
     "showTitle": false,
     "title": ""
    }
   },
   "outputs": [],
   "source": [
    "# TASK 2 >>> Create a histogram of 'Humidity' in the same way as above\n",
    "#        >>> Try yourself to change the number of bins and observe the output \n",
    "#        >>> Play around and change the size of the plot and the transparency to see the differences\n",
    "#        >>> Set the x-axis label to 'Relative Humidity (%)'\n",
    "#        >>> Change the default y-axis label (Frequency) to 'Number of occurences'"
   ]
  },
  {
   "cell_type": "markdown",
   "metadata": {
    "application/vnd.databricks.v1+cell": {
     "cellMetadata": {},
     "inputWidgets": {},
     "nuid": "71863206-d1be-4891-b639-7c69f76e4c25",
     "showTitle": false,
     "title": ""
    }
   },
   "source": [
    "By applying `.hist()` to the DataFrame, we are able to create a histogram of the selected column or columns. It is also posibble to visualize a distribution of all the features of the dataset."
   ]
  },
  {
   "cell_type": "code",
   "execution_count": 0,
   "metadata": {
    "application/vnd.databricks.v1+cell": {
     "cellMetadata": {
      "byteLimit": 2048000,
      "rowLimit": 10000
     },
     "inputWidgets": {},
     "nuid": "3e20d058-6141-4a71-bb76-0327a7d28c1a",
     "showTitle": false,
     "title": ""
    }
   },
   "outputs": [
    {
     "output_type": "display_data",
     "data": {
      "image/png": "[encoded data removed]"
     },
     "metadata": {
      "application/vnd.databricks.v1+output": {
       "addedWidgets": {},
       "arguments": {},
       "data": "data:image/png;base64,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\n",
       "datasetInfos": [],
       "metadata": {},
       "removedWidgets": [],
       "type": "image"
      }
     },
     "output_type": "display_data"
    }
   ],
   "source": [
    "# The data distribution of the whole DataFrame\n",
    "\n",
    "data.hist(layout=(2,4), grid = False)                    # Setting layout of 2 rows and 4 column and disabling the grid\n",
    "plt.suptitle('The distribution of variables');           # Adding a suptitle using Matplotlib"
   ]
  },
  {
   "cell_type": "markdown",
   "metadata": {
    "application/vnd.databricks.v1+cell": {
     "cellMetadata": {},
     "inputWidgets": {},
     "nuid": "d6c767e2-fea6-44cc-bba7-e6fdbeb19316",
     "showTitle": false,
     "title": ""
    }
   },
   "source": [
    "### 3.2.2 Boxplot (box-and-whisker plot)\n",
    "\n",
    "Another approach to visualize the distribution of the data is using boxplots. Moreover, the resulting plot will include a [five-number summary](https://en.wikipedia.org/wiki/Five-number_summary): the smallest data point value, the first quartile (1Q), the median (Q2), the third quartile (Q3) and the largest data point value. Boxplots can reveal to us whether there are some possible outliers in the DataFrame and whether the data distribution is skewed or rather symmetrical.\n",
    "\n",
    "In order to draw a boxplot you can use the `.plot()` method and specifying the `kind` keyword argument as 'box'. If we want to customize things such as color, width or style of the line, we can use the `boxprops`,`whiskerprops`,`medianprops` and `capprops` parameters."
   ]
  },
  {
   "cell_type": "code",
   "execution_count": 0,
   "metadata": {
    "application/vnd.databricks.v1+cell": {
     "cellMetadata": {
      "byteLimit": 2048000,
      "rowLimit": 10000
     },
     "inputWidgets": {},
     "nuid": "93cdb7b4-74ea-4654-b7fb-b082f3fca0bd",
     "showTitle": false,
     "title": ""
    }
   },
   "outputs": [
    {
     "output_type": "display_data",
     "data": {
      "image/png": "[encoded data removed]"
     },
     "metadata": {
      "application/vnd.databricks.v1+output": {
       "addedWidgets": {},
       "arguments": {},
       "data": "data:image/png;base64,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\n",
       "datasetInfos": [],
       "metadata": {},
       "removedWidgets": [],
       "type": "image"
      }
     },
     "output_type": "display_data"
    }
   ],
   "source": [
    "# A boxplot of relative humidity\n",
    "\n",
    "data['HumidityRatio'].plot(kind = 'box', \n",
    "                           figsize = (9,5),\n",
    "                           boxprops = dict(linewidth = 1.5, color = 'green',linestyle = '-.'),# Customizing the box\n",
    "                           whiskerprops = dict(linewidth = 1.5, color = 'pink'),              # Customizing the whiskers\n",
    "                           medianprops = dict(linewidth = 1.5, color = 'red'),                # Customizing median line\n",
    "                           capprops = dict(linewidth = 1.5, color = 'darkblue'),              # Customizing caps on the whiskers\n",
    "                           title = 'Boxplot of Humidity ratio');"
   ]
  },
  {
   "cell_type": "markdown",
   "metadata": {
    "application/vnd.databricks.v1+cell": {
     "cellMetadata": {},
     "inputWidgets": {},
     "nuid": "cb3b6693-784a-4ddb-a6fd-f62a6325d891",
     "showTitle": false,
     "title": ""
    }
   },
   "source": [
    "This boxplot illustrates how the values of the humidity ratio are spread out. Based on the shape it seems that the distribution is rather symetrical and also that there are no extreme values, e.g. outliers. The actual box represent 50% of records along with the median value that is displayed as a red line. You can return actual values (of quartiles/percentiles) using the `quantile` method."
   ]
  },
  {
   "cell_type": "code",
   "execution_count": 0,
   "metadata": {
    "application/vnd.databricks.v1+cell": {
     "cellMetadata": {
      "byteLimit": 2048000,
      "rowLimit": 10000
     },
     "inputWidgets": {},
     "nuid": "adf64f60-35df-415f-8805-d8268dfa0da1",
     "showTitle": false,
     "title": ""
    }
   },
   "outputs": [],
   "source": [
    "# Compute 25th percentile, median value and 75th percentile of HumidityRatio variable\n",
    "perc_25, median, perc_75 = data.HumidityRatio.quantile([.25,.5,.75])"
   ]
  },
  {
   "cell_type": "code",
   "execution_count": 0,
   "metadata": {
    "application/vnd.databricks.v1+cell": {
     "cellMetadata": {
      "byteLimit": 2048000,
      "rowLimit": 10000
     },
     "inputWidgets": {},
     "nuid": "61419d9a-27ff-4802-b4eb-774ca2938c12",
     "showTitle": false,
     "title": ""
    }
   },
   "outputs": [
    {
     "output_type": "stream",
     "name": "stdout",
     "output_type": "stream",
     "text": [
      "Out[24]: (0.004196307174011725, 0.0045933097710052, 0.004997965656951225)"
     ]
    }
   ],
   "source": [
    "# Print the output\n",
    "perc_25, median, perc_75"
   ]
  },
  {
   "cell_type": "markdown",
   "metadata": {
    "application/vnd.databricks.v1+cell": {
     "cellMetadata": {},
     "inputWidgets": {},
     "nuid": "4c2fd008-62a7-4c16-8129-9cce840aadad",
     "showTitle": false,
     "title": ""
    }
   },
   "source": [
    "The alternative is to use Pandas' built-in method `DataFrame.boxplot()`. Since the boxplots are really usefull when comparing two or more groups, we'll look at the amount of carbon dioxide according to a person's presence. Selecting groups you'd like to compare can be done using `by` parameter with the respective variable. We'll adjust the figure size and rename the x-tick labels.\n",
    "\n",
    "The axis grid lines are displayed by default. You can disable showing these lines by setting the parameter `grid = False`."
   ]
  },
  {
   "cell_type": "code",
   "execution_count": 0,
   "metadata": {
    "application/vnd.databricks.v1+cell": {
     "cellMetadata": {
      "byteLimit": 2048000,
      "rowLimit": 10000
     },
     "inputWidgets": {},
     "nuid": "1afc76d6-af24-42fc-b3a0-2c990e4f6289",
     "showTitle": false,
     "title": ""
    }
   },
   "outputs": [
    {
     "output_type": "display_data",
     "data": {
      "image/png": "[encoded data removed]"
     },
     "metadata": {
      "application/vnd.databricks.v1+output": {
       "addedWidgets": {},
       "arguments": {},
       "data": "data:image/png;base64,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\n",
       "datasetInfos": [],
       "metadata": {},
       "removedWidgets": [],
       "type": "image"
      }
     },
     "output_type": "display_data"
    }
   ],
   "source": [
    "# A boxplot of CO2 by occupancy of the room\n",
    "\n",
    "data.boxplot(figsize = (10,8),\n",
    "             column = 'CO2', \n",
    "             by = 'Occupancy')\n",
    "\n",
    "# Setting the x-tick labels using Matplotlib\n",
    "plt.xticks([1,2], ['Not occupied room','Occupied room']);"
   ]
  },
  {
   "cell_type": "markdown",
   "metadata": {
    "application/vnd.databricks.v1+cell": {
     "cellMetadata": {},
     "inputWidgets": {},
     "nuid": "16cfc2d6-822d-4b43-b583-b11bd9caee08",
     "showTitle": false,
     "title": ""
    }
   },
   "source": [
    "Comparing the distribution of two groups can helps us to better understand the data. From the boxplots you can immediately see the difference in amounts of CO2. When the room is occupied, the amount of carbon dioxide is higher, while 50% of data points have values in the range of about 620 up to slightly above 1000 ppm. Also the median values are completely different. When the room is empty, the amount of carbon dioxide is substantially lower, although plot indicates a lot of outliers."
   ]
  },
  {
   "cell_type": "markdown",
   "metadata": {
    "application/vnd.databricks.v1+cell": {
     "cellMetadata": {},
     "inputWidgets": {},
     "nuid": "0d4e2e43-71f4-49e5-9d98-b659116c8e55",
     "showTitle": false,
     "title": ""
    }
   },
   "source": [
    "### 3.2.3 Bar plot\n",
    "\n",
    "Bar plots are useful when we want to compare categorical data based on their values. Each category will be plotted on the x-axis and the height of the bars will represent the corresponding values. \n",
    "\n",
    "Let's create a simple DataFrame of students and theirs exam scores for illustration."
   ]
  },
  {
   "cell_type": "code",
   "execution_count": 0,
   "metadata": {
    "application/vnd.databricks.v1+cell": {
     "cellMetadata": {
      "byteLimit": 2048000,
      "rowLimit": 10000
     },
     "inputWidgets": {},
     "nuid": "513335ef-f3b0-4081-a0e0-cd23bd94e8f9",
     "showTitle": false,
     "title": ""
    }
   },
   "outputs": [
    {
     "output_type": "display_data",
     "data": {
      "text/html": [
       "<div>\n",
       "<style scoped>\n",
       "    .dataframe tbody tr th:only-of-type {\n",
       "        vertical-align: middle;\n",
       "    }\n",
       "\n",
       "    .dataframe tbody tr th {\n",
       "        vertical-align: top;\n",
       "    }\n",
       "\n",
       "    .dataframe thead th {\n",
       "        text-align: right;\n",
       "    }\n",
       "</style>\n",
       "<table border=\"1\" class=\"dataframe\">\n",
       "  <thead>\n",
       "    <tr style=\"text-align: right;\">\n",
       "      <th></th>\n",
       "      <th>Student</th>\n",
       "      <th>Score</th>\n",
       "      <th>Class</th>\n",
       "    </tr>\n",
       "  </thead>\n",
       "  <tbody>\n",
       "    <tr>\n",
       "      <th>0</th>\n",
       "      <td>Thomas</td>\n",
       "      <td>78</td>\n",
       "      <td>A</td>\n",
       "    </tr>\n",
       "    <tr>\n",
       "      <th>1</th>\n",
       "      <td>Margaret</td>\n",
       "      <td>50</td>\n",
       "      <td>B</td>\n",
       "    </tr>\n",
       "    <tr>\n",
       "      <th>2</th>\n",
       "      <td>Lisa</td>\n",
       "      <td>68</td>\n",
       "      <td>B</td>\n",
       "    </tr>\n",
       "    <tr>\n",
       "      <th>3</th>\n",
       "      <td>John</td>\n",
       "      <td>83</td>\n",
       "      <td>B</td>\n",
       "    </tr>\n",
       "    <tr>\n",
       "      <th>4</th>\n",
       "      <td>Elis</td>\n",
       "      <td>99</td>\n",
       "      <td>A</td>\n",
       "    </tr>\n",
       "    <tr>\n",
       "      <th>5</th>\n",
       "      <td>Sally</td>\n",
       "      <td>98</td>\n",
       "      <td>A</td>\n",
       "    </tr>\n",
       "    <tr>\n",
       "      <th>6</th>\n",
       "      <td>Marc</td>\n",
       "      <td>65</td>\n",
       "      <td>A</td>\n",
       "    </tr>\n",
       "    <tr>\n",
       "      <th>7</th>\n",
       "      <td>Angela</td>\n",
       "      <td>90</td>\n",
       "      <td>B</td>\n",
       "    </tr>\n",
       "    <tr>\n",
       "      <th>8</th>\n",
       "      <td>Sebastian</td>\n",
       "      <td>85</td>\n",
       "      <td>A</td>\n",
       "    </tr>\n",
       "  </tbody>\n",
       "</table>\n",
       "</div>"
      ]
     },
     "metadata": {
      "application/vnd.databricks.v1+output": {
       "addedWidgets": {},
       "arguments": {},
       "data": "<div>\n<style scoped>\n    .dataframe tbody tr th:only-of-type {\n        vertical-align: middle;\n    }\n\n    .dataframe tbody tr th {\n        vertical-align: top;\n    }\n\n    .dataframe thead th {\n        text-align: right;\n    }\n</style>\n<table border=\"1\" class=\"dataframe\">\n  <thead>\n    <tr style=\"text-align: right;\">\n      <th></th>\n      <th>Student</th>\n      <th>Score</th>\n      <th>Class</th>\n    </tr>\n  </thead>\n  <tbody>\n    <tr>\n      <th>0</th>\n      <td>Thomas</td>\n      <td>78</td>\n      <td>A</td>\n    </tr>\n    <tr>\n      <th>1</th>\n      <td>Margaret</td>\n      <td>50</td>\n      <td>B</td>\n    </tr>\n    <tr>\n      <th>2</th>\n      <td>Lisa</td>\n      <td>68</td>\n      <td>B</td>\n    </tr>\n    <tr>\n      <th>3</th>\n      <td>John</td>\n      <td>83</td>\n      <td>B</td>\n    </tr>\n    <tr>\n      <th>4</th>\n      <td>Elis</td>\n      <td>99</td>\n      <td>A</td>\n    </tr>\n    <tr>\n      <th>5</th>\n      <td>Sally</td>\n      <td>98</td>\n      <td>A</td>\n    </tr>\n    <tr>\n      <th>6</th>\n      <td>Marc</td>\n      <td>65</td>\n      <td>A</td>\n    </tr>\n    <tr>\n      <th>7</th>\n      <td>Angela</td>\n      <td>90</td>\n      <td>B</td>\n    </tr>\n    <tr>\n      <th>8</th>\n      <td>Sebastian</td>\n      <td>85</td>\n      <td>A</td>\n    </tr>\n  </tbody>\n</table>\n</div>",
       "datasetInfos": [],
       "metadata": {},
       "removedWidgets": [],
       "textData": null,
       "type": "htmlSandbox"
      }
     },
     "output_type": "display_data"
    }
   ],
   "source": [
    "# Example data\n",
    "\n",
    "sample_data = pd.DataFrame({'Student': ['Thomas','Margaret','Lisa','John','Elis','Sally','Marc','Angela','Sebastian'],\n",
    "                            'Score': [78,50,68,83,99,98,65,90,85],\n",
    "                            'Class': ['A','B','B','B','A','A','A','B','A']})\n",
    "sample_data"
   ]
  },
  {
   "cell_type": "code",
   "execution_count": 0,
   "metadata": {
    "application/vnd.databricks.v1+cell": {
     "cellMetadata": {
      "byteLimit": 2048000,
      "rowLimit": 10000
     },
     "inputWidgets": {},
     "nuid": "0e9a955c-937d-41c9-bbca-48081398138d",
     "showTitle": false,
     "title": ""
    }
   },
   "outputs": [
    {
     "output_type": "display_data",
     "data": {
      "image/png": "[encoded data removed]"
     },
     "metadata": {
      "application/vnd.databricks.v1+output": {
       "addedWidgets": {},
       "arguments": {},
       "data": "data:image/png;base64,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\n",
       "datasetInfos": [],
       "metadata": {},
       "removedWidgets": [],
       "type": "image"
      }
     },
     "output_type": "display_data"
    }
   ],
   "source": [
    "# A vertical barplot of students by their score\n",
    "\n",
    "sample_data.sort_values(by = 'Score', ascending = False).plot(x = 'Student', \n",
    "                                                              y = 'Score',\n",
    "                                                              kind = 'bar', \n",
    "                                                              rot = 45,\n",
    "                                                              color = ['mediumseagreen','lightgreen','sandybrown',\n",
    "                                                                      'lightcoral','wheat','lightsteelblue',\n",
    "                                                                      'slategrey','teal','black'],\n",
    "                                                              legend = False)\n",
    "plt.ylabel('Count');"
   ]
  },
  {
   "cell_type": "markdown",
   "metadata": {
    "application/vnd.databricks.v1+cell": {
     "cellMetadata": {},
     "inputWidgets": {},
     "nuid": "4f58c79b-e70e-4520-9c95-dc84dfd80d23",
     "showTitle": false,
     "title": ""
    }
   },
   "source": [
    "For creating a bar plot, we sort the values by score in a descending fashion to display student's score. If your categories have longer labels, it's appropriate to set rotation `rot` in order to avoid overlapping. You can explicitly set color of each bar either through specifying the color names or the hexadecimal color codes to the `color` parameter.\n",
    "\n",
    "See this [link](https://seaborn.pydata.org/tutorial/color_palettes.html) from Seaborn where the general principles of using color in plots are described. \n",
    "___\n",
    "\n",
    "You can also choose one of the built-in colormaps provided by Matplotlib. Colormaps can be accessed through `plt.cm` (`cm` stands for colormap). After that, specify a chosen colormap by its name. A reversed version of each available colormap can be done by appending `_r`to a colormap's name. Using Numpy's `arange()` function we specify an interval of colors we want to select."
   ]
  },
  {
   "cell_type": "code",
   "execution_count": 0,
   "metadata": {
    "application/vnd.databricks.v1+cell": {
     "cellMetadata": {
      "byteLimit": 2048000,
      "rowLimit": 10000
     },
     "inputWidgets": {},
     "nuid": "fc0abf96-176c-4eaf-a76e-cf1d552c41ba",
     "showTitle": false,
     "title": ""
    }
   },
   "outputs": [],
   "source": [
    "# TASK 3 >>> Reuse the code above and create a horizontal barplot (kind = 'barh') of students score\n",
    "#        >>> Set the colormaps with code: plt.cm.Set3_r(np.arange(len(sample_data)))\n",
    "#        >>> Disable a legend\n",
    "#        >>> Set x-axis label to 'Count'"
   ]
  },
  {
   "cell_type": "markdown",
   "metadata": {
    "application/vnd.databricks.v1+cell": {
     "cellMetadata": {
      "byteLimit": 2048000,
      "rowLimit": 10000
     },
     "inputWidgets": {},
     "nuid": "b79fd271-4e40-4df7-9d3b-4b955f74f3d2",
     "showTitle": false,
     "title": ""
    }
   },
   "source": [
    "To visualize the count of students based which class they are in, we count the number of occurences and plot it."
   ]
  },
  {
   "cell_type": "code",
   "execution_count": 0,
   "metadata": {
    "application/vnd.databricks.v1+cell": {
     "cellMetadata": {
      "byteLimit": 2048000,
      "rowLimit": 10000
     },
     "inputWidgets": {},
     "nuid": "a0f0b64b-05e3-4b7b-bd53-febdae8b96ca",
     "showTitle": false,
     "title": ""
    }
   },
   "outputs": [
    {
     "output_type": "display_data",
     "data": {
      "image/png": "[encoded data removed]"
     },
     "metadata": {
      "application/vnd.databricks.v1+output": {
       "addedWidgets": {},
       "arguments": {},
       "data": "data:image/png;base64,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\n",
       "datasetInfos": [],
       "metadata": {},
       "removedWidgets": [],
       "type": "image"
      }
     },
     "output_type": "display_data"
    }
   ],
   "source": [
    "sample_data.Class.value_counts().plot(kind = 'bar', rot = 0)\n",
    "plt.xlabel('Class')\n",
    "plt.ylabel('Count');"
   ]
  },
  {
   "cell_type": "markdown",
   "metadata": {
    "application/vnd.databricks.v1+cell": {
     "cellMetadata": {
      "byteLimit": 2048000,
      "rowLimit": 10000
     },
     "inputWidgets": {},
     "nuid": "d00d289c-2226-4b8f-bcc6-2a8aed0a1942",
     "showTitle": false,
     "title": ""
    }
   },
   "source": [
    "# 4. Practice time\n",
    "\n",
    "For the further visualizations we'll use data related to habits of individuals in terms of eating habits, transportation and devices they use and attributes of physical condition. This dataset can be found [here](https://archive.ics.uci.edu/ml/datasets/Estimation+of+obesity+levels+based+on+eating+habits+and+physical+condition+#)."
   ]
  },
  {
   "cell_type": "code",
   "execution_count": 0,
   "metadata": {
    "application/vnd.databricks.v1+cell": {
     "cellMetadata": {
      "byteLimit": 2048000,
      "rowLimit": 10000
     },
     "inputWidgets": {},
     "nuid": "49105d8a-70d0-4ee1-ab28-75c767247c52",
     "showTitle": false,
     "title": ""
    }
   },
   "outputs": [],
   "source": [
    "# Read the data\n",
    "data_ob = pd.read_csv('Data/obesity_data.csv')"
   ]
  },
  {
   "cell_type": "code",
   "execution_count": 0,
   "metadata": {
    "application/vnd.databricks.v1+cell": {
     "cellMetadata": {
      "byteLimit": 2048000,
      "rowLimit": 10000
     },
     "inputWidgets": {},
     "nuid": "7e55269e-3a81-41c0-876d-0dbd4a948c5d",
     "showTitle": false,
     "title": ""
    }
   },
   "outputs": [
    {
     "output_type": "display_data",
     "data": {
      "text/html": [
       "<div>\n",
       "<style scoped>\n",
       "    .dataframe tbody tr th:only-of-type {\n",
       "        vertical-align: middle;\n",
       "    }\n",
       "\n",
       "    .dataframe tbody tr th {\n",
       "        vertical-align: top;\n",
       "    }\n",
       "\n",
       "    .dataframe thead th {\n",
       "        text-align: right;\n",
       "    }\n",
       "</style>\n",
       "<table border=\"1\" class=\"dataframe\">\n",
       "  <thead>\n",
       "    <tr style=\"text-align: right;\">\n",
       "      <th></th>\n",
       "      <th>Gender</th>\n",
       "      <th>Age</th>\n",
       "      <th>Height</th>\n",
       "      <th>Weight</th>\n",
       "      <th>family_history_with_overweight</th>\n",
       "      <th>FAVC</th>\n",
       "      <th>FCVC</th>\n",
       "      <th>NCP</th>\n",
       "      <th>CAEC</th>\n",
       "      <th>SMOKE</th>\n",
       "      <th>CH2O</th>\n",
       "      <th>SCC</th>\n",
       "      <th>FAF</th>\n",
       "      <th>TUE</th>\n",
       "      <th>CALC</th>\n",
       "      <th>MTRANS</th>\n",
       "      <th>NObeyesdad</th>\n",
       "    </tr>\n",
       "  </thead>\n",
       "  <tbody>\n",
       "    <tr>\n",
       "      <th>0</th>\n",
       "      <td>Female</td>\n",
       "      <td>21.000000</td>\n",
       "      <td>1.620000</td>\n",
       "      <td>64.000000</td>\n",
       "      <td>yes</td>\n",
       "      <td>no</td>\n",
       "      <td>2.0</td>\n",
       "      <td>3.0</td>\n",
       "      <td>Sometimes</td>\n",
       "      <td>no</td>\n",
       "      <td>2.000000</td>\n",
       "      <td>no</td>\n",
       "      <td>0.000000</td>\n",
       "      <td>1.000000</td>\n",
       "      <td>no</td>\n",
       "      <td>Public_Transportation</td>\n",
       "      <td>Normal_Weight</td>\n",
       "    </tr>\n",
       "    <tr>\n",
       "      <th>1</th>\n",
       "      <td>Female</td>\n",
       "      <td>21.000000</td>\n",
       "      <td>1.520000</td>\n",
       "      <td>56.000000</td>\n",
       "      <td>yes</td>\n",
       "      <td>no</td>\n",
       "      <td>3.0</td>\n",
       "      <td>3.0</td>\n",
       "      <td>Sometimes</td>\n",
       "      <td>yes</td>\n",
       "      <td>3.000000</td>\n",
       "      <td>yes</td>\n",
       "      <td>3.000000</td>\n",
       "      <td>0.000000</td>\n",
       "      <td>Sometimes</td>\n",
       "      <td>Public_Transportation</td>\n",
       "      <td>Normal_Weight</td>\n",
       "    </tr>\n",
       "    <tr>\n",
       "      <th>2</th>\n",
       "      <td>Male</td>\n",
       "      <td>23.000000</td>\n",
       "      <td>1.800000</td>\n",
       "      <td>77.000000</td>\n",
       "      <td>yes</td>\n",
       "      <td>no</td>\n",
       "      <td>2.0</td>\n",
       "      <td>3.0</td>\n",
       "      <td>Sometimes</td>\n",
       "      <td>no</td>\n",
       "      <td>2.000000</td>\n",
       "      <td>no</td>\n",
       "      <td>2.000000</td>\n",
       "      <td>1.000000</td>\n",
       "      <td>Frequently</td>\n",
       "      <td>Public_Transportation</td>\n",
       "      <td>Normal_Weight</td>\n",
       "    </tr>\n",
       "    <tr>\n",
       "      <th>3</th>\n",
       "      <td>Male</td>\n",
       "      <td>27.000000</td>\n",
       "      <td>1.800000</td>\n",
       "      <td>87.000000</td>\n",
       "      <td>no</td>\n",
       "      <td>no</td>\n",
       "      <td>3.0</td>\n",
       "      <td>3.0</td>\n",
       "      <td>Sometimes</td>\n",
       "      <td>no</td>\n",
       "      <td>2.000000</td>\n",
       "      <td>no</td>\n",
       "      <td>2.000000</td>\n",
       "      <td>0.000000</td>\n",
       "      <td>Frequently</td>\n",
       "      <td>Walking</td>\n",
       "      <td>Overweight_Level_I</td>\n",
       "    </tr>\n",
       "    <tr>\n",
       "      <th>4</th>\n",
       "      <td>Male</td>\n",
       "      <td>22.000000</td>\n",
       "      <td>1.780000</td>\n",
       "      <td>89.800000</td>\n",
       "      <td>no</td>\n",
       "      <td>no</td>\n",
       "      <td>2.0</td>\n",
       "      <td>1.0</td>\n",
       "      <td>Sometimes</td>\n",
       "      <td>no</td>\n",
       "      <td>2.000000</td>\n",
       "      <td>no</td>\n",
       "      <td>0.000000</td>\n",
       "      <td>0.000000</td>\n",
       "      <td>Sometimes</td>\n",
       "      <td>Public_Transportation</td>\n",
       "      <td>Overweight_Level_II</td>\n",
       "    </tr>\n",
       "    <tr>\n",
       "      <th>...</th>\n",
       "      <td>...</td>\n",
       "      <td>...</td>\n",
       "      <td>...</td>\n",
       "      <td>...</td>\n",
       "      <td>...</td>\n",
       "      <td>...</td>\n",
       "      <td>...</td>\n",
       "      <td>...</td>\n",
       "      <td>...</td>\n",
       "      <td>...</td>\n",
       "      <td>...</td>\n",
       "      <td>...</td>\n",
       "      <td>...</td>\n",
       "      <td>...</td>\n",
       "      <td>...</td>\n",
       "      <td>...</td>\n",
       "      <td>...</td>\n",
       "    </tr>\n",
       "    <tr>\n",
       "      <th>2106</th>\n",
       "      <td>Female</td>\n",
       "      <td>20.976842</td>\n",
       "      <td>1.710730</td>\n",
       "      <td>131.408528</td>\n",
       "      <td>yes</td>\n",
       "      <td>yes</td>\n",
       "      <td>3.0</td>\n",
       "      <td>3.0</td>\n",
       "      <td>Sometimes</td>\n",
       "      <td>no</td>\n",
       "      <td>1.728139</td>\n",
       "      <td>no</td>\n",
       "      <td>1.676269</td>\n",
       "      <td>0.906247</td>\n",
       "      <td>Sometimes</td>\n",
       "      <td>Public_Transportation</td>\n",
       "      <td>Obesity_Type_III</td>\n",
       "    </tr>\n",
       "    <tr>\n",
       "      <th>2107</th>\n",
       "      <td>Female</td>\n",
       "      <td>21.982942</td>\n",
       "      <td>1.748584</td>\n",
       "      <td>133.742943</td>\n",
       "      <td>yes</td>\n",
       "      <td>yes</td>\n",
       "      <td>3.0</td>\n",
       "      <td>3.0</td>\n",
       "      <td>Sometimes</td>\n",
       "      <td>no</td>\n",
       "      <td>2.005130</td>\n",
       "      <td>no</td>\n",
       "      <td>1.341390</td>\n",
       "      <td>0.599270</td>\n",
       "      <td>Sometimes</td>\n",
       "      <td>Public_Transportation</td>\n",
       "      <td>Obesity_Type_III</td>\n",
       "    </tr>\n",
       "    <tr>\n",
       "      <th>2108</th>\n",
       "      <td>Female</td>\n",
       "      <td>22.524036</td>\n",
       "      <td>1.752206</td>\n",
       "      <td>133.689352</td>\n",
       "      <td>yes</td>\n",
       "      <td>yes</td>\n",
       "      <td>3.0</td>\n",
       "      <td>3.0</td>\n",
       "      <td>Sometimes</td>\n",
       "      <td>no</td>\n",
       "      <td>2.054193</td>\n",
       "      <td>no</td>\n",
       "      <td>1.414209</td>\n",
       "      <td>0.646288</td>\n",
       "      <td>Sometimes</td>\n",
       "      <td>Public_Transportation</td>\n",
       "      <td>Obesity_Type_III</td>\n",
       "    </tr>\n",
       "    <tr>\n",
       "      <th>2109</th>\n",
       "      <td>Female</td>\n",
       "      <td>24.361936</td>\n",
       "      <td>1.739450</td>\n",
       "      <td>133.346641</td>\n",
       "      <td>yes</td>\n",
       "      <td>yes</td>\n",
       "      <td>3.0</td>\n",
       "      <td>3.0</td>\n",
       "      <td>Sometimes</td>\n",
       "      <td>no</td>\n",
       "      <td>2.852339</td>\n",
       "      <td>no</td>\n",
       "      <td>1.139107</td>\n",
       "      <td>0.586035</td>\n",
       "      <td>Sometimes</td>\n",
       "      <td>Public_Transportation</td>\n",
       "      <td>Obesity_Type_III</td>\n",
       "    </tr>\n",
       "    <tr>\n",
       "      <th>2110</th>\n",
       "      <td>Female</td>\n",
       "      <td>23.664709</td>\n",
       "      <td>1.738836</td>\n",
       "      <td>133.472641</td>\n",
       "      <td>yes</td>\n",
       "      <td>yes</td>\n",
       "      <td>3.0</td>\n",
       "      <td>3.0</td>\n",
       "      <td>Sometimes</td>\n",
       "      <td>no</td>\n",
       "      <td>2.863513</td>\n",
       "      <td>no</td>\n",
       "      <td>1.026452</td>\n",
       "      <td>0.714137</td>\n",
       "      <td>Sometimes</td>\n",
       "      <td>Public_Transportation</td>\n",
       "      <td>Obesity_Type_III</td>\n",
       "    </tr>\n",
       "  </tbody>\n",
       "</table>\n",
       "<p>2111 rows × 17 columns</p>\n",
       "</div>"
      ]
     },
     "metadata": {
      "application/vnd.databricks.v1+output": {
       "addedWidgets": {},
       "arguments": {},
       "data": "<div>\n<style scoped>\n    .dataframe tbody tr th:only-of-type {\n        vertical-align: middle;\n    }\n\n    .dataframe tbody tr th {\n        vertical-align: top;\n    }\n\n    .dataframe thead th {\n        text-align: right;\n    }\n</style>\n<table border=\"1\" class=\"dataframe\">\n  <thead>\n    <tr style=\"text-align: right;\">\n      <th></th>\n      <th>Gender</th>\n      <th>Age</th>\n      <th>Height</th>\n      <th>Weight</th>\n      <th>family_history_with_overweight</th>\n      <th>FAVC</th>\n      <th>FCVC</th>\n      <th>NCP</th>\n      <th>CAEC</th>\n      <th>SMOKE</th>\n      <th>CH2O</th>\n      <th>SCC</th>\n      <th>FAF</th>\n      <th>TUE</th>\n      <th>CALC</th>\n      <th>MTRANS</th>\n      <th>NObeyesdad</th>\n    </tr>\n  </thead>\n  <tbody>\n    <tr>\n      <th>0</th>\n      <td>Female</td>\n      <td>21.000000</td>\n      <td>1.620000</td>\n      <td>64.000000</td>\n      <td>yes</td>\n      <td>no</td>\n      <td>2.0</td>\n      <td>3.0</td>\n      <td>Sometimes</td>\n      <td>no</td>\n      <td>2.000000</td>\n      <td>no</td>\n      <td>0.000000</td>\n      <td>1.000000</td>\n      <td>no</td>\n      <td>Public_Transportation</td>\n      <td>Normal_Weight</td>\n    </tr>\n    <tr>\n      <th>1</th>\n      <td>Female</td>\n      <td>21.000000</td>\n      <td>1.520000</td>\n      <td>56.000000</td>\n      <td>yes</td>\n      <td>no</td>\n      <td>3.0</td>\n      <td>3.0</td>\n      <td>Sometimes</td>\n      <td>yes</td>\n      <td>3.000000</td>\n      <td>yes</td>\n      <td>3.000000</td>\n      <td>0.000000</td>\n      <td>Sometimes</td>\n      <td>Public_Transportation</td>\n      <td>Normal_Weight</td>\n    </tr>\n    <tr>\n      <th>2</th>\n      <td>Male</td>\n      <td>23.000000</td>\n      <td>1.800000</td>\n      <td>77.000000</td>\n      <td>yes</td>\n      <td>no</td>\n      <td>2.0</td>\n      <td>3.0</td>\n      <td>Sometimes</td>\n      <td>no</td>\n      <td>2.000000</td>\n      <td>no</td>\n      <td>2.000000</td>\n      <td>1.000000</td>\n      <td>Frequently</td>\n      <td>Public_Transportation</td>\n      <td>Normal_Weight</td>\n    </tr>\n    <tr>\n      <th>3</th>\n      <td>Male</td>\n      <td>27.000000</td>\n      <td>1.800000</td>\n      <td>87.000000</td>\n      <td>no</td>\n      <td>no</td>\n      <td>3.0</td>\n      <td>3.0</td>\n      <td>Sometimes</td>\n      <td>no</td>\n      <td>2.000000</td>\n      <td>no</td>\n      <td>2.000000</td>\n      <td>0.000000</td>\n      <td>Frequently</td>\n      <td>Walking</td>\n      <td>Overweight_Level_I</td>\n    </tr>\n    <tr>\n      <th>4</th>\n      <td>Male</td>\n      <td>22.000000</td>\n      <td>1.780000</td>\n      <td>89.800000</td>\n      <td>no</td>\n      <td>no</td>\n      <td>2.0</td>\n      <td>1.0</td>\n      <td>Sometimes</td>\n      <td>no</td>\n      <td>2.000000</td>\n      <td>no</td>\n      <td>0.000000</td>\n      <td>0.000000</td>\n      <td>Sometimes</td>\n      <td>Public_Transportation</td>\n      <td>Overweight_Level_II</td>\n    </tr>\n    <tr>\n      <th>...</th>\n      <td>...</td>\n      <td>...</td>\n      <td>...</td>\n      <td>...</td>\n      <td>...</td>\n      <td>...</td>\n      <td>...</td>\n      <td>...</td>\n      <td>...</td>\n      <td>...</td>\n      <td>...</td>\n      <td>...</td>\n      <td>...</td>\n      <td>...</td>\n      <td>...</td>\n      <td>...</td>\n      <td>...</td>\n    </tr>\n    <tr>\n      <th>2106</th>\n      <td>Female</td>\n      <td>20.976842</td>\n      <td>1.710730</td>\n      <td>131.408528</td>\n      <td>yes</td>\n      <td>yes</td>\n      <td>3.0</td>\n      <td>3.0</td>\n      <td>Sometimes</td>\n      <td>no</td>\n      <td>1.728139</td>\n      <td>no</td>\n      <td>1.676269</td>\n      <td>0.906247</td>\n      <td>Sometimes</td>\n      <td>Public_Transportation</td>\n      <td>Obesity_Type_III</td>\n    </tr>\n    <tr>\n      <th>2107</th>\n      <td>Female</td>\n      <td>21.982942</td>\n      <td>1.748584</td>\n      <td>133.742943</td>\n      <td>yes</td>\n      <td>yes</td>\n      <td>3.0</td>\n      <td>3.0</td>\n      <td>Sometimes</td>\n      <td>no</td>\n      <td>2.005130</td>\n      <td>no</td>\n      <td>1.341390</td>\n      <td>0.599270</td>\n      <td>Sometimes</td>\n      <td>Public_Transportation</td>\n      <td>Obesity_Type_III</td>\n    </tr>\n    <tr>\n      <th>2108</th>\n      <td>Female</td>\n      <td>22.524036</td>\n      <td>1.752206</td>\n      <td>133.689352</td>\n      <td>yes</td>\n      <td>yes</td>\n      <td>3.0</td>\n      <td>3.0</td>\n      <td>Sometimes</td>\n      <td>no</td>\n      <td>2.054193</td>\n      <td>no</td>\n      <td>1.414209</td>\n      <td>0.646288</td>\n      <td>Sometimes</td>\n      <td>Public_Transportation</td>\n      <td>Obesity_Type_III</td>\n    </tr>\n    <tr>\n      <th>2109</th>\n      <td>Female</td>\n      <td>24.361936</td>\n      <td>1.739450</td>\n      <td>133.346641</td>\n      <td>yes</td>\n      <td>yes</td>\n      <td>3.0</td>\n      <td>3.0</td>\n      <td>Sometimes</td>\n      <td>no</td>\n      <td>2.852339</td>\n      <td>no</td>\n      <td>1.139107</td>\n      <td>0.586035</td>\n      <td>Sometimes</td>\n      <td>Public_Transportation</td>\n      <td>Obesity_Type_III</td>\n    </tr>\n    <tr>\n      <th>2110</th>\n      <td>Female</td>\n      <td>23.664709</td>\n      <td>1.738836</td>\n      <td>133.472641</td>\n      <td>yes</td>\n      <td>yes</td>\n      <td>3.0</td>\n      <td>3.0</td>\n      <td>Sometimes</td>\n      <td>no</td>\n      <td>2.863513</td>\n      <td>no</td>\n      <td>1.026452</td>\n      <td>0.714137</td>\n      <td>Sometimes</td>\n      <td>Public_Transportation</td>\n      <td>Obesity_Type_III</td>\n    </tr>\n  </tbody>\n</table>\n<p>2111 rows × 17 columns</p>\n</div>",
       "datasetInfos": [],
       "metadata": {},
       "removedWidgets": [],
       "textData": null,
       "type": "htmlSandbox"
      }
     },
     "output_type": "display_data"
    }
   ],
   "source": [
    "# Take a look at the data\n",
    "data_ob"
   ]
  },
  {
   "cell_type": "markdown",
   "metadata": {
    "application/vnd.databricks.v1+cell": {
     "cellMetadata": {
      "byteLimit": 2048000,
      "rowLimit": 10000
     },
     "inputWidgets": {},
     "nuid": "04450d29-3a78-4e7d-8278-8b0f5d54e574",
     "showTitle": false,
     "title": ""
    }
   },
   "source": [
    "## 4.1 Attributes explanation\n",
    "\n",
    "The first 5 features contain some basic information about individuals along with the information about the presence of overweightedness in a family.\n",
    "\n",
    "- Gender: the gender\n",
    "- Age: the age\n",
    "- Height: the height \n",
    "- Weight: the weight \n",
    "- family_history_with_overweight: family member who is/was overweight\n",
    "\n",
    "Columns related to eating habits:\n",
    "\n",
    "- FAVC: whether an individual consumes high caloric food frequently\n",
    "- FCVC: how frequently vegetables are used in main meals\n",
    "- NCP: the number of main meals per day\n",
    "- CAEC: consuming any food between main meals\n",
    "- SMOKE: smoking\n",
    "- CH2O: consumption of water per day\n",
    "\n",
    "Columns related to physical condition:\n",
    "- SCC: caloriy intake tracking\n",
    "- FAF: physical activity frequency\n",
    "- TUE: usage of technological devices per day\n",
    "- CALC: alcohol consumption\n",
    "- MTRANS: type of transportation\n",
    "\n",
    "The last feature 'NObeyesdad' was created using the equation for the BMI (Body Mass Index) for each individual. Resulting values were compared with the data provided by the WHO (World Health Organization) and the Mexican Normativity. \n",
    "\n",
    "Resulting labels:\n",
    "\n",
    "-Underweight (< 18.5)   \n",
    "-Normal (18.5 - 24.9)   \n",
    "-Overweight (25 - 29.9)  \n",
    "-Obesity I (30 - 34.9)  \n",
    "-Obesity II (35 - 39)  \n",
    "-Obesity III (> 40)"
   ]
  },
  {
   "cell_type": "markdown",
   "metadata": {
    "application/vnd.databricks.v1+cell": {
     "cellMetadata": {
      "byteLimit": 2048000,
      "rowLimit": 10000
     },
     "inputWidgets": {},
     "nuid": "6a6fdc8a-a3e0-4337-a449-6c8e153f76a2",
     "showTitle": false,
     "title": ""
    }
   },
   "source": [
    "### 4.1.1 Exploring the data"
   ]
  },
  {
   "cell_type": "code",
   "execution_count": 0,
   "metadata": {
    "application/vnd.databricks.v1+cell": {
     "cellMetadata": {
      "byteLimit": 2048000,
      "rowLimit": 10000
     },
     "inputWidgets": {},
     "nuid": "42334be4-ba9d-46e1-a4c2-faa442ea620d",
     "showTitle": false,
     "title": ""
    }
   },
   "outputs": [
    {
     "output_type": "stream",
     "name": "stdout",
     "output_type": "stream",
     "text": [
      "Out[32]: Gender                             object\nAge                               float64\nHeight                            float64\nWeight                            float64\nfamily_history_with_overweight     object\nFAVC                               object\nFCVC                              float64\nNCP                               float64\nCAEC                               object\nSMOKE                              object\nCH2O                              float64\nSCC                                object\nFAF                               float64\nTUE                               float64\nCALC                               object\nMTRANS                             object\nNObeyesdad                         object\ndtype: object"
     ]
    }
   ],
   "source": [
    "# Check the column's data type\n",
    "data_ob.dtypes"
   ]
  },
  {
   "cell_type": "code",
   "execution_count": 0,
   "metadata": {
    "application/vnd.databricks.v1+cell": {
     "cellMetadata": {
      "byteLimit": 2048000,
      "rowLimit": 10000
     },
     "inputWidgets": {},
     "nuid": "041ff37c-48ff-4c7d-9b94-40c8773a79ca",
     "showTitle": false,
     "title": ""
    }
   },
   "outputs": [
    {
     "output_type": "display_data",
     "data": {
      "text/html": [
       "<div>\n",
       "<style scoped>\n",
       "    .dataframe tbody tr th:only-of-type {\n",
       "        vertical-align: middle;\n",
       "    }\n",
       "\n",
       "    .dataframe tbody tr th {\n",
       "        vertical-align: top;\n",
       "    }\n",
       "\n",
       "    .dataframe thead th {\n",
       "        text-align: right;\n",
       "    }\n",
       "</style>\n",
       "<table border=\"1\" class=\"dataframe\">\n",
       "  <thead>\n",
       "    <tr style=\"text-align: right;\">\n",
       "      <th></th>\n",
       "      <th>Age</th>\n",
       "      <th>Height</th>\n",
       "      <th>Weight</th>\n",
       "      <th>FCVC</th>\n",
       "      <th>NCP</th>\n",
       "      <th>CH2O</th>\n",
       "      <th>FAF</th>\n",
       "      <th>TUE</th>\n",
       "    </tr>\n",
       "  </thead>\n",
       "  <tbody>\n",
       "    <tr>\n",
       "      <th>count</th>\n",
       "      <td>2111.000000</td>\n",
       "      <td>2111.000000</td>\n",
       "      <td>2111.000000</td>\n",
       "      <td>2111.000000</td>\n",
       "      <td>2111.000000</td>\n",
       "      <td>2111.000000</td>\n",
       "      <td>2111.000000</td>\n",
       "      <td>2111.000000</td>\n",
       "    </tr>\n",
       "    <tr>\n",
       "      <th>mean</th>\n",
       "      <td>24.312600</td>\n",
       "      <td>1.701677</td>\n",
       "      <td>86.586058</td>\n",
       "      <td>2.419043</td>\n",
       "      <td>2.685628</td>\n",
       "      <td>2.008011</td>\n",
       "      <td>1.010298</td>\n",
       "      <td>0.657866</td>\n",
       "    </tr>\n",
       "    <tr>\n",
       "      <th>std</th>\n",
       "      <td>6.345968</td>\n",
       "      <td>0.093305</td>\n",
       "      <td>26.191172</td>\n",
       "      <td>0.533927</td>\n",
       "      <td>0.778039</td>\n",
       "      <td>0.612953</td>\n",
       "      <td>0.850592</td>\n",
       "      <td>0.608927</td>\n",
       "    </tr>\n",
       "    <tr>\n",
       "      <th>min</th>\n",
       "      <td>14.000000</td>\n",
       "      <td>1.450000</td>\n",
       "      <td>39.000000</td>\n",
       "      <td>1.000000</td>\n",
       "      <td>1.000000</td>\n",
       "      <td>1.000000</td>\n",
       "      <td>0.000000</td>\n",
       "      <td>0.000000</td>\n",
       "    </tr>\n",
       "    <tr>\n",
       "      <th>25%</th>\n",
       "      <td>19.947192</td>\n",
       "      <td>1.630000</td>\n",
       "      <td>65.473343</td>\n",
       "      <td>2.000000</td>\n",
       "      <td>2.658738</td>\n",
       "      <td>1.584812</td>\n",
       "      <td>0.124505</td>\n",
       "      <td>0.000000</td>\n",
       "    </tr>\n",
       "    <tr>\n",
       "      <th>50%</th>\n",
       "      <td>22.777890</td>\n",
       "      <td>1.700499</td>\n",
       "      <td>83.000000</td>\n",
       "      <td>2.385502</td>\n",
       "      <td>3.000000</td>\n",
       "      <td>2.000000</td>\n",
       "      <td>1.000000</td>\n",
       "      <td>0.625350</td>\n",
       "    </tr>\n",
       "    <tr>\n",
       "      <th>75%</th>\n",
       "      <td>26.000000</td>\n",
       "      <td>1.768464</td>\n",
       "      <td>107.430682</td>\n",
       "      <td>3.000000</td>\n",
       "      <td>3.000000</td>\n",
       "      <td>2.477420</td>\n",
       "      <td>1.666678</td>\n",
       "      <td>1.000000</td>\n",
       "    </tr>\n",
       "    <tr>\n",
       "      <th>max</th>\n",
       "      <td>61.000000</td>\n",
       "      <td>1.980000</td>\n",
       "      <td>173.000000</td>\n",
       "      <td>3.000000</td>\n",
       "      <td>4.000000</td>\n",
       "      <td>3.000000</td>\n",
       "      <td>3.000000</td>\n",
       "      <td>2.000000</td>\n",
       "    </tr>\n",
       "  </tbody>\n",
       "</table>\n",
       "</div>"
      ]
     },
     "metadata": {
      "application/vnd.databricks.v1+output": {
       "addedWidgets": {},
       "arguments": {},
       "data": "<div>\n<style scoped>\n    .dataframe tbody tr th:only-of-type {\n        vertical-align: middle;\n    }\n\n    .dataframe tbody tr th {\n        vertical-align: top;\n    }\n\n    .dataframe thead th {\n        text-align: right;\n    }\n</style>\n<table border=\"1\" class=\"dataframe\">\n  <thead>\n    <tr style=\"text-align: right;\">\n      <th></th>\n      <th>Age</th>\n      <th>Height</th>\n      <th>Weight</th>\n      <th>FCVC</th>\n      <th>NCP</th>\n      <th>CH2O</th>\n      <th>FAF</th>\n      <th>TUE</th>\n    </tr>\n  </thead>\n  <tbody>\n    <tr>\n      <th>count</th>\n      <td>2111.000000</td>\n      <td>2111.000000</td>\n      <td>2111.000000</td>\n      <td>2111.000000</td>\n      <td>2111.000000</td>\n      <td>2111.000000</td>\n      <td>2111.000000</td>\n      <td>2111.000000</td>\n    </tr>\n    <tr>\n      <th>mean</th>\n      <td>24.312600</td>\n      <td>1.701677</td>\n      <td>86.586058</td>\n      <td>2.419043</td>\n      <td>2.685628</td>\n      <td>2.008011</td>\n      <td>1.010298</td>\n      <td>0.657866</td>\n    </tr>\n    <tr>\n      <th>std</th>\n      <td>6.345968</td>\n      <td>0.093305</td>\n      <td>26.191172</td>\n      <td>0.533927</td>\n      <td>0.778039</td>\n      <td>0.612953</td>\n      <td>0.850592</td>\n      <td>0.608927</td>\n    </tr>\n    <tr>\n      <th>min</th>\n      <td>14.000000</td>\n      <td>1.450000</td>\n      <td>39.000000</td>\n      <td>1.000000</td>\n      <td>1.000000</td>\n      <td>1.000000</td>\n      <td>0.000000</td>\n      <td>0.000000</td>\n    </tr>\n    <tr>\n      <th>25%</th>\n      <td>19.947192</td>\n      <td>1.630000</td>\n      <td>65.473343</td>\n      <td>2.000000</td>\n      <td>2.658738</td>\n      <td>1.584812</td>\n      <td>0.124505</td>\n      <td>0.000000</td>\n    </tr>\n    <tr>\n      <th>50%</th>\n      <td>22.777890</td>\n      <td>1.700499</td>\n      <td>83.000000</td>\n      <td>2.385502</td>\n      <td>3.000000</td>\n      <td>2.000000</td>\n      <td>1.000000</td>\n      <td>0.625350</td>\n    </tr>\n    <tr>\n      <th>75%</th>\n      <td>26.000000</td>\n      <td>1.768464</td>\n      <td>107.430682</td>\n      <td>3.000000</td>\n      <td>3.000000</td>\n      <td>2.477420</td>\n      <td>1.666678</td>\n      <td>1.000000</td>\n    </tr>\n    <tr>\n      <th>max</th>\n      <td>61.000000</td>\n      <td>1.980000</td>\n      <td>173.000000</td>\n      <td>3.000000</td>\n      <td>4.000000</td>\n      <td>3.000000</td>\n      <td>3.000000</td>\n      <td>2.000000</td>\n    </tr>\n  </tbody>\n</table>\n</div>",
       "datasetInfos": [],
       "metadata": {},
       "removedWidgets": [],
       "textData": null,
       "type": "htmlSandbox"
      }
     },
     "output_type": "display_data"
    }
   ],
   "source": [
    "# Explore descriptive statistics\n",
    "data_ob.describe()"
   ]
  },
  {
   "cell_type": "code",
   "execution_count": 0,
   "metadata": {
    "application/vnd.databricks.v1+cell": {
     "cellMetadata": {
      "byteLimit": 2048000,
      "rowLimit": 10000
     },
     "inputWidgets": {},
     "nuid": "611d4321-85da-4051-ae83-337156d2c0c2",
     "showTitle": false,
     "title": ""
    }
   },
   "outputs": [
    {
     "output_type": "stream",
     "name": "stdout",
     "output_type": "stream",
     "text": [
      "Out[34]: Gender                            0\nAge                               0\nHeight                            0\nWeight                            0\nfamily_history_with_overweight    0\nFAVC                              0\nFCVC                              0\nNCP                               0\nCAEC                              0\nSMOKE                             0\nCH2O                              0\nSCC                               0\nFAF                               0\nTUE                               0\nCALC                              0\nMTRANS                            0\nNObeyesdad                        0\ndtype: int64"
     ]
    }
   ],
   "source": [
    "# Check missing values\n",
    "data_ob.isnull().sum()"
   ]
  },
  {
   "cell_type": "code",
   "execution_count": 0,
   "metadata": {
    "application/vnd.databricks.v1+cell": {
     "cellMetadata": {
      "byteLimit": 2048000,
      "rowLimit": 10000
     },
     "inputWidgets": {},
     "nuid": "981c7f71-af87-4220-9f32-e3993b477607",
     "showTitle": false,
     "title": ""
    }
   },
   "outputs": [
    {
     "output_type": "stream",
     "name": "stdout",
     "output_type": "stream",
     "text": [
      "Out[35]: 24"
     ]
    }
   ],
   "source": [
    "# Count the number of duplicated rows\n",
    "data_ob.duplicated().sum()"
   ]
  },
  {
   "cell_type": "code",
   "execution_count": 0,
   "metadata": {
    "application/vnd.databricks.v1+cell": {
     "cellMetadata": {
      "byteLimit": 2048000,
      "rowLimit": 10000
     },
     "inputWidgets": {},
     "nuid": "acbb33d4-683a-46da-9a33-ca55e05ecc64",
     "showTitle": false,
     "title": ""
    }
   },
   "outputs": [],
   "source": [
    "# Remove duplicated rows\n",
    "data_ob.drop_duplicates(inplace = True)"
   ]
  },
  {
   "cell_type": "code",
   "execution_count": 0,
   "metadata": {
    "application/vnd.databricks.v1+cell": {
     "cellMetadata": {
      "byteLimit": 2048000,
      "rowLimit": 10000
     },
     "inputWidgets": {},
     "nuid": "a657d1df-baed-4e37-bc32-201724293d52",
     "showTitle": false,
     "title": ""
    }
   },
   "outputs": [],
   "source": [
    "# TASK 4 >>> Create a boxplot of the 'Age' feature\n",
    "#        >>> Set the size of the plot to (10,8)"
   ]
  },
  {
   "cell_type": "markdown",
   "metadata": {
    "application/vnd.databricks.v1+cell": {
     "cellMetadata": {
      "byteLimit": 2048000,
      "rowLimit": 10000
     },
     "inputWidgets": {},
     "nuid": "4a6fe9d0-25ad-40ef-87ed-7b354997c2b3",
     "showTitle": false,
     "title": ""
    }
   },
   "source": [
    "> What can you say about the distribution of ages? How old is the majority of people ? Is the distribution symmetrical or are there people who are older compared to the majority?"
   ]
  },
  {
   "cell_type": "code",
   "execution_count": 0,
   "metadata": {
    "application/vnd.databricks.v1+cell": {
     "cellMetadata": {
      "byteLimit": 2048000,
      "rowLimit": 10000
     },
     "inputWidgets": {},
     "nuid": "aa904c9b-14c0-47f1-8e05-78a8b787508c",
     "showTitle": false,
     "title": ""
    }
   },
   "outputs": [],
   "source": [
    "# TASK 5 >>> Visualize the distribution of the 'Weight' feature using a histogram\n",
    "#        >>> Disable the grid lines\n",
    "#        >>> Set different numbers of bins"
   ]
  },
  {
   "cell_type": "markdown",
   "metadata": {
    "application/vnd.databricks.v1+cell": {
     "cellMetadata": {
      "byteLimit": 2048000,
      "rowLimit": 10000
     },
     "inputWidgets": {},
     "nuid": "f81f39b3-c99c-49dd-b982-a0a9b35adc48",
     "showTitle": false,
     "title": ""
    }
   },
   "source": [
    "> Based on the histogram, what is the most common weight? Does this distribution look symmetrical, or rather bimodal? Could a different number of bins reflect the data better?"
   ]
  },
  {
   "cell_type": "code",
   "execution_count": 0,
   "metadata": {
    "application/vnd.databricks.v1+cell": {
     "cellMetadata": {
      "byteLimit": 2048000,
      "rowLimit": 10000
     },
     "inputWidgets": {},
     "nuid": "0607c62d-b71d-45a7-845d-319c6ba7bac0",
     "showTitle": false,
     "title": ""
    }
   },
   "outputs": [],
   "source": [
    "# TASK 6 >>> Create a normalized barplot of 'Gender' \n",
    "#        >>> Specify the parameter normalize = True to get percentages instead of counts\n",
    "#        >>> Assign different colors to male and female (male to 'salmon', female to 'skyblue')\n",
    "#        >>> Add title: 'Proportion of gender'\n",
    "#                x-axis label: 'Gender' \n",
    "#                y-axis label: 'The percentage'"
   ]
  },
  {
   "cell_type": "code",
   "execution_count": 0,
   "metadata": {
    "application/vnd.databricks.v1+cell": {
     "cellMetadata": {
      "byteLimit": 2048000,
      "rowLimit": 10000
     },
     "inputWidgets": {},
     "nuid": "5d0ef154-d888-47e5-bc2c-4ef8acc4f0cb",
     "showTitle": false,
     "title": ""
    }
   },
   "outputs": [],
   "source": [
    "# TASK 7 >>> Create boxplots of 'Age' split by gender"
   ]
  },
  {
   "cell_type": "markdown",
   "metadata": {
    "application/vnd.databricks.v1+cell": {
     "cellMetadata": {
      "byteLimit": 2048000,
      "rowLimit": 10000
     },
     "inputWidgets": {},
     "nuid": "e1b1c6a8-385d-49e9-9058-f293778e2dcc",
     "showTitle": false,
     "title": ""
    }
   },
   "source": [
    "> Compare the ranges of values for male and female: Is the distribution similar or is there some difference? Do you see any outliers?"
   ]
  },
  {
   "cell_type": "code",
   "execution_count": 0,
   "metadata": {
    "application/vnd.databricks.v1+cell": {
     "cellMetadata": {
      "byteLimit": 2048000,
      "rowLimit": 10000
     },
     "inputWidgets": {},
     "nuid": "11e8be70-bfd9-4435-afcb-4e9bfecacaa2",
     "showTitle": false,
     "title": ""
    }
   },
   "outputs": [],
   "source": [
    "# TASK 8 >>> Find out how many people frequently eat high caloric meals ('FAVC')\n",
    "#        >>> Set rotation of x-ticks to 0 degrees"
   ]
  },
  {
   "cell_type": "markdown",
   "metadata": {
    "application/vnd.databricks.v1+cell": {
     "cellMetadata": {
      "byteLimit": 2048000,
      "rowLimit": 10000
     },
     "inputWidgets": {},
     "nuid": "9607e30a-a1bf-49b7-a4d9-44cade9904f0",
     "showTitle": false,
     "title": ""
    }
   },
   "source": [
    "The question we might ask regarding obesity levels could be: 'Which individuals are more likely to be obese based on their age?' or 'Are younger adults overweight?'.\n",
    "\n",
    "Firstly, let's look how many levels are there. We call the `.value_counts()` method on the 'Nobeyesdad' column and sort categories based on the obesity level."
   ]
  },
  {
   "cell_type": "code",
   "execution_count": 0,
   "metadata": {
    "application/vnd.databricks.v1+cell": {
     "cellMetadata": {
      "byteLimit": 2048000,
      "rowLimit": 10000
     },
     "inputWidgets": {},
     "nuid": "75730503-137e-4c95-aef2-f8a382903355",
     "showTitle": false,
     "title": ""
    }
   },
   "outputs": [
    {
     "output_type": "stream",
     "name": "stdout",
     "output_type": "stream",
     "text": [
      "Out[42]: Obesity_Type_I         351\nObesity_Type_III       324\nObesity_Type_II        297\nOverweight_Level_II    290\nNormal_Weight          282\nOverweight_Level_I     276\nInsufficient_Weight    267\nName: NObeyesdad, dtype: int64"
     ]
    }
   ],
   "source": [
    "# Counting values of the obesity levels\n",
    "data_ob.NObeyesdad.value_counts()"
   ]
  },
  {
   "cell_type": "markdown",
   "metadata": {
    "application/vnd.databricks.v1+cell": {
     "cellMetadata": {
      "byteLimit": 2048000,
      "rowLimit": 10000
     },
     "inputWidgets": {},
     "nuid": "311ab82b-465b-4e32-96f5-9d4c56b2eff2",
     "showTitle": false,
     "title": ""
    }
   },
   "source": [
    "Firstly, we define the order of obesity levels in a list and assign it to the variable `obesity_levels`."
   ]
  },
  {
   "cell_type": "code",
   "execution_count": 0,
   "metadata": {
    "application/vnd.databricks.v1+cell": {
     "cellMetadata": {
      "byteLimit": 2048000,
      "rowLimit": 10000
     },
     "inputWidgets": {},
     "nuid": "cb367d63-c153-4706-9487-1b18f6c58b20",
     "showTitle": false,
     "title": ""
    }
   },
   "outputs": [],
   "source": [
    "# Ordered categories\n",
    "obesity_levels = ['Insufficient_Weight','Normal_Weight', 'Overweight_Level_I', 'Overweight_Level_II',\n",
    "                  'Obesity_Type_I', 'Obesity_Type_II', 'Obesity_Type_III']"
   ]
  },
  {
   "cell_type": "markdown",
   "metadata": {
    "application/vnd.databricks.v1+cell": {
     "cellMetadata": {
      "byteLimit": 2048000,
      "rowLimit": 10000
     },
     "inputWidgets": {},
     "nuid": "79f42fa8-bd67-409f-90aa-05221732a83b",
     "showTitle": false,
     "title": ""
    }
   },
   "source": [
    "Then we create a CategoricalDtype `ob_levels` where we specify categories and orderness."
   ]
  },
  {
   "cell_type": "code",
   "execution_count": 0,
   "metadata": {
    "application/vnd.databricks.v1+cell": {
     "cellMetadata": {
      "byteLimit": 2048000,
      "rowLimit": 10000
     },
     "inputWidgets": {},
     "nuid": "87307b45-99c2-4ea2-8f5e-32bfeb277109",
     "showTitle": false,
     "title": ""
    }
   },
   "outputs": [],
   "source": [
    "# Creating CategoricalDtype \n",
    "ob_level = pd.api.types.CategoricalDtype(ordered = True, categories = obesity_levels)"
   ]
  },
  {
   "cell_type": "markdown",
   "metadata": {
    "application/vnd.databricks.v1+cell": {
     "cellMetadata": {
      "byteLimit": 2048000,
      "rowLimit": 10000
     },
     "inputWidgets": {},
     "nuid": "aaf558be-f1ee-41cb-960e-ece227479ade",
     "showTitle": false,
     "title": ""
    }
   },
   "source": [
    "The last step is to convert the original data type of the 'NObeyesdad' feature to CategoricalDtype."
   ]
  },
  {
   "cell_type": "code",
   "execution_count": 0,
   "metadata": {
    "application/vnd.databricks.v1+cell": {
     "cellMetadata": {
      "byteLimit": 2048000,
      "rowLimit": 10000
     },
     "inputWidgets": {},
     "nuid": "504c9160-30ec-4dab-9bf5-a56618e3e6cb",
     "showTitle": false,
     "title": ""
    }
   },
   "outputs": [],
   "source": [
    "# Converting 'NObeyesdad' to created categoricalDtype\n",
    "data_ob.NObeyesdad = data_ob.NObeyesdad.astype(ob_level)"
   ]
  },
  {
   "cell_type": "markdown",
   "metadata": {
    "application/vnd.databricks.v1+cell": {
     "cellMetadata": {
      "byteLimit": 2048000,
      "rowLimit": 10000
     },
     "inputWidgets": {},
     "nuid": "cd2a67cc-f98b-47f4-bc59-c1dbd788bf4c",
     "showTitle": false,
     "title": ""
    }
   },
   "source": [
    "We can plot obesity levels to see how these vary according to the age of individuals. To avoid overlapping label names of these categories, you can set the rotation of labels to 45 degrees with the `rot` parameter. Also, disabling grid lines can help visualization to be more comprehensible."
   ]
  },
  {
   "cell_type": "code",
   "execution_count": 0,
   "metadata": {
    "application/vnd.databricks.v1+cell": {
     "cellMetadata": {
      "byteLimit": 2048000,
      "rowLimit": 10000
     },
     "inputWidgets": {},
     "nuid": "657b8d6b-e494-49bf-922d-fc0c0e55640c",
     "showTitle": false,
     "title": ""
    }
   },
   "outputs": [],
   "source": [
    "# TASK 9 >>> Create a boxplot of the column 'Age' grouped by 'NObeyesdad'\n",
    "#        >>> Set the figure size to (10,8)\n",
    "#        >>> Set the labels on x-axis to 45 using the rot parameter\n",
    "#        >>> Disable the grid lines"
   ]
  },
  {
   "cell_type": "markdown",
   "metadata": {
    "application/vnd.databricks.v1+cell": {
     "cellMetadata": {
      "byteLimit": 2048000,
      "rowLimit": 10000
     },
     "inputWidgets": {},
     "nuid": "abafeea2-002b-4ccc-927d-f031fe99b6af",
     "showTitle": false,
     "title": ""
    }
   },
   "source": [
    "> Looking at the created plot, can you see some pattern? At what ages do people tend to suffer from some kind of obesity level?"
   ]
  },
  {
   "cell_type": "code",
   "execution_count": 0,
   "metadata": {
    "application/vnd.databricks.v1+cell": {
     "cellMetadata": {
      "byteLimit": 2048000,
      "rowLimit": 10000
     },
     "inputWidgets": {},
     "nuid": "6d0b839b-022b-479f-831a-ff499219cdc0",
     "showTitle": false,
     "title": ""
    }
   },
   "outputs": [],
   "source": [
    "# TASK 10 >>> Create a bar plot of 'the MTRANS' feature to find out how many people use a certain kind of transportation\n",
    "#         >>> Set the labels on the x-axis to 45 using rot parameter\n",
    "#         >>> Set the color to 'skyblue'\n",
    "#         >>> What is the most popular kind of transportation? "
   ]
  },
  {
   "cell_type": "markdown",
   "metadata": {
    "application/vnd.databricks.v1+cell": {
     "cellMetadata": {
      "byteLimit": 2048000,
      "rowLimit": 10000
     },
     "inputWidgets": {},
     "nuid": "874da6b8-8b9a-424c-bf26-205fd37a5261",
     "showTitle": false,
     "title": ""
    }
   },
   "source": [
    "Let's filter only those individuals who use an automobile for transportation or who walk. Then we will look at their weight."
   ]
  },
  {
   "cell_type": "code",
   "execution_count": 0,
   "metadata": {
    "application/vnd.databricks.v1+cell": {
     "cellMetadata": {
      "byteLimit": 2048000,
      "rowLimit": 10000
     },
     "inputWidgets": {},
     "nuid": "3a9ea3fd-a034-4518-a0ae-f852fbaecde8",
     "showTitle": false,
     "title": ""
    }
   },
   "outputs": [],
   "source": [
    "# Filter only those rows where transportation kind is 'Automobile' and 'Walking'\n",
    "# DataFrame.query will be explained more in a later notebook, so don't worry about it now\n",
    "subset_transport = data_ob.query('MTRANS in [\"Automobile\",\"Walking\"]')"
   ]
  },
  {
   "cell_type": "code",
   "execution_count": 0,
   "metadata": {
    "application/vnd.databricks.v1+cell": {
     "cellMetadata": {
      "byteLimit": 2048000,
      "rowLimit": 10000
     },
     "inputWidgets": {},
     "nuid": "81e011d4-85b4-4651-8e30-2163d679cb0d",
     "showTitle": false,
     "title": ""
    }
   },
   "outputs": [],
   "source": [
    "# TASK 11 >>> Create a boxplot of the newly created subset_transport DataFrame\n",
    "#         >>> Set the figure size to (10,8)\n",
    "#         >>> Set 'Weight' as the column parameter and 'MTRANS' as the by parameter\n",
    "#         >>> Set the labels on the x-axis to 45 using the rot parameter\n",
    "#         >>> Disable the grid lines"
   ]
  },
  {
   "cell_type": "markdown",
   "metadata": {
    "application/vnd.databricks.v1+cell": {
     "cellMetadata": {
      "byteLimit": 2048000,
      "rowLimit": 10000
     },
     "inputWidgets": {},
     "nuid": "9ed3100f-e92f-405d-bb14-10193e08b0ea",
     "showTitle": false,
     "title": ""
    }
   },
   "source": [
    "> What can you say about the distribution of these two groups of people? Which group has a lower weight overall? Looking at the boxplots, I think this is a motivation for all of us to consider the type of transportation next time we need to go somewhere :)"
   ]
  },
  {
   "cell_type": "markdown",
   "metadata": {
    "application/vnd.databricks.v1+cell": {
     "cellMetadata": {
      "byteLimit": 2048000,
      "rowLimit": 10000
     },
     "inputWidgets": {},
     "nuid": "05c1dce1-c4da-4d35-a439-1d6cfff7d642",
     "showTitle": false,
     "title": ""
    }
   },
   "source": [
    "### Citation request:\n",
    "Accurate occupancy detection of an office room from light, temperature, humidity and CO2 measurements using statistical learning models. Luis M. Candanedo, Véronique Feldheim. Energy and Buildings. Volume 112, 15 January 2016, Pages 28-39.\n",
    "\n",
    "Palechor, F. M., & de la Hoz Manotas, A. (2019). Dataset for estimation of obesity levels based on eating habits and physical condition in individuals from Colombia, Peru and Mexico. Data in Brief, 104344.\n",
    "\n",
    "Material adapted for RBI internal purposes with full permissions from original authors. [Source](https://github.com/zatkopatrik/authentic-data-science)"
   ]
  }
 ],
 "metadata": {
  "application/vnd.databricks.v1+notebook": {
   "dashboards": [],
   "language": "python",
   "notebookMetadata": {
    "pythonIndentUnit": 4
   },
   "notebookName": "1_Visualization_with_Pandas",
   "notebookOrigID": 706562957544372,
   "widgets": {}
  }
 },
 "nbformat": 4,
 "nbformat_minor": 0
}
