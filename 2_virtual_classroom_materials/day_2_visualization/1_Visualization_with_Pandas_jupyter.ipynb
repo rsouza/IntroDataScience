{
 "cells": [
  {
   "cell_type": "markdown",
   "metadata": {
    "application/vnd.databricks.v1+cell": {
     "cellMetadata": {},
     "inputWidgets": {},
     "nuid": "57e62135-c5a3-4d15-b689-f4b2f85600d0",
     "showTitle": false,
     "title": ""
    }
   },
   "source": [
    "# Visualizations with Pandas"
   ]
  },
  {
   "cell_type": "markdown",
   "metadata": {
    "application/vnd.databricks.v1+cell": {
     "cellMetadata": {},
     "inputWidgets": {},
     "nuid": "6ce575dc-7037-4baa-83f2-0fa5f8618caf",
     "showTitle": false,
     "title": ""
    }
   },
   "source": [
    "# 1. Introduction\n",
    "\n",
    "In Data-Science, it is very important to know-your-data. The first step that you should **always** do is to look at your data.\n",
    "\n",
    "We can look at the data by calculating its statistics, examining different samples in random, and of course - by visualizing the data.  \n",
    "Data Visualization might reveal patterns that wouldn't be discovered otherwise.\n",
    "\n",
    "## 1.1 Goals\n",
    "In this notebook, you will learn how to plot your dataframe data using Pandas.\n",
    "\n",
    "## 1.2 Why Pandas?\n",
    "\n",
    "The [Pandas library's plot method](https://pandas.pydata.org/pandas-docs/stable/reference/api/pandas.DataFrame.plot.html) is often your first option to create visual insights to better understand your data.  \n",
    "Its main advantage is simplicity and straightforward methods for data visualization.  \n",
    "\n",
    "Behind the scenes of plotting with Pandas is another, stronger and more complicated library - [Matplotlib](https://matplotlib.org/) - which we will cover in a later lesson.  \n",
    "When we call Pandas' plotting functions, [Matplotlib](https://matplotlib.org/) acts as an engine.  \n",
    "Pandas simplifies the usage of [Matplotlib](https://matplotlib.org/), and supplies a high level code for it.\n",
    "\n",
    "In their [getting-started tutorials](https://pandas.pydata.org/docs/getting_started/intro_tutorials/index.html) pandas included also a [section for plotting](https://pandas.pydata.org/docs/getting_started/intro_tutorials/04_plotting.html), which is very recommended to read as well."
   ]
  },
  {
   "cell_type": "markdown",
   "metadata": {
    "application/vnd.databricks.v1+cell": {
     "cellMetadata": {},
     "inputWidgets": {},
     "nuid": "6258088e-d1ac-4ef0-a1df-3803a5a7836d",
     "showTitle": false,
     "title": ""
    }
   },
   "source": [
    "We start with importing the Pandas library:"
   ]
  },
  {
   "cell_type": "code",
   "execution_count": 0,
   "metadata": {
    "application/vnd.databricks.v1+cell": {
     "cellMetadata": {
      "byteLimit": 2048000,
      "rowLimit": 10000
     },
     "inputWidgets": {},
     "nuid": "282c1963-35fe-4040-8d6d-2fe886fd9dde",
     "showTitle": false,
     "title": ""
    }
   },
   "outputs": [],
   "source": [
    "# Import Pandas & Numpy libraries\n",
    "import pandas as pd\n",
    "import numpy as np\n",
    "\n",
    "# For now, we use Matplotlib only to set the size of plots\n",
    "import matplotlib.pyplot as plt\n",
    "\n",
    "# rcParams allow us to set the size global to the whole notebook \n",
    "plt.rcParams['figure.figsize'] = [10,6]\n",
    "# In some plots, we define the size within the plotting function\n"
   ]
  },
  {
   "cell_type": "markdown",
   "metadata": {
    "application/vnd.databricks.v1+cell": {
     "cellMetadata": {},
     "inputWidgets": {},
     "nuid": "793df5d0-6c0e-4094-95a3-8a4f9781dc5f",
     "showTitle": false,
     "title": ""
    }
   },
   "source": [
    "# 2. Loading the Dataset\n",
    "\n",
    "We will be working with an [occupancy detection](https://archive.ics.uci.edu/ml/datasets/Occupancy+Detection) dataset.  \n",
    "This dataset describes different attributes, which potentially could indicate whether a person is present in a room.  "
   ]
  },
  {
   "cell_type": "code",
   "execution_count": 0,
   "metadata": {
    "application/vnd.databricks.v1+cell": {
     "cellMetadata": {
      "byteLimit": 2048000,
      "rowLimit": 10000
     },
     "inputWidgets": {},
     "nuid": "ad1a9a67-ef79-4d17-b96c-4b6029578ddc",
     "showTitle": false,
     "title": ""
    }
   },
   "outputs": [],
   "source": [
    "# Load the data\n",
    "df_room_occupancy = pd.read_csv('../../Data/room_occupancy.csv')"
   ]
  },
  {
   "cell_type": "code",
   "execution_count": 0,
   "metadata": {
    "application/vnd.databricks.v1+cell": {
     "cellMetadata": {
      "byteLimit": 2048000,
      "rowLimit": 10000
     },
     "inputWidgets": {},
     "nuid": "9d11234c-efb3-4594-ae6c-ceabfd15d006",
     "showTitle": false,
     "title": ""
    }
   },
   "outputs": [],
   "source": [
    "# Take a look at the first 10 rows\n",
    "df_room_occupancy.head(10)"
   ]
  },
  {
   "cell_type": "code",
   "execution_count": 0,
   "metadata": {
    "application/vnd.databricks.v1+cell": {
     "cellMetadata": {
      "byteLimit": 2048000,
      "rowLimit": 10000
     },
     "inputWidgets": {},
     "nuid": "75d8c5e7-d489-4961-9a67-a44165910bca",
     "showTitle": false,
     "title": ""
    }
   },
   "outputs": [],
   "source": [
    "# Print number of rows and columns\n",
    "df_room_occupancy.shape"
   ]
  },
  {
   "cell_type": "markdown",
   "metadata": {
    "application/vnd.databricks.v1+cell": {
     "cellMetadata": {},
     "inputWidgets": {},
     "nuid": "f3c09551-a6c9-4c8e-acdf-4828fb0b8b5e",
     "showTitle": false,
     "title": ""
    }
   },
   "source": [
    "## 2.1 Attributes explanation\n",
    "\n",
    "Firstly, let's examine what variables we are dealing with.\n",
    "\n",
    "- ``date``: the specific day and time when the values were recorded \n",
    "- ``Temperature``: measured in Celsius\n",
    "- ``Humidity``: relative humidity - a present state of absolute humidity relative to a\n",
    "maximum humidity given the same temperature expressed as a percentage\n",
    "- ``Light``: measured in Lux\n",
    "- ``CO2``: in ppm (parts per million)\n",
    "- ``HumidityRatio``: derived quantity from temperature and relative humidity, expressed in kilograms of water vapor per kilogram of dry air  \n",
    "- ``Occupancy``: the presence of a person in the room. \n",
    "The occupancy of the room was obtained from pictures that were taken every minute for a period of 8 days (1 if a person is present, 0 otherwise)"
   ]
  },
  {
   "cell_type": "markdown",
   "metadata": {
    "application/vnd.databricks.v1+cell": {
     "cellMetadata": {},
     "inputWidgets": {},
     "nuid": "e3d8f771-ec05-42bc-bba8-97e411db4452",
     "showTitle": false,
     "title": ""
    }
   },
   "source": [
    "### 2.1.1 - Question #1\n",
    "\n",
    "**Look at the dataset and think**: \n",
    "1. What type of a Machine Learning task is it - *Supervised* or *Unsupervised* learning?\n",
    "2. Is it a *classification* or a *regression* task?\n",
    "3. The output is whether a person is present in a room. What type of output space is it?  \n",
    "    A. Binary   \n",
    "    B. Mutliclass  \n",
    "    C. Multilabel  "
   ]
  },
  {
   "cell_type": "markdown",
   "metadata": {
    "application/vnd.databricks.v1+cell": {
     "cellMetadata": {},
     "inputWidgets": {},
     "nuid": "a2ba12c6-c5d9-4022-a2ae-57a81a745995",
     "showTitle": false,
     "title": ""
    }
   },
   "source": [
    "Your answer:  \n",
    "1.  \n",
    "2.  \n",
    "3.  "
   ]
  },
  {
   "cell_type": "markdown",
   "metadata": {
    "application/vnd.databricks.v1+cell": {
     "cellMetadata": {},
     "inputWidgets": {},
     "nuid": "6e94e17d-e511-4ece-b115-51361c696e75",
     "showTitle": false,
     "title": ""
    }
   },
   "source": [
    "---"
   ]
  },
  {
   "cell_type": "markdown",
   "metadata": {
    "application/vnd.databricks.v1+cell": {
     "cellMetadata": {},
     "inputWidgets": {},
     "nuid": "57f5502f-cad8-4a07-b176-1e8b23eebb71",
     "showTitle": false,
     "title": ""
    }
   },
   "source": [
    "### 2.1.2 Exploring the data\n",
    "Let's look at the variables data type using\n",
    "[`.dtypes`](https://pandas.pydata.org/pandas-docs/stable/reference/api/pandas.DataFrame.dtypes.html) attribute."
   ]
  },
  {
   "cell_type": "code",
   "execution_count": 0,
   "metadata": {
    "application/vnd.databricks.v1+cell": {
     "cellMetadata": {
      "byteLimit": 2048000,
      "rowLimit": 10000
     },
     "inputWidgets": {},
     "nuid": "54b4804c-a01a-42c7-93be-b9a52956590c",
     "showTitle": false,
     "title": ""
    }
   },
   "outputs": [],
   "source": [
    "# Check variables data type\n",
    "df_room_occupancy.dtypes"
   ]
  },
  {
   "cell_type": "markdown",
   "metadata": {
    "application/vnd.databricks.v1+cell": {
     "cellMetadata": {},
     "inputWidgets": {},
     "nuid": "c7686dc2-8166-40d4-8c48-2240bd7ef42b",
     "showTitle": false,
     "title": ""
    }
   },
   "source": [
    "There are 6 numerical variables in the dataset. \n",
    "Almost all of the variables have been correctly interpreted according to their datatypes, except for the `date` column, which Python recognized as an object. \n",
    "Convert this object datatype to the datetime datatype using Pandas."
   ]
  },
  {
   "cell_type": "code",
   "execution_count": 0,
   "metadata": {
    "application/vnd.databricks.v1+cell": {
     "cellMetadata": {
      "byteLimit": 2048000,
      "rowLimit": 10000
     },
     "inputWidgets": {},
     "nuid": "c338d5db-ddc1-4f4d-acb4-dda52f2083a9",
     "showTitle": false,
     "title": ""
    }
   },
   "outputs": [],
   "source": [
    "# Convert the date column to be an actual date using Pandas `to_datetime` method:\n",
    "df_room_occupancy['date'] = pd.to_datetime(df_room_occupancy['date'])"
   ]
  },
  {
   "cell_type": "markdown",
   "metadata": {
    "application/vnd.databricks.v1+cell": {
     "cellMetadata": {},
     "inputWidgets": {},
     "nuid": "765fe413-5593-4000-a1fd-cbedc8f77a75",
     "showTitle": false,
     "title": ""
    }
   },
   "source": [
    "**Note:** If you know in advance which columns are date-columns, you can skip the conversion by specifying the date columns to be automatically parsed while loading the dataset:\n",
    "```\n",
    "df_room_occupancy = pd.read_csv('../../Data/room_occupancy.csv', parse_dates=['date'])\n",
    "```"
   ]
  },
  {
   "cell_type": "markdown",
   "metadata": {
    "application/vnd.databricks.v1+cell": {
     "cellMetadata": {},
     "inputWidgets": {},
     "nuid": "f7cb3788-b116-4e55-8abd-76dee6e74022",
     "showTitle": false,
     "title": ""
    }
   },
   "source": [
    "### 2.1.3 Checking and Handling Missing Values\n",
    "\n",
    "Let's check whether there are some missing values that we need to be aware of."
   ]
  },
  {
   "cell_type": "code",
   "execution_count": 0,
   "metadata": {
    "application/vnd.databricks.v1+cell": {
     "cellMetadata": {
      "byteLimit": 2048000,
      "rowLimit": 10000
     },
     "inputWidgets": {},
     "nuid": "56b17c08-8eec-4546-9920-f562a2ba8580",
     "showTitle": false,
     "title": ""
    }
   },
   "outputs": [],
   "source": [
    "# Explore descriptive statistics\n",
    "df_room_occupancy.describe().T"
   ]
  },
  {
   "cell_type": "code",
   "execution_count": 0,
   "metadata": {
    "application/vnd.databricks.v1+cell": {
     "cellMetadata": {
      "byteLimit": 2048000,
      "rowLimit": 10000
     },
     "inputWidgets": {},
     "nuid": "c334f5b6-269b-49b5-a26e-888bdcdb9abf",
     "showTitle": false,
     "title": ""
    }
   },
   "outputs": [],
   "source": [
    "# Check missing values\n",
    "df_room_occupancy.isnull().sum()"
   ]
  },
  {
   "cell_type": "markdown",
   "metadata": {
    "application/vnd.databricks.v1+cell": {
     "cellMetadata": {},
     "inputWidgets": {},
     "nuid": "dd64760a-0deb-44ad-972f-aaa3ac35687c",
     "showTitle": false,
     "title": ""
    }
   },
   "source": [
    "# 3. ``plot()`` method\n",
    "\n",
    "## 3.1 Default plot\n",
    "\n",
    "The\n",
    "[`.plot()`](https://pandas.pydata.org/pandas-docs/stable/reference/api/pandas.DataFrame.plot.html)\n",
    "method is simply a wrapper around [Matplotlibs](https://matplotlib.org/) plot function that create a\n",
    "[**lineplot**](https://pandas.pydata.org/pandas-docs/stable/reference/api/pandas.DataFrame.plot.line.html) by default. \n",
    "A lineplot plots each data point of a DataFrame and then draws a straight, continuous line connecting these values."
   ]
  },
  {
   "cell_type": "markdown",
   "metadata": {
    "application/vnd.databricks.v1+cell": {
     "cellMetadata": {},
     "inputWidgets": {},
     "nuid": "783aaf24-8386-4732-b05a-ea5bfde35b70",
     "showTitle": false,
     "title": ""
    }
   },
   "source": [
    "### 3.1.1 - Question #2:\n",
    "Before moving forward and plotting the default chart, please stop and ponder - or discuss with your group:\n",
    "- Our dataset represent a room status, minute after minute.  \n",
    "What type of chart would best describe the data?  \n",
    "What would you like to see in the *x* and *y* axis? Why?"
   ]
  },
  {
   "cell_type": "markdown",
   "metadata": {
    "application/vnd.databricks.v1+cell": {
     "cellMetadata": {},
     "inputWidgets": {},
     "nuid": "ea2dc7ac-04e0-49fd-954b-7cf209392ff3",
     "showTitle": false,
     "title": ""
    }
   },
   "source": [
    "### 3.1.2 - Quick Data Visualization\n",
    "If you call\n",
    "[`.plot()`](https://pandas.pydata.org/pandas-docs/stable/reference/api/pandas.DataFrame.plot.html)\n",
    "right onto the DataFrame, all of the numerical features will be plotted. \n",
    "This approach is sometimes not quite good as you can see below.  \n",
    "There are several variables with similar low values, thus they are overlapping.  \n",
    "In addition, the date column disrupt the y-axis with year values."
   ]
  },
  {
   "cell_type": "code",
   "execution_count": 0,
   "metadata": {
    "application/vnd.databricks.v1+cell": {
     "cellMetadata": {
      "byteLimit": 2048000,
      "rowLimit": 10000
     },
     "inputWidgets": {},
     "nuid": "218fa2aa-ae1b-41a4-bfd9-1a12976aefba",
     "showTitle": false,
     "title": ""
    },
    "notebookRunGroups": {
     "groupValue": ""
    }
   },
   "outputs": [],
   "source": [
    "# Create a lineplot of the DataFrame\n",
    "df_room_occupancy.plot()"
   ]
  },
  {
   "cell_type": "markdown",
   "metadata": {
    "application/vnd.databricks.v1+cell": {
     "cellMetadata": {},
     "inputWidgets": {},
     "nuid": "c867a090-f01d-4fb4-94e2-a62721d3cef4",
     "showTitle": false,
     "title": ""
    }
   },
   "source": [
    "Let´s create a violet line plot of variable `Temperature`.  \n",
    "You can select desired variable by [subsetting](https://pandas.pydata.org/docs/getting_started/intro_tutorials/03_subset_data.html) the DataFrame with square brackets."
   ]
  },
  {
   "cell_type": "code",
   "execution_count": 0,
   "metadata": {
    "application/vnd.databricks.v1+cell": {
     "cellMetadata": {
      "byteLimit": 2048000,
      "rowLimit": 10000
     },
     "inputWidgets": {},
     "nuid": "8659ab48-3829-4607-8489-18e7aa15ae4b",
     "showTitle": false,
     "title": ""
    }
   },
   "outputs": [],
   "source": [
    "# Create a line plot of Temperature variable \n",
    "df_room_occupancy['Temperature'].plot(color = 'violet')"
   ]
  },
  {
   "cell_type": "markdown",
   "metadata": {
    "application/vnd.databricks.v1+cell": {
     "cellMetadata": {},
     "inputWidgets": {},
     "nuid": "35a88f4c-64ca-4f9c-9e6f-2987308830e2",
     "showTitle": false,
     "title": ""
    }
   },
   "source": [
    "Now only `Temperature` is plotted with its respective values."
   ]
  },
  {
   "cell_type": "markdown",
   "metadata": {
    "application/vnd.databricks.v1+cell": {
     "cellMetadata": {},
     "inputWidgets": {},
     "nuid": "3469831d-a9cc-43a1-80bb-c63594d9e754",
     "showTitle": false,
     "title": ""
    }
   },
   "source": [
    "#### Extra Enrichment for Advanced - <Axis: >"
   ]
  },
  {
   "cell_type": "markdown",
   "metadata": {
    "application/vnd.databricks.v1+cell": {
     "cellMetadata": {},
     "inputWidgets": {},
     "nuid": "2b3176d7-051c-4f0b-a798-07a3e57135b3",
     "showTitle": false,
     "title": ""
    }
   },
   "source": [
    "---\n",
    "\n",
    "The observant of you might notice that the\n",
    "[`.plot()`](https://pandas.pydata.org/pandas-docs/stable/reference/api/pandas.DataFrame.plot.html)\n",
    "function returns an \n",
    "[`<Axes:>`](https://matplotlib.org/stable/api/_as_gen/matplotlib.axes.Axes.html) \n",
    "object. \n",
    "\n",
    "- *What does this mean?*  \n",
    "For now, remember that each graph is actually represented as a _Figure object_ that serves as the base, and is returned as an output. Onto this base there is an Axes object in which the x-axis and y-axis are created. In the latter section, we will discuss more details about Figures and Axes.  \n",
    "To avoid displaying this label, you can put a semicolon at the end of the line.\n",
    "\n",
    "- *Why is it empty?*  \n",
    "Pandas uses the table index for the x-axes. The index is an easy way to represent - and reach - every row in the table and is used when you subset your table by rows.  \n",
    "By default, the index of this dataframe is just an ordinal line-numbers (1, 2, 3, ...). They fulfill the index criteria of being unique, and each can represent a specific row in the dataset.  \n",
    "If we want to use another column to be the x-axis, such as the date, we must either make it an index, or specify the requested axis explicitly by passing it as a parameter to the `plot()` method (coming up in the next section).\n",
    "\n",
    "Let's see here how to set a column as an index:"
   ]
  },
  {
   "cell_type": "code",
   "execution_count": 0,
   "metadata": {
    "application/vnd.databricks.v1+cell": {
     "cellMetadata": {},
     "inputWidgets": {},
     "nuid": "e98c4bf9-cace-49f5-b9c9-b6c204e9be5a",
     "showTitle": false,
     "title": ""
    }
   },
   "outputs": [],
   "source": [
    "df_room_occupancy_date_indexed = df_room_occupancy.set_index('date')\n",
    "df_room_occupancy_date_indexed"
   ]
  },
  {
   "cell_type": "markdown",
   "metadata": {
    "application/vnd.databricks.v1+cell": {
     "cellMetadata": {},
     "inputWidgets": {},
     "nuid": "9ba88e35-231e-4ada-96fa-2e3b2cb240db",
     "showTitle": false,
     "title": ""
    }
   },
   "source": [
    "Now, if we run the exact same default `plot()` method as before on the indexed table, we will see that it uses the `date` as the *x-axis* by default:"
   ]
  },
  {
   "cell_type": "code",
   "execution_count": 0,
   "metadata": {
    "application/vnd.databricks.v1+cell": {
     "cellMetadata": {},
     "inputWidgets": {},
     "nuid": "c53fb5f3-e395-423a-984b-242501d091a8",
     "showTitle": false,
     "title": ""
    }
   },
   "outputs": [],
   "source": [
    "df_room_occupancy_date_indexed['Temperature'].plot(color = 'violet')"
   ]
  },
  {
   "cell_type": "markdown",
   "metadata": {
    "application/vnd.databricks.v1+cell": {
     "cellMetadata": {},
     "inputWidgets": {},
     "nuid": "afc1432c-b97b-450f-abef-58786ad129f6",
     "showTitle": false,
     "title": ""
    }
   },
   "source": [
    "---\n",
    "\n",
    "### 3.1.3 Mutli-Column Visualization\n",
    "\n",
    "It is also possible to plot multiple columns by subsetting the dataframe with a **list** of respective variables, separated with commas within a square brackets, and then call\n",
    "[`.plot()`](https://pandas.pydata.org/pandas-docs/stable/reference/api/pandas.DataFrame.plot.html).\n",
    "\n",
    "Pandas sets the series colors automatically so that you will be able to distinguish the features. You can manually specify the colors of the lines by using the `color` parameter.  \n",
    "Chosen colors need to be passed in a [*dictionary*](https://docs.python.org/3/tutorial/datastructures.html#dictionaries). See the following example:\n",
    "\n",
    "```\n",
    "subset_columns = ['variable_1', 'variable_2']\n",
    "df_room_occupancy[subset_columns].plot(color = {'variable_1':'yellow', 'variable_2': 'black'})\n",
    "```\n",
    "\n",
    "The legend is then also placed by default. "
   ]
  },
  {
   "cell_type": "markdown",
   "metadata": {
    "application/vnd.databricks.v1+cell": {
     "cellMetadata": {},
     "inputWidgets": {},
     "nuid": "6420102b-5da2-41bc-8331-e5fd348b36de",
     "showTitle": false,
     "title": ""
    }
   },
   "source": [
    "### 3.1.4 Question #3\n",
    "**Try multicolumn visualization yourself in the following task.**"
   ]
  },
  {
   "cell_type": "code",
   "execution_count": 0,
   "metadata": {
    "application/vnd.databricks.v1+cell": {
     "cellMetadata": {
      "byteLimit": 2048000,
      "rowLimit": 10000
     },
     "inputWidgets": {},
     "nuid": "04a01015-37ec-4535-a0cd-ebdf904fbac3",
     "showTitle": false,
     "title": ""
    }
   },
   "outputs": [],
   "source": [
    "# ************************** Your turn ********************************\n",
    "# TASK 1 >>> Create a lineplot of variables 'Temperature' and 'Humidity'\n",
    "#        >>> Set the color of Temperature to red and Humidity to be gray\n",
    "#        >>> In the created plot, observe how humidity and temperature have been decreasing and increasing\n",
    "\n",
    "\n",
    "\n",
    "\n",
    "\n",
    "\n",
    "# ***********************************************************************"
   ]
  },
  {
   "cell_type": "markdown",
   "metadata": {
    "application/vnd.databricks.v1+cell": {
     "cellMetadata": {},
     "inputWidgets": {},
     "nuid": "6ed34e80-72cb-4bc2-8897-bf629ec12003",
     "showTitle": false,
     "title": ""
    }
   },
   "source": [
    "## 3.2 Customizing the line plot parameters\n",
    "The plot method can be quite flexible by setting its parameters. Within the [`.plot()`](https://pandas.pydata.org/pandas-docs/stable/reference/api/pandas.DataFrame.plot.html) method you can set several parameters and affect visualization properties, such as the chart title, the axis labels, the plot size, etc. \n",
    "\n",
    "For example, you can plot one column against another, as we see in the example below:  \n",
    "We specify the `date` feature as the *x-axis* (`x=`) and `CO2` feature as the *y-axis* (`y=`).\n",
    "For more information about parameter settings take a look at \n",
    "[the documentation](https://pandas.pydata.org/pandas-docs/stable/reference/api/pandas.DataFrame.plot.html)."
   ]
  },
  {
   "cell_type": "code",
   "execution_count": 0,
   "metadata": {
    "application/vnd.databricks.v1+cell": {
     "cellMetadata": {
      "byteLimit": 2048000,
      "rowLimit": 10000
     },
     "inputWidgets": {},
     "nuid": "95799d11-dab6-4ae1-a919-ca70ebef69a8",
     "showTitle": false,
     "title": ""
    }
   },
   "outputs": [],
   "source": [
    "# A lineplot of amount of CO2 per date\n",
    "\n",
    "df_room_occupancy.plot(x = 'date', y = 'CO2',   # Specifying variabes on the axis\n",
    "          figsize = (15,8),                     # Setting a Figure display size (requires a tuple: weight, height)\n",
    "          fontsize = 9,                         # Setting axis ticks font size \n",
    "          color = 'navy',                       # Setting a series line color\n",
    "          title = 'Amount of CO2 over time',    # Setting a title of a plot \n",
    "          xlabel = 'Date',                      # Customizing x-axis label (would be the variable name by default)\n",
    "          ylabel = 'CO2 (in ppm)'               # Customizing y-axis label (would be empty by default)\n",
    ");"
   ]
  },
  {
   "cell_type": "markdown",
   "metadata": {
    "application/vnd.databricks.v1+cell": {
     "cellMetadata": {},
     "inputWidgets": {},
     "nuid": "dc1a6b71-d7c4-40a3-a77a-6b898650bbc6",
     "showTitle": false,
     "title": ""
    }
   },
   "source": [
    "The line plot is showing a trend of CO2 amount over a period of time from 12.02.2015 (Thursday) till 18.02.2015 (Wednesday). It's easy to notice how the amount of CO2 has decreased during the weekend (14.02.2015 - 15.02.2015)."
   ]
  },
  {
   "cell_type": "markdown",
   "metadata": {
    "application/vnd.databricks.v1+cell": {
     "cellMetadata": {},
     "inputWidgets": {},
     "nuid": "ce66f87c-29df-4d45-8114-fc4845285115",
     "showTitle": false,
     "title": ""
    }
   },
   "source": [
    "## 3.3 Beyond Line-plots\n",
    "\n",
    "So far, we use the default [`plot()`](https://pandas.pydata.org/pandas-docs/stable/reference/api/pandas.DataFrame.plot.html) method that creates a **line plot** by default.  \n",
    "However, **there are many different types of plots**, and we will go in depth of some of them in our upcoming lessons, but for now, let's clarify some of them a bit. \n"
   ]
  },
  {
   "cell_type": "markdown",
   "metadata": {
    "application/vnd.databricks.v1+cell": {
     "cellMetadata": {},
     "inputWidgets": {},
     "nuid": "d32706f9-9fb9-4f62-9cd3-ad5dea9212a1",
     "showTitle": false,
     "title": ""
    }
   },
   "source": [
    "In pandas, there are two ways to invoke a plot:\n",
    "\n",
    "1. **By passing its name as the parameter `kind` to the `plot()` method:**  \n",
    "  You can set a specific plot style out of these 11 styles, by passing their name as a string to the `kind `parameter of `plot()`.  \n",
    "  - [`line`](https://pandas.pydata.org/pandas-docs/stable/reference/api/pandas.DataFrame.plot.line.html)        - line (default)\n",
    "  - [`hist`](https://pandas.pydata.org/pandas-docs/stable/reference/api/pandas.DataFrame.plot.hist.html)        - histogram  \n",
    "  - [`box`](https://pandas.pydata.org/pandas-docs/stable/reference/api/pandas.DataFrame.plot.box.html)          - boxplot  \n",
    "  - [`bar`](https://pandas.pydata.org/pandas-docs/stable/reference/api/pandas.DataFrame.plot.bar.html)          - vertical barplot  \n",
    "  - [`barh`](https://pandas.pydata.org/pandas-docs/stable/reference/api/pandas.DataFrame.plot.barh.html)        - horizontal barplot  \n",
    "  - [`scatter`](https://pandas.pydata.org/pandas-docs/stable/reference/api/pandas.DataFrame.plot.scatter.html)  - scatterplot  \n",
    "  - [`pie`](https://pandas.pydata.org/pandas-docs/stable/reference/api/pandas.DataFrame.plot.pie.html)          - pie plot  \n",
    "  - [`kde`](https://pandas.pydata.org/pandas-docs/stable/reference/api/pandas.DataFrame.plot.kde.ht)            - density plot  \n",
    "  - [`density`](https://pandas.pydata.org/pandas-docs/stable/reference/api/pandas.DataFrame.plot.density.html)  - density plot  \n",
    "  - [`area`](https://pandas.pydata.org/pandas-docs/stable/reference/api/pandas.DataFrame.plot.area.html)        - area plot  \n",
    "  - [`hexbin`](https://pandas.pydata.org/pandas-docs/stable/reference/api/pandas.DataFrame.plot.hexbin.html)    - hexagonal bin plot  \n",
    "\n",
    "2. **Using one of the plot.<*plot_type*> method:**:  \n",
    "  All of these plots can be created using the corresponding plotting functions, which some also enables passing plot-specific parameters:\n",
    "  - [`DataFrame.plot.line`](https://pandas.pydata.org/pandas-docs/stable/reference/api/pandas.DataFrame.plot.line.html)\n",
    "  - [`DataFrame.plot.hist`](https://pandas.pydata.org/pandas-docs/stable/reference/api/pandas.DataFrame.plot.hist.html)\n",
    "  - [`DataFrame.plot.box`](https://pandas.pydata.org/pandas-docs/stable/reference/api/pandas.DataFrame.plot.box.html)\n",
    "  - [`DataFrame.plot.bar`](https://pandas.pydata.org/pandas-docs/stable/reference/api/pandas.DataFrame.plot.bar.html)\n",
    "  - [`DataFrame.plot.barh`](https://pandas.pydata.org/pandas-docs/stable/reference/api/pandas.DataFrame.plot.barh.html)\n",
    "  - [`DataFrame.plot.scatter`](https://pandas.pydata.org/pandas-docs/stable/reference/api/pandas.DataFrame.plot.scatter.html)\n",
    "  - [`DataFrame.plot.pie`](https://pandas.pydata.org/pandas-docs/stable/reference/api/pandas.DataFrame.plot.pie.html)\n",
    "  - [`DataFrame.plot.kde`](https://pandas.pydata.org/pandas-docs/stable/reference/api/pandas.DataFrame.plot.kde.ht)\n",
    "  - [`DataFrame.plot.density`](https://pandas.pydata.org/pandas-docs/stable/reference/api/pandas.DataFrame.plot.density.html)\n",
    "  - [`DataFrame.plot.area`](https://pandas.pydata.org/pandas-docs/stable/reference/api/pandas.DataFrame.plot.area.html)\n",
    "  - [`DataFrame.plot.hexbin`](https://pandas.pydata.org/pandas-docs/stable/reference/api/pandas.DataFrame.plot.hexbin.html)\n",
    "\n",
    "Additionally, to create a histogram (`hist`) or a boxplot (`box`) there are two more plotting functions, directly from the dataframe itself, without `.plot.*`:\n",
    "[`DataFrame.hist()`](https://pandas.pydata.org/pandas-docs/stable/reference/api/pandas.DataFrame.hist.html) \n",
    "and\n",
    "[`DataFrame.boxplot()`](https://pandas.pydata.org/pandas-docs/stable/reference/api/pandas.DataFrame.boxplot.html).\n",
    "\n"
   ]
  },
  {
   "cell_type": "markdown",
   "metadata": {
    "application/vnd.databricks.v1+cell": {
     "cellMetadata": {},
     "inputWidgets": {},
     "nuid": "f095160d-c8e2-4e4a-9c59-85466ea249f4",
     "showTitle": false,
     "title": ""
    }
   },
   "source": [
    "Let's take a look:\n",
    "\n",
    "##### **Passing its name as the parameter `kind` to the `plot()` method**"
   ]
  },
  {
   "cell_type": "code",
   "execution_count": 0,
   "metadata": {
    "application/vnd.databricks.v1+cell": {
     "cellMetadata": {},
     "inputWidgets": {},
     "nuid": "cbbc2986-26e2-4871-b68a-598a51905668",
     "showTitle": false,
     "title": ""
    }
   },
   "outputs": [],
   "source": [
    "# A lineplot of amount of CO2 per date\n",
    "\n",
    "df_room_occupancy.plot(\n",
    "    x = 'date', y = ['CO2', 'Light'],           # Specifying variabes on the axis\n",
    "    figsize = (15,8),                           # Setting a Figure display size (requires a tuple: weight, height)\n",
    "    fontsize = 9,                               # Setting axis ticks font size \n",
    "    color = {'CO2': 'red', 'Light': 'green'},   # Setting a color per series\n",
    "    title = 'Amount of CO2 over time',          # Setting a title of a plot \n",
    "    xlabel = 'Date',                            # Customizing x-axis label (would be the variable name by default)\n",
    "    ylabel = 'CO2 (in ppm)',                    # Customizing y-axis label (would be empty by default)\n",
    "\n",
    "    kind=\"area\",                                # Setting a plot type to be an area plot\n",
    "    stacked=True                                # Stacking the two series (CO2 and Light) on top of each other                    \n",
    ");"
   ]
  },
  {
   "cell_type": "markdown",
   "metadata": {
    "application/vnd.databricks.v1+cell": {
     "cellMetadata": {},
     "inputWidgets": {},
     "nuid": "f5cd04c4-8f4e-4adc-b71c-0d05dc1be703",
     "showTitle": false,
     "title": ""
    }
   },
   "source": [
    "##### **Using one of the plot.<*plot_type*> method**\n",
    "\n",
    "Compared to using the [`plot.area`]() method:"
   ]
  },
  {
   "cell_type": "code",
   "execution_count": 0,
   "metadata": {
    "application/vnd.databricks.v1+cell": {
     "cellMetadata": {},
     "inputWidgets": {},
     "nuid": "3ed144f5-7cc9-475a-996d-123ee83aca21",
     "showTitle": false,
     "title": ""
    }
   },
   "outputs": [],
   "source": [
    "df_room_occupancy.plot.area(\n",
    "    x = 'date', y = ['CO2', 'Light'],           # Specifying variabes on the axis\n",
    "    figsize = (15,8),                           # Setting a Figure display size (requires a tuple: weight, height)\n",
    "    fontsize = 9,                               # Setting axis ticks font size \n",
    "    color = {'CO2': 'red', 'Light': 'green'},   # Setting a series line color\n",
    "    title = 'Amount of CO2 over time',          # Setting a title of a plot \n",
    "    xlabel = 'Date',                            # Customizing x-axis label (would be the variable name by default)\n",
    "    ylabel = 'CO2 (in ppm)',                    # Customizing y-axis label (would be empty by default)\n",
    "    \n",
    "    stacked=False                               # Preventing the values to be stacked\n",
    ");"
   ]
  },
  {
   "cell_type": "markdown",
   "metadata": {
    "application/vnd.databricks.v1+cell": {
     "cellMetadata": {},
     "inputWidgets": {},
     "nuid": "4c43b128-d8a4-4038-9db9-a944e51f1d11",
     "showTitle": false,
     "title": ""
    }
   },
   "source": [
    "# 4. Spotlight: Special Plots"
   ]
  },
  {
   "cell_type": "markdown",
   "metadata": {
    "application/vnd.databricks.v1+cell": {
     "cellMetadata": {},
     "inputWidgets": {},
     "nuid": "22f2268d-60b8-4088-8446-a4117fedc12f",
     "showTitle": false,
     "title": ""
    }
   },
   "source": [
    "## 4.1 Histogram"
   ]
  },
  {
   "cell_type": "markdown",
   "metadata": {
    "application/vnd.databricks.v1+cell": {
     "cellMetadata": {},
     "inputWidgets": {},
     "nuid": "d0667507-77c0-4661-94aa-c12e3cfd391a",
     "showTitle": false,
     "title": ""
    }
   },
   "source": [
    "A histogram is a handy plot to understand the spread of data points. It creates so-called **bins** that you can think of as particular *ranges* of values. Each data point falls into the respective bin according to its value and then the number of data points in each bin are counted. \n",
    "\n",
    "Look at some statistics computed on the feature 'HumidityRatio'. We know the lowest and the highest ratio, the average value, and that 50% of values are under 30.0045, etc. But it´s hard to imagine how the distribution of 9752 observations would look like, based on these summary statistics."
   ]
  },
  {
   "cell_type": "code",
   "execution_count": 0,
   "metadata": {
    "application/vnd.databricks.v1+cell": {
     "cellMetadata": {
      "byteLimit": 2048000,
      "rowLimit": 10000
     },
     "inputWidgets": {},
     "nuid": "69bb2692-bfa6-4663-9bdf-0120b121e76d",
     "showTitle": false,
     "title": ""
    }
   },
   "outputs": [],
   "source": [
    "# Take a look at the descriptive statistics using .describe()\n",
    "df_room_occupancy.HumidityRatio.describe()"
   ]
  },
  {
   "cell_type": "markdown",
   "metadata": {
    "application/vnd.databricks.v1+cell": {
     "cellMetadata": {},
     "inputWidgets": {},
     "nuid": "4fe38624-d632-4b29-97bf-94388f8524cb",
     "showTitle": false,
     "title": ""
    }
   },
   "source": [
    "Let's create a histogram of the variable `HumidityRatio`. You can use the [`.plot()`](https://pandas.pydata.org/pandas-docs/stable/reference/api/pandas.DataFrame.plot.html) method and specify `kind = \"hist\"` within this method.  \n",
    "Again, we select desired column by subsetting the DataFrame. In this case, Pandas does not create an x-axis label.  \n",
    "Since the [`.plot()`](https://pandas.pydata.org/pandas-docs/stable/reference/api/pandas.DataFrame.plot.html) method returns [`matplotlib.axes.Axes`](https://matplotlib.org/stable/api/_as_gen/matplotlib.axes.Axes.html) object, we have access to Matplotlib capabilities and can specify labels.\n",
    "\n",
    "[`plt.xlabel`](https://matplotlib.org/stable/api/_as_gen/matplotlib.pyplot.xlabel.html) for the x-axis  \n",
    "[`plt.ylabel`](https://matplotlib.org/stable/api/_as_gen/matplotlib.pyplot.ylabel.html) for the y-axis"
   ]
  },
  {
   "cell_type": "code",
   "execution_count": 0,
   "metadata": {
    "application/vnd.databricks.v1+cell": {
     "cellMetadata": {
      "byteLimit": 2048000,
      "rowLimit": 10000
     },
     "inputWidgets": {},
     "nuid": "fc9c7a59-5ec8-43f0-9e47-7bf9bf27543d",
     "showTitle": false,
     "title": ""
    }
   },
   "outputs": [],
   "source": [
    "# The Humidity ratio\n",
    "df_room_occupancy['HumidityRatio'].plot(kind ='hist',\n",
    "                      figsize = (11,8),\n",
    "                      color = '#ff7f0e',\n",
    "                      alpha = .5,                            # Setting the color transparency                \n",
    "                      title = 'Humidity ratio distribution')\n",
    "\n",
    "plt.xlabel('Humidity Ratio')                                 # Creating x-axis label"
   ]
  },
  {
   "cell_type": "markdown",
   "metadata": {
    "application/vnd.databricks.v1+cell": {
     "cellMetadata": {},
     "inputWidgets": {},
     "nuid": "64014211-e600-4cb1-9254-1c5540c26c1a",
     "showTitle": false,
     "title": ""
    }
   },
   "source": [
    "Now we can see all of the 9752 data points plotted in one graph.  \n",
    "In the resulting graph, we can see how the values are spread across a range from about 0.003 to 0.005.  \n",
    "Most data points lie in the range of values 0.0043 to 0.0047."
   ]
  },
  {
   "cell_type": "markdown",
   "metadata": {
    "application/vnd.databricks.v1+cell": {
     "cellMetadata": {},
     "inputWidgets": {},
     "nuid": "24e212d9-ae4d-4c10-aee7-2948780a60e7",
     "showTitle": false,
     "title": ""
    }
   },
   "source": [
    "### Question #4\n",
    "By default, this method separates all of the records into 10 bins. To verify whether our resulting graph accurately reflects the underlying data we should have some fun and try to use different numbers of bins. Using different numbers of bins will change the visual appearance of the histogram."
   ]
  },
  {
   "cell_type": "code",
   "execution_count": 0,
   "metadata": {
    "application/vnd.databricks.v1+cell": {
     "cellMetadata": {
      "byteLimit": 2048000,
      "rowLimit": 10000
     },
     "inputWidgets": {},
     "nuid": "9f3e3e00-281f-4a43-a0e7-722d4c81765e",
     "showTitle": false,
     "title": ""
    }
   },
   "outputs": [],
   "source": [
    "# ************************** Your turn ********************************\n",
    "# TASK 2 >>> Create a histogram of 'Humidity' in the same way as above\n",
    "#        >>> Try changing the number of bins (e.g., 5, 20, 50) and observe the outputs \n",
    "#        >>> Play around and change the size of the plot and the transparency to see the differences\n",
    "#        >>> Set the x-axis label to 'Relative Humidity (%)'\n",
    "#        >>> Change the default y-axis label (Frequency) to 'Number of occurences'\n",
    "\n",
    "\n",
    "\n",
    "\n",
    "\n",
    "\n",
    "# ***********************************************************************"
   ]
  },
  {
   "cell_type": "markdown",
   "metadata": {
    "application/vnd.databricks.v1+cell": {
     "cellMetadata": {},
     "inputWidgets": {},
     "nuid": "71863206-d1be-4891-b639-7c69f76e4c25",
     "showTitle": false,
     "title": ""
    }
   },
   "source": [
    "By applying [`.hist()`](https://pandas.pydata.org/pandas-docs/stable/reference/api/pandas.DataFrame.hist.html) to the DataFrame level, we are able to create a histogram of the selected column or columns. It is also posibble to visualize a distribution of all the features of the dataset.\n",
    "\n",
    "This is a very important tool in the initial exploration of a new dataset."
   ]
  },
  {
   "cell_type": "code",
   "execution_count": 0,
   "metadata": {
    "application/vnd.databricks.v1+cell": {
     "cellMetadata": {
      "byteLimit": 2048000,
      "rowLimit": 10000
     },
     "inputWidgets": {},
     "nuid": "3e20d058-6141-4a71-bb76-0327a7d28c1a",
     "showTitle": false,
     "title": ""
    }
   },
   "outputs": [],
   "source": [
    "# The data distribution of the whole DataFrame\n",
    "\n",
    "df_room_occupancy.hist(layout=(2,4), grid = False)       # Setting a layout of 2 rows and 4 column and disabling the grid\n",
    "plt.suptitle('The distribution of the variables');       # Adding a centered suptitle using Matplotlib"
   ]
  },
  {
   "cell_type": "markdown",
   "metadata": {
    "application/vnd.databricks.v1+cell": {
     "cellMetadata": {},
     "inputWidgets": {},
     "nuid": "d6c767e2-fea6-44cc-bba7-e6fdbeb19316",
     "showTitle": false,
     "title": ""
    }
   },
   "source": [
    "## 4.2 Boxplot (box-and-whisker plot)\n",
    "\n",
    "Another approach to visualize a variable data distribution with more details is using boxplots.  \n",
    "The resulting plot will include a [five-number summary](https://en.wikipedia.org/wiki/Five-number_summary), similar to pandas' [describe()](https://pandas.pydata.org/pandas-docs/stable/reference/api/pandas.DataFrame.describe.html) method:\n",
    "\n",
    "    1. the smallest data point value (min)\n",
    "    2. the first quartile (1Q)\n",
    "    3. the median (Q2)\n",
    "    4. the third quartile (Q3)\n",
    "    5. and the largest data point value (max). \n",
    "    \n",
    "Boxplots can reveal to us whether there are some possible outliers in the DataFrame and whether the data distribution is skewed or rather symmetrical.\n",
    "\n",
    "To draw a boxplot you can use the [`.plot()`](https://pandas.pydata.org/pandas-docs/stable/reference/api/pandas.DataFrame.plot.html) method and specifying the `kind` keyword argument as 'box'.  \n",
    "If we want to customize things such as color, width or style of the line, we can use the `boxprops`, `whiskerprops`, `medianprops` and `capprops` parameters."
   ]
  },
  {
   "cell_type": "code",
   "execution_count": 0,
   "metadata": {
    "application/vnd.databricks.v1+cell": {
     "cellMetadata": {
      "byteLimit": 2048000,
      "rowLimit": 10000
     },
     "inputWidgets": {},
     "nuid": "93cdb7b4-74ea-4654-b7fb-b082f3fca0bd",
     "showTitle": false,
     "title": ""
    }
   },
   "outputs": [],
   "source": [
    "# A boxplot of relative humidity\n",
    "\n",
    "df_room_occupancy['HumidityRatio'].plot(\n",
    "    kind = 'box', \n",
    "    figsize = (9,5),\n",
    "    boxprops = dict(linewidth = 1.5, color = 'green',linestyle = '-.'), # Customizing the box\n",
    "    whiskerprops = dict(linewidth = 1.5, color = 'pink'),               # Customizing the whiskers\n",
    "    medianprops = dict(linewidth = 1.5, color = 'red'),                 # Customizing median line\n",
    "    capprops = dict(linewidth = 1.5, color = 'darkblue'),               # Customizing caps on the whiskers\n",
    "    title = 'Boxplot of Humidity ratio'\n",
    ");"
   ]
  },
  {
   "cell_type": "markdown",
   "metadata": {
    "application/vnd.databricks.v1+cell": {
     "cellMetadata": {},
     "inputWidgets": {},
     "nuid": "cb3b6693-784a-4ddb-a6fd-f62a6325d891",
     "showTitle": false,
     "title": ""
    }
   },
   "source": [
    "This boxplot illustrates how the values of the humidity ratio are spread out. Based on the shape it seems that the distribution is rather symetrical and also that there are no extreme values, e.g. outliers. The actual box represent 50% of records along with the median value that is displayed as a red line. \n",
    "\n",
    "You can return actual values (of quartiles/percentiles) using the [`.quantile()`](https://pandas.pydata.org/pandas-docs/stable/reference/api/pandas.Series.quantile.html) method."
   ]
  },
  {
   "cell_type": "code",
   "execution_count": 0,
   "metadata": {
    "application/vnd.databricks.v1+cell": {
     "cellMetadata": {
      "byteLimit": 2048000,
      "rowLimit": 10000
     },
     "inputWidgets": {},
     "nuid": "adf64f60-35df-415f-8805-d8268dfa0da1",
     "showTitle": false,
     "title": ""
    }
   },
   "outputs": [],
   "source": [
    "# Compute 25th percentile, median value and 75th percentile of HumidityRatio variable\n",
    "perc_25, median, perc_75 = df_room_occupancy.HumidityRatio.quantile([.25,.5,.75])"
   ]
  },
  {
   "cell_type": "code",
   "execution_count": 0,
   "metadata": {
    "application/vnd.databricks.v1+cell": {
     "cellMetadata": {
      "byteLimit": 2048000,
      "rowLimit": 10000
     },
     "inputWidgets": {},
     "nuid": "61419d9a-27ff-4802-b4eb-774ca2938c12",
     "showTitle": false,
     "title": ""
    }
   },
   "outputs": [],
   "source": [
    "# Print the output\n",
    "perc_25, median, perc_75"
   ]
  },
  {
   "cell_type": "markdown",
   "metadata": {
    "application/vnd.databricks.v1+cell": {
     "cellMetadata": {},
     "inputWidgets": {},
     "nuid": "4c2fd008-62a7-4c16-8129-9cce840aadad",
     "showTitle": false,
     "title": ""
    }
   },
   "source": [
    "Alternatively, you can use Pandas' built-in method [`DataFrame.boxplot()`](https://pandas.pydata.org/pandas-docs/stable/reference/api/pandas.DataFrame.boxplot.html).\n",
    "\n",
    "The boxplots are especially usefull when comparing two or more groups.  \n",
    "\n",
    "To illustrate this, Let's look at the *carbon dioxide amount* according to a *person's presence*.  \n",
    "You can select groups for comparison using the `by` parameter with the respective variable.\n",
    "\n",
    "We'll adjust the figure size and rename the x-tick labels. The axis grid lines are displayed by default. You can disable showing these lines by setting the parameter `grid = False`."
   ]
  },
  {
   "cell_type": "code",
   "execution_count": 0,
   "metadata": {
    "application/vnd.databricks.v1+cell": {
     "cellMetadata": {
      "byteLimit": 2048000,
      "rowLimit": 10000
     },
     "inputWidgets": {},
     "nuid": "1afc76d6-af24-42fc-b3a0-2c990e4f6289",
     "showTitle": false,
     "title": ""
    }
   },
   "outputs": [],
   "source": [
    "# A boxplot of CO2 by occupancy of the room\n",
    "\n",
    "df_room_occupancy.boxplot(\n",
    "    figsize = (10,8),\n",
    "    column = 'CO2',         # The column values to be plotted\n",
    "    by = 'Occupancy'        # The variable to group the data by (equivalent to Group By in SQL)\n",
    ")\n",
    "\n",
    "# Setting the x-tick labels using Matplotlib\n",
    "plt.xticks([1,2], ['Not occupied room','Occupied room']);"
   ]
  },
  {
   "cell_type": "markdown",
   "metadata": {
    "application/vnd.databricks.v1+cell": {
     "cellMetadata": {},
     "inputWidgets": {},
     "nuid": "16cfc2d6-822d-4b43-b583-b11bd9caee08",
     "showTitle": false,
     "title": ""
    }
   },
   "source": [
    "Comparing the distribution of two groups can helps us to better understand the data.  \n",
    "From the boxplots you can immediately see the difference in CO2 amounts. When the room is occupied, the amount of carbon dioxide is higher, while 50% of data points have values in the range of about 620 up to slightly above 1000 ppm. Also the median values are completely different. When the room is empty, the amount of carbon dioxide is substantially lower, although plot indicates a lot of outliers."
   ]
  },
  {
   "cell_type": "markdown",
   "metadata": {
    "application/vnd.databricks.v1+cell": {
     "cellMetadata": {},
     "inputWidgets": {},
     "nuid": "0d4e2e43-71f4-49e5-9d98-b659116c8e55",
     "showTitle": false,
     "title": ""
    }
   },
   "source": [
    "## 4.3 Bar plot\n",
    "\n",
    "Bar plots are useful when we want to compare categorical data based on their values. Each category is plotted on the x-axis and the bar heights represent the corresponding values. \n",
    "\n",
    "Let's create a simple DataFrame of students and theirs exam scores for illustration."
   ]
  },
  {
   "cell_type": "code",
   "execution_count": 0,
   "metadata": {
    "application/vnd.databricks.v1+cell": {
     "cellMetadata": {
      "byteLimit": 2048000,
      "rowLimit": 10000
     },
     "inputWidgets": {},
     "nuid": "513335ef-f3b0-4081-a0e0-cd23bd94e8f9",
     "showTitle": false,
     "title": ""
    }
   },
   "outputs": [],
   "source": [
    "# Example student exam score data\n",
    "\n",
    "df_exam_scores = pd.DataFrame({'Student': ['Thomas','Margaret','Lisa','John','Elis','Sally','Marc','Angela','Sebastian'],\n",
    "                            'Score': [78,50,68,83,99,98,65,90,85],\n",
    "                            'Class': ['A','B','B','B','A','A','A','B','A']})\n",
    "df_exam_scores"
   ]
  },
  {
   "cell_type": "code",
   "execution_count": 0,
   "metadata": {
    "application/vnd.databricks.v1+cell": {
     "cellMetadata": {
      "byteLimit": 2048000,
      "rowLimit": 10000
     },
     "inputWidgets": {},
     "nuid": "0e9a955c-937d-41c9-bbca-48081398138d",
     "showTitle": false,
     "title": ""
    }
   },
   "outputs": [],
   "source": [
    "# A vertical barplot of students by their score\n",
    "\n",
    "df_exam_scores.sort_values(by = 'Score', ascending = False).plot(x = 'Student', \n",
    "                                                              y = 'Score',\n",
    "                                                              kind = 'bar', \n",
    "                                                              rot = 45,\n",
    "                                                              color = ['mediumseagreen','lightgreen','sandybrown',\n",
    "                                                                      'lightcoral','wheat','lightsteelblue',\n",
    "                                                                      'slategrey','teal','black'],\n",
    "                                                              legend = False)\n",
    "plt.ylabel('Count');"
   ]
  },
  {
   "cell_type": "markdown",
   "metadata": {
    "application/vnd.databricks.v1+cell": {
     "cellMetadata": {},
     "inputWidgets": {},
     "nuid": "4f58c79b-e70e-4520-9c95-dc84dfd80d23",
     "showTitle": false,
     "title": ""
    }
   },
   "source": [
    "For creating a bar plot, we first sort the values by score in a descending fashion to display student's score.  \n",
    "If your categories have longer labels, it's appropriate to set rotation `rot` to avoid label overlapping.  \n",
    "You can explicitly set color of each bar either through specifying the color names, or the hexadecimal color codes to the `color` parameter.\n",
    "\n",
    "See this [link](https://seaborn.pydata.org/tutorial/color_palettes.html) from Seaborn where the general principles of using color in plots are described. \n",
    "___\n",
    "\n",
    "You can also choose one of the built-in [colormaps](https://matplotlib.org/stable/users/explain/colors/colormaps.html) provided by Matplotlib. Colormaps can be accessed through `plt.cm` (`cm` stands for [colormap](https://matplotlib.org/stable/users/explain/colors/colormaps.html)). \n",
    "After that, specify a chosen colormap by its name. \n",
    "A reversed version of each available colormap can be done by appending `_r`to a colormap's name. \n",
    "Using Numpy's `arange()` function we specify an interval of colors we want to select."
   ]
  },
  {
   "cell_type": "markdown",
   "metadata": {
    "application/vnd.databricks.v1+cell": {
     "cellMetadata": {},
     "inputWidgets": {},
     "nuid": "8b09f354-f121-459f-93f2-db41129a9123",
     "showTitle": false,
     "title": ""
    }
   },
   "source": [
    "### Question #5"
   ]
  },
  {
   "cell_type": "code",
   "execution_count": 0,
   "metadata": {
    "application/vnd.databricks.v1+cell": {
     "cellMetadata": {
      "byteLimit": 2048000,
      "rowLimit": 10000
     },
     "inputWidgets": {},
     "nuid": "fc0abf96-176c-4eaf-a76e-cf1d552c41ba",
     "showTitle": false,
     "title": ""
    }
   },
   "outputs": [],
   "source": [
    "# ************************** Your turn ********************************\n",
    "# TASK 3 >>> Reuse the code above and create a horizontal barplot (kind = 'barh') of students score\n",
    "#        >>> Set the colormaps with code: plt.cm.Set3_r(np.arange(len(df_exam_scores)))\n",
    "#        >>> Disable a legend\n",
    "#        >>> Set x-axis label to 'Count'\n",
    "\n",
    "\n",
    "\n",
    "\n",
    "\n",
    "\n",
    "# ***********************************************************************"
   ]
  },
  {
   "cell_type": "markdown",
   "metadata": {
    "application/vnd.databricks.v1+cell": {
     "cellMetadata": {},
     "inputWidgets": {},
     "nuid": "b79fd271-4e40-4df7-9d3b-4b955f74f3d2",
     "showTitle": false,
     "title": ""
    }
   },
   "source": [
    "To visualize the count of students based which class they are in, we count the number of occurences and plot it."
   ]
  },
  {
   "cell_type": "code",
   "execution_count": 0,
   "metadata": {
    "application/vnd.databricks.v1+cell": {
     "cellMetadata": {
      "byteLimit": 2048000,
      "rowLimit": 10000
     },
     "inputWidgets": {},
     "nuid": "a0f0b64b-05e3-4b7b-bd53-febdae8b96ca",
     "showTitle": false,
     "title": ""
    }
   },
   "outputs": [],
   "source": [
    "df_exam_scores.Class.value_counts().plot(kind = 'bar', rot = 0)\n",
    "plt.xlabel('Class')\n",
    "plt.ylabel('Count');"
   ]
  },
  {
   "cell_type": "markdown",
   "metadata": {
    "application/vnd.databricks.v1+cell": {
     "cellMetadata": {},
     "inputWidgets": {},
     "nuid": "d00d289c-2226-4b8f-bcc6-2a8aed0a1942",
     "showTitle": false,
     "title": ""
    }
   },
   "source": [
    "# 5. Your turn: Practice time\n",
    "\n",
    "For the further visualizations we'll use [the obesity level estimation dataset](https://archive.ics.uci.edu/ml/datasets/Estimation+of+obesity+levels+based+on+eating+habits+and+physical+condition), which is related to habits of individuals in terms of eating habits, transportation and devices they use and attributes of physical condition."
   ]
  },
  {
   "cell_type": "code",
   "execution_count": 0,
   "metadata": {
    "application/vnd.databricks.v1+cell": {
     "cellMetadata": {
      "byteLimit": 2048000,
      "rowLimit": 10000
     },
     "inputWidgets": {},
     "nuid": "49105d8a-70d0-4ee1-ab28-75c767247c52",
     "showTitle": false,
     "title": ""
    }
   },
   "outputs": [],
   "source": [
    "# Read the data\n",
    "df_obesity = pd.read_csv('../../Data/obesity_data.csv')"
   ]
  },
  {
   "cell_type": "code",
   "execution_count": 0,
   "metadata": {
    "application/vnd.databricks.v1+cell": {
     "cellMetadata": {
      "byteLimit": 2048000,
      "rowLimit": 10000
     },
     "inputWidgets": {},
     "nuid": "7e55269e-3a81-41c0-876d-0dbd4a948c5d",
     "showTitle": false,
     "title": ""
    }
   },
   "outputs": [],
   "source": [
    "# Take a first look at the data\n",
    "df_obesity"
   ]
  },
  {
   "cell_type": "markdown",
   "metadata": {
    "application/vnd.databricks.v1+cell": {
     "cellMetadata": {},
     "inputWidgets": {},
     "nuid": "04450d29-3a78-4e7d-8278-8b0f5d54e574",
     "showTitle": false,
     "title": ""
    }
   },
   "source": [
    "## 5.1 Attributes explanation\n",
    "\n",
    "The first 5 features contain some basic information about individuals along with the information about the presence of overweightedness in a family.  \n",
    "- `Gender`: the person's gender\n",
    "- `Age`: their age\n",
    "- `Height`: height in meters \n",
    "- `Weight`: weight in kg \n",
    "- `family_history_with_overweight`: whether there are other family members who is/was overweight\n",
    "\n",
    "Columns related to eating habits:  \n",
    "- `FAVC`: whether an individual consumes high caloric food frequently\n",
    "- `FCVC`: how frequently vegetables are used in main meals\n",
    "- `NCP`: the number of main meals per day\n",
    "- `CAEC`: consuming any food between main meals\n",
    "- `SMOKE`: smoking (yes/no)\n",
    "- `CH2O`: consumption of water per day\n",
    "\n",
    "Columns related to physical condition:\n",
    "- `SCC`: caloriy intake tracking\n",
    "- `FAF`: physical activity frequency\n",
    "- `TUE`: usage of technological devices per day\n",
    "- `CALC`: alcohol consumption\n",
    "- `MTRANS`: Main type of transportation\n",
    "\n",
    "The last feature `NObeyesdad` was created using the equation for the BMI (Body Mass Index) for each individual. Resulting values were compared with the data provided by the WHO (World Health Organization) and the Mexican Normativity. \n",
    "\n",
    "Resulting labels:\n",
    "\n",
    "- `Underweight` (< 18.5)   \n",
    "- `Normal` (18.5 - 24.9)   \n",
    "- `Overweight` (25 - 29.9)  \n",
    "- `Obesity I` (30 - 34.9)  \n",
    "- `Obesity II` (35 - 39)  \n",
    "- `Obesity III` (> 40)"
   ]
  },
  {
   "cell_type": "markdown",
   "metadata": {
    "application/vnd.databricks.v1+cell": {
     "cellMetadata": {},
     "inputWidgets": {},
     "nuid": "6a6fdc8a-a3e0-4337-a449-6c8e153f76a2",
     "showTitle": false,
     "title": ""
    }
   },
   "source": [
    "### 5.1.1 Exploring the data"
   ]
  },
  {
   "cell_type": "code",
   "execution_count": 0,
   "metadata": {
    "application/vnd.databricks.v1+cell": {
     "cellMetadata": {
      "byteLimit": 2048000,
      "rowLimit": 10000
     },
     "inputWidgets": {},
     "nuid": "42334be4-ba9d-46e1-a4c2-faa442ea620d",
     "showTitle": false,
     "title": ""
    }
   },
   "outputs": [],
   "source": [
    "# Check the column's data type\n",
    "df_obesity.dtypes"
   ]
  },
  {
   "cell_type": "code",
   "execution_count": 0,
   "metadata": {
    "application/vnd.databricks.v1+cell": {
     "cellMetadata": {
      "byteLimit": 2048000,
      "rowLimit": 10000
     },
     "inputWidgets": {},
     "nuid": "041ff37c-48ff-4c7d-9b94-40c8773a79ca",
     "showTitle": false,
     "title": ""
    }
   },
   "outputs": [],
   "source": [
    "# Explore descriptive statistics\n",
    "df_obesity.describe()"
   ]
  },
  {
   "cell_type": "code",
   "execution_count": 0,
   "metadata": {
    "application/vnd.databricks.v1+cell": {
     "cellMetadata": {
      "byteLimit": 2048000,
      "rowLimit": 10000
     },
     "inputWidgets": {},
     "nuid": "611d4321-85da-4051-ae83-337156d2c0c2",
     "showTitle": false,
     "title": ""
    }
   },
   "outputs": [],
   "source": [
    "# Check missing values\n",
    "df_obesity.isnull().sum()"
   ]
  },
  {
   "cell_type": "code",
   "execution_count": 0,
   "metadata": {
    "application/vnd.databricks.v1+cell": {
     "cellMetadata": {
      "byteLimit": 2048000,
      "rowLimit": 10000
     },
     "inputWidgets": {},
     "nuid": "981c7f71-af87-4220-9f32-e3993b477607",
     "showTitle": false,
     "title": ""
    }
   },
   "outputs": [],
   "source": [
    "# Count the number of duplicated rows\n",
    "df_obesity.duplicated().sum()"
   ]
  },
  {
   "cell_type": "code",
   "execution_count": 0,
   "metadata": {
    "application/vnd.databricks.v1+cell": {
     "cellMetadata": {
      "byteLimit": 2048000,
      "rowLimit": 10000
     },
     "inputWidgets": {},
     "nuid": "acbb33d4-683a-46da-9a33-ca55e05ecc64",
     "showTitle": false,
     "title": ""
    }
   },
   "outputs": [],
   "source": [
    "# Remove duplicated rows\n",
    "df_obesity.drop_duplicates(inplace = True)"
   ]
  },
  {
   "cell_type": "code",
   "execution_count": 0,
   "metadata": {
    "application/vnd.databricks.v1+cell": {
     "cellMetadata": {
      "byteLimit": 2048000,
      "rowLimit": 10000
     },
     "inputWidgets": {},
     "nuid": "a657d1df-baed-4e37-bc32-201724293d52",
     "showTitle": false,
     "title": ""
    }
   },
   "outputs": [],
   "source": [
    "# ************************** Your turn ********************************\n",
    "# TASK 4 >>> Create a boxplot of the 'Age' feature\n",
    "#        >>> Set the size of the plot to (10,8)\n",
    "\n",
    "\n",
    "\n",
    "\n",
    "\n",
    "\n",
    "# ***********************************************************************"
   ]
  },
  {
   "cell_type": "markdown",
   "metadata": {
    "application/vnd.databricks.v1+cell": {
     "cellMetadata": {},
     "inputWidgets": {},
     "nuid": "4a6fe9d0-25ad-40ef-87ed-7b354997c2b3",
     "showTitle": false,
     "title": ""
    }
   },
   "source": [
    "> What can you say about the distribution of ages?  \n",
    "> How old is the majority of people?  \n",
    "> Is the distribution symmetrical or are there people who are older compared to the majority?"
   ]
  },
  {
   "cell_type": "code",
   "execution_count": 0,
   "metadata": {
    "application/vnd.databricks.v1+cell": {
     "cellMetadata": {
      "byteLimit": 2048000,
      "rowLimit": 10000
     },
     "inputWidgets": {},
     "nuid": "aa904c9b-14c0-47f1-8e05-78a8b787508c",
     "showTitle": false,
     "title": ""
    }
   },
   "outputs": [],
   "source": [
    "# ************************** Your turn ********************************\n",
    "# TASK 5 >>> Visualize the distribution of the 'Weight' feature using a histogram\n",
    "#        >>> Disable the grid lines\n",
    "#        >>> Set different numbers of bins\n",
    "\n",
    "\n",
    "\n",
    "\n",
    "\n",
    "\n",
    "# ***********************************************************************"
   ]
  },
  {
   "cell_type": "markdown",
   "metadata": {
    "application/vnd.databricks.v1+cell": {
     "cellMetadata": {},
     "inputWidgets": {},
     "nuid": "f81f39b3-c99c-49dd-b982-a0a9b35adc48",
     "showTitle": false,
     "title": ""
    }
   },
   "source": [
    "> Based on the histogram, what is the most common weight?  \n",
    "> Does this distribution look symmetrical, or rather bimodal?  \n",
    "> Could a different number of bins reflect the data better?"
   ]
  },
  {
   "cell_type": "code",
   "execution_count": 0,
   "metadata": {
    "application/vnd.databricks.v1+cell": {
     "cellMetadata": {
      "byteLimit": 2048000,
      "rowLimit": 10000
     },
     "inputWidgets": {},
     "nuid": "0607c62d-b71d-45a7-845d-319c6ba7bac0",
     "showTitle": false,
     "title": ""
    }
   },
   "outputs": [],
   "source": [
    "# ************************** Your turn ********************************\n",
    "# TASK 6 >>> Create a normalized barplot of 'Gender' \n",
    "#        >>> Specify the parameter normalize = True to get percentages instead of counts\n",
    "#        >>> Assign different colors to male and female (male to 'salmon', female to 'skyblue')\n",
    "#        >>> Add title: 'Proportion of gender'\n",
    "#                x-axis label: 'Gender' \n",
    "#                y-axis label: 'The percentage'\n",
    "\n",
    "\n",
    "\n",
    "\n",
    "\n",
    "\n",
    "\n",
    "# ***********************************************************************"
   ]
  },
  {
   "cell_type": "code",
   "execution_count": 0,
   "metadata": {
    "application/vnd.databricks.v1+cell": {
     "cellMetadata": {
      "byteLimit": 2048000,
      "rowLimit": 10000
     },
     "inputWidgets": {},
     "nuid": "5d0ef154-d888-47e5-bc2c-4ef8acc4f0cb",
     "showTitle": false,
     "title": ""
    }
   },
   "outputs": [],
   "source": [
    "# ************************** Your turn ********************************\n",
    "# TASK 7 >>> Create boxplots of 'Age' split by gender\n",
    "\n",
    "\n",
    "\n",
    "\n",
    "\n",
    "\n",
    "\n",
    "# ***********************************************************************"
   ]
  },
  {
   "cell_type": "markdown",
   "metadata": {
    "application/vnd.databricks.v1+cell": {
     "cellMetadata": {},
     "inputWidgets": {},
     "nuid": "e1b1c6a8-385d-49e9-9058-f293778e2dcc",
     "showTitle": false,
     "title": ""
    }
   },
   "source": [
    "> Compare the ranges of values for male and female: Is the distribution similar or is there some difference? Do you see any outliers?"
   ]
  },
  {
   "cell_type": "code",
   "execution_count": 0,
   "metadata": {
    "application/vnd.databricks.v1+cell": {
     "cellMetadata": {
      "byteLimit": 2048000,
      "rowLimit": 10000
     },
     "inputWidgets": {},
     "nuid": "11e8be70-bfd9-4435-afcb-4e9bfecacaa2",
     "showTitle": false,
     "title": ""
    }
   },
   "outputs": [],
   "source": [
    "# ************************** Your turn ********************************\n",
    "# TASK 8 >>> Find out how many people frequently eat high caloric meals ('FAVC')\n",
    "#        >>> Set rotation of x-ticks to 0 degrees\n",
    "\n",
    "\n",
    "\n",
    "\n",
    "\n",
    "\n",
    "# ***********************************************************************"
   ]
  },
  {
   "cell_type": "markdown",
   "metadata": {
    "application/vnd.databricks.v1+cell": {
     "cellMetadata": {},
     "inputWidgets": {},
     "nuid": "9607e30a-a1bf-49b7-a4d9-44cade9904f0",
     "showTitle": false,
     "title": ""
    }
   },
   "source": [
    "The question we might ask regarding obesity levels could be: \n",
    "'Which individuals are more likely to be obese based on their age?' or 'Are younger adults overweight?'.\n",
    "\n",
    "Firstly, let's look how many levels are there. \n",
    "We call the\n",
    "[`.value_counts()`](https://pandas.pydata.org/pandas-docs/stable/reference/api/pandas.Series.value_counts.html)\n",
    "method on the `NObeyesdad` column and sort categories based on the obesity level."
   ]
  },
  {
   "cell_type": "code",
   "execution_count": 0,
   "metadata": {
    "application/vnd.databricks.v1+cell": {
     "cellMetadata": {
      "byteLimit": 2048000,
      "rowLimit": 10000
     },
     "inputWidgets": {},
     "nuid": "75730503-137e-4c95-aef2-f8a382903355",
     "showTitle": false,
     "title": ""
    }
   },
   "outputs": [],
   "source": [
    "# Counting values of the obesity levels\n",
    "df_obesity.NObeyesdad.value_counts()"
   ]
  },
  {
   "cell_type": "markdown",
   "metadata": {
    "application/vnd.databricks.v1+cell": {
     "cellMetadata": {},
     "inputWidgets": {},
     "nuid": "311ab82b-465b-4e32-96f5-9d4c56b2eff2",
     "showTitle": false,
     "title": ""
    }
   },
   "source": [
    "Firstly, we define the order of obesity levels in a list and assign it to the variable `obesity_levels`."
   ]
  },
  {
   "cell_type": "code",
   "execution_count": 0,
   "metadata": {
    "application/vnd.databricks.v1+cell": {
     "cellMetadata": {
      "byteLimit": 2048000,
      "rowLimit": 10000
     },
     "inputWidgets": {},
     "nuid": "cb367d63-c153-4706-9487-1b18f6c58b20",
     "showTitle": false,
     "title": ""
    }
   },
   "outputs": [],
   "source": [
    "# Ordered categories\n",
    "obesity_levels = ['Insufficient_Weight','Normal_Weight', 'Overweight_Level_I', 'Overweight_Level_II',\n",
    "                  'Obesity_Type_I', 'Obesity_Type_II', 'Obesity_Type_III']"
   ]
  },
  {
   "cell_type": "markdown",
   "metadata": {
    "application/vnd.databricks.v1+cell": {
     "cellMetadata": {},
     "inputWidgets": {},
     "nuid": "79f42fa8-bd67-409f-90aa-05221732a83b",
     "showTitle": false,
     "title": ""
    }
   },
   "source": [
    "Then we create a\n",
    "[`CategoricalDtype`](https://pandas.pydata.org/docs/reference/api/pandas.CategoricalDtype.html)\n",
    "`ob_levels` where we specify categories and orderness."
   ]
  },
  {
   "cell_type": "code",
   "execution_count": 0,
   "metadata": {
    "application/vnd.databricks.v1+cell": {
     "cellMetadata": {
      "byteLimit": 2048000,
      "rowLimit": 10000
     },
     "inputWidgets": {},
     "nuid": "87307b45-99c2-4ea2-8f5e-32bfeb277109",
     "showTitle": false,
     "title": ""
    }
   },
   "outputs": [],
   "source": [
    "# Creating CategoricalDtype \n",
    "ob_level = pd.api.types.CategoricalDtype(ordered = True, categories = obesity_levels)"
   ]
  },
  {
   "cell_type": "markdown",
   "metadata": {
    "application/vnd.databricks.v1+cell": {
     "cellMetadata": {},
     "inputWidgets": {},
     "nuid": "aaf558be-f1ee-41cb-960e-ece227479ade",
     "showTitle": false,
     "title": ""
    }
   },
   "source": [
    "The last step is to convert the original data type of the `NObeyesdad` feature to\n",
    "[`CategoricalDtype`](https://pandas.pydata.org/docs/reference/api/pandas.CategoricalDtype.html)."
   ]
  },
  {
   "cell_type": "code",
   "execution_count": 0,
   "metadata": {
    "application/vnd.databricks.v1+cell": {
     "cellMetadata": {
      "byteLimit": 2048000,
      "rowLimit": 10000
     },
     "inputWidgets": {},
     "nuid": "504c9160-30ec-4dab-9bf5-a56618e3e6cb",
     "showTitle": false,
     "title": ""
    }
   },
   "outputs": [],
   "source": [
    "# Converting 'NObeyesdad' to created categoricalDtype\n",
    "df_obesity.NObeyesdad = df_obesity.NObeyesdad.astype(ob_level)"
   ]
  },
  {
   "cell_type": "markdown",
   "metadata": {
    "application/vnd.databricks.v1+cell": {
     "cellMetadata": {},
     "inputWidgets": {},
     "nuid": "cd2a67cc-f98b-47f4-bc59-c1dbd788bf4c",
     "showTitle": false,
     "title": ""
    }
   },
   "source": [
    "We can plot obesity levels to see how these vary according to the age of individuals. To avoid overlapping label names of these categories, you can set the rotation of labels to 45 degrees with the `rot` parameter. Also, disabling grid lines can help visualization to be more comprehensible."
   ]
  },
  {
   "cell_type": "markdown",
   "metadata": {
    "application/vnd.databricks.v1+cell": {
     "cellMetadata": {},
     "inputWidgets": {},
     "nuid": "abafeea2-002b-4ccc-927d-f031fe99b6af",
     "showTitle": false,
     "title": ""
    }
   },
   "source": [
    "> Looking at the created plot, can you see some pattern? At what ages do people tend to suffer from some kind of obesity level?"
   ]
  },
  {
   "cell_type": "code",
   "execution_count": 0,
   "metadata": {
    "application/vnd.databricks.v1+cell": {
     "cellMetadata": {
      "byteLimit": 2048000,
      "rowLimit": 10000
     },
     "inputWidgets": {},
     "nuid": "6d0b839b-022b-479f-831a-ff499219cdc0",
     "showTitle": false,
     "title": ""
    }
   },
   "outputs": [],
   "source": [
    "# ************************** Your turn ********************************\n",
    "# TASK 10 >>> Create a bar plot of 'the MTRANS' feature to find out how many people use a certain kind of transportation\n",
    "#         >>> Set the labels on the x-axis to 45 using rot parameter\n",
    "#         >>> Set the color to 'skyblue'\n",
    "#         >>> What is the most popular kind of transportation? \n",
    "\n",
    "\n",
    "\n",
    "\n",
    "\n",
    "\n",
    "\n",
    "# ***********************************************************************"
   ]
  },
  {
   "cell_type": "markdown",
   "metadata": {
    "application/vnd.databricks.v1+cell": {
     "cellMetadata": {},
     "inputWidgets": {},
     "nuid": "874da6b8-8b9a-424c-bf26-205fd37a5261",
     "showTitle": false,
     "title": ""
    }
   },
   "source": [
    "Let's filter only those individuals who use an automobile for transportation or who walk. Then we will look at their weight."
   ]
  },
  {
   "cell_type": "code",
   "execution_count": 0,
   "metadata": {
    "application/vnd.databricks.v1+cell": {
     "cellMetadata": {
      "byteLimit": 2048000,
      "rowLimit": 10000
     },
     "inputWidgets": {},
     "nuid": "3a9ea3fd-a034-4518-a0ae-f852fbaecde8",
     "showTitle": false,
     "title": ""
    }
   },
   "outputs": [],
   "source": [
    "# Filter only those rows where transportation kind is 'Automobile' and 'Walking'\n",
    "# DataFrame.query will be explained more in a later notebook, so don't worry about it now\n",
    "subset_transport = df_obesity.query('MTRANS in [\"Automobile\",\"Walking\"]')"
   ]
  },
  {
   "cell_type": "code",
   "execution_count": 0,
   "metadata": {
    "application/vnd.databricks.v1+cell": {
     "cellMetadata": {
      "byteLimit": 2048000,
      "rowLimit": 10000
     },
     "inputWidgets": {},
     "nuid": "81e011d4-85b4-4651-8e30-2163d679cb0d",
     "showTitle": false,
     "title": ""
    }
   },
   "outputs": [],
   "source": [
    "# ************************** Your turn ********************************\n",
    "# TASK 11 >>> Create a boxplot of the newly created subset_transport DataFrame\n",
    "#         >>> Set the figure size to (10,8)\n",
    "#         >>> Set 'Weight' as the column parameter and 'MTRANS' as the by parameter\n",
    "#         >>> Set the labels on the x-axis to 45 using the rot parameter\n",
    "#         >>> Disable the grid lines\n",
    "\n",
    "\n",
    "\n",
    "\n",
    "\n",
    "\n",
    "# ***********************************************************************"
   ]
  },
  {
   "cell_type": "markdown",
   "metadata": {
    "application/vnd.databricks.v1+cell": {
     "cellMetadata": {},
     "inputWidgets": {},
     "nuid": "9ed3100f-e92f-405d-bb14-10193e08b0ea",
     "showTitle": false,
     "title": ""
    }
   },
   "source": [
    "> What can you say about the distribution of these two groups of people?  \n",
    "> Which group has a lower weight overall? Looking at the boxplots, I think this is a motivation for all of us to consider the type of transportation next time we need to go somewhere :)"
   ]
  },
  {
   "cell_type": "markdown",
   "metadata": {
    "application/vnd.databricks.v1+cell": {
     "cellMetadata": {},
     "inputWidgets": {},
     "nuid": "2ff24aa8-f04f-4974-8cda-ea3d076340d5",
     "showTitle": false,
     "title": ""
    }
   },
   "source": [
    "# 6. Bonus: Extra Enrichment - Scatter Matrix Plot\n",
    "\n",
    "a [Scatter Matrix](https://pandas.pydata.org/docs/reference/api/pandas.plotting.scatter_matrix.html#pandas.plotting.scatter_matrix) is an easy way to get a quick understanding of the *relations* between different data variables.  \n",
    "It allows us to observe the variable *correlations*: do they correlate or oppose to each other, or maybe have no correlation at all.\n",
    "\n",
    "We can also set the chart type in the diagonal - which can either be a `hist`ogram or a `kde` chart. \n",
    "\n",
    "Please consider using it as your first To-Go method when exploring a new dataset. \n",
    "\n",
    "Here's an example how to use it:"
   ]
  },
  {
   "cell_type": "code",
   "execution_count": 0,
   "metadata": {
    "application/vnd.databricks.v1+cell": {
     "cellMetadata": {},
     "inputWidgets": {},
     "nuid": "5492e0b0-ac08-42dc-9fb5-408a1bf33b98",
     "showTitle": false,
     "title": ""
    }
   },
   "outputs": [],
   "source": [
    "from pandas.plotting import scatter_matrix\n",
    "\n",
    "df_random_data = pd.DataFrame(np.random.randn(1000, 4), columns=[\"a\", \"b\", \"c\", \"d\"])\n",
    "scatter_matrix(df_random_data, alpha=0.2, figsize=(6, 6), diagonal=\"hist\");\n"
   ]
  },
  {
   "cell_type": "markdown",
   "metadata": {
    "application/vnd.databricks.v1+cell": {
     "cellMetadata": {},
     "inputWidgets": {},
     "nuid": "157d2403-652d-4f74-aa64-a2635a00394c",
     "showTitle": false,
     "title": ""
    }
   },
   "source": [
    "# 7. Summary"
   ]
  },
  {
   "cell_type": "markdown",
   "metadata": {
    "application/vnd.databricks.v1+cell": {
     "cellMetadata": {},
     "inputWidgets": {},
     "nuid": "2436f429-b429-4fd0-b23a-e648d6ea272f",
     "showTitle": false,
     "title": ""
    }
   },
   "source": [
    "- One of the **first steps** data scientist do when getting a new dataset is **looking at the data**. \n",
    "- **Visualization** is an excellent way to **gain a deeper understanding** of the data in hand.  \n",
    "- Pandas allows us to create visualization quickly, and it is very flexible in the visualization types and their customization."
   ]
  },
  {
   "cell_type": "markdown",
   "metadata": {
    "application/vnd.databricks.v1+cell": {
     "cellMetadata": {},
     "inputWidgets": {},
     "nuid": "05c1dce1-c4da-4d35-a439-1d6cfff7d642",
     "showTitle": false,
     "title": ""
    }
   },
   "source": [
    "### Citation request:\n",
    "Accurate occupancy detection of an office room from light, temperature, humidity and CO2 measurements using statistical learning models. Luis M. Candanedo, Véronique Feldheim. Energy and Buildings. Volume 112, 15 January 2016, Pages 28-39.\n",
    "\n",
    "Palechor, F. M., & de la Hoz Manotas, A. (2019). Dataset for estimation of obesity levels based on eating habits and physical condition in individuals from Colombia, Peru and Mexico. Data in Brief, 104344.\n",
    "\n",
    "Material adapted for RBI internal purposes with full permissions from original authors."
   ]
  }
 ],
 "metadata": {
  "application/vnd.databricks.v1+notebook": {
   "dashboards": [],
   "environmentMetadata": null,
   "language": "python",
   "notebookMetadata": {
    "pythonIndentUnit": 2
   },
   "notebookName": "1_Visualization_with_Pandas_jupyter",
   "widgets": {}
  },
  "kernelspec": {
   "display_name": "contribute-data-science-apex-LpLk_sPV-py3.10",
   "language": "python",
   "name": "python3"
  },
  "language_info": {
   "codemirror_mode": {
    "name": "ipython",
    "version": 3
   },
   "file_extension": ".py",
   "mimetype": "text/x-python",
   "name": "python",
   "nbconvert_exporter": "python",
   "pygments_lexer": "ipython3",
   "version": "3.10.14"
  }
 },
 "nbformat": 4,
 "nbformat_minor": 0
}
