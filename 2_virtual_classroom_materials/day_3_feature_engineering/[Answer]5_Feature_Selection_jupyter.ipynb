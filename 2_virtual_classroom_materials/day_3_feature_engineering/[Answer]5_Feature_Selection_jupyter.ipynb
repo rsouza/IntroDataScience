{
 "cells": [
  {
   "cell_type": "markdown",
   "metadata": {
    "application/vnd.databricks.v1+cell": {
     "cellMetadata": {},
     "inputWidgets": {},
     "nuid": "20f7d83c-43c9-4156-a5e2-d9403e00cc31",
     "showTitle": false,
     "title": ""
    }
   },
   "source": [
    "# 0. Loading libraries and Classes"
   ]
  },
  {
   "cell_type": "code",
   "execution_count": 0,
   "metadata": {
    "application/vnd.databricks.v1+cell": {
     "cellMetadata": {
      "byteLimit": 2048000,
      "rowLimit": 10000
     },
     "inputWidgets": {},
     "nuid": "d3e1a138-930e-4a33-b1b1-88d85ece2e30",
     "showTitle": false,
     "title": ""
    }
   },
   "outputs": [],
   "source": [
    "# Import necessary libraries for this notebook\n",
    "import pandas as pd\n",
    "import seaborn as sns\n",
    "import matplotlib.pyplot as plt\n",
    "\n",
    "import warnings\n",
    "warnings.filterwarnings('ignore')\n",
    "\n",
    "from IPython.display import Image\n",
    "\n",
    "# Import train_test_split to separate train and test set\n",
    "from sklearn.model_selection import train_test_split\n",
    "# Import VarianceThreshold to removes all low-variance features\n",
    "from sklearn.feature_selection import VarianceThreshold\n",
    "\n",
    "%matplotlib inline"
   ]
  },
  {
   "cell_type": "markdown",
   "metadata": {
    "application/vnd.databricks.v1+cell": {
     "cellMetadata": {},
     "inputWidgets": {},
     "nuid": "610539de-e716-45a2-9bbc-e0c94e7c4389",
     "showTitle": false,
     "title": ""
    }
   },
   "source": [
    "An **important** thing to remember is that we should perform feature selection in conjunction with the model selection"
   ]
  },
  {
   "cell_type": "markdown",
   "metadata": {
    "application/vnd.databricks.v1+cell": {
     "cellMetadata": {},
     "inputWidgets": {},
     "nuid": "25760f59-6725-4013-9329-7ff87631fdb1",
     "showTitle": false,
     "title": ""
    }
   },
   "source": [
    "# 1. Non-data columns\n",
    "Columns often used for identifying observations typically lack informational value.\n",
    "Such columns include unique identifiers like ID columns, telephone numbers, and email addresses.\n",
    "\n",
    "We will be working with the subset of Santander Bank dataset \\\\(^{1}\\\\) (30 000 rows), which contain anonymized features to predict customer satisfaction regarding their experience with the bank."
   ]
  },
  {
   "cell_type": "code",
   "execution_count": 0,
   "metadata": {
    "application/vnd.databricks.v1+cell": {
     "cellMetadata": {
      "byteLimit": 2048000,
      "rowLimit": 10000
     },
     "inputWidgets": {},
     "nuid": "9f46e357-5bc9-45c1-b275-6a348a69c57d",
     "showTitle": false,
     "title": ""
    }
   },
   "outputs": [],
   "source": [
    "# Load the subset dataset called 'subset_santander.csv' and store it to variable data\n",
    "data = pd.read_csv('../../Data/subset_santander.csv')\n",
    "\n",
    "# Print the shape of the dataframe and get the first 10 rows\n",
    "print(data.shape)\n",
    "data.head(10)"
   ]
  },
  {
   "cell_type": "markdown",
   "metadata": {
    "application/vnd.databricks.v1+cell": {
     "cellMetadata": {},
     "inputWidgets": {},
     "nuid": "6509faa7-778e-4161-9bd9-2033bfe7bc5e",
     "showTitle": false,
     "title": ""
    }
   },
   "source": [
    "Feature selection should be performed only on our training data to avoid overfitting. Let's split our dataset and drop our target feature 'TARGET'."
   ]
  },
  {
   "cell_type": "code",
   "execution_count": 0,
   "metadata": {
    "application/vnd.databricks.v1+cell": {
     "cellMetadata": {
      "byteLimit": 2048000,
      "rowLimit": 10000
     },
     "inputWidgets": {},
     "nuid": "b56117f1-7994-4e02-8ea9-7d6f58bfb583",
     "showTitle": false,
     "title": ""
    }
   },
   "outputs": [],
   "source": [
    "# Separate dataset into train and test\n",
    "X_train, X_test, y_train, y_test = train_test_split(data.drop(labels = ['TARGET'], axis = 1),\n",
    "                                                    data['TARGET'],\n",
    "                                                    test_size = 0.3,\n",
    "                                                    random_state = 42)\n",
    "\n",
    "# Get the shape of training and testing set\n",
    "X_train.shape, X_test.shape"
   ]
  },
  {
   "cell_type": "markdown",
   "metadata": {
    "application/vnd.databricks.v1+cell": {
     "cellMetadata": {},
     "inputWidgets": {},
     "nuid": "96b78536-a030-400d-98b8-d7e573465a7c",
     "showTitle": false,
     "title": ""
    }
   },
   "source": [
    "If we have a look at the table above we see that there is a column called `ID` which we can drop since we must not use it for predictions.\n",
    "This task has to be done manually, since there is no way of inferring this information from the data."
   ]
  },
  {
   "cell_type": "code",
   "execution_count": 0,
   "metadata": {
    "application/vnd.databricks.v1+cell": {
     "cellMetadata": {
      "byteLimit": 2048000,
      "rowLimit": 10000
     },
     "inputWidgets": {},
     "nuid": "2a9cbdbf-eb23-46df-bddd-a8352d27264e",
     "showTitle": false,
     "title": ""
    }
   },
   "outputs": [],
   "source": [
    "# Drop the ID column\n",
    "X_train.drop(\"ID\", axis=1, inplace=True)\n",
    "X_test.drop(\"ID\", axis=1, inplace=True)\n",
    "\n",
    "# Get the shape after removing the ID column\n",
    "X_train.shape, X_test.shape"
   ]
  },
  {
   "cell_type": "markdown",
   "metadata": {
    "application/vnd.databricks.v1+cell": {
     "cellMetadata": {},
     "inputWidgets": {},
     "nuid": "a2b0c763-637e-4952-8b3f-d7383bd73063",
     "showTitle": false,
     "title": ""
    }
   },
   "source": [
    "# 2. Constant Features\n",
    "Constant features do not provide any information useful for further analysis or predicting the target variable. These features provide only a single value for all of the observations in the dataset. Therefore, we can remove them from the dataset.\n",
    "\n",
    "There are 369 features in our dataset. \n",
    "We can now look at whether there are some constant features in `X_train` set using the\n",
    "[`.var()`](https://pandas.pydata.org/pandas-docs/stable/reference/api/pandas.DataFrame.var.html)\n",
    "method which computes the variance along the columns.\n",
    "Within this function we can specify argument `ddof = 1`.\n",
    "For more information see the [documentation](https://pandas.pydata.org/pandas-docs/stable/reference/api/pandas.DataFrame.var.html)."
   ]
  },
  {
   "cell_type": "code",
   "execution_count": 0,
   "metadata": {
    "application/vnd.databricks.v1+cell": {
     "cellMetadata": {
      "byteLimit": 2048000,
      "rowLimit": 10000
     },
     "inputWidgets": {},
     "nuid": "ccb0a415-1bc3-4b50-ad42-69af33f7ce97",
     "showTitle": false,
     "title": ""
    }
   },
   "outputs": [],
   "source": [
    "# Get the features that have the variance equal to zero\n",
    "# Optional: Specify ddof = 1 within the `.var()` function \n",
    "\n",
    "our_constant_features = X_train.loc[:, X_train.var(ddof = 1) == 0]"
   ]
  },
  {
   "cell_type": "code",
   "execution_count": 0,
   "metadata": {
    "application/vnd.databricks.v1+cell": {
     "cellMetadata": {
      "byteLimit": 2048000,
      "rowLimit": 10000
     },
     "inputWidgets": {},
     "nuid": "a822be29-31c8-49ee-a633-3ce1f27ae4ab",
     "showTitle": false,
     "title": ""
    }
   },
   "outputs": [],
   "source": [
    "# Print our_constant_features\n",
    "our_constant_features"
   ]
  },
  {
   "cell_type": "markdown",
   "metadata": {
    "application/vnd.databricks.v1+cell": {
     "cellMetadata": {},
     "inputWidgets": {},
     "nuid": "4684e1cd-c477-49a9-8c64-6602409c3ad0",
     "showTitle": false,
     "title": ""
    }
   },
   "source": [
    "There are 64 features with zero variance, which will be removed from our dataset. "
   ]
  },
  {
   "cell_type": "code",
   "execution_count": 0,
   "metadata": {
    "application/vnd.databricks.v1+cell": {
     "cellMetadata": {
      "byteLimit": 2048000,
      "rowLimit": 10000
     },
     "inputWidgets": {},
     "nuid": "f2a9fb64-3d8b-472c-8534-391ea4ebff41",
     "showTitle": false,
     "title": ""
    }
   },
   "outputs": [],
   "source": [
    "# Remove constant features from X_train, do not forget specify argument inplace = True\n",
    "X_train.drop(labels= our_constant_features, axis=1, inplace=True)\n",
    "# Remove constant features from X_test, do not forget specify argument inplace = True\n",
    "X_test.drop(labels= our_constant_features, axis=1, inplace=True)\n",
    "\n",
    "# Get the shape after removing constant features\n",
    "X_train.shape, X_test.shape"
   ]
  },
  {
   "cell_type": "markdown",
   "metadata": {
    "application/vnd.databricks.v1+cell": {
     "cellMetadata": {},
     "inputWidgets": {},
     "nuid": "9538bde3-8473-4d1b-8eff-42a1f9541edd",
     "showTitle": false,
     "title": ""
    }
   },
   "source": [
    "# 3. Quasi-constant Features\n",
    "\n",
    "Quasi-constant features have very low variance (close to 0) and contain little information, which is not useful for us. These approximately constant features won't help the ML model's performance, therefore we should consider removing them. \n",
    "\n",
    "We could filter quasi-constant features with Pandas in a similar way as we did with constant features, with one difference - we would set a specific threshold. Nevertheless, now we'll leave Pandas behind and rather use scikit learn which offers a more convenient way to find quasi-constant features. \n",
    "\n",
    "In the\n",
    "[`sklearn.feature_selection`](https://scikit-learn.org/stable/modules/classes.html#module-sklearn.feature_selection)\n",
    "module we can find a feature selector called\n",
    "[`VarianceThreshold()`](https://scikit-learn.org/stable/modules/generated/sklearn.feature_selection.VarianceThreshold.html),\n",
    "which finds all features with low variance (based on a specified threshold) and removes them. \n",
    "You can find more information about this selector [here](https://scikit-learn.org/stable/modules/generated/sklearn.feature_selection.VarianceThreshold.html).\n",
    "\n",
    "As a first step, we define our selector for quasi-constant features with a threshold of 0.01. In other words, this is the minimum value of the variance we want to have in the dataset. "
   ]
  },
  {
   "cell_type": "code",
   "execution_count": 0,
   "metadata": {
    "application/vnd.databricks.v1+cell": {
     "cellMetadata": {
      "byteLimit": 2048000,
      "rowLimit": 10000
     },
     "inputWidgets": {},
     "nuid": "c8da87f7-b1be-4d80-874e-e12196c80c8b",
     "showTitle": false,
     "title": ""
    }
   },
   "outputs": [],
   "source": [
    "# Define VarianceThreshold() object and specify parameter threshold = 0.01\n",
    "our_selector = VarianceThreshold(threshold = 0.01)"
   ]
  },
  {
   "cell_type": "markdown",
   "metadata": {
    "application/vnd.databricks.v1+cell": {
     "cellMetadata": {},
     "inputWidgets": {},
     "nuid": "e215808f-60b7-49fe-b564-97c0f59f4836",
     "showTitle": false,
     "title": ""
    }
   },
   "source": [
    "Next, we fit `our_selector` with the `X_train` data to find quasi-constant features."
   ]
  },
  {
   "cell_type": "code",
   "execution_count": 0,
   "metadata": {
    "application/vnd.databricks.v1+cell": {
     "cellMetadata": {
      "byteLimit": 2048000,
      "rowLimit": 10000
     },
     "inputWidgets": {},
     "nuid": "fd82019f-679f-4989-9004-0d68804443b9",
     "showTitle": false,
     "title": ""
    }
   },
   "outputs": [],
   "source": [
    "# Fit X_train with our_selector\n",
    "our_selector.fit(X_train)"
   ]
  },
  {
   "cell_type": "markdown",
   "metadata": {
    "application/vnd.databricks.v1+cell": {
     "cellMetadata": {},
     "inputWidgets": {},
     "nuid": "f8563a0c-a781-418b-98bf-dc64694a9e40",
     "showTitle": false,
     "title": ""
    }
   },
   "source": [
    "Using\n",
    "[`get_support()`](https://scikit-learn.org/stable/modules/generated/sklearn.feature_selection.VarianceThreshold.html#sklearn.feature_selection.VarianceThreshold.get_support)\n",
    "method, we can get all of the features we want to keep along with their names.\n",
    "This _mask_ we will use later to assign names to columns.\n",
    "\n",
    "*Note: You might wonder why we are saving the feature names in the `features_to_keep` variable. Scikit learn will always save the necessary state inside of the fitted transformer.\n",
    "However, in this example we only do this for our convience, so that we can later on go back from the nameless Numpy array to a nice dataframe with all the column names.*"
   ]
  },
  {
   "cell_type": "code",
   "execution_count": 0,
   "metadata": {
    "application/vnd.databricks.v1+cell": {
     "cellMetadata": {
      "byteLimit": 2048000,
      "rowLimit": 10000
     },
     "inputWidgets": {},
     "nuid": "0536ce6d-a075-482f-bd15-bad37e20da74",
     "showTitle": false,
     "title": ""
    }
   },
   "outputs": [],
   "source": [
    "# Get the mask of features we want to keep in the dataset\n",
    "features_to_keep = X_train.columns[our_selector.get_support()]\n",
    "\n",
    "# Print the length\n",
    "print('The number of features that will be kept: {}'.format(len(features_to_keep)))"
   ]
  },
  {
   "cell_type": "markdown",
   "metadata": {
    "application/vnd.databricks.v1+cell": {
     "cellMetadata": {},
     "inputWidgets": {},
     "nuid": "0e81c355-c1c7-4be4-8450-8855bf8e3d41",
     "showTitle": false,
     "title": ""
    }
   },
   "source": [
    "The next step is to transform `X_train` and `X_test` using `our_selector`."
   ]
  },
  {
   "cell_type": "code",
   "execution_count": 0,
   "metadata": {
    "application/vnd.databricks.v1+cell": {
     "cellMetadata": {
      "byteLimit": 2048000,
      "rowLimit": 10000
     },
     "inputWidgets": {},
     "nuid": "575eb78c-6247-4f2f-9d53-dc1b78078c0d",
     "showTitle": false,
     "title": ""
    }
   },
   "outputs": [],
   "source": [
    "# Transform X_train and X_test = in this step, the quasi-constant featues will be finally removed\n",
    "X_train = our_selector.transform(X_train)\n",
    "X_test = our_selector.transform(X_test)\n",
    "\n",
    "# Get the shape of X_train and X_test\n",
    "X_train.shape, X_test.shape"
   ]
  },
  {
   "cell_type": "markdown",
   "metadata": {
    "application/vnd.databricks.v1+cell": {
     "cellMetadata": {},
     "inputWidgets": {},
     "nuid": "4f87a8ab-cfc2-41eb-bb21-6294693a87ab",
     "showTitle": false,
     "title": ""
    }
   },
   "source": [
    "After the trnsformation `X_train` is a\n",
    "[`numpy.ndarray`](https://numpy.org/doc/stable/reference/generated/numpy.ndarray.html)\n",
    "object and needs to be transformed into a Pandas DataFrame again.\n",
    "Here, we use our created `features_to_keep` variable to assign column names."
   ]
  },
  {
   "cell_type": "code",
   "execution_count": 0,
   "metadata": {
    "application/vnd.databricks.v1+cell": {
     "cellMetadata": {
      "byteLimit": 2048000,
      "rowLimit": 10000
     },
     "inputWidgets": {},
     "nuid": "88c4ef35-9bb2-4d6d-80f2-12614f05168d",
     "showTitle": false,
     "title": ""
    }
   },
   "outputs": [],
   "source": [
    "# Print X_train\n",
    "X_train"
   ]
  },
  {
   "cell_type": "code",
   "execution_count": 0,
   "metadata": {
    "application/vnd.databricks.v1+cell": {
     "cellMetadata": {
      "byteLimit": 2048000,
      "rowLimit": 10000
     },
     "inputWidgets": {},
     "nuid": "41d4a723-36fa-4b82-b2e7-a97fa3456f44",
     "showTitle": false,
     "title": ""
    }
   },
   "outputs": [],
   "source": [
    "# Convert X_train to a Pandas DataFrame\n",
    "X_train= pd.DataFrame(X_train)\n",
    "# Using the '.columns' attribute assign column names\n",
    "X_train.columns = features_to_keep\n",
    "\n",
    "# Convert X_test to a Pandas DataFrame\n",
    "X_test= pd.DataFrame(X_test)\n",
    "# Using the '.columns' attribute assign column names\n",
    "X_test.columns = features_to_keep\n",
    "\n",
    "# Get the first 5 rows of X_train\n",
    "X_train.head()"
   ]
  },
  {
   "cell_type": "markdown",
   "metadata": {
    "application/vnd.databricks.v1+cell": {
     "cellMetadata": {},
     "inputWidgets": {},
     "nuid": "cc2c24df-4d94-4c2d-b36d-62dbcb15d3bc",
     "showTitle": false,
     "title": ""
    }
   },
   "source": [
    "# 4. Duplicated Features (READ-ONLY)\n",
    "Duplicated features are totally redundant features, thus not providing any useful or new information for improving the model's performance.\n",
    "\n",
    "To better understand how duplicated features can be treated using Pandas we create new DataFrame.\n",
    "We've already seen the [`duplicated()`](https://pandas.pydata.org/pandas-docs/stable/reference/api/pandas.DataFrame.duplicated.html)\n",
    "function which returns a boolean Series denoting duplicate rows.\n",
    "To identify duplicated features, we have to first transpose our data frame, in other words, we swap the rows and columns.\n",
    "More information [here](https://pandas.pydata.org/pandas-docs/stable/reference/api/pandas.DataFrame.transpose.html).\n",
    "\n",
    "You might wonder again, why are we not using the\n",
    "[`scikit-learn`](https://scikit-learn.org/stable/index.html)? The reason is that **duplicated features should be already addressed within data integration and preprocessing**. You might remember that these are the earliest stages. The reason is that duplicated values usually occur when we are merging data from various sources. It was not a priority for scikit developers to implement a specific transformer for this.\n",
    "\n",
    "We are doing an ugly operation of swapping rows and columns to make use of Pandas functionality and make this operation as easy as possible. Yes, we are only advising you to do this with a small dataset. If you have a *big* dataset, for example counted in TBs, you should not and most likely will not be able to do this."
   ]
  },
  {
   "cell_type": "code",
   "execution_count": 0,
   "metadata": {
    "application/vnd.databricks.v1+cell": {
     "cellMetadata": {
      "byteLimit": 2048000,
      "rowLimit": 10000
     },
     "inputWidgets": {},
     "nuid": "9934c293-a77b-4087-a645-ae1a2643d713",
     "showTitle": false,
     "title": ""
    }
   },
   "outputs": [],
   "source": [
    "# Run this code to create new DataFrame\n",
    "our_data  =[(1, 'Colin Trevorrow', 124, 150 ,'Colin Trevorrow', 150, 'Jurassic World'),\n",
    "           (2, 'George Miller', 120, 55, 'George Miller', 55, 'Mad Max: Fury Road'),\n",
    "           (3, 'Robert Schwentke', 119, 112, 'Robert Schwentke', 112, 'Insurgent'),\n",
    "           (4, 'J.J. Abrams', 136, 220,'J.J. Abrams', 220, 'Star Wars: The Force Awakens'),\n",
    "           (5, 'James Wan', 137, 154, 'James Wan', 154, 'Furious 7'),\n",
    "           (6, 'Bruce Brown', 95, 25, 'Bruce Brown', 25, 'The Endless Summer'),\n",
    "           (7, 'Woody Allen', 80, 15, 'Woody Allen', 15, 'What`s Up, Tiger Lily?'),\n",
    "           (8, 'James Cameron', 162, 180, 'James Cameron', 180, 'Avatar'),\n",
    "           (9, 'Carl Tibbetts', 74, 44, 'Carl Tibbetts', 44, 'Black Mirror: White Christmas'),\n",
    "           (10, 'Harold P. Warren', 74, 8, 'Harold P. Warren', 8, 'Manos: The Hands of Fate')]\n",
    "\n",
    "movies = pd.DataFrame(our_data, columns= ['id', 'director', 'runtime','total_votes', 'name', 'number_of_votes', 'title'])"
   ]
  },
  {
   "cell_type": "code",
   "execution_count": 0,
   "metadata": {
    "application/vnd.databricks.v1+cell": {
     "cellMetadata": {
      "byteLimit": 2048000,
      "rowLimit": 10000
     },
     "inputWidgets": {},
     "nuid": "4239727c-fbfb-456e-876a-94db4a687409",
     "showTitle": false,
     "title": ""
    }
   },
   "outputs": [],
   "source": [
    "# Print movies DataFrame\n",
    "movies"
   ]
  },
  {
   "cell_type": "code",
   "execution_count": 0,
   "metadata": {
    "application/vnd.databricks.v1+cell": {
     "cellMetadata": {
      "byteLimit": 2048000,
      "rowLimit": 10000
     },
     "inputWidgets": {},
     "nuid": "ec522694-d6ae-4813-b0e5-dc46c77bba93",
     "showTitle": false,
     "title": ""
    }
   },
   "outputs": [],
   "source": [
    "# Print the shape of movies\n",
    "movies.shape"
   ]
  },
  {
   "cell_type": "markdown",
   "metadata": {
    "application/vnd.databricks.v1+cell": {
     "cellMetadata": {},
     "inputWidgets": {},
     "nuid": "0dfacb8a-b83d-4b3e-8cc4-518541764304",
     "showTitle": false,
     "title": ""
    }
   },
   "source": [
    "As we can see, the movies DataFrame contains 10 rows and 7 features. \n",
    "Now we use the \n",
    "[`.transpose()`](https://pandas.pydata.org/pandas-docs/stable/reference/api/pandas.DataFrame.transpose.html)\n",
    "method."
   ]
  },
  {
   "cell_type": "code",
   "execution_count": 0,
   "metadata": {
    "application/vnd.databricks.v1+cell": {
     "cellMetadata": {
      "byteLimit": 2048000,
      "rowLimit": 10000
     },
     "inputWidgets": {},
     "nuid": "4b27073d-7dcf-4c78-bc29-68ae1694b2f2",
     "showTitle": false,
     "title": ""
    }
   },
   "outputs": [],
   "source": [
    "# Transpose movies and store it to variable movies_transpose\n",
    "movies_transpose = movies.transpose()\n",
    "movies_transpose"
   ]
  },
  {
   "cell_type": "code",
   "execution_count": 0,
   "metadata": {
    "application/vnd.databricks.v1+cell": {
     "cellMetadata": {
      "byteLimit": 2048000,
      "rowLimit": 10000
     },
     "inputWidgets": {},
     "nuid": "8c337be3-f730-4458-bea2-a1416433ffed",
     "showTitle": false,
     "title": ""
    }
   },
   "outputs": [],
   "source": [
    "# Get the shape of movies_transpose\n",
    "movies_transpose.shape"
   ]
  },
  {
   "cell_type": "markdown",
   "metadata": {
    "application/vnd.databricks.v1+cell": {
     "cellMetadata": {},
     "inputWidgets": {},
     "nuid": "0e6a5fd5-5be0-495b-8e68-d60208500e7a",
     "showTitle": false,
     "title": ""
    }
   },
   "source": [
    "After transposing, there are 7 rows (features) and 10 columns in `movies_transpose`.\n",
    "\n",
    "Now we apply chained\n",
    "[`duplicated().sum()`](https://pandas.pydata.org/pandas-docs/stable/reference/api/pandas.DataFrame.duplicated.html)\n",
    "function on `movies_transpose` that give us the total number of duplicated rows (features)."
   ]
  },
  {
   "cell_type": "code",
   "execution_count": 0,
   "metadata": {
    "application/vnd.databricks.v1+cell": {
     "cellMetadata": {
      "byteLimit": 2048000,
      "rowLimit": 10000
     },
     "inputWidgets": {},
     "nuid": "134435b0-0b68-4b1e-8ebe-52a7f819bee1",
     "showTitle": false,
     "title": ""
    }
   },
   "outputs": [],
   "source": [
    "# Get the total number of duplicated rows (features)\n",
    "movies_transpose.duplicated().sum()"
   ]
  },
  {
   "cell_type": "markdown",
   "metadata": {
    "application/vnd.databricks.v1+cell": {
     "cellMetadata": {},
     "inputWidgets": {},
     "nuid": "7cfef08d-96a1-4c6f-9931-e6b2c2b533c7",
     "showTitle": false,
     "title": ""
    }
   },
   "source": [
    "There are 2 duplicated rows (features), containing the same observations.\n",
    "We can drop duplicated rows using\n",
    "[`.drop_duplicates()`](https://pandas.pydata.org/pandas-docs/stable/reference/api/pandas.DataFrame.drop_duplicates.html).\n",
    "By setting `keep = 'first'` parameter, we determine which duplicated row we want to keep."
   ]
  },
  {
   "cell_type": "code",
   "execution_count": 0,
   "metadata": {
    "application/vnd.databricks.v1+cell": {
     "cellMetadata": {
      "byteLimit": 2048000,
      "rowLimit": 10000
     },
     "inputWidgets": {},
     "nuid": "2f9a4b93-d95d-4691-bd57-527d89bbecc9",
     "showTitle": false,
     "title": ""
    }
   },
   "outputs": [],
   "source": [
    "# Drop duplicates and store the result in the variable unique_features\n",
    "unique_features = movies_transpose.drop_duplicates(keep = 'first').transpose()"
   ]
  },
  {
   "cell_type": "code",
   "execution_count": 0,
   "metadata": {
    "application/vnd.databricks.v1+cell": {
     "cellMetadata": {
      "byteLimit": 2048000,
      "rowLimit": 10000
     },
     "inputWidgets": {},
     "nuid": "bc0a87ce-5d15-4289-ab15-8db96331daa2",
     "showTitle": false,
     "title": ""
    }
   },
   "outputs": [],
   "source": [
    "# Get duplicated features and store the result in the variable duplicated_feature\n",
    "duplicated_features = [column for column in movies.columns if column not in unique_features]\n",
    "duplicated_features"
   ]
  },
  {
   "cell_type": "code",
   "execution_count": 0,
   "metadata": {
    "application/vnd.databricks.v1+cell": {
     "cellMetadata": {
      "byteLimit": 2048000,
      "rowLimit": 10000
     },
     "inputWidgets": {},
     "nuid": "8ab0ca8c-6bb0-49b5-acfb-3fab27793e29",
     "showTitle": false,
     "title": ""
    }
   },
   "outputs": [],
   "source": [
    "# Drop the duplicated features from the original DataFrame\n",
    "movies.drop(labels = duplicated_features, axis = 1, inplace = True)\n",
    "movies"
   ]
  },
  {
   "cell_type": "markdown",
   "metadata": {
    "application/vnd.databricks.v1+cell": {
     "cellMetadata": {},
     "inputWidgets": {},
     "nuid": "6373f930-88f1-4ab6-bbfc-c5654c52f7c5",
     "showTitle": false,
     "title": ""
    }
   },
   "source": [
    "However, this approach is not computationally and memory-efficient if you have a really large DataFrame with thousands of rows.\n",
    "As\n",
    "[`scikit learn`](https://scikit-learn.org/stable/index.html)\n",
    "does not offer a method to handle duplicated features, we need to create some function for this purpose.\n",
    "Then we drop duplicated features using Pandas'\n",
    "[`.drop()`](https://pandas.pydata.org/pandas-docs/stable/reference/api/pandas.DataFrame.drop.html)\n",
    "method."
   ]
  },
  {
   "cell_type": "code",
   "execution_count": 0,
   "metadata": {
    "application/vnd.databricks.v1+cell": {
     "cellMetadata": {
      "byteLimit": 2048000,
      "rowLimit": 10000
     },
     "inputWidgets": {},
     "nuid": "e15d038b-15cd-45b5-9bd3-6e47bb38f638",
     "showTitle": false,
     "title": ""
    }
   },
   "outputs": [],
   "source": [
    "# Create an empty list for duplicated features\n",
    "features_duplicates = []\n",
    "\n",
    "# Create a for loop for iterating over the range of columns from the X_train set\n",
    "for col in range(len(X_train.columns)):\n",
    "    column_1 = X_train.columns[col]\n",
    "    # Find duplicated features by comparing columns using .equals\n",
    "    for column_2 in X_train.columns[col + 1:]:\n",
    "        if X_train[column_1].equals(X_train[column_2]):\n",
    "            features_duplicates.append(column_2)\n",
    "            \n",
    "len(features_duplicates)"
   ]
  },
  {
   "cell_type": "code",
   "execution_count": 0,
   "metadata": {
    "application/vnd.databricks.v1+cell": {
     "cellMetadata": {
      "byteLimit": 2048000,
      "rowLimit": 10000
     },
     "inputWidgets": {},
     "nuid": "46d33d7e-6839-4e36-b8e9-2b869b368f60",
     "showTitle": false,
     "title": ""
    }
   },
   "outputs": [],
   "source": [
    "# Drop duplicated features from X_train and X_test\n",
    "X_train.drop(labels = features_duplicates, axis = 1, inplace = True)\n",
    "X_test.drop( labels = features_duplicates, axis = 1, inplace = True)"
   ]
  },
  {
   "cell_type": "code",
   "execution_count": 0,
   "metadata": {
    "application/vnd.databricks.v1+cell": {
     "cellMetadata": {
      "byteLimit": 2048000,
      "rowLimit": 10000
     },
     "inputWidgets": {},
     "nuid": "7ad1a9a3-b532-4dfb-807f-c4cbec1533d0",
     "showTitle": false,
     "title": ""
    }
   },
   "outputs": [],
   "source": [
    "# Get the shape of X_train and X_test\n",
    "X_train.shape, X_test.shape"
   ]
  },
  {
   "cell_type": "markdown",
   "metadata": {
    "application/vnd.databricks.v1+cell": {
     "cellMetadata": {},
     "inputWidgets": {},
     "nuid": "542742fb-c182-42b4-a27e-dfe6ee866d34",
     "showTitle": false,
     "title": ""
    }
   },
   "source": [
    "[`scikit learn`](https://scikit-learn.org/stable/index.html)\n",
    "module offers many methods such as selecting features based on their importance but we will not go there.\n",
    "You can find these methods in the\n",
    "[documentation](https://scikit-learn.org/stable/modules/feature_selection.html).\n",
    "Now we'll look at the correlation between features."
   ]
  },
  {
   "cell_type": "markdown",
   "metadata": {
    "application/vnd.databricks.v1+cell": {
     "cellMetadata": {},
     "inputWidgets": {},
     "nuid": "6e25e7e1-1b38-4441-8ca7-f9145cf57f95",
     "showTitle": false,
     "title": ""
    }
   },
   "source": [
    "# 5. Correlation\n",
    "Features with high correlation have almost the same effect on the target feature.\n",
    "We can visualize relationships between features using\n",
    "[`.corr()`](https://pandas.pydata.org/pandas-docs/stable/reference/api/pandas.DataFrame.corr.html)\n",
    "method to understand the data better."
   ]
  },
  {
   "cell_type": "code",
   "execution_count": 0,
   "metadata": {
    "application/vnd.databricks.v1+cell": {
     "cellMetadata": {
      "byteLimit": 2048000,
      "rowLimit": 10000
     },
     "inputWidgets": {},
     "nuid": "85946ae0-8192-4108-9b6e-e971fa98ebee",
     "showTitle": false,
     "title": ""
    }
   },
   "outputs": [],
   "source": [
    "# Find the correlation among the columns and store it in variable correlation_matrix\n",
    "correlation_matrix = X_train.corr()"
   ]
  },
  {
   "cell_type": "code",
   "execution_count": 0,
   "metadata": {
    "application/vnd.databricks.v1+cell": {
     "cellMetadata": {},
     "inputWidgets": {},
     "nuid": "36524022-73ed-4656-8652-770224f44b5c",
     "showTitle": false,
     "title": ""
    }
   },
   "outputs": [],
   "source": [
    "# Plot the correlation matrix\n",
    "plt.figure(figsize=(11, 11))\n",
    "sns.heatmap(correlation_matrix, cmap=\"vlag\", vmin=-1, vmax=1);"
   ]
  },
  {
   "cell_type": "markdown",
   "metadata": {
    "application/vnd.databricks.v1+cell": {
     "cellMetadata": {},
     "inputWidgets": {},
     "nuid": "ff37c947-3a15-4135-bdd2-b760aa9c06ea",
     "showTitle": false,
     "title": ""
    }
   },
   "source": [
    "We'll find the highly correlated features using a function based on correlation coefficients above the threshold of 0.8."
   ]
  },
  {
   "cell_type": "code",
   "execution_count": 0,
   "metadata": {
    "application/vnd.databricks.v1+cell": {
     "cellMetadata": {
      "byteLimit": 2048000,
      "rowLimit": 10000
     },
     "inputWidgets": {},
     "nuid": "4becf50c-1e48-4ba5-9b86-722f29bc925e",
     "showTitle": false,
     "title": ""
    }
   },
   "outputs": [],
   "source": [
    "def correlation(dataset, threshold):\n",
    "    # Create set for correlated columns\n",
    "    corelated_cols = set()  \n",
    "    # Compute correlation \n",
    "    corr_matrix = dataset.corr()\n",
    "    for c in range(len(corr_matrix.columns)):\n",
    "        for j in range(c):\n",
    "            # Take absolute correlation coefficient value \n",
    "            # If abs values are above threshold ...\n",
    "            if abs(corr_matrix.iloc[c, j]) > threshold: \n",
    "                # ... Get name of column\n",
    "                colname = corr_matrix.columns[c]\n",
    "                corelated_cols.add(colname)\n",
    "    return corelated_cols"
   ]
  },
  {
   "cell_type": "code",
   "execution_count": 0,
   "metadata": {
    "application/vnd.databricks.v1+cell": {
     "cellMetadata": {
      "byteLimit": 2048000,
      "rowLimit": 10000
     },
     "inputWidgets": {},
     "nuid": "9e68cf79-7383-4b26-bc69-7959b466c929",
     "showTitle": false,
     "title": ""
    }
   },
   "outputs": [],
   "source": [
    "# Use correlation function on X_train with threshold 0.8\n",
    "corr_features_to_drop = correlation(X_train, 0.8)\n",
    "len(set(corr_features_to_drop))"
   ]
  },
  {
   "cell_type": "code",
   "execution_count": 0,
   "metadata": {
    "application/vnd.databricks.v1+cell": {
     "cellMetadata": {
      "byteLimit": 2048000,
      "rowLimit": 10000
     },
     "inputWidgets": {},
     "nuid": "fbe59514-36b2-4ea1-ac53-4dd9865b3c52",
     "showTitle": false,
     "title": ""
    }
   },
   "outputs": [],
   "source": [
    "# Drop correlated features from X_train and X_test\n",
    "X_train.drop(labels = corr_features_to_drop, axis = 1, inplace = True)\n",
    "X_test.drop(labels = corr_features_to_drop, axis = 1, inplace = True)"
   ]
  },
  {
   "cell_type": "code",
   "execution_count": 0,
   "metadata": {
    "application/vnd.databricks.v1+cell": {
     "cellMetadata": {
      "byteLimit": 2048000,
      "rowLimit": 10000
     },
     "inputWidgets": {},
     "nuid": "056486eb-baaa-49ef-95dd-2d2311b68852",
     "showTitle": false,
     "title": ""
    }
   },
   "outputs": [],
   "source": [
    "# Get the shape of X_train and X_test\n",
    "X_train.shape, X_test.shape"
   ]
  },
  {
   "cell_type": "markdown",
   "metadata": {
    "application/vnd.databricks.v1+cell": {
     "cellMetadata": {},
     "inputWidgets": {},
     "nuid": "f66cf8ad-6f09-4da8-ae3f-c0f0ff171853",
     "showTitle": false,
     "title": ""
    }
   },
   "source": [
    "## TASK\n",
    "\n",
    "You will be using an altered dataset containing variants of the Portuguese 'Vinho Verde' wine \\\\(^{2}\\\\). The features provide information about wine samples recorded based on physicochemical tests. There is also the target feature that denotes the quality score of the sample. "
   ]
  },
  {
   "cell_type": "code",
   "execution_count": 0,
   "metadata": {
    "application/vnd.databricks.v1+cell": {
     "cellMetadata": {
      "byteLimit": 2048000,
      "rowLimit": 10000
     },
     "inputWidgets": {},
     "nuid": "e0238f8b-eb32-488a-8796-f19dfe263ea6",
     "showTitle": false,
     "title": ""
    }
   },
   "outputs": [],
   "source": [
    "# Load the dataset 'wine_quality.csv' and store it to variable wine\n",
    "wine = pd.read_csv('../../Data/quality_of_wine.csv', sep = ',', )\n",
    "# Get the first 10 rows\n",
    "wine.head(10)"
   ]
  },
  {
   "cell_type": "code",
   "execution_count": 0,
   "metadata": {
    "application/vnd.databricks.v1+cell": {
     "cellMetadata": {
      "byteLimit": 2048000,
      "rowLimit": 10000
     },
     "inputWidgets": {},
     "nuid": "a6074ba3-6656-471c-a654-502cf57db831",
     "showTitle": false,
     "title": ""
    }
   },
   "outputs": [],
   "source": [
    "# Print the dataframe's datatypes\n",
    "wine.dtypes"
   ]
  },
  {
   "cell_type": "markdown",
   "metadata": {
    "application/vnd.databricks.v1+cell": {
     "cellMetadata": {},
     "inputWidgets": {},
     "nuid": "6bdd8043-0042-4f1d-b22b-b79d4d2318f2",
     "showTitle": false,
     "title": ""
    }
   },
   "source": [
    "Several numerical features are stored as float or integer, and one feature is stored as a string in our dataset. \n",
    "\n",
    "These numerical variables can be used to predict the quality of the wine samples. So the **'quality'** column is our **target feature**.  "
   ]
  },
  {
   "cell_type": "code",
   "execution_count": 0,
   "metadata": {
    "application/vnd.databricks.v1+cell": {
     "cellMetadata": {
      "byteLimit": 2048000,
      "rowLimit": 10000
     },
     "inputWidgets": {},
     "nuid": "f427076a-a5c1-405b-91b4-96ca63e4339d",
     "showTitle": false,
     "title": ""
    }
   },
   "outputs": [],
   "source": [
    "# Separate the dataset 'wine' into training and testing set\n",
    "# Store it in variables: X_training, X_testing, y_training, y_testing\n",
    "# Drop the target feature 'quality'\n",
    "# Set test_size = 0.3 and random_state = 42\n",
    "\n",
    "X_training, X_testing, y_training, y_testing = train_test_split(wine.drop(labels = ['quality'], axis=1), \n",
    "                                                                wine['quality'],\n",
    "                                                                test_size = 0.3,\n",
    "                                                                random_state = 42)\n",
    "\n",
    "# Get the shape of training and testing set\n",
    "X_training.shape, X_testing.shape"
   ]
  },
  {
   "cell_type": "markdown",
   "metadata": {
    "application/vnd.databricks.v1+cell": {
     "cellMetadata": {},
     "inputWidgets": {},
     "nuid": "ee348f21-bcd9-423c-931b-01fe2a1a2caf",
     "showTitle": false,
     "title": ""
    }
   },
   "source": [
    "This data set also contains an ID column named 'Unnamed: 0'.\n",
    "Since it does not contain any information we will drop it."
   ]
  },
  {
   "cell_type": "code",
   "execution_count": 0,
   "metadata": {
    "application/vnd.databricks.v1+cell": {
     "cellMetadata": {
      "byteLimit": 2048000,
      "rowLimit": 10000
     },
     "inputWidgets": {},
     "nuid": "b24a9925-4ff6-438c-ac5e-c4464e73eecc",
     "showTitle": false,
     "title": ""
    }
   },
   "outputs": [],
   "source": [
    "# Drop ID column\n",
    "X_training.drop(\"Unnamed: 0\", axis=1, inplace=True)\n",
    "X_testing.drop(\"Unnamed: 0\", axis=1, inplace=True)"
   ]
  },
  {
   "cell_type": "markdown",
   "metadata": {
    "application/vnd.databricks.v1+cell": {
     "cellMetadata": {},
     "inputWidgets": {},
     "nuid": "c19c395d-5f73-4087-a808-a1d35455aa71",
     "showTitle": false,
     "title": ""
    }
   },
   "source": [
    "As we already know there is one non-numerical variable ('type'). Let's look at the unique values of this feature."
   ]
  },
  {
   "cell_type": "code",
   "execution_count": 0,
   "metadata": {
    "application/vnd.databricks.v1+cell": {
     "cellMetadata": {
      "byteLimit": 2048000,
      "rowLimit": 10000
     },
     "inputWidgets": {},
     "nuid": "8ea514bd-076a-4d62-8d10-a8784dc55569",
     "showTitle": false,
     "title": ""
    }
   },
   "outputs": [],
   "source": [
    "# Print unique values of 'type' column in X_training and X_testing sets\n",
    "print(X_training['type'].unique())\n",
    "print(X_testing['type'].unique())"
   ]
  },
  {
   "cell_type": "markdown",
   "metadata": {
    "application/vnd.databricks.v1+cell": {
     "cellMetadata": {},
     "inputWidgets": {},
     "nuid": "c56b9ff9-c0ab-418a-b899-653efc8c02c5",
     "showTitle": false,
     "title": ""
    }
   },
   "source": [
    "The datasets can also contain this type of constant feature stored as a string and have only one unique value/category. As this variable is not really helpful, we will drop it from the dataset. "
   ]
  },
  {
   "cell_type": "code",
   "execution_count": 0,
   "metadata": {
    "application/vnd.databricks.v1+cell": {
     "cellMetadata": {
      "byteLimit": 2048000,
      "rowLimit": 10000
     },
     "inputWidgets": {},
     "nuid": "97a0ff91-788b-4066-9423-c2fc604c56e3",
     "showTitle": false,
     "title": ""
    }
   },
   "outputs": [],
   "source": [
    "# TASK 1 >>>> Remove the constant feature from X_training using '.drop()'. Do not forget to specify the argument inplace = True\n",
    "X_training.drop('type', axis = 1, inplace = True)\n",
    "\n",
    "# TASK 2 >>>> Remove the constant feature from X_testing using '.drop()'. Do not forget to specify the argument inplace = True\n",
    "X_testing.drop('type', axis = 1, inplace = True)\n",
    "\n",
    "# Get the shape of X_training and X_testing sets\n",
    "X_training.shape, X_testing.shape"
   ]
  },
  {
   "cell_type": "markdown",
   "metadata": {
    "application/vnd.databricks.v1+cell": {
     "cellMetadata": {},
     "inputWidgets": {},
     "nuid": "67d72764-9bb7-47d5-a79f-49f88028c3cf",
     "showTitle": false,
     "title": ""
    }
   },
   "source": [
    "Now we want to select only those features that have a variance above the threshold = 0.01. Again, we will find quasi-constant features using scikit learn's [`VarianceThreshold`](https://scikit-learn.org/stable/modules/generated/sklearn.feature_selection.VarianceThreshold.html) as we did in the previous example."
   ]
  },
  {
   "cell_type": "code",
   "execution_count": 0,
   "metadata": {
    "application/vnd.databricks.v1+cell": {
     "cellMetadata": {
      "byteLimit": 2048000,
      "rowLimit": 10000
     },
     "inputWidgets": {},
     "nuid": "ff088ee3-4f7d-4390-a2f5-20c8af938cc3",
     "showTitle": false,
     "title": ""
    }
   },
   "outputs": [],
   "source": [
    "# TASK 3 >>>> Define a VarianceThreshold() object, specify the parameter threshold = 0.01 and store it in variable 'selector'\n",
    "selector = VarianceThreshold(0.01)"
   ]
  },
  {
   "cell_type": "code",
   "execution_count": 0,
   "metadata": {
    "application/vnd.databricks.v1+cell": {
     "cellMetadata": {
      "byteLimit": 2048000,
      "rowLimit": 10000
     },
     "inputWidgets": {},
     "nuid": "081ef892-00fc-4134-b201-fc5c33aebcc9",
     "showTitle": false,
     "title": ""
    }
   },
   "outputs": [],
   "source": [
    "# TASK 4 >>>> Fit X_training with 'selector'\n",
    "selector.fit(X_training)"
   ]
  },
  {
   "cell_type": "code",
   "execution_count": 0,
   "metadata": {
    "application/vnd.databricks.v1+cell": {
     "cellMetadata": {
      "byteLimit": 2048000,
      "rowLimit": 10000
     },
     "inputWidgets": {},
     "nuid": "97169c78-ff8c-4647-a12e-63e0616a4ff0",
     "showTitle": false,
     "title": ""
    }
   },
   "outputs": [],
   "source": [
    "# Get a mask of those features we want to keep in the dataset and store it in the variable 'features_we_keep'\n",
    "features_we_keep = X_training.columns[selector.get_support()]\n",
    "# Print the length of the variable features_we_keep\n",
    "print('The number of features that will be kept: {}'.format(len(features_we_keep)))"
   ]
  },
  {
   "cell_type": "code",
   "execution_count": 0,
   "metadata": {
    "application/vnd.databricks.v1+cell": {
     "cellMetadata": {
      "byteLimit": 2048000,
      "rowLimit": 10000
     },
     "inputWidgets": {},
     "nuid": "7d7acdc6-3a86-4027-9473-2da3eeaab9c8",
     "showTitle": false,
     "title": ""
    }
   },
   "outputs": [],
   "source": [
    "# Print the quasi-constant features that we are meant to drop using a for loop \n",
    "for column in X_training.columns:\n",
    "    if column not in features_we_keep:\n",
    "        print(column)"
   ]
  },
  {
   "cell_type": "code",
   "execution_count": 0,
   "metadata": {
    "application/vnd.databricks.v1+cell": {
     "cellMetadata": {
      "byteLimit": 2048000,
      "rowLimit": 10000
     },
     "inputWidgets": {},
     "nuid": "4290b51a-3fe6-40f5-96a9-89fdc91c9b06",
     "showTitle": false,
     "title": ""
    }
   },
   "outputs": [],
   "source": [
    "# TASK 5 >>>> Transform X_training \n",
    "\n",
    "X_training = selector.transform(X_training)\n",
    "\n",
    "# TASK 6 >>>> Transform X_testing\n",
    "X_testing = selector.transform(X_testing)\n",
    "\n",
    "# Get the shape of X_training and X_testing\n",
    "X_training.shape, X_testing.shape"
   ]
  },
  {
   "cell_type": "code",
   "execution_count": 0,
   "metadata": {
    "application/vnd.databricks.v1+cell": {
     "cellMetadata": {
      "byteLimit": 2048000,
      "rowLimit": 10000
     },
     "inputWidgets": {},
     "nuid": "e38a27dd-dfa5-4d4b-8aaf-48768063288f",
     "showTitle": false,
     "title": ""
    }
   },
   "outputs": [],
   "source": [
    "# Convert X_training to Pandas DataFrame\n",
    "X_training = pd.DataFrame(X_training)\n",
    "# Using the '.columns' attribute assign column names\n",
    "X_training.columns = features_we_keep\n",
    "\n",
    "# Convert X_testing to Pandas DataFrame\n",
    "X_testing = pd.DataFrame(X_training)\n",
    "# Using the '.columns' attribute assign column names\n",
    "X_testing.columns = features_we_keep\n",
    "\n",
    "# Get the first 10 rows of X_train\n",
    "X_training.head(10)"
   ]
  },
  {
   "cell_type": "markdown",
   "metadata": {
    "application/vnd.databricks.v1+cell": {
     "cellMetadata": {},
     "inputWidgets": {},
     "nuid": "d76e41a4-df33-4aef-a069-45abb4cde8e0",
     "showTitle": false,
     "title": ""
    }
   },
   "source": [
    "Find whether our dataset contains duplicated features. You can copy-paste the `for` loop we've already used."
   ]
  },
  {
   "cell_type": "code",
   "execution_count": 0,
   "metadata": {
    "application/vnd.databricks.v1+cell": {
     "cellMetadata": {
      "byteLimit": 2048000,
      "rowLimit": 10000
     },
     "inputWidgets": {},
     "nuid": "3467dcbe-ab30-47f4-a838-3877c4497e5a",
     "showTitle": false,
     "title": ""
    }
   },
   "outputs": [],
   "source": [
    "# Find duplicated features in X_training set\n",
    "features_duplicates = []\n",
    "for col in range(len(X_training.columns)):\n",
    "     \n",
    "    column_1 = X_training.columns[col]\n",
    "    \n",
    "    for column_2 in X_training.columns[col + 1:]:\n",
    "        if X_training[column_1].equals(X_training[column_2]):\n",
    "            features_duplicates.append(column_2)\n",
    "            \n",
    "len(features_duplicates)"
   ]
  },
  {
   "cell_type": "code",
   "execution_count": 0,
   "metadata": {
    "application/vnd.databricks.v1+cell": {
     "cellMetadata": {
      "byteLimit": 2048000,
      "rowLimit": 10000
     },
     "inputWidgets": {},
     "nuid": "53385cb9-5fa9-4523-a967-0aa4ea6ce67e",
     "showTitle": false,
     "title": ""
    }
   },
   "outputs": [],
   "source": [
    "# Print the features names\n",
    "features_duplicates"
   ]
  },
  {
   "cell_type": "code",
   "execution_count": 0,
   "metadata": {
    "application/vnd.databricks.v1+cell": {
     "cellMetadata": {
      "byteLimit": 2048000,
      "rowLimit": 10000
     },
     "inputWidgets": {},
     "nuid": "c9d7789e-996c-4c7a-89d0-1a5968638edf",
     "showTitle": false,
     "title": ""
    }
   },
   "outputs": [],
   "source": [
    "# TASK 7 >>>> Drop these duplicated features from X_training and X_testing\n",
    "\n",
    "X_training.drop(labels = features_duplicates, axis = 1, inplace = True)\n",
    "X_testing.drop(labels = features_duplicates, axis = 1, inplace = True)"
   ]
  },
  {
   "cell_type": "code",
   "execution_count": 0,
   "metadata": {
    "application/vnd.databricks.v1+cell": {
     "cellMetadata": {
      "byteLimit": 2048000,
      "rowLimit": 10000
     },
     "inputWidgets": {},
     "nuid": "d9ea2032-253c-4ea5-bd52-22e511feaeeb",
     "showTitle": false,
     "title": ""
    }
   },
   "outputs": [],
   "source": [
    "# Get the shape of X_training and X_testing\n",
    "X_training.shape, X_testing.shape"
   ]
  },
  {
   "cell_type": "markdown",
   "metadata": {
    "application/vnd.databricks.v1+cell": {
     "cellMetadata": {},
     "inputWidgets": {},
     "nuid": "da8d07f7-9ab3-4adc-8533-d6c1a8c2b2a2",
     "showTitle": false,
     "title": ""
    }
   },
   "source": [
    "# Apendix\n",
    "\n",
    "Data sources:\n",
    "\n",
    "\\\\(^{1}\\\\) Santander dataset: https://www.kaggle.com/c/santander-customer-satisfaction/data\n",
    "\n",
    "\\\\(^{2}\\\\) Wine quality dataset: https://archive.ics.uci.edu/ml/datasets/wine+quality\n",
    "\n",
    "Material adapted for RBI internal purposes with full permissions from original authors."
   ]
  }
 ],
 "metadata": {
  "application/vnd.databricks.v1+notebook": {
   "dashboards": [],
   "environmentMetadata": null,
   "language": "python",
   "notebookMetadata": {
    "pythonIndentUnit": 4
   },
   "notebookName": "[Answer]5_Feature_Selection_jupyter",
   "widgets": {}
  }
 },
 "nbformat": 4,
 "nbformat_minor": 0
}
