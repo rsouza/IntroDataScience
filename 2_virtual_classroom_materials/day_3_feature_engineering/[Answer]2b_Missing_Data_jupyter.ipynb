{
 "cells": [
  {
   "cell_type": "markdown",
   "metadata": {
    "application/vnd.databricks.v1+cell": {
     "cellMetadata": {},
     "inputWidgets": {},
     "nuid": "7b7de24f-c895-4918-9492-51b7c47df732",
     "showTitle": false,
     "title": ""
    }
   },
   "source": [
    "# 0. Loading libraries and Classes"
   ]
  },
  {
   "cell_type": "code",
   "execution_count": 0,
   "metadata": {
    "application/vnd.databricks.v1+cell": {
     "cellMetadata": {
      "byteLimit": 2048000,
      "rowLimit": 10000
     },
     "inputWidgets": {},
     "nuid": "0c971206-9d4d-4be8-9861-f29a801b89a7",
     "showTitle": false,
     "title": ""
    }
   },
   "outputs": [],
   "source": [
    "!pip install missingno -q"
   ]
  },
  {
   "cell_type": "code",
   "execution_count": 0,
   "metadata": {
    "application/vnd.databricks.v1+cell": {
     "cellMetadata": {
      "byteLimit": 2048000,
      "rowLimit": 10000
     },
     "inputWidgets": {},
     "nuid": "fbdbf0eb-68ee-42ae-9a66-d77dbe9129ca",
     "showTitle": false,
     "title": ""
    }
   },
   "outputs": [],
   "source": [
    "# Import pandas, numpy, seaborn and matplotlib libraries\n",
    "import pandas as pd\n",
    "import numpy as np\n",
    "import seaborn as sns\n",
    "import matplotlib.pyplot as plt\n",
    "\n",
    "import warnings\n",
    "warnings.filterwarnings('ignore')\n",
    "\n",
    "# Import train_test_split to separate train and test set\n",
    "from sklearn.model_selection import train_test_split\n",
    "\n",
    "# Import MissingIndicator and SimpleImputer from impute module\n",
    "from sklearn.impute import MissingIndicator\n",
    "from sklearn.impute import SimpleImputer"
   ]
  },
  {
   "cell_type": "code",
   "execution_count": 0,
   "metadata": {
    "application/vnd.databricks.v1+cell": {
     "cellMetadata": {
      "byteLimit": 2048000,
      "rowLimit": 10000
     },
     "inputWidgets": {},
     "nuid": "1d4d3e79-3f91-4607-a6ad-4c122f10d2fa",
     "showTitle": false,
     "title": ""
    }
   },
   "outputs": [],
   "source": [
    "# Set the parameters and the style for plotting\n",
    "params = {'figure.figsize':(12,8),\n",
    "         'axes.labelsize':13,\n",
    "         'axes.titlesize':16,\n",
    "         'xtick.labelsize':11,\n",
    "         'ytick.labelsize':11\n",
    "         }\n",
    "plt.rcParams.update(params)\n",
    "sns.set_style(\"whitegrid\")"
   ]
  },
  {
   "cell_type": "markdown",
   "metadata": {
    "application/vnd.databricks.v1+cell": {
     "cellMetadata": {},
     "inputWidgets": {},
     "nuid": "ba2cff5b-2383-4763-8dea-4ba63f1446a2",
     "showTitle": false,
     "title": ""
    }
   },
   "source": [
    "We'll be using Titanic dataset to explore the missing data in this notebook."
   ]
  },
  {
   "cell_type": "code",
   "execution_count": 0,
   "metadata": {
    "application/vnd.databricks.v1+cell": {
     "cellMetadata": {
      "byteLimit": 2048000,
      "rowLimit": 10000
     },
     "inputWidgets": {},
     "nuid": "a9a5a720-fd55-4503-9868-8c2230afad36",
     "showTitle": false,
     "title": ""
    }
   },
   "outputs": [],
   "source": [
    "# Load the dataset 'Data/titanic_data.csv' and store it in variable data\n",
    "data = pd.read_csv('../../Data/titanic_data.csv')\n",
    "# Get the first 5 rows\n",
    "data.head()"
   ]
  },
  {
   "cell_type": "markdown",
   "metadata": {
    "application/vnd.databricks.v1+cell": {
     "cellMetadata": {},
     "inputWidgets": {},
     "nuid": "30a743d6-da24-4a40-a85f-3bd3151b30cb",
     "showTitle": false,
     "title": ""
    }
   },
   "source": [
    "# 1. First look at the missing values\n",
    "\n",
    "We can use Pandas chained [`isnull()`](https://pandas.pydata.org/pandas-docs/stable/reference/api/pandas.DataFrame.isnull.html)[`.sum()`](https://pandas.pydata.org/pandas-docs/stable/reference/api/pandas.DataFrame.sum.html) function to detect missing values."
   ]
  },
  {
   "cell_type": "code",
   "execution_count": 0,
   "metadata": {
    "application/vnd.databricks.v1+cell": {
     "cellMetadata": {
      "byteLimit": 2048000,
      "rowLimit": 10000
     },
     "inputWidgets": {},
     "nuid": "a3fde39d-ab1b-48d1-9fe0-eed0cb2f9387",
     "showTitle": false,
     "title": ""
    }
   },
   "outputs": [],
   "source": [
    "# Get the total number of missing values using\n",
    "data.isnull().sum()"
   ]
  },
  {
   "cell_type": "markdown",
   "metadata": {
    "application/vnd.databricks.v1+cell": {
     "cellMetadata": {},
     "inputWidgets": {},
     "nuid": "09a71804-d95f-4cb3-9fd0-d3d979de38b1",
     "showTitle": false,
     "title": ""
    }
   },
   "source": [
    "We can see that three columns contain missing values: 'Age', 'Cabin' and 'Embarked'. \n",
    "If we want to compute the proportion of missing values, we can use\n",
    "[`.mean()`](https://pandas.pydata.org/pandas-docs/stable/reference/api/pandas.DataFrame.mean.html)\n",
    "function and plot the proportion using a barplot."
   ]
  },
  {
   "cell_type": "code",
   "execution_count": 0,
   "metadata": {
    "application/vnd.databricks.v1+cell": {
     "cellMetadata": {
      "byteLimit": 2048000,
      "rowLimit": 10000
     },
     "inputWidgets": {},
     "nuid": "2874448e-c759-4228-9407-48a496ecb8cf",
     "showTitle": false,
     "title": ""
    }
   },
   "outputs": [],
   "source": [
    "# Compute the proportion of missing values\n",
    "percentage = data.isnull().mean()*100\n",
    "percentage"
   ]
  },
  {
   "cell_type": "code",
   "execution_count": 0,
   "metadata": {
    "application/vnd.databricks.v1+cell": {
     "cellMetadata": {
      "byteLimit": 2048000,
      "rowLimit": 10000
     },
     "inputWidgets": {},
     "nuid": "8082f7e7-5b76-416d-bd4a-9fb48c3495fd",
     "showTitle": false,
     "title": ""
    }
   },
   "outputs": [],
   "source": [
    "# Plot barchart\n",
    "percentage.plot(kind='bar');"
   ]
  },
  {
   "cell_type": "markdown",
   "metadata": {
    "application/vnd.databricks.v1+cell": {
     "cellMetadata": {},
     "inputWidgets": {},
     "nuid": "c9e46805-9ed4-4b54-ae05-04b4f574a723",
     "showTitle": false,
     "title": ""
    }
   },
   "source": [
    "If we want to visualize the location of missing values, we can use seaborn's [`heatmap`](https://seaborn.pydata.org/generated/seaborn.heatmap.html) that tells us where the missing values occur. We set parameter `cbar = False` as the color bar does not need to be drawn.\n",
    "\n",
    "Such a visualization has a benefit which people usually do not realize: Imagine that you just produce sums or in other words amounts of missing values in the dataset. Remember that descriptive statistics might reveal less than what visualisation does. This is also true for missing values. You might be able to spot, for example, **that missing values in two columns have a similar or the same pattern**. "
   ]
  },
  {
   "cell_type": "code",
   "execution_count": 0,
   "metadata": {
    "application/vnd.databricks.v1+cell": {
     "cellMetadata": {
      "byteLimit": 2048000,
      "rowLimit": 10000
     },
     "inputWidgets": {},
     "nuid": "6aae059a-3e97-485d-a701-445d4b478520",
     "showTitle": false,
     "title": ""
    }
   },
   "outputs": [],
   "source": [
    "# Visualize only those three columns that contain missing values\n",
    "data_copy = data[['Age','Cabin','Embarked']]\n",
    "sns.heatmap(data_copy.isnull(), cbar = False);"
   ]
  },
  {
   "cell_type": "markdown",
   "metadata": {
    "application/vnd.databricks.v1+cell": {
     "cellMetadata": {},
     "inputWidgets": {},
     "nuid": "0e4ec44b-8d1f-4b86-909a-96a4c047aa3a",
     "showTitle": false,
     "title": ""
    }
   },
   "source": [
    "For even better visualization of missing values, we can again use the dedicated library [missingno](https://github.com/ResidentMario/missingno)."
   ]
  },
  {
   "cell_type": "code",
   "execution_count": 0,
   "metadata": {
    "application/vnd.databricks.v1+cell": {
     "cellMetadata": {
      "byteLimit": 2048000,
      "rowLimit": 10000
     },
     "inputWidgets": {},
     "nuid": "fef997e4-2303-4ddf-b711-663fe2c04125",
     "showTitle": false,
     "title": ""
    }
   },
   "outputs": [],
   "source": [
    "import missingno as msno\n",
    "fig, ax = plt.subplots(figsize=(10,6))\n",
    "msno.heatmap(data, ax=ax);"
   ]
  },
  {
   "cell_type": "code",
   "execution_count": 0,
   "metadata": {
    "application/vnd.databricks.v1+cell": {
     "cellMetadata": {
      "byteLimit": 2048000,
      "rowLimit": 10000
     },
     "inputWidgets": {},
     "nuid": "da5fd1af-2cd2-4515-ac2d-4f9849896cee",
     "showTitle": false,
     "title": ""
    }
   },
   "outputs": [],
   "source": [
    "fig, ax = plt.subplots(figsize=(10,6))\n",
    "msno.dendrogram(data, ax=ax);"
   ]
  },
  {
   "cell_type": "markdown",
   "metadata": {
    "application/vnd.databricks.v1+cell": {
     "cellMetadata": {},
     "inputWidgets": {},
     "nuid": "5cd2941c-e3d1-404f-ba5c-17d0d3ee83d6",
     "showTitle": false,
     "title": ""
    }
   },
   "source": [
    "# 2. Concepts of missing values\n",
    "\n",
    "According to Rubin's theory \\\\(^{1}\\\\), every data point has some probability of being missing in the dataset. The process that governs these probabilities is called **the missing data mechanism**. \n",
    "\n",
    "## 2.1 MNAR: Missing data Not At Random\n",
    "\n",
    "MNAR means that the probability of being missing varies for reasons that are unknown to us. Let's look at the columns 'Age' and 'Cabin'. We found out that the column 'Cabin' contains approximately 77% missing values, the column 'Age' almost 20% missing values. \n",
    "\n",
    "The age or cabin could not be established for people who did not survive that night. We assume that survivors were asked for such information. But can we infer this when we look at the data? In this case, we expect that observations of people who did not survive should have more missing values. Let's find out.\n",
    "\n",
    "*Note: Below is a cool functionality of pandas. The method is called query and allows you to really simply subset your data. Of course you could also solve with the traditional functionality which you already learned, I just wanted to make use of the opportunity.*\n",
    "\n",
    "### 2.1.1 Diagnosing Missing Data"
   ]
  },
  {
   "cell_type": "code",
   "execution_count": 0,
   "metadata": {
    "application/vnd.databricks.v1+cell": {
     "cellMetadata": {
      "byteLimit": 2048000,
      "rowLimit": 10000
     },
     "inputWidgets": {},
     "nuid": "afaf568b-ab40-49d2-be62-e975ceaa2d53",
     "showTitle": false,
     "title": ""
    }
   },
   "outputs": [],
   "source": [
    "# Filter the dataset based on people who survived\n",
    "survived = data.query('Survived == 1')\n",
    "survived"
   ]
  },
  {
   "cell_type": "code",
   "execution_count": 0,
   "metadata": {
    "application/vnd.databricks.v1+cell": {
     "cellMetadata": {
      "byteLimit": 2048000,
      "rowLimit": 10000
     },
     "inputWidgets": {},
     "nuid": "8652710b-89c3-4c57-ade1-82e49860552f",
     "showTitle": false,
     "title": ""
    }
   },
   "outputs": [],
   "source": [
    "# Print the percentage of missing values in the column 'Cabin' for people who survived\n",
    "print('The percentage of missing values: {0:.1f} %'.format(survived['Cabin'].isna().mean()*100))"
   ]
  },
  {
   "cell_type": "code",
   "execution_count": 0,
   "metadata": {
    "application/vnd.databricks.v1+cell": {
     "cellMetadata": {
      "byteLimit": 2048000,
      "rowLimit": 10000
     },
     "inputWidgets": {},
     "nuid": "bf7bd199-23ef-4d1e-bbfe-6b46a806eb9f",
     "showTitle": false,
     "title": ""
    }
   },
   "outputs": [],
   "source": [
    "# Filter the dataset based on people who did not survived\n",
    "not_survived = data.query('Survived == 0')\n",
    "not_survived"
   ]
  },
  {
   "cell_type": "code",
   "execution_count": 0,
   "metadata": {
    "application/vnd.databricks.v1+cell": {
     "cellMetadata": {
      "byteLimit": 2048000,
      "rowLimit": 10000
     },
     "inputWidgets": {},
     "nuid": "3b217363-5723-449e-827c-5812c9f6e081",
     "showTitle": false,
     "title": ""
    }
   },
   "outputs": [],
   "source": [
    "# Print the percentage of missing values in the column 'Cabin' for people who did not survive\n",
    "print('The percentage of missing values: {0:.1f} %'.format(not_survived['Cabin'].isna().mean()*100))"
   ]
  },
  {
   "cell_type": "markdown",
   "metadata": {
    "application/vnd.databricks.v1+cell": {
     "cellMetadata": {},
     "inputWidgets": {},
     "nuid": "fea40f81-3c2e-4294-a0ae-db6ae13bc83b",
     "showTitle": false,
     "title": ""
    }
   },
   "source": [
    "The output we obtained is the same as we expected. There are more missing values (approximately 87.6%) for people who did not survive compared to those that did (60.2 %)."
   ]
  },
  {
   "cell_type": "code",
   "execution_count": 0,
   "metadata": {
    "application/vnd.databricks.v1+cell": {
     "cellMetadata": {
      "byteLimit": 2048000,
      "rowLimit": 10000
     },
     "inputWidgets": {},
     "nuid": "68df63b0-cfe1-47ce-a93c-3a8524ff7468",
     "showTitle": false,
     "title": ""
    }
   },
   "outputs": [],
   "source": [
    "# TASK 1 >>>> Now it's your turn to explore the column 'Age' in the same way \n",
    "#             and think about whether the values are missing at random or not\n",
    "\n",
    "print(survived['Age'].isna().mean()*100)\n",
    "print(not_survived['Age'].isna().mean()*100)"
   ]
  },
  {
   "cell_type": "markdown",
   "metadata": {
    "application/vnd.databricks.v1+cell": {
     "cellMetadata": {},
     "inputWidgets": {},
     "nuid": "3c7f9ee3-b71a-4867-a945-ef1616bb1b91",
     "showTitle": false,
     "title": ""
    }
   },
   "source": [
    "In the [previous notebook]($./2a_ScikitLearn_Imputing_Data_jupyter) we've filled in missing values using Pandas\n",
    "[`fillna()`](https://pandas.pydata.org/pandas-docs/stable/reference/api/pandas.DataFrame.fillna.html) \n",
    "method.\n",
    "We can specify a scalar value method such as backward fill\n",
    "([`bfill`](https://pandas.pydata.org/pandas-docs/stable/reference/api/pandas.DataFrame.bfill.html)),\n",
    "or forward fill\n",
    "([`ffill`](https://pandas.pydata.org/pandas-docs/stable/reference/api/pandas.DataFrame.ffill.html)),\n",
    "or statistic such as mean, median, or mode of the particular column within this method.\n",
    "If we want to replace missing data with\n",
    "[`bfill`](https://pandas.pydata.org/pandas-docs/stable/reference/api/pandas.DataFrame.bfill.html)\n",
    "method or\n",
    "[`ffill`](https://pandas.pydata.org/pandas-docs/stable/reference/api/pandas.DataFrame.ffill.html)\n",
    "method and there is no previous or future value present, the missing values remain present after the imputation.\n",
    "Also, be careful when filling in missing values with the mean if your data has outliers since the mean is affected by them.\n",
    "\n",
    "This approach of filling missing values should be sufficient if you will use the dataset for simple analysis. \n",
    "However, remember what we discussed: As soon as we want to build a robust pipeline, for example for Machine Learning, we need to be able to save the state. \n",
    "This means that the Pandas functionality may not be the best one. \n",
    "We would need to be manually saving the state of *\"mean which should be imputed\"* somewhere. \n",
    "\n",
    "Luckily, scikit-learn offers a handy alternative in forms of\n",
    "[**missing indicator**](https://scikit-learn.org/stable/modules/generated/sklearn.impute.MissingIndicator.html)\n",
    "and\n",
    "[**simple imputer**](https://scikit-learn.org/stable/modules/generated/sklearn.impute.SimpleImputer.html). \n",
    "Both of these are saving the state so that we can easily make those part of our robust pipeline. \n",
    "Let's now take a look at these two.\n",
    "\n",
    "\n",
    "------\n",
    "\n",
    "**Simple Imputer and Missing Indicator**\n",
    "\n",
    "[`scikit learn`](https://scikit-learn.org/stable/index.html) offers transformers for univariate and multivariate imputation of missing values.\n",
    "You can read more in the [documentation](https://scikit-learn.org/stable/modules/impute.html).\n",
    "Now we demonstrate the usability of the\n",
    "[`SimpleImputer()`](https://scikit-learn.org/stable/modules/generated/sklearn.impute.SimpleImputer.html)\n",
    "class from the impute module.\n",
    "You can specify several parameters, such as the placeholder ([`np.nan`](https://numpy.org/doc/stable/reference/constants.html#numpy.nan)) for missing values, the imputation strategy, or the value used to replace missing values.\n",
    "Find more [here](https://scikit-learn.org/stable/modules/generated/sklearn.impute.SimpleImputer.html).\n",
    "\n",
    "\n",
    "\n",
    "**Before we impute the missing values**, it is useful to mark missing values to preserve the information about which values had been missing.\n",
    "We can use [`MissingIndicator`](https://scikit-learn.org/stable/modules/generated/sklearn.impute.MissingIndicator.html), which transforms the dataset into binary variables indicating the presence of missing values (these binary variables will be added to the original training set).\n",
    "See the [documentation](https://scikit-learn.org/stable/modules/generated/sklearn.impute.MissingIndicator.html#sklearn.impute.MissingIndicator) for [`MissingIndicator`](https://scikit-learn.org/stable/modules/generated/sklearn.impute.MissingIndicator.html).\n",
    "\n",
    "In essence, the idea behind [`MissingIndicator`](https://scikit-learn.org/stable/modules/generated/sklearn.impute.MissingIndicator.html) is that we **preserve extra information** for our model which is if the value was missing.\n",
    "We are hoping that the model might pick up a pattern herein which we missed.\n",
    "\n",
    "Let's split our data into training and testing set, mark missing values, and fill in those using\n",
    "[`SimpleImputer()`](https://scikit-learn.org/stable/modules/generated/sklearn.impute.SimpleImputer.html)."
   ]
  },
  {
   "cell_type": "code",
   "execution_count": 0,
   "metadata": {
    "application/vnd.databricks.v1+cell": {
     "cellMetadata": {
      "byteLimit": 2048000,
      "rowLimit": 10000
     },
     "inputWidgets": {},
     "nuid": "54e867ab-c670-4c81-9555-b98952b6dc4f",
     "showTitle": false,
     "title": ""
    }
   },
   "outputs": [],
   "source": [
    "# Split the data into training and testing set\n",
    "X_train, X_test, y_train, y_test = train_test_split(data[['Pclass', 'Name', 'Sex', 'Age', 'SibSp',\n",
    "                                                        'Parch', 'Ticket', 'Fare', 'Cabin', 'Embarked']], \n",
    "                                                    data['Survived'],\n",
    "                                                    test_size = 0.3,\n",
    "                                                    random_state = 42) \n",
    "# Get the shape \n",
    "X_train.shape, X_test.shape"
   ]
  },
  {
   "cell_type": "code",
   "execution_count": 0,
   "metadata": {
    "application/vnd.databricks.v1+cell": {
     "cellMetadata": {
      "byteLimit": 2048000,
      "rowLimit": 10000
     },
     "inputWidgets": {},
     "nuid": "7fcc27fc-224a-4ba5-9df7-0f76eabd7dd5",
     "showTitle": false,
     "title": ""
    }
   },
   "outputs": [],
   "source": [
    "# Get the number of missing values\n",
    "X_train.isnull().sum()"
   ]
  },
  {
   "cell_type": "markdown",
   "metadata": {
    "application/vnd.databricks.v1+cell": {
     "cellMetadata": {},
     "inputWidgets": {},
     "nuid": "600d25d9-f22a-42b8-9a62-916808f9018c",
     "showTitle": false,
     "title": ""
    }
   },
   "source": [
    "### 2.1.2 Missing Indicator\n",
    "We'll use\n",
    "[`MissingIndicator`](https://scikit-learn.org/stable/modules/generated/sklearn.impute.MissingIndicator.html)\n",
    "to mark missing values by setting the parameter `features = 'missing-only'` (by default).\n",
    "If we want to create binary variables for all features, we set the parameter to `features = 'all'`."
   ]
  },
  {
   "cell_type": "code",
   "execution_count": 0,
   "metadata": {
    "application/vnd.databricks.v1+cell": {
     "cellMetadata": {
      "byteLimit": 2048000,
      "rowLimit": 10000
     },
     "inputWidgets": {},
     "nuid": "bcffd257-7d99-4fe2-8a79-df568eda8c95",
     "showTitle": false,
     "title": ""
    }
   },
   "outputs": [],
   "source": [
    "# Create MissingIndicator object\n",
    "missing_indicator = MissingIndicator(features = 'missing-only')"
   ]
  },
  {
   "cell_type": "code",
   "execution_count": 0,
   "metadata": {
    "application/vnd.databricks.v1+cell": {
     "cellMetadata": {
      "byteLimit": 2048000,
      "rowLimit": 10000
     },
     "inputWidgets": {},
     "nuid": "63b610cb-4557-4cf1-8541-8246a8eba478",
     "showTitle": false,
     "title": ""
    }
   },
   "outputs": [],
   "source": [
    "# Fit X_train with missing_indicator \n",
    "missing_indicator.fit(X_train)"
   ]
  },
  {
   "cell_type": "code",
   "execution_count": 0,
   "metadata": {
    "application/vnd.databricks.v1+cell": {
     "cellMetadata": {
      "byteLimit": 2048000,
      "rowLimit": 10000
     },
     "inputWidgets": {},
     "nuid": "27d1461a-afd5-47f6-b631-49ac7e5ffaec",
     "showTitle": false,
     "title": ""
    }
   },
   "outputs": [],
   "source": [
    "# Get the features with missing values\n",
    "missing_indicator.features_"
   ]
  },
  {
   "cell_type": "markdown",
   "metadata": {
    "application/vnd.databricks.v1+cell": {
     "cellMetadata": {},
     "inputWidgets": {},
     "nuid": "c6dc0d82-d669-412b-b7d7-2dbb50a19f58",
     "showTitle": false,
     "title": ""
    }
   },
   "source": [
    "With `.features_` attribute we get feature names or the indices of features containing missing values."
   ]
  },
  {
   "cell_type": "code",
   "execution_count": 0,
   "metadata": {
    "application/vnd.databricks.v1+cell": {
     "cellMetadata": {
      "byteLimit": 2048000,
      "rowLimit": 10000
     },
     "inputWidgets": {},
     "nuid": "39cf8420-0968-4ed2-92c2-719e06588d5b",
     "showTitle": false,
     "title": ""
    }
   },
   "outputs": [],
   "source": [
    "# Get the features names\n",
    "X_train.columns[missing_indicator.features_]"
   ]
  },
  {
   "cell_type": "markdown",
   "metadata": {
    "application/vnd.databricks.v1+cell": {
     "cellMetadata": {},
     "inputWidgets": {},
     "nuid": "8fc9524b-77f3-4958-bbd3-13f0892f9ed1",
     "showTitle": false,
     "title": ""
    }
   },
   "source": [
    "Since the transformation of `X_train` returns a boolean, we create a new variable to store the output. After that, we concatenate it to the original `X_train`."
   ]
  },
  {
   "cell_type": "code",
   "execution_count": 0,
   "metadata": {
    "application/vnd.databricks.v1+cell": {
     "cellMetadata": {
      "byteLimit": 2048000,
      "rowLimit": 10000
     },
     "inputWidgets": {},
     "nuid": "a41b4d23-58db-4675-aeee-bf37b6cb999b",
     "showTitle": false,
     "title": ""
    }
   },
   "outputs": [],
   "source": [
    "# Transform X_train using missing_indicator and store the output to X_missing\n",
    "X_train_missing = missing_indicator.transform(X_train)"
   ]
  },
  {
   "cell_type": "code",
   "execution_count": 0,
   "metadata": {
    "application/vnd.databricks.v1+cell": {
     "cellMetadata": {
      "byteLimit": 2048000,
      "rowLimit": 10000
     },
     "inputWidgets": {},
     "nuid": "fde73657-913f-4717-bc57-827f4583f067",
     "showTitle": false,
     "title": ""
    }
   },
   "outputs": [],
   "source": [
    "# Display the output\n",
    "X_train_missing"
   ]
  },
  {
   "cell_type": "markdown",
   "metadata": {
    "application/vnd.databricks.v1+cell": {
     "cellMetadata": {},
     "inputWidgets": {},
     "nuid": "c72a3cf6-5a5f-4dce-9c32-4c3cf65be671",
     "showTitle": false,
     "title": ""
    }
   },
   "source": [
    "Now we concatenate the `X_train_missing` boolean variables to the original `X_train`.\n",
    "To distinguish which boolean variable belongs to the original feature in `X_train`, we create new names (otherwise, boolean variables names will be labeled as 0,1 and 2).\n",
    "`X_train_missing` array needs to be converted using [`pd.DataFrame`](https://pandas.pydata.org/pandas-docs/stable/reference/frame.html), since only Series and DataFrame objects are valid within the\n",
    "[`concat()`](https://pandas.pydata.org/pandas-docs/stable/reference/api/pandas.concat.html) method."
   ]
  },
  {
   "cell_type": "code",
   "execution_count": 0,
   "metadata": {
    "application/vnd.databricks.v1+cell": {
     "cellMetadata": {
      "byteLimit": 2048000,
      "rowLimit": 10000
     },
     "inputWidgets": {},
     "nuid": "d2f65b39-8c4b-4c0e-8765-9a693c6f319e",
     "showTitle": false,
     "title": ""
    }
   },
   "outputs": [],
   "source": [
    "# Create new column names for boolean variables\n",
    "# Create an empty list to store the new names\n",
    "indicator_name = []\n",
    "# Iterate over the features with missing values\n",
    "for column in X_train.columns[missing_indicator.features_]:\n",
    "    column_name = column + '_Missing'\n",
    "    # Append new names to the indicator_name list\n",
    "    indicator_name.append(column_name)"
   ]
  },
  {
   "cell_type": "code",
   "execution_count": 0,
   "metadata": {
    "application/vnd.databricks.v1+cell": {
     "cellMetadata": {
      "byteLimit": 2048000,
      "rowLimit": 10000
     },
     "inputWidgets": {},
     "nuid": "dea984ee-89be-4c24-b225-ebc62537a7c1",
     "showTitle": false,
     "title": ""
    }
   },
   "outputs": [],
   "source": [
    "# Concatenate the original X_train and X_train_missing along the columns\n",
    "# Reset the index in X_train and convert X_train_missing to a Pandas DataFrame \n",
    "# Assign new column names stored in indicator_name to the columns parameter\n",
    "X_train = pd.concat([X_train.reset_index(), pd.DataFrame(X_train_missing, columns = indicator_name)], axis = 1)\n",
    "X_train"
   ]
  },
  {
   "cell_type": "code",
   "execution_count": 0,
   "metadata": {
    "application/vnd.databricks.v1+cell": {
     "cellMetadata": {
      "byteLimit": 2048000,
      "rowLimit": 10000
     },
     "inputWidgets": {},
     "nuid": "2c240b03-d144-4cac-9cbe-3160b1860935",
     "showTitle": false,
     "title": ""
    }
   },
   "outputs": [],
   "source": [
    "# TASK 2 >>>>> Repeat the process for X_test \n",
    "# Transform X_test data using missing_indicator and store it to the variable X_test_missing\n",
    "\n",
    "X_test_missing = missing_indicator.transform(X_test)"
   ]
  },
  {
   "cell_type": "code",
   "execution_count": 0,
   "metadata": {
    "application/vnd.databricks.v1+cell": {
     "cellMetadata": {
      "byteLimit": 2048000,
      "rowLimit": 10000
     },
     "inputWidgets": {},
     "nuid": "c28b294b-ccaf-4822-9809-5799104ea9af",
     "showTitle": false,
     "title": ""
    }
   },
   "outputs": [],
   "source": [
    "# TASK 2 >>>>> Concatenate the original X_test and X_test_missing along the columns in the same way as we did for X_train\n",
    "# Assign it to the original X_test\n",
    "\n",
    "X_test = pd.concat([X_test.reset_index(), pd.DataFrame(X_test_missing, columns = indicator_name)], axis = 1)\n",
    "\n",
    "# Display X_test to see the result\n",
    "X_test"
   ]
  },
  {
   "cell_type": "markdown",
   "metadata": {
    "application/vnd.databricks.v1+cell": {
     "cellMetadata": {},
     "inputWidgets": {},
     "nuid": "7fc1b177-d4f1-4a41-aa73-575c6d595613",
     "showTitle": false,
     "title": ""
    }
   },
   "source": [
    "### 2.1.3 Simple Imputer\n",
    "Now we'll impute the missing values of the column 'Age' using\n",
    "[`SimpleImputer`](https://scikit-learn.org/stable/modules/generated/sklearn.impute.SimpleImputer.html).\n",
    "We specify the placeholder for missing values ([`np.nan`](https://numpy.org/doc/stable/reference/constants.html#numpy.nan)) and `strategy = 'mean'` (this strategy is by default, so it is okay if you don't explicitly specify it within the class)."
   ]
  },
  {
   "cell_type": "code",
   "execution_count": 0,
   "metadata": {
    "application/vnd.databricks.v1+cell": {
     "cellMetadata": {
      "byteLimit": 2048000,
      "rowLimit": 10000
     },
     "inputWidgets": {},
     "nuid": "5a66a834-2d99-411a-bdae-956814f09481",
     "showTitle": false,
     "title": ""
    }
   },
   "outputs": [],
   "source": [
    "# Create SimpleImputer object for imputing missing values with mean strategy\n",
    "imputer = SimpleImputer(missing_values = np.nan, strategy = 'mean')"
   ]
  },
  {
   "cell_type": "code",
   "execution_count": 0,
   "metadata": {
    "application/vnd.databricks.v1+cell": {
     "cellMetadata": {
      "byteLimit": 2048000,
      "rowLimit": 10000
     },
     "inputWidgets": {},
     "nuid": "6dc88c70-4f84-4bcb-85e7-a6f99c910c5e",
     "showTitle": false,
     "title": ""
    }
   },
   "outputs": [],
   "source": [
    "# Fit column 'Age' in X_train\n",
    "imputer.fit(X_train[['Age']])"
   ]
  },
  {
   "cell_type": "code",
   "execution_count": 0,
   "metadata": {
    "application/vnd.databricks.v1+cell": {
     "cellMetadata": {
      "byteLimit": 2048000,
      "rowLimit": 10000
     },
     "inputWidgets": {},
     "nuid": "3820a835-85bf-46aa-a4c9-07da072ba563",
     "showTitle": false,
     "title": ""
    }
   },
   "outputs": [],
   "source": [
    "# To see the mean value that will be used for imputing we can use .statistics_ attribute\n",
    "imputer.statistics_"
   ]
  },
  {
   "cell_type": "code",
   "execution_count": 0,
   "metadata": {
    "application/vnd.databricks.v1+cell": {
     "cellMetadata": {
      "byteLimit": 2048000,
      "rowLimit": 10000
     },
     "inputWidgets": {},
     "nuid": "8e34f443-37ee-4df9-a346-41642f9a3e9a",
     "showTitle": false,
     "title": ""
    }
   },
   "outputs": [],
   "source": [
    "# Transform column 'Age' in X_train\n",
    "X_train[['Age']] = imputer.transform(X_train[['Age']])"
   ]
  },
  {
   "cell_type": "code",
   "execution_count": 0,
   "metadata": {
    "application/vnd.databricks.v1+cell": {
     "cellMetadata": {
      "byteLimit": 2048000,
      "rowLimit": 10000
     },
     "inputWidgets": {},
     "nuid": "930e2a59-250a-4695-95ce-a63c78f2d017",
     "showTitle": false,
     "title": ""
    }
   },
   "outputs": [],
   "source": [
    "# Get the total number of missing values in column 'Age' to see whether these values have been replaced\n",
    "X_train['Age'].isnull().sum()"
   ]
  },
  {
   "cell_type": "code",
   "execution_count": 0,
   "metadata": {
    "application/vnd.databricks.v1+cell": {
     "cellMetadata": {
      "byteLimit": 2048000,
      "rowLimit": 10000
     },
     "inputWidgets": {},
     "nuid": "e5f93c63-b3bc-49e2-8b28-bfa7db48bebd",
     "showTitle": false,
     "title": ""
    }
   },
   "outputs": [],
   "source": [
    "# TASK 3 >>>>> Repeat the imputing also for column 'Age' in X_test data\n",
    "X_test[['Age']] = imputer.transform(X_test[['Age']])\n",
    "\n",
    "# # Get the total number of missing values in column Age to see whether these values have been replaced\n",
    "X_train['Age'].isnull().sum()"
   ]
  },
  {
   "cell_type": "markdown",
   "metadata": {
    "application/vnd.databricks.v1+cell": {
     "cellMetadata": {},
     "inputWidgets": {},
     "nuid": "2f8e5452-9fd3-42a5-a933-ba20b7b0a235",
     "showTitle": false,
     "title": ""
    }
   },
   "source": [
    "## 2.2 MCAR: Missing data Completely At Random \n",
    "\n",
    "When data is missing completely at random, the probability of being missing is the same for all observations in the dataset, i.e. the cause of the missing data is unrelated to the data.\n",
    "\n",
    "Let's take as an example the column 'Embarked' and its missing values."
   ]
  },
  {
   "cell_type": "code",
   "execution_count": 0,
   "metadata": {
    "application/vnd.databricks.v1+cell": {
     "cellMetadata": {
      "byteLimit": 2048000,
      "rowLimit": 10000
     },
     "inputWidgets": {},
     "nuid": "414a1c01-3148-4b64-b996-054cfa224403",
     "showTitle": false,
     "title": ""
    }
   },
   "outputs": [],
   "source": [
    "# Get the rows where the values in the 'Embarked' column are missing\n",
    "data[data['Embarked'].isnull()]"
   ]
  },
  {
   "cell_type": "markdown",
   "metadata": {
    "application/vnd.databricks.v1+cell": {
     "cellMetadata": {},
     "inputWidgets": {},
     "nuid": "d1f991b0-e757-48ee-847e-b8940fb4697b",
     "showTitle": false,
     "title": ""
    }
   },
   "source": [
    "Mrs. Stone was traveling in the first class with her maid Miss. Amelie Icard. They occupied the same Cabin B28, but the data on the port of embarkation is missing. But we cannot tell if the 'Embarked' variable depends on any other variable. We can also see that these women have survived, so we assume that they were asked for that information. It could happen that this information was lost when the dataset was created. The probability of losing this information is the same for every person on the Titanic. However, this would probably be impossible to prove. \n",
    "\n",
    "For curiosity: You can find out more information about Mrs. Stone and her maid [here](https://www.encyclopedia-titanica.org/titanic-survivor/martha-evelyn-stone.html). There is also information about the port of embarkation in this article.  \n",
    "\n",
    "-----\n",
    "\n",
    "We can impute missing values also in the case of categorical variables that have values stored as strings. Let's impute the missing values of the 'Embarked' column in the `X_train` data. We set `strategy = constant` that allows us to specify the `fill_value` used to replace missing values. This can be used with strings or numeric data as well. The second option for strategy is `most_frequent` when the missing values will be replaced using the most frequent column value."
   ]
  },
  {
   "cell_type": "code",
   "execution_count": 0,
   "metadata": {
    "application/vnd.databricks.v1+cell": {
     "cellMetadata": {
      "byteLimit": 2048000,
      "rowLimit": 10000
     },
     "inputWidgets": {},
     "nuid": "ae4cf6d5-415e-42a4-a46f-8bdc476b335f",
     "showTitle": false,
     "title": ""
    }
   },
   "outputs": [],
   "source": [
    "# Create SimpleImputer object and store it to variable imputer_cat\n",
    "imputer_cat = SimpleImputer(missing_values = np.nan, strategy = 'constant',fill_value = 'S')"
   ]
  },
  {
   "cell_type": "code",
   "execution_count": 0,
   "metadata": {
    "application/vnd.databricks.v1+cell": {
     "cellMetadata": {
      "byteLimit": 2048000,
      "rowLimit": 10000
     },
     "inputWidgets": {},
     "nuid": "0adecce9-8e08-427d-819e-5acad41f7d2a",
     "showTitle": false,
     "title": ""
    }
   },
   "outputs": [],
   "source": [
    "# Fit column 'Embarked' in X_train\n",
    "imputer_cat.fit(X_train[['Embarked']])"
   ]
  },
  {
   "cell_type": "code",
   "execution_count": 0,
   "metadata": {
    "application/vnd.databricks.v1+cell": {
     "cellMetadata": {
      "byteLimit": 2048000,
      "rowLimit": 10000
     },
     "inputWidgets": {},
     "nuid": "33d52fe2-48be-4dbc-88a2-41c15cbefef1",
     "showTitle": false,
     "title": ""
    }
   },
   "outputs": [],
   "source": [
    "# Transform column 'Embarked' in X_train\n",
    "X_train[['Embarked']] = imputer_cat.transform(X_train[['Embarked']])"
   ]
  },
  {
   "cell_type": "code",
   "execution_count": 0,
   "metadata": {
    "application/vnd.databricks.v1+cell": {
     "cellMetadata": {
      "byteLimit": 2048000,
      "rowLimit": 10000
     },
     "inputWidgets": {},
     "nuid": "7d2d38e1-73b4-4416-a38d-6ebda64c6e40",
     "showTitle": false,
     "title": ""
    }
   },
   "outputs": [],
   "source": [
    "# Get the total number of missing values in column 'Embarked' to see whether these values have been replaced\n",
    "X_train['Embarked'].isnull().sum()"
   ]
  },
  {
   "cell_type": "code",
   "execution_count": 0,
   "metadata": {
    "application/vnd.databricks.v1+cell": {
     "cellMetadata": {
      "byteLimit": 2048000,
      "rowLimit": 10000
     },
     "inputWidgets": {},
     "nuid": "89e57a0f-5368-4af3-9c37-8d98007a6dc4",
     "showTitle": false,
     "title": ""
    }
   },
   "outputs": [],
   "source": [
    "# TASK 4 >>>>> Repeat the imputing also for the column 'Embarked' in X_test data\n",
    "\n",
    "X_test[['Embarked']] = imputer_cat.transform(X_test[['Embarked']])\n",
    "\n",
    "# Get the total number of missing values in column Embarked to see whether these values have been replaced\n",
    "X_test['Embarked'].isnull().sum()"
   ]
  },
  {
   "cell_type": "markdown",
   "metadata": {
    "application/vnd.databricks.v1+cell": {
     "cellMetadata": {},
     "inputWidgets": {},
     "nuid": "ceca24a6-91b1-4c3f-8cd9-973e6d35b371",
     "showTitle": false,
     "title": ""
    }
   },
   "source": [
    "## 2.3 MAR: Missing At Random\n",
    "\n",
    "We can say that the data is missing at random if the probability of being missing is the same only within groups defined by the observed data. An example of this case is when we take a sample from a population. The probability to be included depends on some known property. For example, when placed on a soft surface, a weighing scale may produce more missing values than when placed on a hard surface."
   ]
  },
  {
   "cell_type": "markdown",
   "metadata": {
    "application/vnd.databricks.v1+cell": {
     "cellMetadata": {},
     "inputWidgets": {},
     "nuid": "6ecd411e-398d-4af9-a659-570112156f40",
     "showTitle": false,
     "title": ""
    }
   },
   "source": [
    "### TASK\n",
    "\n",
    "In this task you will be using the Avocado dataset.\n",
    "You will impute numeric missing values in the column 'Small Bags' with the median value using\n",
    "[`SimpleImputer`](https://scikit-learn.org/stable/modules/generated/sklearn.impute.SimpleImputer.html).\n",
    "The second task is to impute missing values in the column 'Region' with the most frequent string value of this column also using\n",
    "[`SimpleImputer`](https://scikit-learn.org/stable/modules/generated/sklearn.impute.SimpleImputer.html)."
   ]
  },
  {
   "cell_type": "code",
   "execution_count": 0,
   "metadata": {
    "application/vnd.databricks.v1+cell": {
     "cellMetadata": {
      "byteLimit": 2048000,
      "rowLimit": 10000
     },
     "inputWidgets": {},
     "nuid": "e2a260fb-fb98-43d6-a065-dfe030c91167",
     "showTitle": false,
     "title": ""
    }
   },
   "outputs": [],
   "source": [
    "# Load the dataset 'Data/avocado_missing.csv' and store it to variable avocado\n",
    "avocado = pd.read_csv('../../Data/avocado_missing.csv')\n",
    "# Print the first 5 rows\n",
    "avocado.head()"
   ]
  },
  {
   "cell_type": "code",
   "execution_count": 0,
   "metadata": {
    "application/vnd.databricks.v1+cell": {
     "cellMetadata": {
      "byteLimit": 2048000,
      "rowLimit": 10000
     },
     "inputWidgets": {},
     "nuid": "29b46b2f-94b7-40df-991c-654b15bb71d8",
     "showTitle": false,
     "title": ""
    }
   },
   "outputs": [],
   "source": [
    "# TASK >>>> Print the total number of missing values\n",
    "\n",
    "avocado.isnull().sum()"
   ]
  },
  {
   "cell_type": "code",
   "execution_count": 0,
   "metadata": {
    "application/vnd.databricks.v1+cell": {
     "cellMetadata": {
      "byteLimit": 2048000,
      "rowLimit": 10000
     },
     "inputWidgets": {},
     "nuid": "18aa4661-26b8-4bc4-b108-69a5a65eb7fa",
     "showTitle": false,
     "title": ""
    }
   },
   "outputs": [],
   "source": [
    "# TASK >>>> Create SimpleImputer object and store it in variable imputer_median\n",
    "# Specify that you want to impute the median value\n",
    "\n",
    "imputer_median = SimpleImputer(missing_values = np.nan, strategy = 'median')"
   ]
  },
  {
   "cell_type": "code",
   "execution_count": 0,
   "metadata": {
    "application/vnd.databricks.v1+cell": {
     "cellMetadata": {
      "byteLimit": 2048000,
      "rowLimit": 10000
     },
     "inputWidgets": {},
     "nuid": "61001b97-7a57-4695-b0b7-76253553a8db",
     "showTitle": false,
     "title": ""
    }
   },
   "outputs": [],
   "source": [
    "# TASK >>>> Fit column 'Small Bags' using imputer_median \n",
    "\n",
    "imputer_median.fit(avocado[['Small Bags']])"
   ]
  },
  {
   "cell_type": "code",
   "execution_count": 0,
   "metadata": {
    "application/vnd.databricks.v1+cell": {
     "cellMetadata": {
      "byteLimit": 2048000,
      "rowLimit": 10000
     },
     "inputWidgets": {},
     "nuid": "748d9e96-ea7a-4875-bd9d-c47f5e973370",
     "showTitle": false,
     "title": ""
    }
   },
   "outputs": [],
   "source": [
    "# Print the median value that will be used to replace the missing values\n",
    "imputer_median.statistics_"
   ]
  },
  {
   "cell_type": "code",
   "execution_count": 0,
   "metadata": {
    "application/vnd.databricks.v1+cell": {
     "cellMetadata": {
      "byteLimit": 2048000,
      "rowLimit": 10000
     },
     "inputWidgets": {},
     "nuid": "cff3378d-eb7e-419d-865a-7841c4f6c502",
     "showTitle": false,
     "title": ""
    }
   },
   "outputs": [],
   "source": [
    "# TASK >>>> Transform the column 'Small Bags' using imputer_median\n",
    "# Assign the transformation to avocado[['Small Bags']]\n",
    "\n",
    "avocado[['Small Bags']] = imputer_median.transform(avocado[['Small Bags']])"
   ]
  },
  {
   "cell_type": "code",
   "execution_count": 0,
   "metadata": {
    "application/vnd.databricks.v1+cell": {
     "cellMetadata": {
      "byteLimit": 2048000,
      "rowLimit": 10000
     },
     "inputWidgets": {},
     "nuid": "e40984f4-815f-4587-849c-adbb5aad4601",
     "showTitle": false,
     "title": ""
    }
   },
   "outputs": [],
   "source": [
    "# TASK >>>> Create a SimpleImputer object and store it in the variable imputer_freq\n",
    "# Specify that you want to impute the most frequent value\n",
    "\n",
    "imputer_freq = SimpleImputer(missing_values = np.nan, strategy = 'most_frequent')"
   ]
  },
  {
   "cell_type": "code",
   "execution_count": 0,
   "metadata": {
    "application/vnd.databricks.v1+cell": {
     "cellMetadata": {
      "byteLimit": 2048000,
      "rowLimit": 10000
     },
     "inputWidgets": {},
     "nuid": "ca22f10b-592a-4ded-b524-c138795bf59c",
     "showTitle": false,
     "title": ""
    }
   },
   "outputs": [],
   "source": [
    "# TASK >>>> Fit the column 'region' using imputer_freq\n",
    "\n",
    "imputer_freq.fit(avocado[['region']])"
   ]
  },
  {
   "cell_type": "code",
   "execution_count": 0,
   "metadata": {
    "application/vnd.databricks.v1+cell": {
     "cellMetadata": {
      "byteLimit": 2048000,
      "rowLimit": 10000
     },
     "inputWidgets": {},
     "nuid": "e0003ce0-8c47-4c38-8d46-687ae1105a99",
     "showTitle": false,
     "title": ""
    }
   },
   "outputs": [],
   "source": [
    "# Print the most frequent value that will be used to replacing missing values\n",
    "imputer_freq.statistics_"
   ]
  },
  {
   "cell_type": "code",
   "execution_count": 0,
   "metadata": {
    "application/vnd.databricks.v1+cell": {
     "cellMetadata": {
      "byteLimit": 2048000,
      "rowLimit": 10000
     },
     "inputWidgets": {},
     "nuid": "98715118-5ea3-4529-807c-8ca497223e23",
     "showTitle": false,
     "title": ""
    }
   },
   "outputs": [],
   "source": [
    "# TASK >>>> Transform column 'region' using imputer_freq\n",
    "# Assign the transformation to avocado[['region']]\n",
    "\n",
    "avocado[['region']] = imputer_freq.transform(avocado[['region']])"
   ]
  },
  {
   "cell_type": "code",
   "execution_count": 0,
   "metadata": {
    "application/vnd.databricks.v1+cell": {
     "cellMetadata": {
      "byteLimit": 2048000,
      "rowLimit": 10000
     },
     "inputWidgets": {},
     "nuid": "32db4573-6195-4da6-8297-22f6f7306e67",
     "showTitle": false,
     "title": ""
    }
   },
   "outputs": [],
   "source": [
    "# Print the total number of missing values to see whether the missing values have been replaced\n",
    "avocado.isnull().sum()"
   ]
  },
  {
   "cell_type": "markdown",
   "metadata": {
    "application/vnd.databricks.v1+cell": {
     "cellMetadata": {},
     "inputWidgets": {},
     "nuid": "8951fcec-6c72-4f03-bb69-838a19fe2d27",
     "showTitle": false,
     "title": ""
    }
   },
   "source": [
    "# 3. Read only - Column Transformer\n",
    "\n",
    "Commonly, preparing data for machine learning models often involves several transformations such as imputing missing values, scaling numerical values, or encoding categorical features applied for particular columns. \n",
    "[`scikit learn`](https://scikit-learn.org/stable/index.html)\n",
    "offers the\n",
    "[`ColumnTransformer`](https://scikit-learn.org/stable/modules/generated/sklearn.compose.ColumnTransformer.html)\n",
    "class that is used to apply different transformers to columns.\n",
    "This column transformer can be chained with Pipelines along with machine learning model.\n",
    "You can read more about\n",
    "[`ColumnTransformer`](https://scikit-learn.org/stable/modules/generated/sklearn.compose.ColumnTransformer.html)\n",
    "[here](https://scikit-learn.org/stable/modules/generated/sklearn.compose.ColumnTransformer.html)."
   ]
  },
  {
   "cell_type": "markdown",
   "metadata": {
    "application/vnd.databricks.v1+cell": {
     "cellMetadata": {},
     "inputWidgets": {},
     "nuid": "81418630-93d7-47a2-bdbb-8cdfa2a27d25",
     "showTitle": false,
     "title": ""
    }
   },
   "source": [
    "# Appendix\n",
    "\n",
    "\\\\(^{1}\\\\) Inference and missing data, DONALD B. RUBIN, Biometrika, Volume 63, Issue 3, December 1976, Pages 581–592\n",
    "\n",
    "Data source: \n",
    "\n",
    "Titanic dataset: https://www.kaggle.com/hesh97/titanicdataset-traincsv\n",
    "\n",
    "Data license: CC0: Public Domain\n",
    "\n",
    "Avocado dataset: https://www.kaggle.com/neuromusic/avocado-prices\n",
    "\n",
    "Data license: Database: Open Database\n",
    "\n",
    "Material adapted for RBI internal purposes with full permissions from original authors."
   ]
  }
 ],
 "metadata": {
  "application/vnd.databricks.v1+notebook": {
   "dashboards": [],
   "environmentMetadata": null,
   "language": "python",
   "notebookMetadata": {
    "pythonIndentUnit": 4
   },
   "notebookName": "[Answer]2b_Missing_Data_jupyter",
   "widgets": {}
  }
 },
 "nbformat": 4,
 "nbformat_minor": 0
}
