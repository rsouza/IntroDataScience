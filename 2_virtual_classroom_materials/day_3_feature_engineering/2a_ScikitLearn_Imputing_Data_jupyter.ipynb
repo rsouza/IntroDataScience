{
 "cells": [
  {
   "cell_type": "markdown",
   "metadata": {
    "application/vnd.databricks.v1+cell": {
     "cellMetadata": {},
     "inputWidgets": {},
     "nuid": "e0a2885e-b05f-47b2-a744-89f0bd2bfd1e",
     "showTitle": false,
     "title": ""
    }
   },
   "source": [
    "# Simple examples of data imputation with scikit-learn\n",
    "#### (read and play)"
   ]
  },
  {
   "cell_type": "code",
   "execution_count": 0,
   "metadata": {
    "application/vnd.databricks.v1+cell": {
     "cellMetadata": {
      "byteLimit": 2048000,
      "rowLimit": 10000
     },
     "inputWidgets": {},
     "nuid": "e667b8a3-0577-46d5-bae2-227f1c860719",
     "showTitle": false,
     "title": ""
    }
   },
   "outputs": [],
   "source": [
    "import numpy as np\n",
    "import pandas as pd\n",
    "from io import StringIO"
   ]
  },
  {
   "cell_type": "markdown",
   "metadata": {
    "application/vnd.databricks.v1+cell": {
     "cellMetadata": {},
     "inputWidgets": {},
     "nuid": "523b09ca-6a39-45c7-8506-155d4ee8ef93",
     "showTitle": false,
     "title": ""
    }
   },
   "source": [
    "## 1. Creating some data with missing values"
   ]
  },
  {
   "cell_type": "code",
   "execution_count": 0,
   "metadata": {
    "application/vnd.databricks.v1+cell": {
     "cellMetadata": {
      "byteLimit": 2048000,
      "rowLimit": 10000
     },
     "inputWidgets": {},
     "nuid": "0d6625cc-8dae-46bc-8a3a-797f57d99559",
     "showTitle": false,
     "title": ""
    }
   },
   "outputs": [],
   "source": [
    "csvdata = '''\n",
    "A,B,C,D,E\n",
    "1,2,3,4,\n",
    "5,6,,8,\n",
    "0,,11,12,13\n",
    ",4,15,16,17\n",
    "'''\n",
    "\n",
    "df = pd.read_csv(StringIO(csvdata))\n",
    "df"
   ]
  },
  {
   "cell_type": "markdown",
   "metadata": {
    "application/vnd.databricks.v1+cell": {
     "cellMetadata": {},
     "inputWidgets": {},
     "nuid": "664a0ddd-1374-4b14-a84c-195f0de2a9bb",
     "showTitle": false,
     "title": ""
    }
   },
   "source": [
    "## 2. Deleting missing values\n",
    "Radical choice: [delete whole column](https://pandas.pydata.org/pandas-docs/stable/reference/api/pandas.DataFrame.drop.html)"
   ]
  },
  {
   "cell_type": "code",
   "execution_count": 0,
   "metadata": {
    "application/vnd.databricks.v1+cell": {
     "cellMetadata": {
      "byteLimit": 2048000,
      "rowLimit": 10000
     },
     "inputWidgets": {},
     "nuid": "245a1e0e-17e3-4229-990b-7019e9a42992",
     "showTitle": false,
     "title": ""
    }
   },
   "outputs": [],
   "source": [
    "df.drop([\"E\"], axis=1, inplace=True)\n",
    "df"
   ]
  },
  {
   "cell_type": "markdown",
   "metadata": {
    "application/vnd.databricks.v1+cell": {
     "cellMetadata": {},
     "inputWidgets": {},
     "nuid": "7cc1ad08-4c31-4c3c-a889-1856e6a52c3d",
     "showTitle": false,
     "title": ""
    }
   },
   "source": [
    "Recreating"
   ]
  },
  {
   "cell_type": "code",
   "execution_count": 0,
   "metadata": {
    "application/vnd.databricks.v1+cell": {
     "cellMetadata": {
      "byteLimit": 2048000,
      "rowLimit": 10000
     },
     "inputWidgets": {},
     "nuid": "a27e26b1-b8e5-4df7-b5b8-79ee745ccde5",
     "showTitle": false,
     "title": ""
    }
   },
   "outputs": [],
   "source": [
    "df = pd.read_csv(StringIO(csvdata))\n",
    "df"
   ]
  },
  {
   "cell_type": "markdown",
   "metadata": {
    "application/vnd.databricks.v1+cell": {
     "cellMetadata": {},
     "inputWidgets": {},
     "nuid": "c74f60cb-077c-4dea-a59b-7bc3702b01e6",
     "showTitle": false,
     "title": ""
    }
   },
   "source": [
    "Less Radical: [delete rows](https://pandas.pydata.org/pandas-docs/stable/reference/api/pandas.DataFrame.dropna.html) with missing values on \"C\" column"
   ]
  },
  {
   "cell_type": "code",
   "execution_count": 0,
   "metadata": {
    "application/vnd.databricks.v1+cell": {
     "cellMetadata": {
      "byteLimit": 2048000,
      "rowLimit": 10000
     },
     "inputWidgets": {},
     "nuid": "ba25b006-00f8-4619-8f6b-654047a26d4b",
     "showTitle": false,
     "title": ""
    }
   },
   "outputs": [],
   "source": [
    "df.dropna(axis=0, how='any', subset=[\"C\"], inplace=True)\n",
    "df"
   ]
  },
  {
   "cell_type": "markdown",
   "metadata": {
    "application/vnd.databricks.v1+cell": {
     "cellMetadata": {},
     "inputWidgets": {},
     "nuid": "6563a08a-18cf-4c6d-8c23-44633da8fe90",
     "showTitle": false,
     "title": ""
    }
   },
   "source": [
    "If you do not specify the columns, it will delete every row with any missing value"
   ]
  },
  {
   "cell_type": "code",
   "execution_count": 0,
   "metadata": {
    "application/vnd.databricks.v1+cell": {
     "cellMetadata": {
      "byteLimit": 2048000,
      "rowLimit": 10000
     },
     "inputWidgets": {},
     "nuid": "5c9f35f8-a10d-4f38-8638-b8b4512695cf",
     "showTitle": false,
     "title": ""
    }
   },
   "outputs": [],
   "source": [
    "df.dropna(axis=0, how='any', subset=None, inplace=True)\n",
    "df"
   ]
  },
  {
   "cell_type": "markdown",
   "metadata": {
    "application/vnd.databricks.v1+cell": {
     "cellMetadata": {},
     "inputWidgets": {},
     "nuid": "f94db067-9006-4e71-b44b-cd06dcc8c7f0",
     "showTitle": false,
     "title": ""
    }
   },
   "source": [
    "## 3. Filling missing values using Pandas\n",
    "Fill missing values with panda's [`fillna()`](https://pandas.pydata.org/pandas-docs/stable/reference/api/pandas.DataFrame.fillna.html) method."
   ]
  },
  {
   "cell_type": "code",
   "execution_count": 0,
   "metadata": {
    "application/vnd.databricks.v1+cell": {
     "cellMetadata": {
      "byteLimit": 2048000,
      "rowLimit": 10000
     },
     "inputWidgets": {},
     "nuid": "d4463708-cf9c-447e-8e05-628a50bc39cf",
     "showTitle": false,
     "title": ""
    }
   },
   "outputs": [],
   "source": [
    "df = pd.read_csv(StringIO(csvdata))"
   ]
  },
  {
   "cell_type": "markdown",
   "metadata": {
    "application/vnd.databricks.v1+cell": {
     "cellMetadata": {},
     "inputWidgets": {},
     "nuid": "d2626f27-3ad5-4b45-8b43-daf0bcf428bd",
     "showTitle": false,
     "title": ""
    }
   },
   "source": [
    "Impute a constant value"
   ]
  },
  {
   "cell_type": "code",
   "execution_count": 0,
   "metadata": {
    "application/vnd.databricks.v1+cell": {
     "cellMetadata": {
      "byteLimit": 2048000,
      "rowLimit": 10000
     },
     "inputWidgets": {},
     "nuid": "70d5001f-f980-4c3d-9d00-d013f2839e56",
     "showTitle": false,
     "title": ""
    }
   },
   "outputs": [],
   "source": [
    "df.fillna(value=200, inplace = True)\n",
    "df"
   ]
  },
  {
   "cell_type": "markdown",
   "metadata": {
    "application/vnd.databricks.v1+cell": {
     "cellMetadata": {},
     "inputWidgets": {},
     "nuid": "524d3760-df33-40cb-93ee-e59e5ed88f91",
     "showTitle": false,
     "title": ""
    }
   },
   "source": [
    "Impute a constant value for each column"
   ]
  },
  {
   "cell_type": "code",
   "execution_count": 0,
   "metadata": {
    "application/vnd.databricks.v1+cell": {
     "cellMetadata": {},
     "inputWidgets": {},
     "nuid": "6c40400d-338a-4ef1-8dd7-af2bb2016bb8",
     "showTitle": false,
     "title": ""
    }
   },
   "outputs": [],
   "source": [
    "df = pd.read_csv(StringIO(csvdata))"
   ]
  },
  {
   "cell_type": "code",
   "execution_count": 0,
   "metadata": {
    "application/vnd.databricks.v1+cell": {
     "cellMetadata": {},
     "inputWidgets": {},
     "nuid": "9dc44114-c06e-4506-823b-f230f17aad20",
     "showTitle": false,
     "title": ""
    }
   },
   "outputs": [],
   "source": [
    "df.fillna(value={\"A\": 100, \"B\": 200, \"C\": 300, \"D\": 400, \"E\": 500}, inplace = True)\n",
    "df"
   ]
  },
  {
   "cell_type": "markdown",
   "metadata": {
    "application/vnd.databricks.v1+cell": {
     "cellMetadata": {},
     "inputWidgets": {},
     "nuid": "1b8bde83-94df-4fcd-b443-dab5209d6d7c",
     "showTitle": false,
     "title": ""
    }
   },
   "source": [
    "[Forward fill](https://pandas.pydata.org/pandas-docs/stable/reference/api/pandas.DataFrame.ffill.html) propagates the last valid observation.\n",
    "Alternatively [`fillna(mehtod=\"ffill\")`](https://pandas.pydata.org/pandas-docs/stable/reference/api/pandas.DataFrame.fillna.html) can be used."
   ]
  },
  {
   "cell_type": "code",
   "execution_count": 0,
   "metadata": {
    "application/vnd.databricks.v1+cell": {
     "cellMetadata": {
      "byteLimit": 2048000,
      "rowLimit": 10000
     },
     "inputWidgets": {},
     "nuid": "b66fdae2-03e9-4ae9-98b1-85a01e90744f",
     "showTitle": false,
     "title": ""
    }
   },
   "outputs": [],
   "source": [
    "df = pd.read_csv(StringIO(csvdata))"
   ]
  },
  {
   "cell_type": "code",
   "execution_count": 0,
   "metadata": {
    "application/vnd.databricks.v1+cell": {
     "cellMetadata": {
      "byteLimit": 2048000,
      "rowLimit": 10000
     },
     "inputWidgets": {},
     "nuid": "a8976032-5e13-413e-8604-6c968126ae46",
     "showTitle": false,
     "title": ""
    }
   },
   "outputs": [],
   "source": [
    "df.ffill(inplace=True)\n",
    "df"
   ]
  },
  {
   "cell_type": "markdown",
   "metadata": {
    "application/vnd.databricks.v1+cell": {
     "cellMetadata": {},
     "inputWidgets": {},
     "nuid": "c898f75b-ac4e-48a4-92ee-f616f273c72b",
     "showTitle": false,
     "title": ""
    }
   },
   "source": [
    "[Back fill](https://pandas.pydata.org/pandas-docs/stable/reference/api/pandas.DataFrame.bfill.html)\n",
    "uses the next valid observation to fill missing values.\n",
    "Again the alternative is [`.fillna(method=\"bfill\")`](https://pandas.pydata.org/pandas-docs/stable/reference/api/pandas.DataFrame.bfill.html)."
   ]
  },
  {
   "cell_type": "code",
   "execution_count": 0,
   "metadata": {
    "application/vnd.databricks.v1+cell": {
     "cellMetadata": {
      "byteLimit": 2048000,
      "rowLimit": 10000
     },
     "inputWidgets": {},
     "nuid": "03eafbfa-6b03-478b-82ff-995fc104688a",
     "showTitle": false,
     "title": ""
    }
   },
   "outputs": [],
   "source": [
    "df = pd.read_csv(StringIO(csvdata))"
   ]
  },
  {
   "cell_type": "code",
   "execution_count": 0,
   "metadata": {
    "application/vnd.databricks.v1+cell": {
     "cellMetadata": {
      "byteLimit": 2048000,
      "rowLimit": 10000
     },
     "inputWidgets": {},
     "nuid": "bef8e3bb-7f7a-4f3d-8855-4d75c8b4e17f",
     "showTitle": false,
     "title": ""
    }
   },
   "outputs": [],
   "source": [
    "df.bfill(inplace=True)\n",
    "df"
   ]
  },
  {
   "cell_type": "markdown",
   "metadata": {
    "application/vnd.databricks.v1+cell": {
     "cellMetadata": {},
     "inputWidgets": {},
     "nuid": "1fe0fb36-2235-48b1-9d70-0df8efb47fe4",
     "showTitle": false,
     "title": ""
    }
   },
   "source": [
    "Forward fill and back fill can be combined."
   ]
  },
  {
   "cell_type": "code",
   "execution_count": 0,
   "metadata": {
    "application/vnd.databricks.v1+cell": {
     "cellMetadata": {
      "byteLimit": 2048000,
      "rowLimit": 10000
     },
     "inputWidgets": {},
     "nuid": "ffa7faf9-a98c-431e-97c8-48dac9d96e88",
     "showTitle": false,
     "title": ""
    }
   },
   "outputs": [],
   "source": [
    "df = pd.read_csv(StringIO(csvdata))"
   ]
  },
  {
   "cell_type": "code",
   "execution_count": 0,
   "metadata": {
    "application/vnd.databricks.v1+cell": {
     "cellMetadata": {
      "byteLimit": 2048000,
      "rowLimit": 10000
     },
     "inputWidgets": {},
     "nuid": "dcc3ac85-1ea5-4f37-81d4-b386945091ef",
     "showTitle": false,
     "title": ""
    }
   },
   "outputs": [],
   "source": [
    "df = df.ffill().bfill()\n",
    "df"
   ]
  },
  {
   "cell_type": "markdown",
   "metadata": {
    "application/vnd.databricks.v1+cell": {
     "cellMetadata": {},
     "inputWidgets": {},
     "nuid": "d9d65443-9310-4a69-a7bd-773f7bfc4272",
     "showTitle": false,
     "title": ""
    }
   },
   "source": [
    "## 4. Imputing with scikit-learn\n",
    "### 4.1 [Simple imputing](https://scikit-learn.org/stable/modules/generated/sklearn.impute.SimpleImputer.html#sklearn.impute.SimpleImputer)"
   ]
  },
  {
   "cell_type": "code",
   "execution_count": 0,
   "metadata": {
    "application/vnd.databricks.v1+cell": {
     "cellMetadata": {
      "byteLimit": 2048000,
      "rowLimit": 10000
     },
     "inputWidgets": {},
     "nuid": "1fb7a2c8-e5cb-419c-99ab-0fb85b129bf9",
     "showTitle": false,
     "title": ""
    }
   },
   "outputs": [],
   "source": [
    "from sklearn.impute import SimpleImputer"
   ]
  },
  {
   "cell_type": "markdown",
   "metadata": {
    "application/vnd.databricks.v1+cell": {
     "cellMetadata": {},
     "inputWidgets": {},
     "nuid": "202338f7-906f-4ebb-96a7-b596ebc4eaab",
     "showTitle": false,
     "title": ""
    }
   },
   "source": [
    "Imputing mean values"
   ]
  },
  {
   "cell_type": "code",
   "execution_count": 0,
   "metadata": {
    "application/vnd.databricks.v1+cell": {
     "cellMetadata": {
      "byteLimit": 2048000,
      "rowLimit": 10000
     },
     "inputWidgets": {},
     "nuid": "3dd53cb2-0351-4916-85bb-32ec590d02e6",
     "showTitle": false,
     "title": ""
    }
   },
   "outputs": [],
   "source": [
    "df = pd.read_csv(StringIO(csvdata))"
   ]
  },
  {
   "cell_type": "code",
   "execution_count": 0,
   "metadata": {
    "application/vnd.databricks.v1+cell": {
     "cellMetadata": {
      "byteLimit": 2048000,
      "rowLimit": 10000
     },
     "inputWidgets": {},
     "nuid": "dc93935e-b69c-40b9-9698-8d96266da375",
     "showTitle": false,
     "title": ""
    }
   },
   "outputs": [],
   "source": [
    "imp = SimpleImputer(missing_values=np.nan, strategy='mean')\n",
    "imp.fit(df[\"C\"].values.reshape(-1,1))\n",
    "df[\"C\"] = imp.transform(df[\"C\"].values.reshape(-1,1))\n",
    "df"
   ]
  },
  {
   "cell_type": "markdown",
   "metadata": {
    "application/vnd.databricks.v1+cell": {
     "cellMetadata": {},
     "inputWidgets": {},
     "nuid": "b7f7315e-9c32-4711-86c6-f487682f9c26",
     "showTitle": false,
     "title": ""
    }
   },
   "source": [
    "Imputing a constant value"
   ]
  },
  {
   "cell_type": "code",
   "execution_count": 0,
   "metadata": {
    "application/vnd.databricks.v1+cell": {
     "cellMetadata": {
      "byteLimit": 2048000,
      "rowLimit": 10000
     },
     "inputWidgets": {},
     "nuid": "86d97231-9901-4560-86b2-e2c0be936f8c",
     "showTitle": false,
     "title": ""
    }
   },
   "outputs": [],
   "source": [
    "df = pd.read_csv(StringIO(csvdata))"
   ]
  },
  {
   "cell_type": "code",
   "execution_count": 0,
   "metadata": {
    "application/vnd.databricks.v1+cell": {
     "cellMetadata": {
      "byteLimit": 2048000,
      "rowLimit": 10000
     },
     "inputWidgets": {},
     "nuid": "bd78f87c-206f-4e6c-abf9-288c49e57c39",
     "showTitle": false,
     "title": ""
    }
   },
   "outputs": [],
   "source": [
    "imp = SimpleImputer(missing_values=np.nan, fill_value=200, strategy='constant')\n",
    "imp.fit(df[\"C\"].values.reshape(-1,1))\n",
    "df[\"C\"] = imp.transform(df[\"C\"].values.reshape(-1,1))\n",
    "df"
   ]
  },
  {
   "cell_type": "markdown",
   "metadata": {
    "application/vnd.databricks.v1+cell": {
     "cellMetadata": {},
     "inputWidgets": {},
     "nuid": "4f615169-7d65-4ad3-abde-84635481aa0b",
     "showTitle": false,
     "title": ""
    }
   },
   "source": [
    "### 4.2 [Interactive imputing](https://scikit-learn.org/stable/modules/generated/sklearn.impute.IterativeImputer.html) (experimental)"
   ]
  },
  {
   "cell_type": "code",
   "execution_count": 0,
   "metadata": {
    "application/vnd.databricks.v1+cell": {
     "cellMetadata": {
      "byteLimit": 2048000,
      "rowLimit": 10000
     },
     "inputWidgets": {},
     "nuid": "30c24b49-43a1-4e28-b81e-196d2643e0bf",
     "showTitle": false,
     "title": ""
    }
   },
   "outputs": [],
   "source": [
    "from sklearn.experimental import enable_iterative_imputer\n",
    "from sklearn.impute import IterativeImputer"
   ]
  },
  {
   "cell_type": "code",
   "execution_count": 0,
   "metadata": {
    "application/vnd.databricks.v1+cell": {
     "cellMetadata": {
      "byteLimit": 2048000,
      "rowLimit": 10000
     },
     "inputWidgets": {},
     "nuid": "fa14a1e7-8eb9-496d-9d23-e165cb1bb006",
     "showTitle": false,
     "title": ""
    }
   },
   "outputs": [],
   "source": [
    "df = pd.read_csv(StringIO(csvdata))"
   ]
  },
  {
   "cell_type": "code",
   "execution_count": 0,
   "metadata": {
    "application/vnd.databricks.v1+cell": {
     "cellMetadata": {
      "byteLimit": 2048000,
      "rowLimit": 10000
     },
     "inputWidgets": {},
     "nuid": "cd2c3797-a652-4e94-9e2e-c4bb425fe286",
     "showTitle": false,
     "title": ""
    }
   },
   "outputs": [],
   "source": [
    "imp_mean = IterativeImputer(random_state=0)\n",
    "imp_mean.fit(df)\n",
    "columns = df.columns\n",
    "df = pd.DataFrame(imp_mean.transform(df), columns=columns)\n",
    "df"
   ]
  }
 ],
 "metadata": {
  "application/vnd.databricks.v1+notebook": {
   "dashboards": [],
   "environmentMetadata": null,
   "language": "python",
   "notebookMetadata": {
    "pythonIndentUnit": 2
   },
   "notebookName": "2a_ScikitLearn_Imputing_Data_jupyter",
   "widgets": {}
  }
 },
 "nbformat": 4,
 "nbformat_minor": 0
}
