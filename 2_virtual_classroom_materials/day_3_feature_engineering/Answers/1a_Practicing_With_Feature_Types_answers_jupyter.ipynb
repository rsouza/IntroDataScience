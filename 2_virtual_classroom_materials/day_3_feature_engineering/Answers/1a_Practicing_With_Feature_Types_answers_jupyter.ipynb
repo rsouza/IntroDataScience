{
 "cells": [
  {
   "cell_type": "markdown",
   "metadata": {
    "application/vnd.databricks.v1+cell": {
     "cellMetadata": {},
     "inputWidgets": {},
     "nuid": "678c3342-7975-4b18-90c4-c7332e952bf3",
     "showTitle": false,
     "title": ""
    }
   },
   "source": [
    "# Exploring Feature Types\n",
    "\n",
    "In this notebook we will be using Titanic dataset containing 891 records of passengers on board and 12 features such as their age, travel class and the ticket's fare. One step at a time we'll inspect continuous and categorical feature types with the help of visualizations. \n",
    "\n",
    "Firstly, we import necessary libraries and load the data using Pandas."
   ]
  },
  {
   "cell_type": "code",
   "execution_count": 0,
   "metadata": {
    "application/vnd.databricks.v1+cell": {
     "cellMetadata": {},
     "inputWidgets": {},
     "nuid": "485419e4-a755-459e-8578-0ba9fa30f1c0",
     "showTitle": false,
     "title": ""
    }
   },
   "outputs": [],
   "source": [
    "# Importing Pandas, Matplotlib and Seaborn libraries\n",
    "import pandas as pd\n",
    "import matplotlib.pyplot as plt\n",
    "import seaborn as sns\n",
    "sns.set_style(\"dark\")"
   ]
  },
  {
   "cell_type": "code",
   "execution_count": 0,
   "metadata": {
    "application/vnd.databricks.v1+cell": {
     "cellMetadata": {},
     "inputWidgets": {},
     "nuid": "cf018817-aac2-4d35-b319-8ff6199e9685",
     "showTitle": false,
     "title": ""
    }
   },
   "outputs": [],
   "source": [
    "# Load the dataset 'Data/titanic_data.csv' and store it to variable data\n",
    "data = pd.read_csv('../Data/titanic_data.csv')\n",
    "\n",
    "# Get first 10 rows of the data\n",
    "data.head(10)"
   ]
  },
  {
   "cell_type": "markdown",
   "metadata": {
    "application/vnd.databricks.v1+cell": {
     "cellMetadata": {},
     "inputWidgets": {},
     "nuid": "95e36dfb-26d1-447e-9a6d-797b6ec9c5a6",
     "showTitle": false,
     "title": ""
    }
   },
   "source": [
    "Take a look at the first ten rows and read through the explanation below to understand what each feature represents.\n",
    "\n",
    "- passengerID\n",
    "- Name\n",
    "- Sex\n",
    "- Age\n",
    "- Survived - not survived = 0, survived = 1, (target feature)\n",
    "- Pclass - ticket class = 1st, 2nd, 3rd\n",
    "- SibSp - number of siblings or spouses aboard the Titanic\n",
    "- Parch - number of parents or children aboard the Titanic\n",
    "- Ticket - ticket number\n",
    "- Fare - ticket fare\n",
    "- Cabin - cabin number\n",
    "- Embarked - port of embarkation (C = Cherbourg, Q = Queenstown, S = Southampton)"
   ]
  },
  {
   "cell_type": "markdown",
   "metadata": {
    "application/vnd.databricks.v1+cell": {
     "cellMetadata": {},
     "inputWidgets": {},
     "nuid": "20608d83-4170-47a5-a350-ca11845f18a8",
     "showTitle": false,
     "title": ""
    }
   },
   "source": [
    "# 1. Numerical Features\n",
    "\n",
    "## 1.1 Unbounded continuous type\n",
    "One of the numerical feature is 'Fare' representing the price that a passenger paid for the ticket. The price starts at zero and continuously increases within a specific range. This is the example of unbounded continuous feature type because the number can takes any value including decimal numbers with a fractional part."
   ]
  },
  {
   "cell_type": "code",
   "execution_count": 0,
   "metadata": {
    "application/vnd.databricks.v1+cell": {
     "cellMetadata": {},
     "inputWidgets": {},
     "nuid": "636a54f5-626d-4f7c-87fe-1074d244afa4",
     "showTitle": false,
     "title": ""
    }
   },
   "outputs": [],
   "source": [
    "# Creating a histogram of 'Fare' \n",
    "sns.histplot(data = data, x = 'Fare', binwidth = 15)\n",
    "plt.title(\"Distribution of passenger's fare\");"
   ]
  },
  {
   "cell_type": "markdown",
   "metadata": {
    "application/vnd.databricks.v1+cell": {
     "cellMetadata": {},
     "inputWidgets": {},
     "nuid": "d84c9b4f-eb84-4aec-9217-c73edebcbcd7",
     "showTitle": false,
     "title": ""
    }
   },
   "source": [
    "The next numerical continuous feature is 'Age'. The other characteristic of a continuous feature is that it can be measured, as we can measure the age in years, for example. Let's create a boxplot to see its distribution."
   ]
  },
  {
   "cell_type": "code",
   "execution_count": 0,
   "metadata": {
    "application/vnd.databricks.v1+cell": {
     "cellMetadata": {},
     "inputWidgets": {},
     "nuid": "ab39aa73-74d5-4f6a-a7a1-31968e153c82",
     "showTitle": false,
     "title": ""
    }
   },
   "outputs": [],
   "source": [
    "# Creating a boxplot of 'Age'\n",
    "sns.boxplot(data=data, x = 'Age',color ='r');"
   ]
  },
  {
   "cell_type": "markdown",
   "metadata": {
    "application/vnd.databricks.v1+cell": {
     "cellMetadata": {},
     "inputWidgets": {},
     "nuid": "af82146a-0e79-4751-96eb-172ec2d14060",
     "showTitle": false,
     "title": ""
    }
   },
   "source": [
    "## 1.2 Unbounded discrete type\n",
    "\n",
    "The feature 'SibSp' represents family relations as siblings or spouses. We can treat this feature as _discrete_ since the number is always some \"isolated\" value - logically, you can't report that you have 2.5 sisters.\n",
    "\n",
    "When we call `value_counts()` function on the 'SibSp' column, we get all of the unique values along with corresponding counts."
   ]
  },
  {
   "cell_type": "code",
   "execution_count": 0,
   "metadata": {
    "application/vnd.databricks.v1+cell": {
     "cellMetadata": {},
     "inputWidgets": {},
     "nuid": "24f76add-3629-44a3-a871-20f0e4aba66a",
     "showTitle": false,
     "title": ""
    }
   },
   "outputs": [],
   "source": [
    "# Get the counts of unique values of 'SibSp'\n",
    "data['SibSp'].value_counts()"
   ]
  },
  {
   "cell_type": "markdown",
   "metadata": {
    "application/vnd.databricks.v1+cell": {
     "cellMetadata": {},
     "inputWidgets": {},
     "nuid": "47ce494c-5d8f-4fb2-870d-ba644d869232",
     "showTitle": false,
     "title": ""
    }
   },
   "source": [
    "When we visualize such a discrete feature, let's say with a countplot, each bar represents a unique integer value with respective count of records. There is no overlapping between these fixed values because they are counted, not measured."
   ]
  },
  {
   "cell_type": "code",
   "execution_count": 0,
   "metadata": {
    "application/vnd.databricks.v1+cell": {
     "cellMetadata": {},
     "inputWidgets": {},
     "nuid": "d09899b1-528e-4d55-be0c-fe8740ab15ef",
     "showTitle": false,
     "title": ""
    }
   },
   "outputs": [],
   "source": [
    "# Creating a countplot of 'SibSp'\n",
    "sns.countplot(data = data, x = 'SibSp', color = 'darkgreen')\n",
    "plt.title('Number of parents or children');"
   ]
  },
  {
   "cell_type": "markdown",
   "metadata": {
    "application/vnd.databricks.v1+cell": {
     "cellMetadata": {},
     "inputWidgets": {},
     "nuid": "9c60de4b-8ea2-4626-b22d-3a38426532b7",
     "showTitle": false,
     "title": ""
    }
   },
   "source": [
    "# 2. Categorical Features\n",
    "\n",
    "Categorical features contain a set of distinct categories (also called _labels_), while each category can takes only one limited and fixed value. As you saw in the preceding lesson, categorical features are divided into two 'subtypes' based on whether their values have order or not. \n",
    "\n",
    "## 2.1 Ordinal categorical features\n",
    "\n",
    "Let's take as an example 'Pclass' feature that holds information on the ticket class each passenger paid for: 1st, 2nd or 3rd class. These travel classes reflect socioeconomic status of the passengers aboard. They have the specific order and can be related to the target feature. Were the wealthiest passengers travelling in the first class more likely to survive? Or is class of no importance in terms of survival? \n",
    "\n",
    "Ordinal categorical features can be either numeric values or labels. Still, it would be nice to keep the information about order of values and present it to the predictive model. This would be the additional information that can make the model's predictions better."
   ]
  },
  {
   "cell_type": "code",
   "execution_count": 0,
   "metadata": {
    "application/vnd.databricks.v1+cell": {
     "cellMetadata": {},
     "inputWidgets": {},
     "nuid": "c41d89fb-ba01-46f0-a034-de6c1214979f",
     "showTitle": false,
     "title": ""
    }
   },
   "outputs": [],
   "source": [
    "# Get the counts of unique values of 'Pclass'\n",
    "data.Pclass.value_counts()"
   ]
  },
  {
   "cell_type": "code",
   "execution_count": 0,
   "metadata": {
    "application/vnd.databricks.v1+cell": {
     "cellMetadata": {},
     "inputWidgets": {},
     "nuid": "32949d50-f96b-4bb9-b761-438b9ea3a172",
     "showTitle": false,
     "title": ""
    }
   },
   "outputs": [],
   "source": [
    "# Creating a countplot of 'Pclass'\n",
    "sns.countplot(data = data, x = 'Pclass', color = 'violet');"
   ]
  },
  {
   "cell_type": "markdown",
   "metadata": {
    "application/vnd.databricks.v1+cell": {
     "cellMetadata": {},
     "inputWidgets": {},
     "nuid": "31301eb4-7e6c-401c-8b27-b5e703d7af70",
     "showTitle": false,
     "title": ""
    }
   },
   "source": [
    "## 2.2 Non-ordinal categorical features\n",
    "The second 'subtype' of categorical features are non-ordinal features. Let's take as an example the feature 'Embarked'. It contains information about port of embarkation, namely Cherbourg, Queenstown and Southampton. So these are specific categories without any order or relationship among them."
   ]
  },
  {
   "cell_type": "code",
   "execution_count": 0,
   "metadata": {
    "application/vnd.databricks.v1+cell": {
     "cellMetadata": {},
     "inputWidgets": {},
     "nuid": "885214f8-dd05-4955-bb9a-ce29a974e1da",
     "showTitle": false,
     "title": ""
    }
   },
   "outputs": [],
   "source": [
    "# Get the categories of 'Embarked' \n",
    "data['Embarked'].value_counts()"
   ]
  },
  {
   "cell_type": "code",
   "execution_count": 0,
   "metadata": {
    "application/vnd.databricks.v1+cell": {
     "cellMetadata": {},
     "inputWidgets": {},
     "nuid": "1ae5fe04-2454-4ada-8e64-0697ce714cb2",
     "showTitle": false,
     "title": ""
    }
   },
   "outputs": [],
   "source": [
    "# Creating a countplot of 'Embarked'\n",
    "sns.countplot(data = data, x = 'Embarked', color = 'lightblue');"
   ]
  },
  {
   "cell_type": "markdown",
   "metadata": {
    "application/vnd.databricks.v1+cell": {
     "cellMetadata": {},
     "inputWidgets": {},
     "nuid": "68fd9eb7-98f6-495a-a821-66857c589b14",
     "showTitle": false,
     "title": ""
    }
   },
   "source": [
    "## 2.3 Binary categorical features\n",
    "\n",
    "Binary categorical features are a special type of categorical features which take only 2 values. For example, the 'Survived' feature in our dataset contains just 2 values: 0 and 1."
   ]
  },
  {
   "cell_type": "code",
   "execution_count": 0,
   "metadata": {
    "application/vnd.databricks.v1+cell": {
     "cellMetadata": {},
     "inputWidgets": {},
     "nuid": "cfc791f5-4b41-45bf-96d5-a6293aca11e8",
     "showTitle": false,
     "title": ""
    }
   },
   "outputs": [],
   "source": [
    "# Get the unique values of 'Survived' column\n",
    "data['Survived'].unique()"
   ]
  },
  {
   "cell_type": "code",
   "execution_count": 0,
   "metadata": {
    "application/vnd.databricks.v1+cell": {
     "cellMetadata": {},
     "inputWidgets": {},
     "nuid": "6aa0cd60-7f71-4d96-983f-e723c304e374",
     "showTitle": false,
     "title": ""
    }
   },
   "outputs": [],
   "source": [
    "# Creating a countplot of 'Survived' \n",
    "sns.countplot(data = data, x = 'Survived', color = 'violet');"
   ]
  },
  {
   "cell_type": "markdown",
   "metadata": {
    "application/vnd.databricks.v1+cell": {
     "cellMetadata": {},
     "inputWidgets": {},
     "nuid": "88d9fede-3cd8-4164-b033-6f7925f2d7e6",
     "showTitle": false,
     "title": ""
    }
   },
   "source": [
    "# Appendix\n",
    "\n",
    "Data source: https://www.kaggle.com/hesh97/titanicdataset-traincsv\n",
    "\n",
    "Data license: CC0: Public Domain\n",
    "\n",
    "Material adapted for RBI internal purposes with full permissions from original authors. [Source](https://github.com/zatkopatrik/authentic-data-science)"
   ]
  }
 ],
 "metadata": {
  "application/vnd.databricks.v1+notebook": {
   "dashboards": [],
   "language": "python",
   "notebookMetadata": {},
   "notebookName": "1a_Practicing_With_Feature_Types_answers",
   "notebookOrigID": 706562957545392,
   "widgets": {}
  }
 },
 "nbformat": 4,
 "nbformat_minor": 0
}
