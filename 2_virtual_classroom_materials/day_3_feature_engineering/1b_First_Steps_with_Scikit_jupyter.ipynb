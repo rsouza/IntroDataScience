{
 "cells": [
  {
   "cell_type": "markdown",
   "metadata": {
    "application/vnd.databricks.v1+cell": {
     "cellMetadata": {},
     "inputWidgets": {},
     "nuid": "f9fced4d-2765-4f51-8d27-98a0f3791bd0",
     "showTitle": false,
     "title": ""
    }
   },
   "source": [
    "# First steps with scikit-learn\n",
    "\n",
    "I presume that until now you were mainly using Pandas for Data Science. As you heard within our \"Introduction to Feature Engienering\", there is a good reason why we should expand our library toolkit with one that is more suited for **stateful transformations** - such as *scikit-learn*. Afterwards, we are also going to use it for **Machine Learning**.\n",
    "\n",
    "In this notebook, we will:\n",
    "\n",
    "\n",
    "1.   Learn the basics about the sklearn documentation\n",
    "2.   Learn how to operate the core API (fit-transform/predict)\n",
    "3.   Learn how to imagine advanced api (composite estimators)"
   ]
  },
  {
   "cell_type": "markdown",
   "metadata": {
    "application/vnd.databricks.v1+cell": {
     "cellMetadata": {},
     "inputWidgets": {},
     "nuid": "e50321af-24fa-4ad9-8def-0dc454eaa96f",
     "showTitle": false,
     "title": ""
    }
   },
   "source": [
    "## 1. Documentation of sklearn\n",
    "\n",
    "Here is the homepage:  \n",
    "\n",
    "https://scikit-learn.org/stable/\n",
    "\n",
    "Please focus on the menu on the top, as this is the most important for us."
   ]
  },
  {
   "cell_type": "markdown",
   "metadata": {
    "application/vnd.databricks.v1+cell": {
     "cellMetadata": {},
     "inputWidgets": {},
     "nuid": "222f356c-e090-4196-a99e-fa68bd3d987a",
     "showTitle": false,
     "title": ""
    }
   },
   "source": [
    "The three most important tabs for us are:\n",
    "\n",
    "\n",
    "1.   [**User Guide**](https://scikit-learn.org/stable/user_guide.html). We will head over here for *thorough guidelines* within a certain topic (e.g. Decision Trees).\n",
    "2.   [**API**](https://scikit-learn.org/stable/modules/classes.html). We will use this whenever we want to learn about a *particular method or module* (e.g. sklearn.impute).\n",
    "3.   [**More > Tutorial**](https://scikit-learn.org/stable/tutorial/index.html). We can use these for some *starting tutorials* (e.g. loading artificial datasets)."
   ]
  },
  {
   "cell_type": "markdown",
   "metadata": {
    "application/vnd.databricks.v1+cell": {
     "cellMetadata": {},
     "inputWidgets": {},
     "nuid": "d145222c-9241-4195-ae27-7301c4a26482",
     "showTitle": false,
     "title": ""
    }
   },
   "source": [
    "## 1.1 User Guide  \n",
    "\n",
    "User guides are amazing! These are not only a great resource for when we want to perform some operation in sklearn, but also when we want to learn about some topic. There is one important point to remember through: User guides usually cover _everything_ that sklearn offers on a certain topic. This means that the user guide contains basic, and advanced approaches at the same time. **It is therefore important to not get discouraged if you are not able to follow everything in the user guides**. \n",
    "\n",
    "Please go ahead and give the user guide on Preprocessing Data a try. This is among the first topics we will cover.  \n",
    "https://scikit-learn.org/stable/modules/preprocessing.html"
   ]
  },
  {
   "cell_type": "markdown",
   "metadata": {
    "application/vnd.databricks.v1+cell": {
     "cellMetadata": {},
     "inputWidgets": {},
     "nuid": "ebf1ae27-4015-485e-8725-e638985d4de5",
     "showTitle": false,
     "title": ""
    }
   },
   "source": [
    "## 1.2 API\n",
    "The actual transformers and estimators that we have available within sklearn are neatly documented within the [API tab](https://scikit-learn.org/stable/modules/classes.html). **Sklearn consists of modules**. You can see a list of modules on the left side. Our first task will be to learn which modules are the most important for us when we are starting with Data Science. Clearly, the [preprocessing module](https://scikit-learn.org/stable/modules/classes.html#module-sklearn.preprocessing) will be very useful. If you click on it, the following will appear."
   ]
  },
  {
   "cell_type": "markdown",
   "metadata": {
    "application/vnd.databricks.v1+cell": {
     "cellMetadata": {},
     "inputWidgets": {},
     "nuid": "cdfa00ce-3039-42bd-b2d0-f2ce997518b4",
     "showTitle": false,
     "title": ""
    }
   },
   "source": [
    "These are all the estimators and transformers that are available within the preprocessing module. Also, you can notice a nice cross-reference to [relevant user guides](https://scikit-learn.org/stable/modules/preprocessing.html#preprocessing). Our second task will be to understand the most important transformers within a certain module as again, it offers some essential functionalities as well as advanced functionalities.  \n",
    "\n",
    "For example, one of the first transformers that we will practice with is [**MinMaxScaler**](https://scikit-learn.org/stable/modules/generated/sklearn.preprocessing.MinMaxScaler.html). Please go ahead and click on it. The following page will appear. At the top you usually have a conceptual description of what this transformer does."
   ]
  },
  {
   "cell_type": "markdown",
   "metadata": {
    "application/vnd.databricks.v1+cell": {
     "cellMetadata": {},
     "inputWidgets": {},
     "nuid": "60cba3ff-eb3c-4a6d-93d0-9a8f695685ea",
     "showTitle": false,
     "title": ""
    }
   },
   "source": [
    "Just below of it, you will see the usable **parameters** for this estimator or transformer."
   ]
  },
  {
   "cell_type": "markdown",
   "metadata": {
    "application/vnd.databricks.v1+cell": {
     "cellMetadata": {},
     "inputWidgets": {},
     "nuid": "9527c9d0-5c5b-4f04-8e94-f83e8b011b16",
     "showTitle": false,
     "title": ""
    }
   },
   "source": [
    "If you scroll further down, you will see **attributes**. These are useful when we, for example, have already fitted the transformer and would like to examine the states that it learned."
   ]
  },
  {
   "cell_type": "markdown",
   "metadata": {
    "application/vnd.databricks.v1+cell": {
     "cellMetadata": {},
     "inputWidgets": {},
     "nuid": "e66389e9-c7bf-41d7-b865-57b801ec6adc",
     "showTitle": false,
     "title": ""
    }
   },
   "source": [
    "And finally, if you scroll further down, you will see **methods** that are available with given estimator or transformer."
   ]
  },
  {
   "cell_type": "markdown",
   "metadata": {
    "application/vnd.databricks.v1+cell": {
     "cellMetadata": {},
     "inputWidgets": {},
     "nuid": "e1fc3019-e5cf-4715-9ac0-205570ef2898",
     "showTitle": false,
     "title": ""
    }
   },
   "source": [
    "# 2. Core API\n",
    "It is time for some hands-on exercise! Firstly, we will use the datasets module and get one of the example (toy) datasets that are available within sklearn. In this case, it will be [iris](https://scikit-learn.org/stable/modules/generated/sklearn.datasets.load_iris.html)."
   ]
  },
  {
   "cell_type": "code",
   "execution_count": 0,
   "metadata": {
    "application/vnd.databricks.v1+cell": {
     "cellMetadata": {
      "byteLimit": 2048000,
      "rowLimit": 10000
     },
     "inputWidgets": {},
     "nuid": "0d00de47-017e-4c20-a7ca-ac03509e93f5",
     "showTitle": false,
     "title": ""
    }
   },
   "outputs": [],
   "source": [
    "# Load the module\n",
    "from sklearn import datasets\n",
    "# Get the dataset\n",
    "iris = datasets.load_iris()\n",
    "#It is a complex object, so we extract just a subset of the data.\n",
    "toy_data = iris.data[1:5]\n",
    "toy_data"
   ]
  },
  {
   "cell_type": "markdown",
   "metadata": {
    "application/vnd.databricks.v1+cell": {
     "cellMetadata": {},
     "inputWidgets": {},
     "nuid": "07f18a16-2e1b-4071-8e53-c76aef2eb619",
     "showTitle": false,
     "title": ""
    }
   },
   "source": [
    "Let's now see if the API is really as powerful and standardized as we mentioned within the lecture. \n",
    "We will attempt to implement the [`MinMaxScaler`](https://scikit-learn.org/stable/modules/generated/sklearn.preprocessing.MinMaxScaler.html). \n",
    "Based on what we know, a mere (1) instantiation, (2) fit and (3) transform should be sufficient."
   ]
  },
  {
   "cell_type": "code",
   "execution_count": 0,
   "metadata": {
    "application/vnd.databricks.v1+cell": {
     "cellMetadata": {
      "byteLimit": 2048000,
      "rowLimit": 10000
     },
     "inputWidgets": {},
     "nuid": "d9cc4e35-2f71-4c39-b7eb-6256e6a5cd49",
     "showTitle": false,
     "title": ""
    }
   },
   "outputs": [],
   "source": [
    "from sklearn.preprocessing import MinMaxScaler\n",
    "# Instantiate\n",
    "scaler = MinMaxScaler()\n",
    "\n",
    "# Fit\n",
    "scaler.fit(toy_data)\n",
    "\n",
    "# Transform\n",
    "scaler.transform(toy_data)"
   ]
  },
  {
   "cell_type": "markdown",
   "metadata": {
    "application/vnd.databricks.v1+cell": {
     "cellMetadata": {},
     "inputWidgets": {},
     "nuid": "d3fc8fd9-4d7d-4709-a284-9c4654cb316a",
     "showTitle": false,
     "title": ""
    }
   },
   "source": [
    "The transformation went through! Supposedly, the transformer should also be trained and contain the states required to replicate this transformation. We can examine its attributes."
   ]
  },
  {
   "cell_type": "code",
   "execution_count": 0,
   "metadata": {
    "application/vnd.databricks.v1+cell": {
     "cellMetadata": {
      "byteLimit": 2048000,
      "rowLimit": 10000
     },
     "inputWidgets": {},
     "nuid": "4b54fa10-d3c2-4994-9571-4db88c504506",
     "showTitle": false,
     "title": ""
    }
   },
   "outputs": [],
   "source": [
    "scaler.data_range_"
   ]
  },
  {
   "cell_type": "markdown",
   "metadata": {
    "application/vnd.databricks.v1+cell": {
     "cellMetadata": {},
     "inputWidgets": {},
     "nuid": "aad25d3b-1b85-49a6-bbed-66dca45733d4",
     "showTitle": false,
     "title": ""
    }
   },
   "source": [
    "This looks fairly reasonable. If we look at the third column of the original data, it indeed ranges between 1.3 and 1.5. The transformer learned that its range was 0.2."
   ]
  },
  {
   "cell_type": "markdown",
   "metadata": {
    "application/vnd.databricks.v1+cell": {
     "cellMetadata": {},
     "inputWidgets": {},
     "nuid": "ecbc40ee-3a22-46e1-af33-69428df9865e",
     "showTitle": false,
     "title": ""
    }
   },
   "source": [
    "## TASK: Your turn\n",
    "Your task is now to try your first transformation with sklearn.\n",
    "Please use the same dataset (`toy_data`) and use\n",
    "[`StandardScaler`](https://scikit-learn.org/stable/modules/generated/sklearn.preprocessing.StandardScaler.html#sklearn.preprocessing.StandardScaler)\n",
    "from the preprocessing module. \n",
    "For now, please do not worry what exactly the transformer is doing. \n",
    "In a few lectures from now you will learn about it. \n",
    "It is important that you have your first touch with the Core API."
   ]
  },
  {
   "cell_type": "code",
   "execution_count": 0,
   "metadata": {
    "application/vnd.databricks.v1+cell": {
     "cellMetadata": {
      "byteLimit": 2048000,
      "rowLimit": 10000
     },
     "inputWidgets": {},
     "nuid": "254f53c6-bc6e-48a8-b905-18a752a647ab",
     "showTitle": false,
     "title": ""
    }
   },
   "outputs": [],
   "source": [
    "## Your code goes here"
   ]
  },
  {
   "cell_type": "markdown",
   "metadata": {
    "application/vnd.databricks.v1+cell": {
     "cellMetadata": {},
     "inputWidgets": {},
     "nuid": "c4ee2c17-92d4-48c3-b46e-359ee9830a42",
     "showTitle": false,
     "title": ""
    }
   },
   "source": [
    "# 3. Advanced API\n",
    "In the upcoming lectures you are going to learn about a lot of individual transformations we can perform, as well as quite a few predictive models that you can implement.  \n",
    "\n",
    "Once we do that, we will arrive at the topic of **composite estimators**. These are part of the Advanced API that sklearn offers. We will learn that it is important to **encapsulate and wrap together** our transformations and predictive models."
   ]
  },
  {
   "cell_type": "markdown",
   "metadata": {
    "application/vnd.databricks.v1+cell": {
     "cellMetadata": {},
     "inputWidgets": {},
     "nuid": "273608e4-eb9c-4cd4-bfae-48a1208dad03",
     "showTitle": false,
     "title": ""
    }
   },
   "source": [
    "## 3.1 Without Advanced API: Ugly\n",
    "Let's at first see what life would look like if there weren't composite estimators.  \n",
    "\n",
    "We want the following to happen:\n",
    "\n",
    "\n",
    "*   Our **feature engineering** should contain two steps that follow each other - (1) StandardScaler (2) PCA reduction.\n",
    "*   On top of our engineered features we would like to fit a **predictive model** - DecisionTree.  \n",
    "\n",
    "Please do not worry if you are not sure what these steps conceptually represent. We will learn that soon, now we are focused on the Advanced API."
   ]
  },
  {
   "cell_type": "code",
   "execution_count": 0,
   "metadata": {
    "application/vnd.databricks.v1+cell": {
     "cellMetadata": {
      "byteLimit": 2048000,
      "rowLimit": 10000
     },
     "inputWidgets": {},
     "nuid": "c4e793ef-1be5-4dac-af10-9db50af8fba2",
     "showTitle": false,
     "title": ""
    }
   },
   "outputs": [],
   "source": [
    "# Load the module\n",
    "from sklearn import datasets\n",
    "\n",
    "# Get the dataset\n",
    "iris = datasets.load_iris()\n",
    "X_train = iris.data\n",
    "y_train = iris.target"
   ]
  },
  {
   "cell_type": "code",
   "execution_count": 0,
   "metadata": {
    "application/vnd.databricks.v1+cell": {
     "cellMetadata": {
      "byteLimit": 2048000,
      "rowLimit": 10000
     },
     "inputWidgets": {},
     "nuid": "060428b4-b1b4-4247-83d2-7b37dad640d1",
     "showTitle": false,
     "title": ""
    }
   },
   "outputs": [],
   "source": [
    "#Import what we need\n",
    "from sklearn.preprocessing import StandardScaler\n",
    "from sklearn.decomposition import PCA\n",
    "from sklearn.tree import DecisionTreeClassifier\n",
    "\n",
    "# Instantiate the 3 transformers/estimators\n",
    "scaler = StandardScaler()\n",
    "pca = PCA(n_components=2)\n",
    "decision_tree = DecisionTreeClassifier(max_depth=2)"
   ]
  },
  {
   "cell_type": "markdown",
   "metadata": {
    "application/vnd.databricks.v1+cell": {
     "cellMetadata": {},
     "inputWidgets": {},
     "nuid": "d28d2c0f-eae2-4fe5-a964-7fedab97632c",
     "showTitle": false,
     "title": ""
    }
   },
   "source": [
    "We have the transformers instantiated. Now observe how I need to fit and transform the data through one transformer at a time."
   ]
  },
  {
   "cell_type": "code",
   "execution_count": 0,
   "metadata": {
    "application/vnd.databricks.v1+cell": {
     "cellMetadata": {
      "byteLimit": 2048000,
      "rowLimit": 10000
     },
     "inputWidgets": {},
     "nuid": "d86fbe78-69ac-4535-a543-8db6e8707275",
     "showTitle": false,
     "title": ""
    }
   },
   "outputs": [],
   "source": [
    "#Scaler first\n",
    "scaler.fit(X_train)\n",
    "X_train_scaled = scaler.transform(X_train)\n",
    "\n",
    "#PCA second\n",
    "pca.fit(X_train_scaled)\n",
    "X_train_pca = pca.transform(X_train_scaled)\n",
    "\n",
    "#Decision Tree finally\n",
    "decision_tree.fit(X_train_pca, y_train)\n",
    "decision_tree.predict(X_train_pca)"
   ]
  },
  {
   "cell_type": "markdown",
   "metadata": {
    "application/vnd.databricks.v1+cell": {
     "cellMetadata": {},
     "inputWidgets": {},
     "nuid": "c9ee2c4c-1519-41fe-8670-cca974946e0b",
     "showTitle": false,
     "title": ""
    }
   },
   "source": [
    "Even though it might not look like it from this simple example, this is really not optimal. You can imagine that with a complex dataset the number of various transformations that we would like to employ is high. Notice also how we are coming up with an alternation of the name of our training data after it undergoes certain transformation. This is very prone to some typo or error."
   ]
  },
  {
   "cell_type": "markdown",
   "metadata": {
    "application/vnd.databricks.v1+cell": {
     "cellMetadata": {},
     "inputWidgets": {},
     "nuid": "bc5ad75a-aa7f-4b54-a513-4363cd039358",
     "showTitle": false,
     "title": ""
    }
   },
   "source": [
    "## 3.2 With Advanced API: Pretty & Neat\n",
    "The fact that the Basic API is so standardized allowed developers to develop **composite estimators**. In this example, we will use one of these called **pipeline**. We will learn about more composite estimators later on."
   ]
  },
  {
   "cell_type": "code",
   "execution_count": 0,
   "metadata": {
    "application/vnd.databricks.v1+cell": {
     "cellMetadata": {
      "byteLimit": 2048000,
      "rowLimit": 10000
     },
     "inputWidgets": {},
     "nuid": "bdfbef5b-a83d-40eb-bd24-698ea98122a5",
     "showTitle": false,
     "title": ""
    }
   },
   "outputs": [],
   "source": [
    "#Import what we need\n",
    "from sklearn.preprocessing import StandardScaler\n",
    "from sklearn.decomposition import PCA\n",
    "from sklearn.tree import DecisionTreeClassifier\n",
    "from sklearn.pipeline import Pipeline\n",
    "\n",
    "#Compose an entire predictive pipeline at once!\n",
    "predictive_pipeline = Pipeline(([('scaler', StandardScaler()), \n",
    "                                 ('pca', PCA(n_components=2)),\n",
    "                                 ('decision_tree', DecisionTreeClassifier(max_depth=2))\n",
    "                                 ]))\n",
    "#Now we fit the whole pipeline with single call!\n",
    "predictive_pipeline.fit(X_train, y_train)\n",
    "\n",
    "#All that is left is to predict - again with the whole pipeline at once.\n",
    "predictive_pipeline.predict(X_train)"
   ]
  },
  {
   "cell_type": "markdown",
   "metadata": {
    "application/vnd.databricks.v1+cell": {
     "cellMetadata": {},
     "inputWidgets": {},
     "nuid": "55cd49af-5bec-42ef-82e9-c19bac486beb",
     "showTitle": false,
     "title": ""
    }
   },
   "source": [
    "This is an example of how powerful the advanced API is. Notice, for example, how the first two operations are fitted without the target feature (`y_train`). You can see this by examining our previous code were we fitted them individually. The third estimator, however, is a supervised model that needs the target feature.  \n",
    "\n",
    "The pipeline is smart enough to provide target feature only to the estimators that need it and we do not have to worry about it, as we are providing the pipeline with both the independent features and a target feature."
   ]
  },
  {
   "cell_type": "markdown",
   "metadata": {
    "application/vnd.databricks.v1+cell": {
     "cellMetadata": {},
     "inputWidgets": {},
     "nuid": "0c5ea4e4-4cab-4c9c-9daf-5802988a16a9",
     "showTitle": false,
     "title": ""
    }
   },
   "source": [
    "# 4. Key Takeaways\n",
    "Alright, let's summarize some key takeaways:\n",
    "\n",
    "\n",
    "1.   It is highly recommended to be comfortable with navigating through the documentation of sklearn, just as we introduced it.\n",
    "2.   Understanding the Core API is very important, as it will be our bread and butter within the upcoming hands-on materials.\n",
    "3.   Appreciation that there is Advanced API. We will not work with it right away. Only once we go through all individual components of predictive pipeline, we will learn how to wrap these efficiently into composite transformers."
   ]
  },
  {
   "cell_type": "markdown",
   "metadata": {
    "application/vnd.databricks.v1+cell": {
     "cellMetadata": {},
     "inputWidgets": {},
     "nuid": "869102a2-32a6-41dd-8481-81c8555db098",
     "showTitle": false,
     "title": ""
    }
   },
   "source": [
    "Material adapted for RBI internal purposes with full permissions from original authors."
   ]
  }
 ],
 "metadata": {
  "application/vnd.databricks.v1+notebook": {
   "dashboards": [],
   "environmentMetadata": null,
   "language": "python",
   "notebookMetadata": {
    "pythonIndentUnit": 2
   },
   "notebookName": "1b_First_Steps_with_Scikit_jupyter",
   "widgets": {}
  }
 },
 "nbformat": 4,
 "nbformat_minor": 0
}
