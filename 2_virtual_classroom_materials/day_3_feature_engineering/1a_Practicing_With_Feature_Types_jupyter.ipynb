{
 "cells": [
  {
   "cell_type": "markdown",
   "metadata": {
    "application/vnd.databricks.v1+cell": {
     "cellMetadata": {},
     "inputWidgets": {},
     "nuid": "ef1f7f82-3d69-47b3-ade3-2233dfe654d5",
     "showTitle": false,
     "title": ""
    }
   },
   "source": [
    "# Exploring Feature Types\n",
    "\n",
    "In this notebook we will be using Titanic dataset containing 891 records of passengers on board and 12 features such as their age, travel class and the ticket's fare. One step at a time we'll inspect continuous and categorical feature types with the help of visualizations. \n",
    "\n",
    "Firstly, we import necessary libraries and load the data using Pandas."
   ]
  },
  {
   "cell_type": "code",
   "execution_count": 0,
   "metadata": {
    "application/vnd.databricks.v1+cell": {
     "cellMetadata": {
      "byteLimit": 2048000,
      "rowLimit": 10000
     },
     "inputWidgets": {},
     "nuid": "8b41e602-0ca7-4069-8ab5-d3afbf52f82f",
     "showTitle": false,
     "title": ""
    }
   },
   "outputs": [],
   "source": [
    "# Importing Pandas, Matplotlib and Seaborn libraries\n",
    "import pandas as pd\n",
    "import matplotlib.pyplot as plt\n",
    "import seaborn as sns\n",
    "sns.set_style(\"dark\")"
   ]
  },
  {
   "cell_type": "code",
   "execution_count": 0,
   "metadata": {
    "application/vnd.databricks.v1+cell": {
     "cellMetadata": {
      "byteLimit": 2048000,
      "rowLimit": 10000
     },
     "inputWidgets": {},
     "nuid": "73045e83-0c66-4d42-b1b7-d70807c51f61",
     "showTitle": false,
     "title": ""
    }
   },
   "outputs": [
    {
     "output_type": "display_data",
     "data": {
      "text/html": [
       "<div>\n",
       "<style scoped>\n",
       "    .dataframe tbody tr th:only-of-type {\n",
       "        vertical-align: middle;\n",
       "    }\n",
       "\n",
       "    .dataframe tbody tr th {\n",
       "        vertical-align: top;\n",
       "    }\n",
       "\n",
       "    .dataframe thead th {\n",
       "        text-align: right;\n",
       "    }\n",
       "</style>\n",
       "<table border=\"1\" class=\"dataframe\">\n",
       "  <thead>\n",
       "    <tr style=\"text-align: right;\">\n",
       "      <th></th>\n",
       "      <th>PassengerId</th>\n",
       "      <th>Survived</th>\n",
       "      <th>Pclass</th>\n",
       "      <th>Name</th>\n",
       "      <th>Sex</th>\n",
       "      <th>Age</th>\n",
       "      <th>SibSp</th>\n",
       "      <th>Parch</th>\n",
       "      <th>Ticket</th>\n",
       "      <th>Fare</th>\n",
       "      <th>Cabin</th>\n",
       "      <th>Embarked</th>\n",
       "    </tr>\n",
       "  </thead>\n",
       "  <tbody>\n",
       "    <tr>\n",
       "      <th>0</th>\n",
       "      <td>1</td>\n",
       "      <td>0</td>\n",
       "      <td>3</td>\n",
       "      <td>Braund, Mr. Owen Harris</td>\n",
       "      <td>male</td>\n",
       "      <td>22.0</td>\n",
       "      <td>1</td>\n",
       "      <td>0</td>\n",
       "      <td>A/5 21171</td>\n",
       "      <td>7.2500</td>\n",
       "      <td>NaN</td>\n",
       "      <td>S</td>\n",
       "    </tr>\n",
       "    <tr>\n",
       "      <th>1</th>\n",
       "      <td>2</td>\n",
       "      <td>1</td>\n",
       "      <td>1</td>\n",
       "      <td>Cumings, Mrs. John Bradley (Florence Briggs Th...</td>\n",
       "      <td>female</td>\n",
       "      <td>38.0</td>\n",
       "      <td>1</td>\n",
       "      <td>0</td>\n",
       "      <td>PC 17599</td>\n",
       "      <td>71.2833</td>\n",
       "      <td>C85</td>\n",
       "      <td>C</td>\n",
       "    </tr>\n",
       "    <tr>\n",
       "      <th>2</th>\n",
       "      <td>3</td>\n",
       "      <td>1</td>\n",
       "      <td>3</td>\n",
       "      <td>Heikkinen, Miss. Laina</td>\n",
       "      <td>female</td>\n",
       "      <td>26.0</td>\n",
       "      <td>0</td>\n",
       "      <td>0</td>\n",
       "      <td>STON/O2. 3101282</td>\n",
       "      <td>7.9250</td>\n",
       "      <td>NaN</td>\n",
       "      <td>S</td>\n",
       "    </tr>\n",
       "    <tr>\n",
       "      <th>3</th>\n",
       "      <td>4</td>\n",
       "      <td>1</td>\n",
       "      <td>1</td>\n",
       "      <td>Futrelle, Mrs. Jacques Heath (Lily May Peel)</td>\n",
       "      <td>female</td>\n",
       "      <td>35.0</td>\n",
       "      <td>1</td>\n",
       "      <td>0</td>\n",
       "      <td>113803</td>\n",
       "      <td>53.1000</td>\n",
       "      <td>C123</td>\n",
       "      <td>S</td>\n",
       "    </tr>\n",
       "    <tr>\n",
       "      <th>4</th>\n",
       "      <td>5</td>\n",
       "      <td>0</td>\n",
       "      <td>3</td>\n",
       "      <td>Allen, Mr. William Henry</td>\n",
       "      <td>male</td>\n",
       "      <td>35.0</td>\n",
       "      <td>0</td>\n",
       "      <td>0</td>\n",
       "      <td>373450</td>\n",
       "      <td>8.0500</td>\n",
       "      <td>NaN</td>\n",
       "      <td>S</td>\n",
       "    </tr>\n",
       "    <tr>\n",
       "      <th>5</th>\n",
       "      <td>6</td>\n",
       "      <td>0</td>\n",
       "      <td>3</td>\n",
       "      <td>Moran, Mr. James</td>\n",
       "      <td>male</td>\n",
       "      <td>NaN</td>\n",
       "      <td>0</td>\n",
       "      <td>0</td>\n",
       "      <td>330877</td>\n",
       "      <td>8.4583</td>\n",
       "      <td>NaN</td>\n",
       "      <td>Q</td>\n",
       "    </tr>\n",
       "    <tr>\n",
       "      <th>6</th>\n",
       "      <td>7</td>\n",
       "      <td>0</td>\n",
       "      <td>1</td>\n",
       "      <td>McCarthy, Mr. Timothy J</td>\n",
       "      <td>male</td>\n",
       "      <td>54.0</td>\n",
       "      <td>0</td>\n",
       "      <td>0</td>\n",
       "      <td>17463</td>\n",
       "      <td>51.8625</td>\n",
       "      <td>E46</td>\n",
       "      <td>S</td>\n",
       "    </tr>\n",
       "    <tr>\n",
       "      <th>7</th>\n",
       "      <td>8</td>\n",
       "      <td>0</td>\n",
       "      <td>3</td>\n",
       "      <td>Palsson, Master. Gosta Leonard</td>\n",
       "      <td>male</td>\n",
       "      <td>2.0</td>\n",
       "      <td>3</td>\n",
       "      <td>1</td>\n",
       "      <td>349909</td>\n",
       "      <td>21.0750</td>\n",
       "      <td>NaN</td>\n",
       "      <td>S</td>\n",
       "    </tr>\n",
       "    <tr>\n",
       "      <th>8</th>\n",
       "      <td>9</td>\n",
       "      <td>1</td>\n",
       "      <td>3</td>\n",
       "      <td>Johnson, Mrs. Oscar W (Elisabeth Vilhelmina Berg)</td>\n",
       "      <td>female</td>\n",
       "      <td>27.0</td>\n",
       "      <td>0</td>\n",
       "      <td>2</td>\n",
       "      <td>347742</td>\n",
       "      <td>11.1333</td>\n",
       "      <td>NaN</td>\n",
       "      <td>S</td>\n",
       "    </tr>\n",
       "    <tr>\n",
       "      <th>9</th>\n",
       "      <td>10</td>\n",
       "      <td>1</td>\n",
       "      <td>2</td>\n",
       "      <td>Nasser, Mrs. Nicholas (Adele Achem)</td>\n",
       "      <td>female</td>\n",
       "      <td>14.0</td>\n",
       "      <td>1</td>\n",
       "      <td>0</td>\n",
       "      <td>237736</td>\n",
       "      <td>30.0708</td>\n",
       "      <td>NaN</td>\n",
       "      <td>C</td>\n",
       "    </tr>\n",
       "  </tbody>\n",
       "</table>\n",
       "</div>"
      ]
     },
     "metadata": {
      "application/vnd.databricks.v1+output": {
       "addedWidgets": {},
       "arguments": {},
       "data": "<div>\n<style scoped>\n    .dataframe tbody tr th:only-of-type {\n        vertical-align: middle;\n    }\n\n    .dataframe tbody tr th {\n        vertical-align: top;\n    }\n\n    .dataframe thead th {\n        text-align: right;\n    }\n</style>\n<table border=\"1\" class=\"dataframe\">\n  <thead>\n    <tr style=\"text-align: right;\">\n      <th></th>\n      <th>PassengerId</th>\n      <th>Survived</th>\n      <th>Pclass</th>\n      <th>Name</th>\n      <th>Sex</th>\n      <th>Age</th>\n      <th>SibSp</th>\n      <th>Parch</th>\n      <th>Ticket</th>\n      <th>Fare</th>\n      <th>Cabin</th>\n      <th>Embarked</th>\n    </tr>\n  </thead>\n  <tbody>\n    <tr>\n      <th>0</th>\n      <td>1</td>\n      <td>0</td>\n      <td>3</td>\n      <td>Braund, Mr. Owen Harris</td>\n      <td>male</td>\n      <td>22.0</td>\n      <td>1</td>\n      <td>0</td>\n      <td>A/5 21171</td>\n      <td>7.2500</td>\n      <td>NaN</td>\n      <td>S</td>\n    </tr>\n    <tr>\n      <th>1</th>\n      <td>2</td>\n      <td>1</td>\n      <td>1</td>\n      <td>Cumings, Mrs. John Bradley (Florence Briggs Th...</td>\n      <td>female</td>\n      <td>38.0</td>\n      <td>1</td>\n      <td>0</td>\n      <td>PC 17599</td>\n      <td>71.2833</td>\n      <td>C85</td>\n      <td>C</td>\n    </tr>\n    <tr>\n      <th>2</th>\n      <td>3</td>\n      <td>1</td>\n      <td>3</td>\n      <td>Heikkinen, Miss. Laina</td>\n      <td>female</td>\n      <td>26.0</td>\n      <td>0</td>\n      <td>0</td>\n      <td>STON/O2. 3101282</td>\n      <td>7.9250</td>\n      <td>NaN</td>\n      <td>S</td>\n    </tr>\n    <tr>\n      <th>3</th>\n      <td>4</td>\n      <td>1</td>\n      <td>1</td>\n      <td>Futrelle, Mrs. Jacques Heath (Lily May Peel)</td>\n      <td>female</td>\n      <td>35.0</td>\n      <td>1</td>\n      <td>0</td>\n      <td>113803</td>\n      <td>53.1000</td>\n      <td>C123</td>\n      <td>S</td>\n    </tr>\n    <tr>\n      <th>4</th>\n      <td>5</td>\n      <td>0</td>\n      <td>3</td>\n      <td>Allen, Mr. William Henry</td>\n      <td>male</td>\n      <td>35.0</td>\n      <td>0</td>\n      <td>0</td>\n      <td>373450</td>\n      <td>8.0500</td>\n      <td>NaN</td>\n      <td>S</td>\n    </tr>\n    <tr>\n      <th>5</th>\n      <td>6</td>\n      <td>0</td>\n      <td>3</td>\n      <td>Moran, Mr. James</td>\n      <td>male</td>\n      <td>NaN</td>\n      <td>0</td>\n      <td>0</td>\n      <td>330877</td>\n      <td>8.4583</td>\n      <td>NaN</td>\n      <td>Q</td>\n    </tr>\n    <tr>\n      <th>6</th>\n      <td>7</td>\n      <td>0</td>\n      <td>1</td>\n      <td>McCarthy, Mr. Timothy J</td>\n      <td>male</td>\n      <td>54.0</td>\n      <td>0</td>\n      <td>0</td>\n      <td>17463</td>\n      <td>51.8625</td>\n      <td>E46</td>\n      <td>S</td>\n    </tr>\n    <tr>\n      <th>7</th>\n      <td>8</td>\n      <td>0</td>\n      <td>3</td>\n      <td>Palsson, Master. Gosta Leonard</td>\n      <td>male</td>\n      <td>2.0</td>\n      <td>3</td>\n      <td>1</td>\n      <td>349909</td>\n      <td>21.0750</td>\n      <td>NaN</td>\n      <td>S</td>\n    </tr>\n    <tr>\n      <th>8</th>\n      <td>9</td>\n      <td>1</td>\n      <td>3</td>\n      <td>Johnson, Mrs. Oscar W (Elisabeth Vilhelmina Berg)</td>\n      <td>female</td>\n      <td>27.0</td>\n      <td>0</td>\n      <td>2</td>\n      <td>347742</td>\n      <td>11.1333</td>\n      <td>NaN</td>\n      <td>S</td>\n    </tr>\n    <tr>\n      <th>9</th>\n      <td>10</td>\n      <td>1</td>\n      <td>2</td>\n      <td>Nasser, Mrs. Nicholas (Adele Achem)</td>\n      <td>female</td>\n      <td>14.0</td>\n      <td>1</td>\n      <td>0</td>\n      <td>237736</td>\n      <td>30.0708</td>\n      <td>NaN</td>\n      <td>C</td>\n    </tr>\n  </tbody>\n</table>\n</div>",
       "datasetInfos": [],
       "metadata": {},
       "removedWidgets": [],
       "textData": null,
       "type": "htmlSandbox"
      }
     },
     "output_type": "display_data"
    }
   ],
   "source": [
    "# Load the dataset 'Data/titanic_data.csv' and store it to variable data\n",
    "data = pd.read_csv('Data/titanic_data.csv')\n",
    "\n",
    "# Get first 10 rows of the data\n",
    "data.head(10)"
   ]
  },
  {
   "cell_type": "markdown",
   "metadata": {
    "application/vnd.databricks.v1+cell": {
     "cellMetadata": {},
     "inputWidgets": {},
     "nuid": "0be12e6c-1c74-4709-a496-c52fbbd4bf75",
     "showTitle": false,
     "title": ""
    }
   },
   "source": [
    "Take a look at the first ten rows and read through the explanation below to understand what each feature represents.\n",
    "\n",
    "- **passengerID**\n",
    "- **Name**\n",
    "- **Sex**\n",
    "- **Age**\n",
    "- **Survived** – not survived = 0, survived = 1, (target feature)\n",
    "- **Pclass** – ticket class = 1st, 2nd, 3rd\n",
    "- **SibSp** – number of siblings or spouses aboard the Titanic\n",
    "- **Parch** – number of parents or children aboard the Titanic\n",
    "- **Ticket** – ticket number\n",
    "- **Fare** – ticket fare\n",
    "- **Cabin** – cabin number\n",
    "- **Embarked** – port of embarkation (C = Cherbourg, Q = Queenstown, S = Southampton)"
   ]
  },
  {
   "cell_type": "markdown",
   "metadata": {
    "application/vnd.databricks.v1+cell": {
     "cellMetadata": {},
     "inputWidgets": {},
     "nuid": "c94f6430-7403-4297-8a36-40b1a0b84a61",
     "showTitle": false,
     "title": ""
    }
   },
   "source": [
    "# 1. Numerical Features\n",
    "\n",
    "## 1.1 Unbounded continuous type\n",
    "One of the numerical feature is 'Fare' representing the price that a passenger paid for the ticket. The price starts at zero and continuously increases within a specific range. This is the example of *unbounded* continuous feature type because the number can takes any value including decimal numbers with a fractional part."
   ]
  },
  {
   "cell_type": "code",
   "execution_count": 0,
   "metadata": {
    "application/vnd.databricks.v1+cell": {
     "cellMetadata": {
      "byteLimit": 2048000,
      "rowLimit": 10000
     },
     "inputWidgets": {},
     "nuid": "a46826be-ccfe-4ca8-8fde-99a2ab028abc",
     "showTitle": false,
     "title": ""
    }
   },
   "outputs": [
    {
     "output_type": "display_data",
     "data": {
      "image/png": "[encoded data removed]"
     },
     "metadata": {
      "application/vnd.databricks.v1+output": {
       "addedWidgets": {},
       "arguments": {},
       "data": "data:image/png;base64,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\n",
       "datasetInfos": [],
       "metadata": {},
       "removedWidgets": [],
       "type": "image"
      }
     },
     "output_type": "display_data"
    }
   ],
   "source": [
    "# Creating a histogram of 'Fare' \n",
    "sns.histplot(data = data, x = 'Fare', binwidth = 15)\n",
    "plt.title(\"Distribution of passenger's fare\");"
   ]
  },
  {
   "cell_type": "markdown",
   "metadata": {
    "application/vnd.databricks.v1+cell": {
     "cellMetadata": {},
     "inputWidgets": {},
     "nuid": "36e0730c-6170-474c-88bf-befaec13095a",
     "showTitle": false,
     "title": ""
    }
   },
   "source": [
    "The next numerical continuous feature is 'Age'. The other characteristic of a continuous feature is that it can be *measured*, as we can measure the age in years, for example. Let's create a boxplot to see its distribution."
   ]
  },
  {
   "cell_type": "code",
   "execution_count": 0,
   "metadata": {
    "application/vnd.databricks.v1+cell": {
     "cellMetadata": {},
     "inputWidgets": {},
     "nuid": "9f40c658-c825-46b0-bfab-d75f3b988413",
     "showTitle": false,
     "title": ""
    }
   },
   "outputs": [],
   "source": [
    "# Creating a boxplot of 'Age'\n",
    "sns.boxplot(data=data, x = 'Age',color ='r');"
   ]
  },
  {
   "cell_type": "markdown",
   "metadata": {
    "application/vnd.databricks.v1+cell": {
     "cellMetadata": {},
     "inputWidgets": {},
     "nuid": "a7f2a82b-bc03-4fef-a556-995dc113e370",
     "showTitle": false,
     "title": ""
    }
   },
   "source": [
    "## 1.2 Unbounded discrete type\n",
    "\n",
    "The feature 'SibSp' represents family relations as siblings or spouses. We can treat this feature as _discrete_ since the number is always some integer value – logically, you can't report that you have 2.5 sisters.\n",
    "\n",
    "When we call `value_counts()` function on the 'SibSp' column, we get all of the unique values along with corresponding counts."
   ]
  },
  {
   "cell_type": "code",
   "execution_count": 0,
   "metadata": {
    "application/vnd.databricks.v1+cell": {
     "cellMetadata": {
      "byteLimit": 2048000,
      "rowLimit": 10000
     },
     "inputWidgets": {},
     "nuid": "c9d35ada-c701-44b3-91b1-7c235d50b3fe",
     "showTitle": false,
     "title": ""
    }
   },
   "outputs": [
    {
     "output_type": "stream",
     "name": "stdout",
     "output_type": "stream",
     "text": [
      "Out[6]: 0    608\n1    209\n2     28\n4     18\n3     16\n8      7\n5      5\nName: SibSp, dtype: int64"
     ]
    }
   ],
   "source": [
    "# Get the counts of unique values of 'SibSp'\n",
    "data['SibSp'].value_counts()"
   ]
  },
  {
   "cell_type": "markdown",
   "metadata": {
    "application/vnd.databricks.v1+cell": {
     "cellMetadata": {},
     "inputWidgets": {},
     "nuid": "9bd5e445-ad2f-498d-a79a-2d909351b400",
     "showTitle": false,
     "title": ""
    }
   },
   "source": [
    "When we visualize such a discrete feature, let's say with a countplot, each bar represents a unique integer value with respective count of records. There is no overlapping between these fixed values because they are counted, not measured."
   ]
  },
  {
   "cell_type": "code",
   "execution_count": 0,
   "metadata": {
    "application/vnd.databricks.v1+cell": {
     "cellMetadata": {
      "byteLimit": 2048000,
      "rowLimit": 10000
     },
     "inputWidgets": {},
     "nuid": "02c66e87-27df-4fb3-8951-f36c4bfff19f",
     "showTitle": false,
     "title": ""
    }
   },
   "outputs": [
    {
     "output_type": "display_data",
     "data": {
      "image/png": "[encoded data removed]"
     },
     "metadata": {
      "application/vnd.databricks.v1+output": {
       "addedWidgets": {},
       "arguments": {},
       "data": "data:image/png;base64,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\n",
       "datasetInfos": [],
       "metadata": {},
       "removedWidgets": [],
       "type": "image"
      }
     },
     "output_type": "display_data"
    }
   ],
   "source": [
    "# Creating a countplot of 'SibSp'\n",
    "sns.countplot(data = data, x = 'SibSp', color = 'darkgreen')\n",
    "plt.title('Number of parents or children');"
   ]
  },
  {
   "cell_type": "markdown",
   "metadata": {
    "application/vnd.databricks.v1+cell": {
     "cellMetadata": {},
     "inputWidgets": {},
     "nuid": "fcdf9d18-5a94-4f3e-94a9-4c4c23878801",
     "showTitle": false,
     "title": ""
    }
   },
   "source": [
    "# 2. Categorical Features\n",
    "\n",
    "Categorical features contain a set of distinct categories (also called _labels_), while each category can takes only one limited and fixed value. As you saw in the preceding lesson, categorical features are divided into two 'subtypes' based on whether their values have order or not. \n",
    "\n",
    "## 2.1 Ordinal categorical features\n",
    "\n",
    "Let's take as an example 'Pclass' feature that holds information on the ticket class each passenger paid for: 1st, 2nd or 3rd class. These travel classes reflect socioeconomic status of the passengers aboard. They have the specific order and can be related to the target feature. Were the wealthiest passengers travelling in the first class more likely to survive? Or is class of no importance in terms of survival? \n",
    "\n",
    "Ordinal categorical features can be either numeric values or labels. Still, it would be nice to keep the information about order of values and present it to the predictive model. This would be the additional information that can make the model's predictions better."
   ]
  },
  {
   "cell_type": "code",
   "execution_count": 0,
   "metadata": {
    "application/vnd.databricks.v1+cell": {
     "cellMetadata": {
      "byteLimit": 2048000,
      "rowLimit": 10000
     },
     "inputWidgets": {},
     "nuid": "3706f8ed-c7ce-4950-a53c-0b3bcabee3dc",
     "showTitle": false,
     "title": ""
    }
   },
   "outputs": [
    {
     "output_type": "stream",
     "name": "stdout",
     "output_type": "stream",
     "text": [
      "Out[8]: 3    491\n1    216\n2    184\nName: Pclass, dtype: int64"
     ]
    }
   ],
   "source": [
    "# Get the counts of unique values of 'Pclass'\n",
    "data.Pclass.value_counts()"
   ]
  },
  {
   "cell_type": "code",
   "execution_count": 0,
   "metadata": {
    "application/vnd.databricks.v1+cell": {
     "cellMetadata": {
      "byteLimit": 2048000,
      "rowLimit": 10000
     },
     "inputWidgets": {},
     "nuid": "c60a5e9c-d8fc-4083-9ed8-71436259dcfd",
     "showTitle": false,
     "title": ""
    }
   },
   "outputs": [
    {
     "output_type": "display_data",
     "data": {
      "image/png": "[encoded data removed]"
     },
     "metadata": {
      "application/vnd.databricks.v1+output": {
       "addedWidgets": {},
       "arguments": {},
       "data": "data:image/png;base64,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\n",
       "datasetInfos": [],
       "metadata": {},
       "removedWidgets": [],
       "type": "image"
      }
     },
     "output_type": "display_data"
    }
   ],
   "source": [
    "# Creating a countplot of 'Pclass'\n",
    "sns.countplot(data = data, x = 'Pclass', color = 'violet');"
   ]
  },
  {
   "cell_type": "markdown",
   "metadata": {
    "application/vnd.databricks.v1+cell": {
     "cellMetadata": {},
     "inputWidgets": {},
     "nuid": "eff7913c-6c07-4d50-8263-a9cb67dd27e3",
     "showTitle": false,
     "title": ""
    }
   },
   "source": [
    "## 2.2 Non-ordinal categorical features\n",
    "The second 'subtype' of categorical features are non-ordinal features. Let's take as an example the feature 'Embarked'. It contains information about port of embarkation, namely Cherbourg, Queenstown and Southampton. So these are specific categories without any order or relationship among them."
   ]
  },
  {
   "cell_type": "code",
   "execution_count": 0,
   "metadata": {
    "application/vnd.databricks.v1+cell": {
     "cellMetadata": {
      "byteLimit": 2048000,
      "rowLimit": 10000
     },
     "inputWidgets": {},
     "nuid": "b3ce5f90-f54a-42b6-ab7e-a6d2e893a2f2",
     "showTitle": false,
     "title": ""
    }
   },
   "outputs": [
    {
     "output_type": "stream",
     "name": "stdout",
     "output_type": "stream",
     "text": [
      "Out[10]: S    644\nC    168\nQ     77\nName: Embarked, dtype: int64"
     ]
    }
   ],
   "source": [
    "# Get the categories of 'Embarked' \n",
    "data['Embarked'].value_counts()"
   ]
  },
  {
   "cell_type": "code",
   "execution_count": 0,
   "metadata": {
    "application/vnd.databricks.v1+cell": {
     "cellMetadata": {
      "byteLimit": 2048000,
      "rowLimit": 10000
     },
     "inputWidgets": {},
     "nuid": "10973e7d-fc4d-4e6d-87b9-9abe8c808645",
     "showTitle": false,
     "title": ""
    }
   },
   "outputs": [
    {
     "output_type": "display_data",
     "data": {
      "image/png": "[encoded data removed]"
     },
     "metadata": {
      "application/vnd.databricks.v1+output": {
       "addedWidgets": {},
       "arguments": {},
       "data": "data:image/png;base64,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\n",
       "datasetInfos": [],
       "metadata": {},
       "removedWidgets": [],
       "type": "image"
      }
     },
     "output_type": "display_data"
    }
   ],
   "source": [
    "# Creating a countplot of 'Embarked'\n",
    "sns.countplot(data = data, x = 'Embarked', color = 'lightblue');"
   ]
  },
  {
   "cell_type": "markdown",
   "metadata": {
    "application/vnd.databricks.v1+cell": {
     "cellMetadata": {},
     "inputWidgets": {},
     "nuid": "b0ccc020-ef0b-4de5-bb16-41da959e4853",
     "showTitle": false,
     "title": ""
    }
   },
   "source": [
    "## 2.3 Binary categorical features\n",
    "\n",
    "Binary categorical features are a special type of categorical features which take only 2 values. For example, the 'Survived' feature in our dataset contains just 2 values: 0 and 1."
   ]
  },
  {
   "cell_type": "code",
   "execution_count": 0,
   "metadata": {
    "application/vnd.databricks.v1+cell": {
     "cellMetadata": {},
     "inputWidgets": {},
     "nuid": "0bc3e3f6-c4fe-48c7-a585-2c62ef66d143",
     "showTitle": false,
     "title": ""
    }
   },
   "outputs": [],
   "source": [
    "# Get the unique values of 'Survived' column\n",
    "data['Survived'].unique()"
   ]
  },
  {
   "cell_type": "code",
   "execution_count": 0,
   "metadata": {
    "application/vnd.databricks.v1+cell": {
     "cellMetadata": {},
     "inputWidgets": {},
     "nuid": "5b14518a-e58b-4e09-a02a-6fae13bc49f4",
     "showTitle": false,
     "title": ""
    }
   },
   "outputs": [],
   "source": [
    "# Creating a countplot of 'Survived' \n",
    "sns.countplot(data = data, x = 'Survived', color = 'violet');"
   ]
  },
  {
   "cell_type": "markdown",
   "metadata": {
    "application/vnd.databricks.v1+cell": {
     "cellMetadata": {},
     "inputWidgets": {},
     "nuid": "bbb33a5e-9d30-490e-b765-b035857566db",
     "showTitle": false,
     "title": ""
    }
   },
   "source": [
    "# Appendix\n",
    "\n",
    "Data source: https://www.kaggle.com/hesh97/titanicdataset-traincsv\n",
    "\n",
    "Data license: CC0: Public Domain\n",
    "\n",
    "Material adapted for RBI internal purposes with full permissions from original authors. [Source](https://github.com/zatkopatrik/authentic-data-science)"
   ]
  }
 ],
 "metadata": {
  "application/vnd.databricks.v1+notebook": {
   "dashboards": [],
   "language": "python",
   "notebookMetadata": {
    "pythonIndentUnit": 4
   },
   "notebookName": "1a_Practicing_With_Feature_Types",
   "notebookOrigID": 706562957546452,
   "widgets": {}
  }
 },
 "nbformat": 4,
 "nbformat_minor": 0
}
