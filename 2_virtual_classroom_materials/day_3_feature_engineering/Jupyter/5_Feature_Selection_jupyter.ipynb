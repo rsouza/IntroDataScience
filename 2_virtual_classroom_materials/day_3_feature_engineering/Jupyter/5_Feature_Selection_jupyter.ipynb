{
 "cells": [
  {
   "cell_type": "markdown",
   "metadata": {
    "application/vnd.databricks.v1+cell": {
     "cellMetadata": {
      "byteLimit": 2048000,
      "rowLimit": 10000
     },
     "inputWidgets": {},
     "nuid": "f3197120-7093-4c9a-839b-f27aaa358431",
     "showTitle": false,
     "title": ""
    }
   },
   "source": [
    "# 0. Loading libraries and Classes"
   ]
  },
  {
   "cell_type": "code",
   "execution_count": null,
   "metadata": {
    "application/vnd.databricks.v1+cell": {
     "cellMetadata": {
      "byteLimit": 2048000,
      "rowLimit": 10000
     },
     "inputWidgets": {},
     "nuid": "427d76fa-f006-499f-b7bb-39b62d7f0c22",
     "showTitle": false,
     "title": ""
    }
   },
   "outputs": [],
   "source": [
    "# Import necessary libraries for this notebook\n",
    "import pandas as pd\n",
    "import seaborn as sns\n",
    "import matplotlib.pyplot as plt\n",
    "\n",
    "import warnings\n",
    "warnings.filterwarnings('ignore')\n",
    "\n",
    "from IPython.display import Image\n",
    "\n",
    "# Import train_test_split to separate train and test set\n",
    "from sklearn.model_selection import train_test_split\n",
    "# Import VarianceThreshold to removes all low-variance features\n",
    "from sklearn.feature_selection import VarianceThreshold\n",
    "\n",
    "%matplotlib inline"
   ]
  },
  {
   "cell_type": "markdown",
   "metadata": {
    "application/vnd.databricks.v1+cell": {
     "cellMetadata": {
      "byteLimit": 2048000,
      "rowLimit": 10000
     },
     "inputWidgets": {},
     "nuid": "c6565c2e-aca0-4e2b-bcdc-b633fd804d7b",
     "showTitle": false,
     "title": ""
    }
   },
   "source": [
    "An **important** thing to remember is that we should perform feature selection in conjunction with the model selection"
   ]
  },
  {
   "cell_type": "markdown",
   "metadata": {
    "application/vnd.databricks.v1+cell": {
     "cellMetadata": {
      "byteLimit": 2048000,
      "rowLimit": 10000
     },
     "inputWidgets": {},
     "nuid": "cdb5abee-317d-438e-b680-e8b1ba466d42",
     "showTitle": false,
     "title": ""
    }
   },
   "source": [
    "# 1. Non-data columns\n",
    "Columns often used for identifying observations typically lack informational value.\n",
    "Such columns include unique identifiers like ID columns, telephone numbers, and email addresses.\n",
    "\n",
    "We will be working with the subset of Santander Bank dataset \\\\(^{1}\\\\) (30 000 rows), which contain anonymized features to predict customer satisfaction regarding their experience with the bank."
   ]
  },
  {
   "cell_type": "code",
   "execution_count": null,
   "metadata": {
    "application/vnd.databricks.v1+cell": {
     "cellMetadata": {
      "byteLimit": 2048000,
      "rowLimit": 10000
     },
     "inputWidgets": {},
     "nuid": "fd28182e-3867-4b33-bc23-cb3a6370434d",
     "showTitle": false,
     "title": ""
    }
   },
   "outputs": [],
   "source": [
    "# Load the subset dataset called 'subset_santander.csv' and store it to variable data\n",
    "data = pd.read_csv('../../../Data/subset_santander.csv')\n",
    "\n",
    "# Print the shape of the dataframe and get the first 10 rows\n",
    "print(data.shape)\n",
    "data.head(10)"
   ]
  },
  {
   "cell_type": "markdown",
   "metadata": {
    "application/vnd.databricks.v1+cell": {
     "cellMetadata": {
      "byteLimit": 2048000,
      "rowLimit": 10000
     },
     "inputWidgets": {},
     "nuid": "7c75c7fe-2cf5-440c-a63a-1a9c9beb0b52",
     "showTitle": false,
     "title": ""
    }
   },
   "source": [
    "Feature selection should be performed only on our training data to avoid overfitting. Let's split our dataset and drop our target feature 'TARGET'."
   ]
  },
  {
   "cell_type": "code",
   "execution_count": null,
   "metadata": {
    "application/vnd.databricks.v1+cell": {
     "cellMetadata": {
      "byteLimit": 2048000,
      "rowLimit": 10000
     },
     "inputWidgets": {},
     "nuid": "ed6984c6-b5a7-4a24-890e-a26f3fa208d5",
     "showTitle": false,
     "title": ""
    }
   },
   "outputs": [],
   "source": [
    "# Separate dataset into train and test\n",
    "X_train, X_test, y_train, y_test = train_test_split(data.drop(labels = ['TARGET'], axis = 1),\n",
    "                                                    data['TARGET'],\n",
    "                                                    test_size = 0.3,\n",
    "                                                    random_state = 42)\n",
    "\n",
    "# Get the shape of training and testing set\n",
    "X_train.shape, X_test.shape"
   ]
  },
  {
   "cell_type": "markdown",
   "metadata": {
    "application/vnd.databricks.v1+cell": {
     "cellMetadata": {
      "byteLimit": 2048000,
      "rowLimit": 10000
     },
     "inputWidgets": {},
     "nuid": "2ec8ed2e-68ee-431d-8055-1864728b3a53",
     "showTitle": false,
     "title": ""
    }
   },
   "source": [
    "If we have a look at the table above we see that there is a column called `ID` which we can drop since we must not use it for predictions.\n",
    "This task has to be done manually, since there is no way of inferring this information from the data."
   ]
  },
  {
   "cell_type": "code",
   "execution_count": null,
   "metadata": {
    "application/vnd.databricks.v1+cell": {
     "cellMetadata": {
      "byteLimit": 2048000,
      "rowLimit": 10000
     },
     "inputWidgets": {},
     "nuid": "c7ddc1d4-1b6e-4ee1-a850-b95f2be61489",
     "showTitle": false,
     "title": ""
    }
   },
   "outputs": [],
   "source": [
    "# Drop the ID column\n",
    "X_train.drop(\"ID\", axis=1, inplace=True)\n",
    "X_test.drop(\"ID\", axis=1, inplace=True)\n",
    "\n",
    "# Get the shape after removing the ID column\n",
    "X_train.shape, X_test.shape"
   ]
  },
  {
   "cell_type": "markdown",
   "metadata": {
    "application/vnd.databricks.v1+cell": {
     "cellMetadata": {
      "byteLimit": 2048000,
      "rowLimit": 10000
     },
     "inputWidgets": {},
     "nuid": "655a47af-a339-48a1-a5de-ea56fc0b0429",
     "showTitle": false,
     "title": ""
    }
   },
   "source": [
    "# 2. Constant Features\n",
    "Constant features do not provide any information useful for further analysis or predicting the target variable. These features provide only a single value for all of the observations in the dataset. Therefore, we can remove them from the dataset.\n",
    "\n",
    "There are 369 features in our dataset. \n",
    "We can now look at whether there are some constant features in `X_train` set using the\n",
    "[`.var()`](https://pandas.pydata.org/pandas-docs/stable/reference/api/pandas.DataFrame.var.html)\n",
    "method which computes the variance along the columns.\n",
    "Within this function we can specify argument `ddof = 1`.\n",
    "For more information see the [documentation](https://pandas.pydata.org/pandas-docs/stable/reference/api/pandas.DataFrame.var.html)."
   ]
  },
  {
   "cell_type": "code",
   "execution_count": null,
   "metadata": {
    "application/vnd.databricks.v1+cell": {
     "cellMetadata": {
      "byteLimit": 2048000,
      "rowLimit": 10000
     },
     "inputWidgets": {},
     "nuid": "d803d495-a2d6-49b9-ba54-57c7d946c4ea",
     "showTitle": false,
     "title": ""
    }
   },
   "outputs": [],
   "source": [
    "# Get the features that have the variance equal to zero\n",
    "# Optional: Specify ddof = 1 within the `.var()` function \n",
    "\n",
    "our_constant_features = X_train.loc[:, X_train.var(ddof = 1) == 0]"
   ]
  },
  {
   "cell_type": "code",
   "execution_count": null,
   "metadata": {
    "application/vnd.databricks.v1+cell": {
     "cellMetadata": {
      "byteLimit": 2048000,
      "rowLimit": 10000
     },
     "inputWidgets": {},
     "nuid": "97decb6d-96df-43da-bc3c-67c995ae23c7",
     "showTitle": false,
     "title": ""
    }
   },
   "outputs": [],
   "source": [
    "# Print our_constant_features\n",
    "our_constant_features"
   ]
  },
  {
   "cell_type": "markdown",
   "metadata": {
    "application/vnd.databricks.v1+cell": {
     "cellMetadata": {
      "byteLimit": 2048000,
      "rowLimit": 10000
     },
     "inputWidgets": {},
     "nuid": "19acf0ea-cfe7-4e74-b01f-e700fa157e21",
     "showTitle": false,
     "title": ""
    }
   },
   "source": [
    "There are 64 features with zero variance, which will be removed from our dataset. "
   ]
  },
  {
   "cell_type": "code",
   "execution_count": null,
   "metadata": {
    "application/vnd.databricks.v1+cell": {
     "cellMetadata": {
      "byteLimit": 2048000,
      "rowLimit": 10000
     },
     "inputWidgets": {},
     "nuid": "dd761eeb-134e-4ecc-aafb-6950fe6e878d",
     "showTitle": false,
     "title": ""
    }
   },
   "outputs": [],
   "source": [
    "# Remove constant features from X_train, do not forget specify argument inplace = True\n",
    "X_train.drop(labels= our_constant_features, axis=1, inplace=True)\n",
    "# Remove constant features from X_test, do not forget specify argument inplace = True\n",
    "X_test.drop(labels= our_constant_features, axis=1, inplace=True)\n",
    "\n",
    "# Get the shape after removing constant features\n",
    "X_train.shape, X_test.shape"
   ]
  },
  {
   "cell_type": "markdown",
   "metadata": {
    "application/vnd.databricks.v1+cell": {
     "cellMetadata": {
      "byteLimit": 2048000,
      "rowLimit": 10000
     },
     "inputWidgets": {},
     "nuid": "93dbd540-2d54-4297-aafe-d85236b1f912",
     "showTitle": false,
     "title": ""
    }
   },
   "source": [
    "# 3. Quasi-constant Features\n",
    "\n",
    "Quasi-constant features have very low variance (close to 0) and contain little information, which is not useful for us. These approximately constant features won't help the ML model's performance, therefore we should consider removing them. \n",
    "\n",
    "We could filter quasi-constant features with Pandas in a similar way as we did with constant features, with one difference - we would set a specific threshold. Nevertheless, now we'll leave Pandas behind and rather use scikit learn which offers a more convenient way to find quasi-constant features. \n",
    "\n",
    "In the\n",
    "[`sklearn.feature_selection`](https://scikit-learn.org/stable/modules/classes.html#module-sklearn.feature_selection)\n",
    "module we can find a feature selector called\n",
    "[`VarianceThreshold()`](https://scikit-learn.org/stable/modules/generated/sklearn.feature_selection.VarianceThreshold.html),\n",
    "which finds all features with low variance (based on a specified threshold) and removes them. \n",
    "You can find more information about this selector [here](https://scikit-learn.org/stable/modules/generated/sklearn.feature_selection.VarianceThreshold.html).\n",
    "\n",
    "As a first step, we define our selector for quasi-constant features with a threshold of 0.01. In other words, this is the minimum value of the variance we want to have in the dataset. "
   ]
  },
  {
   "cell_type": "code",
   "execution_count": null,
   "metadata": {
    "application/vnd.databricks.v1+cell": {
     "cellMetadata": {
      "byteLimit": 2048000,
      "rowLimit": 10000
     },
     "inputWidgets": {},
     "nuid": "cca6056e-26a5-40b8-89a2-a382ee38514a",
     "showTitle": false,
     "title": ""
    }
   },
   "outputs": [],
   "source": [
    "# Define VarianceThreshold() object and specify parameter threshold = 0.01\n",
    "our_selector = VarianceThreshold(threshold = 0.01)"
   ]
  },
  {
   "cell_type": "markdown",
   "metadata": {
    "application/vnd.databricks.v1+cell": {
     "cellMetadata": {
      "byteLimit": 2048000,
      "rowLimit": 10000
     },
     "inputWidgets": {},
     "nuid": "0810fa1d-8407-4627-8aeb-77d32d8993fa",
     "showTitle": false,
     "title": ""
    }
   },
   "source": [
    "Next, we fit `our_selector` with the `X_train` data to find quasi-constant features."
   ]
  },
  {
   "cell_type": "code",
   "execution_count": null,
   "metadata": {
    "application/vnd.databricks.v1+cell": {
     "cellMetadata": {
      "byteLimit": 2048000,
      "rowLimit": 10000
     },
     "inputWidgets": {},
     "nuid": "26237862-708a-437c-a85f-3e7942fae9ad",
     "showTitle": false,
     "title": ""
    }
   },
   "outputs": [],
   "source": [
    "# Fit X_train with our_selector\n",
    "our_selector.fit(X_train)"
   ]
  },
  {
   "cell_type": "markdown",
   "metadata": {
    "application/vnd.databricks.v1+cell": {
     "cellMetadata": {
      "byteLimit": 2048000,
      "rowLimit": 10000
     },
     "inputWidgets": {},
     "nuid": "78673638-74a2-47e6-ab18-e26c97f3ba87",
     "showTitle": false,
     "title": ""
    }
   },
   "source": [
    "Using\n",
    "[`get_support()`](https://scikit-learn.org/stable/modules/generated/sklearn.feature_selection.VarianceThreshold.html#sklearn.feature_selection.VarianceThreshold.get_support)\n",
    "method, we can get all of the features we want to keep along with their names.\n",
    "This _mask_ we will use later to assign names to columns.\n",
    "\n",
    "*Note: You might wonder why we are saving the feature names in the `features_to_keep` variable. Scikit learn will always save the necessary state inside of the fitted transformer.\n",
    "However, in this example we only do this for our convience, so that we can later on go back from the nameless Numpy array to a nice dataframe with all the column names.*"
   ]
  },
  {
   "cell_type": "code",
   "execution_count": null,
   "metadata": {
    "application/vnd.databricks.v1+cell": {
     "cellMetadata": {
      "byteLimit": 2048000,
      "rowLimit": 10000
     },
     "inputWidgets": {},
     "nuid": "7c56d77f-7994-40d0-b27a-a2ecd481bf91",
     "showTitle": false,
     "title": ""
    }
   },
   "outputs": [],
   "source": [
    "# Get the mask of features we want to keep in the dataset\n",
    "features_to_keep = X_train.columns[our_selector.get_support()]\n",
    "\n",
    "# Print the length\n",
    "print('The number of features that will be kept: {}'.format(len(features_to_keep)))"
   ]
  },
  {
   "cell_type": "markdown",
   "metadata": {
    "application/vnd.databricks.v1+cell": {
     "cellMetadata": {
      "byteLimit": 2048000,
      "rowLimit": 10000
     },
     "inputWidgets": {},
     "nuid": "4931136b-9e83-4982-ba0e-028bc1a31aa0",
     "showTitle": false,
     "title": ""
    }
   },
   "source": [
    "The next step is to transform `X_train` and `X_test` using `our_selector`."
   ]
  },
  {
   "cell_type": "code",
   "execution_count": null,
   "metadata": {
    "application/vnd.databricks.v1+cell": {
     "cellMetadata": {
      "byteLimit": 2048000,
      "rowLimit": 10000
     },
     "inputWidgets": {},
     "nuid": "fcba6198-b544-4f8b-a330-88134deab8b7",
     "showTitle": false,
     "title": ""
    }
   },
   "outputs": [],
   "source": [
    "# Transform X_train and X_test = in this step, the quasi-constant featues will be finally removed\n",
    "X_train = our_selector.transform(X_train)\n",
    "X_test = our_selector.transform(X_test)\n",
    "\n",
    "# Get the shape of X_train and X_test\n",
    "X_train.shape, X_test.shape"
   ]
  },
  {
   "cell_type": "markdown",
   "metadata": {
    "application/vnd.databricks.v1+cell": {
     "cellMetadata": {
      "byteLimit": 2048000,
      "rowLimit": 10000
     },
     "inputWidgets": {},
     "nuid": "6f0040f8-ce14-49be-9045-28cb64bfa3e2",
     "showTitle": false,
     "title": ""
    }
   },
   "source": [
    "After the trnsformation `X_train` is a\n",
    "[`numpy.ndarray`](https://numpy.org/doc/stable/reference/generated/numpy.ndarray.html)\n",
    "object and needs to be transformed into a Pandas DataFrame again.\n",
    "Here, we use our created `features_to_keep` variable to assign column names."
   ]
  },
  {
   "cell_type": "code",
   "execution_count": null,
   "metadata": {
    "application/vnd.databricks.v1+cell": {
     "cellMetadata": {
      "byteLimit": 2048000,
      "rowLimit": 10000
     },
     "inputWidgets": {},
     "nuid": "1b8d9106-32d0-4030-a866-d6fde68ef2e8",
     "showTitle": false,
     "title": ""
    }
   },
   "outputs": [],
   "source": [
    "# Print X_train\n",
    "X_train"
   ]
  },
  {
   "cell_type": "code",
   "execution_count": null,
   "metadata": {
    "application/vnd.databricks.v1+cell": {
     "cellMetadata": {
      "byteLimit": 2048000,
      "rowLimit": 10000
     },
     "inputWidgets": {},
     "nuid": "c729f1c8-180a-4891-ad1f-abce42d47e15",
     "showTitle": false,
     "title": ""
    }
   },
   "outputs": [],
   "source": [
    "# Convert X_train to a Pandas DataFrame\n",
    "X_train= pd.DataFrame(X_train)\n",
    "# Using the '.columns' attribute assign column names\n",
    "X_train.columns = features_to_keep\n",
    "\n",
    "# Convert X_test to a Pandas DataFrame\n",
    "X_test= pd.DataFrame(X_test)\n",
    "# Using the '.columns' attribute assign column names\n",
    "X_test.columns = features_to_keep\n",
    "\n",
    "# Get the first 5 rows of X_train\n",
    "X_train.head()"
   ]
  },
  {
   "cell_type": "markdown",
   "metadata": {
    "application/vnd.databricks.v1+cell": {
     "cellMetadata": {
      "byteLimit": 2048000,
      "rowLimit": 10000
     },
     "inputWidgets": {},
     "nuid": "0d550606-9ca9-48fb-be89-4e0311646bf0",
     "showTitle": false,
     "title": ""
    }
   },
   "source": [
    "# 4. Duplicated Features (READ-ONLY)\n",
    "Duplicated features are totally redundant features, thus not providing any useful or new information for improving the model's performance.\n",
    "\n",
    "To better understand how duplicated features can be treated using Pandas we create new DataFrame.\n",
    "We've already seen the [`duplicated()`](https://pandas.pydata.org/pandas-docs/stable/reference/api/pandas.DataFrame.duplicated.html)\n",
    "function which returns a boolean Series denoting duplicate rows.\n",
    "To identify duplicated features, we have to first transpose our data frame, in other words, we swap the rows and columns.\n",
    "More information [here](https://pandas.pydata.org/pandas-docs/stable/reference/api/pandas.DataFrame.transpose.html).\n",
    "\n",
    "You might wonder again, why are we not using the\n",
    "[`scikit-learn`](https://scikit-learn.org/stable/index.html)? The reason is that **duplicated features should be already addressed within data integration and preprocessing**. You might remember that these are the earliest stages. The reason is that duplicated values usually occur when we are merging data from various sources. It was not a priority for scikit developers to implement a specific transformer for this.\n",
    "\n",
    "We are doing an ugly operation of swapping rows and columns to make use of Pandas functionality and make this operation as easy as possible. Yes, we are only advising you to do this with a small dataset. If you have a *big* dataset, for example counted in TBs, you should not and most likely will not be able to do this."
   ]
  },
  {
   "cell_type": "code",
   "execution_count": null,
   "metadata": {
    "application/vnd.databricks.v1+cell": {
     "cellMetadata": {
      "byteLimit": 2048000,
      "rowLimit": 10000
     },
     "inputWidgets": {},
     "nuid": "5cfafea5-1daa-4cdf-8b68-95a8baeda904",
     "showTitle": false,
     "title": ""
    }
   },
   "outputs": [],
   "source": [
    "# Run this code to create new DataFrame\n",
    "our_data  =[(1, 'Colin Trevorrow', 124, 150 ,'Colin Trevorrow', 150, 'Jurassic World'),\n",
    "           (2, 'George Miller', 120, 55, 'George Miller', 55, 'Mad Max: Fury Road'),\n",
    "           (3, 'Robert Schwentke', 119, 112, 'Robert Schwentke', 112, 'Insurgent'),\n",
    "           (4, 'J.J. Abrams', 136, 220,'J.J. Abrams', 220, 'Star Wars: The Force Awakens'),\n",
    "           (5, 'James Wan', 137, 154, 'James Wan', 154, 'Furious 7'),\n",
    "           (6, 'Bruce Brown', 95, 25, 'Bruce Brown', 25, 'The Endless Summer'),\n",
    "           (7, 'Woody Allen', 80, 15, 'Woody Allen', 15, 'What`s Up, Tiger Lily?'),\n",
    "           (8, 'James Cameron', 162, 180, 'James Cameron', 180, 'Avatar'),\n",
    "           (9, 'Carl Tibbetts', 74, 44, 'Carl Tibbetts', 44, 'Black Mirror: White Christmas'),\n",
    "           (10, 'Harold P. Warren', 74, 8, 'Harold P. Warren', 8, 'Manos: The Hands of Fate')]\n",
    "\n",
    "movies = pd.DataFrame(our_data, columns= ['id', 'director', 'runtime','total_votes', 'name', 'number_of_votes', 'title'])"
   ]
  },
  {
   "cell_type": "code",
   "execution_count": null,
   "metadata": {
    "application/vnd.databricks.v1+cell": {
     "cellMetadata": {
      "byteLimit": 2048000,
      "rowLimit": 10000
     },
     "inputWidgets": {},
     "nuid": "fc2aafb4-2f57-4876-aa90-855e8ccddc64",
     "showTitle": false,
     "title": ""
    }
   },
   "outputs": [],
   "source": [
    "# Print movies DataFrame\n",
    "movies"
   ]
  },
  {
   "cell_type": "code",
   "execution_count": null,
   "metadata": {
    "application/vnd.databricks.v1+cell": {
     "cellMetadata": {
      "byteLimit": 2048000,
      "rowLimit": 10000
     },
     "inputWidgets": {},
     "nuid": "96fcd30b-076a-4f68-b8ca-77720b4c31f6",
     "showTitle": false,
     "title": ""
    }
   },
   "outputs": [],
   "source": [
    "# Print the shape of movies\n",
    "movies.shape"
   ]
  },
  {
   "cell_type": "markdown",
   "metadata": {
    "application/vnd.databricks.v1+cell": {
     "cellMetadata": {
      "byteLimit": 2048000,
      "rowLimit": 10000
     },
     "inputWidgets": {},
     "nuid": "3e4aa936-4f2d-4320-aead-0bde41b406b6",
     "showTitle": false,
     "title": ""
    }
   },
   "source": [
    "As we can see, the movies DataFrame contains 10 rows and 7 features. \n",
    "Now we use the \n",
    "[`.transpose()`](https://pandas.pydata.org/pandas-docs/stable/reference/api/pandas.DataFrame.transpose.html)\n",
    "method."
   ]
  },
  {
   "cell_type": "code",
   "execution_count": null,
   "metadata": {
    "application/vnd.databricks.v1+cell": {
     "cellMetadata": {
      "byteLimit": 2048000,
      "rowLimit": 10000
     },
     "inputWidgets": {},
     "nuid": "901e2bdb-7ca5-4398-9a13-6c895be47edb",
     "showTitle": false,
     "title": ""
    }
   },
   "outputs": [],
   "source": [
    "# Transpose movies and store it to variable movies_transpose\n",
    "movies_transpose = movies.transpose()\n",
    "movies_transpose"
   ]
  },
  {
   "cell_type": "code",
   "execution_count": null,
   "metadata": {
    "application/vnd.databricks.v1+cell": {
     "cellMetadata": {
      "byteLimit": 2048000,
      "rowLimit": 10000
     },
     "inputWidgets": {},
     "nuid": "ef95fb9b-8da9-4582-a264-53e132b844d0",
     "showTitle": false,
     "title": ""
    }
   },
   "outputs": [],
   "source": [
    "# Get the shape of movies_transpose\n",
    "movies_transpose.shape"
   ]
  },
  {
   "cell_type": "markdown",
   "metadata": {
    "application/vnd.databricks.v1+cell": {
     "cellMetadata": {
      "byteLimit": 2048000,
      "rowLimit": 10000
     },
     "inputWidgets": {},
     "nuid": "166abea7-a3b1-443a-a901-8551d8a479ec",
     "showTitle": false,
     "title": ""
    }
   },
   "source": [
    "After transposing, there are 7 rows (features) and 10 columns in `movies_transpose`.\n",
    "\n",
    "Now we apply chained\n",
    "[`duplicated().sum()`](https://pandas.pydata.org/pandas-docs/stable/reference/api/pandas.DataFrame.duplicated.html)\n",
    "function on `movies_transpose` that give us the total number of duplicated rows (features)."
   ]
  },
  {
   "cell_type": "code",
   "execution_count": null,
   "metadata": {
    "application/vnd.databricks.v1+cell": {
     "cellMetadata": {
      "byteLimit": 2048000,
      "rowLimit": 10000
     },
     "inputWidgets": {},
     "nuid": "2b26fa35-1e0c-4b35-b43b-b12743d33457",
     "showTitle": false,
     "title": ""
    }
   },
   "outputs": [],
   "source": [
    "# Get the total number of duplicated rows (features)\n",
    "movies_transpose.duplicated().sum()"
   ]
  },
  {
   "cell_type": "markdown",
   "metadata": {
    "application/vnd.databricks.v1+cell": {
     "cellMetadata": {
      "byteLimit": 2048000,
      "rowLimit": 10000
     },
     "inputWidgets": {},
     "nuid": "d1de897c-78a1-499b-ab35-35496f79e0a9",
     "showTitle": false,
     "title": ""
    }
   },
   "source": [
    "There are 2 duplicated rows (features), containing the same observations.\n",
    "We can drop duplicated rows using\n",
    "[`.drop_duplicates()`](https://pandas.pydata.org/pandas-docs/stable/reference/api/pandas.DataFrame.drop_duplicates.html).\n",
    "By setting `keep = 'first'` parameter, we determine which duplicated row we want to keep."
   ]
  },
  {
   "cell_type": "code",
   "execution_count": null,
   "metadata": {
    "application/vnd.databricks.v1+cell": {
     "cellMetadata": {
      "byteLimit": 2048000,
      "rowLimit": 10000
     },
     "inputWidgets": {},
     "nuid": "c8b4666c-9c36-4c6d-aefb-d74f47e60a7f",
     "showTitle": false,
     "title": ""
    }
   },
   "outputs": [],
   "source": [
    "# Drop duplicates and store the result in the variable unique_features\n",
    "unique_features = movies_transpose.drop_duplicates(keep = 'first').transpose()"
   ]
  },
  {
   "cell_type": "code",
   "execution_count": null,
   "metadata": {
    "application/vnd.databricks.v1+cell": {
     "cellMetadata": {
      "byteLimit": 2048000,
      "rowLimit": 10000
     },
     "inputWidgets": {},
     "nuid": "4a9a6953-de2e-42d3-9205-b5b23d1d0482",
     "showTitle": false,
     "title": ""
    }
   },
   "outputs": [],
   "source": [
    "# Get duplicated features and store the result in the variable duplicated_feature\n",
    "duplicated_features = [column for column in movies.columns if column not in unique_features]\n",
    "duplicated_features"
   ]
  },
  {
   "cell_type": "code",
   "execution_count": null,
   "metadata": {
    "application/vnd.databricks.v1+cell": {
     "cellMetadata": {
      "byteLimit": 2048000,
      "rowLimit": 10000
     },
     "inputWidgets": {},
     "nuid": "a250d649-b4b9-4739-a6a2-0bd59e805a3d",
     "showTitle": false,
     "title": ""
    }
   },
   "outputs": [],
   "source": [
    "# Drop the duplicated features from the original DataFrame\n",
    "movies.drop(labels = duplicated_features, axis = 1, inplace = True)\n",
    "movies"
   ]
  },
  {
   "cell_type": "markdown",
   "metadata": {
    "application/vnd.databricks.v1+cell": {
     "cellMetadata": {
      "byteLimit": 2048000,
      "rowLimit": 10000
     },
     "inputWidgets": {},
     "nuid": "05aba3b5-7bf3-4323-af2a-36f5428a6a17",
     "showTitle": false,
     "title": ""
    }
   },
   "source": [
    "However, this approach is not computationally and memory-efficient if you have a really large DataFrame with thousands of rows.\n",
    "As\n",
    "[`scikit learn`](https://scikit-learn.org/stable/index.html)\n",
    "does not offer a method to handle duplicated features, we need to create some function for this purpose.\n",
    "Then we drop duplicated features using Pandas'\n",
    "[`.drop()`](https://pandas.pydata.org/pandas-docs/stable/reference/api/pandas.DataFrame.drop.html)\n",
    "method."
   ]
  },
  {
   "cell_type": "code",
   "execution_count": null,
   "metadata": {
    "application/vnd.databricks.v1+cell": {
     "cellMetadata": {
      "byteLimit": 2048000,
      "rowLimit": 10000
     },
     "inputWidgets": {},
     "nuid": "219d6d78-2504-44a5-bdf1-e261ad4da49e",
     "showTitle": false,
     "title": ""
    }
   },
   "outputs": [],
   "source": [
    "# Create an empty list for duplicated features\n",
    "features_duplicates = []\n",
    "\n",
    "# Create a for loop for iterating over the range of columns from the X_train set\n",
    "for col in range(len(X_train.columns)):\n",
    "    column_1 = X_train.columns[col]\n",
    "    # Find duplicated features by comparing columns using .equals\n",
    "    for column_2 in X_train.columns[col + 1:]:\n",
    "        if X_train[column_1].equals(X_train[column_2]):\n",
    "            features_duplicates.append(column_2)\n",
    "            \n",
    "len(features_duplicates)"
   ]
  },
  {
   "cell_type": "code",
   "execution_count": null,
   "metadata": {
    "application/vnd.databricks.v1+cell": {
     "cellMetadata": {
      "byteLimit": 2048000,
      "rowLimit": 10000
     },
     "inputWidgets": {},
     "nuid": "50529565-394e-4ab5-b52f-f38bcb0e1c16",
     "showTitle": false,
     "title": ""
    }
   },
   "outputs": [],
   "source": [
    "# Drop duplicated features from X_train and X_test\n",
    "X_train.drop(labels = features_duplicates, axis = 1, inplace = True)\n",
    "X_test.drop( labels = features_duplicates, axis = 1, inplace = True)"
   ]
  },
  {
   "cell_type": "code",
   "execution_count": null,
   "metadata": {
    "application/vnd.databricks.v1+cell": {
     "cellMetadata": {
      "byteLimit": 2048000,
      "rowLimit": 10000
     },
     "inputWidgets": {},
     "nuid": "cdac7975-2bd3-4c9d-8355-dc867c52455d",
     "showTitle": false,
     "title": ""
    }
   },
   "outputs": [],
   "source": [
    "# Get the shape of X_train and X_test\n",
    "X_train.shape, X_test.shape"
   ]
  },
  {
   "cell_type": "markdown",
   "metadata": {
    "application/vnd.databricks.v1+cell": {
     "cellMetadata": {
      "byteLimit": 2048000,
      "rowLimit": 10000
     },
     "inputWidgets": {},
     "nuid": "2561d1ad-beca-4f32-b2f0-8f17bdc9e2f2",
     "showTitle": false,
     "title": ""
    }
   },
   "source": [
    "[`scikit learn`](https://scikit-learn.org/stable/index.html)\n",
    "module offers many methods such as selecting features based on their importance but we will not go there.\n",
    "You can find these methods in the\n",
    "[documentation](https://scikit-learn.org/stable/modules/feature_selection.html).\n",
    "Now we'll look at the correlation between features."
   ]
  },
  {
   "cell_type": "markdown",
   "metadata": {
    "application/vnd.databricks.v1+cell": {
     "cellMetadata": {
      "byteLimit": 2048000,
      "rowLimit": 10000
     },
     "inputWidgets": {},
     "nuid": "c09fc43f-d50c-4e30-a177-8348c5c3d4b6",
     "showTitle": false,
     "title": ""
    }
   },
   "source": [
    "# 5. Correlation\n",
    "Features with high correlation have almost the same effect on the target feature.\n",
    "We can visualize relationships between features using\n",
    "[`.corr()`](https://pandas.pydata.org/pandas-docs/stable/reference/api/pandas.DataFrame.corr.html)\n",
    "method to understand the data better."
   ]
  },
  {
   "cell_type": "code",
   "execution_count": null,
   "metadata": {
    "application/vnd.databricks.v1+cell": {
     "cellMetadata": {
      "byteLimit": 2048000,
      "rowLimit": 10000
     },
     "inputWidgets": {},
     "nuid": "c725b650-5fed-444d-8c49-65119e24f06a",
     "showTitle": false,
     "title": ""
    }
   },
   "outputs": [],
   "source": [
    "# Find the correlation among the columns and store it in variable correlation_matrix\n",
    "correlation_matrix = X_train.corr()"
   ]
  },
  {
   "cell_type": "code",
   "execution_count": null,
   "metadata": {
    "application/vnd.databricks.v1+cell": {
     "cellMetadata": {
      "byteLimit": 2048000,
      "rowLimit": 10000
     },
     "inputWidgets": {},
     "nuid": "84219ad5-bae5-410e-a321-3e6f14f927e2",
     "showTitle": false,
     "title": ""
    }
   },
   "outputs": [],
   "source": [
    "# Plot the correlation matrix\n",
    "plt.figure(figsize=(11, 11))\n",
    "sns.heatmap(correlation_matrix, cmap=\"vlag\", vmin=-1, vmax=1);"
   ]
  },
  {
   "cell_type": "markdown",
   "metadata": {
    "application/vnd.databricks.v1+cell": {
     "cellMetadata": {
      "byteLimit": 2048000,
      "rowLimit": 10000
     },
     "inputWidgets": {},
     "nuid": "aa3c65ab-d0d6-49c3-a7d0-3be5879478ed",
     "showTitle": false,
     "title": ""
    }
   },
   "source": [
    "We'll find the highly correlated features using a function based on correlation coefficients above the threshold of 0.8."
   ]
  },
  {
   "cell_type": "code",
   "execution_count": null,
   "metadata": {
    "application/vnd.databricks.v1+cell": {
     "cellMetadata": {
      "byteLimit": 2048000,
      "rowLimit": 10000
     },
     "inputWidgets": {},
     "nuid": "ad3b91e9-9574-4f0c-bf4a-8e886a0c9907",
     "showTitle": false,
     "title": ""
    }
   },
   "outputs": [],
   "source": [
    "def correlation(dataset, threshold):\n",
    "    # Create set for correlated columns\n",
    "    corelated_cols = set()  \n",
    "    # Compute correlation \n",
    "    corr_matrix = dataset.corr()\n",
    "    for c in range(len(corr_matrix.columns)):\n",
    "        for j in range(c):\n",
    "            # Take absolute correlation coefficient value \n",
    "            # If abs values are above threshold ...\n",
    "            if abs(corr_matrix.iloc[c, j]) > threshold: \n",
    "                # ... Get name of column\n",
    "                colname = corr_matrix.columns[c]\n",
    "                corelated_cols.add(colname)\n",
    "    return corelated_cols"
   ]
  },
  {
   "cell_type": "code",
   "execution_count": null,
   "metadata": {
    "application/vnd.databricks.v1+cell": {
     "cellMetadata": {
      "byteLimit": 2048000,
      "rowLimit": 10000
     },
     "inputWidgets": {},
     "nuid": "58a67980-7754-4480-9b7f-b0dc4d32666c",
     "showTitle": false,
     "title": ""
    }
   },
   "outputs": [],
   "source": [
    "# Use correlation function on X_train with threshold 0.8\n",
    "corr_features_to_drop = correlation(X_train, 0.8)\n",
    "len(set(corr_features_to_drop))"
   ]
  },
  {
   "cell_type": "code",
   "execution_count": null,
   "metadata": {
    "application/vnd.databricks.v1+cell": {
     "cellMetadata": {
      "byteLimit": 2048000,
      "rowLimit": 10000
     },
     "inputWidgets": {},
     "nuid": "817194be-5846-4499-9bcf-8097da65d0fd",
     "showTitle": false,
     "title": ""
    }
   },
   "outputs": [],
   "source": [
    "# Drop correlated features from X_train and X_test\n",
    "X_train.drop(labels = corr_features_to_drop, axis = 1, inplace = True)\n",
    "X_test.drop(labels = corr_features_to_drop, axis = 1, inplace = True)"
   ]
  },
  {
   "cell_type": "code",
   "execution_count": null,
   "metadata": {
    "application/vnd.databricks.v1+cell": {
     "cellMetadata": {
      "byteLimit": 2048000,
      "rowLimit": 10000
     },
     "inputWidgets": {},
     "nuid": "9ed7aabf-c7e0-4a0d-bf62-aa9c9a6051d3",
     "showTitle": false,
     "title": ""
    }
   },
   "outputs": [],
   "source": [
    "# Get the shape of X_train and X_test\n",
    "X_train.shape, X_test.shape"
   ]
  },
  {
   "cell_type": "markdown",
   "metadata": {
    "application/vnd.databricks.v1+cell": {
     "cellMetadata": {
      "byteLimit": 2048000,
      "rowLimit": 10000
     },
     "inputWidgets": {},
     "nuid": "85b95233-59cc-4097-848c-47f613464be1",
     "showTitle": false,
     "title": ""
    }
   },
   "source": [
    "# TASK\n",
    "\n",
    "You will be using an altered dataset containing variants of the Portuguese 'Vinho Verde' wine \\\\(^{2}\\\\). The features provide information about wine samples recorded based on physicochemical tests. There is also the target feature that denotes the quality score of the sample. "
   ]
  },
  {
   "cell_type": "code",
   "execution_count": null,
   "metadata": {
    "application/vnd.databricks.v1+cell": {
     "cellMetadata": {
      "byteLimit": 2048000,
      "rowLimit": 10000
     },
     "inputWidgets": {},
     "nuid": "f06e1bed-8ad8-4fc2-9ac7-872d74a282e0",
     "showTitle": false,
     "title": ""
    }
   },
   "outputs": [],
   "source": [
    "# Load the dataset 'wine_quality.csv' and store it to variable wine\n",
    "wine = pd.read_csv('../../../Data/quality_of_wine.csv', sep = ',', )\n",
    "# Get the first 10 rows\n",
    "wine.head(10)"
   ]
  },
  {
   "cell_type": "code",
   "execution_count": null,
   "metadata": {
    "application/vnd.databricks.v1+cell": {
     "cellMetadata": {
      "byteLimit": 2048000,
      "rowLimit": 10000
     },
     "inputWidgets": {},
     "nuid": "6d0e11cc-a355-480d-93cc-b50bdd08e7da",
     "showTitle": false,
     "title": ""
    }
   },
   "outputs": [],
   "source": [
    "# Print the dataframe's datatypes\n",
    "wine.dtypes"
   ]
  },
  {
   "cell_type": "markdown",
   "metadata": {
    "application/vnd.databricks.v1+cell": {
     "cellMetadata": {
      "byteLimit": 2048000,
      "rowLimit": 10000
     },
     "inputWidgets": {},
     "nuid": "23c0053d-582c-456d-80b3-427449bd2958",
     "showTitle": false,
     "title": ""
    }
   },
   "source": [
    "Several numerical features are stored as float or integer, and one feature is stored as a string in our dataset.\n",
    "\n",
    "These numerical variables can be used to predict the quality of the wine samples. So the **'quality'** column is our **target feature**.  "
   ]
  },
  {
   "cell_type": "code",
   "execution_count": null,
   "metadata": {
    "application/vnd.databricks.v1+cell": {
     "cellMetadata": {
      "byteLimit": 2048000,
      "rowLimit": 10000
     },
     "inputWidgets": {},
     "nuid": "4b226189-1ddf-4e04-b301-63a3846a8ed0",
     "showTitle": false,
     "title": ""
    }
   },
   "outputs": [],
   "source": [
    "# Separate the dataset 'wine' into training and testing set\n",
    "# Store it in variables: X_training, X_testing, y_training, y_testing\n",
    "# Drop the target feature 'quality'\n",
    "# Set test_size = 0.3 and random_state = 42\n",
    "\n",
    "X_training, X_testing, y_training, y_testing = train_test_split(wine.drop(labels = ['quality'], axis=1), \n",
    "                                                                wine['quality'],\n",
    "                                                                test_size = 0.3,\n",
    "                                                                random_state = 42)\n",
    "\n",
    "# Get the shape of training and testing set\n",
    "X_training.shape, X_testing.shape"
   ]
  },
  {
   "cell_type": "markdown",
   "metadata": {
    "application/vnd.databricks.v1+cell": {
     "cellMetadata": {
      "byteLimit": 2048000,
      "rowLimit": 10000
     },
     "inputWidgets": {},
     "nuid": "6d6f6570-ef8e-4164-8ed9-d9e3099db013",
     "showTitle": false,
     "title": ""
    }
   },
   "source": [
    "This data set also contains an ID column named 'Unnamed: 0'.\n",
    "Since it does not contain any information we will drop it."
   ]
  },
  {
   "cell_type": "code",
   "execution_count": null,
   "metadata": {
    "application/vnd.databricks.v1+cell": {
     "cellMetadata": {
      "byteLimit": 2048000,
      "rowLimit": 10000
     },
     "inputWidgets": {},
     "nuid": "4faaebf2-7fdf-41a7-a406-c82b450aedce",
     "showTitle": false,
     "title": ""
    }
   },
   "outputs": [],
   "source": [
    "# Drop ID column\n",
    "X_training.drop(\"Unnamed: 0\", axis=1, inplace=True)\n",
    "X_testing.drop(\"Unnamed: 0\", axis=1, inplace=True)"
   ]
  },
  {
   "cell_type": "markdown",
   "metadata": {
    "application/vnd.databricks.v1+cell": {
     "cellMetadata": {
      "byteLimit": 2048000,
      "rowLimit": 10000
     },
     "inputWidgets": {},
     "nuid": "54f352a2-5b82-4810-9cc8-05178e39bd1c",
     "showTitle": false,
     "title": ""
    }
   },
   "source": [
    "As we already know there is one non-numerical variable ('type'). Let's look at the unique values of this feature."
   ]
  },
  {
   "cell_type": "code",
   "execution_count": null,
   "metadata": {
    "application/vnd.databricks.v1+cell": {
     "cellMetadata": {
      "byteLimit": 2048000,
      "rowLimit": 10000
     },
     "inputWidgets": {},
     "nuid": "472e2447-f169-4c2d-83a8-2b1afa9e9d0c",
     "showTitle": false,
     "title": ""
    }
   },
   "outputs": [],
   "source": [
    "# Print unique values of 'type' column in X_training and X_testing sets\n",
    "print(X_training['type'].unique())\n",
    "print(X_testing['type'].unique())"
   ]
  },
  {
   "cell_type": "markdown",
   "metadata": {
    "application/vnd.databricks.v1+cell": {
     "cellMetadata": {
      "byteLimit": 2048000,
      "rowLimit": 10000
     },
     "inputWidgets": {},
     "nuid": "0e22bc30-bf50-4d16-87b9-9c78bd4e46aa",
     "showTitle": false,
     "title": ""
    }
   },
   "source": [
    "The datasets can also contain this type of constant feature stored as a string and have only one unique value/category. As this variable is not really helpful, we will drop it from the dataset. "
   ]
  },
  {
   "cell_type": "code",
   "execution_count": null,
   "metadata": {
    "application/vnd.databricks.v1+cell": {
     "cellMetadata": {
      "byteLimit": 2048000,
      "rowLimit": 10000
     },
     "inputWidgets": {},
     "nuid": "71b8bb6c-e844-462c-9b73-1755bed7ec6a",
     "showTitle": false,
     "title": ""
    }
   },
   "outputs": [],
   "source": [
    "# TASK 1 >>>> Remove the constant feature from X_training using '.drop()'. Do not forget to specify the argument inplace = True\n",
    "\n",
    "# TASK 2 >>>> Remove the constant feature from X_testing using '.drop()'. Do not forget to specify the argument inplace = True\n",
    "\n",
    "# Get the shape of X_training and X_testing sets"
   ]
  },
  {
   "cell_type": "markdown",
   "metadata": {
    "application/vnd.databricks.v1+cell": {
     "cellMetadata": {
      "byteLimit": 2048000,
      "rowLimit": 10000
     },
     "inputWidgets": {},
     "nuid": "752c4b42-32b5-47e7-9eed-fabceed05c53",
     "showTitle": false,
     "title": ""
    }
   },
   "source": [
    "Now we want to select only those features that have a variance above the threshold = 0.01. Again, we will find quasi-constant features using scikit learn's [`VarianceThreshold`](https://scikit-learn.org/stable/modules/generated/sklearn.feature_selection.VarianceThreshold.html) as we did in the previous example."
   ]
  },
  {
   "cell_type": "code",
   "execution_count": null,
   "metadata": {
    "application/vnd.databricks.v1+cell": {
     "cellMetadata": {
      "byteLimit": 2048000,
      "rowLimit": 10000
     },
     "inputWidgets": {},
     "nuid": "c9b358db-325e-42a2-91c2-382f0477cad1",
     "showTitle": false,
     "title": ""
    }
   },
   "outputs": [],
   "source": [
    "# TASK 3 >>>> Define a VarianceThreshold() object, specify the parameter threshold = 0.01 and store it in variable 'selector'"
   ]
  },
  {
   "cell_type": "code",
   "execution_count": null,
   "metadata": {
    "application/vnd.databricks.v1+cell": {
     "cellMetadata": {
      "byteLimit": 2048000,
      "rowLimit": 10000
     },
     "inputWidgets": {},
     "nuid": "4d531fd8-89bb-4871-b145-71b77f2c1b10",
     "showTitle": false,
     "title": ""
    }
   },
   "outputs": [],
   "source": [
    "# TASK 4 >>>> Fit X_training with 'selector'"
   ]
  },
  {
   "cell_type": "code",
   "execution_count": null,
   "metadata": {
    "application/vnd.databricks.v1+cell": {
     "cellMetadata": {
      "byteLimit": 2048000,
      "rowLimit": 10000
     },
     "inputWidgets": {},
     "nuid": "31ff34c8-6e11-4dcf-bc83-5973d86c3133",
     "showTitle": false,
     "title": ""
    }
   },
   "outputs": [],
   "source": [
    "# Get a mask of those features we want to keep in the dataset and store it in the variable 'features_we_keep'\n",
    "features_we_keep = X_training.columns[selector.get_support()]\n",
    "# Print the length of the variable features_we_keep\n",
    "print('The number of features that will be kept: {}'.format(len(features_we_keep)))"
   ]
  },
  {
   "cell_type": "code",
   "execution_count": null,
   "metadata": {
    "application/vnd.databricks.v1+cell": {
     "cellMetadata": {
      "byteLimit": 2048000,
      "rowLimit": 10000
     },
     "inputWidgets": {},
     "nuid": "d537f2b7-a430-403c-8621-4ae6abe5582d",
     "showTitle": false,
     "title": ""
    }
   },
   "outputs": [],
   "source": [
    "# Print the quasi-constant features that we are meant to drop using a for loop \n",
    "for column in X_training.columns:\n",
    "    if column not in features_we_keep:\n",
    "        print(column)"
   ]
  },
  {
   "cell_type": "code",
   "execution_count": null,
   "metadata": {
    "application/vnd.databricks.v1+cell": {
     "cellMetadata": {
      "byteLimit": 2048000,
      "rowLimit": 10000
     },
     "inputWidgets": {},
     "nuid": "4a750097-f0f0-4e84-8f15-0e722fb8b865",
     "showTitle": false,
     "title": ""
    }
   },
   "outputs": [],
   "source": [
    "# TASK 5 >>>> Transform X_training \n",
    "\n",
    "# TASK 6 >>>> Transform X_testing\n",
    "\n",
    "# Get the shape of X_training and X_testing"
   ]
  },
  {
   "cell_type": "code",
   "execution_count": null,
   "metadata": {
    "application/vnd.databricks.v1+cell": {
     "cellMetadata": {
      "byteLimit": 2048000,
      "rowLimit": 10000
     },
     "inputWidgets": {},
     "nuid": "3a9b5693-5130-4ee4-a4f9-2a1c9e74cc31",
     "showTitle": false,
     "title": ""
    }
   },
   "outputs": [],
   "source": [
    "# Convert X_training to Pandas DataFrame\n",
    "X_training = pd.DataFrame(X_training)\n",
    "# Using the '.columns' attribute assign column names\n",
    "X_training.columns = features_we_keep\n",
    "\n",
    "# Convert X_testing to Pandas DataFrame\n",
    "X_testing = pd.DataFrame(X_testing)\n",
    "# Using the '.columns' attribute assign column names\n",
    "X_testing.columns = features_we_keep\n",
    "\n",
    "# Get the first 10 rows of X_train\n",
    "X_training.head(10)"
   ]
  },
  {
   "cell_type": "markdown",
   "metadata": {
    "application/vnd.databricks.v1+cell": {
     "cellMetadata": {
      "byteLimit": 2048000,
      "rowLimit": 10000
     },
     "inputWidgets": {},
     "nuid": "2637ee12-f1cf-4f5f-8dee-64ca3a4cbe51",
     "showTitle": false,
     "title": ""
    }
   },
   "source": [
    "Find whether our dataset contains duplicated features. You can copy-paste the `for` loop we've already used."
   ]
  },
  {
   "cell_type": "code",
   "execution_count": null,
   "metadata": {
    "application/vnd.databricks.v1+cell": {
     "cellMetadata": {
      "byteLimit": 2048000,
      "rowLimit": 10000
     },
     "inputWidgets": {},
     "nuid": "b30408c4-45e2-4f3d-b305-5a5bbc8258cc",
     "showTitle": false,
     "title": ""
    }
   },
   "outputs": [],
   "source": [
    "# Find duplicated features in X_training set\n",
    "features_duplicates = []\n",
    "for col in range(len(X_training.columns)):\n",
    "     \n",
    "    column_1 = X_training.columns[col]\n",
    "    \n",
    "    for column_2 in X_training.columns[col + 1:]:\n",
    "        if X_training[column_1].equals(X_training[column_2]):\n",
    "            features_duplicates.append(column_2)\n",
    "            \n",
    "len(features_duplicates)"
   ]
  },
  {
   "cell_type": "code",
   "execution_count": null,
   "metadata": {
    "application/vnd.databricks.v1+cell": {
     "cellMetadata": {
      "byteLimit": 2048000,
      "rowLimit": 10000
     },
     "inputWidgets": {},
     "nuid": "15d9b6de-312f-450e-9dd3-6f31e89b1d17",
     "showTitle": false,
     "title": ""
    }
   },
   "outputs": [],
   "source": [
    "# Print the features names\n",
    "features_duplicates"
   ]
  },
  {
   "cell_type": "code",
   "execution_count": null,
   "metadata": {
    "application/vnd.databricks.v1+cell": {
     "cellMetadata": {
      "byteLimit": 2048000,
      "rowLimit": 10000
     },
     "inputWidgets": {},
     "nuid": "e287bc7f-662e-433c-bfb0-85d6fbe83787",
     "showTitle": false,
     "title": ""
    }
   },
   "outputs": [],
   "source": [
    "# TASK 7 >>>> Drop these duplicated features from X_training and X_testing"
   ]
  },
  {
   "cell_type": "code",
   "execution_count": null,
   "metadata": {
    "application/vnd.databricks.v1+cell": {
     "cellMetadata": {
      "byteLimit": 2048000,
      "rowLimit": 10000
     },
     "inputWidgets": {},
     "nuid": "3641f57a-71bc-4bc9-9fac-36a416b41a34",
     "showTitle": false,
     "title": ""
    }
   },
   "outputs": [],
   "source": [
    "# Get the shape of X_training and X_testing\n",
    "X_training.shape, X_testing.shape"
   ]
  },
  {
   "cell_type": "markdown",
   "metadata": {
    "application/vnd.databricks.v1+cell": {
     "cellMetadata": {
      "byteLimit": 2048000,
      "rowLimit": 10000
     },
     "inputWidgets": {},
     "nuid": "6c14c34d-6724-493a-8004-b5a7d9e63a87",
     "showTitle": false,
     "title": ""
    }
   },
   "source": [
    "# Apendix\n",
    "\n",
    "Data sources:\n",
    "\n",
    "\\\\(^{1}\\\\) Santander dataset: https://www.kaggle.com/c/santander-customer-satisfaction/data\n",
    "\n",
    "\\\\(^{2}\\\\) Wine quality dataset: https://archive.ics.uci.edu/ml/datasets/wine+quality\n",
    "\n",
    "Material adapted for RBI internal purposes with full permissions from original authors. [Source](https://github.com/zatkopatrik/authentic-data-science)"
   ]
  }
 ],
 "metadata": {
  "application/vnd.databricks.v1+notebook": {
   "dashboards": [],
   "language": "python",
   "notebookMetadata": {
    "pythonIndentUnit": 4
   },
   "notebookName": "5_Feature_Selection_jupyter",
   "widgets": {}
  },
  "language_info": {
   "name": "python"
  }
 },
 "nbformat": 4,
 "nbformat_minor": 0
}
