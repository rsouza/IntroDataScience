{
 "cells": [
  {
   "cell_type": "markdown",
   "metadata": {
    "application/vnd.databricks.v1+cell": {
     "cellMetadata": {},
     "inputWidgets": {},
     "nuid": "80ae43d6-61bc-4fba-be9e-e7993fd33809",
     "showTitle": false,
     "title": ""
    }
   },
   "source": [
    "### Simple examples of data imputation with scikit-learn\n",
    "#### (read and play)"
   ]
  },
  {
   "cell_type": "code",
   "execution_count": 0,
   "metadata": {
    "application/vnd.databricks.v1+cell": {
     "cellMetadata": {},
     "inputWidgets": {},
     "nuid": "e667b8a3-0577-46d5-bae2-227f1c860719",
     "showTitle": false,
     "title": ""
    }
   },
   "outputs": [],
   "source": [
    "import numpy as np\n",
    "import pandas as pd\n",
    "from io import StringIO"
   ]
  },
  {
   "cell_type": "markdown",
   "metadata": {
    "application/vnd.databricks.v1+cell": {
     "cellMetadata": {},
     "inputWidgets": {},
     "nuid": "330aee52-6015-4883-8f80-9ceffe185890",
     "showTitle": false,
     "title": ""
    }
   },
   "source": [
    "Creating some data with missing values"
   ]
  },
  {
   "cell_type": "code",
   "execution_count": 0,
   "metadata": {
    "application/vnd.databricks.v1+cell": {
     "cellMetadata": {},
     "inputWidgets": {},
     "nuid": "0d6625cc-8dae-46bc-8a3a-797f57d99559",
     "showTitle": false,
     "title": ""
    }
   },
   "outputs": [],
   "source": [
    "csvdata = '''\n",
    "A,B,C,D,E\n",
    "1,2,3,4,\n",
    "5,6,,8,\n",
    "0,,11,12,13\n",
    "'''\n",
    "\n",
    "df = pd.read_csv(StringIO(csvdata))\n",
    "df"
   ]
  },
  {
   "cell_type": "markdown",
   "metadata": {
    "application/vnd.databricks.v1+cell": {
     "cellMetadata": {},
     "inputWidgets": {},
     "nuid": "bebbc2b1-2d8b-4a6a-8006-70b6c4ee8326",
     "showTitle": false,
     "title": ""
    }
   },
   "source": [
    "Radical choice: delete whole column"
   ]
  },
  {
   "cell_type": "code",
   "execution_count": 0,
   "metadata": {
    "application/vnd.databricks.v1+cell": {
     "cellMetadata": {},
     "inputWidgets": {},
     "nuid": "245a1e0e-17e3-4229-990b-7019e9a42992",
     "showTitle": false,
     "title": ""
    }
   },
   "outputs": [],
   "source": [
    "df.drop([\"E\"], axis=1, inplace=True)\n",
    "df"
   ]
  },
  {
   "cell_type": "markdown",
   "metadata": {
    "application/vnd.databricks.v1+cell": {
     "cellMetadata": {},
     "inputWidgets": {},
     "nuid": "7cc1ad08-4c31-4c3c-a889-1856e6a52c3d",
     "showTitle": false,
     "title": ""
    }
   },
   "source": [
    "Recreating"
   ]
  },
  {
   "cell_type": "code",
   "execution_count": 0,
   "metadata": {
    "application/vnd.databricks.v1+cell": {
     "cellMetadata": {},
     "inputWidgets": {},
     "nuid": "a27e26b1-b8e5-4df7-b5b8-79ee745ccde5",
     "showTitle": false,
     "title": ""
    }
   },
   "outputs": [],
   "source": [
    "df = pd.read_csv(StringIO(csvdata))\n",
    "df"
   ]
  },
  {
   "cell_type": "markdown",
   "metadata": {
    "application/vnd.databricks.v1+cell": {
     "cellMetadata": {},
     "inputWidgets": {},
     "nuid": "c74f60cb-077c-4dea-a59b-7bc3702b01e6",
     "showTitle": false,
     "title": ""
    }
   },
   "source": [
    "Less Radical: delete rows with missing values on \"C\" column"
   ]
  },
  {
   "cell_type": "code",
   "execution_count": 0,
   "metadata": {
    "application/vnd.databricks.v1+cell": {
     "cellMetadata": {},
     "inputWidgets": {},
     "nuid": "ba25b006-00f8-4619-8f6b-654047a26d4b",
     "showTitle": false,
     "title": ""
    }
   },
   "outputs": [],
   "source": [
    "df.dropna(axis=0, how='any', thresh=None, subset=[\"C\"], inplace=True)\n",
    "df"
   ]
  },
  {
   "cell_type": "markdown",
   "metadata": {
    "application/vnd.databricks.v1+cell": {
     "cellMetadata": {},
     "inputWidgets": {},
     "nuid": "6563a08a-18cf-4c6d-8c23-44633da8fe90",
     "showTitle": false,
     "title": ""
    }
   },
   "source": [
    "If you do not specify the columns, it will delete every row with any missing value"
   ]
  },
  {
   "cell_type": "code",
   "execution_count": 0,
   "metadata": {
    "application/vnd.databricks.v1+cell": {
     "cellMetadata": {},
     "inputWidgets": {},
     "nuid": "5c9f35f8-a10d-4f38-8638-b8b4512695cf",
     "showTitle": false,
     "title": ""
    }
   },
   "outputs": [],
   "source": [
    "df.dropna(axis=0, how='any', thresh=None, subset=None, inplace=True)\n",
    "df"
   ]
  },
  {
   "cell_type": "markdown",
   "metadata": {
    "application/vnd.databricks.v1+cell": {
     "cellMetadata": {},
     "inputWidgets": {},
     "nuid": "3288a8ce-1f9b-4172-a04d-a56c9dec23fe",
     "showTitle": false,
     "title": ""
    }
   },
   "source": [
    "Imputing with scikit-learn"
   ]
  },
  {
   "cell_type": "code",
   "execution_count": 0,
   "metadata": {
    "application/vnd.databricks.v1+cell": {
     "cellMetadata": {},
     "inputWidgets": {},
     "nuid": "1fb7a2c8-e5cb-419c-99ab-0fb85b129bf9",
     "showTitle": false,
     "title": ""
    }
   },
   "outputs": [],
   "source": [
    "from sklearn.impute import SimpleImputer"
   ]
  },
  {
   "cell_type": "code",
   "execution_count": 0,
   "metadata": {
    "application/vnd.databricks.v1+cell": {
     "cellMetadata": {},
     "inputWidgets": {},
     "nuid": "3dd53cb2-0351-4916-85bb-32ec590d02e6",
     "showTitle": false,
     "title": ""
    }
   },
   "outputs": [],
   "source": [
    "df = pd.read_csv(StringIO(csvdata))\n",
    "df"
   ]
  },
  {
   "cell_type": "markdown",
   "metadata": {
    "application/vnd.databricks.v1+cell": {
     "cellMetadata": {},
     "inputWidgets": {},
     "nuid": "202338f7-906f-4ebb-96a7-b596ebc4eaab",
     "showTitle": false,
     "title": ""
    }
   },
   "source": [
    "Imputing mean values"
   ]
  },
  {
   "cell_type": "code",
   "execution_count": 0,
   "metadata": {
    "application/vnd.databricks.v1+cell": {
     "cellMetadata": {},
     "inputWidgets": {},
     "nuid": "dc93935e-b69c-40b9-9698-8d96266da375",
     "showTitle": false,
     "title": ""
    }
   },
   "outputs": [],
   "source": [
    "imp = SimpleImputer(missing_values=np.nan, strategy='mean')\n",
    "imp.fit(df[\"C\"].values.reshape(-1,1))\n",
    "df[\"C\"] = imp.transform(df[\"C\"].values.reshape(-1,1))\n",
    "df"
   ]
  },
  {
   "cell_type": "code",
   "execution_count": 0,
   "metadata": {
    "application/vnd.databricks.v1+cell": {
     "cellMetadata": {},
     "inputWidgets": {},
     "nuid": "86d97231-9901-4560-86b2-e2c0be936f8c",
     "showTitle": false,
     "title": ""
    }
   },
   "outputs": [],
   "source": [
    "df = pd.read_csv(StringIO(csvdata))\n",
    "df"
   ]
  },
  {
   "cell_type": "markdown",
   "metadata": {
    "application/vnd.databricks.v1+cell": {
     "cellMetadata": {},
     "inputWidgets": {},
     "nuid": "b7f7315e-9c32-4711-86c6-f487682f9c26",
     "showTitle": false,
     "title": ""
    }
   },
   "source": [
    "Imputing a constant value"
   ]
  },
  {
   "cell_type": "code",
   "execution_count": 0,
   "metadata": {
    "application/vnd.databricks.v1+cell": {
     "cellMetadata": {},
     "inputWidgets": {},
     "nuid": "bd78f87c-206f-4e6c-abf9-288c49e57c39",
     "showTitle": false,
     "title": ""
    }
   },
   "outputs": [],
   "source": [
    "imp = SimpleImputer(missing_values=np.nan, fill_value=200, strategy='constant')\n",
    "imp.fit(df[\"C\"].values.reshape(-1,1))\n",
    "df[\"C\"] = imp.transform(df[\"C\"].values.reshape(-1,1))\n",
    "df"
   ]
  },
  {
   "cell_type": "code",
   "execution_count": 0,
   "metadata": {
    "application/vnd.databricks.v1+cell": {
     "cellMetadata": {},
     "inputWidgets": {},
     "nuid": "fa14a1e7-8eb9-496d-9d23-e165cb1bb006",
     "showTitle": false,
     "title": ""
    }
   },
   "outputs": [],
   "source": [
    "df = pd.read_csv(StringIO(csvdata))\n",
    "df"
   ]
  },
  {
   "cell_type": "markdown",
   "metadata": {
    "application/vnd.databricks.v1+cell": {
     "cellMetadata": {},
     "inputWidgets": {},
     "nuid": "93abb0ea-44cc-498e-8cb7-ec08d6002f0b",
     "showTitle": false,
     "title": ""
    }
   },
   "source": [
    "Interactive imputing (experimental)"
   ]
  },
  {
   "cell_type": "code",
   "execution_count": 0,
   "metadata": {
    "application/vnd.databricks.v1+cell": {
     "cellMetadata": {},
     "inputWidgets": {},
     "nuid": "30c24b49-43a1-4e28-b81e-196d2643e0bf",
     "showTitle": false,
     "title": ""
    }
   },
   "outputs": [],
   "source": [
    "from sklearn.experimental import enable_iterative_imputer\n",
    "from sklearn.impute import IterativeImputer"
   ]
  },
  {
   "cell_type": "code",
   "execution_count": 0,
   "metadata": {
    "application/vnd.databricks.v1+cell": {
     "cellMetadata": {},
     "inputWidgets": {},
     "nuid": "cd2c3797-a652-4e94-9e2e-c4bb425fe286",
     "showTitle": false,
     "title": ""
    }
   },
   "outputs": [],
   "source": [
    "imp_mean = IterativeImputer(random_state=0)\n",
    "imp_mean.fit(df)\n",
    "columns = df.columns\n",
    "df = pd.DataFrame(imp_mean.transform(df), columns=columns)\n",
    "df"
   ]
  }
 ],
 "metadata": {
  "application/vnd.databricks.v1+notebook": {
   "dashboards": [],
   "language": "python",
   "notebookMetadata": {},
   "notebookName": "2a_ScikitLearn_Imputing_Data",
   "notebookOrigID": 706562957546806,
   "widgets": {}
  }
 },
 "nbformat": 4,
 "nbformat_minor": 0
}
