{
 "cells": [
  {
   "cell_type": "markdown",
   "metadata": {
    "application/vnd.databricks.v1+cell": {
     "cellMetadata": {
      "byteLimit": 2048000,
      "rowLimit": 10000
     },
     "inputWidgets": {},
     "nuid": "ef1f7f82-3d69-47b3-ade3-2233dfe654d5",
     "showTitle": false,
     "title": ""
    }
   },
   "source": [
    "# Exploring Feature Types\n",
    "\n",
    "In this notebook we will be using Titanic dataset containing 891 records of passengers on board and 12 features such as their age, travel class and the ticket's fare. One step at a time we'll inspect continuous and categorical feature types with the help of visualizations. \n",
    "\n",
    "Firstly, we import necessary libraries and load the data using Pandas."
   ]
  },
  {
   "cell_type": "code",
   "execution_count": 0,
   "metadata": {
    "application/vnd.databricks.v1+cell": {
     "cellMetadata": {
      "byteLimit": 2048000,
      "rowLimit": 10000
     },
     "inputWidgets": {},
     "nuid": "8b41e602-0ca7-4069-8ab5-d3afbf52f82f",
     "showTitle": false,
     "title": ""
    }
   },
   "outputs": [],
   "source": [
    "# Importing Pandas, Matplotlib and Seaborn libraries\n",
    "import pandas as pd\n",
    "import matplotlib.pyplot as plt\n",
    "import seaborn as sns\n",
    "sns.set_style(\"dark\")"
   ]
  },
  {
   "cell_type": "code",
   "execution_count": 0,
   "metadata": {
    "application/vnd.databricks.v1+cell": {
     "cellMetadata": {
      "byteLimit": 2048000,
      "rowLimit": 10000
     },
     "inputWidgets": {},
     "nuid": "73045e83-0c66-4d42-b1b7-d70807c51f61",
     "showTitle": false,
     "title": ""
    }
   },
   "outputs": [],
   "source": [
    "# Load the dataset 'Data/titanic_data.csv' and store it to variable data\n",
    "data = pd.read_csv('../../../Data/titanic_data.csv')\n",
    "\n",
    "# Get first 10 rows of the data\n",
    "data.head(10)"
   ]
  },
  {
   "cell_type": "markdown",
   "metadata": {
    "application/vnd.databricks.v1+cell": {
     "cellMetadata": {
      "byteLimit": 2048000,
      "rowLimit": 10000
     },
     "inputWidgets": {},
     "nuid": "0be12e6c-1c74-4709-a496-c52fbbd4bf75",
     "showTitle": false,
     "title": ""
    }
   },
   "source": [
    "Take a look at the first ten rows and read through the explanation below to understand what each feature represents.\n",
    "\n",
    "- **passengerID**\n",
    "- **Name**\n",
    "- **Sex**\n",
    "- **Age**\n",
    "- **Survived** – not survived = 0, survived = 1, (target feature)\n",
    "- **Pclass** – ticket class = 1st, 2nd, 3rd\n",
    "- **SibSp** – number of siblings or spouses aboard the Titanic\n",
    "- **Parch** – number of parents or children aboard the Titanic\n",
    "- **Ticket** – ticket number\n",
    "- **Fare** – ticket fare\n",
    "- **Cabin** – cabin number\n",
    "- **Embarked** – port of embarkation (C = Cherbourg, Q = Queenstown, S = Southampton)"
   ]
  },
  {
   "cell_type": "markdown",
   "metadata": {
    "application/vnd.databricks.v1+cell": {
     "cellMetadata": {
      "byteLimit": 2048000,
      "rowLimit": 10000
     },
     "inputWidgets": {},
     "nuid": "c94f6430-7403-4297-8a36-40b1a0b84a61",
     "showTitle": false,
     "title": ""
    }
   },
   "source": [
    "# 1. Numerical Features\n",
    "\n",
    "## 1.1 Unbounded continuous type\n",
    "One of the numerical feature is 'Fare' representing the price that a passenger paid for the ticket. The price starts at zero and continuously increases within a specific range. This is the example of *unbounded* continuous feature type because the number can takes any value including decimal numbers with a fractional part."
   ]
  },
  {
   "cell_type": "code",
   "execution_count": 0,
   "metadata": {
    "application/vnd.databricks.v1+cell": {
     "cellMetadata": {
      "byteLimit": 2048000,
      "rowLimit": 10000
     },
     "inputWidgets": {},
     "nuid": "a46826be-ccfe-4ca8-8fde-99a2ab028abc",
     "showTitle": false,
     "title": ""
    }
   },
   "outputs": [],
   "source": [
    "# Creating a histogram of 'Fare' \n",
    "sns.histplot(data = data, x = 'Fare', binwidth = 15)\n",
    "plt.title(\"Distribution of passenger's fare\");"
   ]
  },
  {
   "cell_type": "markdown",
   "metadata": {
    "application/vnd.databricks.v1+cell": {
     "cellMetadata": {
      "byteLimit": 2048000,
      "rowLimit": 10000
     },
     "inputWidgets": {},
     "nuid": "36e0730c-6170-474c-88bf-befaec13095a",
     "showTitle": false,
     "title": ""
    }
   },
   "source": [
    "The next numerical continuous feature is 'Age'. The other characteristic of a continuous feature is that it can be *measured*, as we can measure the age in years, for example. Let's create a boxplot to see its distribution."
   ]
  },
  {
   "cell_type": "code",
   "execution_count": 0,
   "metadata": {
    "application/vnd.databricks.v1+cell": {
     "cellMetadata": {
      "byteLimit": 2048000,
      "rowLimit": 10000
     },
     "inputWidgets": {},
     "nuid": "9f40c658-c825-46b0-bfab-d75f3b988413",
     "showTitle": false,
     "title": ""
    }
   },
   "outputs": [],
   "source": [
    "# Creating a boxplot of 'Age'\n",
    "sns.boxplot(data=data, x = 'Age',color ='r');"
   ]
  },
  {
   "cell_type": "markdown",
   "metadata": {
    "application/vnd.databricks.v1+cell": {
     "cellMetadata": {
      "byteLimit": 2048000,
      "rowLimit": 10000
     },
     "inputWidgets": {},
     "nuid": "a7f2a82b-bc03-4fef-a556-995dc113e370",
     "showTitle": false,
     "title": ""
    }
   },
   "source": [
    "## 1.2 Unbounded discrete type\n",
    "\n",
    "The feature 'SibSp' represents family relations as siblings or spouses. We can treat this feature as _discrete_ since the number is always some integer value – logically, you can't report that you have 2.5 sisters.\n",
    "\n",
    "When we call `value_counts()` function on the 'SibSp' column, we get all of the unique values along with corresponding counts."
   ]
  },
  {
   "cell_type": "code",
   "execution_count": 0,
   "metadata": {
    "application/vnd.databricks.v1+cell": {
     "cellMetadata": {
      "byteLimit": 2048000,
      "rowLimit": 10000
     },
     "inputWidgets": {},
     "nuid": "c9d35ada-c701-44b3-91b1-7c235d50b3fe",
     "showTitle": false,
     "title": ""
    }
   },
   "outputs": [],
   "source": [
    "# Get the counts of unique values of 'SibSp'\n",
    "data['SibSp'].value_counts()"
   ]
  },
  {
   "cell_type": "markdown",
   "metadata": {
    "application/vnd.databricks.v1+cell": {
     "cellMetadata": {
      "byteLimit": 2048000,
      "rowLimit": 10000
     },
     "inputWidgets": {},
     "nuid": "9bd5e445-ad2f-498d-a79a-2d909351b400",
     "showTitle": false,
     "title": ""
    }
   },
   "source": [
    "When we visualize such a discrete feature, let's say with a countplot, each bar represents a unique integer value with respective count of records. There is no overlapping between these fixed values because they are counted, not measured."
   ]
  },
  {
   "cell_type": "code",
   "execution_count": 0,
   "metadata": {
    "application/vnd.databricks.v1+cell": {
     "cellMetadata": {
      "byteLimit": 2048000,
      "rowLimit": 10000
     },
     "inputWidgets": {},
     "nuid": "02c66e87-27df-4fb3-8951-f36c4bfff19f",
     "showTitle": false,
     "title": ""
    }
   },
   "outputs": [],
   "source": [
    "# Creating a countplot of 'SibSp'\n",
    "sns.countplot(data = data, x = 'SibSp', color = 'darkgreen')\n",
    "plt.title('Number of parents or children');"
   ]
  },
  {
   "cell_type": "markdown",
   "metadata": {
    "application/vnd.databricks.v1+cell": {
     "cellMetadata": {
      "byteLimit": 2048000,
      "rowLimit": 10000
     },
     "inputWidgets": {},
     "nuid": "fcdf9d18-5a94-4f3e-94a9-4c4c23878801",
     "showTitle": false,
     "title": ""
    }
   },
   "source": [
    "# 2. Categorical Features\n",
    "\n",
    "Categorical features contain a set of distinct categories (also called _labels_), while each category can takes only one limited and fixed value. As you saw in the preceding lesson, categorical features are divided into two 'subtypes' based on whether their values have order or not. \n",
    "\n",
    "## 2.1 Ordinal categorical features\n",
    "\n",
    "Let's take as an example 'Pclass' feature that holds information on the ticket class each passenger paid for: 1st, 2nd or 3rd class. These travel classes reflect socioeconomic status of the passengers aboard. They have the specific order and can be related to the target feature. Were the wealthiest passengers travelling in the first class more likely to survive? Or is class of no importance in terms of survival? \n",
    "\n",
    "Ordinal categorical features can be either numeric values or labels. Still, it would be nice to keep the information about order of values and present it to the predictive model. This would be the additional information that can make the model's predictions better."
   ]
  },
  {
   "cell_type": "code",
   "execution_count": 0,
   "metadata": {
    "application/vnd.databricks.v1+cell": {
     "cellMetadata": {
      "byteLimit": 2048000,
      "rowLimit": 10000
     },
     "inputWidgets": {},
     "nuid": "3706f8ed-c7ce-4950-a53c-0b3bcabee3dc",
     "showTitle": false,
     "title": ""
    }
   },
   "outputs": [],
   "source": [
    "# Get the counts of unique values of 'Pclass'\n",
    "data.Pclass.value_counts()"
   ]
  },
  {
   "cell_type": "code",
   "execution_count": 0,
   "metadata": {
    "application/vnd.databricks.v1+cell": {
     "cellMetadata": {
      "byteLimit": 2048000,
      "rowLimit": 10000
     },
     "inputWidgets": {},
     "nuid": "c60a5e9c-d8fc-4083-9ed8-71436259dcfd",
     "showTitle": false,
     "title": ""
    }
   },
   "outputs": [],
   "source": [
    "# Creating a countplot of 'Pclass'\n",
    "sns.countplot(data = data, x = 'Pclass', color = 'violet');"
   ]
  },
  {
   "cell_type": "markdown",
   "metadata": {
    "application/vnd.databricks.v1+cell": {
     "cellMetadata": {
      "byteLimit": 2048000,
      "rowLimit": 10000
     },
     "inputWidgets": {},
     "nuid": "eff7913c-6c07-4d50-8263-a9cb67dd27e3",
     "showTitle": false,
     "title": ""
    }
   },
   "source": [
    "## 2.2 Non-ordinal categorical features\n",
    "The second 'subtype' of categorical features are non-ordinal features. Let's take as an example the feature 'Embarked'. It contains information about port of embarkation, namely Cherbourg, Queenstown and Southampton. So these are specific categories without any order or relationship among them."
   ]
  },
  {
   "cell_type": "code",
   "execution_count": 0,
   "metadata": {
    "application/vnd.databricks.v1+cell": {
     "cellMetadata": {
      "byteLimit": 2048000,
      "rowLimit": 10000
     },
     "inputWidgets": {},
     "nuid": "b3ce5f90-f54a-42b6-ab7e-a6d2e893a2f2",
     "showTitle": false,
     "title": ""
    }
   },
   "outputs": [],
   "source": [
    "# Get the categories of 'Embarked' \n",
    "data['Embarked'].value_counts()"
   ]
  },
  {
   "cell_type": "code",
   "execution_count": 0,
   "metadata": {
    "application/vnd.databricks.v1+cell": {
     "cellMetadata": {
      "byteLimit": 2048000,
      "rowLimit": 10000
     },
     "inputWidgets": {},
     "nuid": "10973e7d-fc4d-4e6d-87b9-9abe8c808645",
     "showTitle": false,
     "title": ""
    }
   },
   "outputs": [],
   "source": [
    "# Creating a countplot of 'Embarked'\n",
    "sns.countplot(data = data, x = 'Embarked', color = 'lightblue');"
   ]
  },
  {
   "cell_type": "markdown",
   "metadata": {
    "application/vnd.databricks.v1+cell": {
     "cellMetadata": {
      "byteLimit": 2048000,
      "rowLimit": 10000
     },
     "inputWidgets": {},
     "nuid": "b0ccc020-ef0b-4de5-bb16-41da959e4853",
     "showTitle": false,
     "title": ""
    }
   },
   "source": [
    "## 2.3 Binary categorical features\n",
    "\n",
    "Binary categorical features are a special type of categorical features which take only 2 values. For example, the 'Survived' feature in our dataset contains just 2 values: 0 and 1."
   ]
  },
  {
   "cell_type": "code",
   "execution_count": 0,
   "metadata": {
    "application/vnd.databricks.v1+cell": {
     "cellMetadata": {
      "byteLimit": 2048000,
      "rowLimit": 10000
     },
     "inputWidgets": {},
     "nuid": "0bc3e3f6-c4fe-48c7-a585-2c62ef66d143",
     "showTitle": false,
     "title": ""
    }
   },
   "outputs": [],
   "source": [
    "# Get the unique values of 'Survived' column\n",
    "data['Survived'].unique()"
   ]
  },
  {
   "cell_type": "code",
   "execution_count": 0,
   "metadata": {
    "application/vnd.databricks.v1+cell": {
     "cellMetadata": {
      "byteLimit": 2048000,
      "rowLimit": 10000
     },
     "inputWidgets": {},
     "nuid": "5b14518a-e58b-4e09-a02a-6fae13bc49f4",
     "showTitle": false,
     "title": ""
    }
   },
   "outputs": [],
   "source": [
    "# Creating a countplot of 'Survived' \n",
    "sns.countplot(data = data, x = 'Survived', color = 'violet');"
   ]
  },
  {
   "cell_type": "markdown",
   "metadata": {
    "application/vnd.databricks.v1+cell": {
     "cellMetadata": {
      "byteLimit": 2048000,
      "rowLimit": 10000
     },
     "inputWidgets": {},
     "nuid": "bbb33a5e-9d30-490e-b765-b035857566db",
     "showTitle": false,
     "title": ""
    }
   },
   "source": [
    "# Appendix\n",
    "\n",
    "Data source: https://www.kaggle.com/hesh97/titanicdataset-traincsv\n",
    "\n",
    "Data license: CC0: Public Domain\n",
    "\n",
    "Material adapted for RBI internal purposes with full permissions from original authors. [Source](https://github.com/zatkopatrik/authentic-data-science)"
   ]
  }
 ],
 "metadata": {
  "application/vnd.databricks.v1+notebook": {
   "dashboards": [],
   "language": "python",
   "notebookMetadata": {
    "pythonIndentUnit": 4
   },
   "notebookName": "1a_Practicing_With_Feature_Types_jupyter",
   "widgets": {}
  }
 },
 "nbformat": 4,
 "nbformat_minor": 0
}
