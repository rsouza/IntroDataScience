{
 "cells": [
  {
   "cell_type": "markdown",
   "metadata": {
    "application/vnd.databricks.v1+cell": {
     "cellMetadata": {},
     "inputWidgets": {},
     "nuid": "94ae44bb-dced-473f-88df-c2d5325e9348",
     "showTitle": false,
     "title": ""
    }
   },
   "source": [
    "# 0. Loading libraries and Classes"
   ]
  },
  {
   "cell_type": "code",
   "execution_count": 0,
   "metadata": {
    "application/vnd.databricks.v1+cell": {
     "cellMetadata": {},
     "inputWidgets": {},
     "nuid": "dfdeccb8-c6f3-4451-ae05-96bc98eeee6b",
     "showTitle": false,
     "title": ""
    }
   },
   "outputs": [],
   "source": [
    "# Import pandas and numpy libraries\n",
    "import pandas as pd\n",
    "\n",
    "import warnings\n",
    "warnings.simplefilter(\"ignore\")\n",
    "\n",
    "from IPython.display import Image\n",
    "\n",
    "# Import train_test_split to separate train and test set\n",
    "from sklearn.model_selection import train_test_split\n",
    "# Import OneHotEncoder for one hot encoding \n",
    "from sklearn.preprocessing import OneHotEncoder\n",
    "# Import LabelEncoder for target feature encoding\n",
    "from sklearn.preprocessing import LabelEncoder"
   ]
  },
  {
   "cell_type": "markdown",
   "metadata": {
    "application/vnd.databricks.v1+cell": {
     "cellMetadata": {},
     "inputWidgets": {},
     "nuid": "e045acab-cf20-4c35-8ec7-93d1daed4676",
     "showTitle": false,
     "title": ""
    }
   },
   "source": [
    "### Why should we use Encoding ? \n",
    "\n",
    "As we already know, we can't throw the data right away into machine learning models. We need to treat them in a specific way so our model's algorithm can work with them. **Machine learning algorithm work with vectors of numbers**, so when it comes to values represented as a string there is an issue. `scikit learn`, an industry-standard library used for machine learning, does not accept categorical values represented as strings as well.\n",
    "\n",
    "Imagine we have categorical variables stored as string in the dataset. For understanding what the encoding looks like, here's a simple example."
   ]
  },
  {
   "cell_type": "code",
   "execution_count": 0,
   "metadata": {
    "application/vnd.databricks.v1+cell": {
     "cellMetadata": {},
     "inputWidgets": {},
     "nuid": "7b0d871a-df6b-429d-a375-3e9145b1bfd3",
     "showTitle": false,
     "title": ""
    }
   },
   "outputs": [],
   "source": [
    "# Run this code\n",
    "dataframe = pd.DataFrame({'id': range(8), 'amount': [15,85,17,22,56,84,15,48],\n",
    "                          'color':['black','white','black','black','white','white','black','black'],\n",
    "                          })\n",
    "mapping = {'black': 1,\n",
    "          'white':0}\n",
    "# Mapping values\n",
    "mapped_df = dataframe['color'].map(mapping)\n",
    "# Comparison\n",
    "map_dataframe = pd.concat([dataframe, mapped_df], axis = 1)\n",
    "map_dataframe"
   ]
  },
  {
   "cell_type": "markdown",
   "metadata": {
    "application/vnd.databricks.v1+cell": {
     "cellMetadata": {},
     "inputWidgets": {},
     "nuid": "5aa3c3ee-69fb-4090-b129-d774ca8379f7",
     "showTitle": false,
     "title": ""
    }
   },
   "source": [
    "The unique categories of the 'color' column have been converted into numerical form as 1 when the 'black' category is present and 0 otherwise. Of course, encoding categorical features using mapping or replacing can be very tedious and not effective if we have many categorical features and corresponding categories. Fortunately, you can find several encoding methods that serve for different encoding challenges.\n",
    "\n",
    "-------\n",
    "\n",
    "Categorical variables take only a limited number of possible values/categories and must be converted into numerical form. We should perform this conversion over the **training data** and propagate them to the unseen data (for example holdout data). \n",
    "\n",
    "**The main reason for this approach is that we do not know whether the future data will have all the categories present in the training data**. There could also be fewer or more categories. Therefore the encoders must learn patterns from the training data and use those learned categories in both training and testing sets."
   ]
  },
  {
   "cell_type": "markdown",
   "metadata": {
    "application/vnd.databricks.v1+cell": {
     "cellMetadata": {},
     "inputWidgets": {},
     "nuid": "36e1c8c1-68a1-4818-9335-bcf6146b4c13",
     "showTitle": false,
     "title": ""
    }
   },
   "source": [
    "In this notebook we will use the Titanic and the Mushrooms datasets. "
   ]
  },
  {
   "cell_type": "code",
   "execution_count": 0,
   "metadata": {
    "application/vnd.databricks.v1+cell": {
     "cellMetadata": {},
     "inputWidgets": {},
     "nuid": "3e9f05dd-a3a8-48ec-aa60-24540b86e87b",
     "showTitle": false,
     "title": ""
    }
   },
   "outputs": [],
   "source": [
    "# Load Titanic dataset using columns 'Survived','Sex','Embarked','Cabin' and store it in 'data'\n",
    "data = pd.read_csv('../../../Data/titanic_data.csv', usecols = ['Survived','Sex','Embarked','Cabin'])\n",
    "data.head()"
   ]
  },
  {
   "cell_type": "markdown",
   "metadata": {
    "application/vnd.databricks.v1+cell": {
     "cellMetadata": {},
     "inputWidgets": {},
     "nuid": "bb46c6a0-0fcf-4c15-9117-893284809c27",
     "showTitle": false,
     "title": ""
    }
   },
   "source": [
    "For this demonstration, let's capture only the first letter of 'Cabin'."
   ]
  },
  {
   "cell_type": "code",
   "execution_count": 0,
   "metadata": {
    "application/vnd.databricks.v1+cell": {
     "cellMetadata": {},
     "inputWidgets": {},
     "nuid": "5f1d843c-e775-4a5f-ba1b-4df6ebc787a6",
     "showTitle": false,
     "title": ""
    }
   },
   "outputs": [],
   "source": [
    "# Capture only first letter of Cabin using .str[0] \n",
    "data['Cabin'] = data['Cabin'].str[0]\n",
    "data.head()"
   ]
  },
  {
   "cell_type": "markdown",
   "metadata": {
    "application/vnd.databricks.v1+cell": {
     "cellMetadata": {},
     "inputWidgets": {},
     "nuid": "e06b68ce-834c-410e-bdd7-51849b6c1f3a",
     "showTitle": false,
     "title": ""
    }
   },
   "source": [
    "Now we split our data into training and testing set."
   ]
  },
  {
   "cell_type": "code",
   "execution_count": 0,
   "metadata": {
    "application/vnd.databricks.v1+cell": {
     "cellMetadata": {},
     "inputWidgets": {},
     "nuid": "59408c36-99f6-4bdb-a38e-b8f1ac2983cd",
     "showTitle": false,
     "title": ""
    }
   },
   "outputs": [],
   "source": [
    "# Separate the DataFrame into training and testing set\n",
    "X_train, X_test, y_train, y_test = train_test_split(data[['Sex', 'Embarked','Cabin']],  \n",
    "                                                    data['Survived'],  \n",
    "                                                    test_size = 0.3,  \n",
    "                                                    random_state = 42)\n",
    "# Get the shape of training and testing set\n",
    "X_train.shape, X_test.shape"
   ]
  },
  {
   "cell_type": "markdown",
   "metadata": {
    "application/vnd.databricks.v1+cell": {
     "cellMetadata": {},
     "inputWidgets": {},
     "nuid": "e6a28ed8-ac16-43b7-863e-798d5e15c4d2",
     "showTitle": false,
     "title": ""
    }
   },
   "source": [
    "### Cardinality of the categorical features\n",
    "\n",
    "Let's explore how many unique values each of the categorical features has."
   ]
  },
  {
   "cell_type": "code",
   "execution_count": 0,
   "metadata": {
    "application/vnd.databricks.v1+cell": {
     "cellMetadata": {},
     "inputWidgets": {},
     "nuid": "b1eefa76-e2f4-4c26-b0e5-7bfd5c6414a4",
     "showTitle": false,
     "title": ""
    }
   },
   "outputs": [],
   "source": [
    "# Get the unique values of categorical features\n",
    "for column in X_train.columns:\n",
    "    print(column)\n",
    "    print(X_train[column].unique())"
   ]
  },
  {
   "cell_type": "markdown",
   "metadata": {
    "application/vnd.databricks.v1+cell": {
     "cellMetadata": {},
     "inputWidgets": {},
     "nuid": "97a566a4-57c8-4fbc-b354-1931056641b6",
     "showTitle": false,
     "title": ""
    }
   },
   "source": [
    "We'll look at the methods for encoding these categories and how these methods handle missing values present in the data."
   ]
  },
  {
   "cell_type": "markdown",
   "metadata": {
    "application/vnd.databricks.v1+cell": {
     "cellMetadata": {},
     "inputWidgets": {},
     "nuid": "bfddc8f0-6f3a-478b-b107-0e6dc0331273",
     "showTitle": false,
     "title": ""
    }
   },
   "source": [
    "\n",
    "# 1. One-Hot Encoding with Pandas\n",
    "\n",
    "We can use Pandas method\n",
    "[`pd.get_dummies()`](https://pandas.pydata.org/pandas-docs/stable/reference/api/pandas.get_dummies.html)\n",
    "to encode the categorical features.\n",
    "In the real world this encoding method shouldn't be used in ML pipelines (computationally and memory ineffective).\n",
    "However, in the case of some simple data analysis you should be able to use it.\n",
    "We'll look at how it works and what its advantages and limitations are."
   ]
  },
  {
   "cell_type": "code",
   "execution_count": 0,
   "metadata": {
    "application/vnd.databricks.v1+cell": {
     "cellMetadata": {},
     "inputWidgets": {},
     "nuid": "9afef809-dd63-4bfd-bf76-8605779788b2",
     "showTitle": false,
     "title": ""
    }
   },
   "outputs": [],
   "source": [
    "# Get the dummy variables of feature 'Sex' using pd.get_dummies() \n",
    "dummies = pd.get_dummies(X_train['Sex'])\n",
    "dummies.head()"
   ]
  },
  {
   "cell_type": "code",
   "execution_count": 0,
   "metadata": {
    "application/vnd.databricks.v1+cell": {
     "cellMetadata": {},
     "inputWidgets": {},
     "nuid": "cbdbc5e9-6b6a-49c8-a941-abcad245bd73",
     "showTitle": false,
     "title": ""
    }
   },
   "outputs": [],
   "source": [
    "type(dummies)"
   ]
  },
  {
   "cell_type": "markdown",
   "metadata": {
    "application/vnd.databricks.v1+cell": {
     "cellMetadata": {},
     "inputWidgets": {},
     "nuid": "1a26ca4b-3929-4ecf-a057-179d18c3eb3e",
     "showTitle": false,
     "title": ""
    }
   },
   "source": [
    "The main advantages are that\n",
    "[`get_dummies()`](https://pandas.pydata.org/pandas-docs/stable/reference/api/pandas.get_dummies.html)\n",
    "returns a DataFrame and preserves feature names for dummy variables.\n",
    "Also, we can use this method even if our data contains missing values. \n",
    "\n",
    "In this example it has created one column for the female category and one column for the male category according to its presence.\n",
    "We can compare the created dummy variables to the original 'Sex' variable using concatenation to see what happened."
   ]
  },
  {
   "cell_type": "code",
   "execution_count": 0,
   "metadata": {
    "application/vnd.databricks.v1+cell": {
     "cellMetadata": {},
     "inputWidgets": {},
     "nuid": "d8a4eff0-c14d-40cb-9423-16193789a83e",
     "showTitle": false,
     "title": ""
    }
   },
   "outputs": [],
   "source": [
    "# Concat the original Series 'Sex' from X_train with created dummy variables Series\n",
    "result = pd.concat([X_train['Sex'], pd.get_dummies(X_train['Sex'])], axis = 1)\n",
    "result"
   ]
  },
  {
   "cell_type": "code",
   "execution_count": 0,
   "metadata": {
    "application/vnd.databricks.v1+cell": {
     "cellMetadata": {},
     "inputWidgets": {},
     "nuid": "76b5232d-0356-467f-b9b4-ab9d6b613dff",
     "showTitle": false,
     "title": ""
    }
   },
   "outputs": [],
   "source": [
    "# TASK 1 >>>> Get dummy variables for the column 'Embarked'\n",
    "#             Concat the original 'Embarked' Series with the created dummy variables Series\n",
    "#             Store it in the variable result_2\n",
    "\n",
    "result_2 = pd.concat([X_train['Embarked'], pd.get_dummies(X_train['Embarked'])], axis = 1)\n",
    "result_2"
   ]
  },
  {
   "cell_type": "markdown",
   "metadata": {
    "application/vnd.databricks.v1+cell": {
     "cellMetadata": {},
     "inputWidgets": {},
     "nuid": "23f3793c-50be-4a48-ae32-bbad03c3d8cd",
     "showTitle": false,
     "title": ""
    }
   },
   "source": [
    "**Encoding into *k*-1 dummy variables**\n",
    "\n",
    "Categorical variables should be encoded by creating *k*-1 binary variables. What does it mean, and why should we use it? \n",
    "\n",
    "Here *k* represents the number of distinct categories. In the feature 'Sex' there are only two categories of sex: male or female, so *k* = 2. We only need to create one binary variable (*k*-1 = 1) and still have all the information contained in the original dataset. In other words, if the value is 0 in all the binary variables, then it must be 1 in the final (not present) binary variable.\n",
    "For example, if we have the variable with 5 categories (*k* = 5), we would create 4 binary variables (*k* - 1 = 4). \n",
    "\n",
    "This approach helps to eliminate the redundancy of the information. \n",
    "\n",
    "To create *k*-1 dummy variables we specify parameter `drop_first = True` to drop the first binary variable."
   ]
  },
  {
   "cell_type": "code",
   "execution_count": 0,
   "metadata": {
    "application/vnd.databricks.v1+cell": {
     "cellMetadata": {},
     "inputWidgets": {},
     "nuid": "2d02ba0e-a622-4a5f-85d7-9cdb1b70439e",
     "showTitle": false,
     "title": ""
    }
   },
   "outputs": [],
   "source": [
    "dummies_2 = pd.get_dummies(X_train['Sex'], drop_first = True)\n",
    "dummies_2"
   ]
  },
  {
   "cell_type": "markdown",
   "metadata": {
    "application/vnd.databricks.v1+cell": {
     "cellMetadata": {},
     "inputWidgets": {},
     "nuid": "469518fb-e5f9-43bf-8271-08407e9eb6ed",
     "showTitle": false,
     "title": ""
    }
   },
   "source": [
    "If we create dummy variables for the entire dataset, the prefixes (variables names) will be generated automatically. It doesn't return only 'male', but also the variable's name."
   ]
  },
  {
   "cell_type": "code",
   "execution_count": 0,
   "metadata": {
    "application/vnd.databricks.v1+cell": {
     "cellMetadata": {},
     "inputWidgets": {},
     "nuid": "0b502275-56c5-4b14-8723-9769f5aa2619",
     "showTitle": false,
     "title": ""
    }
   },
   "outputs": [],
   "source": [
    "# Get dummy variable for entire train set\n",
    "dummy_data = pd.get_dummies(X_train, drop_first = True)\n",
    "dummy_data"
   ]
  },
  {
   "cell_type": "code",
   "execution_count": 0,
   "metadata": {
    "application/vnd.databricks.v1+cell": {
     "cellMetadata": {},
     "inputWidgets": {},
     "nuid": "ebdf1096-bdcb-4934-b561-46a7965d8781",
     "showTitle": false,
     "title": ""
    }
   },
   "outputs": [],
   "source": [
    "# TASK 2 >>>> Get dummy variables for the entire test set and store them in the variable dummy_data_2\n",
    "\n",
    "dummy_data_2 = pd.get_dummies(X_test, drop_first = True)\n",
    "dummy_data_2"
   ]
  },
  {
   "cell_type": "markdown",
   "metadata": {
    "application/vnd.databricks.v1+cell": {
     "cellMetadata": {},
     "inputWidgets": {},
     "nuid": "6f22d927-c7f9-4753-a8c3-d274ff80c908",
     "showTitle": false,
     "title": ""
    }
   },
   "source": [
    "**KEY LEARNING** We can notice that training and testing sets have a different number of dummy variables. In the testing set there is no category _'Cabin T'_. Therefore dummy variables for this category cannot be created. As the training set and the testing set must be of the same shape, `scikit learn's` models won't accept these as inputs. **Our entire modeling pipeline can fail because of this! We did not save the \"state\" of how many dummies should leave this part.** The the pipeline fails, our model does not predict, money is lost, people scream in panic, senior engineers debug over night and protesters burn the cars in the streets! I think you get the point."
   ]
  },
  {
   "cell_type": "markdown",
   "metadata": {
    "application/vnd.databricks.v1+cell": {
     "cellMetadata": {},
     "inputWidgets": {},
     "nuid": "2a48551f-0071-4f2c-a0de-4892aec6f57e",
     "showTitle": false,
     "title": ""
    }
   },
   "source": [
    "# 2. One-Hot Encoding with Scikit-learn\n",
    "\n",
    "The\n",
    "[`sklearn.preprocessing`](https://scikit-learn.org/stable/modules/classes.html#module-sklearn.preprocessing)\n",
    "module offers the\n",
    "[`OneHotEncoder()`](https://scikit-learn.org/stable/modules/generated/sklearn.preprocessing.OneHotEncoder.html)\n",
    "class which encodes categorical features by creating binary columns for each unique category of variables using a one-hot encoding scheme.\n",
    "The output is not a DataFrame, but a NumPy array. You can find the documentation of\n",
    "[`OneHotEncoder`](https://scikit-learn.org/stable/modules/generated/sklearn.preprocessing.OneHotEncoder.html)\n",
    "[here](https://scikit-learn.org/stable/modules/generated/sklearn.preprocessing.OneHotEncoder.html).\n",
    "\n",
    "----\n",
    "Firstly we need to create the encoder object where we can specify a set of parameters.\n",
    "Then we'll fit\n",
    "[`OneHotEncoder`](https://scikit-learn.org/stable/modules/generated/sklearn.preprocessing.OneHotEncoder.html)\n",
    "to the set `X_train`.\n",
    "There we first have to fill in missing values as\n",
    "[`OneHotEncoder`](https://scikit-learn.org/stable/modules/generated/sklearn.preprocessing.OneHotEncoder.html)\n",
    "doesn't except those.\n",
    "Using the `.categories_` attribute we'll find all of the determined categories. "
   ]
  },
  {
   "cell_type": "markdown",
   "metadata": {
    "application/vnd.databricks.v1+cell": {
     "cellMetadata": {},
     "inputWidgets": {},
     "nuid": "bf049b41-eeee-4bfd-85f1-53180bb6df84",
     "showTitle": false,
     "title": ""
    }
   },
   "source": [
    "Before we start with scikit, don't forget that we need to get rid of the missing values. Let's just replace them with a string \"missing\"."
   ]
  },
  {
   "cell_type": "code",
   "execution_count": 0,
   "metadata": {
    "application/vnd.databricks.v1+cell": {
     "cellMetadata": {},
     "inputWidgets": {},
     "nuid": "eade35fa-05e0-44d0-91fa-5a73354598e4",
     "showTitle": false,
     "title": ""
    }
   },
   "outputs": [],
   "source": [
    "X_train = X_train.fillna('Missing')\n",
    "X_test = X_test.fillna('Missing')"
   ]
  },
  {
   "cell_type": "markdown",
   "metadata": {
    "application/vnd.databricks.v1+cell": {
     "cellMetadata": {},
     "inputWidgets": {},
     "nuid": "411b279f-138c-4587-8cd1-7e60795e1bf3",
     "showTitle": false,
     "title": ""
    }
   },
   "source": [
    "Now we get to scikit. If you are confused over the word \"sparse\", don't worry. It is just a cool concept of how we can store a matrix in a more memory efficient way."
   ]
  },
  {
   "cell_type": "code",
   "execution_count": 0,
   "metadata": {
    "application/vnd.databricks.v1+cell": {
     "cellMetadata": {},
     "inputWidgets": {},
     "nuid": "7d9461cf-6d78-45e5-9bfd-1bf0661e77ff",
     "showTitle": false,
     "title": ""
    }
   },
   "outputs": [],
   "source": [
    "# Create the encoder\n",
    "# Set parameter categories = 'auto' to determine the categories automatically from the training set\n",
    "# Set parameter sparse = False to return a dense array \n",
    "# Set parameter handle_unknown = 'error' to raise an error if an unknown categorical feature is present during the transform\n",
    "encoder = OneHotEncoder(categories='auto', sparse=False, handle_unknown='error')\n",
    "\n",
    "#  Fit the encoder \n",
    "encoder.fit(X_train)"
   ]
  },
  {
   "cell_type": "code",
   "execution_count": 0,
   "metadata": {
    "application/vnd.databricks.v1+cell": {
     "cellMetadata": {},
     "inputWidgets": {},
     "nuid": "af361d45-302a-4d5a-8594-d8a3a0c1fc0b",
     "showTitle": false,
     "title": ""
    }
   },
   "outputs": [],
   "source": [
    "# We can inspect the categories used with the .categories_ attribute\n",
    "encoder.categories_"
   ]
  },
  {
   "cell_type": "markdown",
   "metadata": {
    "application/vnd.databricks.v1+cell": {
     "cellMetadata": {},
     "inputWidgets": {},
     "nuid": "ba85a828-38f5-4741-bd4e-e7e9c9ddb44f",
     "showTitle": false,
     "title": ""
    }
   },
   "source": [
    "To transform `X_train` using our encoder, we need to fill in missing values again. Since the output will be a NumPy array, we'll have to convert it to a Pandas DataFrame. "
   ]
  },
  {
   "cell_type": "code",
   "execution_count": 0,
   "metadata": {
    "application/vnd.databricks.v1+cell": {
     "cellMetadata": {},
     "inputWidgets": {},
     "nuid": "6c8db6f8-97d3-4a83-aa6f-0cbc70c5666e",
     "showTitle": false,
     "title": ""
    }
   },
   "outputs": [],
   "source": [
    "# Transform X_train using encoder \n",
    "training_set = encoder.transform(X_train)\n",
    "\n",
    "# Convert X_train to a DataFrame\n",
    "pd.DataFrame(training_set).head()"
   ]
  },
  {
   "cell_type": "markdown",
   "metadata": {
    "application/vnd.databricks.v1+cell": {
     "cellMetadata": {},
     "inputWidgets": {},
     "nuid": "dd1cf7e6-04c8-41f5-b8df-2bdb507d7edf",
     "showTitle": false,
     "title": ""
    }
   },
   "source": [
    "As we can see, after transforming the data the names of the features are not returned, which is inconvenient for feature exploration. There is a method for retrieving these names called `.get_feature_names()` which we can apply to the columns. Let's repeat the entire process of transforming."
   ]
  },
  {
   "cell_type": "code",
   "execution_count": 0,
   "metadata": {
    "application/vnd.databricks.v1+cell": {
     "cellMetadata": {},
     "inputWidgets": {},
     "nuid": "1e79d24c-43cb-47e3-a58e-615265766ba9",
     "showTitle": false,
     "title": ""
    }
   },
   "outputs": [],
   "source": [
    "# Transform X_train using one-hot encoding and return feature names\n",
    "training_set = encoder.transform(X_train)\n",
    "training_set = pd.DataFrame(training_set)\n",
    "training_set.columns = encoder.get_feature_names()\n",
    "training_set.head()"
   ]
  },
  {
   "cell_type": "code",
   "execution_count": 0,
   "metadata": {
    "application/vnd.databricks.v1+cell": {
     "cellMetadata": {},
     "inputWidgets": {},
     "nuid": "f45b2b3c-31cb-4410-a0de-27a20066c34e",
     "showTitle": false,
     "title": ""
    }
   },
   "outputs": [],
   "source": [
    "# TASK 3 >>>> Transform X_test using one-hot encoding in the same way as we did with X_train and store it in the variable testing_set\n",
    "#             Inspect the first 5 rows to see the result\n",
    "\n",
    "testing_set = encoder.transform(X_test)\n",
    "testing_set = pd.DataFrame(training_set)\n",
    "testing_set.columns = encoder.get_feature_names()\n",
    "testing_set.head()"
   ]
  },
  {
   "cell_type": "markdown",
   "metadata": {
    "application/vnd.databricks.v1+cell": {
     "cellMetadata": {},
     "inputWidgets": {},
     "nuid": "3f1902aa-d201-44ba-872c-5d65042a1669",
     "showTitle": false,
     "title": ""
    }
   },
   "source": [
    "Notice that after encoding the training set and testing set have the same number of features. "
   ]
  },
  {
   "cell_type": "markdown",
   "metadata": {
    "application/vnd.databricks.v1+cell": {
     "cellMetadata": {},
     "inputWidgets": {},
     "nuid": "9950b12c-b594-4faf-94a9-b2921e2747d6",
     "showTitle": false,
     "title": ""
    }
   },
   "source": [
    "# 3. Encoding target variable\n",
    "\n",
    "For encoding the target variable stored as a string datatype, we can use\n",
    "[`LabelEncoder`](https://scikit-learn.org/stable/modules/generated/sklearn.preprocessing.LabelEncoder.html)\n",
    "class from the scikit learn module.\n",
    "[`LabelEncoder`](https://scikit-learn.org/stable/modules/generated/sklearn.preprocessing.LabelEncoder.html)\n",
    "normalizes labels to have values between 0 and n_classes-1.\n",
    "You can find the documentation [here](https://scikit-learn.org/stable/modules/generated/sklearn.preprocessing.LabelEncoder.html#sklearn.preprocessing.LabelEncoder).\n",
    "\n",
    "Let's look at the simple example of using this class on dog breeds.\n",
    "Firstly we create a\n",
    "[`LabelEncoder`](https://scikit-learn.org/stable/modules/generated/sklearn.preprocessing.LabelEncoder.html)\n",
    "object and then we fit our data."
   ]
  },
  {
   "cell_type": "code",
   "execution_count": 0,
   "metadata": {
    "application/vnd.databricks.v1+cell": {
     "cellMetadata": {},
     "inputWidgets": {},
     "nuid": "5619d493-5933-4340-a5ae-648bc367078b",
     "showTitle": false,
     "title": ""
    }
   },
   "outputs": [],
   "source": [
    "# Create LabelEncoder object\n",
    "label_encoder = LabelEncoder()"
   ]
  },
  {
   "cell_type": "code",
   "execution_count": 0,
   "metadata": {
    "application/vnd.databricks.v1+cell": {
     "cellMetadata": {},
     "inputWidgets": {},
     "nuid": "a249bfd0-b13a-43f6-ad18-d3b469402bd5",
     "showTitle": false,
     "title": ""
    }
   },
   "outputs": [],
   "source": [
    "# Fit data using label_encoder\n",
    "label_encoder.fit(['Border Collie','Dachshund','Irish Setter','Papillon','Pug',\n",
    "                   'Pembroke Welsh Corgi','Dachshund','Hokkaido','Pug'])"
   ]
  },
  {
   "cell_type": "code",
   "execution_count": 0,
   "metadata": {
    "application/vnd.databricks.v1+cell": {
     "cellMetadata": {},
     "inputWidgets": {},
     "nuid": "d03c9572-ab30-4a17-a3ba-e255549401e6",
     "showTitle": false,
     "title": ""
    }
   },
   "outputs": [],
   "source": [
    "# After we fitted our data we can access the used categories\n",
    "list(label_encoder.classes_)"
   ]
  },
  {
   "cell_type": "code",
   "execution_count": 0,
   "metadata": {
    "application/vnd.databricks.v1+cell": {
     "cellMetadata": {},
     "inputWidgets": {},
     "nuid": "357fba13-9da6-4896-8ba3-04803cf7144b",
     "showTitle": false,
     "title": ""
    }
   },
   "outputs": [],
   "source": [
    "# Transform the data\n",
    "encoded_labels = label_encoder.transform(['Border Collie','Dachshund','Irish Setter','Papillon','Pug',\n",
    "                                          'Pembroke Welsh Corgi','Dachshund','Hokkaido','Pug'])\n",
    "encoded_labels"
   ]
  },
  {
   "cell_type": "markdown",
   "metadata": {
    "application/vnd.databricks.v1+cell": {
     "cellMetadata": {},
     "inputWidgets": {},
     "nuid": "b543c7ce-1188-4858-b14b-ef1ea13ad85f",
     "showTitle": false,
     "title": ""
    }
   },
   "source": [
    "Instead of two binary values (0 and 1), we now have a sequence of numbers which are not in ascending order. The reason for this is that the numbering is assigned in alphabetical order.\n",
    "\n",
    "-------\n",
    "\n",
    "### TASK\n",
    "Now it's your turn to encode categorical variables in the **Mushrooms classification** dataset."
   ]
  },
  {
   "cell_type": "code",
   "execution_count": 0,
   "metadata": {
    "application/vnd.databricks.v1+cell": {
     "cellMetadata": {},
     "inputWidgets": {},
     "nuid": "13f43f9b-74bb-448f-839e-3ab5f78225ad",
     "showTitle": false,
     "title": ""
    }
   },
   "outputs": [],
   "source": [
    "# Run this code to create a list of selected features\n",
    "cols_to_use = ['class', 'cap-shape', 'cap-surface', 'cap-color', 'bruises', 'odor',\n",
    "               'gill-attachment', 'gill-spacing', 'gill-size', 'gill-color',\n",
    "               'stalk-shape', 'stalk-root', 'stalk-surface-above-ring']"
   ]
  },
  {
   "cell_type": "code",
   "execution_count": 0,
   "metadata": {
    "application/vnd.databricks.v1+cell": {
     "cellMetadata": {},
     "inputWidgets": {},
     "nuid": "80926043-336e-4d4b-b098-108193c57525",
     "showTitle": false,
     "title": ""
    }
   },
   "outputs": [],
   "source": [
    "# Load the dataset 'Data/mushrooms.csv' and store it in mushrooms\n",
    "# Specify parameter usecols = cols_to_use\n",
    "mushrooms = pd.read_csv('../../../Data/mushrooms.csv', usecols = cols_to_use)\n",
    "# Get the first 5 rows\n",
    "mushrooms.head()"
   ]
  },
  {
   "cell_type": "code",
   "execution_count": 0,
   "metadata": {
    "application/vnd.databricks.v1+cell": {
     "cellMetadata": {},
     "inputWidgets": {},
     "nuid": "f7121fdc-0291-4dbd-8de5-c7e01a041e9a",
     "showTitle": false,
     "title": ""
    }
   },
   "outputs": [],
   "source": [
    "# Get the unique values for all of the features in mushrooms that will be encoded\n",
    "for column in mushrooms.columns:\n",
    "    print(column)\n",
    "    print(mushrooms[column].unique())"
   ]
  },
  {
   "cell_type": "markdown",
   "metadata": {
    "application/vnd.databricks.v1+cell": {
     "cellMetadata": {},
     "inputWidgets": {},
     "nuid": "1e0fe8cf-fa63-4bd3-b0f2-52ea6f466f21",
     "showTitle": false,
     "title": ""
    }
   },
   "source": [
    "You should see that one of the unique values there is '?' in the column 'stalk-root'. Replace this incorrectly stored value with 'Missing'."
   ]
  },
  {
   "cell_type": "code",
   "execution_count": 0,
   "metadata": {
    "application/vnd.databricks.v1+cell": {
     "cellMetadata": {},
     "inputWidgets": {},
     "nuid": "6ce2a715-e50e-450f-8e77-cbad28daa101",
     "showTitle": false,
     "title": ""
    }
   },
   "outputs": [],
   "source": [
    "# Use .replace() method to replace '?' with 'Missing'\n",
    "mushrooms['stalk-root'] = mushrooms['stalk-root'].replace('?','Missing')"
   ]
  },
  {
   "cell_type": "code",
   "execution_count": 0,
   "metadata": {
    "application/vnd.databricks.v1+cell": {
     "cellMetadata": {},
     "inputWidgets": {},
     "nuid": "0f11dbe8-c244-4950-9691-1f15233a366e",
     "showTitle": false,
     "title": ""
    }
   },
   "outputs": [],
   "source": [
    "# Split mushrooms into training and testing set\n",
    "# Set test_size = 0.3\n",
    "# Set random_state = 42\n",
    "X_train, X_test, y_train, y_test = train_test_split(mushrooms[['cap-shape', 'cap-surface', 'cap-color', 'bruises', 'odor',\n",
    "                                                               'gill-attachment', 'gill-spacing', 'gill-size', 'gill-color',\n",
    "                                                               'stalk-shape', 'stalk-root', 'stalk-surface-above-ring']], \n",
    "                                                    mushrooms['class'], \n",
    "                                                    test_size = 0.3, \n",
    "                                                    random_state = 42)\n",
    "\n",
    "# Get the shape of X_train and X_test\n",
    "X_train.shape, X_test.shape"
   ]
  },
  {
   "cell_type": "code",
   "execution_count": 0,
   "metadata": {
    "application/vnd.databricks.v1+cell": {
     "cellMetadata": {},
     "inputWidgets": {},
     "nuid": "51749d3d-2079-465e-95ff-831f4a3d4c09",
     "showTitle": false,
     "title": ""
    }
   },
   "outputs": [],
   "source": [
    "# TASK 4 >>>> Create a OneHotEncoder object where the categories will be automatically determined\n",
    "# The result will be a dense array\n",
    "# If an unknown categorical feature will be present during transform it will raise 'error'\n",
    "# Store it in the variable encoder\n",
    "\n",
    "encoder = OneHotEncoder(categories = 'auto',\n",
    "                        sparse = False,\n",
    "                        handle_unknown = 'error')"
   ]
  },
  {
   "cell_type": "code",
   "execution_count": 0,
   "metadata": {
    "application/vnd.databricks.v1+cell": {
     "cellMetadata": {},
     "inputWidgets": {},
     "nuid": "653d5dd4-581c-42bd-b203-801972300b09",
     "showTitle": false,
     "title": ""
    }
   },
   "outputs": [],
   "source": [
    "# TASK 5 >>>> Fit X_train using encoder\n",
    "\n",
    "encoder.fit(X_train)"
   ]
  },
  {
   "cell_type": "code",
   "execution_count": 0,
   "metadata": {
    "application/vnd.databricks.v1+cell": {
     "cellMetadata": {},
     "inputWidgets": {},
     "nuid": "c6d37aeb-7dbe-4422-8656-d68b3a703c61",
     "showTitle": false,
     "title": ""
    }
   },
   "outputs": [],
   "source": [
    "# TASK 6 >>>> Get the used categories\n",
    "\n",
    "encoder.categories_"
   ]
  },
  {
   "cell_type": "code",
   "execution_count": 0,
   "metadata": {
    "application/vnd.databricks.v1+cell": {
     "cellMetadata": {},
     "inputWidgets": {},
     "nuid": "edbc362a-f3cf-4c96-8c7a-50b748c211c0",
     "showTitle": false,
     "title": ""
    }
   },
   "outputs": [],
   "source": [
    "# TASK 7 >>>> Transform X_train and convert it to a Pandas DataFrame\n",
    "# You can assign it to X_train\n",
    "# Get the feature names and inspect the changes after transforming\n",
    "\n",
    "X_train = encoder.transform(X_train)\n",
    "X_train = pd.DataFrame(X_train)\n",
    "X_train.columns = encoder.get_feature_names()\n",
    "X_train"
   ]
  },
  {
   "cell_type": "code",
   "execution_count": 0,
   "metadata": {
    "application/vnd.databricks.v1+cell": {
     "cellMetadata": {},
     "inputWidgets": {},
     "nuid": "38118fc3-5292-4991-bcea-0e70d1a60ff7",
     "showTitle": false,
     "title": ""
    }
   },
   "outputs": [],
   "source": [
    "# TASK 8 >>>> Transform X_test and convert it to a Pandas DataFrame\n",
    "# You can assign it to X_test\n",
    "# Get the feature names and inspect the changes after transforming\n",
    "\n",
    "X_test = encoder.transform(X_test)\n",
    "X_test = pd.DataFrame(X_test)\n",
    "X_test.columns = encoder.get_feature_names()\n",
    "X_test"
   ]
  },
  {
   "cell_type": "markdown",
   "metadata": {
    "application/vnd.databricks.v1+cell": {
     "cellMetadata": {},
     "inputWidgets": {},
     "nuid": "49ac9f60-c631-4b94-846e-9af90b55c5a2",
     "showTitle": false,
     "title": ""
    }
   },
   "source": [
    "Our target feature 'class' also needs to be encoded. To do so, use `LabelEncoder`."
   ]
  },
  {
   "cell_type": "code",
   "execution_count": 0,
   "metadata": {
    "application/vnd.databricks.v1+cell": {
     "cellMetadata": {},
     "inputWidgets": {},
     "nuid": "c8eedc1a-a78d-4aab-ac73-3a605ada7719",
     "showTitle": false,
     "title": ""
    }
   },
   "outputs": [],
   "source": [
    "# TASK 9 >>>> Create LabelEncoder object and store it in variable labels_encoder\n",
    "\n",
    "labels_encoder = LabelEncoder()"
   ]
  },
  {
   "cell_type": "code",
   "execution_count": 0,
   "metadata": {
    "application/vnd.databricks.v1+cell": {
     "cellMetadata": {},
     "inputWidgets": {},
     "nuid": "d3b20739-5974-4751-9a9b-8bbd2b58f8b9",
     "showTitle": false,
     "title": ""
    }
   },
   "outputs": [],
   "source": [
    "# TASK 10 >>>> Fit y_train using labels_encoder\n",
    "\n",
    "labels_encoder.fit(y_train)"
   ]
  },
  {
   "cell_type": "code",
   "execution_count": 0,
   "metadata": {
    "application/vnd.databricks.v1+cell": {
     "cellMetadata": {},
     "inputWidgets": {},
     "nuid": "60a48801-1b75-483d-a418-c8c27d7dec05",
     "showTitle": false,
     "title": ""
    }
   },
   "outputs": [],
   "source": [
    "# Print the used categories\n",
    "labels_encoder.classes_"
   ]
  },
  {
   "cell_type": "code",
   "execution_count": 0,
   "metadata": {
    "application/vnd.databricks.v1+cell": {
     "cellMetadata": {},
     "inputWidgets": {},
     "nuid": "8d6237b3-9141-4c48-a934-319685ca13f9",
     "showTitle": false,
     "title": ""
    }
   },
   "outputs": [],
   "source": [
    "# TASK 11 >>>> Transform the y_train data and assign to y_train\n",
    "\n",
    "y_train = labels_encoder.transform(y_train)"
   ]
  },
  {
   "cell_type": "code",
   "execution_count": 0,
   "metadata": {
    "application/vnd.databricks.v1+cell": {
     "cellMetadata": {},
     "inputWidgets": {},
     "nuid": "be59985d-bed1-4503-abe6-aae4ed4c2e8e",
     "showTitle": false,
     "title": ""
    }
   },
   "outputs": [],
   "source": [
    "# Print y_train\n",
    "y_train"
   ]
  },
  {
   "cell_type": "code",
   "execution_count": 0,
   "metadata": {
    "application/vnd.databricks.v1+cell": {
     "cellMetadata": {},
     "inputWidgets": {},
     "nuid": "cd0934a9-08a7-4471-8fec-2617f137bfbb",
     "showTitle": false,
     "title": ""
    }
   },
   "outputs": [],
   "source": [
    "# TASK 12 >>>> Fit and transform y_test data in the same way\n",
    "\n",
    "labels_encoder.fit(y_test)\n",
    "y_test = labels_encoder.transform(y_test)\n",
    "y_test"
   ]
  },
  {
   "cell_type": "markdown",
   "metadata": {
    "application/vnd.databricks.v1+cell": {
     "cellMetadata": {},
     "inputWidgets": {},
     "nuid": "a699ca4b-9d58-42b7-aba5-00ec0eeac401",
     "showTitle": false,
     "title": ""
    }
   },
   "source": [
    "### Appendix\n",
    "\n",
    "Material adapted for RBI internal purposes with full permissions from original authors. [Source](https://github.com/zatkopatrik/authentic-data-science)"
   ]
  }
 ],
 "metadata": {
  "application/vnd.databricks.v1+notebook": {
   "dashboards": [],
   "language": "python",
   "notebookMetadata": {
    "pythonIndentUnit": 4
   },
   "notebookName": "[Answer]4_One_Hot_Encoding_jupyter",
   "widgets": {}
  }
 },
 "nbformat": 4,
 "nbformat_minor": 0
}
