{
 "cells": [
  {
   "cell_type": "markdown",
   "metadata": {
    "application/vnd.databricks.v1+cell": {
     "cellMetadata": {},
     "inputWidgets": {},
     "nuid": "659cda7e-e66a-4c86-81b6-0e7ee4dc3519",
     "showTitle": false,
     "title": ""
    }
   },
   "source": [
    "# 0. Loading libraries and Classes"
   ]
  },
  {
   "cell_type": "code",
   "execution_count": null,
   "metadata": {
    "application/vnd.databricks.v1+cell": {
     "cellMetadata": {},
     "inputWidgets": {},
     "nuid": "1bdbc233-d89f-4ccb-957d-420f90c1963b",
     "showTitle": false,
     "title": ""
    }
   },
   "outputs": [],
   "source": [
    "# Import pandas and numpy libraries\n",
    "import pandas as pd\n",
    "\n",
    "import warnings\n",
    "warnings.simplefilter(\"ignore\")\n",
    "\n",
    "from IPython.display import Image\n",
    "\n",
    "# Import train_test_split to separate train and test set\n",
    "from sklearn.model_selection import train_test_split\n",
    "# Import OneHotEncoder for one hot encoding \n",
    "from sklearn.preprocessing import OneHotEncoder\n",
    "# Import LabelEncoder for target feature encoding\n",
    "from sklearn.preprocessing import LabelEncoder"
   ]
  },
  {
   "cell_type": "markdown",
   "metadata": {
    "application/vnd.databricks.v1+cell": {
     "cellMetadata": {},
     "inputWidgets": {},
     "nuid": "98acf04c-199f-494a-a166-384f04a2e560",
     "showTitle": false,
     "title": ""
    }
   },
   "source": [
    "### Why should we use Encoding ? \n",
    "\n",
    "As we already know, we can't throw the data right away into machine learning models. We need to treat them in a specific way so our model's algorithm can work with them. **Machine learning algorithm work with vectors of numbers**, so when it comes to values represented as a string there is an issue. `scikit learn`, an industry-standard library used for machine learning, does not accept categorical values represented as strings as well.\n",
    "\n",
    "Imagine we have categorical variables stored as string in the dataset. For understanding what the encoding looks like, here's a simple example."
   ]
  },
  {
   "cell_type": "code",
   "execution_count": null,
   "metadata": {
    "application/vnd.databricks.v1+cell": {
     "cellMetadata": {},
     "inputWidgets": {},
     "nuid": "fe80e4ca-7c95-49bc-a23a-abbb1bb75c07",
     "showTitle": false,
     "title": ""
    }
   },
   "outputs": [],
   "source": [
    "# Run this code\n",
    "dataframe = pd.DataFrame({'id': range(8), 'amount': [15,85,17,22,56,84,15,48],\n",
    "                          'color':['black','white','black','black','white','white','black','black'],\n",
    "                          })\n",
    "mapping = {'black': 1,\n",
    "          'white':0}\n",
    "# Mapping values\n",
    "mapped_df = dataframe['color'].map(mapping)\n",
    "# Comparison\n",
    "map_dataframe = pd.concat([dataframe, mapped_df], axis = 1)\n",
    "map_dataframe"
   ]
  },
  {
   "cell_type": "markdown",
   "metadata": {
    "application/vnd.databricks.v1+cell": {
     "cellMetadata": {},
     "inputWidgets": {},
     "nuid": "72340d55-e27a-4db3-8d25-35f8bc914003",
     "showTitle": false,
     "title": ""
    }
   },
   "source": [
    "The unique categories of the 'color' column have been converted into numerical form as 1 when the 'black' category is present and 0 otherwise. Of course, encoding categorical features using mapping or replacing can be very tedious and not effective if we have many categorical features and corresponding categories. Fortunately, you can find several encoding methods that serve for different encoding challenges.\n",
    "\n",
    "-------\n",
    "\n",
    "Categorical variables take only a limited number of possible values/categories and must be converted into numerical form. We should perform this conversion over the **training data** and propagate them to the unseen data (for example holdout data). \n",
    "\n",
    "**The main reason for this approach is that we do not know whether the future data will have all the categories present in the training data**. There could also be fewer or more categories. Therefore the encoders must learn patterns from the training data and use those learned categories in both training and testing sets."
   ]
  },
  {
   "cell_type": "markdown",
   "metadata": {
    "application/vnd.databricks.v1+cell": {
     "cellMetadata": {},
     "inputWidgets": {},
     "nuid": "b660524a-fe16-43ee-af93-c63041abf3b2",
     "showTitle": false,
     "title": ""
    }
   },
   "source": [
    "In this notebook we will use the Titanic and the Mushrooms datasets."
   ]
  },
  {
   "cell_type": "code",
   "execution_count": null,
   "metadata": {
    "application/vnd.databricks.v1+cell": {
     "cellMetadata": {},
     "inputWidgets": {},
     "nuid": "7302edce-523f-4668-8abc-5fc26c562372",
     "showTitle": false,
     "title": ""
    }
   },
   "outputs": [],
   "source": [
    "# Load Titanic dataset using columns 'Survived','Sex','Embarked','Cabin' and store it in 'data'\n",
    "data = pd.read_csv('../Data/titanic_data.csv', usecols = ['Survived','Sex','Embarked','Cabin'])\n",
    "data.head()"
   ]
  },
  {
   "cell_type": "markdown",
   "metadata": {
    "application/vnd.databricks.v1+cell": {
     "cellMetadata": {},
     "inputWidgets": {},
     "nuid": "8cf05a92-3d47-42a5-b493-04fd32847d4b",
     "showTitle": false,
     "title": ""
    }
   },
   "source": [
    "For this demonstration, let's capture only the first letter of 'Cabin'."
   ]
  },
  {
   "cell_type": "code",
   "execution_count": null,
   "metadata": {
    "application/vnd.databricks.v1+cell": {
     "cellMetadata": {},
     "inputWidgets": {},
     "nuid": "72c3271d-d774-4935-ba0d-1653be8d9ab9",
     "showTitle": false,
     "title": ""
    }
   },
   "outputs": [],
   "source": [
    "# Capture only first letter of Cabin using .str[0] \n",
    "data['Cabin'] = data['Cabin'].str[0]\n",
    "data.head()"
   ]
  },
  {
   "cell_type": "markdown",
   "metadata": {
    "application/vnd.databricks.v1+cell": {
     "cellMetadata": {},
     "inputWidgets": {},
     "nuid": "df4f5c19-eac0-403c-8d72-2ce896be4ef7",
     "showTitle": false,
     "title": ""
    }
   },
   "source": [
    "Now we split our data into training and testing set."
   ]
  },
  {
   "cell_type": "code",
   "execution_count": null,
   "metadata": {
    "application/vnd.databricks.v1+cell": {
     "cellMetadata": {},
     "inputWidgets": {},
     "nuid": "6dff086d-6e39-42f7-a8ab-f3ee8077c72d",
     "showTitle": false,
     "title": ""
    }
   },
   "outputs": [],
   "source": [
    "# Separate the DataFrame into training and testing set\n",
    "X_train, X_test, y_train, y_test = train_test_split(data[['Sex', 'Embarked','Cabin']],  \n",
    "                                                    data['Survived'],  \n",
    "                                                    test_size = 0.3,  \n",
    "                                                    random_state = 42)\n",
    "# Get the shape of training and testing set\n",
    "X_train.shape, X_test.shape"
   ]
  },
  {
   "cell_type": "markdown",
   "metadata": {
    "application/vnd.databricks.v1+cell": {
     "cellMetadata": {},
     "inputWidgets": {},
     "nuid": "4e8a82ba-60cb-4d83-abc6-db54c249bb4e",
     "showTitle": false,
     "title": ""
    }
   },
   "source": [
    "### Cardinality of the categorical features\n",
    "\n",
    "Let's explore how many unique values each of the categorical features has."
   ]
  },
  {
   "cell_type": "code",
   "execution_count": null,
   "metadata": {
    "application/vnd.databricks.v1+cell": {
     "cellMetadata": {},
     "inputWidgets": {},
     "nuid": "7bf04612-ee3f-4187-9071-34af8ee1dd18",
     "showTitle": false,
     "title": ""
    }
   },
   "outputs": [],
   "source": [
    "# Get the unique values of categorical features\n",
    "for column in X_train.columns:\n",
    "    print(column)\n",
    "    print(X_train[column].unique())"
   ]
  },
  {
   "cell_type": "markdown",
   "metadata": {
    "application/vnd.databricks.v1+cell": {
     "cellMetadata": {},
     "inputWidgets": {},
     "nuid": "cc290f63-599a-42e3-a1ff-631b3f94cff5",
     "showTitle": false,
     "title": ""
    }
   },
   "source": [
    "We'll look at the methods for encoding these categories and how these methods handle missing values present in the data."
   ]
  },
  {
   "cell_type": "markdown",
   "metadata": {
    "application/vnd.databricks.v1+cell": {
     "cellMetadata": {},
     "inputWidgets": {},
     "nuid": "ca455c27-9ebc-4456-a712-0c0ff9552059",
     "showTitle": false,
     "title": ""
    }
   },
   "source": [
    "# 1. One-Hot Encoding with Pandas\n",
    "\n",
    "We can use Pandas method `pd.get_dummies()` to encode the categorical features. In the real world this encoding method shouldn't be used in ML pipelines (computationally and memory ineffective). However, in the case of some simple data analysis you should be able to use it. We'll look at how it works and what its advantages and limitations are."
   ]
  },
  {
   "cell_type": "code",
   "execution_count": null,
   "metadata": {
    "application/vnd.databricks.v1+cell": {
     "cellMetadata": {},
     "inputWidgets": {},
     "nuid": "67f6359e-4ef5-4a64-9d2a-1b97ec70ad73",
     "showTitle": false,
     "title": ""
    }
   },
   "outputs": [],
   "source": [
    "# Get the dummy variables of feature 'Sex' using pd.get_dummies() \n",
    "dummies = pd.get_dummies(X_train['Sex'])\n",
    "dummies.head()"
   ]
  },
  {
   "cell_type": "code",
   "execution_count": null,
   "metadata": {
    "application/vnd.databricks.v1+cell": {
     "cellMetadata": {},
     "inputWidgets": {},
     "nuid": "5a83b7d0-f4ff-4fe4-8784-ff50fd82d59e",
     "showTitle": false,
     "title": ""
    }
   },
   "outputs": [],
   "source": [
    "type(dummies)"
   ]
  },
  {
   "cell_type": "markdown",
   "metadata": {
    "application/vnd.databricks.v1+cell": {
     "cellMetadata": {},
     "inputWidgets": {},
     "nuid": "f85df997-dc61-4a2e-97a4-cea41ab4fef0",
     "showTitle": false,
     "title": ""
    }
   },
   "source": [
    "The main advantages are that `get_dummies()` returns a DataFrame and preserves feature names for dummy variables. Also, we can use this method even if our data contains missing values. \n",
    "\n",
    "In this example it has created one column for the female category and one column for the male category according to its presence. We can compare the created dummy variables to the original 'Sex' variable using concatenation to see what happened."
   ]
  },
  {
   "cell_type": "code",
   "execution_count": null,
   "metadata": {
    "application/vnd.databricks.v1+cell": {
     "cellMetadata": {},
     "inputWidgets": {},
     "nuid": "0d656b29-24ef-4639-8db0-eb018e182796",
     "showTitle": false,
     "title": ""
    }
   },
   "outputs": [],
   "source": [
    "# Concat the original Series 'Sex' from X_train with created dummy variables Series\n",
    "result = pd.concat([X_train['Sex'], pd.get_dummies(X_train['Sex'])], axis = 1)\n",
    "result"
   ]
  },
  {
   "cell_type": "code",
   "execution_count": null,
   "metadata": {
    "application/vnd.databricks.v1+cell": {
     "cellMetadata": {},
     "inputWidgets": {},
     "nuid": "b13970d7-615a-4e47-9f2e-661a8588a880",
     "showTitle": false,
     "title": ""
    }
   },
   "outputs": [],
   "source": [
    "# TASK 1 >>>> Get dummy variables for the column 'Embarked'\n",
    "#             Concat the original 'Embarked' Series with the created dummy variables Series\n",
    "#             Store it in the variable result_2\n",
    "\n",
    "result_2 = pd.concat([X_train['Embarked'], pd.get_dummies(X_train['Embarked'])], axis = 1)\n",
    "result_2"
   ]
  },
  {
   "cell_type": "markdown",
   "metadata": {
    "application/vnd.databricks.v1+cell": {
     "cellMetadata": {},
     "inputWidgets": {},
     "nuid": "61621e4f-90b3-4ebd-a903-ffe6b90b2fe3",
     "showTitle": false,
     "title": ""
    }
   },
   "source": [
    "**Encoding into *k*-1 dummy variables**\n",
    "\n",
    "Categorical variables should be encoded by creating *k*-1 binary variables. What does it mean, and why should we use it? \n",
    "\n",
    "Here *k* represents the number of distinct categories. In the feature 'Sex' there are only two categories of sex: male or female, so *k* = 2. We only need to create one binary variable (*k*-1 = 1) and still have all the information contained in the original dataset. In other words, if the value is 0 in all the binary variables, then it must be 1 in the final (not present) binary variable.\n",
    "For example, if we have the variable with 5 categories (*k* = 5), we would create 4 binary variables (*k* - 1 = 4). \n",
    "\n",
    "This approach helps to eliminate the redundancy of the information. \n",
    "\n",
    "To create *k*-1 dummy variables we specify parameter `drop_first = True` to drop the first binary variable."
   ]
  },
  {
   "cell_type": "code",
   "execution_count": null,
   "metadata": {
    "application/vnd.databricks.v1+cell": {
     "cellMetadata": {},
     "inputWidgets": {},
     "nuid": "ac0fabbf-e082-4ad8-a0f7-8b2d18eef4db",
     "showTitle": false,
     "title": ""
    }
   },
   "outputs": [],
   "source": [
    "dummies_2 = pd.get_dummies(X_train['Sex'], drop_first = True)\n",
    "dummies_2"
   ]
  },
  {
   "cell_type": "markdown",
   "metadata": {
    "application/vnd.databricks.v1+cell": {
     "cellMetadata": {},
     "inputWidgets": {},
     "nuid": "3c55e0cb-aa7e-439d-bbe1-708f5e910b9a",
     "showTitle": false,
     "title": ""
    }
   },
   "source": [
    "If we create dummy variables for the entire dataset, the prefixes (variables names) will be generated automatically. It doesn't return only 'male', but also the variable's name."
   ]
  },
  {
   "cell_type": "code",
   "execution_count": null,
   "metadata": {
    "application/vnd.databricks.v1+cell": {
     "cellMetadata": {},
     "inputWidgets": {},
     "nuid": "0bdc8266-695b-49e2-b630-deaa83c7bfa1",
     "showTitle": false,
     "title": ""
    }
   },
   "outputs": [],
   "source": [
    "# Get dummy variable for entire train set\n",
    "dummy_data = pd.get_dummies(X_train, drop_first = True)\n",
    "dummy_data"
   ]
  },
  {
   "cell_type": "code",
   "execution_count": null,
   "metadata": {
    "application/vnd.databricks.v1+cell": {
     "cellMetadata": {},
     "inputWidgets": {},
     "nuid": "00eeaa38-92a6-465f-8ebc-d0b092bc1530",
     "showTitle": false,
     "title": ""
    }
   },
   "outputs": [],
   "source": [
    "# TASK 2 >>>> Get dummy variables for the entire test set and store them in the variable dummy_data_2\n",
    "\n",
    "dummy_data_2 = pd.get_dummies(X_test, drop_first = True)\n",
    "dummy_data_2"
   ]
  },
  {
   "cell_type": "markdown",
   "metadata": {
    "application/vnd.databricks.v1+cell": {
     "cellMetadata": {},
     "inputWidgets": {},
     "nuid": "7a2ab98d-096c-4e3b-a081-1ff3db094d40",
     "showTitle": false,
     "title": ""
    }
   },
   "source": [
    "**KEY LEARNING** We can notice that training and testing sets have a different number of dummy variables. In the testing set there is no category _'Cabin T'_. Therefore dummy variables for this category cannot be created. As the training set and the testing set must be of the same shape, `scikit learn's` models won't accept these as inputs. **Our entire modeling pipeline can fail because of this! We did not save the \"state\" of how many dummies should leave this part.** The the pipeline fails, our model does not predict, money is lost, people scream in panic, senior engineers debug over night and protesters burn the cars in the streets! I think you get the point."
   ]
  },
  {
   "cell_type": "markdown",
   "metadata": {
    "application/vnd.databricks.v1+cell": {
     "cellMetadata": {},
     "inputWidgets": {},
     "nuid": "e98de9f1-cf0a-476b-b3cf-aa65ee80ab7b",
     "showTitle": false,
     "title": ""
    }
   },
   "source": [
    "# 2. One-Hot Encoding with Scikit-learn\n",
    "\n",
    "The `sklearn.preprocessing` module offers the `OneHotEncoder()` class which encodes categorical features by creating binary columns for each unique category of variables using a one-hot encoding scheme. The output is not a DataFrame, but a NumPy array. You can find the documentation of `OneHotEncoder` [here](https://scikit-learn.org/stable/modules/generated/sklearn.preprocessing.OneHotEncoder.html).\n",
    "\n",
    "----\n",
    "Firstly we need to create the encoder object where we can specify a set of parameters.\n",
    "Then we'll fit `OneHotEncoder` to the set `X_train`. There we first have to fill in missing values as `OneHotEncoder` doesn't except those. Using the `.categories_` attribute we'll find all of the determined categories."
   ]
  },
  {
   "cell_type": "markdown",
   "metadata": {
    "application/vnd.databricks.v1+cell": {
     "cellMetadata": {},
     "inputWidgets": {},
     "nuid": "3cfa1dfc-942e-48cd-a06c-bd5a359faf43",
     "showTitle": false,
     "title": ""
    }
   },
   "source": [
    "Before we start with scikit, don't forget that we need to get rid of the missing values. Let's just replace them with a string \"missing\"."
   ]
  },
  {
   "cell_type": "code",
   "execution_count": null,
   "metadata": {
    "application/vnd.databricks.v1+cell": {
     "cellMetadata": {},
     "inputWidgets": {},
     "nuid": "1cbb9eae-9f06-4b24-8f1d-3064177f14e5",
     "showTitle": false,
     "title": ""
    }
   },
   "outputs": [],
   "source": [
    "X_train = X_train.fillna('Missing')\n",
    "X_test = X_test.fillna('Missing')"
   ]
  },
  {
   "cell_type": "markdown",
   "metadata": {
    "application/vnd.databricks.v1+cell": {
     "cellMetadata": {},
     "inputWidgets": {},
     "nuid": "fd6a8847-abf4-4dab-8ab8-416849a576fa",
     "showTitle": false,
     "title": ""
    }
   },
   "source": [
    "Now we get to scikit. If you are confused over the word \"sparse\", don't worry. It is just a cool concept of how we can store a matrix in a more memory efficient way."
   ]
  },
  {
   "cell_type": "code",
   "execution_count": null,
   "metadata": {
    "application/vnd.databricks.v1+cell": {
     "cellMetadata": {},
     "inputWidgets": {},
     "nuid": "40f7eb48-aa29-41c4-9ef4-f575b69b96ba",
     "showTitle": false,
     "title": ""
    }
   },
   "outputs": [],
   "source": [
    "# Create the encoder\n",
    "# Set parameter categories = 'auto' to determine the categories automatically from the training set\n",
    "# Set parameter sparse = False to return a dense array \n",
    "# Set parameter handle_unknown = 'error' to raise an error if an unknown categorical feature is present during the transform\n",
    "encoder = OneHotEncoder(categories='auto', sparse=False, handle_unknown='error')\n",
    "\n",
    "#  Fit the encoder \n",
    "encoder.fit(X_train)"
   ]
  },
  {
   "cell_type": "code",
   "execution_count": null,
   "metadata": {
    "application/vnd.databricks.v1+cell": {
     "cellMetadata": {},
     "inputWidgets": {},
     "nuid": "1ed316ab-1460-4e4c-9466-b3b877f2e283",
     "showTitle": false,
     "title": ""
    }
   },
   "outputs": [],
   "source": [
    "# We can inspect the categories used with the .categories_ attribute\n",
    "encoder.categories_"
   ]
  },
  {
   "cell_type": "markdown",
   "metadata": {
    "application/vnd.databricks.v1+cell": {
     "cellMetadata": {},
     "inputWidgets": {},
     "nuid": "de9704a7-c0fd-46f2-8461-7d3be875aa7d",
     "showTitle": false,
     "title": ""
    }
   },
   "source": [
    "To transform `X_train` using our encoder, we need to fill in missing values again. Since the output will be a NumPy array, we'll have to convert it to a Pandas DataFrame."
   ]
  },
  {
   "cell_type": "code",
   "execution_count": null,
   "metadata": {
    "application/vnd.databricks.v1+cell": {
     "cellMetadata": {},
     "inputWidgets": {},
     "nuid": "29f9e396-c056-41ec-a3c9-f4b13698cbb1",
     "showTitle": false,
     "title": ""
    }
   },
   "outputs": [],
   "source": [
    "# Transform X_train using encoder \n",
    "training_set = encoder.transform(X_train)\n",
    "\n",
    "# Convert X_train to a DataFrame\n",
    "pd.DataFrame(training_set).head()"
   ]
  },
  {
   "attachments": {},
   "cell_type": "markdown",
   "metadata": {
    "application/vnd.databricks.v1+cell": {
     "cellMetadata": {},
     "inputWidgets": {},
     "nuid": "089a8323-d071-4b05-b58e-46c9f086a121",
     "showTitle": false,
     "title": ""
    }
   },
   "source": [
    "As we can see, after transforming the data the names of the features are not returned, which is inconvenient for feature exploration. There is a method for retrieving these names called `.get_feature_names_out()` which we can apply to the columns. Let's repeat the entire process of transforming."
   ]
  },
  {
   "cell_type": "code",
   "execution_count": null,
   "metadata": {
    "application/vnd.databricks.v1+cell": {
     "cellMetadata": {},
     "inputWidgets": {},
     "nuid": "2b3ab046-26ff-4467-b690-d73e0dc0e11a",
     "showTitle": false,
     "title": ""
    }
   },
   "outputs": [],
   "source": [
    "# Transform X_train using one-hot encoding and return feature names\n",
    "training_set = encoder.transform(X_train)\n",
    "training_set = pd.DataFrame(training_set)\n",
    "training_set.columns = encoder.get_feature_names_out()\n",
    "training_set.head()"
   ]
  },
  {
   "cell_type": "code",
   "execution_count": null,
   "metadata": {
    "application/vnd.databricks.v1+cell": {
     "cellMetadata": {},
     "inputWidgets": {},
     "nuid": "21eaf974-57af-4721-8e55-365516ed1b72",
     "showTitle": false,
     "title": ""
    }
   },
   "outputs": [],
   "source": [
    "# TASK 2 >>>> Transform X_test using one-hot encoding in the same way as we did with X_train and store it in the variable testing_set\n",
    "#             Inspect the first 5 rows to see the result\n",
    "\n",
    "testing_set = encoder.transform(X_test)\n",
    "testing_set = pd.DataFrame(training_set)\n",
    "testing_set.columns = encoder.get_feature_names_out()\n",
    "testing_set.head()"
   ]
  },
  {
   "cell_type": "markdown",
   "metadata": {
    "application/vnd.databricks.v1+cell": {
     "cellMetadata": {},
     "inputWidgets": {},
     "nuid": "c62a32b7-bd9c-4680-bb0b-82b66de308c6",
     "showTitle": false,
     "title": ""
    }
   },
   "source": [
    "Notice that after encoding the training set and testing set have the same number of features."
   ]
  },
  {
   "cell_type": "markdown",
   "metadata": {
    "application/vnd.databricks.v1+cell": {
     "cellMetadata": {},
     "inputWidgets": {},
     "nuid": "c26a904b-b556-417e-b4fb-b356cb262600",
     "showTitle": false,
     "title": ""
    }
   },
   "source": [
    "# 3. Encoding target variable\n",
    "\n",
    "For encoding the target variable stored as a string datatype, we can use `LabelEncoder` class from the scikit learn module. `LabelEncoder` normalizes labels to have values between 0 and n_classes-1. You can find the documentation [here](https://scikit-learn.org/stable/modules/generated/sklearn.preprocessing.LabelEncoder.html#sklearn.preprocessing.LabelEncoder).\n",
    "\n",
    "Let's look at the simple example of using this class on dog breeds. Firstly we create a `LabelEncoder` object and then we fit our data."
   ]
  },
  {
   "cell_type": "code",
   "execution_count": null,
   "metadata": {
    "application/vnd.databricks.v1+cell": {
     "cellMetadata": {},
     "inputWidgets": {},
     "nuid": "a9acf9f4-cbd8-47f3-a01a-27597cb40e61",
     "showTitle": false,
     "title": ""
    }
   },
   "outputs": [],
   "source": [
    "# Create LabelEncoder object\n",
    "label_encoder = LabelEncoder()"
   ]
  },
  {
   "cell_type": "code",
   "execution_count": null,
   "metadata": {
    "application/vnd.databricks.v1+cell": {
     "cellMetadata": {},
     "inputWidgets": {},
     "nuid": "0239a810-b537-42c5-9eca-b5c0b306f6c4",
     "showTitle": false,
     "title": ""
    }
   },
   "outputs": [],
   "source": [
    "# Fit data using label_encoder\n",
    "label_encoder.fit(['Border Collie','Dachshund','Irish Setter','Papillon','Pug',\n",
    "                   'Pembroke Welsh Corgi','Dachshund','Hokkaido','Pug'])"
   ]
  },
  {
   "cell_type": "code",
   "execution_count": null,
   "metadata": {
    "application/vnd.databricks.v1+cell": {
     "cellMetadata": {},
     "inputWidgets": {},
     "nuid": "ab058bac-fc4d-43a4-adbf-061b2f114b99",
     "showTitle": false,
     "title": ""
    }
   },
   "outputs": [],
   "source": [
    "# After we fitted our data we can access the used categories\n",
    "list(label_encoder.classes_)"
   ]
  },
  {
   "cell_type": "code",
   "execution_count": null,
   "metadata": {
    "application/vnd.databricks.v1+cell": {
     "cellMetadata": {},
     "inputWidgets": {},
     "nuid": "66d3a353-50b7-4737-8b02-26f366eef2e4",
     "showTitle": false,
     "title": ""
    }
   },
   "outputs": [],
   "source": [
    "# Transform the data\n",
    "encoded_labels = label_encoder.transform(['Border Collie','Dachshund','Irish Setter','Papillon','Pug',\n",
    "                                          'Pembroke Welsh Corgi','Dachshund','Hokkaido','Pug'])\n",
    "encoded_labels"
   ]
  },
  {
   "cell_type": "markdown",
   "metadata": {
    "application/vnd.databricks.v1+cell": {
     "cellMetadata": {},
     "inputWidgets": {},
     "nuid": "83baf36a-6b8a-494f-93f0-22e9d918041a",
     "showTitle": false,
     "title": ""
    }
   },
   "source": [
    "Instead of two binary values (0 and 1), we now have a sequence of numbers which are not in ascending order. The reason for this is that the numbering is assigned in alphabetical order.\n",
    "\n",
    "-------\n",
    "\n",
    "### TASK\n",
    "Now it's your turn to encode categorical variables in the **Mushrooms classification** dataset."
   ]
  },
  {
   "cell_type": "code",
   "execution_count": null,
   "metadata": {
    "application/vnd.databricks.v1+cell": {
     "cellMetadata": {},
     "inputWidgets": {},
     "nuid": "ad1c8a8e-a8ce-4728-b40c-af205abd5fa0",
     "showTitle": false,
     "title": ""
    }
   },
   "outputs": [],
   "source": [
    "# Run this code to create a list of selected features\n",
    "cols_to_use = ['class', 'cap-shape', 'cap-surface', 'cap-color', 'bruises', 'odor',\n",
    "               'gill-attachment', 'gill-spacing', 'gill-size', 'gill-color',\n",
    "               'stalk-shape', 'stalk-root', 'stalk-surface-above-ring']"
   ]
  },
  {
   "cell_type": "code",
   "execution_count": null,
   "metadata": {
    "application/vnd.databricks.v1+cell": {
     "cellMetadata": {},
     "inputWidgets": {},
     "nuid": "44f95c9b-b2af-4f20-b97a-584671582240",
     "showTitle": false,
     "title": ""
    }
   },
   "outputs": [],
   "source": [
    "# Load the dataset 'Data/mushrooms.csv' and store it in mushrooms\n",
    "# Specify parameter usecols = cols_to_use\n",
    "mushrooms = pd.read_csv('../Data/mushrooms.csv', usecols = cols_to_use)\n",
    "# Get the first 5 rows\n",
    "mushrooms.head()"
   ]
  },
  {
   "cell_type": "code",
   "execution_count": null,
   "metadata": {
    "application/vnd.databricks.v1+cell": {
     "cellMetadata": {},
     "inputWidgets": {},
     "nuid": "50ccefb0-572c-44ed-9ed7-6f61db7ded0d",
     "showTitle": false,
     "title": ""
    }
   },
   "outputs": [],
   "source": [
    "# Get the unique values for all of the features in mushrooms that will be encoded\n",
    "for column in mushrooms.columns:\n",
    "    print(column)\n",
    "    print(mushrooms[column].unique())"
   ]
  },
  {
   "cell_type": "markdown",
   "metadata": {
    "application/vnd.databricks.v1+cell": {
     "cellMetadata": {},
     "inputWidgets": {},
     "nuid": "e28db56f-316c-4eb0-8538-d8a789a9382c",
     "showTitle": false,
     "title": ""
    }
   },
   "source": [
    "You should see that one of the unique values there is '?' in the column 'stalk-root'. Replace this incorrectly stored value with 'Missing'."
   ]
  },
  {
   "cell_type": "code",
   "execution_count": null,
   "metadata": {
    "application/vnd.databricks.v1+cell": {
     "cellMetadata": {},
     "inputWidgets": {},
     "nuid": "d2a19351-eb7d-4113-b0b3-e30113d793cb",
     "showTitle": false,
     "title": ""
    }
   },
   "outputs": [],
   "source": [
    "# Use .replace() method to replace '?' with 'Missing'\n",
    "mushrooms['stalk-root'] = mushrooms['stalk-root'].replace('?','Missing')"
   ]
  },
  {
   "cell_type": "code",
   "execution_count": null,
   "metadata": {
    "application/vnd.databricks.v1+cell": {
     "cellMetadata": {},
     "inputWidgets": {},
     "nuid": "39d0aff5-749e-43ba-a077-5049e39859b7",
     "showTitle": false,
     "title": ""
    }
   },
   "outputs": [],
   "source": [
    "# Split mushrooms into training and testing set\n",
    "# Set test_size = 0.3\n",
    "# Set random_state = 42\n",
    "X_train, X_test, y_train, y_test = train_test_split(mushrooms[['cap-shape', 'cap-surface', 'cap-color', 'bruises', 'odor',\n",
    "                                                               'gill-attachment', 'gill-spacing', 'gill-size', 'gill-color',\n",
    "                                                               'stalk-shape', 'stalk-root', 'stalk-surface-above-ring']], \n",
    "                                                    mushrooms['class'], \n",
    "                                                    test_size = 0.3, \n",
    "                                                    random_state = 42)\n",
    "\n",
    "# Get the shape of X_train and X_test\n",
    "X_train.shape, X_test.shape"
   ]
  },
  {
   "cell_type": "code",
   "execution_count": null,
   "metadata": {
    "application/vnd.databricks.v1+cell": {
     "cellMetadata": {},
     "inputWidgets": {},
     "nuid": "6168fcf7-56b0-42be-b40e-af50d85d25a5",
     "showTitle": false,
     "title": ""
    }
   },
   "outputs": [],
   "source": [
    "# TASK >>>> Create a OneHotEncoder object where the categories will be automatically determined\n",
    "# The result will be a dense array\n",
    "# If an unknown categorical feature will be present during transform it will raise 'error'\n",
    "# Store it in the variable encoder\n",
    "\n",
    "encoder = OneHotEncoder(categories = 'auto',\n",
    "                        sparse = False,\n",
    "                        handle_unknown = 'error')"
   ]
  },
  {
   "cell_type": "code",
   "execution_count": null,
   "metadata": {
    "application/vnd.databricks.v1+cell": {
     "cellMetadata": {},
     "inputWidgets": {},
     "nuid": "2ea97bd6-8317-4437-b5b6-133d1f2fac2c",
     "showTitle": false,
     "title": ""
    }
   },
   "outputs": [],
   "source": [
    "# TASK >>>> Fit X_train using encoder\n",
    "\n",
    "encoder.fit(X_train)"
   ]
  },
  {
   "cell_type": "code",
   "execution_count": null,
   "metadata": {
    "application/vnd.databricks.v1+cell": {
     "cellMetadata": {},
     "inputWidgets": {},
     "nuid": "63872f9f-cd30-4ff0-af39-e995336015cc",
     "showTitle": false,
     "title": ""
    }
   },
   "outputs": [],
   "source": [
    "# TASK >>>> Get the used categories\n",
    "\n",
    "encoder.categories_"
   ]
  },
  {
   "cell_type": "code",
   "execution_count": null,
   "metadata": {
    "application/vnd.databricks.v1+cell": {
     "cellMetadata": {},
     "inputWidgets": {},
     "nuid": "c835eba2-f00f-4afa-8153-240de3aee1e5",
     "showTitle": false,
     "title": ""
    }
   },
   "outputs": [],
   "source": [
    "# TASK >>>> Transform X_train and convert it to a Pandas DataFrame\n",
    "# You can assign it to X_train\n",
    "# Get the feature names and inspect the changes after transforming\n",
    "\n",
    "X_train = encoder.transform(X_train)\n",
    "X_train = pd.DataFrame(X_train)\n",
    "X_train.columns = encoder.get_feature_names_out()\n",
    "X_train"
   ]
  },
  {
   "cell_type": "code",
   "execution_count": null,
   "metadata": {
    "application/vnd.databricks.v1+cell": {
     "cellMetadata": {},
     "inputWidgets": {},
     "nuid": "a9a05675-48cc-4438-9741-381306e9e819",
     "showTitle": false,
     "title": ""
    }
   },
   "outputs": [],
   "source": [
    "# TASK >>>> Transform X_test and convert it to a Pandas DataFrame\n",
    "# You can assign it to X_test\n",
    "# Get the feature names and inspect the changes after transforming\n",
    "\n",
    "X_test = encoder.transform(X_test)\n",
    "X_test = pd.DataFrame(X_test)\n",
    "X_test.columns = encoder.get_feature_names_out()\n",
    "X_test"
   ]
  },
  {
   "cell_type": "markdown",
   "metadata": {
    "application/vnd.databricks.v1+cell": {
     "cellMetadata": {},
     "inputWidgets": {},
     "nuid": "5235376e-3f71-4f72-9011-f9f5c564b6b4",
     "showTitle": false,
     "title": ""
    }
   },
   "source": [
    "Our target feature 'class' also needs to be encoded. To do so, use `LabelEncoder`."
   ]
  },
  {
   "cell_type": "code",
   "execution_count": null,
   "metadata": {
    "application/vnd.databricks.v1+cell": {
     "cellMetadata": {},
     "inputWidgets": {},
     "nuid": "e78d5c47-8037-4137-a356-a67b0266d777",
     "showTitle": false,
     "title": ""
    }
   },
   "outputs": [],
   "source": [
    "# TASK >>>> Create LabelEncoder object and store it in variable labels_encoder\n",
    "\n",
    "labels_encoder = LabelEncoder()"
   ]
  },
  {
   "cell_type": "code",
   "execution_count": null,
   "metadata": {
    "application/vnd.databricks.v1+cell": {
     "cellMetadata": {},
     "inputWidgets": {},
     "nuid": "f5f1c290-8058-489a-a763-b254d5e83eb0",
     "showTitle": false,
     "title": ""
    }
   },
   "outputs": [],
   "source": [
    "# TASK >>>> Fit y_train using labels_encoder\n",
    "\n",
    "labels_encoder.fit(y_train)"
   ]
  },
  {
   "cell_type": "code",
   "execution_count": null,
   "metadata": {
    "application/vnd.databricks.v1+cell": {
     "cellMetadata": {},
     "inputWidgets": {},
     "nuid": "75adc310-87b3-44b3-8286-5c887ed7cc90",
     "showTitle": false,
     "title": ""
    }
   },
   "outputs": [],
   "source": [
    "# Print the used categories\n",
    "labels_encoder.classes_"
   ]
  },
  {
   "cell_type": "code",
   "execution_count": null,
   "metadata": {
    "application/vnd.databricks.v1+cell": {
     "cellMetadata": {},
     "inputWidgets": {},
     "nuid": "38469026-7b0f-498b-83dd-446e22ca1e35",
     "showTitle": false,
     "title": ""
    }
   },
   "outputs": [],
   "source": [
    "# TASK >>>> Transform the y_train data and assign to y_train\n",
    "\n",
    "y_train = labels_encoder.transform(y_train)"
   ]
  },
  {
   "cell_type": "code",
   "execution_count": null,
   "metadata": {
    "application/vnd.databricks.v1+cell": {
     "cellMetadata": {},
     "inputWidgets": {},
     "nuid": "14d5b3bd-f7c8-4d0d-b3dd-bd8915d233fd",
     "showTitle": false,
     "title": ""
    }
   },
   "outputs": [],
   "source": [
    "# Print y_train\n",
    "y_train"
   ]
  },
  {
   "cell_type": "code",
   "execution_count": null,
   "metadata": {
    "application/vnd.databricks.v1+cell": {
     "cellMetadata": {},
     "inputWidgets": {},
     "nuid": "f214d0b3-6246-4b6a-8e89-6fccce59530c",
     "showTitle": false,
     "title": ""
    }
   },
   "outputs": [],
   "source": [
    "# TASK >>>> Fit and transform y_test data in the same way\n",
    "\n",
    "labels_encoder.fit(y_test)\n",
    "y_test = labels_encoder.transform(y_test)\n",
    "y_test"
   ]
  },
  {
   "cell_type": "markdown",
   "metadata": {
    "application/vnd.databricks.v1+cell": {
     "cellMetadata": {},
     "inputWidgets": {},
     "nuid": "668f9963-9a36-45b9-b650-653c88e8b6eb",
     "showTitle": false,
     "title": ""
    }
   },
   "source": [
    "### Appendix\n",
    "\n",
    "Material adapted for RBI internal purposes with full permissions from original authors. [Source](https://github.com/zatkopatrik/authentic-data-science)"
   ]
  }
 ],
 "metadata": {
  "application/vnd.databricks.v1+notebook": {
   "dashboards": [],
   "language": "python",
   "notebookMetadata": {},
   "notebookName": "4_One_Hot_Encoding_answers",
   "notebookOrigID": 706562957546282,
   "widgets": {}
  },
  "kernelspec": {
   "display_name": "Python 3",
   "language": "python",
   "name": "python3"
  },
  "language_info": {
   "codemirror_mode": {
    "name": "ipython",
    "version": 3
   },
   "file_extension": ".py",
   "mimetype": "text/x-python",
   "name": "python",
   "nbconvert_exporter": "python",
   "pygments_lexer": "ipython3",
   "version": "3.10.7"
  }
 },
 "nbformat": 4,
 "nbformat_minor": 0
}
