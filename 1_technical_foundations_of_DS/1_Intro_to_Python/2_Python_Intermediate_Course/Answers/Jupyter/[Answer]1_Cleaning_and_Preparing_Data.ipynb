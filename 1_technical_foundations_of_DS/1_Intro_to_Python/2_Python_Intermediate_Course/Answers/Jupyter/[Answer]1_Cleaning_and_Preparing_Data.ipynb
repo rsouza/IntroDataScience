{
 "cells": [
  {
   "cell_type": "markdown",
   "metadata": {
    "application/vnd.databricks.v1+cell": {
     "cellMetadata": {},
     "inputWidgets": {},
     "nuid": "c91bd876-7d2c-422d-9b54-d4e73058d22b",
     "showTitle": false,
     "title": ""
    }
   },
   "source": [
    "# Cleaning and Preparing Data in Python\n",
    "\n",
    "A lot of what Data Scientists do is about cleaning data. In this following notebook, you will be going over some basic steps on hwo to do this.\n",
    "***"
   ]
  },
  {
   "cell_type": "markdown",
   "metadata": {
    "application/vnd.databricks.v1+cell": {
     "cellMetadata": {},
     "inputWidgets": {},
     "nuid": "76cde414-dedf-4232-ae08-ce3e61d0509b",
     "showTitle": false,
     "title": ""
    }
   },
   "source": [
    "## 1. Reading our MoMA Data Set\n",
    "\n",
    "This time we will work with data from the Museum of Modern Art (MoMA), a museum with one of the largest collections of modern art in the world in the center of New York City. Each row in this table represents a unique piece of art from the Museum of Modern Art. Let's take a look at the first five rows:\n",
    "\n",
    "\n",
    "\n",
    "| Title |  Artist |  Nationality | BeginDate|EndDate|Gender|Date|Department|\n",
    "|------------|:------:|----------:|---------------------:|-----------:|----------:|---------------------:|-----------:|\n",
    "| Dress MacLeod from Tartan Sets |Sarah Charlesworth |(American) | (1947) | (2013)|(Female)|1986|Prints & Illustrated Books|\n",
    "|Duplicate of plate from folio 11 verso (supplementary suite, plate 4) from ARDICIA|   Pablo Palazuelo |  (Spanish)|(1916) |(2007)|(Male)|1978|Prints & Illustrated Books|\n",
    "|Tailpiece (page 55) from SAGESSE | Maurice Denis| (French) | (1870)|(1943)|(Male)|1889-1911|Prints & Illustrated Books|\n",
    "|Headpiece (page 129) from LIVRET DE FOLASTRIES, À JANOT PARISIEN |Aristide Maillol| (French) |\t(1861) |(1944)|(Male)|1927-1940|Prints & Illustrated Books|\n",
    "|97 rue du Bac| Eugène Atget| (French) |(1857) |(1927)|(Male)|1903|\tPhotography|\n",
    "\n",
    "The MoMA data is in a ``CSV`` file called ``artworks.csv``. Below is a short explanation of some of the variable names that you encountered above.\n",
    "\n",
    "- `Title:` The title of the artwork.\n",
    "- `Artist:` The name of the artist who created the artwork.\n",
    "- `Nationality:` The nationality of the artist.\n",
    "- `BeginDate:` The year in which the artist was born.\n",
    "- `EndDate:` The year in which the artist died.\n",
    "- `Gender:` The gender of the artist.\n",
    "- `Date:` The date that the artwork was created.\n",
    "- `Department:` The department inside MoMA to which the artwork belongs.\n",
    "\n",
    "How do we access the csv file using Python then?\n",
    "Just like we learned in the first course, **Python has a built-in csv module that can handle the work of opening a CSV for us**."
   ]
  },
  {
   "cell_type": "code",
   "execution_count": 0,
   "metadata": {
    "application/vnd.databricks.v1+cell": {
     "cellMetadata": {},
     "inputWidgets": {},
     "nuid": "d46a03ad-6a41-4df6-b5f5-337121f77beb",
     "showTitle": false,
     "title": ""
    }
   },
   "outputs": [],
   "source": [
    "#First, import the reader() function from the csv module:\n",
    "from csv import reader\n",
    "\n",
    "#Second, use the Python built-in function open() to open the Artworks.csv file:\n",
    "opened_file = open('Artworks.csv')\n",
    "\n",
    "#Then use reader() to parse (or interpret) the opened_file:\n",
    "read_file = reader(opened_file)\n",
    "\n",
    "#Use the list() function to convert the read_file into a list of lists format:\n",
    "artworks = list(read_file)\n",
    "\n",
    "#Finally, remove the first row of the data, which contains the column names:\n",
    "artworks = artworks[1:]"
   ]
  },
  {
   "cell_type": "markdown",
   "metadata": {
    "application/vnd.databricks.v1+cell": {
     "cellMetadata": {},
     "inputWidgets": {},
     "nuid": "02be0eca-9cfd-470e-abf7-cd517c31e75a",
     "showTitle": false,
     "title": ""
    }
   },
   "source": [
    "## 2. Replacing Substrings with the replace Method\n",
    "\n",
    "Sometimes when we're cleaning data, some parts of strings need to be replace in order to make our data look clean and consistent.\n",
    "\n",
    "The technique we will learn in this section is called <b>substring</b>. \n",
    ">For example, if we have a string \"Swimming is my favorite activity\" and we want to change \"Swimming\" to \"Running\", with the substring technique, the sentence will look like this: \"Running is my favorite activity\".\n",
    "\n",
    "In order to do this, we'll need to use the `str.replace()` function. The following steps take place:\n",
    "1.  to find all instances of the old substring, which in our example \"Swimming\".\n",
    "2.  to replace each of those instances with the new substring, \"Running\".\n",
    "\n",
    "`str.replace()` takes two arguments:\n",
    "1. old: The substring we want to find and replace.\n",
    "2. new: The substring we want to replace old with.\n",
    "\n",
    "When we use `str.replace()`, we substitute the str for the variable name of the string we want to modify. Let's look at an example in code:"
   ]
  },
  {
   "cell_type": "code",
   "execution_count": 0,
   "metadata": {
    "application/vnd.databricks.v1+cell": {
     "cellMetadata": {},
     "inputWidgets": {},
     "nuid": "3e029abb-9d7e-42e7-bb6c-5627820ebc38",
     "showTitle": false,
     "title": ""
    }
   },
   "outputs": [],
   "source": [
    "fav_activity = \"Swimming is my favorite activity.\"\n",
    "print(fav_activity) \n",
    "fav_activity = fav_activity.replace(\"Swimming\", \"Running\")\n",
    "print(fav_activity)"
   ]
  },
  {
   "cell_type": "markdown",
   "metadata": {
    "application/vnd.databricks.v1+cell": {
     "cellMetadata": {},
     "inputWidgets": {},
     "nuid": "809cbfe7-605d-483a-b06a-5f8b527a7bce",
     "showTitle": false,
     "title": ""
    }
   },
   "source": [
    "In the code above, we:\n",
    "\n",
    "- Created the original string and assigned it to the variable name ``fav_activity``.\n",
    "- Replaced the substring \"Swimming\" with the substring \"Running\" by calling `fav_activity.replace()`.\n",
    "- Assigned the result back to the original variable name using the `=` sign.\n",
    "\n",
    "There is something to pay attention to is that when we use `str.replace()`, this function will replace all instances of the substring it finds. See the following example:"
   ]
  },
  {
   "cell_type": "code",
   "execution_count": 0,
   "metadata": {
    "application/vnd.databricks.v1+cell": {
     "cellMetadata": {},
     "inputWidgets": {},
     "nuid": "3356f2b6-2a97-4788-b9c6-71a684576a61",
     "showTitle": false,
     "title": ""
    }
   },
   "outputs": [],
   "source": [
    "fav_activity = fav_activity.replace(\"i\", \"I\")\n",
    "print(fav_activity)"
   ]
  },
  {
   "cell_type": "markdown",
   "metadata": {
    "application/vnd.databricks.v1+cell": {
     "cellMetadata": {},
     "inputWidgets": {},
     "nuid": "fc121c85-f7ac-4ddd-aa84-b93f07724ad9",
     "showTitle": false,
     "title": ""
    }
   },
   "source": [
    "You see that in the code above, all \"i\"s in the fav_activity are replaced with \"I\". This is something to keep in mind when we use `str.replace()`."
   ]
  },
  {
   "cell_type": "markdown",
   "metadata": {
    "application/vnd.databricks.v1+cell": {
     "cellMetadata": {},
     "inputWidgets": {},
     "nuid": "e59dd487-84cd-4b2a-aa77-86030d7662cf",
     "showTitle": false,
     "title": ""
    }
   },
   "source": [
    "### Task 2.1.2:\n",
    "\n",
    "In the text editor below, we have created a string variable `string1` containing the string `\"I am awesome\"`.\n",
    "Now use the `str.replace()` method to create a new string, `string2`:\n",
    "- The new string should have the value `\"I am amazing\"`."
   ]
  },
  {
   "cell_type": "code",
   "execution_count": 0,
   "metadata": {
    "application/vnd.databricks.v1+cell": {
     "cellMetadata": {},
     "inputWidgets": {},
     "nuid": "8238f32d-ab24-47ba-8cea-053196e9cd6f",
     "showTitle": false,
     "title": ""
    }
   },
   "outputs": [],
   "source": [
    "string1 = \"I am awesome.\"\n",
    "\n",
    "# Start your code below:\n",
    "\n",
    "string2 = string1.replace('awesome', 'amazing')\n",
    "print(string2)"
   ]
  },
  {
   "cell_type": "markdown",
   "metadata": {
    "application/vnd.databricks.v1+cell": {
     "cellMetadata": {},
     "inputWidgets": {},
     "nuid": "4644c6ca-f789-4364-811c-cdf1a0f9721d",
     "showTitle": false,
     "title": ""
    }
   },
   "source": [
    "## 3. Cleaning the Nationality and Gender Columns\n",
    "\n",
    "Now let's see how we can use the `str.replace()` method on a bigger data set. I have a shortened version of our data set below:\n",
    "\n",
    "| Title |  Artist |  Nationality |Gender|\n",
    "|------------|:------:|----------:|---------------------:\n",
    "| Dress MacLeod from Tartan Sets |Sarah Charlesworth |(American) | (1947) | (2013)|(Female)|\n",
    "|Duplicate of plate from folio 11 verso (supplementary suite, plate 4) from ARDICIA|   Pablo Palazuelo |  (Spanish)|(Male)|\n",
    "|Tailpiece (page 55) from SAGESSE | Maurice Denis| (French) |(Male)|\n",
    "|Headpiece (page 129) from LIVRET DE FOLASTRIES, À JANOT PARISIEN |Aristide Maillol| (French) |(Male)|\n",
    "|97 rue du Bac| Eugène Atget| (French) |(Male)|\n",
    "\n",
    "Do you see that the Nationality and Gender columns have parentheses (()) at the start and the end of the values? In this session, we want to learn how to remove those values.\n",
    "\n",
    "In the session, we learned how to use `str.replace()` to replace one substring with another. What we want, however, is to remove a substring, not replace it. **In order to remove a substring, all we need to do is to replace the substring with an empty string: `\"\"`**.\n",
    "\n",
    "We need to perform this action many times in order to replace all unwanted characters in our whole moma data set. We can do this with a for loop. Let's see an example using a small sample of our data:"
   ]
  },
  {
   "cell_type": "code",
   "execution_count": 0,
   "metadata": {
    "application/vnd.databricks.v1+cell": {
     "cellMetadata": {},
     "inputWidgets": {},
     "nuid": "317e6486-2e30-4a9e-95cc-d86ee46c5ee0",
     "showTitle": false,
     "title": ""
    }
   },
   "outputs": [],
   "source": [
    "nationalities = ['(American)', '(Spanish)', '(French)']\n",
    "\n",
    "for n in nationalities:\n",
    "    clean_open = n.replace(\"(\",\"\")\n",
    "    print(clean_open)"
   ]
  },
  {
   "cell_type": "markdown",
   "metadata": {
    "application/vnd.databricks.v1+cell": {
     "cellMetadata": {},
     "inputWidgets": {},
     "nuid": "0fcc8746-e5bb-4dd6-8d4e-47fa3b10ec6c",
     "showTitle": false,
     "title": ""
    }
   },
   "source": [
    "We removed the `(` character from the start of each string. In order to remove both, we'll have to perform the `str.replace()` twice:"
   ]
  },
  {
   "cell_type": "code",
   "execution_count": 0,
   "metadata": {
    "application/vnd.databricks.v1+cell": {
     "cellMetadata": {},
     "inputWidgets": {},
     "nuid": "4a1e90d2-b234-4e24-aed6-00987b01b5b7",
     "showTitle": false,
     "title": ""
    }
   },
   "outputs": [],
   "source": [
    "nationalities = ['(American)', '(Spanish)', '(French)']\n",
    "\n",
    "for n in nationalities:\n",
    "    clean_open = n.replace(\"(\",\"\")\n",
    "    clean_both = clean_open.replace(\")\",\"\")\n",
    "    print(clean_both)"
   ]
  },
  {
   "cell_type": "markdown",
   "metadata": {
    "application/vnd.databricks.v1+cell": {
     "cellMetadata": {},
     "inputWidgets": {},
     "nuid": "612ed1b3-bf3d-41ff-8203-fdebc039a167",
     "showTitle": false,
     "title": ""
    }
   },
   "source": [
    "How can we adopt this code to work on the whole data set? We'll start by printing the value from the Nationalities column (with a column index `4`) for three rows in our moma data set. We'll use the same rows after our loop so we can see how the values changed:"
   ]
  },
  {
   "cell_type": "code",
   "execution_count": 0,
   "metadata": {
    "application/vnd.databricks.v1+cell": {
     "cellMetadata": {},
     "inputWidgets": {},
     "nuid": "07e16651-b8d4-497e-8c89-78dbd58764a7",
     "showTitle": false,
     "title": ""
    }
   },
   "outputs": [],
   "source": [
    "# Read in csv file\n",
    "from csv import reader\n",
    "opened_file = open('Artworks.csv',encoding=\"utf-8\")\n",
    "read_file = reader(opened_file)\n",
    "moma = list(read_file)\n",
    "moma = moma[1:]\n",
    "\n",
    "print(moma[200][4])\n",
    "print(moma[400][4])\n",
    "print(moma[800][4])"
   ]
  },
  {
   "cell_type": "markdown",
   "metadata": {
    "application/vnd.databricks.v1+cell": {
     "cellMetadata": {},
     "inputWidgets": {},
     "nuid": "858fb5cc-cc7c-4f36-ba32-9c56dd19caef",
     "showTitle": false,
     "title": ""
    }
   },
   "source": [
    "Next, we'll loop over each row in the moma data set. In each row, we'll:\n",
    "\n",
    "- Assign the Nationality value from index `4` to a variable name.\n",
    "- Use `nationality.replace()` to remove all instances of the open parentheses.\n",
    "- Use `nationality.replace()` to remove all instances of the close parentheses.\n",
    "- Assign the cleaned nationality back to row index `4`."
   ]
  },
  {
   "cell_type": "code",
   "execution_count": 0,
   "metadata": {
    "application/vnd.databricks.v1+cell": {
     "cellMetadata": {},
     "inputWidgets": {},
     "nuid": "18f8a6f5-0972-4b3a-8fa5-cf35abd8f75b",
     "showTitle": false,
     "title": ""
    }
   },
   "outputs": [],
   "source": [
    "for row in moma:\n",
    "    nationality = row[4]\n",
    "    nationality = nationality.replace(\"(\",\"\")\n",
    "    nationality = nationality.replace(\")\",\"\")\n",
    "    row[4] = nationality"
   ]
  },
  {
   "cell_type": "code",
   "execution_count": 0,
   "metadata": {
    "application/vnd.databricks.v1+cell": {
     "cellMetadata": {},
     "inputWidgets": {},
     "nuid": "87d8afd4-0b89-443f-b13d-ba8e6dd20eee",
     "showTitle": false,
     "title": ""
    }
   },
   "outputs": [],
   "source": [
    "# Let's look at the values of the same three rows after our code:\n",
    "\n",
    "print(moma[200][4])\n",
    "print(moma[400][4])\n",
    "print(moma[800][4])"
   ]
  },
  {
   "cell_type": "markdown",
   "metadata": {
    "application/vnd.databricks.v1+cell": {
     "cellMetadata": {},
     "inputWidgets": {},
     "nuid": "b0b6a78e-89ca-4cd9-affd-a247024b34e4",
     "showTitle": false,
     "title": ""
    }
   },
   "source": [
    "### Task 2.1.3:\n",
    "Now it's your turn — you'll be removing the parentheses from both the `Nationality` and `Gender` columns.\n",
    "Gender information you can find at index `7` of the row."
   ]
  },
  {
   "cell_type": "code",
   "execution_count": 0,
   "metadata": {
    "application/vnd.databricks.v1+cell": {
     "cellMetadata": {},
     "inputWidgets": {},
     "nuid": "84e5fb30-c1d4-4cf9-b348-51a8a2db4c1d",
     "showTitle": false,
     "title": ""
    }
   },
   "outputs": [],
   "source": [
    "# Variables you create in previous screens\n",
    "# are available to you, so you don't need\n",
    "# to read the CSV again.\n",
    "\n",
    "# Start your code here:\n",
    "for row in moma:\n",
    "    gender = row[7]\n",
    "    gender = gender.replace(\"(\",\"\")\n",
    "    gender = gender.replace(\")\",\"\")\n",
    "    row[7] = gender\n",
    "\n",
    "    \n",
    "print(moma[200][7])\n",
    "print(moma[400][7])\n",
    "print(moma[800][7])"
   ]
  },
  {
   "cell_type": "markdown",
   "metadata": {
    "application/vnd.databricks.v1+cell": {
     "cellMetadata": {},
     "inputWidgets": {},
     "nuid": "012b0284-cd69-4f85-a475-aa27297eaa65",
     "showTitle": false,
     "title": ""
    }
   },
   "source": [
    "## 4. String Capitalization\n",
    "\n",
    "The Gender column in our data set contains four unique values:\n",
    "\n",
    "- (an empty string)\n",
    "- \"Male\"\n",
    "- \"Female\"\n",
    "- \"male\""
   ]
  },
  {
   "cell_type": "markdown",
   "metadata": {
    "application/vnd.databricks.v1+cell": {
     "cellMetadata": {},
     "inputWidgets": {},
     "nuid": "77390d03-a4eb-48f3-90bc-0bef8b3c7958",
     "showTitle": false,
     "title": ""
    }
   },
   "source": [
    "In our data set, there are two different capitalizations used in our data set for \"male.\" This could be caused by manual data entry. Different people could use different capitalizations when they enter words.\n",
    "\n",
    "There are a few ways we could handle this using what we know so far:\n",
    "\n",
    "1. We could use ``str.replace()`` to replace m with ``M``, but then we'd end up with instances of FeMale.\n",
    "2. We could use ``str.replace()`` to replace male with ``Male``. This would also give us instances of FeMale.\n",
    "\n",
    "However, here comes the problem: even if the word \"male\" wasn't contained in the word \"female,\" both of these techniques wouldn't be good options if we had a column with many different values, like our Nationality column. Instead, what we should use is the <b>str.title()</b> method.\n",
    "> ``str.title()``: a Python string method designed specifically for handling capitalization. The method returns a copy of the string with the first letter of each word transformed to uppercase (also known as <b>title case</b>).\n",
    "\n",
    "Let's take a look at an example:"
   ]
  },
  {
   "cell_type": "code",
   "execution_count": 0,
   "metadata": {
    "application/vnd.databricks.v1+cell": {
     "cellMetadata": {},
     "inputWidgets": {},
     "nuid": "b93e0671-e695-4796-8b7a-6cc8ef3e02ed",
     "showTitle": false,
     "title": ""
    }
   },
   "outputs": [],
   "source": [
    "my_string = \"The cool thing about this string is that it has a CoMbInAtIoN of UPPERCASE and lowercase letters!\"\n",
    "\n",
    "my_string_title = my_string.title()\n",
    "print(my_string_title)"
   ]
  },
  {
   "cell_type": "markdown",
   "metadata": {
    "application/vnd.databricks.v1+cell": {
     "cellMetadata": {},
     "inputWidgets": {},
     "nuid": "cb016fc4-2446-478d-9584-4dfa281749ff",
     "showTitle": false,
     "title": ""
    }
   },
   "source": [
    "Using title case will give us consistent capitalization for all values in the Gender column.\n",
    "\n",
    "We have a number of rows containing an empty string (`\"\"`) for the Gender column. This could be a result of:\n",
    "\n",
    "- The person entering the data has no information about the gender of the artist.\n",
    "- The artist is unknown and so is the gender.\n",
    "- The artist's gender is non-binary.\n",
    "\n",
    "Now let's try to use this technique to make the capitalization of both the Nationality and Gender columns uniform. The Nationality column has 84 unique values, so to help you, we'll provide you with the values that aren't already in title case:\n",
    "\n",
    "- `''`\n",
    "- `'Nationality unknown'`\n",
    "\n",
    "### Task 2.1.4:\n",
    "\n",
    "Use a loop to iterate over all rows in the moma list of lists. For each row:\n",
    "\n",
    "1. Clean the Gender column.\n",
    "    - Assign the value from the Gender column, at index ``7``, to a variable.\n",
    "    - Make the changes to the value of that variable.\n",
    "        - Use the `str.title()` method to make the capitalization uniform.\n",
    "        - Use an if statement to check if the value is an empty string. If the value is an empty string, give it the value `\"Gender Unknown/Other\"`.\n",
    "    - Assign the modified variable back to list index `7` of the row.\n",
    "2. Clean the Nationality column of the data set (found at index `4`) by repeating the same technique you used for the Gender column.\n",
    "    - For missing values in the `Nationality` column, use the string `\"Nationality Unknown\"`."
   ]
  },
  {
   "cell_type": "code",
   "execution_count": 0,
   "metadata": {
    "application/vnd.databricks.v1+cell": {
     "cellMetadata": {},
     "inputWidgets": {},
     "nuid": "034c0e29-c480-429d-b195-addc495acf02",
     "showTitle": false,
     "title": ""
    }
   },
   "outputs": [],
   "source": [
    "# Start your code below:\n",
    "\n",
    "for row in moma:\n",
    "    gender = row[7]\n",
    "    gender.title()\n",
    "    if(gender == \"\"):\n",
    "        gender = \"Gender Unknown/Other\"\n",
    "    row[7] = gender\n",
    "\n",
    "for row in moma:\n",
    "    nationality = row[4]\n",
    "    nationality.title()\n",
    "    if(nationality == \"\"):\n",
    "        nationality = \"Nationality Unknown\"\n",
    "    row[4] = nationality\n",
    "\n",
    "def Capitalization(index):\n",
    "    for row in moma:\n",
    "        value = row[index]\n",
    "        value.title()\n",
    "        if(value == \"\"):\n",
    "            value == \"Unknown\"\n",
    "        row[index] = value"
   ]
  },
  {
   "cell_type": "markdown",
   "metadata": {
    "application/vnd.databricks.v1+cell": {
     "cellMetadata": {},
     "inputWidgets": {},
     "nuid": "8c1106e1-55f3-4469-a042-1daf97e7d52f",
     "showTitle": false,
     "title": ""
    }
   },
   "source": [
    "## 5. Errors During Data Cleaning\n",
    "\n",
    "We have analyzed the artist nationalities. Now let's have a look at the <b>BeginDate</b> and <b>EndDate</b> columns\n",
    "\n",
    "These two columns contain the birth and death dates of the artist who created the work. Let's take a look at the column:"
   ]
  },
  {
   "cell_type": "code",
   "execution_count": 0,
   "metadata": {
    "application/vnd.databricks.v1+cell": {
     "cellMetadata": {},
     "inputWidgets": {},
     "nuid": "f11e71bf-e943-4d6f-a698-a08c80c99502",
     "showTitle": false,
     "title": ""
    }
   },
   "outputs": [],
   "source": [
    "for row in moma[:5]:\n",
    "    birth_date = row[5]\n",
    "    death_date = row[6]\n",
    "    print([birth_date, death_date])"
   ]
  },
  {
   "cell_type": "markdown",
   "metadata": {
    "application/vnd.databricks.v1+cell": {
     "cellMetadata": {},
     "inputWidgets": {},
     "nuid": "1b22c100-e63e-43a5-8948-19e18131a6c2",
     "showTitle": false,
     "title": ""
    }
   },
   "source": [
    "These values are wrapped in parentheses as four-digit strings. How can we clean these columns? We need to:\n",
    "- Remove the parentheses from the start and the end of each value.\n",
    "- Convert the values from the string type to an integer type. This will help us perform calculations with them later.\n",
    "\n",
    "In the previous two screens, we had to repeat code twice — first when we cleaned the Gender column, and then when we cleaned the Nationality column. If we don't want to keep repeating code, we can create a function that performs these operations, then use that function to clean each column."
   ]
  },
  {
   "cell_type": "code",
   "execution_count": 0,
   "metadata": {
    "application/vnd.databricks.v1+cell": {
     "cellMetadata": {},
     "inputWidgets": {},
     "nuid": "1ee85c20-2067-4dfc-ab73-1113d5936788",
     "showTitle": false,
     "title": ""
    }
   },
   "outputs": [],
   "source": [
    "def clean_and_convert(date): #Takes a single argument\n",
    "    date = date.replace(\"(\", \"\") #Uses str.replace() to remove the \"(\" character\n",
    "\n",
    "    date = date.replace(\")\", \"\") #Uses str.replace() to remove the \")\" character\n",
    "    date = int(date) #Convert the string to an integer\n",
    "    return date"
   ]
  },
  {
   "cell_type": "markdown",
   "metadata": {
    "application/vnd.databricks.v1+cell": {
     "cellMetadata": {},
     "inputWidgets": {},
     "nuid": "36944647-3fe9-4325-92ca-0f3f348b3f66",
     "showTitle": false,
     "title": ""
    }
   },
   "source": [
    "If we have a ``BeginDate`` value of '(1958)':"
   ]
  },
  {
   "cell_type": "code",
   "execution_count": 0,
   "metadata": {
    "application/vnd.databricks.v1+cell": {
     "cellMetadata": {},
     "inputWidgets": {},
     "nuid": "4d3a045d-44ea-4b8b-b70b-7d4044e8b8b6",
     "showTitle": false,
     "title": ""
    }
   },
   "outputs": [],
   "source": [
    "birth_date = '(1958)'\n",
    "cleaned_date = clean_and_convert(birth_date)\n",
    "print(cleaned_date)\n",
    "print(type(cleaned_date))"
   ]
  },
  {
   "cell_type": "markdown",
   "metadata": {
    "application/vnd.databricks.v1+cell": {
     "cellMetadata": {},
     "inputWidgets": {},
     "nuid": "c25541d9-3fba-4502-a263-49f832a6df11",
     "showTitle": false,
     "title": ""
    }
   },
   "source": [
    "Our function successfully removes the parentheses and converts the value to an integer type. Unfortunately, our function won't work for every value in our data set. If we have two values at the same time:"
   ]
  },
  {
   "cell_type": "code",
   "execution_count": 0,
   "metadata": {
    "application/vnd.databricks.v1+cell": {
     "cellMetadata": {},
     "inputWidgets": {},
     "nuid": "1ad50a33-ffb2-4369-b92b-f4a614e121fe",
     "showTitle": false,
     "title": ""
    }
   },
   "outputs": [],
   "source": [
    "row_43 = moma[42] # row 43\n",
    "print(row_43)"
   ]
  },
  {
   "cell_type": "code",
   "execution_count": 0,
   "metadata": {
    "application/vnd.databricks.v1+cell": {
     "cellMetadata": {},
     "inputWidgets": {},
     "nuid": "e9ebefa2-0745-4a63-ae3d-63dbb263fb7c",
     "showTitle": false,
     "title": ""
    }
   },
   "outputs": [],
   "source": [
    "#This will throw an error\n",
    "\n",
    "birth_date = '(1936) (0) (1936) (1931) (1931) (1944)'\n",
    "cleaned_date = clean_and_convert(birth_date)"
   ]
  },
  {
   "cell_type": "markdown",
   "metadata": {
    "application/vnd.databricks.v1+cell": {
     "cellMetadata": {},
     "inputWidgets": {},
     "nuid": "91c4cb5f-a931-42bc-bbc8-be9262bfe327",
     "showTitle": false,
     "title": ""
    }
   },
   "source": [
    "Our code has not completed successfully, instead returning a `ValueError`. As we learned in the previous course, the name for the error message is called a traceback. The final line of the traceback tells us the underlying error:"
   ]
  },
  {
   "cell_type": "markdown",
   "metadata": {
    "application/vnd.databricks.v1+cell": {
     "cellMetadata": {},
     "inputWidgets": {},
     "nuid": "99eb13f2-ca40-4242-bb5b-988a8131e0fe",
     "showTitle": false,
     "title": ""
    }
   },
   "source": [
    "ValueError: invalid literal for int() with base 10: '1936 0 1936 1931 1931 1944'"
   ]
  },
  {
   "cell_type": "markdown",
   "metadata": {
    "application/vnd.databricks.v1+cell": {
     "cellMetadata": {},
     "inputWidgets": {},
     "nuid": "b82118a6-c5b5-4cab-8f75-ce7511ab5f5d",
     "showTitle": false,
     "title": ""
    }
   },
   "source": [
    "One way to handle these scenarios is to use an if statement to make sure we aren't encountering an empty string before we convert our value."
   ]
  },
  {
   "cell_type": "markdown",
   "metadata": {
    "application/vnd.databricks.v1+cell": {
     "cellMetadata": {},
     "inputWidgets": {},
     "nuid": "a0b4c772-6943-4f41-a118-ed92c6f9396e",
     "showTitle": false,
     "title": ""
    }
   },
   "source": [
    "## 6. Parsing Numbers from Complex Strings, Part One\n",
    "\n",
    "We have successfully converted the ``BeginDate`` and ``EndDate`` columns into numeric values. If we were to combine the data from the BeginDate column (the artist's year of birth) with the data in the Date column (the year of creation) we can therefore calculate the age at which the artist produced this piece of artwork.\n",
    "\n",
    "That means we need to clean the data in the `Date` column in order to perform such calculation as mentioned above.\n",
    "\n",
    "Let's examine a sample of the types of values contained in this column:"
   ]
  },
  {
   "cell_type": "markdown",
   "metadata": {
    "application/vnd.databricks.v1+cell": {
     "cellMetadata": {},
     "inputWidgets": {},
     "nuid": "4d1718a3-455a-42e6-b1f1-2355bdba2c50",
     "showTitle": false,
     "title": ""
    }
   },
   "source": [
    "````python\n",
    "1912\n",
    "1929\n",
    "1913-1923\n",
    "(1951)\n",
    "1994\n",
    "1934\n",
    "c. 1915\n",
    "1995\n",
    "c. 1912\n",
    "(1988)\n",
    "2002\n",
    "1957-1959\n",
    "c. 1955.\n",
    "c. 1970's\n",
    "C. 1990-1999\n",
    "````"
   ]
  },
  {
   "cell_type": "markdown",
   "metadata": {
    "application/vnd.databricks.v1+cell": {
     "cellMetadata": {},
     "inputWidgets": {},
     "nuid": "3c5275fb-1a05-4db8-80b3-843dd800b714",
     "showTitle": false,
     "title": ""
    }
   },
   "source": [
    "This column contains data in many different formats:\n",
    "\n",
    "- Some years are in parentheses.\n",
    "- Some years have c. or C. before them, indicating that the year is approximate.\n",
    "- Some have year ranges, indicated with a dash.\n",
    "- Some have 's to indicate a decade.\n",
    "\n",
    "In this session,we want to to remove all the extra characters and be left with either a range or a single year. We will then finish processing the data in the sessions that follow. For the two special cases listed above:\n",
    "\n",
    "- Where there is an 's that signifies a decade, we'll use the year without the 's.\n",
    "- Where c. or similar indicates an approximate year, we'll remove the c. but keep the year."
   ]
  },
  {
   "cell_type": "markdown",
   "metadata": {
    "application/vnd.databricks.v1+cell": {
     "cellMetadata": {},
     "inputWidgets": {},
     "nuid": "b6d842f6-9435-4053-9a9a-0b3540368c8f",
     "showTitle": false,
     "title": ""
    }
   },
   "source": [
    "### Task 2.1.6 (OPTIONAL):\n",
    "1. Create a function called `strip_characters()`, which accepts a string argument and:\n",
    "    - Iterates over the `bad_chars` list, using `str.replace()` to remove each character.\n",
    "    - Returns the cleaned string.\n",
    "2. Create an empty list, `stripped_test_data`.\n",
    "3. Iterate over the strings in `test_data`, and on each iteration:\n",
    "    - Use the function you created earlier to clean the string.\n",
    "    - Append the cleaned string to the `stripped_test_data` list."
   ]
  },
  {
   "cell_type": "code",
   "execution_count": 0,
   "metadata": {
    "application/vnd.databricks.v1+cell": {
     "cellMetadata": {},
     "inputWidgets": {},
     "nuid": "6d1036f1-9ea2-4fb0-b995-e3466dab5220",
     "showTitle": false,
     "title": ""
    }
   },
   "outputs": [],
   "source": [
    "test_data = [\"1912\", \"1929\", \"1913-1923\",\n",
    "             \"(1951)\", \"1994\", \"1934\",\n",
    "             \"c. 1915\", \"1995\", \"c. 1912\",\n",
    "             \"(1988)\", \"2002\", \"1957-1959\",\n",
    "             \"c. 1955.\", \"c. 1970's\", \n",
    "             \"C. 1990-1999\"]\n",
    "\n",
    "\n",
    "bad_chars = [\"(\",\")\",\"c\",\"C\",\".\",\"s\",\"'\", \" \"]\n",
    "\n",
    "# Start your code here:\n",
    "\n",
    "def strip_charaters(value):\n",
    "    for x in bad_chars:\n",
    "        value = value.replace(x, \"\")\n",
    "    return value\n",
    "\n",
    "stripped_test_data = []\n",
    "for x in test_data:\n",
    "    stripped_test_data.append(strip_charaters(x))\n",
    "\n",
    "print(stripped_test_data)"
   ]
  },
  {
   "cell_type": "markdown",
   "metadata": {
    "application/vnd.databricks.v1+cell": {
     "cellMetadata": {},
     "inputWidgets": {},
     "nuid": "ec807b44-9ff5-4436-8fae-14ec5ef01e2c",
     "showTitle": false,
     "title": ""
    }
   },
   "source": [
    "## 7. Parsing Numbers from Complex Strings, Part Two"
   ]
  },
  {
   "cell_type": "markdown",
   "metadata": {
    "application/vnd.databricks.v1+cell": {
     "cellMetadata": {},
     "inputWidgets": {},
     "nuid": "1b486e89-fdf0-4ec1-b903-8654a1801c0a",
     "showTitle": false,
     "title": ""
    }
   },
   "source": [
    "Now let's take a look at the result from your previous task:"
   ]
  },
  {
   "cell_type": "markdown",
   "metadata": {
    "application/vnd.databricks.v1+cell": {
     "cellMetadata": {},
     "inputWidgets": {},
     "nuid": "5dad8a72-a0ee-48f0-8d14-e9624dc631d5",
     "showTitle": false,
     "title": ""
    }
   },
   "source": [
    "1912\n",
    "1929\n",
    "1913-1923\n",
    "1951\n",
    "1994\n",
    "1934\n",
    "1915\n",
    "1995\n",
    "1912\n",
    "1988\n",
    "2002\n",
    "1957-1959\n",
    "1955\n",
    "1970\n",
    "1990-1999"
   ]
  },
  {
   "cell_type": "markdown",
   "metadata": {
    "application/vnd.databricks.v1+cell": {
     "cellMetadata": {},
     "inputWidgets": {},
     "nuid": "af7de7d9-96e3-49a4-ad0e-bf55f9b3653f",
     "showTitle": false,
     "title": ""
    }
   },
   "source": [
    "There are two different scenarios that we need to pay attention to when we are converting them into integers:\n",
    "- we have values in a single year, like 1912\n",
    "- we also have values in ranges of years, like 1913-1923"
   ]
  },
  {
   "cell_type": "markdown",
   "metadata": {
    "application/vnd.databricks.v1+cell": {
     "cellMetadata": {},
     "inputWidgets": {},
     "nuid": "38c49282-8dfc-4586-9aa6-1711665b4ef6",
     "showTitle": false,
     "title": ""
    }
   },
   "source": [
    "As a data scientist, you need to make decisions on how you will structure your code. One option could be to discard all approximate years so we know that our calculations are exact. For example, when we're calculating an artist's age, an approximate age is also acceptable (the difference between 30 and 33 years old is more nuanced than we need).\n",
    "\n",
    "Whichever way you decide to proceed isn't as important as thinking about your analysis and having a valid reason for this particular decision.\n",
    "\n",
    "So this is what we will do:\n",
    "- when we have values in a single year, like 1912, we'll keep it as it is.\n",
    "- when we also have values in ranges of years, like 1913-1923, we'll average the two years.\n",
    "\n",
    "How do we proceed with our above decision? We can do the following:\n",
    "1. Have an if statement to check if there is a dash character ``-`` in the string, so we know if it's a range or not.\n",
    "2. If the date is a range:\n",
    "    - Split the string into two strings, take the first part (before the dash), and the second part (after the dash)\n",
    "    - Convert the two numbers into integer type\n",
    "    - Take the average of those two numbers\n",
    "    - Use the round() function to round the average\n",
    "3.  If the date isn't a range:\n",
    "    - Convert the value to an integer type.\n",
    "    \n",
    "To check whether a substring exists in a string (to check if the year is a range or not), we need to use the `in` operator. See in the example below:"
   ]
  },
  {
   "cell_type": "code",
   "execution_count": 0,
   "metadata": {
    "application/vnd.databricks.v1+cell": {
     "cellMetadata": {},
     "inputWidgets": {},
     "nuid": "35d1d1b3-a44a-4da8-b0a3-1fb7030c7bc3",
     "showTitle": false,
     "title": ""
    }
   },
   "outputs": [],
   "source": [
    "if \"male\" in \"female\":\n",
    "    print(\"The substring was found.\")\n",
    "else:\n",
    "    print(\"The substring was not found.\")"
   ]
  },
  {
   "cell_type": "code",
   "execution_count": 0,
   "metadata": {
    "application/vnd.databricks.v1+cell": {
     "cellMetadata": {},
     "inputWidgets": {},
     "nuid": "66cdb40b-8382-41fa-bb0d-9c2c80a5743d",
     "showTitle": false,
     "title": ""
    }
   },
   "outputs": [],
   "source": [
    "if \"love\" in \"loving\":\n",
    "    print(\"The substring was found.\")\n",
    "else:\n",
    "    print(\"The substring was not found.\")"
   ]
  },
  {
   "cell_type": "markdown",
   "metadata": {
    "application/vnd.databricks.v1+cell": {
     "cellMetadata": {},
     "inputWidgets": {},
     "nuid": "550fa7e9-9fdd-4d2e-8c92-b545a2afdf4d",
     "showTitle": false,
     "title": ""
    }
   },
   "source": [
    "Second step, to split a string into two parts we need to use the `str.split()` method. This method can help us to split a string into a list of strings. See a quick example below:"
   ]
  },
  {
   "cell_type": "code",
   "execution_count": 0,
   "metadata": {
    "application/vnd.databricks.v1+cell": {
     "cellMetadata": {},
     "inputWidgets": {},
     "nuid": "b93d9764-fe74-4241-a077-9a05d9cf3981",
     "showTitle": false,
     "title": ""
    }
   },
   "outputs": [],
   "source": [
    "year_in_range = \"1995-1998\"\n",
    "print(year_in_range.split(\"-\"))"
   ]
  },
  {
   "cell_type": "markdown",
   "metadata": {
    "application/vnd.databricks.v1+cell": {
     "cellMetadata": {},
     "inputWidgets": {},
     "nuid": "7be726e4-f036-4f4f-b3a2-3d33edaaf77a",
     "showTitle": false,
     "title": ""
    }
   },
   "source": [
    "### Task 2.1.7(HARD):\n",
    "\n",
    "The `stripped_test_data` list, `strip_characters()` function and `bad_chars` list are provided for you in the editor below.\n",
    "\n",
    "1. Create a function called `process_date()` which accepts a string, and follows the logic we outlined above:\n",
    "    - Checks if the dash character ``-`` is in the string so we know if it's a range or not.\n",
    "    - If it is a range:\n",
    "        * Splits the string into two strings, before and after the dash character.\n",
    "        * Converts the two numbers to the integer type and then averages them by adding them together and dividing by two.\n",
    "        * Uses the `round()` function to round the average, so values like 1964.5 become 1964.\n",
    "    - If it isn't a range:\n",
    "        - Converts the value to an `integer` type.\n",
    "    - Finally, returns the value.\n",
    "2. Create an empty list `processed_test_data`.\n",
    "3. Loop over the `test_data` list using the `strip_characters()` function and your `process_date()` function. Process the dates and append each processed date back to the `processed_test_data` list.\n",
    "\n",
    "\n",
    "4. (OPTIONAL) Once your code works with the test data, you can then iterate over the moma list of lists. This list contains several date formats that we have not discussed so far. Try to deal with them, and any error you might get, in a way that seems sensible to you. In each iteration:\n",
    "    - Create an empty list called `moma_dates`.\n",
    "    - Loop over the rows of the `moma` list of lists.\n",
    "    - Assign the value from the Date column (index `8`) to a variable.\n",
    "    - Use the `strip_characters()` function to remove any bad characters.\n",
    "    - Use the `process_date()` to convert the date.\n",
    "    - Perform any other processing that you see fit to get a clean, single date.\n",
    "    - Append the processed value to `moma_dates`.\n",
    "\n",
    " "
   ]
  },
  {
   "cell_type": "code",
   "execution_count": 0,
   "metadata": {
    "application/vnd.databricks.v1+cell": {
     "cellMetadata": {},
     "inputWidgets": {},
     "nuid": "c5886310-c14b-4516-9e6f-48debc9ff34f",
     "showTitle": false,
     "title": ""
    }
   },
   "outputs": [],
   "source": [
    "from csv import reader\n",
    "opened_file = open('Artworks.csv', encoding='utf8')\n",
    "read_file = reader(opened_file)\n",
    "moma = list(read_file)\n",
    "\n",
    "test_data = [\"1912\", \"1929\", \"1913-1923\",\n",
    "             \"(1951)\", \"1994\", \"1934\",\n",
    "             \"c. 1915\", \"1995\", \"c. 1912\",\n",
    "             \"(1988)\", \"2002\", \"1957-1959\",\n",
    "             \"c. 1955.\", \"c. 1970's\", \n",
    "             \"C. 1990-1999\"]\n",
    "\n",
    "def strip_characters(string):\n",
    "    for char in string:\n",
    "        if char not in '01234567890-':\n",
    "            string = string.replace(char,\"\")\n",
    "    return string\n",
    "\n",
    "\n",
    "\n",
    "# Start your code here:\n",
    "\n",
    "def process_date(string):\n",
    "    if \"-\" in string:\n",
    "        date_range = string.split(\"-\")\n",
    "        date = round((int(date_range[0])+int(date_range[1]))/2)\n",
    "    else:\n",
    "        date = int(string)\n",
    "    return date\n",
    "\n",
    "processed_test_data=[]\n",
    "\n",
    "for date in test_data:\n",
    "    processed_test_data.append(process_date(strip_characters(date)))\n",
    "print(processed_test_data)\n",
    "\n",
    "moma_dates = []\n",
    "for row in moma[1:]:\n",
    "    date = row[8]\n",
    "    if (len(date)!=9) and (len(date)!=4):\n",
    "        moma_dates.append(\"unkown\")\n",
    "    else:\n",
    "        try:\n",
    "            date = strip_characters(date)\n",
    "            date = process_date(date)\n",
    "            moma_dates.append(date)\n",
    "        except:\n",
    "            moma_dates.append(\"unknown\")\n",
    "        \n",
    "print(moma_dates[:13])"
   ]
  }
 ],
 "metadata": {
  "application/vnd.databricks.v1+notebook": {
   "dashboards": [],
   "language": "python",
   "notebookMetadata": {},
   "notebookName": "[Answer]1_Cleaning_and_Preparing_Data",
   "widgets": {}
  }
 },
 "nbformat": 4,
 "nbformat_minor": 0
}
