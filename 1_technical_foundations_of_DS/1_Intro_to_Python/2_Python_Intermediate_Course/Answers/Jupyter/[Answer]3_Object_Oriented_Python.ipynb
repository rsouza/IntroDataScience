{
 "cells": [
  {
   "cell_type": "markdown",
   "metadata": {
    "application/vnd.databricks.v1+cell": {
     "cellMetadata": {
      "byteLimit": 2048000,
      "rowLimit": 10000
     },
     "inputWidgets": {},
     "nuid": "dbf036b9-3a5e-41fc-b802-ff12cd63011c",
     "showTitle": false,
     "title": ""
    }
   },
   "source": [
    "## Object Oriented Programming (OOP)\n",
    "\n",
    "There are only two options on how I think you will perceive this lecture. If you have some IT background and already some experience with OOP, this notebook will be a piece of cake. If these notebooks are your first programming experience, you may feel a bit confused at the beginning. Don't worry, once you get a grip of it, the path of OOP in Python will be smooth! The truth is, we have all been there when we first met OOP. \n",
    "\n",
    "## What is OOP?\n",
    "Imagine that you have a store with clothes. You are an IT person which is in charge of software that is supporting this store. The software holds information on all the products that are being offered - prices, sizes, counts, colours, anything. As we are talking about clothes - new pieces of clothing are coming every month. During the first months, you are describing with data structures manually every piece of clothing - what its parameters are, what functions are available in the online shop with regards to this item.\n",
    "\n",
    "After a few months, you get bored by how repetitive your work is! You realize that many items belong into a certain **group**. For example, many items can be simply regarded as *shirts*. Now, each shirt is going to have some **characterists** and certain **actions** can be done with it. For example, it has collar, it covers upper part of body. We are able to filter by the general size, size at waist and also length within our online shop. Each particular shirt is an **object**. The *shirt group* is a  **class** into which all particular objects (shirts) belong. This class is going to have some **methods** which relate to the characteristics of the shirts and what can be done with those. Each particular shirt which is in the store will now **inherit** some properties of the class, which will simplify the job for us.\n",
    "\n",
    "The creation of classes, with respective methods and inheritance for objects will save us a lot of time! **Whenever a new shirt arrives, we just attribute it into shirts class and so it will instantly inherit all the methods.**\n",
    "\n",
    "***"
   ]
  },
  {
   "cell_type": "markdown",
   "metadata": {
    "application/vnd.databricks.v1+cell": {
     "cellMetadata": {
      "byteLimit": 2048000,
      "rowLimit": 10000
     },
     "inputWidgets": {},
     "nuid": "88bdc0e6-7c83-4627-905b-7e45a9c1b237",
     "showTitle": false,
     "title": ""
    }
   },
   "source": [
    "## 1. Classes and Objects\n",
    "\n",
    "To begin with this notebook, let's start by looking at the following example:"
   ]
  },
  {
   "cell_type": "code",
   "execution_count": 0,
   "metadata": {
    "application/vnd.databricks.v1+cell": {
     "cellMetadata": {
      "byteLimit": 2048000,
      "rowLimit": 10000
     },
     "inputWidgets": {},
     "nuid": "1e8483fe-43e5-4237-9434-32018cc2fcab",
     "showTitle": false,
     "title": ""
    }
   },
   "outputs": [],
   "source": [
    "l = [1, 2, 3]\n",
    "s = \"string\"\n",
    "d = {\"a\": 1, \"b\": 2}"
   ]
  },
  {
   "cell_type": "markdown",
   "metadata": {
    "application/vnd.databricks.v1+cell": {
     "cellMetadata": {
      "byteLimit": 2048000,
      "rowLimit": 10000
     },
     "inputWidgets": {},
     "nuid": "de108de8-61a8-4b74-ad41-baa1fa9f5a46",
     "showTitle": false,
     "title": ""
    }
   },
   "source": [
    "The code above have variables that consists of various classes. If we use the `type()` function, it will tell us everything:"
   ]
  },
  {
   "cell_type": "code",
   "execution_count": 0,
   "metadata": {
    "application/vnd.databricks.v1+cell": {
     "cellMetadata": {
      "byteLimit": 2048000,
      "rowLimit": 10000
     },
     "inputWidgets": {},
     "nuid": "e7fbc5d6-55f1-49b1-aaaa-709ef8be2320",
     "showTitle": false,
     "title": ""
    }
   },
   "outputs": [],
   "source": [
    "print(type(l))\n",
    "print(type(s))\n",
    "print(type(d))"
   ]
  },
  {
   "cell_type": "markdown",
   "metadata": {
    "application/vnd.databricks.v1+cell": {
     "cellMetadata": {
      "byteLimit": 2048000,
      "rowLimit": 10000
     },
     "inputWidgets": {},
     "nuid": "e0c779ec-9808-4bfa-9893-a522abb645a4",
     "showTitle": false,
     "title": ""
    }
   },
   "source": [
    "We can see that when we used the `type()` function, the values labeled \"class\" is returned. We can deduct that \"type\" and \"class\" are used interchangeably. You see that we've been using classes for some time already:\n",
    "\n",
    "- Python lists are objects of the <b>list</b> class.\n",
    "- Python strings are objects of the <b>str </b>class.\n",
    "- Python dictionaries are objects of the <b>dict</b> class.\n",
    "\n",
    "In this chapter, we will go on a journey of creating a class of our own. We're going to create a simple class called `NewList` and recreate some of the basic functionality of the Python list class.\n",
    "\n",
    "Before we get started, let's look at the relationship between objects and classes.\n",
    "\n",
    "- An <b> object</b> is an entity that stores data.\n",
    "- An object's <b>class</b> defines specific properties objects of that class will have.\n",
    "\n",
    "> A class is a template for objects. A class defines object properties including a valid range of values, and a default value. A class also describes object behavior. \n",
    "\n",
    "> An object is a member or an \"instance\" of a class. \n",
    "An object has a state in which all of its properties have values that you either explicitly define or that are defined by default settings.\n",
    "\n",
    "You can read more about classes and objects here: https://www.javatpoint.com/python-oops-concepts.\n",
    "For people who previously have little programming experience, we highly recommend you to watch this short video explaining [what is object oriented programming](https://www.youtube.com/watch?v=xoL6WvCARJY)."
   ]
  },
  {
   "cell_type": "markdown",
   "metadata": {
    "application/vnd.databricks.v1+cell": {
     "cellMetadata": {
      "byteLimit": 2048000,
      "rowLimit": 10000
     },
     "inputWidgets": {},
     "nuid": "16ac85ad-80e5-45ef-b60c-fb51be7531d0",
     "showTitle": false,
     "title": ""
    }
   },
   "source": [
    "## 2. Defining a Class\n",
    "\n",
    "Now the question arises of how we can define a class in Python. It turns out that creating a class is very similar to how we define a function.\n",
    "\n",
    "Note that we are using the ``pass`` keyword. The `pass` keyword is used as a placeholder for future code in code blocks where code is required syntactically like a class, function, method, for loop or if statement. If we were to not use the ``pass`` keyword an error would be thrown."
   ]
  },
  {
   "cell_type": "code",
   "execution_count": 0,
   "metadata": {
    "application/vnd.databricks.v1+cell": {
     "cellMetadata": {
      "byteLimit": 2048000,
      "rowLimit": 10000
     },
     "inputWidgets": {},
     "nuid": "54196a71-3925-4d57-b574-bad80c4b28fe",
     "showTitle": false,
     "title": ""
    }
   },
   "outputs": [],
   "source": [
    "#This is a function:\n",
    "def my_function():\n",
    "    # the details of the\n",
    "    # function go here\n",
    "    pass\n",
    "    \n",
    "#This is a class:\n",
    "class MyClass():\n",
    "    # the details of the\n",
    "    # class go here\n",
    "    pass"
   ]
  },
  {
   "cell_type": "markdown",
   "metadata": {
    "application/vnd.databricks.v1+cell": {
     "cellMetadata": {
      "byteLimit": 2048000,
      "rowLimit": 10000
     },
     "inputWidgets": {},
     "nuid": "c1ddb57a-edc8-4a3b-8207-c3dbafea641c",
     "showTitle": false,
     "title": ""
    }
   },
   "source": [
    "Similar to a function, parentheses and a colon are used after the class name ``():`` when defining a class. Just like a function, the body of our class is indented like a function's body is.\n",
    "\n",
    "The rules for naming classes are the same as they are for naming functions and variables.\n",
    "There is a **general rule of thumb in naming functions and classes**: \n",
    "- when naming for variables and and **functions**, all lowercase letters are used with underscores between: `like_this` \n",
    "- And when naming **classes**, there are no underscores are used between words, and the first letter of each word is capitalized: `LikeThis` \n",
    "\n",
    "Following is an example of a definition of a class named ``MyClass``:\n",
    "````python\n",
    "class MyClass():\n",
    "````"
   ]
  },
  {
   "cell_type": "markdown",
   "metadata": {
    "application/vnd.databricks.v1+cell": {
     "cellMetadata": {
      "byteLimit": 2048000,
      "rowLimit": 10000
     },
     "inputWidgets": {},
     "nuid": "bf3c4ae5-e5f4-4fdf-ae63-f597bf8b9ee1",
     "showTitle": false,
     "title": ""
    }
   },
   "source": [
    "### Task 2.3.2.1:\n",
    "Define a new class named `NewList()`. Remember to use the `pass` keyword in the body of our class to avoid a SyntaxError."
   ]
  },
  {
   "cell_type": "code",
   "execution_count": 0,
   "metadata": {
    "application/vnd.databricks.v1+cell": {
     "cellMetadata": {
      "byteLimit": 2048000,
      "rowLimit": 10000
     },
     "inputWidgets": {},
     "nuid": "5b83f769-4640-4caf-9106-cefb4c954819",
     "showTitle": false,
     "title": ""
    }
   },
   "outputs": [],
   "source": [
    "#Start your code below:\n",
    "\n",
    "class NewList():\n",
    "    pass"
   ]
  },
  {
   "cell_type": "markdown",
   "metadata": {
    "application/vnd.databricks.v1+cell": {
     "cellMetadata": {
      "byteLimit": 2048000,
      "rowLimit": 10000
     },
     "inputWidgets": {},
     "nuid": "2451bba0-3455-467d-b140-21cfbf1017b9",
     "showTitle": false,
     "title": ""
    }
   },
   "source": [
    "In OOP (Object-oriented programming), we use <b> instances </b> to describe each different object. Let's look at an example:"
   ]
  },
  {
   "cell_type": "code",
   "execution_count": 0,
   "metadata": {
    "application/vnd.databricks.v1+cell": {
     "cellMetadata": {
      "byteLimit": 2048000,
      "rowLimit": 10000
     },
     "inputWidgets": {},
     "nuid": "0437cd90-d098-497e-8977-659d423e59e4",
     "showTitle": false,
     "title": ""
    }
   },
   "outputs": [],
   "source": [
    "#These objects are two instances of the Python str class.\n",
    "string_1 = \"The first string\"\n",
    "\n",
    "string_2 = \"The second string\"\n",
    "\n",
    "#While each is unique - they contain unique values - they are the same type of object."
   ]
  },
  {
   "cell_type": "markdown",
   "metadata": {
    "application/vnd.databricks.v1+cell": {
     "cellMetadata": {
      "byteLimit": 2048000,
      "rowLimit": 10000
     },
     "inputWidgets": {},
     "nuid": "b9b522a0-c366-4ad2-adee-8f9f389e9325",
     "showTitle": false,
     "title": ""
    }
   },
   "source": [
    "Once we have defined our class, we can create an object of that class, which is known as **instantiation**. If you create an object of a particular class, the technical phrase for what you did is to \"instantiate an object of that class.\" Let's learn how to instantiate an instance of our new class:\n",
    "\n",
    "````python\n",
    "my_class_instance = MyClass()\n",
    "````\n",
    "\n",
    "This single line performed two thigns:\n",
    "- Instantiation of an object of the class `MyClass`.\n",
    "- Assignment of this instance to the variable named `my_class_instance`.\n",
    "\n",
    "To illustrate this more clearly, let's look at an example using Python's built-in integer class. In the previous mission, we used the syntax `int()` to convert numeric values stored as strings to integers. Let's look at a simple example of this in code and break down the syntax into parts, which we'll read right-to-left:\n",
    "\n",
    "````python\n",
    "my_int = int(\"5\")\n",
    "````"
   ]
  },
  {
   "cell_type": "markdown",
   "metadata": {
    "application/vnd.databricks.v1+cell": {
     "cellMetadata": {
      "byteLimit": 2048000,
      "rowLimit": 10000
     },
     "inputWidgets": {},
     "nuid": "c2f77537-d1b2-4b63-80c3-188f3896cdbb",
     "showTitle": false,
     "title": ""
    }
   },
   "source": [
    "To break this down:\n",
    "- `int(\"5\")` <<< Instantiate an object of the class int\n",
    "- `my_int` <<< Assign the object to a variable with the name `my_int`\n",
    ">The syntax to the right of the assignment operator ``=`` **instantiates** the object, and the assignment operator and variable name create the variable. \n",
    "\n",
    "This helps us understand some of the subtle differences between an object and a variable."
   ]
  },
  {
   "cell_type": "markdown",
   "metadata": {
    "application/vnd.databricks.v1+cell": {
     "cellMetadata": {
      "byteLimit": 2048000,
      "rowLimit": 10000
     },
     "inputWidgets": {},
     "nuid": "14113f1d-c325-4c98-90e0-835ef33dacf3",
     "showTitle": false,
     "title": ""
    }
   },
   "source": [
    "### Task 2.3.2.2:\n",
    "1. Define a new class called `NewList`:\n",
    "    - Use `NewList()` when defining the class.\n",
    "    - Use the pass keyword so our empty class does not raise a `SyntaxError`.\n",
    "2. Create an instance of the `NewList` class. Assign it to the variable name `newlist_1`.\n",
    "3. Print the type of the `newlist_1` variable."
   ]
  },
  {
   "cell_type": "code",
   "execution_count": 0,
   "metadata": {
    "application/vnd.databricks.v1+cell": {
     "cellMetadata": {
      "byteLimit": 2048000,
      "rowLimit": 10000
     },
     "inputWidgets": {},
     "nuid": "5d5249cc-f39d-42d7-bbe3-e5079a879a74",
     "showTitle": false,
     "title": ""
    }
   },
   "outputs": [],
   "source": [
    "# Start your code below:\n",
    "\n",
    "class NewList():\n",
    "    pass\n",
    "\n",
    "newlist_1 = NewList()\n",
    "print(type(newlist_1))"
   ]
  },
  {
   "cell_type": "markdown",
   "metadata": {
    "application/vnd.databricks.v1+cell": {
     "cellMetadata": {
      "byteLimit": 2048000,
      "rowLimit": 10000
     },
     "inputWidgets": {},
     "nuid": "b65e2e7c-dfcb-464d-8ead-73f47d4bde55",
     "showTitle": false,
     "title": ""
    }
   },
   "source": [
    "Lovely! We have just created and instantiated our fist class! However, our class is lacking some of behaviours, it doesn't do anything yet. \n",
    "That means we need to define some **methods** which allow objects to perform actions.\n",
    "\n",
    "Let's think of methods like special functions that belong to a particular class. This is why we call the replace method `str.replace()` — because the method belongs to the str class.\n",
    "\n",
    "While a function can be used with any object, did you know that each class has its own set of methods? Let's look at an example using some Python built in classes:"
   ]
  },
  {
   "cell_type": "code",
   "execution_count": 0,
   "metadata": {
    "application/vnd.databricks.v1+cell": {
     "cellMetadata": {
      "byteLimit": 2048000,
      "rowLimit": 10000
     },
     "inputWidgets": {},
     "nuid": "f0401fed-fb1f-4893-a806-0f9b394ad3cc",
     "showTitle": false,
     "title": ""
    }
   },
   "outputs": [],
   "source": [
    "my_string = \"hello world\"   # an object of the str class\n",
    "my_list = [2, 4, 8]   # an object of the list class"
   ]
  },
  {
   "cell_type": "markdown",
   "metadata": {
    "application/vnd.databricks.v1+cell": {
     "cellMetadata": {
      "byteLimit": 2048000,
      "rowLimit": 10000
     },
     "inputWidgets": {},
     "nuid": "c04507df-5a8b-46a4-b57d-fb79665b076e",
     "showTitle": false,
     "title": ""
    }
   },
   "source": [
    "All list objects have the `list.append()` method. Let's try this:"
   ]
  },
  {
   "cell_type": "code",
   "execution_count": 0,
   "metadata": {
    "application/vnd.databricks.v1+cell": {
     "cellMetadata": {
      "byteLimit": 2048000,
      "rowLimit": 10000
     },
     "inputWidgets": {},
     "nuid": "2ec304d4-a8cf-44f0-acf5-551ee49cb1c2",
     "showTitle": false,
     "title": ""
    }
   },
   "outputs": [],
   "source": [
    "my_list.append(4)\n",
    "print(my_list)"
   ]
  },
  {
   "cell_type": "markdown",
   "metadata": {
    "application/vnd.databricks.v1+cell": {
     "cellMetadata": {
      "byteLimit": 2048000,
      "rowLimit": 10000
     },
     "inputWidgets": {},
     "nuid": "65151cb0-99bc-4ed4-b090-5a63da58cbbc",
     "showTitle": false,
     "title": ""
    }
   },
   "source": [
    "Also, we have learned the `str.replace()` method in our previous chapter. This method belongs to the string class."
   ]
  },
  {
   "cell_type": "code",
   "execution_count": 0,
   "metadata": {
    "application/vnd.databricks.v1+cell": {
     "cellMetadata": {
      "byteLimit": 2048000,
      "rowLimit": 10000
     },
     "inputWidgets": {},
     "nuid": "28f422c8-a355-4a14-a027-487a433182a2",
     "showTitle": false,
     "title": ""
    }
   },
   "outputs": [],
   "source": [
    "my_string = my_string.replace(\"h\",\"H\")\n",
    "print(my_string)"
   ]
  },
  {
   "cell_type": "markdown",
   "metadata": {
    "application/vnd.databricks.v1+cell": {
     "cellMetadata": {
      "byteLimit": 2048000,
      "rowLimit": 10000
     },
     "inputWidgets": {},
     "nuid": "80cc0ff6-8310-43c0-aa6c-dc3e958890c5",
     "showTitle": false,
     "title": ""
    }
   },
   "source": [
    "> **The interchanging of one method from one class to another class is forbidden in Python:**"
   ]
  },
  {
   "cell_type": "code",
   "execution_count": 0,
   "metadata": {
    "application/vnd.databricks.v1+cell": {
     "cellMetadata": {
      "byteLimit": 2048000,
      "rowLimit": 10000
     },
     "inputWidgets": {},
     "nuid": "0b6b522a-8502-4153-a57d-eaf7cc2d2744",
     "showTitle": false,
     "title": ""
    }
   },
   "outputs": [],
   "source": [
    "my_string.append(\"!\") # can't use a method from one class with the other class"
   ]
  },
  {
   "cell_type": "markdown",
   "metadata": {
    "application/vnd.databricks.v1+cell": {
     "cellMetadata": {
      "byteLimit": 2048000,
      "rowLimit": 10000
     },
     "inputWidgets": {},
     "nuid": "37407d80-f006-427e-85b5-b52172a13576",
     "showTitle": false,
     "title": ""
    }
   },
   "source": [
    "How can we **create a method**? It is almost identical to how we create a function with one exception: the method is indented within our class definition. See example below:"
   ]
  },
  {
   "cell_type": "code",
   "execution_count": 0,
   "metadata": {
    "application/vnd.databricks.v1+cell": {
     "cellMetadata": {
      "byteLimit": 2048000,
      "rowLimit": 10000
     },
     "inputWidgets": {},
     "nuid": "6e1955a8-9a17-4acf-aca4-84557b7a593e",
     "showTitle": false,
     "title": ""
    }
   },
   "outputs": [],
   "source": [
    "class MyClass():\n",
    "    def greet():\n",
    "        return \"hello\""
   ]
  },
  {
   "cell_type": "markdown",
   "metadata": {
    "application/vnd.databricks.v1+cell": {
     "cellMetadata": {
      "byteLimit": 2048000,
      "rowLimit": 10000
     },
     "inputWidgets": {},
     "nuid": "10c72f5d-67b9-4183-93e7-0b7ed34fd9d1",
     "showTitle": false,
     "title": ""
    }
   },
   "source": [
    "### Task 2.3.2.3:\n",
    "\n",
    "1. Define a new class called `NewList()`.\n",
    "    - Use `NewList()` when defining the class, so we can perform answer checking on your class.\n",
    "2. Inside the class, define a method called `first_method()`.\n",
    "3. Inside the method, return the string \"This is my first method\".\n",
    "4. Create an instance of the `NewList` class. Assign it to the variable name `newlist`."
   ]
  },
  {
   "cell_type": "code",
   "execution_count": 0,
   "metadata": {
    "application/vnd.databricks.v1+cell": {
     "cellMetadata": {
      "byteLimit": 2048000,
      "rowLimit": 10000
     },
     "inputWidgets": {},
     "nuid": "7b5e67be-1d9b-47c1-b6c3-d96d16d06bde",
     "showTitle": false,
     "title": ""
    }
   },
   "outputs": [],
   "source": [
    "# Start your code below:\n",
    "\n",
    "class NewList():\n",
    "    def first_method():\n",
    "        return \"This is my first method\"\n",
    "\n",
    "newlist = NewList()\n",
    "print(type(newlist))"
   ]
  },
  {
   "cell_type": "markdown",
   "metadata": {
    "application/vnd.databricks.v1+cell": {
     "cellMetadata": {
      "byteLimit": 2048000,
      "rowLimit": 10000
     },
     "inputWidgets": {},
     "nuid": "9666f96d-5eb9-4e40-94e1-fb9c1417b684",
     "showTitle": false,
     "title": ""
    }
   },
   "source": [
    "## 3. Understading 'self'\n",
    "On the previous paragraphs, we defined a class with a simple method, then created an instance of that class:"
   ]
  },
  {
   "cell_type": "code",
   "execution_count": 0,
   "metadata": {
    "application/vnd.databricks.v1+cell": {
     "cellMetadata": {
      "byteLimit": 2048000,
      "rowLimit": 10000
     },
     "inputWidgets": {},
     "nuid": "8b26b441-4b55-4bd7-8569-d61424bd4126",
     "showTitle": false,
     "title": ""
    }
   },
   "outputs": [],
   "source": [
    "class NewList():\n",
    "    def first_method():\n",
    "        print(\"hello\")\n",
    "\n",
    "instance = NewList()\n",
    "\n",
    "#Let's look at what happens when we call (run) that method:\n",
    "instance.first_method()"
   ]
  },
  {
   "cell_type": "markdown",
   "metadata": {
    "application/vnd.databricks.v1+cell": {
     "cellMetadata": {
      "byteLimit": 2048000,
      "rowLimit": 10000
     },
     "inputWidgets": {},
     "nuid": "52c1e74f-865d-4864-87eb-d93f8c7884d0",
     "showTitle": false,
     "title": ""
    }
   },
   "source": [
    "This error is a bit confusing. It says that one argument was given to `first_method()`, but when we called the method we didn't provide any arguments. It seems like there is a \"phantom\" argument being inserted somewhere.\n",
    "\n",
    "When we call the `first_method()` method belonging to the instance object, Python interprets that syntax and adds in an argument representing the instance we're calling the method on.\n",
    "\n",
    "We can verify that this is the case by checking it with Python's built-in str type. We'll use `str.title()` to convert a string to title case."
   ]
  },
  {
   "cell_type": "code",
   "execution_count": 0,
   "metadata": {
    "application/vnd.databricks.v1+cell": {
     "cellMetadata": {
      "byteLimit": 2048000,
      "rowLimit": 10000
     },
     "inputWidgets": {},
     "nuid": "e67daffc-496c-406a-a451-ab42aab4a875",
     "showTitle": false,
     "title": ""
    }
   },
   "outputs": [],
   "source": [
    "# create a str object\n",
    "s = \"MY STRING\"\n",
    "\n",
    "# call `str.title() directly\n",
    "# instead of `s.title()`\n",
    "result = str.title(s)\n",
    "print(result)"
   ]
  },
  {
   "cell_type": "markdown",
   "metadata": {
    "application/vnd.databricks.v1+cell": {
     "cellMetadata": {
      "byteLimit": 2048000,
      "rowLimit": 10000
     },
     "inputWidgets": {},
     "nuid": "8b42ab90-6bc3-4bc6-8b77-e43ac475c6cb",
     "showTitle": false,
     "title": ""
    }
   },
   "source": [
    "Let's study the following class carefully:"
   ]
  },
  {
   "cell_type": "code",
   "execution_count": 0,
   "metadata": {
    "application/vnd.databricks.v1+cell": {
     "cellMetadata": {
      "byteLimit": 2048000,
      "rowLimit": 10000
     },
     "inputWidgets": {},
     "nuid": "b88368c3-7f3f-4b86-9da2-566bfcdd2a7d",
     "showTitle": false,
     "title": ""
    }
   },
   "outputs": [],
   "source": [
    "class MyClass():\n",
    "    def print_self(self):\n",
    "        print(self)\n",
    "\n",
    "mc = MyClass()\n",
    "\n",
    "#Next, let's print the mc object so we can understand \n",
    "#what the object itself looks like when its printed:\n",
    "\n",
    "print(mc)"
   ]
  },
  {
   "cell_type": "code",
   "execution_count": 0,
   "metadata": {
    "application/vnd.databricks.v1+cell": {
     "cellMetadata": {
      "byteLimit": 2048000,
      "rowLimit": 10000
     },
     "inputWidgets": {},
     "nuid": "9c212936-6689-4ed3-bfce-87ca7d230597",
     "showTitle": false,
     "title": ""
    }
   },
   "outputs": [],
   "source": [
    "#Lastly, let's call our print_self() method to see\n",
    "#whether the output is the same as when we printed the object itself:\n",
    "\n",
    "mc.print_self()"
   ]
  },
  {
   "cell_type": "markdown",
   "metadata": {
    "application/vnd.databricks.v1+cell": {
     "cellMetadata": {
      "byteLimit": 2048000,
      "rowLimit": 10000
     },
     "inputWidgets": {},
     "nuid": "62a42fb1-e5af-41d7-8e52-ca4868371461",
     "showTitle": false,
     "title": ""
    }
   },
   "source": [
    "The same output was displayed both when we printed the object using the syntax `print(mc)` and when we printed the object inside the method using `print_self()` — **which proves that this \"phantom\" argument is the object itself**!\n",
    "\n",
    "Technically, we can give this first argument — which is passed to every method — any parameter name we like. However, the **convention is to call the parameter `self`**. This is an important convention, as without it class definitions can get confusing."
   ]
  },
  {
   "cell_type": "markdown",
   "metadata": {
    "application/vnd.databricks.v1+cell": {
     "cellMetadata": {
      "byteLimit": 2048000,
      "rowLimit": 10000
     },
     "inputWidgets": {},
     "nuid": "f699a669-4687-476e-9514-6c43b5ecc58f",
     "showTitle": false,
     "title": ""
    }
   },
   "source": [
    "### Task 2.3.3:\n",
    "\n",
    "In the editor below:\n",
    "1. Modify the `first_method()` method by changing the argument to `self`.\n",
    "2. Create an instance of the NewList class. Assign it to the variable name ``newlist``.\n",
    "3. Call `newlist.first_method()`. Assign the result to the variable ``result``."
   ]
  },
  {
   "cell_type": "code",
   "execution_count": 0,
   "metadata": {
    "application/vnd.databricks.v1+cell": {
     "cellMetadata": {
      "byteLimit": 2048000,
      "rowLimit": 10000
     },
     "inputWidgets": {},
     "nuid": "40650f64-3fde-4d2b-9b0b-bb649a7bde7e",
     "showTitle": false,
     "title": ""
    }
   },
   "outputs": [],
   "source": [
    " class NewList():\n",
    "    def first_method(self):\n",
    "        return \"This is my first method.\"\n",
    "newlist = NewList()\n",
    "result = newlist.first_method()\n",
    "print(result)"
   ]
  },
  {
   "cell_type": "markdown",
   "metadata": {
    "application/vnd.databricks.v1+cell": {
     "cellMetadata": {
      "byteLimit": 2048000,
      "rowLimit": 10000
     },
     "inputWidgets": {},
     "nuid": "f9356e8e-1282-4ff9-85c6-d5c1c213117e",
     "showTitle": false,
     "title": ""
    }
   },
   "source": [
    "## 4. Creating a Method That Accepts an Argument\n",
    "\n",
    "The method we worked with on the previous two screens didn't accept any arguments except the self argument. Like with functions, methods are often called with one or more arguments so that the method can use or modify that argument.\n",
    "\n",
    "Let's create a method that accepts a string argument and then returns that string. The first argument will always be the object itself, so we'll specify self as the first argument, and the string as our second argument:"
   ]
  },
  {
   "cell_type": "code",
   "execution_count": 0,
   "metadata": {
    "application/vnd.databricks.v1+cell": {
     "cellMetadata": {
      "byteLimit": 2048000,
      "rowLimit": 10000
     },
     "inputWidgets": {},
     "nuid": "e55be396-6496-43ce-bf8b-c672d4b652c2",
     "showTitle": false,
     "title": ""
    }
   },
   "outputs": [],
   "source": [
    "class MyClass():\n",
    "    def return_string(self, string):\n",
    "        return string"
   ]
  },
  {
   "cell_type": "markdown",
   "metadata": {
    "application/vnd.databricks.v1+cell": {
     "cellMetadata": {
      "byteLimit": 2048000,
      "rowLimit": 10000
     },
     "inputWidgets": {},
     "nuid": "1314e8ca-0d58-4314-941c-39486b9cc3c5",
     "showTitle": false,
     "title": ""
    }
   },
   "source": [
    "Let's instantiate an object and call our method. Notice how when we call it, we leave out the self argument, just like we did on the previous screen:"
   ]
  },
  {
   "cell_type": "code",
   "execution_count": 0,
   "metadata": {
    "application/vnd.databricks.v1+cell": {
     "cellMetadata": {
      "byteLimit": 2048000,
      "rowLimit": 10000
     },
     "inputWidgets": {},
     "nuid": "202befec-b0e0-42be-87d6-7bd78b991122",
     "showTitle": false,
     "title": ""
    }
   },
   "outputs": [],
   "source": [
    "mc = MyClass()\n",
    "result = mc.return_string(\"Hey there!\")\n",
    "print(result)"
   ]
  },
  {
   "cell_type": "markdown",
   "metadata": {
    "application/vnd.databricks.v1+cell": {
     "cellMetadata": {
      "byteLimit": 2048000,
      "rowLimit": 10000
     },
     "inputWidgets": {},
     "nuid": "8c8bb2f7-4455-4680-aea5-55cd4ed66eca",
     "showTitle": false,
     "title": ""
    }
   },
   "source": [
    "Now it's time to pratice creating methods for our classes.\n",
    "\n",
    "### Task 2.3.4:\n",
    "1. Define a new class called `NewList()`.\n",
    "2. Inside the class, define a method called `return_list()`.\n",
    "    - The method should accept a single argument `input_list` when called.\n",
    "    - Inside the method, return `input_list`.\n",
    "3. Create an instance of the NewList class, and assign it to the variable name `newlist`.\n",
    "4. Call the `newlist.return_list()` method with the argument [1, 2, 3]. Assign the result to the variable `result`."
   ]
  },
  {
   "cell_type": "code",
   "execution_count": 0,
   "metadata": {
    "application/vnd.databricks.v1+cell": {
     "cellMetadata": {
      "byteLimit": 2048000,
      "rowLimit": 10000
     },
     "inputWidgets": {},
     "nuid": "7de6dfab-52cf-4b9b-ad59-1554cb6b2fa5",
     "showTitle": false,
     "title": ""
    }
   },
   "outputs": [],
   "source": [
    "# Start your code below:\n",
    "\n",
    "class NewList():\n",
    "    def return_list(self,input_list):\n",
    "        return input_list\n",
    "newlist = NewList()\n",
    "result = newlist.return_list([1,2,3])\n",
    "print(result)"
   ]
  },
  {
   "cell_type": "markdown",
   "metadata": {
    "application/vnd.databricks.v1+cell": {
     "cellMetadata": {
      "byteLimit": 2048000,
      "rowLimit": 10000
     },
     "inputWidgets": {},
     "nuid": "05722d30-2312-4d7c-8137-bb828518fceb",
     "showTitle": false,
     "title": ""
    }
   },
   "source": [
    "## 5. Atrributes and the Init Method (IMPORTANT)\n",
    "Let's recap what we've already learned since the beginning of this lecture.\n",
    "\n",
    "- We can define a ``class``.\n",
    "- We know that a class can have ``methods``. These are something like a functions or commands which can be performed with the objects belonging to that class.\n",
    "\n",
    "We now need to learn about **2 new things** at the same time, as they are closely related:\n",
    "\n",
    "- init method\n",
    "- attributes\n",
    "\n",
    "The power of objects is in their ability to store data, and data is stored inside objects using **attributes**. You can think of attributes like **special variables that belong to a particular class**. Attributes let us store specific values about each instance of our class. When we instantiate an object, most of the time we specify the data that we want to store inside that object. Let's look at an example of instantiating an int object:"
   ]
  },
  {
   "cell_type": "code",
   "execution_count": 0,
   "metadata": {
    "application/vnd.databricks.v1+cell": {
     "cellMetadata": {
      "byteLimit": 2048000,
      "rowLimit": 10000
     },
     "inputWidgets": {},
     "nuid": "d61ede90-0ecc-40d1-ae85-5b302cae07a6",
     "showTitle": false,
     "title": ""
    }
   },
   "outputs": [],
   "source": [
    "my_int = int(\"3\")"
   ]
  },
  {
   "cell_type": "markdown",
   "metadata": {
    "application/vnd.databricks.v1+cell": {
     "cellMetadata": {
      "byteLimit": 2048000,
      "rowLimit": 10000
     },
     "inputWidgets": {},
     "nuid": "73bb33f1-e712-40d9-be37-ab9af4250148",
     "showTitle": false,
     "title": ""
    }
   },
   "source": [
    "When `int()` was used, the argument \"3\" was provided, which was converted and stored inside the object. **We define what is done with an arguments provided at instantiation using the init method.**\n",
    "\n",
    "> The init method — also called a ``constructor`` — is a special method that runs when an instance is created so we can perform any tasks to set up the instance.\n",
    "\n",
    "The init method has a **special name that starts and ends with two underscores: `__init__()`**. Let's look at an example:"
   ]
  },
  {
   "cell_type": "code",
   "execution_count": 0,
   "metadata": {
    "application/vnd.databricks.v1+cell": {
     "cellMetadata": {
      "byteLimit": 2048000,
      "rowLimit": 10000
     },
     "inputWidgets": {},
     "nuid": "8318c864-b5a0-4c3c-9925-54c9d6ca8491",
     "showTitle": false,
     "title": ""
    }
   },
   "outputs": [],
   "source": [
    "class MyClass():\n",
    "    def __init__(self, string):\n",
    "        print(string)\n",
    "\n",
    "mc = MyClass(\"Hallo!\")"
   ]
  },
  {
   "cell_type": "markdown",
   "metadata": {
    "application/vnd.databricks.v1+cell": {
     "cellMetadata": {
      "byteLimit": 2048000,
      "rowLimit": 10000
     },
     "inputWidgets": {},
     "nuid": "20f25c8c-e89c-4a4b-82a7-d3af0332b15b",
     "showTitle": false,
     "title": ""
    }
   },
   "source": [
    "Let me give you a step by step guide below:\n",
    "   - defined the `__init__()` method inside our class as accepting two arguments: `self` and `string`.\n",
    "   - Inside the `__init__()` method, the `print()` function on the `string` argument was called.\n",
    "   - mc (our MyClass object) was instantiated, \"Hallo!\" was passed as an argument. The init function ran immediately, displaying the text \"Hallo!\"\n",
    "    \n",
    "The init method's most common usage is to store data as an attribute:"
   ]
  },
  {
   "cell_type": "code",
   "execution_count": 0,
   "metadata": {
    "application/vnd.databricks.v1+cell": {
     "cellMetadata": {
      "byteLimit": 2048000,
      "rowLimit": 10000
     },
     "inputWidgets": {},
     "nuid": "939bfb3a-e027-42ee-959e-5a1200c6894c",
     "showTitle": false,
     "title": ""
    }
   },
   "outputs": [],
   "source": [
    "class MyClass():\n",
    "    def __init__(self, string):\n",
    "        self.my_attribute = string\n",
    "\n",
    "mc = MyClass(\"Hallo!\") # When we instantiate our new object, \n",
    "# Python calls the init method, passing in the object"
   ]
  },
  {
   "cell_type": "markdown",
   "metadata": {
    "application/vnd.databricks.v1+cell": {
     "cellMetadata": {
      "byteLimit": 2048000,
      "rowLimit": 10000
     },
     "inputWidgets": {},
     "nuid": "68a64509-b1ab-410d-b6ef-37f3a8252ab1",
     "showTitle": false,
     "title": ""
    }
   },
   "source": [
    "Our code didn't print any output, but \"Hallo\" was stored in the attribute `my_attribute` inside our object. Like methods, attributes are accessed using dot notation, but attributes don't have parentheses like methods do. Let's use dot notation to access the attribute:"
   ]
  },
  {
   "cell_type": "code",
   "execution_count": 0,
   "metadata": {
    "application/vnd.databricks.v1+cell": {
     "cellMetadata": {
      "byteLimit": 2048000,
      "rowLimit": 10000
     },
     "inputWidgets": {},
     "nuid": "388913ab-df10-4d63-8595-26ab9ece1d9a",
     "showTitle": false,
     "title": ""
    }
   },
   "outputs": [],
   "source": [
    "print(mc.my_attribute)"
   ]
  },
  {
   "cell_type": "markdown",
   "metadata": {
    "application/vnd.databricks.v1+cell": {
     "cellMetadata": {
      "byteLimit": 2048000,
      "rowLimit": 10000
     },
     "inputWidgets": {},
     "nuid": "a9c9cc4a-7671-4362-bcf8-d212eda1b951",
     "showTitle": false,
     "title": ""
    }
   },
   "source": [
    "To summarize some of the differences between attributes and methods:\n",
    "- An attribute is used to store data, very similar to an variable.\n",
    "- A method is used to perform actions, very similar to a function."
   ]
  },
  {
   "cell_type": "markdown",
   "metadata": {
    "application/vnd.databricks.v1+cell": {
     "cellMetadata": {
      "byteLimit": 2048000,
      "rowLimit": 10000
     },
     "inputWidgets": {},
     "nuid": "a0380385-5f61-40a1-aff4-3383fcac93e9",
     "showTitle": false,
     "title": ""
    }
   },
   "source": [
    "To summarize what we've learned so far:\n",
    "\n",
    "- The power of objects is in their ability to store data.\n",
    "- Data is stored as attributes inside objects.\n",
    "- We access attributes using dot notation.\n",
    "- To give attributes values when we instantiate objects, we pass them as arguments to a special method called `__init__()`, which runs when we instantiate an object.\n",
    "\n",
    "We now have what we need to create a working version of our NewList class! This first version will:\n",
    "\n",
    "- Accept an argument when you instantiate a NewList object.\n",
    "- Use the init method to store that argument in an attribute: `NewList.data`."
   ]
  },
  {
   "cell_type": "markdown",
   "metadata": {
    "application/vnd.databricks.v1+cell": {
     "cellMetadata": {
      "byteLimit": 2048000,
      "rowLimit": 10000
     },
     "inputWidgets": {},
     "nuid": "a1da64ad-0c6f-4163-80dc-38ed973ce2d7",
     "showTitle": false,
     "title": ""
    }
   },
   "source": [
    "### Task 2.3.5:\n",
    "\n",
    "1. Define a new class called `NewList()`.\n",
    "2. Create an init method which accepts a single argument, `initial_state`.\n",
    "3. Inside the init method, assign `initial_state` to an attribute called `data`.\n",
    "4. Instantiate an object of your NewList class, providing the list [1, 2, 3, 4, 5] as an argument. Assign the object to the variable name `my_list`.\n",
    "5. Use the `print()` function to display the data attribute of `my_list`."
   ]
  },
  {
   "cell_type": "code",
   "execution_count": 0,
   "metadata": {
    "application/vnd.databricks.v1+cell": {
     "cellMetadata": {
      "byteLimit": 2048000,
      "rowLimit": 10000
     },
     "inputWidgets": {},
     "nuid": "24900c8e-89c6-40f4-90ee-fa847d6f4832",
     "showTitle": false,
     "title": ""
    }
   },
   "outputs": [],
   "source": [
    "# Start your code below:\n",
    "\n",
    "class NewList():\n",
    "    def __init__ (self,initial_state):\n",
    "        self.data = initial_state\n",
    "\n",
    "my_list = NewList([1,2,3,4,5])\n",
    "print(my_list.data)"
   ]
  },
  {
   "cell_type": "markdown",
   "metadata": {
    "application/vnd.databricks.v1+cell": {
     "cellMetadata": {
      "byteLimit": 2048000,
      "rowLimit": 10000
     },
     "inputWidgets": {},
     "nuid": "78397157-02f7-44fc-823a-45b87ace960e",
     "showTitle": false,
     "title": ""
    }
   },
   "source": [
    "## 6. Creating and Updating an Attribute (OPTIONAL)\n",
    "\n",
    "To summarize the work we've done so far:\n",
    "- We've created a <b>NewList class</b> which stores a list at the point of instantiation using the init constructor.\n",
    "- We stored that list inside an attribute `NewList.data`.\n",
    "    \n",
    "Now we want to add some new functionality: a new attribute. "
   ]
  },
  {
   "cell_type": "markdown",
   "metadata": {
    "application/vnd.databricks.v1+cell": {
     "cellMetadata": {
      "byteLimit": 2048000,
      "rowLimit": 10000
     },
     "inputWidgets": {},
     "nuid": "f1036d1a-f527-464f-92f0-2eb47c84a221",
     "showTitle": false,
     "title": ""
    }
   },
   "source": [
    "When we want to find the length of a list, we use the `len()` function.\n",
    "What if we created a new attribute, `NewList.length`, which stores the length of our list at all times? We can achieve this by adding some to the init method:"
   ]
  },
  {
   "cell_type": "code",
   "execution_count": 0,
   "metadata": {
    "application/vnd.databricks.v1+cell": {
     "cellMetadata": {
      "byteLimit": 2048000,
      "rowLimit": 10000
     },
     "inputWidgets": {},
     "nuid": "17421a9c-c856-41b2-96aa-5f1ba6bd3c0f",
     "showTitle": false,
     "title": ""
    }
   },
   "outputs": [],
   "source": [
    "class NewList():\n",
    "    \"\"\"\n",
    "    A Python list with some extras!\n",
    "    \"\"\"\n",
    "    def __init__(self, initial_state):\n",
    "        self.data = initial_state\n",
    "\n",
    "        # we added code below this comment\n",
    "        length = 0\n",
    "        for item in self.data:\n",
    "            length += 1\n",
    "        self.length = length\n",
    "        # we added code above this comment\n",
    "\n",
    "    def append(self, new_item):\n",
    "        \"\"\"\n",
    "        Append `new_item` to the NewList\n",
    "        \"\"\"\n",
    "        self.data = self.data + [new_item]"
   ]
  },
  {
   "cell_type": "markdown",
   "metadata": {
    "application/vnd.databricks.v1+cell": {
     "cellMetadata": {
      "byteLimit": 2048000,
      "rowLimit": 10000
     },
     "inputWidgets": {},
     "nuid": "a5c0c019-bf9c-4034-ac6d-6b79c013856a",
     "showTitle": false,
     "title": ""
    }
   },
   "source": [
    "Let's have a closer look at what happens when we use the `NewList.length` attribute as defined above:"
   ]
  },
  {
   "cell_type": "code",
   "execution_count": 0,
   "metadata": {
    "application/vnd.databricks.v1+cell": {
     "cellMetadata": {
      "byteLimit": 2048000,
      "rowLimit": 10000
     },
     "inputWidgets": {},
     "nuid": "d845a9c4-3b47-4bdd-b24a-7eb0c925f3bb",
     "showTitle": false,
     "title": ""
    }
   },
   "outputs": [],
   "source": [
    "my_list = NewList([1, 2, 3])\n",
    "print(my_list.length)\n",
    "\n",
    "my_list.append(4)\n",
    "print(my_list.length)"
   ]
  },
  {
   "cell_type": "markdown",
   "metadata": {
    "application/vnd.databricks.v1+cell": {
     "cellMetadata": {
      "byteLimit": 2048000,
      "rowLimit": 10000
     },
     "inputWidgets": {},
     "nuid": "031c84f8-b5d5-4650-986f-17e65a77182e",
     "showTitle": false,
     "title": ""
    }
   },
   "source": [
    "Because the code we added that defined `NewList.length` was added **only in the init method, if the list is made longer using the `append()` method, our `NewList.length` attribute is no longer accurate.**\n",
    "\n",
    "To address this, we need to run the code that calculates the length after any operation which modifies the data, which, in our case, is just the `append()` method.\n",
    "\n",
    "Rather than writing the code out twice, we can add a helper method, which calculates the length, and just call that method in the appropriate places.\n",
    "\n",
    "Here's a quick example of a helper method in action:"
   ]
  },
  {
   "cell_type": "code",
   "execution_count": 0,
   "metadata": {
    "application/vnd.databricks.v1+cell": {
     "cellMetadata": {
      "byteLimit": 2048000,
      "rowLimit": 10000
     },
     "inputWidgets": {},
     "nuid": "6a65fd42-92cf-41b9-ade0-87e8d93fdbda",
     "showTitle": false,
     "title": ""
    }
   },
   "outputs": [],
   "source": [
    "class MyBankBalance():\n",
    "    \"\"\"\n",
    "    An object that tracks a bank\n",
    "    account balance\n",
    "    \"\"\"\n",
    "\n",
    "    def __init__(self, initial_balance):\n",
    "        self.balance = initial_balance\n",
    "        self.calc_string()\n",
    "\n",
    "    def calc_string(self):\n",
    "        \"\"\"\n",
    "        A helper method to update self.string\n",
    "        \"\"\"\n",
    "        string_balance = \"${:,.2f}\".format(self.balance)\n",
    "        self.string = string_balance\n",
    "\n",
    "    def add_value(self, value):\n",
    "        \"\"\"\n",
    "        Add value to the bank balance\n",
    "        \"\"\"\n",
    "        self.balance += value\n",
    "        self.calc_string()\n",
    "\n",
    "mbb = MyBankBalance(3.50)\n",
    "print(mbb.string)"
   ]
  },
  {
   "cell_type": "markdown",
   "metadata": {
    "application/vnd.databricks.v1+cell": {
     "cellMetadata": {
      "byteLimit": 2048000,
      "rowLimit": 10000
     },
     "inputWidgets": {},
     "nuid": "4d97bad7-6354-4e71-9381-ec8848145c52",
     "showTitle": false,
     "title": ""
    }
   },
   "source": [
    "In the code above, a helper method `MyBankBalance.calc_string()` was created. This method calculate a string representation of object's bank balance stored in the attribute `MyBankBalance.string`. We called that helper method from the init method so it updates based on the initial value."
   ]
  },
  {
   "cell_type": "markdown",
   "metadata": {
    "application/vnd.databricks.v1+cell": {
     "cellMetadata": {
      "byteLimit": 2048000,
      "rowLimit": 10000
     },
     "inputWidgets": {},
     "nuid": "c3563999-51a9-40fe-b762-ad8c46a8dda9",
     "showTitle": false,
     "title": ""
    }
   },
   "source": [
    "Another helper method from the `MyBankBalance.add_value()` method was called, so the value updates whenever the balance is increased: "
   ]
  },
  {
   "cell_type": "code",
   "execution_count": 0,
   "metadata": {
    "application/vnd.databricks.v1+cell": {
     "cellMetadata": {
      "byteLimit": 2048000,
      "rowLimit": 10000
     },
     "inputWidgets": {},
     "nuid": "d8e4e20a-6bcf-44d7-aead-81357066fc62",
     "showTitle": false,
     "title": ""
    }
   },
   "outputs": [],
   "source": [
    "mbb.add_value(17.01)\n",
    "print(mbb.string)"
   ]
  },
  {
   "cell_type": "code",
   "execution_count": 0,
   "metadata": {
    "application/vnd.databricks.v1+cell": {
     "cellMetadata": {
      "byteLimit": 2048000,
      "rowLimit": 10000
     },
     "inputWidgets": {},
     "nuid": "9c326da3-7409-4cdc-9ae3-869a80e987f7",
     "showTitle": false,
     "title": ""
    }
   },
   "outputs": [],
   "source": [
    "mbb.add_value(5000)\n",
    "print(mbb.string)"
   ]
  },
  {
   "cell_type": "markdown",
   "metadata": {
    "application/vnd.databricks.v1+cell": {
     "cellMetadata": {
      "byteLimit": 2048000,
      "rowLimit": 10000
     },
     "inputWidgets": {},
     "nuid": "d7bf5b2d-e626-4e28-b505-48f8e0033852",
     "showTitle": false,
     "title": ""
    }
   },
   "source": [
    "We see that our helper methods are defined after our init method. We mentioned earlier that the order in which you define methods within a class doesn't matter, but there is a convention to order methods as follows:\n",
    "\n",
    "1. Init method\n",
    "2. Other methods"
   ]
  }
 ],
 "metadata": {
  "application/vnd.databricks.v1+notebook": {
   "dashboards": [],
   "language": "python",
   "notebookMetadata": {
    "pythonIndentUnit": 4
   },
   "notebookName": "[Answer]3_Object_Oriented_Python",
   "widgets": {}
  }
 },
 "nbformat": 4,
 "nbformat_minor": 0
}
