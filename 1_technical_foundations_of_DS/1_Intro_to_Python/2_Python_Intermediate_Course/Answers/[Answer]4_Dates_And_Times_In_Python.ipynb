{
 "cells": [
  {
   "cell_type": "markdown",
   "metadata": {
    "application/vnd.databricks.v1+cell": {
     "cellMetadata": {},
     "inputWidgets": {},
     "nuid": "deca1c0c-2af2-4f10-8243-d7ce769944fc",
     "showTitle": false,
     "title": ""
    }
   },
   "source": [
    "## About This Notebook\n",
    "\n",
    "Our focus in this notebook is twofold. Firstly, we focus on **understanding modules** and **ways to import them**. This is the more crucial part of this Notebook. Without this knowledge, we won't be able to move forward. Secondly, we will go into dates and times. Do not worry at all if you don't go too thoroughly through this part. You can always come back to this notebook and read through dates and times when you have the need.\n",
    "\n",
    "The data from date/time contains a lot of information:\n",
    "- Weather data with dates and/or times.\n",
    "- Computer logs with the timestamp for each event.\n",
    "- Sales data with date/time range included.\n",
    "\n",
    "In this session, we will be working with records of visitors to the White House which was published in 2009.\n",
    "***"
   ]
  },
  {
   "cell_type": "markdown",
   "metadata": {
    "application/vnd.databricks.v1+cell": {
     "cellMetadata": {},
     "inputWidgets": {},
     "nuid": "696df74c-7022-41d4-997e-cf6d8a497043",
     "showTitle": false,
     "title": ""
    }
   },
   "source": [
    "## 1. Importing Modules (IMPORTANT)\n",
    "\n",
    "In earlier notebooks, we used the csv module to make reading CSV files easier. \n",
    "> In Python, a **module** is simply a collection of variables, functions, and/or classes (which we'll collectively call 'definitions') that can be imported into a Python script.\n",
    "\n",
    "**Python contains many standard modules** that help us perform various tasks, such as performing advanced mathematical operations, working with specific file formats and databases, and working with dates and times.\n",
    "\n",
    "The **csv module** is one of the many standard modules from Python.\n",
    "\n",
    "Whenever we use definitions from a module, we first need to import those definitions. There are a number of ways we can import modules and their definitions using the `import` statement. You can ready more about the `import` statement [here](https://docs.python.org/3/reference/simple_stmts.html#import). \n",
    "\n",
    "*Note: Please note that the cells below are formatted as raw text (not as a code). We do not want to create a mess by importing same module several times, in different ways.*\n",
    "\n",
    "#### 1. Import the whole module by name. This is the most common method for importing a module."
   ]
  },
  {
   "cell_type": "markdown",
   "metadata": {
    "application/vnd.databricks.v1+cell": {
     "cellMetadata": {},
     "inputWidgets": {},
     "nuid": "d9eabbfe-7a3c-476f-96a9-ea563992c7f4",
     "showTitle": false,
     "title": ""
    }
   },
   "source": [
    "````python\n",
    "# import the module\n",
    "import csv\n",
    "\n",
    "# definitions are available using the format\n",
    "# module_name.definition_name\n",
    "csv.reader()\n",
    "````"
   ]
  },
  {
   "cell_type": "markdown",
   "metadata": {
    "application/vnd.databricks.v1+cell": {
     "cellMetadata": {},
     "inputWidgets": {},
     "nuid": "1cf959ba-fab3-41ed-9fd5-c2ea73ebd155",
     "showTitle": false,
     "title": ""
    }
   },
   "source": [
    "#### 2. Import the whole module with an ``alias``. This is especially useful if a module name is long and we need to type it a lot."
   ]
  },
  {
   "cell_type": "markdown",
   "metadata": {
    "application/vnd.databricks.v1+cell": {
     "cellMetadata": {},
     "inputWidgets": {},
     "nuid": "f0bf863a-1c87-45df-83eb-43e529cb1c30",
     "showTitle": false,
     "title": ""
    }
   },
   "source": [
    "````python\n",
    "# import the module with an alias\n",
    "import csv as c\n",
    "\n",
    "# definitions are available using the format\n",
    "# alias.definition_name\n",
    "c.reader()\n",
    "````"
   ]
  },
  {
   "cell_type": "markdown",
   "metadata": {
    "application/vnd.databricks.v1+cell": {
     "cellMetadata": {},
     "inputWidgets": {},
     "nuid": "53d91543-4ae9-4f7e-a78a-27165793d3c5",
     "showTitle": false,
     "title": ""
    }
   },
   "source": [
    "#### 3. Import one or more definitions from the module by name. This is the technique we've used so far. This technique is useful if you want only a single or select definitions and don't want to import everything."
   ]
  },
  {
   "cell_type": "markdown",
   "metadata": {
    "application/vnd.databricks.v1+cell": {
     "cellMetadata": {},
     "inputWidgets": {},
     "nuid": "374bc43d-9bfe-4fe7-a1de-543e6757c8da",
     "showTitle": false,
     "title": ""
    }
   },
   "source": [
    "````python\n",
    "# import a single definition\n",
    "from csv import reader\n",
    "\n",
    "# the definition you imported is available\n",
    "# by name\n",
    "reader()\n",
    "````"
   ]
  },
  {
   "cell_type": "markdown",
   "metadata": {
    "application/vnd.databricks.v1+cell": {
     "cellMetadata": {},
     "inputWidgets": {},
     "nuid": "c08b88b0-3cef-4c97-ae6e-fe68fdcd1959",
     "showTitle": false,
     "title": ""
    }
   },
   "source": [
    "````python\n",
    "# import multiple definitions\n",
    "from csv import reader, writer\n",
    "\n",
    "# the definitions you imported are available\n",
    "# using the format definition_name\n",
    "reader()\n",
    "writer()\n",
    "````"
   ]
  },
  {
   "cell_type": "markdown",
   "metadata": {
    "application/vnd.databricks.v1+cell": {
     "cellMetadata": {},
     "inputWidgets": {},
     "nuid": "bf379115-0784-49c4-89fc-25ae6ed86f02",
     "showTitle": false,
     "title": ""
    }
   },
   "source": [
    "#### 4. Import all definitions with a wildcard. This is useful if you want to import and use many definitions from a module."
   ]
  },
  {
   "cell_type": "markdown",
   "metadata": {
    "application/vnd.databricks.v1+cell": {
     "cellMetadata": {},
     "inputWidgets": {},
     "nuid": "6e9cee52-3937-44cd-a9d0-68ff0a6f0518",
     "showTitle": false,
     "title": ""
    }
   },
   "source": [
    "````python\n",
    "# import all definitions\n",
    "from csv import *\n",
    "\n",
    "# all definitions from the module are\n",
    "# available using the format definition_name\n",
    "reader()\n",
    "writer()\n",
    "get_dialect()\n",
    "````"
   ]
  },
  {
   "cell_type": "markdown",
   "metadata": {
    "application/vnd.databricks.v1+cell": {
     "cellMetadata": {},
     "inputWidgets": {},
     "nuid": "3562a727-ae5a-4fa9-986a-b6eb50711bf9",
     "showTitle": false,
     "title": ""
    }
   },
   "source": [
    "Choosing which option to use when importing is often a matter of taste, but it's good to keep in mind how each choice can affect the readability of your code:\n",
    "\n",
    "- If we're importing a long-name module by name and use it often, our code can become harder to read.\n",
    "- If we use an uncommon alias, it may not be clear in our code which module we are using.\n",
    "- If we use the specific definition or wildcard approach, and the script is long or complex, it may not be immediately clear where a definition comes from. This can also be a problem if we use this approach with multiple modules.\n",
    "- If we use the specific definition or wildcard approach, it's easier to accidentally overwrite an imported definition.\n",
    "\n",
    "In the end, there is often more than one \"correct\" way, so the most important thing is to be mindful of the trade-offs when you make a decision on how to import definitions from modules.\n",
    "\n",
    "We'll learn about these trade-offs in the next screen as we learn about Python's datetime module, and make a decision on how to import it for our needs."
   ]
  },
  {
   "cell_type": "markdown",
   "metadata": {
    "application/vnd.databricks.v1+cell": {
     "cellMetadata": {},
     "inputWidgets": {},
     "nuid": "92c475f8-e476-46c5-a628-8ce9e6f70a5c",
     "showTitle": false,
     "title": ""
    }
   },
   "source": [
    "## 2. The Datetime Module\n",
    "\n",
    "There are three standard modules in Python that can help us working with dates and times.\n",
    "- The calendar module\n",
    "- The time module\n",
    "- The datetime module\n",
    "\n",
    "The module that we will go in deep into is the\n",
    "[datetime module](https://docs.python.org/3/library/datetime.html#module-datetime). \n",
    "\n",
    "The datetime module contains a number of classes, including:\n",
    "\n",
    "- `datetime.datetime`: For working with date and time data.\n",
    "- `datetime.time`: For working with time data only.\n",
    "- `datetime.timedelta`: For representing time periods.\n",
    "\n",
    "You see that the first class, datetime, has the same name as the module. This could create confusion in our code. Now, let's look at different ways of importing and working with this first class, and the pros and cons.\n",
    "\n",
    "<b>Import the whole module by name</b>\n",
    "- Pro: It's super clear whenever you use datetime whether you're referring to the module or the class.\n",
    "- Con: It has the potential to create long lines of code, which can be harder to read.\n",
    "See example below:"
   ]
  },
  {
   "cell_type": "markdown",
   "metadata": {
    "application/vnd.databricks.v1+cell": {
     "cellMetadata": {},
     "inputWidgets": {},
     "nuid": "2f6c7e96-b049-4338-83bf-554854b4c08a",
     "showTitle": false,
     "title": ""
    }
   },
   "source": [
    "````python\n",
    "# import the datetime module\n",
    "import datetime\n",
    "\n",
    "# use the datetime class\n",
    "my_datetime_object = datetime.datetime()\n",
    "# the first datetime represents the datetime module\n",
    "# the second datetime represents the datetime class\n",
    "\n",
    "````"
   ]
  },
  {
   "cell_type": "markdown",
   "metadata": {
    "application/vnd.databricks.v1+cell": {
     "cellMetadata": {},
     "inputWidgets": {},
     "nuid": "977bdbe6-aba2-44a4-8e54-4ce1056711d8",
     "showTitle": false,
     "title": ""
    }
   },
   "source": [
    "<b>Import definitions via name or wildcard</b>\n",
    "- Pro: Shorter lines of code, which are easier to read.\n",
    "- Con: When we use datetime, it's not clear whether we are referring to the module or the class.\n",
    "\n",
    "See Example below:"
   ]
  },
  {
   "cell_type": "markdown",
   "metadata": {
    "application/vnd.databricks.v1+cell": {
     "cellMetadata": {},
     "inputWidgets": {},
     "nuid": "97b46772-02f5-49fc-ba3a-3df672f7eb08",
     "showTitle": false,
     "title": ""
    }
   },
   "source": [
    "````python\n",
    "# import the datetime class\n",
    "from datetime import datetime \n",
    "\n",
    "# import all definitions using wildcard\n",
    "from datetime import *\n",
    "\n",
    "# use the datetime class\n",
    "my_datetime_object = datetime()\n",
    "````"
   ]
  },
  {
   "cell_type": "markdown",
   "metadata": {
    "application/vnd.databricks.v1+cell": {
     "cellMetadata": {},
     "inputWidgets": {},
     "nuid": "f16eda11-768e-4346-9cec-4d9cc21f8fb8",
     "showTitle": false,
     "title": ""
    }
   },
   "source": [
    "<b> Import whole module by alias </b>\n",
    "- Pro: There is no ambiguity between dt (alias for the module) and dt.datetime (the class).\n",
    "- Con: The dt alias isn't common convention, which would cause some confusion for other people reading our code.\n",
    "See example below:"
   ]
  },
  {
   "cell_type": "markdown",
   "metadata": {
    "application/vnd.databricks.v1+cell": {
     "cellMetadata": {},
     "inputWidgets": {},
     "nuid": "3b9868e6-c9bc-44b7-8d14-4ab2051b8814",
     "showTitle": false,
     "title": ""
    }
   },
   "source": [
    "````python\n",
    "# import the datetime module \n",
    "import datetime as dt\n",
    "\n",
    "# use the datetime class\n",
    "my_datetime_object = dt.datetime()\n",
    "\n",
    "# dt is the alias for the datetime module\n",
    "# datetime() is the datetime class as we mentioned before\n",
    "````"
   ]
  },
  {
   "cell_type": "markdown",
   "metadata": {
    "application/vnd.databricks.v1+cell": {
     "cellMetadata": {},
     "inputWidgets": {},
     "nuid": "d8390a48-eae5-408e-9dcc-62f2d8699224",
     "showTitle": false,
     "title": ""
    }
   },
   "source": [
    "### Task 2.4.2:\n",
    "Your exercise is to import the datetime module with the alias `dt`."
   ]
  },
  {
   "cell_type": "code",
   "execution_count": 0,
   "metadata": {
    "application/vnd.databricks.v1+cell": {
     "cellMetadata": {
      "byteLimit": 2048000,
      "rowLimit": 10000
     },
     "inputWidgets": {},
     "nuid": "d5ecd736-1c63-4047-ae9f-9e68afc74e25",
     "showTitle": false,
     "title": ""
    }
   },
   "outputs": [],
   "source": [
    "#Start your code below:\n",
    "\n",
    "\n",
    "import datetime as dt"
   ]
  },
  {
   "cell_type": "markdown",
   "metadata": {
    "application/vnd.databricks.v1+cell": {
     "cellMetadata": {},
     "inputWidgets": {},
     "nuid": "d8628bb2-3a94-4b5d-a90e-38f9f00c6b8b",
     "showTitle": false,
     "title": ""
    }
   },
   "source": [
    "## 3. The Datetime Class\n",
    "\n",
    "The datetime.datetime class is the most commonly-used class from the datetime module, and has attributes and methods designed to work with data containing both the date and time. The signature of the class is below (with some lesser used parameters omitted):"
   ]
  },
  {
   "cell_type": "markdown",
   "metadata": {
    "application/vnd.databricks.v1+cell": {
     "cellMetadata": {},
     "inputWidgets": {},
     "nuid": "ff29396d-bdb1-41b9-bb2e-3c01d9804138",
     "showTitle": false,
     "title": ""
    }
   },
   "source": [
    "````python \n",
    "datetime.datetime(year, month, day, hour=0, minute=0, second=0)\n",
    "````"
   ]
  },
  {
   "cell_type": "markdown",
   "metadata": {
    "application/vnd.databricks.v1+cell": {
     "cellMetadata": {},
     "inputWidgets": {},
     "nuid": "94300b29-c234-4dad-a4b2-85261417cd10",
     "showTitle": false,
     "title": ""
    }
   },
   "source": [
    "The above code indicates that the `year`, `month`, and `day` arguments are required. The time arguments are optional and can be set to the equivalent of midnight if omitted.\n",
    "\n",
    "Now, let's take a look at an example of creating a datetime object."
   ]
  },
  {
   "cell_type": "code",
   "execution_count": 0,
   "metadata": {
    "application/vnd.databricks.v1+cell": {
     "cellMetadata": {
      "byteLimit": 2048000,
      "rowLimit": 10000
     },
     "inputWidgets": {},
     "nuid": "96d14620-a874-45a0-a0d1-7c7573acbb91",
     "showTitle": false,
     "title": ""
    }
   },
   "outputs": [],
   "source": [
    "# we'll import the datetime module and give it the alias dt\n",
    "import datetime as dt\n",
    "\n",
    "# we'll instantiate an object representing January 1, 2000\n",
    "eg_1 = dt.datetime(2000, 1, 1)\n",
    "print(eg_1)\n",
    "\n",
    "# Let's instantiate a second object\n",
    "# this time with both a date and a time\n",
    "eg_2 = dt.datetime(1990, 4, 22, 21, 26, 2)\n",
    "print(eg_2)"
   ]
  },
  {
   "cell_type": "markdown",
   "metadata": {
    "application/vnd.databricks.v1+cell": {
     "cellMetadata": {},
     "inputWidgets": {},
     "nuid": "6c296c55-804a-4609-b678-d9a1cd803e01",
     "showTitle": false,
     "title": ""
    }
   },
   "source": [
    "This object represents 26 minutes and 2 seconds past 9 p.m. on the 22th of April, 1990."
   ]
  },
  {
   "cell_type": "markdown",
   "metadata": {
    "application/vnd.databricks.v1+cell": {
     "cellMetadata": {},
     "inputWidgets": {},
     "nuid": "74e490a5-06f5-4d7d-ade3-26738bea8a15",
     "showTitle": false,
     "title": ""
    }
   },
   "source": [
    "We can specify some but not all time arguments — in the following example we pass a value for hour and minute but not for second:"
   ]
  },
  {
   "cell_type": "code",
   "execution_count": 0,
   "metadata": {
    "application/vnd.databricks.v1+cell": {
     "cellMetadata": {
      "byteLimit": 2048000,
      "rowLimit": 10000
     },
     "inputWidgets": {},
     "nuid": "b21d3064-3610-4212-a108-b309cebe1850",
     "showTitle": false,
     "title": ""
    }
   },
   "outputs": [],
   "source": [
    "import datetime as dt\n",
    "\n",
    "eg_3 = dt.datetime(1997, 10, 7, 9, 22)\n",
    "print(eg_3)"
   ]
  },
  {
   "cell_type": "markdown",
   "metadata": {
    "application/vnd.databricks.v1+cell": {
     "cellMetadata": {},
     "inputWidgets": {},
     "nuid": "dee8f188-cba3-4172-b6df-ed8823802704",
     "showTitle": false,
     "title": ""
    }
   },
   "source": [
    "This object `eg_3` represents 9:22 a.m. on the 7th of October, 1997."
   ]
  },
  {
   "cell_type": "markdown",
   "metadata": {
    "application/vnd.databricks.v1+cell": {
     "cellMetadata": {},
     "inputWidgets": {},
     "nuid": "0aac6781-b00f-4783-a1ed-31eee2d34340",
     "showTitle": false,
     "title": ""
    }
   },
   "source": [
    "### Task 2.4.3:\n",
    "\n",
    "1. Import the datetime class using the alias `dt`.\n",
    "2. Instantiate a datetime object representing midnight on June 16, 1911. Assign the object to the variable name `ibm_founded`.\n",
    "3. Instantiate a datetime object representing 8:17 p.m. on July 20, 1969. Assign the object to the variable name `man_on_moon`."
   ]
  },
  {
   "cell_type": "code",
   "execution_count": 0,
   "metadata": {
    "application/vnd.databricks.v1+cell": {
     "cellMetadata": {
      "byteLimit": 2048000,
      "rowLimit": 10000
     },
     "inputWidgets": {},
     "nuid": "7c858cf5-4f85-4da9-af6a-7c5719bfb181",
     "showTitle": false,
     "title": ""
    }
   },
   "outputs": [],
   "source": [
    "# Start your code below:\n",
    "\n",
    "import datetime as dt\n",
    "ibm_founded = dt.datetime(1911,6,16,0,0)\n",
    "print(ibm_founded)\n",
    "\n",
    "man_on_moon = dt.datetime(1969,7,20,8,17)\n",
    "print(man_on_moon)"
   ]
  },
  {
   "cell_type": "markdown",
   "metadata": {
    "application/vnd.databricks.v1+cell": {
     "cellMetadata": {},
     "inputWidgets": {},
     "nuid": "c5e117ca-31ee-4338-90db-05e4b1759541",
     "showTitle": false,
     "title": ""
    }
   },
   "source": [
    "## 4. Using Strptime to Parse Strings as Dates"
   ]
  },
  {
   "cell_type": "markdown",
   "metadata": {
    "application/vnd.databricks.v1+cell": {
     "cellMetadata": {},
     "inputWidgets": {},
     "nuid": "3ebf99fa-2ede-482c-85d9-7dfebb6f3e5f",
     "showTitle": false,
     "title": ""
    }
   },
   "source": [
    "Take a look at the code cell below. What we do there is trying to turn the date and time information stored in a string into a datetime object. It is a bit tricky as we need to use various methods to clean the string."
   ]
  },
  {
   "cell_type": "code",
   "execution_count": 0,
   "metadata": {
    "application/vnd.databricks.v1+cell": {
     "cellMetadata": {
      "byteLimit": 2048000,
      "rowLimit": 10000
     },
     "inputWidgets": {},
     "nuid": "346dc0ac-df1b-4d57-9f20-951ca990e441",
     "showTitle": false,
     "title": ""
    }
   },
   "outputs": [],
   "source": [
    "import datetime as dt\n",
    "\n",
    "date_string = '12/18/15 16:39'\n",
    "\n",
    "#Split date_string into two strings, either side of the space character\n",
    "date,time = date_string.split()\n",
    "\n",
    "#Split into string date components by their respective separators\n",
    "hr, mn = time.split(':')\n",
    "mnth, day, yr = date.split('/')\n",
    "\n",
    "#Convert the string date components to integer components\n",
    "hr = int(hr)\n",
    "mn = int(mn)\n",
    "mnth = int(mnth)\n",
    "day = int(day)\n",
    "yr = int(yr)\n",
    "\n",
    "#Use the integer components to instantiate a datetime object\n",
    "date_dt = dt.datetime(yr, mnth, day, hr, mn)\n",
    "\n",
    "print(date_dt)\n",
    "print(type(date_dt))"
   ]
  },
  {
   "cell_type": "markdown",
   "metadata": {
    "application/vnd.databricks.v1+cell": {
     "cellMetadata": {},
     "inputWidgets": {},
     "nuid": "8fabb183-d93b-45df-bfc6-e692022812f0",
     "showTitle": false,
     "title": ""
    }
   },
   "source": [
    "We see that `datetime.strptime()` [constructor](https://docs.python.org/3/library/datetime.html#datetime.datetime.strptime) returns a datetime object. It defined the datetime object using a syntax system to describe date and time formats called `strftime`. (Pay attention to strftime with an \"f\" versus the constructor strptime with a \"p\".)\n",
    "\n",
    "The strftime syntax consists of a `%` character followed by a single character which specifies a date or time part in a particular format.\n",
    "\n",
    "For example \"09/102/1998\":"
   ]
  },
  {
   "cell_type": "code",
   "execution_count": 0,
   "metadata": {
    "application/vnd.databricks.v1+cell": {
     "cellMetadata": {
      "byteLimit": 2048000,
      "rowLimit": 10000
     },
     "inputWidgets": {},
     "nuid": "55cdb16d-78d0-4c04-beae-e7c5fd44ee04",
     "showTitle": false,
     "title": ""
    }
   },
   "outputs": [],
   "source": [
    "import datetime as dt\n",
    "\n",
    "dt.datetime.strptime(\"09/02/1998\", \"%d/%m/%Y\")\n",
    "\n",
    "#%d - the day of the month in a two digit format, eg \"09\"\n",
    "#%m - the month of the year in a two digit format, eg \"02\"\n",
    "#%Y - the year in a four digit format, eg \"1998\""
   ]
  },
  {
   "cell_type": "markdown",
   "metadata": {
    "application/vnd.databricks.v1+cell": {
     "cellMetadata": {},
     "inputWidgets": {},
     "nuid": "dbded3f2-141c-4ba6-9011-fb91c071b571",
     "showTitle": false,
     "title": ""
    }
   },
   "source": [
    "The first argument from the `datetime.strptime()` constructor is the string we want to parse, and the second argument is a string that helps us specify the format of the datetime object.\n",
    "\n",
    "The `%d`, `%m`, and `%Y` format codes specify a two-digit day, two-digit month, and four-digit year respectively, and the forward slashes between them specify the forward slashes in the original string. Let's take a look at an example below:"
   ]
  },
  {
   "cell_type": "code",
   "execution_count": 0,
   "metadata": {
    "application/vnd.databricks.v1+cell": {
     "cellMetadata": {
      "byteLimit": 2048000,
      "rowLimit": 10000
     },
     "inputWidgets": {},
     "nuid": "b23f305b-3014-4510-a6f1-73492c3d8736",
     "showTitle": false,
     "title": ""
    }
   },
   "outputs": [],
   "source": [
    "date_1_str = \"24/12/1984\"\n",
    "date_1_dt = dt.datetime.strptime(date_1_str, \"%d/%m/%Y\")\n",
    "print(type(date_1_dt))\n",
    "print(date_1_dt)"
   ]
  },
  {
   "cell_type": "markdown",
   "metadata": {
    "application/vnd.databricks.v1+cell": {
     "cellMetadata": {},
     "inputWidgets": {},
     "nuid": "2ad5455e-488c-4319-a78c-8b9081354fb0",
     "showTitle": false,
     "title": ""
    }
   },
   "source": [
    "Do you see that the constructor returns a datetime object?\n",
    "\n",
    "Now, let's look at another example: \"12-24-1984\", the same exact date as above. What's different is the date parts are separated using a dash instead of a slash, in addition the order of the day and month are reversed:"
   ]
  },
  {
   "cell_type": "code",
   "execution_count": 0,
   "metadata": {
    "application/vnd.databricks.v1+cell": {
     "cellMetadata": {
      "byteLimit": 2048000,
      "rowLimit": 10000
     },
     "inputWidgets": {},
     "nuid": "9d7a4e05-beb1-4c7b-a31a-d66ecc57d2a1",
     "showTitle": false,
     "title": ""
    }
   },
   "outputs": [],
   "source": [
    "date_2_str = \"12-24-1984\"\n",
    "date_2_dt = dt.datetime.strptime(date_2_str, \"%m-%d-%Y\")\n",
    "print(date_2_dt)\n",
    "\n",
    "# %m - the month of the year in a wo digit format\n",
    "# %d - the day of the month in a two digit format\n",
    "# %Y - the year in a four digit format"
   ]
  },
  {
   "cell_type": "markdown",
   "metadata": {
    "application/vnd.databricks.v1+cell": {
     "cellMetadata": {},
     "inputWidgets": {},
     "nuid": "7db9a371-3dde-450d-8b5b-fd3e5b66a671",
     "showTitle": false,
     "title": ""
    }
   },
   "source": [
    "Below is a table of the most common format codes, take a look and simply know their existance. You don't need to known them by heart, you can always look them up in the [Python documentation](https://docs.python.org/3/library/datetime.html#strftime-strptime-behavior).\n",
    "\n",
    "|Strftime Code| Meaning| Examples|\n",
    "|-|-|-|\n",
    "|%d|Day of the month as a zero-padded number1|04|\n",
    "|%A|Day of the week as a word2|Monday|\n",
    "|%m|Month as a zero-padded number1|09|\n",
    "|%Y|Year as a four-digit number|1901|\n",
    "|%y|Year as a two-digit number with zero-padding1, 3|01 (2001), 88 (1988)|\n",
    "|%B|Month as a word2|September|\n",
    "|%H|Hour in 24 hour time as zero-padded number1|05 (5 a.m.),15 (3 p.m.)|\n",
    "|%p|a.m. or p.m.2|AM|\n",
    "|%I|Hour in 12 hour time as zero-padded number1|05 (5 a.m., or 5 p.m. if AM/PM indicates otherwise)|\n",
    "|%M|Minute as a zero-padded number1|07|"
   ]
  },
  {
   "cell_type": "markdown",
   "metadata": {
    "application/vnd.databricks.v1+cell": {
     "cellMetadata": {},
     "inputWidgets": {},
     "nuid": "3bc3ce4b-4aeb-4d61-8fd6-bfa3efb26d30",
     "showTitle": false,
     "title": ""
    }
   },
   "source": [
    "## 5. Using Strftime to format dates\n",
    "\n",
    "Below is a list of attributes from the <b> datetime </b> class, which can help us retrieve the various parts that make up the date stored within the object much easier:\n",
    "\n",
    "- `datetime.day:` The day of the month.\n",
    "- `datetime.month:` The month of the year.\n",
    "- `datetime.year:` The year.\n",
    "- `datetime.hour:` The hour of the day.\n",
    "- `datetime.minute:` The minute of the hour.\n",
    "\n",
    "How can we use those attributes to extract the values? Look at the example below:"
   ]
  },
  {
   "cell_type": "code",
   "execution_count": 0,
   "metadata": {
    "application/vnd.databricks.v1+cell": {
     "cellMetadata": {
      "byteLimit": 2048000,
      "rowLimit": 10000
     },
     "inputWidgets": {},
     "nuid": "8d1224ba-61b4-4110-85bf-6388d7fff434",
     "showTitle": false,
     "title": ""
    }
   },
   "outputs": [],
   "source": [
    "dt_object = dt.datetime(1984, 12, 24)\n",
    "\n",
    "# We retrieve day value\n",
    "day = dt_object.day \n",
    "\n",
    "# We retrieve month value\n",
    "month = dt_object.month\n",
    "\n",
    "# We retrieve year value\n",
    "year = dt_object.year\n",
    "\n",
    "# We use the retrieved value and form a new string\n",
    "dt_string = \"{}/{}/{}\".format(day, month, year)\n",
    "print(dt_string)\n",
    "print(type(dt_string))"
   ]
  },
  {
   "cell_type": "markdown",
   "metadata": {
    "application/vnd.databricks.v1+cell": {
     "cellMetadata": {},
     "inputWidgets": {},
     "nuid": "b6f0a6f2-edc5-4f72-9b26-0ee7b90e3fdc",
     "showTitle": false,
     "title": ""
    }
   },
   "source": [
    "It seems like what we performed above is a lot of code. There is a much easier method called [` datetime.strftime() `](https://docs.python.org/3/library/datetime.html#datetime.datetime.strftime), which will return a string representation of the date using the strftime syntax. Don't mix up strptime and strftime:\n",
    "- strptime >> str-p-time >> string parse time\n",
    "- strftime >> str-f-time >> string format time\n",
    "\n",
    "With the `strftime()` method we can use `%d`, `%m`, and `%Y` to represent the date, month, and year."
   ]
  },
  {
   "cell_type": "code",
   "execution_count": 0,
   "metadata": {
    "application/vnd.databricks.v1+cell": {
     "cellMetadata": {
      "byteLimit": 2048000,
      "rowLimit": 10000
     },
     "inputWidgets": {},
     "nuid": "f0265a75-105a-4ead-b08b-a10cfb2a8843",
     "showTitle": false,
     "title": ""
    }
   },
   "outputs": [],
   "source": [
    "dt_object = dt.datetime(1984, 12, 24)\n",
    "dt_string = dt_object.strftime(\"%d/%m/%Y\")\n",
    "print(dt_string)"
   ]
  },
  {
   "cell_type": "markdown",
   "metadata": {
    "application/vnd.databricks.v1+cell": {
     "cellMetadata": {},
     "inputWidgets": {},
     "nuid": "43c6f40d-3e10-448f-9681-9fae2132f9d4",
     "showTitle": false,
     "title": ""
    }
   },
   "source": [
    "Another way is, we can use `%B` to represent the month as a word:"
   ]
  },
  {
   "cell_type": "code",
   "execution_count": 0,
   "metadata": {
    "application/vnd.databricks.v1+cell": {
     "cellMetadata": {
      "byteLimit": 2048000,
      "rowLimit": 10000
     },
     "inputWidgets": {},
     "nuid": "8936ef5e-7c40-4cb7-bb7e-cb9dd6cdece2",
     "showTitle": false,
     "title": ""
    }
   },
   "outputs": [],
   "source": [
    "dt_string = dt_object.strftime(\"%B %d, %Y\")\n",
    "print(dt_string)"
   ]
  },
  {
   "cell_type": "markdown",
   "metadata": {
    "application/vnd.databricks.v1+cell": {
     "cellMetadata": {},
     "inputWidgets": {},
     "nuid": "98605a97-09d3-483f-ba72-3a2cd692bde3",
     "showTitle": false,
     "title": ""
    }
   },
   "source": [
    "What else can we do? For a more granular representation of the time, we can use `%A`, `%I`, `%M`, and `%p` to represent the day of the week, the hour of the day, the minute of the hour, and a.m./p.m.:"
   ]
  },
  {
   "cell_type": "code",
   "execution_count": 0,
   "metadata": {
    "application/vnd.databricks.v1+cell": {
     "cellMetadata": {
      "byteLimit": 2048000,
      "rowLimit": 10000
     },
     "inputWidgets": {},
     "nuid": "69efc9da-4f76-47ac-97fb-103c5947c83e",
     "showTitle": false,
     "title": ""
    }
   },
   "outputs": [],
   "source": [
    "dt_string = dt_object.strftime(\"%A %B %d at %I:%M %p\")\n",
    "print(dt_string)"
   ]
  },
  {
   "cell_type": "markdown",
   "metadata": {
    "application/vnd.databricks.v1+cell": {
     "cellMetadata": {},
     "inputWidgets": {},
     "nuid": "5f08c9c0-7d0b-4283-8826-c9178e73c331",
     "showTitle": false,
     "title": ""
    }
   },
   "source": [
    "## 6. The Time Class\n",
    "\n",
    "The time class holds only time data: hours, minutes, seconds, and microseconds.\n",
    "An example to instantiate a time object is like this:"
   ]
  },
  {
   "cell_type": "code",
   "execution_count": 0,
   "metadata": {
    "application/vnd.databricks.v1+cell": {
     "cellMetadata": {
      "byteLimit": 2048000,
      "rowLimit": 10000
     },
     "inputWidgets": {},
     "nuid": "6caf182d-35ae-4d21-811a-7b12b6d9b4e1",
     "showTitle": false,
     "title": ""
    }
   },
   "outputs": [],
   "source": [
    "import datetime as dt\n",
    "\n",
    "dt.time(hour=0, minute=0, second=0, microsecond=0)"
   ]
  },
  {
   "cell_type": "markdown",
   "metadata": {
    "application/vnd.databricks.v1+cell": {
     "cellMetadata": {},
     "inputWidgets": {},
     "nuid": "1dd18603-5d88-459d-97bb-7c3c6551f033",
     "showTitle": false,
     "title": ""
    }
   },
   "source": [
    "It is also possible to instantiate a time object without arguments. It will simply represent the time \"0:00:00\" (midnight). Otherwise, we can pass arguments for any or all of the hour, minute and second and microsecond parameters. Let's look at an example for the time 6:30 p.m.:"
   ]
  },
  {
   "cell_type": "code",
   "execution_count": 0,
   "metadata": {
    "application/vnd.databricks.v1+cell": {
     "cellMetadata": {
      "byteLimit": 2048000,
      "rowLimit": 10000
     },
     "inputWidgets": {},
     "nuid": "84266891-7b0f-4183-8723-6b48f804c160",
     "showTitle": false,
     "title": ""
    }
   },
   "outputs": [],
   "source": [
    "two_thirty = dt.time(18, 30)\n",
    "print(two_thirty)"
   ]
  },
  {
   "cell_type": "markdown",
   "metadata": {
    "application/vnd.databricks.v1+cell": {
     "cellMetadata": {},
     "inputWidgets": {},
     "nuid": "34ca1cdd-bea3-4c19-80a4-ef807b89402d",
     "showTitle": false,
     "title": ""
    }
   },
   "source": [
    "Pay attention that we provided arguments in 24-hour time (an integer between 0 and 23). Let's look at an example of instantiating a time object for five seconds after 10 a.m.:"
   ]
  },
  {
   "cell_type": "code",
   "execution_count": 0,
   "metadata": {
    "application/vnd.databricks.v1+cell": {
     "cellMetadata": {
      "byteLimit": 2048000,
      "rowLimit": 10000
     },
     "inputWidgets": {},
     "nuid": "1e7a1e0b-bae8-444c-aba2-ca833f9dd285",
     "showTitle": false,
     "title": ""
    }
   },
   "outputs": [],
   "source": [
    "five_sec_after_10am = dt.time(10,0,5)\n",
    "print(five_sec_after_10am)"
   ]
  },
  {
   "cell_type": "markdown",
   "metadata": {
    "application/vnd.databricks.v1+cell": {
     "cellMetadata": {},
     "inputWidgets": {},
     "nuid": "1233023c-5c2f-4dc8-9ce3-a1a489e39f8e",
     "showTitle": false,
     "title": ""
    }
   },
   "source": [
    "We can also create a time object from a datetime object using the `datetime.datetime.time()` method. This method returns a time object representing the time data from the datetime object."
   ]
  },
  {
   "cell_type": "code",
   "execution_count": 0,
   "metadata": {
    "application/vnd.databricks.v1+cell": {
     "cellMetadata": {
      "byteLimit": 2048000,
      "rowLimit": 10000
     },
     "inputWidgets": {},
     "nuid": "8d431c86-e340-497d-9b83-9952081f720d",
     "showTitle": false,
     "title": ""
    }
   },
   "outputs": [],
   "source": [
    "# Version one\n",
    "jfk_shot_dt = dt.datetime(1963, 11, 22, 12, 30)\n",
    "print(jfk_shot_dt)"
   ]
  },
  {
   "cell_type": "code",
   "execution_count": 0,
   "metadata": {
    "application/vnd.databricks.v1+cell": {
     "cellMetadata": {
      "byteLimit": 2048000,
      "rowLimit": 10000
     },
     "inputWidgets": {},
     "nuid": "16e07303-c084-4c21-9b94-1ec8ae6846e1",
     "showTitle": false,
     "title": ""
    }
   },
   "outputs": [],
   "source": [
    "# Version two\n",
    "jfk_shot_t = jfk_shot_dt.time()\n",
    "print(jfk_shot_t)"
   ]
  },
  {
   "cell_type": "markdown",
   "metadata": {
    "application/vnd.databricks.v1+cell": {
     "cellMetadata": {},
     "inputWidgets": {},
     "nuid": "7563b96b-c9cb-4a25-9112-e2d2cfd46ec5",
     "showTitle": false,
     "title": ""
    }
   },
   "source": [
    "There is no `strptime()` constructor within the time class.  But if we need to parse times in string form, `datetime.strptime()` can be used and then converted directly to a time object like this:"
   ]
  },
  {
   "cell_type": "code",
   "execution_count": 0,
   "metadata": {
    "application/vnd.databricks.v1+cell": {
     "cellMetadata": {
      "byteLimit": 2048000,
      "rowLimit": 10000
     },
     "inputWidgets": {},
     "nuid": "cadb023d-be48-4297-8ff3-07f523ce8802",
     "showTitle": false,
     "title": ""
    }
   },
   "outputs": [],
   "source": [
    "time_str = \"8:00\"\n",
    "time_dt = dt.datetime.strptime(time_str,\"%H:%M\")\n",
    "print(time_dt)"
   ]
  },
  {
   "cell_type": "code",
   "execution_count": 0,
   "metadata": {
    "application/vnd.databricks.v1+cell": {
     "cellMetadata": {
      "byteLimit": 2048000,
      "rowLimit": 10000
     },
     "inputWidgets": {},
     "nuid": "0b2169f2-9faf-44c3-bbec-8a9b9fd84f5e",
     "showTitle": false,
     "title": ""
    }
   },
   "outputs": [],
   "source": [
    "time_t = time_dt.time()\n",
    "print(time_t)"
   ]
  },
  {
   "cell_type": "markdown",
   "metadata": {
    "application/vnd.databricks.v1+cell": {
     "cellMetadata": {},
     "inputWidgets": {},
     "nuid": "2f6f616c-6367-4c91-aa1c-c7759af5c784",
     "showTitle": false,
     "title": ""
    }
   },
   "source": [
    "## 7. Comparing time objects\n",
    "\n",
    "One of the best features of time objects is comparison. Take a look at the comparison example below:"
   ]
  },
  {
   "cell_type": "code",
   "execution_count": 0,
   "metadata": {
    "application/vnd.databricks.v1+cell": {
     "cellMetadata": {
      "byteLimit": 2048000,
      "rowLimit": 10000
     },
     "inputWidgets": {},
     "nuid": "ed49808c-b4b3-4edf-8c41-240ba94e86a3",
     "showTitle": false,
     "title": ""
    }
   },
   "outputs": [],
   "source": [
    "t1 = dt.time(15, 30)\n",
    "t2 = dt.time(10, 45)\n",
    "\n",
    "comparison = t1 > t2\n",
    "print(comparison)"
   ]
  },
  {
   "cell_type": "markdown",
   "metadata": {
    "application/vnd.databricks.v1+cell": {
     "cellMetadata": {},
     "inputWidgets": {},
     "nuid": "9704b46a-f46c-416f-b394-3b58ade809e9",
     "showTitle": false,
     "title": ""
    }
   },
   "source": [
    "There are also Python built-in functions like `min()` and `max()` that we can use for time class:"
   ]
  },
  {
   "cell_type": "code",
   "execution_count": 0,
   "metadata": {
    "application/vnd.databricks.v1+cell": {
     "cellMetadata": {
      "byteLimit": 2048000,
      "rowLimit": 10000
     },
     "inputWidgets": {},
     "nuid": "03875c4b-1013-4321-8aa0-65d0161284d7",
     "showTitle": false,
     "title": ""
    }
   },
   "outputs": [],
   "source": [
    "times = [\n",
    "           dt.time(23, 30),\n",
    "           dt.time(14, 45),\n",
    "           dt.time(8, 0)\n",
    "        ]\n",
    "\n",
    "print(min(times))"
   ]
  },
  {
   "cell_type": "code",
   "execution_count": 0,
   "metadata": {
    "application/vnd.databricks.v1+cell": {
     "cellMetadata": {
      "byteLimit": 2048000,
      "rowLimit": 10000
     },
     "inputWidgets": {},
     "nuid": "621ed265-041b-4d72-bb27-befc07b346b3",
     "showTitle": false,
     "title": ""
    }
   },
   "outputs": [],
   "source": [
    "print(max(times))"
   ]
  },
  {
   "cell_type": "markdown",
   "metadata": {
    "application/vnd.databricks.v1+cell": {
     "cellMetadata": {},
     "inputWidgets": {},
     "nuid": "d004f521-9d0b-46da-a368-2e25c006ecd8",
     "showTitle": false,
     "title": ""
    }
   },
   "source": [
    "## 8. Calculations with Dates and Times\n",
    "Just like time objects, datetime objects also support comparison operators like `>` and `<`. What about mathematical operators like `-` and `+`? Let's see if they work, too, starting with `+`:"
   ]
  },
  {
   "cell_type": "code",
   "execution_count": 0,
   "metadata": {
    "application/vnd.databricks.v1+cell": {
     "cellMetadata": {
      "byteLimit": 2048000,
      "rowLimit": 10000
     },
     "inputWidgets": {},
     "nuid": "ac04c3d4-82fb-4eaa-b9da-99668e501208",
     "showTitle": false,
     "title": ""
    }
   },
   "outputs": [],
   "source": [
    "dt1 = dt.datetime(2022, 4, 14)\n",
    "dt2 = dt.datetime(2022, 3, 29)\n",
    "print(dt1 + dt2)"
   ]
  },
  {
   "cell_type": "markdown",
   "metadata": {
    "application/vnd.databricks.v1+cell": {
     "cellMetadata": {},
     "inputWidgets": {},
     "nuid": "5adf0671-a6f2-4801-883a-d5ded381a9ba",
     "showTitle": false,
     "title": ""
    }
   },
   "source": [
    "You see that when we  try to add two date objects using the `+` operator, we get a `TypeError` which tells us the operator is not valid.\n",
    "\n",
    "But how about the <b> `-` </b> operator?"
   ]
  },
  {
   "cell_type": "code",
   "execution_count": 0,
   "metadata": {
    "application/vnd.databricks.v1+cell": {
     "cellMetadata": {
      "byteLimit": 2048000,
      "rowLimit": 10000
     },
     "inputWidgets": {},
     "nuid": "aa7bec5d-95da-4122-936d-ffd25099ba54",
     "showTitle": false,
     "title": ""
    }
   },
   "outputs": [],
   "source": [
    "print(dt1 - dt2)"
   ]
  },
  {
   "cell_type": "markdown",
   "metadata": {
    "application/vnd.databricks.v1+cell": {
     "cellMetadata": {},
     "inputWidgets": {},
     "nuid": "6d31a164-8e01-4c65-ad95-a82ea5fd02ff",
     "showTitle": false,
     "title": ""
    }
   },
   "source": [
    "It works! When we use the **`-`** operator with two date objects, the result is the time difference between the two datetime objects. \n",
    "\n",
    "Let's look at the type of the resulting object:"
   ]
  },
  {
   "cell_type": "code",
   "execution_count": 0,
   "metadata": {
    "application/vnd.databricks.v1+cell": {
     "cellMetadata": {
      "byteLimit": 2048000,
      "rowLimit": 10000
     },
     "inputWidgets": {},
     "nuid": "7262a2bf-3ea3-4d7e-b3da-1978ccab6f95",
     "showTitle": false,
     "title": ""
    }
   },
   "outputs": [],
   "source": [
    "diff = dt1 - dt2\n",
    "print(type(diff))"
   ]
  },
  {
   "cell_type": "markdown",
   "metadata": {
    "application/vnd.databricks.v1+cell": {
     "cellMetadata": {},
     "inputWidgets": {},
     "nuid": "f705d0b0-a5d0-4327-a51b-4c2c9a0d1d81",
     "showTitle": false,
     "title": ""
    }
   },
   "source": [
    "The difference between two datetime objects is a `timedelta` object! Those take the following parameters:"
   ]
  },
  {
   "cell_type": "code",
   "execution_count": 0,
   "metadata": {
    "application/vnd.databricks.v1+cell": {
     "cellMetadata": {
      "byteLimit": 2048000,
      "rowLimit": 10000
     },
     "inputWidgets": {},
     "nuid": "99813db7-6eee-4991-8d4f-1396f562e16f",
     "showTitle": false,
     "title": ""
    }
   },
   "outputs": [],
   "source": [
    "dt.timedelta(\n",
    "    days=0, seconds=0, microseconds=0, milliseconds=0, minutes=0, hours=0, weeks=0\n",
    ")"
   ]
  },
  {
   "cell_type": "markdown",
   "metadata": {
    "application/vnd.databricks.v1+cell": {
     "cellMetadata": {},
     "inputWidgets": {},
     "nuid": "efd6de06-085f-40b6-95dc-a7a377d2ee2a",
     "showTitle": false,
     "title": ""
    }
   },
   "source": [
    "Look carefully at the order of the arguments! It probably isn't the ordering you would expect. For this reason it can be clearer to use keyword arguments when instantiating objects if we are using anything other than days:"
   ]
  },
  {
   "cell_type": "code",
   "execution_count": 0,
   "metadata": {
    "application/vnd.databricks.v1+cell": {
     "cellMetadata": {
      "byteLimit": 2048000,
      "rowLimit": 10000
     },
     "inputWidgets": {},
     "nuid": "62e1c0fb-9982-4d7e-be6c-98197049f69a",
     "showTitle": false,
     "title": ""
    }
   },
   "outputs": [],
   "source": [
    "two_days = dt.timedelta(2)\n",
    "print(two_days)"
   ]
  },
  {
   "cell_type": "code",
   "execution_count": 0,
   "metadata": {
    "application/vnd.databricks.v1+cell": {
     "cellMetadata": {
      "byteLimit": 2048000,
      "rowLimit": 10000
     },
     "inputWidgets": {},
     "nuid": "7bea1e48-2bc9-4830-8960-3567f9206894",
     "showTitle": false,
     "title": ""
    }
   },
   "outputs": [],
   "source": [
    "three_weeks = dt.timedelta(weeks=3)\n",
    "print(three_weeks)"
   ]
  },
  {
   "cell_type": "code",
   "execution_count": 0,
   "metadata": {
    "application/vnd.databricks.v1+cell": {
     "cellMetadata": {
      "byteLimit": 2048000,
      "rowLimit": 10000
     },
     "inputWidgets": {},
     "nuid": "ec1c1224-7f6c-4a05-b06a-d02a7ab91fdf",
     "showTitle": false,
     "title": ""
    }
   },
   "outputs": [],
   "source": [
    "one_hr_ten_mins = dt.timedelta(hours=1, minutes=10)\n",
    "print(one_hr_ten_mins)"
   ]
  },
  {
   "cell_type": "markdown",
   "metadata": {
    "application/vnd.databricks.v1+cell": {
     "cellMetadata": {},
     "inputWidgets": {},
     "nuid": "18e4202d-62d9-4872-b4b8-b9d01bb438aa",
     "showTitle": false,
     "title": ""
    }
   },
   "source": [
    "Lastly, timedelta objects can also be added or subtracted from datetime objects!"
   ]
  },
  {
   "cell_type": "code",
   "execution_count": 0,
   "metadata": {
    "application/vnd.databricks.v1+cell": {
     "cellMetadata": {
      "byteLimit": 2048000,
      "rowLimit": 10000
     },
     "inputWidgets": {},
     "nuid": "ab45c142-5a86-49c9-bd2a-1f1b3814bee8",
     "showTitle": false,
     "title": ""
    }
   },
   "outputs": [],
   "source": [
    "# we try to find the date one week from a date object\n",
    "d1 = dt.date(1963, 2, 21)\n",
    "d1_plus_1wk = d1 + dt.timedelta(weeks=1)\n",
    "print(d1_plus_1wk)"
   ]
  }
 ],
 "metadata": {
  "application/vnd.databricks.v1+notebook": {
   "dashboards": [],
   "environmentMetadata": null,
   "language": "python",
   "notebookMetadata": {
    "pythonIndentUnit": 2
   },
   "notebookName": "[Answer]4_Dates_And_Times_In_Python",
   "widgets": {}
  }
 },
 "nbformat": 4,
 "nbformat_minor": 0
}
