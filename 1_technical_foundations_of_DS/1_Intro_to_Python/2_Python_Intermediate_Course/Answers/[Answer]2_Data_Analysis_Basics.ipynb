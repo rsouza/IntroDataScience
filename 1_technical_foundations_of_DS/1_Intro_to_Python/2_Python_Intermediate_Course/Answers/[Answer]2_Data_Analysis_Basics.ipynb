{
 "cells": [
  {
   "cell_type": "markdown",
   "metadata": {
    "application/vnd.databricks.v1+cell": {
     "cellMetadata": {
      "byteLimit": 2048000,
      "rowLimit": 10000
     },
     "inputWidgets": {},
     "nuid": "a8872a82-544a-4f88-b344-36f6613a78f2",
     "showTitle": false,
     "title": ""
    }
   },
   "source": [
    "# Data Analysis Basics\n",
    "\n",
    "In this notebook, we'll build on the data cleaning we did with the Museum of Modern Art (MoMA) data set in the previous mission, and get into the fun part: analyzing the data! Analyzing the data is extremely important and the techniques that you will learn will be extremely valuable to help you become a data scientist. You can use the techniques to analyze data, to explore data, and to understand data better.\n",
    "\n",
    "There is a cleaned data set called <b>artworks_clean.csv</b> stored in the instance for you. You don't have to re-clean the data again, but we have to convert these values to numeric types so we can do further analysis on them.\n",
    "***\n",
    "### Task 2.2.0:\n",
    "Use a `for` loop to iterate over each row in the moma list of lists. Inside the body of the loop:\n",
    "\n",
    "1. Assign the value from index 6 (Date) to a variable called `date`.\n",
    "2. Use an ``if`` statement to check if date is not equal to \"\".\n",
    "3. If date isn't equal to \"\", convert it to an integer type using the `int()` function.\n",
    "4. Finally, assign the value back to index ``6`` in the row."
   ]
  },
  {
   "cell_type": "code",
   "execution_count": 0,
   "metadata": {
    "application/vnd.databricks.v1+cell": {
     "cellMetadata": {
      "byteLimit": 2048000,
      "rowLimit": 10000
     },
     "inputWidgets": {},
     "nuid": "b27b9196-a666-4c69-9ce6-c034e6dafe54",
     "showTitle": false,
     "title": ""
    }
   },
   "outputs": [],
   "source": [
    "from csv import reader\n",
    "\n",
    "# Read the `artworks_clean.csv` file\n",
    "with open('../../../../Data/artworks_clean.csv', encoding='utf8') as opened_file:\n",
    "    read_file = reader(opened_file)\n",
    "    moma = list(read_file)\n",
    "moma = moma[1:]\n",
    "\n",
    "\n",
    "# Convert the birthdate values\n",
    "for row in moma:\n",
    "    birth_date = row[3]\n",
    "    if birth_date != \"\":\n",
    "        birth_date = int(birth_date)\n",
    "    row[3] = birth_date\n",
    "    \n",
    "# Convert the death date values\n",
    "for row in moma:\n",
    "    death_date = row[4]\n",
    "    if death_date != \"\":\n",
    "        death_date = int(death_date)\n",
    "    row[4] = death_date\n",
    "\n",
    "    \n",
    "# Start your code below:\n",
    "\n",
    "for row in moma[1:]:\n",
    "    date = row[6]\n",
    "    if date != \"\":\n",
    "        date = int(date)\n",
    "    row[6] = date"
   ]
  },
  {
   "cell_type": "markdown",
   "metadata": {
    "application/vnd.databricks.v1+cell": {
     "cellMetadata": {
      "byteLimit": 2048000,
      "rowLimit": 10000
     },
     "inputWidgets": {},
     "nuid": "b4f0eadb-85a5-4adb-8bd7-1be9f1d3fb88",
     "showTitle": false,
     "title": ""
    }
   },
   "source": [
    "## 1. Calculating Artist Ages\n",
    "\n",
    "In this session, we want to calculate the ages at which artists created their pieces of art. All we need to do is to subtract the artist's birth year (BeginDate) from the year in which their artwork was created (Date). \n",
    "\n",
    "Pay attention to the missing values for <b>BeginDate</b>. We'll use a value of 0 for the missing values in BeginDate, but later on we can replace them with something more meaningful.\n",
    "\n",
    "There are a plenty of cases where the artist's age (according to our data set) is very low, including some where the age is negative. We could investigate these specific cases one by one, but since we're looking for a summary, we'll take care of these by categorizing artists younger than 20 as \"Unknown\" also. This has the handy effect of also categorizing the artists without birth years as \"Unknown\".\n",
    "\n",
    "To give you a better understanding of some of the values you'll be working with and how they will progress through our code, look at the following table as an example:\n",
    "\n",
    "| Year Artwork Created (date)|Birth Year (birth)|age|final_age|\n",
    "|- |-|-|-|\n",
    "|1968|1898 |70|70|\n",
    "|1931|\"\"|0|\"Unknown\"|\n",
    "|1972|1976|-4|\"Unknown\"|\n",
    "\n",
    "### Task 2.2.1:\n",
    "1. Create an empty list, `ages`, to store the artist age data.\n",
    "2. Use a loop to iterate over the `rows` in moma.\n",
    "3. In each iteration, assign the artwork year (at index 6) to date and artist birth year (at index 3) to `birth`.\n",
    "    - If the `birth` date is an int, calculate the age of the artist at the time of creating the artwork, and assign it to the variable `age`.\n",
    "    - If `birth` isn't an int type, assign 0 to the variable `age`.\n",
    "    - Append `age` to the `ages` list.\n",
    "4. Create an empty list `final_ages`, to store the final age data.\n",
    "5. Use a loop to iterate over each `age` in `ages`. In each iteration:\n",
    "    - If the `age` is greater than 20, assign the `age` to the variable `final_age`.\n",
    "    - If the `age` is not greater than 20, assign \"Unknown\" to the variable `final_age`.\n",
    "    - Append `final_age` to the *final_ages* list."
   ]
  },
  {
   "cell_type": "code",
   "execution_count": 0,
   "metadata": {
    "application/vnd.databricks.v1+cell": {
     "cellMetadata": {
      "byteLimit": 2048000,
      "rowLimit": 10000
     },
     "inputWidgets": {},
     "nuid": "52327dd6-27d8-4524-9fc8-f1194749e86c",
     "showTitle": false,
     "title": ""
    }
   },
   "outputs": [],
   "source": [
    "# Start your code below:\n",
    "\n",
    "ages = []\n",
    "for element in moma:\n",
    "    if str(element[3]).isdigit() and str(element[6]).isdigit():\n",
    "        birth = int(element[3])\n",
    "        date = int(element[6])\n",
    "        age = date-birth\n",
    "    else:\n",
    "        age = 0\n",
    "    ages.append(age)\n",
    "    \n",
    "final_ages = []\n",
    "\n",
    "for element in ages:\n",
    "    if element > 20:\n",
    "        final_age = element\n",
    "    else:\n",
    "        final_age = \"Unknown\"\n",
    "    final_ages.append(final_age)"
   ]
  },
  {
   "cell_type": "markdown",
   "metadata": {
    "application/vnd.databricks.v1+cell": {
     "cellMetadata": {
      "byteLimit": 2048000,
      "rowLimit": 10000
     },
     "inputWidgets": {},
     "nuid": "e6611ed5-2913-4649-994c-e888115b27a3",
     "showTitle": false,
     "title": ""
    }
   },
   "source": [
    "## 2. Inserting Variables Into Strings (OPTIONAL)\n",
    "\n",
    "Sometimes it is easiser to interpret a value when we insert a list of values into a sentence. For example, if we have some information about one of our collegue's favorite numbers:"
   ]
  },
  {
   "cell_type": "code",
   "execution_count": 0,
   "metadata": {
    "application/vnd.databricks.v1+cell": {
     "cellMetadata": {
      "byteLimit": 2048000,
      "rowLimit": 10000
     },
     "inputWidgets": {},
     "nuid": "93a64e0f-5e45-4d80-929e-78c46f9bce0a",
     "showTitle": false,
     "title": ""
    }
   },
   "outputs": [],
   "source": [
    "name = \"Kellie\"\n",
    "num = 8"
   ]
  },
  {
   "cell_type": "markdown",
   "metadata": {
    "application/vnd.databricks.v1+cell": {
     "cellMetadata": {
      "byteLimit": 2048000,
      "rowLimit": 10000
     },
     "inputWidgets": {},
     "nuid": "1706d0ba-c110-40a1-a5b4-9418d3c8ad1a",
     "showTitle": false,
     "title": ""
    }
   },
   "source": [
    "To make the output more understandable, we want to display:"
   ]
  },
  {
   "cell_type": "markdown",
   "metadata": {
    "application/vnd.databricks.v1+cell": {
     "cellMetadata": {
      "byteLimit": 2048000,
      "rowLimit": 10000
     },
     "inputWidgets": {},
     "nuid": "c0049d92-dbf5-4727-85a9-0b2480ce38e6",
     "showTitle": false,
     "title": ""
    }
   },
   "source": [
    "Kellie's favorite number is 8"
   ]
  },
  {
   "cell_type": "markdown",
   "metadata": {
    "application/vnd.databricks.v1+cell": {
     "cellMetadata": {
      "byteLimit": 2048000,
      "rowLimit": 10000
     },
     "inputWidgets": {},
     "nuid": "bcc4bb72-faa2-472e-9e82-67a408874646",
     "showTitle": false,
     "title": ""
    }
   },
   "source": [
    "To achieve this, we could use `str()` to convert the integer, and use the `+` operator to combine the values, like this:"
   ]
  },
  {
   "cell_type": "code",
   "execution_count": 0,
   "metadata": {
    "application/vnd.databricks.v1+cell": {
     "cellMetadata": {
      "byteLimit": 2048000,
      "rowLimit": 10000
     },
     "inputWidgets": {},
     "nuid": "b05e9b81-8fc2-46ee-be5c-de7a9bca7932",
     "showTitle": false,
     "title": ""
    }
   },
   "outputs": [],
   "source": [
    "output = name + \"'s favorite number is \" + str(num)\n",
    "print(output)"
   ]
  },
  {
   "cell_type": "markdown",
   "metadata": {
    "application/vnd.databricks.v1+cell": {
     "cellMetadata": {
      "byteLimit": 2048000,
      "rowLimit": 10000
     },
     "inputWidgets": {},
     "nuid": "0e4516f5-a15a-4bc3-bc67-da5816ef2872",
     "showTitle": false,
     "title": ""
    }
   },
   "source": [
    "The[ <b>str.format() method <b>](https://docs.python.org/3/library/stdtypes.html#str.format)is a powerful tool that helps us write easy-to-read code while combining strings with other variables.\n",
    "\n",
    "We use the method with a string — which acts as a template — using the brace characters (`{}`) to signify where we want any variables to be inserted. We then pass those variables as arguments to the method. Let's look at a few examples:"
   ]
  },
  {
   "cell_type": "code",
   "execution_count": 0,
   "metadata": {
    "application/vnd.databricks.v1+cell": {
     "cellMetadata": {
      "byteLimit": 2048000,
      "rowLimit": 10000
     },
     "inputWidgets": {},
     "nuid": "707bf198-8d22-45c0-bacb-93f965c6b7be",
     "showTitle": false,
     "title": ""
    }
   },
   "outputs": [],
   "source": [
    "output = \"{}'s favorite number is {}\".format(\"Kellie\", 8)\n",
    "print(output)"
   ]
  },
  {
   "cell_type": "markdown",
   "metadata": {
    "application/vnd.databricks.v1+cell": {
     "cellMetadata": {
      "byteLimit": 2048000,
      "rowLimit": 10000
     },
     "inputWidgets": {},
     "nuid": "32ec63d4-68cd-4ac0-8d0d-adf3c1712e65",
     "showTitle": false,
     "title": ""
    }
   },
   "source": [
    "The code is very easy to understand and the `str.format()` method automatically converts the integer to a string for us. The order in which the variables are inserted into the `{}` is by the order of how we pass them as arguments.\n",
    "\n",
    "But if we want to specify the ordering or even to repeat some of the variables, we can do the following:"
   ]
  },
  {
   "cell_type": "code",
   "execution_count": 0,
   "metadata": {
    "application/vnd.databricks.v1+cell": {
     "cellMetadata": {
      "byteLimit": 2048000,
      "rowLimit": 10000
     },
     "inputWidgets": {},
     "nuid": "f1413c13-fad0-4706-a789-31c47289c3c0",
     "showTitle": false,
     "title": ""
    }
   },
   "outputs": [],
   "source": [
    "output = \"{0}'s favorite number is {1}, {1} is {0}'s favorite number\".format(\"Kellie\", 8)\n",
    "print(output)"
   ]
  },
  {
   "cell_type": "markdown",
   "metadata": {
    "application/vnd.databricks.v1+cell": {
     "cellMetadata": {
      "byteLimit": 2048000,
      "rowLimit": 10000
     },
     "inputWidgets": {},
     "nuid": "d74f7178-9900-46e7-ab58-c674ade94d82",
     "showTitle": false,
     "title": ""
    }
   },
   "source": [
    "However, if we want to make our code even more understandable and clearer, we can give each variable name (using keyword arguments), like this:"
   ]
  },
  {
   "cell_type": "code",
   "execution_count": 0,
   "metadata": {
    "application/vnd.databricks.v1+cell": {
     "cellMetadata": {
      "byteLimit": 2048000,
      "rowLimit": 10000
     },
     "inputWidgets": {},
     "nuid": "7b9208e6-4310-42b0-b262-7498bfe22054",
     "showTitle": false,
     "title": ""
    }
   },
   "outputs": [],
   "source": [
    "template = \"{name}'s favorite number is {num}, {num} is {name}'s favorite number\"\n",
    "output = template.format(name=\"Kellie\", num=\"8\")\n",
    "print(output)"
   ]
  },
  {
   "cell_type": "markdown",
   "metadata": {
    "application/vnd.databricks.v1+cell": {
     "cellMetadata": {
      "byteLimit": 2048000,
      "rowLimit": 10000
     },
     "inputWidgets": {},
     "nuid": "e319a7ba-c789-4fe1-803d-f1f721137bee",
     "showTitle": false,
     "title": ""
    }
   },
   "source": [
    "The newer versions of Python allow for an even simpler string formatting, using [f-strings](https://docs.python.org/3/tutorial/inputoutput.html#tut-f-strings).  \n",
    "The next cell shows an example of f-strings in action:"
   ]
  },
  {
   "cell_type": "code",
   "execution_count": 0,
   "metadata": {
    "application/vnd.databricks.v1+cell": {
     "cellMetadata": {
      "byteLimit": 2048000,
      "rowLimit": 10000
     },
     "inputWidgets": {},
     "nuid": "b3c17bcd-9015-4cbf-8ec5-e7c9b139ddc4",
     "showTitle": false,
     "title": ""
    }
   },
   "outputs": [],
   "source": [
    "name = 'Renato'\n",
    "age = 40\n",
    "\n",
    "print(f'My name is {name} and i am {age} years old.')"
   ]
  },
  {
   "cell_type": "markdown",
   "metadata": {
    "application/vnd.databricks.v1+cell": {
     "cellMetadata": {
      "byteLimit": 2048000,
      "rowLimit": 10000
     },
     "inputWidgets": {},
     "nuid": "66ff920c-ad42-4de2-955a-f4f918fee4fb",
     "showTitle": false,
     "title": ""
    }
   },
   "source": [
    "In the task below, your goal will be to insert an artist's name and birth year into a formatted string. As an example, for the artist René Magritte, the format would be:"
   ]
  },
  {
   "cell_type": "markdown",
   "metadata": {
    "application/vnd.databricks.v1+cell": {
     "cellMetadata": {
      "byteLimit": 2048000,
      "rowLimit": 10000
     },
     "inputWidgets": {},
     "nuid": "fbc0e0b8-275b-4097-b285-731ae01be9cd",
     "showTitle": false,
     "title": ""
    }
   },
   "source": [
    "René Magritte's birth year is 1898."
   ]
  },
  {
   "cell_type": "markdown",
   "metadata": {
    "application/vnd.databricks.v1+cell": {
     "cellMetadata": {
      "byteLimit": 2048000,
      "rowLimit": 10000
     },
     "inputWidgets": {},
     "nuid": "a6c912f6-261f-481e-a631-ab22f7ba6806",
     "showTitle": false,
     "title": ""
    }
   },
   "source": [
    "### Task 2.2.2:\n",
    "\n",
    "We have provided an artist's name and birth year in the `artist` and `birth_year` variables.\n",
    "\n",
    "1. Create a template string to insert the `artist` and `birth_year` variables into a string, using the format provided above. You may use your choice of the three techniques you learned for specifying which variables goes where.\n",
    "2. Use `str.format()` to insert the two variables into your template string, assigning the result to a variable.\n",
    "3. Use the `print()` function to call that variable."
   ]
  },
  {
   "cell_type": "code",
   "execution_count": 0,
   "metadata": {
    "application/vnd.databricks.v1+cell": {
     "cellMetadata": {
      "byteLimit": 2048000,
      "rowLimit": 10000
     },
     "inputWidgets": {},
     "nuid": "567b42ad-c3e1-4e1a-87b0-6c46d677e500",
     "showTitle": false,
     "title": ""
    }
   },
   "outputs": [],
   "source": [
    "artist = \"Pablo Picasso\"\n",
    "birth_year = 1881\n",
    "\n",
    "# Start your code below:\n",
    "\n",
    "output = \"{}'s birth year is {}.\".format(artist, birth_year)\n",
    "print(output)"
   ]
  },
  {
   "cell_type": "markdown",
   "metadata": {
    "application/vnd.databricks.v1+cell": {
     "cellMetadata": {
      "byteLimit": 2048000,
      "rowLimit": 10000
     },
     "inputWidgets": {},
     "nuid": "db0b4516-6495-401c-b33a-bf4449131c4d",
     "showTitle": false,
     "title": ""
    }
   },
   "source": [
    "### 3. Creating an Artist Summary Function (OPTIONAL)\n",
    "\n",
    "Below we have created a dictionary containing the counts of each artist's artworks. \n",
    "Your final task will be to create a function that displays information for a specific artist.\n",
    "\n",
    "This function will take a single argument, which will be the name of an artist, and will display a formatted sentence about that artist.\n",
    "If we pass \"Marc Chagall\" into our function as an argument, the final output should be something like: \"There are 173 artworks by Marc Chagall in the data set.\".\n",
    "\n",
    "Inside the function, we'll need to:\n",
    "\n",
    "- Retrieve the number of artworks by the artist from the `artist_freq` dictionary.\n",
    "- Define a template for our output.\n",
    "- Use `str.format() `to insert the artists name and number of artworks into our template.\n",
    "- Use the `print()` function to display the output.\n",
    "\n",
    "\n",
    "### Task 2.2.3:\n",
    "1. Create a function `artist_summary()` which accepts a single argument, the name of an artist.\n",
    "2. The function should print a summary of the artist using the steps below:\n",
    "    - Retrieve the number of artworks from the `artist_freq` dictionary, and assign it to a variable.\n",
    "    - Create a template string that uses braces (`{}`) to insert the name and variables into the string, using the format from the diagram above.\n",
    "    - Use `str.format()` method to insert the artist's name and number of artworks into the string template.\n",
    "    - Use the `print()` function to display the final string.\n",
    "3. Use your function to display a summary for the Artist \"Henri Matisse\".\n",
    "\n",
    "The answer should be: `There are 129 artworks by Henri Matisse in the data set.`"
   ]
  },
  {
   "cell_type": "code",
   "execution_count": 0,
   "metadata": {
    "application/vnd.databricks.v1+cell": {
     "cellMetadata": {
      "byteLimit": 2048000,
      "rowLimit": 10000
     },
     "inputWidgets": {},
     "nuid": "e15de826-8b66-4879-8e3b-1015fdd384e6",
     "showTitle": false,
     "title": ""
    }
   },
   "outputs": [],
   "source": [
    "artist_freq = {}\n",
    "for element in moma:\n",
    "    artist = element[1]\n",
    "    if artist not in artist_freq:\n",
    "        artist_freq[artist] = 1\n",
    "    else:\n",
    "        artist_freq[artist] += 1\n",
    "\n",
    "# Start your code below: \n",
    "def artist_summary(artist):\n",
    "    number = artist_freq[artist]\n",
    "    result = \"There are {} artworks by {} in the data set.\"\n",
    "    print(result.format(number, artist))\n",
    "artist_summary(\"Henri Matisse\")"
   ]
  }
 ],
 "metadata": {
  "application/vnd.databricks.v1+notebook": {
   "dashboards": [],
   "environmentMetadata": null,
   "language": "python",
   "notebookMetadata": {
    "pythonIndentUnit": 2
   },
   "notebookName": "[Answer]2_Data_Analysis_Basics",
   "widgets": {}
  }
 },
 "nbformat": 4,
 "nbformat_minor": 0
}
