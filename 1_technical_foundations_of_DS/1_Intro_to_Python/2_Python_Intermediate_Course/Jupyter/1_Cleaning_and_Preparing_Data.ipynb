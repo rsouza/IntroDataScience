{
 "cells": [
  {
   "cell_type": "markdown",
   "metadata": {
    "application/vnd.databricks.v1+cell": {
     "cellMetadata": {},
     "inputWidgets": {},
     "nuid": "2499889d-4290-427a-8075-42de4fb9728e",
     "showTitle": false,
     "title": ""
    }
   },
   "source": [
    "# Cleaning and Preparing Data in Python\n",
    "\n",
    "A lot of what Data Scientists do is about cleaning data. In this following notebook, you will be going over some basic steps on hwo to do this.\n",
    "***"
   ]
  },
  {
   "cell_type": "markdown",
   "metadata": {
    "application/vnd.databricks.v1+cell": {
     "cellMetadata": {},
     "inputWidgets": {},
     "nuid": "6caf3771-d6d1-4404-9bb5-7b3f0c75cc85",
     "showTitle": false,
     "title": ""
    }
   },
   "source": [
    "## 1. Reading our MoMA Data Set\n",
    "\n",
    "This time we will work with data from the Museum of Modern Art (MoMA), a museum with one of the largest collections of modern art in the world in the center of New York City. Each row in this table represents a unique piece of art from the Museum of Modern Art. Let's take a look at the first five rows:\n",
    "\n",
    "\n",
    "\n",
    "| Title |  Artist |  Nationality | BeginDate|EndDate|Gender|Date|Department|\n",
    "|------------|:------:|----------:|---------------------:|-----------:|----------:|---------------------:|-----------:|\n",
    "| Dress MacLeod from Tartan Sets |Sarah Charlesworth |(American) | (1947) | (2013)|(Female)|1986|Prints & Illustrated Books|\n",
    "|Duplicate of plate from folio 11 verso (supplementary suite, plate 4) from ARDICIA|   Pablo Palazuelo |  (Spanish)|(1916) |(2007)|(Male)|1978|Prints & Illustrated Books|\n",
    "|Tailpiece (page 55) from SAGESSE | Maurice Denis| (French) | (1870)|(1943)|(Male)|1889-1911|Prints & Illustrated Books|\n",
    "|Headpiece (page 129) from LIVRET DE FOLASTRIES, À JANOT PARISIEN |Aristide Maillol| (French) |\t(1861) |(1944)|(Male)|1927-1940|Prints & Illustrated Books|\n",
    "|97 rue du Bac| Eugène Atget| (French) |(1857) |(1927)|(Male)|1903|\tPhotography|\n",
    "\n",
    "The MoMA data is in a ``CSV`` file called ``artworks.csv``. Below is a short explanation of some of the variable names that you encountered above.\n",
    "\n",
    "- `Title:` The title of the artwork.\n",
    "- `Artist:` The name of the artist who created the artwork.\n",
    "- `Nationality:` The nationality of the artist.\n",
    "- `BeginDate:` The year in which the artist was born.\n",
    "- `EndDate:` The year in which the artist died.\n",
    "- `Gender:` The gender of the artist.\n",
    "- `Date:` The date that the artwork was created.\n",
    "- `Department:` The department inside MoMA to which the artwork belongs.\n",
    "\n",
    "How do we access the csv file using Python then?\n",
    "Just like we learned in the first course, **Python has a built-in csv module that can handle the work of opening a CSV for us**."
   ]
  },
  {
   "cell_type": "code",
   "execution_count": 0,
   "metadata": {
    "application/vnd.databricks.v1+cell": {
     "cellMetadata": {},
     "inputWidgets": {},
     "nuid": "ee59af0d-fdb9-4cd1-bac2-5c3115c17872",
     "showTitle": false,
     "title": ""
    }
   },
   "outputs": [],
   "source": [
    "#First, import the reader() function from the csv module:\n",
    "from csv import reader\n",
    "\n",
    "#Second, use the Python built-in function open() to open the Artworks.csv file:\n",
    "opened_file = open('Artworks.csv')\n",
    "\n",
    "#Then use reader() to parse (or interpret) the opened_file:\n",
    "read_file = reader(opened_file)\n",
    "\n",
    "#Use the list() function to convert the read_file into a list of lists format:\n",
    "artworks = list(read_file)\n",
    "\n",
    "#Finally, remove the first row of the data, which contains the column names:\n",
    "artworks = artworks[1:]"
   ]
  },
  {
   "cell_type": "markdown",
   "metadata": {
    "application/vnd.databricks.v1+cell": {
     "cellMetadata": {},
     "inputWidgets": {},
     "nuid": "820e48ea-d476-484a-bf2f-f5c67cef8601",
     "showTitle": false,
     "title": ""
    }
   },
   "source": [
    "## 2. Replacing Substrings with the replace Method\n",
    "\n",
    "Sometimes when we're cleaning data, some parts of strings need to be replace in order to make our data look clean and consistent.\n",
    "\n",
    "The technique we will learn in this section is called <b>substring</b>. \n",
    ">For example, if we have a string \"Swimming is my favorite activity\" and we want to change \"Swimming\" to \"Running\", with the substring technique, the sentence will look like this: \"Running is my favorite activity\".\n",
    "\n",
    "In order to do this, we'll need to use the `str.replace()` function. The following steps take place:\n",
    "1.  to find all instances of the old substring, which in our example \"Swimming\".\n",
    "2.  to replace each of those instances with the new substring, \"Running\".\n",
    "\n",
    "`str.replace()` takes two arguments:\n",
    "1. old: The substring we want to find and replace.\n",
    "2. new: The substring we want to replace old with.\n",
    "\n",
    "When we use `str.replace()`, we substitute the str for the variable name of the string we want to modify. Let's look at an example in code:"
   ]
  },
  {
   "cell_type": "code",
   "execution_count": 0,
   "metadata": {
    "application/vnd.databricks.v1+cell": {
     "cellMetadata": {},
     "inputWidgets": {},
     "nuid": "a33126bd-aea9-47aa-9d39-fb782f9f34f1",
     "showTitle": false,
     "title": ""
    }
   },
   "outputs": [],
   "source": [
    "fav_activity = \"Swimming is my favorite activity.\"\n",
    "print(fav_activity) \n",
    "fav_activity = fav_activity.replace(\"Swimming\", \"Running\")\n",
    "print(fav_activity)"
   ]
  },
  {
   "cell_type": "markdown",
   "metadata": {
    "application/vnd.databricks.v1+cell": {
     "cellMetadata": {},
     "inputWidgets": {},
     "nuid": "6a5df957-f790-44d6-8f70-1d36a7c0e173",
     "showTitle": false,
     "title": ""
    }
   },
   "source": [
    "In the code above, we:\n",
    "\n",
    "- Created the original string and assigned it to the variable name ``fav_activity``.\n",
    "- Replaced the substring \"Swimming\" with the substring \"Running\" by calling `fav_activity.replace()`.\n",
    "- Assigned the result back to the original variable name using the `=` sign.\n",
    "\n",
    "There is something to pay attention to is that when we use `str.replace()`, this function will replace all instances of the substring it finds. See the following example:"
   ]
  },
  {
   "cell_type": "code",
   "execution_count": 0,
   "metadata": {
    "application/vnd.databricks.v1+cell": {
     "cellMetadata": {},
     "inputWidgets": {},
     "nuid": "585d83b4-1b1e-4e84-b90c-5d7ccf40da8a",
     "showTitle": false,
     "title": ""
    }
   },
   "outputs": [],
   "source": [
    "fav_activity = fav_activity.replace(\"i\", \"I\")\n",
    "print(fav_activity)"
   ]
  },
  {
   "cell_type": "markdown",
   "metadata": {
    "application/vnd.databricks.v1+cell": {
     "cellMetadata": {},
     "inputWidgets": {},
     "nuid": "802b3e30-6e45-40c9-83a8-d88180586707",
     "showTitle": false,
     "title": ""
    }
   },
   "source": [
    "You see that in the code above, all \"i\"s in the fav_activity are replaced with \"I\". This is something to keep in mind when we use `str.replace()`."
   ]
  },
  {
   "cell_type": "markdown",
   "metadata": {
    "application/vnd.databricks.v1+cell": {
     "cellMetadata": {},
     "inputWidgets": {},
     "nuid": "21ec9c26-0359-4ea5-95c5-37bd6fd5ec6a",
     "showTitle": false,
     "title": ""
    }
   },
   "source": [
    "### Task 2.1.2:\n",
    "\n",
    "In the text editor below, we have created a string variable `string1` containing the string `\"I am awesome\"`.\n",
    "Now use the `str.replace()` method to create a new string, `string2`:\n",
    "- The new string should have the value `\"I am amazing\"`."
   ]
  },
  {
   "cell_type": "code",
   "execution_count": 0,
   "metadata": {
    "application/vnd.databricks.v1+cell": {
     "cellMetadata": {},
     "inputWidgets": {},
     "nuid": "34844611-47c6-4cb8-a302-0483230c6cdc",
     "showTitle": false,
     "title": ""
    }
   },
   "outputs": [],
   "source": [
    "string1 = \"I am awesome.\"\n",
    "\n",
    "# Start your code below:\n"
   ]
  },
  {
   "cell_type": "markdown",
   "metadata": {
    "application/vnd.databricks.v1+cell": {
     "cellMetadata": {},
     "inputWidgets": {},
     "nuid": "22994b74-0012-487a-98db-14396cc7376a",
     "showTitle": false,
     "title": ""
    }
   },
   "source": [
    "## 3. Cleaning the Nationality and Gender Columns\n",
    "\n",
    "Now let's see how we can use the `str.replace()` method on a bigger data set. I have a shortened version of our data set below:\n",
    "\n",
    "| Title |  Artist |  Nationality |Gender|\n",
    "|------------|:------:|----------:|---------------------:\n",
    "| Dress MacLeod from Tartan Sets |Sarah Charlesworth |(American) | (1947) | (2013)|(Female)|\n",
    "|Duplicate of plate from folio 11 verso (supplementary suite, plate 4) from ARDICIA|   Pablo Palazuelo |  (Spanish)|(Male)|\n",
    "|Tailpiece (page 55) from SAGESSE | Maurice Denis| (French) |(Male)|\n",
    "|Headpiece (page 129) from LIVRET DE FOLASTRIES, À JANOT PARISIEN |Aristide Maillol| (French) |(Male)|\n",
    "|97 rue du Bac| Eugène Atget| (French) |(Male)|\n",
    "\n",
    "Do you see that the Nationality and Gender columns have parentheses (()) at the start and the end of the values? In this session, we want to learn how to remove those values.\n",
    "\n",
    "In the session, we learned how to use `str.replace()` to replace one substring with another. What we want, however, is to remove a substring, not replace it. **In order to remove a substring, all we need to do is to replace the substring with an empty string: `\"\"`**.\n",
    "\n",
    "We need to perform this action many times in order to replace all unwanted characters in our whole moma data set. We can do this with a for loop. Let's see an example using a small sample of our data:"
   ]
  },
  {
   "cell_type": "code",
   "execution_count": 0,
   "metadata": {
    "application/vnd.databricks.v1+cell": {
     "cellMetadata": {},
     "inputWidgets": {},
     "nuid": "1f36f45b-72e7-471d-bdf2-cc41060f11d9",
     "showTitle": false,
     "title": ""
    }
   },
   "outputs": [],
   "source": [
    "nationalities = ['(American)', '(Spanish)', '(French)']\n",
    "\n",
    "for n in nationalities:\n",
    "    clean_open = n.replace(\"(\",\"\")\n",
    "    print(clean_open)"
   ]
  },
  {
   "cell_type": "markdown",
   "metadata": {
    "application/vnd.databricks.v1+cell": {
     "cellMetadata": {},
     "inputWidgets": {},
     "nuid": "6149e838-9ce4-4418-bea1-a2b7aaeaf496",
     "showTitle": false,
     "title": ""
    }
   },
   "source": [
    "We removed the `(` character from the start of each string. In order to remove both, we'll have to perform the `str.replace()` twice:"
   ]
  },
  {
   "cell_type": "code",
   "execution_count": 0,
   "metadata": {
    "application/vnd.databricks.v1+cell": {
     "cellMetadata": {},
     "inputWidgets": {},
     "nuid": "b603c812-5df5-4ca0-8135-11bf12c57762",
     "showTitle": false,
     "title": ""
    }
   },
   "outputs": [],
   "source": [
    "nationalities = ['(American)', '(Spanish)', '(French)']\n",
    "\n",
    "for n in nationalities:\n",
    "    clean_open = n.replace(\"(\",\"\")\n",
    "    clean_both = clean_open.replace(\")\",\"\")\n",
    "    print(clean_both)"
   ]
  },
  {
   "cell_type": "markdown",
   "metadata": {
    "application/vnd.databricks.v1+cell": {
     "cellMetadata": {},
     "inputWidgets": {},
     "nuid": "8db9d0ff-b1e1-40c7-a015-54eaec74ffca",
     "showTitle": false,
     "title": ""
    }
   },
   "source": [
    "How can we adopt this code to work on the whole data set? We'll start by printing the value from the Nationalities column (with a column index `4`) for three rows in our moma data set. We'll use the same rows after our loop so we can see how the values changed:"
   ]
  },
  {
   "cell_type": "code",
   "execution_count": 0,
   "metadata": {
    "application/vnd.databricks.v1+cell": {
     "cellMetadata": {},
     "inputWidgets": {},
     "nuid": "e4b17db1-7599-427f-88ea-74266bea260c",
     "showTitle": false,
     "title": ""
    }
   },
   "outputs": [],
   "source": [
    "# Read in csv file\n",
    "from csv import reader\n",
    "opened_file = open('Artworks.csv',encoding=\"utf-8\")\n",
    "read_file = reader(opened_file)\n",
    "moma = list(read_file)\n",
    "moma = moma[1:]\n",
    "\n",
    "print(moma[200][4])\n",
    "print(moma[400][4])\n",
    "print(moma[800][4])"
   ]
  },
  {
   "cell_type": "markdown",
   "metadata": {
    "application/vnd.databricks.v1+cell": {
     "cellMetadata": {},
     "inputWidgets": {},
     "nuid": "9fa8d3d3-646b-41b0-9fa2-33cdf604ba91",
     "showTitle": false,
     "title": ""
    }
   },
   "source": [
    "Next, we'll loop over each row in the moma data set. In each row, we'll:\n",
    "\n",
    "- Assign the Nationality value from index `4` to a variable name.\n",
    "- Use `nationality.replace()` to remove all instances of the open parentheses.\n",
    "- Use `nationality.replace()` to remove all instances of the close parentheses.\n",
    "- Assign the cleaned nationality back to row index `4`."
   ]
  },
  {
   "cell_type": "code",
   "execution_count": 0,
   "metadata": {
    "application/vnd.databricks.v1+cell": {
     "cellMetadata": {},
     "inputWidgets": {},
     "nuid": "587bb68f-e8a3-48ff-ae58-c6386120ea82",
     "showTitle": false,
     "title": ""
    }
   },
   "outputs": [],
   "source": [
    "for row in moma:\n",
    "    nationality = row[4]\n",
    "    nationality = nationality.replace(\"(\",\"\")\n",
    "    nationality = nationality.replace(\")\",\"\")\n",
    "    row[4] = nationality"
   ]
  },
  {
   "cell_type": "code",
   "execution_count": 0,
   "metadata": {
    "application/vnd.databricks.v1+cell": {
     "cellMetadata": {},
     "inputWidgets": {},
     "nuid": "2fe87b41-1e28-4f06-b91a-b5a5a5349f36",
     "showTitle": false,
     "title": ""
    }
   },
   "outputs": [],
   "source": [
    "# Let's look at the values of the same three rows after our code:\n",
    "\n",
    "print(moma[200][4])\n",
    "print(moma[400][4])\n",
    "print(moma[800][4])"
   ]
  },
  {
   "cell_type": "markdown",
   "metadata": {
    "application/vnd.databricks.v1+cell": {
     "cellMetadata": {},
     "inputWidgets": {},
     "nuid": "b030a2ed-8f34-497e-ae99-557631c7133e",
     "showTitle": false,
     "title": ""
    }
   },
   "source": [
    "### Task 2.1.3:\n",
    "Now it's your turn — you'll be removing the parentheses from both the `Nationality` and `Gender` columns.\n",
    "Gender information you can find at index `7` of the row."
   ]
  },
  {
   "cell_type": "code",
   "execution_count": 0,
   "metadata": {
    "application/vnd.databricks.v1+cell": {
     "cellMetadata": {},
     "inputWidgets": {},
     "nuid": "f2284ddc-977f-4167-a660-e3ce2f52825b",
     "showTitle": false,
     "title": ""
    }
   },
   "outputs": [],
   "source": [
    "# Variables you create in previous screens\n",
    "# are available to you, so you don't need\n",
    "# to read the CSV again.\n",
    "\n",
    "# Start your code here:\n"
   ]
  },
  {
   "cell_type": "markdown",
   "metadata": {
    "application/vnd.databricks.v1+cell": {
     "cellMetadata": {},
     "inputWidgets": {},
     "nuid": "dbee653d-3c1e-48c0-b217-09bb0d58e457",
     "showTitle": false,
     "title": ""
    }
   },
   "source": [
    "## 4. String Capitalization\n",
    "\n",
    "The Gender column in our data set contains four unique values:\n",
    "\n",
    "- (an empty string)\n",
    "- \"Male\"\n",
    "- \"Female\"\n",
    "- \"male\""
   ]
  },
  {
   "cell_type": "markdown",
   "metadata": {
    "application/vnd.databricks.v1+cell": {
     "cellMetadata": {},
     "inputWidgets": {},
     "nuid": "fe5e4f7e-aa13-4c65-859a-8d40033fce6e",
     "showTitle": false,
     "title": ""
    }
   },
   "source": [
    "In our data set, there are two different capitalizations used in our data set for \"male.\" This could be caused by manual data entry. Different people could use different capitalizations when they enter words.\n",
    "\n",
    "There are a few ways we could handle this using what we know so far:\n",
    "\n",
    "1. We could use ``str.replace()`` to replace m with ``M``, but then we'd end up with instances of FeMale.\n",
    "2. We could use ``str.replace()`` to replace male with ``Male``. This would also give us instances of FeMale.\n",
    "\n",
    "However, here comes the problem: even if the word \"male\" wasn't contained in the word \"female,\" both of these techniques wouldn't be good options if we had a column with many different values, like our Nationality column. Instead, what we should use is the <b>str.title()</b> method.\n",
    "> ``str.title()``: a Python string method designed specifically for handling capitalization. The method returns a copy of the string with the first letter of each word transformed to uppercase (also known as <b>title case</b>).\n",
    "\n",
    "Let's take a look at an example:"
   ]
  },
  {
   "cell_type": "code",
   "execution_count": 0,
   "metadata": {
    "application/vnd.databricks.v1+cell": {
     "cellMetadata": {},
     "inputWidgets": {},
     "nuid": "1f7ba933-439f-4f25-a02d-c1eafb7ec71a",
     "showTitle": false,
     "title": ""
    }
   },
   "outputs": [],
   "source": [
    "my_string = \"The cool thing about this string is that it has a CoMbInAtIoN of UPPERCASE and lowercase letters!\"\n",
    "\n",
    "my_string_title = my_string.title()\n",
    "print(my_string_title)"
   ]
  },
  {
   "cell_type": "markdown",
   "metadata": {
    "application/vnd.databricks.v1+cell": {
     "cellMetadata": {},
     "inputWidgets": {},
     "nuid": "d81c11b4-9995-4380-bb4e-df4973dafa48",
     "showTitle": false,
     "title": ""
    }
   },
   "source": [
    "Using title case will give us consistent capitalization for all values in the Gender column.\n",
    "\n",
    "We have a number of rows containing an empty string (`\"\"`) for the Gender column. This could be a result of:\n",
    "\n",
    "- The person entering the data has no information about the gender of the artist.\n",
    "- The artist is unknown and so is the gender.\n",
    "- The artist's gender is non-binary.\n",
    "\n",
    "Now let's try to use this technique to make the capitalization of both the Nationality and Gender columns uniform. The Nationality column has 84 unique values, so to help you, we'll provide you with the values that aren't already in title case:\n",
    "\n",
    "- `''`\n",
    "- `'Nationality unknown'`\n",
    "\n",
    "### Task 2.1.4:\n",
    "\n",
    "Use a loop to iterate over all rows in the moma list of lists. For each row:\n",
    "\n",
    "1. Clean the Gender column.\n",
    "    - Assign the value from the Gender column, at index ``7``, to a variable.\n",
    "    - Make the changes to the value of that variable.\n",
    "        - Use the `str.title()` method to make the capitalization uniform.\n",
    "        - Use an if statement to check if the value is an empty string. If the value is an empty string, give it the value `\"Gender Unknown/Other\"`.\n",
    "    - Assign the modified variable back to list index `7` of the row.\n",
    "2. Clean the Nationality column of the data set (found at index `4`) by repeating the same technique you used for the Gender column.\n",
    "    - For missing values in the `Nationality` column, use the string `\"Nationality Unknown\"`."
   ]
  },
  {
   "cell_type": "code",
   "execution_count": 0,
   "metadata": {
    "application/vnd.databricks.v1+cell": {
     "cellMetadata": {},
     "inputWidgets": {},
     "nuid": "c786c333-de91-468f-8761-10139013a65e",
     "showTitle": false,
     "title": ""
    }
   },
   "outputs": [],
   "source": [
    "# Start your code below:\n"
   ]
  },
  {
   "cell_type": "markdown",
   "metadata": {
    "application/vnd.databricks.v1+cell": {
     "cellMetadata": {},
     "inputWidgets": {},
     "nuid": "cb1c8f05-6390-4b16-8f14-e76e5a16c309",
     "showTitle": false,
     "title": ""
    }
   },
   "source": [
    "## 5. Errors During Data Cleaning\n",
    "\n",
    "We have analyzed the artist nationalities. Now let's have a look at the <b>BeginDate</b> and <b>EndDate</b> columns\n",
    "\n",
    "These two columns contain the birth and death dates of the artist who created the work. Let's take a look at the column:"
   ]
  },
  {
   "cell_type": "code",
   "execution_count": 0,
   "metadata": {
    "application/vnd.databricks.v1+cell": {
     "cellMetadata": {},
     "inputWidgets": {},
     "nuid": "273d6f5f-84ae-42f7-b789-87ecd5d30e1c",
     "showTitle": false,
     "title": ""
    }
   },
   "outputs": [],
   "source": [
    "for row in moma[:5]:\n",
    "    birth_date = row[5]\n",
    "    death_date = row[6]\n",
    "    print([birth_date, death_date])"
   ]
  },
  {
   "cell_type": "markdown",
   "metadata": {
    "application/vnd.databricks.v1+cell": {
     "cellMetadata": {},
     "inputWidgets": {},
     "nuid": "065b65fc-9a5b-4f15-90b9-b961cb77270d",
     "showTitle": false,
     "title": ""
    }
   },
   "source": [
    "These values are wrapped in parentheses as four-digit strings. How can we clean these columns? We need to:\n",
    "- Remove the parentheses from the start and the end of each value.\n",
    "- Convert the values from the string type to an integer type. This will help us perform calculations with them later.\n",
    "\n",
    "In the previous two screens, we had to repeat code twice — first when we cleaned the Gender column, and then when we cleaned the Nationality column. If we don't want to keep repeating code, we can create a function that performs these operations, then use that function to clean each column."
   ]
  },
  {
   "cell_type": "code",
   "execution_count": 0,
   "metadata": {
    "application/vnd.databricks.v1+cell": {
     "cellMetadata": {},
     "inputWidgets": {},
     "nuid": "577e347f-1de7-4880-8c6d-537b1c933263",
     "showTitle": false,
     "title": ""
    }
   },
   "outputs": [],
   "source": [
    "def clean_and_convert(date): #Takes a single argument\n",
    "    date = date.replace(\"(\", \"\") #Uses str.replace() to remove the \"(\" character\n",
    "\n",
    "    date = date.replace(\")\", \"\") #Uses str.replace() to remove the \")\" character\n",
    "    date = int(date) #Convert the string to an integer\n",
    "    return date"
   ]
  },
  {
   "cell_type": "markdown",
   "metadata": {
    "application/vnd.databricks.v1+cell": {
     "cellMetadata": {},
     "inputWidgets": {},
     "nuid": "3ba31408-e761-4bad-a2a1-cfb87f9bd88b",
     "showTitle": false,
     "title": ""
    }
   },
   "source": [
    "If we have a ``BeginDate`` value of '(1958)':"
   ]
  },
  {
   "cell_type": "code",
   "execution_count": 0,
   "metadata": {
    "application/vnd.databricks.v1+cell": {
     "cellMetadata": {},
     "inputWidgets": {},
     "nuid": "596c659c-a551-4732-92a8-6da7e0382651",
     "showTitle": false,
     "title": ""
    }
   },
   "outputs": [],
   "source": [
    "birth_date = '(1958)'\n",
    "cleaned_date = clean_and_convert(birth_date)\n",
    "print(cleaned_date)\n",
    "print(type(cleaned_date))"
   ]
  },
  {
   "cell_type": "markdown",
   "metadata": {
    "application/vnd.databricks.v1+cell": {
     "cellMetadata": {},
     "inputWidgets": {},
     "nuid": "85ab937c-e9a6-4677-9197-141a713e26d0",
     "showTitle": false,
     "title": ""
    }
   },
   "source": [
    "Our function successfully removes the parentheses and converts the value to an integer type. Unfortunately, our function won't work for every value in our data set. If we have two values at the same time:"
   ]
  },
  {
   "cell_type": "code",
   "execution_count": 0,
   "metadata": {
    "application/vnd.databricks.v1+cell": {
     "cellMetadata": {},
     "inputWidgets": {},
     "nuid": "7d2d31ac-e2a8-4233-8e3e-6d1788283801",
     "showTitle": false,
     "title": ""
    }
   },
   "outputs": [],
   "source": [
    "row_43 = moma[42] # row 43\n",
    "print(row_43)"
   ]
  },
  {
   "cell_type": "code",
   "execution_count": 0,
   "metadata": {
    "application/vnd.databricks.v1+cell": {
     "cellMetadata": {},
     "inputWidgets": {},
     "nuid": "207e2db8-d7c8-4789-8e1a-eb1517ad0622",
     "showTitle": false,
     "title": ""
    }
   },
   "outputs": [],
   "source": [
    "#This will throw an error\n",
    "\n",
    "birth_date = '(1936) (0) (1936) (1931) (1931) (1944)'\n",
    "cleaned_date = clean_and_convert(birth_date)"
   ]
  },
  {
   "cell_type": "markdown",
   "metadata": {
    "application/vnd.databricks.v1+cell": {
     "cellMetadata": {},
     "inputWidgets": {},
     "nuid": "c3deb16a-696f-4e9c-bc6e-8d9634798a67",
     "showTitle": false,
     "title": ""
    }
   },
   "source": [
    "Our code has not completed successfully, instead returning a `ValueError`. As we learned in the previous course, the name for the error message is called a traceback. The final line of the traceback tells us the underlying error:"
   ]
  },
  {
   "cell_type": "markdown",
   "metadata": {
    "application/vnd.databricks.v1+cell": {
     "cellMetadata": {},
     "inputWidgets": {},
     "nuid": "306d6fa4-cc5e-40f3-b90e-60b448595b0d",
     "showTitle": false,
     "title": ""
    }
   },
   "source": [
    "ValueError: invalid literal for int() with base 10: '1936 0 1936 1931 1931 1944'"
   ]
  },
  {
   "cell_type": "markdown",
   "metadata": {
    "application/vnd.databricks.v1+cell": {
     "cellMetadata": {},
     "inputWidgets": {},
     "nuid": "3ab861f5-4e75-4e54-9fc4-827cb67cddc4",
     "showTitle": false,
     "title": ""
    }
   },
   "source": [
    "One way to handle these scenarios is to use an if statement to make sure we aren't encountering an empty string before we convert our value."
   ]
  },
  {
   "cell_type": "markdown",
   "metadata": {
    "application/vnd.databricks.v1+cell": {
     "cellMetadata": {},
     "inputWidgets": {},
     "nuid": "90c44f2e-f03f-4827-8c31-54f53e4c2672",
     "showTitle": false,
     "title": ""
    }
   },
   "source": [
    "## 6. Parsing Numbers from Complex Strings, Part One\n",
    "\n",
    "We have successfully converted the ``BeginDate`` and ``EndDate`` columns into numeric values. If we were to combine the data from the BeginDate column (the artist's year of birth) with the data in the Date column (the year of creation) we can therefore calculate the age at which the artist produced this piece of artwork.\n",
    "\n",
    "That means we need to clean the data in the `Date` column in order to perform such calculation as mentioned above.\n",
    "\n",
    "Let's examine a sample of the types of values contained in this column:"
   ]
  },
  {
   "cell_type": "markdown",
   "metadata": {
    "application/vnd.databricks.v1+cell": {
     "cellMetadata": {},
     "inputWidgets": {},
     "nuid": "44d789a6-999a-4390-9830-30e81a8052e0",
     "showTitle": false,
     "title": ""
    }
   },
   "source": [
    "````python\n",
    "1912\n",
    "1929\n",
    "1913-1923\n",
    "(1951)\n",
    "1994\n",
    "1934\n",
    "c. 1915\n",
    "1995\n",
    "c. 1912\n",
    "(1988)\n",
    "2002\n",
    "1957-1959\n",
    "c. 1955.\n",
    "c. 1970's\n",
    "C. 1990-1999\n",
    "````"
   ]
  },
  {
   "cell_type": "markdown",
   "metadata": {
    "application/vnd.databricks.v1+cell": {
     "cellMetadata": {},
     "inputWidgets": {},
     "nuid": "f360236d-b3d7-43dc-b4f9-7d03d3a40463",
     "showTitle": false,
     "title": ""
    }
   },
   "source": [
    "This column contains data in many different formats:\n",
    "\n",
    "- Some years are in parentheses.\n",
    "- Some years have c. or C. before them, indicating that the year is approximate.\n",
    "- Some have year ranges, indicated with a dash.\n",
    "- Some have 's to indicate a decade.\n",
    "\n",
    "In this session,we want to to remove all the extra characters and be left with either a range or a single year. We will then finish processing the data in the sessions that follow. For the two special cases listed above:\n",
    "\n",
    "- Where there is an 's that signifies a decade, we'll use the year without the 's.\n",
    "- Where c. or similar indicates an approximate year, we'll remove the c. but keep the year."
   ]
  },
  {
   "cell_type": "markdown",
   "metadata": {
    "application/vnd.databricks.v1+cell": {
     "cellMetadata": {},
     "inputWidgets": {},
     "nuid": "dd3524e7-dfe0-4c3f-aa53-daf8fa0db0f2",
     "showTitle": false,
     "title": ""
    }
   },
   "source": [
    "### Task 2.1.6 (OPTIONAL):\n",
    "1. Create a function called `strip_characters()`, which accepts a string argument and:\n",
    "    - Iterates over the `bad_chars` list, using `str.replace()` to remove each character.\n",
    "    - Returns the cleaned string.\n",
    "2. Create an empty list, `stripped_test_data`.\n",
    "3. Iterate over the strings in `test_data`, and on each iteration:\n",
    "    - Use the function you created earlier to clean the string.\n",
    "    - Append the cleaned string to the `stripped_test_data` list."
   ]
  },
  {
   "cell_type": "code",
   "execution_count": 0,
   "metadata": {
    "application/vnd.databricks.v1+cell": {
     "cellMetadata": {},
     "inputWidgets": {},
     "nuid": "a7ec2fa7-1227-4938-8977-27fe34b463d8",
     "showTitle": false,
     "title": ""
    }
   },
   "outputs": [],
   "source": [
    "test_data = [\"1912\", \"1929\", \"1913-1923\",\n",
    "             \"(1951)\", \"1994\", \"1934\",\n",
    "             \"c. 1915\", \"1995\", \"c. 1912\",\n",
    "             \"(1988)\", \"2002\", \"1957-1959\",\n",
    "             \"c. 1955.\", \"c. 1970's\", \n",
    "             \"C. 1990-1999\"]\n",
    "\n",
    "\n",
    "bad_chars = [\"(\",\")\",\"c\",\"C\",\".\",\"s\",\"'\", \" \"]\n",
    "\n",
    "# Start your code here:\n"
   ]
  },
  {
   "cell_type": "markdown",
   "metadata": {
    "application/vnd.databricks.v1+cell": {
     "cellMetadata": {},
     "inputWidgets": {},
     "nuid": "12daef12-512c-4c35-852f-e3fa64976e5b",
     "showTitle": false,
     "title": ""
    }
   },
   "source": [
    "## 7. Parsing Numbers from Complex Strings, Part Two"
   ]
  },
  {
   "cell_type": "markdown",
   "metadata": {
    "application/vnd.databricks.v1+cell": {
     "cellMetadata": {},
     "inputWidgets": {},
     "nuid": "7488acb5-a044-4086-9cd9-0f2042feb7b2",
     "showTitle": false,
     "title": ""
    }
   },
   "source": [
    "Now let's take a look at the result from your previous task:"
   ]
  },
  {
   "cell_type": "markdown",
   "metadata": {
    "application/vnd.databricks.v1+cell": {
     "cellMetadata": {},
     "inputWidgets": {},
     "nuid": "96454510-27f5-4b01-b28d-ccf5b3f4b07c",
     "showTitle": false,
     "title": ""
    }
   },
   "source": [
    "1912\n",
    "1929\n",
    "1913-1923\n",
    "1951\n",
    "1994\n",
    "1934\n",
    "1915\n",
    "1995\n",
    "1912\n",
    "1988\n",
    "2002\n",
    "1957-1959\n",
    "1955\n",
    "1970\n",
    "1990-1999"
   ]
  },
  {
   "cell_type": "markdown",
   "metadata": {
    "application/vnd.databricks.v1+cell": {
     "cellMetadata": {},
     "inputWidgets": {},
     "nuid": "9cb270ae-7a89-43d1-a14a-69523902f6f6",
     "showTitle": false,
     "title": ""
    }
   },
   "source": [
    "There are two different scenarios that we need to pay attention to when we are converting them into integers:\n",
    "- we have values in a single year, like 1912\n",
    "- we also have values in ranges of years, like 1913-1923"
   ]
  },
  {
   "cell_type": "markdown",
   "metadata": {
    "application/vnd.databricks.v1+cell": {
     "cellMetadata": {},
     "inputWidgets": {},
     "nuid": "b6bc0b9e-b6a2-4608-be53-f3998f003393",
     "showTitle": false,
     "title": ""
    }
   },
   "source": [
    "As a data scientist, you need to make decisions on how you will structure your code. One option could be to discard all approximate years so we know that our calculations are exact. For example, when we're calculating an artist's age, an approximate age is also acceptable (the difference between 30 and 33 years old is more nuanced than we need).\n",
    "\n",
    "Whichever way you decide to proceed isn't as important as thinking about your analysis and having a valid reason for this particular decision.\n",
    "\n",
    "So this is what we will do:\n",
    "- when we have values in a single year, like 1912, we'll keep it as it is.\n",
    "- when we also have values in ranges of years, like 1913-1923, we'll average the two years.\n",
    "\n",
    "How do we proceed with our above decision? We can do the following:\n",
    "1. Have an if statement to check if there is a dash character ``-`` in the string, so we know if it's a range or not.\n",
    "2. If the date is a range:\n",
    "    - Split the string into two strings, take the first part (before the dash), and the second part (after the dash)\n",
    "    - Convert the two numbers into integer type\n",
    "    - Take the average of those two numbers\n",
    "    - Use the round() function to round the average\n",
    "3.  If the date isn't a range:\n",
    "    - Convert the value to an integer type.\n",
    "    \n",
    "To check whether a substring exists in a string (to check if the year is a range or not), we need to use the `in` operator. See in the example below:"
   ]
  },
  {
   "cell_type": "code",
   "execution_count": 0,
   "metadata": {
    "application/vnd.databricks.v1+cell": {
     "cellMetadata": {},
     "inputWidgets": {},
     "nuid": "2878ce9a-c49c-4bfe-a0cd-56f1146e0252",
     "showTitle": false,
     "title": ""
    }
   },
   "outputs": [],
   "source": [
    "if \"male\" in \"female\":\n",
    "    print(\"The substring was found.\")\n",
    "else:\n",
    "    print(\"The substring was not found.\")"
   ]
  },
  {
   "cell_type": "code",
   "execution_count": 0,
   "metadata": {
    "application/vnd.databricks.v1+cell": {
     "cellMetadata": {},
     "inputWidgets": {},
     "nuid": "ea876e58-e045-4c5f-956c-40e8294b7083",
     "showTitle": false,
     "title": ""
    }
   },
   "outputs": [],
   "source": [
    "if \"love\" in \"loving\":\n",
    "    print(\"The substring was found.\")\n",
    "else:\n",
    "    print(\"The substring was not found.\")"
   ]
  },
  {
   "cell_type": "markdown",
   "metadata": {
    "application/vnd.databricks.v1+cell": {
     "cellMetadata": {},
     "inputWidgets": {},
     "nuid": "a0623b19-f650-4ea7-b9ed-bb9987cf86d4",
     "showTitle": false,
     "title": ""
    }
   },
   "source": [
    "Second step, to split a string into two parts we need to use the `str.split()` method. This method can help us to split a string into a list of strings. See a quick example below:"
   ]
  },
  {
   "cell_type": "code",
   "execution_count": 0,
   "metadata": {
    "application/vnd.databricks.v1+cell": {
     "cellMetadata": {},
     "inputWidgets": {},
     "nuid": "ef91f5a6-1a2c-4de4-ac60-7951e20c7022",
     "showTitle": false,
     "title": ""
    }
   },
   "outputs": [],
   "source": [
    "year_in_range = \"1995-1998\"\n",
    "print(year_in_range.split(\"-\"))"
   ]
  },
  {
   "cell_type": "markdown",
   "metadata": {
    "application/vnd.databricks.v1+cell": {
     "cellMetadata": {},
     "inputWidgets": {},
     "nuid": "dbbc5d9f-b785-40ae-9219-b5c06ecf9dd4",
     "showTitle": false,
     "title": ""
    }
   },
   "source": [
    "### Task 2.1.7(HARD):\n",
    "\n",
    "The `stripped_test_data` list, `strip_characters()` function and `bad_chars` list are provided for you in the editor below.\n",
    "\n",
    "1. Create a function called `process_date()` which accepts a string, and follows the logic we outlined above:\n",
    "    - Checks if the dash character ``-`` is in the string so we know if it's a range or not.\n",
    "    - If it is a range:\n",
    "        * Splits the string into two strings, before and after the dash character.\n",
    "        * Converts the two numbers to the integer type and then averages them by adding them together and dividing by two.\n",
    "        * Uses the `round()` function to round the average, so values like 1964.5 become 1964.\n",
    "    - If it isn't a range:\n",
    "        - Converts the value to an `integer` type.\n",
    "    - Finally, returns the value.\n",
    "2. Create an empty list `processed_test_data`.\n",
    "3. Loop over the `test_data` list using the `strip_characters()` function and your `process_date()` function. Process the dates and append each processed date back to the `processed_test_data` list.\n",
    "\n",
    "\n",
    "4. (OPTIONAL) Once your code works with the test data, you can then iterate over the moma list of lists. This list contains several date formats that we have not discussed so far. Try to deal with them, and any error you might get, in a way that seems sensible to you. In each iteration:\n",
    "    - Create an empty list called `moma_dates`.\n",
    "    - Loop over the rows of the `moma` list of lists.\n",
    "    - Assign the value from the Date column (index `8`) to a variable.\n",
    "    - Use the `strip_characters()` function to remove any bad characters.\n",
    "    - Use the `process_date()` to convert the date.\n",
    "    - Perform any other processing that you see fit to get a clean, single date.\n",
    "    - Append the processed value to `moma_dates`.\n",
    "\n",
    " "
   ]
  },
  {
   "cell_type": "code",
   "execution_count": 0,
   "metadata": {
    "application/vnd.databricks.v1+cell": {
     "cellMetadata": {},
     "inputWidgets": {},
     "nuid": "1dd7bf6a-dd5e-4e7b-8ca4-7e6008614277",
     "showTitle": false,
     "title": ""
    }
   },
   "outputs": [],
   "source": [
    "from csv import reader\n",
    "opened_file = open('Artworks.csv', encoding='utf8')\n",
    "read_file = reader(opened_file)\n",
    "moma = list(read_file)\n",
    "\n",
    "test_data = [\"1912\", \"1929\", \"1913-1923\",\n",
    "             \"(1951)\", \"1994\", \"1934\",\n",
    "             \"c. 1915\", \"1995\", \"c. 1912\",\n",
    "             \"(1988)\", \"2002\", \"1957-1959\",\n",
    "             \"c. 1955.\", \"c. 1970's\", \n",
    "             \"C. 1990-1999\"]\n",
    "\n",
    "def strip_characters(string):\n",
    "    for char in string:\n",
    "        if char not in '01234567890-':\n",
    "            string = string.replace(char,\"\")\n",
    "    return string\n",
    "\n",
    "\n",
    "\n",
    "# Start your code here:\n"
   ]
  }
 ],
 "metadata": {
  "application/vnd.databricks.v1+notebook": {
   "dashboards": [],
   "language": "python",
   "notebookMetadata": {},
   "notebookName": "1_Cleaning_and_Preparing_Data",
   "widgets": {}
  }
 },
 "nbformat": 4,
 "nbformat_minor": 0
}
