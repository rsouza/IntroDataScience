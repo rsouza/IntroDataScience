{
 "cells": [
  {
   "cell_type": "markdown",
   "metadata": {
    "application/vnd.databricks.v1+cell": {
     "cellMetadata": {
      "byteLimit": 2048000,
      "rowLimit": 10000
     },
     "inputWidgets": {},
     "nuid": "b7abdc54-f29a-44e4-87fd-f1017ecfade8",
     "showTitle": false,
     "title": ""
    }
   },
   "source": [
    "# Data Analysis Basics\n",
    "\n",
    "In this notebook, we'll build on the data cleaning we did with the Museum of Modern Art (MoMA) data set in the previous mission, and get into the fun part: analyzing the data! Analyzing the data is extremely important and the techniques that you will learn will be extremely valuable to help you become a data scientist. You can use the techniques to analyze data, to explore data, and to understand data better.\n",
    "\n",
    "There is a cleaned data set called <b>artworks_clean.csv</b> stored in the instance for you. You don't have to re-clean the data again, but we have to convert these values to numeric types so we can do further analysis on them.\n",
    "***\n",
    "### Task 2.2.0:\n",
    "Use a `for` loop to iterate over each row in the moma list of lists. Inside the body of the loop:\n",
    "\n",
    "1. Assign the value from index 6 (Date) to a variable called `date`.\n",
    "2. Use an ``if`` statement to check if date is not equal to \"\".\n",
    "3. If date isn't equal to \"\", convert it to an integer type using the `int()` function.\n",
    "4. Finally, assign the value back to index ``6`` in the row."
   ]
  },
  {
   "cell_type": "code",
   "execution_count": 0,
   "metadata": {
    "application/vnd.databricks.v1+cell": {
     "cellMetadata": {
      "byteLimit": 2048000,
      "rowLimit": 10000
     },
     "inputWidgets": {},
     "nuid": "e9487fdc-423d-47d3-b246-7cd5bdad8c4f",
     "showTitle": false,
     "title": ""
    }
   },
   "outputs": [],
   "source": [
    "from csv import reader\n",
    "\n",
    "# Read the `artworks_clean.csv` file\n",
    "with open('../../../Data/artworks_clean.csv', encoding='utf8') as opened_file:\n",
    "    read_file = reader(opened_file)\n",
    "    moma = list(read_file)\n",
    "moma = moma[1:]\n",
    "\n",
    "\n",
    "# Convert the birthdate values\n",
    "for row in moma:\n",
    "    birth_date = row[3]\n",
    "    if birth_date != \"\":\n",
    "        birth_date = int(birth_date)\n",
    "    row[3] = birth_date\n",
    "    \n",
    "# Convert the death date values\n",
    "for row in moma:\n",
    "    death_date = row[4]\n",
    "    if death_date != \"\":\n",
    "        death_date = int(death_date)\n",
    "    row[4] = death_date\n",
    "\n",
    "    \n",
    "# Start your code below:\n"
   ]
  },
  {
   "cell_type": "markdown",
   "metadata": {
    "application/vnd.databricks.v1+cell": {
     "cellMetadata": {
      "byteLimit": 2048000,
      "rowLimit": 10000
     },
     "inputWidgets": {},
     "nuid": "9c8e86bd-80af-4e48-99ca-2a5b8470905f",
     "showTitle": false,
     "title": ""
    }
   },
   "source": [
    "## 1. Calculating Artist Ages\n",
    "\n",
    "In this session, we want to calculate the ages at which artists created their pieces of art. All we need to do is to subtract the artist's birth year (BeginDate) from the year in which their artwork was created (Date). \n",
    "\n",
    "Pay attention to the missing values for <b>BeginDate</b>. We'll use a value of 0 for the missing values in BeginDate, but later on we can replace them with something more meaningful.\n",
    "\n",
    "There are a plenty of cases where the artist's age (according to our data set) is very low, including some where the age is negative. We could investigate these specific cases one by one, but since we're looking for a summary, we'll take care of these by categorizing artists younger than 20 as \"Unknown\" also. This has the handy effect of also categorizing the artists without birth years as \"Unknown\".\n",
    "\n",
    "To give you a better understanding of some of the values you'll be working with and how they will progress through our code, look at the following table as an example:\n",
    "\n",
    "| Year Artwork Created (date)|Birth Year (birth)|age|final_age|\n",
    "|- |-|-|-|\n",
    "|1968|1898 |70|70|\n",
    "|1931|\"\"|0|\"Unknown\"|\n",
    "|1972|1976|-4|\"Unknown\"|\n",
    "\n",
    "### Task 2.2.1:\n",
    "1. Create an empty list, `ages`, to store the artist age data.\n",
    "2. Use a loop to iterate over the `rows` in moma.\n",
    "3. In each iteration, assign the artwork year (at index 6) to date and artist birth year (at index 3) to `birth`.\n",
    "    - If the `birth` date is an int, calculate the age of the artist at the time of creating the artwork, and assign it to the variable `age`.\n",
    "    - If `birth` isn't an int type, assign 0 to the variable `age`.\n",
    "    - Append `age` to the `ages` list.\n",
    "4. Create an empty list `final_ages`, to store the final age data.\n",
    "5. Use a loop to iterate over each `age` in `ages`. In each iteration:\n",
    "    - If the `age` is greater than 20, assign the `age` to the variable `final_age`.\n",
    "    - If the `age` is not greater than 20, assign \"Unknown\" to the variable `final_age`.\n",
    "    - Append `final_age` to the *final_ages* list."
   ]
  },
  {
   "cell_type": "code",
   "execution_count": 0,
   "metadata": {
    "application/vnd.databricks.v1+cell": {
     "cellMetadata": {
      "byteLimit": 2048000,
      "rowLimit": 10000
     },
     "inputWidgets": {},
     "nuid": "5275fa11-ac76-4324-a02d-5c8ed60f6d2f",
     "showTitle": false,
     "title": ""
    }
   },
   "outputs": [],
   "source": [
    "# Start your code below:\n"
   ]
  },
  {
   "cell_type": "markdown",
   "metadata": {
    "application/vnd.databricks.v1+cell": {
     "cellMetadata": {
      "byteLimit": 2048000,
      "rowLimit": 10000
     },
     "inputWidgets": {},
     "nuid": "55747fe5-1b9b-40aa-83f2-ac012f605bf8",
     "showTitle": false,
     "title": ""
    }
   },
   "source": [
    "## 2. Inserting Variables Into Strings (OPTIONAL)\n",
    "\n",
    "Sometimes it is easiser to interpret a value when we insert a list of values into a sentence. For example, if we have some information about one of our collegue's favorite numbers:"
   ]
  },
  {
   "cell_type": "code",
   "execution_count": 0,
   "metadata": {
    "application/vnd.databricks.v1+cell": {
     "cellMetadata": {
      "byteLimit": 2048000,
      "rowLimit": 10000
     },
     "inputWidgets": {},
     "nuid": "6bb75d5c-5cc6-47a5-aa8b-0a9a44ede10d",
     "showTitle": false,
     "title": ""
    }
   },
   "outputs": [],
   "source": [
    "name = \"Kellie\"\n",
    "num = 8"
   ]
  },
  {
   "cell_type": "markdown",
   "metadata": {
    "application/vnd.databricks.v1+cell": {
     "cellMetadata": {
      "byteLimit": 2048000,
      "rowLimit": 10000
     },
     "inputWidgets": {},
     "nuid": "14a68b2c-cb5e-46a0-a4e1-df1b1f3b2796",
     "showTitle": false,
     "title": ""
    }
   },
   "source": [
    "To make the output more understandable, we want to display:"
   ]
  },
  {
   "cell_type": "markdown",
   "metadata": {
    "application/vnd.databricks.v1+cell": {
     "cellMetadata": {
      "byteLimit": 2048000,
      "rowLimit": 10000
     },
     "inputWidgets": {},
     "nuid": "54bbb0dd-09e9-4c34-8f8c-a4fd406e9437",
     "showTitle": false,
     "title": ""
    }
   },
   "source": [
    "Kellie's favorite number is 8"
   ]
  },
  {
   "cell_type": "markdown",
   "metadata": {
    "application/vnd.databricks.v1+cell": {
     "cellMetadata": {
      "byteLimit": 2048000,
      "rowLimit": 10000
     },
     "inputWidgets": {},
     "nuid": "73b03685-db9b-4fc2-b09f-ea067f6dd996",
     "showTitle": false,
     "title": ""
    }
   },
   "source": [
    "To achieve this, we could use `str()` to convert the integer, and use the `+` operator to combine the values, like this:"
   ]
  },
  {
   "cell_type": "code",
   "execution_count": 0,
   "metadata": {
    "application/vnd.databricks.v1+cell": {
     "cellMetadata": {
      "byteLimit": 2048000,
      "rowLimit": 10000
     },
     "inputWidgets": {},
     "nuid": "f7eef031-59fb-4622-9b97-6f1d7e1bcc1e",
     "showTitle": false,
     "title": ""
    }
   },
   "outputs": [],
   "source": [
    "output = name + \"'s favorite number is \" + str(num)\n",
    "print(output)"
   ]
  },
  {
   "cell_type": "markdown",
   "metadata": {
    "application/vnd.databricks.v1+cell": {
     "cellMetadata": {
      "byteLimit": 2048000,
      "rowLimit": 10000
     },
     "inputWidgets": {},
     "nuid": "75e90a3c-ed5b-407c-8b1e-39794f4c6064",
     "showTitle": false,
     "title": ""
    }
   },
   "source": [
    "The[ <b>str.format() method <b>](https://docs.python.org/3/library/stdtypes.html#str.format)is a powerful tool that helps us write easy-to-read code while combining strings with other variables.\n",
    "\n",
    "We use the method with a string — which acts as a template — using the brace characters (`{}`) to signify where we want any variables to be inserted. We then pass those variables as arguments to the method. Let's look at a few examples:"
   ]
  },
  {
   "cell_type": "code",
   "execution_count": 0,
   "metadata": {
    "application/vnd.databricks.v1+cell": {
     "cellMetadata": {
      "byteLimit": 2048000,
      "rowLimit": 10000
     },
     "inputWidgets": {},
     "nuid": "c9ddf1eb-2859-4218-a467-d3a992ed4a0f",
     "showTitle": false,
     "title": ""
    }
   },
   "outputs": [],
   "source": [
    "output = \"{}'s favorite number is {}\".format(\"Kellie\", 8)\n",
    "print(output)"
   ]
  },
  {
   "cell_type": "markdown",
   "metadata": {
    "application/vnd.databricks.v1+cell": {
     "cellMetadata": {
      "byteLimit": 2048000,
      "rowLimit": 10000
     },
     "inputWidgets": {},
     "nuid": "b8087189-e1c8-479f-ba47-dc99751df425",
     "showTitle": false,
     "title": ""
    }
   },
   "source": [
    "The code is very easy to understand and the `str.format()` method automatically converts the integer to a string for us. The order in which the variables are inserted into the `{}` is by the order of how we pass them as arguments.\n",
    "\n",
    "But if we want to specify the ordering or even to repeat some of the variables, we can do the following:"
   ]
  },
  {
   "cell_type": "code",
   "execution_count": 0,
   "metadata": {
    "application/vnd.databricks.v1+cell": {
     "cellMetadata": {
      "byteLimit": 2048000,
      "rowLimit": 10000
     },
     "inputWidgets": {},
     "nuid": "aa11a3ab-bbf9-46d0-aad1-7e1021aca585",
     "showTitle": false,
     "title": ""
    }
   },
   "outputs": [],
   "source": [
    "output = \"{0}'s favorite number is {1}, {1} is {0}'s favorite number\".format(\"Kellie\", 8)\n",
    "print(output)"
   ]
  },
  {
   "cell_type": "markdown",
   "metadata": {
    "application/vnd.databricks.v1+cell": {
     "cellMetadata": {
      "byteLimit": 2048000,
      "rowLimit": 10000
     },
     "inputWidgets": {},
     "nuid": "c5472bc5-b710-4c68-b726-991db8ef4c83",
     "showTitle": false,
     "title": ""
    }
   },
   "source": [
    "However, if we want to make our code even more understandable and clearer, we can give each variable name (using keyword arguments), like this:"
   ]
  },
  {
   "cell_type": "code",
   "execution_count": 0,
   "metadata": {
    "application/vnd.databricks.v1+cell": {
     "cellMetadata": {
      "byteLimit": 2048000,
      "rowLimit": 10000
     },
     "inputWidgets": {},
     "nuid": "1ef0a0d2-7de0-4884-bc0f-fd12dec15a71",
     "showTitle": false,
     "title": ""
    }
   },
   "outputs": [],
   "source": [
    "template = \"{name}'s favorite number is {num}, {num} is {name}'s favorite number\"\n",
    "output = template.format(name=\"Kellie\", num=\"8\")\n",
    "print(output)"
   ]
  },
  {
   "cell_type": "markdown",
   "metadata": {
    "application/vnd.databricks.v1+cell": {
     "cellMetadata": {
      "byteLimit": 2048000,
      "rowLimit": 10000
     },
     "inputWidgets": {},
     "nuid": "e58814ac-747e-4fb5-b26c-9f109cba47a5",
     "showTitle": false,
     "title": ""
    }
   },
   "source": [
    "The newer versions of Python allow for an even simpler string formatting, using [f-strings](https://docs.python.org/3/tutorial/inputoutput.html#tut-f-strings).  \n",
    "The next cell shows an example of f-strings in action:"
   ]
  },
  {
   "cell_type": "code",
   "execution_count": 0,
   "metadata": {
    "application/vnd.databricks.v1+cell": {
     "cellMetadata": {
      "byteLimit": 2048000,
      "rowLimit": 10000
     },
     "inputWidgets": {},
     "nuid": "d01ae5ab-25bb-42dc-81a0-1417f34da3bf",
     "showTitle": false,
     "title": ""
    }
   },
   "outputs": [],
   "source": [
    "name = 'Renato'\n",
    "age = 40\n",
    "\n",
    "print(f'My name is {name} and i am {age} years old.')"
   ]
  },
  {
   "cell_type": "markdown",
   "metadata": {
    "application/vnd.databricks.v1+cell": {
     "cellMetadata": {
      "byteLimit": 2048000,
      "rowLimit": 10000
     },
     "inputWidgets": {},
     "nuid": "9dd4990f-7307-4ba2-a833-a8cb4a1754b7",
     "showTitle": false,
     "title": ""
    }
   },
   "source": [
    "In the task below, your goal will be to insert an artist's name and birth year into a formatted string. As an example, for the artist René Magritte, the format would be:"
   ]
  },
  {
   "cell_type": "markdown",
   "metadata": {
    "application/vnd.databricks.v1+cell": {
     "cellMetadata": {
      "byteLimit": 2048000,
      "rowLimit": 10000
     },
     "inputWidgets": {},
     "nuid": "0cd37756-5391-45b0-be14-50ec58929c41",
     "showTitle": false,
     "title": ""
    }
   },
   "source": [
    "René Magritte's birth year is 1898."
   ]
  },
  {
   "cell_type": "markdown",
   "metadata": {
    "application/vnd.databricks.v1+cell": {
     "cellMetadata": {
      "byteLimit": 2048000,
      "rowLimit": 10000
     },
     "inputWidgets": {},
     "nuid": "780d9053-2b6e-4b21-91de-bcbc14a9fd7c",
     "showTitle": false,
     "title": ""
    }
   },
   "source": [
    "### Task 2.2.2:\n",
    "\n",
    "We have provided an artist's name and birth year in the `artist` and `birth_year` variables.\n",
    "\n",
    "1. Create a template string to insert the `artist` and `birth_year` variables into a string, using the format provided above. You may use your choice of the three techniques you learned for specifying which variables goes where.\n",
    "2. Use `str.format()` to insert the two variables into your template string, assigning the result to a variable.\n",
    "3. Use the `print()` function to call that variable."
   ]
  },
  {
   "cell_type": "code",
   "execution_count": 0,
   "metadata": {
    "application/vnd.databricks.v1+cell": {
     "cellMetadata": {
      "byteLimit": 2048000,
      "rowLimit": 10000
     },
     "inputWidgets": {},
     "nuid": "11028235-a802-4e69-a440-c91c222dcf17",
     "showTitle": false,
     "title": ""
    }
   },
   "outputs": [],
   "source": [
    "artist = \"Pablo Picasso\"\n",
    "birth_year = 1881\n",
    "\n",
    "# Start your code below:\n"
   ]
  },
  {
   "cell_type": "markdown",
   "metadata": {
    "application/vnd.databricks.v1+cell": {
     "cellMetadata": {
      "byteLimit": 2048000,
      "rowLimit": 10000
     },
     "inputWidgets": {},
     "nuid": "46f82b37-90ee-4385-b1fb-525424fe8b97",
     "showTitle": false,
     "title": ""
    }
   },
   "source": [
    "### 3. Creating an Artist Summary Function (OPTIONAL)\n",
    "\n",
    "Below we have created a dictionary containing the counts of each artist's artworks. \n",
    "Your final task will be to create a function that displays information for a specific artist.\n",
    "\n",
    "This function will take a single argument, which will be the name of an artist, and will display a formatted sentence about that artist.\n",
    "If we pass \"Marc Chagall\" into our function as an argument, the final output should be something like: \"There are 173 artworks by Marc Chagall in the data set.\".\n",
    "\n",
    "Inside the function, we'll need to:\n",
    "\n",
    "- Retrieve the number of artworks by the artist from the `artist_freq` dictionary.\n",
    "- Define a template for our output.\n",
    "- Use `str.format() `to insert the artists name and number of artworks into our template.\n",
    "- Use the `print()` function to display the output.\n",
    "\n",
    "\n",
    "### Task 2.2.3:\n",
    "1. Create a function `artist_summary()` which accepts a single argument, the name of an artist.\n",
    "2. The function should print a summary of the artist using the steps below:\n",
    "    - Retrieve the number of artworks from the `artist_freq` dictionary, and assign it to a variable.\n",
    "    - Create a template string that uses braces (`{}`) to insert the name and variables into the string, using the format from the diagram above.\n",
    "    - Use `str.format()` method to insert the artist's name and number of artworks into the string template.\n",
    "    - Use the `print()` function to display the final string.\n",
    "3. Use your function to display a summary for the Artist \"Henri Matisse\".\n",
    "\n",
    "The answer should be: `There are 129 artworks by Henri Matisse in the data set.`"
   ]
  },
  {
   "cell_type": "code",
   "execution_count": 0,
   "metadata": {
    "application/vnd.databricks.v1+cell": {
     "cellMetadata": {
      "byteLimit": 2048000,
      "rowLimit": 10000
     },
     "inputWidgets": {},
     "nuid": "49f32434-8dd2-41d9-a6de-49f8a85626fe",
     "showTitle": false,
     "title": ""
    }
   },
   "outputs": [],
   "source": [
    "artist_freq = {}\n",
    "for element in moma:\n",
    "    artist = element[1]\n",
    "    if artist not in artist_freq:\n",
    "        artist_freq[artist] = 1\n",
    "    else:\n",
    "        artist_freq[artist] += 1\n",
    "\n",
    "# Start your code below: \n"
   ]
  }
 ],
 "metadata": {
  "application/vnd.databricks.v1+notebook": {
   "dashboards": [],
   "environmentMetadata": null,
   "language": "python",
   "notebookMetadata": {
    "pythonIndentUnit": 2
   },
   "notebookName": "2_Data_Analysis_Basics",
   "widgets": {}
  }
 },
 "nbformat": 4,
 "nbformat_minor": 0
}
