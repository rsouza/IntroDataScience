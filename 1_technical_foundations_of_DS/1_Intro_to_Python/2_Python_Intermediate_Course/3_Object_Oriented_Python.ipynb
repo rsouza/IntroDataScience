{
 "cells": [
  {
   "cell_type": "markdown",
   "metadata": {
    "application/vnd.databricks.v1+cell": {
     "cellMetadata": {},
     "inputWidgets": {},
     "nuid": "3ebfa5b1-b111-4743-af2d-40facc99c758",
     "showTitle": false,
     "title": ""
    }
   },
   "source": [
    "## Object Oriented Programming (OOP)\n",
    "\n",
    "There are only two options on how I think you will perceive this lecture. If you have some IT background and already some experience with OOP, this notebook will be a piece of cake. If these notebooks are your first programming experience, you may feel a bit confused at the beginning. Don't worry, once you get a grip of it, the path of OOP in Python will be smooth! The truth is, we have all been there when we first met OOP. \n",
    "\n",
    "## What is OOP?\n",
    "Imagine that you have a store with clothes. You are an IT person which is in charge of software that is supporting this store. The software holds information on all the products that are being offered - prices, sizes, counts, colours, anything. As we are talking about clothes - new pieces of clothing are coming every month. During the first months, you are describing with data structures manually every piece of clothing - what its parameters are, what functions are available in the online shop with regards to this item.\n",
    "\n",
    "After a few months, you get bored by how repetitive your work is! You realize that many items belong into a certain **group**. For example, many items can be simply regarded as *shirts*. Now, each shirt is going to have some **characterists** and certain **actions** can be done with it. For example, it has collar, it covers upper part of body. We are able to filter by the general size, size at waist and also length within our online shop. Each particular shirt is an **object**. The *shirt group* is a  **class** into which all particular objects (shirts) belong. This class is going to have some **methods** which relate to the characteristics of the shirts and what can be done with those. Each particular shirt which is in the store will now **inherit** some properties of the class, which will simplify the job for us.\n",
    "\n",
    "The creation of classes, with respective methods and inheritance for objects will save us a lot of time! **Whenever a new shirt arrives, we just attribute it into shirts class and so it will instantly inherit all the methods.**\n",
    "\n",
    "***"
   ]
  },
  {
   "cell_type": "markdown",
   "metadata": {
    "application/vnd.databricks.v1+cell": {
     "cellMetadata": {},
     "inputWidgets": {},
     "nuid": "e012f04f-921b-4b8e-8ada-689539ce4923",
     "showTitle": false,
     "title": ""
    }
   },
   "source": [
    "## 1. Classes and Objects\n",
    "\n",
    "To begin with this notebook, let's start by looking at the following example:"
   ]
  },
  {
   "cell_type": "code",
   "execution_count": 0,
   "metadata": {
    "application/vnd.databricks.v1+cell": {
     "cellMetadata": {
      "byteLimit": 2048000,
      "rowLimit": 10000
     },
     "inputWidgets": {},
     "nuid": "0d1fa4b4-b995-484b-85d9-6b56b725b75e",
     "showTitle": false,
     "title": ""
    }
   },
   "outputs": [],
   "source": [
    "l = [1, 2, 3]\n",
    "s = \"string\"\n",
    "d = {\"a\": 1, \"b\": 2}"
   ]
  },
  {
   "cell_type": "markdown",
   "metadata": {
    "application/vnd.databricks.v1+cell": {
     "cellMetadata": {},
     "inputWidgets": {},
     "nuid": "63d1eff7-0281-4b7a-a895-dc6e5ce66e13",
     "showTitle": false,
     "title": ""
    }
   },
   "source": [
    "The code above have variables that consists of various classes. If we use the `type()` function, it will tell us everything:"
   ]
  },
  {
   "cell_type": "code",
   "execution_count": 0,
   "metadata": {
    "application/vnd.databricks.v1+cell": {
     "cellMetadata": {
      "byteLimit": 2048000,
      "rowLimit": 10000
     },
     "inputWidgets": {},
     "nuid": "6ac30c3b-ab33-44e6-a82c-5ba8a8a9aee6",
     "showTitle": false,
     "title": ""
    }
   },
   "outputs": [],
   "source": [
    "print(type(l))\n",
    "print(type(s))\n",
    "print(type(d))"
   ]
  },
  {
   "cell_type": "markdown",
   "metadata": {
    "application/vnd.databricks.v1+cell": {
     "cellMetadata": {},
     "inputWidgets": {},
     "nuid": "bad0f9fb-7403-4614-a9b1-ce6d890b4e08",
     "showTitle": false,
     "title": ""
    }
   },
   "source": [
    "We can see that when we used the `type()` function, the values labeled \"class\" is returned. We can deduct that \"type\" and \"class\" are used interchangeably. You see that we've been using classes for some time already:\n",
    "\n",
    "- Python lists are objects of the <b>list</b> class.\n",
    "- Python strings are objects of the <b>str </b>class.\n",
    "- Python dictionaries are objects of the <b>dict</b> class.\n",
    "\n",
    "In this chapter, we will go on a journey of creating a class of our own. We're going to create a simple class called `NewList` and recreate some of the basic functionality of the Python list class.\n",
    "\n",
    "Before we get started, let's look at the relationship between objects and classes.\n",
    "\n",
    "- An <b> object</b> is an entity that stores data.\n",
    "- An object's <b>class</b> defines specific properties objects of that class will have.\n",
    "\n",
    "> A class is a template for objects. A class defines object properties including a valid range of values, and a default value. A class also describes object behavior. \n",
    "\n",
    "> An object is a member or an \"instance\" of a class. \n",
    "An object has a state in which all of its properties have values that you either explicitly define or that are defined by default settings.\n",
    "\n",
    "You can read more about classes and objects here: https://www.javatpoint.com/python-oops-concepts.\n",
    "For people who previously have little programming experience, we highly recommend you to watch this short video explaining [what is object oriented programming](https://www.youtube.com/watch?v=xoL6WvCARJY)."
   ]
  },
  {
   "cell_type": "markdown",
   "metadata": {
    "application/vnd.databricks.v1+cell": {
     "cellMetadata": {},
     "inputWidgets": {},
     "nuid": "64980d9d-c9a3-49a8-9665-d959e098cf57",
     "showTitle": false,
     "title": ""
    }
   },
   "source": [
    "## 2. Defining a Class\n",
    "\n",
    "Now the question arises of how we can define a class in Python. It turns out that creating a class is very similar to how we define a function.\n",
    "\n",
    "Note that we are using the ``pass`` keyword. The `pass` keyword is used as a placeholder for future code in code blocks where code is required syntactically like a class, function, method, for loop or if statement. If we were to not use the ``pass`` keyword an error would be thrown."
   ]
  },
  {
   "cell_type": "code",
   "execution_count": 0,
   "metadata": {
    "application/vnd.databricks.v1+cell": {
     "cellMetadata": {
      "byteLimit": 2048000,
      "rowLimit": 10000
     },
     "inputWidgets": {},
     "nuid": "2cc8182e-a4a3-409b-8c14-527ac7017485",
     "showTitle": false,
     "title": ""
    }
   },
   "outputs": [],
   "source": [
    "#This is a function:\n",
    "def my_function():\n",
    "    # the details of the\n",
    "    # function go here\n",
    "    pass\n",
    "    \n",
    "#This is a class:\n",
    "class MyClass():\n",
    "    # the details of the\n",
    "    # class go here\n",
    "    pass"
   ]
  },
  {
   "cell_type": "markdown",
   "metadata": {
    "application/vnd.databricks.v1+cell": {
     "cellMetadata": {},
     "inputWidgets": {},
     "nuid": "a2d974bf-aa7a-4544-964e-c5f8a3784b94",
     "showTitle": false,
     "title": ""
    }
   },
   "source": [
    "Similar to a function, parentheses and a colon are used after the class name ``():`` when defining a class. Just like a function, the body of our class is indented like a function's body is.\n",
    "\n",
    "The rules for naming classes are the same as they are for naming functions and variables.\n",
    "There is a **general rule of thumb in naming functions and classes**: \n",
    "- when naming for variables and and **functions**, all lowercase letters are used with underscores between: `like_this` \n",
    "- And when naming **classes**, there are no underscores are used between words, and the first letter of each word is capitalized: `LikeThis` \n",
    "\n",
    "Following is an example of a definition of a class named ``MyClass``:\n",
    "````python\n",
    "class MyClass():\n",
    "````"
   ]
  },
  {
   "cell_type": "markdown",
   "metadata": {
    "application/vnd.databricks.v1+cell": {
     "cellMetadata": {},
     "inputWidgets": {},
     "nuid": "8516f02d-277a-4ae3-821e-fa2dfd26f7e0",
     "showTitle": false,
     "title": ""
    }
   },
   "source": [
    "### Task 2.3.2.1:\n",
    "Define a new class named `NewList()`. Remember to use the `pass` keyword in the body of our class to avoid a SyntaxError."
   ]
  },
  {
   "cell_type": "code",
   "execution_count": 0,
   "metadata": {
    "application/vnd.databricks.v1+cell": {
     "cellMetadata": {
      "byteLimit": 2048000,
      "rowLimit": 10000
     },
     "inputWidgets": {},
     "nuid": "f73da1fe-f763-4b0b-a74e-948c667cb66c",
     "showTitle": false,
     "title": ""
    }
   },
   "outputs": [],
   "source": [
    "#Start your code below:\n"
   ]
  },
  {
   "cell_type": "markdown",
   "metadata": {
    "application/vnd.databricks.v1+cell": {
     "cellMetadata": {},
     "inputWidgets": {},
     "nuid": "2deb041d-1647-42d3-b515-f02bd33e67f6",
     "showTitle": false,
     "title": ""
    }
   },
   "source": [
    "In OOP (Object-oriented programming), we use <b> instances </b> to describe each different object. Let's look at an example:"
   ]
  },
  {
   "cell_type": "code",
   "execution_count": 0,
   "metadata": {
    "application/vnd.databricks.v1+cell": {
     "cellMetadata": {
      "byteLimit": 2048000,
      "rowLimit": 10000
     },
     "inputWidgets": {},
     "nuid": "93db79ea-2be2-46f0-a0c2-4ecd1f528c53",
     "showTitle": false,
     "title": ""
    }
   },
   "outputs": [],
   "source": [
    "#These objects are two instances of the Python str class.\n",
    "string_1 = \"The first string\"\n",
    "\n",
    "string_2 = \"The second string\"\n",
    "\n",
    "#While each is unique - they contain unique values - they are the same type of object."
   ]
  },
  {
   "cell_type": "markdown",
   "metadata": {
    "application/vnd.databricks.v1+cell": {
     "cellMetadata": {},
     "inputWidgets": {},
     "nuid": "989633bc-8d02-4917-9625-a09b885b644d",
     "showTitle": false,
     "title": ""
    }
   },
   "source": [
    "Once we have defined our class, we can create an object of that class, which is known as **instantiation**. If you create an object of a particular class, the technical phrase for what you did is to \"instantiate an object of that class.\" Let's learn how to instantiate an instance of our new class:\n",
    "\n",
    "````python\n",
    "my_class_instance = MyClass()\n",
    "````\n",
    "\n",
    "This single line performed two thigns:\n",
    "- Instantiation of an object of the class `MyClass`.\n",
    "- Assignment of this instance to the variable named `my_class_instance`.\n",
    "\n",
    "To illustrate this more clearly, let's look at an example using Python's built-in integer class. In the previous mission, we used the syntax `int()` to convert numeric values stored as strings to integers. Let's look at a simple example of this in code and break down the syntax into parts, which we'll read right-to-left:\n",
    "\n",
    "````python\n",
    "my_int = int(\"5\")\n",
    "````"
   ]
  },
  {
   "cell_type": "markdown",
   "metadata": {
    "application/vnd.databricks.v1+cell": {
     "cellMetadata": {},
     "inputWidgets": {},
     "nuid": "3ab9953b-8b44-4249-b62e-241e7e3bca25",
     "showTitle": false,
     "title": ""
    }
   },
   "source": [
    "To break this down:\n",
    "- `int(\"5\")` <<< Instantiate an object of the class int\n",
    "- `my_int` <<< Assign the object to a variable with the name `my_int`\n",
    ">The syntax to the right of the assignment operator ``=`` **instantiates** the object, and the assignment operator and variable name create the variable. \n",
    "\n",
    "This helps us understand some of the subtle differences between an object and a variable."
   ]
  },
  {
   "cell_type": "markdown",
   "metadata": {
    "application/vnd.databricks.v1+cell": {
     "cellMetadata": {},
     "inputWidgets": {},
     "nuid": "089b2268-22cf-4a86-ae2f-9e6540d6878d",
     "showTitle": false,
     "title": ""
    }
   },
   "source": [
    "### Task 2.3.2.2:\n",
    "1. Define a new class called `NewList`:\n",
    "    - Use `NewList()` when defining the class.\n",
    "    - Use the pass keyword so our empty class does not raise a `SyntaxError`.\n",
    "2. Create an instance of the `NewList` class. Assign it to the variable name `newlist_1`.\n",
    "3. Print the type of the `newlist_1` variable."
   ]
  },
  {
   "cell_type": "code",
   "execution_count": 0,
   "metadata": {
    "application/vnd.databricks.v1+cell": {
     "cellMetadata": {
      "byteLimit": 2048000,
      "rowLimit": 10000
     },
     "inputWidgets": {},
     "nuid": "5761866f-23fe-4798-81a8-d50bd457eaaf",
     "showTitle": false,
     "title": ""
    }
   },
   "outputs": [],
   "source": [
    "# Start your code below:\n"
   ]
  },
  {
   "cell_type": "markdown",
   "metadata": {
    "application/vnd.databricks.v1+cell": {
     "cellMetadata": {},
     "inputWidgets": {},
     "nuid": "c2abbb0a-c756-4b26-9338-2e1c5d22d5b5",
     "showTitle": false,
     "title": ""
    }
   },
   "source": [
    "Lovely! We have just created and instantiated our fist class! However, our class is lacking some of behaviours, it doesn't do anything yet. \n",
    "That means we need to define some **methods** which allow objects to perform actions.\n",
    "\n",
    "Let's think of methods like special functions that belong to a particular class. This is why we call the replace method `str.replace()` — because the method belongs to the str class.\n",
    "\n",
    "While a function can be used with any object, did you know that each class has its own set of methods? Let's look at an example using some Python built in classes:"
   ]
  },
  {
   "cell_type": "code",
   "execution_count": 0,
   "metadata": {
    "application/vnd.databricks.v1+cell": {
     "cellMetadata": {
      "byteLimit": 2048000,
      "rowLimit": 10000
     },
     "inputWidgets": {},
     "nuid": "4d0b7af5-055a-412f-ad59-776ad174badf",
     "showTitle": false,
     "title": ""
    }
   },
   "outputs": [],
   "source": [
    "my_string = \"hello world\"   # an object of the str class\n",
    "my_list = [2, 4, 8]   # an object of the list class"
   ]
  },
  {
   "cell_type": "markdown",
   "metadata": {
    "application/vnd.databricks.v1+cell": {
     "cellMetadata": {},
     "inputWidgets": {},
     "nuid": "ca8b8d3c-662b-4a00-9ac1-e2043c32d81a",
     "showTitle": false,
     "title": ""
    }
   },
   "source": [
    "All list objects have the `list.append()` method. Let's try this:"
   ]
  },
  {
   "cell_type": "code",
   "execution_count": 0,
   "metadata": {
    "application/vnd.databricks.v1+cell": {
     "cellMetadata": {
      "byteLimit": 2048000,
      "rowLimit": 10000
     },
     "inputWidgets": {},
     "nuid": "4d94ef0e-3a43-450e-a9e8-c8324a077614",
     "showTitle": false,
     "title": ""
    }
   },
   "outputs": [],
   "source": [
    "my_list.append(4)\n",
    "print(my_list)"
   ]
  },
  {
   "cell_type": "markdown",
   "metadata": {
    "application/vnd.databricks.v1+cell": {
     "cellMetadata": {},
     "inputWidgets": {},
     "nuid": "22dee068-d916-44ed-abfc-b0f4370aa51d",
     "showTitle": false,
     "title": ""
    }
   },
   "source": [
    "Also, we have learned the `str.replace()` method in our previous chapter. This method belongs to the string class."
   ]
  },
  {
   "cell_type": "code",
   "execution_count": 0,
   "metadata": {
    "application/vnd.databricks.v1+cell": {
     "cellMetadata": {
      "byteLimit": 2048000,
      "rowLimit": 10000
     },
     "inputWidgets": {},
     "nuid": "1ccdb85d-2b6c-4a24-bf29-f1c501f6d765",
     "showTitle": false,
     "title": ""
    }
   },
   "outputs": [],
   "source": [
    "my_string = my_string.replace(\"h\",\"H\")\n",
    "print(my_string)"
   ]
  },
  {
   "cell_type": "markdown",
   "metadata": {
    "application/vnd.databricks.v1+cell": {
     "cellMetadata": {},
     "inputWidgets": {},
     "nuid": "7d456b62-f53a-4795-bff7-541d0c3a14a4",
     "showTitle": false,
     "title": ""
    }
   },
   "source": [
    "> **The interchanging of one method from one class to another class is forbidden in Python:**"
   ]
  },
  {
   "cell_type": "code",
   "execution_count": 0,
   "metadata": {
    "application/vnd.databricks.v1+cell": {
     "cellMetadata": {
      "byteLimit": 2048000,
      "rowLimit": 10000
     },
     "inputWidgets": {},
     "nuid": "8eeaf07a-3177-437d-af34-42fb7841a9df",
     "showTitle": false,
     "title": ""
    }
   },
   "outputs": [],
   "source": [
    "my_string.append(\"!\") # can't use a method from one class with the other class"
   ]
  },
  {
   "cell_type": "markdown",
   "metadata": {
    "application/vnd.databricks.v1+cell": {
     "cellMetadata": {},
     "inputWidgets": {},
     "nuid": "6848a566-d7eb-444f-920d-9a4a793a3a54",
     "showTitle": false,
     "title": ""
    }
   },
   "source": [
    "How can we **create a method**? It is almost identical to how we create a function with one exception: the method is indented within our class definition. See example below:"
   ]
  },
  {
   "cell_type": "code",
   "execution_count": 0,
   "metadata": {
    "application/vnd.databricks.v1+cell": {
     "cellMetadata": {
      "byteLimit": 2048000,
      "rowLimit": 10000
     },
     "inputWidgets": {},
     "nuid": "89b9962d-b115-485c-8cec-1b76bea37297",
     "showTitle": false,
     "title": ""
    }
   },
   "outputs": [],
   "source": [
    "class MyClass():\n",
    "    def greet():\n",
    "        return \"hello\""
   ]
  },
  {
   "cell_type": "markdown",
   "metadata": {
    "application/vnd.databricks.v1+cell": {
     "cellMetadata": {},
     "inputWidgets": {},
     "nuid": "7bad53c0-e49e-4978-866f-66a5d7de65c5",
     "showTitle": false,
     "title": ""
    }
   },
   "source": [
    "### Task 2.3.2.3:\n",
    "\n",
    "1. Define a new class called `NewList()`.\n",
    "    - Use `NewList()` when defining the class, so we can perform answer checking on your class.\n",
    "2. Inside the class, define a method called `first_method()`.\n",
    "3. Inside the method, return the string \"This is my first method\".\n",
    "4. Create an instance of the `NewList` class. Assign it to the variable name `newlist`."
   ]
  },
  {
   "cell_type": "code",
   "execution_count": 0,
   "metadata": {
    "application/vnd.databricks.v1+cell": {
     "cellMetadata": {
      "byteLimit": 2048000,
      "rowLimit": 10000
     },
     "inputWidgets": {},
     "nuid": "f31fe8fd-72e0-495d-8c12-56f2e7aa8006",
     "showTitle": false,
     "title": ""
    }
   },
   "outputs": [],
   "source": [
    "# Start your code below:\n"
   ]
  },
  {
   "cell_type": "markdown",
   "metadata": {
    "application/vnd.databricks.v1+cell": {
     "cellMetadata": {},
     "inputWidgets": {},
     "nuid": "17e1f8c3-de2b-49a2-88f9-7571e1cb2834",
     "showTitle": false,
     "title": ""
    }
   },
   "source": [
    "## 3. Understading 'self'\n",
    "On the previous paragraphs, we defined a class with a simple method, then created an instance of that class:"
   ]
  },
  {
   "cell_type": "code",
   "execution_count": 0,
   "metadata": {
    "application/vnd.databricks.v1+cell": {
     "cellMetadata": {
      "byteLimit": 2048000,
      "rowLimit": 10000
     },
     "inputWidgets": {},
     "nuid": "33d011a9-98af-47ea-b2d5-169f2c9b7b0a",
     "showTitle": false,
     "title": ""
    }
   },
   "outputs": [],
   "source": [
    "class NewList():\n",
    "    def first_method():\n",
    "        print(\"hello\")\n",
    "\n",
    "instance = NewList()\n",
    "\n",
    "#Let's look at what happens when we call (run) that method:\n",
    "instance.first_method()"
   ]
  },
  {
   "cell_type": "markdown",
   "metadata": {
    "application/vnd.databricks.v1+cell": {
     "cellMetadata": {},
     "inputWidgets": {},
     "nuid": "e9daf440-f07e-449c-b0d9-1ecc718d8a55",
     "showTitle": false,
     "title": ""
    }
   },
   "source": [
    "This error is a bit confusing. It says that one argument was given to `first_method()`, but when we called the method we didn't provide any arguments. It seems like there is a \"phantom\" argument being inserted somewhere.\n",
    "\n",
    "When we call the `first_method()` method belonging to the instance object, Python interprets that syntax and adds in an argument representing the instance we're calling the method on.\n",
    "\n",
    "We can verify that this is the case by checking it with Python's built-in str type. We'll use `str.title()` to convert a string to title case."
   ]
  },
  {
   "cell_type": "code",
   "execution_count": 0,
   "metadata": {
    "application/vnd.databricks.v1+cell": {
     "cellMetadata": {
      "byteLimit": 2048000,
      "rowLimit": 10000
     },
     "inputWidgets": {},
     "nuid": "61ee6eff-92b8-413e-b8ea-8d3dd7a7a2a2",
     "showTitle": false,
     "title": ""
    }
   },
   "outputs": [],
   "source": [
    "# create a str object\n",
    "s = \"MY STRING\"\n",
    "\n",
    "# call `str.title() directly\n",
    "# instead of `s.title()`\n",
    "result = str.title(s)\n",
    "print(result)"
   ]
  },
  {
   "cell_type": "markdown",
   "metadata": {
    "application/vnd.databricks.v1+cell": {
     "cellMetadata": {},
     "inputWidgets": {},
     "nuid": "4de6b6ca-0b94-4824-836b-e474d4be3b84",
     "showTitle": false,
     "title": ""
    }
   },
   "source": [
    "Let's study the following class carefully:"
   ]
  },
  {
   "cell_type": "code",
   "execution_count": 0,
   "metadata": {
    "application/vnd.databricks.v1+cell": {
     "cellMetadata": {
      "byteLimit": 2048000,
      "rowLimit": 10000
     },
     "inputWidgets": {},
     "nuid": "c5800ef5-0792-4cd0-8af9-056f309ad60f",
     "showTitle": false,
     "title": ""
    }
   },
   "outputs": [],
   "source": [
    "class MyClass():\n",
    "    def print_self(self):\n",
    "        print(self)\n",
    "\n",
    "mc = MyClass()\n",
    "\n",
    "#Next, let's print the mc object so we can understand \n",
    "#what the object itself looks like when its printed:\n",
    "\n",
    "print(mc)"
   ]
  },
  {
   "cell_type": "code",
   "execution_count": 0,
   "metadata": {
    "application/vnd.databricks.v1+cell": {
     "cellMetadata": {
      "byteLimit": 2048000,
      "rowLimit": 10000
     },
     "inputWidgets": {},
     "nuid": "a3239c06-a2ec-4d1f-a501-a7c111aeb128",
     "showTitle": false,
     "title": ""
    }
   },
   "outputs": [],
   "source": [
    "#Lastly, let's call our print_self() method to see\n",
    "#whether the output is the same as when we printed the object itself:\n",
    "\n",
    "mc.print_self()"
   ]
  },
  {
   "cell_type": "markdown",
   "metadata": {
    "application/vnd.databricks.v1+cell": {
     "cellMetadata": {},
     "inputWidgets": {},
     "nuid": "53180173-49c8-41f4-a10f-f0ba3876a461",
     "showTitle": false,
     "title": ""
    }
   },
   "source": [
    "The same output was displayed both when we printed the object using the syntax `print(mc)` and when we printed the object inside the method using `print_self()` — **which proves that this \"phantom\" argument is the object itself**!\n",
    "\n",
    "Technically, we can give this first argument — which is passed to every method — any parameter name we like. However, the **convention is to call the parameter `self`**. This is an important convention, as without it class definitions can get confusing."
   ]
  },
  {
   "cell_type": "markdown",
   "metadata": {
    "application/vnd.databricks.v1+cell": {
     "cellMetadata": {},
     "inputWidgets": {},
     "nuid": "4d71f1c5-3b97-4c79-9269-dddde22c6f2f",
     "showTitle": false,
     "title": ""
    }
   },
   "source": [
    "### Task 2.3.3:\n",
    "\n",
    "In the editor below:\n",
    "1. Modify the `first_method()` method by changing the argument to `self`.\n",
    "2. Create an instance of the NewList class. Assign it to the variable name ``newlist``.\n",
    "3. Call `newlist.first_method()`. Assign the result to the variable ``result``."
   ]
  },
  {
   "cell_type": "code",
   "execution_count": 0,
   "metadata": {
    "application/vnd.databricks.v1+cell": {
     "cellMetadata": {
      "byteLimit": 2048000,
      "rowLimit": 10000
     },
     "inputWidgets": {},
     "nuid": "7eac4adf-c2dd-44e2-97e5-c613eebc6556",
     "showTitle": false,
     "title": ""
    }
   },
   "outputs": [],
   "source": [
    " class NewList():\n",
    "    def first_method():\n",
    "        return \"This is my first method.\""
   ]
  },
  {
   "cell_type": "markdown",
   "metadata": {
    "application/vnd.databricks.v1+cell": {
     "cellMetadata": {},
     "inputWidgets": {},
     "nuid": "66d787b6-ff4f-4100-8518-c02296b7151b",
     "showTitle": false,
     "title": ""
    }
   },
   "source": [
    "## 4. Creating a Method That Accepts an Argument\n",
    "\n",
    "The method we worked with on the previous two screens didn't accept any arguments except the self argument. Like with functions, methods are often called with one or more arguments so that the method can use or modify that argument.\n",
    "\n",
    "Let's create a method that accepts a string argument and then returns that string. The first argument will always be the object itself, so we'll specify self as the first argument, and the string as our second argument:"
   ]
  },
  {
   "cell_type": "code",
   "execution_count": 0,
   "metadata": {
    "application/vnd.databricks.v1+cell": {
     "cellMetadata": {
      "byteLimit": 2048000,
      "rowLimit": 10000
     },
     "inputWidgets": {},
     "nuid": "fc844f89-08ea-44e5-b4f4-ef4e2b8b9692",
     "showTitle": false,
     "title": ""
    }
   },
   "outputs": [],
   "source": [
    "class MyClass():\n",
    "    def return_string(self, string):\n",
    "        return string"
   ]
  },
  {
   "cell_type": "markdown",
   "metadata": {
    "application/vnd.databricks.v1+cell": {
     "cellMetadata": {},
     "inputWidgets": {},
     "nuid": "614c2919-06e6-4001-bbf3-ec336bce7784",
     "showTitle": false,
     "title": ""
    }
   },
   "source": [
    "Let's instantiate an object and call our method. Notice how when we call it, we leave out the self argument, just like we did on the previous screen:"
   ]
  },
  {
   "cell_type": "code",
   "execution_count": 0,
   "metadata": {
    "application/vnd.databricks.v1+cell": {
     "cellMetadata": {
      "byteLimit": 2048000,
      "rowLimit": 10000
     },
     "inputWidgets": {},
     "nuid": "9d43d3d4-15e1-4f26-9196-b7413b95f619",
     "showTitle": false,
     "title": ""
    }
   },
   "outputs": [],
   "source": [
    "mc = MyClass()\n",
    "result = mc.return_string(\"Hey there!\")\n",
    "print(result)"
   ]
  },
  {
   "cell_type": "markdown",
   "metadata": {
    "application/vnd.databricks.v1+cell": {
     "cellMetadata": {},
     "inputWidgets": {},
     "nuid": "60aca37c-c6b9-48df-934d-c1313ba0aa1f",
     "showTitle": false,
     "title": ""
    }
   },
   "source": [
    "Now it's time to pratice creating methods for our classes.\n",
    "\n",
    "### Task 2.3.4:\n",
    "1. Define a new class called `NewList()`.\n",
    "2. Inside the class, define a method called `return_list()`.\n",
    "    - The method should accept a single argument `input_list` when called.\n",
    "    - Inside the method, return `input_list`.\n",
    "3. Create an instance of the NewList class, and assign it to the variable name `newlist`.\n",
    "4. Call the `newlist.return_list()` method with the argument [1, 2, 3]. Assign the result to the variable `result`."
   ]
  },
  {
   "cell_type": "code",
   "execution_count": 0,
   "metadata": {
    "application/vnd.databricks.v1+cell": {
     "cellMetadata": {
      "byteLimit": 2048000,
      "rowLimit": 10000
     },
     "inputWidgets": {},
     "nuid": "74afb1a3-3a83-47b7-9119-600c1f44df48",
     "showTitle": false,
     "title": ""
    }
   },
   "outputs": [],
   "source": [
    "# Start your code below:\n"
   ]
  },
  {
   "cell_type": "markdown",
   "metadata": {
    "application/vnd.databricks.v1+cell": {
     "cellMetadata": {},
     "inputWidgets": {},
     "nuid": "f2bc7292-23ea-48be-a96c-7e17d919143a",
     "showTitle": false,
     "title": ""
    }
   },
   "source": [
    "## 5. Atrributes and the Init Method (IMPORTANT)\n",
    "Let's recap what we've already learned since the beginning of this lecture.\n",
    "\n",
    "- We can define a ``class``.\n",
    "- We know that a class can have ``methods``. These are something like a functions or commands which can be performed with the objects belonging to that class.\n",
    "\n",
    "We now need to learn about **2 new things** at the same time, as they are closely related:\n",
    "\n",
    "- init method\n",
    "- attributes\n",
    "\n",
    "The power of objects is in their ability to store data, and data is stored inside objects using **attributes**. You can think of attributes like **special variables that belong to a particular class**. Attributes let us store specific values about each instance of our class. When we instantiate an object, most of the time we specify the data that we want to store inside that object. Let's look at an example of instantiating an int object:"
   ]
  },
  {
   "cell_type": "code",
   "execution_count": 0,
   "metadata": {
    "application/vnd.databricks.v1+cell": {
     "cellMetadata": {
      "byteLimit": 2048000,
      "rowLimit": 10000
     },
     "inputWidgets": {},
     "nuid": "bc5d7e43-208c-47af-9999-99f5fa382535",
     "showTitle": false,
     "title": ""
    }
   },
   "outputs": [],
   "source": [
    "my_int = int(\"3\")"
   ]
  },
  {
   "cell_type": "markdown",
   "metadata": {
    "application/vnd.databricks.v1+cell": {
     "cellMetadata": {},
     "inputWidgets": {},
     "nuid": "55343e2a-f65a-4281-977c-654f7dce8f52",
     "showTitle": false,
     "title": ""
    }
   },
   "source": [
    "When `int()` was used, the argument \"3\" was provided, which was converted and stored inside the object. **We define what is done with an arguments provided at instantiation using the init method.**\n",
    "\n",
    "> The init method — also called a ``constructor`` — is a special method that runs when an instance is created so we can perform any tasks to set up the instance.\n",
    "\n",
    "The init method has a **special name that starts and ends with two underscores: `__init__()`**. Let's look at an example:"
   ]
  },
  {
   "cell_type": "code",
   "execution_count": 0,
   "metadata": {
    "application/vnd.databricks.v1+cell": {
     "cellMetadata": {
      "byteLimit": 2048000,
      "rowLimit": 10000
     },
     "inputWidgets": {},
     "nuid": "4ad67402-b781-46a9-abd8-9298dbcfaa79",
     "showTitle": false,
     "title": ""
    }
   },
   "outputs": [],
   "source": [
    "class MyClass():\n",
    "    def __init__(self, string):\n",
    "        print(string)\n",
    "\n",
    "mc = MyClass(\"Hallo!\")"
   ]
  },
  {
   "cell_type": "markdown",
   "metadata": {
    "application/vnd.databricks.v1+cell": {
     "cellMetadata": {},
     "inputWidgets": {},
     "nuid": "ff8746a2-7605-4121-8c71-c103c5fca017",
     "showTitle": false,
     "title": ""
    }
   },
   "source": [
    "Let me give you a step by step guide below:\n",
    "   - defined the `__init__()` method inside our class as accepting two arguments: `self` and `string`.\n",
    "   - Inside the `__init__()` method, the `print()` function on the `string` argument was called.\n",
    "   - mc (our MyClass object) was instantiated, \"Hallo!\" was passed as an argument. The init function ran immediately, displaying the text \"Hallo!\"\n",
    "    \n",
    "The init method's most common usage is to store data as an attribute:"
   ]
  },
  {
   "cell_type": "code",
   "execution_count": 0,
   "metadata": {
    "application/vnd.databricks.v1+cell": {
     "cellMetadata": {
      "byteLimit": 2048000,
      "rowLimit": 10000
     },
     "inputWidgets": {},
     "nuid": "4d2544cd-6008-443b-85d0-c0c9613139b4",
     "showTitle": false,
     "title": ""
    }
   },
   "outputs": [],
   "source": [
    "class MyClass():\n",
    "    def __init__(self, string):\n",
    "        self.my_attribute = string\n",
    "\n",
    "mc = MyClass(\"Hallo!\") # When we instantiate our new object, \n",
    "# Python calls the init method, passing in the object"
   ]
  },
  {
   "cell_type": "markdown",
   "metadata": {
    "application/vnd.databricks.v1+cell": {
     "cellMetadata": {},
     "inputWidgets": {},
     "nuid": "a4d867ca-9f2f-4bff-bdfd-5a8dbed0a372",
     "showTitle": false,
     "title": ""
    }
   },
   "source": [
    "Our code didn't print any output, but \"Hallo\" was stored in the attribute `my_attribute` inside our object. Like methods, attributes are accessed using dot notation, but attributes don't have parentheses like methods do. Let's use dot notation to access the attribute:"
   ]
  },
  {
   "cell_type": "code",
   "execution_count": 0,
   "metadata": {
    "application/vnd.databricks.v1+cell": {
     "cellMetadata": {
      "byteLimit": 2048000,
      "rowLimit": 10000
     },
     "inputWidgets": {},
     "nuid": "0ef9c245-53b6-4c3f-af89-3592f0ddbd4d",
     "showTitle": false,
     "title": ""
    }
   },
   "outputs": [],
   "source": [
    "print(mc.my_attribute)"
   ]
  },
  {
   "cell_type": "markdown",
   "metadata": {
    "application/vnd.databricks.v1+cell": {
     "cellMetadata": {},
     "inputWidgets": {},
     "nuid": "9cbf3908-7bbd-4237-aff7-31737df9d199",
     "showTitle": false,
     "title": ""
    }
   },
   "source": [
    "To summarize some of the differences between attributes and methods:\n",
    "- An attribute is used to store data, very similar to an variable.\n",
    "- A method is used to perform actions, very similar to a function."
   ]
  },
  {
   "cell_type": "markdown",
   "metadata": {
    "application/vnd.databricks.v1+cell": {
     "cellMetadata": {},
     "inputWidgets": {},
     "nuid": "a5585a76-4e19-40f7-a10a-14c0abfa063b",
     "showTitle": false,
     "title": ""
    }
   },
   "source": [
    "To summarize what we've learned so far:\n",
    "\n",
    "- The power of objects is in their ability to store data.\n",
    "- Data is stored as attributes inside objects.\n",
    "- We access attributes using dot notation.\n",
    "- To give attributes values when we instantiate objects, we pass them as arguments to a special method called `__init__()`, which runs when we instantiate an object.\n",
    "\n",
    "We now have what we need to create a working version of our NewList class! This first version will:\n",
    "\n",
    "- Accept an argument when you instantiate a NewList object.\n",
    "- Use the init method to store that argument in an attribute: `NewList.data`."
   ]
  },
  {
   "cell_type": "markdown",
   "metadata": {
    "application/vnd.databricks.v1+cell": {
     "cellMetadata": {},
     "inputWidgets": {},
     "nuid": "c8bdaa90-c04b-4b41-9c91-1526d8458c5b",
     "showTitle": false,
     "title": ""
    }
   },
   "source": [
    "### Task 2.3.5:\n",
    "\n",
    "1. Define a new class called `NewList()`.\n",
    "2. Create an init method which accepts a single argument, `initial_state`.\n",
    "3. Inside the init method, assign `initial_state` to an attribute called `data`.\n",
    "4. Instantiate an object of your NewList class, providing the list [1, 2, 3, 4, 5] as an argument. Assign the object to the variable name `my_list`.\n",
    "5. Use the `print()` function to display the data attribute of `my_list`."
   ]
  },
  {
   "cell_type": "code",
   "execution_count": 0,
   "metadata": {
    "application/vnd.databricks.v1+cell": {
     "cellMetadata": {
      "byteLimit": 2048000,
      "rowLimit": 10000
     },
     "inputWidgets": {},
     "nuid": "217aa05d-25eb-49de-b769-5229157a0352",
     "showTitle": false,
     "title": ""
    }
   },
   "outputs": [],
   "source": [
    "# Start your code below:\n",
    "\n"
   ]
  },
  {
   "cell_type": "markdown",
   "metadata": {
    "application/vnd.databricks.v1+cell": {
     "cellMetadata": {},
     "inputWidgets": {},
     "nuid": "55573d91-bf9b-44a5-8bb9-d2385712c80d",
     "showTitle": false,
     "title": ""
    }
   },
   "source": [
    "## 6. Creating and Updating an Attribute (OPTIONAL)\n",
    "\n",
    "To summarize the work we've done so far:\n",
    "- We've created a <b>NewList class</b> which stores a list at the point of instantiation using the init constructor.\n",
    "- We stored that list inside an attribute `NewList.data`.\n",
    "    \n",
    "Now we want to add some new functionality: a new attribute. "
   ]
  },
  {
   "cell_type": "markdown",
   "metadata": {
    "application/vnd.databricks.v1+cell": {
     "cellMetadata": {},
     "inputWidgets": {},
     "nuid": "a0390ace-2a55-4ca9-a3cd-3cd811b30687",
     "showTitle": false,
     "title": ""
    }
   },
   "source": [
    "When we want to find the length of a list, we use the `len()` function.\n",
    "What if we created a new attribute, `NewList.length`, which stores the length of our list at all times? We can achieve this by adding some to the init method:"
   ]
  },
  {
   "cell_type": "code",
   "execution_count": 0,
   "metadata": {
    "application/vnd.databricks.v1+cell": {
     "cellMetadata": {
      "byteLimit": 2048000,
      "rowLimit": 10000
     },
     "inputWidgets": {},
     "nuid": "3e83fc6b-6e3d-4a54-8c46-5116e38541d9",
     "showTitle": false,
     "title": ""
    }
   },
   "outputs": [],
   "source": [
    "class NewList():\n",
    "    \"\"\"\n",
    "    A Python list with some extras!\n",
    "    \"\"\"\n",
    "    def __init__(self, initial_state):\n",
    "        self.data = initial_state\n",
    "\n",
    "        # we added code below this comment\n",
    "        length = 0\n",
    "        for item in self.data:\n",
    "            length += 1\n",
    "        self.length = length\n",
    "        # we added code above this comment\n",
    "\n",
    "    def append(self, new_item):\n",
    "        \"\"\"\n",
    "        Append `new_item` to the NewList\n",
    "        \"\"\"\n",
    "        self.data = self.data + [new_item]"
   ]
  },
  {
   "cell_type": "markdown",
   "metadata": {
    "application/vnd.databricks.v1+cell": {
     "cellMetadata": {},
     "inputWidgets": {},
     "nuid": "b6e0e6a5-8fa7-4ce5-a172-3e29dd035692",
     "showTitle": false,
     "title": ""
    }
   },
   "source": [
    "Let's have a closer look at what happens when we use the `NewList.length` attribute as defined above:"
   ]
  },
  {
   "cell_type": "code",
   "execution_count": 0,
   "metadata": {
    "application/vnd.databricks.v1+cell": {
     "cellMetadata": {
      "byteLimit": 2048000,
      "rowLimit": 10000
     },
     "inputWidgets": {},
     "nuid": "fa5f21a0-3bb9-43a2-b96e-f00f259ef139",
     "showTitle": false,
     "title": ""
    }
   },
   "outputs": [],
   "source": [
    "my_list = NewList([1, 2, 3])\n",
    "print(my_list.length)\n",
    "\n",
    "my_list.append(4)\n",
    "print(my_list.length)"
   ]
  },
  {
   "cell_type": "markdown",
   "metadata": {
    "application/vnd.databricks.v1+cell": {
     "cellMetadata": {},
     "inputWidgets": {},
     "nuid": "0b788481-9ccc-4d4f-920b-46b684c2643a",
     "showTitle": false,
     "title": ""
    }
   },
   "source": [
    "Because the code we added that defined `NewList.length` was added **only in the init method, if the list is made longer using the `append()` method, our `NewList.length` attribute is no longer accurate.**\n",
    "\n",
    "To address this, we need to run the code that calculates the length after any operation which modifies the data, which, in our case, is just the `append()` method.\n",
    "\n",
    "Rather than writing the code out twice, we can add a helper method, which calculates the length, and just call that method in the appropriate places.\n",
    "\n",
    "Here's a quick example of a helper method in action:"
   ]
  },
  {
   "cell_type": "code",
   "execution_count": 0,
   "metadata": {
    "application/vnd.databricks.v1+cell": {
     "cellMetadata": {
      "byteLimit": 2048000,
      "rowLimit": 10000
     },
     "inputWidgets": {},
     "nuid": "85c4d8f4-ca69-4df5-a98f-18e85c4a36e3",
     "showTitle": false,
     "title": ""
    }
   },
   "outputs": [],
   "source": [
    "class MyBankBalance():\n",
    "    \"\"\"\n",
    "    An object that tracks a bank\n",
    "    account balance\n",
    "    \"\"\"\n",
    "\n",
    "    def __init__(self, initial_balance):\n",
    "        self.balance = initial_balance\n",
    "        self.calc_string()\n",
    "\n",
    "    def calc_string(self):\n",
    "        \"\"\"\n",
    "        A helper method to update self.string\n",
    "        \"\"\"\n",
    "        string_balance = \"${:,.2f}\".format(self.balance)\n",
    "        self.string = string_balance\n",
    "\n",
    "    def add_value(self, value):\n",
    "        \"\"\"\n",
    "        Add value to the bank balance\n",
    "        \"\"\"\n",
    "        self.balance += value\n",
    "        self.calc_string()\n",
    "\n",
    "mbb = MyBankBalance(3.50)\n",
    "print(mbb.string)"
   ]
  },
  {
   "cell_type": "markdown",
   "metadata": {
    "application/vnd.databricks.v1+cell": {
     "cellMetadata": {},
     "inputWidgets": {},
     "nuid": "cd9f605e-6fcd-4380-9e53-96316cec4a20",
     "showTitle": false,
     "title": ""
    }
   },
   "source": [
    "In the code above, a helper method `MyBankBalance.calc_string()` was created. This method calculate a string representation of object's bank balance stored in the attribute `MyBankBalance.string`. We called that helper method from the init method so it updates based on the initial value."
   ]
  },
  {
   "cell_type": "markdown",
   "metadata": {
    "application/vnd.databricks.v1+cell": {
     "cellMetadata": {},
     "inputWidgets": {},
     "nuid": "db6b38c1-8f0e-4d8d-98be-67f3121b1824",
     "showTitle": false,
     "title": ""
    }
   },
   "source": [
    "Another helper method from the `MyBankBalance.add_value()` method was called, so the value updates whenever the balance is increased: "
   ]
  },
  {
   "cell_type": "code",
   "execution_count": 0,
   "metadata": {
    "application/vnd.databricks.v1+cell": {
     "cellMetadata": {
      "byteLimit": 2048000,
      "rowLimit": 10000
     },
     "inputWidgets": {},
     "nuid": "c0be8b70-1389-4043-bf88-7f333614b015",
     "showTitle": false,
     "title": ""
    }
   },
   "outputs": [],
   "source": [
    "mbb.add_value(17.01)\n",
    "print(mbb.string)"
   ]
  },
  {
   "cell_type": "code",
   "execution_count": 0,
   "metadata": {
    "application/vnd.databricks.v1+cell": {
     "cellMetadata": {
      "byteLimit": 2048000,
      "rowLimit": 10000
     },
     "inputWidgets": {},
     "nuid": "0d0c98a3-3f6b-4322-84d0-b6c545dfc950",
     "showTitle": false,
     "title": ""
    }
   },
   "outputs": [],
   "source": [
    "mbb.add_value(5000)\n",
    "print(mbb.string)"
   ]
  },
  {
   "cell_type": "markdown",
   "metadata": {
    "application/vnd.databricks.v1+cell": {
     "cellMetadata": {},
     "inputWidgets": {},
     "nuid": "6e79f04d-179a-49be-9a65-9eb6d534860b",
     "showTitle": false,
     "title": ""
    }
   },
   "source": [
    "We see that our helper methods are defined after our init method. We mentioned earlier that the order in which you define methods within a class doesn't matter, but there is a convention to order methods as follows:\n",
    "\n",
    "1. Init method\n",
    "2. Other methods"
   ]
  }
 ],
 "metadata": {
  "application/vnd.databricks.v1+notebook": {
   "dashboards": [],
   "environmentMetadata": null,
   "language": "python",
   "notebookMetadata": {
    "pythonIndentUnit": 2
   },
   "notebookName": "3_Object_Oriented_Python",
   "widgets": {}
  }
 },
 "nbformat": 4,
 "nbformat_minor": 0
}
