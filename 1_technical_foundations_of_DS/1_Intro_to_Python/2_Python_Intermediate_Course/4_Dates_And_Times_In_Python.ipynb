{
 "cells": [
  {
   "cell_type": "markdown",
   "metadata": {
    "application/vnd.databricks.v1+cell": {
     "cellMetadata": {},
     "inputWidgets": {},
     "nuid": "bad9d373-8f89-4bab-b5e7-e314af546fe7",
     "showTitle": false,
     "title": ""
    }
   },
   "source": [
    "## About This Notebook\n",
    "\n",
    "Our focus in this notebook is twofold. Firstly, we focus on **understanding modules** and **ways to import them**. This is the more crucial part of this Notebook. Without this knowledge, we won't be able to move forward. Secondly, we will go into dates and times. Do not worry at all if you don't go too thoroughly through this part. You can always come back to this notebook and read through dates and times when you have the need.\n",
    "\n",
    "The data from date/time contains a lot of information:\n",
    "- Weather data with dates and/or times.\n",
    "- Computer logs with the timestamp for each event.\n",
    "- Sales data with date/time range included.\n",
    "\n",
    "In this session, we will be working with records of visitors to the White House which was published in 2009.\n",
    "***"
   ]
  },
  {
   "cell_type": "markdown",
   "metadata": {
    "application/vnd.databricks.v1+cell": {
     "cellMetadata": {},
     "inputWidgets": {},
     "nuid": "37c9bc7b-fead-4051-8e9a-6fca5ffcefdb",
     "showTitle": false,
     "title": ""
    }
   },
   "source": [
    "## 1. Importing Modules (IMPORTANT)\n",
    "\n",
    "In earlier notebooks, we used the csv module to make reading CSV files easier. \n",
    "> In Python, a **module** is simply a collection of variables, functions, and/or classes (which we'll collectively call 'definitions') that can be imported into a Python script.\n",
    "\n",
    "**Python contains many standard modules** that help us perform various tasks, such as performing advanced mathematical operations, working with specific file formats and databases, and working with dates and times.\n",
    "\n",
    "The **csv module** is one of the many standard modules from Python.\n",
    "\n",
    "Whenever we use definitions from a module, we first need to import those definitions. There are a number of ways we can import modules and their definitions using the `import` statement. You can ready more about the `import` statement [here](https://docs.python.org/3/reference/simple_stmts.html#import). \n",
    "\n",
    "*Note: Please note that the cells below are formatted as raw text (not as a code). We do not want to create a mess by importing same module several times, in different ways.*\n",
    "\n",
    "#### 1. Import the whole module by name. This is the most common method for importing a module."
   ]
  },
  {
   "cell_type": "markdown",
   "metadata": {
    "application/vnd.databricks.v1+cell": {
     "cellMetadata": {},
     "inputWidgets": {},
     "nuid": "3801787d-385d-4a8b-a864-0f0196df77c4",
     "showTitle": false,
     "title": ""
    }
   },
   "source": [
    "````python\n",
    "# import the module\n",
    "import csv\n",
    "\n",
    "# definitions are available using the format\n",
    "# module_name.definition_name\n",
    "csv.reader()\n",
    "````"
   ]
  },
  {
   "cell_type": "markdown",
   "metadata": {
    "application/vnd.databricks.v1+cell": {
     "cellMetadata": {},
     "inputWidgets": {},
     "nuid": "5fb16bbb-b2f2-484b-9f00-0dfde7a6b3bc",
     "showTitle": false,
     "title": ""
    }
   },
   "source": [
    "#### 2. Import the whole module with an ``alias``. This is especially useful if a module name is long and we need to type it a lot."
   ]
  },
  {
   "cell_type": "markdown",
   "metadata": {
    "application/vnd.databricks.v1+cell": {
     "cellMetadata": {},
     "inputWidgets": {},
     "nuid": "b34f2414-a4aa-4440-a933-678cbf0fbac7",
     "showTitle": false,
     "title": ""
    }
   },
   "source": [
    "````python\n",
    "# import the module with an alias\n",
    "import csv as c\n",
    "\n",
    "# definitions are available using the format\n",
    "# alias.definition_name\n",
    "c.reader()\n",
    "````"
   ]
  },
  {
   "cell_type": "markdown",
   "metadata": {
    "application/vnd.databricks.v1+cell": {
     "cellMetadata": {},
     "inputWidgets": {},
     "nuid": "068d7947-d2a6-4d36-8495-89dd0440fb99",
     "showTitle": false,
     "title": ""
    }
   },
   "source": [
    "#### 3. Import one or more definitions from the module by name. This is the technique we've used so far. This technique is useful if you want only a single or select definitions and don't want to import everything."
   ]
  },
  {
   "cell_type": "markdown",
   "metadata": {
    "application/vnd.databricks.v1+cell": {
     "cellMetadata": {},
     "inputWidgets": {},
     "nuid": "50ddad3d-a5c6-4978-992e-506388d0d6c5",
     "showTitle": false,
     "title": ""
    }
   },
   "source": [
    "````python\n",
    "# import a single definition\n",
    "from csv import reader\n",
    "\n",
    "# the definition you imported is available\n",
    "# by name\n",
    "reader()\n",
    "````"
   ]
  },
  {
   "cell_type": "markdown",
   "metadata": {
    "application/vnd.databricks.v1+cell": {
     "cellMetadata": {},
     "inputWidgets": {},
     "nuid": "c1e60c30-1a1f-49ad-b051-0cd4a65e801c",
     "showTitle": false,
     "title": ""
    }
   },
   "source": [
    "````python\n",
    "# import multiple definitions\n",
    "from csv import reader, writer\n",
    "\n",
    "# the definitions you imported are available\n",
    "# using the format definition_name\n",
    "reader()\n",
    "writer()\n",
    "````"
   ]
  },
  {
   "cell_type": "markdown",
   "metadata": {
    "application/vnd.databricks.v1+cell": {
     "cellMetadata": {},
     "inputWidgets": {},
     "nuid": "d670fe82-7079-42cb-82bc-af149c41539c",
     "showTitle": false,
     "title": ""
    }
   },
   "source": [
    "#### 4. Import all definitions with a wildcard. This is useful if you want to import and use many definitions from a module."
   ]
  },
  {
   "cell_type": "markdown",
   "metadata": {
    "application/vnd.databricks.v1+cell": {
     "cellMetadata": {},
     "inputWidgets": {},
     "nuid": "2174aa8f-1672-4590-bd94-723d963e4226",
     "showTitle": false,
     "title": ""
    }
   },
   "source": [
    "````python\n",
    "# import all definitions\n",
    "from csv import *\n",
    "\n",
    "# all definitions from the module are\n",
    "# available using the format definition_name\n",
    "reader()\n",
    "writer()\n",
    "get_dialect()\n",
    "````"
   ]
  },
  {
   "cell_type": "markdown",
   "metadata": {
    "application/vnd.databricks.v1+cell": {
     "cellMetadata": {},
     "inputWidgets": {},
     "nuid": "4eb7ac84-acf1-4eb8-8b64-6a7eff2bfed7",
     "showTitle": false,
     "title": ""
    }
   },
   "source": [
    "Choosing which option to use when importing is often a matter of taste, but it's good to keep in mind how each choice can affect the readability of your code:\n",
    "\n",
    "- If we're importing a long-name module by name and use it often, our code can become harder to read.\n",
    "- If we use an uncommon alias, it may not be clear in our code which module we are using.\n",
    "- If we use the specific definition or wildcard approach, and the script is long or complex, it may not be immediately clear where a definition comes from. This can also be a problem if we use this approach with multiple modules.\n",
    "- If we use the specific definition or wildcard approach, it's easier to accidentally overwrite an imported definition.\n",
    "\n",
    "In the end, there is often more than one \"correct\" way, so the most important thing is to be mindful of the trade-offs when you make a decision on how to import definitions from modules.\n",
    "\n",
    "We'll learn about these trade-offs in the next screen as we learn about Python's datetime module, and make a decision on how to import it for our needs."
   ]
  },
  {
   "cell_type": "markdown",
   "metadata": {
    "application/vnd.databricks.v1+cell": {
     "cellMetadata": {},
     "inputWidgets": {},
     "nuid": "5d92bd62-ba3a-48b5-b25c-bb5e8806aa30",
     "showTitle": false,
     "title": ""
    }
   },
   "source": [
    "## 2. The Datetime Module\n",
    "\n",
    "There are three standard modules in Python that can help us working with dates and times.\n",
    "- The calendar module\n",
    "- The time module\n",
    "- The datetime module\n",
    "\n",
    "The module that we will go in deep into is the\n",
    "[datetime module](https://docs.python.org/3/library/datetime.html#module-datetime). \n",
    "\n",
    "The datetime module contains a number of classes, including:\n",
    "\n",
    "- `datetime.datetime`: For working with date and time data.\n",
    "- `datetime.time`: For working with time data only.\n",
    "- `datetime.timedelta`: For representing time periods.\n",
    "\n",
    "You see that the first class, datetime, has the same name as the module. This could create confusion in our code. Now, let's look at different ways of importing and working with this first class, and the pros and cons.\n",
    "\n",
    "<b>Import the whole module by name</b>\n",
    "- Pro: It's super clear whenever you use datetime whether you're referring to the module or the class.\n",
    "- Con: It has the potential to create long lines of code, which can be harder to read.\n",
    "See example below:"
   ]
  },
  {
   "cell_type": "markdown",
   "metadata": {
    "application/vnd.databricks.v1+cell": {
     "cellMetadata": {},
     "inputWidgets": {},
     "nuid": "7a151322-f78c-46dd-a085-b6dcd61eede2",
     "showTitle": false,
     "title": ""
    }
   },
   "source": [
    "````python\n",
    "# import the datetime module\n",
    "import datetime\n",
    "\n",
    "# use the datetime class\n",
    "my_datetime_object = datetime.datetime()\n",
    "# the first datetime represents the datetime module\n",
    "# the second datetime represents the datetime class\n",
    "\n",
    "````"
   ]
  },
  {
   "cell_type": "markdown",
   "metadata": {
    "application/vnd.databricks.v1+cell": {
     "cellMetadata": {},
     "inputWidgets": {},
     "nuid": "f851612a-59d8-44ff-bb11-67235ba08e01",
     "showTitle": false,
     "title": ""
    }
   },
   "source": [
    "<b>Import definitions via name or wildcard</b>\n",
    "- Pro: Shorter lines of code, which are easier to read.\n",
    "- Con: When we use datetime, it's not clear whether we are referring to the module or the class.\n",
    "\n",
    "See Example below:"
   ]
  },
  {
   "cell_type": "markdown",
   "metadata": {
    "application/vnd.databricks.v1+cell": {
     "cellMetadata": {},
     "inputWidgets": {},
     "nuid": "d4228304-62f3-476a-abf5-41953f182b4f",
     "showTitle": false,
     "title": ""
    }
   },
   "source": [
    "````python\n",
    "# import the datetime class\n",
    "from datetime import datetime \n",
    "\n",
    "# import all definitions using wildcard\n",
    "from datetime import *\n",
    "\n",
    "# use the datetime class\n",
    "my_datetime_object = datetime()\n",
    "````"
   ]
  },
  {
   "cell_type": "markdown",
   "metadata": {
    "application/vnd.databricks.v1+cell": {
     "cellMetadata": {},
     "inputWidgets": {},
     "nuid": "29929db8-cb23-4ead-9121-68ed98aa6345",
     "showTitle": false,
     "title": ""
    }
   },
   "source": [
    "<b> Import whole module by alias </b>\n",
    "- Pro: There is no ambiguity between dt (alias for the module) and dt.datetime (the class).\n",
    "- Con: The dt alias isn't common convention, which would cause some confusion for other people reading our code.\n",
    "See example below:"
   ]
  },
  {
   "cell_type": "markdown",
   "metadata": {
    "application/vnd.databricks.v1+cell": {
     "cellMetadata": {},
     "inputWidgets": {},
     "nuid": "7a745488-69e9-4341-856e-0a5f997e375c",
     "showTitle": false,
     "title": ""
    }
   },
   "source": [
    "````python\n",
    "# import the datetime module \n",
    "import datetime as dt\n",
    "\n",
    "# use the datetime class\n",
    "my_datetime_object = dt.datetime()\n",
    "\n",
    "# dt is the alias for the datetime module\n",
    "# datetime() is the datetime class as we mentioned before\n",
    "````"
   ]
  },
  {
   "cell_type": "markdown",
   "metadata": {
    "application/vnd.databricks.v1+cell": {
     "cellMetadata": {},
     "inputWidgets": {},
     "nuid": "0ae3e152-ccc7-46b8-b8c7-24fb98914cb9",
     "showTitle": false,
     "title": ""
    }
   },
   "source": [
    "### Task 2.4.2:\n",
    "Your exercise is to import the datetime module with the alias `dt`."
   ]
  },
  {
   "cell_type": "code",
   "execution_count": 0,
   "metadata": {
    "application/vnd.databricks.v1+cell": {
     "cellMetadata": {
      "byteLimit": 2048000,
      "rowLimit": 10000
     },
     "inputWidgets": {},
     "nuid": "36a7b8b2-56c1-4ce9-9547-648cd22e3eec",
     "showTitle": false,
     "title": ""
    }
   },
   "outputs": [],
   "source": [
    "#Start your code below:\n"
   ]
  },
  {
   "cell_type": "markdown",
   "metadata": {
    "application/vnd.databricks.v1+cell": {
     "cellMetadata": {},
     "inputWidgets": {},
     "nuid": "9cb36e18-7042-4615-8cdf-18ea8714301e",
     "showTitle": false,
     "title": ""
    }
   },
   "source": [
    "## 3. The Datetime Class\n",
    "\n",
    "The datetime.datetime class is the most commonly-used class from the datetime module, and has attributes and methods designed to work with data containing both the date and time. The signature of the class is below (with some lesser used parameters omitted):"
   ]
  },
  {
   "cell_type": "markdown",
   "metadata": {
    "application/vnd.databricks.v1+cell": {
     "cellMetadata": {},
     "inputWidgets": {},
     "nuid": "e6b3a6f7-82f4-495f-8014-1d332c9c7199",
     "showTitle": false,
     "title": ""
    }
   },
   "source": [
    "````python \n",
    "datetime.datetime(year, month, day, hour=0, minute=0, second=0)\n",
    "````"
   ]
  },
  {
   "cell_type": "markdown",
   "metadata": {
    "application/vnd.databricks.v1+cell": {
     "cellMetadata": {},
     "inputWidgets": {},
     "nuid": "3fb1e26d-1fa6-474e-abdc-7ded2a9cd6c8",
     "showTitle": false,
     "title": ""
    }
   },
   "source": [
    "The above code indicates that the `year`, `month`, and `day` arguments are required. The time arguments are optional and can be set to the equivalent of midnight if omitted.\n",
    "\n",
    "Now, let's take a look at an example of creating a datetime object."
   ]
  },
  {
   "cell_type": "code",
   "execution_count": 0,
   "metadata": {
    "application/vnd.databricks.v1+cell": {
     "cellMetadata": {
      "byteLimit": 2048000,
      "rowLimit": 10000
     },
     "inputWidgets": {},
     "nuid": "c26e49f6-1112-4b37-9079-d6d6394a93ec",
     "showTitle": false,
     "title": ""
    }
   },
   "outputs": [],
   "source": [
    "# we'll import the datetime module and give it the alias dt\n",
    "import datetime as dt\n",
    "\n",
    "# we'll instantiate an object representing January 1, 2000\n",
    "eg_1 = dt.datetime(2000, 1, 1)\n",
    "print(eg_1)\n",
    "\n",
    "# Let's instantiate a second object\n",
    "# this time with both a date and a time\n",
    "eg_2 = dt.datetime(1990, 4, 22, 21, 26, 2)\n",
    "print(eg_2)"
   ]
  },
  {
   "cell_type": "markdown",
   "metadata": {
    "application/vnd.databricks.v1+cell": {
     "cellMetadata": {},
     "inputWidgets": {},
     "nuid": "e6963494-c4a3-4422-94fe-eb624f1f6163",
     "showTitle": false,
     "title": ""
    }
   },
   "source": [
    "This object represents 26 minutes and 2 seconds past 9 p.m. on the 22th of April, 1990."
   ]
  },
  {
   "cell_type": "markdown",
   "metadata": {
    "application/vnd.databricks.v1+cell": {
     "cellMetadata": {},
     "inputWidgets": {},
     "nuid": "c17dc0b0-cf0e-4806-80f0-7f705f47c98c",
     "showTitle": false,
     "title": ""
    }
   },
   "source": [
    "We can specify some but not all time arguments — in the following example we pass a value for hour and minute but not for second:"
   ]
  },
  {
   "cell_type": "code",
   "execution_count": 0,
   "metadata": {
    "application/vnd.databricks.v1+cell": {
     "cellMetadata": {
      "byteLimit": 2048000,
      "rowLimit": 10000
     },
     "inputWidgets": {},
     "nuid": "542766e5-eb0a-4c04-badd-acbd594db9af",
     "showTitle": false,
     "title": ""
    }
   },
   "outputs": [],
   "source": [
    "import datetime as dt\n",
    "\n",
    "eg_3 = dt.datetime(1997, 10, 7, 9, 22)\n",
    "print(eg_3)"
   ]
  },
  {
   "cell_type": "markdown",
   "metadata": {
    "application/vnd.databricks.v1+cell": {
     "cellMetadata": {},
     "inputWidgets": {},
     "nuid": "46abe5e8-56ed-4189-8dfd-a9bc15b3e20d",
     "showTitle": false,
     "title": ""
    }
   },
   "source": [
    "This object `eg_3` represents 9:22 a.m. on the 7th of October, 1997."
   ]
  },
  {
   "cell_type": "markdown",
   "metadata": {
    "application/vnd.databricks.v1+cell": {
     "cellMetadata": {},
     "inputWidgets": {},
     "nuid": "6831474e-5e03-4285-bec8-a8f0ea1e7b2c",
     "showTitle": false,
     "title": ""
    }
   },
   "source": [
    "### Task 2.4.3:\n",
    "\n",
    "1. Import the datetime class using the alias `dt`.\n",
    "2. Instantiate a datetime object representing midnight on June 16, 1911. Assign the object to the variable name `ibm_founded`.\n",
    "3. Instantiate a datetime object representing 8:17 p.m. on July 20, 1969. Assign the object to the variable name `man_on_moon`."
   ]
  },
  {
   "cell_type": "code",
   "execution_count": 0,
   "metadata": {
    "application/vnd.databricks.v1+cell": {
     "cellMetadata": {
      "byteLimit": 2048000,
      "rowLimit": 10000
     },
     "inputWidgets": {},
     "nuid": "7b7cea99-ccc7-4dad-bc2b-e09d7ebd8d37",
     "showTitle": false,
     "title": ""
    }
   },
   "outputs": [],
   "source": [
    "# Start your code below:\n"
   ]
  },
  {
   "cell_type": "markdown",
   "metadata": {
    "application/vnd.databricks.v1+cell": {
     "cellMetadata": {},
     "inputWidgets": {},
     "nuid": "3e021839-b503-451c-98b9-5a93002492fa",
     "showTitle": false,
     "title": ""
    }
   },
   "source": [
    "## 4. Using Strptime to Parse Strings as Dates"
   ]
  },
  {
   "cell_type": "markdown",
   "metadata": {
    "application/vnd.databricks.v1+cell": {
     "cellMetadata": {},
     "inputWidgets": {},
     "nuid": "5a631c04-5fa6-452d-a2cb-e43d7ee5242d",
     "showTitle": false,
     "title": ""
    }
   },
   "source": [
    "Take a look at the code cell below. What we do there is trying to turn the date and time information stored in a string into a datetime object. It is a bit tricky as we need to use various methods to clean the string."
   ]
  },
  {
   "cell_type": "code",
   "execution_count": 0,
   "metadata": {
    "application/vnd.databricks.v1+cell": {
     "cellMetadata": {
      "byteLimit": 2048000,
      "rowLimit": 10000
     },
     "inputWidgets": {},
     "nuid": "19fcb96d-ca45-4e0d-909b-ad6cadc15384",
     "showTitle": false,
     "title": ""
    }
   },
   "outputs": [],
   "source": [
    "import datetime as dt\n",
    "\n",
    "date_string = '12/18/15 16:39'\n",
    "\n",
    "#Split date_string into two strings, either side of the space character\n",
    "date,time = date_string.split()\n",
    "\n",
    "#Split into string date components by their respective separators\n",
    "hr, mn = time.split(':')\n",
    "mnth, day, yr = date.split('/')\n",
    "\n",
    "#Convert the string date components to integer components\n",
    "hr = int(hr)\n",
    "mn = int(mn)\n",
    "mnth = int(mnth)\n",
    "day = int(day)\n",
    "yr = int(yr)\n",
    "\n",
    "#Use the integer components to instantiate a datetime object\n",
    "date_dt = dt.datetime(yr, mnth, day, hr, mn)\n",
    "\n",
    "print(date_dt)\n",
    "print(type(date_dt))"
   ]
  },
  {
   "cell_type": "markdown",
   "metadata": {
    "application/vnd.databricks.v1+cell": {
     "cellMetadata": {},
     "inputWidgets": {},
     "nuid": "b4d9402a-7f05-45b4-ac6d-8cbae7c0b543",
     "showTitle": false,
     "title": ""
    }
   },
   "source": [
    "We see that `datetime.strptime()` [constructor](https://docs.python.org/3/library/datetime.html#datetime.datetime.strptime) returns a datetime object. It defined the datetime object using a syntax system to describe date and time formats called `strftime`. (Pay attention to strftime with an \"f\" versus the constructor strptime with a \"p\".)\n",
    "\n",
    "The strftime syntax consists of a `%` character followed by a single character which specifies a date or time part in a particular format.\n",
    "\n",
    "For example \"09/102/1998\":"
   ]
  },
  {
   "cell_type": "code",
   "execution_count": 0,
   "metadata": {
    "application/vnd.databricks.v1+cell": {
     "cellMetadata": {
      "byteLimit": 2048000,
      "rowLimit": 10000
     },
     "inputWidgets": {},
     "nuid": "a7dc73c4-bff4-4e76-b2c6-706cf46cec6c",
     "showTitle": false,
     "title": ""
    }
   },
   "outputs": [],
   "source": [
    "import datetime as dt\n",
    "\n",
    "dt.datetime.strptime(\"09/02/1998\", \"%d/%m/%Y\")\n",
    "\n",
    "#%d - the day of the month in a two digit format, eg \"09\"\n",
    "#%m - the month of the year in a two digit format, eg \"02\"\n",
    "#%Y - the year in a four digit format, eg \"1998\""
   ]
  },
  {
   "cell_type": "markdown",
   "metadata": {
    "application/vnd.databricks.v1+cell": {
     "cellMetadata": {},
     "inputWidgets": {},
     "nuid": "0f6bbde7-c485-4301-9695-0623cd80d8b1",
     "showTitle": false,
     "title": ""
    }
   },
   "source": [
    "The first argument from the `datetime.strptime()` constructor is the string we want to parse, and the second argument is a string that helps us specify the format of the datetime object.\n",
    "\n",
    "The `%d`, `%m`, and `%Y` format codes specify a two-digit day, two-digit month, and four-digit year respectively, and the forward slashes between them specify the forward slashes in the original string. Let's take a look at an example below:"
   ]
  },
  {
   "cell_type": "code",
   "execution_count": 0,
   "metadata": {
    "application/vnd.databricks.v1+cell": {
     "cellMetadata": {
      "byteLimit": 2048000,
      "rowLimit": 10000
     },
     "inputWidgets": {},
     "nuid": "084bb769-335a-4f47-a7cb-c1f00d495dbf",
     "showTitle": false,
     "title": ""
    }
   },
   "outputs": [],
   "source": [
    "date_1_str = \"24/12/1984\"\n",
    "date_1_dt = dt.datetime.strptime(date_1_str, \"%d/%m/%Y\")\n",
    "print(type(date_1_dt))\n",
    "print(date_1_dt)"
   ]
  },
  {
   "cell_type": "markdown",
   "metadata": {
    "application/vnd.databricks.v1+cell": {
     "cellMetadata": {},
     "inputWidgets": {},
     "nuid": "c92e4225-cc3f-48da-b6ce-9dbe17a7e752",
     "showTitle": false,
     "title": ""
    }
   },
   "source": [
    "Do you see that the constructor returns a datetime object?\n",
    "\n",
    "Now, let's look at another example: \"12-24-1984\", the same exact date as above. What's different is the date parts are separated using a dash instead of a slash, in addition the order of the day and month are reversed:"
   ]
  },
  {
   "cell_type": "code",
   "execution_count": 0,
   "metadata": {
    "application/vnd.databricks.v1+cell": {
     "cellMetadata": {
      "byteLimit": 2048000,
      "rowLimit": 10000
     },
     "inputWidgets": {},
     "nuid": "aef08060-fe9a-422b-96b9-75e4cb83789b",
     "showTitle": false,
     "title": ""
    }
   },
   "outputs": [],
   "source": [
    "date_2_str = \"12-24-1984\"\n",
    "date_2_dt = dt.datetime.strptime(date_2_str, \"%m-%d-%Y\")\n",
    "print(date_2_dt)\n",
    "\n",
    "# %m - the month of the year in a wo digit format\n",
    "# %d - the day of the month in a two digit format\n",
    "# %Y - the year in a four digit format"
   ]
  },
  {
   "cell_type": "markdown",
   "metadata": {
    "application/vnd.databricks.v1+cell": {
     "cellMetadata": {},
     "inputWidgets": {},
     "nuid": "0f26c733-b7dd-402e-8439-437037758a97",
     "showTitle": false,
     "title": ""
    }
   },
   "source": [
    "Below is a table of the most common format codes, take a look and simply know their existance. You don't need to known them by heart, you can always look them up in the [Python documentation](https://docs.python.org/3/library/datetime.html#strftime-strptime-behavior).\n",
    "\n",
    "|Strftime Code| Meaning| Examples|\n",
    "|-|-|-|\n",
    "|%d|Day of the month as a zero-padded number1|04|\n",
    "|%A|Day of the week as a word2|Monday|\n",
    "|%m|Month as a zero-padded number1|09|\n",
    "|%Y|Year as a four-digit number|1901|\n",
    "|%y|Year as a two-digit number with zero-padding1, 3|01 (2001), 88 (1988)|\n",
    "|%B|Month as a word2|September|\n",
    "|%H|Hour in 24 hour time as zero-padded number1|05 (5 a.m.),15 (3 p.m.)|\n",
    "|%p|a.m. or p.m.2|AM|\n",
    "|%I|Hour in 12 hour time as zero-padded number1|05 (5 a.m., or 5 p.m. if AM/PM indicates otherwise)|\n",
    "|%M|Minute as a zero-padded number1|07|"
   ]
  },
  {
   "cell_type": "markdown",
   "metadata": {
    "application/vnd.databricks.v1+cell": {
     "cellMetadata": {},
     "inputWidgets": {},
     "nuid": "ba6cdfaa-8d74-459f-9dbc-5d08c346169e",
     "showTitle": false,
     "title": ""
    }
   },
   "source": [
    "## 5. Using Strftime to format dates\n",
    "\n",
    "Below is a list of attributes from the <b> datetime </b> class, which can help us retrieve the various parts that make up the date stored within the object much easier:\n",
    "\n",
    "- `datetime.day:` The day of the month.\n",
    "- `datetime.month:` The month of the year.\n",
    "- `datetime.year:` The year.\n",
    "- `datetime.hour:` The hour of the day.\n",
    "- `datetime.minute:` The minute of the hour.\n",
    "\n",
    "How can we use those attributes to extract the values? Look at the example below:"
   ]
  },
  {
   "cell_type": "code",
   "execution_count": 0,
   "metadata": {
    "application/vnd.databricks.v1+cell": {
     "cellMetadata": {
      "byteLimit": 2048000,
      "rowLimit": 10000
     },
     "inputWidgets": {},
     "nuid": "d83a7c30-9c55-406e-8875-860d10a1ea8f",
     "showTitle": false,
     "title": ""
    }
   },
   "outputs": [],
   "source": [
    "dt_object = dt.datetime(1984, 12, 24)\n",
    "\n",
    "# We retrieve day value\n",
    "day = dt_object.day \n",
    "\n",
    "# We retrieve month value\n",
    "month = dt_object.month\n",
    "\n",
    "# We retrieve year value\n",
    "year = dt_object.year\n",
    "\n",
    "# We use the retrieved value and form a new string\n",
    "dt_string = \"{}/{}/{}\".format(day, month, year)\n",
    "print(dt_string)\n",
    "print(type(dt_string))"
   ]
  },
  {
   "cell_type": "markdown",
   "metadata": {
    "application/vnd.databricks.v1+cell": {
     "cellMetadata": {},
     "inputWidgets": {},
     "nuid": "94632a85-e513-4922-aff8-4c3b662a685d",
     "showTitle": false,
     "title": ""
    }
   },
   "source": [
    "It seems like what we performed above is a lot of code. There is a much easier method called [` datetime.strftime() `](https://docs.python.org/3/library/datetime.html#datetime.datetime.strftime), which will return a string representation of the date using the strftime syntax. Don't mix up strptime and strftime:\n",
    "- strptime >> str-p-time >> string parse time\n",
    "- strftime >> str-f-time >> string format time\n",
    "\n",
    "With the `strftime()` method we can use `%d`, `%m`, and `%Y` to represent the date, month, and year."
   ]
  },
  {
   "cell_type": "code",
   "execution_count": 0,
   "metadata": {
    "application/vnd.databricks.v1+cell": {
     "cellMetadata": {
      "byteLimit": 2048000,
      "rowLimit": 10000
     },
     "inputWidgets": {},
     "nuid": "91e93495-ee15-4a6b-a0e4-fb4b49885be0",
     "showTitle": false,
     "title": ""
    }
   },
   "outputs": [],
   "source": [
    "dt_object = dt.datetime(1984, 12, 24)\n",
    "dt_string = dt_object.strftime(\"%d/%m/%Y\")\n",
    "print(dt_string)"
   ]
  },
  {
   "cell_type": "markdown",
   "metadata": {
    "application/vnd.databricks.v1+cell": {
     "cellMetadata": {},
     "inputWidgets": {},
     "nuid": "22a386f5-70b5-4dd4-8022-25a87de7f332",
     "showTitle": false,
     "title": ""
    }
   },
   "source": [
    "Another way is, we can use `%B` to represent the month as a word:"
   ]
  },
  {
   "cell_type": "code",
   "execution_count": 0,
   "metadata": {
    "application/vnd.databricks.v1+cell": {
     "cellMetadata": {
      "byteLimit": 2048000,
      "rowLimit": 10000
     },
     "inputWidgets": {},
     "nuid": "f1d81527-2fcf-4ac3-9373-1844d0e5b21b",
     "showTitle": false,
     "title": ""
    }
   },
   "outputs": [],
   "source": [
    "dt_string = dt_object.strftime(\"%B %d, %Y\")\n",
    "print(dt_string)"
   ]
  },
  {
   "cell_type": "markdown",
   "metadata": {
    "application/vnd.databricks.v1+cell": {
     "cellMetadata": {},
     "inputWidgets": {},
     "nuid": "8d6ae952-c61f-46f5-a602-6245c16cc16a",
     "showTitle": false,
     "title": ""
    }
   },
   "source": [
    "What else can we do? For a more granular representation of the time, we can use `%A`, `%I`, `%M`, and `%p` to represent the day of the week, the hour of the day, the minute of the hour, and a.m./p.m.:"
   ]
  },
  {
   "cell_type": "code",
   "execution_count": 0,
   "metadata": {
    "application/vnd.databricks.v1+cell": {
     "cellMetadata": {
      "byteLimit": 2048000,
      "rowLimit": 10000
     },
     "inputWidgets": {},
     "nuid": "95ba7e8a-3e2b-4451-b587-437fe083c923",
     "showTitle": false,
     "title": ""
    }
   },
   "outputs": [],
   "source": [
    "dt_string = dt_object.strftime(\"%A %B %d at %I:%M %p\")\n",
    "print(dt_string)"
   ]
  },
  {
   "cell_type": "markdown",
   "metadata": {
    "application/vnd.databricks.v1+cell": {
     "cellMetadata": {},
     "inputWidgets": {},
     "nuid": "b39530e2-ba32-4967-b58f-d066972e4783",
     "showTitle": false,
     "title": ""
    }
   },
   "source": [
    "## 6. The Time Class\n",
    "\n",
    "The time class holds only time data: hours, minutes, seconds, and microseconds.\n",
    "An example to instantiate a time object is like this:"
   ]
  },
  {
   "cell_type": "code",
   "execution_count": 0,
   "metadata": {
    "application/vnd.databricks.v1+cell": {
     "cellMetadata": {
      "byteLimit": 2048000,
      "rowLimit": 10000
     },
     "inputWidgets": {},
     "nuid": "57634bb3-e959-4301-b2d2-6b3b68e23187",
     "showTitle": false,
     "title": ""
    }
   },
   "outputs": [],
   "source": [
    "import datetime as dt\n",
    "\n",
    "dt.time(hour=0, minute=0, second=0, microsecond=0)"
   ]
  },
  {
   "cell_type": "markdown",
   "metadata": {
    "application/vnd.databricks.v1+cell": {
     "cellMetadata": {},
     "inputWidgets": {},
     "nuid": "0c45b8e2-fb88-4052-b6db-ff6f4b3e652b",
     "showTitle": false,
     "title": ""
    }
   },
   "source": [
    "It is also possible to instantiate a time object without arguments. It will simply represent the time \"0:00:00\" (midnight). Otherwise, we can pass arguments for any or all of the hour, minute and second and microsecond parameters. Let's look at an example for the time 6:30 p.m.:"
   ]
  },
  {
   "cell_type": "code",
   "execution_count": 0,
   "metadata": {
    "application/vnd.databricks.v1+cell": {
     "cellMetadata": {
      "byteLimit": 2048000,
      "rowLimit": 10000
     },
     "inputWidgets": {},
     "nuid": "6b565f7d-eddc-4bfb-b637-2b0c9adfa51d",
     "showTitle": false,
     "title": ""
    }
   },
   "outputs": [],
   "source": [
    "two_thirty = dt.time(18, 30)\n",
    "print(two_thirty)"
   ]
  },
  {
   "cell_type": "markdown",
   "metadata": {
    "application/vnd.databricks.v1+cell": {
     "cellMetadata": {},
     "inputWidgets": {},
     "nuid": "8fd83475-9f42-49a2-a28b-8e862e090b86",
     "showTitle": false,
     "title": ""
    }
   },
   "source": [
    "Pay attention that we provided arguments in 24-hour time (an integer between 0 and 23). Let's look at an example of instantiating a time object for five seconds after 10 a.m.:"
   ]
  },
  {
   "cell_type": "code",
   "execution_count": 0,
   "metadata": {
    "application/vnd.databricks.v1+cell": {
     "cellMetadata": {
      "byteLimit": 2048000,
      "rowLimit": 10000
     },
     "inputWidgets": {},
     "nuid": "5238e15f-0628-4f17-8ff2-91c34ab73249",
     "showTitle": false,
     "title": ""
    }
   },
   "outputs": [],
   "source": [
    "five_sec_after_10am = dt.time(10,0,5)\n",
    "print(five_sec_after_10am)"
   ]
  },
  {
   "cell_type": "markdown",
   "metadata": {
    "application/vnd.databricks.v1+cell": {
     "cellMetadata": {},
     "inputWidgets": {},
     "nuid": "a77e9073-6f75-46c2-a60a-4db4570839e7",
     "showTitle": false,
     "title": ""
    }
   },
   "source": [
    "We can also create a time object from a datetime object using the `datetime.datetime.time()` method. This method returns a time object representing the time data from the datetime object."
   ]
  },
  {
   "cell_type": "code",
   "execution_count": 0,
   "metadata": {
    "application/vnd.databricks.v1+cell": {
     "cellMetadata": {
      "byteLimit": 2048000,
      "rowLimit": 10000
     },
     "inputWidgets": {},
     "nuid": "6eb73802-71fb-4888-a908-f13a1c9ddccb",
     "showTitle": false,
     "title": ""
    }
   },
   "outputs": [],
   "source": [
    "# Version one\n",
    "jfk_shot_dt = dt.datetime(1963, 11, 22, 12, 30)\n",
    "print(jfk_shot_dt)"
   ]
  },
  {
   "cell_type": "code",
   "execution_count": 0,
   "metadata": {
    "application/vnd.databricks.v1+cell": {
     "cellMetadata": {
      "byteLimit": 2048000,
      "rowLimit": 10000
     },
     "inputWidgets": {},
     "nuid": "fe5b5002-4528-462d-8ba4-64fbfb450e3c",
     "showTitle": false,
     "title": ""
    }
   },
   "outputs": [],
   "source": [
    "# Version two\n",
    "jfk_shot_t = jfk_shot_dt.time()\n",
    "print(jfk_shot_t)"
   ]
  },
  {
   "cell_type": "markdown",
   "metadata": {
    "application/vnd.databricks.v1+cell": {
     "cellMetadata": {},
     "inputWidgets": {},
     "nuid": "16eeed72-0aa2-40fc-8c95-6388a6c8659d",
     "showTitle": false,
     "title": ""
    }
   },
   "source": [
    "There is no `strptime()` constructor within the time class.  But if we need to parse times in string form, `datetime.strptime()` can be used and then converted directly to a time object like this:"
   ]
  },
  {
   "cell_type": "code",
   "execution_count": 0,
   "metadata": {
    "application/vnd.databricks.v1+cell": {
     "cellMetadata": {
      "byteLimit": 2048000,
      "rowLimit": 10000
     },
     "inputWidgets": {},
     "nuid": "277c5480-9843-4b31-b8b7-bc324e7e0d65",
     "showTitle": false,
     "title": ""
    }
   },
   "outputs": [],
   "source": [
    "time_str = \"8:00\"\n",
    "time_dt = dt.datetime.strptime(time_str,\"%H:%M\")\n",
    "print(time_dt)"
   ]
  },
  {
   "cell_type": "code",
   "execution_count": 0,
   "metadata": {
    "application/vnd.databricks.v1+cell": {
     "cellMetadata": {
      "byteLimit": 2048000,
      "rowLimit": 10000
     },
     "inputWidgets": {},
     "nuid": "b400533d-9631-4607-9999-54a376d48869",
     "showTitle": false,
     "title": ""
    }
   },
   "outputs": [],
   "source": [
    "time_t = time_dt.time()\n",
    "print(time_t)"
   ]
  },
  {
   "cell_type": "markdown",
   "metadata": {
    "application/vnd.databricks.v1+cell": {
     "cellMetadata": {},
     "inputWidgets": {},
     "nuid": "c6f2a5c0-68ce-4df1-9e04-347d51297e84",
     "showTitle": false,
     "title": ""
    }
   },
   "source": [
    "## 7. Comparing time objects\n",
    "\n",
    "One of the best features of time objects is comparison. Take a look at the comparison example below:"
   ]
  },
  {
   "cell_type": "code",
   "execution_count": 0,
   "metadata": {
    "application/vnd.databricks.v1+cell": {
     "cellMetadata": {
      "byteLimit": 2048000,
      "rowLimit": 10000
     },
     "inputWidgets": {},
     "nuid": "f84fece4-5e4e-4cc3-affe-132f2ee9c5b1",
     "showTitle": false,
     "title": ""
    }
   },
   "outputs": [],
   "source": [
    "t1 = dt.time(15, 30)\n",
    "t2 = dt.time(10, 45)\n",
    "\n",
    "comparison = t1 > t2\n",
    "print(comparison)"
   ]
  },
  {
   "cell_type": "markdown",
   "metadata": {
    "application/vnd.databricks.v1+cell": {
     "cellMetadata": {},
     "inputWidgets": {},
     "nuid": "50cf0e39-1e91-4232-ac69-7dd364fe2b81",
     "showTitle": false,
     "title": ""
    }
   },
   "source": [
    "There are also Python built-in functions like `min()` and `max()` that we can use for time class:"
   ]
  },
  {
   "cell_type": "code",
   "execution_count": 0,
   "metadata": {
    "application/vnd.databricks.v1+cell": {
     "cellMetadata": {
      "byteLimit": 2048000,
      "rowLimit": 10000
     },
     "inputWidgets": {},
     "nuid": "ada8e88f-f1eb-4330-8eda-70cb4f21f19a",
     "showTitle": false,
     "title": ""
    }
   },
   "outputs": [],
   "source": [
    "times = [\n",
    "           dt.time(23, 30),\n",
    "           dt.time(14, 45),\n",
    "           dt.time(8, 0)\n",
    "        ]\n",
    "\n",
    "print(min(times))"
   ]
  },
  {
   "cell_type": "code",
   "execution_count": 0,
   "metadata": {
    "application/vnd.databricks.v1+cell": {
     "cellMetadata": {
      "byteLimit": 2048000,
      "rowLimit": 10000
     },
     "inputWidgets": {},
     "nuid": "efa63306-4992-45fb-ac0a-da3b7a3c6722",
     "showTitle": false,
     "title": ""
    }
   },
   "outputs": [],
   "source": [
    "print(max(times))"
   ]
  },
  {
   "cell_type": "markdown",
   "metadata": {
    "application/vnd.databricks.v1+cell": {
     "cellMetadata": {},
     "inputWidgets": {},
     "nuid": "45af7c20-ec57-4d41-81be-6d2987045938",
     "showTitle": false,
     "title": ""
    }
   },
   "source": [
    "## 8. Calculations with Dates and Times\n",
    "Just like time objects, datetime objects also support comparison operators like `>` and `<`. What about mathematical operators like `-` and `+`? Let's see if they work, too, starting with `+`:"
   ]
  },
  {
   "cell_type": "code",
   "execution_count": 0,
   "metadata": {
    "application/vnd.databricks.v1+cell": {
     "cellMetadata": {
      "byteLimit": 2048000,
      "rowLimit": 10000
     },
     "inputWidgets": {},
     "nuid": "47d5d621-56be-4a6e-88e9-81bfa191b7b7",
     "showTitle": false,
     "title": ""
    }
   },
   "outputs": [],
   "source": [
    "dt1 = dt.datetime(2022, 4, 14)\n",
    "dt2 = dt.datetime(2022, 3, 29)\n",
    "print(dt1 + dt2)"
   ]
  },
  {
   "cell_type": "markdown",
   "metadata": {
    "application/vnd.databricks.v1+cell": {
     "cellMetadata": {},
     "inputWidgets": {},
     "nuid": "726e281f-5dd9-4ef8-88cc-99fdfa36b730",
     "showTitle": false,
     "title": ""
    }
   },
   "source": [
    "You see that when we  try to add two date objects using the `+` operator, we get a `TypeError` which tells us the operator is not valid.\n",
    "\n",
    "But how about the <b> `-` </b> operator?"
   ]
  },
  {
   "cell_type": "code",
   "execution_count": 0,
   "metadata": {
    "application/vnd.databricks.v1+cell": {
     "cellMetadata": {
      "byteLimit": 2048000,
      "rowLimit": 10000
     },
     "inputWidgets": {},
     "nuid": "b492ae92-e7d8-4d0c-aae6-9c0c840ecc78",
     "showTitle": false,
     "title": ""
    }
   },
   "outputs": [],
   "source": [
    "print(dt1 - dt2)"
   ]
  },
  {
   "cell_type": "markdown",
   "metadata": {
    "application/vnd.databricks.v1+cell": {
     "cellMetadata": {},
     "inputWidgets": {},
     "nuid": "b339065c-7b12-4fd2-9fc7-b3a72c02cfca",
     "showTitle": false,
     "title": ""
    }
   },
   "source": [
    "It works! When we use the **`-`** operator with two date objects, the result is the time difference between the two datetime objects. \n",
    "\n",
    "Let's look at the type of the resulting object:"
   ]
  },
  {
   "cell_type": "code",
   "execution_count": 0,
   "metadata": {
    "application/vnd.databricks.v1+cell": {
     "cellMetadata": {
      "byteLimit": 2048000,
      "rowLimit": 10000
     },
     "inputWidgets": {},
     "nuid": "04841afd-eff7-4a49-ac74-ca4642e51166",
     "showTitle": false,
     "title": ""
    }
   },
   "outputs": [],
   "source": [
    "diff = dt1 - dt2\n",
    "print(type(diff))"
   ]
  },
  {
   "cell_type": "markdown",
   "metadata": {
    "application/vnd.databricks.v1+cell": {
     "cellMetadata": {},
     "inputWidgets": {},
     "nuid": "31050931-10ac-4f14-8ac5-e89f551b7af0",
     "showTitle": false,
     "title": ""
    }
   },
   "source": [
    "The difference between two datetime objects is a `timedelta` object! Those take the following parameters:"
   ]
  },
  {
   "cell_type": "code",
   "execution_count": 0,
   "metadata": {
    "application/vnd.databricks.v1+cell": {
     "cellMetadata": {
      "byteLimit": 2048000,
      "rowLimit": 10000
     },
     "inputWidgets": {},
     "nuid": "d5cc408f-39a3-498e-a867-2a8264e95461",
     "showTitle": false,
     "title": ""
    }
   },
   "outputs": [],
   "source": [
    "dt.timedelta(\n",
    "    days=0, seconds=0, microseconds=0, milliseconds=0, minutes=0, hours=0, weeks=0\n",
    ")"
   ]
  },
  {
   "cell_type": "markdown",
   "metadata": {
    "application/vnd.databricks.v1+cell": {
     "cellMetadata": {},
     "inputWidgets": {},
     "nuid": "ee90a40b-0cf6-4e5f-91b8-d5e34e40d74e",
     "showTitle": false,
     "title": ""
    }
   },
   "source": [
    "Look carefully at the order of the arguments! It probably isn't the ordering you would expect. For this reason it can be clearer to use keyword arguments when instantiating objects if we are using anything other than days:"
   ]
  },
  {
   "cell_type": "code",
   "execution_count": 0,
   "metadata": {
    "application/vnd.databricks.v1+cell": {
     "cellMetadata": {
      "byteLimit": 2048000,
      "rowLimit": 10000
     },
     "inputWidgets": {},
     "nuid": "284f12ae-f6dc-4a3d-b7d4-4fc310d73c17",
     "showTitle": false,
     "title": ""
    }
   },
   "outputs": [],
   "source": [
    "two_days = dt.timedelta(2)\n",
    "print(two_days)"
   ]
  },
  {
   "cell_type": "code",
   "execution_count": 0,
   "metadata": {
    "application/vnd.databricks.v1+cell": {
     "cellMetadata": {
      "byteLimit": 2048000,
      "rowLimit": 10000
     },
     "inputWidgets": {},
     "nuid": "afa9864e-aa19-471b-9f24-d32039df0813",
     "showTitle": false,
     "title": ""
    }
   },
   "outputs": [],
   "source": [
    "three_weeks = dt.timedelta(weeks=3)\n",
    "print(three_weeks)"
   ]
  },
  {
   "cell_type": "code",
   "execution_count": 0,
   "metadata": {
    "application/vnd.databricks.v1+cell": {
     "cellMetadata": {
      "byteLimit": 2048000,
      "rowLimit": 10000
     },
     "inputWidgets": {},
     "nuid": "5e53a5ca-05e0-44fc-a148-fb11453a7372",
     "showTitle": false,
     "title": ""
    }
   },
   "outputs": [],
   "source": [
    "one_hr_ten_mins = dt.timedelta(hours=1, minutes=10)\n",
    "print(one_hr_ten_mins)"
   ]
  },
  {
   "cell_type": "markdown",
   "metadata": {
    "application/vnd.databricks.v1+cell": {
     "cellMetadata": {},
     "inputWidgets": {},
     "nuid": "4fd3fafe-4b23-4ab4-b39b-65377271f7ed",
     "showTitle": false,
     "title": ""
    }
   },
   "source": [
    "Lastly, timedelta objects can also be added or subtracted from datetime objects!"
   ]
  },
  {
   "cell_type": "code",
   "execution_count": 0,
   "metadata": {
    "application/vnd.databricks.v1+cell": {
     "cellMetadata": {
      "byteLimit": 2048000,
      "rowLimit": 10000
     },
     "inputWidgets": {},
     "nuid": "5aebd628-d434-4d33-9459-7f10bfe62bbc",
     "showTitle": false,
     "title": ""
    }
   },
   "outputs": [],
   "source": [
    "# we try to find the date one week from a date object\n",
    "d1 = dt.date(1963, 2, 21)\n",
    "d1_plus_1wk = d1 + dt.timedelta(weeks=1)\n",
    "print(d1_plus_1wk)"
   ]
  }
 ],
 "metadata": {
  "application/vnd.databricks.v1+notebook": {
   "dashboards": [],
   "environmentMetadata": null,
   "language": "python",
   "notebookMetadata": {
    "pythonIndentUnit": 2
   },
   "notebookName": "4_Dates_And_Times_In_Python",
   "widgets": {}
  }
 },
 "nbformat": 4,
 "nbformat_minor": 0
}
