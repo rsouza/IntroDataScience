{
 "cells": [
  {
   "cell_type": "markdown",
   "metadata": {
    "application/vnd.databricks.v1+cell": {
     "cellMetadata": {},
     "inputWidgets": {},
     "nuid": "384ac7d5-0125-4c94-82a4-4433ff7c616a",
     "showTitle": false,
     "title": ""
    }
   },
   "source": [
    "# About This Notebook\n",
    "In this **Exploring Data with Pandas: Fundamentals** chapter, we will learn:\n",
    "- How to select data from pandas objects using boolean arrays.\n",
    "- How to assign data using labels and boolean arrays.\n",
    "- How to create new rows and columns in pandas.\n",
    "\n",
    "****\n",
    "## 1. Introduction to the Data\n",
    "\n",
    "We learned the basics of the pandas library in the previous chapter and explored some dataframes using the techniques we have learned. Just to refresh your memory:\n",
    "> Axis values in dataframes can have **string labels**, not just numeric ones, which makes selecting data much easier.\n",
    "\n",
    "> Dataframes have the ability to contain columns with **multiple data types**: such as integer, float, and string.\n",
    "\n",
    "In this chapter, we'll learn some other ways working with data using pandas.\n",
    "\n",
    "This time, we will continue working with a data set from Fortune magazine's Global 500 list 2017.\n",
    "\n",
    "Here is a data dictionary for some of the columns in the CSV:\n",
    "\n",
    "- **company**: Name of the company.\n",
    "- **rank**: Global 500 rank for the company.\n",
    "- **revenues**: Company's total revenue for the fiscal year, in millions of dollars (USD).\n",
    "- **revenue_change**: Percentage change in revenue between the current and prior fiscal year.\n",
    "- **profits**: Net income for the fiscal year, in millions of dollars (USD).\n",
    "- **ceo**: Company's Chief Executive Officer.\n",
    "- **industry**: Industry in which the company operates.\n",
    "- **sector**: Sector in which the company operates.\n",
    "- **previous_rank**: Global 500 rank for the company for the prior year.\n",
    "- **country**: Country in which the company is headquartered.\n",
    "- **hq_location**: City and Country, (or City and State for the USA) where the company is headquartered.\n",
    "- **employees**: Total employees (full-time equivalent, if available) at fiscal year-end."
   ]
  },
  {
   "cell_type": "code",
   "execution_count": 0,
   "metadata": {
    "application/vnd.databricks.v1+cell": {
     "cellMetadata": {},
     "inputWidgets": {},
     "nuid": "e8a740ba-c022-497f-9212-8e2d5c763435",
     "showTitle": false,
     "title": ""
    }
   },
   "outputs": [],
   "source": [
    "import pandas as pd\n",
    "import numpy as np\n",
    "\n",
    "f500 = pd.read_csv('f500.csv',index_col=0)"
   ]
  },
  {
   "cell_type": "markdown",
   "metadata": {
    "application/vnd.databricks.v1+cell": {
     "cellMetadata": {},
     "inputWidgets": {},
     "nuid": "601c5fe6-2330-4953-aea6-85927913f11d",
     "showTitle": false,
     "title": ""
    }
   },
   "source": [
    "### Task 3.4.1:\n",
    "Now I have already read the dataset into a pandas dataframe and assigned it to a variable named ``f500``.\n",
    "\n",
    "1. Use the ``DataFrame.head()`` method to select the first 10 rows in ``f500``. Assign the result to ``f500_head``.\n",
    "2. Use the ``DataFrame.info()`` method to display information about the dataframe."
   ]
  },
  {
   "cell_type": "code",
   "execution_count": 0,
   "metadata": {
    "application/vnd.databricks.v1+cell": {
     "cellMetadata": {},
     "inputWidgets": {},
     "nuid": "a42497a2-ba66-4899-b145-9042f03af66a",
     "showTitle": false,
     "title": ""
    }
   },
   "outputs": [],
   "source": [
    "# Start your code here:\n",
    "f500_head = f500.head(10)\n",
    "f500.info()"
   ]
  },
  {
   "cell_type": "markdown",
   "metadata": {
    "application/vnd.databricks.v1+cell": {
     "cellMetadata": {},
     "inputWidgets": {},
     "nuid": "81c7a377-57c6-476c-a4b8-fac936b40c17",
     "showTitle": false,
     "title": ""
    }
   },
   "source": [
    "## 2.Vectorized Operations\n",
    "\n",
    "Do you remember vectorized operations which we encountered in the NumPy library? Vectorized operations enable operations applied to multiple data points at once, which does not only improve our code's performance, but also enables us to write code more quickly.\n",
    "\n",
    "Since pandas is an extension of NumPy, it also supports vectorized operations. Just like with NumPy, we can use any of the standard Python numeric operators with series, including:\n",
    "\n",
    "\n",
    "- **Addition**: `vector_a + vector_b`\n",
    "- **Subtraction**: `vector_a - vector_b`\n",
    "- **Multiplication**: (unrelated to the vector multiplication in linear algebra): `vector_a * vector_b`\n",
    "- **Division**: `vecotr_a / vector_b`\n",
    "\n",
    "\n",
    "### Task 3.4.2: \n",
    "1. Subtract the values in the `rank` column from the values in the ``previous_rank`` column. Assign the result to a variable ``rank_change``."
   ]
  },
  {
   "cell_type": "code",
   "execution_count": 0,
   "metadata": {
    "application/vnd.databricks.v1+cell": {
     "cellMetadata": {},
     "inputWidgets": {},
     "nuid": "da7ed1cf-1770-4be3-a9ac-ee37c76a4949",
     "showTitle": false,
     "title": ""
    }
   },
   "outputs": [],
   "source": [
    "# Start your code below:\n",
    "\n",
    "rank_change = f500[\"rank\"] - f500[\"previous_rank\"]"
   ]
  },
  {
   "cell_type": "markdown",
   "metadata": {
    "application/vnd.databricks.v1+cell": {
     "cellMetadata": {},
     "inputWidgets": {},
     "nuid": "829e0391-c2d3-4863-80b3-14bd8c4cdc16",
     "showTitle": false,
     "title": ""
    }
   },
   "source": [
    "## 3. Series Data Exploration Methods\n",
    "\n",
    "Just as NumPy, pandas supports many descriptive ``stats`` methods like the following:\n",
    "- `Series.max()`\n",
    "- `Series.min()`\n",
    "- `Series.mean()`\n",
    "- `Series.median()`\n",
    "- `Series.mode()`\n",
    "- `Series.sum()`\n",
    "\n",
    "Look at how you can use the stats methods below:"
   ]
  },
  {
   "cell_type": "markdown",
   "metadata": {
    "application/vnd.databricks.v1+cell": {
     "cellMetadata": {},
     "inputWidgets": {},
     "nuid": "c4c5238a-f39e-4816-8fd7-35d1100c1f93",
     "showTitle": false,
     "title": ""
    }
   },
   "source": [
    "````python\n",
    "print(my_series)\n",
    "````"
   ]
  },
  {
   "cell_type": "markdown",
   "metadata": {
    "application/vnd.databricks.v1+cell": {
     "cellMetadata": {},
     "inputWidgets": {},
     "nuid": "eb2037ce-a319-4b48-89ef-f96a7cb917d0",
     "showTitle": false,
     "title": ""
    }
   },
   "source": [
    "Output:\n",
    "````python\n",
    "0    1\n",
    "1    2\n",
    "2    3\n",
    "3    4\n",
    "4    5\n",
    "dtype: int64\n",
    "````"
   ]
  },
  {
   "cell_type": "markdown",
   "metadata": {
    "application/vnd.databricks.v1+cell": {
     "cellMetadata": {},
     "inputWidgets": {},
     "nuid": "3976f18c-f704-4fe0-a27e-d9df32c04f09",
     "showTitle": false,
     "title": ""
    }
   },
   "source": [
    "````python\n",
    "print(my_series.sum())\n",
    "````"
   ]
  },
  {
   "cell_type": "markdown",
   "metadata": {
    "application/vnd.databricks.v1+cell": {
     "cellMetadata": {},
     "inputWidgets": {},
     "nuid": "abb463fc-e094-490a-84b8-ab6ffaf895c6",
     "showTitle": false,
     "title": ""
    }
   },
   "source": [
    "Output:\n",
    "````python\n",
    "15\n",
    "````"
   ]
  },
  {
   "cell_type": "markdown",
   "metadata": {
    "application/vnd.databricks.v1+cell": {
     "cellMetadata": {},
     "inputWidgets": {},
     "nuid": "2a26b921-18f6-42a7-aa7c-1b0313687edd",
     "showTitle": false,
     "title": ""
    }
   },
   "source": [
    "### Task 3.4.3:\n",
    "1. Use the `Series.max()` method to find the maximum value for the `rank_change` series. Assign the result to the variable `rank_change_max`.\n",
    "2. Use the `Series.min()` method to find the minimum value for the `rank_change` series. Assign the result to the variable `rank_change_min`."
   ]
  },
  {
   "cell_type": "code",
   "execution_count": 0,
   "metadata": {
    "application/vnd.databricks.v1+cell": {
     "cellMetadata": {},
     "inputWidgets": {},
     "nuid": "e615abaf-35bb-459b-84cd-39c11948858a",
     "showTitle": false,
     "title": ""
    }
   },
   "outputs": [],
   "source": [
    "# Start your code below:\n",
    "\n",
    "rank_change = f500[\"rank\"] - f500['previous_rank']\n",
    "rank_change_max = rank_change.max()\n",
    "rank_change_min = rank_change.min()"
   ]
  },
  {
   "cell_type": "markdown",
   "metadata": {
    "application/vnd.databricks.v1+cell": {
     "cellMetadata": {},
     "inputWidgets": {},
     "nuid": "d62542fe-c7c9-4cfc-8df3-fc9ef5aed136",
     "showTitle": false,
     "title": ""
    }
   },
   "source": [
    "## 4. Series Describe Method\n",
    "\n",
    "In this session, we will learn another method called `Series.describe` This [method](https://pandas.pydata.org/pandas-docs/stable/reference/api/pandas.Series.describe.html) shows us various information such as how many non-null values are contained in the series, the average, minimum, maximum, and other statistics.\n",
    "\n",
    "Let's see how we can use this method:"
   ]
  },
  {
   "cell_type": "code",
   "execution_count": 0,
   "metadata": {
    "application/vnd.databricks.v1+cell": {
     "cellMetadata": {},
     "inputWidgets": {},
     "nuid": "60e17f77-a314-4c31-a86c-cd3f3827f74f",
     "showTitle": false,
     "title": ""
    }
   },
   "outputs": [],
   "source": [
    "assets = f500[\"assets\"]\n",
    "print(assets.describe())"
   ]
  },
  {
   "cell_type": "markdown",
   "metadata": {
    "application/vnd.databricks.v1+cell": {
     "cellMetadata": {},
     "inputWidgets": {},
     "nuid": "c8509d88-b070-43cc-b21e-707ecc3253eb",
     "showTitle": false,
     "title": ""
    }
   },
   "source": [
    "You can see that the values in the code segment above are displayed in <b>E-notation</b>, a type of [scientific notation](https://en.wikipedia.org/wiki/Scientific_notation).\n",
    "\n",
    "When we use `describe()` on a column which contains non-numeric values, we will get some different statistics, like the following example shows:"
   ]
  },
  {
   "cell_type": "code",
   "execution_count": 0,
   "metadata": {
    "application/vnd.databricks.v1+cell": {
     "cellMetadata": {},
     "inputWidgets": {},
     "nuid": "edaa2949-292a-47d3-bfc3-2b694f9c381e",
     "showTitle": false,
     "title": ""
    }
   },
   "outputs": [],
   "source": [
    "country = f500[\"country\"]\n",
    "print(country.describe())"
   ]
  },
  {
   "cell_type": "markdown",
   "metadata": {
    "application/vnd.databricks.v1+cell": {
     "cellMetadata": {},
     "inputWidgets": {},
     "nuid": "d06ba026-7023-4a87-81b3-6606d518eba4",
     "showTitle": false,
     "title": ""
    }
   },
   "source": [
    "The first line of information, `count`, is the same as for numeric columns, showing us the number of non-null values. The other three statistics are described below:\n",
    "\n",
    "- ``unique``: Number of unique values in the series.\n",
    "- ``top``: Most common value in the series.\n",
    "- ``freq``: Frequency of the most common value. "
   ]
  },
  {
   "cell_type": "markdown",
   "metadata": {
    "application/vnd.databricks.v1+cell": {
     "cellMetadata": {},
     "inputWidgets": {},
     "nuid": "3aedca60-4037-41e9-b00f-446b5a08cb07",
     "showTitle": false,
     "title": ""
    }
   },
   "source": [
    "### Task 3.4.4\n",
    "1. Return a series of descriptive statistics for the rank column in ``f500``.\n",
    "    - Select the rank column. Assign it to a variable named ``rank``.\n",
    "    - Use the ``Series.describe()`` method to return a series of statistics for rank. Assign the result to ``rank_desc``.\n",
    "2. Return a series of descriptive statistics for the `previous_rank` column in `f500`.\n",
    "    - Select the ``previous_rank`` column. Assign it to a variable named ``prev_rank``.\n",
    "    - Use the ``Series.describe()`` method to return a series of statistics for ``prev_rank``. Assign the result to ``prev_rank_desc``."
   ]
  },
  {
   "cell_type": "code",
   "execution_count": 0,
   "metadata": {
    "application/vnd.databricks.v1+cell": {
     "cellMetadata": {},
     "inputWidgets": {},
     "nuid": "8a140e62-678c-4bea-9d08-cc6526815799",
     "showTitle": false,
     "title": ""
    }
   },
   "outputs": [],
   "source": [
    "# Start your code below:\n",
    "\n",
    "rank = f500[\"rank\"]\n",
    "rank_desc = rank.describe()\n",
    "\n",
    "prev_rank = f500[\"previous_rank\"]\n",
    "prev_rank_desc = prev_rank.describe()"
   ]
  },
  {
   "cell_type": "markdown",
   "metadata": {
    "application/vnd.databricks.v1+cell": {
     "cellMetadata": {},
     "inputWidgets": {},
     "nuid": "3485e12a-944d-460f-bc9c-6af6f0d5e280",
     "showTitle": false,
     "title": ""
    }
   },
   "source": [
    "## 5. Method Chaining (IMPORTANT)\n",
    "\n",
    "Method chaining is a common syntax for invoking multiple method calls in object-oriented programming languages. Each method returns an object, allowing the calls to be chained together in a single statement without requiring variables to store the intermediate results ([Wikipedia](https://en.wikipedia.org/wiki/Method_chaining)).\n",
    "\n",
    "We have actually used a couple of method chainings before in our previous examples."
   ]
  },
  {
   "cell_type": "markdown",
   "metadata": {
    "application/vnd.databricks.v1+cell": {
     "cellMetadata": {},
     "inputWidgets": {},
     "nuid": "008214e1-7ecc-4595-bac5-aef294602d06",
     "showTitle": false,
     "title": ""
    }
   },
   "source": [
    "\n",
    "#### Without method chaining\n",
    "````python\n",
    "countries = f500[\"country\"]\n",
    "countries_counts = countries.value_counts()\n",
    "````"
   ]
  },
  {
   "cell_type": "markdown",
   "metadata": {
    "application/vnd.databricks.v1+cell": {
     "cellMetadata": {},
     "inputWidgets": {},
     "nuid": "02615a50-8c5e-4c33-883a-4bea781424d0",
     "showTitle": false,
     "title": ""
    }
   },
   "source": [
    "#### With method chaining\n",
    "````python\n",
    "countries_counts = f500[\"country\"].value_counts() \n",
    "````"
   ]
  },
  {
   "cell_type": "markdown",
   "metadata": {
    "application/vnd.databricks.v1+cell": {
     "cellMetadata": {},
     "inputWidgets": {},
     "nuid": "9bf1affa-8997-45c4-9ecd-52a0d0dac547",
     "showTitle": false,
     "title": ""
    }
   },
   "source": [
    "From now on, we'll try to use more and more method chaining in the code. When writing code, always assess whether method chaining will make your code harder to read. If it does, it's always preferable to break the code into more than one line.\n",
    "\n",
    "### Task 3.4.5\n",
    "1. Use `Series.value_counts()` and `Series.loc` to return the number of companies with a value of `0` of the `previous_rank` column in the `f500` dataframe. Assign the results to `zero_previous_rank`."
   ]
  },
  {
   "cell_type": "code",
   "execution_count": 0,
   "metadata": {
    "application/vnd.databricks.v1+cell": {
     "cellMetadata": {},
     "inputWidgets": {},
     "nuid": "daf99d7e-96e5-4676-b0ea-a7ea2c0bd3f1",
     "showTitle": false,
     "title": ""
    }
   },
   "outputs": [],
   "source": [
    "# Start your code below:\n",
    "\n",
    "zero_previous_rank = f500.loc[:,\"previous_rank\"].value_counts()[0]"
   ]
  },
  {
   "cell_type": "markdown",
   "metadata": {
    "application/vnd.databricks.v1+cell": {
     "cellMetadata": {},
     "inputWidgets": {},
     "nuid": "3d33f352-0e3a-4d75-bd23-d8fd270e2cd0",
     "showTitle": false,
     "title": ""
    }
   },
   "source": [
    "## 6. Dataframe Exploration Methods\n",
    "\n",
    "Since series and dataframes are two distinct objects, they have their own unique methods. However, they also have methods with the same name that behave in a similar manner. Find some examples below:\n",
    "\n",
    "- `Series.max()` and `DataFrame.max()`\n",
    "- `Series.min()` and `DataFrame.min()`\n",
    "- `Series.mean()` and `DataFrame.mean()`\n",
    "- `Series.median()` and `DataFrame.median()`\n",
    "- `Series.mode()` and `DataFrame.mode()`\n",
    "- `Series.sum()` and `DataFrame.sum()`\n",
    "\n",
    "> In contrast to series, dataframe methods require an axis parameter in order to know which axis to calculate across. You can use integers to refer to the first and second axis. Pandas dataframe methods also accept the strings ``index`` and ``columns`` for the axis parameter:"
   ]
  },
  {
   "cell_type": "markdown",
   "metadata": {
    "application/vnd.databricks.v1+cell": {
     "cellMetadata": {},
     "inputWidgets": {},
     "nuid": "9c6d7086-f495-41fb-8cb6-109cb85ef58e",
     "showTitle": false,
     "title": ""
    }
   },
   "source": [
    "````python\n",
    "# When we try to calculate along the row axis\n",
    "DataFrame.method(axis = 0)\n",
    "# or \n",
    "Dataframe.method(axis = \"index\")\n",
    "````"
   ]
  },
  {
   "cell_type": "markdown",
   "metadata": {
    "application/vnd.databricks.v1+cell": {
     "cellMetadata": {},
     "inputWidgets": {},
     "nuid": "aceec2ab-0820-425e-85eb-12ed189087eb",
     "showTitle": false,
     "title": ""
    }
   },
   "source": [
    "````python\n",
    "# When we try to calculate along the column axis\n",
    "DataFrame.method(axis = 1)\n",
    "# or \n",
    "Dataframe.method(axis = \"column\")\n",
    "````"
   ]
  },
  {
   "cell_type": "markdown",
   "metadata": {
    "application/vnd.databricks.v1+cell": {
     "cellMetadata": {},
     "inputWidgets": {},
     "nuid": "8083091d-ef56-41eb-931a-1c2f34cbb434",
     "showTitle": false,
     "title": ""
    }
   },
   "source": [
    "For a more concrete example, if we want to find the median for the **revenues** and **profits** columns in our data set, we can do the following:"
   ]
  },
  {
   "cell_type": "code",
   "execution_count": 0,
   "metadata": {
    "application/vnd.databricks.v1+cell": {
     "cellMetadata": {},
     "inputWidgets": {},
     "nuid": "8cf207a1-ba6f-4660-9835-d4f51b4ec88f",
     "showTitle": false,
     "title": ""
    }
   },
   "outputs": [],
   "source": [
    "medians = f500[[\"revenues\", \"profits\"]].median(axis=0)\n",
    "# we could also use .median(axis=\"index\")\n",
    "print(medians)"
   ]
  },
  {
   "cell_type": "markdown",
   "metadata": {
    "application/vnd.databricks.v1+cell": {
     "cellMetadata": {},
     "inputWidgets": {},
     "nuid": "e7756fdf-5f98-4feb-abc5-09cccd7aed8e",
     "showTitle": false,
     "title": ""
    }
   },
   "source": [
    "### Task 3.4.6\n",
    "\n",
    "Now, it's your time to shine!\n",
    "1. Use the `DataFrame.max()` method to find the maximum value for only the numeric columns from `f500` (you may need to check the documentation). Assign the result to the variable `max_f500`."
   ]
  },
  {
   "cell_type": "code",
   "execution_count": 0,
   "metadata": {
    "application/vnd.databricks.v1+cell": {
     "cellMetadata": {},
     "inputWidgets": {},
     "nuid": "85f7fa94-a8ab-4d4b-9ab8-3bbdced6bfb9",
     "showTitle": false,
     "title": ""
    }
   },
   "outputs": [],
   "source": [
    "# Start your code below:\n",
    "\n",
    "max_f500 = f500.max( numeric_only = True)"
   ]
  },
  {
   "cell_type": "markdown",
   "metadata": {
    "application/vnd.databricks.v1+cell": {
     "cellMetadata": {},
     "inputWidgets": {},
     "nuid": "c9eee142-a7a4-4e7a-b5bd-01b6fe5e17d2",
     "showTitle": false,
     "title": ""
    }
   },
   "source": [
    "## 7. Dataframe Describe Method\n",
    "\n",
    "Try to see how we can use `DataFrame.max()` method below:"
   ]
  },
  {
   "cell_type": "code",
   "execution_count": 0,
   "metadata": {
    "application/vnd.databricks.v1+cell": {
     "cellMetadata": {},
     "inputWidgets": {},
     "nuid": "7e21bd4d-f2d4-4a0f-ad82-b2878d6a9e4f",
     "showTitle": false,
     "title": ""
    }
   },
   "outputs": [],
   "source": [
    "f500.max(numeric_only=True)"
   ]
  },
  {
   "cell_type": "markdown",
   "metadata": {
    "application/vnd.databricks.v1+cell": {
     "cellMetadata": {},
     "inputWidgets": {},
     "nuid": "cee5efa8-fae0-4e44-b101-4b3a4166f842",
     "showTitle": false,
     "title": ""
    }
   },
   "source": [
    "Like series objects, there is also a `DataFrame.describe()` method that we can use to explore the dataframe more efficiently. Take a look at the `DataFrame.describe()` documentation [here](https://pandas.pydata.org/pandas-docs/stable/reference/api/pandas.DataFrame.describe.html).\n",
    "\n",
    "There are a couple of differences between the `Series.describe()` method and `DataFrame.describe()` method. For example, the `Series.describe()` method returns a series object, the `DataFrame.describe()` method returns a dataframe object.\n",
    "\n",
    "### Task 3.4.7\n",
    "\n",
    "Now let's have some practice with the `DataFrame.describe()` method that we just learned.\n",
    "1. Return a dataframe of descriptive statistics for all of the numeric columns in `f500`. Assign the result to `f500_desc`."
   ]
  },
  {
   "cell_type": "code",
   "execution_count": 0,
   "metadata": {
    "application/vnd.databricks.v1+cell": {
     "cellMetadata": {},
     "inputWidgets": {},
     "nuid": "e9223df7-bff9-40bc-aad7-f83d09582246",
     "showTitle": false,
     "title": ""
    }
   },
   "outputs": [],
   "source": [
    "# Start your code below:\n",
    "\n",
    "f500_desc = f500.describe()"
   ]
  },
  {
   "cell_type": "markdown",
   "metadata": {
    "application/vnd.databricks.v1+cell": {
     "cellMetadata": {},
     "inputWidgets": {},
     "nuid": "d4165103-1ac0-430a-8b83-fa58d9c6414d",
     "showTitle": false,
     "title": ""
    }
   },
   "source": [
    "## 8. Assignment with pandas\n",
    "\n",
    "Let's start by learning assignment, starting with the following example:"
   ]
  },
  {
   "cell_type": "code",
   "execution_count": 0,
   "metadata": {
    "application/vnd.databricks.v1+cell": {
     "cellMetadata": {},
     "inputWidgets": {},
     "nuid": "149bf830-9723-4f4e-b116-74299c14ba82",
     "showTitle": false,
     "title": ""
    }
   },
   "outputs": [],
   "source": [
    "top5_rank_revenue = f500[[\"rank\", \"revenues\"]].head()\n",
    "print(top5_rank_revenue)"
   ]
  },
  {
   "cell_type": "code",
   "execution_count": 0,
   "metadata": {
    "application/vnd.databricks.v1+cell": {
     "cellMetadata": {},
     "inputWidgets": {},
     "nuid": "1d749361-a49a-4007-b3a3-819e3d82d8d8",
     "showTitle": false,
     "title": ""
    }
   },
   "outputs": [],
   "source": [
    "top5_rank_revenue[\"revenues\"] = 0\n",
    "print(top5_rank_revenue)"
   ]
  },
  {
   "cell_type": "markdown",
   "metadata": {
    "application/vnd.databricks.v1+cell": {
     "cellMetadata": {},
     "inputWidgets": {},
     "nuid": "6ddb3e86-708f-47ab-a3be-3d9d6260b040",
     "showTitle": false,
     "title": ""
    }
   },
   "source": [
    "As in Numpy, we can apply the same technique that we use to select data to assignment. \n",
    "> Just remember, when we selected a whole column by label and used assignment, we assigned the value to every item in that column.\n",
    "\n",
    "When we provide labels for both axes, we assign the value to a single item within our dataframe."
   ]
  },
  {
   "cell_type": "code",
   "execution_count": 0,
   "metadata": {
    "application/vnd.databricks.v1+cell": {
     "cellMetadata": {},
     "inputWidgets": {},
     "nuid": "37b8aedd-b966-4399-a4ed-7c0e5a37cdda",
     "showTitle": false,
     "title": ""
    }
   },
   "outputs": [],
   "source": [
    "top5_rank_revenue.loc[\"Sinopec Group\", \"revenues\"] = 999\n",
    "print(top5_rank_revenue)"
   ]
  },
  {
   "cell_type": "markdown",
   "metadata": {
    "application/vnd.databricks.v1+cell": {
     "cellMetadata": {},
     "inputWidgets": {},
     "nuid": "9a7080aa-f0a2-4669-9300-80c2f80e1047",
     "showTitle": false,
     "title": ""
    }
   },
   "source": [
    "### Task 3.4.8\n",
    "\n",
    "Use again our Fortune 500 data set:\n",
    "1. The company \"Dow Chemical\" has named a new CEO. Update the value where the row label is `Dow Chemical` by changing the ceo column to `Jim Fitterling` in the `f500` dataframe."
   ]
  },
  {
   "cell_type": "code",
   "execution_count": 0,
   "metadata": {
    "application/vnd.databricks.v1+cell": {
     "cellMetadata": {},
     "inputWidgets": {},
     "nuid": "9680da15-125a-4a61-a6c7-7d835d24d988",
     "showTitle": false,
     "title": ""
    }
   },
   "outputs": [],
   "source": [
    "# Start your code below:\n",
    "\n",
    "f500.loc[\"Dow Chemical\",\"ceo\"] = \"Jim Fitterling\""
   ]
  },
  {
   "cell_type": "markdown",
   "metadata": {
    "application/vnd.databricks.v1+cell": {
     "cellMetadata": {},
     "inputWidgets": {},
     "nuid": "641567de-9af0-40b2-9390-eebd0fd3606e",
     "showTitle": false,
     "title": ""
    }
   },
   "source": [
    "## 9. Using Boolean Indexing with pandas Objects\n",
    "\n",
    "In order to replace many values at the same time, we recommend using <b> boolean indexing </b> to change all rows that meet the same criteria, just like we did with NumPy.\n",
    "\n",
    "Let's take a look at the dataframe example below. This is a dataframe of people and their favorite numbers:"
   ]
  },
  {
   "cell_type": "code",
   "execution_count": 0,
   "metadata": {
    "application/vnd.databricks.v1+cell": {
     "cellMetadata": {},
     "inputWidgets": {},
     "nuid": "f9ba0dcd-74e4-4c7c-acc9-30b0115f0fdc",
     "showTitle": false,
     "title": ""
    }
   },
   "outputs": [],
   "source": [
    "import pandas as pd\n",
    "\n",
    "d = {'name': [\"Kyllie\", \"Rahul\", \"Michael\", \"Sarah\"], 'num': [12, 8, 5, 8]}\n",
    "\n",
    "df = pd.DataFrame(data=d)\n",
    "df"
   ]
  },
  {
   "cell_type": "markdown",
   "metadata": {
    "application/vnd.databricks.v1+cell": {
     "cellMetadata": {},
     "inputWidgets": {},
     "nuid": "cd19e512-9089-467e-8bd5-98114027db38",
     "showTitle": false,
     "title": ""
    }
   },
   "source": [
    "If we want to check which people have a favorite number of 8, we can first perform a vectorized boolean operation that produces a boolean series:"
   ]
  },
  {
   "cell_type": "code",
   "execution_count": 0,
   "metadata": {
    "application/vnd.databricks.v1+cell": {
     "cellMetadata": {},
     "inputWidgets": {},
     "nuid": "0a5cd89f-f70f-461c-9e15-dde9c9132a80",
     "showTitle": false,
     "title": ""
    }
   },
   "outputs": [],
   "source": [
    "num_bool = df[\"num\"] == 8\n",
    "num_bool"
   ]
  },
  {
   "cell_type": "markdown",
   "metadata": {
    "application/vnd.databricks.v1+cell": {
     "cellMetadata": {},
     "inputWidgets": {},
     "nuid": "3556bc79-33b4-4afb-92aa-8819e3e05865",
     "showTitle": false,
     "title": ""
    }
   },
   "source": [
    "We have used a series to index the whole dataframe, leaving us with the rows that correspond only to people whose favorite number is 8:"
   ]
  },
  {
   "cell_type": "code",
   "execution_count": 0,
   "metadata": {
    "application/vnd.databricks.v1+cell": {
     "cellMetadata": {},
     "inputWidgets": {},
     "nuid": "53a11d3d-62dd-4e76-adf9-78484bba588d",
     "showTitle": false,
     "title": ""
    }
   },
   "outputs": [],
   "source": [
    "result = df[num_bool]\n",
    "result"
   ]
  },
  {
   "cell_type": "markdown",
   "metadata": {
    "application/vnd.databricks.v1+cell": {
     "cellMetadata": {},
     "inputWidgets": {},
     "nuid": "4078c6dd-0d47-47ef-aab5-6a35650826d6",
     "showTitle": false,
     "title": ""
    }
   },
   "source": [
    "You see that we didn't use ``loc[]``. The reason for this is that boolean arrays use the same shortcut as slices to select along the index axis. We can also use the boolean series to index just one column of the dataframe:"
   ]
  },
  {
   "cell_type": "code",
   "execution_count": 0,
   "metadata": {
    "application/vnd.databricks.v1+cell": {
     "cellMetadata": {},
     "inputWidgets": {},
     "nuid": "0e0aad30-ad7f-46d1-9c93-1409ec178001",
     "showTitle": false,
     "title": ""
    }
   },
   "outputs": [],
   "source": [
    "result = df.loc[num_bool,\"name\"]\n",
    "result"
   ]
  },
  {
   "cell_type": "markdown",
   "metadata": {
    "application/vnd.databricks.v1+cell": {
     "cellMetadata": {},
     "inputWidgets": {},
     "nuid": "4cd44a15-7b4c-4825-8152-07ccfc08109c",
     "showTitle": false,
     "title": ""
    }
   },
   "source": [
    "You see that we have used `df.loc[]` to specify both axes.\n",
    "\n",
    "### Task 3.4.9\n",
    "1. Create a boolean series, `motor_bool`, that compares whether the values in the `industry` column from the `f500` dataframe are equal to `\"Motor Vehicles and Parts\"`.\n",
    "2. Use the `motor_bool` boolean series to index the `country` column. Assign the result to `motor_countries`."
   ]
  },
  {
   "cell_type": "code",
   "execution_count": 0,
   "metadata": {
    "application/vnd.databricks.v1+cell": {
     "cellMetadata": {},
     "inputWidgets": {},
     "nuid": "fa6e7596-c57d-4b37-9319-07729b2ae5b0",
     "showTitle": false,
     "title": ""
    }
   },
   "outputs": [],
   "source": [
    "# Start your code below:\n",
    "\n",
    "motor_bool = f500.loc[:,\"industry\"] == \"Motor Vehicles and Parts\"\n",
    "motor_countries = f500.loc[motor_bool, \"country\"]"
   ]
  },
  {
   "cell_type": "markdown",
   "metadata": {
    "application/vnd.databricks.v1+cell": {
     "cellMetadata": {},
     "inputWidgets": {},
     "nuid": "2ec2de91-6bf2-4a79-bb98-092d6d747056",
     "showTitle": false,
     "title": ""
    }
   },
   "source": [
    "## 10. Using Boolean Arrays to Assign Values (OPTIONAL)\n",
    "\n",
    "In this session, we will look at how we can combine assignment and boolean indexing in pandas.\n",
    "\n",
    "In the following example, we change the `'Motor Vehicles & Parts'` values in the sector column to `'Motor Vehicles and Parts'` – i.e. we will change the ampersand (`&`) to `and`."
   ]
  },
  {
   "cell_type": "code",
   "execution_count": 0,
   "metadata": {
    "application/vnd.databricks.v1+cell": {
     "cellMetadata": {},
     "inputWidgets": {},
     "nuid": "c114fe95-0c8a-427a-a2bc-8d7679ef5f77",
     "showTitle": false,
     "title": ""
    }
   },
   "outputs": [],
   "source": [
    "# First, we create a boolean series by comparing the values in the sector column to 'Motor Vehicles & Parts'\n",
    "ampersand_bool = f500[\"sector\"] == \"Motor Vehicles & Parts\"\n",
    "\n",
    "# Next, we use that boolean series and the string \"sector\" to perform the assignment.\n",
    "f500.loc[ampersand_bool,\"sector\"] = \"Motor Vehicles and Parts\""
   ]
  },
  {
   "cell_type": "markdown",
   "metadata": {
    "application/vnd.databricks.v1+cell": {
     "cellMetadata": {},
     "inputWidgets": {},
     "nuid": "4d9ef498-b967-4553-bb27-161888898c87",
     "showTitle": false,
     "title": ""
    }
   },
   "source": [
    "We can do what we just did as in one line: remove the intermediate step of creating a boolean series, and combine everything like this:"
   ]
  },
  {
   "cell_type": "code",
   "execution_count": 0,
   "metadata": {
    "application/vnd.databricks.v1+cell": {
     "cellMetadata": {},
     "inputWidgets": {},
     "nuid": "ee13c51e-9f26-4015-9935-965d509de736",
     "showTitle": false,
     "title": ""
    }
   },
   "outputs": [],
   "source": [
    "f500.loc[f500[\"sector\"] == \"Motor Vehicles & Parts\",\"sector\"] = \"Motor Vehicles and Parts\""
   ]
  },
  {
   "cell_type": "markdown",
   "metadata": {
    "application/vnd.databricks.v1+cell": {
     "cellMetadata": {},
     "inputWidgets": {},
     "nuid": "5d64a2a6-b35c-4e43-8ee4-6f46aaea4811",
     "showTitle": false,
     "title": ""
    }
   },
   "source": [
    "Now that we have learned how to put everything into one line, we can use this technique and replace the values in the `previous_rank` column. We want to replace the items with value `0`, as `0` is no reasonable rank. What we can replace these values with? We can replace these values with `np.nan` – this value is used in pandas to represent values that cannot be represented numerically, such as some missing values."
   ]
  },
  {
   "cell_type": "markdown",
   "metadata": {
    "application/vnd.databricks.v1+cell": {
     "cellMetadata": {},
     "inputWidgets": {},
     "nuid": "879c14a3-230d-45d4-bb3c-46543a9149e7",
     "showTitle": false,
     "title": ""
    }
   },
   "source": [
    "### Task 3.4.10\n",
    "1. Use boolean indexing to update values in the `previous_rank` column of the `f500` dataframe:\n",
    "    - There should now be a value of `np.nan` where there previously was a value of `0`.\n",
    "    - It is up to you whether you assign the boolean series to its own variable first, or whether you complete the operation in one line.\n",
    "2. Create a new pandas series, `prev_rank_after`, using the same syntax that was used to create the `prev_rank_before` series.\n",
    "3. Compare the `prev_rank_before` and the `prev_rank_after` series."
   ]
  },
  {
   "cell_type": "code",
   "execution_count": 0,
   "metadata": {
    "application/vnd.databricks.v1+cell": {
     "cellMetadata": {},
     "inputWidgets": {},
     "nuid": "4e3b0133-6016-4ecf-9f45-7e9b458e3304",
     "showTitle": false,
     "title": ""
    }
   },
   "outputs": [],
   "source": [
    "import numpy as np\n",
    "f500 = pd.read_csv('f500.csv',index_col=0)\n",
    "prev_rank_before = f500[\"previous_rank\"].value_counts(dropna=False).head()\n",
    "\n",
    "# Start your code below:\n",
    "f500.loc[f500[\"previous_rank\"] == 0, \"previous_rank\"] = np.nan\n",
    "prev_rank_after = f500[\"previous_rank\"].value_counts(dropna=False).head()\n",
    "\n",
    "print(prev_rank_before)\n",
    "print()\n",
    "print(prev_rank_after)"
   ]
  },
  {
   "cell_type": "markdown",
   "metadata": {
    "application/vnd.databricks.v1+cell": {
     "cellMetadata": {},
     "inputWidgets": {},
     "nuid": "d1cb2ffd-4914-4420-9994-f82bfc539204",
     "showTitle": false,
     "title": ""
    }
   },
   "source": [
    "## 11. Creating New Columns (IMPORTANT)\n",
    "\n",
    "When we try to assign a value or values to a new column label in pandas, a new column will be created in our dataframe. Below we've added a new column to a dataframe named `top5_rank_revenue`:"
   ]
  },
  {
   "cell_type": "markdown",
   "metadata": {
    "application/vnd.databricks.v1+cell": {
     "cellMetadata": {},
     "inputWidgets": {},
     "nuid": "dd6d7b12-99e0-4a6f-b6d2-0aeffee0c3f2",
     "showTitle": false,
     "title": ""
    }
   },
   "source": [
    "````python\n",
    "top5_rank_revenue[\"year_founded\"] = 0\n",
    "print(top5_rank_revenue)\n",
    "````"
   ]
  },
  {
   "cell_type": "markdown",
   "metadata": {
    "application/vnd.databricks.v1+cell": {
     "cellMetadata": {},
     "inputWidgets": {},
     "nuid": "e5ef08ed-ade6-4be7-9ec0-642f68a69b54",
     "showTitle": false,
     "title": ""
    }
   },
   "source": [
    "|_                          |rank |revenues |year_founded|\n",
    "|--------------------------|-----|---------|------------|\n",
    "|Walmart                   |   1 |       0 |           0|\n",
    "|State Grid                |   2 |       0 |           0|\n",
    "|Sinopec Group             |   3 |     999 |           0|\n",
    "|China National Petroleum  |   4 |       0 |           0|\n",
    "|Toyota Motor              |   5 |       0 |           0|"
   ]
  },
  {
   "cell_type": "markdown",
   "metadata": {
    "application/vnd.databricks.v1+cell": {
     "cellMetadata": {},
     "inputWidgets": {},
     "nuid": "939db680-d5da-4cbf-9efa-4c2572e08335",
     "showTitle": false,
     "title": ""
    }
   },
   "source": [
    "### Task 3.4.11\n",
    "1. Add a new column named `rank_change` to the `f500` dataframe. This column should show the change of ranks which you get by subtracting the values in the `rank` column from the values in the `previous_rank` column.\n",
    "2. Use the `Series.describe()` method to return a series of descriptive statistics for the `rank_change` column. Assign the result to `rank_change_desc`.\n",
    "3. Verify that the minimum value of the `rank_change` column is now greater than `-500`."
   ]
  },
  {
   "cell_type": "code",
   "execution_count": 0,
   "metadata": {
    "application/vnd.databricks.v1+cell": {
     "cellMetadata": {},
     "inputWidgets": {},
     "nuid": "cad06959-c98c-4270-a0b1-42f3027d1b08",
     "showTitle": false,
     "title": ""
    }
   },
   "outputs": [],
   "source": [
    "# Start your code below:\n",
    "\n",
    "f500[\"rank_change\"] = f500[\"rank\"] - f500[\"previous_rank\"]\n",
    "rank_change_desc = f500[\"rank_change\"].describe()\n",
    "print(rank_change_desc[\"min\"]>-500)"
   ]
  }
 ],
 "metadata": {
  "application/vnd.databricks.v1+notebook": {
   "dashboards": [],
   "language": "python",
   "notebookMetadata": {},
   "notebookName": "[Answer]4_Exploring_Data_with_Pandas_Fundamentals",
   "widgets": {}
  }
 },
 "nbformat": 4,
 "nbformat_minor": 0
}
