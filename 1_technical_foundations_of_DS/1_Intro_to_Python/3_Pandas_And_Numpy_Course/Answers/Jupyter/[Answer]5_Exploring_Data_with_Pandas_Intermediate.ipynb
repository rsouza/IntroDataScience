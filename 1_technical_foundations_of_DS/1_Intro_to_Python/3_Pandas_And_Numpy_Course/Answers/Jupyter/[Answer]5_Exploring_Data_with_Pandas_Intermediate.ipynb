{
 "cells": [
  {
   "cell_type": "markdown",
   "metadata": {
    "application/vnd.databricks.v1+cell": {
     "cellMetadata": {},
     "inputWidgets": {},
     "nuid": "9adab42e-134b-4dc3-a5c4-1bc8f161369f",
     "showTitle": false,
     "title": ""
    }
   },
   "source": [
    "# About This Notebook\n",
    "In this last chapter of the course, **Exploring Data with pandas: Intermediate**, we will learn:\n",
    "- Select columns, rows and individual items using their integer location.\n",
    "- Use `pd.read_csv()` to read CSV files in pandas.\n",
    "- Work with integer axis labels.\n",
    "- How to use pandas methods to produce boolean arrays.\n",
    "- Use boolean operators to combine boolean comparisons to perform more complex analysis.\n",
    "- Use index labels to align data.\n",
    "- Use aggregation to perform advanced analysis using loops.\n",
    "***\n",
    "## 1. Reading CSV files with pandas (IMPORTANT)\n",
    "\n",
    "In the previous notebook about the fundamentals of exploring data with pandas, we worked with Fortune Global 500 dataset. In this chapter, we will learn how to use the `pandas.read_csv()` function to read in CSV files."
   ]
  },
  {
   "cell_type": "markdown",
   "metadata": {
    "application/vnd.databricks.v1+cell": {
     "cellMetadata": {},
     "inputWidgets": {},
     "nuid": "a0f28916-8ed7-4a10-a7f3-0d80ccb91195",
     "showTitle": false,
     "title": ""
    }
   },
   "source": [
    "Previously, we used the snippet below to read our CSV file into pandas."
   ]
  },
  {
   "cell_type": "code",
   "execution_count": 0,
   "metadata": {
    "application/vnd.databricks.v1+cell": {
     "cellMetadata": {},
     "inputWidgets": {},
     "nuid": "ceb4d65c-e5e5-4112-88f6-385c0178341d",
     "showTitle": false,
     "title": ""
    }
   },
   "outputs": [],
   "source": [
    "import pandas as pd\n",
    "f500 = pd.read_csv(\"f500.csv\", index_col=0)\n",
    "f500.index.name = None\n",
    "f500.head()"
   ]
  },
  {
   "cell_type": "markdown",
   "metadata": {
    "application/vnd.databricks.v1+cell": {
     "cellMetadata": {},
     "inputWidgets": {},
     "nuid": "33b1a843-fb91-4624-b1f4-89b08ff097ca",
     "showTitle": false,
     "title": ""
    }
   },
   "source": [
    "But if you look closely, you may see that the index axis labels are the values from the first column in the data set, **company**:"
   ]
  },
  {
   "cell_type": "markdown",
   "metadata": {
    "application/vnd.databricks.v1+cell": {
     "cellMetadata": {},
     "inputWidgets": {},
     "nuid": "2fa5a4ce-7162-4439-96e7-e0d6310eaa85",
     "showTitle": false,
     "title": ""
    }
   },
   "source": [
    "company,rank,revenues,revenue_change\n",
    "Walmart,1,485873,0.8\n",
    "State Grid,2,315199,-4.4\n",
    "Sinopec Group,3,267518,-9.1\n",
    "China National Petroleum,4,262573,-12.3\n",
    "Toyota Motor,5,254694,7.7"
   ]
  },
  {
   "cell_type": "markdown",
   "metadata": {
    "application/vnd.databricks.v1+cell": {
     "cellMetadata": {},
     "inputWidgets": {},
     "nuid": "722caf1b-3f89-4606-b7be-519b3d226f5c",
     "showTitle": false,
     "title": ""
    }
   },
   "source": [
    "You will see that in the [`read_csv()` function](https://pandas.pydata.org/pandas-docs/stable/generated/pandas.read_csv.html), the `index_col` parameter is optional from the official documentation. When we specify a value of `0`, the first column will be used as the row labels.\n",
    "\n",
    "Compare with the dataframe above, notice how the `f500` dataframe looks like if we remove the second line using `f500.index.name = None`."
   ]
  },
  {
   "cell_type": "code",
   "execution_count": 0,
   "metadata": {
    "application/vnd.databricks.v1+cell": {
     "cellMetadata": {},
     "inputWidgets": {},
     "nuid": "d672bc3d-b4c2-4409-b2f4-859983067363",
     "showTitle": false,
     "title": ""
    }
   },
   "outputs": [],
   "source": [
    "f500 = pd.read_csv(\"f500.csv\", index_col=0)\n",
    "f500.head()"
   ]
  },
  {
   "cell_type": "markdown",
   "metadata": {
    "application/vnd.databricks.v1+cell": {
     "cellMetadata": {},
     "inputWidgets": {},
     "nuid": "d8cb347f-fa46-4cfc-9a4b-5c9abb8a1470",
     "showTitle": false,
     "title": ""
    }
   },
   "source": [
    "Do you see the text **company** above the index labels? This is the name of the first column in the CSV. This value is used as the **axis name** for the index axis in Pandas.\n",
    "\n",
    "You see that both the column and index axes can have names assigned to them. Originally, we accessed the name of the index axes and set it to `None`, that's why the dataframe didn't have a name for the index axis."
   ]
  },
  {
   "cell_type": "markdown",
   "metadata": {
    "application/vnd.databricks.v1+cell": {
     "cellMetadata": {},
     "inputWidgets": {},
     "nuid": "4bcf32bf-a565-498c-baa6-407bf479ebf6",
     "showTitle": false,
     "title": ""
    }
   },
   "source": [
    "### Task 3.5.1\n",
    "1. Use the `pandas.read_csv()` function to read the `f500.csv` CSV file as a pandas dataframe. Assign it to the variable name `f500`.\n",
    "    - Do not use the `index_col` parameter.\n",
    "2. Use the following code to insert the NaN values (missing values) into the `previous_rank` column: <br>\n",
    "````python\n",
    "f500.loc[f500[\"previous_rank\"] == 0, \"previous_rank\"] = np.nan\n",
    "````\n",
    "Remark: If you get a notice that `np` is not defined, you have to import NumPy by typing `import numpy as np`."
   ]
  },
  {
   "cell_type": "code",
   "execution_count": 0,
   "metadata": {
    "application/vnd.databricks.v1+cell": {
     "cellMetadata": {},
     "inputWidgets": {},
     "nuid": "1d05fd2f-c108-4491-9f0b-878b1d95f2d1",
     "showTitle": false,
     "title": ""
    }
   },
   "outputs": [],
   "source": [
    "# Start your code below:\n",
    "\n",
    "import pandas as pd\n",
    "import numpy as np\n",
    "\n",
    "f500 = pd.read_csv(\"f500.csv\")\n",
    "f500.index.name = None\n",
    "\n",
    "f500.loc[f500[\"previous_rank\"] == 0, \"previous_rank\"] = np.nan\n",
    "f500_selection = f500.loc[:,[\"rank\",\"revenues\", \"revenue_change\"]].head()"
   ]
  },
  {
   "cell_type": "markdown",
   "metadata": {
    "application/vnd.databricks.v1+cell": {
     "cellMetadata": {},
     "inputWidgets": {},
     "nuid": "94cfd001-da96-483a-a945-8571d263b954",
     "showTitle": false,
     "title": ""
    }
   },
   "source": [
    "## 2. Using iloc to select by integer position\n",
    "\n",
    "In the previous exercise we read our CSV file into pandas. But this time, we didn't use the `index_col` parameter:"
   ]
  },
  {
   "cell_type": "code",
   "execution_count": 0,
   "metadata": {
    "application/vnd.databricks.v1+cell": {
     "cellMetadata": {},
     "inputWidgets": {},
     "nuid": "223b4dc8-3c37-4c9d-b210-8f3336d31360",
     "showTitle": false,
     "title": ""
    }
   },
   "outputs": [],
   "source": [
    "f500 = pd.read_csv(\"f500.csv\")\n",
    "print(f500[['company', 'rank', 'revenues']].head())"
   ]
  },
  {
   "cell_type": "markdown",
   "metadata": {
    "application/vnd.databricks.v1+cell": {
     "cellMetadata": {},
     "inputWidgets": {},
     "nuid": "93d962ef-75d6-4c81-9a53-e336dc78443f",
     "showTitle": false,
     "title": ""
    }
   },
   "source": [
    "There are two significant differences with the approach that we just took above:\n",
    "- the **company** column is now included as a regular column, not as an index column\n",
    "- the **index labels** now start from `0` as **integers**\n",
    "\n",
    "This is the more conventional way how we should read in a dataframe, and we will be going with this method from now on.\n",
    "\n",
    "However, do you still remember how we worked with a dataframe with **string index labels**? We used `loc[]` to select the data."
   ]
  },
  {
   "cell_type": "markdown",
   "metadata": {
    "application/vnd.databricks.v1+cell": {
     "cellMetadata": {},
     "inputWidgets": {},
     "nuid": "ebb7e1c5-bf77-4bde-be59-1820224f1c42",
     "showTitle": false,
     "title": ""
    }
   },
   "source": [
    "For selecting rows and columns by their integer positions, we use `iloc[]`. Using `iloc[]` is almost identical to indexing with NumPy, with integer positions starting at `0` like ndarrays and Python lists.\n",
    "\n",
    "`DataFrame.iloc[]` behaves similarly to `DataFrame.loc[]`. The full syntax for `DataFrame.iloc[]`, in pseudocode, is: \n",
    "\n",
    "````python\n",
    "df.iloc[row_index, column_index]\n",
    "````\n",
    "\n",
    "To help you memorize the two syntaxes easier:\n",
    "- ``loc``: label based selection\n",
    "- ``iloc``: integer position based selection"
   ]
  },
  {
   "cell_type": "markdown",
   "metadata": {
    "application/vnd.databricks.v1+cell": {
     "cellMetadata": {},
     "inputWidgets": {},
     "nuid": "9cd565be-eba5-482e-9cd3-2b0708da6bbe",
     "showTitle": false,
     "title": ""
    }
   },
   "source": [
    "### Task 3.5.2\n",
    "1. Select just the fifth row of the `f500` dataframe. Assign the result to `fifth_row`.\n",
    "2. Select the value in the first row of the `company` column. Assign the result to `company_value`."
   ]
  },
  {
   "cell_type": "code",
   "execution_count": 0,
   "metadata": {
    "application/vnd.databricks.v1+cell": {
     "cellMetadata": {},
     "inputWidgets": {},
     "nuid": "97701581-5db3-47bb-8fb3-70e80800bde7",
     "showTitle": false,
     "title": ""
    }
   },
   "outputs": [],
   "source": [
    "# Start your code below:\n",
    "\n",
    "fifth_row = f500.iloc[4,:]\n",
    "company_value = f500.iloc[0,0] # company is the first row"
   ]
  },
  {
   "cell_type": "markdown",
   "metadata": {
    "application/vnd.databricks.v1+cell": {
     "cellMetadata": {},
     "inputWidgets": {},
     "nuid": "ed66ba3f-3a2d-45ca-979a-f04a2c913fb7",
     "showTitle": false,
     "title": ""
    }
   },
   "source": [
    "## 3. Using iloc to select by integer position continued\n",
    "\n",
    "If we want to select the first column from our `f500` dataset, we need to use ``:``, a colon, to specify all rows, and then use the integer ``0`` to specify the first column, like this:"
   ]
  },
  {
   "cell_type": "code",
   "execution_count": 0,
   "metadata": {
    "application/vnd.databricks.v1+cell": {
     "cellMetadata": {},
     "inputWidgets": {},
     "nuid": "4b48dc1c-e5ae-4d33-9a19-989053585a62",
     "showTitle": false,
     "title": ""
    }
   },
   "outputs": [],
   "source": [
    "first_column = f500.iloc[:,0]\n",
    "print(first_column)"
   ]
  },
  {
   "cell_type": "markdown",
   "metadata": {
    "application/vnd.databricks.v1+cell": {
     "cellMetadata": {},
     "inputWidgets": {},
     "nuid": "4ce730e0-e700-45a2-b038-159776e99825",
     "showTitle": false,
     "title": ""
    }
   },
   "source": [
    "To specify a positional slice, try to use the same shortcut that we used with labels. Below is an example how we would select the rows between index positions one to four (inclusive):"
   ]
  },
  {
   "cell_type": "code",
   "execution_count": 0,
   "metadata": {
    "application/vnd.databricks.v1+cell": {
     "cellMetadata": {},
     "inputWidgets": {},
     "nuid": "9539062d-df8e-4c0b-9148-c502b2e7a37f",
     "showTitle": false,
     "title": ""
    }
   },
   "outputs": [],
   "source": [
    "second_to_sixth_rows = f500[1:5]\n",
    "print(second_to_sixth_rows)"
   ]
  },
  {
   "cell_type": "markdown",
   "metadata": {
    "application/vnd.databricks.v1+cell": {
     "cellMetadata": {},
     "inputWidgets": {},
     "nuid": "1fed90c3-c2c9-41ec-a062-84ac396d65d1",
     "showTitle": false,
     "title": ""
    }
   },
   "source": [
    "Pay attention to the fact that the row at index position `5` is not included, just as if we were slicing with a Python list or NumPy ndarray. Recall that `loc[]` handles slicing differently:\n",
    "\n",
    "- With `loc[]`, the ending slice **is** included.\n",
    "- With `iloc[]`, the ending slice **is not** included.\n",
    "\n",
    "The table below summarizes the usage of `DataFrame.iloc[]` and `Series.iloc[]` to select by integer position:\n",
    "\n",
    "|Select by integer position| Explicit Syntax| Shorthand Convention|\n",
    "|--|--|--|\n",
    "|Single column from dataframe|df.iloc[:,3]| |\n",
    "|List of columns from dataframe|df.iloc[:,[3,5,6]] | |\n",
    "|Slice of columns from dataframe|df.iloc[:,3:7]| |\n",
    "|Single row from dataframe|df.iloc[20]| |\n",
    "|List of rows from dataframe|df.iloc[[0,3,8]]| |\n",
    "|Slice of rows from dataframe|df.iloc[3:5]|df[3:5]|\n",
    "|Single items from series|s.iloc[8]|s[8]|\n",
    "|List of item from series |s.iloc[[2,8,1]]|s[[2,8,1]]|\n",
    "|Slice of items from series|s.iloc[5:10]|s[5:10]|"
   ]
  },
  {
   "cell_type": "markdown",
   "metadata": {
    "application/vnd.databricks.v1+cell": {
     "cellMetadata": {},
     "inputWidgets": {},
     "nuid": "eeca84ef-99bd-4373-813a-7801e53ea415",
     "showTitle": false,
     "title": ""
    }
   },
   "source": [
    "### Task 3.5.3\n",
    "1. Select the first three rows of the `f500` dataframe. Assign the result to `first_three_rows`.\n",
    "2. Select the first and seventh rows and the first five columns of the `f500` dataframe. Assign the result to `first_seventh_row_slice`."
   ]
  },
  {
   "cell_type": "code",
   "execution_count": 0,
   "metadata": {
    "application/vnd.databricks.v1+cell": {
     "cellMetadata": {},
     "inputWidgets": {},
     "nuid": "4e875448-4232-4835-baaa-19a4f7427917",
     "showTitle": false,
     "title": ""
    }
   },
   "outputs": [],
   "source": [
    "# Start your code below:\n",
    "\n",
    "first_three_rows = f500[:3]\n",
    "first_seventh_row_slice = f500.iloc[[0, 6], :5]\n",
    "\n",
    "print(first_three_rows)\n",
    "print(first_seventh_row_slice)"
   ]
  },
  {
   "cell_type": "markdown",
   "metadata": {
    "application/vnd.databricks.v1+cell": {
     "cellMetadata": {},
     "inputWidgets": {},
     "nuid": "05bfde53-186a-4c49-a01f-2ae68173e942",
     "showTitle": false,
     "title": ""
    }
   },
   "source": [
    "## 4. Using pandas methods to create boolean masks\n",
    "\n",
    "There are two methods that I want to introduce to you in this chapter, which are the `Series.isnull()` [method](https://pandas.pydata.org/pandas-docs/stable/generated/pandas.Series.isnull.html) and `Series.notnull()` [method](https://pandas.pydata.org/pandas-docs/stable/reference/api/pandas.Series.notnull.html). These two methods can be either used to select rows that contain null (or NaN) values or to select rows that do **not** contain null values.\n",
    "\n",
    "Let's first have a look at the `Series.isnull()` method, which is used to view rows with null values (i.e. missing values) in one column.\n",
    "Here is an example for the `revenue_change` column:"
   ]
  },
  {
   "cell_type": "code",
   "execution_count": 0,
   "metadata": {
    "application/vnd.databricks.v1+cell": {
     "cellMetadata": {},
     "inputWidgets": {},
     "nuid": "60c28173-1608-4151-8f5d-3ab4ed2f5b9a",
     "showTitle": false,
     "title": ""
    }
   },
   "outputs": [],
   "source": [
    "rev_is_null = f500[\"revenue_change\"].isnull()\n",
    "print(rev_is_null.head())"
   ]
  },
  {
   "cell_type": "markdown",
   "metadata": {
    "application/vnd.databricks.v1+cell": {
     "cellMetadata": {},
     "inputWidgets": {},
     "nuid": "4c825ff6-35ff-446b-a35c-f9881777fac5",
     "showTitle": false,
     "title": ""
    }
   },
   "source": [
    "We see that using `Series.isnull()` resulted in a boolean series. Just like in NumPy, we can use this series to filter our dataframe, `f500`:"
   ]
  },
  {
   "cell_type": "code",
   "execution_count": 0,
   "metadata": {
    "application/vnd.databricks.v1+cell": {
     "cellMetadata": {},
     "inputWidgets": {},
     "nuid": "3d4868b7-0a3b-41af-8578-205759312e63",
     "showTitle": false,
     "title": ""
    }
   },
   "outputs": [],
   "source": [
    "import pandas as pd\n",
    "import numpy as np\n",
    "\n",
    "f500 = pd.read_csv(\"f500.csv\")\n",
    "f500.index.name = None\n",
    "\n",
    "\n",
    "rev_change_null = f500[rev_is_null]\n",
    "print(rev_change_null[[\"company\", \"country\",\"sector\"]])"
   ]
  },
  {
   "cell_type": "markdown",
   "metadata": {
    "application/vnd.databricks.v1+cell": {
     "cellMetadata": {},
     "inputWidgets": {},
     "nuid": "bf858efb-53a6-4a32-a496-79e3844a4b77",
     "showTitle": false,
     "title": ""
    }
   },
   "source": [
    "### Task 3.5.4\n",
    "1. Use the `Series.isnull()` method to select all rows from `f500` that have a null value for the `profit_change` column. Select only the `company`, `profits`, and `profit_change` columns. Assign the result to `null_profit_change`."
   ]
  },
  {
   "cell_type": "code",
   "execution_count": 0,
   "metadata": {
    "application/vnd.databricks.v1+cell": {
     "cellMetadata": {},
     "inputWidgets": {},
     "nuid": "d5adc402-e58f-4010-9928-fcd5a743c1ca",
     "showTitle": false,
     "title": ""
    }
   },
   "outputs": [],
   "source": [
    "# Start your code below:\n",
    "\n",
    "profit_change_bool  = f500[\"profit_change\"].isnull()\n",
    "null_profit_change = f500[profit_change_bool][[\"company\", \"profits\", \"profit_change\"]]\n",
    "print(null_profit_change)"
   ]
  },
  {
   "cell_type": "markdown",
   "metadata": {
    "application/vnd.databricks.v1+cell": {
     "cellMetadata": {},
     "inputWidgets": {},
     "nuid": "7574a3a3-aea2-4fb2-93a1-cde9ea28b65b",
     "showTitle": false,
     "title": ""
    }
   },
   "source": [
    "## 5. Working with Integer Labels (OPTIONAL)\n",
    "\n",
    "Now let's check the difference between `DataFrame.loc[]` and `DataFrame.iloc[]` – what kind of different output will they provide?:"
   ]
  },
  {
   "cell_type": "markdown",
   "metadata": {
    "application/vnd.databricks.v1+cell": {
     "cellMetadata": {},
     "inputWidgets": {},
     "nuid": "e0518113-37b3-4aa8-aaee-fe313bd07ade",
     "showTitle": false,
     "title": ""
    }
   },
   "source": [
    "We can use `DataFrame.iloc[]`, and it will get us the following result:"
   ]
  },
  {
   "cell_type": "code",
   "execution_count": 0,
   "metadata": {
    "application/vnd.databricks.v1+cell": {
     "cellMetadata": {},
     "inputWidgets": {},
     "nuid": "f3a41008-ebd3-43c1-b0bf-70068f059f22",
     "showTitle": false,
     "title": ""
    }
   },
   "outputs": [],
   "source": [
    "# Only works if you have completed task 3.5.4\n",
    "\n",
    "first_null_profit_change = null_profit_change.iloc[0]\n",
    "print(first_null_profit_change)"
   ]
  },
  {
   "cell_type": "markdown",
   "metadata": {
    "application/vnd.databricks.v1+cell": {
     "cellMetadata": {},
     "inputWidgets": {},
     "nuid": "c1d53be8-8a8b-4cfb-9dce-a8183d3554ac",
     "showTitle": false,
     "title": ""
    }
   },
   "source": [
    "But `DataFrame.loc[]` will throw an error:"
   ]
  },
  {
   "cell_type": "code",
   "execution_count": 0,
   "metadata": {
    "application/vnd.databricks.v1+cell": {
     "cellMetadata": {},
     "inputWidgets": {},
     "nuid": "8a85ec17-af3d-442d-a840-4742e4817093",
     "showTitle": false,
     "title": ""
    }
   },
   "outputs": [],
   "source": [
    "first_null_profit_change = null_profit_change.loc[0]"
   ]
  },
  {
   "cell_type": "markdown",
   "metadata": {
    "application/vnd.databricks.v1+cell": {
     "cellMetadata": {},
     "inputWidgets": {},
     "nuid": "6d9d0e2e-39b7-4503-b3d6-3e576cebf333",
     "showTitle": false,
     "title": ""
    }
   },
   "source": [
    "We get an error, telling us that **the label [0] is not in the [index]**. Remember that `DataFrame.loc[]` is used for label based selection:\n",
    "\n",
    "- ``loc``: label based selection\n",
    "- ``iloc``: integer position based selection\n",
    "\n",
    "We see that there is no row with a 0 label in the index, we got the error above. If we wanted to select a row using `loc[]`, we'd have to use the integer label for the first row — `5`."
   ]
  },
  {
   "cell_type": "code",
   "execution_count": 0,
   "metadata": {
    "application/vnd.databricks.v1+cell": {
     "cellMetadata": {},
     "inputWidgets": {},
     "nuid": "05d8b8f4-7209-46b7-a283-d1595699622d",
     "showTitle": false,
     "title": ""
    }
   },
   "outputs": [],
   "source": [
    "first_null_profit_change = null_profit_change.loc[5]\n",
    "print(first_null_profit_change)"
   ]
  },
  {
   "cell_type": "markdown",
   "metadata": {
    "application/vnd.databricks.v1+cell": {
     "cellMetadata": {},
     "inputWidgets": {},
     "nuid": "f8bcc874-59f5-4a6b-99f4-6e314d888681",
     "showTitle": false,
     "title": ""
    }
   },
   "source": [
    "## 6. Pandas Index Alignment (OPTIONAL)\n",
    "Do you know that pandas has a very powerful aspect? --- Almost every operation will <b>align on the index labels</b>. Let's look at an example below to understand what this means. We have a dataframe named `food` and a series named `alt_name`:"
   ]
  },
  {
   "cell_type": "code",
   "execution_count": 0,
   "metadata": {
    "application/vnd.databricks.v1+cell": {
     "cellMetadata": {},
     "inputWidgets": {},
     "nuid": "1540ae25-914c-404f-99c4-29d00b2ed7f3",
     "showTitle": false,
     "title": ""
    }
   },
   "outputs": [],
   "source": [
    "import pandas as pd\n",
    "d = {'fruit_veg': [\"fruit\", \"veg\", \"fruit\", \"veg\",\"veg\"], 'qty': [4, 2, 4, 1, 2]}\n",
    "food = pd.DataFrame(data=d)\n",
    "food.index = ['tomato', 'carrot', 'lime', 'corn','eggplant'] \n",
    "food"
   ]
  },
  {
   "cell_type": "code",
   "execution_count": 0,
   "metadata": {
    "application/vnd.databricks.v1+cell": {
     "cellMetadata": {},
     "inputWidgets": {},
     "nuid": "581f563f-d1ad-4807-8ef5-5f74146bdfff",
     "showTitle": false,
     "title": ""
    }
   },
   "outputs": [],
   "source": [
    "alt_name = pd.Series(['rocket', 'aubergine', 'maize'], index=[\"arugula\", \"eggplant\", \"corn\"])\n",
    "alt_name"
   ]
  },
  {
   "cell_type": "markdown",
   "metadata": {
    "application/vnd.databricks.v1+cell": {
     "cellMetadata": {},
     "inputWidgets": {},
     "nuid": "d95b649e-8974-442c-a6fa-1812d55fd50d",
     "showTitle": false,
     "title": ""
    }
   },
   "source": [
    "By observing the two dataframes above, we see that though the `food` dataframe and the `alt_name` series have different numbers of items, they share two of the same index labels which are `corn` and `eggplant`. However, these are in different orders. If we wanted to add `alt_name` as a new column in our `food` dataframe, we can use the following code:"
   ]
  },
  {
   "cell_type": "code",
   "execution_count": 0,
   "metadata": {
    "application/vnd.databricks.v1+cell": {
     "cellMetadata": {},
     "inputWidgets": {},
     "nuid": "2cb1b586-a871-4018-8100-fafd811c452b",
     "showTitle": false,
     "title": ""
    }
   },
   "outputs": [],
   "source": [
    "food[\"alt_name\"] = alt_name\n",
    "\n",
    "food"
   ]
  },
  {
   "cell_type": "markdown",
   "metadata": {
    "application/vnd.databricks.v1+cell": {
     "cellMetadata": {},
     "inputWidgets": {},
     "nuid": "9cbb2cba-2bfe-4bb5-abae-8ddae5ff5d17",
     "showTitle": false,
     "title": ""
    }
   },
   "source": [
    "When we perform the code above, pandas will intentionally ignore the order of the ``alt_name`` series, and automatically align on the index labels.\n",
    "\n",
    "In addition, Pandas will also:\n",
    "\n",
    "- Discard any items that have an index that doesn't match the dataframe (like `arugula`).\n",
    "- Fill any remaining rows with `NaN`.\n",
    "\n",
    "Observe the result again carefully."
   ]
  },
  {
   "cell_type": "code",
   "execution_count": 0,
   "metadata": {
    "application/vnd.databricks.v1+cell": {
     "cellMetadata": {},
     "inputWidgets": {},
     "nuid": "33260fb6-3c45-4dd2-863e-20707997c210",
     "showTitle": false,
     "title": ""
    }
   },
   "outputs": [],
   "source": [
    "# Below is the result\n",
    "food"
   ]
  },
  {
   "cell_type": "markdown",
   "metadata": {
    "application/vnd.databricks.v1+cell": {
     "cellMetadata": {},
     "inputWidgets": {},
     "nuid": "e134abc6-20b5-47b4-83a7-058baaa04a28",
     "showTitle": false,
     "title": ""
    }
   },
   "source": [
    "You see that with every occasion, the pandas library will align on index, no matter if our index labels are strings or integers - this makes working with data from different sources much much easier."
   ]
  },
  {
   "cell_type": "markdown",
   "metadata": {
    "application/vnd.databricks.v1+cell": {
     "cellMetadata": {},
     "inputWidgets": {},
     "nuid": "cdd42280-69ba-44e7-8204-b275b15f7759",
     "showTitle": false,
     "title": ""
    }
   },
   "source": [
    "## 7. Using Boolean Operators (IMPORTANT)\n",
    "We can combine boolean arrays using **boolean operators**. In Python, these boolean operators are `and`, `or`, and `not`. But in pandas, there is a slight difference compared to Python. Take a look at the chart below: \n",
    "\n",
    "|pandas|Python equivalent|Meaning|\n",
    "|-|-|-|\n",
    "|a & b| a and b| True if both a and b are True, else False|\n",
    "| a \\| b| a or b| True if either a or b is True|\n",
    "|~a| not a | True if a is False, else False|\n",
    "\n",
    "Let's try to use the syntaxes in the table in the small example below:"
   ]
  },
  {
   "cell_type": "code",
   "execution_count": 0,
   "metadata": {
    "application/vnd.databricks.v1+cell": {
     "cellMetadata": {},
     "inputWidgets": {},
     "nuid": "49b1270a-b54a-43ab-bfd2-39afa199bd68",
     "showTitle": false,
     "title": ""
    }
   },
   "outputs": [],
   "source": [
    "cols = [\"company\", \"revenues\", \"country\"]\n",
    "f500_sel = f500[cols].head()\n",
    "f500_sel.head()"
   ]
  },
  {
   "cell_type": "markdown",
   "metadata": {
    "application/vnd.databricks.v1+cell": {
     "cellMetadata": {},
     "inputWidgets": {},
     "nuid": "0ed74fef-30be-4f71-96b6-3c67ab8ca554",
     "showTitle": false,
     "title": ""
    }
   },
   "source": [
    "We want to find the companies in `f500_sel` with more than 265 billion in revenue, and on top of that with headquarters located in China. We can achieve this by using two boolean comparisons like this:"
   ]
  },
  {
   "cell_type": "code",
   "execution_count": 0,
   "metadata": {
    "application/vnd.databricks.v1+cell": {
     "cellMetadata": {},
     "inputWidgets": {},
     "nuid": "69146b1d-cf51-4a52-8674-f544dceebe79",
     "showTitle": false,
     "title": ""
    }
   },
   "outputs": [],
   "source": [
    "over_265 = f500_sel[\"revenues\"] > 265000\n",
    "china = f500_sel[\"country\"] == \"China\"\n",
    "print(over_265.head())\n",
    "print(china.head())"
   ]
  },
  {
   "cell_type": "markdown",
   "metadata": {
    "application/vnd.databricks.v1+cell": {
     "cellMetadata": {},
     "inputWidgets": {},
     "nuid": "59353eb1-29d8-474a-bec9-03f119729720",
     "showTitle": false,
     "title": ""
    }
   },
   "source": [
    "What we can do next is to use the `&` operator to combine the two boolean arrays to get the actual boolean we want, like this:"
   ]
  },
  {
   "cell_type": "code",
   "execution_count": 0,
   "metadata": {
    "application/vnd.databricks.v1+cell": {
     "cellMetadata": {},
     "inputWidgets": {},
     "nuid": "db8494cd-8192-4a26-b3e2-08a43ce9481f",
     "showTitle": false,
     "title": ""
    }
   },
   "outputs": [],
   "source": [
    "combined = over_265 & china\n",
    "combined.head()"
   ]
  },
  {
   "cell_type": "markdown",
   "metadata": {
    "application/vnd.databricks.v1+cell": {
     "cellMetadata": {},
     "inputWidgets": {},
     "nuid": "79b2f425-cbe2-424d-b6fc-42ed3c15d0e8",
     "showTitle": false,
     "title": ""
    }
   },
   "source": [
    "Last but not least, we perform selection on our dataframe to get the final result like this:"
   ]
  },
  {
   "cell_type": "code",
   "execution_count": 0,
   "metadata": {
    "application/vnd.databricks.v1+cell": {
     "cellMetadata": {},
     "inputWidgets": {},
     "nuid": "d3f7d7f2-ff1d-4c7e-8639-47d732013c47",
     "showTitle": false,
     "title": ""
    }
   },
   "outputs": [],
   "source": [
    "final_cols = [\"company\", \"revenues\"]\n",
    "result = f500_sel.loc[combined, final_cols]\n",
    "result.head()"
   ]
  },
  {
   "cell_type": "markdown",
   "metadata": {
    "application/vnd.databricks.v1+cell": {
     "cellMetadata": {},
     "inputWidgets": {},
     "nuid": "bad7ebc4-6a9e-4902-94e7-0860901df7e6",
     "showTitle": false,
     "title": ""
    }
   },
   "source": [
    "This is the end result which fulfills all of our criteria.\n",
    "\n",
    "### Task 3.5.7\n",
    "Now try to do a similar task by yourself:\n",
    "1. Select all companies with revenues over **100 billion** and **negative profits** from the `f500` dataframe. Note that the entries in the profits column are given in millions of dollars (USD). The result should include all columns.\n",
    "    - Create a boolean array that selects the companies with revenues greater than 100 billion. Assign the result to `large_revenue`.\n",
    "    - Create a boolean array that selects the companies with profits less than `0`. Assign the result to `negative_profits`.\n",
    "    - Combine `large_revenue` and `negative_profits`. Assign the result to `combined`.\n",
    "    - Use combined to filter `f500`. Assign the result to `big_rev_neg_profit`."
   ]
  },
  {
   "cell_type": "code",
   "execution_count": 0,
   "metadata": {
    "application/vnd.databricks.v1+cell": {
     "cellMetadata": {},
     "inputWidgets": {},
     "nuid": "5ec26a7d-de7a-4df9-b4e3-03609bd9d39d",
     "showTitle": false,
     "title": ""
    }
   },
   "outputs": [],
   "source": [
    "# Start your code below:\n",
    "\n",
    "large_revenue = f500[\"revenues\"] > 100000\n",
    "negative_profits = f500[\"profits\"] < 0\n",
    "combined = large_revenue & negative_profits\n",
    "big_rev_neg_profit = f500[combined]"
   ]
  },
  {
   "cell_type": "markdown",
   "metadata": {
    "application/vnd.databricks.v1+cell": {
     "cellMetadata": {},
     "inputWidgets": {},
     "nuid": "d0a4eafb-f945-455d-be46-d7dc9d7852cb",
     "showTitle": false,
     "title": ""
    }
   },
   "source": [
    "## 8. Sorting Values\n",
    "\n",
    "Now let's try to answer some more complicated questions about our data set. What if we wanted to find the company that employs the most people in China? How can we achieve this? We can first select all of the rows where the `country` column equals `China`, like this:"
   ]
  },
  {
   "cell_type": "code",
   "execution_count": 0,
   "metadata": {
    "application/vnd.databricks.v1+cell": {
     "cellMetadata": {},
     "inputWidgets": {},
     "nuid": "f91d9263-3deb-4dc7-b325-6be407c6d3b6",
     "showTitle": false,
     "title": ""
    }
   },
   "outputs": [],
   "source": [
    "selected_rows = f500[f500[\"country\"] == \"China\"]"
   ]
  },
  {
   "cell_type": "markdown",
   "metadata": {
    "application/vnd.databricks.v1+cell": {
     "cellMetadata": {},
     "inputWidgets": {},
     "nuid": "577f0a21-f2af-4615-a680-d4bef9e70a99",
     "showTitle": false,
     "title": ""
    }
   },
   "source": [
    "Then, we can use the [`DataFrame.sort_values()` method](https://pandas.pydata.org/pandas-docs/stable/generated/pandas.DataFrame.sort_values.html) to sort the rows on the employees column, like this:"
   ]
  },
  {
   "cell_type": "code",
   "execution_count": 0,
   "metadata": {
    "application/vnd.databricks.v1+cell": {
     "cellMetadata": {},
     "inputWidgets": {},
     "nuid": "4e0e6d93-4ded-4538-94e0-c66fdf0a9ddf",
     "showTitle": false,
     "title": ""
    }
   },
   "outputs": [],
   "source": [
    "sorted_rows = selected_rows.sort_values(\"employees\")\n",
    "print(sorted_rows[[\"company\", \"country\", \"employees\"]].head())"
   ]
  },
  {
   "cell_type": "markdown",
   "metadata": {
    "application/vnd.databricks.v1+cell": {
     "cellMetadata": {},
     "inputWidgets": {},
     "nuid": "bb3ceaf4-2662-4410-b887-3e2214d0e65a",
     "showTitle": false,
     "title": ""
    }
   },
   "source": [
    "The `sort_values()` method will by default automatically sort the rows in ascending order — from smallest to largest.\n",
    "\n",
    "But if we want to sort the rows in descending order instead, we can achieve this by setting the `ascending` parameter to `False`, like this:"
   ]
  },
  {
   "cell_type": "code",
   "execution_count": 0,
   "metadata": {
    "application/vnd.databricks.v1+cell": {
     "cellMetadata": {},
     "inputWidgets": {},
     "nuid": "485839f6-d7da-4986-a66c-ca2b43602849",
     "showTitle": false,
     "title": ""
    }
   },
   "outputs": [],
   "source": [
    "sorted_rows = selected_rows.sort_values(\"employees\", ascending=False)\n",
    "print(sorted_rows[[\"company\", \"country\", \"employees\"]].head())"
   ]
  },
  {
   "cell_type": "markdown",
   "metadata": {
    "application/vnd.databricks.v1+cell": {
     "cellMetadata": {},
     "inputWidgets": {},
     "nuid": "93531a0d-c710-49a9-8ca3-38ec00e92f2e",
     "showTitle": false,
     "title": ""
    }
   },
   "source": [
    "Now we see the Companies in China who employ the most people is China National Petroleum. \n",
    "\n",
    "Can you find out the same about Japanese company?\n",
    "### Task 3.5.8\n",
    "\n",
    "1. Find the companies headquartered in Japan with the largest number of employees.\n",
    "    - Select only the rows that have a country name equal to `Japan`.\n",
    "    - Use `DataFrame.sort_values()` to sort those rows by the `employees` column in descending order.\n",
    "    - Use `DataFrame.iloc[]` to select the first row from the sorted dataframe.\n",
    "    - Extract the company name from the index label `company` from the first row. Assign the result to `top_japanese_employer`."
   ]
  },
  {
   "cell_type": "code",
   "execution_count": 0,
   "metadata": {
    "application/vnd.databricks.v1+cell": {
     "cellMetadata": {},
     "inputWidgets": {},
     "nuid": "4a841a40-fc4d-4e4e-98e1-828c19d10911",
     "showTitle": false,
     "title": ""
    }
   },
   "outputs": [],
   "source": [
    "# Start your code below:\n",
    "\n",
    "japan = f500[f500[\"country\"] == \"Japan\"]\n",
    "sorted_rows = japan.sort_values(\"employees\", ascending=False)\n",
    "top_japanese_employer = sorted_rows.iloc[0,]\n",
    "top_japanese_employer = top_japanese_employer.loc[\"company\"]"
   ]
  }
 ],
 "metadata": {
  "application/vnd.databricks.v1+notebook": {
   "dashboards": [],
   "language": "python",
   "notebookMetadata": {},
   "notebookName": "[Answer]5_Exploring_Data_with_Pandas_Intermediate",
   "widgets": {}
  }
 },
 "nbformat": 4,
 "nbformat_minor": 0
}
