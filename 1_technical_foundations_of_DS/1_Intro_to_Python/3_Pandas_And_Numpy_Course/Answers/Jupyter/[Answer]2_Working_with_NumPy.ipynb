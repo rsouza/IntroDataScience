{
 "cells": [
  {
   "cell_type": "markdown",
   "metadata": {
    "application/vnd.databricks.v1+cell": {
     "cellMetadata": {},
     "inputWidgets": {},
     "nuid": "6e7886da-c308-4e45-8b84-92c7f7c50429",
     "showTitle": false,
     "title": ""
    }
   },
   "source": [
    "## About This Notebook \n",
    "In this **Working with NumPy** notebook, we will learn:\n",
    "- How to use `numpy.genfromtxt()` to read in an ndarray.\n",
    "- What a boolean array is, and how to create one.\n",
    "- How to use boolean indexing to filter values in one and two-dimensional ndarrays.\n",
    "- How to assign one or more new values to an ndarray based on their locations.\n",
    "- How to assign one or more new values to an ndarray based on their values.\n",
    "***\n",
    "## 1. Reading CSV files with NumPy\n",
    "\n",
    "In this chapter, we will learn a technique called <b>Boolean Indexing</b>. Before we dig deeper into this topic, let's first learn how to read files into NumPy ndarrays. Below is the simplified syntax of the function, as well as an explanation for the two parameters:\n",
    "\n",
    "````python\n",
    "np.genfromtxt(filename, delimiter=None)\n",
    "````\n",
    "\n",
    "- ``filename``: A positional argument, usually a string representing the path to the text file to be read.\n",
    "- ``delimiter``: A named argument, specifying the string used to separate each value.\n",
    "\n",
    "In our case, the data is stored in a CSV file, therefore the delimiter is a comma \",\".\n",
    "So this is how we can read in a file named ``data.csv``:\n",
    "\n",
    "\n",
    "````python\n",
    "data = np.genfromtxt('data.csv', delimiter = ',')\n",
    "````"
   ]
  },
  {
   "cell_type": "markdown",
   "metadata": {
    "application/vnd.databricks.v1+cell": {
     "cellMetadata": {},
     "inputWidgets": {},
     "nuid": "450dc766-9063-47cf-b768-80667d365fa9",
     "showTitle": false,
     "title": ""
    }
   },
   "source": [
    "### Task 3.2.1:\n",
    "Now let's try to read our nyc_taxis.csv file into NumPy.\n",
    "\n",
    "1. Import the NumPy library and assign to the alias ``np``.\n",
    "2. Use the `np.genfromtxt()` function to read the nyc_taxis.csv file into NumPy. Assign the result to taxi. Do not forget to use also delimiter argument, such as shown above.\n",
    "3. Use the ``ndarray.shape`` attribute to assign the shape of taxi to ``taxi_shape``."
   ]
  },
  {
   "cell_type": "code",
   "execution_count": 0,
   "metadata": {
    "application/vnd.databricks.v1+cell": {
     "cellMetadata": {},
     "inputWidgets": {},
     "nuid": "b8c502b8-15fc-4541-8abd-14fdb7e0ae9c",
     "showTitle": false,
     "title": ""
    }
   },
   "outputs": [],
   "source": [
    "# Start your code here:\n",
    "\n",
    "import numpy as np\n",
    "taxi = np.genfromtxt('nyc_taxis.csv', delimiter = ',')\n",
    "taxi_shape = taxi.shape\n",
    "\n",
    "print(taxi_shape)"
   ]
  },
  {
   "cell_type": "markdown",
   "metadata": {
    "application/vnd.databricks.v1+cell": {
     "cellMetadata": {},
     "inputWidgets": {},
     "nuid": "22f9c5f5-6323-41ea-8b65-5a139d3f1c02",
     "showTitle": false,
     "title": ""
    }
   },
   "source": [
    "## 2. Reading CSV files with NumPy Continued\n",
    "\n",
    "We have used the `numpy.genfromtxt()` function to read the ``nyc_taxis.csv`` file into NumPy in the previous notebook.\n",
    "\n",
    "Just to refresh your memory, in the previous mission we have done something like this:"
   ]
  },
  {
   "cell_type": "markdown",
   "metadata": {
    "application/vnd.databricks.v1+cell": {
     "cellMetadata": {},
     "inputWidgets": {},
     "nuid": "dda7eb5e-effe-4e6b-946d-affde6d5ad53",
     "showTitle": false,
     "title": ""
    }
   },
   "source": [
    "````python\n",
    "# import nyc_taxi.csv as a list of lists\n",
    "f = open(\"nyc_taxis.csv\", \"r\")\n",
    "taxi_list = list(csv.reader(f))\n",
    "\n",
    "# remove the header row\n",
    "taxi_list = taxi_list[1:]\n",
    "\n",
    "# convert all values to floats\n",
    "converted_taxi_list = []\n",
    "for row in taxi_list:\n",
    "    converted_row = []\n",
    "    for item in row:\n",
    "        converted_row.append(float(item))\n",
    "    converted_taxi_list.append(converted_row)\n",
    "\n",
    "taxi = np.array(converted_taxi_list)\n",
    "````"
   ]
  },
  {
   "cell_type": "markdown",
   "metadata": {
    "application/vnd.databricks.v1+cell": {
     "cellMetadata": {},
     "inputWidgets": {},
     "nuid": "c7e30333-8a62-4253-b5f8-895621a77875",
     "showTitle": false,
     "title": ""
    }
   },
   "source": [
    "Have you noticed that we converted all the values to floats before we converted the list of lists to an ndarray? \n",
    "> The reason for this is because that NumPy ndarrays can contain only **one datatype**.\n",
    "\n",
    "This part of the code was omitted in the previous exercise, because when `numpy.getfromtxt()` is called, the function automatically tries to determine the data type of the file by looking at the values.\n",
    "\n",
    "To see which datatype we have in the ndarray, simply use `ndarray.dtype` attribute like this:\n",
    "````python\n",
    "print(taxi.dtype)\n",
    "````\n",
    "### Task 3.2.2:\n",
    "1. Use the `numpy.genfromtxt()` function to again read the nyc_taxis.csv file into NumPy, but this time, skip the first row. Assign the result to `taxi`.\n",
    "2. Assign the shape of `taxi` to `taxi_shape`."
   ]
  },
  {
   "cell_type": "code",
   "execution_count": 0,
   "metadata": {
    "application/vnd.databricks.v1+cell": {
     "cellMetadata": {},
     "inputWidgets": {},
     "nuid": "1d17c16f-d1dc-49b1-a37b-9ae5b5891b88",
     "showTitle": false,
     "title": ""
    }
   },
   "outputs": [],
   "source": [
    "# Start your code here:\n",
    "\n",
    "import numpy as np\n",
    "taxi = np.genfromtxt('nyc_taxis.csv', delimiter = ',', skip_header = True)\n",
    "taxi_shape = taxi.shape"
   ]
  },
  {
   "cell_type": "markdown",
   "metadata": {
    "application/vnd.databricks.v1+cell": {
     "cellMetadata": {},
     "inputWidgets": {},
     "nuid": "a194d85d-31a6-47ca-8155-22bffa6b51d1",
     "showTitle": false,
     "title": ""
    }
   },
   "source": [
    "## 3. Boolean Arrays\n",
    "\n",
    "In this session, we're going to focus on the boolean array.\n",
    "\n",
    "Do you remember that the boolean (or bool) type is a built-in Python type that can be one of two unique values:\n",
    "\n",
    "- True\n",
    "- False\n",
    "\n",
    "Do you also remember that we've used boolean values when working with Python comparison operators like \n",
    "- ``==`` equal\n",
    "- ``>`` greater than\n",
    "- ``<`` less than\n",
    "- ``!=`` not equal\n",
    "\n",
    "See a couple examples of simple boolean operations below just to refresh your memory:"
   ]
  },
  {
   "cell_type": "code",
   "execution_count": 0,
   "metadata": {
    "application/vnd.databricks.v1+cell": {
     "cellMetadata": {},
     "inputWidgets": {},
     "nuid": "949b5cc9-e141-47a9-b307-efe64654ec1e",
     "showTitle": false,
     "title": ""
    }
   },
   "outputs": [],
   "source": [
    "print(type(3.5) == float)"
   ]
  },
  {
   "cell_type": "code",
   "execution_count": 0,
   "metadata": {
    "application/vnd.databricks.v1+cell": {
     "cellMetadata": {},
     "inputWidgets": {},
     "nuid": "1a34e619-4c57-4b3c-ae76-754b0cb52e74",
     "showTitle": false,
     "title": ""
    }
   },
   "outputs": [],
   "source": [
    "print(5 > 6)"
   ]
  },
  {
   "cell_type": "markdown",
   "metadata": {
    "application/vnd.databricks.v1+cell": {
     "cellMetadata": {},
     "inputWidgets": {},
     "nuid": "09f1169f-20e5-4b72-b6db-38f87184d165",
     "showTitle": false,
     "title": ""
    }
   },
   "source": [
    "In the previous notebook where we explored vector operations we learned that the result of an operation between a ndarray and a single value is a new ndarray:"
   ]
  },
  {
   "cell_type": "code",
   "execution_count": 0,
   "metadata": {
    "application/vnd.databricks.v1+cell": {
     "cellMetadata": {},
     "inputWidgets": {},
     "nuid": "a06a8b00-2521-4495-9133-357707ce66cf",
     "showTitle": false,
     "title": ""
    }
   },
   "outputs": [],
   "source": [
    "import numpy as np\n",
    "print(np.array([2,4,6,8]) + 10)\n",
    "\n",
    "#The + 10 operation is applied to each value in the array"
   ]
  },
  {
   "cell_type": "markdown",
   "metadata": {
    "application/vnd.databricks.v1+cell": {
     "cellMetadata": {},
     "inputWidgets": {},
     "nuid": "e5ee409d-3631-409b-80ad-c4471563f7ee",
     "showTitle": false,
     "title": ""
    }
   },
   "source": [
    "Guess what happens when we perform a **boolean operation** between an ndarray and a single value:"
   ]
  },
  {
   "cell_type": "code",
   "execution_count": 0,
   "metadata": {
    "application/vnd.databricks.v1+cell": {
     "cellMetadata": {},
     "inputWidgets": {},
     "nuid": "a2cbe30b-5b76-4e96-9418-874d37f06c6f",
     "showTitle": false,
     "title": ""
    }
   },
   "outputs": [],
   "source": [
    "import numpy as np\n",
    "print(np.array([2,4,6,8]) < 5)"
   ]
  },
  {
   "cell_type": "markdown",
   "metadata": {
    "application/vnd.databricks.v1+cell": {
     "cellMetadata": {},
     "inputWidgets": {},
     "nuid": "dcf8a0df-a5b5-432d-bb8a-7ff492d11ecb",
     "showTitle": false,
     "title": ""
    }
   },
   "source": [
    "## 4. Boolean Indexing with 1D ndarrays\n",
    "\n",
    "In the last exercise, we learned how to create boolean arrays using vectorized boolean operations. Now, I want to show you a technique known as **boolean indexing**, (or index/select) using boolean arrays.\n",
    "See an example from the previous notebook:"
   ]
  },
  {
   "cell_type": "code",
   "execution_count": 0,
   "metadata": {
    "application/vnd.databricks.v1+cell": {
     "cellMetadata": {},
     "inputWidgets": {},
     "nuid": "843718cd-2c8e-486b-8b99-5ac01c278281",
     "showTitle": false,
     "title": ""
    }
   },
   "outputs": [],
   "source": [
    "c = np.array([80.0, 103.4, 96.9, 200.3])\n",
    "c_bool = c > 100\n",
    "print(c_bool)"
   ]
  },
  {
   "cell_type": "markdown",
   "metadata": {
    "application/vnd.databricks.v1+cell": {
     "cellMetadata": {},
     "inputWidgets": {},
     "nuid": "dc698bbf-9675-4f47-983c-248e31267cdb",
     "showTitle": false,
     "title": ""
    }
   },
   "source": [
    "How do we index using our new boolean array? All we need to do is to use the square brackets like this:"
   ]
  },
  {
   "cell_type": "code",
   "execution_count": 0,
   "metadata": {
    "application/vnd.databricks.v1+cell": {
     "cellMetadata": {},
     "inputWidgets": {},
     "nuid": "a8b8bac7-4e52-4f5f-a4f0-31fa1b98f702",
     "showTitle": false,
     "title": ""
    }
   },
   "outputs": [],
   "source": [
    "result = c[c_bool]\n",
    "print(result)"
   ]
  },
  {
   "cell_type": "markdown",
   "metadata": {
    "application/vnd.databricks.v1+cell": {
     "cellMetadata": {},
     "inputWidgets": {},
     "nuid": "ba1b9a85-cf5b-4ec1-87b1-a9a1e404f96d",
     "showTitle": false,
     "title": ""
    }
   },
   "source": [
    "The boolean array acts as a filter, the values that corresponding to **True** become part of the result and the values that corresponding to **False** are removed from the final list.\n",
    "\n",
    "How can we use boolean indexing knowledge in our data set?\n",
    "For example, to confirm the number of taxi rides from the month of january, we can do this:"
   ]
  },
  {
   "cell_type": "code",
   "execution_count": 0,
   "metadata": {
    "application/vnd.databricks.v1+cell": {
     "cellMetadata": {},
     "inputWidgets": {},
     "nuid": "79a4cb54-b01d-40cd-9448-554997ae4cb2",
     "showTitle": false,
     "title": ""
    }
   },
   "outputs": [],
   "source": [
    "# First, select just the pickup_month column (second column in the ndarray with column index 1)\n",
    "pickup_month = taxi[:,1]\n",
    "\n",
    "# use a boolean operation to make a boolean array, where the value 1 corresponds to January\n",
    "january_bool = pickup_month == 1\n",
    "\n",
    "# use the new boolean array to select only the items from pickup_month that have a value of 1\n",
    "january = pickup_month[january_bool]\n",
    "\n",
    "# use the .shape attribute to find out how many items are in our january ndarray\n",
    "january_rides = january.shape[0]\n",
    "print(january_rides)"
   ]
  },
  {
   "cell_type": "markdown",
   "metadata": {
    "application/vnd.databricks.v1+cell": {
     "cellMetadata": {},
     "inputWidgets": {},
     "nuid": "329550e6-5dec-437a-8f1f-7b6fdb55cab0",
     "showTitle": false,
     "title": ""
    }
   },
   "source": [
    "### Task 3.2.4:\n",
    "\n",
    "1. Calculate the number of rides in the taxi ndarray that are from **February**:\n",
    "    - Create a boolean array, ``february_bool``, that evaluates whether the items in ``pickup_month`` are equal to ``2``.\n",
    "    - Use the ``february_bool`` boolean array to index ``pickup_month``. Assign the result to ``february``.\n",
    "    - Use the ``ndarray.shape`` attribute to find the number of items in `february`. Assign the result to ``february_rides``."
   ]
  },
  {
   "cell_type": "code",
   "execution_count": 0,
   "metadata": {
    "application/vnd.databricks.v1+cell": {
     "cellMetadata": {},
     "inputWidgets": {},
     "nuid": "4cb7b65d-c487-48e9-8ce0-12f70e52ce0a",
     "showTitle": false,
     "title": ""
    }
   },
   "outputs": [],
   "source": [
    "# Start your code below:\n",
    "\n",
    "pickup_month = taxi[:,1]\n",
    "february_bool = pickup_month == 2\n",
    "february = pickup_month[february_bool]\n",
    "february_rides = february.shape[0]"
   ]
  },
  {
   "cell_type": "markdown",
   "metadata": {
    "application/vnd.databricks.v1+cell": {
     "cellMetadata": {},
     "inputWidgets": {},
     "nuid": "8356da5c-e61c-4b91-966e-e58389dca8c0",
     "showTitle": false,
     "title": ""
    }
   },
   "source": [
    "## 5. Boolean Indexing with 2D ndaarays\n",
    "\n",
    "Now it is time to use boolean indexing with ``2D ndarrays``. \n",
    "> One thing to keep in mind is that the boolean array must have the same length as the dimension you're indexing. This is one of the constraints when we work with 2D ndarrays."
   ]
  },
  {
   "cell_type": "code",
   "execution_count": 0,
   "metadata": {
    "application/vnd.databricks.v1+cell": {
     "cellMetadata": {},
     "inputWidgets": {},
     "nuid": "b7e0ae5f-b3c3-42f2-bd46-8a717ff292f1",
     "showTitle": false,
     "title": ""
    }
   },
   "outputs": [],
   "source": [
    "arr = np.array([\n",
    "                [1,2,3],\n",
    "                [4,5,6],\n",
    "                [7,8,9],\n",
    "                [10,11,12]\n",
    "])\n",
    "\n",
    "print(arr)"
   ]
  },
  {
   "cell_type": "code",
   "execution_count": 0,
   "metadata": {
    "application/vnd.databricks.v1+cell": {
     "cellMetadata": {},
     "inputWidgets": {},
     "nuid": "7b1598b6-c69b-4f7f-83e1-3ebbbd03af67",
     "showTitle": false,
     "title": ""
    }
   },
   "outputs": [],
   "source": [
    "bool_1 = [True, False, True, True]\n",
    "print(arr[bool_1])"
   ]
  },
  {
   "cell_type": "code",
   "execution_count": 0,
   "metadata": {
    "application/vnd.databricks.v1+cell": {
     "cellMetadata": {},
     "inputWidgets": {},
     "nuid": "21a22885-83b0-44b4-896e-b69fced3a9ac",
     "showTitle": false,
     "title": ""
    }
   },
   "outputs": [],
   "source": [
    "print(arr[:, bool_1])"
   ]
  },
  {
   "cell_type": "markdown",
   "metadata": {
    "application/vnd.databricks.v1+cell": {
     "cellMetadata": {},
     "inputWidgets": {},
     "nuid": "3fbc8188-b18f-4fef-b83b-9d1a51dfacec",
     "showTitle": false,
     "title": ""
    }
   },
   "source": [
    "You see that `bool_1`'s shape (4) is not the same as the shape of `arr`'s second axis(3), so it can't be used to index and produces an error."
   ]
  },
  {
   "cell_type": "code",
   "execution_count": 0,
   "metadata": {
    "application/vnd.databricks.v1+cell": {
     "cellMetadata": {},
     "inputWidgets": {},
     "nuid": "b216cbb9-a38a-49bc-8560-2d3d30460950",
     "showTitle": false,
     "title": ""
    }
   },
   "outputs": [],
   "source": [
    "bool_2 = [False, True, True]\n",
    "print(arr[:,bool_2])"
   ]
  },
  {
   "cell_type": "markdown",
   "metadata": {
    "application/vnd.databricks.v1+cell": {
     "cellMetadata": {},
     "inputWidgets": {},
     "nuid": "a48a115f-d04d-4dbe-a84c-d9592ad83944",
     "showTitle": false,
     "title": ""
    }
   },
   "source": [
    "`bool_2`'s shape (3) is the same as the shape of `arr`'s second axis (3), so this selects the 2nd and 3rd columns."
   ]
  },
  {
   "cell_type": "markdown",
   "metadata": {
    "application/vnd.databricks.v1+cell": {
     "cellMetadata": {},
     "inputWidgets": {},
     "nuid": "6331f113-d7db-46e0-bbd3-fe30eacf84e2",
     "showTitle": false,
     "title": ""
    }
   },
   "source": [
    "Now let's apply what we have learned to our data set. This time we will analyze the average speed of trips. Recall that we calculated the ``average travel speed `` as follows:\n",
    "````python\n",
    "trip_mph = taxi[:,7] / (taxi[:,8] / 3600)\n",
    "````"
   ]
  },
  {
   "cell_type": "markdown",
   "metadata": {
    "application/vnd.databricks.v1+cell": {
     "cellMetadata": {},
     "inputWidgets": {},
     "nuid": "720bbc5c-d90a-43cc-94d3-cd79a1cb78a0",
     "showTitle": false,
     "title": ""
    }
   },
   "source": [
    "Next, how do we check for trips with an average speed greater than 20,000 mph?"
   ]
  },
  {
   "cell_type": "code",
   "execution_count": 0,
   "metadata": {
    "application/vnd.databricks.v1+cell": {
     "cellMetadata": {},
     "inputWidgets": {},
     "nuid": "e34de3c7-dc88-465e-9c23-8f59964baffc",
     "showTitle": false,
     "title": ""
    }
   },
   "outputs": [],
   "source": [
    "trip_mph = taxi[:,7] / (taxi[:,8] / 3600)"
   ]
  },
  {
   "cell_type": "code",
   "execution_count": 0,
   "metadata": {
    "application/vnd.databricks.v1+cell": {
     "cellMetadata": {},
     "inputWidgets": {},
     "nuid": "ca295025-803d-4579-a740-0d4caf83d788",
     "showTitle": false,
     "title": ""
    }
   },
   "outputs": [],
   "source": [
    "# create a boolean array for trips with average\n",
    "# speeds greater than 20,000 mph\n",
    "trip_mph_bool = trip_mph > 20000\n",
    "\n",
    "# use the boolean array to select the rows for\n",
    "# those trips, and the pickup_location_code,\n",
    "# dropoff_location_code, trip_distance, and\n",
    "# trip_length columns\n",
    "trips_over_20000_mph = taxi[trip_mph_bool,5:9]\n",
    "\n",
    "print(trips_over_20000_mph)"
   ]
  },
  {
   "cell_type": "markdown",
   "metadata": {
    "application/vnd.databricks.v1+cell": {
     "cellMetadata": {},
     "inputWidgets": {},
     "nuid": "5ab825a4-90b2-483f-b3d3-fa79960ad741",
     "showTitle": false,
     "title": ""
    }
   },
   "source": [
    "### Task 3.2.5 (HARD):\n",
    "1. Create a boolean array, ``tip_bool``, that determines which rows have values for the `tip_amount` column of more than 50.<br>\n",
    "Hint: You might have to examine the original nyc_taxis.csv file to find an index of desired column.\n",
    "2. Use the ``tip_bool`` array to select all rows from taxi with values tip amounts of more than 50, and the columns from indexes `5` to `13` inclusive. Assign the resulting array to ``top_tips``."
   ]
  },
  {
   "cell_type": "code",
   "execution_count": 0,
   "metadata": {
    "application/vnd.databricks.v1+cell": {
     "cellMetadata": {},
     "inputWidgets": {},
     "nuid": "595d5fbe-b302-45dd-9246-e0b402b5c379",
     "showTitle": false,
     "title": ""
    }
   },
   "outputs": [],
   "source": [
    "#Start your code below\n",
    "\n",
    "tip_amount = taxi[:,12]\n",
    "tip_bool = tip_amount > 50\n",
    "top_tips = taxi[tip_bool, 5: 14]"
   ]
  },
  {
   "cell_type": "markdown",
   "metadata": {
    "application/vnd.databricks.v1+cell": {
     "cellMetadata": {},
     "inputWidgets": {},
     "nuid": "f8e01aa9-5da1-4d8b-970f-a9bc78d8a499",
     "showTitle": false,
     "title": ""
    }
   },
   "source": [
    "## 6. Assigning Values in ndarrays (OPTIONAL)\n",
    "\n",
    "After having learned how to retrieve data from ndarrays, now we will use the same indexing techniques to modify values within an ndarray. The syntax looks like this: <br>\n",
    "\n",
    "````python\n",
    "ndarray[location_of_values] = new_value\n",
    "````"
   ]
  },
  {
   "cell_type": "markdown",
   "metadata": {
    "application/vnd.databricks.v1+cell": {
     "cellMetadata": {},
     "inputWidgets": {},
     "nuid": "0fb87da9-ebf5-4869-99c4-0a9d7064f0bd",
     "showTitle": false,
     "title": ""
    }
   },
   "source": [
    "With 1D array, all we need to do is to specify one specific index location like this:"
   ]
  },
  {
   "cell_type": "code",
   "execution_count": 0,
   "metadata": {
    "application/vnd.databricks.v1+cell": {
     "cellMetadata": {},
     "inputWidgets": {},
     "nuid": "f0eb6eda-de9f-44d2-ac36-a0dbce25116d",
     "showTitle": false,
     "title": ""
    }
   },
   "outputs": [],
   "source": [
    "a = np.array(['red','blue','black','blue','purple'])\n",
    "a[0] = 'orange'\n",
    "print(a)"
   ]
  },
  {
   "cell_type": "markdown",
   "metadata": {
    "application/vnd.databricks.v1+cell": {
     "cellMetadata": {},
     "inputWidgets": {},
     "nuid": "952658c2-74dd-4924-995e-2c02afc0f5e0",
     "showTitle": false,
     "title": ""
    }
   },
   "source": [
    "Or multiple values can be assigned at once:"
   ]
  },
  {
   "cell_type": "code",
   "execution_count": 0,
   "metadata": {
    "application/vnd.databricks.v1+cell": {
     "cellMetadata": {},
     "inputWidgets": {},
     "nuid": "ecb379b0-74d6-4301-9ff6-b3a55fa64af0",
     "showTitle": false,
     "title": ""
    }
   },
   "outputs": [],
   "source": [
    "a[3:] = 'pink'\n",
    "print(a)"
   ]
  },
  {
   "cell_type": "markdown",
   "metadata": {
    "application/vnd.databricks.v1+cell": {
     "cellMetadata": {},
     "inputWidgets": {},
     "nuid": "c81c38bc-0c09-40fc-9140-54bd17b01dad",
     "showTitle": false,
     "title": ""
    }
   },
   "source": [
    "With a 2D ndarray, just like with a 1D ndarray, we can assign one specific index location:"
   ]
  },
  {
   "cell_type": "code",
   "execution_count": 0,
   "metadata": {
    "application/vnd.databricks.v1+cell": {
     "cellMetadata": {},
     "inputWidgets": {},
     "nuid": "c34e5fbf-f203-4587-9e7a-cd5daf3f84bd",
     "showTitle": false,
     "title": ""
    }
   },
   "outputs": [],
   "source": [
    "ones = np.array([[1, 1, 1, 1, 1],\n",
    "                 [1, 1, 1, 1, 1],\n",
    "                 [1, 1, 1, 1, 1]])\n",
    "ones[1,2] = 99\n",
    "print(ones)"
   ]
  },
  {
   "cell_type": "markdown",
   "metadata": {
    "application/vnd.databricks.v1+cell": {
     "cellMetadata": {},
     "inputWidgets": {},
     "nuid": "98ec7773-aab8-48b1-acaf-cc5874f355e5",
     "showTitle": false,
     "title": ""
    }
   },
   "source": [
    "Or we can assign a whole row:"
   ]
  },
  {
   "cell_type": "code",
   "execution_count": 0,
   "metadata": {
    "application/vnd.databricks.v1+cell": {
     "cellMetadata": {},
     "inputWidgets": {},
     "nuid": "7adc5430-b8f9-4e07-ac1f-bb2fed3e773f",
     "showTitle": false,
     "title": ""
    }
   },
   "outputs": [],
   "source": [
    "ones[0] = 42\n",
    "print(ones)"
   ]
  },
  {
   "cell_type": "markdown",
   "metadata": {
    "application/vnd.databricks.v1+cell": {
     "cellMetadata": {},
     "inputWidgets": {},
     "nuid": "914dcbba-a23d-4419-b510-4a53b921ea92",
     "showTitle": false,
     "title": ""
    }
   },
   "source": [
    "Or a whole column:"
   ]
  },
  {
   "cell_type": "code",
   "execution_count": 0,
   "metadata": {
    "application/vnd.databricks.v1+cell": {
     "cellMetadata": {},
     "inputWidgets": {},
     "nuid": "b4d33fd8-f65b-4fef-bdd0-06264e5d474a",
     "showTitle": false,
     "title": ""
    }
   },
   "outputs": [],
   "source": [
    "ones[:,2] = 0\n",
    "print(ones)"
   ]
  },
  {
   "cell_type": "markdown",
   "metadata": {
    "application/vnd.databricks.v1+cell": {
     "cellMetadata": {},
     "inputWidgets": {},
     "nuid": "02680c50-9137-478d-aaa7-971d7dfca409",
     "showTitle": false,
     "title": ""
    }
   },
   "source": [
    "## 7. Assignment Using Boolean Arrays (OPTIONAL)\n",
    "\n",
    "Boolean arrays become extremely powerful when used for assignment, like this:"
   ]
  },
  {
   "cell_type": "code",
   "execution_count": 0,
   "metadata": {
    "application/vnd.databricks.v1+cell": {
     "cellMetadata": {},
     "inputWidgets": {},
     "nuid": "cdc34cfb-ee42-4ec9-ba23-4a1636fad907",
     "showTitle": false,
     "title": ""
    }
   },
   "outputs": [],
   "source": [
    "a2 = np.array([1, 2, 3, 4, 5])\n",
    "\n",
    "a2_bool = a2 > 2\n",
    "\n",
    "a2[a2_bool] = 99\n",
    "\n",
    "print(a2)"
   ]
  },
  {
   "cell_type": "markdown",
   "metadata": {
    "application/vnd.databricks.v1+cell": {
     "cellMetadata": {},
     "inputWidgets": {},
     "nuid": "b40fd09f-e709-40a2-97a5-6999bb2e67bb",
     "showTitle": false,
     "title": ""
    }
   },
   "source": [
    "The boolean array has the ability to control the values that the assignment applies to, and the other values remain unchanged."
   ]
  },
  {
   "cell_type": "code",
   "execution_count": 0,
   "metadata": {
    "application/vnd.databricks.v1+cell": {
     "cellMetadata": {},
     "inputWidgets": {},
     "nuid": "61747623-f847-42e1-a164-c458995c34f9",
     "showTitle": false,
     "title": ""
    }
   },
   "outputs": [],
   "source": [
    "a = np.array([1, 2, 3, 4, 5])\n",
    "\n",
    "a [ a > 2] = 99\n",
    "\n",
    "print(a)"
   ]
  },
  {
   "cell_type": "markdown",
   "metadata": {
    "application/vnd.databricks.v1+cell": {
     "cellMetadata": {},
     "inputWidgets": {},
     "nuid": "6d269670-141c-4052-87cc-ea9b0f771997",
     "showTitle": false,
     "title": ""
    }
   },
   "source": [
    "## 8. Assignment Using Boolean Arrays Continued (OPTIONAL)\n",
    "\n",
    "Now let's take a look at an example of assignment using a boolean array with two dimensions:"
   ]
  },
  {
   "cell_type": "code",
   "execution_count": 0,
   "metadata": {
    "application/vnd.databricks.v1+cell": {
     "cellMetadata": {},
     "inputWidgets": {},
     "nuid": "11a22c4c-1639-4189-975e-3b66ce29226b",
     "showTitle": false,
     "title": ""
    }
   },
   "outputs": [],
   "source": [
    "b = np.array([\n",
    "                [1,2,3],\n",
    "                [4,5,6],\n",
    "                [7,8,9]           \n",
    "])\n",
    "\n",
    "b[b > 4] = 99\n",
    "print(b)\n",
    "\n",
    "# The b > 4 boolean operation produces a 2D boolean array \n",
    "# which then controls the values that the assignment applies to."
   ]
  },
  {
   "cell_type": "markdown",
   "metadata": {
    "application/vnd.databricks.v1+cell": {
     "cellMetadata": {},
     "inputWidgets": {},
     "nuid": "f3dc0c3d-91fd-41e3-a8f9-2c638a83bcf0",
     "showTitle": false,
     "title": ""
    }
   },
   "source": [
    "We can also use a 1D boolean array to perform assignment on a 2D array:"
   ]
  },
  {
   "cell_type": "code",
   "execution_count": 0,
   "metadata": {
    "application/vnd.databricks.v1+cell": {
     "cellMetadata": {},
     "inputWidgets": {},
     "nuid": "61190540-2a03-4363-bc23-ac8918201e76",
     "showTitle": false,
     "title": ""
    }
   },
   "outputs": [],
   "source": [
    "c = np.array([\n",
    "                [1,2,3],\n",
    "                [4,5,6],\n",
    "                [7,8,9]           \n",
    "])\n",
    "\n",
    "c[c[:,1] > 2, 1] = 99\n",
    "\n",
    "print(c)"
   ]
  },
  {
   "cell_type": "markdown",
   "metadata": {
    "application/vnd.databricks.v1+cell": {
     "cellMetadata": {},
     "inputWidgets": {},
     "nuid": "fa788c2b-de38-4c11-bc3b-1d572362be30",
     "showTitle": false,
     "title": ""
    }
   },
   "source": [
    "The above code selected the second column (with column index 1), and used boolean index technique (which value is > 2). The boolean array is only applied to the second column, while all other values remaining unchanged.\n",
    "\n",
    "The pseudocode syntax for this code is the following, first we used an intermediate variable:"
   ]
  },
  {
   "cell_type": "markdown",
   "metadata": {
    "application/vnd.databricks.v1+cell": {
     "cellMetadata": {},
     "inputWidgets": {},
     "nuid": "43026653-e6df-4faf-94cc-77ce8fd5513f",
     "showTitle": false,
     "title": ""
    }
   },
   "source": [
    "````python\n",
    "bool = array[:, column_for_comparison] == value_for_comparison\n",
    "array[bool, column_for_assignment] = new_value\n",
    "````"
   ]
  },
  {
   "cell_type": "markdown",
   "metadata": {
    "application/vnd.databricks.v1+cell": {
     "cellMetadata": {},
     "inputWidgets": {},
     "nuid": "6488b5f6-d0c9-46c5-ab80-df488e7765ca",
     "showTitle": false,
     "title": ""
    }
   },
   "source": [
    "And now all in one line:"
   ]
  },
  {
   "cell_type": "markdown",
   "metadata": {
    "application/vnd.databricks.v1+cell": {
     "cellMetadata": {},
     "inputWidgets": {},
     "nuid": "57f0472a-5b4d-46c0-804f-865fa8d6f5f7",
     "showTitle": false,
     "title": ""
    }
   },
   "source": [
    "````python\n",
    "array[array[:, column_for_comparison] == value_for_comparison, column_for_assignment] = new_value\n",
    "````"
   ]
  }
 ],
 "metadata": {
  "application/vnd.databricks.v1+notebook": {
   "dashboards": [],
   "language": "python",
   "notebookMetadata": {},
   "notebookName": "[Answer]2_Working_with_NumPy",
   "widgets": {}
  }
 },
 "nbformat": 4,
 "nbformat_minor": 0
}
