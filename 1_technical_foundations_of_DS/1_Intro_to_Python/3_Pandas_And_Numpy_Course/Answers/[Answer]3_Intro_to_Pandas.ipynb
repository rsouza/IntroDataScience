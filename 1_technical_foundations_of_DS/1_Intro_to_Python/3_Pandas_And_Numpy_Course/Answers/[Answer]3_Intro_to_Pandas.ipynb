{
 "cells": [
  {
   "cell_type": "markdown",
   "metadata": {
    "application/vnd.databricks.v1+cell": {
     "cellMetadata": {
      "byteLimit": 2048000,
      "rowLimit": 10000
     },
     "inputWidgets": {},
     "nuid": "3a5b0151-03f6-41e2-aedc-aa45b8413236",
     "showTitle": false,
     "title": ""
    }
   },
   "source": [
    "# About This Notebook\n",
    "In this **Introduction to pandas** chapter, we will learn:\n",
    "- How pandas and NumPy combine to make working with data easier.\n",
    "- About the two core pandas types: series and dataframes.\n",
    "- How to select data from pandas objects using axis labels.\n",
    "***\n",
    "## 1. Understanding Pandas and NumPy\n",
    "\n",
    "The pandas library provides solutions to a lot of problems. However, pandas is not so much a replacement for NumPy but serves more as an extension of NumPy. Pandas uses the the NumPy library extensively, and you will notice this more when you dig deeper into the concept.\n",
    "\n",
    "The primary data structure in pandas is called a **dataframe**. \n",
    "This is the pandas equivalent of a Numpy 2D ndarray but with some key differences:\n",
    "\n",
    "> Axis values can have string **labels**, not just numeric ones. This means that the columns can now have their own meaningful names.\n",
    "\n",
    "> Dataframes can contain columns with **multiple data types**: including ``integer``, ``float``, and ``string``. This enables us to store, for example, strings and integers in one dataframe.\n",
    "\n",
    "## 2. Introduction to the Data\n",
    "In this chapter, we will work with a data set from Fortune magazine's 2017 Global 500 list.\n",
    "\n",
    "The data set is stored in a CSV file called **f500.csv**. Here is a data dictionary for some of the columns in the CSV:\n",
    "\n",
    "- **company**: Name of the company.\n",
    "- **rank**: Global 500 rank for the company.\n",
    "- **revenues**: Company's total revenue for the fiscal year, in millions of dollars (USD).\n",
    "- **revenue_change**: Percentage change in revenue between the current and prior fiscal year.\n",
    "- **profits**: Net income for the fiscal year, in millions of dollars (USD).\n",
    "- **ceo**: Company's Chief Executive Officer.\n",
    "- **industry**: Industry in which the company operates.\n",
    "- **sector**: Sector in which the company operates.\n",
    "- **previous_rank**: Global 500 rank for the company for the prior year.\n",
    "- **country**: Country in which the company is headquartered.\n",
    "\n",
    "After getting to know our data set, how do we actually import pandas library in Python?\n",
    "To import pandas, we simply type in the following code:\n",
    "\n",
    "````python\n",
    "import pandas as pd\n",
    "````"
   ]
  },
  {
   "cell_type": "markdown",
   "metadata": {
    "application/vnd.databricks.v1+cell": {
     "cellMetadata": {
      "byteLimit": 2048000,
      "rowLimit": 10000
     },
     "inputWidgets": {},
     "nuid": "8cf1c043-2342-483e-b519-3e8a2b1b3a12",
     "showTitle": false,
     "title": ""
    }
   },
   "source": [
    "Pandas' dataframes have a `.shape` attribute which returns a tuple representing the dimensions of each axis of the object. Now we want to use this and Python's `type()` function to take a closer look at the `f500` dataframe.\n",
    "\n",
    "### Task 3.3.2:\n",
    "\n",
    "1. Use Python's `type()` function to assign the type of `f500` to `f500_type`.\n",
    "2. Use the `DataFrame.shape` attribute to assign the shape of `f500` to `f500_shape`.\n",
    "3. Print both the `f500_type` and `f500_shape`."
   ]
  },
  {
   "cell_type": "code",
   "execution_count": 0,
   "metadata": {
    "application/vnd.databricks.v1+cell": {
     "cellMetadata": {
      "byteLimit": 2048000,
      "rowLimit": 10000
     },
     "inputWidgets": {},
     "nuid": "6f7e8cae-7d95-4741-8992-87a776887a33",
     "showTitle": false,
     "title": ""
    }
   },
   "outputs": [],
   "source": [
    "import pandas as pd\n",
    "\n",
    "f500 = pd.read_csv(\"../../../../Data/f500.csv\", index_col=0)\n",
    "f500.index.name = None\n",
    "# Start your code below:\n",
    "\n",
    "f500_type = type(f500)\n",
    "f500_shape = f500.shape\n",
    "\n",
    "print(f500_type, f500_shape)"
   ]
  },
  {
   "cell_type": "markdown",
   "metadata": {
    "application/vnd.databricks.v1+cell": {
     "cellMetadata": {
      "byteLimit": 2048000,
      "rowLimit": 10000
     },
     "inputWidgets": {},
     "nuid": "bf3dbdd3-dcae-48dc-807d-d7a2c46bbe4d",
     "showTitle": false,
     "title": ""
    }
   },
   "source": [
    "## 3. Introducing DataFrames\n",
    "\n",
    "Remember how we spent so much time in the course \"Be Around of Data Science\" talking about rectangular data structures? Moreover, we discussed flat tables consisting of rows (observations) and columns (features)? Now this will come in really handy! \n",
    "\n",
    "I want to show you the `DataFrame.head` method. By default, it will return the first five rows of our dataframe. However, it also accepts an optional integer parameter, which specifies the number of rows:"
   ]
  },
  {
   "cell_type": "code",
   "execution_count": 0,
   "metadata": {
    "application/vnd.databricks.v1+cell": {
     "cellMetadata": {
      "byteLimit": 2048000,
      "rowLimit": 10000
     },
     "inputWidgets": {},
     "nuid": "542c424c-b546-4a71-899e-9a2362d6134f",
     "showTitle": false,
     "title": ""
    }
   },
   "outputs": [],
   "source": [
    "f500.head(3)"
   ]
  },
  {
   "cell_type": "markdown",
   "metadata": {
    "application/vnd.databricks.v1+cell": {
     "cellMetadata": {
      "byteLimit": 2048000,
      "rowLimit": 10000
     },
     "inputWidgets": {},
     "nuid": "b85f9fea-ffdf-402f-ba81-eaafb459afe1",
     "showTitle": false,
     "title": ""
    }
   },
   "source": [
    "There is also the `DataFrame.tail` method to show us the last rows of our dataframe:"
   ]
  },
  {
   "cell_type": "code",
   "execution_count": 0,
   "metadata": {
    "application/vnd.databricks.v1+cell": {
     "cellMetadata": {
      "byteLimit": 2048000,
      "rowLimit": 10000
     },
     "inputWidgets": {},
     "nuid": "2ae7172e-2b04-483d-945a-c4ec8a590259",
     "showTitle": false,
     "title": ""
    }
   },
   "outputs": [],
   "source": [
    "f500.tail(3)"
   ]
  },
  {
   "cell_type": "markdown",
   "metadata": {
    "application/vnd.databricks.v1+cell": {
     "cellMetadata": {
      "byteLimit": 2048000,
      "rowLimit": 10000
     },
     "inputWidgets": {},
     "nuid": "ebd43f35-8574-4f05-a185-6f8083406e18",
     "showTitle": false,
     "title": ""
    }
   },
   "source": [
    "### Task 3.3.3:\n",
    "\n",
    "1. Use the `head()` method to select the **first 6 rows**. Assign the result to `f500_head`.\n",
    "2. Use the `tail()` method to select the **last 8 rows**. Assign the result to `f500_tail`."
   ]
  },
  {
   "cell_type": "code",
   "execution_count": 0,
   "metadata": {
    "application/vnd.databricks.v1+cell": {
     "cellMetadata": {
      "byteLimit": 2048000,
      "rowLimit": 10000
     },
     "inputWidgets": {},
     "nuid": "2781ad4b-2f1c-471e-8734-99e143445ce3",
     "showTitle": false,
     "title": ""
    }
   },
   "outputs": [],
   "source": [
    "# Start your code here:\n",
    "\n",
    "f500_head = f500.head(6)\n",
    "f500_tail = f500.tail(8)"
   ]
  },
  {
   "cell_type": "markdown",
   "metadata": {
    "application/vnd.databricks.v1+cell": {
     "cellMetadata": {
      "byteLimit": 2048000,
      "rowLimit": 10000
     },
     "inputWidgets": {},
     "nuid": "c733b030-a326-4aae-a12d-c77e987ea7e5",
     "showTitle": false,
     "title": ""
    }
   },
   "source": [
    "## 4. Introducting DataFrames Continued\n",
    "\n",
    "Now let's talk about the `DataFrame.dtypes` attribute. The `DataFrame.dtypes` attribute returns information about the types of each column."
   ]
  },
  {
   "cell_type": "code",
   "execution_count": 0,
   "metadata": {
    "application/vnd.databricks.v1+cell": {
     "cellMetadata": {
      "byteLimit": 2048000,
      "rowLimit": 10000
     },
     "inputWidgets": {},
     "nuid": "7c0ccc3f-8064-467d-b0d3-24de0ca8e8de",
     "showTitle": false,
     "title": ""
    }
   },
   "outputs": [],
   "source": [
    "print(f500.dtypes)"
   ]
  },
  {
   "cell_type": "markdown",
   "metadata": {
    "application/vnd.databricks.v1+cell": {
     "cellMetadata": {
      "byteLimit": 2048000,
      "rowLimit": 10000
     },
     "inputWidgets": {},
     "nuid": "7eb64dc0-709e-471f-93fe-17d607e0748f",
     "showTitle": false,
     "title": ""
    }
   },
   "source": [
    "To see a comprehensive overview of all the dtypes used in our dataframe, as well its shape and other information, we should use the `DataFrame.info()` [method](https://pandas.pydata.org/pandas-docs/stable/reference/api/pandas.DataFrame.info.html). Remember that `DataFrame.info()` only prints the information, instead of returning it, so we can't assign it to a variable."
   ]
  },
  {
   "cell_type": "markdown",
   "metadata": {
    "application/vnd.databricks.v1+cell": {
     "cellMetadata": {
      "byteLimit": 2048000,
      "rowLimit": 10000
     },
     "inputWidgets": {},
     "nuid": "bb9dee03-4a25-43b0-801f-5e182a770d5f",
     "showTitle": false,
     "title": ""
    }
   },
   "source": [
    "### Task 3.3.4:\n",
    "\n",
    "1. Use the `DataFrame.info()` method to display information about the `f500` dataframe."
   ]
  },
  {
   "cell_type": "code",
   "execution_count": 0,
   "metadata": {
    "application/vnd.databricks.v1+cell": {
     "cellMetadata": {
      "byteLimit": 2048000,
      "rowLimit": 10000
     },
     "inputWidgets": {},
     "nuid": "b8936b3f-9609-4019-8536-6346016d12e5",
     "showTitle": false,
     "title": ""
    }
   },
   "outputs": [],
   "source": [
    "# Start your code below:\n",
    "\n",
    "f500.info()"
   ]
  },
  {
   "cell_type": "markdown",
   "metadata": {
    "application/vnd.databricks.v1+cell": {
     "cellMetadata": {
      "byteLimit": 2048000,
      "rowLimit": 10000
     },
     "inputWidgets": {},
     "nuid": "c174dcc0-5de4-4887-84c8-6d82fe206482",
     "showTitle": false,
     "title": ""
    }
   },
   "source": [
    "## 5. Selecting a Column From a DataFrame by Label (IMPORTANT)\n",
    "\n",
    "Do you know that our axes in pandas all have labels and we can select data using just those labels? The **DataFrame.loc[]** attribute is exactly the syntax designed for this purpose:\n",
    "\n",
    "````python\n",
    "df.loc[row_label, column_label]\n",
    "````"
   ]
  },
  {
   "cell_type": "markdown",
   "metadata": {
    "application/vnd.databricks.v1+cell": {
     "cellMetadata": {
      "byteLimit": 2048000,
      "rowLimit": 10000
     },
     "inputWidgets": {},
     "nuid": "27ad74a3-6233-46ea-876d-2ad6ad3591ca",
     "showTitle": false,
     "title": ""
    }
   },
   "source": [
    "Pay close attention that we use brackets ``[]`` instead of parentheses ``()`` when selecting by location.\n",
    "\n",
    "Now let's look at an example:"
   ]
  },
  {
   "cell_type": "code",
   "execution_count": 0,
   "metadata": {
    "application/vnd.databricks.v1+cell": {
     "cellMetadata": {
      "byteLimit": 2048000,
      "rowLimit": 10000
     },
     "inputWidgets": {},
     "nuid": "c432a174-eba4-422b-b44d-29eaa2ebdcb4",
     "showTitle": false,
     "title": ""
    }
   },
   "outputs": [],
   "source": [
    "f500.loc[:,\"rank\"]"
   ]
  },
  {
   "cell_type": "markdown",
   "metadata": {
    "application/vnd.databricks.v1+cell": {
     "cellMetadata": {
      "byteLimit": 2048000,
      "rowLimit": 10000
     },
     "inputWidgets": {},
     "nuid": "d5003c3c-9913-4cce-8a19-ed3f091d6495",
     "showTitle": false,
     "title": ""
    }
   },
   "source": [
    "Notice we used `:` to specify that all rows should be selected. And also pay attention that the new dataframe has the same row labels as the original.\n",
    "\n",
    "The following shortcut can also be used to select a single column:"
   ]
  },
  {
   "cell_type": "code",
   "execution_count": 0,
   "metadata": {
    "application/vnd.databricks.v1+cell": {
     "cellMetadata": {
      "byteLimit": 2048000,
      "rowLimit": 10000
     },
     "inputWidgets": {},
     "nuid": "b2320db8-eb3c-4847-adfc-3c012ad11a4b",
     "showTitle": false,
     "title": ""
    }
   },
   "outputs": [],
   "source": [
    "rank_col = f500[\"rank\"]\n",
    "print(rank_col)"
   ]
  },
  {
   "cell_type": "markdown",
   "metadata": {
    "application/vnd.databricks.v1+cell": {
     "cellMetadata": {
      "byteLimit": 2048000,
      "rowLimit": 10000
     },
     "inputWidgets": {},
     "nuid": "191f5de9-73b0-42db-832a-a9e1a7e3bd59",
     "showTitle": false,
     "title": ""
    }
   },
   "source": [
    "### Task 3.3.5:\n",
    "\n",
    "1. Select the `industry` column. Assign the result to the variable name `industries`.\n",
    "2. Use Python's `type()` function to assign the type of `industries` to `industries_type`."
   ]
  },
  {
   "cell_type": "code",
   "execution_count": 0,
   "metadata": {
    "application/vnd.databricks.v1+cell": {
     "cellMetadata": {
      "byteLimit": 2048000,
      "rowLimit": 10000
     },
     "inputWidgets": {},
     "nuid": "9ae3a9ea-ca6a-4fba-9479-8ff14dd20fb9",
     "showTitle": false,
     "title": ""
    }
   },
   "outputs": [],
   "source": [
    "# Start your code below:\n",
    "\n",
    "industries = f500[\"industry\"]\n",
    "industries_type = type(industries)\n",
    "print(industries_type)"
   ]
  },
  {
   "cell_type": "markdown",
   "metadata": {
    "application/vnd.databricks.v1+cell": {
     "cellMetadata": {
      "byteLimit": 2048000,
      "rowLimit": 10000
     },
     "inputWidgets": {},
     "nuid": "fae56792-b320-4e17-9170-856c0b3fadc3",
     "showTitle": false,
     "title": ""
    }
   },
   "source": [
    "## 6. Selecting Columns From a DataFrame by Label Continued\n",
    "Below, we use a list of labels to select specific columns:"
   ]
  },
  {
   "cell_type": "code",
   "execution_count": 0,
   "metadata": {
    "application/vnd.databricks.v1+cell": {
     "cellMetadata": {
      "byteLimit": 2048000,
      "rowLimit": 10000
     },
     "inputWidgets": {},
     "nuid": "0ecd2b57-d0b3-45c3-8a1f-6bccd347d044",
     "showTitle": false,
     "title": ""
    }
   },
   "outputs": [],
   "source": [
    "f500.loc[:,[\"country\", \"rank\"]]"
   ]
  },
  {
   "cell_type": "code",
   "execution_count": 0,
   "metadata": {
    "application/vnd.databricks.v1+cell": {
     "cellMetadata": {
      "byteLimit": 2048000,
      "rowLimit": 10000
     },
     "inputWidgets": {},
     "nuid": "1458ed83-450c-40a9-90d4-f55bf4e932ac",
     "showTitle": false,
     "title": ""
    }
   },
   "outputs": [],
   "source": [
    "f500[[\"country\",\"rank\"]]"
   ]
  },
  {
   "cell_type": "markdown",
   "metadata": {
    "application/vnd.databricks.v1+cell": {
     "cellMetadata": {
      "byteLimit": 2048000,
      "rowLimit": 10000
     },
     "inputWidgets": {},
     "nuid": "0f57ae9c-6a26-4584-876f-18b482c59c7a",
     "showTitle": false,
     "title": ""
    }
   },
   "source": [
    "The code `f500.loc[:,[\"country\", \"rank\"]]` and `f500[[\"country\",\"rank\"]]` eventually return us the same result. "
   ]
  },
  {
   "cell_type": "markdown",
   "metadata": {
    "application/vnd.databricks.v1+cell": {
     "cellMetadata": {
      "byteLimit": 2048000,
      "rowLimit": 10000
     },
     "inputWidgets": {},
     "nuid": "fa4da8ab-3e37-481d-a89b-0f17cc39332c",
     "showTitle": false,
     "title": ""
    }
   },
   "source": [
    "You see that the object returned is two-dimensional, we know it's a dataframe, not a series. So instead of `df.loc[:,[\"col1\",\"col2\"]]`, we can also use `df[[\"col1\", \"col2\"]]` to select specific columns.\n",
    "\n",
    "Last but not least, let's finish by using **a slice object with labels** to select specific columns:"
   ]
  },
  {
   "cell_type": "code",
   "execution_count": 0,
   "metadata": {
    "application/vnd.databricks.v1+cell": {
     "cellMetadata": {
      "byteLimit": 2048000,
      "rowLimit": 10000
     },
     "inputWidgets": {},
     "nuid": "c4c79136-7614-45b1-bc7f-f15f4817d845",
     "showTitle": false,
     "title": ""
    }
   },
   "outputs": [],
   "source": [
    "f500.loc[:,\"rank\":\"profits\"]"
   ]
  },
  {
   "cell_type": "markdown",
   "metadata": {
    "application/vnd.databricks.v1+cell": {
     "cellMetadata": {
      "byteLimit": 2048000,
      "rowLimit": 10000
     },
     "inputWidgets": {},
     "nuid": "f9a45eff-96d8-46f1-b477-67804aba4119",
     "showTitle": false,
     "title": ""
    }
   },
   "source": [
    "The result is again a dataframe object with all of the columns from the first up until the last column in our slice. Unfortunately, there is no shortcut for selecting column slices.\n",
    "\n",
    "See the table below for a short summary of techniques that we have just encountered:\n",
    "\n",
    "|Select by Label|Explicit Syntax|Common Shorthand|\n",
    "|--|--|--|\n",
    "|Single column|df.loc[:,\"col1\"]|df[\"col1\"]|\n",
    "|List of columns|df.loc[:,[\"col1\", \"col7\"]]|df[[\"col1\", \"col7\"]]|\n",
    "|Slice of columns|df.loc[:,\"col1\":\"col4\"]|"
   ]
  },
  {
   "cell_type": "markdown",
   "metadata": {
    "application/vnd.databricks.v1+cell": {
     "cellMetadata": {
      "byteLimit": 2048000,
      "rowLimit": 10000
     },
     "inputWidgets": {},
     "nuid": "1e6ad8ad-77e7-4a18-abb3-1980f9348834",
     "showTitle": false,
     "title": ""
    }
   },
   "source": [
    "### Task 3.3.6:\n",
    "\n",
    "1. Select the `country` column. Assign the result to the variable name `countries`.\n",
    "2. In order, select the `revenues` and `years_on_global_500_list` columns. Assign the result to the variable name `revenues_years`.\n",
    "3. In order, select all columns from `ceo` up to and including `sector`. Assign the result to the variable name `ceo_to_sector`."
   ]
  },
  {
   "cell_type": "code",
   "execution_count": 0,
   "metadata": {
    "application/vnd.databricks.v1+cell": {
     "cellMetadata": {
      "byteLimit": 2048000,
      "rowLimit": 10000
     },
     "inputWidgets": {},
     "nuid": "e27fab42-0931-4899-9da2-98650fb224df",
     "showTitle": false,
     "title": ""
    }
   },
   "outputs": [],
   "source": [
    "# Start your code below:\n",
    "\n",
    "countries = f500[\"country\"]\n",
    "revenues_years = f500[[\"revenues\",\"years_on_global_500_list\"]]\n",
    "ceo_to_sector = f500.loc[:,\"ceo\":\"sector\"]"
   ]
  },
  {
   "cell_type": "markdown",
   "metadata": {
    "application/vnd.databricks.v1+cell": {
     "cellMetadata": {
      "byteLimit": 2048000,
      "rowLimit": 10000
     },
     "inputWidgets": {},
     "nuid": "686ef9bf-2d1d-4583-9160-9228e3658605",
     "showTitle": false,
     "title": ""
    }
   },
   "source": [
    "## 7. Selecting Rows From a DataFrame by Label\n",
    "\n",
    "Now, let's learn how to use the labels of the index axis to select rows.\n",
    "\n",
    "We can use the same syntax to select rows from a dataframe as we already have done for columns:\n",
    "\n",
    "````python\n",
    "df.loc[row_label, column_label]\n",
    "````\n",
    "\n",
    "#### To select a single row:"
   ]
  },
  {
   "cell_type": "code",
   "execution_count": 0,
   "metadata": {
    "application/vnd.databricks.v1+cell": {
     "cellMetadata": {
      "byteLimit": 2048000,
      "rowLimit": 10000
     },
     "inputWidgets": {},
     "nuid": "eab87aba-845b-43b5-88ae-b4d814974a81",
     "showTitle": false,
     "title": ""
    }
   },
   "outputs": [],
   "source": [
    "single_row = f500.loc[\"Sinopec Group\"]\n",
    "print(type(single_row))\n",
    "print(single_row)"
   ]
  },
  {
   "cell_type": "markdown",
   "metadata": {
    "application/vnd.databricks.v1+cell": {
     "cellMetadata": {
      "byteLimit": 2048000,
      "rowLimit": 10000
     },
     "inputWidgets": {},
     "nuid": "1f39e00e-0553-440a-bf45-118981681613",
     "showTitle": false,
     "title": ""
    }
   },
   "source": [
    "A **series** is returned because it is one-dimensional. \n",
    "> In short, ``series`` is a one-dimensional labeled array capable of holding data of any type (integer, string, float, python objects, etc.). \n",
    "There are many data types that may need to be stored in this series, like integer, float, and string values, so pandas uses the **object** dtype, since none of the numeric types could cater for all values.\n",
    "\n",
    "**To select a list of rows:**"
   ]
  },
  {
   "cell_type": "code",
   "execution_count": 0,
   "metadata": {
    "application/vnd.databricks.v1+cell": {
     "cellMetadata": {
      "byteLimit": 2048000,
      "rowLimit": 10000
     },
     "inputWidgets": {},
     "nuid": "fc545911-9f1f-4621-a80b-b85d3c12f12f",
     "showTitle": false,
     "title": ""
    }
   },
   "outputs": [],
   "source": [
    "list_rows = f500.loc[[\"Toyota Motor\", \"Walmart\"]]\n",
    "print(type(list_rows))\n",
    "print(list_rows)"
   ]
  },
  {
   "cell_type": "markdown",
   "metadata": {
    "application/vnd.databricks.v1+cell": {
     "cellMetadata": {
      "byteLimit": 2048000,
      "rowLimit": 10000
     },
     "inputWidgets": {},
     "nuid": "7f705784-dcc6-4c30-9c3d-30ff53b6b101",
     "showTitle": false,
     "title": ""
    }
   },
   "source": [
    "**To select a slice object with labels:**\n",
    "\n",
    "For selection using slices, a shortcut can be used like below. This is the reason we can't use this shortcut for columns – because it's reserved for use with rows:"
   ]
  },
  {
   "cell_type": "code",
   "execution_count": 0,
   "metadata": {
    "application/vnd.databricks.v1+cell": {
     "cellMetadata": {
      "byteLimit": 2048000,
      "rowLimit": 10000
     },
     "inputWidgets": {},
     "nuid": "1b1a6727-0645-4855-88db-1a6e43720337",
     "showTitle": false,
     "title": ""
    }
   },
   "outputs": [],
   "source": [
    "slice_rows = f500[\"State Grid\":\"Toyota Motor\"]\n",
    "print(type(slice_rows))\n",
    "print(slice_rows)"
   ]
  },
  {
   "cell_type": "markdown",
   "metadata": {
    "application/vnd.databricks.v1+cell": {
     "cellMetadata": {
      "byteLimit": 2048000,
      "rowLimit": 10000
     },
     "inputWidgets": {},
     "nuid": "842d3105-f328-45ae-8334-bba43042eb35",
     "showTitle": false,
     "title": ""
    }
   },
   "source": [
    "### Task 3.3.7: \n",
    "\n",
    "By selecting data from `f500`:\n",
    "1. Create a new variable `toyota`, with:\n",
    "    - Just the row with index `Toyota Motor`.\n",
    "    - All columns.\n",
    "2. Create a new variable, `drink_companies`, with:\n",
    "    - Rows with indicies `Anheuser-Busch InBev, Coca-Cola, and Heineken Holding`, in that order.\n",
    "    - All columns.\n",
    "3. Create a new variable, `middle_companies` with:\n",
    "    - All rows with indicies from `Tata Motors` to `Nationwide`, inclusive.\n",
    "    - All columns from `rank` to `country`, inclusive."
   ]
  },
  {
   "cell_type": "code",
   "execution_count": 0,
   "metadata": {
    "application/vnd.databricks.v1+cell": {
     "cellMetadata": {
      "byteLimit": 2048000,
      "rowLimit": 10000
     },
     "inputWidgets": {},
     "nuid": "5b3ab999-7a43-41fb-aa34-29dd9d3a1aa4",
     "showTitle": false,
     "title": ""
    }
   },
   "outputs": [],
   "source": [
    "# Start your code below:\n",
    "\n",
    "toyota = f500.loc['Toyota Motor',]\n",
    "drink_companies = f500.loc[[\"Anheuser-Busch InBev\", \"Coca-Cola\", \"Heineken Holding\"]]\n",
    "middle_companies = f500.loc[\"Tata Motors\":\"Nationwide\", \"rank\":\"country\"]"
   ]
  },
  {
   "cell_type": "markdown",
   "metadata": {
    "application/vnd.databricks.v1+cell": {
     "cellMetadata": {
      "byteLimit": 2048000,
      "rowLimit": 10000
     },
     "inputWidgets": {},
     "nuid": "cab7fffd-2f77-4913-91fb-21393ca5f6d4",
     "showTitle": false,
     "title": ""
    }
   },
   "source": [
    "## 8. Value Counts Method\n",
    "\n",
    "We understand that **series** and **dataframes** are two distinct objects. They each have their own unique methods. In this section we are going to look at an example of a method, which returns different results for each of the objects.\n",
    "\n",
    "First, let's select just one column from the ``f500`` dataframe:"
   ]
  },
  {
   "cell_type": "code",
   "execution_count": 0,
   "metadata": {
    "application/vnd.databricks.v1+cell": {
     "cellMetadata": {
      "byteLimit": 2048000,
      "rowLimit": 10000
     },
     "inputWidgets": {},
     "nuid": "05a7da78-2310-48b9-b552-47489fdddf75",
     "showTitle": false,
     "title": ""
    }
   },
   "outputs": [],
   "source": [
    "sectors = f500[\"sector\"]\n",
    "print(type(sectors))"
   ]
  },
  {
   "cell_type": "markdown",
   "metadata": {
    "application/vnd.databricks.v1+cell": {
     "cellMetadata": {
      "byteLimit": 2048000,
      "rowLimit": 10000
     },
     "inputWidgets": {},
     "nuid": "5fd60fac-69cf-48d0-bfdb-b4fa0203bcf8",
     "showTitle": false,
     "title": ""
    }
   },
   "source": [
    "Now, we want to substitute ``Series`` in `Series.value_counts()` with the name of our `sectors` series, like this:"
   ]
  },
  {
   "cell_type": "code",
   "execution_count": 0,
   "metadata": {
    "application/vnd.databricks.v1+cell": {
     "cellMetadata": {
      "byteLimit": 2048000,
      "rowLimit": 10000
     },
     "inputWidgets": {},
     "nuid": "c3184bab-9423-4698-ac0a-61f4b9573488",
     "showTitle": false,
     "title": ""
    }
   },
   "outputs": [],
   "source": [
    "sectors_value_counts = sectors.value_counts()\n",
    "print(sectors_value_counts)"
   ]
  },
  {
   "cell_type": "markdown",
   "metadata": {
    "application/vnd.databricks.v1+cell": {
     "cellMetadata": {
      "byteLimit": 2048000,
      "rowLimit": 10000
     },
     "inputWidgets": {},
     "nuid": "07ee763b-c496-4dc4-8cb7-1f0fa84b6b21",
     "showTitle": false,
     "title": ""
    }
   },
   "source": [
    "You see that each unique non-null value is being counted and listed in the output above.\n",
    "\n",
    "Well, what happens when we use the `Series.value_counts()` method with a dataframe? First step, we should select the `sector` and `industry` columns to create a dataframe named `sectors_industries`, like this:"
   ]
  },
  {
   "cell_type": "code",
   "execution_count": 0,
   "metadata": {
    "application/vnd.databricks.v1+cell": {
     "cellMetadata": {
      "byteLimit": 2048000,
      "rowLimit": 10000
     },
     "inputWidgets": {},
     "nuid": "fd4a1406-146f-4342-a550-b8d11165c280",
     "showTitle": false,
     "title": ""
    }
   },
   "outputs": [],
   "source": [
    "sectors_industries = f500[[\"sector\", \"industry\"]]\n",
    "print(type(sectors_industries))"
   ]
  },
  {
   "cell_type": "markdown",
   "metadata": {
    "application/vnd.databricks.v1+cell": {
     "cellMetadata": {
      "byteLimit": 2048000,
      "rowLimit": 10000
     },
     "inputWidgets": {},
     "nuid": "32b843fe-31f0-4909-abbb-658bc6c95a1f",
     "showTitle": false,
     "title": ""
    }
   },
   "source": [
    "Then, we'll use the `value_counts()` method:"
   ]
  },
  {
   "cell_type": "code",
   "execution_count": 0,
   "metadata": {
    "application/vnd.databricks.v1+cell": {
     "cellMetadata": {
      "byteLimit": 2048000,
      "rowLimit": 10000
     },
     "inputWidgets": {},
     "nuid": "a54b7f4c-06c0-4d2b-bf18-371a92f3bcef",
     "showTitle": false,
     "title": ""
    }
   },
   "outputs": [],
   "source": [
    "si_value_counts = sectors_industries.value_counts()\n",
    "print(si_value_counts)"
   ]
  },
  {
   "cell_type": "markdown",
   "metadata": {
    "application/vnd.databricks.v1+cell": {
     "cellMetadata": {
      "byteLimit": 2048000,
      "rowLimit": 10000
     },
     "inputWidgets": {},
     "nuid": "6b75c2f2-a7ae-4e9d-9c5d-96e5da1a6e61",
     "showTitle": false,
     "title": ""
    }
   },
   "source": [
    "We see that we for a dataframe the occurences of unique combinations of values in the columns are counted. This goes to show that while the methods have the same name for both objects, the result might be different. If you are unsure what the result of a method is be sure to look it up in the documentation."
   ]
  },
  {
   "cell_type": "markdown",
   "metadata": {
    "application/vnd.databricks.v1+cell": {
     "cellMetadata": {
      "byteLimit": 2048000,
      "rowLimit": 10000
     },
     "inputWidgets": {},
     "nuid": "60bd4671-ede3-4687-832f-0d9d982de59a",
     "showTitle": false,
     "title": ""
    }
   },
   "source": [
    "In general, it is not guaranteed that a method exists for both objects. \n",
    "For example, the  method ``unique()`` only exists for series objects.\n",
    "If we try to use it with a dataframe an Error is thrown."
   ]
  },
  {
   "cell_type": "code",
   "execution_count": 0,
   "metadata": {
    "application/vnd.databricks.v1+cell": {
     "cellMetadata": {
      "byteLimit": 2048000,
      "rowLimit": 10000
     },
     "inputWidgets": {},
     "nuid": "4b4194f0-d93e-431d-9584-ea2f6aca267a",
     "showTitle": false,
     "title": ""
    }
   },
   "outputs": [],
   "source": [
    "sectors.unique()"
   ]
  },
  {
   "cell_type": "code",
   "execution_count": 0,
   "metadata": {
    "application/vnd.databricks.v1+cell": {
     "cellMetadata": {
      "byteLimit": 2048000,
      "rowLimit": 10000
     },
     "inputWidgets": {},
     "nuid": "b42b9862-aa54-4330-966a-4afc3389e3f5",
     "showTitle": false,
     "title": ""
    }
   },
   "outputs": [],
   "source": [
    "sectors_industries.unique()"
   ]
  },
  {
   "cell_type": "markdown",
   "metadata": {
    "application/vnd.databricks.v1+cell": {
     "cellMetadata": {
      "byteLimit": 2048000,
      "rowLimit": 10000
     },
     "inputWidgets": {},
     "nuid": "e1130086-0395-49e1-95c2-5e8fee13a5a0",
     "showTitle": false,
     "title": ""
    }
   },
   "source": [
    "### Task 3.3.8\n",
    "\n",
    "1. Find the counts of each unique value in the `country` column in the `f500` dataframe.\n",
    "    - Select the `country` column in the `f500` dataframe. Assign it to a variable named `countries*`\n",
    "    - Use the `Series.value_counts()` method to return the value counts for `countries`. Assign the results to `country_counts`."
   ]
  },
  {
   "cell_type": "code",
   "execution_count": 0,
   "metadata": {
    "application/vnd.databricks.v1+cell": {
     "cellMetadata": {
      "byteLimit": 2048000,
      "rowLimit": 10000
     },
     "inputWidgets": {},
     "nuid": "eae53938-c1dd-41b6-9c4e-56ca5324fcf4",
     "showTitle": false,
     "title": ""
    }
   },
   "outputs": [],
   "source": [
    "# Start your code below:\n",
    "\n",
    "countries = f500[\"country\"]\n",
    "country_counts = countries.value_counts()"
   ]
  },
  {
   "cell_type": "markdown",
   "metadata": {
    "application/vnd.databricks.v1+cell": {
     "cellMetadata": {
      "byteLimit": 2048000,
      "rowLimit": 10000
     },
     "inputWidgets": {},
     "nuid": "0c739b35-db74-402d-a8fe-7c1ba17413dc",
     "showTitle": false,
     "title": ""
    }
   },
   "source": [
    "## Summary\n",
    "\n",
    "Below is a summary table of all the different label selection we have learned so far:\n",
    "\n",
    "|Select by Label|Explicit Syntax|Shorthand Convention|\n",
    "|-------------|-----------|---------------|\n",
    "|Single column from dataframe|df.loc[:,\"col1\"]|df[\"col1\"]|\n",
    "|List of columns from dataframe|df.loc[:,\"col1\",\"col7\"]|df[\"col1\",\"col7\"]|\n",
    "|Single column from dataframe|df.loc[:,\"col1\":\"col4\"]| |\n",
    "|Single row from dataframe| df.loc[\"row4\"]|   |\n",
    "|List of rows from dataframe |df.loc[\"row1\",\"row8\"]]|  |\n",
    "|Slice of rows from dataframe|df.loc[\"row3\":\"row5\"]| df[\"row3\":\"row5\"]|\n",
    "|Single item from series|s.loc[\"item8\"]|s[\"item8\"]|\n",
    "|List of items from series|s.loc[[\"item1\", \"item7\"]]|s[[\"item1\",\"item7\"]]|\n",
    "|Slice of items from series|s.loc[\"item2\":\"item4\"] |s[\"item2\":\"item4\"]|"
   ]
  }
 ],
 "metadata": {
  "application/vnd.databricks.v1+notebook": {
   "dashboards": [],
   "environmentMetadata": null,
   "language": "python",
   "notebookMetadata": {
    "pythonIndentUnit": 2
   },
   "notebookName": "[Answer]3_Intro_to_Pandas",
   "widgets": {}
  }
 },
 "nbformat": 4,
 "nbformat_minor": 0
}
