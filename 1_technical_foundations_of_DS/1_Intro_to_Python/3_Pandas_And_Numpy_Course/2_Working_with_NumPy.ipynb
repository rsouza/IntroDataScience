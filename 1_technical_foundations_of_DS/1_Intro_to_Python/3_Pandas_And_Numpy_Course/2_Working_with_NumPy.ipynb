{
 "cells": [
  {
   "cell_type": "markdown",
   "metadata": {
    "application/vnd.databricks.v1+cell": {
     "cellMetadata": {},
     "inputWidgets": {},
     "nuid": "f526f5c1-b1d4-4196-86f1-a53055f7ded9",
     "showTitle": false,
     "title": ""
    }
   },
   "source": [
    "## About This Notebook \n",
    "In this **Working with NumPy** notebook, we will learn:\n",
    "- How to use `numpy.genfromtxt()` to read in an ndarray.\n",
    "- What a boolean array is, and how to create one.\n",
    "- How to use boolean indexing to filter values in one and two-dimensional ndarrays.\n",
    "- How to assign one or more new values to an ndarray based on their locations.\n",
    "- How to assign one or more new values to an ndarray based on their values.\n",
    "***\n",
    "## 1. Reading CSV files with NumPy\n",
    "\n",
    "In this chapter, we will learn a technique called <b>Boolean Indexing</b>. Before we dig deeper into this topic, let's first learn how to read files into NumPy ndarrays. Below is the simplified syntax of the function, as well as an explanation for the two parameters:\n",
    "\n",
    "````python\n",
    "np.genfromtxt(filename, delimiter=None)\n",
    "````\n",
    "\n",
    "- ``filename``: A positional argument, usually a string representing the path to the text file to be read.\n",
    "- ``delimiter``: A named argument, specifying the string used to separate each value.\n",
    "\n",
    "In our case, the data is stored in a CSV file, therefore the delimiter is a comma \",\".\n",
    "So this is how we can read in a file named ``data.csv``:\n",
    "\n",
    "\n",
    "````python\n",
    "data = np.genfromtxt('data.csv', delimiter = ',')\n",
    "````"
   ]
  },
  {
   "cell_type": "markdown",
   "metadata": {
    "application/vnd.databricks.v1+cell": {
     "cellMetadata": {},
     "inputWidgets": {},
     "nuid": "3566ca48-5e8c-4e88-be29-3df171b51661",
     "showTitle": false,
     "title": ""
    }
   },
   "source": [
    "### Task 3.2.1:\n",
    "Now let's try to read our nyc_taxis.csv file into NumPy.\n",
    "\n",
    "1. Import the NumPy library and assign to the alias ``np``.\n",
    "2. Use the `np.genfromtxt()` function to read the nyc_taxis.csv file into NumPy. Assign the result to ``taxi``. Do not forget to use also delimiter argument, such as shown above.\n",
    "3. Use the ``ndarray.shape`` attribute to assign the shape of taxi to ``taxi_shape``."
   ]
  },
  {
   "cell_type": "code",
   "execution_count": 0,
   "metadata": {
    "application/vnd.databricks.v1+cell": {
     "cellMetadata": {
      "byteLimit": 2048000,
      "rowLimit": 10000
     },
     "inputWidgets": {},
     "nuid": "0f468ff1-5a30-41e5-a518-dbb45c9a18b9",
     "showTitle": false,
     "title": ""
    }
   },
   "outputs": [],
   "source": [
    "# Start your code here:\n"
   ]
  },
  {
   "cell_type": "markdown",
   "metadata": {
    "application/vnd.databricks.v1+cell": {
     "cellMetadata": {},
     "inputWidgets": {},
     "nuid": "64063e73-54e4-4656-b6d3-94c32416ced9",
     "showTitle": false,
     "title": ""
    }
   },
   "source": [
    "## 2. Reading CSV files with NumPy Continued\n",
    "\n",
    "We have used the `numpy.genfromtxt()` function to read the ``nyc_taxis.csv`` file into NumPy in the previous notebook.\n",
    "\n",
    "Just to refresh your memory, in the previous mission we have done something like this:"
   ]
  },
  {
   "cell_type": "markdown",
   "metadata": {
    "application/vnd.databricks.v1+cell": {
     "cellMetadata": {},
     "inputWidgets": {},
     "nuid": "e163cac6-ec88-47c0-8f07-241844598c4b",
     "showTitle": false,
     "title": ""
    }
   },
   "source": [
    "````python\n",
    "# import nyc_taxi.csv as a list of lists\n",
    "f = open(\"nyc_taxis.csv\", \"r\")\n",
    "taxi_list = list(csv.reader(f))\n",
    "\n",
    "# remove the header row\n",
    "taxi_list = taxi_list[1:]\n",
    "\n",
    "# convert all values to floats\n",
    "converted_taxi_list = []\n",
    "for row in taxi_list:\n",
    "    converted_row = []\n",
    "    for item in row:\n",
    "        converted_row.append(float(item))\n",
    "    converted_taxi_list.append(converted_row)\n",
    "\n",
    "taxi = np.array(converted_taxi_list)\n",
    "````"
   ]
  },
  {
   "cell_type": "markdown",
   "metadata": {
    "application/vnd.databricks.v1+cell": {
     "cellMetadata": {},
     "inputWidgets": {},
     "nuid": "45754c61-b31f-41c1-a546-469916e514f1",
     "showTitle": false,
     "title": ""
    }
   },
   "source": [
    "Have you noticed that we converted all the values to floats before we converted the list of lists to an ndarray? \n",
    "> The reason for this is because that NumPy ndarrays can contain only **one datatype**.\n",
    "\n",
    "This part of the code was omitted in the previous exercise, because when `numpy.getfromtxt()` is called, the function automatically tries to determine the data type of the file by looking at the values.\n",
    "\n",
    "To see which datatype we have in the ndarray, simply use `ndarray.dtype` attribute like this:\n",
    "````python\n",
    "print(taxi.dtype)\n",
    "````\n",
    "### Task 3.2.2:\n",
    "1. Use the `numpy.genfromtxt()` function to again read the nyc_taxis.csv file into NumPy, but this time, skip the first row. Assign the result to `taxi`.\n",
    "2. Assign the shape of `taxi` to `taxi_shape`."
   ]
  },
  {
   "cell_type": "code",
   "execution_count": 0,
   "metadata": {
    "application/vnd.databricks.v1+cell": {
     "cellMetadata": {
      "byteLimit": 2048000,
      "rowLimit": 10000
     },
     "inputWidgets": {},
     "nuid": "c501cec9-c403-4fd2-9504-353e48023f6b",
     "showTitle": false,
     "title": ""
    }
   },
   "outputs": [],
   "source": [
    "# Start your code here:\n"
   ]
  },
  {
   "cell_type": "markdown",
   "metadata": {
    "application/vnd.databricks.v1+cell": {
     "cellMetadata": {},
     "inputWidgets": {},
     "nuid": "0feb2554-3078-4497-8b0e-cbb38779ee99",
     "showTitle": false,
     "title": ""
    }
   },
   "source": [
    "## 3. Boolean Arrays\n",
    "\n",
    "In this session, we're going to focus on the boolean array.\n",
    "\n",
    "Do you remember that the boolean (or bool) type is a built-in Python type that can be one of two unique values:\n",
    "\n",
    "- True\n",
    "- False\n",
    "\n",
    "Do you also remember that we've used boolean values when working with Python comparison operators like \n",
    "- ``==`` equal\n",
    "- ``>`` greater than\n",
    "- ``<`` less than\n",
    "- ``!=`` not equal\n",
    "\n",
    "See a couple examples of simple boolean operations below just to refresh your memory:"
   ]
  },
  {
   "cell_type": "code",
   "execution_count": 0,
   "metadata": {
    "application/vnd.databricks.v1+cell": {
     "cellMetadata": {
      "byteLimit": 2048000,
      "rowLimit": 10000
     },
     "inputWidgets": {},
     "nuid": "f1a81d89-7c6f-4b9d-96fa-64c75f5d06d1",
     "showTitle": false,
     "title": ""
    }
   },
   "outputs": [],
   "source": [
    "print(type(3.5) == float)"
   ]
  },
  {
   "cell_type": "code",
   "execution_count": 0,
   "metadata": {
    "application/vnd.databricks.v1+cell": {
     "cellMetadata": {
      "byteLimit": 2048000,
      "rowLimit": 10000
     },
     "inputWidgets": {},
     "nuid": "db1ce31e-c0d0-4cf4-aa27-30d3c1e910a9",
     "showTitle": false,
     "title": ""
    }
   },
   "outputs": [],
   "source": [
    "print(5 > 6)"
   ]
  },
  {
   "cell_type": "markdown",
   "metadata": {
    "application/vnd.databricks.v1+cell": {
     "cellMetadata": {},
     "inputWidgets": {},
     "nuid": "749b61f6-2b5d-492b-ba8e-323759e95dc1",
     "showTitle": false,
     "title": ""
    }
   },
   "source": [
    "In the previous notebook where we explored vector operations we learned that the result of an operation between a ndarray and a single value is a new ndarray:"
   ]
  },
  {
   "cell_type": "code",
   "execution_count": 0,
   "metadata": {
    "application/vnd.databricks.v1+cell": {
     "cellMetadata": {
      "byteLimit": 2048000,
      "rowLimit": 10000
     },
     "inputWidgets": {},
     "nuid": "ac1769f7-ce7b-489a-af9d-89ee04c0652b",
     "showTitle": false,
     "title": ""
    }
   },
   "outputs": [],
   "source": [
    "import numpy as np\n",
    "print(np.array([2,4,6,8]) + 10)\n",
    "\n",
    "#The + 10 operation is applied to each value in the array"
   ]
  },
  {
   "cell_type": "markdown",
   "metadata": {
    "application/vnd.databricks.v1+cell": {
     "cellMetadata": {},
     "inputWidgets": {},
     "nuid": "9d2df9a4-c954-48ea-b39f-1dd5a9a745b4",
     "showTitle": false,
     "title": ""
    }
   },
   "source": [
    "Guess what happens when we perform a **boolean operation** between an ndarray and a single value:"
   ]
  },
  {
   "cell_type": "code",
   "execution_count": 0,
   "metadata": {
    "application/vnd.databricks.v1+cell": {
     "cellMetadata": {
      "byteLimit": 2048000,
      "rowLimit": 10000
     },
     "inputWidgets": {},
     "nuid": "50f2de0f-05f5-4fbd-afb8-7700e7f22c11",
     "showTitle": false,
     "title": ""
    }
   },
   "outputs": [],
   "source": [
    "import numpy as np\n",
    "print(np.array([2,4,6,8]) < 5)"
   ]
  },
  {
   "cell_type": "markdown",
   "metadata": {
    "application/vnd.databricks.v1+cell": {
     "cellMetadata": {},
     "inputWidgets": {},
     "nuid": "de47515f-d14a-4707-93ac-36f7288f8554",
     "showTitle": false,
     "title": ""
    }
   },
   "source": [
    "## 4. Boolean Indexing with 1D ndarrays\n",
    "\n",
    "In the last exercise, we learned how to create boolean arrays using vectorized boolean operations. Now, I want to show you a technique known as **boolean indexing**, (or index/select) using boolean arrays.\n",
    "See an example from the previous notebook:"
   ]
  },
  {
   "cell_type": "code",
   "execution_count": 0,
   "metadata": {
    "application/vnd.databricks.v1+cell": {
     "cellMetadata": {
      "byteLimit": 2048000,
      "rowLimit": 10000
     },
     "inputWidgets": {},
     "nuid": "fcbfadb5-e977-4a41-84f6-b267743fdaa4",
     "showTitle": false,
     "title": ""
    }
   },
   "outputs": [],
   "source": [
    "c = np.array([80.0, 103.4, 96.9, 200.3])\n",
    "c_bool = c > 100\n",
    "print(c_bool)"
   ]
  },
  {
   "cell_type": "markdown",
   "metadata": {
    "application/vnd.databricks.v1+cell": {
     "cellMetadata": {},
     "inputWidgets": {},
     "nuid": "79457d2e-594f-4be1-803f-99feb95a1042",
     "showTitle": false,
     "title": ""
    }
   },
   "source": [
    "How do we index using our new boolean array? All we need to do is to use the square brackets like this:"
   ]
  },
  {
   "cell_type": "code",
   "execution_count": 0,
   "metadata": {
    "application/vnd.databricks.v1+cell": {
     "cellMetadata": {
      "byteLimit": 2048000,
      "rowLimit": 10000
     },
     "inputWidgets": {},
     "nuid": "866f863b-56e6-4d90-900c-e53da339c4a5",
     "showTitle": false,
     "title": ""
    }
   },
   "outputs": [],
   "source": [
    "result = c[c_bool]\n",
    "print(result)"
   ]
  },
  {
   "cell_type": "markdown",
   "metadata": {
    "application/vnd.databricks.v1+cell": {
     "cellMetadata": {},
     "inputWidgets": {},
     "nuid": "490c90f6-df8f-401c-a4ff-0387cd95806e",
     "showTitle": false,
     "title": ""
    }
   },
   "source": [
    "The boolean array acts as a filter, the values that corresponding to **True** become part of the result and the values that corresponding to **False** are removed from the final list.\n",
    "\n",
    "How can we use boolean indexing knowledge in our data set?\n",
    "For example, to confirm the number of taxi rides from the month of january, we can do this:"
   ]
  },
  {
   "cell_type": "code",
   "execution_count": 0,
   "metadata": {
    "application/vnd.databricks.v1+cell": {
     "cellMetadata": {
      "byteLimit": 2048000,
      "rowLimit": 10000
     },
     "inputWidgets": {},
     "nuid": "0c757187-6773-4b81-a846-055ce8dab887",
     "showTitle": false,
     "title": ""
    }
   },
   "outputs": [],
   "source": [
    "# First, select just the pickup_month column (second column in the ndarray with column index 1)\n",
    "pickup_month = taxi[:,1]\n",
    "\n",
    "# use a boolean operation to make a boolean array, where the value 1 corresponds to January\n",
    "january_bool = pickup_month == 1\n",
    "\n",
    "# use the new boolean array to select only the items from pickup_month that have a value of 1\n",
    "january = pickup_month[january_bool]\n",
    "\n",
    "# use the .shape attribute to find out how many items are in our january ndarray\n",
    "january_rides = january.shape[0]\n",
    "print(january_rides)"
   ]
  },
  {
   "cell_type": "markdown",
   "metadata": {
    "application/vnd.databricks.v1+cell": {
     "cellMetadata": {},
     "inputWidgets": {},
     "nuid": "e9b1db34-f9f7-41d3-b6ed-bec06aaea4e2",
     "showTitle": false,
     "title": ""
    }
   },
   "source": [
    "### Task 3.2.4:\n",
    "\n",
    "1. Calculate the number of rides in the taxi ndarray that are from **February**:\n",
    "    - Create a boolean array, ``february_bool``, that evaluates whether the items in ``pickup_month`` are equal to ``2``.\n",
    "    - Use the ``february_bool`` boolean array to index ``pickup_month``. Assign the result to ``february``.\n",
    "    - Use the ``ndarray.shape`` attribute to find the number of items in `february`. Assign the result to ``february_rides``."
   ]
  },
  {
   "cell_type": "code",
   "execution_count": 0,
   "metadata": {
    "application/vnd.databricks.v1+cell": {
     "cellMetadata": {
      "byteLimit": 2048000,
      "rowLimit": 10000
     },
     "inputWidgets": {},
     "nuid": "2f7af05f-36b0-49d6-a5d7-231416bc842f",
     "showTitle": false,
     "title": ""
    }
   },
   "outputs": [],
   "source": [
    "# Start your code below:\n"
   ]
  },
  {
   "cell_type": "markdown",
   "metadata": {
    "application/vnd.databricks.v1+cell": {
     "cellMetadata": {},
     "inputWidgets": {},
     "nuid": "c75b22a5-e2ef-4277-8f2e-aed06d8a089e",
     "showTitle": false,
     "title": ""
    }
   },
   "source": [
    "## 5. Boolean Indexing with 2D ndaarays\n",
    "\n",
    "Now it is time to use boolean indexing with ``2D ndarrays``. \n",
    "> One thing to keep in mind is that the boolean array must have the same length as the dimension you're indexing. This is one of the constraints when we work with 2D ndarrays."
   ]
  },
  {
   "cell_type": "code",
   "execution_count": 0,
   "metadata": {
    "application/vnd.databricks.v1+cell": {
     "cellMetadata": {
      "byteLimit": 2048000,
      "rowLimit": 10000
     },
     "inputWidgets": {},
     "nuid": "ee837da0-a9a0-43b9-9694-9a235f80091e",
     "showTitle": false,
     "title": ""
    }
   },
   "outputs": [],
   "source": [
    "arr = np.array([\n",
    "                [1,2,3],\n",
    "                [4,5,6],\n",
    "                [7,8,9],\n",
    "                [10,11,12]\n",
    "])\n",
    "\n",
    "print(arr)"
   ]
  },
  {
   "cell_type": "code",
   "execution_count": 0,
   "metadata": {
    "application/vnd.databricks.v1+cell": {
     "cellMetadata": {
      "byteLimit": 2048000,
      "rowLimit": 10000
     },
     "inputWidgets": {},
     "nuid": "740ef01d-ab50-4532-b101-42864d890cdd",
     "showTitle": false,
     "title": ""
    }
   },
   "outputs": [],
   "source": [
    "bool_1 = [True, False, \n",
    "        True, True]\n",
    "print(arr[bool_1])"
   ]
  },
  {
   "cell_type": "code",
   "execution_count": 0,
   "metadata": {
    "application/vnd.databricks.v1+cell": {
     "cellMetadata": {
      "byteLimit": 2048000,
      "rowLimit": 10000
     },
     "inputWidgets": {},
     "nuid": "7ed97b89-9f70-4e9c-b085-bf096a2e4bd1",
     "showTitle": false,
     "title": ""
    }
   },
   "outputs": [],
   "source": [
    "print(arr[:, bool_1])"
   ]
  },
  {
   "cell_type": "markdown",
   "metadata": {
    "application/vnd.databricks.v1+cell": {
     "cellMetadata": {},
     "inputWidgets": {},
     "nuid": "6ce2406b-dacf-4364-bfc3-21bc34bf238c",
     "showTitle": false,
     "title": ""
    }
   },
   "source": [
    "You see that `bool_1`'s shape (4) is not the same as the shape of `arr`'s second axis(3), so it can't be used to index and produces an error."
   ]
  },
  {
   "cell_type": "code",
   "execution_count": 0,
   "metadata": {
    "application/vnd.databricks.v1+cell": {
     "cellMetadata": {
      "byteLimit": 2048000,
      "rowLimit": 10000
     },
     "inputWidgets": {},
     "nuid": "dc20fe55-8211-427b-b602-be41f8377b34",
     "showTitle": false,
     "title": ""
    }
   },
   "outputs": [],
   "source": [
    "bool_2 = [False, True, True]\n",
    "print(arr[:,bool_2])"
   ]
  },
  {
   "cell_type": "markdown",
   "metadata": {
    "application/vnd.databricks.v1+cell": {
     "cellMetadata": {},
     "inputWidgets": {},
     "nuid": "914afd37-5c27-427e-a90d-6d2e850ed847",
     "showTitle": false,
     "title": ""
    }
   },
   "source": [
    "`bool_2`'s shape (3) is the same as the shape of `arr`'s second axis (3), so this selects the 2nd and 3rd columns."
   ]
  },
  {
   "cell_type": "markdown",
   "metadata": {
    "application/vnd.databricks.v1+cell": {
     "cellMetadata": {},
     "inputWidgets": {},
     "nuid": "555b4f10-607d-40ba-a131-372ea36aa939",
     "showTitle": false,
     "title": ""
    }
   },
   "source": [
    "Now let's apply what we have learned to our data set. This time we will analyze the average speed of trips. Recall that we calculated the ``average travel speed `` as follows:\n",
    "````python\n",
    "trip_mph = taxi[:,7] / (taxi[:,8] / 3600)\n",
    "````"
   ]
  },
  {
   "cell_type": "markdown",
   "metadata": {
    "application/vnd.databricks.v1+cell": {
     "cellMetadata": {},
     "inputWidgets": {},
     "nuid": "a83f34fa-e987-47f7-8748-23d718b78736",
     "showTitle": false,
     "title": ""
    }
   },
   "source": [
    "Next, how do we check for trips with an average speed greater than 20,000 mph?"
   ]
  },
  {
   "cell_type": "code",
   "execution_count": 0,
   "metadata": {
    "application/vnd.databricks.v1+cell": {
     "cellMetadata": {
      "byteLimit": 2048000,
      "rowLimit": 10000
     },
     "inputWidgets": {},
     "nuid": "d7379431-df2a-4d12-9f27-39bc24ffd56d",
     "showTitle": false,
     "title": ""
    }
   },
   "outputs": [],
   "source": [
    "trip_mph = taxi[:,7] / (taxi[:,8] / 3600)"
   ]
  },
  {
   "cell_type": "code",
   "execution_count": 0,
   "metadata": {
    "application/vnd.databricks.v1+cell": {
     "cellMetadata": {
      "byteLimit": 2048000,
      "rowLimit": 10000
     },
     "inputWidgets": {},
     "nuid": "049eb053-e719-4e50-a014-7fe89826b8a9",
     "showTitle": false,
     "title": ""
    }
   },
   "outputs": [],
   "source": [
    "# create a boolean array for trips with average\n",
    "# speeds greater than 20,000 mph\n",
    "trip_mph_bool = trip_mph > 20000\n",
    "\n",
    "# use the boolean array to select the rows for\n",
    "# those trips, and the pickup_location_code,\n",
    "# dropoff_location_code, trip_distance, and\n",
    "# trip_length columns\n",
    "trips_over_20000_mph = taxi[trip_mph_bool,5:9]\n",
    "\n",
    "print(trips_over_20000_mph)"
   ]
  },
  {
   "cell_type": "markdown",
   "metadata": {
    "application/vnd.databricks.v1+cell": {
     "cellMetadata": {},
     "inputWidgets": {},
     "nuid": "bd45feeb-3c26-455e-aea4-d0bf0446c097",
     "showTitle": false,
     "title": ""
    }
   },
   "source": [
    "### Task 3.2.5 (HARD):\n",
    "1. Create a boolean array, ``tip_bool``, that determines which rows have values for the `tip_amount` column of more than 50.<br>\n",
    "Hint: You might have to examine the original nyc_taxis.csv file to find an index of desired column.\n",
    "2. Use the ``tip_bool`` array to select all rows from taxi with values tip amounts of more than 50, and the columns from indexes `5` to `13` inclusive. Assign the resulting array to ``top_tips``."
   ]
  },
  {
   "cell_type": "code",
   "execution_count": 0,
   "metadata": {
    "application/vnd.databricks.v1+cell": {
     "cellMetadata": {
      "byteLimit": 2048000,
      "rowLimit": 10000
     },
     "inputWidgets": {},
     "nuid": "6b986e93-9f3a-4a4e-91ad-648ff5f61adc",
     "showTitle": false,
     "title": ""
    }
   },
   "outputs": [],
   "source": [
    "# Start your code below\n"
   ]
  },
  {
   "cell_type": "markdown",
   "metadata": {
    "application/vnd.databricks.v1+cell": {
     "cellMetadata": {},
     "inputWidgets": {},
     "nuid": "d1c24ab1-0ed8-4873-9693-82d29c684c1d",
     "showTitle": false,
     "title": ""
    }
   },
   "source": [
    "## 6. Assigning Values in ndarrays (OPTIONAL)\n",
    "\n",
    "After having learned how to retrieve data from ndarrays, now we will use the same indexing techniques to modify values within an ndarray. The syntax looks like this: <br>\n",
    "\n",
    "````python\n",
    "ndarray[location_of_values] = new_value\n",
    "````"
   ]
  },
  {
   "cell_type": "markdown",
   "metadata": {
    "application/vnd.databricks.v1+cell": {
     "cellMetadata": {},
     "inputWidgets": {},
     "nuid": "72059608-77d0-4a3f-80f7-a011ba6e64ad",
     "showTitle": false,
     "title": ""
    }
   },
   "source": [
    "With 1D array, all we need to do is to specify one specific index location like this:"
   ]
  },
  {
   "cell_type": "code",
   "execution_count": 0,
   "metadata": {
    "application/vnd.databricks.v1+cell": {
     "cellMetadata": {
      "byteLimit": 2048000,
      "rowLimit": 10000
     },
     "inputWidgets": {},
     "nuid": "d7479dd8-5bf4-4849-95ca-9ab458a5cdad",
     "showTitle": false,
     "title": ""
    }
   },
   "outputs": [],
   "source": [
    "a = np.array(['red','blue','black','blue','purple'])\n",
    "a[0] = 'orange'\n",
    "print(a)"
   ]
  },
  {
   "cell_type": "markdown",
   "metadata": {
    "application/vnd.databricks.v1+cell": {
     "cellMetadata": {},
     "inputWidgets": {},
     "nuid": "9691a5d2-ca43-48c4-8a86-57d1a83de996",
     "showTitle": false,
     "title": ""
    }
   },
   "source": [
    "Or multiple values can be assigned at once:"
   ]
  },
  {
   "cell_type": "code",
   "execution_count": 0,
   "metadata": {
    "application/vnd.databricks.v1+cell": {
     "cellMetadata": {
      "byteLimit": 2048000,
      "rowLimit": 10000
     },
     "inputWidgets": {},
     "nuid": "e3f702de-5fd0-480c-baf3-5ab4f6788213",
     "showTitle": false,
     "title": ""
    }
   },
   "outputs": [],
   "source": [
    "a[3:] = 'pink'\n",
    "print(a)"
   ]
  },
  {
   "cell_type": "markdown",
   "metadata": {
    "application/vnd.databricks.v1+cell": {
     "cellMetadata": {},
     "inputWidgets": {},
     "nuid": "46a3d872-9921-426f-adcb-2a32c9af1800",
     "showTitle": false,
     "title": ""
    }
   },
   "source": [
    "With a 2D ndarray, just like with a 1D ndarray, we can assign one specific index location:"
   ]
  },
  {
   "cell_type": "code",
   "execution_count": 0,
   "metadata": {
    "application/vnd.databricks.v1+cell": {
     "cellMetadata": {
      "byteLimit": 2048000,
      "rowLimit": 10000
     },
     "inputWidgets": {},
     "nuid": "4c0bc1f8-9af9-4c1c-b8ef-fcc44d86911f",
     "showTitle": false,
     "title": ""
    }
   },
   "outputs": [],
   "source": [
    "ones = np.array([[1, 1, 1, 1, 1],\n",
    "                 [1, 1, 1, 1, 1],\n",
    "                 [1, 1, 1, 1, 1]])\n",
    "ones[1,2] = 99\n",
    "print(ones)"
   ]
  },
  {
   "cell_type": "markdown",
   "metadata": {
    "application/vnd.databricks.v1+cell": {
     "cellMetadata": {},
     "inputWidgets": {},
     "nuid": "e782435f-312b-43ff-8db0-6ce689231814",
     "showTitle": false,
     "title": ""
    }
   },
   "source": [
    "Or we can assign a whole row:"
   ]
  },
  {
   "cell_type": "code",
   "execution_count": 0,
   "metadata": {
    "application/vnd.databricks.v1+cell": {
     "cellMetadata": {
      "byteLimit": 2048000,
      "rowLimit": 10000
     },
     "inputWidgets": {},
     "nuid": "8fc46fcf-5a82-463c-bfe5-b4c23ee6b137",
     "showTitle": false,
     "title": ""
    }
   },
   "outputs": [],
   "source": [
    "ones[0] = 42\n",
    "print(ones)"
   ]
  },
  {
   "cell_type": "markdown",
   "metadata": {
    "application/vnd.databricks.v1+cell": {
     "cellMetadata": {},
     "inputWidgets": {},
     "nuid": "2652bfa1-53f6-49af-a0d1-3a22fada9f51",
     "showTitle": false,
     "title": ""
    }
   },
   "source": [
    "Or a whole column:"
   ]
  },
  {
   "cell_type": "code",
   "execution_count": 0,
   "metadata": {
    "application/vnd.databricks.v1+cell": {
     "cellMetadata": {
      "byteLimit": 2048000,
      "rowLimit": 10000
     },
     "inputWidgets": {},
     "nuid": "1ae5f8ae-909a-4162-8d4a-5d6fa6ea8c77",
     "showTitle": false,
     "title": ""
    }
   },
   "outputs": [],
   "source": [
    "ones[:,2] = 0\n",
    "print(ones)"
   ]
  },
  {
   "cell_type": "markdown",
   "metadata": {
    "application/vnd.databricks.v1+cell": {
     "cellMetadata": {},
     "inputWidgets": {},
     "nuid": "36d16080-08a8-4d91-83fb-8a693ee842e6",
     "showTitle": false,
     "title": ""
    }
   },
   "source": [
    "## 7. Assignment Using Boolean Arrays (OPTIONAL)\n",
    "\n",
    "Boolean arrays become extremely powerful when used for assignment, like this:"
   ]
  },
  {
   "cell_type": "code",
   "execution_count": 0,
   "metadata": {
    "application/vnd.databricks.v1+cell": {
     "cellMetadata": {
      "byteLimit": 2048000,
      "rowLimit": 10000
     },
     "inputWidgets": {},
     "nuid": "4ea84728-78d7-4888-93f1-78113a4fa14e",
     "showTitle": false,
     "title": ""
    }
   },
   "outputs": [],
   "source": [
    "a2 = np.array([1, 2, 3, 4, 5])\n",
    "\n",
    "a2_bool = a2 > 2\n",
    "\n",
    "a2[a2_bool] = 99\n",
    "\n",
    "print(a2)"
   ]
  },
  {
   "cell_type": "markdown",
   "metadata": {
    "application/vnd.databricks.v1+cell": {
     "cellMetadata": {},
     "inputWidgets": {},
     "nuid": "86b2d334-9898-4e36-a1de-b02a1bc0e427",
     "showTitle": false,
     "title": ""
    }
   },
   "source": [
    "The boolean array has the ability to control the values that the assignment applies to, and the other values remain unchanged."
   ]
  },
  {
   "cell_type": "code",
   "execution_count": 0,
   "metadata": {
    "application/vnd.databricks.v1+cell": {
     "cellMetadata": {
      "byteLimit": 2048000,
      "rowLimit": 10000
     },
     "inputWidgets": {},
     "nuid": "3a81424d-a659-4b54-8ff9-2e25cbc08b34",
     "showTitle": false,
     "title": ""
    }
   },
   "outputs": [],
   "source": [
    "a = np.array([1, 2, 3, 4, 5])\n",
    "\n",
    "a [ a > 2] = 99\n",
    "\n",
    "print(a)"
   ]
  },
  {
   "cell_type": "markdown",
   "metadata": {
    "application/vnd.databricks.v1+cell": {
     "cellMetadata": {},
     "inputWidgets": {},
     "nuid": "1efce63c-c150-4aa8-8107-31adb0961061",
     "showTitle": false,
     "title": ""
    }
   },
   "source": [
    "## 8. Assignment Using Boolean Arrays Continued (OPTIONAL)\n",
    "\n",
    "Now let's take a look at an example of assignment using a boolean array with two dimensions:"
   ]
  },
  {
   "cell_type": "code",
   "execution_count": 0,
   "metadata": {
    "application/vnd.databricks.v1+cell": {
     "cellMetadata": {
      "byteLimit": 2048000,
      "rowLimit": 10000
     },
     "inputWidgets": {},
     "nuid": "9575f039-e5e9-4934-aeeb-c7f072a06928",
     "showTitle": false,
     "title": ""
    }
   },
   "outputs": [],
   "source": [
    "b = np.array([\n",
    "                [1,2,3],\n",
    "                [4,5,6],\n",
    "                [7,8,9]           \n",
    "])\n",
    "\n",
    "b[b > 4] = 99\n",
    "print(b)\n",
    "\n",
    "# The b > 4 boolean operation produces a 2D boolean array \n",
    "# which then controls the values that the assignment applies to."
   ]
  },
  {
   "cell_type": "markdown",
   "metadata": {
    "application/vnd.databricks.v1+cell": {
     "cellMetadata": {},
     "inputWidgets": {},
     "nuid": "2d61f15b-33f0-47a0-a1b8-29a750e8e6d1",
     "showTitle": false,
     "title": ""
    }
   },
   "source": [
    "We can also use a 1D boolean array to perform assignment on a 2D array:"
   ]
  },
  {
   "cell_type": "code",
   "execution_count": 0,
   "metadata": {
    "application/vnd.databricks.v1+cell": {
     "cellMetadata": {
      "byteLimit": 2048000,
      "rowLimit": 10000
     },
     "inputWidgets": {},
     "nuid": "fcbf4203-7c7a-4e73-b45a-292b31bf2a29",
     "showTitle": false,
     "title": ""
    }
   },
   "outputs": [],
   "source": [
    "c = np.array([\n",
    "                [1,2,3],\n",
    "                [4,5,6],\n",
    "                [7,8,9]           \n",
    "])\n",
    "\n",
    "c[c[:,1] > 2, 1] = 99\n",
    "\n",
    "print(c)"
   ]
  },
  {
   "cell_type": "markdown",
   "metadata": {
    "application/vnd.databricks.v1+cell": {
     "cellMetadata": {},
     "inputWidgets": {},
     "nuid": "28c29cec-5359-4dc3-92e8-3abba33a44b3",
     "showTitle": false,
     "title": ""
    }
   },
   "source": [
    "The above code selected the second column (with column index 1), and used boolean index technique (which value is > 2). The boolean array is only applied to the second column, while all other values remaining unchanged.\n",
    "\n",
    "The pseudocode syntax for this code is the following, first we used an intermediate variable:"
   ]
  },
  {
   "cell_type": "markdown",
   "metadata": {
    "application/vnd.databricks.v1+cell": {
     "cellMetadata": {},
     "inputWidgets": {},
     "nuid": "d3c3f35e-706c-4df2-802b-19378d09b771",
     "showTitle": false,
     "title": ""
    }
   },
   "source": [
    "````python\n",
    "bool = array[:, column_for_comparison] == value_for_comparison\n",
    "array[bool, column_for_assignment] = new_value\n",
    "````"
   ]
  },
  {
   "cell_type": "markdown",
   "metadata": {
    "application/vnd.databricks.v1+cell": {
     "cellMetadata": {},
     "inputWidgets": {},
     "nuid": "b48d64e1-21b6-46ea-90a3-2ecc08a4e76f",
     "showTitle": false,
     "title": ""
    }
   },
   "source": [
    "And now all in one line:"
   ]
  },
  {
   "cell_type": "markdown",
   "metadata": {
    "application/vnd.databricks.v1+cell": {
     "cellMetadata": {},
     "inputWidgets": {},
     "nuid": "576125b3-c019-455d-b662-06d0f2cc2d82",
     "showTitle": false,
     "title": ""
    }
   },
   "source": [
    "````python\n",
    "array[array[:, column_for_comparison] == value_for_comparison, column_for_assignment] = new_value\n",
    "````"
   ]
  }
 ],
 "metadata": {
  "application/vnd.databricks.v1+notebook": {
   "dashboards": [],
   "environmentMetadata": null,
   "language": "python",
   "notebookMetadata": {
    "pythonIndentUnit": 2
   },
   "notebookName": "2_Working_with_NumPy",
   "widgets": {}
  }
 },
 "nbformat": 4,
 "nbformat_minor": 0
}
