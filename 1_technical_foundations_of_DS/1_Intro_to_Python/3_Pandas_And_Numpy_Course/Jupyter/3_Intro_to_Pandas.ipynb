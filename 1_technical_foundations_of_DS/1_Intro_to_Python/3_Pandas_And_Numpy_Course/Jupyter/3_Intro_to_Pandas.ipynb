{
 "cells": [
  {
   "cell_type": "markdown",
   "metadata": {
    "application/vnd.databricks.v1+cell": {
     "cellMetadata": {
      "byteLimit": 2048000,
      "rowLimit": 10000
     },
     "inputWidgets": {},
     "nuid": "c08f7834-7e9e-4a51-9542-9635819c0863",
     "showTitle": false,
     "title": ""
    }
   },
   "source": [
    "# About This Notebook\n",
    "In this **Introduction to pandas** chapter, we will learn:\n",
    "- How pandas and NumPy combine to make working with data easier.\n",
    "- About the two core pandas types: series and dataframes.\n",
    "- How to select data from pandas objects using axis labels.\n",
    "***\n",
    "## 1. Understanding Pandas and NumPy\n",
    "\n",
    "The pandas library provides solutions to a lot of problems. However, pandas is not so much a replacement for NumPy but serves more as an extension of NumPy. Pandas uses the the NumPy library extensively, and you will notice this more when you dig deeper into the concept.\n",
    "\n",
    "The primary data structure in pandas is called a **dataframe**. \n",
    "This is the pandas equivalent of a Numpy 2D ndarray but with some key differences:\n",
    "\n",
    "> Axis values can have string **labels**, not just numeric ones. This means that the columns can now have their own meaningful names.\n",
    "\n",
    "> Dataframes can contain columns with **multiple data types**: including ``integer``, ``float``, and ``string``. This enables us to store, for example, strings and integers in one dataframe.\n",
    "\n",
    "## 2. Introduction to the Data\n",
    "In this chapter, we will work with a data set from Fortune magazine's 2017 Global 500 list.\n",
    "\n",
    "The data set is stored in a CSV file called **f500.csv**. Here is a data dictionary for some of the columns in the CSV:\n",
    "\n",
    "- **company**: Name of the company.\n",
    "- **rank**: Global 500 rank for the company.\n",
    "- **revenues**: Company's total revenue for the fiscal year, in millions of dollars (USD).\n",
    "- **revenue_change**: Percentage change in revenue between the current and prior fiscal year.\n",
    "- **profits**: Net income for the fiscal year, in millions of dollars (USD).\n",
    "- **ceo**: Company's Chief Executive Officer.\n",
    "- **industry**: Industry in which the company operates.\n",
    "- **sector**: Sector in which the company operates.\n",
    "- **previous_rank**: Global 500 rank for the company for the prior year.\n",
    "- **country**: Country in which the company is headquartered.\n",
    "\n",
    "After getting to know our data set, how do we actually import pandas library in Python?\n",
    "To import pandas, we simply type in the following code:\n",
    "\n",
    "````python\n",
    "import pandas as pd\n",
    "````"
   ]
  },
  {
   "cell_type": "markdown",
   "metadata": {
    "application/vnd.databricks.v1+cell": {
     "cellMetadata": {
      "byteLimit": 2048000,
      "rowLimit": 10000
     },
     "inputWidgets": {},
     "nuid": "25087366-ce45-42ac-af63-720928fe25a2",
     "showTitle": false,
     "title": ""
    }
   },
   "source": [
    "Pandas' dataframes have a `.shape` attribute which returns a tuple representing the dimensions of each axis of the object. Now we want to use this and Python's `type()` function to take a closer look at the `f500` dataframe.\n",
    "\n",
    "### Task 3.3.2:\n",
    "\n",
    "1. Use Python's `type()` function to assign the type of `f500` to `f500_type`.\n",
    "2. Use the `DataFrame.shape` attribute to assign the shape of `f500` to `f500_shape`.\n",
    "3. Print both the `f500_type` and `f500_shape`."
   ]
  },
  {
   "cell_type": "code",
   "execution_count": 0,
   "metadata": {
    "application/vnd.databricks.v1+cell": {
     "cellMetadata": {
      "byteLimit": 2048000,
      "rowLimit": 10000
     },
     "inputWidgets": {},
     "nuid": "f96e354d-8a6a-45c5-99fc-cddf82b20af9",
     "showTitle": false,
     "title": ""
    }
   },
   "outputs": [],
   "source": [
    "import pandas as pd\n",
    "f500 = pd.read_csv('../../../../Data/f500.csv',index_col=0)\n",
    "f500.index.name = None\n",
    "# Start your code below:\n"
   ]
  },
  {
   "cell_type": "markdown",
   "metadata": {
    "application/vnd.databricks.v1+cell": {
     "cellMetadata": {
      "byteLimit": 2048000,
      "rowLimit": 10000
     },
     "inputWidgets": {},
     "nuid": "ffd8b4e7-9372-4de8-b0b0-571576f0a295",
     "showTitle": false,
     "title": ""
    }
   },
   "source": [
    "## 3. Introducing DataFrames\n",
    "\n",
    "Remember how we spent so much time in the course \"Be Around of Data Science\" talking about rectangular data structures? Moreover, we discussed flat tables consisting of rows (observations) and columns (features)? Now this will come in really handy! \n",
    "\n",
    "I want to show you the `DataFrame.head` method. By default, it will return the first five rows of our dataframe. However, it also accepts an optional integer parameter, which specifies the number of rows:"
   ]
  },
  {
   "cell_type": "code",
   "execution_count": 0,
   "metadata": {
    "application/vnd.databricks.v1+cell": {
     "cellMetadata": {
      "byteLimit": 2048000,
      "rowLimit": 10000
     },
     "inputWidgets": {},
     "nuid": "8ee3ff67-0d0b-491b-9cd3-3a09e29b44c1",
     "showTitle": false,
     "title": ""
    }
   },
   "outputs": [],
   "source": [
    "f500.head(3)"
   ]
  },
  {
   "cell_type": "markdown",
   "metadata": {
    "application/vnd.databricks.v1+cell": {
     "cellMetadata": {
      "byteLimit": 2048000,
      "rowLimit": 10000
     },
     "inputWidgets": {},
     "nuid": "31213cba-cdaf-49a5-b7fa-42b43c805db1",
     "showTitle": false,
     "title": ""
    }
   },
   "source": [
    "There is also the `DataFrame.tail` method to show us the last rows of our dataframe:"
   ]
  },
  {
   "cell_type": "code",
   "execution_count": 0,
   "metadata": {
    "application/vnd.databricks.v1+cell": {
     "cellMetadata": {
      "byteLimit": 2048000,
      "rowLimit": 10000
     },
     "inputWidgets": {},
     "nuid": "8242138f-651d-4461-8284-3301968648ec",
     "showTitle": false,
     "title": ""
    }
   },
   "outputs": [],
   "source": [
    "f500.tail(3)"
   ]
  },
  {
   "cell_type": "markdown",
   "metadata": {
    "application/vnd.databricks.v1+cell": {
     "cellMetadata": {
      "byteLimit": 2048000,
      "rowLimit": 10000
     },
     "inputWidgets": {},
     "nuid": "07bbc7a5-6503-4eb5-8040-1e3ad3e53fc5",
     "showTitle": false,
     "title": ""
    }
   },
   "source": [
    "### Task 3.3.3:\n",
    "\n",
    "1. Use the `head()` method to select the **first 6 rows**. Assign the result to `f500_head`.\n",
    "2. Use the `tail()` method to select the **last 8 rows**. Assign the result to `f500_tail`."
   ]
  },
  {
   "cell_type": "code",
   "execution_count": 0,
   "metadata": {
    "application/vnd.databricks.v1+cell": {
     "cellMetadata": {
      "byteLimit": 2048000,
      "rowLimit": 10000
     },
     "inputWidgets": {},
     "nuid": "b197180b-ee50-466e-bc72-93040b11c1da",
     "showTitle": false,
     "title": ""
    }
   },
   "outputs": [],
   "source": [
    "# Start your code here:\n"
   ]
  },
  {
   "cell_type": "markdown",
   "metadata": {
    "application/vnd.databricks.v1+cell": {
     "cellMetadata": {
      "byteLimit": 2048000,
      "rowLimit": 10000
     },
     "inputWidgets": {},
     "nuid": "c6c78632-f5fb-4e37-85d8-4492bdbaf796",
     "showTitle": false,
     "title": ""
    }
   },
   "source": [
    "## 4. Introducting DataFrames Continued\n",
    "\n",
    "Now let's talk about the `DataFrame.dtypes` attribute. The `DataFrame.dtypes` attribute returns information about the types of each column."
   ]
  },
  {
   "cell_type": "code",
   "execution_count": 0,
   "metadata": {
    "application/vnd.databricks.v1+cell": {
     "cellMetadata": {
      "byteLimit": 2048000,
      "rowLimit": 10000
     },
     "inputWidgets": {},
     "nuid": "c79f4371-f531-4e4b-8d0d-f46ce7ca3324",
     "showTitle": false,
     "title": ""
    }
   },
   "outputs": [],
   "source": [
    "print(f500.dtypes)"
   ]
  },
  {
   "cell_type": "markdown",
   "metadata": {
    "application/vnd.databricks.v1+cell": {
     "cellMetadata": {
      "byteLimit": 2048000,
      "rowLimit": 10000
     },
     "inputWidgets": {},
     "nuid": "f3f36242-844d-4216-a0de-f09b2f89e4b0",
     "showTitle": false,
     "title": ""
    }
   },
   "source": [
    "To see a comprehensive overview of all the dtypes used in our dataframe, as well its shape and other information, we should use the `DataFrame.info()` [method](https://pandas.pydata.org/pandas-docs/stable/reference/api/pandas.DataFrame.info.html). Remember that `DataFrame.info()` only prints the information, instead of returning it, so we can't assign it to a variable."
   ]
  },
  {
   "cell_type": "markdown",
   "metadata": {
    "application/vnd.databricks.v1+cell": {
     "cellMetadata": {
      "byteLimit": 2048000,
      "rowLimit": 10000
     },
     "inputWidgets": {},
     "nuid": "3be1d4ec-4cb0-4a20-afab-ace401ca1a4a",
     "showTitle": false,
     "title": ""
    }
   },
   "source": [
    "### Task 3.3.4:\n",
    "\n",
    "1. Use the `DataFrame.info()` method to display information about the `f500` dataframe."
   ]
  },
  {
   "cell_type": "code",
   "execution_count": 0,
   "metadata": {
    "application/vnd.databricks.v1+cell": {
     "cellMetadata": {
      "byteLimit": 2048000,
      "rowLimit": 10000
     },
     "inputWidgets": {},
     "nuid": "59c7a6ad-b0d5-48f2-ad28-481f84843d17",
     "showTitle": false,
     "title": ""
    }
   },
   "outputs": [],
   "source": [
    "# Start your code below:\n"
   ]
  },
  {
   "cell_type": "markdown",
   "metadata": {
    "application/vnd.databricks.v1+cell": {
     "cellMetadata": {
      "byteLimit": 2048000,
      "rowLimit": 10000
     },
     "inputWidgets": {},
     "nuid": "9b25e10a-2cc6-406c-8736-a09ed7eb756d",
     "showTitle": false,
     "title": ""
    }
   },
   "source": [
    "## 5. Selecting a Column From a DataFrame by Label (IMPORTANT)\n",
    "\n",
    "Do you know that our axes in pandas all have labels and we can select data using just those labels? The **DataFrame.loc[]** attribute is exactly the syntax designed for this purpose:\n",
    "\n",
    "````python\n",
    "df.loc[row_label, column_label]\n",
    "````"
   ]
  },
  {
   "cell_type": "markdown",
   "metadata": {
    "application/vnd.databricks.v1+cell": {
     "cellMetadata": {
      "byteLimit": 2048000,
      "rowLimit": 10000
     },
     "inputWidgets": {},
     "nuid": "2df1afa8-7aa8-4536-a143-ada7122acf68",
     "showTitle": false,
     "title": ""
    }
   },
   "source": [
    "Pay close attention that we use brackets ``[]`` instead of parentheses ``()`` when selecting by location.\n",
    "\n",
    "Now let's look at an example:"
   ]
  },
  {
   "cell_type": "code",
   "execution_count": 0,
   "metadata": {
    "application/vnd.databricks.v1+cell": {
     "cellMetadata": {
      "byteLimit": 2048000,
      "rowLimit": 10000
     },
     "inputWidgets": {},
     "nuid": "c26562d5-bd8a-4967-b112-38918e7e1a69",
     "showTitle": false,
     "title": ""
    }
   },
   "outputs": [],
   "source": [
    "f500.loc[:,\"rank\"]"
   ]
  },
  {
   "cell_type": "markdown",
   "metadata": {
    "application/vnd.databricks.v1+cell": {
     "cellMetadata": {
      "byteLimit": 2048000,
      "rowLimit": 10000
     },
     "inputWidgets": {},
     "nuid": "0c3fad6b-f16a-4ad3-832a-e930d721bb1a",
     "showTitle": false,
     "title": ""
    }
   },
   "source": [
    "Notice we used `:` to specify that all rows should be selected. And also pay attention that the new dataframe has the same row labels as the original.\n",
    "\n",
    "The following shortcut can also be used to select a single column:"
   ]
  },
  {
   "cell_type": "code",
   "execution_count": 0,
   "metadata": {
    "application/vnd.databricks.v1+cell": {
     "cellMetadata": {
      "byteLimit": 2048000,
      "rowLimit": 10000
     },
     "inputWidgets": {},
     "nuid": "afc6899f-1ae9-4fd7-be52-9530c805afa7",
     "showTitle": false,
     "title": ""
    }
   },
   "outputs": [],
   "source": [
    "rank_col = f500[\"rank\"]\n",
    "print(rank_col)"
   ]
  },
  {
   "cell_type": "markdown",
   "metadata": {
    "application/vnd.databricks.v1+cell": {
     "cellMetadata": {
      "byteLimit": 2048000,
      "rowLimit": 10000
     },
     "inputWidgets": {},
     "nuid": "957aef75-154c-4c17-92d9-773139529632",
     "showTitle": false,
     "title": ""
    }
   },
   "source": [
    "### Task 3.3.5:\n",
    "\n",
    "1. Select the `industry` column. Assign the result to the variable name `industries`.\n",
    "2. Use Python's `type()` function to assign the type of `industries` to `industries_type`."
   ]
  },
  {
   "cell_type": "code",
   "execution_count": 0,
   "metadata": {
    "application/vnd.databricks.v1+cell": {
     "cellMetadata": {
      "byteLimit": 2048000,
      "rowLimit": 10000
     },
     "inputWidgets": {},
     "nuid": "04e0eb82-3d36-4733-b79a-15d65d24fb03",
     "showTitle": false,
     "title": ""
    }
   },
   "outputs": [],
   "source": [
    "# Start your code below:\n"
   ]
  },
  {
   "cell_type": "markdown",
   "metadata": {
    "application/vnd.databricks.v1+cell": {
     "cellMetadata": {
      "byteLimit": 2048000,
      "rowLimit": 10000
     },
     "inputWidgets": {},
     "nuid": "7b9b2a4b-52a0-4256-a76a-b92502b73944",
     "showTitle": false,
     "title": ""
    }
   },
   "source": [
    "## 6. Selecting Columns From a DataFrame by Label Continued\n",
    "Below, we use a list of labels to select specific columns:"
   ]
  },
  {
   "cell_type": "code",
   "execution_count": 0,
   "metadata": {
    "application/vnd.databricks.v1+cell": {
     "cellMetadata": {
      "byteLimit": 2048000,
      "rowLimit": 10000
     },
     "inputWidgets": {},
     "nuid": "9adb98c5-8f39-4894-9c5d-8aeaa2dd592f",
     "showTitle": false,
     "title": ""
    }
   },
   "outputs": [],
   "source": [
    "f500.loc[:,[\"country\", \"rank\"]]"
   ]
  },
  {
   "cell_type": "code",
   "execution_count": 0,
   "metadata": {
    "application/vnd.databricks.v1+cell": {
     "cellMetadata": {
      "byteLimit": 2048000,
      "rowLimit": 10000
     },
     "inputWidgets": {},
     "nuid": "ab3f871f-8373-4cfe-ae6a-a131e467ee01",
     "showTitle": false,
     "title": ""
    }
   },
   "outputs": [],
   "source": [
    "f500[[\"country\",\"rank\"]]"
   ]
  },
  {
   "cell_type": "markdown",
   "metadata": {
    "application/vnd.databricks.v1+cell": {
     "cellMetadata": {
      "byteLimit": 2048000,
      "rowLimit": 10000
     },
     "inputWidgets": {},
     "nuid": "9a76784f-3dbe-4c90-afe7-600b646f90e2",
     "showTitle": false,
     "title": ""
    }
   },
   "source": [
    "The code `f500.loc[:,[\"country\", \"rank\"]]` and `f500[[\"country\",\"rank\"]]` eventually return us the same result. "
   ]
  },
  {
   "cell_type": "markdown",
   "metadata": {
    "application/vnd.databricks.v1+cell": {
     "cellMetadata": {
      "byteLimit": 2048000,
      "rowLimit": 10000
     },
     "inputWidgets": {},
     "nuid": "de7fa5e9-649f-40b8-ae8b-975edcf7ff4e",
     "showTitle": false,
     "title": ""
    }
   },
   "source": [
    "You see that the object returned is two-dimensional, we know it's a dataframe, not a series. So instead of `df.loc[:,[\"col1\",\"col2\"]]`, we can also use `df[[\"col1\", \"col2\"]]` to select specific columns.\n",
    "\n",
    "Last but not least, let's finish by using **a slice object with labels** to select specific columns:"
   ]
  },
  {
   "cell_type": "code",
   "execution_count": 0,
   "metadata": {
    "application/vnd.databricks.v1+cell": {
     "cellMetadata": {
      "byteLimit": 2048000,
      "rowLimit": 10000
     },
     "inputWidgets": {},
     "nuid": "44004bfa-c35d-4188-88e0-b7f23667d020",
     "showTitle": false,
     "title": ""
    }
   },
   "outputs": [],
   "source": [
    "f500.loc[:,\"rank\":\"profits\"]"
   ]
  },
  {
   "cell_type": "markdown",
   "metadata": {
    "application/vnd.databricks.v1+cell": {
     "cellMetadata": {
      "byteLimit": 2048000,
      "rowLimit": 10000
     },
     "inputWidgets": {},
     "nuid": "94310156-1320-44af-b81c-0f4f681dba3a",
     "showTitle": false,
     "title": ""
    }
   },
   "source": [
    "The result is again a dataframe object with all of the columns from the first up until the last column in our slice. Unfortunately, there is no shortcut for selecting column slices.\n",
    "\n",
    "See the table below for a short summary of techniques that we have just encountered:\n",
    "\n",
    "|Select by Label|Explicit Syntax|Common Shorthand|\n",
    "|--|--|--|\n",
    "|Single column|df.loc[:,\"col1\"]|df[\"col1\"]|\n",
    "|List of columns|df.loc[:,[\"col1\", \"col7\"]]|df[[\"col1\", \"col7\"]]|\n",
    "|Slice of columns|df.loc[:,\"col1\":\"col4\"]|"
   ]
  },
  {
   "cell_type": "markdown",
   "metadata": {
    "application/vnd.databricks.v1+cell": {
     "cellMetadata": {
      "byteLimit": 2048000,
      "rowLimit": 10000
     },
     "inputWidgets": {},
     "nuid": "252fa6fe-7f3b-4c51-b1a5-c0b2c7da60bd",
     "showTitle": false,
     "title": ""
    }
   },
   "source": [
    "### Task 3.3.6:\n",
    "\n",
    "1. Select the `country` column. Assign the result to the variable name `countries`.\n",
    "2. In order, select the `revenues` and `years_on_global_500_list` columns. Assign the result to the variable name `revenues_years`.\n",
    "3. In order, select all columns from `ceo` up to and including `sector`. Assign the result to the variable name `ceo_to_sector`."
   ]
  },
  {
   "cell_type": "code",
   "execution_count": 0,
   "metadata": {
    "application/vnd.databricks.v1+cell": {
     "cellMetadata": {
      "byteLimit": 2048000,
      "rowLimit": 10000
     },
     "inputWidgets": {},
     "nuid": "a0d7ddf6-c080-42df-87fc-4a32cb5d50d6",
     "showTitle": false,
     "title": ""
    }
   },
   "outputs": [],
   "source": [
    "# Start your code below:\n"
   ]
  },
  {
   "cell_type": "markdown",
   "metadata": {
    "application/vnd.databricks.v1+cell": {
     "cellMetadata": {
      "byteLimit": 2048000,
      "rowLimit": 10000
     },
     "inputWidgets": {},
     "nuid": "36a7fa16-5844-411c-a221-6602f345452e",
     "showTitle": false,
     "title": ""
    }
   },
   "source": [
    "## 7. Selecting Rows From a DataFrame by Label\n",
    "\n",
    "Now, let's learn how to use the labels of the index axis to select rows.\n",
    "\n",
    "We can use the same syntax to select rows from a dataframe as we already have done for columns:\n",
    "\n",
    "````python\n",
    "df.loc[row_label, column_label]\n",
    "````\n",
    "\n",
    "#### To select a single row:"
   ]
  },
  {
   "cell_type": "code",
   "execution_count": 0,
   "metadata": {
    "application/vnd.databricks.v1+cell": {
     "cellMetadata": {
      "byteLimit": 2048000,
      "rowLimit": 10000
     },
     "inputWidgets": {},
     "nuid": "c7402a43-6b29-4720-8412-93fb7a6b6cc6",
     "showTitle": false,
     "title": ""
    }
   },
   "outputs": [],
   "source": [
    "single_row = f500.loc[\"Sinopec Group\"]\n",
    "print(type(single_row))\n",
    "print(single_row)"
   ]
  },
  {
   "cell_type": "markdown",
   "metadata": {
    "application/vnd.databricks.v1+cell": {
     "cellMetadata": {
      "byteLimit": 2048000,
      "rowLimit": 10000
     },
     "inputWidgets": {},
     "nuid": "456565e3-ebc3-4fa4-a13c-fb9fdaa96de1",
     "showTitle": false,
     "title": ""
    }
   },
   "source": [
    "A **series** is returned because it is one-dimensional. \n",
    "> In short, ``series`` is a one-dimensional labeled array capable of holding data of any type (integer, string, float, python objects, etc.). \n",
    "There are many data types that may need to be stored in this series, like integer, float, and string values, so pandas uses the **object** dtype, since none of the numeric types could cater for all values.\n",
    "\n",
    "**To select a list of rows:**"
   ]
  },
  {
   "cell_type": "code",
   "execution_count": 0,
   "metadata": {
    "application/vnd.databricks.v1+cell": {
     "cellMetadata": {
      "byteLimit": 2048000,
      "rowLimit": 10000
     },
     "inputWidgets": {},
     "nuid": "7b7f5aae-8af5-4fc4-a097-3e2bb31d8a23",
     "showTitle": false,
     "title": ""
    }
   },
   "outputs": [],
   "source": [
    "list_rows = f500.loc[[\"Toyota Motor\", \"Walmart\"]]\n",
    "print(type(list_rows))\n",
    "print(list_rows)"
   ]
  },
  {
   "cell_type": "markdown",
   "metadata": {
    "application/vnd.databricks.v1+cell": {
     "cellMetadata": {
      "byteLimit": 2048000,
      "rowLimit": 10000
     },
     "inputWidgets": {},
     "nuid": "afa42f57-acfc-4c31-a5de-5893d11c4085",
     "showTitle": false,
     "title": ""
    }
   },
   "source": [
    "**To select a slice object with labels:**\n",
    "\n",
    "For selection using slices, a shortcut can be used like below. This is the reason we can't use this shortcut for columns – because it's reserved for use with rows:"
   ]
  },
  {
   "cell_type": "code",
   "execution_count": 0,
   "metadata": {
    "application/vnd.databricks.v1+cell": {
     "cellMetadata": {
      "byteLimit": 2048000,
      "rowLimit": 10000
     },
     "inputWidgets": {},
     "nuid": "aafe8a6e-24d2-4c42-8062-7d7bba9ea6c0",
     "showTitle": false,
     "title": ""
    }
   },
   "outputs": [],
   "source": [
    "slice_rows = f500[\"State Grid\":\"Toyota Motor\"]\n",
    "print(type(slice_rows))\n",
    "print(slice_rows)"
   ]
  },
  {
   "cell_type": "markdown",
   "metadata": {
    "application/vnd.databricks.v1+cell": {
     "cellMetadata": {
      "byteLimit": 2048000,
      "rowLimit": 10000
     },
     "inputWidgets": {},
     "nuid": "8a250c02-aeeb-4812-a21b-36bcb7f7d6d2",
     "showTitle": false,
     "title": ""
    }
   },
   "source": [
    "### Task 3.3.7: \n",
    "\n",
    "By selecting data from `f500`:\n",
    "1. Create a new variable `toyota`, with:\n",
    "    - Just the row with index `Toyota Motor`.\n",
    "    - All columns.\n",
    "2. Create a new variable, `drink_companies`, with:\n",
    "    - Rows with indicies `Anheuser-Busch InBev, Coca-Cola, and Heineken Holding`, in that order.\n",
    "    - All columns.\n",
    "3. Create a new variable, `middle_companies` with:\n",
    "    - All rows with indicies from `Tata Motors` to `Nationwide`, inclusive.\n",
    "    - All columns from `rank` to `country`, inclusive."
   ]
  },
  {
   "cell_type": "code",
   "execution_count": 0,
   "metadata": {
    "application/vnd.databricks.v1+cell": {
     "cellMetadata": {
      "byteLimit": 2048000,
      "rowLimit": 10000
     },
     "inputWidgets": {},
     "nuid": "acc863d2-a2ff-43a1-9f1c-7e131f58fce6",
     "showTitle": false,
     "title": ""
    }
   },
   "outputs": [],
   "source": [
    "# Start your code below:\n"
   ]
  },
  {
   "cell_type": "markdown",
   "metadata": {
    "application/vnd.databricks.v1+cell": {
     "cellMetadata": {
      "byteLimit": 2048000,
      "rowLimit": 10000
     },
     "inputWidgets": {},
     "nuid": "1f033dae-e04d-421f-ac30-da190c6bd1c8",
     "showTitle": false,
     "title": ""
    }
   },
   "source": [
    "## 8. Value Counts Method\n",
    "\n",
    "We understand that **series** and **dataframes** are two distinct objects. They each have their own unique methods. In this section we are going to look at an example of a method, which returns different results for each of the objects.\n",
    "\n",
    "First, let's select just one column from the ``f500`` dataframe:"
   ]
  },
  {
   "cell_type": "code",
   "execution_count": 0,
   "metadata": {
    "application/vnd.databricks.v1+cell": {
     "cellMetadata": {
      "byteLimit": 2048000,
      "rowLimit": 10000
     },
     "inputWidgets": {},
     "nuid": "d91a7627-0a8c-48ce-9006-d38325eb8dee",
     "showTitle": false,
     "title": ""
    }
   },
   "outputs": [],
   "source": [
    "sectors = f500[\"sector\"]\n",
    "print(type(sectors))"
   ]
  },
  {
   "cell_type": "markdown",
   "metadata": {
    "application/vnd.databricks.v1+cell": {
     "cellMetadata": {
      "byteLimit": 2048000,
      "rowLimit": 10000
     },
     "inputWidgets": {},
     "nuid": "3af621e3-3340-44dd-8307-aa4f2065680d",
     "showTitle": false,
     "title": ""
    }
   },
   "source": [
    "Now, we want to substitute ``Series`` in `Series.value_counts()` with the name of our `sectors` series, like this:"
   ]
  },
  {
   "cell_type": "code",
   "execution_count": 0,
   "metadata": {
    "application/vnd.databricks.v1+cell": {
     "cellMetadata": {
      "byteLimit": 2048000,
      "rowLimit": 10000
     },
     "inputWidgets": {},
     "nuid": "a8e2551c-438d-4523-bb19-e9352a3ac6ba",
     "showTitle": false,
     "title": ""
    }
   },
   "outputs": [],
   "source": [
    "sectors_value_counts = sectors.value_counts()\n",
    "print(sectors_value_counts)"
   ]
  },
  {
   "cell_type": "markdown",
   "metadata": {
    "application/vnd.databricks.v1+cell": {
     "cellMetadata": {
      "byteLimit": 2048000,
      "rowLimit": 10000
     },
     "inputWidgets": {},
     "nuid": "86fc0d16-2aa2-4108-8794-8da150233aad",
     "showTitle": false,
     "title": ""
    }
   },
   "source": [
    "You see that each unique non-null value is being counted and listed in the output above.\n",
    "\n",
    "Well, what happens when we use the `Series.value_counts()` method with a dataframe? First step, we should select the `sector` and `industry` columns to create a dataframe named `sectors_industries`, like this:"
   ]
  },
  {
   "cell_type": "code",
   "execution_count": 0,
   "metadata": {
    "application/vnd.databricks.v1+cell": {
     "cellMetadata": {
      "byteLimit": 2048000,
      "rowLimit": 10000
     },
     "inputWidgets": {},
     "nuid": "c33c4b89-3175-4503-9b26-9345bec4b655",
     "showTitle": false,
     "title": ""
    }
   },
   "outputs": [],
   "source": [
    "sectors_industries = f500[[\"sector\", \"industry\"]]\n",
    "print(type(sectors_industries))"
   ]
  },
  {
   "cell_type": "markdown",
   "metadata": {
    "application/vnd.databricks.v1+cell": {
     "cellMetadata": {
      "byteLimit": 2048000,
      "rowLimit": 10000
     },
     "inputWidgets": {},
     "nuid": "687853ff-a473-4eaa-b31f-6a719472dc5f",
     "showTitle": false,
     "title": ""
    }
   },
   "source": [
    "Then, we'll use the `value_counts()` method:"
   ]
  },
  {
   "cell_type": "code",
   "execution_count": 0,
   "metadata": {
    "application/vnd.databricks.v1+cell": {
     "cellMetadata": {
      "byteLimit": 2048000,
      "rowLimit": 10000
     },
     "inputWidgets": {},
     "nuid": "3189f420-f81b-4bd7-a39a-6d2611885105",
     "showTitle": false,
     "title": ""
    }
   },
   "outputs": [],
   "source": [
    "si_value_counts = sectors_industries.value_counts()\n",
    "print(si_value_counts)"
   ]
  },
  {
   "cell_type": "markdown",
   "metadata": {
    "application/vnd.databricks.v1+cell": {
     "cellMetadata": {
      "byteLimit": 2048000,
      "rowLimit": 10000
     },
     "inputWidgets": {},
     "nuid": "00c31ef9-dd62-4527-9c4c-85e5527103bb",
     "showTitle": false,
     "title": ""
    }
   },
   "source": [
    "We see that we for a dataframe the occurences of unique combinations of values in the columns are counted. This goes to show that while the methods have the same name for both objects, the result might be different. If you are unsure what the result of a method is be sure to look it up in the documentation."
   ]
  },
  {
   "cell_type": "markdown",
   "metadata": {
    "application/vnd.databricks.v1+cell": {
     "cellMetadata": {},
     "inputWidgets": {},
     "nuid": "75e64880-3449-444e-8132-b4da54651620",
     "showTitle": false,
     "title": ""
    }
   },
   "source": [
    "In general, it is not guaranteed that a method exists for both objects. \n",
    "For example, the  method ``unique()`` only exists for series objects.\n",
    "If we try to use it with a dataframe an Error is thrown."
   ]
  },
  {
   "cell_type": "code",
   "execution_count": 0,
   "metadata": {
    "application/vnd.databricks.v1+cell": {
     "cellMetadata": {
      "byteLimit": 2048000,
      "rowLimit": 10000
     },
     "inputWidgets": {},
     "nuid": "1cb6caf2-b91e-4934-8844-30f5efc9dfa1",
     "showTitle": false,
     "title": ""
    }
   },
   "outputs": [],
   "source": [
    "sectors.unique()"
   ]
  },
  {
   "cell_type": "code",
   "execution_count": 0,
   "metadata": {
    "application/vnd.databricks.v1+cell": {
     "cellMetadata": {
      "byteLimit": 2048000,
      "rowLimit": 10000
     },
     "inputWidgets": {},
     "nuid": "a5f80185-30dd-4ac5-8415-aa2a99e16794",
     "showTitle": false,
     "title": ""
    }
   },
   "outputs": [],
   "source": [
    "sectors_industries.unique()"
   ]
  },
  {
   "cell_type": "markdown",
   "metadata": {
    "application/vnd.databricks.v1+cell": {
     "cellMetadata": {
      "byteLimit": 2048000,
      "rowLimit": 10000
     },
     "inputWidgets": {},
     "nuid": "d71d6520-dc50-4fa6-8433-21239bf4f6ee",
     "showTitle": false,
     "title": ""
    }
   },
   "source": [
    "### Task 3.3.8\n",
    "\n",
    "1. Find the counts of each unique value in the `country` column in the `f500` dataframe.\n",
    "    - Select the `country` column in the `f500` dataframe. Assign it to a variable named `countries*`\n",
    "    - Use the `Series.value_counts()` method to return the value counts for `countries`. Assign the results to `country_counts`."
   ]
  },
  {
   "cell_type": "code",
   "execution_count": 0,
   "metadata": {
    "application/vnd.databricks.v1+cell": {
     "cellMetadata": {
      "byteLimit": 2048000,
      "rowLimit": 10000
     },
     "inputWidgets": {},
     "nuid": "62243007-27de-49ac-abf1-7ae13fb60dff",
     "showTitle": false,
     "title": ""
    }
   },
   "outputs": [],
   "source": [
    "# Start your code below:\n"
   ]
  },
  {
   "cell_type": "markdown",
   "metadata": {
    "application/vnd.databricks.v1+cell": {
     "cellMetadata": {
      "byteLimit": 2048000,
      "rowLimit": 10000
     },
     "inputWidgets": {},
     "nuid": "d705d050-fdda-4dc6-8bcc-10d59e8a5b55",
     "showTitle": false,
     "title": ""
    }
   },
   "source": [
    "## Summary\n",
    "\n",
    "Below is a summary table of all the different label selection we have learned so far:\n",
    "\n",
    "|Select by Label|Explicit Syntax|Shorthand Convention|\n",
    "|-------------|-----------|---------------|\n",
    "|Single column from dataframe|df.loc[:,\"col1\"]|df[\"col1\"]|\n",
    "|List of columns from dataframe|df.loc[:,\"col1\",\"col7\"]|df[\"col1\",\"col7\"]|\n",
    "|Single column from dataframe|df.loc[:,\"col1\":\"col4\"]| |\n",
    "|Single row from dataframe| df.loc[\"row4\"]|   |\n",
    "|List of rows from dataframe |df.loc[\"row1\",\"row8\"]]|  |\n",
    "|Slice of rows from dataframe|df.loc[\"row3\":\"row5\"]| df[\"row3\":\"row5\"]|\n",
    "|Single item from series|s.loc[\"item8\"]|s[\"item8\"]|\n",
    "|List of items from series|s.loc[[\"item1\", \"item7\"]]|s[[\"item1\",\"item7\"]]|\n",
    "|Slice of items from series|s.loc[\"item2\":\"item4\"] |s[\"item2\":\"item4\"]|"
   ]
  }
 ],
 "metadata": {
  "application/vnd.databricks.v1+notebook": {
   "dashboards": [],
   "language": "python",
   "notebookMetadata": {
    "pythonIndentUnit": 4
   },
   "notebookName": "3_Intro_to_Pandas",
   "widgets": {}
  }
 },
 "nbformat": 4,
 "nbformat_minor": 0
}
