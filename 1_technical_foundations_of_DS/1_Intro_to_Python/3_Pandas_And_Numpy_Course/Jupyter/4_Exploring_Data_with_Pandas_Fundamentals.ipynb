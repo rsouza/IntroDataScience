{
 "cells": [
  {
   "cell_type": "markdown",
   "metadata": {
    "application/vnd.databricks.v1+cell": {
     "cellMetadata": {},
     "inputWidgets": {},
     "nuid": "b111c409-7562-4e6c-bb75-4ccf9f95d990",
     "showTitle": false,
     "title": ""
    }
   },
   "source": [
    "# About This Notebook\n",
    "In this **Exploring Data with Pandas: Fundamentals** chapter, we will learn:\n",
    "- How to select data from pandas objects using boolean arrays.\n",
    "- How to assign data using labels and boolean arrays.\n",
    "- How to create new rows and columns in pandas.\n",
    "\n",
    "****\n",
    "## 1. Introduction to the Data\n",
    "\n",
    "We learned the basics of the pandas library in the previous chapter and explored some dataframes using the techniques we have learned. Just to refresh your memory:\n",
    "> Axis values in dataframes can have **string labels**, not just numeric ones, which makes selecting data much easier.\n",
    "\n",
    "> Dataframes have the ability to contain columns with **multiple data types**: such as integer, float, and string.\n",
    "\n",
    "In this chapter, we'll learn some other ways working with data using pandas.\n",
    "\n",
    "This time, we will continue working with a data set from Fortune magazine's Global 500 list 2017.\n",
    "\n",
    "Here is a data dictionary for some of the columns in the CSV:\n",
    "\n",
    "- **company**: Name of the company.\n",
    "- **rank**: Global 500 rank for the company.\n",
    "- **revenues**: Company's total revenue for the fiscal year, in millions of dollars (USD).\n",
    "- **revenue_change**: Percentage change in revenue between the current and prior fiscal year.\n",
    "- **profits**: Net income for the fiscal year, in millions of dollars (USD).\n",
    "- **ceo**: Company's Chief Executive Officer.\n",
    "- **industry**: Industry in which the company operates.\n",
    "- **sector**: Sector in which the company operates.\n",
    "- **previous_rank**: Global 500 rank for the company for the prior year.\n",
    "- **country**: Country in which the company is headquartered.\n",
    "- **hq_location**: City and Country, (or City and State for the USA) where the company is headquartered.\n",
    "- **employees**: Total employees (full-time equivalent, if available) at fiscal year-end."
   ]
  },
  {
   "cell_type": "code",
   "execution_count": 0,
   "metadata": {
    "application/vnd.databricks.v1+cell": {
     "cellMetadata": {},
     "inputWidgets": {},
     "nuid": "5bd1ccc9-341e-441f-af05-c527334b0710",
     "showTitle": false,
     "title": ""
    }
   },
   "outputs": [],
   "source": [
    "import pandas as pd\n",
    "import numpy as np\n",
    "\n",
    "f500 = pd.read_csv('f500.csv',index_col=0)"
   ]
  },
  {
   "cell_type": "markdown",
   "metadata": {
    "application/vnd.databricks.v1+cell": {
     "cellMetadata": {},
     "inputWidgets": {},
     "nuid": "8114598a-6665-4854-bda8-80ab891286c9",
     "showTitle": false,
     "title": ""
    }
   },
   "source": [
    "### Task 3.4.1:\n",
    "Now I have already read the dataset into a pandas dataframe and assigned it to a variable named ``f500``.\n",
    "\n",
    "1. Use the ``DataFrame.head()`` method to select the first 10 rows in ``f500``. Assign the result to ``f500_head``.\n",
    "2. Use the ``DataFrame.info()`` method to display information about the dataframe."
   ]
  },
  {
   "cell_type": "code",
   "execution_count": 0,
   "metadata": {
    "application/vnd.databricks.v1+cell": {
     "cellMetadata": {},
     "inputWidgets": {},
     "nuid": "cc51a8c0-a4fd-4b3a-acc3-75541ea1f54f",
     "showTitle": false,
     "title": ""
    }
   },
   "outputs": [],
   "source": [
    "# Start your code here:\n"
   ]
  },
  {
   "cell_type": "markdown",
   "metadata": {
    "application/vnd.databricks.v1+cell": {
     "cellMetadata": {},
     "inputWidgets": {},
     "nuid": "0c8e278e-f84e-416d-a832-20b18b76929b",
     "showTitle": false,
     "title": ""
    }
   },
   "source": [
    "## 2. Vectorized Operations\n",
    "\n",
    "Do you remember vectorized operations which we encountered in the NumPy library? Vectorized operations enable operations applied to multiple data points at once, which does not only improve our code's performance, but also enables us to write code more quickly.\n",
    "\n",
    "Since pandas is an extension of NumPy, it also supports vectorized operations. Just like with NumPy, we can use any of the standard Python numeric operators with series, including:\n",
    "\n",
    "\n",
    "- **Addition**: `vector_a + vector_b`\n",
    "- **Subtraction**: `vector_a - vector_b`\n",
    "- **Multiplication**: (unrelated to the vector multiplication in linear algebra): `vector_a * vector_b`\n",
    "- **Division**: `vecotr_a / vector_b`\n",
    "\n",
    "\n",
    "### Task 3.4.2: \n",
    "1. Subtract the values in the `rank` column from the values in the ``previous_rank`` column. Assign the result to a variable ``rank_change``."
   ]
  },
  {
   "cell_type": "code",
   "execution_count": 0,
   "metadata": {
    "application/vnd.databricks.v1+cell": {
     "cellMetadata": {},
     "inputWidgets": {},
     "nuid": "d6b74765-305d-4149-a24e-2be92983aaa5",
     "showTitle": false,
     "title": ""
    }
   },
   "outputs": [],
   "source": [
    "# Start your code below:\n"
   ]
  },
  {
   "cell_type": "markdown",
   "metadata": {
    "application/vnd.databricks.v1+cell": {
     "cellMetadata": {},
     "inputWidgets": {},
     "nuid": "09d18c64-21f1-45e9-a779-4b40ff349861",
     "showTitle": false,
     "title": ""
    }
   },
   "source": [
    "## 3. Series Data Exploration Methods\n",
    "\n",
    "Just as NumPy, pandas supports many descriptive ``stats`` methods like the following:\n",
    "- `Series.max()`\n",
    "- `Series.min()`\n",
    "- `Series.mean()`\n",
    "- `Series.median()`\n",
    "- `Series.mode()`\n",
    "- `Series.sum()`\n",
    "\n",
    "Look at how you can use the stats methods below:"
   ]
  },
  {
   "cell_type": "markdown",
   "metadata": {
    "application/vnd.databricks.v1+cell": {
     "cellMetadata": {},
     "inputWidgets": {},
     "nuid": "0a3a9d18-4487-4068-a367-a839b501d33c",
     "showTitle": false,
     "title": ""
    }
   },
   "source": [
    "````python\n",
    "print(my_series)\n",
    "````"
   ]
  },
  {
   "cell_type": "markdown",
   "metadata": {
    "application/vnd.databricks.v1+cell": {
     "cellMetadata": {},
     "inputWidgets": {},
     "nuid": "a166868d-d8b9-4f60-a526-e2a4dc55cf17",
     "showTitle": false,
     "title": ""
    }
   },
   "source": [
    "Output:\n",
    "````python\n",
    "0    1\n",
    "1    2\n",
    "2    3\n",
    "3    4\n",
    "4    5\n",
    "dtype: int64\n",
    "````"
   ]
  },
  {
   "cell_type": "markdown",
   "metadata": {
    "application/vnd.databricks.v1+cell": {
     "cellMetadata": {},
     "inputWidgets": {},
     "nuid": "22c3f0d7-dedd-4a78-9f3e-ec6b3e46b773",
     "showTitle": false,
     "title": ""
    }
   },
   "source": [
    "````python\n",
    "print(my_series.sum())\n",
    "````"
   ]
  },
  {
   "cell_type": "markdown",
   "metadata": {
    "application/vnd.databricks.v1+cell": {
     "cellMetadata": {},
     "inputWidgets": {},
     "nuid": "07ccdf6c-7598-4e00-a960-1bd59897fbe9",
     "showTitle": false,
     "title": ""
    }
   },
   "source": [
    "Output:\n",
    "````python\n",
    "15\n",
    "````"
   ]
  },
  {
   "cell_type": "markdown",
   "metadata": {
    "application/vnd.databricks.v1+cell": {
     "cellMetadata": {},
     "inputWidgets": {},
     "nuid": "1c9af9cf-255e-4b51-8d42-8b46b2576286",
     "showTitle": false,
     "title": ""
    }
   },
   "source": [
    "### Task 3.4.3:\n",
    "1. Use the `Series.max()` method to find the maximum value for the `rank_change` series. Assign the result to the variable `rank_change_max`.\n",
    "2. Use the `Series.min()` method to find the minimum value for the `rank_change` series. Assign the result to the variable `rank_change_min`."
   ]
  },
  {
   "cell_type": "code",
   "execution_count": 0,
   "metadata": {
    "application/vnd.databricks.v1+cell": {
     "cellMetadata": {},
     "inputWidgets": {},
     "nuid": "13571fe6-cbb2-4cd6-95ca-8ca885c324dc",
     "showTitle": false,
     "title": ""
    }
   },
   "outputs": [],
   "source": [
    "# Start your code below:\n"
   ]
  },
  {
   "cell_type": "markdown",
   "metadata": {
    "application/vnd.databricks.v1+cell": {
     "cellMetadata": {},
     "inputWidgets": {},
     "nuid": "2b80ba0a-dd8c-44af-ad9e-e59cb5b26809",
     "showTitle": false,
     "title": ""
    }
   },
   "source": [
    "## 4. Series Describe Method\n",
    "\n",
    "In this session, we will learn another method called `Series.describe` This [method](https://pandas.pydata.org/pandas-docs/stable/reference/api/pandas.Series.describe.html) shows us various information such as how many non-null values are contained in the series, the average, minimum, maximum, and other statistics.\n",
    "\n",
    "Let's see how we can use this method:"
   ]
  },
  {
   "cell_type": "code",
   "execution_count": 0,
   "metadata": {
    "application/vnd.databricks.v1+cell": {
     "cellMetadata": {},
     "inputWidgets": {},
     "nuid": "c0f5005d-8f84-497c-bb45-cb9882e3e12d",
     "showTitle": false,
     "title": ""
    }
   },
   "outputs": [],
   "source": [
    "assets = f500[\"assets\"]\n",
    "print(assets.describe())"
   ]
  },
  {
   "cell_type": "markdown",
   "metadata": {
    "application/vnd.databricks.v1+cell": {
     "cellMetadata": {},
     "inputWidgets": {},
     "nuid": "d5c78bda-ad2f-4fd7-9f8f-f57e62944c3f",
     "showTitle": false,
     "title": ""
    }
   },
   "source": [
    "You can see that the values in the code segment above are displayed in <b>E-notation</b>, a type of [scientific notation](https://en.wikipedia.org/wiki/Scientific_notation).\n",
    "\n",
    "When we use `describe()` on a column which contains non-numeric values, we will get some different statistics, like the following example shows:"
   ]
  },
  {
   "cell_type": "code",
   "execution_count": 0,
   "metadata": {
    "application/vnd.databricks.v1+cell": {
     "cellMetadata": {},
     "inputWidgets": {},
     "nuid": "5190d104-0be5-4d55-8565-f71cc9415eeb",
     "showTitle": false,
     "title": ""
    }
   },
   "outputs": [],
   "source": [
    "country = f500[\"country\"]\n",
    "print(country.describe())"
   ]
  },
  {
   "cell_type": "markdown",
   "metadata": {
    "application/vnd.databricks.v1+cell": {
     "cellMetadata": {},
     "inputWidgets": {},
     "nuid": "be425260-6a54-4f70-b46c-5de53435f304",
     "showTitle": false,
     "title": ""
    }
   },
   "source": [
    "The first line of information, `count`, is the same as for numeric columns, showing us the number of non-null values. The other three statistics are described below:\n",
    "\n",
    "- ``unique``: Number of unique values in the series.\n",
    "- ``top``: Most common value in the series.\n",
    "- ``freq``: Frequency of the most common value. "
   ]
  },
  {
   "cell_type": "markdown",
   "metadata": {
    "application/vnd.databricks.v1+cell": {
     "cellMetadata": {},
     "inputWidgets": {},
     "nuid": "305f38af-c074-4a93-97d5-c43a3b79a363",
     "showTitle": false,
     "title": ""
    }
   },
   "source": [
    "### Task 3.4.4\n",
    "1. Return a series of descriptive statistics for the rank column in ``f500``.\n",
    "    - Select the rank column. Assign it to a variable named ``rank``.\n",
    "    - Use the ``Series.describe()`` method to return a series of statistics for rank. Assign the result to ``rank_desc``.\n",
    "2. Return a series of descriptive statistics for the `previous_rank` column in `f500`.\n",
    "    - Select the ``previous_rank`` column. Assign it to a variable named ``prev_rank``.\n",
    "    - Use the ``Series.describe()`` method to return a series of statistics for ``prev_rank``. Assign the result to ``prev_rank_desc``."
   ]
  },
  {
   "cell_type": "code",
   "execution_count": 0,
   "metadata": {
    "application/vnd.databricks.v1+cell": {
     "cellMetadata": {},
     "inputWidgets": {},
     "nuid": "deb5a713-2d37-43a9-a8d0-1bdcdba29077",
     "showTitle": false,
     "title": ""
    }
   },
   "outputs": [],
   "source": [
    "# Start your code below:\n"
   ]
  },
  {
   "cell_type": "markdown",
   "metadata": {
    "application/vnd.databricks.v1+cell": {
     "cellMetadata": {},
     "inputWidgets": {},
     "nuid": "91f58c0d-e686-4558-876c-0e1760a55291",
     "showTitle": false,
     "title": ""
    }
   },
   "source": [
    "## 5. Method Chaining (IMPORTANT)\n",
    "\n",
    "Method chaining is a common syntax for invoking multiple method calls in object-oriented programming languages. Each method returns an object, allowing the calls to be chained together in a single statement without requiring variables to store the intermediate results ([Wikipedia](https://en.wikipedia.org/wiki/Method_chaining)).\n",
    "\n",
    "We have actually used a couple of method chainings before in our previous examples."
   ]
  },
  {
   "cell_type": "markdown",
   "metadata": {
    "application/vnd.databricks.v1+cell": {
     "cellMetadata": {},
     "inputWidgets": {},
     "nuid": "9e44c348-a105-4930-afd1-3792cf20e522",
     "showTitle": false,
     "title": ""
    }
   },
   "source": [
    "\n",
    "#### Without method chaining\n",
    "````python\n",
    "countries = f500[\"country\"]\n",
    "countries_counts = countries.value_counts()\n",
    "````"
   ]
  },
  {
   "cell_type": "markdown",
   "metadata": {
    "application/vnd.databricks.v1+cell": {
     "cellMetadata": {},
     "inputWidgets": {},
     "nuid": "e02e7427-5cc6-49be-94c7-f612b587a5c3",
     "showTitle": false,
     "title": ""
    }
   },
   "source": [
    "#### With method chaining\n",
    "````python\n",
    "countries_counts = f500[\"country\"].value_counts() \n",
    "````"
   ]
  },
  {
   "cell_type": "markdown",
   "metadata": {
    "application/vnd.databricks.v1+cell": {
     "cellMetadata": {},
     "inputWidgets": {},
     "nuid": "7fe49df9-6428-42ad-ab3c-3fa41a16b120",
     "showTitle": false,
     "title": ""
    }
   },
   "source": [
    "From now on, we'll try to use more and more method chaining in the code. When writing code, always assess whether method chaining will make your code harder to read. If it does, it's always preferable to break the code into more than one line.\n",
    "\n",
    "### Task 3.4.5\n",
    "1. Use `Series.value_counts()` and `Series.loc` to return the number of companies with a value of `0` of the `previous_rank` column in the `f500` dataframe. Assign the results to `zero_previous_rank`."
   ]
  },
  {
   "cell_type": "code",
   "execution_count": 0,
   "metadata": {
    "application/vnd.databricks.v1+cell": {
     "cellMetadata": {},
     "inputWidgets": {},
     "nuid": "71e0f8c4-dc04-4d6e-8ac5-e06f3502291a",
     "showTitle": false,
     "title": ""
    }
   },
   "outputs": [],
   "source": [
    "# Start your code below:\n"
   ]
  },
  {
   "cell_type": "markdown",
   "metadata": {
    "application/vnd.databricks.v1+cell": {
     "cellMetadata": {},
     "inputWidgets": {},
     "nuid": "a3593539-bee9-43b7-a9d1-eb88d483acee",
     "showTitle": false,
     "title": ""
    }
   },
   "source": [
    "## 6. Dataframe Exploration Methods\n",
    "\n",
    "Since series and dataframes are two distinct objects, they have their own unique methods. However, they also have methods with the same name that behave in a similar manner. Find some examples below:\n",
    "\n",
    "- `Series.max()` and `DataFrame.max()`\n",
    "- `Series.min()` and `DataFrame.min()`\n",
    "- `Series.mean()` and `DataFrame.mean()`\n",
    "- `Series.median()` and `DataFrame.median()`\n",
    "- `Series.mode()` and `DataFrame.mode()`\n",
    "- `Series.sum()` and `DataFrame.sum()`\n",
    "\n",
    "> In contrast to series, dataframe methods require an axis parameter in order to know which axis to calculate across. You can use integers to refer to the first and second axis. Pandas dataframe methods also accept the strings ``index`` and ``columns`` for the axis parameter:"
   ]
  },
  {
   "cell_type": "markdown",
   "metadata": {
    "application/vnd.databricks.v1+cell": {
     "cellMetadata": {},
     "inputWidgets": {},
     "nuid": "1642e577-e123-4b0e-a86c-7ba1ca648232",
     "showTitle": false,
     "title": ""
    }
   },
   "source": [
    "````python\n",
    "# When we try to calculate along the row axis\n",
    "DataFrame.method(axis = 0)\n",
    "# or \n",
    "Dataframe.method(axis = \"index\")\n",
    "````"
   ]
  },
  {
   "cell_type": "markdown",
   "metadata": {
    "application/vnd.databricks.v1+cell": {
     "cellMetadata": {},
     "inputWidgets": {},
     "nuid": "9d6727db-9683-4d6a-960f-5eebc083f09d",
     "showTitle": false,
     "title": ""
    }
   },
   "source": [
    "````python\n",
    "# When we try to calculate along the column axis\n",
    "DataFrame.method(axis = 1)\n",
    "# or \n",
    "Dataframe.method(axis = \"column\")\n",
    "````"
   ]
  },
  {
   "cell_type": "markdown",
   "metadata": {
    "application/vnd.databricks.v1+cell": {
     "cellMetadata": {},
     "inputWidgets": {},
     "nuid": "c42e6c0a-3187-4558-884d-7f384cf297d6",
     "showTitle": false,
     "title": ""
    }
   },
   "source": [
    "For a more concrete example, if we want to find the median for the **revenues** and **profits** columns in our data set, we can do the following:"
   ]
  },
  {
   "cell_type": "code",
   "execution_count": 0,
   "metadata": {
    "application/vnd.databricks.v1+cell": {
     "cellMetadata": {},
     "inputWidgets": {},
     "nuid": "01f3141a-39e6-49b2-9a2b-2bb8462f0ae9",
     "showTitle": false,
     "title": ""
    }
   },
   "outputs": [],
   "source": [
    "medians = f500[[\"revenues\", \"profits\"]].median(axis=0)\n",
    "# we could also use .median(axis=\"index\")\n",
    "print(medians)"
   ]
  },
  {
   "cell_type": "markdown",
   "metadata": {
    "application/vnd.databricks.v1+cell": {
     "cellMetadata": {},
     "inputWidgets": {},
     "nuid": "02f7a6d2-0589-4772-9ae6-460ebea62e99",
     "showTitle": false,
     "title": ""
    }
   },
   "source": [
    "### Task 3.4.6\n",
    "\n",
    "Now, it's your time to shine!\n",
    "1. Use the `DataFrame.max()` method to find the maximum value for only the numeric columns from `f500` (you may need to check the documentation). Assign the result to the variable `max_f500`."
   ]
  },
  {
   "cell_type": "code",
   "execution_count": 0,
   "metadata": {
    "application/vnd.databricks.v1+cell": {
     "cellMetadata": {},
     "inputWidgets": {},
     "nuid": "9e90d76d-d801-420e-a869-6bafd33b29a7",
     "showTitle": false,
     "title": ""
    }
   },
   "outputs": [],
   "source": [
    "# Start your code below:\n"
   ]
  },
  {
   "cell_type": "markdown",
   "metadata": {
    "application/vnd.databricks.v1+cell": {
     "cellMetadata": {},
     "inputWidgets": {},
     "nuid": "db2188dd-c629-4087-8b83-7c108b0c6652",
     "showTitle": false,
     "title": ""
    }
   },
   "source": [
    "## 7. Dataframe Describe Method\n",
    "\n",
    "Try to see how we can use `DataFrame.max()` method below:"
   ]
  },
  {
   "cell_type": "code",
   "execution_count": 0,
   "metadata": {
    "application/vnd.databricks.v1+cell": {
     "cellMetadata": {},
     "inputWidgets": {},
     "nuid": "7219b75c-2284-40a3-990f-3ebfee8e702d",
     "showTitle": false,
     "title": ""
    }
   },
   "outputs": [],
   "source": [
    "f500.max(numeric_only=True)"
   ]
  },
  {
   "cell_type": "markdown",
   "metadata": {
    "application/vnd.databricks.v1+cell": {
     "cellMetadata": {},
     "inputWidgets": {},
     "nuid": "4df449f5-34a9-4ce8-9f58-f73856be922e",
     "showTitle": false,
     "title": ""
    }
   },
   "source": [
    "Like series objects, there is also a `DataFrame.describe()` method that we can use to explore the dataframe more efficiently. Take a look at the `DataFrame.describe()` documentation [here](https://pandas.pydata.org/pandas-docs/stable/reference/api/pandas.DataFrame.describe.html).\n",
    "\n",
    "There are a couple of differences between the `Series.describe()` method and `DataFrame.describe()` method. For example, the `Series.describe()` method returns a series object, the `DataFrame.describe()` method returns a dataframe object.\n",
    "\n",
    "### Task 3.4.7\n",
    "\n",
    "Now let's have some practice with the `DataFrame.describe()` method that we just learned.\n",
    "1. Return a dataframe of descriptive statistics for all of the numeric columns in `f500`. Assign the result to `f500_desc`."
   ]
  },
  {
   "cell_type": "code",
   "execution_count": 0,
   "metadata": {
    "application/vnd.databricks.v1+cell": {
     "cellMetadata": {},
     "inputWidgets": {},
     "nuid": "cc2a29bf-e91a-4698-8ddf-e6d5177470ac",
     "showTitle": false,
     "title": ""
    }
   },
   "outputs": [],
   "source": [
    "# Start your code below:\n"
   ]
  },
  {
   "cell_type": "markdown",
   "metadata": {
    "application/vnd.databricks.v1+cell": {
     "cellMetadata": {},
     "inputWidgets": {},
     "nuid": "a0c9eb92-45b0-40b6-b710-08931a7fa6b0",
     "showTitle": false,
     "title": ""
    }
   },
   "source": [
    "## 8. Assignment with pandas\n",
    "\n",
    "Let's start by learning assignment, starting with the following example:"
   ]
  },
  {
   "cell_type": "code",
   "execution_count": 0,
   "metadata": {
    "application/vnd.databricks.v1+cell": {
     "cellMetadata": {},
     "inputWidgets": {},
     "nuid": "4c4c056d-2120-407a-8b5f-36352047b741",
     "showTitle": false,
     "title": ""
    }
   },
   "outputs": [],
   "source": [
    "top5_rank_revenue = f500[[\"rank\", \"revenues\"]].head()\n",
    "print(top5_rank_revenue)"
   ]
  },
  {
   "cell_type": "code",
   "execution_count": 0,
   "metadata": {
    "application/vnd.databricks.v1+cell": {
     "cellMetadata": {},
     "inputWidgets": {},
     "nuid": "596edd64-5104-4ec4-a19a-6bcab2499cdd",
     "showTitle": false,
     "title": ""
    }
   },
   "outputs": [],
   "source": [
    "top5_rank_revenue[\"revenues\"] = 0\n",
    "print(top5_rank_revenue)"
   ]
  },
  {
   "cell_type": "markdown",
   "metadata": {
    "application/vnd.databricks.v1+cell": {
     "cellMetadata": {},
     "inputWidgets": {},
     "nuid": "b67538ea-7d8c-4903-aaf8-069b7be7182a",
     "showTitle": false,
     "title": ""
    }
   },
   "source": [
    "As in Numpy, we can apply the same technique that we use to select data to assignment. \n",
    "> Just remember, when we selected a whole column by label and used assignment, we assigned the value to every item in that column.\n",
    "\n",
    "When we provide labels for both axes, we assign the value to a single item within our dataframe."
   ]
  },
  {
   "cell_type": "code",
   "execution_count": 0,
   "metadata": {
    "application/vnd.databricks.v1+cell": {
     "cellMetadata": {},
     "inputWidgets": {},
     "nuid": "632235a3-2888-4409-8379-624088d50eef",
     "showTitle": false,
     "title": ""
    }
   },
   "outputs": [],
   "source": [
    "top5_rank_revenue.loc[\"Sinopec Group\", \"revenues\"] = 999\n",
    "print(top5_rank_revenue)"
   ]
  },
  {
   "cell_type": "markdown",
   "metadata": {
    "application/vnd.databricks.v1+cell": {
     "cellMetadata": {},
     "inputWidgets": {},
     "nuid": "fde05147-dfa5-4020-96ed-d546ef3fec52",
     "showTitle": false,
     "title": ""
    }
   },
   "source": [
    "### Task 3.4.8\n",
    "\n",
    "Use again our Fortune 500 data set:\n",
    "1. The company \"Dow Chemical\" has named a new CEO. Update the value where the row label is `Dow Chemical` by changing the ceo column to `Jim Fitterling` in the `f500` dataframe."
   ]
  },
  {
   "cell_type": "code",
   "execution_count": 0,
   "metadata": {
    "application/vnd.databricks.v1+cell": {
     "cellMetadata": {},
     "inputWidgets": {},
     "nuid": "516dec55-a54b-4f4c-9535-da61007879f5",
     "showTitle": false,
     "title": ""
    }
   },
   "outputs": [],
   "source": [
    "# Start your code below:\n"
   ]
  },
  {
   "cell_type": "markdown",
   "metadata": {
    "application/vnd.databricks.v1+cell": {
     "cellMetadata": {},
     "inputWidgets": {},
     "nuid": "ebd5b718-0b4d-40b5-9a54-199104d2d7e5",
     "showTitle": false,
     "title": ""
    }
   },
   "source": [
    "## 9. Using Boolean Indexing with pandas Objects\n",
    "\n",
    "In order to replace many values at the same time, we recommend using <b> boolean indexing </b> to change all rows that meet the same criteria, just like we did with NumPy.\n",
    "\n",
    "Let's take a look at the dataframe example below. This is a dataframe of people and their favorite numbers:"
   ]
  },
  {
   "cell_type": "code",
   "execution_count": 0,
   "metadata": {
    "application/vnd.databricks.v1+cell": {
     "cellMetadata": {},
     "inputWidgets": {},
     "nuid": "1c221966-d612-425f-b890-6eac3349f226",
     "showTitle": false,
     "title": ""
    }
   },
   "outputs": [],
   "source": [
    "import pandas as pd\n",
    "\n",
    "d = {'name': [\"Kyllie\", \"Rahul\", \"Michael\", \"Sarah\"], 'num': [12, 8, 5, 8]}\n",
    "\n",
    "df = pd.DataFrame(data=d)\n",
    "df"
   ]
  },
  {
   "cell_type": "markdown",
   "metadata": {
    "application/vnd.databricks.v1+cell": {
     "cellMetadata": {},
     "inputWidgets": {},
     "nuid": "0b199a60-c46d-40e5-806b-521838d933b4",
     "showTitle": false,
     "title": ""
    }
   },
   "source": [
    "If we want to check which people have a favorite number of 8, we can first perform a vectorized boolean operation that produces a boolean series:"
   ]
  },
  {
   "cell_type": "code",
   "execution_count": 0,
   "metadata": {
    "application/vnd.databricks.v1+cell": {
     "cellMetadata": {},
     "inputWidgets": {},
     "nuid": "08104c8d-5716-413b-ba04-5fc57c827179",
     "showTitle": false,
     "title": ""
    }
   },
   "outputs": [],
   "source": [
    "num_bool = df[\"num\"] == 8\n",
    "num_bool"
   ]
  },
  {
   "cell_type": "markdown",
   "metadata": {
    "application/vnd.databricks.v1+cell": {
     "cellMetadata": {},
     "inputWidgets": {},
     "nuid": "39e75fbf-e8da-495e-b65c-81567a5e8748",
     "showTitle": false,
     "title": ""
    }
   },
   "source": [
    "We have used a series to index the whole dataframe, leaving us with the rows that correspond only to people whose favorite number is 8:"
   ]
  },
  {
   "cell_type": "code",
   "execution_count": 0,
   "metadata": {
    "application/vnd.databricks.v1+cell": {
     "cellMetadata": {},
     "inputWidgets": {},
     "nuid": "49faee0f-d2d8-4c3b-8992-7607a14cf845",
     "showTitle": false,
     "title": ""
    }
   },
   "outputs": [],
   "source": [
    "result = df[num_bool]\n",
    "result"
   ]
  },
  {
   "cell_type": "markdown",
   "metadata": {
    "application/vnd.databricks.v1+cell": {
     "cellMetadata": {},
     "inputWidgets": {},
     "nuid": "5bfe353e-27b7-4e9b-83d4-cae5c2c4dd52",
     "showTitle": false,
     "title": ""
    }
   },
   "source": [
    "You see that we didn't use ``loc[]``. The reason for this is that boolean arrays use the same shortcut as slices to select along the index axis. We can also use the boolean series to index just one column of the dataframe:"
   ]
  },
  {
   "cell_type": "code",
   "execution_count": 0,
   "metadata": {
    "application/vnd.databricks.v1+cell": {
     "cellMetadata": {},
     "inputWidgets": {},
     "nuid": "e7908262-5396-427d-929f-f07f38ac4959",
     "showTitle": false,
     "title": ""
    }
   },
   "outputs": [],
   "source": [
    "result = df.loc[num_bool,\"name\"]\n",
    "result"
   ]
  },
  {
   "cell_type": "markdown",
   "metadata": {
    "application/vnd.databricks.v1+cell": {
     "cellMetadata": {},
     "inputWidgets": {},
     "nuid": "462f18b1-5c55-4de3-8eec-9edab84324af",
     "showTitle": false,
     "title": ""
    }
   },
   "source": [
    "You see that we have used `df.loc[]` to specify both axes.\n",
    "\n",
    "### Task 3.4.9\n",
    "1. Create a boolean series, `motor_bool`, that compares whether the values in the `industry` column from the `f500` dataframe are equal to `\"Motor Vehicles and Parts\"`.\n",
    "2. Use the `motor_bool` boolean series to index the `country` column. Assign the result to `motor_countries`."
   ]
  },
  {
   "cell_type": "code",
   "execution_count": 0,
   "metadata": {
    "application/vnd.databricks.v1+cell": {
     "cellMetadata": {},
     "inputWidgets": {},
     "nuid": "67b1e5c7-3e60-44a9-99d7-babdbeb9ba4e",
     "showTitle": false,
     "title": ""
    }
   },
   "outputs": [],
   "source": [
    "# Start your code below:\n"
   ]
  },
  {
   "cell_type": "markdown",
   "metadata": {
    "application/vnd.databricks.v1+cell": {
     "cellMetadata": {},
     "inputWidgets": {},
     "nuid": "0e7bc682-8aa3-45ee-aa56-06e6a490d9df",
     "showTitle": false,
     "title": ""
    }
   },
   "source": [
    "## 10. Using Boolean Arrays to Assign Values (OPTIONAL)\n",
    "\n",
    "In this session, we will look at how we can combine assignment and boolean indexing in pandas.\n",
    "\n",
    "In the following example, we change the `'Motor Vehicles & Parts'` values in the sector column to `'Motor Vehicles and Parts'` – i.e. we will change the ampersand (`&`) to `and`."
   ]
  },
  {
   "cell_type": "code",
   "execution_count": 0,
   "metadata": {
    "application/vnd.databricks.v1+cell": {
     "cellMetadata": {},
     "inputWidgets": {},
     "nuid": "07ce6db4-366a-45c8-84cb-5b647fe89321",
     "showTitle": false,
     "title": ""
    }
   },
   "outputs": [],
   "source": [
    "# First, we create a boolean series by comparing the values in the sector column to 'Motor Vehicles & Parts'\n",
    "ampersand_bool = f500[\"sector\"] == \"Motor Vehicles & Parts\"\n",
    "\n",
    "# Next, we use that boolean series and the string \"sector\" to perform the assignment.\n",
    "f500.loc[ampersand_bool,\"sector\"] = \"Motor Vehicles and Parts\""
   ]
  },
  {
   "cell_type": "markdown",
   "metadata": {
    "application/vnd.databricks.v1+cell": {
     "cellMetadata": {},
     "inputWidgets": {},
     "nuid": "ef5c8c4b-524b-4c8d-9639-aebae08f4a55",
     "showTitle": false,
     "title": ""
    }
   },
   "source": [
    "We can do what we just did as in one line: remove the intermediate step of creating a boolean series, and combine everything like this:"
   ]
  },
  {
   "cell_type": "code",
   "execution_count": 0,
   "metadata": {
    "application/vnd.databricks.v1+cell": {
     "cellMetadata": {},
     "inputWidgets": {},
     "nuid": "32555802-1ac6-4af1-a6cb-55ebd5b737a5",
     "showTitle": false,
     "title": ""
    }
   },
   "outputs": [],
   "source": [
    "f500.loc[f500[\"sector\"] == \"Motor Vehicles & Parts\",\"sector\"] = \"Motor Vehicles and Parts\""
   ]
  },
  {
   "cell_type": "markdown",
   "metadata": {
    "application/vnd.databricks.v1+cell": {
     "cellMetadata": {},
     "inputWidgets": {},
     "nuid": "2a31c88b-acf9-4307-919e-5f38d0334a48",
     "showTitle": false,
     "title": ""
    }
   },
   "source": [
    "Now that we have learned how to put everything into one line, we can use this technique and replace the values in the `previous_rank` column. We want to replace the items with value `0`, as `0` is no reasonable rank. What we can replace these values with? We can replace these values with `np.nan` – this value is used in pandas to represent values that cannot be represented numerically, such as some missing values."
   ]
  },
  {
   "cell_type": "markdown",
   "metadata": {
    "application/vnd.databricks.v1+cell": {
     "cellMetadata": {},
     "inputWidgets": {},
     "nuid": "4f440137-94bf-404b-9fef-27a97859a89a",
     "showTitle": false,
     "title": ""
    }
   },
   "source": [
    "### Task 3.4.10\n",
    "1. Use boolean indexing to update values in the `previous_rank` column of the `f500` dataframe:\n",
    "    - There should now be a value of `np.nan` where there previously was a value of `0`.\n",
    "    - It is up to you whether you assign the boolean series to its own variable first, or whether you complete the operation in one line.\n",
    "2. Create a new pandas series, `prev_rank_after`, using the same syntax that was used to create the `prev_rank_before` series.\n",
    "3. Compare the `prev_rank_before` and the `prev_rank_after` series."
   ]
  },
  {
   "cell_type": "code",
   "execution_count": 0,
   "metadata": {
    "application/vnd.databricks.v1+cell": {
     "cellMetadata": {},
     "inputWidgets": {},
     "nuid": "7e4e41fd-113b-4989-bb14-99e025f407eb",
     "showTitle": false,
     "title": ""
    }
   },
   "outputs": [],
   "source": [
    "import numpy as np\n",
    "f500 = pd.read_csv('f500.csv',index_col=0)\n",
    "prev_rank_before = f500[\"previous_rank\"].value_counts(dropna=False).head()\n",
    "\n",
    "# Start your code below:\n"
   ]
  },
  {
   "cell_type": "markdown",
   "metadata": {
    "application/vnd.databricks.v1+cell": {
     "cellMetadata": {},
     "inputWidgets": {},
     "nuid": "87887255-0bd1-47f3-bbd5-0cc78e24ff28",
     "showTitle": false,
     "title": ""
    }
   },
   "source": [
    "## 11. Creating New Columns (IMPORTANT)\n",
    "\n",
    "When we try to assign a value or values to a new column label in pandas, a new column will be created in our dataframe. Below we've added a new column to a dataframe named `top5_rank_revenue`:"
   ]
  },
  {
   "cell_type": "markdown",
   "metadata": {
    "application/vnd.databricks.v1+cell": {
     "cellMetadata": {},
     "inputWidgets": {},
     "nuid": "7dc60326-2a1c-42e3-bcec-4b8f3cda7a8f",
     "showTitle": false,
     "title": ""
    }
   },
   "source": [
    "````python\n",
    "top5_rank_revenue[\"year_founded\"] = 0\n",
    "print(top5_rank_revenue)\n",
    "````"
   ]
  },
  {
   "cell_type": "markdown",
   "metadata": {
    "application/vnd.databricks.v1+cell": {
     "cellMetadata": {},
     "inputWidgets": {},
     "nuid": "81301c4b-551f-4566-9cff-ea968bba4948",
     "showTitle": false,
     "title": ""
    }
   },
   "source": [
    "|_                          |rank |revenues |year_founded|\n",
    "|--------------------------|-----|---------|------------|\n",
    "|Walmart                   |   1 |       0 |           0|\n",
    "|State Grid                |   2 |       0 |           0|\n",
    "|Sinopec Group             |   3 |     999 |           0|\n",
    "|China National Petroleum  |   4 |       0 |           0|\n",
    "|Toyota Motor              |   5 |       0 |           0|"
   ]
  },
  {
   "cell_type": "markdown",
   "metadata": {
    "application/vnd.databricks.v1+cell": {
     "cellMetadata": {},
     "inputWidgets": {},
     "nuid": "024155c8-c1a1-4042-8217-3db4cb4e3f00",
     "showTitle": false,
     "title": ""
    }
   },
   "source": [
    "### Task 3.4.11\n",
    "1. Add a new column named `rank_change` to the `f500` dataframe. This column should show the change of ranks which you get by subtracting the values in the `rank` column from the values in the `previous_rank` column.\n",
    "2. Use the `Series.describe()` method to return a series of descriptive statistics for the `rank_change` column. Assign the result to `rank_change_desc`.\n",
    "3. Verify that the minimum value of the `rank_change` column is now greater than `-500`."
   ]
  },
  {
   "cell_type": "code",
   "execution_count": 0,
   "metadata": {
    "application/vnd.databricks.v1+cell": {
     "cellMetadata": {},
     "inputWidgets": {},
     "nuid": "77e64d3e-9a57-434e-b9a8-df8d54c6efb7",
     "showTitle": false,
     "title": ""
    }
   },
   "outputs": [],
   "source": [
    "# Start your code below:\n"
   ]
  }
 ],
 "metadata": {
  "application/vnd.databricks.v1+notebook": {
   "dashboards": [],
   "language": "python",
   "notebookMetadata": {},
   "notebookName": "4_Exploring_Data_with_Pandas_Fundamentals",
   "widgets": {}
  }
 },
 "nbformat": 4,
 "nbformat_minor": 0
}
