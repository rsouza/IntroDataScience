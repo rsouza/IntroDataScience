{
 "cells": [
  {
   "cell_type": "markdown",
   "metadata": {
    "application/vnd.databricks.v1+cell": {
     "cellMetadata": {},
     "inputWidgets": {},
     "nuid": "4fa41509-afa9-4780-b43d-6cf75b80f40b",
     "showTitle": false,
     "title": ""
    }
   },
   "source": [
    "# <center> How To Ask For Help <center>"
   ]
  },
  {
   "cell_type": "markdown",
   "metadata": {
    "application/vnd.databricks.v1+cell": {
     "cellMetadata": {},
     "inputWidgets": {},
     "nuid": "9597011b-407f-4f2c-b7db-68fdd608948b",
     "showTitle": false,
     "title": ""
    }
   },
   "source": [
    "It is completely normal to get lost and get stuck in the world of programming. That is why we constructed this section of Python Notebook dedicated for you to speed up your process of getting help. "
   ]
  },
  {
   "cell_type": "markdown",
   "metadata": {
    "application/vnd.databricks.v1+cell": {
     "cellMetadata": {},
     "inputWidgets": {},
     "nuid": "bcfaf8c0-ccb6-4d97-a70f-c05b696ed3a0",
     "showTitle": false,
     "title": ""
    }
   },
   "source": [
    "`√ When to ask for help:`\n",
    "Error messages are here to help us to go further and develop ourselves in becoming a well-equipped and more experienced data scientist. We encourage all our participants to try to solve the error messages by themselves before asking for help. However, when you get stuck with an error for too long, please reach us and we are here to help. \n",
    "\n",
    "\n",
    "`√ People to contact:`\n",
    "- Renato Rocha Souza           <renato.rocha-souza@rbinternational.com> \n",
    "\n",
    "`√ There are two ways you can contact us and ask a question:`\n",
    "-\tEmail (strongly recommended for long questions)\n",
    "-\tMicrosoft Teams (strongly recommended for clarifications & short questions)\n",
    "\n",
    "The answer will be delivered through either email or teams, sometimes it can also be done in screensharing format.\n",
    "\n",
    "\n",
    "`√ Things to attach when raising a question:`\n",
    "\n",
    "**Required:**\n",
    "-\tThe name of the **program** you are currently enrolled\n",
    "-\tThe **chapter/section** that your error message(s) arose \n",
    "-\tThe **name of the dataset & the folder** that it is under with (if available)\n",
    "-\t**Screenshots of the code** as well as the **original code** that you have problems with\n",
    "-\t**Screenshots of the error message(s)** (top & bottom)\n",
    "-\tPlease label clearly the **source(s)** of the code (whether your own, our internal training materials, internet, etc.)\n",
    "\n",
    "**Optional:**\n",
    "-\tA short explanation of your errors/what you have tried/things that you are uncertain with etc."
   ]
  },
  {
   "cell_type": "code",
   "execution_count": 0,
   "metadata": {
    "application/vnd.databricks.v1+cell": {
     "cellMetadata": {},
     "inputWidgets": {},
     "nuid": "87511c16-74b3-40c9-ac85-a6bcf7fef5b2",
     "showTitle": false,
     "title": ""
    }
   },
   "outputs": [],
   "source": []
  }
 ],
 "metadata": {
  "application/vnd.databricks.v1+notebook": {
   "dashboards": [],
   "environmentMetadata": null,
   "language": "python",
   "notebookMetadata": {},
   "notebookName": "How_to_ask_for_help",
   "widgets": {}
  }
 },
 "nbformat": 4,
 "nbformat_minor": 0
}
