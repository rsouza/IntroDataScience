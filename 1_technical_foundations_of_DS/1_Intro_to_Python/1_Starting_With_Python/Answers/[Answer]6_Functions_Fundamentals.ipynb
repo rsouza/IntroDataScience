{
 "cells": [
  {
   "cell_type": "markdown",
   "metadata": {
    "application/vnd.databricks.v1+cell": {
     "cellMetadata": {
      "byteLimit": 2048000,
      "rowLimit": 10000
     },
     "inputWidgets": {},
     "nuid": "61c45e28-fc88-4c65-95cb-3522a97b2e97",
     "showTitle": false,
     "title": ""
    }
   },
   "source": [
    "## About This Notebook\n",
    "\n",
    "Functions are the absolute key for any programmer! You might have already noticed that we used for example the `print()` function. This is one of the ``built-in functions`` of python which we can just use right away. We will touch upon these in the beginning of a lecture. Towards the second part of the lecture, we will move towards scenarios when Python does not have the function we need. We will then build our first custom functions.\n",
    "***"
   ]
  },
  {
   "cell_type": "markdown",
   "metadata": {
    "application/vnd.databricks.v1+cell": {
     "cellMetadata": {
      "byteLimit": 2048000,
      "rowLimit": 10000
     },
     "inputWidgets": {},
     "nuid": "fa159384-8538-44de-ac94-f268cd051df8",
     "showTitle": false,
     "title": ""
    }
   },
   "source": [
    "## 1. Functions\n",
    "We've learned several useful commands so far: `print()`, `sum()`, `len()`, `min()`, `max()`. These commands are more often known as functions. A function takes in an input, does something to that input, and gives back an output.\n",
    "\n",
    "Take for example the function ``sum()``:\n",
    "- ``sum()`` takes the input ``list_a``\n",
    "- it sums up all the values in the list\n",
    "- it returns the output ``18``, which is the sum of this list"
   ]
  },
  {
   "cell_type": "code",
   "execution_count": 0,
   "metadata": {
    "application/vnd.databricks.v1+cell": {
     "cellMetadata": {
      "byteLimit": 2048000,
      "rowLimit": 10000
     },
     "inputWidgets": {},
     "nuid": "1d788fef-7f58-44c3-9bcf-ccb65255df1f",
     "showTitle": false,
     "title": ""
    }
   },
   "outputs": [],
   "source": [
    "list_a = [5, 2, 11]\n",
    "sum(list_a)"
   ]
  },
  {
   "cell_type": "markdown",
   "metadata": {
    "application/vnd.databricks.v1+cell": {
     "cellMetadata": {
      "byteLimit": 2048000,
      "rowLimit": 10000
     },
     "inputWidgets": {},
     "nuid": "1e3ba7ce-1f48-49c4-9f05-3df7d431fe3f",
     "showTitle": false,
     "title": ""
    }
   },
   "source": [
    "We can understand step 1 and 3 rather quickly, however, what happens inside step 2 is rather ambiguous. "
   ]
  },
  {
   "cell_type": "markdown",
   "metadata": {
    "application/vnd.databricks.v1+cell": {
     "cellMetadata": {
      "byteLimit": 2048000,
      "rowLimit": 10000
     },
     "inputWidgets": {},
     "nuid": "7790d59f-867c-4daf-b14a-56983d02142e",
     "showTitle": false,
     "title": ""
    }
   },
   "source": [
    "First, we have a list about which we want to have some information:\n",
    "````python\n",
    "list_1 = [2, 45,62, -21, 0, 55, 3]\n",
    "````\n",
    "We then initialize a variable named ``my_sum`` with an initial value of 0.\n",
    "\n",
    "````python\n",
    "my_sum = 0\n",
    "````\n",
    "\n",
    "Afterwards, we loop through the list ``list_1``and sum up all the values in the list one by one:\n",
    "````python\n",
    "for element in list_1:\n",
    "    my_sum += element\n",
    "````\n",
    "\n",
    "At the very end, we print the final result to the screen.\n",
    "````python\n",
    "print(my_sum)\n",
    "````\n",
    "***\n",
    "For a better overview:\n",
    "\n",
    "````python\n",
    "list_1 = [2, 45, 62, -21, 0, 55, 3]\n",
    "my_sum = 0\n",
    "\n",
    "for element in list_1:\n",
    "    my_sum += element\n",
    "print(my_sum)\n",
    "\n",
    "\n",
    "````"
   ]
  },
  {
   "cell_type": "markdown",
   "metadata": {
    "application/vnd.databricks.v1+cell": {
     "cellMetadata": {
      "byteLimit": 2048000,
      "rowLimit": 10000
     },
     "inputWidgets": {},
     "nuid": "97f2ae29-664b-4675-9e9d-b575866a41b8",
     "showTitle": false,
     "title": ""
    }
   },
   "source": [
    "### Task 1.6.1:\n",
    "Let's try to do the same thing with `len()`.\n",
    "\n",
    "1. Compute the length of the `list_1` without using `len()`.\n",
    "    - Initialize a variable named length with a value of `0`.\n",
    "    - Loop through `list_1` and for each iteration add `1` to the current number length.\n",
    "    \n",
    "    \n",
    "2. Using `len()` function to print the length of ``list_1`` and check whether your function is correct.\n",
    "> Hint: to better familiarize yourself, you may look up the documentation of ``len()`` function."
   ]
  },
  {
   "cell_type": "code",
   "execution_count": 0,
   "metadata": {
    "application/vnd.databricks.v1+cell": {
     "cellMetadata": {
      "byteLimit": 2048000,
      "rowLimit": 10000
     },
     "inputWidgets": {},
     "nuid": "2b1ca794-db57-4359-a0a8-7cb551c1c1b8",
     "showTitle": false,
     "title": ""
    }
   },
   "outputs": [],
   "source": [
    "list_1 = [2, 45,62, -21, 0, 55, 3]\n",
    "\n",
    "#Start your code here:\n",
    "\n",
    "#First, initialization of the variable length \n",
    "length = 0\n",
    "\n",
    "#Second, loop through list_1 and increment your variable length\n",
    "for x in list_1:\n",
    "    length +=1\n",
    "print(length)\n",
    "\n",
    "# with len() function\n",
    "print(len(list_1))"
   ]
  },
  {
   "cell_type": "markdown",
   "metadata": {
    "application/vnd.databricks.v1+cell": {
     "cellMetadata": {
      "byteLimit": 2048000,
      "rowLimit": 10000
     },
     "inputWidgets": {},
     "nuid": "db17d367-44fd-4815-934a-32e41582edd5",
     "showTitle": false,
     "title": ""
    }
   },
   "source": [
    "## 2. Built-in Functions\n",
    "Functions help us tremendously in working faster and simplifying our code. Whenever there is a repetitive task, try to think about using some functions to speed up your workflow.\n",
    "\n",
    "Python has some built-in functions like the ones we have encountered: ``sum()``, ``len()``, ``min()``, and ``max()``. However, Python doesn't have built-in functions for all the tasks we want to achieve. Therefore, it will be necessary to write functions of our own."
   ]
  },
  {
   "cell_type": "markdown",
   "metadata": {
    "application/vnd.databricks.v1+cell": {
     "cellMetadata": {
      "byteLimit": 2048000,
      "rowLimit": 10000
     },
     "inputWidgets": {},
     "nuid": "85f1fae2-0646-4b4b-9c0b-4e3fd5897f24",
     "showTitle": false,
     "title": ""
    }
   },
   "source": [
    "## 3. Creating Your Own Functions (IMPORTANT)\n",
    "If we want to create a function named `square()` which performs the mathematical operation of taking a number to the power of 2, how can we achieve this?\n",
    "To find the square of a number, all we need to do is to multiply that number by itself. For example, to find the square of 4, we need to multiple 4 by itself such as: 4 * 4, which is 16.\n",
    "So how do we actually create the `square()` function? See below:"
   ]
  },
  {
   "cell_type": "code",
   "execution_count": 0,
   "metadata": {
    "application/vnd.databricks.v1+cell": {
     "cellMetadata": {
      "byteLimit": 2048000,
      "rowLimit": 10000
     },
     "inputWidgets": {},
     "nuid": "608d4b29-e188-4333-9567-1eb9c5b9c436",
     "showTitle": false,
     "title": ""
    }
   },
   "outputs": [],
   "source": [
    "def square(number):\n",
    "    squared_number = number * number\n",
    "    return squared_number"
   ]
  },
  {
   "cell_type": "markdown",
   "metadata": {
    "application/vnd.databricks.v1+cell": {
     "cellMetadata": {
      "byteLimit": 2048000,
      "rowLimit": 10000
     },
     "inputWidgets": {},
     "nuid": "9d50ed82-7200-49f8-9d4b-37cd7e0be482",
     "showTitle": false,
     "title": ""
    }
   },
   "source": [
    "To create the `square()` function above, we:\n",
    "\n",
    "\n",
    "1. Started with the `def` statement\n",
    "    - Specified the name of the function, which is `square`\n",
    "    - Specified the name of the variable that will serve as input, which is `number`\n",
    "    - Surround the input variable `number` within parentheses\n",
    "    - End the line of the code with a colon `:`\n",
    "\n",
    "\n",
    "2. Specified what we want to do with the input number\n",
    "    - We first multiplied number by itself: `number * number`\n",
    "    - We assigned the result of `number * number` to a variable named `squared_number`\n",
    "\n",
    "\n",
    "3. Concluded the function with the `return` statement and specified what to return as the output\n",
    "    - The output is the variable named `squared_number`, which is the result of `number * number`\n",
    "\n",
    "\n",
    "After we have constructed the `square()` function, we can finally put it into practice and compute the square of a number."
   ]
  },
  {
   "cell_type": "code",
   "execution_count": 0,
   "metadata": {
    "application/vnd.databricks.v1+cell": {
     "cellMetadata": {
      "byteLimit": 2048000,
      "rowLimit": 10000
     },
     "inputWidgets": {},
     "nuid": "01504a63-d9b3-4a4d-b7dc-1c4dd9df6d74",
     "showTitle": false,
     "title": ""
    }
   },
   "outputs": [],
   "source": [
    "# To compute the square of 2, we use the code\n",
    "square_2 = square(number = 2)\n",
    "\n",
    "# To compute the square of 6, we use the code\n",
    "square_6 = square(number = 6)\n",
    "\n",
    "# To compute the square of 8, we use the code\n",
    "square_8 = square(number = 8)"
   ]
  },
  {
   "cell_type": "markdown",
   "metadata": {
    "application/vnd.databricks.v1+cell": {
     "cellMetadata": {
      "byteLimit": 2048000,
      "rowLimit": 10000
     },
     "inputWidgets": {},
     "nuid": "fae4663d-9be0-44c7-86bc-fb9fb4186ce1",
     "showTitle": false,
     "title": ""
    }
   },
   "source": [
    "The variable `number` is the input variable and it can take various values as seen in the code above."
   ]
  },
  {
   "cell_type": "markdown",
   "metadata": {
    "application/vnd.databricks.v1+cell": {
     "cellMetadata": {
      "byteLimit": 2048000,
      "rowLimit": 10000
     },
     "inputWidgets": {},
     "nuid": "31e6cc1c-ff5d-4a29-8e13-deb327f84f22",
     "showTitle": false,
     "title": ""
    }
   },
   "source": [
    "## 4. The Structure of a Function (IMPORTANT)\n",
    "\n",
    "In the previous section we created and used a function named `square()` to compute the square of `2`, `6`, `8`. We have used `number = 2`, `number = 6`, `number = 8` for every input variable:"
   ]
  },
  {
   "cell_type": "code",
   "execution_count": 0,
   "metadata": {
    "application/vnd.databricks.v1+cell": {
     "cellMetadata": {
      "byteLimit": 2048000,
      "rowLimit": 10000
     },
     "inputWidgets": {},
     "nuid": "3b3670ea-a0ab-4f4c-a303-552944773016",
     "showTitle": false,
     "title": ""
    }
   },
   "outputs": [],
   "source": [
    "def square(number):\n",
    "    squared_number = number * number\n",
    "    return squared_number\n",
    "\n",
    "#To compute the square of 2, we use the code\n",
    "square_2 = square(number = 2)\n",
    "\n",
    "#To compute the square of 6, we use the code\n",
    "square_6 = square(number = 6)\n",
    "\n",
    "#To compute the square of 8, we use the code\n",
    "square_8 = square(number = 8)\n",
    "\n",
    "print(square_2)\n",
    "print(square_6)\n",
    "print(square_8)"
   ]
  },
  {
   "cell_type": "markdown",
   "metadata": {
    "application/vnd.databricks.v1+cell": {
     "cellMetadata": {
      "byteLimit": 2048000,
      "rowLimit": 10000
     },
     "inputWidgets": {},
     "nuid": "65f57fbb-ae61-4aa3-97ee-927a39df73f9",
     "showTitle": false,
     "title": ""
    }
   },
   "source": [
    "To understand what happens when we change the value we assign to `number`, you should try to imagine `number` being replaced with that specific value inside the definition of the function like:\n"
   ]
  },
  {
   "cell_type": "code",
   "execution_count": 0,
   "metadata": {
    "application/vnd.databricks.v1+cell": {
     "cellMetadata": {
      "byteLimit": 2048000,
      "rowLimit": 10000
     },
     "inputWidgets": {},
     "nuid": "1c0fd2b5-8841-43a2-8652-ac6c3dcec5fe",
     "showTitle": false,
     "title": ""
    }
   },
   "outputs": [],
   "source": [
    "#For number = 2\n",
    "def square(number = 2):\n",
    "    squared_number = number * number\n",
    "    return squared_number"
   ]
  },
  {
   "cell_type": "code",
   "execution_count": 0,
   "metadata": {
    "application/vnd.databricks.v1+cell": {
     "cellMetadata": {
      "byteLimit": 2048000,
      "rowLimit": 10000
     },
     "inputWidgets": {},
     "nuid": "79995c65-be0f-44dd-9e95-7f217ac04863",
     "showTitle": false,
     "title": ""
    }
   },
   "outputs": [],
   "source": [
    "#For number = 6\n",
    "def square(number = 6):\n",
    "    squared_number = number * number\n",
    "    return squared_number"
   ]
  },
  {
   "cell_type": "code",
   "execution_count": 0,
   "metadata": {
    "application/vnd.databricks.v1+cell": {
     "cellMetadata": {
      "byteLimit": 2048000,
      "rowLimit": 10000
     },
     "inputWidgets": {},
     "nuid": "760b3694-2e7e-477d-bbf2-1188ab70a59d",
     "showTitle": false,
     "title": ""
    }
   },
   "outputs": [],
   "source": [
    "#For number = 8\n",
    "def square(number = 8):\n",
    "    squared_number = number * number\n",
    "    return squared_number"
   ]
  },
  {
   "cell_type": "markdown",
   "metadata": {
    "application/vnd.databricks.v1+cell": {
     "cellMetadata": {
      "byteLimit": 2048000,
      "rowLimit": 10000
     },
     "inputWidgets": {},
     "nuid": "2b4f1700-457d-4c7a-85c0-aaf820a004b8",
     "showTitle": false,
     "title": ""
    }
   },
   "source": [
    "There are usually three elements that make up the function's definition: The **header** (which contains the def statement), the **body** (where the magic happens), and the **return** statement."
   ]
  },
  {
   "cell_type": "markdown",
   "metadata": {
    "application/vnd.databricks.v1+cell": {
     "cellMetadata": {
      "byteLimit": 2048000,
      "rowLimit": 10000
     },
     "inputWidgets": {},
     "nuid": "43e56acb-e104-4990-8e9d-a3dc31891c9d",
     "showTitle": false,
     "title": ""
    }
   },
   "source": [
    "Note that we indent the body and the return statement four spaces to the right — we did the same for the bodies of for loops and if statements. Technically, we only need to indent at least one space character to the right, but the convention in the Python community is to use four space characters instead. This helps with readability — other people who follow this convention will be able to read your code easier, and you'll be able to read their code easier."
   ]
  },
  {
   "cell_type": "markdown",
   "metadata": {
    "application/vnd.databricks.v1+cell": {
     "cellMetadata": {
      "byteLimit": 2048000,
      "rowLimit": 10000
     },
     "inputWidgets": {},
     "nuid": "1e8f447f-74fa-43b7-af2c-0949a537681f",
     "showTitle": false,
     "title": ""
    }
   },
   "source": [
    "### Task 1.6.4 (IMPORTANT)\n",
    "\n",
    "Now let's try to recreate what you have learned in the previous chapter, the ``square()`` function.\n",
    "\n",
    "- Create a function `square` with input variable `number` and default value `12`.\n",
    "- Assign the square of `12` to a variable named `squared_12`.\n",
    "- Assign the square of `20` to a variable named `squared_20`.\n",
    "- Print both `squared_12` and `squared_20`."
   ]
  },
  {
   "cell_type": "code",
   "execution_count": 0,
   "metadata": {
    "application/vnd.databricks.v1+cell": {
     "cellMetadata": {
      "byteLimit": 2048000,
      "rowLimit": 10000
     },
     "inputWidgets": {},
     "nuid": "34dfd03a-d99b-4c05-a534-25580481b042",
     "showTitle": false,
     "title": ""
    }
   },
   "outputs": [],
   "source": [
    "# Start your code below:\n",
    "\n",
    "def square(number = 12):\n",
    "    squared_number = number * number\n",
    "    return squared_number\n",
    "\n",
    "squared_12 = square(12)\n",
    "squared_20 = square(20)\n",
    "print(squared_12)\n",
    "print(squared_20)"
   ]
  },
  {
   "cell_type": "markdown",
   "metadata": {
    "application/vnd.databricks.v1+cell": {
     "cellMetadata": {
      "byteLimit": 2048000,
      "rowLimit": 10000
     },
     "inputWidgets": {},
     "nuid": "fb564ef3-b23b-47bb-bf98-d80a2881fc57",
     "showTitle": false,
     "title": ""
    }
   },
   "source": [
    "## 5. Parameters and Arguments (IMPORTANT)\n",
    "\n",
    "We have learned a bit more about functions now. However, instead of `square(number = 6)` we can type just `square(6)` and it will give us the same output.\n",
    "\n",
    "What's behind the scene is that when we use `square(6)` instead of `square(number = 6)`, Python automatically assigns `6` to the `number` variable and it is just the same thing as `square(number = 6)`.\n",
    "\n",
    "Input variables like `number` are more often known as parameters. So `number` is a parameter of the `square()` function and when the parameter `number` takes a value (like `6` in `square(number = 6)`), that value is called an <b>argument</b>.\n",
    "\n",
    "For `square(number=6)`, we'd say the number parameter took in `6` as an argument. For `square(number=1000)`, the parameter number took in `1000` as an argument. For `square(number=19)`, the parameter number took in `19` as an argument, and so on.\n",
    "\n",
    "Now, let's focus on just the return statement. In the `square()` function, we have the return statement as: `return square_number`. However, you can return with an entire expression rather than just a single variable.\n",
    "\n",
    "So instead of saving the result of `number * number` to the variable `squared_number`, we can just return the expression `number * number` and skip the variable assignment step like this:"
   ]
  },
  {
   "cell_type": "code",
   "execution_count": 0,
   "metadata": {
    "application/vnd.databricks.v1+cell": {
     "cellMetadata": {
      "byteLimit": 2048000,
      "rowLimit": 10000
     },
     "inputWidgets": {},
     "nuid": "77be0428-4e94-44af-9ca2-e76fb0e20e28",
     "showTitle": false,
     "title": ""
    }
   },
   "outputs": [],
   "source": [
    "#Instead of this:\n",
    "def square(number):\n",
    "    squared_number = number * number\n",
    "    return squared_number\n",
    "\n",
    "#We can return the expression: number * number\n",
    "def square(number):\n",
    "    return  number * number"
   ]
  },
  {
   "cell_type": "markdown",
   "metadata": {
    "application/vnd.databricks.v1+cell": {
     "cellMetadata": {
      "byteLimit": 2048000,
      "rowLimit": 10000
     },
     "inputWidgets": {},
     "nuid": "e46a5df0-e50c-4f0b-8b01-71316bddc0bf",
     "showTitle": false,
     "title": ""
    }
   },
   "source": [
    "The last `square()` function makes our code looks shorter and neater and it is generally encouraged to do so in the practice."
   ]
  },
  {
   "cell_type": "markdown",
   "metadata": {
    "application/vnd.databricks.v1+cell": {
     "cellMetadata": {
      "byteLimit": 2048000,
      "rowLimit": 10000
     },
     "inputWidgets": {},
     "nuid": "8a3d6708-cc42-4890-8fc9-1e22d3dcbacf",
     "showTitle": false,
     "title": ""
    }
   },
   "source": [
    "## 6. Extract Values From Any Column\n",
    "Remember our goal of writing our own functions? To have a certain flexibility to speed up our own workflow during the coding process when encountered with some complex problems.\n",
    "\n",
    "Problem 1: Now try to generate a frequency table for a certain column from our data set. "
   ]
  },
  {
   "cell_type": "markdown",
   "metadata": {
    "application/vnd.databricks.v1+cell": {
     "cellMetadata": {
      "byteLimit": 2048000,
      "rowLimit": 10000
     },
     "inputWidgets": {},
     "nuid": "67da2cac-6470-4754-b333-97b405aec81e",
     "showTitle": false,
     "title": ""
    }
   },
   "source": [
    "In order to simplify and speed up the workflow, we can try to create a separate function for each of these two tasks:\n",
    "1. A function that is able to extract the value we desired for any column in a separate list; and\n",
    "2. A function that can generate a frequency table for given a list"
   ]
  },
  {
   "cell_type": "markdown",
   "metadata": {
    "application/vnd.databricks.v1+cell": {
     "cellMetadata": {
      "byteLimit": 2048000,
      "rowLimit": 10000
     },
     "inputWidgets": {},
     "nuid": "4d8f831e-4f13-46a1-aba8-77950c851f0b",
     "showTitle": false,
     "title": ""
    }
   },
   "source": [
    "In order the solve problem 1, we can first use a function to extract the value for any column we want into a separate list. Then we can pass the output list as an argument to the second function which will give us a frequency table for that given list.\n",
    "\n",
    "How do we extract the values of any column we want from our `apps_data` data set? Please see below:"
   ]
  },
  {
   "cell_type": "code",
   "execution_count": 0,
   "metadata": {
    "application/vnd.databricks.v1+cell": {
     "cellMetadata": {
      "byteLimit": 2048000,
      "rowLimit": 10000
     },
     "inputWidgets": {},
     "nuid": "e57d2b38-fa7f-486d-8410-287ea587c513",
     "showTitle": false,
     "title": ""
    }
   },
   "outputs": [],
   "source": [
    "#Import data set\n",
    "from csv import reader\n",
    "\n",
    "with open('../../../../Data/AppleStore.csv', encoding = 'utf8') as opened_file:\n",
    "    read_file = reader(opened_file)\n",
    "    apps_data = list(read_file)\n",
    "\n",
    "#Create an empty list\n",
    "content_ratings = []\n",
    "\n",
    "#Loop through the apps_data data set (excluding the header row)\n",
    "for row in apps_data[1:]:\n",
    "    #for each iteration, we first store the value from the column we want in a variable\n",
    "    content_rating = row[10] #(rating has the index number of 10 in each list)\n",
    "    \n",
    "    #then we append that value we just stored to the empty list we have \n",
    "    #created outside the for loop (content_ratings)\n",
    "    content_ratings.append(content_rating)"
   ]
  },
  {
   "cell_type": "markdown",
   "metadata": {
    "application/vnd.databricks.v1+cell": {
     "cellMetadata": {
      "byteLimit": 2048000,
      "rowLimit": 10000
     },
     "inputWidgets": {},
     "nuid": "6add8e4c-2700-4a20-9226-ca5a6bc1affe",
     "showTitle": false,
     "title": ""
    }
   },
   "source": [
    "### Task 1.6.6 (IMPORTANT):\n",
    "1. Write a function named ``extract()`` that can extract any column you want from the `apps_data` data set.\n",
    "    - The function should take in the index `number` of a column as input.\n",
    "2. Inside the function's definition:\n",
    "    - Create an empty list.\n",
    "    - Loop through the `apps_data` data set and extract only the value you want by using the parameter.\n",
    "    - Append that value to the empty list.\n",
    "    - Return the list containing the values of the column.\n",
    "3. Use the `extract()` function to extract `cont_rating column` in the data set. Store them in a variable named `app_rating`. The index number of this column is `10`."
   ]
  },
  {
   "cell_type": "code",
   "execution_count": 0,
   "metadata": {
    "application/vnd.databricks.v1+cell": {
     "cellMetadata": {
      "byteLimit": 2048000,
      "rowLimit": 10000
     },
     "inputWidgets": {},
     "nuid": "a0203c52-766e-439e-8b31-7ba623430a00",
     "showTitle": false,
     "title": ""
    },
    "jupyter": {
     "outputs_hidden": true
    }
   },
   "outputs": [],
   "source": [
    "# Start your code below:\n",
    "\n",
    "def extract(index):\n",
    "    list = []\n",
    "    for row in apps_data[1:]:\n",
    "        list.append(row[index])\n",
    "    return list\n",
    "\n",
    "app_rating = extract(10)"
   ]
  },
  {
   "cell_type": "markdown",
   "metadata": {
    "application/vnd.databricks.v1+cell": {
     "cellMetadata": {
      "byteLimit": 2048000,
      "rowLimit": 10000
     },
     "inputWidgets": {},
     "nuid": "301e90d8-276a-489b-8042-f30ccc4db638",
     "showTitle": false,
     "title": ""
    }
   },
   "source": [
    "## 7. Creating Frequency Tables\n",
    "\n",
    "In this section we will create the second function to our problem 1, which is to create a frequncy table for a given list."
   ]
  },
  {
   "cell_type": "code",
   "execution_count": 0,
   "metadata": {
    "application/vnd.databricks.v1+cell": {
     "cellMetadata": {
      "byteLimit": 2048000,
      "rowLimit": 10000
     },
     "inputWidgets": {},
     "nuid": "bb41ad7b-5ac2-4853-ad7b-6e43abc8dc08",
     "showTitle": false,
     "title": ""
    }
   },
   "outputs": [],
   "source": [
    "ratings = ['4+', '4+', '4+', '9+', '9+', '12+', '17+']\n",
    "#Create an empty list\n",
    "content_ratings = {}\n",
    "\n",
    "#Loop through the ratings list \n",
    "for c_rating in ratings:\n",
    "    \n",
    "    #and check for each iteration whether the iteration variable\n",
    "    #exists as a key in the dictionary created\n",
    "    if c_rating in content_ratings: \n",
    "        #If it exists, then increment by 1 the dictionary value at that key\n",
    "        content_ratings[c_rating] +=1\n",
    "    else:\n",
    "        #If not, then create a new key-value pair in the dictionary, where the \n",
    "        #dictionary key is the iteration variable and the inital dictionary value is 1.\n",
    "        content_ratings[c_rating] = 1\n",
    "        \n",
    "#See the final result after the for loop\n",
    "content_ratings"
   ]
  },
  {
   "cell_type": "markdown",
   "metadata": {
    "application/vnd.databricks.v1+cell": {
     "cellMetadata": {
      "byteLimit": 2048000,
      "rowLimit": 10000
     },
     "inputWidgets": {},
     "nuid": "39310ee1-7a74-4e3a-b4de-4d34e09e3459",
     "showTitle": false,
     "title": ""
    }
   },
   "source": [
    "### Task 1.6.7 (OPTIONAL):\n",
    "\n",
    "1. Write a function named `freq_table()` which generates a frequency table for any list.\n",
    "- The function should take in a list as input.\n",
    "- Inside the function's body, write code that generates a frequency table for that list and stores the table in a dictionary.\n",
    "- Return the frequency table as a dictionary.\n",
    "2. Use the `freq_table()` function on the `app_rating list` (already generated from the previous task, task 1.6.6) to generate the frequency table for the `cont_rating` column. Store the table to a variable named `rating_ft`."
   ]
  },
  {
   "cell_type": "code",
   "execution_count": 0,
   "metadata": {
    "application/vnd.databricks.v1+cell": {
     "cellMetadata": {
      "byteLimit": 2048000,
      "rowLimit": 10000
     },
     "inputWidgets": {},
     "nuid": "ff38106d-53d8-42ca-843e-f3288be4a92f",
     "showTitle": false,
     "title": ""
    }
   },
   "outputs": [],
   "source": [
    "# Start your code below:\n",
    "\n",
    "def freq_table(column):\n",
    "    frequency_table = {}\n",
    "    for value in column:\n",
    "        if value in frequency_table:\n",
    "            frequency_table[value] += 1\n",
    "        else:\n",
    "            frequency_table[value] = 1\n",
    "    return frequency_table\n",
    "\n",
    "rating_ft = freq_table(app_rating)\n",
    "print(rating_ft)"
   ]
  },
  {
   "cell_type": "markdown",
   "metadata": {
    "application/vnd.databricks.v1+cell": {
     "cellMetadata": {
      "byteLimit": 2048000,
      "rowLimit": 10000
     },
     "inputWidgets": {},
     "nuid": "ea35cbdb-f495-4298-9d99-65bbab93631e",
     "showTitle": false,
     "title": ""
    }
   },
   "source": [
    "## 8. Keyword and Positional Arguments\n",
    "\n",
    "There are multiple ways to pass in arguments when a function has more than just one parameters.\n",
    "\n",
    "Take a function named divide(x, y) for example, which takes x, and y as inputs and returns their division."
   ]
  },
  {
   "cell_type": "code",
   "execution_count": 0,
   "metadata": {
    "application/vnd.databricks.v1+cell": {
     "cellMetadata": {
      "byteLimit": 2048000,
      "rowLimit": 10000
     },
     "inputWidgets": {},
     "nuid": "46dfddef-6000-49b0-af0d-b9c42a70a776",
     "showTitle": false,
     "title": ""
    }
   },
   "outputs": [],
   "source": [
    "def divide(x, y):\n",
    "    return x / y"
   ]
  },
  {
   "cell_type": "markdown",
   "metadata": {
    "application/vnd.databricks.v1+cell": {
     "cellMetadata": {
      "byteLimit": 2048000,
      "rowLimit": 10000
     },
     "inputWidgets": {},
     "nuid": "b354447a-c4dd-4aca-8d1e-eeac5bddfa6c",
     "showTitle": false,
     "title": ""
    }
   },
   "source": [
    "If we want to perform the addition 30 / 5, then we will need to pass 30 and 5 in the parameters of add() function. There are several ways of passing the parameters:"
   ]
  },
  {
   "cell_type": "code",
   "execution_count": 0,
   "metadata": {
    "application/vnd.databricks.v1+cell": {
     "cellMetadata": {
      "byteLimit": 2048000,
      "rowLimit": 10000
     },
     "inputWidgets": {},
     "nuid": "cf1f2ff7-6320-44bd-be6b-e6a221a9e0a5",
     "showTitle": false,
     "title": ""
    }
   },
   "outputs": [],
   "source": [
    "# Method 1:\n",
    "divide(x = 30, y = 5)"
   ]
  },
  {
   "cell_type": "code",
   "execution_count": 0,
   "metadata": {
    "application/vnd.databricks.v1+cell": {
     "cellMetadata": {
      "byteLimit": 2048000,
      "rowLimit": 10000
     },
     "inputWidgets": {},
     "nuid": "eadde2a5-5962-4864-9f89-c8484a30ce95",
     "showTitle": false,
     "title": ""
    }
   },
   "outputs": [],
   "source": [
    "# Method 2:\n",
    "divide(y = 5, x = 30)"
   ]
  },
  {
   "cell_type": "code",
   "execution_count": 0,
   "metadata": {
    "application/vnd.databricks.v1+cell": {
     "cellMetadata": {
      "byteLimit": 2048000,
      "rowLimit": 10000
     },
     "inputWidgets": {},
     "nuid": "b06b8401-9516-4016-8035-3e509529a402",
     "showTitle": false,
     "title": ""
    }
   },
   "outputs": [],
   "source": [
    "# Method 3:\n",
    "divide( 30, 5)"
   ]
  },
  {
   "cell_type": "code",
   "execution_count": 0,
   "metadata": {
    "application/vnd.databricks.v1+cell": {
     "cellMetadata": {
      "byteLimit": 2048000,
      "rowLimit": 10000
     },
     "inputWidgets": {},
     "nuid": "90e71a60-b1b0-4c9b-8d3c-12e3c2ecd795",
     "showTitle": false,
     "title": ""
    }
   },
   "outputs": [],
   "source": [
    "#All of the methods above are correct, however, you cannot do:\n",
    "\n",
    "divide(5, 30) #it will return you a different result, which is not the same as 30/5"
   ]
  },
  {
   "cell_type": "markdown",
   "metadata": {
    "application/vnd.databricks.v1+cell": {
     "cellMetadata": {
      "byteLimit": 2048000,
      "rowLimit": 10000
     },
     "inputWidgets": {},
     "nuid": "55736129-e79b-4f44-9b99-746a335101b5",
     "showTitle": false,
     "title": ""
    }
   },
   "source": [
    "The syntax `divide(x = 30, y = 5)` and `divide(y = 5, x = 30)` both allow us the pass in the arguments `30` and `5` to correspondingly variable x and variable y. They are also known as named arguments, or more commonly, **keyword arguments**.\n",
    "\n",
    "When we use keyword arguments, the order we use to pass in the arguments doesn't make any difference. However, if we don't specify the keyword argument like in #method 3 and #method 4, then we are not explicit about what arguments correspond to what parameters and therefore we need to pass in the parameters by position. The first argument will be mapped the first parameter, and the second argument will be mapped to the second parameter. These arguments that are passed by position are known as the positional arguments.\n",
    "\n",
    "In the practice, data scientists often use positional arguments because they required less typing and can easily speed up the workflow. So we need to pay extra attention to the order in which we pass on our parameters."
   ]
  },
  {
   "cell_type": "markdown",
   "metadata": {
    "application/vnd.databricks.v1+cell": {
     "cellMetadata": {
      "byteLimit": 2048000,
      "rowLimit": 10000
     },
     "inputWidgets": {},
     "nuid": "b67437b8-e3f2-4f7d-8e02-1f6f50ced9d5",
     "showTitle": false,
     "title": ""
    }
   },
   "source": [
    "### Task 1.6.8:\n",
    "1. Write an `add()` function that returns the sum of variable x and variable y,\n",
    "2. Pass in the parameters by using keyword argument.\n",
    "3. Pass in the parameters by using positional argument.\n",
    "4. Compare your result of keyword argument and positional argument."
   ]
  },
  {
   "cell_type": "code",
   "execution_count": 0,
   "metadata": {
    "application/vnd.databricks.v1+cell": {
     "cellMetadata": {
      "byteLimit": 2048000,
      "rowLimit": 10000
     },
     "inputWidgets": {},
     "nuid": "39ba5f01-b892-4612-86f0-f330ea2a6c5d",
     "showTitle": false,
     "title": ""
    }
   },
   "outputs": [],
   "source": [
    "# Start your code below:\n",
    "\n",
    "def add(x, y):\n",
    "    print(\"x is: \", x)\n",
    "    print(\"y is: \", y)\n",
    "    return x + y\n",
    "\n",
    "# keyword argument\n",
    "print(add(y = 5, x = 3))\n",
    "\n",
    "# positional argument\n",
    "print(add(5, 3))"
   ]
  },
  {
   "cell_type": "markdown",
   "metadata": {
    "application/vnd.databricks.v1+cell": {
     "cellMetadata": {
      "byteLimit": 2048000,
      "rowLimit": 10000
     },
     "inputWidgets": {},
     "nuid": "9b7c5098-4787-43e2-af8d-9d3f81f332ae",
     "showTitle": false,
     "title": ""
    }
   },
   "source": [
    "## 9. Combining Functions (OPTIONAL)\n",
    "\n",
    "Do you know that you can use one function inside the body of another function?\n",
    "\n",
    "If we want to write a function called `average()` which takes a list of numbers and returns the average of that list.\n",
    "To get the mean of a list we first need to sum up all the values in this list and divide by the total number of values in this list."
   ]
  },
  {
   "cell_type": "code",
   "execution_count": 0,
   "metadata": {
    "application/vnd.databricks.v1+cell": {
     "cellMetadata": {
      "byteLimit": 2048000,
      "rowLimit": 10000
     },
     "inputWidgets": {},
     "nuid": "b808d93d-4022-490f-9199-77b24ffec149",
     "showTitle": false,
     "title": ""
    }
   },
   "outputs": [],
   "source": [
    "def find_sum(my_list):\n",
    "    a_sum = 0\n",
    "    for element in my_list:\n",
    "        a_sum += element\n",
    "    return a_sum\n",
    "\n",
    "def find_length(my_list):\n",
    "    length = 0\n",
    "    for element in my_list:\n",
    "        length +=1\n",
    "    return length"
   ]
  },
  {
   "cell_type": "markdown",
   "metadata": {
    "application/vnd.databricks.v1+cell": {
     "cellMetadata": {
      "byteLimit": 2048000,
      "rowLimit": 10000
     },
     "inputWidgets": {},
     "nuid": "34008a9d-c0ea-4ae3-aa1a-e708d6d2b7cc",
     "showTitle": false,
     "title": ""
    }
   },
   "source": [
    "Now we can use `find_sum()` and `find_length()` inside our `average()` function like this:"
   ]
  },
  {
   "cell_type": "code",
   "execution_count": 0,
   "metadata": {
    "application/vnd.databricks.v1+cell": {
     "cellMetadata": {
      "byteLimit": 2048000,
      "rowLimit": 10000
     },
     "inputWidgets": {},
     "nuid": "535dd78b-5feb-4b59-9355-5e619a50385d",
     "showTitle": false,
     "title": ""
    }
   },
   "outputs": [],
   "source": [
    "def average(list_of_numbers):\n",
    "    sum_list = find_sum(list_of_numbers)\n",
    "    length_of_list = find_length(list_of_numbers)\n",
    "    mean_list = sum_list / length_of_list\n",
    "    \n",
    "    return mean_list\n",
    "\n",
    "list_a = [5, 2, 11]\n",
    "average(list_a)"
   ]
  },
  {
   "cell_type": "markdown",
   "metadata": {
    "application/vnd.databricks.v1+cell": {
     "cellMetadata": {
      "byteLimit": 2048000,
      "rowLimit": 10000
     },
     "inputWidgets": {},
     "nuid": "38ea842b-f1c8-40df-8de4-05fe58315b1c",
     "showTitle": false,
     "title": ""
    }
   },
   "source": [
    "You can see that we used `find_sum()` and `find_length()` inside the body of the `average()` function. `list_of_numbers` is the parameter which we passed on to the `average()` function, and inside the `average()` function body, it becomes the argument for both `find_sum()` and `find_length()` function. \n",
    "\n",
    "You may ask why we write `find_sum()` and `find_length()` as two separate functions. The answer is what we learned in the previous session: reusability. Imagine we didn't write those two functions, our `average()` function would look like this:"
   ]
  },
  {
   "cell_type": "code",
   "execution_count": 0,
   "metadata": {
    "application/vnd.databricks.v1+cell": {
     "cellMetadata": {
      "byteLimit": 2048000,
      "rowLimit": 10000
     },
     "inputWidgets": {},
     "nuid": "2163180c-c629-4dde-99b0-f5db78b96c16",
     "showTitle": false,
     "title": ""
    }
   },
   "outputs": [],
   "source": [
    "def average(list_of_numbers):\n",
    "    #Finding the sum\n",
    "    sum = 0\n",
    "    for element in list_of_numbers:\n",
    "        sum += element\n",
    "    \n",
    "    #Finding the length\n",
    "    length = 0\n",
    "    for element in list_of_numbers:\n",
    "        length +=1\n",
    "   \n",
    "    mean_list = sum/length\n",
    "    \n",
    "    return mean_list"
   ]
  },
  {
   "cell_type": "markdown",
   "metadata": {
    "application/vnd.databricks.v1+cell": {
     "cellMetadata": {
      "byteLimit": 2048000,
      "rowLimit": 10000
     },
     "inputWidgets": {},
     "nuid": "bb9ffd84-e8e3-4c12-bf95-2aa0b0dff444",
     "showTitle": false,
     "title": ""
    }
   },
   "source": [
    "Doesn't this function seem a bit long for you? And we would have to write how to find the sum and how to find the length each time we want to perform such action. To write `find_sum()` and `find_length()` outside of the `average()` function enable us to not only use these two functions inside `average()`, but also all the other functions that need these two functions. \n",
    "\n",
    "Of course we can also shorten our average function like this:"
   ]
  },
  {
   "cell_type": "code",
   "execution_count": 0,
   "metadata": {
    "application/vnd.databricks.v1+cell": {
     "cellMetadata": {
      "byteLimit": 2048000,
      "rowLimit": 10000
     },
     "inputWidgets": {},
     "nuid": "b8e47324-0159-4c15-beda-f6ea2c7ca11f",
     "showTitle": false,
     "title": ""
    }
   },
   "outputs": [],
   "source": [
    "def average(list_of_numbers):\n",
    "    return find_sum(list_of_numbers)/find_length(list_of_numbers)"
   ]
  },
  {
   "cell_type": "markdown",
   "metadata": {
    "application/vnd.databricks.v1+cell": {
     "cellMetadata": {
      "byteLimit": 2048000,
      "rowLimit": 10000
     },
     "inputWidgets": {},
     "nuid": "70c61955-592d-45c3-b31e-73a1a269cb90",
     "showTitle": false,
     "title": ""
    }
   },
   "source": [
    "Which looks super concise and neat. Now let's do a little more practice with writing and combining functions.\n",
    "\n",
    "### Task 1.6.9:\n",
    "Write a function named `mean()` that computes the mean for any column we want from a data set. Keep in mind reusability\n",
    "\n",
    "- This function takes in two inputs: a data set and an index value\n",
    "- Recreate the three functions we've already discussed before:\n",
    "    - A function `extract()` which takes in a data set and an index and returns the column of the data set corresponding to that index. \n",
    "    - A function `find_sum()` which takes in a list and returns the sum of all the elements in the list. \n",
    "    - A function `find_length()` which takes in a list and returns the length of that list.\n",
    "- Inside the body of the `mean()` function, use the `extract()` function to extract the values of a column into a separate list, and compute the mean by using `find_sum()` and `find_length()`.\n",
    "- The function should then return the mean of the column.\n",
    "\n",
    "Use the `mean()` function to compute the mean of the price column (index number 4) of `apps_data` and assign the result to a variable named `avg_price`."
   ]
  },
  {
   "cell_type": "code",
   "execution_count": 0,
   "metadata": {
    "application/vnd.databricks.v1+cell": {
     "cellMetadata": {
      "byteLimit": 2048000,
      "rowLimit": 10000
     },
     "inputWidgets": {},
     "nuid": "1e95ed8b-d23e-444e-90c0-87b3b8db86e5",
     "showTitle": false,
     "title": ""
    }
   },
   "outputs": [],
   "source": [
    "# Start your code below:\n",
    "\n",
    "def extract(data_set, index):\n",
    "    column = []    \n",
    "    for row in data_set[1:]:\n",
    "        value = row[index]\n",
    "        column.append(value)    \n",
    "    return column\n",
    "\n",
    "def find_sum(a_list):\n",
    "    a_sum = 0\n",
    "    for element in a_list:\n",
    "        a_sum += float(element)\n",
    "    return a_sum\n",
    "\n",
    "def find_length(a_list):\n",
    "    a_length = 0\n",
    "    for element in a_list:\n",
    "        a_length += 1\n",
    "    return a_length\n",
    "\n",
    "def mean(data_set, index):\n",
    "    column = extract(apps_data, index)\n",
    "    mean = find_sum(column) / find_length(column)\n",
    "    return mean\n",
    "\n",
    "avg_price = mean(apps_data, 4)\n",
    "\n",
    "print(avg_price)"
   ]
  },
  {
   "cell_type": "markdown",
   "metadata": {
    "application/vnd.databricks.v1+cell": {
     "cellMetadata": {
      "byteLimit": 2048000,
      "rowLimit": 10000
     },
     "inputWidgets": {},
     "nuid": "69661778-ddbe-4649-909d-680fde8a0a20",
     "showTitle": false,
     "title": ""
    }
   },
   "source": [
    "## 10. Function vs. Method\n",
    "\n",
    "What is actually the difference between function and method? Let's take a closer look."
   ]
  },
  {
   "cell_type": "markdown",
   "metadata": {
    "application/vnd.databricks.v1+cell": {
     "cellMetadata": {
      "byteLimit": 2048000,
      "rowLimit": 10000
     },
     "inputWidgets": {},
     "nuid": "77c670aa-b866-41d8-b24c-f5c981f98d9a",
     "showTitle": false,
     "title": ""
    }
   },
   "source": [
    "Definition of function: \n",
    "> A function is a block of code which only runs when it is called. You can pass data, known as parameters, into a function. A function can return data as a result. (w3schools)\n",
    "\n",
    "Remember at the beginning of the chapter we learned that to construct a function we need: **header** (which contains the def statement), **body** (where the magic happens), and **return statement**. You can think of function as it always **returns** something. (In case nothing is explicitly returned, a function automatically returns `None`.)\n",
    "\n",
    "See the example below:"
   ]
  },
  {
   "cell_type": "code",
   "execution_count": 0,
   "metadata": {
    "application/vnd.databricks.v1+cell": {
     "cellMetadata": {
      "byteLimit": 2048000,
      "rowLimit": 10000
     },
     "inputWidgets": {},
     "nuid": "60409ebb-fafc-4d50-910b-8a908a75ab81",
     "showTitle": false,
     "title": ""
    }
   },
   "outputs": [],
   "source": [
    "# test() is a function that prints \"test\" but returns nothing (or NONE)\n",
    "def test():\n",
    "    print(\"test\")\n",
    "\n",
    "a = test()\n",
    "print(a)"
   ]
  },
  {
   "cell_type": "markdown",
   "metadata": {
    "application/vnd.databricks.v1+cell": {
     "cellMetadata": {
      "byteLimit": 2048000,
      "rowLimit": 10000
     },
     "inputWidgets": {},
     "nuid": "c674ce6c-2387-4367-a9df-e6bdc042f1f5",
     "showTitle": false,
     "title": ""
    }
   },
   "source": [
    "There are two types of functions in Python: \n",
    "- `User-Defined Functions` (like in the example above)\n",
    "- `Built-in Functions`\n",
    "\n",
    "`Built-in functions` are the functions that Python provides us with. For example, like the `sum()` function that we encountered previously.\n",
    "\n",
    "See example below:"
   ]
  },
  {
   "cell_type": "code",
   "execution_count": 0,
   "metadata": {
    "application/vnd.databricks.v1+cell": {
     "cellMetadata": {
      "byteLimit": 2048000,
      "rowLimit": 10000
     },
     "inputWidgets": {},
     "nuid": "df32b4f2-0d1e-4812-8ccd-5103a0b7de4c",
     "showTitle": false,
     "title": ""
    }
   },
   "outputs": [],
   "source": [
    "my_list = [1,2,3,4,5,6,7,8,9,10]\n",
    "\n",
    "# sum() is an example of Python built-in function\n",
    "sum(my_list)"
   ]
  },
  {
   "cell_type": "markdown",
   "metadata": {
    "application/vnd.databricks.v1+cell": {
     "cellMetadata": {
      "byteLimit": 2048000,
      "rowLimit": 10000
     },
     "inputWidgets": {},
     "nuid": "ae7fbe99-c218-4cde-bdf2-b852f6bac625",
     "showTitle": false,
     "title": ""
    }
   },
   "source": [
    "`Method` is basically a function that is associated with a **class**. Generally, A function is associated with a **super class** - an **object**, as are all things in python.\n",
    "We will learn more about objects in a later chapter. For now, let's take a peak into what is possible. \n",
    "\n",
    "The **General Method Syntax** goes like this:"
   ]
  },
  {
   "cell_type": "markdown",
   "metadata": {
    "application/vnd.databricks.v1+cell": {
     "cellMetadata": {
      "byteLimit": 2048000,
      "rowLimit": 10000
     },
     "inputWidgets": {},
     "nuid": "d8d0c04a-524b-432c-896d-7ee989542f74",
     "showTitle": false,
     "title": ""
    }
   },
   "source": [
    "````python\n",
    "class NameOfTheClass:\n",
    "    def method_name():\n",
    "    ..................\n",
    "    # Method_Body\n",
    "    .............\n",
    "    \n",
    "````"
   ]
  },
  {
   "cell_type": "markdown",
   "metadata": {
    "application/vnd.databricks.v1+cell": {
     "cellMetadata": {
      "byteLimit": 2048000,
      "rowLimit": 10000
     },
     "inputWidgets": {},
     "nuid": "9a78aaa3-2900-4f65-8f10-16bb61e3787c",
     "showTitle": false,
     "title": ""
    }
   },
   "source": [
    "Now let's see a concrete example of method:"
   ]
  },
  {
   "cell_type": "code",
   "execution_count": 0,
   "metadata": {
    "application/vnd.databricks.v1+cell": {
     "cellMetadata": {
      "byteLimit": 2048000,
      "rowLimit": 10000
     },
     "inputWidgets": {},
     "nuid": "91eee3e3-2704-4155-9ba7-8ebe2f32d9ff",
     "showTitle": false,
     "title": ""
    }
   },
   "outputs": [],
   "source": [
    "class ComputerScience(object):\n",
    "    def my_method(self):\n",
    "        print(\"We are learning Python!\")\n",
    "        \n",
    "        \n",
    "python = ComputerScience()\n",
    "python.my_method()"
   ]
  },
  {
   "cell_type": "markdown",
   "metadata": {
    "application/vnd.databricks.v1+cell": {
     "cellMetadata": {
      "byteLimit": 2048000,
      "rowLimit": 10000
     },
     "inputWidgets": {},
     "nuid": "e3f03b66-95c4-4ba8-8026-d9f24506f686",
     "showTitle": false,
     "title": ""
    }
   },
   "source": [
    "In the example above we have defined a class called `ComputerScience`. Afterwards we created an object called `python` from the class blueprint. We then called our custom-defined method called `my_method` with our object `python`.\n",
    "\n",
    "Do you now see the difference?\n",
    "\n",
    ">Differently than a function, methods are called on an object. \n",
    "\n",
    "Like in the example above, we called our method `my_method` from our object `python`."
   ]
  }
 ],
 "metadata": {
  "application/vnd.databricks.v1+notebook": {
   "dashboards": [],
   "environmentMetadata": null,
   "language": "python",
   "notebookMetadata": {
    "pythonIndentUnit": 2
   },
   "notebookName": "[Answer]6_Functions_Fundamentals",
   "widgets": {}
  },
  "kernelspec": {
   "display_name": "Python 3",
   "language": "python",
   "name": "python3"
  },
  "language_info": {
   "codemirror_mode": {
    "name": "ipython",
    "version": 3
   },
   "file_extension": ".py",
   "mimetype": "text/x-python",
   "name": "python",
   "nbconvert_exporter": "python",
   "pygments_lexer": "ipython3",
   "version": "3.7.1"
  }
 },
 "nbformat": 4,
 "nbformat_minor": 0
}
