{
 "cells": [
  {
   "cell_type": "markdown",
   "metadata": {
    "application/vnd.databricks.v1+cell": {
     "cellMetadata": {
      "byteLimit": 2048000,
      "rowLimit": 10000
     },
     "inputWidgets": {},
     "nuid": "5a762379-84da-42b9-a1c5-5e7326f66ed8",
     "showTitle": false,
     "title": ""
    }
   },
   "source": [
    "## About This Notebook\n",
    "\n",
    "In this notebook we are going to dig into new topics. We will dig into logic and logical operators. In essence, when we code, we often want to control the *flow* of our code. For example, **IF** it is sunny, **THEN** go outside, **ELSE** stay inside. We are controlling the flow of what is happening with operators such as ``if``, ``or``, ``else``. We are going to discuss these three operators in this notebook.\n",
    "***"
   ]
  },
  {
   "cell_type": "markdown",
   "metadata": {
    "application/vnd.databricks.v1+cell": {
     "cellMetadata": {
      "byteLimit": 2048000,
      "rowLimit": 10000
     },
     "inputWidgets": {},
     "nuid": "67bb5695-490c-4a07-b48f-6cdcb3ef7a9e",
     "showTitle": false,
     "title": ""
    }
   },
   "source": [
    "## 1. If Statements"
   ]
  },
  {
   "cell_type": "code",
   "execution_count": 0,
   "metadata": {
    "application/vnd.databricks.v1+cell": {
     "cellMetadata": {
      "byteLimit": 2048000,
      "rowLimit": 10000
     },
     "inputWidgets": {},
     "nuid": "86ff2b02-773e-4650-a546-caf866899d65",
     "showTitle": false,
     "title": ""
    }
   },
   "outputs": [],
   "source": [
    "from csv import reader\n",
    "\n",
    "with open('../../../../../Data/AppleStore.csv', encoding = 'utf8') as opened_file:\n",
    "  read_file = reader(opened_file)\n",
    "  apps_data = list(read_file)"
   ]
  },
  {
   "cell_type": "markdown",
   "metadata": {
    "application/vnd.databricks.v1+cell": {
     "cellMetadata": {
      "byteLimit": 2048000,
      "rowLimit": 10000
     },
     "inputWidgets": {},
     "nuid": "9948cd11-891a-4d34-b212-064cb04d438a",
     "showTitle": false,
     "title": ""
    }
   },
   "source": [
    "We have previously computed the average rating for all 7197 mobile apps. But there is more information for us to dig through. We might want to answer more granular questions like:\n",
    "- What's the average rating of non-free apps?\n",
    "- What's the average rating of free apps?\n",
    "\n",
    "In order to answer the two questions above, **we need to first separate free apps from non-free apps** and compute the average ratings just like we did in the previous chapter.\n",
    "\n",
    "Before we isolate the ratings of the free apps from the non-free apps, let's quickly learn another useful command for lists, namely `list_name.append()`.\n",
    "See the code below:"
   ]
  },
  {
   "cell_type": "code",
   "execution_count": 0,
   "metadata": {
    "application/vnd.databricks.v1+cell": {
     "cellMetadata": {
      "byteLimit": 2048000,
      "rowLimit": 10000
     },
     "inputWidgets": {},
     "nuid": "8d438258-849b-45ce-9de3-ff5cdd7e4625",
     "showTitle": false,
     "title": ""
    }
   },
   "outputs": [],
   "source": [
    "number_list = [1,2,3]\n",
    "number_list.append(4)\n",
    "print(number_list)"
   ]
  },
  {
   "cell_type": "markdown",
   "metadata": {
    "application/vnd.databricks.v1+cell": {
     "cellMetadata": {
      "byteLimit": 2048000,
      "rowLimit": 10000
     },
     "inputWidgets": {},
     "nuid": "10ca5643-3c37-48f6-81bb-4bf3d114ea9b",
     "showTitle": false,
     "title": ""
    }
   },
   "source": [
    "As you can see, `number_list.append(4)` not only added the number 4 to the end our list, but it also modified the variable `number_list` in doing so, without having the reassign.\n",
    "\n",
    "Let's use this to create a new list containing only the ratings of the apps from `apps_data`. Note that we are iterating through `apps_data[1:]`, as the first row of `apps_data` (at index 0) contains the header of the dataset. "
   ]
  },
  {
   "cell_type": "code",
   "execution_count": 0,
   "metadata": {
    "application/vnd.databricks.v1+cell": {
     "cellMetadata": {
      "byteLimit": 2048000,
      "rowLimit": 10000
     },
     "inputWidgets": {},
     "nuid": "7797546a-b640-4c6a-a943-3e73c0a81493",
     "showTitle": false,
     "title": ""
    }
   },
   "outputs": [],
   "source": [
    "from csv import reader\n",
    "\n",
    "with open('../../../../../Data/AppleStore.csv', encoding = 'utf8') as opened_file:\n",
    "    read_file = reader(opened_file)\n",
    "    apps_data = list(read_file)\n",
    "\n",
    "ratings = []\n",
    "for row in apps_data[1:]:\n",
    "    rating = float(row[7])\n",
    "    ratings.append(rating)\n",
    "    \n",
    "print(ratings[:5])"
   ]
  },
  {
   "cell_type": "markdown",
   "metadata": {
    "application/vnd.databricks.v1+cell": {
     "cellMetadata": {
      "byteLimit": 2048000,
      "rowLimit": 10000
     },
     "inputWidgets": {},
     "nuid": "3ffa1a18-fec4-4f1c-853a-9a4166f84c10",
     "showTitle": false,
     "title": ""
    }
   },
   "source": [
    "In the code above, there is a problem with the ratings list. It includes both the ratings for the free and non-free apps. How do we only extract the ratings of the free apps? We can add a <b> condition </b> to our code above. \n",
    "To differentiate free apps from non-free apps, free apps always have a price which is equal to 0.0. \n",
    "\n",
    "So if we implement a conditional statement where the price is equal to 0.0, then we will add this app to our ratings list. \n",
    "\n",
    "We can achieve this by using an `if` statement like below:"
   ]
  },
  {
   "cell_type": "code",
   "execution_count": 0,
   "metadata": {
    "application/vnd.databricks.v1+cell": {
     "cellMetadata": {
      "byteLimit": 2048000,
      "rowLimit": 10000
     },
     "inputWidgets": {},
     "nuid": "59ecd3ca-0c9d-41e1-8290-e6d5fbe6606b",
     "showTitle": false,
     "title": ""
    }
   },
   "outputs": [],
   "source": [
    "ratings = []\n",
    "for row in apps_data[1:]:  #we iterated over the apps_data[1:]\n",
    "    rating = float(row[7]) #Assign the rating as a float to a variable named rating.\n",
    "    price = float(row[4])  #Assign the price as a float to a variable named price.\n",
    "    \n",
    "    if price == 0.0: #If the price is equal to 0.0, that means this is a free app\n",
    "        ratings.append(rating) # we append the rating to the ratings list"
   ]
  },
  {
   "cell_type": "markdown",
   "metadata": {
    "application/vnd.databricks.v1+cell": {
     "cellMetadata": {
      "byteLimit": 2048000,
      "rowLimit": 10000
     },
     "inputWidgets": {},
     "nuid": "003d847a-c762-4da6-931a-2d22fd344fc3",
     "showTitle": false,
     "title": ""
    }
   },
   "source": [
    "In the code above, we have learned about the basics of the `if` statement.\n",
    "- An if statement starts with `if` and it ends with `:` (just like the for loop)\n",
    "- We use the `==` operator to check whether the price is equal to 0.0. Pay attention that `==` is not the same with `=`. (`=` is a variable assignment operator)\n",
    "- `ratings.append(rating)` will only be executed if the if statement is true."
   ]
  },
  {
   "cell_type": "markdown",
   "metadata": {
    "application/vnd.databricks.v1+cell": {
     "cellMetadata": {
      "byteLimit": 2048000,
      "rowLimit": 10000
     },
     "inputWidgets": {},
     "nuid": "aaf37cf8-a933-43b4-9b7c-b1ee3fe6e7a1",
     "showTitle": false,
     "title": ""
    }
   },
   "source": [
    "### Task 1.4.1:\n",
    "Complete the code in the editor to find the average rating for free apps.\n",
    "\n",
    "1. Inside the for loop:\n",
    "2. Assign the price of an app as a float to a variable named ``price``. The price is the fifth element in each row (don't forget that the index starts at 0).\n",
    "3. If `price == 0.0`, append the value stored in rating to the `free_apps_ratings` list using the `list_name.append()` command (note the `free_apps_ratings` is already defined in the code editor). Be careful with indentation.\n",
    "4. Outside the for loop body, compute the average rating of free apps. Assign the result to a variable named ``avg_rating_free``. The ratings are stored in the `free_apps_ratings` list. Hint: sum(...) / len(...)"
   ]
  },
  {
   "cell_type": "code",
   "execution_count": 0,
   "metadata": {
    "application/vnd.databricks.v1+cell": {
     "cellMetadata": {
      "byteLimit": 2048000,
      "rowLimit": 10000
     },
     "inputWidgets": {},
     "nuid": "91b80767-b7a7-4cc3-9448-5fde2faf6ed3",
     "showTitle": false,
     "title": ""
    }
   },
   "outputs": [],
   "source": [
    "## Start your code below:\n",
    "from csv import reader\n",
    "\n",
    "with open('../../../../../Data/AppleStore.csv', encoding = 'utf8') as opened_file:\n",
    "    read_file = reader(opened_file)\n",
    "    apps_data = list(read_file)\n",
    "\n",
    "free_apps_ratings = []\n",
    "for row in apps_data[1:]:\n",
    "    rating = float(row[7])\n",
    "    # Complete the code from here\n",
    "    price = float(row[4])\n",
    "    if price == 0.0:\n",
    "        free_apps_ratings.append(rating)\n",
    "\n",
    "avg_rating_free = sum(free_apps_ratings) / len(free_apps_ratings)\n",
    "\n",
    "print(avg_rating_free)"
   ]
  },
  {
   "cell_type": "markdown",
   "metadata": {
    "application/vnd.databricks.v1+cell": {
     "cellMetadata": {
      "byteLimit": 2048000,
      "rowLimit": 10000
     },
     "inputWidgets": {},
     "nuid": "3b53cae4-8d13-409d-8169-cfb8ce0ec52c",
     "showTitle": false,
     "title": ""
    }
   },
   "source": [
    "## 2. Booleans\n",
    "\n",
    "In the previous function, we have used if `price == 0.0` to check whether price is equal to 0.0.\n",
    "When we use the `==` operator to determine if two values are equal or not, the output returned will always be `True` or `False`."
   ]
  },
  {
   "cell_type": "code",
   "execution_count": 0,
   "metadata": {
    "application/vnd.databricks.v1+cell": {
     "cellMetadata": {
      "byteLimit": 2048000,
      "rowLimit": 10000
     },
     "inputWidgets": {},
     "nuid": "ba3b7cb3-7610-4b7e-9ca9-d1d01f10ebcb",
     "showTitle": false,
     "title": ""
    }
   },
   "outputs": [],
   "source": [
    "print(10 == 10) #It's true that 10 is equal to 10\n",
    "print(10 == 2)  #It's false that 10 is equal to 2"
   ]
  },
  {
   "cell_type": "markdown",
   "metadata": {
    "application/vnd.databricks.v1+cell": {
     "cellMetadata": {
      "byteLimit": 2048000,
      "rowLimit": 10000
     },
     "inputWidgets": {},
     "nuid": "fa8d07da-04b6-4362-a3ad-e927e1ffef98",
     "showTitle": false,
     "title": ""
    }
   },
   "source": [
    "Do you know the type of True and False?\n",
    "They are **booleans**."
   ]
  },
  {
   "cell_type": "code",
   "execution_count": 0,
   "metadata": {
    "application/vnd.databricks.v1+cell": {
     "cellMetadata": {
      "byteLimit": 2048000,
      "rowLimit": 10000
     },
     "inputWidgets": {},
     "nuid": "c88d974b-21ea-4866-8658-f61fd1486d2c",
     "showTitle": false,
     "title": ""
    }
   },
   "outputs": [],
   "source": [
    "type(True)"
   ]
  },
  {
   "cell_type": "code",
   "execution_count": 0,
   "metadata": {
    "application/vnd.databricks.v1+cell": {
     "cellMetadata": {
      "byteLimit": 2048000,
      "rowLimit": 10000
     },
     "inputWidgets": {},
     "nuid": "6d83858a-624f-4cd9-8ca8-e5791074f5a1",
     "showTitle": false,
     "title": ""
    }
   },
   "outputs": [],
   "source": [
    "type(False)"
   ]
  },
  {
   "cell_type": "markdown",
   "metadata": {
    "application/vnd.databricks.v1+cell": {
     "cellMetadata": {
      "byteLimit": 2048000,
      "rowLimit": 10000
     },
     "inputWidgets": {},
     "nuid": "63e3b9c2-22b0-4012-91df-4cd7b13a9831",
     "showTitle": false,
     "title": ""
    }
   },
   "source": [
    "Boolean values, which are True and False, are very important to any if statement.\n",
    "An if statement must always be followed by one of the following:\n",
    "\n",
    "1. a Boolean value, or\n",
    "2. an expression that evaluates to a Boolean value.\n",
    "\n",
    "So it always has something to do with a Boolean value."
   ]
  },
  {
   "cell_type": "code",
   "execution_count": 0,
   "metadata": {
    "application/vnd.databricks.v1+cell": {
     "cellMetadata": {
      "byteLimit": 2048000,
      "rowLimit": 10000
     },
     "inputWidgets": {},
     "nuid": "45e75edc-2267-47df-b5c8-a20178d5d8a1",
     "showTitle": false,
     "title": ""
    }
   },
   "outputs": [],
   "source": [
    "#1. A Boolean value.\n",
    "\n",
    "if True:\n",
    "    print(10)"
   ]
  },
  {
   "cell_type": "code",
   "execution_count": 0,
   "metadata": {
    "application/vnd.databricks.v1+cell": {
     "cellMetadata": {
      "byteLimit": 2048000,
      "rowLimit": 10000
     },
     "inputWidgets": {},
     "nuid": "deeea594-81d1-4370-b3e0-4b9e2e777a0a",
     "showTitle": false,
     "title": ""
    }
   },
   "outputs": [],
   "source": [
    "#2. An expression that evaluates to a Boolean value.\n",
    "if 10 == 10:\n",
    "    print(10)"
   ]
  },
  {
   "cell_type": "markdown",
   "metadata": {
    "application/vnd.databricks.v1+cell": {
     "cellMetadata": {
      "byteLimit": 2048000,
      "rowLimit": 10000
     },
     "inputWidgets": {},
     "nuid": "95208221-df29-4dae-8d07-b22695c83075",
     "showTitle": false,
     "title": ""
    }
   },
   "source": [
    "Pay attention: if you evaluate the expression with just one ``=``, you will get an error like this:"
   ]
  },
  {
   "cell_type": "code",
   "execution_count": 0,
   "metadata": {
    "application/vnd.databricks.v1+cell": {
     "cellMetadata": {
      "byteLimit": 2048000,
      "rowLimit": 10000
     },
     "inputWidgets": {},
     "nuid": "c4bd71c7-2244-4ce5-8ce0-bda23cf7f146",
     "showTitle": false,
     "title": ""
    }
   },
   "outputs": [],
   "source": [
    "# = is not the same as ==, a SyntaxError will be thrown\n",
    "if 10 = 10:\n",
    "    print(10)"
   ]
  },
  {
   "cell_type": "markdown",
   "metadata": {
    "application/vnd.databricks.v1+cell": {
     "cellMetadata": {
      "byteLimit": 2048000,
      "rowLimit": 10000
     },
     "inputWidgets": {},
     "nuid": "1d8feb78-1b55-4064-981c-58266efc1d0b",
     "showTitle": false,
     "title": ""
    }
   },
   "source": [
    "The indented code is only executed when if is followed by True. The code body will no be executed if the if is followed by False. See the example below:"
   ]
  },
  {
   "cell_type": "code",
   "execution_count": 0,
   "metadata": {
    "application/vnd.databricks.v1+cell": {
     "cellMetadata": {
      "byteLimit": 2048000,
      "rowLimit": 10000
     },
     "inputWidgets": {},
     "nuid": "b5ffabf4-bdde-4cbf-bc5a-01625b983622",
     "showTitle": false,
     "title": ""
    }
   },
   "outputs": [],
   "source": [
    "if True:\n",
    "    print('This boolean is true.')\n",
    "\n",
    "if False:\n",
    "    print('This code will not be executed.')\n",
    "\n",
    "if True:\n",
    "    print('The code above was not executed because \"if\" was followed by \"False\".')"
   ]
  },
  {
   "cell_type": "markdown",
   "metadata": {
    "application/vnd.databricks.v1+cell": {
     "cellMetadata": {
      "byteLimit": 2048000,
      "rowLimit": 10000
     },
     "inputWidgets": {},
     "nuid": "95cfd828-cf8e-4bc2-93be-16ec056d890b",
     "showTitle": false,
     "title": ""
    }
   },
   "source": [
    "Note that we can write as much code as we want after the if statement like this:"
   ]
  },
  {
   "cell_type": "code",
   "execution_count": 0,
   "metadata": {
    "application/vnd.databricks.v1+cell": {
     "cellMetadata": {
      "byteLimit": 2048000,
      "rowLimit": 10000
     },
     "inputWidgets": {},
     "nuid": "46da15be-967b-49f7-9175-b16c303ff120",
     "showTitle": false,
     "title": ""
    }
   },
   "outputs": [],
   "source": [
    "if True:\n",
    "    print(10)\n",
    "    print(100)\n",
    "    print(1000)"
   ]
  },
  {
   "cell_type": "markdown",
   "metadata": {
    "application/vnd.databricks.v1+cell": {
     "cellMetadata": {
      "byteLimit": 2048000,
      "rowLimit": 10000
     },
     "inputWidgets": {},
     "nuid": "40dbd410-9b8a-4b7f-adf7-92cf0462b676",
     "showTitle": false,
     "title": ""
    }
   },
   "source": [
    "### Task 1.4.2:\n",
    "\n",
    "In the code editor, we've already initialized the variable <b> price </b> with a value of 0.\n",
    "Write the code so it matches the following:\n",
    "1. If price is equal to 0, print the string 'This is free'\n",
    "2. If price is equal to 1, print the string 'This is not free'"
   ]
  },
  {
   "cell_type": "code",
   "execution_count": 0,
   "metadata": {
    "application/vnd.databricks.v1+cell": {
     "cellMetadata": {
      "byteLimit": 2048000,
      "rowLimit": 10000
     },
     "inputWidgets": {},
     "nuid": "7cf94698-0f5e-49c4-810c-1b32ee54143b",
     "showTitle": false,
     "title": ""
    }
   },
   "outputs": [],
   "source": [
    "price = 0\n",
    "\n",
    "#start your code here:\n",
    "\n",
    "if price == 0:\n",
    "    print(\"This is free\")\n",
    "else:\n",
    "    print(\"This is not free\")"
   ]
  },
  {
   "cell_type": "markdown",
   "metadata": {
    "application/vnd.databricks.v1+cell": {
     "cellMetadata": {
      "byteLimit": 2048000,
      "rowLimit": 10000
     },
     "inputWidgets": {},
     "nuid": "4de9051d-838a-4c7a-89c9-3afd24995cd9",
     "showTitle": false,
     "title": ""
    }
   },
   "source": [
    "## 3. The Average Rating of Non-free Apps\n",
    "\n",
    "In the diagram below, we created a list of lists named `app_and_price`, and we want to extract the names of the free apps in a separate list. To do that, we:"
   ]
  },
  {
   "cell_type": "code",
   "execution_count": 0,
   "metadata": {
    "application/vnd.databricks.v1+cell": {
     "cellMetadata": {
      "byteLimit": 2048000,
      "rowLimit": 10000
     },
     "inputWidgets": {},
     "nuid": "f8551b2c-c1fc-4dc2-a803-4c27e3eedd10",
     "showTitle": false,
     "title": ""
    }
   },
   "outputs": [],
   "source": [
    "app_and_price = [['Facebook', 0], ['Instagram', 0], ['Plants vs. Zombies', 0.99], \n",
    "                 ['Minecraft: Pocket Edition', 6.99], ['Temple Run', 0],\n",
    "                 ['Plague Inc', 0.99]]\n",
    "\n",
    "#create an empty list named free_apps\n",
    "free_apps = []\n",
    "\n",
    "#iterate over app_and_price\n",
    "for app in app_and_price: # for each iteration, we:\n",
    "    name = app[0]         # extract the name of the app and assign it to name\n",
    "    price = app[1]        # extract the price of the app and assign it to price \n",
    "    \n",
    "    if price == 0: # if the price of the app is equal to 0\n",
    "        free_apps.append(name) # append the name of the app to free_apps\n",
    "        \n",
    "print(free_apps)"
   ]
  },
  {
   "cell_type": "markdown",
   "metadata": {
    "application/vnd.databricks.v1+cell": {
     "cellMetadata": {
      "byteLimit": 2048000,
      "rowLimit": 10000
     },
     "inputWidgets": {},
     "nuid": "a68ed4a0-3a1c-4c29-a984-d2451bc47a09",
     "showTitle": false,
     "title": ""
    }
   },
   "source": [
    "Do you remember a very similar example that we did at the beginning of this chapter?"
   ]
  },
  {
   "cell_type": "code",
   "execution_count": 0,
   "metadata": {
    "application/vnd.databricks.v1+cell": {
     "cellMetadata": {
      "byteLimit": 2048000,
      "rowLimit": 10000
     },
     "inputWidgets": {},
     "nuid": "9dd1cd7d-bb99-44db-8148-176802558506",
     "showTitle": false,
     "title": ""
    }
   },
   "outputs": [],
   "source": [
    "#Import data set\n",
    "from csv import reader\n",
    "\n",
    "with open('../../../../../Data/AppleStore.csv', encoding = 'utf8') as opened_file:\n",
    "    read_file = reader(opened_file)\n",
    "    apps_data = list(read_file)\n",
    "\n",
    "ratings = []\n",
    "for row in apps_data[1:]:  # we looped through a list of lists named apps_data\n",
    "    rating = float(row[7]) # extract the rating of the app and assign the rating as a float to a variable named rating.\n",
    "    price = float(row[4])  # extract the price of the app and assign the price as a float to a variable named price.\n",
    "    \n",
    "    if price == 0.0: # If the price is equal to 0.0, that means this is a free app\n",
    "        ratings.append(rating) # we append the rating to the ratings list"
   ]
  },
  {
   "cell_type": "markdown",
   "metadata": {
    "application/vnd.databricks.v1+cell": {
     "cellMetadata": {
      "byteLimit": 2048000,
      "rowLimit": 10000
     },
     "inputWidgets": {},
     "nuid": "8264bc49-4093-4412-a944-3c66b6c0190f",
     "showTitle": false,
     "title": ""
    }
   },
   "source": [
    "These two functions basically do the same task. To extract free apps from a mixed list of free and non-free apps.\n",
    "\n",
    "When we want to extract the free apps from the list, we used the condition \"if the price is equal to 0.0\" (`if price == 0.0`).\n",
    "How do we extract the non-free apps then? The \"is not equal to\" operator comes in the place. What we have done so far is by using the \"is equal to\" operator which is just the same as `==`. And if we want to extract the non-free apps, we can use the \"is not equal to\" operator which is just like this: `!=`.\n",
    "See the example below:\n"
   ]
  },
  {
   "cell_type": "code",
   "execution_count": 0,
   "metadata": {
    "application/vnd.databricks.v1+cell": {
     "cellMetadata": {
      "byteLimit": 2048000,
      "rowLimit": 10000
     },
     "inputWidgets": {},
     "nuid": "2d4bf5d6-23c3-4ab5-9577-586a13cf1cb8",
     "showTitle": false,
     "title": ""
    }
   },
   "outputs": [],
   "source": [
    "print(10 != 0)\n",
    "print(10 != 10)"
   ]
  },
  {
   "cell_type": "markdown",
   "metadata": {
    "application/vnd.databricks.v1+cell": {
     "cellMetadata": {
      "byteLimit": 2048000,
      "rowLimit": 10000
     },
     "inputWidgets": {},
     "nuid": "5e57dc84-1fc1-4720-a31a-3138add17c73",
     "showTitle": false,
     "title": ""
    }
   },
   "source": [
    "How can we use the `!=` operator for our price variable then? It could look as follows:"
   ]
  },
  {
   "cell_type": "code",
   "execution_count": 0,
   "metadata": {
    "application/vnd.databricks.v1+cell": {
     "cellMetadata": {
      "byteLimit": 2048000,
      "rowLimit": 10000
     },
     "inputWidgets": {},
     "nuid": "c4136072-a69d-4bbd-a6a8-60613b1ed65e",
     "showTitle": false,
     "title": ""
    }
   },
   "outputs": [],
   "source": [
    "price = 10\n",
    "\n",
    "print(price != 0)\n",
    "print(price != 10)\n",
    "\n",
    "if price != 0:\n",
    "    print('Not free')\n",
    "    \n",
    "if price != 10:\n",
    "    print('Price is not equal to 10')"
   ]
  },
  {
   "cell_type": "markdown",
   "metadata": {
    "application/vnd.databricks.v1+cell": {
     "cellMetadata": {
      "byteLimit": 2048000,
      "rowLimit": 10000
     },
     "inputWidgets": {},
     "nuid": "8112bda7-77e7-4573-b77c-e712fdb4dd33",
     "showTitle": false,
     "title": ""
    }
   },
   "source": [
    "### Task 1.4.3 (OPTIONAL): \n",
    "\n",
    "Can you modify the code in the editor below to computer ``the average rating of non-free apps``?\n",
    "\n",
    "1. Change the name of the empty list from `free_apps_ratings` to `non_free_apps_raings`.\n",
    "2. Change the conditional statement `if price == 0.0` to extract the ratings of non-free apps.\n",
    "3. Change `free_apps_ratings.append(rating)` and append to the new list `non_free_apps_ratings`.\n",
    "4. Compute the average value by summing up the values in `non_free_apps_ratings` and dividing by the length of this list. Assign the result to ``avg_rating_non_free``.\n"
   ]
  },
  {
   "cell_type": "code",
   "execution_count": 0,
   "metadata": {
    "application/vnd.databricks.v1+cell": {
     "cellMetadata": {
      "byteLimit": 2048000,
      "rowLimit": 10000
     },
     "inputWidgets": {},
     "nuid": "f02473fb-569e-404e-809d-4587a82dd060",
     "showTitle": false,
     "title": ""
    }
   },
   "outputs": [],
   "source": [
    "# INITIAL CODE\n",
    "from csv import reader\n",
    "\n",
    "with open('../../../../../Data/AppleStore.csv', encoding = 'utf8') as opened_file:\n",
    "    read_file = reader(opened_file)\n",
    "    apps_data = list(read_file)\n",
    "\n",
    "non_free_apps_ratings = []\n",
    "for row in apps_data[1:]:\n",
    "    rating = float(row[7])\n",
    "    price = float(row[4])   \n",
    "    if price != 0.0:\n",
    "        non_free_apps_ratings.append(rating)\n",
    "    \n",
    "avg_rating_non_free = sum(non_free_apps_ratings) / len(non_free_apps_ratings)\n",
    "\n",
    "print(avg_rating_non_free)"
   ]
  },
  {
   "cell_type": "markdown",
   "metadata": {
    "application/vnd.databricks.v1+cell": {
     "cellMetadata": {
      "byteLimit": 2048000,
      "rowLimit": 10000
     },
     "inputWidgets": {},
     "nuid": "20910d66-d046-417d-815d-97772ebd9d1a",
     "showTitle": false,
     "title": ""
    }
   },
   "source": [
    "## 4. The Average Rating of Gaming Apps\n",
    "We have learned about the ``==`` and ``!=`` operators, and have only worked with integers and floats. Do you know we can use these two operators with other data types as well? "
   ]
  },
  {
   "cell_type": "code",
   "execution_count": 0,
   "metadata": {
    "application/vnd.databricks.v1+cell": {
     "cellMetadata": {
      "byteLimit": 2048000,
      "rowLimit": 10000
     },
     "inputWidgets": {},
     "nuid": "9df929d0-bb00-48b1-a09b-56b7d5d2a602",
     "showTitle": false,
     "title": ""
    }
   },
   "outputs": [],
   "source": [
    "# operators with strings\n",
    "\n",
    "print('Games' == 'Music')\n",
    "print('Games' != 'Music')"
   ]
  },
  {
   "cell_type": "code",
   "execution_count": 0,
   "metadata": {
    "application/vnd.databricks.v1+cell": {
     "cellMetadata": {
      "byteLimit": 2048000,
      "rowLimit": 10000
     },
     "inputWidgets": {},
     "nuid": "d377872e-9ee5-4a94-9274-fe433ca2bfa8",
     "showTitle": false,
     "title": ""
    }
   },
   "outputs": [],
   "source": [
    "# operators with lists\n",
    "\n",
    "print([1,2,3] == [1,2,3])\n",
    "print([1,2,3] == [1,2,3,4])"
   ]
  },
  {
   "cell_type": "markdown",
   "metadata": {
    "application/vnd.databricks.v1+cell": {
     "cellMetadata": {
      "byteLimit": 2048000,
      "rowLimit": 10000
     },
     "inputWidgets": {},
     "nuid": "9ffe992d-9657-4c65-b714-66586ca8d879",
     "showTitle": false,
     "title": ""
    }
   },
   "source": [
    "With such functionalities, we can answer more detailed questions about our data set like what the average rating of gaming and non-gaming apps is.\n",
    "\n",
    "We can see that from the data set that the ``prime_genre`` column describes the app genre. If the app is a gaming app, the genre of the app will be encoded as 'Games'.\n",
    "\n",
    "To compute the average rating of gaming apps, we can use the same approach as we took in the previous screen when we computed the average rating of free and non-free apps."
   ]
  },
  {
   "cell_type": "code",
   "execution_count": 0,
   "metadata": {
    "application/vnd.databricks.v1+cell": {
     "cellMetadata": {
      "byteLimit": 2048000,
      "rowLimit": 10000
     },
     "inputWidgets": {},
     "nuid": "6618f308-896e-4cba-aa4c-d9e057859527",
     "showTitle": false,
     "title": ""
    }
   },
   "outputs": [],
   "source": [
    "games_ratings = [] #initialize an empty list named games_ratings\n",
    "\n",
    "for row in apps_data[1:]: \n",
    "    rating = float(row[7]) # extract the rating information and assign the rating to the variable rating\n",
    "    genre = row[11] # extract the genre information and assign the genre to the variable named genre\n",
    "    \n",
    "    if genre == 'Games': # if the genre is 'Games'\n",
    "        games_ratings.append(rating) # append the rating value stored in rating to the list games_ratings\n",
    "\n",
    "avg_ratings_games = sum(games_ratings) / len(games_ratings) #compute the average rating of gaming apps\n",
    "print(avg_ratings_games)"
   ]
  },
  {
   "cell_type": "markdown",
   "metadata": {
    "application/vnd.databricks.v1+cell": {
     "cellMetadata": {
      "byteLimit": 2048000,
      "rowLimit": 10000
     },
     "inputWidgets": {},
     "nuid": "220ee76a-cf78-4189-895e-a287e0728e02",
     "showTitle": false,
     "title": ""
    }
   },
   "source": [
    "### Task 1.4.4:\n",
    "With the code above, can you use the same techniques to compute the average rating of ``non-gaming apps``?"
   ]
  },
  {
   "cell_type": "code",
   "execution_count": 0,
   "metadata": {
    "application/vnd.databricks.v1+cell": {
     "cellMetadata": {
      "byteLimit": 2048000,
      "rowLimit": 10000
     },
     "inputWidgets": {},
     "nuid": "0b9acfde-3508-4c7c-a0ec-10637784ca10",
     "showTitle": false,
     "title": ""
    }
   },
   "outputs": [],
   "source": [
    "# reading the dataset\n",
    "from csv import reader\n",
    "\n",
    "with open('../../../../../Data/AppleStore.csv', encoding = 'utf8') as opened_file:\n",
    "    read_file = reader(opened_file)\n",
    "    apps_data = list(read_file)\n",
    "\n",
    "# start your code here:\n",
    "# Initialize an empty list named non_games_ratings.\n",
    "non_games_ratings = []\n",
    "\n",
    "# Loop through the apps_data\n",
    "for row in apps_data[1:]:\n",
    "    rating = float(row[7])\n",
    "    genre = row[11]\n",
    "    \n",
    "    if genre != 'Games':\n",
    "        non_games_ratings.append(rating)\n",
    "avg_non_games_ratings = sum(non_games_ratings) / len(non_games_ratings)\n",
    "print(avg_non_games_ratings)"
   ]
  },
  {
   "cell_type": "markdown",
   "metadata": {
    "application/vnd.databricks.v1+cell": {
     "cellMetadata": {
      "byteLimit": 2048000,
      "rowLimit": 10000
     },
     "inputWidgets": {},
     "nuid": "a6c6e660-2a74-4ecf-8f3c-cb36cc76a619",
     "showTitle": false,
     "title": ""
    }
   },
   "source": [
    "## 5. Multiple Conditions\n",
    "### 5.1 The `and` operator\n",
    "\n",
    "So far, we've only worked with single conditions, like:\n",
    "\n",
    "- If price equals 0.0 (`if price == 0`)\n",
    "- If genre equals \"Games\" (`if genre == 'Games'`)\n",
    "\n",
    "However, single conditions won't help us answering some more complicated questions, like:\n",
    "\n",
    "- What's the average rating of free gaming apps?\n",
    "- What's the average rating of non-free gaming apps?\n",
    "- What's the average rating of free non-gaming apps?\n",
    "- What's the average rating of non-free non-gaming apps?\n",
    "\n",
    "To solve this, do you know that we can combine two or more conditions together into a single ``if`` statement using the ``and `` keyword just like the English language."
   ]
  },
  {
   "cell_type": "code",
   "execution_count": 0,
   "metadata": {
    "application/vnd.databricks.v1+cell": {
     "cellMetadata": {
      "byteLimit": 2048000,
      "rowLimit": 10000
     },
     "inputWidgets": {},
     "nuid": "8f1b7571-b54b-457c-b141-8753c5a88cde",
     "showTitle": false,
     "title": ""
    }
   },
   "outputs": [],
   "source": [
    "app1_price = 0\n",
    "app1_genre = 'Games'\n",
    "\n",
    "if app1_price == 0 and app1_genre == 'Games':\n",
    "    print('This is a free game!')\n",
    "    \n",
    "print(app1_price == 0 and app1_genre == 'Games')"
   ]
  },
  {
   "cell_type": "code",
   "execution_count": 0,
   "metadata": {
    "application/vnd.databricks.v1+cell": {
     "cellMetadata": {
      "byteLimit": 2048000,
      "rowLimit": 10000
     },
     "inputWidgets": {},
     "nuid": "ddaadc2f-4ec8-41d7-83d6-99b645fd94a6",
     "showTitle": false,
     "title": ""
    }
   },
   "outputs": [],
   "source": [
    "app1_price = 19\n",
    "app1_genre = 'Games'\n",
    "\n",
    "if app1_price == 0 and app1_genre == 'Games':\n",
    "    print('This is a free game!')\n",
    "    \n",
    "print(app1_price == 0 and app1_genre == 'Games')"
   ]
  },
  {
   "cell_type": "markdown",
   "metadata": {
    "application/vnd.databricks.v1+cell": {
     "cellMetadata": {
      "byteLimit": 2048000,
      "rowLimit": 10000
     },
     "inputWidgets": {},
     "nuid": "84008273-5695-4be0-b7ef-6718fa089fcb",
     "showTitle": false,
     "title": ""
    }
   },
   "source": [
    "Do you see that the code `app1_price == 0 and app1_genre == 'Games'` outputs a single Boolean value?\n",
    "Python evaluate any combination of Booleans to a single boolean value:"
   ]
  },
  {
   "cell_type": "code",
   "execution_count": 0,
   "metadata": {
    "application/vnd.databricks.v1+cell": {
     "cellMetadata": {
      "byteLimit": 2048000,
      "rowLimit": 10000
     },
     "inputWidgets": {},
     "nuid": "ced81beb-a222-44d2-8b4a-3231ebc1b51d",
     "showTitle": false,
     "title": ""
    }
   },
   "outputs": [],
   "source": [
    "print(True and True)\n",
    "print(True and False)\n",
    "print(False and True)\n",
    "print(False and False)"
   ]
  },
  {
   "cell_type": "markdown",
   "metadata": {
    "application/vnd.databricks.v1+cell": {
     "cellMetadata": {
      "byteLimit": 2048000,
      "rowLimit": 10000
     },
     "inputWidgets": {},
     "nuid": "2b6b1a90-dd9a-4a3d-bf87-513a349d7eda",
     "showTitle": false,
     "title": ""
    }
   },
   "source": [
    "The rule is that when we combine Booleans using ``and``, the end output ``True`` can only take place if expressions within are all ``True``. If there is any ``False`` within, then the end output can only be ``False``. \n",
    "\n",
    "You might recall the ``truth table`` of the AND operator from your university class, which explains exactly how the ``and`` operator functions in Python.  It looks something like this:\n",
    "\n",
    "<img src=\"https://www.chilimath.com/wp-content/uploads/2020/02/truth-table-conjunction-792x1024.gif\" width=\"200\" height=\"200\" />\n"
   ]
  },
  {
   "cell_type": "markdown",
   "metadata": {
    "application/vnd.databricks.v1+cell": {
     "cellMetadata": {
      "byteLimit": 2048000,
      "rowLimit": 10000
     },
     "inputWidgets": {},
     "nuid": "23816e77-dd5a-4442-8016-7b200325b9c3",
     "showTitle": false,
     "title": ""
    }
   },
   "source": [
    "### 5.2 The or Operator\n",
    "\n",
    "When we look at the `prime_genre` column we can see that there are the genres \"Social Networking\" and \"Games\".\n",
    "\n",
    "As a data scientist, sometimes we might want to figure out the average rating of both categories. That means we need to isolate the ratings of all the apps whose genre is either \"Social Networking\" or \"Games\" into a separate list, and then calculate the average value in the same way as we have always done until now.\n",
    "\n",
    "How do we isolate the ratings of these apps? This time, we can't use the `and` operator. We need an `or` operator, because it doesn't make any sense to use the `and` operator like this:\n",
    "<br>`if genre == 'Social Networking' and genre == 'Games'`\n",
    "\n",
    "Each app has only one genre in the `prime_genre` column, **you won't have any apps with both social networking and games as its genre**.\n",
    "This is where the ``or`` operator comes into place. Look at the code below:"
   ]
  },
  {
   "cell_type": "code",
   "execution_count": 0,
   "metadata": {
    "application/vnd.databricks.v1+cell": {
     "cellMetadata": {
      "byteLimit": 2048000,
      "rowLimit": 10000
     },
     "inputWidgets": {},
     "nuid": "4aac8fcb-9a1c-45a2-b9be-01e84f09c162",
     "showTitle": false,
     "title": ""
    }
   },
   "outputs": [],
   "source": [
    "games_social_ratings = []\n",
    "\n",
    "for row in apps_data[1:]:\n",
    "    ratings = float(row[7])\n",
    "    genre = row[11]\n",
    "    \n",
    "    if genre == 'Social Networking' or genre == 'Games':\n",
    "        games_social_ratings.append(rating)\n",
    "\n",
    "print(games_social_ratings[:5])\n",
    "len(games_social_ratings)"
   ]
  },
  {
   "cell_type": "markdown",
   "metadata": {
    "application/vnd.databricks.v1+cell": {
     "cellMetadata": {
      "byteLimit": 2048000,
      "rowLimit": 10000
     },
     "inputWidgets": {},
     "nuid": "0506dd88-f28f-499c-8f67-2bfffb4be74c",
     "showTitle": false,
     "title": ""
    }
   },
   "source": [
    "Do know then know how `or` operator behaves in Python? See below:"
   ]
  },
  {
   "cell_type": "code",
   "execution_count": 0,
   "metadata": {
    "application/vnd.databricks.v1+cell": {
     "cellMetadata": {
      "byteLimit": 2048000,
      "rowLimit": 10000
     },
     "inputWidgets": {},
     "nuid": "977764bb-d66f-4977-a2ec-b9a2389a3667",
     "showTitle": false,
     "title": ""
    }
   },
   "outputs": [],
   "source": [
    "# The OR operator\n",
    "print(True or True)\n",
    "print(True or False)\n",
    "print(False or True)\n",
    "print(False or False)"
   ]
  },
  {
   "cell_type": "markdown",
   "metadata": {
    "application/vnd.databricks.v1+cell": {
     "cellMetadata": {},
     "inputWidgets": {},
     "nuid": "8a5de783-84f2-4590-a732-05e6aa861cba",
     "showTitle": false,
     "title": ""
    }
   },
   "source": [
    "Again the results from the code above can be summarized in a ``truth table``. It explains exactly how the ``or`` operator functions in Python.  \n",
    "\n",
    "| A     | B     | A ``or`` B |\n",
    "| ----- | ----- | ---------- |\n",
    "| True  | True  | True       |\n",
    "| True  | False | True       |\n",
    "| False | True  | True       |\n",
    "| False | False | False      |\n"
   ]
  },
  {
   "cell_type": "markdown",
   "metadata": {
    "application/vnd.databricks.v1+cell": {
     "cellMetadata": {
      "byteLimit": 2048000,
      "rowLimit": 10000
     },
     "inputWidgets": {},
     "nuid": "c6e11d7d-5093-46d5-8305-f993e8267f13",
     "showTitle": false,
     "title": ""
    }
   },
   "source": [
    "Let's compare it again to the `and` operator:"
   ]
  },
  {
   "cell_type": "code",
   "execution_count": 0,
   "metadata": {
    "application/vnd.databricks.v1+cell": {
     "cellMetadata": {
      "byteLimit": 2048000,
      "rowLimit": 10000
     },
     "inputWidgets": {},
     "nuid": "f930cd8b-bdd5-44b1-b9bd-415cafe401e9",
     "showTitle": false,
     "title": ""
    }
   },
   "outputs": [],
   "source": [
    "# The AND operator\n",
    "print(True and True)\n",
    "print(True and False)\n",
    "print(False and True)\n",
    "print(False and False)"
   ]
  },
  {
   "cell_type": "markdown",
   "metadata": {
    "application/vnd.databricks.v1+cell": {
     "cellMetadata": {
      "byteLimit": 2048000,
      "rowLimit": 10000
     },
     "inputWidgets": {},
     "nuid": "16094b91-15c0-4bb2-a36f-104943e01a9b",
     "showTitle": false,
     "title": ""
    }
   },
   "source": [
    "You see that the ``and`` and the ``or`` operators behave differently. The `or` operator will evaluate the statement to ``True`` if **any** of the Booleans are ``True``:"
   ]
  },
  {
   "cell_type": "code",
   "execution_count": 0,
   "metadata": {
    "application/vnd.databricks.v1+cell": {
     "cellMetadata": {
      "byteLimit": 2048000,
      "rowLimit": 10000
     },
     "inputWidgets": {},
     "nuid": "cbdb0f07-d9d0-4268-99cd-cf6a159be2dc",
     "showTitle": false,
     "title": ""
    }
   },
   "outputs": [],
   "source": [
    "print(False or False or False)\n",
    "print(False or False or False or True)"
   ]
  },
  {
   "cell_type": "markdown",
   "metadata": {
    "application/vnd.databricks.v1+cell": {
     "cellMetadata": {
      "byteLimit": 2048000,
      "rowLimit": 10000
     },
     "inputWidgets": {},
     "nuid": "f3db979b-bd2d-4a3f-9206-cf5158407ccf",
     "showTitle": false,
     "title": ""
    }
   },
   "source": [
    "Returning to our apps example, the condition `if genre == 'Social Networking' or genre == 'Games'` will only resolve to `False` when an app's genre is neither \"Social Networking\" nor \"Games.\" Otherwise, it will resolve to True."
   ]
  },
  {
   "cell_type": "markdown",
   "metadata": {
    "application/vnd.databricks.v1+cell": {
     "cellMetadata": {},
     "inputWidgets": {},
     "nuid": "b12e6207-c294-4554-b3e3-d672eb2b479c",
     "showTitle": false,
     "title": ""
    }
   },
   "source": [
    "### 5.3 The ``not`` operator (OPTIONAL):\n",
    "\n",
    "Another usefull keyword when working with conditional statements and logigal operators is the `not` keyword.\n",
    "It can be used to negate the negate value of a boolean. In other words it is an operator that returns `True` if the statement is not `True`.\n",
    "\n",
    "| A     | ``not`` A |\n",
    "|------ | --------- |\n",
    "| True  | False     |\n",
    "| False | True      |\n",
    "\n",
    "Let's have a look at an example:"
   ]
  },
  {
   "cell_type": "code",
   "execution_count": 0,
   "metadata": {
    "application/vnd.databricks.v1+cell": {
     "cellMetadata": {
      "byteLimit": 2048000,
      "rowLimit": 10000
     },
     "inputWidgets": {},
     "nuid": "89f818cb-5cf8-48eb-828c-21a5b292ceb1",
     "showTitle": false,
     "title": ""
    }
   },
   "outputs": [],
   "source": [
    "keep_the_secret = True\n",
    "\n",
    "if not keep_the_secret:\n",
    "  print(\"This is the secret\")"
   ]
  },
  {
   "cell_type": "markdown",
   "metadata": {
    "application/vnd.databricks.v1+cell": {
     "cellMetadata": {},
     "inputWidgets": {},
     "nuid": "86302a85-0605-4f9c-9681-4c7e96c2fc67",
     "showTitle": false,
     "title": ""
    }
   },
   "source": [
    "Of course the ``not`` operator works in conjunciton with the previously introduced operators:"
   ]
  },
  {
   "cell_type": "code",
   "execution_count": 0,
   "metadata": {
    "application/vnd.databricks.v1+cell": {
     "cellMetadata": {
      "byteLimit": 2048000,
      "rowLimit": 10000
     },
     "inputWidgets": {},
     "nuid": "9f4010bf-31f5-4773-abeb-eadbbc7ae36b",
     "showTitle": false,
     "title": ""
    }
   },
   "outputs": [],
   "source": [
    "first_bool = True\n",
    "second_bool = False\n",
    "\n",
    "if first_bool and not second_bool:\n",
    "  print(\"This expression equates 'True'!\")\n",
    "\n",
    "if not first_bool or second_bool:\n",
    "  print(\"This expression equates 'False'!\")"
   ]
  },
  {
   "cell_type": "markdown",
   "metadata": {
    "application/vnd.databricks.v1+cell": {
     "cellMetadata": {
      "byteLimit": 2048000,
      "rowLimit": 10000
     },
     "inputWidgets": {},
     "nuid": "b84f4a4e-9aa0-4cd6-9acb-61d8c316724a",
     "showTitle": false,
     "title": ""
    }
   },
   "source": [
    "## 6. Combining Logical Operators\n",
    "\n",
    "In the previous exercise, the average rating of the apps whose genre is either \"Social Networking\" or \"Games.\" is computed. Now we can ask even more specific questions, like:\n",
    "\n",
    "What is the average rating of <b> free </b> apps whose genre is either \"Social Networking\" or \"Games\"?\n",
    "What is the average rating of <b> non-free </b> apps whose genre is either \"Social Networking\" or \"Games\"?\n",
    "\n",
    "To answer the first question, we need to isolate the apps that:\n",
    "\n",
    "- are in either the \"Social Networking\" or \"Games\" genre, and\n",
    "- have a price of 0.0.\n",
    "\n",
    "To isolate these apps, we can combine `or` with `and` in a single if statement:\n"
   ]
  },
  {
   "cell_type": "code",
   "execution_count": 0,
   "metadata": {
    "application/vnd.databricks.v1+cell": {
     "cellMetadata": {
      "byteLimit": 2048000,
      "rowLimit": 10000
     },
     "inputWidgets": {},
     "nuid": "01727c51-b66c-4522-a7bf-3ad92623efdc",
     "showTitle": false,
     "title": ""
    }
   },
   "outputs": [],
   "source": [
    "free_games_social_ratings = []\n",
    "\n",
    "for row in apps_data[1:]:\n",
    "    rating = float(row[7])\n",
    "    genre = row[11]\n",
    "    price = float(row[4])\n",
    "    \n",
    "    if(genre == 'Social Networking' or genre == 'Games') and price == 0:\n",
    "        free_games_social_ratings.append(rating)"
   ]
  },
  {
   "cell_type": "markdown",
   "metadata": {
    "application/vnd.databricks.v1+cell": {
     "cellMetadata": {
      "byteLimit": 2048000,
      "rowLimit": 10000
     },
     "inputWidgets": {},
     "nuid": "043433c7-d6e0-44f7-ac49-5649eb6c7684",
     "showTitle": false,
     "title": ""
    }
   },
   "source": [
    "Notice that we enclosed the `genre == 'Social Networking' or genre == 'Games'` part within parentheses. This helps Python understand the specific logic we want for our if statement.\n",
    "If the parentheses are not applied correctly, Python will lead us to unwanted results."
   ]
  },
  {
   "cell_type": "markdown",
   "metadata": {
    "application/vnd.databricks.v1+cell": {
     "cellMetadata": {
      "byteLimit": 2048000,
      "rowLimit": 10000
     },
     "inputWidgets": {},
     "nuid": "5c54e022-93bc-4bb8-8ccb-977a92584bc2",
     "showTitle": false,
     "title": ""
    }
   },
   "source": [
    "#### Attention\n",
    "Note that\n",
    "\n",
    "````python\n",
    "if (genre == 'Social Networking' or genre == 'Games') and price == 0:\n",
    "\n",
    "````\n",
    "is not the same as\n",
    "````python\n",
    "if genre == 'Social Networking' or (genre == 'Games' and price == 0):\n",
    "````"
   ]
  },
  {
   "cell_type": "code",
   "execution_count": 0,
   "metadata": {
    "application/vnd.databricks.v1+cell": {
     "cellMetadata": {
      "byteLimit": 2048000,
      "rowLimit": 10000
     },
     "inputWidgets": {},
     "nuid": "eb0ff710-37c1-4a4b-b668-b0f9ce306d37",
     "showTitle": false,
     "title": ""
    }
   },
   "outputs": [],
   "source": [
    "# No parentheses\n",
    "print(True or False and False)"
   ]
  },
  {
   "cell_type": "markdown",
   "metadata": {
    "application/vnd.databricks.v1+cell": {
     "cellMetadata": {
      "byteLimit": 2048000,
      "rowLimit": 10000
     },
     "inputWidgets": {},
     "nuid": "847da5c9-0939-41ad-af8c-1cd5446fab9b",
     "showTitle": false,
     "title": ""
    }
   },
   "source": [
    "Now please observe the code below:"
   ]
  },
  {
   "cell_type": "code",
   "execution_count": 0,
   "metadata": {
    "application/vnd.databricks.v1+cell": {
     "cellMetadata": {
      "byteLimit": 2048000,
      "rowLimit": 10000
     },
     "inputWidgets": {},
     "nuid": "2b10e2b2-52dd-4aa0-a89e-aaba673d52b4",
     "showTitle": false,
     "title": ""
    }
   },
   "outputs": [],
   "source": [
    "app_genre = 'Social Networking'\n",
    "app_price = 100 # This is a non-free app\n",
    "\n",
    "if app_genre == 'Social Networking' or app_genre == 'Games' and app_price == 0:\n",
    "    print('This gaming or social networking app is free!!')"
   ]
  },
  {
   "cell_type": "markdown",
   "metadata": {
    "application/vnd.databricks.v1+cell": {
     "cellMetadata": {
      "byteLimit": 2048000,
      "rowLimit": 10000
     },
     "inputWidgets": {},
     "nuid": "c7252e06-d266-4ba0-9b52-5670a0c95fb8",
     "showTitle": false,
     "title": ""
    }
   },
   "source": [
    "You see above that the code above has a <b> logical error </b>. We have printed 'This gaming or social networking app is free!!' for a non-free app. \n",
    "\n",
    "If we place the parentheses corretly, it makes a huge difference:"
   ]
  },
  {
   "cell_type": "code",
   "execution_count": 0,
   "metadata": {
    "application/vnd.databricks.v1+cell": {
     "cellMetadata": {
      "byteLimit": 2048000,
      "rowLimit": 10000
     },
     "inputWidgets": {},
     "nuid": "fa9e0740-a979-4911-8460-b4ef57c69f61",
     "showTitle": false,
     "title": ""
    }
   },
   "outputs": [],
   "source": [
    "# Correctly placed parentheses\n",
    "print((True or False) and False)"
   ]
  },
  {
   "cell_type": "code",
   "execution_count": 0,
   "metadata": {
    "application/vnd.databricks.v1+cell": {
     "cellMetadata": {
      "byteLimit": 2048000,
      "rowLimit": 10000
     },
     "inputWidgets": {},
     "nuid": "37068302-91df-431a-8050-36fd63e09f0b",
     "showTitle": false,
     "title": ""
    }
   },
   "outputs": [],
   "source": [
    "app_genre = 'Social Networking'\n",
    "app_price = 100 #This is a non-free app\n",
    "\n",
    "\n",
    "if (app_genre == 'Social Networking' or app_genre == 'Games') and app_price == 0:\n",
    "    print('This gaming or social networking app is free!!')"
   ]
  },
  {
   "cell_type": "markdown",
   "metadata": {
    "application/vnd.databricks.v1+cell": {
     "cellMetadata": {
      "byteLimit": 2048000,
      "rowLimit": 10000
     },
     "inputWidgets": {},
     "nuid": "84b27fb9-b8a2-4413-8772-d09ab1ba507d",
     "showTitle": false,
     "title": ""
    }
   },
   "source": [
    "We see that now this expression is evaluated correctly. Now you see the importance of using parentheses correctly. So make sure you place your parentheses correctly!"
   ]
  },
  {
   "cell_type": "markdown",
   "metadata": {
    "application/vnd.databricks.v1+cell": {
     "cellMetadata": {
      "byteLimit": 2048000,
      "rowLimit": 10000
     },
     "inputWidgets": {},
     "nuid": "da370a96-2ac3-4c0e-a521-0c36536973b5",
     "showTitle": false,
     "title": ""
    }
   },
   "source": [
    "### Task 1.4.6:\n",
    "\n",
    "Modify the code below to compute also the average rating of non-free apps whose genre is either ``Social Networking`` or ``Games``. Assign the result to a variable named ``avg_non_free``, print it and compare to `avg_free`."
   ]
  },
  {
   "cell_type": "code",
   "execution_count": 0,
   "metadata": {
    "application/vnd.databricks.v1+cell": {
     "cellMetadata": {
      "byteLimit": 2048000,
      "rowLimit": 10000
     },
     "inputWidgets": {},
     "nuid": "ad2eab3a-f510-4f4e-b6d7-000497667d6e",
     "showTitle": false,
     "title": ""
    }
   },
   "outputs": [],
   "source": [
    "from csv import reader\n",
    "\n",
    "with open('../../../../../Data/AppleStore.csv', encoding = 'utf8') as opened_file:\n",
    "    read_file = reader(opened_file)\n",
    "    apps_data = list(read_file)\n",
    "\n",
    "free_games_social_ratings = []\n",
    "non_free_ratings = []\n",
    "\n",
    "# edit the code here:\n",
    "for row in apps_data[1:]:\n",
    "    rating = float(row[7])\n",
    "    genre = row[11]\n",
    "    price = float(row[4])\n",
    "    \n",
    "    if (genre == 'Social Networking' or genre == 'Games') and price == 0:\n",
    "        free_games_social_ratings.append(rating)\n",
    "    \n",
    "    if(genre == 'Social Networking' or genre == 'Games') and price != 0:\n",
    "        non_free_ratings.append(rating)\n",
    "        \n",
    "avg_free = sum(free_games_social_ratings) / len(free_games_social_ratings)\n",
    "\n",
    "# Non-free apps (average)\n",
    "avg_non_free = sum(non_free_ratings) / len(non_free_ratings)\n",
    "\n",
    "print(avg_free, avg_non_free)"
   ]
  },
  {
   "cell_type": "markdown",
   "metadata": {
    "application/vnd.databricks.v1+cell": {
     "cellMetadata": {
      "byteLimit": 2048000,
      "rowLimit": 10000
     },
     "inputWidgets": {},
     "nuid": "ea0af206-f972-46af-93a8-2816de5ec3a2",
     "showTitle": false,
     "title": ""
    }
   },
   "source": [
    "## 7. Comparison Operators\n",
    "\n",
    "Did you remember the equal to and non-equal to operators that we learned before? We used the `==` and `!=` operators to check whether two values are equal or not. These two operators are called `comparison operators`.\n",
    "\n",
    "Please see the <b>comparison operator table</b> below:\n",
    "\n",
    "| Comparison (text) |  Comparison operator |  Comparison (code)| \n",
    "|------------|:------:|----------:| \n",
    "| A is equal to B| == | A==B |\n",
    "| A is not equal to B |   != |   A !=B |\n",
    "| A is greater than B | >|  A > B |\n",
    "| A is greater than or equal to B |   >=  |   A >= B |\n",
    "|A is less than B|<| A < B| \n",
    "|A is less than or equal to B| < =| A <= B|\n",
    "\n",
    "What does it look when we put comparison operators into actual code?\n"
   ]
  },
  {
   "cell_type": "code",
   "execution_count": 0,
   "metadata": {
    "application/vnd.databricks.v1+cell": {
     "cellMetadata": {
      "byteLimit": 2048000,
      "rowLimit": 10000
     },
     "inputWidgets": {},
     "nuid": "d7b862d0-8e7d-406e-bfe7-9479218ec8a1",
     "showTitle": false,
     "title": ""
    }
   },
   "outputs": [],
   "source": [
    "print(10 > 2)\n",
    "print( 10 < 2)\n",
    "print (50 >=50)\n",
    "print( 30 <=15)"
   ]
  },
  {
   "cell_type": "markdown",
   "metadata": {
    "application/vnd.databricks.v1+cell": {
     "cellMetadata": {
      "byteLimit": 2048000,
      "rowLimit": 10000
     },
     "inputWidgets": {},
     "nuid": "0da9b097-8e8a-4576-99f3-4dfcf19fcd47",
     "showTitle": false,
     "title": ""
    }
   },
   "source": [
    "Because a comparison operator will evaluate the expression and give us a single Boolean value as the final output, we can therefore also use such comparison operators inside the ``if`` statement. \n",
    "Like this:"
   ]
  },
  {
   "cell_type": "code",
   "execution_count": 0,
   "metadata": {
    "application/vnd.databricks.v1+cell": {
     "cellMetadata": {
      "byteLimit": 2048000,
      "rowLimit": 10000
     },
     "inputWidgets": {},
     "nuid": "40a21049-4f06-4a36-a8a1-ec5ecca5d349",
     "showTitle": false,
     "title": ""
    }
   },
   "outputs": [],
   "source": [
    "app_name = 'Ulysses'\n",
    "app_price = 24.99\n",
    "\n",
    "if app_price > 20:\n",
    "    print('This app is expensive!')\n",
    "    \n",
    "print(app_price > 20)"
   ]
  },
  {
   "cell_type": "markdown",
   "metadata": {
    "application/vnd.databricks.v1+cell": {
     "cellMetadata": {
      "byteLimit": 2048000,
      "rowLimit": 10000
     },
     "inputWidgets": {},
     "nuid": "d9491645-d8df-4a32-ab45-744c54599438",
     "showTitle": false,
     "title": ""
    }
   },
   "source": [
    "These new comparison operators open up new possibilities for us to answer more granular questions about our data set like:\n",
    "\n",
    "- How many apps have a rating of 4 or greater?\n",
    "- What is the average rating of the apps that have a price greater than 9 Dollars?\n",
    "- How many apps have a price greater than 9 Dollars?\n",
    "- How many apps have a price smaller than or equal to 9 Dollars?"
   ]
  },
  {
   "cell_type": "markdown",
   "metadata": {
    "application/vnd.databricks.v1+cell": {
     "cellMetadata": {
      "byteLimit": 2048000,
      "rowLimit": 10000
     },
     "inputWidgets": {},
     "nuid": "015f0179-67cf-41ca-b795-2162aa711cdd",
     "showTitle": false,
     "title": ""
    }
   },
   "source": [
    "To answer the first question, we can write the code like this:\n"
   ]
  },
  {
   "cell_type": "code",
   "execution_count": 0,
   "metadata": {
    "application/vnd.databricks.v1+cell": {
     "cellMetadata": {
      "byteLimit": 2048000,
      "rowLimit": 10000
     },
     "inputWidgets": {},
     "nuid": "421a21bc-3f2b-47f2-91a7-029e2dcfcfa8",
     "showTitle": false,
     "title": ""
    }
   },
   "outputs": [],
   "source": [
    "apps_4_or_greater = [] # initialized an empty list named apps_4_or_greater\n",
    "\n",
    "for row in apps_data[1:]:\n",
    "    rating = float(row[7]) # Stored the rating value as a float to a variable named rating\n",
    "    if rating >= 4.0:\n",
    "        apps_4_or_greater.append(rating)\n",
    "        \n",
    "len(apps_4_or_greater)"
   ]
  },
  {
   "cell_type": "markdown",
   "metadata": {
    "application/vnd.databricks.v1+cell": {
     "cellMetadata": {
      "byteLimit": 2048000,
      "rowLimit": 10000
     },
     "inputWidgets": {},
     "nuid": "bc722195-3f5f-47dd-a33c-37ca9c30807d",
     "showTitle": false,
     "title": ""
    }
   },
   "source": [
    "Alternatively, we do not have to use ``append`` in this case:"
   ]
  },
  {
   "cell_type": "code",
   "execution_count": 0,
   "metadata": {
    "application/vnd.databricks.v1+cell": {
     "cellMetadata": {
      "byteLimit": 2048000,
      "rowLimit": 10000
     },
     "inputWidgets": {},
     "nuid": "33493fda-4e3c-46c7-be7d-4b4574df2b6a",
     "showTitle": false,
     "title": ""
    }
   },
   "outputs": [],
   "source": [
    "n_of_apps = 0 #Initialized a variable n_of_apps with a value of 0\n",
    "\n",
    "for row in apps_data[1:]:\n",
    "    rating = float(row[7]) #Stored the rating value as a float to a variable named rating\n",
    "    if rating >= 4.0:\n",
    "        n_of_apps = n_of_apps + 1 #Incremented the value of n_of_apps by 1 \n",
    "        #if the value stored in rating was greater than or equal to 4.0\n",
    "        \n",
    "print(n_of_apps)"
   ]
  },
  {
   "cell_type": "markdown",
   "metadata": {
    "application/vnd.databricks.v1+cell": {
     "cellMetadata": {
      "byteLimit": 2048000,
      "rowLimit": 10000
     },
     "inputWidgets": {},
     "nuid": "3a1fda2a-c8ca-4857-9184-ab3340aaeaab",
     "showTitle": false,
     "title": ""
    }
   },
   "source": [
    "## 8. The else Clause\n",
    "\n",
    "Let's say we need to use information from the price column to label each app as ``free`` or ``non-free``. If the price is equal to ``0.0``, we want to label the app ``free``. Otherwise, we want to label it ``non-free``. To summarize this is Python language it's like this:"
   ]
  },
  {
   "cell_type": "code",
   "execution_count": 0,
   "metadata": {
    "application/vnd.databricks.v1+cell": {
     "cellMetadata": {
      "byteLimit": 2048000,
      "rowLimit": 10000
     },
     "inputWidgets": {},
     "nuid": "3fa6b91e-7fad-49c5-b476-adbd329e745f",
     "showTitle": false,
     "title": ""
    }
   },
   "outputs": [],
   "source": [
    "apps_data = [['GoodNotes', 19.99], ['Amazon', 0.0], ['Chrome', 0.0], ['Snapchat', 0.0]]\n",
    "\n",
    "for app in apps_data:\n",
    "    price = app[1] #We saved the price value to a variable named price.\n",
    "    \n",
    "    if price == 0.0: #If price == 0.0\n",
    "        app.append('free') #we appended the string 'free' to the list app \n",
    "    if price != 0.0: #If price != 0.0\n",
    "        app.append('non-free') #we appended the string 'non-free' to the list \n",
    "        \n",
    "print(apps_data)"
   ]
  },
  {
   "cell_type": "markdown",
   "metadata": {
    "application/vnd.databricks.v1+cell": {
     "cellMetadata": {
      "byteLimit": 2048000,
      "rowLimit": 10000
     },
     "inputWidgets": {},
     "nuid": "918d8826-c284-4d8e-8b46-3f81bf07528a",
     "showTitle": false,
     "title": ""
    }
   },
   "source": [
    "For each iteration, the computer evaluate two expressons: ``price == 0.0`` and ``price != 0.0``. But once we know that ``price == 0.0`` for an app, it's redundant to also check `price != 0.0` for the same app — if we know that the price is ``0``, it doesn't make logical sense to also check whether the price is different than `0`.\n",
    "\n",
    "In our small data set above, we have 3 free apps. The computer evaluated ``price == 0.0`` as ``True`` 3 times, and then checked whether ``price != 0.0`` for the same number of times. There are 3 **redundant** operations performed in this small dataset. \n",
    "\n",
    "However, if we have a data set with 5,000 free apps, we wouldn't want our computer to perform 5,000 redundant operations. This can be avoided using the if statement with an ``else`` clause:"
   ]
  },
  {
   "cell_type": "code",
   "execution_count": 0,
   "metadata": {
    "application/vnd.databricks.v1+cell": {
     "cellMetadata": {
      "byteLimit": 2048000,
      "rowLimit": 10000
     },
     "inputWidgets": {},
     "nuid": "59d9911e-bb1c-4afd-9965-03dd1b7a04e2",
     "showTitle": false,
     "title": ""
    }
   },
   "outputs": [],
   "source": [
    "apps_data = [['GoodNotes', 19.99], ['Amazon', 0.0], ['Chrome', 0.0], ['Snapchat', 0.0]]\n",
    "\n",
    "for app in apps_data:\n",
    "    price = app[1] # We saved the price value to a variable named price.\n",
    "    \n",
    "    if price == 0.0: # If price == 0.0\n",
    "        app.append('free') # we appended the string 'free' to the list app \n",
    "    else: # If price  is not 0.0,\n",
    "        app.append('non-free') # we appended the string 'non-free' to the list \n",
    "        \n",
    "print(apps_data)"
   ]
  },
  {
   "cell_type": "markdown",
   "metadata": {
    "application/vnd.databricks.v1+cell": {
     "cellMetadata": {
      "byteLimit": 2048000,
      "rowLimit": 10000
     },
     "inputWidgets": {},
     "nuid": "9052bbc4-41e4-40ab-877c-c849b8b5dd18",
     "showTitle": false,
     "title": ""
    }
   },
   "source": [
    "You see that the two chunks of code above give the same result, but the latter ist much more *sufficient* and *sophisticated*.\n",
    "\n",
    "Pay attention that the code within the body of an else clause is executed only if the if statement that precedes it resolves to `False`."
   ]
  },
  {
   "cell_type": "markdown",
   "metadata": {
    "application/vnd.databricks.v1+cell": {
     "cellMetadata": {
      "byteLimit": 2048000,
      "rowLimit": 10000
     },
     "inputWidgets": {},
     "nuid": "c75dc57f-9add-4508-86a9-b57d36ff3dd2",
     "showTitle": false,
     "title": ""
    }
   },
   "source": [
    "~~~python\n",
    "if False:\n",
    "    print(10)\n",
    "else:\n",
    "    print(100)\n",
    "~~~\n",
    "\n",
    "Just like in our apps example:\n",
    "````python\n",
    "price = 5\n",
    "\n",
    "if price == 0:\n",
    "    print('free')\n",
    "else: \n",
    "    print('not free')\n",
    "````\n",
    "---"
   ]
  },
  {
   "cell_type": "markdown",
   "metadata": {
    "application/vnd.databricks.v1+cell": {
     "cellMetadata": {
      "byteLimit": 2048000,
      "rowLimit": 10000
     },
     "inputWidgets": {},
     "nuid": "98a0bc0d-7dcd-4e1d-a80a-bae521197427",
     "showTitle": false,
     "title": ""
    }
   },
   "source": [
    "````python\n",
    "price = 0\n",
    "\n",
    "if price == 0:\n",
    "    print('free')\n",
    "else: \n",
    "    print('not free')\n",
    "````"
   ]
  },
  {
   "cell_type": "markdown",
   "metadata": {
    "application/vnd.databricks.v1+cell": {
     "cellMetadata": {
      "byteLimit": 2048000,
      "rowLimit": 10000
     },
     "inputWidgets": {},
     "nuid": "327683de-766d-469d-b17a-9f752504f6d2",
     "showTitle": false,
     "title": ""
    }
   },
   "source": [
    "In the apps example above, the code within the body of the ``else`` clause is executed only if ``price == 0.0`` evaluates to `False`. \n",
    "\n",
    "If `price == 0.0` is `True`, then the line\n",
    "\n",
    "````python\n",
    "app.append('free') \n",
    "````\n",
    "is executed, and computer moves forward *without* executing the else clause.\n",
    "\n",
    "Note that an else clause must be combined with a preceding if statement. We can have an if statement without an else clause, but we can't have an else clause without a preceding if statement. In the example below, the else clause alone throws out a ``SyntaxError``:"
   ]
  },
  {
   "cell_type": "code",
   "execution_count": 0,
   "metadata": {
    "application/vnd.databricks.v1+cell": {
     "cellMetadata": {
      "byteLimit": 2048000,
      "rowLimit": 10000
     },
     "inputWidgets": {},
     "nuid": "039f300e-fcf5-474f-8d6a-1e2abb84ab23",
     "showTitle": false,
     "title": ""
    }
   },
   "outputs": [],
   "source": [
    "else:\n",
    "    print('This will not be printed, becausewe cannot have an else clause without a preceding if statement.' )"
   ]
  },
  {
   "cell_type": "markdown",
   "metadata": {
    "application/vnd.databricks.v1+cell": {
     "cellMetadata": {
      "byteLimit": 2048000,
      "rowLimit": 10000
     },
     "inputWidgets": {},
     "nuid": "413b21d3-6389-4ecb-97ef-a78f1e5fcc0a",
     "showTitle": false,
     "title": ""
    }
   },
   "source": [
    "When we combine a statement with a clause, we create a compound statement — combining an if statement with an else clause makes up a compound statement."
   ]
  },
  {
   "cell_type": "markdown",
   "metadata": {
    "application/vnd.databricks.v1+cell": {
     "cellMetadata": {
      "byteLimit": 2048000,
      "rowLimit": 10000
     },
     "inputWidgets": {},
     "nuid": "1c603513-cb13-4fb2-a77d-5d8940d0481b",
     "showTitle": false,
     "title": ""
    }
   },
   "source": [
    "## 9. The elif Clause\n",
    "\n",
    "What happens when we have a more granular label rather than just using \"free\" and \"non-free\" like below:\n",
    "\n",
    "| price | label |  \n",
    "|------------|:------:|\n",
    "| 0 | free|\n",
    "| >0 - < 20 |  affordable |\n",
    "| 20 - 50 | expensive |\n",
    "|> 50| very expensive |"
   ]
  },
  {
   "cell_type": "markdown",
   "metadata": {
    "application/vnd.databricks.v1+cell": {
     "cellMetadata": {
      "byteLimit": 2048000,
      "rowLimit": 10000
     },
     "inputWidgets": {},
     "nuid": "8053acd3-8fb8-4c23-b62e-49cba2147b38",
     "showTitle": false,
     "title": ""
    }
   },
   "source": [
    "Using what we learned from the previous section, our code will like below:"
   ]
  },
  {
   "cell_type": "code",
   "execution_count": 0,
   "metadata": {
    "application/vnd.databricks.v1+cell": {
     "cellMetadata": {
      "byteLimit": 2048000,
      "rowLimit": 10000
     },
     "inputWidgets": {},
     "nuid": "fdb25714-73f8-4012-bc25-443ed915524b",
     "showTitle": false,
     "title": ""
    }
   },
   "outputs": [],
   "source": [
    "apps_data = [['GoodNotes', 19.99], ['Call of Duty Zombies', 5.0], ['Notability', 29.99], ['Snapchat', 0.0]]\n",
    "\n",
    "for app in apps_data:\n",
    "    price = app[1] \n",
    "    \n",
    "    if price == 0.0: \n",
    "        app.append('free') \n",
    "    if price > 0.0 and price < 20:\n",
    "        app.append('affordable')\n",
    "    if price >= 20 and price < 50:\n",
    "        app.append('expensive')\n",
    "    if price >= 50:\n",
    "        app.append('very expensive')\n",
    "        \n",
    "print(apps_data)"
   ]
  },
  {
   "cell_type": "markdown",
   "metadata": {
    "application/vnd.databricks.v1+cell": {
     "cellMetadata": {
      "byteLimit": 2048000,
      "rowLimit": 10000
     },
     "inputWidgets": {},
     "nuid": "95bc9b9e-6087-4c50-b3e2-8cdd179851ce",
     "showTitle": false,
     "title": ""
    }
   },
   "source": [
    "When an app is free, ``price == 0.0`` evaluates to ``True`` and ``app.append('free')`` is executed. But then the computer continues to do redundant operations — it checks whether:\n",
    "\n",
    "-  `price > 0 and price < 20`\n",
    "-  `price >= 20 and price < 50`\n",
    "-  `price >= 50`\n",
    "\n",
    "We already know the three conditions above will evaluate to False once we find out that `price == 0.0` is `True`. To stop the computer from doing redundant operations, we can use **elif clauses**:"
   ]
  },
  {
   "cell_type": "code",
   "execution_count": 0,
   "metadata": {
    "application/vnd.databricks.v1+cell": {
     "cellMetadata": {
      "byteLimit": 2048000,
      "rowLimit": 10000
     },
     "inputWidgets": {},
     "nuid": "60e2e72d-4eb0-461c-af45-6d38f897686e",
     "showTitle": false,
     "title": ""
    }
   },
   "outputs": [],
   "source": [
    "apps_data = [['GoodNotes', 19.99], ['Call of Duty Zombies', 5.0], ['Notability', 29.99], ['Snapchat', 0.0]]\n",
    "\n",
    "for app in apps_data:\n",
    "    price = app[1] \n",
    "    \n",
    "    if price == 0.0: \n",
    "        app.append('free') \n",
    "    elif price > 0.0 and price < 20:\n",
    "        app.append('affordable')\n",
    "    elif price >= 20 and price < 50:\n",
    "        app.append('expensive')\n",
    "    elif price >= 50:\n",
    "        app.append('very expensive')\n",
    "        \n",
    "print(apps_data)"
   ]
  },
  {
   "cell_type": "markdown",
   "metadata": {
    "application/vnd.databricks.v1+cell": {
     "cellMetadata": {
      "byteLimit": 2048000,
      "rowLimit": 10000
     },
     "inputWidgets": {},
     "nuid": "30500f99-dfbb-4c85-a53c-421a194e89cf",
     "showTitle": false,
     "title": ""
    }
   },
   "source": [
    "The code within the body of an elif clause is executed only if:\n",
    "\n",
    "- The preceding if statement (or the other preceding elif clauses) resolves to `False`; and\n",
    "- The condition specified after the elif keyword evaluates to `True`.\n",
    "\n",
    "For example, if `price == 0.0` is evaluated to be `True`, the computer will execute `app.append('free')` and jump out of this section of code (skip the rest of the elif clauses).\n",
    "\n",
    "Notice that if we replace the last `elif` with `else` instead, the statement app.append('very expensive') will be executed even if the price has a value of -5 or -100 like this:"
   ]
  },
  {
   "cell_type": "code",
   "execution_count": 0,
   "metadata": {
    "application/vnd.databricks.v1+cell": {
     "cellMetadata": {
      "byteLimit": 2048000,
      "rowLimit": 10000
     },
     "inputWidgets": {},
     "nuid": "97e457f7-ff5a-41a1-8aad-cc506d6d1559",
     "showTitle": false,
     "title": ""
    }
   },
   "outputs": [],
   "source": [
    "apps_data = [['GoodNotes', -19.99], ['Call of Duty Zombies', -5.0], ['Notability', 29.99], ['Snapchat', 0.0]]\n",
    "\n",
    "for app in apps_data:\n",
    "    price = app[1] \n",
    "    \n",
    "    if price == 0.0: \n",
    "        app.append('free') \n",
    "    elif price > 0.0 and price < 20:\n",
    "        app.append('affordable')\n",
    "    elif price >= 20 and price < 50:\n",
    "        app.append('expensive')\n",
    "    else:\n",
    "        app.append('very expensive')\n",
    "        \n",
    "print(apps_data)"
   ]
  },
  {
   "cell_type": "markdown",
   "metadata": {
    "application/vnd.databricks.v1+cell": {
     "cellMetadata": {
      "byteLimit": 2048000,
      "rowLimit": 10000
     },
     "inputWidgets": {},
     "nuid": "c8e4a012-ab26-4bbb-adbf-77c8a415f219",
     "showTitle": false,
     "title": ""
    }
   },
   "source": [
    "Now let's have some practice with the `else` and `elif` statements.\n",
    "### Task 1.4.9 (OPTIONAL):\n",
    "\n",
    "1. Complete the code in the editor to label each app as ``free``, ``affordable``, ``expensive``, or ``very expensive``. Inside the loop:\n",
    "  - If the price of the app is 0, label the app as ``free`` by appending the string ``free`` to the current iteration variable.\n",
    "  - If the price of the app is greater than 0 and less than 20, label the app as ``affordable``. For efficiency purposes, use an elif clause.\n",
    "  - If the price of the app is greater or equal to 20 and less than 50, label the app as ``expensive``. For efficiency purposes, use an elif clause.\n",
    "  - If the price of the app is greater or equal to 50, label the app as ``very expensive``. For efficiency purposes, use an elif clause.\n",
    "2. Name the newly created column ``price_label`` by appending the string ``price_label`` to the first row of the ``apps_data`` data set.\n",
    "3. Inspect the header row and the first five rows to see some of the changes you made."
   ]
  },
  {
   "cell_type": "code",
   "execution_count": 0,
   "metadata": {
    "application/vnd.databricks.v1+cell": {
     "cellMetadata": {
      "byteLimit": 2048000,
      "rowLimit": 10000
     },
     "inputWidgets": {},
     "nuid": "00ecaa1e-8d76-4b5b-95d5-dd30d4762f75",
     "showTitle": false,
     "title": ""
    }
   },
   "outputs": [],
   "source": [
    "# INITIAL CODE\n",
    "from csv import reader\n",
    "\n",
    "with open('../../../../../Data/AppleStore.csv', encoding = 'utf8') as opened_file:\n",
    "    read_file = reader(opened_file)\n",
    "    apps_data = list(read_file)\n",
    "\n",
    "for app in apps_data[1:]:\n",
    "    price = float(app[4])\n",
    "    # Complete code from here\n",
    "    if price == 0:\n",
    "        app.append(\"free\")\n",
    "    elif price > 0 and price < 20:\n",
    "        app.append(\"affordable\")\n",
    "    elif price >= 20 and price < 50:\n",
    "        app.append(\"expensive\")\n",
    "    elif price >= 50:\n",
    "        app.append(\"very expensive\")\n",
    "        \n",
    "apps_data[0].append(\"price_label\")\n",
    "\n",
    "\n",
    "for row in apps_data[:7]:\n",
    "    print(row)"
   ]
  },
  {
   "cell_type": "markdown",
   "metadata": {
    "application/vnd.databricks.v1+cell": {
     "cellMetadata": {
      "byteLimit": 2048000,
      "rowLimit": 10000
     },
     "inputWidgets": {},
     "nuid": "27144935-311f-4279-a25d-e083bc635be4",
     "showTitle": false,
     "title": ""
    }
   },
   "source": [
    "In this chapter, we learned to combine conditional statements and clauses (`if`, `else`, `elif`) with logical operators (`and`, `or`) and comparison operators (`==`, `!=`, `>`, `>=`, `<`, `<=`) to answer some granular and more complicated questions."
   ]
  }
 ],
 "metadata": {
  "application/vnd.databricks.v1+notebook": {
   "dashboards": [],
   "language": "python",
   "notebookMetadata": {
    "pythonIndentUnit": 2
   },
   "notebookName": "[Answer]4_Conditional_Statements",
   "widgets": {}
  },
  "kernelspec": {
   "display_name": "Python 3",
   "language": "python",
   "name": "python3"
  },
  "language_info": {
   "codemirror_mode": {
    "name": "ipython",
    "version": 3
   },
   "file_extension": ".py",
   "mimetype": "text/x-python",
   "name": "python",
   "nbconvert_exporter": "python",
   "pygments_lexer": "ipython3",
   "version": "3.7.1"
  }
 },
 "nbformat": 4,
 "nbformat_minor": 0
}
