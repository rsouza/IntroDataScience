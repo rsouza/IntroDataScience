{
 "cells": [
  {
   "cell_type": "markdown",
   "metadata": {},
   "source": [
    "## About This Notebook\n",
    "\n",
    "In this notebook we are going to dig into new topics. We will dig into logic and logical operators. In essence, when we code, we often want to control the *flow* of our code. For example, **IF** it is sunny, **THEN** go outside, **ELSE** stay inside. We are controlling the flow of what is happening with operators such as ``if``, ``or``, ``else``. We are going to discuss these three operators in this notebook.\n",
    "***"
   ]
  },
  {
   "cell_type": "markdown",
   "metadata": {},
   "source": [
    "## 1. If Statements"
   ]
  },
  {
   "cell_type": "code",
   "execution_count": 1,
   "metadata": {},
   "outputs": [],
   "source": [
    "opened_file = open('AppleStore.csv', encoding='utf8')\n",
    "\n",
    "from csv import reader\n",
    "read_file = reader(opened_file)\n",
    "apps_data = list(read_file)"
   ]
  },
  {
   "cell_type": "markdown",
   "metadata": {},
   "source": [
    "We have previously computed the average rating for all 7197 mobile apps. But there is more information for us to dig through. We might want to answer more granular questions like:\n",
    "- What's the average rating of non-free apps?\n",
    "- What's the average rating of free apps?\n",
    "\n",
    "In order to answer the two questions above, **we need to first separate free apps from non-free apps** and compute the average ratings just like we did in the previous chapter.\n",
    "\n",
    "Before we isolate the ratings of the free apps from the non-free apps, let's quickly learn another useful command for lists, namely `list_name.append()`.\n",
    "See the code below:"
   ]
  },
  {
   "cell_type": "code",
   "execution_count": 1,
   "metadata": {},
   "outputs": [
    {
     "name": "stdout",
     "output_type": "stream",
     "text": [
      "[1, 2, 3, 4]\n"
     ]
    }
   ],
   "source": [
    "number_list = [1,2,3]\n",
    "number_list.append(4)\n",
    "print(number_list)"
   ]
  },
  {
   "cell_type": "markdown",
   "metadata": {},
   "source": [
    "As you can see, `number_list.append(4)` not only added the number 4 to the end our list, but it also modified the variable `number_list` in doing so, without having the reassign.\n",
    "\n",
    "Let's use this to create a new list containing only the ratings of the apps from `apps_data`. Note that we are iterating through `apps_data[1:]`, as the first row of `apps_data` (at index 0) contains the header of the dataset. "
   ]
  },
  {
   "cell_type": "code",
   "execution_count": 3,
   "metadata": {},
   "outputs": [
    {
     "name": "stdout",
     "output_type": "stream",
     "text": [
      "[3.5, 4.5, 4.5, 4.5, 4.0]\n"
     ]
    }
   ],
   "source": [
    "opened_file = open('AppleStore.csv', encoding='utf8')\n",
    "from csv import reader\n",
    "read_file = reader(opened_file)\n",
    "apps_data = list(read_file)\n",
    "\n",
    "ratings = []\n",
    "for row in apps_data[1:]:\n",
    "    rating = float(row[7])\n",
    "    ratings.append(rating)\n",
    "    \n",
    "print(ratings[:5])"
   ]
  },
  {
   "cell_type": "markdown",
   "metadata": {},
   "source": [
    "In the code above, there is a problem with the ratings list. It includes both the ratings for the free and non-free apps. How do we only extract the ratings of the free apps? We can add a <b> condition </b> to our code above. \n",
    "To differentiate free apps from non-free apps, free apps always have a price which is equal to 0.0. \n",
    "\n",
    "So if we implement a conditional statement where the price is equal to 0.0, then we will add this app to our ratings list. \n",
    "\n",
    "We can achieve this by using an `if` statement like below:"
   ]
  },
  {
   "cell_type": "code",
   "execution_count": 4,
   "metadata": {},
   "outputs": [],
   "source": [
    "ratings = []\n",
    "for row in apps_data[1:]:  #we iterated over the apps_data[1:]\n",
    "    rating = float(row[7]) #Assign the rating as a float to a variable named rating.\n",
    "    price = float(row[4])  #Assign the price as a float to a variable named price.\n",
    "    \n",
    "    if price == 0.0: #If the price is equal to 0.0, that means this is a free app\n",
    "        ratings.append(rating) # we append the rating to the ratings list"
   ]
  },
  {
   "cell_type": "markdown",
   "metadata": {},
   "source": [
    "In the code above, we have learned about the basics of the `if` statement.\n",
    "- An if statement starts with `if` and it ends with `:` (just like the for loop)\n",
    "- We use the `==` operator to check whether the price is equal to 0.0. Pay attention that `==` is not the same with `=`. (`=` is a variable assignment operator)\n",
    "- `ratings.append(rating)` will only be executed if the if statement is true."
   ]
  },
  {
   "cell_type": "markdown",
   "metadata": {},
   "source": [
    "### Task 1.4.1:\n",
    "Complete the code in the editor to find the average rating for free apps.\n",
    "\n",
    "1. Inside the for loop:\n",
    "2. Assign the price of an app as a float to a variable named ``price``. The price is the fifth element in each row (don't forget that the index starts at 0).\n",
    "3. If `price == 0.0`, append the value stored in rating to the `free_apps_ratings` list using the `list_name.append()` command (note the `free_apps_ratings` is already defined in the code editor). Be careful with indentation.\n",
    "4. Outside the for loop body, compute the average rating of free apps. Assign the result to a variable named ``avg_rating_free``. The ratings are stored in the `free_apps_ratings` list. Hint: sum(...) / len(...)"
   ]
  },
  {
   "cell_type": "code",
   "execution_count": 5,
   "metadata": {},
   "outputs": [
    {
     "name": "stdout",
     "output_type": "stream",
     "text": [
      "3.3767258382642997\n"
     ]
    }
   ],
   "source": [
    "## Start your code below:\n",
    "\n",
    "opened_file = open('AppleStore.csv', encoding='utf8')\n",
    "from csv import reader\n",
    "read_file = reader(opened_file)\n",
    "apps_data = list(read_file)\n",
    "\n",
    "free_apps_ratings = []\n",
    "for row in apps_data[1:]:\n",
    "    rating = float(row[7])\n",
    "    # Complete the code from here\n",
    "    price = float(row[4])\n",
    "    if price == 0.0:\n",
    "        free_apps_ratings.append(rating)\n",
    "\n",
    "avg_rating_free = sum(free_apps_ratings) / len(free_apps_ratings)\n",
    "\n",
    "print(avg_rating_free)"
   ]
  },
  {
   "cell_type": "markdown",
   "metadata": {},
   "source": [
    "## 2. Booleans\n",
    "\n",
    "In the previous function, we have used if `price == 0.0` to check whether price is equal to 0.0.\n",
    "When we use the `==` operator to determine if two values are equal or not, the output returned will always be `True` or `False`."
   ]
  },
  {
   "cell_type": "code",
   "execution_count": 5,
   "metadata": {},
   "outputs": [
    {
     "name": "stdout",
     "output_type": "stream",
     "text": [
      "True\n",
      "False\n"
     ]
    }
   ],
   "source": [
    "print(10 == 10) #It's true that 10 is equal to 10\n",
    "print(10 == 2)  #It's false that 10 is equal to 2"
   ]
  },
  {
   "cell_type": "markdown",
   "metadata": {},
   "source": [
    "Do you know the type of True and False?\n",
    "They are **booleans**."
   ]
  },
  {
   "cell_type": "code",
   "execution_count": 6,
   "metadata": {},
   "outputs": [
    {
     "data": {
      "text/plain": [
       "bool"
      ]
     },
     "execution_count": 6,
     "metadata": {},
     "output_type": "execute_result"
    }
   ],
   "source": [
    "type(True)"
   ]
  },
  {
   "cell_type": "code",
   "execution_count": 7,
   "metadata": {},
   "outputs": [
    {
     "data": {
      "text/plain": [
       "bool"
      ]
     },
     "execution_count": 7,
     "metadata": {},
     "output_type": "execute_result"
    }
   ],
   "source": [
    "type(False)"
   ]
  },
  {
   "cell_type": "markdown",
   "metadata": {},
   "source": [
    "Boolean values, which are True and False, are very important to any if statement.\n",
    "An if statement must always be followed by one of the following:\n",
    "\n",
    "1. a Boolean value, or\n",
    "2. an expression that evaluates to a Boolean value.\n",
    "\n",
    "So it always has something to do with a Boolean value."
   ]
  },
  {
   "cell_type": "code",
   "execution_count": 8,
   "metadata": {},
   "outputs": [
    {
     "name": "stdout",
     "output_type": "stream",
     "text": [
      "10\n"
     ]
    }
   ],
   "source": [
    "#1. A Boolean value.\n",
    "\n",
    "if True:\n",
    "    print(10)"
   ]
  },
  {
   "cell_type": "code",
   "execution_count": 9,
   "metadata": {},
   "outputs": [
    {
     "name": "stdout",
     "output_type": "stream",
     "text": [
      "10\n"
     ]
    }
   ],
   "source": [
    "#2. An expression that evaluates to a Boolean value.\n",
    "if 10 == 10:\n",
    "    print(10)"
   ]
  },
  {
   "cell_type": "markdown",
   "metadata": {},
   "source": [
    "Pay attention: if you evaluate the expression with just one ``=``, you will get an error like this:"
   ]
  },
  {
   "cell_type": "code",
   "execution_count": 6,
   "metadata": {},
   "outputs": [
    {
     "ename": "SyntaxError",
     "evalue": "invalid syntax (<ipython-input-6-8afbef4a744d>, line 2)",
     "output_type": "error",
     "traceback": [
      "\u001b[1;36m  File \u001b[1;32m\"<ipython-input-6-8afbef4a744d>\"\u001b[1;36m, line \u001b[1;32m2\u001b[0m\n\u001b[1;33m    if 10 = 10:\u001b[0m\n\u001b[1;37m          ^\u001b[0m\n\u001b[1;31mSyntaxError\u001b[0m\u001b[1;31m:\u001b[0m invalid syntax\n"
     ]
    }
   ],
   "source": [
    "# = is not the same as ==, a SyntaxError will be thrown\n",
    "if 10 = 10:\n",
    "    print(10)"
   ]
  },
  {
   "cell_type": "markdown",
   "metadata": {},
   "source": [
    "The indented code is only executed when if is followed by True. The code body will no be executed if the if is followed by False. See the example below:"
   ]
  },
  {
   "cell_type": "code",
   "execution_count": 9,
   "metadata": {},
   "outputs": [
    {
     "name": "stdout",
     "output_type": "stream",
     "text": [
      "This boolean is true.\n",
      "The code above was not executed because \"if\" was followed by \"False\".\n"
     ]
    }
   ],
   "source": [
    "if True:\n",
    "    print('This boolean is true.')\n",
    "\n",
    "if False:\n",
    "    print('This code will not be executed.')\n",
    "\n",
    "if True:\n",
    "    print('The code above was not executed because \"if\" was followed by \"False\".')"
   ]
  },
  {
   "cell_type": "markdown",
   "metadata": {},
   "source": [
    "Note that we can write as much code as we want after the if statement like this:"
   ]
  },
  {
   "cell_type": "code",
   "execution_count": 10,
   "metadata": {},
   "outputs": [
    {
     "name": "stdout",
     "output_type": "stream",
     "text": [
      "10\n",
      "100\n",
      "1000\n"
     ]
    }
   ],
   "source": [
    "if True:\n",
    "    print(10)\n",
    "    print(100)\n",
    "    print(1000)"
   ]
  },
  {
   "cell_type": "markdown",
   "metadata": {},
   "source": [
    "### Task 1.4.2:\n",
    "\n",
    "In the code editor, we've already initialized the variable <b> price </b> with a value of 0.\n",
    "Write the code so it matches the following:\n",
    "1. If price is equal to 0, print the string 'This is free'\n",
    "2. If price is equal to 1, print the string 'This is not free'"
   ]
  },
  {
   "cell_type": "code",
   "execution_count": 11,
   "metadata": {},
   "outputs": [
    {
     "name": "stdout",
     "output_type": "stream",
     "text": [
      "This is free\n"
     ]
    }
   ],
   "source": [
    "price = 0\n",
    "\n",
    "#start your code here:\n",
    "\n",
    "if price == 0:\n",
    "    print(\"This is free\")\n",
    "else:\n",
    "    print(\"This is not free\")"
   ]
  },
  {
   "cell_type": "markdown",
   "metadata": {},
   "source": [
    "## 3. The Average Rating of Non-free Apps\n",
    "\n",
    "In the diagram below, we created a list of lists named `app_and_price`, and we want to extract the names of the free apps in a separate list. To do that, we:"
   ]
  },
  {
   "cell_type": "code",
   "execution_count": 14,
   "metadata": {},
   "outputs": [
    {
     "name": "stdout",
     "output_type": "stream",
     "text": [
      "['Facebook', 'Instagram', 'Temple Run']\n"
     ]
    }
   ],
   "source": [
    "app_and_price = [['Facebook', 0], ['Instagram', 0], ['Plants vs. Zombies', 0.99], \n",
    "                 ['Minecraft: Pocket Edition', 6.99], ['Temple Run', 0],\n",
    "                 ['Plague Inc', 0.99]]\n",
    "\n",
    "#create an empty list named free_apps\n",
    "free_apps = []\n",
    "\n",
    "#iterate over app_and_price\n",
    "for app in app_and_price: # for each iteration, we:\n",
    "    name = app[0]         # extract the name of the app and assign it to name\n",
    "    price = app[1]        # extract the price of the app and assign it to price \n",
    "    \n",
    "    if price == 0: # if the price of the app is equal to 0\n",
    "        free_apps.append(name) # append the name of the app to free_apps\n",
    "        \n",
    "print(free_apps)"
   ]
  },
  {
   "cell_type": "markdown",
   "metadata": {},
   "source": [
    "Do you remember a very similar example that we did at the beginning of this chapter?"
   ]
  },
  {
   "cell_type": "code",
   "execution_count": 15,
   "metadata": {},
   "outputs": [],
   "source": [
    "#Import data set\n",
    "opened_file = open('AppleStore.csv', encoding='utf8')\n",
    "from csv import reader\n",
    "read_file = reader(opened_file)\n",
    "apps_data = list(read_file)\n",
    "\n",
    "ratings = []\n",
    "for row in apps_data[1:]:  # we looped through a list of lists named apps_data\n",
    "    rating = float(row[7]) # extract the rating of the app and assign the rating as a float to a variable named rating.\n",
    "    price = float(row[4])  # extract the price of the app and assign the price as a float to a variable named price.\n",
    "    \n",
    "    if price == 0.0: # If the price is equal to 0.0, that means this is a free app\n",
    "        ratings.append(rating) # we append the rating to the ratings list"
   ]
  },
  {
   "cell_type": "markdown",
   "metadata": {},
   "source": [
    "These two functions basically do the same task. To extract free apps from a mixed list of free and non-free apps.\n",
    "\n",
    "When we want to extract the free apps from the list, we used the condition \"if the price is equal to 0.0\" (`if price == 0.0`).\n",
    "How do we extract the non-free apps then? The \"is not equal to\" operator comes in the place. What we have done so far is by using the \"is equal to\" operator which is just the same as `==`. And if we want to extract the non-free apps, we can use the \"is not equal to\" operator which is just like this: `!=`.\n",
    "See the example below:\n"
   ]
  },
  {
   "cell_type": "code",
   "execution_count": 16,
   "metadata": {},
   "outputs": [
    {
     "name": "stdout",
     "output_type": "stream",
     "text": [
      "True\n",
      "False\n"
     ]
    }
   ],
   "source": [
    "print(10 != 0)\n",
    "print(10 != 10)"
   ]
  },
  {
   "cell_type": "markdown",
   "metadata": {},
   "source": [
    "How can we use the `!=` operator for our price variable then? It could look as follows:"
   ]
  },
  {
   "cell_type": "code",
   "execution_count": 17,
   "metadata": {},
   "outputs": [
    {
     "name": "stdout",
     "output_type": "stream",
     "text": [
      "True\n",
      "False\n",
      "Not free\n"
     ]
    }
   ],
   "source": [
    "price = 10\n",
    "\n",
    "print(price != 0)\n",
    "print(price != 10)\n",
    "\n",
    "if price != 0:\n",
    "    print('Not free')\n",
    "    \n",
    "if price != 10:\n",
    "    print('Price is not equal to 10')"
   ]
  },
  {
   "cell_type": "markdown",
   "metadata": {},
   "source": [
    "### Task 1.4.3 (OPTIONAL): \n",
    "\n",
    "Can you modify the code in the editor below to computer ``the average rating of non-free apps``?\n",
    "\n",
    "1. Change the name of the empty list from `free_apps_ratings` to `non_free_apps_raings`.\n",
    "2. Change the conditional statement `if price == 0.0` to extract the ratings of non-free apps.\n",
    "3. Change `free_apps_ratings.append(rating)` and append to the new list `non_free_apps_ratings`.\n",
    "4. Compute the average value by summing up the values in `non_free_apps_ratings` and dividing by the length of this list. Assign the result to ``avg_rating_non_free``.\n"
   ]
  },
  {
   "cell_type": "code",
   "execution_count": 12,
   "metadata": {},
   "outputs": [
    {
     "name": "stdout",
     "output_type": "stream",
     "text": [
      "3.720948742438714\n"
     ]
    }
   ],
   "source": [
    "# INITIAL CODE\n",
    "\n",
    "opened_file = open('AppleStore.csv', encoding='utf8')\n",
    "from csv import reader\n",
    "read_file = reader(opened_file)\n",
    "apps_data = list(read_file)\n",
    "\n",
    "non_free_apps_ratings = []\n",
    "for row in apps_data[1:]:\n",
    "    rating = float(row[7])\n",
    "    price = float(row[4])   \n",
    "    if price != 0.0:\n",
    "        non_free_apps_ratings.append(rating)\n",
    "    \n",
    "avg_rating_non_free = sum(non_free_apps_ratings) / len(non_free_apps_ratings)\n",
    "\n",
    "print(avg_rating_non_free)"
   ]
  },
  {
   "cell_type": "markdown",
   "metadata": {},
   "source": [
    "## 4. The Average Rating of Gaming Apps\n",
    "We have learned about the ``==`` and ``!=`` operators, and have only worked with integers and floats. Do you know we can use these two operators with other data types as well? "
   ]
  },
  {
   "cell_type": "code",
   "execution_count": 19,
   "metadata": {},
   "outputs": [
    {
     "name": "stdout",
     "output_type": "stream",
     "text": [
      "False\n",
      "True\n"
     ]
    }
   ],
   "source": [
    "# operators with strings\n",
    "\n",
    "print('Games' == 'Music')\n",
    "print('Games' != 'Music')"
   ]
  },
  {
   "cell_type": "code",
   "execution_count": 20,
   "metadata": {},
   "outputs": [
    {
     "name": "stdout",
     "output_type": "stream",
     "text": [
      "True\n",
      "False\n"
     ]
    }
   ],
   "source": [
    "# operators with lists\n",
    "\n",
    "print([1,2,3] == [1,2,3])\n",
    "print([1,2,3] == [1,2,3,4])"
   ]
  },
  {
   "cell_type": "markdown",
   "metadata": {},
   "source": [
    "With such functionalities, we can answer more detailed questions about our data set like what the average rating of gaming and non-gaming apps is.\n",
    "\n",
    "We can see that from the data set that the ``prime_genre`` column describes the app genre. If the app is a gaming app, the genre of the app will be encoded as 'Games'.\n",
    "\n",
    "To compute the average rating of gaming apps, we can use the same approach as we took in the previous screen when we computed the average rating of free and non-free apps."
   ]
  },
  {
   "cell_type": "code",
   "execution_count": 13,
   "metadata": {},
   "outputs": [
    {
     "name": "stdout",
     "output_type": "stream",
     "text": [
      "3.6850077679958573\n"
     ]
    }
   ],
   "source": [
    "games_ratings = [] #initialize an empty list named games_ratings\n",
    "\n",
    "for row in apps_data[1:]: \n",
    "    rating = float(row[7]) # extract the rating information and assign the rating to the variable rating\n",
    "    genre = row[11] # extract the genre information and assign the genre to the variable named genre\n",
    "    \n",
    "    if genre == 'Games': # if the genre is 'Games'\n",
    "        games_ratings.append(rating) # append the rating value stored in rating to the list games_ratings\n",
    "\n",
    "avg_ratings_games = sum(games_ratings) / len(games_ratings) #compute the average rating of gaming apps\n",
    "print(avg_ratings_games)"
   ]
  },
  {
   "cell_type": "markdown",
   "metadata": {},
   "source": [
    "### Task 1.4.4:\n",
    "With the code above, can you use the same techniques to compute the average rating of ``non-gaming apps``?"
   ]
  },
  {
   "cell_type": "code",
   "execution_count": 22,
   "metadata": {},
   "outputs": [
    {
     "name": "stdout",
     "output_type": "stream",
     "text": [
      "3.343928035982009\n"
     ]
    }
   ],
   "source": [
    "# reading the dataset\n",
    "\n",
    "opened_file = open('AppleStore.csv', encoding='utf8')\n",
    "from csv import reader\n",
    "read_file = reader(opened_file)\n",
    "apps_data = list(read_file)\n",
    "\n",
    "# start your code here:\n",
    "# Initialize an empty list named non_games_ratings.\n",
    "non_games_ratings = []\n",
    "\n",
    "# Loop through the apps_data\n",
    "for row in apps_data[1:]:\n",
    "    rating = float(row[7])\n",
    "    genre = row[11]\n",
    "    \n",
    "    if genre != 'Games':\n",
    "        non_games_ratings.append(rating)\n",
    "avg_non_games_ratings = sum(non_games_ratings) / len(non_games_ratings)\n",
    "print(avg_non_games_ratings)"
   ]
  },
  {
   "cell_type": "markdown",
   "metadata": {},
   "source": [
    "## 5. Multiple Conditions\n",
    "\n",
    "So far, we've only worked with single conditions, like:\n",
    "\n",
    "- If price equals 0.0 (`if price == 0`)\n",
    "- If genre equals \"Games\" (`if genre == 'Games'`)\n",
    "\n",
    "However, single conditions won't help us answering some more complicated questions, like:\n",
    "\n",
    "- What's the average rating of free gaming apps?\n",
    "- What's the average rating of non-free gaming apps?\n",
    "- What's the average rating of free non-gaming apps?\n",
    "- What's the average rating of non-free non-gaming apps?\n",
    "\n",
    "To solve this, do you know that we can combine two or more conditions together into a single ``if`` statement using the ``and `` keyword just like the English language."
   ]
  },
  {
   "cell_type": "code",
   "execution_count": 23,
   "metadata": {},
   "outputs": [
    {
     "name": "stdout",
     "output_type": "stream",
     "text": [
      "This is a free game!\n",
      "True\n"
     ]
    }
   ],
   "source": [
    "app1_price = 0\n",
    "app1_genre = 'Games'\n",
    "\n",
    "if app1_price == 0 and app1_genre == 'Games':\n",
    "    print('This is a free game!')\n",
    "    \n",
    "print(app1_price == 0 and app1_genre == 'Games')"
   ]
  },
  {
   "cell_type": "code",
   "execution_count": 24,
   "metadata": {},
   "outputs": [
    {
     "name": "stdout",
     "output_type": "stream",
     "text": [
      "False\n"
     ]
    }
   ],
   "source": [
    "app1_price = 19\n",
    "app1_genre = 'Games'\n",
    "\n",
    "if app1_price == 0 and app1_genre == 'Games':\n",
    "    print('This is a free game!')\n",
    "    \n",
    "print(app1_price == 0 and app1_genre == 'Games')"
   ]
  },
  {
   "cell_type": "markdown",
   "metadata": {},
   "source": [
    "Do you see that the code `app1_price == 0 and app1_genre == 'Games'` outputs a single Boolean value?\n",
    "Python evaluate any combination of Booleans to a single boolean value:"
   ]
  },
  {
   "cell_type": "code",
   "execution_count": 25,
   "metadata": {},
   "outputs": [
    {
     "name": "stdout",
     "output_type": "stream",
     "text": [
      "True\n",
      "False\n",
      "False\n",
      "False\n"
     ]
    }
   ],
   "source": [
    "print(True and True)\n",
    "print(True and False)\n",
    "print(False and True)\n",
    "print(False and False)"
   ]
  },
  {
   "cell_type": "markdown",
   "metadata": {},
   "source": [
    "The rule is that when we combine Booleans using ``and``, the end output ``True`` can only take place if expressions within are all ``True``. If there is any ``False`` within, then the end output can only be ``False``. \n",
    "\n",
    "You might recall the ``truth table`` of the AND operator from your university class, which explains exactly how the ``and`` operator functions in Python.  It looks something like this:\n",
    "\n",
    "<img src=\"https://www.chilimath.com/wp-content/uploads/2020/02/truth-table-conjunction-792x1024.gif\" width=\"200\" height=\"200\" />\n"
   ]
  },
  {
   "cell_type": "markdown",
   "metadata": {},
   "source": [
    "## 6. The or Operator\n",
    "\n",
    "When we look at the `prime_genre` column we can see that there are the genres \"Social Networking\" and \"Games\".\n",
    "\n",
    "As a data scientist, sometimes we might want to figure out the average rating of both categories. That means we need to isolate the ratings of all the apps whose genre is either \"Social Networking\" or \"Games\" into a separate list, and then calculate the average value in the same way as we have always done until now.\n",
    "\n",
    "How do we isolate the ratings of these apps? This time, we can't use the `and` operator. We need an `or` operator, because it doesn't make any sense to use the `and` operator like this:\n",
    "<br>`if genre == 'Social Networking' and genre == 'Games'`\n",
    "\n",
    "Each app has only one genre in the `prime_genre` column, **you won't have any apps with both social networking and games as its genre**.\n",
    "This is where the ``or`` operator comes into place. Look at the code below:"
   ]
  },
  {
   "cell_type": "code",
   "execution_count": 26,
   "metadata": {},
   "outputs": [
    {
     "name": "stdout",
     "output_type": "stream",
     "text": [
      "[0.0, 0.0, 0.0, 0.0, 0.0]\n"
     ]
    },
    {
     "data": {
      "text/plain": [
       "4029"
      ]
     },
     "execution_count": 26,
     "metadata": {},
     "output_type": "execute_result"
    }
   ],
   "source": [
    "games_social_ratings = []\n",
    "\n",
    "for row in apps_data[1:]:\n",
    "    ratings = float(row[7])\n",
    "    genre = row[11]\n",
    "    \n",
    "    if genre == 'Social Networking' or genre == 'Games':\n",
    "        games_social_ratings.append(rating)\n",
    "\n",
    "print(games_social_ratings[:5])\n",
    "len(games_social_ratings)"
   ]
  },
  {
   "cell_type": "markdown",
   "metadata": {},
   "source": [
    "Do know then know how `or` operator behaves in Python? See below:"
   ]
  },
  {
   "cell_type": "code",
   "execution_count": 27,
   "metadata": {},
   "outputs": [
    {
     "name": "stdout",
     "output_type": "stream",
     "text": [
      "True\n",
      "True\n",
      "True\n",
      "False\n"
     ]
    }
   ],
   "source": [
    "# The OR operator\n",
    "print(True or True)\n",
    "print(True or False)\n",
    "print(False or True)\n",
    "print(False or False)"
   ]
  },
  {
   "cell_type": "markdown",
   "metadata": {},
   "source": [
    "Let's compare it again to the `and` operator:"
   ]
  },
  {
   "cell_type": "code",
   "execution_count": 14,
   "metadata": {},
   "outputs": [
    {
     "name": "stdout",
     "output_type": "stream",
     "text": [
      "True\n",
      "False\n",
      "False\n",
      "False\n"
     ]
    }
   ],
   "source": [
    "# The AND operator\n",
    "print(True and True)\n",
    "print(True and False)\n",
    "print(False and True)\n",
    "print(False and False)"
   ]
  },
  {
   "cell_type": "markdown",
   "metadata": {},
   "source": [
    "You see that the ``and`` and the ``or`` operators behave differently. The `or` operator will evaluate the statement to ``True`` if **any** of the Booleans are ``True``:"
   ]
  },
  {
   "cell_type": "code",
   "execution_count": 29,
   "metadata": {},
   "outputs": [
    {
     "name": "stdout",
     "output_type": "stream",
     "text": [
      "False\n",
      "True\n"
     ]
    }
   ],
   "source": [
    "print(False or False or False)\n",
    "print(False or False or False or True)"
   ]
  },
  {
   "cell_type": "markdown",
   "metadata": {},
   "source": [
    "Returning to our apps example, the condition `if genre == 'Social Networking' or genre == 'Games'` will only resolve to `False` when an app's genre is neither \"Social Networking\" nor \"Games.\" Otherwise, it will resolve to True."
   ]
  },
  {
   "cell_type": "markdown",
   "metadata": {},
   "source": [
    "## 7. Combining Logical Operators\n",
    "\n",
    "In the previous exercise, the average rating of the apps whose genre is either \"Social Networking\" or \"Games.\" is computed. Now we can ask even more specific questions, like:\n",
    "\n",
    "What is the average rating of <b> free </b> apps whose genre is either \"Social Networking\" or \"Games\"?\n",
    "What is the average rating of <b> non-free </b> apps whose genre is either \"Social Networking\" or \"Games\"?\n",
    "\n",
    "To answer the first question, we need to isolate the apps that:\n",
    "\n",
    "- are in either the \"Social Networking\" or \"Games\" genre, and\n",
    "- have a price of 0.0.\n",
    "\n",
    "To isolate these apps, we can combine `or` with `and` in a single if statement:\n"
   ]
  },
  {
   "cell_type": "code",
   "execution_count": 15,
   "metadata": {},
   "outputs": [],
   "source": [
    "free_games_social_ratings = []\n",
    "\n",
    "for row in apps_data[1:]:\n",
    "    rating = float(row[7])\n",
    "    genre = row[11]\n",
    "    price = float(row[4])\n",
    "    \n",
    "    if(genre == 'Social Networking' or genre == 'Games') and price == 0:\n",
    "        free_games_social_ratings.append(rating)"
   ]
  },
  {
   "cell_type": "markdown",
   "metadata": {},
   "source": [
    "Notice that we enclosed the `genre == 'Social Networking' or genre == 'Games'` part within parentheses. This helps Python understand the specific logic we want for our if statement.\n",
    "If the parentheses are not applied correctly, Python will lead us to unwanted results."
   ]
  },
  {
   "cell_type": "markdown",
   "metadata": {},
   "source": [
    "#### Attention\n",
    "Note that\n",
    "\n",
    "````python\n",
    "if (genre == 'Social Networking' or genre == 'Games') and price == 0:\n",
    "\n",
    "````\n",
    "is not the same as\n",
    "````python\n",
    "if genre == 'Social Networking' or (genre == 'Games' and price == 0):\n",
    "````"
   ]
  },
  {
   "cell_type": "code",
   "execution_count": 19,
   "metadata": {},
   "outputs": [
    {
     "name": "stdout",
     "output_type": "stream",
     "text": [
      "True\n"
     ]
    }
   ],
   "source": [
    "# No parentheses\n",
    "print(True or False and False)"
   ]
  },
  {
   "cell_type": "markdown",
   "metadata": {},
   "source": [
    "Now please observe the code below:"
   ]
  },
  {
   "cell_type": "code",
   "execution_count": 20,
   "metadata": {},
   "outputs": [
    {
     "name": "stdout",
     "output_type": "stream",
     "text": [
      "This gaming or social networking app is free!!\n"
     ]
    }
   ],
   "source": [
    "app_genre = 'Social Networking'\n",
    "app_price = 100 # This is a non-free app\n",
    "\n",
    "if app_genre == 'Social Networking' or app_genre == 'Games' and app_price == 0:\n",
    "    print('This gaming or social networking app is free!!')"
   ]
  },
  {
   "cell_type": "markdown",
   "metadata": {},
   "source": [
    "You see above that the code above has a <b> logical error </b>. We have printed 'This gaming or social networking app is free!!' for a non-free app. \n",
    "\n",
    "If we place the parentheses corretly, it makes a huge difference:"
   ]
  },
  {
   "cell_type": "code",
   "execution_count": 21,
   "metadata": {},
   "outputs": [
    {
     "name": "stdout",
     "output_type": "stream",
     "text": [
      "False\n"
     ]
    }
   ],
   "source": [
    "# Correctly placed parentheses\n",
    "print((True or False) and False)"
   ]
  },
  {
   "cell_type": "code",
   "execution_count": 22,
   "metadata": {},
   "outputs": [],
   "source": [
    "app_genre = 'Social Networking'\n",
    "app_price = 100 #This is a non-free app\n",
    "\n",
    "\n",
    "if (app_genre == 'Social Networking' or app_genre == 'Games') and app_price == 0:\n",
    "    print('This gaming or social networking app is free!!')"
   ]
  },
  {
   "cell_type": "markdown",
   "metadata": {},
   "source": [
    "We see that now this expression is evaluated correctly. Now you see the importance of using parentheses correctly. So make sure you place your parentheses correctly!"
   ]
  },
  {
   "cell_type": "markdown",
   "metadata": {},
   "source": [
    "### Task 1.4.7:\n",
    "\n",
    "Modify the code below to compute also the average rating of non-free apps whose genre is either ``Social Networking`` or ``Games``. Assign the result to a variable named ``avg_non_free``, print it and compare to `avg_free`."
   ]
  },
  {
   "cell_type": "code",
   "execution_count": 24,
   "metadata": {},
   "outputs": [
    {
     "name": "stdout",
     "output_type": "stream",
     "text": [
      "3.496875 3.8904235727440146\n"
     ]
    }
   ],
   "source": [
    "opened_file = open('AppleStore.csv', encoding='utf8')\n",
    "from csv import reader\n",
    "read_file = reader(opened_file)\n",
    "apps_data = list(read_file)\n",
    "\n",
    "free_games_social_ratings = []\n",
    "non_free_ratings = []\n",
    "\n",
    "# edit the code here:\n",
    "for row in apps_data[1:]:\n",
    "    rating = float(row[7])\n",
    "    genre = row[11]\n",
    "    price = float(row[4])\n",
    "    \n",
    "    if (genre == 'Social Networking' or genre == 'Games') and price == 0:\n",
    "        free_games_social_ratings.append(rating)\n",
    "    \n",
    "    if(genre == 'Social Networking' or genre == 'Games') and price != 0:\n",
    "        non_free_ratings.append(rating)\n",
    "        \n",
    "avg_free = sum(free_games_social_ratings) / len(free_games_social_ratings)\n",
    "\n",
    "# Non-free apps (average)\n",
    "avg_non_free = sum(non_free_ratings) / len(non_free_ratings)\n",
    "\n",
    "print(avg_free, avg_non_free)"
   ]
  },
  {
   "cell_type": "markdown",
   "metadata": {},
   "source": [
    "## 8. Comparison Operators\n",
    "\n",
    "Did you remember the equal to and non-equal to operators that we learned before? We used the `==` and `!=` operators to check whether two values are equal or not. These two operators are called `comparison operators`.\n",
    "\n",
    "Please see the <b>comparison operator table</b> below:\n",
    "\n",
    "| Comparison (text) |  Comparison operator |  Comparison (code)| \n",
    "|------------|:------:|----------:| \n",
    "| A is equal to B| == | A==B |\n",
    "| A is not equal to B |   != |   A !=B |\n",
    "| A is greater than B | >|  A > B |\n",
    "| A is greater than or equal to B |   >=  |   A >= B |\n",
    "|A is less than B|<| A < B| \n",
    "|A is less than or equal to B| < =| A <= B|\n",
    "\n",
    "What does it look when we put comparison operators into actual code?\n"
   ]
  },
  {
   "cell_type": "code",
   "execution_count": 34,
   "metadata": {},
   "outputs": [
    {
     "name": "stdout",
     "output_type": "stream",
     "text": [
      "True\n",
      "False\n",
      "True\n",
      "False\n"
     ]
    }
   ],
   "source": [
    "print(10 > 2)\n",
    "print( 10 < 2)\n",
    "print (50 >=50)\n",
    "print( 30 <=15)"
   ]
  },
  {
   "cell_type": "markdown",
   "metadata": {},
   "source": [
    "Because a comparison operator will evaluate the expression and give us a single Boolean value as the final output, we can therefore also use such comparison operators inside the ``if`` statement. \n",
    "Like this:"
   ]
  },
  {
   "cell_type": "code",
   "execution_count": 25,
   "metadata": {},
   "outputs": [
    {
     "name": "stdout",
     "output_type": "stream",
     "text": [
      "This app is expensive!\n",
      "True\n"
     ]
    }
   ],
   "source": [
    "app_name = 'Ulysses'\n",
    "app_price = 24.99\n",
    "\n",
    "if app_price > 20:\n",
    "    print('This app is expensive!')\n",
    "    \n",
    "print(app_price > 20)"
   ]
  },
  {
   "cell_type": "markdown",
   "metadata": {},
   "source": [
    "These new comparison operators open up new possibilities for us to answer more granular questions about our data set like:\n",
    "\n",
    "- How many apps have a rating of 4 or greater?\n",
    "- What is the average rating of the apps that have a price greater than 9 Dollars?\n",
    "- How many apps have a price greater than 9 Dollars?\n",
    "- How many apps have a price smaller than or equal to 9 Dollars?"
   ]
  },
  {
   "cell_type": "markdown",
   "metadata": {},
   "source": [
    "To answer the first question, we can write the code like this:\n"
   ]
  },
  {
   "cell_type": "code",
   "execution_count": 26,
   "metadata": {},
   "outputs": [
    {
     "data": {
      "text/plain": [
       "4781"
      ]
     },
     "execution_count": 26,
     "metadata": {},
     "output_type": "execute_result"
    }
   ],
   "source": [
    "apps_4_or_greater = [] # initialized an empty list named apps_4_or_greater\n",
    "\n",
    "for row in apps_data[1:]:\n",
    "    rating = float(row[7]) # Stored the rating value as a float to a variable named rating\n",
    "    if rating >= 4.0:\n",
    "        apps_4_or_greater.append(rating)\n",
    "        \n",
    "len(apps_4_or_greater)"
   ]
  },
  {
   "cell_type": "markdown",
   "metadata": {},
   "source": [
    "Alternatively, we do not have to use ``append`` in this case:"
   ]
  },
  {
   "cell_type": "code",
   "execution_count": 37,
   "metadata": {},
   "outputs": [
    {
     "name": "stdout",
     "output_type": "stream",
     "text": [
      "4781\n"
     ]
    }
   ],
   "source": [
    "n_of_apps = 0 #Initialized a variable n_of_apps with a value of 0\n",
    "\n",
    "for row in apps_data[1:]:\n",
    "    rating = float(row[7]) #Stored the rating value as a float to a variable named rating\n",
    "    if rating >= 4.0:\n",
    "        n_of_apps = n_of_apps + 1 #Incremented the value of n_of_apps by 1 \n",
    "        #if the value stored in rating was greater than or equal to 4.0\n",
    "        \n",
    "print(n_of_apps)"
   ]
  },
  {
   "cell_type": "markdown",
   "metadata": {},
   "source": [
    "## 9. The else Clause\n",
    "\n",
    "Let's say we need to use information from the price column to label each app as ``free`` or ``non-free``. If the price is equal to ``0.0``, we want to label the app ``free``. Otherwise, we want to label it ``non-free``. To summarize this is Python language it's like this:"
   ]
  },
  {
   "cell_type": "code",
   "execution_count": 27,
   "metadata": {},
   "outputs": [
    {
     "name": "stdout",
     "output_type": "stream",
     "text": [
      "[['GoodNotes', 19.99, 'non-free'], ['Amazon', 0.0, 'free'], ['Chrome', 0.0, 'free'], ['Snapchat', 0.0, 'free']]\n"
     ]
    }
   ],
   "source": [
    "apps_data = [['GoodNotes', 19.99], ['Amazon', 0.0], ['Chrome', 0.0], ['Snapchat', 0.0]]\n",
    "\n",
    "for app in apps_data:\n",
    "    price = app[1] #We saved the price value to a variable named price.\n",
    "    \n",
    "    if price == 0.0: #If price == 0.0\n",
    "        app.append('free') #we appended the string 'free' to the list app \n",
    "    if price != 0.0: #If price != 0.0\n",
    "        app.append('non-free') #we appended the string 'non-free' to the list \n",
    "        \n",
    "print(apps_data)"
   ]
  },
  {
   "cell_type": "markdown",
   "metadata": {},
   "source": [
    "For each iteration, the computer evaluate two expressons: ``price == 0.0`` and ``price != 0.0``. But once we know that ``price == 0.0`` for an app, it's redundant to also check `price != 0.0` for the same app — if we know that the price is ``0``, it doesn't make logical sense to also check whether the price is different than `0`.\n",
    "\n",
    "In our small data set above, we have 3 free apps. The computer evaluated ``price == 0.0`` as ``True`` 3 times, and then checked whether ``price != 0.0`` for the same number of times. There are 3 **redundant** operations performed in this small dataset. \n",
    "\n",
    "However, if we have a data set with 5,000 free apps, we wouldn't want our computer to perform 5,000 redundant operations. This can be avoided using the if statement with an ``else`` clause:"
   ]
  },
  {
   "cell_type": "code",
   "execution_count": 28,
   "metadata": {},
   "outputs": [
    {
     "name": "stdout",
     "output_type": "stream",
     "text": [
      "[['GoodNotes', 19.99, 'non-free'], ['Amazon', 0.0, 'free'], ['Chrome', 0.0, 'free'], ['Snapchat', 0.0, 'free']]\n"
     ]
    }
   ],
   "source": [
    "apps_data = [['GoodNotes', 19.99], ['Amazon', 0.0], ['Chrome', 0.0], ['Snapchat', 0.0]]\n",
    "\n",
    "for app in apps_data:\n",
    "    price = app[1] # We saved the price value to a variable named price.\n",
    "    \n",
    "    if price == 0.0: # If price == 0.0\n",
    "        app.append('free') # we appended the string 'free' to the list app \n",
    "    else: # If price  is not 0.0,\n",
    "        app.append('non-free') # we appended the string 'non-free' to the list \n",
    "        \n",
    "print(apps_data)"
   ]
  },
  {
   "cell_type": "markdown",
   "metadata": {},
   "source": [
    "You see that the two chunks of code above give the same result, but the latter ist much more *sufficient* and *sophisticated*.\n",
    "\n",
    "Pay attention that the code within the body of an else clause is executed only if the if statement that precedes it resolves to `False`."
   ]
  },
  {
   "cell_type": "markdown",
   "metadata": {},
   "source": [
    "~~~python\n",
    "if False:\n",
    "    print(10)\n",
    "else:\n",
    "    print(100)\n",
    "~~~\n",
    "\n",
    "Just like in our apps example:\n",
    "````python\n",
    "price = 5\n",
    "\n",
    "if price == 0:\n",
    "    print('free')\n",
    "else: \n",
    "    print('not free')\n",
    "````\n",
    "---"
   ]
  },
  {
   "cell_type": "markdown",
   "metadata": {},
   "source": [
    "````python\n",
    "price = 0\n",
    "\n",
    "if price == 0:\n",
    "    print('free')\n",
    "else: \n",
    "    print('not free')\n",
    "````"
   ]
  },
  {
   "cell_type": "markdown",
   "metadata": {},
   "source": [
    "In the apps example above, the code within the body of the ``else`` clause is executed only if ``price == 0.0`` evaluates to `False`. \n",
    "\n",
    "If `price == 0.0` is `True`, then the line\n",
    "\n",
    "````python\n",
    "app.append('free') \n",
    "````\n",
    "is executed, and computer moves forward *without* executing the else clause.\n",
    "\n",
    "Note that an else clause must be combined with a preceding if statement. We can have an if statement without an else clause, but we can't have an else clause without a preceding if statement. In the example below, the else clause alone throws out a ``SyntaxError``:"
   ]
  },
  {
   "cell_type": "code",
   "execution_count": 29,
   "metadata": {},
   "outputs": [
    {
     "ename": "SyntaxError",
     "evalue": "invalid syntax (<ipython-input-29-f51a231609d2>, line 1)",
     "output_type": "error",
     "traceback": [
      "\u001b[1;36m  File \u001b[1;32m\"<ipython-input-29-f51a231609d2>\"\u001b[1;36m, line \u001b[1;32m1\u001b[0m\n\u001b[1;33m    else:\u001b[0m\n\u001b[1;37m       ^\u001b[0m\n\u001b[1;31mSyntaxError\u001b[0m\u001b[1;31m:\u001b[0m invalid syntax\n"
     ]
    }
   ],
   "source": [
    "else:\n",
    "    print('This will not be printed, becausewe cannot have an else clause without a preceding if statement.' )"
   ]
  },
  {
   "cell_type": "markdown",
   "metadata": {},
   "source": [
    "When we combine a statement with a clause, we create a compound statement — combining an if statement with an else clause makes up a compound statement."
   ]
  },
  {
   "cell_type": "markdown",
   "metadata": {},
   "source": [
    "## 10. The elif Clause\n",
    "\n",
    "What happens when we have a more granular label rather than just using \"free\" and \"non-free\" like below:\n",
    "\n",
    "| price | label |  \n",
    "|------------|:------:|\n",
    "| 0 | free|\n",
    "| < 20 |  affordable |\n",
    "| 20 - 50 | expensive |\n",
    "|> 50| very expensive |"
   ]
  },
  {
   "cell_type": "markdown",
   "metadata": {},
   "source": [
    "Using what we learned from the previous section, our code will like below:"
   ]
  },
  {
   "cell_type": "code",
   "execution_count": 41,
   "metadata": {},
   "outputs": [
    {
     "name": "stdout",
     "output_type": "stream",
     "text": [
      "[['GoodNotes', 19.99, 'affordable'], ['Call of Duty Zombies', 5.0, 'affordable'], ['Notability', 29.99, 'expensive'], ['Snapchat', 0.0, 'free']]\n"
     ]
    }
   ],
   "source": [
    "apps_data = [['GoodNotes', 19.99], ['Call of Duty Zombies', 5.0], ['Notability', 29.99], ['Snapchat', 0.0]]\n",
    "\n",
    "for app in apps_data:\n",
    "    price = app[1] \n",
    "    \n",
    "    if price == 0.0: \n",
    "        app.append('free') \n",
    "    if price > 0.0 and price < 20:\n",
    "        app.append('affordable')\n",
    "    if price >= 20 and price < 50:\n",
    "        app.append('expensive')\n",
    "    if price >= 50:\n",
    "        app.append('very expensive')\n",
    "        \n",
    "print(apps_data)"
   ]
  },
  {
   "cell_type": "markdown",
   "metadata": {},
   "source": [
    "When an app is free, ``price == 0.0`` evaluates to ``True`` and ``app.append('free')`` is executed. But then the computer continues to do redundant operations — it checks whether:\n",
    "\n",
    "-  `price > 0 and price < 20`\n",
    "-  `price >= 20 and price < 50`\n",
    "-  `price >= 50`\n",
    "\n",
    "We already know the three conditions above will evaluate to False once we find out that `price == 0.0` is `True`. To stop the computer from doing redundant operations, we can use **elif clauses**:"
   ]
  },
  {
   "cell_type": "code",
   "execution_count": 45,
   "metadata": {},
   "outputs": [
    {
     "name": "stdout",
     "output_type": "stream",
     "text": [
      "[['GoodNotes', 19.99, 'affordable'], ['Call of Duty Zombies', 5.0, 'affordable'], ['Notability', 29.99, 'expensive'], ['Snapchat', 0.0, 'free']]\n"
     ]
    }
   ],
   "source": [
    "apps_data = [['GoodNotes', 19.99], ['Call of Duty Zombies', 5.0], ['Notability', 29.99], ['Snapchat', 0.0]]\n",
    "\n",
    "for app in apps_data:\n",
    "    price = app[1] \n",
    "    \n",
    "    if price == 0.0: \n",
    "        app.append('free') \n",
    "    elif price > 0.0 and price < 20:\n",
    "        app.append('affordable')\n",
    "    elif price >= 20 and price < 50:\n",
    "        app.append('expensive')\n",
    "    elif price >= 50:\n",
    "        app.append('very expensive')\n",
    "        \n",
    "print(apps_data)"
   ]
  },
  {
   "cell_type": "markdown",
   "metadata": {},
   "source": [
    "The code within the body of an elif clause is executed only if:\n",
    "\n",
    "- The preceding if statement (or the other preceding elif clauses) resolves to `False`; and\n",
    "- The condition specified after the elif keyword evaluates to `True`.\n",
    "\n",
    "For example, if `price == 0.0` is evaluated to be `True`, the computer will execute `app.append('free')` and jump out of this section of code (skip the rest of the elif clauses).\n",
    "\n",
    "Notice that if we replace the last `elif` with `else` instead, the statement app.append('very expensive') will be executed even if the price has a value of -5 or -100 like this:"
   ]
  },
  {
   "cell_type": "code",
   "execution_count": 46,
   "metadata": {},
   "outputs": [
    {
     "name": "stdout",
     "output_type": "stream",
     "text": [
      "[['GoodNotes', -19.99, 'very expensive'], ['Call of Duty Zombies', -5.0, 'very expensive'], ['Notability', 29.99, 'expensive'], ['Snapchat', 0.0, 'free']]\n"
     ]
    }
   ],
   "source": [
    "apps_data = [['GoodNotes', -19.99], ['Call of Duty Zombies', -5.0], ['Notability', 29.99], ['Snapchat', 0.0]]\n",
    "\n",
    "for app in apps_data:\n",
    "    price = app[1] \n",
    "    \n",
    "    if price == 0.0: \n",
    "        app.append('free') \n",
    "    elif price > 0.0 and price < 20:\n",
    "        app.append('affordable')\n",
    "    elif price >= 20 and price < 50:\n",
    "        app.append('expensive')\n",
    "    else:\n",
    "        app.append('very expensive')\n",
    "        \n",
    "print(apps_data)"
   ]
  },
  {
   "cell_type": "markdown",
   "metadata": {},
   "source": [
    "Now let's have some practice with the `else` and `elif` statements.\n",
    "### Task 1.4.10 (OPTIONAL):\n",
    "\n",
    "1. Complete the code in the editor to label each app as ``free``, ``affordable``, ``expensive``, or ``very expensive``. Inside the loop:\n",
    "  - If the price of the app is 0, label the app as ``free`` by appending the string ``free`` to the current iteration variable.\n",
    "  - If the price of the app is greater than 0 and less than 20, label the app as ``affordable``. For efficiency purposes, use an elif clause.\n",
    "  - If the price of the app is greater or equal to 20 and less than 50, label the app as ``expensive``. For efficiency purposes, use an elif clause.\n",
    "  - If the price of the app is greater or equal to 50, label the app as ``very expensive``. For efficiency purposes, use an elif clause.\n",
    "2. Name the newly created column ``price_label`` by appending the string ``price_label`` to the first row of the ``apps_data`` data set.\n",
    "3. Inspect the header row and the first five rows to see some of the changes you made."
   ]
  },
  {
   "cell_type": "code",
   "execution_count": 32,
   "metadata": {},
   "outputs": [
    {
     "name": "stdout",
     "output_type": "stream",
     "text": [
      "['id', 'track_name', 'size_bytes', 'currency', 'price', 'rating_count_tot', 'rating_count_ver', 'user_rating', 'user_rating_ver', 'ver', 'cont_rating', 'prime_genre', 'sup_devices.num', 'ipadSc_urls.num', 'lang.num', 'vpp_lic', 'price_label']\n",
      "['284882215', 'Facebook', '389879808', 'USD', '0.0', '2974676', '212', '3.5', '3.5', '95.0', '4+', 'Social Networking', '37', '1', '29', '1', 'free']\n",
      "['389801252', 'Instagram', '113954816', 'USD', '0.0', '2161558', '1289', '4.5', '4.0', '10.23', '12+', 'Photo & Video', '37', '0', '29', '1', 'free']\n",
      "['529479190', 'Clash of Clans', '116476928', 'USD', '0.0', '2130805', '579', '4.5', '4.5', '9.24.12', '9+', 'Games', '38', '5', '18', '1', 'free']\n",
      "['420009108', 'Temple Run', '65921024', 'USD', '0.0', '1724546', '3842', '4.5', '4.0', '1.6.2', '9+', 'Games', '40', '5', '1', '1', 'free']\n",
      "['284035177', 'Pandora - Music & Radio', '130242560', 'USD', '0.0', '1126879', '3594', '4.0', '4.5', '8.4.1', '12+', 'Music', '37', '4', '1', '1', 'free']\n",
      "['429047995', 'Pinterest', '74778624', 'USD', '0.0', '1061624', '1814', '4.5', '4.0', '6.26', '12+', 'Social Networking', '37', '5', '27', '1', 'free']\n"
     ]
    }
   ],
   "source": [
    "# INITIAL CODE\n",
    "\n",
    "opened_file = open('AppleStore.csv', encoding='utf8')\n",
    "from csv import reader\n",
    "read_file = reader(opened_file)\n",
    "apps_data = list(read_file)\n",
    "\n",
    "for app in apps_data[1:]:\n",
    "    price = float(app[4])\n",
    "    # Complete code from here\n",
    "    if price == 0:\n",
    "        app.append(\"free\")\n",
    "    elif price > 0 and price < 20:\n",
    "        app.append(\"affordable\")\n",
    "    elif price >= 20 and price < 50:\n",
    "        app.append(\"expensive\")\n",
    "    elif price >= 50:\n",
    "        app.append(\"very expensive\")\n",
    "        \n",
    "apps_data[0].append(\"price_label\")\n",
    "\n",
    "\n",
    "for row in apps_data[:7]:\n",
    "    print(row)"
   ]
  },
  {
   "cell_type": "markdown",
   "metadata": {},
   "source": [
    "In this chapter, we learned to combine conditional statements and clauses (`if`, `else`, `elif`) with logical operators (`and`, `or`) and comparison operators (`==`, `!=`, `>`, `>=`, `<`, `<=`) to answer some granular and more complicated questions."
   ]
  }
 ],
 "metadata": {
  "kernelspec": {
   "display_name": "Python 3",
   "language": "python",
   "name": "python3"
  },
  "language_info": {
   "codemirror_mode": {
    "name": "ipython",
    "version": 3
   },
   "file_extension": ".py",
   "mimetype": "text/x-python",
   "name": "python",
   "nbconvert_exporter": "python",
   "pygments_lexer": "ipython3",
   "version": "3.7.1"
  }
 },
 "nbformat": 4,
 "nbformat_minor": 4
}
