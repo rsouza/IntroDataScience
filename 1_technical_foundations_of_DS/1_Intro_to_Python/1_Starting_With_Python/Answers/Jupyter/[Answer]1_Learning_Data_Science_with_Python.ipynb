{
 "cells": [
  {
   "cell_type": "markdown",
   "metadata": {
    "application/vnd.databricks.v1+cell": {
     "cellMetadata": {
      "byteLimit": 2048000,
      "rowLimit": 10000
     },
     "inputWidgets": {},
     "nuid": "c33aab2d-e2d3-490b-9dde-bec884d4c164",
     "showTitle": false,
     "title": ""
    }
   },
   "source": [
    "## About This Notebook\n",
    "\n",
    "Within this notebook, we are going to make our very first steps into the vast world of Python. \n",
    "\n",
    "- What does one line of *code* looks like?\n",
    "- What is *syntax*?\n",
    "- What are *comments*?\n",
    "- How do we perform *arithmetic operations*?\n",
    "***"
   ]
  },
  {
   "cell_type": "markdown",
   "metadata": {
    "application/vnd.databricks.v1+cell": {
     "cellMetadata": {
      "byteLimit": 2048000,
      "rowLimit": 10000
     },
     "inputWidgets": {},
     "nuid": "4c0255be-aa05-4883-89ff-faae4b47a1b7",
     "showTitle": false,
     "title": ""
    }
   },
   "source": [
    "## 1. First Lines of Code"
   ]
  },
  {
   "cell_type": "markdown",
   "metadata": {
    "application/vnd.databricks.v1+cell": {
     "cellMetadata": {
      "byteLimit": 2048000,
      "rowLimit": 10000
     },
     "inputWidgets": {},
     "nuid": "139466f9-286a-4dc5-9c52-f8fdc660a8e8",
     "showTitle": false,
     "title": ""
    }
   },
   "source": [
    "Python is one of the most popular programming langugage these days. It designed for readability, and it shares some similarities with the English Language as well as having influence from mathematics. It is one of the most straight-forward and easily understandable programming languages.\n",
    "\n",
    "\n",
    "### Task 1.1.1:\n",
    "1. How does Python compute 25+5? Try type in 25 + 5 in the following cell, just below where the text indicates it:"
   ]
  },
  {
   "cell_type": "code",
   "execution_count": 0,
   "metadata": {
    "application/vnd.databricks.v1+cell": {
     "cellMetadata": {
      "byteLimit": 2048000,
      "rowLimit": 10000
     },
     "inputWidgets": {},
     "nuid": "f71f5a19-59b6-406a-aecc-7df0510577a5",
     "showTitle": false,
     "title": ""
    }
   },
   "outputs": [],
   "source": [
    "# Start your code below:\n",
    "\n",
    "25 + 5\n"
   ]
  },
  {
   "cell_type": "markdown",
   "metadata": {
    "application/vnd.databricks.v1+cell": {
     "cellMetadata": {
      "byteLimit": 2048000,
      "rowLimit": 10000
     },
     "inputWidgets": {},
     "nuid": "f87d30a5-b968-4cd5-bda2-da9e087eca46",
     "showTitle": false,
     "title": ""
    }
   },
   "source": [
    "2. In the line above, a single calculation is instructed: 25 + 5. However, the computer is capable to perform more than just one calculation. Try to instruct the computer to perform multiple calculations like:\n",
    "\n",
    "25 + 5 <br>\n",
    "20 - 7 <br>\n",
    "30 + 2 <br>\n",
    "67 - 22 <br>\n"
   ]
  },
  {
   "cell_type": "code",
   "execution_count": 0,
   "metadata": {
    "application/vnd.databricks.v1+cell": {
     "cellMetadata": {
      "byteLimit": 2048000,
      "rowLimit": 10000
     },
     "inputWidgets": {},
     "nuid": "506407a1-4217-4d62-863b-0f2554be78f7",
     "showTitle": false,
     "title": ""
    }
   },
   "outputs": [],
   "source": [
    "# Start your code below:\n",
    "\n",
    "25 + 5\n",
    "20 - 7\n",
    "30 + 2\n",
    "67 - 22\n"
   ]
  },
  {
   "cell_type": "markdown",
   "metadata": {
    "application/vnd.databricks.v1+cell": {
     "cellMetadata": {
      "byteLimit": 2048000,
      "rowLimit": 10000
     },
     "inputWidgets": {},
     "nuid": "ec41a17b-a99a-4c03-91de-4c44324fc47d",
     "showTitle": false,
     "title": ""
    }
   },
   "source": [
    "The output is 45 and it seems like the computer only performed the last subtraction, 67 - 22. Hmm strange...\n",
    "## 2. The print() Command\n",
    "\n",
    "What really happens is that the computer performed all the calculations above, but it only displays the last one as the output result. To display all calculation results, what we need is to use the `print()` command (function), like this:"
   ]
  },
  {
   "cell_type": "code",
   "execution_count": 0,
   "metadata": {
    "application/vnd.databricks.v1+cell": {
     "cellMetadata": {
      "byteLimit": 2048000,
      "rowLimit": 10000
     },
     "inputWidgets": {},
     "nuid": "21f9760e-7d6e-46b7-9dc5-00207b709eee",
     "showTitle": false,
     "title": ""
    }
   },
   "outputs": [],
   "source": [
    "print(25 + 5)\n",
    "print(10 - 6)\n",
    "print(30 + 2)\n",
    "print(12 + 38)"
   ]
  },
  {
   "cell_type": "markdown",
   "metadata": {
    "application/vnd.databricks.v1+cell": {
     "cellMetadata": {
      "byteLimit": 2048000,
      "rowLimit": 10000
     },
     "inputWidgets": {},
     "nuid": "a6d2f192-f6a0-4b53-b88c-026e6ff61a5a",
     "showTitle": false,
     "title": ""
    }
   },
   "source": [
    "Don't worry for now what *command* (or function) exactly is. You will get to learn that later. It is for you, for now, only important to understand that if we learn what a command does, we can use it to our advantage.Now let's have some practice with the `print()` command."
   ]
  },
  {
   "cell_type": "markdown",
   "metadata": {
    "application/vnd.databricks.v1+cell": {
     "cellMetadata": {
      "byteLimit": 2048000,
      "rowLimit": 10000
     },
     "inputWidgets": {},
     "nuid": "d4d1c515-fbb7-4929-b13c-6168a3017aed",
     "showTitle": false,
     "title": ""
    }
   },
   "source": [
    "### Task 1.1.2:\n",
    "1. Using the `print()` command and display the result for:\n",
    "-  55 + 5\n",
    "- 300 - 8\n",
    "- 21 + 67\n",
    "\n",
    "2. Click the Run button when you're ready to see your results."
   ]
  },
  {
   "cell_type": "code",
   "execution_count": 0,
   "metadata": {
    "application/vnd.databricks.v1+cell": {
     "cellMetadata": {
      "byteLimit": 2048000,
      "rowLimit": 10000
     },
     "inputWidgets": {},
     "nuid": "16bc11a0-ad08-411b-8085-40b184681ab4",
     "showTitle": false,
     "title": ""
    }
   },
   "outputs": [],
   "source": [
    "# Start your code below:\n",
    "print(55 + 5)\n",
    "print(300 - 8)\n",
    "print( 21 + 67)"
   ]
  },
  {
   "cell_type": "markdown",
   "metadata": {
    "application/vnd.databricks.v1+cell": {
     "cellMetadata": {
      "byteLimit": 2048000,
      "rowLimit": 10000
     },
     "inputWidgets": {},
     "nuid": "3293b2bd-11a3-4a7a-b65f-edf0ce69e82c",
     "showTitle": false,
     "title": ""
    }
   },
   "source": [
    "Have you ever wondered what happens if we put all print commands one the same line? \n",
    "Try to type this in the following cell: print(55 + 5) print(300 - 8) print(21 + 67)"
   ]
  },
  {
   "cell_type": "code",
   "execution_count": 0,
   "metadata": {
    "application/vnd.databricks.v1+cell": {
     "cellMetadata": {
      "byteLimit": 2048000,
      "rowLimit": 10000
     },
     "inputWidgets": {},
     "nuid": "797236c6-3810-4f28-9e51-8abfa6d499ce",
     "showTitle": false,
     "title": ""
    }
   },
   "outputs": [],
   "source": [
    "print(55 + 5) print(300 - 8) print(21 + 67)"
   ]
  },
  {
   "cell_type": "markdown",
   "metadata": {
    "application/vnd.databricks.v1+cell": {
     "cellMetadata": {
      "byteLimit": 2048000,
      "rowLimit": 10000
     },
     "inputWidgets": {},
     "nuid": "cdb23045-6127-4c22-a648-185761f0075a",
     "showTitle": false,
     "title": ""
    }
   },
   "source": [
    "It would work, however, if we had separated the commands with a semicolon (although this is not usual in Python)."
   ]
  },
  {
   "cell_type": "code",
   "execution_count": 0,
   "metadata": {
    "application/vnd.databricks.v1+cell": {
     "cellMetadata": {
      "byteLimit": 2048000,
      "rowLimit": 10000
     },
     "inputWidgets": {},
     "nuid": "8b93104a-86fd-452c-9570-baaa67dd5238",
     "showTitle": false,
     "title": ""
    }
   },
   "outputs": [],
   "source": [
    "print(55 + 5); print(300 - 8); print(21 + 67)"
   ]
  },
  {
   "cell_type": "markdown",
   "metadata": {
    "application/vnd.databricks.v1+cell": {
     "cellMetadata": {
      "byteLimit": 2048000,
      "rowLimit": 10000
     },
     "inputWidgets": {},
     "nuid": "ca4a8c3e-16f9-41e2-a8b4-57fce19e3083",
     "showTitle": false,
     "title": ""
    }
   },
   "source": [
    "## 3. Python Syntax\n",
    "Yes, indeed. We'd get an **error**. And in fact it is described as a syntax error. This is because all programming languages like Python, Java, C++ all have its own **syntax rules**. Each line of instructions must comply with these rules. \n",
    "\n",
    "You can compare these syntax rules with grammar in human languages. If we want to convey a message, we must respect and follow the syntax rules in order to deliver our message in a meaningful way. For example, people will understand \"Data Science is super cool\", but not \"science super cool data is\".  Likewise, the computer didn't understand print(55 + 5) print(300 - 8) print(21 + 67) because the syntax was wrong.\n",
    "\n",
    "**Running into errors while programming is more common than you would think!** Forget those action scenes from blockbuster movies where hackers code faster than the speed of light! The real life of a programmer often times is about examining (calmly and with patience) why a certain error occurred."
   ]
  },
  {
   "cell_type": "markdown",
   "metadata": {
    "application/vnd.databricks.v1+cell": {
     "cellMetadata": {
      "byteLimit": 2048000,
      "rowLimit": 10000
     },
     "inputWidgets": {},
     "nuid": "63673377-8978-4766-a6f3-3d60b98ba57f",
     "showTitle": false,
     "title": ""
    }
   },
   "source": [
    "After learning about some syntax rules, let's dive into the next task.\n",
    "\n",
    "### Task 1.1.3:\n",
    "1. Try to run the instructions in the line below and see what the computer outputs as result. Remember that each command must be on a separate line.\n",
    "\n",
    "- print(30 + 20 + 50)\n",
    "- print(5)\n",
    "- print(-2)\n"
   ]
  },
  {
   "cell_type": "code",
   "execution_count": 0,
   "metadata": {
    "application/vnd.databricks.v1+cell": {
     "cellMetadata": {
      "byteLimit": 2048000,
      "rowLimit": 10000
     },
     "inputWidgets": {},
     "nuid": "85b97850-be9a-4f06-a9f0-230627dba6c7",
     "showTitle": false,
     "title": ""
    }
   },
   "outputs": [],
   "source": [
    "# Start your code below:\n",
    "\n",
    "print(30 + 20 + 50)\n",
    "print(5)\n",
    "print(-2)"
   ]
  },
  {
   "cell_type": "markdown",
   "metadata": {
    "application/vnd.databricks.v1+cell": {
     "cellMetadata": {
      "byteLimit": 2048000,
      "rowLimit": 10000
     },
     "inputWidgets": {},
     "nuid": "9b96f0fc-4536-43da-a14c-b9955509e7ab",
     "showTitle": false,
     "title": ""
    }
   },
   "source": [
    "In the line above, three instructions were given to the computer:\n",
    "\n",
    "- print(30 + 20 + 50)\n",
    "- print(5)\n",
    "- print(-2)\n",
    "\n",
    "All these instructions are collectively known as **code**. Each line of command is known as a **line of code**. When we program or when we write code, we instruct or program the computer to do some tasks. Therefore, we can also call the code we write a computer program, or just simply a program.\n",
    "\n",
    "The program we wrote in *Task 2.1* had three lines of code, but a program can be as small as one line."
   ]
  },
  {
   "cell_type": "markdown",
   "metadata": {
    "application/vnd.databricks.v1+cell": {
     "cellMetadata": {
      "byteLimit": 2048000,
      "rowLimit": 10000
     },
     "inputWidgets": {},
     "nuid": "cb140a13-6a52-453d-8586-b1920ba9661c",
     "showTitle": false,
     "title": ""
    }
   },
   "source": [
    "### Task 1.1.3.2:\n",
    "1. Try to use the `print()` command and write a program that consists of three lines of code:\n",
    "- displays the result of 58 + 6\n",
    "- displays the number 21\n",
    "- displays the number -21\n",
    "2. Hit the Run button after you have finished and compare your output with our task requirement."
   ]
  },
  {
   "cell_type": "code",
   "execution_count": 0,
   "metadata": {
    "application/vnd.databricks.v1+cell": {
     "cellMetadata": {
      "byteLimit": 2048000,
      "rowLimit": 10000
     },
     "inputWidgets": {},
     "nuid": "d66ab377-c6dc-4761-a7a1-9607ed1d29aa",
     "showTitle": false,
     "title": ""
    }
   },
   "outputs": [],
   "source": [
    "# Start your code below:\n",
    "\n",
    "print(58 + 6)\n",
    "print(21)\n",
    "print(-21)"
   ]
  },
  {
   "cell_type": "markdown",
   "metadata": {
    "application/vnd.databricks.v1+cell": {
     "cellMetadata": {
      "byteLimit": 2048000,
      "rowLimit": 10000
     },
     "inputWidgets": {},
     "nuid": "16da7997-aaf4-4325-9c21-0fc2b39b7689",
     "showTitle": false,
     "title": ""
    }
   },
   "source": [
    "## 4. Code Comments\n",
    "Before we get down to real programming, we want to introduce you the # symbol, also known as the **comment symbol**. \n",
    "Any code or characters that follows the # symbol is called a code comment. Programmers use this symbol to add information or comments about our code."
   ]
  },
  {
   "cell_type": "code",
   "execution_count": 0,
   "metadata": {
    "application/vnd.databricks.v1+cell": {
     "cellMetadata": {
      "byteLimit": 2048000,
      "rowLimit": 10000
     },
     "inputWidgets": {},
     "nuid": "230a37cc-d877-41c5-8814-bf14c0306629",
     "showTitle": false,
     "title": ""
    }
   },
   "outputs": [],
   "source": [
    "print(3 + 1)\n",
    "print(10 - 9) #This is the line that outputs 1"
   ]
  },
  {
   "cell_type": "markdown",
   "metadata": {
    "application/vnd.databricks.v1+cell": {
     "cellMetadata": {
      "byteLimit": 2048000,
      "rowLimit": 10000
     },
     "inputWidgets": {},
     "nuid": "abe1aaa5-e04c-4ebb-8540-ef9c9f4b5d58",
     "showTitle": false,
     "title": ""
    }
   },
   "source": [
    "We can also use code comments to add a general description at the beginning of our program.\n",
    "Now let's have some practice with the ``#`` symbol.\n",
    "Please type the following code in the editor below:\n",
    "- `#print(5 + 21)`\n",
    "- `#print(5)`\n",
    "- `#print(-5)`"
   ]
  },
  {
   "cell_type": "code",
   "execution_count": 0,
   "metadata": {
    "application/vnd.databricks.v1+cell": {
     "cellMetadata": {
      "byteLimit": 2048000,
      "rowLimit": 10000
     },
     "inputWidgets": {},
     "nuid": "0e08b0c8-ecb8-4c5a-b82c-85aa1f72f273",
     "showTitle": false,
     "title": ""
    }
   },
   "outputs": [],
   "source": [
    "# Start your code below:\n",
    "\n",
    "#print(5 + 21)\n",
    "#print(5)\n",
    "#print(-5)"
   ]
  },
  {
   "cell_type": "markdown",
   "metadata": {
    "application/vnd.databricks.v1+cell": {
     "cellMetadata": {
      "byteLimit": 2048000,
      "rowLimit": 10000
     },
     "inputWidgets": {},
     "nuid": "1bcadfde-bc59-419b-958c-87f4d79c38e9",
     "showTitle": false,
     "title": ""
    }
   },
   "source": [
    "Uncomment these three lines of code by removing the ``#`` symbol and then click the Run button."
   ]
  },
  {
   "cell_type": "markdown",
   "metadata": {
    "application/vnd.databricks.v1+cell": {
     "cellMetadata": {
      "byteLimit": 2048000,
      "rowLimit": 10000
     },
     "inputWidgets": {},
     "nuid": "43d04954-a939-4966-a70d-bf6288ab2b4f",
     "showTitle": false,
     "title": ""
    }
   },
   "source": [
    "## 5. Arithmetical Operations\n",
    "In the previous section, we have performed additions and subtractions. To perform multiplication, we can use the * symbol. To multiply 5 * 2 we can type:"
   ]
  },
  {
   "cell_type": "code",
   "execution_count": 0,
   "metadata": {
    "application/vnd.databricks.v1+cell": {
     "cellMetadata": {
      "byteLimit": 2048000,
      "rowLimit": 10000
     },
     "inputWidgets": {},
     "nuid": "18cb1d38-5ed9-46ba-91c5-38a51e949bfa",
     "showTitle": false,
     "title": ""
    }
   },
   "outputs": [],
   "source": [
    "5 * 2 "
   ]
  },
  {
   "cell_type": "markdown",
   "metadata": {
    "application/vnd.databricks.v1+cell": {
     "cellMetadata": {
      "byteLimit": 2048000,
      "rowLimit": 10000
     },
     "inputWidgets": {},
     "nuid": "43d72559-2c97-43f5-b735-ca3f9e94d9bd",
     "showTitle": false,
     "title": ""
    }
   },
   "source": [
    "To perform division, we can use the / symbol. To divide 10 / 5:"
   ]
  },
  {
   "cell_type": "code",
   "execution_count": 0,
   "metadata": {
    "application/vnd.databricks.v1+cell": {
     "cellMetadata": {
      "byteLimit": 2048000,
      "rowLimit": 10000
     },
     "inputWidgets": {},
     "nuid": "fff0e56d-4275-4eb7-8341-9f0e4c14141a",
     "showTitle": false,
     "title": ""
    }
   },
   "outputs": [],
   "source": [
    "10 / 5"
   ]
  },
  {
   "cell_type": "markdown",
   "metadata": {
    "application/vnd.databricks.v1+cell": {
     "cellMetadata": {
      "byteLimit": 2048000,
      "rowLimit": 10000
     },
     "inputWidgets": {},
     "nuid": "7296fefc-2813-470a-a329-23a1f7bddbe8",
     "showTitle": false,
     "title": ""
    }
   },
   "source": [
    "To raise a number to a power, we can use **. For example, to raise 2 to th power of 3:"
   ]
  },
  {
   "cell_type": "code",
   "execution_count": 0,
   "metadata": {
    "application/vnd.databricks.v1+cell": {
     "cellMetadata": {
      "byteLimit": 2048000,
      "rowLimit": 10000
     },
     "inputWidgets": {},
     "nuid": "6d2e07bb-25b2-4b67-981d-de94fed43a04",
     "showTitle": false,
     "title": ""
    }
   },
   "outputs": [],
   "source": [
    "3**3 "
   ]
  },
  {
   "cell_type": "markdown",
   "metadata": {
    "application/vnd.databricks.v1+cell": {
     "cellMetadata": {
      "byteLimit": 2048000,
      "rowLimit": 10000
     },
     "inputWidgets": {},
     "nuid": "e9db2509-8763-4eb6-b603-6fcdc2a14c3f",
     "showTitle": false,
     "title": ""
    }
   },
   "source": [
    "The arithmetical operations in Python follow the usual order of operations from mathematics. Just like from mathematics, calculations in parentheses are calculated first, then follows by exponentiation, division, multiplication, and at last, addition and subtraction.\n",
    "\n",
    "### Task 1.1.5: \n",
    "1. Perform the following calculations in Python.\n",
    "- 5 * 30\n",
    "- 56 / 2\n",
    "- 5^2"
   ]
  },
  {
   "cell_type": "code",
   "execution_count": 0,
   "metadata": {
    "application/vnd.databricks.v1+cell": {
     "cellMetadata": {
      "byteLimit": 2048000,
      "rowLimit": 10000
     },
     "inputWidgets": {},
     "nuid": "2fcad9a4-7f1e-49a0-9d49-c96672dd0a99",
     "showTitle": false,
     "title": ""
    }
   },
   "outputs": [],
   "source": [
    "# Start your code below:\n",
    "\n",
    "print(5 * 30)\n",
    "print(56/2)\n",
    "print(5**2)"
   ]
  },
  {
   "cell_type": "markdown",
   "metadata": {
    "application/vnd.databricks.v1+cell": {
     "cellMetadata": {
      "byteLimit": 2048000,
      "rowLimit": 10000
     },
     "inputWidgets": {},
     "nuid": "fafe3545-856c-4c3a-9c9c-87dcc456d67d",
     "showTitle": false,
     "title": ""
    }
   },
   "source": [
    "## Horaaay! \n",
    "\n",
    "You have just completed your first training notebook. If you would like to, you can save your progress by pressing Ctrl+s. If you would also like to push your changes to the remote repository via Git, remember that you need to be on your own branch (not master or your colleagues branch). "
   ]
  }
 ],
 "metadata": {
  "application/vnd.databricks.v1+notebook": {
   "dashboards": [],
   "language": "python",
   "notebookMetadata": {
    "pythonIndentUnit": 2
   },
   "notebookName": "[Answer]1_Learning_Data_Science_with_Python",
   "widgets": {}
  },
  "kernelspec": {
   "display_name": "Python 3",
   "language": "python",
   "name": "python3"
  },
  "language_info": {
   "codemirror_mode": {
    "name": "ipython",
    "version": 3
   },
   "file_extension": ".py",
   "mimetype": "text/x-python",
   "name": "python",
   "nbconvert_exporter": "python",
   "pygments_lexer": "ipython3",
   "version": "3.7.1"
  }
 },
 "nbformat": 4,
 "nbformat_minor": 0
}
