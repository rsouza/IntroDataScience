{
 "cells": [
  {
   "cell_type": "markdown",
   "metadata": {},
   "source": [
    "## About This Notebook\n",
    "\n",
    "Within this notebook, we are going to make our very first steps into the vast world of Python. \n",
    "\n",
    "- What does one line of *code* looks like?\n",
    "- What is *syntax*?\n",
    "- What are *comments*?\n",
    "- How do we perform *arithmetic operations*?\n",
    "***"
   ]
  },
  {
   "cell_type": "markdown",
   "metadata": {},
   "source": [
    "## 1. First Lines of Code"
   ]
  },
  {
   "cell_type": "markdown",
   "metadata": {},
   "source": [
    "Python is one of the most popular programming langugage these days. It designed for readability, and it shares some similarities with the English Language as well as having influence from mathematics. It is one of the most straight-forward and easily understandable programming languages.\n",
    "\n",
    "\n",
    "### Task 1.1.1:\n",
    "1. How does Python compute 25+5? Try type in 25 + 5 in the following cell, just below where the text indicates it:"
   ]
  },
  {
   "cell_type": "code",
   "execution_count": 2,
   "metadata": {},
   "outputs": [
    {
     "data": {
      "text/plain": [
       "30"
      ]
     },
     "execution_count": 2,
     "metadata": {},
     "output_type": "execute_result"
    }
   ],
   "source": [
    "# Start your code below:\n",
    "\n",
    "25 + 5\n"
   ]
  },
  {
   "cell_type": "markdown",
   "metadata": {},
   "source": [
    "2. In the line above, a single calculation is instructed: 25 + 5. However, the computer is capable to perform more than just one calculation. Try to instruct the computer to perform multiple calculations like:\n",
    "\n",
    "25 + 5 <br>\n",
    "20 - 7 <br>\n",
    "30 + 2 <br>\n",
    "67 - 22 <br>\n"
   ]
  },
  {
   "cell_type": "code",
   "execution_count": 3,
   "metadata": {},
   "outputs": [
    {
     "data": {
      "text/plain": [
       "45"
      ]
     },
     "execution_count": 3,
     "metadata": {},
     "output_type": "execute_result"
    }
   ],
   "source": [
    "# Start your code below:\n",
    "\n",
    "25 + 5\n",
    "20 - 7\n",
    "30 + 2\n",
    "67 - 22\n"
   ]
  },
  {
   "cell_type": "markdown",
   "metadata": {},
   "source": [
    "The output is 45 and it seems like the computer only performed the last subtraction, 67 - 22. Hmm strange...\n",
    "## 2. The print() Command\n",
    "\n",
    "What really happens is that the computer performed all the calculations above, but it only displays the last one as the output result. To display all calculation results, what we need is to use the `print()` command (function), like this:"
   ]
  },
  {
   "cell_type": "code",
   "execution_count": 3,
   "metadata": {},
   "outputs": [
    {
     "name": "stdout",
     "output_type": "stream",
     "text": [
      "30\n",
      "4\n",
      "32\n",
      "50\n"
     ]
    }
   ],
   "source": [
    "print(25 + 5)\n",
    "print(10 - 6)\n",
    "print(30 + 2)\n",
    "print(12 + 38)"
   ]
  },
  {
   "cell_type": "markdown",
   "metadata": {},
   "source": [
    "Don't worry for now what *command* (or function) exactly is. You will get to learn that later. It is for you, for now, only important to understand that if we learn what a command does, we can use it to our advantage.Now let's have some practice with the `print()` command."
   ]
  },
  {
   "cell_type": "markdown",
   "metadata": {},
   "source": [
    "### Task 1.1.2:\n",
    "1. Using the `print()` command and display the result for:\n",
    "-  55 + 5\n",
    "- 300 - 8\n",
    "- 21 + 67\n",
    "\n",
    "2. Click the Run button when you're ready to see your results."
   ]
  },
  {
   "cell_type": "code",
   "execution_count": 4,
   "metadata": {},
   "outputs": [
    {
     "name": "stdout",
     "output_type": "stream",
     "text": [
      "60\n",
      "292\n",
      "88\n"
     ]
    }
   ],
   "source": [
    "# Start your code below:\n",
    "print(55 + 5)\n",
    "print(300 - 8)\n",
    "print( 21 + 67)"
   ]
  },
  {
   "cell_type": "markdown",
   "metadata": {},
   "source": [
    "Have you ever wondered what happens if we put all print commands one the same line? \n",
    "Try to type this in the following cell: print(55 + 5) print(300 - 8) print(21 + 67)"
   ]
  },
  {
   "cell_type": "code",
   "execution_count": 1,
   "metadata": {},
   "outputs": [
    {
     "ename": "SyntaxError",
     "evalue": "invalid syntax (<ipython-input-1-5e26be365760>, line 1)",
     "output_type": "error",
     "traceback": [
      "\u001b[1;36m  File \u001b[1;32m\"<ipython-input-1-5e26be365760>\"\u001b[1;36m, line \u001b[1;32m1\u001b[0m\n\u001b[1;33m    print(55 + 5) print(300 - 8) print(21 + 67)\u001b[0m\n\u001b[1;37m                      ^\u001b[0m\n\u001b[1;31mSyntaxError\u001b[0m\u001b[1;31m:\u001b[0m invalid syntax\n"
     ]
    }
   ],
   "source": [
    "print(55 + 5) print(300 - 8) print(21 + 67)"
   ]
  },
  {
   "cell_type": "markdown",
   "metadata": {},
   "source": [
    "It would work, however, if we had separated the commands with a semicolon (although this is not usual in Python)."
   ]
  },
  {
   "cell_type": "code",
   "execution_count": 2,
   "metadata": {},
   "outputs": [
    {
     "name": "stdout",
     "output_type": "stream",
     "text": [
      "60\n",
      "292\n",
      "88\n"
     ]
    }
   ],
   "source": [
    "print(55 + 5); print(300 - 8); print(21 + 67)"
   ]
  },
  {
   "cell_type": "markdown",
   "metadata": {},
   "source": [
    "## 3. Python Syntax\n",
    "Yes, indeed. We'd get an **error**. And in fact it is described as a syntax error. This is because all programming languages like Python, Java, C++ all have its own **syntax rules**. Each line of instructions must comply with these rules. \n",
    "\n",
    "You can compare these syntax rules with grammar in human languages. If we want to convey a message, we must respect and follow the syntax rules in order to deliver our message in a meaningful way. For example, people will understand \"Data Science is super cool\", but not \"science super cool data is\".  Likewise, the computer didn't understand print(55 + 5) print(300 - 8) print(21 + 67) because the syntax was wrong.\n",
    "\n",
    "**Running into errors while programming is more common than you would think!** Forget those action scenes from blockbuster movies where hackers code faster than the speed of light! The real life of a programmer often times is about examining (calmly and with patience) why a certain error occurred."
   ]
  },
  {
   "cell_type": "markdown",
   "metadata": {},
   "source": [
    "After learning about some syntax rules, let's dive into the next task.\n",
    "\n",
    "### Task 1.1.3:\n",
    "1. Try to run the instructions in the line below and see what the computer outputs as result. Remember that each command must be on a separate line.\n",
    "\n",
    "- print(30 + 20 + 50)\n",
    "- print(5)\n",
    "- print(-2)\n"
   ]
  },
  {
   "cell_type": "code",
   "execution_count": 5,
   "metadata": {},
   "outputs": [
    {
     "name": "stdout",
     "output_type": "stream",
     "text": [
      "100\n",
      "5\n",
      "-2\n"
     ]
    }
   ],
   "source": [
    "# Start your code below:\n",
    "\n",
    "print(30 + 20 + 50)\n",
    "print(5)\n",
    "print(-2)"
   ]
  },
  {
   "cell_type": "markdown",
   "metadata": {},
   "source": [
    "In the line above, three instructions were given to the computer:\n",
    "\n",
    "- print(30 + 20 + 50)\n",
    "- print(5)\n",
    "- print(-2)\n",
    "\n",
    "All these instructions are collectively known as **code**. Each line of command is known as a **line of code**. When we program or when we write code, we instruct or program the computer to do some tasks. Therefore, we can also call the code we write a computer program, or just simply a program.\n",
    "\n",
    "The program we wrote in *Task 2.1* had three lines of code, but a program can be as small as one line."
   ]
  },
  {
   "cell_type": "markdown",
   "metadata": {},
   "source": [
    "### Task 1.1.3.2:\n",
    "1. Try to use the `print()` command and write a program that consists of three lines of code:\n",
    "- displays the result of 58 + 6\n",
    "- displays the number 21\n",
    "- displays the number -21\n",
    "2. Hit the Run button after you have finished and compare your output with our task requirement."
   ]
  },
  {
   "cell_type": "code",
   "execution_count": 16,
   "metadata": {},
   "outputs": [],
   "source": [
    "# Start your code below:\n",
    "\n",
    "print(58 + 6)\n",
    "print(21)\n",
    "print(-21)"
   ]
  },
  {
   "cell_type": "markdown",
   "metadata": {},
   "source": [
    "## 4. Code Comments\n",
    "Before we get down to real programming, we want to introduce you the # symbol, also known as the **comment symbol**. \n",
    "Any code or characters that follows the # symbol is called a code comment. Programmers use this symbol to add information or comments about our code."
   ]
  },
  {
   "cell_type": "code",
   "execution_count": 17,
   "metadata": {},
   "outputs": [
    {
     "name": "stdout",
     "output_type": "stream",
     "text": [
      "4\n",
      "1\n"
     ]
    }
   ],
   "source": [
    "print(3 + 1)\n",
    "print(10 - 9) #This is the line that outputs 1"
   ]
  },
  {
   "cell_type": "markdown",
   "metadata": {},
   "source": [
    "We can also use code comments to add a general description at the beginning of our program.\n",
    "Now let's have some practice with the ``#`` symbol.\n",
    "Please type the following code in the editor below:\n",
    "- #print(5 + 21) <br>\n",
    "- #print(5) <br>\n",
    "- #print(-5) <br>"
   ]
  },
  {
   "cell_type": "code",
   "execution_count": 19,
   "metadata": {},
   "outputs": [],
   "source": [
    "# Start your code below:\n",
    "\n",
    "#print(5 + 21)\n",
    "#print(5)\n",
    "#print(-5)"
   ]
  },
  {
   "cell_type": "markdown",
   "metadata": {},
   "source": [
    "Uncomment these three lines of code by removing the ``#`` symbol and then click the Run button."
   ]
  },
  {
   "cell_type": "markdown",
   "metadata": {},
   "source": [
    "## 5. Arithmetical Operations\n",
    "In the previous section, we have performed additions and subtractions. To perform multiplication, we can use the * symbol. To multiply 5 * 2 we can type:"
   ]
  },
  {
   "cell_type": "code",
   "execution_count": 20,
   "metadata": {},
   "outputs": [
    {
     "data": {
      "text/plain": [
       "10"
      ]
     },
     "execution_count": 20,
     "metadata": {},
     "output_type": "execute_result"
    }
   ],
   "source": [
    "5 * 2 "
   ]
  },
  {
   "cell_type": "markdown",
   "metadata": {},
   "source": [
    "To perform division, we can use the / symbol. To divide 10 / 5:"
   ]
  },
  {
   "cell_type": "code",
   "execution_count": 21,
   "metadata": {},
   "outputs": [
    {
     "data": {
      "text/plain": [
       "2.0"
      ]
     },
     "execution_count": 21,
     "metadata": {},
     "output_type": "execute_result"
    }
   ],
   "source": [
    "10 / 5"
   ]
  },
  {
   "cell_type": "markdown",
   "metadata": {},
   "source": [
    "To raise a number to a power, we can use **. For example, to raise 2 to th power of 3:"
   ]
  },
  {
   "cell_type": "code",
   "execution_count": 22,
   "metadata": {},
   "outputs": [
    {
     "data": {
      "text/plain": [
       "27"
      ]
     },
     "execution_count": 22,
     "metadata": {},
     "output_type": "execute_result"
    }
   ],
   "source": [
    "3**3 "
   ]
  },
  {
   "cell_type": "markdown",
   "metadata": {},
   "source": [
    "The arithmetical operations in Python follow the usual order of operations from mathematics. Just like from mathematics, calculations in parentheses are calculated first, then follows by exponentiation, division, multiplication, and at last, addition and subtraction.\n",
    "\n",
    "### Task 1.1.5: \n",
    "1. Perform the following calculations in Python.\n",
    "- 5 * 30\n",
    "- 56 / 2\n",
    "- 5^2"
   ]
  },
  {
   "cell_type": "code",
   "execution_count": 2,
   "metadata": {},
   "outputs": [
    {
     "name": "stdout",
     "output_type": "stream",
     "text": [
      "150\n",
      "28.0\n",
      "25\n"
     ]
    }
   ],
   "source": [
    "# Start your code below:\n",
    "\n",
    "print(5 * 30)\n",
    "print(56/2)\n",
    "print(5**2)"
   ]
  },
  {
   "cell_type": "markdown",
   "metadata": {},
   "source": [
    "## Horaaay! \n",
    "\n",
    "You have just completed your first training notebook. If you would like to, you can save your progress by pressing Ctrl+s. If you would also like to push your changes to the remote repository via Git, remember that you need to be on your own branch (not master or your colleagues branch). "
   ]
  }
 ],
 "metadata": {
  "kernelspec": {
   "display_name": "Python 3",
   "language": "python",
   "name": "python3"
  },
  "language_info": {
   "codemirror_mode": {
    "name": "ipython",
    "version": 3
   },
   "file_extension": ".py",
   "mimetype": "text/x-python",
   "name": "python",
   "nbconvert_exporter": "python",
   "pygments_lexer": "ipython3",
   "version": "3.7.1"
  }
 },
 "nbformat": 4,
 "nbformat_minor": 4
}
