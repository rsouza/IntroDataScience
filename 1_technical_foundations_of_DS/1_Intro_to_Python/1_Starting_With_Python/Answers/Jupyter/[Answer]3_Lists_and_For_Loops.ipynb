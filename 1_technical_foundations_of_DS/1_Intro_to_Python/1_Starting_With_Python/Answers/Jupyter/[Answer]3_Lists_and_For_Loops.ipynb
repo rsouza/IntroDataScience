{
 "cells": [
  {
   "cell_type": "markdown",
   "metadata": {},
   "source": [
    "## About This Notebook\n",
    "\n",
    "In the previous notebook we learned what variables are and how these can store various values (strings, integers ...). \n",
    "\n",
    "- In this notebook, we will expand our toolset with a more complex type of variable - **list**. As you will see, a list can store many elements (not just one like a variables in the previous lecture). \n",
    "- We will learn later on how to manipulate these lists, such as how to navigate through them and how to retrieve elements from them. \n",
    "- In the final part of the notebook we will hop on to a different concept - **loops**. These are closely connected to the topic of lists (and for example retrieval from lists). If the list is *very* long it might become unfeasible to retrieve elements from it manually. We will need loops for this.\n",
    "\n",
    "Please note that in this notebook you will see **libraries being imported**. To understand what these imports of libraries are (with all the functions and commands) is not yet required knowledge. Try to follow only the examples which are shown.\n",
    "***"
   ]
  },
  {
   "cell_type": "markdown",
   "metadata": {},
   "source": [
    "## 1. Lists\n",
    "\n",
    "From last chapter we have worked with the table below:\n",
    "\n",
    "\n",
    "| Track_name |  Price |  Currency |  Rating_count_total | User_rating|\n",
    "|------------|:------:|----------:|---------------------:|-----------:|\n",
    "| Facebook | 0.0 | USD | 2974676 | 3.5|\n",
    "| Instagram |    0.0  |   USD |2161558 |4.5|\n",
    "| Clash of Clans | 0.0|    USD | 2130805 |4.5|\n",
    "| Temple Run |    0.0  |   USD |1724546 |4.5|\n",
    "| Pandora - Music & Radio | 0.0|    USD | 1126879 |4.5|\n",
    "\n",
    "Data Source:  [Mobile App Store Data Set (Ramanathan Perumal)](https://www.kaggle.com/ramamet4/app-store-apple-data-set-10k-apps)</p>"
   ]
  },
  {
   "cell_type": "markdown",
   "metadata": {},
   "source": [
    "There are 5 rows and 5 columns in this table. Each value in this table is called a **data point**. For example in the first row, we have five data points and they are:\n",
    "\n",
    "- Facebook\n",
    "- 0.0\n",
    "- USA\n",
    "- 2974676\n",
    "- 3.5"
   ]
  },
  {
   "cell_type": "markdown",
   "metadata": {},
   "source": [
    "When we have a collection of data points it is called a **data set**. We can understand the table above as a collection of data points, so we can call the entire table a data set as well. We see that the data set has five rows and five columns. \n",
    "\n",
    "When we want to work with data sets in the computer, we need to store them properly in the computer memory so we can retrieve and manipulate the data points according to our needs. To store each data point in the computer, we can for instance take what we have learned so far and do it this way:"
   ]
  },
  {
   "cell_type": "code",
   "execution_count": 1,
   "metadata": {},
   "outputs": [],
   "source": [
    "track_name_row1 = 'Facebook'\n",
    "price_row1 = 0.0\n",
    "currrency_row1 = 'USD'\n",
    "rating_count_total_row1 = 2974676\n",
    "user_rating_row1 = 3.5"
   ]
  },
  {
   "cell_type": "markdown",
   "metadata": {},
   "source": [
    "**To enter each data point manually in the data set like we did above would involve a lot of labor and is nearly impossible for a big data set. Fortunately, we can store data in another more efficient way by using lists.** See example below:"
   ]
  },
  {
   "cell_type": "code",
   "execution_count": 2,
   "metadata": {},
   "outputs": [
    {
     "name": "stdout",
     "output_type": "stream",
     "text": [
      "['Facebook', 0.0, 'USD', 2974676, 3.5]\n"
     ]
    },
    {
     "data": {
      "text/plain": [
       "list"
      ]
     },
     "execution_count": 2,
     "metadata": {},
     "output_type": "execute_result"
    }
   ],
   "source": [
    "row_one = ['Facebook', 0.0, 'USD', 2974676, 3.5]\n",
    "print(row_one)\n",
    "type(row_one)"
   ]
  },
  {
   "cell_type": "markdown",
   "metadata": {},
   "source": [
    "How did we create the list above? \n",
    "\n",
    "1. Enter a sequence of data points that we want to include in our data set and **separated each with a comma**: 'Facebook', 0.0, 'USD', 2974676, 3.5\n",
    "2. Use **brackets for surrounding** the sequence of data points\n",
    "\n",
    "After we created the list, the list is stored in the computer's memory by assignment to the variable name row_one. "
   ]
  },
  {
   "cell_type": "markdown",
   "metadata": {},
   "source": [
    "### Task 1.3.1\n",
    "1. Store the second row as a list in a variable named `row_two`.\n",
    "2. Store the third row as a list in a variable named `row_three`.\n",
    "3. Print out `row_two` and `row_three`."
   ]
  },
  {
   "cell_type": "markdown",
   "metadata": {},
   "source": [
    "| Track_name |  Price |  Currency |  Rating_count_total | User_rating|\n",
    "|------------|:------:|----------:|---------------------:|-----------:|\n",
    "| Facebook | 0.0 | USD | 2974676 | 3.5|\n",
    "| Instagram |    0.0  |   USD |2161558 |4.5|\n",
    "| Clash of Clans | 0.0|    USD | 2130805 |4.5|\n",
    "| Temple Run |    0.0  |   USD |1724546 |4.5|\n",
    "| Pandora - Music & Radio | 0.0|    USD | 1126879 |4.5|"
   ]
  },
  {
   "cell_type": "code",
   "execution_count": 3,
   "metadata": {},
   "outputs": [
    {
     "name": "stdout",
     "output_type": "stream",
     "text": [
      "['Instagram', 0.0, 'USD', 2161558, 4.5] ['Clash of Clans', 0.0, 'USD', 2130805, 4.5]\n"
     ]
    }
   ],
   "source": [
    "# Start your code below:\n",
    "\n",
    "row_two = [\"Instagram\", 0.0, \"USD\", 2161558, 4.5]\n",
    "row_three = [\"Clash of Clans\", 0.0, \"USD\", 2130805, 4.5]\n",
    "print(row_two, row_three)"
   ]
  },
  {
   "cell_type": "markdown",
   "metadata": {},
   "source": [
    "A list can contain both -- mixed and identical data types.\n",
    "\n",
    "For example, a list that contains only integers looks like this: `[ 1, 2, 3]`. A mixed data type list looks like the one we created above: `['Facebbok', 0.0, 'USD', 2974676, 3.5]`. In this list, we have:\n",
    "- Two strings ('Facebook', 'USD')\n",
    "- Two floats (0.0, 3.5)\n",
    "- One integer (2974676)\n",
    "\n",
    "In order to find out the **length of a list, we can use the `len()` command**. \n",
    "The row_one list for example has five data points."
   ]
  },
  {
   "cell_type": "code",
   "execution_count": 1,
   "metadata": {},
   "outputs": [
    {
     "name": "stdout",
     "output_type": "stream",
     "text": [
      "5\n",
      "3\n",
      "0\n"
     ]
    }
   ],
   "source": [
    "row_one = ['Facebook', 0.0, 'USD', 2974676, 3.5]\n",
    "print(len(row_one))\n",
    "\n",
    "list_a = [1,2,3]\n",
    "print(len(list_a))\n",
    "\n",
    "list_b = []\n",
    "print(len(list_b))"
   ]
  },
  {
   "cell_type": "markdown",
   "metadata": {},
   "source": [
    "## 2. Indexing a List\n",
    "\n",
    "**Each data point or element in the list has a specific index number (position) associated with it**. In Python, the indexing always starts with 0. For example, the first element always has the index number 0, and the second element always has the index number 1, and so on.\n",
    "\n",
    "To find the index of an element in the list, simply count the position of the index and then minus one. For example, the user rating is the 5th element in the list and it has an index number of 4 (5 - 1 = 4).\n",
    "\n",
    "*Note: Please really write this down - the indexing in Python starts at 0.*"
   ]
  },
  {
   "cell_type": "code",
   "execution_count": 5,
   "metadata": {},
   "outputs": [
    {
     "name": "stdout",
     "output_type": "stream",
     "text": [
      "3.5\n"
     ]
    }
   ],
   "source": [
    "row_one = ['Facebook', 0.0, 'USD', 2974676, 3.5]\n",
    "print(row_one[4])"
   ]
  },
  {
   "cell_type": "markdown",
   "metadata": {},
   "source": [
    "The index number can help us retrieve individual elements from a list. So how do we retrieve the first element? We can enter the list name and then wrap the index number in a bracket. The general formula follows the model:  `list_name[index_number]`. To retrieve each element from the list is useful when we want to perform operations between the elements. For example, we can find out the average and difference between Facebook's and Instagram's ratings by doing this: "
   ]
  },
  {
   "cell_type": "code",
   "execution_count": 2,
   "metadata": {},
   "outputs": [
    {
     "name": "stdout",
     "output_type": "stream",
     "text": [
      "1.0\n",
      "4.0\n"
     ]
    }
   ],
   "source": [
    "row_one = ['Facebook', 0.0, 'USD', 2974676, 3.5]\n",
    "row_two = ['Instagram',0.0, 'USD', 2161558, 4.5]\n",
    "\n",
    "difference_in_rating = row_two[4] - row_one[4]\n",
    "average_rating = (row_one[4] + row_two[4])/2\n",
    "\n",
    "print(difference_in_rating)\n",
    "print(average_rating)"
   ]
  },
  {
   "cell_type": "markdown",
   "metadata": {},
   "source": [
    "### Task 1.3.2\n",
    "\n",
    "In the code editor below, you can see the lists for the first three rows from the table. Retrieve the fourth element from each list, which represents the rating each app has received, and fnid the average value of the retrieved numbers.\n",
    "\n",
    "1. Assign the fourth element from the list ``row_one`` to a variable named ``rating_one``. Don't forget that the indexing starts at 0. <br>\n",
    "2. Repeat the same step for the fourth element from the list ``row_two``, to a variable named ``rating_two``.<br>\n",
    "3. Repeat the same step for for the fourth element from the list ``row_three``, to a variable named  ``rating_three``.<br>\n",
    "4. Add the three numbers from above steps together and save the value to a variable named ``total_rating``.\n",
    "5. Divide the ``total_rating`` by 3 to get the average number of ratings for the first three rows. Assign the final result to a variable named ``average_rating``.\n",
    "6. Print `average_rating`."
   ]
  },
  {
   "cell_type": "code",
   "execution_count": 7,
   "metadata": {},
   "outputs": [
    {
     "name": "stdout",
     "output_type": "stream",
     "text": [
      "2422346.3333333335\n"
     ]
    }
   ],
   "source": [
    "row_one = ['Facebook', 0.0, 'USD', 2974676, 3.5]\n",
    "row_two = ['Instagram', 0.0, 'USD', 2161558, 4.5]\n",
    "row_three = ['Clash of Clans', 0.0, 'USD', 2130805, 4.5]\n",
    "\n",
    "# Start your code below:\n",
    "rating_one = row_one[3]\n",
    "rating_two = row_two[3]\n",
    "rating_three = row_three[3]\n",
    "total_rating = rating_one + rating_two + rating_three\n",
    "average_rating =  total_rating / 3\n",
    "print(average_rating)"
   ]
  },
  {
   "cell_type": "markdown",
   "metadata": {},
   "source": [
    "## 3. Negative Indexing\n",
    "\n",
    "There are two indexing systems for lists in Python.\n",
    "- Positive indexing: the one we have encountered so far starting with the first element having the index number 0 and the second element having the index number 1, and so on.\n",
    "- Negative indexing: starting with the **last element** having the index number -1, the second to last element having the index number -2, and so on.\n",
    "\n",
    "Positive indexing is often put into practice in day to day programming. However, negative indexing can also come in handy when we want to select the last element of a list, especially when this list is long and we have no idea how many elements it contains."
   ]
  },
  {
   "cell_type": "code",
   "execution_count": 8,
   "metadata": {},
   "outputs": [
    {
     "name": "stdout",
     "output_type": "stream",
     "text": [
      "3.5\n",
      "3.5\n"
     ]
    }
   ],
   "source": [
    "row_one = ['Facebook', 0.0, 'USD', 2974676, 3.5]\n",
    "\n",
    "print(row_one[-1])\n",
    "print(row_one[4])"
   ]
  },
  {
   "cell_type": "markdown",
   "metadata": {},
   "source": [
    "See that the code above, indexing number -1 and 4 retrieve the same result. \n",
    "Pay attention: if we try to use an index number that is outside the range of the two indexing systems that are mentioned above, we'll get the following error:"
   ]
  },
  {
   "cell_type": "code",
   "execution_count": 3,
   "metadata": {},
   "outputs": [
    {
     "ename": "IndexError",
     "evalue": "list index out of range",
     "output_type": "error",
     "traceback": [
      "\u001b[1;31m---------------------------------------------------------------------------\u001b[0m",
      "\u001b[1;31mIndexError\u001b[0m                                Traceback (most recent call last)",
      "\u001b[1;32m<ipython-input-3-c25699075453>\u001b[0m in \u001b[0;36m<module>\u001b[1;34m\u001b[0m\n\u001b[1;32m----> 1\u001b[1;33m \u001b[0mprint\u001b[0m\u001b[1;33m(\u001b[0m\u001b[0mrow_one\u001b[0m\u001b[1;33m[\u001b[0m\u001b[1;36m5\u001b[0m\u001b[1;33m]\u001b[0m\u001b[1;33m)\u001b[0m\u001b[1;33m\u001b[0m\u001b[1;33m\u001b[0m\u001b[0m\n\u001b[0m",
      "\u001b[1;31mIndexError\u001b[0m: list index out of range"
     ]
    }
   ],
   "source": [
    "print(row_one[5])"
   ]
  },
  {
   "cell_type": "markdown",
   "metadata": {},
   "source": [
    "### Task 1.3.3\n",
    "\n",
    "The last element in each list represents the rating of each app.\n",
    "\n",
    "1. Retrieve the ratings for the first three rows (like what you have done in task 2), and then find the average of all the ratings retrieved and print it to the screen.\n",
    "\n",
    "<b>Try to use the negative indexing system.</b>"
   ]
  },
  {
   "cell_type": "code",
   "execution_count": 9,
   "metadata": {},
   "outputs": [
    {
     "name": "stdout",
     "output_type": "stream",
     "text": [
      "4.166666666666667\n"
     ]
    }
   ],
   "source": [
    "row_1 = ['Facebook', 0.0, 'USD', 2974676, 3.5]\n",
    "row_2 = ['Instagram', 0.0, 'USD', 2161558, 4.5]\n",
    "row_3 = ['Clash of Clans', 0.0, 'USD', 2130805, 4.5]\n",
    "\n",
    "##Your task starts here:\n",
    "rating_one = row_1[-1]\n",
    "rating_two = row_2[-1]\n",
    "rating_three = row_3[-1]\n",
    "\n",
    "average_rating = (rating_one + rating_two + rating_three)/3\n",
    "print(average_rating)\n"
   ]
  },
  {
   "cell_type": "markdown",
   "metadata": {},
   "source": [
    "## 4. Retrieving Multiple List Elements\n",
    "There are occasions where we are asked to retrieve more than just one element from a list. \n",
    "Take the list we have already worked with before: `['Facebook', 0.0, 'USD', 2974676, 3.5]`. We're  interested in knowing only the name of the app and the data about ratings (the number of ratings and the rating). Taking what we have learned so far, we can do this as follows:"
   ]
  },
  {
   "cell_type": "code",
   "execution_count": 10,
   "metadata": {},
   "outputs": [],
   "source": [
    "row_one = ['Facebook', 0.0, 'USD', 2974676, 3.5]\n",
    "app_name = row_one[0]\n",
    "rating_count_total = row_one[3]\n",
    "rating = row_one[-1] # or rating = row_one[4] "
   ]
  },
  {
   "cell_type": "markdown",
   "metadata": {},
   "source": [
    "It will be very inefficient if we try to do this for every app in the data table and make our code unnecessarily lengthy and hard to keep track of. \n",
    "Alternatively we can store all the data we want to keep track of in a separate list like this:"
   ]
  },
  {
   "cell_type": "code",
   "execution_count": 11,
   "metadata": {},
   "outputs": [
    {
     "name": "stdout",
     "output_type": "stream",
     "text": [
      "['Facebook', 2974676, 3.5]\n"
     ]
    }
   ],
   "source": [
    "row_one = ['Facebook', 0.0, 'USD', 2974676, 3.5]\n",
    "\n",
    "fb_rating = [row_one[0], row_one[3], row_one[-1]]\n",
    "print(fb_rating)"
   ]
  },
  {
   "cell_type": "markdown",
   "metadata": {},
   "source": [
    "In the code above we have successfully abstracted all the information we needed from the list into a separate list."
   ]
  },
  {
   "cell_type": "markdown",
   "metadata": {},
   "source": [
    "### Task 1.3.4\n",
    "\n",
    "1. Abstract the rating data for Facebook, Instagram, Pandora - Music & Radio into separate lists. Each list should contain information like: the name of the app, the total rating count, and the user rating. Don't forget the positive index system begins with indexing number 0.\n",
    "  - For Facebook, assign the list to a variable called `fb_rating_data`\n",
    "  - For Instagram, assign the list to a variable called `insta_rating_data`\n",
    "  - For Pandora - Music & Radio, assign the list to a variable called `pan_rating_data`\n",
    "\n",
    "\n",
    "2. Compute the average user rating for Instagram, and Pandora — Music & Radio using the data you just created ``fb_rating_data``, ``insta_rating_data``, and ``pan_rating_data``.\n",
    "  - Sum up all the ratings together and compute the average rating.\n",
    "  - Assign the result to a variable named `avg_rating`."
   ]
  },
  {
   "cell_type": "code",
   "execution_count": 1,
   "metadata": {},
   "outputs": [
    {
     "name": "stdout",
     "output_type": "stream",
     "text": [
      "4.0\n"
     ]
    }
   ],
   "source": [
    "row_one = ['Facebook', 0.0, 'USD', 2974676, 3.5]\n",
    "row_two = ['Instagram', 0.0, 'USD', 2161558, 4.5]\n",
    "row_three = ['Clash of Clans', 0.0, 'USD', 2130805, 4.5]\n",
    "row_four = ['Temple Run', 0.0, 'USD', 1724546, 4.5]\n",
    "row_five = ['Pandora - Music & Radio', 0.0, 'USD', 1126879, 4.0]\n",
    "\n",
    "# Start your code below:\n",
    "\n",
    "# Question 1:\n",
    "fb_rating_data = [row_one[0], row_one[3], row_one[-1]]\n",
    "insta_rating_data = [row_two[0], row_two[3], row_two[-1]]\n",
    "pan_rating_data = [row_five[0], row_five[3], row_five[-1]]\n",
    "\n",
    "# Question 2:\n",
    "avg_rating = (fb_rating_data[-1] + insta_rating_data[-1] + pan_rating_data [-1])/3\n",
    "print(avg_rating)"
   ]
  },
  {
   "cell_type": "markdown",
   "metadata": {},
   "source": [
    "## 5. List Slicing (IMPORTANT)\n",
    "\n",
    "In the previous exercise, we retrieved the first, fourth, and the last element and put them into a separate list.\n",
    "We can also retrieve the first three elements from the list and create a separate pricing data list.\n",
    "\n",
    "For example:"
   ]
  },
  {
   "cell_type": "code",
   "execution_count": 13,
   "metadata": {},
   "outputs": [
    {
     "name": "stdout",
     "output_type": "stream",
     "text": [
      "['Clash of Clans', 0.0, 'USD']\n"
     ]
    }
   ],
   "source": [
    "row_three = ['Clash of Clans', 0.0, 'USD', 2130805, 4.5]\n",
    "\n",
    "clash_pricing_data = [row_three[0], row_three[1], row_three[2]]\n",
    "print(clash_pricing_data)"
   ]
  },
  {
   "cell_type": "markdown",
   "metadata": {},
   "source": [
    "However, there is a shortcut in selecting the first three elements like this:"
   ]
  },
  {
   "cell_type": "code",
   "execution_count": 14,
   "metadata": {},
   "outputs": [
    {
     "name": "stdout",
     "output_type": "stream",
     "text": [
      "['Clash of Clans', 0.0, 'USD']\n"
     ]
    }
   ],
   "source": [
    "row_three = ['Clash of Clans', 0.0, 'USD', 2130805, 4.5]\n",
    "\n",
    "clash_pricing_data = row_three[0:3] #This is also known as the syntax shortcut\n",
    "print(clash_pricing_data)"
   ]
  },
  {
   "cell_type": "markdown",
   "metadata": {},
   "source": [
    "As shown in the code, if we want to select the first <b> n</b> elements from a list called list_one, we can use the syntax shortcut `list_one[0:n]`. \n",
    "In the example above, we have selected the first three elements from the list called `row_three`, so we have used: `row_3[0:3]` .\n",
    "The process of selecting a particular part of a list is known as list slicing.\n",
    "\n",
    "In order to retrieve any list slice we want, we need to:\n",
    "1. Identify the first and last element of the slice.\n",
    "2. Identify the index numbers of the first and last element of the slice.\n",
    "3. We can then retrieve the list slice we want by using the syntax we just mentioned above like: `list_one[m:n]`, where:\n",
    "    - m is the index number of the first element of the slice\n",
    "    - n is the index number of the last element of the slice <b> plus one </b>. (That means if the last element has the index number 5, then <b>n</b> will be 6, and if the last element has the index number 10, then<b> n</b> will be 11, and so on)"
   ]
  },
  {
   "cell_type": "markdown",
   "metadata": {},
   "source": [
    "There is an even simpler syntax shortcuts when we want to select the first or last n elements (n stands for an integer):\n",
    "- `list_one[:n]`: when we want to select the first n elements\n",
    "- `list_one[-n:]`: when we want to select the last n elements"
   ]
  },
  {
   "cell_type": "code",
   "execution_count": 15,
   "metadata": {},
   "outputs": [
    {
     "name": "stdout",
     "output_type": "stream",
     "text": [
      "['Clash of Clans', 0.0, 'USD']\n",
      "['USD', 2130805, 4.5]\n"
     ]
    }
   ],
   "source": [
    "row_three = ['Clash of Clans', 0.0, 'USD', 2130805, 4.5]\n",
    "\n",
    "first_3 = row_three[:3] #select the first 3 elements\n",
    "last_3 = row_three[-3:] #select the last 3 elements\n",
    "\n",
    "print(first_3)\n",
    "print(last_3)"
   ]
  },
  {
   "cell_type": "markdown",
   "metadata": {},
   "source": [
    "### Task 1.3.5\n",
    "\n",
    "1. Select the first four elements from `row_one` using the list slicing syntax shortcut and assign the result to a variable named `first_four_elem_fb`.\n",
    "2. Select the last two elements from `row_one` using the list slicing syntax shortcut and assign the result to a variable named `last_two_elem_fb`.\n",
    "3. For `row_five`, select the list slice `[ 0.0, 'USD', 1126879]` using the list slicing syntax shortcut and assign the result to a variable named `pan_2_3_4`."
   ]
  },
  {
   "cell_type": "code",
   "execution_count": 16,
   "metadata": {},
   "outputs": [],
   "source": [
    "row_one = ['Facebook', 0.0, 'USD', 2974676, 3.5]\n",
    "row_two = ['Instagram', 0.0, 'USD', 2161558, 4.5]\n",
    "row_three = ['Clash of Clans', 0.0, 'USD', 2130805, 4.5]\n",
    "row_four = ['Temple Run', 0.0, 'USD', 1724546, 4.5]\n",
    "row_five = ['Pandora - Music & Radio', 0.0, 'USD', 1126879, 4.0]\n",
    "\n",
    "\n",
    "# Start your code below:\n",
    "\n",
    "first_four_elem_fb = row_one[:4]\n",
    "last_two_elem_fb = row_one[-2:]\n",
    "pan_2_3_4 = row_five[1:4]\n",
    "\n",
    "# print(first_four_elem_fb)\n",
    "# print(last_two_elem_fb)\n",
    "# print(pan_2_3_4)"
   ]
  },
  {
   "cell_type": "markdown",
   "metadata": {},
   "source": [
    "## 6. List of Lists\n",
    "So far we have only worked with a data set of small scale (only five rows!) and we have stored each row as a list in a seprate variable like `row_one`, `row_two`, `row_three`, `row_four`, `row_five`. However, if we had a data set with more than 10,000 rows, then we'd have ended up with 10,000 more variables which is unrealistic and redundant.\n",
    "\n",
    "To solve this problem, we can store all five lists in one single variable like this:"
   ]
  },
  {
   "cell_type": "code",
   "execution_count": 4,
   "metadata": {},
   "outputs": [
    {
     "data": {
      "text/plain": [
       "[['Facebook', 0.0, 'USD', 2974676, 3.5],\n",
       " ['Instagram', 0.0, 'USD', 2161558, 4.5],\n",
       " ['Clash of Clans', 0.0, 'USD', 2130805, 4.5],\n",
       " ['Temple Run', 0.0, 'USD', 1724546, 4.5],\n",
       " ['Pandora - Music & Radio', 0.0, 'USD', 1126879, 4.0]]"
      ]
     },
     "execution_count": 4,
     "metadata": {},
     "output_type": "execute_result"
    }
   ],
   "source": [
    "row_one = ['Facebook', 0.0, 'USD', 2974676, 3.5]\n",
    "row_two = ['Instagram', 0.0, 'USD', 2161558, 4.5]\n",
    "row_three = ['Clash of Clans', 0.0, 'USD', 2130805, 4.5]\n",
    "row_four = ['Temple Run', 0.0, 'USD', 1724546, 4.5]\n",
    "row_five = ['Pandora - Music & Radio', 0.0, 'USD', 1126879, 4.0]\n",
    "\n",
    "data_set = [row_one, row_two, row_three, row_four, row_five]\n",
    "data_set"
   ]
  },
  {
   "cell_type": "markdown",
   "metadata": {},
   "source": [
    "We can see that now the variable data_set contains all five lists `row_one, row_two, row_three, row_four, row_five`. Such a list that contains other lists is called a <b> list of lists </b>.\n",
    "\n",
    "`data_set` is declared as a list, so we can retrieve the individual list elements and perform list slicing with what we have learned."
   ]
  },
  {
   "cell_type": "code",
   "execution_count": 18,
   "metadata": {},
   "outputs": [
    {
     "name": "stdout",
     "output_type": "stream",
     "text": [
      "['Facebook', 0.0, 'USD', 2974676, 3.5]\n",
      "['Pandora - Music & Radio', 0.0, 'USD', 1126879, 4.0]\n",
      "[['Facebook', 0.0, 'USD', 2974676, 3.5], ['Instagram', 0.0, 'USD', 2161558, 4.5]]\n"
     ]
    }
   ],
   "source": [
    "data_set = [row_one, row_two, row_three, row_four, row_five]\n",
    "\n",
    "#To retrieve the first element\n",
    "print(data_set[0])\n",
    "\n",
    "#To retrieve the last element\n",
    "print(data_set[-1])\n",
    "\n",
    "#To retrieve the first two list elements \n",
    "print(data_set[:2])"
   ]
  },
  {
   "cell_type": "markdown",
   "metadata": {},
   "source": [
    "There are also cases where we need to retrieve individual elements from a list that's part of a list of lists — for instance, we may want to retrieve the value 'Facebook' from ['Facebook', 0.0, 'USD', 2974676, 3.5], which is now part of the `data_set` list of lists."
   ]
  },
  {
   "cell_type": "code",
   "execution_count": 19,
   "metadata": {},
   "outputs": [
    {
     "name": "stdout",
     "output_type": "stream",
     "text": [
      "['Facebook', 0.0, 'USD', 2974676, 3.5]\n",
      "Facebook\n"
     ]
    }
   ],
   "source": [
    "data_set = [row_one, row_two, row_three, row_four, row_five]\n",
    "\n",
    "#We can retrieve row_one and assign it to a variable like this:\n",
    "fb_list = data_set[0]\n",
    "\n",
    "#To print out the facebook list data\n",
    "print(fb_list)\n",
    "\n",
    "#To retrieve the first element from fb_list\n",
    "app_name = fb_list[0]\n",
    "\n",
    "#Print the result of app_name\n",
    "print(app_name)"
   ]
  },
  {
   "cell_type": "markdown",
   "metadata": {},
   "source": [
    "In the code above, we have retrieved the first element in two steps: we first retrieved `data_set[0]`, and then we retrieved `fb_row[0]`.\n",
    "There is a much simpler way to retrieve the value 'Facebook' by chaining the two indices ([0] and [0])\n",
    "For example `data_set[0][0]` will give you the same output."
   ]
  },
  {
   "cell_type": "code",
   "execution_count": 20,
   "metadata": {},
   "outputs": [
    {
     "name": "stdout",
     "output_type": "stream",
     "text": [
      "Facebook\n"
     ]
    }
   ],
   "source": [
    "data_set = [row_one, row_two, row_three, row_four, row_five]\n",
    "\n",
    "print(data_set[0] [0])"
   ]
  },
  {
   "cell_type": "markdown",
   "metadata": {},
   "source": [
    "### Task 1.3.6\n",
    "\n",
    "\n",
    "1. In the code editor below please group together the five lists into a **list of lists** named ``app_data_set``.\n",
    "2. Compute the average rating of the apps by retrieving the right data points from the ``app_data_set`` list of lists.\n",
    "  - The user rating is always the last element of each row. Sum up the ratings and then divide by the number of ratings to get the average.\n",
    "  - Assign the result to a variable named ``average_rating``.\n",
    "  - Print `average_rating`.\n"
   ]
  },
  {
   "cell_type": "code",
   "execution_count": 21,
   "metadata": {},
   "outputs": [
    {
     "name": "stdout",
     "output_type": "stream",
     "text": [
      "[['Facebook', 0.0, 'USD', 2974676, 3.5], ['Instagram', 0.0, 'USD', 2161558, 4.5], ['Clash of Clans', 0.0, 'USD', 2130805, 4.5], ['Temple Run', 0.0, 'USD', 1724546, 4.5], ['Pandora - Music & Radio', 0.0, 'USD', 1126879, 4.0]]\n",
      "21.0\n",
      "4.2\n"
     ]
    }
   ],
   "source": [
    "row_1 = ['Facebook', 0.0, 'USD', 2974676, 3.5]\n",
    "row_2 = ['Instagram', 0.0, 'USD', 2161558, 4.5]\n",
    "row_3 = ['Clash of Clans', 0.0, 'USD', 2130805, 4.5]\n",
    "row_4 = ['Temple Run', 0.0, 'USD', 1724546, 4.5]\n",
    "row_5 = ['Pandora - Music & Radio', 0.0, 'USD', 1126879, 4.0]\n",
    "\n",
    "\n",
    "# Start your code below:\n",
    "\n",
    "app_data_set= [row_1, row_2, row_3, row_4, row_5]\n",
    "print(app_data_set)\n",
    "total_rating = app_data_set[0][-1] + app_data_set[1][-1]+ app_data_set[2][-1]+app_data_set[3][-1]+app_data_set[4][-1]\n",
    "print(total_rating)\n",
    "average_rating = total_rating/5\n",
    "print(average_rating)"
   ]
  },
  {
   "cell_type": "markdown",
   "metadata": {},
   "source": [
    "## 7. Opening a File (OPTIONAL)\n",
    "\n",
    "The data set we've been working with so far is a small snippet from a much larger data set from Kaggle. See data source: [Mobile App Store Data Set (Ramanathan Perumal)](https://www.kaggle.com/ramamet4/app-store-apple-data-set-10k-apps). \n",
    "The data set contains 7,197 rows and 16 columns, which amounts to 115,152 (7,197 * 16) data points. It would be impossible to type all the data points manually into our computer and have them saved in the computer memory. However, we can always download a file and open it in our computer by using the `open()` command. For example if we have a file saved on the computer called \"AppleStore.csv\", we could open it like this:\n",
    "\n",
    "*my_file = open('AppleStore.csv')*\n",
    "\n",
    "Once we've opened the file we can read it in using a command called `reader()`. We need to import the `reader()` command from the **csv module** using the code `from csv import reader` (a **module is a collection of commands and variables**). Then we can transform the file into a list of lists using the `list()` command. The entire process looks like this:"
   ]
  },
  {
   "cell_type": "code",
   "execution_count": 24,
   "metadata": {},
   "outputs": [
    {
     "name": "stdout",
     "output_type": "stream",
     "text": [
      "[['', 'id', 'track_name', 'size_bytes', 'currency', 'price', 'rating_count_tot', 'rating_count_ver', 'user_rating', 'user_rating_ver', 'ver', 'cont_rating', 'prime_genre', 'sup_devices.num', 'ipadSc_urls.num', 'lang.num', 'vpp_lic'], ['1', '281656475', 'PAC-MAN Premium', '100788224', 'USD', '3.99', '21292', '26', '4', '4.5', '6.3.5', '4+', 'Games', '38', '5', '10', '1'], ['2', '281796108', 'Evernote - stay organized', '158578688', 'USD', '0', '161065', '26', '4', '3.5', '8.2.2', '4+', 'Productivity', '37', '5', '23', '1'], ['3', '281940292', 'WeatherBug - Local Weather, Radar, Maps, Alerts', '100524032', 'USD', '0', '188583', '2822', '3.5', '4.5', '5.0.0', '4+', 'Weather', '37', '5', '3', '1'], ['4', '282614216', 'eBay: Best App to Buy, Sell, Save! Online Shopping', '128512000', 'USD', '0', '262241', '649', '4', '4.5', '5.10.0', '12+', 'Shopping', '37', '5', '9', '1']]\n"
     ]
    },
    {
     "data": {
      "text/plain": [
       "7198"
      ]
     },
     "execution_count": 24,
     "metadata": {},
     "output_type": "execute_result"
    }
   ],
   "source": [
    "my_file = open('AppleStore.csv', encoding='utf8')\n",
    "\n",
    "from csv import reader\n",
    "read_file = reader(my_file)\n",
    "apps_data = list(read_file)\n",
    "\n",
    "#To print out the first five rows of apps_data\n",
    "print(apps_data[:5])\n",
    "\n",
    "#To find out the length of our data set\n",
    "len(apps_data)"
   ]
  },
  {
   "cell_type": "markdown",
   "metadata": {},
   "source": [
    "## 7.1. Dealing with files with the context manager\n",
    "We started to open CSV files. We did so using a very simplified snippet of code, which would not be the case in professional code. Normally we work with the context manager `with`.  \n",
    "The Python `with` statement creates a runtime context that allows you to run a group of statements under the control of a context manager. In case of opening files, the `with` closes them automatically for us at the end of the block.\n",
    "\n",
    "Each file should be closed once we finished the work -- that will release resources back to OS. It is not necessary in case of few files (such as in these training notebooks), but the best practices is to do so everytime. It will prevent many possible problems in your future career as Data Scientist. We can use two following ways:"
   ]
  },
  {
   "cell_type": "code",
   "execution_count": 5,
   "metadata": {},
   "outputs": [
    {
     "name": "stdout",
     "output_type": "stream",
     "text": [
      "[['id', 'track_name', 'size_bytes', 'currency', 'price', 'rating_count_tot', 'rating_count_ver', 'user_rating', 'user_rating_ver', 'ver', 'cont_rating', 'prime_genre', 'sup_devices.num', 'ipadSc_urls.num', 'lang.num', 'vpp_lic'], ['284882215', 'Facebook', '389879808', 'USD', '0.0', '2974676', '212', '3.5', '3.5', '95.0', '4+', 'Social Networking', '37', '1', '29', '1'], ['389801252', 'Instagram', '113954816', 'USD', '0.0', '2161558', '1289', '4.5', '4.0', '10.23', '12+', 'Photo & Video', '37', '0', '29', '1'], ['529479190', 'Clash of Clans', '116476928', 'USD', '0.0', '2130805', '579', '4.5', '4.5', '9.24.12', '9+', 'Games', '38', '5', '18', '1'], ['420009108', 'Temple Run', '65921024', 'USD', '0.0', '1724546', '3842', '4.5', '4.0', '1.6.2', '9+', 'Games', '40', '5', '1', '1']]\n",
      "*** Second way to do it ***\n",
      "[['id', 'track_name', 'size_bytes', 'currency', 'price', 'rating_count_tot', 'rating_count_ver', 'user_rating', 'user_rating_ver', 'ver', 'cont_rating', 'prime_genre', 'sup_devices.num', 'ipadSc_urls.num', 'lang.num', 'vpp_lic'], ['284882215', 'Facebook', '389879808', 'USD', '0.0', '2974676', '212', '3.5', '3.5', '95.0', '4+', 'Social Networking', '37', '1', '29', '1'], ['389801252', 'Instagram', '113954816', 'USD', '0.0', '2161558', '1289', '4.5', '4.0', '10.23', '12+', 'Photo & Video', '37', '0', '29', '1'], ['529479190', 'Clash of Clans', '116476928', 'USD', '0.0', '2130805', '579', '4.5', '4.5', '9.24.12', '9+', 'Games', '38', '5', '18', '1'], ['420009108', 'Temple Run', '65921024', 'USD', '0.0', '1724546', '3842', '4.5', '4.0', '1.6.2', '9+', 'Games', '40', '5', '1', '1']]\n"
     ]
    }
   ],
   "source": [
    "# context manager\n",
    "with open('AppleStore.csv', encoding='utf8') as my_file: \n",
    "    from csv import reader\n",
    "    read_file = reader(my_file)\n",
    "    apps_data = list(read_file)\n",
    "\n",
    "    #To print out the first five rows of apps_data\n",
    "    print(apps_data[:5])\n",
    "\n",
    "    #To find out the length of our data set\n",
    "    len(apps_data)\n",
    "\n",
    "    \n",
    "# or a more classical approach      \n",
    "print(\"*** Second way to do it ***\")\n",
    "my_file_2 = open('AppleStore.csv', encoding='utf8')\n",
    "read_file = reader(my_file_2)\n",
    "apps_data = list(read_file)\n",
    "print(apps_data[:5])\n",
    "len(apps_data)\n",
    "\n",
    "# closing resources\n",
    "my_file_2.close() "
   ]
  },
  {
   "cell_type": "markdown",
   "metadata": {},
   "source": [
    "## 8. Repetitive Processes\n",
    "\n",
    "In the previous task, we have retrieved ratings manually. However, try to retrieve 7,197 ratings manually is impractical because it takes a lot of time. How can we find a way that retrieve all 7,197 ratings in just a couple seconds? Luckily, Python offers us an easy way to repeat a process. Let's look at the following example:"
   ]
  },
  {
   "cell_type": "code",
   "execution_count": 6,
   "metadata": {},
   "outputs": [
    {
     "name": "stdout",
     "output_type": "stream",
     "text": [
      "3\n",
      "10\n",
      "2\n",
      "6\n",
      "8\n",
      "1\n"
     ]
    }
   ],
   "source": [
    "ratings = [3, 10, 2, 6, 8, 1]\n",
    "\n",
    "for element in ratings:\n",
    "    print(element)"
   ]
  },
  {
   "cell_type": "markdown",
   "metadata": {},
   "source": [
    "Do you remember the first example we had above? Where we wanted to retrieve the last element for each list in `app_data_set`. We can translate this process using the for loop in Python, like this:"
   ]
  },
  {
   "cell_type": "code",
   "execution_count": 7,
   "metadata": {},
   "outputs": [
    {
     "name": "stdout",
     "output_type": "stream",
     "text": [
      "3.5\n",
      "4.5\n",
      "4.5\n",
      "4.5\n",
      "4.0\n"
     ]
    }
   ],
   "source": [
    "app_data_set = [row_one, row_two, row_three, row_four, row_five]\n",
    "\n",
    "for each_list in app_data_set:\n",
    "    rating = each_list[-1]\n",
    "    print(rating)"
   ]
  },
  {
   "cell_type": "markdown",
   "metadata": {},
   "source": [
    "The code above  takes each list element from `app_data_set` and assigns it to ``each_list`` (which basically becomes a variable that stores a list). See in the example below how each element in the ``app_data_set`` is taken out (or isolated) and gets printed onto the screen:"
   ]
  },
  {
   "cell_type": "code",
   "execution_count": 8,
   "metadata": {},
   "outputs": [
    {
     "name": "stdout",
     "output_type": "stream",
     "text": [
      "['Facebook', 0.0, 'USD', 2974676, 3.5]\n",
      "['Instagram', 0.0, 'USD', 2161558, 4.5]\n",
      "['Clash of Clans', 0.0, 'USD', 2130805, 4.5]\n",
      "['Temple Run', 0.0, 'USD', 1724546, 4.5]\n",
      "['Pandora - Music & Radio', 0.0, 'USD', 1126879, 4.0]\n"
     ]
    }
   ],
   "source": [
    "app_data_set = [row_one, row_two, row_three, row_four, row_five]\n",
    "\n",
    "for each_list in app_data_set:\n",
    "    print(each_list)"
   ]
  },
  {
   "cell_type": "markdown",
   "metadata": {},
   "source": [
    "To make it more understandable, it basically does the following:"
   ]
  },
  {
   "cell_type": "code",
   "execution_count": null,
   "metadata": {},
   "outputs": [],
   "source": [
    "app_data_set = [row_one, row_two, row_three, row_four, row_five]\n",
    "\n",
    "print(app_data_set[0])\n",
    "print(app_data_set[1])\n",
    "print(app_data_set[2])\n",
    "print(app_data_set[3])\n",
    "print(app_data_set[4])"
   ]
  },
  {
   "cell_type": "markdown",
   "metadata": {},
   "source": [
    "The for loop technique requires us to write only two lines of code regardless of the number of rows in the data set, even if the data set has couple millions rows! :)\n",
    "\n",
    "One thing to pay attention to: do not forget to **indent** the code after the `for` line. To indent means to use for example TAB at the beginning of next line if your editor does not do it automatically for you."
   ]
  },
  {
   "cell_type": "markdown",
   "metadata": {},
   "source": [
    "### Task 1.3.8: \n",
    "Use the new technique we've learned to print all the rows in the `app_data_set` list of lists."
   ]
  },
  {
   "cell_type": "code",
   "execution_count": null,
   "metadata": {},
   "outputs": [],
   "source": [
    "row_1 = ['Facebook', 0.0, 'USD', 2974676, 3.5]\n",
    "row_2 = ['Instagram', 0.0, 'USD', 2161558, 4.5]\n",
    "row_3 = ['Clash of Clans', 0.0, 'USD', 2130805, 4.5]\n",
    "row_4 = ['Temple Run', 0.0, 'USD', 1724546, 4.5]\n",
    "row_5 = ['Pandora - Music & Radio', 0.0, 'USD', 1126879, 4.0]\n",
    "\n",
    "app_data_set = [row_1, row_2, row_3, row_4, row_5]\n",
    "\n",
    "# Start your code below:\n",
    "\n",
    "for x in app_data_set:\n",
    "    print(x)"
   ]
  },
  {
   "cell_type": "markdown",
   "metadata": {},
   "source": [
    "## 9. For Loops\n",
    "\n",
    "What we just learned above is called <b>for loop</b>, as we have already mentioned.\n",
    "\n",
    "There are three structural parts in a <b>for loop</b>:\n",
    "1. iteration variable\n",
    "2. iterable variable\n",
    "3. the body of the for loop"
   ]
  },
  {
   "cell_type": "code",
   "execution_count": 9,
   "metadata": {},
   "outputs": [
    {
     "name": "stdout",
     "output_type": "stream",
     "text": [
      "1\n",
      "0\n",
      "2\n",
      "1\n",
      "3\n",
      "2\n"
     ]
    }
   ],
   "source": [
    "a_list = [1, 2, 3]\n",
    "\n",
    "for value in a_list:\n",
    "    print(value)\n",
    "    print(value - 1)\n",
    "\n",
    "# value - is the iteration variable\n",
    "# a_list - is the iterable variable\n",
    "# print(value) & print(value - 1) - belong to the body of the loop"
   ]
  },
  {
   "cell_type": "markdown",
   "metadata": {},
   "source": [
    "The indented code in the <b>body</b> gets executed the same number of times as elements in the <b>iterable variable</b>. If the iterable variable is a list that has three elements, the indented code in the body gets executed three times. We call each code execution an<b> iteration</b>, so there'll be three iterations for a list that has three elements. For each iteration, the <b>iteration variable</b> will take a different value, following this pattern:\n",
    "\n",
    "- In the first iteration, the value is the first element of the iterable (we have the list `[1, 2, 3]` as the iterable, so the value will be 1).\n",
    "- In the second iteration, the value is the second element of the iterable (we have the list `[1, 2, 3]` as the iterable, so the value will be 2).\n",
    "- In the third iteration, the value is the third element of the iterable (we have the list `[1, 2, 3]` as the iterable, so the value will be 3).\n",
    "\n",
    "Do you know that the code outside the loop body can also interact with the code inside the loop body? Look at the following example:"
   ]
  },
  {
   "cell_type": "code",
   "execution_count": null,
   "metadata": {},
   "outputs": [],
   "source": [
    "a_list = [1, 2, 3]\n",
    "\n",
    "a_sum = 0 # a variable outside the loop body\n",
    "\n",
    "for value in a_list: # for every iteration of the loop\n",
    "    ######################Everything below is inside the loop body###################\n",
    "    \n",
    "    a_sum = a_sum + value # perform an addition between the current value \n",
    "    # of the iteration variable and the current value stored in a_sum, \n",
    "    # and assign the result of the addition back to a_sum\n",
    "    print(a_sum) # print the value of the a_sum variable\n",
    "    \n",
    "    ######################Everything above is inside the loop body###################"
   ]
  },
  {
   "cell_type": "markdown",
   "metadata": {},
   "source": [
    "### Task 1.3.9:\n",
    "Compute the average app rating for the apps stored in the `app_data_set` variable.\n",
    "\n",
    "1. Initialize a variable named `rating_sum` with a value of zero outside the loop body.\n",
    "2. Loop (iterate) over the `app_data_set` list of lists. For each of the five iterations of the loop (for each row in `app_data_set`):\n",
    "3. Extract the rating of the app and store it to a variable named `rating`. The rating is the last element of each row.\n",
    "4. Add the value stored in rating to the current value of the `rating_sum`.\n",
    "5. Outside the loop body, divide the rating sum (stored in `rating_sum`) by the number of ratings to get an average value. Store the result in a variable named `avg_rating`.\n"
   ]
  },
  {
   "cell_type": "code",
   "execution_count": null,
   "metadata": {},
   "outputs": [],
   "source": [
    "row_1 = ['Facebook', 0.0, 'USD', 2974676, 3.5]\n",
    "row_2 = ['Instagram', 0.0, 'USD', 2161558, 4.5]\n",
    "row_3 = ['Clash of Clans', 0.0, 'USD', 2130805, 4.5]\n",
    "row_4 = ['Temple Run', 0.0, 'USD', 1724546, 4.5]\n",
    "row_5 = ['Pandora - Music & Radio', 0.0, 'USD', 1126879, 4.0]\n",
    "\n",
    "app_data_set = [row_1, row_2, row_3, row_4, row_5]\n",
    "\n",
    "rating_sum = 0.\n",
    "\n",
    "for row in app_data_set:\n",
    "    rating = row[4]\n",
    "    rating_sum +=rating\n",
    "    \n",
    "avg_rating = rating_sum / len(app_data_set)"
   ]
  }
 ],
 "metadata": {
  "kernelspec": {
   "display_name": "Python 3",
   "language": "python",
   "name": "python3"
  },
  "language_info": {
   "codemirror_mode": {
    "name": "ipython",
    "version": 3
   },
   "file_extension": ".py",
   "mimetype": "text/x-python",
   "name": "python",
   "nbconvert_exporter": "python",
   "pygments_lexer": "ipython3",
   "version": "3.7.1"
  }
 },
 "nbformat": 4,
 "nbformat_minor": 4
}
