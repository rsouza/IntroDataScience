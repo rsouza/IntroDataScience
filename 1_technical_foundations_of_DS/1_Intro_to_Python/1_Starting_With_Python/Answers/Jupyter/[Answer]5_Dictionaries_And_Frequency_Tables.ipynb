{
 "cells": [
  {
   "cell_type": "markdown",
   "metadata": {
    "application/vnd.databricks.v1+cell": {
     "cellMetadata": {},
     "inputWidgets": {},
     "nuid": "805d22cc-b857-4fb9-be81-474da19ce414",
     "showTitle": false,
     "title": ""
    }
   },
   "source": [
    "## About This Notebook\n",
    "\n",
    "In this notebook, we are moving towards a very important new concept called **dictionary**. We already know how to work with lists and lists of lists (which can store data sets). These are however rather basic forms of data. Dictionaries offer us a key/value approach to store data. For example, we might have looped through a list of lists and extracted certain *information* into a dictionary. \n",
    "***\n",
    "\n",
    "## 1. Dictionaries"
   ]
  },
  {
   "cell_type": "markdown",
   "metadata": {
    "application/vnd.databricks.v1+cell": {
     "cellMetadata": {},
     "inputWidgets": {},
     "nuid": "61e59154-c6cc-4a15-a50e-763e50b55c06",
     "showTitle": false,
     "title": ""
    }
   },
   "source": [
    "In the previous notebook we worked with the `AppleStore.csv` data set. The `cont_rating` column provides a lot of information regarding the content rating of each app. See below:<br>\n",
    "\n",
    "|Content rating |Number of apps|\n",
    "|--|--|\n",
    "|4+|4,433|\n",
    "|9+|987|\n",
    "|12+|1,155|\n",
    "|17+|622|"
   ]
  },
  {
   "cell_type": "markdown",
   "metadata": {
    "application/vnd.databricks.v1+cell": {
     "cellMetadata": {},
     "inputWidgets": {},
     "nuid": "9057944e-59b4-4fb1-bc3f-dd06060b4451",
     "showTitle": false,
     "title": ""
    }
   },
   "source": [
    "How can we store the data above? We can do it in two ways:\n",
    "- Using two separate lists\n",
    "- Using a single list of lists"
   ]
  },
  {
   "cell_type": "code",
   "execution_count": 0,
   "metadata": {
    "application/vnd.databricks.v1+cell": {
     "cellMetadata": {
      "byteLimit": 2048000,
      "rowLimit": 10000
     },
     "inputWidgets": {},
     "nuid": "8039b8a1-dab9-4528-bd20-6da6bbb1608f",
     "showTitle": false,
     "title": ""
    }
   },
   "outputs": [],
   "source": [
    "# Two lists\n",
    "content_ratings = ['4+', '9+', '12+', '17+']\n",
    "numbers = [4433, 987, 1155, 622]\n",
    "\n",
    "# A list of lists\n",
    "content_rating_numbers = [['4+', '9+', '12+', '17+'], [4433, 987, 1155, 622]]"
   ]
  },
  {
   "cell_type": "markdown",
   "metadata": {
    "application/vnd.databricks.v1+cell": {
     "cellMetadata": {
      "byteLimit": 2048000,
      "rowLimit": 10000
     },
     "inputWidgets": {},
     "nuid": "7208facb-170e-4970-a3a5-8dee9f012cb7",
     "showTitle": false,
     "title": ""
    }
   },
   "source": [
    "Looking at the lists above, you may be confused which content rating corresponds to which number. Each list element has an index number and we will transform the index numbers to content rating values. We can do this using a <b> dictionary </b> like this:"
   ]
  },
  {
   "cell_type": "code",
   "execution_count": 0,
   "metadata": {
    "application/vnd.databricks.v1+cell": {
     "cellMetadata": {
      "byteLimit": 2048000,
      "rowLimit": 10000
     },
     "inputWidgets": {},
     "nuid": "56cfa4dd-667d-47ad-b4f1-187aedb00e0d",
     "showTitle": false,
     "title": ""
    }
   },
   "outputs": [],
   "source": [
    "content_ratings = {'4+':4433, '9+':987, '12+':1155, '17+':622}\n",
    "print(content_ratings)"
   ]
  },
  {
   "cell_type": "markdown",
   "metadata": {
    "application/vnd.databricks.v1+cell": {
     "cellMetadata": {
      "byteLimit": 2048000,
      "rowLimit": 10000
     },
     "inputWidgets": {},
     "nuid": "33bec10d-c2ed-404b-b956-7a49a1c13a59",
     "showTitle": false,
     "title": ""
    }
   },
   "source": [
    "What we have done above is:\n",
    "- Mapped each content rating to its corresponding number by following an `index:value` pattern. \n",
    "- Separated each pair with a comma\n",
    "- Surrounded the sequence with curly braces {}"
   ]
  },
  {
   "cell_type": "markdown",
   "metadata": {
    "application/vnd.databricks.v1+cell": {
     "cellMetadata": {
      "byteLimit": 2048000,
      "rowLimit": 10000
     },
     "inputWidgets": {},
     "nuid": "f5b8959f-89c5-4242-8942-bd9a14c9de19",
     "showTitle": false,
     "title": ""
    }
   },
   "source": [
    "## 2. Indexing (IMPORTANT)\n",
    "\n",
    "We can change the index numbers of a list to content rating values in a dictionary. So the connection between content ratings their corresponding numbers becomes much clearer.\n",
    "\n",
    "Now the question arises of how we can retrieve the individual values of the content_ratings dictionary.  We can use indices like we did with the individual list elements following a `variable_name[index]` pattern:\n"
   ]
  },
  {
   "cell_type": "code",
   "execution_count": 0,
   "metadata": {
    "application/vnd.databricks.v1+cell": {
     "cellMetadata": {
      "byteLimit": 2048000,
      "rowLimit": 10000
     },
     "inputWidgets": {},
     "nuid": "9bdc54e7-d175-4a91-abc5-03bef1031ff2",
     "showTitle": false,
     "title": ""
    }
   },
   "outputs": [],
   "source": [
    "content_ratings = {'4+':4433, '9+':987, '12+':1155, '17+':622}\n",
    "print(content_ratings['4+'])\n",
    "print(content_ratings['12+'])"
   ]
  },
  {
   "cell_type": "markdown",
   "metadata": {
    "application/vnd.databricks.v1+cell": {
     "cellMetadata": {
      "byteLimit": 2048000,
      "rowLimit": 10000
     },
     "inputWidgets": {},
     "nuid": "8e9e4ff0-3b53-4c12-bfe1-b0bee409a663",
     "showTitle": false,
     "title": ""
    }
   },
   "source": [
    "The indexing of dictionary is something different than the list. \n",
    "> The order of the dictionary is not necessarily preserved whereas in the lists, the order is **always** preserved.\n",
    "\n",
    "For example, the index value 0 always retrieves the list element that's positioned first in a list. With dictionaries, there is no direct connection between the index of a value and the position of that value in the dictionary. That means that the order is unimportant. The index value '4+' will retrieve tha value 4433 no matter its position. It could be the first element, or the last element in the dictionary, is doesn't matter."
   ]
  },
  {
   "cell_type": "code",
   "execution_count": 0,
   "metadata": {
    "application/vnd.databricks.v1+cell": {
     "cellMetadata": {
      "byteLimit": 2048000,
      "rowLimit": 10000
     },
     "inputWidgets": {},
     "nuid": "4d31dd86-2ed7-4427-87d8-ebbee6f6677f",
     "showTitle": false,
     "title": ""
    }
   },
   "outputs": [],
   "source": [
    "content_ratings = {'4+':4433, '9+':987, '12+':1155, '17+':622}\n",
    "print(content_ratings)"
   ]
  },
  {
   "cell_type": "markdown",
   "metadata": {
    "application/vnd.databricks.v1+cell": {
     "cellMetadata": {
      "byteLimit": 2048000,
      "rowLimit": 10000
     },
     "inputWidgets": {},
     "nuid": "3c5467aa-950a-4d85-8757-11a42ac05453",
     "showTitle": false,
     "title": ""
    }
   },
   "source": [
    "### Task 1.5.2:\n",
    "\n",
    "1. Retrieve values from the ``content_ratings`` dictionary.\n",
    "    - Assign the value at index `'9+'` to a variable named `over_9`.\n",
    "    - Assign the value at index `'17+'` to a variable named `over_17`.\n",
    "2. Print `over_9` and `over_17`."
   ]
  },
  {
   "cell_type": "code",
   "execution_count": 0,
   "metadata": {
    "application/vnd.databricks.v1+cell": {
     "cellMetadata": {
      "byteLimit": 2048000,
      "rowLimit": 10000
     },
     "inputWidgets": {},
     "nuid": "fe8b1a9c-156e-48c9-85fe-03ca2b169dd9",
     "showTitle": false,
     "title": ""
    }
   },
   "outputs": [],
   "source": [
    "### Start your code below:\n",
    "\n",
    "over_9 = content_ratings[\"9+\"]\n",
    "over_17 = content_ratings[\"17+\"]\n",
    "print(over_9, over_17)"
   ]
  },
  {
   "cell_type": "markdown",
   "metadata": {
    "application/vnd.databricks.v1+cell": {
     "cellMetadata": {
      "byteLimit": 2048000,
      "rowLimit": 10000
     },
     "inputWidgets": {},
     "nuid": "b366d213-3fb5-4410-a434-c28b4e8a0bee",
     "showTitle": false,
     "title": ""
    }
   },
   "source": [
    "## 3. Alternative way of Creating a Dictionary\n",
    "\n",
    "There is an alternative way of creating a dictionary like this:\n",
    "1. Create an empty dictionary.\n",
    "2. Add values one by one to that empty dictionary.\n",
    "    - like this: `dictionary_name[index] = value`\n",
    "    \n",
    "Take for example, if we want to add a value 4455 with an index `'5+'` to a dictionary named `content_ratings`, we need to use the code:\n",
    "\n",
    "````python\n",
    "content_ratings['5+'] = 4455\n",
    "````"
   ]
  },
  {
   "cell_type": "code",
   "execution_count": 0,
   "metadata": {
    "application/vnd.databricks.v1+cell": {
     "cellMetadata": {
      "byteLimit": 2048000,
      "rowLimit": 10000
     },
     "inputWidgets": {},
     "nuid": "e4cf2553-ecb8-4e43-8d64-4b647803be25",
     "showTitle": false,
     "title": ""
    }
   },
   "outputs": [],
   "source": [
    "content_ratings = {}\n",
    "content_ratings['5+'] = 4455\n",
    "\n",
    "print(content_ratings)"
   ]
  },
  {
   "cell_type": "code",
   "execution_count": 0,
   "metadata": {
    "application/vnd.databricks.v1+cell": {
     "cellMetadata": {
      "byteLimit": 2048000,
      "rowLimit": 10000
     },
     "inputWidgets": {},
     "nuid": "03aed104-a191-40c2-85b1-45e043e7b1c1",
     "showTitle": false,
     "title": ""
    }
   },
   "outputs": [],
   "source": [
    "#To keep adding more values, we can do like this:\n",
    "\n",
    "content_ratings = {}\n",
    "content_ratings['4+'] = 4433\n",
    "content_ratings['9+'] = 987\n",
    "content_ratings['12'] = 1155\n",
    "content_ratings['7+'] = 622\n",
    "\n",
    "print(content_ratings)"
   ]
  },
  {
   "cell_type": "markdown",
   "metadata": {
    "application/vnd.databricks.v1+cell": {
     "cellMetadata": {
      "byteLimit": 2048000,
      "rowLimit": 10000
     },
     "inputWidgets": {},
     "nuid": "5d80448f-677e-417b-b978-62407a9ee812",
     "showTitle": false,
     "title": ""
    }
   },
   "source": [
    "## 4. Key-Value Pairs\n",
    "\n",
    "A <b>key </b>is a index of a dictionary value. Such as in our example `'4+': 4433`, the dictionary key is `'4+'`, and the dictionary value is `4433`. As a whole, `'4+': 4433` is a <b>key-value pair</b>.\n",
    "\n",
    "All of the data types such as strings, integers, floats, Booleans, lists, and even dictionaries can be dictionary values."
   ]
  },
  {
   "cell_type": "code",
   "execution_count": 0,
   "metadata": {
    "application/vnd.databricks.v1+cell": {
     "cellMetadata": {
      "byteLimit": 2048000,
      "rowLimit": 10000
     },
     "inputWidgets": {},
     "nuid": "dab9f1e5-bbcd-407d-9acb-b319729221d8",
     "showTitle": false,
     "title": ""
    }
   },
   "outputs": [],
   "source": [
    "d_1 = { 'key_1' :'value_1',\n",
    "        'key_2' :1,\n",
    "        'key_3' :1.832,\n",
    "        'key_4' :False,\n",
    "        'key_5' :[1,2,3],\n",
    "        'key_6' :{'inside key': 100}\n",
    "}\n",
    "\n",
    "print(d_1)\n",
    "print(d_1['key_1'])\n",
    "print(d_1['key_6'])"
   ]
  },
  {
   "cell_type": "markdown",
   "metadata": {
    "application/vnd.databricks.v1+cell": {
     "cellMetadata": {
      "byteLimit": 2048000,
      "rowLimit": 10000
     },
     "inputWidgets": {},
     "nuid": "2c056706-84c5-483e-98f5-c7f6c0000fb5",
     "showTitle": false,
     "title": ""
    }
   },
   "source": [
    "Different than the dictionary values, dictionary keys cannot be [mutable types](https://towardsdatascience.com/https-towardsdatascience-com-python-basics-mutable-vs-immutable-objects-829a0cb1530a) like lists and dictionaries. A TypeError will be thrown if we try to use lists or dictionaries as dictionary keys."
   ]
  },
  {
   "cell_type": "code",
   "execution_count": 0,
   "metadata": {
    "application/vnd.databricks.v1+cell": {
     "cellMetadata": {
      "byteLimit": 2048000,
      "rowLimit": 10000
     },
     "inputWidgets": {},
     "nuid": "036495c4-42aa-4d0b-8fc2-ab19b7e4ba9a",
     "showTitle": false,
     "title": ""
    }
   },
   "outputs": [],
   "source": [
    "d_1 = { 5 :'int',\n",
    "        '5' :'string',\n",
    "        3.5 :'float',\n",
    "        False :'Boolean'}\n",
    "print(d_1)"
   ]
  },
  {
   "cell_type": "code",
   "execution_count": 0,
   "metadata": {
    "application/vnd.databricks.v1+cell": {
     "cellMetadata": {
      "byteLimit": 2048000,
      "rowLimit": 10000
     },
     "inputWidgets": {},
     "nuid": "7081577a-6d32-409e-a989-801449e4b178",
     "showTitle": false,
     "title": ""
    }
   },
   "outputs": [],
   "source": [
    "# A TypeError will be thrown\n",
    "d_2 = {[1,2,3]:'list'}"
   ]
  },
  {
   "cell_type": "code",
   "execution_count": 0,
   "metadata": {
    "application/vnd.databricks.v1+cell": {
     "cellMetadata": {
      "byteLimit": 2048000,
      "rowLimit": 10000
     },
     "inputWidgets": {},
     "nuid": "5044ca1b-6cda-4c03-ac6f-4396effcff49",
     "showTitle": false,
     "title": ""
    }
   },
   "outputs": [],
   "source": [
    "# A TypeError will be thrown\n",
    "d_2 = {{'key':'value'}:'dictionary'}"
   ]
  },
  {
   "cell_type": "markdown",
   "metadata": {
    "application/vnd.databricks.v1+cell": {
     "cellMetadata": {
      "byteLimit": 2048000,
      "rowLimit": 10000
     },
     "inputWidgets": {},
     "nuid": "e67c4605-aaa8-4793-b2df-fb9b18da778e",
     "showTitle": false,
     "title": ""
    }
   },
   "source": [
    "### Task 1.5.4:\n",
    "\n",
    "Create the following dictionary and assign it to a variable named ``d_1``:\n",
    "\n",
    "{'key_1': 'first_value', <br>\n",
    " 'key_2': 2, <br>\n",
    " 'key_3': 3.14, <br>\n",
    " 'key_4': True, <br>\n",
    " 'key_5': [4,2,1], <br>\n",
    " 'key_6': {'inner_key' : 6} <br>\n",
    " } <br>\n"
   ]
  },
  {
   "cell_type": "code",
   "execution_count": 0,
   "metadata": {
    "application/vnd.databricks.v1+cell": {
     "cellMetadata": {
      "byteLimit": 2048000,
      "rowLimit": 10000
     },
     "inputWidgets": {},
     "nuid": "f467f7b2-0200-4bda-843a-86ee1302e95c",
     "showTitle": false,
     "title": ""
    }
   },
   "outputs": [],
   "source": [
    "### Start your code below:\n",
    "\n",
    "d_1 = {'key_1': 'first_value', \n",
    " 'key_2': 2,\n",
    " 'key_3': 3.14,\n",
    " 'key_4': True,\n",
    " 'key_5': [4,2,1],\n",
    " 'key_6': {'inner_key' : 6}\n",
    " }\n",
    "\n",
    "print(d_1)"
   ]
  },
  {
   "cell_type": "markdown",
   "metadata": {
    "application/vnd.databricks.v1+cell": {
     "cellMetadata": {
      "byteLimit": 2048000,
      "rowLimit": 10000
     },
     "inputWidgets": {},
     "nuid": "db306159-de5a-4444-9e81-2bed7c729585",
     "showTitle": false,
     "title": ""
    }
   },
   "source": [
    "## 5. Counting with Dictionaries\n",
    "\n",
    "The code below will show you how to update or change the dictionary values within an existing dictionary."
   ]
  },
  {
   "cell_type": "code",
   "execution_count": 0,
   "metadata": {
    "application/vnd.databricks.v1+cell": {
     "cellMetadata": {
      "byteLimit": 2048000,
      "rowLimit": 10000
     },
     "inputWidgets": {},
     "nuid": "3c8ed923-4596-4a44-a798-9cec540d8822",
     "showTitle": false,
     "title": ""
    }
   },
   "outputs": [],
   "source": [
    "content_ratings = {'4+':4433, '9+':987, '12+':1155, '17+':622}\n",
    "\n",
    "#Change the value corresponding to the dictionary key '4+' from 4433 to 1.\n",
    "content_ratings['4+'] = 1\n",
    "\n",
    "#Add 13 to the value corresponding to the dictionary key '9+'.\n",
    "content_ratings['9+'] +=13\n",
    "\n",
    "#Subtract 1128 from the value corresponding to the dictionary key '12+'.\n",
    "content_ratings['12+'] -= 1128\n",
    "\n",
    "#Change the value corresponding to the dictionary key '17+' from 622 (integer) to '511' (string).\n",
    "content_ratings['17+'] = '511'\n",
    "\n",
    "print(content_ratings)"
   ]
  },
  {
   "cell_type": "markdown",
   "metadata": {
    "application/vnd.databricks.v1+cell": {
     "cellMetadata": {
      "byteLimit": 2048000,
      "rowLimit": 10000
     },
     "inputWidgets": {},
     "nuid": "5ab3b7cd-532d-4ef1-9563-c4ab6337666f",
     "showTitle": false,
     "title": ""
    }
   },
   "source": [
    "**Now we can combine the updating dictionary values technique with what we already know to count how many times each unique content rating occurs in our data set.** Let's start with this list: `['4+', '4+', '4+', '9+', '9+', '12+', '17+']`, which stores a few content ratings. To count how many times each rating occurs in this short list, we should:\n",
    "- Create a dictionary where all the values (initial count) are all 0:`{'4+': 0, '9+': 0, '12+': 0, '17+': 0}`.\n",
    "- Loop through the list `['4+', '4+', '4+', '9+', '9+', '12+', '17+']`, and for each iteration:\n",
    "    - Check whether the iteration variable exists as a key in the previously created dictionary.\n",
    "    - If it exists, then increment the dictionary value at that key by 1."
   ]
  },
  {
   "cell_type": "code",
   "execution_count": 0,
   "metadata": {
    "application/vnd.databricks.v1+cell": {
     "cellMetadata": {
      "byteLimit": 2048000,
      "rowLimit": 10000
     },
     "inputWidgets": {},
     "nuid": "a21884e7-2c64-47e6-ba5c-ac23169c8425",
     "showTitle": false,
     "title": ""
    }
   },
   "outputs": [],
   "source": [
    "content_ratings = {'4+':0, '9+':0, '12+':0, '17+':0}\n",
    "ratings = ['4+','4+','4+','9+','9+','12+','17+']\n",
    "\n",
    "for c_rating in ratings:\n",
    "    if c_rating in content_ratings:\n",
    "        content_ratings[c_rating] += 1\n",
    "content_ratings"
   ]
  },
  {
   "cell_type": "markdown",
   "metadata": {
    "application/vnd.databricks.v1+cell": {
     "cellMetadata": {
      "byteLimit": 2048000,
      "rowLimit": 10000
     },
     "inputWidgets": {},
     "nuid": "9e138ba2-5589-46a4-a5db-13d188b2b08b",
     "showTitle": false,
     "title": ""
    }
   },
   "source": [
    "To get a better overview, we can print the `content_rating dictionary` inside the for loop and see the changes that it makes every time:"
   ]
  },
  {
   "cell_type": "code",
   "execution_count": 0,
   "metadata": {
    "application/vnd.databricks.v1+cell": {
     "cellMetadata": {
      "byteLimit": 2048000,
      "rowLimit": 10000
     },
     "inputWidgets": {},
     "nuid": "874271e1-4aac-4980-8cd1-c18a76c2daf4",
     "showTitle": false,
     "title": ""
    }
   },
   "outputs": [],
   "source": [
    "content_ratings = {'4+':0, '9+':0, '12+':0, '17+':0}\n",
    "ratings = ['4+','4+','4+','9+','9+','12+','17+']\n",
    "\n",
    "for c_rating in ratings:\n",
    "    if c_rating in content_ratings:\n",
    "        content_ratings[c_rating] += 1\n",
    "    print(content_ratings)\n",
    "print('Final dictionary:', content_ratings)"
   ]
  },
  {
   "cell_type": "markdown",
   "metadata": {
    "application/vnd.databricks.v1+cell": {
     "cellMetadata": {
      "byteLimit": 2048000,
      "rowLimit": 10000
     },
     "inputWidgets": {},
     "nuid": "c7d9bbc4-a641-45c2-8f42-a9b534d9472b",
     "showTitle": false,
     "title": ""
    }
   },
   "source": [
    "How it's time to read in our data set (AppleStore.csv) and use the technique we learned above to count number of times each unique content rating occurs.\n",
    "\n",
    "### Task 1.5.5:\n",
    "Count the number of times each unique content rating occurs in the data set.\n",
    "1. Create a dictionary named `content_ratings` where the keys are the unique content ratings and the values are all 0 (the values of 0 are temporary at this point, and they'll be updated).\n",
    "2. Loop through the `apps_data` list of lists. Make sure you don't include the header row. For each iteration of the loop:\n",
    "    - Assign the content rating value to a variable named `c_rating`. The content rating is at index number 10 in each row.\n",
    "    - Check whether ``c_rating`` exists as a key in ``content_ratings``. If it exists, then increment the dictionary value at that key by 1 (the key is equivalent to the value stored in `c_rating`).\n",
    "3. Outside the loop, print `content_ratings` to check whether the counting worked as expected."
   ]
  },
  {
   "cell_type": "code",
   "execution_count": 0,
   "metadata": {
    "application/vnd.databricks.v1+cell": {
     "cellMetadata": {
      "byteLimit": 2048000,
      "rowLimit": 10000
     },
     "inputWidgets": {},
     "nuid": "b5a7393b-9bf5-4d2f-b9bc-518ebe049cc3",
     "showTitle": false,
     "title": ""
    }
   },
   "outputs": [],
   "source": [
    "from csv import reader\n",
    "\n",
    "with open(\"../../../../../Data/AppleStore.csv\", encoding=\"utf8\") as opened_file:\n",
    "    read_file = reader(opened_file)\n",
    "    apps_data = list(read_file)\n",
    "\n",
    "### Start your code below:\n",
    "\n",
    "content_ratings = {\"4+\": 0, \"9+\": 0, \"12+\": 0, \"17+\": 0}\n",
    "\n",
    "for row in apps_data[1:]:\n",
    "    c_rating = row[10]\n",
    "\n",
    "    if c_rating in content_ratings:\n",
    "        content_ratings[c_rating] += 1\n",
    "print(content_ratings)"
   ]
  },
  {
   "cell_type": "markdown",
   "metadata": {
    "application/vnd.databricks.v1+cell": {
     "cellMetadata": {
      "byteLimit": 2048000,
      "rowLimit": 10000
     },
     "inputWidgets": {},
     "nuid": "fe15fb0e-8b0c-4d4b-9884-6d17cff23b5a",
     "showTitle": false,
     "title": ""
    }
   },
   "source": [
    "## 6. Finding the Unique Values\n",
    "\n",
    "In the example that we worked on in the previous session, we knew each of the unique values we wanted to count beforehand. This is not always the case. For example, what should we do if we don't have enough information to create the dictionary `{'4+': 0, '9+': 0, '12+': 0, '17+': 0}`?\n",
    "\n",
    "We can update the code that we wrote for the list `['4+', '4+', '4+', '9+', '9+', '12+', '17+']` to accomodate this charateristic. \n",
    "In in addition to the `if` statement, we also added an `else` statement. If this dictionary key does not exist in our dictionary, then we create a new key-value pair in the `content_ratings` dictionary, where the dictionary key is the iteration variable (`c_rating`) and the dictionary value is 1.\n"
   ]
  },
  {
   "cell_type": "code",
   "execution_count": 0,
   "metadata": {
    "application/vnd.databricks.v1+cell": {
     "cellMetadata": {
      "byteLimit": 2048000,
      "rowLimit": 10000
     },
     "inputWidgets": {},
     "nuid": "fb90a920-c5a9-4cc4-95e7-aa16f74eea60",
     "showTitle": false,
     "title": ""
    }
   },
   "outputs": [],
   "source": [
    "content_ratings = {}\n",
    "ratings = ['4+','4+','4+','9+','9+','12+','17+']\n",
    "\n",
    "for c_rating in ratings:\n",
    "    if c_rating in content_ratings:\n",
    "        content_ratings[c_rating] += 1\n",
    "    else:\n",
    "        content_ratings[c_rating] = 1\n",
    "content_ratings"
   ]
  },
  {
   "cell_type": "markdown",
   "metadata": {
    "application/vnd.databricks.v1+cell": {
     "cellMetadata": {
      "byteLimit": 2048000,
      "rowLimit": 10000
     },
     "inputWidgets": {},
     "nuid": "b860aa1d-2e7b-48bc-9c6d-1e78b41a4746",
     "showTitle": false,
     "title": ""
    }
   },
   "source": [
    "To get a better overview, we can print the `content_rating` dictionary inside the for loop and see the changes that it makes every time:"
   ]
  },
  {
   "cell_type": "code",
   "execution_count": 0,
   "metadata": {
    "application/vnd.databricks.v1+cell": {
     "cellMetadata": {
      "byteLimit": 2048000,
      "rowLimit": 10000
     },
     "inputWidgets": {},
     "nuid": "4aec1721-958c-4262-a7fa-c756df981f58",
     "showTitle": false,
     "title": ""
    }
   },
   "outputs": [],
   "source": [
    "content_ratings = {}\n",
    "ratings = ['4+','4+','4+','9+','9+','12+','17+']\n",
    "\n",
    "for c_rating in ratings:\n",
    "    if c_rating in content_ratings:\n",
    "        content_ratings[c_rating] += 1\n",
    "    else:\n",
    "        content_ratings[c_rating] = 1\n",
    "    print(content_ratings)\n",
    "    \n",
    "print('Final dictionary:')\n",
    "content_ratings"
   ]
  },
  {
   "cell_type": "markdown",
   "metadata": {
    "application/vnd.databricks.v1+cell": {
     "cellMetadata": {
      "byteLimit": 2048000,
      "rowLimit": 10000
     },
     "inputWidgets": {},
     "nuid": "7ce3b226-dcd1-4418-b80d-0cf932f7cb83",
     "showTitle": false,
     "title": ""
    }
   },
   "source": [
    "### Task 1.5.6:\n",
    "Now let's apply what we have just learned in our data set:\n",
    "\n",
    "Count the number of times each unique content rating occurs in the data set while finding the unique values automatically.\n",
    "1. Create an empty dictionary named `content_ratings`.\n",
    "2. Loop through the `apps_data` list of lists (make sure you don't include the header row). For each iteration of the loop:\n",
    "    - Assign the content rating value to a variable named `c_rating`. The content rating is at index number 10.\n",
    "    - Check whether `c_rating` exists as a key in `content_ratings`.\n",
    "        - If it exists, then increment the dictionary value at that key by 1 (the key is equivalent to the value stored in `c_rating`).\n",
    "        - Else, create a new key-value pair in the dictionary, where the dictionary key is `c_rating` and the dictionary value is 3. Outside the loop, print `content_ratings` to check whether the counting worked as expected."
   ]
  },
  {
   "cell_type": "code",
   "execution_count": 0,
   "metadata": {
    "application/vnd.databricks.v1+cell": {
     "cellMetadata": {
      "byteLimit": 2048000,
      "rowLimit": 10000
     },
     "inputWidgets": {},
     "nuid": "06302dcf-90ab-48ab-bd1b-5b5409ca9238",
     "showTitle": false,
     "title": ""
    }
   },
   "outputs": [],
   "source": [
    "from csv import reader\n",
    "\n",
    "with open('../../../../../Data/AppleStore.csv', encoding = 'utf8') as opened_file:\n",
    "    read_file = reader(opened_file)\n",
    "    apps_data = list(read_file)\n",
    "\n",
    "### Start your code here:\n",
    "\n",
    "content_ratings = {}\n",
    "\n",
    "for row in apps_data[1:]:\n",
    "    c_rating = row[10]\n",
    "    if c_rating in content_ratings:\n",
    "        content_ratings[c_rating] +=1\n",
    "    else:\n",
    "        content_ratings[c_rating] = 1\n",
    "        \n",
    "print(content_ratings)"
   ]
  },
  {
   "cell_type": "markdown",
   "metadata": {
    "application/vnd.databricks.v1+cell": {
     "cellMetadata": {
      "byteLimit": 2048000,
      "rowLimit": 10000
     },
     "inputWidgets": {},
     "nuid": "c6672cc1-4a68-4b09-944a-cd8dc0142b08",
     "showTitle": false,
     "title": ""
    }
   },
   "source": [
    "## 7. Proportions and Percentages\n",
    "\n",
    "The following table is known as the frequency table. A frequency is the number of times a unique value occurs.\n",
    "\n",
    "|Content rating|Number of apps (frequency)|\n",
    "|--|--|\n",
    "|4+|4,433|\n",
    "|9+|987|\n",
    "|12+|1,155|\n",
    "|17+|622|\n",
    "\n",
    "4+ occurs 4,433 times, so it has a frequency of 4,433. 12+ has a frequency of 1,155. 9+ has a frequency of 987. 17+ has the lowest frequency: 622.\n",
    "\n",
    "When we analyze the data set, it might also be interesting to look at the following questions:\n",
    "- What proportion of apps has a content rating of 4+?\n",
    "- What percentage of apps has a content rating of 17+?\n",
    "- What percentage of apps has a 15-year-old download?\n",
    "\n",
    "To get the proportion of apps with a content rating of 4+, we can use the number of 4+ apps divide by the total number of apps like this:\n",
    "4,443/7,197\n",
    "\n",
    "Instead of a fraction, we can also express proportion as a decimal between 0 and 1. So the result of 4,443/7,197 will be 0.62.\n",
    "\n",
    "We can get percentage of 4+ apps by simply multiplying the proportions by 100 -- so it will be 62%."
   ]
  },
  {
   "cell_type": "markdown",
   "metadata": {
    "application/vnd.databricks.v1+cell": {
     "cellMetadata": {
      "byteLimit": 2048000,
      "rowLimit": 10000
     },
     "inputWidgets": {},
     "nuid": "97f3f3f7-1f9a-47b6-b91f-f7a62c1a1919",
     "showTitle": false,
     "title": ""
    }
   },
   "source": [
    "## 8. Looping over Dictionaries\n",
    "\n",
    "We can transform the frequencies to proportions or percentages individually by performing the required arithmetical operations like this:"
   ]
  },
  {
   "cell_type": "code",
   "execution_count": 0,
   "metadata": {
    "application/vnd.databricks.v1+cell": {
     "cellMetadata": {
      "byteLimit": 2048000,
      "rowLimit": 10000
     },
     "inputWidgets": {},
     "nuid": "26ed2892-1c1e-47d0-8e55-ed10973f4f8c",
     "showTitle": false,
     "title": ""
    }
   },
   "outputs": [],
   "source": [
    "content_ratings = {'4+':4433, '9+':987, '12+':1155, '17+':622}\n",
    "total_number_of_apps = 7197\n",
    "\n",
    "content_ratings['4+']/=total_number_of_apps\n",
    "content_ratings['9+']/=total_number_of_apps\n",
    "content_ratings['12+']/=total_number_of_apps\n",
    "content_ratings['17+']/=total_number_of_apps\n",
    "\n",
    "print(content_ratings)"
   ]
  },
  {
   "cell_type": "markdown",
   "metadata": {
    "application/vnd.databricks.v1+cell": {
     "cellMetadata": {
      "byteLimit": 2048000,
      "rowLimit": 10000
     },
     "inputWidgets": {},
     "nuid": "8423d785-e09d-4a30-971a-007f51f4ea90",
     "showTitle": false,
     "title": ""
    }
   },
   "source": [
    "It can be very cumbersome to update each and every `content_rating` dictionary value manually. Therefore, we can use a for loop to iterate over a dictionary."
   ]
  },
  {
   "cell_type": "code",
   "execution_count": 0,
   "metadata": {
    "application/vnd.databricks.v1+cell": {
     "cellMetadata": {
      "byteLimit": 2048000,
      "rowLimit": 10000
     },
     "inputWidgets": {},
     "nuid": "083db598-c380-40a9-8036-7f775c62bf5c",
     "showTitle": false,
     "title": ""
    }
   },
   "outputs": [],
   "source": [
    "content_ratings = {'4+':4433, '9+':987, '12+':1155, '17+':622}\n",
    "\n",
    "for iteration_variable in content_ratings:\n",
    "    print(iteration_variable)"
   ]
  },
  {
   "cell_type": "markdown",
   "metadata": {
    "application/vnd.databricks.v1+cell": {
     "cellMetadata": {
      "byteLimit": 2048000,
      "rowLimit": 10000
     },
     "inputWidgets": {},
     "nuid": "9e09bb75-f300-42b0-88e3-bb52ec7bf3b1",
     "showTitle": false,
     "title": ""
    }
   },
   "source": [
    "We can also use the dictionary keys to access the dictionary values within the loop:"
   ]
  },
  {
   "cell_type": "code",
   "execution_count": 0,
   "metadata": {
    "application/vnd.databricks.v1+cell": {
     "cellMetadata": {
      "byteLimit": 2048000,
      "rowLimit": 10000
     },
     "inputWidgets": {},
     "nuid": "5c7d4910-969b-43d8-b7dd-1c4fbb09f7a1",
     "showTitle": false,
     "title": ""
    }
   },
   "outputs": [],
   "source": [
    "content_ratings = {'4+':4433, '9+':987, '12+':1155, '17+':622}\n",
    "\n",
    "for iteration_variable in content_ratings:\n",
    "    print(iteration_variable)\n",
    "    print(content_ratings[iteration_variable])"
   ]
  },
  {
   "cell_type": "markdown",
   "metadata": {
    "application/vnd.databricks.v1+cell": {
     "cellMetadata": {
      "byteLimit": 2048000,
      "rowLimit": 10000
     },
     "inputWidgets": {},
     "nuid": "87703487-9885-48d5-9787-d473dc413a78",
     "showTitle": false,
     "title": ""
    }
   },
   "source": [
    "With the technique above, we can update the dictionary values within loop:"
   ]
  },
  {
   "cell_type": "code",
   "execution_count": 0,
   "metadata": {
    "application/vnd.databricks.v1+cell": {
     "cellMetadata": {
      "byteLimit": 2048000,
      "rowLimit": 10000
     },
     "inputWidgets": {},
     "nuid": "29a3c742-264d-4355-9738-1143efa5a084",
     "showTitle": false,
     "title": ""
    }
   },
   "outputs": [],
   "source": [
    "content_ratings = {'4+':4433, '9+':987, '12+':1155, '17+':622}\n",
    "total_number_of_apps = 7197\n",
    "\n",
    "for iteration_variable in content_ratings:\n",
    "    content_ratings[iteration_variable] /= total_number_of_apps\n",
    "print(content_ratings)"
   ]
  },
  {
   "cell_type": "markdown",
   "metadata": {
    "application/vnd.databricks.v1+cell": {
     "cellMetadata": {
      "byteLimit": 2048000,
      "rowLimit": 10000
     },
     "inputWidgets": {},
     "nuid": "18332a13-79c7-4010-a588-87cc976f342a",
     "showTitle": false,
     "title": ""
    }
   },
   "source": [
    "## 9. Small Bonus (OPTIONAL)\n",
    "The looping through dictionaries which we used in this notebook is really used only for training purposes. In a productive and professional code, you would not want to use it. \n",
    "\n",
    "Here is a recommendation from our RBCZ colleague *Jakub Korecek*:\n",
    ">  The dictionary type has one important and very useful method to check whether a key *exists*. This method is called ``get()``.\n",
    "The useful part about this is that we can assign value if a key does not exist instead of having a KeyError. The default value is ``None``, but we can set up anything we want."
   ]
  },
  {
   "cell_type": "code",
   "execution_count": 0,
   "metadata": {
    "application/vnd.databricks.v1+cell": {
     "cellMetadata": {
      "byteLimit": 2048000,
      "rowLimit": 10000
     },
     "inputWidgets": {},
     "nuid": "7d6aa01b-a7c2-4f6a-b403-547ca4feda1c",
     "showTitle": false,
     "title": ""
    }
   },
   "outputs": [],
   "source": [
    "test_dict = {'A':1,'B':2}\n",
    "print(test_dict.get('A'))\n",
    "print(test_dict.get('C'))\n",
    "print(test_dict.get('C','KEY DO NOT EXISTS'))"
   ]
  },
  {
   "cell_type": "markdown",
   "metadata": {
    "application/vnd.databricks.v1+cell": {
     "cellMetadata": {
      "byteLimit": 2048000,
      "rowLimit": 10000
     },
     "inputWidgets": {},
     "nuid": "068e57da-7b28-4d45-8bd7-ad6dc2854be2",
     "showTitle": false,
     "title": ""
    }
   },
   "source": [
    "> There is another way to iterate over a dictionary, which is better from performance point of view. It is done by method called ``items()``."
   ]
  },
  {
   "cell_type": "code",
   "execution_count": 0,
   "metadata": {
    "application/vnd.databricks.v1+cell": {
     "cellMetadata": {
      "byteLimit": 2048000,
      "rowLimit": 10000
     },
     "inputWidgets": {},
     "nuid": "67bef0a5-3f62-4a1d-8003-887b77acc3f0",
     "showTitle": false,
     "title": ""
    }
   },
   "outputs": [],
   "source": [
    "test_dict = {'A':1,'B':2}\n",
    "for key,value in test_dict.items():\n",
    "    print(key,value)"
   ]
  }
 ],
 "metadata": {
  "application/vnd.databricks.v1+notebook": {
   "dashboards": [],
   "language": "python",
   "notebookMetadata": {
    "pythonIndentUnit": 4
   },
   "notebookName": "[Answer]5_Dictionaries_And_Frequency_Tables",
   "widgets": {}
  },
  "kernelspec": {
   "display_name": "Python 3",
   "language": "python",
   "name": "python3"
  },
  "language_info": {
   "codemirror_mode": {
    "name": "ipython",
    "version": 3
   },
   "file_extension": ".py",
   "mimetype": "text/x-python",
   "name": "python",
   "nbconvert_exporter": "python",
   "pygments_lexer": "ipython3",
   "version": "3.7.1"
  }
 },
 "nbformat": 4,
 "nbformat_minor": 0
}
