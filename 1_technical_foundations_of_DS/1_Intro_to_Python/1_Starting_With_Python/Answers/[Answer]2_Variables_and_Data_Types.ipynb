{
 "cells": [
  {
   "cell_type": "markdown",
   "metadata": {
    "application/vnd.databricks.v1+cell": {
     "cellMetadata": {},
     "inputWidgets": {},
     "nuid": "7e907e86-0a1c-4c94-8d48-74ad6bed1944",
     "showTitle": false,
     "title": ""
    }
   },
   "source": [
    "## About This Notebook\n",
    "\n",
    "Probably the most useful concept within programming is that of **variables**. We will therefore focus on variables within this notebook. We will begin by exploring why we need them and how are they created. Later on, we will move onto **data types**. These mean that variables can be of different type depending on what they store.\n",
    "\n",
    "Alongside, we will learn some useful tricks, such as *conversion* betweeen data types.\n",
    "***"
   ]
  },
  {
   "cell_type": "markdown",
   "metadata": {
    "application/vnd.databricks.v1+cell": {
     "cellMetadata": {},
     "inputWidgets": {},
     "nuid": "c477a840-f1d3-46ab-97e3-0a9a4a36610f",
     "showTitle": false,
     "title": ""
    }
   },
   "source": [
    "## 1. Saving Values\n",
    "We have learned the basics of Python programming and performed a couple of arithmetical operations in Python. However, how do we actually save values and work with numerical and text data? For example, if we want to save the result of an arithmetical operation for a different execution. Let's say `(20-10)*2 = 20`, and we want to save 20 as our result. We can therefore write:"
   ]
  },
  {
   "cell_type": "code",
   "execution_count": 0,
   "metadata": {
    "application/vnd.databricks.v1+cell": {
     "cellMetadata": {},
     "inputWidgets": {},
     "nuid": "40eb8df6-d23a-4974-8e5e-0f7f625916dc",
     "showTitle": false,
     "title": ""
    }
   },
   "outputs": [],
   "source": [
    "result = 20"
   ]
  },
  {
   "cell_type": "markdown",
   "metadata": {
    "application/vnd.databricks.v1+cell": {
     "cellMetadata": {},
     "inputWidgets": {},
     "nuid": "3b0af83a-d990-4f1a-815d-979d67b458d8",
     "showTitle": false,
     "title": ""
    }
   },
   "source": [
    "If we print the result, the output is: 20"
   ]
  },
  {
   "cell_type": "code",
   "execution_count": 0,
   "metadata": {
    "application/vnd.databricks.v1+cell": {
     "cellMetadata": {},
     "inputWidgets": {},
     "nuid": "6263513a-6e78-4ddf-8281-390f783bdd49",
     "showTitle": false,
     "title": ""
    }
   },
   "outputs": [],
   "source": [
    "result = 20\n",
    "print(result)"
   ]
  },
  {
   "cell_type": "markdown",
   "metadata": {
    "application/vnd.databricks.v1+cell": {
     "cellMetadata": {},
     "inputWidgets": {},
     "nuid": "b020af72-1c9a-465d-b0ba-704abfb20271",
     "showTitle": false,
     "title": ""
    }
   },
   "source": [
    "We can also directly save (20-10)*2 instead of saving 20:"
   ]
  },
  {
   "cell_type": "code",
   "execution_count": 0,
   "metadata": {
    "application/vnd.databricks.v1+cell": {
     "cellMetadata": {},
     "inputWidgets": {},
     "nuid": "a31bb751-c7c7-4703-85c0-766e6363b048",
     "showTitle": false,
     "title": ""
    }
   },
   "outputs": [],
   "source": [
    "result = (20-10)*2\n",
    "print(result)"
   ]
  },
  {
   "cell_type": "markdown",
   "metadata": {
    "application/vnd.databricks.v1+cell": {
     "cellMetadata": {},
     "inputWidgets": {},
     "nuid": "084b8461-a72a-4425-a471-99149ac965d0",
     "showTitle": false,
     "title": ""
    }
   },
   "source": [
    "Pay attention that, when we print(result), the output is the value of calculation and not `(20-10) * 2`. **The computer first calculates (20-10) * 2 and then saves the result 20 to variable name \"result\".**"
   ]
  },
  {
   "cell_type": "markdown",
   "metadata": {
    "application/vnd.databricks.v1+cell": {
     "cellMetadata": {},
     "inputWidgets": {},
     "nuid": "1cd219cf-c4c1-4252-b0f2-f7c2996e0618",
     "showTitle": false,
     "title": ""
    }
   },
   "source": [
    "### Task 1.2.1:\n",
    "1. Save the result of (50 + 6)*32 to the variable name `result`.\n",
    "2. Print result."
   ]
  },
  {
   "cell_type": "code",
   "execution_count": 0,
   "metadata": {
    "application/vnd.databricks.v1+cell": {
     "cellMetadata": {},
     "inputWidgets": {},
     "nuid": "de50410e-52f8-4002-9334-ae9bb3a781dd",
     "showTitle": false,
     "title": ""
    }
   },
   "outputs": [],
   "source": [
    "# Start your code below:\n",
    "\n",
    "result = (50 + 6)*32\n",
    "\n",
    "print(result)"
   ]
  },
  {
   "cell_type": "markdown",
   "metadata": {
    "application/vnd.databricks.v1+cell": {
     "cellMetadata": {},
     "inputWidgets": {},
     "nuid": "408d4e35-fd4e-4d0f-92f5-7af907cb4ed7",
     "showTitle": false,
     "title": ""
    }
   },
   "source": [
    "## 2. Variables\n",
    "When we run the code result = 20, the value 20 is saved in the computer memory. The computer memory has many storage locations, and the value 20 is saved to one particular location.\n",
    "\n",
    "The value we just saved, which is 20, has a unique identifier in the storage location which we can use it to access 20. We can use the identifier *result* to access 20 in our program. For example:"
   ]
  },
  {
   "cell_type": "code",
   "execution_count": 0,
   "metadata": {
    "application/vnd.databricks.v1+cell": {
     "cellMetadata": {},
     "inputWidgets": {},
     "nuid": "7d6d30c6-8b32-43ae-9995-388b993f40d3",
     "showTitle": false,
     "title": ""
    }
   },
   "outputs": [],
   "source": [
    "result = 20\n",
    "print(result)\n",
    "print(result * 2)\n",
    "print(result + 1)"
   ]
  },
  {
   "cell_type": "markdown",
   "metadata": {
    "application/vnd.databricks.v1+cell": {
     "cellMetadata": {},
     "inputWidgets": {},
     "nuid": "faee776f-6009-4b75-9f00-1db28617ca2f",
     "showTitle": false,
     "title": ""
    }
   },
   "source": [
    "This unique identifier is commonly known as a **variable**. \n",
    "*result = 20* ran after we hit the Run button, the computer stored 20 in a variable or a storage location named *result* based on our command --- therefore \"result\" is a **variable name**.\n",
    "Notice that the order of the variable naming is very important. The variable name is to the left of the = sign and the value we want to store to this variable name is located to the right.\n",
    "Therefore if we want to store the value 20 to a variable named result, result = 20 must be written and not 20 = result."
   ]
  },
  {
   "cell_type": "markdown",
   "metadata": {
    "application/vnd.databricks.v1+cell": {
     "cellMetadata": {},
     "inputWidgets": {},
     "nuid": "4b839303-c657-4283-b796-4ee19e0b8497",
     "showTitle": false,
     "title": ""
    }
   },
   "source": [
    "Now let's do some practice declaring some variable names.\n",
    "\n",
    "### Task 1.2.2:\n",
    "1. Store the value 10 in a variable named some_value.\n",
    "2. Store the result of (38+6-2)*23 to a variable named some_result.\n",
    "3. Use the `print()` command to display the following:\n",
    "  * The value stored in the some_value variable.\n",
    "  * The result of adding 8 to the variable some_result.\n",
    "  * The result of adding some_value to some_result."
   ]
  },
  {
   "cell_type": "code",
   "execution_count": 0,
   "metadata": {
    "application/vnd.databricks.v1+cell": {
     "cellMetadata": {},
     "inputWidgets": {},
     "nuid": "a06c742f-8bd1-474b-9868-c82c7a8c8b51",
     "showTitle": false,
     "title": ""
    }
   },
   "outputs": [],
   "source": [
    "# Start your code below:\n",
    "\n",
    "some_value = 10\n",
    "some_result = (38+6-2)*23\n",
    "print(some_value)\n",
    "print(some_result + 8)\n",
    "print(some_value + some_result)"
   ]
  },
  {
   "cell_type": "markdown",
   "metadata": {
    "application/vnd.databricks.v1+cell": {
     "cellMetadata": {},
     "inputWidgets": {},
     "nuid": "24a4618c-3322-45f3-8cea-8cfdd05f1f05",
     "showTitle": false,
     "title": ""
    }
   },
   "source": [
    "## 3. Variable Names\n",
    "In the previous task, we have declared some variable names. We also learned that we can choose names for our variables. However, the names we choose must comply with a number of syntax rules. For example, if we try to name a variable `a result`, a syntax error will occur because we're not allowed to use space in variable names."
   ]
  },
  {
   "cell_type": "code",
   "execution_count": 0,
   "metadata": {
    "application/vnd.databricks.v1+cell": {
     "cellMetadata": {},
     "inputWidgets": {},
     "nuid": "3e38b257-89ac-4fe9-bb83-4d90c9854c59",
     "showTitle": false,
     "title": ""
    }
   },
   "outputs": [],
   "source": [
    "a result = 20"
   ]
  },
  {
   "cell_type": "markdown",
   "metadata": {
    "application/vnd.databricks.v1+cell": {
     "cellMetadata": {},
     "inputWidgets": {},
     "nuid": "06a2df3e-bcb0-40b6-afa6-17a538dcf14c",
     "showTitle": false,
     "title": ""
    }
   },
   "source": [
    "There are two syntax rules we must follow when we declare our variables: <br>\n",
    "1) Only letters, numbers, or underscores (we can't use apostrophes, hyphens, whitespace characters, etc.) can be used. <br>\n",
    "2) Variable names cannot start with a number.<br>\n",
    "\n",
    "For example, errors will occur if we pick any of the following variable names:"
   ]
  },
  {
   "cell_type": "code",
   "execution_count": 0,
   "metadata": {
    "application/vnd.databricks.v1+cell": {
     "cellMetadata": {},
     "inputWidgets": {},
     "nuid": "f734c225-6ef3-447f-9c2e-75d4c5e23991",
     "showTitle": false,
     "title": ""
    }
   },
   "outputs": [],
   "source": [
    "1_result = 2\n",
    "new result = 3\n",
    "sister's_vacation_day = 23\n",
    "old-result = 20\n",
    "price_in_$ = 20\n"
   ]
  },
  {
   "cell_type": "markdown",
   "metadata": {
    "application/vnd.databricks.v1+cell": {
     "cellMetadata": {},
     "inputWidgets": {},
     "nuid": "2d6afb1f-2998-4fca-96f8-acee9eb470d7",
     "showTitle": false,
     "title": ""
    }
   },
   "source": [
    "All variable names are case sensitive, notice that result is different from a variable named Result:"
   ]
  },
  {
   "cell_type": "code",
   "execution_count": 0,
   "metadata": {
    "application/vnd.databricks.v1+cell": {
     "cellMetadata": {},
     "inputWidgets": {},
     "nuid": "664a5faf-179e-4e19-92bf-290dbce07770",
     "showTitle": false,
     "title": ""
    }
   },
   "outputs": [],
   "source": [
    "result = 20\n",
    "Result = 30\n",
    "print(result)\n",
    "print(Result)"
   ]
  },
  {
   "cell_type": "markdown",
   "metadata": {
    "application/vnd.databricks.v1+cell": {
     "cellMetadata": {},
     "inputWidgets": {},
     "nuid": "06fc555f-f130-4cc9-8f00-165dd62cdc2e",
     "showTitle": false,
     "title": ""
    }
   },
   "source": [
    "## 4. Updating Variables\n",
    "\n",
    "The value saved in a variable can be changed or updated.\n",
    "For example, in the code below we have first stored 2 in the variable result and then we update result to store 20 instead."
   ]
  },
  {
   "cell_type": "code",
   "execution_count": 0,
   "metadata": {
    "application/vnd.databricks.v1+cell": {
     "cellMetadata": {},
     "inputWidgets": {},
     "nuid": "286e53eb-573c-468d-89b2-112b15e1d4d5",
     "showTitle": false,
     "title": ""
    }
   },
   "outputs": [],
   "source": [
    "result = 2\n",
    "print(result)\n",
    "print(result + 1)\n",
    "\n",
    "result = 20\n",
    "print(result)\n",
    "\n",
    "result = result + 10\n",
    "print(result)"
   ]
  },
  {
   "cell_type": "markdown",
   "metadata": {
    "application/vnd.databricks.v1+cell": {
     "cellMetadata": {},
     "inputWidgets": {},
     "nuid": "a2ac9f63-8373-4c78-93de-17bc5ee1b689",
     "showTitle": false,
     "title": ""
    }
   },
   "source": [
    "Pay attention to the code above:\n",
    "- The variable result initially only stores a value of 2\n",
    "- `result + 1` equals to 3 because `result` restores a value of 2 --- so `result + 1` becomes 2 + 1\n",
    "- when we run `result = result + 10`, `result` is updated to store of value of `result + 10`, which is 30. It is the same as running `result = 20 + 10` because `result` has a value of 20.\n",
    "`print(result)` outputs 30 after we executed result = result + 10.\n",
    "Now let's have a little practice with variables.\n",
    "\n",
    "\n",
    "### Task 1.2.4:\n",
    "1.  Update the variable income by adding 5000 to its current value.\n",
    "2.  Print income"
   ]
  },
  {
   "cell_type": "code",
   "execution_count": 0,
   "metadata": {
    "application/vnd.databricks.v1+cell": {
     "cellMetadata": {},
     "inputWidgets": {},
     "nuid": "8985b1ba-727a-4f05-bda8-8a8089cb6d3b",
     "showTitle": false,
     "title": ""
    }
   },
   "outputs": [],
   "source": [
    "income = 2000\n",
    "\n",
    "# Start your code below:\n",
    "\n",
    "income = income + 5000\n",
    "print(income)"
   ]
  },
  {
   "cell_type": "markdown",
   "metadata": {
    "application/vnd.databricks.v1+cell": {
     "cellMetadata": {},
     "inputWidgets": {},
     "nuid": "83f41519-cf50-40ae-afa4-c5504896bdb7",
     "showTitle": false,
     "title": ""
    }
   },
   "source": [
    "**Pay attention to how we updated the variable, for example, by using x = x + 1. It is different than what we normally follows in mathematics. x = x +1 would be a false statement because x can never be equal to x + 1.** This means that the = operator sign in python or in any programming language in general doesn't have the same meaning as it does in mathematics.\n",
    "\n",
    "**In Python, the = operator means assignment**: the value on the right is assigned to the variable on the left, just like how we name our variable. It doesn't mean equality. We call = an assignment operator, and we read code like x = 2 as \"two is assigned to x\" or \"x is assigned two,\" but not \"x equals two.\""
   ]
  },
  {
   "cell_type": "markdown",
   "metadata": {
    "application/vnd.databricks.v1+cell": {
     "cellMetadata": {},
     "inputWidgets": {},
     "nuid": "13118172-71d8-42ae-b34f-d7b1e683d484",
     "showTitle": false,
     "title": ""
    }
   },
   "source": [
    "By the way, Python offers a shortcut for inplace operations +=, -=, /= and *="
   ]
  },
  {
   "cell_type": "code",
   "execution_count": 0,
   "metadata": {
    "application/vnd.databricks.v1+cell": {
     "cellMetadata": {},
     "inputWidgets": {},
     "nuid": "b63527dd-eb1d-4686-9dda-ce7a354072de",
     "showTitle": false,
     "title": ""
    }
   },
   "outputs": [],
   "source": [
    "x = 10\n",
    "print(x)\n",
    "\n",
    "x += 1    # is equivalent to x = x + 1\n",
    "print(x)"
   ]
  },
  {
   "cell_type": "markdown",
   "metadata": {
    "application/vnd.databricks.v1+cell": {
     "cellMetadata": {},
     "inputWidgets": {},
     "nuid": "a3024713-d61a-4145-8c3c-67d6ab00cccf",
     "showTitle": false,
     "title": ""
    }
   },
   "source": [
    "## 5. Types of Values\n",
    "We have only worked with integers so far, of course we can also work with decimal numbers in Python. To understand what type of numbers or even values you are working with in Python, we can simply use the `type()` command to see the type of a value. For example:\n"
   ]
  },
  {
   "cell_type": "code",
   "execution_count": 0,
   "metadata": {
    "application/vnd.databricks.v1+cell": {
     "cellMetadata": {},
     "inputWidgets": {},
     "nuid": "e97d6d76-966b-49d6-84cf-7f6fd05b5733",
     "showTitle": false,
     "title": ""
    }
   },
   "outputs": [],
   "source": [
    "print(type(10))\n",
    "print(type(10.))\n",
    "print(type(10.0))\n",
    "print(type(2.5))"
   ]
  },
  {
   "cell_type": "markdown",
   "metadata": {
    "application/vnd.databricks.v1+cell": {
     "cellMetadata": {},
     "inputWidgets": {},
     "nuid": "9dac9566-ecea-4fbf-8e4e-ecf103218797",
     "showTitle": false,
     "title": ""
    }
   },
   "source": [
    "We see that Python distinguishes integers and decimal numbers since the integer 10 has the <b> int </b> type and the decimal numbers 10., 10.0, and 2.5 have the <b> float</b> type. All integers have the <b> int </b> type, and numbers that has a decimal point have the <b> float </b>type. \n",
    "\n",
    "Even though these numbers are classified into different <b> types</b> or have different <b> data types </b>, we can still perform arithmetical operations with them. For example, we can still add an <b> int </b> data type to a <b> float </b> data type.\n",
    "\n"
   ]
  },
  {
   "cell_type": "code",
   "execution_count": 0,
   "metadata": {
    "application/vnd.databricks.v1+cell": {
     "cellMetadata": {},
     "inputWidgets": {},
     "nuid": "4488b86e-5e32-44a8-aa8e-332f6e63d8c1",
     "showTitle": false,
     "title": ""
    }
   },
   "outputs": [],
   "source": [
    "print(10 + 10.0)\n",
    "print(2.5 * 5)"
   ]
  },
  {
   "cell_type": "markdown",
   "metadata": {
    "application/vnd.databricks.v1+cell": {
     "cellMetadata": {},
     "inputWidgets": {},
     "nuid": "6b9b3063-d389-44cb-85e3-0c31e4c85a22",
     "showTitle": false,
     "title": ""
    }
   },
   "source": [
    "### Task 1.2.5:\n",
    "1. Assign a value of 10 to a variable named `value_1` <br>\n",
    "2. Assign a value of 20.5 to a variable named `value_2` <br>\n",
    "3. Update the value of `value_1` by adding 2.5 to its current value. Try to use the syntax shortcut like += operator. <br>\n",
    "4. Update the value of `value_2` by multiplying its current value by 5. Try to use the syntax shorcut like *= operator. <br>\n",
    "5. Print the result of `value_1` and `value_2` by using `print()` command. <br>\n"
   ]
  },
  {
   "cell_type": "code",
   "execution_count": 0,
   "metadata": {
    "application/vnd.databricks.v1+cell": {
     "cellMetadata": {},
     "inputWidgets": {},
     "nuid": "22317f6c-dbd6-4667-a116-0dd3ac11681a",
     "showTitle": false,
     "title": ""
    }
   },
   "outputs": [],
   "source": [
    "#Start your code below:\n",
    "\n",
    "value_1 = 10\n",
    "value_2 = 20.5\n",
    "value_1 += 2.5\n",
    "value_2 *= 5\n",
    "print(value_1)\n",
    "print(value_2)"
   ]
  },
  {
   "cell_type": "markdown",
   "metadata": {
    "application/vnd.databricks.v1+cell": {
     "cellMetadata": {},
     "inputWidgets": {},
     "nuid": "2fd6cc85-8245-4533-8bc2-e78548afe97c",
     "showTitle": false,
     "title": ""
    }
   },
   "source": [
    "## 6. Conversion\n",
    "\n",
    "Is it possible to convert one type of value to another type of value? Totally! For example, <b> float()</b> command is used to convert an integer to a float and  <b>int()  </b>command is to convert a float to an integer."
   ]
  },
  {
   "cell_type": "code",
   "execution_count": 0,
   "metadata": {
    "application/vnd.databricks.v1+cell": {
     "cellMetadata": {},
     "inputWidgets": {},
     "nuid": "cf646814-fcd1-4d38-a085-17d008b453a3",
     "showTitle": false,
     "title": ""
    }
   },
   "outputs": [],
   "source": [
    "float(10)"
   ]
  },
  {
   "cell_type": "code",
   "execution_count": 0,
   "metadata": {
    "application/vnd.databricks.v1+cell": {
     "cellMetadata": {},
     "inputWidgets": {},
     "nuid": "49cfe0cd-b72e-41f1-93c5-401f535599d7",
     "showTitle": false,
     "title": ""
    }
   },
   "outputs": [],
   "source": [
    "int(2.6)"
   ]
  },
  {
   "cell_type": "markdown",
   "metadata": {
    "application/vnd.databricks.v1+cell": {
     "cellMetadata": {},
     "inputWidgets": {},
     "nuid": "ff26df84-2784-4923-9817-ce0e20374673",
     "showTitle": false,
     "title": ""
    }
   },
   "source": [
    "Pay attention to the `int()` command and notice that 2.6 is rounded down to a 2. The `int()` command will always round a float value down, even if the number after the decimal point is greater than five.\n",
    "\n",
    "However, we can also use `round()` command to properly round off a number, which follows the normal rounding rule."
   ]
  },
  {
   "cell_type": "code",
   "execution_count": 0,
   "metadata": {
    "application/vnd.databricks.v1+cell": {
     "cellMetadata": {},
     "inputWidgets": {},
     "nuid": "691278de-1562-41fc-8ef7-8c7f4ec4f111",
     "showTitle": false,
     "title": ""
    }
   },
   "outputs": [],
   "source": [
    "round(2.3)"
   ]
  },
  {
   "cell_type": "code",
   "execution_count": 0,
   "metadata": {
    "application/vnd.databricks.v1+cell": {
     "cellMetadata": {},
     "inputWidgets": {},
     "nuid": "a5de8314-ceef-439c-9871-b89ff2ffa9a7",
     "showTitle": false,
     "title": ""
    }
   },
   "outputs": [],
   "source": [
    "round(2.5)"
   ]
  },
  {
   "cell_type": "code",
   "execution_count": 0,
   "metadata": {
    "application/vnd.databricks.v1+cell": {
     "cellMetadata": {},
     "inputWidgets": {},
     "nuid": "626ebcba-1271-4db0-ba85-eaa13d519b93",
     "showTitle": false,
     "title": ""
    }
   },
   "outputs": [],
   "source": [
    "round(2.99)"
   ]
  },
  {
   "cell_type": "markdown",
   "metadata": {
    "application/vnd.databricks.v1+cell": {
     "cellMetadata": {},
     "inputWidgets": {},
     "nuid": "d5ca7354-6b25-49e3-8d5e-8c069241d039",
     "showTitle": false,
     "title": ""
    }
   },
   "source": [
    "It is possible and often encouraged to combine commands. For example, we can use `round()` inside a `print()` command. Notice the different output printed on the screen between a simple `round()` command and `print(round())`."
   ]
  },
  {
   "cell_type": "code",
   "execution_count": 0,
   "metadata": {
    "application/vnd.databricks.v1+cell": {
     "cellMetadata": {},
     "inputWidgets": {},
     "nuid": "276a9739-6c3b-4dd9-9d74-686ebf7fd981",
     "showTitle": false,
     "title": ""
    }
   },
   "outputs": [],
   "source": [
    "print(round(2.3))\n",
    "print(round(2.5))\n",
    "print(round(2.99))"
   ]
  },
  {
   "cell_type": "code",
   "execution_count": 0,
   "metadata": {
    "application/vnd.databricks.v1+cell": {
     "cellMetadata": {},
     "inputWidgets": {},
     "nuid": "cc2c5bcf-94d4-44e2-aa7b-d4bea5b6cfac",
     "showTitle": false,
     "title": ""
    }
   },
   "outputs": [],
   "source": [
    "round(2.3)\n",
    "round(2.5)\n",
    "round(2.99)"
   ]
  },
  {
   "cell_type": "markdown",
   "metadata": {
    "application/vnd.databricks.v1+cell": {
     "cellMetadata": {},
     "inputWidgets": {},
     "nuid": "642bed5e-2a80-4aa5-ab0d-1cc57a5e7e28",
     "showTitle": false,
     "title": ""
    }
   },
   "source": [
    "Another detail to pay attention to is that `round()` command doesn't change the value stored by a variable."
   ]
  },
  {
   "cell_type": "code",
   "execution_count": 0,
   "metadata": {
    "application/vnd.databricks.v1+cell": {
     "cellMetadata": {},
     "inputWidgets": {},
     "nuid": "e3932a19-c284-422a-ae85-eea05d49a021",
     "showTitle": false,
     "title": ""
    }
   },
   "outputs": [],
   "source": [
    "variable_1 = 2.5\n",
    "print(round(variable_1))\n",
    "print(variable_1)"
   ]
  },
  {
   "cell_type": "markdown",
   "metadata": {
    "application/vnd.databricks.v1+cell": {
     "cellMetadata": {},
     "inputWidgets": {},
     "nuid": "1e0cd901-6c03-4895-8712-ee477d95de22",
     "showTitle": false,
     "title": ""
    }
   },
   "source": [
    "However, if we assign the rounded value back to the variable, we are able to change the value stored in the variable."
   ]
  },
  {
   "cell_type": "code",
   "execution_count": 0,
   "metadata": {
    "application/vnd.databricks.v1+cell": {
     "cellMetadata": {},
     "inputWidgets": {},
     "nuid": "8537f582-1c5b-43ef-8ae7-34343a6293cf",
     "showTitle": false,
     "title": ""
    }
   },
   "outputs": [],
   "source": [
    "variable_1 = round(2.5)\n",
    "print(variable_1)"
   ]
  },
  {
   "cell_type": "markdown",
   "metadata": {
    "application/vnd.databricks.v1+cell": {
     "cellMetadata": {},
     "inputWidgets": {},
     "nuid": "6eefeda3-46ea-450a-884c-463b6fcef50b",
     "showTitle": false,
     "title": ""
    }
   },
   "source": [
    "### Task 1.2.6:\n",
    "1. Assign a value of 11.2 to a variable named `value_1` <br>\n",
    "2. Assign a value of 2.5 to a variable named `value_2` <br>\n",
    "3. Round the value of `value_1` by using the `round()` command and assign the rounded value back to `value_1` <br>\n",
    "4. Convert the value of `value_2` from a float to an integer value using the `int()` command and assign the value back to `value_2` <br>\n",
    "5. Print the result of `value_1` and `value_2` by using the `print()` command. <br>\n"
   ]
  },
  {
   "cell_type": "code",
   "execution_count": 0,
   "metadata": {
    "application/vnd.databricks.v1+cell": {
     "cellMetadata": {},
     "inputWidgets": {},
     "nuid": "b79d8963-0fe9-47e3-8442-bd83bb26eabf",
     "showTitle": false,
     "title": ""
    }
   },
   "outputs": [],
   "source": [
    "# Start your code below:\n",
    "\n",
    "value_1 = 11.2\n",
    "value_2 = 2.5\n",
    "value_1 = round(value_1)\n",
    "value_2 = int(value_2)\n",
    "print(value_1)\n",
    "print(value_2)"
   ]
  },
  {
   "cell_type": "markdown",
   "metadata": {
    "application/vnd.databricks.v1+cell": {
     "cellMetadata": {},
     "inputWidgets": {},
     "nuid": "57c92518-a532-40b7-82a7-248bca7efeb7",
     "showTitle": false,
     "title": ""
    }
   },
   "source": [
    "## 7. Strings\n",
    "\n",
    "Up till now, we have only worked with <b> int </b> and <b> float</b> values. But in computer programming there are many more types of values. \n",
    "Take a look at the table down below:\n",
    "\n",
    "\n",
    "| Track_name |  Price |  Currency |  Rating_count_total | User_rating|\n",
    "|------------|:------:|----------:|---------------------:|-----------:|\n",
    "| Facebook | 0.0 | USD | 2974676 | 3.5|\n",
    "| Instagram |    0.0  |   USD |2161558 |4.5|\n",
    "| Clash of Clans | 0.0|    USD | 2130805 |4.5|\n",
    "| Temple Run |    0.0  |   USD |1724546 |4.5|\n",
    "| Pandora - Music & Radio | 0.0|    USD | 1126879 |4.5|\n",
    "\n",
    "Data Source:  [Mobile App Store Data Set (Ramanathan Perumal)](https://www.kaggle.com/ramamet4/app-store-apple-data-set-10k-apps)</p>\n"
   ]
  },
  {
   "cell_type": "markdown",
   "metadata": {
    "application/vnd.databricks.v1+cell": {
     "cellMetadata": {},
     "inputWidgets": {},
     "nuid": "070a0ba7-235c-4b41-bb67-132e460cdfde",
     "showTitle": false,
     "title": ""
    }
   },
   "source": [
    "As we can see that the columns <b> track_name</b> and <b> currency </b> consist of text and not numbers. In Python, we can create text by using the quotation marks (\" \"):"
   ]
  },
  {
   "cell_type": "code",
   "execution_count": 0,
   "metadata": {
    "application/vnd.databricks.v1+cell": {
     "cellMetadata": {},
     "inputWidgets": {},
     "nuid": "c98dbbd8-039e-4e21-b839-7305f4dc4ec4",
     "showTitle": false,
     "title": ""
    }
   },
   "outputs": [],
   "source": [
    "app_name = \"Instagram\"\n",
    "currency = \"USD\"\n",
    "\n",
    "print(app_name)\n",
    "print(currency)"
   ]
  },
  {
   "cell_type": "markdown",
   "metadata": {
    "application/vnd.databricks.v1+cell": {
     "cellMetadata": {},
     "inputWidgets": {},
     "nuid": "be48664c-baa9-4042-9cf7-a41dac475a8a",
     "showTitle": false,
     "title": ""
    }
   },
   "source": [
    "Both double quotation marks (\" \") and single quotation mark (' ') are allowed in the Python syntax.\n",
    "To create the word \"Instagram\", we can use either \"Instagram\", or 'Instagram'. The values surrounded by quotation marks are called strings and are represented in Python by the <b>str</b> type."
   ]
  },
  {
   "cell_type": "code",
   "execution_count": 0,
   "metadata": {
    "application/vnd.databricks.v1+cell": {
     "cellMetadata": {},
     "inputWidgets": {},
     "nuid": "e471ec0e-f44d-40ee-8301-0571d36105e4",
     "showTitle": false,
     "title": ""
    }
   },
   "outputs": [],
   "source": [
    "type('Instagram')"
   ]
  },
  {
   "cell_type": "markdown",
   "metadata": {
    "application/vnd.databricks.v1+cell": {
     "cellMetadata": {},
     "inputWidgets": {},
     "nuid": "419f6736-5e74-4d1e-80ba-ba1c26351246",
     "showTitle": false,
     "title": ""
    }
   },
   "source": [
    "However, strings are not only limited to letters. It is also possible to use numbers, space, or other characters. See example below:"
   ]
  },
  {
   "cell_type": "code",
   "execution_count": 0,
   "metadata": {
    "application/vnd.databricks.v1+cell": {
     "cellMetadata": {},
     "inputWidgets": {},
     "nuid": "e127efdf-8aa3-48aa-ae19-77dfcf59ecb1",
     "showTitle": false,
     "title": ""
    }
   },
   "outputs": [],
   "source": [
    "bank = 'My Bank'\n",
    "number = 'number is 123456789'\n",
    "\n",
    "print(bank)\n",
    "print(number)"
   ]
  },
  {
   "cell_type": "markdown",
   "metadata": {
    "application/vnd.databricks.v1+cell": {
     "cellMetadata": {},
     "inputWidgets": {},
     "nuid": "fbff2ce4-c305-4b1c-b1a8-bfc7b0dc69cf",
     "showTitle": false,
     "title": ""
    }
   },
   "source": [
    "### Task 1.2.7:\n",
    "1. Assign the string `\"Instagram\"` to a variable named `app_name`. <br>\n",
    "2. Assign  the string  `\"4.5\"` to a variable named `average_rating`. <br>\n",
    "3. Assign the string `\"2161158\"` to a variable named `total_ratings`. <br>\n",
    "4. Assign the string `\"data\"` to a variable named `value`. <br>\n",
    "5. Display `app_name` variable using `print()` command. <br>\n"
   ]
  },
  {
   "cell_type": "code",
   "execution_count": 0,
   "metadata": {
    "application/vnd.databricks.v1+cell": {
     "cellMetadata": {},
     "inputWidgets": {},
     "nuid": "07aced3e-de4b-4418-a08d-c6bf3283cc47",
     "showTitle": false,
     "title": ""
    }
   },
   "outputs": [],
   "source": [
    "# Start your code below:\n",
    "\n",
    "app_name = \"Instagram\"\n",
    "average_rating = 4.5\n",
    "total_ratings = 2161158\n",
    "value = \"data\"\n",
    "print(app_name)"
   ]
  }
 ],
 "metadata": {
  "application/vnd.databricks.v1+notebook": {
   "dashboards": [],
   "environmentMetadata": null,
   "language": "python",
   "notebookMetadata": {
    "pythonIndentUnit": 2
   },
   "notebookName": "[Answer]2_Variables_and_Data_Types",
   "widgets": {}
  },
  "kernelspec": {
   "display_name": "Python 3",
   "language": "python",
   "name": "python3"
  },
  "language_info": {
   "codemirror_mode": {
    "name": "ipython",
    "version": 3
   },
   "file_extension": ".py",
   "mimetype": "text/x-python",
   "name": "python",
   "nbconvert_exporter": "python",
   "pygments_lexer": "ipython3",
   "version": "3.7.1"
  }
 },
 "nbformat": 4,
 "nbformat_minor": 0
}
