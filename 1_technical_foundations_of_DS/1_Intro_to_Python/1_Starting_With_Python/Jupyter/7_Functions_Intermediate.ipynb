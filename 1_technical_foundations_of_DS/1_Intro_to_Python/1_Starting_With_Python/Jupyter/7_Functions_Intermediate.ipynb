{
 "cells": [
  {
   "cell_type": "markdown",
   "metadata": {
    "application/vnd.databricks.v1+cell": {
     "cellMetadata": {
      "byteLimit": 2048000,
      "rowLimit": 10000
     },
     "inputWidgets": {},
     "nuid": "a9871a8d-15c4-4c99-abd6-3adc29fb352c",
     "showTitle": false,
     "title": ""
    }
   },
   "source": [
    "## About This Notebook\n",
    "\n",
    "We started to work with functions in previous notebook. We will continue to explore this world by:\n",
    "- Exploring what happens if we attempt to mess with the ``built-in`` functions.\n",
    "- Learning what *default arguments* are.\n",
    "- Finding out how to learn more about particular Python functions through the *documentation*."
   ]
  },
  {
   "cell_type": "markdown",
   "metadata": {
    "application/vnd.databricks.v1+cell": {
     "cellMetadata": {
      "byteLimit": 2048000,
      "rowLimit": 10000
     },
     "inputWidgets": {},
     "nuid": "60a0a7de-c7b5-45b1-8470-a5c6169ce055",
     "showTitle": false,
     "title": ""
    }
   },
   "source": [
    "## 1. Interfering with the Built-in Functions\n",
    "Let's suppose we create a function called `find_sum()` like the one below:"
   ]
  },
  {
   "cell_type": "code",
   "execution_count": 0,
   "metadata": {
    "application/vnd.databricks.v1+cell": {
     "cellMetadata": {
      "byteLimit": 2048000,
      "rowLimit": 10000
     },
     "inputWidgets": {},
     "nuid": "027fb737-2cc9-4283-a036-f60905d78313",
     "showTitle": false,
     "title": ""
    }
   },
   "outputs": [],
   "source": [
    "def find_sum(my_list):\n",
    "    a_sum = 0\n",
    "    for element in my_list:\n",
    "        a_sum += element\n",
    "    return a_sum\n",
    "\n",
    "list_a = [5, 2, 11]\n",
    "find_sum(list_a)"
   ]
  },
  {
   "cell_type": "markdown",
   "metadata": {
    "application/vnd.databricks.v1+cell": {
     "cellMetadata": {
      "byteLimit": 2048000,
      "rowLimit": 10000
     },
     "inputWidgets": {},
     "nuid": "55227cd4-71b5-47f2-b2e6-c62ebed2b47e",
     "showTitle": false,
     "title": ""
    }
   },
   "source": [
    "The function `find_sum()` does the exact same thing just as the built-in `sum()` function, see below:"
   ]
  },
  {
   "cell_type": "code",
   "execution_count": 0,
   "metadata": {
    "application/vnd.databricks.v1+cell": {
     "cellMetadata": {
      "byteLimit": 2048000,
      "rowLimit": 10000
     },
     "inputWidgets": {},
     "nuid": "07e2e9f4-267f-4a40-8591-5af910e7bf82",
     "showTitle": false,
     "title": ""
    }
   },
   "outputs": [],
   "source": [
    "list_a = [5, 2, 11]\n",
    "sum(list_a)"
   ]
  },
  {
   "cell_type": "markdown",
   "metadata": {
    "application/vnd.databricks.v1+cell": {
     "cellMetadata": {
      "byteLimit": 2048000,
      "rowLimit": 10000
     },
     "inputWidgets": {},
     "nuid": "146e54f0-5846-4a85-b51c-5932bb7923b6",
     "showTitle": false,
     "title": ""
    }
   },
   "source": [
    "We see that `find_sum()` and `sum()` give out the same result and **we might be tempted to name the find_sum() function simply sum()**.\n",
    "\n",
    "However, using the name ``sum()`` for our function above interferes with the **built-in `sum()` function**. If we name our function `sum()`, and if we try to call `sum()`, Python won't run the built-in `sum()` function anymore, but instead, it will run the `sum()` function that we wrote.\n",
    "\n",
    "We can rewrite our function and return the string \"This function does not sum up the number in the list\" instead of returning the sum of the elements of the list."
   ]
  },
  {
   "cell_type": "code",
   "execution_count": 0,
   "metadata": {
    "application/vnd.databricks.v1+cell": {
     "cellMetadata": {
      "byteLimit": 2048000,
      "rowLimit": 10000
     },
     "inputWidgets": {},
     "nuid": "7ef5a96f-3900-45ed-889b-062ed71a6afb",
     "showTitle": false,
     "title": ""
    }
   },
   "outputs": [],
   "source": [
    "#the sum() function we wrote takes precedences over the built-in sum() function\n",
    "def sum(my_list):\n",
    "    a_string = \"This function doesn't not sum up the number in the list\"\n",
    "    return a_string\n",
    "\n",
    "list_a = [5, 2, 11]\n",
    "sum(list_a)"
   ]
  },
  {
   "cell_type": "markdown",
   "metadata": {
    "application/vnd.databricks.v1+cell": {
     "cellMetadata": {
      "byteLimit": 2048000,
      "rowLimit": 10000
     },
     "inputWidgets": {},
     "nuid": "f4dfc5e3-d54f-4997-a673-8838aaf9b984",
     "showTitle": false,
     "title": ""
    }
   },
   "source": [
    ">**We should not use the name of built-in functions to name our functions**. Not only can it confuse your fellow collegues or other people who might read your code later, but also lead to some abnormal function behaviors."
   ]
  },
  {
   "cell_type": "markdown",
   "metadata": {
    "application/vnd.databricks.v1+cell": {
     "cellMetadata": {
      "byteLimit": 2048000,
      "rowLimit": 10000
     },
     "inputWidgets": {},
     "nuid": "7480a56d-b6de-469a-9607-b8c1316ac6d6",
     "showTitle": false,
     "title": ""
    }
   },
   "source": [
    "## 2. Variable Names and Built-in Functions\n",
    "\n",
    "In the previous session, we learned that we shouln't use the names of built-in functions to name our own functions. Now, let's observe the code below. We first assign `20` (the result of the sum `5 + 15`) to a variable named `sum`. This would then cause interferes with the built-in `sum()` function when we call `sum()`. Python would therefore looks for the value stored in the `sum` variable and instead of calling the built-in function."
   ]
  },
  {
   "cell_type": "code",
   "execution_count": 0,
   "metadata": {
    "application/vnd.databricks.v1+cell": {
     "cellMetadata": {
      "byteLimit": 2048000,
      "rowLimit": 10000
     },
     "inputWidgets": {},
     "nuid": "4f81d047-cf27-4a68-a2b3-499ba1a6caaa",
     "showTitle": false,
     "title": ""
    }
   },
   "outputs": [],
   "source": [
    "del sum\n",
    "\n",
    "sum = 5 + 15\n",
    "sum\n",
    "list_a = [5, 2, 11]\n",
    "sum(list_a)"
   ]
  },
  {
   "cell_type": "markdown",
   "metadata": {
    "application/vnd.databricks.v1+cell": {
     "cellMetadata": {
      "byteLimit": 2048000,
      "rowLimit": 10000
     },
     "inputWidgets": {},
     "nuid": "d8d8a2ef-c03f-4b67-9be2-85c424b81a79",
     "showTitle": false,
     "title": ""
    }
   },
   "source": [
    "`sum` is therefore a variable, stored with the integer `20` and when we run `sum(list_a)`, we are running `20(list_1)` instead of the `sum()` function. Hence we got the error message <b>TypeError: 'int' object is not callable</b>.\n",
    "\n",
    "How do we avoid accidentally naming our own functions the same as built-in functions?\n",
    "A good way to identify a built-in function is by the highlight in the editor."
   ]
  },
  {
   "cell_type": "markdown",
   "metadata": {
    "application/vnd.databricks.v1+cell": {
     "cellMetadata": {
      "byteLimit": 2048000,
      "rowLimit": 10000
     },
     "inputWidgets": {},
     "nuid": "139a6bfe-0f27-4563-bf28-317efe6c04ce",
     "showTitle": false,
     "title": ""
    }
   },
   "source": [
    "````python\n",
    "sum() #highlighted \n",
    "this_is_a_normal_function() #not highlighted\n",
    "len() #highlighted \n",
    "````"
   ]
  },
  {
   "cell_type": "markdown",
   "metadata": {
    "application/vnd.databricks.v1+cell": {
     "cellMetadata": {
      "byteLimit": 2048000,
      "rowLimit": 10000
     },
     "inputWidgets": {},
     "nuid": "cea6bd8e-08be-4a8f-904c-140c914965f4",
     "showTitle": false,
     "title": ""
    }
   },
   "source": [
    "See more built-in functions can be found [here](https://docs.python.org/3/library/functions.html).</p>"
   ]
  },
  {
   "cell_type": "markdown",
   "metadata": {
    "application/vnd.databricks.v1+cell": {
     "cellMetadata": {
      "byteLimit": 2048000,
      "rowLimit": 10000
     },
     "inputWidgets": {},
     "nuid": "ee1a5137-c80c-4326-be9a-f694bf80c58a",
     "showTitle": false,
     "title": ""
    }
   },
   "source": [
    "## 3. Default Arguments\n",
    "\n",
    "When we write a function,  we can initiate parameters with certain default values --- these are known as the default arguments."
   ]
  },
  {
   "cell_type": "code",
   "execution_count": 0,
   "metadata": {
    "application/vnd.databricks.v1+cell": {
     "cellMetadata": {
      "byteLimit": 2048000,
      "rowLimit": 10000
     },
     "inputWidgets": {},
     "nuid": "22fc3652-3513-46c7-b734-690420d369ea",
     "showTitle": false,
     "title": ""
    }
   },
   "outputs": [],
   "source": [
    "#Initiate the constant parameter with a default argument of 5\n",
    "def increment_by_5(a, constant = 5):\n",
    "    return a + constant\n",
    "\n",
    "increment_by_5(10)"
   ]
  },
  {
   "cell_type": "markdown",
   "metadata": {
    "application/vnd.databricks.v1+cell": {
     "cellMetadata": {
      "byteLimit": 2048000,
      "rowLimit": 10000
     },
     "inputWidgets": {},
     "nuid": "cf4ac030-ece8-4025-b06f-3eb1dfdffaef",
     "showTitle": false,
     "title": ""
    }
   },
   "source": [
    "In the code above, we created the `increment_by_5()` function with two parameters: a and constant. When we call the function, we only need to pass in one positional argument: in the example above, 5.\n",
    "From the code above we can deduce that the `increment_by_5` function used the argument 5 for the parameter constant.\n",
    "\n",
    "We can also modify our default arguments like below:"
   ]
  },
  {
   "cell_type": "code",
   "execution_count": 0,
   "metadata": {
    "application/vnd.databricks.v1+cell": {
     "cellMetadata": {
      "byteLimit": 2048000,
      "rowLimit": 10000
     },
     "inputWidgets": {},
     "nuid": "d2e5bc87-2de6-4d2e-9e29-14d5baca32bf",
     "showTitle": false,
     "title": ""
    }
   },
   "outputs": [],
   "source": [
    "print(increment_by_5(5, constant = 10))\n",
    "print(increment_by_5(5, constant = 20))\n",
    "print(increment_by_5(5, constant = 25))\n",
    "\n",
    "#Alternative:\n",
    "\n",
    "print(increment_by_5(5, 10))\n",
    "print(increment_by_5(5, 20))\n",
    "print(increment_by_5(5, 25))"
   ]
  },
  {
   "cell_type": "markdown",
   "metadata": {
    "application/vnd.databricks.v1+cell": {
     "cellMetadata": {
      "byteLimit": 2048000,
      "rowLimit": 10000
     },
     "inputWidgets": {},
     "nuid": "28098d2b-34d1-4e32-a832-04374eee176f",
     "showTitle": false,
     "title": ""
    }
   },
   "source": [
    "If all parameters have default arguments, then it is possible to call a function without passing in any argument. Otherwise we will get an error."
   ]
  },
  {
   "cell_type": "code",
   "execution_count": 0,
   "metadata": {
    "application/vnd.databricks.v1+cell": {
     "cellMetadata": {
      "byteLimit": 2048000,
      "rowLimit": 10000
     },
     "inputWidgets": {},
     "nuid": "ccca0727-e776-48c0-a71c-35bdd3f93e9d",
     "showTitle": false,
     "title": ""
    }
   },
   "outputs": [],
   "source": [
    "# all parameters have default arguments\n",
    "def increment_by_5(a = 1, constant = 5):\n",
    "    return a + constant\n",
    "\n",
    "increment_by_5()"
   ]
  },
  {
   "cell_type": "code",
   "execution_count": 0,
   "metadata": {
    "application/vnd.databricks.v1+cell": {
     "cellMetadata": {
      "byteLimit": 2048000,
      "rowLimit": 10000
     },
     "inputWidgets": {},
     "nuid": "faa932ca-1644-43fa-b6f2-379075ffc3ea",
     "showTitle": false,
     "title": ""
    }
   },
   "outputs": [],
   "source": [
    "# The first argument does not have a default value\n",
    "def increment_by_5(a, constant = 5):\n",
    "    return a + constant\n",
    "\n",
    "increment_by_5()"
   ]
  },
  {
   "cell_type": "markdown",
   "metadata": {
    "application/vnd.databricks.v1+cell": {
     "cellMetadata": {
      "byteLimit": 2048000,
      "rowLimit": 10000
     },
     "inputWidgets": {},
     "nuid": "077ed28c-30fe-4127-8325-13cc3fd1887d",
     "showTitle": false,
     "title": ""
    }
   },
   "source": [
    "Default arguments can be useful when we use an argument frequently. This can save us some time when we reuse functions. Default arguments are also very useful for building complex functions.\n",
    "\n",
    "We can now try to build a function that opens a CSV file and makes use of default arguments at the same time.\n",
    "\n",
    "### Task 1.7.3:\n",
    "1. Edit the `open_dataset()` function below and add the name of iOS apps data set ('AppleStore.csv') as a default argument for the `file_name` parameter. The corret path to the file is `../../../../Data/AppleStore.csv`.\n",
    "2. Without passing any argument, try to use the `open_dataset()` function to open the AppStore.csv file and assign the data set to a variable named `apps_data`."
   ]
  },
  {
   "cell_type": "code",
   "execution_count": 0,
   "metadata": {
    "application/vnd.databricks.v1+cell": {
     "cellMetadata": {
      "byteLimit": 2048000,
      "rowLimit": 10000
     },
     "inputWidgets": {},
     "nuid": "0cf8f3a0-6c64-4695-b0f4-494d3b65a9bd",
     "showTitle": false,
     "title": ""
    }
   },
   "outputs": [],
   "source": [
    "# INITIAL CODE\n",
    "from csv import reader\n",
    "\n",
    "def open_dataset(file_name):\n",
    "    with open(file_name, encoding = 'utf8') as opened_file:\n",
    "        read_file = reader(opened_file)\n",
    "        apps_data = list(read_file)\n",
    "    \n",
    "    return apps_data"
   ]
  },
  {
   "cell_type": "markdown",
   "metadata": {
    "application/vnd.databricks.v1+cell": {
     "cellMetadata": {
      "byteLimit": 2048000,
      "rowLimit": 10000
     },
     "inputWidgets": {},
     "nuid": "2715c032-aeba-4f71-b544-addb748e0852",
     "showTitle": false,
     "title": ""
    }
   },
   "source": [
    "## 4. The Official Python Documentation (IMPORTANT)\n",
    "\n",
    "When you get in touch with more complex Python programming, [the official Python documentation](https://docs.python.org/3/) will become very handy. It is extremely useful for all Python users.\n",
    "For example if you want to get to know more about the `sum()` function, go to [the search page](https://docs.python.org/3/search.html) and search for \"sum\" or \"sum built-in\". Then we can see the search result immediately.\n",
    "\n",
    "The documentation of the ``sum()`` function ends where the next function, ``super()``, begins.\n",
    "On the first line, we can see all the parameters of the `sum()` function:\n",
    "`sum(iterable, /, start=0)`\n",
    "\n",
    "We can see how useful the official Python documentation is. We can find information about all the parameters that this function takes as well as its default arguments (try to search for function \"open\" or \"open built-in\").\n",
    "\n",
    "> This official Python documentation will be your best friend in your data science journey. It might seem a little bit technical and a bit scary, but don't worry, it is absolutely normal to feel this way. We will definitely have a lot of fun in this Python journey together :)"
   ]
  },
  {
   "cell_type": "markdown",
   "metadata": {
    "application/vnd.databricks.v1+cell": {
     "cellMetadata": {
      "byteLimit": 2048000,
      "rowLimit": 10000
     },
     "inputWidgets": {},
     "nuid": "88eee48a-4b8c-4e72-80b4-9e6be50659af",
     "showTitle": false,
     "title": ""
    }
   },
   "source": [
    "### Task 1.7.4:\n",
    "1. Find the documentation of the `round()` function. Link to [the search page](https://docs.python.org/3/search.html).\n",
    "2. Read and try to understand all the documentation of the `round()` function.\n",
    "3. Try to use the right parameters and arguments, can you:\n",
    "    - Round `3.41` to one decimal point? Assign the result to a variable name of your choice.\n",
    "    - Round `0.532316` to two decimal points. Assign the result to a variable name of your choice.\n",
    "    - Round `892.3265621777` to five decimal points. Assign the result to a variable name of your choice."
   ]
  },
  {
   "cell_type": "code",
   "execution_count": 0,
   "metadata": {
    "application/vnd.databricks.v1+cell": {
     "cellMetadata": {
      "byteLimit": 2048000,
      "rowLimit": 10000
     },
     "inputWidgets": {},
     "nuid": "b0bb15ec-11eb-48aa-b5a2-5341a757e198",
     "showTitle": false,
     "title": ""
    }
   },
   "outputs": [],
   "source": [
    "# Start your code below:\n"
   ]
  },
  {
   "cell_type": "markdown",
   "metadata": {
    "application/vnd.databricks.v1+cell": {
     "cellMetadata": {
      "byteLimit": 2048000,
      "rowLimit": 10000
     },
     "inputWidgets": {},
     "nuid": "d6c3275e-8b4b-4626-9a97-e4d2a83d07b1",
     "showTitle": false,
     "title": ""
    }
   },
   "source": [
    "## 5. Multiple Return Statements (OPTIONAL)\n",
    "\n",
    "Is it possible to build a function with multiple return statements?\n",
    "For example we want to write a function that it's flexible enough to return either the sum of the two numbers or the difference.\n",
    "\n",
    "How can we achieve this? \n",
    "\n",
    "Fortunately, it is possible to use multiple return statements.\n",
    "Try to understand the following code:"
   ]
  },
  {
   "cell_type": "code",
   "execution_count": 0,
   "metadata": {
    "application/vnd.databricks.v1+cell": {
     "cellMetadata": {
      "byteLimit": 2048000,
      "rowLimit": 10000
     },
     "inputWidgets": {},
     "nuid": "ae932b51-dd0a-4e40-81a9-0928d1651e0b",
     "showTitle": false,
     "title": ""
    }
   },
   "outputs": [],
   "source": [
    "def sum_or_difference(x, y, do_sum =True):\n",
    "    if do_sum: \n",
    "        return x + y\n",
    "    else:\n",
    "        return x - y\n",
    "    \n",
    "print(sum_or_difference(20, 10, do_sum = True))\n",
    "print(sum_or_difference(20, 10, do_sum = False))"
   ]
  },
  {
   "cell_type": "markdown",
   "metadata": {
    "application/vnd.databricks.v1+cell": {
     "cellMetadata": {
      "byteLimit": 2048000,
      "rowLimit": 10000
     },
     "inputWidgets": {},
     "nuid": "b622f978-5e69-4ae6-9d3e-92c29deeb3e9",
     "showTitle": false,
     "title": ""
    }
   },
   "source": [
    "We have implemented the following logic in the function above:\n",
    "\n",
    "- If do_sum has a value of True, then we return x + y.\n",
    "- Else (if do_sum is False), we return x - y.\n",
    "\n",
    "We can simply put the function above without using an <b> else </b> statement."
   ]
  },
  {
   "cell_type": "code",
   "execution_count": 0,
   "metadata": {
    "application/vnd.databricks.v1+cell": {
     "cellMetadata": {
      "byteLimit": 2048000,
      "rowLimit": 10000
     },
     "inputWidgets": {},
     "nuid": "6339f754-e175-425d-b119-01c756dccd14",
     "showTitle": false,
     "title": ""
    }
   },
   "outputs": [],
   "source": [
    "def sum_or_difference(x, y, do_sum =True):\n",
    "    if do_sum: \n",
    "        return x + y\n",
    "    \n",
    "    return x - y\n",
    "\n",
    "\n",
    "print(sum_or_difference(20, 10, do_sum = True))\n",
    "print(sum_or_difference(20, 10, do_sum = False))"
   ]
  },
  {
   "cell_type": "markdown",
   "metadata": {
    "application/vnd.databricks.v1+cell": {
     "cellMetadata": {
      "byteLimit": 2048000,
      "rowLimit": 10000
     },
     "inputWidgets": {},
     "nuid": "f55a795f-807e-442c-9d00-3edd7ee0744a",
     "showTitle": false,
     "title": ""
    }
   },
   "source": [
    "The above approach works just as the same as the previous function because a function stops executing its rest code as soon as a return statement is executed. Even if there are some other important lines after that `return` statement, it won't get executed.\n",
    "\n",
    "If `do_sum` is `True`, then `return x + y` is executed, so the function stops, and it doesn't execute any of the remaining code.\n",
    "If `do_sum` is `Flase`, then return `x + y` will not be executed and the function will move forward the eventually reaches the end which is the next return statement: `return a - b`."
   ]
  },
  {
   "cell_type": "markdown",
   "metadata": {
    "application/vnd.databricks.v1+cell": {
     "cellMetadata": {
      "byteLimit": 2048000,
      "rowLimit": 10000
     },
     "inputWidgets": {},
     "nuid": "61cba561-b196-4991-aa40-6a6024eaf9e3",
     "showTitle": false,
     "title": ""
    }
   },
   "source": [
    "## 6. Returning Multiple Variables\n",
    "In the previous session, we wrote a function that can either return the sum or the difference of two numbers. \n",
    "\n",
    "Fortunately, in Python we are able to build functions that can return more than just one variable. See below:"
   ]
  },
  {
   "cell_type": "code",
   "execution_count": 0,
   "metadata": {
    "application/vnd.databricks.v1+cell": {
     "cellMetadata": {
      "byteLimit": 2048000,
      "rowLimit": 10000
     },
     "inputWidgets": {},
     "nuid": "dc7cc481-6971-457a-9591-d4b780ce2507",
     "showTitle": false,
     "title": ""
    }
   },
   "outputs": [],
   "source": [
    "def sum_and_difference(x, y):\n",
    "    a_sum = x + y\n",
    "    difference = x - y\n",
    "    \n",
    "    return a_sum, difference\n",
    "\n",
    "\n",
    "sum_diff = sum_and_difference(15,5) # Passed 15 and 5 as arguments to the sum_and_difference() function\n",
    "sum_diff # two values are returned at the end"
   ]
  },
  {
   "cell_type": "markdown",
   "metadata": {
    "application/vnd.databricks.v1+cell": {
     "cellMetadata": {
      "byteLimit": 2048000,
      "rowLimit": 10000
     },
     "inputWidgets": {},
     "nuid": "e08ae1e7-a17b-433e-aacd-996f9499e2c5",
     "showTitle": false,
     "title": ""
    }
   },
   "source": [
    "We see that both the sum and the difference of our given numbers are returned as the final output. The order of the variables in the return statement is important. For example:"
   ]
  },
  {
   "cell_type": "code",
   "execution_count": 0,
   "metadata": {
    "application/vnd.databricks.v1+cell": {
     "cellMetadata": {
      "byteLimit": 2048000,
      "rowLimit": 10000
     },
     "inputWidgets": {},
     "nuid": "08e66e85-ed8b-4bed-b732-652a0fd77da1",
     "showTitle": false,
     "title": ""
    }
   },
   "outputs": [],
   "source": [
    "def sum_and_difference(x, y):\n",
    "    a_sum = x + y\n",
    "    difference = x - y\n",
    "    \n",
    "    return difference, a_sum #the order of the return statement is important\n",
    "\n",
    "\n",
    "sum_diff = sum_and_difference(15,5) \n",
    "print(sum_diff)\n",
    "\n",
    "print(type(sum_diff))"
   ]
  },
  {
   "cell_type": "markdown",
   "metadata": {
    "application/vnd.databricks.v1+cell": {
     "cellMetadata": {
      "byteLimit": 2048000,
      "rowLimit": 10000
     },
     "inputWidgets": {},
     "nuid": "9a2956d4-e961-41ba-a0ae-4725e9d46efe",
     "showTitle": false,
     "title": ""
    }
   },
   "source": [
    "The order of the final output above is different than the function we had previously. Please pay extra attention to how you construct your return statement.\n",
    "\n",
    "One thing that might surprise you is that the type of the output from the `sum_and_difference` is a <b>tuple </b>, which is a data type that is **very similar to a list**."
   ]
  },
  {
   "cell_type": "code",
   "execution_count": 0,
   "metadata": {
    "application/vnd.databricks.v1+cell": {
     "cellMetadata": {
      "byteLimit": 2048000,
      "rowLimit": 10000
     },
     "inputWidgets": {},
     "nuid": "a282232e-ba29-4d5a-a2b9-565569f4d845",
     "showTitle": false,
     "title": ""
    }
   },
   "outputs": [],
   "source": [
    "type(sum_diff)"
   ]
  },
  {
   "cell_type": "markdown",
   "metadata": {
    "application/vnd.databricks.v1+cell": {
     "cellMetadata": {
      "byteLimit": 2048000,
      "rowLimit": 10000
     },
     "inputWidgets": {},
     "nuid": "ca9285f9-73e8-425e-b07c-992d223493ab",
     "showTitle": false,
     "title": ""
    }
   },
   "source": [
    ">A tuple is usually used for storing multiple values. \n",
    "\n",
    "We can create a tuple just as easy as creating a list, see below:"
   ]
  },
  {
   "cell_type": "code",
   "execution_count": 0,
   "metadata": {
    "application/vnd.databricks.v1+cell": {
     "cellMetadata": {
      "byteLimit": 2048000,
      "rowLimit": 10000
     },
     "inputWidgets": {},
     "nuid": "982696f8-19f6-436a-b344-b7b77d1fe547",
     "showTitle": false,
     "title": ""
    }
   },
   "outputs": [],
   "source": [
    "this_is_a_list = [1, 'a', 2.5]\n",
    "this_is_a_tuple = (1, 'a', 2.5)\n",
    "\n",
    "print(this_is_a_list)\n",
    "print(type(this_is_a_list))\n",
    "print()\n",
    "\n",
    "print(this_is_a_tuple)\n",
    "print(type(this_is_a_tuple))\n"
   ]
  },
  {
   "cell_type": "markdown",
   "metadata": {
    "application/vnd.databricks.v1+cell": {
     "cellMetadata": {
      "byteLimit": 2048000,
      "rowLimit": 10000
     },
     "inputWidgets": {},
     "nuid": "d8042cb9-d064-45f1-803a-74151eefa937",
     "showTitle": false,
     "title": ""
    }
   },
   "source": [
    "The only difference between constructing a list and a tuple is that a list is surrounded by brackets and a tuple is surrounded by parentheses.\n",
    "\n",
    ">The major difference between tuples and lists is that exisiting values of a list can be modified but those of a tuple cannot."
   ]
  },
  {
   "cell_type": "code",
   "execution_count": 0,
   "metadata": {
    "application/vnd.databricks.v1+cell": {
     "cellMetadata": {
      "byteLimit": 2048000,
      "rowLimit": 10000
     },
     "inputWidgets": {},
     "nuid": "a5eb2fa0-0348-4746-a39f-fad5a73c5c6a",
     "showTitle": false,
     "title": ""
    }
   },
   "outputs": [],
   "source": [
    "this_is_a_list = [1, 'a', 2.5]\n",
    "this_is_a_tuple = (1, 'a', 2.5)\n",
    "\n",
    "#Just as lists, tuples support positive and negative indexing.\n",
    "print(this_is_a_list[0])\n",
    "print(this_is_a_tuple[0])\n",
    "print(this_is_a_list[-1])\n",
    "print(this_is_a_tuple[0])\n",
    "\n",
    "#A list can be modified\n",
    "this_is_a_list[0] = 2"
   ]
  },
  {
   "cell_type": "code",
   "execution_count": 0,
   "metadata": {
    "application/vnd.databricks.v1+cell": {
     "cellMetadata": {
      "byteLimit": 2048000,
      "rowLimit": 10000
     },
     "inputWidgets": {},
     "nuid": "fdf20e3e-506a-4eda-831d-c8aa67611b1b",
     "showTitle": false,
     "title": ""
    }
   },
   "outputs": [],
   "source": [
    "#But on the contrary, a tuple cannot modify the existing values.\n",
    "this_is_a_tuple[0] = 2"
   ]
  },
  {
   "cell_type": "markdown",
   "metadata": {
    "application/vnd.databricks.v1+cell": {
     "cellMetadata": {
      "byteLimit": 2048000,
      "rowLimit": 10000
     },
     "inputWidgets": {},
     "nuid": "b336d7cb-89ce-4210-bd48-03e3d49228d7",
     "showTitle": false,
     "title": ""
    }
   },
   "source": [
    ">The non-modifiable property is called **immutable**. Tuples are one of these immutable data types because we can't change their state after they've been created.\n",
    "On the other side, lists are mutable data types because we can change their values after they've been created.\n",
    "\n",
    "If we want to modify tuples or any other immutable data types, the only way to change their state is to recreate them.\n",
    "\n",
    "Below is a list of mutable and immutable  data types.\n",
    "- Mutable: Lists, Dictionaries\n",
    "- Immutable: Tuples, Integers, Floats, Strings, Booleans."
   ]
  },
  {
   "cell_type": "markdown",
   "metadata": {
    "application/vnd.databricks.v1+cell": {
     "cellMetadata": {
      "byteLimit": 2048000,
      "rowLimit": 10000
     },
     "inputWidgets": {},
     "nuid": "e91dfc56-fc5d-4930-ac05-ba6f2ec097de",
     "showTitle": false,
     "title": ""
    }
   },
   "source": [
    "## 7. Functions --- Code Running Quirks\n",
    "\n",
    "Do you know that parameters and return statements are optional for a function? See the example below:"
   ]
  },
  {
   "cell_type": "code",
   "execution_count": 0,
   "metadata": {
    "application/vnd.databricks.v1+cell": {
     "cellMetadata": {
      "byteLimit": 2048000,
      "rowLimit": 10000
     },
     "inputWidgets": {},
     "nuid": "e7963773-278b-4006-8826-2590da8f65bd",
     "showTitle": false,
     "title": ""
    }
   },
   "outputs": [],
   "source": [
    "def print_statement():\n",
    "    a_string = \"This is a function that doesn't have parameters nor a return statement\"\n",
    "    print(a_string)\n",
    "    \n",
    "print_statement()"
   ]
  },
  {
   "cell_type": "markdown",
   "metadata": {
    "application/vnd.databricks.v1+cell": {
     "cellMetadata": {
      "byteLimit": 2048000,
      "rowLimit": 10000
     },
     "inputWidgets": {},
     "nuid": "f3eceda3-a684-4369-8a66-f52701922be5",
     "showTitle": false,
     "title": ""
    }
   },
   "source": [
    "Functions that don't have a return statement just simply don't return any value.\n",
    "\n",
    "Well, theoretically, they return a <b> `None` </b> value, which just means the absence of a value."
   ]
  },
  {
   "cell_type": "code",
   "execution_count": 0,
   "metadata": {
    "application/vnd.databricks.v1+cell": {
     "cellMetadata": {
      "byteLimit": 2048000,
      "rowLimit": 10000
     },
     "inputWidgets": {},
     "nuid": "46b538b2-2a32-49ad-871b-024de91011d0",
     "showTitle": false,
     "title": ""
    }
   },
   "outputs": [],
   "source": [
    "def print_statement():\n",
    "    a_string = \"This is a function that doesn't have parameters nor a return statement\"\n",
    "    print(a_string)\n",
    "    \n",
    "f = print_statement()\n",
    "print(f)\n",
    "type(f)"
   ]
  },
  {
   "cell_type": "markdown",
   "metadata": {
    "application/vnd.databricks.v1+cell": {
     "cellMetadata": {
      "byteLimit": 2048000,
      "rowLimit": 10000
     },
     "inputWidgets": {},
     "nuid": "10229897-ed92-4557-a9a3-cac8499b67dc",
     "showTitle": false,
     "title": ""
    }
   },
   "source": [
    "In the function above, notice that we assigned a text to a variable named `a_string`. What is worth noticing here is that we cannot access `a_string` outside the function. If we try the following, we would get an error:"
   ]
  },
  {
   "cell_type": "code",
   "execution_count": 0,
   "metadata": {
    "application/vnd.databricks.v1+cell": {
     "cellMetadata": {
      "byteLimit": 2048000,
      "rowLimit": 10000
     },
     "inputWidgets": {},
     "nuid": "e5fba88e-980e-4772-92b1-cdde8ef62e3d",
     "showTitle": false,
     "title": ""
    }
   },
   "outputs": [],
   "source": [
    "def print_statement():\n",
    "    #Inside the function\n",
    "    a_string = \"This is a function that doesn't have parameters nor a return statement\"\n",
    "    print(a_string)\n",
    "\n",
    "#Outside the function\n",
    "print(a_string)"
   ]
  },
  {
   "cell_type": "markdown",
   "metadata": {
    "application/vnd.databricks.v1+cell": {
     "cellMetadata": {
      "byteLimit": 2048000,
      "rowLimit": 10000
     },
     "inputWidgets": {},
     "nuid": "bcd81fb4-93df-401e-b7d8-44e58097adf1",
     "showTitle": false,
     "title": ""
    }
   },
   "source": [
    "Note that what's inside a function will only be executed after that function is called. For example, if we have some error inside that function, there won't be any error message raised until we call that function. See example below:"
   ]
  },
  {
   "cell_type": "code",
   "execution_count": 0,
   "metadata": {
    "application/vnd.databricks.v1+cell": {
     "cellMetadata": {
      "byteLimit": 2048000,
      "rowLimit": 10000
     },
     "inputWidgets": {},
     "nuid": "591e2059-bd1f-41d0-b073-1fe75412bb47",
     "showTitle": false,
     "title": ""
    }
   },
   "outputs": [],
   "source": [
    "def do_something():\n",
    "    \"I cannot be divided\" / 5\n",
    "    \n",
    "print('Code finished running, but no error was raised')"
   ]
  },
  {
   "cell_type": "markdown",
   "metadata": {
    "application/vnd.databricks.v1+cell": {
     "cellMetadata": {
      "byteLimit": 2048000,
      "rowLimit": 10000
     },
     "inputWidgets": {},
     "nuid": "ba9d08e5-f91f-4c1c-b98c-fb2b756e1564",
     "showTitle": false,
     "title": ""
    }
   },
   "source": [
    "But we will see the error message if we call that function:"
   ]
  },
  {
   "cell_type": "code",
   "execution_count": 0,
   "metadata": {
    "application/vnd.databricks.v1+cell": {
     "cellMetadata": {
      "byteLimit": 2048000,
      "rowLimit": 10000
     },
     "inputWidgets": {},
     "nuid": "926a1782-952e-4773-8f96-bbe40b5d2df0",
     "showTitle": false,
     "title": ""
    }
   },
   "outputs": [],
   "source": [
    "def do_something():\n",
    "    \"I cannot be divided\" / 5\n",
    "    \n",
    "print('Now we see the error:')\n",
    "do_something()"
   ]
  },
  {
   "cell_type": "markdown",
   "metadata": {
    "application/vnd.databricks.v1+cell": {
     "cellMetadata": {
      "byteLimit": 2048000,
      "rowLimit": 10000
     },
     "inputWidgets": {},
     "nuid": "b300757f-f09e-4a2d-8568-4441c6409d3e",
     "showTitle": false,
     "title": ""
    }
   },
   "source": [
    "## 8. Scopes --- Global and Local\n",
    "\n",
    "Observe the following function carefully:"
   ]
  },
  {
   "cell_type": "code",
   "execution_count": 0,
   "metadata": {
    "application/vnd.databricks.v1+cell": {
     "cellMetadata": {
      "byteLimit": 2048000,
      "rowLimit": 10000
     },
     "inputWidgets": {},
     "nuid": "44613a2a-47ee-44cf-9a36-662aa3d1af00",
     "showTitle": false,
     "title": ""
    }
   },
   "outputs": [],
   "source": [
    "def print_constant():\n",
    "    x = 3.1415926 \n",
    "    print(x)\n",
    "    \n",
    "print_constant()\n",
    "x"
   ]
  },
  {
   "cell_type": "markdown",
   "metadata": {
    "application/vnd.databricks.v1+cell": {
     "cellMetadata": {
      "byteLimit": 2048000,
      "rowLimit": 10000
     },
     "inputWidgets": {},
     "nuid": "b6fff7ec-b581-4b71-a54b-cfa15196118e",
     "showTitle": false,
     "title": ""
    }
   },
   "source": [
    "Notice that we get an error when `x` is called. However, we have already called the function `print_constant()`, **how come `x` is not defined?** `x` is clearly defined inside the `print_constant()` function.\n",
    "\n",
    "The reason for this is that Python saves the variable `x` only temporarily. **Python saves `x` into a kind of temporary memory, which is immediately erased after the `print_constant()` function finishes running**. This explains why we still get the \"x is not defined\" error when we try to call `x` outside of the `print_constant()` function: it is erased as soon as the `print_constant()` function finishes running.\n",
    "\n",
    "However, this kind of temporary memory storage doesn't apply to the code that is being run outside function definitions.\n",
    "If we try to define `x = 3.1415926` for example in our main program, or outside function definitions, we can use `x` later on without having any problem or worry about that it was erased from the memory."
   ]
  },
  {
   "cell_type": "code",
   "execution_count": 0,
   "metadata": {
    "application/vnd.databricks.v1+cell": {
     "cellMetadata": {
      "byteLimit": 2048000,
      "rowLimit": 10000
     },
     "inputWidgets": {},
     "nuid": "d05f3e0b-092e-45a8-a375-eb948fa372b2",
     "showTitle": false,
     "title": ""
    }
   },
   "outputs": [],
   "source": [
    "x = 3.1415926\n",
    "\n",
    "print('x is not erased')\n",
    "print('we can call x now')\n",
    "\n",
    "x"
   ]
  },
  {
   "cell_type": "markdown",
   "metadata": {
    "application/vnd.databricks.v1+cell": {
     "cellMetadata": {
      "byteLimit": 2048000,
      "rowLimit": 10000
     },
     "inputWidgets": {},
     "nuid": "6de45abb-e12a-4ac0-af90-2eb2fcf147a9",
     "showTitle": false,
     "title": ""
    }
   },
   "source": [
    "You see that now we don't get an error message by calling `x`.\n",
    "\n",
    "There are several advantages to have such temporary memory associated with a function. For example, if we initialize a variable `x = 123` in the main program and then execute `x = 3.1415926` in the body of a function, the `x` variable of the main program is not being overwritten."
   ]
  },
  {
   "cell_type": "code",
   "execution_count": 0,
   "metadata": {
    "application/vnd.databricks.v1+cell": {
     "cellMetadata": {
      "byteLimit": 2048000,
      "rowLimit": 10000
     },
     "inputWidgets": {},
     "nuid": "e7b59fa3-a637-43b0-b0b7-f8ff92920dd0",
     "showTitle": false,
     "title": ""
    }
   },
   "outputs": [],
   "source": [
    "x = 123\n",
    "\n",
    "def print_constant():\n",
    "    x = 3.1415926 \n",
    "    print(x)\n",
    "    \n",
    "print_constant()\n",
    "x"
   ]
  },
  {
   "cell_type": "markdown",
   "metadata": {
    "application/vnd.databricks.v1+cell": {
     "cellMetadata": {
      "byteLimit": 2048000,
      "rowLimit": 10000
     },
     "inputWidgets": {},
     "nuid": "df348a23-795e-4de4-8ea4-203b6e802202",
     "showTitle": false,
     "title": ""
    }
   },
   "source": [
    "You see that with memory isolation, we don't have to worry about overwriting variables from the main program when we write functions, or vice-versa. This can be extremely helpful when we write some large and complicated programs, we don't have to remember all the variable names declared in the main program.\n",
    "\n",
    ">The part of a program where a variable can be accessed is often called <b>scope</b>.\n",
    "\n",
    "><b>Global scope</b> is known as the variables defined in the main program and <b>local scope</b> is known as the variables defined inside a function."
   ]
  },
  {
   "cell_type": "markdown",
   "metadata": {
    "application/vnd.databricks.v1+cell": {
     "cellMetadata": {
      "byteLimit": 2048000,
      "rowLimit": 10000
     },
     "inputWidgets": {},
     "nuid": "95b2cac4-4a8e-4955-b5a1-b40935f7bd70",
     "showTitle": false,
     "title": ""
    }
   },
   "source": [
    "### Task 1.7.8\n",
    "Create a function named `exponential()` that takes in a single parameter named `x`.\n",
    "- Inside the function definition:\n",
    "  - Assign `2.71` to a variable named `e`.\n",
    "  - Print `e`.\n",
    "- The function should return `e` to the power of `x`.\n",
    "- Call the `exponential()` function with an argument of `2`. Assign the result to a variable named `result`.\n",
    "- Hypothesize what you should see if you printed `e` in the main program after calling the `exponential()` function. Print `e` to confirm or reject your hypothesis."
   ]
  },
  {
   "cell_type": "code",
   "execution_count": 0,
   "metadata": {
    "application/vnd.databricks.v1+cell": {
     "cellMetadata": {
      "byteLimit": 2048000,
      "rowLimit": 10000
     },
     "inputWidgets": {},
     "nuid": "d3244830-e2a6-4227-b842-bc05342fae2b",
     "showTitle": false,
     "title": ""
    }
   },
   "outputs": [],
   "source": [
    "# Start your code below:\n"
   ]
  },
  {
   "cell_type": "markdown",
   "metadata": {
    "application/vnd.databricks.v1+cell": {
     "cellMetadata": {
      "byteLimit": 2048000,
      "rowLimit": 10000
     },
     "inputWidgets": {},
     "nuid": "18ef9a98-9526-4f43-ab0b-f8eb646bb201",
     "showTitle": false,
     "title": ""
    }
   },
   "source": [
    "## 9. Scopes --- Searching Order\n",
    "\n",
    "Let's take a look of the code below:"
   ]
  },
  {
   "cell_type": "code",
   "execution_count": 0,
   "metadata": {
    "application/vnd.databricks.v1+cell": {
     "cellMetadata": {
      "byteLimit": 2048000,
      "rowLimit": 10000
     },
     "inputWidgets": {},
     "nuid": "360628ad-bb36-41ed-bdbf-2b19219ed303",
     "showTitle": false,
     "title": ""
    }
   },
   "outputs": [],
   "source": [
    "x = 50\n",
    "y = 20\n",
    "\n",
    "def add():\n",
    "    print(x)\n",
    "    print(y)\n",
    "    return x + y\n",
    "\n",
    "my_result = add()\n",
    "print(my_result)"
   ]
  },
  {
   "cell_type": "markdown",
   "metadata": {
    "application/vnd.databricks.v1+cell": {
     "cellMetadata": {
      "byteLimit": 2048000,
      "rowLimit": 10000
     },
     "inputWidgets": {},
     "nuid": "7db84465-4159-4db6-b77b-58a9c3712f84",
     "showTitle": false,
     "title": ""
    }
   },
   "source": [
    "You might be surprised that the code above didn't throw any error.\n",
    "\n",
    ">When a variable is accessed from within a function, Python first searches in the local scope (inside the function's definition) to see if there are any matching variable defined here. If Python doesn't find the variables inside the function's definition, it will continue to search in the global score (the scope of the main program).\n",
    "\n",
    "And now let's take a look of the code below:"
   ]
  },
  {
   "cell_type": "code",
   "execution_count": 0,
   "metadata": {
    "application/vnd.databricks.v1+cell": {
     "cellMetadata": {
      "byteLimit": 2048000,
      "rowLimit": 10000
     },
     "inputWidgets": {},
     "nuid": "d803f5a0-a449-435a-850e-23a4f2811d19",
     "showTitle": false,
     "title": ""
    }
   },
   "outputs": [],
   "source": [
    "x = 50\n",
    "y = 20\n",
    "\n",
    "def add():\n",
    "    x = 5\n",
    "    y = 2\n",
    "    print(x)\n",
    "    print(y)\n",
    "    return x+ y\n",
    "\n",
    "my_result = add()\n",
    "print(my_result)"
   ]
  },
  {
   "cell_type": "markdown",
   "metadata": {
    "application/vnd.databricks.v1+cell": {
     "cellMetadata": {
      "byteLimit": 2048000,
      "rowLimit": 10000
     },
     "inputWidgets": {},
     "nuid": "d0e94c7f-3e99-43fd-bf67-52873b402964",
     "showTitle": false,
     "title": ""
    }
   },
   "source": [
    "From the code above we see that the local scope is prioritized relative to the global scope. If we define `x` and `y` with different values within the local scope (like `x = 5` and `y = 2`), Python will use those values instead of the `x` and `y` that are lying in the main program, and we'll get a different result.\n",
    "\n",
    ">Pay attention that even though Python searches the global scope if a variable is not found in the local scope, but the reverse doesn't apply here — Python won't search the local scope if a variable is not found in the global scope.\n",
    "\n",
    "Remember the error that we had at the beginning?\n",
    "To refresh your member, see below:"
   ]
  },
  {
   "cell_type": "code",
   "execution_count": 0,
   "metadata": {
    "application/vnd.databricks.v1+cell": {
     "cellMetadata": {
      "byteLimit": 2048000,
      "rowLimit": 10000
     },
     "inputWidgets": {},
     "nuid": "17dc9fc0-5007-4f88-bd22-f720b4ed5099",
     "showTitle": false,
     "title": ""
    }
   },
   "outputs": [],
   "source": [
    "def print_constant():\n",
    "    x = 3.1415926 \n",
    "    print(x)\n",
    "    \n",
    "print_constant()\n",
    "print(x)"
   ]
  },
  {
   "cell_type": "markdown",
   "metadata": {
    "application/vnd.databricks.v1+cell": {
     "cellMetadata": {
      "byteLimit": 2048000,
      "rowLimit": 10000
     },
     "inputWidgets": {},
     "nuid": "9ff9514c-f3d5-40ea-a743-fd43eb762624",
     "showTitle": false,
     "title": ""
    }
   },
   "source": [
    "If this concept is still confusing to you, for a more demonstrative overview, go ahead and check out this [video](https://www.youtube.com/watch?v=r9LtArXOYjk)."
   ]
  }
 ],
 "metadata": {
  "application/vnd.databricks.v1+notebook": {
   "dashboards": [],
   "language": "python",
   "notebookMetadata": {
    "pythonIndentUnit": 4
   },
   "notebookName": "7_Functions_Intermediate",
   "widgets": {}
  }
 },
 "nbformat": 4,
 "nbformat_minor": 0
}
