{
 "cells": [
  {
   "cell_type": "markdown",
   "metadata": {
    "application/vnd.databricks.v1+cell": {
     "cellMetadata": {
      "byteLimit": 2048000,
      "rowLimit": 10000
     },
     "inputWidgets": {},
     "nuid": "bb237c97-1cba-43b2-858b-a24e70935348",
     "showTitle": false,
     "title": ""
    }
   },
   "source": [
    "## About This Notebook\n",
    "\n",
    "Within this notebook, we are going to make our very first steps into the vast world of Python. \n",
    "\n",
    "- What does one line of *code* looks like?\n",
    "- What is *syntax*?\n",
    "- What are *comments*?\n",
    "- How do we perform *arithmetic operations*?\n",
    "***"
   ]
  },
  {
   "cell_type": "markdown",
   "metadata": {
    "application/vnd.databricks.v1+cell": {
     "cellMetadata": {
      "byteLimit": 2048000,
      "rowLimit": 10000
     },
     "inputWidgets": {},
     "nuid": "af6332f6-4b34-428d-a46f-9009d63bbba0",
     "showTitle": false,
     "title": ""
    }
   },
   "source": [
    "## 1. First Lines of Code"
   ]
  },
  {
   "cell_type": "markdown",
   "metadata": {
    "application/vnd.databricks.v1+cell": {
     "cellMetadata": {
      "byteLimit": 2048000,
      "rowLimit": 10000
     },
     "inputWidgets": {},
     "nuid": "d0ea1fb2-8291-450f-8d78-8a4499236c84",
     "showTitle": false,
     "title": ""
    }
   },
   "source": [
    "Python is one of the most popular programming langugage these days. It designed for readability, and it shares some similarities with the English Language as well as having influence from mathematics. It is one of the most straight-forward and easily understandable programming languages.\n",
    "\n",
    "\n",
    "### Task 1.1.1:\n",
    "1. How does Python compute 25+5? Try type in 25 + 5 in the following cell, just below where the text indicates it:"
   ]
  },
  {
   "cell_type": "code",
   "execution_count": 0,
   "metadata": {
    "application/vnd.databricks.v1+cell": {
     "cellMetadata": {
      "byteLimit": 2048000,
      "rowLimit": 10000
     },
     "inputWidgets": {},
     "nuid": "58024193-a9f4-4238-9c6f-47c6329ccf2d",
     "showTitle": false,
     "title": ""
    }
   },
   "outputs": [],
   "source": [
    "# Start your code below:\n"
   ]
  },
  {
   "cell_type": "markdown",
   "metadata": {
    "application/vnd.databricks.v1+cell": {
     "cellMetadata": {
      "byteLimit": 2048000,
      "rowLimit": 10000
     },
     "inputWidgets": {},
     "nuid": "d6a4e984-8551-498c-a9ee-200ce07d89aa",
     "showTitle": false,
     "title": ""
    }
   },
   "source": [
    "2. In the line above, a single calculation is instructed: 25 + 5. However, the computer is capable to perform more than just one calculation. Try to instruct the computer to perform multiple calculations like:\n",
    "\n",
    "25 + 5 <br>\n",
    "20 - 7 <br>\n",
    "30 + 2 <br>\n",
    "67 - 22 <br>"
   ]
  },
  {
   "cell_type": "code",
   "execution_count": 0,
   "metadata": {
    "application/vnd.databricks.v1+cell": {
     "cellMetadata": {
      "byteLimit": 2048000,
      "rowLimit": 10000
     },
     "inputWidgets": {},
     "nuid": "9bb567d6-4b86-451f-a043-14e0728956a6",
     "showTitle": false,
     "title": ""
    }
   },
   "outputs": [],
   "source": [
    "# Start your code below:\n"
   ]
  },
  {
   "cell_type": "markdown",
   "metadata": {
    "application/vnd.databricks.v1+cell": {
     "cellMetadata": {
      "byteLimit": 2048000,
      "rowLimit": 10000
     },
     "inputWidgets": {},
     "nuid": "137c6abd-e6e9-4d9f-a83c-a25cb661cda1",
     "showTitle": false,
     "title": ""
    }
   },
   "source": [
    "The output is 45 and it seems like the computer only performed the last subtraction, 67 - 22. Hmm strange...\n",
    "## 2. The print() Command\n",
    "\n",
    "What really happens is that the computer performed all the calculations above, but it only displays the last one as the output result. To display all calculation results, what we need is to use the `print()` command (function), like this:"
   ]
  },
  {
   "cell_type": "code",
   "execution_count": 0,
   "metadata": {
    "application/vnd.databricks.v1+cell": {
     "cellMetadata": {
      "byteLimit": 2048000,
      "rowLimit": 10000
     },
     "inputWidgets": {},
     "nuid": "5669a2fb-24cf-43bf-b48e-f36aefae141d",
     "showTitle": false,
     "title": ""
    }
   },
   "outputs": [],
   "source": [
    "print(25 + 5)\n",
    "print(10 - 6)\n",
    "print(30 + 2)\n",
    "print(12 + 38)"
   ]
  },
  {
   "cell_type": "markdown",
   "metadata": {
    "application/vnd.databricks.v1+cell": {
     "cellMetadata": {
      "byteLimit": 2048000,
      "rowLimit": 10000
     },
     "inputWidgets": {},
     "nuid": "5437228b-eac1-4ed0-8eed-260d0561a72d",
     "showTitle": false,
     "title": ""
    }
   },
   "source": [
    "Don't worry for now what *command* (or function) exactly is. You will get to learn that later. It is for you, for now, only important to understand that if we learn what a command does, we can use it to our advantage.Now let's have some practice with the `print()` command."
   ]
  },
  {
   "cell_type": "markdown",
   "metadata": {
    "application/vnd.databricks.v1+cell": {
     "cellMetadata": {
      "byteLimit": 2048000,
      "rowLimit": 10000
     },
     "inputWidgets": {},
     "nuid": "eac9a22a-9d8f-4664-9817-8c97300e9b61",
     "showTitle": false,
     "title": ""
    }
   },
   "source": [
    "### Task 1.1.2:\n",
    "1. Using the `print()` command and display the result for:\n",
    "-  55 + 5\n",
    "- 300 - 8\n",
    "- 21 + 67\n",
    "\n",
    "2. Click the Run button when you're ready to see your results."
   ]
  },
  {
   "cell_type": "code",
   "execution_count": 0,
   "metadata": {
    "application/vnd.databricks.v1+cell": {
     "cellMetadata": {
      "byteLimit": 2048000,
      "rowLimit": 10000
     },
     "inputWidgets": {},
     "nuid": "9958e30d-6bb5-42f6-b86b-9b7709ddcfb9",
     "showTitle": false,
     "title": ""
    }
   },
   "outputs": [],
   "source": [
    "# Start your code below:\n"
   ]
  },
  {
   "cell_type": "markdown",
   "metadata": {
    "application/vnd.databricks.v1+cell": {
     "cellMetadata": {
      "byteLimit": 2048000,
      "rowLimit": 10000
     },
     "inputWidgets": {},
     "nuid": "f383780d-dc72-41d4-af4a-b4b167fac516",
     "showTitle": false,
     "title": ""
    }
   },
   "source": [
    "Have you ever wondered what happens if we put all print commands one the same line? \n",
    "Try to type this in the following cell: \n",
    "`print(55 + 5) print(300 - 8) print(21 + 67)`"
   ]
  },
  {
   "cell_type": "code",
   "execution_count": 0,
   "metadata": {
    "application/vnd.databricks.v1+cell": {
     "cellMetadata": {
      "byteLimit": 2048000,
      "rowLimit": 10000
     },
     "inputWidgets": {},
     "nuid": "2447775e-2dc2-469f-9aa2-6ab868d46ce0",
     "showTitle": false,
     "title": ""
    }
   },
   "outputs": [],
   "source": [
    "print(55 + 5) print(300 - 8) print(21 + 67)"
   ]
  },
  {
   "cell_type": "markdown",
   "metadata": {
    "application/vnd.databricks.v1+cell": {
     "cellMetadata": {
      "byteLimit": 2048000,
      "rowLimit": 10000
     },
     "inputWidgets": {},
     "nuid": "0d8733e4-05db-4027-b922-a73371ec4afc",
     "showTitle": false,
     "title": ""
    }
   },
   "source": [
    "It would work, however, if we had separated the commands with a semicolon (although this is not usual in Python)."
   ]
  },
  {
   "cell_type": "code",
   "execution_count": 0,
   "metadata": {
    "application/vnd.databricks.v1+cell": {
     "cellMetadata": {
      "byteLimit": 2048000,
      "rowLimit": 10000
     },
     "inputWidgets": {},
     "nuid": "a21a51f0-32c9-4fc3-beb3-360a4d7f34a7",
     "showTitle": false,
     "title": ""
    }
   },
   "outputs": [],
   "source": [
    "print(55 + 5); print(300 - 8); print(21 + 67)"
   ]
  },
  {
   "cell_type": "markdown",
   "metadata": {
    "application/vnd.databricks.v1+cell": {
     "cellMetadata": {
      "byteLimit": 2048000,
      "rowLimit": 10000
     },
     "inputWidgets": {},
     "nuid": "8f2cff87-78e9-45ff-926b-cc0ad99a3b26",
     "showTitle": false,
     "title": ""
    }
   },
   "source": [
    "## 3. Python Syntax\n",
    "Yes, indeed. We'd get an **error**. And in fact it is described as a syntax error. This is because all programming languages like Python, Java, C++ all have its own **syntax rules**. Each line of instructions must comply with these rules. \n",
    "\n",
    "You can compare these syntax rules with grammar in human languages. If we want to convey a message, we must respect and follow the syntax rules in order to deliver our message in a meaningful way. For example, people will understand \"Data Science is super cool\", but not \"science super cool data is\".  Likewise, the computer didn't understand print(55 + 5) print(300 - 8) print(21 + 67) because the syntax was wrong.\n",
    "\n",
    "**Running into errors while programming is more common than you would think!** Forget those action scenes from blockbuster movies where hackers code faster than the speed of light! The real life of a programmer often times is about examining (calmly and with patience) why a certain error occurred."
   ]
  },
  {
   "cell_type": "markdown",
   "metadata": {
    "application/vnd.databricks.v1+cell": {
     "cellMetadata": {
      "byteLimit": 2048000,
      "rowLimit": 10000
     },
     "inputWidgets": {},
     "nuid": "6ce76e8b-aaf1-44bc-91fd-d9e6afb6ce68",
     "showTitle": false,
     "title": ""
    }
   },
   "source": [
    "After learning about some syntax rules, let's dive into the next task.\n",
    "\n",
    "### Task 1.1.3:\n",
    "1. Try to run the instructions in the line below and see what the computer outputs as result. Remember that each command must be on a separate line.\n",
    "\n",
    "- print(30 + 20 + 50)\n",
    "- print(5)\n",
    "- print(-2)"
   ]
  },
  {
   "cell_type": "code",
   "execution_count": 0,
   "metadata": {
    "application/vnd.databricks.v1+cell": {
     "cellMetadata": {
      "byteLimit": 2048000,
      "rowLimit": 10000
     },
     "inputWidgets": {},
     "nuid": "8a7a5161-ef6b-4d85-9856-c41cf4d2e8dc",
     "showTitle": false,
     "title": ""
    }
   },
   "outputs": [],
   "source": [
    "# Start your code below:\n"
   ]
  },
  {
   "cell_type": "markdown",
   "metadata": {
    "application/vnd.databricks.v1+cell": {
     "cellMetadata": {
      "byteLimit": 2048000,
      "rowLimit": 10000
     },
     "inputWidgets": {},
     "nuid": "176813d6-7d25-42f0-946f-5ca82922ba31",
     "showTitle": false,
     "title": ""
    }
   },
   "source": [
    "In the line above, three instructions were given to the computer:\n",
    "\n",
    "- print(30 + 20 + 50)\n",
    "- print(5)\n",
    "- print(-2)\n",
    "\n",
    "All these instructions are collectively known as **code**. Each line of command is known as a **line of code**. When we program or when we write code, we instruct or program the computer to do some tasks. Therefore, we can also call the code we write a computer program, or just simply a program.\n",
    "\n",
    "The program we wrote in *Task 2.1* had three lines of code, but a program can be as small as one line."
   ]
  },
  {
   "cell_type": "markdown",
   "metadata": {
    "application/vnd.databricks.v1+cell": {
     "cellMetadata": {
      "byteLimit": 2048000,
      "rowLimit": 10000
     },
     "inputWidgets": {},
     "nuid": "508199db-5cbf-45c8-9774-41650e689295",
     "showTitle": false,
     "title": ""
    }
   },
   "source": [
    "### Task 1.1.3.2:\n",
    "1. Try to use the `print()` command and write a program that consists of three lines of code:\n",
    "- displays the result of 58 + 6\n",
    "- displays the number 21\n",
    "- displays the number -21\n",
    "2. Hit the Run button after you have finished and compare your output with our task requirement."
   ]
  },
  {
   "cell_type": "code",
   "execution_count": 0,
   "metadata": {
    "application/vnd.databricks.v1+cell": {
     "cellMetadata": {
      "byteLimit": 2048000,
      "rowLimit": 10000
     },
     "inputWidgets": {},
     "nuid": "b1b862b2-2487-471c-96fc-57bb69b88627",
     "showTitle": false,
     "title": ""
    }
   },
   "outputs": [],
   "source": [
    "# Start your code below:\n"
   ]
  },
  {
   "cell_type": "markdown",
   "metadata": {
    "application/vnd.databricks.v1+cell": {
     "cellMetadata": {
      "byteLimit": 2048000,
      "rowLimit": 10000
     },
     "inputWidgets": {},
     "nuid": "06830087-241e-4abb-be11-3e6d35887d6e",
     "showTitle": false,
     "title": ""
    }
   },
   "source": [
    "## 4. Code Comments\n",
    "Before we get down to real programming, we want to introduce you the # symbol, also known as the **comment symbol**. \n",
    "Any code or characters that follows the # symbol is called a code comment. Programmers use this symbol to add information or comments about our code."
   ]
  },
  {
   "cell_type": "code",
   "execution_count": 0,
   "metadata": {
    "application/vnd.databricks.v1+cell": {
     "cellMetadata": {
      "byteLimit": 2048000,
      "rowLimit": 10000
     },
     "inputWidgets": {},
     "nuid": "e7fb5715-1f7f-4535-b340-3f39be0919b8",
     "showTitle": false,
     "title": ""
    }
   },
   "outputs": [],
   "source": [
    "print(3 + 1)\n",
    "print(10 - 9) #This is the line that outputs 1"
   ]
  },
  {
   "cell_type": "markdown",
   "metadata": {
    "application/vnd.databricks.v1+cell": {
     "cellMetadata": {
      "byteLimit": 2048000,
      "rowLimit": 10000
     },
     "inputWidgets": {},
     "nuid": "4e97ba87-f2e6-4944-8f69-d8f49a057556",
     "showTitle": false,
     "title": ""
    }
   },
   "source": [
    "We can also use code comments to add a general description at the beginning of our program.\n",
    "Now let's have some practice with the ``#`` symbol.\n",
    "Please type the following code in the editor below:\n",
    "- `#print(5 + 21)`\n",
    "- `#print(5)`\n",
    "- `#print(-5)`"
   ]
  },
  {
   "cell_type": "code",
   "execution_count": 0,
   "metadata": {
    "application/vnd.databricks.v1+cell": {
     "cellMetadata": {
      "byteLimit": 2048000,
      "rowLimit": 10000
     },
     "inputWidgets": {},
     "nuid": "6ffc81ae-54fe-471e-893b-d20b67349477",
     "showTitle": false,
     "title": ""
    }
   },
   "outputs": [],
   "source": [
    "# Start your code below:\n"
   ]
  },
  {
   "cell_type": "markdown",
   "metadata": {
    "application/vnd.databricks.v1+cell": {
     "cellMetadata": {
      "byteLimit": 2048000,
      "rowLimit": 10000
     },
     "inputWidgets": {},
     "nuid": "1cf83eac-e491-468a-8c36-0564c9085d44",
     "showTitle": false,
     "title": ""
    }
   },
   "source": [
    "Uncomment these three lines of code by removing the ``#`` symbol and then click the Run button."
   ]
  },
  {
   "cell_type": "markdown",
   "metadata": {
    "application/vnd.databricks.v1+cell": {
     "cellMetadata": {
      "byteLimit": 2048000,
      "rowLimit": 10000
     },
     "inputWidgets": {},
     "nuid": "b6f7e071-da2d-4d0f-9def-dcc5258ddfa2",
     "showTitle": false,
     "title": ""
    }
   },
   "source": [
    "## 5. Arithmetical Operations\n",
    "In the previous section, we have performed additions and subtractions. To perform multiplication, we can use the * symbol. To multiply 5 * 2 we can type:"
   ]
  },
  {
   "cell_type": "code",
   "execution_count": 0,
   "metadata": {
    "application/vnd.databricks.v1+cell": {
     "cellMetadata": {
      "byteLimit": 2048000,
      "rowLimit": 10000
     },
     "inputWidgets": {},
     "nuid": "3e8d626a-1f5a-4997-ac97-e61016277982",
     "showTitle": false,
     "title": ""
    }
   },
   "outputs": [],
   "source": [
    "5 * 2 "
   ]
  },
  {
   "cell_type": "markdown",
   "metadata": {
    "application/vnd.databricks.v1+cell": {
     "cellMetadata": {
      "byteLimit": 2048000,
      "rowLimit": 10000
     },
     "inputWidgets": {},
     "nuid": "a3e8add2-ba42-4a51-b5b8-1ad2aa7c9e88",
     "showTitle": false,
     "title": ""
    }
   },
   "source": [
    "To perform division, we can use the / symbol. To divide 10 / 5:"
   ]
  },
  {
   "cell_type": "code",
   "execution_count": 0,
   "metadata": {
    "application/vnd.databricks.v1+cell": {
     "cellMetadata": {
      "byteLimit": 2048000,
      "rowLimit": 10000
     },
     "inputWidgets": {},
     "nuid": "4e7060ee-66b1-475e-8234-859f44209918",
     "showTitle": false,
     "title": ""
    }
   },
   "outputs": [],
   "source": [
    "10 / 5"
   ]
  },
  {
   "cell_type": "markdown",
   "metadata": {
    "application/vnd.databricks.v1+cell": {
     "cellMetadata": {
      "byteLimit": 2048000,
      "rowLimit": 10000
     },
     "inputWidgets": {},
     "nuid": "966aa8f4-e32d-4c35-9336-a6410f8785b1",
     "showTitle": false,
     "title": ""
    }
   },
   "source": [
    "To raise a number to a power, we can use **. For example, to raise 2 to the power of 3:"
   ]
  },
  {
   "cell_type": "code",
   "execution_count": 0,
   "metadata": {
    "application/vnd.databricks.v1+cell": {
     "cellMetadata": {
      "byteLimit": 2048000,
      "rowLimit": 10000
     },
     "inputWidgets": {},
     "nuid": "8c868af8-ed9a-4183-b012-38e3a9b2b0a0",
     "showTitle": false,
     "title": ""
    }
   },
   "outputs": [],
   "source": [
    "3**3 "
   ]
  },
  {
   "cell_type": "markdown",
   "metadata": {
    "application/vnd.databricks.v1+cell": {
     "cellMetadata": {
      "byteLimit": 2048000,
      "rowLimit": 10000
     },
     "inputWidgets": {},
     "nuid": "405b983a-c346-4fe7-b866-c9fa6cd873ae",
     "showTitle": false,
     "title": ""
    }
   },
   "source": [
    "The arithmetical operations in Python follow the usual order of operations from mathematics. Just like from mathematics, calculations in parentheses are calculated first, then follows by exponentiation, division, multiplication, and at last, addition and subtraction.\n",
    "\n",
    "### Task 1.1.5: \n",
    "1. Perform the following calculations in Python.\n",
    "- 5 * 30\n",
    "- 56 / 2\n",
    "- 5^2"
   ]
  },
  {
   "cell_type": "code",
   "execution_count": 0,
   "metadata": {
    "application/vnd.databricks.v1+cell": {
     "cellMetadata": {
      "byteLimit": 2048000,
      "rowLimit": 10000
     },
     "inputWidgets": {},
     "nuid": "4194c326-2916-47a6-87c3-cd3c107ce469",
     "showTitle": false,
     "title": ""
    }
   },
   "outputs": [],
   "source": [
    "# Start your code below:\n"
   ]
  },
  {
   "cell_type": "markdown",
   "metadata": {
    "application/vnd.databricks.v1+cell": {
     "cellMetadata": {
      "byteLimit": 2048000,
      "rowLimit": 10000
     },
     "inputWidgets": {},
     "nuid": "5561a692-5a0f-493d-9d40-04ba05a4342a",
     "showTitle": false,
     "title": ""
    }
   },
   "source": [
    "\n",
    "You have just completed your first training notebook."
   ]
  }
 ],
 "metadata": {
  "application/vnd.databricks.v1+notebook": {
   "dashboards": [],
   "language": "python",
   "notebookMetadata": {
    "pythonIndentUnit": 2
   },
   "notebookName": "1_Learning_Data_Science_with_Python",
   "widgets": {}
  }
 },
 "nbformat": 4,
 "nbformat_minor": 0
}
