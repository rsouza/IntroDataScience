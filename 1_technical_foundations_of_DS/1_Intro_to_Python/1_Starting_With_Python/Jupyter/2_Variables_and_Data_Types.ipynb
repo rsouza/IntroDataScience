{
 "cells": [
  {
   "cell_type": "markdown",
   "metadata": {
    "application/vnd.databricks.v1+cell": {
     "cellMetadata": {},
     "inputWidgets": {},
     "nuid": "1cc6112e-cce7-4770-939d-77052d4543e5",
     "showTitle": false,
     "title": ""
    }
   },
   "source": [
    "## About This Notebook\n",
    "\n",
    "Probably the most useful concept within programming is that of **variables**. We will therefore focus on variables within this notebook. We will begin by exploring why we need them and how are they created. Later on, we will move onto **data types**. These mean that variables can be of different type depending on what they store.\n",
    "\n",
    "Alongside, we will learn some useful tricks, such as *conversion* betweeen data types.\n",
    "***"
   ]
  },
  {
   "cell_type": "markdown",
   "metadata": {
    "application/vnd.databricks.v1+cell": {
     "cellMetadata": {},
     "inputWidgets": {},
     "nuid": "08e0ed16-4d24-4c4f-b3ce-b69530367d5c",
     "showTitle": false,
     "title": ""
    }
   },
   "source": [
    "## 1. Saving Values\n",
    "We have learned the basics of Python programming and performed a couple of arithmetical operations in Python. However, how do we actually save values and work with numerical and text data? For example, if we want to save the result of an arithmetical operation for a different execution. Let's say `(20-10)*2 = 20`, and we want to save 20 as our result. We can therefore write:"
   ]
  },
  {
   "cell_type": "code",
   "execution_count": 0,
   "metadata": {
    "application/vnd.databricks.v1+cell": {
     "cellMetadata": {},
     "inputWidgets": {},
     "nuid": "a8f23424-0960-4fe8-a891-abd4dcf55d13",
     "showTitle": false,
     "title": ""
    }
   },
   "outputs": [],
   "source": [
    "result = 20"
   ]
  },
  {
   "cell_type": "markdown",
   "metadata": {
    "application/vnd.databricks.v1+cell": {
     "cellMetadata": {},
     "inputWidgets": {},
     "nuid": "a3553276-6722-47b2-ad78-d51a8a0d7851",
     "showTitle": false,
     "title": ""
    }
   },
   "source": [
    "If we print the result, the output is: 20"
   ]
  },
  {
   "cell_type": "code",
   "execution_count": 0,
   "metadata": {
    "application/vnd.databricks.v1+cell": {
     "cellMetadata": {},
     "inputWidgets": {},
     "nuid": "0209b8e4-edb3-41f9-b13c-b0e47ee461f4",
     "showTitle": false,
     "title": ""
    }
   },
   "outputs": [],
   "source": [
    "result = 20\n",
    "print(result)"
   ]
  },
  {
   "cell_type": "markdown",
   "metadata": {
    "application/vnd.databricks.v1+cell": {
     "cellMetadata": {},
     "inputWidgets": {},
     "nuid": "c800ffc2-8a66-4631-8afc-6daf6abbce22",
     "showTitle": false,
     "title": ""
    }
   },
   "source": [
    "We can also directly save (20-10)*2 instead of saving 20:"
   ]
  },
  {
   "cell_type": "code",
   "execution_count": 0,
   "metadata": {
    "application/vnd.databricks.v1+cell": {
     "cellMetadata": {},
     "inputWidgets": {},
     "nuid": "36f8d12b-bcc6-4362-aa4a-db78186a2cdb",
     "showTitle": false,
     "title": ""
    }
   },
   "outputs": [],
   "source": [
    "result = (20-10)*2\n",
    "print(result)"
   ]
  },
  {
   "cell_type": "markdown",
   "metadata": {
    "application/vnd.databricks.v1+cell": {
     "cellMetadata": {},
     "inputWidgets": {},
     "nuid": "29a73dd7-2178-4b15-af7c-221b1b39f735",
     "showTitle": false,
     "title": ""
    }
   },
   "source": [
    "Pay attention that, when we print(result), the output is the value of calculation and not `(20-10) * 2`. **The computer first calculates (20-10) * 2 and then saves the result 20 to variable name \"result\".**"
   ]
  },
  {
   "cell_type": "markdown",
   "metadata": {
    "application/vnd.databricks.v1+cell": {
     "cellMetadata": {},
     "inputWidgets": {},
     "nuid": "e58b6936-8769-467e-b8a1-163517294172",
     "showTitle": false,
     "title": ""
    }
   },
   "source": [
    "### Task 1.2.1:\n",
    "1. Save the result of (50 + 6)*32 to the variable name `result`.\n",
    "2. Print result."
   ]
  },
  {
   "cell_type": "code",
   "execution_count": 0,
   "metadata": {
    "application/vnd.databricks.v1+cell": {
     "cellMetadata": {},
     "inputWidgets": {},
     "nuid": "2014aaf4-cb77-4fba-94d0-bb1024f38ca6",
     "showTitle": false,
     "title": ""
    }
   },
   "outputs": [],
   "source": [
    "# Start your code below:\n"
   ]
  },
  {
   "cell_type": "markdown",
   "metadata": {
    "application/vnd.databricks.v1+cell": {
     "cellMetadata": {},
     "inputWidgets": {},
     "nuid": "d416753e-f063-4739-a492-66be6ea9d70e",
     "showTitle": false,
     "title": ""
    }
   },
   "source": [
    "## 2. Variables\n",
    "When we run the code result = 20, the value 20 is saved in the computer memory. The computer memory has many storage locations, and the value 20 is saved to one particular location.\n",
    "\n",
    "The value we just saved, which is 20, has a unique identifier in the storage location which we can use it to access 20. We can use the identifier *result* to access 20 in our program. For example:"
   ]
  },
  {
   "cell_type": "code",
   "execution_count": 0,
   "metadata": {
    "application/vnd.databricks.v1+cell": {
     "cellMetadata": {},
     "inputWidgets": {},
     "nuid": "8df54618-c255-4dbb-b0e4-5f475c2e8eb5",
     "showTitle": false,
     "title": ""
    }
   },
   "outputs": [],
   "source": [
    "result = 20\n",
    "print(result)\n",
    "print(result * 2)\n",
    "print(result + 1)"
   ]
  },
  {
   "cell_type": "markdown",
   "metadata": {
    "application/vnd.databricks.v1+cell": {
     "cellMetadata": {},
     "inputWidgets": {},
     "nuid": "06ab99ff-2c73-4f86-b36c-0292f0cb45d8",
     "showTitle": false,
     "title": ""
    }
   },
   "source": [
    "This unique identifier is commonly known as a **variable**. \n",
    "*result = 20* ran after we hit the Run button, the computer stored 20 in a variable or a storage location named *result* based on our command --- therefore \"result\" is a **variable name**.\n",
    "Notice that the order of the variable naming is very important. The variable name is to the left of the = sign and the value we want to store to this variable name is located to the right.\n",
    "Therefore if we want to store the value 20 to a variable named result, result = 20 must be written and not 20 = result."
   ]
  },
  {
   "cell_type": "markdown",
   "metadata": {
    "application/vnd.databricks.v1+cell": {
     "cellMetadata": {},
     "inputWidgets": {},
     "nuid": "eccb8f2a-9875-45fd-9694-d49f1ba2b6fc",
     "showTitle": false,
     "title": ""
    }
   },
   "source": [
    "Now let's do some practice declaring some variable names.\n",
    "\n",
    "### Task 1.2.2:\n",
    "1. Store the value 10 in a variable named some_value.\n",
    "2. Store the result of (38+6-2)*23 to a variable named some_result.\n",
    "3. Use the `print()` command to display the following:\n",
    "  * The value stored in the some_value variable.\n",
    "  * The result of adding 8 to the variable some_result.\n",
    "  * The result of adding some_value to some_result."
   ]
  },
  {
   "cell_type": "code",
   "execution_count": 0,
   "metadata": {
    "application/vnd.databricks.v1+cell": {
     "cellMetadata": {},
     "inputWidgets": {},
     "nuid": "0f337083-6c3e-48b9-bfde-c4d88ea3690b",
     "showTitle": false,
     "title": ""
    }
   },
   "outputs": [],
   "source": [
    "# Start your code below:\n"
   ]
  },
  {
   "cell_type": "markdown",
   "metadata": {
    "application/vnd.databricks.v1+cell": {
     "cellMetadata": {},
     "inputWidgets": {},
     "nuid": "97e0520e-d14a-473d-8977-b7d0f39d1d16",
     "showTitle": false,
     "title": ""
    }
   },
   "source": [
    "## 3. Variable Names\n",
    "In the previous task, we have declared some variable names. We also learned that we can choose names for our variables. However, the names we choose must comply with a number of syntax rules. For example, if we try to name a variable `a result`, a syntax error will occur because we're not allowed to use space in variable names."
   ]
  },
  {
   "cell_type": "code",
   "execution_count": 0,
   "metadata": {
    "application/vnd.databricks.v1+cell": {
     "cellMetadata": {},
     "inputWidgets": {},
     "nuid": "63a4dfb0-fe8e-4412-a7a0-3c735a4a1aea",
     "showTitle": false,
     "title": ""
    }
   },
   "outputs": [],
   "source": [
    "a result = 20"
   ]
  },
  {
   "cell_type": "markdown",
   "metadata": {
    "application/vnd.databricks.v1+cell": {
     "cellMetadata": {},
     "inputWidgets": {},
     "nuid": "bb8e7354-574c-454a-9a2c-244a5940ad8c",
     "showTitle": false,
     "title": ""
    }
   },
   "source": [
    "There are two syntax rules we must follow when we declare our variables: <br>\n",
    "1) Only letters, numbers, or underscores (we can't use apostrophes, hyphens, whitespace characters, etc.) can be used. <br>\n",
    "2) Variable names cannot start with a number.<br>\n",
    "\n",
    "For example, errors will occur if we pick any of the following variable names:"
   ]
  },
  {
   "cell_type": "code",
   "execution_count": 0,
   "metadata": {
    "application/vnd.databricks.v1+cell": {
     "cellMetadata": {},
     "inputWidgets": {},
     "nuid": "368fa5fa-5ff3-49ab-b91d-59df2f56d112",
     "showTitle": false,
     "title": ""
    }
   },
   "outputs": [],
   "source": [
    "1_result = 2\n",
    "new result = 3\n",
    "sister's_vacation_day = 23\n",
    "old-result = 20\n",
    "price_in_$ = 20"
   ]
  },
  {
   "cell_type": "markdown",
   "metadata": {
    "application/vnd.databricks.v1+cell": {
     "cellMetadata": {},
     "inputWidgets": {},
     "nuid": "52fc23c9-d97e-47c9-b695-0c06ea0f84e9",
     "showTitle": false,
     "title": ""
    }
   },
   "source": [
    "All variable names are case sensitive, notice that result is different from a variable named Result:"
   ]
  },
  {
   "cell_type": "code",
   "execution_count": 0,
   "metadata": {
    "application/vnd.databricks.v1+cell": {
     "cellMetadata": {},
     "inputWidgets": {},
     "nuid": "a59a1f86-03f3-4fff-9a15-fa6f52e47222",
     "showTitle": false,
     "title": ""
    }
   },
   "outputs": [],
   "source": [
    "result = 20\n",
    "Result = 30\n",
    "print(result)\n",
    "print(Result)"
   ]
  },
  {
   "cell_type": "markdown",
   "metadata": {
    "application/vnd.databricks.v1+cell": {
     "cellMetadata": {},
     "inputWidgets": {},
     "nuid": "35ea515c-449d-48e6-a47c-bbbf2e5f27b0",
     "showTitle": false,
     "title": ""
    }
   },
   "source": [
    "## 4. Updating Variables\n",
    "\n",
    "The value saved in a variable can be changed or updated.\n",
    "For example, in the code below we have first stored 2 in the variable result and then we update result to store 20 instead."
   ]
  },
  {
   "cell_type": "code",
   "execution_count": 0,
   "metadata": {
    "application/vnd.databricks.v1+cell": {
     "cellMetadata": {},
     "inputWidgets": {},
     "nuid": "18ebc68c-9b51-4b46-b068-b29741977366",
     "showTitle": false,
     "title": ""
    }
   },
   "outputs": [],
   "source": [
    "result = 2\n",
    "print(result)\n",
    "print(result + 1)\n",
    "\n",
    "result = 20\n",
    "print(result)\n",
    "\n",
    "result = result + 10\n",
    "print(result)"
   ]
  },
  {
   "cell_type": "markdown",
   "metadata": {
    "application/vnd.databricks.v1+cell": {
     "cellMetadata": {},
     "inputWidgets": {},
     "nuid": "121a6278-72e7-4d74-bb28-cd6b3f0ae2c3",
     "showTitle": false,
     "title": ""
    }
   },
   "source": [
    "Pay attention to the code above:\n",
    "- The variable result initially only stores a value of 2\n",
    "- `result + 1` equals to 3 because `result` restores a value of 2 --- so `result + 1` becomes 2 + 1\n",
    "- when we run `result = result + 10`, `result` is updated to store of value of `result + 10`, which is 30. It is the same as running `result = 20 + 10` because `result` has a value of 20.\n",
    "`print(result)` outputs 30 after we executed result = result + 10.\n",
    "Now let's have a little practice with variables.\n",
    "\n",
    "\n",
    "### Task 1.2.4:\n",
    "1.  Update the variable income by adding 5000 to its current value.\n",
    "2.  Print income"
   ]
  },
  {
   "cell_type": "code",
   "execution_count": 0,
   "metadata": {
    "application/vnd.databricks.v1+cell": {
     "cellMetadata": {},
     "inputWidgets": {},
     "nuid": "29dffac6-b22e-42cd-aed2-ce5cc58034d1",
     "showTitle": false,
     "title": ""
    }
   },
   "outputs": [],
   "source": [
    "income = 2000\n",
    "\n",
    "# Start your code below:\n"
   ]
  },
  {
   "cell_type": "markdown",
   "metadata": {
    "application/vnd.databricks.v1+cell": {
     "cellMetadata": {},
     "inputWidgets": {},
     "nuid": "102d5ca1-13eb-42ae-b3e6-84b95519d36a",
     "showTitle": false,
     "title": ""
    }
   },
   "source": [
    "**Pay attention to how we updated the variable, for example, by using x = x + 1. It is different than what we normally follows in mathematics. x = x +1 would be a false statement because x can never be equal to x + 1.** This means that the = operator sign in python or in any programming language in general doesn't have the same meaning as it does in mathematics.\n",
    "\n",
    "**In Python, the = operator means assignment**: the value on the right is assigned to the variable on the left, just like how we name our variable. It doesn't mean equality. We call = an assignment operator, and we read code like x = 2 as \"two is assigned to x\" or \"x is assigned two,\" but not \"x equals two.\""
   ]
  },
  {
   "cell_type": "markdown",
   "metadata": {
    "application/vnd.databricks.v1+cell": {
     "cellMetadata": {},
     "inputWidgets": {},
     "nuid": "c8b8b3c3-0f14-4d63-912a-515ed24f8866",
     "showTitle": false,
     "title": ""
    }
   },
   "source": [
    "By the way, Python offers a shortcut for inplace operations +=, -=, /= and *="
   ]
  },
  {
   "cell_type": "code",
   "execution_count": 0,
   "metadata": {
    "application/vnd.databricks.v1+cell": {
     "cellMetadata": {},
     "inputWidgets": {},
     "nuid": "bdebe850-dc86-491d-8d44-802f8616cb4d",
     "showTitle": false,
     "title": ""
    }
   },
   "outputs": [],
   "source": [
    "x = 10\n",
    "print(x)\n",
    "\n",
    "x += 1    # is equivalent to x = x + 1\n",
    "print(x)"
   ]
  },
  {
   "cell_type": "markdown",
   "metadata": {
    "application/vnd.databricks.v1+cell": {
     "cellMetadata": {},
     "inputWidgets": {},
     "nuid": "a92066bc-f2cd-4a71-add9-97a8b99d9674",
     "showTitle": false,
     "title": ""
    }
   },
   "source": [
    "## 5. Types of Values\n",
    "We have only worked with integers so far, of course we can also work with decimal numbers in Python. To understand what type of numbers or even values you are working with in Python, we can simply use the `type()` command to see the type of a value. For example:"
   ]
  },
  {
   "cell_type": "code",
   "execution_count": 0,
   "metadata": {
    "application/vnd.databricks.v1+cell": {
     "cellMetadata": {},
     "inputWidgets": {},
     "nuid": "a6d32541-d71e-43b2-934d-d3b98b5093a6",
     "showTitle": false,
     "title": ""
    }
   },
   "outputs": [],
   "source": [
    "print(type(10))\n",
    "print(type(10.))\n",
    "print(type(10.0))\n",
    "print(type(2.5))"
   ]
  },
  {
   "cell_type": "markdown",
   "metadata": {
    "application/vnd.databricks.v1+cell": {
     "cellMetadata": {},
     "inputWidgets": {},
     "nuid": "d296f83a-0b95-45cc-b7c2-697c852b9411",
     "showTitle": false,
     "title": ""
    }
   },
   "source": [
    "We see that Python distinguishes integers and decimal numbers since the integer 10 has the <b> int </b> type and the decimal numbers 10., 10.0, and 2.5 have the <b> float</b> type. All integers have the <b> int </b> type, and numbers that has a decimal point have the <b> float </b>type. \n",
    "\n",
    "Even though these numbers are classified into different <b> types</b> or have different <b> data types </b>, we can still perform arithmetical operations with them. For example, we can still add an <b> int </b> data type to a <b> float </b> data type."
   ]
  },
  {
   "cell_type": "code",
   "execution_count": 0,
   "metadata": {
    "application/vnd.databricks.v1+cell": {
     "cellMetadata": {},
     "inputWidgets": {},
     "nuid": "6256ea62-9bde-429a-af5e-847afc4678fd",
     "showTitle": false,
     "title": ""
    }
   },
   "outputs": [],
   "source": [
    "print(10 + 10.0)\n",
    "print(2.5 * 5)"
   ]
  },
  {
   "cell_type": "markdown",
   "metadata": {
    "application/vnd.databricks.v1+cell": {
     "cellMetadata": {},
     "inputWidgets": {},
     "nuid": "c669dab6-f085-43e5-abcf-06036858fe7d",
     "showTitle": false,
     "title": ""
    }
   },
   "source": [
    "### Task 1.2.5:\n",
    "1. Assign a value of 10 to a variable named `value_1` <br>\n",
    "2. Assign a value of 20.5 to a variable named `value_2` <br>\n",
    "3. Update the value of `value_1` by adding 2.5 to its current value. Try to use the syntax shortcut like += operator. <br>\n",
    "4. Update the value of `value_2` by multiplying its current value by 5. Try to use the syntax shorcut like *= operator. <br>\n",
    "5. Print the result of `value_1` and `value_2` by using `print()` command. <br>"
   ]
  },
  {
   "cell_type": "code",
   "execution_count": 0,
   "metadata": {
    "application/vnd.databricks.v1+cell": {
     "cellMetadata": {},
     "inputWidgets": {},
     "nuid": "13bff358-cdf1-4b0d-a301-96318124d39a",
     "showTitle": false,
     "title": ""
    }
   },
   "outputs": [],
   "source": [
    "#Start your code below:\n"
   ]
  },
  {
   "cell_type": "markdown",
   "metadata": {
    "application/vnd.databricks.v1+cell": {
     "cellMetadata": {},
     "inputWidgets": {},
     "nuid": "cf0e90ab-bbd3-411e-a380-cbb13610bf0e",
     "showTitle": false,
     "title": ""
    }
   },
   "source": [
    "## 6. Conversion\n",
    "\n",
    "Is it possible to convert one type of value to another type of value? Totally! For example, <b> float()</b> command is used to convert an integer to a float and  <b>int()  </b>command is to convert a float to an integer."
   ]
  },
  {
   "cell_type": "code",
   "execution_count": 0,
   "metadata": {
    "application/vnd.databricks.v1+cell": {
     "cellMetadata": {},
     "inputWidgets": {},
     "nuid": "a22584fd-54e1-4569-be52-0c7a647d18a3",
     "showTitle": false,
     "title": ""
    }
   },
   "outputs": [],
   "source": [
    "float(10)"
   ]
  },
  {
   "cell_type": "code",
   "execution_count": 0,
   "metadata": {
    "application/vnd.databricks.v1+cell": {
     "cellMetadata": {},
     "inputWidgets": {},
     "nuid": "82ee466c-22ca-474a-894d-34f8696ccbbc",
     "showTitle": false,
     "title": ""
    }
   },
   "outputs": [],
   "source": [
    "int(2.6)"
   ]
  },
  {
   "cell_type": "markdown",
   "metadata": {
    "application/vnd.databricks.v1+cell": {
     "cellMetadata": {},
     "inputWidgets": {},
     "nuid": "dac6d26e-767f-462c-9ee4-ad6b3f3f90b1",
     "showTitle": false,
     "title": ""
    }
   },
   "source": [
    "Pay attention to the `int()` command and notice that 2.6 is rounded down to a 2. The `int()` command will always round a float value down, even if the number after the decimal point is greater than five.\n",
    "\n",
    "However, we can also use `round()` command to properly round off a number, which follows the normal rounding rule."
   ]
  },
  {
   "cell_type": "code",
   "execution_count": 0,
   "metadata": {
    "application/vnd.databricks.v1+cell": {
     "cellMetadata": {},
     "inputWidgets": {},
     "nuid": "97175d66-b523-402b-91bc-6f358c62fea6",
     "showTitle": false,
     "title": ""
    }
   },
   "outputs": [],
   "source": [
    "round(2.3)"
   ]
  },
  {
   "cell_type": "code",
   "execution_count": 0,
   "metadata": {
    "application/vnd.databricks.v1+cell": {
     "cellMetadata": {},
     "inputWidgets": {},
     "nuid": "8363ef3e-b90c-410d-b675-db3a9cfa8c89",
     "showTitle": false,
     "title": ""
    }
   },
   "outputs": [],
   "source": [
    "round(2.5)"
   ]
  },
  {
   "cell_type": "code",
   "execution_count": 0,
   "metadata": {
    "application/vnd.databricks.v1+cell": {
     "cellMetadata": {},
     "inputWidgets": {},
     "nuid": "13ee8409-5121-440f-84a7-c6bb45d71956",
     "showTitle": false,
     "title": ""
    }
   },
   "outputs": [],
   "source": [
    "round(2.99)"
   ]
  },
  {
   "cell_type": "markdown",
   "metadata": {
    "application/vnd.databricks.v1+cell": {
     "cellMetadata": {},
     "inputWidgets": {},
     "nuid": "304e5a51-d381-4cb4-ab71-b03f89b579b9",
     "showTitle": false,
     "title": ""
    }
   },
   "source": [
    "It is possible and often encouraged to combine commands. For example, we can use `round()` inside a `print()` command. Notice the different output printed on the screen between a simple `round()` command and `print(round())`."
   ]
  },
  {
   "cell_type": "code",
   "execution_count": 0,
   "metadata": {
    "application/vnd.databricks.v1+cell": {
     "cellMetadata": {},
     "inputWidgets": {},
     "nuid": "779c3f17-2995-473d-bd43-676bdb72ebb7",
     "showTitle": false,
     "title": ""
    }
   },
   "outputs": [],
   "source": [
    "print(round(2.3))\n",
    "print(round(2.5))\n",
    "print(round(2.99))"
   ]
  },
  {
   "cell_type": "code",
   "execution_count": 0,
   "metadata": {
    "application/vnd.databricks.v1+cell": {
     "cellMetadata": {},
     "inputWidgets": {},
     "nuid": "a7441cb7-d4b1-4d44-b766-37cf7f658924",
     "showTitle": false,
     "title": ""
    }
   },
   "outputs": [],
   "source": [
    "round(2.3)\n",
    "round(2.5)\n",
    "round(2.99)"
   ]
  },
  {
   "cell_type": "markdown",
   "metadata": {
    "application/vnd.databricks.v1+cell": {
     "cellMetadata": {},
     "inputWidgets": {},
     "nuid": "bb73b749-fe74-4a44-b195-8686756606f9",
     "showTitle": false,
     "title": ""
    }
   },
   "source": [
    "Another detail to pay attention to is that `round()` command doesn't change the value stored by a variable."
   ]
  },
  {
   "cell_type": "code",
   "execution_count": 0,
   "metadata": {
    "application/vnd.databricks.v1+cell": {
     "cellMetadata": {},
     "inputWidgets": {},
     "nuid": "df6e2c3f-174c-47f9-84f4-5be5e80cccb6",
     "showTitle": false,
     "title": ""
    }
   },
   "outputs": [],
   "source": [
    "variable_1 = 2.5\n",
    "print(round(variable_1))\n",
    "print(variable_1)"
   ]
  },
  {
   "cell_type": "markdown",
   "metadata": {
    "application/vnd.databricks.v1+cell": {
     "cellMetadata": {},
     "inputWidgets": {},
     "nuid": "d8a7683e-38ad-4588-99d4-68233d9b3f18",
     "showTitle": false,
     "title": ""
    }
   },
   "source": [
    "However, if we assign the rounded value back to the variable, we are able to change the value stored in the variable."
   ]
  },
  {
   "cell_type": "code",
   "execution_count": 0,
   "metadata": {
    "application/vnd.databricks.v1+cell": {
     "cellMetadata": {},
     "inputWidgets": {},
     "nuid": "41c319ab-4ac1-4a17-ba94-1e7493d21daf",
     "showTitle": false,
     "title": ""
    }
   },
   "outputs": [],
   "source": [
    "variable_1 = round(2.5)\n",
    "print(variable_1)"
   ]
  },
  {
   "cell_type": "markdown",
   "metadata": {
    "application/vnd.databricks.v1+cell": {
     "cellMetadata": {},
     "inputWidgets": {},
     "nuid": "c02969c0-8656-4032-9a3e-c3ce190e8362",
     "showTitle": false,
     "title": ""
    }
   },
   "source": [
    "### Task 1.2.6:\n",
    "1. Assign a value of 11.2 to a variable named `value_1` <br>\n",
    "2. Assign a value of 2.5 to a variable named `value_2` <br>\n",
    "3. Round the value of `value_1` by using the `round()` command and assign the rounded value back to `value_1` <br>\n",
    "4. Convert the value of `value_2` from a float to an integer value using the `int()` command and assign the value back to `value_2` <br>\n",
    "5. Print the result of `value_1` and `value_2` by using the `print()` command. <br>"
   ]
  },
  {
   "cell_type": "code",
   "execution_count": 0,
   "metadata": {
    "application/vnd.databricks.v1+cell": {
     "cellMetadata": {},
     "inputWidgets": {},
     "nuid": "34ad6ccc-ff14-4e14-ad36-b79c853fed74",
     "showTitle": false,
     "title": ""
    }
   },
   "outputs": [],
   "source": [
    "# Start your code below:\n"
   ]
  },
  {
   "cell_type": "markdown",
   "metadata": {
    "application/vnd.databricks.v1+cell": {
     "cellMetadata": {},
     "inputWidgets": {},
     "nuid": "d0d009d2-68e7-496c-9a7d-9a08b910bb57",
     "showTitle": false,
     "title": ""
    }
   },
   "source": [
    "## 7. Strings\n",
    "\n",
    "Up till now, we have only worked with <b> int </b> and <b> float</b> values. But in computer programming there are many more types of values. \n",
    "Take a look at the table down below:\n",
    "\n",
    "\n",
    "| Track_name |  Price |  Currency |  Rating_count_total | User_rating|\n",
    "|------------|:------:|----------:|---------------------:|-----------:|\n",
    "| Facebook | 0.0 | USD | 2974676 | 3.5|\n",
    "| Instagram |    0.0  |   USD |2161558 |4.5|\n",
    "| Clash of Clans | 0.0|    USD | 2130805 |4.5|\n",
    "| Temple Run |    0.0  |   USD |1724546 |4.5|\n",
    "| Pandora - Music & Radio | 0.0|    USD | 1126879 |4.5|\n",
    "\n",
    "Data Source:  [Mobile App Store Data Set (Ramanathan Perumal)](https://www.kaggle.com/ramamet4/app-store-apple-data-set-10k-apps)</p>"
   ]
  },
  {
   "cell_type": "markdown",
   "metadata": {
    "application/vnd.databricks.v1+cell": {
     "cellMetadata": {},
     "inputWidgets": {},
     "nuid": "02619713-e6b1-411c-a31f-54a81f7cf1d5",
     "showTitle": false,
     "title": ""
    }
   },
   "source": [
    "As we can see that the columns <b> track_name</b> and <b> currency </b> consist of text and not numbers. In Python, we can create text by using the quotation marks (\" \"):"
   ]
  },
  {
   "cell_type": "code",
   "execution_count": 0,
   "metadata": {
    "application/vnd.databricks.v1+cell": {
     "cellMetadata": {},
     "inputWidgets": {},
     "nuid": "2b757993-d271-4d3e-b13c-a4c2c3f158f3",
     "showTitle": false,
     "title": ""
    }
   },
   "outputs": [],
   "source": [
    "app_name = \"Instagram\"\n",
    "currency = \"USD\"\n",
    "\n",
    "print(app_name)\n",
    "print(currency)"
   ]
  },
  {
   "cell_type": "markdown",
   "metadata": {
    "application/vnd.databricks.v1+cell": {
     "cellMetadata": {},
     "inputWidgets": {},
     "nuid": "e704b9cb-8e47-4189-bf91-cd95c172e622",
     "showTitle": false,
     "title": ""
    }
   },
   "source": [
    "Both double quotation marks (\" \") and single quotation mark (' ') are allowed in the Python syntax.\n",
    "To create the word \"Instagram\", we can use either \"Instagram\", or 'Instagram'. The values surrounded by quotation marks are called strings and are represented in Python by the <b>str</b> type."
   ]
  },
  {
   "cell_type": "code",
   "execution_count": 0,
   "metadata": {
    "application/vnd.databricks.v1+cell": {
     "cellMetadata": {},
     "inputWidgets": {},
     "nuid": "374e3d26-08a4-4b08-b364-1a6d136de394",
     "showTitle": false,
     "title": ""
    }
   },
   "outputs": [],
   "source": [
    "type('Instagram')"
   ]
  },
  {
   "cell_type": "markdown",
   "metadata": {
    "application/vnd.databricks.v1+cell": {
     "cellMetadata": {},
     "inputWidgets": {},
     "nuid": "4bf7f53f-9cca-4f4e-bcc4-51062d40e4b5",
     "showTitle": false,
     "title": ""
    }
   },
   "source": [
    "However, strings are not only limited to letters. It is also possible to use numbers, space, or other characters. See example below:"
   ]
  },
  {
   "cell_type": "code",
   "execution_count": 0,
   "metadata": {
    "application/vnd.databricks.v1+cell": {
     "cellMetadata": {},
     "inputWidgets": {},
     "nuid": "1599d28b-1fe6-4e42-b0b5-64673ec1e802",
     "showTitle": false,
     "title": ""
    }
   },
   "outputs": [],
   "source": [
    "bank = 'My Bank'\n",
    "number = 'number is 123456789'\n",
    "\n",
    "print(bank)\n",
    "print(number)"
   ]
  },
  {
   "cell_type": "markdown",
   "metadata": {
    "application/vnd.databricks.v1+cell": {
     "cellMetadata": {},
     "inputWidgets": {},
     "nuid": "3d968d02-dd26-46d8-8eea-dbfad014cbd0",
     "showTitle": false,
     "title": ""
    }
   },
   "source": [
    "### Task 1.2.7:\n",
    "1. Assign the string `\"Instagram\"` to a variable named `app_name`. <br>\n",
    "2. Assign  the string  `\"4.5\"` to a variable named `average_rating`. <br>\n",
    "3. Assign the string `\"2161158\"` to a variable named `total_ratings`. <br>\n",
    "4. Assign the string `\"data\"` to a variable named `value`. <br>\n",
    "5. Display `app_name` variable using `print()` command. <br>"
   ]
  },
  {
   "cell_type": "code",
   "execution_count": 0,
   "metadata": {
    "application/vnd.databricks.v1+cell": {
     "cellMetadata": {},
     "inputWidgets": {},
     "nuid": "9ab9cf45-c113-4604-a5dc-4a2dec3aaadb",
     "showTitle": false,
     "title": ""
    }
   },
   "outputs": [],
   "source": [
    "# Start your code below:\n"
   ]
  }
 ],
 "metadata": {
  "application/vnd.databricks.v1+notebook": {
   "dashboards": [],
   "language": "python",
   "notebookMetadata": {},
   "notebookName": "2_Variables_and_Data_Types",
   "widgets": {}
  }
 },
 "nbformat": 4,
 "nbformat_minor": 0
}
