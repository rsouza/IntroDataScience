{
 "cells": [
  {
   "cell_type": "markdown",
   "metadata": {
    "application/vnd.databricks.v1+cell": {
     "cellMetadata": {},
     "inputWidgets": {},
     "nuid": "cd937f4a-9db7-4bcd-9bda-a6255daeed58",
     "showTitle": false,
     "title": ""
    }
   },
   "source": [
    "## About This Notebook\n",
    "\n",
    "Functions are the absolute key for any programmer! You might have already noticed that we used for example the `print()` function. This is one of the ``built-in functions`` of python which we can just use right away. We will touch upon these in the beginning of a lecture. Towards the second part of the lecture, we will move towards scenarios when Python does not have the function we need. We will then build our first custom functions.\n",
    "***"
   ]
  },
  {
   "cell_type": "markdown",
   "metadata": {
    "application/vnd.databricks.v1+cell": {
     "cellMetadata": {},
     "inputWidgets": {},
     "nuid": "e1ec7561-ab1d-4d51-bf04-cca33567bf4e",
     "showTitle": false,
     "title": ""
    }
   },
   "source": [
    "## 1. Functions\n",
    "We've learned several useful commands so far: `print()`, `sum()`, `len()`, `min()`, `max()`. These commands are more often known as functions. A function takes in an input, does something to that input, and gives back an output.\n",
    "\n",
    "Take for example the function ``sum()``:\n",
    "- ``sum()`` takes the input ``list_a``\n",
    "- it sums up all the values in the list\n",
    "- it returns the output ``18``, which is the sum of this list"
   ]
  },
  {
   "cell_type": "code",
   "execution_count": 0,
   "metadata": {
    "application/vnd.databricks.v1+cell": {
     "cellMetadata": {
      "byteLimit": 2048000,
      "rowLimit": 10000
     },
     "inputWidgets": {},
     "nuid": "2bd24db0-0b44-4ede-a30d-2f5ed4a7b2b2",
     "showTitle": false,
     "title": ""
    }
   },
   "outputs": [],
   "source": [
    "list_a = [5, 2, 11]\n",
    "sum(list_a)"
   ]
  },
  {
   "cell_type": "markdown",
   "metadata": {
    "application/vnd.databricks.v1+cell": {
     "cellMetadata": {},
     "inputWidgets": {},
     "nuid": "7e761c62-4b44-430b-ad43-6c01ea8d17b0",
     "showTitle": false,
     "title": ""
    }
   },
   "source": [
    "We can understand step 1 and 3 rather quickly, however, what happens inside step 2 is rather ambiguous. "
   ]
  },
  {
   "cell_type": "markdown",
   "metadata": {
    "application/vnd.databricks.v1+cell": {
     "cellMetadata": {},
     "inputWidgets": {},
     "nuid": "284ee646-66a3-4519-b56c-de247d97a9fa",
     "showTitle": false,
     "title": ""
    }
   },
   "source": [
    "First, we have a list about which we want to have some information:\n",
    "````python\n",
    "list_1 = [2, 45,62, -21, 0, 55, 3]\n",
    "````\n",
    "We then initialize a variable named ``my_sum`` with an initial value of 0.\n",
    "\n",
    "````python\n",
    "my_sum = 0\n",
    "````\n",
    "\n",
    "Afterwards, we loop through the list ``list_1``and sum up all the values in the list one by one:\n",
    "````python\n",
    "for element in list_1:\n",
    "    my_sum += element\n",
    "````\n",
    "\n",
    "At the very end, we print the final result to the screen.\n",
    "````python\n",
    "print(my_sum)\n",
    "````\n",
    "***\n",
    "For a better overview:\n",
    "\n",
    "````python\n",
    "list_1 = [2, 45, 62, -21, 0, 55, 3]\n",
    "my_sum = 0\n",
    "\n",
    "for element in list_1:\n",
    "    my_sum += element\n",
    "print(my_sum)\n",
    "\n",
    "\n",
    "````"
   ]
  },
  {
   "cell_type": "markdown",
   "metadata": {
    "application/vnd.databricks.v1+cell": {
     "cellMetadata": {},
     "inputWidgets": {},
     "nuid": "694416f1-dab4-4df4-a9d7-7216ff3cac56",
     "showTitle": false,
     "title": ""
    }
   },
   "source": [
    "### Task 1.6.1:\n",
    "Let's try to do the same thing with `len()`.\n",
    "\n",
    "1. Compute the length of the `list_1` without using `len()`.\n",
    "    - Initialize a variable named length with a value of `0`.\n",
    "    - Loop through `list_1` and for each iteration add `1` to the current number length.\n",
    "    \n",
    "    \n",
    "2. Using `len()` function to print the length of ``list_1`` and check whether your function is correct.\n",
    "> Hint: to better familiarize yourself, you may look up the documentation of ``len()`` function."
   ]
  },
  {
   "cell_type": "code",
   "execution_count": 0,
   "metadata": {
    "application/vnd.databricks.v1+cell": {
     "cellMetadata": {
      "byteLimit": 2048000,
      "rowLimit": 10000
     },
     "inputWidgets": {},
     "nuid": "cc673937-bd79-4361-a86b-be5506af9e62",
     "showTitle": false,
     "title": ""
    }
   },
   "outputs": [],
   "source": [
    "list_1 = [2, 45,62, -21, 0, 55, 3]\n",
    "\n",
    "#Start your code here:\n"
   ]
  },
  {
   "cell_type": "markdown",
   "metadata": {
    "application/vnd.databricks.v1+cell": {
     "cellMetadata": {},
     "inputWidgets": {},
     "nuid": "5bfaa56b-8549-4070-8a51-39d0f5ec8580",
     "showTitle": false,
     "title": ""
    }
   },
   "source": [
    "## 2. Built-in Functions\n",
    "Functions help us tremendously in working faster and simplifying our code. Whenever there is a repetitive task, try to think about using some functions to speed up your workflow.\n",
    "\n",
    "Python has some built-in functions like the ones we have encountered: ``sum()``, ``len()``, ``min()``, and ``max()``. However, Python doesn't have built-in functions for all the tasks we want to achieve. Therefore, it will be necessary to write functions of our own."
   ]
  },
  {
   "cell_type": "markdown",
   "metadata": {
    "application/vnd.databricks.v1+cell": {
     "cellMetadata": {},
     "inputWidgets": {},
     "nuid": "132dbade-e73d-428f-b058-e3c34cee618a",
     "showTitle": false,
     "title": ""
    }
   },
   "source": [
    "## 3. Creating Your Own Functions (IMPORTANT)\n",
    "If we want to create a function named `square()` which performs the mathematical operation of taking a number to the power of 2, how can we achieve this?\n",
    "To find the square of a number, all we need to do is to multiply that number by itself. For example, to find the square of 4, we need to multiple 4 by itself such as: 4 * 4, which is 16.\n",
    "So how do we actually create the `square()` function? See below:"
   ]
  },
  {
   "cell_type": "code",
   "execution_count": 0,
   "metadata": {
    "application/vnd.databricks.v1+cell": {
     "cellMetadata": {
      "byteLimit": 2048000,
      "rowLimit": 10000
     },
     "inputWidgets": {},
     "nuid": "d3ebebab-ca30-4f26-964b-9ab9a75e1a1a",
     "showTitle": false,
     "title": ""
    }
   },
   "outputs": [],
   "source": [
    "def square(number):\n",
    "    squared_number = number * number\n",
    "    return squared_number"
   ]
  },
  {
   "cell_type": "markdown",
   "metadata": {
    "application/vnd.databricks.v1+cell": {
     "cellMetadata": {},
     "inputWidgets": {},
     "nuid": "e79d6322-ac64-430d-aec1-a2fa09281769",
     "showTitle": false,
     "title": ""
    }
   },
   "source": [
    "To create the `square()` function above, we:\n",
    "\n",
    "\n",
    "1. Started with the `def` statement\n",
    "    - Specified the name of the function, which is `square`\n",
    "    - Specified the name of the variable that will serve as input, which is `number`\n",
    "    - Surround the input variable `number` within parentheses\n",
    "    - End the line of the code with a colon `:`\n",
    "\n",
    "\n",
    "2. Specified what we want to do with the input number\n",
    "    - We first multiplied number by itself: `number * number`\n",
    "    - We assigned the result of `number * number` to a variable named `squared_number`\n",
    "\n",
    "\n",
    "3. Concluded the function with the `return` statement and specified what to return as the output\n",
    "    - The output is the variable named `squared_number`, which is the result of `number * number`\n",
    "\n",
    "\n",
    "After we have constructed the `square()` function, we can finally put it into practice and compute the square of a number."
   ]
  },
  {
   "cell_type": "code",
   "execution_count": 0,
   "metadata": {
    "application/vnd.databricks.v1+cell": {
     "cellMetadata": {
      "byteLimit": 2048000,
      "rowLimit": 10000
     },
     "inputWidgets": {},
     "nuid": "55bc3b44-9995-44eb-a325-774b47f94702",
     "showTitle": false,
     "title": ""
    }
   },
   "outputs": [],
   "source": [
    "# To compute the square of 2, we use the code\n",
    "square_2 = square(number = 2)\n",
    "\n",
    "# To compute the square of 6, we use the code\n",
    "square_6 = square(number = 6)\n",
    "\n",
    "# To compute the square of 8, we use the code\n",
    "square_8 = square(number = 8)"
   ]
  },
  {
   "cell_type": "markdown",
   "metadata": {
    "application/vnd.databricks.v1+cell": {
     "cellMetadata": {},
     "inputWidgets": {},
     "nuid": "d9449e1b-2491-415f-9bb0-4357d87b3762",
     "showTitle": false,
     "title": ""
    }
   },
   "source": [
    "The variable `number` is the input variable and it can take various values as seen in the code above."
   ]
  },
  {
   "cell_type": "markdown",
   "metadata": {
    "application/vnd.databricks.v1+cell": {
     "cellMetadata": {},
     "inputWidgets": {},
     "nuid": "41ee5be0-d872-4af7-afc9-ca59d7015543",
     "showTitle": false,
     "title": ""
    }
   },
   "source": [
    "## 4. The Structure of a Function (IMPORTANT)\n",
    "\n",
    "In the previous section we created and used a function named `square()` to compute the square of `2`, `6`, `8`. We have used `number = 2`, `number = 6`, `number = 8` for every input variable:"
   ]
  },
  {
   "cell_type": "code",
   "execution_count": 0,
   "metadata": {
    "application/vnd.databricks.v1+cell": {
     "cellMetadata": {
      "byteLimit": 2048000,
      "rowLimit": 10000
     },
     "inputWidgets": {},
     "nuid": "91ddc361-a2c9-4513-a538-2f315fed1aa9",
     "showTitle": false,
     "title": ""
    }
   },
   "outputs": [],
   "source": [
    "def square(number):\n",
    "    squared_number = number * number\n",
    "    return squared_number\n",
    "\n",
    "#To compute the square of 2, we use the code\n",
    "square_2 = square(number = 2)\n",
    "\n",
    "#To compute the square of 6, we use the code\n",
    "square_6 = square(number = 6)\n",
    "\n",
    "#To compute the square of 8, we use the code\n",
    "square_8 = square(number = 8)\n",
    "\n",
    "print(square_2)\n",
    "print(square_6)\n",
    "print(square_8)"
   ]
  },
  {
   "cell_type": "markdown",
   "metadata": {
    "application/vnd.databricks.v1+cell": {
     "cellMetadata": {},
     "inputWidgets": {},
     "nuid": "4ac236fc-9e4e-4499-8bdc-dc7e86cd99e2",
     "showTitle": false,
     "title": ""
    }
   },
   "source": [
    "To understand what happens when we change the value we assign to `number`, you should try to imagine `number` being replaced with that specific value inside the definition of the function like:"
   ]
  },
  {
   "cell_type": "code",
   "execution_count": 0,
   "metadata": {
    "application/vnd.databricks.v1+cell": {
     "cellMetadata": {
      "byteLimit": 2048000,
      "rowLimit": 10000
     },
     "inputWidgets": {},
     "nuid": "e30d35a3-439b-4c5f-8975-bac644a86f8e",
     "showTitle": false,
     "title": ""
    }
   },
   "outputs": [],
   "source": [
    "#For number = 2\n",
    "def square(number = 2):\n",
    "    squared_number = number * number\n",
    "    return squared_number"
   ]
  },
  {
   "cell_type": "code",
   "execution_count": 0,
   "metadata": {
    "application/vnd.databricks.v1+cell": {
     "cellMetadata": {
      "byteLimit": 2048000,
      "rowLimit": 10000
     },
     "inputWidgets": {},
     "nuid": "237e6bac-fc71-4c81-bbc5-e3e7c8d69547",
     "showTitle": false,
     "title": ""
    }
   },
   "outputs": [],
   "source": [
    "#For number = 6\n",
    "def square(number = 6):\n",
    "    squared_number = number * number\n",
    "    return squared_number"
   ]
  },
  {
   "cell_type": "code",
   "execution_count": 0,
   "metadata": {
    "application/vnd.databricks.v1+cell": {
     "cellMetadata": {
      "byteLimit": 2048000,
      "rowLimit": 10000
     },
     "inputWidgets": {},
     "nuid": "be3b84e9-ff03-41c7-96e7-a08c1d4c3381",
     "showTitle": false,
     "title": ""
    }
   },
   "outputs": [],
   "source": [
    "#For number = 8\n",
    "def square(number = 8):\n",
    "    squared_number = number * number\n",
    "    return squared_number"
   ]
  },
  {
   "cell_type": "markdown",
   "metadata": {
    "application/vnd.databricks.v1+cell": {
     "cellMetadata": {},
     "inputWidgets": {},
     "nuid": "ba766671-bb07-44e3-9395-896bfd9ef1c2",
     "showTitle": false,
     "title": ""
    }
   },
   "source": [
    "There are usually three elements that make up the function's definition: The **header** (which contains the def statement), the **body** (where the magic happens), and the **return** statement."
   ]
  },
  {
   "cell_type": "markdown",
   "metadata": {
    "application/vnd.databricks.v1+cell": {
     "cellMetadata": {},
     "inputWidgets": {},
     "nuid": "46dff615-55ad-4222-8b49-fe1c58f17330",
     "showTitle": false,
     "title": ""
    }
   },
   "source": [
    "Note that we indent the body and the return statement four spaces to the right — we did the same for the bodies of for loops and if statements. Technically, we only need to indent at least one space character to the right, but the convention in the Python community is to use four space characters instead. This helps with readability — other people who follow this convention will be able to read your code easier, and you'll be able to read their code easier."
   ]
  },
  {
   "cell_type": "markdown",
   "metadata": {
    "application/vnd.databricks.v1+cell": {
     "cellMetadata": {},
     "inputWidgets": {},
     "nuid": "7f2cacd0-f19c-4eb1-9dd9-8e24f21edcaa",
     "showTitle": false,
     "title": ""
    }
   },
   "source": [
    "### Task 1.6.4 (IMPORTANT)\n",
    "\n",
    "Now let's try to recreate what you have learned in the previous chapter, the ``square()`` function.\n",
    "\n",
    "- Create a function `square` with input variable `number` and default value `12`.\n",
    "- Assign the square of `12` to a variable named `squared_12`.\n",
    "- Assign the square of `20` to a variable named `squared_20`.\n",
    "- Print both `squared_12` and `squared_20`."
   ]
  },
  {
   "cell_type": "code",
   "execution_count": 0,
   "metadata": {
    "application/vnd.databricks.v1+cell": {
     "cellMetadata": {
      "byteLimit": 2048000,
      "rowLimit": 10000
     },
     "inputWidgets": {},
     "nuid": "b7315f5a-e1d6-4b86-bc1c-29fa2280fffb",
     "showTitle": false,
     "title": ""
    }
   },
   "outputs": [],
   "source": [
    "# Start your code below:\n"
   ]
  },
  {
   "cell_type": "markdown",
   "metadata": {
    "application/vnd.databricks.v1+cell": {
     "cellMetadata": {},
     "inputWidgets": {},
     "nuid": "1d6beae8-13c0-465f-910d-3fd2e19c124a",
     "showTitle": false,
     "title": ""
    }
   },
   "source": [
    "## 5. Parameters and Arguments (IMPORTANT)\n",
    "\n",
    "We have learned a bit more about functions now. However, instead of `square(number = 6)` we can type just `square(6)` and it will give us the same output.\n",
    "\n",
    "What's behind the scene is that when we use `square(6)` instead of `square(number = 6)`, Python automatically assigns `6` to the `number` variable and it is just the same thing as `square(number = 6)`.\n",
    "\n",
    "Input variables like `number` are more often known as parameters. So `number` is a parameter of the `square()` function and when the parameter `number` takes a value (like `6` in `square(number = 6)`), that value is called an <b>argument</b>.\n",
    "\n",
    "For `square(number=6)`, we'd say the number parameter took in `6` as an argument. For `square(number=1000)`, the parameter number took in `1000` as an argument. For `square(number=19)`, the parameter number took in `19` as an argument, and so on.\n",
    "\n",
    "Now, let's focus on just the return statement. In the `square()` function, we have the return statement as: `return square_number`. However, you can return with an entire expression rather than just a single variable.\n",
    "\n",
    "So instead of saving the result of `number * number` to the variable `squared_number`, we can just return the expression `number * number` and skip the variable assignment step like this:"
   ]
  },
  {
   "cell_type": "code",
   "execution_count": 0,
   "metadata": {
    "application/vnd.databricks.v1+cell": {
     "cellMetadata": {
      "byteLimit": 2048000,
      "rowLimit": 10000
     },
     "inputWidgets": {},
     "nuid": "aba257f8-4cb6-4553-9b0e-96f2ab950d57",
     "showTitle": false,
     "title": ""
    }
   },
   "outputs": [],
   "source": [
    "#Instead of this:\n",
    "def square(number):\n",
    "    squared_number = number * number\n",
    "    return squared_number\n",
    "\n",
    "#We can return the expression: number * number\n",
    "def square(number):\n",
    "    return  number * number"
   ]
  },
  {
   "cell_type": "markdown",
   "metadata": {
    "application/vnd.databricks.v1+cell": {
     "cellMetadata": {},
     "inputWidgets": {},
     "nuid": "8bb0d7c1-fb0d-490a-b630-feb81e015e3b",
     "showTitle": false,
     "title": ""
    }
   },
   "source": [
    "The last `square()` function makes our code looks shorter and neater and it is generally encouraged to do so in the practice."
   ]
  },
  {
   "cell_type": "markdown",
   "metadata": {
    "application/vnd.databricks.v1+cell": {
     "cellMetadata": {},
     "inputWidgets": {},
     "nuid": "52a6c844-fea0-4d66-887e-c02cd5ea22b9",
     "showTitle": false,
     "title": ""
    }
   },
   "source": [
    "## 6. Extract Values From Any Column\n",
    "Remember our goal of writing our own functions? To have a certain flexibility to speed up our own workflow during the coding process when encountered with some complex problems.\n",
    "\n",
    "Problem 1: Now try to generate a frequency table for a certain column from our data set. "
   ]
  },
  {
   "cell_type": "markdown",
   "metadata": {
    "application/vnd.databricks.v1+cell": {
     "cellMetadata": {},
     "inputWidgets": {},
     "nuid": "69beb544-bfd8-472d-bb98-1c8530772b43",
     "showTitle": false,
     "title": ""
    }
   },
   "source": [
    "In order to simplify and speed up the workflow, we can try to create a separate function for each of these two tasks:\n",
    "1. A function that is able to extract the value we desired for any column in a separate list; and\n",
    "2. A function that can generate a frequency table for given a list"
   ]
  },
  {
   "cell_type": "markdown",
   "metadata": {
    "application/vnd.databricks.v1+cell": {
     "cellMetadata": {},
     "inputWidgets": {},
     "nuid": "ea7be2ff-8afd-43c4-b99b-614dbb9c94bd",
     "showTitle": false,
     "title": ""
    }
   },
   "source": [
    "In order the solve problem 1, we can first use a function to extract the value for any column we want into a separate list. Then we can pass the output list as an argument to the second function which will give us a frequency table for that given list.\n",
    "\n",
    "How do we extract the values of any column we want from our `apps_data` data set? Please see below:"
   ]
  },
  {
   "cell_type": "code",
   "execution_count": 0,
   "metadata": {
    "application/vnd.databricks.v1+cell": {
     "cellMetadata": {
      "byteLimit": 2048000,
      "rowLimit": 10000
     },
     "inputWidgets": {},
     "nuid": "22cd43ab-70f9-4ee7-8009-f374be54093d",
     "showTitle": false,
     "title": ""
    }
   },
   "outputs": [],
   "source": [
    "# Import data set\n",
    "from csv import reader\n",
    "\n",
    "with open(\"../../../../Data/AppleStore.csv\", encoding=\"utf8\") as opened_file:\n",
    "    read_file = reader(opened_file)\n",
    "    apps_data = list(read_file)\n",
    "\n",
    "# Create an empty list\n",
    "content_ratings = []\n",
    "\n",
    "# Loop through the apps_data data set (excluding the header row)\n",
    "for row in apps_data[1:]:\n",
    "    # for each iteration, we first store the value from the column we want in a variable\n",
    "    content_rating = row[10]  # (rating has the index number of 10 in each list)\n",
    "\n",
    "    # then we append that value we just stored to the empty list we have\n",
    "    # created outside the for loop (content_ratings)\n",
    "    content_ratings.append(content_rating)"
   ]
  },
  {
   "cell_type": "markdown",
   "metadata": {
    "application/vnd.databricks.v1+cell": {
     "cellMetadata": {},
     "inputWidgets": {},
     "nuid": "0a1ad422-5702-49d0-a34b-9c5f22da2dde",
     "showTitle": false,
     "title": ""
    }
   },
   "source": [
    "### Task 1.6.6 (IMPORTANT):\n",
    "1. Write a function named ``extract()`` that can extract any column you want from the `apps_data` data set.\n",
    "    - The function should take in the index `number` of a column as input.\n",
    "2. Inside the function's definition:\n",
    "    - Create an empty list.\n",
    "    - Loop through the `apps_data` data set and extract only the value you want by using the parameter.\n",
    "    - Append that value to the empty list.\n",
    "    - Return the list containing the values of the column.\n",
    "3. Use the `extract()` function to extract `cont_rating column` in the data set. Store them in a variable named `app_rating`. The index number of this column is `10`."
   ]
  },
  {
   "cell_type": "code",
   "execution_count": 0,
   "metadata": {
    "application/vnd.databricks.v1+cell": {
     "cellMetadata": {
      "byteLimit": 2048000,
      "rowLimit": 10000
     },
     "inputWidgets": {},
     "nuid": "03398fc6-7ab4-446e-a59f-7686bc434066",
     "showTitle": false,
     "title": ""
    }
   },
   "outputs": [],
   "source": [
    "# Start your code below:\n"
   ]
  },
  {
   "cell_type": "markdown",
   "metadata": {
    "application/vnd.databricks.v1+cell": {
     "cellMetadata": {},
     "inputWidgets": {},
     "nuid": "c024c43f-074c-401a-88e9-8387427bc372",
     "showTitle": false,
     "title": ""
    }
   },
   "source": [
    "## 7. Creating Frequency Tables\n",
    "\n",
    "In this section we will create the second function to our problem 1, which is to create a frequncy table for a given list."
   ]
  },
  {
   "cell_type": "code",
   "execution_count": 0,
   "metadata": {
    "application/vnd.databricks.v1+cell": {
     "cellMetadata": {
      "byteLimit": 2048000,
      "rowLimit": 10000
     },
     "inputWidgets": {},
     "nuid": "e82f9eba-3053-49e1-bb62-9afc0ba83bbd",
     "showTitle": false,
     "title": ""
    }
   },
   "outputs": [],
   "source": [
    "ratings = ['4+', '4+', '4+', '9+', '9+', '12+', '17+']\n",
    "#Create an empty list\n",
    "content_ratings = {}\n",
    "\n",
    "#Loop through the ratings list \n",
    "for c_rating in ratings:\n",
    "    \n",
    "    #and check for each iteration whether the iteration variable\n",
    "    #exists as a key in the dictionary created\n",
    "    if c_rating in content_ratings: \n",
    "        #If it exists, then increment by 1 the dictionary value at that key\n",
    "        content_ratings[c_rating] +=1\n",
    "    else:\n",
    "        #If not, then create a new key-value pair in the dictionary, where the \n",
    "        #dictionary key is the iteration variable and the inital dictionary value is 1.\n",
    "        content_ratings[c_rating] = 1\n",
    "        \n",
    "#See the final result after the for loop\n",
    "content_ratings"
   ]
  },
  {
   "cell_type": "markdown",
   "metadata": {
    "application/vnd.databricks.v1+cell": {
     "cellMetadata": {},
     "inputWidgets": {},
     "nuid": "461b952b-d197-41b8-ba29-443a55c17d9a",
     "showTitle": false,
     "title": ""
    }
   },
   "source": [
    "### Task 1.6.7 (OPTIONAL):\n",
    "\n",
    "1. Write a function named `freq_table()` which generates a frequency table for any list.\n",
    "- The function should take in a list as input.\n",
    "- Inside the function's body, write code that generates a frequency table for that list and stores the table in a dictionary.\n",
    "- Return the frequency table as a dictionary.\n",
    "2. Use the `freq_table()` function on the `app_rating list` (already generated from the previous task, task 1.6.6) to generate the frequency table for the `cont_rating` column. Store the table to a variable named `rating_ft`."
   ]
  },
  {
   "cell_type": "code",
   "execution_count": 0,
   "metadata": {
    "application/vnd.databricks.v1+cell": {
     "cellMetadata": {
      "byteLimit": 2048000,
      "rowLimit": 10000
     },
     "inputWidgets": {},
     "nuid": "1590b959-6948-434b-869b-4d56d96b2bc1",
     "showTitle": false,
     "title": ""
    }
   },
   "outputs": [],
   "source": [
    "# Complete the code below:\n",
    "\n",
    "def freq_table(column):\n",
    "    frequency_table = {}\n",
    "    for value in column:\n",
    "        if value in frequency_table:\n",
    "            frequency_table[value] += 1\n",
    "        else:\n",
    "            frequency_table[value] = 1\n",
    "    return frequency_table\n",
    "\n",
    "rating_ft = freq_table(app_rating)\n",
    "print(rating_ft)"
   ]
  },
  {
   "cell_type": "markdown",
   "metadata": {
    "application/vnd.databricks.v1+cell": {
     "cellMetadata": {},
     "inputWidgets": {},
     "nuid": "caf4c100-b6bc-4d6a-a07f-982cd3e8758c",
     "showTitle": false,
     "title": ""
    }
   },
   "source": [
    "## 8. Keyword and Positional Arguments\n",
    "\n",
    "There are multiple ways to pass in arguments when a function has more than just one parameters.\n",
    "\n",
    "Take a function named divide(x, y) for example, which takes x, and y as inputs and returns their division."
   ]
  },
  {
   "cell_type": "code",
   "execution_count": 0,
   "metadata": {
    "application/vnd.databricks.v1+cell": {
     "cellMetadata": {
      "byteLimit": 2048000,
      "rowLimit": 10000
     },
     "inputWidgets": {},
     "nuid": "dc3218a8-57c4-4e8a-a8d9-8764e52a53aa",
     "showTitle": false,
     "title": ""
    }
   },
   "outputs": [],
   "source": [
    "def divide(x, y):\n",
    "    return x / y"
   ]
  },
  {
   "cell_type": "markdown",
   "metadata": {
    "application/vnd.databricks.v1+cell": {
     "cellMetadata": {},
     "inputWidgets": {},
     "nuid": "16c41773-3805-46f4-a808-597329fff2a3",
     "showTitle": false,
     "title": ""
    }
   },
   "source": [
    "If we want to perform the addition 30 / 5, then we will need to pass 30 and 5 in the parameters of add() function. There are several ways of passing the parameters:"
   ]
  },
  {
   "cell_type": "code",
   "execution_count": 0,
   "metadata": {
    "application/vnd.databricks.v1+cell": {
     "cellMetadata": {
      "byteLimit": 2048000,
      "rowLimit": 10000
     },
     "inputWidgets": {},
     "nuid": "992547f8-778a-4958-b4c8-4f3a891320e3",
     "showTitle": false,
     "title": ""
    }
   },
   "outputs": [],
   "source": [
    "# Method 1:\n",
    "divide(x = 30, y = 5)"
   ]
  },
  {
   "cell_type": "code",
   "execution_count": 0,
   "metadata": {
    "application/vnd.databricks.v1+cell": {
     "cellMetadata": {
      "byteLimit": 2048000,
      "rowLimit": 10000
     },
     "inputWidgets": {},
     "nuid": "49e2418f-e213-4363-878f-52fdb0c20623",
     "showTitle": false,
     "title": ""
    }
   },
   "outputs": [],
   "source": [
    "# Method 2:\n",
    "divide(y = 5, x = 30)"
   ]
  },
  {
   "cell_type": "code",
   "execution_count": 0,
   "metadata": {
    "application/vnd.databricks.v1+cell": {
     "cellMetadata": {
      "byteLimit": 2048000,
      "rowLimit": 10000
     },
     "inputWidgets": {},
     "nuid": "4c66565d-f5fa-4e95-979b-bef3e53acc70",
     "showTitle": false,
     "title": ""
    }
   },
   "outputs": [],
   "source": [
    "# Method 3:\n",
    "divide( 30, 5)"
   ]
  },
  {
   "cell_type": "code",
   "execution_count": 0,
   "metadata": {
    "application/vnd.databricks.v1+cell": {
     "cellMetadata": {
      "byteLimit": 2048000,
      "rowLimit": 10000
     },
     "inputWidgets": {},
     "nuid": "f6f1d13d-68d7-4b84-8f14-03b1041b27ad",
     "showTitle": false,
     "title": ""
    }
   },
   "outputs": [],
   "source": [
    "#All of the methods above are correct, however, you cannot do:\n",
    "\n",
    "divide(5, 30) #it will return you a different result, which is not the same as 30/5"
   ]
  },
  {
   "cell_type": "markdown",
   "metadata": {
    "application/vnd.databricks.v1+cell": {
     "cellMetadata": {},
     "inputWidgets": {},
     "nuid": "e6162545-5036-42df-852b-bd23d70c8714",
     "showTitle": false,
     "title": ""
    }
   },
   "source": [
    "The syntax `divide(x = 30, y = 5)` and `divide(y = 5, x = 30)` both allow us the pass in the arguments `30` and `5` to correspondingly variable x and variable y. They are also known as named arguments, or more commonly, **keyword arguments**.\n",
    "\n",
    "When we use keyword arguments, the order we use to pass in the arguments doesn't make any difference. However, if we don't specify the keyword argument like in #method 3 and #method 4, then we are not explicit about what arguments correspond to what parameters and therefore we need to pass in the parameters by position. The first argument will be mapped the first parameter, and the second argument will be mapped to the second parameter. These arguments that are passed by position are known as the positional arguments.\n",
    "\n",
    "In the practice, data scientists often use positional arguments because they required less typing and can easily speed up the workflow. So we need to pay extra attention to the order in which we pass on our parameters."
   ]
  },
  {
   "cell_type": "markdown",
   "metadata": {
    "application/vnd.databricks.v1+cell": {
     "cellMetadata": {},
     "inputWidgets": {},
     "nuid": "9c2d79bd-72a7-4fd6-acea-a7295a37d6ac",
     "showTitle": false,
     "title": ""
    }
   },
   "source": [
    "### Task 1.6.8:\n",
    "1. Write an `add()` function that returns the sum of variable x and variable y,\n",
    "2. Pass in the parameters by using keyword argument.\n",
    "3. Pass in the parameters by using positional argument.\n",
    "4. Compare your result of keyword argument and positional argument."
   ]
  },
  {
   "cell_type": "code",
   "execution_count": 0,
   "metadata": {
    "application/vnd.databricks.v1+cell": {
     "cellMetadata": {
      "byteLimit": 2048000,
      "rowLimit": 10000
     },
     "inputWidgets": {},
     "nuid": "f15ba1ed-8c64-4348-898c-2d3bdd9ba07c",
     "showTitle": false,
     "title": ""
    }
   },
   "outputs": [],
   "source": [
    "# Start your code below:\n"
   ]
  },
  {
   "cell_type": "markdown",
   "metadata": {
    "application/vnd.databricks.v1+cell": {
     "cellMetadata": {},
     "inputWidgets": {},
     "nuid": "7080f42c-c383-476d-b4a3-bad2aadc32fc",
     "showTitle": false,
     "title": ""
    }
   },
   "source": [
    "## 9. Combining Functions (OPTIONAL)\n",
    "\n",
    "Do you know that you can use one function inside the body of another function?\n",
    "\n",
    "If we want to write a function called `average()` which takes a list of numbers and returns the average of that list.\n",
    "To get the mean of a list we first need to sum up all the values in this list and divide by the total number of values in this list."
   ]
  },
  {
   "cell_type": "code",
   "execution_count": 0,
   "metadata": {
    "application/vnd.databricks.v1+cell": {
     "cellMetadata": {
      "byteLimit": 2048000,
      "rowLimit": 10000
     },
     "inputWidgets": {},
     "nuid": "e8eda542-305f-4464-b219-9e03115610e1",
     "showTitle": false,
     "title": ""
    }
   },
   "outputs": [],
   "source": [
    "def find_sum(my_list):\n",
    "    a_sum = 0\n",
    "    for element in my_list:\n",
    "        a_sum += element\n",
    "    return a_sum\n",
    "\n",
    "def find_length(my_list):\n",
    "    length = 0\n",
    "    for element in my_list:\n",
    "        length +=1\n",
    "    return length"
   ]
  },
  {
   "cell_type": "markdown",
   "metadata": {
    "application/vnd.databricks.v1+cell": {
     "cellMetadata": {},
     "inputWidgets": {},
     "nuid": "64f4c030-2381-4a61-926b-753f6c9d9ea6",
     "showTitle": false,
     "title": ""
    }
   },
   "source": [
    "Now we can use `find_sum()` and `find_length()` inside our `average()` function like this:"
   ]
  },
  {
   "cell_type": "code",
   "execution_count": 0,
   "metadata": {
    "application/vnd.databricks.v1+cell": {
     "cellMetadata": {
      "byteLimit": 2048000,
      "rowLimit": 10000
     },
     "inputWidgets": {},
     "nuid": "e32f8272-73eb-49b2-959d-a3d0bb4015dc",
     "showTitle": false,
     "title": ""
    }
   },
   "outputs": [],
   "source": [
    "def average(list_of_numbers):\n",
    "    sum_list = find_sum(list_of_numbers)\n",
    "    length_of_list = find_length(list_of_numbers)\n",
    "    mean_list = sum_list / length_of_list\n",
    "    \n",
    "    return mean_list\n",
    "\n",
    "list_a = [5, 2, 11]\n",
    "average(list_a)"
   ]
  },
  {
   "cell_type": "markdown",
   "metadata": {
    "application/vnd.databricks.v1+cell": {
     "cellMetadata": {},
     "inputWidgets": {},
     "nuid": "4bd33275-c247-4fcb-b3c6-1289765eb32d",
     "showTitle": false,
     "title": ""
    }
   },
   "source": [
    "You can see that we used `find_sum()` and `find_length()` inside the body of the `average()` function. `list_of_numbers` is the parameter which we passed on to the `average()` function, and inside the `average()` function body, it becomes the argument for both `find_sum()` and `find_length()` function. \n",
    "\n",
    "You may ask why we write `find_sum()` and `find_length()` as two separate functions. The answer is what we learned in the previous session: reusability. Imagine we didn't write those two functions, our `average()` function would look like this:"
   ]
  },
  {
   "cell_type": "code",
   "execution_count": 0,
   "metadata": {
    "application/vnd.databricks.v1+cell": {
     "cellMetadata": {
      "byteLimit": 2048000,
      "rowLimit": 10000
     },
     "inputWidgets": {},
     "nuid": "3b6515e2-05ed-47cb-85d7-c704b3698a59",
     "showTitle": false,
     "title": ""
    }
   },
   "outputs": [],
   "source": [
    "def average(list_of_numbers):\n",
    "    #Finding the sum\n",
    "    sum = 0\n",
    "    for element in list_of_numbers:\n",
    "        sum += element\n",
    "    \n",
    "    #Finding the length\n",
    "    length = 0\n",
    "    for element in list_of_numbers:\n",
    "        length +=1\n",
    "   \n",
    "    mean_list = sum/length\n",
    "    \n",
    "    return mean_list"
   ]
  },
  {
   "cell_type": "markdown",
   "metadata": {
    "application/vnd.databricks.v1+cell": {
     "cellMetadata": {},
     "inputWidgets": {},
     "nuid": "2b24cb2e-c87b-4c8e-9acb-e62a876a1861",
     "showTitle": false,
     "title": ""
    }
   },
   "source": [
    "Doesn't this function seem a bit long for you? And we would have to write how to find the sum and how to find the length each time we want to perform such action. To write `find_sum()` and `find_length()` outside of the `average()` function enable us to not only use these two functions inside `average()`, but also all the other functions that need these two functions. \n",
    "\n",
    "Of course we can also shorten our average function like this:"
   ]
  },
  {
   "cell_type": "code",
   "execution_count": 0,
   "metadata": {
    "application/vnd.databricks.v1+cell": {
     "cellMetadata": {
      "byteLimit": 2048000,
      "rowLimit": 10000
     },
     "inputWidgets": {},
     "nuid": "2a513590-19aa-401c-b907-96e2b4e4a17a",
     "showTitle": false,
     "title": ""
    }
   },
   "outputs": [],
   "source": [
    "def average(list_of_numbers):\n",
    "    return find_sum(list_of_numbers)/find_length(list_of_numbers)"
   ]
  },
  {
   "cell_type": "markdown",
   "metadata": {
    "application/vnd.databricks.v1+cell": {
     "cellMetadata": {},
     "inputWidgets": {},
     "nuid": "abdfec09-54a3-4617-990b-b87d61e8ba84",
     "showTitle": false,
     "title": ""
    }
   },
   "source": [
    "Which looks super concise and neat. Now let's do a little more practice with writing and combining functions.\n",
    "\n",
    "### Task 1.6.9:\n",
    "Write a function named `mean()` that computes the mean for any column we want from a data set. Keep in mind reusability\n",
    "\n",
    "- This function takes in two inputs: a data set and an index value\n",
    "- Recreate the three functions we've already discussed before:\n",
    "    - A function `extract()` which takes in a data set and an index and returns the column of the data set corresponding to that index. \n",
    "    - A function `find_sum()` which takes in a list and returns the sum of all the elements in the list. \n",
    "    - A function `find_length()` which takes in a list and returns the length of that list.\n",
    "- Inside the body of the `mean()` function, use the `extract()` function to extract the values of a column into a separate list, and compute the mean by using `find_sum()` and `find_length()`.\n",
    "- The function should then return the mean of the column.\n",
    "\n",
    "Use the `mean()` function to compute the mean of the price column (index number 4) of `apps_data` and assign the result to a variable named `avg_price`."
   ]
  },
  {
   "cell_type": "code",
   "execution_count": 0,
   "metadata": {
    "application/vnd.databricks.v1+cell": {
     "cellMetadata": {
      "byteLimit": 2048000,
      "rowLimit": 10000
     },
     "inputWidgets": {},
     "nuid": "80062970-e287-4c39-b452-b049df3db07e",
     "showTitle": false,
     "title": ""
    }
   },
   "outputs": [],
   "source": [
    "# Start your code below:\n"
   ]
  },
  {
   "cell_type": "markdown",
   "metadata": {
    "application/vnd.databricks.v1+cell": {
     "cellMetadata": {},
     "inputWidgets": {},
     "nuid": "fefd0462-f958-4d43-b850-2dc85ed23156",
     "showTitle": false,
     "title": ""
    }
   },
   "source": [
    "## 10. Function vs. Method\n",
    "\n",
    "What is actually the difference between function and method? Let's take a closer look."
   ]
  },
  {
   "cell_type": "markdown",
   "metadata": {
    "application/vnd.databricks.v1+cell": {
     "cellMetadata": {},
     "inputWidgets": {},
     "nuid": "734a0a42-4ee5-42cc-9e01-2c1e32bd6adf",
     "showTitle": false,
     "title": ""
    }
   },
   "source": [
    "Definition of function: \n",
    "> A function is a block of code which only runs when it is called. You can pass data, known as parameters, into a function. A function can return data as a result. (w3schools)\n",
    "\n",
    "Remember at the beginning of the chapter we learned that to construct a function we need: **header** (which contains the def statement), **body** (where the magic happens), and **return statement**. You can think of function as it always **returns** something. (In case nothing is explicitly returned, a function automatically returns `None`.)\n",
    "\n",
    "See the example below:"
   ]
  },
  {
   "cell_type": "code",
   "execution_count": 0,
   "metadata": {
    "application/vnd.databricks.v1+cell": {
     "cellMetadata": {
      "byteLimit": 2048000,
      "rowLimit": 10000
     },
     "inputWidgets": {},
     "nuid": "588ff353-0da8-4350-8820-6a725610d007",
     "showTitle": false,
     "title": ""
    }
   },
   "outputs": [],
   "source": [
    "# test() is a function that prints \"test\" but returns nothing (or NONE)\n",
    "def test():\n",
    "    print(\"test\")\n",
    "\n",
    "a = test()\n",
    "print(a)"
   ]
  },
  {
   "cell_type": "markdown",
   "metadata": {
    "application/vnd.databricks.v1+cell": {
     "cellMetadata": {},
     "inputWidgets": {},
     "nuid": "ca16c321-2623-441b-bfe4-7abd5b365622",
     "showTitle": false,
     "title": ""
    }
   },
   "source": [
    "There are two types of functions in Python: \n",
    "- `User-Defined Functions` (like in the example above)\n",
    "- `Built-in Functions`\n",
    "\n",
    "`Built-in functions` are the functions that Python provides us with. For example, like the `sum()` function that we encountered previously.\n",
    "\n",
    "See example below:"
   ]
  },
  {
   "cell_type": "code",
   "execution_count": 0,
   "metadata": {
    "application/vnd.databricks.v1+cell": {
     "cellMetadata": {
      "byteLimit": 2048000,
      "rowLimit": 10000
     },
     "inputWidgets": {},
     "nuid": "9fd54aaf-c6df-40e3-b96a-159df2540418",
     "showTitle": false,
     "title": ""
    }
   },
   "outputs": [],
   "source": [
    "my_list = [1,2,3,4,5,6,7,8,9,10]\n",
    "\n",
    "# sum() is an example of Python built-in function\n",
    "sum(my_list)"
   ]
  },
  {
   "cell_type": "markdown",
   "metadata": {
    "application/vnd.databricks.v1+cell": {
     "cellMetadata": {},
     "inputWidgets": {},
     "nuid": "c3d6a751-4961-4c22-a60a-bfbd3bf4376d",
     "showTitle": false,
     "title": ""
    }
   },
   "source": [
    "`Method` is basically a function that is associated with a **class**. Generally, A function is associated with a **super class** - an **object**, as are all things in python.\n",
    "We will learn more about objects in a later chapter. For now, let's take a peak into what is possible. \n",
    "\n",
    "The **General Method Syntax** goes like this:"
   ]
  },
  {
   "cell_type": "markdown",
   "metadata": {
    "application/vnd.databricks.v1+cell": {
     "cellMetadata": {},
     "inputWidgets": {},
     "nuid": "2933239b-455d-4113-a0af-cc3d459a1db6",
     "showTitle": false,
     "title": ""
    }
   },
   "source": [
    "````python\n",
    "class NameOfTheClass:\n",
    "    def method_name():\n",
    "    ..................\n",
    "    # Method_Body\n",
    "    .............\n",
    "    \n",
    "````"
   ]
  },
  {
   "cell_type": "markdown",
   "metadata": {
    "application/vnd.databricks.v1+cell": {
     "cellMetadata": {},
     "inputWidgets": {},
     "nuid": "544579da-6cfb-4598-8f7c-664c309b5671",
     "showTitle": false,
     "title": ""
    }
   },
   "source": [
    "Now let's see a concrete example of method:"
   ]
  },
  {
   "cell_type": "code",
   "execution_count": 0,
   "metadata": {
    "application/vnd.databricks.v1+cell": {
     "cellMetadata": {
      "byteLimit": 2048000,
      "rowLimit": 10000
     },
     "inputWidgets": {},
     "nuid": "445f3f1b-8775-4a09-b35f-b9f6f93ff1b8",
     "showTitle": false,
     "title": ""
    }
   },
   "outputs": [],
   "source": [
    "class ComputerScience(object):\n",
    "    def my_method(self):\n",
    "        print(\"We are learning Python!\")\n",
    "        \n",
    "        \n",
    "python = ComputerScience()\n",
    "python.my_method()"
   ]
  },
  {
   "cell_type": "markdown",
   "metadata": {
    "application/vnd.databricks.v1+cell": {
     "cellMetadata": {},
     "inputWidgets": {},
     "nuid": "672e2304-62dc-4684-a39a-ace025650100",
     "showTitle": false,
     "title": ""
    }
   },
   "source": [
    "In the example above we have defined a class called `ComputerScience`. Afterwards we created an object called `python` from the class blueprint. We then called our custom-defined method called `my_method` with our object `python`.\n",
    "\n",
    "Do you now see the difference?\n",
    "\n",
    ">Differently than a function, methods are called on an object. \n",
    "\n",
    "Like in the example above, we called our method `my_method` from our object `python`."
   ]
  }
 ],
 "metadata": {
  "application/vnd.databricks.v1+notebook": {
   "dashboards": [],
   "language": "python",
   "notebookMetadata": {
    "pythonIndentUnit": 4
   },
   "notebookName": "6_Functions_Fundamentals",
   "widgets": {}
  }
 },
 "nbformat": 4,
 "nbformat_minor": 0
}
