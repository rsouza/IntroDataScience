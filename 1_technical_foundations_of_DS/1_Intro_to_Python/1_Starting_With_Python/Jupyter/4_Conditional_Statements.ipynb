{
 "cells": [
  {
   "cell_type": "markdown",
   "metadata": {
    "application/vnd.databricks.v1+cell": {
     "cellMetadata": {
      "byteLimit": 2048000,
      "rowLimit": 10000
     },
     "inputWidgets": {},
     "nuid": "79638768-29ae-42c6-b3b8-90d7b7af0178",
     "showTitle": false,
     "title": ""
    }
   },
   "source": [
    "## About This Notebook\n",
    "\n",
    "In this notebook we are going to dig into new topics. We will dig into logic and logical operators. In essence, when we code, we often want to control the *flow* of our code. For example, **IF** it is sunny, **THEN** go outside, **ELSE** stay inside. We are controlling the flow of what is happening with operators such as ``if``, ``or``, ``else``. We are going to discuss these three operators in this notebook.\n",
    "***"
   ]
  },
  {
   "cell_type": "markdown",
   "metadata": {
    "application/vnd.databricks.v1+cell": {
     "cellMetadata": {
      "byteLimit": 2048000,
      "rowLimit": 10000
     },
     "inputWidgets": {},
     "nuid": "7075bee7-bd66-418c-81d1-2ccdc0db07c8",
     "showTitle": false,
     "title": ""
    }
   },
   "source": [
    "## 1. If Statements"
   ]
  },
  {
   "cell_type": "code",
   "execution_count": 0,
   "metadata": {
    "application/vnd.databricks.v1+cell": {
     "cellMetadata": {
      "byteLimit": 2048000,
      "rowLimit": 10000
     },
     "inputWidgets": {},
     "nuid": "6b950c9f-d625-4a82-b18d-ea31eab297bf",
     "showTitle": false,
     "title": ""
    }
   },
   "outputs": [],
   "source": [
    "from csv import reader\n",
    "\n",
    "with open('../../../../Data/AppleStore.csv', encoding = 'utf8') as opened_file:\n",
    "  read_file = reader(opened_file)\n",
    "  apps_data = list(read_file)"
   ]
  },
  {
   "cell_type": "markdown",
   "metadata": {
    "application/vnd.databricks.v1+cell": {
     "cellMetadata": {
      "byteLimit": 2048000,
      "rowLimit": 10000
     },
     "inputWidgets": {},
     "nuid": "62c69c66-66a9-4b21-a766-5a80078c2905",
     "showTitle": false,
     "title": ""
    }
   },
   "source": [
    "We have previously computed the average rating for all 7197 mobile apps. But there is more information for us to dig through. We might want to answer more granular questions like:\n",
    "- What's the average rating of non-free apps?\n",
    "- What's the average rating of free apps?\n",
    "\n",
    "In order to answer the two questions above, **we need to first separate free apps from non-free apps** and compute the average ratings just like we did in the previous chapter.\n",
    "\n",
    "Before we isolate the ratings of the free apps from the non-free apps, let's quickly learn another useful command for lists, namely `list_name.append()`.\n",
    "See the code below:"
   ]
  },
  {
   "cell_type": "code",
   "execution_count": 0,
   "metadata": {
    "application/vnd.databricks.v1+cell": {
     "cellMetadata": {
      "byteLimit": 2048000,
      "rowLimit": 10000
     },
     "inputWidgets": {},
     "nuid": "9ac877d4-7847-40bf-81d7-a368257231b4",
     "showTitle": false,
     "title": ""
    }
   },
   "outputs": [],
   "source": [
    "number_list = [1,2,3]\n",
    "number_list.append(4)\n",
    "print(number_list)"
   ]
  },
  {
   "cell_type": "markdown",
   "metadata": {
    "application/vnd.databricks.v1+cell": {
     "cellMetadata": {
      "byteLimit": 2048000,
      "rowLimit": 10000
     },
     "inputWidgets": {},
     "nuid": "e9e833a3-5047-4ad4-9885-ecf7a9c1c7c4",
     "showTitle": false,
     "title": ""
    }
   },
   "source": [
    "As you can see, `number_list.append(4)` not only added the number 4 to the end our list, but it also modified the variable `number_list` in doing so, without having the reassign.\n",
    "\n",
    "Let's use this to create a new list containing only the ratings of the apps from `apps_data`. Note that we are iterating through `apps_data[1:]`, as the first row of `apps_data` (at index 0) contains the header of the dataset. "
   ]
  },
  {
   "cell_type": "code",
   "execution_count": 0,
   "metadata": {
    "application/vnd.databricks.v1+cell": {
     "cellMetadata": {
      "byteLimit": 2048000,
      "rowLimit": 10000
     },
     "inputWidgets": {},
     "nuid": "a25c6b4c-5bd0-4149-96fe-3e1c77e50c48",
     "showTitle": false,
     "title": ""
    }
   },
   "outputs": [],
   "source": [
    "from csv import reader\n",
    "\n",
    "with open('../../../../Data/AppleStore.csv', encoding = 'utf8') as opened_file:\n",
    "    read_file = reader(opened_file)\n",
    "    apps_data = list(read_file)\n",
    "\n",
    "ratings = []\n",
    "for row in apps_data[1:]:\n",
    "    rating = float(row[7])\n",
    "    ratings.append(rating)\n",
    "    \n",
    "print(ratings[:5])"
   ]
  },
  {
   "cell_type": "markdown",
   "metadata": {
    "application/vnd.databricks.v1+cell": {
     "cellMetadata": {
      "byteLimit": 2048000,
      "rowLimit": 10000
     },
     "inputWidgets": {},
     "nuid": "5057f582-693e-4bd0-b328-b354b5385a31",
     "showTitle": false,
     "title": ""
    }
   },
   "source": [
    "In the code above, there is a problem with the ratings list. It includes both the ratings for the free and non-free apps. How do we only extract the ratings of the free apps? We can add a <b> condition </b> to our code above. \n",
    "To differentiate free apps from non-free apps, free apps always have a price which is equal to 0.0. \n",
    "\n",
    "So if we implement a conditional statement where the price is equal to 0.0, then we will add this app to our ratings list. \n",
    "\n",
    "We can achieve this by using an `if` statement like below:"
   ]
  },
  {
   "cell_type": "code",
   "execution_count": 0,
   "metadata": {
    "application/vnd.databricks.v1+cell": {
     "cellMetadata": {
      "byteLimit": 2048000,
      "rowLimit": 10000
     },
     "inputWidgets": {},
     "nuid": "de508078-0554-4367-a663-5cf1bb7129f9",
     "showTitle": false,
     "title": ""
    }
   },
   "outputs": [],
   "source": [
    "ratings = []\n",
    "for row in apps_data[1:]:  #we iterated over the apps_data[1:]\n",
    "    rating = float(row[7]) #Assign the rating as a float to a variable named rating.\n",
    "    price = float(row[4])  #Assign the price as a float to a variable named price.\n",
    "    \n",
    "    if price == 0.0: #If the price is equal to 0.0, that means this is a free app\n",
    "        ratings.append(rating) # we append the rating to the ratings list"
   ]
  },
  {
   "cell_type": "markdown",
   "metadata": {
    "application/vnd.databricks.v1+cell": {
     "cellMetadata": {
      "byteLimit": 2048000,
      "rowLimit": 10000
     },
     "inputWidgets": {},
     "nuid": "8e116eac-9ba2-49ac-a96c-3545d067b4fe",
     "showTitle": false,
     "title": ""
    }
   },
   "source": [
    "In the code above, we have learned about the basics of the `if` statement.\n",
    "- An if statement starts with `if` and it ends with `:` (just like the for loop)\n",
    "- We use the `==` operator to check whether the price is equal to 0.0. Pay attention that `==` is not the same with `=`. (`=` is a variable assignment operator)\n",
    "- `ratings.append(rating)` will only be executed if the if statement is true."
   ]
  },
  {
   "cell_type": "markdown",
   "metadata": {
    "application/vnd.databricks.v1+cell": {
     "cellMetadata": {
      "byteLimit": 2048000,
      "rowLimit": 10000
     },
     "inputWidgets": {},
     "nuid": "9fe78192-b696-4965-b9d3-d6d2451f10c1",
     "showTitle": false,
     "title": ""
    }
   },
   "source": [
    "### Task 1.4.1:\n",
    "Complete the code in the editor to find the average rating for free apps.\n",
    "\n",
    "1. Inside the for loop:\n",
    "2. Assign the price of an app as a float to a variable named ``price``. The price is the fifth element in each row (don't forget that the index starts at 0).\n",
    "3. If `price == 0.0`, append the value stored in rating to the `free_apps_ratings` list using the `list_name.append()` command (note the `free_apps_ratings` is already defined in the code editor). Be careful with indentation.\n",
    "4. Outside the for loop body, compute the average rating of free apps. Assign the result to a variable named ``avg_rating_free``. The ratings are stored in the `free_apps_ratings` list. Hint: sum(...) / len(...)"
   ]
  },
  {
   "cell_type": "code",
   "execution_count": 0,
   "metadata": {
    "application/vnd.databricks.v1+cell": {
     "cellMetadata": {
      "byteLimit": 2048000,
      "rowLimit": 10000
     },
     "inputWidgets": {},
     "nuid": "caeec467-c9e9-4628-a6a9-e56eb3c9a233",
     "showTitle": false,
     "title": ""
    }
   },
   "outputs": [],
   "source": [
    "## Start your code below:\n",
    "from csv import reader\n",
    "\n",
    "with open('../../../../Data/AppleStore.csv', encoding = 'utf8') as opened_file:\n",
    "    read_file = reader(opened_file)\n",
    "    apps_data = list(read_file)\n",
    "\n",
    "free_apps_ratings = []\n",
    "for row in apps_data[1:]:\n",
    "    rating = float(row[7])\n",
    "    # Complete the code from here\n",
    "    price = float(row[4])\n",
    "    if price == 0.0:\n",
    "        free_apps_ratings.append(rating)\n",
    "\n",
    "avg_rating_free = sum(free_apps_ratings) / len(free_apps_ratings)\n",
    "\n",
    "print(avg_rating_free)"
   ]
  },
  {
   "cell_type": "markdown",
   "metadata": {
    "application/vnd.databricks.v1+cell": {
     "cellMetadata": {
      "byteLimit": 2048000,
      "rowLimit": 10000
     },
     "inputWidgets": {},
     "nuid": "ac411762-0077-49d6-9d43-ec3a937aab15",
     "showTitle": false,
     "title": ""
    }
   },
   "source": [
    "## 2. Booleans\n",
    "\n",
    "In the previous function, we have used if `price == 0.0` to check whether price is equal to 0.0.\n",
    "When we use the `==` operator to determine if two values are equal or not, the output returned will always be `True` or `False`."
   ]
  },
  {
   "cell_type": "code",
   "execution_count": 0,
   "metadata": {
    "application/vnd.databricks.v1+cell": {
     "cellMetadata": {
      "byteLimit": 2048000,
      "rowLimit": 10000
     },
     "inputWidgets": {},
     "nuid": "a542d5c8-80a6-4293-ba22-a3b987daac40",
     "showTitle": false,
     "title": ""
    }
   },
   "outputs": [],
   "source": [
    "print(10 == 10) #It's true that 10 is equal to 10\n",
    "print(10 == 2)  #It's false that 10 is equal to 2"
   ]
  },
  {
   "cell_type": "markdown",
   "metadata": {
    "application/vnd.databricks.v1+cell": {
     "cellMetadata": {
      "byteLimit": 2048000,
      "rowLimit": 10000
     },
     "inputWidgets": {},
     "nuid": "85066123-7796-45d4-aa91-6a5decee8839",
     "showTitle": false,
     "title": ""
    }
   },
   "source": [
    "Do you know the type of True and False?\n",
    "They are **booleans**."
   ]
  },
  {
   "cell_type": "code",
   "execution_count": 0,
   "metadata": {
    "application/vnd.databricks.v1+cell": {
     "cellMetadata": {
      "byteLimit": 2048000,
      "rowLimit": 10000
     },
     "inputWidgets": {},
     "nuid": "68b9ff7f-3477-4803-90f1-60f1ea402f1d",
     "showTitle": false,
     "title": ""
    }
   },
   "outputs": [],
   "source": [
    "type(True)"
   ]
  },
  {
   "cell_type": "code",
   "execution_count": 0,
   "metadata": {
    "application/vnd.databricks.v1+cell": {
     "cellMetadata": {
      "byteLimit": 2048000,
      "rowLimit": 10000
     },
     "inputWidgets": {},
     "nuid": "b819e31a-87cd-45c8-8f10-3771d0f7fec9",
     "showTitle": false,
     "title": ""
    }
   },
   "outputs": [],
   "source": [
    "type(False)"
   ]
  },
  {
   "cell_type": "markdown",
   "metadata": {
    "application/vnd.databricks.v1+cell": {
     "cellMetadata": {
      "byteLimit": 2048000,
      "rowLimit": 10000
     },
     "inputWidgets": {},
     "nuid": "1b49a617-1fcd-4ae2-bb15-691451ba8e3d",
     "showTitle": false,
     "title": ""
    }
   },
   "source": [
    "Boolean values, which are True and False, are very important to any if statement.\n",
    "An if statement must always be followed by one of the following:\n",
    "\n",
    "1. a Boolean value, or\n",
    "2. an expression that evaluates to a Boolean value.\n",
    "\n",
    "So it always has something to do with a Boolean value."
   ]
  },
  {
   "cell_type": "code",
   "execution_count": 0,
   "metadata": {
    "application/vnd.databricks.v1+cell": {
     "cellMetadata": {
      "byteLimit": 2048000,
      "rowLimit": 10000
     },
     "inputWidgets": {},
     "nuid": "0cc1a168-9104-4875-8e7a-7a3092823f38",
     "showTitle": false,
     "title": ""
    }
   },
   "outputs": [],
   "source": [
    "#1. A Boolean value.\n",
    "\n",
    "if True:\n",
    "    print(10)"
   ]
  },
  {
   "cell_type": "code",
   "execution_count": 0,
   "metadata": {
    "application/vnd.databricks.v1+cell": {
     "cellMetadata": {
      "byteLimit": 2048000,
      "rowLimit": 10000
     },
     "inputWidgets": {},
     "nuid": "7866a0e2-5861-4a76-92fa-904c8a692874",
     "showTitle": false,
     "title": ""
    }
   },
   "outputs": [],
   "source": [
    "#2. An expression that evaluates to a Boolean value.\n",
    "if 10 == 10:\n",
    "    print(10)"
   ]
  },
  {
   "cell_type": "markdown",
   "metadata": {
    "application/vnd.databricks.v1+cell": {
     "cellMetadata": {
      "byteLimit": 2048000,
      "rowLimit": 10000
     },
     "inputWidgets": {},
     "nuid": "0cefa1fd-66a2-4902-848a-46c212da0ca0",
     "showTitle": false,
     "title": ""
    }
   },
   "source": [
    "Pay attention: if you evaluate the expression with just one ``=``, you will get an error like this:"
   ]
  },
  {
   "cell_type": "code",
   "execution_count": 0,
   "metadata": {
    "application/vnd.databricks.v1+cell": {
     "cellMetadata": {
      "byteLimit": 2048000,
      "rowLimit": 10000
     },
     "inputWidgets": {},
     "nuid": "fc6c50a5-badc-44af-ab18-febccb630d7f",
     "showTitle": false,
     "title": ""
    }
   },
   "outputs": [],
   "source": [
    "# = is not the same as ==, a SyntaxError will be thrown\n",
    "if 10 = 10:\n",
    "    print(10)"
   ]
  },
  {
   "cell_type": "markdown",
   "metadata": {
    "application/vnd.databricks.v1+cell": {
     "cellMetadata": {
      "byteLimit": 2048000,
      "rowLimit": 10000
     },
     "inputWidgets": {},
     "nuid": "0902dfd8-c813-482f-ac37-d4f27278d18e",
     "showTitle": false,
     "title": ""
    }
   },
   "source": [
    "The indented code is only executed when if is followed by True. The code body will no be executed if the if is followed by False. See the example below:"
   ]
  },
  {
   "cell_type": "code",
   "execution_count": 0,
   "metadata": {
    "application/vnd.databricks.v1+cell": {
     "cellMetadata": {
      "byteLimit": 2048000,
      "rowLimit": 10000
     },
     "inputWidgets": {},
     "nuid": "40a2b6e3-8410-4762-ab2b-757c71ac2ac4",
     "showTitle": false,
     "title": ""
    }
   },
   "outputs": [],
   "source": [
    "if True:\n",
    "    print('This boolean is true.')\n",
    "\n",
    "if False:\n",
    "    print('This code will not be executed.')\n",
    "\n",
    "if True:\n",
    "    print('The code above was not executed because \"if\" was followed by \"False\".')"
   ]
  },
  {
   "cell_type": "markdown",
   "metadata": {
    "application/vnd.databricks.v1+cell": {
     "cellMetadata": {
      "byteLimit": 2048000,
      "rowLimit": 10000
     },
     "inputWidgets": {},
     "nuid": "646248a8-7149-41c0-a73e-d7da407fe016",
     "showTitle": false,
     "title": ""
    }
   },
   "source": [
    "Note that we can write as much code as we want after the if statement like this:"
   ]
  },
  {
   "cell_type": "code",
   "execution_count": 0,
   "metadata": {
    "application/vnd.databricks.v1+cell": {
     "cellMetadata": {
      "byteLimit": 2048000,
      "rowLimit": 10000
     },
     "inputWidgets": {},
     "nuid": "468c3425-7286-4248-8df0-096fbef4e979",
     "showTitle": false,
     "title": ""
    }
   },
   "outputs": [],
   "source": [
    "if True:\n",
    "    print(10)\n",
    "    print(100)\n",
    "    print(1000)"
   ]
  },
  {
   "cell_type": "markdown",
   "metadata": {
    "application/vnd.databricks.v1+cell": {
     "cellMetadata": {
      "byteLimit": 2048000,
      "rowLimit": 10000
     },
     "inputWidgets": {},
     "nuid": "92291fd5-4090-401f-aa43-33f94f33f43b",
     "showTitle": false,
     "title": ""
    }
   },
   "source": [
    "### Task 1.4.2:\n",
    "\n",
    "In the code editor, we've already initialized the variable <b> price </b> with a value of 0.\n",
    "Write the code so it matches the following:\n",
    "1. If price is equal to 0, print the string 'This is free'\n",
    "2. If price is equal to 1, print the string 'This is not free'"
   ]
  },
  {
   "cell_type": "code",
   "execution_count": 0,
   "metadata": {
    "application/vnd.databricks.v1+cell": {
     "cellMetadata": {
      "byteLimit": 2048000,
      "rowLimit": 10000
     },
     "inputWidgets": {},
     "nuid": "83c7b8ca-1121-4022-9130-1df589c96e68",
     "showTitle": false,
     "title": ""
    }
   },
   "outputs": [],
   "source": [
    "price = 0\n",
    "\n",
    "#start your code here:\n"
   ]
  },
  {
   "cell_type": "markdown",
   "metadata": {
    "application/vnd.databricks.v1+cell": {
     "cellMetadata": {
      "byteLimit": 2048000,
      "rowLimit": 10000
     },
     "inputWidgets": {},
     "nuid": "787ff25a-58b4-4da5-9206-b87d0b0a1705",
     "showTitle": false,
     "title": ""
    }
   },
   "source": [
    "## 3. The Average Rating of Non-free Apps\n",
    "\n",
    "In the diagram below, we created a list of lists named `app_and_price`, and we want to extract the names of the free apps in a separate list. To do that, we:"
   ]
  },
  {
   "cell_type": "code",
   "execution_count": 0,
   "metadata": {
    "application/vnd.databricks.v1+cell": {
     "cellMetadata": {
      "byteLimit": 2048000,
      "rowLimit": 10000
     },
     "inputWidgets": {},
     "nuid": "81800629-9e73-4969-b637-788f4840377c",
     "showTitle": false,
     "title": ""
    }
   },
   "outputs": [],
   "source": [
    "app_and_price = [['Facebook', 0], ['Instagram', 0], ['Plants vs. Zombies', 0.99], \n",
    "                 ['Minecraft: Pocket Edition', 6.99], ['Temple Run', 0],\n",
    "                 ['Plague Inc', 0.99]]\n",
    "\n",
    "#create an empty list named free_apps\n",
    "free_apps = []\n",
    "\n",
    "#iterate over app_and_price\n",
    "for app in app_and_price: # for each iteration, we:\n",
    "    name = app[0]         # extract the name of the app and assign it to name\n",
    "    price = app[1]        # extract the price of the app and assign it to price \n",
    "    \n",
    "    if price == 0: # if the price of the app is equal to 0\n",
    "        free_apps.append(name) # append the name of the app to free_apps\n",
    "        \n",
    "print(free_apps)"
   ]
  },
  {
   "cell_type": "markdown",
   "metadata": {
    "application/vnd.databricks.v1+cell": {
     "cellMetadata": {
      "byteLimit": 2048000,
      "rowLimit": 10000
     },
     "inputWidgets": {},
     "nuid": "8bf23ec1-7601-4225-a1b5-3805c7a38c55",
     "showTitle": false,
     "title": ""
    }
   },
   "source": [
    "Do you remember a very similar example that we did at the beginning of this chapter?"
   ]
  },
  {
   "cell_type": "code",
   "execution_count": 0,
   "metadata": {
    "application/vnd.databricks.v1+cell": {
     "cellMetadata": {
      "byteLimit": 2048000,
      "rowLimit": 10000
     },
     "inputWidgets": {},
     "nuid": "1e3cccc6-c63c-4321-b491-e7a705be340f",
     "showTitle": false,
     "title": ""
    }
   },
   "outputs": [],
   "source": [
    "#Import data set\n",
    "from csv import reader\n",
    "\n",
    "with open('../../../../Data/AppleStore.csv', encoding = 'utf8')  as opened_file:\n",
    "    read_file = reader(opened_file)\n",
    "    apps_data = list(read_file)\n",
    "\n",
    "ratings = []\n",
    "for row in apps_data[1:]:  # we looped through a list of lists named apps_data\n",
    "    rating = float(row[7]) # extract the rating of the app and assign the rating as a float to a variable named rating.\n",
    "    price = float(row[4])  # extract the price of the app and assign the price as a float to a variable named price.\n",
    "    \n",
    "    if price == 0.0: # If the price is equal to 0.0, that means this is a free app\n",
    "        ratings.append(rating) # we append the rating to the ratings list"
   ]
  },
  {
   "cell_type": "markdown",
   "metadata": {
    "application/vnd.databricks.v1+cell": {
     "cellMetadata": {
      "byteLimit": 2048000,
      "rowLimit": 10000
     },
     "inputWidgets": {},
     "nuid": "817d430a-cc66-4c0c-937b-cd4353ef5ac4",
     "showTitle": false,
     "title": ""
    }
   },
   "source": [
    "These two functions basically do the same task. To extract free apps from a mixed list of free and non-free apps.\n",
    "\n",
    "When we want to extract the free apps from the list, we used the condition \"if the price is equal to 0.0\" (`if price == 0.0`).\n",
    "How do we extract the non-free apps then? The \"is not equal to\" operator comes in the place. What we have done so far is by using the \"is equal to\" operator which is just the same as `==`. And if we want to extract the non-free apps, we can use the \"is not equal to\" operator which is just like this: `!=`.\n",
    "See the example below:"
   ]
  },
  {
   "cell_type": "code",
   "execution_count": 0,
   "metadata": {
    "application/vnd.databricks.v1+cell": {
     "cellMetadata": {
      "byteLimit": 2048000,
      "rowLimit": 10000
     },
     "inputWidgets": {},
     "nuid": "ecc6b7f3-3925-43bc-8c74-f863f8c9bc4c",
     "showTitle": false,
     "title": ""
    }
   },
   "outputs": [],
   "source": [
    "print(10 != 0)\n",
    "print(10 != 10)"
   ]
  },
  {
   "cell_type": "markdown",
   "metadata": {
    "application/vnd.databricks.v1+cell": {
     "cellMetadata": {
      "byteLimit": 2048000,
      "rowLimit": 10000
     },
     "inputWidgets": {},
     "nuid": "97b22ad3-3a3b-49d4-aa99-c2c61855c06c",
     "showTitle": false,
     "title": ""
    }
   },
   "source": [
    "How can we use the `!=` operator for our price variable then? It could look as follows:"
   ]
  },
  {
   "cell_type": "code",
   "execution_count": 0,
   "metadata": {
    "application/vnd.databricks.v1+cell": {
     "cellMetadata": {
      "byteLimit": 2048000,
      "rowLimit": 10000
     },
     "inputWidgets": {},
     "nuid": "159a3bc6-26b6-4aed-a34d-4c23a7d648c5",
     "showTitle": false,
     "title": ""
    }
   },
   "outputs": [],
   "source": [
    "price = 10\n",
    "\n",
    "print(price != 0)\n",
    "print(price != 10)\n",
    "\n",
    "if price != 0:\n",
    "    print('Not free')\n",
    "    \n",
    "if price != 10:\n",
    "    print('Price is not equal to 10')"
   ]
  },
  {
   "cell_type": "markdown",
   "metadata": {
    "application/vnd.databricks.v1+cell": {
     "cellMetadata": {
      "byteLimit": 2048000,
      "rowLimit": 10000
     },
     "inputWidgets": {},
     "nuid": "e0fdcca6-7337-4186-8c50-55929d4518e6",
     "showTitle": false,
     "title": ""
    }
   },
   "source": [
    "### Task 1.4.3 (OPTIONAL): \n",
    "\n",
    "Can you modify the code in the editor below to compute ``the average rating of non-free apps``?\n",
    "\n",
    "1. Change the name of the empty list from `free_apps_ratings` to `non_free_apps_raings`.\n",
    "2. Change the conditional statement `if price == 0.0` to extract the ratings of non-free apps.\n",
    "3. Change `free_apps_ratings.append(rating)` and append to the new list `non_free_apps_ratings`.\n",
    "4. Compute the average value by summing up the values in `non_free_apps_ratings` and dividing by the length of this list. Assign the result to ``avg_rating_non_free``."
   ]
  },
  {
   "cell_type": "code",
   "execution_count": 0,
   "metadata": {
    "application/vnd.databricks.v1+cell": {
     "cellMetadata": {
      "byteLimit": 2048000,
      "rowLimit": 10000
     },
     "inputWidgets": {},
     "nuid": "d0e8a1d8-818c-4c9e-b5bd-224f9f64bb26",
     "showTitle": false,
     "title": ""
    }
   },
   "outputs": [],
   "source": [
    "# INITIAL CODE\n",
    "opened_file = open('../../../../Data/AppleStore.csv', encoding='utf8')\n",
    "from csv import reader\n",
    "read_file = reader(opened_file)\n",
    "apps_data = list(read_file)\n",
    "\n",
    "free_apps_ratings = []\n",
    "for row in apps_data[1:]:\n",
    "    rating = float(row[7])\n",
    "    price = float(row[4])   \n",
    "    if price == 0.0:\n",
    "        free_apps_ratings.append(rating)\n",
    "    \n",
    "avg_rating_free = sum(free_apps_ratings) / len(free_apps_ratings)\n",
    "\n",
    "print(avg_rating_free)"
   ]
  },
  {
   "cell_type": "markdown",
   "metadata": {
    "application/vnd.databricks.v1+cell": {
     "cellMetadata": {
      "byteLimit": 2048000,
      "rowLimit": 10000
     },
     "inputWidgets": {},
     "nuid": "5ddc8f38-d161-4928-9243-7392e431d6c3",
     "showTitle": false,
     "title": ""
    }
   },
   "source": [
    "## 4. The Average Rating of Gaming Apps\n",
    "We have learned about the ``==`` and ``!=`` operators, and have only worked with integers and floats. Do you know we can use these two operators with other data types as well? "
   ]
  },
  {
   "cell_type": "code",
   "execution_count": 0,
   "metadata": {
    "application/vnd.databricks.v1+cell": {
     "cellMetadata": {
      "byteLimit": 2048000,
      "rowLimit": 10000
     },
     "inputWidgets": {},
     "nuid": "c217e4d2-06d3-4c6b-b55a-741ee804588e",
     "showTitle": false,
     "title": ""
    }
   },
   "outputs": [],
   "source": [
    "# operators with strings\n",
    "print('Games' == 'Music')\n",
    "print('Games' != 'Music')"
   ]
  },
  {
   "cell_type": "code",
   "execution_count": 0,
   "metadata": {
    "application/vnd.databricks.v1+cell": {
     "cellMetadata": {
      "byteLimit": 2048000,
      "rowLimit": 10000
     },
     "inputWidgets": {},
     "nuid": "9cf6071c-a354-44b2-9b9a-8c33e387dbd4",
     "showTitle": false,
     "title": ""
    }
   },
   "outputs": [],
   "source": [
    "# operators with lists\n",
    "print([1,2,3] == [1,2,3])\n",
    "print([1,2,3] == [1,2,3,4])"
   ]
  },
  {
   "cell_type": "markdown",
   "metadata": {
    "application/vnd.databricks.v1+cell": {
     "cellMetadata": {
      "byteLimit": 2048000,
      "rowLimit": 10000
     },
     "inputWidgets": {},
     "nuid": "debd0856-daba-4109-ba08-184f14bf3383",
     "showTitle": false,
     "title": ""
    }
   },
   "source": [
    "With such functionalities, we can answer more detailed questions about our data set like what the average rating of gaming and non-gaming apps is.\n",
    "\n",
    "We can see that from the data set that the ``prime_genre`` column describes the app genre. If the app is a gaming app, the genre of the app will be encoded as 'Games'.\n",
    "\n",
    "To compute the average rating of gaming apps, we can use the same approach as we took in the previous screen when we computed the average rating of free and non-free apps."
   ]
  },
  {
   "cell_type": "code",
   "execution_count": 0,
   "metadata": {
    "application/vnd.databricks.v1+cell": {
     "cellMetadata": {
      "byteLimit": 2048000,
      "rowLimit": 10000
     },
     "inputWidgets": {},
     "nuid": "0bfbf359-a1ed-4d65-a67f-92eb4dc60c53",
     "showTitle": false,
     "title": ""
    }
   },
   "outputs": [],
   "source": [
    "games_ratings = [] #initialize an empty list named games_ratings\n",
    "\n",
    "for row in apps_data[1:]: \n",
    "    rating = float(row[7]) # extract the rating information and assign the rating to the variable rating\n",
    "    genre = row[11] # extract the genre information and assign the genre to the variable named genre\n",
    "    \n",
    "    if genre == 'Games': # if the genre is 'Games'\n",
    "        games_ratings.append(rating) # append the rating value stored in rating to the list games_ratings\n",
    "\n",
    "avg_ratings_games = sum(games_ratings) / len(games_ratings) #compute the average rating of gaming apps\n",
    "print(avg_ratings_games)"
   ]
  },
  {
   "cell_type": "markdown",
   "metadata": {
    "application/vnd.databricks.v1+cell": {
     "cellMetadata": {
      "byteLimit": 2048000,
      "rowLimit": 10000
     },
     "inputWidgets": {},
     "nuid": "f35a97fd-a280-4c28-a672-3c135dd9fc86",
     "showTitle": false,
     "title": ""
    }
   },
   "source": [
    "### Task 1.4.4:\n",
    "With the code above, can you use the same techniques to compute the average rating of ``non-gaming apps``?"
   ]
  },
  {
   "cell_type": "code",
   "execution_count": 0,
   "metadata": {
    "application/vnd.databricks.v1+cell": {
     "cellMetadata": {
      "byteLimit": 2048000,
      "rowLimit": 10000
     },
     "inputWidgets": {},
     "nuid": "011313cb-667c-46e9-b0d4-bee45d5e3625",
     "showTitle": false,
     "title": ""
    }
   },
   "outputs": [],
   "source": [
    "# reading the dataset\n",
    "from csv import reader\n",
    "\n",
    "with open('../../../../Data/AppleStore.csv', encoding = 'utf8') as opened_file:\n",
    "  read_file = reader(opened_file)\n",
    "  apps_data = list(read_file)\n",
    "\n",
    "# start your code here:\n",
    "\n",
    "# Initialize an empty list named non_games_ratings.\n",
    "\n",
    "# Loop through the apps_data\n"
   ]
  },
  {
   "cell_type": "markdown",
   "metadata": {
    "application/vnd.databricks.v1+cell": {
     "cellMetadata": {
      "byteLimit": 2048000,
      "rowLimit": 10000
     },
     "inputWidgets": {},
     "nuid": "8852e023-af19-4b92-ba88-05e8f2f18297",
     "showTitle": false,
     "title": ""
    }
   },
   "source": [
    "## 5. Multiple Conditions\n",
    "### 5.1 The `and` operator\n",
    "\n",
    "So far, we've only worked with single conditions, like:\n",
    "\n",
    "- If price equals 0.0 (`if price == 0`)\n",
    "- If genre equals \"Games\" (`if genre == 'Games'`)\n",
    "\n",
    "However, single conditions won't help us answering some more complicated questions, like:\n",
    "\n",
    "- What's the average rating of free gaming apps?\n",
    "- What's the average rating of non-free gaming apps?\n",
    "- What's the average rating of free non-gaming apps?\n",
    "- What's the average rating of non-free non-gaming apps?\n",
    "\n",
    "To solve this, do you know that we can combine two or more conditions together into a single ``if`` statement using the ``and `` keyword just like the English language."
   ]
  },
  {
   "cell_type": "code",
   "execution_count": 0,
   "metadata": {
    "application/vnd.databricks.v1+cell": {
     "cellMetadata": {
      "byteLimit": 2048000,
      "rowLimit": 10000
     },
     "inputWidgets": {},
     "nuid": "d4e28d84-54da-471d-9b97-86fbe552ab17",
     "showTitle": false,
     "title": ""
    }
   },
   "outputs": [],
   "source": [
    "app1_price = 0\n",
    "app1_genre = 'Games'\n",
    "\n",
    "if app1_price == 0 and app1_genre == 'Games':\n",
    "    print('This is a free game!')\n",
    "    \n",
    "print(app1_price == 0 and app1_genre == 'Games')"
   ]
  },
  {
   "cell_type": "code",
   "execution_count": 0,
   "metadata": {
    "application/vnd.databricks.v1+cell": {
     "cellMetadata": {
      "byteLimit": 2048000,
      "rowLimit": 10000
     },
     "inputWidgets": {},
     "nuid": "be891171-9460-4b1c-8945-a4665f63f08e",
     "showTitle": false,
     "title": ""
    }
   },
   "outputs": [],
   "source": [
    "app1_price = 19\n",
    "app1_genre = 'Games'\n",
    "\n",
    "if app1_price == 0 and app1_genre == 'Games':\n",
    "    print('This is a free game!')\n",
    "    \n",
    "print(app1_price == 0 and app1_genre == 'Games')"
   ]
  },
  {
   "cell_type": "markdown",
   "metadata": {
    "application/vnd.databricks.v1+cell": {
     "cellMetadata": {
      "byteLimit": 2048000,
      "rowLimit": 10000
     },
     "inputWidgets": {},
     "nuid": "89e7570a-99a3-4c33-96e1-e325415b0b70",
     "showTitle": false,
     "title": ""
    }
   },
   "source": [
    "Do you see that the code `app1_price == 0 and app1_genre == 'Games'` outputs a single Boolean value?\n",
    "Python evaluate any combination of Booleans to a single boolean value:"
   ]
  },
  {
   "cell_type": "code",
   "execution_count": 0,
   "metadata": {
    "application/vnd.databricks.v1+cell": {
     "cellMetadata": {
      "byteLimit": 2048000,
      "rowLimit": 10000
     },
     "inputWidgets": {},
     "nuid": "1c2f211d-3a3f-4ccd-910f-a6f1df600c9d",
     "showTitle": false,
     "title": ""
    }
   },
   "outputs": [],
   "source": [
    "print(True and True)\n",
    "print(True and False)\n",
    "print(False and True)\n",
    "print(False and False)"
   ]
  },
  {
   "cell_type": "markdown",
   "metadata": {
    "application/vnd.databricks.v1+cell": {
     "cellMetadata": {
      "byteLimit": 2048000,
      "rowLimit": 10000
     },
     "inputWidgets": {},
     "nuid": "092e940c-7a64-46c0-aaac-97bd0ab5973c",
     "showTitle": false,
     "title": ""
    }
   },
   "source": [
    "The rule is that when we combine Booleans using ``and``, the end output ``True`` can only take place if expressions within are all ``True``. If there is any ``False`` within, then the end output can only be ``False``. \n",
    "\n",
    "You might recall the ``truth table`` of the AND operator from your university class, which explains exactly how the ``and`` operator functions in Python.  It looks something like this:\n",
    "\n",
    "<img src=\"https://www.chilimath.com/wp-content/uploads/2020/02/truth-table-conjunction-792x1024.gif\" width=\"200\" height=\"200\" />"
   ]
  },
  {
   "cell_type": "markdown",
   "metadata": {
    "application/vnd.databricks.v1+cell": {
     "cellMetadata": {
      "byteLimit": 2048000,
      "rowLimit": 10000
     },
     "inputWidgets": {},
     "nuid": "3f12d2c6-ce46-4a5b-bc00-a51b93cb7edb",
     "showTitle": false,
     "title": ""
    }
   },
   "source": [
    "### 5.2 The or Operator\n",
    "\n",
    "When we look at the `prime_genre` column we can see that there are the genres \"Social Networking\" and \"Games\".\n",
    "\n",
    "As a data scientist, sometimes we might want to figure out the average rating of both categories. That means we need to isolate the ratings of all the apps whose genre is either \"Social Networking\" or \"Games\" into a separate list, and then calculate the average value in the same way as we have always done until now.\n",
    "\n",
    "How do we isolate the ratings of these apps? This time, we can't use the `and` operator. We need an `or` operator, because it doesn't make any sense to use the `and` operator like this:\n",
    "<br>`if genre == 'Social Networking' and genre == 'Games'`\n",
    "\n",
    "Each app has only one genre in the `prime_genre` column, **you won't have any apps with both social networking and games as its genre**.\n",
    "This is where the ``or`` operator comes into place. Look at the code below:"
   ]
  },
  {
   "cell_type": "code",
   "execution_count": 0,
   "metadata": {
    "application/vnd.databricks.v1+cell": {
     "cellMetadata": {
      "byteLimit": 2048000,
      "rowLimit": 10000
     },
     "inputWidgets": {},
     "nuid": "04935338-6f7c-4570-b5de-32c259725d65",
     "showTitle": false,
     "title": ""
    }
   },
   "outputs": [],
   "source": [
    "games_social_ratings = []\n",
    "\n",
    "for row in apps_data[1:]:\n",
    "    ratings = float(row[7])\n",
    "    genre = row[11]\n",
    "    \n",
    "    if genre == 'Social Networking' or genre == 'Games':\n",
    "        games_social_ratings.append(rating)\n",
    "\n",
    "print(games_social_ratings[:5])\n",
    "len(games_social_ratings)"
   ]
  },
  {
   "cell_type": "markdown",
   "metadata": {
    "application/vnd.databricks.v1+cell": {
     "cellMetadata": {
      "byteLimit": 2048000,
      "rowLimit": 10000
     },
     "inputWidgets": {},
     "nuid": "35690e7b-35cc-436a-b5b4-1cb3ac6945dd",
     "showTitle": false,
     "title": ""
    }
   },
   "source": [
    "Do know then know how `or` operator behaves in Python? See below:"
   ]
  },
  {
   "cell_type": "code",
   "execution_count": 0,
   "metadata": {
    "application/vnd.databricks.v1+cell": {
     "cellMetadata": {
      "byteLimit": 2048000,
      "rowLimit": 10000
     },
     "inputWidgets": {},
     "nuid": "b612d23a-9808-48f2-a0c8-b599036ab16c",
     "showTitle": false,
     "title": ""
    }
   },
   "outputs": [],
   "source": [
    "# The OR operator\n",
    "print(True or True)\n",
    "print(True or False)\n",
    "print(False or True)\n",
    "print(False or False)"
   ]
  },
  {
   "cell_type": "markdown",
   "metadata": {
    "application/vnd.databricks.v1+cell": {
     "cellMetadata": {},
     "inputWidgets": {},
     "nuid": "eb4f2ae0-28e6-4eb9-80ea-a11aeb170415",
     "showTitle": false,
     "title": ""
    }
   },
   "source": [
    "Again the results from the code above can be summarized in a ``truth table``. It explains exactly how the ``or`` operator functions in Python.  \n",
    "\n",
    "| A     | B     | A ``or`` B |\n",
    "| ----- | ----- | ---------- |\n",
    "| True  | True  | True       |\n",
    "| True  | False | True       |\n",
    "| False | True  | True       |\n",
    "| False | False | False      |\n"
   ]
  },
  {
   "cell_type": "markdown",
   "metadata": {
    "application/vnd.databricks.v1+cell": {
     "cellMetadata": {
      "byteLimit": 2048000,
      "rowLimit": 10000
     },
     "inputWidgets": {},
     "nuid": "52d8f6f5-0d3f-4c0e-b66a-d48edbebbe1e",
     "showTitle": false,
     "title": ""
    }
   },
   "source": [
    "Let's compare it again to the `and` operator:"
   ]
  },
  {
   "cell_type": "code",
   "execution_count": 0,
   "metadata": {
    "application/vnd.databricks.v1+cell": {
     "cellMetadata": {
      "byteLimit": 2048000,
      "rowLimit": 10000
     },
     "inputWidgets": {},
     "nuid": "59b04fdb-5fd1-47a4-883d-a80c27c9c8d4",
     "showTitle": false,
     "title": ""
    }
   },
   "outputs": [],
   "source": [
    "# The AND operator\n",
    "print(True and True)\n",
    "print(True and False)\n",
    "print(False and True)\n",
    "print(False and False)"
   ]
  },
  {
   "cell_type": "markdown",
   "metadata": {
    "application/vnd.databricks.v1+cell": {
     "cellMetadata": {
      "byteLimit": 2048000,
      "rowLimit": 10000
     },
     "inputWidgets": {},
     "nuid": "2af10cbb-85bc-4104-970a-ccc2b3629484",
     "showTitle": false,
     "title": ""
    }
   },
   "source": [
    "You see that the ``and`` and the ``or`` operators behave differently. The `or` operator will evaluate the statement to ``True`` if **any** of the Booleans are ``True``:"
   ]
  },
  {
   "cell_type": "code",
   "execution_count": 0,
   "metadata": {
    "application/vnd.databricks.v1+cell": {
     "cellMetadata": {
      "byteLimit": 2048000,
      "rowLimit": 10000
     },
     "inputWidgets": {},
     "nuid": "7c2906d8-6ac3-48bf-83fb-2f0d88f12279",
     "showTitle": false,
     "title": ""
    }
   },
   "outputs": [],
   "source": [
    "print(False or False or False)\n",
    "print(False or False or False or True)"
   ]
  },
  {
   "cell_type": "markdown",
   "metadata": {
    "application/vnd.databricks.v1+cell": {
     "cellMetadata": {
      "byteLimit": 2048000,
      "rowLimit": 10000
     },
     "inputWidgets": {},
     "nuid": "dfde7f81-359e-4d23-9399-46ce17a7fc0b",
     "showTitle": false,
     "title": ""
    }
   },
   "source": [
    "Returning to our apps example, the condition `if genre == 'Social Networking' or genre == 'Games'` will only resolve to `False` when an app's genre is neither \"Social Networking\" nor \"Games.\" Otherwise, it will resolve to True."
   ]
  },
  {
   "cell_type": "markdown",
   "metadata": {
    "application/vnd.databricks.v1+cell": {
     "cellMetadata": {},
     "inputWidgets": {},
     "nuid": "47b7922e-3987-489f-b711-4e7909126a55",
     "showTitle": false,
     "title": ""
    }
   },
   "source": [
    "### 5.3 The ``not`` operator (OPTIONAL):\n",
    "\n",
    "Another usefull keyword when working with conditional statements and logigal operators is the `not` keyword.\n",
    "It can be used to negate the negate value of a boolean. In other words it is an operator that returns `True` if the statement is not `True`.\n",
    "\n",
    "| A     | ``not`` A |\n",
    "|------ | --------- |\n",
    "| True  | False     |\n",
    "| False | True      |\n",
    "\n",
    "Let's have a look at an example:"
   ]
  },
  {
   "cell_type": "code",
   "execution_count": 0,
   "metadata": {
    "application/vnd.databricks.v1+cell": {
     "cellMetadata": {},
     "inputWidgets": {},
     "nuid": "a29a503e-aef5-46f5-a5a6-08566da1d0b3",
     "showTitle": false,
     "title": ""
    }
   },
   "outputs": [],
   "source": [
    "keep_the_secret = True\n",
    "\n",
    "if not keep_the_secret:\n",
    "  print(\"This is the secret\")"
   ]
  },
  {
   "cell_type": "markdown",
   "metadata": {
    "application/vnd.databricks.v1+cell": {
     "cellMetadata": {},
     "inputWidgets": {},
     "nuid": "15bfcfce-f22d-41b5-98bc-0a2ad5f88a5b",
     "showTitle": false,
     "title": ""
    }
   },
   "source": [
    "Of course the ``not`` operator works in conjunciton with the previously introduced operators:"
   ]
  },
  {
   "cell_type": "code",
   "execution_count": 0,
   "metadata": {
    "application/vnd.databricks.v1+cell": {
     "cellMetadata": {
      "byteLimit": 2048000,
      "rowLimit": 10000
     },
     "inputWidgets": {},
     "nuid": "91d8d155-ad39-4c01-83c0-7a8aea769f3f",
     "showTitle": false,
     "title": ""
    }
   },
   "outputs": [],
   "source": [
    "first_bool = True\n",
    "second_bool = False\n",
    "\n",
    "if first_bool and not second_bool:\n",
    "  print(\"This expression equates 'True'!\")\n",
    "\n",
    "if not first_bool or second_bool:\n",
    "  print(\"This expression equates 'False'!\")"
   ]
  },
  {
   "cell_type": "markdown",
   "metadata": {
    "application/vnd.databricks.v1+cell": {
     "cellMetadata": {
      "byteLimit": 2048000,
      "rowLimit": 10000
     },
     "inputWidgets": {},
     "nuid": "1449ada4-c79b-4572-8b5e-69b4b9f4f67d",
     "showTitle": false,
     "title": ""
    }
   },
   "source": [
    "## 6. Combining Logical Operators\n",
    "\n",
    "In the previous exercise, the average rating of the apps whose genre is either \"Social Networking\" or \"Games.\" is computed. Now we can ask even more specific questions, like:\n",
    "\n",
    "What is the average rating of <b> free </b> apps whose genre is either \"Social Networking\" or \"Games\"?\n",
    "What is the average rating of <b> non-free </b> apps whose genre is either \"Social Networking\" or \"Games\"?\n",
    "\n",
    "To answer the first question, we need to isolate the apps that:\n",
    "\n",
    "- are in either the \"Social Networking\" or \"Games\" genre, and\n",
    "- have a price of 0.0.\n",
    "\n",
    "To isolate these apps, we can combine `or` with `and` in a single if statement:"
   ]
  },
  {
   "cell_type": "code",
   "execution_count": 0,
   "metadata": {
    "application/vnd.databricks.v1+cell": {
     "cellMetadata": {
      "byteLimit": 2048000,
      "rowLimit": 10000
     },
     "inputWidgets": {},
     "nuid": "b2ce5e01-7cfc-454a-8b8d-8a680f76d18b",
     "showTitle": false,
     "title": ""
    }
   },
   "outputs": [],
   "source": [
    "free_games_social_ratings = []\n",
    "\n",
    "for row in apps_data[1:]:\n",
    "    rating = float(row[7])\n",
    "    genre = row[11]\n",
    "    price = float(row[4])\n",
    "    \n",
    "    if(genre == 'Social Networking' or genre == 'Games') and price == 0:\n",
    "        free_games_social_ratings.append(rating)"
   ]
  },
  {
   "cell_type": "markdown",
   "metadata": {
    "application/vnd.databricks.v1+cell": {
     "cellMetadata": {
      "byteLimit": 2048000,
      "rowLimit": 10000
     },
     "inputWidgets": {},
     "nuid": "e8e0f937-0e15-4324-8ed4-a63f1b4df9d8",
     "showTitle": false,
     "title": ""
    }
   },
   "source": [
    "Notice that we enclosed the `genre == 'Social Networking' or genre == 'Games'` part within parentheses. This helps Python understand the specific logic we want for our if statement.\n",
    "If the parentheses are not applied correctly, Python will lead us to unwanted results."
   ]
  },
  {
   "cell_type": "markdown",
   "metadata": {
    "application/vnd.databricks.v1+cell": {
     "cellMetadata": {
      "byteLimit": 2048000,
      "rowLimit": 10000
     },
     "inputWidgets": {},
     "nuid": "829ab502-8fd5-4983-98c2-09d5018b2c3e",
     "showTitle": false,
     "title": ""
    }
   },
   "source": [
    "#### Attention\n",
    "Note that\n",
    "\n",
    "````python\n",
    "if (genre == 'Social Networking' or genre == 'Games') and price == 0:\n",
    "\n",
    "````\n",
    "is not the same as\n",
    "````python\n",
    "if genre == 'Social Networking' or (genre == 'Games' and price == 0):\n",
    "````"
   ]
  },
  {
   "cell_type": "code",
   "execution_count": 0,
   "metadata": {
    "application/vnd.databricks.v1+cell": {
     "cellMetadata": {
      "byteLimit": 2048000,
      "rowLimit": 10000
     },
     "inputWidgets": {},
     "nuid": "1ee51b57-1cdf-470d-8340-b685dbe2a98d",
     "showTitle": false,
     "title": ""
    }
   },
   "outputs": [],
   "source": [
    "# No parentheses\n",
    "print(True or False and False)"
   ]
  },
  {
   "cell_type": "markdown",
   "metadata": {
    "application/vnd.databricks.v1+cell": {
     "cellMetadata": {
      "byteLimit": 2048000,
      "rowLimit": 10000
     },
     "inputWidgets": {},
     "nuid": "38293b2d-aa18-4bb9-b033-bc74be33cc27",
     "showTitle": false,
     "title": ""
    }
   },
   "source": [
    "Now please observe the code below:"
   ]
  },
  {
   "cell_type": "code",
   "execution_count": 0,
   "metadata": {
    "application/vnd.databricks.v1+cell": {
     "cellMetadata": {
      "byteLimit": 2048000,
      "rowLimit": 10000
     },
     "inputWidgets": {},
     "nuid": "2cbc9069-d478-4e11-a5a2-ddb28ea1cfaa",
     "showTitle": false,
     "title": ""
    }
   },
   "outputs": [],
   "source": [
    "app_genre = 'Social Networking'\n",
    "app_price = 100 # This is a non-free app\n",
    "\n",
    "if app_genre == 'Social Networking' or app_genre == 'Games' and app_price == 0:\n",
    "    print('This gaming or social networking app is free!!')"
   ]
  },
  {
   "cell_type": "markdown",
   "metadata": {
    "application/vnd.databricks.v1+cell": {
     "cellMetadata": {
      "byteLimit": 2048000,
      "rowLimit": 10000
     },
     "inputWidgets": {},
     "nuid": "48876ea8-f082-49fa-a034-d088920b1c62",
     "showTitle": false,
     "title": ""
    }
   },
   "source": [
    "You see above that the code above has a <b> logical error </b>. We have printed 'This gaming or social networking app is free!!' for a non-free app. \n",
    "\n",
    "If we place the parentheses corretly, it makes a huge difference:"
   ]
  },
  {
   "cell_type": "code",
   "execution_count": 0,
   "metadata": {
    "application/vnd.databricks.v1+cell": {
     "cellMetadata": {
      "byteLimit": 2048000,
      "rowLimit": 10000
     },
     "inputWidgets": {},
     "nuid": "c269db7f-04a8-4bdf-83fc-4aef9e7dd114",
     "showTitle": false,
     "title": ""
    }
   },
   "outputs": [],
   "source": [
    "# Correctly placed parentheses\n",
    "print((True or False) and False)"
   ]
  },
  {
   "cell_type": "code",
   "execution_count": 0,
   "metadata": {
    "application/vnd.databricks.v1+cell": {
     "cellMetadata": {
      "byteLimit": 2048000,
      "rowLimit": 10000
     },
     "inputWidgets": {},
     "nuid": "5513e2fa-955b-44c2-927a-d9531d87e888",
     "showTitle": false,
     "title": ""
    }
   },
   "outputs": [],
   "source": [
    "app_genre = 'Social Networking'\n",
    "app_price = 100 #This is a non-free app\n",
    "\n",
    "\n",
    "if (app_genre == 'Social Networking' or app_genre == 'Games') and app_price == 0:\n",
    "    print('This gaming or social networking app is free!!')"
   ]
  },
  {
   "cell_type": "markdown",
   "metadata": {
    "application/vnd.databricks.v1+cell": {
     "cellMetadata": {
      "byteLimit": 2048000,
      "rowLimit": 10000
     },
     "inputWidgets": {},
     "nuid": "96b16c92-3476-4c2f-a98f-6316a28ca3ec",
     "showTitle": false,
     "title": ""
    }
   },
   "source": [
    "We see that now this expression is evaluated correctly. Now you see the importance of using parentheses correctly. So make sure you place your parentheses correctly!"
   ]
  },
  {
   "cell_type": "markdown",
   "metadata": {
    "application/vnd.databricks.v1+cell": {
     "cellMetadata": {
      "byteLimit": 2048000,
      "rowLimit": 10000
     },
     "inputWidgets": {},
     "nuid": "a5684d2e-21d1-4907-ab1a-4ecebfd62484",
     "showTitle": false,
     "title": ""
    }
   },
   "source": [
    "### Task 1.4.6:\n",
    "\n",
    "Modify the code below to compute also the average rating of non-free apps whose genre is either ``Social Networking`` or ``Games``. Assign the result to a variable named ``avg_non_free``, print it and compare to `avg_free`."
   ]
  },
  {
   "cell_type": "code",
   "execution_count": 0,
   "metadata": {
    "application/vnd.databricks.v1+cell": {
     "cellMetadata": {
      "byteLimit": 2048000,
      "rowLimit": 10000
     },
     "inputWidgets": {},
     "nuid": "915741b6-c2b1-44c6-b0f2-2e64bc2fb36e",
     "showTitle": false,
     "title": ""
    }
   },
   "outputs": [],
   "source": [
    "from csv import reader\n",
    "\n",
    "with open('../../../../Data/AppleStore.csv', encoding = 'utf8') as opened_file:\n",
    "    read_file = reader(opened_file)\n",
    "    apps_data = list(read_file)\n",
    "\n",
    "free_games_social_ratings = []\n",
    "non_free_ratings = []\n",
    "\n",
    "# edit the code here:\n",
    "for row in apps_data[1:]:\n",
    "    rating = float(row[7])\n",
    "    genre = row[11]\n",
    "    price = float(row[4])\n",
    "    \n",
    "    if (genre == 'Social Networking' or genre == 'Games') and price == 0:\n",
    "        free_games_social_ratings.append(rating)\n",
    "    \n",
    "avg_free = sum(free_games_social_ratings) / len(free_games_social_ratings)\n",
    "\n",
    "print(avg_free)\n"
   ]
  },
  {
   "cell_type": "markdown",
   "metadata": {
    "application/vnd.databricks.v1+cell": {
     "cellMetadata": {
      "byteLimit": 2048000,
      "rowLimit": 10000
     },
     "inputWidgets": {},
     "nuid": "c96297d8-14a2-47a1-8d61-41cdad0ea993",
     "showTitle": false,
     "title": ""
    }
   },
   "source": [
    "## 7. Comparison Operators\n",
    "\n",
    "Did you remember the equal to and non-equal to operators that we learned before? We used the `==` and `!=` operators to check whether two values are equal or not. These two operators are called `comparison operators`.\n",
    "\n",
    "Please see the <b>comparison operator table</b> below:\n",
    "\n",
    "| Comparison (text) |  Comparison operator |  Comparison (code)| \n",
    "|------------|:------:|----------:| \n",
    "| A is equal to B| == | A==B |\n",
    "| A is not equal to B |   != |   A !=B |\n",
    "| A is greater than B | >|  A > B |\n",
    "| A is greater than or equal to B |   >=  |   A >= B |\n",
    "|A is less than B|<| A < B| \n",
    "|A is less than or equal to B| < =| A <= B|\n",
    "\n",
    "What does it look when we put comparison operators into actual code?"
   ]
  },
  {
   "cell_type": "code",
   "execution_count": 0,
   "metadata": {
    "application/vnd.databricks.v1+cell": {
     "cellMetadata": {
      "byteLimit": 2048000,
      "rowLimit": 10000
     },
     "inputWidgets": {},
     "nuid": "e11ce27e-8482-492e-a6e3-1939803dd193",
     "showTitle": false,
     "title": ""
    }
   },
   "outputs": [],
   "source": [
    "print(10 > 2)\n",
    "print( 10 < 2)\n",
    "print (50 >=50)\n",
    "print( 30 <=15)"
   ]
  },
  {
   "cell_type": "markdown",
   "metadata": {
    "application/vnd.databricks.v1+cell": {
     "cellMetadata": {
      "byteLimit": 2048000,
      "rowLimit": 10000
     },
     "inputWidgets": {},
     "nuid": "f73b5a77-a6e1-4a64-ac2e-dda37589828c",
     "showTitle": false,
     "title": ""
    }
   },
   "source": [
    "Because a comparison operator will evaluate the expression and give us a single Boolean value as the final output, we can therefore also use such comparison operators inside the ``if`` statement. \n",
    "Like this:"
   ]
  },
  {
   "cell_type": "code",
   "execution_count": 0,
   "metadata": {
    "application/vnd.databricks.v1+cell": {
     "cellMetadata": {
      "byteLimit": 2048000,
      "rowLimit": 10000
     },
     "inputWidgets": {},
     "nuid": "2bdfec54-2755-41fa-9ad0-1f5bec47a8eb",
     "showTitle": false,
     "title": ""
    }
   },
   "outputs": [],
   "source": [
    "app_name = 'Ulysses'\n",
    "app_price = 24.99\n",
    "\n",
    "if app_price > 20:\n",
    "    print('This app is expensive!')\n",
    "    \n",
    "print(app_price > 20)"
   ]
  },
  {
   "cell_type": "markdown",
   "metadata": {
    "application/vnd.databricks.v1+cell": {
     "cellMetadata": {
      "byteLimit": 2048000,
      "rowLimit": 10000
     },
     "inputWidgets": {},
     "nuid": "9341dc59-3911-43cb-8593-d2551755e39d",
     "showTitle": false,
     "title": ""
    }
   },
   "source": [
    "These new comparison operators open up new possibilities for us to answer more granular questions about our data set like:\n",
    "\n",
    "- How many apps have a rating of 4 or greater?\n",
    "- What is the average rating of the apps that have a price greater than 9 Dollars?\n",
    "- How many apps have a price greater than 9 Dollars?\n",
    "- How many apps have a price smaller than or equal to 9 Dollars?"
   ]
  },
  {
   "cell_type": "markdown",
   "metadata": {
    "application/vnd.databricks.v1+cell": {
     "cellMetadata": {
      "byteLimit": 2048000,
      "rowLimit": 10000
     },
     "inputWidgets": {},
     "nuid": "40fc5f1c-6cc9-4043-b732-009edf71e6c4",
     "showTitle": false,
     "title": ""
    }
   },
   "source": [
    "To answer the first question, we can write the code like this:"
   ]
  },
  {
   "cell_type": "code",
   "execution_count": 0,
   "metadata": {
    "application/vnd.databricks.v1+cell": {
     "cellMetadata": {
      "byteLimit": 2048000,
      "rowLimit": 10000
     },
     "inputWidgets": {},
     "nuid": "6f7a4efe-eb68-443c-ab29-1fbdb4bbac71",
     "showTitle": false,
     "title": ""
    }
   },
   "outputs": [],
   "source": [
    "apps_4_or_greater = [] # initialized an empty list named apps_4_or_greater\n",
    "\n",
    "for row in apps_data[1:]:\n",
    "    rating = float(row[7]) # Stored the rating value as a float to a variable named rating\n",
    "    if rating >= 4.0:\n",
    "        apps_4_or_greater.append(rating)\n",
    "        \n",
    "len(apps_4_or_greater)"
   ]
  },
  {
   "cell_type": "markdown",
   "metadata": {
    "application/vnd.databricks.v1+cell": {
     "cellMetadata": {
      "byteLimit": 2048000,
      "rowLimit": 10000
     },
     "inputWidgets": {},
     "nuid": "8a81cc44-de5f-4ef7-8504-d90202192f38",
     "showTitle": false,
     "title": ""
    }
   },
   "source": [
    "Alternatively, we do not have to use ``append`` in this case:"
   ]
  },
  {
   "cell_type": "code",
   "execution_count": 0,
   "metadata": {
    "application/vnd.databricks.v1+cell": {
     "cellMetadata": {
      "byteLimit": 2048000,
      "rowLimit": 10000
     },
     "inputWidgets": {},
     "nuid": "cfd6ef5f-2d56-49c0-b108-439674d6ccb2",
     "showTitle": false,
     "title": ""
    }
   },
   "outputs": [],
   "source": [
    "n_of_apps = 0 #Initialized a variable n_of_apps with a value of 0\n",
    "\n",
    "for row in apps_data[1:]:\n",
    "    rating = float(row[7]) #Stored the rating value as a float to a variable named rating\n",
    "    if rating >= 4.0:\n",
    "        n_of_apps = n_of_apps + 1 #Incremented the value of n_of_apps by 1 \n",
    "        #if the value stored in rating was greater than or equal to 4.0\n",
    "        \n",
    "print(n_of_apps)"
   ]
  },
  {
   "cell_type": "markdown",
   "metadata": {
    "application/vnd.databricks.v1+cell": {
     "cellMetadata": {
      "byteLimit": 2048000,
      "rowLimit": 10000
     },
     "inputWidgets": {},
     "nuid": "d90bbf41-a694-4506-9410-ad33700d9894",
     "showTitle": false,
     "title": ""
    }
   },
   "source": [
    "## 8. The else Clause\n",
    "\n",
    "Let's say we need to use information from the price column to label each app as ``free`` or ``non-free``. If the price is equal to ``0.0``, we want to label the app ``free``. Otherwise, we want to label it ``non-free``. To summarize this is Python language it's like this:"
   ]
  },
  {
   "cell_type": "code",
   "execution_count": 0,
   "metadata": {
    "application/vnd.databricks.v1+cell": {
     "cellMetadata": {
      "byteLimit": 2048000,
      "rowLimit": 10000
     },
     "inputWidgets": {},
     "nuid": "237def45-7000-48dd-afe1-a200bd671f53",
     "showTitle": false,
     "title": ""
    }
   },
   "outputs": [],
   "source": [
    "apps_data = [['GoodNotes', 19.99], ['Amazon', 0.0], ['Chrome', 0.0], ['Snapchat', 0.0]]\n",
    "\n",
    "for app in apps_data:\n",
    "    price = app[1] #We saved the price value to a variable named price.\n",
    "    \n",
    "    if price == 0.0: #If price == 0.0\n",
    "        app.append('free') #we appended the string 'free' to the list app \n",
    "    if price != 0.0: #If price != 0.0\n",
    "        app.append('non-free') #we appended the string 'non-free' to the list \n",
    "        \n",
    "print(apps_data)"
   ]
  },
  {
   "cell_type": "markdown",
   "metadata": {
    "application/vnd.databricks.v1+cell": {
     "cellMetadata": {
      "byteLimit": 2048000,
      "rowLimit": 10000
     },
     "inputWidgets": {},
     "nuid": "d9be726e-9345-4435-a513-1adbd2221c2d",
     "showTitle": false,
     "title": ""
    }
   },
   "source": [
    "For each iteration, the computer evaluate two expressons: ``price == 0.0`` and ``price != 0.0``. But once we know that ``price == 0.0`` for an app, it's redundant to also check `price != 0.0` for the same app — if we know that the price is ``0``, it doesn't make logical sense to also check whether the price is different than `0`.\n",
    "\n",
    "In our small data set above, we have 3 free apps. The computer evaluated ``price == 0.0`` as ``True`` 3 times, and then checked whether ``price != 0.0`` for the same number of times. There are 3 **redundant** operations performed in this small dataset. \n",
    "\n",
    "However, if we have a data set with 5,000 free apps, we wouldn't want our computer to perform 5,000 redundant operations. This can be avoided using the if statement with an ``else`` clause:"
   ]
  },
  {
   "cell_type": "code",
   "execution_count": 0,
   "metadata": {
    "application/vnd.databricks.v1+cell": {
     "cellMetadata": {
      "byteLimit": 2048000,
      "rowLimit": 10000
     },
     "inputWidgets": {},
     "nuid": "52b84ffc-09aa-4c33-80db-799cfb847ea5",
     "showTitle": false,
     "title": ""
    }
   },
   "outputs": [],
   "source": [
    "apps_data = [['GoodNotes', 19.99], ['Amazon', 0.0], ['Chrome', 0.0], ['Snapchat', 0.0]]\n",
    "\n",
    "for app in apps_data:\n",
    "    price = app[1] # We saved the price value to a variable named price.\n",
    "    \n",
    "    if price == 0.0: # If price == 0.0\n",
    "        app.append('free') # we appended the string 'free' to the list app \n",
    "    else: # If price  is not 0.0,\n",
    "        app.append('non-free') # we appended the string 'non-free' to the list \n",
    "        \n",
    "print(apps_data)"
   ]
  },
  {
   "cell_type": "markdown",
   "metadata": {
    "application/vnd.databricks.v1+cell": {
     "cellMetadata": {
      "byteLimit": 2048000,
      "rowLimit": 10000
     },
     "inputWidgets": {},
     "nuid": "da277ab5-9d94-477a-a9f6-5d08278c94de",
     "showTitle": false,
     "title": ""
    }
   },
   "source": [
    "You see that the two chunks of code above give the same result, but the latter ist much more *sufficient* and *sophisticated*.\n",
    "\n",
    "Pay attention that the code within the body of an else clause is executed only if the if statement that precedes it resolves to `False`."
   ]
  },
  {
   "cell_type": "markdown",
   "metadata": {
    "application/vnd.databricks.v1+cell": {
     "cellMetadata": {
      "byteLimit": 2048000,
      "rowLimit": 10000
     },
     "inputWidgets": {},
     "nuid": "d5d20a74-bb16-43c7-8dd3-619091650cc1",
     "showTitle": false,
     "title": ""
    }
   },
   "source": [
    "~~~python\n",
    "if False:\n",
    "    print(10)\n",
    "else:\n",
    "    print(100)\n",
    "~~~\n",
    "\n",
    "Just like in our apps example:\n",
    "````python\n",
    "price = 5\n",
    "\n",
    "if price == 0:\n",
    "    print('free')\n",
    "else: \n",
    "    print('not free')\n",
    "````\n",
    "---"
   ]
  },
  {
   "cell_type": "markdown",
   "metadata": {
    "application/vnd.databricks.v1+cell": {
     "cellMetadata": {
      "byteLimit": 2048000,
      "rowLimit": 10000
     },
     "inputWidgets": {},
     "nuid": "58605703-e8a1-4d87-9239-74e1e1f25bcd",
     "showTitle": false,
     "title": ""
    }
   },
   "source": [
    "````python\n",
    "price = 0\n",
    "\n",
    "if price == 0:\n",
    "    print('free')\n",
    "else: \n",
    "    print('not free')\n",
    "````"
   ]
  },
  {
   "cell_type": "markdown",
   "metadata": {
    "application/vnd.databricks.v1+cell": {
     "cellMetadata": {
      "byteLimit": 2048000,
      "rowLimit": 10000
     },
     "inputWidgets": {},
     "nuid": "912485b0-8cf7-4425-84c9-14c402af5b41",
     "showTitle": false,
     "title": ""
    }
   },
   "source": [
    "In the apps example above, the code within the body of the ``else`` clause is executed only if ``price == 0.0`` evaluates to `False`. \n",
    "\n",
    "If `price == 0.0` is `True`, then the line\n",
    "\n",
    "````python\n",
    "app.append('free') \n",
    "````\n",
    "is executed, and computer moves forward *without* executing the else clause.\n",
    "\n",
    "Note that an else clause must be combined with a preceding if statement. We can have an if statement without an else clause, but we can't have an else clause without a preceding if statement. In the example below, the else clause alone throws out a ``SyntaxError``:"
   ]
  },
  {
   "cell_type": "code",
   "execution_count": 0,
   "metadata": {
    "application/vnd.databricks.v1+cell": {
     "cellMetadata": {
      "byteLimit": 2048000,
      "rowLimit": 10000
     },
     "inputWidgets": {},
     "nuid": "ff25fa43-074a-4dff-83ef-cad16ee482c7",
     "showTitle": false,
     "title": ""
    }
   },
   "outputs": [],
   "source": [
    "else:\n",
    "    print('This will not be printed, becausewe cannot have an else clause without a preceding if statement.' )"
   ]
  },
  {
   "cell_type": "markdown",
   "metadata": {
    "application/vnd.databricks.v1+cell": {
     "cellMetadata": {
      "byteLimit": 2048000,
      "rowLimit": 10000
     },
     "inputWidgets": {},
     "nuid": "657fb369-c2a4-4067-a613-88fa8329477f",
     "showTitle": false,
     "title": ""
    }
   },
   "source": [
    "When we combine a statement with a clause, we create a compound statement — combining an if statement with an else clause makes up a compound statement."
   ]
  },
  {
   "cell_type": "markdown",
   "metadata": {
    "application/vnd.databricks.v1+cell": {
     "cellMetadata": {
      "byteLimit": 2048000,
      "rowLimit": 10000
     },
     "inputWidgets": {},
     "nuid": "373ab57f-5693-4d3f-a92d-14a8cd03204b",
     "showTitle": false,
     "title": ""
    }
   },
   "source": [
    "## 9. The elif Clause\n",
    "\n",
    "What happens when we have a more granular label rather than just using \"free\" and \"non-free\" like below:\n",
    "\n",
    "| price | label |  \n",
    "|------------|:------:|\n",
    "| 0 | free|\n",
    "| > 0 - < 20 |  affordable |\n",
    "| 20 - 50 | expensive |\n",
    "|> 50| very expensive |"
   ]
  },
  {
   "cell_type": "markdown",
   "metadata": {
    "application/vnd.databricks.v1+cell": {
     "cellMetadata": {
      "byteLimit": 2048000,
      "rowLimit": 10000
     },
     "inputWidgets": {},
     "nuid": "0caa85db-173d-4f89-b673-e3e71ee121b7",
     "showTitle": false,
     "title": ""
    }
   },
   "source": [
    "Using what we learned from the previous section, our code will like below:"
   ]
  },
  {
   "cell_type": "code",
   "execution_count": 0,
   "metadata": {
    "application/vnd.databricks.v1+cell": {
     "cellMetadata": {
      "byteLimit": 2048000,
      "rowLimit": 10000
     },
     "inputWidgets": {},
     "nuid": "e10bb185-78a7-4614-a714-bebce45750eb",
     "showTitle": false,
     "title": ""
    }
   },
   "outputs": [],
   "source": [
    "apps_data = [['GoodNotes', 19.99], ['Call of Duty Zombies', 5.0], ['Notability', 29.99], ['Snapchat', 0.0]]\n",
    "\n",
    "for app in apps_data:\n",
    "    price = app[1] \n",
    "    \n",
    "    if price == 0.0: \n",
    "        app.append('free') \n",
    "    if price > 0.0 and price < 20:\n",
    "        app.append('affordable')\n",
    "    if price >= 20 and price < 50:\n",
    "        app.append('expensive')\n",
    "    if price >= 50:\n",
    "        app.append('very expensive')\n",
    "        \n",
    "print(apps_data)"
   ]
  },
  {
   "cell_type": "markdown",
   "metadata": {
    "application/vnd.databricks.v1+cell": {
     "cellMetadata": {
      "byteLimit": 2048000,
      "rowLimit": 10000
     },
     "inputWidgets": {},
     "nuid": "08debcc4-8505-4fb3-a93c-fefbee56c82e",
     "showTitle": false,
     "title": ""
    }
   },
   "source": [
    "When an app is free, ``price == 0.0`` evaluates to ``True`` and ``app.append('free')`` is executed. But then the computer continues to do redundant operations — it checks whether:\n",
    "\n",
    "-  `price > 0 and price < 20`\n",
    "-  `price >= 20 and price < 50`\n",
    "-  `price >= 50`\n",
    "\n",
    "We already know the three conditions above will evaluate to False once we find out that `price == 0.0` is `True`. To stop the computer from doing redundant operations, we can use **elif clauses**:"
   ]
  },
  {
   "cell_type": "code",
   "execution_count": 0,
   "metadata": {
    "application/vnd.databricks.v1+cell": {
     "cellMetadata": {
      "byteLimit": 2048000,
      "rowLimit": 10000
     },
     "inputWidgets": {},
     "nuid": "ff7e00a2-13c2-4576-a662-3b6292cf60a7",
     "showTitle": false,
     "title": ""
    }
   },
   "outputs": [],
   "source": [
    "apps_data = [['GoodNotes', 19.99], ['Call of Duty Zombies', 5.0], ['Notability', 29.99], ['Snapchat', 0.0]]\n",
    "\n",
    "for app in apps_data:\n",
    "    price = app[1] \n",
    "    \n",
    "    if price == 0.0: \n",
    "        app.append('free') \n",
    "    elif price > 0.0 and price < 20:\n",
    "        app.append('affordable')\n",
    "    elif price >= 20 and price < 50:\n",
    "        app.append('expensive')\n",
    "    elif price >= 50:\n",
    "        app.append('very expensive')\n",
    "        \n",
    "print(apps_data)"
   ]
  },
  {
   "cell_type": "markdown",
   "metadata": {
    "application/vnd.databricks.v1+cell": {
     "cellMetadata": {
      "byteLimit": 2048000,
      "rowLimit": 10000
     },
     "inputWidgets": {},
     "nuid": "6fee3023-b433-428d-b883-30821539903f",
     "showTitle": false,
     "title": ""
    }
   },
   "source": [
    "The code within the body of an elif clause is executed only if:\n",
    "\n",
    "- The preceding if statement (or the other preceding elif clauses) resolves to `False`; and\n",
    "- The condition specified after the elif keyword evaluates to `True`.\n",
    "\n",
    "For example, if `price == 0.0` is evaluated to be `True`, the computer will execute `app.append('free')` and jump out of this section of code (skip the rest of the elif clauses).\n",
    "\n",
    "Notice that if we replace the last `elif` with `else` instead, the statement app.append('very expensive') will be executed even if the price has a value of -5 or -100 like this:"
   ]
  },
  {
   "cell_type": "code",
   "execution_count": 0,
   "metadata": {
    "application/vnd.databricks.v1+cell": {
     "cellMetadata": {
      "byteLimit": 2048000,
      "rowLimit": 10000
     },
     "inputWidgets": {},
     "nuid": "9b75364c-18f6-46dc-a9db-291032a969b2",
     "showTitle": false,
     "title": ""
    }
   },
   "outputs": [],
   "source": [
    "apps_data = [['GoodNotes', -19.99], ['Call of Duty Zombies', -5.0], ['Notability', 29.99], ['Snapchat', 0.0]]\n",
    "\n",
    "for app in apps_data:\n",
    "    price = app[1] \n",
    "    \n",
    "    if price == 0.0: \n",
    "        app.append('free') \n",
    "    elif price > 0.0 and price < 20:\n",
    "        app.append('affordable')\n",
    "    elif price >= 20 and price < 50:\n",
    "        app.append('expensive')\n",
    "    else:\n",
    "        app.append('very expensive')\n",
    "        \n",
    "print(apps_data)"
   ]
  },
  {
   "cell_type": "markdown",
   "metadata": {
    "application/vnd.databricks.v1+cell": {
     "cellMetadata": {
      "byteLimit": 2048000,
      "rowLimit": 10000
     },
     "inputWidgets": {},
     "nuid": "9be935d1-21dc-45e0-8aff-5f8b9fa3aa46",
     "showTitle": false,
     "title": ""
    }
   },
   "source": [
    "Now let's have some practice with the `else` and `elif` statements.\n",
    "### Task 1.4.9 (OPTIONAL):\n",
    "\n",
    "1. Complete the code in the editor to label each app as ``free``, ``affordable``, ``expensive``, or ``very expensive``. Inside the loop:\n",
    "  - If the price of the app is 0, label the app as ``free`` by appending the string ``free`` to the current iteration variable.\n",
    "  - If the price of the app is greater than 0 and less than 20, label the app as ``affordable``. For efficiency purposes, use an elif clause.\n",
    "  - If the price of the app is greater or equal to 20 and less than 50, label the app as ``expensive``. For efficiency purposes, use an elif clause.\n",
    "  - If the price of the app is greater or equal to 50, label the app as ``very expensive``. For efficiency purposes, use an elif clause.\n",
    "2. Name the newly created column ``price_label`` by appending the string ``price_label`` to the first row of the ``apps_data`` data set.\n",
    "3. Inspect the header row and the first five rows to see some of the changes you made."
   ]
  },
  {
   "cell_type": "code",
   "execution_count": 0,
   "metadata": {
    "application/vnd.databricks.v1+cell": {
     "cellMetadata": {
      "byteLimit": 2048000,
      "rowLimit": 10000
     },
     "inputWidgets": {},
     "nuid": "271b5907-4a66-45ff-a1c8-713587a7e855",
     "showTitle": false,
     "title": ""
    }
   },
   "outputs": [],
   "source": [
    "# INITIAL CODE\n",
    "from csv import reader\n",
    "\n",
    "with open('../../../../Data/AppleStore.csv', encoding = 'utf8') as opened_file:\n",
    "    read_file = reader(opened_file)\n",
    "    apps_data = list(read_file)\n",
    "\n",
    "for app in apps_data[1:]:\n",
    "    price = float(app[4])\n",
    "    # Complete code from here\n",
    "    "
   ]
  },
  {
   "cell_type": "markdown",
   "metadata": {
    "application/vnd.databricks.v1+cell": {
     "cellMetadata": {
      "byteLimit": 2048000,
      "rowLimit": 10000
     },
     "inputWidgets": {},
     "nuid": "1581e7dd-2b22-4d2b-bb63-a98658cb3885",
     "showTitle": false,
     "title": ""
    }
   },
   "source": [
    "In this chapter, we learned to combine conditional statements and clauses (`if`, `else`, `elif`) with logical operators (`and`, `or`) and comparison operators (`==`, `!=`, `>`, `>=`, `<`, `<=`) to answer some granular and more complicated questions."
   ]
  }
 ],
 "metadata": {
  "application/vnd.databricks.v1+notebook": {
   "dashboards": [],
   "language": "python",
   "notebookMetadata": {
    "pythonIndentUnit": 2
   },
   "notebookName": "4_Conditional_Statements",
   "widgets": {}
  }
 },
 "nbformat": 4,
 "nbformat_minor": 0
}
