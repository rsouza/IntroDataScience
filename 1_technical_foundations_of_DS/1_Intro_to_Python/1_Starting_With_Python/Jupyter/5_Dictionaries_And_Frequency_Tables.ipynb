{
 "cells": [
  {
   "cell_type": "markdown",
   "metadata": {
    "application/vnd.databricks.v1+cell": {
     "cellMetadata": {
      "byteLimit": 2048000,
      "rowLimit": 10000
     },
     "inputWidgets": {},
     "nuid": "10837530-77bd-4bf0-aadf-ab9496c77d3e",
     "showTitle": false,
     "title": ""
    }
   },
   "source": [
    "## About This Notebook\n",
    "\n",
    "In this notebook, we are moving towards a very important new concept called **dictionary**. We already know how to work with lists and lists of lists (which can store data sets). These are however rather basic forms of data. Dictionaries offer us a key/value approach to store data. For example, we might have looped through a list of lists and extracted certain *information* into a dictionary. \n",
    "***\n",
    "\n",
    "## 1. Dictionaries"
   ]
  },
  {
   "cell_type": "markdown",
   "metadata": {
    "application/vnd.databricks.v1+cell": {
     "cellMetadata": {
      "byteLimit": 2048000,
      "rowLimit": 10000
     },
     "inputWidgets": {},
     "nuid": "a355040a-0fb2-4990-93ab-bf424dcf7df8",
     "showTitle": false,
     "title": ""
    }
   },
   "source": [
    "In the previous notebook we worked with the `AppleStore.csv` data set. The `cont_rating` column provides a lot of information regarding the content rating of each app. See below:<br>\n",
    "\n",
    "|Content rating |Number of apps|\n",
    "|--|--|\n",
    "|4+|4,433|\n",
    "|9+|987|\n",
    "|12+|1,155|\n",
    "|17+|622|"
   ]
  },
  {
   "cell_type": "markdown",
   "metadata": {
    "application/vnd.databricks.v1+cell": {
     "cellMetadata": {
      "byteLimit": 2048000,
      "rowLimit": 10000
     },
     "inputWidgets": {},
     "nuid": "93aed434-4d46-44d6-b238-507600073a2e",
     "showTitle": false,
     "title": ""
    }
   },
   "source": [
    "How can we store the data above? We can do it in two ways:\n",
    "- Using two separate lists\n",
    "- Using a single list of lists"
   ]
  },
  {
   "cell_type": "code",
   "execution_count": 0,
   "metadata": {
    "application/vnd.databricks.v1+cell": {
     "cellMetadata": {
      "byteLimit": 2048000,
      "rowLimit": 10000
     },
     "inputWidgets": {},
     "nuid": "8bdad1f6-422a-41fc-a948-b507db296162",
     "showTitle": false,
     "title": ""
    }
   },
   "outputs": [],
   "source": [
    "# Two lists\n",
    "content_ratings = ['4+', '9+', '12+', '17+']\n",
    "numbers = [4433, 987, 1155, 622]\n",
    "\n",
    "# A list of lists\n",
    "content_rating_numbers = [['4+', '9+', '12+', '17+'], [4433, 987, 1155, 622]]"
   ]
  },
  {
   "cell_type": "markdown",
   "metadata": {
    "application/vnd.databricks.v1+cell": {
     "cellMetadata": {
      "byteLimit": 2048000,
      "rowLimit": 10000
     },
     "inputWidgets": {},
     "nuid": "ea6deafa-adf6-4558-847f-e6cda50b9c93",
     "showTitle": false,
     "title": ""
    }
   },
   "source": [
    "Looking at the lists above, you may be confused which content rating corresponds to which number. Each list element has an index number and we will transform the index numbers to content rating values. We can do this using a <b> dictionary </b> like this:"
   ]
  },
  {
   "cell_type": "code",
   "execution_count": 0,
   "metadata": {
    "application/vnd.databricks.v1+cell": {
     "cellMetadata": {
      "byteLimit": 2048000,
      "rowLimit": 10000
     },
     "inputWidgets": {},
     "nuid": "1ded9098-ce59-4d3f-8660-5febe6e10e3a",
     "showTitle": false,
     "title": ""
    }
   },
   "outputs": [],
   "source": [
    "content_ratings = {'4+':4433, '9+':987, '12+':1155, '17+':622}\n",
    "print(content_ratings)"
   ]
  },
  {
   "cell_type": "markdown",
   "metadata": {
    "application/vnd.databricks.v1+cell": {
     "cellMetadata": {
      "byteLimit": 2048000,
      "rowLimit": 10000
     },
     "inputWidgets": {},
     "nuid": "c3af2a5a-1c99-4beb-8f11-71c32bcb7a03",
     "showTitle": false,
     "title": ""
    }
   },
   "source": [
    "What we have done above is:\n",
    "- Mapped each content rating to its corresponding number by following an `index:value` pattern. \n",
    "- Separated each pair with a comma\n",
    "- Surrounded the sequence with curly braces {}"
   ]
  },
  {
   "cell_type": "markdown",
   "metadata": {
    "application/vnd.databricks.v1+cell": {
     "cellMetadata": {
      "byteLimit": 2048000,
      "rowLimit": 10000
     },
     "inputWidgets": {},
     "nuid": "a158bc8a-d721-490b-9ae1-42e0bfa9f8b4",
     "showTitle": false,
     "title": ""
    }
   },
   "source": [
    "## 2. Indexing (IMPORTANT)\n",
    "\n",
    "We can change the index numbers of a list to content rating values in a dictionary. So the connection between content ratings their corresponding numbers becomes much clearer.\n",
    "\n",
    "Now the question arises of how we can retrieve the individual values of the content_ratings dictionary.  We can use indices like we did with the individual list elements following a `variable_name[index]` pattern:"
   ]
  },
  {
   "cell_type": "code",
   "execution_count": 0,
   "metadata": {
    "application/vnd.databricks.v1+cell": {
     "cellMetadata": {
      "byteLimit": 2048000,
      "rowLimit": 10000
     },
     "inputWidgets": {},
     "nuid": "906c1447-c7fb-4c4a-b431-839f176f5504",
     "showTitle": false,
     "title": ""
    }
   },
   "outputs": [],
   "source": [
    "content_ratings = {'4+':4433, '9+':987, '12+':1155, '17+':622}\n",
    "print(content_ratings['4+'])\n",
    "print(content_ratings['12+'])"
   ]
  },
  {
   "cell_type": "markdown",
   "metadata": {
    "application/vnd.databricks.v1+cell": {
     "cellMetadata": {
      "byteLimit": 2048000,
      "rowLimit": 10000
     },
     "inputWidgets": {},
     "nuid": "d21fdba0-a34e-4d03-afea-4461b6a5eaaa",
     "showTitle": false,
     "title": ""
    }
   },
   "source": [
    "The indexing of dictionary is something different than the list. \n",
    "> The order of the dictionary is not necessarily preserved whereas in the lists, the order is **always** preserved.\n",
    "\n",
    "For example, the index value 0 always retrieves the list element that's positioned first in a list. With dictionaries, there is no direct connection between the index of a value and the position of that value in the dictionary. That means that the order is unimportant. The index value '4+' will retrieve tha value 4433 no matter its position. It could be the first element, or the last element in the dictionary, is doesn't matter."
   ]
  },
  {
   "cell_type": "code",
   "execution_count": 0,
   "metadata": {
    "application/vnd.databricks.v1+cell": {
     "cellMetadata": {
      "byteLimit": 2048000,
      "rowLimit": 10000
     },
     "inputWidgets": {},
     "nuid": "3fecff2a-b8da-459c-8917-2be82f1e51d1",
     "showTitle": false,
     "title": ""
    }
   },
   "outputs": [],
   "source": [
    "content_ratings = {'4+':4433, '9+':987, '12+':1155, '17+':622}\n",
    "print(content_ratings)"
   ]
  },
  {
   "cell_type": "markdown",
   "metadata": {
    "application/vnd.databricks.v1+cell": {
     "cellMetadata": {
      "byteLimit": 2048000,
      "rowLimit": 10000
     },
     "inputWidgets": {},
     "nuid": "3b4ff159-d21e-4e87-b6da-11d60943db68",
     "showTitle": false,
     "title": ""
    }
   },
   "source": [
    "### Task 1.5.2:\n",
    "\n",
    "1. Retrieve values from the ``content_ratings`` dictionary.\n",
    "    - Assign the value at index `'9+'` to a variable named `over_9`.\n",
    "    - Assign the value at index `'17+'` to a variable named `over_17`.\n",
    "2. Print `over_9` and `over_17`."
   ]
  },
  {
   "cell_type": "code",
   "execution_count": 0,
   "metadata": {
    "application/vnd.databricks.v1+cell": {
     "cellMetadata": {
      "byteLimit": 2048000,
      "rowLimit": 10000
     },
     "inputWidgets": {},
     "nuid": "8b2d6c76-87af-4afd-8f39-69b78cd695eb",
     "showTitle": false,
     "title": ""
    }
   },
   "outputs": [],
   "source": [
    "### Start your code below:\n"
   ]
  },
  {
   "cell_type": "markdown",
   "metadata": {
    "application/vnd.databricks.v1+cell": {
     "cellMetadata": {
      "byteLimit": 2048000,
      "rowLimit": 10000
     },
     "inputWidgets": {},
     "nuid": "4ffbb25f-02ce-4550-aa98-3cc18e8601f4",
     "showTitle": false,
     "title": ""
    }
   },
   "source": [
    "## 3. Alternative way of Creating a Dictionary\n",
    "\n",
    "There is an alternative way of creating a dictionary like this:\n",
    "1. Create an empty dictionary.\n",
    "2. Add values one by one to that empty dictionary.\n",
    "    - like this: `dictionary_name[index] = value`\n",
    "    \n",
    "Take for example, if we want to add a value 4455 with an index `'5+'` to a dictionary named `content_ratings`, we need to use the code:\n",
    "\n",
    "````python\n",
    "content_ratings['5+'] = 4455\n",
    "````"
   ]
  },
  {
   "cell_type": "code",
   "execution_count": 0,
   "metadata": {
    "application/vnd.databricks.v1+cell": {
     "cellMetadata": {
      "byteLimit": 2048000,
      "rowLimit": 10000
     },
     "inputWidgets": {},
     "nuid": "7a9eef1a-caf0-430b-85a7-35d6e11f7b41",
     "showTitle": false,
     "title": ""
    }
   },
   "outputs": [],
   "source": [
    "content_ratings = {}\n",
    "content_ratings['5+'] = 4455\n",
    "\n",
    "print(content_ratings)"
   ]
  },
  {
   "cell_type": "code",
   "execution_count": 0,
   "metadata": {
    "application/vnd.databricks.v1+cell": {
     "cellMetadata": {
      "byteLimit": 2048000,
      "rowLimit": 10000
     },
     "inputWidgets": {},
     "nuid": "036175ae-2ab6-4d4a-80f6-56a2a4e58fe9",
     "showTitle": false,
     "title": ""
    }
   },
   "outputs": [],
   "source": [
    "#To keep adding more values, we can do like this:\n",
    "\n",
    "content_ratings = {}\n",
    "content_ratings['4+'] = 4433\n",
    "content_ratings['9+'] = 987\n",
    "content_ratings['12'] = 1155\n",
    "content_ratings['7+'] = 622\n",
    "\n",
    "print(content_ratings)"
   ]
  },
  {
   "cell_type": "markdown",
   "metadata": {
    "application/vnd.databricks.v1+cell": {
     "cellMetadata": {
      "byteLimit": 2048000,
      "rowLimit": 10000
     },
     "inputWidgets": {},
     "nuid": "0efdbb43-33fe-40b2-83c6-7f4f86ee2c22",
     "showTitle": false,
     "title": ""
    }
   },
   "source": [
    "## 4. Key-Value Pairs\n",
    "\n",
    "A <b>key </b>is a index of a dictionary value. Such as in our example `'4+': 4433`, the dictionary key is `'4+'`, and the dictionary value is `4433`. As a whole, `'4+': 4433` is a <b>key-value pair</b>.\n",
    "\n",
    "All of the data types such as strings, integers, floats, Booleans, lists, and even dictionaries can be dictionary values."
   ]
  },
  {
   "cell_type": "code",
   "execution_count": 0,
   "metadata": {
    "application/vnd.databricks.v1+cell": {
     "cellMetadata": {
      "byteLimit": 2048000,
      "rowLimit": 10000
     },
     "inputWidgets": {},
     "nuid": "7255f82b-4371-4ff1-add9-75bd65f05a07",
     "showTitle": false,
     "title": ""
    }
   },
   "outputs": [],
   "source": [
    "d_1 = { 'key_1' :'value_1',\n",
    "        'key_2' :1,\n",
    "        'key_3' :1.832,\n",
    "        'key_4' :False,\n",
    "        'key_5' :[1,2,3],\n",
    "        'key_6' :{'inside key': 100}\n",
    "}\n",
    "\n",
    "print(d_1)\n",
    "print(d_1['key_1'])\n",
    "print(d_1['key_6'])"
   ]
  },
  {
   "cell_type": "markdown",
   "metadata": {
    "application/vnd.databricks.v1+cell": {
     "cellMetadata": {
      "byteLimit": 2048000,
      "rowLimit": 10000
     },
     "inputWidgets": {},
     "nuid": "8f7d5f9a-68e6-482b-b231-cc69add00981",
     "showTitle": false,
     "title": ""
    }
   },
   "source": [
    "Different than the dictionary values, dictionary keys cannot be [mutable types](https://towardsdatascience.com/https-towardsdatascience-com-python-basics-mutable-vs-immutable-objects-829a0cb1530a) like lists and dictionaries. A TypeError will be thrown if we try to use lists or dictionaries as dictionary keys."
   ]
  },
  {
   "cell_type": "code",
   "execution_count": 0,
   "metadata": {
    "application/vnd.databricks.v1+cell": {
     "cellMetadata": {
      "byteLimit": 2048000,
      "rowLimit": 10000
     },
     "inputWidgets": {},
     "nuid": "a0570fb4-bf8a-4a3d-a87e-ba69232c4249",
     "showTitle": false,
     "title": ""
    }
   },
   "outputs": [],
   "source": [
    "d_1 = { 5 :'int',\n",
    "        '5' :'string',\n",
    "        3.5 :'float',\n",
    "        False :'Boolean'}\n",
    "print(d_1)"
   ]
  },
  {
   "cell_type": "code",
   "execution_count": 0,
   "metadata": {
    "application/vnd.databricks.v1+cell": {
     "cellMetadata": {
      "byteLimit": 2048000,
      "rowLimit": 10000
     },
     "inputWidgets": {},
     "nuid": "72b69155-231b-4d5d-b138-29ef7ad7e86b",
     "showTitle": false,
     "title": ""
    }
   },
   "outputs": [],
   "source": [
    "# A TypeError will be thrown\n",
    "d_2 = {[1,2,3]:'list'}"
   ]
  },
  {
   "cell_type": "code",
   "execution_count": 0,
   "metadata": {
    "application/vnd.databricks.v1+cell": {
     "cellMetadata": {
      "byteLimit": 2048000,
      "rowLimit": 10000
     },
     "inputWidgets": {},
     "nuid": "7eb9e809-f25c-4ef4-885a-a3c3845de0fb",
     "showTitle": false,
     "title": ""
    }
   },
   "outputs": [],
   "source": [
    "# A TypeError will be thrown\n",
    "d_2 = {{'key':'value'}:'dictionary'}"
   ]
  },
  {
   "cell_type": "markdown",
   "metadata": {
    "application/vnd.databricks.v1+cell": {
     "cellMetadata": {
      "byteLimit": 2048000,
      "rowLimit": 10000
     },
     "inputWidgets": {},
     "nuid": "208deead-e378-4abd-9a2b-d842be0524b0",
     "showTitle": false,
     "title": ""
    }
   },
   "source": [
    "### Task 1.5.4:\n",
    "\n",
    "Create the following dictionary and assign it to a variable named ``d_1``:\n",
    "\n",
    "{'key_1': 'first_value', <br>\n",
    " 'key_2': 2, <br>\n",
    " 'key_3': 3.14, <br>\n",
    " 'key_4': True, <br>\n",
    " 'key_5': [4,2,1], <br>\n",
    " 'key_6': {'inner_key' : 6} <br>\n",
    " } <br>"
   ]
  },
  {
   "cell_type": "code",
   "execution_count": 0,
   "metadata": {
    "application/vnd.databricks.v1+cell": {
     "cellMetadata": {
      "byteLimit": 2048000,
      "rowLimit": 10000
     },
     "inputWidgets": {},
     "nuid": "b3efaef1-3daa-4a32-adc7-b87048558f44",
     "showTitle": false,
     "title": ""
    }
   },
   "outputs": [],
   "source": [
    "### Start your code below:\n"
   ]
  },
  {
   "cell_type": "markdown",
   "metadata": {
    "application/vnd.databricks.v1+cell": {
     "cellMetadata": {
      "byteLimit": 2048000,
      "rowLimit": 10000
     },
     "inputWidgets": {},
     "nuid": "6de98403-b6f9-412e-b5b4-e071b0c54c5d",
     "showTitle": false,
     "title": ""
    }
   },
   "source": [
    "## 5. Counting with Dictionaries\n",
    "\n",
    "The code below will show you how to update or change the dictionary values within an existing dictionary."
   ]
  },
  {
   "cell_type": "code",
   "execution_count": 0,
   "metadata": {
    "application/vnd.databricks.v1+cell": {
     "cellMetadata": {
      "byteLimit": 2048000,
      "rowLimit": 10000
     },
     "inputWidgets": {},
     "nuid": "23cafa88-804f-4951-a78f-21100cb502b2",
     "showTitle": false,
     "title": ""
    }
   },
   "outputs": [],
   "source": [
    "content_ratings = {'4+':4433, '9+':987, '12+':1155, '17+':622}\n",
    "\n",
    "#Change the value corresponding to the dictionary key '4+' from 4433 to 1.\n",
    "content_ratings['4+'] = 1\n",
    "\n",
    "#Add 13 to the value corresponding to the dictionary key '9+'.\n",
    "content_ratings['9+'] +=13\n",
    "\n",
    "#Subtract 1128 from the value corresponding to the dictionary key '12+'.\n",
    "content_ratings['12+'] -= 1128\n",
    "\n",
    "#Change the value corresponding to the dictionary key '17+' from 622 (integer) to '511' (string).\n",
    "content_ratings['17+'] = '511'\n",
    "\n",
    "print(content_ratings)"
   ]
  },
  {
   "cell_type": "markdown",
   "metadata": {
    "application/vnd.databricks.v1+cell": {
     "cellMetadata": {
      "byteLimit": 2048000,
      "rowLimit": 10000
     },
     "inputWidgets": {},
     "nuid": "7fdcca02-9170-46a2-a902-c16716a1f3ea",
     "showTitle": false,
     "title": ""
    }
   },
   "source": [
    "**Now we can combine the updating dictionary values technique with what we already know to count how many times each unique content rating occurs in our data set.** Let's start with this list: `['4+', '4+', '4+', '9+', '9+', '12+', '17+']`, which stores a few content ratings. To count how many times each rating occurs in this short list, we should:\n",
    "- Create a dictionary where all the values (initial count) are all 0:`{'4+': 0, '9+': 0, '12+': 0, '17+': 0}`.\n",
    "- Loop through the list `['4+', '4+', '4+', '9+', '9+', '12+', '17+']`, and for each iteration:\n",
    "    - Check whether the iteration variable exists as a key in the previously created dictionary.\n",
    "    - If it exists, then increment the dictionary value at that key by 1."
   ]
  },
  {
   "cell_type": "code",
   "execution_count": 0,
   "metadata": {
    "application/vnd.databricks.v1+cell": {
     "cellMetadata": {
      "byteLimit": 2048000,
      "rowLimit": 10000
     },
     "inputWidgets": {},
     "nuid": "56e0c238-cc3d-4a86-a6ab-0f40744bae5a",
     "showTitle": false,
     "title": ""
    }
   },
   "outputs": [],
   "source": [
    "content_ratings = {'4+':0, '9+':0, '12+':0, '17+':0}\n",
    "ratings = ['4+','4+','4+','9+','9+','12+','17+']\n",
    "\n",
    "for c_rating in ratings:\n",
    "    if c_rating in content_ratings:\n",
    "        content_ratings[c_rating] += 1\n",
    "content_ratings"
   ]
  },
  {
   "cell_type": "markdown",
   "metadata": {
    "application/vnd.databricks.v1+cell": {
     "cellMetadata": {
      "byteLimit": 2048000,
      "rowLimit": 10000
     },
     "inputWidgets": {},
     "nuid": "9b875d03-3642-4134-9f2e-e0a8e49d2ac8",
     "showTitle": false,
     "title": ""
    }
   },
   "source": [
    "To get a better overview, we can print the `content_rating dictionary` inside the for loop and see the changes that it makes every time:"
   ]
  },
  {
   "cell_type": "code",
   "execution_count": 0,
   "metadata": {
    "application/vnd.databricks.v1+cell": {
     "cellMetadata": {
      "byteLimit": 2048000,
      "rowLimit": 10000
     },
     "inputWidgets": {},
     "nuid": "00ec14d7-716c-44f1-895b-849ee12a01ce",
     "showTitle": false,
     "title": ""
    }
   },
   "outputs": [],
   "source": [
    "content_ratings = {'4+':0, '9+':0, '12+':0, '17+':0}\n",
    "ratings = ['4+','4+','4+','9+','9+','12+','17+']\n",
    "\n",
    "for c_rating in ratings:\n",
    "    if c_rating in content_ratings:\n",
    "        content_ratings[c_rating] += 1\n",
    "    print(content_ratings)\n",
    "print('Final dictionary:', content_ratings)"
   ]
  },
  {
   "cell_type": "markdown",
   "metadata": {
    "application/vnd.databricks.v1+cell": {
     "cellMetadata": {
      "byteLimit": 2048000,
      "rowLimit": 10000
     },
     "inputWidgets": {},
     "nuid": "ef550832-972e-4724-8ed9-a1b522e6d383",
     "showTitle": false,
     "title": ""
    }
   },
   "source": [
    "How it's time to read in our data set (AppleStore.csv) and use the technique we learned above to count number of times each unique content rating occurs.\n",
    "\n",
    "### Task 1.5.5:\n",
    "Count the number of times each unique content rating occurs in the data set.\n",
    "1. Create a dictionary named `content_ratings` where the keys are the unique content ratings and the values are all 0 (the values of 0 are temporary at this point, and they'll be updated).\n",
    "2. Loop through the `apps_data` list of lists. Make sure you don't include the header row. For each iteration of the loop:\n",
    "    - Assign the content rating value to a variable named `c_rating`. The content rating is at index number 10 in each row.\n",
    "    - Check whether ``c_rating`` exists as a key in ``content_ratings``. If it exists, then increment the dictionary value at that key by 1 (the key is equivalent to the value stored in `c_rating`).\n",
    "3. Outside the loop, print `content_ratings` to check whether the counting worked as expected."
   ]
  },
  {
   "cell_type": "code",
   "execution_count": 0,
   "metadata": {
    "application/vnd.databricks.v1+cell": {
     "cellMetadata": {
      "byteLimit": 2048000,
      "rowLimit": 10000
     },
     "inputWidgets": {},
     "nuid": "ef93cb3a-1b15-47c0-aa71-ec2c4dd014b2",
     "showTitle": false,
     "title": ""
    }
   },
   "outputs": [],
   "source": [
    "from csv import reader\n",
    "\n",
    "with open(\"../../../../Data/AppleStore.csv\", encoding=\"utf8\") as opened_file:\n",
    "    read_file = reader(opened_file)\n",
    "    apps_data = list(read_file)\n",
    "\n",
    "### Start your code below:"
   ]
  },
  {
   "cell_type": "markdown",
   "metadata": {
    "application/vnd.databricks.v1+cell": {
     "cellMetadata": {
      "byteLimit": 2048000,
      "rowLimit": 10000
     },
     "inputWidgets": {},
     "nuid": "a47d7479-d997-4d24-8450-9d95ce4b2a74",
     "showTitle": false,
     "title": ""
    }
   },
   "source": [
    "## 6. Finding the Unique Values\n",
    "\n",
    "In the example that we worked on in the previous session, we knew each of the unique values we wanted to count beforehand. This is not always the case. For example, what should we do if we don't have enough information to create the dictionary `{'4+': 0, '9+': 0, '12+': 0, '17+': 0}`?\n",
    "\n",
    "We can update the code that we wrote for the list `['4+', '4+', '4+', '9+', '9+', '12+', '17+']` to accomodate this charateristic. \n",
    "In in addition to the `if` statement, we also added an `else` statement. If this dictionary key does not exist in our dictionary, then we create a new key-value pair in the `content_ratings` dictionary, where the dictionary key is the iteration variable (`c_rating`) and the dictionary value is 1."
   ]
  },
  {
   "cell_type": "code",
   "execution_count": 0,
   "metadata": {
    "application/vnd.databricks.v1+cell": {
     "cellMetadata": {
      "byteLimit": 2048000,
      "rowLimit": 10000
     },
     "inputWidgets": {},
     "nuid": "b982646e-f3d1-4eb0-b3f9-bbafe7644eec",
     "showTitle": false,
     "title": ""
    }
   },
   "outputs": [],
   "source": [
    "content_ratings = {}\n",
    "ratings = ['4+','4+','4+','9+','9+','12+','17+']\n",
    "\n",
    "for c_rating in ratings:\n",
    "    if c_rating in content_ratings:\n",
    "        content_ratings[c_rating] += 1\n",
    "    else:\n",
    "        content_ratings[c_rating] = 1\n",
    "content_ratings"
   ]
  },
  {
   "cell_type": "markdown",
   "metadata": {
    "application/vnd.databricks.v1+cell": {
     "cellMetadata": {
      "byteLimit": 2048000,
      "rowLimit": 10000
     },
     "inputWidgets": {},
     "nuid": "cde4f4dc-a7be-4389-a502-245bdfe68e26",
     "showTitle": false,
     "title": ""
    }
   },
   "source": [
    "To get a better overview, we can print the `content_rating` dictionary inside the for loop and see the changes that it makes every time:"
   ]
  },
  {
   "cell_type": "code",
   "execution_count": 0,
   "metadata": {
    "application/vnd.databricks.v1+cell": {
     "cellMetadata": {
      "byteLimit": 2048000,
      "rowLimit": 10000
     },
     "inputWidgets": {},
     "nuid": "3353661f-53ef-480a-b13a-e44e2e8e0fea",
     "showTitle": false,
     "title": ""
    }
   },
   "outputs": [],
   "source": [
    "content_ratings = {}\n",
    "ratings = ['4+','4+','4+','9+','9+','12+','17+']\n",
    "\n",
    "for c_rating in ratings:\n",
    "    if c_rating in content_ratings:\n",
    "        content_ratings[c_rating] += 1\n",
    "    else:\n",
    "        content_ratings[c_rating] = 1\n",
    "    print(content_ratings)\n",
    "    \n",
    "print('Final dictionary:')\n",
    "content_ratings"
   ]
  },
  {
   "cell_type": "markdown",
   "metadata": {
    "application/vnd.databricks.v1+cell": {
     "cellMetadata": {
      "byteLimit": 2048000,
      "rowLimit": 10000
     },
     "inputWidgets": {},
     "nuid": "35a46350-c1de-45f4-8ef3-49097c7a904f",
     "showTitle": false,
     "title": ""
    }
   },
   "source": [
    "### Task 1.5.6:\n",
    "Now let's apply what we have just learned in our data set:\n",
    "\n",
    "Count the number of times each unique content rating occurs in the data set while finding the unique values automatically.\n",
    "1. Create an empty dictionary named `content_ratings`.\n",
    "2. Loop through the `apps_data` list of lists (make sure you don't include the header row). For each iteration of the loop:\n",
    "    - Assign the content rating value to a variable named `c_rating`. The content rating is at index number 10.\n",
    "    - Check whether `c_rating` exists as a key in `content_ratings`.\n",
    "        - If it exists, then increment the dictionary value at that key by 1 (the key is equivalent to the value stored in `c_rating`).\n",
    "        - Else, create a new key-value pair in the dictionary, where the dictionary key is `c_rating` and the dictionary value is 3. Outside the loop, print `content_ratings` to check whether the counting worked as expected."
   ]
  },
  {
   "cell_type": "code",
   "execution_count": 0,
   "metadata": {
    "application/vnd.databricks.v1+cell": {
     "cellMetadata": {
      "byteLimit": 2048000,
      "rowLimit": 10000
     },
     "inputWidgets": {},
     "nuid": "b3b216d5-0823-4aa4-9410-a7506c381058",
     "showTitle": false,
     "title": ""
    }
   },
   "outputs": [],
   "source": [
    "from csv import reader\n",
    "\n",
    "with open('../../../../Data/AppleStore.csv', encoding = 'utf8') as opened_file:\n",
    "  read_file = reader(opened_file)\n",
    "  apps_data = list(read_file)\n",
    "\n",
    "### Start your code here:"
   ]
  },
  {
   "cell_type": "markdown",
   "metadata": {
    "application/vnd.databricks.v1+cell": {
     "cellMetadata": {
      "byteLimit": 2048000,
      "rowLimit": 10000
     },
     "inputWidgets": {},
     "nuid": "04300ce4-88e1-41bc-97df-d05e8cd7ba6b",
     "showTitle": false,
     "title": ""
    }
   },
   "source": [
    "## 7. Proportions and Percentages\n",
    "\n",
    "The following table is known as the frequency table. A frequency is the number of times a unique value occurs.\n",
    "\n",
    "|Content rating|Number of apps (frequency)|\n",
    "|--|--|\n",
    "|4+|4,433|\n",
    "|9+|987|\n",
    "|12+|1,155|\n",
    "|17+|622|\n",
    "\n",
    "4+ occurs 4,433 times, so it has a frequency of 4,433. 12+ has a frequency of 1,155. 9+ has a frequency of 987. 17+ has the lowest frequency: 622.\n",
    "\n",
    "When we analyze the data set, it might also be interesting to look at the following questions:\n",
    "- What proportion of apps has a content rating of 4+?\n",
    "- What percentage of apps has a content rating of 17+?\n",
    "- What percentage of apps has a 15-year-old download?\n",
    "\n",
    "To get the proportion of apps with a content rating of 4+, we can use the number of 4+ apps divide by the total number of apps like this:\n",
    "4,443/7,197\n",
    "\n",
    "Instead of a fraction, we can also express proportion as a decimal between 0 and 1. So the result of 4,443/7,197 will be 0.62.\n",
    "\n",
    "We can get percentage of 4+ apps by simply multiplying the proportions by 100 -- so it will be 62%."
   ]
  },
  {
   "cell_type": "markdown",
   "metadata": {
    "application/vnd.databricks.v1+cell": {
     "cellMetadata": {
      "byteLimit": 2048000,
      "rowLimit": 10000
     },
     "inputWidgets": {},
     "nuid": "2ecad7ed-d360-4a3d-9aa5-9b874f47642f",
     "showTitle": false,
     "title": ""
    }
   },
   "source": [
    "## 8. Looping over Dictionaries\n",
    "\n",
    "We can transform the frequencies to proportions or percentages individually by performing the required arithmetical operations like this:"
   ]
  },
  {
   "cell_type": "code",
   "execution_count": 0,
   "metadata": {
    "application/vnd.databricks.v1+cell": {
     "cellMetadata": {
      "byteLimit": 2048000,
      "rowLimit": 10000
     },
     "inputWidgets": {},
     "nuid": "86a38b3a-ea1e-4d72-b86f-f0c3827f65e9",
     "showTitle": false,
     "title": ""
    }
   },
   "outputs": [],
   "source": [
    "content_ratings = {'4+':4433, '9+':987, '12+':1155, '17+':622}\n",
    "total_number_of_apps = 7197\n",
    "\n",
    "content_ratings['4+']/=total_number_of_apps\n",
    "content_ratings['9+']/=total_number_of_apps\n",
    "content_ratings['12+']/=total_number_of_apps\n",
    "content_ratings['17+']/=total_number_of_apps\n",
    "\n",
    "print(content_ratings)"
   ]
  },
  {
   "cell_type": "markdown",
   "metadata": {
    "application/vnd.databricks.v1+cell": {
     "cellMetadata": {
      "byteLimit": 2048000,
      "rowLimit": 10000
     },
     "inputWidgets": {},
     "nuid": "f9844e0e-4d90-4938-9967-0eddeb6e69d0",
     "showTitle": false,
     "title": ""
    }
   },
   "source": [
    "It can be very cumbersome to update each and every `content_rating` dictionary value manually. Therefore, we can use a for loop to iterate over a dictionary."
   ]
  },
  {
   "cell_type": "code",
   "execution_count": 0,
   "metadata": {
    "application/vnd.databricks.v1+cell": {
     "cellMetadata": {
      "byteLimit": 2048000,
      "rowLimit": 10000
     },
     "inputWidgets": {},
     "nuid": "4bc1e7e7-eb65-49a9-8a97-0c078a962566",
     "showTitle": false,
     "title": ""
    }
   },
   "outputs": [],
   "source": [
    "content_ratings = {'4+':4433, '9+':987, '12+':1155, '17+':622}\n",
    "\n",
    "for iteration_variable in content_ratings:\n",
    "    print(iteration_variable)"
   ]
  },
  {
   "cell_type": "markdown",
   "metadata": {
    "application/vnd.databricks.v1+cell": {
     "cellMetadata": {
      "byteLimit": 2048000,
      "rowLimit": 10000
     },
     "inputWidgets": {},
     "nuid": "a6fee028-9807-4e0e-9037-4e2e58f209d8",
     "showTitle": false,
     "title": ""
    }
   },
   "source": [
    "We can also use the dictionary keys to access the dictionary values within the loop:"
   ]
  },
  {
   "cell_type": "code",
   "execution_count": 0,
   "metadata": {
    "application/vnd.databricks.v1+cell": {
     "cellMetadata": {
      "byteLimit": 2048000,
      "rowLimit": 10000
     },
     "inputWidgets": {},
     "nuid": "517336e3-871a-4f99-a929-e7263ef5c3b6",
     "showTitle": false,
     "title": ""
    }
   },
   "outputs": [],
   "source": [
    "content_ratings = {'4+':4433, '9+':987, '12+':1155, '17+':622}\n",
    "\n",
    "for iteration_variable in content_ratings:\n",
    "    print(iteration_variable)\n",
    "    print(content_ratings[iteration_variable])"
   ]
  },
  {
   "cell_type": "markdown",
   "metadata": {
    "application/vnd.databricks.v1+cell": {
     "cellMetadata": {
      "byteLimit": 2048000,
      "rowLimit": 10000
     },
     "inputWidgets": {},
     "nuid": "07016286-f71d-4873-a28f-74ba64ae8577",
     "showTitle": false,
     "title": ""
    }
   },
   "source": [
    "With the technique above, we can update the dictionary values within loop:"
   ]
  },
  {
   "cell_type": "code",
   "execution_count": 0,
   "metadata": {
    "application/vnd.databricks.v1+cell": {
     "cellMetadata": {
      "byteLimit": 2048000,
      "rowLimit": 10000
     },
     "inputWidgets": {},
     "nuid": "c2254368-bed2-4178-b3a1-73155c514d0d",
     "showTitle": false,
     "title": ""
    }
   },
   "outputs": [],
   "source": [
    "content_ratings = {'4+':4433, '9+':987, '12+':1155, '17+':622}\n",
    "total_number_of_apps = 7197\n",
    "\n",
    "for iteration_variable in content_ratings:\n",
    "    content_ratings[iteration_variable] /= total_number_of_apps\n",
    "print(content_ratings)"
   ]
  },
  {
   "cell_type": "markdown",
   "metadata": {
    "application/vnd.databricks.v1+cell": {
     "cellMetadata": {
      "byteLimit": 2048000,
      "rowLimit": 10000
     },
     "inputWidgets": {},
     "nuid": "d96c9b15-78ac-4764-9a10-b9bb75b5e642",
     "showTitle": false,
     "title": ""
    }
   },
   "source": [
    "## 9. Small Bonus (OPTIONAL)\n",
    "The looping through dictionaries which we used in this notebook is really used only for training purposes. In a productive and professional code, you would not want to use it. \n",
    "\n",
    "Here is a recommendation from our RBCZ colleague *Jakub Korecek*:\n",
    ">  The dictionary type has one important and very useful method to check whether a key *exists*. This method is called ``get()``.\n",
    "The useful part about this is that we can assign value if a key does not exist instead of having a KeyError. The default value is ``None``, but we can set up anything we want."
   ]
  },
  {
   "cell_type": "code",
   "execution_count": 0,
   "metadata": {
    "application/vnd.databricks.v1+cell": {
     "cellMetadata": {
      "byteLimit": 2048000,
      "rowLimit": 10000
     },
     "inputWidgets": {},
     "nuid": "2d7e1759-3a0d-45eb-95ad-a3734883172d",
     "showTitle": false,
     "title": ""
    }
   },
   "outputs": [],
   "source": [
    "test_dict = {'A':1,'B':2}\n",
    "print(test_dict.get('A'))\n",
    "print(test_dict.get('C'))\n",
    "print(test_dict.get('C','KEY DO NOT EXISTS'))"
   ]
  },
  {
   "cell_type": "markdown",
   "metadata": {
    "application/vnd.databricks.v1+cell": {
     "cellMetadata": {
      "byteLimit": 2048000,
      "rowLimit": 10000
     },
     "inputWidgets": {},
     "nuid": "25927ce5-788a-4f4b-b21e-510148d98553",
     "showTitle": false,
     "title": ""
    }
   },
   "source": [
    "> There is another way to iterate over a dictionary, which is better from performance point of view. It is done by method called ``items()``."
   ]
  },
  {
   "cell_type": "code",
   "execution_count": 0,
   "metadata": {
    "application/vnd.databricks.v1+cell": {
     "cellMetadata": {
      "byteLimit": 2048000,
      "rowLimit": 10000
     },
     "inputWidgets": {},
     "nuid": "4c8eaac7-df49-410c-8a4a-aa58529f87f7",
     "showTitle": false,
     "title": ""
    }
   },
   "outputs": [],
   "source": [
    "test_dict = {'A':1,'B':2}\n",
    "for key,value in test_dict.items():\n",
    "    print(key,value)"
   ]
  }
 ],
 "metadata": {
  "application/vnd.databricks.v1+notebook": {
   "dashboards": [],
   "language": "python",
   "notebookMetadata": {
    "pythonIndentUnit": 2
   },
   "notebookName": "5_Dictionaries_And_Frequency_Tables",
   "widgets": {}
  }
 },
 "nbformat": 4,
 "nbformat_minor": 0
}
