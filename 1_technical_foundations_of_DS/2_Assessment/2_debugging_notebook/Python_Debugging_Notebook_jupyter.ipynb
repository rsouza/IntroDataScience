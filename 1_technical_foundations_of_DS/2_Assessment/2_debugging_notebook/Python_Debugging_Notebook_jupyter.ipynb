{
 "cells": [
  {
   "cell_type": "markdown",
   "metadata": {
    "application/vnd.databricks.v1+cell": {
     "cellMetadata": {
      "byteLimit": 2048000,
      "rowLimit": 10000
     },
     "inputWidgets": {},
     "nuid": "35087ebe-6cff-4a21-a1a4-fc565b39429b",
     "showTitle": false,
     "title": ""
    }
   },
   "source": [
    "# <center> Python Debugging Notebook <center>"
   ]
  },
  {
   "cell_type": "markdown",
   "metadata": {
    "application/vnd.databricks.v1+cell": {
     "cellMetadata": {
      "byteLimit": 2048000,
      "rowLimit": 10000
     },
     "inputWidgets": {},
     "nuid": "e66cb180-b3fc-45f8-8622-f70c3123c359",
     "showTitle": false,
     "title": ""
    }
   },
   "source": [
    "### 1. Explanation \n",
    "This Jupyter notebook contains ``10 tasks`` and is meant to be a checkpoint for your Python skill (on a very basic level). \n",
    "Each task is worth ``1 point``. You must achieve at least ``6 points`` in order to pass this checkpoint. \n",
    "You may find it helpful inserting a markdown cell if you would like to explain your code or your thought process. \n",
    "\n",
    "Alongside of this notebook, you can find also other files files:\n",
    "- Python_Debugging_Notebook.ipynb, which is the file you are currently looking at\n",
    "- TestExample.png file that contains an useful example on how the feedback from the tests should be interpreted\n",
    "- 2015.csv, where data for some of the exercises is contained \n",
    "- tests.ipynb, which contains tests for checking your code - you can run these tests using the **last code cell at the bottom of this notebook**, you have to pass at least 7/10 tests"
   ]
  },
  {
   "cell_type": "markdown",
   "metadata": {
    "application/vnd.databricks.v1+cell": {
     "cellMetadata": {
      "byteLimit": 2048000,
      "rowLimit": 10000
     },
     "inputWidgets": {},
     "nuid": "41d3f01b-e654-483a-b0fd-5912340e59d6",
     "showTitle": false,
     "title": ""
    }
   },
   "source": [
    "### 2. Your Task\n",
    "- Fill out the **TO-DOs** tasks in each section of the Jupyter notebook. \n",
    "- Run all the cells and test your code at the bottom of this notebook - you should pass at least 6/10 tests\n",
    "- Finally after you passed the tests, go back to the 'Technical Foundations of Data Science' course and push your branch as described there. \n",
    "***\n",
    "\n",
    "\n",
    "Although most of the tasks should be easily solvable (considering you went through the previous notebooks) note that this is a **debugging notebook** and it is meant to make you solve and understand any errors you are getting (Google is your best friend). \n",
    "In case you have difficulties filling the TO-DOs, please contact <renato.rocha-souza@rbinternational.com> \n",
    "***"
   ]
  },
  {
   "cell_type": "code",
   "execution_count": 0,
   "metadata": {
    "application/vnd.databricks.v1+cell": {
     "cellMetadata": {
      "byteLimit": 2048000,
      "rowLimit": 10000
     },
     "inputWidgets": {},
     "nuid": "f6271714-b9eb-4a9f-8eb9-37764732a211",
     "showTitle": false,
     "title": ""
    }
   },
   "outputs": [],
   "source": [
    "# Importing paths\n",
    "# Task 1:\n",
    "import sys\n",
    "import pandas as pd \n",
    "import pathlib\n",
    "\n",
    "print(f\"Your current path is: {pathlib.Path().absolute()}\")\n",
    "\n",
    "### TO-DO:\n",
    "# - Locate/Find the 'potus.csv' file in the master folder structure and read it with the help of the read_csv() function \n",
    "#   which is loaded from the pandas library (example: pd.read_csv('my_folder/...some_path.../potus.csv'))\n",
    "# - Store the result in a variable named 'df_potus'\n",
    "\n",
    "# - Locate the 'f500.csv' file in the master folder structure and read it with the help of the pandas read_csv() function\n",
    "# - Store the result in a variable named 'df_f500'\n",
    "###\n",
    "\n",
    "# Write your solution below:\n",
    "#_____________________________________\n",
    "\n",
    "# ____________________________________"
   ]
  },
  {
   "cell_type": "code",
   "execution_count": 0,
   "metadata": {
    "application/vnd.databricks.v1+cell": {
     "cellMetadata": {
      "byteLimit": 2048000,
      "rowLimit": 10000
     },
     "inputWidgets": {},
     "nuid": "b7c9a769-7aef-4b50-a346-2fa0c6a61fc9",
     "showTitle": false,
     "title": ""
    }
   },
   "outputs": [],
   "source": [
    "# Installing libraries\n",
    "# Task 2:\n",
    "\n",
    "### TO-DO:\n",
    "# - Not all Python libraries come pre-installed in Jupyter like numpy and pandas, thus your task is \n",
    "#   to install a library called 'xgboost' using the command '!pip install' (example: !pip install superpowers)  \n",
    "# - Import the newly installed 'xgboost' with the 'import' keyword\n",
    "# - Call the 'XGBClassifier()' function from the xgboost library using the dot notation (example: pandas.read_csv())\n",
    "# - Store the called function in a variable named 'xgb'\n",
    "###\n",
    "\n",
    "# Write your solution below:\n",
    "#_____________________________________\n",
    "\n",
    "# ____________________________________"
   ]
  },
  {
   "cell_type": "code",
   "execution_count": 0,
   "metadata": {
    "application/vnd.databricks.v1+cell": {
     "cellMetadata": {
      "byteLimit": 2048000,
      "rowLimit": 10000
     },
     "inputWidgets": {},
     "nuid": "5d4d5b0f-ad30-40eb-a991-fd77462630a9",
     "showTitle": false,
     "title": ""
    }
   },
   "outputs": [],
   "source": [
    "# Writing Functions\n",
    "# Task 3:\n",
    "\n",
    "### TO-DO:\n",
    "# - Write a function named 'multiply_by_three' that takes any positive integer (incl. the zero) as a parameter \n",
    "#   and returns that integer multiplied by 3 (example: 5 ==> 15); for any negative integer the function \n",
    "#   must return 0 (example: -5 ==> 0).\n",
    "###\n",
    "\n",
    "# Write your def function below:\n",
    "#_____________________________________\n",
    "\n",
    "\n",
    "# ____________________________________\n",
    "\n",
    "#print(multiply_by_three(1))"
   ]
  },
  {
   "cell_type": "code",
   "execution_count": 0,
   "metadata": {
    "application/vnd.databricks.v1+cell": {
     "cellMetadata": {
      "byteLimit": 2048000,
      "rowLimit": 10000
     },
     "inputWidgets": {},
     "nuid": "0ad29be2-9d4b-4788-953a-50d99ece651e",
     "showTitle": false,
     "title": ""
    }
   },
   "outputs": [],
   "source": [
    "# Reading documentation and fixing bugs\n",
    "# Task 4:\n",
    "# Note: Task 1 cell must be run in order to proceed further with this task\n",
    "\n",
    "### TO-DO:\n",
    "# - Run the cell\n",
    "# - Look up any unfamiliar function on google and search for the appropriate documentation\n",
    "# - Fix the bug and remove the Country column from the list of columns (i.e. solve the KeyError) saving the result in 'df_2015_new'\n",
    "###\n",
    "\n",
    "df_2015 = pd.read_csv('../../../Data/2015.csv')                                        # Reading the data\n",
    "print(f\"Column values:\\n[{(', ').join(df_2015.columns)}]\", end='\\n\\n')   # Listing the columns\n",
    "      \n",
    "# Fix the buggy line of code below:\n",
    "#_____________________________________\n",
    "df_2015_new = df_2015.drop(\"Country\", axis=0)                            # <--- A line that tries to remove the 'Country' column\n",
    "# ____________________________________      \n",
    "      \n",
    "print(f\"New Column values:\\n[{(', ').join(df_2015_new.columns)}]\")       # Listing the columns after the 'Country' column is removed\n",
    "\n",
    "# Useful tip: You can use Shift + Tab on a function to see the inline documentation"
   ]
  },
  {
   "cell_type": "code",
   "execution_count": 0,
   "metadata": {
    "application/vnd.databricks.v1+cell": {
     "cellMetadata": {},
     "inputWidgets": {},
     "nuid": "4754df13-837e-4302-ba1a-3c871bb0494b",
     "showTitle": false,
     "title": ""
    }
   },
   "outputs": [],
   "source": [
    "# Extracting rows from a pandas dataframe\n",
    "# Task 5:\n",
    "# Note: Task 1 must be completed in order to proceed further with this task\n",
    "\n",
    "\n",
    "### TO-DO:\n",
    "# - Check the content of the first 5 rows of the already defined in task 1 'df_f500' datafranme\n",
    "# - Save the 'Walmart' row to a variable named 'row_walmart'\n",
    "###\n",
    "\n",
    "# Fix the buggy line of code below:\n",
    "#_____________________________________\n",
    "row_walmart = df_f500[\"Walmart\"]     \n",
    "# ____________________________________\n",
    "\n",
    "print(row_walmart)\n"
   ]
  },
  {
   "cell_type": "code",
   "execution_count": 0,
   "metadata": {
    "application/vnd.databricks.v1+cell": {
     "cellMetadata": {},
     "inputWidgets": {},
     "nuid": "8f98dc3c-01ba-4e4e-8953-7d3b6914404f",
     "showTitle": false,
     "title": ""
    }
   },
   "outputs": [],
   "source": [
    "# Traversal of data structures + conditional statements \n",
    "# Task 6:\n",
    "# Note: You may find useful using for loops and if conditions\n",
    "\n",
    "\n",
    "### TO-DO:\n",
    "# - For every element in variable a, b below, if the element is equal to 'Python', consider it as a 'Yes'\n",
    "# - How many 'Yes'es do we have? Store the number in a variable named 'cheeky'.\n",
    "### \n",
    "\n",
    "a = {'Python', 'R', 'SQL','Python', 'Git', 'Tableau', 'SAS', 'Python'}\n",
    "\n",
    "\n",
    "b = ['Python', 'R', 'SQL', 'Python', 'Git', 'Tableau', 'SAS', 'Python', 'Python']\n",
    "\n",
    "\n",
    "# Don't forget to define the variable 'cheeky'\n",
    "\n",
    "print(cheeky)"
   ]
  },
  {
   "cell_type": "code",
   "execution_count": 0,
   "metadata": {
    "application/vnd.databricks.v1+cell": {
     "cellMetadata": {},
     "inputWidgets": {},
     "nuid": "b8cc52b2-47e2-4054-8b7e-e09116266767",
     "showTitle": false,
     "title": ""
    }
   },
   "outputs": [],
   "source": [
    "# OOP\n",
    "# Tasks 7 & 8\n",
    "# Hint: Be careful about the data types(integers, strings, etc.) when instantiating the objects\n",
    "\n",
    "### TO-DO:\n",
    "# Task 7:\n",
    "#  - Instantiate a bank account object with the following characteristics:\n",
    "#       - account name - 'RBI', currency - 'Euro' and balance 23 000\n",
    "#       - store the object in a variable named 'bank_account_1'\n",
    "#  - Use the deposit() method to deposit 2 000 into the bank account\n",
    "#  - Print the balance of the account\n",
    "\n",
    "#  - Instantiate a bank account object with the following characteristics:\n",
    "#       - account name - 'BT', currency - 'Euro' and balance 900\n",
    "#       - store the object in a variable named 'bank_account_2'\n",
    "#  - Use the withdraw() method to withdraw 400 from the bank account\n",
    "#  - Print the balance of the account\n",
    "\n",
    "# Task 8:\n",
    "#  - Define your customized function so that it calculates the total balance of any given two accounts\n",
    "#  - Use this function to calculate the total balance of 'bank_account_1' and 'bank_account_2'\n",
    "#  - Store the results in a variable named 'total_balance'\n",
    "###\n",
    "\n",
    "class BankAccount:\n",
    "    def __init__(self, account_name, currency, balance=0):\n",
    "        self.account_name = account_name\n",
    "        self.currency = currency\n",
    "        self.balance = balance\n",
    "    \n",
    "    def rename_account_name(self, value):\n",
    "        self.balance = value\n",
    "        \n",
    "    def deposit(self, value):\n",
    "        self.balance = self.balance + value\n",
    "\n",
    "    def withdraw(self, value):\n",
    "        self.balance = self.balance - value\n",
    "\n",
    "    def get_balance(self):\n",
    "        return self.balance\n",
    "\n",
    "    \n",
    "# Your code goes below:\n",
    "#_____________________________________\n",
    "\n",
    "\n",
    "# ____________________________________\n"
   ]
  },
  {
   "cell_type": "code",
   "execution_count": 0,
   "metadata": {
    "application/vnd.databricks.v1+cell": {
     "cellMetadata": {
      "byteLimit": 2048000,
      "rowLimit": 10000
     },
     "inputWidgets": {},
     "nuid": "b4fc7aeb-fde3-442c-972b-ead61e968cd8",
     "showTitle": false,
     "title": ""
    }
   },
   "outputs": [],
   "source": [
    "# Dealing with data types (strings, integers, etc.)\n",
    "# Task 9:\n",
    "# Sometimes you may find yourself having to convert data types, this is also known as 'casting'. Always check your data types.\n",
    "# People love to store numeric and datetime values as text :( \n",
    "\n",
    "\n",
    "### TO-DO:\n",
    "# - Run the cell\n",
    "# - Find the value of the algebraic difference between the largest happiness rank and the smallest happiness rank \n",
    "#   in the '2015.csv' dataset. You may find useful using the max() and min() built-in functions.\n",
    "# - Store the result in a variable named 'diff'\n",
    "## \n",
    "\n",
    "df_2015 = pd.read_csv('../../../Data/2015.csv') \n",
    "df_2015['Happiness Rank'] = df_2015['Happiness Rank'].astype('str')\n",
    "df_2015.head()                         # Note that this loads only the first 5 rows of the dataframe\n",
    "\n",
    "# Your code goes below:\n",
    "#_____________________________________\n",
    "\n",
    "\n",
    "# ____________________________________\n",
    "\n",
    "# print(diff)"
   ]
  },
  {
   "cell_type": "code",
   "execution_count": 0,
   "metadata": {
    "application/vnd.databricks.v1+cell": {
     "cellMetadata": {},
     "inputWidgets": {},
     "nuid": "f0af17b8-d095-4ce6-aae6-3c82f4bb68a0",
     "showTitle": false,
     "title": ""
    }
   },
   "outputs": [],
   "source": [
    "# Google exploration on how to solve a task\n",
    "\n",
    "# Task 10:\n",
    "\n",
    "### TO-DO:\n",
    "# - Write some short lines of Python code below to print out the current date. \n",
    "#       Every time when the 'run' button is hit on this cell, the most up-to-date date will be generated \n",
    "#       without you manually updating the code. \n",
    "# - Subtract 5 days from the current date and store the result in a variable called 'five_days_ago'. Meaning going back 5 days before.\n",
    "#       Note that manually writing the date (example: five_days_ago=\"2021-01-01\") will result in a failed test. \n",
    "#       You have to dynamically subtract 5 days every time you run the cell. \n",
    "#       You may want to use the timedelta function to do this.\n",
    "###\n",
    "\n",
    "\n",
    "# Your code goes below:\n",
    "#_____________________________________\n",
    "\n",
    "\n",
    "# ____________________________________"
   ]
  },
  {
   "cell_type": "markdown",
   "metadata": {
    "application/vnd.databricks.v1+cell": {
     "cellMetadata": {},
     "inputWidgets": {},
     "nuid": "5d248771-24c6-4609-8b9a-4ee14553019e",
     "showTitle": false,
     "title": ""
    }
   },
   "source": [
    "### 3. Tests\n",
    "Please run the cell below (the last cell of this notebook) to test your solutions. \n",
    "Note that you will have to **run all previous cells** in order to load the variables that will be checked. \n",
    "\n",
    "You will see a message next to each task - \"ok\" means you pass the test. \n",
    " \n",
    "<img align=\"left\" width=\"300\" height=\"300\" src=\"TestExample.PNG\"> <br><br><br><br><br><br><br><br>\n",
    "\n",
    " You have to pass at least 6 out of the 10 tests. Good luck! "
   ]
  },
  {
   "cell_type": "code",
   "execution_count": 0,
   "metadata": {
    "application/vnd.databricks.v1+cell": {
     "cellMetadata": {
      "byteLimit": 2048000,
      "rowLimit": 10000
     },
     "inputWidgets": {},
     "nuid": "8a93c586-6cca-4976-8ba3-0019c973576e",
     "showTitle": false,
     "title": ""
    }
   },
   "outputs": [],
   "source": [
    "%run ./tests"
   ]
  }
 ],
 "metadata": {
  "application/vnd.databricks.v1+notebook": {
   "dashboards": [],
   "language": "python",
   "notebookMetadata": {
    "pythonIndentUnit": 4
   },
   "notebookName": "Python_Debugging_Notebook_jupyter",
   "widgets": {}
  }
 },
 "nbformat": 4,
 "nbformat_minor": 0
}
