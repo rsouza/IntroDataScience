{
 "cells": [
  {
   "cell_type": "markdown",
   "metadata": {
    "application/vnd.databricks.v1+cell": {
     "cellMetadata": {
      "byteLimit": 2048000,
      "rowLimit": 10000
     },
     "inputWidgets": {},
     "nuid": "378ec297-4299-466d-95f8-366aae77b494",
     "showTitle": false,
     "title": ""
    }
   },
   "source": [
    "# Python Debugging Notebook"
   ]
  },
  {
   "cell_type": "markdown",
   "metadata": {
    "application/vnd.databricks.v1+cell": {
     "cellMetadata": {
      "byteLimit": 2048000,
      "rowLimit": 10000
     },
     "inputWidgets": {},
     "nuid": "0b47a1f9-2839-4de1-a7ff-dafa574c2af1",
     "showTitle": false,
     "title": ""
    }
   },
   "source": [
    "### 1.Explanation \n",
    "This Jupyter notebook contains 10 tasks and is meant to be a checkpoint for your Python skill (on a very basic level). \n",
    "Each task is worth 1 point. You must achieve at least 7 points in order to pass this checkpoint. \n",
    "You may find helpful inserting a markdown cell if you feel like explaining your code or your thought process. \n",
    "\n",
    "The notebook is inside of a folder called 05_Assessment. Inside the folder there are three files:\n",
    "- Python_Debugging_Notebook.ipynb, which is the file you are currently looking at\n",
    "- TestExample.png file that contains an useful example on how the feedback from the tests should be interpreted\n",
    "- 2015.csv, where data for some of the exrcises is contained \n",
    "- tests.ipynb, which contains tests for checking your code - you can run these tests using the **last code cell at the bottom of this notebook**, you have to pass at least 7/10 tests\n",
    "\n",
    "### 2.Your Task\n",
    "- Fill out the **TODOs** tasks in each section of the Jupyter notebook. \n",
    "- Run all the cells and test your code at the bottom of this notebook - you should pass at least 7/10 tests\n",
    "- Finally after you pass the tests, go back to the \"Your turn with Git\" section and push your branch as described there. \n",
    "\n",
    "\n",
    "Although most of the tasks should be easily solveable (considering you went through the previous notebooks) note that this is a **debugging notebook** and it is meant to make you solve and understand any errors you are getting (Google is your best friend). \n",
    "In case you have difficulties filling the TODOs, contact <renato.rocha-souza@rbinternational.com>."
   ]
  },
  {
   "cell_type": "code",
   "execution_count": 0,
   "metadata": {
    "application/vnd.databricks.v1+cell": {
     "cellMetadata": {
      "byteLimit": 2048000,
      "rowLimit": 10000
     },
     "inputWidgets": {},
     "nuid": "5eb00ee2-011b-4954-b8a5-ad2079225dcf",
     "showTitle": false,
     "title": ""
    }
   },
   "outputs": [],
   "source": [
    "# Importing paths\n",
    "# Task 1:\n",
    "import sys\n",
    "import pandas as pd \n",
    "import pathlib\n",
    "import os\n",
    "from pathlib import Path\n",
    "\n",
    "\n",
    "### TODO:\n",
    "# - Locate/Find the 'potus.csv' file in the master folder structure and read it with the help of the read_csv() function \n",
    "#   which is loaded from the pandas library (example: pd.read_csv('my_folder/...some_path.../potus.csv'))\n",
    "# - Store the result in a variable named 'df_potus'\n",
    "\n",
    "# - Locate the 'f500.csv' file in the master folder structure and read it with the help of the pandas read_csv() function\n",
    "# - Store the result in a variable named 'df_f500'\n",
    "###\n",
    "\n",
    "# Write your solution below:\n",
    "#_____________________________________\n",
    "potus_path = '../../../Data/potus.csv'\n",
    "f500_path  = '../../../Data/f500.csv'\n",
    "\n",
    "df_potus = pd.read_csv(potus_path)\n",
    "df_f500 = pd.read_csv(f500_path)\n",
    "df_f500.head()\n",
    "# ____________________________________"
   ]
  },
  {
   "cell_type": "code",
   "execution_count": 0,
   "metadata": {
    "application/vnd.databricks.v1+cell": {
     "cellMetadata": {
      "byteLimit": 2048000,
      "rowLimit": 10000
     },
     "inputWidgets": {},
     "nuid": "b9df0a39-2aa2-41d5-bd5a-e0cd23f1a9b9",
     "showTitle": false,
     "title": ""
    }
   },
   "outputs": [],
   "source": [
    "# Installing libraries\n",
    "# Task 2:\n",
    "\n",
    "### TODO:\n",
    "# - Not all Python libraries come pre-installed in Jupyter like numpy and pandas, thus your task is \n",
    "#   to install a library called 'xgboost' using the command '!pip install' (example: !pip install superpowers)  \n",
    "# - Import the newly installed 'xgboost' library using the 'import' keyword\n",
    "# - Call the 'XGBClassifier()' function from the xgboost library using the dot notation (example: pandas.read_csv())\n",
    "# - Store the called function in a variable named 'xgb'\n",
    "###\n",
    "\n",
    "# Write your solution below:\n",
    "#_____________________________________\n",
    "!pip install xgboost\n",
    "import xgboost\n",
    "xgb = xgboost.XGBClassifier()\n",
    "# ____________________________________"
   ]
  },
  {
   "cell_type": "code",
   "execution_count": 0,
   "metadata": {
    "application/vnd.databricks.v1+cell": {
     "cellMetadata": {
      "byteLimit": 2048000,
      "rowLimit": 10000
     },
     "inputWidgets": {},
     "nuid": "de382c1a-7812-49a2-975a-08b95d80bff1",
     "showTitle": false,
     "title": ""
    }
   },
   "outputs": [],
   "source": [
    "# Writing Functions\n",
    "# Task 3:\n",
    "\n",
    "### TODO:\n",
    "# - Write a function named 'multiply_by_three' that takes any positive integer (incl. the zero) as a parameter \n",
    "#   and returns that integer multiplied by 3 (example: 5 ==> 15); for any negative integer the function \n",
    "#   must return 0 (example: -5 ==> 0).\n",
    "###\n",
    "\n",
    "# Write your def function below:\n",
    "#_____________________________________\n",
    "def multiply_by_three(x):\n",
    "    if( x < 0): \n",
    "        return x * 0\n",
    "    return x * 3\n",
    "\n",
    "# ____________________________________\n",
    "\n",
    "print(multiply_by_three(1))"
   ]
  },
  {
   "cell_type": "code",
   "execution_count": 0,
   "metadata": {
    "application/vnd.databricks.v1+cell": {
     "cellMetadata": {
      "byteLimit": 2048000,
      "rowLimit": 10000
     },
     "inputWidgets": {},
     "nuid": "40480e09-2f48-43a2-ba7f-fa87a446503a",
     "showTitle": false,
     "title": ""
    }
   },
   "outputs": [],
   "source": [
    "# Reading documentation and fixing bugs\n",
    "# Task 4:\n",
    "# Note: Task 1 cell must be run in order to proceed further with this task\n",
    "\n",
    "### TODO:\n",
    "# - Run the cell\n",
    "# - Read about the drop function https://pandas.pydata.org/pandas-docs/version/0.21.1/generated/pandas.Panel.drop.html \n",
    "# - Fix the bug and remove the Country column from the list of columns (i.e. solve the KeyErorr) saving the result in 'df_2015_new'\n",
    "###\n",
    "\n",
    "df_2015 = pd.read_csv('../../../Data/2015.csv')                                        # Reading the data\n",
    "print(f\"Column values:\\n[{(', ').join(df_2015.columns)}]\", end='\\n\\n')   # Listing the columns\n",
    "      \n",
    "# Fix the buggy line of code below:\n",
    "#_____________________________________\n",
    "df_2015_new = df_2015.drop(\"Country\", axis=1)                            # <--- Buggy line to remove the 'Country' column\n",
    "# ____________________________________      \n",
    "      \n",
    "print(f\"New Column values:\\n[{(', ').join(df_2015_new.columns)}]\")       # Listing the columns after the 'Country' column is removed\n",
    "\n",
    "\n",
    "# Useful tip: You can use Shift + Tab on a function to see the inline documentation"
   ]
  },
  {
   "cell_type": "code",
   "execution_count": 0,
   "metadata": {
    "application/vnd.databricks.v1+cell": {
     "cellMetadata": {
      "byteLimit": 2048000,
      "rowLimit": 10000
     },
     "inputWidgets": {},
     "nuid": "abe448c7-4861-470d-a1c3-8ad703fa8834",
     "showTitle": false,
     "title": ""
    }
   },
   "outputs": [],
   "source": [
    "# Extracting rows from a pandas dataframe\n",
    "# Task 5:\n",
    "# Note: Task 1 must be completed in order to proceed further with this task\n",
    "\n",
    "\n",
    "### TODO:\n",
    "# - Check the content of the first 5 rows of the alreaedy defined in task 1 'df_f500' datafranme\n",
    "# - Save the 'Walmart' row to a variable named 'raw_walmart'\n",
    "###\n",
    "\n",
    "# Fix the buggy line of code below:\n",
    "#_____________________________________\n",
    "row_walmart = df_f500[df_f500['company']==\"Walmart\"]    \n",
    "# ____________________________________\n",
    "\n",
    "print(row_walmart)\n"
   ]
  },
  {
   "cell_type": "code",
   "execution_count": 0,
   "metadata": {
    "application/vnd.databricks.v1+cell": {
     "cellMetadata": {
      "byteLimit": 2048000,
      "rowLimit": 10000
     },
     "inputWidgets": {},
     "nuid": "1d001263-54e3-4bbc-9975-42f50e23c0d0",
     "showTitle": false,
     "title": ""
    }
   },
   "outputs": [],
   "source": [
    "# Traversal of data structures + conditional statements \n",
    "# Task 6:\n",
    "# Note: You may find useful using for loops and if conditions\n",
    "\n",
    "\n",
    "### TODO:\n",
    "# - For every element in variable a, b below, if the element is equal to 'Python', consider it as a 'Yes'\n",
    "# - How many 'Yesses' do you have? Store the number in a variale named 'cheeky'\n",
    "### \n",
    "\n",
    "a = {'Python', 'R', 'SQL','Python', 'Git', 'Tableau', 'SAS', 'Python'}\n",
    "\n",
    "\n",
    "b = ['Python', 'R', 'SQL', 'Python', 'Git', 'Tableau', 'SAS', 'Python', 'Python']\n",
    "\n",
    "cheeky = 0\n",
    "for x in a:\n",
    "    if x == 'Python':\n",
    "        cheeky +=1\n",
    "        print(\"list a\")\n",
    "    \n",
    "for x in b:\n",
    "    if x == 'Python':\n",
    "        cheeky +=1\n",
    "        print(\"list b\")\n",
    "# Don't forget to define the variable 'cheeky' # too many tips?\n",
    "\n",
    "print(cheeky)"
   ]
  },
  {
   "cell_type": "code",
   "execution_count": 0,
   "metadata": {
    "application/vnd.databricks.v1+cell": {
     "cellMetadata": {
      "byteLimit": 2048000,
      "rowLimit": 10000
     },
     "inputWidgets": {},
     "nuid": "36992dff-e4d5-4424-99f5-db974cced124",
     "showTitle": false,
     "title": ""
    }
   },
   "outputs": [],
   "source": [
    "# Tasks 7 & 8\n",
    "# Hint: Be careful about the data types(integers, strings, etc.) when instantiating the objects\n",
    "\n",
    "### TODO:\n",
    "# Task 7:\n",
    "#  - Instantiate a bank account object with the following characteristics:\n",
    "#       - account name - 'RBI', currency - 'Euro' and balance 23 000\n",
    "#       - store the object in a variable named 'bank_account_1'\n",
    "#  - Use the deposit() method to deposit 2 000 into the bank account\n",
    "#  - Print the balance of the account\n",
    "\n",
    "#  - Instantiate a bank account object with the following characteristics:\n",
    "#       - account name - 'BT', currency - 'Euro' and balance 900\n",
    "#       - store the object in a variable named 'bank_account_2'\n",
    "#  - Use the withdraw() method to withdraw 400 from the bank account\n",
    "#  - Print the balance of the account\n",
    "\n",
    "# Task 8:\n",
    "#  - Calculate the total balance of 'bank_account_1' and 'bank_account_2'\n",
    "#  - Store the results in a variable named 'total_balance'\n",
    "###\n",
    "\n",
    "class BankAccount:\n",
    "    def __init__(self, account_name, currency, balance=0):\n",
    "        self.account_name = account_name\n",
    "        self.currency = currency\n",
    "        self.balance = balance\n",
    "    \n",
    "    def rename_account_name(self, value):\n",
    "        self.balance = value\n",
    "        \n",
    "    def deposit(self, value):\n",
    "        self.balance = self.balance + value\n",
    "\n",
    "    def withdraw(self, value):\n",
    "        self.balance = self.balance - value\n",
    "\n",
    "    def get_balance(self):\n",
    "        return self.balance\n",
    "\n",
    "    \n",
    "# Your code goes below:\n",
    "#_____________________________________\n",
    "\n",
    "def bank_add(a,b):\n",
    "    return a.get_balance() + b.get_balance()\n",
    "bank_account_1 = BankAccount('RBI', 'Euro', balance = 23000)\n",
    "bank_account_1.deposit(2000)\n",
    "print(bank_account_1.get_balance())\n",
    "\n",
    "bank_account_2 = BankAccount('BT', 'Euro', balance = 900)\n",
    "bank_account_2.withdraw(400)\n",
    "print(bank_account_2.get_balance())\n",
    "\n",
    "#total_balance = bank_account_1.get_balance() + bank_account_2.get_balance()\n",
    "total_balance = bank_add(bank_account_1, bank_account_2)\n",
    "print(total_balance)\n",
    "# ____________________________________\n"
   ]
  },
  {
   "cell_type": "code",
   "execution_count": 0,
   "metadata": {
    "application/vnd.databricks.v1+cell": {
     "cellMetadata": {
      "byteLimit": 2048000,
      "rowLimit": 10000
     },
     "inputWidgets": {},
     "nuid": "7b32f05a-d2e5-4bb6-b39d-74fbfbfd6976",
     "showTitle": false,
     "title": ""
    }
   },
   "outputs": [],
   "source": [
    "# Dealing with data types (strings, integers, etc.)\n",
    "# Task 9:\n",
    "# Sometimes you may find yourself having to convert data types, this is also known as 'casting'. Always check your data types.\n",
    "# People love to store numeric and datetime values as text :( \n",
    "\n",
    "\n",
    "### TODO:\n",
    "# - Run the cell\n",
    "# - Find the value of the algebraic difference between the largest happiness rank and the smallest happiness rank \n",
    "#   in the '2015.csv' dataset. You may find useful using the max() and min() built-in functions.\n",
    "# - Store the result in a variable named 'diff'\n",
    "## \n",
    "\n",
    "df_2015 = pd.read_csv('../../../Data/2015.csv') \n",
    "df_2015['Happiness Rank'] = df_2015['Happiness Rank'].astype('str')\n",
    "df_2015.head()                         # Note that this loads only the first 5 rows of the dataframe\n",
    "\n",
    "# Your code goes below:\n",
    "#_____________________________________\n",
    "m = max(df_2015['Happiness Rank'])\n",
    "s = min(df_2015['Happiness Rank'])\n",
    "print(m)\n",
    "print(s)\n",
    "\n",
    "\n",
    "# diff = ord(str(df_2015[df_2015['Happiness Rank'] == m]['Country'])) - ord(str(df_2015[df_2015['Happiness Rank'] == s]['Country']))\n",
    "diff = df_2015['Happiness Rank'].astype(int).max() - df_2015['Happiness Rank'].astype(int).min()\n",
    "\n",
    "# ____________________________________\n",
    "\n",
    "print(diff)\n",
    "\n",
    "type(diff)"
   ]
  },
  {
   "cell_type": "code",
   "execution_count": 0,
   "metadata": {
    "application/vnd.databricks.v1+cell": {
     "cellMetadata": {
      "byteLimit": 2048000,
      "rowLimit": 10000
     },
     "inputWidgets": {},
     "nuid": "0ebe1691-b121-4ffc-bb6b-8d9b41b94c03",
     "showTitle": false,
     "title": ""
    }
   },
   "outputs": [],
   "source": [
    "# Google expoloration on how to solve a task\n",
    "\n",
    "# Task 10:\n",
    "\n",
    "### TODO:\n",
    "# - Write some short lines of Python code below to print out the current date. \n",
    "#       Every time when the 'run' button is hit on this cell, the most up-to-date date will be generated \n",
    "#       without you manually updating the code. \n",
    "# - Subsract 5 days from the current date and store the result in a variable called 'five_days_ago'. \n",
    "#       Note that manually writing the date (example: five_days_ago=\"2021-01-01\") will result in a failed test. \n",
    "#       You have to dynamically substract 5 days every time you run the cell. \n",
    "#       You may want to use the timedelta function to do this.\n",
    "###\n",
    "\n",
    "\n",
    "#Subtract 5 days from the current date : ----> not too clear, what does it mean\n",
    "\n",
    "# Your code goes below:\n",
    "#_____________________________________\n",
    "import datetime\n",
    "print(datetime.datetime.now().date())\n",
    "from datetime import date, timedelta\n",
    "five_days_ago = date.today() - timedelta(5)\n",
    "\n",
    "# ____________________________________"
   ]
  },
  {
   "cell_type": "markdown",
   "metadata": {
    "application/vnd.databricks.v1+cell": {
     "cellMetadata": {
      "byteLimit": 2048000,
      "rowLimit": 10000
     },
     "inputWidgets": {},
     "nuid": "9698617b-becb-4300-89b7-fc3c3fa807c0",
     "showTitle": false,
     "title": ""
    }
   },
   "source": [
    "### 3.Tests\n",
    "Please run the cell below (the last cell of this notebook) to test your solutions. \n",
    "Note that you will have to **run all previous cells** in order to load the varaibles that will be checked. \n",
    "\n",
    "You will see a message next to each task - \"ok\" means you pass the test. \n",
    "You have to pass at least 7 out of the 10 tests. Good luck! "
   ]
  },
  {
   "cell_type": "code",
   "execution_count": 0,
   "metadata": {
    "application/vnd.databricks.v1+cell": {
     "cellMetadata": {
      "byteLimit": 2048000,
      "rowLimit": 10000
     },
     "inputWidgets": {},
     "nuid": "e0144aa1-6d22-48fc-8374-fcf20dd0eee2",
     "showTitle": false,
     "title": ""
    }
   },
   "outputs": [],
   "source": [
    "%run ./tests"
   ]
  }
 ],
 "metadata": {
  "application/vnd.databricks.v1+notebook": {
   "dashboards": [],
   "language": "python",
   "notebookMetadata": {
    "pythonIndentUnit": 4
   },
   "notebookName": "[Answer]Python_Debugging_Notebook_jupyter",
   "widgets": {}
  }
 },
 "nbformat": 4,
 "nbformat_minor": 0
}
