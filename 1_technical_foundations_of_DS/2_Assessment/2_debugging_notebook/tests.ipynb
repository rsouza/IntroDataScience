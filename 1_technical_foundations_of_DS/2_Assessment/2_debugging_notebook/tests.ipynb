{
 "cells": [
  {
   "cell_type": "code",
   "execution_count": 0,
   "metadata": {
    "application/vnd.databricks.v1+cell": {
     "cellMetadata": {},
     "inputWidgets": {},
     "nuid": "e31a551b-ed26-42b9-a17e-e79f20d80bb0",
     "showTitle": false,
     "title": ""
    }
   },
   "outputs": [],
   "source": [
    "import unittest\n",
    "import os\n",
    "import pathlib  \n",
    "import datetime\n",
    "\n",
    "\n",
    "def find_file(name, starting_path=pathlib.Path().absolute().parent.parent.parent):\n",
    "    \"\"\"Finds a file in the folder structure and returns the first matching path to it\"\"\"\n",
    "    for root, dirs, files in os.walk(starting_path):\n",
    "        if name in files:\n",
    "            return os.path.join(root, name)\n",
    "            \n",
    "            \n",
    "class TestNotebook(unittest.TestCase):        \n",
    "    def test_task_1(self):\n",
    "        assert(all(pd.read_csv(find_file('potus.csv')) == df_potus))\n",
    "        assert(all(pd.read_csv(find_file('f500.csv')) == df_f500))\n",
    "\n",
    "    def test_task_2(self):\n",
    "        expected_state = type(xgboost.XGBClassifier())\n",
    "        returned_state = type(xgb)\n",
    "        self.assertEqual(expected_state, returned_state)        \n",
    "        \n",
    "    def test_task_3(self): \n",
    "        self.assertEqual(multiply_by_three(5), 15, \"Your function must have a return statement and must be correct\")\n",
    "        self.assertEqual(multiply_by_three(0), 0, \"Your function must have a return statement and must be correct\")\n",
    "        self.assertEqual(multiply_by_three(-4), 0, \"Your function must return 0 for any negative integer\")\n",
    "\n",
    "    def test_task_4(self):     \n",
    "        assert(all(df_2015_new == df_2015.drop(\"Country\", axis=1)))\n",
    "    \n",
    "    def test_task_5(self):\n",
    "        assert(all(row_walmart == df_f500[df_f500['company']==\"Walmart\"]))\n",
    "    \n",
    "    def test_task_6(self):  \n",
    "        assert(cheeky == 5)\n",
    "    \n",
    "    def test_task_7(self): \n",
    "        self.assertEqual(bank_account_1.account_name.upper(), 'RBI', 'bank_account_1 account name should be RBI')\n",
    "        self.assertEqual(bank_account_1.currency.capitalize(), 'Euro', 'bank_account_1 currency should be Euro')\n",
    "        self.assertEqual(bank_account_1.balance, 25000, 'bank_account_1 balance should be 25000')\n",
    "\n",
    "        self.assertEqual(bank_account_2.account_name.upper(), 'BT', 'bank_account_2 account name should be BT')\n",
    "        self.assertEqual(bank_account_2.currency.capitalize(), 'Euro', 'bank_account_2 currency should be Euro')\n",
    "        self.assertEqual(bank_account_2.balance, 500, 'bank_account_2 balance should be 500')\n",
    "            \n",
    "    def test_task_8(self):  \n",
    "        self.assertEqual(total_balance, 25500, 'The total balance of the bank accounts should be 25500')\n",
    "\n",
    "    def test_task_9(self): \n",
    "        assert(int(diff) == 157)\n",
    "    \n",
    "    def test_task_x10(self):\n",
    "        self.assertIsInstance(five_days_ago, datetime.date)\n",
    "            \n",
    "            \n",
    "unittest.main(argv=[''], verbosity=3, exit=False)"
   ]
  }
 ],
 "metadata": {
  "application/vnd.databricks.v1+notebook": {
   "dashboards": [],
   "environmentMetadata": null,
   "language": "python",
   "notebookMetadata": {
    "pythonIndentUnit": 2
   },
   "notebookName": "tests",
   "widgets": {}
  }
 },
 "nbformat": 4,
 "nbformat_minor": 0
}
