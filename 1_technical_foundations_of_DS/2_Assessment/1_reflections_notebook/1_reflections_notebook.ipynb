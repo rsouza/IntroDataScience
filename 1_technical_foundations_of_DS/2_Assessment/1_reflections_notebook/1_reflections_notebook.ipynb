{
 "cells": [
  {
   "cell_type": "markdown",
   "metadata": {
    "application/vnd.databricks.v1+cell": {
     "cellMetadata": {},
     "inputWidgets": {},
     "nuid": "0dddb9cc-4130-4b7c-bf76-bfc4652b422c",
     "showTitle": false,
     "title": ""
    }
   },
   "source": [
    "# <center> Reflections <center>"
   ]
  },
  {
   "cell_type": "markdown",
   "metadata": {
    "application/vnd.databricks.v1+cell": {
     "cellMetadata": {},
     "inputWidgets": {},
     "nuid": "d7dfe439-6d47-4c19-a02a-a25340e6219e",
     "showTitle": false,
     "title": ""
    }
   },
   "source": [
    "### 1. Explanation \n",
    "We assume that programming in Python is for you either a completely new experience, or rather new. When we are learning something new, it might be helpful to keep a *learning diary* to which we are writing our own reflections of what are learning. One of the ways how this is helpful is that the material 'passes through' additional channel - our hands when we are writing it or typing it. This way a much larger portion of studied material can be remembered.  \n",
    "\n",
    "View this notebook as **your learning diary**. We strongly recommend to come to this notebook regularly and answer questions which regard the learning that you recently went through."
   ]
  },
  {
   "cell_type": "markdown",
   "metadata": {
    "application/vnd.databricks.v1+cell": {
     "cellMetadata": {},
     "inputWidgets": {},
     "nuid": "cadecf8d-24f8-433b-83bf-8ec054e8eb72",
     "showTitle": false,
     "title": ""
    }
   },
   "source": [
    "### 2. Your Task\n",
    "- Answer **in your own style** the questions stated in the notebook. By saying that you could use *your own style*, we are giving you **freedom**. \n",
    "- To answer a question, you could be answering completely in your own words, reusing some bits or interesting examples from the training notebooks, finding something interesting from external sources. It is really **up to you**. We are giving you this level of freedom so that your personality and natural flow is not limited in any way. Some people like to learn through visuals and high level descriptions, while others need to go into details and have a feeling of mastering entire frameworks.\n",
    "- When you submit your reflections, we will look through it. What we will look for is *whether you applied your own style in answering questions*. \n",
    "\n",
    "In case you have difficulties, please contact <renato.rocha-souza@rbinternational.com> \n",
    "***"
   ]
  },
  {
   "cell_type": "markdown",
   "metadata": {
    "application/vnd.databricks.v1+cell": {
     "cellMetadata": {},
     "inputWidgets": {},
     "nuid": "f1a28534-c0bf-445f-8bc1-ffe34a3e7eee",
     "showTitle": false,
     "title": ""
    }
   },
   "source": [
    "## 1. Starting with Python (notebook set)"
   ]
  },
  {
   "cell_type": "markdown",
   "metadata": {
    "application/vnd.databricks.v1+cell": {
     "cellMetadata": {},
     "inputWidgets": {},
     "nuid": "f82b4350-282b-4c5f-9b1d-bd0d52440b96",
     "showTitle": false,
     "title": ""
    }
   },
   "source": [
    "**Question 1**  \n",
    "It is always tricky to *start* somewhere. Why do you think we started the training notebooks explaining (1) **variables** and (2) **data types**?"
   ]
  },
  {
   "cell_type": "markdown",
   "metadata": {
    "application/vnd.databricks.v1+cell": {
     "cellMetadata": {},
     "inputWidgets": {},
     "nuid": "f2e7057b-e84f-4fe4-93a1-de112694bf31",
     "showTitle": false,
     "title": ""
    }
   },
   "source": [
    "--\n",
    "Answer here\n",
    "--"
   ]
  },
  {
   "cell_type": "markdown",
   "metadata": {
    "application/vnd.databricks.v1+cell": {
     "cellMetadata": {},
     "inputWidgets": {},
     "nuid": "a1fbcb5a-7b46-48fb-8c56-552f593e0f98",
     "showTitle": false,
     "title": ""
    }
   },
   "source": [
    "**Question 2**  \n",
    "When we get to virtual classrooms and you will be using standard libraries, which Data Scientists use daily, it will be very rare that you use **for loops**. Yet, most of the programming trianing courses (including ours) teach these very early. Why do you think is that?"
   ]
  },
  {
   "cell_type": "markdown",
   "metadata": {
    "application/vnd.databricks.v1+cell": {
     "cellMetadata": {},
     "inputWidgets": {},
     "nuid": "ee9f4012-8b87-45dc-8173-1fe4425d43fb",
     "showTitle": false,
     "title": ""
    }
   },
   "source": [
    "--\n",
    "Answer here\n",
    "--"
   ]
  },
  {
   "cell_type": "markdown",
   "metadata": {
    "application/vnd.databricks.v1+cell": {
     "cellMetadata": {},
     "inputWidgets": {},
     "nuid": "26ec6bda-bfa4-4178-a8dc-35502d524022",
     "showTitle": false,
     "title": ""
    }
   },
   "source": [
    "**Question 3**  \n",
    "Towards the end of this set of notebooks, we started to work with **functions** (pre-built or custom). We would like to stretch your imagination. Write a small piece of *pseudocode* (not an actual code, use phrases and your own words) that will solve some small problem. For example, a pseudocode that solves a problem calculating and sending a salary to an employee (taxes need to be deducted, salary sent to IBAN, IBAN read from somewhere). Try to use 'functions' in your pseudocode and of course *feel free to use your own example if you would like to*."
   ]
  },
  {
   "cell_type": "markdown",
   "metadata": {
    "application/vnd.databricks.v1+cell": {
     "cellMetadata": {},
     "inputWidgets": {},
     "nuid": "b6f53a16-795d-456c-bf69-e396725cdd73",
     "showTitle": false,
     "title": ""
    }
   },
   "source": [
    "--\n",
    "Answer here\n",
    "--"
   ]
  },
  {
   "cell_type": "markdown",
   "metadata": {
    "application/vnd.databricks.v1+cell": {
     "cellMetadata": {},
     "inputWidgets": {},
     "nuid": "d0b73df5-d006-495b-afa3-cb7726442686",
     "showTitle": false,
     "title": ""
    }
   },
   "source": [
    "## 2. Python Intermediate (notebook set)"
   ]
  },
  {
   "cell_type": "markdown",
   "metadata": {
    "application/vnd.databricks.v1+cell": {
     "cellMetadata": {},
     "inputWidgets": {},
     "nuid": "cfd64fcd-4500-4d51-82ee-6651ff2c1a4c",
     "showTitle": false,
     "title": ""
    }
   },
   "source": [
    "**Question 4**  \n",
    "We started to work with **data cleaning** in this set of notebooks. Try to think about data that RBI has, regardless of the domain (Retail, Corporates, Operations...). Stretch your imagination (or use your experience) and think about challenges that Data Scientist has to solve when cleaning datasets in these areas. You can be abstract or very concrete with your answer."
   ]
  },
  {
   "cell_type": "markdown",
   "metadata": {
    "application/vnd.databricks.v1+cell": {
     "cellMetadata": {},
     "inputWidgets": {},
     "nuid": "16b65629-72cc-4e8b-bed1-d92462195f37",
     "showTitle": false,
     "title": ""
    }
   },
   "source": [
    "--\n",
    "Answer here\n",
    "--"
   ]
  },
  {
   "cell_type": "markdown",
   "metadata": {
    "application/vnd.databricks.v1+cell": {
     "cellMetadata": {},
     "inputWidgets": {},
     "nuid": "a3d3158b-9b3d-4e13-ab6e-a8a1e92a0793",
     "showTitle": false,
     "title": ""
    }
   },
   "source": [
    "**Question 5**  \n",
    "We have touched upon **Object Oriented Programming** in this set of notebooks. Usually, this style of programming is used within software development, while Data Scientists most of the times create a linear of functional code within Jupyter notebook. Yet, OOP is relevant for Data Science use cases. Can you think of when or in which situations? Hint: this question could use some Googling. Also, you might turn to Be Around of DS where we talk about various use case stages and methods of Data Science."
   ]
  },
  {
   "cell_type": "markdown",
   "metadata": {
    "application/vnd.databricks.v1+cell": {
     "cellMetadata": {},
     "inputWidgets": {},
     "nuid": "8ae2daef-61ec-4a10-a7bc-785855489f2e",
     "showTitle": false,
     "title": ""
    }
   },
   "source": [
    "--\n",
    "Answer here\n",
    "--"
   ]
  },
  {
   "cell_type": "markdown",
   "metadata": {
    "application/vnd.databricks.v1+cell": {
     "cellMetadata": {},
     "inputWidgets": {},
     "nuid": "05a89507-cca0-40a4-8578-9ae5e67938ed",
     "showTitle": false,
     "title": ""
    }
   },
   "source": [
    "## 3. Pandas and Numpy (notebook set)"
   ]
  },
  {
   "cell_type": "markdown",
   "metadata": {
    "application/vnd.databricks.v1+cell": {
     "cellMetadata": {},
     "inputWidgets": {},
     "nuid": "211ed52a-0aaf-4fee-9cbe-f64f4f7d06a1",
     "showTitle": false,
     "title": ""
    }
   },
   "source": [
    "**Question 6**  \n",
    "We started this set of notebooks with introduction of a crucial Python library called **NumPy**. Use this question as a free-writing exercise. What are your takeaways about this library? For example you could talk about how it works, what it is focused at, what are its usages etc."
   ]
  },
  {
   "cell_type": "markdown",
   "metadata": {
    "application/vnd.databricks.v1+cell": {
     "cellMetadata": {},
     "inputWidgets": {},
     "nuid": "d9448567-ef54-47b9-a95e-945eb8f79530",
     "showTitle": false,
     "title": ""
    }
   },
   "source": [
    "--\n",
    "Answer here\n",
    "--"
   ]
  },
  {
   "cell_type": "markdown",
   "metadata": {
    "application/vnd.databricks.v1+cell": {
     "cellMetadata": {},
     "inputWidgets": {},
     "nuid": "d3c68391-1dba-439b-b6b5-b79da3e5c68e",
     "showTitle": false,
     "title": ""
    }
   },
   "source": [
    "**Question 7**  \n",
    "The library **Pandas** will be your bread and butter in upcoming weeks. Data Scientists also use it in a daily basis. In this question, we would like to encourage you to reflect on *differences and comparison of Pandas and Excel* (yes, that Excel from Microsoft). Can these two tools be used to solve the same tasks? Does one have advantages over the other? Will Pandas in the future be such a standard across industries as Excel is nowadays? Is there something that particularly grabbed your attention from Pandas?"
   ]
  },
  {
   "cell_type": "markdown",
   "metadata": {
    "application/vnd.databricks.v1+cell": {
     "cellMetadata": {},
     "inputWidgets": {},
     "nuid": "79a77dba-ca92-4fb4-a8df-5330b573b781",
     "showTitle": false,
     "title": ""
    }
   },
   "source": [
    "--\n",
    "Answer here\n",
    "--"
   ]
  }
 ],
 "metadata": {
  "application/vnd.databricks.v1+notebook": {
   "dashboards": [],
   "language": "python",
   "notebookMetadata": {},
   "notebookName": "1_reflections_notebook",
   "widgets": {}
  }
 },
 "nbformat": 4,
 "nbformat_minor": 0
}
